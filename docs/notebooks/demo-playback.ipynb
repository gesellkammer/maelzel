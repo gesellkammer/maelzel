{
 "cells": [
  {
   "cell_type": "markdown",
   "id": "500f7c38-29b1-440e-a0e9-c3335b789902",
   "metadata": {},
   "source": [
    "# Playback\n",
    "\n"
   ]
  },
  {
   "cell_type": "code",
   "execution_count": 10,
   "id": "07c764fc-c509-44f6-a7ba-f93d6db098a5",
   "metadata": {},
   "outputs": [],
   "source": [
    "from maelzel.core import *\n",
    "from pitchtools import *"
   ]
  },
  {
   "cell_type": "markdown",
   "id": "8e73dc77-33be-4162-b8b9-afb083402fa5",
   "metadata": {},
   "source": [
    "## Presets\n",
    "\n",
    "**maelzel** uses **csound** for audio synthesis in realtime and offline. Each event uses an instrument preset to synthesize the notes parameters (pitch, amplitude, etc.) and generate audio. Within an instrument preset three variables are exposed: `kfreq` (the current frequency of the event), ``kamp`` (the current amplitude of the event) and `kpitch` (the current midinote of the event, corresponds to `kfreq`). With this information the user needs to provide the audio-generating part using csound code, by assigning the audio output to the variable `aout1` for channel 1, `aout2` for channel 2, etc.\n",
    "\n",
    "There are a number of built-in Presets and it is very easy to **define new presets**. A new Preset is defined via `defPreset` or `defPresetSoundfont` (which uses a soundfont to generate the audio for each event).\n",
    "\n",
    "All events share a set of standardized parameters:\n",
    "\n",
    "* `delay`: an extra delay added to the absolute offset of the event\n",
    "* `chan`: the first channel to send output to. A stereo preset will send its output to `chan` and `chan+1`. As in csound, channels start with 1\n",
    "* `gain`: a gain factor to modify the amplitude of the event\n",
    "* `fade`: a value or a tuple (fade in, fade out), applies a declicking envelope to the sound\n",
    "* `instr`: the name of the preset to use\n",
    "* `pitchinterpol`: the interpolation used for pitches (one of `linear`, `cos`, 'freqlinear')\n",
    "* `fadeshape`: the shape of the event envelope, one of `linear`, `cos`\n",
    "* `priority`: sets the evaluation order. An event with lower priority is evaluated first, an event with a higher priority is evaluated later. A reverb should have a higher  priority than the events sending their output to this reverb\n",
    "* `position`: panning position. 0: left, 1: right\n",
    "* `sustain`: extra duration of the event\n",
    "* `transpose`: a transposition applied for playback only\n",
    "* `skip`: skip a given amount of time (in seconds) from playback\n",
    "* `end`: stop playback at the given time\n",
    "* `glisstime`: for glissando events, sets the actual time of the glissando itself. This is useful for legato playback in monphonic instruments\n",
    "* `args`: arguments passed to the preset itself"
   ]
  },
  {
   "cell_type": "code",
   "execution_count": null,
   "id": "91aac975-f884-4bc5-828c-4edd9020d9df",
   "metadata": {},
   "outputs": [],
   "source": []
  },
  {
   "cell_type": "markdown",
   "id": "b3caa28b-1b77-46a4-bc48-be49e527f50e",
   "metadata": {},
   "source": [
    "## Complex Instruments\n",
    "\n",
    "**maelzel** can be used for pure synthesis. \n",
    "\n",
    "In the following example there is an implementation of **Chownings' stria** instrument. This simple instrument uses FM together with a set of envelope tables to generate a variety of organic and complex sounds. The output of each note is routed to a post-processing instrument, which implements reverb and a set of lowpass filters to model high-frequency absortion. \n",
    "\n",
    "Since the sound of each note of the 'stria' instrument is not output directly but routed via the reverb instrument, the preset definition is created with `output=False`. This preset defines a set of envelope tables (also copied verbatim from the original implementation) which are created once and shared by all notes. In general, when using csound within maelzel or csoundengine it is recommended to avoid assigning hard-coded table numbers (or instrument numbers). For that reason the table numbers are left unspecified and kept in a global array `gi__tables`. Then the user can refer to the tables by this ad-hoc index."
   ]
  },
  {
   "cell_type": "code",
   "execution_count": 2,
   "id": "fea1678f-5c8e-44c8-9477-11c38b39269d",
   "metadata": {},
   "outputs": [
    {
     "data": {
      "text/html": [
       "Preset: <b>stria</b> - <span style=\"color:#A0A0A0\"><i>Stria FM instrument</i></span>\n",
       "<br>\n",
       "<code style=\"font-size: 90%\">  <span style=\"color:#A0A0A0;font-size:96%\">(numouts=2, numsignals=2)\n",
       "</span></code>\n",
       "<span style=\"font-size:96%\"><strong>init</strong></span>\n",
       "<span style=\"font-size:90%\"><div class=\"highlight\" style=\"background: #f8f8f8\"><pre style=\"line-height: 125%;\"><span></span><code><span style=\"color: #bbbbbb\">  </span><span style=\"color: #B00040\">i</span>_ft0<span style=\"color: #bbbbbb\"> </span><span style=\"color: #008000\">ftgenonce</span><span style=\"color: #bbbbbb\"> </span><span style=\"color: #666666\">0</span>,<span style=\"color: #bbbbbb\"> </span><span style=\"color: #666666\">0</span>,<span style=\"color: #bbbbbb\"> </span><span style=\"color: #666666\">16385</span>,<span style=\"color: #bbbbbb\"> </span><span style=\"color: #666666\">10</span>,<span style=\"color: #bbbbbb\"> </span><span style=\"color: #666666\">1</span>\n",
       "<span style=\"color: #bbbbbb\">  </span><span style=\"color: #B00040\">i</span>_ft1<span style=\"color: #bbbbbb\"> </span><span style=\"color: #008000\">ftgenonce</span><span style=\"color: #bbbbbb\"> </span><span style=\"color: #666666\">0</span>,<span style=\"color: #bbbbbb\"> </span><span style=\"color: #666666\">0</span>,<span style=\"color: #bbbbbb\"> </span><span style=\"color: #666666\">16385</span>,<span style=\"color: #bbbbbb\"> </span><span style=\"color: #666666\">7</span>,<span style=\"color: #bbbbbb\"> </span><span style=\"color: #666666\">0</span>,<span style=\"color: #bbbbbb\"> </span><span style=\"color: #666666\">4096</span>,<span style=\"color: #bbbbbb\"> </span><span style=\"color: #666666\">0.33</span>,<span style=\"color: #bbbbbb\"> </span><span style=\"color: #666666\">4096</span>,<span style=\"color: #bbbbbb\"> </span><span style=\"color: #666666\">1</span>,<span style=\"color: #bbbbbb\"> </span><span style=\"color: #666666\">4096</span>,<span style=\"color: #bbbbbb\"> </span><span style=\"color: #666666\">0.33</span>,<span style=\"color: #bbbbbb\"> </span><span style=\"color: #666666\">4096</span>,<span style=\"color: #bbbbbb\"> </span><span style=\"color: #666666\">0</span>\n",
       "<span style=\"color: #bbbbbb\">  </span><span style=\"color: #B00040\">i</span>_ft2<span style=\"color: #bbbbbb\"> </span><span style=\"color: #008000\">ftgenonce</span><span style=\"color: #bbbbbb\"> </span><span style=\"color: #666666\">0</span>,<span style=\"color: #bbbbbb\"> </span><span style=\"color: #666666\">0</span>,<span style=\"color: #bbbbbb\"> </span><span style=\"color: #666666\">16385</span>,<span style=\"color: #bbbbbb\"> </span><span style=\"color: #666666\">7</span>,<span style=\"color: #bbbbbb\"> </span><span style=\"color: #666666\">1</span>,<span style=\"color: #bbbbbb\"> </span><span style=\"color: #666666\">2094</span>,<span style=\"color: #bbbbbb\"> </span><span style=\"color: #666666\">0.543</span>,<span style=\"color: #bbbbbb\"> </span><span style=\"color: #666666\">3152</span>,<span style=\"color: #bbbbbb\"> </span><span style=\"color: #666666\">0.367</span>,<span style=\"color: #bbbbbb\"> </span><span style=\"color: #666666\">7383</span>,<span style=\"color: #bbbbbb\"> </span><span style=\"color: #666666\">0.2037</span>,<span style=\"color: #bbbbbb\"> </span><span style=\"color: #666666\">1284</span>,<span style=\"color: #bbbbbb\"> </span><span style=\"color: #666666\">0.0845</span>,<span style=\"color: #bbbbbb\"> </span><span style=\"color: #666666\">2471</span>,<span style=\"color: #bbbbbb\"> </span><span style=\"color: #666666\">0</span>\n",
       "<span style=\"color: #bbbbbb\">  </span><span style=\"color: #B00040\">i</span>_ft3<span style=\"color: #bbbbbb\"> </span><span style=\"color: #008000\">ftgenonce</span><span style=\"color: #bbbbbb\"> </span><span style=\"color: #666666\">0</span>,<span style=\"color: #bbbbbb\"> </span><span style=\"color: #666666\">0</span>,<span style=\"color: #bbbbbb\"> </span><span style=\"color: #666666\">16385</span>,<span style=\"color: #bbbbbb\"> </span><span style=\"color: #666666\">27</span>,<span style=\"color: #bbbbbb\"> </span><span style=\"color: #666666\">0</span>,<span style=\"color: #bbbbbb\"> </span><span style=\"color: #666666\">1</span>,<span style=\"color: #bbbbbb\"> </span><span style=\"color: #666666\">1500</span>,<span style=\"color: #bbbbbb\"> </span><span style=\"color: #666666\">0.4</span>,<span style=\"color: #bbbbbb\"> </span><span style=\"color: #666666\">2500</span>,<span style=\"color: #bbbbbb\"> </span><span style=\"color: #666666\">0.2</span>,<span style=\"color: #bbbbbb\"> </span><span style=\"color: #666666\">3220</span>,<span style=\"color: #bbbbbb\"> </span><span style=\"color: #666666\">0.15</span>,<span style=\"color: #bbbbbb\"> </span><span style=\"color: #666666\">4220</span>,<span style=\"color: #bbbbbb\"> </span><span style=\"color: #666666\">0.08</span>,<span style=\"color: #bbbbbb\"> </span><span style=\"color: #666666\">5464</span>,<span style=\"color: #bbbbbb\"> </span><span style=\"color: #666666\">0</span>,<span style=\"color: #bbbbbb\"> </span><span style=\"color: #666666\">16384</span>,<span style=\"color: #bbbbbb\"> </span><span style=\"color: #666666\">0</span>\n",
       "<span style=\"color: #bbbbbb\">  </span><span style=\"color: #B00040\">i</span>_ft4<span style=\"color: #bbbbbb\"> </span><span style=\"color: #008000\">ftgenonce</span><span style=\"color: #bbbbbb\"> </span><span style=\"color: #666666\">0</span>,<span style=\"color: #bbbbbb\"> </span><span style=\"color: #666666\">0</span>,<span style=\"color: #bbbbbb\"> </span><span style=\"color: #666666\">16385</span>,<span style=\"color: #bbbbbb\"> </span><span style=\"color: #666666\">7</span>,<span style=\"color: #bbbbbb\"> </span><span style=\"color: #666666\">0.6904</span>,<span style=\"color: #bbbbbb\"> </span><span style=\"color: #666666\">2525</span>,<span style=\"color: #bbbbbb\"> </span><span style=\"color: #666666\">1</span>,<span style=\"color: #bbbbbb\"> </span><span style=\"color: #666666\">3465</span>,<span style=\"color: #bbbbbb\"> </span><span style=\"color: #666666\">0.71</span>,<span style=\"color: #bbbbbb\"> </span><span style=\"color: #666666\">4004</span>,<span style=\"color: #bbbbbb\"> </span><span style=\"color: #666666\">0.255</span>,<span style=\"color: #bbbbbb\"> </span><span style=\"color: #666666\">1351</span>,<span style=\"color: #bbbbbb\"> </span><span style=\"color: #666666\">0.15</span>,<span style=\"color: #bbbbbb\"> </span><span style=\"color: #666666\">5039</span>,<span style=\"color: #bbbbbb\"> </span><span style=\"color: #666666\">0</span>\n",
       "<span style=\"color: #bbbbbb\">  </span><span style=\"color: #B00040\">i</span>_ft5<span style=\"color: #bbbbbb\"> </span><span style=\"color: #008000\">ftgenonce</span><span style=\"color: #bbbbbb\"> </span><span style=\"color: #666666\">0</span>,<span style=\"color: #bbbbbb\"> </span><span style=\"color: #666666\">0</span>,<span style=\"color: #bbbbbb\"> </span><span style=\"color: #666666\">16385</span>,<span style=\"color: #bbbbbb\"> </span><span style=\"color: #666666\">7</span>,<span style=\"color: #bbbbbb\"> </span><span style=\"color: #666666\">-0.5</span>,<span style=\"color: #bbbbbb\"> </span><span style=\"color: #666666\">3276</span>,<span style=\"color: #bbbbbb\"> </span><span style=\"color: #666666\">0.04</span>,<span style=\"color: #bbbbbb\"> </span><span style=\"color: #666666\">3276</span>,<span style=\"color: #bbbbbb\"> </span><span style=\"color: #666666\">0.08</span>,<span style=\"color: #bbbbbb\"> </span><span style=\"color: #666666\">3276</span>,<span style=\"color: #bbbbbb\"> </span><span style=\"color: #666666\">0.01</span>,<span style=\"color: #bbbbbb\"> </span><span style=\"color: #666666\">6552</span>,<span style=\"color: #bbbbbb\"> </span><span style=\"color: #666666\">0.03</span>\n",
       "<span style=\"color: #bbbbbb\">  </span><span style=\"color: #B00040\">i</span>_ft6<span style=\"color: #bbbbbb\"> </span><span style=\"color: #008000\">ftgenonce</span><span style=\"color: #bbbbbb\"> </span><span style=\"color: #666666\">0</span>,<span style=\"color: #bbbbbb\"> </span><span style=\"color: #666666\">0</span>,<span style=\"color: #bbbbbb\"> </span><span style=\"color: #666666\">16385</span>,<span style=\"color: #bbbbbb\"> </span><span style=\"color: #666666\">27</span>,<span style=\"color: #bbbbbb\"> </span><span style=\"color: #666666\">0</span>,<span style=\"color: #bbbbbb\"> </span><span style=\"color: #666666\">0</span>,<span style=\"color: #bbbbbb\"> </span><span style=\"color: #666666\">3000</span>,<span style=\"color: #bbbbbb\"> </span><span style=\"color: #666666\">0.35</span>,<span style=\"color: #bbbbbb\"> </span><span style=\"color: #666666\">3010</span>,<span style=\"color: #bbbbbb\"> </span><span style=\"color: #666666\">0.85</span>,<span style=\"color: #bbbbbb\"> </span><span style=\"color: #666666\">3100</span>,<span style=\"color: #bbbbbb\"> </span><span style=\"color: #666666\">1</span>,<span style=\"color: #bbbbbb\"> </span><span style=\"color: #666666\">6034</span>,<span style=\"color: #bbbbbb\"> </span><span style=\"color: #666666\">0.857</span>,<span style=\"color: #bbbbbb\"> </span><span style=\"color: #666666\">7415</span>,<span style=\"color: #bbbbbb\"> </span><span style=\"color: #666666\">0.44</span>,<span style=\"color: #bbbbbb\"> </span><span style=\"color: #666666\">8967</span>,<span style=\"color: #bbbbbb\"> </span><span style=\"color: #666666\">0.214</span>,<span style=\"color: #bbbbbb\"> </span><span style=\"color: #666666\">11296</span>,<span style=\"color: #bbbbbb\"> </span><span style=\"color: #666666\">0.107</span>,<span style=\"color: #bbbbbb\"> </span><span style=\"color: #666666\">16384</span>,<span style=\"color: #bbbbbb\"> </span><span style=\"color: #666666\">0</span>\n",
       "<span style=\"color: #bbbbbb\">  </span><span style=\"color: #B00040\">i</span>_ft7<span style=\"color: #bbbbbb\"> </span><span style=\"color: #008000\">ftgenonce</span><span style=\"color: #bbbbbb\"> </span><span style=\"color: #666666\">0</span>,<span style=\"color: #bbbbbb\"> </span><span style=\"color: #666666\">0</span>,<span style=\"color: #bbbbbb\"> </span><span style=\"color: #666666\">16385</span>,<span style=\"color: #bbbbbb\"> </span><span style=\"color: #666666\">27</span>,<span style=\"color: #bbbbbb\"> </span><span style=\"color: #666666\">0</span>,<span style=\"color: #bbbbbb\"> </span><span style=\"color: #666666\">0</span>,<span style=\"color: #bbbbbb\"> </span><span style=\"color: #666666\">2071</span>,<span style=\"color: #bbbbbb\"> </span><span style=\"color: #666666\">0.135</span>,<span style=\"color: #bbbbbb\"> </span><span style=\"color: #666666\">3279</span>,<span style=\"color: #bbbbbb\"> </span><span style=\"color: #666666\">0.270</span>,<span style=\"color: #bbbbbb\"> </span><span style=\"color: #666666\">3712</span>,<span style=\"color: #bbbbbb\"> </span><span style=\"color: #666666\">0.416</span>,<span style=\"color: #bbbbbb\"> </span><span style=\"color: #666666\">3889</span>,<span style=\"color: #bbbbbb\"> </span><span style=\"color: #666666\">0.827</span>,<span style=\"color: #bbbbbb\"> </span><span style=\"color: #666666\">4580</span>,<span style=\"color: #bbbbbb\"> </span><span style=\"color: #666666\">0.949</span>,<span style=\"color: #bbbbbb\"> </span><span style=\"color: #666666\">5270</span>,<span style=\"color: #bbbbbb\"> </span><span style=\"color: #666666\">0.998</span>,<span style=\"color: #bbbbbb\"> </span><span style=\"color: #666666\">6478</span>,<span style=\"color: #bbbbbb\"> </span><span style=\"color: #666666\">1</span>,<span style=\"color: #bbbbbb\"> </span><span style=\"color: #666666\">7253</span>,<span style=\"color: #bbbbbb\"> </span><span style=\"color: #666666\">0.916</span>,<span style=\"color: #bbbbbb\"> </span><span style=\"color: #666666\">8113</span>,<span style=\"color: #bbbbbb\"> </span><span style=\"color: #666666\">0.7</span>,<span style=\"color: #bbbbbb\"> </span><span style=\"color: #666666\">10093</span>,<span style=\"color: #bbbbbb\"> </span><span style=\"color: #666666\">0.365</span>,<span style=\"color: #bbbbbb\"> </span><span style=\"color: #666666\">11557</span>,<span style=\"color: #bbbbbb\"> </span><span style=\"color: #666666\">0.234</span>,<span style=\"color: #bbbbbb\"> </span><span style=\"color: #666666\">16384</span>,<span style=\"color: #bbbbbb\"> </span><span style=\"color: #666666\">0</span>\n",
       "<span style=\"color: #bbbbbb\">  </span><span style=\"color: #B00040\">i</span>_ft8<span style=\"color: #bbbbbb\"> </span><span style=\"color: #008000\">ftgenonce</span><span style=\"color: #bbbbbb\"> </span><span style=\"color: #666666\">0</span>,<span style=\"color: #bbbbbb\"> </span><span style=\"color: #666666\">0</span>,<span style=\"color: #bbbbbb\"> </span><span style=\"color: #666666\">16385</span>,<span style=\"color: #bbbbbb\"> </span><span style=\"color: #666666\">7</span>,<span style=\"color: #bbbbbb\"> </span><span style=\"color: #666666\">0</span>,<span style=\"color: #bbbbbb\"> </span><span style=\"color: #666666\">16385</span>,<span style=\"color: #bbbbbb\"> </span><span style=\"color: #666666\">1</span>\n",
       "<span style=\"color: #bbbbbb\">  </span><span style=\"color: #B00040\">gi</span>__tables[]<span style=\"color: #bbbbbb\"> </span><span style=\"color: #008000\">array</span><span style=\"color: #bbbbbb\"> </span><span style=\"color: #B00040\">i</span>_ft0,<span style=\"color: #bbbbbb\"> </span><span style=\"color: #B00040\">i</span>_ft1,<span style=\"color: #bbbbbb\"> </span><span style=\"color: #B00040\">i</span>_ft2,<span style=\"color: #bbbbbb\"> </span><span style=\"color: #B00040\">i</span>_ft3,<span style=\"color: #bbbbbb\"> </span><span style=\"color: #B00040\">i</span>_ft4,<span style=\"color: #bbbbbb\"> </span><span style=\"color: #B00040\">i</span>_ft5,<span style=\"color: #bbbbbb\"> </span><span style=\"color: #B00040\">i</span>_ft6,<span style=\"color: #bbbbbb\"> </span><span style=\"color: #B00040\">i</span>_ft7,<span style=\"color: #bbbbbb\"> </span><span style=\"color: #B00040\">i</span>_ft8\n",
       "</code></pre></div>\n",
       "</span>\n",
       "<span style=\"font-size:96%\"><strong>code</strong></span>\n",
       "<span style=\"font-size:90%\"><div class=\"highlight\" style=\"background: #f8f8f8\"><pre style=\"line-height: 125%;\"><span></span><code><span style=\"color: #bbbbbb\">  </span><span style=\"color: #666666\">|</span><span style=\"color: #B00040\">i</span>freqmodA<span style=\"color: #666666\">=1000.0</span>,<span style=\"color: #bbbbbb\"> </span><span style=\"color: #B00040\">i</span>freqmodB<span style=\"color: #666666\">=1000.0</span>,<span style=\"color: #bbbbbb\"> </span><span style=\"color: #B00040\">i</span>ndxa1<span style=\"color: #666666\">=1.0</span>,<span style=\"color: #bbbbbb\"> </span><span style=\"color: #B00040\">i</span>ndxa2<span style=\"color: #666666\">=1.0</span>,<span style=\"color: #bbbbbb\"> </span><span style=\"color: #B00040\">i</span>ndxb1<span style=\"color: #666666\">=1.0</span>,<span style=\"color: #bbbbbb\"> </span><span style=\"color: #B00040\">i</span>ndxb2<span style=\"color: #666666\">=1.0</span>,<span style=\"color: #bbbbbb\"> </span><span style=\"color: #B00040\">i</span>fn1<span style=\"color: #666666\">=2.0</span>,<span style=\"color: #bbbbbb\"> </span><span style=\"color: #B00040\">i</span>fn2<span style=\"color: #666666\">=6.0</span>,<span style=\"color: #bbbbbb\"> </span><span style=\"color: #B00040\">i</span>fn3<span style=\"color: #666666\">=2.0</span>,<span style=\"color: #bbbbbb\"> </span><span style=\"color: #B00040\">i</span>fn4<span style=\"color: #666666\">=4.0</span>,<span style=\"color: #bbbbbb\"> </span><span style=\"color: #B00040\">i</span>reverb<span style=\"color: #666666\">=0.1</span>,<span style=\"color: #bbbbbb\"> </span><span style=\"color: #B00040\">i</span>att<span style=\"color: #666666\">=0.1</span>,<span style=\"color: #bbbbbb\"> </span><span style=\"color: #B00040\">i</span>dec<span style=\"color: #666666\">=0.1</span>,<span style=\"color: #bbbbbb\"> </span><span style=\"color: #B00040\">i</span>envfactor<span style=\"color: #666666\">=4.0</span>,<span style=\"color: #bbbbbb\"> </span><span style=\"color: #B00040\">i</span>distance<span style=\"color: #666666\">=0.33</span>,<span style=\"color: #bbbbbb\"> </span><span style=\"color: #B00040\">i</span>chn1<span style=\"color: #666666\">=0.5</span>,<span style=\"color: #bbbbbb\"> </span><span style=\"color: #B00040\">i</span>chn2<span style=\"color: #666666\">=0.5</span>,<span style=\"color: #bbbbbb\"> </span><span style=\"color: #B00040\">i</span>chn3<span style=\"color: #666666\">=0.5</span>,<span style=\"color: #bbbbbb\"> </span><span style=\"color: #B00040\">i</span>chn4<span style=\"color: #666666\">=0.5|</span>\n",
       "</code></pre></div>\n",
       "</span>\n",
       "<span style=\"font-size:90%\"><div class=\"highlight\" style=\"background: #f8f8f8\"><pre style=\"line-height: 125%;\"><span></span><code><span style=\"color: #bbbbbb\">    </span><span style=\"color: #3D7B7B; font-style: italic\">; Stria FM instrument</span>\n",
       "\n",
       "<span style=\"color: #bbbbbb\">    </span><span style=\"color: #3D7B7B; font-style: italic\">; Original pfields</span>\n",
       "<span style=\"color: #bbbbbb\">    </span><span style=\"color: #3D7B7B; font-style: italic\">;  1    2    3    4     5    6     7      8      9    10 </span>\n",
       "<span style=\"color: #bbbbbb\">    </span><span style=\"color: #3D7B7B; font-style: italic\">;                 iamp  ifc  ifma  indxa1 indxa2 ifmb indxb1 </span>\n",
       "<span style=\"color: #bbbbbb\">    </span><span style=\"color: #3D7B7B; font-style: italic\">;indxb2 att  dec  %skew dis  %rev  0      0      0    0</span>\n",
       "<span style=\"color: #bbbbbb\">    </span><span style=\"color: #3D7B7B; font-style: italic\">;  0    ch1  ch2  ch3   ch4  0     0      ifn1   ifn2  ifn3 </span>\n",
       "\n",
       "<span style=\"color: #bbbbbb\">    </span><span style=\"color: #B00040\">i</span>fn1<span style=\"color: #bbbbbb\"> </span><span style=\"color: #666666\">=</span><span style=\"color: #bbbbbb\"> </span><span style=\"color: #B00040\">gi</span>__tables[<span style=\"color: #B00040\">i</span>fn1<span style=\"color: #bbbbbb\"> </span><span style=\"color: #666666\">-</span><span style=\"color: #bbbbbb\"> </span><span style=\"color: #666666\">1</span>]\n",
       "<span style=\"color: #bbbbbb\">    </span><span style=\"color: #B00040\">i</span>fn2<span style=\"color: #bbbbbb\"> </span><span style=\"color: #666666\">=</span><span style=\"color: #bbbbbb\"> </span><span style=\"color: #B00040\">gi</span>__tables[<span style=\"color: #B00040\">i</span>fn2<span style=\"color: #bbbbbb\"> </span><span style=\"color: #666666\">-</span><span style=\"color: #bbbbbb\"> </span><span style=\"color: #666666\">1</span>]\n",
       "<span style=\"color: #bbbbbb\">    </span><span style=\"color: #B00040\">i</span>fn3<span style=\"color: #bbbbbb\"> </span><span style=\"color: #666666\">=</span><span style=\"color: #bbbbbb\"> </span><span style=\"color: #B00040\">gi</span>__tables[<span style=\"color: #B00040\">i</span>fn3<span style=\"color: #bbbbbb\"> </span><span style=\"color: #666666\">-</span><span style=\"color: #bbbbbb\"> </span><span style=\"color: #666666\">1</span>]\n",
       "<span style=\"color: #bbbbbb\">    </span><span style=\"color: #B00040\">i</span>fn4<span style=\"color: #bbbbbb\"> </span><span style=\"color: #666666\">=</span><span style=\"color: #bbbbbb\"> </span><span style=\"color: #B00040\">gi</span>__tables[<span style=\"color: #B00040\">i</span>fn4<span style=\"color: #bbbbbb\"> </span><span style=\"color: #666666\">-</span><span style=\"color: #bbbbbb\"> </span><span style=\"color: #666666\">1</span>]\n",
       "\n",
       "<span style=\"color: #bbbbbb\">    </span><span style=\"color: #B00040\">i</span>difa<span style=\"color: #bbbbbb\"> </span><span style=\"color: #666666\">=</span><span style=\"color: #bbbbbb\"> </span><span style=\"color: #B00040\">i</span>ndxa2<span style=\"color: #bbbbbb\"> </span><span style=\"color: #666666\">-</span><span style=\"color: #bbbbbb\"> </span><span style=\"color: #B00040\">i</span>ndxa1\n",
       "<span style=\"color: #bbbbbb\">    </span><span style=\"color: #B00040\">i</span>difb<span style=\"color: #bbbbbb\"> </span><span style=\"color: #666666\">=</span><span style=\"color: #bbbbbb\"> </span><span style=\"color: #B00040\">i</span>ndxb2<span style=\"color: #bbbbbb\"> </span><span style=\"color: #666666\">-</span><span style=\"color: #bbbbbb\"> </span><span style=\"color: #B00040\">i</span>ndxb1<span style=\"color: #bbbbbb\">                 </span>\n",
       "<span style=\"color: #bbbbbb\">    </span><span style=\"color: #B00040\">i</span>mag<span style=\"color: #bbbbbb\"> </span><span style=\"color: #666666\">=</span><span style=\"color: #bbbbbb\"> </span><span style=\"color: #666666\">1</span><span style=\"color: #bbbbbb\">                       </span><span style=\"color: #3D7B7B; font-style: italic\">; fun to test</span>\n",
       "<span style=\"color: #bbbbbb\">    </span><span style=\"color: #B00040\">i</span>factor<span style=\"color: #bbbbbb\"> </span><span style=\"color: #666666\">=</span><span style=\"color: #bbbbbb\"> </span>(<span style=\"color: #19177C\">p3</span><span style=\"color: #666666\">-</span>(<span style=\"color: #B00040\">i</span>att<span style=\"color: #666666\">+</span><span style=\"color: #B00040\">i</span>dec))<span style=\"color: #666666\">/2</span>\n",
       "\n",
       "<span style=\"color: #bbbbbb\">    </span><span style=\"color: #3D7B7B; font-style: italic\">;  generate global envelop pointer</span>\n",
       "<span style=\"color: #bbbbbb\">    </span><span style=\"color: #B00040\">k</span>ndx<span style=\"color: #bbbbbb\"> </span><span style=\"color: #008000\">linseg</span><span style=\"color: #bbbbbb\"> </span><span style=\"color: #666666\">0</span>,<span style=\"color: #bbbbbb\"> </span><span style=\"color: #B00040\">i</span>att,<span style=\"color: #bbbbbb\"> </span><span style=\"color: #666666\">0.25</span>,<span style=\"color: #bbbbbb\"> </span><span style=\"color: #B00040\">i</span>factor,<span style=\"color: #bbbbbb\"> </span><span style=\"color: #666666\">0.5</span>,<span style=\"color: #bbbbbb\"> </span><span style=\"color: #B00040\">i</span>factor,<span style=\"color: #bbbbbb\"> </span><span style=\"color: #666666\">0.75</span>,<span style=\"color: #bbbbbb\"> </span><span style=\"color: #B00040\">i</span>dec,<span style=\"color: #bbbbbb\"> </span><span style=\"color: #666666\">1</span>\n",
       "\n",
       "<span style=\"color: #bbbbbb\">    </span><span style=\"color: #3D7B7B; font-style: italic\">; generate first envelop (env)</span>\n",
       "<span style=\"color: #bbbbbb\">    </span><span style=\"color: #B00040\">k</span>env<span style=\"color: #bbbbbb\"> </span><span style=\"color: #666666\">=</span><span style=\"color: #bbbbbb\"> </span><span style=\"color: #008000\">table</span>:<span style=\"color: #B00040\">k</span>(<span style=\"color: #B00040\">k</span>ndx,<span style=\"color: #bbbbbb\"> </span><span style=\"color: #B00040\">i</span>fn1,<span style=\"color: #bbbbbb\"> </span><span style=\"color: #666666\">1</span>)<span style=\"color: #bbbbbb\"> </span><span style=\"color: #666666\">*</span><span style=\"color: #bbbbbb\"> </span><span style=\"color: #B00040\">k</span>amp\n",
       "\n",
       "<span style=\"color: #bbbbbb\">    </span><span style=\"color: #3D7B7B; font-style: italic\">; generate second envelop (skew)</span>\n",
       "<span style=\"color: #bbbbbb\">    </span><span style=\"color: #B00040\">k</span>skew<span style=\"color: #bbbbbb\"> </span><span style=\"color: #666666\">=</span><span style=\"color: #bbbbbb\"> </span><span style=\"color: #666666\">1</span><span style=\"color: #bbbbbb\"> </span><span style=\"color: #666666\">+</span><span style=\"color: #bbbbbb\"> </span><span style=\"color: #008000\">table</span>:<span style=\"color: #B00040\">k</span>(<span style=\"color: #B00040\">k</span>ndx,<span style=\"color: #bbbbbb\"> </span><span style=\"color: #B00040\">i</span>fn2,<span style=\"color: #bbbbbb\"> </span><span style=\"color: #666666\">1</span>)<span style=\"color: #bbbbbb\"> </span><span style=\"color: #666666\">*</span><span style=\"color: #bbbbbb\"> </span><span style=\"color: #B00040\">i</span>envfactor\n",
       "\n",
       "<span style=\"color: #bbbbbb\">    </span><span style=\"color: #3D7B7B; font-style: italic\">; generate third envelop (fda)</span>\n",
       "<span style=\"color: #bbbbbb\">    </span><span style=\"color: #B00040\">k</span>fda<span style=\"color: #bbbbbb\"> </span><span style=\"color: #666666\">=</span><span style=\"color: #bbbbbb\"> </span><span style=\"color: #008000\">table</span>:<span style=\"color: #B00040\">k</span>(<span style=\"color: #B00040\">k</span>ndx,<span style=\"color: #bbbbbb\"> </span><span style=\"color: #B00040\">i</span>fn3,<span style=\"color: #bbbbbb\"> </span><span style=\"color: #666666\">1</span>)<span style=\"color: #bbbbbb\"> </span><span style=\"color: #666666\">*</span><span style=\"color: #bbbbbb\"> </span>(<span style=\"color: #B00040\">i</span>freqmodA<span style=\"color: #bbbbbb\"> </span><span style=\"color: #666666\">*</span><span style=\"color: #bbbbbb\"> </span><span style=\"color: #B00040\">i</span>difa<span style=\"color: #bbbbbb\"> </span><span style=\"color: #666666\">*</span><span style=\"color: #bbbbbb\"> </span><span style=\"color: #B00040\">i</span>mag)\n",
       "\n",
       "<span style=\"color: #bbbbbb\">    </span><span style=\"color: #3D7B7B; font-style: italic\">; generate fourth envelop(fdb)</span>\n",
       "<span style=\"color: #bbbbbb\">    </span><span style=\"color: #B00040\">k</span>fdb<span style=\"color: #bbbbbb\"> </span><span style=\"color: #666666\">=</span><span style=\"color: #bbbbbb\"> </span><span style=\"color: #008000\">table</span>:<span style=\"color: #B00040\">k</span>(<span style=\"color: #B00040\">k</span>ndx,<span style=\"color: #bbbbbb\"> </span><span style=\"color: #B00040\">i</span>fn4,<span style=\"color: #bbbbbb\"> </span><span style=\"color: #666666\">1</span>)<span style=\"color: #bbbbbb\"> </span><span style=\"color: #666666\">*</span><span style=\"color: #bbbbbb\"> </span>(<span style=\"color: #B00040\">i</span>freqmodB<span style=\"color: #bbbbbb\"> </span><span style=\"color: #666666\">*</span><span style=\"color: #bbbbbb\"> </span><span style=\"color: #B00040\">i</span>difb<span style=\"color: #bbbbbb\"> </span><span style=\"color: #666666\">*</span><span style=\"color: #bbbbbb\"> </span><span style=\"color: #B00040\">i</span>mag)\n",
       "\n",
       "<span style=\"color: #bbbbbb\">    </span><span style=\"color: #B00040\">a</span>moda<span style=\"color: #bbbbbb\">     </span><span style=\"color: #008000\">oscil</span><span style=\"color: #bbbbbb\">       </span>(<span style=\"color: #B00040\">i</span>freqmodA<span style=\"color: #666666\">*</span><span style=\"color: #B00040\">i</span>ndxa1<span style=\"color: #666666\">*</span><span style=\"color: #B00040\">i</span>mag)<span style=\"color: #666666\">+</span><span style=\"color: #B00040\">k</span>fda,<span style=\"color: #bbbbbb\"> </span>(<span style=\"color: #B00040\">i</span>freqmodA<span style=\"color: #666666\">*</span><span style=\"color: #B00040\">i</span>mag)<span style=\"color: #666666\">*</span><span style=\"color: #B00040\">k</span>skew\n",
       "<span style=\"color: #bbbbbb\">    </span><span style=\"color: #B00040\">a</span>modb<span style=\"color: #bbbbbb\">     </span><span style=\"color: #008000\">oscil</span><span style=\"color: #bbbbbb\">       </span>(<span style=\"color: #B00040\">i</span>freqmodA<span style=\"color: #666666\">*</span><span style=\"color: #B00040\">i</span>ndxb1<span style=\"color: #666666\">*</span><span style=\"color: #B00040\">i</span>mag)<span style=\"color: #666666\">+</span><span style=\"color: #B00040\">k</span>fdb,<span style=\"color: #bbbbbb\"> </span>(<span style=\"color: #B00040\">i</span>freqmodB<span style=\"color: #666666\">*</span><span style=\"color: #B00040\">i</span>mag)<span style=\"color: #666666\">*</span><span style=\"color: #B00040\">k</span>skew\n",
       "<span style=\"color: #bbbbbb\">    </span><span style=\"color: #B00040\">a</span>phase<span style=\"color: #bbbbbb\"> </span><span style=\"color: #666666\">=</span><span style=\"color: #bbbbbb\"> </span>((<span style=\"color: #B00040\">k</span>freq<span style=\"color: #666666\">*</span><span style=\"color: #B00040\">i</span>mag)<span style=\"color: #666666\">*</span><span style=\"color: #B00040\">k</span>skew)<span style=\"color: #666666\">+</span><span style=\"color: #B00040\">a</span>moda<span style=\"color: #666666\">+</span><span style=\"color: #B00040\">a</span>modb\n",
       "<span style=\"color: #bbbbbb\">    </span><span style=\"color: #B00040\">a</span>sig<span style=\"color: #bbbbbb\">      </span><span style=\"color: #008000\">oscil</span><span style=\"color: #bbbbbb\">       </span><span style=\"color: #B00040\">k</span>env,<span style=\"color: #bbbbbb\"> </span><span style=\"color: #B00040\">a</span>phase\n",
       "\n",
       "<span style=\"color: #bbbbbb\">    </span><span style=\"color: #B00040\">ga</span>__reverb<span style=\"color: #bbbbbb\"> </span><span style=\"color: #666666\">+=</span><span style=\"color: #bbbbbb\"> </span>(<span style=\"color: #B00040\">a</span>sig<span style=\"color: #666666\">*</span><span style=\"color: #B00040\">i</span>reverb)<span style=\"color: #bbbbbb\">   </span><span style=\"color: #3D7B7B; font-style: italic\">; sends reverb signal</span>\n",
       "<span style=\"color: #bbbbbb\">    </span><span style=\"color: #B00040\">a</span>sig<span style=\"color: #bbbbbb\"> </span><span style=\"color: #666666\">*=</span><span style=\"color: #bbbbbb\"> </span><span style=\"color: #B00040\">i</span>distance<span style=\"color: #bbbbbb\">              </span><span style=\"color: #3D7B7B; font-style: italic\">; adjust distance</span>\n",
       "\n",
       "<span style=\"color: #bbbbbb\">    </span><span style=\"color: #B00040\">a</span>out1<span style=\"color: #bbbbbb\"> </span><span style=\"color: #666666\">=</span><span style=\"color: #bbbbbb\"> </span><span style=\"color: #B00040\">a</span>sig<span style=\"color: #bbbbbb\"> </span><span style=\"color: #666666\">*</span><span style=\"color: #bbbbbb\"> </span><span style=\"color: #B00040\">i</span>chn1<span style=\"color: #bbbbbb\"> </span><span style=\"color: #666666\">+</span><span style=\"color: #bbbbbb\"> </span><span style=\"color: #B00040\">a</span>sig<span style=\"color: #bbbbbb\"> </span><span style=\"color: #666666\">*</span><span style=\"color: #bbbbbb\"> </span><span style=\"color: #B00040\">i</span>chn3\n",
       "<span style=\"color: #bbbbbb\">    </span><span style=\"color: #B00040\">a</span>out2<span style=\"color: #bbbbbb\"> </span><span style=\"color: #666666\">=</span><span style=\"color: #bbbbbb\"> </span><span style=\"color: #B00040\">a</span>sig<span style=\"color: #bbbbbb\"> </span><span style=\"color: #666666\">*</span><span style=\"color: #bbbbbb\"> </span><span style=\"color: #B00040\">i</span>chn2<span style=\"color: #bbbbbb\"> </span><span style=\"color: #666666\">+</span><span style=\"color: #bbbbbb\"> </span><span style=\"color: #B00040\">a</span>sig<span style=\"color: #bbbbbb\"> </span><span style=\"color: #666666\">*</span><span style=\"color: #bbbbbb\"> </span><span style=\"color: #B00040\">i</span>chn4\n",
       "\n",
       "<span style=\"color: #bbbbbb\">    </span><span style=\"color: #B00040\">ga</span>__channel1<span style=\"color: #bbbbbb\"> </span><span style=\"color: #666666\">+=</span><span style=\"color: #bbbbbb\"> </span><span style=\"color: #B00040\">a</span>out1<span style=\"color: #bbbbbb\">          </span><span style=\"color: #3D7B7B; font-style: italic\">; send to master buses</span>\n",
       "<span style=\"color: #bbbbbb\">    </span><span style=\"color: #B00040\">ga</span>__channel2<span style=\"color: #bbbbbb\"> </span><span style=\"color: #666666\">+=</span><span style=\"color: #bbbbbb\"> </span><span style=\"color: #B00040\">a</span>out2\n",
       "</code></pre></div>\n",
       "</span>"
      ],
      "text/plain": [
       "Preset: stria  \n",
       "    routing=False\n",
       "  init: i_ft0 ftgenonce 0, 0, 16385, 10, 1\n",
       "i_ft1 ftgenonce 0, 0, 16385, 7, 0, 4096, 0.33, 4096, 1, 4096, 0.33, 4096, 0\n",
       "i_ft2 ftgenonce 0, 0, 16385, 7, 1, 2094, 0.543, 3152, 0.367, 7383, 0.2037, 1284, 0.0845, 2471, 0\n",
       "i_ft3 ftgenonce 0, 0, 16385, 27, 0, 1, 1500, 0.4, 2500, 0.2, 3220, 0.15, 4220, 0.08, 5464, 0, 16384, 0\n",
       "i_ft4 ftgenonce 0, 0, 16385, 7, 0.6904, 2525, 1, 3465, 0.71, 4004, 0.255, 1351, 0.15, 5039, 0\n",
       "i_ft5 ftgenonce 0, 0, 16385, 7, -0.5, 3276, 0.04, 3276, 0.08, 3276, 0.01, 6552, 0.03\n",
       "i_ft6 ftgenonce 0, 0, 16385, 27, 0, 0, 3000, 0.35, 3010, 0.85, 3100, 1, 6034, 0.857, 7415, 0.44, 8967, 0.214, 11296, 0.107, 16384, 0\n",
       "i_ft7 ftgenonce 0, 0, 16385, 27, 0, 0, 2071, 0.135, 3279, 0.270, 3712, 0.416, 3889, 0.827, 4580, 0.949, 5270, 0.998, 6478, 1, 7253, 0.916, 8113, 0.7, 10093, 0.365, 11557, 0.234, 16384, 0\n",
       "i_ft8 ftgenonce 0, 0, 16385, 7, 0, 16385, 1\n",
       "gi__tables[] array i_ft0, i_ft1, i_ft2, i_ft3, i_ft4, i_ft5, i_ft6, i_ft7, i_ft8\n",
       "  |ifreqmodA=1000.0, ifreqmodB=1000.0, indxa1=1.0, indxa2=1.0, indxb1=1.0, indxb2=1.0, ifn1=2.0, ifn2=6.0, ifn3=2.0, ifn4=4.0, ireverb=0.1, iatt=0.1, idec=0.1, ienvfactor=4.0, idistance=0.33, ichn1=0.5, ichn2=0.5, ichn3=0.5, ichn4=0.5|\n",
       "    ; Stria FM instrument\n",
       "\n",
       "    ; Original pfields\n",
       "    ;  1    2    3    4     5    6     7      8      9    10 \n",
       "    ;                 iamp  ifc  ifma  indxa1 indxa2 ifmb indxb1 \n",
       "    ;indxb2 att  dec  %skew dis  %rev  0      0      0    0\n",
       "    ;  0    ch1  ch2  ch3   ch4  0     0      ifn1   ifn2  ifn3 \n",
       "\n",
       "    ifn1 = gi__tables[ifn1 - 1]\n",
       "    ifn2 = gi__tables[ifn2 - 1]\n",
       "    ifn3 = gi__tables[ifn3 - 1]\n",
       "    ifn4 = gi__tables[ifn4 - 1]\n",
       "\n",
       "    idifa = indxa2 - indxa1\n",
       "    idifb = indxb2 - indxb1                 \n",
       "    imag = 1                       ; fun to test\n",
       "    ifactor = (p3-(iatt+idec))/2\n",
       "\n",
       "    ;  generate global envelop pointer\n",
       "    kndx linseg 0, iatt, 0.25, ifactor, 0.5, ifactor, 0.75, idec, 1\n",
       "\n",
       "    ; generate first envelop (env)\n",
       "    kenv = table:k(kndx, ifn1, 1) * kamp\n",
       "\n",
       "    ; generate second envelop (skew)\n",
       "    kskew = 1 + table:k(kndx, ifn2, 1) * ienvfactor\n",
       "\n",
       "    ; generate third envelop (fda)\n",
       "    kfda = table:k(kndx, ifn3, 1) * (ifreqmodA * idifa * imag)\n",
       "\n",
       "    ; generate fourth envelop(fdb)\n",
       "    kfdb = table:k(kndx, ifn4, 1) * (ifreqmodB * idifb * imag)\n",
       "\n",
       "    amoda     oscil       (ifreqmodA*indxa1*imag)+kfda, (ifreqmodA*imag)*kskew\n",
       "    amodb     oscil       (ifreqmodA*indxb1*imag)+kfdb, (ifreqmodB*imag)*kskew\n",
       "    aphase = ((kfreq*imag)*kskew)+amoda+amodb\n",
       "    asig      oscil       kenv, aphase\n",
       "\n",
       "    ga__reverb += (asig*ireverb)   ; sends reverb signal\n",
       "    asig *= idistance              ; adjust distance\n",
       "\n",
       "    aout1 = asig * ichn1 + asig * ichn3\n",
       "    aout2 = asig * ichn2 + asig * ichn4\n",
       "\n",
       "    ga__channel1 += aout1          ; send to master buses\n",
       "    ga__channel2 += aout2"
      ]
     },
     "execution_count": 2,
     "metadata": {},
     "output_type": "execute_result"
    }
   ],
   "source": [
    "defPreset(\"stria\", r'''\n",
    "| ifreqmodA=1000, ifreqmodB=1000, indxa1=1, indxa2=1, indxb1=1, indxb2=1, ifn1=2, ifn2=6, ifn3=2, ifn4=4, ireverb=0.1, iatt=0.1, idec=0.1, ienvfactor=4, idistance=0.33, ichn1=0.5, ichn2=0.5, ichn3=0.5, ichn4=0.5|\n",
    "  ; Stria FM instrument\n",
    "  \n",
    "  ; Original pfields\n",
    "  ;  1    2    3    4     5    6     7      8      9    10 \n",
    "  ;                 iamp  ifc  ifma  indxa1 indxa2 ifmb indxb1 \n",
    "  ;indxb2 att  dec  %skew dis  %rev  0      0      0    0\n",
    "  ;  0    ch1  ch2  ch3   ch4  0     0      ifn1   ifn2  ifn3 \n",
    "  \n",
    "  ifn1 = gi__tables[ifn1 - 1]\n",
    "  ifn2 = gi__tables[ifn2 - 1]\n",
    "  ifn3 = gi__tables[ifn3 - 1]\n",
    "  ifn4 = gi__tables[ifn4 - 1]\n",
    "\n",
    "  idifa = indxa2 - indxa1\n",
    "  idifb = indxb2 - indxb1                 \n",
    "  imag = 1                       ; fun to test\n",
    "  ifactor = (p3-(iatt+idec))/2\n",
    "\n",
    "  ;  generate global envelop pointer\n",
    "  kndx linseg 0, iatt, 0.25, ifactor, 0.5, ifactor, 0.75, idec, 1\n",
    "  \n",
    "  ; generate first envelop (env)\n",
    "  kenv = table:k(kndx, ifn1, 1) * kamp\n",
    "  \n",
    "  ; generate second envelop (skew)\n",
    "  kskew = 1 + table:k(kndx, ifn2, 1) * ienvfactor\n",
    "  \n",
    "  ; generate third envelop (fda)\n",
    "  kfda = table:k(kndx, ifn3, 1) * (ifreqmodA * idifa * imag)\n",
    "  \n",
    "  ; generate fourth envelop(fdb)\n",
    "  kfdb = table:k(kndx, ifn4, 1) * (ifreqmodB * idifb * imag)\n",
    "\n",
    "  amoda     oscil       (ifreqmodA*indxa1*imag)+kfda, (ifreqmodA*imag)*kskew\n",
    "  amodb     oscil       (ifreqmodA*indxb1*imag)+kfdb, (ifreqmodB*imag)*kskew\n",
    "  aphase = ((kfreq*imag)*kskew)+amoda+amodb\n",
    "  asig      oscil       kenv, aphase\n",
    "\n",
    "  ga__reverb += (asig*ireverb)   ; sends reverb signal\n",
    "  asig *= idistance              ; adjust distance\n",
    "\n",
    "  aout1 = asig * ichn1 + asig * ichn3\n",
    "  aout2 = asig * ichn2 + asig * ichn4\n",
    "\n",
    "  ga__channel1 += aout1          ; send to master buses\n",
    "  ga__channel2 += aout2\n",
    "''', init=r'''\n",
    "i_ft0 ftgenonce 0, 0, 16385, 10, 1\n",
    "i_ft1 ftgenonce 0, 0, 16385, 7, 0, 4096, 0.33, 4096, 1, 4096, 0.33, 4096, 0\n",
    "i_ft2 ftgenonce 0, 0, 16385, 7, 1, 2094, 0.543, 3152, 0.367, 7383, 0.2037, 1284, 0.0845, 2471, 0\n",
    "i_ft3 ftgenonce 0, 0, 16385, 27, 0, 1, 1500, 0.4, 2500, 0.2, 3220, 0.15, 4220, 0.08, 5464, 0, 16384, 0\n",
    "i_ft4 ftgenonce 0, 0, 16385, 7, 0.6904, 2525, 1, 3465, 0.71, 4004, 0.255, 1351, 0.15, 5039, 0\n",
    "i_ft5 ftgenonce 0, 0, 16385, 7, -0.5, 3276, 0.04, 3276, 0.08, 3276, 0.01, 6552, 0.03\n",
    "i_ft6 ftgenonce 0, 0, 16385, 27, 0, 0, 3000, 0.35, 3010, 0.85, 3100, 1, 6034, 0.857, 7415, 0.44, 8967, 0.214, 11296, 0.107, 16384, 0\n",
    "i_ft7 ftgenonce 0, 0, 16385, 27, 0, 0, 2071, 0.135, 3279, 0.270, 3712, 0.416, 3889, 0.827, 4580, 0.949, 5270, 0.998, 6478, 1, 7253, 0.916, 8113, 0.7, 10093, 0.365, 11557, 0.234, 16384, 0\n",
    "i_ft8 ftgenonce 0, 0, 16385, 7, 0, 16385, 1\n",
    "gi__tables[] array i_ft0, i_ft1, i_ft2, i_ft3, i_ft4, i_ft5, i_ft6, i_ft7, i_ft8\n",
    "\n",
    "''', output=False)"
   ]
  },
  {
   "cell_type": "markdown",
   "id": "94f8bd0c-66ab-45ee-9b26-d993290d70fc",
   "metadata": {},
   "source": [
    "#### Reverb instrument\n",
    "\n",
    "Verbatim copy of Chownings' reverb, as reimplemented by Kevin Dahan. Since this is just a post-processing effect, it is implemented directly using the csound engine."
   ]
  },
  {
   "cell_type": "code",
   "execution_count": 6,
   "id": "43f5f63a-2df6-4d12-8703-467c528d44e2",
   "metadata": {},
   "outputs": [
    {
     "data": {
      "text/html": [
       "Instr <strong style=\"color:MediumSeaGreen\">post</strong><br>\n",
       "&nbsp&nbsp&nbsp&nbsp<span style=\"font-size:90%\"><b>kfilterfreq</b>:p5=<code>11500</code></span>, <span style=\"font-size:90%\"><b>k6</b>:p6=<code>-1</code></span>, <span style=\"font-size:90%\"><b>k7</b>:p7=<code>1</code></span>, <span style=\"font-size:90%\"><b>icycledur</b>:p8=<code>30</code></span><br>\n",
       "<hr style=\"width:38%;text-align:left;margin-left:0\">\n",
       "<span style=\"font-size:90%\"><div class=\"highlight\" style=\"background: #f8f8f8\"><pre style=\"line-height: 125%;\"><span></span><code><span style=\"color: #B00040\">i</span>factor<span style=\"color: #bbbbbb\"> </span><span style=\"color: #666666\">=</span><span style=\"color: #bbbbbb\"> </span><span style=\"color: #666666\">2</span><span style=\"color: #bbbbbb\">                       </span>\n",
       "<span style=\"color: #B00040\">i</span>mag<span style=\"color: #bbbbbb\"> </span><span style=\"color: #666666\">=</span><span style=\"color: #bbbbbb\"> </span><span style=\"color: #666666\">1</span>\n",
       "\n",
       "<span style=\"color: #B00040\">a</span>1<span style=\"color: #bbbbbb\">  </span><span style=\"color: #008000\">alpass</span><span style=\"color: #bbbbbb\">      </span><span style=\"color: #B00040\">ga</span>__reverb,<span style=\"color: #bbbbbb\"> </span><span style=\"color: #666666\">20*</span>(<span style=\"color: #666666\">647/25600</span>)<span style=\"color: #666666\">*</span><span style=\"color: #B00040\">i</span>factor,<span style=\"color: #bbbbbb\"> </span><span style=\"color: #666666\">647/25600*</span><span style=\"color: #B00040\">i</span>factor\n",
       "<span style=\"color: #B00040\">a</span>2<span style=\"color: #bbbbbb\">  </span><span style=\"color: #008000\">alpass</span><span style=\"color: #bbbbbb\">      </span><span style=\"color: #B00040\">a</span>1,<span style=\"color: #bbbbbb\"> </span><span style=\"color: #666666\">20*</span>(<span style=\"color: #666666\">213/25600</span>)<span style=\"color: #666666\">*</span><span style=\"color: #B00040\">i</span>factor,<span style=\"color: #bbbbbb\"> </span><span style=\"color: #666666\">213/25600*</span><span style=\"color: #B00040\">i</span>factor\n",
       "<span style=\"color: #B00040\">a</span>3<span style=\"color: #bbbbbb\">  </span><span style=\"color: #008000\">alpass</span><span style=\"color: #bbbbbb\">      </span><span style=\"color: #B00040\">a</span>2,<span style=\"color: #bbbbbb\"> </span><span style=\"color: #666666\">20*</span>(<span style=\"color: #666666\">67/25600</span>)<span style=\"color: #666666\">*</span><span style=\"color: #B00040\">i</span>factor,<span style=\"color: #bbbbbb\"> </span><span style=\"color: #666666\">67/25600*</span><span style=\"color: #B00040\">i</span>factor\n",
       "<span style=\"color: #B00040\">a</span>4<span style=\"color: #bbbbbb\">  </span><span style=\"color: #008000\">comb</span><span style=\"color: #bbbbbb\">        </span><span style=\"color: #B00040\">a</span>3,<span style=\"color: #bbbbbb\"> </span><span style=\"color: #666666\">32*</span>(<span style=\"color: #666666\">3201/25600</span>)<span style=\"color: #666666\">*</span><span style=\"color: #B00040\">i</span>factor,<span style=\"color: #bbbbbb\"> </span><span style=\"color: #666666\">3201/25600*</span><span style=\"color: #B00040\">i</span>factor\n",
       "<span style=\"color: #B00040\">a</span>5<span style=\"color: #bbbbbb\">  </span><span style=\"color: #008000\">comb</span><span style=\"color: #bbbbbb\">        </span><span style=\"color: #B00040\">a</span>3,<span style=\"color: #bbbbbb\"> </span><span style=\"color: #666666\">27*</span>(<span style=\"color: #666666\">3667/25600</span>)<span style=\"color: #666666\">*</span><span style=\"color: #B00040\">i</span>factor,<span style=\"color: #bbbbbb\"> </span><span style=\"color: #666666\">3667/25600*</span><span style=\"color: #B00040\">i</span>factor\n",
       "<span style=\"color: #B00040\">a</span>6<span style=\"color: #bbbbbb\">  </span><span style=\"color: #008000\">comb</span><span style=\"color: #bbbbbb\">        </span><span style=\"color: #B00040\">a</span>3,<span style=\"color: #bbbbbb\"> </span><span style=\"color: #666666\">25*</span>(<span style=\"color: #666666\">4053/25600</span>)<span style=\"color: #666666\">*</span><span style=\"color: #B00040\">i</span>factor,<span style=\"color: #bbbbbb\"> </span><span style=\"color: #666666\">4053/25600*</span><span style=\"color: #B00040\">i</span>factor\n",
       "<span style=\"color: #B00040\">a</span>7<span style=\"color: #bbbbbb\">  </span><span style=\"color: #008000\">comb</span><span style=\"color: #bbbbbb\">        </span><span style=\"color: #B00040\">a</span>3,<span style=\"color: #bbbbbb\"> </span><span style=\"color: #666666\">25*</span>(<span style=\"color: #666666\">4451/25600</span>)<span style=\"color: #666666\">*</span><span style=\"color: #B00040\">i</span>factor,<span style=\"color: #bbbbbb\"> </span><span style=\"color: #666666\">4451/25600*</span><span style=\"color: #B00040\">i</span>factor\n",
       "\n",
       "<span style=\"color: #B00040\">a</span>firstline<span style=\"color: #bbbbbb\">  </span><span style=\"color: #666666\">=</span><span style=\"color: #bbbbbb\"> </span><span style=\"color: #B00040\">a</span>4<span style=\"color: #666666\">-</span><span style=\"color: #B00040\">a</span>5<span style=\"color: #666666\">+</span><span style=\"color: #B00040\">a</span>6<span style=\"color: #666666\">-</span><span style=\"color: #B00040\">a</span>7\n",
       "<span style=\"color: #B00040\">a</span>secondline<span style=\"color: #bbbbbb\"> </span><span style=\"color: #666666\">=</span><span style=\"color: #bbbbbb\"> </span><span style=\"color: #B00040\">a</span>4<span style=\"color: #666666\">+</span><span style=\"color: #B00040\">a</span>5<span style=\"color: #666666\">+</span><span style=\"color: #B00040\">a</span>6<span style=\"color: #666666\">+</span><span style=\"color: #B00040\">a</span>7\n",
       "<span style=\"color: #B00040\">a</span>thirdline<span style=\"color: #bbbbbb\">  </span><span style=\"color: #666666\">=</span><span style=\"color: #bbbbbb\"> </span><span style=\"color: #B00040\">a</span>4<span style=\"color: #666666\">-</span><span style=\"color: #B00040\">a</span>5<span style=\"color: #666666\">-</span><span style=\"color: #B00040\">a</span>6<span style=\"color: #666666\">-</span><span style=\"color: #B00040\">a</span>7\n",
       "<span style=\"color: #B00040\">a</span>fourthline<span style=\"color: #bbbbbb\"> </span><span style=\"color: #666666\">=</span><span style=\"color: #bbbbbb\"> </span><span style=\"color: #B00040\">a</span>4<span style=\"color: #666666\">+</span><span style=\"color: #B00040\">a</span>5<span style=\"color: #666666\">-</span><span style=\"color: #B00040\">a</span>6<span style=\"color: #666666\">-</span><span style=\"color: #B00040\">a</span>7\n",
       "\n",
       "<span style=\"color: #B00040\">a</span>revsc<span style=\"color: #bbbbbb\"> </span><span style=\"color: #666666\">=</span><span style=\"color: #bbbbbb\"> </span><span style=\"color: #008000\">line</span>:<span style=\"color: #B00040\">a</span>(<span style=\"color: #666666\">0</span>,<span style=\"color: #bbbbbb\"> </span><span style=\"color: #B00040\">i</span>cycledur,<span style=\"color: #bbbbbb\"> </span><span style=\"color: #666666\">1</span>)<span style=\"color: #bbbbbb\"> </span><span style=\"color: #666666\">%</span><span style=\"color: #bbbbbb\"> </span><span style=\"color: #666666\">1</span>\n",
       "\n",
       "<span style=\"color: #B00040\">a</span>mod1<span style=\"color: #bbbbbb\"> </span><span style=\"color: #666666\">=</span><span style=\"color: #bbbbbb\"> </span><span style=\"color: #008000\">oscili</span>:<span style=\"color: #B00040\">a</span>(<span style=\"color: #666666\">1000*</span><span style=\"color: #B00040\">k</span>6,<span style=\"color: #bbbbbb\"> </span><span style=\"color: #666666\">0.0089*</span><span style=\"color: #B00040\">a</span>revsc,<span style=\"color: #bbbbbb\"> </span><span style=\"color: #666666\">-1</span>,<span style=\"color: #bbbbbb\"> </span><span style=\"color: #666666\">0.75</span>)<span style=\"color: #bbbbbb\"> </span><span style=\"color: #666666\">+</span><span style=\"color: #bbbbbb\"> </span><span style=\"color: #666666\">1000</span>\n",
       "<span style=\"color: #B00040\">a</span>z1<span style=\"color: #bbbbbb\"> </span><span style=\"color: #666666\">=</span><span style=\"color: #bbbbbb\"> </span><span style=\"color: #008000\">vdelay</span>:<span style=\"color: #B00040\">a</span>(<span style=\"color: #B00040\">a</span>firstline,<span style=\"color: #bbbbbb\"> </span>(<span style=\"color: #B00040\">a</span>mod1<span style=\"color: #666666\">/25.600</span>)<span style=\"color: #666666\">*</span><span style=\"color: #B00040\">i</span>factor,<span style=\"color: #bbbbbb\"> </span><span style=\"color: #666666\">10000</span>)\n",
       "\n",
       "<span style=\"color: #B00040\">a</span>mod2<span style=\"color: #bbbbbb\"> </span><span style=\"color: #666666\">=</span><span style=\"color: #bbbbbb\"> </span><span style=\"color: #008000\">oscili</span>:<span style=\"color: #B00040\">a</span>(<span style=\"color: #666666\">1000*</span><span style=\"color: #B00040\">k</span>6,<span style=\"color: #bbbbbb\"> </span><span style=\"color: #666666\">0.0083*</span><span style=\"color: #B00040\">a</span>revsc,<span style=\"color: #bbbbbb\"> </span><span style=\"color: #666666\">-1</span>,<span style=\"color: #bbbbbb\"> </span><span style=\"color: #666666\">0.75</span>)<span style=\"color: #bbbbbb\"> </span><span style=\"color: #666666\">+</span><span style=\"color: #bbbbbb\"> </span><span style=\"color: #666666\">1000</span>\n",
       "<span style=\"color: #B00040\">a</span>z2<span style=\"color: #bbbbbb\"> </span><span style=\"color: #666666\">=</span><span style=\"color: #bbbbbb\"> </span><span style=\"color: #008000\">vdelay</span>:<span style=\"color: #B00040\">a</span>(<span style=\"color: #B00040\">a</span>secondline,<span style=\"color: #bbbbbb\"> </span>(<span style=\"color: #B00040\">a</span>mod2<span style=\"color: #666666\">/25.600</span>)<span style=\"color: #666666\">*</span><span style=\"color: #B00040\">i</span>factor,<span style=\"color: #bbbbbb\"> </span><span style=\"color: #666666\">10000</span>)\n",
       "\n",
       "<span style=\"color: #B00040\">a</span>mod3<span style=\"color: #bbbbbb\"> </span><span style=\"color: #666666\">=</span><span style=\"color: #bbbbbb\"> </span><span style=\"color: #008000\">oscili</span>:<span style=\"color: #B00040\">a</span>(<span style=\"color: #666666\">1000*</span><span style=\"color: #B00040\">k</span>6,<span style=\"color: #bbbbbb\"> </span><span style=\"color: #666666\">0.0097*</span><span style=\"color: #B00040\">a</span>revsc)<span style=\"color: #bbbbbb\"> </span><span style=\"color: #666666\">+</span><span style=\"color: #bbbbbb\"> </span><span style=\"color: #666666\">1000</span>\n",
       "<span style=\"color: #B00040\">a</span>z3<span style=\"color: #bbbbbb\"> </span><span style=\"color: #666666\">=</span><span style=\"color: #bbbbbb\"> </span><span style=\"color: #008000\">vdelay</span>:<span style=\"color: #B00040\">a</span>(<span style=\"color: #B00040\">a</span>thirdline,<span style=\"color: #bbbbbb\"> </span>(<span style=\"color: #B00040\">a</span>mod3<span style=\"color: #666666\">/25.600</span>)<span style=\"color: #666666\">*</span><span style=\"color: #B00040\">i</span>factor,<span style=\"color: #bbbbbb\"> </span><span style=\"color: #666666\">10000</span>)\n",
       "\n",
       "<span style=\"color: #B00040\">a</span>mod4<span style=\"color: #bbbbbb\"> </span><span style=\"color: #666666\">=</span><span style=\"color: #bbbbbb\"> </span><span style=\"color: #008000\">oscili</span>:<span style=\"color: #B00040\">a</span>(<span style=\"color: #666666\">1000*</span><span style=\"color: #B00040\">k</span>6,<span style=\"color: #bbbbbb\">  </span><span style=\"color: #666666\">0.0101*</span><span style=\"color: #B00040\">a</span>revsc)<span style=\"color: #bbbbbb\"> </span><span style=\"color: #666666\">+</span><span style=\"color: #bbbbbb\"> </span><span style=\"color: #666666\">1000</span>\n",
       "<span style=\"color: #B00040\">a</span>z4<span style=\"color: #bbbbbb\"> </span><span style=\"color: #666666\">=</span><span style=\"color: #bbbbbb\"> </span><span style=\"color: #008000\">vdelay</span>:<span style=\"color: #B00040\">a</span>(<span style=\"color: #B00040\">a</span>fourthline,<span style=\"color: #bbbbbb\"> </span>(<span style=\"color: #B00040\">a</span>mod4<span style=\"color: #666666\">/25.600</span>)<span style=\"color: #666666\">*</span><span style=\"color: #B00040\">i</span>factor,<span style=\"color: #bbbbbb\"> </span><span style=\"color: #666666\">10000</span>)\n",
       "\n",
       "<span style=\"color: #B00040\">a</span>out[]<span style=\"color: #bbbbbb\"> </span><span style=\"color: #008000\">init</span><span style=\"color: #bbbbbb\"> </span><span style=\"color: #666666\">4</span>\n",
       "<span style=\"color: #B00040\">a</span>out[<span style=\"color: #666666\">0</span>]<span style=\"color: #bbbbbb\"> </span><span style=\"color: #666666\">=</span><span style=\"color: #bbbbbb\"> </span><span style=\"color: #B00040\">a</span>z1<span style=\"color: #bbbbbb\"> </span><span style=\"color: #666666\">+</span><span style=\"color: #bbbbbb\"> </span><span style=\"color: #B00040\">ga</span>__channel1\n",
       "<span style=\"color: #B00040\">a</span>out[<span style=\"color: #666666\">1</span>]<span style=\"color: #bbbbbb\"> </span><span style=\"color: #666666\">=</span><span style=\"color: #bbbbbb\"> </span><span style=\"color: #B00040\">a</span>z2<span style=\"color: #bbbbbb\"> </span><span style=\"color: #666666\">+</span><span style=\"color: #bbbbbb\"> </span><span style=\"color: #B00040\">ga</span>__channel2\n",
       "<span style=\"color: #B00040\">a</span>out[<span style=\"color: #666666\">2</span>]<span style=\"color: #bbbbbb\"> </span><span style=\"color: #666666\">=</span><span style=\"color: #bbbbbb\"> </span><span style=\"color: #B00040\">a</span>z3<span style=\"color: #bbbbbb\"> </span><span style=\"color: #666666\">+</span><span style=\"color: #bbbbbb\"> </span><span style=\"color: #B00040\">ga</span>__channel1\n",
       "<span style=\"color: #B00040\">a</span>out[<span style=\"color: #666666\">3</span>]<span style=\"color: #bbbbbb\"> </span><span style=\"color: #666666\">=</span><span style=\"color: #bbbbbb\"> </span><span style=\"color: #B00040\">a</span>z4<span style=\"color: #bbbbbb\"> </span><span style=\"color: #666666\">+</span><span style=\"color: #bbbbbb\"> </span><span style=\"color: #B00040\">ga</span>__channel2\n",
       "\n",
       "<span style=\"color: #3D7B7B; font-style: italic\">; A 2nd order butterworth low-pass filter, applied sequentially 3 times</span>\n",
       "<span style=\"color: #B00040\">a</span>out<span style=\"color: #bbbbbb\"> </span>poly<span style=\"color: #bbbbbb\"> </span><span style=\"color: #666666\">4</span>,<span style=\"color: #bbbbbb\"> </span><span style=\"color: #BA2121\">&quot;butterlp&quot;</span>,<span style=\"color: #bbbbbb\"> </span><span style=\"color: #B00040\">a</span>out,<span style=\"color: #bbbbbb\"> </span><span style=\"color: #B00040\">k</span>filterfreq\n",
       "<span style=\"color: #B00040\">a</span>out<span style=\"color: #bbbbbb\"> </span>poly<span style=\"color: #bbbbbb\"> </span><span style=\"color: #666666\">4</span>,<span style=\"color: #bbbbbb\"> </span><span style=\"color: #BA2121\">&quot;butterlp&quot;</span>,<span style=\"color: #bbbbbb\"> </span><span style=\"color: #B00040\">a</span>out,<span style=\"color: #bbbbbb\"> </span><span style=\"color: #B00040\">k</span>filterfreq\n",
       "<span style=\"color: #B00040\">a</span>out<span style=\"color: #bbbbbb\"> </span>poly<span style=\"color: #bbbbbb\"> </span><span style=\"color: #666666\">4</span>,<span style=\"color: #bbbbbb\"> </span><span style=\"color: #BA2121\">&quot;butterlp&quot;</span>,<span style=\"color: #bbbbbb\"> </span><span style=\"color: #B00040\">a</span>out,<span style=\"color: #bbbbbb\"> </span><span style=\"color: #B00040\">k</span>filterfreq\n",
       "<span style=\"color: #008000\">outch</span><span style=\"color: #bbbbbb\"> </span><span style=\"color: #666666\">1</span>,<span style=\"color: #bbbbbb\"> </span><span style=\"color: #B00040\">a</span>out[<span style=\"color: #666666\">1</span>]<span style=\"color: #bbbbbb\"> </span><span style=\"color: #666666\">+</span><span style=\"color: #bbbbbb\"> </span><span style=\"color: #B00040\">a</span>out[<span style=\"color: #666666\">2</span>],<span style=\"color: #bbbbbb\"> </span><span style=\"color: #666666\">2</span>,<span style=\"color: #bbbbbb\"> </span><span style=\"color: #B00040\">a</span>out[<span style=\"color: #666666\">0</span>]<span style=\"color: #bbbbbb\"> </span><span style=\"color: #666666\">+</span><span style=\"color: #bbbbbb\"> </span><span style=\"color: #B00040\">a</span>out[<span style=\"color: #666666\">3</span>]\n",
       "\n",
       "<span style=\"color: #3D7B7B; font-style: italic\">; Clear buses</span>\n",
       "<span style=\"color: #008000\">clear</span><span style=\"color: #bbbbbb\"> </span><span style=\"color: #B00040\">ga</span>__reverb,<span style=\"color: #bbbbbb\"> </span><span style=\"color: #B00040\">ga</span>__channel1,<span style=\"color: #bbbbbb\"> </span><span style=\"color: #B00040\">ga</span>__channel2\n",
       "</code></pre></div>\n",
       "</span>"
      ],
      "text/plain": [
       "Instr(post, kfilterfreq:5=11500, k6:6=-1, k7:7=1, icycledur:8=30)"
      ]
     },
     "execution_count": 6,
     "metadata": {},
     "output_type": "execute_result"
    }
   ],
   "source": [
    "# This gets access to the underlying csound session used by maelzel. This allows interaction and postprocessing\n",
    "# of any sound generated by maelzel\n",
    "\n",
    "session = playSession()\n",
    "\n",
    "session.defInstr('post', r'''\n",
    "  |kfilterfreq=11500, k6=-1, k7=1, icycledur=30|\n",
    "  ifactor = 2                       \n",
    "  imag = 1\n",
    "  \n",
    "  a1  alpass      ga__reverb, 20*(647/25600)*ifactor, 647/25600*ifactor\n",
    "  a2  alpass      a1, 20*(213/25600)*ifactor, 213/25600*ifactor\n",
    "  a3  alpass      a2, 20*(67/25600)*ifactor, 67/25600*ifactor\n",
    "  a4  comb        a3, 32*(3201/25600)*ifactor, 3201/25600*ifactor\n",
    "  a5  comb        a3, 27*(3667/25600)*ifactor, 3667/25600*ifactor\n",
    "  a6  comb        a3, 25*(4053/25600)*ifactor, 4053/25600*ifactor\n",
    "  a7  comb        a3, 25*(4451/25600)*ifactor, 4451/25600*ifactor\n",
    "\n",
    "  afirstline  = a4-a5+a6-a7\n",
    "  asecondline = a4+a5+a6+a7\n",
    "  athirdline  = a4-a5-a6-a7\n",
    "  afourthline = a4+a5-a6-a7\n",
    "\n",
    "  arevsc = line:a(0, icycledur, 1) % 1\n",
    "\n",
    "  amod1 = oscili:a(1000*k6, 0.0089*arevsc, -1, 0.75) + 1000\n",
    "  az1 = vdelay:a(afirstline, (amod1/25.600)*ifactor, 10000)\n",
    "\n",
    "  amod2 = oscili:a(1000*k6, 0.0083*arevsc, -1, 0.75) + 1000\n",
    "  az2 = vdelay:a(asecondline, (amod2/25.600)*ifactor, 10000)\n",
    "\n",
    "  amod3 = oscili:a(1000*k6, 0.0097*arevsc) + 1000\n",
    "  az3 = vdelay:a(athirdline, (amod3/25.600)*ifactor, 10000)\n",
    "\n",
    "  amod4 = oscili:a(1000*k6,  0.0101*arevsc) + 1000\n",
    "  az4 = vdelay:a(afourthline, (amod4/25.600)*ifactor, 10000)\n",
    "\n",
    "  aout[] init 4\n",
    "  aout[0] = az1 + ga__channel1\n",
    "  aout[1] = az2 + ga__channel2\n",
    "  aout[2] = az3 + ga__channel1\n",
    "  aout[3] = az4 + ga__channel2\n",
    "\n",
    "  ; A 2nd order butterworth low-pass filter, applied sequentially 3 times\n",
    "  aout poly 4, \"butterlp\", aout, kfilterfreq\n",
    "  aout poly 4, \"butterlp\", aout, kfilterfreq\n",
    "  aout poly 4, \"butterlp\", aout, kfilterfreq\n",
    "  outch 1, aout[1] + aout[2], 2, aout[0] + aout[3]\n",
    "\n",
    "  ; Clear buses\n",
    "  clear ga__reverb, ga__channel1, ga__channel2\n",
    "  \n",
    "''', init=r'''\n",
    "ga__reverb, ga__channel1, ga__channel2 init 0\n",
    "''')"
   ]
  },
  {
   "cell_type": "code",
   "execution_count": 9,
   "id": "3699f443-c0fd-404d-ab63-2e0326658a99",
   "metadata": {},
   "outputs": [
    {
     "data": {
      "application/vnd.jupyter.widget-view+json": {
       "model_id": "6816950d25674e29b9d21ec6cf435b72",
       "version_major": 2,
       "version_minor": 0
      },
      "text/plain": [
       "Button(description='Stop', style=ButtonStyle())"
      ]
     },
     "metadata": {},
     "output_type": "display_data"
    },
    {
     "data": {
      "application/vnd.jupyter.widget-view+json": {
       "model_id": "0790add0a64f4216838e8cead2b91b51",
       "version_major": 2,
       "version_minor": 0
      },
      "text/plain": [
       "FloatSlider(value=-1.0, description='k6', layout=Layout(width='80%'), max=0.0, min=-100.0, readout_format='.1f…"
      ]
     },
     "metadata": {},
     "output_type": "display_data"
    },
    {
     "data": {
      "application/vnd.jupyter.widget-view+json": {
       "model_id": "c892ac2c3a9242e696d5a2008858f339",
       "version_major": 2,
       "version_minor": 0
      },
      "text/plain": [
       "FloatSlider(value=1.0, description='k7', layout=Layout(width='80%'), max=2.0, readout_format='.3f', step=0.001…"
      ]
     },
     "metadata": {},
     "output_type": "display_data"
    },
    {
     "data": {
      "application/vnd.jupyter.widget-view+json": {
       "model_id": "53d330d15ca04201994cd2ad7bf915ec",
       "version_major": 2,
       "version_minor": 0
      },
      "text/plain": [
       "FloatSlider(value=11500.0, description='kfilterfreq', layout=Layout(width='80%'), max=12000.0, readout_format=…"
      ]
     },
     "metadata": {},
     "output_type": "display_data"
    }
   ],
   "source": [
    "post = session.sched('post', priority=2)\n",
    "post.ui()"
   ]
  },
  {
   "cell_type": "code",
   "execution_count": null,
   "id": "d8daadc1-615c-4050-80c0-6b4dc1d3d2c1",
   "metadata": {},
   "outputs": [],
   "source": []
  },
  {
   "cell_type": "code",
   "execution_count": 8,
   "id": "58c4e7c4-e562-416d-b87f-63cc14e0691c",
   "metadata": {},
   "outputs": [
    {
     "data": {
      "application/vnd.jupyter.widget-view+json": {
       "model_id": "66575b4e99d44dee82dffeb75f28884d",
       "version_major": 2,
       "version_minor": 0
      },
      "text/plain": [
       "Button(description='Stop', style=ButtonStyle())"
      ]
     },
     "metadata": {},
     "output_type": "display_data"
    },
    {
     "data": {
      "application/vnd.jupyter.widget-view+json": {
       "model_id": "5d0db5d335e7465cbf3ff4560d990a79",
       "version_major": 2,
       "version_minor": 0
      },
      "text/plain": [
       "Output()"
      ]
     },
     "metadata": {},
     "output_type": "display_data"
    },
    {
     "data": {
      "text/html": [
       "<small><span style=\"\"><b>SynthGroup</b></span>(synths=<code style=\"\">4</code>)</small>\n",
       "<p><small>Instr: <strong style=\"color:MediumSeaGreen\">preset:stria</strong> - <b>4</b> synths</small></p>\n",
       "<table style=\"font-size: smaller\"<thead><tr><th style=\"text-align:left\">p1</th><th style=\"text-align:left\">start</th><th style=\"text-align:left\">dur</th><th style=\"text-align:left\">p4</th><th style=\"text-align:left\">5:kpos</th><th style=\"text-align:left\">6:kgain</th><th style=\"text-align:left\">7:idataidx_</th><th style=\"text-align:left\">8:inumbps</th><th style=\"text-align:left\">9:ibplen</th><th style=\"text-align:left\">10:ichan</th><th style=\"text-align:left\">11:ifadein</th><th style=\"text-align:left\">...</th></tr></thead><tbody><tr><td style=\"text-align:left\">501.0006 <b>𝍪</b></td><td style=\"text-align:left\">0.742</td><td style=\"text-align:left\">10.000</td><td style=\"text-align:left\">0</td><td style=\"text-align:left\">0.5</td><td style=\"text-align:left\">1</td><td style=\"text-align:left\">34</td><td style=\"text-align:left\">2</td><td style=\"text-align:left\">3</td><td style=\"text-align:left\">1</td><td style=\"text-align:left\">...</td></tr><tr><td style=\"text-align:left\">501.0007 <b>𝍪</b></td><td style=\"text-align:left\">0.042</td><td style=\"text-align:left\">10.000</td><td style=\"text-align:left\">0</td><td style=\"text-align:left\">0.5</td><td style=\"text-align:left\">1</td><td style=\"text-align:left\">34</td><td style=\"text-align:left\">2</td><td style=\"text-align:left\">3</td><td style=\"text-align:left\">1</td><td style=\"text-align:left\">...</td></tr><tr><td style=\"text-align:left\">501.0008 <b>𝍪</b></td><td style=\"text-align:left\">1.342</td><td style=\"text-align:left\">11.000</td><td style=\"text-align:left\">0</td><td style=\"text-align:left\">0.5</td><td style=\"text-align:left\">0.70711</td><td style=\"text-align:left\">34</td><td style=\"text-align:left\">2</td><td style=\"text-align:left\">3</td><td style=\"text-align:left\">1</td><td style=\"text-align:left\">...</td></tr><tr><td style=\"text-align:left\">501.0009 <b>𝍪</b></td><td style=\"text-align:left\">1.342</td><td style=\"text-align:left\">11.000</td><td style=\"text-align:left\">0</td><td style=\"text-align:left\">0.5</td><td style=\"text-align:left\">0.70711</td><td style=\"text-align:left\">34</td><td style=\"text-align:left\">2</td><td style=\"text-align:left\">3</td><td style=\"text-align:left\">1</td><td style=\"text-align:left\">...</td></tr></tbody></table>"
      ],
      "text/plain": [
       "SynthGroup(n=4)\n",
       "    Synth(𝍪 preset:stria=501.0006 start=177.295 dur=10.000 p4=0.5 kpos=1 kgain=34 idataidx_=2 inumbps=3 ibplen=1 ichan=1 …)\n",
       "    Synth(𝍪 preset:stria=501.0007 start=176.595 dur=10.000 p4=0.5 kpos=1 kgain=34 idataidx_=2 inumbps=3 ibplen=1 ichan=1.5 …)\n",
       "    Synth(𝍪 preset:stria=501.0008 start=177.895 dur=11.000 p4=0.5 kpos=0.707107 kgain=34 idataidx_=2 inumbps=3 ibplen=1 ichan=1.5 …)\n",
       "    Synth(𝍪 preset:stria=501.0009 start=177.895 dur=11.000 p4=0.5 kpos=0.707107 kgain=34 idataidx_=2 inumbps=3 ibplen=1 ichan=1.5 …)"
      ]
     },
     "execution_count": 8,
     "metadata": {},
     "output_type": "execute_result"
    }
   ],
   "source": [
    "sco = Score.pack([\n",
    "    Note(\"7C-\",  10, gliss=\"7D\", amp=0.04).setPlay(instr='stria', ifreqmodA=2618, ifreqmodB=4236, ienvfactor=0.1, indxa1=0.05, indxa2=0.2, indxb1=0, indxb2=1, iatt=0.4, idec=0.8, ifn1=2, ifn2=5, ifn3=3, fade=1.5),\n",
    "    Note(\"7C#!\", 10, offset=0.7, gliss=\"7D+\", amp=0.04).setPlay(instr='stria', ifreqmodA=2618, ifreqmodB=4236, ienvfactor=0.1, indxa1=0.06, indxa2=0.5, indxb1=0, indxb2=1, iatt=0.4, idec=0.8, ifn1=2, ifn2=5, ifn3=3, fade=1),\n",
    "    Chord(\"6A,7C-\", 11, offset=1.3, amp=0.04).setPlay(instr='stria', ifreqmodA=2618, ifreqmodB=4236, ienvfactor=0.1, indxa1=0.06, indxa2=0.5, indxb1=0, indxb2=1, iatt=0.4, idec=0.8, ifn1=2, ifn2=5, ifn3=3, fade=(1.5, 0.5))\n",
    "])\n",
    "sco.play()"
   ]
  },
  {
   "cell_type": "code",
   "execution_count": 11,
   "id": "e2985b60-cf50-41ed-af3b-c938d6bbee55",
   "metadata": {},
   "outputs": [
    {
     "data": {
      "image/png": "[encoded data removed]",
      "text/plain": [
       "<IPython.core.display.Image object>"
      ]
     },
     "metadata": {
      "image/png": {
       "width": 867
      }
     },
     "output_type": "display_data"
    }
   ],
   "source": [
    "sco.show()"
   ]
  },
  {
   "cell_type": "code",
   "execution_count": null,
   "id": "da5fd39c-336e-4d79-af3b-b71d252329eb",
   "metadata": {},
   "outputs": [],
   "source": []
  }
 ],
 "metadata": {
  "kernelspec": {
   "display_name": "Python 3 (ipykernel)",
   "language": "python",
   "name": "python3"
  },
  "language_info": {
   "codemirror_mode": {
    "name": "ipython",
    "version": 3
   },
   "file_extension": ".py",
   "mimetype": "text/x-python",
   "name": "python",
   "nbconvert_exporter": "python",
   "pygments_lexer": "ipython3",
   "version": "3.11.4"
  }
 },
 "nbformat": 4,
 "nbformat_minor": 5
}
