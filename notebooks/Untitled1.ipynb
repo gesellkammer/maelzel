{
 "cells": [
  {
   "cell_type": "code",
   "execution_count": 120,
   "id": "883ff7ab-942b-428d-9e65-59c9d1ba4579",
   "metadata": {},
   "outputs": [],
   "source": [
    "import bisect\n",
    "import numpy as np\n",
    "\n",
    "def _nearest1lr(item, seq) -> int:\n",
    "    \"\"\"\n",
    "    Return the index of the nearest element in seq to item\n",
    "\n",
    "    Args:\n",
    "        item: a number\n",
    "        seq: a sorted sequence of numbers\n",
    "\n",
    "    Returns:\n",
    "        the index of the nearest item\n",
    "\n",
    "    **NB**: Assumes that seq is sorted\n",
    "\n",
    "    Example::\n",
    "\n",
    "        >>> seq = [0, 3, 4, 8]\n",
    "        >>> nearest_index(3.1, seq)\n",
    "        1\n",
    "        >>> nearest_index(6.5, seq)\n",
    "        3\n",
    "    \"\"\"\n",
    "    ir = bisect.bisect_left(seq, item)\n",
    "    if ir >= len(seq) or ir <= 0:\n",
    "        return ir\n",
    "    il = ir - 1\n",
    "    if abs(seq[ir] - item) < abs(seq[il] - item):\n",
    "        return ir\n",
    "    return il\n",
    "\n",
    "def _nearestlr(items, seq):\n",
    "    irs = np.searchsorted(seq, items, 'left')\n",
    "    np.clip(irs, 0, len(seq)-1, out=irs)\n",
    "    ils = irs - 1\n",
    "    rdiff = np.abs(seq[irs] - items)\n",
    "    ldiff = np.abs(seq[ils] - items)\n",
    "    out = np.choose(rdiff < ldiff, [ils, irs])\n",
    "    return out\n",
    "    \n",
    "def _nearestl(items, seq):\n",
    "    idxs = np.searchsorted(seq, items, 'right')\n",
    "    idxs -= 1\n",
    "    if np.any(idxs < 0):\n",
    "        raise ValueError(\"No values to the left!\")\n",
    "    return idxs\n",
    "\n",
    "def _nearestr(items, seq):\n",
    "    idxs = np.searchsorted(seq, items, 'left')\n",
    "    if np.any(idxs >= len(seq)):\n",
    "        raise ValueError(\"No values to the right!\")\n",
    "    return idxs\n"
   ]
  },
  {
   "cell_type": "code",
   "execution_count": 121,
   "id": "b85e1342-1661-4cc5-bddf-529afdc91a91",
   "metadata": {},
   "outputs": [
    {
     "data": {
      "text/plain": [
       "array([ 0, 12, 36, 98, 89])"
      ]
     },
     "execution_count": 121,
     "metadata": {},
     "output_type": "execute_result"
    }
   ],
   "source": [
    "_nearestr(np.array([-2, 1.2, 3.51, 9.8, 8.9]), np.arange(0, 11, .1))"
   ]
  },
  {
   "cell_type": "code",
   "execution_count": 72,
   "id": "21acc659-4af2-4c6c-8298-486750c34504",
   "metadata": {},
   "outputs": [],
   "source": [
    "\n",
    "\n",
    "def nearest_index(events_from, events_to, left=True, right=True):\n",
    "    \"\"\"\n",
    "    \n",
    "    Args:\n",
    "        events_from: events to match from. Does not need to be sorted\n",
    "        events_to: events to match against. Does not need to be sorted\n",
    "        left: match events lower than the event from\n",
    "        right: match events higher than the event from\n",
    "    \"\"\"\n",
    "    events_indexes = np.argsort(events_to)\n",
    "    events_sorted = events_to[events_indexes]\n",
    "    out = []\n",
    "    maxidx = len(events_to) - 1\n",
    "    if left and right:\n",
    "        # return _nearestlr(events_from, events_to)\n",
    "        for ev in events_from:\n",
    "            idx = _nearest1(ev, events_sorted)\n",
    "            if idx > maxidx:\n",
    "                idx = maxidx\n",
    "            realidx = events_indexes[idx]\n",
    "            out.append(realidx)\n",
    "    return out\n",
    "    "
   ]
  },
  {
   "cell_type": "code",
   "execution_count": 90,
   "id": "565df163-a5e2-4ac7-9b04-27941fbc4134",
   "metadata": {},
   "outputs": [
    {
     "name": "stdout",
     "output_type": "stream",
     "text": [
      "[0, 10, 460, 310, 979, 260, 742, 997, 999, 0, 10, 460, 310, 979, 260, 742, 997, 999, 0, 10, 460, 310, 979, 260, 742, 997, 999]\n",
      "[  0  10 460 310 979 260 742 997 999   0  10 460 310 979 260 742 997 999\n",
      "   0  10 460 310 979 260 742 997 999]\n"
     ]
    }
   ],
   "source": [
    "grid = np.arange(0, 10, 1)\n",
    "a = [-1, 0.1, 4.6, 3.1, 9.8, 2.6, 7.43, 9.98, 11]\n",
    "a = a + a +a\n",
    "a = np.array(a)\n",
    "b = np.linspace(0, 10, 1000)\n",
    "print(nearest_index(a, b))\n",
    "print(_nearestlr(a, b))\n"
   ]
  },
  {
   "cell_type": "code",
   "execution_count": 91,
   "id": "0d50384c-36d4-4ca9-853e-49ff8c95ea9c",
   "metadata": {},
   "outputs": [
    {
     "name": "stdout",
     "output_type": "stream",
     "text": [
      "68.6 µs ± 923 ns per loop (mean ± std. dev. of 7 runs, 10000 loops each)\n"
     ]
    }
   ],
   "source": [
    "%timeit nearest_index(a, b)"
   ]
  },
  {
   "cell_type": "code",
   "execution_count": 92,
   "id": "c1063707-6cbb-470d-96b0-a1beeb93382f",
   "metadata": {},
   "outputs": [
    {
     "name": "stdout",
     "output_type": "stream",
     "text": [
      "39.2 µs ± 3.36 µs per loop (mean ± std. dev. of 7 runs, 10000 loops each)\n"
     ]
    }
   ],
   "source": [
    "%timeit _nearestlr(a, b)"
   ]
  },
  {
   "cell_type": "code",
   "execution_count": 25,
   "id": "600978d9-f099-4a3f-873d-3833f1f33218",
   "metadata": {},
   "outputs": [],
   "source": [
    "a = np.array([0, 1, 2, 3, 4])\n"
   ]
  },
  {
   "cell_type": "code",
   "execution_count": 26,
   "id": "0e929c74-7300-4811-9b76-e964fd4a95e6",
   "metadata": {},
   "outputs": [
    {
     "data": {
      "text/plain": [
       "array([False, False, False,  True,  True])"
      ]
     },
     "execution_count": 26,
     "metadata": {},
     "output_type": "execute_result"
    }
   ],
   "source": [
    "a > 2"
   ]
  },
  {
   "cell_type": "code",
   "execution_count": 30,
   "id": "1a5e08c6-0d7b-4b4b-8598-412c9611a9e5",
   "metadata": {},
   "outputs": [
    {
     "data": {
      "text/plain": [
       "array([ 0,  1,  2, -3, -4])"
      ]
     },
     "execution_count": 30,
     "metadata": {},
     "output_type": "execute_result"
    }
   ],
   "source": [
    "np.choose(a>2, [a, -a])"
   ]
  },
  {
   "cell_type": "code",
   "execution_count": null,
   "id": "846b48fc-6462-4966-abf8-0894d569663a",
   "metadata": {},
   "outputs": [],
   "source": []
  }
 ],
 "metadata": {
  "kernelspec": {
   "display_name": "Python 3 (ipykernel)",
   "language": "python",
   "name": "python3"
  },
  "language_info": {
   "codemirror_mode": {
    "name": "ipython",
    "version": 3
   },
   "file_extension": ".py",
   "mimetype": "text/x-python",
   "name": "python",
   "nbconvert_exporter": "python",
   "pygments_lexer": "ipython3",
   "version": "3.9.7"
  }
 },
 "nbformat": 4,
 "nbformat_minor": 5
}
