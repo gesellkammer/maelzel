{
 "cells": [
  {
   "cell_type": "markdown",
   "id": "b2065d5e-f5d2-4429-8963-c509befe9b01",
   "metadata": {},
   "source": [
    "## Testing relative / absolute time"
   ]
  },
  {
   "cell_type": "code",
   "execution_count": 1,
   "id": "fb980bb4-0dad-44dc-b9b0-96821e7810d2",
   "metadata": {},
   "outputs": [],
   "source": [
    "from maelzel.core import *"
   ]
  },
  {
   "cell_type": "code",
   "execution_count": 16,
   "id": "75ac0a64-519a-4d52-b22c-110110554a4e",
   "metadata": {},
   "outputs": [
    {
     "data": {
      "text/html": [
       "<code style=\"white-space: pre-line; font-size:0.9em;\">Chain([<span style=\"color:#6666E0\">4C:0.5♩</span>, <span style=\"color:#6666E0\">4D:1♩</span>, <span style=\"color:#6666E0\">Chain([4E:1♩:symbols=[Text('abs. offset=6', placement=above)], 4F:2♩], offset=5)</span>], dur=8, offset=1)</code><br>\n",
       "        <img style=\"display:inline; padding:10px;\n",
       "margin-top:14px;\n",
       "width:421px\"\n",
       "             src=\"data:image/png;base64,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\"/>"
      ],
      "text/plain": [
       "Chain([4C:0.5♩, 4D:1♩, Chain([4E:1♩:symbols=[Text('abs. offset=6', placement=above)], 4F:2♩], offset=5)], offset=1)"
      ]
     },
     "execution_count": 16,
     "metadata": {},
     "output_type": "execute_result"
    }
   ],
   "source": [
    "chain2 = Chain([\"4E:1\", \"4F:2\"], offset=5, label='5')\n",
    "ch = Chain([\"4C:0.5\", \"4D\", chain2], offset=1, label='1')\n",
    "chain2[0].addText(f'abs. offset={chain2.absoluteOffset()}')\n",
    "ch\n"
   ]
  },
  {
   "cell_type": "code",
   "execution_count": 6,
   "id": "dd43c74d-49ea-48a1-a580-a5489b683a79",
   "metadata": {},
   "outputs": [
    {
     "data": {
      "text/html": [
       "<code><span style=\"font-size: 85%\"><b>Chain</b> - beat: 1, offset: 1, dur: 8</span></code><br><code><span style=\"color:#BBBBBB;font-size:85%\">  beat   offset      dur         name      gliss dyn  playargs            info                </span></code><br><code><span style=\"color:#9090FF;font-size:85%\">  1      (0)         0.5         4C        False      None                -</span></code><br><code><span style=\"color:#9090FF;font-size:85%\">  1.5    (1/2)       1           4D        False      None                -</span></code><br><code><span style=\"font-size: 85%\">  <b>Chain</b> - beat: 6, offset: 5, dur: 3, label: 5</span></code><br><code><span style=\"color:#BBBBBB;font-size:85%\">    beat   offset      dur         name      gliss dyn  playargs            info                </span></code><br><code><span style=\"color:#9090FF;font-size:85%\">    6      (0)         1           4E        False      None                properties: {'.chainlabel': '5'}</span></code><br><code><span style=\"color:#9090FF;font-size:85%\">    7      (1)         2           4F        False      None                -</span></code>"
      ],
      "text/plain": [
       "<IPython.core.display.HTML object>"
      ]
     },
     "metadata": {},
     "output_type": "display_data"
    }
   ],
   "source": [
    "ch.dump()"
   ]
  },
  {
   "cell_type": "code",
   "execution_count": 7,
   "id": "daa7bdc6-a4b1-4e3a-b3b1-0c100bb1ec72",
   "metadata": {},
   "outputs": [
    {
     "data": {
      "image/png": "[encoded data removed]",
      "text/plain": [
       "<IPython.core.display.Image object>"
      ]
     },
     "metadata": {
      "image/png": {
       "width": 258
      }
     },
     "output_type": "display_data"
    },
    {
     "data": {
      "text/plain": [
       "True"
      ]
     },
     "execution_count": 7,
     "metadata": {},
     "output_type": "execute_result"
    }
   ],
   "source": [
    "n = ch[2][0]\n",
    "n.show()\n",
    "n.offset is None"
   ]
  },
  {
   "cell_type": "code",
   "execution_count": 8,
   "id": "f289228f-be35-4a43-9035-78acc0706a7c",
   "metadata": {},
   "outputs": [
    {
     "data": {
      "text/plain": [
       "Fraction(0, 1)"
      ]
     },
     "execution_count": 8,
     "metadata": {},
     "output_type": "execute_result"
    }
   ],
   "source": [
    "n.resolveOffset()"
   ]
  },
  {
   "cell_type": "code",
   "execution_count": 9,
   "id": "a587f06a-dae4-4dfe-97ef-8516ae7f0214",
   "metadata": {},
   "outputs": [
    {
     "data": {
      "text/plain": [
       "Fraction(6, 1)"
      ]
     },
     "execution_count": 9,
     "metadata": {},
     "output_type": "execute_result"
    }
   ],
   "source": [
    "n.absoluteOffset()"
   ]
  },
  {
   "cell_type": "code",
   "execution_count": 10,
   "id": "4a9b05c7-1690-4c90-8ce6-f3cfe06cc22d",
   "metadata": {},
   "outputs": [
    {
     "data": {
      "text/html": [
       "<code><span style=\"font-size: 85%\"><b>Chain</b> - beat: 1, offset: 1, dur: 8</span></code><br><code><span style=\"color:#BBBBBB;font-size:85%\">  beat   offset      dur         name      gliss dyn  playargs            info                </span></code><br><code><span style=\"color:#9090FF;font-size:85%\">  1      0           0.5         4C        False      None                -</span></code><br><code><span style=\"color:#9090FF;font-size:85%\">  1.5    0.5         1           4D        False      None                -</span></code><br><code><span style=\"color:#9090FF;font-size:85%\">  6      5           1           4E        False      None                properties: {'.chainlabel': '5'}</span></code><br><code><span style=\"color:#9090FF;font-size:85%\">  7      6           2           4F        False      None                -</span></code>"
      ],
      "text/plain": [
       "<IPython.core.display.HTML object>"
      ]
     },
     "metadata": {},
     "output_type": "display_data"
    },
    {
     "data": {
      "text/html": [
       "<code style=\"white-space: pre-line; font-size:0.9em;\">Chain([<span style=\"color:#6666E0\">4C:0.5♩:offset=0</span>, <span style=\"color:#6666E0\">4D:1♩:offset=0.5</span>, <span style=\"color:#6666E0\">4E:1♩:offset=5</span>, <span style=\"color:#6666E0\">4F:2♩:offset=6</span>], dur=8, offset=1)</code><br>\n",
       "        <img style=\"display:inline; padding:10px;\n",
       "margin-top:14px;\n",
       "width:386px\"\n",
       "             src=\"data:image/png;base64,iVBORw0KGgoAAAANSUhEUgAAAYIAAAA+CAIAAACp54tkAAAJLmlDQ1BJQ0MgUHJvZmlsZQAAeJyVlWdQk1kXx+/zPOmFQBJCh1BDkSolgJQQWijSq6hA6J1QRWyIuAIriog0RZBFARdclSJrRRQLi4ICFnSDLALKunEVUUFZcN8ZnfcdP7z/mXvPb/5z5t5zz/lwASCIg2XBy3tiUrrA28mOGRgUzATfKIyflsLx9HQD39W7EQCtxHu638/5rggRkWn85bi4vHL5KYJ0AKDsZdbMSk9Z4aPLTA+P/8JnV1iwXOAy31jh6H957EvOvyz6kuPrzV1+FQoAHCn6Gw7/hv9z74pUOIL02KjIbKZPclR6Vpggkpm20gkel8v0FCRHxSZEflPw/5X8HaVHZqevRG5yyiZBbHRMOvN/DjUyMDQEX2fxxutLjyFG/3/PZ0VfveR6ANhzACD7vnrhlQB07gJA+tFXT225r5R8ADru8DMEmf96qJUNDQiAAuhABigCVaAJdIERMAOWwBY4ABfgAXxBENgA+CAGJAIByAK5YAcoAEVgHzgIqkAtaABNoBWcBp3gPLgCroPb4C4YBo+BEEyCl0AE3oEFCIKwEBmiQTKQEqQO6UBGEBuyhhwgN8gbCoJCoWgoCcqAcqGdUBFUClVBdVAT9At0DroC3YQGoYfQODQD/Q19hBGYBNNhBVgD1ofZMAd2hX3h9XA0nArnwPnwXrgCrodPwh3wFfg2PAwL4ZfwHAIQIsJAlBFdhI1wEQ8kGIlCBMhWpBApR+qRVqQb6UPuIUJkFvmAwqBoKCZKF2WJckb5ofioVNRWVDGqCnUC1YHqRd1DjaNEqM9oMloerYO2QPPQgehodBa6AF2ObkS3o6+hh9GT6HcYDIaBYWHMMM6YIEwcZjOmGHMY04a5jBnETGDmsFisDFYHa4X1wIZh07EF2ErsSewl7BB2EvseR8Qp4YxwjrhgXBIuD1eOa8ZdxA3hpnALeHG8Ot4C74GPwG/Cl+Ab8N34O/hJ/AJBgsAiWBF8CXGEHYQKQivhGmGM8IZIJKoQzYlexFjidmIF8RTxBnGc+IFEJWmTuKQQUgZpL+k46TLpIekNmUzWINuSg8np5L3kJvJV8lPyezGamJ4YTyxCbJtYtViH2JDYKwqeok7hUDZQcijllDOUO5RZcby4hjhXPEx8q3i1+DnxUfE5CZqEoYSHRKJEsUSzxE2JaSqWqkF1oEZQ86nHqFepEzSEpkrj0vi0nbQG2jXaJB1DZ9F59Dh6Ef1n+gBdJEmVNJb0l8yWrJa8IClkIAwNBo+RwChhnGaMMD5KKUhxpCKl9ki1Sg1JzUvLSdtKR0oXSrdJD0t/lGHKOMjEy+yX6ZR5IouS1Zb1ks2SPSJ7TXZWji5nKceXK5Q7LfdIHpbXlveW3yx/TL5ffk5BUcFJIUWhUuGqwqwiQ9FWMU6xTPGi4owSTclaKVapTOmS0gumJJPDTGBWMHuZImV5ZWflDOU65QHlBRWWip9KnkqbyhNVgipbNUq1TLVHVaSmpOaulqvWovZIHa/OVo9RP6Tepz6vwdII0Nit0akxzZJm8Vg5rBbWmCZZ00YzVbNe874WRoutFa91WOuuNqxtoh2jXa19RwfWMdWJ1TmsM7gKvcp8VdKq+lWjuiRdjm6mbovuuB5Dz00vT69T75W+mn6w/n79Pv3PBiYGCQYNBo8NqYYuhnmG3YZ/G2kb8Y2qje6vJq92XL1tddfq18Y6xpHGR4wfmNBM3E12m/SYfDI1MxWYtprOmKmZhZrVmI2y6WxPdjH7hjna3M58m/l58w8WphbpFqct/rLUtYy3bLacXsNaE7mmYc2ElYpVmFWdldCaaR1qfdRaaKNsE2ZTb/PMVtU2wrbRdoqjxYnjnOS8sjOwE9i1281zLbhbuJftEXsn+0L7AQeqg59DlcNTRxXHaMcWR5GTidNmp8vOaGdX5/3OozwFHp/XxBO5mLlscel1Jbn6uFa5PnPTdhO4dbvD7i7uB9zH1qqvTVrb6QE8eB4HPJ54sjxTPX/1wnh5elV7Pfc29M717vOh+Wz0afZ552vnW+L72E/TL8Ovx5/iH+Lf5D8fYB9QGiAM1A/cEng7SDYoNqgrGBvsH9wYPLfOYd3BdZMhJiEFISPrWeuz19/cILshYcOFjZSNYRvPhKJDA0KbQxfDPMLqw+bCeeE14SI+l3+I/zLCNqIsYibSKrI0cirKKqo0ajraKvpA9EyMTUx5zGwsN7Yq9nWcc1xt3Hy8R/zx+KWEgIS2RFxiaOK5JGpSfFJvsmJydvJgik5KQYow1SL1YKpI4CpoTIPS1qd1pdOXP8X+DM2MXRnjmdaZ1Znvs/yzzmRLZCdl92/S3rRn01SOY85Pm1Gb+Zt7cpVzd+SOb+FsqdsKbQ3f2rNNdVv+tsntTttP7CDsiN/xW55BXmne250BO7vzFfK350/sctrVUiBWICgY3W25u/YH1A+xPwzsWb2ncs/nwojCW0UGReVFi8X84ls/Gv5Y8ePS3qi9AyWmJUf2YfYl7RvZb7P/RKlEaU7pxAH3Ax1lzLLCsrcHNx68WW5cXnuIcCjjkLDCraKrUq1yX+ViVUzVcLVddVuNfM2emvnDEYeHjtgeaa1VqC2q/Xg09uiDOqe6jnqN+vJjmGOZx543+Df0/cT+qalRtrGo8dPxpOPCE94nepvMmpqa5ZtLWuCWjJaZkyEn7/5s/3NXq25rXRujregUOJVx6sUvob+MnHY93XOGfab1rPrZmnZae2EH1LGpQ9QZ0ynsCuoaPOdyrqfbsrv9V71fj59XPl99QfJCyUXCxfyLS5dyLs1dTrk8eyX6ykTPxp7HVwOv3u/16h245nrtxnXH61f7OH2XbljdOH/T4ua5W+xbnbdNb3f0m/S3/2byW/uA6UDHHbM7XXfN73YPrhm8OGQzdOWe/b3r93n3bw+vHR4c8Rt5MBoyKnwQ8WD6YcLD148yHy083j6GHit8Iv6k/Kn80/rftX5vE5oKL4zbj/c/83n2eII/8fKPtD8WJ/Ofk5+XTylNNU0bTZ+fcZy5+2Ldi8mXKS8XZgv+lPiz5pXmq7N/2f7VLwoUTb4WvF76u/iNzJvjb43f9sx5zj19l/huYb7wvcz7Ex/YH/o+BnycWshaxC5WfNL61P3Z9fPYUuLS0j9CLJC+ERlPpwAAD4VJREFUeJztnU9s29QfwF9HqzVi2eKCaAeHxgkqlZCoFk+dVKYNYUeAOEygpOU0xCGJtBPi4GQH4NAd7BwmduCQBIbYiSVlqBJIoDioG4w/U9zyV6rUJm1B1Vok7LRBNKiD/g7fH08mSRM7cf4173OKXfv9+dr9+r33/fN69vb2UHMJBoMIIVEUm1wvgUBoTw61ugEEAqHbIWqIQCC0GKKGCARCiyFqiEAgtBiihggEQoshaohAILQYooYIBEKLIWqIQCC0GKKGCARCi+kkNaSqqiiKHMcFg0FVVfF5SZK8Xq/f789msy1sHoFAqI2OUUPZbNbhcDAMI0lSNpv1er1wPpFIBIPBaDQaCAQYhiGaiEDoOHpb3QC9CILg9Xo5joNDh8MBP4LBoCiKFEUxDOP1egVBiEajrWsmoanIshyJRCiKgsOBgQGIWCR0Fp2hhlRVjcVi8XgcDhOJBPyQZXllZQW/hRRFRaNRooa6h3g8LknSysoKQsjj8YRCoVa3iFALTVJDwWAwkUjA6zI+Pv7UU0/hP2Wz2UgkUnS90+n0+/34UJZluNLr9c7MzHg8nmg0SlEUnMdDJIRQLpdrYDcI7Uc0GtW+AIRORK8aUlXV6/VOTk5qtYPOGzmOm5+fx2fu3LkzOjqqvQC0SQWSySRCKJPJwGCH4ziv1ytJUiaTMdQYwsHD4XBIkoT++zUidBa61BBWJbIscxyH12X0EAwGtToIePzxx/FvWHWuXIjT6UQITU5OwvyL47hwOKyqqtvtDofDsiwzDKO/SYQDgyRJqqpSFJXNZv1+fyKRIG9CJ6JLDQmCAKokl8sZXQPG6zgYmqZ5nseHsiyXLisyDKPNi1b23aIoChSi1njvcrn0t43Q6TAMg99GhmEEQSh93wjtT3WDvSzL4XAYH8ZisXqM4jabrehFASNXETD8wTAM43K5YGqGEFJVlWVZhJDD4fD5fPi8JEmBQKDmthE6Du3j5jhuZmamhY0h1M5eNXw+H1xps9mSyaTP5+N5vupdmHg8TtM03O7z+TKZjP57tWQyGZfLxfM8z/MsyyqKAucVRWFZlud5j8djqGGETiedTiOEBEGAQ57nbTZba5tEqI3qaggrkXQ6vbe3JwgCTdONb1h50uk0NKP0fM0KjtChpNNpmqbxB8nlcvl8vtY2iVAbPXvVUuL39PQghJLJJFgiJElyu92ZTMbQQjWB0AjwqiIsFIAbR0tbRKgFXUvULMsWWUMlSTJquScQTEcUxWw2m81mGYYhCqhz0aWGJicn8W/swtOoFhEIRnA4HGRg3unoCm3VPmYSO0ogEMylJx6Pl8ZSaEmlUidOnBgYGEAI7e7u3rp1CyHkdDrtdruhmjY3N+/du2exWHZ3d/P5/KOPPlpHswmtYXt7GyF09OjRVjekBezs7Kyvr5v13iqKYrFYLBZL1SuXl5cfeeQRPVe2OfCPb7Va+/r6FEXB5999991ejuMqT6q//fbbl156CdwCY7EYnHzttddGRkYMNYLn+Z9++gl+v/rqq88//7yxThDaAPA77c4I0vn5+WAw+M4775hSmtvtnpycxN4wla+8cOHCAfDLBQGKouhyudxuNz7/+++/91IUVTkY59SpUzabjeM4CCtDCNE0feHCBaONgPEUQojn+UAgQObznQg8xG6O3jKx73a7XWdpLpfrwMi8bF+qrw0xDAN+Yn6/H+LXa/sYplIphJDP5wuFQjUE/kBusxrq7SqIlEi+oU6kuhpyu92SJImiCJ7yNE3XYKqHAA6WZaPRaDAYrCEdRygUikQiVWPxuxwipXA4XDVSmtBuVFdDMB3DI6DaQgeTyaTL5YpGowzD4AUmQ1AUFQqFOI4jproKECkROpFeWZZxVsOybGxs7OzswO/x8fF4PF75+rIlXL9+/eWXX7548SJO+lHb4DmXy01MTExNTfX399dwe5fQOCktLy+jtp/4xGIxHO1sIqurq8jUvs/NzeksrUE9ajIgwNK+5PP5KqOhQqEwOzv7119/IYTGxsa0WRP1c/PmzampKZvNVsO9WhYXFxFCm5ubn332WZ1FdQThcBienCG6TUqEg0CFeDNFUbRmwrIxpVXheT4ej8NvrRY0Wg5E2OPbcUDjAQYh9Pbbbxu6ZT8pZTIZQRDqFxrLsizL1llIQ0EIJZPJRpQMb69ZpSGEdCaEaFyPSjHrPSkLCBD6olVByWSyUjAHTpxI0zSk2qzBwiXLMmyfgP6bnwwHyuoshOM4vLCt3YzhYLOwsKD/4gpS4jhuZWUlnU43IisYRVH72RwEQWjzGVz3oOcxNfQ9qcC+akgURVhLhkRlkiSB2d4oWkUD0fml5ysDKWhBgjabTRTFtoqqhdBK7WEqlerv73///ffrL/zjjz/WeWULpVTB7ql1liW0lnZ+TOXVUDabFQQBfoN5C5nhO6udlEmSVINHVigUauh/V/ZfwMsJ+OOPP37++Wd8mMvltra2tMMx7SgPsFqtpqihjY2NaDRqtMulUpIkKZFItJX6JrQhrXpPestujDE9PQ26E7LQw8jlyJEj4XC4Nqfyu3fvTk9P5/P5EydOwJkXXnjB5XK9/vrrem6/ePEiDBpHRkYa6hVy6dKlmzdv6rmyVPVoyefzZrXzzTff1OlxXllKDMPU708En039XVMUpflePKVbMJhYrIndWV1d1Vlag3qE0T4mU96TskAvyvalTGjrzs7OV199hRCyWq3j4+P45Pz8vMViOXr0qMVieeihh/r6+gw1os7Q1vX19cXFxTNnzhit1xBff/31n3/+aeiWQ4cOHTr0f4Pj3t7e33//3dvbe+/ePciWXQ+pVMpisezs7AwPD+sUV6OlBO9QO8c3aSOxzUVRlIWFhfofK5BKpXQ+1sb1qMmAAKEv2tnGtWvXyqz8420zYE1bURTtRhqAzWaLRCKG1sm1z8/ovYDRNNg1gP/BhjWMjo5OavD7/cn/UmRZMMukghC6ceMGNEl/ituGSolYyswqDbWlpayhGLOUwZAMZ1wMBoOlfs+5XC4QCGQyGe02Pjrhed7QqpAoirAs5fF4EolE0Yau5gL5BtonGsBqtcLeW7DtbYUrmyklAsFcyrgvwngJMi5KkgQ6yOPxgPM0z/M4O4Gh+J2aQ1vxMr6qqg6HIxAIdFXMlMPhiEajMzMzlUXd5VIidDT7elFDTg8YR/E8n0gkvF4vy7JOpzMajSaTSfCKrpwyDVNPaCvY+HmelyRJluVkMmk0mqTTAclX7jWREqFzKaOGYEcgMEjDFxXPvBiGgSzUHMfBSZ0b1NUT2spxHE3TJ0+exIc1zAQ7nUAgUHlSRqRE6FzKWMp+/PHH3377DVaUl5eX19bW8Ory+vr65uYmXse9fft2oVCouoy/vb29sLAwPj6+s7OD3YINWRwURVEUpQl5Y5eXl7e3t+u0BJllUikykaRSqYmJiQrJQJsgpS60lO3u7iqKks/ne3t7M5lMcyxluNKBgQFsXTKl3hZSwVJWJgnsJ5988tZbb8F6J+RtfPHFFyHl6/z8/PT0NPZjnJ6evnXrFk4Rux88z1+5cmVkZGR+fh6rIaPOkLFYTE/GzDqJxWJLS0t1OmpCN+v39kylUlrZplKpc+fOVRZ1o6XU/klgi4RWD/l8/oMPPiia25rV91QqderUqdKHVVTp2toaQsisHrUW+L+AvmjV0PHjx8sYIBVF0drjPR6Py+XCNmmkCZj0eDyomgnTrNDW5gA7U9dZiIkGe62lFhkx2zeI7jHYF8V1Y8x6BKicwX6/Sq9du2ZKpa3FmMGeoii/3y8IgtfrpSgKggkcDgf4DdM0DSGUCCFZlqt+e00JbSVA2BpJ4F0WVVUh5lGbaL1OBEFotO+y/kqffPLJJrekyZSPKRNFUZZlv98Pu/EmEgkcvelwOEANiaKozcq4H/WHthIQQpIkHYBhuemoqioIQjgchkP8o37KpvRmWbahX4KWVNoO7GuwB9XDcRzoCywIhmEURQFnOVEUDQmoKLS11jZ3I8lk8sDszWAWkFSgVPXcvXu3/sJLfUpomm70dgMtqbQd6Emn0xUcTObm5r7//vv+/v7HHnsMzqytrW1ubg4ODj7zzDNDQ0M6q8nlcrOzs4VCAedg3NjYsNvt586dq6/9JjM3N7e5uTk1NVXDvYVCYXV1dWNjw2Kx3Lx5szQCxlAhdrs9Ho9PTk7CtpSzs7Nnz56tP4NlnVy/fh0hVJt8TGdubu7OnTul5/1+f/2CKip8bGzs7Nmz/f39uVzul19+eeKJJ+osPxwOj4+P43SmX3755enTp/ertM662oTV1VX8Sms/Hjdu3KiihhBChUJhcXER6+mtra1CodAmL6Lp1KaGCoXCN998U/QvYVQNlS0EqyFCKVeuXIH0xFqGh4fNejk3NjYWFxdtNpvdbsd6rVAoXL161WazPf300/o/wxX44Ycf0un0/fffD80uW+nBJhQKGTboJJPJNreV1EMNljJTTCoH20TSIErFRdN0E4yJiqL4/f5jx45ZrVbwbq+hhMuXL58+ffrw4cPHjh174403GtHODmLf7IuqqkajUUVRTp48CYEdB5U67SymmFS61kRSDzzPa8f2Pp9PFMUmZAemKCoSiUQikffee+/q1asQfYkQGhwcfPjhh48cOULT9NDQkNPpdDgc2Ww2k8msrq4uLS3t7u7++uuvW1tbCKG+vr4zZ87cvn27hsTKB4+evXJfFYQQwzD4HyMej2NNJEmSIAgHY4G5yM6CEBobG3vwwQcN9a5sil+WZZtfSBcC21s5nU6O41plToLEgbIsf/7557lcbmlpCf3XN6W3t9dqtfb19dnt9qGhIbfbPTo6SgwO/6HsGKlotUg7T4lEIgdjUrbfPGhiYsJQOaUl1DA1MKUQQrvRDfvHmEL1XVvRv2GuQDqd7vRhZCKRCAaDzz77bNl50ODgYNXkPlqKlqJ9Pp8sy+DtqWfrVLhmv0J0toHQnnTJ/jEmUFY5QRg9YLPZsHc8xHl0ei44iEGpjMfj0V9gOp3meT4SiWjHL5lM5vDhw5cvX97vLkVRzp8//8ADD1QohEDoBvZdG+I4TpZlSM2BP8terxcWdE3RgK2lp6en6AxN05IkmTgG+eijj1555ZV//vnnueeeA19YiqJUVf3iiy++++67Tz/99Pjx4x9++GGnjy4JhHrZTz/B0glN05FIBHJosSyrjXHtdErnQQ3q2vnz54eHh7V13XfffcPDw5cuXWpEdQRCx7HvaAj9a7NPJpOpVIplWYZhDlgmrSbbWWRZhgytZNGHQNBSSQ0RCARCE/gfuigTWvub0KYAAAAASUVORK5CYII=\"/>"
      ],
      "text/plain": [
       "Chain([4C:0.5♩:offset=0, 4D:1♩:offset=0.5, 4E:1♩:offset=5, 4F:2♩:offset=6], offset=1)"
      ]
     },
     "execution_count": 10,
     "metadata": {},
     "output_type": "execute_result"
    }
   ],
   "source": [
    "ch2 = ch.flat()\n",
    "ch2.dump()\n",
    "ch2"
   ]
  },
  {
   "cell_type": "code",
   "execution_count": 11,
   "id": "6c0815b0-b19c-4eef-9ef6-cdc55426d2c9",
   "metadata": {},
   "outputs": [
    {
     "data": {
      "text/html": [
       "<code><span style=\"font-size: 85%\"><b>Chain</b> - beat: 1, offset: 1, dur: 8</span></code><br><code><span style=\"color:#BBBBBB;font-size:85%\">  beat   offset      dur         name      gliss dyn  playargs            info                </span></code><br><code><span style=\"color:#9090FF;font-size:85%\">  1      0           0.5         4C        False      None                -</span></code><br><code><span style=\"color:#9090FF;font-size:85%\">  1.5    0.5         1           4D        False      None                -</span></code><br><code><span style=\"color:#9090FF;font-size:85%\">  2.5    (3/2)       3.5         Rest      False      None                -</span></code><br><code><span style=\"color:#9090FF;font-size:85%\">  6      5           1           4E        False      None                properties: {'.chainlabel': '5'}</span></code><br><code><span style=\"color:#9090FF;font-size:85%\">  7      6           2           4F        False      None                -</span></code>"
      ],
      "text/plain": [
       "<IPython.core.display.HTML object>"
      ]
     },
     "metadata": {},
     "output_type": "display_data"
    },
    {
     "data": {
      "text/html": [
       "<code style=\"white-space: pre-line; font-size:0.9em;\">Chain([<span style=\"color:#6666E0\">4C:0.5♩:offset=0</span>, <span style=\"color:#6666E0\">4D:1♩:offset=0.5</span>, <span style=\"color:#6666E0\">Rest:3.5♩</span>, <span style=\"color:#6666E0\">4E:1♩:offset=5</span>, <span style=\"color:#6666E0\">4F:2♩:offset=6</span>], dur=8, offset=1)</code><br>\n",
       "        <img style=\"display:inline; padding:10px;\n",
       "margin-top:14px;\n",
       "width:386px\"\n",
       "             src=\"data:image/png;base64,iVBORw0KGgoAAAANSUhEUgAAAYIAAAA+CAIAAACp54tkAAAJLmlDQ1BJQ0MgUHJvZmlsZQAAeJyVlWdQk1kXx+/zPOmFQBJCh1BDkSolgJQQWijSq6hA6J1QRWyIuAIriog0RZBFARdclSJrRRQLi4ICFnSDLALKunEVUUFZcN8ZnfcdP7z/mXvPb/5z5t5zz/lwASCIg2XBy3tiUrrA28mOGRgUzATfKIyflsLx9HQD39W7EQCtxHu638/5rggRkWn85bi4vHL5KYJ0AKDsZdbMSk9Z4aPLTA+P/8JnV1iwXOAy31jh6H957EvOvyz6kuPrzV1+FQoAHCn6Gw7/hv9z74pUOIL02KjIbKZPclR6Vpggkpm20gkel8v0FCRHxSZEflPw/5X8HaVHZqevRG5yyiZBbHRMOvN/DjUyMDQEX2fxxutLjyFG/3/PZ0VfveR6ANhzACD7vnrhlQB07gJA+tFXT225r5R8ADru8DMEmf96qJUNDQiAAuhABigCVaAJdIERMAOWwBY4ABfgAXxBENgA+CAGJAIByAK5YAcoAEVgHzgIqkAtaABNoBWcBp3gPLgCroPb4C4YBo+BEEyCl0AE3oEFCIKwEBmiQTKQEqQO6UBGEBuyhhwgN8gbCoJCoWgoCcqAcqGdUBFUClVBdVAT9At0DroC3YQGoYfQODQD/Q19hBGYBNNhBVgD1ofZMAd2hX3h9XA0nArnwPnwXrgCrodPwh3wFfg2PAwL4ZfwHAIQIsJAlBFdhI1wEQ8kGIlCBMhWpBApR+qRVqQb6UPuIUJkFvmAwqBoKCZKF2WJckb5ofioVNRWVDGqCnUC1YHqRd1DjaNEqM9oMloerYO2QPPQgehodBa6AF2ObkS3o6+hh9GT6HcYDIaBYWHMMM6YIEwcZjOmGHMY04a5jBnETGDmsFisDFYHa4X1wIZh07EF2ErsSewl7BB2EvseR8Qp4YxwjrhgXBIuD1eOa8ZdxA3hpnALeHG8Ot4C74GPwG/Cl+Ab8N34O/hJ/AJBgsAiWBF8CXGEHYQKQivhGmGM8IZIJKoQzYlexFjidmIF8RTxBnGc+IFEJWmTuKQQUgZpL+k46TLpIekNmUzWINuSg8np5L3kJvJV8lPyezGamJ4YTyxCbJtYtViH2JDYKwqeok7hUDZQcijllDOUO5RZcby4hjhXPEx8q3i1+DnxUfE5CZqEoYSHRKJEsUSzxE2JaSqWqkF1oEZQ86nHqFepEzSEpkrj0vi0nbQG2jXaJB1DZ9F59Dh6Ef1n+gBdJEmVNJb0l8yWrJa8IClkIAwNBo+RwChhnGaMMD5KKUhxpCKl9ki1Sg1JzUvLSdtKR0oXSrdJD0t/lGHKOMjEy+yX6ZR5IouS1Zb1ks2SPSJ7TXZWji5nKceXK5Q7LfdIHpbXlveW3yx/TL5ffk5BUcFJIUWhUuGqwqwiQ9FWMU6xTPGi4owSTclaKVapTOmS0gumJJPDTGBWMHuZImV5ZWflDOU65QHlBRWWip9KnkqbyhNVgipbNUq1TLVHVaSmpOaulqvWovZIHa/OVo9RP6Tepz6vwdII0Nit0akxzZJm8Vg5rBbWmCZZ00YzVbNe874WRoutFa91WOuuNqxtoh2jXa19RwfWMdWJ1TmsM7gKvcp8VdKq+lWjuiRdjm6mbovuuB5Dz00vT69T75W+mn6w/n79Pv3PBiYGCQYNBo8NqYYuhnmG3YZ/G2kb8Y2qje6vJq92XL1tddfq18Y6xpHGR4wfmNBM3E12m/SYfDI1MxWYtprOmKmZhZrVmI2y6WxPdjH7hjna3M58m/l58w8WphbpFqct/rLUtYy3bLacXsNaE7mmYc2ElYpVmFWdldCaaR1qfdRaaKNsE2ZTb/PMVtU2wrbRdoqjxYnjnOS8sjOwE9i1281zLbhbuJftEXsn+0L7AQeqg59DlcNTRxXHaMcWR5GTidNmp8vOaGdX5/3OozwFHp/XxBO5mLlscel1Jbn6uFa5PnPTdhO4dbvD7i7uB9zH1qqvTVrb6QE8eB4HPJ54sjxTPX/1wnh5elV7Pfc29M717vOh+Wz0afZ552vnW+L72E/TL8Ovx5/iH+Lf5D8fYB9QGiAM1A/cEng7SDYoNqgrGBvsH9wYPLfOYd3BdZMhJiEFISPrWeuz19/cILshYcOFjZSNYRvPhKJDA0KbQxfDPMLqw+bCeeE14SI+l3+I/zLCNqIsYibSKrI0cirKKqo0ajraKvpA9EyMTUx5zGwsN7Yq9nWcc1xt3Hy8R/zx+KWEgIS2RFxiaOK5JGpSfFJvsmJydvJgik5KQYow1SL1YKpI4CpoTIPS1qd1pdOXP8X+DM2MXRnjmdaZ1Znvs/yzzmRLZCdl92/S3rRn01SOY85Pm1Gb+Zt7cpVzd+SOb+FsqdsKbQ3f2rNNdVv+tsntTttP7CDsiN/xW55BXmne250BO7vzFfK350/sctrVUiBWICgY3W25u/YH1A+xPwzsWb2ncs/nwojCW0UGReVFi8X84ls/Gv5Y8ePS3qi9AyWmJUf2YfYl7RvZb7P/RKlEaU7pxAH3Ax1lzLLCsrcHNx68WW5cXnuIcCjjkLDCraKrUq1yX+ViVUzVcLVddVuNfM2emvnDEYeHjtgeaa1VqC2q/Xg09uiDOqe6jnqN+vJjmGOZx543+Df0/cT+qalRtrGo8dPxpOPCE94nepvMmpqa5ZtLWuCWjJaZkyEn7/5s/3NXq25rXRujregUOJVx6sUvob+MnHY93XOGfab1rPrZmnZae2EH1LGpQ9QZ0ynsCuoaPOdyrqfbsrv9V71fj59XPl99QfJCyUXCxfyLS5dyLs1dTrk8eyX6ykTPxp7HVwOv3u/16h245nrtxnXH61f7OH2XbljdOH/T4ua5W+xbnbdNb3f0m/S3/2byW/uA6UDHHbM7XXfN73YPrhm8OGQzdOWe/b3r93n3bw+vHR4c8Rt5MBoyKnwQ8WD6YcLD148yHy083j6GHit8Iv6k/Kn80/rftX5vE5oKL4zbj/c/83n2eII/8fKPtD8WJ/Ofk5+XTylNNU0bTZ+fcZy5+2Ldi8mXKS8XZgv+lPiz5pXmq7N/2f7VLwoUTb4WvF76u/iNzJvjb43f9sx5zj19l/huYb7wvcz7Ex/YH/o+BnycWshaxC5WfNL61P3Z9fPYUuLS0j9CLJC+ERlPpwAAD4VJREFUeJztnU9s29QfwF9HqzVi2eKCaAeHxgkqlZCoFk+dVKYNYUeAOEygpOU0xCGJtBPi4GQH4NAd7BwmduCQBIbYiSVlqBJIoDioG4w/U9zyV6rUJm1B1Vok7LRBNKiD/g7fH08mSRM7cf4173OKXfv9+dr9+r33/fN69vb2UHMJBoMIIVEUm1wvgUBoTw61ugEEAqHbIWqIQCC0GKKGCARCiyFqiEAgtBiihggEQoshaohAILQYooYIBEKLIWqIQCC0GKKGCARCi+kkNaSqqiiKHMcFg0FVVfF5SZK8Xq/f789msy1sHoFAqI2OUUPZbNbhcDAMI0lSNpv1er1wPpFIBIPBaDQaCAQYhiGaiEDoOHpb3QC9CILg9Xo5joNDh8MBP4LBoCiKFEUxDOP1egVBiEajrWsmoanIshyJRCiKgsOBgQGIWCR0Fp2hhlRVjcVi8XgcDhOJBPyQZXllZQW/hRRFRaNRooa6h3g8LknSysoKQsjj8YRCoVa3iFALTVJDwWAwkUjA6zI+Pv7UU0/hP2Wz2UgkUnS90+n0+/34UJZluNLr9c7MzHg8nmg0SlEUnMdDJIRQLpdrYDcI7Uc0GtW+AIRORK8aUlXV6/VOTk5qtYPOGzmOm5+fx2fu3LkzOjqqvQC0SQWSySRCKJPJwGCH4ziv1ytJUiaTMdQYwsHD4XBIkoT++zUidBa61BBWJbIscxyH12X0EAwGtToIePzxx/FvWHWuXIjT6UQITU5OwvyL47hwOKyqqtvtDofDsiwzDKO/SYQDgyRJqqpSFJXNZv1+fyKRIG9CJ6JLDQmCAKokl8sZXQPG6zgYmqZ5nseHsiyXLisyDKPNi1b23aIoChSi1njvcrn0t43Q6TAMg99GhmEEQSh93wjtT3WDvSzL4XAYH8ZisXqM4jabrehFASNXETD8wTAM43K5YGqGEFJVlWVZhJDD4fD5fPi8JEmBQKDmthE6Du3j5jhuZmamhY0h1M5eNXw+H1xps9mSyaTP5+N5vupdmHg8TtM03O7z+TKZjP57tWQyGZfLxfM8z/MsyyqKAucVRWFZlud5j8djqGGETiedTiOEBEGAQ57nbTZba5tEqI3qaggrkXQ6vbe3JwgCTdONb1h50uk0NKP0fM0KjtChpNNpmqbxB8nlcvl8vtY2iVAbPXvVUuL39PQghJLJJFgiJElyu92ZTMbQQjWB0AjwqiIsFIAbR0tbRKgFXUvULMsWWUMlSTJquScQTEcUxWw2m81mGYYhCqhz0aWGJicn8W/swtOoFhEIRnA4HGRg3unoCm3VPmYSO0ogEMylJx6Pl8ZSaEmlUidOnBgYGEAI7e7u3rp1CyHkdDrtdruhmjY3N+/du2exWHZ3d/P5/KOPPlpHswmtYXt7GyF09OjRVjekBezs7Kyvr5v13iqKYrFYLBZL1SuXl5cfeeQRPVe2OfCPb7Va+/r6FEXB5999991ejuMqT6q//fbbl156CdwCY7EYnHzttddGRkYMNYLn+Z9++gl+v/rqq88//7yxThDaAPA77c4I0vn5+WAw+M4775hSmtvtnpycxN4wla+8cOHCAfDLBQGKouhyudxuNz7/+++/91IUVTkY59SpUzabjeM4CCtDCNE0feHCBaONgPEUQojn+UAgQObznQg8xG6O3jKx73a7XWdpLpfrwMi8bF+qrw0xDAN+Yn6/H+LXa/sYplIphJDP5wuFQjUE/kBusxrq7SqIlEi+oU6kuhpyu92SJImiCJ7yNE3XYKqHAA6WZaPRaDAYrCEdRygUikQiVWPxuxwipXA4XDVSmtBuVFdDMB3DI6DaQgeTyaTL5YpGowzD4AUmQ1AUFQqFOI4jproKECkROpFeWZZxVsOybGxs7OzswO/x8fF4PF75+rIlXL9+/eWXX7548SJO+lHb4DmXy01MTExNTfX399dwe5fQOCktLy+jtp/4xGIxHO1sIqurq8jUvs/NzeksrUE9ajIgwNK+5PP5KqOhQqEwOzv7119/IYTGxsa0WRP1c/PmzampKZvNVsO9WhYXFxFCm5ubn332WZ1FdQThcBienCG6TUqEg0CFeDNFUbRmwrIxpVXheT4ej8NvrRY0Wg5E2OPbcUDjAQYh9Pbbbxu6ZT8pZTIZQRDqFxrLsizL1llIQ0EIJZPJRpQMb69ZpSGEdCaEaFyPSjHrPSkLCBD6olVByWSyUjAHTpxI0zSk2qzBwiXLMmyfgP6bnwwHyuoshOM4vLCt3YzhYLOwsKD/4gpS4jhuZWUlnU43IisYRVH72RwEQWjzGVz3oOcxNfQ9qcC+akgURVhLhkRlkiSB2d4oWkUD0fml5ysDKWhBgjabTRTFtoqqhdBK7WEqlerv73///ffrL/zjjz/WeWULpVTB7ql1liW0lnZ+TOXVUDabFQQBfoN5C5nhO6udlEmSVINHVigUauh/V/ZfwMsJ+OOPP37++Wd8mMvltra2tMMx7SgPsFqtpqihjY2NaDRqtMulUpIkKZFItJX6JrQhrXpPestujDE9PQ26E7LQw8jlyJEj4XC4Nqfyu3fvTk9P5/P5EydOwJkXXnjB5XK9/vrrem6/ePEiDBpHRkYa6hVy6dKlmzdv6rmyVPVoyefzZrXzzTff1OlxXllKDMPU708En039XVMUpflePKVbMJhYrIndWV1d1Vlag3qE0T4mU96TskAvyvalTGjrzs7OV199hRCyWq3j4+P45Pz8vMViOXr0qMVieeihh/r6+gw1os7Q1vX19cXFxTNnzhit1xBff/31n3/+aeiWQ4cOHTr0f4Pj3t7e33//3dvbe+/ePciWXQ+pVMpisezs7AwPD+sUV6OlBO9QO8c3aSOxzUVRlIWFhfofK5BKpXQ+1sb1qMmAAKEv2tnGtWvXyqz8420zYE1bURTtRhqAzWaLRCKG1sm1z8/ovYDRNNg1gP/BhjWMjo5OavD7/cn/UmRZMMukghC6ceMGNEl/ituGSolYyswqDbWlpayhGLOUwZAMZ1wMBoOlfs+5XC4QCGQyGe02Pjrhed7QqpAoirAs5fF4EolE0Yau5gL5BtonGsBqtcLeW7DtbYUrmyklAsFcyrgvwngJMi5KkgQ6yOPxgPM0z/M4O4Gh+J2aQ1vxMr6qqg6HIxAIdFXMlMPhiEajMzMzlUXd5VIidDT7elFDTg8YR/E8n0gkvF4vy7JOpzMajSaTSfCKrpwyDVNPaCvY+HmelyRJluVkMmk0mqTTAclX7jWREqFzKaOGYEcgMEjDFxXPvBiGgSzUHMfBSZ0b1NUT2spxHE3TJ0+exIc1zAQ7nUAgUHlSRqRE6FzKWMp+/PHH3377DVaUl5eX19bW8Ory+vr65uYmXse9fft2oVCouoy/vb29sLAwPj6+s7OD3YINWRwURVEUpQl5Y5eXl7e3t+u0BJllUikykaRSqYmJiQrJQJsgpS60lO3u7iqKks/ne3t7M5lMcyxluNKBgQFsXTKl3hZSwVJWJgnsJ5988tZbb8F6J+RtfPHFFyHl6/z8/PT0NPZjnJ6evnXrFk4Rux88z1+5cmVkZGR+fh6rIaPOkLFYTE/GzDqJxWJLS0t1OmpCN+v39kylUlrZplKpc+fOVRZ1o6XU/klgi4RWD/l8/oMPPiia25rV91QqderUqdKHVVTp2toaQsisHrUW+L+AvmjV0PHjx8sYIBVF0drjPR6Py+XCNmmkCZj0eDyomgnTrNDW5gA7U9dZiIkGe62lFhkx2zeI7jHYF8V1Y8x6BKicwX6/Sq9du2ZKpa3FmMGeoii/3y8IgtfrpSgKggkcDgf4DdM0DSGUCCFZlqt+e00JbSVA2BpJ4F0WVVUh5lGbaL1OBEFotO+y/kqffPLJJrekyZSPKRNFUZZlv98Pu/EmEgkcvelwOEANiaKozcq4H/WHthIQQpIkHYBhuemoqioIQjgchkP8o37KpvRmWbahX4KWVNoO7GuwB9XDcRzoCywIhmEURQFnOVEUDQmoKLS11jZ3I8lk8sDszWAWkFSgVPXcvXu3/sJLfUpomm70dgMtqbQd6Emn0xUcTObm5r7//vv+/v7HHnsMzqytrW1ubg4ODj7zzDNDQ0M6q8nlcrOzs4VCAedg3NjYsNvt586dq6/9JjM3N7e5uTk1NVXDvYVCYXV1dWNjw2Kx3Lx5szQCxlAhdrs9Ho9PTk7CtpSzs7Nnz56tP4NlnVy/fh0hVJt8TGdubu7OnTul5/1+f/2CKip8bGzs7Nmz/f39uVzul19+eeKJJ+osPxwOj4+P43SmX3755enTp/ertM662oTV1VX8Sms/Hjdu3KiihhBChUJhcXER6+mtra1CodAmL6Lp1KaGCoXCN998U/QvYVQNlS0EqyFCKVeuXIH0xFqGh4fNejk3NjYWFxdtNpvdbsd6rVAoXL161WazPf300/o/wxX44Ycf0un0/fffD80uW+nBJhQKGTboJJPJNreV1EMNljJTTCoH20TSIErFRdN0E4yJiqL4/f5jx45ZrVbwbq+hhMuXL58+ffrw4cPHjh174403GtHODmLf7IuqqkajUUVRTp48CYEdB5U67SymmFS61kRSDzzPa8f2Pp9PFMUmZAemKCoSiUQikffee+/q1asQfYkQGhwcfPjhh48cOULT9NDQkNPpdDgc2Ww2k8msrq4uLS3t7u7++uuvW1tbCKG+vr4zZ87cvn27hsTKB4+evXJfFYQQwzD4HyMej2NNJEmSIAgHY4G5yM6CEBobG3vwwQcN9a5sil+WZZtfSBcC21s5nU6O41plToLEgbIsf/7557lcbmlpCf3XN6W3t9dqtfb19dnt9qGhIbfbPTo6SgwO/6HsGKlotUg7T4lEIgdjUrbfPGhiYsJQOaUl1DA1MKUQQrvRDfvHmEL1XVvRv2GuQDqd7vRhZCKRCAaDzz77bNl50ODgYNXkPlqKlqJ9Pp8sy+DtqWfrVLhmv0J0toHQnnTJ/jEmUFY5QRg9YLPZsHc8xHl0ei44iEGpjMfj0V9gOp3meT4SiWjHL5lM5vDhw5cvX97vLkVRzp8//8ADD1QohEDoBvZdG+I4TpZlSM2BP8terxcWdE3RgK2lp6en6AxN05IkmTgG+eijj1555ZV//vnnueeeA19YiqJUVf3iiy++++67Tz/99Pjx4x9++GGnjy4JhHrZTz/B0glN05FIBHJosSyrjXHtdErnQQ3q2vnz54eHh7V13XfffcPDw5cuXWpEdQRCx7HvaAj9a7NPJpOpVIplWYZhDlgmrSbbWWRZhgytZNGHQNBSSQ0RCARCE/gfuigTWvub0KYAAAAASUVORK5CYII=\"/>"
      ],
      "text/plain": [
       "Chain([4C:0.5♩:offset=0, 4D:1♩:offset=0.5, Rest:3.5♩, 4E:1♩:offset=5, 4F:2♩:offset=6], offset=1)"
      ]
     },
     "execution_count": 11,
     "metadata": {},
     "output_type": "execute_result"
    }
   ],
   "source": [
    "ch2.fillGaps()\n",
    "ch2.dump()\n",
    "ch2"
   ]
  },
  {
   "cell_type": "code",
   "execution_count": null,
   "id": "975e7695-98a1-4d3b-9a09-cd53441edf78",
   "metadata": {},
   "outputs": [],
   "source": []
  }
 ],
 "metadata": {
  "kernelspec": {
   "display_name": "Python 3 (ipykernel)",
   "language": "python",
   "name": "python3"
  },
  "language_info": {
   "codemirror_mode": {
    "name": "ipython",
    "version": 3
   },
   "file_extension": ".py",
   "mimetype": "text/x-python",
   "name": "python",
   "nbconvert_exporter": "python",
   "pygments_lexer": "ipython3",
   "version": "3.10.7"
  }
 },
 "nbformat": 4,
 "nbformat_minor": 5
}
