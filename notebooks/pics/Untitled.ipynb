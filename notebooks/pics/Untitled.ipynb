{
 "cells": [
  {
   "cell_type": "code",
   "execution_count": 1,
   "id": "3f5ca850-a514-46df-9346-890444d8f3db",
   "metadata": {},
   "outputs": [
    {
     "name": "stdout",
     "output_type": "stream",
     "text": [
      "csoundengine.magic extension loaded\n",
      "Magics available: %csound, %%csound, %%definstr\n"
     ]
    }
   ],
   "source": [
    "import csoundengine as ce\n",
    "import sndfileio\n"
   ]
  },
  {
   "cell_type": "code",
   "execution_count": 2,
   "id": "c0b8cbe4-8f3a-4d10-a6b9-252223eaf153",
   "metadata": {},
   "outputs": [
    {
     "name": "stderr",
     "output_type": "stream",
     "text": [
      "\n",
      "\n",
      "--Csound version 6.18 (double samples) May 25 2022\n",
      "[commit: 91bdd78bd0a19aacb1ae2f9e08849f79302ff919]\n",
      "\u001b[mlibsndfile-1.0.31\n",
      "\u001b[msr = 48000.0,\u001b[m kr = 750.000,\u001b[m ksmps = 64\n",
      "\u001b[m0dBFS level = 1.0,\u001b[m A4 tuning = 442.0\n",
      "\u001b[maudio buffered in 512 sample-frame blocks\n",
      "\u001b[mreading 2048-byte blks of shorts from adc:Built-in Audio Analog Stereo: (RAW)\n",
      "writing 1024 sample blks of 64-bit floats to dac:Built-in Audio Analog Stereo:\n",
      "SECTION 1:\n"
     ]
    }
   ],
   "source": [
    "e = ce.Engine()\n",
    "s = e.session()\n"
   ]
  },
  {
   "cell_type": "code",
   "execution_count": 3,
   "id": "9168103c-814c-4a48-b5dd-6898a1fccc12",
   "metadata": {},
   "outputs": [
    {
     "data": {
      "text/html": [
       "Instr <strong style=\"color:MediumSeaGreen\">test</strong><br>\n",
       "<div class=\"highlight\" style=\"background: #f8f8f8\"><pre style=\"line-height: 125%;\"><span></span><code>    <span style=\"color: #008000\">outch</span> <span style=\"color: #666666\">1</span>, <span style=\"color: #008000\">oscili</span>:<span style=\"color: #B00040\">a</span>(<span style=\"color: #666666\">0.1</span>, <span style=\"color: #666666\">1000</span>)\n",
       "</code></pre></div>\n"
      ],
      "text/plain": [
       "Instr(test)"
      ]
     },
     "execution_count": 3,
     "metadata": {},
     "output_type": "execute_result"
    }
   ],
   "source": [
    "s.defInstr(\"test\", r'''\n",
    "    outch 1, oscili:a(0.1, 1000)\n",
    "''')"
   ]
  },
  {
   "cell_type": "code",
   "execution_count": 4,
   "id": "7572bded-e626-4bcd-8db0-72b7e789d14d",
   "metadata": {},
   "outputs": [],
   "source": [
    "synth = s.sched('test', 0, 100)"
   ]
  },
  {
   "cell_type": "code",
   "execution_count": 6,
   "id": "90edb7f4-3e7b-4d43-93da-656da71f39b4",
   "metadata": {},
   "outputs": [],
   "source": [
    "g = ce.synth.SynthGroup([synth])"
   ]
  },
  {
   "cell_type": "code",
   "execution_count": 7,
   "id": "8a5e3a26-ada9-4806-afc8-93bcb92aa14c",
   "metadata": {},
   "outputs": [],
   "source": [
    "g.stop()"
   ]
  },
  {
   "cell_type": "code",
   "execution_count": null,
   "id": "19695087-bd03-4f0f-b205-2593dc24e9be",
   "metadata": {},
   "outputs": [],
   "source": []
  },
  {
   "cell_type": "code",
   "execution_count": 2,
   "id": "2ef1a1d2-5f2f-4c9c-8172-a7751a059af8",
   "metadata": {},
   "outputs": [],
   "source": [
    "samples, info = sndfileio.sndget(\"/home/em/Lib/snd/samples/speech/finneganswake-fragm01.flac\")"
   ]
  },
  {
   "cell_type": "code",
   "execution_count": 3,
   "id": "f87938c9-9e56-4d4a-b7d4-f6d2f83abb03",
   "metadata": {},
   "outputs": [],
   "source": [
    "r = ce.offline.Renderer()"
   ]
  },
  {
   "cell_type": "code",
   "execution_count": 4,
   "id": "16ae1ee2-401c-46cb-bebb-674f5b4d4a19",
   "metadata": {},
   "outputs": [
    {
     "data": {
      "text/plain": [
       "<csoundengine.offline.ScoreEvent at 0x7fbd0b36bd60>"
      ]
     },
     "execution_count": 4,
     "metadata": {},
     "output_type": "execute_result"
    }
   ],
   "source": [
    "r.playSample(samples[0:info.samplerate*3], sr=info.samplerate, loop=True, dur=30, speed=0.5)"
   ]
  },
  {
   "cell_type": "code",
   "execution_count": 5,
   "id": "e0de52fa-aa10-4db7-af9c-1498a5ed631b",
   "metadata": {},
   "outputs": [
    {
     "name": "stderr",
     "output_type": "stream",
     "text": [
      "UnifiedCSD:  /tmp/tmpv4p3mixn.csd\n",
      "instr _stop uses instrument number 1\n",
      "instr _automatePargViaTable uses instrument number 2\n",
      "instr _automateTableViaTable uses instrument number 3\n",
      "instr _pwrite uses instrument number 4\n",
      "Elapsed time at end of orchestra compile: real: 0.015s, CPU: 0.015s\n",
      "\u001b[msorting score ...\n",
      "\t... done\n",
      "Elapsed time at end of score sort: real: 0.016s, CPU: 0.015s\n",
      "\u001b[m--Csound version 6.18 (double samples) May 25 2022\n",
      "[commit: 91bdd78bd0a19aacb1ae2f9e08849f79302ff919]\n",
      "\u001b[mlibsndfile-1.0.31\n",
      "\u001b[mgraphics suppressed, ascii substituted\n",
      "sr = 44100.0,\u001b[m kr = 689.062,\u001b[m ksmps = 64\n",
      "\u001b[m0dBFS level = 1.0,\u001b[m A4 tuning = 442.0\n",
      "\u001b[mftable 101:\n",
      "ftable 101:\t100 points, scalemax 0.000\n",
      "orch now loaded\n",
      "\u001b[maudio buffered in 256 sample-frame blocks\n",
      "\u001b[mwriting 2048-byte blks of floats to /home/em/tmp/foo.wav (WAV)\n",
      "SECTION 1:\n",
      "\u001b[mftable 1:\n",
      "deferred alloc for tmpv4p3mixn.assets/table-0001.wav\n",
      "audio sr = 44100, stereo, reading both channels\n",
      "opening unknown infile /tmp/tmpv4p3mixn.assets/table-0001.wav\n",
      "  defer length 132300\n",
      "ftable 1:\t264601 points, scalemax 0.775\n",
      "                                                      _\n",
      "             _\n",
      "\n",
      "                                                                   _\n",
      "    '                                                                        _\n",
      "       .   _                 .\n",
      "         _    .     ' _                .        '                          '\n",
      "_____________________________________-_________-___________.________'___________\n",
      "     -.     .   _    . ''.._' '-_  ._   ._-'''   _' '-   -.   ' --.    ' '    .'\n",
      "   -      -    ' '                _   -                '                -   _\n",
      "        .                        -                      '            -\n",
      "new alloc for instr 100:\n",
      "\u001b[mB  0.000 .. 11.000 T 11.000 TT 11.000 M:  0.74716  0.77484\n",
      "B 11.000 .. 30.000 T 30.000 TT 30.000 M:  0.74716  0.77484\n",
      "B 30.000 .. 30.002 T 30.002 TT 30.002 M:  0.01503  0.01558\n",
      "Score finished in csoundPerform().\n",
      "inactive allocs returned to freespace\n",
      "end of score.\t\t   overall amps:\u001b[m  0.74716  0.77484\n",
      "0 errors in performance\n",
      "\u001b[mElapsed time at end of performance: real: 0.158s, CPU: 0.153s\n",
      "\u001b[m512 2048 sample blks of floats written to /home/em/tmp/foo.wav (WAV)\n",
      "vst3_host_t::~vst3_host_t.\n",
      "Qt: Session management error: Could not open network socket\n",
      "kf.service.services: KApplicationTrader: mimeType \"x-scheme-handler/file\" not found\n"
     ]
    },
    {
     "data": {
      "text/plain": [
       "'/home/em/tmp/foo.wav'"
      ]
     },
     "execution_count": 5,
     "metadata": {},
     "output_type": "execute_result"
    },
    {
     "name": "stderr",
     "output_type": "stream",
     "text": [
      "Gtk-Message: 17:39:47.037: Failed to load module \"appmenu-gtk-module\"\n",
      "mhWaveEdit: playing file as 48000 Hz, float, Stereo\n"
     ]
    }
   ],
   "source": [
    "r.render(\"/home/em/tmp/foo.wav\", endtime=11, openWhenDone=True)"
   ]
  },
  {
   "cell_type": "code",
   "execution_count": 9,
   "id": "6d4e204b-b5a9-460e-bfc9-d4e98701a84d",
   "metadata": {},
   "outputs": [],
   "source": [
    "r.setEndMarker(11)"
   ]
  },
  {
   "cell_type": "code",
   "execution_count": 1,
   "id": "3c6d0b3e-0a39-4010-be84-90e86096b3bf",
   "metadata": {},
   "outputs": [
    {
     "ename": "NameError",
     "evalue": "name 'r' is not defined",
     "output_type": "error",
     "traceback": [
      "\u001b[0;31m---------------------------------------------------------------------------\u001b[0m",
      "\u001b[0;31mNameError\u001b[0m                                 Traceback (most recent call last)",
      "\u001b[0;32m/tmp/ipykernel_2526638/1077131038.py\u001b[0m in \u001b[0;36m<module>\u001b[0;34m\u001b[0m\n\u001b[0;32m----> 1\u001b[0;31m \u001b[0mprint\u001b[0m\u001b[0;34m(\u001b[0m\u001b[0mr\u001b[0m\u001b[0;34m.\u001b[0m\u001b[0mgenerateCsdString\u001b[0m\u001b[0;34m(\u001b[0m\u001b[0;34m)\u001b[0m\u001b[0;34m)\u001b[0m\u001b[0;34m\u001b[0m\u001b[0;34m\u001b[0m\u001b[0m\n\u001b[0m",
      "\u001b[0;31mNameError\u001b[0m: name 'r' is not defined"
     ]
    }
   ],
   "source": [
    "print(r.generateCsdString())"
   ]
  },
  {
   "cell_type": "code",
   "execution_count": null,
   "id": "a755e0e5-6a9c-48cd-9b61-e8c069d29d6b",
   "metadata": {},
   "outputs": [],
   "source": []
  }
 ],
 "metadata": {
  "kernelspec": {
   "display_name": "Python 3 (ipykernel)",
   "language": "python",
   "name": "python3"
  },
  "language_info": {
   "codemirror_mode": {
    "name": "ipython",
    "version": 3
   },
   "file_extension": ".py",
   "mimetype": "text/x-python",
   "name": "python",
   "nbconvert_exporter": "python",
   "pygments_lexer": "ipython3",
   "version": "3.9.7"
  }
 },
 "nbformat": 4,
 "nbformat_minor": 5
}
