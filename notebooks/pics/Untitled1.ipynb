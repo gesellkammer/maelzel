{
 "cells": [
  {
   "cell_type": "code",
   "execution_count": 2,
   "id": "6781b15b-3af0-4883-b0b6-2d6b1eb40a45",
   "metadata": {},
   "outputs": [],
   "source": [
    "import matplotlib.pyplot as plt\n",
    "import matplotlib.patches as patches"
   ]
  },
  {
   "cell_type": "code",
   "execution_count": 18,
   "id": "d4e7f6f7-015c-4e77-ae93-94235f0894b3",
   "metadata": {},
   "outputs": [],
   "source": [
    "def drawrects(rects):\n",
    "    fig, ax = plt.subplots()\n",
    "    maxx = 0\n",
    "    for rect in rects:\n",
    "        p0, p1 = rect\n",
    "        w = p1[0] - p0[0]\n",
    "        h = p1[1] - p0[1]\n",
    "        print(w, h)\n",
    "        p = patches.Rectangle(p0, width=w, height=h, linewidth=1, edgecolor='black', alpha=0.3)\n",
    "        ax.add_patch(p)\n",
    "    maxx = max(p1[0] for p0, p1 in rects)\n",
    "    maxy = max(p1[1] for p0, p1 in rects)\n",
    "    plt.xlim(0, maxx)\n",
    "    plt.ylim(0, maxy)\n",
    "    \n",
    "    plt.show()"
   ]
  },
  {
   "cell_type": "code",
   "execution_count": 19,
   "id": "acf87cce-415e-4cb4-94f3-9fb02a721983",
   "metadata": {},
   "outputs": [
    {
     "name": "stdout",
     "output_type": "stream",
     "text": [
      "3 1\n",
      "2 2\n",
      "1 4\n"
     ]
    },
    {
     "data": {
      "image/png": "[encoded data removed]",
      "text/plain": [
       "<Figure size 432x288 with 1 Axes>"
      ]
     },
     "metadata": {
      "needs_background": "light"
     },
     "output_type": "display_data"
    }
   ],
   "source": [
    "rects = [\n",
    "    ((0, 0), (3, 1)),\n",
    "    ((2, 0), (4, 2)),\n",
    "    ((5, 0), (6, 4))\n",
    "]\n",
    "\n",
    "drawrects(rects)\n"
   ]
  },
  {
   "cell_type": "code",
   "execution_count": null,
   "id": "efcf8d40-950a-4f62-8307-1da107d13498",
   "metadata": {},
   "outputs": [],
   "source": [
    "s = [\n",
    "    (0, 0),\n",
    "    (0, 1),\n",
    "    (2, 1),\n",
    "    (2, 2),\n",
    "    (4, 2),\n",
    "    (4, 0),\n",
    "    (5, 0),\n",
    "    (5, 4),\n",
    "    (6, 4),\n",
    "    (6, 0)\n",
    "]"
   ]
  },
  {
   "cell_type": "code",
   "execution_count": null,
   "id": "3386726b-63a9-48cc-ac4f-66301e3ca34f",
   "metadata": {},
   "outputs": [],
   "source": [
    "def intersection(a, b):\n",
    "    a0, a1 = a\n",
    "    b0, b1 = b\n",
    "    ax0, ay0 = a0\n",
    "    ax1, ay1 = a1\n",
    "    bx0, by0 = b0\n",
    "    bx1, by1 = b1\n",
    "    if ax0 <= bx0 <= ax1 \n",
    "    \n",
    "    \n",
    "    \n",
    "    \n",
    "    "
   ]
  }
 ],
 "metadata": {
  "kernelspec": {
   "display_name": "Python 3 (ipykernel)",
   "language": "python",
   "name": "python3"
  },
  "language_info": {
   "codemirror_mode": {
    "name": "ipython",
    "version": 3
   },
   "file_extension": ".py",
   "mimetype": "text/x-python",
   "name": "python",
   "nbconvert_exporter": "python",
   "pygments_lexer": "ipython3",
   "version": "3.9.7"
  }
 },
 "nbformat": 4,
 "nbformat_minor": 5
}
