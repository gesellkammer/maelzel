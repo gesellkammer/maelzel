{
 "cells": [
  {
   "cell_type": "code",
   "execution_count": 1,
   "id": "061be262-64c4-43f3-9f8e-50a6a2799949",
   "metadata": {},
   "outputs": [
    {
     "name": "stdout",
     "output_type": "stream",
     "text": [
      "csoundengine.magic extension loaded\n",
      "Magics available: %csound, %%csound, %%definstr\n"
     ]
    }
   ],
   "source": [
    "from maelzel.core import *"
   ]
  },
  {
   "cell_type": "code",
   "execution_count": 2,
   "id": "219f53dc-1e4c-4e70-a5cb-427d342ed838",
   "metadata": {},
   "outputs": [
    {
     "data": {
      "text/html": [
       "<h5><strong>ScoreStruct<strong></strong></h5><table><thead><tr><th style=\"text-align:left\">Meas. Index</th><th style=\"text-align:left\">Timesig</th><th style=\"text-align:left\">Tempo (quarter note)</th><th style=\"text-align:left\">Label</th></tr></thead><tbody><tr><td style=\"text-align:left\"><span style=\"font-size: small;\">0</span></td><td style=\"text-align:left\"><span style=\"font-size: small;\">4/4</span></td><td style=\"text-align:left\"><span style=\"font-size: small;\">80</span></td><td style=\"text-align:left\"><span style=\"font-size: small;\"></span></td></tr><tr><td style=\"text-align:left\"><span style=\"font-size: small;\">1</span></td><td style=\"text-align:left\"><span style=\"font-size: small;\">5/4</span></td><td style=\"text-align:left\"><span style=\"font-size: small;\"></span></td><td style=\"text-align:left\"><span style=\"font-size: small;\">Section A</span></td></tr><tr><td style=\"text-align:left\"><span style=\"font-size: small;\">2</span></td><td style=\"text-align:left\"><span style=\"font-size: small;\">3/8</span></td><td style=\"text-align:left\"><span style=\"font-size: small;\">120</span></td><td style=\"text-align:left\"><span style=\"font-size: small;\"></span></td></tr><tr><td style=\"text-align:left\"><span style=\"font-size: small;\">3</span></td><td style=\"text-align:left\"><span style=\"font-size: small;\">4/8</span></td><td style=\"text-align:left\"><span style=\"font-size: small;\"></span></td><td style=\"text-align:left\"><span style=\"font-size: small;\"></span></td></tr><tr><td style=\"text-align:left\"><span style=\"font-size: small;\">4</span></td><td style=\"text-align:left\"><span style=\"font-size: small;\">3/4</span></td><td style=\"text-align:left\"><span style=\"font-size: small;\"></span></td><td style=\"text-align:left\"><span style=\"font-size: small;\"></span></td></tr><tr><td style=\"text-align:left\"><span style=\"font-size: small;\">...</span></td><td style=\"text-align:left\"><span style=\"font-size: small;\"></span></td><td style=\"text-align:left\"><span style=\"font-size: small;\"></span></td><td style=\"text-align:left\"><span style=\"font-size: small;\"></span></td></tr></tbody></table>"
      ],
      "text/plain": [
       "ScoreStruct([4/4@80, 5/4, 3/8@120, 4/8, 3/4])"
      ]
     },
     "execution_count": 2,
     "metadata": {},
     "output_type": "execute_result"
    }
   ],
   "source": [
    "struct = ScoreStruct.fromString(r'4/4, 80; 5/4,,Section A; 3/8,120; 4/8; 3/4; ...')\n",
    "struct"
   ]
  },
  {
   "cell_type": "code",
   "execution_count": 3,
   "id": "d6fcdcbc-9300-49b9-8eeb-c7eaeb7248fe",
   "metadata": {},
   "outputs": [
    {
     "data": {
      "image/png": "[encoded data removed]",
      "text/plain": [
       "<IPython.core.display.Image object>"
      ]
     },
     "metadata": {
      "image/png": {
       "width": 617
      }
     },
     "output_type": "display_data"
    }
   ],
   "source": [
    "struct.show()"
   ]
  },
  {
   "cell_type": "code",
   "execution_count": 4,
   "id": "96fd3c12-8c07-44e6-be64-9cde415dd0a2",
   "metadata": {},
   "outputs": [],
   "source": [
    "struct.write('scorestruct.xml')"
   ]
  },
  {
   "cell_type": "code",
   "execution_count": 4,
   "id": "edd3f186-9e12-4405-a052-fdc780f1d43f",
   "metadata": {},
   "outputs": [
    {
     "data": {
      "text/html": [
       "<code>&lt;maelzel.core.musicobj.Score object at 0x7f470808f270&gt;</code><br>\n",
       "        <img style=\"display:inline; padding:10px;\n",
       "margin-top:14px;\n",
       "width:617px\"\n",
       "             src=\"data:image/png;base64,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\"/>"
      ],
      "text/plain": [
       "<maelzel.core.musicobj.Score at 0x7f470808f270>"
      ]
     },
     "execution_count": 4,
     "metadata": {},
     "output_type": "execute_result"
    }
   ],
   "source": [
    "ct = struct.makeClickTrack()\n",
    "ct"
   ]
  },
  {
   "cell_type": "code",
   "execution_count": 11,
   "id": "764d55ad-aa16-4420-93ab-62b47322d66f",
   "metadata": {},
   "outputs": [],
   "source": [
    "ct.write('~/tmp/struct.ly')"
   ]
  },
  {
   "cell_type": "code",
   "execution_count": 8,
   "id": "4019cf8b-818d-4e0a-84cb-5dbcc87143d4",
   "metadata": {},
   "outputs": [],
   "source": [
    "! musescore ~/tmp/struct.mid"
   ]
  },
  {
   "cell_type": "code",
   "execution_count": null,
   "id": "36cd28b5-3fe7-4289-bc25-b9e8fbd0f07d",
   "metadata": {},
   "outputs": [],
   "source": []
  }
 ],
 "metadata": {
  "kernelspec": {
   "display_name": "Python 3 (ipykernel)",
   "language": "python",
   "name": "python3"
  },
  "language_info": {
   "codemirror_mode": {
    "name": "ipython",
    "version": 3
   },
   "file_extension": ".py",
   "mimetype": "text/x-python",
   "name": "python",
   "nbconvert_exporter": "python",
   "pygments_lexer": "ipython3",
   "version": "3.9.7"
  }
 },
 "nbformat": 4,
 "nbformat_minor": 5
}
