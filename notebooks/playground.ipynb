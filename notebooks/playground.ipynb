{
 "cells": [
  {
   "cell_type": "code",
   "execution_count": 1,
   "id": "17108584-ed38-4b40-ae0a-bd4cc55f1a80",
   "metadata": {},
   "outputs": [],
   "source": [
    "from maelzel import distribute\n",
    "import importlib\n",
    "import bpf4\n",
    "from emlib import mathlib"
   ]
  },
  {
   "cell_type": "code",
   "execution_count": 2,
   "id": "5cc8984f-6e9d-42e3-8ad7-9575f79fda7b",
   "metadata": {},
   "outputs": [],
   "source": [
    "import matplotlib.pyplot as plt\n"
   ]
  },
  {
   "cell_type": "code",
   "execution_count": 3,
   "id": "c8126323-a607-4b21-98b4-9d47ef22f8cd",
   "metadata": {},
   "outputs": [],
   "source": [
    "plt.style.use('seaborn')"
   ]
  },
  {
   "cell_type": "code",
   "execution_count": 5,
   "id": "c0493e5c-06b4-4a6d-92e8-746991dc4103",
   "metadata": {},
   "outputs": [
    {
     "ename": "NameError",
     "evalue": "name 'c' is not defined",
     "output_type": "error",
     "traceback": [
      "\u001b[0;31m---------------------------------------------------------------------------\u001b[0m",
      "\u001b[0;31mNameError\u001b[0m                                 Traceback (most recent call last)",
      "\u001b[0;32m/tmp/ipykernel_2270760/1502413562.py\u001b[0m in \u001b[0;36m<module>\u001b[0;34m\u001b[0m\n\u001b[0;32m----> 1\u001b[0;31m \u001b[0mys\u001b[0m \u001b[0;34m=\u001b[0m \u001b[0mdistribute\u001b[0m\u001b[0;34m.\u001b[0m\u001b[0mditherCurve\u001b[0m\u001b[0;34m(\u001b[0m\u001b[0mc\u001b[0m\u001b[0;34m,\u001b[0m \u001b[0;36m40\u001b[0m\u001b[0;34m,\u001b[0m \u001b[0mresolution\u001b[0m\u001b[0;34m=\u001b[0m\u001b[0;36m3\u001b[0m\u001b[0;34m)\u001b[0m\u001b[0;34m\u001b[0m\u001b[0;34m\u001b[0m\u001b[0m\n\u001b[0m\u001b[1;32m      2\u001b[0m \u001b[0mprint\u001b[0m\u001b[0;34m(\u001b[0m\u001b[0mys\u001b[0m\u001b[0;34m,\u001b[0m \u001b[0mlen\u001b[0m\u001b[0;34m(\u001b[0m\u001b[0mys\u001b[0m\u001b[0;34m)\u001b[0m\u001b[0;34m)\u001b[0m\u001b[0;34m\u001b[0m\u001b[0;34m\u001b[0m\u001b[0m\n",
      "\u001b[0;31mNameError\u001b[0m: name 'c' is not defined"
     ]
    }
   ],
   "source": [
    "ys = distribute.ditherCurve(c, 40, resolution=3)\n",
    "print(ys, len(ys))"
   ]
  },
  {
   "cell_type": "code",
   "execution_count": 4,
   "id": "43dafd41-47d6-4ea3-8201-94d60af5b98e",
   "metadata": {},
   "outputs": [
    {
     "ename": "NameError",
     "evalue": "name 'ys' is not defined",
     "output_type": "error",
     "traceback": [
      "\u001b[0;31m---------------------------------------------------------------------------\u001b[0m",
      "\u001b[0;31mNameError\u001b[0m                                 Traceback (most recent call last)",
      "\u001b[0;32m/tmp/ipykernel_2270760/1244325839.py\u001b[0m in \u001b[0;36m<module>\u001b[0;34m\u001b[0m\n\u001b[0;32m----> 1\u001b[0;31m \u001b[0mbpf4\u001b[0m\u001b[0;34m.\u001b[0m\u001b[0mcore\u001b[0m\u001b[0;34m.\u001b[0m\u001b[0mSampled\u001b[0m\u001b[0;34m(\u001b[0m\u001b[0mys\u001b[0m\u001b[0;34m,\u001b[0m \u001b[0;36m1\u001b[0m\u001b[0;34m,\u001b[0m \u001b[0minterpolation\u001b[0m\u001b[0;34m=\u001b[0m\u001b[0;34m'nointerpol'\u001b[0m\u001b[0;34m)\u001b[0m\u001b[0;34m.\u001b[0m\u001b[0mplot\u001b[0m\u001b[0;34m(\u001b[0m\u001b[0mkind\u001b[0m\u001b[0;34m=\u001b[0m\u001b[0;34m'bar'\u001b[0m\u001b[0;34m)\u001b[0m\u001b[0;34m\u001b[0m\u001b[0;34m\u001b[0m\u001b[0m\n\u001b[0m",
      "\u001b[0;31mNameError\u001b[0m: name 'ys' is not defined"
     ]
    }
   ],
   "source": [
    "bpf4.core.Sampled(ys, 1, interpolation='nointerpol').plot(kind='bar')"
   ]
  },
  {
   "cell_type": "code",
   "execution_count": 29,
   "id": "1f9912ce-41dd-4419-b9a3-40a5c9f5c870",
   "metadata": {},
   "outputs": [],
   "source": [
    "c2 = bpf4.core.Sampled(ys, 1, interpolation='nointerpol')"
   ]
  },
  {
   "cell_type": "code",
   "execution_count": null,
   "id": "80a06e7d-25d9-4048-a90d-4a3342016ed8",
   "metadata": {},
   "outputs": [],
   "source": [
    "c2[::0.1].plot()"
   ]
  },
  {
   "cell_type": "code",
   "execution_count": 1,
   "id": "8eaa7fd5-8178-4348-8a76-143c0f74216b",
   "metadata": {},
   "outputs": [],
   "source": [
    "import bpf4\n",
    "from maelzel import distribute\n",
    "import matplotlib.pyplot as plt\n"
   ]
  },
  {
   "cell_type": "code",
   "execution_count": 2,
   "id": "2ad5d964-8bbd-4727-9095-c50dd03cbd45",
   "metadata": {},
   "outputs": [],
   "source": [
    "c = bpf4.core.Sampled([0, 2, 1, 3, 2, 4], dx=1, interpolation='expon(2.5)')"
   ]
  },
  {
   "cell_type": "code",
   "execution_count": 6,
   "id": "d125fb96-a5fa-4171-816d-2d2ee846dca7",
   "metadata": {},
   "outputs": [
    {
     "data": {
      "text/plain": [
       "array([0., 0., 0., 0., 2., 2., 2., 2., 1., 1., 1., 1., 3., 3., 3., 3., 2.,\n",
       "       2., 2., 4.])"
      ]
     },
     "execution_count": 6,
     "metadata": {},
     "output_type": "execute_result"
    }
   ],
   "source": [
    "c.map(20)"
   ]
  },
  {
   "cell_type": "code",
   "execution_count": 5,
   "id": "5efd052f-31ee-4744-8a10-72fcabdeaafc",
   "metadata": {},
   "outputs": [
    {
     "data": {
      "image/png": "[encoded data removed]",
      "text/plain": [
       "<Figure size 432x288 with 1 Axes>"
      ]
     },
     "metadata": {
      "needs_background": "light"
     },
     "output_type": "display_data"
    }
   ],
   "source": [
    "sections = [0, 10, 11, 13, 18]\n",
    "ids =      [0, 2,   3,  5,  4]\n",
    "distribute.plotFrames(sections, ids)"
   ]
  },
  {
   "cell_type": "code",
   "execution_count": null,
   "id": "8558dc37-0b67-4c9e-a93d-a9989a45e092",
   "metadata": {},
   "outputs": [],
   "source": []
  },
  {
   "cell_type": "code",
   "execution_count": 3,
   "id": "9acebd27-a96a-4e7f-bb33-c7549addf61f",
   "metadata": {},
   "outputs": [
    {
     "data": {
      "image/png": "[encoded data removed]",
      "text/plain": [
       "<Figure size 432x288 with 1 Axes>"
      ]
     },
     "metadata": {
      "needs_background": "light"
     },
     "output_type": "display_data"
    },
    {
     "data": {
      "text/plain": [
       "<AxesSubplot:>"
      ]
     },
     "execution_count": 3,
     "metadata": {},
     "output_type": "execute_result"
    }
   ],
   "source": [
    "\n",
    "    >>> from maelzel.distribute import *\n",
    "    >>> sections = [0, 10, 11, 13, 18]\n",
    "    >>> ids =      [0, 0,   1,  0,  1]\n",
    "    >>> plotFrames(sections, ids)"
   ]
  },
  {
   "cell_type": "code",
   "execution_count": 5,
   "id": "b83ba62d-9b49-419c-bd47-b9d252a8f51a",
   "metadata": {},
   "outputs": [
    {
     "data": {
      "text/plain": [
       "<BarContainer object of 3 artists>"
      ]
     },
     "execution_count": 5,
     "metadata": {},
     "output_type": "execute_result"
    },
    {
     "data": {
      "image/png": "[encoded data removed]",
      "text/plain": [
       "<Figure size 432x288 with 1 Axes>"
      ]
     },
     "metadata": {
      "needs_background": "light"
     },
     "output_type": "display_data"
    }
   ],
   "source": [
    "xs = [0, 15, 20]\n",
    "widths = [15, 5, 10]\n",
    "xs2 = [x + w/2 for x, w in zip(xs, widths)]\n",
    "plt.bar(xs2, height=[2, 3, 1], width=widths, edgecolor='black')"
   ]
  },
  {
   "cell_type": "code",
   "execution_count": 3,
   "id": "9e15c2cc-a647-492d-a53d-ddc129cacee6",
   "metadata": {},
   "outputs": [
    {
     "data": {
      "image/png": "[encoded data removed]",
      "text/plain": [
       "<Figure size 432x288 with 1 Axes>"
      ]
     },
     "metadata": {
      "needs_background": "light"
     },
     "output_type": "display_data"
    }
   ],
   "source": [
    "f, ax = plt.subplots()"
   ]
  },
  {
   "cell_type": "code",
   "execution_count": 14,
   "id": "9b9d98e3-3a53-41c7-8682-ed397cefcde2",
   "metadata": {},
   "outputs": [
    {
     "data": {
      "text/plain": [
       "[3, 2, 2, 1]"
      ]
     },
     "execution_count": 14,
     "metadata": {},
     "output_type": "execute_result"
    }
   ],
   "source": [
    "import bpf4\n",
    "from maelzel.distribute import dohndt\n",
    "numvoices = 8\n",
    "numchannels = 4\n",
    "weightperchannel = bpf4.linear(0, 3, 1, 1).map(numchannels)\n",
    "assigned = dohndt(numvoices, weightperchannel)\n",
    "assigned"
   ]
  },
  {
   "cell_type": "code",
   "execution_count": 15,
   "id": "a3d85c8f-f371-46a1-a464-49c9be20b19c",
   "metadata": {},
   "outputs": [
    {
     "data": {
      "text/plain": [
       "[4, 3, 2, 1]"
      ]
     },
     "execution_count": 15,
     "metadata": {},
     "output_type": "execute_result"
    }
   ],
   "source": [
    "import bpf4\n",
    "from maelzel.distribute import dohndt\n",
    "numitems = 10\n",
    "numstreams = 4\n",
    "weights = [10, 6, 5, 3]\n",
    "assigned = dohndt(numitems, weights)\n",
    "assigned"
   ]
  },
  {
   "cell_type": "code",
   "execution_count": 14,
   "id": "73906655-5383-4065-bcce-2746c5392b7f",
   "metadata": {},
   "outputs": [
    {
     "data": {
      "text/plain": [
       "array([ 6.0952381 ,  6.19047619,  6.85714286,  8.66666667, 12.19047619])"
      ]
     },
     "execution_count": 14,
     "metadata": {},
     "output_type": "execute_result"
    }
   ],
   "source": [
    "from maelzel import distribute\n",
    "from emlib.iterlib import pairwise\n",
    "import matplotlib.pyplot as plt\n",
    "parts = distribute.partitionExpon(40, 5, exp=3)\n",
    "parts"
   ]
  },
  {
   "cell_type": "code",
   "execution_count": 17,
   "id": "05e8ad87-b640-4f30-b189-f81c345ae94c",
   "metadata": {},
   "outputs": [
    {
     "data": {
      "text/plain": [
       "40"
      ]
     },
     "execution_count": 17,
     "metadata": {},
     "output_type": "execute_result"
    }
   ],
   "source": [
    "round(sum(parts))"
   ]
  },
  {
   "cell_type": "code",
   "execution_count": 20,
   "id": "67b4515b-656e-4008-b71d-85fd9b6e6b31",
   "metadata": {},
   "outputs": [
    {
     "name": "stdout",
     "output_type": "stream",
     "text": [
      "[6, 6, 7, 8, 13]\n",
      "Sum: 40\n"
     ]
    }
   ],
   "source": [
    "intparts = distribute.roundSeqPreservingSum(parts, maxsolutions=10)\n",
    "print(f\"{intparts}\\nSum: {sum(intparts)}\")\n",
    "        "
   ]
  },
  {
   "cell_type": "code",
   "execution_count": 16,
   "id": "0846d57a-257e-45d9-a7df-49b673b0e324",
   "metadata": {},
   "outputs": [
    {
     "data": {
      "text/plain": [
       "<StemContainer object of 3 artists>"
      ]
     },
     "execution_count": 16,
     "metadata": {},
     "output_type": "execute_result"
    },
    {
     "data": {
      "image/png": "[encoded data removed]",
      "text/plain": [
       "<Figure size 432x288 with 1 Axes>"
      ]
     },
     "metadata": {
      "needs_background": "light"
     },
     "output_type": "display_data"
    }
   ],
   "source": [
    "plt.stem(parts2)"
   ]
  },
  {
   "cell_type": "code",
   "execution_count": 27,
   "id": "88bbf1e5-70e5-4619-9ea2-c1a297a6d141",
   "metadata": {},
   "outputs": [
    {
     "data": {
      "text/plain": [
       "[1, 0, 1, 1, 0]"
      ]
     },
     "execution_count": 27,
     "metadata": {},
     "output_type": "execute_result"
    }
   ],
   "source": [
    "from maelzel import distribute\n",
    "distribute.onepulse(0.5, 5, entropy=0)\n",
    "        "
   ]
  },
  {
   "cell_type": "code",
   "execution_count": 1,
   "id": "9f97eaaa-3caf-4ff1-ac89-3fe1efc43665",
   "metadata": {},
   "outputs": [
    {
     "data": {
      "text/plain": [
       "'aAbcBdCe'"
      ]
     },
     "execution_count": 1,
     "metadata": {},
     "output_type": "execute_result"
    }
   ],
   "source": [
    "from maelzel import distribute\n",
    "A = [\"A\", \"B\", \"C\"]\n",
    "B = [\"a\", \"b\", \"c\", \"d\", \"e\"]\n",
    "distribute.interleave(A, B)\n",
    "\"\".join(distribute.interleave(A, B))"
   ]
  },
  {
   "cell_type": "code",
   "execution_count": 2,
   "id": "ea6b4909-ab1b-431b-b86e-f63d8366283d",
   "metadata": {},
   "outputs": [
    {
     "data": {
      "text/plain": [
       "_FillResult(matches=[_FillMatch(size=0.5, containerIdx=0, streamIdx=0), _FillMatch(size=2.5, containerIdx=1, streamIdx=0), _FillMatch(size=4, containerIdx=2, streamIdx=1)], unfilledContainers=[0.5, 0.0, 1], unusedStreams=[0.0, 0])"
      ]
     },
     "execution_count": 2,
     "metadata": {},
     "output_type": "execute_result"
    }
   ],
   "source": [
    "distribute.fill([1,2.5, 5], [3, 4])"
   ]
  },
  {
   "cell_type": "code",
   "execution_count": 4,
   "id": "6ca7e931-c476-409b-bdb4-c256c12b417b",
   "metadata": {},
   "outputs": [
    {
     "data": {
      "text/plain": [
       "[0.1, 0.1, 0.2, 0.35, 0.35, 0.35, 0.35]"
      ]
     },
     "execution_count": 4,
     "metadata": {},
     "output_type": "execute_result"
    }
   ],
   "source": [
    "distribute.chooseBestDistribution([0, 0.1, 0.3, 0.5, 1, 2, 3], [0.1, 0.2, 0.35])"
   ]
  },
  {
   "cell_type": "code",
   "execution_count": 7,
   "id": "ef92329d-59a5-4341-9a71-87041aeb11c4",
   "metadata": {},
   "outputs": [],
   "source": [
    "import bpf4\n",
    "from maelzel import distribute\n",
    "A = \"AAAAAAAAAAAAAAAAAAA\"\n",
    "B = \"BBBBBBBBBBBBB\"\n",
    "C = \"CCCCC\"\n",
    "D = \"DDD\"\n",
    "\n",
    "streams = (A, B, C, D)\n",
    "streamSizes = (len(A), len(B), len(C), len(D))\n",
    "bpfs = (bpf4.linear(0, 1, 1, 1),     # bpfs must be defined within the unity\n",
    "        bpf4.halfcos(0, 0, 0.5, 1, 1, 0),\n",
    "        bpf4.linear(0, 1, 1, 0),\n",
    "        bpf4.expon(0, 0, 1, 1, exp=3)\n",
    ")"
   ]
  },
  {
   "cell_type": "code",
   "execution_count": 8,
   "id": "b5033908-f1ae-4768-ab32-2c6c5b22a769",
   "metadata": {},
   "outputs": [],
   "source": [
    "distributedItems = distribute.distributeWeightedStreams(streamSizes, bpfs)"
   ]
  },
  {
   "cell_type": "code",
   "execution_count": 10,
   "id": "1bac17bd-2e80-493f-9825-ce2080929089",
   "metadata": {},
   "outputs": [
    {
     "name": "stdout",
     "output_type": "stream",
     "text": [
      "ACAACABABCABABABCABBABABABDBACABABADAADA"
     ]
    }
   ],
   "source": [
    "for stream, idx in distributedItems:\n",
    "    print(streams[stream][idx], end='')"
   ]
  },
  {
   "cell_type": "code",
   "execution_count": 13,
   "id": "fa131f45-3488-4e28-b3cd-1b143a2d98b7",
   "metadata": {},
   "outputs": [],
   "source": [
    "from fractions import Fraction\n",
    "import math"
   ]
  },
  {
   "cell_type": "code",
   "execution_count": 17,
   "id": "033025c3-0509-4ea7-934f-ed33e484d746",
   "metadata": {},
   "outputs": [
    {
     "data": {
      "text/plain": [
       "Fraction(884279719003555, 281474976710656)"
      ]
     },
     "execution_count": 17,
     "metadata": {},
     "output_type": "execute_result"
    }
   ],
   "source": [
    "pifraction = Fraction.from_float(math.pi)\n",
    "pifraction"
   ]
  },
  {
   "cell_type": "code",
   "execution_count": 15,
   "id": "01310110-8cb1-4e81-9d29-26eaa7a74bfd",
   "metadata": {},
   "outputs": [],
   "source": [
    "from maelzel.rational import Rat"
   ]
  },
  {
   "cell_type": "code",
   "execution_count": 18,
   "id": "587cbd89-a94c-4ab7-bce2-0323d495f8e6",
   "metadata": {},
   "outputs": [
    {
     "data": {
      "text/plain": [
       "3.1415927"
      ]
     },
     "execution_count": 18,
     "metadata": {},
     "output_type": "execute_result"
    }
   ],
   "source": [
    "pirat = Rat.from_float(math.pi)\n",
    "pirat"
   ]
  },
  {
   "cell_type": "code",
   "execution_count": 19,
   "id": "a1713bf3-e093-4d17-b267-6409b2cf07f8",
   "metadata": {},
   "outputs": [
    {
     "data": {
      "text/plain": [
       "True"
      ]
     },
     "execution_count": 19,
     "metadata": {},
     "output_type": "execute_result"
    }
   ],
   "source": [
    "pirat == pifraction"
   ]
  },
  {
   "cell_type": "code",
   "execution_count": 25,
   "id": "685ea590-8e3f-4e9f-b9bd-3be88d548d6d",
   "metadata": {},
   "outputs": [
    {
     "data": {
      "text/plain": [
       "True"
      ]
     },
     "execution_count": 25,
     "metadata": {},
     "output_type": "execute_result"
    }
   ],
   "source": [
    "isinstance(pirat, numbers.Rational)"
   ]
  },
  {
   "cell_type": "code",
   "execution_count": 22,
   "id": "4de4b471-8e52-464c-b23b-e4f0b8f8334a",
   "metadata": {},
   "outputs": [],
   "source": [
    "import numbers"
   ]
  },
  {
   "cell_type": "code",
   "execution_count": 23,
   "id": "6bdf2969-28de-4fb1-9470-9fb3190cf62d",
   "metadata": {},
   "outputs": [
    {
     "data": {
      "text/plain": [
       "numbers.Rational"
      ]
     },
     "execution_count": 23,
     "metadata": {},
     "output_type": "execute_result"
    }
   ],
   "source": [
    "numbers.Rational"
   ]
  },
  {
   "cell_type": "code",
   "execution_count": 24,
   "id": "9a70e9dc-6c6b-43b9-8757-1c8055bb4040",
   "metadata": {},
   "outputs": [
    {
     "data": {
      "text/plain": [
       "True"
      ]
     },
     "execution_count": 24,
     "metadata": {},
     "output_type": "execute_result"
    }
   ],
   "source": [
    "isinstance(pirat, numbers.Rational)"
   ]
  },
  {
   "cell_type": "code",
   "execution_count": 12,
   "id": "14636467-acaa-4aa2-83fe-d36aa352f575",
   "metadata": {},
   "outputs": [],
   "source": [
    "from maelzel.scoring import util\n",
    "from emlib.mathlib import frange"
   ]
  },
  {
   "cell_type": "code",
   "execution_count": 3,
   "id": "640e00ad-d2a2-4f61-ae0b-b06108042319",
   "metadata": {},
   "outputs": [
    {
     "data": {
      "text/plain": [
       "0.5"
      ]
     },
     "execution_count": 3,
     "metadata": {},
     "output_type": "execute_result"
    }
   ],
   "source": [
    "util.nextInGrid(0.34, [0.25, 1/3])"
   ]
  },
  {
   "cell_type": "code",
   "execution_count": 28,
   "id": "7bf6b50a-a400-4653-9f41-37da7357edfd",
   "metadata": {},
   "outputs": [
    {
     "data": {
      "text/plain": [
       "True"
      ]
     },
     "execution_count": 28,
     "metadata": {},
     "output_type": "execute_result"
    }
   ],
   "source": [
    "a == pirat"
   ]
  },
  {
   "cell_type": "code",
   "execution_count": 15,
   "id": "8ee97a63-164d-4393-b00d-09e817dd6529",
   "metadata": {},
   "outputs": [
    {
     "name": "stdout",
     "output_type": "stream",
     "text": [
      "60.0 0 0\n",
      "60.05 5 5\n",
      "60.1 10 10\n",
      "60.15 15 15\n",
      "60.2 20 20\n",
      "60.25 25 25\n",
      "60.3 30 30\n",
      "60.35 35 35\n",
      "60.4 40 40\n",
      "60.45 45 45\n",
      "60.5 50 50\n",
      "60.55 55 55\n",
      "60.6 60 60\n",
      "60.65 -35 65\n",
      "60.7 -30 70\n",
      "60.75 -25 -25\n",
      "60.8 -20 -20\n",
      "60.85 -15 -15\n",
      "60.9 -10 -10\n",
      "60.95 -5 -5\n"
     ]
    }
   ],
   "source": [
    "for x in frange(60, 61, 0.05):\n",
    "    print(x, util.centsDeviation(x, divsPerSemitone=4), util.centsDeviation(x, divsPerSemitone=2))"
   ]
  },
  {
   "cell_type": "code",
   "execution_count": 1,
   "id": "969110f4-2ef1-4cbf-a28b-8e80bc01dc9f",
   "metadata": {},
   "outputs": [],
   "source": [
    "from maelzel import scoring\n",
    "from maelzel.scorestruct import ScoreStruct\n",
    " "
   ]
  },
  {
   "cell_type": "code",
   "execution_count": 2,
   "id": "9b3601c2-ea2e-4a1a-be52-85ab9601757c",
   "metadata": {},
   "outputs": [
    {
     "data": {
      "text/html": [
       "<h5><strong>ScoreStruct<strong></strong></h5><table><thead><tr><th style=\"text-align:left\">Meas. Index</th><th style=\"text-align:left\">Timesig</th><th style=\"text-align:left\">Tempo (quarter note)</th><th style=\"text-align:left\">Label</th></tr></thead><tbody><tr><td style=\"text-align:left\"><span style=\"font-size: small;\">0</span></td><td style=\"text-align:left\"><span style=\"font-size: small;\">4/4</span></td><td style=\"text-align:left\"><span style=\"font-size: small;\">80</span></td><td style=\"text-align:left\"><span style=\"font-size: small;\"></span></td></tr><tr><td style=\"text-align:left\"><span style=\"font-size: small;\">1</span></td><td style=\"text-align:left\"><span style=\"font-size: small;\">3/4</span></td><td style=\"text-align:left\"><span style=\"font-size: small;\"></span></td><td style=\"text-align:left\"><span style=\"font-size: small;\"></span></td></tr><tr><td style=\"text-align:left\"><span style=\"font-size: small;\">2</span></td><td style=\"text-align:left\"><span style=\"font-size: small;\">3/4</span></td><td style=\"text-align:left\"><span style=\"font-size: small;\"></span></td><td style=\"text-align:left\"><span style=\"font-size: small;\"></span></td></tr><tr><td style=\"text-align:left\"><span style=\"font-size: small;\">3</span></td><td style=\"text-align:left\"><span style=\"font-size: small;\">5/8</span></td><td style=\"text-align:left\"><span style=\"font-size: small;\">60</span></td><td style=\"text-align:left\"><span style=\"font-size: small;\"></span></td></tr><tr><td style=\"text-align:left\"><span style=\"font-size: small;\">4</span></td><td style=\"text-align:left\"><span style=\"font-size: small;\">7/8</span></td><td style=\"text-align:left\"><span style=\"font-size: small;\"></span></td><td style=\"text-align:left\"><span style=\"font-size: small;\"></span></td></tr><tr><td style=\"text-align:left\"><span style=\"font-size: small;\">5</span></td><td style=\"text-align:left\"><span style=\"font-size: small;\">4/4</span></td><td style=\"text-align:left\"><span style=\"font-size: small;\"></span></td><td style=\"text-align:left\"><span style=\"font-size: small;\"></span></td></tr><tr><td style=\"text-align:left\"><span style=\"font-size: small;\">...</span></td><td style=\"text-align:left\"><span style=\"font-size: small;\"></span></td><td style=\"text-align:left\"><span style=\"font-size: small;\"></span></td><td style=\"text-align:left\"><span style=\"font-size: small;\"></span></td></tr></tbody></table>"
      ],
      "text/plain": [
       "ScoreStruct([4/4@80, 3/4, 3/4, 5/8@60, 7/8, 4/4])"
      ]
     },
     "execution_count": 2,
     "metadata": {},
     "output_type": "execute_result"
    }
   ],
   "source": [
    "scorestruct = ScoreStruct('''\n",
    "4/4, 80\n",
    "3/4\n",
    "3/4\n",
    "5/8, 60\n",
    "7/8\n",
    "4/4\n",
    "...\n",
    "''')\n",
    "scorestruct"
   ]
  },
  {
   "cell_type": "code",
   "execution_count": 3,
   "id": "dcae975e-5bb5-45ef-a9e0-572bfb66ff12",
   "metadata": {},
   "outputs": [
    {
     "data": {
      "text/plain": [
       "[«None, dur=0.500 4C»,\n",
       " «None, dur=1.500 4C+»,\n",
       " «None, dur=0.333 4D-25»,\n",
       " «None, dur=0.667 4E+25»,\n",
       " «None, dur=2.200 4F#+»,\n",
       " «None, dur=5.800 4A-10»]"
      ]
     },
     "execution_count": 3,
     "metadata": {},
     "output_type": "execute_result"
    }
   ],
   "source": [
    "notes = [\n",
    "    (0.5, \"4C\"),\n",
    "    (1.5, \"4C+\"),\n",
    "    (1/3, \"4D-25\"),\n",
    "    (2/3, \"4E+25\"),\n",
    "    (2+1/5, \"4F#+\"),\n",
    "    (5.8, \"4A-10\")\n",
    "]\n",
    "notations = [scoring.Notation(dur, [p]) for dur, p in notes]\n",
    "notations"
   ]
  },
  {
   "cell_type": "code",
   "execution_count": 4,
   "id": "f5c9b129-e5c0-481e-b2e3-ae39392b0b7f",
   "metadata": {},
   "outputs": [
    {
     "name": "stdout",
     "output_type": "stream",
     "text": [
      "Timesig: 4/4 (quarter=80)\n",
      "  Ratio (1, 1)\n",
      "    «0.000:0.500 4C»\n",
      "    «0.500:2.000 4C+»\n",
      "  Ratio (3, 2)\n",
      "    «2.000:2.333 3/2 4D-25»\n",
      "    «2.333:3.000 3/2 4E+25»\n",
      "  Ratio (1, 1)\n",
      "    «3.000:4.000 tiedNext 4F#+»\n",
      "Timesig: 3/4 (quarter=80)\n",
      "  Ratio (1, 1)\n",
      "    «0.000:1.000 tiedPrev tiedNext 4F#+»\n",
      "  Ratio (5, 4)\n",
      "    «1.000:1.200 5/4 tiedPrev 4F#+»\n",
      "    «1.200:2.000 5/4 tiedNext 4A-10»\n",
      "  Ratio (1, 1)\n",
      "    «2.000:3.000 tiedPrev tiedNext 4A-10»\n",
      "Timesig: 3/4 (quarter=80)\n",
      "  Ratio (1, 1)\n",
      "    «0.000:3.000 tiedPrev tiedNext 4A-10»\n",
      "Timesig: 5/8 (quarter=60)\n",
      "  Ratio (1, 1)\n",
      "    «0.000:1.000 tiedPrev 4A-10»\n",
      "  Ratio (1, 1)\n",
      "    «1.000:2.500 rest»\n"
     ]
    }
   ],
   "source": [
    "part = scoring.Part(notations)\n",
    "qscore = scoring.quant.quantize([part], struct=scorestruct)\n",
    "qscore.parts[0].dump()\n"
   ]
  },
  {
   "cell_type": "code",
   "execution_count": 5,
   "id": "c3218fa4-9e59-41e9-8e6d-750fe1615055",
   "metadata": {},
   "outputs": [],
   "source": [
    "renderopts = scoring.render.RenderOptions(showCents=True)"
   ]
  },
  {
   "cell_type": "code",
   "execution_count": 6,
   "id": "5c2a4bc6-dd24-4011-a1cc-e5a58cf92ab8",
   "metadata": {},
   "outputs": [],
   "source": [
    "rendered = scoring.render.renderQuantizedScore(qscore, options=renderopts, backend='lilypond')"
   ]
  },
  {
   "cell_type": "code",
   "execution_count": 7,
   "id": "a19c7031-c584-479c-ac70-798980436277",
   "metadata": {},
   "outputs": [],
   "source": [
    "rendered.write(\"~/tmp/foo.pdf\")"
   ]
  },
  {
   "cell_type": "code",
   "execution_count": 10,
   "id": "826ca677-75ef-41b4-b91f-ad7e2b7a6c54",
   "metadata": {},
   "outputs": [],
   "source": [
    "! zathura ~/tmp/foo.pdf"
   ]
  },
  {
   "cell_type": "markdown",
   "id": "265b7861-0739-4e1c-8433-c8a736f4becb",
   "metadata": {},
   "source": [
    "---------------------------\n"
   ]
  },
  {
   "cell_type": "code",
   "execution_count": 1,
   "id": "5635d0b3-e888-4fb3-985f-0a4d011afd70",
   "metadata": {},
   "outputs": [
    {
     "name": "stdout",
     "output_type": "stream",
     "text": [
      "csoundengine.magic extension loaded\n",
      "Magics available: %csound, %%csound, %%definstr\n"
     ]
    },
    {
     "data": {
      "text/html": [
       "<code>Chain([4A#:468Hz:1♩:start=0, 4E:331Hz:1♩:start=1, 4F#:371Hz:1♩:start=2, 4D#:312Hz:1♩:start=3, 4F:350Hz:1♩:start=4, 4A:442Hz:1♩:start=5, 5D:589Hz:1♩:start=6, 5C#:556Hz:1♩:start=7, 4G:393Hz:1♩:start=8, 4G#:417Hz:1♩:start=9, …])</code><br>\n",
       "        <img style=\"display:inline; padding:10px;\n",
       "margin-top:14px;\n",
       "width:536px\"\n",
       "             src=\"data:image/png;base64,iVBORw0KGgoAAAANSUhEUgAAAhgAAAAwCAIAAADchpQ1AAAJLmlDQ1BJQ0MgUHJvZmlsZQAAeJyVlWdQk1kXx+/zPOmFQBJCh1BDkSolgJQQWijSq6hA6J1QRWyIuAIriog0RZBFARdclSJrRRQLi4ICFnSDLALKunEVUUFZcN8ZnfcdP7z/mXvPb/5z5t5zz/lwASCIg2XBy3tiUrrA28mOGRgUzATfKIyflsLx9HQD39W7EQCtxHu638/5rggRkWn85bi4vHL5KYJ0AKDsZdbMSk9Z4aPLTA+P/8JnV1iwXOAy31jh6H957EvOvyz6kuPrzV1+FQoAHCn6Gw7/hv9z74pUOIL02KjIbKZPclR6Vpggkpm20gkel8v0FCRHxSZEflPw/5X8HaVHZqevRG5yyiZBbHRMOvN/DjUyMDQEX2fxxutLjyFG/3/PZ0VfveR6ANhzACD7vnrhlQB07gJA+tFXT225r5R8ADru8DMEmf96qJUNDQiAAuhABigCVaAJdIERMAOWwBY4ABfgAXxBENgA+CAGJAIByAK5YAcoAEVgHzgIqkAtaABNoBWcBp3gPLgCroPb4C4YBo+BEEyCl0AE3oEFCIKwEBmiQTKQEqQO6UBGEBuyhhwgN8gbCoJCoWgoCcqAcqGdUBFUClVBdVAT9At0DroC3YQGoYfQODQD/Q19hBGYBNNhBVgD1ofZMAd2hX3h9XA0nArnwPnwXrgCrodPwh3wFfg2PAwL4ZfwHAIQIsJAlBFdhI1wEQ8kGIlCBMhWpBApR+qRVqQb6UPuIUJkFvmAwqBoKCZKF2WJckb5ofioVNRWVDGqCnUC1YHqRd1DjaNEqM9oMloerYO2QPPQgehodBa6AF2ObkS3o6+hh9GT6HcYDIaBYWHMMM6YIEwcZjOmGHMY04a5jBnETGDmsFisDFYHa4X1wIZh07EF2ErsSewl7BB2EvseR8Qp4YxwjrhgXBIuD1eOa8ZdxA3hpnALeHG8Ot4C74GPwG/Cl+Ab8N34O/hJ/AJBgsAiWBF8CXGEHYQKQivhGmGM8IZIJKoQzYlexFjidmIF8RTxBnGc+IFEJWmTuKQQUgZpL+k46TLpIekNmUzWINuSg8np5L3kJvJV8lPyezGamJ4YTyxCbJtYtViH2JDYKwqeok7hUDZQcijllDOUO5RZcby4hjhXPEx8q3i1+DnxUfE5CZqEoYSHRKJEsUSzxE2JaSqWqkF1oEZQ86nHqFepEzSEpkrj0vi0nbQG2jXaJB1DZ9F59Dh6Ef1n+gBdJEmVNJb0l8yWrJa8IClkIAwNBo+RwChhnGaMMD5KKUhxpCKl9ki1Sg1JzUvLSdtKR0oXSrdJD0t/lGHKOMjEy+yX6ZR5IouS1Zb1ks2SPSJ7TXZWji5nKceXK5Q7LfdIHpbXlveW3yx/TL5ffk5BUcFJIUWhUuGqwqwiQ9FWMU6xTPGi4owSTclaKVapTOmS0gumJJPDTGBWMHuZImV5ZWflDOU65QHlBRWWip9KnkqbyhNVgipbNUq1TLVHVaSmpOaulqvWovZIHa/OVo9RP6Tepz6vwdII0Nit0akxzZJm8Vg5rBbWmCZZ00YzVbNe874WRoutFa91WOuuNqxtoh2jXa19RwfWMdWJ1TmsM7gKvcp8VdKq+lWjuiRdjm6mbovuuB5Dz00vT69T75W+mn6w/n79Pv3PBiYGCQYNBo8NqYYuhnmG3YZ/G2kb8Y2qje6vJq92XL1tddfq18Y6xpHGR4wfmNBM3E12m/SYfDI1MxWYtprOmKmZhZrVmI2y6WxPdjH7hjna3M58m/l58w8WphbpFqct/rLUtYy3bLacXsNaE7mmYc2ElYpVmFWdldCaaR1qfdRaaKNsE2ZTb/PMVtU2wrbRdoqjxYnjnOS8sjOwE9i1281zLbhbuJftEXsn+0L7AQeqg59DlcNTRxXHaMcWR5GTidNmp8vOaGdX5/3OozwFHp/XxBO5mLlscel1Jbn6uFa5PnPTdhO4dbvD7i7uB9zH1qqvTVrb6QE8eB4HPJ54sjxTPX/1wnh5elV7Pfc29M717vOh+Wz0afZ552vnW+L72E/TL8Ovx5/iH+Lf5D8fYB9QGiAM1A/cEng7SDYoNqgrGBvsH9wYPLfOYd3BdZMhJiEFISPrWeuz19/cILshYcOFjZSNYRvPhKJDA0KbQxfDPMLqw+bCeeE14SI+l3+I/zLCNqIsYibSKrI0cirKKqo0ajraKvpA9EyMTUx5zGwsN7Yq9nWcc1xt3Hy8R/zx+KWEgIS2RFxiaOK5JGpSfFJvsmJydvJgik5KQYow1SL1YKpI4CpoTIPS1qd1pdOXP8X+DM2MXRnjmdaZ1Znvs/yzzmRLZCdl92/S3rRn01SOY85Pm1Gb+Zt7cpVzd+SOb+FsqdsKbQ3f2rNNdVv+tsntTttP7CDsiN/xW55BXmne250BO7vzFfK350/sctrVUiBWICgY3W25u/YH1A+xPwzsWb2ncs/nwojCW0UGReVFi8X84ls/Gv5Y8ePS3qi9AyWmJUf2YfYl7RvZb7P/RKlEaU7pxAH3Ax1lzLLCsrcHNx68WW5cXnuIcCjjkLDCraKrUq1yX+ViVUzVcLVddVuNfM2emvnDEYeHjtgeaa1VqC2q/Xg09uiDOqe6jnqN+vJjmGOZx543+Df0/cT+qalRtrGo8dPxpOPCE94nepvMmpqa5ZtLWuCWjJaZkyEn7/5s/3NXq25rXRujregUOJVx6sUvob+MnHY93XOGfab1rPrZmnZae2EH1LGpQ9QZ0ynsCuoaPOdyrqfbsrv9V71fj59XPl99QfJCyUXCxfyLS5dyLs1dTrk8eyX6ykTPxp7HVwOv3u/16h245nrtxnXH61f7OH2XbljdOH/T4ua5W+xbnbdNb3f0m/S3/2byW/uA6UDHHbM7XXfN73YPrhm8OGQzdOWe/b3r93n3bw+vHR4c8Rt5MBoyKnwQ8WD6YcLD148yHy083j6GHit8Iv6k/Kn80/rftX5vE5oKL4zbj/c/83n2eII/8fKPtD8WJ/Ofk5+XTylNNU0bTZ+fcZy5+2Ldi8mXKS8XZgv+lPiz5pXmq7N/2f7VLwoUTb4WvF76u/iNzJvjb43f9sx5zj19l/huYb7wvcz7Ex/YH/o+BnycWshaxC5WfNL61P3Z9fPYUuLS0j9CLJC+ERlPpwAADXVJREFUeJztnT9s4+Qbx9/+1NOF5eQEpAtdrkl7hRvQ6WKETsfQSnbEiEBNYIMBu4gFJjsDC7ol9gTDIcXeWAD7FpBuIYmUO+kQnOJcKwaq0qTNAKQMca4VIlKR+hteYVmJEzt/Xjtxns/kuo6f1+/zvn79vu/3fd6li4sLBAAAAADj8r+gEwAAAADMN14bEtM0aZpWFIVoagAAAIC5Y8nL0JZpmizL1mo1hFC9Xk8mk+QTBgAAAMwHnnokoijiVgQhlM/nSaYHAAAAmDPceySGYbz66qv2M9ApAQAAACzceySFQgEfUBRVLBY5jrPOAEC4YVnWMIygUwEAs457Q1IqlRBCFEUZhsGy7Nramq7r5BMGAMFTLpdN0ww6FQAw67g3JEdHRwghXdfxcBZN00dHR/CZBgAAAGA8TbYzDMOyrP0MNCQ+I4pi0EkAALKIothoNPy0WCqVYEnDVPDUkGSzWeu4WCwihOr1OqkUAX2USiVZloNOBQCQRZZlnxuSYrGoaZqfFsOKp4bErtHy2dMAAADAjLNsGIZrm6yqKu6IdLvd+/fvI4R+/vnnUQdb9vf3u90uRVHdbrfVam1tbY2b5oXj+PgYhW50CxeDeDweiURcL65UKkEVGKvwzy+tVisSiVAU5b/pkbyMfM/tSqVycnISsprlJ9i/H374oXuP5PLly9bxTz/9hA+uXbs2qsm9vb0ffvhB07Tvv//etUzv7u7u7u6OagKYI1qtlqZprVbLy8VPnjzBrSngnU6n0+12EUL7+/tB1aaRvAzMHdi/v/76K7pwg2GYQqFwcXFRr9dxA5BIJFx/5XgfbFsQhHq97noxwzBjWAkl+Bst6FRMGfxQxWLRy8Xer5wuQdmdCoIgCIJgP/CfGfeyIAjwnpkEy7/uPRKapqvVKkJIFMVOp4MQyuVyY7Rd5XIZIcRxXC6Xo2l6jDsAQFgxTVPXdVEU8bItAJgv3BuSdDpdKpUkScKzI6lUiuf5Uc3gNYwMwyiKYjVIc4ooij1i6FDCsiyMHfuAaZqiKMZisWw2K8tyOp0eo365YhgGeBMgx7LrFSzLmqZp9ULGk10Xi8VUKqUoCk3TVvzHIUAsL2ARsMfVtlBVNZfLTaUKNBoNnud1Xe90OuVyWZKkye8JAP0sm6Y5fHXhwcHBv//+i48/+OAD0zRH7X0fHBx8/fXXX3755f379606M/wmz549c70mKI6Pj9vttp9pw5nmc2602+3j42NyRvFDefmqsF/vP0TtqqrqeP/Hjx9PqLNXVfXRo0f2We7r16/3ePPs7KxWqx0cHNA0nUqlJjE3iBn3sv912U988+/Z2dmSpmlDgjCen5//+OOPuCFZWVm5cePGeMbW19evXLnSbrefPn2KT1pz744cHh4ihNbX18cwR5rDw8PT01NCjnEE59vwHJs6tVrtypUr5FyAH+rWrVuxWMz14nK57PHK6ULa7sOHD62vNItoNDp56cJTkgih5eXl5eXlWCxmr7zn5+fNZrPZbFpnxq7dw5lxL/tfl/3BZ/9++umnw7RA7XbbnsXVanWMaX1BEDRNs0/xY1x/FZTOxJWpKD0KhQLWwnkhENUWwzBEXTDjeh5/7PbXzEQi4app9AJFURRFcRzXbrd7alNPvbaYit0eZtzLoVRtBeLfYXMk1n5WiUQimUyWSqUx1FaGYRiGgTs99kCqeL56eKdSUZRisZhMJnO5XDQatf8Lj7BVq9V0Oj2PU994ESiJaVVgfuE4TpKknqI+HngOHyHUf7d8Ph/UOOHC4uf7KhD/DmxIJElSVRUhRFGUrus4F8YwYG8qSqVSOp3uP++Ioig4x2VZNk3TmuQ3TTOfz1uxp2RZ5jgOIq8Bc8q9e/eazeba2hrLsv5oTBwrC8MwIVO4GIYRjUYDfyj/31eB+NdZ/ttoNKwtdXVdp2maZVks/50E+9CWa0OSTCZ1Xce6Ydykof9ULj0RDFVVhQhgwJyysbEhSRLP84TquWma+DsM319RlH7xfSKRCM2nWKPRwCMfw2d//cH/91VQ/nVuSHiex6kRBAF3C2iapihqbHlDo9GgaVrXdeY/MplMJpMZ8hN7l9wKqRKaXnkymQz8WwkIN3iRYywWU1W10+ngjYXq9XpPfCOO4wzDCE1pLBQK1kdw4Pj/vgrMv4E32gAAAMD88sknnzhogQRBwP/GCgqs+uj5JUVR+Xx+pPl9u3rVVbCE1RTVapWiKLvgpP8ZpqVy8c5UlB4jydKmpdoaSSq2gKotx6JOWrVF6P5WPeU4juM4y5U+65T897I9wphrGSadG/6/r4Lyr8PQFl6faO2KKIpi/65KnU4nl8uNF3TBGi4bTqPRyGQyuq7bl+OGu1dOGk3TYBufQTgOZyOE/v7770DSMyH4hcLzvKIoU5GBzRF4Pb+iKOVyeaZ2hAvx+8pBtYWXMuFdEUulEp7o3t7ezmaz2WxWEATTNPFJHBrIo5rNHrQxmUzapcD9xGIxLJjrERyvr69vbm7G43E/VS7kGKJvRjbJ4PPPPx9I8haKQcPZr7zyiv+JmRxJkuYiuJZdFzv53URR1HUdzwZh+ldUTNeiK/6r8gJhoPwXz4TjnosgCLhbwDDM2toaz/PZbDaTyXQ6nUKh4KUhsQdttGbyhyCKYiaTccz3eDwejpBBg/TNqE8yCPjAgohiZ4d+Xezk97RuQlFUNBplWXZItZJl+ebNmy+88MLkdoewsbHx0UcfETUxCzg0JIlE4ujoCH8g42Eu68VN0zTerZ1lWUmSdnZ2PGqCRw3aiBYgbiPWNyOElpaWVFW1L5TpD+SHEGo0GhPmSeizdBJCLIrd2dmZtdGtQYX8zz//nOS2WN6ZyWQkSerRbjla3Nvbu3PnziQWAYxDrK1ffvnlr7/+wnPjh4eHzWbTmif//fffT05OrN7i48ePu92ua3ic09PTp0+fvvbaa//884/HWFuDIB0AygtTic9jv0m5XF5eXt7c3LT+ZQ+SY3Hnzp3nnntuQqPIcwSzwGNtnZ+ft9vts7OzWCzmPV7T2PRk+8rKyvr6+qVLl8hZRISjS52enl66dKmnzPgcXWqQl30o5D2lnZzFIYQ+epgVa2uZZdmer5UHDx58/vnnOG58rVYTRfHtt9/e2NjAf969e9cKKX/37t1Hjx69++67w9MtCMIXX3yxsbFRq9WshmS83bEEQbh+/TrHcWP8dlqoqvrbb7+Nl/7+mzx48KBcLr///vvvvPMO/tdbb73Vf/2tW7c+++yzSSyi/9Z1esw90lmNC4Nj4Tk7O/vmm28sXQCu/67FbHIODg4ePny4srKSSqVefPFForYw5XLZh+eyM5XS651BXvahkPeUdnIWh7Ag/k2lUg6i0na7TVGUpRPd3t5OpVLtdhv/iRCyjre3t5GH8ItjBG0cBGlNqhemJf911DdfkJQMjqQ5Dkr+Oyjk3FdffUUuMUHhmANEmRH5L+lC3m63OY6jKMraF5ycxSEsjn8d5L/RaJTn+Xw+j4VVOLiCNbyeSCSs/UsMw3D9YsURG1mW7dlxD58Z/tvZgcROqI76ZoRQz1KGqUsGFUXJZDKiKPYL52Zhw9dB6qnXX3/d/8QAhCBXyB3X8xO1CKBBqi1JkgzDsETouq5bwWGSySQ+liTJvnPiIMYO2jgjEFJ6DNI3I4QkScpms5qmkZAMeg+FubKyMkaw56mksP8kqKdCBqFCHo1G7aKJRCJhvaCIVitgoPxX13XcaZAkyZ7vWLglSVIulysUCiP5oydo4+z3SMgpPYbomxFCNE0Teok7SsUcH/OPP/5wVWmTIMTqKcAOiUKOCw9FUXj1Ah5cIWoRwCxVq9Uhq50rlcre3l4kEnnppZfwmWazeXJycvXq1TfeeCMej3s00+l0vvvuu263a4VfbLVaq6urb7755kjJ/fbbb69evbq1tTXSr8amUqk8efKk/zzP89aDzBGVSuXk5ATP6suyfPny5Y8//hgF9JjHx8eapmWz2dXV1Z5E2hNz8+bNzc3NSCRCKBnBIstyfw4QxV4GfGCQlwmBnw6/IiqVCkLIt3eFIwvi33v37g3b2AohtLW1dfv27f39fes7kaKoSCQyakIpinrvvffGS2uA7O3t9Z+8du3aPLYidnZ3dxFCt2/fxn8G8pjxeDybzfZ/i2xtbb388sv7+/sURa2urs57Vi84g7xMCKv9APwB+/fGjRsjq6eKxWKAm1P6rNrqzzj/Y0ROkVkOhbmYoLCrevzHHrQxcIXn4vjXeT8ShJBpmjhcz7zMipMgfEoPR6lY+B4TAHZ2dnxbTgEMHNqyZl9lWdY0bfgmVGElZEqPQVKxkD3mHCEIAuT2dMlms3iFNWSsnzg3JLqu2zU8hULBakgWbVPbMCk9hkjFwvSYc0Q4wo/OFFCMA2Hg0NYgqtUquGp+gc80AACmjnOPpKepsIYa8arRRZ41AYC5Jp1Or62tBZ0KgBRB+de5IUkmkwzDGIaRy+XsgyE8z7MsCz0SAJhTZn8VMDAJQfnXZWV7oVCIRqN4Q8NCoYCnav1MXw80TcP3FAAAcwHDMLO2Ewwhli6clhFgcPylUqlUq9VSqRTLso47wgIAAACLzP8Bh7UG8XQafjsAAAAASUVORK5CYII=\"/>"
      ],
      "text/plain": [
       "Chain([4A#:468Hz:1♩:start=0, 4E:331Hz:1♩:start=1, 4F#:371Hz:1♩:start=2, 4D#:312Hz:1♩:start=3, 4F:350Hz:1♩:start=4, 4A:442Hz:1♩:start=5, 5D:589Hz:1♩:start=6, 5C#:556Hz:1♩:start=7, 4G:393Hz:1♩:start=8, 4G#:417Hz:1♩:start=9, …])"
      ]
     },
     "execution_count": 1,
     "metadata": {},
     "output_type": "execute_result"
    }
   ],
   "source": [
    "from maelzel.core import *\n",
    "series = Chain(\"4Bb 4E 4F# 4Eb 4F 4A 5D 5C# 4G 4G# 4B 5C\".split())\n",
    "series\n",
    "            "
   ]
  },
  {
   "cell_type": "code",
   "execution_count": 21,
   "id": "010b6e78-6e00-4de2-9c74-aa21e20a0b14",
   "metadata": {},
   "outputs": [
    {
     "data": {
      "text/html": [
       "<code>Chain([4A#:468Hz:1.5♩:start=0, 4E:331Hz:1.5♩:start=1.5, 4F#:371Hz:1.5♩:start=3, 4D#:312Hz:1.5♩:start=4.5, 4F:350Hz:1.5♩:start=6, 4A:442Hz:1.5♩:start=7.5, 5D:589Hz:1.5♩:start=9, 5C#:556Hz:1.5♩:start=10.5, 4G:393Hz:1.5♩:start=12, 4G#:417Hz:1.5♩:start=13.5, …])</code><br>\n",
       "        <img style=\"display:inline; padding:10px;\n",
       "margin-top:14px;\n",
       "width:617px\"\n",
       "             src=\"data:image/png;base64,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\"/>"
      ],
      "text/plain": [
       "Chain([4A#:468Hz:1.5♩:start=0, 4E:331Hz:1.5♩:start=1.5, 4F#:371Hz:1.5♩:start=3, 4D#:312Hz:1.5♩:start=4.5, 4F:350Hz:1.5♩:start=6, 4A:442Hz:1.5♩:start=7.5, 5D:589Hz:1.5♩:start=9, 5C#:556Hz:1.5♩:start=10.5, 4G:393Hz:1.5♩:start=12, 4G#:417Hz:1.5♩:start=13.5, …])"
      ]
     },
     "execution_count": 21,
     "metadata": {},
     "output_type": "execute_result"
    }
   ],
   "source": [
    "series.timeScale(factor=1.5)"
   ]
  },
  {
   "cell_type": "code",
   "execution_count": 2,
   "id": "5fc1596a-be68-4d0e-a53f-6c35bd9d6025",
   "metadata": {},
   "outputs": [
    {
     "data": {
      "text/html": [
       "<code>Chain([4D:294Hz:1♩:start=0, 4G#:417Hz:1♩:start=1, 4F#:371Hz:1♩:start=2, 4A:442Hz:1♩:start=3, 4G:393Hz:1♩:start=4, 4D#:312Hz:1♩:start=5, 3A#:234Hz:1♩:start=6, 3B:248Hz:1♩:start=7, 4F:350Hz:1♩:start=8, 4E:331Hz:1♩:start=9, …])</code><br>\n",
       "        <img style=\"display:inline; padding:10px;\n",
       "margin-top:14px;\n",
       "width:536px\"\n",
       "             src=\"data:image/png;base64,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\"/>"
      ],
      "text/plain": [
       "Chain([4D:294Hz:1♩:start=0, 4G#:417Hz:1♩:start=1, 4F#:371Hz:1♩:start=2, 4A:442Hz:1♩:start=3, 4G:393Hz:1♩:start=4, 4D#:312Hz:1♩:start=5, 3A#:234Hz:1♩:start=6, 3B:248Hz:1♩:start=7, 4F:350Hz:1♩:start=8, 4E:331Hz:1♩:start=9, …])"
      ]
     },
     "execution_count": 2,
     "metadata": {},
     "output_type": "execute_result"
    }
   ],
   "source": [
    "inv = series.invertPitch(\"4F#\")\n",
    "inv"
   ]
  },
  {
   "cell_type": "code",
   "execution_count": 3,
   "id": "f818e70b-6680-4bef-a531-fbbdb1303b30",
   "metadata": {},
   "outputs": [
    {
     "data": {
      "text/plain": [
       "'4D 4G# 4F# 4A 4G 4D# 3A# 3B 4F 4E 4C# 4C'"
      ]
     },
     "execution_count": 3,
     "metadata": {},
     "output_type": "execute_result"
    }
   ],
   "source": [
    "' '.join([n.name for n in inv])"
   ]
  },
  {
   "cell_type": "code",
   "execution_count": 4,
   "id": "69a06ae7-212f-4472-a640-530c40fb3d0f",
   "metadata": {},
   "outputs": [],
   "source": []
  },
  {
   "cell_type": "code",
   "execution_count": 10,
   "id": "ba931a72-12d4-4c5f-a687-e9869c754972",
   "metadata": {},
   "outputs": [
    {
     "data": {
      "text/html": [
       "<code>&lt;maelzel.core.musicobj.Score object at 0x7f169bdffcf0&gt;</code><br>\n",
       "        <img style=\"display:inline; padding:10px;\n",
       "margin-top:14px;\n",
       "width:537px\"\n",
       "             src=\"data:image/png;base64,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\"/>"
      ],
      "text/plain": [
       "<maelzel.core.musicobj.Score at 0x7f169bdffcf0>"
      ]
     },
     "execution_count": 10,
     "metadata": {},
     "output_type": "execute_result"
    }
   ],
   "source": [
    "s = Score([series, inv])\n",
    "s"
   ]
  },
  {
   "cell_type": "code",
   "execution_count": 20,
   "id": "b254b902-4ed6-4045-af4f-9cba7956bb39",
   "metadata": {},
   "outputs": [
    {
     "name": "stdout",
     "output_type": "stream",
     "text": [
      "4A#  4E   4F#  4D#  4F   4A   5D   5C#  4G   4G#  4B   5C  \n",
      "4D   4G#  4F#  4A   4G   4D#  3A#  3B   4F   4E   4C#  4C  \n"
     ]
    }
   ],
   "source": [
    "print(\" \".join(_.name.ljust(4) for _ in series))\n",
    "print(\" \".join(_.name.ljust(4) for _ in inv))\n"
   ]
  },
  {
   "cell_type": "code",
   "execution_count": 6,
   "id": "472c4b6d-3ee0-4546-aad7-a451c76e21f1",
   "metadata": {},
   "outputs": [],
   "source": [
    "v0.attachedScoreStruct()"
   ]
  },
  {
   "cell_type": "code",
   "execution_count": 7,
   "id": "75c5a641-3b17-40a2-9b6d-331e26fcb246",
   "metadata": {},
   "outputs": [
    {
     "data": {
      "text/html": [
       "<code>Voice([4D:294Hz:1♩:start=0, 4G#:417Hz:1♩:start=1, 4F#:371Hz:1♩:start=2, 4A:442Hz:1♩:start=3, 4G:393Hz:1♩:start=4, 4D#:312Hz:1♩:start=5, 3A#:234Hz:1♩:start=6, 3B:248Hz:1♩:start=7, 4F:350Hz:1♩:start=8, 4E:331Hz:1♩:start=9, 4C#:278Hz:1♩:start=10, 4C:262Hz:1♩:start=11])</code><br>\n",
       "        <img style=\"display:inline; padding:10px;\n",
       "margin-top:14px;\n",
       "width:536px\"\n",
       "             src=\"data:image/png;base64,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\"/>"
      ],
      "text/plain": [
       "Voice([4D:294Hz:1♩:start=0, 4G#:417Hz:1♩:start=1, 4F#:371Hz:1♩:start=2, 4A:442Hz:1♩:start=3, 4G:393Hz:1♩:start=4, 4D#:312Hz:1♩:start=5, 3A#:234Hz:1♩:start=6, 3B:248Hz:1♩:start=7, 4F:350Hz:1♩:start=8, 4E:331Hz:1♩:start=9, 4C#:278Hz:1♩:start=10, 4C:262Hz:1♩:start=11])"
      ]
     },
     "execution_count": 7,
     "metadata": {},
     "output_type": "execute_result"
    }
   ],
   "source": [
    "v1 = Voice(inv)\n",
    "v1"
   ]
  },
  {
   "cell_type": "code",
   "execution_count": 12,
   "id": "324dea29-d199-4cbe-81ce-f023fef409f5",
   "metadata": {},
   "outputs": [
    {
     "data": {
      "text/plain": [
       "{None}"
      ]
     },
     "execution_count": 12,
     "metadata": {},
     "output_type": "execute_result"
    }
   ],
   "source": [
    "set(v.attachedScoreStruct() for v in s.voices)"
   ]
  },
  {
   "cell_type": "code",
   "execution_count": 43,
   "id": "c78c8198-ee55-49cd-b7bb-24d96a4aedc7",
   "metadata": {},
   "outputs": [
    {
     "data": {
      "text/html": [
       "<code>Chain([4F:350Hz:4♩:start=0, 4C:262Hz:4♩:start=4, 4F:350Hz:4♩:start=8, 4A:442Hz:4♩:start=12, Rest(dur=2), 4E:331Hz:2♩:start=18, 4F:350Hz:4♩:start=20, 4E:331Hz:2♩:start=24, 4C:262Hz:2♩:start=26, 4C:262Hz:2♩:start=28, …])</code><br>\n",
       "        <img style=\"display:inline; padding:10px;\n",
       "margin-top:14px;\n",
       "width:689px\"\n",
       "             src=\"data:image/png;base64,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\"/>"
      ],
      "text/plain": [
       "Chain([4F:350Hz:4♩:start=0, 4C:262Hz:4♩:start=4, 4F:350Hz:4♩:start=8, 4A:442Hz:4♩:start=12, Rest(dur=2), 4E:331Hz:2♩:start=18, 4F:350Hz:4♩:start=20, 4E:331Hz:2♩:start=24, 4C:262Hz:2♩:start=26, 4C:262Hz:2♩:start=28, …])"
      ]
     },
     "execution_count": 43,
     "metadata": {},
     "output_type": "execute_result"
    }
   ],
   "source": [
    "from maelzel.core import *\n",
    "cantus = Chain([\n",
    "    Note(\"4F\", 4),\n",
    "    Note(\"4C\", 4),\n",
    "    Note(\"4F\", 4),\n",
    "    Note(\"4A\", 4),\n",
    "    Rest(2),\n",
    "    Note(\"4E\", 2, properties={'setdur': 4}),\n",
    "    Note(\"4F\", 4),\n",
    "    Note(\"4E\", 2),\n",
    "    Note(\"4C\", 2),\n",
    "    Note(\"4C\", 2),\n",
    "    Rest(2),\n",
    "    Note(\"4F\", 4, properties={'setdur': 4}),\n",
    "    Note(\"4G\", 3),\n",
    "    Note(\"4E\", 1),\n",
    "    Note(\"4E\", 2),\n",
    "    Note(\"4F\", 3),\n",
    "    Note(\"4A\", 1.5),\n",
    "    Note(\"4B\", 0.5),\n",
    "    Note(\"5C\", 1),\n",
    "    Note(\"4B\", 1),\n",
    "    Note(\"4B\", 2),\n",
    "    Note(\"4A\", 0.5),\n",
    "    Note(\"4B\", 0.5),\n",
    "    Note(\"5C\", 2),\n",
    "    Rest(2),\n",
    "    Note(\"4A\", 2),\n",
    "    Note(\"4F\", 2),\n",
    "    Note(\"4G\", 2),\n",
    "    Note(\"4F\", 2),\n",
    "    Note(\"4E\", 2),\n",
    "    Note(\"4C\", 4, properties={'setdur': 4}),\n",
    "    Note(\"5C\", 2),\n",
    "    Note(\"4Bb\", 1),\n",
    "    Note(\"5D\", 2),\n",
    "    Note(\"5C\", 0.5),\n",
    "    Note(\"4Bb\", 0.5),\n",
    "    Note(\"4A\", 6),\n",
    "    Note(\"4F\", 2),\n",
    "    Note(\"4F\", 3),\n",
    "    Note(\"4E\", 0.5),\n",
    "    Note(\"4D\", 0.5),\n",
    "    Note(\"4C\", 2)\n",
    "])\n",
    "cantus\n"
   ]
  },
  {
   "cell_type": "code",
   "execution_count": 44,
   "id": "6c7e6c3b-9be3-4ed2-8d5d-d16e0e1d4d09",
   "metadata": {},
   "outputs": [
    {
     "data": {
      "text/html": [
       "<code>Chain([4F:350Hz:6♩:start=0, 4C:262Hz:6♩:start=6, 4F:350Hz:6♩:start=12, 4A:442Hz:6♩:start=18, Rest(dur=2), 4E:331Hz:4♩:start=26, 4F:350Hz:6♩:start=30, 4E:331Hz:2♩:start=36, 4C:262Hz:2♩:start=38, 4C:262Hz:2♩:start=40, …])</code><br>\n",
       "        <img style=\"display:inline; padding:10px;\n",
       "margin-top:14px;\n",
       "width:689px\"\n",
       "             src=\"data:image/png;base64,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\"/>"
      ],
      "text/plain": [
       "Chain([4F:350Hz:6♩:start=0, 4C:262Hz:6♩:start=6, 4F:350Hz:6♩:start=12, 4A:442Hz:6♩:start=18, Rest(dur=2), 4E:331Hz:4♩:start=26, 4F:350Hz:6♩:start=30, 4E:331Hz:2♩:start=36, 4C:262Hz:2♩:start=38, 4C:262Hz:2♩:start=40, …])"
      ]
     },
     "execution_count": 44,
     "metadata": {},
     "output_type": "execute_result"
    }
   ],
   "source": [
    "def transf(n):\n",
    "    setdur = n.properties.get('setdur')\n",
    "    if setdur:\n",
    "        return setdur\n",
    "    if n.dur == 4:\n",
    "        return n.dur * 1.5\n",
    "    else:\n",
    "        return n.dur\n",
    "    \n",
    "cantus2 = Chain(n.clone(start=None, dur=transf(n))\n",
    "                for n in cantus)\n",
    "cantus2"
   ]
  },
  {
   "cell_type": "code",
   "execution_count": 45,
   "id": "7b16a596-c5ee-44ba-b0c6-83204b1a3272",
   "metadata": {},
   "outputs": [
    {
     "data": {
      "text/html": [
       "<code>&lt;maelzel.core.musicobj.Score object at 0x7f3d40761120&gt;</code><br>\n",
       "        <img style=\"display:inline; padding:10px;\n",
       "margin-top:14px;\n",
       "width:689px\"\n",
       "             src=\"data:image/png;base64,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\"/>"
      ],
      "text/plain": [
       "<maelzel.core.musicobj.Score at 0x7f3d40761120>"
      ]
     },
     "execution_count": 45,
     "metadata": {},
     "output_type": "execute_result"
    }
   ],
   "source": [
    "struct = ScoreStruct(timesig=(2, 2), quarterTempo=120)\n",
    "w = getWorkspace()\n",
    "w.scorestruct = struct\n",
    "\n",
    "s = Score([cantus.setPlay(position=0), cantus2.setPlay(position=1)])\n",
    "s"
   ]
  },
  {
   "cell_type": "code",
   "execution_count": 47,
   "id": "9ba6c1cc-4a28-4221-a675-df622eb5995e",
   "metadata": {},
   "outputs": [
    {
     "data": {
      "application/vnd.jupyter.widget-view+json": {
       "model_id": "09400fe1f9e84f32a9bda0b959582f15",
       "version_major": 2,
       "version_minor": 0
      },
      "text/plain": [
       "Button(description='Stop', style=ButtonStyle())"
      ]
     },
     "metadata": {},
     "output_type": "display_data"
    },
    {
     "data": {
      "application/vnd.jupyter.widget-view+json": {
       "model_id": "bb5a1725d4ff49a09145673e689faa11",
       "version_major": 2,
       "version_minor": 0
      },
      "text/plain": [
       "Output()"
      ]
     },
     "metadata": {},
     "output_type": "display_data"
    },
    {
     "data": {
      "text/html": [
       "<small>SynthGroup - start: 0.157, dur: 51.000</small>\n",
       "<p>instr: <strong style=\"color:MediumSeaGreen\">preset..oboe</strong> - <b>84</b> synths</p>\n",
       "<table><thead><tr><th style=\"text-align:left\">p1</th><th style=\"text-align:left\">start</th><th style=\"text-align:left\">dur</th><th style=\"text-align:left\">4</th><th style=\"text-align:left\">5:idataidx_</th><th style=\"text-align:left\">6:inumbps</th><th style=\"text-align:left\">7:ibplen</th><th style=\"text-align:left\">8:igain_</th><th style=\"text-align:left\">9:ichan_</th><th style=\"text-align:left\">10:ipos</th><th style=\"text-align:left\">11:ifade0</th><th style=\"text-align:left\">12:ifade1</th><th style=\"text-align:left\">13:ipchintrp_</th><th style=\"text-align:left\">14:ifadekind_</th><th style=\"text-align:left\">15</th><th style=\"text-align:left\">16</th><th style=\"text-align:left\">...</th><th style=\"text-align:left\">17</th><th style=\"text-align:left\">...</th><th style=\"text-align:left\">18</th><th style=\"text-align:left\">...</th><th style=\"text-align:left\">19</th><th style=\"text-align:left\">...</th><th style=\"text-align:left\">20</th></tr></thead><tbody><tr><td style=\"text-align:left\">1003.0278 <b>𝍪</b></td><td style=\"text-align:left\">0.157</td><td style=\"text-align:left\">2.000</td><td style=\"text-align:left\">0</td><td style=\"text-align:left\">15</td><td style=\"text-align:left\">2</td><td style=\"text-align:left\">3</td><td style=\"text-align:left\">1</td><td style=\"text-align:left\">1</td><td style=\"text-align:left\">-1</td><td style=\"text-align:left\">0.02</td><td style=\"text-align:left\">0.02</td><td style=\"text-align:left\">0</td><td style=\"text-align:left\">1</td><td style=\"text-align:left\">0</td><td style=\"text-align:left\">...</td></tr><tr><td style=\"text-align:left\">1003.0279 <b>𝍪</b></td><td style=\"text-align:left\">2.157</td><td style=\"text-align:left\">2.000</td><td style=\"text-align:left\">0</td><td style=\"text-align:left\">15</td><td style=\"text-align:left\">2</td><td style=\"text-align:left\">3</td><td style=\"text-align:left\">1</td><td style=\"text-align:left\">1</td><td style=\"text-align:left\">-1</td><td style=\"text-align:left\">0.02</td><td style=\"text-align:left\">0.02</td><td style=\"text-align:left\">0</td><td style=\"text-align:left\">1</td><td style=\"text-align:left\">0</td><td style=\"text-align:left\">...</td></tr><tr><td style=\"text-align:left\">1003.028 <b>𝍪</b></td><td style=\"text-align:left\">4.157</td><td style=\"text-align:left\">2.000</td><td style=\"text-align:left\">0</td><td style=\"text-align:left\">15</td><td style=\"text-align:left\">2</td><td style=\"text-align:left\">3</td><td style=\"text-align:left\">1</td><td style=\"text-align:left\">1</td><td style=\"text-align:left\">-1</td><td style=\"text-align:left\">0.02</td><td style=\"text-align:left\">0.02</td><td style=\"text-align:left\">0</td><td style=\"text-align:left\">1</td><td style=\"text-align:left\">0</td><td style=\"text-align:left\">...</td></tr><tr><td style=\"text-align:left\">1003.0281 <b>𝍪</b></td><td style=\"text-align:left\">6.157</td><td style=\"text-align:left\">2.000</td><td style=\"text-align:left\">0</td><td style=\"text-align:left\">15</td><td style=\"text-align:left\">2</td><td style=\"text-align:left\">3</td><td style=\"text-align:left\">1</td><td style=\"text-align:left\">1</td><td style=\"text-align:left\">-1</td><td style=\"text-align:left\">0.02</td><td style=\"text-align:left\">0.02</td><td style=\"text-align:left\">0</td><td style=\"text-align:left\">1</td><td style=\"text-align:left\">0</td><td style=\"text-align:left\">...</td></tr><tr><td style=\"text-align:left\">...</td></tr></tbody></table>"
      ],
      "text/plain": [
       "SynthGroup(n=84)\n",
       "    Synth(𝍪 preset..oboe:1003.0278, p4=0 idataidx_:5=15 inumbps:6=2 ibplen:7=3 igain_:8=1 ichan_:9=1 ipos:10=-1 ifade0:11=0.02 ifade1:12=0.02 ipchintrp_:13=0 ifadekind_:14=1 p15=0 p16=65 ...)\n",
       "    Synth(𝍪 preset..oboe:1003.0279, p4=0 idataidx_:5=15 inumbps:6=2 ibplen:7=3 igain_:8=1 ichan_:9=1 ipos:10=-1 ifade0:11=0.02 ifade1:12=0.02 ipchintrp_:13=0 ifadekind_:14=1 p15=0 p16=60 ...)\n",
       "    Synth(𝍪 preset..oboe:1003.028, p4=0 idataidx_:5=15 inumbps:6=2 ibplen:7=3 igain_:8=1 ichan_:9=1 ipos:10=-1 ifade0:11=0.02 ifade1:12=0.02 ipchintrp_:13=0 ifadekind_:14=1 p15=0 p16=65 ...)\n",
       "    Synth(𝍪 preset..oboe:1003.0281, p4=0 idataidx_:5=15 inumbps:6=2 ibplen:7=3 igain_:8=1 ichan_:9=1 ipos:10=-1 ifade0:11=0.02 ifade1:12=0.02 ipchintrp_:13=0 ifadekind_:14=1 p15=0 p16=69 ...)\n",
       "    Synth(𝍪 preset..oboe:1003.0282, p4=0 idataidx_:5=15 inumbps:6=2 ibplen:7=3 igain_:8=1 ichan_:9=1 ipos:10=-1 ifade0:11=0.02 ifade1:12=0.02 ipchintrp_:13=0 ifadekind_:14=1 p15=0 p16=0 ...)\n",
       "    Synth(𝍪 preset..oboe:1003.0283, p4=0 idataidx_:5=15 inumbps:6=2 ibplen:7=3 igain_:8=1 ichan_:9=1 ipos:10=-1 ifade0:11=0.02 ifade1:12=0.02 ipchintrp_:13=0 ifadekind_:14=1 p15=0 p16=64 ...)\n",
       "    Synth(𝍪 preset..oboe:1003.0284, p4=0 idataidx_:5=15 inumbps:6=2 ibplen:7=3 igain_:8=1 ichan_:9=1 ipos:10=-1 ifade0:11=0.02 ifade1:12=0.02 ipchintrp_:13=0 ifadekind_:14=1 p15=0 p16=65 ...)\n",
       "    Synth(𝍪 preset..oboe:1003.0285, p4=0 idataidx_:5=15 inumbps:6=2 ibplen:7=3 igain_:8=1 ichan_:9=1 ipos:10=-1 ifade0:11=0.02 ifade1:12=0.02 ipchintrp_:13=0 ifadekind_:14=1 p15=0 p16=64 ...)\n",
       "    Synth(𝍪 preset..oboe:1003.0286, p4=0 idataidx_:5=15 inumbps:6=2 ibplen:7=3 igain_:8=1 ichan_:9=1 ipos:10=-1 ifade0:11=0.02 ifade1:12=0.02 ipchintrp_:13=0 ifadekind_:14=1 p15=0 p16=60 ...)\n",
       "    Synth(𝍪 preset..oboe:1003.0287, p4=0 idataidx_:5=15 inumbps:6=2 ibplen:7=3 igain_:8=1 ichan_:9=1 ipos:10=-1 ifade0:11=0.02 ifade1:12=0.02 ipchintrp_:13=0 ifadekind_:14=1 p15=0 p16=60 ...)\n",
       "    Synth(𝍪 preset..oboe:1003.0288, p4=0 idataidx_:5=15 inumbps:6=2 ibplen:7=3 igain_:8=1 ichan_:9=1 ipos:10=-1 ifade0:11=0.02 ifade1:12=0.02 ipchintrp_:13=0 ifadekind_:14=1 p15=0 p16=0 ...)\n",
       "    Synth(𝍪 preset..oboe:1003.0289, p4=0 idataidx_:5=15 inumbps:6=2 ibplen:7=3 igain_:8=1 ichan_:9=1 ipos:10=-1 ifade0:11=0.02 ifade1:12=0.02 ipchintrp_:13=0 ifadekind_:14=1 p15=0 p16=65 ...)\n",
       "    Synth(𝍪 preset..oboe:1003.029, p4=0 idataidx_:5=15 inumbps:6=2 ibplen:7=3 igain_:8=1 ichan_:9=1 ipos:10=-1 ifade0:11=0.02 ifade1:12=0.02 ipchintrp_:13=0 ifadekind_:14=1 p15=0 p16=67 ...)\n",
       "    Synth(𝍪 preset..oboe:1003.0291, p4=0 idataidx_:5=15 inumbps:6=2 ibplen:7=3 igain_:8=1 ichan_:9=1 ipos:10=-1 ifade0:11=0.02 ifade1:12=0.02 ipchintrp_:13=0 ifadekind_:14=1 p15=0 p16=64 ...)\n",
       "    Synth(𝍪 preset..oboe:1003.0292, p4=0 idataidx_:5=15 inumbps:6=2 ibplen:7=3 igain_:8=1 ichan_:9=1 ipos:10=-1 ifade0:11=0.02 ifade1:12=0.02 ipchintrp_:13=0 ifadekind_:14=1 p15=0 p16=64 ...)\n",
       "    Synth(𝍪 preset..oboe:1003.0293, p4=0 idataidx_:5=15 inumbps:6=2 ibplen:7=3 igain_:8=1 ichan_:9=1 ipos:10=-1 ifade0:11=0.02 ifade1:12=0.02 ipchintrp_:13=0 ifadekind_:14=1 p15=0 p16=65 ...)\n",
       "    Synth(𝍪 preset..oboe:1003.0294, p4=0 idataidx_:5=15 inumbps:6=2 ibplen:7=3 igain_:8=1 ichan_:9=1 ipos:10=-1 ifade0:11=0.02 ifade1:12=0.02 ipchintrp_:13=0 ifadekind_:14=1 p15=0 p16=69 ...)\n",
       "    Synth(𝍪 preset..oboe:1003.0295, p4=0 idataidx_:5=15 inumbps:6=2 ibplen:7=3 igain_:8=1 ichan_:9=1 ipos:10=-1 ifade0:11=0.02 ifade1:12=0.02 ipchintrp_:13=0 ifadekind_:14=1 p15=0 p16=71 ...)\n",
       "    Synth(𝍪 preset..oboe:1003.0296, p4=0 idataidx_:5=15 inumbps:6=2 ibplen:7=3 igain_:8=1 ichan_:9=1 ipos:10=-1 ifade0:11=0.02 ifade1:12=0.02 ipchintrp_:13=0 ifadekind_:14=1 p15=0 p16=72 ...)\n",
       "    Synth(𝍪 preset..oboe:1003.0297, p4=0 idataidx_:5=15 inumbps:6=2 ibplen:7=3 igain_:8=1 ichan_:9=1 ipos:10=-1 ifade0:11=0.02 ifade1:12=0.02 ipchintrp_:13=0 ifadekind_:14=1 p15=0 p16=71 ...)\n",
       "    Synth(𝍪 preset..oboe:1003.0298, p4=0 idataidx_:5=15 inumbps:6=2 ibplen:7=3 igain_:8=1 ichan_:9=1 ipos:10=-1 ifade0:11=0.02 ifade1:12=0.02 ipchintrp_:13=0 ifadekind_:14=1 p15=0 p16=71 ...)\n",
       "    Synth(𝍪 preset..oboe:1003.0299, p4=0 idataidx_:5=15 inumbps:6=2 ibplen:7=3 igain_:8=1 ichan_:9=1 ipos:10=-1 ifade0:11=0.02 ifade1:12=0.02 ipchintrp_:13=0 ifadekind_:14=1 p15=0 p16=69 ...)\n",
       "    Synth(𝍪 preset..oboe:1003.03, p4=0 idataidx_:5=15 inumbps:6=2 ibplen:7=3 igain_:8=1 ichan_:9=1 ipos:10=-1 ifade0:11=0.02 ifade1:12=0.02 ipchintrp_:13=0 ifadekind_:14=1 p15=0 p16=71 ...)\n",
       "    Synth(𝍪 preset..oboe:1003.0301, p4=0 idataidx_:5=15 inumbps:6=2 ibplen:7=3 igain_:8=1 ichan_:9=1 ipos:10=-1 ifade0:11=0.02 ifade1:12=0.02 ipchintrp_:13=0 ifadekind_:14=1 p15=0 p16=72 ...)\n",
       "    Synth(𝍪 preset..oboe:1003.0302, p4=0 idataidx_:5=15 inumbps:6=2 ibplen:7=3 igain_:8=1 ichan_:9=1 ipos:10=-1 ifade0:11=0.02 ifade1:12=0.02 ipchintrp_:13=0 ifadekind_:14=1 p15=0 p16=0 ...)\n",
       "    Synth(𝍪 preset..oboe:1003.0303, p4=0 idataidx_:5=15 inumbps:6=2 ibplen:7=3 igain_:8=1 ichan_:9=1 ipos:10=-1 ifade0:11=0.02 ifade1:12=0.02 ipchintrp_:13=0 ifadekind_:14=1 p15=0 p16=69 ...)\n",
       "    Synth(𝍪 preset..oboe:1003.0304, p4=0 idataidx_:5=15 inumbps:6=2 ibplen:7=3 igain_:8=1 ichan_:9=1 ipos:10=-1 ifade0:11=0.02 ifade1:12=0.02 ipchintrp_:13=0 ifadekind_:14=1 p15=0 p16=65 ...)\n",
       "    Synth(𝍪 preset..oboe:1003.0305, p4=0 idataidx_:5=15 inumbps:6=2 ibplen:7=3 igain_:8=1 ichan_:9=1 ipos:10=-1 ifade0:11=0.02 ifade1:12=0.02 ipchintrp_:13=0 ifadekind_:14=1 p15=0 p16=67 ...)\n",
       "    Synth(𝍪 preset..oboe:1003.0306, p4=0 idataidx_:5=15 inumbps:6=2 ibplen:7=3 igain_:8=1 ichan_:9=1 ipos:10=-1 ifade0:11=0.02 ifade1:12=0.02 ipchintrp_:13=0 ifadekind_:14=1 p15=0 p16=65 ...)\n",
       "    Synth(𝍪 preset..oboe:1003.0307, p4=0 idataidx_:5=15 inumbps:6=2 ibplen:7=3 igain_:8=1 ichan_:9=1 ipos:10=-1 ifade0:11=0.02 ifade1:12=0.02 ipchintrp_:13=0 ifadekind_:14=1 p15=0 p16=64 ...)\n",
       "    Synth(𝍪 preset..oboe:1003.0308, p4=0 idataidx_:5=15 inumbps:6=2 ibplen:7=3 igain_:8=1 ichan_:9=1 ipos:10=-1 ifade0:11=0.02 ifade1:12=0.02 ipchintrp_:13=0 ifadekind_:14=1 p15=0 p16=60 ...)\n",
       "    Synth(𝍪 preset..oboe:1003.0309, p4=0 idataidx_:5=15 inumbps:6=2 ibplen:7=3 igain_:8=1 ichan_:9=1 ipos:10=-1 ifade0:11=0.02 ifade1:12=0.02 ipchintrp_:13=0 ifadekind_:14=1 p15=0 p16=72 ...)\n",
       "    Synth(𝍪 preset..oboe:1003.031, p4=0 idataidx_:5=15 inumbps:6=2 ibplen:7=3 igain_:8=1 ichan_:9=1 ipos:10=-1 ifade0:11=0.02 ifade1:12=0.02 ipchintrp_:13=0 ifadekind_:14=1 p15=0 p16=70 ...)\n",
       "    Synth(𝍪 preset..oboe:1003.0311, p4=0 idataidx_:5=15 inumbps:6=2 ibplen:7=3 igain_:8=1 ichan_:9=1 ipos:10=-1 ifade0:11=0.02 ifade1:12=0.02 ipchintrp_:13=0 ifadekind_:14=1 p15=0 p16=74 ...)\n",
       "    Synth(𝍪 preset..oboe:1003.0312, p4=0 idataidx_:5=15 inumbps:6=2 ibplen:7=3 igain_:8=1 ichan_:9=1 ipos:10=-1 ifade0:11=0.02 ifade1:12=0.02 ipchintrp_:13=0 ifadekind_:14=1 p15=0 p16=72 ...)\n",
       "    Synth(𝍪 preset..oboe:1003.0313, p4=0 idataidx_:5=15 inumbps:6=2 ibplen:7=3 igain_:8=1 ichan_:9=1 ipos:10=-1 ifade0:11=0.02 ifade1:12=0.02 ipchintrp_:13=0 ifadekind_:14=1 p15=0 p16=70 ...)\n",
       "    Synth(𝍪 preset..oboe:1003.0314, p4=0 idataidx_:5=15 inumbps:6=2 ibplen:7=3 igain_:8=1 ichan_:9=1 ipos:10=-1 ifade0:11=0.02 ifade1:12=0.02 ipchintrp_:13=0 ifadekind_:14=1 p15=0 p16=69 ...)\n",
       "    Synth(𝍪 preset..oboe:1003.0315, p4=0 idataidx_:5=15 inumbps:6=2 ibplen:7=3 igain_:8=1 ichan_:9=1 ipos:10=-1 ifade0:11=0.02 ifade1:12=0.02 ipchintrp_:13=0 ifadekind_:14=1 p15=0 p16=65 ...)\n",
       "    Synth(𝍪 preset..oboe:1003.0316, p4=0 idataidx_:5=15 inumbps:6=2 ibplen:7=3 igain_:8=1 ichan_:9=1 ipos:10=-1 ifade0:11=0.02 ifade1:12=0.02 ipchintrp_:13=0 ifadekind_:14=1 p15=0 p16=65 ...)\n",
       "    Synth(𝍪 preset..oboe:1003.0317, p4=0 idataidx_:5=15 inumbps:6=2 ibplen:7=3 igain_:8=1 ichan_:9=1 ipos:10=-1 ifade0:11=0.02 ifade1:12=0.02 ipchintrp_:13=0 ifadekind_:14=1 p15=0 p16=64 ...)\n",
       "    Synth(𝍪 preset..oboe:1003.0318, p4=0 idataidx_:5=15 inumbps:6=2 ibplen:7=3 igain_:8=1 ichan_:9=1 ipos:10=-1 ifade0:11=0.02 ifade1:12=0.02 ipchintrp_:13=0 ifadekind_:14=1 p15=0 p16=62 ...)\n",
       "    Synth(𝍪 preset..oboe:1003.0319, p4=0 idataidx_:5=15 inumbps:6=2 ibplen:7=3 igain_:8=1 ichan_:9=1 ipos:10=-1 ifade0:11=0.02 ifade1:12=0.02 ipchintrp_:13=0 ifadekind_:14=1 p15=0 p16=60 ...)\n",
       "    Synth(𝍪 preset..oboe:1003.032, p4=0 idataidx_:5=15 inumbps:6=2 ibplen:7=3 igain_:8=1 ichan_:9=1 ipos:10=-1 ifade0:11=0.02 ifade1:12=0.02 ipchintrp_:13=0 ifadekind_:14=1 p15=0 p16=65 ...)\n",
       "    Synth(𝍪 preset..oboe:1003.0321, p4=0 idataidx_:5=15 inumbps:6=2 ibplen:7=3 igain_:8=1 ichan_:9=1 ipos:10=-1 ifade0:11=0.02 ifade1:12=0.02 ipchintrp_:13=0 ifadekind_:14=1 p15=0 p16=60 ...)\n",
       "    Synth(𝍪 preset..oboe:1003.0322, p4=0 idataidx_:5=15 inumbps:6=2 ibplen:7=3 igain_:8=1 ichan_:9=1 ipos:10=-1 ifade0:11=0.02 ifade1:12=0.02 ipchintrp_:13=0 ifadekind_:14=1 p15=0 p16=65 ...)\n",
       "    Synth(𝍪 preset..oboe:1003.0323, p4=0 idataidx_:5=15 inumbps:6=2 ibplen:7=3 igain_:8=1 ichan_:9=1 ipos:10=-1 ifade0:11=0.02 ifade1:12=0.02 ipchintrp_:13=0 ifadekind_:14=1 p15=0 p16=69 ...)\n",
       "    Synth(𝍪 preset..oboe:1003.0324, p4=0 idataidx_:5=15 inumbps:6=2 ibplen:7=3 igain_:8=1 ichan_:9=1 ipos:10=-1 ifade0:11=0.02 ifade1:12=0.02 ipchintrp_:13=0 ifadekind_:14=1 p15=0 p16=0 ...)\n",
       "    Synth(𝍪 preset..oboe:1003.0325, p4=0 idataidx_:5=15 inumbps:6=2 ibplen:7=3 igain_:8=1 ichan_:9=1 ipos:10=-1 ifade0:11=0.02 ifade1:12=0.02 ipchintrp_:13=0 ifadekind_:14=1 p15=0 p16=64 ...)\n",
       "    Synth(𝍪 preset..oboe:1003.0326, p4=0 idataidx_:5=15 inumbps:6=2 ibplen:7=3 igain_:8=1 ichan_:9=1 ipos:10=-1 ifade0:11=0.02 ifade1:12=0.02 ipchintrp_:13=0 ifadekind_:14=1 p15=0 p16=65 ...)\n",
       "    Synth(𝍪 preset..oboe:1003.0327, p4=0 idataidx_:5=15 inumbps:6=2 ibplen:7=3 igain_:8=1 ichan_:9=1 ipos:10=-1 ifade0:11=0.02 ifade1:12=0.02 ipchintrp_:13=0 ifadekind_:14=1 p15=0 p16=64 ...)\n",
       "    Synth(𝍪 preset..oboe:1003.0328, p4=0 idataidx_:5=15 inumbps:6=2 ibplen:7=3 igain_:8=1 ichan_:9=1 ipos:10=-1 ifade0:11=0.02 ifade1:12=0.02 ipchintrp_:13=0 ifadekind_:14=1 p15=0 p16=60 ...)\n",
       "    Synth(𝍪 preset..oboe:1003.0329, p4=0 idataidx_:5=15 inumbps:6=2 ibplen:7=3 igain_:8=1 ichan_:9=1 ipos:10=-1 ifade0:11=0.02 ifade1:12=0.02 ipchintrp_:13=0 ifadekind_:14=1 p15=0 p16=60 ...)\n",
       "    Synth(𝍪 preset..oboe:1003.033, p4=0 idataidx_:5=15 inumbps:6=2 ibplen:7=3 igain_:8=1 ichan_:9=1 ipos:10=-1 ifade0:11=0.02 ifade1:12=0.02 ipchintrp_:13=0 ifadekind_:14=1 p15=0 p16=0 ...)\n",
       "    Synth(𝍪 preset..oboe:1003.0331, p4=0 idataidx_:5=15 inumbps:6=2 ibplen:7=3 igain_:8=1 ichan_:9=1 ipos:10=-1 ifade0:11=0.02 ifade1:12=0.02 ipchintrp_:13=0 ifadekind_:14=1 p15=0 p16=65 ...)\n",
       "    Synth(𝍪 preset..oboe:1003.0332, p4=0 idataidx_:5=15 inumbps:6=2 ibplen:7=3 igain_:8=1 ichan_:9=1 ipos:10=-1 ifade0:11=0.02 ifade1:12=0.02 ipchintrp_:13=0 ifadekind_:14=1 p15=0 p16=67 ...)\n",
       "    Synth(𝍪 preset..oboe:1003.0333, p4=0 idataidx_:5=15 inumbps:6=2 ibplen:7=3 igain_:8=1 ichan_:9=1 ipos:10=-1 ifade0:11=0.02 ifade1:12=0.02 ipchintrp_:13=0 ifadekind_:14=1 p15=0 p16=64 ...)\n",
       "    Synth(𝍪 preset..oboe:1003.0334, p4=0 idataidx_:5=15 inumbps:6=2 ibplen:7=3 igain_:8=1 ichan_:9=1 ipos:10=-1 ifade0:11=0.02 ifade1:12=0.02 ipchintrp_:13=0 ifadekind_:14=1 p15=0 p16=64 ...)\n",
       "    Synth(𝍪 preset..oboe:1003.0335, p4=0 idataidx_:5=15 inumbps:6=2 ibplen:7=3 igain_:8=1 ichan_:9=1 ipos:10=-1 ifade0:11=0.02 ifade1:12=0.02 ipchintrp_:13=0 ifadekind_:14=1 p15=0 p16=65 ...)\n",
       "    Synth(𝍪 preset..oboe:1003.0336, p4=0 idataidx_:5=15 inumbps:6=2 ibplen:7=3 igain_:8=1 ichan_:9=1 ipos:10=-1 ifade0:11=0.02 ifade1:12=0.02 ipchintrp_:13=0 ifadekind_:14=1 p15=0 p16=69 ...)\n",
       "    Synth(𝍪 preset..oboe:1003.0337, p4=0 idataidx_:5=15 inumbps:6=2 ibplen:7=3 igain_:8=1 ichan_:9=1 ipos:10=-1 ifade0:11=0.02 ifade1:12=0.02 ipchintrp_:13=0 ifadekind_:14=1 p15=0 p16=71 ...)\n",
       "    Synth(𝍪 preset..oboe:1003.0338, p4=0 idataidx_:5=15 inumbps:6=2 ibplen:7=3 igain_:8=1 ichan_:9=1 ipos:10=-1 ifade0:11=0.02 ifade1:12=0.02 ipchintrp_:13=0 ifadekind_:14=1 p15=0 p16=72 ...)\n",
       "    Synth(𝍪 preset..oboe:1003.0339, p4=0 idataidx_:5=15 inumbps:6=2 ibplen:7=3 igain_:8=1 ichan_:9=1 ipos:10=-1 ifade0:11=0.02 ifade1:12=0.02 ipchintrp_:13=0 ifadekind_:14=1 p15=0 p16=71 ...)\n",
       "    Synth(𝍪 preset..oboe:1003.034, p4=0 idataidx_:5=15 inumbps:6=2 ibplen:7=3 igain_:8=1 ichan_:9=1 ipos:10=-1 ifade0:11=0.02 ifade1:12=0.02 ipchintrp_:13=0 ifadekind_:14=1 p15=0 p16=71 ...)\n",
       "    Synth(𝍪 preset..oboe:1003.0341, p4=0 idataidx_:5=15 inumbps:6=2 ibplen:7=3 igain_:8=1 ichan_:9=1 ipos:10=-1 ifade0:11=0.02 ifade1:12=0.02 ipchintrp_:13=0 ifadekind_:14=1 p15=0 p16=69 ...)\n",
       "    Synth(𝍪 preset..oboe:1003.0342, p4=0 idataidx_:5=15 inumbps:6=2 ibplen:7=3 igain_:8=1 ichan_:9=1 ipos:10=-1 ifade0:11=0.02 ifade1:12=0.02 ipchintrp_:13=0 ifadekind_:14=1 p15=0 p16=71 ...)\n",
       "    Synth(𝍪 preset..oboe:1003.0343, p4=0 idataidx_:5=15 inumbps:6=2 ibplen:7=3 igain_:8=1 ichan_:9=1 ipos:10=-1 ifade0:11=0.02 ifade1:12=0.02 ipchintrp_:13=0 ifadekind_:14=1 p15=0 p16=72 ...)\n",
       "    Synth(𝍪 preset..oboe:1003.0344, p4=0 idataidx_:5=15 inumbps:6=2 ibplen:7=3 igain_:8=1 ichan_:9=1 ipos:10=-1 ifade0:11=0.02 ifade1:12=0.02 ipchintrp_:13=0 ifadekind_:14=1 p15=0 p16=0 ...)\n",
       "    Synth(𝍪 preset..oboe:1003.0345, p4=0 idataidx_:5=15 inumbps:6=2 ibplen:7=3 igain_:8=1 ichan_:9=1 ipos:10=-1 ifade0:11=0.02 ifade1:12=0.02 ipchintrp_:13=0 ifadekind_:14=1 p15=0 p16=69 ...)\n",
       "    Synth(𝍪 preset..oboe:1003.0346, p4=0 idataidx_:5=15 inumbps:6=2 ibplen:7=3 igain_:8=1 ichan_:9=1 ipos:10=-1 ifade0:11=0.02 ifade1:12=0.02 ipchintrp_:13=0 ifadekind_:14=1 p15=0 p16=65 ...)\n",
       "    Synth(𝍪 preset..oboe:1003.0347, p4=0 idataidx_:5=15 inumbps:6=2 ibplen:7=3 igain_:8=1 ichan_:9=1 ipos:10=-1 ifade0:11=0.02 ifade1:12=0.02 ipchintrp_:13=0 ifadekind_:14=1 p15=0 p16=67 ...)\n",
       "    Synth(𝍪 preset..oboe:1003.0348, p4=0 idataidx_:5=15 inumbps:6=2 ibplen:7=3 igain_:8=1 ichan_:9=1 ipos:10=-1 ifade0:11=0.02 ifade1:12=0.02 ipchintrp_:13=0 ifadekind_:14=1 p15=0 p16=65 ...)\n",
       "    Synth(𝍪 preset..oboe:1003.0349, p4=0 idataidx_:5=15 inumbps:6=2 ibplen:7=3 igain_:8=1 ichan_:9=1 ipos:10=-1 ifade0:11=0.02 ifade1:12=0.02 ipchintrp_:13=0 ifadekind_:14=1 p15=0 p16=64 ...)\n",
       "    Synth(𝍪 preset..oboe:1003.035, p4=0 idataidx_:5=15 inumbps:6=2 ibplen:7=3 igain_:8=1 ichan_:9=1 ipos:10=-1 ifade0:11=0.02 ifade1:12=0.02 ipchintrp_:13=0 ifadekind_:14=1 p15=0 p16=60 ...)\n",
       "    Synth(𝍪 preset..oboe:1003.0351, p4=0 idataidx_:5=15 inumbps:6=2 ibplen:7=3 igain_:8=1 ichan_:9=1 ipos:10=-1 ifade0:11=0.02 ifade1:12=0.02 ipchintrp_:13=0 ifadekind_:14=1 p15=0 p16=72 ...)\n",
       "    Synth(𝍪 preset..oboe:1003.0352, p4=0 idataidx_:5=15 inumbps:6=2 ibplen:7=3 igain_:8=1 ichan_:9=1 ipos:10=-1 ifade0:11=0.02 ifade1:12=0.02 ipchintrp_:13=0 ifadekind_:14=1 p15=0 p16=70 ...)\n",
       "    Synth(𝍪 preset..oboe:1003.0353, p4=0 idataidx_:5=15 inumbps:6=2 ibplen:7=3 igain_:8=1 ichan_:9=1 ipos:10=-1 ifade0:11=0.02 ifade1:12=0.02 ipchintrp_:13=0 ifadekind_:14=1 p15=0 p16=74 ...)\n",
       "    Synth(𝍪 preset..oboe:1003.0354, p4=0 idataidx_:5=15 inumbps:6=2 ibplen:7=3 igain_:8=1 ichan_:9=1 ipos:10=-1 ifade0:11=0.02 ifade1:12=0.02 ipchintrp_:13=0 ifadekind_:14=1 p15=0 p16=72 ...)\n",
       "    Synth(𝍪 preset..oboe:1003.0355, p4=0 idataidx_:5=15 inumbps:6=2 ibplen:7=3 igain_:8=1 ichan_:9=1 ipos:10=-1 ifade0:11=0.02 ifade1:12=0.02 ipchintrp_:13=0 ifadekind_:14=1 p15=0 p16=70 ...)\n",
       "    Synth(𝍪 preset..oboe:1003.0356, p4=0 idataidx_:5=15 inumbps:6=2 ibplen:7=3 igain_:8=1 ichan_:9=1 ipos:10=-1 ifade0:11=0.02 ifade1:12=0.02 ipchintrp_:13=0 ifadekind_:14=1 p15=0 p16=69 ...)\n",
       "    Synth(𝍪 preset..oboe:1003.0357, p4=0 idataidx_:5=15 inumbps:6=2 ibplen:7=3 igain_:8=1 ichan_:9=1 ipos:10=-1 ifade0:11=0.02 ifade1:12=0.02 ipchintrp_:13=0 ifadekind_:14=1 p15=0 p16=65 ...)\n",
       "    Synth(𝍪 preset..oboe:1003.0358, p4=0 idataidx_:5=15 inumbps:6=2 ibplen:7=3 igain_:8=1 ichan_:9=1 ipos:10=-1 ifade0:11=0.02 ifade1:12=0.02 ipchintrp_:13=0 ifadekind_:14=1 p15=0 p16=65 ...)\n",
       "    Synth(𝍪 preset..oboe:1003.0359, p4=0 idataidx_:5=15 inumbps:6=2 ibplen:7=3 igain_:8=1 ichan_:9=1 ipos:10=-1 ifade0:11=0.02 ifade1:12=0.02 ipchintrp_:13=0 ifadekind_:14=1 p15=0 p16=64 ...)\n",
       "    Synth(𝍪 preset..oboe:1003.036, p4=0 idataidx_:5=15 inumbps:6=2 ibplen:7=3 igain_:8=1 ichan_:9=1 ipos:10=-1 ifade0:11=0.02 ifade1:12=0.02 ipchintrp_:13=0 ifadekind_:14=1 p15=0 p16=62 ...)\n",
       "    Synth(𝍪 preset..oboe:1003.0361, p4=0 idataidx_:5=15 inumbps:6=2 ibplen:7=3 igain_:8=1 ichan_:9=1 ipos:10=-1 ifade0:11=0.02 ifade1:12=0.02 ipchintrp_:13=0 ifadekind_:14=1 p15=0 p16=60 ...)"
      ]
     },
     "execution_count": 47,
     "metadata": {},
     "output_type": "execute_result"
    }
   ],
   "source": [
    "s.play(instr='.oboe')"
   ]
  },
  {
   "cell_type": "code",
   "execution_count": 1,
   "id": "c6043811-cda9-4fe4-85dd-92bac6e9b8df",
   "metadata": {},
   "outputs": [
    {
     "name": "stdout",
     "output_type": "stream",
     "text": [
      "csoundengine.magic extension loaded\n",
      "Magics available: %csound, %%csound, %%definstr\n"
     ]
    }
   ],
   "source": [
    "from maelzel.core import *"
   ]
  },
  {
   "cell_type": "code",
   "execution_count": 2,
   "id": "c7224594-213b-45cc-b59a-37aa432ce6bf",
   "metadata": {},
   "outputs": [
    {
     "name": "stderr",
     "output_type": "stream",
     "text": [
      "\n",
      "\n",
      "--Csound version 6.18 (double samples) Mar  4 2022\n",
      "[commit: da7bc6fed291c7a0608bfab9ea7d2d1a11067761]\n",
      "\u001b[mlibsndfile-1.0.31\n",
      "\u001b[msr = 48000.0,\u001b[m kr = 750.000,\u001b[m ksmps = 64\n",
      "\u001b[m0dBFS level = 1.0,\u001b[m A4 tuning = 442.0\n",
      "\u001b[maudio buffered in 512 sample-frame blocks\n",
      "\u001b[mreading 2048-byte blks of shorts from adc:Built-in Audio Analog Stereo: (RAW)\n",
      "writing 1024 sample blks of 64-bit floats to dac:Built-in Audio Analog Stereo:\n",
      "SECTION 1:\n"
     ]
    }
   ],
   "source": [
    "e = play.getPlayEngine()"
   ]
  },
  {
   "cell_type": "code",
   "execution_count": 3,
   "id": "f9a05122-b6bf-44e1-9131-0952f181b1a4",
   "metadata": {},
   "outputs": [
    {
     "data": {
      "text/plain": [
       "523.0002"
      ]
     },
     "execution_count": 3,
     "metadata": {},
     "output_type": "execute_result"
    },
    {
     "name": "stderr",
     "output_type": "stream",
     "text": [
      "\u001b[m\n",
      "Testaudio: pink noise mode\n",
      "\u001b[mChannel: 1 / 2\n",
      "\u001b[mChannel: 2 / 2\n",
      "\u001b[mChannel: 1 / 2\n",
      "\u001b[mChannel: 2 / 2\n"
     ]
    }
   ],
   "source": [
    "e.testAudio()"
   ]
  },
  {
   "cell_type": "code",
   "execution_count": 4,
   "id": "4f382211-cf69-4290-b470-313844c30340",
   "metadata": {},
   "outputs": [],
   "source": [
    "import csoundengine as ce"
   ]
  },
  {
   "cell_type": "code",
   "execution_count": 5,
   "id": "712fd540-498f-4c62-b98d-bdd7569c597b",
   "metadata": {},
   "outputs": [
    {
     "name": "stderr",
     "output_type": "stream",
     "text": [
      "\u001b[m\n",
      "\n",
      "--Csound version 6.18 (double samples) Mar  4 2022\n",
      "[commit: da7bc6fed291c7a0608bfab9ea7d2d1a11067761]\n",
      "\u001b[mlibsndfile-1.0.31\n",
      "\u001b[msr = 48000.0,\u001b[m kr = 750.000,\u001b[m ksmps = 64\n",
      "\u001b[m0dBFS level = 1.0,\u001b[m A4 tuning = 442.0\n",
      "\u001b[maudio buffered in 512 sample-frame blocks\n",
      "\u001b[mreading 2048-byte blks of shorts from adc:Built-in Audio Analog Stereo: (RAW)\n",
      "writing 1024 sample blks of 64-bit floats to dac:Built-in Audio Analog Stereo:\n",
      "SECTION 1:\n"
     ]
    }
   ],
   "source": [
    "e = ce.Engine()"
   ]
  },
  {
   "cell_type": "code",
   "execution_count": 7,
   "id": "02fa2bff-789e-4bb8-8012-cd8ded25797f",
   "metadata": {},
   "outputs": [
    {
     "data": {
      "text/plain": [
       "523.0002"
      ]
     },
     "execution_count": 7,
     "metadata": {},
     "output_type": "execute_result"
    },
    {
     "name": "stderr",
     "output_type": "stream",
     "text": [
      "\u001b[m\n",
      "Testaudio: pink noise mode\n",
      "\u001b[mChannel: 1 / 2\n",
      "\u001b[mChannel: 2 / 2\n",
      "\u001b[mChannel: 1 / 2\n",
      "\u001b[mChannel: 2 / 2\n"
     ]
    }
   ],
   "source": [
    "e.testAudio()"
   ]
  },
  {
   "cell_type": "code",
   "execution_count": 2,
   "id": "5eb583c8-9546-4752-a1c4-c5ed0f5f30da",
   "metadata": {},
   "outputs": [
    {
     "name": "stderr",
     "output_type": "stream",
     "text": [
      "\n",
      "\n",
      "--Csound version 6.18 (double samples) Mar  4 2022\n",
      "[commit: da7bc6fed291c7a0608bfab9ea7d2d1a11067761]\n",
      "\u001b[mlibsndfile-1.0.31\n",
      "\u001b[msr = 48000.0,\u001b[m kr = 750.000,\u001b[m ksmps = 64\n",
      "\u001b[m0dBFS level = 1.0,\u001b[m A4 tuning = 442.0\n",
      "\u001b[maudio buffered in 512 sample-frame blocks\n",
      "\u001b[mreading 2048-byte blks of shorts from adc:Built-in Audio Analog Stereo: (RAW)\n",
      "writing 1024 sample blks of 64-bit floats to dac:Built-in Audio Analog Stereo:\n",
      "SECTION 1:\n"
     ]
    }
   ],
   "source": [
    "e = ce.Engine(nchnls=2)"
   ]
  },
  {
   "cell_type": "code",
   "execution_count": 3,
   "id": "8b730aa6-d2f2-489d-94af-75edaaa8b133",
   "metadata": {},
   "outputs": [
    {
     "name": "stderr",
     "output_type": "stream",
     "text": [
      "\u001b[m\n",
      "Testaudio: pink noise mode\n",
      "\u001b[mChannel: 1 / 2\n"
     ]
    },
    {
     "data": {
      "text/plain": [
       "523.0002"
      ]
     },
     "execution_count": 3,
     "metadata": {},
     "output_type": "execute_result"
    },
    {
     "name": "stderr",
     "output_type": "stream",
     "text": [
      "\u001b[mChannel: 2 / 2\n",
      "\u001b[mChannel: 1 / 2\n",
      "\u001b[mChannel: 2 / 2\n"
     ]
    }
   ],
   "source": [
    "\n",
    "e.testAudio()"
   ]
  },
  {
   "cell_type": "code",
   "execution_count": null,
   "id": "124dd23c-76d7-4db4-8141-d58db23b13f6",
   "metadata": {},
   "outputs": [],
   "source": []
  }
 ],
 "metadata": {
  "kernelspec": {
   "display_name": "Python 3 (ipykernel)",
   "language": "python",
   "name": "python3"
  },
  "language_info": {
   "codemirror_mode": {
    "name": "ipython",
    "version": 3
   },
   "file_extension": ".py",
   "mimetype": "text/x-python",
   "name": "python",
   "nbconvert_exporter": "python",
   "pygments_lexer": "ipython3",
   "version": "3.9.7"
  }
 },
 "nbformat": 4,
 "nbformat_minor": 5
}
