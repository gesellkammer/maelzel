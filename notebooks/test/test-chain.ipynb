{
 "cells": [
  {
   "cell_type": "code",
   "execution_count": 1,
   "id": "76c88e1e-2125-4fdf-bb40-d81eeac180e3",
   "metadata": {},
   "outputs": [
    {
     "name": "stdout",
     "output_type": "stream",
     "text": [
      "csoundengine.magic extension loaded\n",
      "Magics available: %csound, %%csound, %%definstr\n"
     ]
    }
   ],
   "source": [
    "from maelzel.core import *\n",
    "from maelzel.core import musicobj\n",
    "logger.setLevel(\"DEBUG\")"
   ]
  },
  {
   "cell_type": "code",
   "execution_count": 3,
   "id": "2e530757-e63e-4f1f-b542-ddd63c60f719",
   "metadata": {},
   "outputs": [
    {
     "name": "stderr",
     "output_type": "stream",
     "text": [
      "DEBUG:maelzel.core:rendering parts with backend: lilypond\n"
     ]
    },
    {
     "data": {
      "text/html": [
       "<code>Chain([4C:3.5♩, 4D:0.5♩, 4D:1♩])</code><br>\n",
       "        <img style=\"display:inline; padding:10px;\n",
       "margin-top:14px;\n",
       "width:243px\"\n",
       "             src=\"data:image/png;base64,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\"/>"
      ],
      "text/plain": [
       "Chain([4C:3.5♩, 4D:0.5♩, 4D:1♩])"
      ]
     },
     "execution_count": 3,
     "metadata": {},
     "output_type": "execute_result"
    }
   ],
   "source": [
    "ch = Chain([\n",
    "    Note(\"4C\", 3.5),\n",
    "    Note(\"4D\", 0.5),\n",
    "    Note(\"4D\", 1)\n",
    "])\n",
    "ch"
   ]
  },
  {
   "cell_type": "code",
   "execution_count": 9,
   "id": "ba5c1c16-c282-4e52-b33b-b682b6e964a1",
   "metadata": {},
   "outputs": [
    {
     "name": "stderr",
     "output_type": "stream",
     "text": [
      "DEBUG:maelzel.core:rendering parts with backend: lilypond\n"
     ]
    },
    {
     "data": {
      "text/html": [
       "<code>Chain([4C:1♩, ‹4A 4B 1♩›])</code><br>\n",
       "        <img style=\"display:inline; padding:10px;\n",
       "margin-top:14px;\n",
       "width:188px\"\n",
       "             src=\"data:image/png;base64,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\"/>"
      ],
      "text/plain": [
       "Chain([4C:1♩, ‹4A 4B 1♩›])"
      ]
     },
     "execution_count": 9,
     "metadata": {},
     "output_type": "execute_result"
    }
   ],
   "source": [
    "ch = Chain([\n",
    "    Note(\"4C\", dur=1, label=\"test\"),\n",
    "    Chord(\"4A 4B\", dur=1, label=\"chord!\")\n",
    "])\n",
    "ch"
   ]
  },
  {
   "cell_type": "code",
   "execution_count": 23,
   "id": "c93e07e0-e39c-47a4-b298-2867b1431812",
   "metadata": {},
   "outputs": [
    {
     "data": {
      "text/plain": [
       "'test'"
      ]
     },
     "execution_count": 23,
     "metadata": {},
     "output_type": "execute_result"
    }
   ],
   "source": [
    "ch.items[0].label"
   ]
  },
  {
   "cell_type": "code",
   "execution_count": 22,
   "id": "9de9a268-668b-4cf0-9559-f0397d8e8e87",
   "metadata": {},
   "outputs": [
    {
     "data": {
      "text/plain": [
       "''"
      ]
     },
     "execution_count": 22,
     "metadata": {},
     "output_type": "execute_result"
    }
   ],
   "source": [
    "evs = musicobj.stackEventsRelative(ch.items)\n",
    "evs[0].label"
   ]
  },
  {
   "cell_type": "code",
   "execution_count": 18,
   "id": "da8a9527-32e3-4416-b534-854354d3c349",
   "metadata": {},
   "outputs": [],
   "source": [
    "ev = ch.scoringEvents()[0]"
   ]
  },
  {
   "cell_type": "code",
   "execution_count": 19,
   "id": "e7eb1382-c37e-4670-9149-ec09f58ccf25",
   "metadata": {},
   "outputs": [],
   "source": [
    "ev.annotations"
   ]
  },
  {
   "cell_type": "code",
   "execution_count": 14,
   "id": "73873f18-869c-48f3-bb1e-1a2cac9738f7",
   "metadata": {},
   "outputs": [
    {
     "data": {
      "text/html": [
       "<p><strong>Chain</strong>(<small>start=2.0</small>)</p><table><thead><tr><th style=\"text-align:left\">time</th><th style=\"text-align:left\">pitch</th><th style=\"text-align:left\">dur</th><th style=\"text-align:left\">gliss</th><th style=\"text-align:left\">dynamic</th><th style=\"text-align:left\">playargs</th></tr></thead><tbody><tr><td style=\"text-align:left\">None</td><td style=\"text-align:left\">4C</td><td style=\"text-align:left\">1.0</td><td style=\"text-align:left\">False</td><td style=\"text-align:left\">None</td><td style=\"text-align:left\">None</td></tr><tr><td style=\"text-align:left\">None</td><td style=\"text-align:left\">4E</td><td style=\"text-align:left\">0.5</td><td style=\"text-align:left\">False</td><td style=\"text-align:left\">None</td><td style=\"text-align:left\">None</td></tr><tr><td style=\"text-align:left\">3.0</td><td style=\"text-align:left\">4G, 4B</td><td style=\"text-align:left\">None</td><td style=\"text-align:left\">False</td><td style=\"text-align:left\">f</td><td style=\"text-align:left\">None</td></tr><tr><td style=\"text-align:left\">None</td><td style=\"text-align:left\">5C, 5F</td><td style=\"text-align:left\">0.5</td><td style=\"text-align:left\">False</td><td style=\"text-align:left\"></td><td style=\"text-align:left\">None</td></tr><tr><td style=\"text-align:left\">None</td><td style=\"text-align:left\">Rest</td><td style=\"text-align:left\">0.5</td><td style=\"text-align:left\">False</td><td style=\"text-align:left\">None</td><td style=\"text-align:left\">None</td></tr><tr><td style=\"text-align:left\">None</td><td style=\"text-align:left\">5E</td><td style=\"text-align:left\">2.0</td><td style=\"text-align:left\">False</td><td style=\"text-align:left\">None</td><td style=\"text-align:left\">None</td></tr></tbody></table>"
      ],
      "text/plain": [
       "<IPython.core.display.HTML object>"
      ]
     },
     "metadata": {},
     "output_type": "display_data"
    },
    {
     "data": {
      "text/html": [
       "<code>Chain([4C:1♩, 4E:0.5♩, ‹4G 4B start=3›, ‹5C 5F 0.5♩›, Rest(0.5♩), 5E:2♩])</code><br>\n",
       "        <img style=\"display:inline; padding:10px;\n",
       "margin-top:14px;\n",
       "width:488px\"\n",
       "             src=\"data:image/png;base64,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\"/>"
      ],
      "text/plain": [
       "Chain([4C:1♩, 4E:0.5♩, ‹4G 4B start=3›, ‹5C 5F 0.5♩›, Rest(0.5♩), 5E:2♩])"
      ]
     },
     "execution_count": 14,
     "metadata": {},
     "output_type": "execute_result"
    }
   ],
   "source": [
    "ch = Chain([\n",
    "    Note(\"4C\", 1),\n",
    "    Note(\"4E\", 0.5, label=\"test\"),\n",
    "    Chord(\"4G 4B\", start=3, dynamic='f'),\n",
    "    Chord(\"5C 5F\", 0.5)\n",
    "], start=2)\n",
    "\n",
    "ch.append(Rest(0.5))\n",
    "ch.append(Note(\"5e\", 2))\n",
    "ch.dump()\n",
    "ch"
   ]
  },
  {
   "cell_type": "code",
   "execution_count": 6,
   "id": "44ffbda4-72b7-4b3d-8ef9-96a2aa02ccbe",
   "metadata": {},
   "outputs": [
    {
     "data": {
      "text/html": [
       "<p><strong>Chain</strong>(<small>start=0.0</small>)</p><table><thead><tr><th style=\"text-align:left\">time</th><th style=\"text-align:left\">pitch</th><th style=\"text-align:left\">dur</th><th style=\"text-align:left\">gliss</th><th style=\"text-align:left\">dynamic</th><th style=\"text-align:left\">playargs</th></tr></thead><tbody><tr><td style=\"text-align:left\">2.0</td><td style=\"text-align:left\">4C</td><td style=\"text-align:left\">1.0</td><td style=\"text-align:left\">False</td><td style=\"text-align:left\">None</td><td style=\"text-align:left\">None</td></tr><tr><td style=\"text-align:left\">3.0</td><td style=\"text-align:left\">4E</td><td style=\"text-align:left\">0.5</td><td style=\"text-align:left\">False</td><td style=\"text-align:left\">None</td><td style=\"text-align:left\">None</td></tr><tr><td style=\"text-align:left\">5.0</td><td style=\"text-align:left\">4G, 4B</td><td style=\"text-align:left\">1.0</td><td style=\"text-align:left\">False</td><td style=\"text-align:left\">f</td><td style=\"text-align:left\">None</td></tr><tr><td style=\"text-align:left\">6.0</td><td style=\"text-align:left\">5C, 5F</td><td style=\"text-align:left\">0.5</td><td style=\"text-align:left\">False</td><td style=\"text-align:left\"></td><td style=\"text-align:left\">None</td></tr><tr><td style=\"text-align:left\">6.5</td><td style=\"text-align:left\">Rest</td><td style=\"text-align:left\">0.5</td><td style=\"text-align:left\">False</td><td style=\"text-align:left\">None</td><td style=\"text-align:left\">None</td></tr><tr><td style=\"text-align:left\">7.0</td><td style=\"text-align:left\">5E</td><td style=\"text-align:left\">2.0</td><td style=\"text-align:left\">False</td><td style=\"text-align:left\">None</td><td style=\"text-align:left\">None</td></tr></tbody></table>"
      ],
      "text/plain": [
       "<IPython.core.display.HTML object>"
      ]
     },
     "metadata": {},
     "output_type": "display_data"
    },
    {
     "name": "stderr",
     "output_type": "stream",
     "text": [
      "DEBUG:maelzel.core:rendering parts with backend: lilypond\n"
     ]
    },
    {
     "data": {
      "text/html": [
       "<code>Chain([4C:1♩:start=2, 4E:0.5♩:start=3, ‹4G 4B 1♩ start=5›, ‹5C 5F 0.5♩ start=6›, Rest(0.5♩), 5E:2♩:start=7])</code><br>\n",
       "        <img style=\"display:inline; padding:10px;\n",
       "margin-top:14px;\n",
       "width:488px\"\n",
       "             src=\"data:image/png;base64,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\"/>"
      ],
      "text/plain": [
       "Chain([4C:1♩:start=2, 4E:0.5♩:start=3, ‹4G 4B 1♩ start=5›, ‹5C 5F 0.5♩ start=6›, Rest(0.5♩), 5E:2♩:start=7])"
      ]
     },
     "execution_count": 6,
     "metadata": {},
     "output_type": "execute_result"
    }
   ],
   "source": [
    "ch2 = ch.resolved(start=0)\n",
    "ch2.dump()\n",
    "ch2"
   ]
  },
  {
   "cell_type": "code",
   "execution_count": 7,
   "id": "86337204-eaf8-46f8-9e63-d09515886ee0",
   "metadata": {},
   "outputs": [
    {
     "name": "stderr",
     "output_type": "stream",
     "text": [
      "DEBUG:maelzel.core:rendering parts with backend: lilypond\n"
     ]
    },
    {
     "data": {
      "text/html": [
       "<code>Chain([4C:1♩:start=2, 4E:0.5♩:start=3, ‹4G 4B 1♩ start=5›, ‹5C 5F 0.5♩ start=6›, Rest(0.5♩), 5E:2♩:start=7])</code><br>\n",
       "        <img style=\"display:inline; padding:10px;\n",
       "margin-top:14px;\n",
       "width:488px\"\n",
       "             src=\"data:image/png;base64,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\"/>"
      ],
      "text/plain": [
       "Chain([4C:1♩:start=2, 4E:0.5♩:start=3, ‹4G 4B 1♩ start=5›, ‹5C 5F 0.5♩ start=6›, Rest(0.5♩), 5E:2♩:start=7])"
      ]
     },
     "execution_count": 7,
     "metadata": {},
     "output_type": "execute_result"
    }
   ],
   "source": [
    "Chain(ch2.items)"
   ]
  },
  {
   "cell_type": "code",
   "execution_count": 8,
   "id": "d7f72cdb-4545-498c-a660-04dc7a4b53ec",
   "metadata": {},
   "outputs": [
    {
     "data": {
      "text/html": [
       "<p><strong>Chain</strong>(<small>start=None</small>)</p><table><thead><tr><th style=\"text-align:left\">time</th><th style=\"text-align:left\">pitch</th><th style=\"text-align:left\">dur</th><th style=\"text-align:left\">gliss</th><th style=\"text-align:left\">dynamic</th><th style=\"text-align:left\">playargs</th></tr></thead><tbody><tr><td style=\"text-align:left\">2.0</td><td style=\"text-align:left\">4C</td><td style=\"text-align:left\">1.0</td><td style=\"text-align:left\">False</td><td style=\"text-align:left\">None</td><td style=\"text-align:left\">None</td></tr><tr><td style=\"text-align:left\">3.0</td><td style=\"text-align:left\">4E</td><td style=\"text-align:left\">0.5</td><td style=\"text-align:left\">False</td><td style=\"text-align:left\">None</td><td style=\"text-align:left\">None</td></tr><tr><td style=\"text-align:left\">5.0</td><td style=\"text-align:left\">4G, 4B</td><td style=\"text-align:left\">1.0</td><td style=\"text-align:left\">False</td><td style=\"text-align:left\">f</td><td style=\"text-align:left\">None</td></tr><tr><td style=\"text-align:left\">6.0</td><td style=\"text-align:left\">5C, 5F</td><td style=\"text-align:left\">0.5</td><td style=\"text-align:left\">False</td><td style=\"text-align:left\"></td><td style=\"text-align:left\">None</td></tr><tr><td style=\"text-align:left\">6.5</td><td style=\"text-align:left\">Rest</td><td style=\"text-align:left\">0.5</td><td style=\"text-align:left\">False</td><td style=\"text-align:left\">None</td><td style=\"text-align:left\">None</td></tr><tr><td style=\"text-align:left\">7.0</td><td style=\"text-align:left\">5E</td><td style=\"text-align:left\">2.0</td><td style=\"text-align:left\">False</td><td style=\"text-align:left\">None</td><td style=\"text-align:left\">None</td></tr></tbody></table>"
      ],
      "text/plain": [
       "<IPython.core.display.HTML object>"
      ]
     },
     "metadata": {},
     "output_type": "display_data"
    }
   ],
   "source": [
    "ch3 = ch2.clone(start=None)\n",
    "ch3.dump()"
   ]
  },
  {
   "cell_type": "code",
   "execution_count": 11,
   "id": "bb5fc81d-474c-41e2-aa50-f24f6fac909a",
   "metadata": {},
   "outputs": [
    {
     "data": {
      "text/plain": [
       "7"
      ]
     },
     "execution_count": 11,
     "metadata": {},
     "output_type": "execute_result"
    }
   ],
   "source": [
    "ch3.resolvedDuration()"
   ]
  },
  {
   "cell_type": "code",
   "execution_count": 6,
   "id": "09a90d67-0f4e-4643-8dc9-f7b649de06ed",
   "metadata": {},
   "outputs": [
    {
     "data": {
      "image/png": "[encoded data removed]",
      "text/plain": [
       "<IPython.core.display.Image object>"
      ]
     },
     "metadata": {
      "image/png": {
       "width": 184
      }
     },
     "output_type": "display_data"
    },
    {
     "name": "stdout",
     "output_type": "stream",
     "text": [
      "............. merging\n"
     ]
    },
    {
     "data": {
      "application/vnd.jupyter.widget-view+json": {
       "model_id": "ca58a7725ace41948651d930506558ee",
       "version_major": 2,
       "version_minor": 0
      },
      "text/plain": [
       "Button(description='Stop', style=ButtonStyle())"
      ]
     },
     "metadata": {},
     "output_type": "display_data"
    },
    {
     "data": {
      "application/vnd.jupyter.widget-view+json": {
       "model_id": "766f708b31994d43a1a27949a6a8ca1a",
       "version_major": 2,
       "version_minor": 0
      },
      "text/plain": [
       "Output()"
      ]
     },
     "metadata": {},
     "output_type": "display_data"
    },
    {
     "data": {
      "text/html": [
       "<small>SynthGroup - start: 0.189, dur: 3.000</small>\n",
       "<p>instr: <strong style=\"color:MediumSeaGreen\">preset._piano</strong> - <b>1</b> synths</p>\n",
       "<table><thead><tr><th style=\"text-align:left\">p1</th><th style=\"text-align:left\">start</th><th style=\"text-align:left\">dur</th><th style=\"text-align:left\">4</th><th style=\"text-align:left\">5:idataidx_</th><th style=\"text-align:left\">6:inumbps</th><th style=\"text-align:left\">7:ibplen</th><th style=\"text-align:left\">8:igain_</th><th style=\"text-align:left\">9:ichan_</th><th style=\"text-align:left\">10:ipos</th><th style=\"text-align:left\">11:ifade0</th><th style=\"text-align:left\">12:ifade1</th><th style=\"text-align:left\">13:ipchintrp_</th><th style=\"text-align:left\">14:ifadekind_</th><th style=\"text-align:left\">15</th><th style=\"text-align:left\">16</th><th style=\"text-align:left\">...</th><th style=\"text-align:left\">17</th><th style=\"text-align:left\">...</th><th style=\"text-align:left\">18</th><th style=\"text-align:left\">...</th><th style=\"text-align:left\">19</th><th style=\"text-align:left\">...</th><th style=\"text-align:left\">20</th><th style=\"text-align:left\">...</th><th style=\"text-align:left\">21</th><th style=\"text-align:left\">...</th><th style=\"text-align:left\">22</th><th style=\"text-align:left\">...</th><th style=\"text-align:left\">23</th></tr></thead><tbody><tr><td style=\"text-align:left\">1001.0018 <b>𝍪</b></td><td style=\"text-align:left\">0.189</td><td style=\"text-align:left\">3.000</td><td style=\"text-align:left\">0</td><td style=\"text-align:left\">15</td><td style=\"text-align:left\">3</td><td style=\"text-align:left\">3</td><td style=\"text-align:left\">1</td><td style=\"text-align:left\">1</td><td style=\"text-align:left\">-1</td><td style=\"text-align:left\">0.02</td><td style=\"text-align:left\">0.02</td><td style=\"text-align:left\">0</td><td style=\"text-align:left\">1</td><td style=\"text-align:left\">0</td><td style=\"text-align:left\">...</td></tr></tbody></table>"
      ],
      "text/plain": [
       "SynthGroup(n=1)\n",
       "    Synth(𝍪 preset._piano:1001.0018, p4=0 idataidx_:5=15 inumbps:6=3 ibplen:7=3 igain_:8=1 ichan_:9=1 ipos:10=-1 ifade0:11=0.02 ifade1:12=0.02 ipchintrp_:13=0 ifadekind_:14=1 p15=0 p16=69 ...)"
      ]
     },
     "execution_count": 6,
     "metadata": {},
     "output_type": "execute_result"
    }
   ],
   "source": [
    "ch = Chain([Note(\"4A\", 2, gliss=True), Note(\"4G\", 1)])\n",
    "ch.show()\n",
    "ch.play()"
   ]
  },
  {
   "cell_type": "code",
   "execution_count": 1,
   "id": "74f6caa6-4754-4548-b8ab-d05ab94c754b",
   "metadata": {},
   "outputs": [
    {
     "name": "stdout",
     "output_type": "stream",
     "text": [
      "csoundengine.magic extension loaded\n",
      "Magics available: %csound, %%csound, %%definstr\n"
     ]
    }
   ],
   "source": [
    "from maelzel.core import *"
   ]
  },
  {
   "cell_type": "code",
   "execution_count": 13,
   "id": "b5031634-bdf0-43ee-9093-fcfceac9d735",
   "metadata": {},
   "outputs": [
    {
     "data": {
      "image/png": "[encoded data removed]",
      "text/plain": [
       "<IPython.core.display.Image object>"
      ]
     },
     "metadata": {
      "image/png": {
       "width": 258
      }
     },
     "output_type": "display_data"
    },
    {
     "name": "stdout",
     "output_type": "stream",
     "text": [
      "............. merging\n",
      "endpitches [65.0, 68.0]\n",
      "endpitches [66.0, 66.5]\n"
     ]
    },
    {
     "data": {
      "application/vnd.jupyter.widget-view+json": {
       "model_id": "ee3421fb4f2c4a919b9169d9ddc4bd9a",
       "version_major": 2,
       "version_minor": 0
      },
      "text/plain": [
       "Button(description='Stop', style=ButtonStyle())"
      ]
     },
     "metadata": {},
     "output_type": "display_data"
    },
    {
     "data": {
      "application/vnd.jupyter.widget-view+json": {
       "model_id": "87b834a0677148ddb9e2cc6818696097",
       "version_major": 2,
       "version_minor": 0
      },
      "text/plain": [
       "Output()"
      ]
     },
     "metadata": {},
     "output_type": "display_data"
    },
    {
     "data": {
      "text/html": [
       "<small>SynthGroup - start: 0.168, dur: 5.000</small>\n",
       "<p>instr: <strong style=\"color:MediumSeaGreen\">preset.tri</strong> - <b>4</b> synths</p>\n",
       "<table><thead><tr><th style=\"text-align:left\">p1</th><th style=\"text-align:left\">start</th><th style=\"text-align:left\">dur</th><th style=\"text-align:left\">4</th><th style=\"text-align:left\">5:idataidx_</th><th style=\"text-align:left\">6:inumbps</th><th style=\"text-align:left\">7:ibplen</th><th style=\"text-align:left\">8:igain_</th><th style=\"text-align:left\">9:ichan_</th><th style=\"text-align:left\">10:ipos</th><th style=\"text-align:left\">11:ifade0</th><th style=\"text-align:left\">12:ifade1</th><th style=\"text-align:left\">13:ipchintrp_</th><th style=\"text-align:left\">14:ifadekind_</th><th style=\"text-align:left\">15:ktransp</th><th style=\"text-align:left\">16:klag</th><th style=\"text-align:left\">17:kfreqratio</th><th style=\"text-align:left\">18:kQ</th><th style=\"text-align:left\">19</th><th style=\"text-align:left\">20</th><th style=\"text-align:left\">21</th><th style=\"text-align:left\">22</th><th style=\"text-align:left\">...</th><th style=\"text-align:left\">23</th><th style=\"text-align:left\">...</th><th style=\"text-align:left\">24</th></tr></thead><tbody><tr><td style=\"text-align:left\">1002.0018 <b>𝍪</b></td><td style=\"text-align:left\">0.168</td><td style=\"text-align:left\">2.000</td><td style=\"text-align:left\">0</td><td style=\"text-align:left\">19</td><td style=\"text-align:left\">2</td><td style=\"text-align:left\">3</td><td style=\"text-align:left\">0.70711</td><td style=\"text-align:left\">1</td><td style=\"text-align:left\">-1</td><td style=\"text-align:left\">0.02</td><td style=\"text-align:left\">0.02</td><td style=\"text-align:left\">0</td><td style=\"text-align:left\">1</td><td style=\"text-align:left\">0</td><td style=\"text-align:left\">0.1</td><td style=\"text-align:left\">0</td><td style=\"text-align:left\">3</td><td style=\"text-align:left\">0</td><td style=\"text-align:left\">65</td><td style=\"text-align:left\">0.51518</td><td style=\"text-align:left\">...</td></tr><tr><td style=\"text-align:left\">1002.0019 <b>𝍪</b></td><td style=\"text-align:left\">0.168</td><td style=\"text-align:left\">2.000</td><td style=\"text-align:left\">0</td><td style=\"text-align:left\">19</td><td style=\"text-align:left\">2</td><td style=\"text-align:left\">3</td><td style=\"text-align:left\">0.70711</td><td style=\"text-align:left\">1</td><td style=\"text-align:left\">-1</td><td style=\"text-align:left\">0.02</td><td style=\"text-align:left\">0.02</td><td style=\"text-align:left\">0</td><td style=\"text-align:left\">1</td><td style=\"text-align:left\">0</td><td style=\"text-align:left\">0.1</td><td style=\"text-align:left\">0</td><td style=\"text-align:left\">3</td><td style=\"text-align:left\">0</td><td style=\"text-align:left\">69</td><td style=\"text-align:left\">0.51518</td><td style=\"text-align:left\">...</td></tr><tr><td style=\"text-align:left\">1002.002 <b>𝍪</b></td><td style=\"text-align:left\">2.168</td><td style=\"text-align:left\">3.000</td><td style=\"text-align:left\">0</td><td style=\"text-align:left\">19</td><td style=\"text-align:left\">2</td><td style=\"text-align:left\">3</td><td style=\"text-align:left\">0.70711</td><td style=\"text-align:left\">1</td><td style=\"text-align:left\">-1</td><td style=\"text-align:left\">0.02</td><td style=\"text-align:left\">0.02</td><td style=\"text-align:left\">0</td><td style=\"text-align:left\">1</td><td style=\"text-align:left\">0</td><td style=\"text-align:left\">0.1</td><td style=\"text-align:left\">0</td><td style=\"text-align:left\">3</td><td style=\"text-align:left\">0</td><td style=\"text-align:left\">65</td><td style=\"text-align:left\">0.51518</td><td style=\"text-align:left\">...</td></tr><tr><td style=\"text-align:left\">1002.0021 <b>𝍪</b></td><td style=\"text-align:left\">2.168</td><td style=\"text-align:left\">3.000</td><td style=\"text-align:left\">0</td><td style=\"text-align:left\">19</td><td style=\"text-align:left\">2</td><td style=\"text-align:left\">3</td><td style=\"text-align:left\">0.70711</td><td style=\"text-align:left\">1</td><td style=\"text-align:left\">-1</td><td style=\"text-align:left\">0.02</td><td style=\"text-align:left\">0.02</td><td style=\"text-align:left\">0</td><td style=\"text-align:left\">1</td><td style=\"text-align:left\">0</td><td style=\"text-align:left\">0.1</td><td style=\"text-align:left\">0</td><td style=\"text-align:left\">3</td><td style=\"text-align:left\">0</td><td style=\"text-align:left\">68</td><td style=\"text-align:left\">0.51518</td><td style=\"text-align:left\">...</td></tr></tbody></table>"
      ],
      "text/plain": [
       "SynthGroup(n=4)\n",
       "    Synth(𝍪 preset.tri:1002.0018, p4=0 idataidx_:5=19 inumbps:6=2 ibplen:7=3 igain_:8=0.707107 ichan_:9=1 ipos:10=-1 ifade0:11=0.02 ifade1:12=0.02 ipchintrp_:13=0 ifadekind_:14=1 ktransp:15=0 klag:16=0.1 kfreqratio:17=0 kQ:18=3 p19=0 p20=65 p21=0.515178 p22=2 ...)\n",
       "    Synth(𝍪 preset.tri:1002.0019, p4=0 idataidx_:5=19 inumbps:6=2 ibplen:7=3 igain_:8=0.707107 ichan_:9=1 ipos:10=-1 ifade0:11=0.02 ifade1:12=0.02 ipchintrp_:13=0 ifadekind_:14=1 ktransp:15=0 klag:16=0.1 kfreqratio:17=0 kQ:18=3 p19=0 p20=69 p21=0.515178 p22=2 ...)\n",
       "    Synth(𝍪 preset.tri:1002.002, p4=0 idataidx_:5=19 inumbps:6=2 ibplen:7=3 igain_:8=0.707107 ichan_:9=1 ipos:10=-1 ifade0:11=0.02 ifade1:12=0.02 ipchintrp_:13=0 ifadekind_:14=1 ktransp:15=0 klag:16=0.1 kfreqratio:17=0 kQ:18=3 p19=0 p20=65 p21=0.515178 p22=3 ...)\n",
       "    Synth(𝍪 preset.tri:1002.0021, p4=0 idataidx_:5=19 inumbps:6=2 ibplen:7=3 igain_:8=0.707107 ichan_:9=1 ipos:10=-1 ifade0:11=0.02 ifade1:12=0.02 ipchintrp_:13=0 ifadekind_:14=1 ktransp:15=0 klag:16=0.1 kfreqratio:17=0 kQ:18=3 p19=0 p20=68 p21=0.515178 p22=3 ...)"
      ]
     },
     "execution_count": 13,
     "metadata": {},
     "output_type": "execute_result"
    }
   ],
   "source": [
    "ch2 = Chain([Chord(\"4F 4A\", 2, gliss=True), Chord(\"4F 4Ab\", 3, gliss=\"4F# 4G-\")])\n",
    "ch2.show()\n",
    "ch2.play(instr='tri')"
   ]
  },
  {
   "cell_type": "code",
   "execution_count": 3,
   "id": "e12c2014-3f60-45d3-98af-c1ffa5032ab9",
   "metadata": {},
   "outputs": [
    {
     "data": {
      "text/plain": [
       "[]"
      ]
     },
     "execution_count": 3,
     "metadata": {},
     "output_type": "execute_result"
    }
   ],
   "source": [
    "ch2.events()"
   ]
  },
  {
   "cell_type": "code",
   "execution_count": null,
   "id": "8a7c2b3e-b18d-4fba-b2c8-978abede2399",
   "metadata": {},
   "outputs": [],
   "source": []
  }
 ],
 "metadata": {
  "kernelspec": {
   "display_name": "Python 3 (ipykernel)",
   "language": "python",
   "name": "python3"
  },
  "language_info": {
   "codemirror_mode": {
    "name": "ipython",
    "version": 3
   },
   "file_extension": ".py",
   "mimetype": "text/x-python",
   "name": "python",
   "nbconvert_exporter": "python",
   "pygments_lexer": "ipython3",
   "version": "3.9.7"
  }
 },
 "nbformat": 4,
 "nbformat_minor": 5
}
