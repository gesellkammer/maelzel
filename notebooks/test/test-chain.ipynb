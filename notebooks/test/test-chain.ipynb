{
 "cells": [
  {
   "cell_type": "code",
   "execution_count": 1,
   "id": "76c88e1e-2125-4fdf-bb40-d81eeac180e3",
   "metadata": {},
   "outputs": [],
   "source": [
    "from maelzel.core import *\n",
    "from maelzel.scoring import enharmonics\n",
    "from maelzel.scoring import Notation\n",
    "logger.setLevel(\"DEBUG\")"
   ]
  },
  {
   "cell_type": "code",
   "execution_count": 2,
   "id": "81fa549c-d405-4407-ae98-fb499dba676a",
   "metadata": {},
   "outputs": [],
   "source": [
    "setScoreStruct(ScoreStruct('6/4, 60'))"
   ]
  },
  {
   "cell_type": "code",
   "execution_count": 4,
   "id": "a53c6aad-455a-45c8-8e6d-c3dbb05e2910",
   "metadata": {},
   "outputs": [
    {
     "name": "stderr",
     "output_type": "stream",
     "text": [
      "DEBUG:maelzel.core:rendering parts with backend: lilypond\n"
     ]
    },
    {
     "data": {
      "image/png": "[encoded data removed]",
      "text/plain": [
       "<IPython.core.display.Image object>"
      ]
     },
     "metadata": {
      "image/png": {
       "width": 198
      }
     },
     "output_type": "display_data"
    },
    {
     "data": {
      "text/html": [
       "<code><span style=\"font-size: 85%\"><b>Chain</b> - beat: 1.0, offset: 1, dur: 4.5</span></code><br><code><span style=\"color:#BBBBBB;font-size:85%\">  beat   offset      dur         name      gliss dyn  playargs            info                </span></code><br><code><span style=\"color:#9090FF;font-size:85%\">  1      (0.0)       2.5         4C        False      None                -</span></code><br><code><span style=\"color:#9090FF;font-size:85%\">  3.5    (2.5)       0.5         4D        False      None                -</span></code><br><code><span style=\"font-size: 85%\">  <b>Chain</b> - beat: 4.0, offset: None, dur: 1.5</span></code><br><code><span style=\"color:#BBBBBB;font-size:85%\">    beat   offset      dur         name      gliss dyn  playargs            info                </span></code><br><code><span style=\"color:#9090FF;font-size:85%\">    5      1           0.5         4E        False None None                -</span></code>"
      ],
      "text/plain": [
       "<IPython.core.display.HTML object>"
      ]
     },
     "metadata": {},
     "output_type": "display_data"
    }
   ],
   "source": [
    "ch = Chain([\n",
    "    Note(\"4C\", 2.5),\n",
    "    Note(\"4D\", 0.5),\n",
    "    Chain([\"4E:0.5:offset=1\"])\n",
    "    \n",
    "], offset=1)\n",
    "ch.show()\n",
    "ch.dump()\n",
    "#ch.play()"
   ]
  },
  {
   "cell_type": "code",
   "execution_count": 5,
   "id": "2e530757-e63e-4f1f-b542-ddd63c60f719",
   "metadata": {},
   "outputs": [
    {
     "name": "stderr",
     "output_type": "stream",
     "text": [
      "DEBUG:maelzel.core:rendering parts with backend: lilypond\n"
     ]
    },
    {
     "data": {
      "image/png": "[encoded data removed]",
      "text/plain": [
       "<IPython.core.display.Image object>"
      ]
     },
     "metadata": {
      "image/png": {
       "width": 302
      }
     },
     "output_type": "display_data"
    },
    {
     "data": {
      "text/html": [
       "<code><span style=\"font-size: 85%\"><b>Chain</b> - beat: 1.0, offset: 1, dur: 6.5</span></code><br><code><span style=\"color:#BBBBBB;font-size:85%\">  beat   offset      dur         name    gliss dyn  playargs            info                </span></code><br><code><span style=\"color:#9090FF;font-size:85%\">  1      (0.0)       2.5         4C      False      None                -</span></code><br><code><span style=\"color:#9090FF;font-size:85%\">  3.5    (2.5)       (0.5)       4D      False      None                -</span></code><br><code><span style=\"color:#9090FF;font-size:85%\">  4      3           1           4E      False      None                -</span></code><br><code><span style=\"font-size: 85%\">  <b>Chain</b> - beat: 6.0, offset: 5, dur: 1.5</span></code><br><code><span style=\"color:#BBBBBB;font-size:85%\">    beat   offset      dur         name    gliss dyn  playargs            info                </span></code><br><code><span style=\"color:#9090FF;font-size:85%\">    6      (0.0)       1.5         4D#,4E- False      None                -</span></code>"
      ],
      "text/plain": [
       "<IPython.core.display.HTML object>"
      ]
     },
     "metadata": {},
     "output_type": "display_data"
    }
   ],
   "source": [
    "ch = Chain([\n",
    "    Note(\"4C\", 2.5),\n",
    "    Note(\"4D\"),\n",
    "    Note(\"4E\", 1, offset=3), \n",
    "    Chain([Chord(\"4D# 4E-\", 1.5)], offset=5)\n",
    "], offset=1)\n",
    "\n",
    "ch.show()\n",
    "ch.dump()"
   ]
  },
  {
   "cell_type": "code",
   "execution_count": 6,
   "id": "1d999301-d9c1-4f11-8b02-9471596c4785",
   "metadata": {},
   "outputs": [
    {
     "name": "stdout",
     "output_type": "stream",
     "text": [
      "«1.000:3.500 4C»\n",
      "«3.500:4.000 4D»\n",
      "«4.000:5.000 4E»\n",
      "«6.000:7.500 [4D# 4E-]»\n"
     ]
    }
   ],
   "source": [
    "ch.scoringParts()[0].dump()"
   ]
  },
  {
   "cell_type": "code",
   "execution_count": 7,
   "id": "e655f94f-b057-406c-8191-d55eae8b9647",
   "metadata": {},
   "outputs": [
    {
     "name": "stderr",
     "output_type": "stream",
     "text": [
      "DEBUG:maelzel.core:rendering parts with backend: lilypond\n"
     ]
    },
    {
     "data": {
      "text/html": [
       "<code style=\"font-size:0.9em\">Chain([<span style=\"color:#6666E0\">4C:2.5♩:offset=0</span>, <span style=\"color:#6666E0\">4D:0.5♩:offset=2.5</span>, <span style=\"color:#6666E0\">4E:1♩:offset=3</span>, <span style=\"color:#6666E0\">‹4D# 4E- 1.5♩ offset=5›</span>], dur=6.5, offset=1.0)</code><br>\n",
       "        <img style=\"display:inline; padding:10px;\n",
       "margin-top:14px;\n",
       "width:302px\"\n",
       "             src=\"data:image/png;base64,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\"/>"
      ],
      "text/plain": [
       "Chain([4C:2.5♩:offset=0, 4D:0.5♩:offset=2.5, 4E:1♩:offset=3, ‹4D# 4E- 1.5♩ offset=5›], offset=1.0)"
      ]
     },
     "execution_count": 7,
     "metadata": {},
     "output_type": "execute_result"
    }
   ],
   "source": [
    "ch.flat()"
   ]
  },
  {
   "cell_type": "code",
   "execution_count": 7,
   "id": "5f42a9ba-9c62-46a1-aa6c-5f9d90638637",
   "metadata": {},
   "outputs": [
    {
     "name": "stdout",
     "output_type": "stream",
     "text": [
      "213 µs ± 16.1 µs per loop (mean ± std. dev. of 7 runs, 1000 loops each)\n"
     ]
    }
   ],
   "source": [
    "%timeit ch.events()"
   ]
  },
  {
   "cell_type": "code",
   "execution_count": 8,
   "id": "18b18a47-50a1-4622-a892-8f7cdd72cadf",
   "metadata": {},
   "outputs": [
    {
     "name": "stderr",
     "output_type": "stream",
     "text": [
      "DEBUG:maelzel.core:rendering parts with backend: lilypond\n"
     ]
    },
    {
     "data": {
      "image/png": "[encoded data removed]",
      "text/plain": [
       "<IPython.core.display.Image object>"
      ]
     },
     "metadata": {
      "image/png": {
       "width": 195
      }
     },
     "output_type": "display_data"
    }
   ],
   "source": [
    "ch = Chain([\n",
    "    Note(\"4C\", 2.5, gliss=True),\n",
    "    Note(\"4D\", 0.5),\n",
    "    Chord(\"4E 4F-\", 1)\n",
    "], offset=1)\n",
    "ch.show()\n",
    "#ch.play()"
   ]
  },
  {
   "cell_type": "code",
   "execution_count": 9,
   "id": "ba5c1c16-c282-4e52-b33b-b682b6e964a1",
   "metadata": {},
   "outputs": [
    {
     "name": "stderr",
     "output_type": "stream",
     "text": [
      "DEBUG:maelzel.core:rendering parts with backend: lilypond\n"
     ]
    },
    {
     "data": {
      "text/html": [
       "<code style=\"font-size:0.9em\">Chain([<span style=\"color:#6666E0\">4C:1♩</span>, <span style=\"color:#6666E0\">‹4A 4B 1♩›</span>], dur=2)</code><br>\n",
       "        <img style=\"display:inline; padding:10px;\n",
       "margin-top:14px;\n",
       "width:137px\"\n",
       "             src=\"data:image/png;base64,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\"/>"
      ],
      "text/plain": [
       "Chain([4C:1♩, ‹4A 4B 1♩›])"
      ]
     },
     "execution_count": 9,
     "metadata": {},
     "output_type": "execute_result"
    }
   ],
   "source": [
    "ch = Chain([\n",
    "    Note(\"4C\", dur=1, label=\"test\"),\n",
    "    Chord(\"4A 4B\", dur=1, label=\"chord!\")\n",
    "])\n",
    "ch"
   ]
  },
  {
   "cell_type": "code",
   "execution_count": 10,
   "id": "96f7d23b-8d83-4eb4-a906-b6eea30c1137",
   "metadata": {},
   "outputs": [
    {
     "name": "stderr",
     "output_type": "stream",
     "text": [
      "DEBUG:maelzel.core:rendering parts with backend: lilypond\n"
     ]
    },
    {
     "data": {
      "text/html": [
       "<code style=\"font-size:0.9em\">Voice([<span style=\"color:#6666E0\">Rest:0.5♩</span>, <span style=\"color:#6666E0\">4C:0.5♩</span>, <span style=\"color:#6666E0\">4D-:1.5♩</span>], dur=2.5, offset=0.0)</code><br>\n",
       "        <img style=\"display:inline; padding:10px;\n",
       "margin-top:14px;\n",
       "width:187px\"\n",
       "             src=\"data:image/png;base64,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\"/>"
      ],
      "text/plain": [
       "Voice([Rest:0.5♩, 4C:0.5♩, 4D-:1.5♩], offset=0.0)"
      ]
     },
     "execution_count": 10,
     "metadata": {},
     "output_type": "execute_result"
    }
   ],
   "source": [
    "v = Voice([Rest(0.5), Note(\"C4\", 0.5), \"4D-/4.\"])\n",
    "v"
   ]
  },
  {
   "cell_type": "code",
   "execution_count": 5,
   "id": "0263141d-06a9-46c8-b59c-9fb8fdf275dc",
   "metadata": {},
   "outputs": [
    {
     "data": {
      "image/png": "[encoded data removed]",
      "text/plain": [
       "<IPython.core.display.Image object>"
      ]
     },
     "metadata": {
      "image/png": {
       "width": 617
      }
     },
     "output_type": "display_data"
    },
    {
     "data": {
      "application/vnd.jupyter.widget-view+json": {
       "model_id": "e08ef11687da45e880ea8c44a7d27487",
       "version_major": 2,
       "version_minor": 0
      },
      "text/plain": [
       "Button(description='Stop', style=ButtonStyle())"
      ]
     },
     "metadata": {},
     "output_type": "display_data"
    },
    {
     "data": {
      "application/vnd.jupyter.widget-view+json": {
       "model_id": "a089a5e45d2a458fbd7b3b15cfeecc20",
       "version_major": 2,
       "version_minor": 0
      },
      "text/plain": [
       "Output()"
      ]
     },
     "metadata": {},
     "output_type": "display_data"
    },
    {
     "data": {
      "text/html": [
       "<small>SynthGroup - start: 0.057, dur: 20.667, synths: 34</small>\n",
       "<p>instr: <strong style=\"color:MediumSeaGreen\">preset._click</strong> - <b>34</b> synths</p>\n",
       "<table><thead><tr><th style=\"text-align:left\">p1</th><th style=\"text-align:left\">start</th><th style=\"text-align:left\">dur</th><th style=\"text-align:left\">4</th><th style=\"text-align:left\">5:idataidx_</th><th style=\"text-align:left\">6:inumbps</th><th style=\"text-align:left\">7:ibplen</th><th style=\"text-align:left\">8:igain</th><th style=\"text-align:left\">9:ichan</th><th style=\"text-align:left\">10:ipos</th><th style=\"text-align:left\">11:ifadein</th><th style=\"text-align:left\">12:ifadeout</th><th style=\"text-align:left\">13:ipchintrp_</th><th style=\"text-align:left\">14:ifadekind</th><th style=\"text-align:left\">15:ktransp</th><th style=\"text-align:left\">16</th><th style=\"text-align:left\">17</th><th style=\"text-align:left\">18</th><th style=\"text-align:left\">19</th><th style=\"text-align:left\">...</th></tr></thead><tbody><tr><td style=\"text-align:left\">501.0092 <b>𝍪</b></td><td style=\"text-align:left\">0.057</td><td style=\"text-align:left\">1.000</td><td style=\"text-align:left\">0</td><td style=\"text-align:left\">16</td><td style=\"text-align:left\">2</td><td style=\"text-align:left\">3</td><td style=\"text-align:left\">1</td><td style=\"text-align:left\">1</td><td style=\"text-align:left\">-1</td><td style=\"text-align:left\">0</td><td style=\"text-align:left\">0.1</td><td style=\"text-align:left\">0</td><td style=\"text-align:left\">1</td><td style=\"text-align:left\">24</td><td style=\"text-align:left\">0</td><td style=\"text-align:left\">72</td><td style=\"text-align:left\">0.51518</td><td style=\"text-align:left\">...</td></tr><tr><td style=\"text-align:left\">501.0093 <b>𝍪</b></td><td style=\"text-align:left\">1.057</td><td style=\"text-align:left\">1.000</td><td style=\"text-align:left\">0</td><td style=\"text-align:left\">16</td><td style=\"text-align:left\">2</td><td style=\"text-align:left\">3</td><td style=\"text-align:left\">1</td><td style=\"text-align:left\">1</td><td style=\"text-align:left\">-1</td><td style=\"text-align:left\">0</td><td style=\"text-align:left\">0.1</td><td style=\"text-align:left\">0</td><td style=\"text-align:left\">1</td><td style=\"text-align:left\">24</td><td style=\"text-align:left\">0</td><td style=\"text-align:left\">79</td><td style=\"text-align:left\">0.51518</td><td style=\"text-align:left\">...</td></tr><tr><td style=\"text-align:left\">501.0094 <b>𝍪</b></td><td style=\"text-align:left\">2.057</td><td style=\"text-align:left\">1.000</td><td style=\"text-align:left\">0</td><td style=\"text-align:left\">16</td><td style=\"text-align:left\">2</td><td style=\"text-align:left\">3</td><td style=\"text-align:left\">1</td><td style=\"text-align:left\">1</td><td style=\"text-align:left\">-1</td><td style=\"text-align:left\">0</td><td style=\"text-align:left\">0.1</td><td style=\"text-align:left\">0</td><td style=\"text-align:left\">1</td><td style=\"text-align:left\">24</td><td style=\"text-align:left\">0</td><td style=\"text-align:left\">79</td><td style=\"text-align:left\">0.51518</td><td style=\"text-align:left\">...</td></tr><tr><td style=\"text-align:left\">501.0095 <b>𝍪</b></td><td style=\"text-align:left\">3.057</td><td style=\"text-align:left\">1.000</td><td style=\"text-align:left\">0</td><td style=\"text-align:left\">16</td><td style=\"text-align:left\">2</td><td style=\"text-align:left\">3</td><td style=\"text-align:left\">1</td><td style=\"text-align:left\">1</td><td style=\"text-align:left\">-1</td><td style=\"text-align:left\">0</td><td style=\"text-align:left\">0.1</td><td style=\"text-align:left\">0</td><td style=\"text-align:left\">1</td><td style=\"text-align:left\">24</td><td style=\"text-align:left\">0</td><td style=\"text-align:left\">79</td><td style=\"text-align:left\">0.51518</td><td style=\"text-align:left\">...</td></tr><tr><td style=\"text-align:left\">...</td></tr></tbody></table>"
      ],
      "text/plain": [
       "SynthGroup(n=34)\n",
       "    Synth(𝍪 preset._click:501.0092, p4=0 idataidx_:5=16 inumbps:6=2 ibplen:7=3 igain:8=1 ichan:9=1 ipos:10=-1 ifadein:11=0 ifadeout:12=0.1 ipchintrp_:13=0 ifadekind:14=1 ktransp:15=24 p16=0 p17=72 p18=0.515178 p19=1 ...)\n",
       "    Synth(𝍪 preset._click:501.0093, p4=0 idataidx_:5=16 inumbps:6=2 ibplen:7=3 igain:8=1 ichan:9=1 ipos:10=-1 ifadein:11=0 ifadeout:12=0.1 ipchintrp_:13=0 ifadekind:14=1 ktransp:15=24 p16=0 p17=79 p18=0.515178 p19=1 ...)\n",
       "    Synth(𝍪 preset._click:501.0094, p4=0 idataidx_:5=16 inumbps:6=2 ibplen:7=3 igain:8=1 ichan:9=1 ipos:10=-1 ifadein:11=0 ifadeout:12=0.1 ipchintrp_:13=0 ifadekind:14=1 ktransp:15=24 p16=0 p17=79 p18=0.515178 p19=1 ...)\n",
       "    Synth(𝍪 preset._click:501.0095, p4=0 idataidx_:5=16 inumbps:6=2 ibplen:7=3 igain:8=1 ichan:9=1 ipos:10=-1 ifadein:11=0 ifadeout:12=0.1 ipchintrp_:13=0 ifadekind:14=1 ktransp:15=24 p16=0 p17=79 p18=0.515178 p19=1 ...)\n",
       "    Synth(𝍪 preset._click:501.0096, p4=0 idataidx_:5=16 inumbps:6=2 ibplen:7=3 igain:8=1 ichan:9=1 ipos:10=-1 ifadein:11=0 ifadeout:12=0.1 ipchintrp_:13=0 ifadekind:14=1 ktransp:15=24 p16=0 p17=79 p18=0.515178 p19=1 ...)\n",
       "    Synth(𝍪 preset._click:501.0097, p4=0 idataidx_:5=16 inumbps:6=2 ibplen:7=3 igain:8=1 ichan:9=1 ipos:10=-1 ifadein:11=0 ifadeout:12=0.1 ipchintrp_:13=0 ifadekind:14=1 ktransp:15=24 p16=0 p17=79 p18=0.515178 p19=1 ...)\n",
       "    Synth(𝍪 preset._click:501.0098, p4=0 idataidx_:5=16 inumbps:6=2 ibplen:7=3 igain:8=1 ichan:9=1 ipos:10=-1 ifadein:11=0 ifadeout:12=0.1 ipchintrp_:13=0 ifadekind:14=1 ktransp:15=24 p16=0 p17=72 p18=0.515178 p19=1 ...)\n",
       "    Synth(𝍪 preset._click:501.0099, p4=0 idataidx_:5=16 inumbps:6=2 ibplen:7=3 igain:8=1 ichan:9=1 ipos:10=-1 ifadein:11=0 ifadeout:12=0.1 ipchintrp_:13=0 ifadekind:14=1 ktransp:15=24 p16=0 p17=79 p18=0.515178 p19=1 ...)\n",
       "    Synth(𝍪 preset._click:501.01, p4=0 idataidx_:5=16 inumbps:6=2 ibplen:7=3 igain:8=1 ichan:9=1 ipos:10=-1 ifadein:11=0 ifadeout:12=0.1 ipchintrp_:13=0 ifadekind:14=1 ktransp:15=24 p16=0 p17=79 p18=0.515178 p19=1 ...)\n",
       "    Synth(𝍪 preset._click:501.0101, p4=0 idataidx_:5=16 inumbps:6=2 ibplen:7=3 igain:8=1 ichan:9=1 ipos:10=-1 ifadein:11=0 ifadeout:12=0.1 ipchintrp_:13=0 ifadekind:14=1 ktransp:15=24 p16=0 p17=79 p18=0.515178 p19=1 ...)\n",
       "    Synth(𝍪 preset._click:501.0102, p4=0 idataidx_:5=16 inumbps:6=2 ibplen:7=3 igain:8=1 ichan:9=1 ipos:10=-1 ifadein:11=0 ifadeout:12=0.1 ipchintrp_:13=0 ifadekind:14=1 ktransp:15=24 p16=0 p17=79 p18=0.515178 p19=1 ...)\n",
       "    Synth(𝍪 preset._click:501.0103, p4=0 idataidx_:5=16 inumbps:6=2 ibplen:7=3 igain:8=1 ichan:9=1 ipos:10=-1 ifadein:11=0 ifadeout:12=0.1 ipchintrp_:13=0 ifadekind:14=1 ktransp:15=24 p16=0 p17=72 p18=0.515178 p19=0.5 ...)\n",
       "    Synth(𝍪 preset._click:501.0104, p4=0 idataidx_:5=16 inumbps:6=2 ibplen:7=3 igain:8=1 ichan:9=1 ipos:10=-1 ifadein:11=0 ifadeout:12=0.1 ipchintrp_:13=0 ifadekind:14=1 ktransp:15=24 p16=0 p17=79 p18=0.515178 p19=0.5 ...)\n",
       "    Synth(𝍪 preset._click:501.0105, p4=0 idataidx_:5=16 inumbps:6=2 ibplen:7=3 igain:8=1 ichan:9=1 ipos:10=-1 ifadein:11=0 ifadeout:12=0.1 ipchintrp_:13=0 ifadekind:14=1 ktransp:15=24 p16=0 p17=79 p18=0.515178 p19=0.5 ...)\n",
       "    Synth(𝍪 preset._click:501.0106, p4=0 idataidx_:5=16 inumbps:6=2 ibplen:7=3 igain:8=1 ichan:9=1 ipos:10=-1 ifadein:11=0 ifadeout:12=0.1 ipchintrp_:13=0 ifadekind:14=1 ktransp:15=24 p16=0 p17=72 p18=0.515178 p19=0.5 ...)\n",
       "    Synth(𝍪 preset._click:501.0107, p4=0 idataidx_:5=16 inumbps:6=2 ibplen:7=3 igain:8=1 ichan:9=1 ipos:10=-1 ifadein:11=0 ifadeout:12=0.1 ipchintrp_:13=0 ifadekind:14=1 ktransp:15=24 p16=0 p17=79 p18=0.515178 p19=0.5 ...)\n",
       "    Synth(𝍪 preset._click:501.0108, p4=0 idataidx_:5=16 inumbps:6=2 ibplen:7=3 igain:8=1 ichan:9=1 ipos:10=-1 ifadein:11=0 ifadeout:12=0.1 ipchintrp_:13=0 ifadekind:14=1 ktransp:15=24 p16=0 p17=79 p18=0.515178 p19=0.5 ...)\n",
       "    Synth(𝍪 preset._click:501.0109, p4=0 idataidx_:5=16 inumbps:6=2 ibplen:7=3 igain:8=1 ichan:9=1 ipos:10=-1 ifadein:11=0 ifadeout:12=0.1 ipchintrp_:13=0 ifadekind:14=1 ktransp:15=24 p16=0 p17=72 p18=0.515178 p19=0.5 ...)\n",
       "    Synth(𝍪 preset._click:501.011, p4=0 idataidx_:5=16 inumbps:6=2 ibplen:7=3 igain:8=1 ichan:9=1 ipos:10=-1 ifadein:11=0 ifadeout:12=0.1 ipchintrp_:13=0 ifadekind:14=1 ktransp:15=24 p16=0 p17=79 p18=0.515178 p19=0.5 ...)\n",
       "    Synth(𝍪 preset._click:501.0111, p4=0 idataidx_:5=16 inumbps:6=2 ibplen:7=3 igain:8=1 ichan:9=1 ipos:10=-1 ifadein:11=0 ifadeout:12=0.1 ipchintrp_:13=0 ifadekind:14=1 ktransp:15=24 p16=0 p17=79 p18=0.515178 p19=0.5 ...)\n",
       "    Synth(𝍪 preset._click:501.0112, p4=0 idataidx_:5=16 inumbps:6=2 ibplen:7=3 igain:8=1 ichan:9=1 ipos:10=-1 ifadein:11=0 ifadeout:12=0.1 ipchintrp_:13=0 ifadekind:14=1 ktransp:15=24 p16=0 p17=72 p18=0.515178 p19=0.375 ...)\n",
       "    Synth(𝍪 preset._click:501.0113, p4=0 idataidx_:5=16 inumbps:6=2 ibplen:7=3 igain:8=1 ichan:9=1 ipos:10=-1 ifadein:11=0 ifadeout:12=0.1 ipchintrp_:13=0 ifadekind:14=1 ktransp:15=24 p16=0 p17=79 p18=0.515178 p19=0.375 ...)\n",
       "    Synth(𝍪 preset._click:501.0114, p4=0 idataidx_:5=16 inumbps:6=2 ibplen:7=3 igain:8=1 ichan:9=1 ipos:10=-1 ifadein:11=0 ifadeout:12=0.1 ipchintrp_:13=0 ifadekind:14=1 ktransp:15=24 p16=0 p17=79 p18=0.515178 p19=0.375 ...)\n",
       "    Synth(𝍪 preset._click:501.0115, p4=0 idataidx_:5=16 inumbps:6=2 ibplen:7=3 igain:8=1 ichan:9=1 ipos:10=-1 ifadein:11=0 ifadeout:12=0.1 ipchintrp_:13=0 ifadekind:14=1 ktransp:15=24 p16=0 p17=72 p18=0.515178 p19=0.375 ...)\n",
       "    Synth(𝍪 preset._click:501.0116, p4=0 idataidx_:5=16 inumbps:6=2 ibplen:7=3 igain:8=1 ichan:9=1 ipos:10=-1 ifadein:11=0 ifadeout:12=0.1 ipchintrp_:13=0 ifadekind:14=1 ktransp:15=24 p16=0 p17=79 p18=0.515178 p19=0.375 ...)\n",
       "    Synth(𝍪 preset._click:501.0117, p4=0 idataidx_:5=16 inumbps:6=2 ibplen:7=3 igain:8=1 ichan:9=1 ipos:10=-1 ifadein:11=0 ifadeout:12=0.1 ipchintrp_:13=0 ifadekind:14=1 ktransp:15=24 p16=0 p17=79 p18=0.515178 p19=0.375 ...)\n",
       "    Synth(𝍪 preset._click:501.0118, p4=0 idataidx_:5=16 inumbps:6=2 ibplen:7=3 igain:8=1 ichan:9=1 ipos:10=-1 ifadein:11=0 ifadeout:12=0.1 ipchintrp_:13=0 ifadekind:14=1 ktransp:15=24 p16=0 p17=72 p18=0.515178 p19=0.416667 ...)\n",
       "    Synth(𝍪 preset._click:501.0119, p4=0 idataidx_:5=16 inumbps:6=2 ibplen:7=3 igain:8=1 ichan:9=1 ipos:10=-1 ifadein:11=0 ifadeout:12=0.1 ipchintrp_:13=0 ifadekind:14=1 ktransp:15=24 p16=0 p17=79 p18=0.515178 p19=0.416667 ...)\n",
       "    Synth(𝍪 preset._click:501.012, p4=0 idataidx_:5=16 inumbps:6=2 ibplen:7=3 igain:8=1 ichan:9=1 ipos:10=-1 ifadein:11=0 ifadeout:12=0.1 ipchintrp_:13=0 ifadekind:14=1 ktransp:15=24 p16=0 p17=79 p18=0.515178 p19=0.416667 ...)\n",
       "    Synth(𝍪 preset._click:501.0121, p4=0 idataidx_:5=16 inumbps:6=2 ibplen:7=3 igain:8=1 ichan:9=1 ipos:10=-1 ifadein:11=0 ifadeout:12=0 ipchintrp_:13=0 ifadekind:14=1 ktransp:15=24 p16=0 p17=72 p18=0.515178 p19=0.416667 ...)\n",
       "    Synth(𝍪 preset._click:501.0122, p4=0 idataidx_:5=16 inumbps:6=2 ibplen:7=3 igain:8=1 ichan:9=1 ipos:10=-1 ifadein:11=0 ifadeout:12=0 ipchintrp_:13=0 ifadekind:14=1 ktransp:15=24 p16=0 p17=79 p18=0.515178 p19=0.208333 ...)\n",
       "    Synth(𝍪 preset._click:501.0123, p4=0 idataidx_:5=16 inumbps:6=2 ibplen:7=3 igain:8=1 ichan:9=1 ipos:10=-1 ifadein:11=0 ifadeout:12=0 ipchintrp_:13=0 ifadekind:14=1 ktransp:15=24 p16=0 p17=72 p18=0.515178 p19=0.416667 ...)\n",
       "    Synth(𝍪 preset._click:501.0124, p4=0 idataidx_:5=16 inumbps:6=2 ibplen:7=3 igain:8=1 ichan:9=1 ipos:10=-1 ifadein:11=0 ifadeout:12=0 ipchintrp_:13=0 ifadekind:14=1 ktransp:15=24 p16=0 p17=79 p18=0.515178 p19=0.416667 ...)\n",
       "    Synth(𝍪 preset._click:501.0125, p4=0 idataidx_:5=16 inumbps:6=2 ibplen:7=3 igain:8=1 ichan:9=1 ipos:10=-1 ifadein:11=0 ifadeout:12=0 ipchintrp_:13=0 ifadekind:14=1 ktransp:15=24 p16=0 p17=79 p18=0.515178 p19=0.208333 ...)"
      ]
     },
     "execution_count": 5,
     "metadata": {},
     "output_type": "execute_result"
    }
   ],
   "source": [
    "sco = ScoreStruct(r'''\n",
    "6/4, 60\n",
    "5/4\n",
    "3/8\n",
    "5,,80\n",
    "7,,72\n",
    "3/16\n",
    "5/16\n",
    "''')\n",
    "click = sco.makeClickTrack(minMeasures=3)\n",
    "click.show()\n",
    "click.play()\n"
   ]
  },
  {
   "cell_type": "code",
   "execution_count": 13,
   "id": "2513a3ab-2505-45d8-bdcb-aed0b243c0d9",
   "metadata": {},
   "outputs": [
    {
     "data": {
      "application/vnd.jupyter.widget-view+json": {
       "model_id": "b5c89add27134c55ad89de19f0bba2b0",
       "version_major": 2,
       "version_minor": 0
      },
      "text/plain": [
       "Button(description='Stop', style=ButtonStyle())"
      ]
     },
     "metadata": {},
     "output_type": "display_data"
    },
    {
     "data": {
      "application/vnd.jupyter.widget-view+json": {
       "model_id": "c1bd44d89550405889a0df333a94b5bd",
       "version_major": 2,
       "version_minor": 0
      },
      "text/plain": [
       "Output()"
      ]
     },
     "metadata": {},
     "output_type": "display_data"
    },
    {
     "data": {
      "text/html": [
       "<small>SynthGroup - start: 0.154, dur: 15.000, synths: 24</small>\n",
       "<p>instr: <strong style=\"color:MediumSeaGreen\">preset._click</strong> - <b>15</b> synths</p>\n",
       "<table><thead><tr><th style=\"text-align:left\">p1</th><th style=\"text-align:left\">start</th><th style=\"text-align:left\">dur</th><th style=\"text-align:left\">4</th><th style=\"text-align:left\">5:idataidx_</th><th style=\"text-align:left\">6:inumbps</th><th style=\"text-align:left\">7:ibplen</th><th style=\"text-align:left\">8:igain_</th><th style=\"text-align:left\">9:ichan_</th><th style=\"text-align:left\">10:ipos</th><th style=\"text-align:left\">11:ifade0</th><th style=\"text-align:left\">12:ifade1</th><th style=\"text-align:left\">13:ipchintrp_</th><th style=\"text-align:left\">14:ifadekind_</th><th style=\"text-align:left\">15:ktransp</th><th style=\"text-align:left\">16</th><th style=\"text-align:left\">17</th><th style=\"text-align:left\">18</th><th style=\"text-align:left\">19</th><th style=\"text-align:left\">...</th><th style=\"text-align:left\">20</th><th style=\"text-align:left\">...</th><th style=\"text-align:left\">21</th></tr></thead><tbody><tr><td style=\"text-align:left\">1002.0077 <b>𝍪</b></td><td style=\"text-align:left\">0.154</td><td style=\"text-align:left\">1.000</td><td style=\"text-align:left\">0</td><td style=\"text-align:left\">16</td><td style=\"text-align:left\">2</td><td style=\"text-align:left\">3</td><td style=\"text-align:left\">1</td><td style=\"text-align:left\">1</td><td style=\"text-align:left\">1</td><td style=\"text-align:left\">0</td><td style=\"text-align:left\">0.1</td><td style=\"text-align:left\">0</td><td style=\"text-align:left\">1</td><td style=\"text-align:left\">24</td><td style=\"text-align:left\">0</td><td style=\"text-align:left\">72</td><td style=\"text-align:left\">0.51518</td><td style=\"text-align:left\">...</td></tr><tr><td style=\"text-align:left\">1002.0078 <b>𝍪</b></td><td style=\"text-align:left\">1.154</td><td style=\"text-align:left\">1.000</td><td style=\"text-align:left\">0</td><td style=\"text-align:left\">16</td><td style=\"text-align:left\">2</td><td style=\"text-align:left\">3</td><td style=\"text-align:left\">1</td><td style=\"text-align:left\">1</td><td style=\"text-align:left\">1</td><td style=\"text-align:left\">0</td><td style=\"text-align:left\">0.1</td><td style=\"text-align:left\">0</td><td style=\"text-align:left\">1</td><td style=\"text-align:left\">24</td><td style=\"text-align:left\">0</td><td style=\"text-align:left\">79</td><td style=\"text-align:left\">0.51518</td><td style=\"text-align:left\">...</td></tr><tr><td style=\"text-align:left\">1002.0079 <b>𝍪</b></td><td style=\"text-align:left\">2.154</td><td style=\"text-align:left\">1.000</td><td style=\"text-align:left\">0</td><td style=\"text-align:left\">16</td><td style=\"text-align:left\">2</td><td style=\"text-align:left\">3</td><td style=\"text-align:left\">1</td><td style=\"text-align:left\">1</td><td style=\"text-align:left\">1</td><td style=\"text-align:left\">0</td><td style=\"text-align:left\">0.1</td><td style=\"text-align:left\">0</td><td style=\"text-align:left\">1</td><td style=\"text-align:left\">24</td><td style=\"text-align:left\">0</td><td style=\"text-align:left\">79</td><td style=\"text-align:left\">0.51518</td><td style=\"text-align:left\">...</td></tr><tr><td style=\"text-align:left\">1002.008 <b>𝍪</b></td><td style=\"text-align:left\">3.154</td><td style=\"text-align:left\">1.000</td><td style=\"text-align:left\">0</td><td style=\"text-align:left\">16</td><td style=\"text-align:left\">2</td><td style=\"text-align:left\">3</td><td style=\"text-align:left\">1</td><td style=\"text-align:left\">1</td><td style=\"text-align:left\">1</td><td style=\"text-align:left\">0</td><td style=\"text-align:left\">0.1</td><td style=\"text-align:left\">0</td><td style=\"text-align:left\">1</td><td style=\"text-align:left\">24</td><td style=\"text-align:left\">0</td><td style=\"text-align:left\">79</td><td style=\"text-align:left\">0.51518</td><td style=\"text-align:left\">...</td></tr><tr><td style=\"text-align:left\">...</td></tr></tbody></table>\n",
       "<p>instr: <strong style=\"color:MediumSeaGreen\">preset._piano</strong> - <b>9</b> synths</p>\n",
       "<table><thead><tr><th style=\"text-align:left\">p1</th><th style=\"text-align:left\">start</th><th style=\"text-align:left\">dur</th><th style=\"text-align:left\">4</th><th style=\"text-align:left\">5:idataidx_</th><th style=\"text-align:left\">6:inumbps</th><th style=\"text-align:left\">7:ibplen</th><th style=\"text-align:left\">8:igain_</th><th style=\"text-align:left\">9:ichan_</th><th style=\"text-align:left\">10:ipos</th><th style=\"text-align:left\">11:ifade0</th><th style=\"text-align:left\">12:ifade1</th><th style=\"text-align:left\">13:ipchintrp_</th><th style=\"text-align:left\">14:ifadekind_</th><th style=\"text-align:left\">15</th><th style=\"text-align:left\">16</th><th style=\"text-align:left\">...</th><th style=\"text-align:left\">17</th><th style=\"text-align:left\">...</th><th style=\"text-align:left\">18</th><th style=\"text-align:left\">...</th><th style=\"text-align:left\">19</th><th style=\"text-align:left\">...</th><th style=\"text-align:left\">20</th></tr></thead><tbody><tr><td style=\"text-align:left\">1001.0028 <b>𝍪</b></td><td style=\"text-align:left\">1.154</td><td style=\"text-align:left\">2.500</td><td style=\"text-align:left\">0</td><td style=\"text-align:left\">15</td><td style=\"text-align:left\">2</td><td style=\"text-align:left\">3</td><td style=\"text-align:left\">1</td><td style=\"text-align:left\">1</td><td style=\"text-align:left\">-1</td><td style=\"text-align:left\">0.02</td><td style=\"text-align:left\">0.02</td><td style=\"text-align:left\">0</td><td style=\"text-align:left\">1</td><td style=\"text-align:left\">0</td><td style=\"text-align:left\">...</td></tr><tr><td style=\"text-align:left\">1001.0029 <b>𝍪</b></td><td style=\"text-align:left\">3.654</td><td style=\"text-align:left\">0.500</td><td style=\"text-align:left\">0</td><td style=\"text-align:left\">15</td><td style=\"text-align:left\">2</td><td style=\"text-align:left\">3</td><td style=\"text-align:left\">1</td><td style=\"text-align:left\">1</td><td style=\"text-align:left\">-1</td><td style=\"text-align:left\">0.02</td><td style=\"text-align:left\">0.02</td><td style=\"text-align:left\">0</td><td style=\"text-align:left\">1</td><td style=\"text-align:left\">0</td><td style=\"text-align:left\">...</td></tr><tr><td style=\"text-align:left\">1001.003 <b>𝍪</b></td><td style=\"text-align:left\">4.154</td><td style=\"text-align:left\">1.000</td><td style=\"text-align:left\">0</td><td style=\"text-align:left\">15</td><td style=\"text-align:left\">2</td><td style=\"text-align:left\">3</td><td style=\"text-align:left\">0.70711</td><td style=\"text-align:left\">1</td><td style=\"text-align:left\">-1</td><td style=\"text-align:left\">0.02</td><td style=\"text-align:left\">0.02</td><td style=\"text-align:left\">0</td><td style=\"text-align:left\">1</td><td style=\"text-align:left\">0</td><td style=\"text-align:left\">...</td></tr><tr><td style=\"text-align:left\">1001.0031 <b>𝍪</b></td><td style=\"text-align:left\">4.154</td><td style=\"text-align:left\">1.000</td><td style=\"text-align:left\">0</td><td style=\"text-align:left\">15</td><td style=\"text-align:left\">2</td><td style=\"text-align:left\">3</td><td style=\"text-align:left\">0.70711</td><td style=\"text-align:left\">1</td><td style=\"text-align:left\">-1</td><td style=\"text-align:left\">0.02</td><td style=\"text-align:left\">0.02</td><td style=\"text-align:left\">0</td><td style=\"text-align:left\">1</td><td style=\"text-align:left\">0</td><td style=\"text-align:left\">...</td></tr><tr><td style=\"text-align:left\">...</td></tr></tbody></table>"
      ],
      "text/plain": [
       "SynthGroup(n=24)\n",
       "    Synth(𝍪 preset._click:1002.0077, p4=0 idataidx_:5=16 inumbps:6=2 ibplen:7=3 igain_:8=1 ichan_:9=1 ipos:10=1 ifade0:11=0 ifade1:12=0.1 ipchintrp_:13=0 ifadekind_:14=1 ktransp:15=24 p16=0 p17=72 p18=0.515178 p19=1 ...)\n",
       "    Synth(𝍪 preset._click:1002.0078, p4=0 idataidx_:5=16 inumbps:6=2 ibplen:7=3 igain_:8=1 ichan_:9=1 ipos:10=1 ifade0:11=0 ifade1:12=0.1 ipchintrp_:13=0 ifadekind_:14=1 ktransp:15=24 p16=0 p17=79 p18=0.515178 p19=1 ...)\n",
       "    Synth(𝍪 preset._click:1002.0079, p4=0 idataidx_:5=16 inumbps:6=2 ibplen:7=3 igain_:8=1 ichan_:9=1 ipos:10=1 ifade0:11=0 ifade1:12=0.1 ipchintrp_:13=0 ifadekind_:14=1 ktransp:15=24 p16=0 p17=79 p18=0.515178 p19=1 ...)\n",
       "    Synth(𝍪 preset._click:1002.008, p4=0 idataidx_:5=16 inumbps:6=2 ibplen:7=3 igain_:8=1 ichan_:9=1 ipos:10=1 ifade0:11=0 ifade1:12=0.1 ipchintrp_:13=0 ifadekind_:14=1 ktransp:15=24 p16=0 p17=79 p18=0.515178 p19=1 ...)\n",
       "    Synth(𝍪 preset._click:1002.0081, p4=0 idataidx_:5=16 inumbps:6=2 ibplen:7=3 igain_:8=1 ichan_:9=1 ipos:10=1 ifade0:11=0 ifade1:12=0.1 ipchintrp_:13=0 ifadekind_:14=1 ktransp:15=24 p16=0 p17=79 p18=0.515178 p19=1 ...)\n",
       "    Synth(𝍪 preset._click:1002.0082, p4=0 idataidx_:5=16 inumbps:6=2 ibplen:7=3 igain_:8=1 ichan_:9=1 ipos:10=1 ifade0:11=0 ifade1:12=0.1 ipchintrp_:13=0 ifadekind_:14=1 ktransp:15=24 p16=0 p17=72 p18=0.515178 p19=1 ...)\n",
       "    Synth(𝍪 preset._click:1002.0083, p4=0 idataidx_:5=16 inumbps:6=2 ibplen:7=3 igain_:8=1 ichan_:9=1 ipos:10=1 ifade0:11=0 ifade1:12=0.1 ipchintrp_:13=0 ifadekind_:14=1 ktransp:15=24 p16=0 p17=79 p18=0.515178 p19=1 ...)\n",
       "    Synth(𝍪 preset._click:1002.0084, p4=0 idataidx_:5=16 inumbps:6=2 ibplen:7=3 igain_:8=1 ichan_:9=1 ipos:10=1 ifade0:11=0 ifade1:12=0.1 ipchintrp_:13=0 ifadekind_:14=1 ktransp:15=24 p16=0 p17=79 p18=0.515178 p19=1 ...)\n",
       "    Synth(𝍪 preset._click:1002.0085, p4=0 idataidx_:5=16 inumbps:6=2 ibplen:7=3 igain_:8=1 ichan_:9=1 ipos:10=1 ifade0:11=0 ifade1:12=0.1 ipchintrp_:13=0 ifadekind_:14=1 ktransp:15=24 p16=0 p17=79 p18=0.515178 p19=1 ...)\n",
       "    Synth(𝍪 preset._click:1002.0086, p4=0 idataidx_:5=16 inumbps:6=2 ibplen:7=3 igain_:8=1 ichan_:9=1 ipos:10=1 ifade0:11=0 ifade1:12=0.1 ipchintrp_:13=0 ifadekind_:14=1 ktransp:15=24 p16=0 p17=79 p18=0.515178 p19=1 ...)\n",
       "    Synth(𝍪 preset._click:1002.0087, p4=0 idataidx_:5=16 inumbps:6=2 ibplen:7=3 igain_:8=1 ichan_:9=1 ipos:10=1 ifade0:11=0 ifade1:12=0.1 ipchintrp_:13=0 ifadekind_:14=1 ktransp:15=24 p16=0 p17=72 p18=0.515178 p19=1 ...)\n",
       "    Synth(𝍪 preset._click:1002.0088, p4=0 idataidx_:5=16 inumbps:6=2 ibplen:7=3 igain_:8=1 ichan_:9=1 ipos:10=1 ifade0:11=0 ifade1:12=0.1 ipchintrp_:13=0 ifadekind_:14=1 ktransp:15=24 p16=0 p17=79 p18=0.515178 p19=1 ...)\n",
       "    Synth(𝍪 preset._click:1002.0089, p4=0 idataidx_:5=16 inumbps:6=2 ibplen:7=3 igain_:8=1 ichan_:9=1 ipos:10=1 ifade0:11=0 ifade1:12=0.1 ipchintrp_:13=0 ifadekind_:14=1 ktransp:15=24 p16=0 p17=79 p18=0.515178 p19=1 ...)\n",
       "    Synth(𝍪 preset._click:1002.009, p4=0 idataidx_:5=16 inumbps:6=2 ibplen:7=3 igain_:8=1 ichan_:9=1 ipos:10=1 ifade0:11=0 ifade1:12=0.1 ipchintrp_:13=0 ifadekind_:14=1 ktransp:15=24 p16=0 p17=79 p18=0.515178 p19=1 ...)\n",
       "    Synth(𝍪 preset._click:1002.0091, p4=0 idataidx_:5=16 inumbps:6=2 ibplen:7=3 igain_:8=1 ichan_:9=1 ipos:10=1 ifade0:11=0 ifade1:12=0.1 ipchintrp_:13=0 ifadekind_:14=1 ktransp:15=24 p16=0 p17=79 p18=0.515178 p19=1 ...)\n",
       "    Synth(𝍪 preset._piano:1001.0028, p4=0 idataidx_:5=15 inumbps:6=2 ibplen:7=3 igain_:8=1 ichan_:9=1 ipos:10=-1 ifade0:11=0.02 ifade1:12=0.02 ipchintrp_:13=0 ifadekind_:14=1 p15=0 p16=60 ...)\n",
       "    Synth(𝍪 preset._piano:1001.0029, p4=0 idataidx_:5=15 inumbps:6=2 ibplen:7=3 igain_:8=1 ichan_:9=1 ipos:10=-1 ifade0:11=0.02 ifade1:12=0.02 ipchintrp_:13=0 ifadekind_:14=1 p15=0 p16=62 ...)\n",
       "    Synth(𝍪 preset._piano:1001.003, p4=0 idataidx_:5=15 inumbps:6=2 ibplen:7=3 igain_:8=0.707107 ichan_:9=1 ipos:10=-1 ifade0:11=0.02 ifade1:12=0.02 ipchintrp_:13=0 ifadekind_:14=1 p15=0 p16=64 ...)\n",
       "    Synth(𝍪 preset._piano:1001.0031, p4=0 idataidx_:5=15 inumbps:6=2 ibplen:7=3 igain_:8=0.707107 ichan_:9=1 ipos:10=-1 ifade0:11=0.02 ifade1:12=0.02 ipchintrp_:13=0 ifadekind_:14=1 p15=0 p16=64.5 ...)\n",
       "    Synth(𝍪 preset._piano:1001.0032, p4=0 idataidx_:5=15 inumbps:6=2 ibplen:7=3 igain_:8=1 ichan_:9=1 ipos:10=-1 ifade0:11=0.02 ifade1:12=0.02 ipchintrp_:13=0 ifadekind_:14=1 p15=0 p16=60 ...)\n",
       "    Synth(𝍪 preset._piano:1001.0033, p4=0 idataidx_:5=15 inumbps:6=2 ibplen:7=3 igain_:8=1 ichan_:9=1 ipos:10=-1 ifade0:11=0.02 ifade1:12=0.02 ipchintrp_:13=0 ifadekind_:14=1 p15=0 p16=62 ...)\n",
       "    Synth(𝍪 preset._piano:1001.0034, p4=0 idataidx_:5=15 inumbps:6=2 ibplen:7=3 igain_:8=0.707107 ichan_:9=1 ipos:10=-1 ifade0:11=0.02 ifade1:12=0.02 ipchintrp_:13=0 ifadekind_:14=1 p15=0 p16=64 ...)\n",
       "    Synth(𝍪 preset._piano:1001.0035, p4=0 idataidx_:5=15 inumbps:6=2 ibplen:7=3 igain_:8=0.707107 ichan_:9=1 ipos:10=-1 ifade0:11=0.02 ifade1:12=0.02 ipchintrp_:13=0 ifadekind_:14=1 p15=0 p16=64.5 ...)\n",
       "    Synth(𝍪 preset._piano:1001.0036, p4=0 idataidx_:5=15 inumbps:6=2 ibplen:7=3 igain_:8=1 ichan_:9=1 ipos:10=-1 ifade0:11=0.02 ifade1:12=0.02 ipchintrp_:13=0 ifadekind_:14=1 p15=0 p16=60 ...)"
      ]
     },
     "execution_count": 13,
     "metadata": {},
     "output_type": "execute_result"
    }
   ],
   "source": [
    "play([\n",
    "    click.events(position=1),\n",
    "    ch.cycle(dur=9.5, crop=True)\n",
    "])"
   ]
  },
  {
   "cell_type": "code",
   "execution_count": 12,
   "id": "a2115864-d921-4bbc-a675-f18e6bde6f86",
   "metadata": {},
   "outputs": [
    {
     "data": {
      "application/vnd.jupyter.widget-view+json": {
       "model_id": "9788b23faacc445cb8b5e845ec3d5bff",
       "version_major": 2,
       "version_minor": 0
      },
      "text/plain": [
       "Button(description='Stop', style=ButtonStyle())"
      ]
     },
     "metadata": {},
     "output_type": "display_data"
    },
    {
     "data": {
      "application/vnd.jupyter.widget-view+json": {
       "model_id": "03bdede5fe2c4a129697cd9cf2552fc9",
       "version_major": 2,
       "version_minor": 0
      },
      "text/plain": [
       "Output()"
      ]
     },
     "metadata": {},
     "output_type": "display_data"
    },
    {
     "data": {
      "text/html": [
       "<small>SynthGroup - start: 0.136, dur: 15.000, synths: 24</small>\n",
       "<p>instr: <strong style=\"color:MediumSeaGreen\">preset._click</strong> - <b>15</b> synths</p>\n",
       "<table><thead><tr><th style=\"text-align:left\">p1</th><th style=\"text-align:left\">start</th><th style=\"text-align:left\">dur</th><th style=\"text-align:left\">4</th><th style=\"text-align:left\">5:idataidx_</th><th style=\"text-align:left\">6:inumbps</th><th style=\"text-align:left\">7:ibplen</th><th style=\"text-align:left\">8:igain_</th><th style=\"text-align:left\">9:ichan_</th><th style=\"text-align:left\">10:ipos</th><th style=\"text-align:left\">11:ifade0</th><th style=\"text-align:left\">12:ifade1</th><th style=\"text-align:left\">13:ipchintrp_</th><th style=\"text-align:left\">14:ifadekind_</th><th style=\"text-align:left\">15:ktransp</th><th style=\"text-align:left\">16</th><th style=\"text-align:left\">17</th><th style=\"text-align:left\">18</th><th style=\"text-align:left\">19</th><th style=\"text-align:left\">...</th><th style=\"text-align:left\">20</th><th style=\"text-align:left\">...</th><th style=\"text-align:left\">21</th></tr></thead><tbody><tr><td style=\"text-align:left\">1002.0062 <b>𝍪</b></td><td style=\"text-align:left\">0.136</td><td style=\"text-align:left\">1.000</td><td style=\"text-align:left\">0</td><td style=\"text-align:left\">16</td><td style=\"text-align:left\">2</td><td style=\"text-align:left\">3</td><td style=\"text-align:left\">1</td><td style=\"text-align:left\">1</td><td style=\"text-align:left\">1</td><td style=\"text-align:left\">0</td><td style=\"text-align:left\">0.1</td><td style=\"text-align:left\">0</td><td style=\"text-align:left\">1</td><td style=\"text-align:left\">24</td><td style=\"text-align:left\">0</td><td style=\"text-align:left\">72</td><td style=\"text-align:left\">0.51518</td><td style=\"text-align:left\">...</td></tr><tr><td style=\"text-align:left\">1002.0063 <b>𝍪</b></td><td style=\"text-align:left\">1.136</td><td style=\"text-align:left\">1.000</td><td style=\"text-align:left\">0</td><td style=\"text-align:left\">16</td><td style=\"text-align:left\">2</td><td style=\"text-align:left\">3</td><td style=\"text-align:left\">1</td><td style=\"text-align:left\">1</td><td style=\"text-align:left\">1</td><td style=\"text-align:left\">0</td><td style=\"text-align:left\">0.1</td><td style=\"text-align:left\">0</td><td style=\"text-align:left\">1</td><td style=\"text-align:left\">24</td><td style=\"text-align:left\">0</td><td style=\"text-align:left\">79</td><td style=\"text-align:left\">0.51518</td><td style=\"text-align:left\">...</td></tr><tr><td style=\"text-align:left\">1002.0064 <b>𝍪</b></td><td style=\"text-align:left\">2.136</td><td style=\"text-align:left\">1.000</td><td style=\"text-align:left\">0</td><td style=\"text-align:left\">16</td><td style=\"text-align:left\">2</td><td style=\"text-align:left\">3</td><td style=\"text-align:left\">1</td><td style=\"text-align:left\">1</td><td style=\"text-align:left\">1</td><td style=\"text-align:left\">0</td><td style=\"text-align:left\">0.1</td><td style=\"text-align:left\">0</td><td style=\"text-align:left\">1</td><td style=\"text-align:left\">24</td><td style=\"text-align:left\">0</td><td style=\"text-align:left\">79</td><td style=\"text-align:left\">0.51518</td><td style=\"text-align:left\">...</td></tr><tr><td style=\"text-align:left\">1002.0065 <b>𝍪</b></td><td style=\"text-align:left\">3.136</td><td style=\"text-align:left\">1.000</td><td style=\"text-align:left\">0</td><td style=\"text-align:left\">16</td><td style=\"text-align:left\">2</td><td style=\"text-align:left\">3</td><td style=\"text-align:left\">1</td><td style=\"text-align:left\">1</td><td style=\"text-align:left\">1</td><td style=\"text-align:left\">0</td><td style=\"text-align:left\">0.1</td><td style=\"text-align:left\">0</td><td style=\"text-align:left\">1</td><td style=\"text-align:left\">24</td><td style=\"text-align:left\">0</td><td style=\"text-align:left\">79</td><td style=\"text-align:left\">0.51518</td><td style=\"text-align:left\">...</td></tr><tr><td style=\"text-align:left\">...</td></tr></tbody></table>\n",
       "<p>instr: <strong style=\"color:MediumSeaGreen\">preset.saw</strong> - <b>9</b> synths</p>\n",
       "<table><thead><tr><th style=\"text-align:left\">p1</th><th style=\"text-align:left\">start</th><th style=\"text-align:left\">dur</th><th style=\"text-align:left\">4</th><th style=\"text-align:left\">5:idataidx_</th><th style=\"text-align:left\">6:inumbps</th><th style=\"text-align:left\">7:ibplen</th><th style=\"text-align:left\">8:igain_</th><th style=\"text-align:left\">9:ichan_</th><th style=\"text-align:left\">10:ipos</th><th style=\"text-align:left\">11:ifade0</th><th style=\"text-align:left\">12:ifade1</th><th style=\"text-align:left\">13:ipchintrp_</th><th style=\"text-align:left\">14:ifadekind_</th><th style=\"text-align:left\">15:ktransp</th><th style=\"text-align:left\">16:klag</th><th style=\"text-align:left\">17:kfreqratio</th><th style=\"text-align:left\">18:kQ</th><th style=\"text-align:left\">19</th><th style=\"text-align:left\">20</th><th style=\"text-align:left\">21</th><th style=\"text-align:left\">22</th><th style=\"text-align:left\">...</th><th style=\"text-align:left\">23</th><th style=\"text-align:left\">...</th><th style=\"text-align:left\">24</th></tr></thead><tbody><tr><td style=\"text-align:left\">1003.002 <b>𝍪</b></td><td style=\"text-align:left\">1.136</td><td style=\"text-align:left\">2.500</td><td style=\"text-align:left\">0</td><td style=\"text-align:left\">19</td><td style=\"text-align:left\">2</td><td style=\"text-align:left\">3</td><td style=\"text-align:left\">0.1</td><td style=\"text-align:left\">1</td><td style=\"text-align:left\">-1</td><td style=\"text-align:left\">0.02</td><td style=\"text-align:left\">0.02</td><td style=\"text-align:left\">0</td><td style=\"text-align:left\">1</td><td style=\"text-align:left\">0</td><td style=\"text-align:left\">0.1</td><td style=\"text-align:left\">0</td><td style=\"text-align:left\">3</td><td style=\"text-align:left\">0</td><td style=\"text-align:left\">60</td><td style=\"text-align:left\">0.51518</td><td style=\"text-align:left\">...</td></tr><tr><td style=\"text-align:left\">1003.0021 <b>𝍪</b></td><td style=\"text-align:left\">3.636</td><td style=\"text-align:left\">0.500</td><td style=\"text-align:left\">0</td><td style=\"text-align:left\">19</td><td style=\"text-align:left\">2</td><td style=\"text-align:left\">3</td><td style=\"text-align:left\">0.1</td><td style=\"text-align:left\">1</td><td style=\"text-align:left\">-1</td><td style=\"text-align:left\">0.02</td><td style=\"text-align:left\">0.02</td><td style=\"text-align:left\">0</td><td style=\"text-align:left\">1</td><td style=\"text-align:left\">0</td><td style=\"text-align:left\">0.1</td><td style=\"text-align:left\">0</td><td style=\"text-align:left\">3</td><td style=\"text-align:left\">0</td><td style=\"text-align:left\">62</td><td style=\"text-align:left\">0.51518</td><td style=\"text-align:left\">...</td></tr><tr><td style=\"text-align:left\">1003.0022 <b>𝍪</b></td><td style=\"text-align:left\">4.136</td><td style=\"text-align:left\">1.000</td><td style=\"text-align:left\">0</td><td style=\"text-align:left\">19</td><td style=\"text-align:left\">2</td><td style=\"text-align:left\">3</td><td style=\"text-align:left\">0.070711</td><td style=\"text-align:left\">1</td><td style=\"text-align:left\">-1</td><td style=\"text-align:left\">0.02</td><td style=\"text-align:left\">0.02</td><td style=\"text-align:left\">0</td><td style=\"text-align:left\">1</td><td style=\"text-align:left\">0</td><td style=\"text-align:left\">0.1</td><td style=\"text-align:left\">0</td><td style=\"text-align:left\">3</td><td style=\"text-align:left\">0</td><td style=\"text-align:left\">64</td><td style=\"text-align:left\">0.51518</td><td style=\"text-align:left\">...</td></tr><tr><td style=\"text-align:left\">1003.0023 <b>𝍪</b></td><td style=\"text-align:left\">4.136</td><td style=\"text-align:left\">1.000</td><td style=\"text-align:left\">0</td><td style=\"text-align:left\">19</td><td style=\"text-align:left\">2</td><td style=\"text-align:left\">3</td><td style=\"text-align:left\">0.070711</td><td style=\"text-align:left\">1</td><td style=\"text-align:left\">-1</td><td style=\"text-align:left\">0.02</td><td style=\"text-align:left\">0.02</td><td style=\"text-align:left\">0</td><td style=\"text-align:left\">1</td><td style=\"text-align:left\">0</td><td style=\"text-align:left\">0.1</td><td style=\"text-align:left\">0</td><td style=\"text-align:left\">3</td><td style=\"text-align:left\">0</td><td style=\"text-align:left\">64.5</td><td style=\"text-align:left\">0.51518</td><td style=\"text-align:left\">...</td></tr><tr><td style=\"text-align:left\">...</td></tr></tbody></table>"
      ],
      "text/plain": [
       "<maelzel.core.playback.synched at 0x7f4088ea4730>"
      ]
     },
     "execution_count": 12,
     "metadata": {},
     "output_type": "execute_result"
    }
   ],
   "source": [
    "with synched() as _:\n",
    "    click.play(position=1)\n",
    "    ch.cycle(dur=9.5, crop=True).play(instr='saw', gain=0.1)\n",
    "_"
   ]
  },
  {
   "cell_type": "code",
   "execution_count": 6,
   "id": "09a90d67-0f4e-4643-8dc9-f7b649de06ed",
   "metadata": {},
   "outputs": [
    {
     "name": "stdout",
     "output_type": "stream",
     "text": [
      "[SynthEvent(delay=0, dur=3, gain=1, chan=1, fade=(0.02, 0.02), instr=_piano)\n",
      "bps 0.000s: 69       0.515178\n",
      "    2.000s: 67       0.515178\n",
      "    3.000s: 1 0.515178\n",
      "]\n"
     ]
    },
    {
     "data": {
      "application/vnd.jupyter.widget-view+json": {
       "model_id": "fc941f5fea994b7189f72d5186cec05d",
       "version_major": 2,
       "version_minor": 0
      },
      "text/plain": [
       "Button(description='Stop', style=ButtonStyle())"
      ]
     },
     "metadata": {},
     "output_type": "display_data"
    },
    {
     "data": {
      "application/vnd.jupyter.widget-view+json": {
       "model_id": "094ab0d0f5484635b88dfc9c3895889c",
       "version_major": 2,
       "version_minor": 0
      },
      "text/plain": [
       "Output()"
      ]
     },
     "metadata": {},
     "output_type": "display_data"
    },
    {
     "data": {
      "text/html": [
       "<small>SynthGroup - start: 0.054, dur: 3.000, synths: 1</small>\n",
       "<p>instr: <strong style=\"color:MediumSeaGreen\">preset._piano</strong> - <b>1</b> synths</p>\n",
       "<table><thead><tr><th style=\"text-align:left\">p1</th><th style=\"text-align:left\">start</th><th style=\"text-align:left\">dur</th><th style=\"text-align:left\">4</th><th style=\"text-align:left\">5:idataidx_</th><th style=\"text-align:left\">6:inumbps</th><th style=\"text-align:left\">7:ibplen</th><th style=\"text-align:left\">8:igain</th><th style=\"text-align:left\">9:ichan</th><th style=\"text-align:left\">10:ipos</th><th style=\"text-align:left\">11:ifadein</th><th style=\"text-align:left\">12:ifadeout</th><th style=\"text-align:left\">13:ipchintrp_</th><th style=\"text-align:left\">14:ifadekind</th><th style=\"text-align:left\">15</th><th style=\"text-align:left\">16</th><th style=\"text-align:left\">...</th></tr></thead><tbody><tr><td style=\"text-align:left\">502.0002 <b>𝍪</b></td><td style=\"text-align:left\">0.054</td><td style=\"text-align:left\">3.000</td><td style=\"text-align:left\">0</td><td style=\"text-align:left\">15</td><td style=\"text-align:left\">3</td><td style=\"text-align:left\">3</td><td style=\"text-align:left\">1</td><td style=\"text-align:left\">1</td><td style=\"text-align:left\">-1</td><td style=\"text-align:left\">0.02</td><td style=\"text-align:left\">0.02</td><td style=\"text-align:left\">0</td><td style=\"text-align:left\">1</td><td style=\"text-align:left\">0</td><td style=\"text-align:left\">...</td></tr></tbody></table>"
      ],
      "text/plain": [
       "SynthGroup(n=1)\n",
       "    Synth(𝍪 preset._piano:502.0002, p4=0 idataidx_:5=15 inumbps:6=3 ibplen:7=3 igain:8=1 ichan:9=1 ipos:10=-1 ifadein:11=0.02 ifadeout:12=0.02 ipchintrp_:13=0 ifadekind:14=1 p15=0 p16=69 ...)"
      ]
     },
     "execution_count": 6,
     "metadata": {},
     "output_type": "execute_result"
    }
   ],
   "source": [
    "from maelzel.core import *\n",
    "ch = Chain([Note(\"4A\", 2, gliss=True), Note(\"4G\", 1, gliss=True)])\n",
    "print(ch.events())\n",
    "ch.play()"
   ]
  },
  {
   "cell_type": "code",
   "execution_count": 10,
   "id": "b5031634-bdf0-43ee-9093-fcfceac9d735",
   "metadata": {},
   "outputs": [
    {
     "name": "stderr",
     "output_type": "stream",
     "text": [
      "DEBUG:maelzel.core:rendering parts with backend: lilypond\n"
     ]
    },
    {
     "name": "stdout",
     "output_type": "stream",
     "text": [
      "DEBUG: Enharmonic spelling - orig. ['4A', '4G#', '4G-'], horizontal solution=['4A', '4G#', '4F#+']\n",
      "DEBUG: Enharmonic spelling - chord «0.000:2.000 [4F 4A] gliss properties={'resetEnharmonicSlots': True}» - solution: ('4F', '4A')\n",
      "       fixed slots: {'C': 0, 'C+': 0, 'C#': 0, 'D-': 0, 'D': 0, 'D+': 0, 'D#': 0, 'E-': 0, 'E': 0, 'E+': 0, 'F': 0, 'F+': 0, 'F#': 0, 'G-': 0, 'G': 0, 'G+': 0, 'G#': 0, 'A-': 0, 'A': 0, 'A+': 0, 'Bb': 0, 'B-': 0, 'B': 0, 'B+': 0}\n",
      "       variants: [('4F', '4A')]\n",
      "DEBUG: Enharmonic spelling - chord «2.000:5.000 [4F 4G#] gliss» - solution: ('4F', '4Ab')\n",
      "       fixed slots: {'C': 0, 'C+': 0, 'C#': 0, 'D-': 0, 'D': 0, 'D+': 0, 'D#': 0, 'E-': 0, 'E': 0, 'E+': 0, 'F': 0, 'F+': 0, 'F#': 0, 'G-': 0, 'G': 0, 'G+': 0, 'G#': 0, 'A-': 0, 'A': 0, 'A+': 0, 'Bb': 0, 'B-': 0, 'B': 0, 'B+': 0}\n",
      "       variants: [('4F', '4Ab'), ('4F', '4G#')]\n",
      "DEBUG: Enharmonic spelling - chord «5.000:grace [4F# 4G-] properties={'resetEnharmonicSlots': True}» - solution: ('4F#', '4G-')\n",
      "       fixed slots: {'C': 0, 'C+': 0, 'C#': 0, 'D-': 0, 'D': 0, 'D+': 0, 'D#': 0, 'E-': 0, 'E': 0, 'E+': 0, 'F': 0, 'F+': 0, 'F#': 0, 'G-': 0, 'G': 0, 'G+': 0, 'G#': -1, 'A-': 0, 'A': 0, 'A+': 0, 'Bb': 0, 'B-': 0, 'B': 0, 'B+': 0}\n",
      "       variants: [('4F#', '4G-'), ('4F#', '4F#+'), ('4Gb', '4G-'), ('4Gb', '4F#+')]\n"
     ]
    },
    {
     "data": {
      "image/png": "[encoded data removed]",
      "text/plain": [
       "<IPython.core.display.Image object>"
      ]
     },
     "metadata": {
      "image/png": {
       "width": 192
      }
     },
     "output_type": "display_data"
    }
   ],
   "source": [
    "ch2 = Chain([Chord(\"4F 4A\", 2, gliss=True), Chord(\"4F 4Ab\", 3, gliss=\"4F# 4G-\")])\n",
    "ch2.show()\n",
    "# ch2.play(instr='tri', fade=0.15, sustain=0.15)"
   ]
  },
  {
   "cell_type": "code",
   "execution_count": 3,
   "id": "e12c2014-3f60-45d3-98af-c1ffa5032ab9",
   "metadata": {},
   "outputs": [
    {
     "data": {
      "text/plain": [
       "[]"
      ]
     },
     "execution_count": 3,
     "metadata": {},
     "output_type": "execute_result"
    }
   ],
   "source": [
    "ch2.events()"
   ]
  },
  {
   "cell_type": "code",
   "execution_count": 27,
   "id": "8a7c2b3e-b18d-4fba-b2c8-978abede2399",
   "metadata": {},
   "outputs": [
    {
     "data": {
      "application/vnd.jupyter.widget-view+json": {
       "model_id": "e27a86a4f4a94d4fa975f3858c6045ba",
       "version_major": 2,
       "version_minor": 0
      },
      "text/plain": [
       "Button(description='Stop', style=ButtonStyle())"
      ]
     },
     "metadata": {},
     "output_type": "display_data"
    },
    {
     "data": {
      "application/vnd.jupyter.widget-view+json": {
       "model_id": "0e1f1ee0c6a64acc998dcd3aa7fcf7ca",
       "version_major": 2,
       "version_minor": 0
      },
      "text/plain": [
       "Output()"
      ]
     },
     "metadata": {},
     "output_type": "display_data"
    },
    {
     "data": {
      "text/html": [
       "<small>SynthGroup - start: 0.037, dur: 10.100, synths: 272</small>\n",
       "<p>instr: <strong style=\"color:MediumSeaGreen\">preset.piano</strong> - <b>272</b> synths</p>\n",
       "<table><thead><tr><th style=\"text-align:left\">p1</th><th style=\"text-align:left\">start</th><th style=\"text-align:left\">dur</th><th style=\"text-align:left\">4</th><th style=\"text-align:left\">5:idataidx_</th><th style=\"text-align:left\">6:inumbps</th><th style=\"text-align:left\">7:ibplen</th><th style=\"text-align:left\">8:igain_</th><th style=\"text-align:left\">9:ichan_</th><th style=\"text-align:left\">10:ipos</th><th style=\"text-align:left\">11:ifade0</th><th style=\"text-align:left\">12:ifade1</th><th style=\"text-align:left\">13:ipchintrp_</th><th style=\"text-align:left\">14:ifadekind_</th><th style=\"text-align:left\">15</th><th style=\"text-align:left\">16</th><th style=\"text-align:left\">...</th><th style=\"text-align:left\">17</th><th style=\"text-align:left\">...</th><th style=\"text-align:left\">18</th><th style=\"text-align:left\">...</th><th style=\"text-align:left\">19</th><th style=\"text-align:left\">...</th><th style=\"text-align:left\">20</th><th style=\"text-align:left\">...</th><th style=\"text-align:left\">21</th><th style=\"text-align:left\">...</th><th style=\"text-align:left\">22</th><th style=\"text-align:left\">...</th><th style=\"text-align:left\">23</th></tr></thead><tbody><tr><td style=\"text-align:left\">1005.0898 <b>𝍪</b></td><td style=\"text-align:left\">0.037</td><td style=\"text-align:left\">0.050</td><td style=\"text-align:left\">0</td><td style=\"text-align:left\">15</td><td style=\"text-align:left\">3</td><td style=\"text-align:left\">3</td><td style=\"text-align:left\">1</td><td style=\"text-align:left\">1</td><td style=\"text-align:left\">1</td><td style=\"text-align:left\">0.02</td><td style=\"text-align:left\">0.02</td><td style=\"text-align:left\">0</td><td style=\"text-align:left\">1</td><td style=\"text-align:left\">0</td><td style=\"text-align:left\">...</td></tr><tr><td style=\"text-align:left\">1005.0899 <b>𝍪</b></td><td style=\"text-align:left\">0.187</td><td style=\"text-align:left\">0.050</td><td style=\"text-align:left\">0</td><td style=\"text-align:left\">15</td><td style=\"text-align:left\">3</td><td style=\"text-align:left\">3</td><td style=\"text-align:left\">1</td><td style=\"text-align:left\">1</td><td style=\"text-align:left\">1</td><td style=\"text-align:left\">0.02</td><td style=\"text-align:left\">0.02</td><td style=\"text-align:left\">0</td><td style=\"text-align:left\">1</td><td style=\"text-align:left\">0</td><td style=\"text-align:left\">...</td></tr><tr><td style=\"text-align:left\">1005.09 <b>𝍪</b></td><td style=\"text-align:left\">0.337</td><td style=\"text-align:left\">0.050</td><td style=\"text-align:left\">0</td><td style=\"text-align:left\">15</td><td style=\"text-align:left\">3</td><td style=\"text-align:left\">3</td><td style=\"text-align:left\">1</td><td style=\"text-align:left\">1</td><td style=\"text-align:left\">1</td><td style=\"text-align:left\">0.02</td><td style=\"text-align:left\">0.02</td><td style=\"text-align:left\">0</td><td style=\"text-align:left\">1</td><td style=\"text-align:left\">0</td><td style=\"text-align:left\">...</td></tr><tr><td style=\"text-align:left\">1005.0901 <b>𝍪</b></td><td style=\"text-align:left\">0.487</td><td style=\"text-align:left\">0.050</td><td style=\"text-align:left\">0</td><td style=\"text-align:left\">15</td><td style=\"text-align:left\">3</td><td style=\"text-align:left\">3</td><td style=\"text-align:left\">1</td><td style=\"text-align:left\">1</td><td style=\"text-align:left\">1</td><td style=\"text-align:left\">0.02</td><td style=\"text-align:left\">0.02</td><td style=\"text-align:left\">0</td><td style=\"text-align:left\">1</td><td style=\"text-align:left\">0</td><td style=\"text-align:left\">...</td></tr><tr><td style=\"text-align:left\">...</td></tr></tbody></table>"
      ],
      "text/plain": [
       "<maelzel.core.playback.synched at 0x7f4088e8ccd0>"
      ]
     },
     "execution_count": 27,
     "metadata": {},
     "output_type": "execute_result"
    }
   ],
   "source": [
    "from maelzel.core import *\n",
    "session = playback.getPlaySession()\n",
    "session.defInstr('reverb', r'''\n",
    "|kfeedback=0.85|\n",
    "a1, a2 monitor\n",
    "aL, aR  reverbsc a1, a2, kfeedback, 12000, sr, 0.5, 1\n",
    "outch 1, aL - a1, 2, aR - a2 \n",
    "''')\n",
    "chain = Chain([Note(m, 0.15) for m in range(24, 92)])\n",
    "with synched() as p:\n",
    "    chain.play(position=1, instr='piano', sustain=-0.1)\n",
    "    chain.transpose(3).play(position=0, instr='piano', sustain=-0.1)\n",
    "    chain.transpose(7).play(position=1, instr='piano', sustain=-0.1)\n",
    "    chain.transpose(12).play(position=0, instr='piano', sustain=-0.1)\n",
    "    \n",
    "    \n",
    "    # p.sched('reverb', 0, dur=20, priority=2, pargs={'kfeedback':0.8})\n",
    "p"
   ]
  },
  {
   "cell_type": "code",
   "execution_count": 19,
   "id": "fa486f58-70c9-4360-ab35-63736bc86725",
   "metadata": {},
   "outputs": [
    {
     "data": {
      "application/vnd.jupyter.widget-view+json": {
       "model_id": "68bcc48cc1154586883e7d949edaf5cc",
       "version_major": 2,
       "version_minor": 0
      },
      "text/plain": [
       "Button(description='Stop Synths', style=ButtonStyle())"
      ]
     },
     "metadata": {},
     "output_type": "display_data"
    },
    {
     "data": {
      "application/vnd.jupyter.widget-view+json": {
       "model_id": "87e132ebcd574f558869933568f8fe35",
       "version_major": 2,
       "version_minor": 0
      },
      "text/plain": [
       "Output()"
      ]
     },
     "metadata": {},
     "output_type": "display_data"
    },
    {
     "data": {
      "text/html": [
       "Session(<strong style=\"color:MediumSeaGreen\">maelzel.core</strong>, synths=2)"
      ],
      "text/plain": [
       "Session(maelzel.core, synths=2)"
      ]
     },
     "execution_count": 19,
     "metadata": {},
     "output_type": "execute_result"
    }
   ],
   "source": [
    "session"
   ]
  },
  {
   "cell_type": "code",
   "execution_count": 9,
   "id": "9b4244ce-8c2c-4955-b4e6-75fcb0e56412",
   "metadata": {},
   "outputs": [
    {
     "data": {
      "application/vnd.jupyter.widget-view+json": {
       "model_id": "e15555521b2540acbbc7619df495680a",
       "version_major": 2,
       "version_minor": 0
      },
      "text/plain": [
       "Button(description='Stop', style=ButtonStyle())"
      ]
     },
     "metadata": {},
     "output_type": "display_data"
    },
    {
     "data": {
      "application/vnd.jupyter.widget-view+json": {
       "model_id": "889eec1e59a544d88ab267becb7fccc9",
       "version_major": 2,
       "version_minor": 0
      },
      "text/plain": [
       "Output()"
      ]
     },
     "metadata": {},
     "output_type": "display_data"
    },
    {
     "data": {
      "text/html": [
       "<small>SynthGroup - start: 0.130, dur: 10.000, synths: 5</small>\n",
       "<p>instr: <strong style=\"color:MediumSeaGreen\">preset._piano</strong> - <b>3</b> synths</p>\n",
       "<table><thead><tr><th style=\"text-align:left\">p1</th><th style=\"text-align:left\">start</th><th style=\"text-align:left\">dur</th><th style=\"text-align:left\">4</th><th style=\"text-align:left\">5:idataidx_</th><th style=\"text-align:left\">6:inumbps</th><th style=\"text-align:left\">7:ibplen</th><th style=\"text-align:left\">8:igain_</th><th style=\"text-align:left\">9:ichan_</th><th style=\"text-align:left\">10:ipos</th><th style=\"text-align:left\">11:ifade0</th><th style=\"text-align:left\">12:ifade1</th><th style=\"text-align:left\">13:ipchintrp_</th><th style=\"text-align:left\">14:ifadekind_</th><th style=\"text-align:left\">15</th><th style=\"text-align:left\">16</th><th style=\"text-align:left\">...</th><th style=\"text-align:left\">17</th><th style=\"text-align:left\">...</th><th style=\"text-align:left\">18</th><th style=\"text-align:left\">...</th><th style=\"text-align:left\">19</th><th style=\"text-align:left\">...</th><th style=\"text-align:left\">20</th></tr></thead><tbody><tr><td style=\"text-align:left\">1001.0018 <b>𝍪</b></td><td style=\"text-align:left\">1.130</td><td style=\"text-align:left\">7.000</td><td style=\"text-align:left\">0</td><td style=\"text-align:left\">15</td><td style=\"text-align:left\">2</td><td style=\"text-align:left\">3</td><td style=\"text-align:left\">0.70711</td><td style=\"text-align:left\">1</td><td style=\"text-align:left\">0.5</td><td style=\"text-align:left\">0.02</td><td style=\"text-align:left\">0.02</td><td style=\"text-align:left\">0</td><td style=\"text-align:left\">1</td><td style=\"text-align:left\">0</td><td style=\"text-align:left\">...</td></tr><tr><td style=\"text-align:left\">1001.0019 <b>𝍪</b></td><td style=\"text-align:left\">1.130</td><td style=\"text-align:left\">7.000</td><td style=\"text-align:left\">0</td><td style=\"text-align:left\">15</td><td style=\"text-align:left\">2</td><td style=\"text-align:left\">3</td><td style=\"text-align:left\">0.70711</td><td style=\"text-align:left\">1</td><td style=\"text-align:left\">0.5</td><td style=\"text-align:left\">0.02</td><td style=\"text-align:left\">0.02</td><td style=\"text-align:left\">0</td><td style=\"text-align:left\">1</td><td style=\"text-align:left\">0</td><td style=\"text-align:left\">...</td></tr><tr><td style=\"text-align:left\">1001.002 <b>𝍪</b></td><td style=\"text-align:left\">1.630</td><td style=\"text-align:left\">6.000</td><td style=\"text-align:left\">0</td><td style=\"text-align:left\">15</td><td style=\"text-align:left\">2</td><td style=\"text-align:left\">3</td><td style=\"text-align:left\">1</td><td style=\"text-align:left\">1</td><td style=\"text-align:left\">-1</td><td style=\"text-align:left\">0.02</td><td style=\"text-align:left\">0.02</td><td style=\"text-align:left\">0</td><td style=\"text-align:left\">1</td><td style=\"text-align:left\">0</td><td style=\"text-align:left\">...</td></tr></tbody></table>\n",
       "<p>instr: <strong style=\"color:MediumSeaGreen\">reverb</strong> - <b>1</b> synths</p>\n",
       "<table><thead><tr><th style=\"text-align:left\">p1</th><th style=\"text-align:left\">start</th><th style=\"text-align:left\">dur</th><th style=\"text-align:left\">4</th><th style=\"text-align:left\">5:kfeedback</th></tr></thead><tbody><tr><td style=\"text-align:left\">2001.0002 <b>𝍪</b></td><td style=\"text-align:left\">0.130</td><td style=\"text-align:left\">10.000</td><td style=\"text-align:left\">0</td><td style=\"text-align:left\">0.8</td></tr></tbody></table>\n",
       "<p>instr: <strong style=\"color:MediumSeaGreen\">sin</strong> - <b>1</b> synths</p>\n",
       "<table><thead><tr><th style=\"text-align:left\">p1</th><th style=\"text-align:left\">start</th><th style=\"text-align:left\">dur</th><th style=\"text-align:left\">4</th><th style=\"text-align:left\">5:imidi</th><th style=\"text-align:left\">6:iamp</th></tr></thead><tbody><tr><td style=\"text-align:left\">1002.0002 <b>𝍪</b></td><td style=\"text-align:left\">0.230</td><td style=\"text-align:left\">3.000</td><td style=\"text-align:left\">0</td><td style=\"text-align:left\">61.33</td><td style=\"text-align:left\">0.02</td></tr></tbody></table>"
      ],
      "text/plain": [
       "SynthGroup(n=5)\n",
       "    Synth(𝍪 preset._piano:1001.0018, p4=0 idataidx_:5=15 inumbps:6=2 ibplen:7=3 igain_:8=0.707107 ichan_:9=1 ipos:10=0.5 ifade0:11=0.02 ifade1:12=0.02 ipchintrp_:13=0 ifadekind_:14=1 p15=0 p16=60 ...)\n",
       "    Synth(𝍪 preset._piano:1001.0019, p4=0 idataidx_:5=15 inumbps:6=2 ibplen:7=3 igain_:8=0.707107 ichan_:9=1 ipos:10=0.5 ifade0:11=0.02 ifade1:12=0.02 ipchintrp_:13=0 ifadekind_:14=1 p15=0 p16=64 ...)\n",
       "    Synth(𝍪 preset._piano:1001.002, p4=0 idataidx_:5=15 inumbps:6=2 ibplen:7=3 igain_:8=1 ichan_:9=1 ipos:10=-1 ifade0:11=0.02 ifade1:12=0.02 ipchintrp_:13=0 ifadekind_:14=1 p15=0 p16=61 ...)\n",
       "    Synth(𝍪 reverb:2001.0002, p4=0 kfeedback:5=0.8)\n",
       "    Synth(𝍪 sin:1002.0002, p4=0 imidi:5=61.33 iamp:6=0.02)"
      ]
     },
     "execution_count": 9,
     "metadata": {},
     "output_type": "execute_result"
    }
   ],
   "source": [
    "from maelzel.core import *\n",
    "from csoundengine.session import SessionEvent\n",
    "import csoundengine as ce\n",
    "session = playSession()\n",
    "session.defInstr('reverb', r'''\n",
    "|kfeedback=0.85|\n",
    "a1, a2 monitor\n",
    "aL, aR  reverbsc a1, a2, kfeedback, 12000, sr, 0.5, 1\n",
    "outch 1, aL - a1, 2, aR - a2\n",
    "''')\n",
    "session.defInstr('sin', r'''\n",
    "|imidi=60, iamp=0.01|\n",
    "a1 oscili iamp, mtof(imidi)\n",
    "a1 *= linsegr(0, 0.5, 1, 2, 0)\n",
    "outch 1, a1\n",
    "''')\n",
    "play([\n",
    "    Chord(\"4C 4E\", 7, start=1).events(position=0.5),\n",
    "    Note(\"4C#\", 6, start=1.5),  # No customization,\n",
    "    SessionEvent('reverb', dur=10, pargs={'kfeedback': 0.8}, priority=2),\n",
    "    SessionEvent('sin', delay=0.1, dur=3, pargs={'imidi': 61.33, 'iamp':0.02})\n",
    "])\n"
   ]
  },
  {
   "cell_type": "code",
   "execution_count": 2,
   "id": "5049a6a8-3e6b-41b6-a35e-8f0248aff1cc",
   "metadata": {},
   "outputs": [
    {
     "data": {
      "application/vnd.jupyter.widget-view+json": {
       "model_id": "349005c305a640eeb0d8b355ec66bdef",
       "version_major": 2,
       "version_minor": 0
      },
      "text/plain": [
       "Button(description='Stop Synths', style=ButtonStyle())"
      ]
     },
     "metadata": {},
     "output_type": "display_data"
    },
    {
     "data": {
      "application/vnd.jupyter.widget-view+json": {
       "model_id": "f2391fd1c82342a9857b35e1b7a53cdb",
       "version_major": 2,
       "version_minor": 0
      },
      "text/plain": [
       "Output()"
      ]
     },
     "metadata": {},
     "output_type": "display_data"
    },
    {
     "data": {
      "text/html": [
       "Session(<strong style=\"color:MediumSeaGreen\">maelzel.core</strong>, synths=5)"
      ],
      "text/plain": [
       "Session(maelzel.core, synths=5)"
      ]
     },
     "execution_count": 2,
     "metadata": {},
     "output_type": "execute_result"
    }
   ],
   "source": [
    "playSession()"
   ]
  },
  {
   "cell_type": "code",
   "execution_count": 11,
   "id": "d33e9315-f12c-46d4-878a-fad8b3753eba",
   "metadata": {},
   "outputs": [
    {
     "name": "stderr",
     "output_type": "stream",
     "text": [
      "DEBUG:maelzel.core:rendering parts with backend: lilypond\n"
     ]
    },
    {
     "name": "stdout",
     "output_type": "stream",
     "text": [
      "DEBUG: Enharmonic spelling - orig. ['4C', '4F', '4D#', '4G', '4F'], horizontal solution=['4C', '4F', '4Eb', '4G', '4F']\n",
      "DEBUG: Enharmonic spelling - chord «2.500:3.500 [4D 4F]» - solution: ('4D', '4F')\n",
      "       fixed slots: {'C': 0, 'C+': 0, 'C#': 0, 'D-': 0, 'D': 0, 'D+': 0, 'D#': -1, 'E-': 0, 'E': 0, 'E+': 0, 'F': 0, 'F+': 0, 'F#': 0, 'G-': 0, 'G': 0, 'G+': 0, 'G#': 0, 'A-': 0, 'A': 0, 'A+': 0, 'Bb': 0, 'B-': 0, 'B': 0, 'B+': 0}\n",
      "       variants: [('4D', '4F')]\n"
     ]
    },
    {
     "data": {
      "image/png": "[encoded data removed]",
      "text/plain": [
       "<IPython.core.display.Image object>"
      ]
     },
     "metadata": {
      "image/png": {
       "width": 170
      }
     },
     "output_type": "display_data"
    },
    {
     "name": "stderr",
     "output_type": "stream",
     "text": [
      "DEBUG:maelzel.core:Starting engine maelzel.core (nchnls=2)\n",
      "\n",
      "\n",
      "--Csound version 6.18 (double samples) Dec  2 2022\n",
      "[commit: ac38f27d1c5d6ee0cacc1bc719e96be3a2d93a15]\n",
      "\u001b[mlibsndfile-1.0.31\n",
      "\u001b[msr = 44100.0,\u001b[m kr = 689.062,\u001b[m ksmps = 64\n",
      "\u001b[m0dBFS level = 1.0,\u001b[m A4 tuning = 442.0\n",
      "\u001b[maudio buffered in 256 sample-frame blocks\n",
      "\u001b[mreading 1024-byte blks of shorts from adc:system:capture (RAW)\n",
      "writing 512 sample blks of 64-bit floats to dac:system:playback\n",
      "SECTION 1:\n",
      "\u001b[m"
     ]
    },
    {
     "data": {
      "application/vnd.jupyter.widget-view+json": {
       "model_id": "ac22db6214014216a024297417ce0399",
       "version_major": 2,
       "version_minor": 0
      },
      "text/plain": [
       "Button(description='Stop', style=ButtonStyle())"
      ]
     },
     "metadata": {},
     "output_type": "display_data"
    },
    {
     "data": {
      "application/vnd.jupyter.widget-view+json": {
       "model_id": "3c1bbf79b1744702b91223f69040b230",
       "version_major": 2,
       "version_minor": 0
      },
      "text/plain": [
       "Output()"
      ]
     },
     "metadata": {},
     "output_type": "display_data"
    },
    {
     "data": {
      "text/html": [
       "<small>SynthGroup - start: 0.035, dur: 3.500, synths: 3</small>\n",
       "<p>instr: <strong style=\"color:MediumSeaGreen\">preset.saw</strong> - <b>3</b> synths</p>\n",
       "<table><thead><tr><th style=\"text-align:left\">p1</th><th style=\"text-align:left\">start</th><th style=\"text-align:left\">dur</th><th style=\"text-align:left\">4</th><th style=\"text-align:left\">5:idataidx_</th><th style=\"text-align:left\">6:inumbps</th><th style=\"text-align:left\">7:ibplen</th><th style=\"text-align:left\">8:igain</th><th style=\"text-align:left\">9:ichan</th><th style=\"text-align:left\">10:ipos</th><th style=\"text-align:left\">11:ifadein</th><th style=\"text-align:left\">12:ifadeout</th><th style=\"text-align:left\">13:ipchintrp_</th><th style=\"text-align:left\">14:ifadekind</th><th style=\"text-align:left\">15:ktransp</th><th style=\"text-align:left\">16:klag</th><th style=\"text-align:left\">17:kfreqratio</th><th style=\"text-align:left\">18:kQ</th><th style=\"text-align:left\">19</th><th style=\"text-align:left\">20</th><th style=\"text-align:left\">21</th><th style=\"text-align:left\">22</th><th style=\"text-align:left\">...</th></tr></thead><tbody><tr><td style=\"text-align:left\">501.0002 <b>𝍪</b></td><td style=\"text-align:left\">0.035</td><td style=\"text-align:left\">2.500</td><td style=\"text-align:left\">0</td><td style=\"text-align:left\">19</td><td style=\"text-align:left\">4</td><td style=\"text-align:left\">3</td><td style=\"text-align:left\">0.01</td><td style=\"text-align:left\">1</td><td style=\"text-align:left\">0.5</td><td style=\"text-align:left\">0.02</td><td style=\"text-align:left\">0.02</td><td style=\"text-align:left\">0</td><td style=\"text-align:left\">1</td><td style=\"text-align:left\">0</td><td style=\"text-align:left\">0.1</td><td style=\"text-align:left\">0</td><td style=\"text-align:left\">3</td><td style=\"text-align:left\">0</td><td style=\"text-align:left\">60</td><td style=\"text-align:left\">0.51518</td><td style=\"text-align:left\">...</td></tr><tr><td style=\"text-align:left\">501.0003 <b>𝍪</b></td><td style=\"text-align:left\">2.535</td><td style=\"text-align:left\">1.000</td><td style=\"text-align:left\">0</td><td style=\"text-align:left\">19</td><td style=\"text-align:left\">2</td><td style=\"text-align:left\">3</td><td style=\"text-align:left\">0.0070711</td><td style=\"text-align:left\">1</td><td style=\"text-align:left\">0.5</td><td style=\"text-align:left\">0.02</td><td style=\"text-align:left\">0.02</td><td style=\"text-align:left\">0</td><td style=\"text-align:left\">1</td><td style=\"text-align:left\">0</td><td style=\"text-align:left\">0.1</td><td style=\"text-align:left\">0</td><td style=\"text-align:left\">3</td><td style=\"text-align:left\">0</td><td style=\"text-align:left\">62</td><td style=\"text-align:left\">0.51518</td><td style=\"text-align:left\">...</td></tr><tr><td style=\"text-align:left\">501.0004 <b>𝍪</b></td><td style=\"text-align:left\">2.535</td><td style=\"text-align:left\">1.000</td><td style=\"text-align:left\">0</td><td style=\"text-align:left\">19</td><td style=\"text-align:left\">2</td><td style=\"text-align:left\">3</td><td style=\"text-align:left\">0.0070711</td><td style=\"text-align:left\">1</td><td style=\"text-align:left\">0.5</td><td style=\"text-align:left\">0.02</td><td style=\"text-align:left\">0.02</td><td style=\"text-align:left\">0</td><td style=\"text-align:left\">1</td><td style=\"text-align:left\">0</td><td style=\"text-align:left\">0.1</td><td style=\"text-align:left\">0</td><td style=\"text-align:left\">3</td><td style=\"text-align:left\">0</td><td style=\"text-align:left\">65</td><td style=\"text-align:left\">0.51518</td><td style=\"text-align:left\">...</td></tr></tbody></table>"
      ],
      "text/plain": [
       "SynthGroup(n=3)\n",
       "    Synth(𝍪 preset.saw:501.0002, p4=0 idataidx_:5=19 inumbps:6=4 ibplen:7=3 igain:8=0.01 ichan:9=1 ipos:10=0.5 ifadein:11=0.02 ifadeout:12=0.02 ipchintrp_:13=0 ifadekind:14=1 ktransp:15=0 klag:16=0.1 kfreqratio:17=0 kQ:18=3 p19=0 p20=60 p21=0.515178 p22=0.5 ...)\n",
       "    Synth(𝍪 preset.saw:501.0003, p4=0 idataidx_:5=19 inumbps:6=2 ibplen:7=3 igain:8=0.00707107 ichan:9=1 ipos:10=0.5 ifadein:11=0.02 ifadeout:12=0.02 ipchintrp_:13=0 ifadekind:14=1 ktransp:15=0 klag:16=0.1 kfreqratio:17=0 kQ:18=3 p19=0 p20=62 p21=0.515178 p22=1 ...)\n",
       "    Synth(𝍪 preset.saw:501.0004, p4=0 idataidx_:5=19 inumbps:6=2 ibplen:7=3 igain:8=0.00707107 ichan:9=1 ipos:10=0.5 ifadein:11=0.02 ifadeout:12=0.02 ipchintrp_:13=0 ifadekind:14=1 ktransp:15=0 klag:16=0.1 kfreqratio:17=0 kQ:18=3 p19=0 p20=65 p21=0.515178 p22=1 ...)"
      ]
     },
     "execution_count": 11,
     "metadata": {},
     "output_type": "execute_result"
    }
   ],
   "source": [
    "from maelzel.core import *\n",
    "ch = Chain([\n",
    "    Note(60, dur=0.5, gliss=True),\n",
    "    Note(65, 1, gliss=True),\n",
    "    Note(63, 1, gliss=67),\n",
    "    Chord(\"4D 4F\", 1)\n",
    "])\n",
    "ch.show()\n",
    "ch.play(instr='saw', gain=0.01, position=0.5)"
   ]
  },
  {
   "cell_type": "code",
   "execution_count": 12,
   "id": "4faa7b4c-9852-4375-b445-2ef21ba2976b",
   "metadata": {},
   "outputs": [
    {
     "name": "stderr",
     "output_type": "stream",
     "text": [
      "DEBUG:maelzel.core:rendering parts with backend: lilypond\n"
     ]
    },
    {
     "name": "stdout",
     "output_type": "stream",
     "text": [
      "DEBUG: Enharmonic spelling - orig. ['4C', '4G', '4F', '4D#', '4G', '4F'], horizontal solution=['4C', '4G', '4F', '4Eb', '4G', '4F']\n",
      "DEBUG: Enharmonic spelling - chord «2.500:3.500 [4D 4F]» - solution: ('4D', '4F')\n",
      "       fixed slots: {'C': 0, 'C+': 0, 'C#': 0, 'D-': 0, 'D': 0, 'D+': 0, 'D#': -1, 'E-': 0, 'E': 0, 'E+': 0, 'F': 0, 'F+': 0, 'F#': 0, 'G-': 0, 'G': 0, 'G+': 0, 'G#': 0, 'A-': 0, 'A': 0, 'A+': 0, 'Bb': 0, 'B-': 0, 'B': 0, 'B+': 0}\n",
      "       variants: [('4D', '4F')]\n"
     ]
    },
    {
     "data": {
      "image/png": "[encoded data removed]",
      "text/plain": [
       "<IPython.core.display.Image object>"
      ]
     },
     "metadata": {
      "image/png": {
       "width": 180
      }
     },
     "output_type": "display_data"
    },
    {
     "data": {
      "application/vnd.jupyter.widget-view+json": {
       "model_id": "25c278768b1e4388b05100fa15b43e77",
       "version_major": 2,
       "version_minor": 0
      },
      "text/plain": [
       "Button(description='Stop', style=ButtonStyle())"
      ]
     },
     "metadata": {},
     "output_type": "display_data"
    },
    {
     "data": {
      "application/vnd.jupyter.widget-view+json": {
       "model_id": "c4ee47ca7585498784e50603a22311b4",
       "version_major": 2,
       "version_minor": 0
      },
      "text/plain": [
       "Output()"
      ]
     },
     "metadata": {},
     "output_type": "display_data"
    },
    {
     "data": {
      "text/html": [
       "<small>SynthGroup - start: 0.057, dur: 3.500, synths: 3</small>\n",
       "<p>instr: <strong style=\"color:MediumSeaGreen\">preset.saw</strong> - <b>3</b> synths</p>\n",
       "<table><thead><tr><th style=\"text-align:left\">p1</th><th style=\"text-align:left\">start</th><th style=\"text-align:left\">dur</th><th style=\"text-align:left\">4</th><th style=\"text-align:left\">5:idataidx_</th><th style=\"text-align:left\">6:inumbps</th><th style=\"text-align:left\">7:ibplen</th><th style=\"text-align:left\">8:igain</th><th style=\"text-align:left\">9:ichan</th><th style=\"text-align:left\">10:ipos</th><th style=\"text-align:left\">11:ifadein</th><th style=\"text-align:left\">12:ifadeout</th><th style=\"text-align:left\">13:ipchintrp_</th><th style=\"text-align:left\">14:ifadekind</th><th style=\"text-align:left\">15:ktransp</th><th style=\"text-align:left\">16:klag</th><th style=\"text-align:left\">17:kfreqratio</th><th style=\"text-align:left\">18:kQ</th><th style=\"text-align:left\">19</th><th style=\"text-align:left\">20</th><th style=\"text-align:left\">21</th><th style=\"text-align:left\">22</th><th style=\"text-align:left\">...</th></tr></thead><tbody><tr><td style=\"text-align:left\">501.0005 <b>𝍪</b></td><td style=\"text-align:left\">0.057</td><td style=\"text-align:left\">2.500</td><td style=\"text-align:left\">0</td><td style=\"text-align:left\">19</td><td style=\"text-align:left\">5</td><td style=\"text-align:left\">3</td><td style=\"text-align:left\">0.1</td><td style=\"text-align:left\">1</td><td style=\"text-align:left\">0.5</td><td style=\"text-align:left\">0.02</td><td style=\"text-align:left\">0.02</td><td style=\"text-align:left\">0</td><td style=\"text-align:left\">1</td><td style=\"text-align:left\">0</td><td style=\"text-align:left\">0.1</td><td style=\"text-align:left\">0</td><td style=\"text-align:left\">3</td><td style=\"text-align:left\">0</td><td style=\"text-align:left\">60</td><td style=\"text-align:left\">0.51518</td><td style=\"text-align:left\">...</td></tr><tr><td style=\"text-align:left\">501.0006 <b>𝍪</b></td><td style=\"text-align:left\">2.557</td><td style=\"text-align:left\">1.000</td><td style=\"text-align:left\">0</td><td style=\"text-align:left\">19</td><td style=\"text-align:left\">2</td><td style=\"text-align:left\">3</td><td style=\"text-align:left\">0.070711</td><td style=\"text-align:left\">1</td><td style=\"text-align:left\">0.5</td><td style=\"text-align:left\">0.02</td><td style=\"text-align:left\">0.02</td><td style=\"text-align:left\">0</td><td style=\"text-align:left\">1</td><td style=\"text-align:left\">0</td><td style=\"text-align:left\">0.1</td><td style=\"text-align:left\">0</td><td style=\"text-align:left\">3</td><td style=\"text-align:left\">0</td><td style=\"text-align:left\">62</td><td style=\"text-align:left\">0.51518</td><td style=\"text-align:left\">...</td></tr><tr><td style=\"text-align:left\">501.0007 <b>𝍪</b></td><td style=\"text-align:left\">2.557</td><td style=\"text-align:left\">1.000</td><td style=\"text-align:left\">0</td><td style=\"text-align:left\">19</td><td style=\"text-align:left\">2</td><td style=\"text-align:left\">3</td><td style=\"text-align:left\">0.070711</td><td style=\"text-align:left\">1</td><td style=\"text-align:left\">0.5</td><td style=\"text-align:left\">0.02</td><td style=\"text-align:left\">0.02</td><td style=\"text-align:left\">0</td><td style=\"text-align:left\">1</td><td style=\"text-align:left\">0</td><td style=\"text-align:left\">0.1</td><td style=\"text-align:left\">0</td><td style=\"text-align:left\">3</td><td style=\"text-align:left\">0</td><td style=\"text-align:left\">65</td><td style=\"text-align:left\">0.51518</td><td style=\"text-align:left\">...</td></tr></tbody></table>"
      ],
      "text/plain": [
       "SynthGroup(n=3)\n",
       "    Synth(𝍪 preset.saw:501.0005, p4=0 idataidx_:5=19 inumbps:6=5 ibplen:7=3 igain:8=0.1 ichan:9=1 ipos:10=0.5 ifadein:11=0.02 ifadeout:12=0.02 ipchintrp_:13=0 ifadekind:14=1 ktransp:15=0 klag:16=0.1 kfreqratio:17=0 kQ:18=3 p19=0 p20=60 p21=0.515178 p22=0.428571 ...)\n",
       "    Synth(𝍪 preset.saw:501.0006, p4=0 idataidx_:5=19 inumbps:6=2 ibplen:7=3 igain:8=0.0707107 ichan:9=1 ipos:10=0.5 ifadein:11=0.02 ifadeout:12=0.02 ipchintrp_:13=0 ifadekind:14=1 ktransp:15=0 klag:16=0.1 kfreqratio:17=0 kQ:18=3 p19=0 p20=62 p21=0.515178 p22=1 ...)\n",
       "    Synth(𝍪 preset.saw:501.0007, p4=0 idataidx_:5=19 inumbps:6=2 ibplen:7=3 igain:8=0.0707107 ichan:9=1 ipos:10=0.5 ifadein:11=0.02 ifadeout:12=0.02 ipchintrp_:13=0 ifadekind:14=1 ktransp:15=0 klag:16=0.1 kfreqratio:17=0 kQ:18=3 p19=0 p20=65 p21=0.515178 p22=1 ...)"
      ]
     },
     "execution_count": 12,
     "metadata": {},
     "output_type": "execute_result"
    }
   ],
   "source": [
    "from maelzel.core import *\n",
    "ch = Chain([\n",
    "    Note(60, dur=0.5, gliss=True),\n",
    "    Note(67, dur=0, gliss=True),\n",
    "    Note(65, 1, gliss=True),\n",
    "    Note(63, 1, gliss=67),\n",
    "    Chord(\"4D 4F\", 1)\n",
    "])\n",
    "ch.show()\n",
    "ch.play(instr='saw', gain=0.1, position=0.5)"
   ]
  },
  {
   "cell_type": "code",
   "execution_count": 13,
   "id": "ab053866-5d21-46f6-bc5f-3da1fc269241",
   "metadata": {},
   "outputs": [
    {
     "name": "stderr",
     "output_type": "stream",
     "text": [
      "DEBUG:maelzel.core:rendering parts with backend: lilypond\n"
     ]
    },
    {
     "name": "stdout",
     "output_type": "stream",
     "text": [
      "DEBUG: Enharmonic spelling - orig. ['4C', '4F', '4F'], horizontal solution=['4C', '4F', '4F']\n",
      "DEBUG: Enharmonic spelling - chord «1.500:2.500 [4D 4F]» - solution: ('4D', '4F')\n",
      "       fixed slots: {'C': 0, 'C+': 0, 'C#': 0, 'D-': 0, 'D': 0, 'D+': 0, 'D#': 0, 'E-': 0, 'E': 0, 'E+': 0, 'F': 0, 'F+': 0, 'F#': 0, 'G-': 0, 'G': 0, 'G+': 0, 'G#': 0, 'A-': 0, 'A': 0, 'A+': 0, 'Bb': 0, 'B-': 0, 'B': 0, 'B+': 0}\n",
      "       variants: [('4D', '4F')]\n"
     ]
    },
    {
     "data": {
      "image/png": "[encoded data removed]",
      "text/plain": [
       "<IPython.core.display.Image object>"
      ]
     },
     "metadata": {
      "image/png": {
       "width": 152
      }
     },
     "output_type": "display_data"
    }
   ],
   "source": [
    "from maelzel.core import *\n",
    "ch = Chain([\n",
    "    Note(60, dur=0.5, gliss=True),\n",
    "    Note(65, 1, gliss=True),\n",
    "    Chord(\"4D 4F\", 1)\n",
    "])\n",
    "ch.show()\n",
    "# ch.events()\n",
    "#ch.play(instr='saw', gain=0.1, position=0.5)"
   ]
  },
  {
   "cell_type": "code",
   "execution_count": 14,
   "id": "565deea4-a362-4a14-b072-4f64e4398c76",
   "metadata": {},
   "outputs": [
    {
     "name": "stderr",
     "output_type": "stream",
     "text": [
      "DEBUG:maelzel.core:rendering parts with backend: lilypond\n"
     ]
    },
    {
     "name": "stdout",
     "output_type": "stream",
     "text": [
      "DEBUG: Enharmonic spelling - orig. ['4C', '4F', '4F', '4G'], horizontal solution=['4C', '4F', '4F', '4G']\n"
     ]
    },
    {
     "data": {
      "image/png": "[encoded data removed]",
      "text/plain": [
       "<IPython.core.display.Image object>"
      ]
     },
     "metadata": {
      "image/png": {
       "width": 159
      }
     },
     "output_type": "display_data"
    },
    {
     "data": {
      "application/vnd.jupyter.widget-view+json": {
       "model_id": "b817386d12ea48328815dead56a81e0d",
       "version_major": 2,
       "version_minor": 0
      },
      "text/plain": [
       "Button(description='Stop', style=ButtonStyle())"
      ]
     },
     "metadata": {},
     "output_type": "display_data"
    },
    {
     "data": {
      "application/vnd.jupyter.widget-view+json": {
       "model_id": "7f6724aaecc645268cf9e4a6c55f4839",
       "version_major": 2,
       "version_minor": 0
      },
      "text/plain": [
       "Output()"
      ]
     },
     "metadata": {},
     "output_type": "display_data"
    },
    {
     "data": {
      "text/html": [
       "<small>SynthGroup - start: 0.068, dur: 2.500, synths: 1</small>\n",
       "<p>instr: <strong style=\"color:MediumSeaGreen\">preset.saw</strong> - <b>1</b> synths</p>\n",
       "<table><thead><tr><th style=\"text-align:left\">p1</th><th style=\"text-align:left\">start</th><th style=\"text-align:left\">dur</th><th style=\"text-align:left\">4</th><th style=\"text-align:left\">5:idataidx_</th><th style=\"text-align:left\">6:inumbps</th><th style=\"text-align:left\">7:ibplen</th><th style=\"text-align:left\">8:igain</th><th style=\"text-align:left\">9:ichan</th><th style=\"text-align:left\">10:ipos</th><th style=\"text-align:left\">11:ifadein</th><th style=\"text-align:left\">12:ifadeout</th><th style=\"text-align:left\">13:ipchintrp_</th><th style=\"text-align:left\">14:ifadekind</th><th style=\"text-align:left\">15:ktransp</th><th style=\"text-align:left\">16:klag</th><th style=\"text-align:left\">17:kfreqratio</th><th style=\"text-align:left\">18:kQ</th><th style=\"text-align:left\">19</th><th style=\"text-align:left\">20</th><th style=\"text-align:left\">21</th><th style=\"text-align:left\">22</th><th style=\"text-align:left\">...</th></tr></thead><tbody><tr><td style=\"text-align:left\">501.0008 <b>𝍪</b></td><td style=\"text-align:left\">0.068</td><td style=\"text-align:left\">2.500</td><td style=\"text-align:left\">0</td><td style=\"text-align:left\">19</td><td style=\"text-align:left\">4</td><td style=\"text-align:left\">3</td><td style=\"text-align:left\">0.1</td><td style=\"text-align:left\">1</td><td style=\"text-align:left\">-1</td><td style=\"text-align:left\">0.02</td><td style=\"text-align:left\">0.02</td><td style=\"text-align:left\">0</td><td style=\"text-align:left\">1</td><td style=\"text-align:left\">0</td><td style=\"text-align:left\">0.1</td><td style=\"text-align:left\">0</td><td style=\"text-align:left\">3</td><td style=\"text-align:left\">0</td><td style=\"text-align:left\">60</td><td style=\"text-align:left\">0.51518</td><td style=\"text-align:left\">...</td></tr></tbody></table>"
      ],
      "text/plain": [
       "SynthGroup(n=1)\n",
       "    Synth(𝍪 preset.saw:501.0008, p4=0 idataidx_:5=19 inumbps:6=4 ibplen:7=3 igain:8=0.1 ichan:9=1 ipos:10=-1 ifadein:11=0.02 ifadeout:12=0.02 ipchintrp_:13=0 ifadekind:14=1 ktransp:15=0 klag:16=0.1 kfreqratio:17=0 kQ:18=3 p19=0 p20=60 p21=0.515178 p22=0.5 ...)"
      ]
     },
     "execution_count": 14,
     "metadata": {},
     "output_type": "execute_result"
    }
   ],
   "source": [
    "from maelzel.core import *\n",
    "ch = Chain([\n",
    "    Note(60, dur=0.5, gliss=True),\n",
    "    Note(65, 1, tied=True),\n",
    "    Note(65, 1, gliss=67)\n",
    "])\n",
    "ch.show()\n",
    "ch.play(instr='saw', gain=0.1)\n",
    "# ch.events()\n",
    "#ch.play(instr='saw', gain=0.1, position=0.5)"
   ]
  },
  {
   "cell_type": "code",
   "execution_count": 16,
   "id": "e5a5492a-9181-4457-a2a8-eb76ca9c1202",
   "metadata": {},
   "outputs": [
    {
     "name": "stderr",
     "output_type": "stream",
     "text": [
      "DEBUG:maelzel.core:rendering parts with backend: lilypond\n"
     ]
    },
    {
     "name": "stdout",
     "output_type": "stream",
     "text": [
      "DEBUG: Enharmonic spelling - orig. ['4D', '4D'], horizontal solution=['4D', '4D']\n"
     ]
    },
    {
     "data": {
      "image/png": "[encoded data removed]",
      "text/plain": [
       "<IPython.core.display.Image object>"
      ]
     },
     "metadata": {
      "image/png": {
       "width": 149
      }
     },
     "output_type": "display_data"
    },
    {
     "data": {
      "text/plain": [
       "[«0.000:1.000 4D»,\n",
       " «1.000:1.500 4D mf attachments=[Articulation(anchor=None, color='', instancePriority=0, kind='accent', properties={})]»]"
      ]
     },
     "execution_count": 16,
     "metadata": {},
     "output_type": "execute_result"
    }
   ],
   "source": [
    "from maelzel.core import *\n",
    "ch = Chain([\n",
    "    Note(\"4D\", 1, tied=True),\n",
    "    Note(\"4D\", 0.5, dynamic='mf').addSymbol('articulation', 'accent')\n",
    "    # Chord(\"4D 4F\", 1)\n",
    "])\n",
    "ch.show()\n",
    "ch.scoringEvents()\n",
    "# ch.events()\n",
    "#ch.play(instr='saw', gain=0.1, position=0.5)"
   ]
  },
  {
   "cell_type": "code",
   "execution_count": 11,
   "id": "44955609-c294-4e28-856d-66368c552ee4",
   "metadata": {},
   "outputs": [
    {
     "name": "stderr",
     "output_type": "stream",
     "text": [
      "DEBUG:maelzel.core:rendering parts with backend: lilypond\n"
     ]
    },
    {
     "name": "stdout",
     "output_type": "stream",
     "text": [
      "['4D', '4F'] [['4D', '4F']] ['4D', '4F']\n",
      ".... «1.000:2.500 [4D 4F] tiedPrev» 4F\n"
     ]
    },
    {
     "data": {
      "image/png": "[encoded data removed]",
      "text/plain": [
       "<IPython.core.display.Image object>"
      ]
     },
     "metadata": {
      "image/png": {
       "width": 139
      }
     },
     "output_type": "display_data"
    },
    {
     "name": "stdout",
     "output_type": "stream",
     "text": [
      "[SynthEvent(delay=0, dur=2.5, gain=1, chan=1, fade=(0.02, 0.02), instr=_piano)\n",
      "bps 0.000s: 62       0.515178\n",
      "    1.000s: 62       0.515178\n",
      "    2.500s: 62       0.515178\n",
      ", SynthEvent(delay=1, dur=1.5, gain=1, chan=1, fade=(0.02, 0.02), instr=_piano)\n",
      "bps 0.000s: 65       0.515178\n",
      "    1.500s: 65       0.515178\n",
      "]\n"
     ]
    },
    {
     "data": {
      "application/vnd.jupyter.widget-view+json": {
       "model_id": "9e47c06fb9a5477baae975d6406427a3",
       "version_major": 2,
       "version_minor": 0
      },
      "text/plain": [
       "Button(description='Stop', style=ButtonStyle())"
      ]
     },
     "metadata": {},
     "output_type": "display_data"
    },
    {
     "data": {
      "application/vnd.jupyter.widget-view+json": {
       "model_id": "dcb0708d144f4d93a15d21c63a69bdae",
       "version_major": 2,
       "version_minor": 0
      },
      "text/plain": [
       "Output()"
      ]
     },
     "metadata": {},
     "output_type": "display_data"
    },
    {
     "data": {
      "text/html": [
       "<small>SynthGroup - start: 0.063, dur: 2.500, synths: 2</small>\n",
       "<p>instr: <strong style=\"color:MediumSeaGreen\">preset._piano</strong> - <b>2</b> synths</p>\n",
       "<table><thead><tr><th style=\"text-align:left\">p1</th><th style=\"text-align:left\">start</th><th style=\"text-align:left\">dur</th><th style=\"text-align:left\">4</th><th style=\"text-align:left\">5:idataidx_</th><th style=\"text-align:left\">6:inumbps</th><th style=\"text-align:left\">7:ibplen</th><th style=\"text-align:left\">8:igain</th><th style=\"text-align:left\">9:ichan</th><th style=\"text-align:left\">10:ipos</th><th style=\"text-align:left\">11:ifadein</th><th style=\"text-align:left\">12:ifadeout</th><th style=\"text-align:left\">13:ipchintrp_</th><th style=\"text-align:left\">14:ifadekind</th><th style=\"text-align:left\">15</th><th style=\"text-align:left\">16</th><th style=\"text-align:left\">...</th></tr></thead><tbody><tr><td style=\"text-align:left\">501.0003 <b>𝍪</b></td><td style=\"text-align:left\">0.063</td><td style=\"text-align:left\">2.500</td><td style=\"text-align:left\">0</td><td style=\"text-align:left\">15</td><td style=\"text-align:left\">3</td><td style=\"text-align:left\">3</td><td style=\"text-align:left\">1</td><td style=\"text-align:left\">1</td><td style=\"text-align:left\">-1</td><td style=\"text-align:left\">0.02</td><td style=\"text-align:left\">0.02</td><td style=\"text-align:left\">0</td><td style=\"text-align:left\">1</td><td style=\"text-align:left\">0</td><td style=\"text-align:left\">...</td></tr><tr><td style=\"text-align:left\">501.0004 <b>𝍪</b></td><td style=\"text-align:left\">1.063</td><td style=\"text-align:left\">1.500</td><td style=\"text-align:left\">0</td><td style=\"text-align:left\">15</td><td style=\"text-align:left\">2</td><td style=\"text-align:left\">3</td><td style=\"text-align:left\">1</td><td style=\"text-align:left\">1</td><td style=\"text-align:left\">-1</td><td style=\"text-align:left\">0.02</td><td style=\"text-align:left\">0.02</td><td style=\"text-align:left\">0</td><td style=\"text-align:left\">1</td><td style=\"text-align:left\">0</td><td style=\"text-align:left\">...</td></tr></tbody></table>"
      ],
      "text/plain": [
       "SynthGroup(n=2)\n",
       "    Synth(𝍪 preset._piano:501.0003, p4=0 idataidx_:5=15 inumbps:6=3 ibplen:7=3 igain:8=1 ichan:9=1 ipos:10=-1 ifadein:11=0.02 ifadeout:12=0.02 ipchintrp_:13=0 ifadekind:14=1 p15=0 p16=62 ...)\n",
       "    Synth(𝍪 preset._piano:501.0004, p4=0 idataidx_:5=15 inumbps:6=2 ibplen:7=3 igain:8=1 ichan:9=1 ipos:10=-1 ifadein:11=0.02 ifadeout:12=0.02 ipchintrp_:13=0 ifadekind:14=1 p15=0 p16=65 ...)"
      ]
     },
     "execution_count": 11,
     "metadata": {},
     "output_type": "execute_result"
    }
   ],
   "source": [
    "from maelzel.core import *\n",
    "ch = Chain([\n",
    "    Note(\"4D\", 1, tied=True),\n",
    "    Chord(\"4D 4F\", 1.5),\n",
    "    # Chord(\"4D 4F\", 1)\n",
    "])\n",
    "ch.show()\n",
    "print(ch.events())\n",
    "ch.play()\n",
    "# ch.events()\n",
    "#ch.play(instr='saw', gain=0.1, position=0.5)"
   ]
  },
  {
   "cell_type": "code",
   "execution_count": 1,
   "id": "ae56a2ec-8ea9-4b37-a525-5e1deb53d652",
   "metadata": {},
   "outputs": [
    {
     "name": "stdout",
     "output_type": "stream",
     "text": [
      "csoundengine.magic extension loaded\n",
      "Magics available: %csound, %%csound, %%definstr\n"
     ]
    },
    {
     "data": {
      "image/png": "[encoded data removed]",
      "text/plain": [
       "<IPython.core.display.Image object>"
      ]
     },
     "metadata": {
      "image/png": {
       "width": 241
      }
     },
     "output_type": "display_data"
    },
    {
     "data": {
      "text/plain": [
       "[«0.000:0.333 tiedNext [4D 4F]», «0.333:1.833 tiedPrev [4D 4F] mf»]"
      ]
     },
     "execution_count": 1,
     "metadata": {},
     "output_type": "execute_result"
    }
   ],
   "source": [
    "from maelzel.core import *\n",
    "ch = Chain([\n",
    "    Chord(\"4D 4F\", 1/3, tied=True),\n",
    "    Chord(\"4D 4F\", 1.5, dynamic='mf'),\n",
    "    # Chord(\"4D 4F\", 1)\n",
    "])\n",
    "ch.show()\n",
    "ch.scoringEvents()\n",
    "#print(ch.events())\n",
    "#ch.play()"
   ]
  },
  {
   "cell_type": "code",
   "execution_count": 2,
   "id": "c83d9ad2-8119-403e-8a37-07d80148aa2a",
   "metadata": {},
   "outputs": [
    {
     "name": "stderr",
     "output_type": "stream",
     "text": [
      "\n",
      "\n",
      "--Csound version 6.18 (double samples) Dec 11 2022\n",
      "[commit: 470942b7d015b1fa100f577ec28d46ee7c753ef6]\n",
      "\u001b[mlibsndfile-1.0.31\n",
      "\u001b[msr = 44100.0,\u001b[m kr = 689.062,\u001b[m ksmps = 64\n",
      "\u001b[m0dBFS level = 1.0,\u001b[m A4 tuning = 442.0\n",
      "\u001b[maudio buffered in 256 sample-frame blocks\n",
      "\u001b[mreading 1024-byte blks of shorts from adc:system:capture (RAW)\n",
      "writing 512 sample blks of 64-bit floats to dac:system:playback\n",
      "SECTION 1:\n",
      "\u001b[m"
     ]
    },
    {
     "data": {
      "text/plain": [
       "[SynthEvent(delay=0, dur=2.5, gain=1, chan=1, fade=(0.02, 0.02), instr=_piano)\n",
       " bps 0.000s: 62       0.515178\n",
       "     1.000s: 65       0.515178\n",
       "     2.500s: 65       0.515178,\n",
       " SynthEvent(delay=0, dur=2.5, gain=1, chan=1, fade=(0.02, 0.02), instr=_piano)\n",
       " bps 0.000s: 65       0.515178\n",
       "     1.000s: 68       0.515178\n",
       "     2.500s: 68       0.515178]"
      ]
     },
     "execution_count": 2,
     "metadata": {},
     "output_type": "execute_result"
    }
   ],
   "source": [
    "from maelzel.core import *\n",
    "\n",
    "ch = Chain([\n",
    "    Chord(\"4D 4F\", 1, gliss=True),\n",
    "    Chord(\"4F 4Ab\", 1.5, dynamic='mf'),\n",
    "])\n",
    "\n",
    "ch.play()\n",
    "ch.events()"
   ]
  },
  {
   "cell_type": "code",
   "execution_count": 3,
   "id": "a18443f3-44fa-461a-8057-fb8a95078170",
   "metadata": {},
   "outputs": [
    {
     "data": {
      "image/png": "[encoded data removed]",
      "text/plain": [
       "<IPython.core.display.Image object>"
      ]
     },
     "metadata": {
      "image/png": {
       "width": 223
      }
     },
     "output_type": "display_data"
    },
    {
     "data": {
      "text/plain": [
       "[SynthEvent(delay=0, dur=4.5, gain=0.05, chan=1, fade=(0.5, 0.5), instr=saw, args={'kfreqratio': 10})\n",
       " bps 0.000s: 62       0.515178\n",
       "     2.000s: 62       0.515178\n",
       "     3.000s: 65       0.515178\n",
       "     4.500s: 65       0.515178,\n",
       " SynthEvent(delay=0, dur=4.5, gain=0.05, chan=1, fade=(0.5, 0.5), instr=saw, args={'kfreqratio': 10})\n",
       " bps 0.000s: 65       0.515178\n",
       "     2.000s: 65       0.515178\n",
       "     3.000s: 68       0.515178\n",
       "     4.500s: 68       0.515178]"
      ]
     },
     "execution_count": 3,
     "metadata": {},
     "output_type": "execute_result"
    }
   ],
   "source": [
    "from maelzel.core import *\n",
    "\n",
    "ch = Chain([\n",
    "    Chord(\"4D 4F\", 2, tied=True, dynamic='p').addSymbol('articulation', 'tenuto'),\n",
    "    Chord(\"4D 4F\", 1, gliss=True).addSpanner('<'),\n",
    "    Chord(\"4F 4Ab\", 1.5, dynamic='mf').addSymbol('articulation', 'accent'),\n",
    "    # Chord(\"4D 4F\", 1)\n",
    "])\n",
    "ch.show()\n",
    "ch.setPlay(instr='saw', gain=0.05, args={'kfreqratio': 10})\n",
    "\n",
    "ch.play()\n",
    "ch.events(fade=0.5)"
   ]
  },
  {
   "cell_type": "code",
   "execution_count": 4,
   "id": "68373978-0627-4bce-bfdb-98c77c454e21",
   "metadata": {},
   "outputs": [
    {
     "data": {
      "text/html": [
       "<code style=\"font-size:0.9em\">Chain([<span style=\"color:#6666E0\">4C:1♩:offset=0.5</span>, <span style=\"color:#6666E0\">4D:0.5♩</span>], dur=2, offset=2.0)</code><br>\n",
       "        <img style=\"display:inline; padding:10px;\n",
       "margin-top:14px;\n",
       "width:149px\"\n",
       "             src=\"data:image/png;base64,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\"/>"
      ],
      "text/plain": [
       "Chain([4C:1♩:offset=0.5, 4D:0.5♩], offset=2.0)"
      ]
     },
     "execution_count": 4,
     "metadata": {},
     "output_type": "execute_result"
    }
   ],
   "source": [
    "ch = Chain([\"4C:1:offset=0.5\", \"4D:0.5\"], offset=2)\n",
    "ch"
   ]
  },
  {
   "cell_type": "code",
   "execution_count": 9,
   "id": "ed6e2dfd-2805-4116-8594-8e858ebc90f4",
   "metadata": {},
   "outputs": [
    {
     "name": "stdout",
     "output_type": "stream",
     "text": [
      "28.2 µs ± 786 ns per loop (mean ± std. dev. of 7 runs, 10000 loops each)\n"
     ]
    }
   ],
   "source": [
    "%timeit v = ch.asVoice()\n",
    "# v"
   ]
  },
  {
   "cell_type": "code",
   "execution_count": null,
   "id": "96739a6d-6cf4-48f7-b295-279c273f30da",
   "metadata": {},
   "outputs": [],
   "source": []
  }
 ],
 "metadata": {
  "kernelspec": {
   "display_name": "Python 3 (ipykernel)",
   "language": "python",
   "name": "python3"
  },
  "language_info": {
   "codemirror_mode": {
    "name": "ipython",
    "version": 3
   },
   "file_extension": ".py",
   "mimetype": "text/x-python",
   "name": "python",
   "nbconvert_exporter": "python",
   "pygments_lexer": "ipython3",
   "version": "3.9.15"
  }
 },
 "nbformat": 4,
 "nbformat_minor": 5
}
