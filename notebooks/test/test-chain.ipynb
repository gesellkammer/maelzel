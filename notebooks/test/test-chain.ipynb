{
 "cells": [
  {
   "cell_type": "code",
   "execution_count": 1,
   "id": "76c88e1e-2125-4fdf-bb40-d81eeac180e3",
   "metadata": {},
   "outputs": [
    {
     "name": "stderr",
     "output_type": "stream",
     "text": [
      "CoreConfig: key show.debugEnharmonicSpelling does not have documentation\n"
     ]
    }
   ],
   "source": [
    "from maelzel.core import *\n",
    "from maelzel.scoring import enharmonics\n",
    "from maelzel.scoring import Notation\n",
    "logger.setLevel(\"DEBUG\")\n",
    "\n",
    "c = getConfig()\n",
    "c['show.debugEnharmonicSpelling'] = False\n"
   ]
  },
  {
   "cell_type": "code",
   "execution_count": 2,
   "id": "81fa549c-d405-4407-ae98-fb499dba676a",
   "metadata": {},
   "outputs": [],
   "source": [
    "setScoreStruct(ScoreStruct('6/4, 60'))"
   ]
  },
  {
   "cell_type": "code",
   "execution_count": 3,
   "id": "a53c6aad-455a-45c8-8e6d-c3dbb05e2910",
   "metadata": {},
   "outputs": [
    {
     "name": "stderr",
     "output_type": "stream",
     "text": [
      "DEBUG:maelzel.core:rendering parts with backend: lilypond\n"
     ]
    },
    {
     "data": {
      "image/png": "[encoded data removed]",
      "text/plain": [
       "<IPython.core.display.Image object>"
      ]
     },
     "metadata": {
      "image/png": {
       "width": 198
      }
     },
     "output_type": "display_data"
    },
    {
     "data": {
      "text/html": [
       "<code><span style=\"font-size: 85%\"><b>Chain</b> - beat: 1.0, offset: 1, dur: 4.5</span></code><br><code><span style=\"color:#BBBBBB;font-size:85%\">  beat   offset      dur         name      gliss dyn  playargs            info                </span></code><br><code><span style=\"color:#9090FF;font-size:85%\">  1      (0.0)       2.5         4C        False      None                -</span></code><br><code><span style=\"color:#9090FF;font-size:85%\">  3.5    (2.5)       0.5         4D        False      None                -</span></code><br><code><span style=\"font-size: 85%\">  <b>Chain</b> - beat: 4.0, offset: None, dur: 1.5</span></code><br><code><span style=\"color:#BBBBBB;font-size:85%\">    beat   offset      dur         name      gliss dyn  playargs            info                </span></code><br><code><span style=\"color:#9090FF;font-size:85%\">    5      1           0.5         4E        False None None                -</span></code>"
      ],
      "text/plain": [
       "<IPython.core.display.HTML object>"
      ]
     },
     "metadata": {},
     "output_type": "display_data"
    }
   ],
   "source": [
    "ch = Chain([\n",
    "    Note(\"4C\", 2.5),\n",
    "    Note(\"4D\", 0.5),\n",
    "    Chain([\"4E:0.5:offset=1\"])\n",
    "    \n",
    "], offset=1)\n",
    "ch.show()\n",
    "ch.dump()\n",
    "#ch.play()"
   ]
  },
  {
   "cell_type": "code",
   "execution_count": 4,
   "id": "2e530757-e63e-4f1f-b542-ddd63c60f719",
   "metadata": {},
   "outputs": [
    {
     "name": "stderr",
     "output_type": "stream",
     "text": [
      "DEBUG:maelzel.core:rendering parts with backend: lilypond\n"
     ]
    },
    {
     "data": {
      "image/png": "[encoded data removed]",
      "text/plain": [
       "<IPython.core.display.Image object>"
      ]
     },
     "metadata": {
      "image/png": {
       "width": 302
      }
     },
     "output_type": "display_data"
    },
    {
     "data": {
      "text/html": [
       "<code><span style=\"font-size: 85%\"><b>Chain</b> - beat: 1.0, offset: 1, dur: 6.5</span></code><br><code><span style=\"color:#BBBBBB;font-size:85%\">  beat   offset      dur         name    gliss dyn  playargs            info                </span></code><br><code><span style=\"color:#9090FF;font-size:85%\">  1      (0.0)       2.5         4C      False      None                -</span></code><br><code><span style=\"color:#9090FF;font-size:85%\">  3.5    (2.5)       (0.5)       4D      False      None                -</span></code><br><code><span style=\"color:#9090FF;font-size:85%\">  4      3           1           4E      False      None                -</span></code><br><code><span style=\"font-size: 85%\">  <b>Chain</b> - beat: 6.0, offset: 5, dur: 1.5</span></code><br><code><span style=\"color:#BBBBBB;font-size:85%\">    beat   offset      dur         name    gliss dyn  playargs            info                </span></code><br><code><span style=\"color:#9090FF;font-size:85%\">    6      (0.0)       1.5         4D#,4E- False      None                -</span></code>"
      ],
      "text/plain": [
       "<IPython.core.display.HTML object>"
      ]
     },
     "metadata": {},
     "output_type": "display_data"
    }
   ],
   "source": [
    "ch = Chain([\n",
    "    Note(\"4C\", 2.5),\n",
    "    Note(\"4D\"),\n",
    "    Note(\"4E\", 1, offset=3), \n",
    "    Chain([Chord(\"4D# 4E-\", 1.5)], offset=5)\n",
    "], offset=1)\n",
    "\n",
    "ch.show()\n",
    "ch.dump()"
   ]
  },
  {
   "cell_type": "code",
   "execution_count": 5,
   "id": "1d999301-d9c1-4f11-8b02-9471596c4785",
   "metadata": {},
   "outputs": [
    {
     "name": "stdout",
     "output_type": "stream",
     "text": [
      "«1.000:3.500 4C»\n",
      "«3.500:4.000 4D»\n",
      "«4.000:5.000 4E»\n",
      "«6.000:7.500 [4D# 4E-]»\n"
     ]
    }
   ],
   "source": [
    "ch.scoringParts()[0].dump()"
   ]
  },
  {
   "cell_type": "code",
   "execution_count": 6,
   "id": "e655f94f-b057-406c-8191-d55eae8b9647",
   "metadata": {},
   "outputs": [
    {
     "name": "stderr",
     "output_type": "stream",
     "text": [
      "DEBUG:maelzel.core:rendering parts with backend: lilypond\n"
     ]
    },
    {
     "data": {
      "text/html": [
       "<code style=\"font-size:0.9em\">Chain([<span style=\"color:#6666E0\">4C:2.5♩:offset=0</span>, <span style=\"color:#6666E0\">4D:0.5♩:offset=2.5</span>, <span style=\"color:#6666E0\">4E:1♩:offset=3</span>, <span style=\"color:#6666E0\">‹4D# 4E- 1.5♩ offset=5›</span>], dur=6.5, offset=1.0)</code><br>\n",
       "        <img style=\"display:inline; padding:10px;\n",
       "margin-top:14px;\n",
       "width:302px\"\n",
       "             src=\"data:image/png;base64,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\"/>"
      ],
      "text/plain": [
       "Chain([4C:2.5♩:offset=0, 4D:0.5♩:offset=2.5, 4E:1♩:offset=3, ‹4D# 4E- 1.5♩ offset=5›], offset=1.0)"
      ]
     },
     "execution_count": 6,
     "metadata": {},
     "output_type": "execute_result"
    }
   ],
   "source": [
    "ch.flat()"
   ]
  },
  {
   "cell_type": "code",
   "execution_count": 7,
   "id": "5f42a9ba-9c62-46a1-aa6c-5f9d90638637",
   "metadata": {},
   "outputs": [
    {
     "name": "stdout",
     "output_type": "stream",
     "text": [
      "213 µs ± 16.1 µs per loop (mean ± std. dev. of 7 runs, 1000 loops each)\n"
     ]
    }
   ],
   "source": [
    "%timeit ch.events()"
   ]
  },
  {
   "cell_type": "code",
   "execution_count": 8,
   "id": "18b18a47-50a1-4622-a892-8f7cdd72cadf",
   "metadata": {},
   "outputs": [
    {
     "name": "stderr",
     "output_type": "stream",
     "text": [
      "DEBUG:maelzel.core:rendering parts with backend: lilypond\n"
     ]
    },
    {
     "data": {
      "image/png": "[encoded data removed]",
      "text/plain": [
       "<IPython.core.display.Image object>"
      ]
     },
     "metadata": {
      "image/png": {
       "width": 195
      }
     },
     "output_type": "display_data"
    }
   ],
   "source": [
    "ch = Chain([\n",
    "    Note(\"4C\", 2.5, gliss=True),\n",
    "    Note(\"4D\", 0.5),\n",
    "    Chord(\"4E 4F-\", 1)\n",
    "], offset=1)\n",
    "ch.show()\n",
    "#ch.play()"
   ]
  },
  {
   "cell_type": "code",
   "execution_count": 9,
   "id": "ba5c1c16-c282-4e52-b33b-b682b6e964a1",
   "metadata": {},
   "outputs": [
    {
     "name": "stderr",
     "output_type": "stream",
     "text": [
      "DEBUG:maelzel.core:rendering parts with backend: lilypond\n"
     ]
    },
    {
     "data": {
      "text/html": [
       "<code style=\"font-size:0.9em\">Chain([<span style=\"color:#6666E0\">4C:1♩</span>, <span style=\"color:#6666E0\">‹4A 4B 1♩›</span>], dur=2)</code><br>\n",
       "        <img style=\"display:inline; padding:10px;\n",
       "margin-top:14px;\n",
       "width:137px\"\n",
       "             src=\"data:image/png;base64,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\"/>"
      ],
      "text/plain": [
       "Chain([4C:1♩, ‹4A 4B 1♩›])"
      ]
     },
     "execution_count": 9,
     "metadata": {},
     "output_type": "execute_result"
    }
   ],
   "source": [
    "ch = Chain([\n",
    "    Note(\"4C\", dur=1, label=\"test\"),\n",
    "    Chord(\"4A 4B\", dur=1, label=\"chord!\")\n",
    "])\n",
    "ch"
   ]
  },
  {
   "cell_type": "code",
   "execution_count": 19,
   "id": "96f7d23b-8d83-4eb4-a906-b6eea30c1137",
   "metadata": {},
   "outputs": [
    {
     "name": "stderr",
     "output_type": "stream",
     "text": [
      "DEBUG:maelzel.core:rendering parts with backend: lilypond\n"
     ]
    },
    {
     "name": "stdout",
     "output_type": "stream",
     "text": [
      "['4C', '4D-'] [['4C', '4D-'], ['4C', '4C#+']] ['4C', '4D-']\n"
     ]
    },
    {
     "data": {
      "text/html": [
       "<code style=\"font-size:0.9em\">Voice([<span style=\"color:#6666E0\">Rest:0.5♩</span>, <span style=\"color:#6666E0\">4C:0.5♩</span>, <span style=\"color:#6666E0\">4D-:1.5♩</span>], dur=2.5, offset=0.0)</code><br>\n",
       "        <img style=\"display:inline; padding:10px;\n",
       "margin-top:14px;\n",
       "width:175px\"\n",
       "             src=\"data:image/png;base64,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\"/>"
      ],
      "text/plain": [
       "Voice([Rest:0.5♩, 4C:0.5♩, 4D-:1.5♩], offset=0.0)"
      ]
     },
     "execution_count": 19,
     "metadata": {},
     "output_type": "execute_result"
    }
   ],
   "source": [
    "v = Voice([Rest(0.5), Note(\"C4\", 0.5), \"4D-/4.\"])\n",
    "v"
   ]
  },
  {
   "cell_type": "code",
   "execution_count": 9,
   "id": "0263141d-06a9-46c8-b59c-9fb8fdf275dc",
   "metadata": {},
   "outputs": [
    {
     "name": "stderr",
     "output_type": "stream",
     "text": [
      "DEBUG:maelzel.core:rendering parts with backend: lilypond\n"
     ]
    },
    {
     "name": "stdout",
     "output_type": "stream",
     "text": [
      "DEBUG: Enharmonic spelling - orig. ['5C', '5G', '5G', '5G', '5C', '5G'], horizontal solution=['5C', '5G', '5G', '5G', '5C', '5G']\n",
      "DEBUG: Enharmonic spelling - orig. ['5G', '5C', '5G', '5G', '5G', '5C'], horizontal solution=['5G', '5C', '5G', '5G', '5G', '5C']\n",
      "DEBUG: Enharmonic spelling - orig. ['5G', '5G', '5C', '5G', '5G', '5G'], horizontal solution=['5G', '5G', '5C', '5G', '5G', '5G']\n"
     ]
    },
    {
     "data": {
      "text/html": [
       "<code style=\"font-size:0.9em\">Score(1 voices)</code><br>\n",
       "        <img style=\"display:inline; padding:10px;\n",
       "margin-top:14px;\n",
       "width:306px\"\n",
       "             src=\"data:image/png;base64,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\"/>"
      ],
      "text/plain": [
       "Score(1 voices)"
      ]
     },
     "execution_count": 9,
     "metadata": {},
     "output_type": "execute_result"
    }
   ],
   "source": [
    "sco = getScoreStruct()\n",
    "click = sco.makeClickTrack(minMeasures=3)\n",
    "click\n"
   ]
  },
  {
   "cell_type": "code",
   "execution_count": 14,
   "id": "9fe1f524-f930-4544-a365-4288fb955f5a",
   "metadata": {},
   "outputs": [
    {
     "data": {
      "image/png": "[encoded data removed]",
      "text/plain": [
       "<IPython.core.display.Image object>"
      ]
     },
     "metadata": {
      "image/png": {
       "width": 617
      }
     },
     "output_type": "display_data"
    },
    {
     "data": {
      "application/vnd.jupyter.widget-view+json": {
       "model_id": "1dd93a294bad4b479f3aa3147a1d7a21",
       "version_major": 2,
       "version_minor": 0
      },
      "text/plain": [
       "Button(description='Stop', style=ButtonStyle())"
      ]
     },
     "metadata": {},
     "output_type": "display_data"
    },
    {
     "data": {
      "application/vnd.jupyter.widget-view+json": {
       "model_id": "1171544c357a43c3b0737f5e43fe954b",
       "version_major": 2,
       "version_minor": 0
      },
      "text/plain": [
       "Output()"
      ]
     },
     "metadata": {},
     "output_type": "display_data"
    },
    {
     "data": {
      "text/html": [
       "<small>SynthGroup - start: 0.136, dur: 15.000, synths: 24</small>\n",
       "<p>instr: <strong style=\"color:MediumSeaGreen\">preset._click</strong> - <b>15</b> synths</p>\n",
       "<table><thead><tr><th style=\"text-align:left\">p1</th><th style=\"text-align:left\">start</th><th style=\"text-align:left\">dur</th><th style=\"text-align:left\">4</th><th style=\"text-align:left\">5:idataidx_</th><th style=\"text-align:left\">6:inumbps</th><th style=\"text-align:left\">7:ibplen</th><th style=\"text-align:left\">8:igain_</th><th style=\"text-align:left\">9:ichan_</th><th style=\"text-align:left\">10:ipos</th><th style=\"text-align:left\">11:ifade0</th><th style=\"text-align:left\">12:ifade1</th><th style=\"text-align:left\">13:ipchintrp_</th><th style=\"text-align:left\">14:ifadekind_</th><th style=\"text-align:left\">15:ktransp</th><th style=\"text-align:left\">16</th><th style=\"text-align:left\">17</th><th style=\"text-align:left\">18</th><th style=\"text-align:left\">19</th><th style=\"text-align:left\">...</th><th style=\"text-align:left\">20</th><th style=\"text-align:left\">...</th><th style=\"text-align:left\">21</th></tr></thead><tbody><tr><td style=\"text-align:left\">1002.0092 <b>𝍪</b></td><td style=\"text-align:left\">0.136</td><td style=\"text-align:left\">1.000</td><td style=\"text-align:left\">0</td><td style=\"text-align:left\">16</td><td style=\"text-align:left\">2</td><td style=\"text-align:left\">3</td><td style=\"text-align:left\">1</td><td style=\"text-align:left\">1</td><td style=\"text-align:left\">-1</td><td style=\"text-align:left\">0</td><td style=\"text-align:left\">0.1</td><td style=\"text-align:left\">0</td><td style=\"text-align:left\">1</td><td style=\"text-align:left\">24</td><td style=\"text-align:left\">0</td><td style=\"text-align:left\">72</td><td style=\"text-align:left\">0.51518</td><td style=\"text-align:left\">...</td></tr><tr><td style=\"text-align:left\">1002.0093 <b>𝍪</b></td><td style=\"text-align:left\">1.136</td><td style=\"text-align:left\">1.000</td><td style=\"text-align:left\">0</td><td style=\"text-align:left\">16</td><td style=\"text-align:left\">2</td><td style=\"text-align:left\">3</td><td style=\"text-align:left\">1</td><td style=\"text-align:left\">1</td><td style=\"text-align:left\">-1</td><td style=\"text-align:left\">0</td><td style=\"text-align:left\">0.1</td><td style=\"text-align:left\">0</td><td style=\"text-align:left\">1</td><td style=\"text-align:left\">24</td><td style=\"text-align:left\">0</td><td style=\"text-align:left\">79</td><td style=\"text-align:left\">0.51518</td><td style=\"text-align:left\">...</td></tr><tr><td style=\"text-align:left\">1002.0094 <b>𝍪</b></td><td style=\"text-align:left\">2.136</td><td style=\"text-align:left\">1.000</td><td style=\"text-align:left\">0</td><td style=\"text-align:left\">16</td><td style=\"text-align:left\">2</td><td style=\"text-align:left\">3</td><td style=\"text-align:left\">1</td><td style=\"text-align:left\">1</td><td style=\"text-align:left\">-1</td><td style=\"text-align:left\">0</td><td style=\"text-align:left\">0.1</td><td style=\"text-align:left\">0</td><td style=\"text-align:left\">1</td><td style=\"text-align:left\">24</td><td style=\"text-align:left\">0</td><td style=\"text-align:left\">79</td><td style=\"text-align:left\">0.51518</td><td style=\"text-align:left\">...</td></tr><tr><td style=\"text-align:left\">1002.0095 <b>𝍪</b></td><td style=\"text-align:left\">3.136</td><td style=\"text-align:left\">1.000</td><td style=\"text-align:left\">0</td><td style=\"text-align:left\">16</td><td style=\"text-align:left\">2</td><td style=\"text-align:left\">3</td><td style=\"text-align:left\">1</td><td style=\"text-align:left\">1</td><td style=\"text-align:left\">-1</td><td style=\"text-align:left\">0</td><td style=\"text-align:left\">0.1</td><td style=\"text-align:left\">0</td><td style=\"text-align:left\">1</td><td style=\"text-align:left\">24</td><td style=\"text-align:left\">0</td><td style=\"text-align:left\">79</td><td style=\"text-align:left\">0.51518</td><td style=\"text-align:left\">...</td></tr><tr><td style=\"text-align:left\">...</td></tr></tbody></table>\n",
       "<p>instr: <strong style=\"color:MediumSeaGreen\">preset._piano</strong> - <b>9</b> synths</p>\n",
       "<table><thead><tr><th style=\"text-align:left\">p1</th><th style=\"text-align:left\">start</th><th style=\"text-align:left\">dur</th><th style=\"text-align:left\">4</th><th style=\"text-align:left\">5:idataidx_</th><th style=\"text-align:left\">6:inumbps</th><th style=\"text-align:left\">7:ibplen</th><th style=\"text-align:left\">8:igain_</th><th style=\"text-align:left\">9:ichan_</th><th style=\"text-align:left\">10:ipos</th><th style=\"text-align:left\">11:ifade0</th><th style=\"text-align:left\">12:ifade1</th><th style=\"text-align:left\">13:ipchintrp_</th><th style=\"text-align:left\">14:ifadekind_</th><th style=\"text-align:left\">15</th><th style=\"text-align:left\">16</th><th style=\"text-align:left\">...</th><th style=\"text-align:left\">17</th><th style=\"text-align:left\">...</th><th style=\"text-align:left\">18</th><th style=\"text-align:left\">...</th><th style=\"text-align:left\">19</th><th style=\"text-align:left\">...</th><th style=\"text-align:left\">20</th></tr></thead><tbody><tr><td style=\"text-align:left\">1001.0037 <b>𝍪</b></td><td style=\"text-align:left\">1.136</td><td style=\"text-align:left\">2.500</td><td style=\"text-align:left\">0</td><td style=\"text-align:left\">15</td><td style=\"text-align:left\">2</td><td style=\"text-align:left\">3</td><td style=\"text-align:left\">1</td><td style=\"text-align:left\">1</td><td style=\"text-align:left\">-1</td><td style=\"text-align:left\">0.02</td><td style=\"text-align:left\">0.02</td><td style=\"text-align:left\">0</td><td style=\"text-align:left\">1</td><td style=\"text-align:left\">0</td><td style=\"text-align:left\">...</td></tr><tr><td style=\"text-align:left\">1001.0038 <b>𝍪</b></td><td style=\"text-align:left\">3.636</td><td style=\"text-align:left\">0.500</td><td style=\"text-align:left\">0</td><td style=\"text-align:left\">15</td><td style=\"text-align:left\">2</td><td style=\"text-align:left\">3</td><td style=\"text-align:left\">1</td><td style=\"text-align:left\">1</td><td style=\"text-align:left\">-1</td><td style=\"text-align:left\">0.02</td><td style=\"text-align:left\">0.02</td><td style=\"text-align:left\">0</td><td style=\"text-align:left\">1</td><td style=\"text-align:left\">0</td><td style=\"text-align:left\">...</td></tr><tr><td style=\"text-align:left\">1001.0039 <b>𝍪</b></td><td style=\"text-align:left\">4.136</td><td style=\"text-align:left\">1.000</td><td style=\"text-align:left\">0</td><td style=\"text-align:left\">15</td><td style=\"text-align:left\">2</td><td style=\"text-align:left\">3</td><td style=\"text-align:left\">0.70711</td><td style=\"text-align:left\">1</td><td style=\"text-align:left\">-1</td><td style=\"text-align:left\">0.02</td><td style=\"text-align:left\">0.02</td><td style=\"text-align:left\">0</td><td style=\"text-align:left\">1</td><td style=\"text-align:left\">0</td><td style=\"text-align:left\">...</td></tr><tr><td style=\"text-align:left\">1001.004 <b>𝍪</b></td><td style=\"text-align:left\">4.136</td><td style=\"text-align:left\">1.000</td><td style=\"text-align:left\">0</td><td style=\"text-align:left\">15</td><td style=\"text-align:left\">2</td><td style=\"text-align:left\">3</td><td style=\"text-align:left\">0.70711</td><td style=\"text-align:left\">1</td><td style=\"text-align:left\">-1</td><td style=\"text-align:left\">0.02</td><td style=\"text-align:left\">0.02</td><td style=\"text-align:left\">0</td><td style=\"text-align:left\">1</td><td style=\"text-align:left\">0</td><td style=\"text-align:left\">...</td></tr><tr><td style=\"text-align:left\">...</td></tr></tbody></table>"
      ],
      "text/plain": [
       "SynthGroup(n=24)\n",
       "    Synth(𝍪 preset._click:1002.0092, p4=0 idataidx_:5=16 inumbps:6=2 ibplen:7=3 igain_:8=1 ichan_:9=1 ipos:10=-1 ifade0:11=0 ifade1:12=0.1 ipchintrp_:13=0 ifadekind_:14=1 ktransp:15=24 p16=0 p17=72 p18=0.515178 p19=1 ...)\n",
       "    Synth(𝍪 preset._click:1002.0093, p4=0 idataidx_:5=16 inumbps:6=2 ibplen:7=3 igain_:8=1 ichan_:9=1 ipos:10=-1 ifade0:11=0 ifade1:12=0.1 ipchintrp_:13=0 ifadekind_:14=1 ktransp:15=24 p16=0 p17=79 p18=0.515178 p19=1 ...)\n",
       "    Synth(𝍪 preset._click:1002.0094, p4=0 idataidx_:5=16 inumbps:6=2 ibplen:7=3 igain_:8=1 ichan_:9=1 ipos:10=-1 ifade0:11=0 ifade1:12=0.1 ipchintrp_:13=0 ifadekind_:14=1 ktransp:15=24 p16=0 p17=79 p18=0.515178 p19=1 ...)\n",
       "    Synth(𝍪 preset._click:1002.0095, p4=0 idataidx_:5=16 inumbps:6=2 ibplen:7=3 igain_:8=1 ichan_:9=1 ipos:10=-1 ifade0:11=0 ifade1:12=0.1 ipchintrp_:13=0 ifadekind_:14=1 ktransp:15=24 p16=0 p17=79 p18=0.515178 p19=1 ...)\n",
       "    Synth(𝍪 preset._click:1002.0096, p4=0 idataidx_:5=16 inumbps:6=2 ibplen:7=3 igain_:8=1 ichan_:9=1 ipos:10=-1 ifade0:11=0 ifade1:12=0.1 ipchintrp_:13=0 ifadekind_:14=1 ktransp:15=24 p16=0 p17=79 p18=0.515178 p19=1 ...)\n",
       "    Synth(𝍪 preset._click:1002.0097, p4=0 idataidx_:5=16 inumbps:6=2 ibplen:7=3 igain_:8=1 ichan_:9=1 ipos:10=-1 ifade0:11=0 ifade1:12=0.1 ipchintrp_:13=0 ifadekind_:14=1 ktransp:15=24 p16=0 p17=72 p18=0.515178 p19=1 ...)\n",
       "    Synth(𝍪 preset._click:1002.0098, p4=0 idataidx_:5=16 inumbps:6=2 ibplen:7=3 igain_:8=1 ichan_:9=1 ipos:10=-1 ifade0:11=0 ifade1:12=0.1 ipchintrp_:13=0 ifadekind_:14=1 ktransp:15=24 p16=0 p17=79 p18=0.515178 p19=1 ...)\n",
       "    Synth(𝍪 preset._click:1002.0099, p4=0 idataidx_:5=16 inumbps:6=2 ibplen:7=3 igain_:8=1 ichan_:9=1 ipos:10=-1 ifade0:11=0 ifade1:12=0.1 ipchintrp_:13=0 ifadekind_:14=1 ktransp:15=24 p16=0 p17=79 p18=0.515178 p19=1 ...)\n",
       "    Synth(𝍪 preset._click:1002.01, p4=0 idataidx_:5=16 inumbps:6=2 ibplen:7=3 igain_:8=1 ichan_:9=1 ipos:10=-1 ifade0:11=0 ifade1:12=0.1 ipchintrp_:13=0 ifadekind_:14=1 ktransp:15=24 p16=0 p17=79 p18=0.515178 p19=1 ...)\n",
       "    Synth(𝍪 preset._click:1002.0101, p4=0 idataidx_:5=16 inumbps:6=2 ibplen:7=3 igain_:8=1 ichan_:9=1 ipos:10=-1 ifade0:11=0 ifade1:12=0.1 ipchintrp_:13=0 ifadekind_:14=1 ktransp:15=24 p16=0 p17=79 p18=0.515178 p19=1 ...)\n",
       "    Synth(𝍪 preset._click:1002.0102, p4=0 idataidx_:5=16 inumbps:6=2 ibplen:7=3 igain_:8=1 ichan_:9=1 ipos:10=-1 ifade0:11=0 ifade1:12=0.1 ipchintrp_:13=0 ifadekind_:14=1 ktransp:15=24 p16=0 p17=72 p18=0.515178 p19=1 ...)\n",
       "    Synth(𝍪 preset._click:1002.0103, p4=0 idataidx_:5=16 inumbps:6=2 ibplen:7=3 igain_:8=1 ichan_:9=1 ipos:10=-1 ifade0:11=0 ifade1:12=0.1 ipchintrp_:13=0 ifadekind_:14=1 ktransp:15=24 p16=0 p17=79 p18=0.515178 p19=1 ...)\n",
       "    Synth(𝍪 preset._click:1002.0104, p4=0 idataidx_:5=16 inumbps:6=2 ibplen:7=3 igain_:8=1 ichan_:9=1 ipos:10=-1 ifade0:11=0 ifade1:12=0.1 ipchintrp_:13=0 ifadekind_:14=1 ktransp:15=24 p16=0 p17=79 p18=0.515178 p19=1 ...)\n",
       "    Synth(𝍪 preset._click:1002.0105, p4=0 idataidx_:5=16 inumbps:6=2 ibplen:7=3 igain_:8=1 ichan_:9=1 ipos:10=-1 ifade0:11=0 ifade1:12=0.1 ipchintrp_:13=0 ifadekind_:14=1 ktransp:15=24 p16=0 p17=79 p18=0.515178 p19=1 ...)\n",
       "    Synth(𝍪 preset._click:1002.0106, p4=0 idataidx_:5=16 inumbps:6=2 ibplen:7=3 igain_:8=1 ichan_:9=1 ipos:10=-1 ifade0:11=0 ifade1:12=0.1 ipchintrp_:13=0 ifadekind_:14=1 ktransp:15=24 p16=0 p17=79 p18=0.515178 p19=1 ...)\n",
       "    Synth(𝍪 preset._piano:1001.0037, p4=0 idataidx_:5=15 inumbps:6=2 ibplen:7=3 igain_:8=1 ichan_:9=1 ipos:10=-1 ifade0:11=0.02 ifade1:12=0.02 ipchintrp_:13=0 ifadekind_:14=1 p15=0 p16=60 ...)\n",
       "    Synth(𝍪 preset._piano:1001.0038, p4=0 idataidx_:5=15 inumbps:6=2 ibplen:7=3 igain_:8=1 ichan_:9=1 ipos:10=-1 ifade0:11=0.02 ifade1:12=0.02 ipchintrp_:13=0 ifadekind_:14=1 p15=0 p16=62 ...)\n",
       "    Synth(𝍪 preset._piano:1001.0039, p4=0 idataidx_:5=15 inumbps:6=2 ibplen:7=3 igain_:8=0.707107 ichan_:9=1 ipos:10=-1 ifade0:11=0.02 ifade1:12=0.02 ipchintrp_:13=0 ifadekind_:14=1 p15=0 p16=64 ...)\n",
       "    Synth(𝍪 preset._piano:1001.004, p4=0 idataidx_:5=15 inumbps:6=2 ibplen:7=3 igain_:8=0.707107 ichan_:9=1 ipos:10=-1 ifade0:11=0.02 ifade1:12=0.02 ipchintrp_:13=0 ifadekind_:14=1 p15=0 p16=64.5 ...)\n",
       "    Synth(𝍪 preset._piano:1001.0041, p4=0 idataidx_:5=15 inumbps:6=2 ibplen:7=3 igain_:8=1 ichan_:9=1 ipos:10=-1 ifade0:11=0.02 ifade1:12=0.02 ipchintrp_:13=0 ifadekind_:14=1 p15=0 p16=60 ...)\n",
       "    Synth(𝍪 preset._piano:1001.0042, p4=0 idataidx_:5=15 inumbps:6=2 ibplen:7=3 igain_:8=1 ichan_:9=1 ipos:10=-1 ifade0:11=0.02 ifade1:12=0.02 ipchintrp_:13=0 ifadekind_:14=1 p15=0 p16=62 ...)\n",
       "    Synth(𝍪 preset._piano:1001.0043, p4=0 idataidx_:5=15 inumbps:6=2 ibplen:7=3 igain_:8=0.707107 ichan_:9=1 ipos:10=-1 ifade0:11=0.02 ifade1:12=0.02 ipchintrp_:13=0 ifadekind_:14=1 p15=0 p16=64 ...)\n",
       "    Synth(𝍪 preset._piano:1001.0044, p4=0 idataidx_:5=15 inumbps:6=2 ibplen:7=3 igain_:8=0.707107 ichan_:9=1 ipos:10=-1 ifade0:11=0.02 ifade1:12=0.02 ipchintrp_:13=0 ifadekind_:14=1 p15=0 p16=64.5 ...)\n",
       "    Synth(𝍪 preset._piano:1001.0045, p4=0 idataidx_:5=15 inumbps:6=2 ibplen:7=3 igain_:8=1 ichan_:9=1 ipos:10=-1 ifade0:11=0.02 ifade1:12=0.02 ipchintrp_:13=0 ifadekind_:14=1 p15=0 p16=60 ...)"
      ]
     },
     "execution_count": 14,
     "metadata": {},
     "output_type": "execute_result"
    }
   ],
   "source": [
    "sco = Score([click, ch2])\n",
    "sco.show()\n",
    "sco.play()"
   ]
  },
  {
   "cell_type": "code",
   "execution_count": 13,
   "id": "2513a3ab-2505-45d8-bdcb-aed0b243c0d9",
   "metadata": {},
   "outputs": [
    {
     "data": {
      "application/vnd.jupyter.widget-view+json": {
       "model_id": "b5c89add27134c55ad89de19f0bba2b0",
       "version_major": 2,
       "version_minor": 0
      },
      "text/plain": [
       "Button(description='Stop', style=ButtonStyle())"
      ]
     },
     "metadata": {},
     "output_type": "display_data"
    },
    {
     "data": {
      "application/vnd.jupyter.widget-view+json": {
       "model_id": "c1bd44d89550405889a0df333a94b5bd",
       "version_major": 2,
       "version_minor": 0
      },
      "text/plain": [
       "Output()"
      ]
     },
     "metadata": {},
     "output_type": "display_data"
    },
    {
     "data": {
      "text/html": [
       "<small>SynthGroup - start: 0.154, dur: 15.000, synths: 24</small>\n",
       "<p>instr: <strong style=\"color:MediumSeaGreen\">preset._click</strong> - <b>15</b> synths</p>\n",
       "<table><thead><tr><th style=\"text-align:left\">p1</th><th style=\"text-align:left\">start</th><th style=\"text-align:left\">dur</th><th style=\"text-align:left\">4</th><th style=\"text-align:left\">5:idataidx_</th><th style=\"text-align:left\">6:inumbps</th><th style=\"text-align:left\">7:ibplen</th><th style=\"text-align:left\">8:igain_</th><th style=\"text-align:left\">9:ichan_</th><th style=\"text-align:left\">10:ipos</th><th style=\"text-align:left\">11:ifade0</th><th style=\"text-align:left\">12:ifade1</th><th style=\"text-align:left\">13:ipchintrp_</th><th style=\"text-align:left\">14:ifadekind_</th><th style=\"text-align:left\">15:ktransp</th><th style=\"text-align:left\">16</th><th style=\"text-align:left\">17</th><th style=\"text-align:left\">18</th><th style=\"text-align:left\">19</th><th style=\"text-align:left\">...</th><th style=\"text-align:left\">20</th><th style=\"text-align:left\">...</th><th style=\"text-align:left\">21</th></tr></thead><tbody><tr><td style=\"text-align:left\">1002.0077 <b>𝍪</b></td><td style=\"text-align:left\">0.154</td><td style=\"text-align:left\">1.000</td><td style=\"text-align:left\">0</td><td style=\"text-align:left\">16</td><td style=\"text-align:left\">2</td><td style=\"text-align:left\">3</td><td style=\"text-align:left\">1</td><td style=\"text-align:left\">1</td><td style=\"text-align:left\">1</td><td style=\"text-align:left\">0</td><td style=\"text-align:left\">0.1</td><td style=\"text-align:left\">0</td><td style=\"text-align:left\">1</td><td style=\"text-align:left\">24</td><td style=\"text-align:left\">0</td><td style=\"text-align:left\">72</td><td style=\"text-align:left\">0.51518</td><td style=\"text-align:left\">...</td></tr><tr><td style=\"text-align:left\">1002.0078 <b>𝍪</b></td><td style=\"text-align:left\">1.154</td><td style=\"text-align:left\">1.000</td><td style=\"text-align:left\">0</td><td style=\"text-align:left\">16</td><td style=\"text-align:left\">2</td><td style=\"text-align:left\">3</td><td style=\"text-align:left\">1</td><td style=\"text-align:left\">1</td><td style=\"text-align:left\">1</td><td style=\"text-align:left\">0</td><td style=\"text-align:left\">0.1</td><td style=\"text-align:left\">0</td><td style=\"text-align:left\">1</td><td style=\"text-align:left\">24</td><td style=\"text-align:left\">0</td><td style=\"text-align:left\">79</td><td style=\"text-align:left\">0.51518</td><td style=\"text-align:left\">...</td></tr><tr><td style=\"text-align:left\">1002.0079 <b>𝍪</b></td><td style=\"text-align:left\">2.154</td><td style=\"text-align:left\">1.000</td><td style=\"text-align:left\">0</td><td style=\"text-align:left\">16</td><td style=\"text-align:left\">2</td><td style=\"text-align:left\">3</td><td style=\"text-align:left\">1</td><td style=\"text-align:left\">1</td><td style=\"text-align:left\">1</td><td style=\"text-align:left\">0</td><td style=\"text-align:left\">0.1</td><td style=\"text-align:left\">0</td><td style=\"text-align:left\">1</td><td style=\"text-align:left\">24</td><td style=\"text-align:left\">0</td><td style=\"text-align:left\">79</td><td style=\"text-align:left\">0.51518</td><td style=\"text-align:left\">...</td></tr><tr><td style=\"text-align:left\">1002.008 <b>𝍪</b></td><td style=\"text-align:left\">3.154</td><td style=\"text-align:left\">1.000</td><td style=\"text-align:left\">0</td><td style=\"text-align:left\">16</td><td style=\"text-align:left\">2</td><td style=\"text-align:left\">3</td><td style=\"text-align:left\">1</td><td style=\"text-align:left\">1</td><td style=\"text-align:left\">1</td><td style=\"text-align:left\">0</td><td style=\"text-align:left\">0.1</td><td style=\"text-align:left\">0</td><td style=\"text-align:left\">1</td><td style=\"text-align:left\">24</td><td style=\"text-align:left\">0</td><td style=\"text-align:left\">79</td><td style=\"text-align:left\">0.51518</td><td style=\"text-align:left\">...</td></tr><tr><td style=\"text-align:left\">...</td></tr></tbody></table>\n",
       "<p>instr: <strong style=\"color:MediumSeaGreen\">preset._piano</strong> - <b>9</b> synths</p>\n",
       "<table><thead><tr><th style=\"text-align:left\">p1</th><th style=\"text-align:left\">start</th><th style=\"text-align:left\">dur</th><th style=\"text-align:left\">4</th><th style=\"text-align:left\">5:idataidx_</th><th style=\"text-align:left\">6:inumbps</th><th style=\"text-align:left\">7:ibplen</th><th style=\"text-align:left\">8:igain_</th><th style=\"text-align:left\">9:ichan_</th><th style=\"text-align:left\">10:ipos</th><th style=\"text-align:left\">11:ifade0</th><th style=\"text-align:left\">12:ifade1</th><th style=\"text-align:left\">13:ipchintrp_</th><th style=\"text-align:left\">14:ifadekind_</th><th style=\"text-align:left\">15</th><th style=\"text-align:left\">16</th><th style=\"text-align:left\">...</th><th style=\"text-align:left\">17</th><th style=\"text-align:left\">...</th><th style=\"text-align:left\">18</th><th style=\"text-align:left\">...</th><th style=\"text-align:left\">19</th><th style=\"text-align:left\">...</th><th style=\"text-align:left\">20</th></tr></thead><tbody><tr><td style=\"text-align:left\">1001.0028 <b>𝍪</b></td><td style=\"text-align:left\">1.154</td><td style=\"text-align:left\">2.500</td><td style=\"text-align:left\">0</td><td style=\"text-align:left\">15</td><td style=\"text-align:left\">2</td><td style=\"text-align:left\">3</td><td style=\"text-align:left\">1</td><td style=\"text-align:left\">1</td><td style=\"text-align:left\">-1</td><td style=\"text-align:left\">0.02</td><td style=\"text-align:left\">0.02</td><td style=\"text-align:left\">0</td><td style=\"text-align:left\">1</td><td style=\"text-align:left\">0</td><td style=\"text-align:left\">...</td></tr><tr><td style=\"text-align:left\">1001.0029 <b>𝍪</b></td><td style=\"text-align:left\">3.654</td><td style=\"text-align:left\">0.500</td><td style=\"text-align:left\">0</td><td style=\"text-align:left\">15</td><td style=\"text-align:left\">2</td><td style=\"text-align:left\">3</td><td style=\"text-align:left\">1</td><td style=\"text-align:left\">1</td><td style=\"text-align:left\">-1</td><td style=\"text-align:left\">0.02</td><td style=\"text-align:left\">0.02</td><td style=\"text-align:left\">0</td><td style=\"text-align:left\">1</td><td style=\"text-align:left\">0</td><td style=\"text-align:left\">...</td></tr><tr><td style=\"text-align:left\">1001.003 <b>𝍪</b></td><td style=\"text-align:left\">4.154</td><td style=\"text-align:left\">1.000</td><td style=\"text-align:left\">0</td><td style=\"text-align:left\">15</td><td style=\"text-align:left\">2</td><td style=\"text-align:left\">3</td><td style=\"text-align:left\">0.70711</td><td style=\"text-align:left\">1</td><td style=\"text-align:left\">-1</td><td style=\"text-align:left\">0.02</td><td style=\"text-align:left\">0.02</td><td style=\"text-align:left\">0</td><td style=\"text-align:left\">1</td><td style=\"text-align:left\">0</td><td style=\"text-align:left\">...</td></tr><tr><td style=\"text-align:left\">1001.0031 <b>𝍪</b></td><td style=\"text-align:left\">4.154</td><td style=\"text-align:left\">1.000</td><td style=\"text-align:left\">0</td><td style=\"text-align:left\">15</td><td style=\"text-align:left\">2</td><td style=\"text-align:left\">3</td><td style=\"text-align:left\">0.70711</td><td style=\"text-align:left\">1</td><td style=\"text-align:left\">-1</td><td style=\"text-align:left\">0.02</td><td style=\"text-align:left\">0.02</td><td style=\"text-align:left\">0</td><td style=\"text-align:left\">1</td><td style=\"text-align:left\">0</td><td style=\"text-align:left\">...</td></tr><tr><td style=\"text-align:left\">...</td></tr></tbody></table>"
      ],
      "text/plain": [
       "SynthGroup(n=24)\n",
       "    Synth(𝍪 preset._click:1002.0077, p4=0 idataidx_:5=16 inumbps:6=2 ibplen:7=3 igain_:8=1 ichan_:9=1 ipos:10=1 ifade0:11=0 ifade1:12=0.1 ipchintrp_:13=0 ifadekind_:14=1 ktransp:15=24 p16=0 p17=72 p18=0.515178 p19=1 ...)\n",
       "    Synth(𝍪 preset._click:1002.0078, p4=0 idataidx_:5=16 inumbps:6=2 ibplen:7=3 igain_:8=1 ichan_:9=1 ipos:10=1 ifade0:11=0 ifade1:12=0.1 ipchintrp_:13=0 ifadekind_:14=1 ktransp:15=24 p16=0 p17=79 p18=0.515178 p19=1 ...)\n",
       "    Synth(𝍪 preset._click:1002.0079, p4=0 idataidx_:5=16 inumbps:6=2 ibplen:7=3 igain_:8=1 ichan_:9=1 ipos:10=1 ifade0:11=0 ifade1:12=0.1 ipchintrp_:13=0 ifadekind_:14=1 ktransp:15=24 p16=0 p17=79 p18=0.515178 p19=1 ...)\n",
       "    Synth(𝍪 preset._click:1002.008, p4=0 idataidx_:5=16 inumbps:6=2 ibplen:7=3 igain_:8=1 ichan_:9=1 ipos:10=1 ifade0:11=0 ifade1:12=0.1 ipchintrp_:13=0 ifadekind_:14=1 ktransp:15=24 p16=0 p17=79 p18=0.515178 p19=1 ...)\n",
       "    Synth(𝍪 preset._click:1002.0081, p4=0 idataidx_:5=16 inumbps:6=2 ibplen:7=3 igain_:8=1 ichan_:9=1 ipos:10=1 ifade0:11=0 ifade1:12=0.1 ipchintrp_:13=0 ifadekind_:14=1 ktransp:15=24 p16=0 p17=79 p18=0.515178 p19=1 ...)\n",
       "    Synth(𝍪 preset._click:1002.0082, p4=0 idataidx_:5=16 inumbps:6=2 ibplen:7=3 igain_:8=1 ichan_:9=1 ipos:10=1 ifade0:11=0 ifade1:12=0.1 ipchintrp_:13=0 ifadekind_:14=1 ktransp:15=24 p16=0 p17=72 p18=0.515178 p19=1 ...)\n",
       "    Synth(𝍪 preset._click:1002.0083, p4=0 idataidx_:5=16 inumbps:6=2 ibplen:7=3 igain_:8=1 ichan_:9=1 ipos:10=1 ifade0:11=0 ifade1:12=0.1 ipchintrp_:13=0 ifadekind_:14=1 ktransp:15=24 p16=0 p17=79 p18=0.515178 p19=1 ...)\n",
       "    Synth(𝍪 preset._click:1002.0084, p4=0 idataidx_:5=16 inumbps:6=2 ibplen:7=3 igain_:8=1 ichan_:9=1 ipos:10=1 ifade0:11=0 ifade1:12=0.1 ipchintrp_:13=0 ifadekind_:14=1 ktransp:15=24 p16=0 p17=79 p18=0.515178 p19=1 ...)\n",
       "    Synth(𝍪 preset._click:1002.0085, p4=0 idataidx_:5=16 inumbps:6=2 ibplen:7=3 igain_:8=1 ichan_:9=1 ipos:10=1 ifade0:11=0 ifade1:12=0.1 ipchintrp_:13=0 ifadekind_:14=1 ktransp:15=24 p16=0 p17=79 p18=0.515178 p19=1 ...)\n",
       "    Synth(𝍪 preset._click:1002.0086, p4=0 idataidx_:5=16 inumbps:6=2 ibplen:7=3 igain_:8=1 ichan_:9=1 ipos:10=1 ifade0:11=0 ifade1:12=0.1 ipchintrp_:13=0 ifadekind_:14=1 ktransp:15=24 p16=0 p17=79 p18=0.515178 p19=1 ...)\n",
       "    Synth(𝍪 preset._click:1002.0087, p4=0 idataidx_:5=16 inumbps:6=2 ibplen:7=3 igain_:8=1 ichan_:9=1 ipos:10=1 ifade0:11=0 ifade1:12=0.1 ipchintrp_:13=0 ifadekind_:14=1 ktransp:15=24 p16=0 p17=72 p18=0.515178 p19=1 ...)\n",
       "    Synth(𝍪 preset._click:1002.0088, p4=0 idataidx_:5=16 inumbps:6=2 ibplen:7=3 igain_:8=1 ichan_:9=1 ipos:10=1 ifade0:11=0 ifade1:12=0.1 ipchintrp_:13=0 ifadekind_:14=1 ktransp:15=24 p16=0 p17=79 p18=0.515178 p19=1 ...)\n",
       "    Synth(𝍪 preset._click:1002.0089, p4=0 idataidx_:5=16 inumbps:6=2 ibplen:7=3 igain_:8=1 ichan_:9=1 ipos:10=1 ifade0:11=0 ifade1:12=0.1 ipchintrp_:13=0 ifadekind_:14=1 ktransp:15=24 p16=0 p17=79 p18=0.515178 p19=1 ...)\n",
       "    Synth(𝍪 preset._click:1002.009, p4=0 idataidx_:5=16 inumbps:6=2 ibplen:7=3 igain_:8=1 ichan_:9=1 ipos:10=1 ifade0:11=0 ifade1:12=0.1 ipchintrp_:13=0 ifadekind_:14=1 ktransp:15=24 p16=0 p17=79 p18=0.515178 p19=1 ...)\n",
       "    Synth(𝍪 preset._click:1002.0091, p4=0 idataidx_:5=16 inumbps:6=2 ibplen:7=3 igain_:8=1 ichan_:9=1 ipos:10=1 ifade0:11=0 ifade1:12=0.1 ipchintrp_:13=0 ifadekind_:14=1 ktransp:15=24 p16=0 p17=79 p18=0.515178 p19=1 ...)\n",
       "    Synth(𝍪 preset._piano:1001.0028, p4=0 idataidx_:5=15 inumbps:6=2 ibplen:7=3 igain_:8=1 ichan_:9=1 ipos:10=-1 ifade0:11=0.02 ifade1:12=0.02 ipchintrp_:13=0 ifadekind_:14=1 p15=0 p16=60 ...)\n",
       "    Synth(𝍪 preset._piano:1001.0029, p4=0 idataidx_:5=15 inumbps:6=2 ibplen:7=3 igain_:8=1 ichan_:9=1 ipos:10=-1 ifade0:11=0.02 ifade1:12=0.02 ipchintrp_:13=0 ifadekind_:14=1 p15=0 p16=62 ...)\n",
       "    Synth(𝍪 preset._piano:1001.003, p4=0 idataidx_:5=15 inumbps:6=2 ibplen:7=3 igain_:8=0.707107 ichan_:9=1 ipos:10=-1 ifade0:11=0.02 ifade1:12=0.02 ipchintrp_:13=0 ifadekind_:14=1 p15=0 p16=64 ...)\n",
       "    Synth(𝍪 preset._piano:1001.0031, p4=0 idataidx_:5=15 inumbps:6=2 ibplen:7=3 igain_:8=0.707107 ichan_:9=1 ipos:10=-1 ifade0:11=0.02 ifade1:12=0.02 ipchintrp_:13=0 ifadekind_:14=1 p15=0 p16=64.5 ...)\n",
       "    Synth(𝍪 preset._piano:1001.0032, p4=0 idataidx_:5=15 inumbps:6=2 ibplen:7=3 igain_:8=1 ichan_:9=1 ipos:10=-1 ifade0:11=0.02 ifade1:12=0.02 ipchintrp_:13=0 ifadekind_:14=1 p15=0 p16=60 ...)\n",
       "    Synth(𝍪 preset._piano:1001.0033, p4=0 idataidx_:5=15 inumbps:6=2 ibplen:7=3 igain_:8=1 ichan_:9=1 ipos:10=-1 ifade0:11=0.02 ifade1:12=0.02 ipchintrp_:13=0 ifadekind_:14=1 p15=0 p16=62 ...)\n",
       "    Synth(𝍪 preset._piano:1001.0034, p4=0 idataidx_:5=15 inumbps:6=2 ibplen:7=3 igain_:8=0.707107 ichan_:9=1 ipos:10=-1 ifade0:11=0.02 ifade1:12=0.02 ipchintrp_:13=0 ifadekind_:14=1 p15=0 p16=64 ...)\n",
       "    Synth(𝍪 preset._piano:1001.0035, p4=0 idataidx_:5=15 inumbps:6=2 ibplen:7=3 igain_:8=0.707107 ichan_:9=1 ipos:10=-1 ifade0:11=0.02 ifade1:12=0.02 ipchintrp_:13=0 ifadekind_:14=1 p15=0 p16=64.5 ...)\n",
       "    Synth(𝍪 preset._piano:1001.0036, p4=0 idataidx_:5=15 inumbps:6=2 ibplen:7=3 igain_:8=1 ichan_:9=1 ipos:10=-1 ifade0:11=0.02 ifade1:12=0.02 ipchintrp_:13=0 ifadekind_:14=1 p15=0 p16=60 ...)"
      ]
     },
     "execution_count": 13,
     "metadata": {},
     "output_type": "execute_result"
    }
   ],
   "source": [
    "play([\n",
    "    click.events(position=1),\n",
    "    ch.cycle(dur=9.5, crop=True)\n",
    "])"
   ]
  },
  {
   "cell_type": "code",
   "execution_count": 12,
   "id": "a2115864-d921-4bbc-a675-f18e6bde6f86",
   "metadata": {},
   "outputs": [
    {
     "data": {
      "application/vnd.jupyter.widget-view+json": {
       "model_id": "9788b23faacc445cb8b5e845ec3d5bff",
       "version_major": 2,
       "version_minor": 0
      },
      "text/plain": [
       "Button(description='Stop', style=ButtonStyle())"
      ]
     },
     "metadata": {},
     "output_type": "display_data"
    },
    {
     "data": {
      "application/vnd.jupyter.widget-view+json": {
       "model_id": "03bdede5fe2c4a129697cd9cf2552fc9",
       "version_major": 2,
       "version_minor": 0
      },
      "text/plain": [
       "Output()"
      ]
     },
     "metadata": {},
     "output_type": "display_data"
    },
    {
     "data": {
      "text/html": [
       "<small>SynthGroup - start: 0.136, dur: 15.000, synths: 24</small>\n",
       "<p>instr: <strong style=\"color:MediumSeaGreen\">preset._click</strong> - <b>15</b> synths</p>\n",
       "<table><thead><tr><th style=\"text-align:left\">p1</th><th style=\"text-align:left\">start</th><th style=\"text-align:left\">dur</th><th style=\"text-align:left\">4</th><th style=\"text-align:left\">5:idataidx_</th><th style=\"text-align:left\">6:inumbps</th><th style=\"text-align:left\">7:ibplen</th><th style=\"text-align:left\">8:igain_</th><th style=\"text-align:left\">9:ichan_</th><th style=\"text-align:left\">10:ipos</th><th style=\"text-align:left\">11:ifade0</th><th style=\"text-align:left\">12:ifade1</th><th style=\"text-align:left\">13:ipchintrp_</th><th style=\"text-align:left\">14:ifadekind_</th><th style=\"text-align:left\">15:ktransp</th><th style=\"text-align:left\">16</th><th style=\"text-align:left\">17</th><th style=\"text-align:left\">18</th><th style=\"text-align:left\">19</th><th style=\"text-align:left\">...</th><th style=\"text-align:left\">20</th><th style=\"text-align:left\">...</th><th style=\"text-align:left\">21</th></tr></thead><tbody><tr><td style=\"text-align:left\">1002.0062 <b>𝍪</b></td><td style=\"text-align:left\">0.136</td><td style=\"text-align:left\">1.000</td><td style=\"text-align:left\">0</td><td style=\"text-align:left\">16</td><td style=\"text-align:left\">2</td><td style=\"text-align:left\">3</td><td style=\"text-align:left\">1</td><td style=\"text-align:left\">1</td><td style=\"text-align:left\">1</td><td style=\"text-align:left\">0</td><td style=\"text-align:left\">0.1</td><td style=\"text-align:left\">0</td><td style=\"text-align:left\">1</td><td style=\"text-align:left\">24</td><td style=\"text-align:left\">0</td><td style=\"text-align:left\">72</td><td style=\"text-align:left\">0.51518</td><td style=\"text-align:left\">...</td></tr><tr><td style=\"text-align:left\">1002.0063 <b>𝍪</b></td><td style=\"text-align:left\">1.136</td><td style=\"text-align:left\">1.000</td><td style=\"text-align:left\">0</td><td style=\"text-align:left\">16</td><td style=\"text-align:left\">2</td><td style=\"text-align:left\">3</td><td style=\"text-align:left\">1</td><td style=\"text-align:left\">1</td><td style=\"text-align:left\">1</td><td style=\"text-align:left\">0</td><td style=\"text-align:left\">0.1</td><td style=\"text-align:left\">0</td><td style=\"text-align:left\">1</td><td style=\"text-align:left\">24</td><td style=\"text-align:left\">0</td><td style=\"text-align:left\">79</td><td style=\"text-align:left\">0.51518</td><td style=\"text-align:left\">...</td></tr><tr><td style=\"text-align:left\">1002.0064 <b>𝍪</b></td><td style=\"text-align:left\">2.136</td><td style=\"text-align:left\">1.000</td><td style=\"text-align:left\">0</td><td style=\"text-align:left\">16</td><td style=\"text-align:left\">2</td><td style=\"text-align:left\">3</td><td style=\"text-align:left\">1</td><td style=\"text-align:left\">1</td><td style=\"text-align:left\">1</td><td style=\"text-align:left\">0</td><td style=\"text-align:left\">0.1</td><td style=\"text-align:left\">0</td><td style=\"text-align:left\">1</td><td style=\"text-align:left\">24</td><td style=\"text-align:left\">0</td><td style=\"text-align:left\">79</td><td style=\"text-align:left\">0.51518</td><td style=\"text-align:left\">...</td></tr><tr><td style=\"text-align:left\">1002.0065 <b>𝍪</b></td><td style=\"text-align:left\">3.136</td><td style=\"text-align:left\">1.000</td><td style=\"text-align:left\">0</td><td style=\"text-align:left\">16</td><td style=\"text-align:left\">2</td><td style=\"text-align:left\">3</td><td style=\"text-align:left\">1</td><td style=\"text-align:left\">1</td><td style=\"text-align:left\">1</td><td style=\"text-align:left\">0</td><td style=\"text-align:left\">0.1</td><td style=\"text-align:left\">0</td><td style=\"text-align:left\">1</td><td style=\"text-align:left\">24</td><td style=\"text-align:left\">0</td><td style=\"text-align:left\">79</td><td style=\"text-align:left\">0.51518</td><td style=\"text-align:left\">...</td></tr><tr><td style=\"text-align:left\">...</td></tr></tbody></table>\n",
       "<p>instr: <strong style=\"color:MediumSeaGreen\">preset.saw</strong> - <b>9</b> synths</p>\n",
       "<table><thead><tr><th style=\"text-align:left\">p1</th><th style=\"text-align:left\">start</th><th style=\"text-align:left\">dur</th><th style=\"text-align:left\">4</th><th style=\"text-align:left\">5:idataidx_</th><th style=\"text-align:left\">6:inumbps</th><th style=\"text-align:left\">7:ibplen</th><th style=\"text-align:left\">8:igain_</th><th style=\"text-align:left\">9:ichan_</th><th style=\"text-align:left\">10:ipos</th><th style=\"text-align:left\">11:ifade0</th><th style=\"text-align:left\">12:ifade1</th><th style=\"text-align:left\">13:ipchintrp_</th><th style=\"text-align:left\">14:ifadekind_</th><th style=\"text-align:left\">15:ktransp</th><th style=\"text-align:left\">16:klag</th><th style=\"text-align:left\">17:kfreqratio</th><th style=\"text-align:left\">18:kQ</th><th style=\"text-align:left\">19</th><th style=\"text-align:left\">20</th><th style=\"text-align:left\">21</th><th style=\"text-align:left\">22</th><th style=\"text-align:left\">...</th><th style=\"text-align:left\">23</th><th style=\"text-align:left\">...</th><th style=\"text-align:left\">24</th></tr></thead><tbody><tr><td style=\"text-align:left\">1003.002 <b>𝍪</b></td><td style=\"text-align:left\">1.136</td><td style=\"text-align:left\">2.500</td><td style=\"text-align:left\">0</td><td style=\"text-align:left\">19</td><td style=\"text-align:left\">2</td><td style=\"text-align:left\">3</td><td style=\"text-align:left\">0.1</td><td style=\"text-align:left\">1</td><td style=\"text-align:left\">-1</td><td style=\"text-align:left\">0.02</td><td style=\"text-align:left\">0.02</td><td style=\"text-align:left\">0</td><td style=\"text-align:left\">1</td><td style=\"text-align:left\">0</td><td style=\"text-align:left\">0.1</td><td style=\"text-align:left\">0</td><td style=\"text-align:left\">3</td><td style=\"text-align:left\">0</td><td style=\"text-align:left\">60</td><td style=\"text-align:left\">0.51518</td><td style=\"text-align:left\">...</td></tr><tr><td style=\"text-align:left\">1003.0021 <b>𝍪</b></td><td style=\"text-align:left\">3.636</td><td style=\"text-align:left\">0.500</td><td style=\"text-align:left\">0</td><td style=\"text-align:left\">19</td><td style=\"text-align:left\">2</td><td style=\"text-align:left\">3</td><td style=\"text-align:left\">0.1</td><td style=\"text-align:left\">1</td><td style=\"text-align:left\">-1</td><td style=\"text-align:left\">0.02</td><td style=\"text-align:left\">0.02</td><td style=\"text-align:left\">0</td><td style=\"text-align:left\">1</td><td style=\"text-align:left\">0</td><td style=\"text-align:left\">0.1</td><td style=\"text-align:left\">0</td><td style=\"text-align:left\">3</td><td style=\"text-align:left\">0</td><td style=\"text-align:left\">62</td><td style=\"text-align:left\">0.51518</td><td style=\"text-align:left\">...</td></tr><tr><td style=\"text-align:left\">1003.0022 <b>𝍪</b></td><td style=\"text-align:left\">4.136</td><td style=\"text-align:left\">1.000</td><td style=\"text-align:left\">0</td><td style=\"text-align:left\">19</td><td style=\"text-align:left\">2</td><td style=\"text-align:left\">3</td><td style=\"text-align:left\">0.070711</td><td style=\"text-align:left\">1</td><td style=\"text-align:left\">-1</td><td style=\"text-align:left\">0.02</td><td style=\"text-align:left\">0.02</td><td style=\"text-align:left\">0</td><td style=\"text-align:left\">1</td><td style=\"text-align:left\">0</td><td style=\"text-align:left\">0.1</td><td style=\"text-align:left\">0</td><td style=\"text-align:left\">3</td><td style=\"text-align:left\">0</td><td style=\"text-align:left\">64</td><td style=\"text-align:left\">0.51518</td><td style=\"text-align:left\">...</td></tr><tr><td style=\"text-align:left\">1003.0023 <b>𝍪</b></td><td style=\"text-align:left\">4.136</td><td style=\"text-align:left\">1.000</td><td style=\"text-align:left\">0</td><td style=\"text-align:left\">19</td><td style=\"text-align:left\">2</td><td style=\"text-align:left\">3</td><td style=\"text-align:left\">0.070711</td><td style=\"text-align:left\">1</td><td style=\"text-align:left\">-1</td><td style=\"text-align:left\">0.02</td><td style=\"text-align:left\">0.02</td><td style=\"text-align:left\">0</td><td style=\"text-align:left\">1</td><td style=\"text-align:left\">0</td><td style=\"text-align:left\">0.1</td><td style=\"text-align:left\">0</td><td style=\"text-align:left\">3</td><td style=\"text-align:left\">0</td><td style=\"text-align:left\">64.5</td><td style=\"text-align:left\">0.51518</td><td style=\"text-align:left\">...</td></tr><tr><td style=\"text-align:left\">...</td></tr></tbody></table>"
      ],
      "text/plain": [
       "<maelzel.core.playback.synched at 0x7f4088ea4730>"
      ]
     },
     "execution_count": 12,
     "metadata": {},
     "output_type": "execute_result"
    }
   ],
   "source": [
    "with synched() as _:\n",
    "    click.play(position=1)\n",
    "    ch.cycle(dur=9.5, crop=True).play(instr='saw', gain=0.1)\n",
    "_"
   ]
  },
  {
   "cell_type": "code",
   "execution_count": 8,
   "id": "09a90d67-0f4e-4643-8dc9-f7b649de06ed",
   "metadata": {},
   "outputs": [
    {
     "name": "stderr",
     "output_type": "stream",
     "text": [
      "DEBUG:maelzel.core:Starting engine maelzel.core (nchnls=2)\n"
     ]
    },
    {
     "name": "stdout",
     "output_type": "stream",
     "text": [
      "[SynthEvent(delay=0, dur=3, gain=1, chan=1, fade=(0.02, 0.02), instr=_piano)\n",
      "bps 0.000s: 69       0.515178\n",
      "    2.000s: 67       0.515178\n",
      "    3.000s: 1 0.515178\n",
      "]\n"
     ]
    },
    {
     "name": "stderr",
     "output_type": "stream",
     "text": [
      "\n",
      "\n",
      "--Csound version 6.18 (double samples) Dec  2 2022\n",
      "[commit: ac38f27d1c5d6ee0cacc1bc719e96be3a2d93a15]\n",
      "\u001b[mlibsndfile-1.0.31\n",
      "\u001b[msr = 44100.0,\u001b[m kr = 689.062,\u001b[m ksmps = 64\n",
      "\u001b[m0dBFS level = 1.0,\u001b[m A4 tuning = 442.0\n",
      "\u001b[maudio buffered in 256 sample-frame blocks\n",
      "\u001b[mreading 1024-byte blks of shorts from adc:system:capture (RAW)\n",
      "writing 512 sample blks of 64-bit floats to dac:system:playback\n",
      "SECTION 1:\n",
      "\u001b[m"
     ]
    },
    {
     "data": {
      "application/vnd.jupyter.widget-view+json": {
       "model_id": "fb1835a3d2b24e0ca25989f97e04b709",
       "version_major": 2,
       "version_minor": 0
      },
      "text/plain": [
       "Button(description='Stop', style=ButtonStyle())"
      ]
     },
     "metadata": {},
     "output_type": "display_data"
    },
    {
     "data": {
      "application/vnd.jupyter.widget-view+json": {
       "model_id": "196553d6fd1d4327b073188860e3b9d2",
       "version_major": 2,
       "version_minor": 0
      },
      "text/plain": [
       "Output()"
      ]
     },
     "metadata": {},
     "output_type": "display_data"
    },
    {
     "data": {
      "text/html": [
       "<small>SynthGroup - start: 0.054, dur: 3.000, synths: 1</small>\n",
       "<p>instr: <strong style=\"color:MediumSeaGreen\">preset._piano</strong> - <b>1</b> synths</p>\n",
       "<table><thead><tr><th style=\"text-align:left\">p1</th><th style=\"text-align:left\">start</th><th style=\"text-align:left\">dur</th><th style=\"text-align:left\">4</th><th style=\"text-align:left\">5:idataidx_</th><th style=\"text-align:left\">6:inumbps</th><th style=\"text-align:left\">7:ibplen</th><th style=\"text-align:left\">8:igain</th><th style=\"text-align:left\">9:ichan</th><th style=\"text-align:left\">10:ipos</th><th style=\"text-align:left\">11:ifadein</th><th style=\"text-align:left\">12:ifadeout</th><th style=\"text-align:left\">13:ipchintrp_</th><th style=\"text-align:left\">14:ifadekind</th><th style=\"text-align:left\">15</th><th style=\"text-align:left\">16</th><th style=\"text-align:left\">...</th></tr></thead><tbody><tr><td style=\"text-align:left\">501.0002 <b>𝍪</b></td><td style=\"text-align:left\">0.054</td><td style=\"text-align:left\">3.000</td><td style=\"text-align:left\">0</td><td style=\"text-align:left\">15</td><td style=\"text-align:left\">3</td><td style=\"text-align:left\">3</td><td style=\"text-align:left\">1</td><td style=\"text-align:left\">1</td><td style=\"text-align:left\">-1</td><td style=\"text-align:left\">0.02</td><td style=\"text-align:left\">0.02</td><td style=\"text-align:left\">0</td><td style=\"text-align:left\">1</td><td style=\"text-align:left\">0</td><td style=\"text-align:left\">...</td></tr></tbody></table>"
      ],
      "text/plain": [
       "SynthGroup(n=1)\n",
       "    Synth(𝍪 preset._piano:501.0002, p4=0 idataidx_:5=15 inumbps:6=3 ibplen:7=3 igain:8=1 ichan:9=1 ipos:10=-1 ifadein:11=0.02 ifadeout:12=0.02 ipchintrp_:13=0 ifadekind:14=1 p15=0 p16=69 ...)"
      ]
     },
     "execution_count": 8,
     "metadata": {},
     "output_type": "execute_result"
    }
   ],
   "source": [
    "from maelzel.core import *\n",
    "ch = Chain([Note(\"4A\", 2, gliss=True), Note(\"4G\", 1, gliss=True)])\n",
    "print(ch.events())\n",
    "ch.play()"
   ]
  },
  {
   "cell_type": "code",
   "execution_count": 10,
   "id": "b5031634-bdf0-43ee-9093-fcfceac9d735",
   "metadata": {},
   "outputs": [
    {
     "name": "stderr",
     "output_type": "stream",
     "text": [
      "DEBUG:maelzel.core:rendering parts with backend: lilypond\n"
     ]
    },
    {
     "name": "stdout",
     "output_type": "stream",
     "text": [
      "DEBUG: Enharmonic spelling - orig. ['4A', '4G#', '4G-'], horizontal solution=['4A', '4G#', '4F#+']\n",
      "DEBUG: Enharmonic spelling - chord «0.000:2.000 [4F 4A] gliss properties={'resetEnharmonicSlots': True}» - solution: ('4F', '4A')\n",
      "       fixed slots: {'C': 0, 'C+': 0, 'C#': 0, 'D-': 0, 'D': 0, 'D+': 0, 'D#': 0, 'E-': 0, 'E': 0, 'E+': 0, 'F': 0, 'F+': 0, 'F#': 0, 'G-': 0, 'G': 0, 'G+': 0, 'G#': 0, 'A-': 0, 'A': 0, 'A+': 0, 'Bb': 0, 'B-': 0, 'B': 0, 'B+': 0}\n",
      "       variants: [('4F', '4A')]\n",
      "DEBUG: Enharmonic spelling - chord «2.000:5.000 [4F 4G#] gliss» - solution: ('4F', '4Ab')\n",
      "       fixed slots: {'C': 0, 'C+': 0, 'C#': 0, 'D-': 0, 'D': 0, 'D+': 0, 'D#': 0, 'E-': 0, 'E': 0, 'E+': 0, 'F': 0, 'F+': 0, 'F#': 0, 'G-': 0, 'G': 0, 'G+': 0, 'G#': 0, 'A-': 0, 'A': 0, 'A+': 0, 'Bb': 0, 'B-': 0, 'B': 0, 'B+': 0}\n",
      "       variants: [('4F', '4Ab'), ('4F', '4G#')]\n",
      "DEBUG: Enharmonic spelling - chord «5.000:grace [4F# 4G-] properties={'resetEnharmonicSlots': True}» - solution: ('4F#', '4G-')\n",
      "       fixed slots: {'C': 0, 'C+': 0, 'C#': 0, 'D-': 0, 'D': 0, 'D+': 0, 'D#': 0, 'E-': 0, 'E': 0, 'E+': 0, 'F': 0, 'F+': 0, 'F#': 0, 'G-': 0, 'G': 0, 'G+': 0, 'G#': -1, 'A-': 0, 'A': 0, 'A+': 0, 'Bb': 0, 'B-': 0, 'B': 0, 'B+': 0}\n",
      "       variants: [('4F#', '4G-'), ('4F#', '4F#+'), ('4Gb', '4G-'), ('4Gb', '4F#+')]\n"
     ]
    },
    {
     "data": {
      "image/png": "[encoded data removed]",
      "text/plain": [
       "<IPython.core.display.Image object>"
      ]
     },
     "metadata": {
      "image/png": {
       "width": 192
      }
     },
     "output_type": "display_data"
    }
   ],
   "source": [
    "ch2 = Chain([Chord(\"4F 4A\", 2, gliss=True), Chord(\"4F 4Ab\", 3, gliss=\"4F# 4G-\")])\n",
    "ch2.show()\n",
    "# ch2.play(instr='tri', fade=0.15, sustain=0.15)"
   ]
  },
  {
   "cell_type": "code",
   "execution_count": 3,
   "id": "e12c2014-3f60-45d3-98af-c1ffa5032ab9",
   "metadata": {},
   "outputs": [
    {
     "data": {
      "text/plain": [
       "[]"
      ]
     },
     "execution_count": 3,
     "metadata": {},
     "output_type": "execute_result"
    }
   ],
   "source": [
    "ch2.events()"
   ]
  },
  {
   "cell_type": "code",
   "execution_count": 27,
   "id": "8a7c2b3e-b18d-4fba-b2c8-978abede2399",
   "metadata": {},
   "outputs": [
    {
     "data": {
      "application/vnd.jupyter.widget-view+json": {
       "model_id": "e27a86a4f4a94d4fa975f3858c6045ba",
       "version_major": 2,
       "version_minor": 0
      },
      "text/plain": [
       "Button(description='Stop', style=ButtonStyle())"
      ]
     },
     "metadata": {},
     "output_type": "display_data"
    },
    {
     "data": {
      "application/vnd.jupyter.widget-view+json": {
       "model_id": "0e1f1ee0c6a64acc998dcd3aa7fcf7ca",
       "version_major": 2,
       "version_minor": 0
      },
      "text/plain": [
       "Output()"
      ]
     },
     "metadata": {},
     "output_type": "display_data"
    },
    {
     "data": {
      "text/html": [
       "<small>SynthGroup - start: 0.037, dur: 10.100, synths: 272</small>\n",
       "<p>instr: <strong style=\"color:MediumSeaGreen\">preset.piano</strong> - <b>272</b> synths</p>\n",
       "<table><thead><tr><th style=\"text-align:left\">p1</th><th style=\"text-align:left\">start</th><th style=\"text-align:left\">dur</th><th style=\"text-align:left\">4</th><th style=\"text-align:left\">5:idataidx_</th><th style=\"text-align:left\">6:inumbps</th><th style=\"text-align:left\">7:ibplen</th><th style=\"text-align:left\">8:igain_</th><th style=\"text-align:left\">9:ichan_</th><th style=\"text-align:left\">10:ipos</th><th style=\"text-align:left\">11:ifade0</th><th style=\"text-align:left\">12:ifade1</th><th style=\"text-align:left\">13:ipchintrp_</th><th style=\"text-align:left\">14:ifadekind_</th><th style=\"text-align:left\">15</th><th style=\"text-align:left\">16</th><th style=\"text-align:left\">...</th><th style=\"text-align:left\">17</th><th style=\"text-align:left\">...</th><th style=\"text-align:left\">18</th><th style=\"text-align:left\">...</th><th style=\"text-align:left\">19</th><th style=\"text-align:left\">...</th><th style=\"text-align:left\">20</th><th style=\"text-align:left\">...</th><th style=\"text-align:left\">21</th><th style=\"text-align:left\">...</th><th style=\"text-align:left\">22</th><th style=\"text-align:left\">...</th><th style=\"text-align:left\">23</th></tr></thead><tbody><tr><td style=\"text-align:left\">1005.0898 <b>𝍪</b></td><td style=\"text-align:left\">0.037</td><td style=\"text-align:left\">0.050</td><td style=\"text-align:left\">0</td><td style=\"text-align:left\">15</td><td style=\"text-align:left\">3</td><td style=\"text-align:left\">3</td><td style=\"text-align:left\">1</td><td style=\"text-align:left\">1</td><td style=\"text-align:left\">1</td><td style=\"text-align:left\">0.02</td><td style=\"text-align:left\">0.02</td><td style=\"text-align:left\">0</td><td style=\"text-align:left\">1</td><td style=\"text-align:left\">0</td><td style=\"text-align:left\">...</td></tr><tr><td style=\"text-align:left\">1005.0899 <b>𝍪</b></td><td style=\"text-align:left\">0.187</td><td style=\"text-align:left\">0.050</td><td style=\"text-align:left\">0</td><td style=\"text-align:left\">15</td><td style=\"text-align:left\">3</td><td style=\"text-align:left\">3</td><td style=\"text-align:left\">1</td><td style=\"text-align:left\">1</td><td style=\"text-align:left\">1</td><td style=\"text-align:left\">0.02</td><td style=\"text-align:left\">0.02</td><td style=\"text-align:left\">0</td><td style=\"text-align:left\">1</td><td style=\"text-align:left\">0</td><td style=\"text-align:left\">...</td></tr><tr><td style=\"text-align:left\">1005.09 <b>𝍪</b></td><td style=\"text-align:left\">0.337</td><td style=\"text-align:left\">0.050</td><td style=\"text-align:left\">0</td><td style=\"text-align:left\">15</td><td style=\"text-align:left\">3</td><td style=\"text-align:left\">3</td><td style=\"text-align:left\">1</td><td style=\"text-align:left\">1</td><td style=\"text-align:left\">1</td><td style=\"text-align:left\">0.02</td><td style=\"text-align:left\">0.02</td><td style=\"text-align:left\">0</td><td style=\"text-align:left\">1</td><td style=\"text-align:left\">0</td><td style=\"text-align:left\">...</td></tr><tr><td style=\"text-align:left\">1005.0901 <b>𝍪</b></td><td style=\"text-align:left\">0.487</td><td style=\"text-align:left\">0.050</td><td style=\"text-align:left\">0</td><td style=\"text-align:left\">15</td><td style=\"text-align:left\">3</td><td style=\"text-align:left\">3</td><td style=\"text-align:left\">1</td><td style=\"text-align:left\">1</td><td style=\"text-align:left\">1</td><td style=\"text-align:left\">0.02</td><td style=\"text-align:left\">0.02</td><td style=\"text-align:left\">0</td><td style=\"text-align:left\">1</td><td style=\"text-align:left\">0</td><td style=\"text-align:left\">...</td></tr><tr><td style=\"text-align:left\">...</td></tr></tbody></table>"
      ],
      "text/plain": [
       "<maelzel.core.playback.synched at 0x7f4088e8ccd0>"
      ]
     },
     "execution_count": 27,
     "metadata": {},
     "output_type": "execute_result"
    }
   ],
   "source": [
    "from maelzel.core import *\n",
    "session = playback.getPlaySession()\n",
    "session.defInstr('reverb', r'''\n",
    "|kfeedback=0.85|\n",
    "a1, a2 monitor\n",
    "aL, aR  reverbsc a1, a2, kfeedback, 12000, sr, 0.5, 1\n",
    "outch 1, aL - a1, 2, aR - a2 \n",
    "''')\n",
    "chain = Chain([Note(m, 0.15) for m in range(24, 92)])\n",
    "with synched() as p:\n",
    "    chain.play(position=1, instr='piano', sustain=-0.1)\n",
    "    chain.transpose(3).play(position=0, instr='piano', sustain=-0.1)\n",
    "    chain.transpose(7).play(position=1, instr='piano', sustain=-0.1)\n",
    "    chain.transpose(12).play(position=0, instr='piano', sustain=-0.1)\n",
    "    \n",
    "    \n",
    "    # p.sched('reverb', 0, dur=20, priority=2, pargs={'kfeedback':0.8})\n",
    "p"
   ]
  },
  {
   "cell_type": "code",
   "execution_count": 19,
   "id": "fa486f58-70c9-4360-ab35-63736bc86725",
   "metadata": {},
   "outputs": [
    {
     "data": {
      "application/vnd.jupyter.widget-view+json": {
       "model_id": "68bcc48cc1154586883e7d949edaf5cc",
       "version_major": 2,
       "version_minor": 0
      },
      "text/plain": [
       "Button(description='Stop Synths', style=ButtonStyle())"
      ]
     },
     "metadata": {},
     "output_type": "display_data"
    },
    {
     "data": {
      "application/vnd.jupyter.widget-view+json": {
       "model_id": "87e132ebcd574f558869933568f8fe35",
       "version_major": 2,
       "version_minor": 0
      },
      "text/plain": [
       "Output()"
      ]
     },
     "metadata": {},
     "output_type": "display_data"
    },
    {
     "data": {
      "text/html": [
       "Session(<strong style=\"color:MediumSeaGreen\">maelzel.core</strong>, synths=2)"
      ],
      "text/plain": [
       "Session(maelzel.core, synths=2)"
      ]
     },
     "execution_count": 19,
     "metadata": {},
     "output_type": "execute_result"
    }
   ],
   "source": [
    "session"
   ]
  },
  {
   "cell_type": "code",
   "execution_count": 9,
   "id": "9b4244ce-8c2c-4955-b4e6-75fcb0e56412",
   "metadata": {},
   "outputs": [
    {
     "data": {
      "application/vnd.jupyter.widget-view+json": {
       "model_id": "e15555521b2540acbbc7619df495680a",
       "version_major": 2,
       "version_minor": 0
      },
      "text/plain": [
       "Button(description='Stop', style=ButtonStyle())"
      ]
     },
     "metadata": {},
     "output_type": "display_data"
    },
    {
     "data": {
      "application/vnd.jupyter.widget-view+json": {
       "model_id": "889eec1e59a544d88ab267becb7fccc9",
       "version_major": 2,
       "version_minor": 0
      },
      "text/plain": [
       "Output()"
      ]
     },
     "metadata": {},
     "output_type": "display_data"
    },
    {
     "data": {
      "text/html": [
       "<small>SynthGroup - start: 0.130, dur: 10.000, synths: 5</small>\n",
       "<p>instr: <strong style=\"color:MediumSeaGreen\">preset._piano</strong> - <b>3</b> synths</p>\n",
       "<table><thead><tr><th style=\"text-align:left\">p1</th><th style=\"text-align:left\">start</th><th style=\"text-align:left\">dur</th><th style=\"text-align:left\">4</th><th style=\"text-align:left\">5:idataidx_</th><th style=\"text-align:left\">6:inumbps</th><th style=\"text-align:left\">7:ibplen</th><th style=\"text-align:left\">8:igain_</th><th style=\"text-align:left\">9:ichan_</th><th style=\"text-align:left\">10:ipos</th><th style=\"text-align:left\">11:ifade0</th><th style=\"text-align:left\">12:ifade1</th><th style=\"text-align:left\">13:ipchintrp_</th><th style=\"text-align:left\">14:ifadekind_</th><th style=\"text-align:left\">15</th><th style=\"text-align:left\">16</th><th style=\"text-align:left\">...</th><th style=\"text-align:left\">17</th><th style=\"text-align:left\">...</th><th style=\"text-align:left\">18</th><th style=\"text-align:left\">...</th><th style=\"text-align:left\">19</th><th style=\"text-align:left\">...</th><th style=\"text-align:left\">20</th></tr></thead><tbody><tr><td style=\"text-align:left\">1001.0018 <b>𝍪</b></td><td style=\"text-align:left\">1.130</td><td style=\"text-align:left\">7.000</td><td style=\"text-align:left\">0</td><td style=\"text-align:left\">15</td><td style=\"text-align:left\">2</td><td style=\"text-align:left\">3</td><td style=\"text-align:left\">0.70711</td><td style=\"text-align:left\">1</td><td style=\"text-align:left\">0.5</td><td style=\"text-align:left\">0.02</td><td style=\"text-align:left\">0.02</td><td style=\"text-align:left\">0</td><td style=\"text-align:left\">1</td><td style=\"text-align:left\">0</td><td style=\"text-align:left\">...</td></tr><tr><td style=\"text-align:left\">1001.0019 <b>𝍪</b></td><td style=\"text-align:left\">1.130</td><td style=\"text-align:left\">7.000</td><td style=\"text-align:left\">0</td><td style=\"text-align:left\">15</td><td style=\"text-align:left\">2</td><td style=\"text-align:left\">3</td><td style=\"text-align:left\">0.70711</td><td style=\"text-align:left\">1</td><td style=\"text-align:left\">0.5</td><td style=\"text-align:left\">0.02</td><td style=\"text-align:left\">0.02</td><td style=\"text-align:left\">0</td><td style=\"text-align:left\">1</td><td style=\"text-align:left\">0</td><td style=\"text-align:left\">...</td></tr><tr><td style=\"text-align:left\">1001.002 <b>𝍪</b></td><td style=\"text-align:left\">1.630</td><td style=\"text-align:left\">6.000</td><td style=\"text-align:left\">0</td><td style=\"text-align:left\">15</td><td style=\"text-align:left\">2</td><td style=\"text-align:left\">3</td><td style=\"text-align:left\">1</td><td style=\"text-align:left\">1</td><td style=\"text-align:left\">-1</td><td style=\"text-align:left\">0.02</td><td style=\"text-align:left\">0.02</td><td style=\"text-align:left\">0</td><td style=\"text-align:left\">1</td><td style=\"text-align:left\">0</td><td style=\"text-align:left\">...</td></tr></tbody></table>\n",
       "<p>instr: <strong style=\"color:MediumSeaGreen\">reverb</strong> - <b>1</b> synths</p>\n",
       "<table><thead><tr><th style=\"text-align:left\">p1</th><th style=\"text-align:left\">start</th><th style=\"text-align:left\">dur</th><th style=\"text-align:left\">4</th><th style=\"text-align:left\">5:kfeedback</th></tr></thead><tbody><tr><td style=\"text-align:left\">2001.0002 <b>𝍪</b></td><td style=\"text-align:left\">0.130</td><td style=\"text-align:left\">10.000</td><td style=\"text-align:left\">0</td><td style=\"text-align:left\">0.8</td></tr></tbody></table>\n",
       "<p>instr: <strong style=\"color:MediumSeaGreen\">sin</strong> - <b>1</b> synths</p>\n",
       "<table><thead><tr><th style=\"text-align:left\">p1</th><th style=\"text-align:left\">start</th><th style=\"text-align:left\">dur</th><th style=\"text-align:left\">4</th><th style=\"text-align:left\">5:imidi</th><th style=\"text-align:left\">6:iamp</th></tr></thead><tbody><tr><td style=\"text-align:left\">1002.0002 <b>𝍪</b></td><td style=\"text-align:left\">0.230</td><td style=\"text-align:left\">3.000</td><td style=\"text-align:left\">0</td><td style=\"text-align:left\">61.33</td><td style=\"text-align:left\">0.02</td></tr></tbody></table>"
      ],
      "text/plain": [
       "SynthGroup(n=5)\n",
       "    Synth(𝍪 preset._piano:1001.0018, p4=0 idataidx_:5=15 inumbps:6=2 ibplen:7=3 igain_:8=0.707107 ichan_:9=1 ipos:10=0.5 ifade0:11=0.02 ifade1:12=0.02 ipchintrp_:13=0 ifadekind_:14=1 p15=0 p16=60 ...)\n",
       "    Synth(𝍪 preset._piano:1001.0019, p4=0 idataidx_:5=15 inumbps:6=2 ibplen:7=3 igain_:8=0.707107 ichan_:9=1 ipos:10=0.5 ifade0:11=0.02 ifade1:12=0.02 ipchintrp_:13=0 ifadekind_:14=1 p15=0 p16=64 ...)\n",
       "    Synth(𝍪 preset._piano:1001.002, p4=0 idataidx_:5=15 inumbps:6=2 ibplen:7=3 igain_:8=1 ichan_:9=1 ipos:10=-1 ifade0:11=0.02 ifade1:12=0.02 ipchintrp_:13=0 ifadekind_:14=1 p15=0 p16=61 ...)\n",
       "    Synth(𝍪 reverb:2001.0002, p4=0 kfeedback:5=0.8)\n",
       "    Synth(𝍪 sin:1002.0002, p4=0 imidi:5=61.33 iamp:6=0.02)"
      ]
     },
     "execution_count": 9,
     "metadata": {},
     "output_type": "execute_result"
    }
   ],
   "source": [
    "from maelzel.core import *\n",
    "from csoundengine.session import SessionEvent\n",
    "import csoundengine as ce\n",
    "session = playSession()\n",
    "session.defInstr('reverb', r'''\n",
    "|kfeedback=0.85|\n",
    "a1, a2 monitor\n",
    "aL, aR  reverbsc a1, a2, kfeedback, 12000, sr, 0.5, 1\n",
    "outch 1, aL - a1, 2, aR - a2\n",
    "''')\n",
    "session.defInstr('sin', r'''\n",
    "|imidi=60, iamp=0.01|\n",
    "a1 oscili iamp, mtof(imidi)\n",
    "a1 *= linsegr(0, 0.5, 1, 2, 0)\n",
    "outch 1, a1\n",
    "''')\n",
    "play([\n",
    "    Chord(\"4C 4E\", 7, start=1).events(position=0.5),\n",
    "    Note(\"4C#\", 6, start=1.5),  # No customization,\n",
    "    SessionEvent('reverb', dur=10, pargs={'kfeedback': 0.8}, priority=2),\n",
    "    SessionEvent('sin', delay=0.1, dur=3, pargs={'imidi': 61.33, 'iamp':0.02})\n",
    "])\n"
   ]
  },
  {
   "cell_type": "code",
   "execution_count": 2,
   "id": "5049a6a8-3e6b-41b6-a35e-8f0248aff1cc",
   "metadata": {},
   "outputs": [
    {
     "data": {
      "application/vnd.jupyter.widget-view+json": {
       "model_id": "349005c305a640eeb0d8b355ec66bdef",
       "version_major": 2,
       "version_minor": 0
      },
      "text/plain": [
       "Button(description='Stop Synths', style=ButtonStyle())"
      ]
     },
     "metadata": {},
     "output_type": "display_data"
    },
    {
     "data": {
      "application/vnd.jupyter.widget-view+json": {
       "model_id": "f2391fd1c82342a9857b35e1b7a53cdb",
       "version_major": 2,
       "version_minor": 0
      },
      "text/plain": [
       "Output()"
      ]
     },
     "metadata": {},
     "output_type": "display_data"
    },
    {
     "data": {
      "text/html": [
       "Session(<strong style=\"color:MediumSeaGreen\">maelzel.core</strong>, synths=5)"
      ],
      "text/plain": [
       "Session(maelzel.core, synths=5)"
      ]
     },
     "execution_count": 2,
     "metadata": {},
     "output_type": "execute_result"
    }
   ],
   "source": [
    "playSession()"
   ]
  },
  {
   "cell_type": "code",
   "execution_count": 11,
   "id": "d33e9315-f12c-46d4-878a-fad8b3753eba",
   "metadata": {},
   "outputs": [
    {
     "name": "stderr",
     "output_type": "stream",
     "text": [
      "DEBUG:maelzel.core:rendering parts with backend: lilypond\n"
     ]
    },
    {
     "name": "stdout",
     "output_type": "stream",
     "text": [
      "DEBUG: Enharmonic spelling - orig. ['4C', '4F', '4D#', '4G', '4F'], horizontal solution=['4C', '4F', '4Eb', '4G', '4F']\n",
      "DEBUG: Enharmonic spelling - chord «2.500:3.500 [4D 4F]» - solution: ('4D', '4F')\n",
      "       fixed slots: {'C': 0, 'C+': 0, 'C#': 0, 'D-': 0, 'D': 0, 'D+': 0, 'D#': -1, 'E-': 0, 'E': 0, 'E+': 0, 'F': 0, 'F+': 0, 'F#': 0, 'G-': 0, 'G': 0, 'G+': 0, 'G#': 0, 'A-': 0, 'A': 0, 'A+': 0, 'Bb': 0, 'B-': 0, 'B': 0, 'B+': 0}\n",
      "       variants: [('4D', '4F')]\n"
     ]
    },
    {
     "data": {
      "image/png": "[encoded data removed]",
      "text/plain": [
       "<IPython.core.display.Image object>"
      ]
     },
     "metadata": {
      "image/png": {
       "width": 170
      }
     },
     "output_type": "display_data"
    },
    {
     "name": "stderr",
     "output_type": "stream",
     "text": [
      "DEBUG:maelzel.core:Starting engine maelzel.core (nchnls=2)\n",
      "\n",
      "\n",
      "--Csound version 6.18 (double samples) Dec  2 2022\n",
      "[commit: ac38f27d1c5d6ee0cacc1bc719e96be3a2d93a15]\n",
      "\u001b[mlibsndfile-1.0.31\n",
      "\u001b[msr = 44100.0,\u001b[m kr = 689.062,\u001b[m ksmps = 64\n",
      "\u001b[m0dBFS level = 1.0,\u001b[m A4 tuning = 442.0\n",
      "\u001b[maudio buffered in 256 sample-frame blocks\n",
      "\u001b[mreading 1024-byte blks of shorts from adc:system:capture (RAW)\n",
      "writing 512 sample blks of 64-bit floats to dac:system:playback\n",
      "SECTION 1:\n",
      "\u001b[m"
     ]
    },
    {
     "data": {
      "application/vnd.jupyter.widget-view+json": {
       "model_id": "ac22db6214014216a024297417ce0399",
       "version_major": 2,
       "version_minor": 0
      },
      "text/plain": [
       "Button(description='Stop', style=ButtonStyle())"
      ]
     },
     "metadata": {},
     "output_type": "display_data"
    },
    {
     "data": {
      "application/vnd.jupyter.widget-view+json": {
       "model_id": "3c1bbf79b1744702b91223f69040b230",
       "version_major": 2,
       "version_minor": 0
      },
      "text/plain": [
       "Output()"
      ]
     },
     "metadata": {},
     "output_type": "display_data"
    },
    {
     "data": {
      "text/html": [
       "<small>SynthGroup - start: 0.035, dur: 3.500, synths: 3</small>\n",
       "<p>instr: <strong style=\"color:MediumSeaGreen\">preset.saw</strong> - <b>3</b> synths</p>\n",
       "<table><thead><tr><th style=\"text-align:left\">p1</th><th style=\"text-align:left\">start</th><th style=\"text-align:left\">dur</th><th style=\"text-align:left\">4</th><th style=\"text-align:left\">5:idataidx_</th><th style=\"text-align:left\">6:inumbps</th><th style=\"text-align:left\">7:ibplen</th><th style=\"text-align:left\">8:igain</th><th style=\"text-align:left\">9:ichan</th><th style=\"text-align:left\">10:ipos</th><th style=\"text-align:left\">11:ifadein</th><th style=\"text-align:left\">12:ifadeout</th><th style=\"text-align:left\">13:ipchintrp_</th><th style=\"text-align:left\">14:ifadekind</th><th style=\"text-align:left\">15:ktransp</th><th style=\"text-align:left\">16:klag</th><th style=\"text-align:left\">17:kfreqratio</th><th style=\"text-align:left\">18:kQ</th><th style=\"text-align:left\">19</th><th style=\"text-align:left\">20</th><th style=\"text-align:left\">21</th><th style=\"text-align:left\">22</th><th style=\"text-align:left\">...</th></tr></thead><tbody><tr><td style=\"text-align:left\">501.0002 <b>𝍪</b></td><td style=\"text-align:left\">0.035</td><td style=\"text-align:left\">2.500</td><td style=\"text-align:left\">0</td><td style=\"text-align:left\">19</td><td style=\"text-align:left\">4</td><td style=\"text-align:left\">3</td><td style=\"text-align:left\">0.01</td><td style=\"text-align:left\">1</td><td style=\"text-align:left\">0.5</td><td style=\"text-align:left\">0.02</td><td style=\"text-align:left\">0.02</td><td style=\"text-align:left\">0</td><td style=\"text-align:left\">1</td><td style=\"text-align:left\">0</td><td style=\"text-align:left\">0.1</td><td style=\"text-align:left\">0</td><td style=\"text-align:left\">3</td><td style=\"text-align:left\">0</td><td style=\"text-align:left\">60</td><td style=\"text-align:left\">0.51518</td><td style=\"text-align:left\">...</td></tr><tr><td style=\"text-align:left\">501.0003 <b>𝍪</b></td><td style=\"text-align:left\">2.535</td><td style=\"text-align:left\">1.000</td><td style=\"text-align:left\">0</td><td style=\"text-align:left\">19</td><td style=\"text-align:left\">2</td><td style=\"text-align:left\">3</td><td style=\"text-align:left\">0.0070711</td><td style=\"text-align:left\">1</td><td style=\"text-align:left\">0.5</td><td style=\"text-align:left\">0.02</td><td style=\"text-align:left\">0.02</td><td style=\"text-align:left\">0</td><td style=\"text-align:left\">1</td><td style=\"text-align:left\">0</td><td style=\"text-align:left\">0.1</td><td style=\"text-align:left\">0</td><td style=\"text-align:left\">3</td><td style=\"text-align:left\">0</td><td style=\"text-align:left\">62</td><td style=\"text-align:left\">0.51518</td><td style=\"text-align:left\">...</td></tr><tr><td style=\"text-align:left\">501.0004 <b>𝍪</b></td><td style=\"text-align:left\">2.535</td><td style=\"text-align:left\">1.000</td><td style=\"text-align:left\">0</td><td style=\"text-align:left\">19</td><td style=\"text-align:left\">2</td><td style=\"text-align:left\">3</td><td style=\"text-align:left\">0.0070711</td><td style=\"text-align:left\">1</td><td style=\"text-align:left\">0.5</td><td style=\"text-align:left\">0.02</td><td style=\"text-align:left\">0.02</td><td style=\"text-align:left\">0</td><td style=\"text-align:left\">1</td><td style=\"text-align:left\">0</td><td style=\"text-align:left\">0.1</td><td style=\"text-align:left\">0</td><td style=\"text-align:left\">3</td><td style=\"text-align:left\">0</td><td style=\"text-align:left\">65</td><td style=\"text-align:left\">0.51518</td><td style=\"text-align:left\">...</td></tr></tbody></table>"
      ],
      "text/plain": [
       "SynthGroup(n=3)\n",
       "    Synth(𝍪 preset.saw:501.0002, p4=0 idataidx_:5=19 inumbps:6=4 ibplen:7=3 igain:8=0.01 ichan:9=1 ipos:10=0.5 ifadein:11=0.02 ifadeout:12=0.02 ipchintrp_:13=0 ifadekind:14=1 ktransp:15=0 klag:16=0.1 kfreqratio:17=0 kQ:18=3 p19=0 p20=60 p21=0.515178 p22=0.5 ...)\n",
       "    Synth(𝍪 preset.saw:501.0003, p4=0 idataidx_:5=19 inumbps:6=2 ibplen:7=3 igain:8=0.00707107 ichan:9=1 ipos:10=0.5 ifadein:11=0.02 ifadeout:12=0.02 ipchintrp_:13=0 ifadekind:14=1 ktransp:15=0 klag:16=0.1 kfreqratio:17=0 kQ:18=3 p19=0 p20=62 p21=0.515178 p22=1 ...)\n",
       "    Synth(𝍪 preset.saw:501.0004, p4=0 idataidx_:5=19 inumbps:6=2 ibplen:7=3 igain:8=0.00707107 ichan:9=1 ipos:10=0.5 ifadein:11=0.02 ifadeout:12=0.02 ipchintrp_:13=0 ifadekind:14=1 ktransp:15=0 klag:16=0.1 kfreqratio:17=0 kQ:18=3 p19=0 p20=65 p21=0.515178 p22=1 ...)"
      ]
     },
     "execution_count": 11,
     "metadata": {},
     "output_type": "execute_result"
    }
   ],
   "source": [
    "from maelzel.core import *\n",
    "ch = Chain([\n",
    "    Note(60, dur=0.5, gliss=True),\n",
    "    Note(65, 1, gliss=True),\n",
    "    Note(63, 1, gliss=67),\n",
    "    Chord(\"4D 4F\", 1)\n",
    "])\n",
    "ch.show()\n",
    "ch.play(instr='saw', gain=0.01, position=0.5)"
   ]
  },
  {
   "cell_type": "code",
   "execution_count": 12,
   "id": "4faa7b4c-9852-4375-b445-2ef21ba2976b",
   "metadata": {},
   "outputs": [
    {
     "name": "stderr",
     "output_type": "stream",
     "text": [
      "DEBUG:maelzel.core:rendering parts with backend: lilypond\n"
     ]
    },
    {
     "name": "stdout",
     "output_type": "stream",
     "text": [
      "DEBUG: Enharmonic spelling - orig. ['4C', '4G', '4F', '4D#', '4G', '4F'], horizontal solution=['4C', '4G', '4F', '4Eb', '4G', '4F']\n",
      "DEBUG: Enharmonic spelling - chord «2.500:3.500 [4D 4F]» - solution: ('4D', '4F')\n",
      "       fixed slots: {'C': 0, 'C+': 0, 'C#': 0, 'D-': 0, 'D': 0, 'D+': 0, 'D#': -1, 'E-': 0, 'E': 0, 'E+': 0, 'F': 0, 'F+': 0, 'F#': 0, 'G-': 0, 'G': 0, 'G+': 0, 'G#': 0, 'A-': 0, 'A': 0, 'A+': 0, 'Bb': 0, 'B-': 0, 'B': 0, 'B+': 0}\n",
      "       variants: [('4D', '4F')]\n"
     ]
    },
    {
     "data": {
      "image/png": "[encoded data removed]",
      "text/plain": [
       "<IPython.core.display.Image object>"
      ]
     },
     "metadata": {
      "image/png": {
       "width": 180
      }
     },
     "output_type": "display_data"
    },
    {
     "data": {
      "application/vnd.jupyter.widget-view+json": {
       "model_id": "25c278768b1e4388b05100fa15b43e77",
       "version_major": 2,
       "version_minor": 0
      },
      "text/plain": [
       "Button(description='Stop', style=ButtonStyle())"
      ]
     },
     "metadata": {},
     "output_type": "display_data"
    },
    {
     "data": {
      "application/vnd.jupyter.widget-view+json": {
       "model_id": "c4ee47ca7585498784e50603a22311b4",
       "version_major": 2,
       "version_minor": 0
      },
      "text/plain": [
       "Output()"
      ]
     },
     "metadata": {},
     "output_type": "display_data"
    },
    {
     "data": {
      "text/html": [
       "<small>SynthGroup - start: 0.057, dur: 3.500, synths: 3</small>\n",
       "<p>instr: <strong style=\"color:MediumSeaGreen\">preset.saw</strong> - <b>3</b> synths</p>\n",
       "<table><thead><tr><th style=\"text-align:left\">p1</th><th style=\"text-align:left\">start</th><th style=\"text-align:left\">dur</th><th style=\"text-align:left\">4</th><th style=\"text-align:left\">5:idataidx_</th><th style=\"text-align:left\">6:inumbps</th><th style=\"text-align:left\">7:ibplen</th><th style=\"text-align:left\">8:igain</th><th style=\"text-align:left\">9:ichan</th><th style=\"text-align:left\">10:ipos</th><th style=\"text-align:left\">11:ifadein</th><th style=\"text-align:left\">12:ifadeout</th><th style=\"text-align:left\">13:ipchintrp_</th><th style=\"text-align:left\">14:ifadekind</th><th style=\"text-align:left\">15:ktransp</th><th style=\"text-align:left\">16:klag</th><th style=\"text-align:left\">17:kfreqratio</th><th style=\"text-align:left\">18:kQ</th><th style=\"text-align:left\">19</th><th style=\"text-align:left\">20</th><th style=\"text-align:left\">21</th><th style=\"text-align:left\">22</th><th style=\"text-align:left\">...</th></tr></thead><tbody><tr><td style=\"text-align:left\">501.0005 <b>𝍪</b></td><td style=\"text-align:left\">0.057</td><td style=\"text-align:left\">2.500</td><td style=\"text-align:left\">0</td><td style=\"text-align:left\">19</td><td style=\"text-align:left\">5</td><td style=\"text-align:left\">3</td><td style=\"text-align:left\">0.1</td><td style=\"text-align:left\">1</td><td style=\"text-align:left\">0.5</td><td style=\"text-align:left\">0.02</td><td style=\"text-align:left\">0.02</td><td style=\"text-align:left\">0</td><td style=\"text-align:left\">1</td><td style=\"text-align:left\">0</td><td style=\"text-align:left\">0.1</td><td style=\"text-align:left\">0</td><td style=\"text-align:left\">3</td><td style=\"text-align:left\">0</td><td style=\"text-align:left\">60</td><td style=\"text-align:left\">0.51518</td><td style=\"text-align:left\">...</td></tr><tr><td style=\"text-align:left\">501.0006 <b>𝍪</b></td><td style=\"text-align:left\">2.557</td><td style=\"text-align:left\">1.000</td><td style=\"text-align:left\">0</td><td style=\"text-align:left\">19</td><td style=\"text-align:left\">2</td><td style=\"text-align:left\">3</td><td style=\"text-align:left\">0.070711</td><td style=\"text-align:left\">1</td><td style=\"text-align:left\">0.5</td><td style=\"text-align:left\">0.02</td><td style=\"text-align:left\">0.02</td><td style=\"text-align:left\">0</td><td style=\"text-align:left\">1</td><td style=\"text-align:left\">0</td><td style=\"text-align:left\">0.1</td><td style=\"text-align:left\">0</td><td style=\"text-align:left\">3</td><td style=\"text-align:left\">0</td><td style=\"text-align:left\">62</td><td style=\"text-align:left\">0.51518</td><td style=\"text-align:left\">...</td></tr><tr><td style=\"text-align:left\">501.0007 <b>𝍪</b></td><td style=\"text-align:left\">2.557</td><td style=\"text-align:left\">1.000</td><td style=\"text-align:left\">0</td><td style=\"text-align:left\">19</td><td style=\"text-align:left\">2</td><td style=\"text-align:left\">3</td><td style=\"text-align:left\">0.070711</td><td style=\"text-align:left\">1</td><td style=\"text-align:left\">0.5</td><td style=\"text-align:left\">0.02</td><td style=\"text-align:left\">0.02</td><td style=\"text-align:left\">0</td><td style=\"text-align:left\">1</td><td style=\"text-align:left\">0</td><td style=\"text-align:left\">0.1</td><td style=\"text-align:left\">0</td><td style=\"text-align:left\">3</td><td style=\"text-align:left\">0</td><td style=\"text-align:left\">65</td><td style=\"text-align:left\">0.51518</td><td style=\"text-align:left\">...</td></tr></tbody></table>"
      ],
      "text/plain": [
       "SynthGroup(n=3)\n",
       "    Synth(𝍪 preset.saw:501.0005, p4=0 idataidx_:5=19 inumbps:6=5 ibplen:7=3 igain:8=0.1 ichan:9=1 ipos:10=0.5 ifadein:11=0.02 ifadeout:12=0.02 ipchintrp_:13=0 ifadekind:14=1 ktransp:15=0 klag:16=0.1 kfreqratio:17=0 kQ:18=3 p19=0 p20=60 p21=0.515178 p22=0.428571 ...)\n",
       "    Synth(𝍪 preset.saw:501.0006, p4=0 idataidx_:5=19 inumbps:6=2 ibplen:7=3 igain:8=0.0707107 ichan:9=1 ipos:10=0.5 ifadein:11=0.02 ifadeout:12=0.02 ipchintrp_:13=0 ifadekind:14=1 ktransp:15=0 klag:16=0.1 kfreqratio:17=0 kQ:18=3 p19=0 p20=62 p21=0.515178 p22=1 ...)\n",
       "    Synth(𝍪 preset.saw:501.0007, p4=0 idataidx_:5=19 inumbps:6=2 ibplen:7=3 igain:8=0.0707107 ichan:9=1 ipos:10=0.5 ifadein:11=0.02 ifadeout:12=0.02 ipchintrp_:13=0 ifadekind:14=1 ktransp:15=0 klag:16=0.1 kfreqratio:17=0 kQ:18=3 p19=0 p20=65 p21=0.515178 p22=1 ...)"
      ]
     },
     "execution_count": 12,
     "metadata": {},
     "output_type": "execute_result"
    }
   ],
   "source": [
    "from maelzel.core import *\n",
    "ch = Chain([\n",
    "    Note(60, dur=0.5, gliss=True),\n",
    "    Note(67, dur=0, gliss=True),\n",
    "    Note(65, 1, gliss=True),\n",
    "    Note(63, 1, gliss=67),\n",
    "    Chord(\"4D 4F\", 1)\n",
    "])\n",
    "ch.show()\n",
    "ch.play(instr='saw', gain=0.1, position=0.5)"
   ]
  },
  {
   "cell_type": "code",
   "execution_count": 13,
   "id": "ab053866-5d21-46f6-bc5f-3da1fc269241",
   "metadata": {},
   "outputs": [
    {
     "name": "stderr",
     "output_type": "stream",
     "text": [
      "DEBUG:maelzel.core:rendering parts with backend: lilypond\n"
     ]
    },
    {
     "name": "stdout",
     "output_type": "stream",
     "text": [
      "DEBUG: Enharmonic spelling - orig. ['4C', '4F', '4F'], horizontal solution=['4C', '4F', '4F']\n",
      "DEBUG: Enharmonic spelling - chord «1.500:2.500 [4D 4F]» - solution: ('4D', '4F')\n",
      "       fixed slots: {'C': 0, 'C+': 0, 'C#': 0, 'D-': 0, 'D': 0, 'D+': 0, 'D#': 0, 'E-': 0, 'E': 0, 'E+': 0, 'F': 0, 'F+': 0, 'F#': 0, 'G-': 0, 'G': 0, 'G+': 0, 'G#': 0, 'A-': 0, 'A': 0, 'A+': 0, 'Bb': 0, 'B-': 0, 'B': 0, 'B+': 0}\n",
      "       variants: [('4D', '4F')]\n"
     ]
    },
    {
     "data": {
      "image/png": "[encoded data removed]",
      "text/plain": [
       "<IPython.core.display.Image object>"
      ]
     },
     "metadata": {
      "image/png": {
       "width": 152
      }
     },
     "output_type": "display_data"
    }
   ],
   "source": [
    "from maelzel.core import *\n",
    "ch = Chain([\n",
    "    Note(60, dur=0.5, gliss=True),\n",
    "    Note(65, 1, gliss=True),\n",
    "    Chord(\"4D 4F\", 1)\n",
    "])\n",
    "ch.show()\n",
    "# ch.events()\n",
    "#ch.play(instr='saw', gain=0.1, position=0.5)"
   ]
  },
  {
   "cell_type": "code",
   "execution_count": 14,
   "id": "565deea4-a362-4a14-b072-4f64e4398c76",
   "metadata": {},
   "outputs": [
    {
     "name": "stderr",
     "output_type": "stream",
     "text": [
      "DEBUG:maelzel.core:rendering parts with backend: lilypond\n"
     ]
    },
    {
     "name": "stdout",
     "output_type": "stream",
     "text": [
      "DEBUG: Enharmonic spelling - orig. ['4C', '4F', '4F', '4G'], horizontal solution=['4C', '4F', '4F', '4G']\n"
     ]
    },
    {
     "data": {
      "image/png": "[encoded data removed]",
      "text/plain": [
       "<IPython.core.display.Image object>"
      ]
     },
     "metadata": {
      "image/png": {
       "width": 159
      }
     },
     "output_type": "display_data"
    },
    {
     "data": {
      "application/vnd.jupyter.widget-view+json": {
       "model_id": "b817386d12ea48328815dead56a81e0d",
       "version_major": 2,
       "version_minor": 0
      },
      "text/plain": [
       "Button(description='Stop', style=ButtonStyle())"
      ]
     },
     "metadata": {},
     "output_type": "display_data"
    },
    {
     "data": {
      "application/vnd.jupyter.widget-view+json": {
       "model_id": "7f6724aaecc645268cf9e4a6c55f4839",
       "version_major": 2,
       "version_minor": 0
      },
      "text/plain": [
       "Output()"
      ]
     },
     "metadata": {},
     "output_type": "display_data"
    },
    {
     "data": {
      "text/html": [
       "<small>SynthGroup - start: 0.068, dur: 2.500, synths: 1</small>\n",
       "<p>instr: <strong style=\"color:MediumSeaGreen\">preset.saw</strong> - <b>1</b> synths</p>\n",
       "<table><thead><tr><th style=\"text-align:left\">p1</th><th style=\"text-align:left\">start</th><th style=\"text-align:left\">dur</th><th style=\"text-align:left\">4</th><th style=\"text-align:left\">5:idataidx_</th><th style=\"text-align:left\">6:inumbps</th><th style=\"text-align:left\">7:ibplen</th><th style=\"text-align:left\">8:igain</th><th style=\"text-align:left\">9:ichan</th><th style=\"text-align:left\">10:ipos</th><th style=\"text-align:left\">11:ifadein</th><th style=\"text-align:left\">12:ifadeout</th><th style=\"text-align:left\">13:ipchintrp_</th><th style=\"text-align:left\">14:ifadekind</th><th style=\"text-align:left\">15:ktransp</th><th style=\"text-align:left\">16:klag</th><th style=\"text-align:left\">17:kfreqratio</th><th style=\"text-align:left\">18:kQ</th><th style=\"text-align:left\">19</th><th style=\"text-align:left\">20</th><th style=\"text-align:left\">21</th><th style=\"text-align:left\">22</th><th style=\"text-align:left\">...</th></tr></thead><tbody><tr><td style=\"text-align:left\">501.0008 <b>𝍪</b></td><td style=\"text-align:left\">0.068</td><td style=\"text-align:left\">2.500</td><td style=\"text-align:left\">0</td><td style=\"text-align:left\">19</td><td style=\"text-align:left\">4</td><td style=\"text-align:left\">3</td><td style=\"text-align:left\">0.1</td><td style=\"text-align:left\">1</td><td style=\"text-align:left\">-1</td><td style=\"text-align:left\">0.02</td><td style=\"text-align:left\">0.02</td><td style=\"text-align:left\">0</td><td style=\"text-align:left\">1</td><td style=\"text-align:left\">0</td><td style=\"text-align:left\">0.1</td><td style=\"text-align:left\">0</td><td style=\"text-align:left\">3</td><td style=\"text-align:left\">0</td><td style=\"text-align:left\">60</td><td style=\"text-align:left\">0.51518</td><td style=\"text-align:left\">...</td></tr></tbody></table>"
      ],
      "text/plain": [
       "SynthGroup(n=1)\n",
       "    Synth(𝍪 preset.saw:501.0008, p4=0 idataidx_:5=19 inumbps:6=4 ibplen:7=3 igain:8=0.1 ichan:9=1 ipos:10=-1 ifadein:11=0.02 ifadeout:12=0.02 ipchintrp_:13=0 ifadekind:14=1 ktransp:15=0 klag:16=0.1 kfreqratio:17=0 kQ:18=3 p19=0 p20=60 p21=0.515178 p22=0.5 ...)"
      ]
     },
     "execution_count": 14,
     "metadata": {},
     "output_type": "execute_result"
    }
   ],
   "source": [
    "from maelzel.core import *\n",
    "ch = Chain([\n",
    "    Note(60, dur=0.5, gliss=True),\n",
    "    Note(65, 1, tied=True),\n",
    "    Note(65, 1, gliss=67)\n",
    "])\n",
    "ch.show()\n",
    "ch.play(instr='saw', gain=0.1)\n",
    "# ch.events()\n",
    "#ch.play(instr='saw', gain=0.1, position=0.5)"
   ]
  },
  {
   "cell_type": "code",
   "execution_count": 16,
   "id": "e5a5492a-9181-4457-a2a8-eb76ca9c1202",
   "metadata": {},
   "outputs": [
    {
     "name": "stderr",
     "output_type": "stream",
     "text": [
      "DEBUG:maelzel.core:rendering parts with backend: lilypond\n"
     ]
    },
    {
     "name": "stdout",
     "output_type": "stream",
     "text": [
      "DEBUG: Enharmonic spelling - orig. ['4D', '4D'], horizontal solution=['4D', '4D']\n"
     ]
    },
    {
     "data": {
      "image/png": "[encoded data removed]",
      "text/plain": [
       "<IPython.core.display.Image object>"
      ]
     },
     "metadata": {
      "image/png": {
       "width": 149
      }
     },
     "output_type": "display_data"
    },
    {
     "data": {
      "text/plain": [
       "[«0.000:1.000 4D»,\n",
       " «1.000:1.500 4D mf attachments=[Articulation(anchor=None, color='', instancePriority=0, kind='accent', properties={})]»]"
      ]
     },
     "execution_count": 16,
     "metadata": {},
     "output_type": "execute_result"
    }
   ],
   "source": [
    "from maelzel.core import *\n",
    "ch = Chain([\n",
    "    Note(\"4D\", 1, tied=True),\n",
    "    Note(\"4D\", 0.5, dynamic='mf').addSymbol('articulation', 'accent')\n",
    "    # Chord(\"4D 4F\", 1)\n",
    "])\n",
    "ch.show()\n",
    "ch.scoringEvents()\n",
    "# ch.events()\n",
    "#ch.play(instr='saw', gain=0.1, position=0.5)"
   ]
  },
  {
   "cell_type": "code",
   "execution_count": 11,
   "id": "44955609-c294-4e28-856d-66368c552ee4",
   "metadata": {},
   "outputs": [
    {
     "name": "stderr",
     "output_type": "stream",
     "text": [
      "DEBUG:maelzel.core:rendering parts with backend: lilypond\n"
     ]
    },
    {
     "name": "stdout",
     "output_type": "stream",
     "text": [
      "['4D', '4F'] [['4D', '4F']] ['4D', '4F']\n",
      ".... «1.000:2.500 [4D 4F] tiedPrev» 4F\n"
     ]
    },
    {
     "data": {
      "image/png": "[encoded data removed]",
      "text/plain": [
       "<IPython.core.display.Image object>"
      ]
     },
     "metadata": {
      "image/png": {
       "width": 139
      }
     },
     "output_type": "display_data"
    },
    {
     "name": "stdout",
     "output_type": "stream",
     "text": [
      "[SynthEvent(delay=0, dur=2.5, gain=1, chan=1, fade=(0.02, 0.02), instr=_piano)\n",
      "bps 0.000s: 62       0.515178\n",
      "    1.000s: 62       0.515178\n",
      "    2.500s: 62       0.515178\n",
      ", SynthEvent(delay=1, dur=1.5, gain=1, chan=1, fade=(0.02, 0.02), instr=_piano)\n",
      "bps 0.000s: 65       0.515178\n",
      "    1.500s: 65       0.515178\n",
      "]\n"
     ]
    },
    {
     "data": {
      "application/vnd.jupyter.widget-view+json": {
       "model_id": "9e47c06fb9a5477baae975d6406427a3",
       "version_major": 2,
       "version_minor": 0
      },
      "text/plain": [
       "Button(description='Stop', style=ButtonStyle())"
      ]
     },
     "metadata": {},
     "output_type": "display_data"
    },
    {
     "data": {
      "application/vnd.jupyter.widget-view+json": {
       "model_id": "dcb0708d144f4d93a15d21c63a69bdae",
       "version_major": 2,
       "version_minor": 0
      },
      "text/plain": [
       "Output()"
      ]
     },
     "metadata": {},
     "output_type": "display_data"
    },
    {
     "data": {
      "text/html": [
       "<small>SynthGroup - start: 0.063, dur: 2.500, synths: 2</small>\n",
       "<p>instr: <strong style=\"color:MediumSeaGreen\">preset._piano</strong> - <b>2</b> synths</p>\n",
       "<table><thead><tr><th style=\"text-align:left\">p1</th><th style=\"text-align:left\">start</th><th style=\"text-align:left\">dur</th><th style=\"text-align:left\">4</th><th style=\"text-align:left\">5:idataidx_</th><th style=\"text-align:left\">6:inumbps</th><th style=\"text-align:left\">7:ibplen</th><th style=\"text-align:left\">8:igain</th><th style=\"text-align:left\">9:ichan</th><th style=\"text-align:left\">10:ipos</th><th style=\"text-align:left\">11:ifadein</th><th style=\"text-align:left\">12:ifadeout</th><th style=\"text-align:left\">13:ipchintrp_</th><th style=\"text-align:left\">14:ifadekind</th><th style=\"text-align:left\">15</th><th style=\"text-align:left\">16</th><th style=\"text-align:left\">...</th></tr></thead><tbody><tr><td style=\"text-align:left\">501.0003 <b>𝍪</b></td><td style=\"text-align:left\">0.063</td><td style=\"text-align:left\">2.500</td><td style=\"text-align:left\">0</td><td style=\"text-align:left\">15</td><td style=\"text-align:left\">3</td><td style=\"text-align:left\">3</td><td style=\"text-align:left\">1</td><td style=\"text-align:left\">1</td><td style=\"text-align:left\">-1</td><td style=\"text-align:left\">0.02</td><td style=\"text-align:left\">0.02</td><td style=\"text-align:left\">0</td><td style=\"text-align:left\">1</td><td style=\"text-align:left\">0</td><td style=\"text-align:left\">...</td></tr><tr><td style=\"text-align:left\">501.0004 <b>𝍪</b></td><td style=\"text-align:left\">1.063</td><td style=\"text-align:left\">1.500</td><td style=\"text-align:left\">0</td><td style=\"text-align:left\">15</td><td style=\"text-align:left\">2</td><td style=\"text-align:left\">3</td><td style=\"text-align:left\">1</td><td style=\"text-align:left\">1</td><td style=\"text-align:left\">-1</td><td style=\"text-align:left\">0.02</td><td style=\"text-align:left\">0.02</td><td style=\"text-align:left\">0</td><td style=\"text-align:left\">1</td><td style=\"text-align:left\">0</td><td style=\"text-align:left\">...</td></tr></tbody></table>"
      ],
      "text/plain": [
       "SynthGroup(n=2)\n",
       "    Synth(𝍪 preset._piano:501.0003, p4=0 idataidx_:5=15 inumbps:6=3 ibplen:7=3 igain:8=1 ichan:9=1 ipos:10=-1 ifadein:11=0.02 ifadeout:12=0.02 ipchintrp_:13=0 ifadekind:14=1 p15=0 p16=62 ...)\n",
       "    Synth(𝍪 preset._piano:501.0004, p4=0 idataidx_:5=15 inumbps:6=2 ibplen:7=3 igain:8=1 ichan:9=1 ipos:10=-1 ifadein:11=0.02 ifadeout:12=0.02 ipchintrp_:13=0 ifadekind:14=1 p15=0 p16=65 ...)"
      ]
     },
     "execution_count": 11,
     "metadata": {},
     "output_type": "execute_result"
    }
   ],
   "source": [
    "from maelzel.core import *\n",
    "ch = Chain([\n",
    "    Note(\"4D\", 1, tied=True),\n",
    "    Chord(\"4D 4F\", 1.5),\n",
    "    # Chord(\"4D 4F\", 1)\n",
    "])\n",
    "ch.show()\n",
    "print(ch.events())\n",
    "ch.play()\n",
    "# ch.events()\n",
    "#ch.play(instr='saw', gain=0.1, position=0.5)"
   ]
  },
  {
   "cell_type": "code",
   "execution_count": 1,
   "id": "ae56a2ec-8ea9-4b37-a525-5e1deb53d652",
   "metadata": {},
   "outputs": [
    {
     "name": "stdout",
     "output_type": "stream",
     "text": [
      "csoundengine.magic extension loaded\n",
      "Magics available: %csound, %%csound, %%definstr\n"
     ]
    },
    {
     "data": {
      "image/png": "[encoded data removed]",
      "text/plain": [
       "<IPython.core.display.Image object>"
      ]
     },
     "metadata": {
      "image/png": {
       "width": 241
      }
     },
     "output_type": "display_data"
    },
    {
     "data": {
      "text/plain": [
       "[«0.000:0.333 tiedNext [4D 4F]», «0.333:1.833 tiedPrev [4D 4F] mf»]"
      ]
     },
     "execution_count": 1,
     "metadata": {},
     "output_type": "execute_result"
    }
   ],
   "source": [
    "from maelzel.core import *\n",
    "ch = Chain([\n",
    "    Chord(\"4D 4F\", 1/3, tied=True),\n",
    "    Chord(\"4D 4F\", 1.5, dynamic='mf'),\n",
    "    # Chord(\"4D 4F\", 1)\n",
    "])\n",
    "ch.show()\n",
    "ch.scoringEvents()\n",
    "#print(ch.events())\n",
    "#ch.play()"
   ]
  },
  {
   "cell_type": "code",
   "execution_count": 1,
   "id": "c83d9ad2-8119-403e-8a37-07d80148aa2a",
   "metadata": {},
   "outputs": [
    {
     "name": "stdout",
     "output_type": "stream",
     "text": [
      "csoundengine.magic extension loaded\n",
      "Magics available: %csound, %%csound, %%definstr\n"
     ]
    }
   ],
   "source": [
    "from maelzel.core import *\n",
    "from maelzel.core import _musicobjtools\n",
    "\n",
    "ch = Chain([\n",
    "    Chord(\"4D 4F\", 1, gliss=True),\n",
    "    Chord(\"4F 4Ab\", 1.5, dynamic='mf'),\n",
    "    # Chord(\"4D 4F\", 1)\n",
    "])\n",
    "\n",
    "ch.play()\n",
    "ch.events()"
   ]
  },
  {
   "cell_type": "code",
   "execution_count": 6,
   "id": "a18443f3-44fa-461a-8057-fb8a95078170",
   "metadata": {},
   "outputs": [
    {
     "data": {
      "image/png": "[encoded data removed]",
      "text/plain": [
       "<IPython.core.display.Image object>"
      ]
     },
     "metadata": {
      "image/png": {
       "width": 313
      }
     },
     "output_type": "display_data"
    },
    {
     "name": "stdout",
     "output_type": "stream",
     "text": [
      "playargs:  PlayArgs(instr=saw, gain=0.05, params={'kfreqratio': 10}, delay=0.0, fade=0.02, pitchinterpol=linear, priority=1, position=-1, sustain=0, chan=1, fadeshape=cos)\n",
      "playargs:  PlayArgs(instr=saw, gain=0.05, params={'kfreqratio': 10}, delay=0.0, fade=0.02, pitchinterpol=linear, priority=1, position=-1, sustain=0, chan=1, fadeshape=cos)\n",
      "playargs:  PlayArgs(fade=0.5, instr=saw, gain=0.05, params={'kfreqratio': 10}, delay=0.0, pitchinterpol=linear, priority=1, position=-1, sustain=0, chan=1, fadeshape=cos)\n",
      "playargs:  PlayArgs(fade=0.5, instr=saw, gain=0.05, params={'kfreqratio': 10}, delay=0.0, pitchinterpol=linear, priority=1, position=-1, sustain=0, chan=1, fadeshape=cos)\n"
     ]
    },
    {
     "data": {
      "text/plain": [
       "[SynthEvent(delay=0, dur=4.5, gain=0.05, chan=1, fade=(0.5, 0.5), instr=saw, namedArgs={'kfreqratio': 10})\n",
       " bps 0.000s: 62       0.515178\n",
       "     2.000s: 62       0.515178\n",
       "     3.000s: 65       0.515178\n",
       "     4.500s: 65       0.515178,\n",
       " SynthEvent(delay=0, dur=4.5, gain=0.05, chan=1, fade=(0.5, 0.5), instr=saw, namedArgs={'kfreqratio': 10})\n",
       " bps 0.000s: 65       0.515178\n",
       "     2.000s: 65       0.515178\n",
       "     3.000s: 68       0.515178\n",
       "     4.500s: 68       0.515178]"
      ]
     },
     "execution_count": 6,
     "metadata": {},
     "output_type": "execute_result"
    }
   ],
   "source": [
    "from maelzel.core import *\n",
    "from maelzel.core import _musicobjtools\n",
    "\n",
    "ch = Chain([\n",
    "    Chord(\"4D 4F\", 2, tied=True, dynamic='p').setSymbol('articulation', 'tenuto'),\n",
    "    Chord(\"4D 4F\", 1, gliss=True),\n",
    "    Chord(\"4F 4Ab\", 1.5, dynamic='mf').setSymbol('articulation', 'accent'),\n",
    "    # Chord(\"4D 4F\", 1)\n",
    "])\n",
    "ch.show()\n",
    "# ch[0][0].setPlay(instr='sin')\n",
    "ch.setPlay(instr='saw', gain=0.05, params={'kfreqratio': 10})\n",
    "\n",
    "ch.play()\n",
    "ch.events(fade=0.5)"
   ]
  },
  {
   "cell_type": "code",
   "execution_count": 8,
   "id": "60264660-a7c5-4c7f-ad28-b850e5796653",
   "metadata": {},
   "outputs": [
    {
     "data": {
      "text/plain": [
       "[«0.000:2.000 tiedNext [4D 4F] p»,\n",
       " «2.000:3.000 tiedPrev [4D 4F] gliss»,\n",
       " «3.000:4.500 [4F 4G#] mf»]"
      ]
     },
     "execution_count": 8,
     "metadata": {},
     "output_type": "execute_result"
    }
   ],
   "source": [
    "ch.scoringEvents()"
   ]
  },
  {
   "cell_type": "code",
   "execution_count": null,
   "id": "68373978-0627-4bce-bfdb-98c77c454e21",
   "metadata": {},
   "outputs": [],
   "source": []
  }
 ],
 "metadata": {
  "kernelspec": {
   "display_name": "Python 3 (ipykernel)",
   "language": "python",
   "name": "python3"
  },
  "language_info": {
   "codemirror_mode": {
    "name": "ipython",
    "version": 3
   },
   "file_extension": ".py",
   "mimetype": "text/x-python",
   "name": "python",
   "nbconvert_exporter": "python",
   "pygments_lexer": "ipython3",
   "version": "3.9.15"
  }
 },
 "nbformat": 4,
 "nbformat_minor": 5
}
