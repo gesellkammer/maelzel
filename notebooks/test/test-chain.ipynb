{
 "cells": [
  {
   "cell_type": "code",
   "execution_count": 1,
   "id": "76c88e1e-2125-4fdf-bb40-d81eeac180e3",
   "metadata": {},
   "outputs": [],
   "source": [
    "from maelzel.core import *\n",
    "from maelzel.scoring import enharmonics\n",
    "from maelzel.scoring import Notation\n",
    "logger.setLevel(\"DEBUG\")\n"
   ]
  },
  {
   "cell_type": "code",
   "execution_count": 14,
   "id": "984e6781-7a66-4b8c-83a6-9c67c5f91ab3",
   "metadata": {},
   "outputs": [
    {
     "name": "stderr",
     "output_type": "stream",
     "text": [
      "kf.service.services: KApplicationTrader: mimeType \"x-scheme-handler/file\" not found\n"
     ]
    },
    {
     "name": "stdout",
     "output_type": "stream",
     "text": [
      "**Notify** Config Edit: maelzel:core: Modify the values as needed. Save the file to accept the changes or press ctrl-c at the python prompt to cancel\n"
     ]
    },
    {
     "name": "stderr",
     "output_type": "stream",
     "text": [
      "Hspell: can't open /usr/share/hspell/hebrew.wgz.sizes.\n",
      "kf.sonnet.clients.hspell: HSpellDict::HSpellDict: Init failed\n"
     ]
    },
    {
     "name": "stdout",
     "output_type": "stream",
     "text": [
      "**Notify** Edit: Editing finished, any further modifications will have no effect\n"
     ]
    }
   ],
   "source": [
    "c = getConfig()\n",
    "c.edit()"
   ]
  },
  {
   "cell_type": "code",
   "execution_count": 2,
   "id": "81fa549c-d405-4407-ae98-fb499dba676a",
   "metadata": {},
   "outputs": [],
   "source": [
    "setScoreStruct(ScoreStruct('5/4, 60'))"
   ]
  },
  {
   "cell_type": "code",
   "execution_count": 2,
   "id": "2e530757-e63e-4f1f-b542-ddd63c60f719",
   "metadata": {},
   "outputs": [
    {
     "name": "stderr",
     "output_type": "stream",
     "text": [
      "DEBUG:maelzel.core:rendering parts with backend: lilypond\n"
     ]
    },
    {
     "name": "stdout",
     "output_type": "stream",
     "text": [
      "['4C', '4D', '4E-'] [['4C', '4D', '4E-'], ['4C', '4D', '4D#+']] ['4C', '4D', '4E-']\n",
      ".... «4.000:5.000 [4D# 4E-] properties={'resetEnharmonicSlots': True}» 4E-\n"
     ]
    },
    {
     "data": {
      "image/png": "[encoded data removed]",
      "text/plain": [
       "<IPython.core.display.Image object>"
      ]
     },
     "metadata": {
      "image/png": {
       "width": 229
      }
     },
     "output_type": "display_data"
    }
   ],
   "source": [
    "ch = Chain([\n",
    "    Note(\"4C\", 2.5),\n",
    "    Note(\"4D\", 0.5),\n",
    "    Chord(\"4D# 4E-\", 1)\n",
    "], offset=1)\n",
    "ch.show()\n",
    "#ch.play()"
   ]
  },
  {
   "cell_type": "code",
   "execution_count": 6,
   "id": "beb4e85f-4ddf-4211-90d6-b05faca6017c",
   "metadata": {},
   "outputs": [],
   "source": [
    "ch.write('~/tmp/test.ly')"
   ]
  },
  {
   "cell_type": "code",
   "execution_count": 4,
   "id": "83252f6b-3fdc-4789-9e4f-3cd185fd6209",
   "metadata": {},
   "outputs": [
    {
     "name": "stderr",
     "output_type": "stream",
     "text": [
      "DEBUG:maelzel.core:Starting engine maelzel.core (nchnls=2)\n",
      "\n",
      "\n",
      "--Csound version 6.18 (double samples) Dec  2 2022\n",
      "[commit: ac38f27d1c5d6ee0cacc1bc719e96be3a2d93a15]\n",
      "\u001b[mlibsndfile-1.0.31\n",
      "\u001b[msr = 44100.0,\u001b[m kr = 689.062,\u001b[m ksmps = 64\n",
      "\u001b[m0dBFS level = 1.0,\u001b[m A4 tuning = 442.0\n",
      "\u001b[maudio buffered in 256 sample-frame blocks\n",
      "\u001b[mreading 1024-byte blks of shorts from adc:system:capture (RAW)\n",
      "writing 512 sample blks of 64-bit floats to dac:system:playback\n",
      "SECTION 1:\n",
      "\u001b[m"
     ]
    },
    {
     "data": {
      "application/vnd.jupyter.widget-view+json": {
       "model_id": "a96461065be141f4a913e36cc540411c",
       "version_major": 2,
       "version_minor": 0
      },
      "text/plain": [
       "Button(description='Stop', style=ButtonStyle())"
      ]
     },
     "metadata": {},
     "output_type": "display_data"
    },
    {
     "data": {
      "application/vnd.jupyter.widget-view+json": {
       "model_id": "365d0db473c548409ef16ce015216385",
       "version_major": 2,
       "version_minor": 0
      },
      "text/plain": [
       "Output()"
      ]
     },
     "metadata": {},
     "output_type": "display_data"
    },
    {
     "data": {
      "text/html": [
       "<small>SynthGroup - start: 1.060, dur: 4.000, synths: 4</small>\n",
       "<p>instr: <strong style=\"color:MediumSeaGreen\">preset._piano</strong> - <b>4</b> synths</p>\n",
       "<table><thead><tr><th style=\"text-align:left\">p1</th><th style=\"text-align:left\">start</th><th style=\"text-align:left\">dur</th><th style=\"text-align:left\">4</th><th style=\"text-align:left\">5:idataidx_</th><th style=\"text-align:left\">6:inumbps</th><th style=\"text-align:left\">7:ibplen</th><th style=\"text-align:left\">8:igain</th><th style=\"text-align:left\">9:ichan</th><th style=\"text-align:left\">10:ipos</th><th style=\"text-align:left\">11:ifadein</th><th style=\"text-align:left\">12:ifadeout</th><th style=\"text-align:left\">13:ipchintrp_</th><th style=\"text-align:left\">14:ifadekind</th><th style=\"text-align:left\">15</th><th style=\"text-align:left\">16</th><th style=\"text-align:left\">...</th></tr></thead><tbody><tr><td style=\"text-align:left\">501.0002 <b>𝍪</b></td><td style=\"text-align:left\">1.060</td><td style=\"text-align:left\">2.500</td><td style=\"text-align:left\">0</td><td style=\"text-align:left\">15</td><td style=\"text-align:left\">2</td><td style=\"text-align:left\">3</td><td style=\"text-align:left\">1</td><td style=\"text-align:left\">1</td><td style=\"text-align:left\">0.5</td><td style=\"text-align:left\">0.02</td><td style=\"text-align:left\">0.02</td><td style=\"text-align:left\">0</td><td style=\"text-align:left\">1</td><td style=\"text-align:left\">0</td><td style=\"text-align:left\">...</td></tr><tr><td style=\"text-align:left\">501.0003 <b>𝍪</b></td><td style=\"text-align:left\">3.560</td><td style=\"text-align:left\">0.500</td><td style=\"text-align:left\">0</td><td style=\"text-align:left\">15</td><td style=\"text-align:left\">2</td><td style=\"text-align:left\">3</td><td style=\"text-align:left\">1</td><td style=\"text-align:left\">1</td><td style=\"text-align:left\">0.5</td><td style=\"text-align:left\">0.02</td><td style=\"text-align:left\">0.02</td><td style=\"text-align:left\">0</td><td style=\"text-align:left\">1</td><td style=\"text-align:left\">0</td><td style=\"text-align:left\">...</td></tr><tr><td style=\"text-align:left\">501.0004 <b>𝍪</b></td><td style=\"text-align:left\">4.060</td><td style=\"text-align:left\">1.000</td><td style=\"text-align:left\">0</td><td style=\"text-align:left\">15</td><td style=\"text-align:left\">2</td><td style=\"text-align:left\">3</td><td style=\"text-align:left\">0.70711</td><td style=\"text-align:left\">1</td><td style=\"text-align:left\">0.5</td><td style=\"text-align:left\">0.02</td><td style=\"text-align:left\">0.02</td><td style=\"text-align:left\">0</td><td style=\"text-align:left\">1</td><td style=\"text-align:left\">0</td><td style=\"text-align:left\">...</td></tr><tr><td style=\"text-align:left\">501.0005 <b>𝍪</b></td><td style=\"text-align:left\">4.060</td><td style=\"text-align:left\">1.000</td><td style=\"text-align:left\">0</td><td style=\"text-align:left\">15</td><td style=\"text-align:left\">2</td><td style=\"text-align:left\">3</td><td style=\"text-align:left\">0.70711</td><td style=\"text-align:left\">1</td><td style=\"text-align:left\">0.5</td><td style=\"text-align:left\">0.02</td><td style=\"text-align:left\">0.02</td><td style=\"text-align:left\">0</td><td style=\"text-align:left\">1</td><td style=\"text-align:left\">0</td><td style=\"text-align:left\">...</td></tr></tbody></table>"
      ],
      "text/plain": [
       "SynthGroup(n=4)\n",
       "    Synth(𝍪 preset._piano:501.0002, p4=0 idataidx_:5=15 inumbps:6=2 ibplen:7=3 igain:8=1 ichan:9=1 ipos:10=0.5 ifadein:11=0.02 ifadeout:12=0.02 ipchintrp_:13=0 ifadekind:14=1 p15=0 p16=60 ...)\n",
       "    Synth(𝍪 preset._piano:501.0003, p4=0 idataidx_:5=15 inumbps:6=2 ibplen:7=3 igain:8=1 ichan:9=1 ipos:10=0.5 ifadein:11=0.02 ifadeout:12=0.02 ipchintrp_:13=0 ifadekind:14=1 p15=0 p16=62 ...)\n",
       "    Synth(𝍪 preset._piano:501.0004, p4=0 idataidx_:5=15 inumbps:6=2 ibplen:7=3 igain:8=0.707107 ichan:9=1 ipos:10=0.5 ifadein:11=0.02 ifadeout:12=0.02 ipchintrp_:13=0 ifadekind:14=1 p15=0 p16=64 ...)\n",
       "    Synth(𝍪 preset._piano:501.0005, p4=0 idataidx_:5=15 inumbps:6=2 ibplen:7=3 igain:8=0.707107 ichan:9=1 ipos:10=0.5 ifadein:11=0.02 ifadeout:12=0.02 ipchintrp_:13=0 ifadekind:14=1 p15=0 p16=64.5 ...)"
      ]
     },
     "execution_count": 4,
     "metadata": {},
     "output_type": "execute_result"
    }
   ],
   "source": [
    "play(ch.events(position=0.5))"
   ]
  },
  {
   "cell_type": "code",
   "execution_count": 4,
   "id": "5f42a9ba-9c62-46a1-aa6c-5f9d90638637",
   "metadata": {},
   "outputs": [
    {
     "name": "stdout",
     "output_type": "stream",
     "text": [
      "161 µs ± 14.8 µs per loop (mean ± std. dev. of 7 runs, 10000 loops each)\n"
     ]
    }
   ],
   "source": [
    "%timeit ch.events()"
   ]
  },
  {
   "cell_type": "code",
   "execution_count": 14,
   "id": "8203ca71-b150-49fd-b719-ef3f9b2ae051",
   "metadata": {},
   "outputs": [
    {
     "ename": "KeyboardInterrupt",
     "evalue": "",
     "output_type": "error",
     "traceback": [
      "\u001b[0;31m---------------------------------------------------------------------------\u001b[0m",
      "\u001b[0;31mKeyboardInterrupt\u001b[0m                         Traceback (most recent call last)",
      "\u001b[0;32m/tmp/ipykernel_11924/1267240598.py\u001b[0m in \u001b[0;36m<module>\u001b[0;34m\u001b[0m\n\u001b[0;32m----> 1\u001b[0;31m \u001b[0mget_ipython\u001b[0m\u001b[0;34m(\u001b[0m\u001b[0;34m)\u001b[0m\u001b[0;34m.\u001b[0m\u001b[0mrun_line_magic\u001b[0m\u001b[0;34m(\u001b[0m\u001b[0;34m'timeit'\u001b[0m\u001b[0;34m,\u001b[0m \u001b[0;34m'[ch.events() for _ in range(100)]'\u001b[0m\u001b[0;34m)\u001b[0m\u001b[0;34m\u001b[0m\u001b[0;34m\u001b[0m\u001b[0m\n\u001b[0m",
      "\u001b[0;32m~/.virtualenvs/em9/lib/python3.9/site-packages/IPython/core/interactiveshell.py\u001b[0m in \u001b[0;36mrun_line_magic\u001b[0;34m(self, magic_name, line, _stack_depth)\u001b[0m\n\u001b[1;32m   2349\u001b[0m                 \u001b[0mkwargs\u001b[0m\u001b[0;34m[\u001b[0m\u001b[0;34m'local_ns'\u001b[0m\u001b[0;34m]\u001b[0m \u001b[0;34m=\u001b[0m \u001b[0mself\u001b[0m\u001b[0;34m.\u001b[0m\u001b[0mget_local_scope\u001b[0m\u001b[0;34m(\u001b[0m\u001b[0mstack_depth\u001b[0m\u001b[0;34m)\u001b[0m\u001b[0;34m\u001b[0m\u001b[0;34m\u001b[0m\u001b[0m\n\u001b[1;32m   2350\u001b[0m             \u001b[0;32mwith\u001b[0m \u001b[0mself\u001b[0m\u001b[0;34m.\u001b[0m\u001b[0mbuiltin_trap\u001b[0m\u001b[0;34m:\u001b[0m\u001b[0;34m\u001b[0m\u001b[0;34m\u001b[0m\u001b[0m\n\u001b[0;32m-> 2351\u001b[0;31m                 \u001b[0mresult\u001b[0m \u001b[0;34m=\u001b[0m \u001b[0mfn\u001b[0m\u001b[0;34m(\u001b[0m\u001b[0;34m*\u001b[0m\u001b[0margs\u001b[0m\u001b[0;34m,\u001b[0m \u001b[0;34m**\u001b[0m\u001b[0mkwargs\u001b[0m\u001b[0;34m)\u001b[0m\u001b[0;34m\u001b[0m\u001b[0;34m\u001b[0m\u001b[0m\n\u001b[0m\u001b[1;32m   2352\u001b[0m             \u001b[0;32mreturn\u001b[0m \u001b[0mresult\u001b[0m\u001b[0;34m\u001b[0m\u001b[0;34m\u001b[0m\u001b[0m\n\u001b[1;32m   2353\u001b[0m \u001b[0;34m\u001b[0m\u001b[0m\n",
      "\u001b[0;32m~/.virtualenvs/em9/lib/python3.9/site-packages/decorator.py\u001b[0m in \u001b[0;36mfun\u001b[0;34m(*args, **kw)\u001b[0m\n\u001b[1;32m    230\u001b[0m             \u001b[0;32mif\u001b[0m \u001b[0;32mnot\u001b[0m \u001b[0mkwsyntax\u001b[0m\u001b[0;34m:\u001b[0m\u001b[0;34m\u001b[0m\u001b[0;34m\u001b[0m\u001b[0m\n\u001b[1;32m    231\u001b[0m                 \u001b[0margs\u001b[0m\u001b[0;34m,\u001b[0m \u001b[0mkw\u001b[0m \u001b[0;34m=\u001b[0m \u001b[0mfix\u001b[0m\u001b[0;34m(\u001b[0m\u001b[0margs\u001b[0m\u001b[0;34m,\u001b[0m \u001b[0mkw\u001b[0m\u001b[0;34m,\u001b[0m \u001b[0msig\u001b[0m\u001b[0;34m)\u001b[0m\u001b[0;34m\u001b[0m\u001b[0;34m\u001b[0m\u001b[0m\n\u001b[0;32m--> 232\u001b[0;31m             \u001b[0;32mreturn\u001b[0m \u001b[0mcaller\u001b[0m\u001b[0;34m(\u001b[0m\u001b[0mfunc\u001b[0m\u001b[0;34m,\u001b[0m \u001b[0;34m*\u001b[0m\u001b[0;34m(\u001b[0m\u001b[0mextras\u001b[0m \u001b[0;34m+\u001b[0m \u001b[0margs\u001b[0m\u001b[0;34m)\u001b[0m\u001b[0;34m,\u001b[0m \u001b[0;34m**\u001b[0m\u001b[0mkw\u001b[0m\u001b[0;34m)\u001b[0m\u001b[0;34m\u001b[0m\u001b[0;34m\u001b[0m\u001b[0m\n\u001b[0m\u001b[1;32m    233\u001b[0m     \u001b[0mfun\u001b[0m\u001b[0;34m.\u001b[0m\u001b[0m__name__\u001b[0m \u001b[0;34m=\u001b[0m \u001b[0mfunc\u001b[0m\u001b[0;34m.\u001b[0m\u001b[0m__name__\u001b[0m\u001b[0;34m\u001b[0m\u001b[0;34m\u001b[0m\u001b[0m\n\u001b[1;32m    234\u001b[0m     \u001b[0mfun\u001b[0m\u001b[0;34m.\u001b[0m\u001b[0m__doc__\u001b[0m \u001b[0;34m=\u001b[0m \u001b[0mfunc\u001b[0m\u001b[0;34m.\u001b[0m\u001b[0m__doc__\u001b[0m\u001b[0;34m\u001b[0m\u001b[0;34m\u001b[0m\u001b[0m\n",
      "\u001b[0;32m~/.virtualenvs/em9/lib/python3.9/site-packages/IPython/core/magic.py\u001b[0m in \u001b[0;36m<lambda>\u001b[0;34m(f, *a, **k)\u001b[0m\n\u001b[1;32m    185\u001b[0m     \u001b[0;31m# but it's overkill for just that one bit of state.\u001b[0m\u001b[0;34m\u001b[0m\u001b[0;34m\u001b[0m\u001b[0m\n\u001b[1;32m    186\u001b[0m     \u001b[0;32mdef\u001b[0m \u001b[0mmagic_deco\u001b[0m\u001b[0;34m(\u001b[0m\u001b[0marg\u001b[0m\u001b[0;34m)\u001b[0m\u001b[0;34m:\u001b[0m\u001b[0;34m\u001b[0m\u001b[0;34m\u001b[0m\u001b[0m\n\u001b[0;32m--> 187\u001b[0;31m         \u001b[0mcall\u001b[0m \u001b[0;34m=\u001b[0m \u001b[0;32mlambda\u001b[0m \u001b[0mf\u001b[0m\u001b[0;34m,\u001b[0m \u001b[0;34m*\u001b[0m\u001b[0ma\u001b[0m\u001b[0;34m,\u001b[0m \u001b[0;34m**\u001b[0m\u001b[0mk\u001b[0m\u001b[0;34m:\u001b[0m \u001b[0mf\u001b[0m\u001b[0;34m(\u001b[0m\u001b[0;34m*\u001b[0m\u001b[0ma\u001b[0m\u001b[0;34m,\u001b[0m \u001b[0;34m**\u001b[0m\u001b[0mk\u001b[0m\u001b[0;34m)\u001b[0m\u001b[0;34m\u001b[0m\u001b[0;34m\u001b[0m\u001b[0m\n\u001b[0m\u001b[1;32m    188\u001b[0m \u001b[0;34m\u001b[0m\u001b[0m\n\u001b[1;32m    189\u001b[0m         \u001b[0;32mif\u001b[0m \u001b[0mcallable\u001b[0m\u001b[0;34m(\u001b[0m\u001b[0marg\u001b[0m\u001b[0;34m)\u001b[0m\u001b[0;34m:\u001b[0m\u001b[0;34m\u001b[0m\u001b[0;34m\u001b[0m\u001b[0m\n",
      "\u001b[0;32m~/.virtualenvs/em9/lib/python3.9/site-packages/IPython/core/magics/execution.py\u001b[0m in \u001b[0;36mtimeit\u001b[0;34m(self, line, cell, local_ns)\u001b[0m\n\u001b[1;32m   1171\u001b[0m                     \u001b[0;32mbreak\u001b[0m\u001b[0;34m\u001b[0m\u001b[0;34m\u001b[0m\u001b[0m\n\u001b[1;32m   1172\u001b[0m \u001b[0;34m\u001b[0m\u001b[0m\n\u001b[0;32m-> 1173\u001b[0;31m         \u001b[0mall_runs\u001b[0m \u001b[0;34m=\u001b[0m \u001b[0mtimer\u001b[0m\u001b[0;34m.\u001b[0m\u001b[0mrepeat\u001b[0m\u001b[0;34m(\u001b[0m\u001b[0mrepeat\u001b[0m\u001b[0;34m,\u001b[0m \u001b[0mnumber\u001b[0m\u001b[0;34m)\u001b[0m\u001b[0;34m\u001b[0m\u001b[0;34m\u001b[0m\u001b[0m\n\u001b[0m\u001b[1;32m   1174\u001b[0m         \u001b[0mbest\u001b[0m \u001b[0;34m=\u001b[0m \u001b[0mmin\u001b[0m\u001b[0;34m(\u001b[0m\u001b[0mall_runs\u001b[0m\u001b[0;34m)\u001b[0m \u001b[0;34m/\u001b[0m \u001b[0mnumber\u001b[0m\u001b[0;34m\u001b[0m\u001b[0;34m\u001b[0m\u001b[0m\n\u001b[1;32m   1175\u001b[0m         \u001b[0mworst\u001b[0m \u001b[0;34m=\u001b[0m \u001b[0mmax\u001b[0m\u001b[0;34m(\u001b[0m\u001b[0mall_runs\u001b[0m\u001b[0;34m)\u001b[0m \u001b[0;34m/\u001b[0m \u001b[0mnumber\u001b[0m\u001b[0;34m\u001b[0m\u001b[0;34m\u001b[0m\u001b[0m\n",
      "\u001b[0;32m/usr/lib/python3.9/timeit.py\u001b[0m in \u001b[0;36mrepeat\u001b[0;34m(self, repeat, number)\u001b[0m\n\u001b[1;32m    203\u001b[0m         \u001b[0mr\u001b[0m \u001b[0;34m=\u001b[0m \u001b[0;34m[\u001b[0m\u001b[0;34m]\u001b[0m\u001b[0;34m\u001b[0m\u001b[0;34m\u001b[0m\u001b[0m\n\u001b[1;32m    204\u001b[0m         \u001b[0;32mfor\u001b[0m \u001b[0mi\u001b[0m \u001b[0;32min\u001b[0m \u001b[0mrange\u001b[0m\u001b[0;34m(\u001b[0m\u001b[0mrepeat\u001b[0m\u001b[0;34m)\u001b[0m\u001b[0;34m:\u001b[0m\u001b[0;34m\u001b[0m\u001b[0;34m\u001b[0m\u001b[0m\n\u001b[0;32m--> 205\u001b[0;31m             \u001b[0mt\u001b[0m \u001b[0;34m=\u001b[0m \u001b[0mself\u001b[0m\u001b[0;34m.\u001b[0m\u001b[0mtimeit\u001b[0m\u001b[0;34m(\u001b[0m\u001b[0mnumber\u001b[0m\u001b[0;34m)\u001b[0m\u001b[0;34m\u001b[0m\u001b[0;34m\u001b[0m\u001b[0m\n\u001b[0m\u001b[1;32m    206\u001b[0m             \u001b[0mr\u001b[0m\u001b[0;34m.\u001b[0m\u001b[0mappend\u001b[0m\u001b[0;34m(\u001b[0m\u001b[0mt\u001b[0m\u001b[0;34m)\u001b[0m\u001b[0;34m\u001b[0m\u001b[0;34m\u001b[0m\u001b[0m\n\u001b[1;32m    207\u001b[0m         \u001b[0;32mreturn\u001b[0m \u001b[0mr\u001b[0m\u001b[0;34m\u001b[0m\u001b[0;34m\u001b[0m\u001b[0m\n",
      "\u001b[0;32m~/.virtualenvs/em9/lib/python3.9/site-packages/IPython/core/magics/execution.py\u001b[0m in \u001b[0;36mtimeit\u001b[0;34m(self, number)\u001b[0m\n\u001b[1;32m    167\u001b[0m         \u001b[0mgc\u001b[0m\u001b[0;34m.\u001b[0m\u001b[0mdisable\u001b[0m\u001b[0;34m(\u001b[0m\u001b[0;34m)\u001b[0m\u001b[0;34m\u001b[0m\u001b[0;34m\u001b[0m\u001b[0m\n\u001b[1;32m    168\u001b[0m         \u001b[0;32mtry\u001b[0m\u001b[0;34m:\u001b[0m\u001b[0;34m\u001b[0m\u001b[0;34m\u001b[0m\u001b[0m\n\u001b[0;32m--> 169\u001b[0;31m             \u001b[0mtiming\u001b[0m \u001b[0;34m=\u001b[0m \u001b[0mself\u001b[0m\u001b[0;34m.\u001b[0m\u001b[0minner\u001b[0m\u001b[0;34m(\u001b[0m\u001b[0mit\u001b[0m\u001b[0;34m,\u001b[0m \u001b[0mself\u001b[0m\u001b[0;34m.\u001b[0m\u001b[0mtimer\u001b[0m\u001b[0;34m)\u001b[0m\u001b[0;34m\u001b[0m\u001b[0;34m\u001b[0m\u001b[0m\n\u001b[0m\u001b[1;32m    170\u001b[0m         \u001b[0;32mfinally\u001b[0m\u001b[0;34m:\u001b[0m\u001b[0;34m\u001b[0m\u001b[0;34m\u001b[0m\u001b[0m\n\u001b[1;32m    171\u001b[0m             \u001b[0;32mif\u001b[0m \u001b[0mgcold\u001b[0m\u001b[0;34m:\u001b[0m\u001b[0;34m\u001b[0m\u001b[0;34m\u001b[0m\u001b[0m\n",
      "\u001b[0;32m<magic-timeit>\u001b[0m in \u001b[0;36minner\u001b[0;34m(_it, _timer)\u001b[0m\n",
      "\u001b[0;32m<magic-timeit>\u001b[0m in \u001b[0;36m<listcomp>\u001b[0;34m(.0)\u001b[0m\n",
      "\u001b[0;32m~/dev/python/maelzel/maelzel/core/mobj.py\u001b[0m in \u001b[0;36mevents\u001b[0;34m(self, instr, delay, args, gain, chan, pitchinterpol, fade, fadeshape, position, start, end, sustain, workspace, transpose, **kwargs)\u001b[0m\n\u001b[1;32m    920\u001b[0m         \u001b[0mplayargs\u001b[0m\u001b[0;34m.\u001b[0m\u001b[0mupdate\u001b[0m\u001b[0;34m(\u001b[0m\u001b[0md\u001b[0m\u001b[0;34m)\u001b[0m\u001b[0;34m\u001b[0m\u001b[0;34m\u001b[0m\u001b[0m\n\u001b[1;32m    921\u001b[0m \u001b[0;34m\u001b[0m\u001b[0m\n\u001b[0;32m--> 922\u001b[0;31m         \u001b[0mevents\u001b[0m \u001b[0;34m=\u001b[0m \u001b[0mself\u001b[0m\u001b[0;34m.\u001b[0m\u001b[0m_synthEvents\u001b[0m\u001b[0;34m(\u001b[0m\u001b[0mplayargs\u001b[0m\u001b[0;34m,\u001b[0m \u001b[0mworkspace\u001b[0m\u001b[0;34m)\u001b[0m\u001b[0;34m\u001b[0m\u001b[0;34m\u001b[0m\u001b[0m\n\u001b[0m\u001b[1;32m    923\u001b[0m         \u001b[0;32mif\u001b[0m \u001b[0mstart\u001b[0m \u001b[0;32mis\u001b[0m \u001b[0;32mnot\u001b[0m \u001b[0;32mNone\u001b[0m \u001b[0;32mor\u001b[0m \u001b[0mend\u001b[0m \u001b[0;32mis\u001b[0m \u001b[0;32mnot\u001b[0m \u001b[0;32mNone\u001b[0m\u001b[0;34m:\u001b[0m\u001b[0;34m\u001b[0m\u001b[0;34m\u001b[0m\u001b[0m\n\u001b[1;32m    924\u001b[0m             \u001b[0mstruct\u001b[0m \u001b[0;34m=\u001b[0m \u001b[0mworkspace\u001b[0m\u001b[0;34m.\u001b[0m\u001b[0mscorestruct\u001b[0m\u001b[0;34m\u001b[0m\u001b[0;34m\u001b[0m\u001b[0m\n",
      "\u001b[0;32m~/dev/python/maelzel/maelzel/core/chain.py\u001b[0m in \u001b[0;36m_synthEvents\u001b[0;34m(self, playargs, workspace)\u001b[0m\n\u001b[1;32m    380\u001b[0m     def _synthEvents(self, playargs: PlayArgs, workspace: Workspace\n\u001b[1;32m    381\u001b[0m                      ) -> list[SynthEvent]:\n\u001b[0;32m--> 382\u001b[0;31m         \u001b[0mchain\u001b[0m \u001b[0;34m=\u001b[0m \u001b[0mself\u001b[0m\u001b[0;34m.\u001b[0m\u001b[0mflat\u001b[0m\u001b[0;34m(\u001b[0m\u001b[0mforcecopy\u001b[0m\u001b[0;34m=\u001b[0m\u001b[0;32mTrue\u001b[0m\u001b[0;34m)\u001b[0m\u001b[0;34m\u001b[0m\u001b[0;34m\u001b[0m\u001b[0m\n\u001b[0m\u001b[1;32m    383\u001b[0m         \u001b[0mchain\u001b[0m\u001b[0;34m.\u001b[0m\u001b[0mstack\u001b[0m\u001b[0;34m(\u001b[0m\u001b[0;34m)\u001b[0m\u001b[0;34m\u001b[0m\u001b[0;34m\u001b[0m\u001b[0m\n\u001b[1;32m    384\u001b[0m         \u001b[0;32massert\u001b[0m \u001b[0mall\u001b[0m\u001b[0;34m(\u001b[0m\u001b[0mitem\u001b[0m\u001b[0;34m.\u001b[0m\u001b[0moffset\u001b[0m \u001b[0;32mis\u001b[0m \u001b[0;32mnot\u001b[0m \u001b[0;32mNone\u001b[0m \u001b[0;32mand\u001b[0m \u001b[0mitem\u001b[0m\u001b[0;34m.\u001b[0m\u001b[0mdur\u001b[0m \u001b[0;32mis\u001b[0m \u001b[0;32mnot\u001b[0m \u001b[0;32mNone\u001b[0m \u001b[0;32mfor\u001b[0m \u001b[0mitem\u001b[0m  \u001b[0;32min\u001b[0m \u001b[0mchain\u001b[0m\u001b[0;34m)\u001b[0m\u001b[0;34m\u001b[0m\u001b[0;34m\u001b[0m\u001b[0m\n",
      "\u001b[0;32m~/dev/python/maelzel/maelzel/core/chain.py\u001b[0m in \u001b[0;36mflat\u001b[0;34m(self, forcecopy)\u001b[0m\n\u001b[1;32m    348\u001b[0m \u001b[0;34m\u001b[0m\u001b[0m\n\u001b[1;32m    349\u001b[0m         \u001b[0mitems\u001b[0m \u001b[0;34m=\u001b[0m \u001b[0;34m[\u001b[0m\u001b[0;34m]\u001b[0m\u001b[0;34m\u001b[0m\u001b[0;34m\u001b[0m\u001b[0m\n\u001b[0;32m--> 350\u001b[0;31m         \u001b[0;32mfor\u001b[0m \u001b[0mevent\u001b[0m\u001b[0;34m,\u001b[0m \u001b[0moffset\u001b[0m\u001b[0;34m,\u001b[0m \u001b[0meventdur\u001b[0m \u001b[0;32min\u001b[0m \u001b[0mself\u001b[0m\u001b[0;34m.\u001b[0m\u001b[0mrecurseWithTimes\u001b[0m\u001b[0;34m(\u001b[0m\u001b[0;34m)\u001b[0m\u001b[0;34m:\u001b[0m\u001b[0;34m\u001b[0m\u001b[0;34m\u001b[0m\u001b[0m\n\u001b[0m\u001b[1;32m    351\u001b[0m             \u001b[0;32mif\u001b[0m \u001b[0mforcecopy\u001b[0m \u001b[0;32mor\u001b[0m \u001b[0mevent\u001b[0m\u001b[0;34m.\u001b[0m\u001b[0moffset\u001b[0m \u001b[0;34m!=\u001b[0m \u001b[0moffset\u001b[0m \u001b[0;32mor\u001b[0m \u001b[0mevent\u001b[0m\u001b[0;34m.\u001b[0m\u001b[0mdur\u001b[0m \u001b[0;34m!=\u001b[0m \u001b[0meventdur\u001b[0m\u001b[0;34m:\u001b[0m\u001b[0;34m\u001b[0m\u001b[0;34m\u001b[0m\u001b[0m\n\u001b[1;32m    352\u001b[0m                 \u001b[0mevent\u001b[0m \u001b[0;34m=\u001b[0m \u001b[0mevent\u001b[0m\u001b[0;34m.\u001b[0m\u001b[0mcopy\u001b[0m\u001b[0;34m(\u001b[0m\u001b[0;34m)\u001b[0m\u001b[0;34m\u001b[0m\u001b[0;34m\u001b[0m\u001b[0m\n",
      "\u001b[0;32m~/dev/python/maelzel/maelzel/core/chain.py\u001b[0m in \u001b[0;36mrecurseWithTimes\u001b[0;34m(self, absoluteTimes)\u001b[0m\n\u001b[1;32m    902\u001b[0m         \"\"\"\n\u001b[1;32m    903\u001b[0m         \u001b[0mframe\u001b[0m \u001b[0;34m=\u001b[0m \u001b[0mself\u001b[0m\u001b[0;34m.\u001b[0m\u001b[0mabsoluteOffset\u001b[0m\u001b[0;34m(\u001b[0m\u001b[0;34m)\u001b[0m \u001b[0;32mif\u001b[0m \u001b[0mabsoluteTimes\u001b[0m \u001b[0;32melse\u001b[0m \u001b[0mF\u001b[0m\u001b[0;34m(\u001b[0m\u001b[0;36m0\u001b[0m\u001b[0;34m)\u001b[0m\u001b[0;34m\u001b[0m\u001b[0;34m\u001b[0m\u001b[0m\n\u001b[0;32m--> 904\u001b[0;31m         \u001b[0mitemtuples\u001b[0m\u001b[0;34m,\u001b[0m \u001b[0mtotaldur\u001b[0m \u001b[0;34m=\u001b[0m \u001b[0mself\u001b[0m\u001b[0;34m.\u001b[0m\u001b[0m_resolve\u001b[0m\u001b[0;34m(\u001b[0m\u001b[0mframe\u001b[0m\u001b[0;34m=\u001b[0m\u001b[0mframe\u001b[0m\u001b[0;34m,\u001b[0m \u001b[0mrecurse\u001b[0m\u001b[0;34m=\u001b[0m\u001b[0;32mTrue\u001b[0m\u001b[0;34m)\u001b[0m\u001b[0;34m\u001b[0m\u001b[0;34m\u001b[0m\u001b[0m\n\u001b[0m\u001b[1;32m    905\u001b[0m         \u001b[0;32mfor\u001b[0m \u001b[0mitemtuple\u001b[0m \u001b[0;32min\u001b[0m \u001b[0mitemtuples\u001b[0m\u001b[0;34m:\u001b[0m\u001b[0;34m\u001b[0m\u001b[0;34m\u001b[0m\u001b[0m\n\u001b[1;32m    906\u001b[0m             \u001b[0mitem\u001b[0m \u001b[0;34m=\u001b[0m \u001b[0mitemtuple\u001b[0m\u001b[0;34m[\u001b[0m\u001b[0;36m0\u001b[0m\u001b[0;34m]\u001b[0m\u001b[0;34m\u001b[0m\u001b[0;34m\u001b[0m\u001b[0m\n",
      "\u001b[0;32m~/dev/python/maelzel/maelzel/core/chain.py\u001b[0m in \u001b[0;36m_resolve\u001b[0;34m(self, recurse, frame)\u001b[0m\n\u001b[1;32m    863\u001b[0m                         \u001b[0mdur\u001b[0m \u001b[0;34m=\u001b[0m \u001b[0mF\u001b[0m\u001b[0;34m(\u001b[0m\u001b[0;36m1\u001b[0m\u001b[0;34m)\u001b[0m\u001b[0;34m\u001b[0m\u001b[0;34m\u001b[0m\u001b[0m\n\u001b[1;32m    864\u001b[0m                 \u001b[0mout\u001b[0m\u001b[0;34m.\u001b[0m\u001b[0mappend\u001b[0m\u001b[0;34m(\u001b[0m\u001b[0;34m(\u001b[0m\u001b[0mitem\u001b[0m\u001b[0;34m,\u001b[0m \u001b[0mnow\u001b[0m\u001b[0;34m,\u001b[0m \u001b[0mdur\u001b[0m\u001b[0;34m)\u001b[0m\u001b[0;34m)\u001b[0m\u001b[0;34m\u001b[0m\u001b[0;34m\u001b[0m\u001b[0m\n\u001b[0;32m--> 865\u001b[0;31m                 \u001b[0mitem\u001b[0m\u001b[0;34m.\u001b[0m\u001b[0m_resolvedDur\u001b[0m \u001b[0;34m=\u001b[0m \u001b[0mdur\u001b[0m\u001b[0;34m\u001b[0m\u001b[0;34m\u001b[0m\u001b[0m\n\u001b[0m\u001b[1;32m    866\u001b[0m                 \u001b[0mitem\u001b[0m\u001b[0;34m.\u001b[0m\u001b[0m_resolvedOffset\u001b[0m \u001b[0;34m=\u001b[0m \u001b[0mnow\u001b[0m \u001b[0;34m-\u001b[0m \u001b[0mframe\u001b[0m\u001b[0;34m\u001b[0m\u001b[0;34m\u001b[0m\u001b[0m\n\u001b[1;32m    867\u001b[0m                 \u001b[0mnow\u001b[0m \u001b[0;34m+=\u001b[0m \u001b[0mdur\u001b[0m\u001b[0;34m\u001b[0m\u001b[0;34m\u001b[0m\u001b[0m\n",
      "\u001b[0;31mKeyboardInterrupt\u001b[0m: "
     ]
    }
   ],
   "source": [
    "%timeit [ch.events() for _ in range(100)]"
   ]
  },
  {
   "cell_type": "code",
   "execution_count": 4,
   "id": "18b18a47-50a1-4622-a892-8f7cdd72cadf",
   "metadata": {},
   "outputs": [
    {
     "name": "stderr",
     "output_type": "stream",
     "text": [
      "DEBUG:maelzel.core:rendering parts with backend: lilypond\n"
     ]
    },
    {
     "name": "stdout",
     "output_type": "stream",
     "text": [
      "['4C', '4D', '4E+'] [['4C', '4D', '4E+'], ['4C', '4D', '4F-']] ['4C', '4D', '4E+']\n",
      ".... «4.000:5.000 [4E 4E+] properties={'resetEnharmonicSlots': True}» 4E+\n"
     ]
    },
    {
     "data": {
      "image/png": "[encoded data removed]",
      "text/plain": [
       "<IPython.core.display.Image object>"
      ]
     },
     "metadata": {
      "image/png": {
       "width": 220
      }
     },
     "output_type": "display_data"
    }
   ],
   "source": [
    "ch = Chain([\n",
    "    Note(\"4C\", 2.5, gliss=True),\n",
    "    Note(\"4D\", 0.5),\n",
    "    Chord(\"4E 4F-\", 1)\n",
    "], offset=1)\n",
    "ch.show()\n",
    "#ch.play()"
   ]
  },
  {
   "cell_type": "code",
   "execution_count": 7,
   "id": "b298028e-e308-4fca-a1ee-a23bafdc61c7",
   "metadata": {},
   "outputs": [
    {
     "data": {
      "application/vnd.jupyter.widget-view+json": {
       "model_id": "a224a294b6a2440b9035b98be7c9f880",
       "version_major": 2,
       "version_minor": 0
      },
      "text/plain": [
       "Button(description='Stop', style=ButtonStyle())"
      ]
     },
     "metadata": {},
     "output_type": "display_data"
    },
    {
     "data": {
      "application/vnd.jupyter.widget-view+json": {
       "model_id": "175ad9f605094da9a83671913c20f22c",
       "version_major": 2,
       "version_minor": 0
      },
      "text/plain": [
       "Output()"
      ]
     },
     "metadata": {},
     "output_type": "display_data"
    },
    {
     "data": {
      "text/html": [
       "<small>SynthGroup - start: 1.165, dur: 4.000, synths: 4</small>\n",
       "<p>instr: <strong style=\"color:MediumSeaGreen\">preset._piano</strong> - <b>4</b> synths</p>\n",
       "<table><thead><tr><th style=\"text-align:left\">p1</th><th style=\"text-align:left\">start</th><th style=\"text-align:left\">dur</th><th style=\"text-align:left\">4</th><th style=\"text-align:left\">5:idataidx_</th><th style=\"text-align:left\">6:inumbps</th><th style=\"text-align:left\">7:ibplen</th><th style=\"text-align:left\">8:igain_</th><th style=\"text-align:left\">9:ichan_</th><th style=\"text-align:left\">10:ipos</th><th style=\"text-align:left\">11:ifade0</th><th style=\"text-align:left\">12:ifade1</th><th style=\"text-align:left\">13:ipchintrp_</th><th style=\"text-align:left\">14:ifadekind_</th><th style=\"text-align:left\">15</th><th style=\"text-align:left\">16</th><th style=\"text-align:left\">...</th><th style=\"text-align:left\">17</th><th style=\"text-align:left\">...</th><th style=\"text-align:left\">18</th><th style=\"text-align:left\">...</th><th style=\"text-align:left\">19</th><th style=\"text-align:left\">...</th><th style=\"text-align:left\">20</th></tr></thead><tbody><tr><td style=\"text-align:left\">1001.0006 <b>𝍪</b></td><td style=\"text-align:left\">1.165</td><td style=\"text-align:left\">2.500</td><td style=\"text-align:left\">0</td><td style=\"text-align:left\">15</td><td style=\"text-align:left\">2</td><td style=\"text-align:left\">3</td><td style=\"text-align:left\">1</td><td style=\"text-align:left\">1</td><td style=\"text-align:left\">-1</td><td style=\"text-align:left\">0.02</td><td style=\"text-align:left\">0.02</td><td style=\"text-align:left\">0</td><td style=\"text-align:left\">1</td><td style=\"text-align:left\">0</td><td style=\"text-align:left\">...</td></tr><tr><td style=\"text-align:left\">1001.0007 <b>𝍪</b></td><td style=\"text-align:left\">3.665</td><td style=\"text-align:left\">0.500</td><td style=\"text-align:left\">0</td><td style=\"text-align:left\">15</td><td style=\"text-align:left\">2</td><td style=\"text-align:left\">3</td><td style=\"text-align:left\">1</td><td style=\"text-align:left\">1</td><td style=\"text-align:left\">-1</td><td style=\"text-align:left\">0.02</td><td style=\"text-align:left\">0.02</td><td style=\"text-align:left\">0</td><td style=\"text-align:left\">1</td><td style=\"text-align:left\">0</td><td style=\"text-align:left\">...</td></tr><tr><td style=\"text-align:left\">1001.0008 <b>𝍪</b></td><td style=\"text-align:left\">4.165</td><td style=\"text-align:left\">1.000</td><td style=\"text-align:left\">0</td><td style=\"text-align:left\">15</td><td style=\"text-align:left\">2</td><td style=\"text-align:left\">3</td><td style=\"text-align:left\">0.70711</td><td style=\"text-align:left\">1</td><td style=\"text-align:left\">-1</td><td style=\"text-align:left\">0.02</td><td style=\"text-align:left\">0.02</td><td style=\"text-align:left\">0</td><td style=\"text-align:left\">1</td><td style=\"text-align:left\">0</td><td style=\"text-align:left\">...</td></tr><tr><td style=\"text-align:left\">1001.0009 <b>𝍪</b></td><td style=\"text-align:left\">4.165</td><td style=\"text-align:left\">1.000</td><td style=\"text-align:left\">0</td><td style=\"text-align:left\">15</td><td style=\"text-align:left\">2</td><td style=\"text-align:left\">3</td><td style=\"text-align:left\">0.70711</td><td style=\"text-align:left\">1</td><td style=\"text-align:left\">-1</td><td style=\"text-align:left\">0.02</td><td style=\"text-align:left\">0.02</td><td style=\"text-align:left\">0</td><td style=\"text-align:left\">1</td><td style=\"text-align:left\">0</td><td style=\"text-align:left\">...</td></tr></tbody></table>"
      ],
      "text/plain": [
       "<maelzel.core.playback.playgroup at 0x7f89783e0f10>"
      ]
     },
     "execution_count": 7,
     "metadata": {},
     "output_type": "execute_result"
    }
   ],
   "source": [
    "with playgroup() as _:\n",
    "    ch.play()\n",
    "_"
   ]
  },
  {
   "cell_type": "code",
   "execution_count": 4,
   "id": "89684c53-455e-49c5-ae29-01e6345f67d0",
   "metadata": {},
   "outputs": [
    {
     "name": "stderr",
     "output_type": "stream",
     "text": [
      "DEBUG:maelzel.core:rendering parts with backend: lilypond\n"
     ]
    },
    {
     "data": {
      "text/html": [
       "<code style=\"font-size:0.9em\">Chain([<span style=\"color:#6666E0\">4C:2.5♩</span>, <span style=\"color:#6666E0\">4D:0.5♩</span>, <span style=\"color:#6666E0\">‹4E 4E+ 1♩›</span>, <span style=\"color:#6666E0\">4C:2.5♩</span>, <span style=\"color:#6666E0\">4D:0.5♩</span>, <span style=\"color:#6666E0\">‹4E 4E+ 1♩›</span>, <span style=\"color:#6666E0\">4C:1.5♩</span>], start=1)</code><br>\n",
       "        <img style=\"display:inline; padding:10px;\n",
       "margin-top:14px;\n",
       "width:568px\"\n",
       "             src=\"data:image/png;base64,iVBORw0KGgoAAAANSUhEUgAAAjgAAAA1CAIAAADDFgZWAAAJLmlDQ1BJQ0MgUHJvZmlsZQAAeJyVlWdQk1kXx+/zPOmFQBJCh1BDkSolgJQQWijSq6hA6J1QRWyIuAIriog0RZBFARdclSJrRRQLi4ICFnSDLALKunEVUUFZcN8ZnfcdP7z/mXvPb/5z5t5zz/lwASCIg2XBy3tiUrrA28mOGRgUzATfKIyflsLx9HQD39W7EQCtxHu638/5rggRkWn85bi4vHL5KYJ0AKDsZdbMSk9Z4aPLTA+P/8JnV1iwXOAy31jh6H957EvOvyz6kuPrzV1+FQoAHCn6Gw7/hv9z74pUOIL02KjIbKZPclR6Vpggkpm20gkel8v0FCRHxSZEflPw/5X8HaVHZqevRG5yyiZBbHRMOvN/DjUyMDQEX2fxxutLjyFG/3/PZ0VfveR6ANhzACD7vnrhlQB07gJA+tFXT225r5R8ADru8DMEmf96qJUNDQiAAuhABigCVaAJdIERMAOWwBY4ABfgAXxBENgA+CAGJAIByAK5YAcoAEVgHzgIqkAtaABNoBWcBp3gPLgCroPb4C4YBo+BEEyCl0AE3oEFCIKwEBmiQTKQEqQO6UBGEBuyhhwgN8gbCoJCoWgoCcqAcqGdUBFUClVBdVAT9At0DroC3YQGoYfQODQD/Q19hBGYBNNhBVgD1ofZMAd2hX3h9XA0nArnwPnwXrgCrodPwh3wFfg2PAwL4ZfwHAIQIsJAlBFdhI1wEQ8kGIlCBMhWpBApR+qRVqQb6UPuIUJkFvmAwqBoKCZKF2WJckb5ofioVNRWVDGqCnUC1YHqRd1DjaNEqM9oMloerYO2QPPQgehodBa6AF2ObkS3o6+hh9GT6HcYDIaBYWHMMM6YIEwcZjOmGHMY04a5jBnETGDmsFisDFYHa4X1wIZh07EF2ErsSewl7BB2EvseR8Qp4YxwjrhgXBIuD1eOa8ZdxA3hpnALeHG8Ot4C74GPwG/Cl+Ab8N34O/hJ/AJBgsAiWBF8CXGEHYQKQivhGmGM8IZIJKoQzYlexFjidmIF8RTxBnGc+IFEJWmTuKQQUgZpL+k46TLpIekNmUzWINuSg8np5L3kJvJV8lPyezGamJ4YTyxCbJtYtViH2JDYKwqeok7hUDZQcijllDOUO5RZcby4hjhXPEx8q3i1+DnxUfE5CZqEoYSHRKJEsUSzxE2JaSqWqkF1oEZQ86nHqFepEzSEpkrj0vi0nbQG2jXaJB1DZ9F59Dh6Ef1n+gBdJEmVNJb0l8yWrJa8IClkIAwNBo+RwChhnGaMMD5KKUhxpCKl9ki1Sg1JzUvLSdtKR0oXSrdJD0t/lGHKOMjEy+yX6ZR5IouS1Zb1ks2SPSJ7TXZWji5nKceXK5Q7LfdIHpbXlveW3yx/TL5ffk5BUcFJIUWhUuGqwqwiQ9FWMU6xTPGi4owSTclaKVapTOmS0gumJJPDTGBWMHuZImV5ZWflDOU65QHlBRWWip9KnkqbyhNVgipbNUq1TLVHVaSmpOaulqvWovZIHa/OVo9RP6Tepz6vwdII0Nit0akxzZJm8Vg5rBbWmCZZ00YzVbNe874WRoutFa91WOuuNqxtoh2jXa19RwfWMdWJ1TmsM7gKvcp8VdKq+lWjuiRdjm6mbovuuB5Dz00vT69T75W+mn6w/n79Pv3PBiYGCQYNBo8NqYYuhnmG3YZ/G2kb8Y2qje6vJq92XL1tddfq18Y6xpHGR4wfmNBM3E12m/SYfDI1MxWYtprOmKmZhZrVmI2y6WxPdjH7hjna3M58m/l58w8WphbpFqct/rLUtYy3bLacXsNaE7mmYc2ElYpVmFWdldCaaR1qfdRaaKNsE2ZTb/PMVtU2wrbRdoqjxYnjnOS8sjOwE9i1281zLbhbuJftEXsn+0L7AQeqg59DlcNTRxXHaMcWR5GTidNmp8vOaGdX5/3OozwFHp/XxBO5mLlscel1Jbn6uFa5PnPTdhO4dbvD7i7uB9zH1qqvTVrb6QE8eB4HPJ54sjxTPX/1wnh5elV7Pfc29M717vOh+Wz0afZ552vnW+L72E/TL8Ovx5/iH+Lf5D8fYB9QGiAM1A/cEng7SDYoNqgrGBvsH9wYPLfOYd3BdZMhJiEFISPrWeuz19/cILshYcOFjZSNYRvPhKJDA0KbQxfDPMLqw+bCeeE14SI+l3+I/zLCNqIsYibSKrI0cirKKqo0ajraKvpA9EyMTUx5zGwsN7Yq9nWcc1xt3Hy8R/zx+KWEgIS2RFxiaOK5JGpSfFJvsmJydvJgik5KQYow1SL1YKpI4CpoTIPS1qd1pdOXP8X+DM2MXRnjmdaZ1Znvs/yzzmRLZCdl92/S3rRn01SOY85Pm1Gb+Zt7cpVzd+SOb+FsqdsKbQ3f2rNNdVv+tsntTttP7CDsiN/xW55BXmne250BO7vzFfK350/sctrVUiBWICgY3W25u/YH1A+xPwzsWb2ncs/nwojCW0UGReVFi8X84ls/Gv5Y8ePS3qi9AyWmJUf2YfYl7RvZb7P/RKlEaU7pxAH3Ax1lzLLCsrcHNx68WW5cXnuIcCjjkLDCraKrUq1yX+ViVUzVcLVddVuNfM2emvnDEYeHjtgeaa1VqC2q/Xg09uiDOqe6jnqN+vJjmGOZx543+Df0/cT+qalRtrGo8dPxpOPCE94nepvMmpqa5ZtLWuCWjJaZkyEn7/5s/3NXq25rXRujregUOJVx6sUvob+MnHY93XOGfab1rPrZmnZae2EH1LGpQ9QZ0ynsCuoaPOdyrqfbsrv9V71fj59XPl99QfJCyUXCxfyLS5dyLs1dTrk8eyX6ykTPxp7HVwOv3u/16h245nrtxnXH61f7OH2XbljdOH/T4ua5W+xbnbdNb3f0m/S3/2byW/uA6UDHHbM7XXfN73YPrhm8OGQzdOWe/b3r93n3bw+vHR4c8Rt5MBoyKnwQ8WD6YcLD148yHy083j6GHit8Iv6k/Kn80/rftX5vE5oKL4zbj/c/83n2eII/8fKPtD8WJ/Ofk5+XTylNNU0bTZ+fcZy5+2Ldi8mXKS8XZgv+lPiz5pXmq7N/2f7VLwoUTb4WvF76u/iNzJvjb43f9sx5zj19l/huYb7wvcz7Ex/YH/o+BnycWshaxC5WfNL61P3Z9fPYUuLS0j9CLJC+ERlPpwAAEBdJREFUeJztnU1sG8X7x6d/EqpEcrNrpDa4Ko7tpKEiaWFd2gKhFO2GQxEHJMcNB15ayY6EKtQcsFMVDiCQ7JyKOCA7qOKYeiMutEjIm0oRomrBm6gxEqH1SxrhNkHqbolTxUkq+XcYdeW/X+Jd22uv7edziJzJ7szj+W5mdmaeeWZHOp1GAAAAAKBV/k/mdaIoWq1Wv9+vqjUAAAAAkMUOOSMqURQZhpmdnUUIRaNRs9msvmEAAAAAgJDMEZXb7ca9FELI4/GoaQ8AAAAA/D+Kj6h4nj98+HBmCgyqAAAAgKpRfETl8/nwB4IggsGgw+GQUgAAAABAbYp3VBzHIYQIguB5nmEYi8XCsqz6hgEAAAAAQnI6qng8jhBiWRZP91mt1ng8zvO86qYBAAAAgExnCpqmGYbJTIGOCgAAAKgOsjoqu90ufQ4GgwihaDSqlkUAAAAAkIGsjirTxy8Wi6lmDAAAAABk0yKKYtF5PGkTVTKZnJqaQggJgoCdLAAAAABAPcxm845AILC9u/nMzEx/f79er0cIRSKRu3fvIoRefvnlXbt2ySxmfX09kUjodLrW1lYpURAEvV6PswWagdnZ2V27dnV3d6uU/+rqaiQS6e7ulv9kAuUwPT390ksvNcy/cCQSQQip93wCcpBUSCQSKysrOLGnpweli0HTtM/nS6fT0WiUIAiEkMlkKnpXJnhZKwuapgVBUJQPUNfQNO1yudTLHz9mwWBQvSKATBqstmmapmm61lY0O5IKLpcrs7MovkZltVpDoRBCyO12P3z4ECE0NjZWTp9ps9kCgQDHcSRJlpMPAAAA0Ay0FL1icHDQ6XR6vV68OkVRlNPpVFqMzWYbGRkhSdJqtZZiJkJut9tisZRQNAAAgDaBZk0mxTsqhmFEUZRGUaWd9GE2m7N2YillbGyMYRir1VpyVwcAAKApoFmTSfGpv0yfQI/HU3KFOp1OLAlJkk6nU6mbO0mSWFTwjwcAoDGAZk0uEGEWAAAA0CwGg2E7rz9BECiKkq4OhUIV8euQnAAdDoeiGwOBAL7RZrNVxBKgmoDXX4PRYLVdK68/aNYyKcXrTzov0WQy0TRd8g7fWCzmdrtzb1c02sWZ4M9TU1OiKJZmDAAAgEYo1KzFYjGv11vbVk4LNkgU7Ki8Xu/ExARCiCAIlmUHBwexk3oJMAwzPj4+ODhY8jwsz/M4ajv+1efzVdm1neO40rxIAG0CgtYdbrdbIws5lXp4tmnWGIYZGxtTzxuQJMkdBfB6vdWxQRH5vf5isZh05DzLstiBouTtU7hPxpuFM5HplyGKIsMweAsXQRBer7f6dRcMBnme14hm25B32Prbb7+lUqnMxPv37y8tLWWmpFIpvA/87Nmz3377bWlFB4NB6SnXOHUhaN7wZk0rKH7Z1cLZ4hcuXNDpdGU+PLVt1nC5eREEoWpmyCd/R+V0OvE3cblc2K3carUSBMFxXAle5k6nc3x83Ov14ocMz8lSFFXC/4B2evha8fXXX+OR7vLy8sbGRtbI8vHjx8lkspz8w+FwaTcGg0GscjmlNyEgaD1SpihZ5DZrHMexLFvbtk4LNkjkifW3vr5+/fp1hJBOpzty5AhOXF1dDYfDra2ter2+ra1t9+7dmYH7ipJIJARB2NraQgg9fvx49+7dXV1d8m8XBGFubg4hdPz4cUXlVopIJLK6uprpWlIreJ7f5m2ofNrb21955ZUSboxEIolE4o033ih0gdqx/vBDIjP6HAhalKKCVjnWn9rF4fV4OY/EH3/8sbW19eqrr5ZZYg2btenp6UJ/slgsihrnyiKpIMWVRQgZjcYWhmGyXuLw+x1C6LPPPqMoKplMTk5O4i+WSqXwq8Q///wzPDx86tQp+RbMzMysra09++yzyWTy9u3bDodD0Re4evXqxYsXz507p9PpFN1YESYmJu7cuVNm7KiKcObMmW3atazK2djY2NzcJEky69+gvb3daDRmprS2tvb19V25cqW3t/fcuXMlGFa0ilwuV09Pj1Ld5TM7Ozs3Nzc8PCynrakLQZ966qn29vbMFKWC/vTTT729vaOjoyUYVrSKpqenZdZ2RVC7OOxmJueROHv2bDwer8jDU6tmTQtPfl4kFSYmJqSOau/evS0kSWbN5uHVKexMjBByOp2SA6XE2tra999/r9fr5c8MeDweqRv3+XxKpxAZhnn06NGNGzdqMhcRDAYfPHhQZnCNivDaa69du3btxIkTnZ2d77zzTtZfywlShRAKh8MvvPBCaV+zaBXp9fquri6165CiKDlFaEdQq9W6sbGhnqB9fX0qCYpk13alULU4PFaTk39HR8fm5mYsFit/Wqy2zZoGkVTIDGXe1taWZ40Kdyf4VF+O4/AAy2az2e12u93ucrlEUcSJeHlT6aMjrXvJxOv14v7fZrOxLNvkobGee+65/v7+y5cv19oQoDLs378/mUyCoHWHx+MppyGCZk0RBd3Th4aG0JOD510uF8uyQ0NDNE1bLBa/3x8MBrEXn/zAFrj/czgcY2Njil4SJS8UURTNZvPIyEjRkx6B6mOxWGptAlBJQNBCvPjiizqdLh6PS1ugSgCaNUXk6ahMJhNCCC9c4bqThqVWqzUajSKEGIbBiTikelFYlkUI0TTt9/ul40JkMjg4iBByuVwcx/E8HwwGc6cigZqjBb9hoIKAoIUgCIKiKIqi/H5/yVu7oFlTRJ6j6Pft2xePx/GOnGeeeQZl7M7Z3NycmZnBVWw2mzs7O5eXl8fHx4uucP7www89PT0ffvjh/v3779y5g/Lt+NmGzs7Op59+WrplcHCw5DAZpbG4uCgIQpULrb4lgiAsLi4qyvzy5ct432JnZ+f2hmVmnkwmZ2dnb9++bbVaK7U8jv2F8M+igKCFkC8oyqhtNQTdpjg1wEMcOXW1uLi4uro6Ojr68ccfnz59+vPPPy+txJo3axpEUmFxcVFKXF9fz+OenkgkFhYWaJpGTxwopYPnBUEIh8OSx2o4HP7333+L+oyurq7Ozc0dOXJkfX0du2MihHD+8q0XBKGGp0Rrx5tZVUuUepAvLi5Go1GdTqfX6xOJhE6n28YwnLnRaLx7967kz4MQMhgMBw4cKNf0unVPr19Bsb+4TqdTSdC8xWnBPV2SbGVl5c8//yzZqpo3axqkkHt6nqC0giAQBIGPn0+n0zabjaIo6dh4hJD02WazISTrMHsc0DbTkUNpsEJV45nKKV0jx1SraonSuLH4bQNHJnU4HNsbRtP0J598krchiEaj5ZquMCgtCFroevmCIoR+/PFH9QTNLU7VGLjyg9JmSkbTtNLg2llZlXxvQ6IgKC0+L8rj8eDQR36/32w2SxPWJpNJmirkeb7othi32z0yMlL+sWDgvqlBMnfg5Y2+KIoiy7JSSOIbN26oOnsDlIlSQScnJ5tc0JGREbwAXxrQrMkkv9cfDnfkdDpFUSRJkmVZqXMym814/RAH1i26cYznebxrimGYTCcZnFKhbwHUhpGREfTENTQLURTdbrder7fb7Xgbw19//XXr1q3cK2mahnV7jaBIUITQzz//nHtlUwk6NDT08OFDjUTLbWAKHkXPsizuS7xeL8Mw0pOHHf/wJgCfz1f0icxcHuQ4Dj/fSKEzBaBNGIbx+XxutzvLlRkH3Mx61753715uDiaTCaKYawdFgiKE1tbWslKaU9BYLNY8fXNNKNhRkSTJ87zb7R4aGiJJEm+rQghxHDc7O0tRVCgUUjqhl/mmVlp8W0BrOJ1Oq9WK9ypKgno8nrwzQidPnsx8B3c4HF6vt8ontgDbo0jQ4eHhyclJ6demFRR6KdWBo+gBAAAAzTIwMKDY+y4YDGrEXaqaNKSTmCAIma41CCGDwVCyGxL2tcWfcx81k8mkhidYyYCgcnLTlKBIZa8/+WRK5vP5KIqqrT3NQMEQSqIoer3evEfIAw0AXnUYHx/PTLx37x7eMFcCJElKcz5ZzaXD4eB5HqZHVAUErQnBYBCWMKpAwTUqae10fHw8EAhIa1RNBY5ugrf319AMURQ5jguFQpIrSvkUWnV47733ys/c6/Xa7fZAIGCxWDI9cWoOCFoatRJUjYqquCXYVRJQl7zjrKyoU5lTEz6fTyNzJuohCILD4cBRd00mk8fj6e3tff7552tiSdbL7MGDBytS//jbZdGoyoKgdUduRaEaTf2pJxkgn4IjqkKU4OxXX0ieuARBeDwevPdrx44d1T+IIa9P8Pz8fEWOA8iNC9yojsUgaN1RyBv+0aNHWrCkUpIBCsjbfeEQ6RLSiwyOroTjITUYoVBITnVVZ+EUx6baHpvNVk4RuasO0sp5YyAzFrV2BC0zmk4DCCrnf5AgiOo4ccgJ+ufxeKpgCZBOp3ek87n0IIQYhuF5fmxsbGhoSJqSxitV5YQM0SyiKOKjjX0+X29v74kTJ3D6wsLCL7/8srGx4XQ6CYI4fPhwFZbrWJYNhULffPPNxsZG1p+MRuOpU6cQQuVbwvO8BpeRKkXdCWq328ucq6h3QSXJtqkovV5fzilQ8qmOZIBcCvVggiBQFGUymXw+Hz4rhabpzOi0jYr0ii0IgvQiXJPYkbliac3Juy4AQesO7VSUdixpcrbbR4VXEfEQmKIol8vV8L1U+knAaZfLJa29S4Hkq0wDTOZoARC07tBORWnHkian4NRf04LjQ0ejUYvFYrVaazu0r/fJHC0AgtYj2qko7VjSzCj2+mt48Ckn0q/Hjx8/dOjQl19+WZMIZiRJXr9+PZ1Og5dRyeQKeuzYsfPnz4OgWkZ6peB53mg0Xrx48d13362JJSRJchwHktWY2g7otI8gCCdPnkQIDQwMXLp0qTrT06FQ6KuvvrJYLDt37nQ6nVUosXkQBIGm6Z07dw4MDAQCgerM5ICg5XDp0iWDwdDR0fHBBx9UbStVKBT69NNP9+zZ09HRAZLVHJj6k0UsFjt//vzMzMzKykpHR8eBAwdef/31t956K/NIyXLgeV4UxYmJifn5+Xg8vrGxYbFYTp8+feHChfIzB3JRW1CO40RRnJqamp+fj8Vim5ubIGiZcBz3xRdf/P7775ubmwaDYWBg4NixY/39/VartSKDY0kynufx/py+vr4zZ86Mjo6WnzlQJtBRKUMURb/ff+3atZs3b/73339SutFoRAgdPXo08+Kuri69Xm82m0OhUCqVWl5elv704MGDSCSSSqVWVlYyMzl06JDNZnv//ffV/yoAQk8EvXLlSjgczhK0paUla0GrNEE/+uijWk1bNSQ8z3/33Xc3b978+++/t7a2cGJHRwdBEG1tbQcPHpSuJAiCIAiLxUKSZK5kS0tL9+/fz5Xs6NGjw8PDIJmmgI6qLHieX1paunr1ajKZvHXrViqVQghtbW3lPSQQIdTS0rJ37178ec+ePV1dXQaD4e23367UizxQJuUIum/fPoPBAIJWE1EUeZ5fWFj49ddfU6mUdIT0ysoK1i6XXMm6u7vffPNNkEzL/A+5y9U8AGI2ewAAAABJRU5ErkJggg==\"/>"
      ],
      "text/plain": [
       "Chain([4C:2.5♩, 4D:0.5♩, ‹4E 4E+ 1♩›, 4C:2.5♩, 4D:0.5♩, ‹4E 4E+ 1♩›, 4C:1.5♩], start=1)"
      ]
     },
     "execution_count": 4,
     "metadata": {},
     "output_type": "execute_result"
    }
   ],
   "source": [
    "ch.cycle(dur=9.5, crop=True)"
   ]
  },
  {
   "cell_type": "code",
   "execution_count": 5,
   "id": "ba5c1c16-c282-4e52-b33b-b682b6e964a1",
   "metadata": {},
   "outputs": [
    {
     "name": "stderr",
     "output_type": "stream",
     "text": [
      "DEBUG:maelzel.core:rendering parts with backend: lilypond\n"
     ]
    },
    {
     "name": "stdout",
     "output_type": "stream",
     "text": [
      "['4C', '4B'] [['4C', '4B']] ['4C', '4B']\n",
      ".... «1.000:2.000 [4A 4B] attachments=[Text(text=chord!, placement=above, fontsize=10.0)]» 4B\n"
     ]
    },
    {
     "data": {
      "text/html": [
       "<code style=\"font-size:0.9em\">Chain([<span style=\"color:#6666E0\">4C:1♩</span>, <span style=\"color:#6666E0\">‹4A 4B 1♩›</span>], dur=2)</code><br>\n",
       "        <img style=\"display:inline; padding:10px;\n",
       "margin-top:14px;\n",
       "width:143px\"\n",
       "             src=\"data:image/png;base64,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\"/>"
      ],
      "text/plain": [
       "Chain([4C:1♩, ‹4A 4B 1♩›])"
      ]
     },
     "execution_count": 5,
     "metadata": {},
     "output_type": "execute_result"
    }
   ],
   "source": [
    "ch = Chain([\n",
    "    Note(\"4C\", dur=1, label=\"test\"),\n",
    "    Chord(\"4A 4B\", dur=1, label=\"chord!\")\n",
    "])\n",
    "ch"
   ]
  },
  {
   "cell_type": "code",
   "execution_count": 6,
   "id": "96f7d23b-8d83-4eb4-a906-b6eea30c1137",
   "metadata": {},
   "outputs": [
    {
     "name": "stderr",
     "output_type": "stream",
     "text": [
      "DEBUG:maelzel.core:rendering parts with backend: lilypond\n"
     ]
    },
    {
     "name": "stdout",
     "output_type": "stream",
     "text": [
      "['4C', '4D-'] [['4C', '4D-'], ['4C', '4C#+']] ['4C', '4D-']\n"
     ]
    },
    {
     "data": {
      "text/html": [
       "<code style=\"font-size:0.9em\">Voice([<span style=\"color:#6666E0\">Rest:0.5♩</span>, <span style=\"color:#6666E0\">4C:0.5♩</span>, <span style=\"color:#6666E0\">4D-:1.5♩</span>], dur=2.5, offset=0.0)</code><br>\n",
       "        <img style=\"display:inline; padding:10px;\n",
       "margin-top:14px;\n",
       "width:154px\"\n",
       "             src=\"data:image/png;base64,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\"/>"
      ],
      "text/plain": [
       "Voice([Rest:0.5♩, 4C:0.5♩, 4D-:1.5♩], offset=0.0)"
      ]
     },
     "execution_count": 6,
     "metadata": {},
     "output_type": "execute_result"
    }
   ],
   "source": [
    "v = Voice([Rest(0.5), Note(\"C4\", 0.5), \"4D-/4.\"])\n",
    "v"
   ]
  },
  {
   "cell_type": "code",
   "execution_count": 7,
   "id": "0263141d-06a9-46c8-b59c-9fb8fdf275dc",
   "metadata": {},
   "outputs": [
    {
     "ename": "AssertionError",
     "evalue": "",
     "output_type": "error",
     "traceback": [
      "\u001b[0;31m---------------------------------------------------------------------------\u001b[0m",
      "\u001b[0;31mAssertionError\u001b[0m                            Traceback (most recent call last)",
      "\u001b[0;32m/tmp/ipykernel_27169/3285900169.py\u001b[0m in \u001b[0;36m<module>\u001b[0;34m\u001b[0m\n\u001b[1;32m      1\u001b[0m \u001b[0msco\u001b[0m \u001b[0;34m=\u001b[0m \u001b[0mgetScoreStruct\u001b[0m\u001b[0;34m(\u001b[0m\u001b[0;34m)\u001b[0m\u001b[0;34m\u001b[0m\u001b[0;34m\u001b[0m\u001b[0m\n\u001b[0;32m----> 2\u001b[0;31m \u001b[0mclick\u001b[0m \u001b[0;34m=\u001b[0m \u001b[0msco\u001b[0m\u001b[0;34m.\u001b[0m\u001b[0mmakeClickTrack\u001b[0m\u001b[0;34m(\u001b[0m\u001b[0mminMeasures\u001b[0m\u001b[0;34m=\u001b[0m\u001b[0;36m3\u001b[0m\u001b[0;34m)\u001b[0m\u001b[0;34m\u001b[0m\u001b[0;34m\u001b[0m\u001b[0m\n\u001b[0m\u001b[1;32m      3\u001b[0m \u001b[0mch2\u001b[0m \u001b[0;34m=\u001b[0m \u001b[0mch\u001b[0m\u001b[0;34m.\u001b[0m\u001b[0mcycle\u001b[0m\u001b[0;34m(\u001b[0m\u001b[0mdur\u001b[0m\u001b[0;34m=\u001b[0m\u001b[0;36m9.5\u001b[0m\u001b[0;34m,\u001b[0m \u001b[0mcrop\u001b[0m\u001b[0;34m=\u001b[0m\u001b[0;32mTrue\u001b[0m\u001b[0;34m)\u001b[0m\u001b[0;34m\u001b[0m\u001b[0;34m\u001b[0m\u001b[0m\n",
      "\u001b[0;32m~/dev/python/maelzel/maelzel/scorestruct.py\u001b[0m in \u001b[0;36mmakeClickTrack\u001b[0;34m(self, minMeasures, clickdur, strongBeatPitch, weakBeatPitch, playTransposition)\u001b[0m\n\u001b[1;32m   1675\u001b[0m             \u001b[0mstruct\u001b[0m \u001b[0;34m=\u001b[0m \u001b[0mself\u001b[0m\u001b[0;34m.\u001b[0m\u001b[0mcopy\u001b[0m\u001b[0;34m(\u001b[0m\u001b[0;34m)\u001b[0m\u001b[0;34m\u001b[0m\u001b[0;34m\u001b[0m\u001b[0m\n\u001b[1;32m   1676\u001b[0m             \u001b[0mstruct\u001b[0m\u001b[0;34m.\u001b[0m\u001b[0mensureDurationInMeasures\u001b[0m\u001b[0;34m(\u001b[0m\u001b[0mminMeasures\u001b[0m\u001b[0;34m)\u001b[0m\u001b[0;34m\u001b[0m\u001b[0;34m\u001b[0m\u001b[0m\n\u001b[0;32m-> 1677\u001b[0;31m         return tools.makeClickTrack(struct, clickdur=clickdur,\n\u001b[0m\u001b[1;32m   1678\u001b[0m                                     \u001b[0mstrongBeatPitch\u001b[0m\u001b[0;34m=\u001b[0m\u001b[0mstrongBeatPitch\u001b[0m\u001b[0;34m,\u001b[0m\u001b[0;34m\u001b[0m\u001b[0;34m\u001b[0m\u001b[0m\n\u001b[1;32m   1679\u001b[0m                                     \u001b[0mweakBeatPitch\u001b[0m\u001b[0;34m=\u001b[0m\u001b[0mweakBeatPitch\u001b[0m\u001b[0;34m,\u001b[0m\u001b[0;34m\u001b[0m\u001b[0;34m\u001b[0m\u001b[0m\n",
      "\u001b[0;32m~/dev/python/maelzel/maelzel/core/tools.py\u001b[0m in \u001b[0;36mmakeClickTrack\u001b[0;34m(struct, minMeasures, clickdur, strongBeatPitch, weakBeatPitch, playpreset, playparams, fade)\u001b[0m\n\u001b[1;32m    132\u001b[0m     \u001b[0mvoice\u001b[0m\u001b[0;34m.\u001b[0m\u001b[0msetPlay\u001b[0m\u001b[0;34m(\u001b[0m\u001b[0mfade\u001b[0m\u001b[0;34m=\u001b[0m\u001b[0mfade\u001b[0m\u001b[0;34m)\u001b[0m\u001b[0;34m\u001b[0m\u001b[0;34m\u001b[0m\u001b[0m\n\u001b[1;32m    133\u001b[0m     \u001b[0;32mif\u001b[0m \u001b[0mplaypreset\u001b[0m\u001b[0;34m:\u001b[0m\u001b[0;34m\u001b[0m\u001b[0;34m\u001b[0m\u001b[0m\n\u001b[0;32m--> 134\u001b[0;31m         \u001b[0mvoice\u001b[0m\u001b[0;34m.\u001b[0m\u001b[0msetPlay\u001b[0m\u001b[0;34m(\u001b[0m\u001b[0minstr\u001b[0m\u001b[0;34m=\u001b[0m\u001b[0mplaypreset\u001b[0m\u001b[0;34m,\u001b[0m \u001b[0mparams\u001b[0m\u001b[0;34m=\u001b[0m\u001b[0mplayparams\u001b[0m\u001b[0;34m)\u001b[0m\u001b[0;34m\u001b[0m\u001b[0;34m\u001b[0m\u001b[0m\n\u001b[0m\u001b[1;32m    135\u001b[0m     \u001b[0;32mfrom\u001b[0m \u001b[0;34m.\u001b[0m \u001b[0;32mimport\u001b[0m \u001b[0mscore\u001b[0m\u001b[0;34m\u001b[0m\u001b[0;34m\u001b[0m\u001b[0m\n\u001b[1;32m    136\u001b[0m     \u001b[0;32mreturn\u001b[0m \u001b[0mscore\u001b[0m\u001b[0;34m.\u001b[0m\u001b[0mScore\u001b[0m\u001b[0;34m(\u001b[0m\u001b[0;34m[\u001b[0m\u001b[0mvoice\u001b[0m\u001b[0;34m]\u001b[0m\u001b[0;34m,\u001b[0m \u001b[0mscorestruct\u001b[0m\u001b[0;34m=\u001b[0m\u001b[0mstruct\u001b[0m\u001b[0;34m)\u001b[0m\u001b[0;34m\u001b[0m\u001b[0;34m\u001b[0m\u001b[0m\n",
      "\u001b[0;32m~/dev/python/maelzel/maelzel/core/mobj.py\u001b[0m in \u001b[0;36msetPlay\u001b[0;34m(self, **kws)\u001b[0m\n\u001b[1;32m    359\u001b[0m             \u001b[0mself\u001b[0m\u001b[0;34m.\u001b[0m\u001b[0mplayargs\u001b[0m \u001b[0;34m=\u001b[0m \u001b[0mplayargs\u001b[0m\u001b[0;34m\u001b[0m\u001b[0;34m\u001b[0m\u001b[0m\n\u001b[1;32m    360\u001b[0m         \u001b[0;32mfor\u001b[0m \u001b[0mk\u001b[0m\u001b[0;34m,\u001b[0m \u001b[0mv\u001b[0m \u001b[0;32min\u001b[0m \u001b[0mkws\u001b[0m\u001b[0;34m.\u001b[0m\u001b[0mitems\u001b[0m\u001b[0;34m(\u001b[0m\u001b[0;34m)\u001b[0m\u001b[0;34m:\u001b[0m\u001b[0;34m\u001b[0m\u001b[0;34m\u001b[0m\u001b[0m\n\u001b[0;32m--> 361\u001b[0;31m             \u001b[0mplayargs\u001b[0m\u001b[0;34m[\u001b[0m\u001b[0mk\u001b[0m\u001b[0;34m]\u001b[0m \u001b[0;34m=\u001b[0m \u001b[0mv\u001b[0m\u001b[0;34m\u001b[0m\u001b[0;34m\u001b[0m\u001b[0m\n\u001b[0m\u001b[1;32m    362\u001b[0m         \u001b[0;32mreturn\u001b[0m \u001b[0mself\u001b[0m\u001b[0;34m\u001b[0m\u001b[0;34m\u001b[0m\u001b[0m\n\u001b[1;32m    363\u001b[0m \u001b[0;34m\u001b[0m\u001b[0m\n",
      "\u001b[0;32m~/dev/python/maelzel/maelzel/core/synthevent.py\u001b[0m in \u001b[0;36m__setitem__\u001b[0;34m(self, key, value)\u001b[0m\n\u001b[1;32m     89\u001b[0m \u001b[0;34m\u001b[0m\u001b[0m\n\u001b[1;32m     90\u001b[0m     \u001b[0;32mdef\u001b[0m \u001b[0m__setitem__\u001b[0m\u001b[0;34m(\u001b[0m\u001b[0mself\u001b[0m\u001b[0;34m,\u001b[0m \u001b[0mkey\u001b[0m\u001b[0;34m:\u001b[0m \u001b[0mstr\u001b[0m\u001b[0;34m,\u001b[0m \u001b[0mvalue\u001b[0m\u001b[0;34m)\u001b[0m \u001b[0;34m->\u001b[0m \u001b[0;32mNone\u001b[0m\u001b[0;34m:\u001b[0m\u001b[0;34m\u001b[0m\u001b[0;34m\u001b[0m\u001b[0m\n\u001b[0;32m---> 91\u001b[0;31m         \u001b[0;32massert\u001b[0m \u001b[0mkey\u001b[0m \u001b[0;32min\u001b[0m \u001b[0mself\u001b[0m\u001b[0;34m.\u001b[0m\u001b[0mplaykeys\u001b[0m\u001b[0;34m\u001b[0m\u001b[0;34m\u001b[0m\u001b[0m\n\u001b[0m\u001b[1;32m     92\u001b[0m         \u001b[0;32mif\u001b[0m \u001b[0mvalue\u001b[0m \u001b[0;32mis\u001b[0m \u001b[0;32mNone\u001b[0m\u001b[0;34m:\u001b[0m\u001b[0;34m\u001b[0m\u001b[0;34m\u001b[0m\u001b[0m\n\u001b[1;32m     93\u001b[0m             \u001b[0;32mdel\u001b[0m \u001b[0mself\u001b[0m\u001b[0;34m.\u001b[0m\u001b[0margs\u001b[0m\u001b[0;34m[\u001b[0m\u001b[0mkey\u001b[0m\u001b[0;34m]\u001b[0m\u001b[0;34m\u001b[0m\u001b[0;34m\u001b[0m\u001b[0m\n",
      "\u001b[0;31mAssertionError\u001b[0m: "
     ]
    }
   ],
   "source": [
    "sco = getScoreStruct()\n",
    "click = sco.makeClickTrack(minMeasures=3)\n",
    "ch2 = ch.cycle(dur=9.5, crop=True)"
   ]
  },
  {
   "cell_type": "code",
   "execution_count": 14,
   "id": "9fe1f524-f930-4544-a365-4288fb955f5a",
   "metadata": {},
   "outputs": [
    {
     "data": {
      "image/png": "[encoded data removed]",
      "text/plain": [
       "<IPython.core.display.Image object>"
      ]
     },
     "metadata": {
      "image/png": {
       "width": 617
      }
     },
     "output_type": "display_data"
    },
    {
     "data": {
      "application/vnd.jupyter.widget-view+json": {
       "model_id": "1dd93a294bad4b479f3aa3147a1d7a21",
       "version_major": 2,
       "version_minor": 0
      },
      "text/plain": [
       "Button(description='Stop', style=ButtonStyle())"
      ]
     },
     "metadata": {},
     "output_type": "display_data"
    },
    {
     "data": {
      "application/vnd.jupyter.widget-view+json": {
       "model_id": "1171544c357a43c3b0737f5e43fe954b",
       "version_major": 2,
       "version_minor": 0
      },
      "text/plain": [
       "Output()"
      ]
     },
     "metadata": {},
     "output_type": "display_data"
    },
    {
     "data": {
      "text/html": [
       "<small>SynthGroup - start: 0.136, dur: 15.000, synths: 24</small>\n",
       "<p>instr: <strong style=\"color:MediumSeaGreen\">preset._click</strong> - <b>15</b> synths</p>\n",
       "<table><thead><tr><th style=\"text-align:left\">p1</th><th style=\"text-align:left\">start</th><th style=\"text-align:left\">dur</th><th style=\"text-align:left\">4</th><th style=\"text-align:left\">5:idataidx_</th><th style=\"text-align:left\">6:inumbps</th><th style=\"text-align:left\">7:ibplen</th><th style=\"text-align:left\">8:igain_</th><th style=\"text-align:left\">9:ichan_</th><th style=\"text-align:left\">10:ipos</th><th style=\"text-align:left\">11:ifade0</th><th style=\"text-align:left\">12:ifade1</th><th style=\"text-align:left\">13:ipchintrp_</th><th style=\"text-align:left\">14:ifadekind_</th><th style=\"text-align:left\">15:ktransp</th><th style=\"text-align:left\">16</th><th style=\"text-align:left\">17</th><th style=\"text-align:left\">18</th><th style=\"text-align:left\">19</th><th style=\"text-align:left\">...</th><th style=\"text-align:left\">20</th><th style=\"text-align:left\">...</th><th style=\"text-align:left\">21</th></tr></thead><tbody><tr><td style=\"text-align:left\">1002.0092 <b>𝍪</b></td><td style=\"text-align:left\">0.136</td><td style=\"text-align:left\">1.000</td><td style=\"text-align:left\">0</td><td style=\"text-align:left\">16</td><td style=\"text-align:left\">2</td><td style=\"text-align:left\">3</td><td style=\"text-align:left\">1</td><td style=\"text-align:left\">1</td><td style=\"text-align:left\">-1</td><td style=\"text-align:left\">0</td><td style=\"text-align:left\">0.1</td><td style=\"text-align:left\">0</td><td style=\"text-align:left\">1</td><td style=\"text-align:left\">24</td><td style=\"text-align:left\">0</td><td style=\"text-align:left\">72</td><td style=\"text-align:left\">0.51518</td><td style=\"text-align:left\">...</td></tr><tr><td style=\"text-align:left\">1002.0093 <b>𝍪</b></td><td style=\"text-align:left\">1.136</td><td style=\"text-align:left\">1.000</td><td style=\"text-align:left\">0</td><td style=\"text-align:left\">16</td><td style=\"text-align:left\">2</td><td style=\"text-align:left\">3</td><td style=\"text-align:left\">1</td><td style=\"text-align:left\">1</td><td style=\"text-align:left\">-1</td><td style=\"text-align:left\">0</td><td style=\"text-align:left\">0.1</td><td style=\"text-align:left\">0</td><td style=\"text-align:left\">1</td><td style=\"text-align:left\">24</td><td style=\"text-align:left\">0</td><td style=\"text-align:left\">79</td><td style=\"text-align:left\">0.51518</td><td style=\"text-align:left\">...</td></tr><tr><td style=\"text-align:left\">1002.0094 <b>𝍪</b></td><td style=\"text-align:left\">2.136</td><td style=\"text-align:left\">1.000</td><td style=\"text-align:left\">0</td><td style=\"text-align:left\">16</td><td style=\"text-align:left\">2</td><td style=\"text-align:left\">3</td><td style=\"text-align:left\">1</td><td style=\"text-align:left\">1</td><td style=\"text-align:left\">-1</td><td style=\"text-align:left\">0</td><td style=\"text-align:left\">0.1</td><td style=\"text-align:left\">0</td><td style=\"text-align:left\">1</td><td style=\"text-align:left\">24</td><td style=\"text-align:left\">0</td><td style=\"text-align:left\">79</td><td style=\"text-align:left\">0.51518</td><td style=\"text-align:left\">...</td></tr><tr><td style=\"text-align:left\">1002.0095 <b>𝍪</b></td><td style=\"text-align:left\">3.136</td><td style=\"text-align:left\">1.000</td><td style=\"text-align:left\">0</td><td style=\"text-align:left\">16</td><td style=\"text-align:left\">2</td><td style=\"text-align:left\">3</td><td style=\"text-align:left\">1</td><td style=\"text-align:left\">1</td><td style=\"text-align:left\">-1</td><td style=\"text-align:left\">0</td><td style=\"text-align:left\">0.1</td><td style=\"text-align:left\">0</td><td style=\"text-align:left\">1</td><td style=\"text-align:left\">24</td><td style=\"text-align:left\">0</td><td style=\"text-align:left\">79</td><td style=\"text-align:left\">0.51518</td><td style=\"text-align:left\">...</td></tr><tr><td style=\"text-align:left\">...</td></tr></tbody></table>\n",
       "<p>instr: <strong style=\"color:MediumSeaGreen\">preset._piano</strong> - <b>9</b> synths</p>\n",
       "<table><thead><tr><th style=\"text-align:left\">p1</th><th style=\"text-align:left\">start</th><th style=\"text-align:left\">dur</th><th style=\"text-align:left\">4</th><th style=\"text-align:left\">5:idataidx_</th><th style=\"text-align:left\">6:inumbps</th><th style=\"text-align:left\">7:ibplen</th><th style=\"text-align:left\">8:igain_</th><th style=\"text-align:left\">9:ichan_</th><th style=\"text-align:left\">10:ipos</th><th style=\"text-align:left\">11:ifade0</th><th style=\"text-align:left\">12:ifade1</th><th style=\"text-align:left\">13:ipchintrp_</th><th style=\"text-align:left\">14:ifadekind_</th><th style=\"text-align:left\">15</th><th style=\"text-align:left\">16</th><th style=\"text-align:left\">...</th><th style=\"text-align:left\">17</th><th style=\"text-align:left\">...</th><th style=\"text-align:left\">18</th><th style=\"text-align:left\">...</th><th style=\"text-align:left\">19</th><th style=\"text-align:left\">...</th><th style=\"text-align:left\">20</th></tr></thead><tbody><tr><td style=\"text-align:left\">1001.0037 <b>𝍪</b></td><td style=\"text-align:left\">1.136</td><td style=\"text-align:left\">2.500</td><td style=\"text-align:left\">0</td><td style=\"text-align:left\">15</td><td style=\"text-align:left\">2</td><td style=\"text-align:left\">3</td><td style=\"text-align:left\">1</td><td style=\"text-align:left\">1</td><td style=\"text-align:left\">-1</td><td style=\"text-align:left\">0.02</td><td style=\"text-align:left\">0.02</td><td style=\"text-align:left\">0</td><td style=\"text-align:left\">1</td><td style=\"text-align:left\">0</td><td style=\"text-align:left\">...</td></tr><tr><td style=\"text-align:left\">1001.0038 <b>𝍪</b></td><td style=\"text-align:left\">3.636</td><td style=\"text-align:left\">0.500</td><td style=\"text-align:left\">0</td><td style=\"text-align:left\">15</td><td style=\"text-align:left\">2</td><td style=\"text-align:left\">3</td><td style=\"text-align:left\">1</td><td style=\"text-align:left\">1</td><td style=\"text-align:left\">-1</td><td style=\"text-align:left\">0.02</td><td style=\"text-align:left\">0.02</td><td style=\"text-align:left\">0</td><td style=\"text-align:left\">1</td><td style=\"text-align:left\">0</td><td style=\"text-align:left\">...</td></tr><tr><td style=\"text-align:left\">1001.0039 <b>𝍪</b></td><td style=\"text-align:left\">4.136</td><td style=\"text-align:left\">1.000</td><td style=\"text-align:left\">0</td><td style=\"text-align:left\">15</td><td style=\"text-align:left\">2</td><td style=\"text-align:left\">3</td><td style=\"text-align:left\">0.70711</td><td style=\"text-align:left\">1</td><td style=\"text-align:left\">-1</td><td style=\"text-align:left\">0.02</td><td style=\"text-align:left\">0.02</td><td style=\"text-align:left\">0</td><td style=\"text-align:left\">1</td><td style=\"text-align:left\">0</td><td style=\"text-align:left\">...</td></tr><tr><td style=\"text-align:left\">1001.004 <b>𝍪</b></td><td style=\"text-align:left\">4.136</td><td style=\"text-align:left\">1.000</td><td style=\"text-align:left\">0</td><td style=\"text-align:left\">15</td><td style=\"text-align:left\">2</td><td style=\"text-align:left\">3</td><td style=\"text-align:left\">0.70711</td><td style=\"text-align:left\">1</td><td style=\"text-align:left\">-1</td><td style=\"text-align:left\">0.02</td><td style=\"text-align:left\">0.02</td><td style=\"text-align:left\">0</td><td style=\"text-align:left\">1</td><td style=\"text-align:left\">0</td><td style=\"text-align:left\">...</td></tr><tr><td style=\"text-align:left\">...</td></tr></tbody></table>"
      ],
      "text/plain": [
       "SynthGroup(n=24)\n",
       "    Synth(𝍪 preset._click:1002.0092, p4=0 idataidx_:5=16 inumbps:6=2 ibplen:7=3 igain_:8=1 ichan_:9=1 ipos:10=-1 ifade0:11=0 ifade1:12=0.1 ipchintrp_:13=0 ifadekind_:14=1 ktransp:15=24 p16=0 p17=72 p18=0.515178 p19=1 ...)\n",
       "    Synth(𝍪 preset._click:1002.0093, p4=0 idataidx_:5=16 inumbps:6=2 ibplen:7=3 igain_:8=1 ichan_:9=1 ipos:10=-1 ifade0:11=0 ifade1:12=0.1 ipchintrp_:13=0 ifadekind_:14=1 ktransp:15=24 p16=0 p17=79 p18=0.515178 p19=1 ...)\n",
       "    Synth(𝍪 preset._click:1002.0094, p4=0 idataidx_:5=16 inumbps:6=2 ibplen:7=3 igain_:8=1 ichan_:9=1 ipos:10=-1 ifade0:11=0 ifade1:12=0.1 ipchintrp_:13=0 ifadekind_:14=1 ktransp:15=24 p16=0 p17=79 p18=0.515178 p19=1 ...)\n",
       "    Synth(𝍪 preset._click:1002.0095, p4=0 idataidx_:5=16 inumbps:6=2 ibplen:7=3 igain_:8=1 ichan_:9=1 ipos:10=-1 ifade0:11=0 ifade1:12=0.1 ipchintrp_:13=0 ifadekind_:14=1 ktransp:15=24 p16=0 p17=79 p18=0.515178 p19=1 ...)\n",
       "    Synth(𝍪 preset._click:1002.0096, p4=0 idataidx_:5=16 inumbps:6=2 ibplen:7=3 igain_:8=1 ichan_:9=1 ipos:10=-1 ifade0:11=0 ifade1:12=0.1 ipchintrp_:13=0 ifadekind_:14=1 ktransp:15=24 p16=0 p17=79 p18=0.515178 p19=1 ...)\n",
       "    Synth(𝍪 preset._click:1002.0097, p4=0 idataidx_:5=16 inumbps:6=2 ibplen:7=3 igain_:8=1 ichan_:9=1 ipos:10=-1 ifade0:11=0 ifade1:12=0.1 ipchintrp_:13=0 ifadekind_:14=1 ktransp:15=24 p16=0 p17=72 p18=0.515178 p19=1 ...)\n",
       "    Synth(𝍪 preset._click:1002.0098, p4=0 idataidx_:5=16 inumbps:6=2 ibplen:7=3 igain_:8=1 ichan_:9=1 ipos:10=-1 ifade0:11=0 ifade1:12=0.1 ipchintrp_:13=0 ifadekind_:14=1 ktransp:15=24 p16=0 p17=79 p18=0.515178 p19=1 ...)\n",
       "    Synth(𝍪 preset._click:1002.0099, p4=0 idataidx_:5=16 inumbps:6=2 ibplen:7=3 igain_:8=1 ichan_:9=1 ipos:10=-1 ifade0:11=0 ifade1:12=0.1 ipchintrp_:13=0 ifadekind_:14=1 ktransp:15=24 p16=0 p17=79 p18=0.515178 p19=1 ...)\n",
       "    Synth(𝍪 preset._click:1002.01, p4=0 idataidx_:5=16 inumbps:6=2 ibplen:7=3 igain_:8=1 ichan_:9=1 ipos:10=-1 ifade0:11=0 ifade1:12=0.1 ipchintrp_:13=0 ifadekind_:14=1 ktransp:15=24 p16=0 p17=79 p18=0.515178 p19=1 ...)\n",
       "    Synth(𝍪 preset._click:1002.0101, p4=0 idataidx_:5=16 inumbps:6=2 ibplen:7=3 igain_:8=1 ichan_:9=1 ipos:10=-1 ifade0:11=0 ifade1:12=0.1 ipchintrp_:13=0 ifadekind_:14=1 ktransp:15=24 p16=0 p17=79 p18=0.515178 p19=1 ...)\n",
       "    Synth(𝍪 preset._click:1002.0102, p4=0 idataidx_:5=16 inumbps:6=2 ibplen:7=3 igain_:8=1 ichan_:9=1 ipos:10=-1 ifade0:11=0 ifade1:12=0.1 ipchintrp_:13=0 ifadekind_:14=1 ktransp:15=24 p16=0 p17=72 p18=0.515178 p19=1 ...)\n",
       "    Synth(𝍪 preset._click:1002.0103, p4=0 idataidx_:5=16 inumbps:6=2 ibplen:7=3 igain_:8=1 ichan_:9=1 ipos:10=-1 ifade0:11=0 ifade1:12=0.1 ipchintrp_:13=0 ifadekind_:14=1 ktransp:15=24 p16=0 p17=79 p18=0.515178 p19=1 ...)\n",
       "    Synth(𝍪 preset._click:1002.0104, p4=0 idataidx_:5=16 inumbps:6=2 ibplen:7=3 igain_:8=1 ichan_:9=1 ipos:10=-1 ifade0:11=0 ifade1:12=0.1 ipchintrp_:13=0 ifadekind_:14=1 ktransp:15=24 p16=0 p17=79 p18=0.515178 p19=1 ...)\n",
       "    Synth(𝍪 preset._click:1002.0105, p4=0 idataidx_:5=16 inumbps:6=2 ibplen:7=3 igain_:8=1 ichan_:9=1 ipos:10=-1 ifade0:11=0 ifade1:12=0.1 ipchintrp_:13=0 ifadekind_:14=1 ktransp:15=24 p16=0 p17=79 p18=0.515178 p19=1 ...)\n",
       "    Synth(𝍪 preset._click:1002.0106, p4=0 idataidx_:5=16 inumbps:6=2 ibplen:7=3 igain_:8=1 ichan_:9=1 ipos:10=-1 ifade0:11=0 ifade1:12=0.1 ipchintrp_:13=0 ifadekind_:14=1 ktransp:15=24 p16=0 p17=79 p18=0.515178 p19=1 ...)\n",
       "    Synth(𝍪 preset._piano:1001.0037, p4=0 idataidx_:5=15 inumbps:6=2 ibplen:7=3 igain_:8=1 ichan_:9=1 ipos:10=-1 ifade0:11=0.02 ifade1:12=0.02 ipchintrp_:13=0 ifadekind_:14=1 p15=0 p16=60 ...)\n",
       "    Synth(𝍪 preset._piano:1001.0038, p4=0 idataidx_:5=15 inumbps:6=2 ibplen:7=3 igain_:8=1 ichan_:9=1 ipos:10=-1 ifade0:11=0.02 ifade1:12=0.02 ipchintrp_:13=0 ifadekind_:14=1 p15=0 p16=62 ...)\n",
       "    Synth(𝍪 preset._piano:1001.0039, p4=0 idataidx_:5=15 inumbps:6=2 ibplen:7=3 igain_:8=0.707107 ichan_:9=1 ipos:10=-1 ifade0:11=0.02 ifade1:12=0.02 ipchintrp_:13=0 ifadekind_:14=1 p15=0 p16=64 ...)\n",
       "    Synth(𝍪 preset._piano:1001.004, p4=0 idataidx_:5=15 inumbps:6=2 ibplen:7=3 igain_:8=0.707107 ichan_:9=1 ipos:10=-1 ifade0:11=0.02 ifade1:12=0.02 ipchintrp_:13=0 ifadekind_:14=1 p15=0 p16=64.5 ...)\n",
       "    Synth(𝍪 preset._piano:1001.0041, p4=0 idataidx_:5=15 inumbps:6=2 ibplen:7=3 igain_:8=1 ichan_:9=1 ipos:10=-1 ifade0:11=0.02 ifade1:12=0.02 ipchintrp_:13=0 ifadekind_:14=1 p15=0 p16=60 ...)\n",
       "    Synth(𝍪 preset._piano:1001.0042, p4=0 idataidx_:5=15 inumbps:6=2 ibplen:7=3 igain_:8=1 ichan_:9=1 ipos:10=-1 ifade0:11=0.02 ifade1:12=0.02 ipchintrp_:13=0 ifadekind_:14=1 p15=0 p16=62 ...)\n",
       "    Synth(𝍪 preset._piano:1001.0043, p4=0 idataidx_:5=15 inumbps:6=2 ibplen:7=3 igain_:8=0.707107 ichan_:9=1 ipos:10=-1 ifade0:11=0.02 ifade1:12=0.02 ipchintrp_:13=0 ifadekind_:14=1 p15=0 p16=64 ...)\n",
       "    Synth(𝍪 preset._piano:1001.0044, p4=0 idataidx_:5=15 inumbps:6=2 ibplen:7=3 igain_:8=0.707107 ichan_:9=1 ipos:10=-1 ifade0:11=0.02 ifade1:12=0.02 ipchintrp_:13=0 ifadekind_:14=1 p15=0 p16=64.5 ...)\n",
       "    Synth(𝍪 preset._piano:1001.0045, p4=0 idataidx_:5=15 inumbps:6=2 ibplen:7=3 igain_:8=1 ichan_:9=1 ipos:10=-1 ifade0:11=0.02 ifade1:12=0.02 ipchintrp_:13=0 ifadekind_:14=1 p15=0 p16=60 ...)"
      ]
     },
     "execution_count": 14,
     "metadata": {},
     "output_type": "execute_result"
    }
   ],
   "source": [
    "sco = Score([click, ch2])\n",
    "sco.show()\n",
    "sco.play()"
   ]
  },
  {
   "cell_type": "code",
   "execution_count": 13,
   "id": "2513a3ab-2505-45d8-bdcb-aed0b243c0d9",
   "metadata": {},
   "outputs": [
    {
     "data": {
      "application/vnd.jupyter.widget-view+json": {
       "model_id": "b5c89add27134c55ad89de19f0bba2b0",
       "version_major": 2,
       "version_minor": 0
      },
      "text/plain": [
       "Button(description='Stop', style=ButtonStyle())"
      ]
     },
     "metadata": {},
     "output_type": "display_data"
    },
    {
     "data": {
      "application/vnd.jupyter.widget-view+json": {
       "model_id": "c1bd44d89550405889a0df333a94b5bd",
       "version_major": 2,
       "version_minor": 0
      },
      "text/plain": [
       "Output()"
      ]
     },
     "metadata": {},
     "output_type": "display_data"
    },
    {
     "data": {
      "text/html": [
       "<small>SynthGroup - start: 0.154, dur: 15.000, synths: 24</small>\n",
       "<p>instr: <strong style=\"color:MediumSeaGreen\">preset._click</strong> - <b>15</b> synths</p>\n",
       "<table><thead><tr><th style=\"text-align:left\">p1</th><th style=\"text-align:left\">start</th><th style=\"text-align:left\">dur</th><th style=\"text-align:left\">4</th><th style=\"text-align:left\">5:idataidx_</th><th style=\"text-align:left\">6:inumbps</th><th style=\"text-align:left\">7:ibplen</th><th style=\"text-align:left\">8:igain_</th><th style=\"text-align:left\">9:ichan_</th><th style=\"text-align:left\">10:ipos</th><th style=\"text-align:left\">11:ifade0</th><th style=\"text-align:left\">12:ifade1</th><th style=\"text-align:left\">13:ipchintrp_</th><th style=\"text-align:left\">14:ifadekind_</th><th style=\"text-align:left\">15:ktransp</th><th style=\"text-align:left\">16</th><th style=\"text-align:left\">17</th><th style=\"text-align:left\">18</th><th style=\"text-align:left\">19</th><th style=\"text-align:left\">...</th><th style=\"text-align:left\">20</th><th style=\"text-align:left\">...</th><th style=\"text-align:left\">21</th></tr></thead><tbody><tr><td style=\"text-align:left\">1002.0077 <b>𝍪</b></td><td style=\"text-align:left\">0.154</td><td style=\"text-align:left\">1.000</td><td style=\"text-align:left\">0</td><td style=\"text-align:left\">16</td><td style=\"text-align:left\">2</td><td style=\"text-align:left\">3</td><td style=\"text-align:left\">1</td><td style=\"text-align:left\">1</td><td style=\"text-align:left\">1</td><td style=\"text-align:left\">0</td><td style=\"text-align:left\">0.1</td><td style=\"text-align:left\">0</td><td style=\"text-align:left\">1</td><td style=\"text-align:left\">24</td><td style=\"text-align:left\">0</td><td style=\"text-align:left\">72</td><td style=\"text-align:left\">0.51518</td><td style=\"text-align:left\">...</td></tr><tr><td style=\"text-align:left\">1002.0078 <b>𝍪</b></td><td style=\"text-align:left\">1.154</td><td style=\"text-align:left\">1.000</td><td style=\"text-align:left\">0</td><td style=\"text-align:left\">16</td><td style=\"text-align:left\">2</td><td style=\"text-align:left\">3</td><td style=\"text-align:left\">1</td><td style=\"text-align:left\">1</td><td style=\"text-align:left\">1</td><td style=\"text-align:left\">0</td><td style=\"text-align:left\">0.1</td><td style=\"text-align:left\">0</td><td style=\"text-align:left\">1</td><td style=\"text-align:left\">24</td><td style=\"text-align:left\">0</td><td style=\"text-align:left\">79</td><td style=\"text-align:left\">0.51518</td><td style=\"text-align:left\">...</td></tr><tr><td style=\"text-align:left\">1002.0079 <b>𝍪</b></td><td style=\"text-align:left\">2.154</td><td style=\"text-align:left\">1.000</td><td style=\"text-align:left\">0</td><td style=\"text-align:left\">16</td><td style=\"text-align:left\">2</td><td style=\"text-align:left\">3</td><td style=\"text-align:left\">1</td><td style=\"text-align:left\">1</td><td style=\"text-align:left\">1</td><td style=\"text-align:left\">0</td><td style=\"text-align:left\">0.1</td><td style=\"text-align:left\">0</td><td style=\"text-align:left\">1</td><td style=\"text-align:left\">24</td><td style=\"text-align:left\">0</td><td style=\"text-align:left\">79</td><td style=\"text-align:left\">0.51518</td><td style=\"text-align:left\">...</td></tr><tr><td style=\"text-align:left\">1002.008 <b>𝍪</b></td><td style=\"text-align:left\">3.154</td><td style=\"text-align:left\">1.000</td><td style=\"text-align:left\">0</td><td style=\"text-align:left\">16</td><td style=\"text-align:left\">2</td><td style=\"text-align:left\">3</td><td style=\"text-align:left\">1</td><td style=\"text-align:left\">1</td><td style=\"text-align:left\">1</td><td style=\"text-align:left\">0</td><td style=\"text-align:left\">0.1</td><td style=\"text-align:left\">0</td><td style=\"text-align:left\">1</td><td style=\"text-align:left\">24</td><td style=\"text-align:left\">0</td><td style=\"text-align:left\">79</td><td style=\"text-align:left\">0.51518</td><td style=\"text-align:left\">...</td></tr><tr><td style=\"text-align:left\">...</td></tr></tbody></table>\n",
       "<p>instr: <strong style=\"color:MediumSeaGreen\">preset._piano</strong> - <b>9</b> synths</p>\n",
       "<table><thead><tr><th style=\"text-align:left\">p1</th><th style=\"text-align:left\">start</th><th style=\"text-align:left\">dur</th><th style=\"text-align:left\">4</th><th style=\"text-align:left\">5:idataidx_</th><th style=\"text-align:left\">6:inumbps</th><th style=\"text-align:left\">7:ibplen</th><th style=\"text-align:left\">8:igain_</th><th style=\"text-align:left\">9:ichan_</th><th style=\"text-align:left\">10:ipos</th><th style=\"text-align:left\">11:ifade0</th><th style=\"text-align:left\">12:ifade1</th><th style=\"text-align:left\">13:ipchintrp_</th><th style=\"text-align:left\">14:ifadekind_</th><th style=\"text-align:left\">15</th><th style=\"text-align:left\">16</th><th style=\"text-align:left\">...</th><th style=\"text-align:left\">17</th><th style=\"text-align:left\">...</th><th style=\"text-align:left\">18</th><th style=\"text-align:left\">...</th><th style=\"text-align:left\">19</th><th style=\"text-align:left\">...</th><th style=\"text-align:left\">20</th></tr></thead><tbody><tr><td style=\"text-align:left\">1001.0028 <b>𝍪</b></td><td style=\"text-align:left\">1.154</td><td style=\"text-align:left\">2.500</td><td style=\"text-align:left\">0</td><td style=\"text-align:left\">15</td><td style=\"text-align:left\">2</td><td style=\"text-align:left\">3</td><td style=\"text-align:left\">1</td><td style=\"text-align:left\">1</td><td style=\"text-align:left\">-1</td><td style=\"text-align:left\">0.02</td><td style=\"text-align:left\">0.02</td><td style=\"text-align:left\">0</td><td style=\"text-align:left\">1</td><td style=\"text-align:left\">0</td><td style=\"text-align:left\">...</td></tr><tr><td style=\"text-align:left\">1001.0029 <b>𝍪</b></td><td style=\"text-align:left\">3.654</td><td style=\"text-align:left\">0.500</td><td style=\"text-align:left\">0</td><td style=\"text-align:left\">15</td><td style=\"text-align:left\">2</td><td style=\"text-align:left\">3</td><td style=\"text-align:left\">1</td><td style=\"text-align:left\">1</td><td style=\"text-align:left\">-1</td><td style=\"text-align:left\">0.02</td><td style=\"text-align:left\">0.02</td><td style=\"text-align:left\">0</td><td style=\"text-align:left\">1</td><td style=\"text-align:left\">0</td><td style=\"text-align:left\">...</td></tr><tr><td style=\"text-align:left\">1001.003 <b>𝍪</b></td><td style=\"text-align:left\">4.154</td><td style=\"text-align:left\">1.000</td><td style=\"text-align:left\">0</td><td style=\"text-align:left\">15</td><td style=\"text-align:left\">2</td><td style=\"text-align:left\">3</td><td style=\"text-align:left\">0.70711</td><td style=\"text-align:left\">1</td><td style=\"text-align:left\">-1</td><td style=\"text-align:left\">0.02</td><td style=\"text-align:left\">0.02</td><td style=\"text-align:left\">0</td><td style=\"text-align:left\">1</td><td style=\"text-align:left\">0</td><td style=\"text-align:left\">...</td></tr><tr><td style=\"text-align:left\">1001.0031 <b>𝍪</b></td><td style=\"text-align:left\">4.154</td><td style=\"text-align:left\">1.000</td><td style=\"text-align:left\">0</td><td style=\"text-align:left\">15</td><td style=\"text-align:left\">2</td><td style=\"text-align:left\">3</td><td style=\"text-align:left\">0.70711</td><td style=\"text-align:left\">1</td><td style=\"text-align:left\">-1</td><td style=\"text-align:left\">0.02</td><td style=\"text-align:left\">0.02</td><td style=\"text-align:left\">0</td><td style=\"text-align:left\">1</td><td style=\"text-align:left\">0</td><td style=\"text-align:left\">...</td></tr><tr><td style=\"text-align:left\">...</td></tr></tbody></table>"
      ],
      "text/plain": [
       "SynthGroup(n=24)\n",
       "    Synth(𝍪 preset._click:1002.0077, p4=0 idataidx_:5=16 inumbps:6=2 ibplen:7=3 igain_:8=1 ichan_:9=1 ipos:10=1 ifade0:11=0 ifade1:12=0.1 ipchintrp_:13=0 ifadekind_:14=1 ktransp:15=24 p16=0 p17=72 p18=0.515178 p19=1 ...)\n",
       "    Synth(𝍪 preset._click:1002.0078, p4=0 idataidx_:5=16 inumbps:6=2 ibplen:7=3 igain_:8=1 ichan_:9=1 ipos:10=1 ifade0:11=0 ifade1:12=0.1 ipchintrp_:13=0 ifadekind_:14=1 ktransp:15=24 p16=0 p17=79 p18=0.515178 p19=1 ...)\n",
       "    Synth(𝍪 preset._click:1002.0079, p4=0 idataidx_:5=16 inumbps:6=2 ibplen:7=3 igain_:8=1 ichan_:9=1 ipos:10=1 ifade0:11=0 ifade1:12=0.1 ipchintrp_:13=0 ifadekind_:14=1 ktransp:15=24 p16=0 p17=79 p18=0.515178 p19=1 ...)\n",
       "    Synth(𝍪 preset._click:1002.008, p4=0 idataidx_:5=16 inumbps:6=2 ibplen:7=3 igain_:8=1 ichan_:9=1 ipos:10=1 ifade0:11=0 ifade1:12=0.1 ipchintrp_:13=0 ifadekind_:14=1 ktransp:15=24 p16=0 p17=79 p18=0.515178 p19=1 ...)\n",
       "    Synth(𝍪 preset._click:1002.0081, p4=0 idataidx_:5=16 inumbps:6=2 ibplen:7=3 igain_:8=1 ichan_:9=1 ipos:10=1 ifade0:11=0 ifade1:12=0.1 ipchintrp_:13=0 ifadekind_:14=1 ktransp:15=24 p16=0 p17=79 p18=0.515178 p19=1 ...)\n",
       "    Synth(𝍪 preset._click:1002.0082, p4=0 idataidx_:5=16 inumbps:6=2 ibplen:7=3 igain_:8=1 ichan_:9=1 ipos:10=1 ifade0:11=0 ifade1:12=0.1 ipchintrp_:13=0 ifadekind_:14=1 ktransp:15=24 p16=0 p17=72 p18=0.515178 p19=1 ...)\n",
       "    Synth(𝍪 preset._click:1002.0083, p4=0 idataidx_:5=16 inumbps:6=2 ibplen:7=3 igain_:8=1 ichan_:9=1 ipos:10=1 ifade0:11=0 ifade1:12=0.1 ipchintrp_:13=0 ifadekind_:14=1 ktransp:15=24 p16=0 p17=79 p18=0.515178 p19=1 ...)\n",
       "    Synth(𝍪 preset._click:1002.0084, p4=0 idataidx_:5=16 inumbps:6=2 ibplen:7=3 igain_:8=1 ichan_:9=1 ipos:10=1 ifade0:11=0 ifade1:12=0.1 ipchintrp_:13=0 ifadekind_:14=1 ktransp:15=24 p16=0 p17=79 p18=0.515178 p19=1 ...)\n",
       "    Synth(𝍪 preset._click:1002.0085, p4=0 idataidx_:5=16 inumbps:6=2 ibplen:7=3 igain_:8=1 ichan_:9=1 ipos:10=1 ifade0:11=0 ifade1:12=0.1 ipchintrp_:13=0 ifadekind_:14=1 ktransp:15=24 p16=0 p17=79 p18=0.515178 p19=1 ...)\n",
       "    Synth(𝍪 preset._click:1002.0086, p4=0 idataidx_:5=16 inumbps:6=2 ibplen:7=3 igain_:8=1 ichan_:9=1 ipos:10=1 ifade0:11=0 ifade1:12=0.1 ipchintrp_:13=0 ifadekind_:14=1 ktransp:15=24 p16=0 p17=79 p18=0.515178 p19=1 ...)\n",
       "    Synth(𝍪 preset._click:1002.0087, p4=0 idataidx_:5=16 inumbps:6=2 ibplen:7=3 igain_:8=1 ichan_:9=1 ipos:10=1 ifade0:11=0 ifade1:12=0.1 ipchintrp_:13=0 ifadekind_:14=1 ktransp:15=24 p16=0 p17=72 p18=0.515178 p19=1 ...)\n",
       "    Synth(𝍪 preset._click:1002.0088, p4=0 idataidx_:5=16 inumbps:6=2 ibplen:7=3 igain_:8=1 ichan_:9=1 ipos:10=1 ifade0:11=0 ifade1:12=0.1 ipchintrp_:13=0 ifadekind_:14=1 ktransp:15=24 p16=0 p17=79 p18=0.515178 p19=1 ...)\n",
       "    Synth(𝍪 preset._click:1002.0089, p4=0 idataidx_:5=16 inumbps:6=2 ibplen:7=3 igain_:8=1 ichan_:9=1 ipos:10=1 ifade0:11=0 ifade1:12=0.1 ipchintrp_:13=0 ifadekind_:14=1 ktransp:15=24 p16=0 p17=79 p18=0.515178 p19=1 ...)\n",
       "    Synth(𝍪 preset._click:1002.009, p4=0 idataidx_:5=16 inumbps:6=2 ibplen:7=3 igain_:8=1 ichan_:9=1 ipos:10=1 ifade0:11=0 ifade1:12=0.1 ipchintrp_:13=0 ifadekind_:14=1 ktransp:15=24 p16=0 p17=79 p18=0.515178 p19=1 ...)\n",
       "    Synth(𝍪 preset._click:1002.0091, p4=0 idataidx_:5=16 inumbps:6=2 ibplen:7=3 igain_:8=1 ichan_:9=1 ipos:10=1 ifade0:11=0 ifade1:12=0.1 ipchintrp_:13=0 ifadekind_:14=1 ktransp:15=24 p16=0 p17=79 p18=0.515178 p19=1 ...)\n",
       "    Synth(𝍪 preset._piano:1001.0028, p4=0 idataidx_:5=15 inumbps:6=2 ibplen:7=3 igain_:8=1 ichan_:9=1 ipos:10=-1 ifade0:11=0.02 ifade1:12=0.02 ipchintrp_:13=0 ifadekind_:14=1 p15=0 p16=60 ...)\n",
       "    Synth(𝍪 preset._piano:1001.0029, p4=0 idataidx_:5=15 inumbps:6=2 ibplen:7=3 igain_:8=1 ichan_:9=1 ipos:10=-1 ifade0:11=0.02 ifade1:12=0.02 ipchintrp_:13=0 ifadekind_:14=1 p15=0 p16=62 ...)\n",
       "    Synth(𝍪 preset._piano:1001.003, p4=0 idataidx_:5=15 inumbps:6=2 ibplen:7=3 igain_:8=0.707107 ichan_:9=1 ipos:10=-1 ifade0:11=0.02 ifade1:12=0.02 ipchintrp_:13=0 ifadekind_:14=1 p15=0 p16=64 ...)\n",
       "    Synth(𝍪 preset._piano:1001.0031, p4=0 idataidx_:5=15 inumbps:6=2 ibplen:7=3 igain_:8=0.707107 ichan_:9=1 ipos:10=-1 ifade0:11=0.02 ifade1:12=0.02 ipchintrp_:13=0 ifadekind_:14=1 p15=0 p16=64.5 ...)\n",
       "    Synth(𝍪 preset._piano:1001.0032, p4=0 idataidx_:5=15 inumbps:6=2 ibplen:7=3 igain_:8=1 ichan_:9=1 ipos:10=-1 ifade0:11=0.02 ifade1:12=0.02 ipchintrp_:13=0 ifadekind_:14=1 p15=0 p16=60 ...)\n",
       "    Synth(𝍪 preset._piano:1001.0033, p4=0 idataidx_:5=15 inumbps:6=2 ibplen:7=3 igain_:8=1 ichan_:9=1 ipos:10=-1 ifade0:11=0.02 ifade1:12=0.02 ipchintrp_:13=0 ifadekind_:14=1 p15=0 p16=62 ...)\n",
       "    Synth(𝍪 preset._piano:1001.0034, p4=0 idataidx_:5=15 inumbps:6=2 ibplen:7=3 igain_:8=0.707107 ichan_:9=1 ipos:10=-1 ifade0:11=0.02 ifade1:12=0.02 ipchintrp_:13=0 ifadekind_:14=1 p15=0 p16=64 ...)\n",
       "    Synth(𝍪 preset._piano:1001.0035, p4=0 idataidx_:5=15 inumbps:6=2 ibplen:7=3 igain_:8=0.707107 ichan_:9=1 ipos:10=-1 ifade0:11=0.02 ifade1:12=0.02 ipchintrp_:13=0 ifadekind_:14=1 p15=0 p16=64.5 ...)\n",
       "    Synth(𝍪 preset._piano:1001.0036, p4=0 idataidx_:5=15 inumbps:6=2 ibplen:7=3 igain_:8=1 ichan_:9=1 ipos:10=-1 ifade0:11=0.02 ifade1:12=0.02 ipchintrp_:13=0 ifadekind_:14=1 p15=0 p16=60 ...)"
      ]
     },
     "execution_count": 13,
     "metadata": {},
     "output_type": "execute_result"
    }
   ],
   "source": [
    "play([\n",
    "    click.events(position=1),\n",
    "    ch.cycle(dur=9.5, crop=True)\n",
    "])"
   ]
  },
  {
   "cell_type": "code",
   "execution_count": 12,
   "id": "a2115864-d921-4bbc-a675-f18e6bde6f86",
   "metadata": {},
   "outputs": [
    {
     "data": {
      "application/vnd.jupyter.widget-view+json": {
       "model_id": "9788b23faacc445cb8b5e845ec3d5bff",
       "version_major": 2,
       "version_minor": 0
      },
      "text/plain": [
       "Button(description='Stop', style=ButtonStyle())"
      ]
     },
     "metadata": {},
     "output_type": "display_data"
    },
    {
     "data": {
      "application/vnd.jupyter.widget-view+json": {
       "model_id": "03bdede5fe2c4a129697cd9cf2552fc9",
       "version_major": 2,
       "version_minor": 0
      },
      "text/plain": [
       "Output()"
      ]
     },
     "metadata": {},
     "output_type": "display_data"
    },
    {
     "data": {
      "text/html": [
       "<small>SynthGroup - start: 0.136, dur: 15.000, synths: 24</small>\n",
       "<p>instr: <strong style=\"color:MediumSeaGreen\">preset._click</strong> - <b>15</b> synths</p>\n",
       "<table><thead><tr><th style=\"text-align:left\">p1</th><th style=\"text-align:left\">start</th><th style=\"text-align:left\">dur</th><th style=\"text-align:left\">4</th><th style=\"text-align:left\">5:idataidx_</th><th style=\"text-align:left\">6:inumbps</th><th style=\"text-align:left\">7:ibplen</th><th style=\"text-align:left\">8:igain_</th><th style=\"text-align:left\">9:ichan_</th><th style=\"text-align:left\">10:ipos</th><th style=\"text-align:left\">11:ifade0</th><th style=\"text-align:left\">12:ifade1</th><th style=\"text-align:left\">13:ipchintrp_</th><th style=\"text-align:left\">14:ifadekind_</th><th style=\"text-align:left\">15:ktransp</th><th style=\"text-align:left\">16</th><th style=\"text-align:left\">17</th><th style=\"text-align:left\">18</th><th style=\"text-align:left\">19</th><th style=\"text-align:left\">...</th><th style=\"text-align:left\">20</th><th style=\"text-align:left\">...</th><th style=\"text-align:left\">21</th></tr></thead><tbody><tr><td style=\"text-align:left\">1002.0062 <b>𝍪</b></td><td style=\"text-align:left\">0.136</td><td style=\"text-align:left\">1.000</td><td style=\"text-align:left\">0</td><td style=\"text-align:left\">16</td><td style=\"text-align:left\">2</td><td style=\"text-align:left\">3</td><td style=\"text-align:left\">1</td><td style=\"text-align:left\">1</td><td style=\"text-align:left\">1</td><td style=\"text-align:left\">0</td><td style=\"text-align:left\">0.1</td><td style=\"text-align:left\">0</td><td style=\"text-align:left\">1</td><td style=\"text-align:left\">24</td><td style=\"text-align:left\">0</td><td style=\"text-align:left\">72</td><td style=\"text-align:left\">0.51518</td><td style=\"text-align:left\">...</td></tr><tr><td style=\"text-align:left\">1002.0063 <b>𝍪</b></td><td style=\"text-align:left\">1.136</td><td style=\"text-align:left\">1.000</td><td style=\"text-align:left\">0</td><td style=\"text-align:left\">16</td><td style=\"text-align:left\">2</td><td style=\"text-align:left\">3</td><td style=\"text-align:left\">1</td><td style=\"text-align:left\">1</td><td style=\"text-align:left\">1</td><td style=\"text-align:left\">0</td><td style=\"text-align:left\">0.1</td><td style=\"text-align:left\">0</td><td style=\"text-align:left\">1</td><td style=\"text-align:left\">24</td><td style=\"text-align:left\">0</td><td style=\"text-align:left\">79</td><td style=\"text-align:left\">0.51518</td><td style=\"text-align:left\">...</td></tr><tr><td style=\"text-align:left\">1002.0064 <b>𝍪</b></td><td style=\"text-align:left\">2.136</td><td style=\"text-align:left\">1.000</td><td style=\"text-align:left\">0</td><td style=\"text-align:left\">16</td><td style=\"text-align:left\">2</td><td style=\"text-align:left\">3</td><td style=\"text-align:left\">1</td><td style=\"text-align:left\">1</td><td style=\"text-align:left\">1</td><td style=\"text-align:left\">0</td><td style=\"text-align:left\">0.1</td><td style=\"text-align:left\">0</td><td style=\"text-align:left\">1</td><td style=\"text-align:left\">24</td><td style=\"text-align:left\">0</td><td style=\"text-align:left\">79</td><td style=\"text-align:left\">0.51518</td><td style=\"text-align:left\">...</td></tr><tr><td style=\"text-align:left\">1002.0065 <b>𝍪</b></td><td style=\"text-align:left\">3.136</td><td style=\"text-align:left\">1.000</td><td style=\"text-align:left\">0</td><td style=\"text-align:left\">16</td><td style=\"text-align:left\">2</td><td style=\"text-align:left\">3</td><td style=\"text-align:left\">1</td><td style=\"text-align:left\">1</td><td style=\"text-align:left\">1</td><td style=\"text-align:left\">0</td><td style=\"text-align:left\">0.1</td><td style=\"text-align:left\">0</td><td style=\"text-align:left\">1</td><td style=\"text-align:left\">24</td><td style=\"text-align:left\">0</td><td style=\"text-align:left\">79</td><td style=\"text-align:left\">0.51518</td><td style=\"text-align:left\">...</td></tr><tr><td style=\"text-align:left\">...</td></tr></tbody></table>\n",
       "<p>instr: <strong style=\"color:MediumSeaGreen\">preset.saw</strong> - <b>9</b> synths</p>\n",
       "<table><thead><tr><th style=\"text-align:left\">p1</th><th style=\"text-align:left\">start</th><th style=\"text-align:left\">dur</th><th style=\"text-align:left\">4</th><th style=\"text-align:left\">5:idataidx_</th><th style=\"text-align:left\">6:inumbps</th><th style=\"text-align:left\">7:ibplen</th><th style=\"text-align:left\">8:igain_</th><th style=\"text-align:left\">9:ichan_</th><th style=\"text-align:left\">10:ipos</th><th style=\"text-align:left\">11:ifade0</th><th style=\"text-align:left\">12:ifade1</th><th style=\"text-align:left\">13:ipchintrp_</th><th style=\"text-align:left\">14:ifadekind_</th><th style=\"text-align:left\">15:ktransp</th><th style=\"text-align:left\">16:klag</th><th style=\"text-align:left\">17:kfreqratio</th><th style=\"text-align:left\">18:kQ</th><th style=\"text-align:left\">19</th><th style=\"text-align:left\">20</th><th style=\"text-align:left\">21</th><th style=\"text-align:left\">22</th><th style=\"text-align:left\">...</th><th style=\"text-align:left\">23</th><th style=\"text-align:left\">...</th><th style=\"text-align:left\">24</th></tr></thead><tbody><tr><td style=\"text-align:left\">1003.002 <b>𝍪</b></td><td style=\"text-align:left\">1.136</td><td style=\"text-align:left\">2.500</td><td style=\"text-align:left\">0</td><td style=\"text-align:left\">19</td><td style=\"text-align:left\">2</td><td style=\"text-align:left\">3</td><td style=\"text-align:left\">0.1</td><td style=\"text-align:left\">1</td><td style=\"text-align:left\">-1</td><td style=\"text-align:left\">0.02</td><td style=\"text-align:left\">0.02</td><td style=\"text-align:left\">0</td><td style=\"text-align:left\">1</td><td style=\"text-align:left\">0</td><td style=\"text-align:left\">0.1</td><td style=\"text-align:left\">0</td><td style=\"text-align:left\">3</td><td style=\"text-align:left\">0</td><td style=\"text-align:left\">60</td><td style=\"text-align:left\">0.51518</td><td style=\"text-align:left\">...</td></tr><tr><td style=\"text-align:left\">1003.0021 <b>𝍪</b></td><td style=\"text-align:left\">3.636</td><td style=\"text-align:left\">0.500</td><td style=\"text-align:left\">0</td><td style=\"text-align:left\">19</td><td style=\"text-align:left\">2</td><td style=\"text-align:left\">3</td><td style=\"text-align:left\">0.1</td><td style=\"text-align:left\">1</td><td style=\"text-align:left\">-1</td><td style=\"text-align:left\">0.02</td><td style=\"text-align:left\">0.02</td><td style=\"text-align:left\">0</td><td style=\"text-align:left\">1</td><td style=\"text-align:left\">0</td><td style=\"text-align:left\">0.1</td><td style=\"text-align:left\">0</td><td style=\"text-align:left\">3</td><td style=\"text-align:left\">0</td><td style=\"text-align:left\">62</td><td style=\"text-align:left\">0.51518</td><td style=\"text-align:left\">...</td></tr><tr><td style=\"text-align:left\">1003.0022 <b>𝍪</b></td><td style=\"text-align:left\">4.136</td><td style=\"text-align:left\">1.000</td><td style=\"text-align:left\">0</td><td style=\"text-align:left\">19</td><td style=\"text-align:left\">2</td><td style=\"text-align:left\">3</td><td style=\"text-align:left\">0.070711</td><td style=\"text-align:left\">1</td><td style=\"text-align:left\">-1</td><td style=\"text-align:left\">0.02</td><td style=\"text-align:left\">0.02</td><td style=\"text-align:left\">0</td><td style=\"text-align:left\">1</td><td style=\"text-align:left\">0</td><td style=\"text-align:left\">0.1</td><td style=\"text-align:left\">0</td><td style=\"text-align:left\">3</td><td style=\"text-align:left\">0</td><td style=\"text-align:left\">64</td><td style=\"text-align:left\">0.51518</td><td style=\"text-align:left\">...</td></tr><tr><td style=\"text-align:left\">1003.0023 <b>𝍪</b></td><td style=\"text-align:left\">4.136</td><td style=\"text-align:left\">1.000</td><td style=\"text-align:left\">0</td><td style=\"text-align:left\">19</td><td style=\"text-align:left\">2</td><td style=\"text-align:left\">3</td><td style=\"text-align:left\">0.070711</td><td style=\"text-align:left\">1</td><td style=\"text-align:left\">-1</td><td style=\"text-align:left\">0.02</td><td style=\"text-align:left\">0.02</td><td style=\"text-align:left\">0</td><td style=\"text-align:left\">1</td><td style=\"text-align:left\">0</td><td style=\"text-align:left\">0.1</td><td style=\"text-align:left\">0</td><td style=\"text-align:left\">3</td><td style=\"text-align:left\">0</td><td style=\"text-align:left\">64.5</td><td style=\"text-align:left\">0.51518</td><td style=\"text-align:left\">...</td></tr><tr><td style=\"text-align:left\">...</td></tr></tbody></table>"
      ],
      "text/plain": [
       "<maelzel.core.playback.synched at 0x7f4088ea4730>"
      ]
     },
     "execution_count": 12,
     "metadata": {},
     "output_type": "execute_result"
    }
   ],
   "source": [
    "with synched() as _:\n",
    "    click.play(position=1)\n",
    "    ch.cycle(dur=9.5, crop=True).play(instr='saw', gain=0.1)\n",
    "_"
   ]
  },
  {
   "cell_type": "code",
   "execution_count": 8,
   "id": "09a90d67-0f4e-4643-8dc9-f7b649de06ed",
   "metadata": {},
   "outputs": [
    {
     "name": "stderr",
     "output_type": "stream",
     "text": [
      "DEBUG:maelzel.core:Starting engine maelzel.core (nchnls=2)\n"
     ]
    },
    {
     "name": "stdout",
     "output_type": "stream",
     "text": [
      "[SynthEvent(delay=0, dur=3, gain=1, chan=1, fade=(0.02, 0.02), instr=_piano)\n",
      "bps 0.000s: 69       0.515178\n",
      "    2.000s: 67       0.515178\n",
      "    3.000s: 1 0.515178\n",
      "]\n"
     ]
    },
    {
     "name": "stderr",
     "output_type": "stream",
     "text": [
      "\n",
      "\n",
      "--Csound version 6.18 (double samples) Dec  2 2022\n",
      "[commit: ac38f27d1c5d6ee0cacc1bc719e96be3a2d93a15]\n",
      "\u001b[mlibsndfile-1.0.31\n",
      "\u001b[msr = 44100.0,\u001b[m kr = 689.062,\u001b[m ksmps = 64\n",
      "\u001b[m0dBFS level = 1.0,\u001b[m A4 tuning = 442.0\n",
      "\u001b[maudio buffered in 256 sample-frame blocks\n",
      "\u001b[mreading 1024-byte blks of shorts from adc:system:capture (RAW)\n",
      "writing 512 sample blks of 64-bit floats to dac:system:playback\n",
      "SECTION 1:\n",
      "\u001b[m"
     ]
    },
    {
     "data": {
      "application/vnd.jupyter.widget-view+json": {
       "model_id": "fb1835a3d2b24e0ca25989f97e04b709",
       "version_major": 2,
       "version_minor": 0
      },
      "text/plain": [
       "Button(description='Stop', style=ButtonStyle())"
      ]
     },
     "metadata": {},
     "output_type": "display_data"
    },
    {
     "data": {
      "application/vnd.jupyter.widget-view+json": {
       "model_id": "196553d6fd1d4327b073188860e3b9d2",
       "version_major": 2,
       "version_minor": 0
      },
      "text/plain": [
       "Output()"
      ]
     },
     "metadata": {},
     "output_type": "display_data"
    },
    {
     "data": {
      "text/html": [
       "<small>SynthGroup - start: 0.054, dur: 3.000, synths: 1</small>\n",
       "<p>instr: <strong style=\"color:MediumSeaGreen\">preset._piano</strong> - <b>1</b> synths</p>\n",
       "<table><thead><tr><th style=\"text-align:left\">p1</th><th style=\"text-align:left\">start</th><th style=\"text-align:left\">dur</th><th style=\"text-align:left\">4</th><th style=\"text-align:left\">5:idataidx_</th><th style=\"text-align:left\">6:inumbps</th><th style=\"text-align:left\">7:ibplen</th><th style=\"text-align:left\">8:igain</th><th style=\"text-align:left\">9:ichan</th><th style=\"text-align:left\">10:ipos</th><th style=\"text-align:left\">11:ifadein</th><th style=\"text-align:left\">12:ifadeout</th><th style=\"text-align:left\">13:ipchintrp_</th><th style=\"text-align:left\">14:ifadekind</th><th style=\"text-align:left\">15</th><th style=\"text-align:left\">16</th><th style=\"text-align:left\">...</th></tr></thead><tbody><tr><td style=\"text-align:left\">501.0002 <b>𝍪</b></td><td style=\"text-align:left\">0.054</td><td style=\"text-align:left\">3.000</td><td style=\"text-align:left\">0</td><td style=\"text-align:left\">15</td><td style=\"text-align:left\">3</td><td style=\"text-align:left\">3</td><td style=\"text-align:left\">1</td><td style=\"text-align:left\">1</td><td style=\"text-align:left\">-1</td><td style=\"text-align:left\">0.02</td><td style=\"text-align:left\">0.02</td><td style=\"text-align:left\">0</td><td style=\"text-align:left\">1</td><td style=\"text-align:left\">0</td><td style=\"text-align:left\">...</td></tr></tbody></table>"
      ],
      "text/plain": [
       "SynthGroup(n=1)\n",
       "    Synth(𝍪 preset._piano:501.0002, p4=0 idataidx_:5=15 inumbps:6=3 ibplen:7=3 igain:8=1 ichan:9=1 ipos:10=-1 ifadein:11=0.02 ifadeout:12=0.02 ipchintrp_:13=0 ifadekind:14=1 p15=0 p16=69 ...)"
      ]
     },
     "execution_count": 8,
     "metadata": {},
     "output_type": "execute_result"
    }
   ],
   "source": [
    "from maelzel.core import *\n",
    "ch = Chain([Note(\"4A\", 2, gliss=True), Note(\"4G\", 1, gliss=True)])\n",
    "print(ch.events())\n",
    "ch.play()"
   ]
  },
  {
   "cell_type": "code",
   "execution_count": 21,
   "id": "b5031634-bdf0-43ee-9093-fcfceac9d735",
   "metadata": {},
   "outputs": [
    {
     "data": {
      "image/png": "[encoded data removed]",
      "text/plain": [
       "<IPython.core.display.Image object>"
      ]
     },
     "metadata": {
      "image/png": {
       "width": 269
      }
     },
     "output_type": "display_data"
    },
    {
     "data": {
      "application/vnd.jupyter.widget-view+json": {
       "model_id": "a5de8e11938c47b58c6854da19fb9ed6",
       "version_major": 2,
       "version_minor": 0
      },
      "text/plain": [
       "Button(description='Stop', style=ButtonStyle())"
      ]
     },
     "metadata": {},
     "output_type": "display_data"
    },
    {
     "data": {
      "application/vnd.jupyter.widget-view+json": {
       "model_id": "b8ef4b4e89a6446a9d8fb30a38e6604d",
       "version_major": 2,
       "version_minor": 0
      },
      "text/plain": [
       "Output()"
      ]
     },
     "metadata": {},
     "output_type": "display_data"
    },
    {
     "data": {
      "text/html": [
       "<small>SynthGroup - start: 0.165, dur: 5.150, synths: 4</small>\n",
       "<p>instr: <strong style=\"color:MediumSeaGreen\">preset.tri</strong> - <b>4</b> synths</p>\n",
       "<table><thead><tr><th style=\"text-align:left\">p1</th><th style=\"text-align:left\">start</th><th style=\"text-align:left\">dur</th><th style=\"text-align:left\">4</th><th style=\"text-align:left\">5:idataidx_</th><th style=\"text-align:left\">6:inumbps</th><th style=\"text-align:left\">7:ibplen</th><th style=\"text-align:left\">8:igain_</th><th style=\"text-align:left\">9:ichan_</th><th style=\"text-align:left\">10:ipos</th><th style=\"text-align:left\">11:ifade0</th><th style=\"text-align:left\">12:ifade1</th><th style=\"text-align:left\">13:ipchintrp_</th><th style=\"text-align:left\">14:ifadekind_</th><th style=\"text-align:left\">15:ktransp</th><th style=\"text-align:left\">16:klag</th><th style=\"text-align:left\">17:kfreqratio</th><th style=\"text-align:left\">18:kQ</th><th style=\"text-align:left\">19</th><th style=\"text-align:left\">20</th><th style=\"text-align:left\">21</th><th style=\"text-align:left\">22</th><th style=\"text-align:left\">...</th><th style=\"text-align:left\">23</th><th style=\"text-align:left\">...</th><th style=\"text-align:left\">24</th><th style=\"text-align:left\">...</th><th style=\"text-align:left\">25</th><th style=\"text-align:left\">...</th><th style=\"text-align:left\">26</th><th style=\"text-align:left\">...</th><th style=\"text-align:left\">27</th></tr></thead><tbody><tr><td style=\"text-align:left\">1004.0014 <b>𝍪</b></td><td style=\"text-align:left\">0.165</td><td style=\"text-align:left\">2.150</td><td style=\"text-align:left\">0</td><td style=\"text-align:left\">19</td><td style=\"text-align:left\">3</td><td style=\"text-align:left\">3</td><td style=\"text-align:left\">0.70711</td><td style=\"text-align:left\">1</td><td style=\"text-align:left\">-1</td><td style=\"text-align:left\">0.15</td><td style=\"text-align:left\">0.15</td><td style=\"text-align:left\">0</td><td style=\"text-align:left\">1</td><td style=\"text-align:left\">0</td><td style=\"text-align:left\">0.1</td><td style=\"text-align:left\">0</td><td style=\"text-align:left\">3</td><td style=\"text-align:left\">0</td><td style=\"text-align:left\">65</td><td style=\"text-align:left\">0.51518</td><td style=\"text-align:left\">...</td></tr><tr><td style=\"text-align:left\">1004.0015 <b>𝍪</b></td><td style=\"text-align:left\">0.165</td><td style=\"text-align:left\">2.150</td><td style=\"text-align:left\">0</td><td style=\"text-align:left\">19</td><td style=\"text-align:left\">3</td><td style=\"text-align:left\">3</td><td style=\"text-align:left\">0.70711</td><td style=\"text-align:left\">1</td><td style=\"text-align:left\">-1</td><td style=\"text-align:left\">0.15</td><td style=\"text-align:left\">0.15</td><td style=\"text-align:left\">0</td><td style=\"text-align:left\">1</td><td style=\"text-align:left\">0</td><td style=\"text-align:left\">0.1</td><td style=\"text-align:left\">0</td><td style=\"text-align:left\">3</td><td style=\"text-align:left\">0</td><td style=\"text-align:left\">69</td><td style=\"text-align:left\">0.51518</td><td style=\"text-align:left\">...</td></tr><tr><td style=\"text-align:left\">1004.0016 <b>𝍪</b></td><td style=\"text-align:left\">2.165</td><td style=\"text-align:left\">3.150</td><td style=\"text-align:left\">0</td><td style=\"text-align:left\">19</td><td style=\"text-align:left\">3</td><td style=\"text-align:left\">3</td><td style=\"text-align:left\">0.70711</td><td style=\"text-align:left\">1</td><td style=\"text-align:left\">-1</td><td style=\"text-align:left\">0.15</td><td style=\"text-align:left\">0.15</td><td style=\"text-align:left\">0</td><td style=\"text-align:left\">1</td><td style=\"text-align:left\">0</td><td style=\"text-align:left\">0.1</td><td style=\"text-align:left\">0</td><td style=\"text-align:left\">3</td><td style=\"text-align:left\">0</td><td style=\"text-align:left\">65</td><td style=\"text-align:left\">0.51518</td><td style=\"text-align:left\">...</td></tr><tr><td style=\"text-align:left\">1004.0017 <b>𝍪</b></td><td style=\"text-align:left\">2.165</td><td style=\"text-align:left\">3.150</td><td style=\"text-align:left\">0</td><td style=\"text-align:left\">19</td><td style=\"text-align:left\">3</td><td style=\"text-align:left\">3</td><td style=\"text-align:left\">0.70711</td><td style=\"text-align:left\">1</td><td style=\"text-align:left\">-1</td><td style=\"text-align:left\">0.15</td><td style=\"text-align:left\">0.15</td><td style=\"text-align:left\">0</td><td style=\"text-align:left\">1</td><td style=\"text-align:left\">0</td><td style=\"text-align:left\">0.1</td><td style=\"text-align:left\">0</td><td style=\"text-align:left\">3</td><td style=\"text-align:left\">0</td><td style=\"text-align:left\">68</td><td style=\"text-align:left\">0.51518</td><td style=\"text-align:left\">...</td></tr></tbody></table>"
      ],
      "text/plain": [
       "SynthGroup(n=4)\n",
       "    Synth(𝍪 preset.tri:1004.0014, p4=0 idataidx_:5=19 inumbps:6=3 ibplen:7=3 igain_:8=0.707107 ichan_:9=1 ipos:10=-1 ifade0:11=0.15 ifade1:12=0.15 ipchintrp_:13=0 ifadekind_:14=1 ktransp:15=0 klag:16=0.1 kfreqratio:17=0 kQ:18=3 p19=0 p20=65 p21=0.515178 p22=2 ...)\n",
       "    Synth(𝍪 preset.tri:1004.0015, p4=0 idataidx_:5=19 inumbps:6=3 ibplen:7=3 igain_:8=0.707107 ichan_:9=1 ipos:10=-1 ifade0:11=0.15 ifade1:12=0.15 ipchintrp_:13=0 ifadekind_:14=1 ktransp:15=0 klag:16=0.1 kfreqratio:17=0 kQ:18=3 p19=0 p20=69 p21=0.515178 p22=2 ...)\n",
       "    Synth(𝍪 preset.tri:1004.0016, p4=0 idataidx_:5=19 inumbps:6=3 ibplen:7=3 igain_:8=0.707107 ichan_:9=1 ipos:10=-1 ifade0:11=0.15 ifade1:12=0.15 ipchintrp_:13=0 ifadekind_:14=1 ktransp:15=0 klag:16=0.1 kfreqratio:17=0 kQ:18=3 p19=0 p20=65 p21=0.515178 p22=3 ...)\n",
       "    Synth(𝍪 preset.tri:1004.0017, p4=0 idataidx_:5=19 inumbps:6=3 ibplen:7=3 igain_:8=0.707107 ichan_:9=1 ipos:10=-1 ifade0:11=0.15 ifade1:12=0.15 ipchintrp_:13=0 ifadekind_:14=1 ktransp:15=0 klag:16=0.1 kfreqratio:17=0 kQ:18=3 p19=0 p20=68 p21=0.515178 p22=3 ...)"
      ]
     },
     "execution_count": 21,
     "metadata": {},
     "output_type": "execute_result"
    }
   ],
   "source": [
    "ch2 = Chain([Chord(\"4F 4A\", 2, gliss=True), Chord(\"4F 4Ab\", 3, gliss=\"4F# 4G-\")])\n",
    "ch2.show()\n",
    "ch2.play(instr='tri', fade=0.15, sustain=0.15)"
   ]
  },
  {
   "cell_type": "code",
   "execution_count": 3,
   "id": "e12c2014-3f60-45d3-98af-c1ffa5032ab9",
   "metadata": {},
   "outputs": [
    {
     "data": {
      "text/plain": [
       "[]"
      ]
     },
     "execution_count": 3,
     "metadata": {},
     "output_type": "execute_result"
    }
   ],
   "source": [
    "ch2.events()"
   ]
  },
  {
   "cell_type": "code",
   "execution_count": 27,
   "id": "8a7c2b3e-b18d-4fba-b2c8-978abede2399",
   "metadata": {},
   "outputs": [
    {
     "data": {
      "application/vnd.jupyter.widget-view+json": {
       "model_id": "e27a86a4f4a94d4fa975f3858c6045ba",
       "version_major": 2,
       "version_minor": 0
      },
      "text/plain": [
       "Button(description='Stop', style=ButtonStyle())"
      ]
     },
     "metadata": {},
     "output_type": "display_data"
    },
    {
     "data": {
      "application/vnd.jupyter.widget-view+json": {
       "model_id": "0e1f1ee0c6a64acc998dcd3aa7fcf7ca",
       "version_major": 2,
       "version_minor": 0
      },
      "text/plain": [
       "Output()"
      ]
     },
     "metadata": {},
     "output_type": "display_data"
    },
    {
     "data": {
      "text/html": [
       "<small>SynthGroup - start: 0.037, dur: 10.100, synths: 272</small>\n",
       "<p>instr: <strong style=\"color:MediumSeaGreen\">preset.piano</strong> - <b>272</b> synths</p>\n",
       "<table><thead><tr><th style=\"text-align:left\">p1</th><th style=\"text-align:left\">start</th><th style=\"text-align:left\">dur</th><th style=\"text-align:left\">4</th><th style=\"text-align:left\">5:idataidx_</th><th style=\"text-align:left\">6:inumbps</th><th style=\"text-align:left\">7:ibplen</th><th style=\"text-align:left\">8:igain_</th><th style=\"text-align:left\">9:ichan_</th><th style=\"text-align:left\">10:ipos</th><th style=\"text-align:left\">11:ifade0</th><th style=\"text-align:left\">12:ifade1</th><th style=\"text-align:left\">13:ipchintrp_</th><th style=\"text-align:left\">14:ifadekind_</th><th style=\"text-align:left\">15</th><th style=\"text-align:left\">16</th><th style=\"text-align:left\">...</th><th style=\"text-align:left\">17</th><th style=\"text-align:left\">...</th><th style=\"text-align:left\">18</th><th style=\"text-align:left\">...</th><th style=\"text-align:left\">19</th><th style=\"text-align:left\">...</th><th style=\"text-align:left\">20</th><th style=\"text-align:left\">...</th><th style=\"text-align:left\">21</th><th style=\"text-align:left\">...</th><th style=\"text-align:left\">22</th><th style=\"text-align:left\">...</th><th style=\"text-align:left\">23</th></tr></thead><tbody><tr><td style=\"text-align:left\">1005.0898 <b>𝍪</b></td><td style=\"text-align:left\">0.037</td><td style=\"text-align:left\">0.050</td><td style=\"text-align:left\">0</td><td style=\"text-align:left\">15</td><td style=\"text-align:left\">3</td><td style=\"text-align:left\">3</td><td style=\"text-align:left\">1</td><td style=\"text-align:left\">1</td><td style=\"text-align:left\">1</td><td style=\"text-align:left\">0.02</td><td style=\"text-align:left\">0.02</td><td style=\"text-align:left\">0</td><td style=\"text-align:left\">1</td><td style=\"text-align:left\">0</td><td style=\"text-align:left\">...</td></tr><tr><td style=\"text-align:left\">1005.0899 <b>𝍪</b></td><td style=\"text-align:left\">0.187</td><td style=\"text-align:left\">0.050</td><td style=\"text-align:left\">0</td><td style=\"text-align:left\">15</td><td style=\"text-align:left\">3</td><td style=\"text-align:left\">3</td><td style=\"text-align:left\">1</td><td style=\"text-align:left\">1</td><td style=\"text-align:left\">1</td><td style=\"text-align:left\">0.02</td><td style=\"text-align:left\">0.02</td><td style=\"text-align:left\">0</td><td style=\"text-align:left\">1</td><td style=\"text-align:left\">0</td><td style=\"text-align:left\">...</td></tr><tr><td style=\"text-align:left\">1005.09 <b>𝍪</b></td><td style=\"text-align:left\">0.337</td><td style=\"text-align:left\">0.050</td><td style=\"text-align:left\">0</td><td style=\"text-align:left\">15</td><td style=\"text-align:left\">3</td><td style=\"text-align:left\">3</td><td style=\"text-align:left\">1</td><td style=\"text-align:left\">1</td><td style=\"text-align:left\">1</td><td style=\"text-align:left\">0.02</td><td style=\"text-align:left\">0.02</td><td style=\"text-align:left\">0</td><td style=\"text-align:left\">1</td><td style=\"text-align:left\">0</td><td style=\"text-align:left\">...</td></tr><tr><td style=\"text-align:left\">1005.0901 <b>𝍪</b></td><td style=\"text-align:left\">0.487</td><td style=\"text-align:left\">0.050</td><td style=\"text-align:left\">0</td><td style=\"text-align:left\">15</td><td style=\"text-align:left\">3</td><td style=\"text-align:left\">3</td><td style=\"text-align:left\">1</td><td style=\"text-align:left\">1</td><td style=\"text-align:left\">1</td><td style=\"text-align:left\">0.02</td><td style=\"text-align:left\">0.02</td><td style=\"text-align:left\">0</td><td style=\"text-align:left\">1</td><td style=\"text-align:left\">0</td><td style=\"text-align:left\">...</td></tr><tr><td style=\"text-align:left\">...</td></tr></tbody></table>"
      ],
      "text/plain": [
       "<maelzel.core.playback.synched at 0x7f4088e8ccd0>"
      ]
     },
     "execution_count": 27,
     "metadata": {},
     "output_type": "execute_result"
    }
   ],
   "source": [
    "from maelzel.core import *\n",
    "session = playback.getPlaySession()\n",
    "session.defInstr('reverb', r'''\n",
    "|kfeedback=0.85|\n",
    "a1, a2 monitor\n",
    "aL, aR  reverbsc a1, a2, kfeedback, 12000, sr, 0.5, 1\n",
    "outch 1, aL - a1, 2, aR - a2 \n",
    "''')\n",
    "chain = Chain([Note(m, 0.15) for m in range(24, 92)])\n",
    "with synched() as p:\n",
    "    chain.play(position=1, instr='piano', sustain=-0.1)\n",
    "    chain.transpose(3).play(position=0, instr='piano', sustain=-0.1)\n",
    "    chain.transpose(7).play(position=1, instr='piano', sustain=-0.1)\n",
    "    chain.transpose(12).play(position=0, instr='piano', sustain=-0.1)\n",
    "    \n",
    "    \n",
    "    # p.sched('reverb', 0, dur=20, priority=2, pargs={'kfeedback':0.8})\n",
    "p"
   ]
  },
  {
   "cell_type": "code",
   "execution_count": 19,
   "id": "fa486f58-70c9-4360-ab35-63736bc86725",
   "metadata": {},
   "outputs": [
    {
     "data": {
      "application/vnd.jupyter.widget-view+json": {
       "model_id": "68bcc48cc1154586883e7d949edaf5cc",
       "version_major": 2,
       "version_minor": 0
      },
      "text/plain": [
       "Button(description='Stop Synths', style=ButtonStyle())"
      ]
     },
     "metadata": {},
     "output_type": "display_data"
    },
    {
     "data": {
      "application/vnd.jupyter.widget-view+json": {
       "model_id": "87e132ebcd574f558869933568f8fe35",
       "version_major": 2,
       "version_minor": 0
      },
      "text/plain": [
       "Output()"
      ]
     },
     "metadata": {},
     "output_type": "display_data"
    },
    {
     "data": {
      "text/html": [
       "Session(<strong style=\"color:MediumSeaGreen\">maelzel.core</strong>, synths=2)"
      ],
      "text/plain": [
       "Session(maelzel.core, synths=2)"
      ]
     },
     "execution_count": 19,
     "metadata": {},
     "output_type": "execute_result"
    }
   ],
   "source": [
    "session"
   ]
  },
  {
   "cell_type": "code",
   "execution_count": 9,
   "id": "9b4244ce-8c2c-4955-b4e6-75fcb0e56412",
   "metadata": {},
   "outputs": [
    {
     "data": {
      "application/vnd.jupyter.widget-view+json": {
       "model_id": "e15555521b2540acbbc7619df495680a",
       "version_major": 2,
       "version_minor": 0
      },
      "text/plain": [
       "Button(description='Stop', style=ButtonStyle())"
      ]
     },
     "metadata": {},
     "output_type": "display_data"
    },
    {
     "data": {
      "application/vnd.jupyter.widget-view+json": {
       "model_id": "889eec1e59a544d88ab267becb7fccc9",
       "version_major": 2,
       "version_minor": 0
      },
      "text/plain": [
       "Output()"
      ]
     },
     "metadata": {},
     "output_type": "display_data"
    },
    {
     "data": {
      "text/html": [
       "<small>SynthGroup - start: 0.130, dur: 10.000, synths: 5</small>\n",
       "<p>instr: <strong style=\"color:MediumSeaGreen\">preset._piano</strong> - <b>3</b> synths</p>\n",
       "<table><thead><tr><th style=\"text-align:left\">p1</th><th style=\"text-align:left\">start</th><th style=\"text-align:left\">dur</th><th style=\"text-align:left\">4</th><th style=\"text-align:left\">5:idataidx_</th><th style=\"text-align:left\">6:inumbps</th><th style=\"text-align:left\">7:ibplen</th><th style=\"text-align:left\">8:igain_</th><th style=\"text-align:left\">9:ichan_</th><th style=\"text-align:left\">10:ipos</th><th style=\"text-align:left\">11:ifade0</th><th style=\"text-align:left\">12:ifade1</th><th style=\"text-align:left\">13:ipchintrp_</th><th style=\"text-align:left\">14:ifadekind_</th><th style=\"text-align:left\">15</th><th style=\"text-align:left\">16</th><th style=\"text-align:left\">...</th><th style=\"text-align:left\">17</th><th style=\"text-align:left\">...</th><th style=\"text-align:left\">18</th><th style=\"text-align:left\">...</th><th style=\"text-align:left\">19</th><th style=\"text-align:left\">...</th><th style=\"text-align:left\">20</th></tr></thead><tbody><tr><td style=\"text-align:left\">1001.0018 <b>𝍪</b></td><td style=\"text-align:left\">1.130</td><td style=\"text-align:left\">7.000</td><td style=\"text-align:left\">0</td><td style=\"text-align:left\">15</td><td style=\"text-align:left\">2</td><td style=\"text-align:left\">3</td><td style=\"text-align:left\">0.70711</td><td style=\"text-align:left\">1</td><td style=\"text-align:left\">0.5</td><td style=\"text-align:left\">0.02</td><td style=\"text-align:left\">0.02</td><td style=\"text-align:left\">0</td><td style=\"text-align:left\">1</td><td style=\"text-align:left\">0</td><td style=\"text-align:left\">...</td></tr><tr><td style=\"text-align:left\">1001.0019 <b>𝍪</b></td><td style=\"text-align:left\">1.130</td><td style=\"text-align:left\">7.000</td><td style=\"text-align:left\">0</td><td style=\"text-align:left\">15</td><td style=\"text-align:left\">2</td><td style=\"text-align:left\">3</td><td style=\"text-align:left\">0.70711</td><td style=\"text-align:left\">1</td><td style=\"text-align:left\">0.5</td><td style=\"text-align:left\">0.02</td><td style=\"text-align:left\">0.02</td><td style=\"text-align:left\">0</td><td style=\"text-align:left\">1</td><td style=\"text-align:left\">0</td><td style=\"text-align:left\">...</td></tr><tr><td style=\"text-align:left\">1001.002 <b>𝍪</b></td><td style=\"text-align:left\">1.630</td><td style=\"text-align:left\">6.000</td><td style=\"text-align:left\">0</td><td style=\"text-align:left\">15</td><td style=\"text-align:left\">2</td><td style=\"text-align:left\">3</td><td style=\"text-align:left\">1</td><td style=\"text-align:left\">1</td><td style=\"text-align:left\">-1</td><td style=\"text-align:left\">0.02</td><td style=\"text-align:left\">0.02</td><td style=\"text-align:left\">0</td><td style=\"text-align:left\">1</td><td style=\"text-align:left\">0</td><td style=\"text-align:left\">...</td></tr></tbody></table>\n",
       "<p>instr: <strong style=\"color:MediumSeaGreen\">reverb</strong> - <b>1</b> synths</p>\n",
       "<table><thead><tr><th style=\"text-align:left\">p1</th><th style=\"text-align:left\">start</th><th style=\"text-align:left\">dur</th><th style=\"text-align:left\">4</th><th style=\"text-align:left\">5:kfeedback</th></tr></thead><tbody><tr><td style=\"text-align:left\">2001.0002 <b>𝍪</b></td><td style=\"text-align:left\">0.130</td><td style=\"text-align:left\">10.000</td><td style=\"text-align:left\">0</td><td style=\"text-align:left\">0.8</td></tr></tbody></table>\n",
       "<p>instr: <strong style=\"color:MediumSeaGreen\">sin</strong> - <b>1</b> synths</p>\n",
       "<table><thead><tr><th style=\"text-align:left\">p1</th><th style=\"text-align:left\">start</th><th style=\"text-align:left\">dur</th><th style=\"text-align:left\">4</th><th style=\"text-align:left\">5:imidi</th><th style=\"text-align:left\">6:iamp</th></tr></thead><tbody><tr><td style=\"text-align:left\">1002.0002 <b>𝍪</b></td><td style=\"text-align:left\">0.230</td><td style=\"text-align:left\">3.000</td><td style=\"text-align:left\">0</td><td style=\"text-align:left\">61.33</td><td style=\"text-align:left\">0.02</td></tr></tbody></table>"
      ],
      "text/plain": [
       "SynthGroup(n=5)\n",
       "    Synth(𝍪 preset._piano:1001.0018, p4=0 idataidx_:5=15 inumbps:6=2 ibplen:7=3 igain_:8=0.707107 ichan_:9=1 ipos:10=0.5 ifade0:11=0.02 ifade1:12=0.02 ipchintrp_:13=0 ifadekind_:14=1 p15=0 p16=60 ...)\n",
       "    Synth(𝍪 preset._piano:1001.0019, p4=0 idataidx_:5=15 inumbps:6=2 ibplen:7=3 igain_:8=0.707107 ichan_:9=1 ipos:10=0.5 ifade0:11=0.02 ifade1:12=0.02 ipchintrp_:13=0 ifadekind_:14=1 p15=0 p16=64 ...)\n",
       "    Synth(𝍪 preset._piano:1001.002, p4=0 idataidx_:5=15 inumbps:6=2 ibplen:7=3 igain_:8=1 ichan_:9=1 ipos:10=-1 ifade0:11=0.02 ifade1:12=0.02 ipchintrp_:13=0 ifadekind_:14=1 p15=0 p16=61 ...)\n",
       "    Synth(𝍪 reverb:2001.0002, p4=0 kfeedback:5=0.8)\n",
       "    Synth(𝍪 sin:1002.0002, p4=0 imidi:5=61.33 iamp:6=0.02)"
      ]
     },
     "execution_count": 9,
     "metadata": {},
     "output_type": "execute_result"
    }
   ],
   "source": [
    "from maelzel.core import *\n",
    "from csoundengine.session import SessionEvent\n",
    "import csoundengine as ce\n",
    "session = playSession()\n",
    "session.defInstr('reverb', r'''\n",
    "|kfeedback=0.85|\n",
    "a1, a2 monitor\n",
    "aL, aR  reverbsc a1, a2, kfeedback, 12000, sr, 0.5, 1\n",
    "outch 1, aL - a1, 2, aR - a2\n",
    "''')\n",
    "session.defInstr('sin', r'''\n",
    "|imidi=60, iamp=0.01|\n",
    "a1 oscili iamp, mtof(imidi)\n",
    "a1 *= linsegr(0, 0.5, 1, 2, 0)\n",
    "outch 1, a1\n",
    "''')\n",
    "play([\n",
    "    Chord(\"4C 4E\", 7, start=1).events(position=0.5),\n",
    "    Note(\"4C#\", 6, start=1.5),  # No customization,\n",
    "    SessionEvent('reverb', dur=10, pargs={'kfeedback': 0.8}, priority=2),\n",
    "    SessionEvent('sin', delay=0.1, dur=3, pargs={'imidi': 61.33, 'iamp':0.02})\n",
    "])\n"
   ]
  },
  {
   "cell_type": "code",
   "execution_count": 2,
   "id": "5049a6a8-3e6b-41b6-a35e-8f0248aff1cc",
   "metadata": {},
   "outputs": [
    {
     "data": {
      "application/vnd.jupyter.widget-view+json": {
       "model_id": "349005c305a640eeb0d8b355ec66bdef",
       "version_major": 2,
       "version_minor": 0
      },
      "text/plain": [
       "Button(description='Stop Synths', style=ButtonStyle())"
      ]
     },
     "metadata": {},
     "output_type": "display_data"
    },
    {
     "data": {
      "application/vnd.jupyter.widget-view+json": {
       "model_id": "f2391fd1c82342a9857b35e1b7a53cdb",
       "version_major": 2,
       "version_minor": 0
      },
      "text/plain": [
       "Output()"
      ]
     },
     "metadata": {},
     "output_type": "display_data"
    },
    {
     "data": {
      "text/html": [
       "Session(<strong style=\"color:MediumSeaGreen\">maelzel.core</strong>, synths=5)"
      ],
      "text/plain": [
       "Session(maelzel.core, synths=5)"
      ]
     },
     "execution_count": 2,
     "metadata": {},
     "output_type": "execute_result"
    }
   ],
   "source": [
    "playSession()"
   ]
  },
  {
   "cell_type": "code",
   "execution_count": 10,
   "id": "d33e9315-f12c-46d4-878a-fad8b3753eba",
   "metadata": {},
   "outputs": [
    {
     "data": {
      "image/png": "[encoded data removed]",
      "text/plain": [
       "<IPython.core.display.Image object>"
      ]
     },
     "metadata": {
      "image/png": {
       "width": 170
      }
     },
     "output_type": "display_data"
    },
    {
     "data": {
      "application/vnd.jupyter.widget-view+json": {
       "model_id": "5067b37f47964e289553897ba498dd01",
       "version_major": 2,
       "version_minor": 0
      },
      "text/plain": [
       "Button(description='Stop', style=ButtonStyle())"
      ]
     },
     "metadata": {},
     "output_type": "display_data"
    },
    {
     "data": {
      "application/vnd.jupyter.widget-view+json": {
       "model_id": "7a4f6f446dcd4564a8c18f2f0ca63efc",
       "version_major": 2,
       "version_minor": 0
      },
      "text/plain": [
       "Output()"
      ]
     },
     "metadata": {},
     "output_type": "display_data"
    },
    {
     "data": {
      "text/html": [
       "<small>SynthGroup - start: 0.057, dur: 3.500, synths: 3</small>\n",
       "<p>instr: <strong style=\"color:MediumSeaGreen\">preset.saw</strong> - <b>3</b> synths</p>\n",
       "<table><thead><tr><th style=\"text-align:left\">p1</th><th style=\"text-align:left\">start</th><th style=\"text-align:left\">dur</th><th style=\"text-align:left\">4</th><th style=\"text-align:left\">5:idataidx_</th><th style=\"text-align:left\">6:inumbps</th><th style=\"text-align:left\">7:ibplen</th><th style=\"text-align:left\">8:igain</th><th style=\"text-align:left\">9:ichan</th><th style=\"text-align:left\">10:ipos</th><th style=\"text-align:left\">11:ifadein</th><th style=\"text-align:left\">12:ifadeout</th><th style=\"text-align:left\">13:ipchintrp_</th><th style=\"text-align:left\">14:ifadekind</th><th style=\"text-align:left\">15:ktransp</th><th style=\"text-align:left\">16:klag</th><th style=\"text-align:left\">17:kfreqratio</th><th style=\"text-align:left\">18:kQ</th><th style=\"text-align:left\">19</th><th style=\"text-align:left\">20</th><th style=\"text-align:left\">21</th><th style=\"text-align:left\">22</th><th style=\"text-align:left\">...</th></tr></thead><tbody><tr><td style=\"text-align:left\">502.0005 <b>𝍪</b></td><td style=\"text-align:left\">0.057</td><td style=\"text-align:left\">2.500</td><td style=\"text-align:left\">0</td><td style=\"text-align:left\">19</td><td style=\"text-align:left\">4</td><td style=\"text-align:left\">3</td><td style=\"text-align:left\">0.01</td><td style=\"text-align:left\">1</td><td style=\"text-align:left\">0.5</td><td style=\"text-align:left\">0.02</td><td style=\"text-align:left\">0.02</td><td style=\"text-align:left\">0</td><td style=\"text-align:left\">1</td><td style=\"text-align:left\">0</td><td style=\"text-align:left\">0.1</td><td style=\"text-align:left\">0</td><td style=\"text-align:left\">3</td><td style=\"text-align:left\">0</td><td style=\"text-align:left\">60</td><td style=\"text-align:left\">0.51518</td><td style=\"text-align:left\">...</td></tr><tr><td style=\"text-align:left\">502.0006 <b>𝍪</b></td><td style=\"text-align:left\">2.557</td><td style=\"text-align:left\">1.000</td><td style=\"text-align:left\">0</td><td style=\"text-align:left\">19</td><td style=\"text-align:left\">2</td><td style=\"text-align:left\">3</td><td style=\"text-align:left\">0.0070711</td><td style=\"text-align:left\">1</td><td style=\"text-align:left\">0.5</td><td style=\"text-align:left\">0.02</td><td style=\"text-align:left\">0.02</td><td style=\"text-align:left\">0</td><td style=\"text-align:left\">1</td><td style=\"text-align:left\">0</td><td style=\"text-align:left\">0.1</td><td style=\"text-align:left\">0</td><td style=\"text-align:left\">3</td><td style=\"text-align:left\">0</td><td style=\"text-align:left\">62</td><td style=\"text-align:left\">0.51518</td><td style=\"text-align:left\">...</td></tr><tr><td style=\"text-align:left\">502.0007 <b>𝍪</b></td><td style=\"text-align:left\">2.557</td><td style=\"text-align:left\">1.000</td><td style=\"text-align:left\">0</td><td style=\"text-align:left\">19</td><td style=\"text-align:left\">2</td><td style=\"text-align:left\">3</td><td style=\"text-align:left\">0.0070711</td><td style=\"text-align:left\">1</td><td style=\"text-align:left\">0.5</td><td style=\"text-align:left\">0.02</td><td style=\"text-align:left\">0.02</td><td style=\"text-align:left\">0</td><td style=\"text-align:left\">1</td><td style=\"text-align:left\">0</td><td style=\"text-align:left\">0.1</td><td style=\"text-align:left\">0</td><td style=\"text-align:left\">3</td><td style=\"text-align:left\">0</td><td style=\"text-align:left\">65</td><td style=\"text-align:left\">0.51518</td><td style=\"text-align:left\">...</td></tr></tbody></table>"
      ],
      "text/plain": [
       "SynthGroup(n=3)\n",
       "    Synth(𝍪 preset.saw:502.0005, p4=0 idataidx_:5=19 inumbps:6=4 ibplen:7=3 igain:8=0.01 ichan:9=1 ipos:10=0.5 ifadein:11=0.02 ifadeout:12=0.02 ipchintrp_:13=0 ifadekind:14=1 ktransp:15=0 klag:16=0.1 kfreqratio:17=0 kQ:18=3 p19=0 p20=60 p21=0.515178 p22=0.5 ...)\n",
       "    Synth(𝍪 preset.saw:502.0006, p4=0 idataidx_:5=19 inumbps:6=2 ibplen:7=3 igain:8=0.00707107 ichan:9=1 ipos:10=0.5 ifadein:11=0.02 ifadeout:12=0.02 ipchintrp_:13=0 ifadekind:14=1 ktransp:15=0 klag:16=0.1 kfreqratio:17=0 kQ:18=3 p19=0 p20=62 p21=0.515178 p22=1 ...)\n",
       "    Synth(𝍪 preset.saw:502.0007, p4=0 idataidx_:5=19 inumbps:6=2 ibplen:7=3 igain:8=0.00707107 ichan:9=1 ipos:10=0.5 ifadein:11=0.02 ifadeout:12=0.02 ipchintrp_:13=0 ifadekind:14=1 ktransp:15=0 klag:16=0.1 kfreqratio:17=0 kQ:18=3 p19=0 p20=65 p21=0.515178 p22=1 ...)"
      ]
     },
     "execution_count": 10,
     "metadata": {},
     "output_type": "execute_result"
    }
   ],
   "source": [
    "from maelzel.core import *\n",
    "ch = Chain([\n",
    "    Note(60, dur=0.5, gliss=True),\n",
    "    Note(65, 1, gliss=True),\n",
    "    Note(63, 1, gliss=67),\n",
    "    Chord(\"4D 4F\", 1)\n",
    "])\n",
    "ch.show()\n",
    "ch.play(instr='saw', gain=0.01, position=0.5)"
   ]
  },
  {
   "cell_type": "code",
   "execution_count": 21,
   "id": "4faa7b4c-9852-4375-b445-2ef21ba2976b",
   "metadata": {},
   "outputs": [
    {
     "data": {
      "image/png": "[encoded data removed]",
      "text/plain": [
       "<IPython.core.display.Image object>"
      ]
     },
     "metadata": {
      "image/png": {
       "width": 247
      }
     },
     "output_type": "display_data"
    },
    {
     "data": {
      "application/vnd.jupyter.widget-view+json": {
       "model_id": "ceda9735028d4f75a9493cf32c87a28b",
       "version_major": 2,
       "version_minor": 0
      },
      "text/plain": [
       "Button(description='Stop', style=ButtonStyle())"
      ]
     },
     "metadata": {},
     "output_type": "display_data"
    },
    {
     "data": {
      "application/vnd.jupyter.widget-view+json": {
       "model_id": "af5b96717745439a89b7e2be376ed84b",
       "version_major": 2,
       "version_minor": 0
      },
      "text/plain": [
       "Output()"
      ]
     },
     "metadata": {},
     "output_type": "display_data"
    },
    {
     "data": {
      "text/html": [
       "<small>SynthGroup - start: 0.061, dur: 3.500, synths: 3</small>\n",
       "<p>instr: <strong style=\"color:MediumSeaGreen\">preset.saw</strong> - <b>3</b> synths</p>\n",
       "<table><thead><tr><th style=\"text-align:left\">p1</th><th style=\"text-align:left\">start</th><th style=\"text-align:left\">dur</th><th style=\"text-align:left\">4</th><th style=\"text-align:left\">5:idataidx_</th><th style=\"text-align:left\">6:inumbps</th><th style=\"text-align:left\">7:ibplen</th><th style=\"text-align:left\">8:igain_</th><th style=\"text-align:left\">9:ichan_</th><th style=\"text-align:left\">10:ipos</th><th style=\"text-align:left\">11:ifade0</th><th style=\"text-align:left\">12:ifade1</th><th style=\"text-align:left\">13:ipchintrp_</th><th style=\"text-align:left\">14:ifadekind_</th><th style=\"text-align:left\">15:ktransp</th><th style=\"text-align:left\">16:klag</th><th style=\"text-align:left\">17:kfreqratio</th><th style=\"text-align:left\">18:kQ</th><th style=\"text-align:left\">19</th><th style=\"text-align:left\">20</th><th style=\"text-align:left\">21</th><th style=\"text-align:left\">22</th><th style=\"text-align:left\">...</th><th style=\"text-align:left\">23</th><th style=\"text-align:left\">...</th><th style=\"text-align:left\">24</th><th style=\"text-align:left\">...</th><th style=\"text-align:left\">25</th><th style=\"text-align:left\">...</th><th style=\"text-align:left\">26</th><th style=\"text-align:left\">...</th><th style=\"text-align:left\">27</th><th style=\"text-align:left\">...</th><th style=\"text-align:left\">28</th><th style=\"text-align:left\">...</th><th style=\"text-align:left\">29</th><th style=\"text-align:left\">...</th><th style=\"text-align:left\">30</th><th style=\"text-align:left\">...</th><th style=\"text-align:left\">31</th><th style=\"text-align:left\">...</th><th style=\"text-align:left\">32</th><th style=\"text-align:left\">...</th><th style=\"text-align:left\">33</th></tr></thead><tbody><tr><td style=\"text-align:left\">1001.0062 <b>𝍪</b></td><td style=\"text-align:left\">0.061</td><td style=\"text-align:left\">2.500</td><td style=\"text-align:left\">0</td><td style=\"text-align:left\">19</td><td style=\"text-align:left\">5</td><td style=\"text-align:left\">3</td><td style=\"text-align:left\">0.1</td><td style=\"text-align:left\">1</td><td style=\"text-align:left\">0.5</td><td style=\"text-align:left\">0.02</td><td style=\"text-align:left\">0.02</td><td style=\"text-align:left\">0</td><td style=\"text-align:left\">1</td><td style=\"text-align:left\">0</td><td style=\"text-align:left\">0.1</td><td style=\"text-align:left\">0</td><td style=\"text-align:left\">3</td><td style=\"text-align:left\">0</td><td style=\"text-align:left\">60</td><td style=\"text-align:left\">0.51518</td><td style=\"text-align:left\">...</td></tr><tr><td style=\"text-align:left\">1001.0063 <b>𝍪</b></td><td style=\"text-align:left\">2.561</td><td style=\"text-align:left\">1.000</td><td style=\"text-align:left\">0</td><td style=\"text-align:left\">19</td><td style=\"text-align:left\">2</td><td style=\"text-align:left\">3</td><td style=\"text-align:left\">0.070711</td><td style=\"text-align:left\">1</td><td style=\"text-align:left\">0.5</td><td style=\"text-align:left\">0.02</td><td style=\"text-align:left\">0.02</td><td style=\"text-align:left\">0</td><td style=\"text-align:left\">1</td><td style=\"text-align:left\">0</td><td style=\"text-align:left\">0.1</td><td style=\"text-align:left\">0</td><td style=\"text-align:left\">3</td><td style=\"text-align:left\">0</td><td style=\"text-align:left\">62</td><td style=\"text-align:left\">0.51518</td><td style=\"text-align:left\">...</td></tr><tr><td style=\"text-align:left\">1001.0064 <b>𝍪</b></td><td style=\"text-align:left\">2.561</td><td style=\"text-align:left\">1.000</td><td style=\"text-align:left\">0</td><td style=\"text-align:left\">19</td><td style=\"text-align:left\">2</td><td style=\"text-align:left\">3</td><td style=\"text-align:left\">0.070711</td><td style=\"text-align:left\">1</td><td style=\"text-align:left\">0.5</td><td style=\"text-align:left\">0.02</td><td style=\"text-align:left\">0.02</td><td style=\"text-align:left\">0</td><td style=\"text-align:left\">1</td><td style=\"text-align:left\">0</td><td style=\"text-align:left\">0.1</td><td style=\"text-align:left\">0</td><td style=\"text-align:left\">3</td><td style=\"text-align:left\">0</td><td style=\"text-align:left\">65</td><td style=\"text-align:left\">0.51518</td><td style=\"text-align:left\">...</td></tr></tbody></table>"
      ],
      "text/plain": [
       "SynthGroup(n=3)\n",
       "    Synth(𝍪 preset.saw:1001.0062, p4=0 idataidx_:5=19 inumbps:6=5 ibplen:7=3 igain_:8=0.1 ichan_:9=1 ipos:10=0.5 ifade0:11=0.02 ifade1:12=0.02 ipchintrp_:13=0 ifadekind_:14=1 ktransp:15=0 klag:16=0.1 kfreqratio:17=0 kQ:18=3 p19=0 p20=60 p21=0.515178 p22=0.428571 ...)\n",
       "    Synth(𝍪 preset.saw:1001.0063, p4=0 idataidx_:5=19 inumbps:6=2 ibplen:7=3 igain_:8=0.0707107 ichan_:9=1 ipos:10=0.5 ifade0:11=0.02 ifade1:12=0.02 ipchintrp_:13=0 ifadekind_:14=1 ktransp:15=0 klag:16=0.1 kfreqratio:17=0 kQ:18=3 p19=0 p20=62 p21=0.515178 p22=1 ...)\n",
       "    Synth(𝍪 preset.saw:1001.0064, p4=0 idataidx_:5=19 inumbps:6=2 ibplen:7=3 igain_:8=0.0707107 ichan_:9=1 ipos:10=0.5 ifade0:11=0.02 ifade1:12=0.02 ipchintrp_:13=0 ifadekind_:14=1 ktransp:15=0 klag:16=0.1 kfreqratio:17=0 kQ:18=3 p19=0 p20=65 p21=0.515178 p22=1 ...)"
      ]
     },
     "execution_count": 21,
     "metadata": {},
     "output_type": "execute_result"
    }
   ],
   "source": [
    "from maelzel.core import *\n",
    "ch = Chain([\n",
    "    Note(60, dur=0.5, gliss=True),\n",
    "    Note(67, dur=0, gliss=True),\n",
    "    Note(65, 1, gliss=True),\n",
    "    Note(63, 1, gliss=67),\n",
    "    Chord(\"4D 4F\", 1)\n",
    "])\n",
    "ch.show()\n",
    "ch.play(instr='saw', gain=0.1, position=0.5)"
   ]
  },
  {
   "cell_type": "code",
   "execution_count": 23,
   "id": "ab053866-5d21-46f6-bc5f-3da1fc269241",
   "metadata": {},
   "outputs": [
    {
     "data": {
      "image/png": "[encoded data removed]",
      "text/plain": [
       "<IPython.core.display.Image object>"
      ]
     },
     "metadata": {
      "image/png": {
       "width": 210
      }
     },
     "output_type": "display_data"
    },
    {
     "data": {
      "text/plain": [
       "[SynthEvent(delay=0, dur=1.5, gain=1, chan=1, fade=(0.02, 0.02), instr=_piano)\n",
       " bps 0.000s: 60 0.515178\n",
       "     0.500s: 65 0.515178\n",
       "     1.500s: True 0.515178,\n",
       " SynthEvent(delay=1.5, dur=1, gain=0.7071, chan=1, fade=(0.02, 0.02), instr=_piano)\n",
       " bps 0.000s: 62       0.515178\n",
       "     1.000s: 62       0.515178,\n",
       " SynthEvent(delay=1.5, dur=1, gain=0.7071, chan=1, fade=(0.02, 0.02), instr=_piano)\n",
       " bps 0.000s: 65       0.515178\n",
       "     1.000s: 65       0.515178]"
      ]
     },
     "execution_count": 23,
     "metadata": {},
     "output_type": "execute_result"
    }
   ],
   "source": [
    "from maelzel.core import *\n",
    "ch = Chain([\n",
    "    Note(60, dur=0.5, gliss=True),\n",
    "    Note(65, 1, gliss=True),\n",
    "    Chord(\"4D 4F\", 1)\n",
    "])\n",
    "ch.show()\n",
    "# ch.events()\n",
    "#ch.play(instr='saw', gain=0.1, position=0.5)"
   ]
  },
  {
   "cell_type": "code",
   "execution_count": 28,
   "id": "565deea4-a362-4a14-b072-4f64e4398c76",
   "metadata": {},
   "outputs": [
    {
     "data": {
      "image/png": "[encoded data removed]",
      "text/plain": [
       "<IPython.core.display.Image object>"
      ]
     },
     "metadata": {
      "image/png": {
       "width": 216
      }
     },
     "output_type": "display_data"
    },
    {
     "data": {
      "application/vnd.jupyter.widget-view+json": {
       "model_id": "0b5217f6672b4dc69e9f7ce2965cebf3",
       "version_major": 2,
       "version_minor": 0
      },
      "text/plain": [
       "Button(description='Stop', style=ButtonStyle())"
      ]
     },
     "metadata": {},
     "output_type": "display_data"
    },
    {
     "data": {
      "application/vnd.jupyter.widget-view+json": {
       "model_id": "b93816c770034bd3873a0d6b4e817b99",
       "version_major": 2,
       "version_minor": 0
      },
      "text/plain": [
       "Output()"
      ]
     },
     "metadata": {},
     "output_type": "display_data"
    },
    {
     "data": {
      "text/html": [
       "<small>SynthGroup - start: 0.130, dur: 2.500, synths: 1</small>\n",
       "<p>instr: <strong style=\"color:MediumSeaGreen\">preset.saw</strong> - <b>1</b> synths</p>\n",
       "<table><thead><tr><th style=\"text-align:left\">p1</th><th style=\"text-align:left\">start</th><th style=\"text-align:left\">dur</th><th style=\"text-align:left\">4</th><th style=\"text-align:left\">5:idataidx_</th><th style=\"text-align:left\">6:inumbps</th><th style=\"text-align:left\">7:ibplen</th><th style=\"text-align:left\">8:igain_</th><th style=\"text-align:left\">9:ichan_</th><th style=\"text-align:left\">10:ipos</th><th style=\"text-align:left\">11:ifade0</th><th style=\"text-align:left\">12:ifade1</th><th style=\"text-align:left\">13:ipchintrp_</th><th style=\"text-align:left\">14:ifadekind_</th><th style=\"text-align:left\">15:ktransp</th><th style=\"text-align:left\">16:klag</th><th style=\"text-align:left\">17:kfreqratio</th><th style=\"text-align:left\">18:kQ</th><th style=\"text-align:left\">19</th><th style=\"text-align:left\">20</th><th style=\"text-align:left\">21</th><th style=\"text-align:left\">22</th><th style=\"text-align:left\">...</th><th style=\"text-align:left\">23</th><th style=\"text-align:left\">...</th><th style=\"text-align:left\">24</th><th style=\"text-align:left\">...</th><th style=\"text-align:left\">25</th><th style=\"text-align:left\">...</th><th style=\"text-align:left\">26</th><th style=\"text-align:left\">...</th><th style=\"text-align:left\">27</th><th style=\"text-align:left\">...</th><th style=\"text-align:left\">28</th><th style=\"text-align:left\">...</th><th style=\"text-align:left\">29</th><th style=\"text-align:left\">...</th><th style=\"text-align:left\">30</th></tr></thead><tbody><tr><td style=\"text-align:left\">1001.0068 <b>𝍪</b></td><td style=\"text-align:left\">0.130</td><td style=\"text-align:left\">2.500</td><td style=\"text-align:left\">0</td><td style=\"text-align:left\">19</td><td style=\"text-align:left\">4</td><td style=\"text-align:left\">3</td><td style=\"text-align:left\">0.1</td><td style=\"text-align:left\">1</td><td style=\"text-align:left\">-1</td><td style=\"text-align:left\">0.02</td><td style=\"text-align:left\">0.02</td><td style=\"text-align:left\">0</td><td style=\"text-align:left\">1</td><td style=\"text-align:left\">0</td><td style=\"text-align:left\">0.1</td><td style=\"text-align:left\">0</td><td style=\"text-align:left\">3</td><td style=\"text-align:left\">0</td><td style=\"text-align:left\">60</td><td style=\"text-align:left\">0.51518</td><td style=\"text-align:left\">...</td></tr></tbody></table>"
      ],
      "text/plain": [
       "SynthGroup(n=1)\n",
       "    Synth(𝍪 preset.saw:1001.0068, p4=0 idataidx_:5=19 inumbps:6=4 ibplen:7=3 igain_:8=0.1 ichan_:9=1 ipos:10=-1 ifade0:11=0.02 ifade1:12=0.02 ipchintrp_:13=0 ifadekind_:14=1 ktransp:15=0 klag:16=0.1 kfreqratio:17=0 kQ:18=3 p19=0 p20=60 p21=0.515178 p22=0.5 ...)"
      ]
     },
     "execution_count": 28,
     "metadata": {},
     "output_type": "execute_result"
    }
   ],
   "source": [
    "from maelzel.core import *\n",
    "ch = Chain([\n",
    "    Note(60, dur=0.5, gliss=True),\n",
    "    Note(65, 1, tied=True),\n",
    "    Note(65, 1, gliss=67)\n",
    "])\n",
    "ch.show()\n",
    "ch.play(instr='saw', gain=0.1)\n",
    "# ch.events()\n",
    "#ch.play(instr='saw', gain=0.1, position=0.5)"
   ]
  },
  {
   "cell_type": "code",
   "execution_count": 3,
   "id": "e5a5492a-9181-4457-a2a8-eb76ca9c1202",
   "metadata": {},
   "outputs": [
    {
     "name": "stdout",
     "output_type": "stream",
     "text": [
      "creating note 4D tied=True\n",
      "creating note 4D tied=False\n"
     ]
    },
    {
     "data": {
      "image/png": "[encoded data removed]",
      "text/plain": [
       "<IPython.core.display.Image object>"
      ]
     },
     "metadata": {
      "image/png": {
       "width": 209
      }
     },
     "output_type": "display_data"
    },
    {
     "data": {
      "text/plain": [
       "[«0.000:1.000 tiedNext 4D», «1.000:1.500 tiedPrev 4D mf articulation=accent»]"
      ]
     },
     "execution_count": 3,
     "metadata": {},
     "output_type": "execute_result"
    }
   ],
   "source": [
    "from maelzel.core import *\n",
    "ch = Chain([\n",
    "    Note(\"4D\", 1, tied=True),\n",
    "    Note(\"4D\", 0.5, dynamic='mf').setSymbol('articulation', 'accent')\n",
    "    # Chord(\"4D 4F\", 1)\n",
    "])\n",
    "ch.show()\n",
    "ch.scoringEvents()\n",
    "# ch.events()\n",
    "#ch.play(instr='saw', gain=0.1, position=0.5)"
   ]
  },
  {
   "cell_type": "code",
   "execution_count": 11,
   "id": "44955609-c294-4e28-856d-66368c552ee4",
   "metadata": {},
   "outputs": [
    {
     "name": "stderr",
     "output_type": "stream",
     "text": [
      "DEBUG:maelzel.core:rendering parts with backend: lilypond\n"
     ]
    },
    {
     "name": "stdout",
     "output_type": "stream",
     "text": [
      "['4D', '4F'] [['4D', '4F']] ['4D', '4F']\n",
      ".... «1.000:2.500 [4D 4F] tiedPrev» 4F\n"
     ]
    },
    {
     "data": {
      "image/png": "[encoded data removed]",
      "text/plain": [
       "<IPython.core.display.Image object>"
      ]
     },
     "metadata": {
      "image/png": {
       "width": 139
      }
     },
     "output_type": "display_data"
    },
    {
     "name": "stdout",
     "output_type": "stream",
     "text": [
      "[SynthEvent(delay=0, dur=2.5, gain=1, chan=1, fade=(0.02, 0.02), instr=_piano)\n",
      "bps 0.000s: 62       0.515178\n",
      "    1.000s: 62       0.515178\n",
      "    2.500s: 62       0.515178\n",
      ", SynthEvent(delay=1, dur=1.5, gain=1, chan=1, fade=(0.02, 0.02), instr=_piano)\n",
      "bps 0.000s: 65       0.515178\n",
      "    1.500s: 65       0.515178\n",
      "]\n"
     ]
    },
    {
     "data": {
      "application/vnd.jupyter.widget-view+json": {
       "model_id": "9e47c06fb9a5477baae975d6406427a3",
       "version_major": 2,
       "version_minor": 0
      },
      "text/plain": [
       "Button(description='Stop', style=ButtonStyle())"
      ]
     },
     "metadata": {},
     "output_type": "display_data"
    },
    {
     "data": {
      "application/vnd.jupyter.widget-view+json": {
       "model_id": "dcb0708d144f4d93a15d21c63a69bdae",
       "version_major": 2,
       "version_minor": 0
      },
      "text/plain": [
       "Output()"
      ]
     },
     "metadata": {},
     "output_type": "display_data"
    },
    {
     "data": {
      "text/html": [
       "<small>SynthGroup - start: 0.063, dur: 2.500, synths: 2</small>\n",
       "<p>instr: <strong style=\"color:MediumSeaGreen\">preset._piano</strong> - <b>2</b> synths</p>\n",
       "<table><thead><tr><th style=\"text-align:left\">p1</th><th style=\"text-align:left\">start</th><th style=\"text-align:left\">dur</th><th style=\"text-align:left\">4</th><th style=\"text-align:left\">5:idataidx_</th><th style=\"text-align:left\">6:inumbps</th><th style=\"text-align:left\">7:ibplen</th><th style=\"text-align:left\">8:igain</th><th style=\"text-align:left\">9:ichan</th><th style=\"text-align:left\">10:ipos</th><th style=\"text-align:left\">11:ifadein</th><th style=\"text-align:left\">12:ifadeout</th><th style=\"text-align:left\">13:ipchintrp_</th><th style=\"text-align:left\">14:ifadekind</th><th style=\"text-align:left\">15</th><th style=\"text-align:left\">16</th><th style=\"text-align:left\">...</th></tr></thead><tbody><tr><td style=\"text-align:left\">501.0003 <b>𝍪</b></td><td style=\"text-align:left\">0.063</td><td style=\"text-align:left\">2.500</td><td style=\"text-align:left\">0</td><td style=\"text-align:left\">15</td><td style=\"text-align:left\">3</td><td style=\"text-align:left\">3</td><td style=\"text-align:left\">1</td><td style=\"text-align:left\">1</td><td style=\"text-align:left\">-1</td><td style=\"text-align:left\">0.02</td><td style=\"text-align:left\">0.02</td><td style=\"text-align:left\">0</td><td style=\"text-align:left\">1</td><td style=\"text-align:left\">0</td><td style=\"text-align:left\">...</td></tr><tr><td style=\"text-align:left\">501.0004 <b>𝍪</b></td><td style=\"text-align:left\">1.063</td><td style=\"text-align:left\">1.500</td><td style=\"text-align:left\">0</td><td style=\"text-align:left\">15</td><td style=\"text-align:left\">2</td><td style=\"text-align:left\">3</td><td style=\"text-align:left\">1</td><td style=\"text-align:left\">1</td><td style=\"text-align:left\">-1</td><td style=\"text-align:left\">0.02</td><td style=\"text-align:left\">0.02</td><td style=\"text-align:left\">0</td><td style=\"text-align:left\">1</td><td style=\"text-align:left\">0</td><td style=\"text-align:left\">...</td></tr></tbody></table>"
      ],
      "text/plain": [
       "SynthGroup(n=2)\n",
       "    Synth(𝍪 preset._piano:501.0003, p4=0 idataidx_:5=15 inumbps:6=3 ibplen:7=3 igain:8=1 ichan:9=1 ipos:10=-1 ifadein:11=0.02 ifadeout:12=0.02 ipchintrp_:13=0 ifadekind:14=1 p15=0 p16=62 ...)\n",
       "    Synth(𝍪 preset._piano:501.0004, p4=0 idataidx_:5=15 inumbps:6=2 ibplen:7=3 igain:8=1 ichan:9=1 ipos:10=-1 ifadein:11=0.02 ifadeout:12=0.02 ipchintrp_:13=0 ifadekind:14=1 p15=0 p16=65 ...)"
      ]
     },
     "execution_count": 11,
     "metadata": {},
     "output_type": "execute_result"
    }
   ],
   "source": [
    "from maelzel.core import *\n",
    "ch = Chain([\n",
    "    Note(\"4D\", 1, tied=True),\n",
    "    Chord(\"4D 4F\", 1.5),\n",
    "    # Chord(\"4D 4F\", 1)\n",
    "])\n",
    "ch.show()\n",
    "print(ch.events())\n",
    "ch.play()\n",
    "# ch.events()\n",
    "#ch.play(instr='saw', gain=0.1, position=0.5)"
   ]
  },
  {
   "cell_type": "code",
   "execution_count": 1,
   "id": "ae56a2ec-8ea9-4b37-a525-5e1deb53d652",
   "metadata": {},
   "outputs": [
    {
     "name": "stdout",
     "output_type": "stream",
     "text": [
      "csoundengine.magic extension loaded\n",
      "Magics available: %csound, %%csound, %%definstr\n"
     ]
    },
    {
     "data": {
      "image/png": "[encoded data removed]",
      "text/plain": [
       "<IPython.core.display.Image object>"
      ]
     },
     "metadata": {
      "image/png": {
       "width": 241
      }
     },
     "output_type": "display_data"
    },
    {
     "data": {
      "text/plain": [
       "[«0.000:0.333 tiedNext [4D 4F]», «0.333:1.833 tiedPrev [4D 4F] mf»]"
      ]
     },
     "execution_count": 1,
     "metadata": {},
     "output_type": "execute_result"
    }
   ],
   "source": [
    "from maelzel.core import *\n",
    "ch = Chain([\n",
    "    Chord(\"4D 4F\", 1/3, tied=True),\n",
    "    Chord(\"4D 4F\", 1.5, dynamic='mf'),\n",
    "    # Chord(\"4D 4F\", 1)\n",
    "])\n",
    "ch.show()\n",
    "ch.scoringEvents()\n",
    "#print(ch.events())\n",
    "#ch.play()"
   ]
  },
  {
   "cell_type": "code",
   "execution_count": 1,
   "id": "c83d9ad2-8119-403e-8a37-07d80148aa2a",
   "metadata": {},
   "outputs": [
    {
     "name": "stdout",
     "output_type": "stream",
     "text": [
      "csoundengine.magic extension loaded\n",
      "Magics available: %csound, %%csound, %%definstr\n"
     ]
    }
   ],
   "source": [
    "from maelzel.core import *\n",
    "from maelzel.core import _musicobjtools\n",
    "\n",
    "ch = Chain([\n",
    "    Chord(\"4D 4F\", 1, gliss=True),\n",
    "    Chord(\"4F 4Ab\", 1.5, dynamic='mf'),\n",
    "    # Chord(\"4D 4F\", 1)\n",
    "])\n",
    "\n",
    "ch.play()\n",
    "ch.events()"
   ]
  },
  {
   "cell_type": "code",
   "execution_count": 6,
   "id": "a18443f3-44fa-461a-8057-fb8a95078170",
   "metadata": {},
   "outputs": [
    {
     "data": {
      "image/png": "[encoded data removed]",
      "text/plain": [
       "<IPython.core.display.Image object>"
      ]
     },
     "metadata": {
      "image/png": {
       "width": 313
      }
     },
     "output_type": "display_data"
    },
    {
     "name": "stdout",
     "output_type": "stream",
     "text": [
      "playargs:  PlayArgs(instr=saw, gain=0.05, params={'kfreqratio': 10}, delay=0.0, fade=0.02, pitchinterpol=linear, priority=1, position=-1, sustain=0, chan=1, fadeshape=cos)\n",
      "playargs:  PlayArgs(instr=saw, gain=0.05, params={'kfreqratio': 10}, delay=0.0, fade=0.02, pitchinterpol=linear, priority=1, position=-1, sustain=0, chan=1, fadeshape=cos)\n",
      "playargs:  PlayArgs(fade=0.5, instr=saw, gain=0.05, params={'kfreqratio': 10}, delay=0.0, pitchinterpol=linear, priority=1, position=-1, sustain=0, chan=1, fadeshape=cos)\n",
      "playargs:  PlayArgs(fade=0.5, instr=saw, gain=0.05, params={'kfreqratio': 10}, delay=0.0, pitchinterpol=linear, priority=1, position=-1, sustain=0, chan=1, fadeshape=cos)\n"
     ]
    },
    {
     "data": {
      "text/plain": [
       "[SynthEvent(delay=0, dur=4.5, gain=0.05, chan=1, fade=(0.5, 0.5), instr=saw, namedArgs={'kfreqratio': 10})\n",
       " bps 0.000s: 62       0.515178\n",
       "     2.000s: 62       0.515178\n",
       "     3.000s: 65       0.515178\n",
       "     4.500s: 65       0.515178,\n",
       " SynthEvent(delay=0, dur=4.5, gain=0.05, chan=1, fade=(0.5, 0.5), instr=saw, namedArgs={'kfreqratio': 10})\n",
       " bps 0.000s: 65       0.515178\n",
       "     2.000s: 65       0.515178\n",
       "     3.000s: 68       0.515178\n",
       "     4.500s: 68       0.515178]"
      ]
     },
     "execution_count": 6,
     "metadata": {},
     "output_type": "execute_result"
    }
   ],
   "source": [
    "from maelzel.core import *\n",
    "from maelzel.core import _musicobjtools\n",
    "\n",
    "ch = Chain([\n",
    "    Chord(\"4D 4F\", 2, tied=True, dynamic='p').setSymbol('articulation', 'tenuto'),\n",
    "    Chord(\"4D 4F\", 1, gliss=True),\n",
    "    Chord(\"4F 4Ab\", 1.5, dynamic='mf').setSymbol('articulation', 'accent'),\n",
    "    # Chord(\"4D 4F\", 1)\n",
    "])\n",
    "ch.show()\n",
    "# ch[0][0].setPlay(instr='sin')\n",
    "ch.setPlay(instr='saw', gain=0.05, params={'kfreqratio': 10})\n",
    "\n",
    "ch.play()\n",
    "ch.events(fade=0.5)"
   ]
  },
  {
   "cell_type": "code",
   "execution_count": 8,
   "id": "60264660-a7c5-4c7f-ad28-b850e5796653",
   "metadata": {},
   "outputs": [
    {
     "data": {
      "text/plain": [
       "[«0.000:2.000 tiedNext [4D 4F] p»,\n",
       " «2.000:3.000 tiedPrev [4D 4F] gliss»,\n",
       " «3.000:4.500 [4F 4G#] mf»]"
      ]
     },
     "execution_count": 8,
     "metadata": {},
     "output_type": "execute_result"
    }
   ],
   "source": [
    "ch.scoringEvents()"
   ]
  },
  {
   "cell_type": "code",
   "execution_count": null,
   "id": "68373978-0627-4bce-bfdb-98c77c454e21",
   "metadata": {},
   "outputs": [],
   "source": []
  }
 ],
 "metadata": {
  "kernelspec": {
   "display_name": "Python 3 (ipykernel)",
   "language": "python",
   "name": "python3"
  },
  "language_info": {
   "codemirror_mode": {
    "name": "ipython",
    "version": 3
   },
   "file_extension": ".py",
   "mimetype": "text/x-python",
   "name": "python",
   "nbconvert_exporter": "python",
   "pygments_lexer": "ipython3",
   "version": "3.9.15"
  }
 },
 "nbformat": 4,
 "nbformat_minor": 5
}
