{
 "cells": [
  {
   "cell_type": "code",
   "execution_count": 1,
   "id": "b8ed0017-1fb1-4933-b90b-161d8c7fad6e",
   "metadata": {},
   "outputs": [],
   "source": [
    "from maelzel.core import *\n",
    "import logging\n",
    "logger = logging.getLogger('maelzel')\n",
    "logger.setLevel('DEBUG')"
   ]
  },
  {
   "cell_type": "code",
   "execution_count": 3,
   "id": "3343a578-989a-4e82-8822-969e543a2ea4",
   "metadata": {},
   "outputs": [
    {
     "name": "stderr",
     "output_type": "stream",
     "text": [
      "[maelzel.scoring:quant.py:1510:quantizeMeasure:DEBUG] Measure 4/4 is not filled (events=[«4C 0:0.25 1/4♩», «4D 0.25:1.25 1♩», «4E 1.25:2.25 1♩», «4F 2.25:2.5 1/4♩»]). Filling gaps with silences\n",
      "[maelzel.scoring:quant.py:776:breakSyncopations:DEBUG] Evaluating split at beat=QuantizedBeat(divisions: (4,), assignedSlots=[0, 1], notations=[«~4D 1:1.25 1/4♩ 1/1», «4E~ 1.25:2 3/4♩ 1/1»], beatDuration=1, beatOffset=1, quantizationError=0.001, weight=1), minWeight=1\n",
      "[maelzel.scoring:quant.py:737:dosplit:DEBUG] Eval split of «4D 0.25:1.25 1♩ 1/1» at 1\n",
      "[maelzel.scoring:quant.py:750:dosplit:DEBUG] -- yes, quarter is not at the middle, noffset=Fraction(1, 4), offset=Fraction(1, 1), nend=Fraction(5, 4)\n",
      "[maelzel.scoring:quant.py:761:dosplit:DEBUG] ... split? True\n",
      "[maelzel.scoring:node.py:936:_splitNotationAtBeat:DEBUG] Splitting item «4D 0.25:1.25 1♩ 1/1» at offset=Fraction(1, 1)\n",
      "[maelzel.scoring:quant.py:786:breakSyncopations:DEBUG] Splitting syncopation if needed at QuantizedBeat(divisions: (4,), assignedSlots=[0, 1], notations=[«~4D 1:1.25 1/4♩ 1/1», «4E~ 1.25:2 3/4♩ 1/1»], beatDuration=1, beatOffset=1, quantizationError=0.001, weight=1), minWeight=1\n",
      "[maelzel.scoring:quant.py:776:breakSyncopations:DEBUG] Evaluating split at beat=QuantizedBeat(divisions: (2, 1), assignedSlots=[0, 1, 2], notations=[«~4E 2:2.25 1/4♩ 1/1», «4F 2.25:2.5 1/4♩ 1/1», «rest 2.5:3 1/2♩ 1/1»], beatDuration=1, beatOffset=2, quantizationError=0, weight=2), minWeight=1\n",
      "[maelzel.scoring:quant.py:737:dosplit:DEBUG] Eval split of «4E 1.25:2.25 1♩ 1/1» at 2\n",
      "[maelzel.scoring:quant.py:750:dosplit:DEBUG] -- yes, quarter is not at the middle, noffset=Fraction(5, 4), offset=Fraction(2, 1), nend=Fraction(9, 4)\n",
      "[maelzel.scoring:quant.py:761:dosplit:DEBUG] ... split? True\n",
      "[maelzel.scoring:node.py:936:_splitNotationAtBeat:DEBUG] Splitting item «4E 1.25:2.25 1♩ 1/1» at offset=Fraction(2, 1)\n",
      "[maelzel.scoring:quant.py:786:breakSyncopations:DEBUG] Splitting syncopation if needed at QuantizedBeat(divisions: (2, 1), assignedSlots=[0, 1, 2], notations=[«~4E 2:2.25 1/4♩ 1/1», «4F 2.25:2.5 1/4♩ 1/1», «rest 2.5:3 1/2♩ 1/1»], beatDuration=1, beatOffset=2, quantizationError=0, weight=2), minWeight=1\n",
      "[maelzel.scoring:quant.py:776:breakSyncopations:DEBUG] Evaluating split at beat=QuantizedBeat(divisions: (1,), assignedSlots=[0], notations=[«rest 3:4 1♩ 1/1»], beatDuration=1, beatOffset=3, quantizationError=0, weight=1), minWeight=1\n",
      "[maelzel.scoring:quant.py:737:dosplit:DEBUG] Eval split of «rest 2.5:4 3/2♩ 1/1» at 3\n",
      "[maelzel.scoring:quant.py:761:dosplit:DEBUG] ... split? True\n",
      "[maelzel.scoring:node.py:936:_splitNotationAtBeat:DEBUG] Splitting item «rest 2.5:4 3/2♩ 1/1» at offset=Fraction(3, 1)\n",
      "[maelzel.scoring:quant.py:786:breakSyncopations:DEBUG] Splitting syncopation if needed at QuantizedBeat(divisions: (1,), assignedSlots=[0], notations=[«rest 3:4 1♩ 1/1»], beatDuration=1, beatOffset=3, quantizationError=0, weight=1), minWeight=1\n",
      "[maelzel.scoring:quant.py:2118:resolveEnharmonics:DEBUG] Resolving enharmonics for measure 0\n",
      "[maelzel.scoring:renderlily.py:1181:write:DEBUG] Rendering lilypond '/home/em/.cache/tmpo1l7mxgf/nkt5oeom.ly' to '/home/em/.cache/tmpo1l7mxgf/nkt5oeom.png'\n",
      "[maelzel.scoring:renderlily.py:1194:write:DEBUG] Found crop file '/home/em/.cache/tmpo1l7mxgf/nkt5oeom.cropped.png', using that as output\n",
      "[maelzel.scoring:renderlily.py:1204:write:DEBUG] Moving /home/em/.cache/tmpo1l7mxgf/nkt5oeom.cropped.png to /home/em/.cache/tmpo1l7mxgf/lmdr072v.png\n"
     ]
    },
    {
     "data": {
      "text/html": [
       "<code style=\"white-space: pre-line; font-size:0.9em;\">Chain([<span style=\"color:#6666E0\">4C:0.25♩</span>, <span style=\"color:#6666E0\">4D:1♩</span>, <span style=\"color:#6666E0\">4E:1♩</span>, <span style=\"color:#6666E0\">4F:0.25♩</span>], dur=2.5)</code><br><img style=\"display:inline; padding:10px;\n",
       "margin-top:14px;\n",
       "width:287px\" src=\"data:image/png;base64,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\"/>"
      ],
      "text/plain": [
       "Chain([4C:0.25♩, 4D:1♩, 4E:1♩, 4F:0.25♩])"
      ]
     },
     "execution_count": 3,
     "metadata": {},
     "output_type": "execute_result"
    }
   ],
   "source": [
    "setScoreStruct(tempo=50)\n",
    "ch = Chain(r\"\"\"\n",
    "    C4:1/4\n",
    "    D4:4/4\n",
    "    E4:4/4\n",
    "    F4:1/4\n",
    "\"\"\")\n",
    "# ch.addSymbolAt(0.5, symbols.Dynamic(\"ff\"))\n",
    "# ch.beamBreak(1)\n",
    "ch"
   ]
  },
  {
   "cell_type": "code",
   "execution_count": 5,
   "id": "2d265cef-3ed3-4ba5-a320-bfb9f5972bcf",
   "metadata": {},
   "outputs": [
    {
     "name": "stderr",
     "output_type": "stream",
     "text": [
      "[maelzel.scoring:quant.py:1510:quantizeMeasure:DEBUG] Measure 3/4 is not filled (events=[«4C 0:0.25 1/4♩», «4D 0.25:1.25 1♩», «4E 1.25:2.25 1♩», «4F 2.25:2.5 1/4♩»]). Filling gaps with silences\n",
      "[maelzel.scoring:quant.py:776:breakSyncopations:DEBUG] Evaluating split at beat=QuantizedBeat(divisions: (4,), assignedSlots=[0, 1], notations=[«~4D 1:1.25 1/4♩ 1/1», «4E~ 1.25:2 3/4♩ 1/1»], beatDuration=1, beatOffset=1, quantizationError=0.001, weight=0), minWeight=1\n",
      "[maelzel.scoring:node.py:933:_splitNotationAtBeat:DEBUG] Found a syncopation but the callback was negative, so «4D 0.25:1.25 1♩ 1/1» will not be split\n",
      "[maelzel.scoring:quant.py:776:breakSyncopations:DEBUG] Evaluating split at beat=QuantizedBeat(divisions: (2, 1), assignedSlots=[0, 1, 2], notations=[«~4E 2:2.25 1/4♩ 1/1», «4F 2.25:2.5 1/4♩ 1/1», «rest 2.5:3 1/2♩ 1/1»], beatDuration=1, beatOffset=2, quantizationError=0, weight=0), minWeight=1\n",
      "[maelzel.scoring:node.py:933:_splitNotationAtBeat:DEBUG] Found a syncopation but the callback was negative, so «4E 1.25:2.25 1♩ 1/1» will not be split\n",
      "[maelzel.scoring:quant.py:2118:resolveEnharmonics:DEBUG] Resolving enharmonics for measure 0\n",
      "[maelzel.scoring:renderlily.py:1181:write:DEBUG] Rendering lilypond '/home/em/.cache/tmpo1l7mxgf/8aj3nmle.ly' to '/home/em/.cache/tmpo1l7mxgf/8aj3nmle.png'\n",
      "[maelzel.scoring:renderlily.py:1194:write:DEBUG] Found crop file '/home/em/.cache/tmpo1l7mxgf/8aj3nmle.cropped.png', using that as output\n",
      "[maelzel.scoring:renderlily.py:1204:write:DEBUG] Moving /home/em/.cache/tmpo1l7mxgf/8aj3nmle.cropped.png to /home/em/.cache/tmpo1l7mxgf/9cd2n93t.png\n"
     ]
    },
    {
     "data": {
      "image/png": "[encoded data removed]",
      "text/plain": [
       "<IPython.core.display.Image object>"
      ]
     },
     "metadata": {
      "image/png": {
       "width": 222.75
      }
     },
     "output_type": "display_data"
    }
   ],
   "source": [
    "with ScoreStruct((3, 4)):\n",
    "    ch.show()"
   ]
  },
  {
   "cell_type": "code",
   "execution_count": 6,
   "id": "6273c6a5-8327-4afb-8d89-676eed96fcca",
   "metadata": {},
   "outputs": [
    {
     "name": "stderr",
     "output_type": "stream",
     "text": [
      "[maelzel.scoring:quant.py:1510:quantizeMeasure:DEBUG] Measure 4/4 is not filled (events=[«4C 0:0.5 1/2♩», «4D 0.5:1.5 1♩», «4E 1.5:2.5 1♩», «4F 2.5:3 1/2♩»]). Filling gaps with silences\n",
      "[maelzel.scoring:quant.py:776:breakSyncopations:DEBUG] Evaluating split at beat=QuantizedBeat(divisions: (2,), assignedSlots=[0, 1], notations=[«~4D 1:1.5 1/2♩ 1/1», «4E~ 1.5:2 1/2♩ 1/1»], beatDuration=1, beatOffset=1, quantizationError=0, weight=1), minWeight=1\n",
      "[maelzel.scoring:quant.py:737:dosplit:DEBUG] Eval split of «4D 0.5:1.5 1♩ 1/1» at 1\n",
      "[maelzel.scoring:quant.py:761:dosplit:DEBUG] ... split? False\n",
      "[maelzel.scoring:node.py:933:_splitNotationAtBeat:DEBUG] Found a syncopation but the callback was negative, so «4D 0.5:1.5 1♩ 1/1» will not be split\n",
      "[maelzel.scoring:quant.py:776:breakSyncopations:DEBUG] Evaluating split at beat=QuantizedBeat(divisions: (2,), assignedSlots=[0, 1], notations=[«~4E 2:2.5 1/2♩ 1/1», «4F 2.5:3 1/2♩ 1/1»], beatDuration=1, beatOffset=2, quantizationError=0, weight=2), minWeight=1\n",
      "[maelzel.scoring:quant.py:737:dosplit:DEBUG] Eval split of «4E 1.5:2.5 1♩ 1/1» at 2\n",
      "[maelzel.scoring:quant.py:761:dosplit:DEBUG] ... split? False\n",
      "[maelzel.scoring:node.py:933:_splitNotationAtBeat:DEBUG] Found a syncopation but the callback was negative, so «4E 1.5:2.5 1♩ 1/1» will not be split\n",
      "[maelzel.scoring:quant.py:776:breakSyncopations:DEBUG] Evaluating split at beat=QuantizedBeat(divisions: (1,), assignedSlots=[0], notations=[«rest 3:4 1♩ 1/1»], beatDuration=1, beatOffset=3, quantizationError=0, weight=1), minWeight=1\n",
      "[maelzel.scoring:quant.py:2118:resolveEnharmonics:DEBUG] Resolving enharmonics for measure 0\n",
      "[maelzel.scoring:renderlily.py:1181:write:DEBUG] Rendering lilypond '/home/em/.cache/tmpo1l7mxgf/ef7edcn5.ly' to '/home/em/.cache/tmpo1l7mxgf/ef7edcn5.png'\n",
      "[maelzel.scoring:renderlily.py:1194:write:DEBUG] Found crop file '/home/em/.cache/tmpo1l7mxgf/ef7edcn5.cropped.png', using that as output\n",
      "[maelzel.scoring:renderlily.py:1204:write:DEBUG] Moving /home/em/.cache/tmpo1l7mxgf/ef7edcn5.cropped.png to /home/em/.cache/tmpo1l7mxgf/x0lj6ifq.png\n"
     ]
    },
    {
     "data": {
      "text/html": [
       "<code style=\"white-space: pre-line; font-size:0.9em;\">Chain([<span style=\"color:#6666E0\">4C:0.5♩</span>, <span style=\"color:#6666E0\">4D:1♩</span>, <span style=\"color:#6666E0\">4E:1♩</span>, <span style=\"color:#6666E0\">4F:0.5♩</span>], dur=3)</code><br><img style=\"display:inline; padding:10px;\n",
       "margin-top:14px;\n",
       "width:248px\" src=\"data:image/png;base64,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\"/>"
      ],
      "text/plain": [
       "Chain([4C:0.5♩, 4D:1♩, 4E:1♩, 4F:0.5♩])"
      ]
     },
     "execution_count": 6,
     "metadata": {},
     "output_type": "execute_result"
    }
   ],
   "source": [
    "ch = Chain(r\"\"\"\n",
    "    C4:2/4\n",
    "    D4:4/4\n",
    "    E4:4/4\n",
    "    F4:2/4\n",
    "\"\"\")\n",
    "ch"
   ]
  },
  {
   "cell_type": "code",
   "execution_count": 8,
   "id": "7dd13aae-915f-477d-b112-8d09ec2992e4",
   "metadata": {},
   "outputs": [
    {
     "data": {
      "text/html": [
       "<code style=\"white-space: pre-line; font-size:0.9em;\">Chain([<span style=\"color:#6666E0\">4C:1♩</span>, <span style=\"color:#6666E0\">4D:0.667♩</span>, <span style=\"color:#6666E0\">4E:0.667♩</span>, <span style=\"color:#6666E0\">4F:0.667♩</span>], dur=3)</code><br><img style=\"display:inline; padding:10px;\n",
       "margin-top:14px;\n",
       "width:249px\" src=\"data:image/png;base64,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\"/>"
      ],
      "text/plain": [
       "Chain([4C:1♩, 4D:0.667♩, 4E:0.667♩, 4F:0.667♩])"
      ]
     },
     "execution_count": 8,
     "metadata": {},
     "output_type": "execute_result"
    }
   ],
   "source": [
    "cfg = getConfig()\n",
    "cfg['quant.breakSyncopationsLevel'] = 'strong'\n",
    "\n",
    "ch = Chain(r\"\"\"\n",
    "    C4:1\n",
    "    D4:2/3\n",
    "    E4:2/3\n",
    "    F4:2/3\n",
    "\"\"\")\n",
    "ch"
   ]
  },
  {
   "cell_type": "code",
   "execution_count": 1,
   "id": "8ab3a573-f486-40b2-a8b2-4bc10e267396",
   "metadata": {},
   "outputs": [
    {
     "name": "stderr",
     "output_type": "stream",
     "text": [
      "[maelzel.core:mobj.py:2206:resetImageCache:INFO] Resetting image cache\n",
      "[maelzel.scoring:quant.py:1510:quantizeMeasure:DEBUG] Measure 4/4 is not filled (events=[«4C 0:1 1♩», «4D 1:1.6 3/5♩», «4E 1.6:2.4 4/5♩», «4F 2.4:3 3/5♩»]). Filling gaps with silences\n",
      "[maelzel.scoring:quant.py:1694:_nodesCanMerge:DEBUG] across beat: 2\n",
      "[maelzel.scoring:quant.py:1731:_nodesCanMerge:DEBUG] acrossBeat=2, syncopated=True, beatWeight=1, profile.breakSyncopationsMinWeight()=2\n",
      "[maelzel.scoring:quant.py:1864:_mergeSiblings:DEBUG] Nodes can merge:\n",
      "Node(5/4, dur=1, «4D 1:1.6 3/5♩ 5/4»\n",
      "                 «4D 1:1.6 3/5♩ 5/4»\n",
      "                 «4E~ 1.6:2 2/5♩ 5/4»)\n",
      "Node(5/4, dur=1, «~4E 2:2.4 2/5♩ 5/4»\n",
      "                 «~4E 2:2.4 2/5♩ 5/4»\n",
      "                 «4F 2.4:3 3/5♩ 5/4»)\n",
      "---- Merged node:\n",
      "Node(5/4, dur=2, «4D 1:1.6 3/5♩ 5/4»\n",
      "                 «4D 1:1.6 3/5♩ 5/4»\n",
      "                 «4E 1.6:2.4 4/5♩ 5/4»\n",
      "                 «4F 2.4:3 3/5♩ 5/4»)\n",
      "[maelzel.scoring:quant.py:776:breakSyncopations:DEBUG] Evaluating split at beat=QuantizedBeat(divisions: (5,), assignedSlots=[0, 3], notations=[«4D 1:1.6 3/5♩ 5/4», «4E~ 1.6:2 2/5♩ 5/4»], beatDuration=1, beatOffset=1, quantizationError=0.002, weight=0), minWeight=2\n",
      "[maelzel.scoring:quant.py:776:breakSyncopations:DEBUG] Evaluating split at beat=QuantizedBeat(divisions: (5,), assignedSlots=[0, 2], notations=[«~4E 2:2.4 2/5♩ 5/4», «4F 2.4:3 3/5♩ 5/4»], beatDuration=1, beatOffset=2, quantizationError=0.002, weight=1), minWeight=2\n",
      "[maelzel.scoring:node.py:933:_splitNotationAtBeat:DEBUG] Found a syncopation but the callback was negative, so «4E 1.6:2.4 4/5♩ 5/4» will not be split\n",
      "[maelzel.scoring:quant.py:776:breakSyncopations:DEBUG] Evaluating split at beat=QuantizedBeat(divisions: (1,), assignedSlots=[0], notations=[«rest 3:4 1♩ 1/1»], beatDuration=1, beatOffset=3, quantizationError=0, weight=0), minWeight=2\n",
      "[maelzel.scoring:quant.py:2118:resolveEnharmonics:DEBUG] Resolving enharmonics for measure 0\n",
      "[maelzel.scoring:renderlily.py:1181:write:DEBUG] Rendering lilypond '/home/em/.cache/tmp1tvespar/e1p22eoi.ly' to '/home/em/.cache/tmp1tvespar/e1p22eoi.png'\n",
      "[maelzel.scoring:renderlily.py:1194:write:DEBUG] Found crop file '/home/em/.cache/tmp1tvespar/e1p22eoi.cropped.png', using that as output\n",
      "[maelzel.scoring:renderlily.py:1204:write:DEBUG] Moving /home/em/.cache/tmp1tvespar/e1p22eoi.cropped.png to /home/em/.cache/tmp1tvespar/b2tcaowl.png\n"
     ]
    },
    {
     "data": {
      "text/html": [
       "<code style=\"white-space: pre-line; font-size:0.9em;\">Voice([<span style=\"color:#6666E0\">4C:1♩</span>, <span style=\"color:#6666E0\">4D:0.6♩</span>, <span style=\"color:#6666E0\">4E:0.8♩</span>, <span style=\"color:#6666E0\">4F:0.6♩</span>], dur=3)</code><br><img style=\"display:inline; padding:10px;\n",
       "margin-top:14px;\n",
       "width:249px\" src=\"data:image/png;base64,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\"/>"
      ],
      "text/plain": [
       "Voice([4C:1♩, 4D:0.6♩, 4E:0.8♩, 4F:0.6♩])"
      ]
     },
     "execution_count": 1,
     "metadata": {},
     "output_type": "execute_result"
    }
   ],
   "source": [
    "from maelzel.core import *\n",
    "import logging\n",
    "logging.getLogger('maelzel').setLevel('DEBUG')\n",
    "\n",
    "cfg = getConfig()\n",
    "cfg['quant.breakSyncopationsLevel'] = 'strong'\n",
    "\n",
    "ch = Voice(r\"\"\"\n",
    "    C4:1\n",
    "    D4:3/5\n",
    "    E4:4/5\n",
    "    F4:3/5\n",
    "\"\"\")\n",
    "# ch.beamBreak(2)\n",
    "ch"
   ]
  },
  {
   "cell_type": "code",
   "execution_count": 11,
   "id": "010178f4-5889-4bbd-8f4c-df014e32ff86",
   "metadata": {},
   "outputs": [
    {
     "name": "stderr",
     "output_type": "stream",
     "text": [
      "[maelzel.scoring:quant.py:1694:_nodesCanMerge:DEBUG] across beat: 2\n",
      "[maelzel.scoring:quant.py:1731:_nodesCanMerge:DEBUG] acrossBeat=2, syncopated=True, beatWeight=0, profile.breakSyncopationsMinWeight()=2\n",
      "[maelzel.scoring:quant.py:1864:_mergeSiblings:DEBUG] Nodes can merge:\n",
      "Node(5/4, dur=1, «4D 1:1.6 3/5♩ 5/4»\n",
      "                 «4D 1:1.6 3/5♩ 5/4»\n",
      "                 «4E~ 1.6:2 2/5♩ 5/4»)\n",
      "Node(5/4, dur=1, «~4E 2:2.4 2/5♩ 5/4»\n",
      "                 «~4E 2:2.4 2/5♩ 5/4»\n",
      "                 «4F 2.4:3 3/5♩ 5/4»)\n",
      "---- Merged node:\n",
      "Node(5/4, dur=2, «4D 1:1.6 3/5♩ 5/4»\n",
      "                 «4D 1:1.6 3/5♩ 5/4»\n",
      "                 «4E 1.6:2.4 4/5♩ 5/4»\n",
      "                 «4F 2.4:3 3/5♩ 5/4»)\n",
      "[maelzel.scoring:quant.py:776:breakSyncopations:DEBUG] Evaluating split at beat=QuantizedBeat(divisions: (5,), assignedSlots=[0, 3], notations=[«4D 1:1.6 3/5♩ 5/4», «4E~ 1.6:2 2/5♩ 5/4»], beatDuration=1, beatOffset=1, quantizationError=0.002, weight=0), minWeight=2\n",
      "[maelzel.scoring:quant.py:776:breakSyncopations:DEBUG] Evaluating split at beat=QuantizedBeat(divisions: (5,), assignedSlots=[0, 2], notations=[«~4E 2:2.4 2/5♩ 5/4», «4F 2.4:3 3/5♩ 5/4»], beatDuration=1, beatOffset=2, quantizationError=0.002, weight=0), minWeight=2\n",
      "[maelzel.scoring:node.py:933:_splitNotationAtBeat:DEBUG] Found a syncopation but the callback was negative, so «4E 1.6:2.4 4/5♩ 5/4» will not be split\n",
      "[maelzel.scoring:quant.py:2118:resolveEnharmonics:DEBUG] Resolving enharmonics for measure 0\n",
      "[maelzel.scoring:renderlily.py:1181:write:DEBUG] Rendering lilypond '/home/em/.cache/tmpbumfj5pr/fq2_03ey.ly' to '/home/em/.cache/tmpbumfj5pr/fq2_03ey.png'\n",
      "[maelzel.scoring:renderlily.py:1194:write:DEBUG] Found crop file '/home/em/.cache/tmpbumfj5pr/fq2_03ey.cropped.png', using that as output\n",
      "[maelzel.scoring:renderlily.py:1204:write:DEBUG] Moving /home/em/.cache/tmpbumfj5pr/fq2_03ey.cropped.png to /home/em/.cache/tmpbumfj5pr/e_v0im5y.png\n"
     ]
    },
    {
     "data": {
      "image/png": "[encoded data removed]",
      "text/plain": [
       "<IPython.core.display.Image object>"
      ]
     },
     "metadata": {
      "image/png": {
       "width": 214.5
      }
     },
     "output_type": "display_data"
    }
   ],
   "source": [
    "with ScoreStruct(\"3/4\"):\n",
    "    ch.show()"
   ]
  },
  {
   "cell_type": "code",
   "execution_count": 7,
   "id": "43bbfa27-94ec-48db-bce2-0fb0b18e55f9",
   "metadata": {},
   "outputs": [
    {
     "data": {
      "application/vnd.jupyter.widget-view+json": {
       "model_id": "48c9861936d748efad463027a829e6ba",
       "version_major": 2,
       "version_minor": 0
      },
      "text/plain": [
       "Button(description='Stop', style=ButtonStyle())"
      ]
     },
     "metadata": {},
     "output_type": "display_data"
    },
    {
     "data": {
      "application/vnd.jupyter.widget-view+json": {
       "model_id": "0497ac0a22fc4ebdbdbd4a7a7db97451",
       "version_major": 2,
       "version_minor": 0
      },
      "text/plain": [
       "Output()"
      ]
     },
     "metadata": {},
     "output_type": "display_data"
    },
    {
     "data": {
      "text/html": [
       "<small><span style=\"\"><b>SynthGroup</b></span>(synths=<code style=\"\">4</code>)</small>\n",
       "<p><small>Instr: <strong style=\"color:MediumSeaGreen\">preset:.piano</strong> - <b>4</b> synths</small></p>\n",
       "<table style=\"font-size: smaller\"<thead><tr><th style=\"text-align:left\">p1</th><th style=\"text-align:left\">start</th><th style=\"text-align:left\">dur</th><th style=\"text-align:left\">p4</th><th style=\"text-align:left\">kpos</th><th style=\"text-align:left\">kgain</th><th style=\"text-align:left\">idataidx_</th><th style=\"text-align:left\">inumbps</th><th style=\"text-align:left\">ibplen</th><th style=\"text-align:left\">ichan</th><th style=\"text-align:left\">ifadein</th><th style=\"text-align:left\">ifadeout</th><th style=\"text-align:left\">ipchintrp_</th><th style=\"text-align:left\">ifadekind</th><th style=\"text-align:left\">ktransp</th><th style=\"text-align:left\">ipitchlag</th><th style=\"text-align:left\">ivel</th><th style=\"text-align:left\">kwet</th><th style=\"text-align:left\">19</th><th style=\"text-align:left\">20</th><th style=\"text-align:left\">21</th><th style=\"text-align:left\">22</th><th style=\"text-align:left\">23</th><th style=\"text-align:left\">...</th></tr></thead><tbody><tr><td style=\"text-align:left\">401.0022 <b>‖</b></td><td style=\"text-align:left\">0.036</td><td style=\"text-align:left\">1.000</td><td style=\"text-align:left\">0</td><td style=\"text-align:left\">0.5</td><td style=\"text-align:left\">1</td><td style=\"text-align:left\">19</td><td style=\"text-align:left\">2</td><td style=\"text-align:left\">3</td><td style=\"text-align:left\">1</td><td style=\"text-align:left\">0.02</td><td style=\"text-align:left\">0.02</td><td style=\"text-align:left\">0</td><td style=\"text-align:left\">1</td><td style=\"text-align:left\">0</td><td style=\"text-align:left\">0.1</td><td style=\"text-align:left\">-1</td><td style=\"text-align:left\">0</td><td style=\"text-align:left\">0</td><td style=\"text-align:left\">60</td><td style=\"text-align:left\">0.51518</td><td style=\"text-align:left\">1</td><td style=\"text-align:left\">...</td></tr><tr><td style=\"text-align:left\">401.0023 <b>‖</b></td><td style=\"text-align:left\">1.036</td><td style=\"text-align:left\">0.600</td><td style=\"text-align:left\">0</td><td style=\"text-align:left\">0.5</td><td style=\"text-align:left\">1</td><td style=\"text-align:left\">19</td><td style=\"text-align:left\">2</td><td style=\"text-align:left\">3</td><td style=\"text-align:left\">1</td><td style=\"text-align:left\">0.02</td><td style=\"text-align:left\">0.02</td><td style=\"text-align:left\">0</td><td style=\"text-align:left\">1</td><td style=\"text-align:left\">0</td><td style=\"text-align:left\">0.1</td><td style=\"text-align:left\">-1</td><td style=\"text-align:left\">0</td><td style=\"text-align:left\">0</td><td style=\"text-align:left\">62</td><td style=\"text-align:left\">0.51518</td><td style=\"text-align:left\">0.6</td><td style=\"text-align:left\">...</td></tr><tr><td style=\"text-align:left\">401.0024 <b>‖</b></td><td style=\"text-align:left\">1.636</td><td style=\"text-align:left\">0.800</td><td style=\"text-align:left\">0</td><td style=\"text-align:left\">0.5</td><td style=\"text-align:left\">1</td><td style=\"text-align:left\">19</td><td style=\"text-align:left\">2</td><td style=\"text-align:left\">3</td><td style=\"text-align:left\">1</td><td style=\"text-align:left\">0.02</td><td style=\"text-align:left\">0.02</td><td style=\"text-align:left\">0</td><td style=\"text-align:left\">1</td><td style=\"text-align:left\">0</td><td style=\"text-align:left\">0.1</td><td style=\"text-align:left\">-1</td><td style=\"text-align:left\">0</td><td style=\"text-align:left\">0</td><td style=\"text-align:left\">64</td><td style=\"text-align:left\">0.51518</td><td style=\"text-align:left\">0.8</td><td style=\"text-align:left\">...</td></tr><tr><td style=\"text-align:left\">401.0025 <b>‖</b></td><td style=\"text-align:left\">2.436</td><td style=\"text-align:left\">0.600</td><td style=\"text-align:left\">0</td><td style=\"text-align:left\">0.5</td><td style=\"text-align:left\">1</td><td style=\"text-align:left\">19</td><td style=\"text-align:left\">2</td><td style=\"text-align:left\">3</td><td style=\"text-align:left\">1</td><td style=\"text-align:left\">0.02</td><td style=\"text-align:left\">0.02</td><td style=\"text-align:left\">0</td><td style=\"text-align:left\">1</td><td style=\"text-align:left\">0</td><td style=\"text-align:left\">0.1</td><td style=\"text-align:left\">-1</td><td style=\"text-align:left\">0</td><td style=\"text-align:left\">0</td><td style=\"text-align:left\">65</td><td style=\"text-align:left\">0.51518</td><td style=\"text-align:left\">0.6</td><td style=\"text-align:left\">...</td></tr></tbody></table>"
      ],
      "text/plain": [
       "SynthGroup(n=4)\n",
       "    Synth(‖ preset:.piano=401.0022 start=46.259 dur=1 kpos=0.5 kgain=1 idataidx_=19 inumbps=2 ibplen=3 ichan=1 ifadein=0.02 ifadeout=0.02 ipchintrp_=0 ifadekind=1 ktransp=0 ipitchlag=0.1 ivel=-1 kwet=0 p19=0 p20=60 p21=0.515178 p22=1 p23=60 …)\n",
       "    Synth(‖ preset:.piano=401.0023 start=47.259 dur=.6 kpos=0.5 kgain=1 idataidx_=19 inumbps=2 ibplen=3 ichan=1 ifadein=0.02 ifadeout=0.02 ipchintrp_=0 ifadekind=1 ktransp=0 ipitchlag=0.1 ivel=-1 kwet=0 p19=0 p20=62 p21=0.515178 p22=0.6 p23=62 …)\n",
       "    Synth(‖ preset:.piano=401.0024 start=47.859 dur=.8 kpos=0.5 kgain=1 idataidx_=19 inumbps=2 ibplen=3 ichan=1 ifadein=0.02 ifadeout=0.02 ipchintrp_=0 ifadekind=1 ktransp=0 ipitchlag=0.1 ivel=-1 kwet=0 p19=0 p20=64 p21=0.515178 p22=0.8 p23=64 …)\n",
       "    Synth(‖ preset:.piano=401.0025 start=48.659 dur=.6 kpos=0.5 kgain=1 idataidx_=19 inumbps=2 ibplen=3 ichan=1 ifadein=0.02 ifadeout=0.02 ipchintrp_=0 ifadekind=1 ktransp=0 ipitchlag=0.1 ivel=-1 kwet=0 p19=0 p20=65 p21=0.515178 p22=0.6 p23=65 …)"
      ]
     },
     "execution_count": 7,
     "metadata": {},
     "output_type": "execute_result"
    }
   ],
   "source": [
    "ch.play()"
   ]
  },
  {
   "cell_type": "code",
   "execution_count": 8,
   "id": "db47e222-f607-4b4d-8ec4-bb9f553724d0",
   "metadata": {},
   "outputs": [
    {
     "name": "stderr",
     "output_type": "stream",
     "text": [
      "[maelzel.scoring:quant.py:1510:quantizeMeasure:DEBUG] Measure 4/4 is not filled (events=[«4C 0:1 1♩», «4D 1:1.6 3/5♩», «4E 1.6:2.4 4/5♩», «4F 2.4:3 3/5♩»]). Filling gaps with silences\n",
      "[maelzel.scoring:quant.py:1694:_nodesCanMerge:DEBUG] across beat: 2\n",
      "[maelzel.scoring:quant.py:1731:_nodesCanMerge:DEBUG] acrossBeat=2, syncopated=True, beatWeight=1, profile.breakSyncopationsMinWeight()=2\n",
      "[maelzel.scoring:quant.py:1864:_mergeSiblings:DEBUG] Nodes can merge:\n",
      "Node(5/4, dur=1, «4D 1:1.6 3/5♩ 5/4»\n",
      "                 «4D 1:1.6 3/5♩ 5/4»\n",
      "                 «4E~ 1.6:2 2/5♩ 5/4»)\n",
      "Node(5/4, dur=1, «~4E 2:2.4 2/5♩ 5/4»\n",
      "                 «~4E 2:2.4 2/5♩ 5/4»\n",
      "                 «4F 2.4:3 3/5♩ 5/4»)\n",
      "---- Merged node:\n",
      "Node(5/4, dur=2, «4D 1:1.6 3/5♩ 5/4»\n",
      "                 «4D 1:1.6 3/5♩ 5/4»\n",
      "                 «4E 1.6:2.4 4/5♩ 5/4»\n",
      "                 «4F 2.4:3 3/5♩ 5/4»)\n",
      "[maelzel.scoring:quant.py:776:breakSyncopations:DEBUG] Evaluating split at beat=QuantizedBeat(divisions: (5,), assignedSlots=[0, 3], notations=[«4D 1:1.6 3/5♩ 5/4», «4E~ 1.6:2 2/5♩ 5/4»], beatDuration=1, beatOffset=1, quantizationError=0.002, weight=0), minWeight=2\n",
      "[maelzel.scoring:quant.py:776:breakSyncopations:DEBUG] Evaluating split at beat=QuantizedBeat(divisions: (5,), assignedSlots=[0, 2], notations=[«~4E 2:2.4 2/5♩ 5/4», «4F 2.4:3 3/5♩ 5/4»], beatDuration=1, beatOffset=2, quantizationError=0.002, weight=1), minWeight=2\n",
      "[maelzel.scoring:node.py:933:_splitNotationAtBeat:DEBUG] Found a syncopation but the callback was negative, so «4E 1.6:2.4 4/5♩ 5/4» will not be split\n",
      "[maelzel.scoring:quant.py:776:breakSyncopations:DEBUG] Evaluating split at beat=QuantizedBeat(divisions: (1,), assignedSlots=[0], notations=[«rest 3:4 1♩ 1/1»], beatDuration=1, beatOffset=3, quantizationError=0, weight=0), minWeight=2\n",
      "[maelzel.scoring:quant.py:2118:resolveEnharmonics:DEBUG] Resolving enharmonics for measure 0\n"
     ]
    },
    {
     "name": "stdout",
     "output_type": "stream",
     "text": [
      "Measure #0\n",
      "  Timesig: 4/4(quarter=60)\n",
      "  Node ratio: 1/1, offset=0, end=4, dur=4, symbolicdur=4\n",
      "    «4C 0:1 1♩ 1/1»\n",
      "    Node ratio: 5/4, offset=1, end=3, dur=2, symbolicdur=2\n",
      "      «4D 1:1.6 3/5♩ 5/4»\n",
      "      «4E 1.6:2.4 4/5♩ 5/4»\n",
      "      «4F 2.4:3 3/5♩ 5/4»\n",
      "    «rest 3:4 1♩ 1/1»\n"
     ]
    }
   ],
   "source": [
    "qp = ch.quantizedPart()\n",
    "qp.dump()"
   ]
  },
  {
   "cell_type": "code",
   "execution_count": 9,
   "id": "0f5534b8-a34b-405a-a35c-5b93409cca2b",
   "metadata": {},
   "outputs": [
    {
     "name": "stderr",
     "output_type": "stream",
     "text": [
      "[maelzel.scoring:quant.py:1510:quantizeMeasure:DEBUG] Measure 4/4 is not filled (events=[«4D 0:0.667 2/3♩», «4E 0.667:1.333 2/3♩», «4F 1.333:2 2/3♩»]). Filling gaps with silences\n",
      "[maelzel.scoring:quant.py:1694:_nodesCanMerge:DEBUG] across beat: 1\n",
      "[maelzel.scoring:quant.py:1731:_nodesCanMerge:DEBUG] acrossBeat=1, syncopated=True, beatWeight=0, profile.breakSyncopationsMinWeight()=2\n",
      "[maelzel.scoring:quant.py:1864:_mergeSiblings:DEBUG] Nodes can merge:\n",
      "Node(3/2, dur=1, «4D 0:0.667 2/3♩ 3/2»\n",
      "                 «4D 0:0.667 2/3♩ 3/2»\n",
      "                 «4E~ 0.667:1 1/3♩ 3/2»)\n",
      "Node(3/2, dur=1, «~4E 1:1.333 1/3♩ 3/2»\n",
      "                 «~4E 1:1.333 1/3♩ 3/2»\n",
      "                 «4F 1.333:2 2/3♩ 3/2»)\n",
      "---- Merged node:\n",
      "Node(3/2, dur=2, «4D 0:0.667 2/3♩ 3/2»\n",
      "                 «4D 0:0.667 2/3♩ 3/2»\n",
      "                 «4E 0.667:1.333 2/3♩ 3/2»\n",
      "                 «4F 1.333:2 2/3♩ 3/2»)\n",
      "[maelzel.scoring:quant.py:776:breakSyncopations:DEBUG] Evaluating split at beat=QuantizedBeat(divisions: (3,), assignedSlots=[0, 1], notations=[«~4E 1:1.333 1/3♩ 3/2», «4F 1.333:2 2/3♩ 3/2»], beatDuration=1, beatOffset=1, quantizationError=0, weight=0), minWeight=2\n",
      "[maelzel.scoring:node.py:933:_splitNotationAtBeat:DEBUG] Found a syncopation but the callback was negative, so «4E 0.667:1.333 2/3♩ 3/2» will not be split\n",
      "[maelzel.scoring:quant.py:776:breakSyncopations:DEBUG] Evaluating split at beat=QuantizedBeat(divisions: (1,), assignedSlots=[0], notations=[«rest 2:3 1♩ 1/1»], beatDuration=1, beatOffset=2, quantizationError=0, weight=1), minWeight=2\n",
      "[maelzel.scoring:quant.py:776:breakSyncopations:DEBUG] Evaluating split at beat=QuantizedBeat(divisions: (1,), assignedSlots=[0], notations=[«rest 3:4 1♩ 1/1»], beatDuration=1, beatOffset=3, quantizationError=0, weight=0), minWeight=2\n",
      "[maelzel.scoring:node.py:936:_splitNotationAtBeat:DEBUG] Splitting item «rest 2:4 2♩ 1/1» at offset=Fraction(3, 1)\n",
      "[maelzel.scoring:quant.py:786:breakSyncopations:DEBUG] Splitting syncopation if needed at QuantizedBeat(divisions: (1,), assignedSlots=[0], notations=[«rest 3:4 1♩ 1/1»], beatDuration=1, beatOffset=3, quantizationError=0, weight=0), minWeight=2\n",
      "[maelzel.scoring:quant.py:2118:resolveEnharmonics:DEBUG] Resolving enharmonics for measure 0\n",
      "[maelzel.scoring:renderlily.py:1181:write:DEBUG] Rendering lilypond '/home/em/.cache/tmp1tvespar/kbwl5u4s.ly' to '/home/em/.cache/tmp1tvespar/kbwl5u4s.png'\n",
      "[maelzel.scoring:renderlily.py:1194:write:DEBUG] Found crop file '/home/em/.cache/tmp1tvespar/kbwl5u4s.cropped.png', using that as output\n",
      "[maelzel.scoring:renderlily.py:1204:write:DEBUG] Moving /home/em/.cache/tmp1tvespar/kbwl5u4s.cropped.png to /home/em/.cache/tmp1tvespar/z_zacf9j.png\n"
     ]
    },
    {
     "data": {
      "text/html": [
       "<code style=\"white-space: pre-line; font-size:0.9em;\">Chain([<span style=\"color:#6666E0\">4D:0.667♩</span>, <span style=\"color:#6666E0\">4E:0.667♩</span>, <span style=\"color:#6666E0\">4F:0.667♩</span>], dur=2)</code><br><img style=\"display:inline; padding:10px;\n",
       "margin-top:14px;\n",
       "width:248px\" src=\"data:image/png;base64,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\"/>"
      ],
      "text/plain": [
       "Chain([4D:0.667♩, 4E:0.667♩, 4F:0.667♩])"
      ]
     },
     "execution_count": 9,
     "metadata": {},
     "output_type": "execute_result"
    }
   ],
   "source": [
    "ch = Chain(r\"\"\"\n",
    "    D4:2/3\n",
    "    E4:2/3\n",
    "    F4:2/3\n",
    "\"\"\")\n",
    "ch"
   ]
  },
  {
   "cell_type": "code",
   "execution_count": null,
   "id": "824b7327-025d-455e-a6d1-c83e519ffacf",
   "metadata": {},
   "outputs": [],
   "source": []
  }
 ],
 "metadata": {
  "kernelspec": {
   "display_name": "Python 3 (ipykernel)",
   "language": "python",
   "name": "python3"
  },
  "language_info": {
   "codemirror_mode": {
    "name": "ipython",
    "version": 3
   },
   "file_extension": ".py",
   "mimetype": "text/x-python",
   "name": "python",
   "nbconvert_exporter": "python",
   "pygments_lexer": "ipython3",
   "version": "3.12.7"
  }
 },
 "nbformat": 4,
 "nbformat_minor": 5
}
