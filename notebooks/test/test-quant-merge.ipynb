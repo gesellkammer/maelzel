{
 "cells": [
  {
   "cell_type": "code",
   "execution_count": 1,
   "id": "b8ed0017-1fb1-4933-b90b-161d8c7fad6e",
   "metadata": {},
   "outputs": [],
   "source": [
    "from maelzel.core import *\n",
    "import logging\n",
    "logger = logging.getLogger('maelzel')\n",
    "logger.setLevel('DEBUG')"
   ]
  },
  {
   "cell_type": "code",
   "execution_count": 2,
   "id": "3343a578-989a-4e82-8822-969e543a2ea4",
   "metadata": {},
   "outputs": [
    {
     "name": "stderr",
     "output_type": "stream",
     "text": [
      "[maelzel.scoring:quant.py:1435:quantizeMeasure:DEBUG] Measure 4/4 is not filled (events=[«4C 0:0.25 1/4♩», «4D 0.25:1.25 1♩», «4E 1.25:2.25 1♩», «4F 2.25:2.5 1/4♩»]). Filling gaps with silences\n",
      "[maelzel.scoring:quant.py:821:breakSyncopations:DEBUG] Evaluating split at beat.offset=Fraction(1, 1), beat.duration=Fraction(1, 1), minWeight=1\n",
      "[maelzel.scoring:quant.py:825:breakSyncopations:DEBUG] --- Splitting syncopation at beat.offset=Fraction(1, 1), minWeight=1\n",
      "[maelzel.scoring:quant.py:821:breakSyncopations:DEBUG] Evaluating split at beat.offset=Fraction(2, 1), beat.duration=Fraction(1, 1), minWeight=1\n",
      "[maelzel.scoring:quant.py:825:breakSyncopations:DEBUG] --- Splitting syncopation at beat.offset=Fraction(2, 1), minWeight=1\n",
      "[maelzel.scoring:quant.py:821:breakSyncopations:DEBUG] Evaluating split at beat.offset=Fraction(3, 1), beat.duration=Fraction(1, 1), minWeight=1\n",
      "[maelzel.scoring:quant.py:825:breakSyncopations:DEBUG] --- Splitting syncopation at beat.offset=Fraction(3, 1), minWeight=1\n",
      "[maelzel.scoring:quant.py:2048:resolveEnharmonics:DEBUG] Resolving enharmonics for measure 0\n",
      "[maelzel.scoring:renderlily.py:1185:write:DEBUG] Rendering lilypond '/home/em/.cache/tmpmr0vn4ra/90de6_k7.ly' to '/home/em/.cache/tmpmr0vn4ra/90de6_k7.png'\n",
      "[maelzel.scoring:renderlily.py:1198:write:DEBUG] Found crop file '/home/em/.cache/tmpmr0vn4ra/90de6_k7.cropped.png', using that as output\n",
      "[maelzel.scoring:renderlily.py:1208:write:DEBUG] Moving /home/em/.cache/tmpmr0vn4ra/90de6_k7.cropped.png to /home/em/.cache/tmpmr0vn4ra/v600rx9m.png\n"
     ]
    },
    {
     "data": {
      "text/html": [
       "<code style=\"white-space: pre-line; font-size:0.9em;\">Chain([<span style=\"color:#6666E0\">4C:0.25♩</span>, <span style=\"color:#6666E0\">4D:1♩</span>, <span style=\"color:#6666E0\">4E:1♩</span>, <span style=\"color:#6666E0\">4F:0.25♩</span>], dur=2.5)</code><br><img style=\"display:inline; padding:10px;\n",
       "margin-top:14px;\n",
       "width:287px\" src=\"data:image/png;base64,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\"/>"
      ],
      "text/plain": [
       "Chain([4C:0.25♩, 4D:1♩, 4E:1♩, 4F:0.25♩])"
      ]
     },
     "execution_count": 2,
     "metadata": {},
     "output_type": "execute_result"
    }
   ],
   "source": [
    "setScoreStruct(tempo=50)\n",
    "ch = Chain(r\"\"\"\n",
    "    C4:1/4\n",
    "    D4:4/4\n",
    "    E4:4/4\n",
    "    F4:1/4\n",
    "\"\"\")\n",
    "# ch.addSymbolAt(0.5, symbols.Dynamic(\"ff\"))\n",
    "# ch.beamBreak(1)\n",
    "ch"
   ]
  },
  {
   "cell_type": "code",
   "execution_count": 3,
   "id": "2d265cef-3ed3-4ba5-a320-bfb9f5972bcf",
   "metadata": {},
   "outputs": [
    {
     "name": "stderr",
     "output_type": "stream",
     "text": [
      "[maelzel.scoring:quant.py:1435:quantizeMeasure:DEBUG] Measure 3/4 is not filled (events=[«4C 0:0.25 1/4♩», «4D 0.25:1.25 1♩», «4E 1.25:2.25 1♩», «4F 2.25:2.5 1/4♩»]). Filling gaps with silences\n",
      "[maelzel.scoring:quant.py:821:breakSyncopations:DEBUG] Evaluating split at beat.offset=Fraction(1, 1), beat.duration=Fraction(1, 1), minWeight=1\n",
      "[maelzel.scoring:node.py:954:_splitNotationAtBeat:DEBUG] Found a syncopation but the callback was negative, so «4D 0.25:1.25 1♩ 1/1» will not be split\n",
      "[maelzel.scoring:quant.py:821:breakSyncopations:DEBUG] Evaluating split at beat.offset=Fraction(2, 1), beat.duration=Fraction(1, 1), minWeight=1\n",
      "[maelzel.scoring:node.py:954:_splitNotationAtBeat:DEBUG] Found a syncopation but the callback was negative, so «4E 1.25:2.25 1♩ 1/1» will not be split\n",
      "[maelzel.scoring:quant.py:2048:resolveEnharmonics:DEBUG] Resolving enharmonics for measure 0\n",
      "[maelzel.scoring:renderlily.py:1185:write:DEBUG] Rendering lilypond '/home/em/.cache/tmpmr0vn4ra/e2jjb19b.ly' to '/home/em/.cache/tmpmr0vn4ra/e2jjb19b.png'\n",
      "[maelzel.scoring:renderlily.py:1198:write:DEBUG] Found crop file '/home/em/.cache/tmpmr0vn4ra/e2jjb19b.cropped.png', using that as output\n",
      "[maelzel.scoring:renderlily.py:1208:write:DEBUG] Moving /home/em/.cache/tmpmr0vn4ra/e2jjb19b.cropped.png to /home/em/.cache/tmpmr0vn4ra/qv3tjoom.png\n"
     ]
    },
    {
     "data": {
      "image/png": "[encoded data removed]",
      "text/plain": [
       "<IPython.core.display.Image object>"
      ]
     },
     "metadata": {
      "image/png": {
       "width": 222.75
      }
     },
     "output_type": "display_data"
    }
   ],
   "source": [
    "with ScoreStruct((3, 4)):\n",
    "    ch.show()"
   ]
  },
  {
   "cell_type": "code",
   "execution_count": 4,
   "id": "6273c6a5-8327-4afb-8d89-676eed96fcca",
   "metadata": {},
   "outputs": [
    {
     "name": "stderr",
     "output_type": "stream",
     "text": [
      "[maelzel.scoring:quant.py:1435:quantizeMeasure:DEBUG] Measure 4/4 is not filled (events=[«4C 0:0.5 1/2♩», «4D 0.5:1.5 1♩», «4E 1.5:2.5 1♩», «4F 2.5:3 1/2♩»]). Filling gaps with silences\n",
      "[maelzel.scoring:quant.py:821:breakSyncopations:DEBUG] Evaluating split at beat.offset=Fraction(1, 1), beat.duration=Fraction(1, 1), minWeight=1\n",
      "[maelzel.scoring:node.py:954:_splitNotationAtBeat:DEBUG] Found a syncopation but the callback was negative, so «4D 0.5:1.5 1♩ 1/1» will not be split\n",
      "[maelzel.scoring:quant.py:821:breakSyncopations:DEBUG] Evaluating split at beat.offset=Fraction(2, 1), beat.duration=Fraction(1, 1), minWeight=1\n",
      "[maelzel.scoring:node.py:954:_splitNotationAtBeat:DEBUG] Found a syncopation but the callback was negative, so «4E 1.5:2.5 1♩ 1/1» will not be split\n",
      "[maelzel.scoring:quant.py:821:breakSyncopations:DEBUG] Evaluating split at beat.offset=Fraction(3, 1), beat.duration=Fraction(1, 1), minWeight=1\n",
      "[maelzel.scoring:quant.py:2048:resolveEnharmonics:DEBUG] Resolving enharmonics for measure 0\n",
      "[maelzel.scoring:renderlily.py:1185:write:DEBUG] Rendering lilypond '/home/em/.cache/tmpmr0vn4ra/fg7c1miu.ly' to '/home/em/.cache/tmpmr0vn4ra/fg7c1miu.png'\n",
      "[maelzel.scoring:renderlily.py:1198:write:DEBUG] Found crop file '/home/em/.cache/tmpmr0vn4ra/fg7c1miu.cropped.png', using that as output\n",
      "[maelzel.scoring:renderlily.py:1208:write:DEBUG] Moving /home/em/.cache/tmpmr0vn4ra/fg7c1miu.cropped.png to /home/em/.cache/tmpmr0vn4ra/fimbxlwp.png\n"
     ]
    },
    {
     "data": {
      "text/html": [
       "<code style=\"white-space: pre-line; font-size:0.9em;\">Chain([<span style=\"color:#6666E0\">4C:0.5♩</span>, <span style=\"color:#6666E0\">4D:1♩</span>, <span style=\"color:#6666E0\">4E:1♩</span>, <span style=\"color:#6666E0\">4F:0.5♩</span>], dur=3)</code><br><img style=\"display:inline; padding:10px;\n",
       "margin-top:14px;\n",
       "width:248px\" src=\"data:image/png;base64,iVBORw0KGgoAAAANSUhEUgAAAUsAAABkCAIAAACAWIWeAAAQ8klEQVR4nO2dT4gb9RfAv6tbdhdanUShWKU42SIIK7Izy7YIVSEJ+OfgFjKpehPNBPSggszkIJ6TvYgH/2TixWOTQHtUMoEWD0rJREsPYu0m7aHYXXQmbIXdQkt+h1e/v3FmkkySmWQy+z6nZDI7851N3ve97/u+P3PdbpfMJqqqJpPJWq2WSCSmPRYECSgPTXsACIL4CEo4goQZlHAECTMo4QgSZlDCESTMoIQjSJhBCUeQMIMSjiBhBiUcQcIMSjiChBmUcAQJMyjhCBJmUMIRJMyghCNImEEJR5AwgxKOIGFmftoDCCKqqgqCwPM8z/P0oGEYmqZpmmY+0zCMfD6vKAq8FUWxUChMdKwI0heUcGc6nU69Xq/X6/QIwzCqqprPMQwDystomhaLxRRFyWazrVarUqlMergI0gOUcAdqtRrLsjzPG4YBR3iez2azsVjMfJosy81ms1arwXFRFLe2tjY3N2VZRk2OBIXuzFKr1QghtVrN8ytLkpRKpfqfs7W1RQjhOM5+kGVZz4eEIKOBnjZnLOraTrFYtJ8Gb9vttsWeR5BpMXsSrqoqNZ59AtxphmGoqqqqqsW7Zj7HPhGwLEsIAfsCQaaONxLearVEUXSUBK8oFAo8z8/NzSWTyWg0GovFLl265N/tKpVKNBrN5/OCIKytrcViMYv/zOyEMwMy32q1/BsbggzB+IZ+o9FgGIYQwnGcruvjX9B+fVCMjjiuw+PxeP+njsfjfW5HCJEkiT5LPp+HvyoWi/Q0OCJJkuOt+1wfQSbJuL50TdMSiUSn0yGENJvNfD7vrRvZfH33mPexhz1BVVWGYXK5XCQSgSOyLOu6Dk5yQRDocQSZAcaZHnRdB+1tZmtry6vpx/H6FvywGuyAYieElMtlOAJvUYcjAWesdbggCHbtKoriONc0k8/n+2tvhmH80KiqqloW0lTnU1HnOM7xb+EPBxoRCDIZRrfSVVV19DbV63VN0zz5iQ8MDhMEwfG4oiiwNd2L5eXlXjORKIqlUolhmP4ee57nm82m3aPWbrfh+v3GjSATY2Tt38eblclkPDEw+o+cYZheJvo4njbH/wxV3dSxVy6XSY+IFzKptQOCDGREHd5qtewKXJKkbDa7vLxcKpUKhcL49jPLsqAS7UCUeK9bpNPp/kZEHx3LcZw9thwiWFiWpX1OBUHgOA7UON0Vh9MkSUJvHBIURpsY6AYSwDBMo9GAj0B/mjeWRgb0pB2WZentPKdcLpsfp2vaDrTszMFxag7AW5+2DBFkNEaU8FQq5Sje3W5XkiRCyMC4bpeUy2XzZjjHcfl83pMr96FYLIKsxuNx6ht3nFNgr55l2Xg8DtKO4o0EirnuoOWuI+Bngte1Wo3aroQQWZY3NzfBOhjhyo5Abrb5LhOAxpbHYrH+YepwZiQSQRc6EjRGlPC5uTl4kclkaP0DoFKppNNpYpN8BEEmz7hx6blcznKEbjJh9gWCTJ2xJDyVStnN1/4b0QiCTJKxJHxtbc1+kAaB+JpqhiCIG8aScEfHEgo2ggQHjytAaJrWK0YFQZDJM6KEQwSI3VVujlHBrSMEmTrzhJBKpULjrl3y6KOPdjqds2fPPv300+bjX3zxBX3966+/yrLsxSARBBmaB7Hb3X+j0BAECRMvvfRSd+SoVZgUzAGklmoNlqQrT3CcibzKY0NCgzkQY35+fmFhYWNjg5bumHWoFNAsiV6BJ1CeZMR1eDKZJP/d+pZl2VytIZvNjnblPtgTtuPxuCWiDkHM3Lt37+7duxcuXHjrrbei0Wg2mz1oez0jSjh40WjktqqqpVKJfsowTK/aDONgKbfAcRz2D0Jccv/+fcMwFEU5efIkiLrfNbkDwogSHolEOI5rt9utVsswDIs8i6LoR4K0efZlGKZSqUQiET+mEiTEUFG3ZEAPpFKpzKJGGX0/HLbKKpWKpVoby7J+dO3SNI3eBco/QDPAarXq+b0Ql7z66qsffvjhtEfhzMrKysbGxsLCwvy8N835yuVyOp2eOSN/dAmHBLJcLmcp9uLTwtjcJ0hRFGgbiLtx0+X777//8ccfpz0KZ44ePXr+/Pk///zzyy+/PHXqFCHk4YcfHueCiqJAkZ/ZancxuoTzPG9vVCBJkk8ZozSWplgsCoLQarVGqKOOHDQikYgoij/99JOu61999dXKyso4lwIrXRCEGVrDjy7hlUrFEqDKcZxPXXVVVYWCE5IkiaIIOpyWoECQgYCoX716dWtr67PPPjt+/Hg0Gh32IjzPi6LYbDZnyPszT/6toDLUn127ds1iIR8+fPjTTz/1qefm559/Tgh57bXXksmkqqqWrThs9DlFdnd3g/b/h6lf1/VeAzt9+vTp06fJSL+cxx57jBBSr9dff/31jz/+eLyRjsKNGzfgBdVwvVTd/v4+IYR0/1t0DUGQcLC+vt6FasqFQsF9gMqdO3dkWf7jjz/MB9PpdCaT8X6MhBBCJEn6559/CoXCkSNH4AjE21BCX0wGnjeAj5lMJpeXl7/55ptpD+Q/NJtNWZZXV1ehXqC3nDt37ttvv6VvC4VCr+43PlEqlcAnRW8Nz2s/E/yLQ0etOkqyV5VV7UiSxDCMpRea5e4+3To4BPYxCSGrq6vTHoUVmAp9ah1n8S73acvhE/5GrcqybI5dI4RkMhmGYXzalNY0TVEU2Pr24/oIMhSiKFq8y51OJ+CbZ0MEA6iqajF7wHluGEa1WoXQF28Hl0gkYrFYuVzu1RoBoCZKNBrFHXLEDyBw097nJ5VKBbwOglsJt4emsiwLfYWSyWS1Wm00Gp5LuCiKmqYN9PPTEybQS8gwjI8++uipp5765JNPsHXRAcEwjEQiYXdZp1KpGUh8cmn9W/zt5j4nkGHGsqwfqw5HLI/gX4cjO+Y1z6lTp4rF4gSWYUN9U5OEHIx1uKMvbVppy76sw1VVtay0C4UCNU5isRjNQnFztTGxR/9PK1T4559//uCDD5544okzZ87MYk4C4gYabWWmWCzOgPYmhLiMabMsbjOZjKX5NkSqTibyoVgsWo7k8/lpRRHS9OO33357cXHxzTffDFr4BzImdi9vKpXq1Xw+gAyWcEVRzHOYY+oYFE4fttjbsGia5ujtaLfbiURiukk/IOrnzp175ZVXotHozGUgIb2IxWIWpQI5V7PCXLfblWW5zy+y2WyaNeTq6qoloPfWrVvb29vmcyKRyCOPPPLkk08uLS15NdCrV6/u7OwsLi4uLS0tLS0dOnSIfrS7u7u3t7e/vw9Z617d0RFd13/55Ze5uQH93uz/pXGASQ26oAaKer1++PDhkydPTnsg/wG+I29/DNevX7958ya8fvHFF80/vwlDR0J/Y/C89jPfeOONCxcuzBNClpeXe0n43t6eWXSPHTtm/uHquv7bb789CH81YRiGYRg3b948duzYiRMnPPl3PPfcc9vb2zs7O0tLSzCGvb29vb293d3dZ5991sOpxA3Hjx8/cuTI7du3//77b+Jpl1UkmJw4cWJvb29nZ4cQcu/evSlK+ND0d9xZ6mCYY8vs62FHLN3FPfEimpmwSxP8luClBMrl8sbGBiHkoYf+v+Shfk5PcPNNTQVyMHzpgK7rYBQUi0VvrzwUHvvSzbUWM5kM9TpomuYylL3T6Xi1SA5mJUZBEM6fP6/r+tdff/0gEhgJI5AfzjCMLMvhyQ83b4CZRdoe3ELjdc01lYFOp+NJ0nyQKzGaKw0Ui8WAxzkh7lEUJZFIJBIJQRAqlYqiKKC0pj0u1/Q3Cai4mgNazDGkDMNIkgTWO5zc7XYbjYY9QcVs2Y6Gee6g6Sj+Jb04YrfSJ4Cbb2oqkANgpfcSnJBEvNAySeZJi14RKiIWCgWw3mmJZZ7nFUWp1WpmmVQUZRw1jpUYkUBRKpV8qmjkLQMknNrey8vL9CC1ls2RbeRfCadL7kQioaoqFfJOpzOOUY2VGJGpQDcpGYbJ5/O1Wq1cLkNScy6XC846sRcDJJy61sySDNuzDMNYInsg7sXsnIO6VvTtOCExWIkRmQq03IgoirIsw4K8UCi0Wi2O44LvcnMr4WZgVrM7k+CIxR9WKBSoGh85cB0rMSLTgqooS2WhSCSiaVrww1fnCSGapvVKwL527Rq8KJVKdPn9119/EUIajYbdSF5YWKjX65bjzzzzzOXLlwkh9o9c8sMPPxBCnn/+eUKILMuWNPVJ2upQB+/ixYuTXyAEc0ly69at6Q5sf3//ypUrnU4HDLqjR48+/vjjhJDr1697NbD19fXLly+bRWCKXLx4EV7Q8dDajBZu375NCFZiRJCQ4ra7MMTxWPYGwANn36kCV76lkyud+UbbwIjH4xzHmdOwLU8ywjVHBnfLzJDp7ZY1Gg175IWZF154wcPb5fN5nwq/DYv3+eEQ6GLxGUIkWbVataxDIGK8l0dthHJrkBUDTQiH/VskrGiaNtDPCjHkXgEG/yymBg+WcFEUWZbtdDrmVU0ikYC49FKpZI5XA2ebxcFI5xiLr2IgWIkRsQMFxQZuo3iY2wfMqJpxVadNUZRkMqkoSjqdpi50aCEsimK1Wk2n0xDHCqJo8ZnDzMey7LCF3LASI2JHURRLwVNH3n33XW/vG4lEZjEY2ZWEJxKJTCYD6lrTNDqTCYIAWSU04g0k3JxnQje6RggACmAlxgML9Nze2tqC6ZvnefddNLyl/3QPMAwzQ63F/MX9Eh9cbizL9s8GhdPgta7r4JPzNojX8giTr8R4oDxtuq73aWgzeU+bm191Pp+f8Kgmho8dEVRVjcfj7XZ7bW2tTwIdKFJVVWH93G63OY7zMMczOJUYDwKapsViMUsbDDN3796d5HiIU/KihUwmg4s1yhASHolEVFWFKWRzczMWi8myrKqqRdTBUBdFMZlMdjqdTCbjrQQGqhJjuHHjsr5///6khvOA/uZ3JpOZesmAYDGCnVCr1dzUDGNZ1ttSJ41Go1dwDsdxk7HVD46VTldY/Znwv6JrqrVi/71ZAjFCybBWOsa0IUg4OXPmTBe6C+dyOQ83nG/cuFEul9fX119++WWvrhkc/Hu6/f39S5cuXblypdcJjmXq/OO7777b3t7uf87CwkI2m11cXJzMkJCheFD12XMrYip27MTw6ekGxmD68U31x81vKMQu69AwXHdhxA/cOLQmX74XXdbhYAgJb7VaEMc2NzfH83zwq1vMBC5jMN95552JDOf/oMs6HLjtLmzRM81mM51Ol8vlcEcO2QO5VlZWvL2FyxjMycdLFgoFTdPsZTagrVW4v/cw4VbCHfWMLMth/aahCJwl0sPeMm18AhuDCTVMKpVKrVajE9za2lpYv/Gw4krCVVV11DPtdlvTNIt6CUIdjDEZuDD2sD6cm1pUuVxuWiH3giCgSM8043ra7MFkcASqMs4ibvxev//+u1e3Q4cW4iturfRe2NeH4IGbrTw7TdNgYrpz5877778/UEUfOnQIUmJ5nh9TuwqC0CfqGx1ayLi42VLTdd3xb+3bwhA0HpB6Ny6xdF8civGf9IDHYCJ+40qHRyKRVCpl6S4iSZIl5dswDJCWaWUOT56R60NT0KGF+MqATvcUTdNgaR2Px3O5nKN1KopiqVSKx+MzV86KDthNnan33nvv7Nmz8Hp8Kx1B/MW9uqdx0ZlMxlz5tNvt6roO6SsMw1g+mi3c+L2mPUYEGQK3Ohyg3QhghxbUl2EY4CuCSg+z5WOzAGZIr0/R74XMHsNOCY7J4dBjeKa1N4B+LyRkDKfDKa1WS9O0RqMRjUZ5np+lhukuQL8XEhr+BxAFbQ7tz3KpAAAAAElFTkSuQmCC\"/>"
      ],
      "text/plain": [
       "Chain([4C:0.5♩, 4D:1♩, 4E:1♩, 4F:0.5♩])"
      ]
     },
     "execution_count": 4,
     "metadata": {},
     "output_type": "execute_result"
    }
   ],
   "source": [
    "ch = Chain(r\"\"\"\n",
    "    C4:2/4\n",
    "    D4:4/4\n",
    "    E4:4/4\n",
    "    F4:2/4\n",
    "\"\"\")\n",
    "ch"
   ]
  },
  {
   "cell_type": "code",
   "execution_count": 1,
   "id": "7dd13aae-915f-477d-b112-8d09ec2992e4",
   "metadata": {},
   "outputs": [
    {
     "data": {
      "text/html": [
       "<code style=\"white-space: pre-line; font-size:0.9em;\">Chain([<span style=\"color:#6666E0\">4C:1♩</span>, <span style=\"color:#6666E0\">4D:0.667♩</span>, <span style=\"color:#6666E0\">4E:0.667♩</span>, <span style=\"color:#6666E0\">4F:0.667♩</span>], dur=3)</code><br><img style=\"display:inline; padding:10px;\n",
       "margin-top:14px;\n",
       "width:249px\" src=\"data:image/png;base64,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\"/>"
      ],
      "text/plain": [
       "Chain([4C:1♩, 4D:0.667♩, 4E:0.667♩, 4F:0.667♩])"
      ]
     },
     "execution_count": 1,
     "metadata": {},
     "output_type": "execute_result"
    }
   ],
   "source": [
    "from maelzel.core import *\n",
    "\n",
    "cfg = getConfig()\n",
    "cfg['quant.breakBeats'] = 'strong'\n",
    "\n",
    "\n",
    "ch = Chain(r\"\"\"\n",
    "    C4:1\n",
    "    D4:2/3\n",
    "    E4:2/3\n",
    "    F4:2/3\n",
    "\"\"\")\n",
    "ch"
   ]
  },
  {
   "cell_type": "code",
   "execution_count": 3,
   "id": "8ab3a573-f486-40b2-a8b2-4bc10e267396",
   "metadata": {},
   "outputs": [
    {
     "name": "stderr",
     "output_type": "stream",
     "text": [
      "[maelzel.scoring:quant.py:1435:quantizeMeasure:DEBUG] Measure 4/4 is not filled (events=[«4C 0:1 1♩», «4D 1:1.6 3/5♩», «4E 1.6:2.4 4/5♩», «4F 2.4:3 3/5♩»]). Filling gaps with silences\n",
      "[maelzel.scoring:quant.py:1657:_nodesCanMerge:DEBUG] acrossBeat=2, syncopated=True, beatWeight=1, profile.breakSyncopationsMinWeight()=2\n",
      "[maelzel.scoring:quant.py:1788:_mergeSiblings:DEBUG] Nodes can merge:\n",
      "Node(5/4, dur=1 «4D 1:1.6 3/5♩ 5/4»\n",
      "                «4E~ 1.6:2 2/5♩ 5/4»)\n",
      "Node(5/4, dur=1 «~4E 2:2.4 2/5♩ 5/4»\n",
      "                «4F 2.4:3 3/5♩ 5/4»)\n",
      "---- Merged node:\n",
      "Node(5/4, dur=2 «4D 1:1.6 3/5♩ 5/4»\n",
      "                «4E 1.6:2.4 4/5♩ 5/4»\n",
      "                «4F 2.4:3 3/5♩ 5/4»)\n",
      "[maelzel.scoring:quant.py:821:breakSyncopations:DEBUG] Evaluating split at beat.offset=Fraction(1, 1), beat.duration=Fraction(1, 1), minWeight=2\n",
      "[maelzel.scoring:quant.py:821:breakSyncopations:DEBUG] Evaluating split at beat.offset=Fraction(2, 1), beat.duration=Fraction(1, 1), minWeight=2\n",
      "[maelzel.scoring:node.py:954:_splitNotationAtBeat:DEBUG] Found a syncopation but the callback was negative, so «4E 1.6:2.4 4/5♩ 5/4» will not be split\n",
      "[maelzel.scoring:quant.py:821:breakSyncopations:DEBUG] Evaluating split at beat.offset=Fraction(3, 1), beat.duration=Fraction(1, 1), minWeight=2\n",
      "[maelzel.scoring:quant.py:2048:resolveEnharmonics:DEBUG] Resolving enharmonics for measure 0\n",
      "[maelzel.scoring:renderlily.py:1185:write:DEBUG] Rendering lilypond '/home/em/.cache/tmp55373jha/bly_76s_.ly' to '/home/em/.cache/tmp55373jha/bly_76s_.png'\n",
      "[maelzel.scoring:renderlily.py:1198:write:DEBUG] Found crop file '/home/em/.cache/tmp55373jha/bly_76s_.cropped.png', using that as output\n",
      "[maelzel.scoring:renderlily.py:1208:write:DEBUG] Moving /home/em/.cache/tmp55373jha/bly_76s_.cropped.png to /home/em/.cache/tmp55373jha/wq32rt9f.png\n"
     ]
    },
    {
     "data": {
      "text/html": [
       "<code style=\"white-space: pre-line; font-size:0.9em;\">Voice([<span style=\"color:#6666E0\">4C:1♩</span>, <span style=\"color:#6666E0\">4D:0.6♩</span>, <span style=\"color:#6666E0\">4E:0.8♩</span>, <span style=\"color:#6666E0\">4F:0.6♩</span>], dur=3)</code><br><img style=\"display:inline; padding:10px;\n",
       "margin-top:14px;\n",
       "width:249px\" src=\"data:image/png;base64,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\"/>"
      ],
      "text/plain": [
       "Voice([4C:1♩, 4D:0.6♩, 4E:0.8♩, 4F:0.6♩])"
      ]
     },
     "execution_count": 3,
     "metadata": {},
     "output_type": "execute_result"
    }
   ],
   "source": [
    "from maelzel.core import *\n",
    "import logging\n",
    "logging.getLogger('maelzel').setLevel('DEBUG')\n",
    "\n",
    "cfg = getConfig()\n",
    "cfg['quant.breakBeats'] = 'strong'\n",
    "\n",
    "ch = Voice(r\"\"\"\n",
    "    C4:1\n",
    "    D4:3/5\n",
    "    E4:4/5\n",
    "    F4:3/5\n",
    "\"\"\")\n",
    "# ch.beamBreak(2)\n",
    "ch"
   ]
  },
  {
   "cell_type": "code",
   "execution_count": 4,
   "id": "010178f4-5889-4bbd-8f4c-df014e32ff86",
   "metadata": {},
   "outputs": [
    {
     "name": "stderr",
     "output_type": "stream",
     "text": [
      "[maelzel.scoring:quant.py:1657:_nodesCanMerge:DEBUG] acrossBeat=2, syncopated=True, beatWeight=0, profile.breakSyncopationsMinWeight()=2\n",
      "[maelzel.scoring:quant.py:1788:_mergeSiblings:DEBUG] Nodes can merge:\n",
      "Node(5/4, dur=1 «4D 1:1.6 3/5♩ 5/4»\n",
      "                «4E~ 1.6:2 2/5♩ 5/4»)\n",
      "Node(5/4, dur=1 «~4E 2:2.4 2/5♩ 5/4»\n",
      "                «4F 2.4:3 3/5♩ 5/4»)\n",
      "---- Merged node:\n",
      "Node(5/4, dur=2 «4D 1:1.6 3/5♩ 5/4»\n",
      "                «4E 1.6:2.4 4/5♩ 5/4»\n",
      "                «4F 2.4:3 3/5♩ 5/4»)\n",
      "[maelzel.scoring:quant.py:821:breakSyncopations:DEBUG] Evaluating split at beat.offset=Fraction(1, 1), beat.duration=Fraction(1, 1), minWeight=2\n",
      "[maelzel.scoring:quant.py:821:breakSyncopations:DEBUG] Evaluating split at beat.offset=Fraction(2, 1), beat.duration=Fraction(1, 1), minWeight=2\n",
      "[maelzel.scoring:node.py:954:_splitNotationAtBeat:DEBUG] Found a syncopation but the callback was negative, so «4E 1.6:2.4 4/5♩ 5/4» will not be split\n",
      "[maelzel.scoring:quant.py:2048:resolveEnharmonics:DEBUG] Resolving enharmonics for measure 0\n",
      "[maelzel.scoring:renderlily.py:1185:write:DEBUG] Rendering lilypond '/home/em/.cache/tmp55373jha/lej37_zn.ly' to '/home/em/.cache/tmp55373jha/lej37_zn.png'\n",
      "[maelzel.scoring:renderlily.py:1198:write:DEBUG] Found crop file '/home/em/.cache/tmp55373jha/lej37_zn.cropped.png', using that as output\n",
      "[maelzel.scoring:renderlily.py:1208:write:DEBUG] Moving /home/em/.cache/tmp55373jha/lej37_zn.cropped.png to /home/em/.cache/tmp55373jha/thtwapbm.png\n"
     ]
    },
    {
     "data": {
      "image/png": "[encoded data removed]",
      "text/plain": [
       "<IPython.core.display.Image object>"
      ]
     },
     "metadata": {
      "image/png": {
       "width": 214.5
      }
     },
     "output_type": "display_data"
    }
   ],
   "source": [
    "with ScoreStruct(\"3/4\"):\n",
    "    ch.show()"
   ]
  },
  {
   "cell_type": "code",
   "execution_count": 5,
   "id": "43bbfa27-94ec-48db-bce2-0fb0b18e55f9",
   "metadata": {},
   "outputs": [
    {
     "name": "stderr",
     "output_type": "stream",
     "text": [
      "created pipewire module\n",
      "--Csound version 7.0 (double samples) Jul  6 2025\n",
      "[commit: 13e86532f568b6c148fbff180a8bf934f97dec5b]\n",
      "\u001b[mlibsndfile-1.2.2\n",
      "\u001b[msr = 48000.0,\u001b[m kr = 750.000,\u001b[m ksmps = 64\n",
      "\u001b[m0dBFS level = 1.0,\u001b[m A4 tuning = 440.0\n",
      "\u001b[maudio buffered in 256 sample-frame blocks\n",
      "\u001b[mreading 2048-byte blks of shorts from adc:Built-in Audio Analog Stereo: (RAW)\n",
      "writing 512 sample blks of 64-bit floats to dac:Built-in Audio Analog Stereo:\n",
      "SECTION 1:\n",
      "\u001b[m"
     ]
    },
    {
     "data": {
      "application/vnd.jupyter.widget-view+json": {
       "model_id": "3ffa126881ff4a6eb50b99644f435bad",
       "version_major": 2,
       "version_minor": 0
      },
      "text/plain": [
       "Button(description='Stop', style=ButtonStyle())"
      ]
     },
     "metadata": {},
     "output_type": "display_data"
    },
    {
     "data": {
      "application/vnd.jupyter.widget-view+json": {
       "model_id": "e2e0625748cc4d758af57617a0284504",
       "version_major": 2,
       "version_minor": 0
      },
      "text/plain": [
       "Output()"
      ]
     },
     "metadata": {},
     "output_type": "display_data"
    },
    {
     "data": {
      "text/html": [
       "<small><span style=\"\"><b>SynthGroup</b></span>(synths=<code style=\"\">4</code>)</small>\n",
       "<p><small>Instr: <strong style=\"color:MediumSeaGreen\">preset:.piano</strong> - <b>4</b> synths</small></p>\n",
       "<table style=\"font-size: smaller\"<thead><tr><th style=\"text-align:left\">p1</th><th style=\"text-align:left\">start</th><th style=\"text-align:left\">dur</th><th style=\"text-align:left\">p4</th><th style=\"text-align:left\">kpos</th><th style=\"text-align:left\">kgain</th><th style=\"text-align:left\">idataidx_</th><th style=\"text-align:left\">inumbps</th><th style=\"text-align:left\">ibplen</th><th style=\"text-align:left\">ichan</th><th style=\"text-align:left\">ifadein</th><th style=\"text-align:left\">ifadeout</th><th style=\"text-align:left\">ipchintrp_</th><th style=\"text-align:left\">ifadekind</th><th style=\"text-align:left\">ktransp</th><th style=\"text-align:left\">ipitchlag</th><th style=\"text-align:left\">ivel</th><th style=\"text-align:left\">kwet</th><th style=\"text-align:left\">19</th><th style=\"text-align:left\">20</th><th style=\"text-align:left\">21</th><th style=\"text-align:left\">22</th><th style=\"text-align:left\">23</th><th style=\"text-align:left\">...</th></tr></thead><tbody><tr><td style=\"text-align:left\">401.0002 <b>‖</b></td><td style=\"text-align:left\">0.041</td><td style=\"text-align:left\">1.000</td><td style=\"text-align:left\">0</td><td style=\"text-align:left\">0.5</td><td style=\"text-align:left\">1</td><td style=\"text-align:left\">19</td><td style=\"text-align:left\">2</td><td style=\"text-align:left\">3</td><td style=\"text-align:left\">1</td><td style=\"text-align:left\">0.02</td><td style=\"text-align:left\">0.02</td><td style=\"text-align:left\">0</td><td style=\"text-align:left\">1</td><td style=\"text-align:left\">0</td><td style=\"text-align:left\">0.1</td><td style=\"text-align:left\">-1</td><td style=\"text-align:left\">0</td><td style=\"text-align:left\">0</td><td style=\"text-align:left\">60</td><td style=\"text-align:left\">0.51518</td><td style=\"text-align:left\">1</td><td style=\"text-align:left\">...</td></tr><tr><td style=\"text-align:left\">401.0003 <b>‖</b></td><td style=\"text-align:left\">1.041</td><td style=\"text-align:left\">0.600</td><td style=\"text-align:left\">0</td><td style=\"text-align:left\">0.5</td><td style=\"text-align:left\">1</td><td style=\"text-align:left\">19</td><td style=\"text-align:left\">2</td><td style=\"text-align:left\">3</td><td style=\"text-align:left\">1</td><td style=\"text-align:left\">0.02</td><td style=\"text-align:left\">0.02</td><td style=\"text-align:left\">0</td><td style=\"text-align:left\">1</td><td style=\"text-align:left\">0</td><td style=\"text-align:left\">0.1</td><td style=\"text-align:left\">-1</td><td style=\"text-align:left\">0</td><td style=\"text-align:left\">0</td><td style=\"text-align:left\">62</td><td style=\"text-align:left\">0.51518</td><td style=\"text-align:left\">0.6</td><td style=\"text-align:left\">...</td></tr><tr><td style=\"text-align:left\">401.0004 <b>‖</b></td><td style=\"text-align:left\">1.641</td><td style=\"text-align:left\">0.800</td><td style=\"text-align:left\">0</td><td style=\"text-align:left\">0.5</td><td style=\"text-align:left\">1</td><td style=\"text-align:left\">19</td><td style=\"text-align:left\">2</td><td style=\"text-align:left\">3</td><td style=\"text-align:left\">1</td><td style=\"text-align:left\">0.02</td><td style=\"text-align:left\">0.02</td><td style=\"text-align:left\">0</td><td style=\"text-align:left\">1</td><td style=\"text-align:left\">0</td><td style=\"text-align:left\">0.1</td><td style=\"text-align:left\">-1</td><td style=\"text-align:left\">0</td><td style=\"text-align:left\">0</td><td style=\"text-align:left\">64</td><td style=\"text-align:left\">0.51518</td><td style=\"text-align:left\">0.8</td><td style=\"text-align:left\">...</td></tr><tr><td style=\"text-align:left\">401.0005 <b>‖</b></td><td style=\"text-align:left\">2.441</td><td style=\"text-align:left\">0.600</td><td style=\"text-align:left\">0</td><td style=\"text-align:left\">0.5</td><td style=\"text-align:left\">1</td><td style=\"text-align:left\">19</td><td style=\"text-align:left\">2</td><td style=\"text-align:left\">3</td><td style=\"text-align:left\">1</td><td style=\"text-align:left\">0.02</td><td style=\"text-align:left\">0.02</td><td style=\"text-align:left\">0</td><td style=\"text-align:left\">1</td><td style=\"text-align:left\">0</td><td style=\"text-align:left\">0.1</td><td style=\"text-align:left\">-1</td><td style=\"text-align:left\">0</td><td style=\"text-align:left\">0</td><td style=\"text-align:left\">65</td><td style=\"text-align:left\">0.51518</td><td style=\"text-align:left\">0.6</td><td style=\"text-align:left\">...</td></tr></tbody></table>"
      ],
      "text/plain": [
       "SynthGroup(n=4)\n",
       "    Synth(‖ preset:.piano=401.0002 start=.158 dur=1 kpos=0.5 kgain=1 idataidx_=19 inumbps=2 ibplen=3 ichan=1 ifadein=0.02 ifadeout=0.02 ipchintrp_=0 ifadekind=1 ktransp=0 ipitchlag=0.1 ivel=-1 kwet=0 p19=0 p20=60 p21=0.515178 p22=1 p23=60 …)\n",
       "    Synth(‖ preset:.piano=401.0003 start=1.158 dur=.6 kpos=0.5 kgain=1 idataidx_=19 inumbps=2 ibplen=3 ichan=1 ifadein=0.02 ifadeout=0.02 ipchintrp_=0 ifadekind=1 ktransp=0 ipitchlag=0.1 ivel=-1 kwet=0 p19=0 p20=62 p21=0.515178 p22=0.6 p23=62 …)\n",
       "    Synth(‖ preset:.piano=401.0004 start=1.758 dur=.8 kpos=0.5 kgain=1 idataidx_=19 inumbps=2 ibplen=3 ichan=1 ifadein=0.02 ifadeout=0.02 ipchintrp_=0 ifadekind=1 ktransp=0 ipitchlag=0.1 ivel=-1 kwet=0 p19=0 p20=64 p21=0.515178 p22=0.8 p23=64 …)\n",
       "    Synth(‖ preset:.piano=401.0005 start=2.558 dur=.6 kpos=0.5 kgain=1 idataidx_=19 inumbps=2 ibplen=3 ichan=1 ifadein=0.02 ifadeout=0.02 ipchintrp_=0 ifadekind=1 ktransp=0 ipitchlag=0.1 ivel=-1 kwet=0 p19=0 p20=65 p21=0.515178 p22=0.6 p23=65 …)"
      ]
     },
     "execution_count": 5,
     "metadata": {},
     "output_type": "execute_result"
    }
   ],
   "source": [
    "ch.play()"
   ]
  },
  {
   "cell_type": "code",
   "execution_count": 8,
   "id": "db47e222-f607-4b4d-8ec4-bb9f553724d0",
   "metadata": {},
   "outputs": [
    {
     "name": "stderr",
     "output_type": "stream",
     "text": [
      "[maelzel.scoring:quant.py:1510:quantizeMeasure:DEBUG] Measure 4/4 is not filled (events=[«4C 0:1 1♩», «4D 1:1.6 3/5♩», «4E 1.6:2.4 4/5♩», «4F 2.4:3 3/5♩»]). Filling gaps with silences\n",
      "[maelzel.scoring:quant.py:1694:_nodesCanMerge:DEBUG] across beat: 2\n",
      "[maelzel.scoring:quant.py:1731:_nodesCanMerge:DEBUG] acrossBeat=2, syncopated=True, beatWeight=1, profile.breakSyncopationsMinWeight()=2\n",
      "[maelzel.scoring:quant.py:1864:_mergeSiblings:DEBUG] Nodes can merge:\n",
      "Node(5/4, dur=1, «4D 1:1.6 3/5♩ 5/4»\n",
      "                 «4D 1:1.6 3/5♩ 5/4»\n",
      "                 «4E~ 1.6:2 2/5♩ 5/4»)\n",
      "Node(5/4, dur=1, «~4E 2:2.4 2/5♩ 5/4»\n",
      "                 «~4E 2:2.4 2/5♩ 5/4»\n",
      "                 «4F 2.4:3 3/5♩ 5/4»)\n",
      "---- Merged node:\n",
      "Node(5/4, dur=2, «4D 1:1.6 3/5♩ 5/4»\n",
      "                 «4D 1:1.6 3/5♩ 5/4»\n",
      "                 «4E 1.6:2.4 4/5♩ 5/4»\n",
      "                 «4F 2.4:3 3/5♩ 5/4»)\n",
      "[maelzel.scoring:quant.py:776:breakSyncopations:DEBUG] Evaluating split at beat=QuantizedBeat(divisions: (5,), assignedSlots=[0, 3], notations=[«4D 1:1.6 3/5♩ 5/4», «4E~ 1.6:2 2/5♩ 5/4»], beatDuration=1, beatOffset=1, quantizationError=0.002, weight=0), minWeight=2\n",
      "[maelzel.scoring:quant.py:776:breakSyncopations:DEBUG] Evaluating split at beat=QuantizedBeat(divisions: (5,), assignedSlots=[0, 2], notations=[«~4E 2:2.4 2/5♩ 5/4», «4F 2.4:3 3/5♩ 5/4»], beatDuration=1, beatOffset=2, quantizationError=0.002, weight=1), minWeight=2\n",
      "[maelzel.scoring:node.py:933:_splitNotationAtBeat:DEBUG] Found a syncopation but the callback was negative, so «4E 1.6:2.4 4/5♩ 5/4» will not be split\n",
      "[maelzel.scoring:quant.py:776:breakSyncopations:DEBUG] Evaluating split at beat=QuantizedBeat(divisions: (1,), assignedSlots=[0], notations=[«rest 3:4 1♩ 1/1»], beatDuration=1, beatOffset=3, quantizationError=0, weight=0), minWeight=2\n",
      "[maelzel.scoring:quant.py:2118:resolveEnharmonics:DEBUG] Resolving enharmonics for measure 0\n"
     ]
    },
    {
     "name": "stdout",
     "output_type": "stream",
     "text": [
      "Measure #0\n",
      "  Timesig: 4/4(quarter=60)\n",
      "  Node ratio: 1/1, offset=0, end=4, dur=4, symbolicdur=4\n",
      "    «4C 0:1 1♩ 1/1»\n",
      "    Node ratio: 5/4, offset=1, end=3, dur=2, symbolicdur=2\n",
      "      «4D 1:1.6 3/5♩ 5/4»\n",
      "      «4E 1.6:2.4 4/5♩ 5/4»\n",
      "      «4F 2.4:3 3/5♩ 5/4»\n",
      "    «rest 3:4 1♩ 1/1»\n"
     ]
    }
   ],
   "source": [
    "qp = ch.quantizedPart()\n",
    "qp.dump()"
   ]
  },
  {
   "cell_type": "code",
   "execution_count": 6,
   "id": "0f5534b8-a34b-405a-a35c-5b93409cca2b",
   "metadata": {},
   "outputs": [
    {
     "name": "stderr",
     "output_type": "stream",
     "text": [
      "[maelzel.scoring:quant.py:1435:quantizeMeasure:DEBUG] Measure 4/4 is not filled (events=[«4D 0:0.667 2/3♩», «4E 0.667:1.333 2/3♩», «4F 1.333:2 2/3♩»]). Filling gaps with silences\n",
      "[maelzel.scoring:quant.py:1657:_nodesCanMerge:DEBUG] acrossBeat=1, syncopated=True, beatWeight=0, profile.breakSyncopationsMinWeight()=2\n",
      "[maelzel.scoring:quant.py:1788:_mergeSiblings:DEBUG] Nodes can merge:\n",
      "Node(3/2, dur=1 «4D 0:0.667 2/3♩ 3/2»\n",
      "                «4E~ 0.667:1 1/3♩ 3/2»)\n",
      "Node(3/2, dur=1 «~4E 1:1.333 1/3♩ 3/2»\n",
      "                «4F 1.333:2 2/3♩ 3/2»)\n",
      "---- Merged node:\n",
      "Node(3/2, dur=2 «4D 0:0.667 2/3♩ 3/2»\n",
      "                «4E 0.667:1.333 2/3♩ 3/2»\n",
      "                «4F 1.333:2 2/3♩ 3/2»)\n",
      "[maelzel.scoring:quant.py:821:breakSyncopations:DEBUG] Evaluating split at beat.offset=Fraction(1, 1), beat.duration=Fraction(1, 1), minWeight=2\n",
      "[maelzel.scoring:node.py:954:_splitNotationAtBeat:DEBUG] Found a syncopation but the callback was negative, so «4E 0.667:1.333 2/3♩ 3/2» will not be split\n",
      "[maelzel.scoring:quant.py:821:breakSyncopations:DEBUG] Evaluating split at beat.offset=Fraction(2, 1), beat.duration=Fraction(1, 1), minWeight=2\n",
      "[maelzel.scoring:quant.py:821:breakSyncopations:DEBUG] Evaluating split at beat.offset=Fraction(3, 1), beat.duration=Fraction(1, 1), minWeight=2\n",
      "[maelzel.scoring:node.py:954:_splitNotationAtBeat:DEBUG] Found a syncopation but the callback was negative, so «rest 2:4 2♩ 1/1» will not be split\n",
      "[maelzel.scoring:quant.py:2048:resolveEnharmonics:DEBUG] Resolving enharmonics for measure 0\n",
      "[maelzel.scoring:renderlily.py:1185:write:DEBUG] Rendering lilypond '/home/em/.cache/tmp55373jha/q7tbgc_p.ly' to '/home/em/.cache/tmp55373jha/q7tbgc_p.png'\n",
      "[maelzel.scoring:renderlily.py:1198:write:DEBUG] Found crop file '/home/em/.cache/tmp55373jha/q7tbgc_p.cropped.png', using that as output\n",
      "[maelzel.scoring:renderlily.py:1208:write:DEBUG] Moving /home/em/.cache/tmp55373jha/q7tbgc_p.cropped.png to /home/em/.cache/tmp55373jha/29fqfvs0.png\n"
     ]
    },
    {
     "data": {
      "text/html": [
       "<code style=\"white-space: pre-line; font-size:0.9em;\">Chain([<span style=\"color:#6666E0\">4D:0.667♩</span>, <span style=\"color:#6666E0\">4E:0.667♩</span>, <span style=\"color:#6666E0\">4F:0.667♩</span>], dur=2)</code><br><img style=\"display:inline; padding:10px;\n",
       "margin-top:14px;\n",
       "width:225px\" src=\"data:image/png;base64,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\"/>"
      ],
      "text/plain": [
       "Chain([4D:0.667♩, 4E:0.667♩, 4F:0.667♩])"
      ]
     },
     "execution_count": 6,
     "metadata": {},
     "output_type": "execute_result"
    }
   ],
   "source": [
    "ch = Chain(r\"\"\"\n",
    "    D4:2/3\n",
    "    E4:2/3\n",
    "    F4:2/3\n",
    "\"\"\")\n",
    "ch"
   ]
  },
  {
   "cell_type": "code",
   "execution_count": null,
   "id": "824b7327-025d-455e-a6d1-c83e519ffacf",
   "metadata": {},
   "outputs": [],
   "source": []
  }
 ],
 "metadata": {
  "kernelspec": {
   "display_name": "Python 3 (ipykernel)",
   "language": "python",
   "name": "python3"
  },
  "language_info": {
   "codemirror_mode": {
    "name": "ipython",
    "version": 3
   },
   "file_extension": ".py",
   "mimetype": "text/x-python",
   "name": "python",
   "nbconvert_exporter": "python",
   "pygments_lexer": "ipython3",
   "version": "3.12.7"
  }
 },
 "nbformat": 4,
 "nbformat_minor": 5
}
