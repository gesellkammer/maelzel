{
 "cells": [
  {
   "cell_type": "code",
   "execution_count": 1,
   "id": "d50e4b22-237c-41d2-88f5-065ebf496f95",
   "metadata": {},
   "outputs": [],
   "source": [
    "from maelzel.core import *\n",
    "logger.parent.setLevel(\"DEBUG\")"
   ]
  },
  {
   "cell_type": "code",
   "execution_count": 2,
   "id": "04ece895-be37-4057-a830-d88fc476a4d0",
   "metadata": {},
   "outputs": [],
   "source": [
    "cfg = getConfig()"
   ]
  },
  {
   "cell_type": "code",
   "execution_count": 3,
   "id": "fe380293-3548-4000-8ed4-292247168cc9",
   "metadata": {},
   "outputs": [
    {
     "name": "stderr",
     "output_type": "stream",
     "text": [
      "[maelzel.core:mobj.py:2222:clearImageCache:INFO] Resetting image cache\n"
     ]
    }
   ],
   "source": [
    "# cfg['.quant.mergeTupletsOfDifferentDuration'] = True\n",
    "cfg['quant.beatWeightTempoThreshold'] = 48\n",
    "cfg['quant.subdivisionTempoThreshold'] = 96\n",
    "cfg['reprUnicodeFractions'] = True"
   ]
  },
  {
   "cell_type": "code",
   "execution_count": 4,
   "id": "d6cd362c-b712-4eea-9635-5c25e510bb61",
   "metadata": {},
   "outputs": [
    {
     "name": "stderr",
     "output_type": "stream",
     "text": [
      "[maelzel.core:mobj.py:2222:clearImageCache:INFO] Resetting image cache\n"
     ]
    },
    {
     "data": {
      "text/html": [
       "1/21/21/2<table><thead><tr><th style=\"text-align:left\">Meas. Index</th><th style=\"text-align:left\">Timesig</th><th style=\"text-align:left\">Tempo (quarter note)</th><th style=\"text-align:left\">Label</th><th style=\"text-align:left\">Rehearsal</th><th style=\"text-align:left\">Barline</th><th style=\"text-align:left\">Beats</th></tr></thead><tbody><tr><td style=\"text-align:left\"><span style=\"font-size: small;\">0</span></td><td style=\"text-align:left\"><span style=\"font-size: small;\">TimeSignature(3/4)</span></td><td style=\"text-align:left\"><span style=\"font-size: small;\">52</span></td><td style=\"text-align:left\"><span style=\"font-size: small;\"></span></td><td style=\"text-align:left\"><span style=\"font-size: small;\"></span></td><td style=\"text-align:left\"><span style=\"font-size: small;\"></span></td><td style=\"text-align:left\"><span style=\"font-size: small;\">1+1+1</span></td></tr><tr><td style=\"text-align:left\"><span style=\"font-size: small;\">1</span></td><td style=\"text-align:left\"><span style=\"font-size: small;\">5/8(2-2-1)</span></td><td style=\"text-align:left\"><span style=\"font-size: small;\"></span></td><td style=\"text-align:left\"><span style=\"font-size: small;\"></span></td><td style=\"text-align:left\"><span style=\"font-size: small;\"></span></td><td style=\"text-align:left\"><span style=\"font-size: small;\"></span></td><td style=\"text-align:left\"><span style=\"font-size: small;\">1+1+1/2</span></td></tr><tr><td style=\"text-align:left\"><span style=\"font-size: small;\">2</span></td><td style=\"text-align:left\"><span style=\"font-size: small;\">TimeSignature(5/16)</span></td><td style=\"text-align:left\"><span style=\"font-size: small;\"></span></td><td style=\"text-align:left\"><span style=\"font-size: small;\"></span></td><td style=\"text-align:left\"><span style=\"font-size: small;\"></span></td><td style=\"text-align:left\"><span style=\"font-size: small;\"></span></td><td style=\"text-align:left\"><span style=\"font-size: small;\">1/2+3/4</span></td></tr><tr><td style=\"text-align:left\"><span style=\"font-size: small;\">3</span></td><td style=\"text-align:left\"><span style=\"font-size: small;\">6/16(2-2-2)</span></td><td style=\"text-align:left\"><span style=\"font-size: small;\"></span></td><td style=\"text-align:left\"><span style=\"font-size: small;\"></span></td><td style=\"text-align:left\"><span style=\"font-size: small;\"></span></td><td style=\"text-align:left\"><span style=\"font-size: small;\"></span></td><td style=\"text-align:left\"><span style=\"font-size: small;\">1/2+1/2+1/2</span></td></tr><tr><td style=\"text-align:left\"><span style=\"font-size: small;\">...</span></td><td style=\"text-align:left\"><span style=\"font-size: small;\"></span></td><td style=\"text-align:left\"><span style=\"font-size: small;\"></span></td><td style=\"text-align:left\"><span style=\"font-size: small;\"></span></td><td style=\"text-align:left\"><span style=\"font-size: small;\"></span></td><td style=\"text-align:left\"><span style=\"font-size: small;\"></span></td></tr></tbody></table>"
      ],
      "text/plain": [
       "<IPython.core.display.HTML object>"
      ]
     },
     "metadata": {},
     "output_type": "display_data"
    }
   ],
   "source": [
    "struct = ScoreStruct(\"3/4,52; 5/8(2-2-1); 5/16; 6/16(2-2-2)\")\n",
    "struct.activate()\n",
    "struct.dump()"
   ]
  },
  {
   "cell_type": "code",
   "execution_count": 5,
   "id": "c50ed37b-d51c-4170-8bb0-616066b490e5",
   "metadata": {},
   "outputs": [
    {
     "name": "stderr",
     "output_type": "stream",
     "text": [
      "[maelzel.scoring:quant.py:1673:_nodesCanMerge:DEBUG] acrossBeat=1, syncopated=True, beatWeight=0, profile.breakSyncopationsMinWeight()=1\n",
      "[maelzel.scoring:quant.py:1673:_nodesCanMerge:DEBUG] acrossBeat=1, syncopated=True, beatWeight=0, profile.breakSyncopationsMinWeight()=1\n",
      "[maelzel.scoring:quant.py:1673:_nodesCanMerge:DEBUG] acrossBeat=1, syncopated=True, beatWeight=0, profile.breakSyncopationsMinWeight()=1\n",
      "[maelzel.scoring:quant.py:1673:_nodesCanMerge:DEBUG] acrossBeat=1, syncopated=True, beatWeight=0, profile.breakSyncopationsMinWeight()=1\n",
      "[maelzel.scoring:quant.py:1673:_nodesCanMerge:DEBUG] acrossBeat=1, syncopated=True, beatWeight=0, profile.breakSyncopationsMinWeight()=1\n",
      "[maelzel.scoring:quant.py:1673:_nodesCanMerge:DEBUG] acrossBeat=1, syncopated=True, beatWeight=0, profile.breakSyncopationsMinWeight()=1\n",
      "[maelzel.scoring:node.py:954:_splitNotationAtBeat:DEBUG] Found a syncopation at 1, but the callback was negative, so «4F 0.889:1.111 2/9♩ 3/2,3/2» will not be split\n",
      "[maelzel.scoring:node.py:954:_splitNotationAtBeat:DEBUG] Found a syncopation at 1, but the callback was negative, so «4F 0.889:1.111 2/9♩ 3/2,3/2» will not be split\n",
      "[maelzel.scoring:node.py:954:_splitNotationAtBeat:DEBUG] Found a syncopation at 1/2, but the callback was negative, so «4C 0:1 1♩» will not be split\n",
      "[maelzel.scoring:node.py:954:_splitNotationAtBeat:DEBUG] Found a syncopation at 1/2, but the callback was negative, so «4D 0:1 1♩» will not be split\n",
      "[maelzel.scoring:renderlily.py:1174:write:DEBUG] Rendering lilypond '/home/em/.cache/tmp5dsp9m9d/0ag5j4e0.ly' to '/home/em/.cache/tmp5dsp9m9d/0ag5j4e0.png'\n",
      "[maelzel.scoring:renderlily.py:1190:write:DEBUG] Found crop file '/home/em/.cache/tmp5dsp9m9d/0ag5j4e0.cropped.png', using that as output\n",
      "[maelzel.scoring:renderlily.py:1200:write:DEBUG] Moving /home/em/.cache/tmp5dsp9m9d/0ag5j4e0.cropped.png to /home/em/.cache/tmp5dsp9m9d/yl5othnu.png\n"
     ]
    },
    {
     "data": {
      "text/html": [
       "<code style=\"white-space: pre-line; font-size:0.9em;\">Chain([<span style=\"color:#6666E0\">4C:²⁄₃♩</span>, <span style=\"color:#6666E0\">4E:²⁄₉♩</span>, <span style=\"color:#6666E0\">4F:²⁄₉♩</span>, <span style=\"color:#6666E0\">4G:²⁄₉♩</span>, <span style=\"color:#6666E0\">4D:²⁄₃♩</span>, <span style=\"color:#6666E0\">R:1♩</span>, <span style=\"color:#6666E0\">4C:²⁄₃♩</span>, <span style=\"color:#6666E0\">4E:²⁄₉♩</span>, <span style=\"color:#6666E0\">4F:²⁄₉♩</span>, <span style=\"color:#6666E0\">4G:²⁄₉♩</span>, …], dur=8.25)</code><br><br><img style=\"display:inline; padding:10px;\n",
       "margin-top:14px;\n",
       "width:648px\" src=\"data:image/png;base64,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\"/>"
      ],
      "text/plain": [
       "Chain([4C:²⁄₃♩, 4E:²⁄₉♩, 4F:²⁄₉♩, 4G:²⁄₉♩, 4D:²⁄₃♩, R:1♩, 4C:²⁄₃♩, 4E:²⁄₉♩, 4F:²⁄₉♩, 4G:²⁄₉♩, …])"
      ]
     },
     "execution_count": 5,
     "metadata": {},
     "output_type": "execute_result"
    }
   ],
   "source": [
    "ch = Chain(r\"\"\"\n",
    "4c:2/3\n",
    "4e:2/3*1/3\n",
    "4f:2/3*1/3\n",
    "4g:2/3*1/3\n",
    "4d:2/3\n",
    "r:1\n",
    "\n",
    "4c:2/3\n",
    "4e:2/3*1/3\n",
    "4f:2/3*1/3\n",
    "4g:2/3*1/3\n",
    "4d:2/3\n",
    "r:1/2\n",
    "\n",
    "4c:1\n",
    "r:1/4\n",
    "\n",
    "4D:1\n",
    "r:1/2\n",
    "\n",
    "\n",
    "\"\"\")\n",
    "ch"
   ]
  },
  {
   "cell_type": "code",
   "execution_count": null,
   "id": "c8b34aae-f2bb-40f8-b0c2-9b4bc0cacb3c",
   "metadata": {},
   "outputs": [],
   "source": []
  }
 ],
 "metadata": {
  "kernelspec": {
   "display_name": "Python 3 (ipykernel)",
   "language": "python",
   "name": "python3"
  },
  "language_info": {
   "codemirror_mode": {
    "name": "ipython",
    "version": 3
   },
   "file_extension": ".py",
   "mimetype": "text/x-python",
   "name": "python",
   "nbconvert_exporter": "python",
   "pygments_lexer": "ipython3",
   "version": "3.12.7"
  }
 },
 "nbformat": 4,
 "nbformat_minor": 5
}
