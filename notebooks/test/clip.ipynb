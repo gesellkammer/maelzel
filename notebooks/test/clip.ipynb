{
 "cells": [
  {
   "cell_type": "code",
   "execution_count": 1,
   "id": "705db62e-a2d1-4517-aa4a-fd9d2a30c62c",
   "metadata": {},
   "outputs": [],
   "source": [
    "from maelzel.core import *"
   ]
  },
  {
   "cell_type": "code",
   "execution_count": 31,
   "id": "88616500-77d6-4849-8eca-f03d985862e7",
   "metadata": {},
   "outputs": [
    {
     "name": "stderr",
     "output_type": "stream",
     "text": [
      "kf.service.services: KApplicationTrader: mimeType \"x-scheme-handler/file\" not found\n",
      "kf.service.services: KApplicationTrader: mimeType \"x-scheme-handler/file\" not found\n"
     ]
    },
    {
     "name": "stdout",
     "output_type": "stream",
     "text": [
      "**Notify** Config Edit: maelzel:core: Modify the values as needed. Save the file to accept the changes or press ctrl-c at the python prompt to cancel\n"
     ]
    },
    {
     "name": "stderr",
     "output_type": "stream",
     "text": [
      "Hspell: can't open /usr/share/hspell/hebrew.wgz.sizes.\n",
      "kf.sonnet.clients.hspell: HSpellDict::HSpellDict: Init failed\n",
      "Qt: Session management error: networkIdsList argument is NULL\n"
     ]
    },
    {
     "name": "stdout",
     "output_type": "stream",
     "text": [
      "**Notify** Edit: Editing finished, any further modifications will have no effect\n"
     ]
    }
   ],
   "source": [
    "cfg = getConfig()\n",
    "cfg.edit()"
   ]
  },
  {
   "cell_type": "code",
   "execution_count": 33,
   "id": "1308871d-6c16-43f8-9a5a-a58c265c45be",
   "metadata": {},
   "outputs": [
    {
     "data": {
      "text/html": [
       "<code style=\"font-size:0.9em\">Chain([<span style=\"color:#6666E0\">4C:0.143♩:start=0</span>, <span style=\"color:#6666E0\">4D+:1.5♩:start=0.143</span>])</code><br>\n",
       "        <img style=\"display:inline; padding:10px;\n",
       "margin-top:14px;\n",
       "width:244px\"\n",
       "             src=\"data:image/png;base64,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\"/>"
      ],
      "text/plain": [
       "Chain([4C:0.143♩:start=0, 4D+:1.5♩:start=0.143])"
      ]
     },
     "execution_count": 33,
     "metadata": {},
     "output_type": "execute_result"
    }
   ],
   "source": [
    "ch = Chain([\"4C:1/7:ff\", \"4D+:1.5:p\"])\n",
    "ch.play(sustain=0.3, fade=(0, 0.2))\n",
    "ch"
   ]
  },
  {
   "cell_type": "code",
   "execution_count": null,
   "id": "32a6987e-3e86-473b-9f2c-025b13a69222",
   "metadata": {},
   "outputs": [],
   "source": []
  }
 ],
 "metadata": {
  "kernelspec": {
   "display_name": "Python 3 (ipykernel)",
   "language": "python",
   "name": "python3"
  },
  "language_info": {
   "codemirror_mode": {
    "name": "ipython",
    "version": 3
   },
   "file_extension": ".py",
   "mimetype": "text/x-python",
   "name": "python",
   "nbconvert_exporter": "python",
   "pygments_lexer": "ipython3",
   "version": "3.9.14"
  }
 },
 "nbformat": 4,
 "nbformat_minor": 5
}
