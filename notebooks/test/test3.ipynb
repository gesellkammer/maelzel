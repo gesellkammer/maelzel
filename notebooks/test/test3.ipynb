{
 "cells": [
  {
   "cell_type": "code",
   "execution_count": 1,
   "id": "900d2a82-a716-439f-a675-43bfc1e14cf1",
   "metadata": {},
   "outputs": [
    {
     "name": "stdout",
     "output_type": "stream",
     "text": [
      "csoundengine.magic extension loaded\n",
      "Magics available: %csound, %%csound, %%definstr\n"
     ]
    }
   ],
   "source": [
    "from maelzel.core import *"
   ]
  },
  {
   "cell_type": "code",
   "execution_count": 2,
   "id": "c79a4fee-dc87-41b1-bd6c-2d4ed54c9a55",
   "metadata": {},
   "outputs": [
    {
     "data": {
      "text/html": [
       "<code>Chain([4C:1♩, 4C#:1♩, 4D:1♩, 4D#:1♩, 4E:1♩, 4F:1♩, 4F#:1♩, 4G:1♩, 4G#:1♩, 4A:1♩, …])</code><br>\n",
       "        <img style=\"display:inline; padding:10px;\n",
       "margin-top:14px;\n",
       "width:546px\"\n",
       "             src=\"data:image/png;base64,iVBORw0KGgoAAAANSUhEUgAAAiIAAAAzCAIAAAAlw/RqAAAJLmlDQ1BJQ0MgUHJvZmlsZQAAeJyVlWdQk1kXx+/zPOmFQBJCh1BDkSolgJQQWijSq6hA6J1QRWyIuAIriog0RZBFARdclSJrRRQLi4ICFnSDLALKunEVUUFZcN8ZnfcdP7z/mXvPb/5z5t5zz/lwASCIg2XBy3tiUrrA28mOGRgUzATfKIyflsLx9HQD39W7EQCtxHu638/5rggRkWn85bi4vHL5KYJ0AKDsZdbMSk9Z4aPLTA+P/8JnV1iwXOAy31jh6H957EvOvyz6kuPrzV1+FQoAHCn6Gw7/hv9z74pUOIL02KjIbKZPclR6Vpggkpm20gkel8v0FCRHxSZEflPw/5X8HaVHZqevRG5yyiZBbHRMOvN/DjUyMDQEX2fxxutLjyFG/3/PZ0VfveR6ANhzACD7vnrhlQB07gJA+tFXT225r5R8ADru8DMEmf96qJUNDQiAAuhABigCVaAJdIERMAOWwBY4ABfgAXxBENgA+CAGJAIByAK5YAcoAEVgHzgIqkAtaABNoBWcBp3gPLgCroPb4C4YBo+BEEyCl0AE3oEFCIKwEBmiQTKQEqQO6UBGEBuyhhwgN8gbCoJCoWgoCcqAcqGdUBFUClVBdVAT9At0DroC3YQGoYfQODQD/Q19hBGYBNNhBVgD1ofZMAd2hX3h9XA0nArnwPnwXrgCrodPwh3wFfg2PAwL4ZfwHAIQIsJAlBFdhI1wEQ8kGIlCBMhWpBApR+qRVqQb6UPuIUJkFvmAwqBoKCZKF2WJckb5ofioVNRWVDGqCnUC1YHqRd1DjaNEqM9oMloerYO2QPPQgehodBa6AF2ObkS3o6+hh9GT6HcYDIaBYWHMMM6YIEwcZjOmGHMY04a5jBnETGDmsFisDFYHa4X1wIZh07EF2ErsSewl7BB2EvseR8Qp4YxwjrhgXBIuD1eOa8ZdxA3hpnALeHG8Ot4C74GPwG/Cl+Ab8N34O/hJ/AJBgsAiWBF8CXGEHYQKQivhGmGM8IZIJKoQzYlexFjidmIF8RTxBnGc+IFEJWmTuKQQUgZpL+k46TLpIekNmUzWINuSg8np5L3kJvJV8lPyezGamJ4YTyxCbJtYtViH2JDYKwqeok7hUDZQcijllDOUO5RZcby4hjhXPEx8q3i1+DnxUfE5CZqEoYSHRKJEsUSzxE2JaSqWqkF1oEZQ86nHqFepEzSEpkrj0vi0nbQG2jXaJB1DZ9F59Dh6Ef1n+gBdJEmVNJb0l8yWrJa8IClkIAwNBo+RwChhnGaMMD5KKUhxpCKl9ki1Sg1JzUvLSdtKR0oXSrdJD0t/lGHKOMjEy+yX6ZR5IouS1Zb1ks2SPSJ7TXZWji5nKceXK5Q7LfdIHpbXlveW3yx/TL5ffk5BUcFJIUWhUuGqwqwiQ9FWMU6xTPGi4owSTclaKVapTOmS0gumJJPDTGBWMHuZImV5ZWflDOU65QHlBRWWip9KnkqbyhNVgipbNUq1TLVHVaSmpOaulqvWovZIHa/OVo9RP6Tepz6vwdII0Nit0akxzZJm8Vg5rBbWmCZZ00YzVbNe874WRoutFa91WOuuNqxtoh2jXa19RwfWMdWJ1TmsM7gKvcp8VdKq+lWjuiRdjm6mbovuuB5Dz00vT69T75W+mn6w/n79Pv3PBiYGCQYNBo8NqYYuhnmG3YZ/G2kb8Y2qje6vJq92XL1tddfq18Y6xpHGR4wfmNBM3E12m/SYfDI1MxWYtprOmKmZhZrVmI2y6WxPdjH7hjna3M58m/l58w8WphbpFqct/rLUtYy3bLacXsNaE7mmYc2ElYpVmFWdldCaaR1qfdRaaKNsE2ZTb/PMVtU2wrbRdoqjxYnjnOS8sjOwE9i1281zLbhbuJftEXsn+0L7AQeqg59DlcNTRxXHaMcWR5GTidNmp8vOaGdX5/3OozwFHp/XxBO5mLlscel1Jbn6uFa5PnPTdhO4dbvD7i7uB9zH1qqvTVrb6QE8eB4HPJ54sjxTPX/1wnh5elV7Pfc29M717vOh+Wz0afZ552vnW+L72E/TL8Ovx5/iH+Lf5D8fYB9QGiAM1A/cEng7SDYoNqgrGBvsH9wYPLfOYd3BdZMhJiEFISPrWeuz19/cILshYcOFjZSNYRvPhKJDA0KbQxfDPMLqw+bCeeE14SI+l3+I/zLCNqIsYibSKrI0cirKKqo0ajraKvpA9EyMTUx5zGwsN7Yq9nWcc1xt3Hy8R/zx+KWEgIS2RFxiaOK5JGpSfFJvsmJydvJgik5KQYow1SL1YKpI4CpoTIPS1qd1pdOXP8X+DM2MXRnjmdaZ1Znvs/yzzmRLZCdl92/S3rRn01SOY85Pm1Gb+Zt7cpVzd+SOb+FsqdsKbQ3f2rNNdVv+tsntTttP7CDsiN/xW55BXmne250BO7vzFfK350/sctrVUiBWICgY3W25u/YH1A+xPwzsWb2ncs/nwojCW0UGReVFi8X84ls/Gv5Y8ePS3qi9AyWmJUf2YfYl7RvZb7P/RKlEaU7pxAH3Ax1lzLLCsrcHNx68WW5cXnuIcCjjkLDCraKrUq1yX+ViVUzVcLVddVuNfM2emvnDEYeHjtgeaa1VqC2q/Xg09uiDOqe6jnqN+vJjmGOZx543+Df0/cT+qalRtrGo8dPxpOPCE94nepvMmpqa5ZtLWuCWjJaZkyEn7/5s/3NXq25rXRujregUOJVx6sUvob+MnHY93XOGfab1rPrZmnZae2EH1LGpQ9QZ0ynsCuoaPOdyrqfbsrv9V71fj59XPl99QfJCyUXCxfyLS5dyLs1dTrk8eyX6ykTPxp7HVwOv3u/16h245nrtxnXH61f7OH2XbljdOH/T4ua5W+xbnbdNb3f0m/S3/2byW/uA6UDHHbM7XXfN73YPrhm8OGQzdOWe/b3r93n3bw+vHR4c8Rt5MBoyKnwQ8WD6YcLD148yHy083j6GHit8Iv6k/Kn80/rftX5vE5oKL4zbj/c/83n2eII/8fKPtD8WJ/Ofk5+XTylNNU0bTZ+fcZy5+2Ldi8mXKS8XZgv+lPiz5pXmq7N/2f7VLwoUTb4WvF76u/iNzJvjb43f9sx5zj19l/huYb7wvcz7Ex/YH/o+BnycWshaxC5WfNL61P3Z9fPYUuLS0j9CLJC+ERlPpwAADz5JREFUeJztnV1oI9X7x0/+dHcNtHUScbeuF21Suyi+0URaWcQtzBRBL6TQtxtdwU321r2ZRNAL8aaT+xWT3HhpkwVBqDdJILtoWUsm6aoX3W2SJmBpLJjpNkICqeR/8fA7jHmdNPOSNs/najJJznNeZubMOed7nsdUq9UIgiAIgmjD/xmdAQRBEOQ8o7SbkSTJ6XQGAgFNc4MgCIKcM0xKJs0kSeI4LplMEkIymYzdbtc+YwiCIMh5QNFoxuPxQB9DCFlbW9MyPwiCIMi5ovNoRhTFt956S34GBzQIgiCIQjqPZvx+PxwwDBOJRFwuFz2DIAiiOtls1uPx6Gw0EAhEo1GdjQ4InbsZqHqGYURR5DhucnIyHA5rnzEEQQaUbDbr8/l0NhoKhSKRiM5GB4TO3cze3h4hJBwOw0SZ0+nc29sTRVHzrCEIgiBnH0USAJZlOY6Tn8FuBkHUIpvN6n9D4QQRohuKupnl5WV6DOPKTCajVY4QZMDw+/36L0XMz89jT4Pog6JuRq4ry2azmmUGQRAEOW8MiaIYCoXa/ygYDMIgplKp3Lt3jxDy66+/6v/+hSDnkng8/tdff+l/Q9H7ut/I5XKEEJ0rJJ1Ol0olfKypi9Vq9Xg8Qx1/d+nSJXr88OFDOBgfH+/W3s7OTqVSYRimUqkUCoW5ubluU0DOB7lcLhQKLS8vT0xMGJ2XJqyvr1+5cgWvzx6Jx+NbW1s8zxudEUQn1tfXCSErKytwg9PzHo+H1DrBsqzf76/VaplMhmEYQojNZuv4r6bpUMOQIDKYwBt0JBIxOiPNYVmW53k9LfI8z7KsnhZrtZrWTQAdzOn+C1eIuvnpiCrt7vf7B/bhxrIsXMZ1Q+RardZ5bcbpdCYSCeiUjo6OCCFer7eXTo/n+TrdGoIgyDkgFAp1XIMYQDp3M6BIEQQBVmUcDofb7T6FpVgsRghxuVxer9fpdJ4iBUQfTCZTn2iQotGoyWQyOhcI0tcY4jShKzp3MxzHSZJERzCniwUAjgNYlg0EAnRUhCDIgBAIBDCMiEYY4jShK4YkSWq/NezJkycnJydwfOvWLUmSTvGq+913301NTd28efPatWu7u7sEd4f1N9Qht3aJKzEBv9H5UikWi7lcTk+juVyuWCzqf0do2sqgFqOF+vbbb8l/t0a04ey2OwimdM65IdXVSLFYhGw0XlemUCjUxhVmtVrd3NyEbubq1auvvPLKKcwfHx+nUqmZmZlyuZxKpeCkXBFwVkgmk6Ojoy+99JJuFovFYiqV0rmuYrHY9PS01WrVKH0olBIThhRf/1ZOp9PHx8cOh0M3i0T7Vk6n0/l8nrYdPHoUllGtdi+Xy/v7+wqbUpV2T6fThBA9Lx5i0G3SCG1iyA89X6vV2sk5isWi/LJIJBKnViDAf+UKhNMlZSz6a5AMkdwQjTVIypVmA6I4GgSlGZUhKUGtdu8qHVXaned5nR8Rtf8W00AB5ymVZjSamc1mY1n2dIMyj8dz+/ZtXPNHBgpUHNVht9sxSJWmOJ1Ok8nUnz6EWnYzgiAEg0FCCMMw4XB4fn4eZM3dIoqi3+/nOI7jOLkcAs6cIkF5CujBE0Eo/aw4slgsFovF6FzoRCAQWFpa8ng8kiQ1fitJUjgc9ng8avUH8CBts9KmusVuae4FIJvN0mDM4XAYxiKn2y4jL1g0Gp2fn288fzpisVjTVkSQwQQUR4IgGJ2RfiQajeqzXS8QCIAhn88nSZJcXydJ0traGlWF+Xw+l8ullgCP5/nJycm6hXZNLSqn+WjG7XaD5phupXQ6nQzD9Ng3yOfs+nBkhyBqgXNE/YPOs0l2uz0cDsMWDpgQAiRJ4jiuTnkcDAbVckYsCILb7ZYPGbW2qJwmSrNyuby5uUkIGRkZmZmZgZPHx8e///77hQsXrFar2Wy+fPnyhQsXlJspl8vJZPLk5OSZZ56p1WonJyf//vuv1Wp9/fXXT511raUyjaDSTBUGQWnWleJILaVZV9Wls9IMKsRsNheLRbPZPD4+3vgAqVarxWKxVCoNDQ1lMhlV2h12hQON5aUWrVZrLpdTpd1pU8ZisaGhoRs3btCv8vl841+uX79uNpt7MQq2oLqSyeTExAQUU1OLjbRRmg1xHFc3Z0p74C+++MLhcJRKpe+//x5aq1KplEolQsiff/65urq6srKiPBM8z6dSqX/++YcQ8tlnn33wwQc9lioWi62uruopA+V5fmpqyuVy6WYxmUymUqkevfsQQjY2NgghCutc64qFQikxoVbxu0KVVoabSGEiwWBwd3e392LKqyuZTLavXq1bORgM5vN5WqhgMPjTTz85HI7Lly8/ePDg1VdfvXPnDv0xPGTqRBOqtHssFlteXr569erGxoa8vHUW8/n8c889Nzs723u7Q1NubGzEYrFPPvkEHpIbGxvw7l7H9PT0V1991YtFIBaLQXXxPA/FPDg4+PTTT7Wz2AhoC71eL1yH//muqS6NEELVh23qvSvpHn034Xk+k8n0rp8jurtfPLuC5q7kpFpX7CAImrsStqolaIbqok/S9jWsdSvXCZp5nnc4HNS0/Ku6jRMUtZ4ScMCyLC1vK4tut7tHc9CUiUSCYRj5BdB0ZGaz2VQpY61ZMZuGeFDRYiPdCZph4AIRM6PRKLyXLS4uQs/P8zzteHw+n/LpTvRphgwabRRHWoh/+lxxJJ81AV/vwNramqb+CBppZVEVnV42m11aWgqHw3VaDLoAAbhcLlEUVVzAg5ZtI75V3aJyWsabWVpaIv9btOd5HqqMZdnJyUm32728vLy0tHR0dARi5Y5m5D7NqL6gHwDRxemcgSJIG1opjhrFP2+88cbzzz+vll2FiiO1zHUL1IN8Qqyp8IllWe0eiNpZtFqt4I6r8U16bm7um2++CYVCk5OTHMepXjoYGNSRSCS0s6icJt2MzWbb29uDVw/oG2m37HQ6M5kMIYTjOEEQbt++DW6bOxKJRBwORyAQcDqdOr+5tAeGaOe+m0HVk/6A4ogQYjKZgsEgPNpA/FN3C/z222/Xr19Xyy7crfJ1jqZGCSEHBwdqGVWIKIoej4fnefm4ofGl02azaSq61c6ix+NZWlpqdbs5nU5NJ3IcDkedikxriwppEqT54sWL5H/jR1jwp9fE9vb248eP6S+fffbZp0+frqystA+DWCgU1tfXb968+fnnn9NrXZXxae9RZkEAozAzaoVxPTo62t7eVhKfUa1otY8ePeoqHU3D90KhlJjQLVhvpVLJ5XKFQmFiYkKVVo7H43///TdN5NKlS3Acj8ebvma99tprahUT0kmn07SGWxn9+eef//jjD1WMNhKPx4ms7eLx+OPHj1mWfe+998h/23RmZmZra4t+fPPNN2/cuNHG0WK3fPjhh4VC4dGjR7RCtLbYiNYRoD/++OOxsTFCyPr6OhRT/0DX9FkKpuU0Gc2Mj4/TvmRiYmJra6tQKEAZGIYpFAr0l2NjY0+fPu1o/v79+ysrKwzD9M9cmbEcHR1tbW1hGOB+oFKpPHz4kD50tra2hoeHr1y5olb629vbhJC3334bPkJ/X8f4+Lh8rUJ1DDFah9lsrlQqKysr8CSRMzc39/LLL+/s7DAMMzExoXqufvzxR50t6g+t1Xw+Pzs7a2xmmtAoGCgWiwzDUMd/i4uLIIWmkgZ6vLi42DQFOTzPh0IhOFbXdSZRQyrjcrlcLpfCH6ulNFMuoFJLatWV8EmVim1D/yjN9FccNdpSV/xDmgmrtDbalMYgzVpbbAqU1+FwMAxjrFtJfUSq9M7SX6XZndLMYrG43e61tTWQxwQCAfmWZpvNRsUMoih2lJlr59NMFdDVEmC416OmmdF6GU9/xRE8fClaiH8aFUc6GFWCIQuE4BteFMV+WKIYWJorzQRBEEXR7XYHAgGLxRIOh+nKkt1uh2NBEORRNVuhnU+z84Hhrpb6R4PUmBmt0V9xJAjC8vKypuKfRsWRDkb7Flr/dAPj+Ybn+T5s35aC5nA4DAMOQRDklyaIzQRB8Hq9fr+/qyLV+TTrh9GMgVDRXSQS0aEqlAufiBEapDaZyWazGt05hiiOdBD/9K3iCNGa/nSc2i5IM8QCWFhYGB4efvfdd+FkKpXa3d2dmpq6e/eu3W5XOCg5ODj4+uuvS6XS9PQ0nFlYWHA4HF9++WUvue99UgVEEXfu3Ekmk2NjY6urqyMjI/IflEqlZDL55MkTp9OpbvhemvnGUlCjo6OjRI2RXy6Xq9VqNJ3h4WE4DgaDrepQu+FmqyDNrTLzyy+/aOTsD97x6cf333//1q1b2WxWLXP6+yi8e/futWvXCCE8zxu7c6AuSHM/YGCF6B/5W//IzacP0kwIqVarh4eH5XIZPpbL5Wq1qnNA2aao4vsvnU7v7+9DIoeHh/JA1NVqNZ/Py33PXbx48YUXXlDFdWYsFhsfHzebzRBElpai0ShRI6A19ei3v7+/s7MzOTkJGvT79+9DBG45FotF0/atVqulUmlkZKTOeaIhmTk+Pj48PDSbzeATVjtDOqO/Y9k6yuVyuVw2MAN1pNPpF1980agmHgSvu8fHx4SQ0dFRuMHh5PDw8IMHD7qWIkQiEf0DyjaFqCGIauVqSTsNErUFB0pcLfUu0TFK+NQVfZWZs44qdweiFmfXHaIqtIyeKUmSIAh9Ij3SlKaullppkN555x3tcqKpcyejhE/K6avMIAiiFi0lAHQx1ufzhUIhcHFmOKDeSSQSVLGmFnWullppkD766CN17TbmodHomRY+KaevMnPW6U/FETKgNB3j1Lmfkc+S+f1+QybNisVi3dsuUWnSbEC20eHsE4IYBU6adUcikdBTGRmNRqPR6A8//DA7O9u4nWJzc7ON42uFDMg2Ony3RRDEGJp2PuCGmSJfo2YYBjbW6oBCZ3a9vKevra21KlEikeB53u/3azEOaFq9WhtFEMQQBnw003xtxm63sywriqLX65XvMnO73RzH6TaacbvdYHphYQGiO8uZnp72+XwWi6WX93TcRocgCKIpHbwA+P1+eI5LkuT3+2EZWc/8wfb4xj7GZrPdu3dPlYkgo1wtQXcy4K4QEAQ595hqzVaeAXAwBbs6HQ4Hx3Fer9cQR5Mej0e+MONyuQRBOB8uL00mkz7OZhAEQQyhXTfTV0D4tfMndcVuBkGQ803LSbN+AxctEARBziJdC5oRdcFtdAiCnG/+H/P0bQDQvioAAAAAAElFTkSuQmCC\"/>"
      ],
      "text/plain": [
       "Chain([4C:1♩, 4C#:1♩, 4D:1♩, 4D#:1♩, 4E:1♩, 4F:1♩, 4F#:1♩, 4G:1♩, 4G#:1♩, 4A:1♩, …])"
      ]
     },
     "execution_count": 2,
     "metadata": {},
     "output_type": "execute_result"
    }
   ],
   "source": [
    "scale = Chain(Note(n, 1) for n in range(60, 72))\n",
    "scale"
   ]
  },
  {
   "cell_type": "code",
   "execution_count": 3,
   "id": "79cc525a-b85c-45df-a02f-753338e07049",
   "metadata": {},
   "outputs": [
    {
     "name": "stderr",
     "output_type": "stream",
     "text": [
      "\n",
      "\n",
      "--Csound version 6.18 (double samples) May 25 2022\n",
      "[commit: 91bdd78bd0a19aacb1ae2f9e08849f79302ff919]\n",
      "\u001b[mlibsndfile-1.0.31\n",
      "\u001b[msr = 48000.0,\u001b[m kr = 750.000,\u001b[m ksmps = 64\n",
      "\u001b[m0dBFS level = 1.0,\u001b[m A4 tuning = 442.0\n",
      "\u001b[maudio buffered in 512 sample-frame blocks\n",
      "\u001b[mreading 2048-byte blks of shorts from adc:Built-in Audio Analog Stereo: (RAW)\n",
      "writing 1024 sample blks of 64-bit floats to dac:Built-in Audio Analog Stereo:\n",
      "SECTION 1:\n"
     ]
    },
    {
     "data": {
      "application/vnd.jupyter.widget-view+json": {
       "model_id": "baf1175cc1834266bef97a8054345ddd",
       "version_major": 2,
       "version_minor": 0
      },
      "text/plain": [
       "Button(description='Stop', style=ButtonStyle())"
      ]
     },
     "metadata": {},
     "output_type": "display_data"
    },
    {
     "data": {
      "application/vnd.jupyter.widget-view+json": {
       "model_id": "977da41881444b9783c344612f6a14bd",
       "version_major": 2,
       "version_minor": 0
      },
      "text/plain": [
       "Output()"
      ]
     },
     "metadata": {},
     "output_type": "display_data"
    },
    {
     "data": {
      "text/html": [
       "<small>SynthGroup - start: 0.136, dur: 12.000</small>\n",
       "<p>instr: <strong style=\"color:MediumSeaGreen\">preset._piano</strong> - <b>12</b> synths</p>\n",
       "<table><thead><tr><th style=\"text-align:left\">p1</th><th style=\"text-align:left\">start</th><th style=\"text-align:left\">dur</th><th style=\"text-align:left\">4</th><th style=\"text-align:left\">5:idataidx_</th><th style=\"text-align:left\">6:inumbps</th><th style=\"text-align:left\">7:ibplen</th><th style=\"text-align:left\">8:igain_</th><th style=\"text-align:left\">9:ichan_</th><th style=\"text-align:left\">10:ipos</th><th style=\"text-align:left\">11:ifade0</th><th style=\"text-align:left\">12:ifade1</th><th style=\"text-align:left\">13:ipchintrp_</th><th style=\"text-align:left\">14:ifadekind_</th><th style=\"text-align:left\">15</th><th style=\"text-align:left\">16</th><th style=\"text-align:left\">...</th><th style=\"text-align:left\">17</th><th style=\"text-align:left\">...</th><th style=\"text-align:left\">18</th><th style=\"text-align:left\">...</th><th style=\"text-align:left\">19</th><th style=\"text-align:left\">...</th><th style=\"text-align:left\">20</th></tr></thead><tbody><tr><td style=\"text-align:left\">1001.0002 <b>𝍪</b></td><td style=\"text-align:left\">0.136</td><td style=\"text-align:left\">1.000</td><td style=\"text-align:left\">0</td><td style=\"text-align:left\">15</td><td style=\"text-align:left\">2</td><td style=\"text-align:left\">3</td><td style=\"text-align:left\">1</td><td style=\"text-align:left\">1</td><td style=\"text-align:left\">-1</td><td style=\"text-align:left\">0.02</td><td style=\"text-align:left\">0.02</td><td style=\"text-align:left\">0</td><td style=\"text-align:left\">1</td><td style=\"text-align:left\">0</td><td style=\"text-align:left\">...</td></tr><tr><td style=\"text-align:left\">1001.0003 <b>𝍪</b></td><td style=\"text-align:left\">1.136</td><td style=\"text-align:left\">1.000</td><td style=\"text-align:left\">0</td><td style=\"text-align:left\">15</td><td style=\"text-align:left\">2</td><td style=\"text-align:left\">3</td><td style=\"text-align:left\">1</td><td style=\"text-align:left\">1</td><td style=\"text-align:left\">-1</td><td style=\"text-align:left\">0.02</td><td style=\"text-align:left\">0.02</td><td style=\"text-align:left\">0</td><td style=\"text-align:left\">1</td><td style=\"text-align:left\">0</td><td style=\"text-align:left\">...</td></tr><tr><td style=\"text-align:left\">1001.0004 <b>𝍪</b></td><td style=\"text-align:left\">2.136</td><td style=\"text-align:left\">1.000</td><td style=\"text-align:left\">0</td><td style=\"text-align:left\">15</td><td style=\"text-align:left\">2</td><td style=\"text-align:left\">3</td><td style=\"text-align:left\">1</td><td style=\"text-align:left\">1</td><td style=\"text-align:left\">-1</td><td style=\"text-align:left\">0.02</td><td style=\"text-align:left\">0.02</td><td style=\"text-align:left\">0</td><td style=\"text-align:left\">1</td><td style=\"text-align:left\">0</td><td style=\"text-align:left\">...</td></tr><tr><td style=\"text-align:left\">1001.0005 <b>𝍪</b></td><td style=\"text-align:left\">3.136</td><td style=\"text-align:left\">1.000</td><td style=\"text-align:left\">0</td><td style=\"text-align:left\">15</td><td style=\"text-align:left\">2</td><td style=\"text-align:left\">3</td><td style=\"text-align:left\">1</td><td style=\"text-align:left\">1</td><td style=\"text-align:left\">-1</td><td style=\"text-align:left\">0.02</td><td style=\"text-align:left\">0.02</td><td style=\"text-align:left\">0</td><td style=\"text-align:left\">1</td><td style=\"text-align:left\">0</td><td style=\"text-align:left\">...</td></tr><tr><td style=\"text-align:left\">...</td></tr></tbody></table>"
      ],
      "text/plain": [
       "SynthGroup(n=12)\n",
       "    Synth(𝍪 preset._piano:1001.0002, p4=0 idataidx_:5=15 inumbps:6=2 ibplen:7=3 igain_:8=1 ichan_:9=1 ipos:10=-1 ifade0:11=0.02 ifade1:12=0.02 ipchintrp_:13=0 ifadekind_:14=1 p15=0 p16=60 ...)\n",
       "    Synth(𝍪 preset._piano:1001.0003, p4=0 idataidx_:5=15 inumbps:6=2 ibplen:7=3 igain_:8=1 ichan_:9=1 ipos:10=-1 ifade0:11=0.02 ifade1:12=0.02 ipchintrp_:13=0 ifadekind_:14=1 p15=0 p16=61 ...)\n",
       "    Synth(𝍪 preset._piano:1001.0004, p4=0 idataidx_:5=15 inumbps:6=2 ibplen:7=3 igain_:8=1 ichan_:9=1 ipos:10=-1 ifade0:11=0.02 ifade1:12=0.02 ipchintrp_:13=0 ifadekind_:14=1 p15=0 p16=62 ...)\n",
       "    Synth(𝍪 preset._piano:1001.0005, p4=0 idataidx_:5=15 inumbps:6=2 ibplen:7=3 igain_:8=1 ichan_:9=1 ipos:10=-1 ifade0:11=0.02 ifade1:12=0.02 ipchintrp_:13=0 ifadekind_:14=1 p15=0 p16=63 ...)\n",
       "    Synth(𝍪 preset._piano:1001.0006, p4=0 idataidx_:5=15 inumbps:6=2 ibplen:7=3 igain_:8=1 ichan_:9=1 ipos:10=-1 ifade0:11=0.02 ifade1:12=0.02 ipchintrp_:13=0 ifadekind_:14=1 p15=0 p16=64 ...)\n",
       "    Synth(𝍪 preset._piano:1001.0007, p4=0 idataidx_:5=15 inumbps:6=2 ibplen:7=3 igain_:8=1 ichan_:9=1 ipos:10=-1 ifade0:11=0.02 ifade1:12=0.02 ipchintrp_:13=0 ifadekind_:14=1 p15=0 p16=65 ...)\n",
       "    Synth(𝍪 preset._piano:1001.0008, p4=0 idataidx_:5=15 inumbps:6=2 ibplen:7=3 igain_:8=1 ichan_:9=1 ipos:10=-1 ifade0:11=0.02 ifade1:12=0.02 ipchintrp_:13=0 ifadekind_:14=1 p15=0 p16=66 ...)\n",
       "    Synth(𝍪 preset._piano:1001.0009, p4=0 idataidx_:5=15 inumbps:6=2 ibplen:7=3 igain_:8=1 ichan_:9=1 ipos:10=-1 ifade0:11=0.02 ifade1:12=0.02 ipchintrp_:13=0 ifadekind_:14=1 p15=0 p16=67 ...)\n",
       "    Synth(𝍪 preset._piano:1001.001, p4=0 idataidx_:5=15 inumbps:6=2 ibplen:7=3 igain_:8=1 ichan_:9=1 ipos:10=-1 ifade0:11=0.02 ifade1:12=0.02 ipchintrp_:13=0 ifadekind_:14=1 p15=0 p16=68 ...)\n",
       "    Synth(𝍪 preset._piano:1001.0011, p4=0 idataidx_:5=15 inumbps:6=2 ibplen:7=3 igain_:8=1 ichan_:9=1 ipos:10=-1 ifade0:11=0.02 ifade1:12=0.02 ipchintrp_:13=0 ifadekind_:14=1 p15=0 p16=69 ...)\n",
       "    Synth(𝍪 preset._piano:1001.0012, p4=0 idataidx_:5=15 inumbps:6=2 ibplen:7=3 igain_:8=1 ichan_:9=1 ipos:10=-1 ifade0:11=0.02 ifade1:12=0.02 ipchintrp_:13=0 ifadekind_:14=1 p15=0 p16=70 ...)\n",
       "    Synth(𝍪 preset._piano:1001.0013, p4=0 idataidx_:5=15 inumbps:6=2 ibplen:7=3 igain_:8=1 ichan_:9=1 ipos:10=-1 ifade0:11=0.02 ifade1:12=0.02 ipchintrp_:13=0 ifadekind_:14=1 p15=0 p16=71 ...)"
      ]
     },
     "execution_count": 3,
     "metadata": {},
     "output_type": "execute_result"
    }
   ],
   "source": [
    "scale.play()\n"
   ]
  },
  {
   "cell_type": "code",
   "execution_count": 4,
   "id": "b153c41c-38ae-4a8b-a13e-c94a66a197f9",
   "metadata": {},
   "outputs": [],
   "source": [
    "with ScoreStruct(timesig=(4, 4), quarterTempo=120):\n",
    "    scale.play()\n"
   ]
  }
 ],
 "metadata": {
  "kernelspec": {
   "display_name": "Python 3 (ipykernel)",
   "language": "python",
   "name": "python3"
  },
  "language_info": {
   "codemirror_mode": {
    "name": "ipython",
    "version": 3
   },
   "file_extension": ".py",
   "mimetype": "text/x-python",
   "name": "python",
   "nbconvert_exporter": "python",
   "pygments_lexer": "ipython3",
   "version": "3.9.7"
  }
 },
 "nbformat": 4,
 "nbformat_minor": 5
}
