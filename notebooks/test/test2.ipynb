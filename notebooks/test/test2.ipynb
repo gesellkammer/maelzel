{
 "cells": [
  {
   "cell_type": "code",
   "execution_count": 1,
   "id": "061be262-64c4-43f3-9f8e-50a6a2799949",
   "metadata": {},
   "outputs": [
    {
     "name": "stdout",
     "output_type": "stream",
     "text": [
      "csoundengine.magic extension loaded\n",
      "Magics available: %csound, %%csound, %%definstr\n"
     ]
    }
   ],
   "source": [
    "from maelzel.core import *\n",
    "from pitchtools import *"
   ]
  },
  {
   "cell_type": "code",
   "execution_count": 4,
   "id": "cfe68b09-7754-406c-acc7-c5fbb605b445",
   "metadata": {},
   "outputs": [],
   "source": [
    "n = Note(60, 2)\n",
    "r = n.rec(\"~/tmp/foo.ogg\")"
   ]
  },
  {
   "cell_type": "code",
   "execution_count": 3,
   "id": "637c65a4-063c-429e-b536-e7d7a0238938",
   "metadata": {},
   "outputs": [
    {
     "data": {
      "text/plain": [
       "'/home/em/tmp/foo.csd'"
      ]
     },
     "execution_count": 3,
     "metadata": {},
     "output_type": "execute_result"
    }
   ],
   "source": [
    "r.writeCsd(\"/home/em/tmp/foo.csd\")"
   ]
  },
  {
   "cell_type": "code",
   "execution_count": 2,
   "id": "84d9ec18-cb6b-486f-adfa-a44ba64bec3e",
   "metadata": {},
   "outputs": [
    {
     "data": {
      "text/html": [
       "<code>Chain([4C:262Hz:1♩:start=0:gliss=True, 4F:350Hz:1.6♩:start=1:gliss=True, 4E-:321Hz:0.5♩:start=2.6, 4D#:312Hz:0.1♩:start=3.1])</code><br>\n",
       "        <img style=\"display:inline; padding:10px;\n",
       "margin-top:14px;\n",
       "width:279px\"\n",
       "             src=\"data:image/png;base64,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\"/>"
      ],
      "text/plain": [
       "Chain([4C:262Hz:1♩:start=0:gliss=True, 4F:350Hz:1.6♩:start=1:gliss=True, 4E-:321Hz:0.5♩:start=2.6, 4D#:312Hz:0.1♩:start=3.1])"
      ]
     },
     "execution_count": 2,
     "metadata": {},
     "output_type": "execute_result"
    }
   ],
   "source": [
    "a = Note(60, 1, gliss=True, dynamic='p')\n",
    "b = Note(65, 1.6, gliss=True)\n",
    "c = Note(63.5, 0.5, dynamic='mf')\n",
    "d = Note(63, 0.1)\n",
    "b.addSpanner(\"<\", c)\n",
    "c.addSpanner(\">\", d)\n",
    "ch = Chain((a, b, c, d))\n",
    "ch"
   ]
  },
  {
   "cell_type": "code",
   "execution_count": 2,
   "id": "c22612ab-9778-457d-a78e-b823422b8c5b",
   "metadata": {},
   "outputs": [
    {
     "data": {
      "text/html": [
       "<code>Chain([4C:262Hz:1♩:start=0:gliss=True, 4F:350Hz:2♩:start=1, 4D#:312Hz:0.0156♩:start=3, Rest(dur=1/2)])</code><br>\n",
       "        <img style=\"display:inline; padding:10px;\n",
       "margin-top:14px;\n",
       "width:188px\"\n",
       "             src=\"data:image/png;base64,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\"/>"
      ],
      "text/plain": [
       "Chain([4C:262Hz:1♩:start=0:gliss=True, 4F:350Hz:2♩:start=1, 4D#:312Hz:0.0156♩:start=3, Rest(dur=1/2)])"
      ]
     },
     "execution_count": 2,
     "metadata": {},
     "output_type": "execute_result"
    }
   ],
   "source": [
    "a = Note(60, 1, dynamic='p', gliss=True)\n",
    "b = Note(65, 2)\n",
    "b2 = Note(63, 1/64).setSymbol('articulation', 'accent')\n",
    "c = Rest(0.5)\n",
    "a.addSpanner(\"<\", b)\n",
    "a.addSpanner('slur', b2)\n",
    "b.addSpanner(\">\", c)\n",
    "ch = Chain((a, b, b2, c))\n",
    "# ch.write('~/tmp/foo.ly')\n",
    "ch"
   ]
  },
  {
   "cell_type": "code",
   "execution_count": 3,
   "id": "b0fdef86-a5cd-45ec-9c11-abb5768e8a93",
   "metadata": {},
   "outputs": [
    {
     "data": {
      "text/plain": [
       "[CsoundEvent(delay=0, dur=3, gain=1, chan=1, fade=(0.02, 0.02), instr=sin)\n",
       " bps 0.000s: 60 0.0203892\n",
       "     1.000s: 65 0.0203892\n",
       "     3.000s: 65 0.0203892,\n",
       " CsoundEvent(delay=3, dur=0.0156, gain=1, chan=1, fade=(0.02, 0.015625), instr=sin)\n",
       " bps 0.000s: 63 0.0203892\n",
       "     0.016s: 63 0.0203892]"
      ]
     },
     "execution_count": 3,
     "metadata": {},
     "output_type": "execute_result"
    }
   ],
   "source": [
    "ch.events()"
   ]
  },
  {
   "cell_type": "code",
   "execution_count": 4,
   "id": "34eb3f50-97be-4d89-bff2-2b6ab926b110",
   "metadata": {},
   "outputs": [
    {
     "name": "stderr",
     "output_type": "stream",
     "text": [
      "\n",
      "\n",
      "--Csound version 6.18 (double samples) May 25 2022\n",
      "[commit: 91bdd78bd0a19aacb1ae2f9e08849f79302ff919]\n",
      "\u001b[mlibsndfile-1.0.31\n",
      "\u001b[msr = 44100.0,\u001b[m kr = 689.062,\u001b[m ksmps = 64\n",
      "\u001b[m0dBFS level = 1.0,\u001b[m A4 tuning = 442.0\n",
      "\u001b[maudio buffered in 256 sample-frame blocks\n",
      "\u001b[mreading 1024-byte blks of shorts from adc:system:capture (RAW)\n",
      "writing 512 sample blks of 64-bit floats to dac:system:playback\n",
      "SECTION 1:\n",
      "\u001b[m"
     ]
    },
    {
     "ename": "AssertionError",
     "evalue": "",
     "output_type": "error",
     "traceback": [
      "\u001b[0;31m---------------------------------------------------------------------------\u001b[0m",
      "\u001b[0;31mAssertionError\u001b[0m                            Traceback (most recent call last)",
      "\u001b[0;32m/tmp/ipykernel_64400/2255636598.py\u001b[0m in \u001b[0;36m<module>\u001b[0;34m\u001b[0m\n\u001b[0;32m----> 1\u001b[0;31m \u001b[0mc\u001b[0m\u001b[0;34m.\u001b[0m\u001b[0mplay\u001b[0m\u001b[0;34m(\u001b[0m\u001b[0;34m)\u001b[0m\u001b[0;34m\u001b[0m\u001b[0;34m\u001b[0m\u001b[0m\n\u001b[0m",
      "\u001b[0;32m~/dev/python/maelzel/maelzel/core/musicobjbase.py\u001b[0m in \u001b[0;36mplay\u001b[0;34m(self, instr, delay, params, gain, chan, pitchinterpol, fade, fadeshape, position, start, end, whenfinished, extrasustain, workspace)\u001b[0m\n\u001b[1;32m    802\u001b[0m                 \u001b[0mrenderer\u001b[0m\u001b[0;34m.\u001b[0m\u001b[0mschedEvent\u001b[0m\u001b[0;34m(\u001b[0m\u001b[0mev\u001b[0m\u001b[0;34m)\u001b[0m\u001b[0;34m\u001b[0m\u001b[0;34m\u001b[0m\u001b[0m\n\u001b[1;32m    803\u001b[0m         \u001b[0;32melse\u001b[0m\u001b[0;34m:\u001b[0m\u001b[0;34m\u001b[0m\u001b[0;34m\u001b[0m\u001b[0m\n\u001b[0;32m--> 804\u001b[0;31m             \u001b[0;32mreturn\u001b[0m \u001b[0mplay\u001b[0m\u001b[0;34m.\u001b[0m\u001b[0mplayEvents\u001b[0m\u001b[0;34m(\u001b[0m\u001b[0mevents\u001b[0m\u001b[0;34m,\u001b[0m \u001b[0mwhenfinished\u001b[0m\u001b[0;34m=\u001b[0m\u001b[0mwhenfinished\u001b[0m\u001b[0;34m)\u001b[0m\u001b[0;34m\u001b[0m\u001b[0;34m\u001b[0m\u001b[0m\n\u001b[0m\u001b[1;32m    805\u001b[0m \u001b[0;34m\u001b[0m\u001b[0m\n\u001b[1;32m    806\u001b[0m     def rec(self, outfile: str = None, sr: int = None, quiet: bool = None,\n",
      "\u001b[0;32m~/dev/python/maelzel/maelzel/core/play.py\u001b[0m in \u001b[0;36mplayEvents\u001b[0;34m(events, whenfinished)\u001b[0m\n\u001b[1;32m    768\u001b[0m                               whenfinished=ev.whenfinished)\n\u001b[1;32m    769\u001b[0m         \u001b[0msynths\u001b[0m\u001b[0;34m.\u001b[0m\u001b[0mappend\u001b[0m\u001b[0;34m(\u001b[0m\u001b[0msynth\u001b[0m\u001b[0;34m)\u001b[0m\u001b[0;34m\u001b[0m\u001b[0;34m\u001b[0m\u001b[0m\n\u001b[0;32m--> 770\u001b[0;31m     \u001b[0mgroup\u001b[0m \u001b[0;34m=\u001b[0m \u001b[0mcsoundengine\u001b[0m\u001b[0;34m.\u001b[0m\u001b[0msynth\u001b[0m\u001b[0;34m.\u001b[0m\u001b[0mSynthGroup\u001b[0m\u001b[0;34m(\u001b[0m\u001b[0msynths\u001b[0m\u001b[0;34m)\u001b[0m\u001b[0;34m\u001b[0m\u001b[0;34m\u001b[0m\u001b[0m\n\u001b[0m\u001b[1;32m    771\u001b[0m     \u001b[0;32mreturn\u001b[0m \u001b[0mgroup\u001b[0m\u001b[0;34m\u001b[0m\u001b[0;34m\u001b[0m\u001b[0m\n\u001b[1;32m    772\u001b[0m \u001b[0;34m\u001b[0m\u001b[0m\n",
      "\u001b[0;32m~/dev/python/csoundengine/csoundengine/synth.py\u001b[0m in \u001b[0;36m__init__\u001b[0;34m(self, synths, autostop)\u001b[0m\n\u001b[1;32m    809\u001b[0m \u001b[0;34m\u001b[0m\u001b[0m\n\u001b[1;32m    810\u001b[0m     \u001b[0;32mdef\u001b[0m \u001b[0m__init__\u001b[0m\u001b[0;34m(\u001b[0m\u001b[0mself\u001b[0m\u001b[0;34m,\u001b[0m \u001b[0msynths\u001b[0m\u001b[0;34m:\u001b[0m \u001b[0mlist\u001b[0m\u001b[0;34m[\u001b[0m\u001b[0mSynth\u001b[0m\u001b[0;34m]\u001b[0m\u001b[0;34m,\u001b[0m \u001b[0mautostop\u001b[0m\u001b[0;34m=\u001b[0m\u001b[0;32mFalse\u001b[0m\u001b[0;34m)\u001b[0m \u001b[0;34m->\u001b[0m \u001b[0;32mNone\u001b[0m\u001b[0;34m:\u001b[0m\u001b[0;34m\u001b[0m\u001b[0;34m\u001b[0m\u001b[0m\n\u001b[0;32m--> 811\u001b[0;31m         \u001b[0;32massert\u001b[0m \u001b[0misinstance\u001b[0m\u001b[0;34m(\u001b[0m\u001b[0msynths\u001b[0m\u001b[0;34m,\u001b[0m \u001b[0mlist\u001b[0m\u001b[0;34m)\u001b[0m \u001b[0;32mand\u001b[0m \u001b[0mlen\u001b[0m\u001b[0;34m(\u001b[0m\u001b[0msynths\u001b[0m\u001b[0;34m)\u001b[0m\u001b[0;34m>\u001b[0m\u001b[0;36m0\u001b[0m\u001b[0;34m\u001b[0m\u001b[0;34m\u001b[0m\u001b[0m\n\u001b[0m\u001b[1;32m    812\u001b[0m         \u001b[0mpriority\u001b[0m \u001b[0;34m=\u001b[0m \u001b[0mmax\u001b[0m\u001b[0;34m(\u001b[0m\u001b[0msynth\u001b[0m\u001b[0;34m.\u001b[0m\u001b[0mpriority\u001b[0m \u001b[0;32mfor\u001b[0m \u001b[0msynth\u001b[0m \u001b[0;32min\u001b[0m \u001b[0msynths\u001b[0m\u001b[0;34m)\u001b[0m\u001b[0;34m\u001b[0m\u001b[0;34m\u001b[0m\u001b[0m\n\u001b[1;32m    813\u001b[0m         \u001b[0mstart\u001b[0m \u001b[0;34m=\u001b[0m \u001b[0mmin\u001b[0m\u001b[0;34m(\u001b[0m\u001b[0msynth\u001b[0m\u001b[0;34m.\u001b[0m\u001b[0mstart\u001b[0m \u001b[0;32mfor\u001b[0m \u001b[0msynth\u001b[0m \u001b[0;32min\u001b[0m \u001b[0msynths\u001b[0m\u001b[0;34m)\u001b[0m\u001b[0;34m\u001b[0m\u001b[0;34m\u001b[0m\u001b[0m\n",
      "\u001b[0;31mAssertionError\u001b[0m: "
     ]
    }
   ],
   "source": [
    "c.play()"
   ]
  },
  {
   "cell_type": "code",
   "execution_count": 4,
   "id": "9868ac48-af96-49ce-ae97-3d7330850e08",
   "metadata": {},
   "outputs": [
    {
     "name": "stdout",
     "output_type": "stream",
     "text": [
      "Timesig: 4/4 (quarter=60)\n",
      "  Ratio (1, 1)\n",
      "    «0.000:1.000 4C p group=d98a148c… properties={'resetEnharmonicSlots': True}»\n",
      "  Ratio (1, 1)\n",
      "    «1.000:3.000 4F group=d98a148c… spanners=[Hairpin(direction=>, kind=start, uuid=9ie68dyr)]»\n",
      "    «3.000:4.000 rest»\n"
     ]
    }
   ],
   "source": [
    "r.score.dump()"
   ]
  },
  {
   "cell_type": "code",
   "execution_count": 4,
   "id": "930dc2cd-d024-4815-84bd-249ded3de612",
   "metadata": {},
   "outputs": [],
   "source": [
    "r.render()"
   ]
  },
  {
   "cell_type": "code",
   "execution_count": 8,
   "id": "185abe4a-c085-4025-9361-958ddf466599",
   "metadata": {},
   "outputs": [
    {
     "name": "stdout",
     "output_type": "stream",
     "text": [
      "---- «1.000:3.000 4F group=32a50920… spanners=[Hairpin(direction=>, kind=start, uuid=j8rwdmqg)]» Hairpin(direction=>, kind=start, uuid=j8rwdmqg)\n",
      "---- «3.000:4.000 tiedNext rest spanners=[Hairpin(direction=>, kind=end, uuid=j8rwdmqg)] annotations=[Annotation(text='foo', placement='above', fontSize=12.0)]» Hairpin(direction=>, kind=end, uuid=j8rwdmqg)\n"
     ]
    },
    {
     "data": {
      "text/html": [
       "<b>LilypondRenderer</b> (1 part)<br>\n",
       "        <img style=\"display:inline; padding:10px;\n",
       "margin-top:14px;\n",
       "width:185.0\"\n",
       "             src=\"data:image/png;base64,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\"/>"
      ],
      "text/plain": [
       "<maelzel.scoring.renderlily.LilypondRenderer at 0x7fa3709d19a0>"
      ]
     },
     "execution_count": 8,
     "metadata": {},
     "output_type": "execute_result"
    }
   ],
   "source": [
    "r"
   ]
  },
  {
   "cell_type": "code",
   "execution_count": 5,
   "id": "11c362e0-010c-4a04-bba2-4b7212c9d0a2",
   "metadata": {},
   "outputs": [
    {
     "name": "stdout",
     "output_type": "stream",
     "text": [
      "Timesig: 4/4 (quarter=60)\n",
      "  Ratio (1, 1)\n",
      "    «0.000:1.000 4C p group=7543d4c7… properties={'resetEnharmonicSlots': True}»\n",
      "  Ratio (1, 1)\n",
      "    «1.000:3.000 4F group=7543d4c7… spanners=[Hairpin(direction=>, kind=start, uuid=uemr6v0b)]»\n",
      "    «3.000:4.000 rest»\n"
     ]
    }
   ],
   "source": [
    "r.score.dump()"
   ]
  },
  {
   "cell_type": "code",
   "execution_count": 7,
   "id": "08b83284-5453-4dba-a876-f0b34004eb40",
   "metadata": {},
   "outputs": [
    {
     "data": {
      "text/plain": [
       "[«0.000:1.000 4C p group=aa07f840… spanners=[Hairpin(direction=<, kind=start, uuid=ymyei2vl)]»,\n",
       " «1.000:3.000 4F group=aa07f840… spanners=[Hairpin(direction=<, kind=end, uuid=ymyei2vl), Hairpin(direction=>, kind=start, uuid=0kq7wc6a)]»,\n",
       " «3.000:4.000 rest spanners=[Hairpin(direction=>, kind=end, uuid=0kq7wc6a)]»]"
      ]
     },
     "execution_count": 7,
     "metadata": {},
     "output_type": "execute_result"
    }
   ],
   "source": [
    "ch.scoringEvents()"
   ]
  },
  {
   "cell_type": "code",
   "execution_count": 4,
   "id": "45648a3a-0f0e-4e9c-9b1e-b1c2b9c52643",
   "metadata": {},
   "outputs": [
    {
     "name": "stdout",
     "output_type": "stream",
     "text": [
      "---- «0.000:1.000 4C p group=c48a5c2c… properties={'resetEnharmonicSlots': True} spanners=[Hairpin(direction=<, kind=start, uuid=f3abyzap)]» Hairpin(direction=<, kind=start, uuid=f3abyzap)\n",
      "---- «1.000:3.000 4F group=c48a5c2c… spanners=[Hairpin(direction=<, kind=end, uuid=f3abyzap), Hairpin(direction=>, kind=start, uuid=23s99zz0), Hairpin(direction=<, kind=end, uuid=f3abyzap), Hairpin(direction=>, kind=start, uuid=23s99zz0)]» Hairpin(direction=<, kind=end, uuid=f3abyzap)\n",
      "---- «1.000:3.000 4F group=c48a5c2c… spanners=[Hairpin(direction=<, kind=end, uuid=f3abyzap), Hairpin(direction=>, kind=start, uuid=23s99zz0), Hairpin(direction=<, kind=end, uuid=f3abyzap), Hairpin(direction=>, kind=start, uuid=23s99zz0)]» Hairpin(direction=>, kind=start, uuid=23s99zz0)\n",
      "---- «1.000:3.000 4F group=c48a5c2c… spanners=[Hairpin(direction=<, kind=end, uuid=f3abyzap), Hairpin(direction=>, kind=start, uuid=23s99zz0), Hairpin(direction=<, kind=end, uuid=f3abyzap), Hairpin(direction=>, kind=start, uuid=23s99zz0)]» Hairpin(direction=<, kind=end, uuid=f3abyzap)\n",
      "---- «1.000:3.000 4F group=c48a5c2c… spanners=[Hairpin(direction=<, kind=end, uuid=f3abyzap), Hairpin(direction=>, kind=start, uuid=23s99zz0), Hairpin(direction=<, kind=end, uuid=f3abyzap), Hairpin(direction=>, kind=start, uuid=23s99zz0)]» Hairpin(direction=>, kind=start, uuid=23s99zz0)\n"
     ]
    },
    {
     "data": {
      "text/html": [
       "<b>LilypondRenderer</b> (1 part)<br>\n",
       "        <img style=\"display:inline; padding:10px;\n",
       "margin-top:14px;\n",
       "width:185.0\"\n",
       "             src=\"data:image/png;base64,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\"/>"
      ],
      "text/plain": [
       "<maelzel.scoring.renderlily.LilypondRenderer at 0x7f13e30a1c10>"
      ]
     },
     "execution_count": 4,
     "metadata": {},
     "output_type": "execute_result"
    }
   ],
   "source": [
    "r"
   ]
  },
  {
   "cell_type": "code",
   "execution_count": 6,
   "id": "47824218-fea8-41f6-b8cf-188d02af29f1",
   "metadata": {},
   "outputs": [],
   "source": [
    "r.write(\"~/tmp/spanner.ly\")"
   ]
  },
  {
   "cell_type": "code",
   "execution_count": 3,
   "id": "bb582272-3c30-44e1-8eef-c48d2146f61e",
   "metadata": {},
   "outputs": [
    {
     "data": {
      "text/plain": [
       "[Hairpin(direction=>, kind=end, uuid=4qj5r36t)]"
      ]
     },
     "execution_count": 3,
     "metadata": {},
     "output_type": "execute_result"
    }
   ],
   "source": [
    "evs = ch.scoringEvents()\n",
    "evs[-1].spanners"
   ]
  },
  {
   "cell_type": "code",
   "execution_count": 6,
   "id": "ca2fe6ed-cd63-4655-aaa1-a7dfe0090f65",
   "metadata": {},
   "outputs": [],
   "source": [
    "r.spanners"
   ]
  },
  {
   "cell_type": "code",
   "execution_count": 28,
   "id": "a7f51cc3-4ee7-4e2a-a978-2155b053968e",
   "metadata": {},
   "outputs": [
    {
     "data": {
      "text/plain": [
       "[CsoundEvent(delay=0, dur=3.5, gain=1, chan=1, fade=(0.02, 0.02), instr=sin)\n",
       " bps 0.000s: 60 0.0203892\n",
       "     1.000s: 65 0.0203892\n",
       "     3.000s: 63.5     0.184496\n",
       "     3.500s: 63.5     0.184496]"
      ]
     },
     "execution_count": 28,
     "metadata": {},
     "output_type": "execute_result"
    }
   ],
   "source": [
    "ch.csoundEvents(ch.playargs, getWorkspace())"
   ]
  },
  {
   "cell_type": "code",
   "execution_count": 30,
   "id": "0cd928f4-cd87-4325-803f-5ce97d2a7d8d",
   "metadata": {},
   "outputs": [
    {
     "data": {
      "text/plain": [
       "''"
      ]
     },
     "execution_count": 30,
     "metadata": {},
     "output_type": "execute_result"
    }
   ],
   "source": [
    "ch[1].dynamic"
   ]
  },
  {
   "cell_type": "code",
   "execution_count": 3,
   "id": "824a0feb-ceea-46e0-8be0-d2134267411f",
   "metadata": {},
   "outputs": [],
   "source": [
    "from maelzel.core import _musicobjtools"
   ]
  },
  {
   "cell_type": "code",
   "execution_count": 4,
   "id": "7040dce9-9c3c-4889-acb8-aabd1605c2f9",
   "metadata": {},
   "outputs": [],
   "source": [
    "_musicobjtools.fillTempDynamics(ch.items, 'mf')"
   ]
  },
  {
   "cell_type": "code",
   "execution_count": 5,
   "id": "f8199d9e-2f1b-48c2-a11d-a5075e29c60b",
   "metadata": {},
   "outputs": [
    {
     "data": {
      "text/plain": [
       "['p', 'p', 'p']"
      ]
     },
     "execution_count": 5,
     "metadata": {},
     "output_type": "execute_result"
    }
   ],
   "source": [
    "[it.dynamic for it in ch]"
   ]
  },
  {
   "cell_type": "code",
   "execution_count": 9,
   "id": "0d893478-e3df-481b-a0df-c8dadb61019f",
   "metadata": {},
   "outputs": [
    {
     "data": {
      "text/plain": [
       "'f'"
      ]
     },
     "execution_count": 9,
     "metadata": {},
     "output_type": "execute_result"
    }
   ],
   "source": [
    "w = getWorkspace()\n",
    "w.dynamicsCurve.amp2dyn(0.184496)"
   ]
  },
  {
   "cell_type": "code",
   "execution_count": null,
   "id": "059b29ee-d592-4a7a-95dc-b5c193ac0390",
   "metadata": {},
   "outputs": [],
   "source": []
  }
 ],
 "metadata": {
  "kernelspec": {
   "display_name": "Python 3 (ipykernel)",
   "language": "python",
   "name": "python3"
  },
  "language_info": {
   "codemirror_mode": {
    "name": "ipython",
    "version": 3
   },
   "file_extension": ".py",
   "mimetype": "text/x-python",
   "name": "python",
   "nbconvert_exporter": "python",
   "pygments_lexer": "ipython3",
   "version": "3.9.7"
  }
 },
 "nbformat": 4,
 "nbformat_minor": 5
}
