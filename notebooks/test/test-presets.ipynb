{
 "cells": [
  {
   "cell_type": "code",
   "execution_count": 1,
   "id": "cb10a1ff-57b1-4b1a-831c-b125c5d7e77e",
   "metadata": {},
   "outputs": [],
   "source": [
    "from maelzel.core import *"
   ]
  },
  {
   "cell_type": "code",
   "execution_count": 12,
   "id": "6c2f3439-ac4d-4b2c-9bfe-6cb7153217df",
   "metadata": {},
   "outputs": [
    {
     "data": {
      "application/vnd.jupyter.widget-view+json": {
       "model_id": "885d589179374bd8be6cdc80c0b0e11f",
       "version_major": 2,
       "version_minor": 0
      },
      "text/plain": [
       "Button(description='Stop', style=ButtonStyle())"
      ]
     },
     "metadata": {},
     "output_type": "display_data"
    },
    {
     "data": {
      "application/vnd.jupyter.widget-view+json": {
       "model_id": "db67fca533b54676941d402bb6b5579c",
       "version_major": 2,
       "version_minor": 0
      },
      "text/plain": [
       "Output()"
      ]
     },
     "metadata": {},
     "output_type": "display_data"
    },
    {
     "data": {
      "text/html": [
       "<small>SynthGroup - start: 0.063, dur: 5.000, synths: 1</small>\n",
       "<p>instr: <strong style=\"color:MediumSeaGreen\">preset.piano</strong> - <b>1</b> synths</p>\n",
       "<table><thead><tr><th style=\"text-align:left\">p1</th><th style=\"text-align:left\">start</th><th style=\"text-align:left\">dur</th><th style=\"text-align:left\">4</th><th style=\"text-align:left\">5:idataidx_</th><th style=\"text-align:left\">6:inumbps</th><th style=\"text-align:left\">7:ibplen</th><th style=\"text-align:left\">8:igain</th><th style=\"text-align:left\">9:ichan</th><th style=\"text-align:left\">10:ipos</th><th style=\"text-align:left\">11:ifadein</th><th style=\"text-align:left\">12:ifadeout</th><th style=\"text-align:left\">13:ipchintrp_</th><th style=\"text-align:left\">14:ifadekind</th><th style=\"text-align:left\">15</th><th style=\"text-align:left\">16</th><th style=\"text-align:left\">...</th></tr></thead><tbody><tr><td style=\"text-align:left\">501.0012 <b>𝍪</b></td><td style=\"text-align:left\">0.063</td><td style=\"text-align:left\">5.000</td><td style=\"text-align:left\">0</td><td style=\"text-align:left\">15</td><td style=\"text-align:left\">2</td><td style=\"text-align:left\">3</td><td style=\"text-align:left\">0.5</td><td style=\"text-align:left\">1</td><td style=\"text-align:left\">-1</td><td style=\"text-align:left\">0</td><td style=\"text-align:left\">0</td><td style=\"text-align:left\">0</td><td style=\"text-align:left\">1</td><td style=\"text-align:left\">0</td><td style=\"text-align:left\">...</td></tr></tbody></table>"
      ],
      "text/plain": [
       "SynthGroup(n=1)\n",
       "    Synth(𝍪 preset.piano:501.0012, p4=0 idataidx_:5=15 inumbps:6=2 ibplen:7=3 igain:8=0.5 ichan:9=1 ipos:10=-1 ifadein:11=0 ifadeout:12=0 ipchintrp_:13=0 ifadekind:14=1 p15=0 p16=62 ...)"
      ]
     },
     "execution_count": 12,
     "metadata": {},
     "output_type": "execute_result"
    },
    {
     "name": "stdout",
     "output_type": "stream",
     "text": [
      "Exiting python, closing all active engines\n",
      "... stopping maelzel.core\n"
     ]
    },
    {
     "name": "stderr",
     "output_type": "stream",
     "text": [
      "end of score.\t\t   overall amps:\u001b[m  0.07908  0.08412\n",
      "\t   overall samples out of range:\u001b[m        0\u001b[m        0\u001b[m\n",
      "0 errors in performance\n",
      "\u001b[m1302981 512 sample blks of 64-bit floats written to dac:system:playback\n"
     ]
    }
   ],
   "source": [
    "n = Note(62.0, dur=5)\n",
    "sg = n.play(instr='piano', gain=0.5,fade=0)\n",
    "sg"
   ]
  },
  {
   "cell_type": "code",
   "execution_count": 15,
   "id": "98013fa0-a62e-44ee-84d8-4a8f41ad5788",
   "metadata": {},
   "outputs": [],
   "source": [
    "foo = defPreset('foo', r'''\n",
    "|kfoo=60|\n",
    "println \"kfoo=%f\", kfoo\n",
    "aout1 = oscili:a(mtof(kfoo), 0.1)\n",
    "aout1 *= 0.5\n",
    "''')\n",
    "\n"
   ]
  },
  {
   "cell_type": "code",
   "execution_count": 16,
   "id": "c287bea2-5dd8-4a25-b16d-ccddab5519e6",
   "metadata": {},
   "outputs": [
    {
     "name": "stdout",
     "output_type": "stream",
     "text": [
      "println \"kfoo=%f\", kfoo\n",
      "aout1 = oscili:a(mtof(kfoo), 0.1)\n",
      "aout1 *= 0.5\n"
     ]
    }
   ],
   "source": [
    "print(foo.audiogen)"
   ]
  },
  {
   "cell_type": "code",
   "execution_count": 17,
   "id": "876c6550-7b39-4e77-bc02-6b00acb18d7e",
   "metadata": {},
   "outputs": [
    {
     "data": {
      "text/html": [
       "Instr <strong style=\"color:MediumSeaGreen\">preset.foo</strong><br>\n",
       "&nbsp&nbsp&nbsp&nbsp<span style=\"font-size:90%\"><b>idataidx_</b>:p5=<code>0.0</code></span>, <span style=\"font-size:90%\"><b>inumbps</b>:p6=<code>0.0</code></span>, <span style=\"font-size:90%\"><b>ibplen</b>:p7=<code>0.0</code></span>, <span style=\"font-size:90%\"><b>igain</b>:p8=<code>0.0</code></span>, <span style=\"font-size:90%\"><b>ichan</b>:p9=<code>0.0</code></span><br>\n",
       "&nbsp&nbsp&nbsp&nbsp<span style=\"font-size:90%\"><b>ipos</b>:p10=<code>0.0</code></span>, <span style=\"font-size:90%\"><b>ifadein</b>:p11=<code>0.0</code></span>, <span style=\"font-size:90%\"><b>ifadeout</b>:p12=<code>0.0</code></span>, <span style=\"font-size:90%\"><b>ipchintrp_</b>:p13=<code>0.0</code></span>, <span style=\"font-size:90%\"><b>ifadekind</b>:p14=<code>0.0</code></span><br>\n",
       "<hr style=\"width:38%;text-align:left;margin-left:0\">\n",
       "<span style=\"font-size:90%\"><div class=\"highlight\" style=\"background: #f8f8f8\"><pre style=\"line-height: 125%;\"><span></span><code><span style=\"color: #B00040\">i</span>dataidx_<span style=\"color: #bbbbbb\"> </span><span style=\"color: #666666\">=</span><span style=\"color: #bbbbbb\"> </span><span style=\"color: #19177C\">p5</span><span style=\"color: #bbbbbb\"></span>\n",
       "<span style=\"color: #B00040\">i</span>numbps<span style=\"color: #bbbbbb\"> </span><span style=\"color: #666666\">=</span><span style=\"color: #bbbbbb\"> </span><span style=\"color: #19177C\">p6</span><span style=\"color: #bbbbbb\"></span>\n",
       "<span style=\"color: #B00040\">i</span>bplen<span style=\"color: #bbbbbb\"> </span><span style=\"color: #666666\">=</span><span style=\"color: #bbbbbb\"> </span><span style=\"color: #19177C\">p7</span><span style=\"color: #bbbbbb\"></span>\n",
       "<span style=\"color: #B00040\">i</span>gain<span style=\"color: #bbbbbb\"> </span><span style=\"color: #666666\">=</span><span style=\"color: #bbbbbb\"> </span><span style=\"color: #19177C\">p8</span><span style=\"color: #bbbbbb\"></span>\n",
       "<span style=\"color: #B00040\">i</span>chan<span style=\"color: #bbbbbb\"> </span><span style=\"color: #666666\">=</span><span style=\"color: #bbbbbb\"> </span><span style=\"color: #19177C\">p9</span><span style=\"color: #bbbbbb\"></span>\n",
       "<span style=\"color: #B00040\">i</span>pos<span style=\"color: #bbbbbb\"> </span><span style=\"color: #666666\">=</span><span style=\"color: #bbbbbb\"> </span><span style=\"color: #19177C\">p10</span><span style=\"color: #bbbbbb\"></span>\n",
       "<span style=\"color: #B00040\">i</span>fadein<span style=\"color: #bbbbbb\"> </span><span style=\"color: #666666\">=</span><span style=\"color: #bbbbbb\"> </span><span style=\"color: #19177C\">p11</span><span style=\"color: #bbbbbb\"></span>\n",
       "<span style=\"color: #B00040\">i</span>fadeout<span style=\"color: #bbbbbb\"> </span><span style=\"color: #666666\">=</span><span style=\"color: #bbbbbb\"> </span><span style=\"color: #19177C\">p12</span><span style=\"color: #bbbbbb\"></span>\n",
       "<span style=\"color: #B00040\">i</span>pchintrp_<span style=\"color: #bbbbbb\"> </span><span style=\"color: #666666\">=</span><span style=\"color: #bbbbbb\"> </span><span style=\"color: #19177C\">p13</span><span style=\"color: #bbbbbb\"></span>\n",
       "<span style=\"color: #B00040\">i</span>fadekind<span style=\"color: #bbbbbb\"> </span><span style=\"color: #666666\">=</span><span style=\"color: #bbbbbb\"> </span><span style=\"color: #19177C\">p14</span><span style=\"color: #bbbbbb\"></span>\n",
       "<span style=\"color: #B00040\">k</span>foo<span style=\"color: #bbbbbb\"> </span><span style=\"color: #666666\">=</span><span style=\"color: #bbbbbb\"> </span><span style=\"color: #19177C\">p15</span><span style=\"color: #bbbbbb\"></span>\n",
       "<span style=\"color: #3D7B7B; font-style: italic\">;5        6       7      8      9     0    1       2        3          4        </span><span style=\"color: #bbbbbb\"></span>\n",
       "<span style=\"color: #B00040\">i</span>datalen_<span style=\"color: #bbbbbb\"> </span><span style=\"color: #666666\">=</span><span style=\"color: #bbbbbb\"> </span><span style=\"color: #B00040\">i</span>numbps<span style=\"color: #bbbbbb\"> </span><span style=\"color: #666666\">*</span><span style=\"color: #bbbbbb\"> </span><span style=\"color: #B00040\">i</span>bplen<span style=\"color: #bbbbbb\"></span>\n",
       "<span style=\"color: #B00040\">i</span>Args[]<span style=\"color: #bbbbbb\"> </span><span style=\"color: #008000\">passign</span><span style=\"color: #bbbbbb\"> </span><span style=\"color: #B00040\">i</span>dataidx_,<span style=\"color: #bbbbbb\"> </span><span style=\"color: #B00040\">i</span>dataidx_<span style=\"color: #bbbbbb\"> </span><span style=\"color: #666666\">+</span><span style=\"color: #bbbbbb\"> </span><span style=\"color: #B00040\">i</span>datalen_<span style=\"color: #bbbbbb\"></span>\n",
       "<span style=\"color: #B00040\">i</span>lastidx<span style=\"color: #bbbbbb\"> </span><span style=\"color: #666666\">=</span><span style=\"color: #bbbbbb\"> </span><span style=\"color: #B00040\">i</span>datalen_<span style=\"color: #bbbbbb\"> </span><span style=\"color: #666666\">-</span><span style=\"color: #bbbbbb\"> </span><span style=\"color: #666666\">1</span><span style=\"color: #bbbbbb\"></span>\n",
       "<span style=\"color: #B00040\">i</span>Times[]<span style=\"color: #bbbbbb\">     </span><span style=\"color: #008000\">slicearray</span><span style=\"color: #bbbbbb\"> </span><span style=\"color: #B00040\">i</span>Args,<span style=\"color: #bbbbbb\"> </span><span style=\"color: #666666\">0</span>,<span style=\"color: #bbbbbb\"> </span><span style=\"color: #B00040\">i</span>lastidx,<span style=\"color: #bbbbbb\"> </span><span style=\"color: #B00040\">i</span>bplen<span style=\"color: #bbbbbb\"></span>\n",
       "<span style=\"color: #B00040\">i</span>Pitches[]<span style=\"color: #bbbbbb\">   </span><span style=\"color: #008000\">slicearray</span><span style=\"color: #bbbbbb\"> </span><span style=\"color: #B00040\">i</span>Args,<span style=\"color: #bbbbbb\"> </span><span style=\"color: #666666\">1</span>,<span style=\"color: #bbbbbb\"> </span><span style=\"color: #B00040\">i</span>lastidx,<span style=\"color: #bbbbbb\"> </span><span style=\"color: #B00040\">i</span>bplen<span style=\"color: #bbbbbb\"></span>\n",
       "<span style=\"color: #B00040\">i</span>Amps[]<span style=\"color: #bbbbbb\">      </span><span style=\"color: #008000\">slicearray</span><span style=\"color: #bbbbbb\"> </span><span style=\"color: #B00040\">i</span>Args,<span style=\"color: #bbbbbb\"> </span><span style=\"color: #666666\">2</span>,<span style=\"color: #bbbbbb\"> </span><span style=\"color: #B00040\">i</span>lastidx,<span style=\"color: #bbbbbb\"> </span><span style=\"color: #B00040\">i</span>bplen<span style=\"color: #bbbbbb\"></span>\n",
       "\n",
       "<span style=\"color: #B00040\">k</span>_time<span style=\"color: #bbbbbb\"> </span><span style=\"color: #666666\">=</span><span style=\"color: #bbbbbb\"> </span>(<span style=\"color: #008000\">timeinstk</span>()<span style=\"color: #bbbbbb\"> </span><span style=\"color: #666666\">-</span><span style=\"color: #bbbbbb\"> </span><span style=\"color: #666666\">1</span>)<span style=\"color: #bbbbbb\"> </span><span style=\"color: #666666\">*</span><span style=\"color: #bbbbbb\"> </span><span style=\"color: #19177C\">ksmps</span><span style=\"color: #666666\">/</span><span style=\"color: #19177C\">sr</span><span style=\"color: #bbbbbb\">  </span><span style=\"color: #3D7B7B; font-style: italic\">; use eventtime (csound 6.18)</span><span style=\"color: #bbbbbb\"></span>\n",
       "\n",
       "<span style=\"color: #008000; font-weight: bold\">if</span><span style=\"color: #bbbbbb\"> </span><span style=\"color: #B00040\">i</span>pchintrp_<span style=\"color: #bbbbbb\"> </span><span style=\"color: #666666\">==</span><span style=\"color: #bbbbbb\"> </span><span style=\"color: #666666\">0</span><span style=\"color: #bbbbbb\"> </span><span style=\"color: #008000; font-weight: bold\">then</span><span style=\"color: #bbbbbb\">      </span>\n",
       "<span style=\"color: #bbbbbb\">    </span><span style=\"color: #3D7B7B; font-style: italic\">; linear midi interpolation    </span><span style=\"color: #bbbbbb\"></span>\n",
       "<span style=\"color: #bbbbbb\">    </span><span style=\"color: #B00040\">k</span>pitch,<span style=\"color: #bbbbbb\"> </span><span style=\"color: #B00040\">k</span>amp<span style=\"color: #bbbbbb\"> </span><span style=\"color: #008000\">bpf</span><span style=\"color: #bbbbbb\"> </span><span style=\"color: #B00040\">k</span>_time,<span style=\"color: #bbbbbb\"> </span><span style=\"color: #B00040\">i</span>Times,<span style=\"color: #bbbbbb\"> </span><span style=\"color: #B00040\">i</span>Pitches,<span style=\"color: #bbbbbb\"> </span><span style=\"color: #B00040\">i</span>Amps<span style=\"color: #bbbbbb\"></span>\n",
       "<span style=\"color: #bbbbbb\">    </span><span style=\"color: #B00040\">k</span>freq<span style=\"color: #bbbbbb\"> </span><span style=\"color: #008000\">mtof</span><span style=\"color: #bbbbbb\"> </span><span style=\"color: #B00040\">k</span>pitch<span style=\"color: #bbbbbb\"></span>\n",
       "<span style=\"color: #008000; font-weight: bold\">elseif</span><span style=\"color: #bbbbbb\"> </span>(<span style=\"color: #B00040\">i</span>pchintrp_<span style=\"color: #bbbbbb\"> </span><span style=\"color: #666666\">==</span><span style=\"color: #bbbbbb\"> </span><span style=\"color: #666666\">1</span>)<span style=\"color: #bbbbbb\"> </span><span style=\"color: #008000; font-weight: bold\">then</span><span style=\"color: #bbbbbb\">  </span><span style=\"color: #3D7B7B; font-style: italic\">; cos midi interpolation</span><span style=\"color: #bbbbbb\"></span>\n",
       "<span style=\"color: #bbbbbb\">    </span><span style=\"color: #B00040\">k</span>idx<span style=\"color: #bbbbbb\"> </span>bisect<span style=\"color: #bbbbbb\"> </span><span style=\"color: #B00040\">k</span>_time,<span style=\"color: #bbbbbb\"> </span><span style=\"color: #B00040\">i</span>Times<span style=\"color: #bbbbbb\"></span>\n",
       "<span style=\"color: #bbbbbb\">    </span><span style=\"color: #B00040\">k</span>pitch<span style=\"color: #bbbbbb\"> </span><span style=\"color: #B00040\">i</span>nterp1d<span style=\"color: #bbbbbb\"> </span><span style=\"color: #B00040\">k</span>idx,<span style=\"color: #bbbbbb\"> </span><span style=\"color: #B00040\">i</span>Pitches,<span style=\"color: #bbbbbb\"> </span><span style=\"color: #BA2121\">&quot;cos&quot;</span><span style=\"color: #bbbbbb\"></span>\n",
       "<span style=\"color: #bbbbbb\">    </span><span style=\"color: #B00040\">k</span>amp<span style=\"color: #bbbbbb\"> </span><span style=\"color: #B00040\">i</span>nterp1d<span style=\"color: #bbbbbb\"> </span><span style=\"color: #B00040\">k</span>idx,<span style=\"color: #bbbbbb\"> </span><span style=\"color: #B00040\">i</span>Amps,<span style=\"color: #bbbbbb\"> </span><span style=\"color: #BA2121\">&quot;cos&quot;</span><span style=\"color: #bbbbbb\"></span>\n",
       "<span style=\"color: #bbbbbb\">    </span><span style=\"color: #B00040\">k</span>freq<span style=\"color: #bbbbbb\"> </span><span style=\"color: #008000\">mtof</span><span style=\"color: #bbbbbb\"> </span><span style=\"color: #B00040\">k</span>pitch<span style=\"color: #bbbbbb\"></span>\n",
       "<span style=\"color: #008000; font-weight: bold\">elseif</span><span style=\"color: #bbbbbb\"> </span>(<span style=\"color: #B00040\">i</span>pchintrp_<span style=\"color: #bbbbbb\"> </span><span style=\"color: #666666\">==</span><span style=\"color: #bbbbbb\"> </span><span style=\"color: #666666\">2</span>)<span style=\"color: #bbbbbb\"> </span><span style=\"color: #008000; font-weight: bold\">then</span><span style=\"color: #bbbbbb\">  </span><span style=\"color: #3D7B7B; font-style: italic\">; linear freq interpolation</span><span style=\"color: #bbbbbb\"></span>\n",
       "<span style=\"color: #bbbbbb\">    </span><span style=\"color: #B00040\">i</span>Freqs[]<span style=\"color: #bbbbbb\"> </span><span style=\"color: #008000\">mtof</span><span style=\"color: #bbbbbb\"> </span><span style=\"color: #B00040\">i</span>Pitches<span style=\"color: #bbbbbb\"></span>\n",
       "<span style=\"color: #bbbbbb\">    </span><span style=\"color: #B00040\">k</span>freq,<span style=\"color: #bbbbbb\"> </span><span style=\"color: #B00040\">k</span>amp<span style=\"color: #bbbbbb\"> </span><span style=\"color: #008000\">bpf</span><span style=\"color: #bbbbbb\"> </span><span style=\"color: #B00040\">k</span>_time,<span style=\"color: #bbbbbb\"> </span><span style=\"color: #B00040\">i</span>Times,<span style=\"color: #bbbbbb\"> </span><span style=\"color: #B00040\">i</span>Freqs,<span style=\"color: #bbbbbb\"> </span><span style=\"color: #B00040\">i</span>Amps<span style=\"color: #bbbbbb\"></span>\n",
       "<span style=\"color: #bbbbbb\">    </span><span style=\"color: #B00040\">k</span>pitch<span style=\"color: #bbbbbb\"> </span><span style=\"color: #008000\">ftom</span><span style=\"color: #bbbbbb\"> </span><span style=\"color: #B00040\">k</span>freq<span style=\"color: #bbbbbb\"></span>\n",
       "<span style=\"color: #008000; font-weight: bold\">elseif</span><span style=\"color: #bbbbbb\"> </span>(<span style=\"color: #B00040\">i</span>pchintrp_<span style=\"color: #bbbbbb\"> </span><span style=\"color: #666666\">==</span><span style=\"color: #bbbbbb\"> </span><span style=\"color: #666666\">3</span>)<span style=\"color: #bbbbbb\"> </span><span style=\"color: #008000; font-weight: bold\">then</span><span style=\"color: #bbbbbb\">  </span><span style=\"color: #3D7B7B; font-style: italic\">; cos freq interpolation</span><span style=\"color: #bbbbbb\"></span>\n",
       "<span style=\"color: #bbbbbb\">    </span><span style=\"color: #B00040\">k</span>idx<span style=\"color: #bbbbbb\"> </span>bisect<span style=\"color: #bbbbbb\"> </span><span style=\"color: #B00040\">k</span>_time,<span style=\"color: #bbbbbb\"> </span><span style=\"color: #B00040\">i</span>Times<span style=\"color: #bbbbbb\"></span>\n",
       "<span style=\"color: #bbbbbb\">    </span><span style=\"color: #B00040\">k</span>freq<span style=\"color: #bbbbbb\"> </span><span style=\"color: #B00040\">i</span>nterp1d<span style=\"color: #bbbbbb\"> </span><span style=\"color: #B00040\">k</span>idx,<span style=\"color: #bbbbbb\"> </span><span style=\"color: #B00040\">i</span>Freqs,<span style=\"color: #bbbbbb\"> </span><span style=\"color: #BA2121\">&quot;cos&quot;</span><span style=\"color: #bbbbbb\"></span>\n",
       "<span style=\"color: #bbbbbb\">    </span><span style=\"color: #B00040\">k</span>amp<span style=\"color: #bbbbbb\"> </span><span style=\"color: #B00040\">i</span>nterp1d<span style=\"color: #bbbbbb\"> </span><span style=\"color: #B00040\">k</span>idx,<span style=\"color: #bbbbbb\"> </span><span style=\"color: #B00040\">i</span>Amps,<span style=\"color: #bbbbbb\"> </span><span style=\"color: #BA2121\">&quot;cos&quot;</span><span style=\"color: #bbbbbb\"></span>\n",
       "<span style=\"color: #bbbbbb\">    </span><span style=\"color: #B00040\">k</span>pitch<span style=\"color: #bbbbbb\"> </span><span style=\"color: #008000\">ftom</span><span style=\"color: #bbbbbb\"> </span><span style=\"color: #B00040\">k</span>freq<span style=\"color: #bbbbbb\"></span>\n",
       "<span style=\"color: #008000; font-weight: bold\">endif</span><span style=\"color: #bbbbbb\"></span>\n",
       "\n",
       "<span style=\"color: #B00040\">i</span>fadein<span style=\"color: #bbbbbb\"> </span><span style=\"color: #666666\">=</span><span style=\"color: #bbbbbb\"> </span><span style=\"color: #008000\">max</span>:<span style=\"color: #B00040\">i</span>(<span style=\"color: #B00040\">i</span>fadein,<span style=\"color: #bbbbbb\"> </span><span style=\"color: #666666\">1/</span><span style=\"color: #19177C\">kr</span>)<span style=\"color: #bbbbbb\"></span>\n",
       "<span style=\"color: #B00040\">i</span>fadeout<span style=\"color: #bbbbbb\"> </span><span style=\"color: #666666\">=</span><span style=\"color: #bbbbbb\"> </span><span style=\"color: #008000\">max</span>:<span style=\"color: #B00040\">i</span>(<span style=\"color: #B00040\">i</span>fadeout,<span style=\"color: #bbbbbb\"> </span><span style=\"color: #666666\">1/</span><span style=\"color: #19177C\">kr</span>)<span style=\"color: #bbbbbb\"></span>\n",
       "<span style=\"color: #B00040\">a</span>env_<span style=\"color: #bbbbbb\"> </span><span style=\"color: #666666\">=</span><span style=\"color: #bbbbbb\"> </span>makePresetEnvelope(<span style=\"color: #B00040\">i</span>fadein,<span style=\"color: #bbbbbb\"> </span><span style=\"color: #B00040\">i</span>fadeout,<span style=\"color: #bbbbbb\"> </span><span style=\"color: #B00040\">i</span>fadekind,<span style=\"color: #bbbbbb\"> </span><span style=\"color: #B00040\">i</span>gain)<span style=\"color: #bbbbbb\"></span>\n",
       "<span style=\"color: #008000\">println</span><span style=\"color: #bbbbbb\"> </span><span style=\"color: #BA2121\">&quot;kfoo=</span><span style=\"color: #A45A77; font-weight: bold\">%f</span><span style=\"color: #BA2121\">&quot;</span>,<span style=\"color: #bbbbbb\"> </span><span style=\"color: #B00040\">k</span>foo<span style=\"color: #bbbbbb\"></span>\n",
       "<span style=\"color: #B00040\">a</span>out1<span style=\"color: #bbbbbb\"> </span><span style=\"color: #666666\">=</span><span style=\"color: #bbbbbb\"> </span><span style=\"color: #008000\">oscili</span>:<span style=\"color: #B00040\">a</span>(<span style=\"color: #008000\">mtof</span>(<span style=\"color: #B00040\">k</span>foo),<span style=\"color: #bbbbbb\"> </span><span style=\"color: #666666\">0.1</span>)<span style=\"color: #bbbbbb\"></span>\n",
       "<span style=\"color: #B00040\">a</span>out1<span style=\"color: #bbbbbb\"> </span><span style=\"color: #666666\">*=</span><span style=\"color: #bbbbbb\"> </span><span style=\"color: #666666\">0.5</span><span style=\"color: #bbbbbb\"></span>\n",
       "<span style=\"color: #B00040\">a</span>out1<span style=\"color: #bbbbbb\"> </span><span style=\"color: #666666\">*=</span><span style=\"color: #bbbbbb\"> </span><span style=\"color: #B00040\">a</span>env_<span style=\"color: #bbbbbb\"></span>\n",
       "<span style=\"color: #008000\">outch</span><span style=\"color: #bbbbbb\"> </span><span style=\"color: #B00040\">i</span>chan,<span style=\"color: #bbbbbb\"> </span><span style=\"color: #B00040\">a</span>out1<span style=\"color: #bbbbbb\"></span>\n",
       "<span style=\"color: #008000; font-weight: bold\">if</span><span style=\"color: #bbbbbb\"> </span>(<span style=\"color: #B00040\">i</span>pos<span style=\"color: #bbbbbb\"> </span><span style=\"color: #666666\">&lt;=</span><span style=\"color: #bbbbbb\"> </span><span style=\"color: #666666\">0</span>)<span style=\"color: #bbbbbb\"> </span><span style=\"color: #008000; font-weight: bold\">then</span><span style=\"color: #bbbbbb\"></span>\n",
       "<span style=\"color: #bbbbbb\">    </span><span style=\"color: #008000\">outch</span><span style=\"color: #bbbbbb\"> </span><span style=\"color: #B00040\">i</span>chan,<span style=\"color: #bbbbbb\"> </span><span style=\"color: #B00040\">a</span>out1<span style=\"color: #bbbbbb\"></span>\n",
       "<span style=\"color: #008000; font-weight: bold\">else</span><span style=\"color: #bbbbbb\"></span>\n",
       "<span style=\"color: #bbbbbb\">    </span><span style=\"color: #B00040\">a</span>L_,<span style=\"color: #bbbbbb\"> </span><span style=\"color: #B00040\">a</span>R_<span style=\"color: #bbbbbb\"> </span><span style=\"color: #008000\">pan2</span><span style=\"color: #bbbbbb\"> </span><span style=\"color: #B00040\">a</span>out1,<span style=\"color: #bbbbbb\"> </span><span style=\"color: #B00040\">i</span>pos<span style=\"color: #bbbbbb\"></span>\n",
       "<span style=\"color: #bbbbbb\">    </span><span style=\"color: #008000\">outch</span><span style=\"color: #bbbbbb\"> </span><span style=\"color: #B00040\">i</span>chan,<span style=\"color: #bbbbbb\"> </span><span style=\"color: #B00040\">a</span>L_,<span style=\"color: #bbbbbb\"> </span><span style=\"color: #B00040\">i</span>chan<span style=\"color: #666666\">+1</span>,<span style=\"color: #bbbbbb\"> </span><span style=\"color: #B00040\">a</span>R_<span style=\"color: #bbbbbb\"></span>\n",
       "<span style=\"color: #008000; font-weight: bold\">endif</span><span style=\"color: #bbbbbb\"></span>\n",
       "</code></pre></div>\n",
       "</span>"
      ],
      "text/plain": [
       "Instr(preset.foo, idataidx_:5=0.0, inumbps:6=0.0, ibplen:7=0.0, igain:8=0.0, ichan:9=0.0, ipos:10=0.0, ifadein:11=0.0, ifadeout:12=0.0, ipchintrp_:13=0.0, ifadekind:14=0.0, kfoo:15=60.0)"
      ]
     },
     "execution_count": 17,
     "metadata": {},
     "output_type": "execute_result"
    }
   ],
   "source": [
    "foo.getInstr()"
   ]
  },
  {
   "cell_type": "code",
   "execution_count": null,
   "id": "54368ae3-f24b-4f30-8684-ca7dac67fb13",
   "metadata": {},
   "outputs": [],
   "source": []
  }
 ],
 "metadata": {
  "kernelspec": {
   "display_name": "Python 3 (ipykernel)",
   "language": "python",
   "name": "python3"
  },
  "language_info": {
   "codemirror_mode": {
    "name": "ipython",
    "version": 3
   },
   "file_extension": ".py",
   "mimetype": "text/x-python",
   "name": "python",
   "nbconvert_exporter": "python",
   "pygments_lexer": "ipython3",
   "version": "3.9.15"
  }
 },
 "nbformat": 4,
 "nbformat_minor": 5
}
