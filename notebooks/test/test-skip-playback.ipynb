{
 "cells": [
  {
   "cell_type": "code",
   "execution_count": 1,
   "id": "556bc629-ac1c-40e6-b5dd-996009dffce5",
   "metadata": {},
   "outputs": [],
   "source": [
    "from maelzel.core import *"
   ]
  },
  {
   "cell_type": "code",
   "execution_count": 2,
   "id": "254e9bd6-df57-4172-a215-9832fa0f3821",
   "metadata": {},
   "outputs": [
    {
     "data": {
      "text/html": [
       "<code style=\"white-space: pre-line; font-size:0.9em;\">Chain([<span style=\"color:#6666E0\">4C:1♩</span>, <span style=\"color:#6666E0\">4C♯:1♩</span>, <span style=\"color:#6666E0\">4D:1/2♩</span>, <span style=\"color:#6666E0\">4F:1/2♩</span>], dur=3)</code><br><br><img style=\"display:inline; padding:10px;\n",
       "margin-top:14px;\n",
       "width:249px\" src=\"data:image/png;base64,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\"/>"
      ],
      "text/plain": [
       "Chain([4C:1♩, 4C♯:1♩, 4D:1/2♩, 4F:1/2♩])"
      ]
     },
     "execution_count": 2,
     "metadata": {},
     "output_type": "execute_result"
    }
   ],
   "source": [
    "ch0 = Chain(\"4C:1 4C# 4D:.5 4F:0.5\".split())\n",
    "ch0"
   ]
  },
  {
   "cell_type": "code",
   "execution_count": 3,
   "id": "bc0812a2-84eb-4dc0-ac71-d80a366df4c5",
   "metadata": {},
   "outputs": [
    {
     "data": {
      "text/plain": [
       "[SynthEvent(delay=0, dur=1, instr=.piano, gain=1, chan=1, fade=(0.02, 0.02), position=0.5, bps=‹0.0s 60 0.515178; 1.0s 60 0.515178›),\n",
       " SynthEvent(delay=1, dur=1, instr=.piano, gain=1, chan=1, fade=(0.02, 0.02), position=0.5, bps=‹0.0s 61 0.515178; 1.0s 61 0.515178›),\n",
       " SynthEvent(delay=2, dur=0.5, instr=.piano, gain=1, chan=1, fade=(0.02, 0.02), position=0.5, bps=‹0.0s 62 0.515178; 0.5s 62 0.515178›),\n",
       " SynthEvent(delay=2.5, dur=0.5, instr=.piano, gain=1, chan=1, fade=(0.02, 0.02), position=0.5, bps=‹0.0s 65 0.515178; 0.5s 65 0.515178›)]"
      ]
     },
     "execution_count": 3,
     "metadata": {},
     "output_type": "execute_result"
    }
   ],
   "source": [
    "ch0.synthEvents()"
   ]
  },
  {
   "cell_type": "code",
   "execution_count": 4,
   "id": "4504c8c4-2345-4f56-8e9b-3f40712d9a51",
   "metadata": {},
   "outputs": [
    {
     "data": {
      "text/plain": [
       "[SynthEvent(delay=0.5, dur=0.5, instr=.piano, gain=1, chan=1, fade=(0.02, 0.02), position=0.5, bps=‹0.0s 60 0.515178; 0.5s 60 0.515178›),\n",
       " SynthEvent(delay=1, dur=1, instr=.piano, gain=1, chan=1, fade=(0.02, 0.02), position=0.5, bps=‹0.0s 61 0.515178; 1.0s 61 0.515178›),\n",
       " SynthEvent(delay=2, dur=0.5, instr=.piano, gain=1, chan=1, fade=(0.02, 0.02), position=0.5, bps=‹0.0s 62 0.515178; 0.5s 62 0.515178›),\n",
       " SynthEvent(delay=2.5, dur=0.5, instr=.piano, gain=1, chan=1, fade=(0.02, 0.02), position=0.5, bps=‹0.0s 65 0.515178; 0.5s 65 0.515178›)]"
      ]
     },
     "execution_count": 4,
     "metadata": {},
     "output_type": "execute_result"
    }
   ],
   "source": [
    "ch0.synthEvents(skip=0.5)"
   ]
  },
  {
   "cell_type": "code",
   "execution_count": 5,
   "id": "7992695d-a51d-414c-91c8-9409d84d9be6",
   "metadata": {},
   "outputs": [
    {
     "data": {
      "text/plain": [
       "[SynthEvent(delay=0, dur=0.5, instr=.piano, gain=1, chan=1, fade=(0.02, 0.02), position=0.5, bps=‹0.0s 60 0.515178; 0.5s 60 0.515178›),\n",
       " SynthEvent(delay=0.5, dur=0.8, instr=.piano, gain=1, chan=1, fade=(0.02, 0.02), position=0.5, bps=‹0.0s 61 0.515178; 0.0s 61 0.515178; 0.8s 61 0.515178›)]"
      ]
     },
     "execution_count": 5,
     "metadata": {},
     "output_type": "execute_result"
    }
   ],
   "source": [
    "ch0.synthEvents(skip=0.5, end=1.8, delay=-0.5)"
   ]
  },
  {
   "cell_type": "code",
   "execution_count": 6,
   "id": "13aa6d86-0920-4a26-8060-db21fcbeb6cc",
   "metadata": {},
   "outputs": [
    {
     "data": {
      "text/plain": [
       "[SynthEvent(delay=0.5, dur=0.5, instr=.piano, gain=1, chan=1, fade=(0.02, 0.02), sustain=4, position=0.5, bps=‹0.0s 60 0.515178; 0.5s 60 0.515178›),\n",
       " SynthEvent(delay=1, dur=1, instr=.piano, gain=1, chan=1, fade=(0.02, 0.02), sustain=4, position=0.5, bps=‹0.0s 61 0.515178; 1.0s 61 0.515178›),\n",
       " SynthEvent(delay=2, dur=0.5, instr=.piano, gain=1, chan=1, fade=(0.02, 0.02), sustain=4, position=0.5, bps=‹0.0s 62 0.515178; 0.5s 62 0.515178›),\n",
       " SynthEvent(delay=2.5, dur=0.5, instr=.piano, gain=1, chan=1, fade=(0.02, 0.02), sustain=4, position=0.5, bps=‹0.0s 65 0.515178; 0.5s 65 0.515178›)]"
      ]
     },
     "execution_count": 6,
     "metadata": {},
     "output_type": "execute_result"
    }
   ],
   "source": [
    "ch0.synthEvents(skip=0.5, sustain=4)"
   ]
  },
  {
   "cell_type": "code",
   "execution_count": 7,
   "id": "ae883677-21d9-469d-a50b-57042a734953",
   "metadata": {},
   "outputs": [
    {
     "name": "stderr",
     "output_type": "stream",
     "text": [
      "using libsndfile-1.2.2\n",
      "\u001b[msr = 48000.0,\u001b[m kr = 750.000,\u001b[m ksmps = 64\n",
      "\u001b[m0dBFS level = 1.0,\u001b[m A4 tuning = 440.0\n",
      "\u001b[maudio buffered in 256 sample-frame blocks\n",
      "\u001b[mreading 2048-byte blks of shorts from adc:Built-in Audio Analog Stereo: (RAW)\n",
      "writing 512 sample blks of 64-bit floats to dac:Built-in Audio Analog Stereo:\n",
      "SECTION 1:\n",
      "\u001b[m"
     ]
    },
    {
     "data": {
      "application/vnd.jupyter.widget-view+json": {
       "model_id": "c8ebc57bb3c840dcaba31a3b135fad6b",
       "version_major": 2,
       "version_minor": 0
      },
      "text/plain": [
       "Button(description='Stop', style=ButtonStyle())"
      ]
     },
     "metadata": {},
     "output_type": "display_data"
    },
    {
     "data": {
      "application/vnd.jupyter.widget-view+json": {
       "model_id": "710fddf6f35e4363be199fc2a37b803c",
       "version_major": 2,
       "version_minor": 0
      },
      "text/plain": [
       "Output()"
      ]
     },
     "metadata": {},
     "output_type": "display_data"
    },
    {
     "data": {
      "text/html": [
       "<small><span style=\"\"><b>SynthGroup</b></span>(synths=<code style=\"\">3</code>)</small>\n",
       "<p><small>Instr: <strong style=\"color:MediumSeaGreen\">preset:.piano</strong> - <b>3</b> synths</small></p>\n",
       "<table style=\"font-size: smaller\"<thead><tr><th style=\"text-align:left\">p1</th><th style=\"text-align:left\">start</th><th style=\"text-align:left\">dur</th><th style=\"text-align:left\">p4</th><th style=\"text-align:left\">kpos</th><th style=\"text-align:left\">kgain</th><th style=\"text-align:left\">idataidx_</th><th style=\"text-align:left\">inumbps</th><th style=\"text-align:left\">ibplen</th><th style=\"text-align:left\">ichan</th><th style=\"text-align:left\">ifadein</th><th style=\"text-align:left\">ifadeout</th><th style=\"text-align:left\">ipchintrp_</th><th style=\"text-align:left\">ifadekind</th><th style=\"text-align:left\">ktransp</th><th style=\"text-align:left\">ipitchlag</th><th style=\"text-align:left\">ivel</th><th style=\"text-align:left\">kwet</th><th style=\"text-align:left\">19</th><th style=\"text-align:left\">20</th><th style=\"text-align:left\">21</th><th style=\"text-align:left\">22</th><th style=\"text-align:left\">23</th><th style=\"text-align:left\">...</th></tr></thead><tbody><tr><td style=\"text-align:left\">401.0002 <b>▶</b></td><td style=\"text-align:left\">-0.089</td><td style=\"text-align:left\">4.500</td><td style=\"text-align:left\">0</td><td style=\"text-align:left\">0.5</td><td style=\"text-align:left\">1</td><td style=\"text-align:left\">19</td><td style=\"text-align:left\">3</td><td style=\"text-align:left\">3</td><td style=\"text-align:left\">1</td><td style=\"text-align:left\">0.02</td><td style=\"text-align:left\">0.02</td><td style=\"text-align:left\">0</td><td style=\"text-align:left\">1</td><td style=\"text-align:left\">0</td><td style=\"text-align:left\">0.1</td><td style=\"text-align:left\">-1</td><td style=\"text-align:left\">0</td><td style=\"text-align:left\">0</td><td style=\"text-align:left\">61</td><td style=\"text-align:left\">0.51518</td><td style=\"text-align:left\">0.5</td><td style=\"text-align:left\">...</td></tr><tr><td style=\"text-align:left\">401.0003 <b>‖</b></td><td style=\"text-align:left\">0.411</td><td style=\"text-align:left\">4.500</td><td style=\"text-align:left\">0</td><td style=\"text-align:left\">0.5</td><td style=\"text-align:left\">1</td><td style=\"text-align:left\">19</td><td style=\"text-align:left\">3</td><td style=\"text-align:left\">3</td><td style=\"text-align:left\">1</td><td style=\"text-align:left\">0.02</td><td style=\"text-align:left\">0.02</td><td style=\"text-align:left\">0</td><td style=\"text-align:left\">1</td><td style=\"text-align:left\">0</td><td style=\"text-align:left\">0.1</td><td style=\"text-align:left\">-1</td><td style=\"text-align:left\">0</td><td style=\"text-align:left\">0</td><td style=\"text-align:left\">62</td><td style=\"text-align:left\">0.51518</td><td style=\"text-align:left\">0.5</td><td style=\"text-align:left\">...</td></tr><tr><td style=\"text-align:left\">401.0004 <b>‖</b></td><td style=\"text-align:left\">0.911</td><td style=\"text-align:left\">4.250</td><td style=\"text-align:left\">0</td><td style=\"text-align:left\">0.5</td><td style=\"text-align:left\">1</td><td style=\"text-align:left\">19</td><td style=\"text-align:left\">4</td><td style=\"text-align:left\">3</td><td style=\"text-align:left\">1</td><td style=\"text-align:left\">0.02</td><td style=\"text-align:left\">0.02</td><td style=\"text-align:left\">0</td><td style=\"text-align:left\">1</td><td style=\"text-align:left\">0</td><td style=\"text-align:left\">0.1</td><td style=\"text-align:left\">-1</td><td style=\"text-align:left\">0</td><td style=\"text-align:left\">0</td><td style=\"text-align:left\">65</td><td style=\"text-align:left\">0.51518</td><td style=\"text-align:left\">0</td><td style=\"text-align:left\">...</td></tr></tbody></table>"
      ],
      "text/plain": [
       "SynthGroup(n=3)\n",
       "    Synth(‖ preset:.piano=401.0002 start=.142 dur=4.5 kpos=0.5 kgain=1 idataidx_=19 inumbps=3 ibplen=3 ichan=1 ifadein=0.02 ifadeout=0.02 ipchintrp_=0 ifadekind=1 ktransp=0 ipitchlag=0.1 ivel=-1 kwet=0 p19=0 p20=61 p21=0.515178 p22=0.5 p23=61 …)\n",
       "    Synth(‖ preset:.piano=401.0003 start=.642 dur=4.5 kpos=0.5 kgain=1 idataidx_=19 inumbps=3 ibplen=3 ichan=1 ifadein=0.02 ifadeout=0.02 ipchintrp_=0 ifadekind=1 ktransp=0 ipitchlag=0.1 ivel=-1 kwet=0 p19=0 p20=62 p21=0.515178 p22=0.5 p23=62 …)\n",
       "    Synth(‖ preset:.piano=401.0004 start=1.142 dur=4.25 kpos=0.5 kgain=1 idataidx_=19 inumbps=4 ibplen=3 ichan=1 ifadein=0.02 ifadeout=0.02 ipchintrp_=0 ifadekind=1 ktransp=0 ipitchlag=0.1 ivel=-1 kwet=0 p19=0 p20=65 p21=0.515178 p22=0 p23=65 …)"
      ]
     },
     "execution_count": 7,
     "metadata": {},
     "output_type": "execute_result"
    }
   ],
   "source": [
    "ch0.play(skip=1.5, end=2.75, delay=-1.5, sustain=4)"
   ]
  },
  {
   "cell_type": "code",
   "execution_count": 11,
   "id": "3c950dda-9f39-47dc-8e88-de79cf402e4e",
   "metadata": {
    "scrolled": true
   },
   "outputs": [
    {
     "data": {
      "text/html": [
       "<code style=\"white-space: pre-line; font-size:0.9em;\">Chain([<span style=\"color:#6666E0\">‹4C 4Eb 1♩›</span>, <span style=\"color:#6666E0\">‹4C# 4E 1♩›</span>, <span style=\"color:#6666E0\">‹4D 4F 0.5♩›</span>, <span style=\"color:#6666E0\">‹4A 4Bb 0.5♩›</span>], dur=3)</code><br><br><img style=\"display:inline; padding:10px;\n",
       "margin-top:14px;\n",
       "width:254px\" src=\"data:image/png;base64,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\"/>"
      ],
      "text/plain": [
       "Chain([‹4C 4Eb 1♩›, ‹4C# 4E 1♩›, ‹4D 4F 0.5♩›, ‹4A 4Bb 0.5♩›])"
      ]
     },
     "execution_count": 11,
     "metadata": {},
     "output_type": "execute_result"
    }
   ],
   "source": [
    "ch = Chain(\"\"\"4C,4Eb:1 4C#,4E 4D,4F:.5 4A,4Bb:0.5\"\"\".split())\n",
    "ch"
   ]
  },
  {
   "cell_type": "code",
   "execution_count": 13,
   "id": "d95d8f03-065f-4c76-acae-be48c233bdb7",
   "metadata": {},
   "outputs": [
    {
     "data": {
      "application/vnd.jupyter.widget-view+json": {
       "model_id": "b262c49603d746e79b82397556cb4e3f",
       "version_major": 2,
       "version_minor": 0
      },
      "text/plain": [
       "Button(description='Stop', style=ButtonStyle())"
      ]
     },
     "metadata": {},
     "output_type": "display_data"
    },
    {
     "data": {
      "application/vnd.jupyter.widget-view+json": {
       "model_id": "fdf9d8b06f45461cb179d212ee3c0a38",
       "version_major": 2,
       "version_minor": 0
      },
      "text/plain": [
       "Output()"
      ]
     },
     "metadata": {},
     "output_type": "display_data"
    },
    {
     "data": {
      "text/html": [
       "<small><span style=\"\"><b>SynthGroup</b></span>(synths=<code style=\"\">4</code>)</small>\n",
       "<p><small>Instr: <strong style=\"color:MediumSeaGreen\">preset:.piano</strong> - <b>4</b> synths</small></p>\n",
       "<table style=\"font-size: smaller\"<thead><tr><th style=\"text-align:left\">p1</th><th style=\"text-align:left\">start</th><th style=\"text-align:left\">dur</th><th style=\"text-align:left\">p4</th><th style=\"text-align:left\">kpos</th><th style=\"text-align:left\">kgain</th><th style=\"text-align:left\">idataidx_</th><th style=\"text-align:left\">inumbps</th><th style=\"text-align:left\">ibplen</th><th style=\"text-align:left\">ichan</th><th style=\"text-align:left\">ifadein</th><th style=\"text-align:left\">ifadeout</th><th style=\"text-align:left\">ipchintrp_</th><th style=\"text-align:left\">ifadekind</th><th style=\"text-align:left\">ktransp</th><th style=\"text-align:left\">ipitchlag</th><th style=\"text-align:left\">ivel</th><th style=\"text-align:left\">kwet</th><th style=\"text-align:left\">19</th><th style=\"text-align:left\">20</th><th style=\"text-align:left\">21</th><th style=\"text-align:left\">22</th><th style=\"text-align:left\">23</th><th style=\"text-align:left\">...</th></tr></thead><tbody><tr><td style=\"text-align:left\">401.0009 <b>‖</b></td><td style=\"text-align:left\">0.037</td><td style=\"text-align:left\">1.000</td><td style=\"text-align:left\">0</td><td style=\"text-align:left\">0.5</td><td style=\"text-align:left\">1</td><td style=\"text-align:left\">19</td><td style=\"text-align:left\">2</td><td style=\"text-align:left\">3</td><td style=\"text-align:left\">1</td><td style=\"text-align:left\">0.02</td><td style=\"text-align:left\">0.02</td><td style=\"text-align:left\">0</td><td style=\"text-align:left\">1</td><td style=\"text-align:left\">0</td><td style=\"text-align:left\">0.1</td><td style=\"text-align:left\">-1</td><td style=\"text-align:left\">0</td><td style=\"text-align:left\">0</td><td style=\"text-align:left\">61</td><td style=\"text-align:left\">0.36429</td><td style=\"text-align:left\">1</td><td style=\"text-align:left\">...</td></tr><tr><td style=\"text-align:left\">401.001 <b>‖</b></td><td style=\"text-align:left\">0.037</td><td style=\"text-align:left\">1.000</td><td style=\"text-align:left\">0</td><td style=\"text-align:left\">0.5</td><td style=\"text-align:left\">1</td><td style=\"text-align:left\">19</td><td style=\"text-align:left\">2</td><td style=\"text-align:left\">3</td><td style=\"text-align:left\">1</td><td style=\"text-align:left\">0.02</td><td style=\"text-align:left\">0.02</td><td style=\"text-align:left\">0</td><td style=\"text-align:left\">1</td><td style=\"text-align:left\">0</td><td style=\"text-align:left\">0.1</td><td style=\"text-align:left\">-1</td><td style=\"text-align:left\">0</td><td style=\"text-align:left\">0</td><td style=\"text-align:left\">64</td><td style=\"text-align:left\">0.36429</td><td style=\"text-align:left\">1</td><td style=\"text-align:left\">...</td></tr><tr><td style=\"text-align:left\">401.0011 <b>‖</b></td><td style=\"text-align:left\">1.037</td><td style=\"text-align:left\">0.500</td><td style=\"text-align:left\">0</td><td style=\"text-align:left\">0.5</td><td style=\"text-align:left\">1</td><td style=\"text-align:left\">19</td><td style=\"text-align:left\">2</td><td style=\"text-align:left\">3</td><td style=\"text-align:left\">1</td><td style=\"text-align:left\">0.02</td><td style=\"text-align:left\">0.02</td><td style=\"text-align:left\">0</td><td style=\"text-align:left\">1</td><td style=\"text-align:left\">0</td><td style=\"text-align:left\">0.1</td><td style=\"text-align:left\">-1</td><td style=\"text-align:left\">0</td><td style=\"text-align:left\">0</td><td style=\"text-align:left\">62</td><td style=\"text-align:left\">0.36429</td><td style=\"text-align:left\">0.5</td><td style=\"text-align:left\">...</td></tr><tr><td style=\"text-align:left\">401.0012 <b>‖</b></td><td style=\"text-align:left\">1.037</td><td style=\"text-align:left\">0.500</td><td style=\"text-align:left\">0</td><td style=\"text-align:left\">0.5</td><td style=\"text-align:left\">1</td><td style=\"text-align:left\">19</td><td style=\"text-align:left\">2</td><td style=\"text-align:left\">3</td><td style=\"text-align:left\">1</td><td style=\"text-align:left\">0.02</td><td style=\"text-align:left\">0.02</td><td style=\"text-align:left\">0</td><td style=\"text-align:left\">1</td><td style=\"text-align:left\">0</td><td style=\"text-align:left\">0.1</td><td style=\"text-align:left\">-1</td><td style=\"text-align:left\">0</td><td style=\"text-align:left\">0</td><td style=\"text-align:left\">65</td><td style=\"text-align:left\">0.36429</td><td style=\"text-align:left\">0.5</td><td style=\"text-align:left\">...</td></tr></tbody></table>"
      ],
      "text/plain": [
       "SynthGroup(n=4)\n",
       "    Synth(‖ preset:.piano=401.0009 start=44.035 dur=1 kpos=0.5 kgain=1 idataidx_=19 inumbps=2 ibplen=3 ichan=1 ifadein=0.02 ifadeout=0.02 ipchintrp_=0 ifadekind=1 ktransp=0 ipitchlag=0.1 ivel=-1 kwet=0 p19=0 p20=61 p21=0.364286 p22=1 p23=61 …)\n",
       "    Synth(‖ preset:.piano=401.001 start=44.035 dur=1 kpos=0.5 kgain=1 idataidx_=19 inumbps=2 ibplen=3 ichan=1 ifadein=0.02 ifadeout=0.02 ipchintrp_=0 ifadekind=1 ktransp=0 ipitchlag=0.1 ivel=-1 kwet=0 p19=0 p20=64 p21=0.364286 p22=1 p23=64 …)\n",
       "    Synth(‖ preset:.piano=401.0011 start=45.035 dur=.5 kpos=0.5 kgain=1 idataidx_=19 inumbps=2 ibplen=3 ichan=1 ifadein=0.02 ifadeout=0.02 ipchintrp_=0 ifadekind=1 ktransp=0 ipitchlag=0.1 ivel=-1 kwet=0 p19=0 p20=62 p21=0.364286 p22=0.5 p23=62 …)\n",
       "    Synth(‖ preset:.piano=401.0012 start=45.035 dur=.5 kpos=0.5 kgain=1 idataidx_=19 inumbps=2 ibplen=3 ichan=1 ifadein=0.02 ifadeout=0.02 ipchintrp_=0 ifadekind=1 ktransp=0 ipitchlag=0.1 ivel=-1 kwet=0 p19=0 p20=65 p21=0.364286 p22=0.5 p23=65 …)"
      ]
     },
     "execution_count": 13,
     "metadata": {},
     "output_type": "execute_result"
    }
   ],
   "source": [
    "ch.play(delay=-1, skip=1, end=2.5)\n"
   ]
  }
 ],
 "metadata": {
  "kernelspec": {
   "display_name": "Python 3 (ipykernel)",
   "language": "python",
   "name": "python3"
  },
  "language_info": {
   "codemirror_mode": {
    "name": "ipython",
    "version": 3
   },
   "file_extension": ".py",
   "mimetype": "text/x-python",
   "name": "python",
   "nbconvert_exporter": "python",
   "pygments_lexer": "ipython3",
   "version": "3.13.3"
  }
 },
 "nbformat": 4,
 "nbformat_minor": 5
}
