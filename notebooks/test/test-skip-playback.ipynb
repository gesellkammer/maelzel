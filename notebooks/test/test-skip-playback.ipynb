{
 "cells": [
  {
   "cell_type": "code",
   "execution_count": 1,
   "id": "556bc629-ac1c-40e6-b5dd-996009dffce5",
   "metadata": {},
   "outputs": [
    {
     "name": "stderr",
     "output_type": "stream",
     "text": [
      "end of score.\t\t   overall amps:\u001b[m      0.0\n",
      "\t   overall samples out of range:\u001b[m        0\u001b[m\n",
      "0 errors in performance\n",
      "\u001b[m"
     ]
    }
   ],
   "source": [
    "from maelzel.core import *"
   ]
  },
  {
   "cell_type": "code",
   "execution_count": 2,
   "id": "254e9bd6-df57-4172-a215-9832fa0f3821",
   "metadata": {},
   "outputs": [
    {
     "data": {
      "text/html": [
       "<code style=\"white-space: pre-line; font-size:0.9em;\">Chain([<span style=\"color:#6666E0\">4C:1♩</span>, <span style=\"color:#6666E0\">4C♯:1♩</span>, <span style=\"color:#6666E0\">4D:0.5♩</span>, <span style=\"color:#6666E0\">4F:0.5♩</span>], dur=3)</code><br>\n",
       "        <img style=\"display:inline; padding:10px;\n",
       "margin-top:14px;\n",
       "width:249px\"\n",
       "             src=\"data:image/png;base64,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\"/>"
      ],
      "text/plain": [
       "Chain([4C:1♩, 4C♯:1♩, 4D:0.5♩, 4F:0.5♩])"
      ]
     },
     "execution_count": 2,
     "metadata": {},
     "output_type": "execute_result"
    }
   ],
   "source": [
    "ch0 = Chain(\"4C:1 4C# 4D:.5 4F:0.5\")\n",
    "ch0"
   ]
  },
  {
   "cell_type": "code",
   "execution_count": 3,
   "id": "ae883677-21d9-469d-a50b-57042a734953",
   "metadata": {},
   "outputs": [
    {
     "name": "stderr",
     "output_type": "stream",
     "text": [
      "\n",
      "\n",
      "\n",
      "--Csound version 6.19 (double samples) Oct 13 2024\n",
      "[commit: 937aa495e250d758efaa28e9697a8b75237c80cd]\n",
      "\u001b[mlibsndfile-1.2.0\n",
      "\u001b[msr = 48000.0,\u001b[m kr = 750.000,\u001b[m ksmps = 64\n",
      "\u001b[m0dBFS level = 1.0,\u001b[m A4 tuning = 442.0\n",
      "\u001b[maudio buffered in 256 sample-frame blocks\n",
      "\u001b[mreading 2048-byte blks of shorts from adc:Built-in Audio Analog Stereo: (RAW)\n",
      "writing 512 sample blks of 64-bit floats to dac:Built-in Audio Analog Stereo:\n",
      "SECTION 1:\n",
      "\u001b[m"
     ]
    },
    {
     "data": {
      "application/vnd.jupyter.widget-view+json": {
       "model_id": "5dba5c7721944df8b10f84adcf647ffc",
       "version_major": 2,
       "version_minor": 0
      },
      "text/plain": [
       "Button(description='Stop', style=ButtonStyle())"
      ]
     },
     "metadata": {},
     "output_type": "display_data"
    },
    {
     "data": {
      "application/vnd.jupyter.widget-view+json": {
       "model_id": "ddcaf5c9e1324c66a7b82dcf40148316",
       "version_major": 2,
       "version_minor": 0
      },
      "text/plain": [
       "Output()"
      ]
     },
     "metadata": {},
     "output_type": "display_data"
    },
    {
     "data": {
      "text/html": [
       "<small><span style=\"\"><b>SynthGroup</b></span>(synths=<code style=\"\">3</code>)</small>\n",
       "<p><small>Instr: <strong style=\"color:MediumSeaGreen\">preset:.piano</strong> - <b>3</b> synths</small></p>\n",
       "<table style=\"font-size: smaller\"<thead><tr><th style=\"text-align:left\">p1</th><th style=\"text-align:left\">start</th><th style=\"text-align:left\">dur</th><th style=\"text-align:left\">p4</th><th style=\"text-align:left\">kpos</th><th style=\"text-align:left\">kgain</th><th style=\"text-align:left\">idataidx_</th><th style=\"text-align:left\">inumbps</th><th style=\"text-align:left\">ibplen</th><th style=\"text-align:left\">ichan</th><th style=\"text-align:left\">ifadein</th><th style=\"text-align:left\">ifadeout</th><th style=\"text-align:left\">ipchintrp_</th><th style=\"text-align:left\">ifadekind</th><th style=\"text-align:left\">ktransp</th><th style=\"text-align:left\">ipitchlag</th><th style=\"text-align:left\">ivel</th><th style=\"text-align:left\">18</th><th style=\"text-align:left\">19</th><th style=\"text-align:left\">20</th><th style=\"text-align:left\">...</th></tr></thead><tbody><tr><td style=\"text-align:left\">501.0002 <b>𝍪</b></td><td style=\"text-align:left\">0.035</td><td style=\"text-align:left\">0.500</td><td style=\"text-align:left\">0</td><td style=\"text-align:left\">0.5</td><td style=\"text-align:left\">1</td><td style=\"text-align:left\">18</td><td style=\"text-align:left\">2</td><td style=\"text-align:left\">3</td><td style=\"text-align:left\">1</td><td style=\"text-align:left\">0.02</td><td style=\"text-align:left\">0.02</td><td style=\"text-align:left\">0</td><td style=\"text-align:left\">1</td><td style=\"text-align:left\">0</td><td style=\"text-align:left\">0.1</td><td style=\"text-align:left\">-1</td><td style=\"text-align:left\">0</td><td style=\"text-align:left\">61</td><td style=\"text-align:left\">...</td></tr><tr><td style=\"text-align:left\">501.0003 <b>𝍪</b></td><td style=\"text-align:left\">0.535</td><td style=\"text-align:left\">0.500</td><td style=\"text-align:left\">0</td><td style=\"text-align:left\">0.5</td><td style=\"text-align:left\">1</td><td style=\"text-align:left\">18</td><td style=\"text-align:left\">2</td><td style=\"text-align:left\">3</td><td style=\"text-align:left\">1</td><td style=\"text-align:left\">0.02</td><td style=\"text-align:left\">0.02</td><td style=\"text-align:left\">0</td><td style=\"text-align:left\">1</td><td style=\"text-align:left\">0</td><td style=\"text-align:left\">0.1</td><td style=\"text-align:left\">-1</td><td style=\"text-align:left\">0</td><td style=\"text-align:left\">62</td><td style=\"text-align:left\">...</td></tr><tr><td style=\"text-align:left\">501.0004 <b>𝍪</b></td><td style=\"text-align:left\">1.035</td><td style=\"text-align:left\">0.250</td><td style=\"text-align:left\">0</td><td style=\"text-align:left\">0.5</td><td style=\"text-align:left\">1</td><td style=\"text-align:left\">18</td><td style=\"text-align:left\">3</td><td style=\"text-align:left\">3</td><td style=\"text-align:left\">1</td><td style=\"text-align:left\">0.02</td><td style=\"text-align:left\">0.02</td><td style=\"text-align:left\">0</td><td style=\"text-align:left\">1</td><td style=\"text-align:left\">0</td><td style=\"text-align:left\">0.1</td><td style=\"text-align:left\">-1</td><td style=\"text-align:left\">0</td><td style=\"text-align:left\">65</td><td style=\"text-align:left\">...</td></tr></tbody></table>"
      ],
      "text/plain": [
       "SynthGroup(n=3)\n",
       "    Synth(𝍪 preset:.piano=501.0002 start=0.790 dur=0.500 p4=0.5 kpos=1 kgain=18 idataidx_=2 inumbps=3 ibplen=1 ichan=0.02 ifadein=0.02 ifadeout=0 ipchintrp_=1 ifadekind=0 ktransp=0.1 ipitchlag=-1 ivel=0 p18=61 p19=0.515178 …)\n",
       "    Synth(𝍪 preset:.piano=501.0003 start=1.290 dur=0.500 p4=0.5 kpos=1 kgain=18 idataidx_=2 inumbps=3 ibplen=1 ichan=0.02 ifadein=0.02 ifadeout=0 ipchintrp_=1 ifadekind=0 ktransp=0.1 ipitchlag=-1 ivel=0 p18=62 p19=0.515178 …)\n",
       "    Synth(𝍪 preset:.piano=501.0004 start=1.790 dur=0.250 p4=0.5 kpos=1 kgain=18 idataidx_=3 inumbps=3 ibplen=1 ichan=0.02 ifadein=0.02 ifadeout=0 ipchintrp_=1 ifadekind=0 ktransp=0.1 ipitchlag=-1 ivel=0 p18=65 p19=0.515178 …)"
      ]
     },
     "execution_count": 3,
     "metadata": {},
     "output_type": "execute_result"
    }
   ],
   "source": [
    "ch0.play(skip=1.5, end=2.75, delay=-1.5)"
   ]
  },
  {
   "cell_type": "code",
   "execution_count": 4,
   "id": "3c950dda-9f39-47dc-8e88-de79cf402e4e",
   "metadata": {
    "scrolled": true
   },
   "outputs": [
    {
     "data": {
      "text/html": [
       "<code style=\"white-space: pre-line; font-size:0.9em;\">Chain([<span style=\"color:#6666E0\">‹4C 4Eb 1♩›</span>, <span style=\"color:#6666E0\">‹4C# 4E 1♩›</span>, <span style=\"color:#6666E0\">‹4D 4F 0.5♩›</span>, <span style=\"color:#6666E0\">‹4A 4Bb 0.5♩›</span>], dur=3)</code><br>\n",
       "        <img style=\"display:inline; padding:10px;\n",
       "margin-top:14px;\n",
       "width:254px\"\n",
       "             src=\"data:image/png;base64,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\"/>"
      ],
      "text/plain": [
       "Chain([‹4C 4Eb 1♩›, ‹4C# 4E 1♩›, ‹4D 4F 0.5♩›, ‹4A 4Bb 0.5♩›])"
      ]
     },
     "execution_count": 4,
     "metadata": {},
     "output_type": "execute_result"
    }
   ],
   "source": [
    "ch = Chain(\"\"\"4C,4Eb:1 4C#,4E 4D,4F:.5 4A,4Bb:0.5\n",
    "\"\"\")\n",
    "ch"
   ]
  },
  {
   "cell_type": "code",
   "execution_count": 10,
   "id": "d95d8f03-065f-4c76-acae-be48c233bdb7",
   "metadata": {},
   "outputs": [
    {
     "data": {
      "application/vnd.jupyter.widget-view+json": {
       "model_id": "6d817a345e5a437fa2ceeee5b2828bd0",
       "version_major": 2,
       "version_minor": 0
      },
      "text/plain": [
       "Button(description='Stop', style=ButtonStyle())"
      ]
     },
     "metadata": {},
     "output_type": "display_data"
    },
    {
     "data": {
      "application/vnd.jupyter.widget-view+json": {
       "model_id": "50ae1ba27bcb4a91afbe7bc3b0893cb2",
       "version_major": 2,
       "version_minor": 0
      },
      "text/plain": [
       "Output()"
      ]
     },
     "metadata": {},
     "output_type": "display_data"
    },
    {
     "data": {
      "text/html": [
       "<small><span style=\"\"><b>SynthGroup</b></span>(synths=<code style=\"\">4</code>)</small>\n",
       "<p><small>Instr: <strong style=\"color:MediumSeaGreen\">preset:.piano</strong> - <b>4</b> synths</small></p>\n",
       "<table style=\"font-size: smaller\"<thead><tr><th style=\"text-align:left\">p1</th><th style=\"text-align:left\">start</th><th style=\"text-align:left\">dur</th><th style=\"text-align:left\">p4</th><th style=\"text-align:left\">kpos</th><th style=\"text-align:left\">kgain</th><th style=\"text-align:left\">idataidx_</th><th style=\"text-align:left\">inumbps</th><th style=\"text-align:left\">ibplen</th><th style=\"text-align:left\">ichan</th><th style=\"text-align:left\">ifadein</th><th style=\"text-align:left\">ifadeout</th><th style=\"text-align:left\">ipchintrp_</th><th style=\"text-align:left\">ifadekind</th><th style=\"text-align:left\">ktransp</th><th style=\"text-align:left\">ipitchlag</th><th style=\"text-align:left\">ivel</th><th style=\"text-align:left\">18</th><th style=\"text-align:left\">19</th><th style=\"text-align:left\">20</th><th style=\"text-align:left\">...</th></tr></thead><tbody><tr><td style=\"text-align:left\">501.0019 <b>𝍪</b></td><td style=\"text-align:left\">0.041</td><td style=\"text-align:left\">1.000</td><td style=\"text-align:left\">0</td><td style=\"text-align:left\">0.5</td><td style=\"text-align:left\">0.70711</td><td style=\"text-align:left\">18</td><td style=\"text-align:left\">2</td><td style=\"text-align:left\">3</td><td style=\"text-align:left\">1</td><td style=\"text-align:left\">0.02</td><td style=\"text-align:left\">0.02</td><td style=\"text-align:left\">0</td><td style=\"text-align:left\">1</td><td style=\"text-align:left\">0</td><td style=\"text-align:left\">0.1</td><td style=\"text-align:left\">-1</td><td style=\"text-align:left\">0</td><td style=\"text-align:left\">61</td><td style=\"text-align:left\">...</td></tr><tr><td style=\"text-align:left\">501.002 <b>𝍪</b></td><td style=\"text-align:left\">0.041</td><td style=\"text-align:left\">1.000</td><td style=\"text-align:left\">0</td><td style=\"text-align:left\">0.5</td><td style=\"text-align:left\">0.70711</td><td style=\"text-align:left\">18</td><td style=\"text-align:left\">2</td><td style=\"text-align:left\">3</td><td style=\"text-align:left\">1</td><td style=\"text-align:left\">0.02</td><td style=\"text-align:left\">0.02</td><td style=\"text-align:left\">0</td><td style=\"text-align:left\">1</td><td style=\"text-align:left\">0</td><td style=\"text-align:left\">0.1</td><td style=\"text-align:left\">-1</td><td style=\"text-align:left\">0</td><td style=\"text-align:left\">64</td><td style=\"text-align:left\">...</td></tr><tr><td style=\"text-align:left\">501.0021 <b>𝍪</b></td><td style=\"text-align:left\">1.041</td><td style=\"text-align:left\">0.500</td><td style=\"text-align:left\">0</td><td style=\"text-align:left\">0.5</td><td style=\"text-align:left\">0.70711</td><td style=\"text-align:left\">18</td><td style=\"text-align:left\">2</td><td style=\"text-align:left\">3</td><td style=\"text-align:left\">1</td><td style=\"text-align:left\">0.02</td><td style=\"text-align:left\">0.02</td><td style=\"text-align:left\">0</td><td style=\"text-align:left\">1</td><td style=\"text-align:left\">0</td><td style=\"text-align:left\">0.1</td><td style=\"text-align:left\">-1</td><td style=\"text-align:left\">0</td><td style=\"text-align:left\">62</td><td style=\"text-align:left\">...</td></tr><tr><td style=\"text-align:left\">501.0022 <b>𝍪</b></td><td style=\"text-align:left\">1.041</td><td style=\"text-align:left\">0.500</td><td style=\"text-align:left\">0</td><td style=\"text-align:left\">0.5</td><td style=\"text-align:left\">0.70711</td><td style=\"text-align:left\">18</td><td style=\"text-align:left\">2</td><td style=\"text-align:left\">3</td><td style=\"text-align:left\">1</td><td style=\"text-align:left\">0.02</td><td style=\"text-align:left\">0.02</td><td style=\"text-align:left\">0</td><td style=\"text-align:left\">1</td><td style=\"text-align:left\">0</td><td style=\"text-align:left\">0.1</td><td style=\"text-align:left\">-1</td><td style=\"text-align:left\">0</td><td style=\"text-align:left\">65</td><td style=\"text-align:left\">...</td></tr></tbody></table>"
      ],
      "text/plain": [
       "SynthGroup(n=4)\n",
       "    Synth(𝍪 preset:.piano=501.0019 start=23.433 dur=1.000 p4=0.5 kpos=0.707107 kgain=18 idataidx_=2 inumbps=3 ibplen=1 ichan=0.02 ifadein=0.02 ifadeout=0 ipchintrp_=1 ifadekind=0 ktransp=0.1 ipitchlag=-1 ivel=0 p18=61 p19=0.515178 …)\n",
       "    Synth(𝍪 preset:.piano=501.002 start=23.433 dur=1.000 p4=0.5 kpos=0.707107 kgain=18 idataidx_=2 inumbps=3 ibplen=1 ichan=0.02 ifadein=0.02 ifadeout=0 ipchintrp_=1 ifadekind=0 ktransp=0.1 ipitchlag=-1 ivel=0 p18=64 p19=0.515178 …)\n",
       "    Synth(𝍪 preset:.piano=501.0021 start=24.433 dur=0.500 p4=0.5 kpos=0.707107 kgain=18 idataidx_=2 inumbps=3 ibplen=1 ichan=0.02 ifadein=0.02 ifadeout=0 ipchintrp_=1 ifadekind=0 ktransp=0.1 ipitchlag=-1 ivel=0 p18=62 p19=0.515178 …)\n",
       "    Synth(𝍪 preset:.piano=501.0022 start=24.433 dur=0.500 p4=0.5 kpos=0.707107 kgain=18 idataidx_=2 inumbps=3 ibplen=1 ichan=0.02 ifadein=0.02 ifadeout=0 ipchintrp_=1 ifadekind=0 ktransp=0.1 ipitchlag=-1 ivel=0 p18=65 p19=0.515178 …)"
      ]
     },
     "execution_count": 10,
     "metadata": {},
     "output_type": "execute_result"
    }
   ],
   "source": [
    "ch.play(delay=-1, skip=1, end=2.5)\n"
   ]
  },
  {
   "cell_type": "code",
   "execution_count": 4,
   "id": "644a3ea8-83ac-4180-9608-dff70b7c9757",
   "metadata": {},
   "outputs": [
    {
     "data": {
      "text/html": [
       "<code style=\"white-space: pre-line; font-size:0.9em;\">Chain([<span style=\"color:#6666E0\">‹4E 4F 1♩›</span>, <span style=\"color:#6666E0\">4D:1♩</span>, <span style=\"color:#6666E0\">4E:0.5♩</span>, <span style=\"color:#6666E0\">4G:1♩</span>], dur=3.5)</code><br>\n",
       "        <img style=\"display:inline; padding:10px;\n",
       "margin-top:14px;\n",
       "width:249px\"\n",
       "             src=\"data:image/png;base64,iVBORw0KGgoAAAANSUhEUgAAAU0AAABkCAIAAACNRvXZAAAJLmlDQ1BJQ0MgUHJvZmlsZQAAeJyVlWdQk1kXx+/zPOmFQBJCh1BDkSolgJQQWijSq6hA6J1QRWyIuAIriog0RZBFARdclSJrRRQLi4ICFnSDLALKunEVUUFZcN8ZnfcdP7z/mXvPb/5z5t5zz/lwASCIg2XBy3tiUrrA28mOGRgUzATfKIyflsLx9HQD39W7EQCtxHu638/5rggRkWn85bi4vHL5KYJ0AKDsZdbMSk9Z4aPLTA+P/8JnV1iwXOAy31jh6H957EvOvyz6kuPrzV1+FQoAHCn6Gw7/hv9z74pUOIL02KjIbKZPclR6Vpggkpm20gkel8v0FCRHxSZEflPw/5X8HaVHZqevRG5yyiZBbHRMOvN/DjUyMDQEX2fxxutLjyFG/3/PZ0VfveR6ANhzACD7vnrhlQB07gJA+tFXT225r5R8ADru8DMEmf96qJUNDQiAAuhABigCVaAJdIERMAOWwBY4ABfgAXxBENgA+CAGJAIByAK5YAcoAEVgHzgIqkAtaABNoBWcBp3gPLgCroPb4C4YBo+BEEyCl0AE3oEFCIKwEBmiQTKQEqQO6UBGEBuyhhwgN8gbCoJCoWgoCcqAcqGdUBFUClVBdVAT9At0DroC3YQGoYfQODQD/Q19hBGYBNNhBVgD1ofZMAd2hX3h9XA0nArnwPnwXrgCrodPwh3wFfg2PAwL4ZfwHAIQIsJAlBFdhI1wEQ8kGIlCBMhWpBApR+qRVqQb6UPuIUJkFvmAwqBoKCZKF2WJckb5ofioVNRWVDGqCnUC1YHqRd1DjaNEqM9oMloerYO2QPPQgehodBa6AF2ObkS3o6+hh9GT6HcYDIaBYWHMMM6YIEwcZjOmGHMY04a5jBnETGDmsFisDFYHa4X1wIZh07EF2ErsSewl7BB2EvseR8Qp4YxwjrhgXBIuD1eOa8ZdxA3hpnALeHG8Ot4C74GPwG/Cl+Ab8N34O/hJ/AJBgsAiWBF8CXGEHYQKQivhGmGM8IZIJKoQzYlexFjidmIF8RTxBnGc+IFEJWmTuKQQUgZpL+k46TLpIekNmUzWINuSg8np5L3kJvJV8lPyezGamJ4YTyxCbJtYtViH2JDYKwqeok7hUDZQcijllDOUO5RZcby4hjhXPEx8q3i1+DnxUfE5CZqEoYSHRKJEsUSzxE2JaSqWqkF1oEZQ86nHqFepEzSEpkrj0vi0nbQG2jXaJB1DZ9F59Dh6Ef1n+gBdJEmVNJb0l8yWrJa8IClkIAwNBo+RwChhnGaMMD5KKUhxpCKl9ki1Sg1JzUvLSdtKR0oXSrdJD0t/lGHKOMjEy+yX6ZR5IouS1Zb1ks2SPSJ7TXZWji5nKceXK5Q7LfdIHpbXlveW3yx/TL5ffk5BUcFJIUWhUuGqwqwiQ9FWMU6xTPGi4owSTclaKVapTOmS0gumJJPDTGBWMHuZImV5ZWflDOU65QHlBRWWip9KnkqbyhNVgipbNUq1TLVHVaSmpOaulqvWovZIHa/OVo9RP6Tepz6vwdII0Nit0akxzZJm8Vg5rBbWmCZZ00YzVbNe874WRoutFa91WOuuNqxtoh2jXa19RwfWMdWJ1TmsM7gKvcp8VdKq+lWjuiRdjm6mbovuuB5Dz00vT69T75W+mn6w/n79Pv3PBiYGCQYNBo8NqYYuhnmG3YZ/G2kb8Y2qje6vJq92XL1tddfq18Y6xpHGR4wfmNBM3E12m/SYfDI1MxWYtprOmKmZhZrVmI2y6WxPdjH7hjna3M58m/l58w8WphbpFqct/rLUtYy3bLacXsNaE7mmYc2ElYpVmFWdldCaaR1qfdRaaKNsE2ZTb/PMVtU2wrbRdoqjxYnjnOS8sjOwE9i1281zLbhbuJftEXsn+0L7AQeqg59DlcNTRxXHaMcWR5GTidNmp8vOaGdX5/3OozwFHp/XxBO5mLlscel1Jbn6uFa5PnPTdhO4dbvD7i7uB9zH1qqvTVrb6QE8eB4HPJ54sjxTPX/1wnh5elV7Pfc29M717vOh+Wz0afZ552vnW+L72E/TL8Ovx5/iH+Lf5D8fYB9QGiAM1A/cEng7SDYoNqgrGBvsH9wYPLfOYd3BdZMhJiEFISPrWeuz19/cILshYcOFjZSNYRvPhKJDA0KbQxfDPMLqw+bCeeE14SI+l3+I/zLCNqIsYibSKrI0cirKKqo0ajraKvpA9EyMTUx5zGwsN7Yq9nWcc1xt3Hy8R/zx+KWEgIS2RFxiaOK5JGpSfFJvsmJydvJgik5KQYow1SL1YKpI4CpoTIPS1qd1pdOXP8X+DM2MXRnjmdaZ1Znvs/yzzmRLZCdl92/S3rRn01SOY85Pm1Gb+Zt7cpVzd+SOb+FsqdsKbQ3f2rNNdVv+tsntTttP7CDsiN/xW55BXmne250BO7vzFfK350/sctrVUiBWICgY3W25u/YH1A+xPwzsWb2ncs/nwojCW0UGReVFi8X84ls/Gv5Y8ePS3qi9AyWmJUf2YfYl7RvZb7P/RKlEaU7pxAH3Ax1lzLLCsrcHNx68WW5cXnuIcCjjkLDCraKrUq1yX+ViVUzVcLVddVuNfM2emvnDEYeHjtgeaa1VqC2q/Xg09uiDOqe6jnqN+vJjmGOZx543+Df0/cT+qalRtrGo8dPxpOPCE94nepvMmpqa5ZtLWuCWjJaZkyEn7/5s/3NXq25rXRujregUOJVx6sUvob+MnHY93XOGfab1rPrZmnZae2EH1LGpQ9QZ0ynsCuoaPOdyrqfbsrv9V71fj59XPl99QfJCyUXCxfyLS5dyLs1dTrk8eyX6ykTPxp7HVwOv3u/16h245nrtxnXH61f7OH2XbljdOH/T4ua5W+xbnbdNb3f0m/S3/2byW/uA6UDHHbM7XXfN73YPrhm8OGQzdOWe/b3r93n3bw+vHR4c8Rt5MBoyKnwQ8WD6YcLD148yHy083j6GHit8Iv6k/Kn80/rftX5vE5oKL4zbj/c/83n2eII/8fKPtD8WJ/Ofk5+XTylNNU0bTZ+fcZy5+2Ldi8mXKS8XZgv+lPiz5pXmq7N/2f7VLwoUTb4WvF76u/iNzJvjb43f9sx5zj19l/huYb7wvcz7Ex/YH/o+BnycWshaxC5WfNL61P3Z9fPYUuLS0j9CLJC+ERlPpwAAEGFJREFUeJztnc9rI+Ufx5+sFVtoy6QIQleskyzIgqKdKYoHQZgJiOemJ/eYyc31NAkoCJ6SXMSDsJnc6kWT+gdoptCjLjNdYS+6bibbwoJdNBNboRXp5nv4uI/PdyY/ppP51ezndUqfPpl58iTveZ7n83w+nyc1GAzIZSaVSm1tbX3zzTdxNwRBksuVuBuAIEjooM4RZPZBnSPI7IM6R5DZB3WOILMP6hxBZh/UOYLMPqhzBJl9UOcIMvugzhFk9kGdI8jsgzpHkNkHdY4gsw/qHEFmH9Q5gsw+qHMEmX1Q5+MwTVNRlHQ6nUqlUqmULMumaTrq2LZdKpWgTjqdLpVKsTQVQcYxuOQQQra2tsK4cr1eJ4QIgtDpdAaDQafTIYRwHAd/Ar1eTxAEnuehEN5SKBTCaA+C+AZ1PhzDMAghPM/3ej0oqVQq8GSs1+u0mqqqhJB2u+0oqVQqgTcJQXyD8/bhwPS7XC6n02kooS9EUYQXlmXVajVBEGRZpm/c2toihMDAjiAJAXU+BNM0d3d3CSGKotBCRVEMw+h0OlTnIOZMJsO+F/7b7XbdK3kEiYtLqfOwJdRsNgkhkiQ5ykVRZFUNzXDonBDC8zy9CIIkgWB0bllWqVSybTuQq41C0zRRFFOp1MbGRiqVymQyrVYrjBuBgGGiXq1WZVmWZVlRFF3X2Wow5rsB5VuWFUbbEMQHAejcNE1RFGu1GrtMDRbTNDOZTLFY3N/fp4XdbhcWw0ORZTk1ljGtBQFnMhlRFJvNJkzFG41GLpfTNM1jm8N+6iGId+amfL9pmrIs9/t9Qsj+/n6pVKpWqwG0a8QtvENX0b4r1Gq1QqFAhV2tVsvlcrFYzGQy4T3RECQUpjHW93o9WIuysNvL09PpdDiOG/8R9vf3A7zj4MkBNRzHOcrhw9LtcaimqqqjGizsJUkKtlUI4pup5u2KonS7XUch3WcOhEqlMn4k5zhufX09wDtS3AO+Y+EtCMLQN0KFifMFBIkM//N2Xdd3dnbc5Y1Go1wuu63Qvu8yvkI+nx9armkaeLCNIpvNsttmLJIkjbKxsYiiuL+/77a3wbMvm81OvAKCRITvmYB724kSoOPn+MY7vFA9Ng8YM6+GKYm7AgzgdKIOO2eCILB1er0eXJ860iFI7KQGvs5LNU1zY2PDUaiqarFYzGazHMdZlkUdyKYhk8m4lwYAx3GapoUxntu2nclk+v1+p9OhExPLsmCIZgthSGdLNE0rFouqqgZuj0QQ//h7PDgW4RzHUR9vGEhZJ/BpGOVtwvO8YRiB3GIo4Ou2ublJSzY3N4nL6mYYBsdxtBr8KQgCDuZIovCpc3ZWzHEcKzkI5GAVMiXNZpO16guCENRDZOJ9OY7jeV6SJJ7nOY4bGp1iGAbP81CN4zhJklDkSNLwOW9Pp9PUDN5sNtnJc6lUqtVqMFPwceUxgENOsNecCDUEiqI4ZiUC1dLpNJrZkQTi095ORb65uTlqhazrerD+JLFIyONHQM8ZJMlM6/c6xtqEAVsIkhCm0rkkSWP2yekOE4JEj2maGEpEmUrnuVzOXUg7F8dzJEY2NjZu3LgRdyuSwlQ6H7pgRnkjCeH09DTuJiSFgHVumuYotxYEQeJiKp2795lYtxbcYUKQhDBHCGm1WpDe1Dtra2sHBwc3b96cn59ny7/44gv6+qeffsJk5kiMPHz4EH+B/+YyHTzxYEMQZPbY3t4e+PZ7hUcD63/a6/XYhBCOKK6gGPpIivhchHa7TQhZX1+P8qbIRZnt74g6ntOSUaM1BJ74XJ9DsBobEOZICDEmc9s0uJOuCYLgPWcbgjyd+NQ5uHnSdKu6roNPO8Bx3KiQzylxeD4IgjAxEQWCID51nk6nBUHodruWZdm27XBxh7MHg2ieE3ZznuO4VquVTqdHOdgjCAL431ejQ3o+n2dn7DzPh5RiwTRNeiOO43Rdz2QymqYNTV+FJIdWq/X888+vra1Vq1X0RY0F/zqHFXi5XHakUgtvtcxO0eHMBjiTOKTbIUFhGMYff/xxeHj48ccfZ7PZtbW1Tz/9FAUfJf51LoqiO6mzqqrhRWhSJ5x6vZ7P5y3L8pHXHYmR8/NzQsjh4eFnn32Ggo8S/zrXdd3h4ioIQnhJ0UzThMNYVFVVFAXGc/Z4FuTSwQr+5s2beIJNeMwRQmzbvmjwyb179xwT5sXFxY8++ig86/fnn39OCHn//fdzuZyu68Vikf1vlFZ3eLgcHx+jqd8jDx48GF/h8PDw1q1bV69eHZUS3x8z/B3RoG/6ASd08uBJhkMEQWaParU6gPxwlmV5XyOdnJyUSqVff/2VLdza2ioUCiE08l9UVf3rr7+q1erS0hKUOELfwUctGuAYuWw2e+vWrchu6gVoWNjfhQ8ajUaz2Xz77bevXLly+/bt8/Pzx48fO+osLS198sknAY7nuVwugd9RUKiqeufOHcL88qGT3TXb7bYsy3OEkEwm4/34FEVRHCInhDx+/Dg881upVOp2u3Bk6qg60adnW15eTmZOuJdffjlpDYPf4jvvvAPmm1ar9e23337//ffHx8dgmSOEzM3NCYIQbMtj+Y4sy6rX6ysrK+F5kRBCVlZW4AX9gOOHuovZ4arVaqPRYEsKhQLHceHtYJumqWkabJWHdAskYvL5/Ndff93r9X788UcQwzPPPHNychJ3uwJA07RsNlur1eDoMdayaJpmjIbGC+R71XW9XC6zJWBgt217Z2cHHGaCbh6RZTmTyTSbzVEHNgDUKLiysoI76pcFURTr9Xq9XjdNc3t7ewYSFrC/vX6/r2kalMD5RY4M6FHiVedu51bwSEun07lcbmdnxzCMMD6DoiimaU7cDqAVwpspIeEhiuIMiJww+c4BCPQyTRNm1zGup7zqXFEU9jNQkRPGATaMzfNR10ylUo5qs/FDQS41HMexMmk0Gul0WtO0fr8vSVKMg5Cn9bn7CGRWV5lMhsa0BN/AYdA4OQomn0SSgHtYonGcQ5MjR4YnnTtWvIVCwRF2CkN6ZD4JcMghS6VSQW8qJHYURTEMo1AoSJK0ubmpqmq73QaxxLsJMnnermka6146NBwN0k4YhhFS2DnFNM1KpeKInCGEdLtdWZbBGTbUBiDIeERRdIRyKYrC83y8v8zUYDAolUpj5r37+/vsULm+vk737oCHDx8eHR2xddLp9PLy8tWrVxcWFgJs6927dx89ejQ/P7+wsLCwsPDss8/Sfx0fH5+enp6dnUFgfIA3ddPr9e7cubO4uPjWW2+FeqOLAg1bW1u7du1a3G35P+7fv39wcBBxw3Z3d5PwHcGXsrq6ev369QAvS1VJE0hBJ7trbm9v37hxY44Qks1mR+n89PSUFfDq6ior8uPj47t3756dnTneZdu2bdsHBwerq6vXrl1jBTkNr7322tHR0aNHj5aWlpaXlwkh//zzz8nJyfHx8fXr14N9piBIIBwdHRHGrSV6FhcXCSET8kBWKhX2PZ1Oh/7LvUgeiuN09CnBPJBjgIapqhp3Q5zAtxZxwxLyHUFy1MAvG3AeSDbTY6FQoE5ppmk6IsZG0e/3ZVkOyh6OeSCRSwTsqCUhTmyCztmtMlbYbpcYd84JSr/fz+fzgdjDMQ8kcomAGRZYqeNlgs7pOMwaDFutFs0wwXGcqqqdTseyLDpFga0F9jrdbtexBPAH5oFE3Ni2rWmaoiiyLMuyXCqVkpCjBvzBybBBMXom7KtR5x52949GxoBXHNW/KIq7u7u6rsMW19bWFpsiUtO0f4+A8QvmgUQc2LZdqVTYnOKEkN3dXUdJLMBykuf5JIRgTRjP6Ww8m83SQvqwdHibwms65MqyrOs6PaSl3++7/dguBOaBRFhM0xRFcYyk//777yjb4wAir5IwmJOJOqePIlbP4KbiPozBfUiLKIqsU81FT2t0gHkgEQoEh4w/hDvG34ZlWeBdloTFOfGucxaw6bv9e6DEsTQCZyB4Pc2qCfNAIhTbtr084l988cVImjMEuuuckPF8jhBimuao6O579+7Bi0ajQZflv//+OyHEMIyhc+bd3V1H+UsvvQTPXfe/vPPdd98RQl5//XVCSKlUcszWopy9Q8I9x5m7Z2dnP//889HREfz4XnjhhTfeeIM9WDKyhu3t7SVtLbO3t0cCbdje3p6XsZrjuLi6AnT+yiuvhNSA+/fvwwt6fehkN/8m8BhgHkgEmV2+/PLLgZdzkcFd3OFzBlPxzc1NR2Vwymk2m2whnQhIkuTb+0cQhF6vR0scH8bfZf3B+sMZhjHGcYD8vwdhNA17GvzhvPy+E9gPARL8ucjgHuMwlcOewc7OjsMUB368o+xt/jYYIMwGtsp9vD08vJiCptxiQIYycUFUKBTCOzLkMjJZ52BI6/f77EpDlmVYgTQaDdbXDUxxDtc3utPmI9Q+sXkgz8/PvZiCaD59JEDGG7cKhQK6QjvwlDdK07RcLgeuL9TMDpk6FUXZ2dkBlxjyZMR22NXByMfzvA/bY2LzQP72229eTEGs3wESFNVqle6/sEByhISYuBOFJ53Lsqyqaq1Wy+fzpmnS+XM+n4cYFeotBzpnvVNbrRZ8H/7mUbHngbRtu9VqGYYBDy9RFF999VUyLKLGDcdxT+Fvzt1jge9jp9NpWMq12216l1wul7TE9QnC+9IfDHI8z4+PM4Vq8NowDFhKBR466vgUAYa+Unq93ijbhkciNgXFbocb32OzbRiLmODtcBRd1yVJ6na7GxsbpVJp1IAGI6qu6+Do3u/3Aw8djSAP5ESfyitXJnTd02YKmthj6LkYJxd9kNDHBkSqtdttdrtrMBhApBrdbQojCQR9mFF4nnc0YxroNGQMkNBmFBGnvgBiHM+99Nh7770XfcNmlYuO5352ng3DcCvNjSAIcI8AMQxjlFePIAiBzN57vZ4XP7YPP/xwaCI6nucd7gOREZfOPfYYztsDxI/O0R8OQWaVr776ajAYzBFC4My3oK774MGDZrP55ptvvvvuu0FdM0rq9fqff/45vs5zzz1XLBbn5+ejaZKDs7OzH3744fbt20P/G33PJ7/HnlpWVlY++OADQkLwGI3d6jslXrovxk830dNWUZSIm5TwHkMGF7K3PyUk2afSi6ftL7/8Ell7gCT3GAJcQOeWZYEPXCqVEkVxVj23E+tT6THoGkJ3oySxPYb8h8dxf+jGyVDD8mWft/d6vaQZ0gGPTjv1ej3ihiW2xxCK13OR2YyOlFKp5H6WX/bzDBPrU+llAhWLp21iewz5Dy8PAxpA7sa9Qx7L4RtPA16+Tex2ZCjB2+FgPE9I+rtZAs1diG+m1bk7GyRML/F84sBBcxfiG086HyVaVVUdcaBwoJQkSUlLCzEDVKvVMeYuFDkyhtTA28Ivn8+zx55A8nbHLNG2bVEUu91us9l8CuOuowHNXYgfPK7jaco3SZJGRadApJrvZI8IgoSE1/W5KIpwEOLu7m6z2XRsnlmWlc/nG42GIAiz6j+DIJcXr/N2oFqtlstl8mSfFhbnlmXBlB5EjitzBEkaF9M5IUTX9UqlAkesUWC5PuVxqAiChMSFdQ5YlmWapmEYKysroiiiKQhBksz/AEl9wguix7L2AAAAAElFTkSuQmCC\"/>"
      ],
      "text/plain": [
       "Chain([‹4E 4F 1♩›, 4D:1♩, 4E:0.5♩, 4G:1♩])"
      ]
     },
     "execution_count": 4,
     "metadata": {},
     "output_type": "execute_result"
    }
   ],
   "source": [
    "ch2 = Chain(\"4E,4F:1 4D:1 4E:0.5\\n4G\")\n",
    "ch2"
   ]
  },
  {
   "cell_type": "code",
   "execution_count": null,
   "id": "dd403d30-9764-4f0d-bf60-027137dd0cff",
   "metadata": {},
   "outputs": [],
   "source": []
  },
  {
   "cell_type": "code",
   "execution_count": 10,
   "id": "d1d3a639-4cf7-4dc8-a912-57f4e85e2b42",
   "metadata": {},
   "outputs": [
    {
     "data": {
      "text/html": [
       "<code style=\"white-space: pre-line; font-size:0.9em;\">Chain([<span style=\"color:#6666E0\">4C:1♩:symbols=[Text(text=do, box=, color=, fontfamily=, placement=above)]</span>, <span style=\"color:#6666E0\">4D:1♩:symbols=[Text(text=re, box=, color=, fontfamily=, placement=above)]</span>], dur=2)</code><br>\n",
       "        <img style=\"display:inline; padding:10px;\n",
       "margin-top:14px;\n",
       "width:204px\"\n",
       "             src=\"data:image/png;base64,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\"/>"
      ],
      "text/plain": [
       "Chain([4C:1♩:symbols=[Text(text=do, box=, color=, fontfamily=, placement=above)], 4D:1♩:symbols=[Text(text=re, box=, color=, fontfamily=, placement=above)]])"
      ]
     },
     "execution_count": 10,
     "metadata": {},
     "output_type": "execute_result"
    }
   ],
   "source": [
    "chain = Chain([\n",
    "    Note(\"4C\", 1).addText('do'),\n",
    "    Note(\"4D\", 1).addText('re')\n",
    "])\n",
    "chain\n",
    "            "
   ]
  },
  {
   "cell_type": "code",
   "execution_count": null,
   "id": "5c30afd0-3fb4-44d1-90a3-6479f50476f2",
   "metadata": {},
   "outputs": [],
   "source": [
    "score = Score([\n",
    "    ch2,\n",
    "    ch2.timea"
   ]
  }
 ],
 "metadata": {
  "kernelspec": {
   "display_name": "Python 3 (ipykernel)",
   "language": "python",
   "name": "python3"
  },
  "language_info": {
   "codemirror_mode": {
    "name": "ipython",
    "version": 3
   },
   "file_extension": ".py",
   "mimetype": "text/x-python",
   "name": "python",
   "nbconvert_exporter": "python",
   "pygments_lexer": "ipython3",
   "version": "3.12.3"
  }
 },
 "nbformat": 4,
 "nbformat_minor": 5
}
