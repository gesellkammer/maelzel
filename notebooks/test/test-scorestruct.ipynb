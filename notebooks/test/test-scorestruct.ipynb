{
 "cells": [
  {
   "cell_type": "code",
   "execution_count": 1,
   "id": "d56afbe6-0966-4e94-a414-bf6c3c38020e",
   "metadata": {},
   "outputs": [],
   "source": [
    "from maelzel import scorestruct\n",
    "from maelzel.core import F"
   ]
  },
  {
   "cell_type": "code",
   "execution_count": 2,
   "id": "8c291b42-465c-402d-abdd-40b1900b4df6",
   "metadata": {},
   "outputs": [],
   "source": [
    "a = F(4, 1)"
   ]
  },
  {
   "cell_type": "code",
   "execution_count": 3,
   "id": "52d6df31-d39f-4ea6-9f66-cc58f14e66de",
   "metadata": {},
   "outputs": [
    {
     "data": {
      "text/plain": [
       "'4'"
      ]
     },
     "execution_count": 3,
     "metadata": {},
     "output_type": "execute_result"
    }
   ],
   "source": [
    "f'{a}'"
   ]
  },
  {
   "cell_type": "code",
   "execution_count": 4,
   "id": "ed4b604c-1bb0-47f7-8c69-264178edf623",
   "metadata": {},
   "outputs": [],
   "source": [
    "s = scorestruct.ScoreStruct(r'''\n",
    "4/4, 80\n",
    "3, 3/4, 72\n",
    "''')"
   ]
  },
  {
   "cell_type": "code",
   "execution_count": 5,
   "id": "7110c9f4-07cb-47b8-a849-b60219e2b71b",
   "metadata": {},
   "outputs": [
    {
     "data": {
      "text/html": [
       "<h5><strong>ScoreStruct<strong></strong></h5><table><thead><tr><th style=\"text-align:left\">Meas. Index</th><th style=\"text-align:left\">Timesig</th><th style=\"text-align:left\">Tempo (quarter note)</th><th style=\"text-align:left\">Label</th><th style=\"text-align:left\">Rehearsal</th><th style=\"text-align:left\">Barline</th></tr></thead><tbody><tr><td style=\"text-align:left\"><span style=\"font-size: small;\">0</span></td><td style=\"text-align:left\"><span style=\"font-size: small;\">4/4</span></td><td style=\"text-align:left\"><span style=\"font-size: small;\">80</span></td><td style=\"text-align:left\"><span style=\"font-size: small;\"></span></td><td style=\"text-align:left\"><span style=\"font-size: small;\"></span></td><td style=\"text-align:left\"><span style=\"font-size: small;\"></span></td></tr><tr><td style=\"text-align:left\"><span style=\"font-size: small;\">1</span></td><td style=\"text-align:left\"><span style=\"font-size: small;\">(4/4)</span></td><td style=\"text-align:left\"><span style=\"font-size: small;\"></span></td><td style=\"text-align:left\"><span style=\"font-size: small;\"></span></td><td style=\"text-align:left\"><span style=\"font-size: small;\"></span></td><td style=\"text-align:left\"><span style=\"font-size: small;\"></span></td></tr><tr><td style=\"text-align:left\"><span style=\"font-size: small;\">2</span></td><td style=\"text-align:left\"><span style=\"font-size: small;\">(4/4)</span></td><td style=\"text-align:left\"><span style=\"font-size: small;\"></span></td><td style=\"text-align:left\"><span style=\"font-size: small;\"></span></td><td style=\"text-align:left\"><span style=\"font-size: small;\"></span></td><td style=\"text-align:left\"><span style=\"font-size: small;\"></span></td></tr><tr><td style=\"text-align:left\"><span style=\"font-size: small;\">3</span></td><td style=\"text-align:left\"><span style=\"font-size: small;\">3/4</span></td><td style=\"text-align:left\"><span style=\"font-size: small;\">72</span></td><td style=\"text-align:left\"><span style=\"font-size: small;\"></span></td><td style=\"text-align:left\"><span style=\"font-size: small;\"></span></td><td style=\"text-align:left\"><span style=\"font-size: small;\"></span></td></tr><tr><td style=\"text-align:left\"><span style=\"font-size: small;\">...</span></td><td style=\"text-align:left\"><span style=\"font-size: small;\"></span></td><td style=\"text-align:left\"><span style=\"font-size: small;\"></span></td><td style=\"text-align:left\"><span style=\"font-size: small;\"></span></td><td style=\"text-align:left\"><span style=\"font-size: small;\"></span></td><td style=\"text-align:left\"><span style=\"font-size: small;\"></span></td></tr></tbody></table>"
      ],
      "text/plain": [
       "ScoreStruct([4/4@80, 4/4, 4/4, 3/4@72])"
      ]
     },
     "execution_count": 5,
     "metadata": {},
     "output_type": "execute_result"
    }
   ],
   "source": [
    "s"
   ]
  },
  {
   "cell_type": "code",
   "execution_count": 6,
   "id": "ad1842e5-2c7c-402a-8a8f-50fedbc712fe",
   "metadata": {},
   "outputs": [
    {
     "data": {
      "text/plain": [
       "MeasureDef(timesig=(4, 4), quarterTempo=80, timesigInherited=True, tempoInherited=True, parent=139841566597184)"
      ]
     },
     "execution_count": 6,
     "metadata": {},
     "output_type": "execute_result"
    }
   ],
   "source": [
    "s[2]"
   ]
  },
  {
   "cell_type": "code",
   "execution_count": 7,
   "id": "d6085ff3-7b39-4d30-8694-8d18cd4285c2",
   "metadata": {},
   "outputs": [
    {
     "data": {
      "text/plain": [
       "MeasureDef(timesig=(4, 4), quarterTempo=80, timesigInherited=True, tempoInherited=True, parent=139841566597184)"
      ]
     },
     "execution_count": 7,
     "metadata": {},
     "output_type": "execute_result"
    }
   ],
   "source": [
    "m = s.getMeasureDef(1)\n",
    "m"
   ]
  },
  {
   "cell_type": "code",
   "execution_count": 8,
   "id": "cbb12491-bd3f-4c29-8a63-416d00b684f3",
   "metadata": {},
   "outputs": [],
   "source": [
    "m.timesig = (5, 8)"
   ]
  },
  {
   "cell_type": "code",
   "execution_count": 9,
   "id": "e0f06933-3382-4394-8128-7c9e49dedb86",
   "metadata": {},
   "outputs": [
    {
     "data": {
      "text/html": [
       "<h5><strong>ScoreStruct<strong></strong></h5><table><thead><tr><th style=\"text-align:left\">Meas. Index</th><th style=\"text-align:left\">Timesig</th><th style=\"text-align:left\">Tempo (quarter note)</th><th style=\"text-align:left\">Label</th><th style=\"text-align:left\">Rehearsal</th><th style=\"text-align:left\">Barline</th></tr></thead><tbody><tr><td style=\"text-align:left\"><span style=\"font-size: small;\">0</span></td><td style=\"text-align:left\"><span style=\"font-size: small;\">4/4</span></td><td style=\"text-align:left\"><span style=\"font-size: small;\">80</span></td><td style=\"text-align:left\"><span style=\"font-size: small;\"></span></td><td style=\"text-align:left\"><span style=\"font-size: small;\"></span></td><td style=\"text-align:left\"><span style=\"font-size: small;\"></span></td></tr><tr><td style=\"text-align:left\"><span style=\"font-size: small;\">1</span></td><td style=\"text-align:left\"><span style=\"font-size: small;\">5/8</span></td><td style=\"text-align:left\"><span style=\"font-size: small;\"></span></td><td style=\"text-align:left\"><span style=\"font-size: small;\"></span></td><td style=\"text-align:left\"><span style=\"font-size: small;\"></span></td><td style=\"text-align:left\"><span style=\"font-size: small;\"></span></td></tr><tr><td style=\"text-align:left\"><span style=\"font-size: small;\">2</span></td><td style=\"text-align:left\"><span style=\"font-size: small;\">(5/8)</span></td><td style=\"text-align:left\"><span style=\"font-size: small;\"></span></td><td style=\"text-align:left\"><span style=\"font-size: small;\"></span></td><td style=\"text-align:left\"><span style=\"font-size: small;\"></span></td><td style=\"text-align:left\"><span style=\"font-size: small;\"></span></td></tr><tr><td style=\"text-align:left\"><span style=\"font-size: small;\">3</span></td><td style=\"text-align:left\"><span style=\"font-size: small;\">3/4</span></td><td style=\"text-align:left\"><span style=\"font-size: small;\">72</span></td><td style=\"text-align:left\"><span style=\"font-size: small;\"></span></td><td style=\"text-align:left\"><span style=\"font-size: small;\"></span></td><td style=\"text-align:left\"><span style=\"font-size: small;\"></span></td></tr><tr><td style=\"text-align:left\"><span style=\"font-size: small;\">...</span></td><td style=\"text-align:left\"><span style=\"font-size: small;\"></span></td><td style=\"text-align:left\"><span style=\"font-size: small;\"></span></td><td style=\"text-align:left\"><span style=\"font-size: small;\"></span></td><td style=\"text-align:left\"><span style=\"font-size: small;\"></span></td><td style=\"text-align:left\"><span style=\"font-size: small;\"></span></td></tr></tbody></table>"
      ],
      "text/plain": [
       "ScoreStruct([4/4@80, 5/8, 5/8, 3/4@72])"
      ]
     },
     "execution_count": 9,
     "metadata": {},
     "output_type": "execute_result"
    }
   ],
   "source": [
    "s"
   ]
  },
  {
   "cell_type": "code",
   "execution_count": 10,
   "id": "9194adf4-1541-4c5b-9847-dddda3089ee7",
   "metadata": {},
   "outputs": [],
   "source": [
    "s[2].quarterTempo = 96"
   ]
  },
  {
   "cell_type": "code",
   "execution_count": 11,
   "id": "111dad30-bd60-414e-a46f-921d40ad1ac6",
   "metadata": {},
   "outputs": [
    {
     "data": {
      "text/html": [
       "<h5><strong>ScoreStruct<strong></strong></h5><table><thead><tr><th style=\"text-align:left\">Meas. Index</th><th style=\"text-align:left\">Timesig</th><th style=\"text-align:left\">Tempo (quarter note)</th><th style=\"text-align:left\">Label</th><th style=\"text-align:left\">Rehearsal</th><th style=\"text-align:left\">Barline</th></tr></thead><tbody><tr><td style=\"text-align:left\"><span style=\"font-size: small;\">0</span></td><td style=\"text-align:left\"><span style=\"font-size: small;\">4/4</span></td><td style=\"text-align:left\"><span style=\"font-size: small;\">80</span></td><td style=\"text-align:left\"><span style=\"font-size: small;\"></span></td><td style=\"text-align:left\"><span style=\"font-size: small;\"></span></td><td style=\"text-align:left\"><span style=\"font-size: small;\"></span></td></tr><tr><td style=\"text-align:left\"><span style=\"font-size: small;\">1</span></td><td style=\"text-align:left\"><span style=\"font-size: small;\">5/8</span></td><td style=\"text-align:left\"><span style=\"font-size: small;\"></span></td><td style=\"text-align:left\"><span style=\"font-size: small;\"></span></td><td style=\"text-align:left\"><span style=\"font-size: small;\"></span></td><td style=\"text-align:left\"><span style=\"font-size: small;\"></span></td></tr><tr><td style=\"text-align:left\"><span style=\"font-size: small;\">2</span></td><td style=\"text-align:left\"><span style=\"font-size: small;\">(5/8)</span></td><td style=\"text-align:left\"><span style=\"font-size: small;\">96</span></td><td style=\"text-align:left\"><span style=\"font-size: small;\"></span></td><td style=\"text-align:left\"><span style=\"font-size: small;\"></span></td><td style=\"text-align:left\"><span style=\"font-size: small;\"></span></td></tr><tr><td style=\"text-align:left\"><span style=\"font-size: small;\">3</span></td><td style=\"text-align:left\"><span style=\"font-size: small;\">3/4</span></td><td style=\"text-align:left\"><span style=\"font-size: small;\">72</span></td><td style=\"text-align:left\"><span style=\"font-size: small;\"></span></td><td style=\"text-align:left\"><span style=\"font-size: small;\"></span></td><td style=\"text-align:left\"><span style=\"font-size: small;\"></span></td></tr><tr><td style=\"text-align:left\"><span style=\"font-size: small;\">...</span></td><td style=\"text-align:left\"><span style=\"font-size: small;\"></span></td><td style=\"text-align:left\"><span style=\"font-size: small;\"></span></td><td style=\"text-align:left\"><span style=\"font-size: small;\"></span></td><td style=\"text-align:left\"><span style=\"font-size: small;\"></span></td><td style=\"text-align:left\"><span style=\"font-size: small;\"></span></td></tr></tbody></table>"
      ],
      "text/plain": [
       "ScoreStruct([4/4@80, 5/8, 5/8@96, 3/4@72])"
      ]
     },
     "execution_count": 11,
     "metadata": {},
     "output_type": "execute_result"
    }
   ],
   "source": [
    "s"
   ]
  },
  {
   "cell_type": "code",
   "execution_count": 12,
   "id": "6b3615fd-8731-4166-ae5e-6dcd4ce7350c",
   "metadata": {},
   "outputs": [
    {
     "data": {
      "text/plain": [
       "maelzel.rational.Rat"
      ]
     },
     "execution_count": 12,
     "metadata": {},
     "output_type": "execute_result"
    }
   ],
   "source": [
    "s[10].quarterTempo.__class__"
   ]
  },
  {
   "cell_type": "code",
   "execution_count": 13,
   "id": "0dd82e5f-caae-4b29-a227-8ab8693a8177",
   "metadata": {},
   "outputs": [
    {
     "data": {
      "text/plain": [
       "MeasureDef(timesig=(3, 4), quarterTempo=72, parent=139841566597184)"
      ]
     },
     "execution_count": 13,
     "metadata": {},
     "output_type": "execute_result"
    }
   ],
   "source": [
    "s[20]"
   ]
  },
  {
   "cell_type": "code",
   "execution_count": null,
   "id": "54f4c4e4-509f-4aef-98bc-e9370212700f",
   "metadata": {},
   "outputs": [],
   "source": []
  }
 ],
 "metadata": {
  "kernelspec": {
   "display_name": "Python 3 (ipykernel)",
   "language": "python",
   "name": "python3"
  },
  "language_info": {
   "codemirror_mode": {
    "name": "ipython",
    "version": 3
   },
   "file_extension": ".py",
   "mimetype": "text/x-python",
   "name": "python",
   "nbconvert_exporter": "python",
   "pygments_lexer": "ipython3",
   "version": "3.9.15"
  }
 },
 "nbformat": 4,
 "nbformat_minor": 5
}
