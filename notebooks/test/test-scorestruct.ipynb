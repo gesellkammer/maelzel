{
 "cells": [
  {
   "cell_type": "code",
   "execution_count": 1,
   "id": "d56afbe6-0966-4e94-a414-bf6c3c38020e",
   "metadata": {},
   "outputs": [],
   "source": [
    "from maelzel import scorestruct\n",
    "from maelzel.core import F"
   ]
  },
  {
   "cell_type": "code",
   "execution_count": 2,
   "id": "ed4b604c-1bb0-47f7-8c69-264178edf623",
   "metadata": {},
   "outputs": [
    {
     "data": {
      "text/html": [
       "<p><strong>ScoreStruct</strong></p><table><thead><tr><th style=\"text-align:left\">Meas. Index</th><th style=\"text-align:left\">Timesig</th><th style=\"text-align:left\">Tempo (quarter note)</th><th style=\"text-align:left\">Label</th><th style=\"text-align:left\">Rehearsal</th><th style=\"text-align:left\">Barline</th><th style=\"text-align:left\">Beats</th></tr></thead><tbody><tr><td style=\"text-align:left\"><span style=\"font-size: small;\">0</span></td><td style=\"text-align:left\"><span style=\"font-size: small;\">4/4</span></td><td style=\"text-align:left\"><span style=\"font-size: small;\">80</span></td><td style=\"text-align:left\"><span style=\"font-size: small;\"></span></td><td style=\"text-align:left\"><span style=\"font-size: small;\"></span></td><td style=\"text-align:left\"><span style=\"font-size: small;\"></span></td><td style=\"text-align:left\"><span style=\"font-size: small;\">1+1+1+1</span></td></tr><tr><td style=\"text-align:left\"><span style=\"font-size: small;\">1</span></td><td style=\"text-align:left\"><span style=\"font-size: small;\">(4/4)</span></td><td style=\"text-align:left\"><span style=\"font-size: small;\"></span></td><td style=\"text-align:left\"><span style=\"font-size: small;\"></span></td><td style=\"text-align:left\"><span style=\"font-size: small;\"></span></td><td style=\"text-align:left\"><span style=\"font-size: small;\"></span></td><td style=\"text-align:left\"><span style=\"font-size: small;\">1+1+1+1</span></td></tr><tr><td style=\"text-align:left\"><span style=\"font-size: small;\">2</span></td><td style=\"text-align:left\"><span style=\"font-size: small;\">(4/4)</span></td><td style=\"text-align:left\"><span style=\"font-size: small;\"></span></td><td style=\"text-align:left\"><span style=\"font-size: small;\"></span></td><td style=\"text-align:left\"><span style=\"font-size: small;\"></span></td><td style=\"text-align:left\"><span style=\"font-size: small;\"></span></td><td style=\"text-align:left\"><span style=\"font-size: small;\">1+1+1+1</span></td></tr><tr><td style=\"text-align:left\"><span style=\"font-size: small;\">3</span></td><td style=\"text-align:left\"><span style=\"font-size: small;\">(4/4)</span></td><td style=\"text-align:left\"><span style=\"font-size: small;\"></span></td><td style=\"text-align:left\"><span style=\"font-size: small;\"></span></td><td style=\"text-align:left\"><span style=\"font-size: small;\"></span></td><td style=\"text-align:left\"><span style=\"font-size: small;\"></span></td><td style=\"text-align:left\"><span style=\"font-size: small;\">1+1+1+1</span></td></tr><tr><td style=\"text-align:left\"><span style=\"font-size: small;\">4</span></td><td style=\"text-align:left\"><span style=\"font-size: small;\">3/4</span></td><td style=\"text-align:left\"><span style=\"font-size: small;\">72</span></td><td style=\"text-align:left\"><span style=\"font-size: small;\"></span></td><td style=\"text-align:left\"><span style=\"font-size: small;\"></span></td><td style=\"text-align:left\"><span style=\"font-size: small;\"></span></td><td style=\"text-align:left\"><span style=\"font-size: small;\">1+1+1</span></td></tr><tr><td style=\"text-align:left\"><span style=\"font-size: small;\">5</span></td><td style=\"text-align:left\"><span style=\"font-size: small;\">(3/4)</span></td><td style=\"text-align:left\"><span style=\"font-size: small;\"></span></td><td style=\"text-align:left\"><span style=\"font-size: small;\"></span></td><td style=\"text-align:left\"><span style=\"font-size: small;\"></span></td><td style=\"text-align:left\"><span style=\"font-size: small;\"></span></td><td style=\"text-align:left\"><span style=\"font-size: small;\">1+1+1</span></td></tr><tr><td style=\"text-align:left\"><span style=\"font-size: small;\">6</span></td><td style=\"text-align:left\"><span style=\"font-size: small;\">7/8</span></td><td style=\"text-align:left\"><span style=\"font-size: small;\"></span></td><td style=\"text-align:left\"><span style=\"font-size: small;\"></span></td><td style=\"text-align:left\"><span style=\"font-size: small;\"></span></td><td style=\"text-align:left\"><span style=\"font-size: small;\"></span></td><td style=\"text-align:left\"><span style=\"font-size: small;\">1+1+3/2</span></td></tr><tr><td style=\"text-align:left\"><span style=\"font-size: small;\">...</span></td><td style=\"text-align:left\"><span style=\"font-size: small;\"></span></td><td style=\"text-align:left\"><span style=\"font-size: small;\"></span></td><td style=\"text-align:left\"><span style=\"font-size: small;\"></span></td><td style=\"text-align:left\"><span style=\"font-size: small;\"></span></td><td style=\"text-align:left\"><span style=\"font-size: small;\"></span></td></tr></tbody></table>"
      ],
      "text/plain": [
       "ScoreStruct([4/4@80, 4/4, 4/4, 4/4, 3/4@72, 3/4, 7/8])"
      ]
     },
     "execution_count": 2,
     "metadata": {},
     "output_type": "execute_result"
    }
   ],
   "source": [
    "s = scorestruct.ScoreStruct(r'''\n",
    "4/4, 80\n",
    "4, 3/4, 72\n",
    "6, 7/8\n",
    "''')\n",
    "s"
   ]
  },
  {
   "cell_type": "markdown",
   "id": "f0427bb9-7749-49db-b547-353ee0e21af1",
   "metadata": {},
   "source": [
    "Changing the time signature of a measure should change the signature of consecutive measure which do not have an explicit timesig"
   ]
  },
  {
   "cell_type": "code",
   "execution_count": 3,
   "id": "ad1842e5-2c7c-402a-8a8f-50fedbc712fe",
   "metadata": {},
   "outputs": [
    {
     "data": {
      "text/html": [
       "<p><strong>ScoreStruct</strong></p><table><thead><tr><th style=\"text-align:left\">Meas. Index</th><th style=\"text-align:left\">Timesig</th><th style=\"text-align:left\">Tempo (quarter note)</th><th style=\"text-align:left\">Label</th><th style=\"text-align:left\">Rehearsal</th><th style=\"text-align:left\">Barline</th><th style=\"text-align:left\">Beats</th></tr></thead><tbody><tr><td style=\"text-align:left\"><span style=\"font-size: small;\">0</span></td><td style=\"text-align:left\"><span style=\"font-size: small;\">4/4</span></td><td style=\"text-align:left\"><span style=\"font-size: small;\">80</span></td><td style=\"text-align:left\"><span style=\"font-size: small;\"></span></td><td style=\"text-align:left\"><span style=\"font-size: small;\"></span></td><td style=\"text-align:left\"><span style=\"font-size: small;\"></span></td><td style=\"text-align:left\"><span style=\"font-size: small;\">1+1+1+1</span></td></tr><tr><td style=\"text-align:left\"><span style=\"font-size: small;\">1</span></td><td style=\"text-align:left\"><span style=\"font-size: small;\">(4/4)</span></td><td style=\"text-align:left\"><span style=\"font-size: small;\"></span></td><td style=\"text-align:left\"><span style=\"font-size: small;\"></span></td><td style=\"text-align:left\"><span style=\"font-size: small;\"></span></td><td style=\"text-align:left\"><span style=\"font-size: small;\"></span></td><td style=\"text-align:left\"><span style=\"font-size: small;\">1+1+1+1</span></td></tr><tr><td style=\"text-align:left\"><span style=\"font-size: small;\">2</span></td><td style=\"text-align:left\"><span style=\"font-size: small;\">5/8</span></td><td style=\"text-align:left\"><span style=\"font-size: small;\"></span></td><td style=\"text-align:left\"><span style=\"font-size: small;\"></span></td><td style=\"text-align:left\"><span style=\"font-size: small;\"></span></td><td style=\"text-align:left\"><span style=\"font-size: small;\"></span></td><td style=\"text-align:left\"><span style=\"font-size: small;\">1+3/2</span></td></tr><tr><td style=\"text-align:left\"><span style=\"font-size: small;\">3</span></td><td style=\"text-align:left\"><span style=\"font-size: small;\">(5/8)</span></td><td style=\"text-align:left\"><span style=\"font-size: small;\"></span></td><td style=\"text-align:left\"><span style=\"font-size: small;\"></span></td><td style=\"text-align:left\"><span style=\"font-size: small;\"></span></td><td style=\"text-align:left\"><span style=\"font-size: small;\"></span></td><td style=\"text-align:left\"><span style=\"font-size: small;\">1+3/2</span></td></tr><tr><td style=\"text-align:left\"><span style=\"font-size: small;\">4</span></td><td style=\"text-align:left\"><span style=\"font-size: small;\">3/4</span></td><td style=\"text-align:left\"><span style=\"font-size: small;\">72</span></td><td style=\"text-align:left\"><span style=\"font-size: small;\"></span></td><td style=\"text-align:left\"><span style=\"font-size: small;\"></span></td><td style=\"text-align:left\"><span style=\"font-size: small;\"></span></td><td style=\"text-align:left\"><span style=\"font-size: small;\">1+1+1</span></td></tr><tr><td style=\"text-align:left\"><span style=\"font-size: small;\">5</span></td><td style=\"text-align:left\"><span style=\"font-size: small;\">(3/4)</span></td><td style=\"text-align:left\"><span style=\"font-size: small;\"></span></td><td style=\"text-align:left\"><span style=\"font-size: small;\"></span></td><td style=\"text-align:left\"><span style=\"font-size: small;\"></span></td><td style=\"text-align:left\"><span style=\"font-size: small;\"></span></td><td style=\"text-align:left\"><span style=\"font-size: small;\">1+1+1</span></td></tr><tr><td style=\"text-align:left\"><span style=\"font-size: small;\">6</span></td><td style=\"text-align:left\"><span style=\"font-size: small;\">7/8</span></td><td style=\"text-align:left\"><span style=\"font-size: small;\"></span></td><td style=\"text-align:left\"><span style=\"font-size: small;\"></span></td><td style=\"text-align:left\"><span style=\"font-size: small;\"></span></td><td style=\"text-align:left\"><span style=\"font-size: small;\"></span></td><td style=\"text-align:left\"><span style=\"font-size: small;\">1+1+3/2</span></td></tr><tr><td style=\"text-align:left\"><span style=\"font-size: small;\">...</span></td><td style=\"text-align:left\"><span style=\"font-size: small;\"></span></td><td style=\"text-align:left\"><span style=\"font-size: small;\"></span></td><td style=\"text-align:left\"><span style=\"font-size: small;\"></span></td><td style=\"text-align:left\"><span style=\"font-size: small;\"></span></td><td style=\"text-align:left\"><span style=\"font-size: small;\"></span></td></tr></tbody></table>"
      ],
      "text/plain": [
       "ScoreStruct([4/4@80, 4/4, 5/8, 5/8, 3/4@72, 3/4, 7/8])"
      ]
     },
     "execution_count": 3,
     "metadata": {},
     "output_type": "execute_result"
    }
   ],
   "source": [
    "s[2].timesig = (5, 8)\n",
    "s"
   ]
  },
  {
   "cell_type": "code",
   "execution_count": 4,
   "id": "62701e2c-8542-421c-baea-30f4f27ea8d4",
   "metadata": {},
   "outputs": [
    {
     "data": {
      "text/html": [
       "<p><strong>ScoreStruct</strong></p><table><thead><tr><th style=\"text-align:left\">Meas. Index</th><th style=\"text-align:left\">Timesig</th><th style=\"text-align:left\">Tempo (quarter note)</th><th style=\"text-align:left\">Label</th><th style=\"text-align:left\">Rehearsal</th><th style=\"text-align:left\">Barline</th><th style=\"text-align:left\">Beats</th></tr></thead><tbody><tr><td style=\"text-align:left\"><span style=\"font-size: small;\">0</span></td><td style=\"text-align:left\"><span style=\"font-size: small;\">4/4</span></td><td style=\"text-align:left\"><span style=\"font-size: small;\">80</span></td><td style=\"text-align:left\"><span style=\"font-size: small;\"></span></td><td style=\"text-align:left\"><span style=\"font-size: small;\"></span></td><td style=\"text-align:left\"><span style=\"font-size: small;\"></span></td><td style=\"text-align:left\"><span style=\"font-size: small;\">1+1+1+1</span></td></tr><tr><td style=\"text-align:left\"><span style=\"font-size: small;\">1</span></td><td style=\"text-align:left\"><span style=\"font-size: small;\">(4/4)</span></td><td style=\"text-align:left\"><span style=\"font-size: small;\"></span></td><td style=\"text-align:left\"><span style=\"font-size: small;\"></span></td><td style=\"text-align:left\"><span style=\"font-size: small;\"></span></td><td style=\"text-align:left\"><span style=\"font-size: small;\"></span></td><td style=\"text-align:left\"><span style=\"font-size: small;\">1+1+1+1</span></td></tr><tr><td style=\"text-align:left\"><span style=\"font-size: small;\">2</span></td><td style=\"text-align:left\"><span style=\"font-size: small;\">5/8</span></td><td style=\"text-align:left\"><span style=\"font-size: small;\"></span></td><td style=\"text-align:left\"><span style=\"font-size: small;\"></span></td><td style=\"text-align:left\"><span style=\"font-size: small;\"></span></td><td style=\"text-align:left\"><span style=\"font-size: small;\"></span></td><td style=\"text-align:left\"><span style=\"font-size: small;\">1+3/2</span></td></tr><tr><td style=\"text-align:left\"><span style=\"font-size: small;\">3</span></td><td style=\"text-align:left\"><span style=\"font-size: small;\">(5/8)</span></td><td style=\"text-align:left\"><span style=\"font-size: small;\"></span></td><td style=\"text-align:left\"><span style=\"font-size: small;\"></span></td><td style=\"text-align:left\"><span style=\"font-size: small;\"></span></td><td style=\"text-align:left\"><span style=\"font-size: small;\"></span></td><td style=\"text-align:left\"><span style=\"font-size: small;\">1+3/2</span></td></tr><tr><td style=\"text-align:left\"><span style=\"font-size: small;\">4</span></td><td style=\"text-align:left\"><span style=\"font-size: small;\">4/4</span></td><td style=\"text-align:left\"><span style=\"font-size: small;\">72</span></td><td style=\"text-align:left\"><span style=\"font-size: small;\"></span></td><td style=\"text-align:left\"><span style=\"font-size: small;\"></span></td><td style=\"text-align:left\"><span style=\"font-size: small;\"></span></td><td style=\"text-align:left\"><span style=\"font-size: small;\">1+1+1+1</span></td></tr><tr><td style=\"text-align:left\"><span style=\"font-size: small;\">5</span></td><td style=\"text-align:left\"><span style=\"font-size: small;\">(4/4)</span></td><td style=\"text-align:left\"><span style=\"font-size: small;\"></span></td><td style=\"text-align:left\"><span style=\"font-size: small;\"></span></td><td style=\"text-align:left\"><span style=\"font-size: small;\"></span></td><td style=\"text-align:left\"><span style=\"font-size: small;\"></span></td><td style=\"text-align:left\"><span style=\"font-size: small;\">1+1+1+1</span></td></tr><tr><td style=\"text-align:left\"><span style=\"font-size: small;\">6</span></td><td style=\"text-align:left\"><span style=\"font-size: small;\">7/8</span></td><td style=\"text-align:left\"><span style=\"font-size: small;\"></span></td><td style=\"text-align:left\"><span style=\"font-size: small;\"></span></td><td style=\"text-align:left\"><span style=\"font-size: small;\"></span></td><td style=\"text-align:left\"><span style=\"font-size: small;\"></span></td><td style=\"text-align:left\"><span style=\"font-size: small;\">1+1+3/2</span></td></tr><tr><td style=\"text-align:left\"><span style=\"font-size: small;\">...</span></td><td style=\"text-align:left\"><span style=\"font-size: small;\"></span></td><td style=\"text-align:left\"><span style=\"font-size: small;\"></span></td><td style=\"text-align:left\"><span style=\"font-size: small;\"></span></td><td style=\"text-align:left\"><span style=\"font-size: small;\"></span></td><td style=\"text-align:left\"><span style=\"font-size: small;\"></span></td></tr></tbody></table>"
      ],
      "text/plain": [
       "ScoreStruct([4/4@80, 4/4, 5/8, 5/8, 4/4@72, 4/4, 7/8])"
      ]
     },
     "execution_count": 4,
     "metadata": {},
     "output_type": "execute_result"
    }
   ],
   "source": [
    "s[4].timesig = (4, 4)\n",
    "s"
   ]
  },
  {
   "cell_type": "code",
   "execution_count": 5,
   "id": "9194adf4-1541-4c5b-9847-dddda3089ee7",
   "metadata": {},
   "outputs": [],
   "source": [
    "s[2].quarterTempo = 96"
   ]
  },
  {
   "cell_type": "code",
   "execution_count": 6,
   "id": "111dad30-bd60-414e-a46f-921d40ad1ac6",
   "metadata": {},
   "outputs": [
    {
     "data": {
      "text/html": [
       "<p><strong>ScoreStruct</strong></p><table><thead><tr><th style=\"text-align:left\">Meas. Index</th><th style=\"text-align:left\">Timesig</th><th style=\"text-align:left\">Tempo (quarter note)</th><th style=\"text-align:left\">Label</th><th style=\"text-align:left\">Rehearsal</th><th style=\"text-align:left\">Barline</th><th style=\"text-align:left\">Beats</th></tr></thead><tbody><tr><td style=\"text-align:left\"><span style=\"font-size: small;\">0</span></td><td style=\"text-align:left\"><span style=\"font-size: small;\">4/4</span></td><td style=\"text-align:left\"><span style=\"font-size: small;\">80</span></td><td style=\"text-align:left\"><span style=\"font-size: small;\"></span></td><td style=\"text-align:left\"><span style=\"font-size: small;\"></span></td><td style=\"text-align:left\"><span style=\"font-size: small;\"></span></td><td style=\"text-align:left\"><span style=\"font-size: small;\">1+1+1+1</span></td></tr><tr><td style=\"text-align:left\"><span style=\"font-size: small;\">1</span></td><td style=\"text-align:left\"><span style=\"font-size: small;\">(4/4)</span></td><td style=\"text-align:left\"><span style=\"font-size: small;\"></span></td><td style=\"text-align:left\"><span style=\"font-size: small;\"></span></td><td style=\"text-align:left\"><span style=\"font-size: small;\"></span></td><td style=\"text-align:left\"><span style=\"font-size: small;\"></span></td><td style=\"text-align:left\"><span style=\"font-size: small;\">1+1+1+1</span></td></tr><tr><td style=\"text-align:left\"><span style=\"font-size: small;\">2</span></td><td style=\"text-align:left\"><span style=\"font-size: small;\">5/8</span></td><td style=\"text-align:left\"><span style=\"font-size: small;\">96</span></td><td style=\"text-align:left\"><span style=\"font-size: small;\"></span></td><td style=\"text-align:left\"><span style=\"font-size: small;\"></span></td><td style=\"text-align:left\"><span style=\"font-size: small;\"></span></td><td style=\"text-align:left\"><span style=\"font-size: small;\">1+3/2</span></td></tr><tr><td style=\"text-align:left\"><span style=\"font-size: small;\">3</span></td><td style=\"text-align:left\"><span style=\"font-size: small;\">(5/8)</span></td><td style=\"text-align:left\"><span style=\"font-size: small;\"></span></td><td style=\"text-align:left\"><span style=\"font-size: small;\"></span></td><td style=\"text-align:left\"><span style=\"font-size: small;\"></span></td><td style=\"text-align:left\"><span style=\"font-size: small;\"></span></td><td style=\"text-align:left\"><span style=\"font-size: small;\">1+3/2</span></td></tr><tr><td style=\"text-align:left\"><span style=\"font-size: small;\">4</span></td><td style=\"text-align:left\"><span style=\"font-size: small;\">4/4</span></td><td style=\"text-align:left\"><span style=\"font-size: small;\">72</span></td><td style=\"text-align:left\"><span style=\"font-size: small;\"></span></td><td style=\"text-align:left\"><span style=\"font-size: small;\"></span></td><td style=\"text-align:left\"><span style=\"font-size: small;\"></span></td><td style=\"text-align:left\"><span style=\"font-size: small;\">1+1+1+1</span></td></tr><tr><td style=\"text-align:left\"><span style=\"font-size: small;\">5</span></td><td style=\"text-align:left\"><span style=\"font-size: small;\">(4/4)</span></td><td style=\"text-align:left\"><span style=\"font-size: small;\"></span></td><td style=\"text-align:left\"><span style=\"font-size: small;\"></span></td><td style=\"text-align:left\"><span style=\"font-size: small;\"></span></td><td style=\"text-align:left\"><span style=\"font-size: small;\"></span></td><td style=\"text-align:left\"><span style=\"font-size: small;\">1+1+1+1</span></td></tr><tr><td style=\"text-align:left\"><span style=\"font-size: small;\">6</span></td><td style=\"text-align:left\"><span style=\"font-size: small;\">7/8</span></td><td style=\"text-align:left\"><span style=\"font-size: small;\"></span></td><td style=\"text-align:left\"><span style=\"font-size: small;\"></span></td><td style=\"text-align:left\"><span style=\"font-size: small;\"></span></td><td style=\"text-align:left\"><span style=\"font-size: small;\"></span></td><td style=\"text-align:left\"><span style=\"font-size: small;\">1+1+3/2</span></td></tr><tr><td style=\"text-align:left\"><span style=\"font-size: small;\">...</span></td><td style=\"text-align:left\"><span style=\"font-size: small;\"></span></td><td style=\"text-align:left\"><span style=\"font-size: small;\"></span></td><td style=\"text-align:left\"><span style=\"font-size: small;\"></span></td><td style=\"text-align:left\"><span style=\"font-size: small;\"></span></td><td style=\"text-align:left\"><span style=\"font-size: small;\"></span></td></tr></tbody></table>"
      ],
      "text/plain": [
       "ScoreStruct([4/4@80, 4/4, 5/8@96, 5/8, 4/4@72, 4/4, 7/8])"
      ]
     },
     "execution_count": 6,
     "metadata": {},
     "output_type": "execute_result"
    }
   ],
   "source": [
    "s"
   ]
  },
  {
   "cell_type": "markdown",
   "id": "bf3d63bc-2793-461f-a00e-f34fd159e4fc",
   "metadata": {},
   "source": [
    "## Endless vs Fixed\n",
    "\n",
    "A ScoreStruct can be endless or fixed. By default ScoreStructs are endless, but they can be explicitely set to be fixed"
   ]
  },
  {
   "cell_type": "code",
   "execution_count": 7,
   "id": "cc134a6f-726b-4bdc-905e-e3107b1319a7",
   "metadata": {},
   "outputs": [
    {
     "data": {
      "text/html": [
       "<p><strong>ScoreStruct</strong></p><table><thead><tr><th style=\"text-align:left\">Meas. Index</th><th style=\"text-align:left\">Timesig</th><th style=\"text-align:left\">Tempo (quarter note)</th><th style=\"text-align:left\">Label</th><th style=\"text-align:left\">Rehearsal</th><th style=\"text-align:left\">Barline</th><th style=\"text-align:left\">Beats</th></tr></thead><tbody><tr><td style=\"text-align:left\"><span style=\"font-size: small;\">0</span></td><td style=\"text-align:left\"><span style=\"font-size: small;\">4/4</span></td><td style=\"text-align:left\"><span style=\"font-size: small;\">80</span></td><td style=\"text-align:left\"><span style=\"font-size: small;\"></span></td><td style=\"text-align:left\"><span style=\"font-size: small;\"></span></td><td style=\"text-align:left\"><span style=\"font-size: small;\"></span></td><td style=\"text-align:left\"><span style=\"font-size: small;\">1+1+1+1</span></td></tr><tr><td style=\"text-align:left\"><span style=\"font-size: small;\">1</span></td><td style=\"text-align:left\"><span style=\"font-size: small;\">(4/4)</span></td><td style=\"text-align:left\"><span style=\"font-size: small;\"></span></td><td style=\"text-align:left\"><span style=\"font-size: small;\"></span></td><td style=\"text-align:left\"><span style=\"font-size: small;\"></span></td><td style=\"text-align:left\"><span style=\"font-size: small;\"></span></td><td style=\"text-align:left\"><span style=\"font-size: small;\">1+1+1+1</span></td></tr><tr><td style=\"text-align:left\"><span style=\"font-size: small;\">2</span></td><td style=\"text-align:left\"><span style=\"font-size: small;\">(4/4)</span></td><td style=\"text-align:left\"><span style=\"font-size: small;\"></span></td><td style=\"text-align:left\"><span style=\"font-size: small;\"></span></td><td style=\"text-align:left\"><span style=\"font-size: small;\"></span></td><td style=\"text-align:left\"><span style=\"font-size: small;\"></span></td><td style=\"text-align:left\"><span style=\"font-size: small;\">1+1+1+1</span></td></tr><tr><td style=\"text-align:left\"><span style=\"font-size: small;\">3</span></td><td style=\"text-align:left\"><span style=\"font-size: small;\">(4/4)</span></td><td style=\"text-align:left\"><span style=\"font-size: small;\"></span></td><td style=\"text-align:left\"><span style=\"font-size: small;\"></span></td><td style=\"text-align:left\"><span style=\"font-size: small;\"></span></td><td style=\"text-align:left\"><span style=\"font-size: small;\"></span></td><td style=\"text-align:left\"><span style=\"font-size: small;\">1+1+1+1</span></td></tr><tr><td style=\"text-align:left\"><span style=\"font-size: small;\">4</span></td><td style=\"text-align:left\"><span style=\"font-size: small;\">3/4</span></td><td style=\"text-align:left\"><span style=\"font-size: small;\">72</span></td><td style=\"text-align:left\"><span style=\"font-size: small;\"></span></td><td style=\"text-align:left\"><span style=\"font-size: small;\"></span></td><td style=\"text-align:left\"><span style=\"font-size: small;\"></span></td><td style=\"text-align:left\"><span style=\"font-size: small;\">1+1+1</span></td></tr><tr><td style=\"text-align:left\"><span style=\"font-size: small;\">5</span></td><td style=\"text-align:left\"><span style=\"font-size: small;\">(3/4)</span></td><td style=\"text-align:left\"><span style=\"font-size: small;\"></span></td><td style=\"text-align:left\"><span style=\"font-size: small;\"></span></td><td style=\"text-align:left\"><span style=\"font-size: small;\"></span></td><td style=\"text-align:left\"><span style=\"font-size: small;\"></span></td><td style=\"text-align:left\"><span style=\"font-size: small;\">1+1+1</span></td></tr><tr><td style=\"text-align:left\"><span style=\"font-size: small;\">6</span></td><td style=\"text-align:left\"><span style=\"font-size: small;\">7/8</span></td><td style=\"text-align:left\"><span style=\"font-size: small;\"></span></td><td style=\"text-align:left\"><span style=\"font-size: small;\"></span></td><td style=\"text-align:left\"><span style=\"font-size: small;\"></span></td><td style=\"text-align:left\"><span style=\"font-size: small;\"></span></td><td style=\"text-align:left\"><span style=\"font-size: small;\">1+1+3/2</span></td></tr></tbody></table>"
      ],
      "text/plain": [
       "ScoreStruct([4/4@80, 4/4, 4/4, 4/4, 3/4@72, 3/4, 7/8])"
      ]
     },
     "execution_count": 7,
     "metadata": {},
     "output_type": "execute_result"
    }
   ],
   "source": [
    "s = scorestruct.ScoreStruct(r'''\n",
    "4/4, 80\n",
    "4, 3/4, 72\n",
    "6, 7/8\n",
    "''', endless=False)\n",
    "s"
   ]
  },
  {
   "cell_type": "markdown",
   "id": "7495a22d-9d84-4980-a827-92bb7e438ea4",
   "metadata": {},
   "source": [
    "In a fixed struct getting a measure outside of the defined range should result in an error"
   ]
  },
  {
   "cell_type": "code",
   "execution_count": 8,
   "id": "0d83bd45-a5a1-4c9c-9486-3d0dd9d778d5",
   "metadata": {},
   "outputs": [
    {
     "ename": "IndexError",
     "evalue": "index 20 out of range. The score has 7 measures defined",
     "output_type": "error",
     "traceback": [
      "\u001b[31m---------------------------------------------------------------------------\u001b[39m",
      "\u001b[31mIndexError\u001b[39m                                Traceback (most recent call last)",
      "\u001b[36mCell\u001b[39m\u001b[36m \u001b[39m\u001b[32mIn[8]\u001b[39m\u001b[32m, line 1\u001b[39m\n\u001b[32m----> \u001b[39m\u001b[32m1\u001b[39m \u001b[43ms\u001b[49m\u001b[43m[\u001b[49m\u001b[32;43m20\u001b[39;49m\u001b[43m]\u001b[49m\n",
      "\u001b[36mFile \u001b[39m\u001b[32m~/dev/python/maelzel/maelzel/scorestruct.py:1497\u001b[39m, in \u001b[36mScoreStruct.__getitem__\u001b[39m\u001b[34m(self, item)\u001b[39m\n\u001b[32m   1495\u001b[39m \u001b[38;5;28;01mdef\u001b[39;00m\u001b[38;5;250m \u001b[39m\u001b[34m__getitem__\u001b[39m(\u001b[38;5;28mself\u001b[39m, item):\n\u001b[32m   1496\u001b[39m     \u001b[38;5;28;01mif\u001b[39;00m \u001b[38;5;28misinstance\u001b[39m(item, \u001b[38;5;28mint\u001b[39m):\n\u001b[32m-> \u001b[39m\u001b[32m1497\u001b[39m         \u001b[38;5;28;01mreturn\u001b[39;00m \u001b[38;5;28;43mself\u001b[39;49m\u001b[43m.\u001b[49m\u001b[43mgetMeasureDef\u001b[49m\u001b[43m(\u001b[49m\u001b[43mitem\u001b[49m\u001b[43m)\u001b[49m\n\u001b[32m   1498\u001b[39m     \u001b[38;5;28;01massert\u001b[39;00m \u001b[38;5;28misinstance\u001b[39m(item, \u001b[38;5;28mslice\u001b[39m)\n\u001b[32m   1499\u001b[39m     \u001b[38;5;28;01mreturn\u001b[39;00m [\u001b[38;5;28mself\u001b[39m.getMeasureDef(idx) \u001b[38;5;28;01mfor\u001b[39;00m idx \u001b[38;5;129;01min\u001b[39;00m \u001b[38;5;28mrange\u001b[39m(item.start, item.stop, item.step)]\n",
      "\u001b[36mFile \u001b[39m\u001b[32m~/dev/python/maelzel/maelzel/scorestruct.py:1471\u001b[39m, in \u001b[36mScoreStruct.getMeasureDef\u001b[39m\u001b[34m(self, idx, extend)\u001b[39m\n\u001b[32m   1469\u001b[39m \u001b[38;5;28;01mif\u001b[39;00m \u001b[38;5;129;01mnot\u001b[39;00m extend:\n\u001b[32m   1470\u001b[39m     \u001b[38;5;28;01mif\u001b[39;00m \u001b[38;5;129;01mnot\u001b[39;00m \u001b[38;5;28mself\u001b[39m.endless:\n\u001b[32m-> \u001b[39m\u001b[32m1471\u001b[39m         \u001b[38;5;28;01mraise\u001b[39;00m \u001b[38;5;167;01mIndexError\u001b[39;00m(\u001b[33mf\u001b[39m\u001b[33m\"\u001b[39m\u001b[33mindex \u001b[39m\u001b[38;5;132;01m{\u001b[39;00midx\u001b[38;5;132;01m}\u001b[39;00m\u001b[33m out of range. The score has \u001b[39m\u001b[33m\"\u001b[39m\n\u001b[32m   1472\u001b[39m                          \u001b[33mf\u001b[39m\u001b[33m\"\u001b[39m\u001b[38;5;132;01m{\u001b[39;00m\u001b[38;5;28mlen\u001b[39m(\u001b[38;5;28mself\u001b[39m.measuredefs)\u001b[38;5;132;01m}\u001b[39;00m\u001b[33m measures defined\u001b[39m\u001b[33m\"\u001b[39m)\n\u001b[32m   1474\u001b[39m     \u001b[38;5;66;03m# \"outside\" of the defined score: return a copy of the last\u001b[39;00m\n\u001b[32m   1475\u001b[39m     \u001b[38;5;66;03m# measure so that any modification will not have any effect\u001b[39;00m\n\u001b[32m   1476\u001b[39m     \u001b[38;5;66;03m# Make the parent None so that it does not get notified if tempo or timesig\u001b[39;00m\n\u001b[32m   1477\u001b[39m     \u001b[38;5;66;03m# change\u001b[39;00m\n\u001b[32m   1478\u001b[39m     out = \u001b[38;5;28mself\u001b[39m.measuredefs[-\u001b[32m1\u001b[39m].copy()\n",
      "\u001b[31mIndexError\u001b[39m: index 20 out of range. The score has 7 measures defined"
     ]
    }
   ],
   "source": [
    "s[20]"
   ]
  },
  {
   "cell_type": "markdown",
   "id": "9691403d-ecf5-481c-bfac-3b396cb3201e",
   "metadata": {},
   "source": [
    "The same with an endless struct. Getting a measure \"outside\" of the defined range extends the scorestruct"
   ]
  },
  {
   "cell_type": "code",
   "execution_count": 9,
   "id": "9dc62325-a5e6-49ef-a23f-1d8160cf08a7",
   "metadata": {},
   "outputs": [
    {
     "data": {
      "text/html": [
       "<p><strong>ScoreStruct</strong></p><table><thead><tr><th style=\"text-align:left\">Meas. Index</th><th style=\"text-align:left\">Timesig</th><th style=\"text-align:left\">Tempo (quarter note)</th><th style=\"text-align:left\">Label</th><th style=\"text-align:left\">Rehearsal</th><th style=\"text-align:left\">Barline</th><th style=\"text-align:left\">Beats</th></tr></thead><tbody><tr><td style=\"text-align:left\"><span style=\"font-size: small;\">0</span></td><td style=\"text-align:left\"><span style=\"font-size: small;\">4/4</span></td><td style=\"text-align:left\"><span style=\"font-size: small;\">80</span></td><td style=\"text-align:left\"><span style=\"font-size: small;\"></span></td><td style=\"text-align:left\"><span style=\"font-size: small;\"></span></td><td style=\"text-align:left\"><span style=\"font-size: small;\"></span></td><td style=\"text-align:left\"><span style=\"font-size: small;\">1+1+1+1</span></td></tr><tr><td style=\"text-align:left\"><span style=\"font-size: small;\">1</span></td><td style=\"text-align:left\"><span style=\"font-size: small;\">(4/4)</span></td><td style=\"text-align:left\"><span style=\"font-size: small;\"></span></td><td style=\"text-align:left\"><span style=\"font-size: small;\"></span></td><td style=\"text-align:left\"><span style=\"font-size: small;\"></span></td><td style=\"text-align:left\"><span style=\"font-size: small;\"></span></td><td style=\"text-align:left\"><span style=\"font-size: small;\">1+1+1+1</span></td></tr><tr><td style=\"text-align:left\"><span style=\"font-size: small;\">2</span></td><td style=\"text-align:left\"><span style=\"font-size: small;\">(4/4)</span></td><td style=\"text-align:left\"><span style=\"font-size: small;\"></span></td><td style=\"text-align:left\"><span style=\"font-size: small;\"></span></td><td style=\"text-align:left\"><span style=\"font-size: small;\"></span></td><td style=\"text-align:left\"><span style=\"font-size: small;\"></span></td><td style=\"text-align:left\"><span style=\"font-size: small;\">1+1+1+1</span></td></tr><tr><td style=\"text-align:left\"><span style=\"font-size: small;\">3</span></td><td style=\"text-align:left\"><span style=\"font-size: small;\">(4/4)</span></td><td style=\"text-align:left\"><span style=\"font-size: small;\"></span></td><td style=\"text-align:left\"><span style=\"font-size: small;\"></span></td><td style=\"text-align:left\"><span style=\"font-size: small;\"></span></td><td style=\"text-align:left\"><span style=\"font-size: small;\"></span></td><td style=\"text-align:left\"><span style=\"font-size: small;\">1+1+1+1</span></td></tr><tr><td style=\"text-align:left\"><span style=\"font-size: small;\">4</span></td><td style=\"text-align:left\"><span style=\"font-size: small;\">3/4</span></td><td style=\"text-align:left\"><span style=\"font-size: small;\">72</span></td><td style=\"text-align:left\"><span style=\"font-size: small;\"></span></td><td style=\"text-align:left\"><span style=\"font-size: small;\"></span></td><td style=\"text-align:left\"><span style=\"font-size: small;\"></span></td><td style=\"text-align:left\"><span style=\"font-size: small;\">1+1+1</span></td></tr><tr><td style=\"text-align:left\"><span style=\"font-size: small;\">5</span></td><td style=\"text-align:left\"><span style=\"font-size: small;\">(3/4)</span></td><td style=\"text-align:left\"><span style=\"font-size: small;\"></span></td><td style=\"text-align:left\"><span style=\"font-size: small;\"></span></td><td style=\"text-align:left\"><span style=\"font-size: small;\"></span></td><td style=\"text-align:left\"><span style=\"font-size: small;\"></span></td><td style=\"text-align:left\"><span style=\"font-size: small;\">1+1+1</span></td></tr><tr><td style=\"text-align:left\"><span style=\"font-size: small;\">6</span></td><td style=\"text-align:left\"><span style=\"font-size: small;\">7/8</span></td><td style=\"text-align:left\"><span style=\"font-size: small;\"></span></td><td style=\"text-align:left\"><span style=\"font-size: small;\"></span></td><td style=\"text-align:left\"><span style=\"font-size: small;\"></span></td><td style=\"text-align:left\"><span style=\"font-size: small;\"></span></td><td style=\"text-align:left\"><span style=\"font-size: small;\">1+1+3/2</span></td></tr><tr><td style=\"text-align:left\"><span style=\"font-size: small;\">...</span></td><td style=\"text-align:left\"><span style=\"font-size: small;\"></span></td><td style=\"text-align:left\"><span style=\"font-size: small;\"></span></td><td style=\"text-align:left\"><span style=\"font-size: small;\"></span></td><td style=\"text-align:left\"><span style=\"font-size: small;\"></span></td><td style=\"text-align:left\"><span style=\"font-size: small;\"></span></td></tr></tbody></table>"
      ],
      "text/plain": [
       "ScoreStruct([4/4@80, 4/4, 4/4, 4/4, 3/4@72, 3/4, 7/8])"
      ]
     },
     "execution_count": 9,
     "metadata": {},
     "output_type": "execute_result"
    }
   ],
   "source": [
    "s = scorestruct.ScoreStruct(r'''\n",
    "4/4, 80\n",
    "4, 3/4, 72\n",
    "6, 7/8\n",
    "''')\n",
    "s"
   ]
  },
  {
   "cell_type": "code",
   "execution_count": 10,
   "id": "54f4c4e4-509f-4aef-98bc-e9370212700f",
   "metadata": {},
   "outputs": [
    {
     "data": {
      "text/html": [
       "<p><strong>ScoreStruct</strong></p><table><thead><tr><th style=\"text-align:left\">Meas. Index</th><th style=\"text-align:left\">Timesig</th><th style=\"text-align:left\">Tempo (quarter note)</th><th style=\"text-align:left\">Label</th><th style=\"text-align:left\">Rehearsal</th><th style=\"text-align:left\">Barline</th><th style=\"text-align:left\">Beats</th></tr></thead><tbody><tr><td style=\"text-align:left\"><span style=\"font-size: small;\">0</span></td><td style=\"text-align:left\"><span style=\"font-size: small;\">4/4</span></td><td style=\"text-align:left\"><span style=\"font-size: small;\">80</span></td><td style=\"text-align:left\"><span style=\"font-size: small;\"></span></td><td style=\"text-align:left\"><span style=\"font-size: small;\"></span></td><td style=\"text-align:left\"><span style=\"font-size: small;\"></span></td><td style=\"text-align:left\"><span style=\"font-size: small;\">1+1+1+1</span></td></tr><tr><td style=\"text-align:left\"><span style=\"font-size: small;\">1</span></td><td style=\"text-align:left\"><span style=\"font-size: small;\">(4/4)</span></td><td style=\"text-align:left\"><span style=\"font-size: small;\"></span></td><td style=\"text-align:left\"><span style=\"font-size: small;\"></span></td><td style=\"text-align:left\"><span style=\"font-size: small;\"></span></td><td style=\"text-align:left\"><span style=\"font-size: small;\"></span></td><td style=\"text-align:left\"><span style=\"font-size: small;\">1+1+1+1</span></td></tr><tr><td style=\"text-align:left\"><span style=\"font-size: small;\">2</span></td><td style=\"text-align:left\"><span style=\"font-size: small;\">(4/4)</span></td><td style=\"text-align:left\"><span style=\"font-size: small;\"></span></td><td style=\"text-align:left\"><span style=\"font-size: small;\"></span></td><td style=\"text-align:left\"><span style=\"font-size: small;\"></span></td><td style=\"text-align:left\"><span style=\"font-size: small;\"></span></td><td style=\"text-align:left\"><span style=\"font-size: small;\">1+1+1+1</span></td></tr><tr><td style=\"text-align:left\"><span style=\"font-size: small;\">3</span></td><td style=\"text-align:left\"><span style=\"font-size: small;\">(4/4)</span></td><td style=\"text-align:left\"><span style=\"font-size: small;\"></span></td><td style=\"text-align:left\"><span style=\"font-size: small;\"></span></td><td style=\"text-align:left\"><span style=\"font-size: small;\"></span></td><td style=\"text-align:left\"><span style=\"font-size: small;\"></span></td><td style=\"text-align:left\"><span style=\"font-size: small;\">1+1+1+1</span></td></tr><tr><td style=\"text-align:left\"><span style=\"font-size: small;\">4</span></td><td style=\"text-align:left\"><span style=\"font-size: small;\">3/4</span></td><td style=\"text-align:left\"><span style=\"font-size: small;\">72</span></td><td style=\"text-align:left\"><span style=\"font-size: small;\"></span></td><td style=\"text-align:left\"><span style=\"font-size: small;\"></span></td><td style=\"text-align:left\"><span style=\"font-size: small;\"></span></td><td style=\"text-align:left\"><span style=\"font-size: small;\">1+1+1</span></td></tr><tr><td style=\"text-align:left\"><span style=\"font-size: small;\">5</span></td><td style=\"text-align:left\"><span style=\"font-size: small;\">(3/4)</span></td><td style=\"text-align:left\"><span style=\"font-size: small;\"></span></td><td style=\"text-align:left\"><span style=\"font-size: small;\"></span></td><td style=\"text-align:left\"><span style=\"font-size: small;\"></span></td><td style=\"text-align:left\"><span style=\"font-size: small;\"></span></td><td style=\"text-align:left\"><span style=\"font-size: small;\">1+1+1</span></td></tr><tr><td style=\"text-align:left\"><span style=\"font-size: small;\">6</span></td><td style=\"text-align:left\"><span style=\"font-size: small;\">7/8</span></td><td style=\"text-align:left\"><span style=\"font-size: small;\"></span></td><td style=\"text-align:left\"><span style=\"font-size: small;\"></span></td><td style=\"text-align:left\"><span style=\"font-size: small;\"></span></td><td style=\"text-align:left\"><span style=\"font-size: small;\"></span></td><td style=\"text-align:left\"><span style=\"font-size: small;\">1+1+3/2</span></td></tr><tr><td style=\"text-align:left\"><span style=\"font-size: small;\">7</span></td><td style=\"text-align:left\"><span style=\"font-size: small;\">(7/8)</span></td><td style=\"text-align:left\"><span style=\"font-size: small;\"></span></td><td style=\"text-align:left\"><span style=\"font-size: small;\"></span></td><td style=\"text-align:left\"><span style=\"font-size: small;\"></span></td><td style=\"text-align:left\"><span style=\"font-size: small;\"></span></td><td style=\"text-align:left\"><span style=\"font-size: small;\">1+1+3/2</span></td></tr><tr><td style=\"text-align:left\"><span style=\"font-size: small;\">8</span></td><td style=\"text-align:left\"><span style=\"font-size: small;\">(7/8)</span></td><td style=\"text-align:left\"><span style=\"font-size: small;\"></span></td><td style=\"text-align:left\"><span style=\"font-size: small;\"></span></td><td style=\"text-align:left\"><span style=\"font-size: small;\"></span></td><td style=\"text-align:left\"><span style=\"font-size: small;\"></span></td><td style=\"text-align:left\"><span style=\"font-size: small;\">1+1+3/2</span></td></tr><tr><td style=\"text-align:left\"><span style=\"font-size: small;\">9</span></td><td style=\"text-align:left\"><span style=\"font-size: small;\">(7/8)</span></td><td style=\"text-align:left\"><span style=\"font-size: small;\"></span></td><td style=\"text-align:left\"><span style=\"font-size: small;\"></span></td><td style=\"text-align:left\"><span style=\"font-size: small;\"></span></td><td style=\"text-align:left\"><span style=\"font-size: small;\"></span></td><td style=\"text-align:left\"><span style=\"font-size: small;\">1+1+3/2</span></td></tr><tr><td style=\"text-align:left\"><span style=\"font-size: small;\">10</span></td><td style=\"text-align:left\"><span style=\"font-size: small;\">(7/8)</span></td><td style=\"text-align:left\"><span style=\"font-size: small;\"></span></td><td style=\"text-align:left\"><span style=\"font-size: small;\"></span></td><td style=\"text-align:left\"><span style=\"font-size: small;\"></span></td><td style=\"text-align:left\"><span style=\"font-size: small;\"></span></td><td style=\"text-align:left\"><span style=\"font-size: small;\">1+1+3/2</span></td></tr><tr><td style=\"text-align:left\"><span style=\"font-size: small;\">11</span></td><td style=\"text-align:left\"><span style=\"font-size: small;\">(7/8)</span></td><td style=\"text-align:left\"><span style=\"font-size: small;\"></span></td><td style=\"text-align:left\"><span style=\"font-size: small;\"></span></td><td style=\"text-align:left\"><span style=\"font-size: small;\"></span></td><td style=\"text-align:left\"><span style=\"font-size: small;\"></span></td><td style=\"text-align:left\"><span style=\"font-size: small;\">1+1+3/2</span></td></tr><tr><td style=\"text-align:left\"><span style=\"font-size: small;\">12</span></td><td style=\"text-align:left\"><span style=\"font-size: small;\">(7/8)</span></td><td style=\"text-align:left\"><span style=\"font-size: small;\"></span></td><td style=\"text-align:left\"><span style=\"font-size: small;\"></span></td><td style=\"text-align:left\"><span style=\"font-size: small;\"></span></td><td style=\"text-align:left\"><span style=\"font-size: small;\"></span></td><td style=\"text-align:left\"><span style=\"font-size: small;\">1+1+3/2</span></td></tr><tr><td style=\"text-align:left\"><span style=\"font-size: small;\">13</span></td><td style=\"text-align:left\"><span style=\"font-size: small;\">(7/8)</span></td><td style=\"text-align:left\"><span style=\"font-size: small;\"></span></td><td style=\"text-align:left\"><span style=\"font-size: small;\"></span></td><td style=\"text-align:left\"><span style=\"font-size: small;\"></span></td><td style=\"text-align:left\"><span style=\"font-size: small;\"></span></td><td style=\"text-align:left\"><span style=\"font-size: small;\">1+1+3/2</span></td></tr><tr><td style=\"text-align:left\"><span style=\"font-size: small;\">14</span></td><td style=\"text-align:left\"><span style=\"font-size: small;\">(7/8)</span></td><td style=\"text-align:left\"><span style=\"font-size: small;\"></span></td><td style=\"text-align:left\"><span style=\"font-size: small;\"></span></td><td style=\"text-align:left\"><span style=\"font-size: small;\"></span></td><td style=\"text-align:left\"><span style=\"font-size: small;\"></span></td><td style=\"text-align:left\"><span style=\"font-size: small;\">1+1+3/2</span></td></tr><tr><td style=\"text-align:left\"><span style=\"font-size: small;\">15</span></td><td style=\"text-align:left\"><span style=\"font-size: small;\">(7/8)</span></td><td style=\"text-align:left\"><span style=\"font-size: small;\"></span></td><td style=\"text-align:left\"><span style=\"font-size: small;\"></span></td><td style=\"text-align:left\"><span style=\"font-size: small;\"></span></td><td style=\"text-align:left\"><span style=\"font-size: small;\"></span></td><td style=\"text-align:left\"><span style=\"font-size: small;\">1+1+3/2</span></td></tr><tr><td style=\"text-align:left\"><span style=\"font-size: small;\">16</span></td><td style=\"text-align:left\"><span style=\"font-size: small;\">(7/8)</span></td><td style=\"text-align:left\"><span style=\"font-size: small;\"></span></td><td style=\"text-align:left\"><span style=\"font-size: small;\"></span></td><td style=\"text-align:left\"><span style=\"font-size: small;\"></span></td><td style=\"text-align:left\"><span style=\"font-size: small;\"></span></td><td style=\"text-align:left\"><span style=\"font-size: small;\">1+1+3/2</span></td></tr><tr><td style=\"text-align:left\"><span style=\"font-size: small;\">17</span></td><td style=\"text-align:left\"><span style=\"font-size: small;\">(7/8)</span></td><td style=\"text-align:left\"><span style=\"font-size: small;\"></span></td><td style=\"text-align:left\"><span style=\"font-size: small;\"></span></td><td style=\"text-align:left\"><span style=\"font-size: small;\"></span></td><td style=\"text-align:left\"><span style=\"font-size: small;\"></span></td><td style=\"text-align:left\"><span style=\"font-size: small;\">1+1+3/2</span></td></tr><tr><td style=\"text-align:left\"><span style=\"font-size: small;\">18</span></td><td style=\"text-align:left\"><span style=\"font-size: small;\">(7/8)</span></td><td style=\"text-align:left\"><span style=\"font-size: small;\"></span></td><td style=\"text-align:left\"><span style=\"font-size: small;\"></span></td><td style=\"text-align:left\"><span style=\"font-size: small;\"></span></td><td style=\"text-align:left\"><span style=\"font-size: small;\"></span></td><td style=\"text-align:left\"><span style=\"font-size: small;\">1+1+3/2</span></td></tr><tr><td style=\"text-align:left\"><span style=\"font-size: small;\">19</span></td><td style=\"text-align:left\"><span style=\"font-size: small;\">(7/8)</span></td><td style=\"text-align:left\"><span style=\"font-size: small;\"></span></td><td style=\"text-align:left\"><span style=\"font-size: small;\"></span></td><td style=\"text-align:left\"><span style=\"font-size: small;\"></span></td><td style=\"text-align:left\"><span style=\"font-size: small;\"></span></td><td style=\"text-align:left\"><span style=\"font-size: small;\">1+1+3/2</span></td></tr><tr><td style=\"text-align:left\"><span style=\"font-size: small;\">20</span></td><td style=\"text-align:left\"><span style=\"font-size: small;\">3/4</span></td><td style=\"text-align:left\"><span style=\"font-size: small;\"></span></td><td style=\"text-align:left\"><span style=\"font-size: small;\"></span></td><td style=\"text-align:left\"><span style=\"font-size: small;\"></span></td><td style=\"text-align:left\"><span style=\"font-size: small;\"></span></td><td style=\"text-align:left\"><span style=\"font-size: small;\">1+1+1</span></td></tr><tr><td style=\"text-align:left\"><span style=\"font-size: small;\">...</span></td><td style=\"text-align:left\"><span style=\"font-size: small;\"></span></td><td style=\"text-align:left\"><span style=\"font-size: small;\"></span></td><td style=\"text-align:left\"><span style=\"font-size: small;\"></span></td><td style=\"text-align:left\"><span style=\"font-size: small;\"></span></td><td style=\"text-align:left\"><span style=\"font-size: small;\"></span></td></tr></tbody></table>"
      ],
      "text/plain": [
       "ScoreStruct([4/4@80, 4/4, 4/4, 4/4, 3/4@72, 3/4, 7/8, 7/8, 7/8, 7/8 …])"
      ]
     },
     "execution_count": 10,
     "metadata": {},
     "output_type": "execute_result"
    }
   ],
   "source": [
    "s20 = s[20]\n",
    "s20.timesig = (3, 4)\n",
    "s"
   ]
  },
  {
   "cell_type": "code",
   "execution_count": 11,
   "id": "0e9176b6-0f15-4a8e-ac50-7085a024fad1",
   "metadata": {},
   "outputs": [
    {
     "data": {
      "text/plain": [
       "21"
      ]
     },
     "execution_count": 11,
     "metadata": {},
     "output_type": "execute_result"
    }
   ],
   "source": [
    "len(s)"
   ]
  },
  {
   "cell_type": "code",
   "execution_count": null,
   "id": "aaa6d63c-3673-4f75-a77a-2fdaeeddc5f1",
   "metadata": {},
   "outputs": [],
   "source": []
  },
  {
   "cell_type": "code",
   "execution_count": null,
   "id": "0bb3bd39-be74-4905-a51a-505f8dffb07d",
   "metadata": {},
   "outputs": [],
   "source": []
  }
 ],
 "metadata": {
  "kernelspec": {
   "display_name": "Python 3 (ipykernel)",
   "language": "python",
   "name": "python3"
  },
  "language_info": {
   "codemirror_mode": {
    "name": "ipython",
    "version": 3
   },
   "file_extension": ".py",
   "mimetype": "text/x-python",
   "name": "python",
   "nbconvert_exporter": "python",
   "pygments_lexer": "ipython3",
   "version": "3.13.3"
  }
 },
 "nbformat": 4,
 "nbformat_minor": 5
}
