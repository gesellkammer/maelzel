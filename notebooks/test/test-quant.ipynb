{
 "cells": [
  {
   "cell_type": "code",
   "execution_count": 1,
   "id": "f8c9d684-bb33-4aa8-8ace-715a663bba73",
   "metadata": {},
   "outputs": [],
   "source": [
    "from maelzel.core import *\n",
    "from maelzel import scoring\n",
    "from maelzel.scorestruct import ScoreStruct\n",
    "from maelzel.scoring import quantutils\n",
    "from maelzel import tui\n",
    "from maelzel.common import F\n",
    "import logging\n",
    "logging.getLogger('maelzel.scoring').setLevel('DEBUG')"
   ]
  },
  {
   "cell_type": "code",
   "execution_count": 2,
   "id": "9feb6be3-ad87-4d95-9c32-dc3b8844fbc2",
   "metadata": {},
   "outputs": [
    {
     "name": "stderr",
     "output_type": "stream",
     "text": [
      "[maelzel.scoring:quant.py:1364:quantizeMeasure:DEBUG] Measure 4/4 is not filled (events=[«4C 0:2 2♩», «4C# 2:2.143 1/7♩», «4D 2.143:3.333 25/21♩»]). Filling gaps with silences\n"
     ]
    },
    {
     "name": "stdout",
     "output_type": "stream",
     "text": [
      "Beat: 2 - 3 (dur: 1)\n",
      "Best 3 divisions: (quantized in 7.3ms)\n"
     ]
    },
    {
     "data": {
      "text/html": [
       "<table>\n",
       "<thead>\n",
       "<tr><th style=\"text-align: right;\">  error</th><th>div  </th><th>snapped                                 </th><th>slots  </th><th>info                                                                                                                                                                               </th></tr>\n",
       "</thead>\n",
       "<tbody>\n",
       "<tr><td style=\"text-align: right;\"> 0.0020</td><td>(7,) </td><td>[«4C# 0:0.143 1/7♩», «4D~ 0.143:1 6/7♩»]</td><td>[0, 1] </td><td>gridError=0, rhythmComplexity=0 (numNotesAcrossSubdivs=0, numTies=0), divPenalty=0.02 (0.0002, divPenalty=0.02, cardinalityPenalty=0, numSubdivsPenalty=0, levelPenalty=0)         </td></tr>\n",
       "<tr><td style=\"text-align: right;\"> 0.0769</td><td>(6,) </td><td>[«4C# 0:0.167 1/6♩», «4D~ 0.167:1 5/6♩»]</td><td>[0, 1] </td><td>gridError=0.0756, rhythmComplexity=0.447 (numNotesAcrossSubdivs=0, numTies=1), divPenalty=0.01 (0.0001, divPenalty=0.01, cardinalityPenalty=0, numSubdivsPenalty=0, levelPenalty=0)</td></tr>\n",
       "<tr><td style=\"text-align: right;\"> 0.1457</td><td>(5,) </td><td>[«4C# 0:0.2 1/5♩», «4D~ 0.2:1 4/5♩»]    </td><td>[0, 1] </td><td>gridError=0.146, rhythmComplexity=0 (numNotesAcrossSubdivs=0, numTies=0), divPenalty=0.02 (0.0002, divPenalty=0.02, cardinalityPenalty=0, numSubdivsPenalty=0, levelPenalty=0)     </td></tr>\n",
       "</tbody>\n",
       "</table>"
      ],
      "text/plain": [
       "<IPython.core.display.HTML object>"
      ]
     },
     "metadata": {},
     "output_type": "display_data"
    },
    {
     "name": "stdout",
     "output_type": "stream",
     "text": [
      "Beat: 3 - 4 (dur: 1)\n",
      "Best 2 divisions: (quantized in 240.3µs)\n"
     ]
    },
    {
     "data": {
      "text/html": [
       "<table>\n",
       "<thead>\n",
       "<tr><th style=\"text-align: right;\">  error</th><th>div  </th><th>snapped                                  </th><th>slots  </th><th>info                                                                                                                                                                          </th></tr>\n",
       "</thead>\n",
       "<tbody>\n",
       "<tr><td style=\"text-align: right;\"> 0.0000</td><td>(3,) </td><td>[«~4D 0:0.333 1/3♩», «rest 0.333:1 2/3♩»]</td><td>[0, 1] </td><td>gridError=0, rhythmComplexity=0 (numNotesAcrossSubdivs=0, numTies=0), divPenalty=0 (0, divPenalty=0, cardinalityPenalty=0, numSubdivsPenalty=0, levelPenalty=0)               </td></tr>\n",
       "<tr><td style=\"text-align: right;\"> 0.1336</td><td>(5,) </td><td>[«~4D 0:0.4 2/5♩», «rest 0.4:1 3/5♩»]    </td><td>[0, 2] </td><td>gridError=0.134, rhythmComplexity=0 (numNotesAcrossSubdivs=0, numTies=0), divPenalty=0.02 (0.0002, divPenalty=0.02, cardinalityPenalty=0, numSubdivsPenalty=0, levelPenalty=0)</td></tr>\n",
       "</tbody>\n",
       "</table>"
      ],
      "text/plain": [
       "<IPython.core.display.HTML object>"
      ]
     },
     "metadata": {},
     "output_type": "display_data"
    },
    {
     "name": "stderr",
     "output_type": "stream",
     "text": [
      "[maelzel.scoring:quant.py:1677:_mergeSiblings:DEBUG] Nodes can merge: \n",
      "    Node(1/1, \n",
      "  «4C~ 0:1 1♩»\n",
      ")\n",
      "    Node(1/1, \n",
      "  «~4C 1:2 1♩»\n",
      ")\n",
      "[maelzel.scoring:quant.py:1680:_mergeSiblings:DEBUG] ---- Merged node:\n",
      "    Node(1/1, \n",
      "  «4C 0:2 2♩»\n",
      ")\n",
      "[maelzel.scoring:node.py:707:_splitUnnecessaryNodes:DEBUG] Did not split node Node(1/1, \n",
      "  Node(1/1, \n",
      "    «4C 0:2 2♩»\n",
      "  )\n",
      "  Node(7/4, \n",
      "    «4C# 2:2.143 1/7♩ 7/4»\n",
      "    «4D~ 2.143:3 6/7♩ 7/4»\n",
      "  )\n",
      "  Node(3/2, \n",
      "    «~4D 3:3.333 1/3♩ 3/2»\n",
      "    «rest 3.333:4 2/3♩ 3/2»\n",
      "  )\n",
      ") at 1\n",
      "[maelzel.scoring:renderlily.py:1141:write:DEBUG] Rendering lilypond '/home/em/.cache/tmpsi9ddzcl/2xdkml_1.ly' to '/home/em/.cache/tmpsi9ddzcl/2xdkml_1.png'\n",
      "[maelzel.scoring:renderlily.py:1154:write:DEBUG] Found crop file /home/em/.cache/tmpsi9ddzcl/2xdkml_1.cropped.png, using that as output\n"
     ]
    },
    {
     "data": {
      "text/html": [
       "<b>LilypondRenderer</b> (1 part)<br>\n",
       "        <img style=\"display:inline; padding:10px;\n",
       "margin-top:14px;\n",
       "width:440px\"\n",
       "             src=\"data:image/png;base64,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\"/>"
      ],
      "text/plain": [
       "<maelzel.scoring.renderlily.LilypondRenderer at 0x722b27810bd0>"
      ]
     },
     "execution_count": 2,
     "metadata": {},
     "output_type": "execute_result"
    }
   ],
   "source": [
    "notes = [\n",
    "    (60, F(2, 1)),\n",
    "    (61, F(1, 7)),\n",
    "    (62, F(6, 7)+F(1, 3))\n",
    "]\n",
    "\n",
    "struct = ScoreStruct(timesig='4/4', tempo=70)\n",
    "\n",
    "notations = [scoring.makeNote(p, d) for p, d in notes]\n",
    "part = scoring.UnquantizedPart(notations)\n",
    "qprofile = scoring.quant.QuantizationProfile.fromPreset('high')\n",
    "qprofile.debug = True\n",
    "qpart = scoring.quant.quantizePart(part, struct=struct, quantprofile=qprofile)\n",
    "options = scoring.render.RenderOptions()\n",
    "score = scoring.quant.QuantizedScore([qpart])\n",
    "r = scoring.render.renderQuantizedScore(score, options)\n",
    "r"
   ]
  },
  {
   "cell_type": "code",
   "execution_count": 3,
   "id": "8126dfd3-b992-471f-b5ff-6caf769e7fa5",
   "metadata": {},
   "outputs": [
    {
     "name": "stderr",
     "output_type": "stream",
     "text": [
      "[maelzel.scoring:quant.py:1364:quantizeMeasure:DEBUG] Measure 4/4 is not filled (events=[«4C 0:2 2♩», «4C# 2:2.75 3/4♩», «4D# 2.75:3 1/4♩»]). Filling gaps with silences\n"
     ]
    },
    {
     "name": "stdout",
     "output_type": "stream",
     "text": [
      "Beat: 2 - 3 (dur: 1)\n",
      "Best 3 divisions: (quantized in 7.1ms)\n"
     ]
    },
    {
     "data": {
      "text/html": [
       "<table>\n",
       "<thead>\n",
       "<tr><th style=\"text-align: right;\">  error</th><th>div  </th><th>snapped                                 </th><th>slots  </th><th>info                                                                                                                                                                              </th></tr>\n",
       "</thead>\n",
       "<tbody>\n",
       "<tr><td style=\"text-align: right;\"> 0.0010</td><td>(4,) </td><td>[«4C# 0:0.75 3/4♩», «4D# 0.75:1 1/4♩»]  </td><td>[0, 3] </td><td>gridError=0, rhythmComplexity=0 (numNotesAcrossSubdivs=0, numTies=0), divPenalty=0.01 (0.0001, divPenalty=0.01, cardinalityPenalty=0, numSubdivsPenalty=0, levelPenalty=0)        </td></tr>\n",
       "<tr><td style=\"text-align: right;\"> 0.1201</td><td>(7,) </td><td>[«4C# 0:0.714 5/7♩», «4D# 0.714:1 2/7♩»]</td><td>[0, 5] </td><td>gridError=0.119, rhythmComplexity=0.447 (numNotesAcrossSubdivs=0, numTies=1), divPenalty=0.02 (0.0002, divPenalty=0.02, cardinalityPenalty=0, numSubdivsPenalty=0, levelPenalty=0)</td></tr>\n",
       "<tr><td style=\"text-align: right;\"> 0.2157</td><td>(3,) </td><td>[«4C# 0:0.667 2/3♩», «4D# 0.667:1 1/3♩»]</td><td>[0, 2] </td><td>gridError=0.216, rhythmComplexity=0 (numNotesAcrossSubdivs=0, numTies=0), divPenalty=0 (0, divPenalty=0, cardinalityPenalty=0, numSubdivsPenalty=0, levelPenalty=0)               </td></tr>\n",
       "</tbody>\n",
       "</table>"
      ],
      "text/plain": [
       "<IPython.core.display.HTML object>"
      ]
     },
     "metadata": {},
     "output_type": "display_data"
    },
    {
     "name": "stderr",
     "output_type": "stream",
     "text": [
      "[maelzel.scoring:quant.py:1677:_mergeSiblings:DEBUG] Nodes can merge: \n",
      "    Node(1/1, \n",
      "  «4C~ 0:1 1♩»\n",
      ")\n",
      "    Node(1/1, \n",
      "  «~4C 1:2 1♩»\n",
      ")\n",
      "[maelzel.scoring:quant.py:1680:_mergeSiblings:DEBUG] ---- Merged node:\n",
      "    Node(1/1, \n",
      "  «4C 0:2 2♩»\n",
      ")\n",
      "[maelzel.scoring:quant.py:1683:_mergeSiblings:DEBUG] Nodes cannot merge: \n",
      "Node(1/1, \n",
      "  «4C 0:2 2♩»\n",
      ")\n",
      "Node(1/1, \n",
      "  «4C# 2:2.75 3/4♩»\n",
      "  «4D# 2.75:3 1/4♩»\n",
      ")\n",
      "----> no need to extend node over beat\n",
      "[maelzel.scoring:quant.py:1683:_mergeSiblings:DEBUG] Nodes cannot merge: \n",
      "Node(1/1, \n",
      "  «4C# 2:2.75 3/4♩»\n",
      "  «4D# 2.75:3 1/4♩»\n",
      ")\n",
      "Node(1/1, \n",
      "  «rest 3:4 1♩»\n",
      ")\n",
      "----> no need to extend node over beat\n",
      "[maelzel.scoring:node.py:707:_splitUnnecessaryNodes:DEBUG] Did not split node Node(1/1, \n",
      "  Node(1/1, \n",
      "    «4C 0:2 2♩»\n",
      "  )\n",
      "  Node(1/1, \n",
      "    «4C# 2:2.75 3/4♩»\n",
      "    «4D# 2.75:3 1/4♩»\n",
      "  )\n",
      "  Node(1/1, \n",
      "    «rest 3:4 1♩»\n",
      "  )\n",
      ") at 1\n",
      "[maelzel.scoring:renderlily.py:1141:write:DEBUG] Rendering lilypond '/home/em/.cache/tmpsi9ddzcl/poqoq5li.ly' to '/home/em/.cache/tmpsi9ddzcl/poqoq5li.png'\n",
      "[maelzel.scoring:renderlily.py:1154:write:DEBUG] Found crop file /home/em/.cache/tmpsi9ddzcl/poqoq5li.cropped.png, using that as output\n"
     ]
    },
    {
     "data": {
      "text/html": [
       "<b>LilypondRenderer</b> (1 part)<br>\n",
       "        <img style=\"display:inline; padding:10px;\n",
       "margin-top:14px;\n",
       "width:391px\"\n",
       "             src=\"data:image/png;base64,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\"/>"
      ],
      "text/plain": [
       "<maelzel.scoring.renderlily.LilypondRenderer at 0x722b27800b50>"
      ]
     },
     "execution_count": 3,
     "metadata": {},
     "output_type": "execute_result"
    }
   ],
   "source": [
    "from maelzel import scoring\n",
    "from maelzel.scorestruct import ScoreStruct\n",
    "\n",
    "notes = [\n",
    "    (60, F(2, 1)),\n",
    "    (61, F(3, 4)),\n",
    "    (63, F(1, 4)),\n",
    "    \n",
    "]\n",
    "\n",
    "notations = [scoring.makeNote(p, d) for p, d in notes]\n",
    "struct = ScoreStruct(timesig='4/4', tempo=70)\n",
    "\n",
    "part = scoring.UnquantizedPart(notations)\n",
    "quantprofile = scoring.quant.QuantizationProfile.fromPreset('highest')\n",
    "quantprofile.debug = True\n",
    "quantprofile.debugMaxDivisions = 20\n",
    "quantprofile.rhythmComplexityWeight = 0.001\n",
    "quantprofile.divisionErrorWeight = 0.01\n",
    "qpart = scoring.quant.quantizePart(part, struct=struct, quantprofile=quantprofile)\n",
    "options = scoring.render.RenderOptions()\n",
    "score = scoring.quant.QuantizedScore([qpart])\n",
    "r = scoring.render.renderQuantizedScore(score, options)\n",
    "# qpart.dump()\n",
    "r"
   ]
  },
  {
   "cell_type": "code",
   "execution_count": 4,
   "id": "af4ba261-96fb-49d2-a151-66a7e3493b2b",
   "metadata": {},
   "outputs": [
    {
     "name": "stderr",
     "output_type": "stream",
     "text": [
      "[maelzel.scoring:quant.py:1364:quantizeMeasure:DEBUG] Measure 4/4 is not filled (events=[«4C 0:2 2♩», «4C# 2:2.75 3/4♩», «4D# 2.75:2.792 1/24♩», «4E 2.792:3 5/24♩»]). Filling gaps with silences\n"
     ]
    },
    {
     "name": "stdout",
     "output_type": "stream",
     "text": [
      "Beat: 2 - 3 (dur: 1)\n",
      "Best 8 divisions: (quantized in 13.7ms)\n"
     ]
    },
    {
     "data": {
      "text/html": [
       "<table>\n",
       "<thead>\n",
       "<tr><th style=\"text-align: right;\">  error</th><th>div         </th><th>snapped                                                                                                                                </th><th>slots      </th><th>info                                                                                                                                                                                   </th></tr>\n",
       "</thead>\n",
       "<tbody>\n",
       "<tr><td style=\"text-align: right;\"> 0.0099</td><td>(1, 1, 1, 6)</td><td>[«4C# 0:0.75 3/4♩», «4D# 0.75:0.792 1/24♩», «4E 0.792:1 5/24♩»]                                                                        </td><td>[0, 3, 4]  </td><td>gridError=0, rhythmComplexity=0.298 (numNotesAcrossSubdivs=0, numTies=1), divPenalty=0.03 (0.0003, divPenalty=0.03, cardinalityPenalty=0, numSubdivsPenalty=0, levelPenalty=0)         </td></tr>\n",
       "<tr><td style=\"text-align: right;\"> 0.0106</td><td>(1, 1, 8)   </td><td>[«4C# 0:0.75 3/4♩», «4D# 0.75:0.792 1/24♩», «4E 0.792:1 5/24♩»]                                                                        </td><td>[0, 4, 5]  </td><td>gridError=0, rhythmComplexity=0.333 (numNotesAcrossSubdivs=1, numTies=1), divPenalty=0.01 (0.0001, divPenalty=0.01, cardinalityPenalty=0, numSubdivsPenalty=0, levelPenalty=0)         </td></tr>\n",
       "<tr><td style=\"text-align: right;\"> 0.0819</td><td>(1, 8)      </td><td>[«4C# 0:0.75 3/4♩», «4D# 0.75:0.812 1/16♩», «4E 0.812:1 3/16♩»]                                                                        </td><td>[0, 5, 6]  </td><td>gridError=0.0817, rhythmComplexity=0.149 (numNotesAcrossSubdivs=1, numTies=0), divPenalty=0.01 (0.0001, divPenalty=0.01, cardinalityPenalty=0, numSubdivsPenalty=0, levelPenalty=0)    </td></tr>\n",
       "<tr><td style=\"text-align: right;\"> 0.0955</td><td>(15,)       </td><td>[«4C# 0:0.733 11/15♩», «4D# 0.733:0.8 1/15♩», «4E 0.8:1 1/5♩»]                                                                         </td><td>[0, 11, 12]</td><td>gridError=0.0929, rhythmComplexity=0.298 (numNotesAcrossSubdivs=0, numTies=1), divPenalty=0.202 (0.002025, divPenalty=0.2, cardinalityPenalty=0.1, numSubdivsPenalty=0, levelPenalty=0)</td></tr>\n",
       "<tr><td style=\"text-align: right;\"> 0.0981</td><td>(9,)        </td><td>[«4C# 0:0.778 7/9♩», «4D# 0.778:grace properties={&#x27;.snappedGracenote&#x27;: True, &#x27;.originalDuration&#x27;: Fraction(1, 24)}», «4E 0.778:1 2/9♩»]</td><td>[0, 7, 7]  </td><td>gridError=0.0981, rhythmComplexity=0 (numNotesAcrossSubdivs=0, numTies=0), divPenalty=0.04 (0.0004, divPenalty=0.04, cardinalityPenalty=0, numSubdivsPenalty=0, levelPenalty=0)        </td></tr>\n",
       "<tr><td style=\"text-align: right;\"> 0.1189</td><td>(4,)        </td><td>[«4C# 0:0.75 3/4♩», «4D# 0.75:grace properties={&#x27;.snappedGracenote&#x27;: True, &#x27;.originalDuration&#x27;: Fraction(1, 24)}», «4E 0.75:1 1/4♩»]   </td><td>[0, 3, 3]  </td><td>gridError=0.119, rhythmComplexity=0 (numNotesAcrossSubdivs=0, numTies=0), divPenalty=0.01 (0.0001, divPenalty=0.01, cardinalityPenalty=0, numSubdivsPenalty=0, levelPenalty=0)         </td></tr>\n",
       "<tr><td style=\"text-align: right;\"> 0.2473</td><td>(7,)        </td><td>[«4C# 0:0.714 5/7♩», «4D# 0.714:0.857 1/7♩», «4E 0.857:1 1/7♩»]                                                                        </td><td>[0, 5, 6]  </td><td>gridError=0.247, rhythmComplexity=0.298 (numNotesAcrossSubdivs=0, numTies=1), divPenalty=0.02 (0.0002, divPenalty=0.02, cardinalityPenalty=0, numSubdivsPenalty=0, levelPenalty=0)     </td></tr>\n",
       "<tr><td style=\"text-align: right;\"> 0.2866</td><td>(6,)        </td><td>[«4C# 0:0.667 2/3♩», «4D# 0.667:0.833 1/6♩», «4E 0.833:1 1/6♩»]                                                                        </td><td>[0, 4, 5]  </td><td>gridError=0.287, rhythmComplexity=0 (numNotesAcrossSubdivs=0, numTies=0), divPenalty=0.02 (0.0002, divPenalty=0.02, cardinalityPenalty=0, numSubdivsPenalty=0, levelPenalty=0)         </td></tr>\n",
       "</tbody>\n",
       "</table>"
      ],
      "text/plain": [
       "<IPython.core.display.HTML object>"
      ]
     },
     "metadata": {},
     "output_type": "display_data"
    },
    {
     "name": "stderr",
     "output_type": "stream",
     "text": [
      "[maelzel.scoring:quant.py:1677:_mergeSiblings:DEBUG] Nodes can merge: \n",
      "    Node(1/1, \n",
      "  «4C~ 0:1 1♩»\n",
      ")\n",
      "    Node(1/1, \n",
      "  «~4C 1:2 1♩»\n",
      ")\n",
      "[maelzel.scoring:quant.py:1680:_mergeSiblings:DEBUG] ---- Merged node:\n",
      "    Node(1/1, \n",
      "  «4C 0:2 2♩»\n",
      ")\n",
      "[maelzel.scoring:quant.py:1683:_mergeSiblings:DEBUG] Nodes cannot merge: \n",
      "Node(1/1, \n",
      "  «4C 0:2 2♩»\n",
      ")\n",
      "Node(1/1, \n",
      "  «4C# 2:2.75 3/4♩»\n",
      "  Node(3/2, \n",
      "    «4D# 2.75:2.792 1/24♩ 3/2»\n",
      "    «4E~ 2.792:2.833 1/24♩ 3/2»\n",
      "    «~4E 2.833:3 1/6♩ 3/2»\n",
      "  )\n",
      ")\n",
      "----> no need to extend node over beat\n",
      "[maelzel.scoring:quant.py:1683:_mergeSiblings:DEBUG] Nodes cannot merge: \n",
      "Node(1/1, \n",
      "  «4C# 2:2.75 3/4♩»\n",
      "  Node(3/2, \n",
      "    «4D# 2.75:2.792 1/24♩ 3/2»\n",
      "    «4E~ 2.792:2.833 1/24♩ 3/2»\n",
      "    «~4E 2.833:3 1/6♩ 3/2»\n",
      "  )\n",
      ")\n",
      "Node(1/1, \n",
      "  «rest 3:4 1♩»\n",
      ")\n",
      "----> no need to extend node over beat\n",
      "[maelzel.scoring:node.py:707:_splitUnnecessaryNodes:DEBUG] Did not split node Node(1/1, \n",
      "  Node(1/1, \n",
      "    «4C 0:2 2♩»\n",
      "  )\n",
      "  Node(1/1, \n",
      "    «4C# 2:2.75 3/4♩»\n",
      "    Node(3/2, \n",
      "      «4D# 2.75:2.792 1/24♩ 3/2»\n",
      "      «4E~ 2.792:2.833 1/24♩ 3/2»\n",
      "      «~4E 2.833:3 1/6♩ 3/2»\n",
      "    )\n",
      "  )\n",
      "  Node(1/1, \n",
      "    «rest 3:4 1♩»\n",
      "  )\n",
      ") at 1\n",
      "[maelzel.scoring:renderlily.py:1141:write:DEBUG] Rendering lilypond '/home/em/.cache/tmpsi9ddzcl/i99h8sc0.ly' to '/home/em/.cache/tmpsi9ddzcl/i99h8sc0.png'\n",
      "[maelzel.scoring:renderlily.py:1154:write:DEBUG] Found crop file /home/em/.cache/tmpsi9ddzcl/i99h8sc0.cropped.png, using that as output\n"
     ]
    },
    {
     "data": {
      "text/html": [
       "<b>LilypondRenderer</b> (1 part)<br>\n",
       "        <img style=\"display:inline; padding:10px;\n",
       "margin-top:14px;\n",
       "width:546px\"\n",
       "             src=\"data:image/png;base64,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\"/>"
      ],
      "text/plain": [
       "<maelzel.scoring.renderlily.LilypondRenderer at 0x722b278a0210>"
      ]
     },
     "execution_count": 4,
     "metadata": {},
     "output_type": "execute_result"
    }
   ],
   "source": [
    "from maelzel import scoring\n",
    "from maelzel.scorestruct import ScoreStruct\n",
    "\n",
    "notes = [\n",
    "    (60, F(2, 1)),\n",
    "    (61, F(3, 4)),\n",
    "    (63, F(1, 4)*F(1, 6)),\n",
    "    (64, F(1, 4)*F(5, 6)),\n",
    "    # (62, F(3, 4))\n",
    "]\n",
    "\n",
    "notations = [scoring.makeNote(p, d) for p, d in notes]\n",
    "struct = ScoreStruct(timesig='4/4', tempo=70)\n",
    "\n",
    "part = scoring.UnquantizedPart(notations)\n",
    "quantprofile = scoring.quant.QuantizationProfile.fromPreset('highest')\n",
    "quantprofile.debug = True\n",
    "quantprofile.debugMaxDivisions = 20\n",
    "quantprofile.rhythmComplexityWeight = 0.001\n",
    "quantprofile.divisionErrorWeight = 0.01\n",
    "qpart = scoring.quant.quantizePart(part, struct=struct, quantprofile=quantprofile)\n",
    "options = scoring.render.RenderOptions()\n",
    "score = scoring.quant.QuantizedScore([qpart])\n",
    "r = scoring.render.renderQuantizedScore(score, options)\n",
    "# qpart.dump()\n",
    "r"
   ]
  },
  {
   "cell_type": "code",
   "execution_count": 5,
   "id": "89bb7327-f713-4518-90a8-c4ce42573972",
   "metadata": {},
   "outputs": [
    {
     "name": "stderr",
     "output_type": "stream",
     "text": [
      "[maelzel.scoring:quant.py:1364:quantizeMeasure:DEBUG] Measure 4/4 is not filled (events=[«4C 0:0.133 2/15♩», «4C# 0.133:0.267 2/15♩», «4D 0.267:0.4 2/15♩», «4D# 0.4:0.533 2/15♩», «4E 0.533:0.667 2/15♩», «4F 0.667:1.333 2/3♩»]). Filling gaps with silences\n"
     ]
    },
    {
     "name": "stdout",
     "output_type": "stream",
     "text": [
      "Beat: 0 - 1 (dur: 1)\n",
      "Best 5 divisions: (quantized in 169.6ms)\n"
     ]
    },
    {
     "data": {
      "text/html": [
       "<table>\n",
       "<thead>\n",
       "<tr><th style=\"text-align: right;\">  error</th><th>div      </th><th>snapped                                                                                                                                                                                                  </th><th>slots              </th><th>info                                                                                                                                                                                    </th></tr>\n",
       "</thead>\n",
       "<tbody>\n",
       "<tr><td style=\"text-align: right;\"> 0.0030</td><td>(5, 5, 1)</td><td>[«4C 0:0.133 2/15♩», «4C# 0.133:0.267 2/15♩», «4D 0.267:0.4 2/15♩», «4D# 0.4:0.533 2/15♩», «4E 0.533:0.667 2/15♩», «4F~ 0.667:1 1/3♩»]                                                                   </td><td>[0, 2, 4, 6, 8, 10]</td><td>gridError=0, rhythmComplexity=0.0745 (numNotesAcrossSubdivs=1, numTies=0), divPenalty=0.0424 (8.485e-05, divPenalty=0.0283, cardinalityPenalty=0.1, numSubdivsPenalty=0, levelPenalty=0)</td></tr>\n",
       "<tr><td style=\"text-align: right;\"> 0.0102</td><td>(15,)    </td><td>[«4C 0:0.133 2/15♩», «4C# 0.133:0.267 2/15♩», «4D 0.267:0.4 2/15♩», «4D# 0.4:0.533 2/15♩», «4E 0.533:0.667 2/15♩», «4F~ 0.667:1 1/3♩»]                                                                   </td><td>[0, 2, 4, 6, 8, 10]</td><td>gridError=0, rhythmComplexity=0.149 (numNotesAcrossSubdivs=0, numTies=1), divPenalty=0.202 (0.000405, divPenalty=0.2, cardinalityPenalty=0.1, numSubdivsPenalty=0, levelPenalty=0)      </td></tr>\n",
       "<tr><td style=\"text-align: right;\"> 0.2403</td><td>(8,)     </td><td>[«4C 0:0.125 1/8♩», «4C# 0.125:0.25 1/8♩», «4D 0.25:0.375 1/8♩», «4D# 0.375:0.5 1/8♩», «4E 0.5:0.625 1/8♩», «4F~ 0.625:1 3/8♩»]                                                                          </td><td>[0, 1, 2, 3, 4, 5] </td><td>gridError=0.24, rhythmComplexity=0 (numNotesAcrossSubdivs=0, numTies=0), divPenalty=0.01 (2e-05, divPenalty=0.01, cardinalityPenalty=0, numSubdivsPenalty=0, levelPenalty=0)            </td></tr>\n",
       "<tr><td style=\"text-align: right;\"> 0.2639</td><td>(7,)     </td><td>[«4C 0:0.143 1/7♩», «4C# 0.143:0.286 1/7♩», «4D 0.286:0.429 1/7♩», «4D# 0.429:0.571 1/7♩», «4E 0.571:0.714 1/7♩», «4F~ 0.714:1 2/7♩»]                                                                    </td><td>[0, 1, 2, 3, 4, 5] </td><td>gridError=0.264, rhythmComplexity=0 (numNotesAcrossSubdivs=0, numTies=0), divPenalty=0.02 (4e-05, divPenalty=0.02, cardinalityPenalty=0, numSubdivsPenalty=0, levelPenalty=0)           </td></tr>\n",
       "<tr><td style=\"text-align: right;\"> 0.3209</td><td>(6,)     </td><td>[«4C 0:0.167 1/6♩», «4C# 0.167:0.333 1/6♩», «4D 0.333:grace properties={&#x27;.snappedGracenote&#x27;: True, &#x27;.originalDuration&#x27;: Fraction(2, 15)}», «4D# 0.333:0.5 1/6♩», «4E 0.5:0.667 1/6♩», «4F~ 0.667:1 1/3♩»]</td><td>[0, 1, 2, 2, 3, 4] </td><td>gridError=0.321, rhythmComplexity=0 (numNotesAcrossSubdivs=0, numTies=0), divPenalty=0.02 (4e-05, divPenalty=0.02, cardinalityPenalty=0, numSubdivsPenalty=0, levelPenalty=0)           </td></tr>\n",
       "</tbody>\n",
       "</table>"
      ],
      "text/plain": [
       "<IPython.core.display.HTML object>"
      ]
     },
     "metadata": {},
     "output_type": "display_data"
    },
    {
     "name": "stdout",
     "output_type": "stream",
     "text": [
      "Beat: 1 - 2 (dur: 1)\n",
      "Best 1 divisions: (quantized in 349.8µs)\n"
     ]
    },
    {
     "data": {
      "text/html": [
       "<table>\n",
       "<thead>\n",
       "<tr><th style=\"text-align: right;\">  error</th><th>div  </th><th>snapped                                  </th><th>slots  </th><th>info                                                                                                                                                           </th></tr>\n",
       "</thead>\n",
       "<tbody>\n",
       "<tr><td style=\"text-align: right;\">      0</td><td>(3,) </td><td>[«~4F 0:0.333 1/3♩», «rest 0.333:1 2/3♩»]</td><td>[0, 1] </td><td>gridError=0, rhythmComplexity=0 (numNotesAcrossSubdivs=0, numTies=0), divPenalty=0 (0, divPenalty=0, cardinalityPenalty=0, numSubdivsPenalty=0, levelPenalty=0)</td></tr>\n",
       "</tbody>\n",
       "</table>"
      ],
      "text/plain": [
       "<IPython.core.display.HTML object>"
      ]
     },
     "metadata": {},
     "output_type": "display_data"
    },
    {
     "name": "stderr",
     "output_type": "stream",
     "text": [
      "[maelzel.scoring:quant.py:1677:_mergeSiblings:DEBUG] Nodes can merge: \n",
      "    Node(5/4, \n",
      "  «4C 0:0.133 2/15♩ 3/2,5/4»\n",
      "  «4C# 0.133:0.267 2/15♩ 3/2,5/4»\n",
      "  «4D~ 0.267:0.333 1/15♩ 3/2,5/4»\n",
      ")\n",
      "    Node(5/4, \n",
      "  «~4D 0.333:0.4 1/15♩ 3/2,5/4»\n",
      "  «4D# 0.4:0.533 2/15♩ 3/2,5/4»\n",
      "  «4E 0.533:0.667 2/15♩ 3/2,5/4»\n",
      ")\n",
      "[maelzel.scoring:quant.py:1680:_mergeSiblings:DEBUG] ---- Merged node:\n",
      "    Node(5/4, \n",
      "  «4C 0:0.133 2/15♩ 3/2,5/4»\n",
      "  «4C# 0.133:0.267 2/15♩ 3/2,5/4»\n",
      "  «4D 0.267:0.4 2/15♩ 3/2,5/4»\n",
      "  «4D# 0.4:0.533 2/15♩ 3/2,5/4»\n",
      "  «4E 0.533:0.667 2/15♩ 3/2,5/4»\n",
      ")\n",
      "[maelzel.scoring:quant.py:1683:_mergeSiblings:DEBUG] Nodes cannot merge: \n",
      "Node(3/2, \n",
      "  Node(5/4, \n",
      "    «4C 0:0.133 2/15♩ 3/2,5/4»\n",
      "    «4C# 0.133:0.267 2/15♩ 3/2,5/4»\n",
      "    «4D 0.267:0.4 2/15♩ 3/2,5/4»\n",
      "    «4D# 0.4:0.533 2/15♩ 3/2,5/4»\n",
      "    «4E 0.533:0.667 2/15♩ 3/2,5/4»\n",
      "  )\n",
      "  «4F~ 0.667:1 1/3♩ 3/2»\n",
      ")\n",
      "Node(3/2, \n",
      "  «~4F 1:1.333 1/3♩ 3/2»\n",
      "  «rest 1.333:2 2/3♩ 3/2»\n",
      ")\n",
      "----> Cannot merge nested tuples 1\n",
      "[maelzel.scoring:quant.py:1677:_mergeSiblings:DEBUG] Nodes can merge: \n",
      "    Node(1/1, \n",
      "  «rest 2:3 1♩»\n",
      ")\n",
      "    Node(1/1, \n",
      "  «rest 3:4 1♩»\n",
      ")\n",
      "[maelzel.scoring:quant.py:1680:_mergeSiblings:DEBUG] ---- Merged node:\n",
      "    Node(1/1, \n",
      "  «rest 2:4 2♩»\n",
      ")\n",
      "[maelzel.scoring:node.py:707:_splitUnnecessaryNodes:DEBUG] Did not split node Node(1/1, \n",
      "  Node(3/2, \n",
      "    Node(5/4, \n",
      "      «4C 0:0.133 2/15♩ 3/2,5/4»\n",
      "      «4C# 0.133:0.267 2/15♩ 3/2,5/4»\n",
      "      «4D 0.267:0.4 2/15♩ 3/2,5/4»\n",
      "      «4D# 0.4:0.533 2/15♩ 3/2,5/4»\n",
      "      «4E 0.533:0.667 2/15♩ 3/2,5/4»\n",
      "    )\n",
      "    «4F~ 0.667:1 1/3♩ 3/2»\n",
      "  )\n",
      "  Node(3/2, \n",
      "    «~4F 1:1.333 1/3♩ 3/2»\n",
      "    «rest 1.333:2 2/3♩ 3/2»\n",
      "  )\n",
      "  Node(1/1, \n",
      "    «rest 2:4 2♩»\n",
      "  )\n",
      ") at 3\n",
      "[maelzel.scoring:renderlily.py:1141:write:DEBUG] Rendering lilypond '/home/em/.cache/tmpsi9ddzcl/4t7yp6nd.ly' to '/home/em/.cache/tmpsi9ddzcl/4t7yp6nd.png'\n",
      "[maelzel.scoring:renderlily.py:1154:write:DEBUG] Found crop file /home/em/.cache/tmpsi9ddzcl/4t7yp6nd.cropped.png, using that as output\n"
     ]
    },
    {
     "data": {
      "text/html": [
       "<b>LilypondRenderer</b> (1 part)<br>\n",
       "        <img style=\"display:inline; padding:10px;\n",
       "margin-top:14px;\n",
       "width:611px\"\n",
       "             src=\"data:image/png;base64,iVBORw0KGgoAAAANSUhEUgAAAvwAAACQCAIAAAD7kyjQAAAJLmlDQ1BJQ0MgUHJvZmlsZQAAeJyVlWdQk1kXx+/zPOmFQBJCh1BDkSolgJQQWijSq6hA6J1QRWyIuAIriog0RZBFARdclSJrRRQLi4ICFnSDLALKunEVUUFZcN8ZnfcdP7z/mXvPb/5z5t5zz/lwASCIg2XBy3tiUrrA28mOGRgUzATfKIyflsLx9HQD39W7EQCtxHu638/5rggRkWn85bi4vHL5KYJ0AKDsZdbMSk9Z4aPLTA+P/8JnV1iwXOAy31jh6H957EvOvyz6kuPrzV1+FQoAHCn6Gw7/hv9z74pUOIL02KjIbKZPclR6Vpggkpm20gkel8v0FCRHxSZEflPw/5X8HaVHZqevRG5yyiZBbHRMOvN/DjUyMDQEX2fxxutLjyFG/3/PZ0VfveR6ANhzACD7vnrhlQB07gJA+tFXT225r5R8ADru8DMEmf96qJUNDQiAAuhABigCVaAJdIERMAOWwBY4ABfgAXxBENgA+CAGJAIByAK5YAcoAEVgHzgIqkAtaABNoBWcBp3gPLgCroPb4C4YBo+BEEyCl0AE3oEFCIKwEBmiQTKQEqQO6UBGEBuyhhwgN8gbCoJCoWgoCcqAcqGdUBFUClVBdVAT9At0DroC3YQGoYfQODQD/Q19hBGYBNNhBVgD1ofZMAd2hX3h9XA0nArnwPnwXrgCrodPwh3wFfg2PAwL4ZfwHAIQIsJAlBFdhI1wEQ8kGIlCBMhWpBApR+qRVqQb6UPuIUJkFvmAwqBoKCZKF2WJckb5ofioVNRWVDGqCnUC1YHqRd1DjaNEqM9oMloerYO2QPPQgehodBa6AF2ObkS3o6+hh9GT6HcYDIaBYWHMMM6YIEwcZjOmGHMY04a5jBnETGDmsFisDFYHa4X1wIZh07EF2ErsSewl7BB2EvseR8Qp4YxwjrhgXBIuD1eOa8ZdxA3hpnALeHG8Ot4C74GPwG/Cl+Ab8N34O/hJ/AJBgsAiWBF8CXGEHYQKQivhGmGM8IZIJKoQzYlexFjidmIF8RTxBnGc+IFEJWmTuKQQUgZpL+k46TLpIekNmUzWINuSg8np5L3kJvJV8lPyezGamJ4YTyxCbJtYtViH2JDYKwqeok7hUDZQcijllDOUO5RZcby4hjhXPEx8q3i1+DnxUfE5CZqEoYSHRKJEsUSzxE2JaSqWqkF1oEZQ86nHqFepEzSEpkrj0vi0nbQG2jXaJB1DZ9F59Dh6Ef1n+gBdJEmVNJb0l8yWrJa8IClkIAwNBo+RwChhnGaMMD5KKUhxpCKl9ki1Sg1JzUvLSdtKR0oXSrdJD0t/lGHKOMjEy+yX6ZR5IouS1Zb1ks2SPSJ7TXZWji5nKceXK5Q7LfdIHpbXlveW3yx/TL5ffk5BUcFJIUWhUuGqwqwiQ9FWMU6xTPGi4owSTclaKVapTOmS0gumJJPDTGBWMHuZImV5ZWflDOU65QHlBRWWip9KnkqbyhNVgipbNUq1TLVHVaSmpOaulqvWovZIHa/OVo9RP6Tepz6vwdII0Nit0akxzZJm8Vg5rBbWmCZZ00YzVbNe874WRoutFa91WOuuNqxtoh2jXa19RwfWMdWJ1TmsM7gKvcp8VdKq+lWjuiRdjm6mbovuuB5Dz00vT69T75W+mn6w/n79Pv3PBiYGCQYNBo8NqYYuhnmG3YZ/G2kb8Y2qje6vJq92XL1tddfq18Y6xpHGR4wfmNBM3E12m/SYfDI1MxWYtprOmKmZhZrVmI2y6WxPdjH7hjna3M58m/l58w8WphbpFqct/rLUtYy3bLacXsNaE7mmYc2ElYpVmFWdldCaaR1qfdRaaKNsE2ZTb/PMVtU2wrbRdoqjxYnjnOS8sjOwE9i1281zLbhbuJftEXsn+0L7AQeqg59DlcNTRxXHaMcWR5GTidNmp8vOaGdX5/3OozwFHp/XxBO5mLlscel1Jbn6uFa5PnPTdhO4dbvD7i7uB9zH1qqvTVrb6QE8eB4HPJ54sjxTPX/1wnh5elV7Pfc29M717vOh+Wz0afZ552vnW+L72E/TL8Ovx5/iH+Lf5D8fYB9QGiAM1A/cEng7SDYoNqgrGBvsH9wYPLfOYd3BdZMhJiEFISPrWeuz19/cILshYcOFjZSNYRvPhKJDA0KbQxfDPMLqw+bCeeE14SI+l3+I/zLCNqIsYibSKrI0cirKKqo0ajraKvpA9EyMTUx5zGwsN7Yq9nWcc1xt3Hy8R/zx+KWEgIS2RFxiaOK5JGpSfFJvsmJydvJgik5KQYow1SL1YKpI4CpoTIPS1qd1pdOXP8X+DM2MXRnjmdaZ1Znvs/yzzmRLZCdl92/S3rRn01SOY85Pm1Gb+Zt7cpVzd+SOb+FsqdsKbQ3f2rNNdVv+tsntTttP7CDsiN/xW55BXmne250BO7vzFfK350/sctrVUiBWICgY3W25u/YH1A+xPwzsWb2ncs/nwojCW0UGReVFi8X84ls/Gv5Y8ePS3qi9AyWmJUf2YfYl7RvZb7P/RKlEaU7pxAH3Ax1lzLLCsrcHNx68WW5cXnuIcCjjkLDCraKrUq1yX+ViVUzVcLVddVuNfM2emvnDEYeHjtgeaa1VqC2q/Xg09uiDOqe6jnqN+vJjmGOZx543+Df0/cT+qalRtrGo8dPxpOPCE94nepvMmpqa5ZtLWuCWjJaZkyEn7/5s/3NXq25rXRujregUOJVx6sUvob+MnHY93XOGfab1rPrZmnZae2EH1LGpQ9QZ0ynsCuoaPOdyrqfbsrv9V71fj59XPl99QfJCyUXCxfyLS5dyLs1dTrk8eyX6ykTPxp7HVwOv3u/16h245nrtxnXH61f7OH2XbljdOH/T4ua5W+xbnbdNb3f0m/S3/2byW/uA6UDHHbM7XXfN73YPrhm8OGQzdOWe/b3r93n3bw+vHR4c8Rt5MBoyKnwQ8WD6YcLD148yHy083j6GHit8Iv6k/Kn80/rftX5vE5oKL4zbj/c/83n2eII/8fKPtD8WJ/Ofk5+XTylNNU0bTZ+fcZy5+2Ldi8mXKS8XZgv+lPiz5pXmq7N/2f7VLwoUTb4WvF76u/iNzJvjb43f9sx5zj19l/huYb7wvcz7Ex/YH/o+BnycWshaxC5WfNL61P3Z9fPYUuLS0j9CLJC+ERlPpwAAIztJREFUeJzt3W+I2+YdB/AnW/7SXCq5LO0WRio7bVe2Uk46lrF/HdimbfaiUE5XGGMtrCeXvtj6yvKLDvbS9pu1jEEll41ur3o6KOxFls0yC2ODtbN8G6UQklhOGKFNX1jeXcplJOz24lmFJsk+/5Fkyfp+XoSLznd+7LOln5/n9/x+B/b29sjCee655zY2NprNZqFQmPdYAAAAIBY+M+8BAAAAAEQBQQ8AAACkAoIeAAAASAUEPQAAAJAKCHoAAAAgFRD0AAAAQCog6AEAAIBUQNADAAAAqYCgBwAAAFIBQQ8AAACkAoIeAAAASAUEPQAAAJAKCHoAAAAgFRD0AAAAQCog6AEAAIBUQNADAAAAqYCgBwAAAFLh4LwHkGCFQqHVanEcl81mvd81TdM0TdcRWZZ1XR8MBjzPl0olSZKiGiwAAEDaIeiZnmEYhJBer9fr9bzfXV1ddf5X0zRJkrLZrK7rLMtWq9VSqdRut1VVjWi4AAAA6YagZ3p0wqZQKHi/Va/XS6WS/V/TNCVJYlmWRjyEEFVVTdNsNBq5XE6W5egGDQAAkFYIeqZEp3kqlYooiq5vybKcz+edwVC1Wh0MBpVKhUY8VKlUarVa1WqVxkPRDBsAACC1kMg8JcuyCCHeaR7LslRVdU3zNBoN741ptDQYDDRNC324AAAAqYegZ0qGYfA8752hqVarLMs6p3/smEYQBNeNeZ4nhDSbzTBHCgAAAIRgeWtqoigOm+ap1WrOg+12e9gvoTGTruthjBAAAACcFiHoMU1T07R2u02XnIrF4q1bt8K+U99t6tVqlXy6bmWjoxphMBgENy4AAADwl+ygxzTNarVKM2ZsrVbr0KFDI36K1tfZ95c3m03fnVnD0GkeURRda17j3Jdpmr5RFAAAAAQlwTk9mqYJguCKeKg7d+4QQnZ2dqIcD92iVSwWp/hZVxlDAAAACNyBvb29eY9hGq4dUr5efPFF35AoDJZlZbPZwWDgfT6z2SytXuj9lj3n1O/3sWsdAAAgVImc6aH9HPa9WSaTiWAwlKqqg8Egn897vzXOuhUiHgAAgLAlMuihC0n73iyXy4U/lv9RFIX4bUofdtCJblwHAACAUCUy6Blzj7e3VjJVKBQOjGH8neSGYfi236JWVlboF97EHbq2NVG6NITKMAxd12m5bQAAWDCJDHpGRBi2crkc2ZrR6PBIFEWO47w3s2OgtbW18MYGY9I0LZvNyrJcrVYLhUI2m0XokzjYEAAAoyVyyzrDMKOXt3ied1UIdKrVavvWziFjLEvZRpQfpCqVSqlU2tjYkCTJPkhXxFZXV8e/IwiJrutra2t2kQLDMFZWVkRRxEU0cIZh+L77htUl9w09TdMc9snnqaee+t3vfjfLCAFggSUy6JEkqV6vD/vu6uqqqqojfjzwIGPfEEqSpHa73Wg0ZFmm0ZiqqvV6nef50UOFaNArrqIoNOgRBCGfz7daLV3XU7j4GHZcEqp+vx/9nQJAUiQy6KlUKoZheIv+cRxXq9WGpfKERxAEOpgRC1WqqrIsW6/X6SJXp9PJ5/OapmHfVhx4N/rFfI4n0XHJaL4t7ciQzyqZTMY+Xi6Xt7a2vvOd74Q6PABItKTW6SGEaJrWbDbpxUkQBLoeMa/B6LrOsuy+c0imadLLFc0aiWZsMA7DMOw/n67rxWKR47hZQh/fTC/LsoYthvrGJYZhxLBLiW9pBpZlfV/SuVzO93g2mw32LUCrXpXL5RFL2wCQcomc6aFEUZxjlOMy5iJI4Cd6CIod8dAqUAzDaJrme8tareacUFnguEQQBMxEAsAiSXDQA2kw0XyJZVm+czPOuIRGM94glSYv8zzf6XTK5XKlUhl2vR+zTNS+EJcAAEQMQQ/MKvC4JFSDwcAwDG/QIwhCu90WBEGW5Xq9nslkhlX9VlXV96EhLgEAiLkE5/TAmCzL8s0XiW1cMpEp5kv2XYs8cOAAIaTb7WItMkGQ0wMA+8JMTywMi0tM0+x2u77HfTfveHe0zR3DML753dls1nf+Y2VlZdjmnTDmSzRNa7fba2tr3kGapomgBwBgkSDoCVKv13v55ZePHDnyyCOPpDAuSWJJG0mSBoOBaZp22rL9V8OaVLLg7wUA+0LQE6Rf/vKXFy5cCOM3pzkuCdVgMGAYxllgiUY/HMehUnayqKpaKpXwVwsErawxThkOgGRB0BMku1+6M9Fk2FkDcUkc5PN5QRDs2geGYYzerw6xxbIs3juz0zRNlmW6sGsYBsuymqYh9IGFgUTmINGidoQQPKtJYVmWKIq0XKRpmpubm/l8vlar4SwPKUTPYK4mdDNW6QSIFcz0QKqxLKvrumma9LReq9WQvAyphSZ0sPACDnp0XW82m9gyCsmCStkAJIFN6AAmFWTQQxMJCSGWZaF5OABAssiyXCgUnE3oer0ex3GY5oGF8ZmgfpEd8RBCGo0G8kABABJn/CZ0AEkUTNDjjHgoSZJ8q9QAAMA4Ll68eOjQoQPhGDZ5YxjGgQMHBEHI5XI0u983qd+yLEEQAh/V2bNnQ35SIe0CCHroBwLXwcFgUK1WZ//lAADp9N577929ezekX95qtXyrwNMmdIZhlMvler0+LFHBNM1OpxP4qN57773AfyeAUwBb1mnLG+9xhmFM00xVmVTTNOmKOCaEQ2UYhuvTJ1pGwOKxS2CUy+XAf/nKyopdnmqYAyOb0Kmq6tskZzoXL16kEQ/qfUCoZg167LelLzT/g8CZppnL5YijAiQtHevb7B0guaKs++XbhI4GPXbZnlDJslyv1wmCHgjZrMtbw9awOI4jhGAPFwRO13X66mq1WnSKHlNrIXnnnXcuXrw471FAFCRJqtfrzvM5mtDBQpppy7ppmt6FLYZharWaJEksyw4GA1VVJUma5V4AnJrNZqVSwYuK8p3fsiyr3W77Hvctu2IYxmAwGHYXv/nNb77//e/PMEZIADShg5SYKejxfrzmeV7TNLoALIpio9FoNpu4PkGAdF1P0AyiZVm+6aKmafrmQ5im6bvt0TdtLhrb29vzumuIDJrQQUrMFPTQmuU2nud1XbfnQukXm5ubNOViljsCoOhiVrAvpwWIS4ZhGMb3Y3o2m/V9Dl1NcGlCycMPPxzeCCEmNE0TRVEQBDShg8U2U9DjvFQwDOOMeAghxWKRJqbpur7vNgGAcWxsbBBCBEGg22V5nq/VasOyLGVZdkUzixeX2FAzF2aBJnSQEjMFPc48AFVVh33+brfbCHoWnmEYvvMfhmH0+33f496DlmXZxT8YhjEMw3nmNQyDpoiVSiWWZVVVrVQqxWKx3W77xg005p4dx3G+F4BhH4KH7WdEXAIxN8cmdLTtF8Mwc7l3SI9gem/l8/kRYY3v5Q2iNywucS1TOm/vPWiaZq/XC3hkfgaDgav6Do2B7CIIsix3u91Go6Eoim+Wj6Iow+qI+MYlLMtiMh/iQxCEcrm8srIy74FEQZKkfr+fkgcLczRTnR5axYEMKeSgaZq9FwClF8Y0rNhMPOOSifA87zsX6BtnZDIZml4w+nfS2h75fB5FesIQZZkWAIAIBDDTM6wHr3PTbHpymZ9++ukTJ048+OCD9L/TbRKeF7vcn8uIuMR7PKQZcsuyqtWqq3galZKXFgAAzCiAoGfYp0DnSophGGn4sPiTn/zkwoULod6Fb1zCsqxvnJHL5YYloyQuUBBFkZYidE7q0K9H1AQHAACwBRD0DLt8pnDFwd7c6w1N0hCXhIou5DmneQzD6HQ6PM+jEFRIGIaJ4XwkAMDUAgh6fD9nG4bhTCtJyfX785//PP0ihQFf2ERRtCzLzmI2TVMURYZhElSoMHFo5juSuwFgYRwkw4uzjcneY+zUaDSc/7UsKw1xgP1UpOHBRuzpp59+7bXXHn744eXl5Vu3bv3pT3/69re//eKLL6bkpTVH8X96L1++jAqKADDa/3Js9vb2VldX5z0YAAAAgLD88Ic/3NvbO0gIqVQq0223efvtt69fv/7EE0+cPXvWefzvf//7H/7wB/u/jz/++JNPPjnjcEdTFOVf//rXvffea9e2+uijj/79738/8sgjzzzzTKh37XTt2jVaMrhcLkd2pwCB+Oijj27fvu09fu3aNd/b37x5886dO3fv3nUe/OSTTz755JMwhjfa2tqavWVyIdFKmzixALjQt8bp06efe+45eoRGJt5b3nPPPWTGOj20Skq5XLYzLQghNAnAmdCjKErYqaZ2xSAnVy+wCOi6TjOcUJcIwmB3CXAZUfZ6d3d3d3fXeXBnZ+fq1athDXFOFr6YED3F9fv9lORHAoyJvjWc1doKhYJvxyEaq8yUyEwLh7vygarVqjPiYRhmLj0ovL3AACIwRfvSjz/+eGdnx3V8a2srlPEtqE6ns9hBD5WS2h8A4Zkp6KFvP2dIZRiGq+GRKIphRx7ez76IeGA03+Rcy7KcFTWdx03T9E6lXL58eS5LOZBaCz+hBRC2mYIeQRBoJQ9d1+lb0buMValUZrmLcXg/WGuaJghCrVbr9/vOpbewZbNZhmFwVgrEFJ3Ctre3XSkmH3744UcffRTK+GB+lpeX7a8vXbq0u7trV4tYbPHfSTeCZVmqqsqyPO+BQKrNWqenUChsbm7Szx+yLLu2r5fL5Qh69ro+nSuKUigUaNeCiEuMZLNZ3+v0ogokxQRxyUJyxiXU0tLSyZMnAy/RyfP81tZWSoKeTqfj6sKbIKqqViqVbreL2lowR7MGPcVicXNzU9O0lZUV18IWwzARTPOQ///0Uy6X6WxTtVpFMVkSUIrJQqa+wpkzZ5aWlpxHjh07duzYMbpg7dooFHGrNRhGUZQoZ68DJMvyxsZGo9HI5XKY74F5mTXoEUWxVCr1ej3vwpaqqhFk1ZimaU8vra+v09OBqqquCCzmAkkxQerr4nnggQdccxgHDx48ceLEsClM3/LoLMtONOVJd0Mk9Mq68Oh8SUITFnVdFwSBFkmZywYXgFmDHpZlV1dXNzc3XdMqq6ur0bymFUWhX+TzeTprSjfSR3DXo8my/Mc//tGVYoLU18Vzzz33eMsBZzKZbDZLr0y0etPJkydfeOEFQsjKyorvFQupYDCOwWBQrVYTGpKyLKuqarFYlCQpm82iwwlEb9agh846uA5yHBfNqi3NjCOE8DyvaRohRBAE37YY0YtD4AU2b4pJJpOJpgusrusbGxunTp1K6IUK4qZer5dKpYSuKhYKBY7jer2eKIqGYSR0ygqS6yAhxDAMWkd4Cr///e//8Y9/uA5+61vfqlarsw5tDBcvXhwMBkeOHPnmN79J79EV8Vy9ehWLx0nBMMzhw4edRw4fPvzZz372/vvvd93yn//854cffvjII488/vjj3l9iV+WeWrfb9U14GrZxbDRa0fjGjRsRvxQHg4FvWtvNmzddueT2cWeF5aS8cW7cuEEIaTQa0/11EurcuXNR1poP1n/+8x9CSK/Xe/TRR59//vl5DwcWgfNaPywD9X8V5/f29lDaHAAAABbYM888s7e3N30bClVVS6WS66CrJUWoJElqNBobGxvO5CFXPwpnaeqI+XbGiIA3xYSmvtopJi40xeSll17qdru1Wo3neTJ56mvEfPufhGeiNHPTNC3LcqaZb29v+84bxVxSWqnQLesLX7WPnk/a7fbKygo9wnFcQpeHstmss2p/tVpNyrQixFBEbSh0XfdGPIQQ34Nh0DSt0WgoipLQLQCBpJgEeJY/ceIEIYTn+YReOSaqZEgT0byVDJFmDjEnCIKiKPQ02+v1kpjRXKvVnBEPIaRSqQiCkNAzDyTONEGPYRjDQg1d18PuLUoIMU1TkiS7JE+coUGgLfBKhvV6HdnikDaSJFmWRUugJS6j2TAM33RP9BSDyEwc9FiWJUmSK0GSYRhJkur1erPZjCAQEUUxm80Wi8V9l64sy7JvM5clm2RFPDs7O75P6bBKhoZh3LlzB5UMAaIky3K32200GoQQSZKS0ptC0zTvtYN8evmYx4giNWw2eoTptovCaBMHPd5eE7S7JyGkXq9vbm4GNrThLMvq9Xq+ddhcOp2OfTOGYRajR0R4lQyfffbZQEYIc+GtZEgrLPvG+iMqLOdyubCGCAGp1WqGYXQ6nVarZbc+jDPfHFCSpubQdjLW+KLMkU2PyYIeVVXpxwvXQXr2pNUXNE0LO8/GNM1hH25ckRDP8/aLZi6TwK5xTtQsEykmi2dYmnmoFZZh8dAqf/Q6Wq1WYx70DIt4OI6jzaGjHxKk1gRBj2ma3hz7arVqhziFQqHRaLTb7QiSi33f5L5NpuZ7OhhnOgriZqI0830rLOu6XiwWl5eXY1I2ExaDIAjlcrler7daLcMwYhs6mKbpG/HwPJ+SOR6IlQmCHlmWvb0mnGFQsVhsNBpzXGD2llhMdFNiGO3kyZOnTp2y/7u0tHTo0CHfU3+wFZYBYqJSqaiqOhgMFEWJbetyWivfBREPzMu4QY+u6658HZ7nXW8z+tG20+lYlhX9q9kwDN+3fYIS/RZMUCkm3niF1ul54YUXsOANacayLN1BomlabIMeSZIURXFtU6/Vaoh4YC7GDXrGaaLOsizP851Oh2bpBzPAMei6TndC+hbdb7VatK+vIAiY8nGxU0wuXbq0u7uby+UymcyISoZIMQGIlVKpVK/XB4NBbNOZWZbVNK1QKNjnZ47j4jlUSAW0oQAAAIDFRttQHCSE5HK5fD4/4qbvv//+xx9/bP93aWnpq1/9qus2N27cuHnzpndP+NGjR++///5Tp04dO3YsoJH7+Mtf/nL79u2jR4/a97Kzs3P37t2TJ08+9thj4d3vCLQM9unTp73foht2vMdpVkroI/Pz7rvv3rp1a3l5OZPJzGUAE7l69er169dPnz595syZeY9lf/1+f2tr6/jx42fPnp33WMZCX7qjzwnxkayX7tRG/FGS8na4du0aLfdF1wTmPRxYEPSt4XxR0Rwb7y3vvfdeQgjZ24+3xEuz2XTeoN1uj/MKLpfL/X5/37ubju898jwf3j2OOaR53fuk6H4l1182tujcZLlcnvdAxkLrFCwvL897IOPCSzeGRvxR6Nshn89HPKQprK+v0wcyxzMzLBj6inK+/od9YKOXjM/sG6y4cu/z+bxzOZaWDx9nL269Xi8UCpGVB0xPzSsAgEQkLKqqSj8h+zajAIjA/kGPq/8A7flCmabpTE/bV6fTCSPu8XZ0QsQDAKkS29OdaZq1Wk2WZU3TaF1ZjuPq9To21cJc7L97y1nxz9WF27eRymidTkcUxWBf7t6ahLTKZ61W6/f72NUMAAvMtyhrfAiC4LxMcByXzWZ7vR69EGDjJ0Rs/5kep7W1NftrXddpApFtfX19Y2PD7rTQbDar1SrHca5f0mq1gi0p4eo5pSgKnU+qVqsxPx0AAMyInuViW/zd9cG41+vRC8dgMKAd4+czLEir/YMeZ2TjnOZxlj/meb7dbquqKoqi8zayLJumqSgKwzDO3xnsgq5z3qhcLtMSQcPK9gAALAzTNOmJLrbLWyPQhId5jwLSZf+gx45XGIZxTkXaoQZNoHF+i+ZO27MstCayM+7p9XpBTfaYpmmnUa+vr9PFLFVV6/V6IL8fACC26EYT18k5Vpx7e6vVKt1f0+126TpAp9PxtnQECM/+QY/9XnK9qeyy4t6C4vSWzgxoQRBccc+wfuOTUhSFfpHP52kgJcuyb387AIAFQxf34zxfYidF8DxvxzfZbFaWZcMwUBoXIjZZTo8vb0/1XC5HPJuqBEFw9qYIJJfZsiwa6PA8Tz/xCIKAOR4ASAPTNGlLxNgm9BBHCyNvZMaybK1Ww14TiNJBQohlWSMSfu+77z77C2ekcvz48Vu3bhG/vQN3794lhLRaLVdk87Wvfc3+KdosZsbRNxqNwWBw/PjxV199lQ7DVTGo3+/Pd2NkUrZlbm9vE8+zF1vXrl2j/ybi6aXP6vb2diJGa4vnaHd2dq5cuWIYxokTJx566CGe55P10h2T92HS464/yttvv02/+NznPhfPvxd17ty58+fPJ+UNC0nkvNZ7Kyr/nz1HlUwAAACAxfPkk0/u0d5btVrNuRfdZWdn59lnnyWELC8vO1eO3n777TfffJMQ8sorr3z3u991/dTLL7985cqVV1999YknnnAet3+KEPKLX/yCtviezs9+9rPz58+77sI1zesac5ToSIJKXQrbSy+91O12a7VaInriNBqNjY2NtbW1aOL1crm8tbU19ZNDUzVzudwbb7wR+NjCELeX7uXLl998882tra0Rt0nKS3eEcR5mfP4ok2o0GufPn3/nnXfmPRBYNPR85bzW0zO295aPP/44IeN12FldXSWEMAzjPNjv92liMsdx3h+hVyNvdyTnm3aC7hoedMO8oiiu464HOcd+NLM/xiglq4FR2L23ms2mszcQ3Y049ZOD3luzaDabroIXvpLy0h1mzIc572HOhOd57xkbYEbea/2svbfIp+n3g8HA2YeLZVnakqLX6zkzlO3vEr8GEXYpKm/RwvGZpilJkl2SByBAqqoWi0X0BooDwzCKxeI4Bbd2dnbCH05Yxn+YiS7lp2mavdkWYF72b0NBCBFFkeO4Xq+nKIpzr5Ysy91ut9FoNBoNupHK3ru+srJC/N6idvXkWfZYiqKYzWaLxeK+aXGWZdm3YVk2tqUsID5czeZgXizL8u4MHebBBx8McywhmuhhWpaVxCKEVDabRYl8mLuxgh7y6cffVqulaZrzLUoDnXq9vrm5aRiGPbVDW/66+lQQx+6DEVlE+7Isq9frjbNLs9Pp2DdjGCbRn5MAwkA3bzabzUwmIwhCfCq+qKpqFwMbjWEYuj6bRBM9zES0UgeIs3GDnkKhsLq6urm5KUlSNpt1TpnUarWVlRVZlp0fQewbOD+a6LpOd5bm8/lZzq20Va/vt1yREM/zdhGIBT5fGIah6zoKm8JEVFVVFMW12XuWdedgORvdjDb+TEkMpeRhAsTEuEEPIURVVdrzoVAouPpOiKLofUPSFTHDMOz4xr4qz16Nyjdm8p07jc8n1/DIstxqtWL1MX3x0OmQtbW1BVgkNQyDvma83xpz1iECY5beYRiGJhcmVEoeJkBMTFCRmWVZVVUZhhkMBjTuGX17OrNiL3hJkkTf3tVqNaTLhvczU6fT8SZTLwBd17FUFw3LsuhTXalU6vX6Akyn6bpeKBR8I54kqtVqCzyJa0vJwwQI22RtKGgLLY7jBoNBsViUJGlESEHfot1u1zTNQqHQaDQIIevr6yFdNgzD8G1iung7vLC9KBqapkmSlMlkFqnab4I2CtFKGaMpipL0N3hKHiZATEzce0sQBMMw6D74RqORy+UkSdI0zXuKpKk8mqblcjn6sVJRlKCaqzvpul6r1QqFgu+pnK77aJq2MFM+2F4UgXq9vra2RiP1hTHpRqFQB7Ov0as5HMc1m80FCAVS8jABYuLA3t6eqqrjJ9PZbty4ce3atdu3bzsP0kBnZ2eHtt9yHj9z5syJEydmHK7X9vb23/72N0LI0tLSwYMHXXdx586d3d3d3d3d27dvsywbZc1WGucNq5I0i6tXr16/fv306dNnzpyhRzqdjmVZy8vLmUxmut/57rvv3rp1a5bfEJ47d+7s7Oz0+336981kMt5nIBA3b968cePG6Iv9yZMnH3vssYlG2+/3t7a2jh8/fvbs2QBHO4Vr166NGTEfPHjQVUt9Lra3t99//33XSebo0aOnTp06derUoUOHXLe/evXq6dOnvcfjZnd39+bNm/Y2+0kfJgDY6KXWeX2nF0TvLX/wgx+89dZbZO/T+rYAAAAAC+nnP//53t5eYHXNu91u06Hf79Pq+3NsBDFf9FkO4zd7mzDQ+aRqtVoul9vt9hS/M25tKNrt9r6TZIG3ofC9F4ZhaH+AEU/OOKONQxuKMU8NDMN0u915D3Ya7Xb7C1/4AiHkgQceiFvHg36/Xy6Xjx07Rgj58pe/7OxzAgCRmWDL+mjZbNZ3c8HCbBKJLef2IvJpzZ55D2omuq6LojhOsm2o8vn82toaLccw4mUck9EGKLkbhQRBuHHjxo9//GNFUUql0iuvvCKK4je+8Q1RFOdVyJgWFXvnnXcuXrx4+/bt++6777XXXkOODsC8TJzIDPGR8u1FR48eDfaunXX5yuWyruuSJI2+WI4/2jgkS6Vko9Drr7/+4Ycf/uhHP9rd3f31r39dKpUymcxXvvIVWZYj+zygaZosy48++mgulyuVShcuXDhw4EC5XL5y5UrSn16ARJtmpofWrSfDZ3cgAvV6fd5DCN5E24uef/75YO+dVj/a2NgY87mdaLRh7FucVKVS2dzcHPZdjuNUVV2M+pYsy77++us//elPNU371a9+9de//vWDDz744IMP6F92eXn5i1/84pe+9KVcLkfry88yD2SapmmahmH0+/0///nPH3/88dWrV+3vHj58+Ny5c9/73vdQTxkgDiYLeizLkmXZuY93dXXV2Wc0taJpYETbFI9eMRznb7EY7ZYCD7jpLxx/J2PiuiYJgtBut0VRdA2b47hSqbTvtFbisCwrSZIkSZZlaZq2sbFB3ztbW1tbW1u//e1vnTc+c+bM0tISIWRpaenQoUPDCqgahkE36BFCdnZ2nPGN09GjR5966inEOgBxM0HQY1lWoVBwraTQD46apgU8ruSIsoHR6C6t9qVrxG2GjXZv7CzXUCWrD1GyRksJgkCnJQzD6Ha7xWIxDfO1zuiHhvuXL1++dOnSpUuX7Nu4wpdJkxGPHDny0EMPff3rX6dTR/H5IAEAThMEPbIs++aO0P7qC9CQaFIxaWBE9xYNBoPRaxMxGe1oMe9DRFvO2dMhMR/tCIIgpPANSwhhWbZQKDjfJnRxim41pUtUhJDt7e27d+9ev37d+bNHjhx54IEHjh07RndgPfzww6dPn6ZzpTMukAFAZCYIekZM52xsbHjPoXRLUZT1AKMUhz07Y24vIvEYbYDmsr2oWCwSQlZXVyed10zuZqg0oBNdmJgBSIkJdm+NuGT6Vj9st9tkvBSTxJlXA6MptheRSUZ73333zTjCGcVqe5FlWbVaTRAEZ0Dp/IPGarQAALCvYOr05HI570G6O3QxZtFVVbXr99++ffutt94a8wcrlQpdflpbW5v9qZhoexEd80SjfeONN+hoV1ZW5pKGEp/tRZqm7fskx2e0AAAwlvHrGI5YqPLWb7VDhOkKBMcKnbKa0erqalDjGVaR2VkyeMYxMwwT1Ggn1W63vWngHMdVq9Wwi9h2u91yuUzDvmFcFcbnOFoAAJjUBDM93q1blKIo3pSFarVKrxALMNOTzWY5jpsx2zfirI4ZxzzHv9octxcJgjB6EXB1ddWVkpzOzVAAAAk1QdBTKpXsCX86tZDNZkulkvcCqes6reUTt00r02FZ1jRN+78HDhwY56cYhjEMI+Lrn729yB5znEc7wly2F42OeJrN5rC1qtRuhgIASJYJEpmz2azdjz2bzeq6rqqq91xvGAZNB1lfX09zQkP0e3aKxWKxWJwubRY7jLwYhllfXx+nmSgAACTCZL23arUazexpNBqiKDrnP+wbFAqFwWDA83ytVgtsmHESnz07+24vInEabfw5s3nW19cty/IN6wEAIKEm3r1Ft0lvfsrO2rEsS9d1mkSSz+c1TVvIzeokNnt2xtleRGIz2kTQNI2m5jQajUV99QIApNp0+c+Kovh2WuA4TlGUYHOtY2hee3am2F40x9Em1Dib4wAAIImmrNNDG9kYhuFsP1QsFlMyZzCvPTtTbC8i2GEEAABACJmxOGHKN61E//Cn3l5EUv/HAgAAmCyRGWIF24uiQfN7kOUDAJB0CHqSBNuL5kJV1Xa7jecZACDpgum9BdHA9qIIZDIZ1xGWZRHxAAAsAAQ9SVIoFAqFgizL8x7IIqMli1C4CABg8SDoAfg/LMsirAQAWEjI6QEAAIBUQNCzCLC9CAAAYF8IehYBthcBAADsC0FP8mB7EQAAwBSQyJw82F4EAAAwhf8CIGosGNPfkD8AAAAASUVORK5CYII=\"/>"
      ],
      "text/plain": [
       "<maelzel.scoring.renderlily.LilypondRenderer at 0x722b2788fd50>"
      ]
     },
     "execution_count": 5,
     "metadata": {},
     "output_type": "execute_result"
    }
   ],
   "source": [
    "from maelzel import scoring\n",
    "from maelzel.scorestruct import ScoreStruct\n",
    "from maelzel.scoring import quantutils\n",
    "from maelzel.common import F\n",
    "\n",
    "notes = [\n",
    "    (60, F(2, 3)*F(1, 5)),\n",
    "    (61, F(2, 3)*F(1, 5)),\n",
    "    (62, F(2, 3)*F(1, 5)),\n",
    "    (63, F(2, 3)*F(1, 5)),\n",
    "    (64, F(2, 3)*F(1, 5)),\n",
    "    (65, F(2,3)),\n",
    "    #(60, F(2, 7)),\n",
    "    #(61, F(3, 7)),\n",
    "    #(62, F(4, 7))\n",
    "    \n",
    "    \n",
    "    ]\n",
    "\n",
    "struct = ScoreStruct(timesig='4/4', tempo=70)\n",
    "\n",
    "notations = [scoring.makeNote(p, d) for p, d in notes]\n",
    "part = scoring.UnquantizedPart(notations)\n",
    "quantprofile = scoring.quant.QuantizationProfile.fromPreset('highest')\n",
    "quantprofile.rhythmComplexityWeight  = 0.001\n",
    "quantprofile.debug=True\n",
    "qpart = scoring.quant.quantizePart(part, struct=struct, quantprofile=quantprofile)\n",
    "options = scoring.render.RenderOptions()\n",
    "score = scoring.quant.QuantizedScore([qpart])\n",
    "r = scoring.render.renderQuantizedScore(score, options)\n",
    "r.write('~/tmp/bigtriplet.ly')\n",
    "r"
   ]
  },
  {
   "cell_type": "code",
   "execution_count": 6,
   "id": "fc6ca75f-b392-4ab3-9c3c-822aff030289",
   "metadata": {},
   "outputs": [
    {
     "name": "stderr",
     "output_type": "stream",
     "text": [
      "[maelzel.scoring:quant.py:1364:quantizeMeasure:DEBUG] Measure 4/4 is not filled (events=[«4C# 0:0.6 3/5♩», «4E 0.6:0.7 1/10♩», «4F 0.7:0.8 1/10♩», «4F# 0.8:0.9 1/10♩», «4G 0.9:1 1/10♩», «4C 1:1.2 1/5♩», «4D 1.2:1.533 1/3♩»]). Filling gaps with silences\n"
     ]
    },
    {
     "name": "stdout",
     "output_type": "stream",
     "text": [
      "Beat: 0 - 1 (dur: 1)\n",
      "Best 8 divisions: (quantized in 30.4ms)\n"
     ]
    },
    {
     "data": {
      "text/html": [
       "<table>\n",
       "<thead>\n",
       "<tr><th style=\"text-align: right;\">  error</th><th>div            </th><th>snapped                                                                                                                                                                                                                                                      </th><th>slots             </th><th>info                                                                                                                                                                                 </th></tr>\n",
       "</thead>\n",
       "<tbody>\n",
       "<tr><td style=\"text-align: right;\"> 0.0063</td><td>(1, 1, 1, 2, 2)</td><td>[«4C# 0:0.6 3/5♩», «4E 0.6:0.7 1/10♩», «4F 0.7:0.8 1/10♩», «4F# 0.8:0.9 1/10♩», «4G 0.9:1 1/10♩»]                                                                                                                                                            </td><td>[0, 3, 4, 5, 6]   </td><td>gridError=0, rhythmComplexity=0 (numNotesAcrossSubdivs=0, numTies=0), divPenalty=0.02 (0.002, divPenalty=0.02, cardinalityPenalty=0, numSubdivsPenalty=0, levelPenalty=0)            </td></tr>\n",
       "<tr><td style=\"text-align: right;\"> 0.0110</td><td>(1, 5)         </td><td>[«4C# 0:0.6 3/5♩», «4E 0.6:0.7 1/10♩», «4F 0.7:0.8 1/10♩», «4F# 0.8:0.9 1/10♩», «4G 0.9:1 1/10♩»]                                                                                                                                                            </td><td>[0, 2, 3, 4, 5]   </td><td>gridError=0, rhythmComplexity=0.0894 (numNotesAcrossSubdivs=1, numTies=0), divPenalty=0.02 (0.002, divPenalty=0.02, cardinalityPenalty=0, numSubdivsPenalty=0, levelPenalty=0)       </td></tr>\n",
       "<tr><td style=\"text-align: right;\"> 0.1961</td><td>(15,)          </td><td>[«4C# 0:0.6 3/5♩», «4E 0.6:0.667 1/15♩», «4F 0.667:0.8 2/15♩», «4F# 0.8:0.867 1/15♩», «4G 0.867:1 2/15♩»]                                                                                                                                                    </td><td>[0, 9, 10, 12, 13]</td><td>gridError=0.185, rhythmComplexity=0.179 (numNotesAcrossSubdivs=0, numTies=1), divPenalty=0.202 (0.02025, divPenalty=0.2, cardinalityPenalty=0.1, numSubdivsPenalty=0, levelPenalty=0)</td></tr>\n",
       "<tr><td style=\"text-align: right;\"> 0.1972</td><td>(11,)          </td><td>[«4C# 0:0.636 7/11♩», «4E 0.636:0.727 1/11♩», «4F 0.727:0.818 1/11♩», «4F# 0.818:0.909 1/11♩», «4G 0.909:1 1/11♩»]                                                                                                                                           </td><td>[0, 7, 8, 9, 10]  </td><td>gridError=0.195, rhythmComplexity=0 (numNotesAcrossSubdivs=0, numTies=0), divPenalty=0.1 (0.01, divPenalty=0.1, cardinalityPenalty=0, numSubdivsPenalty=0, levelPenalty=0)           </td></tr>\n",
       "<tr><td style=\"text-align: right;\"> 0.2251</td><td>(9,)           </td><td>[«4C# 0:0.556 5/9♩», «4E 0.556:0.667 1/9♩», «4F 0.667:0.778 1/9♩», «4F# 0.778:0.889 1/9♩», «4G 0.889:1 1/9♩»]                                                                                                                                                </td><td>[0, 5, 6, 7, 8]   </td><td>gridError=0.224, rhythmComplexity=0.179 (numNotesAcrossSubdivs=0, numTies=1), divPenalty=0.04 (0.004, divPenalty=0.04, cardinalityPenalty=0, numSubdivsPenalty=0, levelPenalty=0)    </td></tr>\n",
       "<tr><td style=\"text-align: right;\"> 0.2607</td><td>(8,)           </td><td>[«4C# 0:0.625 5/8♩», «4E 0.625:0.75 1/8♩», «4F 0.75:grace properties={&#x27;.snappedGracenote&#x27;: True, &#x27;.originalDuration&#x27;: Fraction(1, 10)}», «4F# 0.75:0.875 1/8♩», «4G 0.875:1 1/8♩»]                                                                           </td><td>[0, 5, 6, 6, 7]   </td><td>gridError=0.26, rhythmComplexity=0.179 (numNotesAcrossSubdivs=0, numTies=1), divPenalty=0.01 (0.001, divPenalty=0.01, cardinalityPenalty=0, numSubdivsPenalty=0, levelPenalty=0)     </td></tr>\n",
       "<tr><td style=\"text-align: right;\"> 0.2682</td><td>(7,)           </td><td>[«4C# 0:0.571 4/7♩», «4E 0.571:0.714 1/7♩», «4F 0.714:0.857 1/7♩», «4F# 0.857:grace properties={&#x27;.snappedGracenote&#x27;: True, &#x27;.originalDuration&#x27;: Fraction(1, 10)}», «4G 0.857:1 1/7♩»]                                                                        </td><td>[0, 4, 5, 6, 6]   </td><td>gridError=0.268, rhythmComplexity=0 (numNotesAcrossSubdivs=0, numTies=0), divPenalty=0.02 (0.002, divPenalty=0.02, cardinalityPenalty=0, numSubdivsPenalty=0, levelPenalty=0)        </td></tr>\n",
       "<tr><td style=\"text-align: right;\"> 0.3386</td><td>(6,)           </td><td>[«4C# 0:0.667 2/3♩», «4E 0.667:grace properties={&#x27;.snappedGracenote&#x27;: True, &#x27;.originalDuration&#x27;: Fraction(1, 10)}», «4F 0.667:0.833 1/6♩», «4F# 0.833:grace properties={&#x27;.snappedGracenote&#x27;: True, &#x27;.originalDuration&#x27;: Fraction(1, 10)}», «4G 0.833:1 1/6♩»]</td><td>[0, 4, 4, 5, 5]   </td><td>gridError=0.339, rhythmComplexity=0 (numNotesAcrossSubdivs=0, numTies=0), divPenalty=0.02 (0.002, divPenalty=0.02, cardinalityPenalty=0, numSubdivsPenalty=0, levelPenalty=0)        </td></tr>\n",
       "</tbody>\n",
       "</table>"
      ],
      "text/plain": [
       "<IPython.core.display.HTML object>"
      ]
     },
     "metadata": {},
     "output_type": "display_data"
    },
    {
     "name": "stderr",
     "output_type": "stream",
     "text": [
      "[maelzel.scoring:quant.py:968:quantizeBeatBinary:DEBUG] Skipping (11,), totalError=0.10746131751444439 > minError=0.10363710957781679\n",
      "[maelzel.scoring:quant.py:951:quantizeBeatBinary:DEBUG] Skipping (5, 9), gridError=0.0708218871599085 * 1.0 > minError=0.07063206700139031\n",
      "[maelzel.scoring:quant.py:968:quantizeBeatBinary:DEBUG] Skipping (1, 1, 3, 1, 1), totalError=0.03663999029597155 > minError=0.03269386622730461\n"
     ]
    },
    {
     "name": "stdout",
     "output_type": "stream",
     "text": [
      "Beat: 1 - 2 (dur: 1)\n",
      "Best 5 divisions: (quantized in 52.2ms)\n"
     ]
    },
    {
     "data": {
      "text/html": [
       "<table>\n",
       "<thead>\n",
       "<tr><th style=\"text-align: right;\">  error</th><th>div      </th><th>snapped                                                        </th><th>slots    </th><th>info                                                                                                                                                                                    </th></tr>\n",
       "</thead>\n",
       "<tbody>\n",
       "<tr><td style=\"text-align: right;\"> 0.0327</td><td>(5, 5, 1)</td><td>[«4C 0:0.2 1/5♩», «4D 0.2:0.533 1/3♩», «rest 0.533:1 7/15♩»]   </td><td>[0, 3, 8]</td><td>gridError=0, rhythmComplexity=0.298 (numNotesAcrossSubdivs=2, numTies=0), divPenalty=0.0424 (0.004243, divPenalty=0.0283, cardinalityPenalty=0.1, numSubdivsPenalty=0, levelPenalty=0)  </td></tr>\n",
       "<tr><td style=\"text-align: right;\"> 0.0663</td><td>(5, 11)  </td><td>[«4C 0:0.2 1/5♩», «4D 0.2:0.545 19/55♩», «rest 0.545:1 5/11♩»] </td><td>[0, 2, 6]</td><td>gridError=0.0463, rhythmComplexity=0.333 (numNotesAcrossSubdivs=1, numTies=1), divPenalty=0.107 (0.01068, divPenalty=0.102, cardinalityPenalty=0.1, numSubdivsPenalty=0, levelPenalty=0)</td></tr>\n",
       "<tr><td style=\"text-align: right;\"> 0.0706</td><td>(15,)    </td><td>[«4C 0:0.2 1/5♩», «4D 0.2:0.533 1/3♩», «rest 0.533:1 7/15♩»]   </td><td>[0, 3, 8]</td><td>gridError=0, rhythmComplexity=0.298 (numNotesAcrossSubdivs=0, numTies=1), divPenalty=0.202 (0.02025, divPenalty=0.2, cardinalityPenalty=0.1, numSubdivsPenalty=0, levelPenalty=0)       </td></tr>\n",
       "<tr><td style=\"text-align: right;\"> 0.1036</td><td>(9,)     </td><td>[«4C 0:0.222 2/9♩», «4D 0.222:0.556 1/3♩», «rest 0.556:1 4/9♩»]</td><td>[0, 2, 5]</td><td>gridError=0.103, rhythmComplexity=0 (numNotesAcrossSubdivs=0, numTies=0), divPenalty=0.04 (0.004, divPenalty=0.04, cardinalityPenalty=0, numSubdivsPenalty=0, levelPenalty=0)           </td></tr>\n",
       "<tr><td style=\"text-align: right;\"> 0.1368</td><td>(6,)     </td><td>[«4C 0:0.167 1/6♩», «4D 0.167:0.5 1/3♩», «rest 0.5:1 1/2♩»]    </td><td>[0, 1, 3]</td><td>gridError=0.137, rhythmComplexity=0 (numNotesAcrossSubdivs=0, numTies=0), divPenalty=0.02 (0.002, divPenalty=0.02, cardinalityPenalty=0, numSubdivsPenalty=0, levelPenalty=0)           </td></tr>\n",
       "</tbody>\n",
       "</table>"
      ],
      "text/plain": [
       "<IPython.core.display.HTML object>"
      ]
     },
     "metadata": {},
     "output_type": "display_data"
    },
    {
     "name": "stderr",
     "output_type": "stream",
     "text": [
      "[maelzel.scoring:quant.py:1677:_mergeSiblings:DEBUG] Nodes can merge: \n",
      "    Node(1/1, \n",
      "  «4E 0.6:0.7 1/10♩ 5/4»\n",
      "  «4F 0.7:0.8 1/10♩ 5/4»\n",
      ")\n",
      "    Node(1/1, \n",
      "  «4F# 0.8:0.9 1/10♩ 5/4»\n",
      "  «4G 0.9:1 1/10♩ 5/4»\n",
      ")\n",
      "[maelzel.scoring:quant.py:1680:_mergeSiblings:DEBUG] ---- Merged node:\n",
      "    Node(1/1, \n",
      "  «4E 0.6:0.7 1/10♩ 5/4»\n",
      "  «4F 0.7:0.8 1/10♩ 5/4»\n",
      "  «4F# 0.8:0.9 1/10♩ 5/4»\n",
      "  «4G 0.9:1 1/10♩ 5/4»\n",
      ")\n",
      "[maelzel.scoring:quant.py:1677:_mergeSiblings:DEBUG] Nodes can merge: \n",
      "    Node(5/4, \n",
      "  «4C 1:1.2 1/5♩ 3/2,5/4»\n",
      "  «4D~ 1.2:1.333 2/15♩ 3/2,5/4»\n",
      ")\n",
      "    Node(5/4, \n",
      "  «~4D 1.333:1.533 1/5♩ 3/2,5/4»\n",
      "  «rest 1.533:1.667 2/15♩ 3/2,5/4»\n",
      ")\n",
      "[maelzel.scoring:quant.py:1680:_mergeSiblings:DEBUG] ---- Merged node:\n",
      "    Node(5/4, \n",
      "  «4C 1:1.2 1/5♩ 3/2,5/4»\n",
      "  «4D~ 1.2:1.333 2/15♩ 3/2,5/4»\n",
      "  «~4D 1.333:1.533 1/5♩ 3/2,5/4»\n",
      "  «rest 1.533:1.667 2/15♩ 3/2,5/4»\n",
      ")\n",
      "[maelzel.scoring:quant.py:1677:_mergeSiblings:DEBUG] Nodes can merge: \n",
      "    Node(1/1, \n",
      "  «rest 2:3 1♩»\n",
      ")\n",
      "    Node(1/1, \n",
      "  «rest 3:4 1♩»\n",
      ")\n",
      "[maelzel.scoring:quant.py:1680:_mergeSiblings:DEBUG] ---- Merged node:\n",
      "    Node(1/1, \n",
      "  «rest 2:4 2♩»\n",
      ")\n",
      "[maelzel.scoring:node.py:707:_splitUnnecessaryNodes:DEBUG] Did not split node Node(1/1, \n",
      "  Node(5/4, \n",
      "    «4C# 0:0.6 3/5♩ 5/4»\n",
      "    Node(1/1, \n",
      "      «4E 0.6:0.7 1/10♩ 5/4»\n",
      "      «4F 0.7:0.8 1/10♩ 5/4»\n",
      "      «4F# 0.8:0.9 1/10♩ 5/4»\n",
      "      «4G 0.9:1 1/10♩ 5/4»\n",
      "    )\n",
      "  )\n",
      "  Node(3/2, \n",
      "    Node(5/4, \n",
      "      «4C 1:1.2 1/5♩ 3/2,5/4»\n",
      "      «4D~ 1.2:1.333 2/15♩ 3/2,5/4»\n",
      "      «~4D 1.333:1.533 1/5♩ 3/2,5/4»\n",
      "      «rest 1.533:1.667 2/15♩ 3/2,5/4»\n",
      "    )\n",
      "    «rest 1.667:2 1/3♩ 3/2»\n",
      "  )\n",
      "  Node(1/1, \n",
      "    «rest 2:4 2♩»\n",
      "  )\n",
      ") at 3\n",
      "[maelzel.scoring:renderlily.py:1141:write:DEBUG] Rendering lilypond '/home/em/.cache/tmpsi9ddzcl/ios40brt.ly' to '/home/em/.cache/tmpsi9ddzcl/ios40brt.png'\n",
      "[maelzel.scoring:renderlily.py:1154:write:DEBUG] Found crop file /home/em/.cache/tmpsi9ddzcl/ios40brt.cropped.png, using that as output\n"
     ]
    },
    {
     "data": {
      "text/html": [
       "<b>LilypondRenderer</b> (1 part)<br>\n",
       "        <img style=\"display:inline; padding:10px;\n",
       "margin-top:14px;\n",
       "width:731px\"\n",
       "             src=\"data:image/png;base64,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\"/>"
      ],
      "text/plain": [
       "<maelzel.scoring.renderlily.LilypondRenderer at 0x722b27c4a350>"
      ]
     },
     "execution_count": 6,
     "metadata": {},
     "output_type": "execute_result"
    }
   ],
   "source": [
    "from maelzel import scoring\n",
    "from maelzel.scorestruct import ScoreStruct\n",
    "from maelzel.scoring import quantutils\n",
    "from maelzel.common import F\n",
    "\n",
    "notes = [\n",
    "    (61, F(1, 2)+F(1,10)),\n",
    "    (64, F(1, 10)),\n",
    "    (65, F(1, 10)),\n",
    "    (66, F(1, 10)),\n",
    "    (67, F(1, 10)),\n",
    "    \n",
    "    (60, F(1, 5)),\n",
    "    (62, F(1, 3)),\n",
    "    \n",
    "]\n",
    "struct = ScoreStruct(timesig='4/4', tempo=70)\n",
    "\n",
    "notations = [scoring.makeNote(p, d) for p, d in notes]\n",
    "part = scoring.UnquantizedPart(notations)\n",
    "quantprofile = scoring.quant.QuantizationProfile.fromPreset('highest', nestedTuplets=True)\n",
    "quantprofile.divisionErrorWeight = 0.1\n",
    "quantprofile.rhythmComplexityWeight = 0.01\n",
    "quantprofile.debug = True\n",
    "qpart = scoring.quant.quantizePart(part, struct=struct, quantprofile=quantprofile)\n",
    "options = scoring.render.RenderOptions()\n",
    "score = scoring.quant.QuantizedScore([qpart])\n",
    "r = scoring.render.renderQuantizedScore(score, options)\n",
    "r"
   ]
  },
  {
   "cell_type": "code",
   "execution_count": 7,
   "id": "c5d90c78-ca2d-49b1-85f6-25896c4e78cc",
   "metadata": {},
   "outputs": [
    {
     "name": "stderr",
     "output_type": "stream",
     "text": [
      "[maelzel.scoring:quant.py:1364:quantizeMeasure:DEBUG] Measure 4/4 is not filled (events=[«4C# 0:0.667 2/3♩», «4E 0.667:1.333 2/3♩», «4F 1.333:1.667 1/3♩», «4F+ 1.667:2 1/3♩»]). Filling gaps with silences\n"
     ]
    },
    {
     "name": "stdout",
     "output_type": "stream",
     "text": [
      "Beat: 0 - 1 (dur: 1)\n",
      "Best 2 divisions: (quantized in 565.8µs)\n"
     ]
    },
    {
     "data": {
      "text/html": [
       "<table>\n",
       "<thead>\n",
       "<tr><th style=\"text-align: right;\">  error</th><th>div  </th><th>snapped                                 </th><th>slots  </th><th>info                                                                                                                                                                         </th></tr>\n",
       "</thead>\n",
       "<tbody>\n",
       "<tr><td style=\"text-align: right;\"> 0.0000</td><td>(3,) </td><td>[«4C# 0:0.667 2/3♩», «4E~ 0.667:1 1/3♩»]</td><td>[0, 2] </td><td>gridError=0, rhythmComplexity=0 (numNotesAcrossSubdivs=0, numTies=0), divPenalty=0 (0, divPenalty=0, cardinalityPenalty=0, numSubdivsPenalty=0, levelPenalty=0)              </td></tr>\n",
       "<tr><td style=\"text-align: right;\"> 0.1636</td><td>(5,) </td><td>[«4C# 0:0.6 3/5♩», «4E~ 0.6:1 2/5♩»]    </td><td>[0, 3] </td><td>gridError=0.164, rhythmComplexity=0 (numNotesAcrossSubdivs=0, numTies=0), divPenalty=0.02 (0.001, divPenalty=0.02, cardinalityPenalty=0, numSubdivsPenalty=0, levelPenalty=0)</td></tr>\n",
       "</tbody>\n",
       "</table>"
      ],
      "text/plain": [
       "<IPython.core.display.HTML object>"
      ]
     },
     "metadata": {},
     "output_type": "display_data"
    },
    {
     "name": "stdout",
     "output_type": "stream",
     "text": [
      "Beat: 1 - 2 (dur: 1)\n",
      "Best 2 divisions: (quantized in 242.9µs)\n"
     ]
    },
    {
     "data": {
      "text/html": [
       "<table>\n",
       "<thead>\n",
       "<tr><th style=\"text-align: right;\">  error</th><th>div  </th><th>snapped                                                        </th><th>slots    </th><th>info                                                                                                                                                                         </th></tr>\n",
       "</thead>\n",
       "<tbody>\n",
       "<tr><td style=\"text-align: right;\"> 0.0000</td><td>(3,) </td><td>[«~4E 0:0.333 1/3♩», «4F 0.333:0.667 1/3♩», «4F+ 0.667:1 1/3♩»]</td><td>[0, 1, 2]</td><td>gridError=0, rhythmComplexity=0 (numNotesAcrossSubdivs=0, numTies=0), divPenalty=0 (0, divPenalty=0, cardinalityPenalty=0, numSubdivsPenalty=0, levelPenalty=0)              </td></tr>\n",
       "<tr><td style=\"text-align: right;\"> 0.2751</td><td>(5,) </td><td>[«~4E 0:0.4 2/5♩», «4F 0.4:0.6 1/5♩», «4F+ 0.6:1 2/5♩»]        </td><td>[0, 2, 3]</td><td>gridError=0.275, rhythmComplexity=0 (numNotesAcrossSubdivs=0, numTies=0), divPenalty=0.02 (0.001, divPenalty=0.02, cardinalityPenalty=0, numSubdivsPenalty=0, levelPenalty=0)</td></tr>\n",
       "</tbody>\n",
       "</table>"
      ],
      "text/plain": [
       "<IPython.core.display.HTML object>"
      ]
     },
     "metadata": {},
     "output_type": "display_data"
    },
    {
     "name": "stderr",
     "output_type": "stream",
     "text": [
      "[maelzel.scoring:quant.py:1677:_mergeSiblings:DEBUG] Nodes can merge: \n",
      "    Node(3/2, \n",
      "  «4C# 0:0.667 2/3♩ 3/2»\n",
      "  «4E~ 0.667:1 1/3♩ 3/2»\n",
      ")\n",
      "    Node(3/2, \n",
      "  «~4E 1:1.333 1/3♩ 3/2»\n",
      "  «4F 1.333:1.667 1/3♩ 3/2»\n",
      "  «4F+ 1.667:2 1/3♩ 3/2»\n",
      ")\n",
      "[maelzel.scoring:quant.py:1680:_mergeSiblings:DEBUG] ---- Merged node:\n",
      "    Node(3/2, \n",
      "  «4C# 0:0.667 2/3♩ 3/2»\n",
      "  «4E 0.667:1.333 2/3♩ 3/2»\n",
      "  «4F 1.333:1.667 1/3♩ 3/2»\n",
      "  «4F+ 1.667:2 1/3♩ 3/2»\n",
      ")\n",
      "[maelzel.scoring:quant.py:1677:_mergeSiblings:DEBUG] Nodes can merge: \n",
      "    Node(1/1, \n",
      "  «rest 2:3 1♩»\n",
      ")\n",
      "    Node(1/1, \n",
      "  «rest 3:4 1♩»\n",
      ")\n",
      "[maelzel.scoring:quant.py:1680:_mergeSiblings:DEBUG] ---- Merged node:\n",
      "    Node(1/1, \n",
      "  «rest 2:4 2♩»\n",
      ")\n",
      "[maelzel.scoring:node.py:707:_splitUnnecessaryNodes:DEBUG] Did not split node Node(1/1, \n",
      "  Node(3/2, \n",
      "    «4C# 0:0.667 2/3♩ 3/2»\n",
      "    «4E 0.667:1.333 2/3♩ 3/2»\n",
      "    «4F 1.333:1.667 1/3♩ 3/2»\n",
      "    «4F+ 1.667:2 1/3♩ 3/2»\n",
      "  )\n",
      "  Node(1/1, \n",
      "    «rest 2:4 2♩»\n",
      "  )\n",
      ") at 1\n",
      "[maelzel.scoring:node.py:707:_splitUnnecessaryNodes:DEBUG] Did not split node Node(1/1, \n",
      "  Node(3/2, \n",
      "    «4C# 0:0.667 2/3♩ 3/2»\n",
      "    «4E 0.667:1.333 2/3♩ 3/2»\n",
      "    «4F 1.333:1.667 1/3♩ 3/2»\n",
      "    «4F+ 1.667:2 1/3♩ 3/2»\n",
      "  )\n",
      "  Node(1/1, \n",
      "    «rest 2:4 2♩»\n",
      "  )\n",
      ") at 3\n",
      "[maelzel.scoring:renderlily.py:1141:write:DEBUG] Rendering lilypond '/home/em/.cache/tmpsi9ddzcl/x1kvkg6u.ly' to '/home/em/.cache/tmpsi9ddzcl/x1kvkg6u.png'\n",
      "[maelzel.scoring:renderlily.py:1154:write:DEBUG] Found crop file /home/em/.cache/tmpsi9ddzcl/x1kvkg6u.cropped.png, using that as output\n"
     ]
    },
    {
     "data": {
      "text/html": [
       "<b>LilypondRenderer</b> (1 part)<br>\n",
       "        <img style=\"display:inline; padding:10px;\n",
       "margin-top:14px;\n",
       "width:462px\"\n",
       "             src=\"data:image/png;base64,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\"/>"
      ],
      "text/plain": [
       "<maelzel.scoring.renderlily.LilypondRenderer at 0x722b277fbb10>"
      ]
     },
     "execution_count": 7,
     "metadata": {},
     "output_type": "execute_result"
    }
   ],
   "source": [
    "from maelzel import scoring\n",
    "from maelzel.common import F\n",
    "from maelzel.scorestruct import ScoreStruct\n",
    "\n",
    "notes = [\n",
    "    (61, F(2, 3)),\n",
    "    (64, F(2, 3)),\n",
    "    (65, F(1, 3)),\n",
    "    (65.5, F(1, 3)),\n",
    "]\n",
    "\n",
    "notations = [scoring.makeNote(p, d) for p, d in notes]\n",
    "part = scoring.UnquantizedPart(notations)\n",
    "\n",
    "struct = ScoreStruct(timesig='4/4', tempo=60)\n",
    "\n",
    "quantprofile = scoring.quant.QuantizationProfile.fromPreset('high', divisionErrorWeight=0.05)\n",
    "quantprofile.debug= True\n",
    "\n",
    "qpart = scoring.quant.quantizePart(part, struct=struct, quantprofile=quantprofile)\n",
    "options = scoring.render.RenderOptions()\n",
    "score = scoring.quant.QuantizedScore([qpart])\n",
    "r = scoring.render.renderQuantizedScore(score, options)\n",
    "r"
   ]
  },
  {
   "cell_type": "code",
   "execution_count": 8,
   "id": "767db0c6-5ecd-4155-8f08-73046eb7ec26",
   "metadata": {},
   "outputs": [
    {
     "name": "stderr",
     "output_type": "stream",
     "text": [
      "[maelzel.scoring:quant.py:1677:_mergeSiblings:DEBUG] Nodes can merge: \n",
      "    Node(3/2, \n",
      "  «4C# 0:0.667 2/3♩ 3/2»\n",
      "  «4E~ 0.667:1 1/3♩ 3/2»\n",
      ")\n",
      "    Node(3/2, \n",
      "  «~4E 1:1.333 1/3♩ 3/2»\n",
      "  «4F 1.333:1.667 1/3♩ 3/2»\n",
      "  «4F+ 1.667:2 1/3♩ 3/2»\n",
      ")\n",
      "[maelzel.scoring:quant.py:1680:_mergeSiblings:DEBUG] ---- Merged node:\n",
      "    Node(3/2, \n",
      "  «4C# 0:0.667 2/3♩ 3/2»\n",
      "  «4E 0.667:1.333 2/3♩ 3/2»\n",
      "  «4F 1.333:1.667 1/3♩ 3/2»\n",
      "  «4F+ 1.667:2 1/3♩ 3/2»\n",
      ")\n",
      "[maelzel.scoring:quant.py:1677:_mergeSiblings:DEBUG] Nodes can merge: \n",
      "    Node(1/1, \n",
      "  «rest 2:3 1♩»\n",
      ")\n",
      "    Node(1/1, \n",
      "  «rest 3:4 1♩»\n",
      ")\n",
      "[maelzel.scoring:quant.py:1680:_mergeSiblings:DEBUG] ---- Merged node:\n",
      "    Node(1/1, \n",
      "  «rest 2:4 2♩»\n",
      ")\n",
      "[maelzel.scoring:node.py:707:_splitUnnecessaryNodes:DEBUG] Did not split node Node(1/1, \n",
      "  Node(3/2, \n",
      "    «4C# 0:0.667 2/3♩ 3/2»\n",
      "    «4E 0.667:1.333 2/3♩ 3/2»\n",
      "    «4F 1.333:1.667 1/3♩ 3/2»\n",
      "    «4F+ 1.667:2 1/3♩ 3/2»\n",
      "  )\n",
      "  Node(1/1, \n",
      "    «rest 2:4 2♩»\n",
      "  )\n",
      ") at 1\n",
      "[maelzel.scoring:node.py:707:_splitUnnecessaryNodes:DEBUG] Did not split node Node(1/1, \n",
      "  Node(3/2, \n",
      "    «4C# 0:0.667 2/3♩ 3/2»\n",
      "    «4E 0.667:1.333 2/3♩ 3/2»\n",
      "    «4F 1.333:1.667 1/3♩ 3/2»\n",
      "    «4F+ 1.667:2 1/3♩ 3/2»\n",
      "  )\n",
      "  Node(1/1, \n",
      "    «rest 2:4 2♩»\n",
      "  )\n",
      ") at 3\n",
      "[maelzel.scoring:renderlily.py:1141:write:DEBUG] Rendering lilypond '/home/em/.cache/tmpsi9ddzcl/se6brxhx.ly' to '/home/em/.cache/tmpsi9ddzcl/se6brxhx.png'\n",
      "[maelzel.scoring:renderlily.py:1154:write:DEBUG] Found crop file /home/em/.cache/tmpsi9ddzcl/se6brxhx.cropped.png, using that as output\n"
     ]
    },
    {
     "data": {
      "text/html": [
       "<code style=\"white-space: pre-line; font-size:0.9em;\">Score(1 voices)</code><br>\n",
       "        <img style=\"display:inline; padding:10px;\n",
       "margin-top:14px;\n",
       "width:248px\"\n",
       "             src=\"data:image/png;base64,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\"/>"
      ],
      "text/plain": [
       "Score(1 voices)"
      ]
     },
     "execution_count": 8,
     "metadata": {},
     "output_type": "execute_result"
    }
   ],
   "source": [
    "sco = r.quantizedScore.toCoreScore()\n",
    "sco"
   ]
  },
  {
   "cell_type": "markdown",
   "id": "29139f19-450a-4c33-b09e-9d11a579e547",
   "metadata": {},
   "source": [
    "# TODO"
   ]
  },
  {
   "cell_type": "code",
   "execution_count": 9,
   "id": "a85497e1-d11a-4b09-9d18-452cd920515f",
   "metadata": {},
   "outputs": [],
   "source": [
    "import logging\n",
    "logging.basicConfig(level=\"DEBUG\")\n",
    "logging.getLogger(\"maelzel.scoring\").setLevel(logging.DEBUG)"
   ]
  },
  {
   "cell_type": "code",
   "execution_count": 10,
   "id": "bc7cfedd-878d-4048-b138-26a61ca09a43",
   "metadata": {},
   "outputs": [
    {
     "name": "stderr",
     "output_type": "stream",
     "text": [
      "[maelzel.scoring:quant.py:1364:quantizeMeasure:DEBUG] Measure 4/4 is not filled (events=[«4C 0:0.667 2/3♩», «4D# 0.667:0.8 2/15♩», «4E 0.8:0.933 2/15♩», «4F 0.933:1.133 1/5♩», «4F# 1.133:1.267 2/15♩», «4C# 1.267:1.933 2/3♩»]). Filling gaps with silences\n",
      "[maelzel.scoring:quant.py:1683:_mergeSiblings:DEBUG] Nodes cannot merge: \n",
      "Node(3/2, \n",
      "  «4C 0:0.667 2/3♩ 3/2»\n",
      "  Node(5/4, \n",
      "    «4D# 0.667:0.8 2/15♩ 3/2,5/4»\n",
      "    «4E 0.8:0.933 2/15♩ 3/2,5/4»\n",
      "    «4F~ 0.933:1 1/15♩ 3/2,5/4»\n",
      "  )\n",
      ")\n",
      "Node(3/2, \n",
      "  Node(5/4, \n",
      "    «~4F 1:1.133 2/15♩ 3/2,5/4»\n",
      "    «4F# 1.133:1.267 2/15♩ 3/2,5/4»\n",
      "    «4C#~ 1.267:1.333 1/15♩ 3/2,5/4»\n",
      "  )\n",
      "  «~4C#~ 1.333:1.667 1/3♩ 3/2»\n",
      "  Node(5/4, \n",
      "    «~4C# 1.667:1.933 4/15♩ 3/2,5/4»\n",
      "    «rest 1.933:2 1/15♩ 3/2,5/4»\n",
      "  )\n",
      ")\n",
      "----> nested tuplets cannot merge: Rel. duration of «4F~ 0.933:1 1/15♩ 3/2,5/4» too short to merge with «~4F 1:1.133 2/15♩ 3/2,5/4». Min side duration: 0.0833333\n",
      "[maelzel.scoring:quant.py:1677:_mergeSiblings:DEBUG] Nodes can merge: \n",
      "    Node(1/1, \n",
      "  «rest 2:3 1♩»\n",
      ")\n",
      "    Node(1/1, \n",
      "  «rest 3:4 1♩»\n",
      ")\n",
      "[maelzel.scoring:quant.py:1680:_mergeSiblings:DEBUG] ---- Merged node:\n",
      "    Node(1/1, \n",
      "  «rest 2:4 2♩»\n",
      ")\n",
      "[maelzel.scoring:node.py:707:_splitUnnecessaryNodes:DEBUG] Did not split node Node(1/1, \n",
      "  Node(3/2, \n",
      "    «4C 0:0.667 2/3♩ 3/2»\n",
      "    Node(5/4, \n",
      "      «4D# 0.667:0.8 2/15♩ 3/2,5/4»\n",
      "      «4E 0.8:0.933 2/15♩ 3/2,5/4»\n",
      "      «4F~ 0.933:1 1/15♩ 3/2,5/4»\n",
      "    )\n",
      "  )\n",
      "  Node(3/2, \n",
      "    Node(5/4, \n",
      "      «~4F 1:1.133 2/15♩ 3/2,5/4»\n",
      "      «4F# 1.133:1.267 2/15♩ 3/2,5/4»\n",
      "      «4C#~ 1.267:1.333 1/15♩ 3/2,5/4»\n",
      "    )\n",
      "    «~4C#~ 1.333:1.667 1/3♩ 3/2»\n",
      "    Node(5/4, \n",
      "      «~4C# 1.667:1.933 4/15♩ 3/2,5/4»\n",
      "      «rest 1.933:2 1/15♩ 3/2,5/4»\n",
      "    )\n",
      "  )\n",
      "  Node(1/1, \n",
      "    «rest 2:4 2♩»\n",
      "  )\n",
      ") at 3\n",
      "[maelzel.scoring:renderlily.py:1141:write:DEBUG] Rendering lilypond '/home/em/.cache/tmpsi9ddzcl/s3_lr1nq.ly' to '/home/em/.cache/tmpsi9ddzcl/s3_lr1nq.png'\n",
      "[maelzel.scoring:renderlily.py:1154:write:DEBUG] Found crop file /home/em/.cache/tmpsi9ddzcl/s3_lr1nq.cropped.png, using that as output\n"
     ]
    },
    {
     "data": {
      "text/html": [
       "<b>LilypondRenderer</b> (1 part)<br>\n",
       "        <img style=\"display:inline; padding:10px;\n",
       "margin-top:14px;\n",
       "width:782px\"\n",
       "             src=\"data:image/png;base64,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\"/>"
      ],
      "text/plain": [
       "<maelzel.scoring.renderlily.LilypondRenderer at 0x722b27db76d0>"
      ]
     },
     "execution_count": 10,
     "metadata": {},
     "output_type": "execute_result"
    }
   ],
   "source": [
    "from maelzel import scoring\n",
    "from maelzel.scorestruct import ScoreStruct\n",
    "from maelzel.common import F\n",
    "\n",
    "notes = [\n",
    "    (60, F(2, 3)),\n",
    "    (63, F(2, 3)*F(1, 5)),\n",
    "    (64, F(2, 3)*F(1, 5)),\n",
    "    (65, F(2, 3)*F(3, 10)),\n",
    "    (66, F(2, 3)*F(1, 5)),\n",
    "    # (67, F(2, 3)*F(1, 5)),  \n",
    "    (61, F(2, 3)),\n",
    "    \n",
    "]\n",
    "\n",
    "notations = [scoring.makeNote(p, d) for p, d in notes]\n",
    "struct = ScoreStruct(timesig='4/4', tempo=70)\n",
    "\n",
    "part = scoring.UnquantizedPart(notations)\n",
    "quantprofile = scoring.quant.QuantizationProfile.fromPreset('highest', debug=False, debugMaxDivisions=20, maxDivPenalty=0.1)\n",
    "quantprofile.debug = False\n",
    "\n",
    "# quantprofile.divisionErrorWeight = 0.01\n",
    "qpart = scoring.quant.quantizePart(part, struct=struct, quantprofile=quantprofile)\n",
    "options = scoring.render.RenderOptions()\n",
    "score = scoring.quant.QuantizedScore([qpart])\n",
    "r = scoring.render.renderQuantizedScore(score, options)\n",
    "# qpart.dump()\n",
    "# r.write('~/tmp/quant.ly')\n",
    "r"
   ]
  },
  {
   "cell_type": "code",
   "execution_count": 11,
   "id": "578fc4e1-97ec-4afd-8a04-7770244589f7",
   "metadata": {},
   "outputs": [
    {
     "name": "stderr",
     "output_type": "stream",
     "text": [
      "[maelzel.scoring:quant.py:1364:quantizeMeasure:DEBUG] Measure 4/4 is not filled (events=[«4C 0:0.667 2/3♩», «4D# 0.667:0.733 1/15♩», «4E 0.733:0.8 1/15♩», «4F 0.8:1 1/5♩», «4F# 1:1.067 1/15♩», «4D# 1.067:1.133 1/15♩», «4E 1.133:1.2 1/15♩», «4F 1.2:1.333 2/15♩», «4C# 1.333:2 2/3♩»]). Filling gaps with silences\n",
      "[maelzel.scoring:quant.py:951:quantizeBeatBinary:DEBUG] Skipping (8,), gridError=0.23963107852232404 * 1.0 > minError=0.23362680579325198\n",
      "[maelzel.scoring:quant.py:942:quantizeBeatBinary:DEBUG] Skipping (1, 1, 5, 5), divPenalty=0.0382843 * 0.0447214 > minError=0.00167332\n",
      "[maelzel.scoring:quant.py:942:quantizeBeatBinary:DEBUG] Skipping (1, 1, 7, 7), divPenalty=0.0382843 * 0.0447214 > minError=0.00167332\n"
     ]
    },
    {
     "name": "stdout",
     "output_type": "stream",
     "text": [
      "Beat: 0 - 1 (dur: 1)\n",
      "Best 4 divisions: (quantized in 23.7ms)\n"
     ]
    },
    {
     "data": {
      "text/html": [
       "<table>\n",
       "<thead>\n",
       "<tr><th style=\"text-align: right;\">  error</th><th>div      </th><th>snapped                                                                                                                                                      </th><th>slots          </th><th>info                                                                                                                                                                              </th></tr>\n",
       "</thead>\n",
       "<tbody>\n",
       "<tr><td style=\"text-align: right;\"> 0.0017</td><td>(1, 1, 5)</td><td>[«4C 0:0.667 2/3♩», «4D# 0.667:0.733 1/15♩», «4E 0.733:0.8 1/15♩», «4F 0.8:1 1/5♩»]                                                                          </td><td>[0, 2, 3, 4]   </td><td>gridError=0, rhythmComplexity=0 (numNotesAcrossSubdivs=0, numTies=0), divPenalty=0.0374 (7.483e-05, divPenalty=0.02, cardinalityPenalty=0.1, numSubdivsPenalty=0, levelPenalty=0) </td></tr>\n",
       "<tr><td style=\"text-align: right;\"> 0.0093</td><td>(15,)    </td><td>[«4C 0:0.667 2/3♩», «4D# 0.667:0.733 1/15♩», «4E 0.733:0.8 1/15♩», «4F 0.8:1 1/5♩»]                                                                          </td><td>[0, 10, 11, 12]</td><td>gridError=0, rhythmComplexity=0.224 (numNotesAcrossSubdivs=0, numTies=1), divPenalty=0.202 (0.000405, divPenalty=0.2, cardinalityPenalty=0.1, numSubdivsPenalty=0, levelPenalty=0)</td></tr>\n",
       "<tr><td style=\"text-align: right;\"> 0.1456</td><td>(9,)     </td><td>[«4C 0:0.667 2/3♩», «4D# 0.667:0.778 1/9♩», «4E 0.778:grace properties={&#x27;.snappedGracenote&#x27;: True, &#x27;.originalDuration&#x27;: Fraction(1, 15)}», «4F 0.778:1 2/9♩»]</td><td>[0, 6, 7, 7]   </td><td>gridError=0.146, rhythmComplexity=0 (numNotesAcrossSubdivs=0, numTies=0), divPenalty=0.04 (8e-05, divPenalty=0.04, cardinalityPenalty=0, numSubdivsPenalty=0, levelPenalty=0)     </td></tr>\n",
       "<tr><td style=\"text-align: right;\"> 0.2336</td><td>(6,)     </td><td>[«4C 0:0.667 2/3♩», «4D# 0.667:grace properties={&#x27;.snappedGracenote&#x27;: True, &#x27;.originalDuration&#x27;: Fraction(1, 15)}», «4E 0.667:0.833 1/6♩», «4F 0.833:1 1/6♩»]</td><td>[0, 4, 4, 5]   </td><td>gridError=0.234, rhythmComplexity=0 (numNotesAcrossSubdivs=0, numTies=0), divPenalty=0.02 (4e-05, divPenalty=0.02, cardinalityPenalty=0, numSubdivsPenalty=0, levelPenalty=0)     </td></tr>\n",
       "</tbody>\n",
       "</table>"
      ],
      "text/plain": [
       "<IPython.core.display.HTML object>"
      ]
     },
     "metadata": {},
     "output_type": "display_data"
    },
    {
     "name": "stderr",
     "output_type": "stream",
     "text": [
      "[maelzel.scoring:quant.py:951:quantizeBeatBinary:DEBUG] Skipping (8,), gridError=0.27439348451164164 * 1.0 > minError=0.2627182078026044\n",
      "[maelzel.scoring:quant.py:942:quantizeBeatBinary:DEBUG] Skipping (5, 5, 1, 1), divPenalty=0.0382843 * 0.0447214 > minError=0.00167332\n",
      "[maelzel.scoring:quant.py:942:quantizeBeatBinary:DEBUG] Skipping (7, 7, 1, 1), divPenalty=0.0382843 * 0.0447214 > minError=0.00167332\n"
     ]
    },
    {
     "name": "stdout",
     "output_type": "stream",
     "text": [
      "Beat: 1 - 2 (dur: 1)\n",
      "Best 4 divisions: (quantized in 20.6ms)\n"
     ]
    },
    {
     "data": {
      "text/html": [
       "<table>\n",
       "<thead>\n",
       "<tr><th style=\"text-align: right;\">  error</th><th>div      </th><th>snapped                                                                                                                                                                                                                                                   </th><th>slots          </th><th>info                                                                                                                                                                              </th></tr>\n",
       "</thead>\n",
       "<tbody>\n",
       "<tr><td style=\"text-align: right;\"> 0.0017</td><td>(5, 1, 1)</td><td>[«4F# 0:0.067 1/15♩», «4D# 0.067:0.133 1/15♩», «4E 0.133:0.2 1/15♩», «4F 0.2:0.333 2/15♩», «4C# 0.333:1 2/3♩»]                                                                                                                                            </td><td>[0, 1, 2, 3, 5]</td><td>gridError=0, rhythmComplexity=0 (numNotesAcrossSubdivs=0, numTies=0), divPenalty=0.0374 (7.483e-05, divPenalty=0.02, cardinalityPenalty=0.1, numSubdivsPenalty=0, levelPenalty=0) </td></tr>\n",
       "<tr><td style=\"text-align: right;\"> 0.0092</td><td>(15,)    </td><td>[«4F# 0:0.067 1/15♩», «4D# 0.067:0.133 1/15♩», «4E 0.133:0.2 1/15♩», «4F 0.2:0.333 2/15♩», «4C# 0.333:1 2/3♩»]                                                                                                                                            </td><td>[0, 1, 2, 3, 5]</td><td>gridError=0, rhythmComplexity=0.179 (numNotesAcrossSubdivs=0, numTies=1), divPenalty=0.202 (0.000405, divPenalty=0.2, cardinalityPenalty=0.1, numSubdivsPenalty=0, levelPenalty=0)</td></tr>\n",
       "<tr><td style=\"text-align: right;\"> 0.1903</td><td>(9,)     </td><td>[«4F# 0:0.111 1/9♩», «4D# 0.111:grace properties={&#x27;.snappedGracenote&#x27;: True, &#x27;.originalDuration&#x27;: Fraction(1, 15)}», «4E 0.111:0.222 1/9♩», «4F 0.222:0.333 1/9♩», «4C# 0.333:1 2/3♩»]                                                                    </td><td>[0, 1, 1, 2, 3]</td><td>gridError=0.19, rhythmComplexity=0 (numNotesAcrossSubdivs=0, numTies=0), divPenalty=0.04 (8e-05, divPenalty=0.04, cardinalityPenalty=0, numSubdivsPenalty=0, levelPenalty=0)      </td></tr>\n",
       "<tr><td style=\"text-align: right;\"> 0.2627</td><td>(6,)     </td><td>[«4F# 0:grace properties={&#x27;.snappedGracenote&#x27;: True, &#x27;.originalDuration&#x27;: Fraction(1, 15)}», «4D# 0:0.167 1/6♩», «4E 0.167:grace properties={&#x27;.snappedGracenote&#x27;: True, &#x27;.originalDuration&#x27;: Fraction(1, 15)}», «4F 0.167:0.333 1/6♩», «4C# 0.333:1 2/3♩»]</td><td>[0, 0, 1, 1, 2]</td><td>gridError=0.263, rhythmComplexity=0 (numNotesAcrossSubdivs=0, numTies=0), divPenalty=0.02 (4e-05, divPenalty=0.02, cardinalityPenalty=0, numSubdivsPenalty=0, levelPenalty=0)     </td></tr>\n",
       "</tbody>\n",
       "</table>"
      ],
      "text/plain": [
       "<IPython.core.display.HTML object>"
      ]
     },
     "metadata": {},
     "output_type": "display_data"
    },
    {
     "name": "stderr",
     "output_type": "stream",
     "text": [
      "[maelzel.scoring:quant.py:1683:_mergeSiblings:DEBUG] Nodes cannot merge: \n",
      "Node(3/2, \n",
      "  «4C 0:0.667 2/3♩ 3/2»\n",
      "  Node(5/4, \n",
      "    «4D# 0.667:0.733 1/15♩ 3/2,5/4»\n",
      "    «4E 0.733:0.8 1/15♩ 3/2,5/4»\n",
      "    «4F 0.8:1 1/5♩ 3/2,5/4»\n",
      "  )\n",
      ")\n",
      "Node(3/2, \n",
      "  Node(5/4, \n",
      "    «4F# 1:1.067 1/15♩ 3/2,5/4»\n",
      "    «4D# 1.067:1.133 1/15♩ 3/2,5/4»\n",
      "    «4E 1.133:1.2 1/15♩ 3/2,5/4»\n",
      "    «4F 1.2:1.333 2/15♩ 3/2,5/4»\n",
      "  )\n",
      "  «4C# 1.333:2 2/3♩ 3/2»\n",
      ")\n",
      "----> no need to extend node over beat\n",
      "[maelzel.scoring:quant.py:1677:_mergeSiblings:DEBUG] Nodes can merge: \n",
      "    Node(1/1, \n",
      "  «rest 2:3 1♩»\n",
      ")\n",
      "    Node(1/1, \n",
      "  «rest 3:4 1♩»\n",
      ")\n",
      "[maelzel.scoring:quant.py:1680:_mergeSiblings:DEBUG] ---- Merged node:\n",
      "    Node(1/1, \n",
      "  «rest 2:4 2♩»\n",
      ")\n",
      "[maelzel.scoring:node.py:707:_splitUnnecessaryNodes:DEBUG] Did not split node Node(1/1, \n",
      "  Node(3/2, \n",
      "    «4C 0:0.667 2/3♩ 3/2»\n",
      "    Node(5/4, \n",
      "      «4D# 0.667:0.733 1/15♩ 3/2,5/4»\n",
      "      «4E 0.733:0.8 1/15♩ 3/2,5/4»\n",
      "      «4F 0.8:1 1/5♩ 3/2,5/4»\n",
      "    )\n",
      "  )\n",
      "  Node(3/2, \n",
      "    Node(5/4, \n",
      "      «4F# 1:1.067 1/15♩ 3/2,5/4»\n",
      "      «4D# 1.067:1.133 1/15♩ 3/2,5/4»\n",
      "      «4E 1.133:1.2 1/15♩ 3/2,5/4»\n",
      "      «4F 1.2:1.333 2/15♩ 3/2,5/4»\n",
      "    )\n",
      "    «4C# 1.333:2 2/3♩ 3/2»\n",
      "  )\n",
      "  Node(1/1, \n",
      "    «rest 2:4 2♩»\n",
      "  )\n",
      ") at 3\n",
      "[maelzel.scoring:renderlily.py:1141:write:DEBUG] Rendering lilypond '/home/em/.cache/tmpsi9ddzcl/yh4utylv.ly' to '/home/em/.cache/tmpsi9ddzcl/yh4utylv.png'\n",
      "[maelzel.scoring:renderlily.py:1154:write:DEBUG] Found crop file /home/em/.cache/tmpsi9ddzcl/yh4utylv.cropped.png, using that as output\n"
     ]
    },
    {
     "data": {
      "text/html": [
       "<b>LilypondRenderer</b> (1 part)<br>\n",
       "        <img style=\"display:inline; padding:10px;\n",
       "margin-top:14px;\n",
       "width:706px\"\n",
       "             src=\"data:image/png;base64,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\"/>"
      ],
      "text/plain": [
       "<maelzel.scoring.renderlily.LilypondRenderer at 0x722b27dcc290>"
      ]
     },
     "execution_count": 11,
     "metadata": {},
     "output_type": "execute_result"
    }
   ],
   "source": [
    "from maelzel import scoring\n",
    "from maelzel.scorestruct import ScoreStruct\n",
    "from maelzel.common import F\n",
    "\n",
    "notes = [\n",
    "    (60, F(2, 3)),\n",
    "    (63, F(2, 3)*F(1, 10)),\n",
    "    (64, F(2, 3)*F(1, 10)),\n",
    "    (65, F(2, 3)*F(3, 10)),\n",
    "    \n",
    "    (66, F(2, 3)*F(1, 10)),\n",
    "    (63, F(2, 3)*F(1, 10)),\n",
    "    (64, F(2, 3)*F(1, 10)),\n",
    "    (65, F(2, 3)*F(2, 10)),\n",
    "    (61, F(2, 3)),\n",
    "    \n",
    "]\n",
    "\n",
    "notations = [scoring.makeNote(p, d) for p, d in notes]\n",
    "struct = ScoreStruct(timesig='4/4', tempo=70)\n",
    "\n",
    "part = scoring.UnquantizedPart(notations)\n",
    "quantprofile = scoring.quant.QuantizationProfile.fromPreset('highest', debug=True, debugMaxDivisions=20, maxDivPenalty=0.1)\n",
    "quantprofile.maxGridDensity = 32\n",
    "#quantprofile.rhythmComplexityWeight = 0.001\n",
    "#quantprofile.divisionErrorWeight = 0.01\n",
    "quantprofile.minBeatFractionAcrossBeats = F(1, 8)\n",
    "quantprofile.minSymbolicDurationAcrossBeat = F(1, 3)\n",
    "\n",
    "qpart = scoring.quant.quantizePart(part, struct=struct, quantprofile=quantprofile)\n",
    "options = scoring.render.RenderOptions()\n",
    "score = scoring.quant.QuantizedScore([qpart])\n",
    "r = scoring.render.renderQuantizedScore(score, options)\n",
    "# qpart.dump()\n",
    "# r.write('~/tmp/quant.ly')\n",
    "r"
   ]
  },
  {
   "cell_type": "code",
   "execution_count": 12,
   "id": "ef394c1d-6aee-487f-af01-2c82fd69626a",
   "metadata": {},
   "outputs": [
    {
     "name": "stderr",
     "output_type": "stream",
     "text": [
      "[maelzel.scoring:quant.py:1364:quantizeMeasure:DEBUG] Measure 4/4 is not filled (events=[«4C 0:0.25 1/4♩», «4D# 0.25:0.438 3/16♩», «4E 0.438:0.625 3/16♩», «4F 0.625:0.812 3/16♩», «4F# 0.812:1 3/16♩», «4G 1:1.188 3/16♩», «4C 1.188:2.188 1♩»]). Filling gaps with silences\n",
      "[maelzel.scoring:quant.py:951:quantizeBeatBinary:DEBUG] Skipping (6, 5), gridError=0.14354260986049253 * 1.0 > minError=0.1401749648888217\n"
     ]
    },
    {
     "name": "stdout",
     "output_type": "stream",
     "text": [
      "Beat: 0 - 1 (dur: 1)\n",
      "Best 8 divisions: (quantized in 91.8ms)\n"
     ]
    },
    {
     "data": {
      "text/html": [
       "<table>\n",
       "<thead>\n",
       "<tr><th style=\"text-align: right;\">  error</th><th>div   </th><th>snapped                                                                                                           </th><th>slots            </th><th>info                                                                                                                                                                                    </th></tr>\n",
       "</thead>\n",
       "<tbody>\n",
       "<tr><td style=\"text-align: right;\"> 0.0011</td><td>(8, 8)</td><td>[«4C 0:0.25 1/4♩», «4D# 0.25:0.438 3/16♩», «4E 0.438:0.625 3/16♩», «4F 0.625:0.812 3/16♩», «4F# 0.812:1 3/16♩»]   </td><td>[0, 4, 7, 10, 13]</td><td>gridError=0, rhythmComplexity=0.0894 (numNotesAcrossSubdivs=1, numTies=0), divPenalty=0.0141 (2.828e-05, divPenalty=0.0141, cardinalityPenalty=0, numSubdivsPenalty=0, levelPenalty=0)  </td></tr>\n",
       "<tr><td style=\"text-align: right;\"> 0.0818</td><td>(6, 8)</td><td>[«4C 0:0.25 1/4♩», «4D# 0.25:0.417 1/6♩», «4E 0.417:0.625 5/24♩», «4F 0.625:0.812 3/16♩», «4F# 0.812:1 3/16♩»]    </td><td>[0, 3, 5, 8, 11] </td><td>gridError=0.0817, rhythmComplexity=0.2 (numNotesAcrossSubdivs=1, numTies=1), divPenalty=0.0224 (4.472e-05, divPenalty=0.0224, cardinalityPenalty=0, numSubdivsPenalty=0, levelPenalty=0)</td></tr>\n",
       "<tr><td style=\"text-align: right;\"> 0.1117</td><td>(8, 5)</td><td>[«4C 0:0.25 1/4♩», «4D# 0.25:0.438 3/16♩», «4E 0.438:0.6 13/80♩», «4F 0.6:0.8 1/5♩», «4F# 0.8:1 1/5♩»]            </td><td>[0, 4, 7, 9, 11] </td><td>gridError=0.112, rhythmComplexity=0.2 (numNotesAcrossSubdivs=1, numTies=1), divPenalty=0.0224 (4.472e-05, divPenalty=0.0224, cardinalityPenalty=0, numSubdivsPenalty=0, levelPenalty=0) </td></tr>\n",
       "<tr><td style=\"text-align: right;\"> 0.1402</td><td>(11,) </td><td>[«4C 0:0.273 3/11♩», «4D# 0.273:0.455 2/11♩», «4E 0.455:0.636 2/11♩», «4F 0.636:0.818 2/11♩», «4F# 0.818:1 2/11♩»]</td><td>[0, 3, 5, 7, 9]  </td><td>gridError=0.14, rhythmComplexity=0 (numNotesAcrossSubdivs=0, numTies=0), divPenalty=0.1 (0.0002, divPenalty=0.1, cardinalityPenalty=0, numSubdivsPenalty=0, levelPenalty=0)             </td></tr>\n",
       "<tr><td style=\"text-align: right;\"> 0.2588</td><td>(9,)  </td><td>[«4C 0:0.222 2/9♩», «4D# 0.222:0.444 2/9♩», «4E 0.444:0.667 2/9♩», «4F 0.667:0.778 1/9♩», «4F# 0.778:1 2/9♩»]     </td><td>[0, 2, 4, 6, 7]  </td><td>gridError=0.259, rhythmComplexity=0 (numNotesAcrossSubdivs=0, numTies=0), divPenalty=0.04 (8e-05, divPenalty=0.04, cardinalityPenalty=0, numSubdivsPenalty=0, levelPenalty=0)           </td></tr>\n",
       "<tr><td style=\"text-align: right;\"> 0.2865</td><td>(8,)  </td><td>[«4C 0:0.25 1/4♩», «4D# 0.25:0.375 1/8♩», «4E 0.375:0.625 1/4♩», «4F 0.625:0.75 1/8♩», «4F# 0.75:1 1/4♩»]         </td><td>[0, 2, 3, 5, 6]  </td><td>gridError=0.287, rhythmComplexity=0 (numNotesAcrossSubdivs=0, numTies=0), divPenalty=0.01 (2e-05, divPenalty=0.01, cardinalityPenalty=0, numSubdivsPenalty=0, levelPenalty=0)           </td></tr>\n",
       "<tr><td style=\"text-align: right;\"> 0.3086</td><td>(7,)  </td><td>[«4C 0:0.286 2/7♩», «4D# 0.286:0.429 1/7♩», «4E 0.429:0.571 1/7♩», «4F 0.571:0.857 2/7♩», «4F# 0.857:1 1/7♩»]     </td><td>[0, 2, 3, 4, 6]  </td><td>gridError=0.309, rhythmComplexity=0 (numNotesAcrossSubdivs=0, numTies=0), divPenalty=0.02 (4e-05, divPenalty=0.02, cardinalityPenalty=0, numSubdivsPenalty=0, levelPenalty=0)           </td></tr>\n",
       "<tr><td style=\"text-align: right;\"> 0.3479</td><td>(6,)  </td><td>[«4C 0:0.333 1/3♩», «4D# 0.333:0.5 1/6♩», «4E 0.5:0.667 1/6♩», «4F 0.667:0.833 1/6♩», «4F# 0.833:1 1/6♩»]         </td><td>[0, 2, 3, 4, 5]  </td><td>gridError=0.348, rhythmComplexity=0 (numNotesAcrossSubdivs=0, numTies=0), divPenalty=0.02 (4e-05, divPenalty=0.02, cardinalityPenalty=0, numSubdivsPenalty=0, levelPenalty=0)           </td></tr>\n",
       "</tbody>\n",
       "</table>"
      ],
      "text/plain": [
       "<IPython.core.display.HTML object>"
      ]
     },
     "metadata": {},
     "output_type": "display_data"
    },
    {
     "name": "stderr",
     "output_type": "stream",
     "text": [
      "[maelzel.scoring:quant.py:968:quantizeBeatBinary:DEBUG] Skipping (4, 1, 1, 1), totalError=0.005079370039680117 > minError=0.005019960159204454\n"
     ]
    },
    {
     "name": "stdout",
     "output_type": "stream",
     "text": [
      "Beat: 1 - 2 (dur: 1)\n",
      "Best 3 divisions: (quantized in 21.6ms)\n"
     ]
    },
    {
     "data": {
      "text/html": [
       "<table>\n",
       "<thead>\n",
       "<tr><th style=\"text-align: right;\">  error</th><th>div   </th><th>snapped                                   </th><th>slots  </th><th>info                                                                                                                                                                              </th></tr>\n",
       "</thead>\n",
       "<tbody>\n",
       "<tr><td style=\"text-align: right;\"> 0.0050</td><td>(8, 1)</td><td>[«4G 0:0.188 3/16♩», «4C~ 0.188:1 13/16♩»]</td><td>[0, 3] </td><td>gridError=0, rhythmComplexity=0.5 (numNotesAcrossSubdivs=1, numTies=1), divPenalty=0.01 (2e-05, divPenalty=0.01, cardinalityPenalty=0, numSubdivsPenalty=0, levelPenalty=0)       </td></tr>\n",
       "<tr><td style=\"text-align: right;\"> 0.0335</td><td>(11,) </td><td>[«4G 0:0.182 2/11♩», «4C~ 0.182:1 9/11♩»] </td><td>[0, 2] </td><td>gridError=0.0329, rhythmComplexity=0.447 (numNotesAcrossSubdivs=0, numTies=1), divPenalty=0.1 (0.0002, divPenalty=0.1, cardinalityPenalty=0, numSubdivsPenalty=0, levelPenalty=0) </td></tr>\n",
       "<tr><td style=\"text-align: right;\"> 0.0819</td><td>(6,)  </td><td>[«4G 0:0.167 1/6♩», «4C~ 0.167:1 5/6♩»]   </td><td>[0, 1] </td><td>gridError=0.0817, rhythmComplexity=0.447 (numNotesAcrossSubdivs=0, numTies=1), divPenalty=0.02 (4e-05, divPenalty=0.02, cardinalityPenalty=0, numSubdivsPenalty=0, levelPenalty=0)</td></tr>\n",
       "</tbody>\n",
       "</table>"
      ],
      "text/plain": [
       "<IPython.core.display.HTML object>"
      ]
     },
     "metadata": {},
     "output_type": "display_data"
    },
    {
     "name": "stderr",
     "output_type": "stream",
     "text": [
      "[maelzel.scoring:quant.py:968:quantizeBeatBinary:DEBUG] Skipping (4, 1, 1, 1), totalError=0.002408318915758459 > minError=0.002280350850198276\n"
     ]
    },
    {
     "name": "stdout",
     "output_type": "stream",
     "text": [
      "Beat: 2 - 3 (dur: 1)\n",
      "Best 3 divisions: (quantized in 20.8ms)\n"
     ]
    },
    {
     "data": {
      "text/html": [
       "<table>\n",
       "<thead>\n",
       "<tr><th style=\"text-align: right;\">  error</th><th>div   </th><th>snapped                                     </th><th>slots  </th><th>info                                                                                                                                                                              </th></tr>\n",
       "</thead>\n",
       "<tbody>\n",
       "<tr><td style=\"text-align: right;\"> 0.0023</td><td>(8, 1)</td><td>[«~4C 0:0.188 3/16♩», «rest 0.188:1 13/16♩»]</td><td>[0, 3] </td><td>gridError=0, rhythmComplexity=0.224 (numNotesAcrossSubdivs=1, numTies=0), divPenalty=0.01 (2e-05, divPenalty=0.01, cardinalityPenalty=0, numSubdivsPenalty=0, levelPenalty=0)     </td></tr>\n",
       "<tr><td style=\"text-align: right;\"> 0.0280</td><td>(11,) </td><td>[«~4C 0:0.182 2/11♩», «rest 0.182:1 9/11♩»] </td><td>[0, 2] </td><td>gridError=0.0273, rhythmComplexity=0.447 (numNotesAcrossSubdivs=0, numTies=1), divPenalty=0.1 (0.0002, divPenalty=0.1, cardinalityPenalty=0, numSubdivsPenalty=0, levelPenalty=0) </td></tr>\n",
       "<tr><td style=\"text-align: right;\"> 0.0678</td><td>(6,)  </td><td>[«~4C 0:0.167 1/6♩», «rest 0.167:1 5/6♩»]   </td><td>[0, 1] </td><td>gridError=0.0677, rhythmComplexity=0.447 (numNotesAcrossSubdivs=0, numTies=1), divPenalty=0.02 (4e-05, divPenalty=0.02, cardinalityPenalty=0, numSubdivsPenalty=0, levelPenalty=0)</td></tr>\n",
       "</tbody>\n",
       "</table>"
      ],
      "text/plain": [
       "<IPython.core.display.HTML object>"
      ]
     },
     "metadata": {},
     "output_type": "display_data"
    },
    {
     "name": "stderr",
     "output_type": "stream",
     "text": [
      "[maelzel.scoring:quant.py:1683:_mergeSiblings:DEBUG] Nodes cannot merge: \n",
      "Node(1/1, \n",
      "  «4C 0:0.25 1/4♩»\n",
      "  «4D# 0.25:0.438 3/16♩»\n",
      "  «4E 0.438:0.625 3/16♩»\n",
      "  «4F 0.625:0.812 3/16♩»\n",
      "  «4F# 0.812:1 3/16♩»\n",
      ")\n",
      "Node(1/1, \n",
      "  «4G 1:1.188 3/16♩»\n",
      "  «4C~ 1.188:1.25 1/16♩»\n",
      "  «~4C~ 1.25:2 3/4♩»\n",
      ")\n",
      "----> no need to extend node over beat\n",
      "[maelzel.scoring:quant.py:1683:_mergeSiblings:DEBUG] Nodes cannot merge: \n",
      "Node(1/1, \n",
      "  «4G 1:1.188 3/16♩»\n",
      "  «4C~ 1.188:1.25 1/16♩»\n",
      "  «~4C~ 1.25:2 3/4♩»\n",
      ")\n",
      "Node(1/1, \n",
      "  «~4C 2:2.188 3/16♩»\n",
      "  «rest 2.188:2.25 1/16♩»\n",
      "  «rest 2.25:3 3/4♩»\n",
      ")\n",
      "----> Cannot merge notations resulting in irregular durations. Resulting symbolic duration: 15/16\n",
      "[maelzel.scoring:quant.py:1677:_mergeSiblings:DEBUG] Nodes can merge: \n",
      "    Node(1/1, \n",
      "  «~4C 2:2.188 3/16♩»\n",
      "  «rest 2.188:2.25 1/16♩»\n",
      "  «rest 2.25:3 3/4♩»\n",
      ")\n",
      "    Node(1/1, \n",
      "  «rest 3:4 1♩»\n",
      ")\n",
      "[maelzel.scoring:quant.py:1680:_mergeSiblings:DEBUG] ---- Merged node:\n",
      "    Node(1/1, \n",
      "  «~4C 2:2.188 3/16♩»\n",
      "  «rest 2.188:2.25 1/16♩»\n",
      "  «rest 2.25:4 7/4♩»\n",
      ")\n",
      "[maelzel.scoring:node.py:707:_splitUnnecessaryNodes:DEBUG] Did not split node Node(1/1, \n",
      "  Node(1/1, \n",
      "    «4C 0:0.25 1/4♩»\n",
      "    «4D# 0.25:0.438 3/16♩»\n",
      "    «4E 0.438:0.625 3/16♩»\n",
      "    «4F 0.625:0.812 3/16♩»\n",
      "    «4F# 0.812:1 3/16♩»\n",
      "  )\n",
      "  Node(1/1, \n",
      "    «4G 1:1.188 3/16♩»\n",
      "    «4C~ 1.188:1.25 1/16♩»\n",
      "    «~4C~ 1.25:2 3/4♩»\n",
      "  )\n",
      "  Node(1/1, \n",
      "    «~4C 2:2.188 3/16♩»\n",
      "    «rest 2.188:2.25 1/16♩»\n",
      "    «rest 2.25:4 7/4♩»\n",
      "  )\n",
      ") at 3\n",
      "[maelzel.scoring:renderlily.py:1141:write:DEBUG] Rendering lilypond '/home/em/.cache/tmpsi9ddzcl/0rce463w.ly' to '/home/em/.cache/tmpsi9ddzcl/0rce463w.png'\n",
      "[maelzel.scoring:renderlily.py:1154:write:DEBUG] Found crop file /home/em/.cache/tmpsi9ddzcl/0rce463w.cropped.png, using that as output\n"
     ]
    },
    {
     "data": {
      "text/html": [
       "<b>LilypondRenderer</b> (1 part)<br>\n",
       "        <img style=\"display:inline; padding:10px;\n",
       "margin-top:14px;\n",
       "width:813px\"\n",
       "             src=\"data:image/png;base64,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\"/>"
      ],
      "text/plain": [
       "<maelzel.scoring.renderlily.LilypondRenderer at 0x722b27f63e50>"
      ]
     },
     "execution_count": 12,
     "metadata": {},
     "output_type": "execute_result"
    }
   ],
   "source": [
    "from maelzel import scoring\n",
    "from maelzel.scorestruct import ScoreStruct\n",
    "from maelzel.common import F\n",
    "\n",
    "notes = [\n",
    "    (60, F(1, 4)),\n",
    "    (63, F(1, 4)*F(3, 4)),\n",
    "    (64, F(1, 4)*F(3, 4)),\n",
    "    (65, F(1, 4)*F(3, 4)),\n",
    "    (66, F(1, 4)*F(3, 4)),\n",
    "    (67, F(1, 4)*F(3, 4)),\n",
    "    (60, F(1)),\n",
    "    \n",
    "]\n",
    "\n",
    "notations = [scoring.makeNote(p, d) for p, d in notes]\n",
    "struct = ScoreStruct(timesig='4/4', tempo=70)\n",
    "\n",
    "part = scoring.UnquantizedPart(notations)\n",
    "quantprofile = scoring.quant.QuantizationProfile.fromPreset('highest', debug=True, debugMaxDivisions=20, maxDivPenalty=0.1)\n",
    "quantprofile.maxGridDensity = 32\n",
    "qpart = scoring.quant.quantizePart(part, struct=struct, quantprofile=quantprofile)\n",
    "options = scoring.render.RenderOptions()\n",
    "score = scoring.quant.QuantizedScore([qpart])\n",
    "r = scoring.render.renderQuantizedScore(score, options)\n",
    "r"
   ]
  },
  {
   "cell_type": "code",
   "execution_count": 13,
   "id": "53f406f0-8d55-4f2e-8663-60c935e3e4ad",
   "metadata": {},
   "outputs": [
    {
     "name": "stderr",
     "output_type": "stream",
     "text": [
      "[maelzel.scoring:quant.py:1364:quantizeMeasure:DEBUG] Measure 4/4 is not filled (events=[«4C~ 0:0.25 1/4♩ spanners=[Slur(kind=start, linetype=solid, nestingLevel=1, uuid=ta4q8hsw)]», «4C~gliss 0.25:0.5 1/4♩», «~4Cgliss 0.5:0.75 1/4♩», «4F 0.75:1 1/4♩ spanners=[Slur(kind=end, linetype=solid, nestingLevel=1, uuid=ta4q8hsw)]»]). Filling gaps with silences\n",
      "[maelzel.scoring:quant.py:1683:_mergeSiblings:DEBUG] Nodes cannot merge: \n",
      "Node(1/1, \n",
      "  «4C~ 0:0.25 1/4♩ spanners=[Slur(kind=start, linetype=solid, nestingLevel=1, uuid=ta4q8hsw)]»\n",
      "  «4Cgliss 0.25:0.75 1/2♩»\n",
      "  «4F 0.75:1 1/4♩ spanners=[Slur(kind=end, linetype=solid, nestingLevel=1, uuid=ta4q8hsw)]»\n",
      ")\n",
      "Node(1/1, \n",
      "  «rest 1:2 1♩»\n",
      ")\n",
      "----> no need to extend node over beat\n",
      "[maelzel.scoring:quant.py:1677:_mergeSiblings:DEBUG] Nodes can merge: \n",
      "    Node(1/1, \n",
      "  «rest 1:2 1♩»\n",
      ")\n",
      "    Node(1/1, \n",
      "  «rest 2:3 1♩»\n",
      ")\n",
      "[maelzel.scoring:quant.py:1680:_mergeSiblings:DEBUG] ---- Merged node:\n",
      "    Node(1/1, \n",
      "  «rest 1:3 2♩»\n",
      ")\n",
      "[maelzel.scoring:quant.py:1677:_mergeSiblings:DEBUG] Nodes can merge: \n",
      "    Node(1/1, \n",
      "  «rest 1:3 2♩»\n",
      ")\n",
      "    Node(1/1, \n",
      "  «rest 3:4 1♩»\n",
      ")\n",
      "[maelzel.scoring:quant.py:1680:_mergeSiblings:DEBUG] ---- Merged node:\n",
      "    Node(1/1, \n",
      "  «rest 1:4 3♩»\n",
      ")\n",
      "[maelzel.scoring:renderlily.py:1141:write:DEBUG] Rendering lilypond '/home/em/.cache/tmpsi9ddzcl/i1wkx_93.ly' to '/home/em/.cache/tmpsi9ddzcl/i1wkx_93.png'\n"
     ]
    },
    {
     "name": "stdout",
     "output_type": "stream",
     "text": [
      "Part #0:\n",
      "  Measure #0\n",
      "    Timesig: 4/4(quarter=70)\n",
      "    Node ratio: 1/1, offset=0, end=4, dur=4, symbolicdur=4\n",
      "      Node ratio: 1/1, offset=0, end=1, dur=1, symbolicdur=1\n",
      "        «4C~ 0:0.25 1/4♩ spanners=[Slur(kind=start, linetype=solid, nestingLevel=1,\n",
      "          uuid=ta4q8hsw)]»\n",
      "        «4Cgliss 0.25:0.75 1/2♩»\n",
      "        «4F 0.75:1 1/4♩ spanners=[Slur(kind=end, linetype=solid, nestingLevel=1, uuid=ta4q8hsw)]»\n",
      "      Node ratio: 1/1, offset=1, end=4, dur=3, symbolicdur=3\n",
      "        «rest 1:4 3♩»\n"
     ]
    },
    {
     "name": "stderr",
     "output_type": "stream",
     "text": [
      "[maelzel.scoring:renderlily.py:1154:write:DEBUG] Found crop file /home/em/.cache/tmpsi9ddzcl/i1wkx_93.cropped.png, using that as output\n"
     ]
    },
    {
     "data": {
      "text/html": [
       "<b>LilypondRenderer</b> (1 part)<br>\n",
       "        <img style=\"display:inline; padding:10px;\n",
       "margin-top:14px;\n",
       "width:375px\"\n",
       "             src=\"data:image/png;base64,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\"/>"
      ],
      "text/plain": [
       "<maelzel.scoring.renderlily.LilypondRenderer at 0x722b27f130d0>"
      ]
     },
     "execution_count": 13,
     "metadata": {},
     "output_type": "execute_result"
    }
   ],
   "source": [
    "from maelzel import scoring\n",
    "from maelzel.scorestruct import ScoreStruct\n",
    "from maelzel.common import F\n",
    "from maelzel.scoring import makeNote\n",
    "from maelzel.scoring import spanner \n",
    "\n",
    "notes = [\n",
    "    makeNote(60, F(1, 4), tiedNext=True),\n",
    "    makeNote(60, F(1, 4), tiedNext=True, gliss=True),\n",
    "    makeNote(60, F(1, 4), tiedPrev=True),\n",
    "    makeNote(65, F(1, 4))\n",
    "]\n",
    "\n",
    "notes[0].addSpanner(spanner.Slur(), notes[-1])\n",
    "struct = ScoreStruct(timesig='4/4', tempo=70)\n",
    "\n",
    "part = scoring.UnquantizedPart(notes)\n",
    "quantprofile = scoring.quant.QuantizationProfile.fromPreset('highest', debug=False, debugMaxDivisions=20, maxDivPenalty=0.1)\n",
    "quantprofile.maxGridDensity = 32\n",
    "qpart = scoring.quant.quantizePart(part, struct=struct, quantprofile=quantprofile)\n",
    "options = scoring.render.RenderOptions()\n",
    "score = scoring.quant.QuantizedScore([qpart])\n",
    "r = scoring.render.renderQuantizedScore(score, options)\n",
    "score.dump()\n",
    "r # .write('~/tmp/quant.ly')"
   ]
  },
  {
   "cell_type": "code",
   "execution_count": 14,
   "id": "e3e19155-179f-496b-85f2-4220092cfb68",
   "metadata": {},
   "outputs": [
    {
     "data": {
      "text/html": [
       "<p><strong>ScoreStruct</strong></p><table><thead><tr><th style=\"text-align:left\">Meas. Index</th><th style=\"text-align:left\">Timesig</th><th style=\"text-align:left\">Tempo (quarter note)</th><th style=\"text-align:left\">Label</th><th style=\"text-align:left\">Rehearsal</th><th style=\"text-align:left\">Barline</th></tr></thead><tbody><tr><td style=\"text-align:left\"><span style=\"font-size: small;\">0</span></td><td style=\"text-align:left\"><span style=\"font-size: small;\">7/8([Fraction(1, 1), Fraction(3, 2), Fraction(1, 1)])</span></td><td style=\"text-align:left\"><span style=\"font-size: small;\">52</span></td><td style=\"text-align:left\"><span style=\"font-size: small;\"></span></td><td style=\"text-align:left\"><span style=\"font-size: small;\"></span></td><td style=\"text-align:left\"><span style=\"font-size: small;\"></span></td></tr><tr><td style=\"text-align:left\"><span style=\"font-size: small;\">1</span></td><td style=\"text-align:left\"><span style=\"font-size: small;\">7/8</span></td><td style=\"text-align:left\"><span style=\"font-size: small;\"></span></td><td style=\"text-align:left\"><span style=\"font-size: small;\"></span></td><td style=\"text-align:left\"><span style=\"font-size: small;\"></span></td><td style=\"text-align:left\"><span style=\"font-size: small;\"></span></td></tr><tr><td style=\"text-align:left\"><span style=\"font-size: small;\">...</span></td><td style=\"text-align:left\"><span style=\"font-size: small;\"></span></td><td style=\"text-align:left\"><span style=\"font-size: small;\"></span></td><td style=\"text-align:left\"><span style=\"font-size: small;\"></span></td><td style=\"text-align:left\"><span style=\"font-size: small;\"></span></td><td style=\"text-align:left\"><span style=\"font-size: small;\"></span></td></tr></tbody></table>"
      ],
      "text/plain": [
       "<IPython.core.display.HTML object>"
      ]
     },
     "metadata": {},
     "output_type": "display_data"
    },
    {
     "name": "stderr",
     "output_type": "stream",
     "text": [
      "[maelzel.scoring:quant.py:1364:quantizeMeasure:DEBUG] Measure 7/8 is not filled (events=[«4D 0:0.375 3/8♩», «4C 0.375:0.75 3/8♩», «4D 0.75:1.125 3/8♩», «4C 1.125:1.5 3/8♩», «4C# 1.5:1.633 2/15♩», «4D 1.633:1.767 2/15♩», «4D# 1.767:1.9 2/15♩», «4E 1.9:2.033 2/15♩», «4F 2.033:2.167 2/15♩», «4F# 2.167:2.333 1/6♩», «4G 2.333:2.5 1/6♩»]). Filling gaps with silences\n"
     ]
    },
    {
     "name": "stdout",
     "output_type": "stream",
     "text": [
      "Beat: 0 - 1 (dur: 1)\n",
      "Best 2 divisions: (quantized in 11.6ms)\n"
     ]
    },
    {
     "data": {
      "text/html": [
       "<table>\n",
       "<thead>\n",
       "<tr><th style=\"text-align: right;\">  error</th><th>div  </th><th>snapped                                                     </th><th>slots    </th><th>info                                                                                                                                                                          </th></tr>\n",
       "</thead>\n",
       "<tbody>\n",
       "<tr><td style=\"text-align: right;\"> 0.0010</td><td>(8,) </td><td>[«4D 0:0.375 3/8♩», «4C 0.375:0.75 3/8♩», «4D~ 0.75:1 1/4♩»]</td><td>[0, 3, 6]</td><td>gridError=0, rhythmComplexity=0 (numNotesAcrossSubdivs=0, numTies=0), divPenalty=0.01 (0.0001, divPenalty=0.01, cardinalityPenalty=0, numSubdivsPenalty=0, levelPenalty=0)    </td></tr>\n",
       "<tr><td style=\"text-align: right;\"> 0.1606</td><td>(5,) </td><td>[«4D 0:0.4 2/5♩», «4C 0.4:0.8 2/5♩», «4D~ 0.8:1 1/5♩»]      </td><td>[0, 2, 4]</td><td>gridError=0.161, rhythmComplexity=0 (numNotesAcrossSubdivs=0, numTies=0), divPenalty=0.02 (0.0002, divPenalty=0.02, cardinalityPenalty=0, numSubdivsPenalty=0, levelPenalty=0)</td></tr>\n",
       "</tbody>\n",
       "</table>"
      ],
      "text/plain": [
       "<IPython.core.display.HTML object>"
      ]
     },
     "metadata": {},
     "output_type": "display_data"
    },
    {
     "name": "stdout",
     "output_type": "stream",
     "text": [
      "Beat: 1 - 3/2 (dur: 1/2)\n",
      "Best 3 divisions: (quantized in 2.9ms)\n"
     ]
    },
    {
     "data": {
      "text/html": [
       "<table>\n",
       "<thead>\n",
       "<tr><th style=\"text-align: right;\">  error</th><th>div  </th><th>snapped                                   </th><th>slots  </th><th>info                                                                                                                                                                              </th></tr>\n",
       "</thead>\n",
       "<tbody>\n",
       "<tr><td style=\"text-align: right;\"> 0.0010</td><td>(4,) </td><td>[«~4D 0:0.125 1/8♩», «4C 0.125:0.5 3/8♩»] </td><td>[0, 1] </td><td>gridError=0, rhythmComplexity=0 (numNotesAcrossSubdivs=0, numTies=0), divPenalty=0.01 (0.0001, divPenalty=0.01, cardinalityPenalty=0, numSubdivsPenalty=0, levelPenalty=0)        </td></tr>\n",
       "<tr><td style=\"text-align: right;\"> 0.1034</td><td>(7,) </td><td>[«~4D 0:0.143 1/7♩», «4C 0.143:0.5 5/14♩»]</td><td>[0, 2] </td><td>gridError=0.102, rhythmComplexity=0.447 (numNotesAcrossSubdivs=0, numTies=1), divPenalty=0.02 (0.0002, divPenalty=0.02, cardinalityPenalty=0, numSubdivsPenalty=0, levelPenalty=0)</td></tr>\n",
       "<tr><td style=\"text-align: right;\"> 0.1318</td><td>(5,) </td><td>[«~4D 0:0.1 1/10♩», «4C 0.1:0.5 2/5♩»]    </td><td>[0, 1] </td><td>gridError=0.132, rhythmComplexity=0 (numNotesAcrossSubdivs=0, numTies=0), divPenalty=0.02 (0.0002, divPenalty=0.02, cardinalityPenalty=0, numSubdivsPenalty=0, levelPenalty=0)    </td></tr>\n",
       "</tbody>\n",
       "</table>"
      ],
      "text/plain": [
       "<IPython.core.display.HTML object>"
      ]
     },
     "metadata": {},
     "output_type": "display_data"
    },
    {
     "name": "stderr",
     "output_type": "stream",
     "text": [
      "[maelzel.scoring:quant.py:951:quantizeBeatBinary:DEBUG] Skipping (8,), gridError=0.27930552681730186 * 1.0 > minError=0.26711707137543517\n",
      "[maelzel.scoring:quant.py:951:quantizeBeatBinary:DEBUG] Skipping (11,), gridError=0.2790225199146464 * 1.0 > minError=0.26711707137543517\n",
      "[maelzel.scoring:quant.py:942:quantizeBeatBinary:DEBUG] Skipping (5, 5, 6, 5), divPenalty=0.0460555 * 0.1 > minError=0.00459147\n",
      "[maelzel.scoring:quant.py:942:quantizeBeatBinary:DEBUG] Skipping (5, 5, 6, 7), divPenalty=0.0460555 * 0.1 > minError=0.00459147\n",
      "[maelzel.scoring:quant.py:942:quantizeBeatBinary:DEBUG] Skipping (5, 7, 6, 5), divPenalty=0.0460555 * 0.1 > minError=0.00459147\n",
      "[maelzel.scoring:quant.py:942:quantizeBeatBinary:DEBUG] Skipping (7, 5, 6, 5), divPenalty=0.0460555 * 0.1 > minError=0.00459147\n",
      "[maelzel.scoring:quant.py:942:quantizeBeatBinary:DEBUG] Skipping (5, 7, 6, 7), divPenalty=0.0460555 * 0.1 > minError=0.00459147\n",
      "[maelzel.scoring:quant.py:942:quantizeBeatBinary:DEBUG] Skipping (7, 5, 6, 7), divPenalty=0.0460555 * 0.1 > minError=0.00459147\n",
      "[maelzel.scoring:quant.py:942:quantizeBeatBinary:DEBUG] Skipping (7, 7, 6, 5), divPenalty=0.0460555 * 0.1 > minError=0.00459147\n",
      "[maelzel.scoring:quant.py:942:quantizeBeatBinary:DEBUG] Skipping (7, 7, 6, 7), divPenalty=0.0460555 * 0.1 > minError=0.00459147\n"
     ]
    },
    {
     "name": "stdout",
     "output_type": "stream",
     "text": [
      "Beat: 3/2 - 5/2 (dur: 1)\n",
      "Best 12 divisions: (quantized in 45.9ms)\n"
     ]
    },
    {
     "data": {
      "text/html": [
       "<table>\n",
       "<thead>\n",
       "<tr><th style=\"text-align: right;\">  error</th><th>div      </th><th>snapped                                                                                                                                                                                                                                                                                 </th><th>slots                   </th><th>info                                                                                                                                                                                            </th></tr>\n",
       "</thead>\n",
       "<tbody>\n",
       "<tr><td style=\"text-align: right;\"> 0.0046</td><td>(5, 5, 2)</td><td>[«4C# 0:0.133 2/15♩», «4D 0.133:0.267 2/15♩», «4D# 0.267:0.4 2/15♩», «4E 0.4:0.533 2/15♩», «4F 0.533:0.667 2/15♩», «4F# 0.667:0.833 1/6♩», «4G 0.833:1 1/6♩»]                                                                                                                           </td><td>[0, 2, 4, 6, 8, 10, 11] </td><td>gridError=0, rhythmComplexity=0.0639 (numNotesAcrossSubdivs=1, numTies=0), divPenalty=0.0412 (0.0004123, divPenalty=0.0283, cardinalityPenalty=0.1, numSubdivsPenalty=0, levelPenalty=0.03)     </td></tr>\n",
       "<tr><td style=\"text-align: right;\"> 0.0974</td><td>(5, 5, 5)</td><td>[«4C# 0:0.133 2/15♩», «4D 0.133:0.267 2/15♩», «4D# 0.267:0.4 2/15♩», «4E 0.4:0.533 2/15♩», «4F 0.533:0.667 2/15♩», «4F# 0.667:0.8 2/15♩», «4G 0.8:1 1/5♩»]                                                                                                                              </td><td>[0, 2, 4, 6, 8, 10, 12] </td><td>gridError=0.0972, rhythmComplexity=0.0639 (numNotesAcrossSubdivs=1, numTies=0), divPenalty=0.0458 (0.0004583, divPenalty=0.0346, cardinalityPenalty=0.1, numSubdivsPenalty=0, levelPenalty=0.03)</td></tr>\n",
       "<tr><td style=\"text-align: right;\"> 0.0985</td><td>(11, 9)  </td><td>[«4C# 0:0.136 3/22♩», «4D 0.136:0.273 3/22♩», «4D# 0.273:0.409 3/22♩», «4E 0.409:0.556 0.146♩», «4F 0.556:0.667 1/9♩», «4F# 0.667:0.833 1/6♩», «4G 0.833:1 1/6♩»]                                                                                                                       </td><td>[0, 3, 6, 9, 12, 14, 17]</td><td>gridError=0.0977, rhythmComplexity=0.143 (numNotesAcrossSubdivs=1, numTies=1), divPenalty=0.112 (0.001118, divPenalty=0.112, cardinalityPenalty=0.1, numSubdivsPenalty=0, levelPenalty=0)       </td></tr>\n",
       "<tr><td style=\"text-align: right;\"> 0.1276</td><td>(11, 3)  </td><td>[«4C# 0:0.136 3/22♩», «4D 0.136:0.273 3/22♩», «4D# 0.273:0.409 3/22♩», «4E 0.409:0.5 1/11♩», «4F 0.5:0.667 1/6♩», «4F# 0.667:0.833 1/6♩», «4G 0.833:1 1/6♩»]                                                                                                                            </td><td>[0, 3, 6, 9, 11, 12, 13]</td><td>gridError=0.127, rhythmComplexity=0 (numNotesAcrossSubdivs=0, numTies=0), divPenalty=0.1 (0.001, divPenalty=0.1, cardinalityPenalty=0.1, numSubdivsPenalty=0, levelPenalty=0)                   </td></tr>\n",
       "<tr><td style=\"text-align: right;\"> 0.1553</td><td>(7, 9)   </td><td>[«4C# 0:0.143 1/7♩», «4D 0.143:0.286 1/7♩», «4D# 0.286:0.429 1/7♩», «4E 0.429:0.556 8/63♩», «4F 0.556:0.667 1/9♩», «4F# 0.667:0.833 1/6♩», «4G 0.833:1 1/6♩»]                                                                                                                           </td><td>[0, 2, 4, 6, 8, 10, 13] </td><td>gridError=0.155, rhythmComplexity=0.0639 (numNotesAcrossSubdivs=1, numTies=0), divPenalty=0.0539 (0.0005385, divPenalty=0.0539, cardinalityPenalty=0.1, numSubdivsPenalty=0, levelPenalty=0)    </td></tr>\n",
       "<tr><td style=\"text-align: right;\"> 0.1623</td><td>(4, 3)   </td><td>[«4C# 0:0.125 1/8♩», «4D 0.125:0.25 1/8♩», «4D# 0.25:0.375 1/8♩», «4E 0.375:0.5 1/8♩», «4F 0.5:0.667 1/6♩», «4F# 0.667:0.833 1/6♩», «4G 0.833:1 1/6♩»]                                                                                                                                  </td><td>[0, 1, 2, 3, 4, 5, 6]   </td><td>gridError=0.162, rhythmComplexity=0 (numNotesAcrossSubdivs=0, numTies=0), divPenalty=0.01 (0.0001, divPenalty=0.01, cardinalityPenalty=0, numSubdivsPenalty=0, levelPenalty=0)                  </td></tr>\n",
       "<tr><td style=\"text-align: right;\"> 0.1859</td><td>(7, 3)   </td><td>[«4C# 0:0.143 1/7♩», «4D 0.143:0.286 1/7♩», «4D# 0.286:0.429 1/7♩», «4E 0.429:0.5 1/14♩», «4F 0.5:0.667 1/6♩», «4F# 0.667:0.833 1/6♩», «4G 0.833:1 1/6♩»]                                                                                                                               </td><td>[0, 2, 4, 6, 7, 8, 9]   </td><td>gridError=0.186, rhythmComplexity=0 (numNotesAcrossSubdivs=0, numTies=0), divPenalty=0.02 (0.0002, divPenalty=0.02, cardinalityPenalty=0.1, numSubdivsPenalty=0, levelPenalty=0)                </td></tr>\n",
       "<tr><td style=\"text-align: right;\"> 0.2217</td><td>(6, 3)   </td><td>[«4C# 0:0.167 1/6♩», «4D 0.167:0.25 1/12♩», «4D# 0.25:0.417 1/6♩», «4E 0.417:0.5 1/12♩», «4F 0.5:0.667 1/6♩», «4F# 0.667:0.833 1/6♩», «4G 0.833:1 1/6♩»]                                                                                                                                </td><td>[0, 2, 3, 5, 6, 7, 8]   </td><td>gridError=0.222, rhythmComplexity=0 (numNotesAcrossSubdivs=0, numTies=0), divPenalty=0.01 (0.0001, divPenalty=0.01, cardinalityPenalty=0, numSubdivsPenalty=0, levelPenalty=0)                  </td></tr>\n",
       "<tr><td style=\"text-align: right;\"> 0.2217</td><td>(5, 3)   </td><td>[«4C# 0:0.1 1/10♩», «4D 0.1:0.3 1/5♩», «4D# 0.3:0.4 1/10♩», «4E 0.4:0.5 1/10♩», «4F 0.5:0.667 1/6♩», «4F# 0.667:0.833 1/6♩», «4G 0.833:1 1/6♩»]                                                                                                                                         </td><td>[0, 1, 3, 4, 5, 6, 7]   </td><td>gridError=0.222, rhythmComplexity=0 (numNotesAcrossSubdivs=0, numTies=0), divPenalty=0.02 (0.0002, divPenalty=0.02, cardinalityPenalty=0.1, numSubdivsPenalty=0, levelPenalty=0)                </td></tr>\n",
       "<tr><td style=\"text-align: right;\"> 0.2671</td><td>(7,)     </td><td>[«4C# 0:0.143 1/7♩», «4D 0.143:0.286 1/7♩», «4D# 0.286:0.429 1/7♩», «4E 0.429:0.571 1/7♩», «4F 0.571:0.714 1/7♩», «4F# 0.714:0.857 1/7♩», «4G 0.857:1 1/7♩»]                                                                                                                            </td><td>[0, 1, 2, 3, 4, 5, 6]   </td><td>gridError=0.267, rhythmComplexity=0 (numNotesAcrossSubdivs=0, numTies=0), divPenalty=0.02 (0.0002, divPenalty=0.02, cardinalityPenalty=0, numSubdivsPenalty=0, levelPenalty=0)                  </td></tr>\n",
       "<tr><td style=\"text-align: right;\"> 0.2959</td><td>(6,)     </td><td>[«4C# 0:0.167 1/6♩», «4D 0.167:0.333 1/6♩», «4D# 0.333:grace properties={&#x27;.snappedGracenote&#x27;: True, &#x27;.originalDuration&#x27;: Fraction(2, 15)}», «4E 0.333:0.5 1/6♩», «4F 0.5:0.667 1/6♩», «4F# 0.667:0.833 1/6♩», «4G 0.833:1 1/6♩»]                                                        </td><td>[0, 1, 2, 2, 3, 4, 5]   </td><td>gridError=0.296, rhythmComplexity=0 (numNotesAcrossSubdivs=0, numTies=0), divPenalty=0.01 (0.0001, divPenalty=0.01, cardinalityPenalty=0, numSubdivsPenalty=0, levelPenalty=0)                  </td></tr>\n",
       "<tr><td style=\"text-align: right;\"> 0.4198</td><td>(5,)     </td><td>[«4C# 0:0.2 1/5♩», «4D 0.2:grace properties={&#x27;.snappedGracenote&#x27;: True, &#x27;.originalDuration&#x27;: Fraction(2, 15)}», «4D# 0.2:0.4 1/5♩», «4E 0.4:0.6 1/5♩», «4F 0.6:grace properties={&#x27;.snappedGracenote&#x27;: True, &#x27;.originalDuration&#x27;: Fraction(2, 15)}», «4F# 0.6:0.8 1/5♩», «4G 0.8:1 1/5♩»]</td><td>[0, 1, 1, 2, 3, 3, 4]   </td><td>gridError=0.42, rhythmComplexity=0 (numNotesAcrossSubdivs=0, numTies=0), divPenalty=0.02 (0.0002, divPenalty=0.02, cardinalityPenalty=0, numSubdivsPenalty=0, levelPenalty=0)                   </td></tr>\n",
       "</tbody>\n",
       "</table>"
      ],
      "text/plain": [
       "<IPython.core.display.HTML object>"
      ]
     },
     "metadata": {},
     "output_type": "display_data"
    },
    {
     "name": "stderr",
     "output_type": "stream",
     "text": [
      "[maelzel.scoring:quant.py:951:quantizeBeatBinary:DEBUG] Skipping (7,), gridError=0.33811543737434147 * 1.0 > minError=0.32746592198103763\n",
      "[maelzel.scoring:quant.py:951:quantizeBeatBinary:DEBUG] Skipping (4, 4), gridError=0.11321930132219958 * 1.0 > minError=0.1107158148720805\n",
      "[maelzel.scoring:quant.py:951:quantizeBeatBinary:DEBUG] Skipping (8, 8, 7), gridError=0.05586442079826756 * 1.0 > minError=0.0539618140713603\n"
     ]
    },
    {
     "name": "stdout",
     "output_type": "stream",
     "text": [
      "Beat: 1 - 2 (dur: 1)\n",
      "Best 6 divisions: (quantized in 49.3ms)\n"
     ]
    },
    {
     "data": {
      "text/html": [
       "<table>\n",
       "<thead>\n",
       "<tr><th style=\"text-align: right;\">  error</th><th>div    </th><th>snapped                                                                                                                                                                                                   </th><th>slots                </th><th>info                                                                                                                                                                                   </th></tr>\n",
       "</thead>\n",
       "<tbody>\n",
       "<tr><td style=\"text-align: right;\"> 0.0540</td><td>(4, 11)</td><td>[«~4D 0:0.125 1/8♩», «4C 0.125:0.5 3/8♩», «4C# 0.5:0.636 3/22♩», «4D 0.636:0.773 3/22♩», «4D# 0.773:0.909 3/22♩», «4E~ 0.909:1 1/11♩»]                                                                    </td><td>[0, 1, 4, 7, 10, 13] </td><td>gridError=0.053, rhythmComplexity=0 (numNotesAcrossSubdivs=0, numTies=0), divPenalty=0.1 (0.001005, divPenalty=0.1, cardinalityPenalty=0, numSubdivsPenalty=0, levelPenalty=0)         </td></tr>\n",
       "<tr><td style=\"text-align: right;\"> 0.0957</td><td>(7, 11)</td><td>[«~4D 0:0.143 1/7♩», «4C 0.143:0.5 5/14♩», «4C# 0.5:0.636 3/22♩», «4D 0.636:0.773 3/22♩», «4D# 0.773:0.909 3/22♩», «4E~ 0.909:1 1/11♩»]                                                                   </td><td>[0, 2, 7, 10, 13, 16]</td><td>gridError=0.095, rhythmComplexity=0.149 (numNotesAcrossSubdivs=0, numTies=1), divPenalty=0.102 (0.00102, divPenalty=0.102, cardinalityPenalty=0.1, numSubdivsPenalty=0, levelPenalty=0)</td></tr>\n",
       "<tr><td style=\"text-align: right;\"> 0.1107</td><td>(5, 11)</td><td>[«~4D 0:0.1 1/10♩», «4C 0.1:0.5 2/5♩», «4C# 0.5:0.636 3/22♩», «4D 0.636:0.773 3/22♩», «4D# 0.773:0.909 3/22♩», «4E~ 0.909:1 1/11♩»]                                                                       </td><td>[0, 1, 5, 8, 11, 14] </td><td>gridError=0.11, rhythmComplexity=0 (numNotesAcrossSubdivs=0, numTies=0), divPenalty=0.102 (0.00102, divPenalty=0.102, cardinalityPenalty=0.1, numSubdivsPenalty=0, levelPenalty=0)     </td></tr>\n",
       "<tr><td style=\"text-align: right;\"> 0.1132</td><td>(8,)   </td><td>[«~4D 0:0.125 1/8♩», «4C 0.125:0.5 3/8♩», «4C# 0.5:0.625 1/8♩», «4D 0.625:0.75 1/8♩», «4D# 0.75:0.875 1/8♩», «4E~ 0.875:1 1/8♩»]                                                                          </td><td>[0, 1, 4, 5, 6, 7]   </td><td>gridError=0.113, rhythmComplexity=0 (numNotesAcrossSubdivs=0, numTies=0), divPenalty=0.01 (0.0001, divPenalty=0.01, cardinalityPenalty=0, numSubdivsPenalty=0, levelPenalty=0)         </td></tr>\n",
       "<tr><td style=\"text-align: right;\"> 0.3275</td><td>(6,)   </td><td>[«~4D 0:0.167 1/6♩», «4C 0.167:0.5 1/3♩», «4C# 0.5:0.667 1/6♩», «4D 0.667:0.833 1/6♩», «4D# 0.833:grace properties={&#x27;.snappedGracenote&#x27;: True, &#x27;.originalDuration&#x27;: Fraction(2, 15)}», «4E~ 0.833:1 1/6♩»]</td><td>[0, 1, 3, 4, 5, 5]   </td><td>gridError=0.327, rhythmComplexity=0 (numNotesAcrossSubdivs=0, numTies=0), divPenalty=0.01 (0.0001, divPenalty=0.01, cardinalityPenalty=0, numSubdivsPenalty=0, levelPenalty=0)         </td></tr>\n",
       "<tr><td style=\"text-align: right;\"> 0.5192</td><td>(5,)   </td><td>[«~4D 0:0.2 1/5♩», «4C 0.2:0.4 1/5♩», «4C# 0.4:0.6 1/5♩», «4D 0.6:0.8 1/5♩», «4D# 0.8:grace properties={&#x27;.snappedGracenote&#x27;: True, &#x27;.originalDuration&#x27;: Fraction(2, 15)}», «4E~ 0.8:1 1/5♩»]              </td><td>[0, 1, 2, 3, 4, 4]   </td><td>gridError=0.519, rhythmComplexity=0 (numNotesAcrossSubdivs=0, numTies=0), divPenalty=0.02 (0.0002, divPenalty=0.02, cardinalityPenalty=0, numSubdivsPenalty=0, levelPenalty=0)         </td></tr>\n",
       "</tbody>\n",
       "</table>"
      ],
      "text/plain": [
       "<IPython.core.display.HTML object>"
      ]
     },
     "metadata": {},
     "output_type": "display_data"
    },
    {
     "name": "stderr",
     "output_type": "stream",
     "text": [
      "[maelzel.scoring:quant.py:968:quantizeBeatBinary:DEBUG] Skipping (3, 3, 3, 1), totalError=0.05879797211538941 > minError=0.057833394547459435\n"
     ]
    },
    {
     "name": "stdout",
     "output_type": "stream",
     "text": [
      "Beat: 2 - 5/2 (dur: 1/2)\n",
      "Best 5 divisions: (quantized in 5.0ms)\n"
     ]
    },
    {
     "data": {
      "text/html": [
       "<table>\n",
       "<thead>\n",
       "<tr><th style=\"text-align: right;\">  error</th><th>div      </th><th>snapped                                                                                                                                                     </th><th>slots       </th><th>info                                                                                                                                                                               </th></tr>\n",
       "</thead>\n",
       "<tbody>\n",
       "<tr><td style=\"text-align: right;\"> 0.0578</td><td>(4, 1, 1)</td><td>[«~4E 0:0.042 1/24♩», «4F 0.042:0.167 1/8♩», «4F# 0.167:0.333 1/6♩», «4G 0.333:0.5 1/6♩»]                                                                   </td><td>[0, 1, 4, 5]</td><td>gridError=0.0578, rhythmComplexity=0 (numNotesAcrossSubdivs=0, numTies=0), divPenalty=0.01 (0.0001, divPenalty=0.01, cardinalityPenalty=0, numSubdivsPenalty=0, levelPenalty=0)    </td></tr>\n",
       "<tr><td style=\"text-align: right;\"> 0.0579</td><td>(6, 3)   </td><td>[«~4E 0:0.042 1/24♩», «4F 0.042:0.167 1/8♩», «4F# 0.167:0.333 1/6♩», «4G 0.333:0.5 1/6♩»]                                                                   </td><td>[0, 1, 4, 7]</td><td>gridError=0.0578, rhythmComplexity=0.112 (numNotesAcrossSubdivs=1, numTies=0), divPenalty=0.01 (0.0001, divPenalty=0.01, cardinalityPenalty=0, numSubdivsPenalty=0, levelPenalty=0)</td></tr>\n",
       "<tr><td style=\"text-align: right;\"> 0.1208</td><td>(9,)     </td><td>[«~4E 0:0.056 1/18♩», «4F 0.056:0.167 1/9♩», «4F# 0.167:0.333 1/6♩», «4G 0.333:0.5 1/6♩»]                                                                   </td><td>[0, 1, 3, 6]</td><td>gridError=0.121, rhythmComplexity=0 (numNotesAcrossSubdivs=0, numTies=0), divPenalty=0.05 (0.0005, divPenalty=0.05, cardinalityPenalty=0, numSubdivsPenalty=0, levelPenalty=0)     </td></tr>\n",
       "<tr><td style=\"text-align: right;\"> 0.1416</td><td>(3,)     </td><td>[«~4E 0:grace properties={&#x27;.snappedGracenote&#x27;: True, &#x27;.originalDuration&#x27;: Fraction(1, 30)}», «4F 0:0.167 1/6♩», «4F# 0.167:0.333 1/6♩», «4G 0.333:0.5 1/6♩»]</td><td>[0, 0, 1, 2]</td><td>gridError=0.142, rhythmComplexity=0 (numNotesAcrossSubdivs=0, numTies=0), divPenalty=0 (0, divPenalty=0, cardinalityPenalty=0, numSubdivsPenalty=0, levelPenalty=0)                </td></tr>\n",
       "<tr><td style=\"text-align: right;\"> 0.3542</td><td>(5,)     </td><td>[«~4E 0:grace properties={&#x27;.snappedGracenote&#x27;: True, &#x27;.originalDuration&#x27;: Fraction(1, 30)}», «4F 0:0.2 1/5♩», «4F# 0.2:0.3 1/10♩», «4G 0.3:0.5 1/5♩»]       </td><td>[0, 0, 2, 3]</td><td>gridError=0.354, rhythmComplexity=0 (numNotesAcrossSubdivs=0, numTies=0), divPenalty=0.02 (0.0002, divPenalty=0.02, cardinalityPenalty=0, numSubdivsPenalty=0, levelPenalty=0)     </td></tr>\n",
       "</tbody>\n",
       "</table>"
      ],
      "text/plain": [
       "<IPython.core.display.HTML object>"
      ]
     },
     "metadata": {},
     "output_type": "display_data"
    },
    {
     "name": "stderr",
     "output_type": "stream",
     "text": [
      "[maelzel.scoring:quant.py:1677:_mergeSiblings:DEBUG] Nodes can merge: \n",
      "    Node(1/1, \n",
      "  «4D 0:0.375 3/8♩»\n",
      "  «4C 0.375:0.75 3/8♩»\n",
      "  «4D~ 0.75:1 1/4♩»\n",
      ")\n",
      "    Node(1/1, \n",
      "  «~4D 1:1.125 1/8♩»\n",
      "  «4C 1.125:1.5 3/8♩»\n",
      ")\n",
      "[maelzel.scoring:quant.py:1680:_mergeSiblings:DEBUG] ---- Merged node:\n",
      "    Node(1/1, \n",
      "  «4D 0:0.375 3/8♩»\n",
      "  «4C 0.375:0.75 3/8♩»\n",
      "  «4D 0.75:1.125 3/8♩»\n",
      "  «4C 1.125:1.5 3/8♩»\n",
      ")\n",
      "[maelzel.scoring:quant.py:1677:_mergeSiblings:DEBUG] Nodes can merge: \n",
      "    Node(5/4, \n",
      "  «4C# 1.5:1.633 2/15♩ 3/2,5/4»\n",
      "  «4D 1.633:1.767 2/15♩ 3/2,5/4»\n",
      "  «4D#~ 1.767:1.833 1/15♩ 3/2,5/4»\n",
      ")\n",
      "    Node(5/4, \n",
      "  «~4D# 1.833:1.9 1/15♩ 3/2,5/4»\n",
      "  «4E 1.9:2.033 2/15♩ 3/2,5/4»\n",
      "  «4F 2.033:2.167 2/15♩ 3/2,5/4»\n",
      ")\n",
      "[maelzel.scoring:quant.py:1680:_mergeSiblings:DEBUG] ---- Merged node:\n",
      "    Node(5/4, \n",
      "  «4C# 1.5:1.633 2/15♩ 3/2,5/4»\n",
      "  «4D 1.633:1.767 2/15♩ 3/2,5/4»\n",
      "  «4D# 1.767:1.9 2/15♩ 3/2,5/4»\n",
      "  «4E 1.9:2.033 2/15♩ 3/2,5/4»\n",
      "  «4F 2.033:2.167 2/15♩ 3/2,5/4»\n",
      ")\n",
      "[maelzel.scoring:renderlily.py:1141:write:DEBUG] Rendering lilypond '/home/em/.cache/tmpsi9ddzcl/bmsu65wl.ly' to '/home/em/.cache/tmpsi9ddzcl/bmsu65wl.png'\n"
     ]
    },
    {
     "name": "stdout",
     "output_type": "stream",
     "text": [
      "Error: 0.005091473908568057, division: [Fraction(1, 2), Fraction(1, 1)]\n",
      "Error: 0.08287851134509003, division: [Fraction(1, 1), Fraction(1, 2)]\n"
     ]
    },
    {
     "name": "stderr",
     "output_type": "stream",
     "text": [
      "[maelzel.scoring:renderlily.py:1154:write:DEBUG] Found crop file /home/em/.cache/tmpsi9ddzcl/bmsu65wl.cropped.png, using that as output\n"
     ]
    },
    {
     "data": {
      "text/html": [
       "<b>LilypondRenderer</b> (1 part)<br>\n",
       "        <img style=\"display:inline; padding:10px;\n",
       "margin-top:14px;\n",
       "width:755px\"\n",
       "             src=\"data:image/png;base64,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\"/>"
      ],
      "text/plain": [
       "<maelzel.scoring.renderlily.LilypondRenderer at 0x722b27f62ed0>"
      ]
     },
     "execution_count": 14,
     "metadata": {},
     "output_type": "execute_result"
    }
   ],
   "source": [
    "from maelzel import scoring\n",
    "from maelzel.scorestruct import ScoreStruct\n",
    "from maelzel.common import F\n",
    "from maelzel.scoring import makeNote\n",
    "from maelzel.scoring import spanner \n",
    "\n",
    "notes = [\n",
    "    makeNote(62, F(3, 4)*F(1, 2)),\n",
    "    makeNote(60, F(3, 4)*F(1, 2)),\n",
    "    makeNote(62, F(3, 4)*F(1, 2)),\n",
    "    makeNote(60, F(3, 4)*F(1, 2)),\n",
    "    \n",
    "    makeNote(61, F(2, 3)*F(1, 5)),\n",
    "    makeNote(62, F(2, 3)*F(1, 5)),\n",
    "    makeNote(63, F(2, 3)*F(1, 5)),\n",
    "    makeNote(64, F(2, 3)*F(1, 5)),\n",
    "    makeNote(65, F(2, 3)*F(1, 5)),\n",
    "    makeNote(66, F(2, 3)*F(1, 4)),\n",
    "    makeNote(67, F(2, 3)*F(1, 4)), \n",
    "    \n",
    "]\n",
    "\n",
    "struct = ScoreStruct(timesig='7/8', tempo=52)\n",
    "struct = ScoreStruct(r'''\n",
    "7/8(2-3-2), 52\n",
    "7/8\n",
    "''')\n",
    "struct.dump()\n",
    "part = scoring.UnquantizedPart(notes)\n",
    "quantprofile = scoring.quant.QuantizationProfile.fromPreset('high', debug=True, debugMaxDivisions=20, maxDivPenalty=0.1)\n",
    "quantprofile.maxGridDensity = 32\n",
    "quantprofile.mergeTupletsOfDifferentDuration = True\n",
    "qpart = scoring.quant.quantizePart(part, struct=struct, quantprofile=quantprofile)\n",
    "options = scoring.render.RenderOptions()\n",
    "score = scoring.quant.QuantizedScore([qpart])\n",
    "r = scoring.render.renderQuantizedScore(score, options)\n",
    "r"
   ]
  },
  {
   "cell_type": "code",
   "execution_count": 15,
   "id": "486f546a-5b2d-4514-8c49-ad3b42a5b287",
   "metadata": {},
   "outputs": [
    {
     "name": "stderr",
     "output_type": "stream",
     "text": [
      "[maelzel.scoring:quant.py:1364:quantizeMeasure:DEBUG] Measure 3/4 is not filled (events=[«4C 0:0.667 2/3♩», «4C# 0.667:0.889 2/9♩», «4D 0.889:1.111 2/9♩», «4D# 1.111:1.333 2/9♩», «4E 1.333:2 2/3♩»]). Filling gaps with silences\n",
      "[maelzel.scoring:quant.py:942:quantizeBeatBinary:DEBUG] Skipping (1, 9), divPenalty=0.05 * 0.1 > minError=0.005\n"
     ]
    },
    {
     "name": "stdout",
     "output_type": "stream",
     "text": [
      "Beat: 0 - 1 (dur: 1)\n",
      "Best 5 divisions: (quantized in 9.5ms)\n"
     ]
    },
    {
     "data": {
      "text/html": [
       "<table>\n",
       "<thead>\n",
       "<tr><th style=\"text-align: right;\">  error</th><th>div      </th><th>snapped                                                        </th><th>slots    </th><th>info                                                                                                                                                                              </th></tr>\n",
       "</thead>\n",
       "<tbody>\n",
       "<tr><td style=\"text-align: right;\"> 0.0030</td><td>(1, 1, 3)</td><td>[«4C 0:0.667 2/3♩», «4C# 0.667:0.889 2/9♩», «4D~ 0.889:1 1/9♩»]</td><td>[0, 2, 4]</td><td>gridError=0, rhythmComplexity=0 (numNotesAcrossSubdivs=0, numTies=0), divPenalty=0.03 (0.0003, divPenalty=0, cardinalityPenalty=0, numSubdivsPenalty=0, levelPenalty=0.03)        </td></tr>\n",
       "<tr><td style=\"text-align: right;\"> 0.0050</td><td>(9,)     </td><td>[«4C 0:0.667 2/3♩», «4C# 0.667:0.889 2/9♩», «4D~ 0.889:1 1/9♩»]</td><td>[0, 6, 8]</td><td>gridError=0, rhythmComplexity=0 (numNotesAcrossSubdivs=0, numTies=0), divPenalty=0.05 (0.0005, divPenalty=0.05, cardinalityPenalty=0, numSubdivsPenalty=0, levelPenalty=0)        </td></tr>\n",
       "<tr><td style=\"text-align: right;\"> 0.1319</td><td>(8,)     </td><td>[«4C 0:0.625 5/8♩», «4C# 0.625:0.875 1/4♩», «4D~ 0.875:1 1/8♩»]</td><td>[0, 5, 7]</td><td>gridError=0.132, rhythmComplexity=0.298 (numNotesAcrossSubdivs=0, numTies=1), divPenalty=0.01 (0.0001, divPenalty=0.01, cardinalityPenalty=0, numSubdivsPenalty=0, levelPenalty=0)</td></tr>\n",
       "<tr><td style=\"text-align: right;\"> 0.1426</td><td>(6,)     </td><td>[«4C 0:0.667 2/3♩», «4C# 0.667:0.833 1/6♩», «4D~ 0.833:1 1/6♩»]</td><td>[0, 4, 5]</td><td>gridError=0.143, rhythmComplexity=0 (numNotesAcrossSubdivs=0, numTies=0), divPenalty=0.01 (0.0001, divPenalty=0.01, cardinalityPenalty=0, numSubdivsPenalty=0, levelPenalty=0)    </td></tr>\n",
       "<tr><td style=\"text-align: right;\"> 0.2702</td><td>(5,)     </td><td>[«4C 0:0.6 3/5♩», «4C# 0.6:0.8 1/5♩», «4D~ 0.8:1 1/5♩»]        </td><td>[0, 3, 4]</td><td>gridError=0.27, rhythmComplexity=0 (numNotesAcrossSubdivs=0, numTies=0), divPenalty=0.02 (0.0002, divPenalty=0.02, cardinalityPenalty=0, numSubdivsPenalty=0, levelPenalty=0)     </td></tr>\n",
       "</tbody>\n",
       "</table>"
      ],
      "text/plain": [
       "<IPython.core.display.HTML object>"
      ]
     },
     "metadata": {},
     "output_type": "display_data"
    },
    {
     "name": "stderr",
     "output_type": "stream",
     "text": [
      "[maelzel.scoring:quant.py:942:quantizeBeatBinary:DEBUG] Skipping (9, 1), divPenalty=0.05 * 0.1 > minError=0.005\n"
     ]
    },
    {
     "name": "stdout",
     "output_type": "stream",
     "text": [
      "Beat: 1 - 2 (dur: 1)\n",
      "Best 5 divisions: (quantized in 7.0ms)\n"
     ]
    },
    {
     "data": {
      "text/html": [
       "<table>\n",
       "<thead>\n",
       "<tr><th style=\"text-align: right;\">  error</th><th>div      </th><th>snapped                                                        </th><th>slots    </th><th>info                                                                                                                                                                              </th></tr>\n",
       "</thead>\n",
       "<tbody>\n",
       "<tr><td style=\"text-align: right;\"> 0.0030</td><td>(3, 1, 1)</td><td>[«~4D 0:0.111 1/9♩», «4D# 0.111:0.333 2/9♩», «4E 0.333:1 2/3♩»]</td><td>[0, 1, 3]</td><td>gridError=0, rhythmComplexity=0 (numNotesAcrossSubdivs=0, numTies=0), divPenalty=0.03 (0.0003, divPenalty=0, cardinalityPenalty=0, numSubdivsPenalty=0, levelPenalty=0.03)        </td></tr>\n",
       "<tr><td style=\"text-align: right;\"> 0.0050</td><td>(9,)     </td><td>[«~4D 0:0.111 1/9♩», «4D# 0.111:0.333 2/9♩», «4E 0.333:1 2/3♩»]</td><td>[0, 1, 3]</td><td>gridError=0, rhythmComplexity=0 (numNotesAcrossSubdivs=0, numTies=0), divPenalty=0.05 (0.0005, divPenalty=0.05, cardinalityPenalty=0, numSubdivsPenalty=0, levelPenalty=0)        </td></tr>\n",
       "<tr><td style=\"text-align: right;\"> 0.1319</td><td>(8,)     </td><td>[«~4D 0:0.125 1/8♩», «4D# 0.125:0.375 1/4♩», «4E 0.375:1 5/8♩»]</td><td>[0, 1, 3]</td><td>gridError=0.132, rhythmComplexity=0.298 (numNotesAcrossSubdivs=0, numTies=1), divPenalty=0.01 (0.0001, divPenalty=0.01, cardinalityPenalty=0, numSubdivsPenalty=0, levelPenalty=0)</td></tr>\n",
       "<tr><td style=\"text-align: right;\"> 0.1426</td><td>(6,)     </td><td>[«~4D 0:0.167 1/6♩», «4D# 0.167:0.333 1/6♩», «4E 0.333:1 2/3♩»]</td><td>[0, 1, 2]</td><td>gridError=0.143, rhythmComplexity=0 (numNotesAcrossSubdivs=0, numTies=0), divPenalty=0.01 (0.0001, divPenalty=0.01, cardinalityPenalty=0, numSubdivsPenalty=0, levelPenalty=0)    </td></tr>\n",
       "<tr><td style=\"text-align: right;\"> 0.2702</td><td>(5,)     </td><td>[«~4D 0:0.2 1/5♩», «4D# 0.2:0.4 1/5♩», «4E 0.4:1 3/5♩»]        </td><td>[0, 1, 2]</td><td>gridError=0.27, rhythmComplexity=0 (numNotesAcrossSubdivs=0, numTies=0), divPenalty=0.02 (0.0002, divPenalty=0.02, cardinalityPenalty=0, numSubdivsPenalty=0, levelPenalty=0)     </td></tr>\n",
       "</tbody>\n",
       "</table>"
      ],
      "text/plain": [
       "<IPython.core.display.HTML object>"
      ]
     },
     "metadata": {},
     "output_type": "display_data"
    },
    {
     "name": "stderr",
     "output_type": "stream",
     "text": [
      "[maelzel.scoring:quant.py:1677:_mergeSiblings:DEBUG] Nodes can merge: \n",
      "    Node(3/2, \n",
      "  «4C 0:0.667 2/3♩ 3/2»\n",
      "  Node(3/2, \n",
      "    «4C# 0.667:0.889 2/9♩ 3/2,3/2»\n",
      "    «4D~ 0.889:1 1/9♩ 3/2,3/2»\n",
      "  )\n",
      ")\n",
      "    Node(3/2, \n",
      "  Node(3/2, \n",
      "    «~4D 1:1.111 1/9♩ 3/2,3/2»\n",
      "    «4D# 1.111:1.333 2/9♩ 3/2,3/2»\n",
      "  )\n",
      "  «4E 1.333:2 2/3♩ 3/2»\n",
      ")\n",
      "[maelzel.scoring:quant.py:1677:_mergeSiblings:DEBUG] Nodes can merge: \n",
      "    Node(3/2, \n",
      "  «4C# 0.667:0.889 2/9♩ 3/2,3/2»\n",
      "  «4D~ 0.889:1 1/9♩ 3/2,3/2»\n",
      ")\n",
      "    Node(3/2, \n",
      "  «~4D 1:1.111 1/9♩ 3/2,3/2»\n",
      "  «4D# 1.111:1.333 2/9♩ 3/2,3/2»\n",
      ")\n",
      "[maelzel.scoring:quant.py:1680:_mergeSiblings:DEBUG] ---- Merged node:\n",
      "    Node(3/2, \n",
      "  «4C# 0.667:0.889 2/9♩ 3/2,3/2»\n",
      "  «4D 0.889:1.111 2/9♩ 3/2,3/2»\n",
      "  «4D# 1.111:1.333 2/9♩ 3/2,3/2»\n",
      ")\n",
      "[maelzel.scoring:quant.py:1680:_mergeSiblings:DEBUG] ---- Merged node:\n",
      "    Node(3/2, \n",
      "  «4C 0:0.667 2/3♩ 3/2»\n",
      "  Node(3/2, \n",
      "    «4C# 0.667:0.889 2/9♩ 3/2,3/2»\n",
      "    «4D 0.889:1.111 2/9♩ 3/2,3/2»\n",
      "    «4D# 1.111:1.333 2/9♩ 3/2,3/2»\n",
      "  )\n",
      "  «4E 1.333:2 2/3♩ 3/2»\n",
      ")\n",
      "[maelzel.scoring:node.py:707:_splitUnnecessaryNodes:DEBUG] Did not split node Node(1/1, \n",
      "  Node(3/2, \n",
      "    «4C 0:0.667 2/3♩ 3/2»\n",
      "    Node(3/2, \n",
      "      «4C# 0.667:0.889 2/9♩ 3/2,3/2»\n",
      "      «4D 0.889:1.111 2/9♩ 3/2,3/2»\n",
      "      «4D# 1.111:1.333 2/9♩ 3/2,3/2»\n",
      "    )\n",
      "    «4E 1.333:2 2/3♩ 3/2»\n",
      "  )\n",
      "  Node(1/1, \n",
      "    «rest 2:3 1♩»\n",
      "  )\n",
      ") at 1\n",
      "[maelzel.scoring:renderlily.py:1141:write:DEBUG] Rendering lilypond '/home/em/.cache/tmpsi9ddzcl/d6kkp438.ly' to '/home/em/.cache/tmpsi9ddzcl/d6kkp438.png'\n",
      "[maelzel.scoring:renderlily.py:1154:write:DEBUG] Found crop file /home/em/.cache/tmpsi9ddzcl/d6kkp438.cropped.png, using that as output\n"
     ]
    },
    {
     "data": {
      "text/html": [
       "<b>LilypondRenderer</b> (1 part)<br>\n",
       "        <img style=\"display:inline; padding:10px;\n",
       "margin-top:14px;\n",
       "width:480px\"\n",
       "             src=\"data:image/png;base64,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\"/>"
      ],
      "text/plain": [
       "<maelzel.scoring.renderlily.LilypondRenderer at 0x722b28099e90>"
      ]
     },
     "execution_count": 15,
     "metadata": {},
     "output_type": "execute_result"
    }
   ],
   "source": [
    "from maelzel import scoring\n",
    "from maelzel.scorestruct import ScoreStruct\n",
    "from maelzel.common import F\n",
    "from maelzel.scoring import makeNote\n",
    "from maelzel.scoring import spanner \n",
    "\n",
    "notes = [\n",
    "    makeNote(60, F(2, 3)),\n",
    "    makeNote(61, F(2, 9)),\n",
    "    makeNote(62, F(2, 9)),\n",
    "    makeNote(63, F(2, 9)),\n",
    "    makeNote(64, F(2, 3)),\n",
    "    \n",
    "]\n",
    "\n",
    "struct = ScoreStruct(timesig='3/4', tempo=52)\n",
    "\n",
    "part = scoring.UnquantizedPart(notes)\n",
    "quantprofile = scoring.quant.QuantizationProfile.fromPreset('high', debug=True, debugMaxDivisions=20, maxDivPenalty=0.1)\n",
    "quantprofile.maxGridDensity = 32\n",
    "quantprofile.mergeTupletsOfDifferentDuration = True\n",
    "qpart = scoring.quant.quantizePart(part, struct=struct, quantprofile=quantprofile)\n",
    "options = scoring.render.RenderOptions()\n",
    "score = scoring.quant.QuantizedScore([qpart])\n",
    "r = scoring.render.renderQuantizedScore(score, options)\n",
    "#score.dump()\n",
    "r# .write('~/tmp/quant.ly')"
   ]
  },
  {
   "cell_type": "code",
   "execution_count": 16,
   "id": "e60f673d-d3d7-48c8-8cf4-b6fec35c6677",
   "metadata": {},
   "outputs": [
    {
     "name": "stderr",
     "output_type": "stream",
     "text": [
      "[maelzel.scoring:quant.py:1364:quantizeMeasure:DEBUG] Measure 3/4 is not filled (events=[«4C 0:0.667 2/3♩», «4C# 0.667:0.889 2/9♩», «4D 0.889:1.111 2/9♩», «4D# 1.111:1.222 1/9♩», «4E 1.222:1.333 1/9♩», «4F 1.333:2 2/3♩»]). Filling gaps with silences\n",
      "[maelzel.scoring:quant.py:942:quantizeBeatBinary:DEBUG] Skipping (1, 9), divPenalty=0.05 * 0.1 > minError=0.005\n"
     ]
    },
    {
     "name": "stdout",
     "output_type": "stream",
     "text": [
      "Beat: 0 - 1 (dur: 1)\n",
      "Best 5 divisions: (quantized in 9.8ms)\n"
     ]
    },
    {
     "data": {
      "text/html": [
       "<table>\n",
       "<thead>\n",
       "<tr><th style=\"text-align: right;\">  error</th><th>div      </th><th>snapped                                                        </th><th>slots    </th><th>info                                                                                                                                                                              </th></tr>\n",
       "</thead>\n",
       "<tbody>\n",
       "<tr><td style=\"text-align: right;\"> 0.0030</td><td>(1, 1, 3)</td><td>[«4C 0:0.667 2/3♩», «4C# 0.667:0.889 2/9♩», «4D~ 0.889:1 1/9♩»]</td><td>[0, 2, 4]</td><td>gridError=0, rhythmComplexity=0 (numNotesAcrossSubdivs=0, numTies=0), divPenalty=0.03 (0.0003, divPenalty=0, cardinalityPenalty=0, numSubdivsPenalty=0, levelPenalty=0.03)        </td></tr>\n",
       "<tr><td style=\"text-align: right;\"> 0.0050</td><td>(9,)     </td><td>[«4C 0:0.667 2/3♩», «4C# 0.667:0.889 2/9♩», «4D~ 0.889:1 1/9♩»]</td><td>[0, 6, 8]</td><td>gridError=0, rhythmComplexity=0 (numNotesAcrossSubdivs=0, numTies=0), divPenalty=0.05 (0.0005, divPenalty=0.05, cardinalityPenalty=0, numSubdivsPenalty=0, levelPenalty=0)        </td></tr>\n",
       "<tr><td style=\"text-align: right;\"> 0.1319</td><td>(8,)     </td><td>[«4C 0:0.625 5/8♩», «4C# 0.625:0.875 1/4♩», «4D~ 0.875:1 1/8♩»]</td><td>[0, 5, 7]</td><td>gridError=0.132, rhythmComplexity=0.298 (numNotesAcrossSubdivs=0, numTies=1), divPenalty=0.01 (0.0001, divPenalty=0.01, cardinalityPenalty=0, numSubdivsPenalty=0, levelPenalty=0)</td></tr>\n",
       "<tr><td style=\"text-align: right;\"> 0.1426</td><td>(6,)     </td><td>[«4C 0:0.667 2/3♩», «4C# 0.667:0.833 1/6♩», «4D~ 0.833:1 1/6♩»]</td><td>[0, 4, 5]</td><td>gridError=0.143, rhythmComplexity=0 (numNotesAcrossSubdivs=0, numTies=0), divPenalty=0.01 (0.0001, divPenalty=0.01, cardinalityPenalty=0, numSubdivsPenalty=0, levelPenalty=0)    </td></tr>\n",
       "<tr><td style=\"text-align: right;\"> 0.2702</td><td>(5,)     </td><td>[«4C 0:0.6 3/5♩», «4C# 0.6:0.8 1/5♩», «4D~ 0.8:1 1/5♩»]        </td><td>[0, 3, 4]</td><td>gridError=0.27, rhythmComplexity=0 (numNotesAcrossSubdivs=0, numTies=0), divPenalty=0.02 (0.0002, divPenalty=0.02, cardinalityPenalty=0, numSubdivsPenalty=0, levelPenalty=0)     </td></tr>\n",
       "</tbody>\n",
       "</table>"
      ],
      "text/plain": [
       "<IPython.core.display.HTML object>"
      ]
     },
     "metadata": {},
     "output_type": "display_data"
    },
    {
     "name": "stderr",
     "output_type": "stream",
     "text": [
      "[maelzel.scoring:quant.py:942:quantizeBeatBinary:DEBUG] Skipping (9, 1), divPenalty=0.05 * 0.1 > minError=0.005\n"
     ]
    },
    {
     "name": "stdout",
     "output_type": "stream",
     "text": [
      "Beat: 1 - 2 (dur: 1)\n",
      "Best 5 divisions: (quantized in 7.1ms)\n"
     ]
    },
    {
     "data": {
      "text/html": [
       "<table>\n",
       "<thead>\n",
       "<tr><th style=\"text-align: right;\">  error</th><th>div      </th><th>snapped                                                                                                                                                      </th><th>slots       </th><th>info                                                                                                                                                                              </th></tr>\n",
       "</thead>\n",
       "<tbody>\n",
       "<tr><td style=\"text-align: right;\"> 0.0030</td><td>(3, 1, 1)</td><td>[«~4D 0:0.111 1/9♩», «4D# 0.111:0.222 1/9♩», «4E 0.222:0.333 1/9♩», «4F 0.333:1 2/3♩»]                                                                       </td><td>[0, 1, 2, 3]</td><td>gridError=0, rhythmComplexity=0 (numNotesAcrossSubdivs=0, numTies=0), divPenalty=0.03 (0.0003, divPenalty=0, cardinalityPenalty=0, numSubdivsPenalty=0, levelPenalty=0.03)        </td></tr>\n",
       "<tr><td style=\"text-align: right;\"> 0.0050</td><td>(9,)     </td><td>[«~4D 0:0.111 1/9♩», «4D# 0.111:0.222 1/9♩», «4E 0.222:0.333 1/9♩», «4F 0.333:1 2/3♩»]                                                                       </td><td>[0, 1, 2, 3]</td><td>gridError=0, rhythmComplexity=0 (numNotesAcrossSubdivs=0, numTies=0), divPenalty=0.05 (0.0005, divPenalty=0.05, cardinalityPenalty=0, numSubdivsPenalty=0, levelPenalty=0)        </td></tr>\n",
       "<tr><td style=\"text-align: right;\"> 0.1662</td><td>(8,)     </td><td>[«~4D 0:0.125 1/8♩», «4D# 0.125:0.25 1/8♩», «4E 0.25:0.375 1/8♩», «4F 0.375:1 5/8♩»]                                                                         </td><td>[0, 1, 2, 3]</td><td>gridError=0.166, rhythmComplexity=0.224 (numNotesAcrossSubdivs=0, numTies=1), divPenalty=0.01 (0.0001, divPenalty=0.01, cardinalityPenalty=0, numSubdivsPenalty=0, levelPenalty=0)</td></tr>\n",
       "<tr><td style=\"text-align: right;\"> 0.2030</td><td>(6,)     </td><td>[«~4D 0:0.167 1/6♩», «4D# 0.167:grace properties={&#x27;.snappedGracenote&#x27;: True, &#x27;.originalDuration&#x27;: Fraction(1, 9)}», «4E 0.167:0.333 1/6♩», «4F 0.333:1 2/3♩»]</td><td>[0, 1, 1, 2]</td><td>gridError=0.203, rhythmComplexity=0 (numNotesAcrossSubdivs=0, numTies=0), divPenalty=0.01 (0.0001, divPenalty=0.01, cardinalityPenalty=0, numSubdivsPenalty=0, levelPenalty=0)    </td></tr>\n",
       "<tr><td style=\"text-align: right;\"> 0.2957</td><td>(5,)     </td><td>[«~4D 0:0.2 1/5♩», «4D# 0.2:grace properties={&#x27;.snappedGracenote&#x27;: True, &#x27;.originalDuration&#x27;: Fraction(1, 9)}», «4E 0.2:0.4 1/5♩», «4F 0.4:1 3/5♩»]          </td><td>[0, 1, 1, 2]</td><td>gridError=0.296, rhythmComplexity=0 (numNotesAcrossSubdivs=0, numTies=0), divPenalty=0.02 (0.0002, divPenalty=0.02, cardinalityPenalty=0, numSubdivsPenalty=0, levelPenalty=0)    </td></tr>\n",
       "</tbody>\n",
       "</table>"
      ],
      "text/plain": [
       "<IPython.core.display.HTML object>"
      ]
     },
     "metadata": {},
     "output_type": "display_data"
    },
    {
     "name": "stderr",
     "output_type": "stream",
     "text": [
      "[maelzel.scoring:quant.py:1677:_mergeSiblings:DEBUG] Nodes can merge: \n",
      "    Node(3/2, \n",
      "  «4C 0:0.667 2/3♩ 3/2»\n",
      "  Node(3/2, \n",
      "    «4C# 0.667:0.889 2/9♩ 3/2,3/2»\n",
      "    «4D~ 0.889:1 1/9♩ 3/2,3/2»\n",
      "  )\n",
      ")\n",
      "    Node(3/2, \n",
      "  Node(3/2, \n",
      "    «~4D 1:1.111 1/9♩ 3/2,3/2»\n",
      "    «4D# 1.111:1.222 1/9♩ 3/2,3/2»\n",
      "    «4E 1.222:1.333 1/9♩ 3/2,3/2»\n",
      "  )\n",
      "  «4F 1.333:2 2/3♩ 3/2»\n",
      ")\n",
      "[maelzel.scoring:quant.py:1677:_mergeSiblings:DEBUG] Nodes can merge: \n",
      "    Node(3/2, \n",
      "  «4C# 0.667:0.889 2/9♩ 3/2,3/2»\n",
      "  «4D~ 0.889:1 1/9♩ 3/2,3/2»\n",
      ")\n",
      "    Node(3/2, \n",
      "  «~4D 1:1.111 1/9♩ 3/2,3/2»\n",
      "  «4D# 1.111:1.222 1/9♩ 3/2,3/2»\n",
      "  «4E 1.222:1.333 1/9♩ 3/2,3/2»\n",
      ")\n",
      "[maelzel.scoring:quant.py:1680:_mergeSiblings:DEBUG] ---- Merged node:\n",
      "    Node(3/2, \n",
      "  «4C# 0.667:0.889 2/9♩ 3/2,3/2»\n",
      "  «4D 0.889:1.111 2/9♩ 3/2,3/2»\n",
      "  «4D# 1.111:1.222 1/9♩ 3/2,3/2»\n",
      "  «4E 1.222:1.333 1/9♩ 3/2,3/2»\n",
      ")\n",
      "[maelzel.scoring:quant.py:1680:_mergeSiblings:DEBUG] ---- Merged node:\n",
      "    Node(3/2, \n",
      "  «4C 0:0.667 2/3♩ 3/2»\n",
      "  Node(3/2, \n",
      "    «4C# 0.667:0.889 2/9♩ 3/2,3/2»\n",
      "    «4D 0.889:1.111 2/9♩ 3/2,3/2»\n",
      "    «4D# 1.111:1.222 1/9♩ 3/2,3/2»\n",
      "    «4E 1.222:1.333 1/9♩ 3/2,3/2»\n",
      "  )\n",
      "  «4F 1.333:2 2/3♩ 3/2»\n",
      ")\n",
      "[maelzel.scoring:node.py:707:_splitUnnecessaryNodes:DEBUG] Did not split node Node(1/1, \n",
      "  Node(3/2, \n",
      "    «4C 0:0.667 2/3♩ 3/2»\n",
      "    Node(3/2, \n",
      "      «4C# 0.667:0.889 2/9♩ 3/2,3/2»\n",
      "      «4D 0.889:1.111 2/9♩ 3/2,3/2»\n",
      "      «4D# 1.111:1.222 1/9♩ 3/2,3/2»\n",
      "      «4E 1.222:1.333 1/9♩ 3/2,3/2»\n",
      "    )\n",
      "    «4F 1.333:2 2/3♩ 3/2»\n",
      "  )\n",
      "  Node(1/1, \n",
      "    «rest 2:3 1♩»\n",
      "  )\n",
      ") at 1\n",
      "[maelzel.scoring:renderlily.py:1141:write:DEBUG] Rendering lilypond '/home/em/.cache/tmpsi9ddzcl/47nngx2k.ly' to '/home/em/.cache/tmpsi9ddzcl/47nngx2k.png'\n",
      "[maelzel.scoring:renderlily.py:1154:write:DEBUG] Found crop file /home/em/.cache/tmpsi9ddzcl/47nngx2k.cropped.png, using that as output\n"
     ]
    },
    {
     "data": {
      "text/html": [
       "<b>LilypondRenderer</b> (1 part)<br>\n",
       "        <img style=\"display:inline; padding:10px;\n",
       "margin-top:14px;\n",
       "width:524px\"\n",
       "             src=\"data:image/png;base64,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\"/>"
      ],
      "text/plain": [
       "<maelzel.scoring.renderlily.LilypondRenderer at 0x722b2809b050>"
      ]
     },
     "execution_count": 16,
     "metadata": {},
     "output_type": "execute_result"
    }
   ],
   "source": [
    "from maelzel import scoring\n",
    "from maelzel.scorestruct import ScoreStruct\n",
    "from maelzel.common import F\n",
    "from maelzel.scoring import makeNote\n",
    "from maelzel.scoring import spanner \n",
    "\n",
    "notes = [\n",
    "    makeNote(60, F(2, 3)),\n",
    "    makeNote(61, F(2, 9)),\n",
    "    makeNote(62, F(2, 9)),\n",
    "    makeNote(63, F(1, 9)),\n",
    "    makeNote(64, F(1, 9)),\n",
    "    \n",
    "    makeNote(65, F(2, 3)),\n",
    "    \n",
    "]\n",
    "\n",
    "struct = ScoreStruct(timesig='3/4', tempo=52)\n",
    "\n",
    "part = scoring.UnquantizedPart(notes)\n",
    "quantprofile = scoring.quant.QuantizationProfile.fromPreset('high', debug=True, debugMaxDivisions=20, maxDivPenalty=0.1)\n",
    "quantprofile.maxGridDensity = 32\n",
    "quantprofile.mergeTupletsOfDifferentDuration = True\n",
    "qpart = scoring.quant.quantizePart(part, struct=struct, quantprofile=quantprofile)\n",
    "options = scoring.render.RenderOptions()\n",
    "score = scoring.quant.QuantizedScore([qpart])\n",
    "r = scoring.render.renderQuantizedScore(score, options)\n",
    "#score.dump()\n",
    "r# .write('~/tmp/quant.ly')"
   ]
  },
  {
   "cell_type": "code",
   "execution_count": 17,
   "id": "5d304887-fdfe-4def-963c-3226f7bd1280",
   "metadata": {},
   "outputs": [
    {
     "name": "stderr",
     "output_type": "stream",
     "text": [
      "[maelzel.scoring:quant.py:1364:quantizeMeasure:DEBUG] Measure 3/4 is not filled (events=[«rest 0:0.333 1/3♩», «4C 0.333:1 2/3♩», «4C# 1:1.667 2/3♩», «4D 1.667:1.889 2/9♩», «4D# 1.889:2 1/9♩», «4E 2:2.111 1/9♩»]). Filling gaps with silences\n"
     ]
    },
    {
     "name": "stdout",
     "output_type": "stream",
     "text": [
      "Beat: 0 - 1 (dur: 1)\n",
      "Best 2 divisions: (quantized in 1.1ms)\n"
     ]
    },
    {
     "data": {
      "text/html": [
       "<table>\n",
       "<thead>\n",
       "<tr><th style=\"text-align: right;\">  error</th><th>div  </th><th>snapped                                 </th><th>slots  </th><th>info                                                                                                                                                                          </th></tr>\n",
       "</thead>\n",
       "<tbody>\n",
       "<tr><td style=\"text-align: right;\"> 0.0000</td><td>(3,) </td><td>[«rest 0:0.333 1/3♩», «4C 0.333:1 2/3♩»]</td><td>[0, 1] </td><td>gridError=0, rhythmComplexity=0 (numNotesAcrossSubdivs=0, numTies=0), divPenalty=0 (0, divPenalty=0, cardinalityPenalty=0, numSubdivsPenalty=0, levelPenalty=0)               </td></tr>\n",
       "<tr><td style=\"text-align: right;\"> 0.1636</td><td>(5,) </td><td>[«rest 0:0.4 2/5♩», «4C 0.4:1 3/5♩»]    </td><td>[0, 2] </td><td>gridError=0.164, rhythmComplexity=0 (numNotesAcrossSubdivs=0, numTies=0), divPenalty=0.02 (0.0002, divPenalty=0.02, cardinalityPenalty=0, numSubdivsPenalty=0, levelPenalty=0)</td></tr>\n",
       "</tbody>\n",
       "</table>"
      ],
      "text/plain": [
       "<IPython.core.display.HTML object>"
      ]
     },
     "metadata": {},
     "output_type": "display_data"
    },
    {
     "name": "stderr",
     "output_type": "stream",
     "text": [
      "[maelzel.scoring:quant.py:942:quantizeBeatBinary:DEBUG] Skipping (1, 9), divPenalty=0.05 * 0.1 > minError=0.005\n"
     ]
    },
    {
     "name": "stdout",
     "output_type": "stream",
     "text": [
      "Beat: 1 - 2 (dur: 1)\n",
      "Best 5 divisions: (quantized in 9.0ms)\n"
     ]
    },
    {
     "data": {
      "text/html": [
       "<table>\n",
       "<thead>\n",
       "<tr><th style=\"text-align: right;\">  error</th><th>div      </th><th>snapped                                                        </th><th>slots    </th><th>info                                                                                                                                                                              </th></tr>\n",
       "</thead>\n",
       "<tbody>\n",
       "<tr><td style=\"text-align: right;\"> 0.0030</td><td>(1, 1, 3)</td><td>[«4C# 0:0.667 2/3♩», «4D 0.667:0.889 2/9♩», «4D# 0.889:1 1/9♩»]</td><td>[0, 2, 4]</td><td>gridError=0, rhythmComplexity=0 (numNotesAcrossSubdivs=0, numTies=0), divPenalty=0.03 (0.0003, divPenalty=0, cardinalityPenalty=0, numSubdivsPenalty=0, levelPenalty=0.03)        </td></tr>\n",
       "<tr><td style=\"text-align: right;\"> 0.0050</td><td>(9,)     </td><td>[«4C# 0:0.667 2/3♩», «4D 0.667:0.889 2/9♩», «4D# 0.889:1 1/9♩»]</td><td>[0, 6, 8]</td><td>gridError=0, rhythmComplexity=0 (numNotesAcrossSubdivs=0, numTies=0), divPenalty=0.05 (0.0005, divPenalty=0.05, cardinalityPenalty=0, numSubdivsPenalty=0, levelPenalty=0)        </td></tr>\n",
       "<tr><td style=\"text-align: right;\"> 0.1319</td><td>(8,)     </td><td>[«4C# 0:0.625 5/8♩», «4D 0.625:0.875 1/4♩», «4D# 0.875:1 1/8♩»]</td><td>[0, 5, 7]</td><td>gridError=0.132, rhythmComplexity=0.298 (numNotesAcrossSubdivs=0, numTies=1), divPenalty=0.01 (0.0001, divPenalty=0.01, cardinalityPenalty=0, numSubdivsPenalty=0, levelPenalty=0)</td></tr>\n",
       "<tr><td style=\"text-align: right;\"> 0.1426</td><td>(6,)     </td><td>[«4C# 0:0.667 2/3♩», «4D 0.667:0.833 1/6♩», «4D# 0.833:1 1/6♩»]</td><td>[0, 4, 5]</td><td>gridError=0.143, rhythmComplexity=0 (numNotesAcrossSubdivs=0, numTies=0), divPenalty=0.01 (0.0001, divPenalty=0.01, cardinalityPenalty=0, numSubdivsPenalty=0, levelPenalty=0)    </td></tr>\n",
       "<tr><td style=\"text-align: right;\"> 0.2702</td><td>(5,)     </td><td>[«4C# 0:0.6 3/5♩», «4D 0.6:0.8 1/5♩», «4D# 0.8:1 1/5♩»]        </td><td>[0, 3, 4]</td><td>gridError=0.27, rhythmComplexity=0 (numNotesAcrossSubdivs=0, numTies=0), divPenalty=0.02 (0.0002, divPenalty=0.02, cardinalityPenalty=0, numSubdivsPenalty=0, levelPenalty=0)     </td></tr>\n",
       "</tbody>\n",
       "</table>"
      ],
      "text/plain": [
       "<IPython.core.display.HTML object>"
      ]
     },
     "metadata": {},
     "output_type": "display_data"
    },
    {
     "name": "stderr",
     "output_type": "stream",
     "text": [
      "[maelzel.scoring:quant.py:942:quantizeBeatBinary:DEBUG] Skipping (9, 1), divPenalty=0.05 * 0.1 > minError=0.005\n"
     ]
    },
    {
     "name": "stdout",
     "output_type": "stream",
     "text": [
      "Beat: 2 - 3 (dur: 1)\n",
      "Best 5 divisions: (quantized in 6.2ms)\n"
     ]
    },
    {
     "data": {
      "text/html": [
       "<table>\n",
       "<thead>\n",
       "<tr><th style=\"text-align: right;\">  error</th><th>div  </th><th>snapped                                 </th><th>slots  </th><th>info                                                                                                                                                                              </th></tr>\n",
       "</thead>\n",
       "<tbody>\n",
       "<tr><td style=\"text-align: right;\"> 0.0050</td><td>(9,) </td><td>[«4E 0:0.111 1/9♩», «rest 0.111:1 8/9♩»]</td><td>[0, 1] </td><td>gridError=0, rhythmComplexity=0 (numNotesAcrossSubdivs=0, numTies=0), divPenalty=0.05 (0.0005, divPenalty=0.05, cardinalityPenalty=0, numSubdivsPenalty=0, levelPenalty=0)        </td></tr>\n",
       "<tr><td style=\"text-align: right;\"> 0.0412</td><td>(8,) </td><td>[«4E 0:0.125 1/8♩», «rest 0.125:1 7/8♩»]</td><td>[0, 1] </td><td>gridError=0.0412, rhythmComplexity=0 (numNotesAcrossSubdivs=0, numTies=0), divPenalty=0.01 (0.0001, divPenalty=0.01, cardinalityPenalty=0, numSubdivsPenalty=0, levelPenalty=0)   </td></tr>\n",
       "<tr><td style=\"text-align: right;\"> 0.0766</td><td>(7,) </td><td>[«4E 0:0.143 1/7♩», «rest 0.143:1 6/7♩»]</td><td>[0, 1] </td><td>gridError=0.0766, rhythmComplexity=0 (numNotesAcrossSubdivs=0, numTies=0), divPenalty=0.02 (0.0002, divPenalty=0.02, cardinalityPenalty=0, numSubdivsPenalty=0, levelPenalty=0)   </td></tr>\n",
       "<tr><td style=\"text-align: right;\"> 0.1174</td><td>(6,) </td><td>[«4E 0:0.167 1/6♩», «rest 0.167:1 5/6♩»]</td><td>[0, 1] </td><td>gridError=0.117, rhythmComplexity=0.447 (numNotesAcrossSubdivs=0, numTies=1), divPenalty=0.01 (0.0001, divPenalty=0.01, cardinalityPenalty=0, numSubdivsPenalty=0, levelPenalty=0)</td></tr>\n",
       "<tr><td style=\"text-align: right;\"> 0.1658</td><td>(5,) </td><td>[«4E 0:0.2 1/5♩», «rest 0.2:1 4/5♩»]    </td><td>[0, 1] </td><td>gridError=0.166, rhythmComplexity=0 (numNotesAcrossSubdivs=0, numTies=0), divPenalty=0.02 (0.0002, divPenalty=0.02, cardinalityPenalty=0, numSubdivsPenalty=0, levelPenalty=0)    </td></tr>\n",
       "</tbody>\n",
       "</table>"
      ],
      "text/plain": [
       "<IPython.core.display.HTML object>"
      ]
     },
     "metadata": {},
     "output_type": "display_data"
    },
    {
     "name": "stderr",
     "output_type": "stream",
     "text": [
      "[maelzel.scoring:quant.py:1683:_mergeSiblings:DEBUG] Nodes cannot merge: \n",
      "Node(3/2, \n",
      "  «rest 0:0.333 1/3♩ 3/2»\n",
      "  «4C 0.333:1 2/3♩ 3/2»\n",
      ")\n",
      "Node(3/2, \n",
      "  «4C# 1:1.667 2/3♩ 3/2»\n",
      "  Node(3/2, \n",
      "    «4D 1.667:1.889 2/9♩ 3/2,3/2»\n",
      "    «4D# 1.889:2 1/9♩ 3/2,3/2»\n",
      "  )\n",
      ")\n",
      "----> no need to extend node over beat\n",
      "[maelzel.scoring:renderlily.py:1141:write:DEBUG] Rendering lilypond '/home/em/.cache/tmpsi9ddzcl/i9qnm74p.ly' to '/home/em/.cache/tmpsi9ddzcl/i9qnm74p.png'\n",
      "[maelzel.scoring:renderlily.py:1154:write:DEBUG] Found crop file /home/em/.cache/tmpsi9ddzcl/i9qnm74p.cropped.png, using that as output\n"
     ]
    },
    {
     "data": {
      "text/html": [
       "<b>LilypondRenderer</b> (1 part)<br>\n",
       "        <img style=\"display:inline; padding:10px;\n",
       "margin-top:14px;\n",
       "width:526px\"\n",
       "             src=\"data:image/png;base64,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\"/>"
      ],
      "text/plain": [
       "<maelzel.scoring.renderlily.LilypondRenderer at 0x722b2831c410>"
      ]
     },
     "execution_count": 17,
     "metadata": {},
     "output_type": "execute_result"
    }
   ],
   "source": [
    "from maelzel import scoring\n",
    "from maelzel.scorestruct import ScoreStruct\n",
    "from maelzel.common import F\n",
    "from maelzel.scoring import makeNote\n",
    "from maelzel.scoring import spanner \n",
    "\n",
    "notes = [\n",
    "    makeNote(60, F(2, 3), offset=F(1, 3)),\n",
    "    makeNote(61, F(2, 3)),\n",
    "    makeNote(62, F(2, 9)),\n",
    "    makeNote(63, F(1, 9)),\n",
    "    makeNote(64, F(1, 9)),\n",
    "    \n",
    "    \n",
    "]\n",
    "\n",
    "struct = ScoreStruct(timesig='3/4', tempo=52)\n",
    "\n",
    "part = scoring.UnquantizedPart(notes)\n",
    "quantprofile = scoring.quant.QuantizationProfile.fromPreset('high', debug=True, debugMaxDivisions=20, maxDivPenalty=0.1)\n",
    "#quantprofile.maxGridDensity = 32\n",
    "#quantprofile.mergeTupletsOfDifferentDuration = True\n",
    "qpart = scoring.quant.quantizePart(part, struct=struct, quantprofile=quantprofile)\n",
    "options = scoring.render.RenderOptions()\n",
    "score = scoring.quant.QuantizedScore([qpart])\n",
    "r = scoring.render.renderQuantizedScore(score, options)\n",
    "#score.dump()\n",
    "r# .write('~/tmp/quant.ly')"
   ]
  }
 ],
 "metadata": {
  "kernelspec": {
   "display_name": "Python 3 (ipykernel)",
   "language": "python",
   "name": "python3"
  },
  "language_info": {
   "codemirror_mode": {
    "name": "ipython",
    "version": 3
   },
   "file_extension": ".py",
   "mimetype": "text/x-python",
   "name": "python",
   "nbconvert_exporter": "python",
   "pygments_lexer": "ipython3",
   "version": "3.11.6"
  }
 },
 "nbformat": 4,
 "nbformat_minor": 5
}
