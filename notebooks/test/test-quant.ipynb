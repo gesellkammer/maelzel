{
 "cells": [
  {
   "cell_type": "code",
   "execution_count": 3,
   "id": "f8c9d684-bb33-4aa8-8ace-715a663bba73",
   "metadata": {},
   "outputs": [],
   "source": [
    "from maelzel import scoring\n",
    "from maelzel.scorestruct import ScoreStruct\n",
    "from maelzel.scoring import quantutils\n",
    "from maelzel.common import F"
   ]
  },
  {
   "cell_type": "code",
   "execution_count": 4,
   "id": "f0e36b4f-af3e-43e2-9960-6578a88a67d9",
   "metadata": {},
   "outputs": [],
   "source": [
    "struct = ScoreStruct(timesig='4/4', quarterTempo=70)\n"
   ]
  },
  {
   "cell_type": "code",
   "execution_count": 8,
   "id": "9feb6be3-ad87-4d95-9c32-dc3b8844fbc2",
   "metadata": {},
   "outputs": [
    {
     "name": "stdout",
     "output_type": "stream",
     "text": [
      "Beat offset: 0\n",
      "Skipped 21 divisions with a div. penalty > 0.2\n",
      "Best 5 divisions: \n"
     ]
    },
    {
     "data": {
      "text/html": [
       "<table>\n",
       "<thead>\n",
       "<tr><th>error   </th><th>div            </th><th>snapped                    </th><th>slots  </th><th>info                                                                                                                                             </th></tr>\n",
       "</thead>\n",
       "<tbody>\n",
       "<tr><td>0.002   </td><td>(1,)           </td><td>[«0.000:1.000 4C tiedNext»]</td><td>[0]    </td><td>gridError=0, rhythmComplexity=0, divPenalty=0.02 (0.0002, divPenalty=0.02, cardinalityPenalty=0, numSubdivsPenalty=0, levelPenalty=0)            </td></tr>\n",
       "<tr><td>0.022361</td><td>(1, 1, 1, 1)   </td><td>[«0.000:1.000 4C tiedNext»]</td><td>[0]    </td><td>gridError=0, rhythmComplexity=0.707, divPenalty=0 (0, divPenalty=0, cardinalityPenalty=0, numSubdivsPenalty=0, levelPenalty=0)                   </td></tr>\n",
       "<tr><td>0.022716</td><td>(1, 1)         </td><td>[«0.000:1.000 4C tiedNext»]</td><td>[0]    </td><td>gridError=0, rhythmComplexity=0.707, divPenalty=0.04 (0.0004, divPenalty=0.04, cardinalityPenalty=0, numSubdivsPenalty=0, levelPenalty=0)        </td></tr>\n",
       "<tr><td>0.023   </td><td>(1, 1, 1)      </td><td>[«0.000:1.000 4C tiedNext»]</td><td>[0]    </td><td>gridError=0, rhythmComplexity=0.707, divPenalty=0.0539 (0.0005385, divPenalty=0.02, cardinalityPenalty=0, numSubdivsPenalty=0, levelPenalty=0.05)</td></tr>\n",
       "<tr><td>0.023585</td><td>(1, 1, 1, 1, 1)</td><td>[«0.000:1.000 4C tiedNext»]</td><td>[0]    </td><td>gridError=0, rhythmComplexity=0.707, divPenalty=0.075 (0.00075, divPenalty=0, cardinalityPenalty=0.1, numSubdivsPenalty=0, levelPenalty=0.05)    </td></tr>\n",
       "</tbody>\n",
       "</table>"
      ],
      "text/plain": [
       "<IPython.core.display.HTML object>"
      ]
     },
     "metadata": {},
     "output_type": "display_data"
    },
    {
     "name": "stdout",
     "output_type": "stream",
     "text": [
      "Beat offset: 1\n",
      "Skipped 21 divisions with a div. penalty > 0.2\n",
      "Best 5 divisions: \n"
     ]
    },
    {
     "data": {
      "text/html": [
       "<table>\n",
       "<thead>\n",
       "<tr><th>error   </th><th>div            </th><th>snapped                    </th><th>slots  </th><th>info                                                                                                                                             </th></tr>\n",
       "</thead>\n",
       "<tbody>\n",
       "<tr><td>0.002   </td><td>(1,)           </td><td>[«0.000:1.000 4C tiedPrev»]</td><td>[0]    </td><td>gridError=0, rhythmComplexity=0, divPenalty=0.02 (0.0002, divPenalty=0.02, cardinalityPenalty=0, numSubdivsPenalty=0, levelPenalty=0)            </td></tr>\n",
       "<tr><td>0.022361</td><td>(1, 1, 1, 1)   </td><td>[«0.000:1.000 4C tiedPrev»]</td><td>[0]    </td><td>gridError=0, rhythmComplexity=0.707, divPenalty=0 (0, divPenalty=0, cardinalityPenalty=0, numSubdivsPenalty=0, levelPenalty=0)                   </td></tr>\n",
       "<tr><td>0.022716</td><td>(1, 1)         </td><td>[«0.000:1.000 4C tiedPrev»]</td><td>[0]    </td><td>gridError=0, rhythmComplexity=0.707, divPenalty=0.04 (0.0004, divPenalty=0.04, cardinalityPenalty=0, numSubdivsPenalty=0, levelPenalty=0)        </td></tr>\n",
       "<tr><td>0.023   </td><td>(1, 1, 1)      </td><td>[«0.000:1.000 4C tiedPrev»]</td><td>[0]    </td><td>gridError=0, rhythmComplexity=0.707, divPenalty=0.0539 (0.0005385, divPenalty=0.02, cardinalityPenalty=0, numSubdivsPenalty=0, levelPenalty=0.05)</td></tr>\n",
       "<tr><td>0.023585</td><td>(1, 1, 1, 1, 1)</td><td>[«0.000:1.000 4C tiedPrev»]</td><td>[0]    </td><td>gridError=0, rhythmComplexity=0.707, divPenalty=0.075 (0.00075, divPenalty=0, cardinalityPenalty=0.1, numSubdivsPenalty=0, levelPenalty=0.05)    </td></tr>\n",
       "</tbody>\n",
       "</table>"
      ],
      "text/plain": [
       "<IPython.core.display.HTML object>"
      ]
     },
     "metadata": {},
     "output_type": "display_data"
    },
    {
     "name": "stdout",
     "output_type": "stream",
     "text": [
      "Beat offset: 2\n",
      "Skipped 21 divisions with a div. penalty > 0.2\n",
      "Best 20 divisions: \n"
     ]
    },
    {
     "data": {
      "text/html": [
       "<table>\n",
       "<thead>\n",
       "<tr><th>error   </th><th>div            </th><th>snapped                                       </th><th>slots  </th><th>info                                                                                                                                                    </th></tr>\n",
       "</thead>\n",
       "<tbody>\n",
       "<tr><td>0.002   </td><td>(7,)           </td><td>[«0.000:0.143 4C#», «0.143:1.000 4D tiedNext»]</td><td>[0, 1] </td><td>gridError=0, rhythmComplexity=0, divPenalty=0.02 (0.0002, divPenalty=0.02, cardinalityPenalty=0, numSubdivsPenalty=0, levelPenalty=0)                   </td></tr>\n",
       "<tr><td>0.022716</td><td>(7, 1)         </td><td>[«0.000:0.143 4C#», «0.143:1.000 4D tiedNext»]</td><td>[0, 2] </td><td>gridError=0, rhythmComplexity=0.707, divPenalty=0.04 (0.0004, divPenalty=0.04, cardinalityPenalty=0, numSubdivsPenalty=0, levelPenalty=0)               </td></tr>\n",
       "<tr><td>0.023259</td><td>(7, 1, 1)      </td><td>[«0.000:0.143 4C#», «0.143:1.000 4D tiedNext»]</td><td>[0, 3] </td><td>gridError=0, rhythmComplexity=0.707, divPenalty=0.064 (0.0006403, divPenalty=0.04, cardinalityPenalty=0.1, numSubdivsPenalty=0, levelPenalty=0.05)      </td></tr>\n",
       "<tr><td>0.031612</td><td>(5, 1, 1, 1)   </td><td>[«0.000:0.150 4C#», «0.150:1.000 4D tiedNext»]</td><td>[0, 3] </td><td>gridError=0.0192, rhythmComplexity=0.791, divPenalty=0.02 (0.0002, divPenalty=0.02, cardinalityPenalty=0.1, numSubdivsPenalty=0, levelPenalty=0)        </td></tr>\n",
       "<tr><td>0.032114</td><td>(10, 1)        </td><td>[«0.000:0.150 4C#», «0.150:1.000 4D tiedNext»]</td><td>[0, 3] </td><td>gridError=0.0192, rhythmComplexity=0.791, divPenalty=0.06 (0.0006, divPenalty=0.06, cardinalityPenalty=0.1, numSubdivsPenalty=0, levelPenalty=0)        </td></tr>\n",
       "<tr><td>0.032566</td><td>(4, 1, 1, 1, 1)</td><td>[«0.000:0.150 4C#», «0.150:1.000 4D tiedNext»]</td><td>[0, 3] </td><td>gridError=0.0192, rhythmComplexity=0.791, divPenalty=0.0808 (0.0008078, divPenalty=0.02, cardinalityPenalty=0.1, numSubdivsPenalty=0, levelPenalty=0.05)</td></tr>\n",
       "<tr><td>0.035467</td><td>(5, 1, 1)      </td><td>[«0.000:0.133 4C#», «0.133:1.000 4D tiedNext»]</td><td>[0, 2] </td><td>gridError=0.0246, rhythmComplexity=0.791, divPenalty=0.0539 (0.0005385, divPenalty=0.02, cardinalityPenalty=0.1, numSubdivsPenalty=0, levelPenalty=0.05)</td></tr>\n",
       "<tr><td>0.035849</td><td>(3, 1, 1, 1, 1)</td><td>[«0.000:0.133 4C#», «0.133:1.000 4D tiedNext»]</td><td>[0, 2] </td><td>gridError=0.0246, rhythmComplexity=0.791, divPenalty=0.075 (0.00075, divPenalty=0, cardinalityPenalty=0.1, numSubdivsPenalty=0, levelPenalty=0.05)      </td></tr>\n",
       "<tr><td>0.041978</td><td>(8,)           </td><td>[«0.000:0.125 4C#», «0.125:1.000 4D tiedNext»]</td><td>[0, 1] </td><td>gridError=0.0419, rhythmComplexity=0, divPenalty=0.02 (0.0002, divPenalty=0.02, cardinalityPenalty=0, numSubdivsPenalty=0, levelPenalty=0)              </td></tr>\n",
       "<tr><td>0.04752 </td><td>(2, 1, 1, 1)   </td><td>[«0.000:0.125 4C#», «0.125:1.000 4D tiedNext»]</td><td>[0, 1] </td><td>gridError=0.0419, rhythmComplexity=0.707, divPenalty=0 (0, divPenalty=0, cardinalityPenalty=0, numSubdivsPenalty=0, levelPenalty=0)                     </td></tr>\n",
       "<tr><td>0.047688</td><td>(4, 1)         </td><td>[«0.000:0.125 4C#», «0.125:1.000 4D tiedNext»]</td><td>[0, 1] </td><td>gridError=0.0419, rhythmComplexity=0.707, divPenalty=0.04 (0.0004, divPenalty=0.04, cardinalityPenalty=0, numSubdivsPenalty=0, levelPenalty=0)          </td></tr>\n",
       "<tr><td>0.054738</td><td>(6,)           </td><td>[«0.000:0.167 4C#», «0.167:1.000 4D tiedNext»]</td><td>[0, 1] </td><td>gridError=0.0535, rhythmComplexity=0.354, divPenalty=0.02 (0.0002, divPenalty=0.02, cardinalityPenalty=0, numSubdivsPenalty=0, levelPenalty=0)          </td></tr>\n",
       "<tr><td>0.059095</td><td>(3, 1, 1, 1)   </td><td>[«0.000:0.167 4C#», «0.167:1.000 4D tiedNext»]</td><td>[0, 2] </td><td>gridError=0.0535, rhythmComplexity=0.791, divPenalty=0 (0, divPenalty=0, cardinalityPenalty=0, numSubdivsPenalty=0, levelPenalty=0)                     </td></tr>\n",
       "<tr><td>0.05923 </td><td>(3, 1)         </td><td>[«0.000:0.167 4C#», «0.167:1.000 4D tiedNext»]</td><td>[0, 1] </td><td>gridError=0.0535, rhythmComplexity=0.791, divPenalty=0.04 (0.0004, divPenalty=0.04, cardinalityPenalty=0, numSubdivsPenalty=0, levelPenalty=0)          </td></tr>\n",
       "<tr><td>0.05923 </td><td>(9, 1)         </td><td>[«0.000:0.167 4C#», «0.167:1.000 4D tiedNext»]</td><td>[0, 3] </td><td>gridError=0.0535, rhythmComplexity=0.791, divPenalty=0.04 (0.0004, divPenalty=0.04, cardinalityPenalty=0.1, numSubdivsPenalty=0, levelPenalty=0)        </td></tr>\n",
       "<tr><td>0.05934 </td><td>(2, 1, 1)      </td><td>[«0.000:0.167 4C#», «0.167:1.000 4D tiedNext»]</td><td>[0, 1] </td><td>gridError=0.0535, rhythmComplexity=0.791, divPenalty=0.0539 (0.0005385, divPenalty=0.02, cardinalityPenalty=0, numSubdivsPenalty=0, levelPenalty=0.05)  </td></tr>\n",
       "<tr><td>0.068409</td><td>(9,)           </td><td>[«0.000:0.111 4C#», «0.111:1.000 4D tiedNext»]</td><td>[0, 1] </td><td>gridError=0.0684, rhythmComplexity=0, divPenalty=0.02 (0.0002, divPenalty=0.02, cardinalityPenalty=0, numSubdivsPenalty=0, levelPenalty=0)              </td></tr>\n",
       "<tr><td>0.072144</td><td>(3, 1, 1)      </td><td>[«0.000:0.111 4C#», «0.111:1.000 4D tiedNext»]</td><td>[0, 1] </td><td>gridError=0.0684, rhythmComplexity=0.707, divPenalty=0.0539 (0.0005385, divPenalty=0.02, cardinalityPenalty=0, numSubdivsPenalty=0, levelPenalty=0.05)  </td></tr>\n",
       "<tr><td>0.082753</td><td>(11,)          </td><td>[«0.000:0.182 4C#», «0.182:1.000 4D tiedNext»]</td><td>[0, 2] </td><td>gridError=0.0814, rhythmComplexity=0.354, divPenalty=0.1 (0.001, divPenalty=0.1, cardinalityPenalty=0, numSubdivsPenalty=0, levelPenalty=0)             </td></tr>\n",
       "<tr><td>0.089044</td><td>(10,)          </td><td>[«0.000:0.100 4C#», «0.100:1.000 4D tiedNext»]</td><td>[0, 1] </td><td>gridError=0.0882, rhythmComplexity=0.354, divPenalty=0.04 (0.0004, divPenalty=0.04, cardinalityPenalty=0, numSubdivsPenalty=0, levelPenalty=0)          </td></tr>\n",
       "</tbody>\n",
       "</table>"
      ],
      "text/plain": [
       "<IPython.core.display.HTML object>"
      ]
     },
     "metadata": {},
     "output_type": "display_data"
    },
    {
     "name": "stdout",
     "output_type": "stream",
     "text": [
      "Beat offset: 3\n",
      "Skipped 21 divisions with a div. penalty > 0.2\n",
      "Best 20 divisions: \n"
     ]
    },
    {
     "data": {
      "text/html": [
       "<table>\n",
       "<thead>\n",
       "<tr><th>error   </th><th>div            </th><th>snapped                                        </th><th>slots  </th><th>info                                                                                                                                                    </th></tr>\n",
       "</thead>\n",
       "<tbody>\n",
       "<tr><td>0.002   </td><td>(3,)           </td><td>[«0.000:0.333 4D tiedPrev», «0.333:1.000 rest»]</td><td>[0, 1] </td><td>gridError=0, rhythmComplexity=0, divPenalty=0.02 (0.0002, divPenalty=0.02, cardinalityPenalty=0, numSubdivsPenalty=0, levelPenalty=0)                   </td></tr>\n",
       "<tr><td>0.002   </td><td>(9,)           </td><td>[«0.000:0.333 4D tiedPrev», «0.333:1.000 rest»]</td><td>[0, 3] </td><td>gridError=0, rhythmComplexity=0, divPenalty=0.02 (0.0002, divPenalty=0.02, cardinalityPenalty=0, numSubdivsPenalty=0, levelPenalty=0)                   </td></tr>\n",
       "<tr><td>0.01241 </td><td>(1, 1, 1)      </td><td>[«0.000:0.333 4D tiedPrev», «0.333:1.000 rest»]</td><td>[0, 1] </td><td>gridError=0, rhythmComplexity=0.354, divPenalty=0.0539 (0.0005385, divPenalty=0.02, cardinalityPenalty=0, numSubdivsPenalty=0, levelPenalty=0.05)       </td></tr>\n",
       "<tr><td>0.022361</td><td>(1, 3, 1, 1)   </td><td>[«0.000:0.333 4D tiedPrev», «0.333:1.000 rest»]</td><td>[0, 2] </td><td>gridError=0, rhythmComplexity=0.707, divPenalty=0 (0, divPenalty=0, cardinalityPenalty=0, numSubdivsPenalty=0, levelPenalty=0)                          </td></tr>\n",
       "<tr><td>0.022716</td><td>(3, 1)         </td><td>[«0.000:0.333 4D tiedPrev», «0.333:1.000 rest»]</td><td>[0, 2] </td><td>gridError=0, rhythmComplexity=0.707, divPenalty=0.04 (0.0004, divPenalty=0.04, cardinalityPenalty=0, numSubdivsPenalty=0, levelPenalty=0)               </td></tr>\n",
       "<tr><td>0.022716</td><td>(9, 1)         </td><td>[«0.000:0.333 4D tiedPrev», «0.333:1.000 rest»]</td><td>[0, 6] </td><td>gridError=0, rhythmComplexity=0.707, divPenalty=0.04 (0.0004, divPenalty=0.04, cardinalityPenalty=0.1, numSubdivsPenalty=0, levelPenalty=0)             </td></tr>\n",
       "<tr><td>0.023585</td><td>(1, 3, 1, 1, 1)</td><td>[«0.000:0.333 4D tiedPrev», «0.333:1.000 rest»]</td><td>[0, 3] </td><td>gridError=0, rhythmComplexity=0.707, divPenalty=0.075 (0.00075, divPenalty=0, cardinalityPenalty=0.1, numSubdivsPenalty=0, levelPenalty=0.05)           </td></tr>\n",
       "<tr><td>0.040223</td><td>(1, 5, 1, 1)   </td><td>[«0.000:0.350 4D tiedPrev», «0.350:1.000 rest»]</td><td>[0, 3] </td><td>gridError=0.0314, rhythmComplexity=0.791, divPenalty=0.02 (0.0002, divPenalty=0.02, cardinalityPenalty=0.1, numSubdivsPenalty=0, levelPenalty=0)        </td></tr>\n",
       "<tr><td>0.040619</td><td>(10, 1)        </td><td>[«0.000:0.350 4D tiedPrev», «0.350:1.000 rest»]</td><td>[0, 7] </td><td>gridError=0.0314, rhythmComplexity=0.791, divPenalty=0.06 (0.0006, divPenalty=0.06, cardinalityPenalty=0.1, numSubdivsPenalty=0, levelPenalty=0)        </td></tr>\n",
       "<tr><td>0.040977</td><td>(1, 4, 1, 1, 1)</td><td>[«0.000:0.350 4D tiedPrev», «0.350:1.000 rest»]</td><td>[0, 4] </td><td>gridError=0.0314, rhythmComplexity=0.791, divPenalty=0.0808 (0.0008078, divPenalty=0.02, cardinalityPenalty=0.1, numSubdivsPenalty=0, levelPenalty=0.05)</td></tr>\n",
       "<tr><td>0.049488</td><td>(1, 4, 1, 1)   </td><td>[«0.000:0.312 4D tiedPrev», «0.312:1.000 rest»]</td><td>[0, 2] </td><td>gridError=0.038, rhythmComplexity=1, divPenalty=0.02 (0.0002, divPenalty=0.02, cardinalityPenalty=0, numSubdivsPenalty=0, levelPenalty=0)               </td></tr>\n",
       "<tr><td>0.04961 </td><td>(8, 1)         </td><td>[«0.000:0.312 4D tiedPrev», «0.312:1.000 rest»]</td><td>[0, 5] </td><td>gridError=0.038, rhythmComplexity=1, divPenalty=0.04 (0.0004, divPenalty=0.04, cardinalityPenalty=0, numSubdivsPenalty=0, levelPenalty=0)               </td></tr>\n",
       "<tr><td>0.053192</td><td>(7, 1)         </td><td>[«0.000:0.357 4D tiedPrev», «0.357:1.000 rest»]</td><td>[0, 5] </td><td>gridError=0.0426, rhythmComplexity=1, divPenalty=0.04 (0.0004, divPenalty=0.04, cardinalityPenalty=0, numSubdivsPenalty=0, levelPenalty=0)              </td></tr>\n",
       "<tr><td>0.05322 </td><td>(11,)          </td><td>[«0.000:0.364 4D tiedPrev», «0.364:1.000 rest»]</td><td>[0, 4] </td><td>gridError=0.0523, rhythmComplexity=0, divPenalty=0.1 (0.001, divPenalty=0.1, cardinalityPenalty=0, numSubdivsPenalty=0, levelPenalty=0)                 </td></tr>\n",
       "<tr><td>0.056824</td><td>(10,)          </td><td>[«0.000:0.300 4D tiedPrev», «0.300:1.000 rest»]</td><td>[0, 3] </td><td>gridError=0.0567, rhythmComplexity=0, divPenalty=0.04 (0.0004, divPenalty=0.04, cardinalityPenalty=0, numSubdivsPenalty=0, levelPenalty=0)              </td></tr>\n",
       "<tr><td>0.061065</td><td>(5, 1)         </td><td>[«0.000:0.300 4D tiedPrev», «0.300:1.000 rest»]</td><td>[0, 3] </td><td>gridError=0.0567, rhythmComplexity=0.707, divPenalty=0.04 (0.0004, divPenalty=0.04, cardinalityPenalty=0.1, numSubdivsPenalty=0, levelPenalty=0)        </td></tr>\n",
       "<tr><td>0.061394</td><td>(1, 2, 1, 1, 1)</td><td>[«0.000:0.300 4D tiedPrev», «0.300:1.000 rest»]</td><td>[0, 2] </td><td>gridError=0.0567, rhythmComplexity=0.707, divPenalty=0.075 (0.00075, divPenalty=0, cardinalityPenalty=0.1, numSubdivsPenalty=0, levelPenalty=0.05)      </td></tr>\n",
       "<tr><td>0.069456</td><td>(8,)           </td><td>[«0.000:0.375 4D tiedPrev», «0.375:1.000 rest»]</td><td>[0, 3] </td><td>gridError=0.0685, rhythmComplexity=0.354, divPenalty=0.02 (0.0002, divPenalty=0.02, cardinalityPenalty=0, numSubdivsPenalty=0, levelPenalty=0)          </td></tr>\n",
       "<tr><td>0.07294 </td><td>(1, 2, 1, 1)   </td><td>[«0.000:0.375 4D tiedPrev», «0.375:1.000 rest»]</td><td>[0, 2] </td><td>gridError=0.0685, rhythmComplexity=0.791, divPenalty=0 (0, divPenalty=0, cardinalityPenalty=0, numSubdivsPenalty=0, levelPenalty=0)                     </td></tr>\n",
       "<tr><td>0.073049</td><td>(4, 1)         </td><td>[«0.000:0.375 4D tiedPrev», «0.375:1.000 rest»]</td><td>[0, 3] </td><td>gridError=0.0685, rhythmComplexity=0.791, divPenalty=0.04 (0.0004, divPenalty=0.04, cardinalityPenalty=0, numSubdivsPenalty=0, levelPenalty=0)          </td></tr>\n",
       "</tbody>\n",
       "</table>"
      ],
      "text/plain": [
       "<IPython.core.display.HTML object>"
      ]
     },
     "metadata": {},
     "output_type": "display_data"
    },
    {
     "data": {
      "text/html": [
       "<b>LilypondRenderer</b> (1 part)<br>\n",
       "        <img style=\"display:inline; padding:10px;\n",
       "margin-top:14px;\n",
       "width:278.0\"\n",
       "             src=\"data:image/png;base64,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\"/>"
      ],
      "text/plain": [
       "<maelzel.scoring.renderlily.LilypondRenderer at 0x7f8a61911190>"
      ]
     },
     "execution_count": 8,
     "metadata": {},
     "output_type": "execute_result"
    }
   ],
   "source": [
    "notes = [\n",
    "    (60, F(2, 1)),\n",
    "    (61, F(1, 7)),\n",
    "    (62, F(6, 7)+F(1, 3))\n",
    "]\n",
    "\n",
    "notations = [scoring.makeNote(p, d) for p, d in notes]\n",
    "part = scoring.Part(notations)\n",
    "qprofile = scoring.quant.makeQuantizationProfile('high')\n",
    "qprofile.debug = True\n",
    "qpart = scoring.quant.quantizePart(part, struct=struct, profile=qprofile)\n",
    "options = scoring.render.RenderOptions()\n",
    "score = scoring.quant.QuantizedScore([qpart])\n",
    "r = scoring.render.renderQuantizedScore(score, options)\n",
    "r"
   ]
  },
  {
   "cell_type": "code",
   "execution_count": 4,
   "id": "af4ba261-96fb-49d2-a151-66a7e3493b2b",
   "metadata": {},
   "outputs": [
    {
     "name": "stdout",
     "output_type": "stream",
     "text": [
      "Beat offset: 0\n",
      "Skipped 66 divisions with a div. penalty > 0.4\n",
      "Best 5 divisions: \n"
     ]
    },
    {
     "data": {
      "text/html": [
       "<table>\n",
       "<thead>\n",
       "<tr><th>error   </th><th>div            </th><th>snapped                    </th><th>slots  </th><th>info                                                                                                                                            </th></tr>\n",
       "</thead>\n",
       "<tbody>\n",
       "<tr><td>0.002   </td><td>(1,)           </td><td>[«0.000:1.000 4C tiedNext»]</td><td>[0]    </td><td>gridError=0, rhythmComplexity=0, divPenalty=0.02 (0.0002, divPenalty=0.02, cardinalityPenalty=0, numSubdivsPenalty=0, levelPenalty=0)           </td></tr>\n",
       "<tr><td>0.017436</td><td>(1, 1, 1, 1)   </td><td>[«0.000:1.000 4C tiedNext»]</td><td>[0]    </td><td>gridError=0, rhythmComplexity=0.548, divPenalty=0.02 (0.0002, divPenalty=0.02, cardinalityPenalty=0, numSubdivsPenalty=0, levelPenalty=0)       </td></tr>\n",
       "<tr><td>0.017776</td><td>(1, 1)         </td><td>[«0.000:1.000 4C tiedNext»]</td><td>[0]    </td><td>gridError=0, rhythmComplexity=0.548, divPenalty=0.04 (0.0004, divPenalty=0.04, cardinalityPenalty=0, numSubdivsPenalty=0, levelPenalty=0)       </td></tr>\n",
       "<tr><td>0.017776</td><td>(1, 1, 1)      </td><td>[«0.000:1.000 4C tiedNext»]</td><td>[0]    </td><td>gridError=0, rhythmComplexity=0.548, divPenalty=0.04 (0.0004, divPenalty=0.04, cardinalityPenalty=0, numSubdivsPenalty=0, levelPenalty=0)       </td></tr>\n",
       "<tr><td>0.018207</td><td>(1, 1, 1, 1, 1)</td><td>[«0.000:1.000 4C tiedNext»]</td><td>[0]    </td><td>gridError=0, rhythmComplexity=0.548, divPenalty=0.0561 (0.0005612, divPenalty=0.02, cardinalityPenalty=0.1, numSubdivsPenalty=0, levelPenalty=0)</td></tr>\n",
       "</tbody>\n",
       "</table>"
      ],
      "text/plain": [
       "<IPython.core.display.HTML object>"
      ]
     },
     "metadata": {},
     "output_type": "display_data"
    },
    {
     "name": "stdout",
     "output_type": "stream",
     "text": [
      "Beat offset: 1\n",
      "Skipped 66 divisions with a div. penalty > 0.4\n",
      "Best 5 divisions: \n"
     ]
    },
    {
     "data": {
      "text/html": [
       "<table>\n",
       "<thead>\n",
       "<tr><th>error   </th><th>div            </th><th>snapped                    </th><th>slots  </th><th>info                                                                                                                                            </th></tr>\n",
       "</thead>\n",
       "<tbody>\n",
       "<tr><td>0.002   </td><td>(1,)           </td><td>[«0.000:1.000 4C tiedPrev»]</td><td>[0]    </td><td>gridError=0, rhythmComplexity=0, divPenalty=0.02 (0.0002, divPenalty=0.02, cardinalityPenalty=0, numSubdivsPenalty=0, levelPenalty=0)           </td></tr>\n",
       "<tr><td>0.017436</td><td>(1, 1, 1, 1)   </td><td>[«0.000:1.000 4C tiedPrev»]</td><td>[0]    </td><td>gridError=0, rhythmComplexity=0.548, divPenalty=0.02 (0.0002, divPenalty=0.02, cardinalityPenalty=0, numSubdivsPenalty=0, levelPenalty=0)       </td></tr>\n",
       "<tr><td>0.017776</td><td>(1, 1)         </td><td>[«0.000:1.000 4C tiedPrev»]</td><td>[0]    </td><td>gridError=0, rhythmComplexity=0.548, divPenalty=0.04 (0.0004, divPenalty=0.04, cardinalityPenalty=0, numSubdivsPenalty=0, levelPenalty=0)       </td></tr>\n",
       "<tr><td>0.017776</td><td>(1, 1, 1)      </td><td>[«0.000:1.000 4C tiedPrev»]</td><td>[0]    </td><td>gridError=0, rhythmComplexity=0.548, divPenalty=0.04 (0.0004, divPenalty=0.04, cardinalityPenalty=0, numSubdivsPenalty=0, levelPenalty=0)       </td></tr>\n",
       "<tr><td>0.018207</td><td>(1, 1, 1, 1, 1)</td><td>[«0.000:1.000 4C tiedPrev»]</td><td>[0]    </td><td>gridError=0, rhythmComplexity=0.548, divPenalty=0.0561 (0.0005612, divPenalty=0.02, cardinalityPenalty=0.1, numSubdivsPenalty=0, levelPenalty=0)</td></tr>\n",
       "</tbody>\n",
       "</table>"
      ],
      "text/plain": [
       "<IPython.core.display.HTML object>"
      ]
     },
     "metadata": {},
     "output_type": "display_data"
    },
    {
     "name": "stdout",
     "output_type": "stream",
     "text": [
      "Beat offset: 2\n",
      "Skipped 66 divisions with a div. penalty > 0.4\n",
      "Best 20 divisions: \n"
     ]
    },
    {
     "data": {
      "text/html": [
       "<table>\n",
       "<thead>\n",
       "<tr><th>error   </th><th>div            </th><th>snapped                                                 </th><th>slots    </th><th>info                                                                                                                                                 </th></tr>\n",
       "</thead>\n",
       "<tbody>\n",
       "<tr><td>0.01507 </td><td>(1, 1, 1, 6)   </td><td>[«0.000:0.750 4C#», «0.750:0.792 4D#», «0.792:1.000 4E»]</td><td>[0, 3, 4]</td><td>gridError=0, rhythmComplexity=0.459, divPenalty=0.04 (0.0004, divPenalty=0.04, cardinalityPenalty=0, numSubdivsPenalty=0, levelPenalty=0)            </td></tr>\n",
       "<tr><td>0.020094</td><td>(1, 1, 8)      </td><td>[«0.000:0.750 4C#», «0.750:0.792 4D#», «0.792:1.000 4E»]</td><td>[0, 4, 5]</td><td>gridError=0, rhythmComplexity=0.615, divPenalty=0.051 (0.0005099, divPenalty=0.04, cardinalityPenalty=0.1, numSubdivsPenalty=0, levelPenalty=0)      </td></tr>\n",
       "<tr><td>0.024487</td><td>(1, 1, 1, 7)   </td><td>[«0.000:0.750 4C#», «0.750:0.786 4D#», «0.786:1.000 4E»]</td><td>[0, 3, 4]</td><td>gridError=0.021, rhythmComplexity=0.365, divPenalty=0.051 (0.0005099, divPenalty=0.04, cardinalityPenalty=0.1, numSubdivsPenalty=0, levelPenalty=0)  </td></tr>\n",
       "<tr><td>0.030027</td><td>(1, 1, 1, 5)   </td><td>[«0.000:0.750 4C#», «0.750:0.800 4D#», «0.800:1.000 4E»]</td><td>[0, 3, 4]</td><td>gridError=0.0275, rhythmComplexity=0.365, divPenalty=0.0374 (0.0003742, divPenalty=0.02, cardinalityPenalty=0.1, numSubdivsPenalty=0, levelPenalty=0)</td></tr>\n",
       "<tr><td>0.032951</td><td>(1, 1, 1, 4, 1)</td><td>[«0.000:0.750 4C#», «0.750:0.800 4D#», «0.800:1.000 4E»]</td><td>[0, 6, 7]</td><td>gridError=0.0275, rhythmComplexity=0.548, divPenalty=0.0561 (0.0005612, divPenalty=0.02, cardinalityPenalty=0.1, numSubdivsPenalty=0, levelPenalty=0)</td></tr>\n",
       "<tr><td>0.03317 </td><td>(1, 10)        </td><td>[«0.000:0.750 4C#», «0.750:0.800 4D#», «0.800:1.000 4E»]</td><td>[0, 6, 7]</td><td>gridError=0.0275, rhythmComplexity=0.548, divPenalty=0.0678 (0.0006782, divPenalty=0.06, cardinalityPenalty=0.1, numSubdivsPenalty=0, levelPenalty=0)</td></tr>\n",
       "<tr><td>0.049221</td><td>(1, 1, 1, 5, 1)</td><td>[«0.000:0.760 4C#», «0.760:0.800 4D#», «0.800:1.000 4E»]</td><td>[0, 7, 8]</td><td>gridError=0.0444, rhythmComplexity=0.615, divPenalty=0.0842 (0.0008419, divPenalty=0.02, cardinalityPenalty=0.1, numSubdivsPenalty=0, levelPenalty=0)</td></tr>\n",
       "<tr><td>0.05799 </td><td>(1, 1, 9)      </td><td>[«0.000:0.741 4C#», «0.741:0.778 4D#», «0.778:1.000 4E»]</td><td>[0, 4, 5]</td><td>gridError=0.0544, rhythmComplexity=0.615, divPenalty=0.051 (0.0005099, divPenalty=0.04, cardinalityPenalty=0.1, numSubdivsPenalty=0, levelPenalty=0) </td></tr>\n",
       "<tr><td>0.058352</td><td>(1, 1, 1, 4)   </td><td>[«0.000:0.750 4C#», «0.750:0.812 4D#», «0.812:1.000 4E»]</td><td>[0, 3, 4]</td><td>gridError=0.0572, rhythmComplexity=0.365, divPenalty=0.02 (0.0002, divPenalty=0.02, cardinalityPenalty=0, numSubdivsPenalty=0, levelPenalty=0)       </td></tr>\n",
       "<tr><td>0.059863</td><td>(1, 8)         </td><td>[«0.000:0.750 4C#», «0.750:0.812 4D#», «0.812:1.000 4E»]</td><td>[0, 5, 6]</td><td>gridError=0.0572, rhythmComplexity=0.548, divPenalty=0.04 (0.0004, divPenalty=0.04, cardinalityPenalty=0, numSubdivsPenalty=0, levelPenalty=0)       </td></tr>\n",
       "<tr><td>0.068918</td><td>(1, 1, 7)      </td><td>[«0.000:0.762 4C#», «0.762:0.810 4D#», «0.810:1.000 4E»]</td><td>[0, 4, 5]</td><td>gridError=0.0665, rhythmComplexity=0.548, divPenalty=0.051 (0.0005099, divPenalty=0.04, cardinalityPenalty=0.1, numSubdivsPenalty=0, levelPenalty=0) </td></tr>\n",
       "<tr><td>0.069125</td><td>(1, 1, 5)      </td><td>[«0.000:0.733 4C#», «0.733:0.800 4D#», «0.800:1.000 4E»]</td><td>[0, 3, 4]</td><td>gridError=0.0661, rhythmComplexity=0.615, divPenalty=0.051 (0.0005099, divPenalty=0.04, cardinalityPenalty=0.1, numSubdivsPenalty=0, levelPenalty=0) </td></tr>\n",
       "<tr><td>0.069164</td><td>(1, 1, 1, 3, 1)</td><td>[«0.000:0.733 4C#», «0.733:0.800 4D#», «0.800:1.000 4E»]</td><td>[0, 5, 6]</td><td>gridError=0.0661, rhythmComplexity=0.615, divPenalty=0.0561 (0.0005612, divPenalty=0.02, cardinalityPenalty=0.1, numSubdivsPenalty=0, levelPenalty=0)</td></tr>\n",
       "<tr><td>0.069471</td><td>(1, 1, 10)     </td><td>[«0.000:0.733 4C#», «0.733:0.800 4D#», «0.800:1.000 4E»]</td><td>[0, 4, 6]</td><td>gridError=0.0661, rhythmComplexity=0.615, divPenalty=0.086 (0.0008602, divPenalty=0.08, cardinalityPenalty=0.1, numSubdivsPenalty=0, levelPenalty=0) </td></tr>\n",
       "<tr><td>0.07096 </td><td>(9,)           </td><td>[«0.000:0.778 4C#», «0.778:grace 4D#», «0.778:1.000 4E»]</td><td>[0, 7, 7]</td><td>gridError=0.0704, rhythmComplexity=0.279, divPenalty=0.02 (0.0002, divPenalty=0.02, cardinalityPenalty=0, numSubdivsPenalty=0, levelPenalty=0)       </td></tr>\n",
       "<tr><td>0.072591</td><td>(1, 1, 3)      </td><td>[«0.000:0.778 4C#», «0.778:grace 4D#», «0.778:1.000 4E»]</td><td>[0, 3, 3]</td><td>gridError=0.0704, rhythmComplexity=0.548, divPenalty=0.04 (0.0004, divPenalty=0.04, cardinalityPenalty=0, numSubdivsPenalty=0, levelPenalty=0)       </td></tr>\n",
       "<tr><td>0.087927</td><td>(1, 1, 1, 1)   </td><td>[«0.000:0.750 4C#», «0.750:grace 4D#», «0.750:1.000 4E»]</td><td>[0, 3, 3]</td><td>gridError=0.0877, rhythmComplexity=0.183, divPenalty=0.02 (0.0002, divPenalty=0.02, cardinalityPenalty=0, numSubdivsPenalty=0, levelPenalty=0)       </td></tr>\n",
       "<tr><td>0.088179</td><td>(4,)           </td><td>[«0.000:0.750 4C#», «0.750:grace 4D#», «0.750:1.000 4E»]</td><td>[0, 3, 3]</td><td>gridError=0.0877, rhythmComplexity=0.279, divPenalty=0.02 (0.0002, divPenalty=0.02, cardinalityPenalty=0, numSubdivsPenalty=0, levelPenalty=0)       </td></tr>\n",
       "<tr><td>0.088737</td><td>(1, 11)        </td><td>[«0.000:0.727 4C#», «0.727:0.773 4D#», «0.773:1.000 4E»]</td><td>[0, 6, 7]</td><td>gridError=0.0857, rhythmComplexity=0.615, divPenalty=0.124 (0.001241, divPenalty=0.12, cardinalityPenalty=0.1, numSubdivsPenalty=0, levelPenalty=0)  </td></tr>\n",
       "<tr><td>0.089498</td><td>(1, 2)         </td><td>[«0.000:0.750 4C#», «0.750:grace 4D#», «0.750:1.000 4E»]</td><td>[0, 2, 2]</td><td>gridError=0.0877, rhythmComplexity=0.548, divPenalty=0.04 (0.0004, divPenalty=0.04, cardinalityPenalty=0, numSubdivsPenalty=0, levelPenalty=0)       </td></tr>\n",
       "</tbody>\n",
       "</table>"
      ],
      "text/plain": [
       "<IPython.core.display.HTML object>"
      ]
     },
     "metadata": {},
     "output_type": "display_data"
    },
    {
     "data": {
      "text/html": [
       "<b>LilypondRenderer</b> (1 part)<br>\n",
       "        <img style=\"display:inline; padding:10px;\n",
       "margin-top:14px;\n",
       "width:345.0\"\n",
       "             src=\"data:image/png;base64,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\"/>"
      ],
      "text/plain": [
       "<maelzel.scoring.renderlily.LilypondRenderer at 0x7f0b70373b50>"
      ]
     },
     "execution_count": 4,
     "metadata": {},
     "output_type": "execute_result"
    }
   ],
   "source": [
    "from maelzel import scoring\n",
    "from maelzel.scorestruct import ScoreStruct\n",
    "\n",
    "notes = [\n",
    "    (60, F(2, 1)),\n",
    "    (61, F(3, 4)),\n",
    "    (63, F(1, 4)*F(1, 6)),\n",
    "    (64, F(1, 4)*F(5, 6)),\n",
    "    # (62, F(3, 4))\n",
    "]\n",
    "\n",
    "notations = [scoring.makeNote(p, d) for p, d in notes]\n",
    "struct = ScoreStruct(timesig='4/4', quarterTempo=70)\n",
    "\n",
    "part = scoring.Part(notations)\n",
    "quantprofile = scoring.quant.makeQuantizationProfile('highest')\n",
    "quantprofile.debug = True\n",
    "quantprofile.debugMaxDivisions = 20\n",
    "quantprofile.rhythmComplexityWeight = 0.001\n",
    "quantprofile.divisionErrorWeight = 0.01\n",
    "qpart = scoring.quant.quantizePart(part, struct=struct, profile=quantprofile)\n",
    "options = scoring.render.RenderOptions()\n",
    "score = scoring.quant.QuantizedScore([qpart])\n",
    "r = scoring.render.renderQuantizedScore(score, options)\n",
    "# qpart.dump()\n",
    "r"
   ]
  },
  {
   "cell_type": "code",
   "execution_count": 6,
   "id": "ae3f62fc-b5c0-4df5-9c1d-4eca3b3370f9",
   "metadata": {},
   "outputs": [
    {
     "name": "stdout",
     "output_type": "stream",
     "text": [
      "85.1 ms ± 3.58 ms per loop (mean ± std. dev. of 7 runs, 10 loops each)\n"
     ]
    }
   ],
   "source": [
    "quantprofile.debug  = False\n",
    "%timeit scoring.quant.quantizePart(part, struct=struct, profile=quantprofile)\n"
   ]
  },
  {
   "cell_type": "code",
   "execution_count": 6,
   "id": "89bb7327-f713-4518-90a8-c4ce42573972",
   "metadata": {},
   "outputs": [],
   "source": [
    "notes = [\n",
    "    (60, F(2, 3)*F(1, 5)),\n",
    "    (61, F(2, 3)*F(1, 5)),\n",
    "    (62, F(2, 3)*F(1, 5)),\n",
    "    (63, F(2, 3)*F(1, 5)),\n",
    "    (64, F(2, 3)*F(1, 5)),\n",
    "    (65, F(2,3)),\n",
    "    #(60, F(2, 7)),\n",
    "    #(61, F(3, 7)),\n",
    "    #(62, F(4, 7))\n",
    "    \n",
    "    \n",
    "    ]\n",
    "\n",
    "notations = [scoring.makeNote(p, d) for p, d in notes]\n",
    "part = scoring.Part(notations)"
   ]
  },
  {
   "cell_type": "code",
   "execution_count": 7,
   "id": "d1dfa8b3-3c26-4baa-9483-11a25f3892ab",
   "metadata": {},
   "outputs": [
    {
     "name": "stdout",
     "output_type": "stream",
     "text": [
      "Beat offset: 0\n",
      "Skipped 66 divisions with a div. penalty > 0.4\n",
      "Best 20 divisions: \n"
     ]
    },
    {
     "data": {
      "text/html": [
       "<table>\n",
       "<thead>\n",
       "<tr><th>error   </th><th>div            </th><th>snapped                                                                                                                </th><th>slots                </th><th>info                                                                                                                                                </th></tr>\n",
       "</thead>\n",
       "<tbody>\n",
       "<tr><td>0.022565</td><td>(5, 5, 1)      </td><td>[«0.000:0.133 4C», «0.133:0.267 4C#», «0.267:0.400 4D», «0.400:0.533 4D#», «0.533:0.667 4E», «0.667:1.000 4F tiedNext»]</td><td>[0, 2, 4, 6, 8, 10]  </td><td>gridError=0, rhythmComplexity=0.707, divPenalty=0.0678 (0.0001356, divPenalty=0.06, cardinalityPenalty=0.1, numSubdivsPenalty=0, levelPenalty=0)    </td></tr>\n",
       "<tr><td>0.022689</td><td>(10, 5, 1)     </td><td>[«0.000:0.133 4C», «0.133:0.267 4C#», «0.267:0.400 4D», «0.400:0.533 4D#», «0.533:0.667 4E», «0.667:1.000 4F tiedNext»]</td><td>[0, 4, 8, 11, 13, 15]</td><td>gridError=0, rhythmComplexity=0.707, divPenalty=0.086 (0.000172, divPenalty=0.08, cardinalityPenalty=0.1, numSubdivsPenalty=0, levelPenalty=0)      </td></tr>\n",
       "<tr><td>0.022689</td><td>(5, 10, 1)     </td><td>[«0.000:0.133 4C», «0.133:0.267 4C#», «0.267:0.400 4D», «0.400:0.533 4D#», «0.533:0.667 4E», «0.667:1.000 4F tiedNext»]</td><td>[0, 2, 4, 7, 11, 15] </td><td>gridError=0, rhythmComplexity=0.707, divPenalty=0.086 (0.000172, divPenalty=0.08, cardinalityPenalty=0.1, numSubdivsPenalty=0, levelPenalty=0)      </td></tr>\n",
       "<tr><td>0.022847</td><td>(10, 10, 1)    </td><td>[«0.000:0.133 4C», «0.133:0.267 4C#», «0.267:0.400 4D», «0.400:0.533 4D#», «0.533:0.667 4E», «0.667:1.000 4F tiedNext»]</td><td>[0, 4, 8, 12, 16, 20]</td><td>gridError=0, rhythmComplexity=0.707, divPenalty=0.105 (0.0002098, divPenalty=0.1, cardinalityPenalty=0.1, numSubdivsPenalty=0, levelPenalty=0)      </td></tr>\n",
       "<tr><td>0.023912</td><td>(3, 3, 3, 3, 1)</td><td>[«0.000:0.133 4C», «0.133:0.267 4C#», «0.267:0.400 4D», «0.400:0.533 4D#», «0.533:0.667 4E», «0.667:1.000 4F tiedNext»]</td><td>[0, 2, 4, 6, 8, 10]  </td><td>gridError=0, rhythmComplexity=0.707, divPenalty=0.189 (0.0003788, divPenalty=0.02, cardinalityPenalty=0.1, numSubdivsPenalty=0, levelPenalty=0)     </td></tr>\n",
       "<tr><td>0.046751</td><td>(3, 3, 3, 5, 1)</td><td>[«0.000:0.133 4C», «0.133:0.267 4C#», «0.267:0.400 4D», «0.400:0.533 4D#», «0.533:0.680 4E», «0.680:1.000 4F tiedNext»]</td><td>[0, 2, 4, 6, 8, 11]  </td><td>gridError=0.04, rhythmComplexity=0.717, divPenalty=0.189 (0.0003788, divPenalty=0.02, cardinalityPenalty=0.1, numSubdivsPenalty=0, levelPenalty=0)  </td></tr>\n",
       "<tr><td>0.046751</td><td>(3, 3, 5, 3, 1)</td><td>[«0.000:0.133 4C», «0.133:0.267 4C#», «0.267:0.400 4D», «0.400:0.520 4D#», «0.520:0.667 4E», «0.667:1.000 4F tiedNext»]</td><td>[0, 2, 4, 6, 9, 12]  </td><td>gridError=0.04, rhythmComplexity=0.717, divPenalty=0.189 (0.0003788, divPenalty=0.02, cardinalityPenalty=0.1, numSubdivsPenalty=0, levelPenalty=0)  </td></tr>\n",
       "<tr><td>0.046751</td><td>(3, 5, 3, 3, 1)</td><td>[«0.000:0.133 4C», «0.133:0.280 4C#», «0.280:0.400 4D», «0.400:0.533 4D#», «0.533:0.667 4E», «0.667:1.000 4F tiedNext»]</td><td>[0, 2, 5, 8, 10, 12] </td><td>gridError=0.04, rhythmComplexity=0.717, divPenalty=0.189 (0.0003788, divPenalty=0.02, cardinalityPenalty=0.1, numSubdivsPenalty=0, levelPenalty=0)  </td></tr>\n",
       "<tr><td>0.046751</td><td>(5, 3, 3, 3, 1)</td><td>[«0.000:0.120 4C», «0.120:0.267 4C#», «0.267:0.400 4D», «0.400:0.533 4D#», «0.533:0.667 4E», «0.667:1.000 4F tiedNext»]</td><td>[0, 3, 6, 8, 10, 12] </td><td>gridError=0.04, rhythmComplexity=0.717, divPenalty=0.189 (0.0003788, divPenalty=0.02, cardinalityPenalty=0.1, numSubdivsPenalty=0, levelPenalty=0)  </td></tr>\n",
       "<tr><td>0.053089</td><td>(3, 3, 3, 4, 1)</td><td>[«0.000:0.133 4C», «0.133:0.267 4C#», «0.267:0.400 4D», «0.400:0.533 4D#», «0.533:0.650 4E», «0.650:1.000 4F tiedNext»]</td><td>[0, 2, 4, 6, 8, 10]  </td><td>gridError=0.0478, rhythmComplexity=0.707, divPenalty=0.126 (0.0002526, divPenalty=0.02, cardinalityPenalty=0.1, numSubdivsPenalty=0, levelPenalty=0)</td></tr>\n",
       "<tr><td>0.053089</td><td>(3, 4, 3, 3, 1)</td><td>[«0.000:0.133 4C», «0.133:0.250 4C#», «0.250:0.400 4D», «0.400:0.533 4D#», «0.533:0.667 4E», «0.667:1.000 4F tiedNext»]</td><td>[0, 2, 4, 7, 9, 11]  </td><td>gridError=0.0478, rhythmComplexity=0.707, divPenalty=0.126 (0.0002526, divPenalty=0.02, cardinalityPenalty=0.1, numSubdivsPenalty=0, levelPenalty=0)</td></tr>\n",
       "<tr><td>0.053089</td><td>(4, 3, 3, 3, 1)</td><td>[«0.000:0.150 4C», «0.150:0.267 4C#», «0.267:0.400 4D», «0.400:0.533 4D#», «0.533:0.667 4E», «0.667:1.000 4F tiedNext»]</td><td>[0, 3, 5, 7, 9, 11]  </td><td>gridError=0.0478, rhythmComplexity=0.707, divPenalty=0.126 (0.0002526, divPenalty=0.02, cardinalityPenalty=0.1, numSubdivsPenalty=0, levelPenalty=0)</td></tr>\n",
       "<tr><td>0.053089</td><td>(3, 3, 4, 3, 1)</td><td>[«0.000:0.133 4C», «0.133:0.267 4C#», «0.267:0.400 4D», «0.400:0.550 4D#», «0.550:0.667 4E», «0.667:1.000 4F tiedNext»]</td><td>[0, 2, 4, 6, 9, 11]  </td><td>gridError=0.0478, rhythmComplexity=0.707, divPenalty=0.126 (0.0002526, divPenalty=0.02, cardinalityPenalty=0.1, numSubdivsPenalty=0, levelPenalty=0)</td></tr>\n",
       "<tr><td>0.06318 </td><td>(5, 8, 1)      </td><td>[«0.000:0.133 4C», «0.133:0.267 4C#», «0.267:0.417 4D», «0.417:0.542 4D#», «0.542:0.667 4E», «0.667:1.000 4F tiedNext»]</td><td>[0, 2, 4, 7, 10, 13] </td><td>gridError=0.059, rhythmComplexity=0.707, divPenalty=0.051 (0.000102, divPenalty=0.04, cardinalityPenalty=0.1, numSubdivsPenalty=0, levelPenalty=0)  </td></tr>\n",
       "<tr><td>0.06318 </td><td>(8, 5, 1)      </td><td>[«0.000:0.125 4C», «0.125:0.250 4C#», «0.250:0.400 4D», «0.400:0.533 4D#», «0.533:0.667 4E», «0.667:1.000 4F tiedNext»]</td><td>[0, 3, 6, 9, 11, 13] </td><td>gridError=0.059, rhythmComplexity=0.707, divPenalty=0.051 (0.000102, divPenalty=0.04, cardinalityPenalty=0.1, numSubdivsPenalty=0, levelPenalty=0)  </td></tr>\n",
       "<tr><td>0.063256</td><td>(10, 8, 1)     </td><td>[«0.000:0.133 4C», «0.133:0.267 4C#», «0.267:0.417 4D», «0.417:0.542 4D#», «0.542:0.667 4E», «0.667:1.000 4F tiedNext»]</td><td>[0, 4, 8, 12, 15, 18]</td><td>gridError=0.059, rhythmComplexity=0.707, divPenalty=0.086 (0.000172, divPenalty=0.08, cardinalityPenalty=0.1, numSubdivsPenalty=0, levelPenalty=0)  </td></tr>\n",
       "<tr><td>0.063256</td><td>(8, 10, 1)     </td><td>[«0.000:0.125 4C», «0.125:0.250 4C#», «0.250:0.400 4D», «0.400:0.533 4D#», «0.533:0.667 4E», «0.667:1.000 4F tiedNext»]</td><td>[0, 3, 6, 10, 14, 18]</td><td>gridError=0.059, rhythmComplexity=0.707, divPenalty=0.086 (0.000172, divPenalty=0.08, cardinalityPenalty=0.1, numSubdivsPenalty=0, levelPenalty=0)  </td></tr>\n",
       "<tr><td>0.06436 </td><td>(9, 5, 1)      </td><td>[«0.000:0.148 4C», «0.148:0.259 4C#», «0.259:0.400 4D», «0.400:0.533 4D#», «0.533:0.667 4E», «0.667:1.000 4F tiedNext»]</td><td>[0, 4, 7, 10, 12, 14]</td><td>gridError=0.0602, rhythmComplexity=0.717, divPenalty=0.051 (0.000102, divPenalty=0.04, cardinalityPenalty=0.1, numSubdivsPenalty=0, levelPenalty=0) </td></tr>\n",
       "<tr><td>0.06436 </td><td>(5, 9, 1)      </td><td>[«0.000:0.133 4C», «0.133:0.267 4C#», «0.267:0.407 4D», «0.407:0.519 4D#», «0.519:0.667 4E», «0.667:1.000 4F tiedNext»]</td><td>[0, 2, 4, 7, 10, 14] </td><td>gridError=0.0602, rhythmComplexity=0.717, divPenalty=0.051 (0.000102, divPenalty=0.04, cardinalityPenalty=0.1, numSubdivsPenalty=0, levelPenalty=0) </td></tr>\n",
       "<tr><td>0.064434</td><td>(9, 10, 1)     </td><td>[«0.000:0.148 4C», «0.148:0.259 4C#», «0.259:0.400 4D», «0.400:0.533 4D#», «0.533:0.667 4E», «0.667:1.000 4F tiedNext»]</td><td>[0, 4, 7, 11, 15, 19]</td><td>gridError=0.0602, rhythmComplexity=0.717, divPenalty=0.086 (0.000172, divPenalty=0.08, cardinalityPenalty=0.1, numSubdivsPenalty=0, levelPenalty=0) </td></tr>\n",
       "</tbody>\n",
       "</table>"
      ],
      "text/plain": [
       "<IPython.core.display.HTML object>"
      ]
     },
     "metadata": {},
     "output_type": "display_data"
    },
    {
     "name": "stdout",
     "output_type": "stream",
     "text": [
      "Beat offset: 1\n",
      "Skipped 66 divisions with a div. penalty > 0.4\n",
      "Best 20 divisions: \n"
     ]
    },
    {
     "data": {
      "text/html": [
       "<table>\n",
       "<thead>\n",
       "<tr><th>error     </th><th>div            </th><th>snapped                                        </th><th>slots  </th><th>info                                                                                                                                                 </th></tr>\n",
       "</thead>\n",
       "<tbody>\n",
       "<tr><td>0.00089443</td><td>(3,)           </td><td>[«0.000:0.333 4F tiedPrev», «0.333:1.000 rest»]</td><td>[0, 1] </td><td>gridError=0, rhythmComplexity=0, divPenalty=0.02 (4e-05, divPenalty=0.02, cardinalityPenalty=0, numSubdivsPenalty=0, levelPenalty=0)                 </td></tr>\n",
       "<tr><td>0.00089443</td><td>(9,)           </td><td>[«0.000:0.333 4F tiedPrev», «0.333:1.000 rest»]</td><td>[0, 3] </td><td>gridError=0, rhythmComplexity=0, divPenalty=0.02 (4e-05, divPenalty=0.02, cardinalityPenalty=0, numSubdivsPenalty=0, levelPenalty=0)                 </td></tr>\n",
       "<tr><td>0.011323  </td><td>(1, 1, 1)      </td><td>[«0.000:0.333 4F tiedPrev», «0.333:1.000 rest»]</td><td>[0, 1] </td><td>gridError=0, rhythmComplexity=0.354, divPenalty=0.04 (8e-05, divPenalty=0.04, cardinalityPenalty=0, numSubdivsPenalty=0, levelPenalty=0)             </td></tr>\n",
       "<tr><td>0.022379  </td><td>(1, 3, 1, 1)   </td><td>[«0.000:0.333 4F tiedPrev», «0.333:1.000 rest»]</td><td>[0, 2] </td><td>gridError=0, rhythmComplexity=0.707, divPenalty=0.02 (4e-05, divPenalty=0.02, cardinalityPenalty=0, numSubdivsPenalty=0, levelPenalty=0)             </td></tr>\n",
       "<tr><td>0.022432  </td><td>(3, 1)         </td><td>[«0.000:0.333 4F tiedPrev», «0.333:1.000 rest»]</td><td>[0, 2] </td><td>gridError=0, rhythmComplexity=0.707, divPenalty=0.04 (8e-05, divPenalty=0.04, cardinalityPenalty=0, numSubdivsPenalty=0, levelPenalty=0)             </td></tr>\n",
       "<tr><td>0.022477  </td><td>(9, 1)         </td><td>[«0.000:0.333 4F tiedPrev», «0.333:1.000 rest»]</td><td>[0, 6] </td><td>gridError=0, rhythmComplexity=0.707, divPenalty=0.051 (0.000102, divPenalty=0.04, cardinalityPenalty=0.1, numSubdivsPenalty=0, levelPenalty=0)       </td></tr>\n",
       "<tr><td>0.022501  </td><td>(1, 3, 1, 1, 1)</td><td>[«0.000:0.333 4F tiedPrev», «0.333:1.000 rest»]</td><td>[0, 3] </td><td>gridError=0, rhythmComplexity=0.707, divPenalty=0.0561 (0.0001122, divPenalty=0.02, cardinalityPenalty=0.1, numSubdivsPenalty=0, levelPenalty=0)     </td></tr>\n",
       "<tr><td>0.040972  </td><td>(1, 5, 1, 1, 1)</td><td>[«0.000:0.320 4F tiedPrev», «0.320:1.000 rest»]</td><td>[0, 4] </td><td>gridError=0.0322, rhythmComplexity=0.791, divPenalty=0.0842 (0.0001684, divPenalty=0.02, cardinalityPenalty=0.1, numSubdivsPenalty=0, levelPenalty=0)</td></tr>\n",
       "<tr><td>0.043271  </td><td>(1, 7, 1, 1)   </td><td>[«0.000:0.321 4F tiedPrev», «0.321:1.000 rest»]</td><td>[0, 3] </td><td>gridError=0.0294, rhythmComplexity=1, divPenalty=0.051 (0.000102, divPenalty=0.04, cardinalityPenalty=0.1, numSubdivsPenalty=0, levelPenalty=0)      </td></tr>\n",
       "<tr><td>0.043947  </td><td>(11, 1)        </td><td>[«0.000:0.318 4F tiedPrev», «0.318:1.000 rest»]</td><td>[0, 7] </td><td>gridError=0.0357, rhythmComplexity=0.791, divPenalty=0.124 (0.0002482, divPenalty=0.12, cardinalityPenalty=0.1, numSubdivsPenalty=0, levelPenalty=0) </td></tr>\n",
       "<tr><td>0.045972  </td><td>(1, 5, 1, 1)   </td><td>[«0.000:0.350 4F tiedPrev», «0.350:1.000 rest»]</td><td>[0, 3] </td><td>gridError=0.0385, rhythmComplexity=0.791, divPenalty=0.0374 (7.483e-05, divPenalty=0.02, cardinalityPenalty=0.1, numSubdivsPenalty=0, levelPenalty=0)</td></tr>\n",
       "<tr><td>0.04601   </td><td>(1, 4, 1, 1, 1)</td><td>[«0.000:0.350 4F tiedPrev», «0.350:1.000 rest»]</td><td>[0, 4] </td><td>gridError=0.0385, rhythmComplexity=0.791, divPenalty=0.0561 (0.0001122, divPenalty=0.02, cardinalityPenalty=0.1, numSubdivsPenalty=0, levelPenalty=0)</td></tr>\n",
       "<tr><td>0.046042  </td><td>(10, 1)        </td><td>[«0.000:0.350 4F tiedPrev», «0.350:1.000 rest»]</td><td>[0, 7] </td><td>gridError=0.0385, rhythmComplexity=0.791, divPenalty=0.0678 (0.0001356, divPenalty=0.06, cardinalityPenalty=0.1, numSubdivsPenalty=0, levelPenalty=0)</td></tr>\n",
       "<tr><td>0.055892  </td><td>(1, 4, 1, 1)   </td><td>[«0.000:0.312 4F tiedPrev», «0.312:1.000 rest»]</td><td>[0, 2] </td><td>gridError=0.0461, rhythmComplexity=1, divPenalty=0.02 (4e-05, divPenalty=0.02, cardinalityPenalty=0, numSubdivsPenalty=0, levelPenalty=0)            </td></tr>\n",
       "<tr><td>0.055913  </td><td>(8, 1)         </td><td>[«0.000:0.312 4F tiedPrev», «0.312:1.000 rest»]</td><td>[0, 5] </td><td>gridError=0.0461, rhythmComplexity=1, divPenalty=0.04 (8e-05, divPenalty=0.04, cardinalityPenalty=0, numSubdivsPenalty=0, levelPenalty=0)            </td></tr>\n",
       "<tr><td>0.060266  </td><td>(7, 1)         </td><td>[«0.000:0.357 4F tiedPrev», «0.357:1.000 rest»]</td><td>[0, 5] </td><td>gridError=0.0513, rhythmComplexity=1, divPenalty=0.04 (8e-05, divPenalty=0.04, cardinalityPenalty=0, numSubdivsPenalty=0, levelPenalty=0)            </td></tr>\n",
       "<tr><td>0.062343  </td><td>(11,)          </td><td>[«0.000:0.364 4F tiedPrev», «0.364:1.000 rest»]</td><td>[0, 4] </td><td>gridError=0.0622, rhythmComplexity=0, divPenalty=0.1 (0.0002, divPenalty=0.1, cardinalityPenalty=0, numSubdivsPenalty=0, levelPenalty=0)             </td></tr>\n",
       "<tr><td>0.067133  </td><td>(10,)          </td><td>[«0.000:0.300 4F tiedPrev», «0.300:1.000 rest»]</td><td>[0, 3] </td><td>gridError=0.0671, rhythmComplexity=0, divPenalty=0.04 (8e-05, divPenalty=0.04, cardinalityPenalty=0, numSubdivsPenalty=0, levelPenalty=0)            </td></tr>\n",
       "<tr><td>0.070773  </td><td>(5, 1)         </td><td>[«0.000:0.300 4F tiedPrev», «0.300:1.000 rest»]</td><td>[0, 3] </td><td>gridError=0.0671, rhythmComplexity=0.707, divPenalty=0.051 (0.000102, divPenalty=0.04, cardinalityPenalty=0.1, numSubdivsPenalty=0, levelPenalty=0)  </td></tr>\n",
       "<tr><td>0.07078   </td><td>(1, 2, 1, 1, 1)</td><td>[«0.000:0.300 4F tiedPrev», «0.300:1.000 rest»]</td><td>[0, 2] </td><td>gridError=0.0671, rhythmComplexity=0.707, divPenalty=0.0561 (0.0001122, divPenalty=0.02, cardinalityPenalty=0.1, numSubdivsPenalty=0, levelPenalty=0)</td></tr>\n",
       "</tbody>\n",
       "</table>"
      ],
      "text/plain": [
       "<IPython.core.display.HTML object>"
      ]
     },
     "metadata": {},
     "output_type": "display_data"
    },
    {
     "data": {
      "text/html": [
       "<b>LilypondRenderer</b> (1 part)<br>\n",
       "        <img style=\"display:inline; padding:10px;\n",
       "margin-top:14px;\n",
       "width:386.0\"\n",
       "             src=\"data:image/png;base64,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\"/>"
      ],
      "text/plain": [
       "<maelzel.scoring.renderlily.LilypondRenderer at 0x7f8a619df250>"
      ]
     },
     "execution_count": 7,
     "metadata": {},
     "output_type": "execute_result"
    }
   ],
   "source": [
    "quantprofile = scoring.quant.makeQuantizationProfile('highest')\n",
    "quantprofile.rhythmComplexityWeight  = 0.001\n",
    "quantprofile.debug=True\n",
    "qpart = scoring.quant.quantizePart(part, struct=struct, profile=quantprofile)\n",
    "options = scoring.render.RenderOptions()\n",
    "score = scoring.quant.QuantizedScore([qpart])\n",
    "r = scoring.render.renderQuantizedScore(score, options)\n",
    "r"
   ]
  },
  {
   "cell_type": "code",
   "execution_count": 9,
   "id": "fc6ca75f-b392-4ab3-9c3c-822aff030289",
   "metadata": {},
   "outputs": [],
   "source": [
    "notes = [\n",
    "    #(60, F(1, 2)),\n",
    "    #(60.5, F(3, 2)),\n",
    "    (61, F(1, 2)),\n",
    "    # (62, F(1, 4)),\n",
    "    (64, F(1, 10)),\n",
    "    (65, F(1, 10)),\n",
    "    (66, F(1, 10)),\n",
    "    (67, F(1, 10)),\n",
    "    (68, F(1, 5)),\n",
    "    (62, F(1, 3)),\n",
    "    \n",
    "    \n",
    "    # (67.5, F(1, 3)*F(8, 7)),   \n",
    "]\n",
    "\n",
    "notations = [scoring.makeNote(p, d) for p, d in notes]\n",
    "part = scoring.Part(notations)"
   ]
  },
  {
   "cell_type": "code",
   "execution_count": 5,
   "id": "da65c93a-ca65-4b0a-85ee-4640011ffbec",
   "metadata": {},
   "outputs": [
    {
     "name": "stdout",
     "output_type": "stream",
     "text": [
      "Beat offset: 0\n",
      "Skipped 21 divisions with a div. penalty > 0.2\n",
      "Best 20 divisions: \n"
     ]
    },
    {
     "data": {
      "text/html": [
       "<table>\n",
       "<thead>\n",
       "<tr><th>error   </th><th>div            </th><th>snapped                                       </th><th>slots  </th><th>info                                                                                                                                                    </th></tr>\n",
       "</thead>\n",
       "<tbody>\n",
       "<tr><td>0.002   </td><td>(3,)           </td><td>[«0.000:0.667 4C#», «0.667:1.000 4E tiedNext»]</td><td>[0, 2] </td><td>gridError=0, rhythmComplexity=0, divPenalty=0.02 (0.0002, divPenalty=0.02, cardinalityPenalty=0, numSubdivsPenalty=0, levelPenalty=0)                   </td></tr>\n",
       "<tr><td>0.002   </td><td>(9,)           </td><td>[«0.000:0.667 4C#», «0.667:1.000 4E tiedNext»]</td><td>[0, 6] </td><td>gridError=0, rhythmComplexity=0, divPenalty=0.02 (0.0002, divPenalty=0.02, cardinalityPenalty=0, numSubdivsPenalty=0, levelPenalty=0)                   </td></tr>\n",
       "<tr><td>0.035763</td><td>(1, 1, 1)      </td><td>[«0.000:0.667 4C#», «0.667:1.000 4E tiedNext»]</td><td>[0, 2] </td><td>gridError=0, rhythmComplexity=0.354, divPenalty=0.0539 (0.0005385, divPenalty=0.02, cardinalityPenalty=0, numSubdivsPenalty=0, levelPenalty=0.05)       </td></tr>\n",
       "<tr><td>0.066485</td><td>(11,)          </td><td>[«0.000:0.636 4C#», «0.636:1.000 4E tiedNext»]</td><td>[0, 7] </td><td>gridError=0.0657, rhythmComplexity=0, divPenalty=0.1 (0.001, divPenalty=0.1, cardinalityPenalty=0, numSubdivsPenalty=0, levelPenalty=0)                 </td></tr>\n",
       "<tr><td>0.070711</td><td>(1, 1, 3, 1)   </td><td>[«0.000:0.667 4C#», «0.667:1.000 4E tiedNext»]</td><td>[0, 4] </td><td>gridError=0, rhythmComplexity=0.707, divPenalty=0 (0, divPenalty=0, cardinalityPenalty=0, numSubdivsPenalty=0, levelPenalty=0)                          </td></tr>\n",
       "<tr><td>0.070824</td><td>(1, 3)         </td><td>[«0.000:0.667 4C#», «0.667:1.000 4E tiedNext»]</td><td>[0, 2] </td><td>gridError=0, rhythmComplexity=0.707, divPenalty=0.04 (0.0004, divPenalty=0.04, cardinalityPenalty=0, numSubdivsPenalty=0, levelPenalty=0)               </td></tr>\n",
       "<tr><td>0.070824</td><td>(1, 9)         </td><td>[«0.000:0.667 4C#», «0.667:1.000 4E tiedNext»]</td><td>[0, 4] </td><td>gridError=0, rhythmComplexity=0.707, divPenalty=0.04 (0.0004, divPenalty=0.04, cardinalityPenalty=0.1, numSubdivsPenalty=0, levelPenalty=0)             </td></tr>\n",
       "<tr><td>0.071107</td><td>(1, 1, 1, 3, 1)</td><td>[«0.000:0.667 4C#», «0.667:1.000 4E tiedNext»]</td><td>[0, 4] </td><td>gridError=0, rhythmComplexity=0.707, divPenalty=0.075 (0.00075, divPenalty=0, cardinalityPenalty=0.1, numSubdivsPenalty=0, levelPenalty=0.05)           </td></tr>\n",
       "<tr><td>0.071387</td><td>(10,)          </td><td>[«0.000:0.700 4C#», «0.700:1.000 4E tiedNext»]</td><td>[0, 7] </td><td>gridError=0.0713, rhythmComplexity=0, divPenalty=0.04 (0.0004, divPenalty=0.04, cardinalityPenalty=0, numSubdivsPenalty=0, levelPenalty=0)              </td></tr>\n",
       "<tr><td>0.088417</td><td>(1, 1, 5, 1)   </td><td>[«0.000:0.650 4C#», «0.650:1.000 4E tiedNext»]</td><td>[0, 5] </td><td>gridError=0.0395, rhythmComplexity=0.791, divPenalty=0.02 (0.0002, divPenalty=0.02, cardinalityPenalty=0.1, numSubdivsPenalty=0, levelPenalty=0)        </td></tr>\n",
       "<tr><td>0.088598</td><td>(1, 10)        </td><td>[«0.000:0.650 4C#», «0.650:1.000 4E tiedNext»]</td><td>[0, 4] </td><td>gridError=0.0395, rhythmComplexity=0.791, divPenalty=0.06 (0.0006, divPenalty=0.06, cardinalityPenalty=0.1, numSubdivsPenalty=0, levelPenalty=0)        </td></tr>\n",
       "<tr><td>0.088763</td><td>(1, 1, 1, 4, 1)</td><td>[«0.000:0.650 4C#», «0.650:1.000 4E tiedNext»]</td><td>[0, 4] </td><td>gridError=0.0395, rhythmComplexity=0.791, divPenalty=0.0808 (0.0008078, divPenalty=0.02, cardinalityPenalty=0.1, numSubdivsPenalty=0, levelPenalty=0.05)</td></tr>\n",
       "<tr><td>0.093154</td><td>(8,)           </td><td>[«0.000:0.625 4C#», «0.625:1.000 4E tiedNext»]</td><td>[0, 5] </td><td>gridError=0.0862, rhythmComplexity=0.354, divPenalty=0.02 (0.0002, divPenalty=0.02, cardinalityPenalty=0, numSubdivsPenalty=0, levelPenalty=0)          </td></tr>\n",
       "<tr><td>0.10048 </td><td>(1, 5)         </td><td>[«0.000:0.700 4C#», «0.700:1.000 4E tiedNext»]</td><td>[0, 3] </td><td>gridError=0.0713, rhythmComplexity=0.707, divPenalty=0.04 (0.0004, divPenalty=0.04, cardinalityPenalty=0.1, numSubdivsPenalty=0, levelPenalty=0)        </td></tr>\n",
       "<tr><td>0.10068 </td><td>(1, 1, 1, 2, 1)</td><td>[«0.000:0.700 4C#», «0.700:1.000 4E tiedNext»]</td><td>[0, 4] </td><td>gridError=0.0713, rhythmComplexity=0.707, divPenalty=0.075 (0.00075, divPenalty=0, cardinalityPenalty=0.1, numSubdivsPenalty=0, levelPenalty=0.05)      </td></tr>\n",
       "<tr><td>0.10281 </td><td>(7,)           </td><td>[«0.000:0.714 4C#», «0.714:1.000 4E tiedNext»]</td><td>[0, 5] </td><td>gridError=0.0965, rhythmComplexity=0.354, divPenalty=0.02 (0.0002, divPenalty=0.02, cardinalityPenalty=0, numSubdivsPenalty=0, levelPenalty=0)          </td></tr>\n",
       "<tr><td>0.11086 </td><td>(1, 1, 4, 1)   </td><td>[«0.000:0.688 4C#», «0.688:1.000 4E tiedNext»]</td><td>[0, 5] </td><td>gridError=0.0478, rhythmComplexity=1, divPenalty=0.02 (0.0002, divPenalty=0.02, cardinalityPenalty=0, numSubdivsPenalty=0, levelPenalty=0)              </td></tr>\n",
       "<tr><td>0.11091 </td><td>(1, 8)         </td><td>[«0.000:0.688 4C#», «0.688:1.000 4E tiedNext»]</td><td>[0, 4] </td><td>gridError=0.0478, rhythmComplexity=1, divPenalty=0.04 (0.0004, divPenalty=0.04, cardinalityPenalty=0, numSubdivsPenalty=0, levelPenalty=0)              </td></tr>\n",
       "<tr><td>0.1135  </td><td>(1, 7)         </td><td>[«0.000:0.643 4C#», «0.643:1.000 4E tiedNext»]</td><td>[0, 3] </td><td>gridError=0.0535, rhythmComplexity=1, divPenalty=0.04 (0.0004, divPenalty=0.04, cardinalityPenalty=0, numSubdivsPenalty=0, levelPenalty=0)              </td></tr>\n",
       "<tr><td>0.11693 </td><td>(1, 1, 2, 1)   </td><td>[«0.000:0.625 4C#», «0.625:1.000 4E tiedNext»]</td><td>[0, 3] </td><td>gridError=0.0862, rhythmComplexity=0.791, divPenalty=0 (0, divPenalty=0, cardinalityPenalty=0, numSubdivsPenalty=0, levelPenalty=0)                     </td></tr>\n",
       "</tbody>\n",
       "</table>"
      ],
      "text/plain": [
       "<IPython.core.display.HTML object>"
      ]
     },
     "metadata": {},
     "output_type": "display_data"
    },
    {
     "name": "stdout",
     "output_type": "stream",
     "text": [
      "Beat offset: 1\n",
      "Skipped 21 divisions with a div. penalty > 0.2\n",
      "Best 20 divisions: \n"
     ]
    },
    {
     "data": {
      "text/html": [
       "<table>\n",
       "<thead>\n",
       "<tr><th>error   </th><th>div            </th><th>snapped                                                         </th><th>slots     </th><th>info                                                                                                                                                    </th></tr>\n",
       "</thead>\n",
       "<tbody>\n",
       "<tr><td>0.002   </td><td>(3,)           </td><td>[«0.000:0.333 4E tiedPrev», «0.333:0.667 4F», «0.667:1.000 4F+»]</td><td>[0, 1, 2] </td><td>gridError=0, rhythmComplexity=0, divPenalty=0.02 (0.0002, divPenalty=0.02, cardinalityPenalty=0, numSubdivsPenalty=0, levelPenalty=0)                   </td></tr>\n",
       "<tr><td>0.002   </td><td>(9,)           </td><td>[«0.000:0.333 4E tiedPrev», «0.333:0.667 4F», «0.667:1.000 4F+»]</td><td>[0, 3, 6] </td><td>gridError=0, rhythmComplexity=0, divPenalty=0.02 (0.0002, divPenalty=0.02, cardinalityPenalty=0, numSubdivsPenalty=0, levelPenalty=0)                   </td></tr>\n",
       "<tr><td>0.024178</td><td>(1, 1, 1)      </td><td>[«0.000:0.333 4E tiedPrev», «0.333:0.667 4F», «0.667:1.000 4F+»]</td><td>[0, 1, 2] </td><td>gridError=0, rhythmComplexity=0.236, divPenalty=0.0539 (0.0005385, divPenalty=0.02, cardinalityPenalty=0, numSubdivsPenalty=0, levelPenalty=0.05)       </td></tr>\n",
       "<tr><td>0.070711</td><td>(1, 3, 3, 1)   </td><td>[«0.000:0.333 4E tiedPrev», «0.333:0.667 4F», «0.667:1.000 4F+»]</td><td>[0, 2, 6] </td><td>gridError=0, rhythmComplexity=0.707, divPenalty=0 (0, divPenalty=0, cardinalityPenalty=0, numSubdivsPenalty=0, levelPenalty=0)                          </td></tr>\n",
       "<tr><td>0.070824</td><td>(3, 3)         </td><td>[«0.000:0.333 4E tiedPrev», «0.333:0.667 4F», «0.667:1.000 4F+»]</td><td>[0, 2, 4] </td><td>gridError=0, rhythmComplexity=0.707, divPenalty=0.04 (0.0004, divPenalty=0.04, cardinalityPenalty=0, numSubdivsPenalty=0, levelPenalty=0)               </td></tr>\n",
       "<tr><td>0.070824</td><td>(9, 3)         </td><td>[«0.000:0.333 4E tiedPrev», «0.333:0.667 4F», «0.667:1.000 4F+»]</td><td>[0, 6, 10]</td><td>gridError=0, rhythmComplexity=0.707, divPenalty=0.04 (0.0004, divPenalty=0.04, cardinalityPenalty=0, numSubdivsPenalty=0, levelPenalty=0)               </td></tr>\n",
       "<tr><td>0.070824</td><td>(3, 9)         </td><td>[«0.000:0.333 4E tiedPrev», «0.333:0.667 4F», «0.667:1.000 4F+»]</td><td>[0, 2, 6] </td><td>gridError=0, rhythmComplexity=0.707, divPenalty=0.04 (0.0004, divPenalty=0.04, cardinalityPenalty=0, numSubdivsPenalty=0, levelPenalty=0)               </td></tr>\n",
       "<tr><td>0.070824</td><td>(9, 9)         </td><td>[«0.000:0.333 4E tiedPrev», «0.333:0.667 4F», «0.667:1.000 4F+»]</td><td>[0, 6, 12]</td><td>gridError=0, rhythmComplexity=0.707, divPenalty=0.04 (0.0004, divPenalty=0.04, cardinalityPenalty=0, numSubdivsPenalty=0, levelPenalty=0)               </td></tr>\n",
       "<tr><td>0.0716  </td><td>(1, 3, 1, 3, 1)</td><td>[«0.000:0.333 4E tiedPrev», «0.333:0.667 4F», «0.667:1.000 4F+»]</td><td>[0, 3, 6] </td><td>gridError=0, rhythmComplexity=0.707, divPenalty=0.113 (0.001125, divPenalty=0, cardinalityPenalty=0.1, numSubdivsPenalty=0, levelPenalty=0.05)          </td></tr>\n",
       "<tr><td>0.084399</td><td>(1, 5, 3, 1)   </td><td>[«0.000:0.350 4E tiedPrev», «0.350:0.667 4F», «0.667:1.000 4F+»]</td><td>[0, 3, 8] </td><td>gridError=0.0395, rhythmComplexity=0.745, divPenalty=0.02 (0.0002, divPenalty=0.02, cardinalityPenalty=0.1, numSubdivsPenalty=0, levelPenalty=0)        </td></tr>\n",
       "<tr><td>0.084399</td><td>(1, 3, 5, 1)   </td><td>[«0.000:0.333 4E tiedPrev», «0.333:0.650 4F», «0.650:1.000 4F+»]</td><td>[0, 2, 7] </td><td>gridError=0.0395, rhythmComplexity=0.745, divPenalty=0.02 (0.0002, divPenalty=0.02, cardinalityPenalty=0.1, numSubdivsPenalty=0, levelPenalty=0)        </td></tr>\n",
       "<tr><td>0.084588</td><td>(10, 3)        </td><td>[«0.000:0.350 4E tiedPrev», «0.350:0.667 4F», «0.667:1.000 4F+»]</td><td>[0, 7, 11]</td><td>gridError=0.0395, rhythmComplexity=0.745, divPenalty=0.06 (0.0006, divPenalty=0.06, cardinalityPenalty=0.1, numSubdivsPenalty=0, levelPenalty=0)        </td></tr>\n",
       "<tr><td>0.084588</td><td>(3, 10)        </td><td>[«0.000:0.333 4E tiedPrev», «0.333:0.650 4F», «0.650:1.000 4F+»]</td><td>[0, 2, 6] </td><td>gridError=0.0395, rhythmComplexity=0.745, divPenalty=0.06 (0.0006, divPenalty=0.06, cardinalityPenalty=0.1, numSubdivsPenalty=0, levelPenalty=0)        </td></tr>\n",
       "<tr><td>0.084588</td><td>(10, 9)        </td><td>[«0.000:0.350 4E tiedPrev», «0.350:0.667 4F», «0.667:1.000 4F+»]</td><td>[0, 7, 13]</td><td>gridError=0.0395, rhythmComplexity=0.745, divPenalty=0.06 (0.0006, divPenalty=0.06, cardinalityPenalty=0.1, numSubdivsPenalty=0, levelPenalty=0)        </td></tr>\n",
       "<tr><td>0.084588</td><td>(9, 10)        </td><td>[«0.000:0.333 4E tiedPrev», «0.333:0.650 4F», «0.650:1.000 4F+»]</td><td>[0, 6, 12]</td><td>gridError=0.0395, rhythmComplexity=0.745, divPenalty=0.06 (0.0006, divPenalty=0.06, cardinalityPenalty=0.1, numSubdivsPenalty=0, levelPenalty=0)        </td></tr>\n",
       "<tr><td>0.084761</td><td>(1, 3, 1, 4, 1)</td><td>[«0.000:0.333 4E tiedPrev», «0.333:0.650 4F», «0.650:1.000 4F+»]</td><td>[0, 3, 6] </td><td>gridError=0.0395, rhythmComplexity=0.745, divPenalty=0.0808 (0.0008078, divPenalty=0.02, cardinalityPenalty=0.1, numSubdivsPenalty=0, levelPenalty=0.05)</td></tr>\n",
       "<tr><td>0.084761</td><td>(1, 4, 1, 3, 1)</td><td>[«0.000:0.350 4E tiedPrev», «0.350:0.667 4F», «0.667:1.000 4F+»]</td><td>[0, 4, 7] </td><td>gridError=0.0395, rhythmComplexity=0.745, divPenalty=0.0808 (0.0008078, divPenalty=0.02, cardinalityPenalty=0.1, numSubdivsPenalty=0, levelPenalty=0.05)</td></tr>\n",
       "<tr><td>0.097525</td><td>(1, 4, 3, 1)   </td><td>[«0.000:0.312 4E tiedPrev», «0.312:0.667 4F», «0.667:1.000 4F+»]</td><td>[0, 2, 7] </td><td>gridError=0.0478, rhythmComplexity=0.85, divPenalty=0.02 (0.0002, divPenalty=0.02, cardinalityPenalty=0, numSubdivsPenalty=0, levelPenalty=0)           </td></tr>\n",
       "<tr><td>0.097525</td><td>(1, 3, 4, 1)   </td><td>[«0.000:0.333 4E tiedPrev», «0.333:0.688 4F», «0.688:1.000 4F+»]</td><td>[0, 2, 7] </td><td>gridError=0.0478, rhythmComplexity=0.85, divPenalty=0.02 (0.0002, divPenalty=0.02, cardinalityPenalty=0, numSubdivsPenalty=0, levelPenalty=0)           </td></tr>\n",
       "<tr><td>0.097587</td><td>(3, 8)         </td><td>[«0.000:0.333 4E tiedPrev», «0.333:0.688 4F», «0.688:1.000 4F+»]</td><td>[0, 2, 6] </td><td>gridError=0.0478, rhythmComplexity=0.85, divPenalty=0.04 (0.0004, divPenalty=0.04, cardinalityPenalty=0, numSubdivsPenalty=0, levelPenalty=0)           </td></tr>\n",
       "</tbody>\n",
       "</table>"
      ],
      "text/plain": [
       "<IPython.core.display.HTML object>"
      ]
     },
     "metadata": {},
     "output_type": "display_data"
    },
    {
     "data": {
      "text/html": [
       "<b>LilypondRenderer</b> (1 part)<br>\n",
       "        <img style=\"display:inline; padding:10px;\n",
       "margin-top:14px;\n",
       "width:292.0\"\n",
       "             src=\"data:image/png;base64,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\"/>"
      ],
      "text/plain": [
       "<maelzel.scoring.renderlily.LilypondRenderer at 0x7f8a619c5d90>"
      ]
     },
     "execution_count": 5,
     "metadata": {},
     "output_type": "execute_result"
    }
   ],
   "source": [
    "quantprofile = scoring.quant.makeQuantizationProfile('high', nestedTuplets=True, divisionErrorWeight=0.01)\n",
    "quantprofile.rhythmComplexityWeight = 0.01\n",
    "quantprofile.debug = True\n",
    "qpart = scoring.quant.quantizePart(part, struct=struct, profile=quantprofile)\n",
    "options = scoring.render.RenderOptions()\n",
    "score = scoring.quant.QuantizedScore([qpart])\n",
    "r = scoring.render.renderQuantizedScore(score, options)\n",
    "r"
   ]
  },
  {
   "cell_type": "code",
   "execution_count": 3,
   "id": "c5d90c78-ca2d-49b1-85f6-25896c4e78cc",
   "metadata": {},
   "outputs": [],
   "source": [
    "from maelzel import scoring\n",
    "from maelzel.common import F\n",
    "from maelzel.scorestruct import ScoreStruct\n",
    "\n",
    "notes = [\n",
    "    (61, F(2, 3)),\n",
    "    (64, F(2, 3)),\n",
    "    (65, F(1, 3)),\n",
    "    (65.5, F(1, 3)),\n",
    "]\n",
    "\n",
    "notations = [scoring.makeNote(p, d) for p, d in notes]\n",
    "part = scoring.Part(notations)"
   ]
  },
  {
   "cell_type": "code",
   "execution_count": 4,
   "id": "868d7a52-c1a8-4b12-b56b-e2183225c7dc",
   "metadata": {},
   "outputs": [
    {
     "name": "stdout",
     "output_type": "stream",
     "text": [
      "Beat offset: 0\n",
      "Skipped 21 divisions with a div. penalty > 0.2\n",
      "Best 20 divisions: \n"
     ]
    },
    {
     "data": {
      "text/html": [
       "<table>\n",
       "<thead>\n",
       "<tr><th>error    </th><th>div            </th><th>snapped                                       </th><th>slots  </th><th>info                                                                                                                                                   </th></tr>\n",
       "</thead>\n",
       "<tbody>\n",
       "<tr><td>0.0044721</td><td>(3,)           </td><td>[«0.000:0.667 4C#», «0.667:1.000 4E tiedNext»]</td><td>[0, 2] </td><td>gridError=0, rhythmComplexity=0, divPenalty=0.02 (0.001, divPenalty=0.02, cardinalityPenalty=0, numSubdivsPenalty=0, levelPenalty=0)                   </td></tr>\n",
       "<tr><td>0.0044721</td><td>(9,)           </td><td>[«0.000:0.667 4C#», «0.667:1.000 4E tiedNext»]</td><td>[0, 6] </td><td>gridError=0, rhythmComplexity=0, divPenalty=0.02 (0.001, divPenalty=0.02, cardinalityPenalty=0, numSubdivsPenalty=0, levelPenalty=0)                   </td></tr>\n",
       "<tr><td>0.016432 </td><td>(1, 1, 1)      </td><td>[«0.000:0.667 4C#», «0.667:1.000 4E tiedNext»]</td><td>[0, 2] </td><td>gridError=0, rhythmComplexity=0.354, divPenalty=0.0539 (0.002693, divPenalty=0.02, cardinalityPenalty=0, numSubdivsPenalty=0, levelPenalty=0.05)       </td></tr>\n",
       "<tr><td>0.022361 </td><td>(1, 1, 3, 1)   </td><td>[«0.000:0.667 4C#», «0.667:1.000 4E tiedNext»]</td><td>[0, 4] </td><td>gridError=0, rhythmComplexity=0.707, divPenalty=0 (0, divPenalty=0, cardinalityPenalty=0, numSubdivsPenalty=0, levelPenalty=0)                         </td></tr>\n",
       "<tr><td>0.024083 </td><td>(1, 3)         </td><td>[«0.000:0.667 4C#», «0.667:1.000 4E tiedNext»]</td><td>[0, 2] </td><td>gridError=0, rhythmComplexity=0.707, divPenalty=0.04 (0.002, divPenalty=0.04, cardinalityPenalty=0, numSubdivsPenalty=0, levelPenalty=0)               </td></tr>\n",
       "<tr><td>0.024083 </td><td>(1, 9)         </td><td>[«0.000:0.667 4C#», «0.667:1.000 4E tiedNext»]</td><td>[0, 4] </td><td>gridError=0, rhythmComplexity=0.707, divPenalty=0.04 (0.002, divPenalty=0.04, cardinalityPenalty=0.1, numSubdivsPenalty=0, levelPenalty=0)             </td></tr>\n",
       "<tr><td>0.027951 </td><td>(1, 1, 1, 3, 1)</td><td>[«0.000:0.667 4C#», «0.667:1.000 4E tiedNext»]</td><td>[0, 4] </td><td>gridError=0, rhythmComplexity=0.707, divPenalty=0.075 (0.00375, divPenalty=0, cardinalityPenalty=0.1, numSubdivsPenalty=0, levelPenalty=0.05)          </td></tr>\n",
       "<tr><td>0.046996 </td><td>(1, 1, 5, 1)   </td><td>[«0.000:0.650 4C#», «0.650:1.000 4E tiedNext»]</td><td>[0, 5] </td><td>gridError=0.0395, rhythmComplexity=0.791, divPenalty=0.02 (0.001, divPenalty=0.02, cardinalityPenalty=0.1, numSubdivsPenalty=0, levelPenalty=0)        </td></tr>\n",
       "<tr><td>0.048668 </td><td>(1, 10)        </td><td>[«0.000:0.650 4C#», «0.650:1.000 4E tiedNext»]</td><td>[0, 4] </td><td>gridError=0.0395, rhythmComplexity=0.791, divPenalty=0.06 (0.003, divPenalty=0.06, cardinalityPenalty=0.1, numSubdivsPenalty=0, levelPenalty=0)        </td></tr>\n",
       "<tr><td>0.050148 </td><td>(1, 1, 1, 4, 1)</td><td>[«0.000:0.650 4C#», «0.650:1.000 4E tiedNext»]</td><td>[0, 4] </td><td>gridError=0.0395, rhythmComplexity=0.791, divPenalty=0.0808 (0.004039, divPenalty=0.02, cardinalityPenalty=0.1, numSubdivsPenalty=0, levelPenalty=0.05)</td></tr>\n",
       "<tr><td>0.057488 </td><td>(1, 1, 4, 1)   </td><td>[«0.000:0.688 4C#», «0.688:1.000 4E tiedNext»]</td><td>[0, 5] </td><td>gridError=0.0478, rhythmComplexity=1, divPenalty=0.02 (0.001, divPenalty=0.02, cardinalityPenalty=0, numSubdivsPenalty=0, levelPenalty=0)              </td></tr>\n",
       "<tr><td>0.058008 </td><td>(1, 8)         </td><td>[«0.000:0.688 4C#», «0.688:1.000 4E tiedNext»]</td><td>[0, 4] </td><td>gridError=0.0478, rhythmComplexity=1, divPenalty=0.04 (0.002, divPenalty=0.04, cardinalityPenalty=0, numSubdivsPenalty=0, levelPenalty=0)              </td></tr>\n",
       "<tr><td>0.062827 </td><td>(1, 7)         </td><td>[«0.000:0.643 4C#», «0.643:1.000 4E tiedNext»]</td><td>[0, 3] </td><td>gridError=0.0535, rhythmComplexity=1, divPenalty=0.04 (0.002, divPenalty=0.04, cardinalityPenalty=0, numSubdivsPenalty=0, levelPenalty=0)              </td></tr>\n",
       "<tr><td>0.069428 </td><td>(11,)          </td><td>[«0.000:0.636 4C#», «0.636:1.000 4E tiedNext»]</td><td>[0, 7] </td><td>gridError=0.0657, rhythmComplexity=0, divPenalty=0.1 (0.005, divPenalty=0.1, cardinalityPenalty=0, numSubdivsPenalty=0, levelPenalty=0)                </td></tr>\n",
       "<tr><td>0.071834 </td><td>(10,)          </td><td>[«0.000:0.700 4C#», «0.700:1.000 4E tiedNext»]</td><td>[0, 7] </td><td>gridError=0.0713, rhythmComplexity=0, divPenalty=0.04 (0.002, divPenalty=0.04, cardinalityPenalty=0, numSubdivsPenalty=0, levelPenalty=0)              </td></tr>\n",
       "<tr><td>0.075234 </td><td>(1, 5)         </td><td>[«0.000:0.700 4C#», «0.700:1.000 4E tiedNext»]</td><td>[0, 3] </td><td>gridError=0.0713, rhythmComplexity=0.707, divPenalty=0.04 (0.002, divPenalty=0.04, cardinalityPenalty=0.1, numSubdivsPenalty=0, levelPenalty=0)        </td></tr>\n",
       "<tr><td>0.07656  </td><td>(1, 1, 1, 2, 1)</td><td>[«0.000:0.700 4C#», «0.700:1.000 4E tiedNext»]</td><td>[0, 4] </td><td>gridError=0.0713, rhythmComplexity=0.707, divPenalty=0.075 (0.00375, divPenalty=0, cardinalityPenalty=0.1, numSubdivsPenalty=0, levelPenalty=0.05)     </td></tr>\n",
       "<tr><td>0.086998 </td><td>(8,)           </td><td>[«0.000:0.625 4C#», «0.625:1.000 4E tiedNext»]</td><td>[0, 5] </td><td>gridError=0.0862, rhythmComplexity=0.354, divPenalty=0.02 (0.001, divPenalty=0.02, cardinalityPenalty=0, numSubdivsPenalty=0, levelPenalty=0)          </td></tr>\n",
       "<tr><td>0.089715 </td><td>(1, 1, 2, 1)   </td><td>[«0.000:0.625 4C#», «0.625:1.000 4E tiedNext»]</td><td>[0, 3] </td><td>gridError=0.0862, rhythmComplexity=0.791, divPenalty=0 (0, divPenalty=0, cardinalityPenalty=0, numSubdivsPenalty=0, levelPenalty=0)                    </td></tr>\n",
       "<tr><td>0.09016  </td><td>(1, 4)         </td><td>[«0.000:0.625 4C#», «0.625:1.000 4E tiedNext»]</td><td>[0, 2] </td><td>gridError=0.0862, rhythmComplexity=0.791, divPenalty=0.04 (0.002, divPenalty=0.04, cardinalityPenalty=0, numSubdivsPenalty=0, levelPenalty=0)          </td></tr>\n",
       "</tbody>\n",
       "</table>"
      ],
      "text/plain": [
       "<IPython.core.display.HTML object>"
      ]
     },
     "metadata": {},
     "output_type": "display_data"
    },
    {
     "name": "stdout",
     "output_type": "stream",
     "text": [
      "Beat offset: 1\n",
      "Skipped 21 divisions with a div. penalty > 0.2\n",
      "Best 20 divisions: \n"
     ]
    },
    {
     "data": {
      "text/html": [
       "<table>\n",
       "<thead>\n",
       "<tr><th>error    </th><th>div            </th><th>snapped                                                         </th><th>slots     </th><th>info                                                                                                                                                   </th></tr>\n",
       "</thead>\n",
       "<tbody>\n",
       "<tr><td>0.0044721</td><td>(3,)           </td><td>[«0.000:0.333 4E tiedPrev», «0.333:0.667 4F», «0.667:1.000 4F+»]</td><td>[0, 1, 2] </td><td>gridError=0, rhythmComplexity=0, divPenalty=0.02 (0.001, divPenalty=0.02, cardinalityPenalty=0, numSubdivsPenalty=0, levelPenalty=0)                   </td></tr>\n",
       "<tr><td>0.0044721</td><td>(9,)           </td><td>[«0.000:0.333 4E tiedPrev», «0.333:0.667 4F», «0.667:1.000 4F+»]</td><td>[0, 3, 6] </td><td>gridError=0, rhythmComplexity=0, divPenalty=0.02 (0.001, divPenalty=0.02, cardinalityPenalty=0, numSubdivsPenalty=0, levelPenalty=0)                   </td></tr>\n",
       "<tr><td>0.014162 </td><td>(1, 1, 1)      </td><td>[«0.000:0.333 4E tiedPrev», «0.333:0.667 4F», «0.667:1.000 4F+»]</td><td>[0, 1, 2] </td><td>gridError=0, rhythmComplexity=0.236, divPenalty=0.0539 (0.002693, divPenalty=0.02, cardinalityPenalty=0, numSubdivsPenalty=0, levelPenalty=0.05)       </td></tr>\n",
       "<tr><td>0.022361 </td><td>(1, 3, 3, 1)   </td><td>[«0.000:0.333 4E tiedPrev», «0.333:0.667 4F», «0.667:1.000 4F+»]</td><td>[0, 2, 6] </td><td>gridError=0, rhythmComplexity=0.707, divPenalty=0 (0, divPenalty=0, cardinalityPenalty=0, numSubdivsPenalty=0, levelPenalty=0)                         </td></tr>\n",
       "<tr><td>0.024083 </td><td>(3, 3)         </td><td>[«0.000:0.333 4E tiedPrev», «0.333:0.667 4F», «0.667:1.000 4F+»]</td><td>[0, 2, 4] </td><td>gridError=0, rhythmComplexity=0.707, divPenalty=0.04 (0.002, divPenalty=0.04, cardinalityPenalty=0, numSubdivsPenalty=0, levelPenalty=0)               </td></tr>\n",
       "<tr><td>0.024083 </td><td>(9, 3)         </td><td>[«0.000:0.333 4E tiedPrev», «0.333:0.667 4F», «0.667:1.000 4F+»]</td><td>[0, 6, 10]</td><td>gridError=0, rhythmComplexity=0.707, divPenalty=0.04 (0.002, divPenalty=0.04, cardinalityPenalty=0, numSubdivsPenalty=0, levelPenalty=0)               </td></tr>\n",
       "<tr><td>0.024083 </td><td>(3, 9)         </td><td>[«0.000:0.333 4E tiedPrev», «0.333:0.667 4F», «0.667:1.000 4F+»]</td><td>[0, 2, 6] </td><td>gridError=0, rhythmComplexity=0.707, divPenalty=0.04 (0.002, divPenalty=0.04, cardinalityPenalty=0, numSubdivsPenalty=0, levelPenalty=0)               </td></tr>\n",
       "<tr><td>0.024083 </td><td>(9, 9)         </td><td>[«0.000:0.333 4E tiedPrev», «0.333:0.667 4F», «0.667:1.000 4F+»]</td><td>[0, 6, 12]</td><td>gridError=0, rhythmComplexity=0.707, divPenalty=0.04 (0.002, divPenalty=0.04, cardinalityPenalty=0, numSubdivsPenalty=0, levelPenalty=0)               </td></tr>\n",
       "<tr><td>0.033657 </td><td>(1, 3, 1, 3, 1)</td><td>[«0.000:0.333 4E tiedPrev», «0.333:0.667 4F», «0.667:1.000 4F+»]</td><td>[0, 3, 6] </td><td>gridError=0, rhythmComplexity=0.707, divPenalty=0.113 (0.005625, divPenalty=0, cardinalityPenalty=0.1, numSubdivsPenalty=0, levelPenalty=0.05)         </td></tr>\n",
       "<tr><td>0.046251 </td><td>(1, 5, 3, 1)   </td><td>[«0.000:0.350 4E tiedPrev», «0.350:0.667 4F», «0.667:1.000 4F+»]</td><td>[0, 3, 8] </td><td>gridError=0.0395, rhythmComplexity=0.745, divPenalty=0.02 (0.001, divPenalty=0.02, cardinalityPenalty=0.1, numSubdivsPenalty=0, levelPenalty=0)        </td></tr>\n",
       "<tr><td>0.046251 </td><td>(1, 3, 5, 1)   </td><td>[«0.000:0.333 4E tiedPrev», «0.333:0.650 4F», «0.650:1.000 4F+»]</td><td>[0, 2, 7] </td><td>gridError=0.0395, rhythmComplexity=0.745, divPenalty=0.02 (0.001, divPenalty=0.02, cardinalityPenalty=0.1, numSubdivsPenalty=0, levelPenalty=0)        </td></tr>\n",
       "<tr><td>0.047949 </td><td>(10, 3)        </td><td>[«0.000:0.350 4E tiedPrev», «0.350:0.667 4F», «0.667:1.000 4F+»]</td><td>[0, 7, 11]</td><td>gridError=0.0395, rhythmComplexity=0.745, divPenalty=0.06 (0.003, divPenalty=0.06, cardinalityPenalty=0.1, numSubdivsPenalty=0, levelPenalty=0)        </td></tr>\n",
       "<tr><td>0.047949 </td><td>(3, 10)        </td><td>[«0.000:0.333 4E tiedPrev», «0.333:0.650 4F», «0.650:1.000 4F+»]</td><td>[0, 2, 6] </td><td>gridError=0.0395, rhythmComplexity=0.745, divPenalty=0.06 (0.003, divPenalty=0.06, cardinalityPenalty=0.1, numSubdivsPenalty=0, levelPenalty=0)        </td></tr>\n",
       "<tr><td>0.047949 </td><td>(10, 9)        </td><td>[«0.000:0.350 4E tiedPrev», «0.350:0.667 4F», «0.667:1.000 4F+»]</td><td>[0, 7, 13]</td><td>gridError=0.0395, rhythmComplexity=0.745, divPenalty=0.06 (0.003, divPenalty=0.06, cardinalityPenalty=0.1, numSubdivsPenalty=0, levelPenalty=0)        </td></tr>\n",
       "<tr><td>0.047949 </td><td>(9, 10)        </td><td>[«0.000:0.333 4E tiedPrev», «0.333:0.650 4F», «0.650:1.000 4F+»]</td><td>[0, 6, 12]</td><td>gridError=0.0395, rhythmComplexity=0.745, divPenalty=0.06 (0.003, divPenalty=0.06, cardinalityPenalty=0.1, numSubdivsPenalty=0, levelPenalty=0)        </td></tr>\n",
       "<tr><td>0.049451 </td><td>(1, 3, 1, 4, 1)</td><td>[«0.000:0.333 4E tiedPrev», «0.333:0.650 4F», «0.650:1.000 4F+»]</td><td>[0, 3, 6] </td><td>gridError=0.0395, rhythmComplexity=0.745, divPenalty=0.0808 (0.004039, divPenalty=0.02, cardinalityPenalty=0.1, numSubdivsPenalty=0, levelPenalty=0.05)</td></tr>\n",
       "<tr><td>0.049451 </td><td>(1, 4, 1, 3, 1)</td><td>[«0.000:0.350 4E tiedPrev», «0.350:0.667 4F», «0.667:1.000 4F+»]</td><td>[0, 4, 7] </td><td>gridError=0.0395, rhythmComplexity=0.745, divPenalty=0.0808 (0.004039, divPenalty=0.02, cardinalityPenalty=0.1, numSubdivsPenalty=0, levelPenalty=0.05)</td></tr>\n",
       "<tr><td>0.055019 </td><td>(1, 4, 3, 1)   </td><td>[«0.000:0.312 4E tiedPrev», «0.312:0.667 4F», «0.667:1.000 4F+»]</td><td>[0, 2, 7] </td><td>gridError=0.0478, rhythmComplexity=0.85, divPenalty=0.02 (0.001, divPenalty=0.02, cardinalityPenalty=0, numSubdivsPenalty=0, levelPenalty=0)           </td></tr>\n",
       "<tr><td>0.055019 </td><td>(1, 3, 4, 1)   </td><td>[«0.000:0.333 4E tiedPrev», «0.333:0.688 4F», «0.688:1.000 4F+»]</td><td>[0, 2, 7] </td><td>gridError=0.0478, rhythmComplexity=0.85, divPenalty=0.02 (0.001, divPenalty=0.02, cardinalityPenalty=0, numSubdivsPenalty=0, levelPenalty=0)           </td></tr>\n",
       "<tr><td>0.055562 </td><td>(3, 8)         </td><td>[«0.000:0.333 4E tiedPrev», «0.333:0.688 4F», «0.688:1.000 4F+»]</td><td>[0, 2, 6] </td><td>gridError=0.0478, rhythmComplexity=0.85, divPenalty=0.04 (0.002, divPenalty=0.04, cardinalityPenalty=0, numSubdivsPenalty=0, levelPenalty=0)           </td></tr>\n",
       "</tbody>\n",
       "</table>"
      ],
      "text/plain": [
       "<IPython.core.display.HTML object>"
      ]
     },
     "metadata": {},
     "output_type": "display_data"
    },
    {
     "data": {
      "text/html": [
       "<b>LilypondRenderer</b> (1 part)<br>\n",
       "        <img style=\"display:inline; padding:10px;\n",
       "margin-top:14px;\n",
       "width:292.0\"\n",
       "             src=\"data:image/png;base64,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\"/>"
      ],
      "text/plain": [
       "<maelzel.scoring.renderlily.LilypondRenderer at 0x7f8a619fbe50>"
      ]
     },
     "execution_count": 4,
     "metadata": {},
     "output_type": "execute_result"
    }
   ],
   "source": [
    "struct = ScoreStruct(timesig='4/4', quarterTempo=60)\n",
    "\n",
    "quantprofile = scoring.quant.makeQuantizationProfile('high', divisionErrorWeight=0.05)\n",
    "quantprofile.debug=True\n",
    "\n",
    "qpart = scoring.quant.quantizePart(part, struct=struct, profile=quantprofile)\n",
    "options = scoring.render.RenderOptions()\n",
    "score = scoring.quant.QuantizedScore([qpart])\n",
    "r = scoring.render.renderQuantizedScore(score, options)\n",
    "r"
   ]
  },
  {
   "cell_type": "code",
   "execution_count": 13,
   "id": "767db0c6-5ecd-4155-8f08-73046eb7ec26",
   "metadata": {},
   "outputs": [
    {
     "data": {
      "text/html": [
       "<code style=\"font-size:0.9em\">Score(1 voices)</code><br>\n",
       "        <img style=\"display:inline; padding:10px;\n",
       "margin-top:14px;\n",
       "width:192px\"\n",
       "             src=\"data:image/png;base64,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\"/>"
      ],
      "text/plain": [
       "Score(1 voices)"
      ]
     },
     "execution_count": 13,
     "metadata": {},
     "output_type": "execute_result"
    }
   ],
   "source": [
    "sco = r.score.toCoreScore()\n",
    "sco"
   ]
  },
  {
   "cell_type": "code",
   "execution_count": 9,
   "id": "bc7cfedd-878d-4048-b138-26a61ca09a43",
   "metadata": {},
   "outputs": [
    {
     "data": {
      "text/html": [
       "<b>LilypondRenderer</b> (1 part)<br>\n",
       "        <img style=\"display:inline; padding:10px;\n",
       "margin-top:14px;\n",
       "width:469.0\"\n",
       "             src=\"data:image/png;base64,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\"/>"
      ],
      "text/plain": [
       "<maelzel.scoring.renderlily.LilypondRenderer at 0x7f0b702f77c0>"
      ]
     },
     "execution_count": 9,
     "metadata": {},
     "output_type": "execute_result"
    }
   ],
   "source": [
    "from maelzel import scoring\n",
    "from maelzel.scorestruct import ScoreStruct\n",
    "from maelzel.common import F\n",
    "\n",
    "notes = [\n",
    "    (60, F(2, 3)),\n",
    "    (63, F(2, 3)*F(1, 5)),\n",
    "    (64, F(2, 3)*F(1, 5)),\n",
    "    (65, F(2, 3)*F(3, 10)),\n",
    "    (66, F(2, 3)*F(1, 5)),\n",
    "    # (67, F(2, 3)*F(1, 5)),  \n",
    "    (61, F(2, 3)),\n",
    "    \n",
    "]\n",
    "\n",
    "notations = [scoring.makeNote(p, d) for p, d in notes]\n",
    "struct = ScoreStruct(timesig='4/4', quarterTempo=70)\n",
    "\n",
    "part = scoring.Part(notations)\n",
    "quantprofile = scoring.quant.makeQuantizationProfile('highest', debug=False, debugMaxDivisions=20, maxDivPenalty=0.1)\n",
    "#quantprofile.rhythmComplexityWeight = 0.001\n",
    "#quantprofile.allowedTupletsAcrossBeat = (3, 5)\n",
    "# quantprofile.minBeatFractionAcrossBeats = 1/8\n",
    "#quantprofile.minSymbolicDurationAcrossBeat = F(1, 3)\n",
    "\n",
    "# quantprofile.divisionErrorWeight = 0.01\n",
    "qpart = scoring.quant.quantizePart(part, struct=struct, profile=quantprofile)\n",
    "options = scoring.render.RenderOptions()\n",
    "score = scoring.quant.QuantizedScore([qpart])\n",
    "r = scoring.render.renderQuantizedScore(score, options)\n",
    "# qpart.dump()\n",
    "# r.write('~/tmp/quant.ly')\n",
    "r"
   ]
  },
  {
   "cell_type": "code",
   "execution_count": 11,
   "id": "87799eeb-f18e-42b9-8eba-e577793dbadb",
   "metadata": {},
   "outputs": [
    {
     "name": "stdout",
     "output_type": "stream",
     "text": [
      " "
     ]
    },
    {
     "data": {
      "text/plain": [
       "         140804 function calls (140773 primitive calls) in 0.111 seconds\n",
       "\n",
       "   Ordered by: internal time\n",
       "\n",
       "   ncalls  tottime  percall  cumtime  percall filename:lineno(function)\n",
       "     2058    0.016    0.000    0.045    0.000 quant.py:486(snapEventsToGrid)\n",
       "     2058    0.014    0.000    0.019    0.000 quantutils.py:98(simplifyDivision)\n",
       "        4    0.013    0.003    0.109    0.027 quant.py:946(quantizeBeat)\n",
       "     8232    0.012    0.000    0.018    0.000 misc.py:185(nearest_index)\n",
       "     6524    0.006    0.000    0.011    0.000 quant.py:267(divisionPenalty)\n",
       "     8232    0.005    0.000    0.005    0.000 {built-in method _bisect.bisect_right}\n",
       "     2058    0.004    0.000    0.023    0.000 quant.py:462(<listcomp>)\n",
       "      208    0.004    0.000    0.007    0.000 quant.py:630(_evalGridError)\n",
       "     8232    0.003    0.000    0.003    0.000 <string>:2(__init__)\n",
       "    26195    0.003    0.000    0.003    0.000 {built-in method builtins.len}\n",
       "     6016    0.003    0.000    0.003    0.000 {built-in method builtins.sorted}\n",
       "     6524    0.003    0.000    0.003    0.000 quant.py:263(<lambda>)\n",
       "    12540    0.002    0.000    0.002    0.000 {method 'get' of 'dict' objects}\n",
       "      208    0.002    0.000    0.007    0.000 quant.py:917(_evalRhythmComplexity)\n",
       "    16883    0.002    0.000    0.002    0.000 {method 'append' of 'list' objects}\n",
       "     8513    0.002    0.000    0.002    0.000 {method 'isdisjoint' of 'set' objects}\n",
       "     2058    0.002    0.000    0.024    0.000 quant.py:461(_fitEventsToGridNearest)\n",
       "     1076    0.001    0.000    0.004    0.000 {built-in method builtins.sum}\n",
       "        5    0.001    0.000    0.004    0.001 {method 'sort' of 'list' objects}\n",
       "     4092    0.001    0.000    0.001    0.000 quantutils.py:116(<genexpr>)\n",
       "     2154    0.001    0.000    0.002    0.000 {built-in method builtins.all}\n",
       "      624    0.001    0.000    0.002    0.000 mathlib.py:267(euclidian_distance)\n",
       "      784    0.001    0.000    0.001    0.000 quant.py:1363(isRegularDuration)\n",
       "      165    0.001    0.000    0.001    0.000 quantutils.py:81(resnap)\n",
       "     1664    0.001    0.000    0.001    0.000 {built-in method builtins.abs}\n",
       "      416    0.001    0.000    0.002    0.000 mathlib.py:286(weighted_euclidian_distance)\n",
       "     1664    0.001    0.000    0.001    0.000 {built-in method _abc._abc_instancecheck}\n",
       "      980    0.001    0.000    0.001    0.000 quant.py:936(<genexpr>)\n",
       "     2288    0.001    0.000    0.001    0.000 mathlib.py:281(<genexpr>)\n",
       "     1664    0.001    0.000    0.001    0.000 abc.py:117(__instancecheck__)\n",
       "      888    0.000    0.000    0.001    0.000 iterlib.py:412(flatten)\n",
       "      237    0.000    0.000    0.001    0.000 iterlib.py:160(pairwise)\n",
       "      237    0.000    0.000    0.000    0.000 {built-in method itertools.tee}\n",
       "     1230    0.000    0.000    0.000    0.000 {built-in method builtins.isinstance}\n",
       "       38    0.000    0.000    0.001    0.000 notation.py:454(copy)\n",
       "       39    0.000    0.000    0.000    0.000 notation.py:93(__init__)\n",
       "      697    0.000    0.000    0.000    0.000 iterlib.py:341(partialsum)\n",
       "      200    0.000    0.000    0.000    0.000 notation.py:412(end)\n",
       "     19/8    0.000    0.000    0.001    0.000 quant.py:1389(breakIrregularDuration)\n",
       "      624    0.000    0.000    0.000    0.000 {built-in method math.sqrt}\n",
       "      692    0.000    0.000    0.000    0.000 {built-in method builtins.hasattr}\n",
       "        1    0.000    0.000    0.001    0.001 quant.py:1478(measureSplitNotationsAtBeats)\n",
       "       32    0.000    0.000    0.001    0.000 notation.py:436(clone)\n",
       "       15    0.000    0.000    0.000    0.000 quant.py:1160(splitNotationAtOffsets)\n",
       "        1    0.000    0.000    0.111    0.111 {built-in method builtins.exec}\n",
       "        1    0.000    0.000    0.110    0.110 quant.py:1606(quantizeMeasure)\n",
       "        3    0.000    0.000    0.000    0.000 core.py:57(__iter__)\n",
       "      208    0.000    0.000    0.000    0.000 {method 'add' of 'set' objects}\n",
       "        1    0.000    0.000    0.111    0.111 quant.py:2074(quantizePart)\n",
       "      237    0.000    0.000    0.000    0.000 {built-in method builtins.next}\n",
       "        4    0.000    0.000    0.000    0.000 quant.py:563(_fillDuration)\n",
       "        6    0.000    0.000    0.000    0.000 quant.py:1654(splitNotationByMeasure)\n",
       "       12    0.000    0.000    0.000    0.000 scorestruct.py:998(beatToLocation)\n",
       "     21/7    0.000    0.000    0.000    0.000 misc.py:1338(istype)\n",
       "       15    0.000    0.000    0.000    0.000 mathlib.py:330(split_interval_at_values)\n",
       "     10/4    0.000    0.000    0.000    0.000 quant.py:1561(_applyDurationRatio)\n",
       "        4    0.000    0.000    0.000    0.000 quant.py:1189(<listcomp>)\n",
       "       66    0.000    0.000    0.000    0.000 notation.py:150(<genexpr>)\n",
       "        2    0.000    0.000    0.004    0.002 quant.py:237(possibleBeatDivisionsByTempo)\n",
       "        5    0.000    0.000    0.000    0.000 util.py:52(measureQuarterDuration)\n",
       "       42    0.000    0.000    0.000    0.000 quant.py:1925(iterNotations)\n",
       "        2    0.000    0.000    0.000    0.000 quant.py:1036(<listcomp>)\n",
       "       40    0.000    0.000    0.000    0.000 mathlib.py:134(fraction_range)\n",
       "       21    0.000    0.000    0.000    0.000 misc.py:1362(<genexpr>)\n",
       "       36    0.000    0.000    0.000    0.000 quant.py:1183(<genexpr>)\n",
       "        2    0.000    0.000    0.000    0.000 quant.py:1997(removeUnnecessaryGracenotes)\n",
       "       14    0.000    0.000    0.000    0.000 quant.py:1530(<genexpr>)\n",
       "        2    0.000    0.000    0.000    0.000 quant.py:1115(<listcomp>)\n",
       "       33    0.000    0.000    0.000    0.000 {method 'copy' of 'list' objects}\n",
       "        1    0.000    0.000    0.000    0.000 quant.py:1717(_removeOverlapInplace)\n",
       "       13    0.000    0.000    0.000    0.000 notation.py:291(removeAttachments)\n",
       "        4    0.000    0.000    0.000    0.000 quant.py:521(isBeatFilled)\n",
       "       12    0.000    0.000    0.000    0.000 scorestruct.py:382(__post_init__)\n",
       "       60    0.000    0.000    0.000    0.000 quant.py:928(<genexpr>)\n",
       "        1    0.000    0.000    0.111    0.111 <string>:1(<module>)\n",
       "        1    0.000    0.000    0.000    0.000 core.py:119(hasGaps)\n",
       "       16    0.000    0.000    0.000    0.000 quant.py:591(<genexpr>)\n",
       "        7    0.000    0.000    0.000    0.000 misc.py:1381(assert_type)\n",
       "        4    0.000    0.000    0.000    0.000 <string>:1(<lambda>)\n",
       "       24    0.000    0.000    0.000    0.000 common.py:18(asF)\n",
       "       14    0.000    0.000    0.000    0.000 quant.py:1017(<genexpr>)\n",
       "        1    0.000    0.000    0.000    0.000 quant.py:2105(<listcomp>)\n",
       "        1    0.000    0.000    0.000    0.000 util.py:161(measureOffsets)\n",
       "       11    0.000    0.000    0.000    0.000 quant.py:1264(_tieNotationParts)\n",
       "       11    0.000    0.000    0.000    0.000 quant.py:1339(_breakIrregularDuration)\n",
       "       56    0.000    0.000    0.000    0.000 {built-in method builtins.setattr}\n",
       "        8    0.000    0.000    0.000    0.000 {built-in method builtins.any}\n",
       "       33    0.000    0.000    0.000    0.000 mathlib.py:69(intersection)\n",
       "       16    0.000    0.000    0.000    0.000 quant.py:585(<genexpr>)\n",
       "        2    0.000    0.000    0.000    0.000 {built-in method builtins.min}\n",
       "        2    0.000    0.000    0.000    0.000 quant.py:1467(isMeasureFilled)\n",
       "        1    0.000    0.000    0.000    0.000 quant.py:2043(_fixTies)\n",
       "       12    0.000    0.000    0.000    0.000 quant.py:927(<listcomp>)\n",
       "        6    0.000    0.000    0.000    0.000 quant.py:1600(<listcomp>)\n",
       "       43    0.000    0.000    0.000    0.000 {built-in method __new__ of type object at 0x8db7c0}\n",
       "        6    0.000    0.000    0.000    0.000 core.py:122(<genexpr>)\n",
       "       40    0.000    0.000    0.000    0.000 notation.py:391(isGraceNote)\n",
       "        7    0.000    0.000    0.000    0.000 quant.py:1629(<genexpr>)\n",
       "        1    0.000    0.000    0.000    0.000 notation.py:898(makeRest)\n",
       "       12    0.000    0.000    0.000    0.000 quant.py:589(<genexpr>)\n",
       "       32    0.000    0.000    0.000    0.000 {method 'pop' of 'dict' objects}\n",
       "       11    0.000    0.000    0.000    0.000 common.py:44(asF)\n",
       "       34    0.000    0.000    0.000    0.000 {method 'items' of 'dict' objects}\n",
       "        1    0.000    0.000    0.000    0.000 quant.py:1513(<listcomp>)\n",
       "        7    0.000    0.000    0.000    0.000 quant.py:1156(<genexpr>)\n",
       "        1    0.000    0.000    0.000    0.000 quant.py:831(check)\n",
       "       19    0.000    0.000    0.000    0.000 {method 'extend' of 'list' objects}\n",
       "       13    0.000    0.000    0.000    0.000 quant.py:773(<genexpr>)\n",
       "       24    0.000    0.000    0.000    0.000 mathlib.py:125(asFraction)\n",
       "        7    0.000    0.000    0.000    0.000 core.py:121(<genexpr>)\n",
       "        1    0.000    0.000    0.000    0.000 quant.py:2028(glissMarkTiedNotesAsHidden)\n",
       "        1    0.000    0.000    0.000    0.000 core.py:212(<listcomp>)\n",
       "       13    0.000    0.000    0.000    0.000 quant.py:1101(<lambda>)\n",
       "        1    0.000    0.000    0.000    0.000 quant.py:1140(_fillMeasure)\n",
       "       12    0.000    0.000    0.000    0.000 quant.py:587(<genexpr>)\n",
       "       15    0.000    0.000    0.000    0.000 quant.py:1470(<genexpr>)\n",
       "        1    0.000    0.000    0.000    0.000 {built-in method builtins.max}\n",
       "        1    0.000    0.000    0.000    0.000 util.py:113(measureBeats)\n",
       "        1    0.000    0.000    0.000    0.000 quant.py:763(notations)\n",
       "        4    0.000    0.000    0.000    0.000 quant.py:696(applyDurationRatios)\n",
       "       14    0.000    0.000    0.000    0.000 quant.py:1864(flatNotations)\n",
       "       14    0.000    0.000    0.000    0.000 quant.py:1529(<genexpr>)\n",
       "       14    0.000    0.000    0.000    0.000 quant.py:1008(<genexpr>)\n",
       "       16    0.000    0.000    0.000    0.000 quant.py:584(<genexpr>)\n",
       "       14    0.000    0.000    0.000    0.000 quant.py:537(<genexpr>)\n",
       "       23    0.000    0.000    0.000    0.000 quant.py:1134(<genexpr>)\n",
       "        8    0.000    0.000    0.000    0.000 quant.py:1504(<genexpr>)\n",
       "        1    0.000    0.000    0.000    0.000 core.py:195(stackNotations)\n",
       "        3    0.000    0.000    0.000    0.000 quant.py:731(isEmpty)\n",
       "       19    0.000    0.000    0.000    0.000 quant.py:1460(<genexpr>)\n",
       "       10    0.000    0.000    0.000    0.000 quant.py:1113(<genexpr>)\n",
       "       14    0.000    0.000    0.000    0.000 quant.py:1202(<genexpr>)\n",
       "       17    0.000    0.000    0.000    0.000 quant.py:626(<genexpr>)\n",
       "        7    0.000    0.000    0.000    0.000 quant.py:2106(<genexpr>)\n",
       "        8    0.000    0.000    0.000    0.000 quant.py:1022(<genexpr>)\n",
       "        7    0.000    0.000    0.000    0.000 core.py:176(<genexpr>)\n",
       "       19    0.000    0.000    0.000    0.000 quant.py:1458(<genexpr>)\n",
       "       13    0.000    0.000    0.000    0.000 notation.py:300(<listcomp>)\n",
       "        4    0.000    0.000    0.000    0.000 quant.py:693(__post_init__)\n",
       "        1    0.000    0.000    0.000    0.000 scorestruct.py:666(getMeasureDef)\n",
       "        4    0.000    0.000    0.000    0.000 quant.py:545(<genexpr>)\n",
       "       14    0.000    0.000    0.000    0.000 quant.py:1013(<genexpr>)\n",
       "       19    0.000    0.000    0.000    0.000 quant.py:1461(<genexpr>)\n",
       "       17    0.000    0.000    0.000    0.000 quant.py:842(<genexpr>)\n",
       "       13    0.000    0.000    0.000    0.000 quant.py:1112(<lambda>)\n",
       "        1    0.000    0.000    0.000    0.000 quant.py:1856(__post_init__)\n",
       "        6    0.000    0.000    0.000    0.000 quant.py:2118(<lambda>)\n",
       "        1    0.000    0.000    0.000    0.000 core.py:108(fillGaps)\n",
       "        1    0.000    0.000    0.000    0.000 core.py:163(stackNotationsInPlace)\n",
       "        8    0.000    0.000    0.000    0.000 quant.py:2051(<genexpr>)\n",
       "        4    0.000    0.000    0.000    0.000 quant.py:1130(<genexpr>)\n",
       "        1    0.000    0.000    0.000    0.000 quant.py:721(__post_init__)\n",
       "        6    0.000    0.000    0.000    0.000 quant.py:735(<genexpr>)\n",
       "        1    0.000    0.000    0.000    0.000 quant.py:2107(<listcomp>)\n",
       "        1    0.000    0.000    0.000    0.000 {method 'disable' of '_lsprof.Profiler' objects}"
      ]
     },
     "metadata": {},
     "output_type": "display_data"
    }
   ],
   "source": [
    "quantprofile.debug  = False\n",
    "%prun scoring.quant.quantizePart(part, struct=struct, profile=quantprofile)\n"
   ]
  },
  {
   "cell_type": "code",
   "execution_count": 12,
   "id": "578fc4e1-97ec-4afd-8a04-7770244589f7",
   "metadata": {},
   "outputs": [
    {
     "name": "stdout",
     "output_type": "stream",
     "text": [
      "Beat offset: 0\n",
      "Skipped 2233 divisions with a div. penalty > 0.1\n",
      "Best 20 divisions: \n"
     ]
    },
    {
     "data": {
      "text/html": [
       "<table>\n",
       "<thead>\n",
       "<tr><th>error    </th><th>div            </th><th>snapped                                                                                                                                                     </th><th>slots                       </th><th>info                                                                                                                                                </th></tr>\n",
       "</thead>\n",
       "<tbody>\n",
       "<tr><td>0.0061456</td><td>(1, 1, 10)     </td><td>[«0.000:0.667 4C», «0.667:0.700 4D#», «0.700:0.733 4E», «0.733:0.833 4F», «0.833:0.867 4F#», «0.867:0.900 4D#», «0.900:0.933 4E», «0.933:1.000 4F tiedNext»]</td><td>[0, 2, 3, 4, 7, 8, 9, 10]   </td><td>gridError=0, rhythmComplexity=0.479, divPenalty=0.086 (0.000172, divPenalty=0.08, cardinalityPenalty=0.1, numSubdivsPenalty=0, levelPenalty=0)      </td></tr>\n",
       "<tr><td>0.071687 </td><td>(1, 1, 1, 3, 6)</td><td>[«0.000:0.667 4C», «0.667:grace 4D#», «0.667:0.733 4E», «0.733:0.833 4F», «0.833:0.867 4F#», «0.867:0.900 4D#», «0.900:0.933 4E», «0.933:1.000 4F tiedNext»]</td><td>[0, 4, 4, 5, 7, 8, 9, 10]   </td><td>gridError=0.0714, rhythmComplexity=0.548, divPenalty=0.0765 (0.000153, divPenalty=0.04, cardinalityPenalty=0.1, numSubdivsPenalty=0, levelPenalty=0)</td></tr>\n",
       "<tr><td>0.083512 </td><td>(1, 1, 1, 4, 6)</td><td>[«0.000:0.650 4C», «0.650:0.700 4D#», «0.700:0.750 4E», «0.750:0.833 4F», «0.833:0.867 4F#», «0.867:0.900 4D#», «0.900:0.933 4E», «0.933:1.000 4F tiedNext»]</td><td>[0, 4, 5, 6, 8, 9, 10, 11]  </td><td>gridError=0.0833, rhythmComplexity=0.558, divPenalty=0.0765 (0.000153, divPenalty=0.04, cardinalityPenalty=0.1, numSubdivsPenalty=0, levelPenalty=0)</td></tr>\n",
       "<tr><td>0.093838 </td><td>(1, 1, 1, 6, 4)</td><td>[«0.000:0.667 4C», «0.667:0.700 4D#», «0.700:0.733 4E», «0.733:0.850 4F», «0.850:grace 4F#», «0.850:0.900 4D#», «0.900:0.950 4E», «0.950:1.000 4F tiedNext»]</td><td>[0, 5, 6, 7, 10, 10, 11, 12]</td><td>gridError=0.0936, rhythmComplexity=0.548, divPenalty=0.0765 (0.000153, divPenalty=0.04, cardinalityPenalty=0.1, numSubdivsPenalty=0, levelPenalty=0)</td></tr>\n",
       "<tr><td>0.10438  </td><td>(1, 1, 1, 2, 6)</td><td>[«0.000:0.700 4C», «0.700:grace 4D#», «0.700:grace 4E», «0.700:0.833 4F», «0.833:0.867 4F#», «0.867:0.900 4D#», «0.900:0.933 4E», «0.933:1.000 4F tiedNext»]</td><td>[0, 4, 4, 4, 6, 7, 8, 9]    </td><td>gridError=0.104, rhythmComplexity=0.548, divPenalty=0.0765 (0.000153, divPenalty=0.04, cardinalityPenalty=0.1, numSubdivsPenalty=0, levelPenalty=0) </td></tr>\n",
       "<tr><td>0.11064  </td><td>(1, 1, 6, 7)   </td><td>[«0.000:0.667 4C», «0.667:0.708 4D#», «0.708:0.750 4E», «0.750:0.821 4F», «0.821:0.857 4F#», «0.857:0.893 4D#», «0.893:0.929 4E», «0.929:1.000 4F tiedNext»]</td><td>[0, 6, 7, 8, 10, 11, 12, 13]</td><td>gridError=0.11, rhythmComplexity=0.548, divPenalty=0.0678 (0.0001356, divPenalty=0.06, cardinalityPenalty=0.1, numSubdivsPenalty=0, levelPenalty=0) </td></tr>\n",
       "<tr><td>0.11371  </td><td>(1, 1, 8)      </td><td>[«0.000:0.667 4C», «0.667:0.708 4D#», «0.708:0.750 4E», «0.750:0.833 4F», «0.833:0.875 4F#», «0.875:0.917 4D#», «0.917:grace 4E», «0.917:1.000 4F tiedNext»]</td><td>[0, 2, 3, 4, 6, 7, 8, 8]    </td><td>gridError=0.114, rhythmComplexity=0.479, divPenalty=0.051 (0.000102, divPenalty=0.04, cardinalityPenalty=0.1, numSubdivsPenalty=0, levelPenalty=0)  </td></tr>\n",
       "<tr><td>0.11375  </td><td>(1, 1, 6, 6)   </td><td>[«0.000:0.667 4C», «0.667:0.708 4D#», «0.708:0.750 4E», «0.750:0.833 4F», «0.833:0.875 4F#», «0.875:0.917 4D#», «0.917:grace 4E», «0.917:1.000 4F tiedNext»]</td><td>[0, 6, 7, 8, 10, 11, 12, 12]</td><td>gridError=0.114, rhythmComplexity=0.548, divPenalty=0.06 (0.00012, divPenalty=0.06, cardinalityPenalty=0, numSubdivsPenalty=0, levelPenalty=0)      </td></tr>\n",
       "<tr><td>0.1153   </td><td>(1, 1, 9)      </td><td>[«0.000:0.667 4C», «0.667:0.704 4D#», «0.704:0.741 4E», «0.741:0.815 4F», «0.815:0.852 4F#», «0.852:0.889 4D#», «0.889:0.926 4E», «0.926:1.000 4F tiedNext»]</td><td>[0, 2, 3, 4, 6, 7, 8, 9]    </td><td>gridError=0.115, rhythmComplexity=0.479, divPenalty=0.051 (0.000102, divPenalty=0.04, cardinalityPenalty=0.1, numSubdivsPenalty=0, levelPenalty=0)  </td></tr>\n",
       "<tr><td>0.11846  </td><td>(1, 1, 6)      </td><td>[«0.000:0.667 4C», «0.667:0.722 4D#», «0.722:grace 4E», «0.722:0.833 4F», «0.833:0.889 4F#», «0.889:grace 4D#», «0.889:0.944 4E», «0.944:1.000 4F tiedNext»]</td><td>[0, 2, 3, 3, 5, 6, 6, 7]    </td><td>gridError=0.118, rhythmComplexity=0.479, divPenalty=0.04 (8e-05, divPenalty=0.04, cardinalityPenalty=0, numSubdivsPenalty=0, levelPenalty=0)        </td></tr>\n",
       "<tr><td>0.1185   </td><td>(1, 9)         </td><td>[«0.000:0.667 4C», «0.667:0.722 4D#», «0.722:grace 4E», «0.722:0.833 4F», «0.833:0.889 4F#», «0.889:grace 4D#», «0.889:0.944 4E», «0.944:1.000 4F tiedNext»]</td><td>[0, 4, 5, 5, 7, 8, 8, 9]    </td><td>gridError=0.118, rhythmComplexity=0.548, divPenalty=0.051 (0.000102, divPenalty=0.04, cardinalityPenalty=0.1, numSubdivsPenalty=0, levelPenalty=0)  </td></tr>\n",
       "<tr><td>0.12392  </td><td>(1, 1, 6, 5)   </td><td>[«0.000:0.667 4C», «0.667:0.708 4D#», «0.708:0.750 4E», «0.750:0.850 4F», «0.850:grace 4F#», «0.850:0.900 4D#», «0.900:0.950 4E», «0.950:1.000 4F tiedNext»]</td><td>[0, 6, 7, 8, 10, 10, 11, 12]</td><td>gridError=0.124, rhythmComplexity=0.548, divPenalty=0.051 (0.000102, divPenalty=0.04, cardinalityPenalty=0.1, numSubdivsPenalty=0, levelPenalty=0)  </td></tr>\n",
       "<tr><td>0.13008  </td><td>(1, 1, 5, 7)   </td><td>[«0.000:0.650 4C», «0.650:0.700 4D#», «0.700:0.750 4E», «0.750:0.821 4F», «0.821:0.857 4F#», «0.857:0.893 4D#», «0.893:0.929 4E», «0.929:1.000 4F tiedNext»]</td><td>[0, 5, 6, 7, 9, 10, 11, 12] </td><td>gridError=0.13, rhythmComplexity=0.558, divPenalty=0.086 (0.000172, divPenalty=0.08, cardinalityPenalty=0.1, numSubdivsPenalty=0, levelPenalty=0)   </td></tr>\n",
       "<tr><td>0.13321  </td><td>(1, 1, 7, 7)   </td><td>[«0.000:0.679 4C», «0.679:0.714 4D#», «0.714:0.750 4E», «0.750:0.821 4F», «0.821:0.857 4F#», «0.857:0.893 4D#», «0.893:0.929 4E», «0.929:1.000 4F tiedNext»]</td><td>[0, 7, 8, 9, 11, 12, 13, 14]</td><td>gridError=0.133, rhythmComplexity=0.558, divPenalty=0.0678 (0.0001356, divPenalty=0.06, cardinalityPenalty=0.1, numSubdivsPenalty=0, levelPenalty=0)</td></tr>\n",
       "<tr><td>0.13377  </td><td>(1, 1, 5, 6)   </td><td>[«0.000:0.650 4C», «0.650:0.700 4D#», «0.700:0.750 4E», «0.750:0.833 4F», «0.833:0.875 4F#», «0.875:0.917 4D#», «0.917:grace 4E», «0.917:1.000 4F tiedNext»]</td><td>[0, 5, 6, 7, 9, 10, 11, 11] </td><td>gridError=0.134, rhythmComplexity=0.558, divPenalty=0.051 (0.000102, divPenalty=0.04, cardinalityPenalty=0.1, numSubdivsPenalty=0, levelPenalty=0)  </td></tr>\n",
       "<tr><td>0.13379  </td><td>(1, 1, 1, 6, 3)</td><td>[«0.000:0.667 4C», «0.667:0.700 4D#», «0.700:0.733 4E», «0.733:0.800 4F», «0.800:0.867 4F#», «0.867:grace 4D#», «0.867:0.933 4E», «0.933:1.000 4F tiedNext»]</td><td>[0, 5, 6, 7, 9, 10, 10, 11] </td><td>gridError=0.134, rhythmComplexity=0.548, divPenalty=0.0765 (0.000153, divPenalty=0.04, cardinalityPenalty=0.1, numSubdivsPenalty=0, levelPenalty=0) </td></tr>\n",
       "<tr><td>0.13558  </td><td>(1, 1, 7, 6)   </td><td>[«0.000:0.679 4C», «0.679:0.714 4D#», «0.714:0.750 4E», «0.750:0.833 4F», «0.833:0.875 4F#», «0.875:0.917 4D#», «0.917:grace 4E», «0.917:1.000 4F tiedNext»]</td><td>[0, 7, 8, 9, 11, 12, 13, 13]</td><td>gridError=0.135, rhythmComplexity=0.558, divPenalty=0.0678 (0.0001356, divPenalty=0.06, cardinalityPenalty=0.1, numSubdivsPenalty=0, levelPenalty=0)</td></tr>\n",
       "<tr><td>0.13779  </td><td>(1, 1, 4, 7)   </td><td>[«0.000:0.688 4C», «0.688:grace 4D#», «0.688:0.750 4E», «0.750:0.821 4F», «0.821:0.857 4F#», «0.857:0.893 4D#», «0.893:0.929 4E», «0.929:1.000 4F tiedNext»]</td><td>[0, 5, 5, 6, 8, 9, 10, 11]  </td><td>gridError=0.138, rhythmComplexity=0.558, divPenalty=0.051 (0.000102, divPenalty=0.04, cardinalityPenalty=0.1, numSubdivsPenalty=0, levelPenalty=0)  </td></tr>\n",
       "<tr><td>0.14069  </td><td>(1, 1, 1, 3, 5)</td><td>[«0.000:0.667 4C», «0.667:grace 4D#», «0.667:0.733 4E», «0.733:0.840 4F», «0.840:0.880 4F#», «0.880:grace 4D#», «0.880:0.920 4E», «0.920:1.000 4F tiedNext»]</td><td>[0, 4, 4, 5, 7, 8, 8, 9]    </td><td>gridError=0.141, rhythmComplexity=0.548, divPenalty=0.0842 (0.0001684, divPenalty=0.02, cardinalityPenalty=0.1, numSubdivsPenalty=0, levelPenalty=0)</td></tr>\n",
       "<tr><td>0.14128  </td><td>(1, 1, 4, 6)   </td><td>[«0.000:0.688 4C», «0.688:grace 4D#», «0.688:0.750 4E», «0.750:0.833 4F», «0.833:0.875 4F#», «0.875:0.917 4D#», «0.917:grace 4E», «0.917:1.000 4F tiedNext»]</td><td>[0, 5, 5, 6, 8, 9, 10, 10]  </td><td>gridError=0.141, rhythmComplexity=0.558, divPenalty=0.04 (8e-05, divPenalty=0.04, cardinalityPenalty=0, numSubdivsPenalty=0, levelPenalty=0)        </td></tr>\n",
       "</tbody>\n",
       "</table>"
      ],
      "text/plain": [
       "<IPython.core.display.HTML object>"
      ]
     },
     "metadata": {},
     "output_type": "display_data"
    },
    {
     "name": "stdout",
     "output_type": "stream",
     "text": [
      "Beat offset: 1\n",
      "Skipped 2233 divisions with a div. penalty > 0.1\n",
      "Best 20 divisions: \n"
     ]
    },
    {
     "data": {
      "text/html": [
       "<table>\n",
       "<thead>\n",
       "<tr><th>error    </th><th>div            </th><th>snapped                                                           </th><th>slots     </th><th>info                                                                                                                                                 </th></tr>\n",
       "</thead>\n",
       "<tbody>\n",
       "<tr><td>0.006261 </td><td>(5, 1, 5)      </td><td>[«0.000:0.067 4F tiedPrev», «0.067:0.733 4C#», «0.733:1.000 rest»]</td><td>[0, 1, 7] </td><td>gridError=0, rhythmComplexity=0.548, divPenalty=0.0678 (0.0001356, divPenalty=0.06, cardinalityPenalty=0.1, numSubdivsPenalty=0, levelPenalty=0)     </td></tr>\n",
       "<tr><td>0.0066464</td><td>(3, 1, 1, 3, 1)</td><td>[«0.000:0.067 4F tiedPrev», «0.067:0.733 4C#», «0.733:1.000 rest»]</td><td>[0, 1, 7] </td><td>gridError=0, rhythmComplexity=0.548, divPenalty=0.0842 (0.0001684, divPenalty=0.02, cardinalityPenalty=0.1, numSubdivsPenalty=0, levelPenalty=0)     </td></tr>\n",
       "<tr><td>0.0066933</td><td>(10, 1, 5)     </td><td>[«0.000:0.067 4F tiedPrev», «0.067:0.733 4C#», «0.733:1.000 rest»]</td><td>[0, 2, 12]</td><td>gridError=0, rhythmComplexity=0.548, divPenalty=0.086 (0.000172, divPenalty=0.08, cardinalityPenalty=0.1, numSubdivsPenalty=0, levelPenalty=0)       </td></tr>\n",
       "<tr><td>0.0066933</td><td>(5, 1, 10)     </td><td>[«0.000:0.067 4F tiedPrev», «0.067:0.733 4C#», «0.733:1.000 rest»]</td><td>[0, 1, 8] </td><td>gridError=0, rhythmComplexity=0.548, divPenalty=0.086 (0.000172, divPenalty=0.08, cardinalityPenalty=0.1, numSubdivsPenalty=0, levelPenalty=0)       </td></tr>\n",
       "<tr><td>0.021187 </td><td>(5, 1, 9)      </td><td>[«0.000:0.067 4F tiedPrev», «0.067:0.741 4C#», «0.741:1.000 rest»]</td><td>[0, 1, 8] </td><td>gridError=0.0201, rhythmComplexity=0.615, divPenalty=0.051 (0.000102, divPenalty=0.04, cardinalityPenalty=0.1, numSubdivsPenalty=0, levelPenalty=0)  </td></tr>\n",
       "<tr><td>0.021412 </td><td>(10, 1, 9)     </td><td>[«0.000:0.067 4F tiedPrev», «0.067:0.741 4C#», «0.741:1.000 rest»]</td><td>[0, 2, 13]</td><td>gridError=0.0201, rhythmComplexity=0.615, divPenalty=0.086 (0.000172, divPenalty=0.08, cardinalityPenalty=0.1, numSubdivsPenalty=0, levelPenalty=0)  </td></tr>\n",
       "<tr><td>0.02584  </td><td>(9, 1, 5)      </td><td>[«0.000:0.074 4F tiedPrev», «0.074:0.733 4C#», «0.733:1.000 rest»]</td><td>[0, 2, 11]</td><td>gridError=0.025, rhythmComplexity=0.615, divPenalty=0.051 (0.000102, divPenalty=0.04, cardinalityPenalty=0.1, numSubdivsPenalty=0, levelPenalty=0)   </td></tr>\n",
       "<tr><td>0.026025 </td><td>(9, 1, 10)     </td><td>[«0.000:0.074 4F tiedPrev», «0.074:0.733 4C#», «0.733:1.000 rest»]</td><td>[0, 2, 12]</td><td>gridError=0.025, rhythmComplexity=0.615, divPenalty=0.086 (0.000172, divPenalty=0.08, cardinalityPenalty=0.1, numSubdivsPenalty=0, levelPenalty=0)   </td></tr>\n",
       "<tr><td>0.029032 </td><td>(5, 1, 6)      </td><td>[«0.000:0.067 4F tiedPrev», «0.067:0.722 4C#», «0.722:1.000 rest»]</td><td>[0, 1, 7] </td><td>gridError=0.0279, rhythmComplexity=0.782, divPenalty=0.051 (0.000102, divPenalty=0.04, cardinalityPenalty=0.1, numSubdivsPenalty=0, levelPenalty=0)  </td></tr>\n",
       "<tr><td>0.029197 </td><td>(10, 1, 6)     </td><td>[«0.000:0.067 4F tiedPrev», «0.067:0.722 4C#», «0.722:1.000 rest»]</td><td>[0, 2, 12]</td><td>gridError=0.0279, rhythmComplexity=0.782, divPenalty=0.086 (0.000172, divPenalty=0.08, cardinalityPenalty=0.1, numSubdivsPenalty=0, levelPenalty=0)  </td></tr>\n",
       "<tr><td>0.031493 </td><td>(9, 1, 9)      </td><td>[«0.000:0.074 4F tiedPrev», «0.074:0.741 4C#», «0.741:1.000 rest»]</td><td>[0, 2, 12]</td><td>gridError=0.0309, rhythmComplexity=0.548, divPenalty=0.0678 (0.0001356, divPenalty=0.06, cardinalityPenalty=0.1, numSubdivsPenalty=0, levelPenalty=0)</td></tr>\n",
       "<tr><td>0.033038 </td><td>(3, 1, 1, 5, 1)</td><td>[«0.000:0.067 4F tiedPrev», «0.067:0.720 4C#», «0.720:1.000 rest»]</td><td>[0, 1, 8] </td><td>gridError=0.0322, rhythmComplexity=0.615, divPenalty=0.0842 (0.0001684, divPenalty=0.02, cardinalityPenalty=0.1, numSubdivsPenalty=0, levelPenalty=0)</td></tr>\n",
       "<tr><td>0.033664 </td><td>(8, 9)         </td><td>[«0.000:0.062 4F tiedPrev», «0.062:0.722 4C#», «0.722:1.000 rest»]</td><td>[0, 1, 12]</td><td>gridError=0.0327, rhythmComplexity=0.782, divPenalty=0.04 (8e-05, divPenalty=0.04, cardinalityPenalty=0, numSubdivsPenalty=0, levelPenalty=0)        </td></tr>\n",
       "<tr><td>0.035187 </td><td>(6, 1, 5)      </td><td>[«0.000:0.056 4F tiedPrev», «0.056:0.733 4C#», «0.733:1.000 rest»]</td><td>[0, 1, 8] </td><td>gridError=0.0346, rhythmComplexity=0.615, divPenalty=0.051 (0.000102, divPenalty=0.04, cardinalityPenalty=0.1, numSubdivsPenalty=0, levelPenalty=0)  </td></tr>\n",
       "<tr><td>0.035323 </td><td>(6, 1, 10)     </td><td>[«0.000:0.056 4F tiedPrev», «0.056:0.733 4C#», «0.733:1.000 rest»]</td><td>[0, 1, 9] </td><td>gridError=0.0346, rhythmComplexity=0.615, divPenalty=0.086 (0.000172, divPenalty=0.08, cardinalityPenalty=0.1, numSubdivsPenalty=0, levelPenalty=0)  </td></tr>\n",
       "<tr><td>0.039111 </td><td>(3, 1, 1, 4, 1)</td><td>[«0.000:0.067 4F tiedPrev», «0.067:0.750 4C#», «0.750:1.000 rest»]</td><td>[0, 1, 8] </td><td>gridError=0.0385, rhythmComplexity=0.615, divPenalty=0.0561 (0.0001122, divPenalty=0.02, cardinalityPenalty=0.1, numSubdivsPenalty=0, levelPenalty=0)</td></tr>\n",
       "<tr><td>0.039148 </td><td>(5, 1, 4)      </td><td>[«0.000:0.067 4F tiedPrev», «0.067:0.750 4C#», «0.750:1.000 rest»]</td><td>[0, 1, 7] </td><td>gridError=0.0385, rhythmComplexity=0.615, divPenalty=0.0678 (0.0001356, divPenalty=0.06, cardinalityPenalty=0.1, numSubdivsPenalty=0, levelPenalty=0)</td></tr>\n",
       "<tr><td>0.03922  </td><td>(10, 1, 4)     </td><td>[«0.000:0.067 4F tiedPrev», «0.067:0.750 4C#», «0.750:1.000 rest»]</td><td>[0, 2, 12]</td><td>gridError=0.0385, rhythmComplexity=0.615, divPenalty=0.086 (0.000172, divPenalty=0.08, cardinalityPenalty=0.1, numSubdivsPenalty=0, levelPenalty=0)  </td></tr>\n",
       "<tr><td>0.040227 </td><td>(7, 9)         </td><td>[«0.000:0.071 4F tiedPrev», «0.071:0.722 4C#», «0.722:1.000 rest»]</td><td>[0, 1, 11]</td><td>gridError=0.0394, rhythmComplexity=0.782, divPenalty=0.051 (0.000102, divPenalty=0.04, cardinalityPenalty=0.1, numSubdivsPenalty=0, levelPenalty=0)  </td></tr>\n",
       "<tr><td>0.040644 </td><td>(5, 1, 1, 3, 1)</td><td>[«0.000:0.080 4F tiedPrev», «0.080:0.733 4C#», «0.733:1.000 rest»]</td><td>[0, 2, 9] </td><td>gridError=0.04, rhythmComplexity=0.615, divPenalty=0.0842 (0.0001684, divPenalty=0.02, cardinalityPenalty=0.1, numSubdivsPenalty=0, levelPenalty=0)  </td></tr>\n",
       "</tbody>\n",
       "</table>"
      ],
      "text/plain": [
       "<IPython.core.display.HTML object>"
      ]
     },
     "metadata": {},
     "output_type": "display_data"
    },
    {
     "data": {
      "text/html": [
       "<b>LilypondRenderer</b> (1 part)<br>\n",
       "        <img style=\"display:inline; padding:10px;\n",
       "margin-top:14px;\n",
       "width:617.0\"\n",
       "             src=\"data:image/png;base64,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\"/>"
      ],
      "text/plain": [
       "<maelzel.scoring.renderlily.LilypondRenderer at 0x7f0b36bfa070>"
      ]
     },
     "execution_count": 12,
     "metadata": {},
     "output_type": "execute_result"
    }
   ],
   "source": [
    "from maelzel import scoring\n",
    "from maelzel.scorestruct import ScoreStruct\n",
    "from maelzel.common import F\n",
    "\n",
    "notes = [\n",
    "    (60, F(2, 3)),\n",
    "    (63, F(2, 3)*F(1, 20)),\n",
    "    (64, F(2, 3)*F(1, 20)),\n",
    "    (65, F(2, 3)*F(3, 20)),\n",
    "    (66, F(2, 3)*F(1, 20)),\n",
    "    (63, F(2, 3)*F(1, 20)),\n",
    "    (64, F(2, 3)*F(1, 20)),\n",
    "    (65, F(2, 3)*F(2, 10)),\n",
    "    (61, F(2, 3)),\n",
    "    \n",
    "]\n",
    "\n",
    "notations = [scoring.makeNote(p, d) for p, d in notes]\n",
    "struct = ScoreStruct(timesig='4/4', quarterTempo=70)\n",
    "\n",
    "part = scoring.Part(notations)\n",
    "quantprofile = scoring.quant.makeQuantizationProfile('highest', debug=True, debugMaxDivisions=20, maxDivPenalty=0.1)\n",
    "quantprofile.maxGridDensity = 32\n",
    "#quantprofile.rhythmComplexityWeight = 0.001\n",
    "#quantprofile.divisionErrorWeight = 0.01\n",
    "quantprofile.minBeatFractionAcrossBeats = F(1, 8)\n",
    "quantprofile.minSymbolicDurationAcrossBeat = F(1, 3)\n",
    "\n",
    "qpart = scoring.quant.quantizePart(part, struct=struct, profile=quantprofile)\n",
    "options = scoring.render.RenderOptions()\n",
    "score = scoring.quant.QuantizedScore([qpart])\n",
    "r = scoring.render.renderQuantizedScore(score, options)\n",
    "# qpart.dump()\n",
    "# r.write('~/tmp/quant.ly')\n",
    "r"
   ]
  },
  {
   "cell_type": "code",
   "execution_count": 14,
   "id": "4bc7ca8f-ea7c-4de6-87e5-a71aed53c355",
   "metadata": {},
   "outputs": [
    {
     "name": "stdout",
     "output_type": "stream",
     "text": [
      "46.3 ms ± 3.01 ms per loop (mean ± std. dev. of 7 runs, 10 loops each)\n"
     ]
    }
   ],
   "source": [
    "quantprofile.debug  = False\n",
    "%timeit scoring.quant.quantizePart(part, struct=struct, profile=quantprofile)\n"
   ]
  },
  {
   "cell_type": "code",
   "execution_count": 15,
   "id": "ef394c1d-6aee-487f-af01-2c82fd69626a",
   "metadata": {},
   "outputs": [
    {
     "name": "stdout",
     "output_type": "stream",
     "text": [
      "Beat offset: 0\n",
      "Skipped 2233 divisions with a div. penalty > 0.1\n",
      "Best 20 divisions: \n"
     ]
    },
    {
     "data": {
      "text/html": [
       "<table>\n",
       "<thead>\n",
       "<tr><th>error    </th><th>div         </th><th>snapped                                                                                     </th><th>slots             </th><th>info                                                                                                                                                 </th></tr>\n",
       "</thead>\n",
       "<tbody>\n",
       "<tr><td>0.0047329</td><td>(1, 4, 2, 4)</td><td>[«0.000:0.250 4C», «0.250:0.438 4D#», «0.438:0.625 4E», «0.625:0.812 4F», «0.812:1.000 4F#»]</td><td>[0, 1, 4, 6, 8]   </td><td>gridError=0, rhythmComplexity=0.438, divPenalty=0.04 (8e-05, divPenalty=0.04, cardinalityPenalty=0, numSubdivsPenalty=0, levelPenalty=0)             </td></tr>\n",
       "<tr><td>0.0057619</td><td>(8, 8)      </td><td>[«0.000:0.250 4C», «0.250:0.438 4D#», «0.438:0.625 4E», «0.625:0.812 4F», «0.812:1.000 4F#»]</td><td>[0, 4, 7, 10, 13] </td><td>gridError=0, rhythmComplexity=0.548, divPenalty=0.04 (8e-05, divPenalty=0.04, cardinalityPenalty=0, numSubdivsPenalty=0, levelPenalty=0)             </td></tr>\n",
       "<tr><td>0.029629 </td><td>(1, 7, 2, 4)</td><td>[«0.000:0.250 4C», «0.250:0.429 4D#», «0.429:0.625 4E», «0.625:0.812 4F», «0.812:1.000 4F#»]</td><td>[0, 1, 6, 9, 11]  </td><td>gridError=0.029, rhythmComplexity=0.551, divPenalty=0.051 (0.000102, divPenalty=0.04, cardinalityPenalty=0.1, numSubdivsPenalty=0, levelPenalty=0)   </td></tr>\n",
       "<tr><td>0.029629 </td><td>(1, 4, 2, 7)</td><td>[«0.000:0.250 4C», «0.250:0.438 4D#», «0.438:0.625 4E», «0.625:0.821 4F», «0.821:1.000 4F#»]</td><td>[0, 1, 4, 6, 9]   </td><td>gridError=0.029, rhythmComplexity=0.551, divPenalty=0.051 (0.000102, divPenalty=0.04, cardinalityPenalty=0.1, numSubdivsPenalty=0, levelPenalty=0)   </td></tr>\n",
       "<tr><td>0.036017 </td><td>(4, 9, 9)   </td><td>[«0.000:0.250 4C», «0.250:0.444 4D#», «0.444:0.630 4E», «0.630:0.815 4F», «0.815:1.000 4F#»]</td><td>[0, 3, 7, 12, 17] </td><td>gridError=0.0351, rhythmComplexity=0.743, divPenalty=0.06 (0.00012, divPenalty=0.06, cardinalityPenalty=0, numSubdivsPenalty=0, levelPenalty=0)      </td></tr>\n",
       "<tr><td>0.038307 </td><td>(1, 4, 2, 5)</td><td>[«0.000:0.250 4C», «0.250:0.438 4D#», «0.438:0.625 4E», «0.625:0.800 4F», «0.800:1.000 4F#»]</td><td>[0, 1, 4, 6, 8]   </td><td>gridError=0.038, rhythmComplexity=0.438, divPenalty=0.051 (0.000102, divPenalty=0.04, cardinalityPenalty=0.1, numSubdivsPenalty=0, levelPenalty=0)   </td></tr>\n",
       "<tr><td>0.038307 </td><td>(1, 5, 2, 4)</td><td>[«0.000:0.250 4C», «0.250:0.450 4D#», «0.450:0.625 4E», «0.625:0.812 4F», «0.812:1.000 4F#»]</td><td>[0, 1, 5, 7, 9]   </td><td>gridError=0.038, rhythmComplexity=0.438, divPenalty=0.051 (0.000102, divPenalty=0.04, cardinalityPenalty=0.1, numSubdivsPenalty=0, levelPenalty=0)   </td></tr>\n",
       "<tr><td>0.038474 </td><td>(10, 8)     </td><td>[«0.000:0.250 4C», «0.250:0.450 4D#», «0.450:0.625 4E», «0.625:0.812 4F», «0.812:1.000 4F#»]</td><td>[0, 5, 9, 12, 15] </td><td>gridError=0.038, rhythmComplexity=0.548, divPenalty=0.06 (0.00012, divPenalty=0.06, cardinalityPenalty=0, numSubdivsPenalty=0, levelPenalty=0)       </td></tr>\n",
       "<tr><td>0.039129 </td><td>(4, 9, 7)   </td><td>[«0.000:0.250 4C», «0.250:0.444 4D#», «0.444:0.630 4E», «0.630:0.810 4F», «0.810:1.000 4F#»]</td><td>[0, 3, 7, 12, 16] </td><td>gridError=0.0385, rhythmComplexity=0.642, divPenalty=0.0678 (0.0001356, divPenalty=0.06, cardinalityPenalty=0.1, numSubdivsPenalty=0, levelPenalty=0)</td></tr>\n",
       "<tr><td>0.042038 </td><td>(4, 10, 9)  </td><td>[«0.000:0.250 4C», «0.250:0.433 4D#», «0.433:0.633 4E», «0.633:0.815 4F», «0.815:1.000 4F#»]</td><td>[0, 3, 7, 13, 18] </td><td>gridError=0.0412, rhythmComplexity=0.743, divPenalty=0.086 (0.000172, divPenalty=0.08, cardinalityPenalty=0.1, numSubdivsPenalty=0, levelPenalty=0)  </td></tr>\n",
       "<tr><td>0.043452 </td><td>(4, 7, 7)   </td><td>[«0.000:0.250 4C», «0.250:0.429 4D#», «0.429:0.619 4E», «0.619:0.810 4F», «0.810:1.000 4F#»]</td><td>[0, 3, 6, 10, 14] </td><td>gridError=0.043, rhythmComplexity=0.573, divPenalty=0.0678 (0.0001356, divPenalty=0.06, cardinalityPenalty=0.1, numSubdivsPenalty=0, levelPenalty=0) </td></tr>\n",
       "<tr><td>0.044328 </td><td>(4, 7, 9)   </td><td>[«0.000:0.250 4C», «0.250:0.429 4D#», «0.429:0.619 4E», «0.619:0.815 4F», «0.815:1.000 4F#»]</td><td>[0, 3, 6, 10, 15] </td><td>gridError=0.0436, rhythmComplexity=0.743, divPenalty=0.0678 (0.0001356, divPenalty=0.06, cardinalityPenalty=0.1, numSubdivsPenalty=0, levelPenalty=0)</td></tr>\n",
       "<tr><td>0.050921 </td><td>(1, 4, 7, 4)</td><td>[«0.000:0.250 4C», «0.250:0.438 4D#», «0.438:0.607 4E», «0.607:0.812 4F», «0.812:1.000 4F#»]</td><td>[0, 1, 4, 8, 13]  </td><td>gridError=0.0505, rhythmComplexity=0.551, divPenalty=0.0678 (0.0001356, divPenalty=0.06, cardinalityPenalty=0.1, numSubdivsPenalty=0, levelPenalty=0)</td></tr>\n",
       "<tr><td>0.05125  </td><td>(1, 7, 2, 7)</td><td>[«0.000:0.250 4C», «0.250:0.429 4D#», «0.429:0.625 4E», «0.625:0.821 4F», «0.821:1.000 4F#»]</td><td>[0, 1, 6, 9, 12]  </td><td>gridError=0.0505, rhythmComplexity=0.8, divPenalty=0.0678 (0.0001356, divPenalty=0.06, cardinalityPenalty=0.1, numSubdivsPenalty=0, levelPenalty=0)  </td></tr>\n",
       "<tr><td>0.052375 </td><td>(9, 9, 9)   </td><td>[«0.000:0.259 4C», «0.259:0.444 4D#», «0.444:0.630 4E», «0.630:0.815 4F», «0.815:1.000 4F#»]</td><td>[0, 7, 12, 17, 22]</td><td>gridError=0.0516, rhythmComplexity=0.865, divPenalty=0.06 (0.00012, divPenalty=0.06, cardinalityPenalty=0, numSubdivsPenalty=0, levelPenalty=0)      </td></tr>\n",
       "<tr><td>0.054877 </td><td>(9, 9, 7)   </td><td>[«0.000:0.259 4C», «0.259:0.444 4D#», «0.444:0.630 4E», «0.630:0.810 4F», «0.810:1.000 4F#»]</td><td>[0, 7, 12, 17, 21]</td><td>gridError=0.0543, rhythmComplexity=0.743, divPenalty=0.0678 (0.0001356, divPenalty=0.06, cardinalityPenalty=0.1, numSubdivsPenalty=0, levelPenalty=0)</td></tr>\n",
       "<tr><td>0.057362 </td><td>(1, 3, 2, 4)</td><td>[«0.000:0.250 4C», «0.250:0.417 4D#», «0.417:0.625 4E», «0.625:0.812 4F», «0.812:1.000 4F#»]</td><td>[0, 1, 3, 5, 7]   </td><td>gridError=0.0572, rhythmComplexity=0.469, divPenalty=0.02 (4e-05, divPenalty=0.02, cardinalityPenalty=0, numSubdivsPenalty=0, levelPenalty=0)        </td></tr>\n",
       "<tr><td>0.057362 </td><td>(1, 4, 2, 3)</td><td>[«0.000:0.250 4C», «0.250:0.438 4D#», «0.438:0.625 4E», «0.625:0.833 4F», «0.833:1.000 4F#»]</td><td>[0, 1, 4, 6, 8]   </td><td>gridError=0.0572, rhythmComplexity=0.469, divPenalty=0.02 (4e-05, divPenalty=0.02, cardinalityPenalty=0, numSubdivsPenalty=0, levelPenalty=0)        </td></tr>\n",
       "<tr><td>0.057383 </td><td>(1, 4, 2, 6)</td><td>[«0.000:0.250 4C», «0.250:0.438 4D#», «0.438:0.625 4E», «0.625:0.792 4F», «0.792:1.000 4F#»]</td><td>[0, 1, 4, 6, 8]   </td><td>gridError=0.0572, rhythmComplexity=0.469, divPenalty=0.04 (8e-05, divPenalty=0.04, cardinalityPenalty=0, numSubdivsPenalty=0, levelPenalty=0)        </td></tr>\n",
       "<tr><td>0.057477 </td><td>(6, 8)      </td><td>[«0.000:0.250 4C», «0.250:0.417 4D#», «0.417:0.625 4E», «0.625:0.812 4F», «0.812:1.000 4F#»]</td><td>[0, 3, 5, 8, 11]  </td><td>gridError=0.0572, rhythmComplexity=0.573, divPenalty=0.04 (8e-05, divPenalty=0.04, cardinalityPenalty=0, numSubdivsPenalty=0, levelPenalty=0)        </td></tr>\n",
       "</tbody>\n",
       "</table>"
      ],
      "text/plain": [
       "<IPython.core.display.HTML object>"
      ]
     },
     "metadata": {},
     "output_type": "display_data"
    },
    {
     "name": "stdout",
     "output_type": "stream",
     "text": [
      "Beat offset: 1\n",
      "Skipped 2233 divisions with a div. penalty > 0.1\n",
      "Best 20 divisions: \n"
     ]
    },
    {
     "data": {
      "text/html": [
       "<table>\n",
       "<thead>\n",
       "<tr><th>error    </th><th>div            </th><th>snapped                                      </th><th>slots  </th><th>info                                                                                                                                                </th></tr>\n",
       "</thead>\n",
       "<tbody>\n",
       "<tr><td>0.0069498</td><td>(4, 1, 1, 1)   </td><td>[«0.000:0.188 4G», «0.188:1.000 4C tiedNext»]</td><td>[0, 3] </td><td>gridError=0, rhythmComplexity=0.689, divPenalty=0.02 (4e-05, divPenalty=0.02, cardinalityPenalty=0, numSubdivsPenalty=0, levelPenalty=0)            </td></tr>\n",
       "<tr><td>0.0071204</td><td>(8, 1)         </td><td>[«0.000:0.188 4G», «0.188:1.000 4C tiedNext»]</td><td>[0, 3] </td><td>gridError=0, rhythmComplexity=0.689, divPenalty=0.04 (8e-05, divPenalty=0.04, cardinalityPenalty=0, numSubdivsPenalty=0, levelPenalty=0)            </td></tr>\n",
       "<tr><td>0.014069 </td><td>(7, 1, 1)      </td><td>[«0.000:0.190 4G», «0.190:1.000 4C tiedNext»]</td><td>[0, 4] </td><td>gridError=0.0121, rhythmComplexity=0.689, divPenalty=0.051 (0.000102, divPenalty=0.04, cardinalityPenalty=0.1, numSubdivsPenalty=0, levelPenalty=0) </td></tr>\n",
       "<tr><td>0.014225 </td><td>(9, 1, 1)      </td><td>[«0.000:0.185 4G», «0.185:1.000 4C tiedNext»]</td><td>[0, 5] </td><td>gridError=0.00986, rhythmComplexity=1, divPenalty=0.051 (0.000102, divPenalty=0.04, cardinalityPenalty=0.1, numSubdivsPenalty=0, levelPenalty=0)    </td></tr>\n",
       "<tr><td>0.021123 </td><td>(11,)          </td><td>[«0.000:0.182 4G», «0.182:1.000 4C tiedNext»]</td><td>[0, 2] </td><td>gridError=0.0202, rhythmComplexity=0.418, divPenalty=0.1 (0.0002, divPenalty=0.1, cardinalityPenalty=0, numSubdivsPenalty=0, levelPenalty=0)        </td></tr>\n",
       "<tr><td>0.030782 </td><td>(7, 1, 1, 1)   </td><td>[«0.000:0.179 4G», «0.179:1.000 4C tiedNext»]</td><td>[0, 5] </td><td>gridError=0.029, rhythmComplexity=1, divPenalty=0.051 (0.000102, divPenalty=0.04, cardinalityPenalty=0.1, numSubdivsPenalty=0, levelPenalty=0)      </td></tr>\n",
       "<tr><td>0.038029 </td><td>(10,)          </td><td>[«0.000:0.200 4G», «0.200:1.000 4C tiedNext»]</td><td>[0, 2] </td><td>gridError=0.038, rhythmComplexity=0, divPenalty=0.04 (8e-05, divPenalty=0.04, cardinalityPenalty=0, numSubdivsPenalty=0, levelPenalty=0)            </td></tr>\n",
       "<tr><td>0.038168 </td><td>(1, 1, 1, 1, 1)</td><td>[«0.000:0.200 4G», «0.200:1.000 4C tiedNext»]</td><td>[0, 1] </td><td>gridError=0.038, rhythmComplexity=0.274, divPenalty=0.0561 (0.0001122, divPenalty=0.02, cardinalityPenalty=0.1, numSubdivsPenalty=0, levelPenalty=0)</td></tr>\n",
       "<tr><td>0.038416 </td><td>(5, 1, 1, 1)   </td><td>[«0.000:0.200 4G», «0.200:1.000 4C tiedNext»]</td><td>[0, 4] </td><td>gridError=0.038, rhythmComplexity=0.548, divPenalty=0.0374 (7.483e-05, divPenalty=0.02, cardinalityPenalty=0.1, numSubdivsPenalty=0, levelPenalty=0)</td></tr>\n",
       "<tr><td>0.038448 </td><td>(5, 1)         </td><td>[«0.000:0.200 4G», «0.200:1.000 4C tiedNext»]</td><td>[0, 2] </td><td>gridError=0.038, rhythmComplexity=0.548, divPenalty=0.051 (0.000102, divPenalty=0.04, cardinalityPenalty=0.1, numSubdivsPenalty=0, levelPenalty=0)  </td></tr>\n",
       "<tr><td>0.038448 </td><td>(5, 1, 1)      </td><td>[«0.000:0.200 4G», «0.200:1.000 4C tiedNext»]</td><td>[0, 3] </td><td>gridError=0.038, rhythmComplexity=0.548, divPenalty=0.051 (0.000102, divPenalty=0.04, cardinalityPenalty=0.1, numSubdivsPenalty=0, levelPenalty=0)  </td></tr>\n",
       "<tr><td>0.0385   </td><td>(10, 1)        </td><td>[«0.000:0.200 4G», «0.200:1.000 4C tiedNext»]</td><td>[0, 4] </td><td>gridError=0.038, rhythmComplexity=0.548, divPenalty=0.0678 (0.0001356, divPenalty=0.06, cardinalityPenalty=0.1, numSubdivsPenalty=0, levelPenalty=0)</td></tr>\n",
       "<tr><td>0.038572 </td><td>(10, 1, 1)     </td><td>[«0.000:0.200 4G», «0.200:1.000 4C tiedNext»]</td><td>[0, 6] </td><td>gridError=0.038, rhythmComplexity=0.548, divPenalty=0.086 (0.000172, divPenalty=0.08, cardinalityPenalty=0.1, numSubdivsPenalty=0, levelPenalty=0)  </td></tr>\n",
       "<tr><td>0.057323 </td><td>(6,)           </td><td>[«0.000:0.167 4G», «0.167:1.000 4C tiedNext»]</td><td>[0, 1] </td><td>gridError=0.0572, rhythmComplexity=0.418, divPenalty=0.02 (4e-05, divPenalty=0.02, cardinalityPenalty=0, numSubdivsPenalty=0, levelPenalty=0)       </td></tr>\n",
       "<tr><td>0.057427 </td><td>(2, 4, 1, 1)   </td><td>[«0.000:0.167 4G», «0.167:1.000 4C tiedNext»]</td><td>[0]    </td><td>gridError=0.0572, rhythmComplexity=0.5, divPenalty=0.051 (0.000102, divPenalty=0.04, cardinalityPenalty=0.1, numSubdivsPenalty=0, levelPenalty=0)   </td></tr>\n",
       "<tr><td>0.057584 </td><td>(3, 1, 1, 1)   </td><td>[«0.000:0.167 4G», «0.167:1.000 4C tiedNext»]</td><td>[0, 2] </td><td>gridError=0.0572, rhythmComplexity=0.689, divPenalty=0.02 (4e-05, divPenalty=0.02, cardinalityPenalty=0, numSubdivsPenalty=0, levelPenalty=0)       </td></tr>\n",
       "<tr><td>0.057605 </td><td>(3, 1)         </td><td>[«0.000:0.167 4G», «0.167:1.000 4C tiedNext»]</td><td>[0, 1] </td><td>gridError=0.0572, rhythmComplexity=0.689, divPenalty=0.04 (8e-05, divPenalty=0.04, cardinalityPenalty=0, numSubdivsPenalty=0, levelPenalty=0)       </td></tr>\n",
       "<tr><td>0.057605 </td><td>(2, 1, 1)      </td><td>[«0.000:0.167 4G», «0.167:1.000 4C tiedNext»]</td><td>[0, 1] </td><td>gridError=0.0572, rhythmComplexity=0.689, divPenalty=0.04 (8e-05, divPenalty=0.04, cardinalityPenalty=0, numSubdivsPenalty=0, levelPenalty=0)       </td></tr>\n",
       "<tr><td>0.057622 </td><td>(9, 1)         </td><td>[«0.000:0.167 4G», «0.167:1.000 4C tiedNext»]</td><td>[0, 3] </td><td>gridError=0.0572, rhythmComplexity=0.689, divPenalty=0.051 (0.000102, divPenalty=0.04, cardinalityPenalty=0.1, numSubdivsPenalty=0, levelPenalty=0) </td></tr>\n",
       "<tr><td>0.070254 </td><td>(7, 1)         </td><td>[«0.000:0.214 4G», «0.214:1.000 4C tiedNext»]</td><td>[0, 3] </td><td>gridError=0.0699, rhythmComplexity=0.689, divPenalty=0.04 (8e-05, divPenalty=0.04, cardinalityPenalty=0, numSubdivsPenalty=0, levelPenalty=0)       </td></tr>\n",
       "</tbody>\n",
       "</table>"
      ],
      "text/plain": [
       "<IPython.core.display.HTML object>"
      ]
     },
     "metadata": {},
     "output_type": "display_data"
    },
    {
     "name": "stdout",
     "output_type": "stream",
     "text": [
      "Beat offset: 2\n",
      "Skipped 2233 divisions with a div. penalty > 0.1\n",
      "Best 20 divisions: \n"
     ]
    },
    {
     "data": {
      "text/html": [
       "<table>\n",
       "<thead>\n",
       "<tr><th>error    </th><th>div            </th><th>snapped                                        </th><th>slots  </th><th>info                                                                                                                                                 </th></tr>\n",
       "</thead>\n",
       "<tbody>\n",
       "<tr><td>0.0069498</td><td>(4, 1, 1, 1)   </td><td>[«0.000:0.188 4C tiedPrev», «0.188:1.000 rest»]</td><td>[0, 3] </td><td>gridError=0, rhythmComplexity=0.689, divPenalty=0.02 (4e-05, divPenalty=0.02, cardinalityPenalty=0, numSubdivsPenalty=0, levelPenalty=0)             </td></tr>\n",
       "<tr><td>0.0071204</td><td>(8, 1)         </td><td>[«0.000:0.188 4C tiedPrev», «0.188:1.000 rest»]</td><td>[0, 3] </td><td>gridError=0, rhythmComplexity=0.689, divPenalty=0.04 (8e-05, divPenalty=0.04, cardinalityPenalty=0, numSubdivsPenalty=0, levelPenalty=0)             </td></tr>\n",
       "<tr><td>0.012127 </td><td>(7, 1, 1)      </td><td>[«0.000:0.190 4C tiedPrev», «0.190:1.000 rest»]</td><td>[0, 4] </td><td>gridError=0.00971, rhythmComplexity=0.689, divPenalty=0.051 (0.000102, divPenalty=0.04, cardinalityPenalty=0.1, numSubdivsPenalty=0, levelPenalty=0) </td></tr>\n",
       "<tr><td>0.012974 </td><td>(9, 1, 1)      </td><td>[«0.000:0.185 4C tiedPrev», «0.185:1.000 rest»]</td><td>[0, 5] </td><td>gridError=0.00794, rhythmComplexity=1, divPenalty=0.051 (0.000102, divPenalty=0.04, cardinalityPenalty=0.1, numSubdivsPenalty=0, levelPenalty=0)     </td></tr>\n",
       "<tr><td>0.017408 </td><td>(11,)          </td><td>[«0.000:0.182 4C tiedPrev», «0.182:1.000 rest»]</td><td>[0, 2] </td><td>gridError=0.0163, rhythmComplexity=0.418, divPenalty=0.1 (0.0002, divPenalty=0.1, cardinalityPenalty=0, numSubdivsPenalty=0, levelPenalty=0)         </td></tr>\n",
       "<tr><td>0.025544 </td><td>(7, 1, 1, 1)   </td><td>[«0.000:0.179 4C tiedPrev», «0.179:1.000 rest»]</td><td>[0, 5] </td><td>gridError=0.0234, rhythmComplexity=1, divPenalty=0.051 (0.000102, divPenalty=0.04, cardinalityPenalty=0.1, numSubdivsPenalty=0, levelPenalty=0)      </td></tr>\n",
       "<tr><td>0.030672 </td><td>(10,)          </td><td>[«0.000:0.200 4C tiedPrev», «0.200:1.000 rest»]</td><td>[0, 2] </td><td>gridError=0.0306, rhythmComplexity=0, divPenalty=0.04 (8e-05, divPenalty=0.04, cardinalityPenalty=0, numSubdivsPenalty=0, levelPenalty=0)            </td></tr>\n",
       "<tr><td>0.030844 </td><td>(1, 1, 1, 1, 1)</td><td>[«0.000:0.200 4C tiedPrev», «0.200:1.000 rest»]</td><td>[0, 1] </td><td>gridError=0.0306, rhythmComplexity=0.274, divPenalty=0.0561 (0.0001122, divPenalty=0.02, cardinalityPenalty=0.1, numSubdivsPenalty=0, levelPenalty=0)</td></tr>\n",
       "<tr><td>0.031151 </td><td>(5, 1, 1, 1)   </td><td>[«0.000:0.200 4C tiedPrev», «0.200:1.000 rest»]</td><td>[0, 4] </td><td>gridError=0.0306, rhythmComplexity=0.548, divPenalty=0.0374 (7.483e-05, divPenalty=0.02, cardinalityPenalty=0.1, numSubdivsPenalty=0, levelPenalty=0)</td></tr>\n",
       "<tr><td>0.031189 </td><td>(5, 1)         </td><td>[«0.000:0.200 4C tiedPrev», «0.200:1.000 rest»]</td><td>[0, 2] </td><td>gridError=0.0306, rhythmComplexity=0.548, divPenalty=0.051 (0.000102, divPenalty=0.04, cardinalityPenalty=0.1, numSubdivsPenalty=0, levelPenalty=0)  </td></tr>\n",
       "<tr><td>0.031189 </td><td>(5, 1, 1)      </td><td>[«0.000:0.200 4C tiedPrev», «0.200:1.000 rest»]</td><td>[0, 3] </td><td>gridError=0.0306, rhythmComplexity=0.548, divPenalty=0.051 (0.000102, divPenalty=0.04, cardinalityPenalty=0.1, numSubdivsPenalty=0, levelPenalty=0)  </td></tr>\n",
       "<tr><td>0.031253 </td><td>(10, 1)        </td><td>[«0.000:0.200 4C tiedPrev», «0.200:1.000 rest»]</td><td>[0, 4] </td><td>gridError=0.0306, rhythmComplexity=0.548, divPenalty=0.0678 (0.0001356, divPenalty=0.06, cardinalityPenalty=0.1, numSubdivsPenalty=0, levelPenalty=0)</td></tr>\n",
       "<tr><td>0.031343 </td><td>(10, 1, 1)     </td><td>[«0.000:0.200 4C tiedPrev», «0.200:1.000 rest»]</td><td>[0, 6] </td><td>gridError=0.0306, rhythmComplexity=0.548, divPenalty=0.086 (0.000172, divPenalty=0.08, cardinalityPenalty=0.1, numSubdivsPenalty=0, levelPenalty=0)  </td></tr>\n",
       "<tr><td>0.046275 </td><td>(6,)           </td><td>[«0.000:0.167 4C tiedPrev», «0.167:1.000 rest»]</td><td>[0, 1] </td><td>gridError=0.0461, rhythmComplexity=0.418, divPenalty=0.02 (4e-05, divPenalty=0.02, cardinalityPenalty=0, numSubdivsPenalty=0, levelPenalty=0)        </td></tr>\n",
       "<tr><td>0.046403 </td><td>(2, 4, 1, 1)   </td><td>[«0.000:0.167 4C tiedPrev», «0.167:1.000 rest»]</td><td>[0]    </td><td>gridError=0.0461, rhythmComplexity=0.5, divPenalty=0.051 (0.000102, divPenalty=0.04, cardinalityPenalty=0.1, numSubdivsPenalty=0, levelPenalty=0)    </td></tr>\n",
       "<tr><td>0.046598 </td><td>(3, 1, 1, 1)   </td><td>[«0.000:0.167 4C tiedPrev», «0.167:1.000 rest»]</td><td>[0, 2] </td><td>gridError=0.0461, rhythmComplexity=0.689, divPenalty=0.02 (4e-05, divPenalty=0.02, cardinalityPenalty=0, numSubdivsPenalty=0, levelPenalty=0)        </td></tr>\n",
       "<tr><td>0.046624 </td><td>(3, 1)         </td><td>[«0.000:0.167 4C tiedPrev», «0.167:1.000 rest»]</td><td>[0, 1] </td><td>gridError=0.0461, rhythmComplexity=0.689, divPenalty=0.04 (8e-05, divPenalty=0.04, cardinalityPenalty=0, numSubdivsPenalty=0, levelPenalty=0)        </td></tr>\n",
       "<tr><td>0.046624 </td><td>(2, 1, 1)      </td><td>[«0.000:0.167 4C tiedPrev», «0.167:1.000 rest»]</td><td>[0, 1] </td><td>gridError=0.0461, rhythmComplexity=0.689, divPenalty=0.04 (8e-05, divPenalty=0.04, cardinalityPenalty=0, numSubdivsPenalty=0, levelPenalty=0)        </td></tr>\n",
       "<tr><td>0.046645 </td><td>(9, 1)         </td><td>[«0.000:0.167 4C tiedPrev», «0.167:1.000 rest»]</td><td>[0, 3] </td><td>gridError=0.0461, rhythmComplexity=0.689, divPenalty=0.051 (0.000102, divPenalty=0.04, cardinalityPenalty=0.1, numSubdivsPenalty=0, levelPenalty=0)  </td></tr>\n",
       "<tr><td>0.056786 </td><td>(7, 1)         </td><td>[«0.000:0.214 4C tiedPrev», «0.214:1.000 rest»]</td><td>[0, 3] </td><td>gridError=0.0563, rhythmComplexity=0.689, divPenalty=0.04 (8e-05, divPenalty=0.04, cardinalityPenalty=0, numSubdivsPenalty=0, levelPenalty=0)        </td></tr>\n",
       "</tbody>\n",
       "</table>"
      ],
      "text/plain": [
       "<IPython.core.display.HTML object>"
      ]
     },
     "metadata": {},
     "output_type": "display_data"
    },
    {
     "data": {
      "text/html": [
       "<b>LilypondRenderer</b> (1 part)<br>\n",
       "        <img style=\"display:inline; padding:10px;\n",
       "margin-top:14px;\n",
       "width:513.0\"\n",
       "             src=\"data:image/png;base64,iVBORw0KGgoAAAANSUhEUgAAAgEAAAA/CAIAAAD2a4zCAAAJLmlDQ1BJQ0MgUHJvZmlsZQAAeJyVlWdQk1kXx+/zPOmFQBJCh1BDkSolgJQQWijSq6hA6J1QRWyIuAIriog0RZBFARdclSJrRRQLi4ICFnSDLALKunEVUUFZcN8ZnfcdP7z/mXvPb/5z5t5zz/lwASCIg2XBy3tiUrrA28mOGRgUzATfKIyflsLx9HQD39W7EQCtxHu638/5rggRkWn85bi4vHL5KYJ0AKDsZdbMSk9Z4aPLTA+P/8JnV1iwXOAy31jh6H957EvOvyz6kuPrzV1+FQoAHCn6Gw7/hv9z74pUOIL02KjIbKZPclR6Vpggkpm20gkel8v0FCRHxSZEflPw/5X8HaVHZqevRG5yyiZBbHRMOvN/DjUyMDQEX2fxxutLjyFG/3/PZ0VfveR6ANhzACD7vnrhlQB07gJA+tFXT225r5R8ADru8DMEmf96qJUNDQiAAuhABigCVaAJdIERMAOWwBY4ABfgAXxBENgA+CAGJAIByAK5YAcoAEVgHzgIqkAtaABNoBWcBp3gPLgCroPb4C4YBo+BEEyCl0AE3oEFCIKwEBmiQTKQEqQO6UBGEBuyhhwgN8gbCoJCoWgoCcqAcqGdUBFUClVBdVAT9At0DroC3YQGoYfQODQD/Q19hBGYBNNhBVgD1ofZMAd2hX3h9XA0nArnwPnwXrgCrodPwh3wFfg2PAwL4ZfwHAIQIsJAlBFdhI1wEQ8kGIlCBMhWpBApR+qRVqQb6UPuIUJkFvmAwqBoKCZKF2WJckb5ofioVNRWVDGqCnUC1YHqRd1DjaNEqM9oMloerYO2QPPQgehodBa6AF2ObkS3o6+hh9GT6HcYDIaBYWHMMM6YIEwcZjOmGHMY04a5jBnETGDmsFisDFYHa4X1wIZh07EF2ErsSewl7BB2EvseR8Qp4YxwjrhgXBIuD1eOa8ZdxA3hpnALeHG8Ot4C74GPwG/Cl+Ab8N34O/hJ/AJBgsAiWBF8CXGEHYQKQivhGmGM8IZIJKoQzYlexFjidmIF8RTxBnGc+IFEJWmTuKQQUgZpL+k46TLpIekNmUzWINuSg8np5L3kJvJV8lPyezGamJ4YTyxCbJtYtViH2JDYKwqeok7hUDZQcijllDOUO5RZcby4hjhXPEx8q3i1+DnxUfE5CZqEoYSHRKJEsUSzxE2JaSqWqkF1oEZQ86nHqFepEzSEpkrj0vi0nbQG2jXaJB1DZ9F59Dh6Ef1n+gBdJEmVNJb0l8yWrJa8IClkIAwNBo+RwChhnGaMMD5KKUhxpCKl9ki1Sg1JzUvLSdtKR0oXSrdJD0t/lGHKOMjEy+yX6ZR5IouS1Zb1ks2SPSJ7TXZWji5nKceXK5Q7LfdIHpbXlveW3yx/TL5ffk5BUcFJIUWhUuGqwqwiQ9FWMU6xTPGi4owSTclaKVapTOmS0gumJJPDTGBWMHuZImV5ZWflDOU65QHlBRWWip9KnkqbyhNVgipbNUq1TLVHVaSmpOaulqvWovZIHa/OVo9RP6Tepz6vwdII0Nit0akxzZJm8Vg5rBbWmCZZ00YzVbNe874WRoutFa91WOuuNqxtoh2jXa19RwfWMdWJ1TmsM7gKvcp8VdKq+lWjuiRdjm6mbovuuB5Dz00vT69T75W+mn6w/n79Pv3PBiYGCQYNBo8NqYYuhnmG3YZ/G2kb8Y2qje6vJq92XL1tddfq18Y6xpHGR4wfmNBM3E12m/SYfDI1MxWYtprOmKmZhZrVmI2y6WxPdjH7hjna3M58m/l58w8WphbpFqct/rLUtYy3bLacXsNaE7mmYc2ElYpVmFWdldCaaR1qfdRaaKNsE2ZTb/PMVtU2wrbRdoqjxYnjnOS8sjOwE9i1281zLbhbuJftEXsn+0L7AQeqg59DlcNTRxXHaMcWR5GTidNmp8vOaGdX5/3OozwFHp/XxBO5mLlscel1Jbn6uFa5PnPTdhO4dbvD7i7uB9zH1qqvTVrb6QE8eB4HPJ54sjxTPX/1wnh5elV7Pfc29M717vOh+Wz0afZ552vnW+L72E/TL8Ovx5/iH+Lf5D8fYB9QGiAM1A/cEng7SDYoNqgrGBvsH9wYPLfOYd3BdZMhJiEFISPrWeuz19/cILshYcOFjZSNYRvPhKJDA0KbQxfDPMLqw+bCeeE14SI+l3+I/zLCNqIsYibSKrI0cirKKqo0ajraKvpA9EyMTUx5zGwsN7Yq9nWcc1xt3Hy8R/zx+KWEgIS2RFxiaOK5JGpSfFJvsmJydvJgik5KQYow1SL1YKpI4CpoTIPS1qd1pdOXP8X+DM2MXRnjmdaZ1Znvs/yzzmRLZCdl92/S3rRn01SOY85Pm1Gb+Zt7cpVzd+SOb+FsqdsKbQ3f2rNNdVv+tsntTttP7CDsiN/xW55BXmne250BO7vzFfK350/sctrVUiBWICgY3W25u/YH1A+xPwzsWb2ncs/nwojCW0UGReVFi8X84ls/Gv5Y8ePS3qi9AyWmJUf2YfYl7RvZb7P/RKlEaU7pxAH3Ax1lzLLCsrcHNx68WW5cXnuIcCjjkLDCraKrUq1yX+ViVUzVcLVddVuNfM2emvnDEYeHjtgeaa1VqC2q/Xg09uiDOqe6jnqN+vJjmGOZx543+Df0/cT+qalRtrGo8dPxpOPCE94nepvMmpqa5ZtLWuCWjJaZkyEn7/5s/3NXq25rXRujregUOJVx6sUvob+MnHY93XOGfab1rPrZmnZae2EH1LGpQ9QZ0ynsCuoaPOdyrqfbsrv9V71fj59XPl99QfJCyUXCxfyLS5dyLs1dTrk8eyX6ykTPxp7HVwOv3u/16h245nrtxnXH61f7OH2XbljdOH/T4ua5W+xbnbdNb3f0m/S3/2byW/uA6UDHHbM7XXfN73YPrhm8OGQzdOWe/b3r93n3bw+vHR4c8Rt5MBoyKnwQ8WD6YcLD148yHy083j6GHit8Iv6k/Kn80/rftX5vE5oKL4zbj/c/83n2eII/8fKPtD8WJ/Ofk5+XTylNNU0bTZ+fcZy5+2Ldi8mXKS8XZgv+lPiz5pXmq7N/2f7VLwoUTb4WvF76u/iNzJvjb43f9sx5zj19l/huYb7wvcz7Ex/YH/o+BnycWshaxC5WfNL61P3Z9fPYUuLS0j9CLJC+ERlPpwAAFilJREFUeJztnW9sU9Ubx0+h2zqgs7eIG8xQ2m2I81/YXUAhBGLbN0MTTdrqCwkm0i4hvpAXtn2liQmxXTCTCIZ1xP8voOUXTRASaCtBDYr2Vvk7lPXuT9zKSLh3rINtrGO/F0+8ud7+2V17b9ut5/Niabv2nHNvT59znuf5nnMUs7OzqFAoFIpCVofBYDCY7CwpdgMwGAwGUzTwGIDBYDDlCx4DMBgMpnzBYwAGg8GUL3gMwGAwmPIFjwEYDAZTvuAxAIPBYMoXPAZgMBhM+VLqYwBBEAoeXq8XIcSyrNVqdblcJElSFFXsNmIwGMxCRVnsBswBSZJutxsed3V1ORwOhJDVarXZbA6HIxQKWa1WmqaL2kYMBoNZqJT0GEBRFEmSJpMJIUTTtMFgIAiCpulwOBwKhRBCJpOpr68vEAhYrdZiNxaz4Dl37tyRI0eef/75Z555BiFkMBgMBkOxG4XByEtBN/DJZ78gh8PhdrsNBoPP52tvb+fKMZlMJElCjAiDyYfXXnvN7/dzTwmCQAglEomVK1eqVCqlUkmSJEJIpVLt2rUL3gMTFAxm4SLKD3C5XBRFwdR7XrAs6/P5gsEgRVGCqXooFDKbzYL3B4PBtD8qmqZZloVJWSwWm28zMBgxjIyM8J+yLCt4net7X331FUJIpVJVV1cnk8mpqanVq1cjhFavXr127VqEEHYmMAuFuccAl8vV0dGBEPJ6vS6XS3zRLMuaTKZoNApPu7u7+f81mUzifQKPx9Pa2gqPtVqt+DZgMOLZsWPH5cuXa2pqEEKjo6MPHz5UKpUTExOTk5Np3z85Ocn9a2BgAP7++uuvCCHOn8DOBKbEmSM4w5+tazQamqahT4vB4XAI7L7RaOScCZqmu7q6BB9pb29PO2kiCCIQCMBPhaKo1tZWrtkKhYLLFWMw+RAKhTwej8DfpSgKHIKzZ8+CoacoKplMIoSGh4dXrFiBeB5DDmBnAlNc5vAD+BN/giA8Ho/4yLtgAEAIpQZ/xBAKhUZHR7mnJEm2tLRAHpimaY1GgxPCGEmIx+MMw4RCIYIgYLaOEOIeZJqtsywLAmWWZU+cOIEQunPnTm9vL8LOBGYhkM0PgBk3Qkij0QQCAZZlXS6XeCGmwWDo6+vjntrtdp/Pl0MTwReJRCLcr5GiKIfDYbPZgsGg2+3Gvb/E4abSAliW/fnnn2/dupX6L51OBxHIQrJjx47z588jhNRqNRjuqqoqjUaDENq8eTO8x2KxgEWeV6/L4kwMDAxAgdI6E2vXrv3xxx9zLhBTPmQbA7xer9vt1mg0oVCIJEmaphsaGvi2ODsURXk8HtB3ms3mfMI1UIjgxVAohK1/nuRgnePx+PDwMNgvPpOTkyMjI0qlUq1Wp34qkUikfiQLdXV18Xhc/PslgRsD5qSiooKLAul0OoTQypUrGxsbEUIbNmzYtm0bEh3AAbFcns5EWvCZfRgxZBsDIBvsdDq5+I9CofB4PPPKDGNyI4t1FgTHOApjnQuDSqWamJgocKVvv/320aNHVSrV1NQUTKsTiUTOpWVyJlQq1UsvvcQ5E+IF0/PNTOAxACOGuXVB3DJdyJUxDCNvi0qeTBpZmqYpikprnW/evDk2NjZf65xPcCCVZDIpbYFpAcMneBEmsFVVVXV1dWk/0tzczH9lZGQkrQsiN6+88sqNGzf4sgWIfP700083btxACPX29t65cwfxAjjj4+PT09NpS+PGj8nJybt376J/w/3oX2kp972ndXNTEZ+ZOH/+/BdffCHmkjGYOcYAo9HICYHAgpTy/jw5WOd4PD44OJj6+ujo6N27d8vEOj/yyCMwURWgUCju37+/Y8cOwesqlaq5uTmT2SJJUrx4LC2gz8mnhNxIJBL8KQ4XzMkScoQux7Ls999/D4GaixcvIoRGR0fndCa4712qb58gCK6pv/zyiyRlYhY989grIhgMIt5kpCg8+eST8Xh8kVnntBaTb50nJibGxsZqa2u5/6bOnQGVSrV169ZMYej5pk/AFh8/fnxeH0k7S8juJAmcy8JHgYCDBw/++eefWq1WvFKTu6WZxGmpAZzLly/DBYIzUYAOhsFkQeH3+1N1+sDQ0NDIyEhLSwtCaGJi4sKFCwihhoaGdevWzauOnp6eiooKeKzVavNZ5PXDDz8UMsqZOnFOJpMQwF26dGnqfxFCFRUVy5YtS1tUTU1NdXV12oqy3xOGYfr7++GLyJlMQTwYYNKmBMbGxqampiorKwWvJ5PJmZkZhUKxdOnS1E9Jkl1QKBQvvvhi/uXMi0yjlAD43mdmZioqKhQKxZIlS2A6olQqYZyG71pkpeFw2Gg05t7odEjSYTCLjN7eXjC/oDUADh48qDSZTJk892g02tnZCfmAzs5OePH999+H+ZF4uGUBbW1t+/bty6X5/xIOh+FBWifg/v37MzMzy5cvX758eep/1Wr1448/nvr68uXL169fn+miBD8ks9l89uzZebc7K9xSagHxePzvv/++d+/ezMzM7Ows37b+888/aSMM9+7du3fv3tKlS9OOQ7llOKemptK+LmiStCiVSi4RVTAOHDhw5swZ6FpZ7hV31Q8ePIAHnOMyPDyMEKqsrKyqqkomk8lkEn5c9fX1MCps3LgRelpTUxNUFA6HJb/SaDR67Nixwt/AkuX48ePDw8M7d+5cv359sdtSNMxm8+bNm+12O3+d1sOHD5X8GKIAk8nkcrkMBgNN06dPn0YIWSwWbk2KSLj1BC0tLR988AHKO5oEISlUkEUxuaV/0864808wiJQtIoRmZmbyEbSIJO3UAVRGmRIMWq22qakp9XWNRkOSJBdgiUaj//vf/4oi/E0mk6FQKItS89atW5WVldmVmg8ePOCGh9u3b3N/Ee9L5FLKSJ5lwGfPnsXKaSAQCBw9ehQhtGzZsr1795pMJp/Pl+cNF5nGLzXWrVsn6BVqtXqOfIDFYgkEAlyCLoftOcGM6vX6UCjkcrn4KzBzA64hFAqlNdAFsM65rXYGiphgyME6j4yM9Pb2vvfee1IlGMQjubM1L/gTozkD/YFAAPobKDUnJycZhplzDwn+v2BfdOmaj/kP3K0GExQOh/O/2xBCz23Ra6kxxxhgNpvb29vhsdPpzOHeBYNBWGbs8Xi6u7udTmcuzeTBhc4XTfp3TutcU1PT09Mj0OcI5s4CJLHOkBPOtLhPvmF4enr64cOHeTVdfsQrNa9cuQJ7PwwODsLCt3g8XlVVlcOyL0wOOByOWCwWCAQMBgPLspJkX7xeL/gTi2CnsjnGgEgkAg+MRmMOTgBN0ydOnIhEIqFQSKql/zJZapHWeWBgANaFItGRDQE5WOf56nOkss4TExN37txRKBSFV2GpVCoJSy4KnDORXVpqNpvLM2iTz2ki88Xr9YL5CgQCnE3LE5vNBntcLvivL5MoCIPBYDCLG6/Xm3EohuO64DFkBeZbus/ng23mEO8QAv7OEzlQyLlDKizLarVam80GT+VL/5Ya8qV/BXDJntQ9nAtAAeoFcTCsHVuyZIlGoxkYGIjFYtLmA4p1A+eFQqHI0xqIAXYtIwjC6/WCZ+b1evNP57IsS5Ik7ImZm3ksPNwNVygU3IvBYDB9LIiiKG5TII/Hk9uiTY/HYzAYQMbDqYMCgQBFUe3t7Qtxw2cI7/KPG8xCKScYRFpnkBjC4L3gHd7SoLq6mmVZLgcAe0iUbU7Y5/O53e48V5Vnx+PxgLLLbDaTJBkOhyUZAOAkc3jKTQrRv0kg7scieFqapBkDWJZ1OBwQNYYd4vx+fw6bdPJ3meb8AKvVWiZn/0poncfHx2ma/uSTT9JWJGsPwxJDaamtrR0fH8//5JnFwejoqMvlKoy6Biay+SeE+ccjajQan8/Hn86Cc8BtrCl4WpqkGQM8Hg9cod1uh6abTKZMJ/2KgWVZzlcq5e2G5gRmEPxhvwDiHPSva49t8SKgp6cHHnAb0sH8tKiNKhpOp7Ojo8Nms8nXt30+H0EQNE3D7vf5+1ssy/KjGovgVykcA+AUeISQXq/nJuytra0QXsxN0+JwOAiCgLsPcTRQVuXd+EIDU/t57Z+DwaSFvy5M1mBIKWOz2SDqQFGUTDeBIAjOz7BarQ0NDXkWaDAYvF5ve3u7RqNJNWIURfGDP4KnJQrWBWEwGEx54vV60ex/sVgsCCGj0QhPM2071dXVNSsa7lN2u138pzIVlWcJC7EBwWCQ+0YWbr1OpzMWi83OzhqNxmAwWLB6xcOvl2GY7I2UCjl6VLFu4LwAmxCJRPx+v0ajkaMKWJHqdDpnZ2djsZhUtzoYDMZiMbvd7vF4JCmwMHC3gm/Jg8HgEoFxBz0ZhLxdLhckBiwWi9FoNBqN3JAg/mBh/n5B7e3tCzofgMkHiqLEH0ZdYFK3vIYDUMtEv1BEHA6H1WolCEJyJStFUaBDgb9dXV2SrBB2uVxms7mhoSEQCLjd7hIX4IpBOAaAHAgy3ZDIDQaDgUAARgWKomDQHh0dFSkY5e8X1NXVJVJYiVncZDops8DA+hWCIMxmc2tr6969e4t1dEF54nQ6o9Goy+UiSZLbC1IqDAYDp74jSbKjo0OS3DvsVaPX6x0Oh91ut1qtC31eK8wJ6/V6giAgP9PX12e32yGhQZIkaIRgeLDZbN3d3WJEXZLvF4RZuLAs6/V6KYoKh8MMwxR3ls0X+QE3b97k9vtcGNm8BY7NZtNqtW63W6PRSL7TNUEQFEVBvhNULfknhBFCVqvV7XZ7vV6whNxC2oWLktvZCoDAHEzeV6xYcffuXc7ZGR0d/fbbb9VqNUEQTU1NN2/e/PTTT7Pvxx2Px0+cOHH48OEjR47A9q39/f15ek9Fd74K34BoNMowTCHrjUajK1asGB8fl6reaDR67do1vqw2bcmS15uFzs7O1JMbVq1axa+3MPdc8loK32Fyo6Ojw263t7W1nT59Wq1Wy9Fg2OU3kUhEo1HYGDz/Mtva2vr6+grfT/In1fwmEgnhOWL9/f0DAwPbt29HCPX09DAMs3XrVvjXb7/91tjYCK5Qb2/vwMDAli1bMh2MBVy5ckWr1dbX18P7EUI6na6xsTHna5Dj0CU+vb29Op2OO/Ws8A1IS8GOhZqenh4YGBgaGoJjUqqrqysrK1tbW/MvmTv8ByGkVCrr6+v53UC+erNw/vz51DNwNm7cmM85dzlQtueIQZfYsmWLUqm8cOHChg0b+KelSgvDMH/88YdU93liYmJoaCgfO1YUwuEwmF/+j/Hw4cPCRDnDMBqNBhQR8JgT81gsFi4Pbrfb50zld3V1ce/nQkCQmM4ntZ3PxzMhXrIiUwOyUxi9CsMwqVZDp9NJUi/37cdiMcFNlrXeLKQu1c6zc+aGHD1qAemCoJ1OpzN/0SCfSCQC36/f74fypb0hhdGMSQsSqQsiCMLhcLhcLpZlIVlPURTEbQ0GA7dFWigUmnPDH4/HA6uLTSYTt04YVtaV2hZLJStZKaRehZOB8XniiSckqZdhGKPRaDabUxdqylpvFvhl6vV6v9+PVUAFxm63h8NhSDRK+wP0+/0gbwkGgzRN+3w+aRdjL6ZEUZq9ImARr8lkCoVCJElyNqihoQFUPTBCzPmDWaD7BcEpccVdusmyrMfj8fl80I+bmppWrVold6VpB+Z3331XksIF95MvCpK13iyAKpGiKDmOcsSIwefzNTQ0uN1uo9EorY3mAond3d1w0JskCeHFSVqvgWEYi8Wi1+u7uroYhoEXg8FgS0uLxWLRaDSRSES8D8IwjF6vh+ry9MgyNThPjEaj3+/3eDzgP2aJCcjUAD6lGRvJv14IAfn9fugMXJxQ7npLHDl61EKJBcEDu92O5rnsVAyRSMTpdPr9flCdzstkLUpQhliQUBfE0d7efurUqQMHDgjET42NjZ999hnLsiJT4dFotLOzU61Wb9y4ESE0ODi4fv36PXv25JywkkNEMadkBfQqIIJarHqVN9988+OPP4bHdXV1e/bs2b59u6CinOuNx+PXrl179dVX4RR1hFA0GoXSZK13QVC2uiBuRerJkyd///13yb0xEAWdOnUKISTeZC1iROmC0gJpAK1WWxRVDB85GpBFsiLQq6jV6kQiIfcdKKJeZXp6OpFIVFdXZ5d75QD/JiOEdDodX38lX72lTznrgrgL7+/vT+v+SkJPT8/ExESJ340CwDAM/MT4J1999NFHGf1QhmG4KBDfm5DXXZkLORoA9yJVspKpU3L/Xdx6FWmBC7FYLJFIZE7xVVkhR5cuysZH84V/4bI2uKWlZRH8guRDqAsCXC6XVqvVarUOhyO/sUcaUuUxEpJJspJWr7Jp0yZ4gPUq8yISicCGUWW7V74Ambp06W98lPbC+RoBaRvMsmw0GsUJ4Syk0QX5fD7Q8CCEuru7i/i7FchjZPLmMklW0upV9u/fL0cb+CxKvUrRpVYlgkxduihCsnmR/cIjkYhMXR3C33jmkY1U10CwpQ/nlwWDQb1eXzAPJXsoRlrSSlbKXK8iOVwIyOl0poYZywGZunSxhGTimfPCwd/l3ixhg8GaSVXaoiTN3eGniDUaDfdztdvt0q7lywTs8rpmzZrUTvPYY48ZjUaLxSJhdbFYTK/X8y0+2Hr+feD3UUxuOJ3OstXnydSlYflr2mLr6uqMRmPR4+BZWggXDr1CPiWr0+ks+k0ocdLEgqxWq8fjYVnW7XbDMZAIoVAoFAgECrlL6u3bt1NfrK+vl7wiQazQ6XTCFoaLMiZTREonJF0sZOrSaYtdvXp1nsVKSPYLJ0lSPtUm7nVzk3ZkgN02LBZLMBgMBoNOp1Oj0Ui+iCM7BZPHQOFYsoKRG5m6dOkLyUq/heVMxkgZHJbW0tKi1+vtdnvhvfiChWJAsgKmH48BGPmQqUuXftCy9FtYzihm/7t0uKSANcwFCMWYTCa32w27JMEDWavDlC0ydemC/VJypvRbWLakXx9QIhAEYTKZCtlpSJLEMjKMfPC79KOPPnru3DlJiu3v73/rrbcQQjRN63S6zz//XJJiJeS7777bvXt3sVuBSUNJjwEFg1Ove71eLGPHFIYzZ860tbXV19fv3r07N7UFTdNOp3PDhg0vvPDCO++8A7PsAwcO7N+/X6VSbdu2rbOzs4in3VIU1dnZuW3bNpVKdejQoS+//BI7ASVISceCMJhFz6FDh7q6uq5evapWq+vr65999tm6urqnnnoKzCUXlgTlDMuykUikv79/cHCwr69vZGREp9PZ7fa9e/cK5i40TXd2dp48eRLO76utrX366afr6+t37dqFEJI8JkPTNOwV//XXXw8NDV29enVkZAQhpNPpXn755X379mHrX7LgMQCDKT4sy3744YeXLl3666+/GIZJJBKZ3qlWq7VabW1t7aZNm0TaVoqivvnmm+vXr1+6dAlMM0dtba1KpYJim5ubRbb2+vXr0MLJycnUAp977rnm5uY33ngDh1UXBHgMwGBKFJj7Hzt27PXXX0eS7rdBURTLsqdOnRoeHkYIXbx4UfCGsbEx/h4+BEHU1NQI3rN582aE0Jo1a3bu3EkQBLb4CxQ8BmAwGEz58n86xThBgk6KaQAAAABJRU5ErkJggg==\"/>"
      ],
      "text/plain": [
       "<maelzel.scoring.renderlily.LilypondRenderer at 0x7f0b70373bb0>"
      ]
     },
     "execution_count": 15,
     "metadata": {},
     "output_type": "execute_result"
    }
   ],
   "source": [
    "from maelzel import scoring\n",
    "from maelzel.scorestruct import ScoreStruct\n",
    "from maelzel.common import F\n",
    "\n",
    "notes = [\n",
    "    (60, F(1, 4)),\n",
    "    (63, F(1, 4)*F(3, 4)),\n",
    "    (64, F(1, 4)*F(3, 4)),\n",
    "    (65, F(1, 4)*F(3, 4)),\n",
    "    (66, F(1, 4)*F(3, 4)),\n",
    "    (67, F(1, 4)*F(3, 4)),\n",
    "    (60, F(1)),\n",
    "    \n",
    "]\n",
    "\n",
    "notations = [scoring.makeNote(p, d) for p, d in notes]\n",
    "struct = ScoreStruct(timesig='4/4', quarterTempo=70)\n",
    "\n",
    "part = scoring.Part(notations)\n",
    "quantprofile = scoring.quant.makeQuantizationProfile('highest', debug=True, debugMaxDivisions=20, maxDivPenalty=0.1)\n",
    "quantprofile.maxGridDensity = 32\n",
    "qpart = scoring.quant.quantizePart(part, struct=struct, profile=quantprofile)\n",
    "options = scoring.render.RenderOptions()\n",
    "score = scoring.quant.QuantizedScore([qpart])\n",
    "r = scoring.render.renderQuantizedScore(score, options)\n",
    "r"
   ]
  },
  {
   "cell_type": "code",
   "execution_count": null,
   "id": "53f406f0-8d55-4f2e-8663-60c935e3e4ad",
   "metadata": {},
   "outputs": [],
   "source": []
  }
 ],
 "metadata": {
  "kernelspec": {
   "display_name": "Python 3 (ipykernel)",
   "language": "python",
   "name": "python3"
  },
  "language_info": {
   "codemirror_mode": {
    "name": "ipython",
    "version": 3
   },
   "file_extension": ".py",
   "mimetype": "text/x-python",
   "name": "python",
   "nbconvert_exporter": "python",
   "pygments_lexer": "ipython3",
   "version": "3.9.15"
  }
 },
 "nbformat": 4,
 "nbformat_minor": 5
}
