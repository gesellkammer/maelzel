{
 "cells": [
  {
   "cell_type": "code",
   "execution_count": 2,
   "id": "f8c9d684-bb33-4aa8-8ace-715a663bba73",
   "metadata": {},
   "outputs": [],
   "source": [
    "from maelzel import scoring\n",
    "from maelzel.scorestruct import ScoreStruct\n",
    "from maelzel.scoring import quantutils\n",
    "from maelzel.common import F\n",
    "import logging\n",
    "logging.getLogger('maelzel.scoring').setLevel('DEBUG')"
   ]
  },
  {
   "cell_type": "code",
   "execution_count": 8,
   "id": "9feb6be3-ad87-4d95-9c32-dc3b8844fbc2",
   "metadata": {},
   "outputs": [
    {
     "name": "stdout",
     "output_type": "stream",
     "text": [
      "Beat: 0 - 1 (dur: 1)\n",
      "Skipped 0 divisions with a div. penalty > 0.2\n",
      "Best 1 divisions: \n"
     ]
    },
    {
     "data": {
      "text/html": [
       "<table>\n",
       "<thead>\n",
       "<tr><th>error  </th><th>div  </th><th>makeSnappedNotation             </th><th>slots  </th><th>info                                                                                                                                                           </th></tr>\n",
       "</thead>\n",
       "<tbody>\n",
       "<tr><td>0      </td><td>(1,) </td><td>[«0.000:1.000 1/1♩ 4C tiedNext»]</td><td>[0]    </td><td>gridError=0, rhythmComplexity=0 (numNotesAcrossSubdics=0, numTies=0), divPenalty=0 (0, divPenalty=0, cardinalityPenalty=0, numSubdivsPenalty=0, levelPenalty=0)</td></tr>\n",
       "</tbody>\n",
       "</table>"
      ],
      "text/plain": [
       "<IPython.core.display.HTML object>"
      ]
     },
     "metadata": {},
     "output_type": "display_data"
    },
    {
     "name": "stdout",
     "output_type": "stream",
     "text": [
      "Beat: 1 - 2 (dur: 1)\n",
      "Skipped 0 divisions with a div. penalty > 0.2\n",
      "Best 1 divisions: \n"
     ]
    },
    {
     "data": {
      "text/html": [
       "<table>\n",
       "<thead>\n",
       "<tr><th>error  </th><th>div  </th><th>makeSnappedNotation             </th><th>slots  </th><th>info                                                                                                                                                           </th></tr>\n",
       "</thead>\n",
       "<tbody>\n",
       "<tr><td>0      </td><td>(1,) </td><td>[«0.000:1.000 1/1♩ 4C tiedPrev»]</td><td>[0]    </td><td>gridError=0, rhythmComplexity=0 (numNotesAcrossSubdics=0, numTies=0), divPenalty=0 (0, divPenalty=0, cardinalityPenalty=0, numSubdivsPenalty=0, levelPenalty=0)</td></tr>\n",
       "</tbody>\n",
       "</table>"
      ],
      "text/plain": [
       "<IPython.core.display.HTML object>"
      ]
     },
     "metadata": {},
     "output_type": "display_data"
    },
    {
     "name": "stdout",
     "output_type": "stream",
     "text": [
      "Beat: 2 - 3 (dur: 1)\n",
      "Skipped 0 divisions with a div. penalty > 0.2\n",
      "Best 13 divisions: \n"
     ]
    },
    {
     "data": {
      "text/html": [
       "<table>\n",
       "<thead>\n",
       "<tr><th>error   </th><th>div            </th><th>makeSnappedNotation                                        </th><th>slots  </th><th>info                                                                                                                                                                                       </th></tr>\n",
       "</thead>\n",
       "<tbody>\n",
       "<tr><td>0.002   </td><td>(7,)           </td><td>[«0.000:0.143 1/7♩ 4C#», «0.143:1.000 6/7♩ 4D tiedNext»]   </td><td>[0, 1] </td><td>gridError=0, rhythmComplexity=0 (numNotesAcrossSubdics=0, numTies=0), divPenalty=0.02 (0.0002, divPenalty=0.02, cardinalityPenalty=0, numSubdivsPenalty=0, levelPenalty=0)                 </td></tr>\n",
       "<tr><td>0.025225</td><td>(5, 1, 1, 1)   </td><td>[«0.000:0.150 3/20♩ 4C#», «0.150:1.000 17/20♩ 4D tiedNext»]</td><td>[0, 3] </td><td>gridError=0.0192, rhythmComplexity=0.5 (numNotesAcrossSubdics=1, numTies=1), divPenalty=0.04 (0.0004, divPenalty=0.04, cardinalityPenalty=0, numSubdivsPenalty=0, levelPenalty=0)          </td></tr>\n",
       "<tr><td>0.025225</td><td>(4, 1, 1, 1, 1)</td><td>[«0.000:0.150 3/20♩ 4C#», «0.150:1.000 17/20♩ 4D tiedNext»]</td><td>[0, 3] </td><td>gridError=0.0192, rhythmComplexity=0.5 (numNotesAcrossSubdics=1, numTies=1), divPenalty=0.04 (0.0004, divPenalty=0.04, cardinalityPenalty=0, numSubdivsPenalty=0, levelPenalty=0)          </td></tr>\n",
       "<tr><td>0.029718</td><td>(3, 1, 1, 1, 1)</td><td>[«0.000:0.133 2/15♩ 4C#», «0.133:1.000 13/15♩ 4D tiedNext»]</td><td>[0, 2] </td><td>gridError=0.0246, rhythmComplexity=0.5 (numNotesAcrossSubdics=1, numTies=1), divPenalty=0.0541 (0.0005408, divPenalty=0.02, cardinalityPenalty=0.1, numSubdivsPenalty=0, levelPenalty=0.03)</td></tr>\n",
       "<tr><td>0.041978</td><td>(8,)           </td><td>[«0.000:0.125 1/8♩ 4C#», «0.125:1.000 7/8♩ 4D tiedNext»]   </td><td>[0, 1] </td><td>gridError=0.0419, rhythmComplexity=0 (numNotesAcrossSubdics=0, numTies=0), divPenalty=0.02 (0.0002, divPenalty=0.02, cardinalityPenalty=0, numSubdivsPenalty=0, levelPenalty=0)            </td></tr>\n",
       "<tr><td>0.042275</td><td>(2, 1, 1, 1)   </td><td>[«0.000:0.125 1/8♩ 4C#», «0.125:1.000 7/8♩ 4D tiedNext»]   </td><td>[0, 1] </td><td>gridError=0.0419, rhythmComplexity=0.158 (numNotesAcrossSubdics=1, numTies=0), divPenalty=0.02 (0.0002, divPenalty=0.02, cardinalityPenalty=0, numSubdivsPenalty=0, levelPenalty=0)        </td></tr>\n",
       "<tr><td>0.055643</td><td>(6,)           </td><td>[«0.000:0.167 1/6♩ 4C#», «0.167:1.000 5/6♩ 4D tiedNext»]   </td><td>[0, 1] </td><td>gridError=0.0535, rhythmComplexity=0.474 (numNotesAcrossSubdics=0, numTies=1), divPenalty=0.02 (0.0002, divPenalty=0.02, cardinalityPenalty=0, numSubdivsPenalty=0, levelPenalty=0)        </td></tr>\n",
       "<tr><td>0.055832</td><td>(2, 1, 1)      </td><td>[«0.000:0.167 1/6♩ 4C#», «0.167:1.000 5/6♩ 4D tiedNext»]   </td><td>[0, 1] </td><td>gridError=0.0535, rhythmComplexity=0.5 (numNotesAcrossSubdics=1, numTies=1), divPenalty=0 (0, divPenalty=0, cardinalityPenalty=0, numSubdivsPenalty=0, levelPenalty=0)                     </td></tr>\n",
       "<tr><td>0.055868</td><td>(3, 1, 1, 1)   </td><td>[«0.000:0.167 1/6♩ 4C#», «0.167:1.000 5/6♩ 4D tiedNext»]   </td><td>[0, 2] </td><td>gridError=0.0535, rhythmComplexity=0.5 (numNotesAcrossSubdics=1, numTies=1), divPenalty=0.02 (0.0002, divPenalty=0.02, cardinalityPenalty=0, numSubdivsPenalty=0, levelPenalty=0)          </td></tr>\n",
       "<tr><td>0.068497</td><td>(9,)           </td><td>[«0.000:0.111 1/9♩ 4C#», «0.111:1.000 8/9♩ 4D tiedNext»]   </td><td>[0, 1] </td><td>gridError=0.0684, rhythmComplexity=0 (numNotesAcrossSubdics=0, numTies=0), divPenalty=0.04 (0.0004, divPenalty=0.04, cardinalityPenalty=0, numSubdivsPenalty=0, levelPenalty=0)            </td></tr>\n",
       "<tr><td>0.083355</td><td>(11,)          </td><td>[«0.000:0.182 2/11♩ 4C#», «0.182:1.000 9/11♩ 4D tiedNext»] </td><td>[0, 2] </td><td>gridError=0.0814, rhythmComplexity=0.474 (numNotesAcrossSubdics=0, numTies=1), divPenalty=0.1 (0.001, divPenalty=0.1, cardinalityPenalty=0, numSubdivsPenalty=0, levelPenalty=0)           </td></tr>\n",
       "<tr><td>0.089677</td><td>(2, 1, 1, 1, 1)</td><td>[«0.000:0.100 1/10♩ 4C#», «0.100:1.000 9/10♩ 4D tiedNext»] </td><td>[0, 1] </td><td>gridError=0.0882, rhythmComplexity=0.5 (numNotesAcrossSubdics=1, numTies=1), divPenalty=0.02 (0.0002, divPenalty=0.02, cardinalityPenalty=0, numSubdivsPenalty=0, levelPenalty=0)          </td></tr>\n",
       "<tr><td>0.11271 </td><td>(5,)           </td><td>[«0.000:0.200 1/5♩ 4C#», «0.200:1.000 4/5♩ 4D tiedNext»]   </td><td>[0, 1] </td><td>gridError=0.113, rhythmComplexity=0 (numNotesAcrossSubdics=0, numTies=0), divPenalty=0.02 (0.0002, divPenalty=0.02, cardinalityPenalty=0, numSubdivsPenalty=0, levelPenalty=0)             </td></tr>\n",
       "</tbody>\n",
       "</table>"
      ],
      "text/plain": [
       "<IPython.core.display.HTML object>"
      ]
     },
     "metadata": {},
     "output_type": "display_data"
    },
    {
     "name": "stdout",
     "output_type": "stream",
     "text": [
      "Beat: 3 - 4 (dur: 1)\n",
      "Skipped 0 divisions with a div. penalty > 0.2\n",
      "Best 2 divisions: \n"
     ]
    },
    {
     "data": {
      "text/html": [
       "<table>\n",
       "<thead>\n",
       "<tr><th>error  </th><th>div  </th><th>makeSnappedNotation                                      </th><th>slots  </th><th>info                                                                                                                                                                          </th></tr>\n",
       "</thead>\n",
       "<tbody>\n",
       "<tr><td>0      </td><td>(3,) </td><td>[«0.000:0.333 1/3♩ 4D tiedPrev», «0.333:1.000 2/3♩ rest»]</td><td>[0, 1] </td><td>gridError=0, rhythmComplexity=0 (numNotesAcrossSubdics=0, numTies=0), divPenalty=0 (0, divPenalty=0, cardinalityPenalty=0, numSubdivsPenalty=0, levelPenalty=0)               </td></tr>\n",
       "<tr><td>0.10219</td><td>(5,) </td><td>[«0.000:0.400 2/5♩ 4D tiedPrev», «0.400:1.000 3/5♩ rest»]</td><td>[0, 2] </td><td>gridError=0.102, rhythmComplexity=0 (numNotesAcrossSubdics=0, numTies=0), divPenalty=0.02 (0.0002, divPenalty=0.02, cardinalityPenalty=0, numSubdivsPenalty=0, levelPenalty=0)</td></tr>\n",
       "</tbody>\n",
       "</table>"
      ],
      "text/plain": [
       "<IPython.core.display.HTML object>"
      ]
     },
     "metadata": {},
     "output_type": "display_data"
    },
    {
     "name": "stdout",
     "output_type": "stream",
     "text": [
      "Node(1/1, \n",
      "  «0.000:1.000 1/1♩ 4C tiedNext»\n",
      ") Node(1/1, \n",
      "  «1.000:2.000 1/1♩ 4C tiedPrev»\n",
      ") acrossBeat=True, syncopated=True\n"
     ]
    },
    {
     "data": {
      "text/html": [
       "<b>LilypondRenderer</b> (1 part)<br>\n",
       "        <img style=\"display:inline; padding:10px;\n",
       "margin-top:14px;\n",
       "width:550.0\"\n",
       "             src=\"data:image/png;base64,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\"/>"
      ],
      "text/plain": [
       "<maelzel.scoring.renderlily.LilypondRenderer at 0x7f49e414e940>"
      ]
     },
     "execution_count": 8,
     "metadata": {},
     "output_type": "execute_result"
    }
   ],
   "source": [
    "notes = [\n",
    "    (60, F(2, 1)),\n",
    "    (61, F(1, 7)),\n",
    "    (62, F(6, 7)+F(1, 3))\n",
    "]\n",
    "\n",
    "struct = ScoreStruct(timesig='4/4', tempo=70)\n",
    "\n",
    "notations = [scoring.makeNote(p, d) for p, d in notes]\n",
    "part = scoring.Part(notations)\n",
    "qprofile = scoring.quant.QuantizationProfile.fromPreset('high')\n",
    "qprofile.debug = True\n",
    "qpart = scoring.quant.quantizePart(part, struct=struct, quantprofile=qprofile)\n",
    "options = scoring.render.RenderOptions()\n",
    "score = scoring.quant.QuantizedScore([qpart])\n",
    "r = scoring.render.renderQuantizedScore(score, options)\n",
    "r"
   ]
  },
  {
   "cell_type": "code",
   "execution_count": 9,
   "id": "8126dfd3-b992-471f-b5ff-6caf769e7fa5",
   "metadata": {},
   "outputs": [
    {
     "name": "stdout",
     "output_type": "stream",
     "text": [
      "Beat: 0 - 1 (dur: 1)\n",
      "Skipped 0 divisions with a div. penalty > 0.4\n",
      "Best 1 divisions: \n"
     ]
    },
    {
     "data": {
      "text/html": [
       "<table>\n",
       "<thead>\n",
       "<tr><th>error  </th><th>div  </th><th>makeSnappedNotation             </th><th>slots  </th><th>info                                                                                                                                                           </th></tr>\n",
       "</thead>\n",
       "<tbody>\n",
       "<tr><td>0      </td><td>(1,) </td><td>[«0.000:1.000 1/1♩ 4C tiedNext»]</td><td>[0]    </td><td>gridError=0, rhythmComplexity=0 (numNotesAcrossSubdics=0, numTies=0), divPenalty=0 (0, divPenalty=0, cardinalityPenalty=0, numSubdivsPenalty=0, levelPenalty=0)</td></tr>\n",
       "</tbody>\n",
       "</table>"
      ],
      "text/plain": [
       "<IPython.core.display.HTML object>"
      ]
     },
     "metadata": {},
     "output_type": "display_data"
    },
    {
     "name": "stdout",
     "output_type": "stream",
     "text": [
      "Beat: 1 - 2 (dur: 1)\n",
      "Skipped 0 divisions with a div. penalty > 0.4\n",
      "Best 1 divisions: \n"
     ]
    },
    {
     "data": {
      "text/html": [
       "<table>\n",
       "<thead>\n",
       "<tr><th>error  </th><th>div  </th><th>makeSnappedNotation             </th><th>slots  </th><th>info                                                                                                                                                           </th></tr>\n",
       "</thead>\n",
       "<tbody>\n",
       "<tr><td>0      </td><td>(1,) </td><td>[«0.000:1.000 1/1♩ 4C tiedPrev»]</td><td>[0]    </td><td>gridError=0, rhythmComplexity=0 (numNotesAcrossSubdics=0, numTies=0), divPenalty=0 (0, divPenalty=0, cardinalityPenalty=0, numSubdivsPenalty=0, levelPenalty=0)</td></tr>\n",
       "</tbody>\n",
       "</table>"
      ],
      "text/plain": [
       "<IPython.core.display.HTML object>"
      ]
     },
     "metadata": {},
     "output_type": "display_data"
    },
    {
     "name": "stdout",
     "output_type": "stream",
     "text": [
      "Beat: 2 - 3 (dur: 1)\n",
      "Skipped 0 divisions with a div. penalty > 0.4\n",
      "Best 17 divisions: \n"
     ]
    },
    {
     "data": {
      "text/html": [
       "<table>\n",
       "<thead>\n",
       "<tr><th>error    </th><th>div            </th><th>makeSnappedNotation                                </th><th>slots  </th><th>info                                                                                                                                                                                     </th></tr>\n",
       "</thead>\n",
       "<tbody>\n",
       "<tr><td>0.002    </td><td>(4,)           </td><td>[«0.000:0.750 3/4♩ 4C#», «0.750:1.000 1/4♩ 4D#»]   </td><td>[0, 3] </td><td>gridError=0, rhythmComplexity=0 (numNotesAcrossSubdics=0, numTies=0), divPenalty=0.02 (0.0002, divPenalty=0.02, cardinalityPenalty=0, numSubdivsPenalty=0, levelPenalty=0)               </td></tr>\n",
       "<tr><td>0.005    </td><td>(1, 2)         </td><td>[«0.000:0.750 3/4♩ 4C#», «0.750:1.000 1/4♩ 4D#»]   </td><td>[0, 2] </td><td>gridError=0, rhythmComplexity=0.158 (numNotesAcrossSubdics=1, numTies=0), divPenalty=0 (0, divPenalty=0, cardinalityPenalty=0, numSubdivsPenalty=0, levelPenalty=0)                      </td></tr>\n",
       "<tr><td>0.0053852</td><td>(1, 1, 4)      </td><td>[«0.000:0.750 3/4♩ 4C#», «0.750:1.000 1/4♩ 4D#»]   </td><td>[0, 3] </td><td>gridError=0, rhythmComplexity=0.158 (numNotesAcrossSubdics=1, numTies=0), divPenalty=0.02 (0.0002, divPenalty=0.02, cardinalityPenalty=0, numSubdivsPenalty=0, levelPenalty=0)           </td></tr>\n",
       "<tr><td>0.01077  </td><td>(1, 1, 1, 4, 1)</td><td>[«0.000:0.750 3/4♩ 4C#», «0.750:1.000 1/4♩ 4D#»]   </td><td>[0, 6] </td><td>gridError=0, rhythmComplexity=0.316 (numNotesAcrossSubdics=2, numTies=0), divPenalty=0.04 (0.0004, divPenalty=0.04, cardinalityPenalty=0, numSubdivsPenalty=0, levelPenalty=0)           </td></tr>\n",
       "<tr><td>0.033864 </td><td>(1, 1, 9)      </td><td>[«0.000:0.741 20/27♩ 4C#», «0.741:1.000 7/27♩ 4D#»]</td><td>[0, 4] </td><td>gridError=0.0299, rhythmComplexity=0.5 (numNotesAcrossSubdics=1, numTies=1), divPenalty=0.02 (0.0002, divPenalty=0.02, cardinalityPenalty=0, numSubdivsPenalty=0, levelPenalty=0)        </td></tr>\n",
       "<tr><td>0.037024 </td><td>(1, 1, 1, 5, 1)</td><td>[«0.000:0.760 19/25♩ 4C#», «0.760:1.000 6/25♩ 4D#»]</td><td>[0, 7] </td><td>gridError=0.0318, rhythmComplexity=0.57 (numNotesAcrossSubdics=2, numTies=1), divPenalty=0.06 (0.0006, divPenalty=0.04, cardinalityPenalty=0, numSubdivsPenalty=0, levelPenalty=0)       </td></tr>\n",
       "<tr><td>0.039983 </td><td>(1, 1, 7)      </td><td>[«0.000:0.762 16/21♩ 4C#», «0.762:1.000 5/21♩ 4D#»]</td><td>[0, 4] </td><td>gridError=0.0365, rhythmComplexity=0.5 (numNotesAcrossSubdics=1, numTies=1), divPenalty=0.0374 (0.0003742, divPenalty=0.02, cardinalityPenalty=0.1, numSubdivsPenalty=0, levelPenalty=0) </td></tr>\n",
       "<tr><td>0.050503 </td><td>(1, 1, 5)      </td><td>[«0.000:0.733 11/15♩ 4C#», «0.733:1.000 4/15♩ 4D#»]</td><td>[0, 3] </td><td>gridError=0.0478, rhythmComplexity=0.5 (numNotesAcrossSubdics=1, numTies=1), divPenalty=0.0374 (0.0003742, divPenalty=0.02, cardinalityPenalty=0.1, numSubdivsPenalty=0, levelPenalty=0) </td></tr>\n",
       "<tr><td>0.05141  </td><td>(1, 1, 1, 3, 1)</td><td>[«0.000:0.733 11/15♩ 4C#», «0.733:1.000 4/15♩ 4D#»]</td><td>[0, 5] </td><td>gridError=0.0478, rhythmComplexity=0.57 (numNotesAcrossSubdics=2, numTies=1), divPenalty=0.0561 (0.0005612, divPenalty=0.02, cardinalityPenalty=0.1, numSubdivsPenalty=0, levelPenalty=0)</td></tr>\n",
       "<tr><td>0.062094 </td><td>(11,)          </td><td>[«0.000:0.727 8/11♩ 4C#», «0.727:1.000 3/11♩ 4D#»] </td><td>[0, 8] </td><td>gridError=0.0613, rhythmComplexity=0 (numNotesAcrossSubdics=0, numTies=0), divPenalty=0.1 (0.001, divPenalty=0.1, cardinalityPenalty=0, numSubdivsPenalty=0, levelPenalty=0)             </td></tr>\n",
       "<tr><td>0.071984 </td><td>(9,)           </td><td>[«0.000:0.778 7/9♩ 4C#», «0.778:1.000 2/9♩ 4D#»]   </td><td>[0, 7] </td><td>gridError=0.072, rhythmComplexity=0 (numNotesAcrossSubdics=0, numTies=0), divPenalty=0.02 (0.0002, divPenalty=0.02, cardinalityPenalty=0, numSubdivsPenalty=0, levelPenalty=0)           </td></tr>\n",
       "<tr><td>0.07213  </td><td>(1, 1, 3)      </td><td>[«0.000:0.778 7/9♩ 4C#», «0.778:1.000 2/9♩ 4D#»]   </td><td>[0, 3] </td><td>gridError=0.072, rhythmComplexity=0.158 (numNotesAcrossSubdics=1, numTies=0), divPenalty=0 (0, divPenalty=0, cardinalityPenalty=0, numSubdivsPenalty=0, levelPenalty=0)                  </td></tr>\n",
       "<tr><td>0.078145 </td><td>(1, 1, 6)      </td><td>[«0.000:0.722 13/18♩ 4C#», «0.722:1.000 5/18♩ 4D#»]</td><td>[0, 3] </td><td>gridError=0.072, rhythmComplexity=0.962 (numNotesAcrossSubdics=1, numTies=2), divPenalty=0.02 (0.0002, divPenalty=0.02, cardinalityPenalty=0, numSubdivsPenalty=0, levelPenalty=0)       </td></tr>\n",
       "<tr><td>0.089272 </td><td>(7,)           </td><td>[«0.000:0.714 5/7♩ 4C#», «0.714:1.000 2/7♩ 4D#»]   </td><td>[0, 5] </td><td>gridError=0.088, rhythmComplexity=0.474 (numNotesAcrossSubdics=0, numTies=1), divPenalty=0.02 (0.0002, divPenalty=0.02, cardinalityPenalty=0, numSubdivsPenalty=0, levelPenalty=0)       </td></tr>\n",
       "<tr><td>0.11517  </td><td>(5,)           </td><td>[«0.000:0.800 4/5♩ 4C#», «0.800:1.000 1/5♩ 4D#»]   </td><td>[0, 4] </td><td>gridError=0.115, rhythmComplexity=0 (numNotesAcrossSubdics=0, numTies=0), divPenalty=0.02 (0.0002, divPenalty=0.02, cardinalityPenalty=0, numSubdivsPenalty=0, levelPenalty=0)           </td></tr>\n",
       "<tr><td>0.11561  </td><td>(1, 1, 1, 2, 1)</td><td>[«0.000:0.700 7/10♩ 4C#», «0.700:1.000 3/10♩ 4D#»] </td><td>[0, 4] </td><td>gridError=0.115, rhythmComplexity=0.316 (numNotesAcrossSubdics=2, numTies=0), divPenalty=0.02 (0.0002, divPenalty=0.02, cardinalityPenalty=0, numSubdivsPenalty=0, levelPenalty=0)       </td></tr>\n",
       "<tr><td>0.17329  </td><td>(3,)           </td><td>[«0.000:0.667 2/3♩ 4C#», «0.667:1.000 1/3♩ 4D#»]   </td><td>[0, 2] </td><td>gridError=0.173, rhythmComplexity=0 (numNotesAcrossSubdics=0, numTies=0), divPenalty=0 (0, divPenalty=0, cardinalityPenalty=0, numSubdivsPenalty=0, levelPenalty=0)                      </td></tr>\n",
       "</tbody>\n",
       "</table>"
      ],
      "text/plain": [
       "<IPython.core.display.HTML object>"
      ]
     },
     "metadata": {},
     "output_type": "display_data"
    },
    {
     "name": "stdout",
     "output_type": "stream",
     "text": [
      "Node(1/1, \n",
      "  «0.000:1.000 1/1♩ 4C tiedNext»\n",
      ") Node(1/1, \n",
      "  «1.000:2.000 1/1♩ 4C tiedPrev»\n",
      ") acrossBeat=True, syncopated=True\n",
      "Node(1/1, \n",
      "  «0.000:2.000 2/1♩ 4C»\n",
      ") Node(1/1, \n",
      "  «2.000:2.750 3/4♩ 4C#»\n",
      "  «2.750:3.000 1/4♩ 4D#»\n",
      ") acrossBeat=True, syncopated=False\n",
      "Node(1/1, \n",
      "  «2.000:2.750 3/4♩ 4C#»\n",
      "  «2.750:3.000 1/4♩ 4D#»\n",
      ") Node(1/1, \n",
      "  «3.000:4.000 1/1♩ rest»\n",
      ") acrossBeat=True, syncopated=False\n"
     ]
    },
    {
     "data": {
      "text/html": [
       "<b>LilypondRenderer</b> (1 part)<br>\n",
       "        <img style=\"display:inline; padding:10px;\n",
       "margin-top:14px;\n",
       "width:489.0\"\n",
       "             src=\"data:image/png;base64,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\"/>"
      ],
      "text/plain": [
       "<maelzel.scoring.renderlily.LilypondRenderer at 0x7f49e414e820>"
      ]
     },
     "execution_count": 9,
     "metadata": {},
     "output_type": "execute_result"
    }
   ],
   "source": [
    "from maelzel import scoring\n",
    "from maelzel.scorestruct import ScoreStruct\n",
    "\n",
    "notes = [\n",
    "    (60, F(2, 1)),\n",
    "    (61, F(3, 4)),\n",
    "    (63, F(1, 4)),\n",
    "    \n",
    "]\n",
    "\n",
    "notations = [scoring.makeNote(p, d) for p, d in notes]\n",
    "struct = ScoreStruct(timesig='4/4', tempo=70)\n",
    "\n",
    "part = scoring.Part(notations)\n",
    "quantprofile = scoring.quant.QuantizationProfile.fromPreset('highest')\n",
    "quantprofile.debug = True\n",
    "quantprofile.debugMaxDivisions = 20\n",
    "quantprofile.rhythmComplexityWeight = 0.001\n",
    "quantprofile.divisionErrorWeight = 0.01\n",
    "qpart = scoring.quant.quantizePart(part, struct=struct, quantprofile=quantprofile)\n",
    "options = scoring.render.RenderOptions()\n",
    "score = scoring.quant.QuantizedScore([qpart])\n",
    "r = scoring.render.renderQuantizedScore(score, options)\n",
    "# qpart.dump()\n",
    "r"
   ]
  },
  {
   "cell_type": "code",
   "execution_count": 10,
   "id": "af4ba261-96fb-49d2-a151-66a7e3493b2b",
   "metadata": {},
   "outputs": [
    {
     "name": "stdout",
     "output_type": "stream",
     "text": [
      "Beat: 0 - 1 (dur: 1)\n",
      "Skipped 0 divisions with a div. penalty > 0.4\n",
      "Best 1 divisions: \n"
     ]
    },
    {
     "data": {
      "text/html": [
       "<table>\n",
       "<thead>\n",
       "<tr><th>error  </th><th>div  </th><th>makeSnappedNotation             </th><th>slots  </th><th>info                                                                                                                                                           </th></tr>\n",
       "</thead>\n",
       "<tbody>\n",
       "<tr><td>0      </td><td>(1,) </td><td>[«0.000:1.000 1/1♩ 4C tiedNext»]</td><td>[0]    </td><td>gridError=0, rhythmComplexity=0 (numNotesAcrossSubdics=0, numTies=0), divPenalty=0 (0, divPenalty=0, cardinalityPenalty=0, numSubdivsPenalty=0, levelPenalty=0)</td></tr>\n",
       "</tbody>\n",
       "</table>"
      ],
      "text/plain": [
       "<IPython.core.display.HTML object>"
      ]
     },
     "metadata": {},
     "output_type": "display_data"
    },
    {
     "name": "stdout",
     "output_type": "stream",
     "text": [
      "Beat: 1 - 2 (dur: 1)\n",
      "Skipped 0 divisions with a div. penalty > 0.4\n",
      "Best 1 divisions: \n"
     ]
    },
    {
     "data": {
      "text/html": [
       "<table>\n",
       "<thead>\n",
       "<tr><th>error  </th><th>div  </th><th>makeSnappedNotation             </th><th>slots  </th><th>info                                                                                                                                                           </th></tr>\n",
       "</thead>\n",
       "<tbody>\n",
       "<tr><td>0      </td><td>(1,) </td><td>[«0.000:1.000 1/1♩ 4C tiedPrev»]</td><td>[0]    </td><td>gridError=0, rhythmComplexity=0 (numNotesAcrossSubdics=0, numTies=0), divPenalty=0 (0, divPenalty=0, cardinalityPenalty=0, numSubdivsPenalty=0, levelPenalty=0)</td></tr>\n",
       "</tbody>\n",
       "</table>"
      ],
      "text/plain": [
       "<IPython.core.display.HTML object>"
      ]
     },
     "metadata": {},
     "output_type": "display_data"
    },
    {
     "name": "stdout",
     "output_type": "stream",
     "text": [
      "Beat: 2 - 3 (dur: 1)\n",
      "Skipped 0 divisions with a div. penalty > 0.4\n",
      "Best 20 divisions: \n"
     ]
    },
    {
     "data": {
      "text/html": [
       "<table>\n",
       "<thead>\n",
       "<tr><th>error   </th><th>div            </th><th>makeSnappedNotation                                                                                                                           </th><th>slots    </th><th>info                                                                                                                                                                                      </th></tr>\n",
       "</thead>\n",
       "<tbody>\n",
       "<tr><td>0.010729</td><td>(1, 1, 8)      </td><td>[«0.000:0.750 3/4♩ 4C#», «0.750:0.792 1/24♩ 4D#», «0.792:1.000 5/24♩ 4E»]                                                                     </td><td>[0, 4, 5]</td><td>gridError=0, rhythmComplexity=0.333 (numNotesAcrossSubdics=1, numTies=1), divPenalty=0.02 (0.0002, divPenalty=0.02, cardinalityPenalty=0, numSubdivsPenalty=0, levelPenalty=0)            </td></tr>\n",
       "<tr><td>0.01077 </td><td>(1, 1, 1, 6)   </td><td>[«0.000:0.750 3/4♩ 4C#», «0.750:0.792 1/24♩ 4D#», «0.792:1.000 5/24♩ 4E»]                                                                     </td><td>[0, 3, 4]</td><td>gridError=0, rhythmComplexity=0.316 (numNotesAcrossSubdics=0, numTies=1), divPenalty=0.04 (0.0004, divPenalty=0.04, cardinalityPenalty=0, numSubdivsPenalty=0, levelPenalty=0)            </td></tr>\n",
       "<tr><td>0.021361</td><td>(1, 1, 1, 7)   </td><td>[«0.000:0.750 3/4♩ 4C#», «0.750:0.786 1/28♩ 4D#», «0.786:1.000 3/14♩ 4E»]                                                                     </td><td>[0, 3, 4]</td><td>gridError=0.021, rhythmComplexity=0 (numNotesAcrossSubdics=0, numTies=0), divPenalty=0.04 (0.0004, divPenalty=0.04, cardinalityPenalty=0, numSubdivsPenalty=0, levelPenalty=0)            </td></tr>\n",
       "<tr><td>0.027754</td><td>(1, 1, 1, 5)   </td><td>[«0.000:0.750 3/4♩ 4C#», «0.750:0.800 1/20♩ 4D#», «0.800:1.000 1/5♩ 4E»]                                                                      </td><td>[0, 3, 4]</td><td>gridError=0.0275, rhythmComplexity=0 (numNotesAcrossSubdics=0, numTies=0), divPenalty=0.04 (0.0004, divPenalty=0.04, cardinalityPenalty=0, numSubdivsPenalty=0, levelPenalty=0)           </td></tr>\n",
       "<tr><td>0.027953</td><td>(1, 1, 1, 4, 1)</td><td>[«0.000:0.750 3/4♩ 4C#», «0.750:0.800 1/20♩ 4D#», «0.800:1.000 1/5♩ 4E»]                                                                      </td><td>[0, 6, 7]</td><td>gridError=0.0275, rhythmComplexity=0.105 (numNotesAcrossSubdics=1, numTies=0), divPenalty=0.04 (0.0004, divPenalty=0.04, cardinalityPenalty=0, numSubdivsPenalty=0, levelPenalty=0)       </td></tr>\n",
       "<tr><td>0.046057</td><td>(1, 1, 1, 5, 1)</td><td>[«0.000:0.760 19/25♩ 4C#», «0.760:0.800 1/25♩ 4D#», «0.800:1.000 1/5♩ 4E»]                                                                    </td><td>[0, 7, 8]</td><td>gridError=0.0444, rhythmComplexity=0.333 (numNotesAcrossSubdics=1, numTies=1), divPenalty=0.06 (0.0006, divPenalty=0.04, cardinalityPenalty=0, numSubdivsPenalty=0, levelPenalty=0)       </td></tr>\n",
       "<tr><td>0.055446</td><td>(1, 1, 9)      </td><td>[«0.000:0.741 20/27♩ 4C#», «0.741:0.778 1/27♩ 4D#», «0.778:1.000 2/9♩ 4E»]                                                                    </td><td>[0, 4, 5]</td><td>gridError=0.0544, rhythmComplexity=0.333 (numNotesAcrossSubdics=1, numTies=1), divPenalty=0.02 (0.0002, divPenalty=0.02, cardinalityPenalty=0, numSubdivsPenalty=0, levelPenalty=0)       </td></tr>\n",
       "<tr><td>0.057303</td><td>(1, 1, 1, 4)   </td><td>[«0.000:0.750 3/4♩ 4C#», «0.750:0.812 1/16♩ 4D#», «0.812:1.000 3/16♩ 4E»]                                                                     </td><td>[0, 3, 4]</td><td>gridError=0.0572, rhythmComplexity=0 (numNotesAcrossSubdics=0, numTies=0), divPenalty=0.04 (0.0004, divPenalty=0.04, cardinalityPenalty=0, numSubdivsPenalty=0, levelPenalty=0)           </td></tr>\n",
       "<tr><td>0.0667  </td><td>(1, 1, 7)      </td><td>[«0.000:0.762 16/21♩ 4C#», «0.762:0.810 1/21♩ 4D#», «0.810:1.000 4/21♩ 4E»]                                                                   </td><td>[0, 4, 5]</td><td>gridError=0.0665, rhythmComplexity=0.105 (numNotesAcrossSubdics=1, numTies=0), divPenalty=0.0374 (0.0003742, divPenalty=0.02, cardinalityPenalty=0.1, numSubdivsPenalty=0, levelPenalty=0)</td></tr>\n",
       "<tr><td>0.067079</td><td>(1, 1, 5)      </td><td>[«0.000:0.733 11/15♩ 4C#», «0.733:0.800 1/15♩ 4D#», «0.800:1.000 1/5♩ 4E»]                                                                    </td><td>[0, 3, 4]</td><td>gridError=0.0661, rhythmComplexity=0.333 (numNotesAcrossSubdics=1, numTies=1), divPenalty=0.0374 (0.0003742, divPenalty=0.02, cardinalityPenalty=0.1, numSubdivsPenalty=0, levelPenalty=0)</td></tr>\n",
       "<tr><td>0.067209</td><td>(1, 1, 1, 3, 1)</td><td>[«0.000:0.733 11/15♩ 4C#», «0.733:0.800 1/15♩ 4D#», «0.800:1.000 1/5♩ 4E»]                                                                    </td><td>[0, 5, 6]</td><td>gridError=0.0661, rhythmComplexity=0.333 (numNotesAcrossSubdics=1, numTies=1), divPenalty=0.0561 (0.0005612, divPenalty=0.02, cardinalityPenalty=0.1, numSubdivsPenalty=0, levelPenalty=0)</td></tr>\n",
       "<tr><td>0.07046 </td><td>(1, 1, 3)      </td><td>[«0.000:0.778 7/9♩ 4C#», «0.778:grace 4D# properties={&#x27;.snappedGracenote&#x27;: True, &#x27;originalDuration&#x27;: Fraction(1, 24)}», «0.778:1.000 2/9♩ 4E»]</td><td>[0, 3, 3]</td><td>gridError=0.0704, rhythmComplexity=0.105 (numNotesAcrossSubdics=1, numTies=0), divPenalty=0 (0, divPenalty=0, cardinalityPenalty=0, numSubdivsPenalty=0, levelPenalty=0)                  </td></tr>\n",
       "<tr><td>0.071116</td><td>(9,)           </td><td>[«0.000:0.778 7/9♩ 4C#», «0.778:grace 4D# properties={&#x27;.snappedGracenote&#x27;: True, &#x27;originalDuration&#x27;: Fraction(1, 24)}», «0.778:1.000 2/9♩ 4E»]</td><td>[0, 7, 7]</td><td>gridError=0.0704, rhythmComplexity=0.316 (numNotesAcrossSubdics=0, numTies=1), divPenalty=0.02 (0.0002, divPenalty=0.02, cardinalityPenalty=0, numSubdivsPenalty=0, levelPenalty=0)       </td></tr>\n",
       "<tr><td>0.084802</td><td>(5,)           </td><td>[«0.000:0.800 4/5♩ 4C#», «0.800:grace 4D# properties={&#x27;.snappedGracenote&#x27;: True, &#x27;originalDuration&#x27;: Fraction(1, 24)}», «0.800:1.000 1/5♩ 4E»]</td><td>[0, 4, 4]</td><td>gridError=0.0842, rhythmComplexity=0.316 (numNotesAcrossSubdics=0, numTies=1), divPenalty=0.02 (0.0002, divPenalty=0.02, cardinalityPenalty=0, numSubdivsPenalty=0, levelPenalty=0)       </td></tr>\n",
       "<tr><td>0.087778</td><td>(1, 2)         </td><td>[«0.000:0.750 3/4♩ 4C#», «0.750:grace 4D# properties={&#x27;.snappedGracenote&#x27;: True, &#x27;originalDuration&#x27;: Fraction(1, 24)}», «0.750:1.000 1/4♩ 4E»]</td><td>[0, 2, 2]</td><td>gridError=0.0877, rhythmComplexity=0.105 (numNotesAcrossSubdics=1, numTies=0), divPenalty=0 (0, divPenalty=0, cardinalityPenalty=0, numSubdivsPenalty=0, levelPenalty=0)                  </td></tr>\n",
       "<tr><td>0.0878  </td><td>(1, 1, 4)      </td><td>[«0.000:0.750 3/4♩ 4C#», «0.750:grace 4D# properties={&#x27;.snappedGracenote&#x27;: True, &#x27;originalDuration&#x27;: Fraction(1, 24)}», «0.750:1.000 1/4♩ 4E»]</td><td>[0, 3, 3]</td><td>gridError=0.0877, rhythmComplexity=0.105 (numNotesAcrossSubdics=1, numTies=0), divPenalty=0.02 (0.0002, divPenalty=0.02, cardinalityPenalty=0, numSubdivsPenalty=0, levelPenalty=0)       </td></tr>\n",
       "<tr><td>0.088305</td><td>(4,)           </td><td>[«0.000:0.750 3/4♩ 4C#», «0.750:grace 4D# properties={&#x27;.snappedGracenote&#x27;: True, &#x27;originalDuration&#x27;: Fraction(1, 24)}», «0.750:1.000 1/4♩ 4E»]</td><td>[0, 3, 3]</td><td>gridError=0.0877, rhythmComplexity=0.316 (numNotesAcrossSubdics=0, numTies=1), divPenalty=0.02 (0.0002, divPenalty=0.02, cardinalityPenalty=0, numSubdivsPenalty=0, levelPenalty=0)       </td></tr>\n",
       "<tr><td>0.0895  </td><td>(1, 1, 6)      </td><td>[«0.000:0.722 13/18♩ 4C#», «0.722:0.778 1/18♩ 4D#», «0.778:1.000 2/9♩ 4E»]                                                                    </td><td>[0, 3, 4]</td><td>gridError=0.0889, rhythmComplexity=0.333 (numNotesAcrossSubdics=1, numTies=1), divPenalty=0.02 (0.0002, divPenalty=0.02, cardinalityPenalty=0, numSubdivsPenalty=0, levelPenalty=0)       </td></tr>\n",
       "<tr><td>0.1142  </td><td>(11,)          </td><td>[«0.000:0.727 8/11♩ 4C#», «0.727:0.818 1/11♩ 4D#», «0.818:1.000 2/11♩ 4E»]                                                                    </td><td>[0, 8, 9]</td><td>gridError=0.114, rhythmComplexity=0 (numNotesAcrossSubdics=0, numTies=0), divPenalty=0.1 (0.001, divPenalty=0.1, cardinalityPenalty=0, numSubdivsPenalty=0, levelPenalty=0)               </td></tr>\n",
       "<tr><td>0.13033 </td><td>(1, 1, 1, 2, 1)</td><td>[«0.000:0.700 7/10♩ 4C#», «0.700:0.800 1/10♩ 4D#», «0.800:1.000 1/5♩ 4E»]                                                                     </td><td>[0, 4, 5]</td><td>gridError=0.13, rhythmComplexity=0.105 (numNotesAcrossSubdics=1, numTies=0), divPenalty=0.02 (0.0002, divPenalty=0.02, cardinalityPenalty=0, numSubdivsPenalty=0, levelPenalty=0)         </td></tr>\n",
       "</tbody>\n",
       "</table>"
      ],
      "text/plain": [
       "<IPython.core.display.HTML object>"
      ]
     },
     "metadata": {},
     "output_type": "display_data"
    },
    {
     "name": "stdout",
     "output_type": "stream",
     "text": [
      "Node(1/1, \n",
      "  «0.000:1.000 1/1♩ 4C tiedNext»\n",
      ") Node(1/1, \n",
      "  «1.000:2.000 1/1♩ 4C tiedPrev»\n",
      ") acrossBeat=True, syncopated=True\n"
     ]
    },
    {
     "data": {
      "text/html": [
       "<b>LilypondRenderer</b> (1 part)<br>\n",
       "        <img style=\"display:inline; padding:10px;\n",
       "margin-top:14px;\n",
       "width:753.0\"\n",
       "             src=\"data:image/png;base64,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\"/>"
      ],
      "text/plain": [
       "<maelzel.scoring.renderlily.LilypondRenderer at 0x7f49e41f9e20>"
      ]
     },
     "execution_count": 10,
     "metadata": {},
     "output_type": "execute_result"
    }
   ],
   "source": [
    "from maelzel import scoring\n",
    "from maelzel.scorestruct import ScoreStruct\n",
    "\n",
    "notes = [\n",
    "    (60, F(2, 1)),\n",
    "    (61, F(3, 4)),\n",
    "    (63, F(1, 4)*F(1, 6)),\n",
    "    (64, F(1, 4)*F(5, 6)),\n",
    "    # (62, F(3, 4))\n",
    "]\n",
    "\n",
    "notations = [scoring.makeNote(p, d) for p, d in notes]\n",
    "struct = ScoreStruct(timesig='4/4', tempo=70)\n",
    "\n",
    "part = scoring.Part(notations)\n",
    "quantprofile = scoring.quant.QuantizationProfile.fromPreset('highest')\n",
    "quantprofile.debug = True\n",
    "quantprofile.debugMaxDivisions = 20\n",
    "quantprofile.rhythmComplexityWeight = 0.001\n",
    "quantprofile.divisionErrorWeight = 0.01\n",
    "qpart = scoring.quant.quantizePart(part, struct=struct, quantprofile=quantprofile)\n",
    "options = scoring.render.RenderOptions()\n",
    "score = scoring.quant.QuantizedScore([qpart])\n",
    "r = scoring.render.renderQuantizedScore(score, options)\n",
    "# qpart.dump()\n",
    "r"
   ]
  },
  {
   "cell_type": "code",
   "execution_count": 9,
   "id": "4cc47797-ff95-4b08-890a-e51fbf81d886",
   "metadata": {},
   "outputs": [
    {
     "data": {
      "text/plain": [
       "Node(1/1, \n",
       "  Node(1/1, \n",
       "    «0.000:2.000 2/1♩ 4C»\n",
       "  )\n",
       "  Node(3/2, \n",
       "    «2.000:2.667 2/3♩ 3/2 4C# tiedNext»\n",
       "    Node(1/1, \n",
       "      «2.667:2.750 1/12♩ 3/2 4C# tiedPrev»\n",
       "      «2.750:2.792 1/24♩ 3/2 4D#»\n",
       "      «2.792:2.833 1/24♩ 3/2 4E tiedNext»\n",
       "      «2.833:3.000 1/6♩ 3/2 4E tiedPrev»\n",
       "    )\n",
       "  )\n",
       "  Node(1/1, \n",
       "    «3.000:4.000 1/1♩ rest»\n",
       "  )\n",
       ")"
      ]
     },
     "execution_count": 9,
     "metadata": {},
     "output_type": "execute_result"
    }
   ],
   "source": [
    "tree = score.parts[0].measures[0].tree()\n",
    "tree"
   ]
  },
  {
   "cell_type": "code",
   "execution_count": 10,
   "id": "89bb7327-f713-4518-90a8-c4ce42573972",
   "metadata": {},
   "outputs": [
    {
     "name": "stdout",
     "output_type": "stream",
     "text": [
      "Beat: 0 - 1 (dur: 1)\n",
      "Skipped 0 divisions with a div. penalty > 0.4\n",
      "Best 20 divisions: \n"
     ]
    },
    {
     "data": {
      "text/html": [
       "<table>\n",
       "<thead>\n",
       "<tr><th>error    </th><th>div         </th><th>makeSnappedNotation                                                                                                                                        </th><th>slots                </th><th>info                                                                                                                                                                                      </th></tr>\n",
       "</thead>\n",
       "<tbody>\n",
       "<tr><td>0.0028245</td><td>(5, 5, 1)   </td><td>[«0.000:0.133 2/15♩ 4C», «0.133:0.267 2/15♩ 4C#», «0.267:0.400 2/15♩ 4D», «0.400:0.533 2/15♩ 4D#», «0.533:0.667 2/15♩ 4E», «0.667:1.000 1/3♩ 4F tiedNext»] </td><td>[0, 2, 4, 6, 8, 10]  </td><td>gridError=0, rhythmComplexity=0.0527 (numNotesAcrossSubdics=1, numTies=0), divPenalty=0.051 (0.000102, divPenalty=0.04, cardinalityPenalty=0.1, numSubdivsPenalty=0, levelPenalty=0)      </td></tr>\n",
       "<tr><td>0.059115 </td><td>(5, 8, 1)   </td><td>[«0.000:0.133 2/15♩ 4C», «0.133:0.267 2/15♩ 4C#», «0.267:0.417 3/20♩ 4D», «0.417:0.542 1/8♩ 4D#», «0.542:0.667 1/8♩ 4E», «0.667:1.000 1/3♩ 4F tiedNext»]   </td><td>[0, 2, 4, 7, 10, 13] </td><td>gridError=0.059, rhythmComplexity=0.0527 (numNotesAcrossSubdics=1, numTies=0), divPenalty=0.051 (0.000102, divPenalty=0.04, cardinalityPenalty=0.1, numSubdivsPenalty=0, levelPenalty=0)  </td></tr>\n",
       "<tr><td>0.059115 </td><td>(8, 5, 1)   </td><td>[«0.000:0.125 1/8♩ 4C», «0.125:0.250 1/8♩ 4C#», «0.250:0.400 3/20♩ 4D», «0.400:0.533 2/15♩ 4D#», «0.533:0.667 2/15♩ 4E», «0.667:1.000 1/3♩ 4F tiedNext»]   </td><td>[0, 3, 6, 9, 11, 13] </td><td>gridError=0.059, rhythmComplexity=0.0527 (numNotesAcrossSubdics=1, numTies=0), divPenalty=0.051 (0.000102, divPenalty=0.04, cardinalityPenalty=0.1, numSubdivsPenalty=0, levelPenalty=0)  </td></tr>\n",
       "<tr><td>0.060465 </td><td>(9, 5, 1)   </td><td>[«0.000:0.148 4/27♩ 4C», «0.148:0.259 1/9♩ 4C#», «0.259:0.400 0.141♩ 4D», «0.400:0.533 2/15♩ 4D#», «0.533:0.667 2/15♩ 4E», «0.667:1.000 1/3♩ 4F tiedNext»] </td><td>[0, 4, 7, 10, 12, 14]</td><td>gridError=0.0602, rhythmComplexity=0.167 (numNotesAcrossSubdics=1, numTies=1), divPenalty=0.051 (0.000102, divPenalty=0.04, cardinalityPenalty=0.1, numSubdivsPenalty=0, levelPenalty=0)  </td></tr>\n",
       "<tr><td>0.060465 </td><td>(5, 9, 1)   </td><td>[«0.000:0.133 2/15♩ 4C», «0.133:0.267 2/15♩ 4C#», «0.267:0.407 0.141♩ 4D», «0.407:0.519 1/9♩ 4D#», «0.519:0.667 4/27♩ 4E», «0.667:1.000 1/3♩ 4F tiedNext»] </td><td>[0, 2, 4, 7, 10, 14] </td><td>gridError=0.0602, rhythmComplexity=0.167 (numNotesAcrossSubdics=1, numTies=1), divPenalty=0.051 (0.000102, divPenalty=0.04, cardinalityPenalty=0.1, numSubdivsPenalty=0, levelPenalty=0)  </td></tr>\n",
       "<tr><td>0.065992 </td><td>(7, 5, 1)   </td><td>[«0.000:0.143 1/7♩ 4C», «0.143:0.286 1/7♩ 4C#», «0.286:0.400 4/35♩ 4D», «0.400:0.533 2/15♩ 4D#», «0.533:0.667 2/15♩ 4E», «0.667:1.000 1/3♩ 4F tiedNext»]   </td><td>[0, 3, 6, 8, 10, 12] </td><td>gridError=0.0657, rhythmComplexity=0.0527 (numNotesAcrossSubdics=1, numTies=0), divPenalty=0.133 (0.0002653, divPenalty=0.04, cardinalityPenalty=0.4, numSubdivsPenalty=0, levelPenalty=0)</td></tr>\n",
       "<tr><td>0.065992 </td><td>(5, 7, 1)   </td><td>[«0.000:0.133 2/15♩ 4C», «0.133:0.267 2/15♩ 4C#», «0.267:0.381 4/35♩ 4D», «0.381:0.524 1/7♩ 4D#», «0.524:0.667 1/7♩ 4E», «0.667:1.000 1/3♩ 4F tiedNext»]   </td><td>[0, 2, 4, 6, 9, 12]  </td><td>gridError=0.0657, rhythmComplexity=0.0527 (numNotesAcrossSubdics=1, numTies=0), divPenalty=0.133 (0.0002653, divPenalty=0.04, cardinalityPenalty=0.4, numSubdivsPenalty=0, levelPenalty=0)</td></tr>\n",
       "<tr><td>0.076653 </td><td>(2, 5, 6, 1)</td><td>[«0.000:0.125 1/8♩ 4C», «0.125:0.250 1/8♩ 4C#», «0.250:0.400 3/20♩ 4D», «0.400:0.542 0.142♩ 4D#», «0.542:0.667 1/8♩ 4E», «0.667:1.000 1/3♩ 4F tiedNext»]   </td><td>[0, 1, 2, 5, 8, 11]  </td><td>gridError=0.0764, rhythmComplexity=0.19 (numNotesAcrossSubdics=2, numTies=1), divPenalty=0.0678 (0.0001356, divPenalty=0.06, cardinalityPenalty=0.1, numSubdivsPenalty=0, levelPenalty=0) </td></tr>\n",
       "<tr><td>0.083453 </td><td>(6, 5, 1)   </td><td>[«0.000:0.111 1/9♩ 4C», «0.111:0.278 1/6♩ 4C#», «0.278:0.400 11/90♩ 4D», «0.400:0.533 2/15♩ 4D#», «0.533:0.667 2/15♩ 4E», «0.667:1.000 1/3♩ 4F tiedNext»]  </td><td>[0, 2, 5, 7, 9, 11]  </td><td>gridError=0.0833, rhythmComplexity=0.167 (numNotesAcrossSubdics=1, numTies=1), divPenalty=0.051 (0.000102, divPenalty=0.04, cardinalityPenalty=0.1, numSubdivsPenalty=0, levelPenalty=0)  </td></tr>\n",
       "<tr><td>0.083453 </td><td>(5, 6, 1)   </td><td>[«0.000:0.133 2/15♩ 4C», «0.133:0.267 2/15♩ 4C#», «0.267:0.389 11/90♩ 4D», «0.389:0.556 1/6♩ 4D#», «0.556:0.667 1/9♩ 4E», «0.667:1.000 1/3♩ 4F tiedNext»]  </td><td>[0, 2, 4, 6, 9, 11]  </td><td>gridError=0.0833, rhythmComplexity=0.167 (numNotesAcrossSubdics=1, numTies=1), divPenalty=0.051 (0.000102, divPenalty=0.04, cardinalityPenalty=0.1, numSubdivsPenalty=0, levelPenalty=0)  </td></tr>\n",
       "<tr><td>0.084061 </td><td>(11, 9)     </td><td>[«0.000:0.136 3/22♩ 4C», «0.136:0.273 3/22♩ 4C#», «0.273:0.409 3/22♩ 4D», «0.409:0.556 0.146♩ 4D#», «0.556:0.667 1/9♩ 4E», «0.667:1.000 1/3♩ 4F tiedNext»] </td><td>[0, 3, 6, 9, 12, 14] </td><td>gridError=0.0837, rhythmComplexity=0.167 (numNotesAcrossSubdics=1, numTies=1), divPenalty=0.124 (0.0002482, divPenalty=0.12, cardinalityPenalty=0.1, numSubdivsPenalty=0, levelPenalty=0) </td></tr>\n",
       "<tr><td>0.085777 </td><td>(2, 7, 6, 1)</td><td>[«0.000:0.125 1/8♩ 4C», «0.125:0.250 1/8♩ 4C#», «0.250:0.393 1/7♩ 4D», «0.393:0.542 0.149♩ 4D#», «0.542:0.667 1/8♩ 4E», «0.667:1.000 1/3♩ 4F tiedNext»]    </td><td>[0, 1, 2, 6, 10, 13] </td><td>gridError=0.0855, rhythmComplexity=0.19 (numNotesAcrossSubdics=2, numTies=1), divPenalty=0.0678 (0.0001356, divPenalty=0.06, cardinalityPenalty=0.1, numSubdivsPenalty=0, levelPenalty=0) </td></tr>\n",
       "<tr><td>0.086097 </td><td>(7, 5, 6, 1)</td><td>[«0.000:0.143 1/7♩ 4C», «0.143:0.250 3/28♩ 4C#», «0.250:0.400 3/20♩ 4D», «0.400:0.542 0.142♩ 4D#», «0.542:0.667 1/8♩ 4E», «0.667:1.000 1/3♩ 4F tiedNext»]  </td><td>[0, 4, 7, 10, 13, 16]</td><td>gridError=0.0856, rhythmComplexity=0.19 (numNotesAcrossSubdics=2, numTies=1), divPenalty=0.15 (0.0002993, divPenalty=0.08, cardinalityPenalty=0.4, numSubdivsPenalty=0, levelPenalty=0)   </td></tr>\n",
       "<tr><td>0.087128 </td><td>(2, 5, 7, 1)</td><td>[«0.000:0.125 1/8♩ 4C», «0.125:0.250 1/8♩ 4C#», «0.250:0.400 3/20♩ 4D», «0.400:0.536 0.136♩ 4D#», «0.536:0.679 1/7♩ 4E», «0.679:1.000 9/28♩ 4F tiedNext»]  </td><td>[0, 1, 2, 5, 8, 12]  </td><td>gridError=0.0864, rhythmComplexity=0.333 (numNotesAcrossSubdics=2, numTies=2), divPenalty=0.0678 (0.0001356, divPenalty=0.06, cardinalityPenalty=0.1, numSubdivsPenalty=0, levelPenalty=0)</td></tr>\n",
       "<tr><td>0.087741 </td><td>(11, 11)    </td><td>[«0.000:0.136 3/22♩ 4C», «0.136:0.273 3/22♩ 4C#», «0.273:0.409 3/22♩ 4D», «0.409:0.545 3/22♩ 4D#», «0.545:0.682 3/22♩ 4E», «0.682:1.000 7/22♩ 4F tiedNext»]</td><td>[0, 3, 6, 9, 12, 15] </td><td>gridError=0.0873, rhythmComplexity=0.0527 (numNotesAcrossSubdics=1, numTies=0), divPenalty=0.2 (0.0004, divPenalty=0.2, cardinalityPenalty=0, numSubdivsPenalty=0, levelPenalty=0)        </td></tr>\n",
       "<tr><td>0.094001 </td><td>(7, 7, 6, 1)</td><td>[«0.000:0.143 1/7♩ 4C», «0.143:0.250 3/28♩ 4C#», «0.250:0.393 1/7♩ 4D», «0.393:0.542 0.149♩ 4D#», «0.542:0.667 1/8♩ 4E», «0.667:1.000 1/3♩ 4F tiedNext»]   </td><td>[0, 4, 7, 11, 15, 18]</td><td>gridError=0.0937, rhythmComplexity=0.19 (numNotesAcrossSubdics=2, numTies=1), divPenalty=0.086 (0.000172, divPenalty=0.08, cardinalityPenalty=0.1, numSubdivsPenalty=0, levelPenalty=0)   </td></tr>\n",
       "<tr><td>0.095594 </td><td>(2, 7, 7, 1)</td><td>[«0.000:0.125 1/8♩ 4C», «0.125:0.250 1/8♩ 4C#», «0.250:0.393 1/7♩ 4D», «0.393:0.536 1/7♩ 4D#», «0.536:0.679 1/7♩ 4E», «0.679:1.000 9/28♩ 4F tiedNext»]     </td><td>[0, 1, 2, 6, 10, 14] </td><td>gridError=0.0954, rhythmComplexity=0.19 (numNotesAcrossSubdics=2, numTies=1), divPenalty=0.06 (0.00012, divPenalty=0.06, cardinalityPenalty=0, numSubdivsPenalty=0, levelPenalty=0)       </td></tr>\n",
       "<tr><td>0.095899 </td><td>(7, 5, 7, 1)</td><td>[«0.000:0.143 1/7♩ 4C», «0.143:0.250 3/28♩ 4C#», «0.250:0.400 3/20♩ 4D», «0.400:0.536 0.136♩ 4D#», «0.536:0.679 1/7♩ 4E», «0.679:1.000 9/28♩ 4F tiedNext»] </td><td>[0, 4, 7, 10, 13, 17]</td><td>gridError=0.0952, rhythmComplexity=0.333 (numNotesAcrossSubdics=2, numTies=2), divPenalty=0.086 (0.000172, divPenalty=0.08, cardinalityPenalty=0.1, numSubdivsPenalty=0, levelPenalty=0)  </td></tr>\n",
       "<tr><td>0.099782 </td><td>(5, 5, 6, 1)</td><td>[«0.000:0.150 3/20♩ 4C», «0.150:0.250 1/10♩ 4C#», «0.250:0.400 3/20♩ 4D», «0.400:0.542 0.142♩ 4D#», «0.542:0.667 1/8♩ 4E», «0.667:1.000 1/3♩ 4F tiedNext»] </td><td>[0, 3, 5, 8, 11, 14] </td><td>gridError=0.0995, rhythmComplexity=0.19 (numNotesAcrossSubdics=2, numTies=1), divPenalty=0.086 (0.000172, divPenalty=0.08, cardinalityPenalty=0.1, numSubdivsPenalty=0, levelPenalty=0)   </td></tr>\n",
       "<tr><td>0.10014  </td><td>(8, 7, 1)   </td><td>[«0.000:0.125 1/8♩ 4C», «0.125:0.250 1/8♩ 4C#», «0.250:0.381 11/84♩ 4D», «0.381:0.524 1/7♩ 4D#», «0.524:0.667 1/7♩ 4E», «0.667:1.000 1/3♩ 4F tiedNext»]    </td><td>[0, 3, 6, 9, 12, 15] </td><td>gridError=0.1, rhythmComplexity=0.167 (numNotesAcrossSubdics=1, numTies=1), divPenalty=0.051 (0.000102, divPenalty=0.04, cardinalityPenalty=0.1, numSubdivsPenalty=0, levelPenalty=0)     </td></tr>\n",
       "</tbody>\n",
       "</table>"
      ],
      "text/plain": [
       "<IPython.core.display.HTML object>"
      ]
     },
     "metadata": {},
     "output_type": "display_data"
    },
    {
     "name": "stdout",
     "output_type": "stream",
     "text": [
      "Beat: 1 - 2 (dur: 1)\n",
      "Skipped 0 divisions with a div. penalty > 0.4\n",
      "Best 2 divisions: \n"
     ]
    },
    {
     "data": {
      "text/html": [
       "<table>\n",
       "<thead>\n",
       "<tr><th>error  </th><th>div  </th><th>makeSnappedNotation                                      </th><th>slots  </th><th>info                                                                                                                                                                         </th></tr>\n",
       "</thead>\n",
       "<tbody>\n",
       "<tr><td>0      </td><td>(3,) </td><td>[«0.000:0.333 1/3♩ 4F tiedPrev», «0.333:1.000 2/3♩ rest»]</td><td>[0, 1] </td><td>gridError=0, rhythmComplexity=0 (numNotesAcrossSubdics=0, numTies=0), divPenalty=0 (0, divPenalty=0, cardinalityPenalty=0, numSubdivsPenalty=0, levelPenalty=0)              </td></tr>\n",
       "<tr><td>0.11685</td><td>(5,) </td><td>[«0.000:0.400 2/5♩ 4F tiedPrev», «0.400:1.000 3/5♩ rest»]</td><td>[0, 2] </td><td>gridError=0.117, rhythmComplexity=0 (numNotesAcrossSubdics=0, numTies=0), divPenalty=0.02 (4e-05, divPenalty=0.02, cardinalityPenalty=0, numSubdivsPenalty=0, levelPenalty=0)</td></tr>\n",
       "</tbody>\n",
       "</table>"
      ],
      "text/plain": [
       "<IPython.core.display.HTML object>"
      ]
     },
     "metadata": {},
     "output_type": "display_data"
    },
    {
     "data": {
      "text/html": [
       "<b>LilypondRenderer</b> (1 part)<br>\n",
       "        <img style=\"display:inline; padding:10px;\n",
       "margin-top:14px;\n",
       "width:764.0\"\n",
       "             src=\"data:image/png;base64,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\"/>"
      ],
      "text/plain": [
       "<maelzel.scoring.renderlily.LilypondRenderer at 0x7f5760204c70>"
      ]
     },
     "execution_count": 10,
     "metadata": {},
     "output_type": "execute_result"
    }
   ],
   "source": [
    "from maelzel import scoring\n",
    "from maelzel.scorestruct import ScoreStruct\n",
    "from maelzel.scoring import quantutils\n",
    "from maelzel.common import F\n",
    "\n",
    "notes = [\n",
    "    (60, F(2, 3)*F(1, 5)),\n",
    "    (61, F(2, 3)*F(1, 5)),\n",
    "    (62, F(2, 3)*F(1, 5)),\n",
    "    (63, F(2, 3)*F(1, 5)),\n",
    "    (64, F(2, 3)*F(1, 5)),\n",
    "    (65, F(2,3)),\n",
    "    #(60, F(2, 7)),\n",
    "    #(61, F(3, 7)),\n",
    "    #(62, F(4, 7))\n",
    "    \n",
    "    \n",
    "    ]\n",
    "\n",
    "struct = ScoreStruct(timesig='4/4', tempo=70)\n",
    "\n",
    "notations = [scoring.makeNote(p, d) for p, d in notes]\n",
    "part = scoring.Part(notations)\n",
    "quantprofile = scoring.quant.QuantizationProfile.fromPreset('highest')\n",
    "quantprofile.rhythmComplexityWeight  = 0.001\n",
    "quantprofile.debug=True\n",
    "qpart = scoring.quant.quantizePart(part, struct=struct, quantprofile=quantprofile)\n",
    "options = scoring.render.RenderOptions()\n",
    "score = scoring.quant.QuantizedScore([qpart])\n",
    "r = scoring.render.renderQuantizedScore(score, options)\n",
    "r.write('~/tmp/bigtriplet.ly')\n",
    "r"
   ]
  },
  {
   "cell_type": "code",
   "execution_count": 11,
   "id": "fc6ca75f-b392-4ab3-9c3c-822aff030289",
   "metadata": {},
   "outputs": [
    {
     "name": "stdout",
     "output_type": "stream",
     "text": [
      "Beat: 0 - 1 (dur: 1)\n",
      "Skipped 0 divisions with a div. penalty > 0.4\n",
      "Best 20 divisions: \n"
     ]
    },
    {
     "data": {
      "text/html": [
       "<table>\n",
       "<thead>\n",
       "<tr><th>error    </th><th>div            </th><th>makeSnappedNotation                                                                                                        </th><th>slots            </th><th>info                                                                                                                                                                                     </th></tr>\n",
       "</thead>\n",
       "<tbody>\n",
       "<tr><td>0.0063246</td><td>(1, 1, 1, 2, 2)</td><td>[«0.000:0.600 3/5♩ 4C#», «0.600:0.700 1/10♩ 4E», «0.700:0.800 1/10♩ 4F», «0.800:0.900 1/10♩ 4F#», «0.900:1.000 1/10♩ 4G»]  </td><td>[0, 3, 4, 5, 6]  </td><td>gridError=0, rhythmComplexity=0 (numNotesAcrossSubdics=0, numTies=0), divPenalty=0.02 (0.002, divPenalty=0.02, cardinalityPenalty=0, numSubdivsPenalty=0, levelPenalty=0)                </td></tr>\n",
       "<tr><td>0.0089443</td><td>(1, 5)         </td><td>[«0.000:0.600 3/5♩ 4C#», «0.600:0.700 1/10♩ 4E», «0.700:0.800 1/10♩ 4F», «0.800:0.900 1/10♩ 4F#», «0.900:1.000 1/10♩ 4G»]  </td><td>[0, 2, 3, 4, 5]  </td><td>gridError=0, rhythmComplexity=0.0632 (numNotesAcrossSubdics=1, numTies=0), divPenalty=0.02 (0.002, divPenalty=0.02, cardinalityPenalty=0, numSubdivsPenalty=0, levelPenalty=0)           </td></tr>\n",
       "<tr><td>0.022804 </td><td>(1, 1, 5, 5)   </td><td>[«0.000:0.600 3/5♩ 4C#», «0.600:0.700 1/10♩ 4E», «0.700:0.800 1/10♩ 4F», «0.800:0.900 1/10♩ 4F#», «0.900:1.000 1/10♩ 4G»]  </td><td>[0, 4, 6, 8, 10] </td><td>gridError=0, rhythmComplexity=0.126 (numNotesAcrossSubdics=2, numTies=0), divPenalty=0.06 (0.006, divPenalty=0.06, cardinalityPenalty=0, numSubdivsPenalty=0, levelPenalty=0)            </td></tr>\n",
       "<tr><td>0.057831 </td><td>(1, 1, 5, 7)   </td><td>[«0.000:0.600 3/5♩ 4C#», «0.600:0.700 1/10♩ 4E», «0.700:0.786 3/35♩ 4F», «0.786:0.893 3/28♩ 4F#», «0.893:1.000 3/28♩ 4G»]  </td><td>[0, 4, 6, 8, 11] </td><td>gridError=0.0522, rhythmComplexity=0.126 (numNotesAcrossSubdics=2, numTies=0), divPenalty=0.0678 (0.006782, divPenalty=0.06, cardinalityPenalty=0.1, numSubdivsPenalty=0, levelPenalty=0)</td></tr>\n",
       "<tr><td>0.058489 </td><td>(1, 1, 1, 5, 2)</td><td>[«0.000:0.600 3/5♩ 4C#», «0.600:0.680 2/25♩ 4E», «0.680:0.800 3/25♩ 4F», «0.800:0.900 1/10♩ 4F#», «0.900:1.000 1/10♩ 4G»]  </td><td>[0, 3, 5, 8, 9]  </td><td>gridError=0.0553, rhythmComplexity=0 (numNotesAcrossSubdics=0, numTies=0), divPenalty=0.06 (0.006, divPenalty=0.04, cardinalityPenalty=0, numSubdivsPenalty=0, levelPenalty=0)           </td></tr>\n",
       "<tr><td>0.058489 </td><td>(1, 1, 1, 2, 5)</td><td>[«0.000:0.600 3/5♩ 4C#», «0.600:0.700 1/10♩ 4E», «0.700:0.800 1/10♩ 4F», «0.800:0.880 2/25♩ 4F#», «0.880:1.000 3/25♩ 4G»]  </td><td>[0, 3, 4, 5, 7]  </td><td>gridError=0.0553, rhythmComplexity=0 (numNotesAcrossSubdics=0, numTies=0), divPenalty=0.06 (0.006, divPenalty=0.04, cardinalityPenalty=0, numSubdivsPenalty=0, levelPenalty=0)           </td></tr>\n",
       "<tr><td>0.060864 </td><td>(1, 1, 7, 5)   </td><td>[«0.000:0.607 17/28♩ 4C#», «0.607:0.714 3/28♩ 4E», «0.714:0.800 3/35♩ 4F», «0.800:0.900 1/10♩ 4F#», «0.900:1.000 1/10♩ 4G»]</td><td>[0, 5, 8, 10, 12]</td><td>gridError=0.0522, rhythmComplexity=0.228 (numNotesAcrossSubdics=2, numTies=1), divPenalty=0.0678 (0.006782, divPenalty=0.06, cardinalityPenalty=0.1, numSubdivsPenalty=0, levelPenalty=0)</td></tr>\n",
       "<tr><td>0.073174 </td><td>(1, 1, 6, 5)   </td><td>[«0.000:0.583 7/12♩ 4C#», «0.583:0.708 1/8♩ 4E», «0.708:0.800 0.092♩ 4F», «0.800:0.900 1/10♩ 4F#», «0.900:1.000 1/10♩ 4G»] </td><td>[0, 4, 7, 9, 11] </td><td>gridError=0.0661, rhythmComplexity=0.228 (numNotesAcrossSubdics=2, numTies=1), divPenalty=0.0678 (0.006782, divPenalty=0.06, cardinalityPenalty=0.1, numSubdivsPenalty=0, levelPenalty=0)</td></tr>\n",
       "<tr><td>0.073174 </td><td>(1, 1, 5, 6)   </td><td>[«0.000:0.600 3/5♩ 4C#», «0.600:0.700 1/10♩ 4E», «0.700:0.792 0.092♩ 4F», «0.792:0.917 1/8♩ 4F#», «0.917:1.000 1/12♩ 4G»]  </td><td>[0, 4, 6, 8, 11] </td><td>gridError=0.0661, rhythmComplexity=0.228 (numNotesAcrossSubdics=2, numTies=1), divPenalty=0.0678 (0.006782, divPenalty=0.06, cardinalityPenalty=0.1, numSubdivsPenalty=0, levelPenalty=0)</td></tr>\n",
       "<tr><td>0.085126 </td><td>(1, 1, 1, 3, 2)</td><td>[«0.000:0.600 3/5♩ 4C#», «0.600:0.667 1/15♩ 4E», «0.667:0.800 2/15♩ 4F», «0.800:0.900 1/10♩ 4F#», «0.900:1.000 1/10♩ 4G»]  </td><td>[0, 3, 4, 6, 7]  </td><td>gridError=0.0833, rhythmComplexity=0 (numNotesAcrossSubdics=0, numTies=0), divPenalty=0.0561 (0.005612, divPenalty=0.02, cardinalityPenalty=0.1, numSubdivsPenalty=0, levelPenalty=0)    </td></tr>\n",
       "<tr><td>0.085126 </td><td>(1, 1, 1, 2, 3)</td><td>[«0.000:0.600 3/5♩ 4C#», «0.600:0.700 1/10♩ 4E», «0.700:0.800 1/10♩ 4F», «0.800:0.867 1/15♩ 4F#», «0.867:1.000 2/15♩ 4G»]  </td><td>[0, 3, 4, 5, 6]  </td><td>gridError=0.0833, rhythmComplexity=0 (numNotesAcrossSubdics=0, numTies=0), divPenalty=0.0561 (0.005612, divPenalty=0.02, cardinalityPenalty=0.1, numSubdivsPenalty=0, levelPenalty=0)    </td></tr>\n",
       "<tr><td>0.095598 </td><td>(1, 1, 7, 7)   </td><td>[«0.000:0.607 17/28♩ 4C#», «0.607:0.714 3/28♩ 4E», «0.714:0.786 1/14♩ 4F», «0.786:0.893 3/28♩ 4F#», «0.893:1.000 3/28♩ 4G»]</td><td>[0, 5, 8, 10, 13]</td><td>gridError=0.0909, rhythmComplexity=0.228 (numNotesAcrossSubdics=2, numTies=1), divPenalty=0.06 (0.006, divPenalty=0.06, cardinalityPenalty=0, numSubdivsPenalty=0, levelPenalty=0)       </td></tr>\n",
       "<tr><td>0.096171 </td><td>(1, 1, 5, 4)   </td><td>[«0.000:0.600 3/5♩ 4C#», «0.600:0.700 1/10♩ 4E», «0.700:0.812 9/80♩ 4F», «0.812:0.875 1/16♩ 4F#», «0.875:1.000 1/8♩ 4G»]   </td><td>[0, 4, 6, 8, 9]  </td><td>gridError=0.0915, rhythmComplexity=0.228 (numNotesAcrossSubdics=2, numTies=1), divPenalty=0.06 (0.006, divPenalty=0.06, cardinalityPenalty=0, numSubdivsPenalty=0, levelPenalty=0)       </td></tr>\n",
       "<tr><td>0.10163  </td><td>(1, 1, 4, 5)   </td><td>[«0.000:0.625 5/8♩ 4C#», «0.625:0.688 1/16♩ 4E», «0.688:0.800 9/80♩ 4F», «0.800:0.900 1/10♩ 4F#», «0.900:1.000 1/10♩ 4G»]  </td><td>[0, 4, 5, 7, 9]  </td><td>gridError=0.0915, rhythmComplexity=0.4 (numNotesAcrossSubdics=2, numTies=2), divPenalty=0.06 (0.006, divPenalty=0.06, cardinalityPenalty=0, numSubdivsPenalty=0, levelPenalty=0)         </td></tr>\n",
       "<tr><td>0.10483  </td><td>(1, 1, 5, 3)   </td><td>[«0.000:0.600 3/5♩ 4C#», «0.600:0.700 1/10♩ 4E», «0.700:0.833 2/15♩ 4F», «0.833:0.917 1/12♩ 4F#», «0.917:1.000 1/12♩ 4G»]  </td><td>[0, 4, 6, 8, 9]  </td><td>gridError=0.103, rhythmComplexity=0.126 (numNotesAcrossSubdics=2, numTies=0), divPenalty=0.051 (0.005099, divPenalty=0.04, cardinalityPenalty=0.1, numSubdivsPenalty=0, levelPenalty=0)  </td></tr>\n",
       "<tr><td>0.10483  </td><td>(1, 1, 3, 5)   </td><td>[«0.000:0.583 7/12♩ 4C#», «0.583:0.667 1/12♩ 4E», «0.667:0.800 2/15♩ 4F», «0.800:0.900 1/10♩ 4F#», «0.900:1.000 1/10♩ 4G»] </td><td>[0, 3, 4, 6, 8]  </td><td>gridError=0.103, rhythmComplexity=0.126 (numNotesAcrossSubdics=2, numTies=0), divPenalty=0.051 (0.005099, divPenalty=0.04, cardinalityPenalty=0.1, numSubdivsPenalty=0, levelPenalty=0)  </td></tr>\n",
       "<tr><td>0.10536  </td><td>(1, 1, 1, 5, 5)</td><td>[«0.000:0.600 3/5♩ 4C#», «0.600:0.680 2/25♩ 4E», «0.680:0.800 3/25♩ 4F», «0.800:0.880 2/25♩ 4F#», «0.880:1.000 3/25♩ 4G»]  </td><td>[0, 3, 5, 8, 10] </td><td>gridError=0.0963, rhythmComplexity=0 (numNotesAcrossSubdics=0, numTies=0), divPenalty=0.135 (0.0135, divPenalty=0.06, cardinalityPenalty=0, numSubdivsPenalty=0, levelPenalty=0)         </td></tr>\n",
       "<tr><td>0.10748  </td><td>(1, 1, 6, 7)   </td><td>[«0.000:0.583 7/12♩ 4C#», «0.583:0.708 1/8♩ 4E», «0.708:0.786 0.077♩ 4F», «0.786:0.893 3/28♩ 4F#», «0.893:1.000 3/28♩ 4G»] </td><td>[0, 4, 7, 9, 12] </td><td>gridError=0.103, rhythmComplexity=0.228 (numNotesAcrossSubdics=2, numTies=1), divPenalty=0.0678 (0.006782, divPenalty=0.06, cardinalityPenalty=0.1, numSubdivsPenalty=0, levelPenalty=0) </td></tr>\n",
       "<tr><td>0.1124   </td><td>(1, 1, 7, 6)   </td><td>[«0.000:0.607 17/28♩ 4C#», «0.607:0.714 3/28♩ 4E», «0.714:0.792 0.077♩ 4F», «0.792:0.917 1/8♩ 4F#», «0.917:1.000 1/12♩ 4G»]</td><td>[0, 5, 8, 10, 13]</td><td>gridError=0.103, rhythmComplexity=0.4 (numNotesAcrossSubdics=2, numTies=2), divPenalty=0.0678 (0.006782, divPenalty=0.06, cardinalityPenalty=0.1, numSubdivsPenalty=0, levelPenalty=0)   </td></tr>\n",
       "<tr><td>0.1164   </td><td>(1, 11)        </td><td>[«0.000:0.591 13/22♩ 4C#», «0.591:0.682 1/11♩ 4E», «0.682:0.818 3/22♩ 4F», «0.818:0.909 1/11♩ 4F#», «0.909:1.000 1/11♩ 4G»]</td><td>[0, 3, 5, 8, 10] </td><td>gridError=0.11, rhythmComplexity=0.2 (numNotesAcrossSubdics=1, numTies=1), divPenalty=0.1 (0.01, divPenalty=0.1, cardinalityPenalty=0, numSubdivsPenalty=0, levelPenalty=0)              </td></tr>\n",
       "</tbody>\n",
       "</table>"
      ],
      "text/plain": [
       "<IPython.core.display.HTML object>"
      ]
     },
     "metadata": {},
     "output_type": "display_data"
    },
    {
     "name": "stdout",
     "output_type": "stream",
     "text": [
      "Beat: 1 - 2 (dur: 1)\n",
      "Skipped 0 divisions with a div. penalty > 0.4\n",
      "Best 20 divisions: \n"
     ]
    },
    {
     "data": {
      "text/html": [
       "<table>\n",
       "<thead>\n",
       "<tr><th>error   </th><th>div            </th><th>makeSnappedNotation                                                         </th><th>slots     </th><th>info                                                                                                                                                                                      </th></tr>\n",
       "</thead>\n",
       "<tbody>\n",
       "<tr><td>0.027558</td><td>(1, 1, 3, 1, 1)</td><td>[«0.000:0.200 1/5♩ 4C», «0.200:0.533 1/3♩ 4D», «0.533:1.000 7/15♩ rest»]    </td><td>[0, 1, 4] </td><td>gridError=0, rhythmComplexity=0.211 (numNotesAcrossSubdics=2, numTies=0), divPenalty=0.0561 (0.005612, divPenalty=0.02, cardinalityPenalty=0.1, numSubdivsPenalty=0, levelPenalty=0)      </td></tr>\n",
       "<tr><td>0.042942</td><td>(1, 1, 5, 1, 1)</td><td>[«0.000:0.200 1/5♩ 4C», «0.200:0.520 8/25♩ 4D», «0.520:1.000 12/25♩ rest»]  </td><td>[0, 1, 5] </td><td>gridError=0.0322, rhythmComplexity=0.211 (numNotesAcrossSubdics=2, numTies=0), divPenalty=0.06 (0.006, divPenalty=0.04, cardinalityPenalty=0, numSubdivsPenalty=0, levelPenalty=0)        </td></tr>\n",
       "<tr><td>0.052203</td><td>(5, 9)         </td><td>[«0.000:0.200 1/5♩ 4C», «0.200:0.556 16/45♩ 4D», «0.556:1.000 4/9♩ rest»]   </td><td>[0, 2, 6] </td><td>gridError=0.0485, rhythmComplexity=0.105 (numNotesAcrossSubdics=1, numTies=0), divPenalty=0.051 (0.005099, divPenalty=0.04, cardinalityPenalty=0.1, numSubdivsPenalty=0, levelPenalty=0)  </td></tr>\n",
       "<tr><td>0.055588</td><td>(1, 1, 4, 1, 1)</td><td>[«0.000:0.200 1/5♩ 4C», «0.200:0.550 7/20♩ 4D», «0.550:1.000 9/20♩ rest»]   </td><td>[0, 1, 5] </td><td>gridError=0.0385, rhythmComplexity=0.38 (numNotesAcrossSubdics=2, numTies=1), divPenalty=0.04 (0.004, divPenalty=0.04, cardinalityPenalty=0, numSubdivsPenalty=0, levelPenalty=0)         </td></tr>\n",
       "<tr><td>0.057359</td><td>(5, 1, 5, 1)   </td><td>[«0.000:0.200 1/5♩ 4C», «0.200:0.550 7/20♩ 4D», «0.550:1.000 9/20♩ rest»]   </td><td>[0, 4, 7] </td><td>gridError=0.0385, rhythmComplexity=0.38 (numNotesAcrossSubdics=2, numTies=1), divPenalty=0.06 (0.006, divPenalty=0.06, cardinalityPenalty=0, numSubdivsPenalty=0, levelPenalty=0)         </td></tr>\n",
       "<tr><td>0.067406</td><td>(5, 1)         </td><td>[«0.000:0.200 1/5♩ 4C», «0.200:0.500 3/10♩ 4D», «0.500:1.000 1/2♩ rest»]    </td><td>[0, 2, 5] </td><td>gridError=0.0671, rhythmComplexity=0 (numNotesAcrossSubdics=0, numTies=0), divPenalty=0.02 (0.002, divPenalty=0.02, cardinalityPenalty=0, numSubdivsPenalty=0, levelPenalty=0)            </td></tr>\n",
       "<tr><td>0.069099</td><td>(5, 1, 1, 1)   </td><td>[«0.000:0.200 1/5♩ 4C», «0.200:0.500 3/10♩ 4D», «0.500:1.000 1/2♩ rest»]    </td><td>[0, 4, 6] </td><td>gridError=0.0671, rhythmComplexity=0.105 (numNotesAcrossSubdics=1, numTies=0), divPenalty=0.04 (0.004, divPenalty=0.04, cardinalityPenalty=0, numSubdivsPenalty=0, levelPenalty=0)        </td></tr>\n",
       "<tr><td>0.07006 </td><td>(5, 8)         </td><td>[«0.000:0.200 1/5♩ 4C», «0.200:0.562 29/80♩ 4D», «0.562:1.000 7/16♩ rest»]  </td><td>[0, 2, 6] </td><td>gridError=0.0603, rhythmComplexity=0.333 (numNotesAcrossSubdics=1, numTies=1), divPenalty=0.04 (0.004, divPenalty=0.04, cardinalityPenalty=0, numSubdivsPenalty=0, levelPenalty=0)        </td></tr>\n",
       "<tr><td>0.070502</td><td>(5, 1, 7, 1)   </td><td>[«0.000:0.200 1/5♩ 4C», «0.200:0.536 0.336♩ 4D», «0.536:1.000 13/28♩ rest»] </td><td>[0, 4, 7] </td><td>gridError=0.00813, rhythmComplexity=0.667 (numNotesAcrossSubdics=2, numTies=2), divPenalty=0.0678 (0.006782, divPenalty=0.06, cardinalityPenalty=0.1, numSubdivsPenalty=0, levelPenalty=0)</td></tr>\n",
       "<tr><td>0.070626</td><td>(1, 1, 2, 1, 1)</td><td>[«0.000:0.200 1/5♩ 4C», «0.200:0.500 3/10♩ 4D», «0.500:1.000 1/2♩ rest»]    </td><td>[0, 1, 3] </td><td>gridError=0.0671, rhythmComplexity=0.211 (numNotesAcrossSubdics=2, numTies=0), divPenalty=0.02 (0.002, divPenalty=0.02, cardinalityPenalty=0, numSubdivsPenalty=0, levelPenalty=0)        </td></tr>\n",
       "<tr><td>0.073447</td><td>(5, 1, 6, 1)   </td><td>[«0.000:0.200 1/5♩ 4C», «0.200:0.542 0.342♩ 4D», «0.542:1.000 11/24♩ rest»] </td><td>[0, 4, 7] </td><td>gridError=0.0221, rhythmComplexity=0.667 (numNotesAcrossSubdics=2, numTies=2), divPenalty=0.0678 (0.006782, divPenalty=0.06, cardinalityPenalty=0.1, numSubdivsPenalty=0, levelPenalty=0) </td></tr>\n",
       "<tr><td>0.073768</td><td>(5, 1, 4, 1)   </td><td>[«0.000:0.200 1/5♩ 4C», «0.200:0.562 29/80♩ 4D», «0.562:1.000 7/16♩ rest»]  </td><td>[0, 4, 7] </td><td>gridError=0.0603, rhythmComplexity=0.38 (numNotesAcrossSubdics=2, numTies=1), divPenalty=0.06 (0.006, divPenalty=0.06, cardinalityPenalty=0, numSubdivsPenalty=0, levelPenalty=0)         </td></tr>\n",
       "<tr><td>0.074022</td><td>(7, 9)         </td><td>[«0.000:0.214 3/14♩ 4C», «0.214:0.556 0.341♩ 4D», «0.556:1.000 4/9♩ rest»]  </td><td>[0, 3, 8] </td><td>gridError=0.0641, rhythmComplexity=0.333 (numNotesAcrossSubdics=1, numTies=1), divPenalty=0.051 (0.005099, divPenalty=0.04, cardinalityPenalty=0.1, numSubdivsPenalty=0, levelPenalty=0)  </td></tr>\n",
       "<tr><td>0.074596</td><td>(9,)           </td><td>[«0.000:0.222 2/9♩ 4C», «0.222:0.556 1/3♩ 4D», «0.556:1.000 4/9♩ rest»]     </td><td>[0, 2, 5] </td><td>gridError=0.0743, rhythmComplexity=0 (numNotesAcrossSubdics=0, numTies=0), divPenalty=0.02 (0.002, divPenalty=0.02, cardinalityPenalty=0, numSubdivsPenalty=0, levelPenalty=0)            </td></tr>\n",
       "<tr><td>0.076129</td><td>(9, 9)         </td><td>[«0.000:0.222 2/9♩ 4C», «0.222:0.556 1/3♩ 4D», «0.556:1.000 4/9♩ rest»]     </td><td>[0, 4, 10]</td><td>gridError=0.0743, rhythmComplexity=0.105 (numNotesAcrossSubdics=1, numTies=0), divPenalty=0.04 (0.004, divPenalty=0.04, cardinalityPenalty=0, numSubdivsPenalty=0, levelPenalty=0)        </td></tr>\n",
       "<tr><td>0.077166</td><td>(6, 1, 6, 1)   </td><td>[«0.000:0.208 5/24♩ 4C», «0.208:0.542 1/3♩ 4D», «0.542:1.000 11/24♩ rest»]  </td><td>[0, 5, 8] </td><td>gridError=0.0339, rhythmComplexity=0.667 (numNotesAcrossSubdics=2, numTies=2), divPenalty=0.06 (0.006, divPenalty=0.06, cardinalityPenalty=0, numSubdivsPenalty=0, levelPenalty=0)        </td></tr>\n",
       "<tr><td>0.080893</td><td>(5, 11)        </td><td>[«0.000:0.200 1/5♩ 4C», «0.200:0.545 19/55♩ 4D», «0.545:1.000 5/11♩ rest»]  </td><td>[0, 2, 6] </td><td>gridError=0.0299, rhythmComplexity=0.641 (numNotesAcrossSubdics=1, numTies=2), divPenalty=0.124 (0.01241, divPenalty=0.12, cardinalityPenalty=0.1, numSubdivsPenalty=0, levelPenalty=0)   </td></tr>\n",
       "<tr><td>0.08112 </td><td>(4, 1, 7, 1)   </td><td>[«0.000:0.188 3/16♩ 4C», «0.188:0.536 0.348♩ 4D», «0.536:1.000 13/28♩ rest»]</td><td>[0, 3, 6] </td><td>gridError=0.0421, rhythmComplexity=0.667 (numNotesAcrossSubdics=2, numTies=2), divPenalty=0.06 (0.006, divPenalty=0.06, cardinalityPenalty=0, numSubdivsPenalty=0, levelPenalty=0)        </td></tr>\n",
       "<tr><td>0.082023</td><td>(7, 1, 7, 1)   </td><td>[«0.000:0.214 3/14♩ 4C», «0.214:0.536 9/28♩ 4D», «0.536:1.000 13/28♩ rest»] </td><td>[0, 6, 9] </td><td>gridError=0.0439, rhythmComplexity=0.667 (numNotesAcrossSubdics=2, numTies=2), divPenalty=0.06 (0.006, divPenalty=0.06, cardinalityPenalty=0, numSubdivsPenalty=0, levelPenalty=0)        </td></tr>\n",
       "<tr><td>0.082575</td><td>(7, 8)         </td><td>[«0.000:0.214 3/14♩ 4C», «0.214:0.562 0.348♩ 4D», «0.562:1.000 7/16♩ rest»] </td><td>[0, 3, 8] </td><td>gridError=0.0745, rhythmComplexity=0.333 (numNotesAcrossSubdics=1, numTies=1), divPenalty=0.04 (0.004, divPenalty=0.04, cardinalityPenalty=0, numSubdivsPenalty=0, levelPenalty=0)        </td></tr>\n",
       "</tbody>\n",
       "</table>"
      ],
      "text/plain": [
       "<IPython.core.display.HTML object>"
      ]
     },
     "metadata": {},
     "output_type": "display_data"
    },
    {
     "data": {
      "text/html": [
       "<b>LilypondRenderer</b> (1 part)<br>\n",
       "        <img style=\"display:inline; padding:10px;\n",
       "margin-top:14px;\n",
       "width:994.0\"\n",
       "             src=\"data:image/png;base64,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\"/>"
      ],
      "text/plain": [
       "<maelzel.scoring.renderlily.LilypondRenderer at 0x7f57386745e0>"
      ]
     },
     "execution_count": 11,
     "metadata": {},
     "output_type": "execute_result"
    }
   ],
   "source": [
    "from maelzel import scoring\n",
    "from maelzel.scorestruct import ScoreStruct\n",
    "from maelzel.scoring import quantutils\n",
    "from maelzel.common import F\n",
    "\n",
    "notes = [\n",
    "    (61, F(1, 2)+F(1,10)),\n",
    "    (64, F(1, 10)),\n",
    "    (65, F(1, 10)),\n",
    "    (66, F(1, 10)),\n",
    "    (67, F(1, 10)),\n",
    "    \n",
    "    (60, F(1, 5)),\n",
    "    (62, F(1, 3)),\n",
    "    \n",
    "]\n",
    "struct = ScoreStruct(timesig='4/4', tempo=70)\n",
    "\n",
    "notations = [scoring.makeNote(p, d) for p, d in notes]\n",
    "part = scoring.Part(notations)\n",
    "quantprofile = scoring.quant.QuantizationProfile.fromPreset('highest', nestedTuplets=True)\n",
    "quantprofile.divisionErrorWeight = 0.1\n",
    "quantprofile.rhythmComplexityWeight = 0.01\n",
    "quantprofile.debug = True\n",
    "qpart = scoring.quant.quantizePart(part, struct=struct, quantprofile=quantprofile)\n",
    "options = scoring.render.RenderOptions()\n",
    "score = scoring.quant.QuantizedScore([qpart])\n",
    "r = scoring.render.renderQuantizedScore(score, options)\n",
    "r"
   ]
  },
  {
   "cell_type": "code",
   "execution_count": 3,
   "id": "c5d90c78-ca2d-49b1-85f6-25896c4e78cc",
   "metadata": {},
   "outputs": [
    {
     "name": "stdout",
     "output_type": "stream",
     "text": [
      "Beat: 0 - 1 (dur: 1)\n",
      "Skipped 0 divisions with a div. penalty > 0.2\n",
      "Best 2 divisions: \n"
     ]
    },
    {
     "data": {
      "text/html": [
       "<table>\n",
       "<thead>\n",
       "<tr><th>error  </th><th>div  </th><th>makeSnappedNotation                                     </th><th>slots  </th><th>info                                                                                                                                                                         </th></tr>\n",
       "</thead>\n",
       "<tbody>\n",
       "<tr><td>0      </td><td>(3,) </td><td>[«0.000:0.667 2/3♩ 4C#», «0.667:1.000 1/3♩ 4E tiedNext»]</td><td>[0, 2] </td><td>gridError=0, rhythmComplexity=0 (numNotesAcrossSubdics=0, numTies=0), divPenalty=0 (0, divPenalty=0, cardinalityPenalty=0, numSubdivsPenalty=0, levelPenalty=0)              </td></tr>\n",
       "<tr><td>0.12855</td><td>(5,) </td><td>[«0.000:0.600 3/5♩ 4C#», «0.600:1.000 2/5♩ 4E tiedNext»]</td><td>[0, 3] </td><td>gridError=0.128, rhythmComplexity=0 (numNotesAcrossSubdics=0, numTies=0), divPenalty=0.02 (0.001, divPenalty=0.02, cardinalityPenalty=0, numSubdivsPenalty=0, levelPenalty=0)</td></tr>\n",
       "</tbody>\n",
       "</table>"
      ],
      "text/plain": [
       "<IPython.core.display.HTML object>"
      ]
     },
     "metadata": {},
     "output_type": "display_data"
    },
    {
     "name": "stdout",
     "output_type": "stream",
     "text": [
      "Beat: 1 - 2 (dur: 1)\n",
      "Skipped 0 divisions with a div. penalty > 0.2\n",
      "Best 2 divisions: \n"
     ]
    },
    {
     "data": {
      "text/html": [
       "<table>\n",
       "<thead>\n",
       "<tr><th>error  </th><th>div  </th><th>makeSnappedNotation                                                            </th><th>slots    </th><th>info                                                                                                                                                                         </th></tr>\n",
       "</thead>\n",
       "<tbody>\n",
       "<tr><td>0      </td><td>(3,) </td><td>[«0.000:0.333 1/3♩ 4E tiedPrev», «0.333:0.667 1/3♩ 4F», «0.667:1.000 1/3♩ 4F+»]</td><td>[0, 1, 2]</td><td>gridError=0, rhythmComplexity=0 (numNotesAcrossSubdics=0, numTies=0), divPenalty=0 (0, divPenalty=0, cardinalityPenalty=0, numSubdivsPenalty=0, levelPenalty=0)              </td></tr>\n",
       "<tr><td>0.23162</td><td>(5,) </td><td>[«0.000:0.400 2/5♩ 4E tiedPrev», «0.400:0.600 1/5♩ 4F», «0.600:1.000 2/5♩ 4F+»]</td><td>[0, 2, 3]</td><td>gridError=0.232, rhythmComplexity=0 (numNotesAcrossSubdics=0, numTies=0), divPenalty=0.02 (0.001, divPenalty=0.02, cardinalityPenalty=0, numSubdivsPenalty=0, levelPenalty=0)</td></tr>\n",
       "</tbody>\n",
       "</table>"
      ],
      "text/plain": [
       "<IPython.core.display.HTML object>"
      ]
     },
     "metadata": {},
     "output_type": "display_data"
    },
    {
     "name": "stderr",
     "output_type": "stream",
     "text": [
      "DEBUG:maelzel.scoring:Nodes can merge: \n",
      "    Node(3/2, \n",
      "  «0.000:0.667 2/3♩ 3/2 4C#»\n",
      "  «0.667:1.000 1/3♩ 3/2 4E tiedNext»\n",
      ")\n",
      "    Node(3/2, \n",
      "  «1.000:1.333 1/3♩ 3/2 4E tiedPrev»\n",
      "  «1.333:1.667 1/3♩ 3/2 4F»\n",
      "  «1.667:2.000 1/3♩ 3/2 4F+»\n",
      ")\n",
      "DEBUG:maelzel.scoring:mergeSiblings: Node(3/2, \n",
      "  «0.000:0.667 2/3♩ 3/2 4C#»\n",
      "  «0.667:1.333 2/3♩ 3/2 4E»\n",
      "  «1.333:1.667 1/3♩ 3/2 4F»\n",
      "  «1.667:2.000 1/3♩ 3/2 4F+»\n",
      ") cannot merge with Node(1/1, \n",
      "  «2.000:3.000 1/1♩ rest»\n",
      "): not same durRatio\n",
      "DEBUG:maelzel.scoring:Nodes can merge: \n",
      "    Node(1/1, \n",
      "  «2.000:3.000 1/1♩ rest»\n",
      ")\n",
      "    Node(1/1, \n",
      "  «3.000:4.000 1/1♩ rest»\n",
      ")\n",
      "DEBUG:maelzel.scoring:This Node (offset: 0, end: 4) does not contain offset 0\n",
      "DEBUG:maelzel.scoring:Rendering lilypond '/tmp/tmpn3byl90s.ly' to '/tmp/tmpn3byl90s.png'\n",
      "DEBUG:maelzel:Rendering lilypond '/tmp/tmpn3byl90s.ly' to '/tmp/tmpn3byl90s.png'\n",
      "DEBUG:maelzel:findLilypond: searching via shutil.which\n",
      "DEBUG:maelzel:... found! lilypond path: /home/em/.local/bin/lilypond\n",
      "DEBUG:maelzel:Calling lilypond subprocess: ['/home/em/.local/bin/lilypond', '--png', '-o', '/tmp/tmpn3byl90s', '-dresolution=200', '/tmp/tmpn3byl90s.ly']\n",
      "DEBUG:maelzel:lilypond executed OK\n",
      "DEBUG:maelzel:stderr: \n",
      "DEBUG:maelzel: Changing working directory to: `/tmp'\n",
      " Processing `/tmp/tmpn3byl90s.ly'\n",
      " Parsing...\n",
      " Interpreting music...\n",
      " Preprocessing graphical objects...\n",
      " Finding the ideal number of pages...\n",
      " Fitting music on 1 page...\n",
      " Drawing systems...\n",
      " Converting to PNG...\n",
      " Layout output to `tmpn3byl90s.cropped.eps'...\n",
      " Converting to PNG...\n",
      " Success: compilation successfully completed\n",
      "\n",
      "DEBUG:maelzel.scoring:Found crop file /tmp/tmpn3byl90s.cropped.png, using that as output\n",
      "DEBUG:PIL.PngImagePlugin:STREAM b'IHDR' 16 13\n",
      "DEBUG:PIL.PngImagePlugin:STREAM b'iCCP' 41 2354\n",
      "DEBUG:PIL.PngImagePlugin:iCCP profile name b'default_rgb.icc'\n",
      "DEBUG:PIL.PngImagePlugin:Compression method 0\n",
      "DEBUG:PIL.PngImagePlugin:STREAM b'pHYs' 2407 9\n",
      "DEBUG:PIL.PngImagePlugin:STREAM b'tEXt' 2428 31\n",
      "DEBUG:PIL.PngImagePlugin:STREAM b'IDAT' 2471 6003\n"
     ]
    },
    {
     "data": {
      "text/html": [
       "<b>LilypondRenderer</b> (1 part)<br>\n",
       "        <img style=\"display:inline; padding:10px;\n",
       "margin-top:14px;\n",
       "width:578.0\"\n",
       "             src=\"data:image/png;base64,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\"/>"
      ],
      "text/plain": [
       "<maelzel.scoring.renderlily.LilypondRenderer at 0x7f884c696460>"
      ]
     },
     "execution_count": 3,
     "metadata": {},
     "output_type": "execute_result"
    }
   ],
   "source": [
    "from maelzel import scoring\n",
    "from maelzel.common import F\n",
    "from maelzel.scorestruct import ScoreStruct\n",
    "\n",
    "notes = [\n",
    "    (61, F(2, 3)),\n",
    "    (64, F(2, 3)),\n",
    "    (65, F(1, 3)),\n",
    "    (65.5, F(1, 3)),\n",
    "]\n",
    "\n",
    "notations = [scoring.makeNote(p, d) for p, d in notes]\n",
    "part = scoring.Part(notations)\n",
    "\n",
    "struct = ScoreStruct(timesig='4/4', tempo=60)\n",
    "\n",
    "quantprofile = scoring.quant.QuantizationProfile.fromPreset('high', divisionErrorWeight=0.05)\n",
    "quantprofile.debug= True\n",
    "\n",
    "qpart = scoring.quant.quantizePart(part, struct=struct, quantprofile=quantprofile)\n",
    "options = scoring.render.RenderOptions()\n",
    "score = scoring.quant.QuantizedScore([qpart])\n",
    "r = scoring.render.renderQuantizedScore(score, options)\n",
    "r"
   ]
  },
  {
   "cell_type": "code",
   "execution_count": 1,
   "id": "767db0c6-5ecd-4155-8f08-73046eb7ec26",
   "metadata": {},
   "outputs": [
    {
     "ename": "NameError",
     "evalue": "name 'r' is not defined",
     "output_type": "error",
     "traceback": [
      "\u001b[0;31m---------------------------------------------------------------------------\u001b[0m",
      "\u001b[0;31mNameError\u001b[0m                                 Traceback (most recent call last)",
      "Cell \u001b[0;32mIn[1], line 1\u001b[0m\n\u001b[0;32m----> 1\u001b[0m sco \u001b[38;5;241m=\u001b[39m \u001b[43mr\u001b[49m\u001b[38;5;241m.\u001b[39mquantizedScore\u001b[38;5;241m.\u001b[39mtoCoreScore()\n\u001b[1;32m      2\u001b[0m sco\n",
      "\u001b[0;31mNameError\u001b[0m: name 'r' is not defined"
     ]
    }
   ],
   "source": [
    "sco = r.quantizedScore.toCoreScore()\n",
    "sco"
   ]
  },
  {
   "cell_type": "markdown",
   "id": "29139f19-450a-4c33-b09e-9d11a579e547",
   "metadata": {},
   "source": [
    "# TODO"
   ]
  },
  {
   "cell_type": "code",
   "execution_count": 1,
   "id": "a85497e1-d11a-4b09-9d18-452cd920515f",
   "metadata": {},
   "outputs": [],
   "source": [
    "import logging\n",
    "logging.basicConfig(level=\"DEBUG\")\n",
    "logging.getLogger(\"maelzel.scoring\").setLevel(logging.DEBUG)"
   ]
  },
  {
   "cell_type": "code",
   "execution_count": 2,
   "id": "bc7cfedd-878d-4048-b138-26a61ca09a43",
   "metadata": {},
   "outputs": [
    {
     "name": "stderr",
     "output_type": "stream",
     "text": [
      "DEBUG:maelzel.scoring:mergeSiblings: Node(3/2, \n",
      "  «0.000:0.667 2/3♩ 3/2 4C»\n",
      "  Node(5/4, \n",
      "    «0.667:0.800 2/15♩ 3/2,5/4 4D#»\n",
      "    «0.800:0.933 2/15♩ 3/2,5/4 4E»\n",
      "    «0.933:1.000 1/15♩ 3/2,5/4 4F tiedNext»\n",
      "  )\n",
      ") cannot merge with Node(3/2, \n",
      "  Node(5/4, \n",
      "    «1.000:1.133 2/15♩ 3/2,5/4 4F tiedPrev»\n",
      "    «1.133:1.267 2/15♩ 3/2,5/4 4F#»\n",
      "    «1.267:1.333 1/15♩ 3/2,5/4 4C# tiedNext»\n",
      "  )\n",
      "  «1.333:1.667 1/3♩ 3/2 4C# tiedPrev tiedNext»\n",
      "  Node(5/4, \n",
      "    «1.667:1.933 4/15♩ 3/2,5/4 4C# tiedPrev»\n",
      "    «1.933:2.000 1/15♩ 3/2,5/4 rest»\n",
      "  )\n",
      "): complex nested tuplets cannot merge: (3, 5)\n",
      "DEBUG:maelzel.scoring:mergeSiblings: Node(3/2, \n",
      "  Node(5/4, \n",
      "    «1.000:1.133 2/15♩ 3/2,5/4 4F tiedPrev»\n",
      "    «1.133:1.267 2/15♩ 3/2,5/4 4F#»\n",
      "    «1.267:1.333 1/15♩ 3/2,5/4 4C# tiedNext»\n",
      "  )\n",
      "  «1.333:1.667 1/3♩ 3/2 4C# tiedPrev tiedNext»\n",
      "  Node(5/4, \n",
      "    «1.667:1.933 4/15♩ 3/2,5/4 4C# tiedPrev»\n",
      "    «1.933:2.000 1/15♩ 3/2,5/4 rest»\n",
      "  )\n",
      ") cannot merge with Node(1/1, \n",
      "  «2.000:3.000 1/1♩ rest»\n",
      "): not same durRatio\n",
      "DEBUG:maelzel.scoring:Nodes can merge: \n",
      "    Node(1/1, \n",
      "  «2.000:3.000 1/1♩ rest»\n",
      ")\n",
      "    Node(1/1, \n",
      "  «3.000:4.000 1/1♩ rest»\n",
      ")\n",
      "DEBUG:maelzel.scoring:This Node (offset: 0, end: 4) does not contain offset 0\n",
      "DEBUG:maelzel:findLilypond: searching via shutil.which\n",
      "DEBUG:maelzel:... found! lilypond path: /home/em/.local/bin/lilypond\n",
      "DEBUG:maelzel.scoring:Rendering lilypond '/tmp/tmpp95qiayg.ly' to '/tmp/tmpp95qiayg.png'\n",
      "DEBUG:maelzel:Rendering lilypond '/tmp/tmpp95qiayg.ly' to '/tmp/tmpp95qiayg.png'\n",
      "DEBUG:maelzel:findLilypond: searching via shutil.which\n",
      "DEBUG:maelzel:... found! lilypond path: /home/em/.local/bin/lilypond\n",
      "DEBUG:maelzel:Calling lilypond subprocess: ['/home/em/.local/bin/lilypond', '--png', '-o', '/tmp/tmpp95qiayg', '-dresolution=200', '/tmp/tmpp95qiayg.ly']\n",
      "DEBUG:maelzel:lilypond executed OK\n",
      "DEBUG:maelzel:stderr: \n",
      "DEBUG:maelzel: Changing working directory to: `/tmp'\n",
      " Processing `/tmp/tmpp95qiayg.ly'\n",
      " Parsing...\n",
      " Interpreting music...\n",
      " Preprocessing graphical objects...\n",
      " Finding the ideal number of pages...\n",
      " Fitting music on 1 page...\n",
      " Drawing systems...\n",
      " Converting to PNG...\n",
      " Layout output to `tmpp95qiayg.cropped.eps'...\n",
      " Converting to PNG...\n",
      " Success: compilation successfully completed\n",
      "\n",
      "DEBUG:maelzel.scoring:Found crop file /tmp/tmpp95qiayg.cropped.png, using that as output\n",
      "DEBUG:PIL.PngImagePlugin:STREAM b'IHDR' 16 13\n",
      "DEBUG:PIL.PngImagePlugin:STREAM b'iCCP' 41 2354\n",
      "DEBUG:PIL.PngImagePlugin:iCCP profile name b'default_rgb.icc'\n",
      "DEBUG:PIL.PngImagePlugin:Compression method 0\n",
      "DEBUG:PIL.PngImagePlugin:STREAM b'pHYs' 2407 9\n",
      "DEBUG:PIL.PngImagePlugin:STREAM b'tEXt' 2428 31\n",
      "DEBUG:PIL.PngImagePlugin:STREAM b'IDAT' 2471 8192\n"
     ]
    },
    {
     "data": {
      "text/html": [
       "<b>LilypondRenderer</b> (1 part)<br>\n",
       "        <img style=\"display:inline; padding:10px;\n",
       "margin-top:14px;\n",
       "width:978.0\"\n",
       "             src=\"data:image/png;base64,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\"/>"
      ],
      "text/plain": [
       "<maelzel.scoring.renderlily.LilypondRenderer at 0x7f884c6b67f0>"
      ]
     },
     "execution_count": 2,
     "metadata": {},
     "output_type": "execute_result"
    }
   ],
   "source": [
    "from maelzel import scoring\n",
    "from maelzel.scorestruct import ScoreStruct\n",
    "from maelzel.common import F\n",
    "\n",
    "notes = [\n",
    "    (60, F(2, 3)),\n",
    "    (63, F(2, 3)*F(1, 5)),\n",
    "    (64, F(2, 3)*F(1, 5)),\n",
    "    (65, F(2, 3)*F(3, 10)),\n",
    "    (66, F(2, 3)*F(1, 5)),\n",
    "    # (67, F(2, 3)*F(1, 5)),  \n",
    "    (61, F(2, 3)),\n",
    "    \n",
    "]\n",
    "\n",
    "notations = [scoring.makeNote(p, d) for p, d in notes]\n",
    "struct = ScoreStruct(timesig='4/4', tempo=70)\n",
    "\n",
    "part = scoring.Part(notations)\n",
    "quantprofile = scoring.quant.QuantizationProfile.fromPreset('highest', debug=False, debugMaxDivisions=20, maxDivPenalty=0.1)\n",
    "quantprofile.debug = False\n",
    "#quantprofile.rhythmComplexityWeight = 0.001\n",
    "#quantprofile.allowedTupletsAcrossBeat = (3, 5)\n",
    "# quantprofile.minBeatFractionAcrossBeats = 1/8\n",
    "#quantprofile.minSymbolicDurationAcrossBeat = F(1, 3)\n",
    "\n",
    "# quantprofile.divisionErrorWeight = 0.01\n",
    "qpart = scoring.quant.quantizePart(part, struct=struct, quantprofile=quantprofile)\n",
    "options = scoring.render.RenderOptions()\n",
    "score = scoring.quant.QuantizedScore([qpart])\n",
    "r = scoring.render.renderQuantizedScore(score, options)\n",
    "# qpart.dump()\n",
    "# r.write('~/tmp/quant.ly')\n",
    "r"
   ]
  },
  {
   "cell_type": "code",
   "execution_count": 3,
   "id": "0ff79057-296c-493c-87b9-69bb0537d377",
   "metadata": {},
   "outputs": [
    {
     "name": "stdout",
     "output_type": "stream",
     "text": [
      "Measure #0\n",
      "  Timesig: 4/4 (quarter=70)\n",
      "  Node ratio: 1/1, offset=0, end=4\n",
      "    Node ratio: 3/2, offset=0, end=2\n",
      "      «0.000:0.667 2/3♩ 3/2 4C»\n",
      "      Node ratio: 5/4, offset=2/3, end=4/3\n",
      "        «0.667:0.800 2/15♩ 3/2,5/4 4D#»\n",
      "        «0.800:0.933 2/15♩ 3/2,5/4 4E»\n",
      "        «0.933:1.133 1/5♩ 3/2,5/4 4F»\n",
      "        «1.133:1.267 2/15♩ 3/2,5/4 4F#»\n",
      "        «1.267:1.333 1/15♩ 3/2,5/4 4C# tiedNext»\n",
      "      «1.333:1.667 1/3♩ 3/2 4C# tiedPrev tiedNext»\n",
      "      Node ratio: 5/4, offset=5/3, end=2\n",
      "        «1.667:1.933 4/15♩ 3/2,5/4 4C# tiedPrev»\n",
      "        «1.933:2.000 1/15♩ 3/2,5/4 rest»\n",
      "    Node ratio: 1/1, offset=2, end=4\n",
      "      «2.000:4.000 2/1♩ rest»\n"
     ]
    }
   ],
   "source": [
    "score.parts[0].dump()"
   ]
  },
  {
   "cell_type": "code",
   "execution_count": 10,
   "id": "87799eeb-f18e-42b9-8eba-e577793dbadb",
   "metadata": {},
   "outputs": [
    {
     "name": "stdout",
     "output_type": "stream",
     "text": [
      " "
     ]
    },
    {
     "data": {
      "text/plain": [
       "         205073 function calls (203456 primitive calls) in 0.131 seconds\n",
       "\n",
       "   Ordered by: internal time\n",
       "\n",
       "   ncalls  tottime  percall  cumtime  percall filename:lineno(function)\n",
       "    27560    0.024    0.000    0.026    0.000 rational.py:120(__sub__)\n",
       "     2158    0.015    0.000    0.067    0.000 quant.py:496(snapEventsToGrid)\n",
       "        4    0.012    0.003    0.128    0.032 quant.py:967(quantizeBeatBinary)\n",
       "     8632    0.011    0.000    0.034    0.000 misc.py:185(nearest_index)\n",
       "     1998    0.010    0.000    0.013    0.000 quantutils.py:99(simplifyDivision)\n",
       "     8632    0.006    0.000    0.006    0.000 {built-in method _bisect.bisect_right}\n",
       "     6372    0.005    0.000    0.009    0.000 quant.py:274(divisionPenalty)\n",
       "     2158    0.004    0.000    0.038    0.000 quant.py:471(<listcomp>)\n",
       "    28555    0.003    0.000    0.003    0.000 {built-in method builtins.len}\n",
       "    31584    0.003    0.000    0.003    0.000 {built-in method builtins.isinstance}\n",
       "      199    0.003    0.000    0.010    0.000 quant.py:639(_evalGridError)\n",
       "     8632    0.003    0.000    0.003    0.000 <string>:2(__init__)\n",
       "     2385    0.002    0.000    0.004    0.000 rational.py:158(__truediv__)\n",
       "     5896    0.002    0.000    0.002    0.000 {built-in method builtins.sorted}\n",
       "        5    0.002    0.000    0.005    0.001 {method 'sort' of 'list' objects}\n",
       "    12300    0.002    0.000    0.002    0.000 {method 'get' of 'dict' objects}\n",
       "     6372    0.002    0.000    0.003    0.000 quant.py:270(<lambda>)\n",
       "      199    0.002    0.000    0.007    0.000 quant.py:932(_evalRhythmComplexity)\n",
       "    16451    0.002    0.000    0.002    0.000 {method 'append' of 'list' objects}\n",
       "     3846    0.002    0.000    0.002    0.000 {built-in method _abc._abc_instancecheck}\n",
       "     2158    0.001    0.000    0.039    0.000 quant.py:470(_fitEventsToGridNearest)\n",
       "     8362    0.001    0.000    0.001    0.000 {method 'isdisjoint' of 'set' objects}\n",
       "     1027    0.001    0.000    0.005    0.000 {built-in method builtins.sum}\n",
       "     3846    0.001    0.000    0.003    0.000 abc.py:117(__instancecheck__)\n",
       "3184/1592    0.001    0.000    0.002    0.000 {built-in method builtins.abs}\n",
       "      597    0.001    0.000    0.002    0.000 mathlib.py:267(euclidian_distance)\n",
       "     1592    0.001    0.000    0.001    0.000 rational.py:139(__abs__)\n",
       "      425    0.001    0.000    0.001    0.000 rational.py:94(__add__)\n",
       "      398    0.001    0.000    0.002    0.000 mathlib.py:286(weighted_euclidian_distance)\n",
       "      748    0.001    0.000    0.002    0.000 quant.py:1394(isRegularDuration)\n",
       "     2189    0.001    0.000    0.001    0.000 mathlib.py:281(<genexpr>)\n",
       "      935    0.001    0.000    0.002    0.000 quant.py:952(<genexpr>)\n",
       "      857    0.000    0.000    0.001    0.000 iterlib.py:412(flatten)\n",
       "      228    0.000    0.000    0.001    0.000 iterlib.py:160(pairwise)\n",
       "       38    0.000    0.000    0.001    0.000 notation.py:512(__copy__)\n",
       "      228    0.000    0.000    0.000    0.000 {built-in method itertools.tee}\n",
       "     19/8    0.000    0.000    0.001    0.000 quant.py:1420(breakIrregularDuration)\n",
       "      219    0.000    0.000    0.001    0.000 notation.py:456(end)\n",
       "      675    0.000    0.000    0.000    0.000 iterlib.py:341(partialsum)\n",
       "       39    0.000    0.000    0.000    0.000 notation.py:91(__init__)\n",
       "      101    0.000    0.000    0.001    0.000 {built-in method builtins.all}\n",
       "       32    0.000    0.000    0.001    0.000 notation.py:480(clone)\n",
       "        1    0.000    0.000    0.131    0.131 {built-in method builtins.exec}\n",
       "        1    0.000    0.000    0.131    0.131 quant.py:2136(quantizePart)\n",
       "       15    0.000    0.000    0.001    0.000 quant.py:1188(splitNotationAtOffsets)\n",
       "      597    0.000    0.000    0.000    0.000 {built-in method math.sqrt}\n",
       "       12    0.000    0.000    0.000    0.000 scorestruct.py:1052(beatToLocation)\n",
       "        1    0.000    0.000    0.130    0.130 quant.py:1660(quantizeMeasure)\n",
       "      199    0.000    0.000    0.000    0.000 rational.py:136(__float__)\n",
       "        1    0.000    0.000    0.001    0.001 quant.py:1513(splitNotationsAtOffsets)\n",
       "      670    0.000    0.000    0.000    0.000 {built-in method builtins.hasattr}\n",
       "       15    0.000    0.000    0.000    0.000 mathlib.py:330(split_interval_at_values)\n",
       "      228    0.000    0.000    0.000    0.000 {built-in method builtins.next}\n",
       "        6    0.000    0.000    0.001    0.000 quant.py:1721(splitNotationByMeasure)\n",
       "        4    0.000    0.000    0.000    0.000 quant.py:572(_fillDuration)\n",
       "      199    0.000    0.000    0.000    0.000 {method 'add' of 'set' objects}\n",
       "       45    0.000    0.000    0.000    0.000 rational.py:98(__radd__)\n",
       "        2    0.000    0.000    0.005    0.002 quant.py:244(possibleBeatDivisionsByTempo)\n",
       "     10/4    0.000    0.000    0.000    0.000 quant.py:1615(_applyDurationRatio)\n",
       "     12/4    0.000    0.000    0.000    0.000 misc.py:1355(istype)\n",
       "       38    0.000    0.000    0.001    0.000 notation.py:502(copy)\n",
       "       40    0.000    0.000    0.000    0.000 mathlib.py:134(fraction_range)\n",
       "       11    0.000    0.000    0.000    0.000 rational.py:142(__mod__)\n",
       "        1    0.000    0.000    0.000    0.000 core.py:247(removeOverlapInplace)\n",
       "        1    0.000    0.000    0.000    0.000 core.py:120(hasGaps)\n",
       "        2    0.000    0.000    0.000    0.000 quant.py:1032(<listcomp>)\n",
       "        4    0.000    0.000    0.000    0.000 util.py:52(measureQuarterDuration)\n",
       "       14    0.000    0.000    0.000    0.000 quant.py:1013(<genexpr>)\n",
       "       66    0.000    0.000    0.000    0.000 notation.py:149(<genexpr>)\n",
       "       42    0.000    0.000    0.000    0.000 quant.py:1986(iterNotations)\n",
       "        4    0.000    0.000    0.000    0.000 quant.py:1217(<listcomp>)\n",
       "        1    0.000    0.000    0.131    0.131 <string>:1(<module>)\n",
       "       14    0.000    0.000    0.000    0.000 quant.py:1544(<genexpr>)\n",
       "       33    0.000    0.000    0.000    0.000 mathlib.py:69(intersection)\n",
       "       13    0.000    0.000    0.000    0.000 notation.py:310(removeAttachments)\n",
       "        2    0.000    0.000    0.000    0.000 quant.py:1108(<listcomp>)\n",
       "       12    0.000    0.000    0.000    0.000 misc.py:1379(<genexpr>)\n",
       "       36    0.000    0.000    0.000    0.000 quant.py:1211(<genexpr>)\n",
       "        1    0.000    0.000    0.001    0.001 quant.py:2168(<listcomp>)\n",
       "        6    0.000    0.000    0.000    0.000 core.py:123(<genexpr>)\n",
       "       16    0.000    0.000    0.000    0.000 quant.py:600(<genexpr>)\n",
       "        4    0.000    0.000    0.000    0.000 quant.py:530(isBeatFilled)\n",
       "       33    0.000    0.000    0.000    0.000 {method 'copy' of 'list' objects}\n",
       "        1    0.000    0.000    0.001    0.001 quant.py:1549(measureSplitNotationsAtBeats)\n",
       "        6    0.000    0.000    0.000    0.000 quant.py:1654(<listcomp>)\n",
       "       11    0.000    0.000    0.000    0.000 quant.py:1292(_tieNotationParts)\n",
       "        2    0.000    0.000    0.000    0.000 quant.py:2058(removeUnnecessaryGracenotes)\n",
       "       60    0.000    0.000    0.000    0.000 quant.py:943(<genexpr>)\n",
       "       12    0.000    0.000    0.000    0.000 {built-in method builtins.any}\n",
       "        2    0.000    0.000    0.000    0.000 quant.py:1502(isMeasureFilled)\n",
       "       11    0.000    0.000    0.000    0.000 quant.py:1370(_breakIrregularDuration)\n",
       "       56    0.000    0.000    0.000    0.000 {built-in method builtins.setattr}\n",
       "        1    0.000    0.000    0.000    0.000 quant.py:1527(<listcomp>)\n",
       "        1    0.000    0.000    0.000    0.000 core.py:196(stackNotations)\n",
       "       16    0.000    0.000    0.000    0.000 quant.py:594(<genexpr>)\n",
       "       12    0.000    0.000    0.000    0.000 quant.py:942(<listcomp>)\n",
       "        7    0.000    0.000    0.000    0.000 core.py:122(<genexpr>)\n",
       "        4    0.000    0.000    0.000    0.000 <string>:1(<lambda>)\n",
       "        5    0.000    0.000    0.000    0.000 rational.py:128(__mul__)\n",
       "        1    0.000    0.000    0.000    0.000 quant.py:1168(_fillMeasure)\n",
       "        7    0.000    0.000    0.000    0.000 quant.py:1684(<genexpr>)\n",
       "       12    0.000    0.000    0.000    0.000 quant.py:598(<genexpr>)\n",
       "        1    0.000    0.000    0.000    0.000 scorestruct.py:415(measureBeatOffsets)\n",
       "        4    0.000    0.000    0.000    0.000 misc.py:1398(assert_type)\n",
       "        2    0.000    0.000    0.000    0.000 {built-in method builtins.min}\n",
       "        1    0.000    0.000    0.000    0.000 notation.py:994(makeRest)\n",
       "       34    0.000    0.000    0.000    0.000 {method 'items' of 'dict' objects}\n",
       "        3    0.000    0.000    0.000    0.000 core.py:58(__iter__)\n",
       "       40    0.000    0.000    0.000    0.000 notation.py:435(isGraceNote)\n",
       "        7    0.000    0.000    0.000    0.000 quant.py:1184(<genexpr>)\n",
       "       32    0.000    0.000    0.000    0.000 {method 'pop' of 'dict' objects}\n",
       "        1    0.000    0.000    0.000    0.000 core.py:213(<listcomp>)\n",
       "       43    0.000    0.000    0.000    0.000 {built-in method __new__ of type object at 0x8db7c0}\n",
       "        1    0.000    0.000    0.000    0.000 quant.py:2104(_fixTies)\n",
       "       24    0.000    0.000    0.000    0.000 mathlib.py:125(asFraction)\n",
       "       12    0.000    0.000    0.000    0.000 quant.py:596(<genexpr>)\n",
       "       13    0.000    0.000    0.000    0.000 quant.py:788(<genexpr>)\n",
       "       15    0.000    0.000    0.000    0.000 quant.py:1096(<lambda>)\n",
       "        4    0.000    0.000    0.000    0.000 quant.py:707(applyDurationRatios)\n",
       "        4    0.000    0.000    0.000    0.000 quant.py:554(<genexpr>)\n",
       "       11    0.000    0.000    0.000    0.000 common.py:22(asF)\n",
       "        1    0.000    0.000    0.000    0.000 quant.py:846(check)\n",
       "       15    0.000    0.000    0.000    0.000 quant.py:1505(<genexpr>)\n",
       "       19    0.000    0.000    0.000    0.000 quant.py:1495(<genexpr>)\n",
       "       14    0.000    0.000    0.000    0.000 quant.py:546(<genexpr>)\n",
       "       23    0.000    0.000    0.000    0.000 quant.py:1130(<genexpr>)\n",
       "       19    0.000    0.000    0.000    0.000 {method 'extend' of 'list' objects}\n",
       "        1    0.000    0.000    0.000    0.000 {built-in method builtins.max}\n",
       "       14    0.000    0.000    0.000    0.000 quant.py:1543(<genexpr>)\n",
       "       14    0.000    0.000    0.000    0.000 quant.py:1232(<genexpr>)\n",
       "        1    0.000    0.000    0.000    0.000 core.py:109(fillGaps)\n",
       "       17    0.000    0.000    0.000    0.000 quant.py:635(<genexpr>)\n",
       "        8    0.000    0.000    0.000    0.000 quant.py:1576(<genexpr>)\n",
       "       16    0.000    0.000    0.000    0.000 quant.py:593(<genexpr>)\n",
       "       19    0.000    0.000    0.000    0.000 quant.py:1493(<genexpr>)\n",
       "        1    0.000    0.000    0.000    0.000 quant.py:2089(glissMarkTiedNotesAsHidden)\n",
       "        7    0.000    0.000    0.000    0.000 core.py:177(<genexpr>)\n",
       "       15    0.000    0.000    0.000    0.000 quant.py:1107(<lambda>)\n",
       "        3    0.000    0.000    0.000    0.000 quant.py:746(isEmpty)\n",
       "        1    0.000    0.000    0.000    0.000 scorestruct.py:364(measureBeatDurations)\n",
       "       14    0.000    0.000    0.000    0.000 quant.py:1009(<genexpr>)\n",
       "       19    0.000    0.000    0.000    0.000 quant.py:1496(<genexpr>)\n",
       "        1    0.000    0.000    0.000    0.000 quant.py:1917(__post_init__)\n",
       "        7    0.000    0.000    0.000    0.000 quant.py:2169(<genexpr>)\n",
       "        1    0.000    0.000    0.000    0.000 quant.py:2170(<listcomp>)\n",
       "       13    0.000    0.000    0.000    0.000 notation.py:319(<listcomp>)\n",
       "        1    0.000    0.000    0.000    0.000 scorestruct.py:340(measureQuarterDuration)\n",
       "        1    0.000    0.000    0.000    0.000 quant.py:778(notations)\n",
       "       14    0.000    0.000    0.000    0.000 quant.py:1925(flatNotations)\n",
       "        1    0.000    0.000    0.000    0.000 quantutils.py:216(transferAttributesWithinTies)\n",
       "        8    0.000    0.000    0.000    0.000 quant.py:1018(<genexpr>)\n",
       "       17    0.000    0.000    0.000    0.000 quant.py:857(<genexpr>)\n",
       "       10    0.000    0.000    0.000    0.000 quant.py:1110(<genexpr>)\n",
       "        4    0.000    0.000    0.000    0.000 quant.py:704(__post_init__)\n",
       "        1    0.000    0.000    0.000    0.000 scorestruct.py:732(getMeasureDef)\n",
       "        6    0.000    0.000    0.000    0.000 quant.py:2181(<lambda>)\n",
       "        1    0.000    0.000    0.000    0.000 core.py:164(stackNotationsInPlace)\n",
       "        4    0.000    0.000    0.000    0.000 quant.py:1126(<genexpr>)\n",
       "        1    0.000    0.000    0.000    0.000 quant.py:732(__post_init__)\n",
       "        8    0.000    0.000    0.000    0.000 quant.py:2113(<genexpr>)\n",
       "        6    0.000    0.000    0.000    0.000 quant.py:750(<genexpr>)\n",
       "        1    0.000    0.000    0.000    0.000 {method 'disable' of '_lsprof.Profiler' objects}"
      ]
     },
     "metadata": {},
     "output_type": "display_data"
    }
   ],
   "source": [
    "quantprofile.debug  = False\n",
    "%prun scoring.quant.quantizePart(part, struct=struct, profile=quantprofile)\n"
   ]
  },
  {
   "cell_type": "code",
   "execution_count": 6,
   "id": "578fc4e1-97ec-4afd-8a04-7770244589f7",
   "metadata": {},
   "outputs": [
    {
     "name": "stdout",
     "output_type": "stream",
     "text": [
      "Beat: 0 - 1 (dur: 1)\n",
      "Skipped 0 divisions with a div. penalty > 0.1\n",
      "Best 20 divisions: \n"
     ]
    },
    {
     "data": {
      "text/html": [
       "<table>\n",
       "<thead>\n",
       "<tr><th>error    </th><th>div            </th><th>makeSnappedNotation                                                                                                                                                    </th><th>slots       </th><th>info                                                                                                                                                                                  </th></tr>\n",
       "</thead>\n",
       "<tbody>\n",
       "<tr><td>0.0016733</td><td>(1, 1, 5)      </td><td>[«0.000:0.667 2/3♩ 4C», «0.667:0.733 1/15♩ 4D#», «0.733:0.800 1/15♩ 4E», «0.800:1.000 1/5♩ 4F»]                                                                        </td><td>[0, 2, 3, 4]</td><td>gridError=0, rhythmComplexity=0 (numNotesAcrossSubdics=0, numTies=0), divPenalty=0.0374 (7.483e-05, divPenalty=0.02, cardinalityPenalty=0.1, numSubdivsPenalty=0, levelPenalty=0)     </td></tr>\n",
       "<tr><td>0.0026315</td><td>(1, 1, 1, 3, 1)</td><td>[«0.000:0.667 2/3♩ 4C», «0.667:0.733 1/15♩ 4D#», «0.733:0.800 1/15♩ 4E», «0.800:1.000 1/5♩ 4F»]                                                                        </td><td>[0, 4, 5, 6]</td><td>gridError=0, rhythmComplexity=0.0791 (numNotesAcrossSubdics=1, numTies=0), divPenalty=0.0561 (0.0001122, divPenalty=0.02, cardinalityPenalty=0.1, numSubdivsPenalty=0, levelPenalty=0)</td></tr>\n",
       "<tr><td>0.053797 </td><td>(1, 1, 9)      </td><td>[«0.000:0.667 2/3♩ 4C», «0.667:0.741 2/27♩ 4D#», «0.741:0.815 2/27♩ 4E», «0.815:1.000 5/27♩ 4F»]                                                                       </td><td>[0, 2, 4, 6]</td><td>gridError=0.0537, rhythmComplexity=0.237 (numNotesAcrossSubdics=0, numTies=1), divPenalty=0.02 (4e-05, divPenalty=0.02, cardinalityPenalty=0, numSubdivsPenalty=0, levelPenalty=0)    </td></tr>\n",
       "<tr><td>0.066188 </td><td>(1, 1, 8)      </td><td>[«0.000:0.667 2/3♩ 4C», «0.667:0.750 1/12♩ 4D#», «0.750:0.792 1/24♩ 4E», «0.792:1.000 5/24♩ 4F»]                                                                       </td><td>[0, 2, 4, 5]</td><td>gridError=0.0661, rhythmComplexity=0.237 (numNotesAcrossSubdics=0, numTies=1), divPenalty=0.02 (4e-05, divPenalty=0.02, cardinalityPenalty=0, numSubdivsPenalty=0, levelPenalty=0)    </td></tr>\n",
       "<tr><td>0.069741 </td><td>(1, 1, 1, 5, 1)</td><td>[«0.000:0.680 17/25♩ 4C», «0.680:0.720 1/25♩ 4D#», «0.720:0.800 2/25♩ 4E», «0.800:1.000 1/5♩ 4F»]                                                                      </td><td>[0, 5, 6, 8]</td><td>gridError=0.0696, rhythmComplexity=0.25 (numNotesAcrossSubdics=1, numTies=1), divPenalty=0.06 (0.00012, divPenalty=0.04, cardinalityPenalty=0, numSubdivsPenalty=0, levelPenalty=0)   </td></tr>\n",
       "<tr><td>0.073615 </td><td>(1, 1, 7)      </td><td>[«0.000:0.667 2/3♩ 4C», «0.667:0.714 1/21♩ 4D#», «0.714:0.810 2/21♩ 4E», «0.810:1.000 4/21♩ 4F»]                                                                       </td><td>[0, 2, 3, 5]</td><td>gridError=0.0736, rhythmComplexity=0 (numNotesAcrossSubdics=0, numTies=0), divPenalty=0.0374 (7.483e-05, divPenalty=0.02, cardinalityPenalty=0.1, numSubdivsPenalty=0, levelPenalty=0)</td></tr>\n",
       "<tr><td>0.074333 </td><td>(1, 1, 6)      </td><td>[«0.000:0.667 2/3♩ 4C», «0.667:0.722 1/18♩ 4D#», «0.722:0.778 1/18♩ 4E», «0.778:1.000 2/9♩ 4F»]                                                                        </td><td>[0, 2, 3, 4]</td><td>gridError=0.0743, rhythmComplexity=0 (numNotesAcrossSubdics=0, numTies=0), divPenalty=0.02 (4e-05, divPenalty=0.02, cardinalityPenalty=0, numSubdivsPenalty=0, levelPenalty=0)        </td></tr>\n",
       "<tr><td>0.083312 </td><td>(1, 1, 1, 4, 1)</td><td>[«0.000:0.650 13/20♩ 4C», «0.650:0.750 1/10♩ 4D#», «0.750:0.800 1/20♩ 4E», «0.800:1.000 1/5♩ 4F»]                                                                      </td><td>[0, 4, 6, 7]</td><td>gridError=0.0833, rhythmComplexity=0.25 (numNotesAcrossSubdics=1, numTies=1), divPenalty=0.04 (8e-05, divPenalty=0.04, cardinalityPenalty=0, numSubdivsPenalty=0, levelPenalty=0)     </td></tr>\n",
       "<tr><td>0.10281  </td><td>(1, 1, 4)      </td><td>[«0.000:0.667 2/3♩ 4C», «0.667:0.750 1/12♩ 4D#», «0.750:0.833 1/12♩ 4E», «0.833:1.000 1/6♩ 4F»]                                                                        </td><td>[0, 2, 3, 4]</td><td>gridError=0.103, rhythmComplexity=0 (numNotesAcrossSubdics=0, numTies=0), divPenalty=0.02 (4e-05, divPenalty=0.02, cardinalityPenalty=0, numSubdivsPenalty=0, levelPenalty=0)         </td></tr>\n",
       "<tr><td>0.11051  </td><td>(1, 1, 3)      </td><td>[«0.000:0.667 2/3♩ 4C», «0.667:0.778 1/9♩ 4D#», «0.778:grace 4E properties={&#x27;.snappedGracenote&#x27;: True, &#x27;originalDuration&#x27;: Fraction(1, 15)}», «0.778:1.000 2/9♩ 4F»]   </td><td>[0, 2, 3, 3]</td><td>gridError=0.111, rhythmComplexity=0 (numNotesAcrossSubdics=0, numTies=0), divPenalty=0 (0, divPenalty=0, cardinalityPenalty=0, numSubdivsPenalty=0, levelPenalty=0)                   </td></tr>\n",
       "<tr><td>0.11054  </td><td>(9,)           </td><td>[«0.000:0.667 2/3♩ 4C», «0.667:0.778 1/9♩ 4D#», «0.778:grace 4E properties={&#x27;.snappedGracenote&#x27;: True, &#x27;originalDuration&#x27;: Fraction(1, 15)}», «0.778:1.000 2/9♩ 4F»]   </td><td>[0, 6, 7, 7]</td><td>gridError=0.111, rhythmComplexity=0.237 (numNotesAcrossSubdics=0, numTies=1), divPenalty=0.02 (4e-05, divPenalty=0.02, cardinalityPenalty=0, numSubdivsPenalty=0, levelPenalty=0)     </td></tr>\n",
       "<tr><td>0.11602  </td><td>(1, 1, 1, 2, 1)</td><td>[«0.000:0.700 7/10♩ 4C», «0.700:grace 4D# properties={&#x27;.snappedGracenote&#x27;: True, &#x27;originalDuration&#x27;: Fraction(1, 15)}», «0.700:0.800 1/10♩ 4E», «0.800:1.000 1/5♩ 4F»] </td><td>[0, 4, 4, 5]</td><td>gridError=0.116, rhythmComplexity=0.0791 (numNotesAcrossSubdics=1, numTies=0), divPenalty=0.02 (4e-05, divPenalty=0.02, cardinalityPenalty=0, numSubdivsPenalty=0, levelPenalty=0)    </td></tr>\n",
       "<tr><td>0.1188   </td><td>(11,)          </td><td>[«0.000:0.636 7/11♩ 4C», «0.636:0.727 1/11♩ 4D#», «0.727:0.818 1/11♩ 4E», «0.818:1.000 2/11♩ 4F»]                                                                      </td><td>[0, 7, 8, 9]</td><td>gridError=0.119, rhythmComplexity=0 (numNotesAcrossSubdics=0, numTies=0), divPenalty=0.1 (0.0002, divPenalty=0.1, cardinalityPenalty=0, numSubdivsPenalty=0, levelPenalty=0)          </td></tr>\n",
       "<tr><td>0.12467  </td><td>(1, 1, 3, 1)   </td><td>[«0.000:0.667 2/3♩ 4C», «0.667:0.750 1/12♩ 4D#», «0.750:grace 4E properties={&#x27;.snappedGracenote&#x27;: True, &#x27;originalDuration&#x27;: Fraction(1, 15)}», «0.750:1.000 1/4♩ 4F»]  </td><td>[0, 4, 5, 5]</td><td>gridError=0.125, rhythmComplexity=0.0791 (numNotesAcrossSubdics=1, numTies=0), divPenalty=0.02 (4e-05, divPenalty=0.02, cardinalityPenalty=0, numSubdivsPenalty=0, levelPenalty=0)    </td></tr>\n",
       "<tr><td>0.13759  </td><td>(1, 1, 7, 1)   </td><td>[«0.000:0.679 19/28♩ 4C», «0.679:0.750 1/14♩ 4D#», «0.750:grace 4E properties={&#x27;.snappedGracenote&#x27;: True, &#x27;originalDuration&#x27;: Fraction(1, 15)}», «0.750:1.000 1/4♩ 4F»]</td><td>[0, 7, 9, 9]</td><td>gridError=0.138, rhythmComplexity=0.25 (numNotesAcrossSubdics=1, numTies=1), divPenalty=0.04 (8e-05, divPenalty=0.04, cardinalityPenalty=0, numSubdivsPenalty=0, levelPenalty=0)      </td></tr>\n",
       "<tr><td>0.14997  </td><td>(1, 1, 4, 1)   </td><td>[«0.000:0.688 11/16♩ 4C», «0.688:0.750 1/16♩ 4D#», «0.750:grace 4E properties={&#x27;.snappedGracenote&#x27;: True, &#x27;originalDuration&#x27;: Fraction(1, 15)}», «0.750:1.000 1/4♩ 4F»]</td><td>[0, 5, 6, 6]</td><td>gridError=0.15, rhythmComplexity=0.25 (numNotesAcrossSubdics=1, numTies=1), divPenalty=0.04 (8e-05, divPenalty=0.04, cardinalityPenalty=0, numSubdivsPenalty=0, levelPenalty=0)       </td></tr>\n",
       "<tr><td>0.15394  </td><td>(1, 1, 5, 1)   </td><td>[«0.000:0.650 13/20♩ 4C», «0.650:0.750 1/10♩ 4D#», «0.750:grace 4E properties={&#x27;.snappedGracenote&#x27;: True, &#x27;originalDuration&#x27;: Fraction(1, 15)}», «0.750:1.000 1/4♩ 4F»]</td><td>[0, 5, 7, 7]</td><td>gridError=0.154, rhythmComplexity=0.25 (numNotesAcrossSubdics=1, numTies=1), divPenalty=0.04 (8e-05, divPenalty=0.04, cardinalityPenalty=0, numSubdivsPenalty=0, levelPenalty=0)      </td></tr>\n",
       "<tr><td>0.18981  </td><td>(1, 1, 2)      </td><td>[«0.000:0.667 2/3♩ 4C», «0.667:grace 4D# properties={&#x27;.snappedGracenote&#x27;: True, &#x27;originalDuration&#x27;: Fraction(1, 15)}», «0.667:0.833 1/6♩ 4E», «0.833:1.000 1/6♩ 4F»]   </td><td>[0, 2, 2, 3]</td><td>gridError=0.19, rhythmComplexity=0 (numNotesAcrossSubdics=0, numTies=0), divPenalty=0 (0, divPenalty=0, cardinalityPenalty=0, numSubdivsPenalty=0, levelPenalty=0)                    </td></tr>\n",
       "<tr><td>0.18982  </td><td>(6,)           </td><td>[«0.000:0.667 2/3♩ 4C», «0.667:grace 4D# properties={&#x27;.snappedGracenote&#x27;: True, &#x27;originalDuration&#x27;: Fraction(1, 15)}», «0.667:0.833 1/6♩ 4E», «0.833:1.000 1/6♩ 4F»]   </td><td>[0, 4, 4, 5]</td><td>gridError=0.19, rhythmComplexity=0.237 (numNotesAcrossSubdics=0, numTies=1), divPenalty=0.02 (4e-05, divPenalty=0.02, cardinalityPenalty=0, numSubdivsPenalty=0, levelPenalty=0)      </td></tr>\n",
       "<tr><td>0.19541  </td><td>(1, 1, 2, 1)   </td><td>[«0.000:0.625 5/8♩ 4C», «0.625:0.750 1/8♩ 4D#», «0.750:grace 4E properties={&#x27;.snappedGracenote&#x27;: True, &#x27;originalDuration&#x27;: Fraction(1, 15)}», «0.750:1.000 1/4♩ 4F»]   </td><td>[0, 3, 4, 4]</td><td>gridError=0.195, rhythmComplexity=0.25 (numNotesAcrossSubdics=1, numTies=1), divPenalty=0.02 (4e-05, divPenalty=0.02, cardinalityPenalty=0, numSubdivsPenalty=0, levelPenalty=0)      </td></tr>\n",
       "</tbody>\n",
       "</table>"
      ],
      "text/plain": [
       "<IPython.core.display.HTML object>"
      ]
     },
     "metadata": {},
     "output_type": "display_data"
    },
    {
     "name": "stdout",
     "output_type": "stream",
     "text": [
      "Beat: 1 - 2 (dur: 1)\n",
      "Skipped 25 divisions with a div. penalty > 0.1\n",
      "Best 20 divisions: \n"
     ]
    },
    {
     "data": {
      "text/html": [
       "<table>\n",
       "<thead>\n",
       "<tr><th>error    </th><th>div            </th><th>makeSnappedNotation                                                                                                                                                                               </th><th>slots          </th><th>info                                                                                                                                                                                       </th></tr>\n",
       "</thead>\n",
       "<tbody>\n",
       "<tr><td>0.0016733</td><td>(5, 1, 1)      </td><td>[«0.000:0.067 1/15♩ 4F#», «0.067:0.133 1/15♩ 4D#», «0.133:0.200 1/15♩ 4E», «0.200:0.333 2/15♩ 4F», «0.333:1.000 2/3♩ 4C#»]                                                                        </td><td>[0, 1, 2, 3, 5]</td><td>gridError=0, rhythmComplexity=0 (numNotesAcrossSubdics=0, numTies=0), divPenalty=0.0374 (7.483e-05, divPenalty=0.02, cardinalityPenalty=0.1, numSubdivsPenalty=0, levelPenalty=0)          </td></tr>\n",
       "<tr><td>0.0038177</td><td>(3, 3, 1, 1, 1)</td><td>[«0.000:0.067 1/15♩ 4F#», «0.067:0.133 1/15♩ 4D#», «0.133:0.200 1/15♩ 4E», «0.200:0.333 2/15♩ 4F», «0.333:1.000 2/3♩ 4C#»]                                                                        </td><td>[0, 1, 2, 3, 5]</td><td>gridError=0, rhythmComplexity=0.0632 (numNotesAcrossSubdics=1, numTies=0), divPenalty=0.0842 (0.0001684, divPenalty=0.02, cardinalityPenalty=0.1, numSubdivsPenalty=0, levelPenalty=0)     </td></tr>\n",
       "<tr><td>0.047982 </td><td>(3, 4, 1, 1, 1)</td><td>[«0.000:0.067 1/15♩ 4F#», «0.067:0.133 1/15♩ 4D#», «0.133:0.200 1/15♩ 4E», «0.200:0.350 3/20♩ 4F», «0.350:1.000 13/20♩ 4C#»]                                                                      </td><td>[0, 1, 2, 3, 6]</td><td>gridError=0.0478, rhythmComplexity=0.2 (numNotesAcrossSubdics=1, numTies=1), divPenalty=0.0765 (0.000153, divPenalty=0.04, cardinalityPenalty=0.1, numSubdivsPenalty=0, levelPenalty=0)    </td></tr>\n",
       "<tr><td>0.08326  </td><td>(8, 1, 1)      </td><td>[«0.000:0.083 1/12♩ 4F#», «0.083:0.125 1/24♩ 4D#», «0.125:0.208 1/12♩ 4E», «0.208:0.333 1/8♩ 4F», «0.333:1.000 2/3♩ 4C#»]                                                                         </td><td>[0, 2, 3, 5, 8]</td><td>gridError=0.0833, rhythmComplexity=0 (numNotesAcrossSubdics=0, numTies=0), divPenalty=0.02 (4e-05, divPenalty=0.02, cardinalityPenalty=0, numSubdivsPenalty=0, levelPenalty=0)             </td></tr>\n",
       "<tr><td>0.083296 </td><td>(3, 2, 1, 1, 1)</td><td>[«0.000:0.067 1/15♩ 4F#», «0.067:0.133 1/15♩ 4D#», «0.133:0.200 1/15♩ 4E», «0.200:0.300 1/10♩ 4F», «0.300:1.000 7/10♩ 4C#»]                                                                       </td><td>[0, 1, 2, 3, 4]</td><td>gridError=0.0833, rhythmComplexity=0.0632 (numNotesAcrossSubdics=1, numTies=0), divPenalty=0.0561 (0.0001122, divPenalty=0.02, cardinalityPenalty=0.1, numSubdivsPenalty=0, levelPenalty=0)</td></tr>\n",
       "<tr><td>0.083328 </td><td>(4, 3, 1, 1, 1)</td><td>[«0.000:0.050 1/20♩ 4F#», «0.050:0.150 1/10♩ 4D#», «0.150:0.200 1/20♩ 4E», «0.200:0.333 2/15♩ 4F», «0.333:1.000 2/3♩ 4C#»]                                                                        </td><td>[0, 1, 3, 4, 6]</td><td>gridError=0.0833, rhythmComplexity=0.0632 (numNotesAcrossSubdics=1, numTies=0), divPenalty=0.0765 (0.000153, divPenalty=0.04, cardinalityPenalty=0.1, numSubdivsPenalty=0, levelPenalty=0) </td></tr>\n",
       "<tr><td>0.08448  </td><td>(9, 1, 1)      </td><td>[«0.000:0.074 2/27♩ 4F#», «0.074:0.148 2/27♩ 4D#», «0.148:0.185 1/27♩ 4E», «0.185:0.333 4/27♩ 4F», «0.333:1.000 2/3♩ 4C#»]                                                                        </td><td>[0, 2, 4, 5, 9]</td><td>gridError=0.0845, rhythmComplexity=0 (numNotesAcrossSubdics=0, numTies=0), divPenalty=0.02 (4e-05, divPenalty=0.02, cardinalityPenalty=0, numSubdivsPenalty=0, levelPenalty=0)             </td></tr>\n",
       "<tr><td>0.092657 </td><td>(7, 1, 1)      </td><td>[«0.000:0.048 1/21♩ 4F#», «0.048:0.143 2/21♩ 4D#», «0.143:0.190 1/21♩ 4E», «0.190:0.333 1/7♩ 4F», «0.333:1.000 2/3♩ 4C#»]                                                                         </td><td>[0, 1, 3, 4, 7]</td><td>gridError=0.0926, rhythmComplexity=0 (numNotesAcrossSubdics=0, numTies=0), divPenalty=0.0374 (7.483e-05, divPenalty=0.02, cardinalityPenalty=0.1, numSubdivsPenalty=0, levelPenalty=0)     </td></tr>\n",
       "<tr><td>0.1028   </td><td>(5, 4, 1, 1, 1)</td><td>[«0.000:0.080 2/25♩ 4F#», «0.080:0.120 1/25♩ 4D#», «0.120:0.200 2/25♩ 4E», «0.200:0.350 3/20♩ 4F», «0.350:1.000 13/20♩ 4C#»]                                                                      </td><td>[0, 2, 3, 5, 8]</td><td>gridError=0.103, rhythmComplexity=0.2 (numNotesAcrossSubdics=1, numTies=1), divPenalty=0.09 (0.00018, divPenalty=0.06, cardinalityPenalty=0, numSubdivsPenalty=0, levelPenalty=0)          </td></tr>\n",
       "<tr><td>0.10906  </td><td>(4, 5, 1, 1, 1)</td><td>[«0.000:0.050 1/20♩ 4F#», «0.050:0.150 1/10♩ 4D#», «0.150:0.200 1/20♩ 4E», «0.200:0.320 3/25♩ 4F», «0.320:1.000 17/25♩ 4C#»]                                                                      </td><td>[0, 1, 3, 4, 7]</td><td>gridError=0.109, rhythmComplexity=0.2 (numNotesAcrossSubdics=1, numTies=1), divPenalty=0.09 (0.00018, divPenalty=0.06, cardinalityPenalty=0, numSubdivsPenalty=0, levelPenalty=0)          </td></tr>\n",
       "<tr><td>0.1152   </td><td>(4, 4, 1, 1, 1)</td><td>[«0.000:0.050 1/20♩ 4F#», «0.050:0.150 1/10♩ 4D#», «0.150:0.200 1/20♩ 4E», «0.200:0.350 3/20♩ 4F», «0.350:1.000 13/20♩ 4C#»]                                                                      </td><td>[0, 1, 3, 4, 7]</td><td>gridError=0.115, rhythmComplexity=0.2 (numNotesAcrossSubdics=1, numTies=1), divPenalty=0.06 (0.00012, divPenalty=0.06, cardinalityPenalty=0, numSubdivsPenalty=0, levelPenalty=0)          </td></tr>\n",
       "<tr><td>0.11604  </td><td>(2, 3, 1, 1, 1)</td><td>[«0.000:0.100 1/10♩ 4F#», «0.100:grace 4D# properties={&#x27;.snappedGracenote&#x27;: True, &#x27;originalDuration&#x27;: Fraction(1, 15)}», «0.100:0.200 1/10♩ 4E», «0.200:0.333 2/15♩ 4F», «0.333:1.000 2/3♩ 4C#»]  </td><td>[0, 1, 1, 2, 4]</td><td>gridError=0.116, rhythmComplexity=0.0632 (numNotesAcrossSubdics=1, numTies=0), divPenalty=0.0561 (0.0001122, divPenalty=0.02, cardinalityPenalty=0.1, numSubdivsPenalty=0, levelPenalty=0) </td></tr>\n",
       "<tr><td>0.11685  </td><td>(6, 1, 1)      </td><td>[«0.000:0.056 1/18♩ 4F#», «0.056:0.111 1/18♩ 4D#», «0.111:0.222 1/9♩ 4E», «0.222:0.333 1/9♩ 4F», «0.333:1.000 2/3♩ 4C#»]                                                                          </td><td>[0, 1, 2, 4, 6]</td><td>gridError=0.117, rhythmComplexity=0 (numNotesAcrossSubdics=0, numTies=0), divPenalty=0.02 (4e-05, divPenalty=0.02, cardinalityPenalty=0, numSubdivsPenalty=0, levelPenalty=0)              </td></tr>\n",
       "<tr><td>0.13327  </td><td>(5, 2, 1, 1, 1)</td><td>[«0.000:0.080 2/25♩ 4F#», «0.080:0.120 1/25♩ 4D#», «0.120:0.200 2/25♩ 4E», «0.200:0.300 1/10♩ 4F», «0.300:1.000 7/10♩ 4C#»]                                                                       </td><td>[0, 2, 3, 5, 6]</td><td>gridError=0.133, rhythmComplexity=0.0632 (numNotesAcrossSubdics=1, numTies=0), divPenalty=0.06 (0.00012, divPenalty=0.04, cardinalityPenalty=0, numSubdivsPenalty=0, levelPenalty=0)       </td></tr>\n",
       "<tr><td>0.13364  </td><td>(4, 1, 1)      </td><td>[«0.000:0.083 1/12♩ 4F#», «0.083:0.167 1/12♩ 4D#», «0.167:grace 4E properties={&#x27;.snappedGracenote&#x27;: True, &#x27;originalDuration&#x27;: Fraction(1, 15)}», «0.167:0.333 1/6♩ 4F», «0.333:1.000 2/3♩ 4C#»]   </td><td>[0, 1, 2, 2, 4]</td><td>gridError=0.134, rhythmComplexity=0 (numNotesAcrossSubdics=0, numTies=0), divPenalty=0.02 (4e-05, divPenalty=0.02, cardinalityPenalty=0, numSubdivsPenalty=0, levelPenalty=0)              </td></tr>\n",
       "<tr><td>0.13998  </td><td>(2, 5, 1, 1, 1)</td><td>[«0.000:0.100 1/10♩ 4F#», «0.100:grace 4D# properties={&#x27;.snappedGracenote&#x27;: True, &#x27;originalDuration&#x27;: Fraction(1, 15)}», «0.100:0.200 1/10♩ 4E», «0.200:0.320 3/25♩ 4F», «0.320:1.000 17/25♩ 4C#»]</td><td>[0, 1, 1, 2, 5]</td><td>gridError=0.14, rhythmComplexity=0.2 (numNotesAcrossSubdics=1, numTies=1), divPenalty=0.06 (0.00012, divPenalty=0.04, cardinalityPenalty=0, numSubdivsPenalty=0, levelPenalty=0)           </td></tr>\n",
       "<tr><td>0.14497  </td><td>(4, 2, 1, 1, 1)</td><td>[«0.000:0.050 1/20♩ 4F#», «0.050:0.150 1/10♩ 4D#», «0.150:0.200 1/20♩ 4E», «0.200:0.300 1/10♩ 4F», «0.300:1.000 7/10♩ 4C#»]                                                                       </td><td>[0, 1, 3, 4, 5]</td><td>gridError=0.145, rhythmComplexity=0.0632 (numNotesAcrossSubdics=1, numTies=0), divPenalty=0.04 (8e-05, divPenalty=0.04, cardinalityPenalty=0, numSubdivsPenalty=0, levelPenalty=0)         </td></tr>\n",
       "<tr><td>0.14579  </td><td>(2, 4, 1, 1, 1)</td><td>[«0.000:0.100 1/10♩ 4F#», «0.100:grace 4D# properties={&#x27;.snappedGracenote&#x27;: True, &#x27;originalDuration&#x27;: Fraction(1, 15)}», «0.100:0.200 1/10♩ 4E», «0.200:0.350 3/20♩ 4F», «0.350:1.000 13/20♩ 4C#»]</td><td>[0, 1, 1, 2, 5]</td><td>gridError=0.146, rhythmComplexity=0.2 (numNotesAcrossSubdics=1, numTies=1), divPenalty=0.04 (8e-05, divPenalty=0.04, cardinalityPenalty=0, numSubdivsPenalty=0, levelPenalty=0)            </td></tr>\n",
       "<tr><td>0.15017  </td><td>(3, 1, 1)      </td><td>[«0.000:0.111 1/9♩ 4F#», «0.111:grace 4D# properties={&#x27;.snappedGracenote&#x27;: True, &#x27;originalDuration&#x27;: Fraction(1, 15)}», «0.111:0.222 1/9♩ 4E», «0.222:0.333 1/9♩ 4F», «0.333:1.000 2/3♩ 4C#»]     </td><td>[0, 1, 1, 2, 3]</td><td>gridError=0.15, rhythmComplexity=0 (numNotesAcrossSubdics=0, numTies=0), divPenalty=0 (0, divPenalty=0, cardinalityPenalty=0, numSubdivsPenalty=0, levelPenalty=0)                         </td></tr>\n",
       "<tr><td>0.15018  </td><td>(9,)           </td><td>[«0.000:0.111 1/9♩ 4F#», «0.111:grace 4D# properties={&#x27;.snappedGracenote&#x27;: True, &#x27;originalDuration&#x27;: Fraction(1, 15)}», «0.111:0.222 1/9♩ 4E», «0.222:0.333 1/9♩ 4F», «0.333:1.000 2/3♩ 4C#»]     </td><td>[0, 1, 1, 2, 3]</td><td>gridError=0.15, rhythmComplexity=0.19 (numNotesAcrossSubdics=0, numTies=1), divPenalty=0.02 (4e-05, divPenalty=0.02, cardinalityPenalty=0, numSubdivsPenalty=0, levelPenalty=0)            </td></tr>\n",
       "</tbody>\n",
       "</table>"
      ],
      "text/plain": [
       "<IPython.core.display.HTML object>"
      ]
     },
     "metadata": {},
     "output_type": "display_data"
    },
    {
     "name": "stderr",
     "output_type": "stream",
     "text": [
      "DEBUG:maelzel.scoring:mergeSiblings: Node(3/2, \n",
      "  «0.000:0.667 2/3♩ 3/2 4C»\n",
      "  Node(5/4, \n",
      "    «0.667:0.733 1/15♩ 3/2,5/4 4D#»\n",
      "    «0.733:0.800 1/15♩ 3/2,5/4 4E»\n",
      "    «0.800:1.000 1/5♩ 3/2,5/4 4F»\n",
      "  )\n",
      ") cannot merge with Node(3/2, \n",
      "  Node(5/4, \n",
      "    «1.000:1.067 1/15♩ 3/2,5/4 4F#»\n",
      "    «1.067:1.133 1/15♩ 3/2,5/4 4D#»\n",
      "    «1.133:1.200 1/15♩ 3/2,5/4 4E»\n",
      "    «1.200:1.333 2/15♩ 3/2,5/4 4F»\n",
      "  )\n",
      "  «1.333:2.000 2/3♩ 3/2 4C#»\n",
      "): complex nested tuplets cannot merge: (3, 5)\n",
      "DEBUG:maelzel.scoring:mergeSiblings: Node(3/2, \n",
      "  Node(5/4, \n",
      "    «1.000:1.067 1/15♩ 3/2,5/4 4F#»\n",
      "    «1.067:1.133 1/15♩ 3/2,5/4 4D#»\n",
      "    «1.133:1.200 1/15♩ 3/2,5/4 4E»\n",
      "    «1.200:1.333 2/15♩ 3/2,5/4 4F»\n",
      "  )\n",
      "  «1.333:2.000 2/3♩ 3/2 4C#»\n",
      ") cannot merge with Node(1/1, \n",
      "  «2.000:3.000 1/1♩ rest»\n",
      "): not same durRatio\n",
      "DEBUG:maelzel.scoring:Nodes can merge: \n",
      "    Node(1/1, \n",
      "  «2.000:3.000 1/1♩ rest»\n",
      ")\n",
      "    Node(1/1, \n",
      "  «3.000:4.000 1/1♩ rest»\n",
      ")\n",
      "DEBUG:maelzel.scoring:This Node (offset: 0, end: 4) does not contain offset 0\n",
      "DEBUG:maelzel.scoring:Rendering lilypond '/tmp/tmp5sdu0i0s.ly' to '/tmp/tmp5sdu0i0s.png'\n",
      "DEBUG:maelzel:Rendering lilypond '/tmp/tmp5sdu0i0s.ly' to '/tmp/tmp5sdu0i0s.png'\n",
      "DEBUG:maelzel:findLilypond: searching via shutil.which\n",
      "DEBUG:maelzel:... found! lilypond path: /home/em/.local/bin/lilypond\n",
      "DEBUG:maelzel:Calling lilypond subprocess: ['/home/em/.local/bin/lilypond', '--png', '-o', '/tmp/tmp5sdu0i0s', '-dresolution=200', '/tmp/tmp5sdu0i0s.ly']\n",
      "DEBUG:maelzel:lilypond executed OK\n",
      "DEBUG:maelzel:stderr: \n",
      "DEBUG:maelzel: Changing working directory to: `/tmp'\n",
      " Processing `/tmp/tmp5sdu0i0s.ly'\n",
      " Parsing...\n",
      " Interpreting music...\n",
      " Preprocessing graphical objects...\n",
      " Finding the ideal number of pages...\n",
      " Fitting music on 1 page...\n",
      " Drawing systems...\n",
      " Converting to PNG...\n",
      " Layout output to `tmp5sdu0i0s.cropped.eps'...\n",
      " Converting to PNG...\n",
      " Success: compilation successfully completed\n",
      "\n",
      "DEBUG:maelzel.scoring:Found crop file /tmp/tmp5sdu0i0s.cropped.png, using that as output\n",
      "DEBUG:PIL.PngImagePlugin:STREAM b'IHDR' 16 13\n",
      "DEBUG:PIL.PngImagePlugin:STREAM b'iCCP' 41 2354\n",
      "DEBUG:PIL.PngImagePlugin:iCCP profile name b'default_rgb.icc'\n",
      "DEBUG:PIL.PngImagePlugin:Compression method 0\n",
      "DEBUG:PIL.PngImagePlugin:STREAM b'pHYs' 2407 9\n",
      "DEBUG:PIL.PngImagePlugin:STREAM b'tEXt' 2428 31\n",
      "DEBUG:PIL.PngImagePlugin:STREAM b'IDAT' 2471 8192\n"
     ]
    },
    {
     "data": {
      "text/html": [
       "<b>LilypondRenderer</b> (1 part)<br>\n",
       "        <img style=\"display:inline; padding:10px;\n",
       "margin-top:14px;\n",
       "width:883.0\"\n",
       "             src=\"data:image/png;base64,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\"/>"
      ],
      "text/plain": [
       "<maelzel.scoring.renderlily.LilypondRenderer at 0x7f881972ba00>"
      ]
     },
     "execution_count": 6,
     "metadata": {},
     "output_type": "execute_result"
    }
   ],
   "source": [
    "from maelzel import scoring\n",
    "from maelzel.scorestruct import ScoreStruct\n",
    "from maelzel.common import F\n",
    "\n",
    "notes = [\n",
    "    (60, F(2, 3)),\n",
    "    (63, F(2, 3)*F(1, 10)),\n",
    "    (64, F(2, 3)*F(1, 10)),\n",
    "    (65, F(2, 3)*F(3, 10)),\n",
    "    \n",
    "    (66, F(2, 3)*F(1, 10)),\n",
    "    (63, F(2, 3)*F(1, 10)),\n",
    "    (64, F(2, 3)*F(1, 10)),\n",
    "    (65, F(2, 3)*F(2, 10)),\n",
    "    (61, F(2, 3)),\n",
    "    \n",
    "]\n",
    "\n",
    "notations = [scoring.makeNote(p, d) for p, d in notes]\n",
    "struct = ScoreStruct(timesig='4/4', tempo=70)\n",
    "\n",
    "part = scoring.Part(notations)\n",
    "quantprofile = scoring.quant.QuantizationProfile.fromPreset('highest', debug=True, debugMaxDivisions=20, maxDivPenalty=0.1)\n",
    "quantprofile.maxGridDensity = 32\n",
    "#quantprofile.rhythmComplexityWeight = 0.001\n",
    "#quantprofile.divisionErrorWeight = 0.01\n",
    "quantprofile.minBeatFractionAcrossBeats = F(1, 8)\n",
    "quantprofile.minSymbolicDurationAcrossBeat = F(1, 3)\n",
    "\n",
    "qpart = scoring.quant.quantizePart(part, struct=struct, quantprofile=quantprofile)\n",
    "options = scoring.render.RenderOptions()\n",
    "score = scoring.quant.QuantizedScore([qpart])\n",
    "r = scoring.render.renderQuantizedScore(score, options)\n",
    "# qpart.dump()\n",
    "# r.write('~/tmp/quant.ly')\n",
    "r"
   ]
  },
  {
   "cell_type": "code",
   "execution_count": 8,
   "id": "ef394c1d-6aee-487f-af01-2c82fd69626a",
   "metadata": {},
   "outputs": [
    {
     "name": "stdout",
     "output_type": "stream",
     "text": [
      "Beat: 0 - 1 (dur: 1)\n",
      "Skipped 1088 divisions with a div. penalty > 0.1\n",
      "Best 20 divisions: \n"
     ]
    },
    {
     "data": {
      "text/html": [
       "<table>\n",
       "<thead>\n",
       "<tr><th>error    </th><th>div         </th><th>makeSnappedNotation                                                                                                        </th><th>slots             </th><th>info                                                                                                                                                                                      </th></tr>\n",
       "</thead>\n",
       "<tbody>\n",
       "<tr><td>0.0018974</td><td>(8, 8)      </td><td>[«0.000:0.250 1/4♩ 4C», «0.250:0.438 3/16♩ 4D#», «0.438:0.625 3/16♩ 4E», «0.625:0.812 3/16♩ 4F», «0.812:1.000 3/16♩ 4F#»]  </td><td>[0, 4, 7, 10, 13] </td><td>gridError=0, rhythmComplexity=0.0632 (numNotesAcrossSubdics=1, numTies=0), divPenalty=0.04 (8e-05, divPenalty=0.04, cardinalityPenalty=0, numSubdivsPenalty=0, levelPenalty=0)            </td></tr>\n",
       "<tr><td>0.0029665</td><td>(1, 4, 2, 4)</td><td>[«0.000:0.250 1/4♩ 4C», «0.250:0.438 3/16♩ 4D#», «0.438:0.625 3/16♩ 4E», «0.625:0.812 3/16♩ 4F», «0.812:1.000 3/16♩ 4F#»]  </td><td>[0, 1, 4, 6, 8]   </td><td>gridError=0, rhythmComplexity=0.126 (numNotesAcrossSubdics=2, numTies=0), divPenalty=0.06 (0.00012, divPenalty=0.06, cardinalityPenalty=0, numSubdivsPenalty=0, levelPenalty=0)           </td></tr>\n",
       "<tr><td>0.029419 </td><td>(1, 7, 2, 4)</td><td>[«0.000:0.250 1/4♩ 4C», «0.250:0.429 5/28♩ 4D#», «0.429:0.625 11/56♩ 4E», «0.625:0.812 3/16♩ 4F», «0.812:1.000 3/16♩ 4F#»] </td><td>[0, 1, 6, 9, 11]  </td><td>gridError=0.029, rhythmComplexity=0.4 (numNotesAcrossSubdics=2, numTies=2), divPenalty=0.06 (0.00012, divPenalty=0.06, cardinalityPenalty=0, numSubdivsPenalty=0, levelPenalty=0)         </td></tr>\n",
       "<tr><td>0.029419 </td><td>(1, 4, 2, 7)</td><td>[«0.000:0.250 1/4♩ 4C», «0.250:0.438 3/16♩ 4D#», «0.438:0.625 3/16♩ 4E», «0.625:0.821 11/56♩ 4F», «0.821:1.000 5/28♩ 4F#»] </td><td>[0, 1, 4, 6, 9]   </td><td>gridError=0.029, rhythmComplexity=0.4 (numNotesAcrossSubdics=2, numTies=2), divPenalty=0.06 (0.00012, divPenalty=0.06, cardinalityPenalty=0, numSubdivsPenalty=0, levelPenalty=0)         </td></tr>\n",
       "<tr><td>0.035722 </td><td>(4, 9, 9)   </td><td>[«0.000:0.250 1/4♩ 4C», «0.250:0.444 7/36♩ 4D#», «0.444:0.630 5/27♩ 4E», «0.630:0.815 5/27♩ 4F», «0.815:1.000 5/27♩ 4F#»]  </td><td>[0, 3, 7, 12, 17] </td><td>gridError=0.0351, rhythmComplexity=0.583 (numNotesAcrossSubdics=2, numTies=3), divPenalty=0.06 (0.00012, divPenalty=0.06, cardinalityPenalty=0, numSubdivsPenalty=0, levelPenalty=0)      </td></tr>\n",
       "<tr><td>0.038103 </td><td>(1, 4, 2, 5)</td><td>[«0.000:0.250 1/4♩ 4C», «0.250:0.438 3/16♩ 4D#», «0.438:0.625 3/16♩ 4E», «0.625:0.800 7/40♩ 4F», «0.800:1.000 1/5♩ 4F#»]   </td><td>[0, 1, 4, 6, 8]   </td><td>gridError=0.038, rhythmComplexity=0.126 (numNotesAcrossSubdics=2, numTies=0), divPenalty=0.06 (0.00012, divPenalty=0.06, cardinalityPenalty=0, numSubdivsPenalty=0, levelPenalty=0)       </td></tr>\n",
       "<tr><td>0.038103 </td><td>(1, 5, 2, 4)</td><td>[«0.000:0.250 1/4♩ 4C», «0.250:0.450 1/5♩ 4D#», «0.450:0.625 7/40♩ 4E», «0.625:0.812 3/16♩ 4F», «0.812:1.000 3/16♩ 4F#»]   </td><td>[0, 1, 5, 7, 9]   </td><td>gridError=0.038, rhythmComplexity=0.126 (numNotesAcrossSubdics=2, numTies=0), divPenalty=0.06 (0.00012, divPenalty=0.06, cardinalityPenalty=0, numSubdivsPenalty=0, levelPenalty=0)       </td></tr>\n",
       "<tr><td>0.038805 </td><td>(4, 9, 7)   </td><td>[«0.000:0.250 1/4♩ 4C», «0.250:0.444 7/36♩ 4D#», «0.444:0.630 5/27♩ 4E», «0.630:0.810 0.180♩ 4F», «0.810:1.000 4/21♩ 4F#»] </td><td>[0, 3, 7, 12, 16] </td><td>gridError=0.0385, rhythmComplexity=0.4 (numNotesAcrossSubdics=2, numTies=2), divPenalty=0.0678 (0.0001356, divPenalty=0.06, cardinalityPenalty=0.1, numSubdivsPenalty=0, levelPenalty=0)  </td></tr>\n",
       "<tr><td>0.043133 </td><td>(4, 7, 7)   </td><td>[«0.000:0.250 1/4♩ 4C», «0.250:0.429 5/28♩ 4D#», «0.429:0.619 4/21♩ 4E», «0.619:0.810 4/21♩ 4F», «0.810:1.000 4/21♩ 4F#»]  </td><td>[0, 3, 6, 10, 14] </td><td>gridError=0.043, rhythmComplexity=0.228 (numNotesAcrossSubdics=2, numTies=1), divPenalty=0.0678 (0.0001356, divPenalty=0.06, cardinalityPenalty=0.1, numSubdivsPenalty=0, levelPenalty=0) </td></tr>\n",
       "<tr><td>0.044088 </td><td>(4, 7, 9)   </td><td>[«0.000:0.250 1/4♩ 4C», «0.250:0.429 5/28♩ 4D#», «0.429:0.619 4/21♩ 4E», «0.619:0.815 0.196♩ 4F», «0.815:1.000 5/27♩ 4F#»] </td><td>[0, 3, 6, 10, 15] </td><td>gridError=0.0436, rhythmComplexity=0.583 (numNotesAcrossSubdics=2, numTies=3), divPenalty=0.0678 (0.0001356, divPenalty=0.06, cardinalityPenalty=0.1, numSubdivsPenalty=0, levelPenalty=0)</td></tr>\n",
       "<tr><td>0.050815 </td><td>(1, 4, 7, 4)</td><td>[«0.000:0.250 1/4♩ 4C», «0.250:0.438 3/16♩ 4D#», «0.438:0.607 0.170♩ 4E», «0.607:0.812 0.205♩ 4F», «0.812:1.000 3/16♩ 4F#»]</td><td>[0, 1, 4, 8, 13]  </td><td>gridError=0.0505, rhythmComplexity=0.4 (numNotesAcrossSubdics=2, numTies=2), divPenalty=0.08 (0.00016, divPenalty=0.08, cardinalityPenalty=0, numSubdivsPenalty=0, levelPenalty=0)        </td></tr>\n",
       "<tr><td>0.051184 </td><td>(1, 7, 2, 7)</td><td>[«0.000:0.250 1/4♩ 4C», «0.250:0.429 5/28♩ 4D#», «0.429:0.625 11/56♩ 4E», «0.625:0.821 11/56♩ 4F», «0.821:1.000 5/28♩ 4F#»]</td><td>[0, 1, 6, 9, 12]  </td><td>gridError=0.0505, rhythmComplexity=0.769 (numNotesAcrossSubdics=2, numTies=4), divPenalty=0.06 (0.00012, divPenalty=0.06, cardinalityPenalty=0, numSubdivsPenalty=0, levelPenalty=0)      </td></tr>\n",
       "<tr><td>0.052226 </td><td>(9, 9, 9)   </td><td>[«0.000:0.259 7/27♩ 4C», «0.259:0.444 5/27♩ 4D#», «0.444:0.630 5/27♩ 4E», «0.630:0.815 5/27♩ 4F», «0.815:1.000 5/27♩ 4F#»] </td><td>[0, 7, 12, 17, 22]</td><td>gridError=0.0516, rhythmComplexity=0.769 (numNotesAcrossSubdics=2, numTies=4), divPenalty=0.06 (0.00012, divPenalty=0.06, cardinalityPenalty=0, numSubdivsPenalty=0, levelPenalty=0)      </td></tr>\n",
       "<tr><td>0.054683 </td><td>(9, 9, 7)   </td><td>[«0.000:0.259 7/27♩ 4C», «0.259:0.444 5/27♩ 4D#», «0.444:0.630 5/27♩ 4E», «0.630:0.810 0.180♩ 4F», «0.810:1.000 4/21♩ 4F#»]</td><td>[0, 7, 12, 17, 21]</td><td>gridError=0.0543, rhythmComplexity=0.583 (numNotesAcrossSubdics=2, numTies=3), divPenalty=0.0678 (0.0001356, divPenalty=0.06, cardinalityPenalty=0.1, numSubdivsPenalty=0, levelPenalty=0)</td></tr>\n",
       "<tr><td>0.057226 </td><td>(6, 8)      </td><td>[«0.000:0.250 1/4♩ 4C», «0.250:0.417 1/6♩ 4D#», «0.417:0.625 5/24♩ 4E», «0.625:0.812 3/16♩ 4F», «0.812:1.000 3/16♩ 4F#»]   </td><td>[0, 3, 5, 8, 11]  </td><td>gridError=0.0572, rhythmComplexity=0.2 (numNotesAcrossSubdics=1, numTies=1), divPenalty=0.04 (8e-05, divPenalty=0.04, cardinalityPenalty=0, numSubdivsPenalty=0, levelPenalty=0)          </td></tr>\n",
       "<tr><td>0.057237 </td><td>(1, 3, 2, 4)</td><td>[«0.000:0.250 1/4♩ 4C», «0.250:0.417 1/6♩ 4D#», «0.417:0.625 5/24♩ 4E», «0.625:0.812 3/16♩ 4F», «0.812:1.000 3/16♩ 4F#»]   </td><td>[0, 1, 3, 5, 7]   </td><td>gridError=0.0572, rhythmComplexity=0.228 (numNotesAcrossSubdics=2, numTies=1), divPenalty=0.04 (8e-05, divPenalty=0.04, cardinalityPenalty=0, numSubdivsPenalty=0, levelPenalty=0)        </td></tr>\n",
       "<tr><td>0.057237 </td><td>(1, 4, 2, 3)</td><td>[«0.000:0.250 1/4♩ 4C», «0.250:0.438 3/16♩ 4D#», «0.438:0.625 3/16♩ 4E», «0.625:0.833 5/24♩ 4F», «0.833:1.000 1/6♩ 4F#»]   </td><td>[0, 1, 4, 6, 8]   </td><td>gridError=0.0572, rhythmComplexity=0.228 (numNotesAcrossSubdics=2, numTies=1), divPenalty=0.04 (8e-05, divPenalty=0.04, cardinalityPenalty=0, numSubdivsPenalty=0, levelPenalty=0)        </td></tr>\n",
       "<tr><td>0.057271 </td><td>(1, 4, 2, 6)</td><td>[«0.000:0.250 1/4♩ 4C», «0.250:0.438 3/16♩ 4D#», «0.438:0.625 3/16♩ 4E», «0.625:0.792 1/6♩ 4F», «0.792:1.000 5/24♩ 4F#»]   </td><td>[0, 1, 4, 6, 8]   </td><td>gridError=0.0572, rhythmComplexity=0.228 (numNotesAcrossSubdics=2, numTies=1), divPenalty=0.06 (0.00012, divPenalty=0.06, cardinalityPenalty=0, numSubdivsPenalty=0, levelPenalty=0)      </td></tr>\n",
       "<tr><td>0.058681 </td><td>(1, 5, 2, 7)</td><td>[«0.000:0.250 1/4♩ 4C», «0.250:0.450 1/5♩ 4D#», «0.450:0.625 7/40♩ 4E», «0.625:0.821 11/56♩ 4F», «0.821:1.000 5/28♩ 4F#»]  </td><td>[0, 1, 5, 7, 10]  </td><td>gridError=0.0585, rhythmComplexity=0.4 (numNotesAcrossSubdics=2, numTies=2), divPenalty=0.0678 (0.0001356, divPenalty=0.06, cardinalityPenalty=0.1, numSubdivsPenalty=0, levelPenalty=0)  </td></tr>\n",
       "<tr><td>0.058681 </td><td>(1, 7, 2, 5)</td><td>[«0.000:0.250 1/4♩ 4C», «0.250:0.429 5/28♩ 4D#», «0.429:0.625 11/56♩ 4E», «0.625:0.800 7/40♩ 4F», «0.800:1.000 1/5♩ 4F#»]  </td><td>[0, 1, 6, 9, 11]  </td><td>gridError=0.0585, rhythmComplexity=0.4 (numNotesAcrossSubdics=2, numTies=2), divPenalty=0.0678 (0.0001356, divPenalty=0.06, cardinalityPenalty=0.1, numSubdivsPenalty=0, levelPenalty=0)  </td></tr>\n",
       "</tbody>\n",
       "</table>"
      ],
      "text/plain": [
       "<IPython.core.display.HTML object>"
      ]
     },
     "metadata": {},
     "output_type": "display_data"
    },
    {
     "name": "stdout",
     "output_type": "stream",
     "text": [
      "Beat: 1 - 2 (dur: 1)\n",
      "Skipped 0 divisions with a div. penalty > 0.1\n",
      "Best 11 divisions: \n"
     ]
    },
    {
     "data": {
      "text/html": [
       "<table>\n",
       "<thead>\n",
       "<tr><th>error    </th><th>div         </th><th>makeSnappedNotation                                       </th><th>slots  </th><th>info                                                                                                                                                                              </th></tr>\n",
       "</thead>\n",
       "<tbody>\n",
       "<tr><td>0.0053104</td><td>(4, 1, 1, 1)</td><td>[«0.000:0.188 3/16♩ 4G», «0.188:1.000 13/16♩ 4C tiedNext»]</td><td>[0, 3] </td><td>gridError=0, rhythmComplexity=0.5 (numNotesAcrossSubdics=1, numTies=1), divPenalty=0.04 (8e-05, divPenalty=0.04, cardinalityPenalty=0, numSubdivsPenalty=0, levelPenalty=0)       </td></tr>\n",
       "<tr><td>0.021241 </td><td>(11,)       </td><td>[«0.000:0.182 2/11♩ 4G», «0.182:1.000 9/11♩ 4C tiedNext»] </td><td>[0, 2] </td><td>gridError=0.0202, rhythmComplexity=0.474 (numNotesAcrossSubdics=0, numTies=1), divPenalty=0.1 (0.0002, divPenalty=0.1, cardinalityPenalty=0, numSubdivsPenalty=0, levelPenalty=0) </td></tr>\n",
       "<tr><td>0.030627 </td><td>(7, 1, 1, 1)</td><td>[«0.000:0.179 5/28♩ 4G», «0.179:1.000 23/28♩ 4C tiedNext»]</td><td>[0, 5] </td><td>gridError=0.029, rhythmComplexity=0.962 (numNotesAcrossSubdics=1, numTies=2), divPenalty=0.04 (8e-05, divPenalty=0.04, cardinalityPenalty=0, numSubdivsPenalty=0, levelPenalty=0) </td></tr>\n",
       "<tr><td>0.037998 </td><td>(5,)        </td><td>[«0.000:0.200 1/5♩ 4G», «0.200:1.000 4/5♩ 4C tiedNext»]   </td><td>[0, 1] </td><td>gridError=0.038, rhythmComplexity=0 (numNotesAcrossSubdics=0, numTies=0), divPenalty=0.02 (4e-05, divPenalty=0.02, cardinalityPenalty=0, numSubdivsPenalty=0, levelPenalty=0)     </td></tr>\n",
       "<tr><td>0.038062 </td><td>(5, 1, 1, 1)</td><td>[«0.000:0.200 1/5♩ 4G», «0.200:1.000 4/5♩ 4C tiedNext»]   </td><td>[0, 4] </td><td>gridError=0.038, rhythmComplexity=0.158 (numNotesAcrossSubdics=1, numTies=0), divPenalty=0.04 (8e-05, divPenalty=0.04, cardinalityPenalty=0, numSubdivsPenalty=0, levelPenalty=0) </td></tr>\n",
       "<tr><td>0.057367 </td><td>(6,)        </td><td>[«0.000:0.167 1/6♩ 4G», «0.167:1.000 5/6♩ 4C tiedNext»]   </td><td>[0, 1] </td><td>gridError=0.0572, rhythmComplexity=0.474 (numNotesAcrossSubdics=0, numTies=1), divPenalty=0.02 (4e-05, divPenalty=0.02, cardinalityPenalty=0, numSubdivsPenalty=0, levelPenalty=0)</td></tr>\n",
       "<tr><td>0.057388 </td><td>(3, 1, 1, 1)</td><td>[«0.000:0.167 1/6♩ 4G», «0.167:1.000 5/6♩ 4C tiedNext»]   </td><td>[0, 2] </td><td>gridError=0.0572, rhythmComplexity=0.5 (numNotesAcrossSubdics=1, numTies=1), divPenalty=0.02 (4e-05, divPenalty=0.02, cardinalityPenalty=0, numSubdivsPenalty=0, levelPenalty=0)  </td></tr>\n",
       "<tr><td>0.086024 </td><td>(9,)        </td><td>[«0.000:0.222 2/9♩ 4G», «0.222:1.000 7/9♩ 4C tiedNext»]   </td><td>[0, 2] </td><td>gridError=0.086, rhythmComplexity=0 (numNotesAcrossSubdics=0, numTies=0), divPenalty=0.02 (4e-05, divPenalty=0.02, cardinalityPenalty=0, numSubdivsPenalty=0, levelPenalty=0)     </td></tr>\n",
       "<tr><td>0.10518  </td><td>(7,)        </td><td>[«0.000:0.143 1/7♩ 4G», «0.143:1.000 6/7♩ 4C tiedNext»]   </td><td>[0, 1] </td><td>gridError=0.105, rhythmComplexity=0 (numNotesAcrossSubdics=0, numTies=0), divPenalty=0.02 (4e-05, divPenalty=0.02, cardinalityPenalty=0, numSubdivsPenalty=0, levelPenalty=0)     </td></tr>\n",
       "<tr><td>0.13766  </td><td>(8,)        </td><td>[«0.000:0.125 1/8♩ 4G», «0.125:1.000 7/8♩ 4C tiedNext»]   </td><td>[0, 1] </td><td>gridError=0.138, rhythmComplexity=0 (numNotesAcrossSubdics=0, numTies=0), divPenalty=0.02 (4e-05, divPenalty=0.02, cardinalityPenalty=0, numSubdivsPenalty=0, levelPenalty=0)     </td></tr>\n",
       "<tr><td>0.13767  </td><td>(2, 1, 1, 1)</td><td>[«0.000:0.125 1/8♩ 4G», «0.125:1.000 7/8♩ 4C tiedNext»]   </td><td>[0, 1] </td><td>gridError=0.138, rhythmComplexity=0.158 (numNotesAcrossSubdics=1, numTies=0), divPenalty=0.02 (4e-05, divPenalty=0.02, cardinalityPenalty=0, numSubdivsPenalty=0, levelPenalty=0) </td></tr>\n",
       "</tbody>\n",
       "</table>"
      ],
      "text/plain": [
       "<IPython.core.display.HTML object>"
      ]
     },
     "metadata": {},
     "output_type": "display_data"
    },
    {
     "name": "stdout",
     "output_type": "stream",
     "text": [
      "Beat: 2 - 3 (dur: 1)\n",
      "Skipped 0 divisions with a div. penalty > 0.1\n",
      "Best 11 divisions: \n"
     ]
    },
    {
     "data": {
      "text/html": [
       "<table>\n",
       "<thead>\n",
       "<tr><th>error    </th><th>div         </th><th>makeSnappedNotation                                         </th><th>slots  </th><th>info                                                                                                                                                                              </th></tr>\n",
       "</thead>\n",
       "<tbody>\n",
       "<tr><td>0.0053104</td><td>(4, 1, 1, 1)</td><td>[«0.000:0.188 3/16♩ 4C tiedPrev», «0.188:1.000 13/16♩ rest»]</td><td>[0, 3] </td><td>gridError=0, rhythmComplexity=0.5 (numNotesAcrossSubdics=1, numTies=1), divPenalty=0.04 (8e-05, divPenalty=0.04, cardinalityPenalty=0, numSubdivsPenalty=0, levelPenalty=0)       </td></tr>\n",
       "<tr><td>0.017551 </td><td>(11,)       </td><td>[«0.000:0.182 2/11♩ 4C tiedPrev», «0.182:1.000 9/11♩ rest»] </td><td>[0, 2] </td><td>gridError=0.0163, rhythmComplexity=0.474 (numNotesAcrossSubdics=0, numTies=1), divPenalty=0.1 (0.0002, divPenalty=0.1, cardinalityPenalty=0, numSubdivsPenalty=0, levelPenalty=0) </td></tr>\n",
       "<tr><td>0.025357 </td><td>(7, 1, 1, 1)</td><td>[«0.000:0.179 5/28♩ 4C tiedPrev», «0.179:1.000 23/28♩ rest»]</td><td>[0, 5] </td><td>gridError=0.0234, rhythmComplexity=0.962 (numNotesAcrossSubdics=1, numTies=2), divPenalty=0.04 (8e-05, divPenalty=0.04, cardinalityPenalty=0, numSubdivsPenalty=0, levelPenalty=0)</td></tr>\n",
       "<tr><td>0.030633 </td><td>(5,)        </td><td>[«0.000:0.200 1/5♩ 4C tiedPrev», «0.200:1.000 4/5♩ rest»]   </td><td>[0, 1] </td><td>gridError=0.0306, rhythmComplexity=0 (numNotesAcrossSubdics=0, numTies=0), divPenalty=0.02 (4e-05, divPenalty=0.02, cardinalityPenalty=0, numSubdivsPenalty=0, levelPenalty=0)    </td></tr>\n",
       "<tr><td>0.030713 </td><td>(5, 1, 1, 1)</td><td>[«0.000:0.200 1/5♩ 4C tiedPrev», «0.200:1.000 4/5♩ rest»]   </td><td>[0, 4] </td><td>gridError=0.0306, rhythmComplexity=0.158 (numNotesAcrossSubdics=1, numTies=0), divPenalty=0.04 (8e-05, divPenalty=0.04, cardinalityPenalty=0, numSubdivsPenalty=0, levelPenalty=0)</td></tr>\n",
       "<tr><td>0.046329 </td><td>(6,)        </td><td>[«0.000:0.167 1/6♩ 4C tiedPrev», «0.167:1.000 5/6♩ rest»]   </td><td>[0, 1] </td><td>gridError=0.0461, rhythmComplexity=0.474 (numNotesAcrossSubdics=0, numTies=1), divPenalty=0.02 (4e-05, divPenalty=0.02, cardinalityPenalty=0, numSubdivsPenalty=0, levelPenalty=0)</td></tr>\n",
       "<tr><td>0.046356 </td><td>(3, 1, 1, 1)</td><td>[«0.000:0.167 1/6♩ 4C tiedPrev», «0.167:1.000 5/6♩ rest»]   </td><td>[0, 2] </td><td>gridError=0.0461, rhythmComplexity=0.5 (numNotesAcrossSubdics=1, numTies=1), divPenalty=0.02 (4e-05, divPenalty=0.02, cardinalityPenalty=0, numSubdivsPenalty=0, levelPenalty=0)  </td></tr>\n",
       "<tr><td>0.069342 </td><td>(9,)        </td><td>[«0.000:0.222 2/9♩ 4C tiedPrev», «0.222:1.000 7/9♩ rest»]   </td><td>[0, 2] </td><td>gridError=0.0693, rhythmComplexity=0 (numNotesAcrossSubdics=0, numTies=0), divPenalty=0.02 (4e-05, divPenalty=0.02, cardinalityPenalty=0, numSubdivsPenalty=0, levelPenalty=0)    </td></tr>\n",
       "<tr><td>0.084782 </td><td>(7,)        </td><td>[«0.000:0.143 1/7♩ 4C tiedPrev», «0.143:1.000 6/7♩ rest»]   </td><td>[0, 1] </td><td>gridError=0.0848, rhythmComplexity=0 (numNotesAcrossSubdics=0, numTies=0), divPenalty=0.02 (4e-05, divPenalty=0.02, cardinalityPenalty=0, numSubdivsPenalty=0, levelPenalty=0)    </td></tr>\n",
       "<tr><td>0.11097  </td><td>(8,)        </td><td>[«0.000:0.125 1/8♩ 4C tiedPrev», «0.125:1.000 7/8♩ rest»]   </td><td>[0, 1] </td><td>gridError=0.111, rhythmComplexity=0 (numNotesAcrossSubdics=0, numTies=0), divPenalty=0.02 (4e-05, divPenalty=0.02, cardinalityPenalty=0, numSubdivsPenalty=0, levelPenalty=0)     </td></tr>\n",
       "<tr><td>0.11098  </td><td>(2, 1, 1, 1)</td><td>[«0.000:0.125 1/8♩ 4C tiedPrev», «0.125:1.000 7/8♩ rest»]   </td><td>[0, 1] </td><td>gridError=0.111, rhythmComplexity=0.158 (numNotesAcrossSubdics=1, numTies=0), divPenalty=0.02 (4e-05, divPenalty=0.02, cardinalityPenalty=0, numSubdivsPenalty=0, levelPenalty=0) </td></tr>\n",
       "</tbody>\n",
       "</table>"
      ],
      "text/plain": [
       "<IPython.core.display.HTML object>"
      ]
     },
     "metadata": {},
     "output_type": "display_data"
    },
    {
     "name": "stderr",
     "output_type": "stream",
     "text": [
      "DEBUG:maelzel.scoring:Nodes can merge: \n",
      "    Node(1/1, \n",
      "  «0.000:0.250 1/4♩ 4C»\n",
      "  «0.250:0.438 3/16♩ 4D#»\n",
      "  «0.438:0.625 3/16♩ 4E»\n",
      "  «0.625:0.812 3/16♩ 4F»\n",
      "  «0.812:1.000 3/16♩ 4F#»\n",
      ")\n",
      "    Node(1/1, \n",
      "  «1.000:1.188 3/16♩ 4G»\n",
      "  «1.188:1.250 1/16♩ 4C tiedNext»\n",
      "  «1.250:2.000 3/4♩ 4C tiedPrev tiedNext»\n",
      ")\n",
      "DEBUG:maelzel.scoring:Nodes can merge: \n",
      "    Node(1/1, \n",
      "  «0.000:0.250 1/4♩ 4C»\n",
      "  «0.250:0.438 3/16♩ 4D#»\n",
      "  «0.438:0.625 3/16♩ 4E»\n",
      "  «0.625:0.812 3/16♩ 4F»\n",
      "  «0.812:1.000 3/16♩ 4F#»\n",
      "  «1.000:1.188 3/16♩ 4G»\n",
      "  «1.188:1.250 1/16♩ 4C tiedNext»\n",
      "  «1.250:2.000 3/4♩ 4C tiedPrev tiedNext»\n",
      ")\n",
      "    Node(1/1, \n",
      "  «2.000:2.188 3/16♩ 4C tiedPrev»\n",
      "  «2.188:2.250 1/16♩ rest»\n",
      "  «2.250:3.000 3/4♩ rest»\n",
      ")\n",
      "DEBUG:maelzel.scoring:Nodes can merge: \n",
      "    Node(1/1, \n",
      "  «0.000:0.250 1/4♩ 4C»\n",
      "  «0.250:0.438 3/16♩ 4D#»\n",
      "  «0.438:0.625 3/16♩ 4E»\n",
      "  «0.625:0.812 3/16♩ 4F»\n",
      "  «0.812:1.000 3/16♩ 4F#»\n",
      "  «1.000:1.188 3/16♩ 4G»\n",
      "  «1.188:1.250 1/16♩ 4C tiedNext»\n",
      "  «1.250:2.000 3/4♩ 4C tiedPrev tiedNext»\n",
      "  «2.000:2.188 3/16♩ 4C tiedPrev»\n",
      "  «2.188:2.250 1/16♩ rest»\n",
      "  «2.250:3.000 3/4♩ rest»\n",
      ")\n",
      "    Node(1/1, \n",
      "  «3.000:4.000 1/1♩ rest»\n",
      ")\n",
      "DEBUG:maelzel.scoring:This Node (offset: 0, end: 4) does not contain offset 0\n",
      "DEBUG:maelzel.scoring:Rendering lilypond '/tmp/tmps25z1eu7.ly' to '/tmp/tmps25z1eu7.png'\n",
      "DEBUG:maelzel:Rendering lilypond '/tmp/tmps25z1eu7.ly' to '/tmp/tmps25z1eu7.png'\n",
      "DEBUG:maelzel:findLilypond: searching via shutil.which\n",
      "DEBUG:maelzel:... found! lilypond path: /home/em/.local/bin/lilypond\n",
      "DEBUG:maelzel:Calling lilypond subprocess: ['/home/em/.local/bin/lilypond', '--png', '-o', '/tmp/tmps25z1eu7', '-dresolution=200', '/tmp/tmps25z1eu7.ly']\n",
      "DEBUG:maelzel:lilypond executed OK\n",
      "DEBUG:maelzel:stderr: \n",
      "DEBUG:maelzel: Changing working directory to: `/tmp'\n",
      " Processing `/tmp/tmps25z1eu7.ly'\n",
      " Parsing...\n",
      " Interpreting music...\n",
      " Preprocessing graphical objects...\n",
      " Finding the ideal number of pages...\n",
      " Fitting music on 1 page...\n",
      " Drawing systems...\n",
      " Converting to PNG...\n",
      " Layout output to `tmps25z1eu7.cropped.eps'...\n",
      " Converting to PNG...\n",
      " Success: compilation successfully completed\n",
      "\n",
      "DEBUG:maelzel.scoring:Found crop file /tmp/tmps25z1eu7.cropped.png, using that as output\n",
      "DEBUG:PIL.PngImagePlugin:STREAM b'IHDR' 16 13\n",
      "DEBUG:PIL.PngImagePlugin:STREAM b'iCCP' 41 2354\n",
      "DEBUG:PIL.PngImagePlugin:iCCP profile name b'default_rgb.icc'\n",
      "DEBUG:PIL.PngImagePlugin:Compression method 0\n",
      "DEBUG:PIL.PngImagePlugin:STREAM b'pHYs' 2407 9\n",
      "DEBUG:PIL.PngImagePlugin:STREAM b'tEXt' 2428 31\n",
      "DEBUG:PIL.PngImagePlugin:STREAM b'IDAT' 2471 8192\n"
     ]
    },
    {
     "data": {
      "text/html": [
       "<b>LilypondRenderer</b> (1 part)<br>\n",
       "        <img style=\"display:inline; padding:10px;\n",
       "margin-top:14px;\n",
       "width:1017.0\"\n",
       "             src=\"data:image/png;base64,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\"/>"
      ],
      "text/plain": [
       "<maelzel.scoring.renderlily.LilypondRenderer at 0x7f88191a2520>"
      ]
     },
     "execution_count": 8,
     "metadata": {},
     "output_type": "execute_result"
    }
   ],
   "source": [
    "from maelzel import scoring\n",
    "from maelzel.scorestruct import ScoreStruct\n",
    "from maelzel.common import F\n",
    "\n",
    "notes = [\n",
    "    (60, F(1, 4)),\n",
    "    (63, F(1, 4)*F(3, 4)),\n",
    "    (64, F(1, 4)*F(3, 4)),\n",
    "    (65, F(1, 4)*F(3, 4)),\n",
    "    (66, F(1, 4)*F(3, 4)),\n",
    "    (67, F(1, 4)*F(3, 4)),\n",
    "    (60, F(1)),\n",
    "    \n",
    "]\n",
    "\n",
    "notations = [scoring.makeNote(p, d) for p, d in notes]\n",
    "struct = ScoreStruct(timesig='4/4', tempo=70)\n",
    "\n",
    "part = scoring.Part(notations)\n",
    "quantprofile = scoring.quant.QuantizationProfile.fromPreset('highest', debug=True, debugMaxDivisions=20, maxDivPenalty=0.1)\n",
    "quantprofile.maxGridDensity = 32\n",
    "qpart = scoring.quant.quantizePart(part, struct=struct, quantprofile=quantprofile)\n",
    "options = scoring.render.RenderOptions()\n",
    "score = scoring.quant.QuantizedScore([qpart])\n",
    "r = scoring.render.renderQuantizedScore(score, options)\n",
    "r"
   ]
  },
  {
   "cell_type": "code",
   "execution_count": 10,
   "id": "53f406f0-8d55-4f2e-8663-60c935e3e4ad",
   "metadata": {},
   "outputs": [
    {
     "name": "stderr",
     "output_type": "stream",
     "text": [
      "DEBUG:maelzel.scoring:Nodes can merge: \n",
      "    Node(1/1, \n",
      "  «0.000:0.250 1/4♩ 4C tiedNext spanners=[Slur(kind=start, uuid=4pff36ua)]»\n",
      "  «0.250:0.750 1/2♩ 4C gliss»\n",
      "  «0.750:1.000 1/4♩ 4F spanners=[Slur(kind=end, uuid=4pff36ua)]»\n",
      ")\n",
      "    Node(1/1, \n",
      "  «1.000:2.000 1/1♩ rest»\n",
      ")\n",
      "DEBUG:maelzel.scoring:Nodes can merge: \n",
      "    Node(1/1, \n",
      "  «0.000:0.250 1/4♩ 4C tiedNext spanners=[Slur(kind=start, uuid=4pff36ua)]»\n",
      "  «0.250:0.750 1/2♩ 4C gliss»\n",
      "  «0.750:1.000 1/4♩ 4F spanners=[Slur(kind=end, uuid=4pff36ua)]»\n",
      "  «1.000:2.000 1/1♩ rest»\n",
      ")\n",
      "    Node(1/1, \n",
      "  «2.000:3.000 1/1♩ rest»\n",
      ")\n",
      "DEBUG:maelzel.scoring:Nodes can merge: \n",
      "    Node(1/1, \n",
      "  «0.000:0.250 1/4♩ 4C tiedNext spanners=[Slur(kind=start, uuid=4pff36ua)]»\n",
      "  «0.250:0.750 1/2♩ 4C gliss»\n",
      "  «0.750:1.000 1/4♩ 4F spanners=[Slur(kind=end, uuid=4pff36ua)]»\n",
      "  «1.000:3.000 2/1♩ rest»\n",
      ")\n",
      "    Node(1/1, \n",
      "  «3.000:4.000 1/1♩ rest»\n",
      ")\n",
      "DEBUG:maelzel.scoring:This Node (offset: 0, end: 4) does not contain offset 0\n",
      "DEBUG:maelzel.scoring:Rendering lilypond '/tmp/tmp7msjbgx0.ly' to '/tmp/tmp7msjbgx0.png'\n",
      "DEBUG:maelzel:Rendering lilypond '/tmp/tmp7msjbgx0.ly' to '/tmp/tmp7msjbgx0.png'\n",
      "DEBUG:maelzel:findLilypond: searching via shutil.which\n",
      "DEBUG:maelzel:... found! lilypond path: /home/em/.local/bin/lilypond\n",
      "DEBUG:maelzel:Calling lilypond subprocess: ['/home/em/.local/bin/lilypond', '--png', '-o', '/tmp/tmp7msjbgx0', '-dresolution=200', '/tmp/tmp7msjbgx0.ly']\n"
     ]
    },
    {
     "name": "stdout",
     "output_type": "stream",
     "text": [
      "Part #0:\n",
      "  Measure #0\n",
      "    Timesig: 4/4 (quarter=70)\n",
      "    Node ratio: 1/1, offset=0, end=4\n",
      "      Node ratio: 1/1, offset=0, end=4\n",
      "        «0.000:0.250 1/4♩ 4C tiedNext spanners=[Slur(kind=start, uuid=4pff36ua)]»\n",
      "        «0.250:0.750 1/2♩ 4C gliss»\n",
      "        «0.750:1.000 1/4♩ 4F spanners=[Slur(kind=end, uuid=4pff36ua)]»\n",
      "        «1.000:4.000 3/1♩ rest»\n"
     ]
    },
    {
     "name": "stderr",
     "output_type": "stream",
     "text": [
      "DEBUG:maelzel:lilypond executed OK\n",
      "DEBUG:maelzel:stderr: \n",
      "DEBUG:maelzel: Changing working directory to: `/tmp'\n",
      " Processing `/tmp/tmp7msjbgx0.ly'\n",
      " Parsing...\n",
      " Interpreting music...\n",
      " Preprocessing graphical objects...\n",
      " Finding the ideal number of pages...\n",
      " Fitting music on 1 page...\n",
      " Drawing systems...\n",
      " Converting to PNG...\n",
      " Layout output to `tmp7msjbgx0.cropped.eps'...\n",
      " Converting to PNG...\n",
      " Success: compilation successfully completed\n",
      "\n",
      "DEBUG:maelzel.scoring:Found crop file /tmp/tmp7msjbgx0.cropped.png, using that as output\n",
      "DEBUG:PIL.PngImagePlugin:STREAM b'IHDR' 16 13\n",
      "DEBUG:PIL.PngImagePlugin:STREAM b'iCCP' 41 2354\n",
      "DEBUG:PIL.PngImagePlugin:iCCP profile name b'default_rgb.icc'\n",
      "DEBUG:PIL.PngImagePlugin:Compression method 0\n",
      "DEBUG:PIL.PngImagePlugin:STREAM b'pHYs' 2407 9\n",
      "DEBUG:PIL.PngImagePlugin:STREAM b'tEXt' 2428 31\n",
      "DEBUG:PIL.PngImagePlugin:STREAM b'IDAT' 2471 6354\n"
     ]
    },
    {
     "data": {
      "text/html": [
       "<b>LilypondRenderer</b> (1 part)<br>\n",
       "        <img style=\"display:inline; padding:10px;\n",
       "margin-top:14px;\n",
       "width:469.0\"\n",
       "             src=\"data:image/png;base64,iVBORw0KGgoAAAANSUhEUgAAAdUAAACDCAIAAABUexb+AAAJLmlDQ1BJQ0MgUHJvZmlsZQAAeJyVlWdQk1kXx+/zPOmFQBJCh1BDkSolgJQQWijSq6hA6J1QRWyIuAIriog0RZBFARdclSJrRRQLi4ICFnSDLALKunEVUUFZcN8ZnfcdP7z/mXvPb/5z5t5zz/lwASCIg2XBy3tiUrrA28mOGRgUzATfKIyflsLx9HQD39W7EQCtxHu638/5rggRkWn85bi4vHL5KYJ0AKDsZdbMSk9Z4aPLTA+P/8JnV1iwXOAy31jh6H957EvOvyz6kuPrzV1+FQoAHCn6Gw7/hv9z74pUOIL02KjIbKZPclR6Vpggkpm20gkel8v0FCRHxSZEflPw/5X8HaVHZqevRG5yyiZBbHRMOvN/DjUyMDQEX2fxxutLjyFG/3/PZ0VfveR6ANhzACD7vnrhlQB07gJA+tFXT225r5R8ADru8DMEmf96qJUNDQiAAuhABigCVaAJdIERMAOWwBY4ABfgAXxBENgA+CAGJAIByAK5YAcoAEVgHzgIqkAtaABNoBWcBp3gPLgCroPb4C4YBo+BEEyCl0AE3oEFCIKwEBmiQTKQEqQO6UBGEBuyhhwgN8gbCoJCoWgoCcqAcqGdUBFUClVBdVAT9At0DroC3YQGoYfQODQD/Q19hBGYBNNhBVgD1ofZMAd2hX3h9XA0nArnwPnwXrgCrodPwh3wFfg2PAwL4ZfwHAIQIsJAlBFdhI1wEQ8kGIlCBMhWpBApR+qRVqQb6UPuIUJkFvmAwqBoKCZKF2WJckb5ofioVNRWVDGqCnUC1YHqRd1DjaNEqM9oMloerYO2QPPQgehodBa6AF2ObkS3o6+hh9GT6HcYDIaBYWHMMM6YIEwcZjOmGHMY04a5jBnETGDmsFisDFYHa4X1wIZh07EF2ErsSewl7BB2EvseR8Qp4YxwjrhgXBIuD1eOa8ZdxA3hpnALeHG8Ot4C74GPwG/Cl+Ab8N34O/hJ/AJBgsAiWBF8CXGEHYQKQivhGmGM8IZIJKoQzYlexFjidmIF8RTxBnGc+IFEJWmTuKQQUgZpL+k46TLpIekNmUzWINuSg8np5L3kJvJV8lPyezGamJ4YTyxCbJtYtViH2JDYKwqeok7hUDZQcijllDOUO5RZcby4hjhXPEx8q3i1+DnxUfE5CZqEoYSHRKJEsUSzxE2JaSqWqkF1oEZQ86nHqFepEzSEpkrj0vi0nbQG2jXaJB1DZ9F59Dh6Ef1n+gBdJEmVNJb0l8yWrJa8IClkIAwNBo+RwChhnGaMMD5KKUhxpCKl9ki1Sg1JzUvLSdtKR0oXSrdJD0t/lGHKOMjEy+yX6ZR5IouS1Zb1ks2SPSJ7TXZWji5nKceXK5Q7LfdIHpbXlveW3yx/TL5ffk5BUcFJIUWhUuGqwqwiQ9FWMU6xTPGi4owSTclaKVapTOmS0gumJJPDTGBWMHuZImV5ZWflDOU65QHlBRWWip9KnkqbyhNVgipbNUq1TLVHVaSmpOaulqvWovZIHa/OVo9RP6Tepz6vwdII0Nit0akxzZJm8Vg5rBbWmCZZ00YzVbNe874WRoutFa91WOuuNqxtoh2jXa19RwfWMdWJ1TmsM7gKvcp8VdKq+lWjuiRdjm6mbovuuB5Dz00vT69T75W+mn6w/n79Pv3PBiYGCQYNBo8NqYYuhnmG3YZ/G2kb8Y2qje6vJq92XL1tddfq18Y6xpHGR4wfmNBM3E12m/SYfDI1MxWYtprOmKmZhZrVmI2y6WxPdjH7hjna3M58m/l58w8WphbpFqct/rLUtYy3bLacXsNaE7mmYc2ElYpVmFWdldCaaR1qfdRaaKNsE2ZTb/PMVtU2wrbRdoqjxYnjnOS8sjOwE9i1281zLbhbuJftEXsn+0L7AQeqg59DlcNTRxXHaMcWR5GTidNmp8vOaGdX5/3OozwFHp/XxBO5mLlscel1Jbn6uFa5PnPTdhO4dbvD7i7uB9zH1qqvTVrb6QE8eB4HPJ54sjxTPX/1wnh5elV7Pfc29M717vOh+Wz0afZ552vnW+L72E/TL8Ovx5/iH+Lf5D8fYB9QGiAM1A/cEng7SDYoNqgrGBvsH9wYPLfOYd3BdZMhJiEFISPrWeuz19/cILshYcOFjZSNYRvPhKJDA0KbQxfDPMLqw+bCeeE14SI+l3+I/zLCNqIsYibSKrI0cirKKqo0ajraKvpA9EyMTUx5zGwsN7Yq9nWcc1xt3Hy8R/zx+KWEgIS2RFxiaOK5JGpSfFJvsmJydvJgik5KQYow1SL1YKpI4CpoTIPS1qd1pdOXP8X+DM2MXRnjmdaZ1Znvs/yzzmRLZCdl92/S3rRn01SOY85Pm1Gb+Zt7cpVzd+SOb+FsqdsKbQ3f2rNNdVv+tsntTttP7CDsiN/xW55BXmne250BO7vzFfK350/sctrVUiBWICgY3W25u/YH1A+xPwzsWb2ncs/nwojCW0UGReVFi8X84ls/Gv5Y8ePS3qi9AyWmJUf2YfYl7RvZb7P/RKlEaU7pxAH3Ax1lzLLCsrcHNx68WW5cXnuIcCjjkLDCraKrUq1yX+ViVUzVcLVddVuNfM2emvnDEYeHjtgeaa1VqC2q/Xg09uiDOqe6jnqN+vJjmGOZx543+Df0/cT+qalRtrGo8dPxpOPCE94nepvMmpqa5ZtLWuCWjJaZkyEn7/5s/3NXq25rXRujregUOJVx6sUvob+MnHY93XOGfab1rPrZmnZae2EH1LGpQ9QZ0ynsCuoaPOdyrqfbsrv9V71fj59XPl99QfJCyUXCxfyLS5dyLs1dTrk8eyX6ykTPxp7HVwOv3u/16h245nrtxnXH61f7OH2XbljdOH/T4ua5W+xbnbdNb3f0m/S3/2byW/uA6UDHHbM7XXfN73YPrhm8OGQzdOWe/b3r93n3bw+vHR4c8Rt5MBoyKnwQ8WD6YcLD148yHy083j6GHit8Iv6k/Kn80/rftX5vE5oKL4zbj/c/83n2eII/8fKPtD8WJ/Ofk5+XTylNNU0bTZ+fcZy5+2Ldi8mXKS8XZgv+lPiz5pXmq7N/2f7VLwoUTb4WvF76u/iNzJvjb43f9sx5zj19l/huYb7wvcz7Ex/YH/o+BnycWshaxC5WfNL61P3Z9fPYUuLS0j9CLJC+ERlPpwAAGNJJREFUeJzt3W9sG2cdB/AnU0ccrSl2ImUpEwTboRvdKs1nU6Aj4o/taQgqhLBTJFi0N7ZfMSSQ7AhN2gskZEdIqBKasI0Qg1f4IoZgmxC+bNOWSVvnSyt1g67Ul3batLSCOy8ZJCiVzItHPDruzs7ZvvOdL9/Pi8o5O77nXOfnx7/n9zzPWLvdJp7z85///Kc//ekLL7wQCoWcbgsAgLE7nG6ALV555ZUbN25IkuR0QwAAOvJm/AUAcD/EXwAAZyD+AgA4A/EXAMAZiL8AAM5A/AUAcAbiLwCAMxB/AQCcgfgLAOAMxF8AAGcg/gIAOAPxFwDAGYi/AADOQPwFAHAG4i8AgDMQfwEAnIH4CwDgjCNON2CEJRKJtbW1YDBouMuRJEmaDTgkSSoUCoIgtFotjuNyuVw2mx1WYwHAdRB/+yeKIiFkc3Nzc3NTf28qlVL/yPN8NpsNhUKCIAQCgWKxmMvlGo1GpVIZUnMBwGUQf/tHu7GJREJ/18rKSi6XYz9KkpTNZgOBAA2+hJBKpSJJUrVaDYfDhUJheI0GANdA/O0T7fwuLy+n02nNXYVCIR6Pq+NysVhstVrLy8s0+FK5XG5tba1YLNLQPJxmA4B7YPytT4qiEEL0nV9FUSqViqbzW61W9Q+mgbvVavE8b3tzAcB9EH/7JIoix3H6fmuxWAwEAupOMQuv0WhU82CO4wgh9XrdzpYCgEsh/9CndDrdqfNbKpXUBxuNRqcnoeFbEAQ7WggALmdx/BUEoV6vawKQ3SRJ4nm+0WjQnEAymfzwww/tPqlhzVmxWCT/SywwtFVdtFot69oFAKOjbZ1yuUyfM5PJWPi0XTSbzUwmo7+oO++8kxBSr9cNfysej5t5ZTr9eieyLPv9fv21d3mpWUuazWZP5wIAD7As/6sedKpWq0MYU+J5PhqN0qEtjf39fULIzs6O3W1Qo0UOyWSyj9/VzNQAgEPBkijOer6M3++XZdmSJzd5Rr3vfe979jVAg3Z+DV/PYDDY6aVm/V9bXysAcCcL+r90Wq3mYKvVoslQOxieUW9iYsKmBuhVKpVWq2WY2TDMFGug/hfgELIg/mazWcMRpEqlcuDQU3/oN/0DHxYOh+04uyHaH9dXmHU6qEar0ADgsBk0/gqCsLa2ZniXfV1gkwVb+plpVCKRGDPBfFmYKIqGS0BQsViM3tAneelLZziDGQA8b9D42ynC0qSnTYvLdAl2TD6fH9qX+u6ROp1O01dD8zAWjhcXF+1rGwC41kD1v5Ik6Tu/fr+/VCrRNQ1arValUrF8lUW/3989/8BxXJca5FKpZCYxcmDegOkyw4JaXl7O5XK1Wk39UtCURSqVMn8iAPCUQQbv9J1fjuNYKSutzE2lUlaME/6ffD7f5YpSqdSQywnYsFs+n+/0GPpqsAfQ4MtxHCofAA6tgeKvZrhfE01YlLQ8xMiybFhpEAwGa7Watecyg11po9E48GEcx9EBt3g8juALcJiNtVUTtHpFMwz0tt/vlyRJnXIVBIFORqjVap2GwgbB83y9XqdZ1Gg0GovF7DiLSXRh3wMzCZIkiaKoKEoikTBTlwYAHjZQ/B0bG2O39UGWxd98Pj/kFSEAANzPmvnH8Xi8S9+TLlUOAABq1sTf5eVl/UFWY9CpQBgA4DCzIP4Gg0HDGQTqqiybJsIBAIwuC+Jvp+lb6piLFAQAgIYF8bfTNDNs6wAA0IUF8ddwxVvNkghY3wsAQMOu/TdrtZr6R0yxBQDQOEIIURSlv/zs7Ozs1tbWxsaG/q6nnnpK/TDkIsBLrl69evz48cnJSacbAiMsFAqRdrudSqWcbgkAwOEyPj4+1m63RVHUpAtMeumlly5cuHD69OkvfelL7ODe3t7TTz/9wQcfsCMPP/zwgw8+OHBruymXyx988MFHP/pRugkQIWRra+s///nPvffe+41vfMPWU4PL7e3tbW1t0ds3b97c3d2lt999993bt28TQhRFoRsG9kTztgegaFQkhLBlYa5fv94pwA40/7hUKi0vL8fjcXV6oVAorKyssB/160LYQT0TmuE4ji7LYOupwSl0JQ1CiCRJzWaTHnzttdfovqvvv/8+C7t2yGazZjYhhMOGBUAWWtlKDHoDrf9LK3/V09tEUVQHX0JIOp12JAL6/X4E31EkSRJbmb5er7ODNMLu7Oxcu3bNscapXLp0yekmwMgbKP5Go1G6FLogCDQW65daN5yabC39vj4Ivm6jHuMVRVGWZXrw0qVLNAlw8eJFJ9sH4ISB4i8hJJFIrK6u1uv1RCJRKBQ0tRD5fH4Iqyzqizd4no9Go6VSSZZlLL1mK5Z6MkwCXL169V//+pdjjbPB/Px8u91uNpvHjx93ui0w8gaNv8lkcnV1lef5WCymyTz4/f4hdH6JbvufcrmcSCQURSkWi6g77g9LrSqKwl5eFyYBrDI7O0vj6eTk5Oc+9zl6MBwO096DZmVnms679957HWkqeMmg8TedTudyuc3NTX3moVKpDCcDoB79y+fztCUm96g/VNRJAJZa9XAS4K677jpx4gQhZGJi4gtf+AI9ODU1xYIpdp4GZw0afwOBQCqVWl1d1QS7VCo1nN0oJEliSY9MJkOzDZVKRdMZ9zbDJMD6+jqttfJeEiASiRBCjhw58uCDD7LPeDbEHAqFsLcIjIRB46+iKPrhr2AwaNPO83qsBigej9OTagrgRpdhEmBo9VXDx5IA7Is/ISQWi9EIa2Z7JzvovzRcv36dEPL2228PvzHgMYPGX/2YGyGE5/nhZB4URaExl+M4nucJIdFo1HA+tHsY1lexJID3UquGSQB1hHVVEkCSpG9/+9tm/iPef//9obUKvMqC+W+ag0OY7aZpwPj4eC6X8/l8hBBNz3dubu7cuXPDaYzG66+/vru7yyZZ3bp1y5Fm2GdmZoYQcscdd9x9993j4+OEkImJibvvvpveOzs7S/9HRkuXqUoax48ff/TRR+1uD4ycnua/kbZq+3QAABiaPucfd5pR12w2hzb0kc1mq9WqZt9lzURkzdzoYTKcEu2UnuqruhgbG4tEIi7P8Ayiy1RRjdOnT7/++ut2twdGju3zj0VR7FTbIAiCvhDNDjzPV6vVcrk8nCoL16KVAJ3qq6LRKCYBArhWz/FXUZRsNqupNvP7/dlsdmVlpV6vDyH+SpKUzWZZqa/3zM/PT05Oor5q+DQfV/qPt1gstrm5WSgU2NeIQ4Ln+UajEQ6HvfpH54ie46++4IEutkAIWVlZWV1dtaxpnaXT6VAolEwmD8wtKIrCHuNUARNjmARwvL4K1KLR6IE5NPqOGpXRRVbFaJ7+a5O6prPZbGJOv2XavTBccK9Wq9F7g8Gg+kf70BP1yu/3290wNXrSer0+zJPajRASiUScboXDaNVgPp93uiGm9PGXor80tqw25ciFjApWzsCOsDJTvR76v5IkFQoFzcFiscgysIlEolqtNhoNu3OykiR16vlq8twcx7HPake+s7uquBUAXKWH+FsoFPSTjNUROZlMVqvV4dQbGMY1w13sEAEBBkRHd+htlKtayGz8FQRBk9vlOE4zyZhGuo2NDUVRHBl21xc5b2xsSJLk4GgV/TQyXJaBLnYzOTm5vb3tVPMAzCiVSrFYDONvljMbf80sbxYIBDiO29jY4Hl++P9JoigaLjqRzWYd3H35wGJSupgDgMul0+lDXutphzvMPEgQhM3NTfWRfD5vOFhPu8D1el0QBEEQ9Evz2EEQhFKplEgkDBecXFtbi0ajPM8PpzEAAGa1Mf8YAMAJRwgh4XA4Ho93esT+/v7LL7+sPhKJRKamptiP29vbV65cOfB79Nzc3Nzc3J133jlYg429+uqre3t7Pp9vYmKCHtnZ2bl9+/bMzMypU6fsOOOB1NuSdtflxXebtbW1o0ePfvazn3W6IU6SZfnixYtzc3Pz8/NOtwVc59q1azdu3CCqv2v6hjF+9IHlbJqa33g8rr630WhoagO74DhOlmXLC+7aHYoc7Ttd303SmJ+fX1pacqqFfSCo/x21+l8YMovrf9nAPaXe0k2SpE5ZV0MbGxuJRGI4OxO7ZAvkVCrFqi/YWBxK4gCAmIm/6qJajuPUsUO/EMSBNjY20um0tQUJbt5/nq4KDwCgZ6r+gVlcXGS3BUHQpDgzmUytVmOd7Xq9XiwW9XOF19bWrN2dqMv+8/oJewAALnFw/FUHWXXnVz3ZgeO4RqNRqVTS6bT6MYVCQZKkcrmsyREXi8VBGq3RZf95wxlxAABucHD8ZaHT7/era35ZDoF+2VffRQf+WOyjMyDUIXhzc9PCLjD2nweAUXRw/FUv5q0+zmZklEolTaaVPlI9cBeNRjUhuMuYYE+w/zwAjKje8r+G9LMSw+Ew0Q2LRaNR9aRkq4bgDPefz+Vyljw5AIB9+u//ss6svsyAPlI/AWF5eZn9liXJAcP959HzBYCRcIQQoihKl3Gqj3zkI/TGm2++qe60BoNBOqnjmWeemZycNPzdp5566sSJE+ojZ86cef755+ntlZUVjuMGaX21Wm21WkePHn3iiSfoJWj25pBl2cHFd4h13Xz32N7e9t5FdbGzs/P3v/9dFMVjx4596lOfoitMEUKuX79+qF4HMOn69ev0Bnt7dNuvtt1uZzIZ+1sFAAD/Z6zdbnfv/xJCfvzjH7/88stHjx595pln2MGdnZ2lpaUPP/xwdnb2t7/9reZXfvaznz3//POLi4ua4L6xscFqcgccgqOneOKJJ774xS+yg5r1HiORiFPpCNoSq4YZXSKZTIbD4V/84hdON8ReV69e/eUvf9lxzj4hhBD9exuAEFKtVmltLvvbVwc9LTMzmlmpr2ZvN1bGm8lkDCdBp1KpTk8VDAb7mFuteZ5yuaw5rrk6zWoVw2T+5R0h5BCs/1Cv180saYL1H8BQT+s/mKp/SKfTdBqbZi2eQqFAuwDVajWdTqu3WY3FYoQQ/carbK7EIGsgeH7/eXCKKIrJZNLM4PDe3p79zQGPM7v/RaVSSSaTa2trPM+rC87oLhh053lRFFnNGV10Rl8CwXLS6qnMvRrR/efB5RRFMb/Fw1e+8hVbGwOHgvl+dSqVIoT4/f5Go6G5q1arBYNBjuPUB+nzq1eAZP3wAdMCI7T//DDPOATE0/kH89Pih/xeghFi1/7zlUqFTjaja0iq+5KGe0MFg8HNzU1RFFmqgSWh2Z7w/Rmh/efBtfS7xOr3b+0EO6GBJXqIv4FAoFKp0AV/E4kEz/Pdc7ihUGhzc5NlJLLZLK2DKxaLg+cBsP889EEURVEUG40G3dKwWCyqB6a71Wmq+P1+9SrYAH3rbf4xXcYhGAy2Wq1kMpnNZrtsakn7m81mky7TXq1WCSGZTMa+NSE77T9v0+lgJIiiWCqV0ul0IBCIxWK5XK5arYZCob7Hb0ulEr5LgTX6SHDIsqzesowu+6vf6YfmQdS5Wn25mIU67YTkVAla3y+vm5ERyf/W6/V8Ph+Px9VviXg8ns/n6/V6p9+iIxzd2foeBg/oKf/bf4Aol8v6cbB4PK5507Pj+lE7q9CF3rvUbHIcV6vVms2mTQ0whPg7TLIss5jL/t/9fn8qlSoWiybfe5qFpDWCwWCX2A1A9RR/x9rtdqVSMT/yoHHz5s1bt27Jsnz79m3DB/h8vlOnTh07dqy/5z/Q9vb2G2+8QQiZnJw8cuSI5kT7+/u7u7u7u7t7e3uBQGDA5SZ6QmvvRmhvYzNctf/x/v6+LMs7Ozv0X3rQ5/NNTU1NTExMTU318a7b3t6+fPmyprbX5/Pdc88999xzj027d4OX9Lz/MQvYAAAwHPPz82Ntczul90EQBFoNZt8p3GxsbIx47trHxsYikYjJOgGraIoW6EG6FWwsFkskEm7YaBWgDz3UnwEMjSiKgiDQmMtmA8fj8XQ6jZgLntFP/GXrpYVCIRTigFUEQajX67S3q4650Wg0mUyijhu8p7f4qyhKoVCglbxUKpWiS0BY3TDwPvpBTmMuWyrE7/ezxALW6wBv6yH+KoqSSCQ0ub/V1VVCCN375zBjoWRqaioajXqjs2bHRdEVkWhigb2XgsFgJpMJh8OIuXC4mK9r67LatGF9Jat6G6yczu3K5bK+rI1VRjvduj51uag+6n+bzWa5XM5kMurnpDG3XC4PuS67V3TNVVT+gh16CBBdJjgYrkVNa4o1i6J5SaPROLC81+k29uzAizK5cH6j0aAxVz1Jh+O4fD5vOFvSnR5//HFCyNLSktMNAW/qIf/QZVFq/Trr5H9LrXs1NSwIQjqdtmQXZ/cwc1Hvvvtup7u8VLQgiuJ3v/vdK1euPP744+fPn3e6OeBN1tSfhcNh/UG6RKQn03l0lwQzj9QvcuhaJi9qf39ffVGKohSLRY8VLZRKpeXlZZ/PV6vVsNQk2KeH+RfRaLRT4X2z2dQUokmSRINyo9HwQAguFApsccv9/f0LFy6Y3H7mzJkzExMTgUBgeXnZba/D4BdVqVR4ns/lcp4pWqhUKk8++eTW1tZ999333HPPobwS7GU+VdFpmrLhilB0sM7B7S8t1H1ZFpP0W5E6y5KNmelFuXwAzaR6vX7mzBlCyPj4OPbWhOHoIf42m032h0fXOctkMt0rH7wxaizLcn87HqkVi0Wnr+P/yLJsZpff7jT7YY8oFnkJIefOnRuVsUHwgN4G6FkXWL/hPMPW4e3ymJFmMjb5/f4R6hh68qIOVK/XH3nkEXppkUjEviVSAQz1XCDFSjhTqZT+T5Gtw8txnFf7ESZD1Wgt1O3Ji+pEluVyuTw7O0svamZmxhsdeRg5PcdfWZbV2wTQPQXy+by60jMej3s1+LY9ukuCJy9Kr9FoZDKZiYkJekXz8/MeuCgYXX1OEDDc/IIQEgwGPf+G9uQuCZ68KLVyufyZz3yGXdHCwsKoXxF4wEDr/4qiqN44Y3TrPXslimI6nWZr0VLBYDCXy2Wz2VEp+NXw5EXxPP/ss8/WajVaWjc+Pp7L5b7//e+jsAzcwMb11z2PTjpoNpvJZNIzS3F646Jo2OV5fnd3lx6ZmZn5wQ9+MLofJOBJiL9WGqHZbl2M7lXow+709PR3vvOdpaWlkZ4VAl51h9MN8JSpqamHHnpIkiSnG9K/Uqk0NTVVKBScbohZkiRVKpWvfvWrExMTi4uLv/nNb3Z3d30+37lz52q12j/+8Y/z588j+IJLOZx/9pZyuezz+QghS0tLozW8I8tyPp+fnp6mjXd/+UqtVsvn86yGjHnkkUdQTAajAvHXYs1m89y5czQW0PImN09YkGW5VqstLS3RBs/MzLi5fKXRaBSLRTZXjaG93XK57P6PDQA15H9tIUnSj370o9/97nf0x9nZ2bNnz9LlaRwf0WI7UDz33HNvvfUWPTg9Pf2Tn/wkm8062zY9uqblSy+99MYbb/zzn/9U3xUMBs+ePYvcLowuxF8bSZJ0/vz5P/zhD++88w47ODs7+/DDD588eTIajQYCgSHEDul/ms3mH//4xytXrrC7xsfHv/zlL3/zm990VeSlG3Gur69fvHiRjaRRPp/voYceWlxcdMMnGcCAEH+HQZKkp59++i9/+ctrr72mv/euu+46efLk3NxcKBSiO62xu2iMPvD5RVFkS+ArikInU6yvr9+6devatWv6xwcCgbNnzz766KMuqddmXfLf//73hg2ORCLJZPLwFJjDIYH4O1Q00Dz77LOXL1++ePHiME89PT0dCoW+9a1vpdNpx3uOkiSJothoNNbX199++21NYoFCzAXPQ/x1Ek0LiKL417/+9fLly++8845hJOrV+Pj4yZMnjx8//sADD8RisVAo5HiGVB1wL1269O9//1v/GJpbSCaTntlAGqA7xF/XUScTCCE0b9vpwZp8BTGdsrAV3bheFEVZluv1+pUrVzRpXCYSiSwsLNx///3RaNTxDwmAIUP8tcaTTz554cKFH/7wh4ew48Z68bIsv/jii2+99ZZh95YKBoOnT5+ORCKjvlMRwOAQf60hiuLXv/71ra2tmZmZxx57bHFx0ZPBRV1KsbW1ZSaLHYlETp06Res9DuGHE0AXiL9W4nn+V7/61Z///GdCyPT09Ne+9rXRjTuCILBSihdffFFRFMPKBDWadz5x4sTc3NxIL98DMByIv9ZTFKVSqfz6179WV9red999CwsL4XDYJeGYpmgJITRvQAhZX1/f3d197733bt26ZeYZpqenP/GJTywsLHzsYx+j2VvH884AowXx10Y0xv3pT3964YUX3nzzTc29s7OzH//4x48dO0YzFeFwWN1b7KPzyEIqpd7hWD2I12U0zJDP5/v0pz999OjRz3/+83S4bzjTRgA8D/F3eNhU2ps3b/7tb3+jK4K7RCAQ+OQnP0kIWVhYoEsIJZNJxFkAWyH+Okk9nHXjxo2rV68SQvb39/Wd5b6Fw+Fjx47R2zQzS28nk0lCCCIsgIMQf0eApiK4O+RhAUbFfwHl967wB2zY2wAAAABJRU5ErkJggg==\"/>"
      ],
      "text/plain": [
       "<maelzel.scoring.renderlily.LilypondRenderer at 0x7f88191d0f70>"
      ]
     },
     "execution_count": 10,
     "metadata": {},
     "output_type": "execute_result"
    }
   ],
   "source": [
    "from maelzel import scoring\n",
    "from maelzel.scorestruct import ScoreStruct\n",
    "from maelzel.common import F\n",
    "from maelzel.scoring import makeNote\n",
    "from maelzel.scoring import spanner \n",
    "\n",
    "notes = [\n",
    "    makeNote(60, F(1, 4), tiedNext=True),\n",
    "    makeNote(60, F(1, 4), tiedNext=True, gliss=True),\n",
    "    makeNote(60, F(1, 4), tiedPrev=True),\n",
    "    makeNote(65, F(1, 4))\n",
    "]\n",
    "\n",
    "notes[0].addSpanner(spanner.Slur(), notes[-1])\n",
    "struct = ScoreStruct(timesig='4/4', tempo=70)\n",
    "\n",
    "part = scoring.Part(notes)\n",
    "quantprofile = scoring.quant.QuantizationProfile.fromPreset('highest', debug=False, debugMaxDivisions=20, maxDivPenalty=0.1)\n",
    "quantprofile.maxGridDensity = 32\n",
    "qpart = scoring.quant.quantizePart(part, struct=struct, quantprofile=quantprofile)\n",
    "options = scoring.render.RenderOptions()\n",
    "score = scoring.quant.QuantizedScore([qpart])\n",
    "r = scoring.render.renderQuantizedScore(score, options)\n",
    "score.dump()\n",
    "r # .write('~/tmp/quant.ly')"
   ]
  },
  {
   "cell_type": "code",
   "execution_count": 7,
   "id": "e3e19155-179f-496b-85f2-4220092cfb68",
   "metadata": {},
   "outputs": [
    {
     "name": "stdout",
     "output_type": "stream",
     "text": [
      "Beat: 0 - 1 (dur: 1)\n",
      "Skipped 8 divisions with a div. penalty > 0.1\n",
      "Best 20 divisions: \n"
     ]
    },
    {
     "data": {
      "text/html": [
       "<table>\n",
       "<thead>\n",
       "<tr><th>error    </th><th>div               </th><th>makeSnappedNotation                                                               </th><th>slots     </th><th>info                                                                                                                                                                                       </th></tr>\n",
       "</thead>\n",
       "<tbody>\n",
       "<tr><td>0.002    </td><td>(8,)              </td><td>[«0.000:0.375 3/8♩ 4D», «0.375:0.750 3/8♩ 4C», «0.750:1.000 1/4♩ 4D tiedNext»]    </td><td>[0, 3, 6] </td><td>gridError=0, rhythmComplexity=0 (numNotesAcrossSubdics=0, numTies=0), divPenalty=0.02 (0.0002, divPenalty=0.02, cardinalityPenalty=0, numSubdivsPenalty=0, levelPenalty=0)                 </td></tr>\n",
       "<tr><td>0.0038873</td><td>(4, 2)            </td><td>[«0.000:0.375 3/8♩ 4D», «0.375:0.750 3/8♩ 4C», «0.750:1.000 1/4♩ 4D tiedNext»]    </td><td>[0, 3, 5] </td><td>gridError=0, rhythmComplexity=0.105 (numNotesAcrossSubdics=1, numTies=0), divPenalty=0.02 (0.0002, divPenalty=0.02, cardinalityPenalty=0, numSubdivsPenalty=0, levelPenalty=0)             </td></tr>\n",
       "<tr><td>0.0069602</td><td>(1, 2, 1, 1)      </td><td>[«0.000:0.375 3/8♩ 4D», «0.375:0.750 3/8♩ 4C», «0.750:1.000 1/4♩ 4D tiedNext»]    </td><td>[0, 2, 4] </td><td>gridError=0, rhythmComplexity=0.211 (numNotesAcrossSubdics=2, numTies=0), divPenalty=0.02 (0.0002, divPenalty=0.02, cardinalityPenalty=0, numSubdivsPenalty=0, levelPenalty=0)             </td></tr>\n",
       "<tr><td>0.0077746</td><td>(1, 8, 4)         </td><td>[«0.000:0.375 3/8♩ 4D», «0.375:0.750 3/8♩ 4C», «0.750:1.000 1/4♩ 4D tiedNext»]    </td><td>[0, 2, 10]</td><td>gridError=0, rhythmComplexity=0.211 (numNotesAcrossSubdics=2, numTies=0), divPenalty=0.04 (0.0004, divPenalty=0.04, cardinalityPenalty=0, numSubdivsPenalty=0, levelPenalty=0)             </td></tr>\n",
       "<tr><td>0.01077  </td><td>(1, 1, 4, 1, 2, 1)</td><td>[«0.000:0.375 3/8♩ 4D», «0.375:0.750 3/8♩ 4C», «0.750:1.000 1/4♩ 4D tiedNext»]    </td><td>[0, 3, 8] </td><td>gridError=0, rhythmComplexity=0.316 (numNotesAcrossSubdics=3, numTies=0), divPenalty=0.04 (0.0004, divPenalty=0.04, cardinalityPenalty=0, numSubdivsPenalty=0, levelPenalty=0)             </td></tr>\n",
       "<tr><td>0.021001 </td><td>(1, 7, 4)         </td><td>[«0.000:0.381 8/21♩ 4D», «0.381:0.750 31/84♩ 4C», «0.750:1.000 1/4♩ 4D tiedNext»] </td><td>[0, 2, 9] </td><td>gridError=0.0165, rhythmComplexity=0.38 (numNotesAcrossSubdics=2, numTies=1), divPenalty=0.05 (0.0005, divPenalty=0.04, cardinalityPenalty=0.1, numSubdivsPenalty=0, levelPenalty=0.03)    </td></tr>\n",
       "<tr><td>0.032039 </td><td>(11, 2)           </td><td>[«0.000:0.364 4/11♩ 4D», «0.364:0.750 17/44♩ 4C», «0.750:1.000 1/4♩ 4D tiedNext»] </td><td>[0, 8, 12]</td><td>gridError=0.0286, rhythmComplexity=0.333 (numNotesAcrossSubdics=1, numTies=1), divPenalty=0.1 (0.001, divPenalty=0.1, cardinalityPenalty=0, numSubdivsPenalty=0, levelPenalty=0)           </td></tr>\n",
       "<tr><td>0.035693 </td><td>(9, 2)            </td><td>[«0.000:0.389 7/18♩ 4D», «0.389:0.750 13/36♩ 4C», «0.750:1.000 1/4♩ 4D tiedNext»] </td><td>[0, 7, 10]</td><td>gridError=0.0339, rhythmComplexity=0.333 (numNotesAcrossSubdics=1, numTies=1), divPenalty=0.04 (0.0004, divPenalty=0.04, cardinalityPenalty=0, numSubdivsPenalty=0, levelPenalty=0)        </td></tr>\n",
       "<tr><td>0.036281 </td><td>(1, 6, 4)         </td><td>[«0.000:0.389 7/18♩ 4D», «0.389:0.750 13/36♩ 4C», «0.750:1.000 1/4♩ 4D tiedNext»] </td><td>[0, 2, 8] </td><td>gridError=0.0339, rhythmComplexity=0.38 (numNotesAcrossSubdics=2, numTies=1), divPenalty=0.05 (0.0005, divPenalty=0.04, cardinalityPenalty=0, numSubdivsPenalty=0, levelPenalty=0.03)      </td></tr>\n",
       "<tr><td>0.036769 </td><td>(1, 8, 7)         </td><td>[«0.000:0.375 3/8♩ 4D», «0.375:0.762 0.387♩ 4C», «0.762:1.000 5/21♩ 4D tiedNext»] </td><td>[0, 2, 11]</td><td>gridError=0.0297, rhythmComplexity=0.667 (numNotesAcrossSubdics=2, numTies=2), divPenalty=0.05 (0.0005, divPenalty=0.04, cardinalityPenalty=0.1, numSubdivsPenalty=0, levelPenalty=0.03)   </td></tr>\n",
       "<tr><td>0.036876 </td><td>(1, 1, 3, 1, 2, 1)</td><td>[«0.000:0.389 7/18♩ 4D», «0.389:0.750 13/36♩ 4C», «0.750:1.000 1/4♩ 4D tiedNext»] </td><td>[0, 3, 7] </td><td>gridError=0.0339, rhythmComplexity=0.447 (numNotesAcrossSubdics=3, numTies=1), divPenalty=0.0361 (0.0003606, divPenalty=0.02, cardinalityPenalty=0, numSubdivsPenalty=0, levelPenalty=0.03)</td></tr>\n",
       "<tr><td>0.039383 </td><td>(1, 7, 7)         </td><td>[«0.000:0.381 8/21♩ 4D», «0.381:0.762 8/21♩ 4C», «0.762:1.000 5/21♩ 4D tiedNext»] </td><td>[0, 2, 10]</td><td>gridError=0.0372, rhythmComplexity=0.38 (numNotesAcrossSubdics=2, numTies=1), divPenalty=0.05 (0.0005, divPenalty=0.04, cardinalityPenalty=0.1, numSubdivsPenalty=0, levelPenalty=0.03)    </td></tr>\n",
       "<tr><td>0.04163  </td><td>(1, 8, 5)         </td><td>[«0.000:0.375 3/8♩ 4D», «0.375:0.733 0.358♩ 4C», «0.733:1.000 4/15♩ 4D tiedNext»] </td><td>[0, 2, 10]</td><td>gridError=0.0395, rhythmComplexity=0.38 (numNotesAcrossSubdics=2, numTies=1), divPenalty=0.05 (0.0005, divPenalty=0.04, cardinalityPenalty=0.1, numSubdivsPenalty=0, levelPenalty=0.03)    </td></tr>\n",
       "<tr><td>0.046619 </td><td>(7, 2)            </td><td>[«0.000:0.357 5/14♩ 4D», «0.357:0.750 11/28♩ 4C», «0.750:1.000 1/4♩ 4D tiedNext»] </td><td>[0, 5, 8] </td><td>gridError=0.0419, rhythmComplexity=0.641 (numNotesAcrossSubdics=1, numTies=2), divPenalty=0.02 (0.0002, divPenalty=0.02, cardinalityPenalty=0, numSubdivsPenalty=0, levelPenalty=0)        </td></tr>\n",
       "<tr><td>0.052889 </td><td>(1, 7, 5)         </td><td>[«0.000:0.381 8/21♩ 4D», «0.381:0.733 0.352♩ 4C», «0.733:1.000 4/15♩ 4D tiedNext»]</td><td>[0, 2, 9] </td><td>gridError=0.0513, rhythmComplexity=0.38 (numNotesAcrossSubdics=2, numTies=1), divPenalty=0.05 (0.0005, divPenalty=0.04, cardinalityPenalty=0.4, numSubdivsPenalty=0, levelPenalty=0.03)    </td></tr>\n",
       "<tr><td>0.05338  </td><td>(1, 6, 7)         </td><td>[«0.000:0.389 7/18♩ 4D», «0.389:0.762 0.373♩ 4C», «0.762:1.000 5/21♩ 4D tiedNext»]</td><td>[0, 2, 9] </td><td>gridError=0.0488, rhythmComplexity=0.667 (numNotesAcrossSubdics=2, numTies=2), divPenalty=0.05 (0.0005, divPenalty=0.04, cardinalityPenalty=0.1, numSubdivsPenalty=0, levelPenalty=0.03)   </td></tr>\n",
       "<tr><td>0.055949 </td><td>(5, 2)            </td><td>[«0.000:0.400 2/5♩ 4D», «0.400:0.750 7/20♩ 4C», «0.750:1.000 1/4♩ 4D tiedNext»]   </td><td>[0, 4, 6] </td><td>gridError=0.0558, rhythmComplexity=0.105 (numNotesAcrossSubdics=1, numTies=0), divPenalty=0.02 (0.0002, divPenalty=0.02, cardinalityPenalty=0, numSubdivsPenalty=0, levelPenalty=0)        </td></tr>\n",
       "<tr><td>0.056352 </td><td>(1, 5, 1, 1)      </td><td>[«0.000:0.350 7/20♩ 4D», «0.350:0.750 2/5♩ 4C», «0.750:1.000 1/4♩ 4D tiedNext»]   </td><td>[0, 3, 7] </td><td>gridError=0.0558, rhythmComplexity=0.211 (numNotesAcrossSubdics=2, numTies=0), divPenalty=0.04 (0.0004, divPenalty=0.04, cardinalityPenalty=0, numSubdivsPenalty=0, levelPenalty=0)        </td></tr>\n",
       "<tr><td>0.056352 </td><td>(1, 1, 1, 4, 1)   </td><td>[«0.000:0.400 2/5♩ 4D», «0.400:0.750 7/20♩ 4C», «0.750:1.000 1/4♩ 4D tiedNext»]   </td><td>[0, 2, 6] </td><td>gridError=0.0558, rhythmComplexity=0.211 (numNotesAcrossSubdics=2, numTies=0), divPenalty=0.04 (0.0004, divPenalty=0.04, cardinalityPenalty=0, numSubdivsPenalty=0, levelPenalty=0)        </td></tr>\n",
       "<tr><td>0.056432 </td><td>(1, 5, 4)         </td><td>[«0.000:0.400 2/5♩ 4D», «0.400:0.750 7/20♩ 4C», «0.750:1.000 1/4♩ 4D tiedNext»]   </td><td>[0, 2, 7] </td><td>gridError=0.0558, rhythmComplexity=0.211 (numNotesAcrossSubdics=2, numTies=0), divPenalty=0.05 (0.0005, divPenalty=0.04, cardinalityPenalty=0.1, numSubdivsPenalty=0, levelPenalty=0.03)   </td></tr>\n",
       "</tbody>\n",
       "</table>"
      ],
      "text/plain": [
       "<IPython.core.display.HTML object>"
      ]
     },
     "metadata": {},
     "output_type": "display_data"
    },
    {
     "name": "stdout",
     "output_type": "stream",
     "text": [
      "Beat: 1 - 3/2 (dur: 1/2)\n",
      "Skipped 0 divisions with a div. penalty > 0.1\n",
      "Best 10 divisions: \n"
     ]
    },
    {
     "data": {
      "text/html": [
       "<table>\n",
       "<thead>\n",
       "<tr><th>error    </th><th>div      </th><th>makeSnappedNotation                                     </th><th>slots  </th><th>info                                                                                                                                                                               </th></tr>\n",
       "</thead>\n",
       "<tbody>\n",
       "<tr><td>0.002    </td><td>(4,)     </td><td>[«0.000:0.125 1/8♩ 4D tiedPrev», «0.125:0.500 3/8♩ 4C»] </td><td>[0, 1] </td><td>gridError=0, rhythmComplexity=0 (numNotesAcrossSubdics=0, numTies=0), divPenalty=0.02 (0.0002, divPenalty=0.02, cardinalityPenalty=0, numSubdivsPenalty=0, levelPenalty=0)         </td></tr>\n",
       "<tr><td>0.005    </td><td>(2, 1)   </td><td>[«0.000:0.125 1/8♩ 4D tiedPrev», «0.125:0.500 3/8♩ 4C»] </td><td>[0, 1] </td><td>gridError=0, rhythmComplexity=0.158 (numNotesAcrossSubdics=1, numTies=0), divPenalty=0 (0, divPenalty=0, cardinalityPenalty=0, numSubdivsPenalty=0, levelPenalty=0)                </td></tr>\n",
       "<tr><td>0.0053852</td><td>(4, 1, 1)</td><td>[«0.000:0.125 1/8♩ 4D tiedPrev», «0.125:0.500 3/8♩ 4C»] </td><td>[0, 3] </td><td>gridError=0, rhythmComplexity=0.158 (numNotesAcrossSubdics=1, numTies=0), divPenalty=0.02 (0.0002, divPenalty=0.02, cardinalityPenalty=0, numSubdivsPenalty=0, levelPenalty=0)     </td></tr>\n",
       "<tr><td>0.061174 </td><td>(9,)     </td><td>[«0.000:0.111 1/9♩ 4D tiedPrev», «0.111:0.500 7/18♩ 4C»]</td><td>[0, 2] </td><td>gridError=0.061, rhythmComplexity=0 (numNotesAcrossSubdics=0, numTies=0), divPenalty=0.04 (0.0004, divPenalty=0.04, cardinalityPenalty=0, numSubdivsPenalty=0, levelPenalty=0)     </td></tr>\n",
       "<tr><td>0.061321 </td><td>(3, 1, 1)</td><td>[«0.000:0.111 1/9♩ 4D tiedPrev», «0.111:0.500 7/18♩ 4C»]</td><td>[0, 2] </td><td>gridError=0.061, rhythmComplexity=0.158 (numNotesAcrossSubdics=1, numTies=0), divPenalty=0.03 (0.0003, divPenalty=0, cardinalityPenalty=0, numSubdivsPenalty=0, levelPenalty=0.03) </td></tr>\n",
       "<tr><td>0.07708  </td><td>(7,)     </td><td>[«0.000:0.143 1/7♩ 4D tiedPrev», «0.143:0.500 5/14♩ 4C»]</td><td>[0, 2] </td><td>gridError=0.0756, rhythmComplexity=0.474 (numNotesAcrossSubdics=0, numTies=1), divPenalty=0.02 (0.0002, divPenalty=0.02, cardinalityPenalty=0, numSubdivsPenalty=0, levelPenalty=0)</td></tr>\n",
       "<tr><td>0.10062  </td><td>(5,)     </td><td>[«0.000:0.100 1/10♩ 4D tiedPrev», «0.100:0.500 2/5♩ 4C»]</td><td>[0, 1] </td><td>gridError=0.101, rhythmComplexity=0 (numNotesAcrossSubdics=0, numTies=0), divPenalty=0.02 (0.0002, divPenalty=0.02, cardinalityPenalty=0, numSubdivsPenalty=0, levelPenalty=0)     </td></tr>\n",
       "<tr><td>0.10075  </td><td>(5, 1)   </td><td>[«0.000:0.100 1/10♩ 4D tiedPrev», «0.100:0.500 2/5♩ 4C»]</td><td>[0, 2] </td><td>gridError=0.101, rhythmComplexity=0.158 (numNotesAcrossSubdics=1, numTies=0), divPenalty=0.02 (0.0002, divPenalty=0.02, cardinalityPenalty=0, numSubdivsPenalty=0, levelPenalty=0) </td></tr>\n",
       "<tr><td>0.15531  </td><td>(3,)     </td><td>[«0.000:0.167 1/6♩ 4D tiedPrev», «0.167:0.500 1/3♩ 4C»] </td><td>[0, 1] </td><td>gridError=0.155, rhythmComplexity=0 (numNotesAcrossSubdics=0, numTies=0), divPenalty=0 (0, divPenalty=0, cardinalityPenalty=0, numSubdivsPenalty=0, levelPenalty=0)                </td></tr>\n",
       "<tr><td>0.15539  </td><td>(3, 1)   </td><td>[«0.000:0.167 1/6♩ 4D tiedPrev», «0.167:0.500 1/3♩ 4C»] </td><td>[0, 2] </td><td>gridError=0.155, rhythmComplexity=0.158 (numNotesAcrossSubdics=1, numTies=0), divPenalty=0 (0, divPenalty=0, cardinalityPenalty=0, numSubdivsPenalty=0, levelPenalty=0)            </td></tr>\n",
       "</tbody>\n",
       "</table>"
      ],
      "text/plain": [
       "<IPython.core.display.HTML object>"
      ]
     },
     "metadata": {},
     "output_type": "display_data"
    },
    {
     "name": "stdout",
     "output_type": "stream",
     "text": [
      "Beat: 3/2 - 5/2 (dur: 1)\n",
      "Skipped 158 divisions with a div. penalty > 0.1\n",
      "Best 20 divisions: \n"
     ]
    },
    {
     "data": {
      "text/html": [
       "<table>\n",
       "<thead>\n",
       "<tr><th>error    </th><th>div               </th><th>makeSnappedNotation                                                                                                                                                       </th><th>slots                    </th><th>info                                                                                                                                                                                          </th></tr>\n",
       "</thead>\n",
       "<tbody>\n",
       "<tr><td>0.0052001</td><td>(5, 5, 2)         </td><td>[«0.000:0.133 2/15♩ 4C#», «0.133:0.267 2/15♩ 4D», «0.267:0.400 2/15♩ 4D#», «0.400:0.533 2/15♩ 4E», «0.533:0.667 2/15♩ 4F», «0.667:0.833 1/6♩ 4F#», «0.833:1.000 1/6♩ 4G»] </td><td>[0, 2, 4, 6, 8, 10, 11]  </td><td>gridError=0, rhythmComplexity=0.0452 (numNotesAcrossSubdics=1, numTies=0), divPenalty=0.05 (0.0005, divPenalty=0.04, cardinalityPenalty=0.1, numSubdivsPenalty=0, levelPenalty=0.03)          </td></tr>\n",
       "<tr><td>0.049749 </td><td>(8, 5, 2)         </td><td>[«0.000:0.125 1/8♩ 4C#», «0.125:0.250 1/8♩ 4D», «0.250:0.400 3/20♩ 4D#», «0.400:0.533 2/15♩ 4E», «0.533:0.667 2/15♩ 4F», «0.667:0.833 1/6♩ 4F#», «0.833:1.000 1/6♩ 4G»]   </td><td>[0, 3, 6, 9, 11, 13, 14] </td><td>gridError=0.0495, rhythmComplexity=0.0452 (numNotesAcrossSubdics=1, numTies=0), divPenalty=0.05 (0.0005, divPenalty=0.04, cardinalityPenalty=0.1, numSubdivsPenalty=0, levelPenalty=0.03)     </td></tr>\n",
       "<tr><td>0.049749 </td><td>(5, 8, 2)         </td><td>[«0.000:0.133 2/15♩ 4C#», «0.133:0.267 2/15♩ 4D», «0.267:0.417 3/20♩ 4D#», «0.417:0.542 1/8♩ 4E», «0.542:0.667 1/8♩ 4F», «0.667:0.833 1/6♩ 4F#», «0.833:1.000 1/6♩ 4G»]   </td><td>[0, 2, 4, 7, 10, 13, 14] </td><td>gridError=0.0495, rhythmComplexity=0.0452 (numNotesAcrossSubdics=1, numTies=0), divPenalty=0.05 (0.0005, divPenalty=0.04, cardinalityPenalty=0.1, numSubdivsPenalty=0, levelPenalty=0.03)     </td></tr>\n",
       "<tr><td>0.053984 </td><td>(5, 5, 7)         </td><td>[«0.000:0.133 2/15♩ 4C#», «0.133:0.267 2/15♩ 4D», «0.267:0.400 2/15♩ 4D#», «0.400:0.533 2/15♩ 4E», «0.533:0.667 2/15♩ 4F», «0.667:0.857 4/21♩ 4F#», «0.857:1.000 1/7♩ 4G»]</td><td>[0, 2, 4, 6, 8, 10, 14]  </td><td>gridError=0.0535, rhythmComplexity=0.0452 (numNotesAcrossSubdics=1, numTies=0), divPenalty=0.0671 (0.0006708, divPenalty=0.06, cardinalityPenalty=0.4, numSubdivsPenalty=0, levelPenalty=0.03)</td></tr>\n",
       "<tr><td>0.055667 </td><td>(7, 5, 2)         </td><td>[«0.000:0.143 1/7♩ 4C#», «0.143:0.286 1/7♩ 4D», «0.286:0.400 4/35♩ 4D#», «0.400:0.533 2/15♩ 4E», «0.533:0.667 2/15♩ 4F», «0.667:0.833 1/6♩ 4F#», «0.833:1.000 1/6♩ 4G»]   </td><td>[0, 3, 6, 8, 10, 12, 13] </td><td>gridError=0.0554, rhythmComplexity=0.0452 (numNotesAcrossSubdics=1, numTies=0), divPenalty=0.05 (0.0005, divPenalty=0.04, cardinalityPenalty=0.4, numSubdivsPenalty=0, levelPenalty=0.03)     </td></tr>\n",
       "<tr><td>0.055667 </td><td>(5, 7, 2)         </td><td>[«0.000:0.133 2/15♩ 4C#», «0.133:0.267 2/15♩ 4D», «0.267:0.381 4/35♩ 4D#», «0.381:0.524 1/7♩ 4E», «0.524:0.667 1/7♩ 4F», «0.667:0.833 1/6♩ 4F#», «0.833:1.000 1/6♩ 4G»]   </td><td>[0, 2, 4, 6, 9, 12, 13]  </td><td>gridError=0.0554, rhythmComplexity=0.0452 (numNotesAcrossSubdics=1, numTies=0), divPenalty=0.05 (0.0005, divPenalty=0.04, cardinalityPenalty=0.4, numSubdivsPenalty=0, levelPenalty=0.03)     </td></tr>\n",
       "<tr><td>0.065496 </td><td>(2, 5, 6, 3)      </td><td>[«0.000:0.125 1/8♩ 4C#», «0.125:0.250 1/8♩ 4D», «0.250:0.400 3/20♩ 4D#», «0.400:0.542 0.142♩ 4E», «0.542:0.667 1/8♩ 4F», «0.667:0.833 1/6♩ 4F#», «0.833:1.000 1/6♩ 4G»]   </td><td>[0, 1, 2, 5, 8, 11, 14]  </td><td>gridError=0.065, rhythmComplexity=0.163 (numNotesAcrossSubdics=2, numTies=1), divPenalty=0.06 (0.0006, divPenalty=0.06, cardinalityPenalty=0.1, numSubdivsPenalty=0, levelPenalty=0)          </td></tr>\n",
       "<tr><td>0.071593 </td><td>(5, 6, 2)         </td><td>[«0.000:0.133 2/15♩ 4C#», «0.133:0.267 2/15♩ 4D», «0.267:0.389 11/90♩ 4D#», «0.389:0.556 1/6♩ 4E», «0.556:0.667 1/9♩ 4F», «0.667:0.833 1/6♩ 4F#», «0.833:1.000 1/6♩ 4G»]  </td><td>[0, 2, 4, 6, 9, 11, 12]  </td><td>gridError=0.0713, rhythmComplexity=0.143 (numNotesAcrossSubdics=1, numTies=1), divPenalty=0.05 (0.0005, divPenalty=0.04, cardinalityPenalty=0.1, numSubdivsPenalty=0, levelPenalty=0.03)      </td></tr>\n",
       "<tr><td>0.071593 </td><td>(6, 5, 2)         </td><td>[«0.000:0.111 1/9♩ 4C#», «0.111:0.278 1/6♩ 4D», «0.278:0.400 11/90♩ 4D#», «0.400:0.533 2/15♩ 4E», «0.533:0.667 2/15♩ 4F», «0.667:0.833 1/6♩ 4F#», «0.833:1.000 1/6♩ 4G»]  </td><td>[0, 2, 5, 7, 9, 11, 12]  </td><td>gridError=0.0713, rhythmComplexity=0.143 (numNotesAcrossSubdics=1, numTies=1), divPenalty=0.05 (0.0005, divPenalty=0.04, cardinalityPenalty=0.1, numSubdivsPenalty=0, levelPenalty=0.03)      </td></tr>\n",
       "<tr><td>0.071604 </td><td>(5, 5, 5)         </td><td>[«0.000:0.133 2/15♩ 4C#», «0.133:0.267 2/15♩ 4D», «0.267:0.400 2/15♩ 4D#», «0.400:0.533 2/15♩ 4E», «0.533:0.667 2/15♩ 4F», «0.667:0.800 2/15♩ 4F#», «0.800:1.000 1/5♩ 4G»]</td><td>[0, 2, 4, 6, 8, 10, 12]  </td><td>gridError=0.0713, rhythmComplexity=0.0452 (numNotesAcrossSubdics=1, numTies=0), divPenalty=0.0671 (0.0006708, divPenalty=0.06, cardinalityPenalty=0.1, numSubdivsPenalty=0, levelPenalty=0.03)</td></tr>\n",
       "<tr><td>0.078907 </td><td>(4, 2, 3, 4, 1, 1)</td><td>[«0.000:0.125 1/8♩ 4C#», «0.125:0.250 1/8♩ 4D», «0.250:0.389 5/36♩ 4D#», «0.389:0.542 11/72♩ 4E», «0.542:0.667 1/8♩ 4F», «0.667:0.833 1/6♩ 4F#», «0.833:1.000 1/6♩ 4G»]   </td><td>[0, 3, 5, 7, 10, 13, 14] </td><td>gridError=0.078, rhythmComplexity=0.303 (numNotesAcrossSubdics=3, numTies=2), divPenalty=0.0671 (0.0006708, divPenalty=0.06, cardinalityPenalty=0, numSubdivsPenalty=0, levelPenalty=0.03)    </td></tr>\n",
       "<tr><td>0.078907 </td><td>(4, 3, 2, 4, 1, 1)</td><td>[«0.000:0.125 1/8♩ 4C#», «0.125:0.278 11/72♩ 4D», «0.278:0.417 5/36♩ 4D#», «0.417:0.542 1/8♩ 4E», «0.542:0.667 1/8♩ 4F», «0.667:0.833 1/6♩ 4F#», «0.833:1.000 1/6♩ 4G»]   </td><td>[0, 3, 6, 8, 10, 13, 14] </td><td>gridError=0.078, rhythmComplexity=0.303 (numNotesAcrossSubdics=3, numTies=2), divPenalty=0.0671 (0.0006708, divPenalty=0.06, cardinalityPenalty=0, numSubdivsPenalty=0, levelPenalty=0.03)    </td></tr>\n",
       "<tr><td>0.082091 </td><td>(4, 3, 3, 4, 1, 1)</td><td>[«0.000:0.125 1/8♩ 4C#», «0.125:0.278 11/72♩ 4D», «0.278:0.389 1/9♩ 4D#», «0.389:0.542 11/72♩ 4E», «0.542:0.667 1/8♩ 4F», «0.667:0.833 1/6♩ 4F#», «0.833:1.000 1/6♩ 4G»]  </td><td>[0, 3, 6, 8, 11, 14, 15] </td><td>gridError=0.0813, rhythmComplexity=0.303 (numNotesAcrossSubdics=3, numTies=2), divPenalty=0.0671 (0.0006708, divPenalty=0.06, cardinalityPenalty=0, numSubdivsPenalty=0, levelPenalty=0.03)   </td></tr>\n",
       "<tr><td>0.086685 </td><td>(5, 5, 6, 3)      </td><td>[«0.000:0.150 3/20♩ 4C#», «0.150:0.250 1/10♩ 4D», «0.250:0.400 3/20♩ 4D#», «0.400:0.542 0.142♩ 4E», «0.542:0.667 1/8♩ 4F», «0.667:0.833 1/6♩ 4F#», «0.833:1.000 1/6♩ 4G»] </td><td>[0, 3, 5, 8, 11, 14, 17] </td><td>gridError=0.0862, rhythmComplexity=0.163 (numNotesAcrossSubdics=2, numTies=1), divPenalty=0.08 (0.0008, divPenalty=0.08, cardinalityPenalty=0.1, numSubdivsPenalty=0, levelPenalty=0)         </td></tr>\n",
       "<tr><td>0.086833 </td><td>(8, 7, 2)         </td><td>[«0.000:0.125 1/8♩ 4C#», «0.125:0.250 1/8♩ 4D», «0.250:0.381 11/84♩ 4D#», «0.381:0.524 1/7♩ 4E», «0.524:0.667 1/7♩ 4F», «0.667:0.833 1/6♩ 4F#», «0.833:1.000 1/6♩ 4G»]    </td><td>[0, 3, 6, 9, 12, 15, 16] </td><td>gridError=0.0866, rhythmComplexity=0.143 (numNotesAcrossSubdics=1, numTies=1), divPenalty=0.05 (0.0005, divPenalty=0.04, cardinalityPenalty=0.1, numSubdivsPenalty=0, levelPenalty=0.03)      </td></tr>\n",
       "<tr><td>0.086833 </td><td>(7, 8, 2)         </td><td>[«0.000:0.143 1/7♩ 4C#», «0.143:0.286 1/7♩ 4D», «0.286:0.417 11/84♩ 4D#», «0.417:0.542 1/8♩ 4E», «0.542:0.667 1/8♩ 4F», «0.667:0.833 1/6♩ 4F#», «0.833:1.000 1/6♩ 4G»]    </td><td>[0, 3, 6, 9, 12, 15, 16] </td><td>gridError=0.0866, rhythmComplexity=0.143 (numNotesAcrossSubdics=1, numTies=1), divPenalty=0.05 (0.0005, divPenalty=0.04, cardinalityPenalty=0.1, numSubdivsPenalty=0, levelPenalty=0.03)      </td></tr>\n",
       "<tr><td>0.089283 </td><td>(8, 8, 2)         </td><td>[«0.000:0.125 1/8♩ 4C#», «0.125:0.250 1/8♩ 4D», «0.250:0.417 1/6♩ 4D#», «0.417:0.542 1/8♩ 4E», «0.542:0.667 1/8♩ 4F», «0.667:0.833 1/6♩ 4F#», «0.833:1.000 1/6♩ 4G»]      </td><td>[0, 3, 6, 10, 13, 16, 17]</td><td>gridError=0.0892, rhythmComplexity=0.0452 (numNotesAcrossSubdics=1, numTies=0), divPenalty=0.04 (0.0004, divPenalty=0.04, cardinalityPenalty=0, numSubdivsPenalty=0, levelPenalty=0)          </td></tr>\n",
       "<tr><td>0.089317 </td><td>(2, 3, 6, 3)      </td><td>[«0.000:0.125 1/8♩ 4C#», «0.125:0.250 1/8♩ 4D», «0.250:0.417 1/6♩ 4D#», «0.417:0.542 1/8♩ 4E», «0.542:0.667 1/8♩ 4F», «0.667:0.833 1/6♩ 4F#», «0.833:1.000 1/6♩ 4G»]      </td><td>[0, 1, 2, 4, 6, 9, 12]   </td><td>gridError=0.0892, rhythmComplexity=0.0904 (numNotesAcrossSubdics=2, numTies=0), divPenalty=0.04 (0.0004, divPenalty=0.04, cardinalityPenalty=0, numSubdivsPenalty=0, levelPenalty=0)          </td></tr>\n",
       "<tr><td>0.089486 </td><td>(4, 2, 2, 4, 1, 1)</td><td>[«0.000:0.125 1/8♩ 4C#», «0.125:0.250 1/8♩ 4D», «0.250:0.417 1/6♩ 4D#», «0.417:0.542 1/8♩ 4E», «0.542:0.667 1/8♩ 4F», «0.667:0.833 1/6♩ 4F#», «0.833:1.000 1/6♩ 4G»]      </td><td>[0, 3, 5, 7, 9, 12, 13]  </td><td>gridError=0.0892, rhythmComplexity=0.136 (numNotesAcrossSubdics=3, numTies=0), divPenalty=0.06 (0.0006, divPenalty=0.06, cardinalityPenalty=0, numSubdivsPenalty=0, levelPenalty=0)           </td></tr>\n",
       "<tr><td>0.092753 </td><td>(5, 8, 7)         </td><td>[«0.000:0.133 2/15♩ 4C#», «0.133:0.267 2/15♩ 4D», «0.267:0.417 3/20♩ 4D#», «0.417:0.542 1/8♩ 4E», «0.542:0.667 1/8♩ 4F», «0.667:0.857 4/21♩ 4F#», «0.857:1.000 1/7♩ 4G»]  </td><td>[0, 2, 4, 7, 10, 13, 17] </td><td>gridError=0.0925, rhythmComplexity=0.0452 (numNotesAcrossSubdics=1, numTies=0), divPenalty=0.0671 (0.0006708, divPenalty=0.06, cardinalityPenalty=0.4, numSubdivsPenalty=0, levelPenalty=0.03)</td></tr>\n",
       "</tbody>\n",
       "</table>"
      ],
      "text/plain": [
       "<IPython.core.display.HTML object>"
      ]
     },
     "metadata": {},
     "output_type": "display_data"
    },
    {
     "name": "stdout",
     "output_type": "stream",
     "text": [
      "Beat: 1 - 2 (dur: 1)\n",
      "Skipped 37 divisions with a div. penalty > 0.1\n",
      "Best 20 divisions: \n"
     ]
    },
    {
     "data": {
      "text/html": [
       "<table>\n",
       "<thead>\n",
       "<tr><th>error   </th><th>div               </th><th>makeSnappedNotation                                                                                                                                                 </th><th>slots                 </th><th>info                                                                                                                                                                                         </th></tr>\n",
       "</thead>\n",
       "<tbody>\n",
       "<tr><td>0.039078</td><td>(8, 8, 7)         </td><td>[«0.000:0.125 1/8♩ 4D tiedPrev», «0.125:0.500 3/8♩ 4C», «0.500:0.625 1/8♩ 4C#», «0.625:0.762 0.137♩ 4D», «0.762:0.905 1/7♩ 4D#», «0.905:1.000 2/21♩ 4E tiedNext»]   </td><td>[0, 3, 12, 15, 18, 21]</td><td>gridError=0.038, rhythmComplexity=0.19 (numNotesAcrossSubdics=2, numTies=1), divPenalty=0.0671 (0.0006708, divPenalty=0.06, cardinalityPenalty=0.1, numSubdivsPenalty=0, levelPenalty=0.03)  </td></tr>\n",
       "<tr><td>0.049666</td><td>(2, 1, 2, 5)      </td><td>[«0.000:0.125 1/8♩ 4D tiedPrev», «0.125:0.500 3/8♩ 4C», «0.500:0.625 1/8♩ 4C#», «0.625:0.750 1/8♩ 4D», «0.750:0.900 3/20♩ 4D#», «0.900:1.000 1/10♩ 4E tiedNext»]    </td><td>[0, 1, 3, 4, 5, 8]    </td><td>gridError=0.0495, rhythmComplexity=0.0527 (numNotesAcrossSubdics=1, numTies=0), divPenalty=0.04 (0.0004, divPenalty=0.04, cardinalityPenalty=0, numSubdivsPenalty=0, levelPenalty=0)         </td></tr>\n",
       "<tr><td>0.055692</td><td>(5, 8, 7)         </td><td>[«0.000:0.133 2/15♩ 4D tiedPrev», «0.133:0.500 11/30♩ 4C», «0.500:0.625 1/8♩ 4C#», «0.625:0.762 0.137♩ 4D», «0.762:0.905 1/7♩ 4D#», «0.905:1.000 2/21♩ 4E tiedNext»]</td><td>[0, 2, 9, 12, 15, 18] </td><td>gridError=0.0543, rhythmComplexity=0.333 (numNotesAcrossSubdics=2, numTies=2), divPenalty=0.0671 (0.0006708, divPenalty=0.06, cardinalityPenalty=0.4, numSubdivsPenalty=0, levelPenalty=0.03)</td></tr>\n",
       "<tr><td>0.064282</td><td>(4, 1, 1, 4, 2, 3)</td><td>[«0.000:0.125 1/8♩ 4D tiedPrev», «0.125:0.500 3/8♩ 4C», «0.500:0.625 1/8♩ 4C#», «0.625:0.750 1/8♩ 4D», «0.750:0.889 5/36♩ 4D#», «0.889:1.000 1/9♩ 4E tiedNext»]     </td><td>[0, 3, 6, 9, 11, 13]  </td><td>gridError=0.0635, rhythmComplexity=0.224 (numNotesAcrossSubdics=3, numTies=1), divPenalty=0.0671 (0.0006708, divPenalty=0.06, cardinalityPenalty=0, numSubdivsPenalty=0, levelPenalty=0.03)  </td></tr>\n",
       "<tr><td>0.06513 </td><td>(3, 8, 7)         </td><td>[«0.000:0.111 1/9♩ 4D tiedPrev», «0.111:0.500 7/18♩ 4C», «0.500:0.625 1/8♩ 4C#», «0.625:0.762 0.137♩ 4D», «0.762:0.905 1/7♩ 4D#», «0.905:1.000 2/21♩ 4E tiedNext»]  </td><td>[0, 1, 7, 10, 13, 16] </td><td>gridError=0.0647, rhythmComplexity=0.19 (numNotesAcrossSubdics=2, numTies=1), divPenalty=0.05 (0.0005, divPenalty=0.04, cardinalityPenalty=0.1, numSubdivsPenalty=0, levelPenalty=0.03)      </td></tr>\n",
       "<tr><td>0.065284</td><td>(8, 6, 7)         </td><td>[«0.000:0.125 1/8♩ 4D tiedPrev», «0.125:0.500 3/8♩ 4C», «0.500:0.611 1/9♩ 4C#», «0.611:0.762 0.151♩ 4D», «0.762:0.905 1/7♩ 4D#», «0.905:1.000 2/21♩ 4E tiedNext»]   </td><td>[0, 3, 11, 13, 16, 19]</td><td>gridError=0.0647, rhythmComplexity=0.19 (numNotesAcrossSubdics=2, numTies=1), divPenalty=0.0671 (0.0006708, divPenalty=0.06, cardinalityPenalty=0.1, numSubdivsPenalty=0, levelPenalty=0.03) </td></tr>\n",
       "<tr><td>0.066654</td><td>(8, 8, 3)         </td><td>[«0.000:0.125 1/8♩ 4D tiedPrev», «0.125:0.500 3/8♩ 4C», «0.500:0.625 1/8♩ 4C#», «0.625:0.778 11/72♩ 4D», «0.778:0.889 1/9♩ 4D#», «0.889:1.000 1/9♩ 4E tiedNext»]    </td><td>[0, 3, 12, 15, 17, 18]</td><td>gridError=0.0662, rhythmComplexity=0.19 (numNotesAcrossSubdics=2, numTies=1), divPenalty=0.05 (0.0005, divPenalty=0.04, cardinalityPenalty=0, numSubdivsPenalty=0, levelPenalty=0.03)        </td></tr>\n",
       "<tr><td>0.066908</td><td>(4, 1, 1, 4, 3, 3)</td><td>[«0.000:0.125 1/8♩ 4D tiedPrev», «0.125:0.500 3/8♩ 4C», «0.500:0.625 1/8♩ 4C#», «0.625:0.778 11/72♩ 4D», «0.778:0.889 1/9♩ 4D#», «0.889:1.000 1/9♩ 4E tiedNext»]    </td><td>[0, 3, 6, 9, 12, 14]  </td><td>gridError=0.0662, rhythmComplexity=0.224 (numNotesAcrossSubdics=3, numTies=1), divPenalty=0.0671 (0.0006708, divPenalty=0.06, cardinalityPenalty=0, numSubdivsPenalty=0, levelPenalty=0.03)  </td></tr>\n",
       "<tr><td>0.069453</td><td>(4, 1, 1, 4, 3, 2)</td><td>[«0.000:0.125 1/8♩ 4D tiedPrev», «0.125:0.500 3/8♩ 4C», «0.500:0.625 1/8♩ 4C#», «0.625:0.778 11/72♩ 4D», «0.778:0.917 5/36♩ 4D#», «0.917:1.000 1/12♩ 4E tiedNext»]  </td><td>[0, 3, 6, 9, 12, 14]  </td><td>gridError=0.0682, rhythmComplexity=0.354 (numNotesAcrossSubdics=3, numTies=2), divPenalty=0.0671 (0.0006708, divPenalty=0.06, cardinalityPenalty=0, numSubdivsPenalty=0, levelPenalty=0.03)  </td></tr>\n",
       "<tr><td>0.071547</td><td>(2, 1, 5, 5)      </td><td>[«0.000:0.125 1/8♩ 4D tiedPrev», «0.125:0.500 3/8♩ 4C», «0.500:0.650 3/20♩ 4C#», «0.650:0.750 1/10♩ 4D», «0.750:0.900 3/20♩ 4D#», «0.900:1.000 1/10♩ 4E tiedNext»]  </td><td>[0, 1, 3, 6, 8, 11]   </td><td>gridError=0.0713, rhythmComplexity=0.0527 (numNotesAcrossSubdics=1, numTies=0), divPenalty=0.06 (0.0006, divPenalty=0.06, cardinalityPenalty=0, numSubdivsPenalty=0, levelPenalty=0)         </td></tr>\n",
       "<tr><td>0.072984</td><td>(7, 8, 7)         </td><td>[«0.000:0.143 1/7♩ 4D tiedPrev», «0.143:0.500 5/14♩ 4C», «0.500:0.625 1/8♩ 4C#», «0.625:0.762 0.137♩ 4D», «0.762:0.905 1/7♩ 4D#», «0.905:1.000 2/21♩ 4E tiedNext»]  </td><td>[0, 3, 11, 14, 17, 20]</td><td>gridError=0.0719, rhythmComplexity=0.333 (numNotesAcrossSubdics=2, numTies=2), divPenalty=0.0671 (0.0006708, divPenalty=0.06, cardinalityPenalty=0.1, numSubdivsPenalty=0, levelPenalty=0.03)</td></tr>\n",
       "<tr><td>0.08005 </td><td>(2, 1, 2, 3)      </td><td>[«0.000:0.125 1/8♩ 4D tiedPrev», «0.125:0.500 3/8♩ 4C», «0.500:0.625 1/8♩ 4C#», «0.625:0.750 1/8♩ 4D», «0.750:0.917 1/6♩ 4D#», «0.917:1.000 1/12♩ 4E tiedNext»]     </td><td>[0, 1, 3, 4, 5, 7]    </td><td>gridError=0.08, rhythmComplexity=0.0527 (numNotesAcrossSubdics=1, numTies=0), divPenalty=0.02 (0.0002, divPenalty=0.02, cardinalityPenalty=0, numSubdivsPenalty=0, levelPenalty=0)           </td></tr>\n",
       "<tr><td>0.080301</td><td>(8, 8, 4)         </td><td>[«0.000:0.125 1/8♩ 4D tiedPrev», «0.125:0.500 3/8♩ 4C», «0.500:0.625 1/8♩ 4C#», «0.625:0.750 1/8♩ 4D», «0.750:0.917 1/6♩ 4D#», «0.917:1.000 1/12♩ 4E tiedNext»]     </td><td>[0, 3, 12, 15, 17, 19]</td><td>gridError=0.08, rhythmComplexity=0.105 (numNotesAcrossSubdics=2, numTies=0), divPenalty=0.06 (0.0006, divPenalty=0.06, cardinalityPenalty=0, numSubdivsPenalty=0, levelPenalty=0)            </td></tr>\n",
       "<tr><td>0.080388</td><td>(4, 1, 1, 4, 2, 2)</td><td>[«0.000:0.125 1/8♩ 4D tiedPrev», «0.125:0.500 3/8♩ 4C», «0.500:0.625 1/8♩ 4C#», «0.625:0.750 1/8♩ 4D», «0.750:0.917 1/6♩ 4D#», «0.917:1.000 1/12♩ 4E tiedNext»]     </td><td>[0, 3, 6, 9, 11, 13]  </td><td>gridError=0.08, rhythmComplexity=0.158 (numNotesAcrossSubdics=3, numTies=0), divPenalty=0.06 (0.0006, divPenalty=0.06, cardinalityPenalty=0, numSubdivsPenalty=0, levelPenalty=0)            </td></tr>\n",
       "<tr><td>0.08071 </td><td>(5, 6, 7)         </td><td>[«0.000:0.133 2/15♩ 4D tiedPrev», «0.133:0.500 11/30♩ 4C», «0.500:0.611 1/9♩ 4C#», «0.611:0.762 0.151♩ 4D», «0.762:0.905 1/7♩ 4D#», «0.905:1.000 2/21♩ 4E tiedNext»]</td><td>[0, 2, 8, 10, 13, 16] </td><td>gridError=0.0797, rhythmComplexity=0.333 (numNotesAcrossSubdics=2, numTies=2), divPenalty=0.0671 (0.0006708, divPenalty=0.06, cardinalityPenalty=0.4, numSubdivsPenalty=0, levelPenalty=0.03)</td></tr>\n",
       "<tr><td>0.082087</td><td>(5, 8, 3)         </td><td>[«0.000:0.133 2/15♩ 4D tiedPrev», «0.133:0.500 11/30♩ 4C», «0.500:0.625 1/8♩ 4C#», «0.625:0.778 11/72♩ 4D», «0.778:0.889 1/9♩ 4D#», «0.889:1.000 1/9♩ 4E tiedNext»] </td><td>[0, 2, 9, 12, 14, 15] </td><td>gridError=0.0813, rhythmComplexity=0.333 (numNotesAcrossSubdics=2, numTies=2), divPenalty=0.05 (0.0005, divPenalty=0.04, cardinalityPenalty=0.1, numSubdivsPenalty=0, levelPenalty=0.03)     </td></tr>\n",
       "<tr><td>0.084203</td><td>(8, 7, 7)         </td><td>[«0.000:0.125 1/8♩ 4D tiedPrev», «0.125:0.476 0.351♩ 4C», «0.476:0.619 1/7♩ 4C#», «0.619:0.762 1/7♩ 4D», «0.762:0.905 1/7♩ 4D#», «0.905:1.000 2/21♩ 4E tiedNext»]   </td><td>[0, 3, 11, 14, 17, 20]</td><td>gridError=0.0837, rhythmComplexity=0.19 (numNotesAcrossSubdics=2, numTies=1), divPenalty=0.0671 (0.0006708, divPenalty=0.06, cardinalityPenalty=0.1, numSubdivsPenalty=0, levelPenalty=0.03) </td></tr>\n",
       "<tr><td>0.084302</td><td>(4, 1, 1, 3, 2, 3)</td><td>[«0.000:0.125 1/8♩ 4D tiedPrev», «0.125:0.500 3/8♩ 4C», «0.500:0.611 1/9♩ 4C#», «0.611:0.750 5/36♩ 4D», «0.750:0.889 5/36♩ 4D#», «0.889:1.000 1/9♩ 4E tiedNext»]    </td><td>[0, 3, 6, 8, 10, 12]  </td><td>gridError=0.0834, rhythmComplexity=0.354 (numNotesAcrossSubdics=3, numTies=2), divPenalty=0.05 (0.0005, divPenalty=0.04, cardinalityPenalty=0, numSubdivsPenalty=0, levelPenalty=0.03)       </td></tr>\n",
       "<tr><td>0.084703</td><td>(8,)              </td><td>[«0.000:0.125 1/8♩ 4D tiedPrev», «0.125:0.500 3/8♩ 4C», «0.500:0.625 1/8♩ 4C#», «0.625:0.750 1/8♩ 4D», «0.750:0.875 1/8♩ 4D#», «0.875:1.000 1/8♩ 4E tiedNext»]      </td><td>[0, 1, 4, 5, 6, 7]    </td><td>gridError=0.0847, rhythmComplexity=0 (numNotesAcrossSubdics=0, numTies=0), divPenalty=0.02 (0.0002, divPenalty=0.02, cardinalityPenalty=0, numSubdivsPenalty=0, levelPenalty=0)              </td></tr>\n",
       "<tr><td>0.084719</td><td>(2, 1, 2, 2)      </td><td>[«0.000:0.125 1/8♩ 4D tiedPrev», «0.125:0.500 3/8♩ 4C», «0.500:0.625 1/8♩ 4C#», «0.625:0.750 1/8♩ 4D», «0.750:0.875 1/8♩ 4D#», «0.875:1.000 1/8♩ 4E tiedNext»]      </td><td>[0, 1, 3, 4, 5, 6]    </td><td>gridError=0.0847, rhythmComplexity=0.0527 (numNotesAcrossSubdics=1, numTies=0), divPenalty=0.02 (0.0002, divPenalty=0.02, cardinalityPenalty=0, numSubdivsPenalty=0, levelPenalty=0)         </td></tr>\n",
       "</tbody>\n",
       "</table>"
      ],
      "text/plain": [
       "<IPython.core.display.HTML object>"
      ]
     },
     "metadata": {},
     "output_type": "display_data"
    },
    {
     "name": "stdout",
     "output_type": "stream",
     "text": [
      "Beat: 2 - 5/2 (dur: 1/2)\n",
      "Skipped 0 divisions with a div. penalty > 0.1\n",
      "Best 20 divisions: \n"
     ]
    },
    {
     "data": {
      "text/html": [
       "<table>\n",
       "<thead>\n",
       "<tr><th>error   </th><th>div         </th><th>makeSnappedNotation                                                                                                                                                             </th><th>slots       </th><th>info                                                                                                                                                                                </th></tr>\n",
       "</thead>\n",
       "<tbody>\n",
       "<tr><td>0.039593</td><td>(4, 1, 1)   </td><td>[«0.000:0.042 1/24♩ 4E tiedPrev», «0.042:0.167 1/8♩ 4F», «0.167:0.333 1/6♩ 4F#», «0.333:0.500 1/6♩ 4G»]                                                                         </td><td>[0, 1, 4, 5]</td><td>gridError=0.0395, rhythmComplexity=0 (numNotesAcrossSubdics=0, numTies=0), divPenalty=0.02 (0.0002, divPenalty=0.02, cardinalityPenalty=0, numSubdivsPenalty=0, levelPenalty=0)     </td></tr>\n",
       "<tr><td>0.039672</td><td>(6, 3)      </td><td>[«0.000:0.042 1/24♩ 4E tiedPrev», «0.042:0.167 1/8♩ 4F», «0.167:0.333 1/6♩ 4F#», «0.333:0.500 1/6♩ 4G»]                                                                         </td><td>[0, 1, 4, 7]</td><td>gridError=0.0395, rhythmComplexity=0.0791 (numNotesAcrossSubdics=1, numTies=0), divPenalty=0.02 (0.0002, divPenalty=0.02, cardinalityPenalty=0, numSubdivsPenalty=0, levelPenalty=0)</td></tr>\n",
       "<tr><td>0.040297</td><td>(3, 3, 3, 1)</td><td>[«0.000:0.042 1/24♩ 4E tiedPrev», «0.042:0.167 1/8♩ 4F», «0.167:0.333 1/6♩ 4F#», «0.333:0.500 1/6♩ 4G»]                                                                         </td><td>[0, 1, 4, 8]</td><td>gridError=0.0395, rhythmComplexity=0.237 (numNotesAcrossSubdics=3, numTies=0), divPenalty=0.02 (0.0002, divPenalty=0.02, cardinalityPenalty=0, numSubdivsPenalty=0, levelPenalty=0) </td></tr>\n",
       "<tr><td>0.091069</td><td>(3, 1, 1)   </td><td>[«0.000:0.056 1/18♩ 4E tiedPrev», «0.056:0.167 1/9♩ 4F», «0.167:0.333 1/6♩ 4F#», «0.333:0.500 1/6♩ 4G»]                                                                         </td><td>[0, 1, 3, 4]</td><td>gridError=0.091, rhythmComplexity=0 (numNotesAcrossSubdics=0, numTies=0), divPenalty=0.03 (0.0003, divPenalty=0, cardinalityPenalty=0, numSubdivsPenalty=0, levelPenalty=0.03)      </td></tr>\n",
       "<tr><td>0.091108</td><td>(9,)        </td><td>[«0.000:0.056 1/18♩ 4E tiedPrev», «0.056:0.167 1/9♩ 4F», «0.167:0.333 1/6♩ 4F#», «0.333:0.500 1/6♩ 4G»]                                                                         </td><td>[0, 1, 3, 6]</td><td>gridError=0.091, rhythmComplexity=0 (numNotesAcrossSubdics=0, numTies=0), divPenalty=0.04 (0.0004, divPenalty=0.04, cardinalityPenalty=0, numSubdivsPenalty=0, levelPenalty=0)      </td></tr>\n",
       "<tr><td>0.10099 </td><td>(6, 5)      </td><td>[«0.000:0.042 1/24♩ 4E tiedPrev», «0.042:0.167 1/8♩ 4F», «0.167:0.350 11/60♩ 4F#», «0.350:0.500 3/20♩ 4G»]                                                                      </td><td>[0, 1, 4, 8]</td><td>gridError=0.101, rhythmComplexity=0.25 (numNotesAcrossSubdics=1, numTies=1), divPenalty=0.04 (0.0004, divPenalty=0.04, cardinalityPenalty=0.1, numSubdivsPenalty=0, levelPenalty=0) </td></tr>\n",
       "<tr><td>0.10362 </td><td>(3, 2, 3, 1)</td><td>[«0.000:0.042 1/24♩ 4E tiedPrev», «0.042:0.188 7/48♩ 4F», «0.188:0.333 7/48♩ 4F#», «0.333:0.500 1/6♩ 4G»]                                                                       </td><td>[0, 1, 4, 7]</td><td>gridError=0.103, rhythmComplexity=0.237 (numNotesAcrossSubdics=3, numTies=0), divPenalty=0.02 (0.0002, divPenalty=0.02, cardinalityPenalty=0, numSubdivsPenalty=0, levelPenalty=0)  </td></tr>\n",
       "<tr><td>0.10938 </td><td>(3,)        </td><td>[«0.000:grace 4E tiedPrev properties={&#x27;.snappedGracenote&#x27;: True, &#x27;originalDuration&#x27;: Fraction(1, 30)}», «0.000:0.167 1/6♩ 4F», «0.167:0.333 1/6♩ 4F#», «0.333:0.500 1/6♩ 4G»]   </td><td>[0, 0, 1, 2]</td><td>gridError=0.109, rhythmComplexity=0.237 (numNotesAcrossSubdics=0, numTies=1), divPenalty=0 (0, divPenalty=0, cardinalityPenalty=0, numSubdivsPenalty=0, levelPenalty=0)             </td></tr>\n",
       "<tr><td>0.11479 </td><td>(6, 4)      </td><td>[«0.000:0.042 1/24♩ 4E tiedPrev», «0.042:0.167 1/8♩ 4F», «0.167:0.312 7/48♩ 4F#», «0.312:0.500 3/16♩ 4G»]                                                                       </td><td>[0, 1, 4, 7]</td><td>gridError=0.115, rhythmComplexity=0.0791 (numNotesAcrossSubdics=1, numTies=0), divPenalty=0.04 (0.0004, divPenalty=0.04, cardinalityPenalty=0, numSubdivsPenalty=0, levelPenalty=0) </td></tr>\n",
       "<tr><td>0.11495 </td><td>(3, 3, 2, 1)</td><td>[«0.000:0.042 1/24♩ 4E tiedPrev», «0.042:0.167 1/8♩ 4F», «0.167:0.312 7/48♩ 4F#», «0.312:0.500 3/16♩ 4G»]                                                                       </td><td>[0, 1, 4, 7]</td><td>gridError=0.115, rhythmComplexity=0.237 (numNotesAcrossSubdics=3, numTies=0), divPenalty=0.02 (0.0002, divPenalty=0.02, cardinalityPenalty=0, numSubdivsPenalty=0, levelPenalty=0)  </td></tr>\n",
       "<tr><td>0.1152  </td><td>(2, 3, 3, 1)</td><td>[«0.000:0.062 1/16♩ 4E tiedPrev», «0.062:0.167 5/48♩ 4F», «0.167:0.333 1/6♩ 4F#», «0.333:0.500 1/6♩ 4G»]                                                                        </td><td>[0, 1, 3, 7]</td><td>gridError=0.115, rhythmComplexity=0.335 (numNotesAcrossSubdics=3, numTies=1), divPenalty=0.02 (0.0002, divPenalty=0.02, cardinalityPenalty=0, numSubdivsPenalty=0, levelPenalty=0)  </td></tr>\n",
       "<tr><td>0.12873 </td><td>(5, 3)      </td><td>[«0.000:0.050 1/20♩ 4E tiedPrev», «0.050:0.150 1/10♩ 4F», «0.150:0.333 11/60♩ 4F#», «0.333:0.500 1/6♩ 4G»]                                                                      </td><td>[0, 1, 3, 6]</td><td>gridError=0.128, rhythmComplexity=0.25 (numNotesAcrossSubdics=1, numTies=1), divPenalty=0.02 (0.0002, divPenalty=0.02, cardinalityPenalty=0.1, numSubdivsPenalty=0, levelPenalty=0) </td></tr>\n",
       "<tr><td>0.15651 </td><td>(4, 3)      </td><td>[«0.000:0.062 1/16♩ 4E tiedPrev», «0.062:0.188 1/8♩ 4F», «0.188:0.333 7/48♩ 4F#», «0.333:0.500 1/6♩ 4G»]                                                                        </td><td>[0, 1, 3, 5]</td><td>gridError=0.156, rhythmComplexity=0.0791 (numNotesAcrossSubdics=1, numTies=0), divPenalty=0.02 (0.0002, divPenalty=0.02, cardinalityPenalty=0, numSubdivsPenalty=0, levelPenalty=0) </td></tr>\n",
       "<tr><td>0.15667 </td><td>(2, 2, 3, 1)</td><td>[«0.000:0.062 1/16♩ 4E tiedPrev», «0.062:0.188 1/8♩ 4F», «0.188:0.333 7/48♩ 4F#», «0.333:0.500 1/6♩ 4G»]                                                                        </td><td>[0, 1, 3, 6]</td><td>gridError=0.156, rhythmComplexity=0.237 (numNotesAcrossSubdics=3, numTies=0), divPenalty=0.02 (0.0002, divPenalty=0.02, cardinalityPenalty=0, numSubdivsPenalty=0, levelPenalty=0)  </td></tr>\n",
       "<tr><td>0.16209 </td><td>(3, 5)      </td><td>[«0.000:grace 4E tiedPrev properties={&#x27;.snappedGracenote&#x27;: True, &#x27;originalDuration&#x27;: Fraction(1, 30)}», «0.000:0.167 1/6♩ 4F», «0.167:0.350 11/60♩ 4F#», «0.350:0.500 3/20♩ 4G»]</td><td>[0, 0, 2, 5]</td><td>gridError=0.162, rhythmComplexity=0.25 (numNotesAcrossSubdics=1, numTies=1), divPenalty=0.02 (0.0002, divPenalty=0.02, cardinalityPenalty=0.1, numSubdivsPenalty=0, levelPenalty=0) </td></tr>\n",
       "<tr><td>0.17061 </td><td>(3, 2, 2, 1)</td><td>[«0.000:0.042 1/24♩ 4E tiedPrev», «0.042:0.188 7/48♩ 4F», «0.188:0.312 1/8♩ 4F#», «0.312:0.500 3/16♩ 4G»]                                                                       </td><td>[0, 1, 4, 6]</td><td>gridError=0.17, rhythmComplexity=0.237 (numNotesAcrossSubdics=3, numTies=0), divPenalty=0.02 (0.0002, divPenalty=0.02, cardinalityPenalty=0, numSubdivsPenalty=0, levelPenalty=0)   </td></tr>\n",
       "<tr><td>0.17379 </td><td>(5, 4)      </td><td>[«0.000:0.050 1/20♩ 4E tiedPrev», «0.050:0.150 1/10♩ 4F», «0.150:0.312 13/80♩ 4F#», «0.312:0.500 3/16♩ 4G»]                                                                     </td><td>[0, 1, 3, 6]</td><td>gridError=0.174, rhythmComplexity=0.25 (numNotesAcrossSubdics=1, numTies=1), divPenalty=0.04 (0.0004, divPenalty=0.04, cardinalityPenalty=0, numSubdivsPenalty=0, levelPenalty=0)   </td></tr>\n",
       "<tr><td>0.17474 </td><td>(3, 4)      </td><td>[«0.000:grace 4E tiedPrev properties={&#x27;.snappedGracenote&#x27;: True, &#x27;originalDuration&#x27;: Fraction(1, 30)}», «0.000:0.167 1/6♩ 4F», «0.167:0.312 7/48♩ 4F#», «0.312:0.500 3/16♩ 4G»] </td><td>[0, 0, 2, 4]</td><td>gridError=0.175, rhythmComplexity=0.0791 (numNotesAcrossSubdics=1, numTies=0), divPenalty=0.02 (0.0002, divPenalty=0.02, cardinalityPenalty=0, numSubdivsPenalty=0, levelPenalty=0) </td></tr>\n",
       "<tr><td>0.1814  </td><td>(5, 5)      </td><td>[«0.000:0.050 1/20♩ 4E tiedPrev», «0.050:0.150 1/10♩ 4F», «0.150:0.350 1/5♩ 4F#», «0.350:0.500 3/20♩ 4G»]                                                                       </td><td>[0, 1, 3, 7]</td><td>gridError=0.181, rhythmComplexity=0.0791 (numNotesAcrossSubdics=1, numTies=0), divPenalty=0.04 (0.0004, divPenalty=0.04, cardinalityPenalty=0, numSubdivsPenalty=0, levelPenalty=0) </td></tr>\n",
       "<tr><td>0.18166 </td><td>(2, 3, 2, 1)</td><td>[«0.000:0.062 1/16♩ 4E tiedPrev», «0.062:0.167 5/48♩ 4F», «0.167:0.312 7/48♩ 4F#», «0.312:0.500 3/16♩ 4G»]                                                                      </td><td>[0, 1, 3, 6]</td><td>gridError=0.181, rhythmComplexity=0.335 (numNotesAcrossSubdics=3, numTies=1), divPenalty=0.02 (0.0002, divPenalty=0.02, cardinalityPenalty=0, numSubdivsPenalty=0, levelPenalty=0)  </td></tr>\n",
       "</tbody>\n",
       "</table>"
      ],
      "text/plain": [
       "<IPython.core.display.HTML object>"
      ]
     },
     "metadata": {},
     "output_type": "display_data"
    },
    {
     "name": "stdout",
     "output_type": "stream",
     "text": [
      "Error: 0.006200078492343227, division: [Fraction(1, 2), Fraction(1, 1)]\n",
      "Error: 0.05887492237155008, division: [Fraction(1, 1), Fraction(1, 2)]\n",
      "Node(1/1, \n",
      "  «0.000:0.375 3/8♩ 4D»\n",
      "  «0.375:0.750 3/8♩ 4C»\n",
      "  «0.750:1.000 1/4♩ 4D tiedNext»\n",
      ") Node(1/1, \n",
      "  «1.000:1.125 1/8♩ 4D tiedPrev»\n",
      "  «1.125:1.500 3/8♩ 4C»\n",
      ") acrossBeat=True, syncopated=True\n",
      "Node(5/4, \n",
      "  «1.500:1.633 2/15♩ 3/2,5/4 4C#»\n",
      "  «1.633:1.767 2/15♩ 3/2,5/4 4D»\n",
      "  «1.767:1.833 1/15♩ 3/2,5/4 4D# tiedNext»\n",
      ") Node(5/4, \n",
      "  «1.833:1.900 1/15♩ 3/2,5/4 4D# tiedPrev»\n",
      "  «1.900:2.033 2/15♩ 3/2,5/4 4E»\n",
      "  «2.033:2.167 2/15♩ 3/2,5/4 4F»\n",
      ") acrossBeat=False, syncopated=True\n"
     ]
    },
    {
     "data": {
      "text/html": [
       "<b>LilypondRenderer</b> (1 part)<br>\n",
       "        <img style=\"display:inline; padding:10px;\n",
       "margin-top:14px;\n",
       "width:1028.0\"\n",
       "             src=\"data:image/png;base64,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\"/>"
      ],
      "text/plain": [
       "<maelzel.scoring.renderlily.LilypondRenderer at 0x7f49e58bde50>"
      ]
     },
     "execution_count": 7,
     "metadata": {},
     "output_type": "execute_result"
    }
   ],
   "source": [
    "from maelzel import scoring\n",
    "from maelzel.scorestruct import ScoreStruct\n",
    "from maelzel.common import F\n",
    "from maelzel.scoring import makeNote\n",
    "from maelzel.scoring import spanner \n",
    "\n",
    "notes = [\n",
    "    makeNote(62, F(3, 4)*F(1, 2)),\n",
    "    makeNote(60, F(3, 4)*F(1, 2)),\n",
    "    makeNote(62, F(3, 4)*F(1, 2)),\n",
    "    makeNote(60, F(3, 4)*F(1, 2)),\n",
    "    \n",
    "    makeNote(61, F(2, 3)*F(1, 5)),\n",
    "    makeNote(62, F(2, 3)*F(1, 5)),\n",
    "    makeNote(63, F(2, 3)*F(1, 5)),\n",
    "    makeNote(64, F(2, 3)*F(1, 5)),\n",
    "    makeNote(65, F(2, 3)*F(1, 5)),\n",
    "    makeNote(66, F(2, 3)*F(1, 4)),\n",
    "    makeNote(67, F(2, 3)*F(1, 4)), \n",
    "    \n",
    "]\n",
    "\n",
    "struct = ScoreStruct(timesig='7/8', tempo=52)\n",
    "struct.getMeasureDef(0).subdivisionStructure = (2, 3, 2)\n",
    "\n",
    "part = scoring.Part(notes)\n",
    "quantprofile = scoring.quant.QuantizationProfile.fromPreset('high', debug=True, debugMaxDivisions=20, maxDivPenalty=0.1)\n",
    "quantprofile.maxGridDensity = 32\n",
    "quantprofile.mergeTupletsOfDifferentDuration = True\n",
    "qpart = scoring.quant.quantizePart(part, struct=struct, quantprofile=quantprofile)\n",
    "options = scoring.render.RenderOptions()\n",
    "score = scoring.quant.QuantizedScore([qpart])\n",
    "r = scoring.render.renderQuantizedScore(score, options)\n",
    "#score.dump()\n",
    "r# .write('~/tmp/quant.ly')"
   ]
  },
  {
   "cell_type": "code",
   "execution_count": 6,
   "id": "486f546a-5b2d-4514-8c49-ad3b42a5b287",
   "metadata": {},
   "outputs": [
    {
     "name": "stdout",
     "output_type": "stream",
     "text": [
      "Beat: 0 - 1 (dur: 1)\n",
      "Skipped 0 divisions with a div. penalty > 0.1\n",
      "Best 20 divisions: \n"
     ]
    },
    {
     "data": {
      "text/html": [
       "<table>\n",
       "<thead>\n",
       "<tr><th>error    </th><th>div               </th><th>makeSnappedNotation                                                                 </th><th>slots     </th><th>info                                                                                                                                                                                         </th></tr>\n",
       "</thead>\n",
       "<tbody>\n",
       "<tr><td>0.003    </td><td>(1, 1, 3)         </td><td>[«0.000:0.667 2/3♩ 4C», «0.667:0.889 2/9♩ 4C#», «0.889:1.000 1/9♩ 4D tiedNext»]     </td><td>[0, 2, 4] </td><td>gridError=0, rhythmComplexity=0 (numNotesAcrossSubdics=0, numTies=0), divPenalty=0.03 (0.0003, divPenalty=0, cardinalityPenalty=0, numSubdivsPenalty=0, levelPenalty=0.03)                   </td></tr>\n",
       "<tr><td>0.004    </td><td>(9,)              </td><td>[«0.000:0.667 2/3♩ 4C», «0.667:0.889 2/9♩ 4C#», «0.889:1.000 1/9♩ 4D tiedNext»]     </td><td>[0, 6, 8] </td><td>gridError=0, rhythmComplexity=0 (numNotesAcrossSubdics=0, numTies=0), divPenalty=0.04 (0.0004, divPenalty=0.04, cardinalityPenalty=0, numSubdivsPenalty=0, levelPenalty=0)                   </td></tr>\n",
       "<tr><td>0.0049103</td><td>(1, 1, 1, 1, 1, 3)</td><td>[«0.000:0.667 2/3♩ 4C», «0.667:0.889 2/9♩ 4C#», «0.889:1.000 1/9♩ 4D tiedNext»]     </td><td>[0, 4, 6] </td><td>gridError=0, rhythmComplexity=0.105 (numNotesAcrossSubdics=1, numTies=0), divPenalty=0.0361 (0.0003606, divPenalty=0.02, cardinalityPenalty=0, numSubdivsPenalty=0, levelPenalty=0.03)       </td></tr>\n",
       "<tr><td>0.0293   </td><td>(1, 1, 1, 3, 2)   </td><td>[«0.000:0.667 2/3♩ 4C», «0.667:0.900 7/30♩ 4C#», «0.900:1.000 1/10♩ 4D tiedNext»]   </td><td>[0, 4, 7] </td><td>gridError=0.028, rhythmComplexity=0.211 (numNotesAcrossSubdics=2, numTies=0), divPenalty=0.0541 (0.0005408, divPenalty=0.02, cardinalityPenalty=0.1, numSubdivsPenalty=0, levelPenalty=0.03) </td></tr>\n",
       "<tr><td>0.035368 </td><td>(1, 1, 8)         </td><td>[«0.000:0.667 2/3♩ 4C», «0.667:0.875 5/24♩ 4C#», «0.875:1.000 1/8♩ 4D tiedNext»]    </td><td>[0, 2, 7] </td><td>gridError=0.0339, rhythmComplexity=0.316 (numNotesAcrossSubdics=0, numTies=1), divPenalty=0.02 (0.0002, divPenalty=0.02, cardinalityPenalty=0, numSubdivsPenalty=0, levelPenalty=0)          </td></tr>\n",
       "<tr><td>0.035693 </td><td>(1, 1, 1, 1, 1, 4)</td><td>[«0.000:0.667 2/3♩ 4C», «0.667:0.875 5/24♩ 4C#», «0.875:1.000 1/8♩ 4D tiedNext»]    </td><td>[0, 4, 6] </td><td>gridError=0.0339, rhythmComplexity=0.333 (numNotesAcrossSubdics=1, numTies=1), divPenalty=0.04 (0.0004, divPenalty=0.04, cardinalityPenalty=0, numSubdivsPenalty=0, levelPenalty=0)          </td></tr>\n",
       "<tr><td>0.035991 </td><td>(1, 1, 3, 2)      </td><td>[«0.000:0.667 2/3♩ 4C», «0.667:0.875 5/24♩ 4C#», «0.875:1.000 1/8♩ 4D tiedNext»]    </td><td>[0, 4, 6] </td><td>gridError=0.0339, rhythmComplexity=0.38 (numNotesAcrossSubdics=2, numTies=1), divPenalty=0.02 (0.0002, divPenalty=0.02, cardinalityPenalty=0, numSubdivsPenalty=0, levelPenalty=0)           </td></tr>\n",
       "<tr><td>0.039397 </td><td>(1, 1, 7)         </td><td>[«0.000:0.667 2/3♩ 4C», «0.667:0.905 5/21♩ 4C#», «0.905:1.000 2/21♩ 4D tiedNext»]   </td><td>[0, 2, 7] </td><td>gridError=0.0379, rhythmComplexity=0.316 (numNotesAcrossSubdics=0, numTies=1), divPenalty=0.0361 (0.0003606, divPenalty=0.02, cardinalityPenalty=0.1, numSubdivsPenalty=0, levelPenalty=0.03)</td></tr>\n",
       "<tr><td>0.050625 </td><td>(1, 1, 5)         </td><td>[«0.000:0.667 2/3♩ 4C», «0.667:0.867 1/5♩ 4C#», «0.867:1.000 2/15♩ 4D tiedNext»]    </td><td>[0, 2, 5] </td><td>gridError=0.0505, rhythmComplexity=0 (numNotesAcrossSubdics=0, numTies=0), divPenalty=0.0361 (0.0003606, divPenalty=0.02, cardinalityPenalty=0.1, numSubdivsPenalty=0, levelPenalty=0.03)    </td></tr>\n",
       "<tr><td>0.051577 </td><td>(1, 1, 1, 3, 3)   </td><td>[«0.000:0.667 2/3♩ 4C», «0.667:0.867 1/5♩ 4C#», «0.867:1.000 2/15♩ 4D tiedNext»]    </td><td>[0, 4, 7] </td><td>gridError=0.0505, rhythmComplexity=0.211 (numNotesAcrossSubdics=2, numTies=0), divPenalty=0.0811 (0.0008112, divPenalty=0.02, cardinalityPenalty=0.1, numSubdivsPenalty=0, levelPenalty=0.03)</td></tr>\n",
       "<tr><td>0.061075 </td><td>(1, 1, 4)         </td><td>[«0.000:0.667 2/3♩ 4C», «0.667:0.917 1/4♩ 4C#», «0.917:1.000 1/12♩ 4D tiedNext»]    </td><td>[0, 2, 5] </td><td>gridError=0.061, rhythmComplexity=0 (numNotesAcrossSubdics=0, numTies=0), divPenalty=0.02 (0.0002, divPenalty=0.02, cardinalityPenalty=0, numSubdivsPenalty=0, levelPenalty=0)               </td></tr>\n",
       "<tr><td>0.061166 </td><td>(1, 1, 1, 1, 1, 2)</td><td>[«0.000:0.667 2/3♩ 4C», «0.667:0.917 1/4♩ 4C#», «0.917:1.000 1/12♩ 4D tiedNext»]    </td><td>[0, 4, 6] </td><td>gridError=0.061, rhythmComplexity=0.105 (numNotesAcrossSubdics=1, numTies=0), divPenalty=0.02 (0.0002, divPenalty=0.02, cardinalityPenalty=0, numSubdivsPenalty=0, levelPenalty=0)           </td></tr>\n",
       "<tr><td>0.062343 </td><td>(1, 1, 1, 4, 2)   </td><td>[«0.000:0.650 13/20♩ 4C», «0.650:0.900 1/4♩ 4C#», «0.900:1.000 1/10♩ 4D tiedNext»]  </td><td>[0, 4, 8] </td><td>gridError=0.061, rhythmComplexity=0.38 (numNotesAcrossSubdics=2, numTies=1), divPenalty=0.04 (0.0004, divPenalty=0.04, cardinalityPenalty=0, numSubdivsPenalty=0, levelPenalty=0)            </td></tr>\n",
       "<tr><td>0.07335  </td><td>(1, 1, 1, 4, 3)   </td><td>[«0.000:0.650 13/20♩ 4C», «0.650:0.867 13/60♩ 4C#», «0.867:1.000 2/15♩ 4D tiedNext»]</td><td>[0, 4, 8] </td><td>gridError=0.0699, rhythmComplexity=0.667 (numNotesAcrossSubdics=2, numTies=2), divPenalty=0.075 (0.00075, divPenalty=0.04, cardinalityPenalty=0.1, numSubdivsPenalty=0, levelPenalty=0.03)   </td></tr>\n",
       "<tr><td>0.08332  </td><td>(1, 1, 1, 2, 2)   </td><td>[«0.000:0.700 7/10♩ 4C», «0.700:0.900 1/5♩ 4C#», «0.900:1.000 1/10♩ 4D tiedNext»]   </td><td>[0, 4, 6] </td><td>gridError=0.083, rhythmComplexity=0.211 (numNotesAcrossSubdics=2, numTies=0), divPenalty=0.02 (0.0002, divPenalty=0.02, cardinalityPenalty=0, numSubdivsPenalty=0, levelPenalty=0)           </td></tr>\n",
       "<tr><td>0.10089  </td><td>(8,)              </td><td>[«0.000:0.625 5/8♩ 4C», «0.625:0.875 1/4♩ 4C#», «0.875:1.000 1/8♩ 4D tiedNext»]     </td><td>[0, 5, 7] </td><td>gridError=0.1, rhythmComplexity=0.316 (numNotesAcrossSubdics=0, numTies=1), divPenalty=0.02 (0.0002, divPenalty=0.02, cardinalityPenalty=0, numSubdivsPenalty=0, levelPenalty=0)             </td></tr>\n",
       "<tr><td>0.10111  </td><td>(1, 1, 2, 2)      </td><td>[«0.000:0.625 5/8♩ 4C», «0.625:0.875 1/4♩ 4C#», «0.875:1.000 1/8♩ 4D tiedNext»]     </td><td>[0, 3, 5] </td><td>gridError=0.1, rhythmComplexity=0.38 (numNotesAcrossSubdics=2, numTies=1), divPenalty=0.02 (0.0002, divPenalty=0.02, cardinalityPenalty=0, numSubdivsPenalty=0, levelPenalty=0)              </td></tr>\n",
       "<tr><td>0.10196  </td><td>(11,)             </td><td>[«0.000:0.636 7/11♩ 4C», «0.636:0.909 3/11♩ 4C#», «0.909:1.000 1/11♩ 4D tiedNext»]  </td><td>[0, 7, 10]</td><td>gridError=0.101, rhythmComplexity=0 (numNotesAcrossSubdics=0, numTies=0), divPenalty=0.1 (0.001, divPenalty=0.1, cardinalityPenalty=0, numSubdivsPenalty=0, levelPenalty=0)                  </td></tr>\n",
       "<tr><td>0.11003  </td><td>(1, 1, 2)         </td><td>[«0.000:0.667 2/3♩ 4C», «0.667:0.833 1/6♩ 4C#», «0.833:1.000 1/6♩ 4D tiedNext»]     </td><td>[0, 2, 3] </td><td>gridError=0.11, rhythmComplexity=0 (numNotesAcrossSubdics=0, numTies=0), divPenalty=0 (0, divPenalty=0, cardinalityPenalty=0, numSubdivsPenalty=0, levelPenalty=0)                           </td></tr>\n",
       "<tr><td>0.11005  </td><td>(6,)              </td><td>[«0.000:0.667 2/3♩ 4C», «0.667:0.833 1/6♩ 4C#», «0.833:1.000 1/6♩ 4D tiedNext»]     </td><td>[0, 4, 5] </td><td>gridError=0.11, rhythmComplexity=0 (numNotesAcrossSubdics=0, numTies=0), divPenalty=0.02 (0.0002, divPenalty=0.02, cardinalityPenalty=0, numSubdivsPenalty=0, levelPenalty=0)                </td></tr>\n",
       "</tbody>\n",
       "</table>"
      ],
      "text/plain": [
       "<IPython.core.display.HTML object>"
      ]
     },
     "metadata": {},
     "output_type": "display_data"
    },
    {
     "name": "stdout",
     "output_type": "stream",
     "text": [
      "Beat: 1 - 2 (dur: 1)\n",
      "Skipped 0 divisions with a div. penalty > 0.1\n",
      "Best 20 divisions: \n"
     ]
    },
    {
     "data": {
      "text/html": [
       "<table>\n",
       "<thead>\n",
       "<tr><th>error    </th><th>div               </th><th>makeSnappedNotation                                                                 </th><th>slots    </th><th>info                                                                                                                                                                                         </th></tr>\n",
       "</thead>\n",
       "<tbody>\n",
       "<tr><td>0.003    </td><td>(3, 1, 1)         </td><td>[«0.000:0.111 1/9♩ 4D tiedPrev», «0.111:0.333 2/9♩ 4D#», «0.333:1.000 2/3♩ 4E»]     </td><td>[0, 1, 3]</td><td>gridError=0, rhythmComplexity=0 (numNotesAcrossSubdics=0, numTies=0), divPenalty=0.03 (0.0003, divPenalty=0, cardinalityPenalty=0, numSubdivsPenalty=0, levelPenalty=0.03)                   </td></tr>\n",
       "<tr><td>0.004    </td><td>(9,)              </td><td>[«0.000:0.111 1/9♩ 4D tiedPrev», «0.111:0.333 2/9♩ 4D#», «0.333:1.000 2/3♩ 4E»]     </td><td>[0, 1, 3]</td><td>gridError=0, rhythmComplexity=0 (numNotesAcrossSubdics=0, numTies=0), divPenalty=0.04 (0.0004, divPenalty=0.04, cardinalityPenalty=0, numSubdivsPenalty=0, levelPenalty=0)                   </td></tr>\n",
       "<tr><td>0.0049103</td><td>(3, 1, 1, 1, 1, 1)</td><td>[«0.000:0.111 1/9♩ 4D tiedPrev», «0.111:0.333 2/9♩ 4D#», «0.333:1.000 2/3♩ 4E»]     </td><td>[0, 2, 4]</td><td>gridError=0, rhythmComplexity=0.105 (numNotesAcrossSubdics=1, numTies=0), divPenalty=0.0361 (0.0003606, divPenalty=0.02, cardinalityPenalty=0, numSubdivsPenalty=0, levelPenalty=0.03)       </td></tr>\n",
       "<tr><td>0.0293   </td><td>(2, 3, 1, 1, 1)   </td><td>[«0.000:0.100 1/10♩ 4D tiedPrev», «0.100:0.333 7/30♩ 4D#», «0.333:1.000 2/3♩ 4E»]   </td><td>[0, 1, 4]</td><td>gridError=0.028, rhythmComplexity=0.211 (numNotesAcrossSubdics=2, numTies=0), divPenalty=0.0541 (0.0005408, divPenalty=0.02, cardinalityPenalty=0.1, numSubdivsPenalty=0, levelPenalty=0.03) </td></tr>\n",
       "<tr><td>0.035368 </td><td>(8, 1, 1)         </td><td>[«0.000:0.125 1/8♩ 4D tiedPrev», «0.125:0.333 5/24♩ 4D#», «0.333:1.000 2/3♩ 4E»]    </td><td>[0, 3, 8]</td><td>gridError=0.0339, rhythmComplexity=0.316 (numNotesAcrossSubdics=0, numTies=1), divPenalty=0.02 (0.0002, divPenalty=0.02, cardinalityPenalty=0, numSubdivsPenalty=0, levelPenalty=0)          </td></tr>\n",
       "<tr><td>0.035693 </td><td>(4, 1, 1, 1, 1, 1)</td><td>[«0.000:0.125 1/8♩ 4D tiedPrev», «0.125:0.333 5/24♩ 4D#», «0.333:1.000 2/3♩ 4E»]    </td><td>[0, 3, 5]</td><td>gridError=0.0339, rhythmComplexity=0.333 (numNotesAcrossSubdics=1, numTies=1), divPenalty=0.04 (0.0004, divPenalty=0.04, cardinalityPenalty=0, numSubdivsPenalty=0, levelPenalty=0)          </td></tr>\n",
       "<tr><td>0.039397 </td><td>(7, 1, 1)         </td><td>[«0.000:0.095 2/21♩ 4D tiedPrev», «0.095:0.333 5/21♩ 4D#», «0.333:1.000 2/3♩ 4E»]   </td><td>[0, 2, 7]</td><td>gridError=0.0379, rhythmComplexity=0.316 (numNotesAcrossSubdics=0, numTies=1), divPenalty=0.0361 (0.0003606, divPenalty=0.02, cardinalityPenalty=0.1, numSubdivsPenalty=0, levelPenalty=0.03)</td></tr>\n",
       "<tr><td>0.050625 </td><td>(5, 1, 1)         </td><td>[«0.000:0.133 2/15♩ 4D tiedPrev», «0.133:0.333 1/5♩ 4D#», «0.333:1.000 2/3♩ 4E»]    </td><td>[0, 2, 5]</td><td>gridError=0.0505, rhythmComplexity=0 (numNotesAcrossSubdics=0, numTies=0), divPenalty=0.0361 (0.0003606, divPenalty=0.02, cardinalityPenalty=0.1, numSubdivsPenalty=0, levelPenalty=0.03)    </td></tr>\n",
       "<tr><td>0.051577 </td><td>(3, 3, 1, 1, 1)   </td><td>[«0.000:0.133 2/15♩ 4D tiedPrev», «0.133:0.333 1/5♩ 4D#», «0.333:1.000 2/3♩ 4E»]    </td><td>[0, 2, 5]</td><td>gridError=0.0505, rhythmComplexity=0.211 (numNotesAcrossSubdics=2, numTies=0), divPenalty=0.0811 (0.0008112, divPenalty=0.02, cardinalityPenalty=0.1, numSubdivsPenalty=0, levelPenalty=0.03)</td></tr>\n",
       "<tr><td>0.061075 </td><td>(4, 1, 1)         </td><td>[«0.000:0.083 1/12♩ 4D tiedPrev», «0.083:0.333 1/4♩ 4D#», «0.333:1.000 2/3♩ 4E»]    </td><td>[0, 1, 4]</td><td>gridError=0.061, rhythmComplexity=0 (numNotesAcrossSubdics=0, numTies=0), divPenalty=0.02 (0.0002, divPenalty=0.02, cardinalityPenalty=0, numSubdivsPenalty=0, levelPenalty=0)               </td></tr>\n",
       "<tr><td>0.061166 </td><td>(2, 1, 1, 1, 1, 1)</td><td>[«0.000:0.083 1/12♩ 4D tiedPrev», «0.083:0.333 1/4♩ 4D#», «0.333:1.000 2/3♩ 4E»]    </td><td>[0, 1, 3]</td><td>gridError=0.061, rhythmComplexity=0.105 (numNotesAcrossSubdics=1, numTies=0), divPenalty=0.02 (0.0002, divPenalty=0.02, cardinalityPenalty=0, numSubdivsPenalty=0, levelPenalty=0)           </td></tr>\n",
       "<tr><td>0.062343 </td><td>(2, 4, 1, 1, 1)   </td><td>[«0.000:0.100 1/10♩ 4D tiedPrev», «0.100:0.350 1/4♩ 4D#», «0.350:1.000 13/20♩ 4E»]  </td><td>[0, 1, 5]</td><td>gridError=0.061, rhythmComplexity=0.38 (numNotesAcrossSubdics=2, numTies=1), divPenalty=0.04 (0.0004, divPenalty=0.04, cardinalityPenalty=0, numSubdivsPenalty=0, levelPenalty=0)            </td></tr>\n",
       "<tr><td>0.07335  </td><td>(3, 4, 1, 1, 1)   </td><td>[«0.000:0.133 2/15♩ 4D tiedPrev», «0.133:0.350 13/60♩ 4D#», «0.350:1.000 13/20♩ 4E»]</td><td>[0, 2, 6]</td><td>gridError=0.0699, rhythmComplexity=0.667 (numNotesAcrossSubdics=2, numTies=2), divPenalty=0.075 (0.00075, divPenalty=0.04, cardinalityPenalty=0.1, numSubdivsPenalty=0, levelPenalty=0.03)   </td></tr>\n",
       "<tr><td>0.08332  </td><td>(2, 2, 1, 1, 1)   </td><td>[«0.000:0.100 1/10♩ 4D tiedPrev», «0.100:0.300 1/5♩ 4D#», «0.300:1.000 7/10♩ 4E»]   </td><td>[0, 1, 3]</td><td>gridError=0.083, rhythmComplexity=0.211 (numNotesAcrossSubdics=2, numTies=0), divPenalty=0.02 (0.0002, divPenalty=0.02, cardinalityPenalty=0, numSubdivsPenalty=0, levelPenalty=0)           </td></tr>\n",
       "<tr><td>0.10089  </td><td>(8,)              </td><td>[«0.000:0.125 1/8♩ 4D tiedPrev», «0.125:0.375 1/4♩ 4D#», «0.375:1.000 5/8♩ 4E»]     </td><td>[0, 1, 3]</td><td>gridError=0.1, rhythmComplexity=0.316 (numNotesAcrossSubdics=0, numTies=1), divPenalty=0.02 (0.0002, divPenalty=0.02, cardinalityPenalty=0, numSubdivsPenalty=0, levelPenalty=0)             </td></tr>\n",
       "<tr><td>0.10196  </td><td>(11,)             </td><td>[«0.000:0.091 1/11♩ 4D tiedPrev», «0.091:0.364 3/11♩ 4D#», «0.364:1.000 7/11♩ 4E»]  </td><td>[0, 1, 4]</td><td>gridError=0.101, rhythmComplexity=0 (numNotesAcrossSubdics=0, numTies=0), divPenalty=0.1 (0.001, divPenalty=0.1, cardinalityPenalty=0, numSubdivsPenalty=0, levelPenalty=0)                  </td></tr>\n",
       "<tr><td>0.11003  </td><td>(2, 1, 1)         </td><td>[«0.000:0.167 1/6♩ 4D tiedPrev», «0.167:0.333 1/6♩ 4D#», «0.333:1.000 2/3♩ 4E»]     </td><td>[0, 1, 2]</td><td>gridError=0.11, rhythmComplexity=0 (numNotesAcrossSubdics=0, numTies=0), divPenalty=0 (0, divPenalty=0, cardinalityPenalty=0, numSubdivsPenalty=0, levelPenalty=0)                           </td></tr>\n",
       "<tr><td>0.11005  </td><td>(6,)              </td><td>[«0.000:0.167 1/6♩ 4D tiedPrev», «0.167:0.333 1/6♩ 4D#», «0.333:1.000 2/3♩ 4E»]     </td><td>[0, 1, 2]</td><td>gridError=0.11, rhythmComplexity=0 (numNotesAcrossSubdics=0, numTies=0), divPenalty=0.02 (0.0002, divPenalty=0.02, cardinalityPenalty=0, numSubdivsPenalty=0, levelPenalty=0)                </td></tr>\n",
       "<tr><td>0.11036  </td><td>(3, 2, 1, 1, 1)   </td><td>[«0.000:0.133 2/15♩ 4D tiedPrev», «0.133:0.300 1/6♩ 4D#», «0.300:1.000 7/10♩ 4E»]   </td><td>[0, 2, 4]</td><td>gridError=0.11, rhythmComplexity=0.211 (numNotesAcrossSubdics=2, numTies=0), divPenalty=0.0541 (0.0005408, divPenalty=0.02, cardinalityPenalty=0.1, numSubdivsPenalty=0, levelPenalty=0.03)  </td></tr>\n",
       "<tr><td>0.14935  </td><td>(7,)              </td><td>[«0.000:0.143 1/7♩ 4D tiedPrev», «0.143:0.286 1/7♩ 4D#», «0.286:1.000 5/7♩ 4E»]     </td><td>[0, 1, 2]</td><td>gridError=0.149, rhythmComplexity=0.316 (numNotesAcrossSubdics=0, numTies=1), divPenalty=0.02 (0.0002, divPenalty=0.02, cardinalityPenalty=0, numSubdivsPenalty=0, levelPenalty=0)           </td></tr>\n",
       "</tbody>\n",
       "</table>"
      ],
      "text/plain": [
       "<IPython.core.display.HTML object>"
      ]
     },
     "metadata": {},
     "output_type": "display_data"
    },
    {
     "name": "stdout",
     "output_type": "stream",
     "text": [
      "Node(3/2, \n",
      "  «0.000:0.667 2/3♩ 3/2 4C»\n",
      "  Node(3/2, \n",
      "    «0.667:0.889 2/9♩ 3/2,3/2 4C#»\n",
      "    «0.889:1.000 1/9♩ 3/2,3/2 4D tiedNext»\n",
      "  )\n",
      ") Node(3/2, \n",
      "  Node(3/2, \n",
      "    «1.000:1.111 1/9♩ 3/2,3/2 4D tiedPrev»\n",
      "    «1.111:1.333 2/9♩ 3/2,3/2 4D#»\n",
      "  )\n",
      "  «1.333:2.000 2/3♩ 3/2 4E»\n",
      ") acrossBeat=True, syncopated=True\n",
      "Node(3/2, \n",
      "  «0.667:0.889 2/9♩ 3/2,3/2 4C#»\n",
      "  «0.889:1.000 1/9♩ 3/2,3/2 4D tiedNext»\n",
      ") Node(3/2, \n",
      "  «1.000:1.111 1/9♩ 3/2,3/2 4D tiedPrev»\n",
      "  «1.111:1.333 2/9♩ 3/2,3/2 4D#»\n",
      ") acrossBeat=True, syncopated=True\n",
      "Node(3/2, \n",
      "  «0.667:0.889 2/9♩ 3/2,3/2 4C#»\n",
      "  «0.889:1.000 1/9♩ 3/2,3/2 4D tiedNext»\n",
      ") Node(3/2, \n",
      "  «1.000:1.111 1/9♩ 3/2,3/2 4D tiedPrev»\n",
      "  «1.111:1.333 2/9♩ 3/2,3/2 4D#»\n",
      ") acrossBeat=True, syncopated=True\n"
     ]
    },
    {
     "data": {
      "text/html": [
       "<b>LilypondRenderer</b> (1 part)<br>\n",
       "        <img style=\"display:inline; padding:10px;\n",
       "margin-top:14px;\n",
       "width:600.0\"\n",
       "             src=\"data:image/png;base64,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\"/>"
      ],
      "text/plain": [
       "<maelzel.scoring.renderlily.LilypondRenderer at 0x7f49e419f730>"
      ]
     },
     "execution_count": 6,
     "metadata": {},
     "output_type": "execute_result"
    }
   ],
   "source": [
    "from maelzel import scoring\n",
    "from maelzel.scorestruct import ScoreStruct\n",
    "from maelzel.common import F\n",
    "from maelzel.scoring import makeNote\n",
    "from maelzel.scoring import spanner \n",
    "\n",
    "notes = [\n",
    "    makeNote(60, F(2, 3)),\n",
    "    makeNote(61, F(2, 9)),\n",
    "    makeNote(62, F(2, 9)),\n",
    "    makeNote(63, F(2, 9)),\n",
    "    makeNote(64, F(2, 3)),\n",
    "    \n",
    "]\n",
    "\n",
    "struct = ScoreStruct(timesig='3/4', tempo=52)\n",
    "\n",
    "part = scoring.Part(notes)\n",
    "quantprofile = scoring.quant.QuantizationProfile.fromPreset('high', debug=True, debugMaxDivisions=20, maxDivPenalty=0.1)\n",
    "quantprofile.maxGridDensity = 32\n",
    "quantprofile.mergeTupletsOfDifferentDuration = True\n",
    "qpart = scoring.quant.quantizePart(part, struct=struct, quantprofile=quantprofile)\n",
    "options = scoring.render.RenderOptions()\n",
    "score = scoring.quant.QuantizedScore([qpart])\n",
    "r = scoring.render.renderQuantizedScore(score, options)\n",
    "#score.dump()\n",
    "r# .write('~/tmp/quant.ly')"
   ]
  },
  {
   "cell_type": "code",
   "execution_count": 3,
   "id": "e60f673d-d3d7-48c8-8cf4-b6fec35c6677",
   "metadata": {},
   "outputs": [
    {
     "name": "stdout",
     "output_type": "stream",
     "text": [
      "Beat: 0 - 1 (dur: 1)\n",
      "Skipped 0 divisions with a div. penalty > 0.1\n",
      "Best 20 divisions: \n"
     ]
    },
    {
     "data": {
      "text/html": [
       "<table>\n",
       "<thead>\n",
       "<tr><th>error    </th><th>div               </th><th>makeSnappedNotation                                                                 </th><th>slots     </th><th>info                                                                                                                                                                                         </th></tr>\n",
       "</thead>\n",
       "<tbody>\n",
       "<tr><td>0.003    </td><td>(1, 1, 3)         </td><td>[«0.000:0.667 2/3♩ 4C», «0.667:0.889 2/9♩ 4C#», «0.889:1.000 1/9♩ 4D tiedNext»]     </td><td>[0, 2, 4] </td><td>gridError=0, rhythmComplexity=0 (numNotesAcrossSubdics=0, numTies=0), divPenalty=0.03 (0.0003, divPenalty=0, cardinalityPenalty=0, numSubdivsPenalty=0, levelPenalty=0.03)                   </td></tr>\n",
       "<tr><td>0.004    </td><td>(9,)              </td><td>[«0.000:0.667 2/3♩ 4C», «0.667:0.889 2/9♩ 4C#», «0.889:1.000 1/9♩ 4D tiedNext»]     </td><td>[0, 6, 8] </td><td>gridError=0, rhythmComplexity=0 (numNotesAcrossSubdics=0, numTies=0), divPenalty=0.04 (0.0004, divPenalty=0.04, cardinalityPenalty=0, numSubdivsPenalty=0, levelPenalty=0)                   </td></tr>\n",
       "<tr><td>0.0049103</td><td>(1, 1, 1, 1, 1, 3)</td><td>[«0.000:0.667 2/3♩ 4C», «0.667:0.889 2/9♩ 4C#», «0.889:1.000 1/9♩ 4D tiedNext»]     </td><td>[0, 4, 6] </td><td>gridError=0, rhythmComplexity=0.105 (numNotesAcrossSubdics=1, numTies=0), divPenalty=0.0361 (0.0003606, divPenalty=0.02, cardinalityPenalty=0, numSubdivsPenalty=0, levelPenalty=0.03)       </td></tr>\n",
       "<tr><td>0.0293   </td><td>(1, 1, 1, 3, 2)   </td><td>[«0.000:0.667 2/3♩ 4C», «0.667:0.900 7/30♩ 4C#», «0.900:1.000 1/10♩ 4D tiedNext»]   </td><td>[0, 4, 7] </td><td>gridError=0.028, rhythmComplexity=0.211 (numNotesAcrossSubdics=2, numTies=0), divPenalty=0.0541 (0.0005408, divPenalty=0.02, cardinalityPenalty=0.1, numSubdivsPenalty=0, levelPenalty=0.03) </td></tr>\n",
       "<tr><td>0.035368 </td><td>(1, 1, 8)         </td><td>[«0.000:0.667 2/3♩ 4C», «0.667:0.875 5/24♩ 4C#», «0.875:1.000 1/8♩ 4D tiedNext»]    </td><td>[0, 2, 7] </td><td>gridError=0.0339, rhythmComplexity=0.316 (numNotesAcrossSubdics=0, numTies=1), divPenalty=0.02 (0.0002, divPenalty=0.02, cardinalityPenalty=0, numSubdivsPenalty=0, levelPenalty=0)          </td></tr>\n",
       "<tr><td>0.035693 </td><td>(1, 1, 1, 1, 1, 4)</td><td>[«0.000:0.667 2/3♩ 4C», «0.667:0.875 5/24♩ 4C#», «0.875:1.000 1/8♩ 4D tiedNext»]    </td><td>[0, 4, 6] </td><td>gridError=0.0339, rhythmComplexity=0.333 (numNotesAcrossSubdics=1, numTies=1), divPenalty=0.04 (0.0004, divPenalty=0.04, cardinalityPenalty=0, numSubdivsPenalty=0, levelPenalty=0)          </td></tr>\n",
       "<tr><td>0.035991 </td><td>(1, 1, 3, 2)      </td><td>[«0.000:0.667 2/3♩ 4C», «0.667:0.875 5/24♩ 4C#», «0.875:1.000 1/8♩ 4D tiedNext»]    </td><td>[0, 4, 6] </td><td>gridError=0.0339, rhythmComplexity=0.38 (numNotesAcrossSubdics=2, numTies=1), divPenalty=0.02 (0.0002, divPenalty=0.02, cardinalityPenalty=0, numSubdivsPenalty=0, levelPenalty=0)           </td></tr>\n",
       "<tr><td>0.039397 </td><td>(1, 1, 7)         </td><td>[«0.000:0.667 2/3♩ 4C», «0.667:0.905 5/21♩ 4C#», «0.905:1.000 2/21♩ 4D tiedNext»]   </td><td>[0, 2, 7] </td><td>gridError=0.0379, rhythmComplexity=0.316 (numNotesAcrossSubdics=0, numTies=1), divPenalty=0.0361 (0.0003606, divPenalty=0.02, cardinalityPenalty=0.1, numSubdivsPenalty=0, levelPenalty=0.03)</td></tr>\n",
       "<tr><td>0.050625 </td><td>(1, 1, 5)         </td><td>[«0.000:0.667 2/3♩ 4C», «0.667:0.867 1/5♩ 4C#», «0.867:1.000 2/15♩ 4D tiedNext»]    </td><td>[0, 2, 5] </td><td>gridError=0.0505, rhythmComplexity=0 (numNotesAcrossSubdics=0, numTies=0), divPenalty=0.0361 (0.0003606, divPenalty=0.02, cardinalityPenalty=0.1, numSubdivsPenalty=0, levelPenalty=0.03)    </td></tr>\n",
       "<tr><td>0.051577 </td><td>(1, 1, 1, 3, 3)   </td><td>[«0.000:0.667 2/3♩ 4C», «0.667:0.867 1/5♩ 4C#», «0.867:1.000 2/15♩ 4D tiedNext»]    </td><td>[0, 4, 7] </td><td>gridError=0.0505, rhythmComplexity=0.211 (numNotesAcrossSubdics=2, numTies=0), divPenalty=0.0811 (0.0008112, divPenalty=0.02, cardinalityPenalty=0.1, numSubdivsPenalty=0, levelPenalty=0.03)</td></tr>\n",
       "<tr><td>0.061075 </td><td>(1, 1, 4)         </td><td>[«0.000:0.667 2/3♩ 4C», «0.667:0.917 1/4♩ 4C#», «0.917:1.000 1/12♩ 4D tiedNext»]    </td><td>[0, 2, 5] </td><td>gridError=0.061, rhythmComplexity=0 (numNotesAcrossSubdics=0, numTies=0), divPenalty=0.02 (0.0002, divPenalty=0.02, cardinalityPenalty=0, numSubdivsPenalty=0, levelPenalty=0)               </td></tr>\n",
       "<tr><td>0.061166 </td><td>(1, 1, 1, 1, 1, 2)</td><td>[«0.000:0.667 2/3♩ 4C», «0.667:0.917 1/4♩ 4C#», «0.917:1.000 1/12♩ 4D tiedNext»]    </td><td>[0, 4, 6] </td><td>gridError=0.061, rhythmComplexity=0.105 (numNotesAcrossSubdics=1, numTies=0), divPenalty=0.02 (0.0002, divPenalty=0.02, cardinalityPenalty=0, numSubdivsPenalty=0, levelPenalty=0)           </td></tr>\n",
       "<tr><td>0.062343 </td><td>(1, 1, 1, 4, 2)   </td><td>[«0.000:0.650 13/20♩ 4C», «0.650:0.900 1/4♩ 4C#», «0.900:1.000 1/10♩ 4D tiedNext»]  </td><td>[0, 4, 8] </td><td>gridError=0.061, rhythmComplexity=0.38 (numNotesAcrossSubdics=2, numTies=1), divPenalty=0.04 (0.0004, divPenalty=0.04, cardinalityPenalty=0, numSubdivsPenalty=0, levelPenalty=0)            </td></tr>\n",
       "<tr><td>0.07335  </td><td>(1, 1, 1, 4, 3)   </td><td>[«0.000:0.650 13/20♩ 4C», «0.650:0.867 13/60♩ 4C#», «0.867:1.000 2/15♩ 4D tiedNext»]</td><td>[0, 4, 8] </td><td>gridError=0.0699, rhythmComplexity=0.667 (numNotesAcrossSubdics=2, numTies=2), divPenalty=0.075 (0.00075, divPenalty=0.04, cardinalityPenalty=0.1, numSubdivsPenalty=0, levelPenalty=0.03)   </td></tr>\n",
       "<tr><td>0.08332  </td><td>(1, 1, 1, 2, 2)   </td><td>[«0.000:0.700 7/10♩ 4C», «0.700:0.900 1/5♩ 4C#», «0.900:1.000 1/10♩ 4D tiedNext»]   </td><td>[0, 4, 6] </td><td>gridError=0.083, rhythmComplexity=0.211 (numNotesAcrossSubdics=2, numTies=0), divPenalty=0.02 (0.0002, divPenalty=0.02, cardinalityPenalty=0, numSubdivsPenalty=0, levelPenalty=0)           </td></tr>\n",
       "<tr><td>0.10089  </td><td>(8,)              </td><td>[«0.000:0.625 5/8♩ 4C», «0.625:0.875 1/4♩ 4C#», «0.875:1.000 1/8♩ 4D tiedNext»]     </td><td>[0, 5, 7] </td><td>gridError=0.1, rhythmComplexity=0.316 (numNotesAcrossSubdics=0, numTies=1), divPenalty=0.02 (0.0002, divPenalty=0.02, cardinalityPenalty=0, numSubdivsPenalty=0, levelPenalty=0)             </td></tr>\n",
       "<tr><td>0.10111  </td><td>(1, 1, 2, 2)      </td><td>[«0.000:0.625 5/8♩ 4C», «0.625:0.875 1/4♩ 4C#», «0.875:1.000 1/8♩ 4D tiedNext»]     </td><td>[0, 3, 5] </td><td>gridError=0.1, rhythmComplexity=0.38 (numNotesAcrossSubdics=2, numTies=1), divPenalty=0.02 (0.0002, divPenalty=0.02, cardinalityPenalty=0, numSubdivsPenalty=0, levelPenalty=0)              </td></tr>\n",
       "<tr><td>0.10196  </td><td>(11,)             </td><td>[«0.000:0.636 7/11♩ 4C», «0.636:0.909 3/11♩ 4C#», «0.909:1.000 1/11♩ 4D tiedNext»]  </td><td>[0, 7, 10]</td><td>gridError=0.101, rhythmComplexity=0 (numNotesAcrossSubdics=0, numTies=0), divPenalty=0.1 (0.001, divPenalty=0.1, cardinalityPenalty=0, numSubdivsPenalty=0, levelPenalty=0)                  </td></tr>\n",
       "<tr><td>0.11003  </td><td>(1, 1, 2)         </td><td>[«0.000:0.667 2/3♩ 4C», «0.667:0.833 1/6♩ 4C#», «0.833:1.000 1/6♩ 4D tiedNext»]     </td><td>[0, 2, 3] </td><td>gridError=0.11, rhythmComplexity=0 (numNotesAcrossSubdics=0, numTies=0), divPenalty=0 (0, divPenalty=0, cardinalityPenalty=0, numSubdivsPenalty=0, levelPenalty=0)                           </td></tr>\n",
       "<tr><td>0.11005  </td><td>(6,)              </td><td>[«0.000:0.667 2/3♩ 4C», «0.667:0.833 1/6♩ 4C#», «0.833:1.000 1/6♩ 4D tiedNext»]     </td><td>[0, 4, 5] </td><td>gridError=0.11, rhythmComplexity=0 (numNotesAcrossSubdics=0, numTies=0), divPenalty=0.02 (0.0002, divPenalty=0.02, cardinalityPenalty=0, numSubdivsPenalty=0, levelPenalty=0)                </td></tr>\n",
       "</tbody>\n",
       "</table>"
      ],
      "text/plain": [
       "<IPython.core.display.HTML object>"
      ]
     },
     "metadata": {},
     "output_type": "display_data"
    },
    {
     "name": "stdout",
     "output_type": "stream",
     "text": [
      "Beat: 1 - 2 (dur: 1)\n",
      "Skipped 0 divisions with a div. penalty > 0.1\n",
      "Best 20 divisions: \n"
     ]
    },
    {
     "data": {
      "text/html": [
       "<table>\n",
       "<thead>\n",
       "<tr><th>error    </th><th>div               </th><th>makeSnappedNotation                                                                                        </th><th>slots       </th><th>info                                                                                                                                                                                          </th></tr>\n",
       "</thead>\n",
       "<tbody>\n",
       "<tr><td>0.003    </td><td>(3, 1, 1)         </td><td>[«0.000:0.111 1/9♩ 4D tiedPrev», «0.111:0.222 1/9♩ 4D#», «0.222:0.333 1/9♩ 4E», «0.333:1.000 2/3♩ 4F»]     </td><td>[0, 1, 2, 3]</td><td>gridError=0, rhythmComplexity=0 (numNotesAcrossSubdics=0, numTies=0), divPenalty=0.03 (0.0003, divPenalty=0, cardinalityPenalty=0, numSubdivsPenalty=0, levelPenalty=0.03)                    </td></tr>\n",
       "<tr><td>0.004    </td><td>(9,)              </td><td>[«0.000:0.111 1/9♩ 4D tiedPrev», «0.111:0.222 1/9♩ 4D#», «0.222:0.333 1/9♩ 4E», «0.333:1.000 2/3♩ 4F»]     </td><td>[0, 1, 2, 3]</td><td>gridError=0, rhythmComplexity=0 (numNotesAcrossSubdics=0, numTies=0), divPenalty=0.04 (0.0004, divPenalty=0.04, cardinalityPenalty=0, numSubdivsPenalty=0, levelPenalty=0)                    </td></tr>\n",
       "<tr><td>0.0043875</td><td>(3, 3, 1, 1, 1, 1)</td><td>[«0.000:0.111 1/9♩ 4D tiedPrev», «0.111:0.222 1/9♩ 4D#», «0.222:0.333 1/9♩ 4E», «0.333:1.000 2/3♩ 4F»]     </td><td>[0, 2, 4, 6]</td><td>gridError=0, rhythmComplexity=0.0791 (numNotesAcrossSubdics=1, numTies=0), divPenalty=0.0361 (0.0003606, divPenalty=0.02, cardinalityPenalty=0, numSubdivsPenalty=0, levelPenalty=0.03)       </td></tr>\n",
       "<tr><td>0.034324 </td><td>(4, 3, 1, 1, 1, 1)</td><td>[«0.000:0.125 1/8♩ 4D tiedPrev», «0.125:0.222 7/72♩ 4D#», «0.222:0.333 1/9♩ 4E», «0.333:1.000 2/3♩ 4F»]    </td><td>[0, 3, 5, 7]</td><td>gridError=0.0339, rhythmComplexity=0.0791 (numNotesAcrossSubdics=1, numTies=0), divPenalty=0.05 (0.0005, divPenalty=0.04, cardinalityPenalty=0, numSubdivsPenalty=0, levelPenalty=0.03)       </td></tr>\n",
       "<tr><td>0.034324 </td><td>(3, 4, 1, 1, 1, 1)</td><td>[«0.000:0.111 1/9♩ 4D tiedPrev», «0.111:0.208 7/72♩ 4D#», «0.208:0.333 1/8♩ 4E», «0.333:1.000 2/3♩ 4F»]    </td><td>[0, 2, 4, 7]</td><td>gridError=0.0339, rhythmComplexity=0.0791 (numNotesAcrossSubdics=1, numTies=0), divPenalty=0.05 (0.0005, divPenalty=0.04, cardinalityPenalty=0, numSubdivsPenalty=0, levelPenalty=0.03)       </td></tr>\n",
       "<tr><td>0.061075 </td><td>(8, 1, 1)         </td><td>[«0.000:0.125 1/8♩ 4D tiedPrev», «0.125:0.208 1/12♩ 4D#», «0.208:0.333 1/8♩ 4E», «0.333:1.000 2/3♩ 4F»]    </td><td>[0, 3, 5, 8]</td><td>gridError=0.061, rhythmComplexity=0 (numNotesAcrossSubdics=0, numTies=0), divPenalty=0.02 (0.0002, divPenalty=0.02, cardinalityPenalty=0, numSubdivsPenalty=0, levelPenalty=0)                </td></tr>\n",
       "<tr><td>0.061388 </td><td>(4, 4, 1, 1, 1, 1)</td><td>[«0.000:0.125 1/8♩ 4D tiedPrev», «0.125:0.208 1/12♩ 4D#», «0.208:0.333 1/8♩ 4E», «0.333:1.000 2/3♩ 4F»]    </td><td>[0, 3, 5, 8]</td><td>gridError=0.061, rhythmComplexity=0.0791 (numNotesAcrossSubdics=1, numTies=0), divPenalty=0.06 (0.0006, divPenalty=0.06, cardinalityPenalty=0, numSubdivsPenalty=0, levelPenalty=0)           </td></tr>\n",
       "<tr><td>0.061658 </td><td>(2, 3, 1, 1, 1, 1)</td><td>[«0.000:0.083 1/12♩ 4D tiedPrev», «0.083:0.222 5/36♩ 4D#», «0.222:0.333 1/9♩ 4E», «0.333:1.000 2/3♩ 4F»]   </td><td>[0, 1, 3, 5]</td><td>gridError=0.061, rhythmComplexity=0.25 (numNotesAcrossSubdics=1, numTies=1), divPenalty=0.0361 (0.0003606, divPenalty=0.02, cardinalityPenalty=0, numSubdivsPenalty=0, levelPenalty=0.03)     </td></tr>\n",
       "<tr><td>0.061658 </td><td>(3, 2, 1, 1, 1, 1)</td><td>[«0.000:0.111 1/9♩ 4D tiedPrev», «0.111:0.250 5/36♩ 4D#», «0.250:0.333 1/12♩ 4E», «0.333:1.000 2/3♩ 4F»]   </td><td>[0, 2, 4, 5]</td><td>gridError=0.061, rhythmComplexity=0.25 (numNotesAcrossSubdics=1, numTies=1), divPenalty=0.0361 (0.0003606, divPenalty=0.02, cardinalityPenalty=0, numSubdivsPenalty=0, levelPenalty=0.03)     </td></tr>\n",
       "<tr><td>0.063463 </td><td>(2, 3, 1, 1, 1)   </td><td>[«0.000:0.100 1/10♩ 4D tiedPrev», «0.100:0.200 1/10♩ 4D#», «0.200:0.333 2/15♩ 4E», «0.333:1.000 2/3♩ 4F»]  </td><td>[0, 1, 2, 4]</td><td>gridError=0.0632, rhythmComplexity=0.0791 (numNotesAcrossSubdics=1, numTies=0), divPenalty=0.0541 (0.0005408, divPenalty=0.02, cardinalityPenalty=0.1, numSubdivsPenalty=0, levelPenalty=0.03)</td></tr>\n",
       "<tr><td>0.068475 </td><td>(7, 1, 1)         </td><td>[«0.000:0.095 2/21♩ 4D tiedPrev», «0.095:0.238 1/7♩ 4D#», «0.238:0.333 2/21♩ 4E», «0.333:1.000 2/3♩ 4F»]   </td><td>[0, 2, 5, 7]</td><td>gridError=0.0684, rhythmComplexity=0 (numNotesAcrossSubdics=0, numTies=0), divPenalty=0.0361 (0.0003606, divPenalty=0.02, cardinalityPenalty=0.1, numSubdivsPenalty=0, levelPenalty=0.03)     </td></tr>\n",
       "<tr><td>0.076524 </td><td>(4, 2, 1, 1, 1, 1)</td><td>[«0.000:0.125 1/8♩ 4D tiedPrev», «0.125:0.250 1/8♩ 4D#», «0.250:0.333 1/12♩ 4E», «0.333:1.000 2/3♩ 4F»]    </td><td>[0, 3, 5, 6]</td><td>gridError=0.0764, rhythmComplexity=0.0791 (numNotesAcrossSubdics=1, numTies=0), divPenalty=0.04 (0.0004, divPenalty=0.04, cardinalityPenalty=0, numSubdivsPenalty=0, levelPenalty=0)          </td></tr>\n",
       "<tr><td>0.076524 </td><td>(2, 4, 1, 1, 1, 1)</td><td>[«0.000:0.083 1/12♩ 4D tiedPrev», «0.083:0.208 1/8♩ 4D#», «0.208:0.333 1/8♩ 4E», «0.333:1.000 2/3♩ 4F»]    </td><td>[0, 1, 3, 6]</td><td>gridError=0.0764, rhythmComplexity=0.0791 (numNotesAcrossSubdics=1, numTies=0), divPenalty=0.04 (0.0004, divPenalty=0.04, cardinalityPenalty=0, numSubdivsPenalty=0, levelPenalty=0)          </td></tr>\n",
       "<tr><td>0.091091 </td><td>(5, 1, 1)         </td><td>[«0.000:0.133 2/15♩ 4D tiedPrev», «0.133:0.200 1/15♩ 4D#», «0.200:0.333 2/15♩ 4E», «0.333:1.000 2/3♩ 4F»]  </td><td>[0, 2, 3, 5]</td><td>gridError=0.091, rhythmComplexity=0 (numNotesAcrossSubdics=0, numTies=0), divPenalty=0.0361 (0.0003606, divPenalty=0.02, cardinalityPenalty=0.1, numSubdivsPenalty=0, levelPenalty=0.03)      </td></tr>\n",
       "<tr><td>0.091415 </td><td>(3, 3, 1, 1, 1)   </td><td>[«0.000:0.133 2/15♩ 4D tiedPrev», «0.133:0.200 1/15♩ 4D#», «0.200:0.333 2/15♩ 4E», «0.333:1.000 2/3♩ 4F»]  </td><td>[0, 2, 3, 5]</td><td>gridError=0.091, rhythmComplexity=0.0791 (numNotesAcrossSubdics=1, numTies=0), divPenalty=0.0811 (0.0008112, divPenalty=0.02, cardinalityPenalty=0.1, numSubdivsPenalty=0, levelPenalty=0.03) </td></tr>\n",
       "<tr><td>0.093101 </td><td>(2, 4, 1, 1, 1)   </td><td>[«0.000:0.100 1/10♩ 4D tiedPrev», «0.100:0.200 1/10♩ 4D#», «0.200:0.350 3/20♩ 4E», «0.350:1.000 13/20♩ 4F»]</td><td>[0, 1, 2, 5]</td><td>gridError=0.0927, rhythmComplexity=0.25 (numNotesAcrossSubdics=1, numTies=1), divPenalty=0.04 (0.0004, divPenalty=0.04, cardinalityPenalty=0, numSubdivsPenalty=0, levelPenalty=0)            </td></tr>\n",
       "<tr><td>0.10818  </td><td>(2, 2, 1, 1, 1)   </td><td>[«0.000:0.100 1/10♩ 4D tiedPrev», «0.100:0.200 1/10♩ 4D#», «0.200:0.300 1/10♩ 4E», «0.300:1.000 7/10♩ 4F»] </td><td>[0, 1, 2, 3]</td><td>gridError=0.108, rhythmComplexity=0.0791 (numNotesAcrossSubdics=1, numTies=0), divPenalty=0.02 (0.0002, divPenalty=0.02, cardinalityPenalty=0, numSubdivsPenalty=0, levelPenalty=0)           </td></tr>\n",
       "<tr><td>0.11005  </td><td>(4, 1, 1)         </td><td>[«0.000:0.083 1/12♩ 4D tiedPrev», «0.083:0.250 1/6♩ 4D#», «0.250:0.333 1/12♩ 4E», «0.333:1.000 2/3♩ 4F»]   </td><td>[0, 1, 3, 4]</td><td>gridError=0.11, rhythmComplexity=0 (numNotesAcrossSubdics=0, numTies=0), divPenalty=0.02 (0.0002, divPenalty=0.02, cardinalityPenalty=0, numSubdivsPenalty=0, levelPenalty=0)                 </td></tr>\n",
       "<tr><td>0.11008  </td><td>(2, 2, 1, 1, 1, 1)</td><td>[«0.000:0.083 1/12♩ 4D tiedPrev», «0.083:0.250 1/6♩ 4D#», «0.250:0.333 1/12♩ 4E», «0.333:1.000 2/3♩ 4F»]   </td><td>[0, 1, 3, 4]</td><td>gridError=0.11, rhythmComplexity=0.0791 (numNotesAcrossSubdics=1, numTies=0), divPenalty=0.02 (0.0002, divPenalty=0.02, cardinalityPenalty=0, numSubdivsPenalty=0, levelPenalty=0)            </td></tr>\n",
       "<tr><td>0.11981  </td><td>(3, 4, 1, 1, 1)   </td><td>[«0.000:0.133 2/15♩ 4D tiedPrev», «0.133:0.200 1/15♩ 4D#», «0.200:0.350 3/20♩ 4E», «0.350:1.000 13/20♩ 4F»]</td><td>[0, 2, 3, 6]</td><td>gridError=0.119, rhythmComplexity=0.25 (numNotesAcrossSubdics=1, numTies=1), divPenalty=0.075 (0.00075, divPenalty=0.04, cardinalityPenalty=0.1, numSubdivsPenalty=0, levelPenalty=0.03)      </td></tr>\n",
       "</tbody>\n",
       "</table>"
      ],
      "text/plain": [
       "<IPython.core.display.HTML object>"
      ]
     },
     "metadata": {},
     "output_type": "display_data"
    },
    {
     "name": "stdout",
     "output_type": "stream",
     "text": [
      "Node(3/2, \n",
      "  «0.000:0.667 2/3♩ 3/2 4C»\n",
      "  Node(3/2, \n",
      "    «0.667:0.889 2/9♩ 3/2,3/2 4C#»\n",
      "    «0.889:1.000 1/9♩ 3/2,3/2 4D tiedNext»\n",
      "  )\n",
      ") Node(3/2, \n",
      "  Node(3/2, \n",
      "    «1.000:1.111 1/9♩ 3/2,3/2 4D tiedPrev»\n",
      "    «1.111:1.222 1/9♩ 3/2,3/2 4D#»\n",
      "    «1.222:1.333 1/9♩ 3/2,3/2 4E»\n",
      "  )\n",
      "  «1.333:2.000 2/3♩ 3/2 4F»\n",
      ") acrossBeat=True, syncopated=True\n",
      "Node(3/2, \n",
      "  «0.667:0.889 2/9♩ 3/2,3/2 4C#»\n",
      "  «0.889:1.000 1/9♩ 3/2,3/2 4D tiedNext»\n",
      ") Node(3/2, \n",
      "  «1.000:1.111 1/9♩ 3/2,3/2 4D tiedPrev»\n",
      "  «1.111:1.222 1/9♩ 3/2,3/2 4D#»\n",
      "  «1.222:1.333 1/9♩ 3/2,3/2 4E»\n",
      ") acrossBeat=True, syncopated=True\n",
      "Node(3/2, \n",
      "  «0.667:0.889 2/9♩ 3/2,3/2 4C#»\n",
      "  «0.889:1.000 1/9♩ 3/2,3/2 4D tiedNext»\n",
      ") Node(3/2, \n",
      "  «1.000:1.111 1/9♩ 3/2,3/2 4D tiedPrev»\n",
      "  «1.111:1.222 1/9♩ 3/2,3/2 4D#»\n",
      "  «1.222:1.333 1/9♩ 3/2,3/2 4E»\n",
      ") acrossBeat=True, syncopated=True\n"
     ]
    },
    {
     "data": {
      "text/html": [
       "<b>LilypondRenderer</b> (1 part)<br>\n",
       "        <img style=\"display:inline; padding:10px;\n",
       "margin-top:14px;\n",
       "width:656.0\"\n",
       "             src=\"data:image/png;base64,iVBORw0KGgoAAAANSUhEUgAAApAAAACLCAIAAABZWT52AAAJLmlDQ1BJQ0MgUHJvZmlsZQAAeJyVlWdQk1kXx+/zPOmFQBJCh1BDkSolgJQQWijSq6hA6J1QRWyIuAIriog0RZBFARdclSJrRRQLi4ICFnSDLALKunEVUUFZcN8ZnfcdP7z/mXvPb/5z5t5zz/lwASCIg2XBy3tiUrrA28mOGRgUzATfKIyflsLx9HQD39W7EQCtxHu638/5rggRkWn85bi4vHL5KYJ0AKDsZdbMSk9Z4aPLTA+P/8JnV1iwXOAy31jh6H957EvOvyz6kuPrzV1+FQoAHCn6Gw7/hv9z74pUOIL02KjIbKZPclR6Vpggkpm20gkel8v0FCRHxSZEflPw/5X8HaVHZqevRG5yyiZBbHRMOvN/DjUyMDQEX2fxxutLjyFG/3/PZ0VfveR6ANhzACD7vnrhlQB07gJA+tFXT225r5R8ADru8DMEmf96qJUNDQiAAuhABigCVaAJdIERMAOWwBY4ABfgAXxBENgA+CAGJAIByAK5YAcoAEVgHzgIqkAtaABNoBWcBp3gPLgCroPb4C4YBo+BEEyCl0AE3oEFCIKwEBmiQTKQEqQO6UBGEBuyhhwgN8gbCoJCoWgoCcqAcqGdUBFUClVBdVAT9At0DroC3YQGoYfQODQD/Q19hBGYBNNhBVgD1ofZMAd2hX3h9XA0nArnwPnwXrgCrodPwh3wFfg2PAwL4ZfwHAIQIsJAlBFdhI1wEQ8kGIlCBMhWpBApR+qRVqQb6UPuIUJkFvmAwqBoKCZKF2WJckb5ofioVNRWVDGqCnUC1YHqRd1DjaNEqM9oMloerYO2QPPQgehodBa6AF2ObkS3o6+hh9GT6HcYDIaBYWHMMM6YIEwcZjOmGHMY04a5jBnETGDmsFisDFYHa4X1wIZh07EF2ErsSewl7BB2EvseR8Qp4YxwjrhgXBIuD1eOa8ZdxA3hpnALeHG8Ot4C74GPwG/Cl+Ab8N34O/hJ/AJBgsAiWBF8CXGEHYQKQivhGmGM8IZIJKoQzYlexFjidmIF8RTxBnGc+IFEJWmTuKQQUgZpL+k46TLpIekNmUzWINuSg8np5L3kJvJV8lPyezGamJ4YTyxCbJtYtViH2JDYKwqeok7hUDZQcijllDOUO5RZcby4hjhXPEx8q3i1+DnxUfE5CZqEoYSHRKJEsUSzxE2JaSqWqkF1oEZQ86nHqFepEzSEpkrj0vi0nbQG2jXaJB1DZ9F59Dh6Ef1n+gBdJEmVNJb0l8yWrJa8IClkIAwNBo+RwChhnGaMMD5KKUhxpCKl9ki1Sg1JzUvLSdtKR0oXSrdJD0t/lGHKOMjEy+yX6ZR5IouS1Zb1ks2SPSJ7TXZWji5nKceXK5Q7LfdIHpbXlveW3yx/TL5ffk5BUcFJIUWhUuGqwqwiQ9FWMU6xTPGi4owSTclaKVapTOmS0gumJJPDTGBWMHuZImV5ZWflDOU65QHlBRWWip9KnkqbyhNVgipbNUq1TLVHVaSmpOaulqvWovZIHa/OVo9RP6Tepz6vwdII0Nit0akxzZJm8Vg5rBbWmCZZ00YzVbNe874WRoutFa91WOuuNqxtoh2jXa19RwfWMdWJ1TmsM7gKvcp8VdKq+lWjuiRdjm6mbovuuB5Dz00vT69T75W+mn6w/n79Pv3PBiYGCQYNBo8NqYYuhnmG3YZ/G2kb8Y2qje6vJq92XL1tddfq18Y6xpHGR4wfmNBM3E12m/SYfDI1MxWYtprOmKmZhZrVmI2y6WxPdjH7hjna3M58m/l58w8WphbpFqct/rLUtYy3bLacXsNaE7mmYc2ElYpVmFWdldCaaR1qfdRaaKNsE2ZTb/PMVtU2wrbRdoqjxYnjnOS8sjOwE9i1281zLbhbuJftEXsn+0L7AQeqg59DlcNTRxXHaMcWR5GTidNmp8vOaGdX5/3OozwFHp/XxBO5mLlscel1Jbn6uFa5PnPTdhO4dbvD7i7uB9zH1qqvTVrb6QE8eB4HPJ54sjxTPX/1wnh5elV7Pfc29M717vOh+Wz0afZ552vnW+L72E/TL8Ovx5/iH+Lf5D8fYB9QGiAM1A/cEng7SDYoNqgrGBvsH9wYPLfOYd3BdZMhJiEFISPrWeuz19/cILshYcOFjZSNYRvPhKJDA0KbQxfDPMLqw+bCeeE14SI+l3+I/zLCNqIsYibSKrI0cirKKqo0ajraKvpA9EyMTUx5zGwsN7Yq9nWcc1xt3Hy8R/zx+KWEgIS2RFxiaOK5JGpSfFJvsmJydvJgik5KQYow1SL1YKpI4CpoTIPS1qd1pdOXP8X+DM2MXRnjmdaZ1Znvs/yzzmRLZCdl92/S3rRn01SOY85Pm1Gb+Zt7cpVzd+SOb+FsqdsKbQ3f2rNNdVv+tsntTttP7CDsiN/xW55BXmne250BO7vzFfK350/sctrVUiBWICgY3W25u/YH1A+xPwzsWb2ncs/nwojCW0UGReVFi8X84ls/Gv5Y8ePS3qi9AyWmJUf2YfYl7RvZb7P/RKlEaU7pxAH3Ax1lzLLCsrcHNx68WW5cXnuIcCjjkLDCraKrUq1yX+ViVUzVcLVddVuNfM2emvnDEYeHjtgeaa1VqC2q/Xg09uiDOqe6jnqN+vJjmGOZx543+Df0/cT+qalRtrGo8dPxpOPCE94nepvMmpqa5ZtLWuCWjJaZkyEn7/5s/3NXq25rXRujregUOJVx6sUvob+MnHY93XOGfab1rPrZmnZae2EH1LGpQ9QZ0ynsCuoaPOdyrqfbsrv9V71fj59XPl99QfJCyUXCxfyLS5dyLs1dTrk8eyX6ykTPxp7HVwOv3u/16h245nrtxnXH61f7OH2XbljdOH/T4ua5W+xbnbdNb3f0m/S3/2byW/uA6UDHHbM7XXfN73YPrhm8OGQzdOWe/b3r93n3bw+vHR4c8Rt5MBoyKnwQ8WD6YcLD148yHy083j6GHit8Iv6k/Kn80/rftX5vE5oKL4zbj/c/83n2eII/8fKPtD8WJ/Ofk5+XTylNNU0bTZ+fcZy5+2Ldi8mXKS8XZgv+lPiz5pXmq7N/2f7VLwoUTb4WvF76u/iNzJvjb43f9sx5zj19l/huYb7wvcz7Ex/YH/o+BnycWshaxC5WfNL61P3Z9fPYUuLS0j9CLJC+ERlPpwAAHgFJREFUeJzt3c+P23j9P/D3rFo6o52p7BzaQRVq7ZSyIFXqxNEWwYEfcfaAkLjEOSGWSzL/QZzDShy4xDnAiRVxuAASh3jE3ipBHKlaCYld4swiVvzoNs6stF3aHuIwU9SBVuR7eMP746/t/P7hOHk+TjOezOTtTOKX3+/36/16b/X7fbJ23nzzzV/96le///3vJUkKuy0AAABz8ErYDViI8/Pzly9fOo4TdkMAAADmYz0DNgAAwJpBwAYAAIgABGwAAIAIQMAGAACIAARsAACACEDABgAAiAAEbAAAgAhAwAYAAIgABGwAAIAIQMAGAACIAARsAACACEDABgAAiAAEbAAAgAhAwAYAAIgABGwAAIAIQMAGAACIAARsAACACLgQdgOijed5WZZFUUwmkzzP04P1et00TV3XJUlij3Qcp1QqmabZarUIIYIgyLJcLBZFUQyn6QAAECkI2DPp9XpHR0f+47lczh2tLcuSZVlRFE3TZFm2LKtSqVSrVcMwNE3L5/NLbDIAAEQShsTnjOO4QqGg6zo74jiOLMv5fF7XdVmWCSGSJOm6nsvler3e4eGhbdvhtRcAAKIBPezpmaZJCGk2m4QQx3HoQRqS3XRd7/V6xWLRc/zw8LBarRJCSqWSO8ADAAD4IWDPyj30HYhGdDoe7n4w+xo9bAAAGAlD4tNjverhaDJao9FQFMV93LKshTQLAADW0Tr0sG3bNgyj2WzSCJpOp589e7aE5202m4lEwnEcwzDa7TYhJB6P06Rx98Oy2Swd+vagI+qEECSKAwDASNEO2LZtl0olTzhsNBoXL15cWgNisVgikeB53rbtTqdDCCkUCpqmscfIslyv1+v1+uHhoft3K5UK/SKbzS6ntQAAEGH9yKrVahzHDTm1X//614G/mEqlxnll6vX6kGfvdrscxyUSiXa7zQ6WSiX6u7lcbnjjC4UCfWShUJji3AEAYNNEdQ5b1/VsNtvr9YY85t69e4trgGVZvV4vm826B7RVVc3lcoSQarXKRrz9DMMol8uEkFwu5+6LAwAADBLJgG3btqqqIx/2yivBZ2ea5jj3Mv4FWm50oNvfDDbuXavVAn/RsixaKcWzXBsAAGCISM5hl0ql4X1rauSCqxkFRvThi7VoyTNCSK1W8ySNAwAADBHJHvaQ0Wa3hUZEy7JEURRFcfzVWTRa019hbRtztAAAADZcJAM2TcYerlAosN04PGRZ3hrD8NuCUqnU6XQ6nc6goW8PWqBUFEXTNN3T3oZhYEE2AACMFMmAPTw5nBCSSCQWnczFqqYkk0n3cRZ90+m0+8EsWntuI+gCbgAAgOEiOYedz+dplnWgTCYzPJlL07RxipQNnwIXRbHRaPinommHm+M49x5ciqK0Wq1CocDWfTHVajWTyYxsDAAAbLpFrxtbhG63G7iWWhCEWq22tDZwHJfL5brdLjvIhscrlQo7yJZcD4Kl2Guv2WzW6/Vmsxl2QwAgwiLZw+Z53jRNwzDq9TpNxpYkKZlMLjPvmrZBVdVYLEbvHmils1Qq5dnkY8hgAKw9wzBUVaVZC5Zl8TxvGMai1y8AwFra6vf7Ybch2izLsm3btm1JkmjeeNgtglVhmmY6na7X63Qtn2VZyWRSEATszwYAU4hkD3ulSJKEDhMEqtfrhJBKpUIDtiRJqVSq0WiYpjm8LA8AgF8ks8QBIiEWi3mOoG8NAFOb85C4aZr1eh31sQEoy7LYAAwdIceQOABMZ55D4rqu00rajuOgSjYA+f9L1aqqynGcYRjhNgkAImpuPWwWranNrJV9//797373uxcuXLh582bYbYGlounf/uM00SyRSNCF+MVicVABPkVRxikPAGvg5cuXf/nLX27cuPHee++F3RaIlLksDqtUKp4/y3Gce4HyhsBcwCYbtMyaHqfL8Uul0qDHhN18CMECL0awjubQw6YrmvzbZxUKhU0LYHSSkhAyslgKrJl4PO6ubRdoa2uLENJutwPX/um6jjq1G+Lk5IQWWZr98gsbZQ4BW5blRqPhP85xnG3bgwYA1xIL2PgcbjjDMJrNZjabdS/5owGbLcuGjYULBUxn1mVdpmkGRmtCSK/X85fOBtgEtNy9+/3P5qc36hYWAOZo1oA9KCQLgkAIQa44bKZer8dxXDabZUdoSpogCCizAwDTmSlg27bt715zHFepVGzb5jiu1+shZsMGSqVS+XyeLZSwLAtrugBgRjMFbP/VJ5FIWJZFs2/o1YpWZwTYKIZh0JIpqqoqipJMJiVJMk0T3WsAmNpMhVM8wTiRSJimyabo6BdHR0eO42DeDjYK3cyN7gpDCNE0DbvCAMCMZuphW5bFvuY4zh2tCSE0DZIQYprmLM8CEFGiKMqyLMsyojUAzG6mHrZ77bWu64O60c1mc0OqnkmSlMvlkslk2A0BgNUly3Iul8O4I0xqpnXYdF0pISSVSvm70WytYeBPAQAAYHzz2V6zWCz6D7KFp4MWagMAAMCY5rBblyAIgZWb3OWRkXcGMCnLsugHB7nlAEDmErAH1Vl0bz1kWRbKMQKMyTAMVVVpqpplWXQrMIRtgA03h4A9qOuMeWuAKZimmc1mWclxukGnoih0hRgAbKw5BGy2fMvNsqxOp8O+xXg4wJhoeYNKpUIDtiRJqVSq0WiYpolhKkIIW93uZllWt9v94x//+KUvfelHP/pRKA0DWLQ5BOxAdPM4BqN5AGOKxWKeI5HuW/tH2hzHCdz/213XgbJt233fP47f/OY3CNiwri4QQhzH8X9UxrG/v//48eNWq+X/0dtvv+1+GIbHAcYkSdJPfvKTW7du0U9Nq9XqdDr7+/tk8dNMDx48ePbsmefgRx99dHp66j/o//Xj4+NFtWwSuNrA+hFFURRF0u/3M5lM2I0BAACAYJcuXer3+1v9ft+yLM8I9pju37///vvvv/7661//+tfZwfPz85///Of/+Mc/2JE33njjzp07Mzc42HvvvffBBx+4n44QcunSpddee+3u3bscxy3oeQEm8vjx4/Pzc8/B7e1t2nX2P/gXv/jF1atXnzx58vrrr3/5y1/e3t72P+z8/LxSqfzrX/9aSIt9rl+/7j949epVz5GdnR3/wUFnOkcnJyf0OlYoFBb6RFOjLbxy5cr3v//9sNsCK4HGUEJINpu9ceMGcb2N/f4bsKd+Mk3TisWip5CZqqrlcpl9y3GcbduLSDpzHEeW5VarlUqldF2na2BM01QUhdVMLRQKmqbN/alhvQVOEgXOvDqO459gnmjmtdlsBmZ4sM2+yuVyqVRSVTWwnaIouisEM4Ig+AuYi6Lo/yQmk0n/QUmSIpcoykorznJNWyjawoODg8BpRNhALFyyVSHsbezX7/dnSjqjT+AuZGZZljtaE0IURVnQJ19RFPq+LxaL7Noky7KmaYeHh/Tbcrkcj8fpdp+wrmiBEf/BbrfrP+j/9RAr8QWGVYpGcU3TyuVysVhUFMX/SJ7naco0kjoBNsFMAVuSJI7jer0eW3DiD42BVUtnZ1kWu86qqmoYBrucKYrCAjYhpFQqIWCvjmV2XhckMMoGhszAzuuQpVmGYTSbzWw26/9rtm0HhnbUQQPYHLMu65Jl+ejoiHbnVVX1DPUUCoUFbSzo7lG1Wi1FUVgY8FwiQ7++w/3797/5zW+GNVCZSqU8R3ie978tY7GYP/L9NzNzWfL5fK/Xs23bMAx6hL3PIzdADUA5jqPreuCcDkxq1oCdTqePjo4Mw0gmk57BcI7jFtS9Jr7rF/YbXmV//vOfx4zWi+u8RkKv1+M4LpvNsiM0cguCgG40RJSu68Visd1u67oedlsib9aATcefO52Of9h5yA7Zs5MkqVAo0FuEhd4ZwOxu3bpFv6A1vKgld14jIZVKSZLENo+3LEtVVY7jWIcbhpAkSRAEDEWsGlVVa7VatVqNx+PoZ89o1oDN83wmkzk6OvKkqmYyGXbdWRCaXGbb9vB+VSKRWGgzYHxR7wEvmmEYiqJIkiTLsm3bR0dHqVRK0zR0r8dBU/DCbgUEME1TkiSaHbzouLDeZg3YgZlBgiAsZ/QjsJfmyWlC5xuigud50zRZrWxN0zAIAWuA53ld19PpdD6fF0URN6BTmzVg+xPNCCGGYYQ1MGXbNhucp2OJ6NVBtGCyANaPLMuCIHQ6HZogjJmL6VwghMxY6cxz8I033qjVatP9wSl88MEHv/3tbwN/dOvWrXq97p43hVCcnJzQLzCDBVMILBLH3lTU/v7+a6+9trw2TYW2+dGjR5v5QfjPf/5DCOl0Ol/84hfffPPNsJuzEu7fv0+/qFarNFR53the/X5/ZSv5AQAAAJmlNOmg8mntdjv00Tx32ziOo/kO4TZpw61+zchNFri3VeC4lL943N///vfHjx8vqmWTiES9zw0vTSqKorsqxqCCuxtlGaVJLcsalOlnmmboZcXck9a9Xk+WZcuyQr+NAGzEMhdjbi9Ns0E98fXBgwf//Oc/F9u+kHzyySdhNwGG0TTNU8OqWCzSBRFhNSmKJg7YjuPQekzugxzH5fP5crlcr9eXFrBZkcvhGxX0ej3DMHArFyJZlkul0gaOc0xUh/Vvf/vb2dmZ++Aax9e582/jDavDsqxSqRR4HAF7IhMHbH9aOB12JoSUy+Wjo6O5NW0o+p+m9w0jx73r9ToCdrgi8foHxlfbttvttv/g06dPPfH1+Ph4se2Dwba2tsJuAgQzDMPfxyP/6+aF0aIImyxg67perVb9B2mwpFn7tPjD3Bo4gKqq7B3Q6/VKpRKqQW0atl7ZczAwvn766afPnz93H0R8XWUHBwfub/f29q5cueKf2IrH471eT1VVupcwrBpd191bMTG0l4XFXZOaIGDbtu3vJ5VKJRaeZVmuVqvNZnMJAduzJeLSevbj293dJRip8/FE2UGbYD5//twdX8/Ozh4+fLikJsKEXn31VVZ9ltrb2/vCF77gvxzH4/HAWvGzXLjp8N6lS5em/guwIIOitSAIhmFs4BzZ7CYI2O5OLZXJZNwhPJ1OV6vVwKTTuaPberJvK5UK+9q/NfKgpLuFwuxjoHg8HnYTNp0/vsZiMVEU3VHz5OSkVqsFlizEpCOMw7btwGidSCTQt57auAHbNE1PLzaRSHg+zPST3Gq1HMdZ9P9DURQ2OO/Z8dpzx4CZEoi0/f39z372s+4jgTuBkrnuYGaaZq1W4zgO4RmmEzhHiWg9o3ED9jibcfE8n0gkWq0WzTKYTwMH0DTNsiya/uYZZPMUWVvopmEAHp74euHChcuXLwfGV//AD8/zmzNOOFGKnycFwT9FghmTVZPP5yuVimcpl6ZpuBrPYqyAbZqm53UvFAqBVxZZllutVr1ep0F0cVWR6TYJiqI0Go18Pm/bNm1PrVZjIwF0QA9dBBji5s2be3t77Nvp4uvW1tYmVMMYcwl4KCn0L1++XOjfh0nxPE+3cmBzl4Ig4Go8K5QmBQAAWHH/rXQWj8dTqdSgB7148eLdd991Hzk4OIjFYuzb09PTv/71r54bar/r169fv3794sWLs7U52O9+97vz8/Pt7e2dnR165Ozs7OXLl1euXLl9+/YinnEkmsc+5IXdTPRluX79uvsg7dd6Hrmzs8P+myuu0Wjs7u7evXs37IbMzcnJiX9oepW98sor3/jGN8JuxQjdbvf4+HjN3iojsfcSnTMNuzmr5eHDhx9//DFxRVX6Jhn4C/1R3AnYhJBUKuX+abPZHL/kZCKR6Ha7I59xCkt+uvGbFNazr6y1fFno5y3sVsyTpmljfqhXxM7OTtiv2Wi0QvuavVXGkcvl6L8pxAvyamLD2/V6nR4Zsr1kv99/ZeQnwXOjXSwW2de2bbunKEZqtVqyLPuXXS0CFuYDrL2bN2/ShYKvvvpq2G2BgXRdp33rwAKlML7RSWfuTM5EIuHOGggsODdcq9VSFGW+a7X95a4QrQFW0Jgp9IHr1gZlsNLdjT73uc/NvbUwC9u2DcPodrvJZFKSJFo9ulwup9NppJ5NbbLSpNlsln1tmqan3Fgul0un0zzP03zaer1uWZY/s7/RaOi6Psd1X/7FIbSMjqZp3W43coN7AKGjYXVra+vOnTvu44OWgG/4EjXwkyTJ3Z0TBIFur0k7bHhvTGd0wHZHZfedkXu5My2i4v8fqKqqqqqu654qaZ5SJzPyLCypVCp04H0zd4gCmB0N2Hfu3Fn7tWqwIJ7B106nQ3tuvV4vn89jBHQ6o+ewWU4Zx3Hu+MeGtf2bZdHUaNbxpf8ed25ap9PxlzycmnuAvVAo0FuBUqk06XA9AAAsGk1mCrsVkTQ6YLNI7OmtsoFuf/Ea+kh3thqdw3DH7CG5cBOxbZt1AnK5HB0A13W9XC7P5e8DAMCk3Cu4SqUSTYFut9ulUkkQhFarFYktd1fN6IA9kn9vLpq36ckFkyRpSMXvqbFVZ6lUivbaVVUNLDoPAADLwRKeEokEi82iKKqqalkWqnVNZ/oeNusu+6ci6CM9KWmEkGKxyH5rLuPVjuPQIJ1IJGiteZqIOPtfBgCAqbHumX/0m+d5TdOQDjyFC2RAFX7mM5/5DP3iww8/dHeLBUGgBVneeecddzVmt7ffftuzkd9XvvKVe/fu0a/L5fKMhW+q1Wqv19vd3X3rrbfoKXhyZLrd7nK2+xwk3GdfWev3spyenq7TSdHPUSROamWbenZ29tFHH1mWdfny5c9//vN0YySykk1dkG9961v37t07OTnZkPOdwsnJCf2CRa4RaZ59VxkaAAAAWEH9fn+r3+8P72ETQn74wx++++67u7u777zzDjt4dnb2ve9979mzZ/v7+7/85S89v/LjH//43r172WzWczfgzjWYMe+MPsVbb731ta99jR30rAc9ODgIa4ScLUYP5dlX1lq+LOl0Oh6P//SnPw27If+nUCgcHx9rmjbdIBb9nK7aSQVaqaY+ePDgZz/72fCtyVakqctRrVbv3bvnDhzgVq1W6QJp9lEdko7X7/fHqurMllzXajX3cVZnLpfLBZZIzWQyg/6UIAgTVl0N+DuVSsVz3HOGnsrny8ReYnBby5eFrECB6Hq97i7UTJdWsgLFU/y1VTipcaxOU+v1+jgbK6xCU5cpkUj4L9RAzb+WOCFEURRBEIgrJZtSVZV2oKvVqqIo7iLhyWSSEOIvG86KnMyyDs+27Xw+z5ZcA2w4XdfT6TQKNYfIsqx0Oo3aD36GYXgCB0xt3NKk9IrQaDQMw3Cv49J1nef5crl8dHRkWRZbykWr/voTxVn2gbvK6aQURRFFMZ1Oj8xlcByHPQa1EmFdRWsrzPXjOI5/desgP/jBDxbamFUjiuLwKVcY37gBW5blTCZzdHSUz+dFUXRHPk3Tksmkqqru9V3sAY7jsOOmadIUuFQqNUsP23GcTqfjL1/s12q12MM4jlvORmEAsDg056Zerw8qbL58uq57dkwYhOO473znO4tuD6yrCTb/0HWdlhWTZdlTi1RRFP8NpiAInU7HsiwWm9lc+owr8GzbHtS39kTxRCLBnitwqx+YiGVZpmmiRBGEQtf1SqXiWfeyv78fVnsY98YKw43fEQfwmyBg8zyv6zrdAFuWZcMwhveS6d4sbJA8n8/TT9pc9uQIfOrAgRcUrZ0jVVUbjYYkSXhVI4H2RLPZ7Ir0RKdmWRZ97/l/9PjxYxKULrNMY26RwnFcsVhcdGNgjU1WmpSWBBcEodfrpdPpfD7v34uaoT3adrtt27Ysy9VqlRCSy+UW1z/z3+e2Wq0hLYSRTNPEPELkOI5D/2vFYrFcLkd9RMQ0TVmWA6M18+mnny6tPVPTNA3jfDCLiWuJS5JkWRZdNFKtVuPxeD6fNwzDf1mnU9eGYcTjcfphq1Qqc9yky8OyrMA/jkzyqSH3OHIMw8jn87FYbG22xRwz+/rf//53iHeWmUxm5GMqlQquRTCjCYbEGZ7nTdPUdb1UKnU6nWq1SnvPxLWxJvuA0VyMVCqladqCxuVM07Qsa9B+mnQIt1gsSpKE29uJIPc4Wtaviv5E2dfu/NYlKxaLR0dHg34qCAKdTFxmk2AtbfX7fV3Xx0+a8Hjy5MnTp0+73e7Lly8DH7C9vX379u3Lly/P0MhhTk9P//CHPxBC9vb2Lly44HmiFy9ePH/+/Pnz5+fn5zzPz1i6fCJ0UIHewUTUw4cPP/744+vXr9+8eZMeabVajuMcHBzEYrHp/uYavCwvXrw4Ozvrdrv0/RaLxRqNxu7u7t27d5ffmCdPnjx69Gh45/LKlSu3b98e/nc8J0UIOT4+DuukmJOTkzHvGi9cuOCueLh8p6enf/rTn87Pz90Ht7e3r127du3atYsXL4bVMFhl9BpLCGEX1W63O6hSXr/fv0Bm60hdvXr16tWrhBAaF9nxvb29s7Oz4+PjnZ2dxUVrQsjly5cjffWHCHn06NGjR4/Ozs7cB7e3t8NqDyHkww8/HPJTFjCGPCbwpFYkwDx9+nTMR165cmWhLRnp8uXLX/3qV09PT8/Ozp4/fx6LxXZ2dnZ2dsJtFay4a9eu0TjNNtDa29s7ODjwP3J3d5eQRRaJZCXWFvcUq2wNzp2WzSsUCuwIvTcqlUqFQqHZbE7xNyP6sjSbzeH3hTdu3AilYYGN4TiO1sgcXpp05EnNWD94dkPa5jnfdrsdblMBlmCaOWzYTO7cY/K/NdlhN2oZTNNUFGV43tOKZCmnUqlsNkvrIgxPqx7npD755JM5t28xkH0NG2LiLHHyv3qfpmlixdSGWL/c4/GteJYyLfJPFQoF0zTz+fzI3KsxT+rFixfhLupD9jWA22QB23EceuFOp9N0S0HPnh+wfsrlcjabZQsBNsqkWcoLbUwg0zSbzSbb82ccq39SzPAyI4Ig1Ot1RGvYHBMMiTuOI8uyp49FFzMYhjHndkWNp75x1Jdw0A12ho+pjrOEJuovy0Q1okMZlaVPOtEqj9U/KUaSpGazqSiKp8GCIBweHo4zlgCwTiYI2KqqBo6I0n26ol77cGqB9Y3dA5VRNHwvNXa5HPKY9XhZ1rJGdLROSpIk27Yty7Isq91up9NpURQxYw2baYKAPaQbXavV/AGbDqYtc+nzkg2pbzxmDyZaaOJxr9cbXgVinV6WNagRTffpcfdEo3hSkiRtbJcAgJlgDntIikrgRFez2STjDZxG0Tj1jddGKpWqVCq2bY+8aG7Uy8KsbJYyzTWZbpZ3ZU8KYGNNkyXuF4/H/Qfpmp+1vC8eM8mWhJ2zM7WF5h6T6LwskctSdhyH1gB23zN5Xu3InRQAUBMMiScSiUGDaf65LrpzNhk1GxoVqqqyvTtfvHjx/vvvj/mL3/72t3d2dniep8XMF9bAOaObdNVqtZHlqR3HUVXVtu21fFmiVSPaMIxxyolH66QA4P+MX2Nl0NKRSqXif3AulyOEpFKp+dV4CQ0d259RJpMJ+zwmNqjSmbt+1ox7ea3+y9JsNv25coIglEqlbrcbduv67Xa7UCjQ9IJB/B/DFT8pAAg0QQ/78PCQ3b/TC7coioeHh/4ekmmadNnu6iStzEIURUEQZkyYSiaT82rPSpEkieO4cYbBA63+y7LiWcqSJA1/8TOZjP9juOInBQCBJgjYoigWCgUas0VRHLSztWVZdIQ8l8utx8Aaz/Pumm5bW1vj/BbHcZZlretFkOUey7JMp0jX+2VZ2Szl4dG6Xq8P+Qyu7EkBQKDJks40TaPLtKrVqqIo/tKkmqbJstzr9RKJhKZpc2tmBK1xki1yj1cWx3G5XG7krh4AEEUTb/5BE4aP/ieVStGbdFpgnI4bp1IpwzDWdUFXJpMZkrNDrVmSreM4dNN0d9ahP/d4016WVeCej8jlcoPGvQBgHUw39V2pVAKrVgmCEJiDtk6G56DR+sZht3E+aNLZoPJknlSmzXlZVkq9Xi+VSjTHc3h6IABE3ZTba+bz+Xw+b1mWu8xhOp1ej0nr4TahvrFt25VKhXbXxsy224SXZQXJsizLsqqqYTcEABZupv2wNzZpZe2TbJF7DACwamYK2Btuje9XkHsMALBq5lOaFNYbco8jh05AYBoCYJ0gYEMAd+WsXC5Hs8TRb44QXdebzSb+ZQDrBEPiEMAwDDoPXa1W0UtbfbFYzHOE53lEa4A1g4ANAZB7HC10dTvWuAOsNwRsgMjjeR53VwBrD3PYAAAAEYCADRNA7jEAQFgQsGECyD0GAAgLAjYMhNxjAIDVgaQzGAi5xwAAq2Or3++H3QYAAAAY4f8BIdQcnyhveu8AAAAASUVORK5CYII=\"/>"
      ],
      "text/plain": [
       "<maelzel.scoring.renderlily.LilypondRenderer at 0x7f49e419f070>"
      ]
     },
     "execution_count": 3,
     "metadata": {},
     "output_type": "execute_result"
    }
   ],
   "source": [
    "from maelzel import scoring\n",
    "from maelzel.scorestruct import ScoreStruct\n",
    "from maelzel.common import F\n",
    "from maelzel.scoring import makeNote\n",
    "from maelzel.scoring import spanner \n",
    "\n",
    "notes = [\n",
    "    makeNote(60, F(2, 3)),\n",
    "    makeNote(61, F(2, 9)),\n",
    "    makeNote(62, F(2, 9)),\n",
    "    makeNote(63, F(1, 9)),\n",
    "    makeNote(64, F(1, 9)),\n",
    "    \n",
    "    makeNote(65, F(2, 3)),\n",
    "    \n",
    "]\n",
    "\n",
    "struct = ScoreStruct(timesig='3/4', tempo=52)\n",
    "\n",
    "part = scoring.Part(notes)\n",
    "quantprofile = scoring.quant.QuantizationProfile.fromPreset('high', debug=True, debugMaxDivisions=20, maxDivPenalty=0.1)\n",
    "quantprofile.maxGridDensity = 32\n",
    "quantprofile.mergeTupletsOfDifferentDuration = True\n",
    "qpart = scoring.quant.quantizePart(part, struct=struct, quantprofile=quantprofile)\n",
    "options = scoring.render.RenderOptions()\n",
    "score = scoring.quant.QuantizedScore([qpart])\n",
    "r = scoring.render.renderQuantizedScore(score, options)\n",
    "#score.dump()\n",
    "r# .write('~/tmp/quant.ly')"
   ]
  },
  {
   "cell_type": "code",
   "execution_count": 1,
   "id": "5d304887-fdfe-4def-963c-3226f7bd1280",
   "metadata": {},
   "outputs": [
    {
     "name": "stdout",
     "output_type": "stream",
     "text": [
      "Beat: 0 - 1 (dur: 1)\n",
      "Skipped 0 divisions with a div. penalty > 0.1\n",
      "Best 2 divisions: \n"
     ]
    },
    {
     "data": {
      "text/html": [
       "<table>\n",
       "<thead>\n",
       "<tr><th>error  </th><th>div  </th><th>makeSnappedNotation                             </th><th>slots  </th><th>info                                                                                                                                                                          </th></tr>\n",
       "</thead>\n",
       "<tbody>\n",
       "<tr><td>0      </td><td>(3,) </td><td>[«0.000:0.333 1/3♩ rest», «0.333:1.000 2/3♩ 4C»]</td><td>[0, 1] </td><td>gridError=0, rhythmComplexity=0 (numNotesAcrossSubdics=0, numTies=0), divPenalty=0 (0, divPenalty=0, cardinalityPenalty=0, numSubdivsPenalty=0, levelPenalty=0)               </td></tr>\n",
       "<tr><td>0.12849</td><td>(5,) </td><td>[«0.000:0.400 2/5♩ rest», «0.400:1.000 3/5♩ 4C»]</td><td>[0, 2] </td><td>gridError=0.128, rhythmComplexity=0 (numNotesAcrossSubdics=0, numTies=0), divPenalty=0.02 (0.0002, divPenalty=0.02, cardinalityPenalty=0, numSubdivsPenalty=0, levelPenalty=0)</td></tr>\n",
       "</tbody>\n",
       "</table>"
      ],
      "text/plain": [
       "<IPython.core.display.HTML object>"
      ]
     },
     "metadata": {},
     "output_type": "display_data"
    },
    {
     "name": "stdout",
     "output_type": "stream",
     "text": [
      "Beat: 1 - 2 (dur: 1)\n",
      "Skipped 0 divisions with a div. penalty > 0.1\n",
      "Best 20 divisions: \n"
     ]
    },
    {
     "data": {
      "text/html": [
       "<table>\n",
       "<thead>\n",
       "<tr><th>error    </th><th>div               </th><th>makeSnappedNotation                                                         </th><th>slots     </th><th>info                                                                                                                                                                                         </th></tr>\n",
       "</thead>\n",
       "<tbody>\n",
       "<tr><td>0.003    </td><td>(1, 1, 3)         </td><td>[«0.000:0.667 2/3♩ 4C#», «0.667:0.889 2/9♩ 4D», «0.889:1.000 1/9♩ 4D#»]     </td><td>[0, 2, 4] </td><td>gridError=0, rhythmComplexity=0 (numNotesAcrossSubdics=0, numTies=0), divPenalty=0.03 (0.0003, divPenalty=0, cardinalityPenalty=0, numSubdivsPenalty=0, levelPenalty=0.03)                   </td></tr>\n",
       "<tr><td>0.004    </td><td>(9,)              </td><td>[«0.000:0.667 2/3♩ 4C#», «0.667:0.889 2/9♩ 4D», «0.889:1.000 1/9♩ 4D#»]     </td><td>[0, 6, 8] </td><td>gridError=0, rhythmComplexity=0 (numNotesAcrossSubdics=0, numTies=0), divPenalty=0.04 (0.0004, divPenalty=0.04, cardinalityPenalty=0, numSubdivsPenalty=0, levelPenalty=0)                   </td></tr>\n",
       "<tr><td>0.0049103</td><td>(1, 1, 1, 1, 1, 3)</td><td>[«0.000:0.667 2/3♩ 4C#», «0.667:0.889 2/9♩ 4D», «0.889:1.000 1/9♩ 4D#»]     </td><td>[0, 4, 6] </td><td>gridError=0, rhythmComplexity=0.105 (numNotesAcrossSubdics=1, numTies=0), divPenalty=0.0361 (0.0003606, divPenalty=0.02, cardinalityPenalty=0, numSubdivsPenalty=0, levelPenalty=0.03)       </td></tr>\n",
       "<tr><td>0.0293   </td><td>(1, 1, 1, 3, 2)   </td><td>[«0.000:0.667 2/3♩ 4C#», «0.667:0.900 7/30♩ 4D», «0.900:1.000 1/10♩ 4D#»]   </td><td>[0, 4, 7] </td><td>gridError=0.028, rhythmComplexity=0.211 (numNotesAcrossSubdics=2, numTies=0), divPenalty=0.0541 (0.0005408, divPenalty=0.02, cardinalityPenalty=0.1, numSubdivsPenalty=0, levelPenalty=0.03) </td></tr>\n",
       "<tr><td>0.035368 </td><td>(1, 1, 8)         </td><td>[«0.000:0.667 2/3♩ 4C#», «0.667:0.875 5/24♩ 4D», «0.875:1.000 1/8♩ 4D#»]    </td><td>[0, 2, 7] </td><td>gridError=0.0339, rhythmComplexity=0.316 (numNotesAcrossSubdics=0, numTies=1), divPenalty=0.02 (0.0002, divPenalty=0.02, cardinalityPenalty=0, numSubdivsPenalty=0, levelPenalty=0)          </td></tr>\n",
       "<tr><td>0.035693 </td><td>(1, 1, 1, 1, 1, 4)</td><td>[«0.000:0.667 2/3♩ 4C#», «0.667:0.875 5/24♩ 4D», «0.875:1.000 1/8♩ 4D#»]    </td><td>[0, 4, 6] </td><td>gridError=0.0339, rhythmComplexity=0.333 (numNotesAcrossSubdics=1, numTies=1), divPenalty=0.04 (0.0004, divPenalty=0.04, cardinalityPenalty=0, numSubdivsPenalty=0, levelPenalty=0)          </td></tr>\n",
       "<tr><td>0.035991 </td><td>(1, 1, 3, 2)      </td><td>[«0.000:0.667 2/3♩ 4C#», «0.667:0.875 5/24♩ 4D», «0.875:1.000 1/8♩ 4D#»]    </td><td>[0, 4, 6] </td><td>gridError=0.0339, rhythmComplexity=0.38 (numNotesAcrossSubdics=2, numTies=1), divPenalty=0.02 (0.0002, divPenalty=0.02, cardinalityPenalty=0, numSubdivsPenalty=0, levelPenalty=0)           </td></tr>\n",
       "<tr><td>0.039397 </td><td>(1, 1, 7)         </td><td>[«0.000:0.667 2/3♩ 4C#», «0.667:0.905 5/21♩ 4D», «0.905:1.000 2/21♩ 4D#»]   </td><td>[0, 2, 7] </td><td>gridError=0.0379, rhythmComplexity=0.316 (numNotesAcrossSubdics=0, numTies=1), divPenalty=0.0361 (0.0003606, divPenalty=0.02, cardinalityPenalty=0.1, numSubdivsPenalty=0, levelPenalty=0.03)</td></tr>\n",
       "<tr><td>0.050625 </td><td>(1, 1, 5)         </td><td>[«0.000:0.667 2/3♩ 4C#», «0.667:0.867 1/5♩ 4D», «0.867:1.000 2/15♩ 4D#»]    </td><td>[0, 2, 5] </td><td>gridError=0.0505, rhythmComplexity=0 (numNotesAcrossSubdics=0, numTies=0), divPenalty=0.0361 (0.0003606, divPenalty=0.02, cardinalityPenalty=0.1, numSubdivsPenalty=0, levelPenalty=0.03)    </td></tr>\n",
       "<tr><td>0.051577 </td><td>(1, 1, 1, 3, 3)   </td><td>[«0.000:0.667 2/3♩ 4C#», «0.667:0.867 1/5♩ 4D», «0.867:1.000 2/15♩ 4D#»]    </td><td>[0, 4, 7] </td><td>gridError=0.0505, rhythmComplexity=0.211 (numNotesAcrossSubdics=2, numTies=0), divPenalty=0.0811 (0.0008112, divPenalty=0.02, cardinalityPenalty=0.1, numSubdivsPenalty=0, levelPenalty=0.03)</td></tr>\n",
       "<tr><td>0.061075 </td><td>(1, 1, 4)         </td><td>[«0.000:0.667 2/3♩ 4C#», «0.667:0.917 1/4♩ 4D», «0.917:1.000 1/12♩ 4D#»]    </td><td>[0, 2, 5] </td><td>gridError=0.061, rhythmComplexity=0 (numNotesAcrossSubdics=0, numTies=0), divPenalty=0.02 (0.0002, divPenalty=0.02, cardinalityPenalty=0, numSubdivsPenalty=0, levelPenalty=0)               </td></tr>\n",
       "<tr><td>0.061166 </td><td>(1, 1, 1, 1, 1, 2)</td><td>[«0.000:0.667 2/3♩ 4C#», «0.667:0.917 1/4♩ 4D», «0.917:1.000 1/12♩ 4D#»]    </td><td>[0, 4, 6] </td><td>gridError=0.061, rhythmComplexity=0.105 (numNotesAcrossSubdics=1, numTies=0), divPenalty=0.02 (0.0002, divPenalty=0.02, cardinalityPenalty=0, numSubdivsPenalty=0, levelPenalty=0)           </td></tr>\n",
       "<tr><td>0.062343 </td><td>(1, 1, 1, 4, 2)   </td><td>[«0.000:0.650 13/20♩ 4C#», «0.650:0.900 1/4♩ 4D», «0.900:1.000 1/10♩ 4D#»]  </td><td>[0, 4, 8] </td><td>gridError=0.061, rhythmComplexity=0.38 (numNotesAcrossSubdics=2, numTies=1), divPenalty=0.04 (0.0004, divPenalty=0.04, cardinalityPenalty=0, numSubdivsPenalty=0, levelPenalty=0)            </td></tr>\n",
       "<tr><td>0.07335  </td><td>(1, 1, 1, 4, 3)   </td><td>[«0.000:0.650 13/20♩ 4C#», «0.650:0.867 13/60♩ 4D», «0.867:1.000 2/15♩ 4D#»]</td><td>[0, 4, 8] </td><td>gridError=0.0699, rhythmComplexity=0.667 (numNotesAcrossSubdics=2, numTies=2), divPenalty=0.075 (0.00075, divPenalty=0.04, cardinalityPenalty=0.1, numSubdivsPenalty=0, levelPenalty=0.03)   </td></tr>\n",
       "<tr><td>0.08332  </td><td>(1, 1, 1, 2, 2)   </td><td>[«0.000:0.700 7/10♩ 4C#», «0.700:0.900 1/5♩ 4D», «0.900:1.000 1/10♩ 4D#»]   </td><td>[0, 4, 6] </td><td>gridError=0.083, rhythmComplexity=0.211 (numNotesAcrossSubdics=2, numTies=0), divPenalty=0.02 (0.0002, divPenalty=0.02, cardinalityPenalty=0, numSubdivsPenalty=0, levelPenalty=0)           </td></tr>\n",
       "<tr><td>0.10089  </td><td>(8,)              </td><td>[«0.000:0.625 5/8♩ 4C#», «0.625:0.875 1/4♩ 4D», «0.875:1.000 1/8♩ 4D#»]     </td><td>[0, 5, 7] </td><td>gridError=0.1, rhythmComplexity=0.316 (numNotesAcrossSubdics=0, numTies=1), divPenalty=0.02 (0.0002, divPenalty=0.02, cardinalityPenalty=0, numSubdivsPenalty=0, levelPenalty=0)             </td></tr>\n",
       "<tr><td>0.10111  </td><td>(1, 1, 2, 2)      </td><td>[«0.000:0.625 5/8♩ 4C#», «0.625:0.875 1/4♩ 4D», «0.875:1.000 1/8♩ 4D#»]     </td><td>[0, 3, 5] </td><td>gridError=0.1, rhythmComplexity=0.38 (numNotesAcrossSubdics=2, numTies=1), divPenalty=0.02 (0.0002, divPenalty=0.02, cardinalityPenalty=0, numSubdivsPenalty=0, levelPenalty=0)              </td></tr>\n",
       "<tr><td>0.10196  </td><td>(11,)             </td><td>[«0.000:0.636 7/11♩ 4C#», «0.636:0.909 3/11♩ 4D», «0.909:1.000 1/11♩ 4D#»]  </td><td>[0, 7, 10]</td><td>gridError=0.101, rhythmComplexity=0 (numNotesAcrossSubdics=0, numTies=0), divPenalty=0.1 (0.001, divPenalty=0.1, cardinalityPenalty=0, numSubdivsPenalty=0, levelPenalty=0)                  </td></tr>\n",
       "<tr><td>0.11003  </td><td>(1, 1, 2)         </td><td>[«0.000:0.667 2/3♩ 4C#», «0.667:0.833 1/6♩ 4D», «0.833:1.000 1/6♩ 4D#»]     </td><td>[0, 2, 3] </td><td>gridError=0.11, rhythmComplexity=0 (numNotesAcrossSubdics=0, numTies=0), divPenalty=0 (0, divPenalty=0, cardinalityPenalty=0, numSubdivsPenalty=0, levelPenalty=0)                           </td></tr>\n",
       "<tr><td>0.11005  </td><td>(6,)              </td><td>[«0.000:0.667 2/3♩ 4C#», «0.667:0.833 1/6♩ 4D», «0.833:1.000 1/6♩ 4D#»]     </td><td>[0, 4, 5] </td><td>gridError=0.11, rhythmComplexity=0 (numNotesAcrossSubdics=0, numTies=0), divPenalty=0.02 (0.0002, divPenalty=0.02, cardinalityPenalty=0, numSubdivsPenalty=0, levelPenalty=0)                </td></tr>\n",
       "</tbody>\n",
       "</table>"
      ],
      "text/plain": [
       "<IPython.core.display.HTML object>"
      ]
     },
     "metadata": {},
     "output_type": "display_data"
    },
    {
     "name": "stdout",
     "output_type": "stream",
     "text": [
      "Beat: 2 - 3 (dur: 1)\n",
      "Skipped 0 divisions with a div. penalty > 0.1\n",
      "Best 11 divisions: \n"
     ]
    },
    {
     "data": {
      "text/html": [
       "<table>\n",
       "<thead>\n",
       "<tr><th>error    </th><th>div               </th><th>makeSnappedNotation                                </th><th>slots  </th><th>info                                                                                                                                                                                       </th></tr>\n",
       "</thead>\n",
       "<tbody>\n",
       "<tr><td>0.004    </td><td>(9,)              </td><td>[«0.000:0.111 1/9♩ 4E», «0.111:1.000 8/9♩ rest»]   </td><td>[0, 1] </td><td>gridError=0, rhythmComplexity=0 (numNotesAcrossSubdics=0, numTies=0), divPenalty=0.04 (0.0004, divPenalty=0.04, cardinalityPenalty=0, numSubdivsPenalty=0, levelPenalty=0)                 </td></tr>\n",
       "<tr><td>0.0061644</td><td>(3, 1, 1, 1, 1, 1)</td><td>[«0.000:0.111 1/9♩ 4E», «0.111:1.000 8/9♩ rest»]   </td><td>[0, 2] </td><td>gridError=0, rhythmComplexity=0.158 (numNotesAcrossSubdics=1, numTies=0), divPenalty=0.0361 (0.0003606, divPenalty=0.02, cardinalityPenalty=0, numSubdivsPenalty=0, levelPenalty=0.03)     </td></tr>\n",
       "<tr><td>0.027006 </td><td>(8,)              </td><td>[«0.000:0.125 1/8♩ 4E», «0.125:1.000 7/8♩ rest»]   </td><td>[0, 1] </td><td>gridError=0.0269, rhythmComplexity=0 (numNotesAcrossSubdics=0, numTies=0), divPenalty=0.02 (0.0002, divPenalty=0.02, cardinalityPenalty=0, numSubdivsPenalty=0, levelPenalty=0)            </td></tr>\n",
       "<tr><td>0.027393 </td><td>(2, 1, 1, 1, 1)   </td><td>[«0.000:0.100 1/10♩ 4E», «0.100:1.000 9/10♩ rest»] </td><td>[0, 1] </td><td>gridError=0.0223, rhythmComplexity=0.5 (numNotesAcrossSubdics=1, numTies=1), divPenalty=0.02 (0.0002, divPenalty=0.02, cardinalityPenalty=0, numSubdivsPenalty=0, levelPenalty=0)          </td></tr>\n",
       "<tr><td>0.027683 </td><td>(4, 1, 1, 1, 1, 1)</td><td>[«0.000:0.125 1/8♩ 4E», «0.125:1.000 7/8♩ rest»]   </td><td>[0, 3] </td><td>gridError=0.0269, rhythmComplexity=0.158 (numNotesAcrossSubdics=1, numTies=0), divPenalty=0.04 (0.0004, divPenalty=0.04, cardinalityPenalty=0, numSubdivsPenalty=0, levelPenalty=0)        </td></tr>\n",
       "<tr><td>0.041188 </td><td>(11,)             </td><td>[«0.000:0.091 1/11♩ 4E», «0.091:1.000 10/11♩ rest»]</td><td>[0, 1] </td><td>gridError=0.037, rhythmComplexity=0.474 (numNotesAcrossSubdics=0, numTies=1), divPenalty=0.1 (0.001, divPenalty=0.1, cardinalityPenalty=0, numSubdivsPenalty=0, levelPenalty=0)            </td></tr>\n",
       "<tr><td>0.043496 </td><td>(3, 1, 1, 1, 1)   </td><td>[«0.000:0.133 2/15♩ 4E», «0.133:1.000 13/15♩ rest»]</td><td>[0, 2] </td><td>gridError=0.0402, rhythmComplexity=0.5 (numNotesAcrossSubdics=1, numTies=1), divPenalty=0.0541 (0.0005408, divPenalty=0.02, cardinalityPenalty=0.1, numSubdivsPenalty=0, levelPenalty=0.03)</td></tr>\n",
       "<tr><td>0.051095 </td><td>(2, 1, 1, 1, 1, 1)</td><td>[«0.000:0.083 1/12♩ 4E», «0.083:1.000 11/12♩ rest»]</td><td>[0, 1] </td><td>gridError=0.0485, rhythmComplexity=0.5 (numNotesAcrossSubdics=1, numTies=1), divPenalty=0.02 (0.0002, divPenalty=0.02, cardinalityPenalty=0, numSubdivsPenalty=0, levelPenalty=0)          </td></tr>\n",
       "<tr><td>0.054417 </td><td>(7,)              </td><td>[«0.000:0.143 1/7♩ 4E», «0.143:1.000 6/7♩ rest»]   </td><td>[0, 1] </td><td>gridError=0.0544, rhythmComplexity=0 (numNotesAcrossSubdics=0, numTies=0), divPenalty=0.02 (0.0002, divPenalty=0.02, cardinalityPenalty=0, numSubdivsPenalty=0, levelPenalty=0)            </td></tr>\n",
       "<tr><td>0.088802 </td><td>(6,)              </td><td>[«0.000:0.167 1/6♩ 4E», «0.167:1.000 5/6♩ rest»]   </td><td>[0, 1] </td><td>gridError=0.0875, rhythmComplexity=0.474 (numNotesAcrossSubdics=0, numTies=1), divPenalty=0.02 (0.0002, divPenalty=0.02, cardinalityPenalty=0, numSubdivsPenalty=0, levelPenalty=0)        </td></tr>\n",
       "<tr><td>0.13049  </td><td>(5,)              </td><td>[«0.000:0.200 1/5♩ 4E», «0.200:1.000 4/5♩ rest»]   </td><td>[0, 1] </td><td>gridError=0.13, rhythmComplexity=0 (numNotesAcrossSubdics=0, numTies=0), divPenalty=0.02 (0.0002, divPenalty=0.02, cardinalityPenalty=0, numSubdivsPenalty=0, levelPenalty=0)              </td></tr>\n",
       "</tbody>\n",
       "</table>"
      ],
      "text/plain": [
       "<IPython.core.display.HTML object>"
      ]
     },
     "metadata": {},
     "output_type": "display_data"
    },
    {
     "name": "stdout",
     "output_type": "stream",
     "text": [
      "Node(3/2, \n",
      "  «0.000:0.333 1/3♩ 3/2 rest»\n",
      "  «0.333:1.000 2/3♩ 3/2 4C»\n",
      ") Node(3/2, \n",
      "  «1.000:1.667 2/3♩ 3/2 4C#»\n",
      "  Node(3/2, \n",
      "    «1.667:1.889 2/9♩ 3/2,3/2 4D»\n",
      "    «1.889:2.000 1/9♩ 3/2,3/2 4D#»\n",
      "  )\n",
      ") acrossBeat=True, syncopated=False\n"
     ]
    },
    {
     "data": {
      "text/html": [
       "<b>LilypondRenderer</b> (1 part)<br>\n",
       "        <img style=\"display:inline; padding:10px;\n",
       "margin-top:14px;\n",
       "width:658.0\"\n",
       "             src=\"data:image/png;base64,iVBORw0KGgoAAAANSUhEUgAAApIAAACICAIAAADbOJzlAAAJLmlDQ1BJQ0MgUHJvZmlsZQAAeJyVlWdQk1kXx+/zPOmFQBJCh1BDkSolgJQQWijSq6hA6J1QRWyIuAIriog0RZBFARdclSJrRRQLi4ICFnSDLALKunEVUUFZcN8ZnfcdP7z/mXvPb/5z5t5zz/lwASCIg2XBy3tiUrrA28mOGRgUzATfKIyflsLx9HQD39W7EQCtxHu638/5rggRkWn85bi4vHL5KYJ0AKDsZdbMSk9Z4aPLTA+P/8JnV1iwXOAy31jh6H957EvOvyz6kuPrzV1+FQoAHCn6Gw7/hv9z74pUOIL02KjIbKZPclR6Vpggkpm20gkel8v0FCRHxSZEflPw/5X8HaVHZqevRG5yyiZBbHRMOvN/DjUyMDQEX2fxxutLjyFG/3/PZ0VfveR6ANhzACD7vnrhlQB07gJA+tFXT225r5R8ADru8DMEmf96qJUNDQiAAuhABigCVaAJdIERMAOWwBY4ABfgAXxBENgA+CAGJAIByAK5YAcoAEVgHzgIqkAtaABNoBWcBp3gPLgCroPb4C4YBo+BEEyCl0AE3oEFCIKwEBmiQTKQEqQO6UBGEBuyhhwgN8gbCoJCoWgoCcqAcqGdUBFUClVBdVAT9At0DroC3YQGoYfQODQD/Q19hBGYBNNhBVgD1ofZMAd2hX3h9XA0nArnwPnwXrgCrodPwh3wFfg2PAwL4ZfwHAIQIsJAlBFdhI1wEQ8kGIlCBMhWpBApR+qRVqQb6UPuIUJkFvmAwqBoKCZKF2WJckb5ofioVNRWVDGqCnUC1YHqRd1DjaNEqM9oMloerYO2QPPQgehodBa6AF2ObkS3o6+hh9GT6HcYDIaBYWHMMM6YIEwcZjOmGHMY04a5jBnETGDmsFisDFYHa4X1wIZh07EF2ErsSewl7BB2EvseR8Qp4YxwjrhgXBIuD1eOa8ZdxA3hpnALeHG8Ot4C74GPwG/Cl+Ab8N34O/hJ/AJBgsAiWBF8CXGEHYQKQivhGmGM8IZIJKoQzYlexFjidmIF8RTxBnGc+IFEJWmTuKQQUgZpL+k46TLpIekNmUzWINuSg8np5L3kJvJV8lPyezGamJ4YTyxCbJtYtViH2JDYKwqeok7hUDZQcijllDOUO5RZcby4hjhXPEx8q3i1+DnxUfE5CZqEoYSHRKJEsUSzxE2JaSqWqkF1oEZQ86nHqFepEzSEpkrj0vi0nbQG2jXaJB1DZ9F59Dh6Ef1n+gBdJEmVNJb0l8yWrJa8IClkIAwNBo+RwChhnGaMMD5KKUhxpCKl9ki1Sg1JzUvLSdtKR0oXSrdJD0t/lGHKOMjEy+yX6ZR5IouS1Zb1ks2SPSJ7TXZWji5nKceXK5Q7LfdIHpbXlveW3yx/TL5ffk5BUcFJIUWhUuGqwqwiQ9FWMU6xTPGi4owSTclaKVapTOmS0gumJJPDTGBWMHuZImV5ZWflDOU65QHlBRWWip9KnkqbyhNVgipbNUq1TLVHVaSmpOaulqvWovZIHa/OVo9RP6Tepz6vwdII0Nit0akxzZJm8Vg5rBbWmCZZ00YzVbNe874WRoutFa91WOuuNqxtoh2jXa19RwfWMdWJ1TmsM7gKvcp8VdKq+lWjuiRdjm6mbovuuB5Dz00vT69T75W+mn6w/n79Pv3PBiYGCQYNBo8NqYYuhnmG3YZ/G2kb8Y2qje6vJq92XL1tddfq18Y6xpHGR4wfmNBM3E12m/SYfDI1MxWYtprOmKmZhZrVmI2y6WxPdjH7hjna3M58m/l58w8WphbpFqct/rLUtYy3bLacXsNaE7mmYc2ElYpVmFWdldCaaR1qfdRaaKNsE2ZTb/PMVtU2wrbRdoqjxYnjnOS8sjOwE9i1281zLbhbuJftEXsn+0L7AQeqg59DlcNTRxXHaMcWR5GTidNmp8vOaGdX5/3OozwFHp/XxBO5mLlscel1Jbn6uFa5PnPTdhO4dbvD7i7uB9zH1qqvTVrb6QE8eB4HPJ54sjxTPX/1wnh5elV7Pfc29M717vOh+Wz0afZ552vnW+L72E/TL8Ovx5/iH+Lf5D8fYB9QGiAM1A/cEng7SDYoNqgrGBvsH9wYPLfOYd3BdZMhJiEFISPrWeuz19/cILshYcOFjZSNYRvPhKJDA0KbQxfDPMLqw+bCeeE14SI+l3+I/zLCNqIsYibSKrI0cirKKqo0ajraKvpA9EyMTUx5zGwsN7Yq9nWcc1xt3Hy8R/zx+KWEgIS2RFxiaOK5JGpSfFJvsmJydvJgik5KQYow1SL1YKpI4CpoTIPS1qd1pdOXP8X+DM2MXRnjmdaZ1Znvs/yzzmRLZCdl92/S3rRn01SOY85Pm1Gb+Zt7cpVzd+SOb+FsqdsKbQ3f2rNNdVv+tsntTttP7CDsiN/xW55BXmne250BO7vzFfK350/sctrVUiBWICgY3W25u/YH1A+xPwzsWb2ncs/nwojCW0UGReVFi8X84ls/Gv5Y8ePS3qi9AyWmJUf2YfYl7RvZb7P/RKlEaU7pxAH3Ax1lzLLCsrcHNx68WW5cXnuIcCjjkLDCraKrUq1yX+ViVUzVcLVddVuNfM2emvnDEYeHjtgeaa1VqC2q/Xg09uiDOqe6jnqN+vJjmGOZx543+Df0/cT+qalRtrGo8dPxpOPCE94nepvMmpqa5ZtLWuCWjJaZkyEn7/5s/3NXq25rXRujregUOJVx6sUvob+MnHY93XOGfab1rPrZmnZae2EH1LGpQ9QZ0ynsCuoaPOdyrqfbsrv9V71fj59XPl99QfJCyUXCxfyLS5dyLs1dTrk8eyX6ykTPxp7HVwOv3u/16h245nrtxnXH61f7OH2XbljdOH/T4ua5W+xbnbdNb3f0m/S3/2byW/uA6UDHHbM7XXfN73YPrhm8OGQzdOWe/b3r93n3bw+vHR4c8Rt5MBoyKnwQ8WD6YcLD148yHy083j6GHit8Iv6k/Kn80/rftX5vE5oKL4zbj/c/83n2eII/8fKPtD8WJ/Ofk5+XTylNNU0bTZ+fcZy5+2Ldi8mXKS8XZgv+lPiz5pXmq7N/2f7VLwoUTb4WvF76u/iNzJvjb43f9sx5zj19l/huYb7wvcz7Ex/YH/o+BnycWshaxC5WfNL61P3Z9fPYUuLS0j9CLJC+ERlPpwAAHzxJREFUeJzt3c2P29bVP/DrwEbsNk5ILfxSFxhLk8e1UaRpxbHdnQ2ISpFNuxnJizZGFxEH6KZAUYj6E0gVfQtQA6K6SYEuLA6CdtFFSwpwFy1gV1RstAs3tqgxUANjL0S5SeAxEmCexfmFD3+kpNELRYnU97OyOZrhJSXx8F6ee+6h/f19ljjXrl1rNBqGYYiiuOi2AAAAhOalRTcAAAAAxoWwDQAAEBsI2wAAALGBsA0AABAbCNsAAACxgbANAAAQGwjbAAAAsYGwDQAAEBsI2wAAALGBsA0AABAbCNsAAACxgbANAAAQGwjbAAAAsYGwDQAAEBsI2wAAALGBsA0AABAbCNsAAACxgbANAAAQG4cX3YB443leFMVMJrOxscHzPG00DMM0TU3TBEFwX+k4jqIopmm2223GWDqdFkWxUqlkMpnFNB0AAGIIYXsm/X5/e3s7uL1UKnljtmVZoigWCgVVVUVRtCyrVqvV63Vd11VVlSQpwiYDAECMYZA8ZBzHlctlTdPcLY7jiKIoSZKmaaIoMsYEQdA0rVQq9fv9ra0t27YX114AAIgT9LanZ5omY6zVajHGHMehjRSYvTRN6/f7lUrFt31ra6terzPGFEXxhnkAAIBhELZn5R0MH4jiOo2Qe1/s/hu9bQAAGBMGyafn9rBHo1S1ZrNZKBS82y3LmkuzAAAguZLQ27ZtW9f1VqtFcTSfz3/yyScR7LfVamWzWcdxdF3vdDqMsfX1dUos976sWCzSYLgPjbEzxpBMDgAAY4p32LZtW1EUX1BsNptHjhyJrAGpVCqbzfI8b9t2t9tljJXLZVVV3deIomgYhmEYW1tb3t+t1Wr0j2KxGE1rAebHsizHcXieP/CxEQDMZD+2Go0Gx3EjDu2DDz4Y+Iu5XG6cM2MYxoi993o9juOy2Wyn03E3KopCv1sqlUY3vlwu0yvL5fIUxw6wPBqNRjqdzuVyuVyO47h0Ot1qtRbdKIDEimvYdruqI7z77rsDfzeUsG0YBmNMURTf9lKpdOCvNxqNMaM7wJKjL4L7aacEzHQ6vdhWASRYLFPSbNuWZfnAl33pS18auN00zXFOTXAqlxcNfQeb4Y6Eu7HZx7Isqq/im94NEEcUtt3baEEQcrlct9t1UzcAIFyxfLatKEq/3z/wZV//+tfn2oyBcX30tC4ql8YYazQavsRygDhKpVK+LZjQCDBXsextj3kjP9e4aFlWJpPJZDLjz+OimE2/4rZtzJEDgOUky3Kr1dJ1nf5rmma326WS+4ttGEBSxbK3TQnbo5XLZXdtDx9RFJvN5oF/wTCMEZceRVGoGY1GY5zUWSpxmslkTNP0NkzXdUzgToYbN26cO3du0a2Yo2FZ4t4RJlmWOY5zo7iP4zhJ/bR/9NFHb7/9djqdXnRDIPliGbY5jhs9SJ7NZr1TsObBrbWysbHh3e5elfL5vPfFA2M2Y4wmfEPcffWrX338+PGiWzF3A+9lLcva2NjIZrPtdrtcLlcqlWF3zIIgjHPPHVNnzpz5z3/+s+hWQPLFMmxLklStVof9dHNzc3Sql6qq4xQ4G92HzmQyzWYz+IiaMtE4jvOu61UoFOiK5s4Qc9Xr9c3NzQMbA0vu8OFYfpVCIQhCq9USBEGW5Wq1mkqlhj334Xk+wWH7s88+W3QTYDXMO1V9Hnq93sBJXOl0utFoRNYGjuNKpVKv13M3utnjtVrN3ehO0R5miqnbrVbLMAzMjl0e9IHELHz6SHuLGawC+o7ncrlFNyQ6dAlatTd6ScSyi8DzvGmauq4bhkFpq4IgbGxsRJmbTW2QZTmVStElm6qk5XI535IhIwYGpqDruizLVA/Vsiye53VdR10qiB5VFC4Wi8GPn23bKNmbVKZpSpLE87woirquZzIZXdeHPRaBeYhl2CaFQmGxc6gEQTBN07Is27Zt2xYEgXLLfS/b/6ILMjvTNIvFovt8kZ4pFgoFTLmB6EmS1O/3aUUA2uI+e8JFPKl0XS8Wi6VSiR5EVioVQRAKhQKm6UcplhPAlgp9amVZDi4iEjqUtoDl0e/3OY7zVtSn+J1OpzH8k0iO40iSxHGcm/DL83yhUGg2m0mdILCcQg7bNG4c7t8EF0pbwPLI5XKSJLkjXpZljZ79BXGnaVq/36cRcnfj+vo6G7uWBoQizEFyTdOotKfjOCjbOQ/Up3e7MihtAQuk63qhUBAEQRRF27a3t7eDiR2QJFRw3oemsPZ6vcibs7pCC9tuzGaM1ev1fD6P4p3zMH5pC4C5oqxMSuxgjKmqijS0ZBs4bxbXn+iFE7a9MZtIkiSKYmIyU6rV6s9//vOzZ88eP348sp1ubW0Fb33GL21BcX2cGeozev78+cOHD7///e//4he/mPe+lha9C8GnGIk3MA1z1dD7voSXu5/85Ce///3vL1y4MF1dgUql4h3Jo2IV3kuKqqo0EZ+Gyn0sy1IUZaJL0Mcff/zgwYP33nvvBz/4wRQNXhWzzyHrdDoD171O0hzWhXwhh61+SNO1aapocOVQ14HzxcP10ksvzevsx0Gv1xu90iskm2EY3hIOS+Kll2bKXvLNRHcv9aVSqVwub25uuvUzBk7gdlcxnhTP81GdoVg6tD/z9KRhJb45jrNtewnvQKeQzWY//PDDtbW1119/PbKdDuxtex06dIgx1ul0BnZ3IuttP3z48NGjRyzUqW4AMDu6REx94fL1thljtm0rikIX9mKx6DjO1tZWNpsdmEk+RW+73W47jnPx4sU7d+5M0eBVMWPYpylJwySmw73wGliNRqNcLvvKotFJXngnz+3WL7YZAOAz7+swXRi9RSFD+YMrVW9uCrNOAAsW2Sa0Eg7yycNCZdi9ZxulLQAGsiyL6iAtuiGJQhP8vGfVtu1ms5nNZr3rL0AEZgrb9Lb5NnIcV6vVbNumdboQuUOB0hYAB6Jam7IsK4rirm2/6EYlBK0T4y3LQdEaV/jozRS2g6n/9JCD3k56Ljt6FB3GhNIWAKNR6V9N08wvdLtdTEMNl9tzkCSp2WzWajV0G6I3U9j2heRsNmuappseRYO329vbEWRFJZ6u65Zl0dqIhUJhY2ODKqLjOwNAUPp3rlRVpSUWaSkj27ZbrRaGxxdipnnb3gEojuNM0/Q+Z83n87T4lWmauOedEUpbAIyG0r9zJQiCbdt0D7S1tYXrzwLNFLb7/b77b03ThuVGtVothO1QoLQFwDAo/RsBnMxlEE6VtFwuNyIwJyArhJ7oeDPCwLW1tWVZVj6fX3RDYBnduHHj3Llzof/ZgfFjotK/lmWF+Pzuo48++tGPfhTWXwuLoiiGYfhKWC4zamqMGrwYs8wec//IwKnDjUYjlL0AQEydP39+TheugVN7aa2LbDbLGCuXyyPKlnmvTmE5c+bMPM8lwP8TwsKdw4ahvMvFICsNYAX997//jXJ3giC0Wi3LssrlcrVaHTE3aR5XpM8++yz0vwkQNFNxU6qcVyqVBn49JEmq1+v0b8Mw8FAEYNVQ5eNisTh1eephBEEYXWhodOlfFuogeb1ebzQauVwOWesQgRCebQ/78uATDACMsbNnz871rl3X9VarVSwWg/MhbdseFrZDnDy5/NUpHMexLAt9p2QIYZB8YC6SZVm0oBtBAU4AmBOU/j2Qoij5fF5V1UU3BEIQQtgeyJfxgaogADAnKP07JkxkT4j9yBdmBgAAgEl9+ctfbrfbhxljGxsb00XumzdvPnr06MqVK5cvX/Zuv3v37l/+8hf3v2+++eZ3vvOdGZs7zO3bt+/evfvs2TPvxpdffvn8+fOXL1+mRd0BYCHoEnHp0qWrV6/Oby97e3t//OMf9/b21tbWnj179u9//3ttbe3KlSunTp2a3069bt26defOnbW1tWvXrkWzx0lRC0+fPv3OO+8sui3gt7OzQ+PT3m8KfXd8r/z00093dnZmmlFNwd63mGuv16NVO10hrsbq2xFN0Mzlcp1OhzYahuEN1YlZ8BsgjqJcqL7T6RiGYRiGezWIDF0Jl3mVaGrha6+9tuiGwABuSqP3m0LfnSDDMGZ6tk1FgH1F0BRF8SajcRw3p8qmhUKh3W4zxiqVipssKoqiN+1i9NxNAJgryggLVgufh0wmI4oirdcZwe686ACXP/3t2bNnuB4mwExhm6YTeJfctiyLlg9xFQqFeXyaLcty9yvLsjfVwneX4M0vBYAoaZpmGIZ3keZEkmXZMIxYRERcDxNgprAtCAKNSLtTtIPruFUqlVl2MYy3TkK73faGat9dgrfrDwBR4nl+ReYKi6K4/L1txli3213s7YXjOJiHNqNZJ4DRd5KG5mVZplFrV7lcntOAle8bgnWxAADGIcvyAqtNa5pWqVSwUPcsZg3bVGtF13Vd133D4xzHzamrzRgTBMHNfp/rjgAAkqTf7y9wqFyW5Ww2W6/X0eee2qxhm0anu91u8O5pxArcoVBVlXJHHccZUVSBss0BAFacOxG3Wq0usPi0aZrpdLpSqYxYVhVGmDVs8zy/ubnJGOv3+97tm5ubc0og96LcUd9GX2Y7OuIAAIyxtbU1d5BSkqRFDZXzPE/P1yVJ8l2uYRyzhm3HcYIF89Lp9KKyHmzbdvv9HMcZhhHB3QMAwPJ78uSJqqq0Glu3213gULkoiul0ut/vFwoFLOs8qcOMMdu2p65V+8tf/tKXhsYY++lPfxrZPdSf/vSnX/3qVwN/9NZbbzEsRAawBD7++OMHDx4suhVz8T//8z/Hjx9fdCsOsLOzwxj75z//aZrm22+/fevWrQcPHlSr1bW1tXPnzi2kSTQLqdvtXr58+caNGwtpw5JwY+jOzo4bsHq93tBf2N/fp1FuAAAAWGaqqh7a39+npVgn/eWB3dxisUgjMAvUbrfd8g6vvPKKqqqLup0EAFKv132rAibGMlz0DuSef7e1N2/e/O1vf8sYU1V1IXm777zzzu7urvvfd999d2krus+bG7O8n6Vyufzhhx8GX2wYxpQ1yYctCx99NeCBvE3iOC70VnU6HUVRyuWyYRjh/mWARLp+/XrY17plcf369UWf3YN5p8v2ej3aSItHLKSU+sDH6it7OY2iJrllWcPyvKJ8kOw4jmmapmmOzmjo9/vhTjOwLEsQhEqlUq1W8/l84gs3Aszu/v37i27CvMTr0Pr9vpu0S7Nsms1mxOtwW5Y1MGwjq3xME4dtx3EkSfJN9+I4ju7mhvXCQ2dZViaTyefz+Xw+k8mMfr/DbVWhUPAevrfIjOM4PM8jkAPA0tre3qaejCRJ1OGOcv60ruuiKPoiCGOM4ziUThvT4Ul/IVjBlOM46mRXq9Xt7e3QmnZQM9w3nor+RPPJs207WOTcNE2aPk4fx42NjQhaAhAj3/72t+/cuTPvhbcjRotYnz9/ftENmZgkSYIgZDKZQqFQrVZbrVY0+9U0bWtrK7idgkgsirovhYmG4Gu1WvAvNBoN+induLn/navRB+L7UbgPb4K73tzc7PV6bkK+++go2RqNxsWLF6N5u2MEp2UgGo2LZuHtyMTooKipV65c8V0V6ZIezePtgeGDMZZOp1utVgQNWFpzfLZt23Zw+FdRFPc5N/U4o7lxozl/Lu8HIviomwqnhyWYNbq9vZ1KpWikIZfLrcg9Y6vV+sc//hHZfXpc4LTA0nrzzTfdS2Wz2ZRlmRZh8i6+PCe2bQ/sZ2ezWcoWmncDkmSCsO0dlyabm5veQE7RMZqsNG9OnKIo3ocivgaE/shEVdXgfVA6naZJFOHeIgAAhGV3d1eSJDdyV6tV6udFMAFs4EPMbDaLsfEpjPts2zRN33PrbDbrq2BKve12u02ZWWE1cSBVVS3LoqfsvlU7fdNDQ1/RhOd50zQty6IdbWxs0FMi9/F2iPsCgIXQdf1nP/vZ559/PuI1jx8/ZrHKJKdaadSNob4vZdRGEDjpdsGXGKSqKmL2FMYN2+Ms8MXzfDabbbfbuq7POyeQYmehUGg2m5Ik2bZNwyyNRsO9vaDS6HOKo4IgeAd2bNtuNpvpdBqjPQAJQA87xnmlt2bIkrt37x79Q5KkTqfjzoKJYIyQ53lfDnk6nUYnZzqH9vf3NU0bXcCo1+v5yrWsra29/vrrwVc+fPjw0aNHJ06cOHPmDGPs2LFjx44dC7fFwbY9efLk2bNnn376KW05fvz48ePHU6nUsWPHjhw5Mu8GkJ2dnU6n85WvfOXChQsR7G4Z0Hs97JOwsnBaBordaaEGj/PKV1999eLFi/Nuz4zcwzl//jxdnNkXI6OMsYsXL7766qsRNOPJkyf/+te/6N/UzYtgp8vPjbDeL4j77vh88MEHhxljnU5n9B+lsSDX8ePHg9+9x48fP3nyhHbz9OnTp0+f0vajR4+ePHnyzJkzcwqfqVQqlUr97W9/o33RXp4/f37//v3PP//8xIkTb7zxxjz260OnKJVKRbAvAIDpPHz48MSJE0eOHGGMXbhw4e9//ztj7OnTp9GE7ZMnTz5//vzAiAMjfPLJJwdPAAuuQ+IrQddqtca5aSqXy/ObGTVwj9lsNpq5WG7a8IpM/SIxmv0SJZyWgWJ3WtxqoAe6dOnSoht7MO/heN8FmheTTqejbIw7GWelLpgjhD8BzJcBmMvlvA8kLMsSRTG4dmdQtVoVRTGypVWjnL9PjxhWZ+oXQOKNP3IWzWO4EFWrVfeqTolp3W43yvqmmqZRT2+BC37H2sFh2zegQWVsiW3bA8vUDdNut+cRuYMfuIhr7lBGPaZ+ASSGLMsHdpKoC3v58uVFN3ZikiTRddhNoZ132LZtW1VVWZZ1Xbdt2zTNdDpdrVajXMYiMQ4O295y39ls1tvVDhYnP1C73R62DMnUggXJdV0XBIE+JeHuK0jXdToJyIoEgGV26dIl+ke/33evwzQYO++w7S6/VCwW19fXadIsY6xQKGAFkUlNtpRIsVh0/22apq+2TqlUajQa7jC9YRiKolDFU69ms+mb8D0jX0WqWq1GfXpFUSL4QNDxYuoXACy5q1ev+qqksS8Ctq/6Reh8Hbxut0vhg1Yki+zhaTIcHLa9sdnbofTOGctms61WS9O0QqHgfY0sy7Zt12o1Xy3ScB9peIdZyuUyTRlXFGXSkYApOI5Tr9fZ/1+1DQBgOfmqpJmmGVwbKWL08HSxbYiXg8O2G3E5jvN2KN1gSQ+SvT+iURe3pytJkmma3sjd7XbD6nDbtu0mxJVKJVVVGWOapnnX05wfN7MDq34BQCx4I7ebkTPvwOmdbaQoCiUHdDodGpFtt9tY73h8B4dtNx77BoHde7RggTp6pTeXTRAEX+QOaw1s9/OXy+XoVkCW5YE16+fBPQr0tgEgLryRmzHmrl44P+4D1mw260boTCYjy7JlWeNPtwM26bPtgYIRa319nQVyHARBGLHgx3Qcx6FQnc1mqeMrCEI0/WzGmG3bVEg1gg89AECIJEly509HMFjoXvyD3Xqe51VVpYFSGMf0vW236xycZ0WvDC4GV6lU3N8K5cEzPcD2TvcaZwZ5WDBCDgDxpaoqpQxHsM4sz/PBJY9hSvv7++gsAgAALL/f/OY3hxljlUplRPb/3t7ee++9xxhbW1u7du2au/327dt//etfGWNvvfXWN7/5Td9vvf/++0+ePPnud797/vx573b3txhj169fP3Xq1NSt//Of/3zv3j3fLnwj5L42h25nZ+fUqVNHjx6d3y6W1q1bt+7cuXPp0qWrV68uui1LBKdloCU8LTdv3nz06FGxWDx79ux0f2EJD2qYEU399a9//eLFi4GX8Xk04969ez/+8Y/nvaN42dnZoZlZ3jeIPp/BF58+ffrgmuRud5zjOO/GXq9HI94D69nSeEiwBLE3E22cXQ9DB1mr1XzbfUeYy+Vm2QuMELsq09HAaRloGU6LYRjeItg04cW3wsJEluGgxjSiqXR5j+wostls8Lq94sKvSc6+SALs9/ve+uQ8z1Oh0263G1xdm540ByvvuNPqg2VYxmfbtiRJ7hRtAIDRNE3L5/Mogh1EQ62R1STXdd2bxA5TODzOiwqFQjqd7na7tVrNmzcuy3Kn06nX6/V6nZK63fQ0ytIK1r5xcx9mmSZYKBQymUw+nz8wHd1xHPc1PM+jkBnAasJikaNFtoJDJpNBNdMZjRW22Rf3qs1mU9d1b+SmUF2tVre3ty3Lcm/Z6A4umEzuBlFvndRJOY7T7XbHWbqj3W67L+M4DiX0ACDxHMexLMswjFQqJQjC6D4SXRWxemGMjBu2RVHc3Nzc3t6WJCmTyXi7raqqbmxsyLLsfePdFziO4243TZMmaPlW/5wULSAz8Ee+WJ7NZt3pgPMuugsJYFmWaZoo2AQxpWlarVbzzYNNp9Pf+MY3hv0K9X3HX6gUFm7csM0Y0zSNKomKouirZlooFIJFV2hcnRbkpi3u1XD2mfUDo/7AsRdUu4XxybLcbDYP7KBAYlCvtFgsxv0JmmVZ9OkN/qjb7Q4rPO44DsX4uB/+SpmgShrP85qmcRzX7/cpco9+vS/TQZIk+nwoijKnj4h3dRPSbrejXP4dYsc0TTw6WUGO49D7TqtJxn18xTRNURQHxuzR3Cxj3KfGyGTFTam0eDqd7vf7+XxekqQRQZHCdqfTsW1bFEVaKatUKs3pG2JZ1sDlSZBtDsMgu3gF6bouSVIqlYqyouJcWZaVz+fHqTu5t7fn20JdHVTcipeJa5ILgmBZFk0pq9fr6+vrkiTpuh7sstAjbV3X19fX6TawVquFu9I2MU1TVVVRFAd+cGnMU9d1dLvBB9nFq6ZarRaLRepCJIPjOOOvY/TDH/7Q+1/TNOnKPE56LyyPQ/v7+5ZlBYeXD3T37t3bt28/e/bMu3FtbY0xtru7++LFC9/2K1euzFITbZjd3d3f/e53jLGTJ08ePXr05MmT3p++ePGi3+/3+/1nz57Nu2LaqolRiahhgoewUpWz5mdvb293d3dnZ+fYsWMnT548e/bsAk/L/fv37927N7DglOtrX/va9773vdF/Z6kOyuWtOznayy+/7CtPRr/72muvRbZkIgw0UZU0wzBQkxwAACAe/vCHP8xUYdSr0+kYHr1ejwq2obxoUsWosuMwwUOgpz+KopTL5VarFcrfXBGtVmtYOUbXQk7LwJZwHEe1mUcXN13ag3KNea3nOK7T6SywnRCiCSaAjZbJZAZOjJ4iuRFgIbzZxeyLOdyLblQ8mKZZKBRCWY133nK5XLFYpDmro69OMTqoA6mqisIViTFxShpA8iQvuzhKs2QyR8C7/EG5XDZNU5KkA4uCLflBucZ5xFmr1TChJkmm6W1T5Tw2vIcNECO+xV5hIrNkMkeDpuY3Go3x3+jlPyhXpVLZ3t4e9tN0Oq1pGuZkJ8xkYdtxHFmWvdMnNjc3vSuIQFJNVOV4+dEyRKPHSMf5VCfstExB07RhFbh8OI771re+Ne/2BFHXYqLJMst/UC5BEFqtVqFQ8DU4nU5vbW2NM64AsTNB2HYcRxRF3ygi3eh5F/SEhBlW5fiNN95YVJNmN3olG/eSN+I1iTwtUxg/HI7ff124eB2UIAi2bVuWZVlWp9PJ5/MYB022CcK2LMsDn/zR2l8oaZs801U5ji9KLe73+6PHFVfttIw2ZjYAx3GU6LeEaIUFb680jgclCAIuwitigpS0EV3qgTenlJSbzWanaBYs3NRVjuMol8vVajXbtg+88K3UaQnR0mYy5/N5qtM8xe8u7UFBsk0QtkckVQ5cjKHVajEs4xpP46fRHj16dP7NCd+8s4tjelqmELtMZsdxVFUVBMF77+W7gsXuoGClhDNve319PbiR5rxi3CYuVFXt9XqMsb29vffff3/M39rd3aW1YfL5fIwSsibKLnYcR1GUVTgtU4hXJrOu6+O84/E6KFg541dmGTHcHay/4y7SMF2pKYgY1faaUeze62FV0nyVs2as/hu70zKpVqvlHb0g6XRaUZRer7fo1u13Op1yuUyJC8MEizku+UHBKpugtx1MIye1Wi34gIcWQ8zlcuhtrw48EFlNS57JLAjC6Ocam5ubwcyyJT8oWGWH9seuamvbtjsYTp2STCaztbUVDMymadJKcIZhYCgpLtxCnmOu4vfKK6/cuHHj9OnT9F+e52N3iybLcrVaLZfLqqrSFko3o3L6bnYxTc5endOSMIcOHRrxU1yjIH4m6pu7Q6mlUmnYa1qtFo1HjXgNLLMxPzm1Wm3RLZ3VsEFysrm56X3x6pyWhPG9QRzHlUold42Q0UuJACyhyWqSq6pKT7jr9XqhULBtO/gCURT7/X42m3V7MBAvK5hGi+ziBPM+1S6VSo7jaJqGIRCIr4kzyWmqzPYX3KfXjuOYpkm1JnK5nK7reNIZU6uWRovs4mTTdZ2eT9frdVyUIAmm66TXarVgmiVjLJ1OY5AwARKfRovs4lUz5qwBgOU35bxtSZIkSbIsy1sfLfFTVFdH4tNokV0MADE1U7kVVMFNtgS/v6Nj9ujs4gSfFgBYfpOlpAEkki+7GFYBPefG026IHYRtWEXILgZN01qtFt50iJ1wapIDxAuyi1dNKpXybUElHIgphG1YRaIoiqJIq33AKqD59JhVDwmAsA0AycfzPO7SIBnwbBsAACA2ELYB/g+yiwFgySFsA/wfZBcDwJJD2IbVhexiAIgdpKTB6kJ2MQDEzv8CpOJS91tZbSYAAAAASUVORK5CYII=\"/>"
      ],
      "text/plain": [
       "<maelzel.scoring.renderlily.LilypondRenderer at 0x7f4a0c5c33d0>"
      ]
     },
     "execution_count": 1,
     "metadata": {},
     "output_type": "execute_result"
    }
   ],
   "source": [
    "from maelzel import scoring\n",
    "from maelzel.scorestruct import ScoreStruct\n",
    "from maelzel.common import F\n",
    "from maelzel.scoring import makeNote\n",
    "from maelzel.scoring import spanner \n",
    "\n",
    "notes = [\n",
    "    makeNote(60, F(2, 3), offset=F(1, 3)),\n",
    "    makeNote(61, F(2, 3)),\n",
    "    makeNote(62, F(2, 9)),\n",
    "    makeNote(63, F(1, 9)),\n",
    "    makeNote(64, F(1, 9)),\n",
    "    \n",
    "    \n",
    "]\n",
    "\n",
    "struct = ScoreStruct(timesig='3/4', tempo=52)\n",
    "\n",
    "part = scoring.Part(notes)\n",
    "quantprofile = scoring.quant.QuantizationProfile.fromPreset('high', debug=True, debugMaxDivisions=20, maxDivPenalty=0.1)\n",
    "quantprofile.maxGridDensity = 32\n",
    "quantprofile.mergeTupletsOfDifferentDuration = True\n",
    "qpart = scoring.quant.quantizePart(part, struct=struct, quantprofile=quantprofile)\n",
    "options = scoring.render.RenderOptions()\n",
    "score = scoring.quant.QuantizedScore([qpart])\n",
    "r = scoring.render.renderQuantizedScore(score, options)\n",
    "#score.dump()\n",
    "r# .write('~/tmp/quant.ly')"
   ]
  },
  {
   "cell_type": "code",
   "execution_count": null,
   "id": "be15b3fc-6b81-41dc-99e6-dfbdd3d06e0e",
   "metadata": {},
   "outputs": [],
   "source": []
  }
 ],
 "metadata": {
  "kernelspec": {
   "display_name": "Python 3 (ipykernel)",
   "language": "python",
   "name": "python3"
  },
  "language_info": {
   "codemirror_mode": {
    "name": "ipython",
    "version": 3
   },
   "file_extension": ".py",
   "mimetype": "text/x-python",
   "name": "python",
   "nbconvert_exporter": "python",
   "pygments_lexer": "ipython3",
   "version": "3.9.15"
  }
 },
 "nbformat": 4,
 "nbformat_minor": 5
}
