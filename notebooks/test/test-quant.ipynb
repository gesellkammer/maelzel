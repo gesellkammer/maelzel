{
 "cells": [
  {
   "cell_type": "code",
   "execution_count": 1,
   "id": "f8c9d684-bb33-4aa8-8ace-715a663bba73",
   "metadata": {},
   "outputs": [],
   "source": [
    "from maelzel import scoring\n",
    "from maelzel.rational import Rat as F\n",
    "from maelzel.scorestruct import ScoreStruct"
   ]
  },
  {
   "cell_type": "code",
   "execution_count": 2,
   "id": "f0e36b4f-af3e-43e2-9960-6578a88a67d9",
   "metadata": {},
   "outputs": [],
   "source": [
    "struct = ScoreStruct(timesig='4/4', quarterTempo=70)\n"
   ]
  },
  {
   "cell_type": "code",
   "execution_count": 3,
   "id": "89bb7327-f713-4518-90a8-c4ce42573972",
   "metadata": {},
   "outputs": [],
   "source": [
    "notes = [\n",
    "    (60, F(2, 3)*F(2, 5)),\n",
    "    (61, F(2, 3)*F(2, 5)),\n",
    "    (62, F(2, 3)*F(2, 5)),\n",
    "    (63, F(2, 3)*F(2, 5)),\n",
    "    (64, F(2, 3)*F(2, 5)),\n",
    "    #(65, F(2,3)),\n",
    "    #(60, F(2, 7)),\n",
    "    #(61, F(3, 7)),\n",
    "    #(62, F(4, 7))\n",
    "    \n",
    "    \n",
    "    ]\n",
    "\n",
    "notations = [scoring.makeNote(p, d) for p, d in notes]\n",
    "part = scoring.Part(notations)"
   ]
  },
  {
   "cell_type": "code",
   "execution_count": 7,
   "id": "d1dfa8b3-3c26-4baa-9483-11a25f3892ab",
   "metadata": {},
   "outputs": [
    {
     "data": {
      "text/html": [
       "<b>LilypondRenderer</b> (1 part)<br>\n",
       "        <img style=\"display:inline; padding:10px;\n",
       "margin-top:14px;\n",
       "width:443.0\"\n",
       "             src=\"data:image/png;base64,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\"/>"
      ],
      "text/plain": [
       "<maelzel.scoring.renderlily.LilypondRenderer at 0x7f0306d789a0>"
      ]
     },
     "execution_count": 7,
     "metadata": {},
     "output_type": "execute_result"
    }
   ],
   "source": [
    "quantprofile = scoring.quant.makeQuantizationProfile('highest')\n",
    "# quantprofile.debug=True\n",
    "qpart = scoring.quant.quantizePart(part, struct=struct, profile=quantprofile)\n",
    "options = scoring.render.RenderOptions()\n",
    "score = scoring.quant.QuantizedScore([qpart])\n",
    "r = scoring.render.renderQuantizedScore(score, options)\n",
    "r.write('~/tmp/foo.ly')\n",
    "r"
   ]
  },
  {
   "cell_type": "code",
   "execution_count": 9,
   "id": "c30ea1ef-cbdc-4caf-8ec7-39543f99fa3a",
   "metadata": {},
   "outputs": [
    {
     "data": {
      "text/plain": [
       "0.26666667"
      ]
     },
     "execution_count": 9,
     "metadata": {},
     "output_type": "execute_result"
    }
   ],
   "source": [
    "F(2, 3)*F(2, 5)"
   ]
  },
  {
   "cell_type": "code",
   "execution_count": 8,
   "id": "fb78eb64-14ab-403e-92c1-5ba42883dded",
   "metadata": {},
   "outputs": [
    {
     "data": {
      "text/plain": [
       "0.27272727"
      ]
     },
     "execution_count": 8,
     "metadata": {},
     "output_type": "execute_result"
    }
   ],
   "source": [
    "F(3, 11)"
   ]
  },
  {
   "cell_type": "code",
   "execution_count": 15,
   "id": "31c23f91-2519-478f-af3d-cddeebfbe290",
   "metadata": {},
   "outputs": [
    {
     "data": {
      "text/html": [
       "<code style=\"font-size:0.9em\">Score(1 voices)</code><br>\n",
       "        <img style=\"display:inline; padding:10px;\n",
       "margin-top:14px;\n",
       "width:375px\"\n",
       "             src=\"data:image/png;base64,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\"/>"
      ],
      "text/plain": [
       "Score(1 voices)"
      ]
     },
     "execution_count": 15,
     "metadata": {},
     "output_type": "execute_result"
    }
   ],
   "source": [
    "sco = r.score.toCoreScore()\n",
    "sco"
   ]
  },
  {
   "cell_type": "code",
   "execution_count": 2,
   "id": "c3b2ae85-8b60-46b8-ae7f-cabe5950b756",
   "metadata": {},
   "outputs": [
    {
     "name": "stderr",
     "output_type": "stream",
     "text": [
      "ConfigDict maelzel:core, saved at /home/em/.config/maelzel/core.yaml\n",
      "There are keys defined in the saved config which are not present in the default config, they will be skipped: \n",
      "   {'quant.nestedTuples'}\n"
     ]
    }
   ],
   "source": [
    "from maelzel.core import *"
   ]
  },
  {
   "cell_type": "code",
   "execution_count": 3,
   "id": "daee82c4-7dc9-41eb-a057-f048f14f6e18",
   "metadata": {},
   "outputs": [],
   "source": [
    "c = getConfig()"
   ]
  },
  {
   "cell_type": "code",
   "execution_count": 4,
   "id": "44f866c0-37cf-4233-b3f6-8a14ae84ea46",
   "metadata": {},
   "outputs": [],
   "source": [
    "c.reset()\n",
    "c.save()"
   ]
  },
  {
   "cell_type": "code",
   "execution_count": 5,
   "id": "fc6ca75f-b392-4ab3-9c3c-822aff030289",
   "metadata": {},
   "outputs": [],
   "source": [
    "notes = [\n",
    "    (60, F(1, 2)),\n",
    "    (60.5, F(3, 2)),\n",
    "    (61, F(1, 2)),\n",
    "    #(62, F(1, 4)),\n",
    "    (64, F(1, 10)),\n",
    "    (65, F(1, 10)),\n",
    "    (66, F(1, 10)),\n",
    "    (67, F(1, 10)),\n",
    "    (68, F(1, 10)),\n",
    "    # (68, F(1, 3)),\n",
    "    \n",
    "    \n",
    "    # (67.5, F(1, 3)*F(8, 7)),\n",
    "    \n",
    "    \n",
    "    \n",
    "]\n",
    "\n",
    "notations = [scoring.makeNote(p, d) for p, d in notes]\n",
    "part = scoring.Part(notations)"
   ]
  },
  {
   "cell_type": "code",
   "execution_count": 6,
   "id": "da65c93a-ca65-4b0a-85ee-4640011ffbec",
   "metadata": {},
   "outputs": [
    {
     "name": "stdout",
     "output_type": "stream",
     "text": [
      "Best divisions: \n"
     ]
    },
    {
     "data": {
      "text/html": [
       "<table>\n",
       "<thead>\n",
       "<tr><th>error  </th><th>div  </th><th>snapped                                       </th><th>slots  </th><th>info                                                                                                  </th></tr>\n",
       "</thead>\n",
       "<tbody>\n",
       "<tr><td>0      </td><td>(2,) </td><td>[«0.000:0.500 4C», «0.500:1.000 4C+ tiedNext»]</td><td>[0, 1] </td><td>gridError=0, divPenalty=0 (0, divPenalty=0, cardinalityPenalty=0, numSubdivsPenalty=0, levelPenalty=0)</td></tr>\n",
       "<tr><td>0.1091 </td><td>(5,) </td><td>[«0.000:0.400 4C», «0.400:1.000 4C+ tiedNext»]</td><td>[0, 2] </td><td>gridError=0.154, divPenalty=0.02 (0.0002, )                                                           </td></tr>\n",
       "</tbody>\n",
       "</table>"
      ],
      "text/plain": [
       "<IPython.core.display.HTML object>"
      ]
     },
     "metadata": {},
     "output_type": "display_data"
    },
    {
     "name": "stdout",
     "output_type": "stream",
     "text": [
      "Best divisions: \n"
     ]
    },
    {
     "data": {
      "text/html": [
       "<table>\n",
       "<thead>\n",
       "<tr><th>error  </th><th>div  </th><th>snapped                     </th><th>slots  </th><th>info                                                                                                  </th></tr>\n",
       "</thead>\n",
       "<tbody>\n",
       "<tr><td>0      </td><td>(1,) </td><td>[«1.000:2.000 4C+ tiedPrev»]</td><td>[0]    </td><td>gridError=0, divPenalty=0 (0, divPenalty=0, cardinalityPenalty=0, numSubdivsPenalty=0, levelPenalty=0)</td></tr>\n",
       "</tbody>\n",
       "</table>"
      ],
      "text/plain": [
       "<IPython.core.display.HTML object>"
      ]
     },
     "metadata": {},
     "output_type": "display_data"
    },
    {
     "name": "stdout",
     "output_type": "stream",
     "text": [
      "Best divisions: \n"
     ]
    },
    {
     "data": {
      "text/html": [
       "<table>\n",
       "<thead>\n",
       "<tr><th>error   </th><th>div            </th><th>snapped                                                                                                        </th><th>slots              </th><th>info                                                                                                                          </th></tr>\n",
       "</thead>\n",
       "<tbody>\n",
       "<tr><td>0.001   </td><td>(1, 5)         </td><td>[«2.000:2.500 4C#», «2.500:2.600 4E», «2.600:2.700 4F», «2.700:2.800 4F#», «2.800:2.900 4G», «2.900:3.000 4G#»]</td><td>[0, 1, 2, 3, 4, 5] </td><td>gridError=0, divPenalty=0.01 (0.0001, divPenalty=0.01, cardinalityPenalty=0, numSubdivsPenalty=0, levelPenalty=0)             </td></tr>\n",
       "<tr><td>0.031305</td><td>(1, 1, 2, 2, 2)</td><td>[«2.000:2.500 4C#», «2.500:2.600 4E», «2.600:2.700 4F», «2.700:2.800 4F#», «2.800:2.900 4G», «2.900:3.000 4G#»]</td><td>[0, 3, 4, 5, 6, 7] </td><td>gridError=0, divPenalty=0.313 (0.00313, divPenalty=0, cardinalityPenalty=0, numSubdivsPenalty=0.7, levelPenalty=0)            </td></tr>\n",
       "<tr><td>0.031321</td><td>(1, 1, 5, 5)   </td><td>[«2.000:2.500 4C#», «2.500:2.600 4E», «2.600:2.700 4F», «2.700:2.800 4F#», «2.800:2.900 4G», «2.900:3.000 4G#»]</td><td>[0, 2, 4, 6, 8, 10]</td><td>gridError=0, divPenalty=0.313 (0.003132, )                                                                                    </td></tr>\n",
       "<tr><td>0.049328</td><td>(1, 1, 5, 4)   </td><td>[«2.000:2.500 4C#», «2.500:2.600 4E», «2.600:2.700 4F», «2.700:2.812 4F#», «2.812:2.875 4G», «2.875:3.000 4G#»]</td><td>[0, 2, 4, 6, 8, 9] </td><td>gridError=0.0539, divPenalty=0.313 (0.003132, )                                                                               </td></tr>\n",
       "<tr><td>0.049923</td><td>(1, 1, 4, 5)   </td><td>[«2.000:2.500 4C#», «2.500:2.625 4E», «2.625:2.688 4F», «2.688:2.800 4F#», «2.800:2.900 4G», «2.900:3.000 4G#»]</td><td>[0, 2, 4, 5, 7, 9] </td><td>gridError=0.055, divPenalty=0.313 (0.003132, )                                                                                </td></tr>\n",
       "<tr><td>0.054003</td><td>(1, 1, 3, 5)   </td><td>[«2.000:2.500 4C#», «2.500:2.583 4E», «2.583:2.667 4F», «2.667:2.800 4F#», «2.800:2.900 4G», «2.900:3.000 4G#»]</td><td>[0, 2, 3, 4, 6, 8] </td><td>gridError=0.0622, divPenalty=0.313 (0.003131, divPenalty=0.005, cardinalityPenalty=0.1, numSubdivsPenalty=0.7, levelPenalty=0)</td></tr>\n",
       "<tr><td>0.056976</td><td>(1, 1, 5, 3)   </td><td>[«2.000:2.500 4C#», «2.500:2.600 4E», «2.600:2.700 4F», «2.700:2.833 4F#», «2.833:2.917 4G», «2.917:3.000 4G#»]</td><td>[0, 2, 4, 6, 8, 9] </td><td>gridError=0.0673, divPenalty=0.313 (0.003131, divPenalty=0.005, cardinalityPenalty=0.1, numSubdivsPenalty=0.7, levelPenalty=0)</td></tr>\n",
       "<tr><td>0.057919</td><td>(1, 9)         </td><td>[«2.000:2.500 4C#», «2.500:2.611 4E», «2.611:2.722 4F», «2.722:2.778 4F#», «2.778:2.889 4G», «2.889:3.000 4G#»]</td><td>[0, 1, 3, 5, 6, 8] </td><td>gridError=0.0819, divPenalty=0.01 (0.0001, divPenalty=0.01, cardinalityPenalty=0, numSubdivsPenalty=0, levelPenalty=0)        </td></tr>\n",
       "<tr><td>0.07305 </td><td>(1, 1, 2, 5)   </td><td>[«2.000:2.500 4C#», «2.500:2.625 4E», «2.625:2.750 4F», «2.750:2.800 4F#», «2.800:2.900 4G», «2.900:3.000 4G#»]</td><td>[0, 2, 3, 4, 5, 7] </td><td>gridError=0.0933, divPenalty=0.313 (0.003131, divPenalty=0.005, cardinalityPenalty=0, numSubdivsPenalty=0.7, levelPenalty=0)  </td></tr>\n",
       "<tr><td>0.075213</td><td>(1, 8)         </td><td>[«2.000:2.500 4C#», «2.500:2.625 4E», «2.625:2.688 4F», «2.688:2.812 4F#», «2.812:2.875 4G», «2.875:3.000 4G#»]</td><td>[0, 1, 3, 4, 6, 7] </td><td>gridError=0.106, divPenalty=0.01 (0.0001, divPenalty=0.01, cardinalityPenalty=0, numSubdivsPenalty=0, levelPenalty=0)         </td></tr>\n",
       "<tr><td>0.077967</td><td>(1, 1, 5, 2)   </td><td>[«2.000:2.500 4C#», «2.500:2.600 4E», «2.600:2.700 4F», «2.700:2.750 4F#», «2.750:2.875 4G», «2.875:3.000 4G#»]</td><td>[0, 2, 4, 6, 7, 8] </td><td>gridError=0.101, divPenalty=0.313 (0.003131, divPenalty=0.005, cardinalityPenalty=0, numSubdivsPenalty=0.7, levelPenalty=0)   </td></tr>\n",
       "<tr><td>0.081468</td><td>(1, 1, 4, 4)   </td><td>[«2.000:2.500 4C#», «2.500:2.625 4E», «2.625:2.688 4F», «2.688:2.812 4F#», «2.812:2.875 4G», «2.875:3.000 4G#»]</td><td>[0, 2, 4, 5, 7, 8] </td><td>gridError=0.106, divPenalty=0.313 (0.003132, )                                                                                </td></tr>\n",
       "<tr><td>0.085913</td><td>(1, 1, 3, 4)   </td><td>[«2.000:2.500 4C#», «2.500:2.583 4E», «2.583:2.667 4F», «2.667:2.812 4F#», «2.812:2.875 4G», «2.875:3.000 4G#»]</td><td>[0, 2, 3, 4, 6, 7] </td><td>gridError=0.113, divPenalty=0.313 (0.003131, divPenalty=0.005, cardinalityPenalty=0, numSubdivsPenalty=0.7, levelPenalty=0)   </td></tr>\n",
       "<tr><td>0.085956</td><td>(1, 7)         </td><td>[«2.000:2.500 4C#», «2.500:2.571 4E», «2.571:2.714 4F», «2.714:2.786 4F#», «2.786:2.929 4G», «2.929:3.000 4G#»]</td><td>[0, 1, 2, 4, 5, 7] </td><td>gridError=0.122, divPenalty=0.01 (0.0001, divPenalty=0.01, cardinalityPenalty=0, numSubdivsPenalty=0, levelPenalty=0)         </td></tr>\n",
       "<tr><td>0.086871</td><td>(1, 6)         </td><td>[«2.000:2.500 4C#», «2.500:2.583 4E», «2.583:2.667 4F», «2.667:2.833 4F#», «2.833:2.917 4G», «2.917:3.000 4G#»]</td><td>[0, 1, 2, 3, 5, 6] </td><td>gridError=0.123, divPenalty=0.01 (0.0001, divPenalty=0.01, cardinalityPenalty=0, numSubdivsPenalty=0, levelPenalty=0)         </td></tr>\n",
       "<tr><td>0.086876</td><td>(1, 4, 4)      </td><td>[«2.000:2.500 4C#», «2.500:2.583 4E», «2.583:2.667 4F», «2.667:2.833 4F#», «2.833:2.917 4G», «2.917:3.000 4G#»]</td><td>[0, 3, 4, 5, 7, 8] </td><td>gridError=0.123, divPenalty=0.0133 (0.0001333, divPenalty=0.0133, cardinalityPenalty=0, numSubdivsPenalty=0, levelPenalty=0)  </td></tr>\n",
       "<tr><td>0.088925</td><td>(1, 1, 4, 3)   </td><td>[«2.000:2.500 4C#», «2.500:2.625 4E», «2.625:2.688 4F», «2.688:2.833 4F#», «2.833:2.917 4G», «2.917:3.000 4G#»]</td><td>[0, 2, 4, 5, 7, 8] </td><td>gridError=0.118, divPenalty=0.313 (0.003131, divPenalty=0.005, cardinalityPenalty=0, numSubdivsPenalty=0.7, levelPenalty=0)   </td></tr>\n",
       "<tr><td>0.092334</td><td>(1, 1, 3, 3)   </td><td>[«2.000:2.500 4C#», «2.500:2.583 4E», «2.583:2.667 4F», «2.667:2.833 4F#», «2.833:2.917 4G», «2.917:3.000 4G#»]</td><td>[0, 2, 3, 4, 6, 7] </td><td>gridError=0.123, divPenalty=0.313 (0.00313, divPenalty=0, cardinalityPenalty=0, numSubdivsPenalty=0.7, levelPenalty=0)        </td></tr>\n",
       "<tr><td>0.10281 </td><td>(1, 1, 3, 2)   </td><td>[«2.000:2.500 4C#», «2.500:2.583 4E», «2.583:2.667 4F», «2.667:2.750 4F#», «2.750:2.875 4G», «2.875:3.000 4G#»]</td><td>[0, 2, 3, 4, 5, 6] </td><td>gridError=0.138, divPenalty=0.313 (0.00313, divPenalty=0, cardinalityPenalty=0, numSubdivsPenalty=0.7, levelPenalty=0)        </td></tr>\n",
       "<tr><td>0.10356 </td><td>(1, 1, 2, 4)   </td><td>[«2.000:2.500 4C#», «2.500:2.625 4E», «2.625:2.750 4F», «2.750:2.812 4F#», «2.812:2.875 4G», «2.875:3.000 4G#»]</td><td>[0, 2, 3, 4, 5, 6] </td><td>gridError=0.14, divPenalty=0.313 (0.003131, divPenalty=0.005, cardinalityPenalty=0, numSubdivsPenalty=0.7, levelPenalty=0)    </td></tr>\n",
       "</tbody>\n",
       "</table>"
      ],
      "text/plain": [
       "<IPython.core.display.HTML object>"
      ]
     },
     "metadata": {},
     "output_type": "display_data"
    },
    {
     "data": {
      "text/html": [
       "<b>LilypondRenderer</b> (1 part)<br>\n",
       "        <img style=\"display:inline; padding:10px;\n",
       "margin-top:14px;\n",
       "width:401.0\"\n",
       "             src=\"data:image/png;base64,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\"/>"
      ],
      "text/plain": [
       "<maelzel.scoring.renderlily.LilypondRenderer at 0x7f482ae06fa0>"
      ]
     },
     "execution_count": 6,
     "metadata": {},
     "output_type": "execute_result"
    }
   ],
   "source": [
    "quantprofile = scoring.quant.makeQuantizationProfile('high', nestedTuples=False, divisionErrorWeight=0.01)\n",
    "quantprofile.debug = True\n",
    "qpart = scoring.quant.quantizePart(part, struct=struct, profile=quantprofile)\n",
    "options = scoring.render.RenderOptions()\n",
    "score = scoring.quant.QuantizedScore([qpart])\n",
    "r = scoring.render.renderQuantizedScore(score, options)\n",
    "r"
   ]
  },
  {
   "cell_type": "code",
   "execution_count": 7,
   "id": "c5d90c78-ca2d-49b1-85f6-25896c4e78cc",
   "metadata": {},
   "outputs": [],
   "source": [
    "from maelzel import scoring\n",
    "from maelzel.rational import Rat as F\n",
    "from maelzel.scorestruct import ScoreStruct\n",
    "\n",
    "notes = [\n",
    "    (61, F(2, 3)),\n",
    "    (64, F(2, 3)),\n",
    "    (65, F(1, 3)),\n",
    "    (66, F(1, 3)),\n",
    "]\n",
    "\n",
    "notations = [scoring.makeNote(p, d) for p, d in notes]\n",
    "part = scoring.Part(notations)"
   ]
  },
  {
   "cell_type": "code",
   "execution_count": 8,
   "id": "868d7a52-c1a8-4b12-b56b-e2183225c7dc",
   "metadata": {},
   "outputs": [
    {
     "name": "stdout",
     "output_type": "stream",
     "text": [
      "Best divisions: \n"
     ]
    },
    {
     "data": {
      "text/html": [
       "<table>\n",
       "<thead>\n",
       "<tr><th>error   </th><th>div  </th><th>snapped                                       </th><th>slots  </th><th>info                                      </th></tr>\n",
       "</thead>\n",
       "<tbody>\n",
       "<tr><td>0       </td><td>(3,) </td><td>[«0.000:0.667 4C#», «0.667:1.000 4E tiedNext»]</td><td>[0, 2] </td><td>gridError=0, divPenalty=0 (0, )           </td></tr>\n",
       "<tr><td>0.072859</td><td>(5,) </td><td>[«0.000:0.600 4C#», «0.600:1.000 4E tiedNext»]</td><td>[0, 3] </td><td>gridError=0.103, divPenalty=0.02 (0.001, )</td></tr>\n",
       "</tbody>\n",
       "</table>"
      ],
      "text/plain": [
       "<IPython.core.display.HTML object>"
      ]
     },
     "metadata": {},
     "output_type": "display_data"
    },
    {
     "name": "stdout",
     "output_type": "stream",
     "text": [
      "Best divisions: \n"
     ]
    },
    {
     "data": {
      "text/html": [
       "<table>\n",
       "<thead>\n",
       "<tr><th>error  </th><th>div  </th><th>snapped                                                         </th><th>slots    </th><th>info                                      </th></tr>\n",
       "</thead>\n",
       "<tbody>\n",
       "<tr><td>0      </td><td>(3,) </td><td>[«1.000:1.333 4E tiedPrev», «1.333:1.667 4F», «1.667:2.000 4F#»]</td><td>[0, 1, 2]</td><td>gridError=0, divPenalty=0 (0, )           </td></tr>\n",
       "<tr><td>0.13604</td><td>(5,) </td><td>[«1.000:1.400 4E tiedPrev», «1.400:1.600 4F», «1.600:2.000 4F#»]</td><td>[0, 2, 3]</td><td>gridError=0.192, divPenalty=0.02 (0.001, )</td></tr>\n",
       "</tbody>\n",
       "</table>"
      ],
      "text/plain": [
       "<IPython.core.display.HTML object>"
      ]
     },
     "metadata": {},
     "output_type": "display_data"
    },
    {
     "data": {
      "text/html": [
       "<b>LilypondRenderer</b> (1 part)<br>\n",
       "        <img style=\"display:inline; padding:10px;\n",
       "margin-top:14px;\n",
       "width:292.0\"\n",
       "             src=\"data:image/png;base64,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\"/>"
      ],
      "text/plain": [
       "<maelzel.scoring.renderlily.LilypondRenderer at 0x7f482a3e1610>"
      ]
     },
     "execution_count": 8,
     "metadata": {},
     "output_type": "execute_result"
    }
   ],
   "source": [
    "struct = ScoreStruct(timesig='4/4', quarterTempo=60)\n",
    "\n",
    "quantprofile = scoring.quant.makeQuantizationProfile('high', nestedTuples=True, divisionErrorWeight=0.05)\n",
    "quantprofile.debug=True\n",
    "\n",
    "qpart = scoring.quant.quantizePart(part, struct=struct, profile=quantprofile)\n",
    "options = scoring.render.RenderOptions()\n",
    "score = scoring.quant.QuantizedScore([qpart])\n",
    "r = scoring.render.renderQuantizedScore(score, options)\n",
    "r"
   ]
  },
  {
   "cell_type": "code",
   "execution_count": 9,
   "id": "767db0c6-5ecd-4155-8f08-73046eb7ec26",
   "metadata": {},
   "outputs": [
    {
     "data": {
      "text/html": [
       "<code style=\"font-size:0.9em\">Score(1 voices)</code><br>\n",
       "        <img style=\"display:inline; padding:10px;\n",
       "margin-top:14px;\n",
       "width:188px\"\n",
       "             src=\"data:image/png;base64,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\"/>"
      ],
      "text/plain": [
       "Score(1 voices)"
      ]
     },
     "execution_count": 9,
     "metadata": {},
     "output_type": "execute_result"
    }
   ],
   "source": [
    "sco = r.score.toCoreScore()\n",
    "sco"
   ]
  },
  {
   "cell_type": "code",
   "execution_count": 10,
   "id": "d77c7a47-e3b3-412c-9b3d-a84dfd78b967",
   "metadata": {},
   "outputs": [
    {
     "name": "stderr",
     "output_type": "stream",
     "text": [
      "\n",
      "\n",
      "--Csound version 6.18 (double samples) Oct  1 2022\n",
      "[commit: ac38f27d1c5d6ee0cacc1bc719e96be3a2d93a15]\n",
      "\u001b[mlibsndfile-1.0.31\n",
      "\u001b[msr = 44100.0,\u001b[m kr = 689.062,\u001b[m ksmps = 64\n",
      "\u001b[m0dBFS level = 1.0,\u001b[m A4 tuning = 442.0\n",
      "\u001b[maudio buffered in 256 sample-frame blocks\n",
      "\u001b[mreading 1024-byte blks of shorts from adc:system:capture (RAW)\n",
      "writing 512 sample blks of 64-bit floats to dac:system:playback\n",
      "SECTION 1:\n",
      "\u001b[m"
     ]
    },
    {
     "data": {
      "application/vnd.jupyter.widget-view+json": {
       "model_id": "9254ff208f12476a85b49af2034e03bc",
       "version_major": 2,
       "version_minor": 0
      },
      "text/plain": [
       "Button(description='Stop', style=ButtonStyle())"
      ]
     },
     "metadata": {},
     "output_type": "display_data"
    },
    {
     "data": {
      "application/vnd.jupyter.widget-view+json": {
       "model_id": "49c39ee50c0f4e558e816bda2c4654af",
       "version_major": 2,
       "version_minor": 0
      },
      "text/plain": [
       "Output()"
      ]
     },
     "metadata": {},
     "output_type": "display_data"
    },
    {
     "data": {
      "text/html": [
       "<small>SynthGroup - start: 0.050, dur: 2.050, synths: 4</small>\n",
       "<p>instr: <strong style=\"color:MediumSeaGreen\">preset._piano</strong> - <b>4</b> synths</p>\n",
       "<table><thead><tr><th style=\"text-align:left\">p1</th><th style=\"text-align:left\">start</th><th style=\"text-align:left\">dur</th><th style=\"text-align:left\">4</th><th style=\"text-align:left\">5:idataidx_</th><th style=\"text-align:left\">6:inumbps</th><th style=\"text-align:left\">7:ibplen</th><th style=\"text-align:left\">8:igain_</th><th style=\"text-align:left\">9:ichan</th><th style=\"text-align:left\">10:ipos</th><th style=\"text-align:left\">11:ifadein</th><th style=\"text-align:left\">12:ifadeout</th><th style=\"text-align:left\">13:ipchintrp_</th><th style=\"text-align:left\">14:ifadekind_</th><th style=\"text-align:left\">15</th><th style=\"text-align:left\">16</th><th style=\"text-align:left\">...</th></tr></thead><tbody><tr><td style=\"text-align:left\">501.0002 <b>𝍪</b></td><td style=\"text-align:left\">0.050</td><td style=\"text-align:left\">0.717</td><td style=\"text-align:left\">0</td><td style=\"text-align:left\">15</td><td style=\"text-align:left\">3</td><td style=\"text-align:left\">3</td><td style=\"text-align:left\">1</td><td style=\"text-align:left\">1</td><td style=\"text-align:left\">-1</td><td style=\"text-align:left\">0.02</td><td style=\"text-align:left\">0.02</td><td style=\"text-align:left\">0</td><td style=\"text-align:left\">1</td><td style=\"text-align:left\">0</td><td style=\"text-align:left\">...</td></tr><tr><td style=\"text-align:left\">501.0003 <b>𝍪</b></td><td style=\"text-align:left\">0.717</td><td style=\"text-align:left\">0.717</td><td style=\"text-align:left\">0</td><td style=\"text-align:left\">15</td><td style=\"text-align:left\">3</td><td style=\"text-align:left\">3</td><td style=\"text-align:left\">1</td><td style=\"text-align:left\">1</td><td style=\"text-align:left\">-1</td><td style=\"text-align:left\">0.02</td><td style=\"text-align:left\">0.02</td><td style=\"text-align:left\">0</td><td style=\"text-align:left\">1</td><td style=\"text-align:left\">0</td><td style=\"text-align:left\">...</td></tr><tr><td style=\"text-align:left\">501.0004 <b>𝍪</b></td><td style=\"text-align:left\">1.383</td><td style=\"text-align:left\">0.383</td><td style=\"text-align:left\">0</td><td style=\"text-align:left\">15</td><td style=\"text-align:left\">3</td><td style=\"text-align:left\">3</td><td style=\"text-align:left\">1</td><td style=\"text-align:left\">1</td><td style=\"text-align:left\">-1</td><td style=\"text-align:left\">0.02</td><td style=\"text-align:left\">0.02</td><td style=\"text-align:left\">0</td><td style=\"text-align:left\">1</td><td style=\"text-align:left\">0</td><td style=\"text-align:left\">...</td></tr><tr><td style=\"text-align:left\">501.0005 <b>𝍪</b></td><td style=\"text-align:left\">1.717</td><td style=\"text-align:left\">0.383</td><td style=\"text-align:left\">0</td><td style=\"text-align:left\">15</td><td style=\"text-align:left\">3</td><td style=\"text-align:left\">3</td><td style=\"text-align:left\">1</td><td style=\"text-align:left\">1</td><td style=\"text-align:left\">-1</td><td style=\"text-align:left\">0.02</td><td style=\"text-align:left\">0.02</td><td style=\"text-align:left\">0</td><td style=\"text-align:left\">1</td><td style=\"text-align:left\">0</td><td style=\"text-align:left\">...</td></tr></tbody></table>"
      ],
      "text/plain": [
       "SynthGroup(n=4)\n",
       "    Synth(𝍪 preset._piano:501.0002, p4=0 idataidx_:5=15 inumbps:6=3 ibplen:7=3 igain_:8=1 ichan:9=1 ipos:10=-1 ifadein:11=0.02 ifadeout:12=0.02 ipchintrp_:13=0 ifadekind_:14=1 p15=0 p16=61 ...)\n",
       "    Synth(𝍪 preset._piano:501.0003, p4=0 idataidx_:5=15 inumbps:6=3 ibplen:7=3 igain_:8=1 ichan:9=1 ipos:10=-1 ifadein:11=0.02 ifadeout:12=0.02 ipchintrp_:13=0 ifadekind_:14=1 p15=0 p16=64 ...)\n",
       "    Synth(𝍪 preset._piano:501.0004, p4=0 idataidx_:5=15 inumbps:6=3 ibplen:7=3 igain_:8=1 ichan:9=1 ipos:10=-1 ifadein:11=0.02 ifadeout:12=0.02 ipchintrp_:13=0 ifadekind_:14=1 p15=0 p16=65 ...)\n",
       "    Synth(𝍪 preset._piano:501.0005, p4=0 idataidx_:5=15 inumbps:6=3 ibplen:7=3 igain_:8=1 ichan:9=1 ipos:10=-1 ifadein:11=0.02 ifadeout:12=0.02 ipchintrp_:13=0 ifadekind_:14=1 p15=0 p16=66 ...)"
      ]
     },
     "execution_count": 10,
     "metadata": {},
     "output_type": "execute_result"
    }
   ],
   "source": [
    "sco.play(sustain=0.05)"
   ]
  },
  {
   "cell_type": "code",
   "execution_count": null,
   "id": "d4d5693c-4155-462b-9e81-23ca804d036f",
   "metadata": {},
   "outputs": [],
   "source": []
  }
 ],
 "metadata": {
  "kernelspec": {
   "display_name": "Python 3 (ipykernel)",
   "language": "python",
   "name": "python3"
  },
  "language_info": {
   "codemirror_mode": {
    "name": "ipython",
    "version": 3
   },
   "file_extension": ".py",
   "mimetype": "text/x-python",
   "name": "python",
   "nbconvert_exporter": "python",
   "pygments_lexer": "ipython3",
   "version": "3.9.14"
  }
 },
 "nbformat": 4,
 "nbformat_minor": 5
}
