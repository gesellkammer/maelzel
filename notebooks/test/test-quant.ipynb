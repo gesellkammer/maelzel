{
 "cells": [
  {
   "cell_type": "code",
   "execution_count": 2,
   "id": "f8c9d684-bb33-4aa8-8ace-715a663bba73",
   "metadata": {},
   "outputs": [],
   "source": [
    "from maelzel import scoring\n",
    "from maelzel.scorestruct import ScoreStruct\n",
    "from maelzel.scoring import quantutils\n",
    "from maelzel.common import F"
   ]
  },
  {
   "cell_type": "code",
   "execution_count": 3,
   "id": "f0e36b4f-af3e-43e2-9960-6578a88a67d9",
   "metadata": {},
   "outputs": [],
   "source": []
  },
  {
   "cell_type": "code",
   "execution_count": 8,
   "id": "9feb6be3-ad87-4d95-9c32-dc3b8844fbc2",
   "metadata": {},
   "outputs": [
    {
     "name": "stdout",
     "output_type": "stream",
     "text": [
      "Beat: 0 - 1 (dur: 1)\n",
      "Skipped 21 divisions with a div. penalty > 0.2\n",
      "Best 1 divisions: \n"
     ]
    },
    {
     "data": {
      "text/html": [
       "<table>\n",
       "<thead>\n",
       "<tr><th>error  </th><th>div  </th><th>snapped                    </th><th>slots  </th><th>info                                                                                                                                                                      </th></tr>\n",
       "</thead>\n",
       "<tbody>\n",
       "<tr><td>0.002  </td><td>(1,) </td><td>[«0.000:1.000 4C tiedNext»]</td><td>[0]    </td><td>gridError=0, rhythmComplexity=0 (numNotesAcrossSubdics=0, numTies=0), divPenalty=0.02 (0.0002, divPenalty=0.02, cardinalityPenalty=0, numSubdivsPenalty=0, levelPenalty=0)</td></tr>\n",
       "</tbody>\n",
       "</table>"
      ],
      "text/plain": [
       "<IPython.core.display.HTML object>"
      ]
     },
     "metadata": {},
     "output_type": "display_data"
    },
    {
     "name": "stdout",
     "output_type": "stream",
     "text": [
      "Beat: 1 - 2 (dur: 1)\n",
      "Skipped 21 divisions with a div. penalty > 0.2\n",
      "Best 1 divisions: \n"
     ]
    },
    {
     "data": {
      "text/html": [
       "<table>\n",
       "<thead>\n",
       "<tr><th>error  </th><th>div  </th><th>snapped                    </th><th>slots  </th><th>info                                                                                                                                                                      </th></tr>\n",
       "</thead>\n",
       "<tbody>\n",
       "<tr><td>0.002  </td><td>(1,) </td><td>[«0.000:1.000 4C tiedPrev»]</td><td>[0]    </td><td>gridError=0, rhythmComplexity=0 (numNotesAcrossSubdics=0, numTies=0), divPenalty=0.02 (0.0002, divPenalty=0.02, cardinalityPenalty=0, numSubdivsPenalty=0, levelPenalty=0)</td></tr>\n",
       "</tbody>\n",
       "</table>"
      ],
      "text/plain": [
       "<IPython.core.display.HTML object>"
      ]
     },
     "metadata": {},
     "output_type": "display_data"
    },
    {
     "name": "stdout",
     "output_type": "stream",
     "text": [
      "Beat: 2 - 3 (dur: 1)\n",
      "Skipped 21 divisions with a div. penalty > 0.2\n",
      "Best 20 divisions: \n"
     ]
    },
    {
     "data": {
      "text/html": [
       "<table>\n",
       "<thead>\n",
       "<tr><th>error   </th><th>div            </th><th>snapped                                       </th><th>slots  </th><th>info                                                                                                                                                                                        </th></tr>\n",
       "</thead>\n",
       "<tbody>\n",
       "<tr><td>0.002   </td><td>(7,)           </td><td>[«0.000:0.143 4C#», «0.143:1.000 4D tiedNext»]</td><td>[0, 1] </td><td>gridError=0, rhythmComplexity=0 (numNotesAcrossSubdics=0, numTies=0), divPenalty=0.02 (0.0002, divPenalty=0.02, cardinalityPenalty=0, numSubdivsPenalty=0, levelPenalty=0)                  </td></tr>\n",
       "<tr><td>0.01077 </td><td>(7, 1)         </td><td>[«0.000:0.143 4C#», «0.143:1.000 4D tiedNext»]</td><td>[0, 2] </td><td>gridError=0, rhythmComplexity=0.316 (numNotesAcrossSubdics=2, numTies=0), divPenalty=0.04 (0.0004, divPenalty=0.04, cardinalityPenalty=0, numSubdivsPenalty=0, levelPenalty=0)              </td></tr>\n",
       "<tr><td>0.011874</td><td>(7, 1, 1)      </td><td>[«0.000:0.143 4C#», «0.143:1.000 4D tiedNext»]</td><td>[0, 3] </td><td>gridError=0, rhythmComplexity=0.316 (numNotesAcrossSubdics=2, numTies=0), divPenalty=0.064 (0.0006403, divPenalty=0.04, cardinalityPenalty=0.1, numSubdivsPenalty=0, levelPenalty=0.05)     </td></tr>\n",
       "<tr><td>0.026444</td><td>(5, 1, 1, 1)   </td><td>[«0.000:0.150 4C#», «0.150:1.000 4D tiedNext»]</td><td>[0, 3] </td><td>gridError=0.0192, rhythmComplexity=0.57 (numNotesAcrossSubdics=2, numTies=1), divPenalty=0.02 (0.0002, divPenalty=0.02, cardinalityPenalty=0.1, numSubdivsPenalty=0, levelPenalty=0)        </td></tr>\n",
       "<tr><td>0.027578</td><td>(4, 1, 1, 1, 1)</td><td>[«0.000:0.150 4C#», «0.150:1.000 4D tiedNext»]</td><td>[0, 3] </td><td>gridError=0.0192, rhythmComplexity=0.57 (numNotesAcrossSubdics=2, numTies=1), divPenalty=0.0808 (0.0008078, divPenalty=0.02, cardinalityPenalty=0.1, numSubdivsPenalty=0, levelPenalty=0.05)</td></tr>\n",
       "<tr><td>0.03095 </td><td>(5, 1, 1)      </td><td>[«0.000:0.133 4C#», «0.133:1.000 4D tiedNext»]</td><td>[0, 2] </td><td>gridError=0.0246, rhythmComplexity=0.57 (numNotesAcrossSubdics=2, numTies=1), divPenalty=0.0539 (0.0005385, divPenalty=0.02, cardinalityPenalty=0.1, numSubdivsPenalty=0, levelPenalty=0.05)</td></tr>\n",
       "<tr><td>0.031387</td><td>(3, 1, 1, 1, 1)</td><td>[«0.000:0.133 4C#», «0.133:1.000 4D tiedNext»]</td><td>[0, 2] </td><td>gridError=0.0246, rhythmComplexity=0.57 (numNotesAcrossSubdics=2, numTies=1), divPenalty=0.075 (0.00075, divPenalty=0, cardinalityPenalty=0.1, numSubdivsPenalty=0, levelPenalty=0.05)      </td></tr>\n",
       "<tr><td>0.041978</td><td>(8,)           </td><td>[«0.000:0.125 4C#», «0.125:1.000 4D tiedNext»]</td><td>[0, 1] </td><td>gridError=0.0419, rhythmComplexity=0 (numNotesAcrossSubdics=0, numTies=0), divPenalty=0.02 (0.0002, divPenalty=0.02, cardinalityPenalty=0, numSubdivsPenalty=0, levelPenalty=0)             </td></tr>\n",
       "<tr><td>0.043107</td><td>(2, 1, 1, 1)   </td><td>[«0.000:0.125 4C#», «0.125:1.000 4D tiedNext»]</td><td>[0, 1] </td><td>gridError=0.0419, rhythmComplexity=0.316 (numNotesAcrossSubdics=2, numTies=0), divPenalty=0 (0, divPenalty=0, cardinalityPenalty=0, numSubdivsPenalty=0, levelPenalty=0)                    </td></tr>\n",
       "<tr><td>0.043292</td><td>(4, 1)         </td><td>[«0.000:0.125 4C#», «0.125:1.000 4D tiedNext»]</td><td>[0, 1] </td><td>gridError=0.0419, rhythmComplexity=0.316 (numNotesAcrossSubdics=2, numTies=0), divPenalty=0.04 (0.0004, divPenalty=0.04, cardinalityPenalty=0, numSubdivsPenalty=0, levelPenalty=0)         </td></tr>\n",
       "<tr><td>0.055643</td><td>(6,)           </td><td>[«0.000:0.167 4C#», «0.167:1.000 4D tiedNext»]</td><td>[0, 1] </td><td>gridError=0.0535, rhythmComplexity=0.474 (numNotesAcrossSubdics=0, numTies=1), divPenalty=0.02 (0.0002, divPenalty=0.02, cardinalityPenalty=0, numSubdivsPenalty=0, levelPenalty=0)         </td></tr>\n",
       "<tr><td>0.0565  </td><td>(3, 1, 1, 1)   </td><td>[«0.000:0.167 4C#», «0.167:1.000 4D tiedNext»]</td><td>[0, 2] </td><td>gridError=0.0535, rhythmComplexity=0.57 (numNotesAcrossSubdics=2, numTies=1), divPenalty=0 (0, divPenalty=0, cardinalityPenalty=0, numSubdivsPenalty=0, levelPenalty=0)                     </td></tr>\n",
       "<tr><td>0.056535</td><td>(3, 1)         </td><td>[«0.000:0.167 4C#», «0.167:1.000 4D tiedNext»]</td><td>[0, 1] </td><td>gridError=0.0535, rhythmComplexity=0.57 (numNotesAcrossSubdics=2, numTies=1), divPenalty=0.02 (0.0002, divPenalty=0.02, cardinalityPenalty=0.1, numSubdivsPenalty=0, levelPenalty=0)        </td></tr>\n",
       "<tr><td>0.056756</td><td>(2, 1, 1)      </td><td>[«0.000:0.167 4C#», «0.167:1.000 4D tiedNext»]</td><td>[0, 1] </td><td>gridError=0.0535, rhythmComplexity=0.57 (numNotesAcrossSubdics=2, numTies=1), divPenalty=0.0539 (0.0005385, divPenalty=0.02, cardinalityPenalty=0, numSubdivsPenalty=0, levelPenalty=0.05)  </td></tr>\n",
       "<tr><td>0.068409</td><td>(9,)           </td><td>[«0.000:0.111 4C#», «0.111:1.000 4D tiedNext»]</td><td>[0, 1] </td><td>gridError=0.0684, rhythmComplexity=0 (numNotesAcrossSubdics=0, numTies=0), divPenalty=0.02 (0.0002, divPenalty=0.02, cardinalityPenalty=0, numSubdivsPenalty=0, levelPenalty=0)             </td></tr>\n",
       "<tr><td>0.069316</td><td>(3, 1, 1)      </td><td>[«0.000:0.111 4C#», «0.111:1.000 4D tiedNext»]</td><td>[0, 1] </td><td>gridError=0.0684, rhythmComplexity=0.316 (numNotesAcrossSubdics=2, numTies=0), divPenalty=0.0539 (0.0005385, divPenalty=0.02, cardinalityPenalty=0, numSubdivsPenalty=0, levelPenalty=0.05) </td></tr>\n",
       "<tr><td>0.083355</td><td>(11,)          </td><td>[«0.000:0.182 4C#», «0.182:1.000 4D tiedNext»]</td><td>[0, 2] </td><td>gridError=0.0814, rhythmComplexity=0.474 (numNotesAcrossSubdics=0, numTies=1), divPenalty=0.1 (0.001, divPenalty=0.1, cardinalityPenalty=0, numSubdivsPenalty=0, levelPenalty=0)            </td></tr>\n",
       "<tr><td>0.090094</td><td>(5, 1)         </td><td>[«0.000:0.100 4C#», «0.100:1.000 4D tiedNext»]</td><td>[0, 1] </td><td>gridError=0.0882, rhythmComplexity=0.57 (numNotesAcrossSubdics=2, numTies=1), divPenalty=0.02 (0.0002, divPenalty=0.02, cardinalityPenalty=0.1, numSubdivsPenalty=0, levelPenalty=0)        </td></tr>\n",
       "<tr><td>0.090383</td><td>(2, 1, 1, 1, 1)</td><td>[«0.000:0.100 4C#», «0.100:1.000 4D tiedNext»]</td><td>[0, 1] </td><td>gridError=0.0882, rhythmComplexity=0.57 (numNotesAcrossSubdics=2, numTies=1), divPenalty=0.075 (0.00075, divPenalty=0, cardinalityPenalty=0.1, numSubdivsPenalty=0, levelPenalty=0.05)      </td></tr>\n",
       "<tr><td>0.11271 </td><td>(5,)           </td><td>[«0.000:0.200 4C#», «0.200:1.000 4D tiedNext»]</td><td>[0, 1] </td><td>gridError=0.113, rhythmComplexity=0 (numNotesAcrossSubdics=0, numTies=0), divPenalty=0.02 (0.0002, divPenalty=0.02, cardinalityPenalty=0, numSubdivsPenalty=0, levelPenalty=0)              </td></tr>\n",
       "</tbody>\n",
       "</table>"
      ],
      "text/plain": [
       "<IPython.core.display.HTML object>"
      ]
     },
     "metadata": {},
     "output_type": "display_data"
    },
    {
     "name": "stdout",
     "output_type": "stream",
     "text": [
      "Beat: 3 - 4 (dur: 1)\n",
      "Skipped 21 divisions with a div. penalty > 0.2\n",
      "Best 18 divisions: \n"
     ]
    },
    {
     "data": {
      "text/html": [
       "<table>\n",
       "<thead>\n",
       "<tr><th>error    </th><th>div            </th><th>snapped                                        </th><th>slots  </th><th>info                                                                                                                                                                                        </th></tr>\n",
       "</thead>\n",
       "<tbody>\n",
       "<tr><td>0.002    </td><td>(3,)           </td><td>[«0.000:0.333 4D tiedPrev», «0.333:1.000 rest»]</td><td>[0, 1] </td><td>gridError=0, rhythmComplexity=0 (numNotesAcrossSubdics=0, numTies=0), divPenalty=0.02 (0.0002, divPenalty=0.02, cardinalityPenalty=0, numSubdivsPenalty=0, levelPenalty=0)                  </td></tr>\n",
       "<tr><td>0.0073485</td><td>(1, 1, 1)      </td><td>[«0.000:0.333 4D tiedPrev», «0.333:1.000 rest»]</td><td>[0, 1] </td><td>gridError=0, rhythmComplexity=0.158 (numNotesAcrossSubdics=1, numTies=0), divPenalty=0.0539 (0.0005385, divPenalty=0.02, cardinalityPenalty=0, numSubdivsPenalty=0, levelPenalty=0.05)      </td></tr>\n",
       "<tr><td>0.01     </td><td>(1, 3, 1, 1)   </td><td>[«0.000:0.333 4D tiedPrev», «0.333:1.000 rest»]</td><td>[0, 2] </td><td>gridError=0, rhythmComplexity=0.316 (numNotesAcrossSubdics=2, numTies=0), divPenalty=0 (0, divPenalty=0, cardinalityPenalty=0, numSubdivsPenalty=0, levelPenalty=0)                         </td></tr>\n",
       "<tr><td>0.010198 </td><td>(3, 1)         </td><td>[«0.000:0.333 4D tiedPrev», «0.333:1.000 rest»]</td><td>[0, 2] </td><td>gridError=0, rhythmComplexity=0.316 (numNotesAcrossSubdics=2, numTies=0), divPenalty=0.02 (0.0002, divPenalty=0.02, cardinalityPenalty=0.1, numSubdivsPenalty=0, levelPenalty=0)            </td></tr>\n",
       "<tr><td>0.0125   </td><td>(1, 3, 1, 1, 1)</td><td>[«0.000:0.333 4D tiedPrev», «0.333:1.000 rest»]</td><td>[0, 3] </td><td>gridError=0, rhythmComplexity=0.316 (numNotesAcrossSubdics=2, numTies=0), divPenalty=0.075 (0.00075, divPenalty=0, cardinalityPenalty=0.1, numSubdivsPenalty=0, levelPenalty=0.05)          </td></tr>\n",
       "<tr><td>0.036303 </td><td>(1, 5, 1, 1)   </td><td>[«0.000:0.350 4D tiedPrev», «0.350:1.000 rest»]</td><td>[0, 3] </td><td>gridError=0.0314, rhythmComplexity=0.57 (numNotesAcrossSubdics=2, numTies=1), divPenalty=0.02 (0.0002, divPenalty=0.02, cardinalityPenalty=0.1, numSubdivsPenalty=0, levelPenalty=0)        </td></tr>\n",
       "<tr><td>0.037137 </td><td>(1, 4, 1, 1, 1)</td><td>[«0.000:0.350 4D tiedPrev», «0.350:1.000 rest»]</td><td>[0, 4] </td><td>gridError=0.0314, rhythmComplexity=0.57 (numNotesAcrossSubdics=2, numTies=1), divPenalty=0.0808 (0.0008078, divPenalty=0.02, cardinalityPenalty=0.1, numSubdivsPenalty=0, levelPenalty=0.05)</td></tr>\n",
       "<tr><td>0.049488 </td><td>(1, 4, 1, 1)   </td><td>[«0.000:0.312 4D tiedPrev», «0.312:1.000 rest»]</td><td>[0, 2] </td><td>gridError=0.038, rhythmComplexity=1 (numNotesAcrossSubdics=2, numTies=2), divPenalty=0.02 (0.0002, divPenalty=0.02, cardinalityPenalty=0, numSubdivsPenalty=0, levelPenalty=0)              </td></tr>\n",
       "<tr><td>0.04961  </td><td>(8, 1)         </td><td>[«0.000:0.312 4D tiedPrev», «0.312:1.000 rest»]</td><td>[0, 5] </td><td>gridError=0.038, rhythmComplexity=1 (numNotesAcrossSubdics=2, numTies=2), divPenalty=0.04 (0.0004, divPenalty=0.04, cardinalityPenalty=0, numSubdivsPenalty=0, levelPenalty=0)              </td></tr>\n",
       "<tr><td>0.053192 </td><td>(7, 1)         </td><td>[«0.000:0.357 4D tiedPrev», «0.357:1.000 rest»]</td><td>[0, 5] </td><td>gridError=0.0426, rhythmComplexity=1 (numNotesAcrossSubdics=2, numTies=2), divPenalty=0.04 (0.0004, divPenalty=0.04, cardinalityPenalty=0, numSubdivsPenalty=0, levelPenalty=0)             </td></tr>\n",
       "<tr><td>0.05322  </td><td>(11,)          </td><td>[«0.000:0.364 4D tiedPrev», «0.364:1.000 rest»]</td><td>[0, 4] </td><td>gridError=0.0523, rhythmComplexity=0 (numNotesAcrossSubdics=0, numTies=0), divPenalty=0.1 (0.001, divPenalty=0.1, cardinalityPenalty=0, numSubdivsPenalty=0, levelPenalty=0)                </td></tr>\n",
       "<tr><td>0.057593 </td><td>(5, 1)         </td><td>[«0.000:0.300 4D tiedPrev», «0.300:1.000 rest»]</td><td>[0, 3] </td><td>gridError=0.0567, rhythmComplexity=0.316 (numNotesAcrossSubdics=2, numTies=0), divPenalty=0.02 (0.0002, divPenalty=0.02, cardinalityPenalty=0.1, numSubdivsPenalty=0, levelPenalty=0)       </td></tr>\n",
       "<tr><td>0.058045 </td><td>(1, 2, 1, 1, 1)</td><td>[«0.000:0.300 4D tiedPrev», «0.300:1.000 rest»]</td><td>[0, 2] </td><td>gridError=0.0567, rhythmComplexity=0.316 (numNotesAcrossSubdics=2, numTies=0), divPenalty=0.075 (0.00075, divPenalty=0, cardinalityPenalty=0.1, numSubdivsPenalty=0, levelPenalty=0.05)     </td></tr>\n",
       "<tr><td>0.070172 </td><td>(8,)           </td><td>[«0.000:0.375 4D tiedPrev», «0.375:1.000 rest»]</td><td>[0, 3] </td><td>gridError=0.0685, rhythmComplexity=0.474 (numNotesAcrossSubdics=0, numTies=1), divPenalty=0.02 (0.0002, divPenalty=0.02, cardinalityPenalty=0, numSubdivsPenalty=0, levelPenalty=0)         </td></tr>\n",
       "<tr><td>0.070853 </td><td>(1, 2, 1, 1)   </td><td>[«0.000:0.375 4D tiedPrev», «0.375:1.000 rest»]</td><td>[0, 2] </td><td>gridError=0.0685, rhythmComplexity=0.57 (numNotesAcrossSubdics=2, numTies=1), divPenalty=0 (0, divPenalty=0, cardinalityPenalty=0, numSubdivsPenalty=0, levelPenalty=0)                     </td></tr>\n",
       "<tr><td>0.070966 </td><td>(4, 1)         </td><td>[«0.000:0.375 4D tiedPrev», «0.375:1.000 rest»]</td><td>[0, 3] </td><td>gridError=0.0685, rhythmComplexity=0.57 (numNotesAcrossSubdics=2, numTies=1), divPenalty=0.04 (0.0004, divPenalty=0.04, cardinalityPenalty=0, numSubdivsPenalty=0, levelPenalty=0)          </td></tr>\n",
       "<tr><td>0.078235 </td><td>(7,)           </td><td>[«0.000:0.286 4D tiedPrev», «0.286:1.000 rest»]</td><td>[0, 2] </td><td>gridError=0.0768, rhythmComplexity=0.474 (numNotesAcrossSubdics=0, numTies=1), divPenalty=0.02 (0.0002, divPenalty=0.02, cardinalityPenalty=0, numSubdivsPenalty=0, levelPenalty=0)         </td></tr>\n",
       "<tr><td>0.10219  </td><td>(5,)           </td><td>[«0.000:0.400 4D tiedPrev», «0.400:1.000 rest»]</td><td>[0, 2] </td><td>gridError=0.102, rhythmComplexity=0 (numNotesAcrossSubdics=0, numTies=0), divPenalty=0.02 (0.0002, divPenalty=0.02, cardinalityPenalty=0, numSubdivsPenalty=0, levelPenalty=0)              </td></tr>\n",
       "</tbody>\n",
       "</table>"
      ],
      "text/plain": [
       "<IPython.core.display.HTML object>"
      ]
     },
     "metadata": {},
     "output_type": "display_data"
    },
    {
     "data": {
      "text/html": [
       "<b>LilypondRenderer</b> (1 part)<br>\n",
       "        <img style=\"display:inline; padding:10px;\n",
       "margin-top:14px;\n",
       "width:278.0\"\n",
       "             src=\"data:image/png;base64,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\"/>"
      ],
      "text/plain": [
       "<maelzel.scoring.renderlily.LilypondRenderer at 0x7febcbd69730>"
      ]
     },
     "execution_count": 8,
     "metadata": {},
     "output_type": "execute_result"
    }
   ],
   "source": [
    "notes = [\n",
    "    (60, F(2, 1)),\n",
    "    (61, F(1, 7)),\n",
    "    (62, F(6, 7)+F(1, 3))\n",
    "]\n",
    "\n",
    "struct = ScoreStruct(timesig='4/4', quarterTempo=70)\n",
    "\n",
    "notations = [scoring.makeNote(p, d) for p, d in notes]\n",
    "part = scoring.Part(notations)\n",
    "qprofile = scoring.quant.makeQuantizationProfile('high')\n",
    "qprofile.debug = True\n",
    "qpart = scoring.quant.quantizePart(part, struct=struct, profile=qprofile)\n",
    "options = scoring.render.RenderOptions()\n",
    "score = scoring.quant.QuantizedScore([qpart])\n",
    "r = scoring.render.renderQuantizedScore(score, options)\n",
    "r"
   ]
  },
  {
   "cell_type": "code",
   "execution_count": 9,
   "id": "af4ba261-96fb-49d2-a151-66a7e3493b2b",
   "metadata": {},
   "outputs": [
    {
     "name": "stdout",
     "output_type": "stream",
     "text": [
      "Beat: 0 - 1 (dur: 1)\n",
      "Skipped 66 divisions with a div. penalty > 0.4\n",
      "Best 1 divisions: \n"
     ]
    },
    {
     "data": {
      "text/html": [
       "<table>\n",
       "<thead>\n",
       "<tr><th>error  </th><th>div  </th><th>snapped                    </th><th>slots  </th><th>info                                                                                                                                                                      </th></tr>\n",
       "</thead>\n",
       "<tbody>\n",
       "<tr><td>0.002  </td><td>(1,) </td><td>[«0.000:1.000 4C tiedNext»]</td><td>[0]    </td><td>gridError=0, rhythmComplexity=0 (numNotesAcrossSubdics=0, numTies=0), divPenalty=0.02 (0.0002, divPenalty=0.02, cardinalityPenalty=0, numSubdivsPenalty=0, levelPenalty=0)</td></tr>\n",
       "</tbody>\n",
       "</table>"
      ],
      "text/plain": [
       "<IPython.core.display.HTML object>"
      ]
     },
     "metadata": {},
     "output_type": "display_data"
    },
    {
     "name": "stdout",
     "output_type": "stream",
     "text": [
      "Beat: 1 - 2 (dur: 1)\n",
      "Skipped 66 divisions with a div. penalty > 0.4\n",
      "Best 1 divisions: \n"
     ]
    },
    {
     "data": {
      "text/html": [
       "<table>\n",
       "<thead>\n",
       "<tr><th>error  </th><th>div  </th><th>snapped                    </th><th>slots  </th><th>info                                                                                                                                                                      </th></tr>\n",
       "</thead>\n",
       "<tbody>\n",
       "<tr><td>0.002  </td><td>(1,) </td><td>[«0.000:1.000 4C tiedPrev»]</td><td>[0]    </td><td>gridError=0, rhythmComplexity=0 (numNotesAcrossSubdics=0, numTies=0), divPenalty=0.02 (0.0002, divPenalty=0.02, cardinalityPenalty=0, numSubdivsPenalty=0, levelPenalty=0)</td></tr>\n",
       "</tbody>\n",
       "</table>"
      ],
      "text/plain": [
       "<IPython.core.display.HTML object>"
      ]
     },
     "metadata": {},
     "output_type": "display_data"
    },
    {
     "name": "stdout",
     "output_type": "stream",
     "text": [
      "Beat: 2 - 3 (dur: 1)\n",
      "Skipped 66 divisions with a div. penalty > 0.4\n",
      "Best 20 divisions: \n"
     ]
    },
    {
     "data": {
      "text/html": [
       "<table>\n",
       "<thead>\n",
       "<tr><th>error   </th><th>div            </th><th>snapped                                                 </th><th>slots    </th><th>info                                                                                                                                                                                      </th></tr>\n",
       "</thead>\n",
       "<tbody>\n",
       "<tr><td>0.012667</td><td>(1, 1, 1, 6)   </td><td>[«0.000:0.750 4C#», «0.750:0.792 4D#», «0.792:1.000 4E»]</td><td>[0, 3, 4]</td><td>gridError=0, rhythmComplexity=0.38 (numNotesAcrossSubdics=2, numTies=1), divPenalty=0.04 (0.0004, divPenalty=0.04, cardinalityPenalty=0, numSubdivsPenalty=0, levelPenalty=0)             </td></tr>\n",
       "<tr><td>0.015033</td><td>(1, 1, 8)      </td><td>[«0.000:0.750 4C#», «0.750:0.792 4D#», «0.792:1.000 4E»]</td><td>[0, 4, 5]</td><td>gridError=0, rhythmComplexity=0.447 (numNotesAcrossSubdics=3, numTies=1), divPenalty=0.051 (0.0005099, divPenalty=0.04, cardinalityPenalty=0.1, numSubdivsPenalty=0, levelPenalty=0)      </td></tr>\n",
       "<tr><td>0.022599</td><td>(1, 1, 1, 7)   </td><td>[«0.000:0.750 4C#», «0.750:0.786 4D#», «0.786:1.000 4E»]</td><td>[0, 3, 4]</td><td>gridError=0.021, rhythmComplexity=0.211 (numNotesAcrossSubdics=2, numTies=0), divPenalty=0.051 (0.0005099, divPenalty=0.04, cardinalityPenalty=0.1, numSubdivsPenalty=0, levelPenalty=0)  </td></tr>\n",
       "<tr><td>0.028508</td><td>(1, 1, 1, 5)   </td><td>[«0.000:0.750 4C#», «0.750:0.800 4D#», «0.800:1.000 4E»]</td><td>[0, 3, 4]</td><td>gridError=0.0275, rhythmComplexity=0.211 (numNotesAcrossSubdics=2, numTies=0), divPenalty=0.0374 (0.0003742, divPenalty=0.02, cardinalityPenalty=0.1, numSubdivsPenalty=0, levelPenalty=0)</td></tr>\n",
       "<tr><td>0.029762</td><td>(1, 1, 1, 4, 1)</td><td>[«0.000:0.750 4C#», «0.750:0.800 4D#», «0.800:1.000 4E»]</td><td>[0, 6, 7]</td><td>gridError=0.0275, rhythmComplexity=0.316 (numNotesAcrossSubdics=3, numTies=0), divPenalty=0.0561 (0.0005612, divPenalty=0.02, cardinalityPenalty=0.1, numSubdivsPenalty=0, levelPenalty=0)</td></tr>\n",
       "<tr><td>0.047381</td><td>(1, 1, 1, 5, 1)</td><td>[«0.000:0.760 4C#», «0.760:0.800 4D#», «0.800:1.000 4E»]</td><td>[0, 7, 8]</td><td>gridError=0.0444, rhythmComplexity=0.447 (numNotesAcrossSubdics=3, numTies=1), divPenalty=0.0842 (0.0008419, divPenalty=0.02, cardinalityPenalty=0.1, numSubdivsPenalty=0, levelPenalty=0)</td></tr>\n",
       "<tr><td>0.056437</td><td>(1, 1, 9)      </td><td>[«0.000:0.741 4C#», «0.741:0.778 4D#», «0.778:1.000 4E»]</td><td>[0, 4, 5]</td><td>gridError=0.0544, rhythmComplexity=0.447 (numNotesAcrossSubdics=3, numTies=1), divPenalty=0.051 (0.0005099, divPenalty=0.04, cardinalityPenalty=0.1, numSubdivsPenalty=0, levelPenalty=0) </td></tr>\n",
       "<tr><td>0.057585</td><td>(1, 1, 1, 4)   </td><td>[«0.000:0.750 4C#», «0.750:0.812 4D#», «0.812:1.000 4E»]</td><td>[0, 3, 4]</td><td>gridError=0.0572, rhythmComplexity=0.211 (numNotesAcrossSubdics=2, numTies=0), divPenalty=0.02 (0.0002, divPenalty=0.02, cardinalityPenalty=0, numSubdivsPenalty=0, levelPenalty=0)       </td></tr>\n",
       "<tr><td>0.058169</td><td>(1, 8)         </td><td>[«0.000:0.750 4C#», «0.750:0.812 4D#», «0.812:1.000 4E»]</td><td>[0, 5, 6]</td><td>gridError=0.0572, rhythmComplexity=0.316 (numNotesAcrossSubdics=3, numTies=0), divPenalty=0.04 (0.0004, divPenalty=0.04, cardinalityPenalty=0, numSubdivsPenalty=0, levelPenalty=0)       </td></tr>\n",
       "<tr><td>0.067452</td><td>(1, 1, 7)      </td><td>[«0.000:0.762 4C#», «0.762:0.810 4D#», «0.810:1.000 4E»]</td><td>[0, 4, 5]</td><td>gridError=0.0665, rhythmComplexity=0.316 (numNotesAcrossSubdics=3, numTies=0), divPenalty=0.051 (0.0005099, divPenalty=0.04, cardinalityPenalty=0.1, numSubdivsPenalty=0, levelPenalty=0) </td></tr>\n",
       "<tr><td>0.067738</td><td>(1, 1, 5)      </td><td>[«0.000:0.733 4C#», «0.733:0.800 4D#», «0.800:1.000 4E»]</td><td>[0, 3, 4]</td><td>gridError=0.0661, rhythmComplexity=0.447 (numNotesAcrossSubdics=3, numTies=1), divPenalty=0.0374 (0.0003742, divPenalty=0.02, cardinalityPenalty=0.1, numSubdivsPenalty=0, levelPenalty=0)</td></tr>\n",
       "<tr><td>0.067867</td><td>(1, 1, 1, 3, 1)</td><td>[«0.000:0.733 4C#», «0.733:0.800 4D#», «0.800:1.000 4E»]</td><td>[0, 5, 6]</td><td>gridError=0.0661, rhythmComplexity=0.447 (numNotesAcrossSubdics=3, numTies=1), divPenalty=0.0561 (0.0005612, divPenalty=0.02, cardinalityPenalty=0.1, numSubdivsPenalty=0, levelPenalty=0)</td></tr>\n",
       "<tr><td>0.071116</td><td>(9,)           </td><td>[«0.000:0.778 4C#», «0.778:grace 4D#», «0.778:1.000 4E»]</td><td>[0, 7, 7]</td><td>gridError=0.0704, rhythmComplexity=0.316 (numNotesAcrossSubdics=0, numTies=1), divPenalty=0.02 (0.0002, divPenalty=0.02, cardinalityPenalty=0, numSubdivsPenalty=0, levelPenalty=0)       </td></tr>\n",
       "<tr><td>0.071186</td><td>(1, 1, 3)      </td><td>[«0.000:0.778 4C#», «0.778:grace 4D#», «0.778:1.000 4E»]</td><td>[0, 3, 3]</td><td>gridError=0.0704, rhythmComplexity=0.316 (numNotesAcrossSubdics=3, numTies=0), divPenalty=0.0374 (0.0003742, divPenalty=0.02, cardinalityPenalty=0.1, numSubdivsPenalty=0, levelPenalty=0)</td></tr>\n",
       "<tr><td>0.084802</td><td>(5,)           </td><td>[«0.000:0.800 4C#», «0.800:grace 4D#», «0.800:1.000 4E»]</td><td>[0, 4, 4]</td><td>gridError=0.0842, rhythmComplexity=0.316 (numNotesAcrossSubdics=0, numTies=1), divPenalty=0.02 (0.0002, divPenalty=0.02, cardinalityPenalty=0, numSubdivsPenalty=0, levelPenalty=0)       </td></tr>\n",
       "<tr><td>0.08773 </td><td>(1, 11)        </td><td>[«0.000:0.727 4C#», «0.727:0.773 4D#», «0.773:1.000 4E»]</td><td>[0, 6, 7]</td><td>gridError=0.0857, rhythmComplexity=0.447 (numNotesAcrossSubdics=3, numTies=1), divPenalty=0.124 (0.001241, divPenalty=0.12, cardinalityPenalty=0.1, numSubdivsPenalty=0, levelPenalty=0)  </td></tr>\n",
       "<tr><td>0.0878  </td><td>(1, 1, 1, 1)   </td><td>[«0.000:0.750 4C#», «0.750:grace 4D#», «0.750:1.000 4E»]</td><td>[0, 3, 3]</td><td>gridError=0.0877, rhythmComplexity=0.105 (numNotesAcrossSubdics=1, numTies=0), divPenalty=0.02 (0.0002, divPenalty=0.02, cardinalityPenalty=0, numSubdivsPenalty=0, levelPenalty=0)       </td></tr>\n",
       "<tr><td>0.088305</td><td>(4,)           </td><td>[«0.000:0.750 4C#», «0.750:grace 4D#», «0.750:1.000 4E»]</td><td>[0, 3, 3]</td><td>gridError=0.0877, rhythmComplexity=0.316 (numNotesAcrossSubdics=0, numTies=1), divPenalty=0.02 (0.0002, divPenalty=0.02, cardinalityPenalty=0, numSubdivsPenalty=0, levelPenalty=0)       </td></tr>\n",
       "<tr><td>0.088373</td><td>(1, 2)         </td><td>[«0.000:0.750 4C#», «0.750:grace 4D#», «0.750:1.000 4E»]</td><td>[0, 2, 2]</td><td>gridError=0.0877, rhythmComplexity=0.316 (numNotesAcrossSubdics=3, numTies=0), divPenalty=0.04 (0.0004, divPenalty=0.04, cardinalityPenalty=0, numSubdivsPenalty=0, levelPenalty=0)       </td></tr>\n",
       "<tr><td>0.08843 </td><td>(1, 1, 4)      </td><td>[«0.000:0.750 4C#», «0.750:grace 4D#», «0.750:1.000 4E»]</td><td>[0, 3, 3]</td><td>gridError=0.0877, rhythmComplexity=0.316 (numNotesAcrossSubdics=3, numTies=0), divPenalty=0.051 (0.0005099, divPenalty=0.04, cardinalityPenalty=0.1, numSubdivsPenalty=0, levelPenalty=0) </td></tr>\n",
       "</tbody>\n",
       "</table>"
      ],
      "text/plain": [
       "<IPython.core.display.HTML object>"
      ]
     },
     "metadata": {},
     "output_type": "display_data"
    },
    {
     "data": {
      "text/html": [
       "<b>LilypondRenderer</b> (1 part)<br>\n",
       "        <img style=\"display:inline; padding:10px;\n",
       "margin-top:14px;\n",
       "width:345.0\"\n",
       "             src=\"data:image/png;base64,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\"/>"
      ],
      "text/plain": [
       "<maelzel.scoring.renderlily.LilypondRenderer at 0x7febd87aa340>"
      ]
     },
     "execution_count": 9,
     "metadata": {},
     "output_type": "execute_result"
    }
   ],
   "source": [
    "from maelzel import scoring\n",
    "from maelzel.scorestruct import ScoreStruct\n",
    "\n",
    "notes = [\n",
    "    (60, F(2, 1)),\n",
    "    (61, F(3, 4)),\n",
    "    (63, F(1, 4)*F(1, 6)),\n",
    "    (64, F(1, 4)*F(5, 6)),\n",
    "    # (62, F(3, 4))\n",
    "]\n",
    "\n",
    "notations = [scoring.makeNote(p, d) for p, d in notes]\n",
    "struct = ScoreStruct(timesig='4/4', quarterTempo=70)\n",
    "\n",
    "part = scoring.Part(notations)\n",
    "quantprofile = scoring.quant.makeQuantizationProfile('highest')\n",
    "quantprofile.debug = True\n",
    "quantprofile.debugMaxDivisions = 20\n",
    "quantprofile.rhythmComplexityWeight = 0.001\n",
    "quantprofile.divisionErrorWeight = 0.01\n",
    "qpart = scoring.quant.quantizePart(part, struct=struct, profile=quantprofile)\n",
    "options = scoring.render.RenderOptions()\n",
    "score = scoring.quant.QuantizedScore([qpart])\n",
    "r = scoring.render.renderQuantizedScore(score, options)\n",
    "# qpart.dump()\n",
    "r"
   ]
  },
  {
   "cell_type": "code",
   "execution_count": 6,
   "id": "ae3f62fc-b5c0-4df5-9c1d-4eca3b3370f9",
   "metadata": {},
   "outputs": [
    {
     "name": "stdout",
     "output_type": "stream",
     "text": [
      "85.1 ms ± 3.58 ms per loop (mean ± std. dev. of 7 runs, 10 loops each)\n"
     ]
    }
   ],
   "source": [
    "quantprofile.debug  = False\n",
    "%timeit scoring.quant.quantizePart(part, struct=struct, profile=quantprofile)\n"
   ]
  },
  {
   "cell_type": "code",
   "execution_count": 5,
   "id": "89bb7327-f713-4518-90a8-c4ce42573972",
   "metadata": {},
   "outputs": [],
   "source": [
    "notes = [\n",
    "    (60, F(2, 3)*F(1, 5)),\n",
    "    (61, F(2, 3)*F(1, 5)),\n",
    "    (62, F(2, 3)*F(1, 5)),\n",
    "    (63, F(2, 3)*F(1, 5)),\n",
    "    (64, F(2, 3)*F(1, 5)),\n",
    "    (65, F(2,3)),\n",
    "    #(60, F(2, 7)),\n",
    "    #(61, F(3, 7)),\n",
    "    #(62, F(4, 7))\n",
    "    \n",
    "    \n",
    "    ]\n",
    "\n",
    "notations = [scoring.makeNote(p, d) for p, d in notes]\n",
    "part = scoring.Part(notations)\n",
    "quantprofile = scoring.quant.makeQuantizationProfile('highest')\n",
    "quantprofile.rhythmComplexityWeight  = 0.001\n",
    "quantprofile.debug=True\n",
    "qpart = scoring.quant.quantizePart(part, struct=struct, profile=quantprofile)\n",
    "options = scoring.render.RenderOptions()\n",
    "score = scoring.quant.QuantizedScore([qpart])\n",
    "r = scoring.render.renderQuantizedScore(score, options)\n",
    "r"
   ]
  },
  {
   "cell_type": "code",
   "execution_count": 10,
   "id": "fc6ca75f-b392-4ab3-9c3c-822aff030289",
   "metadata": {},
   "outputs": [
    {
     "name": "stdout",
     "output_type": "stream",
     "text": [
      "Beat: 0 - 1 (dur: 1)\n",
      "Skipped 66 divisions with a div. penalty > 0.4\n",
      "Best 20 divisions: \n"
     ]
    },
    {
     "data": {
      "text/html": [
       "<table>\n",
       "<thead>\n",
       "<tr><th>error   </th><th>div            </th><th>snapped                                                                                                                 </th><th>slots               </th><th>info                                                                                                                                                                                     </th></tr>\n",
       "</thead>\n",
       "<tbody>\n",
       "<tr><td>0.028887</td><td>(1, 5)         </td><td>[«0.000:0.500 4C#», «0.500:0.600 4E», «0.600:0.700 4F», «0.700:0.800 4F#», «0.800:0.900 4G», «0.900:1.000 4G# tiedNext»]</td><td>[0, 1, 2, 3, 4, 5]  </td><td>gridError=0, rhythmComplexity=0.264 (numNotesAcrossSubdics=5, numTies=0), divPenalty=0.0374 (0.003742, divPenalty=0.02, cardinalityPenalty=0.1, numSubdivsPenalty=0, levelPenalty=0)     </td></tr>\n",
       "<tr><td>0.030894</td><td>(1, 1, 5, 5)   </td><td>[«0.000:0.500 4C#», «0.500:0.600 4E», «0.600:0.700 4F», «0.700:0.800 4F#», «0.800:0.900 4G», «0.900:1.000 4G# tiedNext»]</td><td>[0, 2, 4, 6, 8, 10] </td><td>gridError=0, rhythmComplexity=0.264 (numNotesAcrossSubdics=5, numTies=0), divPenalty=0.051 (0.005099, divPenalty=0.04, cardinalityPenalty=0.1, numSubdivsPenalty=0, levelPenalty=0)      </td></tr>\n",
       "<tr><td>0.036263</td><td>(1, 1, 2, 2, 2)</td><td>[«0.000:0.500 4C#», «0.500:0.600 4E», «0.600:0.700 4F», «0.700:0.800 4F#», «0.800:0.900 4G», «0.900:1.000 4G# tiedNext»]</td><td>[0, 3, 4, 5, 6, 7]  </td><td>gridError=0, rhythmComplexity=0.316 (numNotesAcrossSubdics=6, numTies=0), divPenalty=0.0561 (0.005612, divPenalty=0.02, cardinalityPenalty=0.1, numSubdivsPenalty=0, levelPenalty=0)     </td></tr>\n",
       "<tr><td>0.069064</td><td>(1, 1, 2, 5, 2)</td><td>[«0.000:0.500 4C#», «0.500:0.600 4E», «0.600:0.680 4F», «0.680:0.800 4F#», «0.800:0.900 4G», «0.900:1.000 4G# tiedNext»]</td><td>[0, 3, 4, 6, 9, 10] </td><td>gridError=0.0553, rhythmComplexity=0.316 (numNotesAcrossSubdics=6, numTies=0), divPenalty=0.0842 (0.008419, divPenalty=0.02, cardinalityPenalty=0.1, numSubdivsPenalty=0, levelPenalty=0)</td></tr>\n",
       "<tr><td>0.069064</td><td>(1, 1, 5, 2, 2)</td><td>[«0.000:0.480 4C#», «0.480:0.600 4E», «0.600:0.700 4F», «0.700:0.800 4F#», «0.800:0.900 4G», «0.900:1.000 4G# tiedNext»]</td><td>[0, 4, 7, 8, 9, 10] </td><td>gridError=0.0553, rhythmComplexity=0.316 (numNotesAcrossSubdics=6, numTies=0), divPenalty=0.0842 (0.008419, divPenalty=0.02, cardinalityPenalty=0.1, numSubdivsPenalty=0, levelPenalty=0)</td></tr>\n",
       "<tr><td>0.069064</td><td>(1, 1, 2, 2, 5)</td><td>[«0.000:0.500 4C#», «0.500:0.600 4E», «0.600:0.700 4F», «0.700:0.800 4F#», «0.800:0.880 4G», «0.880:1.000 4G# tiedNext»]</td><td>[0, 3, 4, 5, 6, 8]  </td><td>gridError=0.0553, rhythmComplexity=0.316 (numNotesAcrossSubdics=6, numTies=0), divPenalty=0.0842 (0.008419, divPenalty=0.02, cardinalityPenalty=0.1, numSubdivsPenalty=0, levelPenalty=0)</td></tr>\n",
       "<tr><td>0.071965</td><td>(1, 1, 5, 7)   </td><td>[«0.000:0.500 4C#», «0.500:0.600 4E», «0.600:0.700 4F», «0.700:0.786 4F#», «0.786:0.893 4G», «0.893:1.000 4G# tiedNext»]</td><td>[0, 2, 4, 6, 8, 11] </td><td>gridError=0.0522, rhythmComplexity=0.264 (numNotesAcrossSubdics=5, numTies=0), divPenalty=0.133 (0.01327, divPenalty=0.04, cardinalityPenalty=0.4, numSubdivsPenalty=0, levelPenalty=0)  </td></tr>\n",
       "<tr><td>0.071965</td><td>(1, 1, 7, 5)   </td><td>[«0.000:0.500 4C#», «0.500:0.607 4E», «0.607:0.714 4F», «0.714:0.800 4F#», «0.800:0.900 4G», «0.900:1.000 4G# tiedNext»]</td><td>[0, 2, 5, 8, 10, 12]</td><td>gridError=0.0522, rhythmComplexity=0.264 (numNotesAcrossSubdics=5, numTies=0), divPenalty=0.133 (0.01327, divPenalty=0.04, cardinalityPenalty=0.4, numSubdivsPenalty=0, levelPenalty=0)  </td></tr>\n",
       "<tr><td>0.074692</td><td>(1, 1, 6, 5)   </td><td>[«0.000:0.500 4C#», «0.500:0.583 4E», «0.583:0.708 4F», «0.708:0.800 4F#», «0.800:0.900 4G», «0.900:1.000 4G# tiedNext»]</td><td>[0, 2, 4, 7, 9, 11] </td><td>gridError=0.0661, rhythmComplexity=0.307 (numNotesAcrossSubdics=5, numTies=1), divPenalty=0.051 (0.005099, divPenalty=0.04, cardinalityPenalty=0.1, numSubdivsPenalty=0, levelPenalty=0) </td></tr>\n",
       "<tr><td>0.074692</td><td>(1, 1, 5, 6)   </td><td>[«0.000:0.500 4C#», «0.500:0.600 4E», «0.600:0.700 4F», «0.700:0.792 4F#», «0.792:0.917 4G», «0.917:1.000 4G# tiedNext»]</td><td>[0, 2, 4, 6, 8, 11] </td><td>gridError=0.0661, rhythmComplexity=0.307 (numNotesAcrossSubdics=5, numTies=1), divPenalty=0.051 (0.005099, divPenalty=0.04, cardinalityPenalty=0.1, numSubdivsPenalty=0, levelPenalty=0) </td></tr>\n",
       "<tr><td>0.088909</td><td>(1, 6, 7)      </td><td>[«0.000:0.500 4C#», «0.500:0.611 4E», «0.611:0.714 4F», «0.714:0.810 4F#», «0.810:0.905 4G», «0.905:1.000 4G# tiedNext»]</td><td>[0, 4, 6, 8, 10, 12]</td><td>gridError=0.0787, rhythmComplexity=0.354 (numNotesAcrossSubdics=6, numTies=1), divPenalty=0.0678 (0.006782, divPenalty=0.06, cardinalityPenalty=0.1, numSubdivsPenalty=0, levelPenalty=0)</td></tr>\n",
       "<tr><td>0.09081 </td><td>(1, 1, 2, 3, 2)</td><td>[«0.000:0.500 4C#», «0.500:0.600 4E», «0.600:0.667 4F», «0.667:0.800 4F#», «0.800:0.900 4G», «0.900:1.000 4G# tiedNext»]</td><td>[0, 3, 4, 5, 7, 8]  </td><td>gridError=0.0833, rhythmComplexity=0.316 (numNotesAcrossSubdics=6, numTies=0), divPenalty=0.0561 (0.005612, divPenalty=0.02, cardinalityPenalty=0.1, numSubdivsPenalty=0, levelPenalty=0)</td></tr>\n",
       "<tr><td>0.09081 </td><td>(1, 1, 2, 2, 3)</td><td>[«0.000:0.500 4C#», «0.500:0.600 4E», «0.600:0.700 4F», «0.700:0.800 4F#», «0.800:0.867 4G», «0.867:1.000 4G# tiedNext»]</td><td>[0, 3, 4, 5, 6, 7]  </td><td>gridError=0.0833, rhythmComplexity=0.316 (numNotesAcrossSubdics=6, numTies=0), divPenalty=0.0561 (0.005612, divPenalty=0.02, cardinalityPenalty=0.1, numSubdivsPenalty=0, levelPenalty=0)</td></tr>\n",
       "<tr><td>0.09081 </td><td>(1, 1, 3, 2, 2)</td><td>[«0.000:0.467 4C#», «0.467:0.600 4E», «0.600:0.700 4F», «0.700:0.800 4F#», «0.800:0.900 4G», «0.900:1.000 4G# tiedNext»]</td><td>[0, 3, 5, 6, 7, 8]  </td><td>gridError=0.0833, rhythmComplexity=0.316 (numNotesAcrossSubdics=6, numTies=0), divPenalty=0.0561 (0.005612, divPenalty=0.02, cardinalityPenalty=0.1, numSubdivsPenalty=0, levelPenalty=0)</td></tr>\n",
       "<tr><td>0.097023</td><td>(1, 1, 7, 7)   </td><td>[«0.000:0.500 4C#», «0.500:0.607 4E», «0.607:0.714 4F», «0.714:0.786 4F#», «0.786:0.893 4G», «0.893:1.000 4G# tiedNext»]</td><td>[0, 2, 5, 8, 10, 13]</td><td>gridError=0.0909, rhythmComplexity=0.264 (numNotesAcrossSubdics=5, numTies=0), divPenalty=0.0678 (0.006782, divPenalty=0.06, cardinalityPenalty=0.1, numSubdivsPenalty=0, levelPenalty=0)</td></tr>\n",
       "<tr><td>0.097843</td><td>(1, 1, 4, 5)   </td><td>[«0.000:0.500 4C#», «0.500:0.625 4E», «0.625:0.688 4F», «0.688:0.800 4F#», «0.800:0.900 4G», «0.900:1.000 4G# tiedNext»]</td><td>[0, 2, 4, 5, 7, 9]  </td><td>gridError=0.0915, rhythmComplexity=0.307 (numNotesAcrossSubdics=5, numTies=1), divPenalty=0.051 (0.005099, divPenalty=0.04, cardinalityPenalty=0.1, numSubdivsPenalty=0, levelPenalty=0) </td></tr>\n",
       "<tr><td>0.097843</td><td>(1, 1, 5, 4)   </td><td>[«0.000:0.500 4C#», «0.500:0.600 4E», «0.600:0.700 4F», «0.700:0.812 4F#», «0.812:0.875 4G», «0.875:1.000 4G# tiedNext»]</td><td>[0, 2, 4, 6, 8, 9]  </td><td>gridError=0.0915, rhythmComplexity=0.307 (numNotesAcrossSubdics=5, numTies=1), divPenalty=0.051 (0.005099, divPenalty=0.04, cardinalityPenalty=0.1, numSubdivsPenalty=0, levelPenalty=0) </td></tr>\n",
       "<tr><td>0.10012 </td><td>(1, 6, 9)      </td><td>[«0.000:0.500 4C#», «0.500:0.611 4E», «0.611:0.704 4F», «0.704:0.815 4F#», «0.815:0.889 4G», «0.889:1.000 4G# tiedNext»]</td><td>[0, 4, 6, 8, 11, 13]</td><td>gridError=0.0917, rhythmComplexity=0.354 (numNotesAcrossSubdics=6, numTies=1), divPenalty=0.06 (0.006, divPenalty=0.06, cardinalityPenalty=0, numSubdivsPenalty=0, levelPenalty=0)       </td></tr>\n",
       "<tr><td>0.10303 </td><td>(1, 4, 7)      </td><td>[«0.000:0.500 4C#», «0.500:0.583 4E», «0.583:0.714 4F», «0.714:0.810 4F#», «0.810:0.905 4G», «0.905:1.000 4G# tiedNext»]</td><td>[0, 3, 4, 6, 8, 10] </td><td>gridError=0.0954, rhythmComplexity=0.354 (numNotesAcrossSubdics=6, numTies=1), divPenalty=0.051 (0.005099, divPenalty=0.04, cardinalityPenalty=0.1, numSubdivsPenalty=0, levelPenalty=0) </td></tr>\n",
       "<tr><td>0.10486 </td><td>(1, 6, 8)      </td><td>[«0.000:0.500 4C#», «0.500:0.611 4E», «0.611:0.708 4F», «0.708:0.792 4F#», «0.792:0.917 4G», «0.917:1.000 4G# tiedNext»]</td><td>[0, 4, 6, 8, 10, 13]</td><td>gridError=0.0982, rhythmComplexity=0.316 (numNotesAcrossSubdics=6, numTies=0), divPenalty=0.06 (0.006, divPenalty=0.06, cardinalityPenalty=0, numSubdivsPenalty=0, levelPenalty=0)       </td></tr>\n",
       "</tbody>\n",
       "</table>"
      ],
      "text/plain": [
       "<IPython.core.display.HTML object>"
      ]
     },
     "metadata": {},
     "output_type": "display_data"
    },
    {
     "name": "stdout",
     "output_type": "stream",
     "text": [
      "Beat: 1 - 2 (dur: 1)\n",
      "Skipped 66 divisions with a div. penalty > 0.4\n",
      "Best 20 divisions: \n"
     ]
    },
    {
     "data": {
      "text/html": [
       "<table>\n",
       "<thead>\n",
       "<tr><th>error   </th><th>div            </th><th>snapped                                                           </th><th>slots     </th><th>info                                                                                                                                                                                     </th></tr>\n",
       "</thead>\n",
       "<tbody>\n",
       "<tr><td>0.043929</td><td>(7, 7, 1)      </td><td>[«0.000:0.095 4G# tiedPrev», «0.095:0.429 4D», «0.429:1.000 rest»]</td><td>[0, 2, 9] </td><td>gridError=0.0217, rhythmComplexity=0.316 (numNotesAcrossSubdics=3, numTies=0), divPenalty=0.0678 (0.006782, divPenalty=0.06, cardinalityPenalty=0.1, numSubdivsPenalty=0, levelPenalty=0)</td></tr>\n",
       "<tr><td>0.050843</td><td>(2, 1, 6, 1, 1)</td><td>[«0.000:0.100 4G# tiedPrev», «0.100:0.433 4D», «0.433:1.000 rest»]</td><td>[0, 1, 4] </td><td>gridError=0, rhythmComplexity=0.447 (numNotesAcrossSubdics=3, numTies=1), divPenalty=0.0765 (0.007649, divPenalty=0.04, cardinalityPenalty=0.1, numSubdivsPenalty=0, levelPenalty=0)     </td></tr>\n",
       "<tr><td>0.053502</td><td>(9,)           </td><td>[«0.000:0.111 4G# tiedPrev», «0.111:0.444 4D», «0.444:1.000 rest»]</td><td>[0, 1, 4] </td><td>gridError=0.0427, rhythmComplexity=0.316 (numNotesAcrossSubdics=0, numTies=1), divPenalty=0.02 (0.002, divPenalty=0.02, cardinalityPenalty=0, numSubdivsPenalty=0, levelPenalty=0)       </td></tr>\n",
       "<tr><td>0.059804</td><td>(7, 7, 1, 1)   </td><td>[«0.000:0.107 4G# tiedPrev», «0.107:0.429 4D», «0.429:1.000 rest»]</td><td>[0, 3, 12]</td><td>gridError=0.0334, rhythmComplexity=0.447 (numNotesAcrossSubdics=3, numTies=1), divPenalty=0.0678 (0.006782, divPenalty=0.06, cardinalityPenalty=0.1, numSubdivsPenalty=0, levelPenalty=0)</td></tr>\n",
       "<tr><td>0.060213</td><td>(5, 3, 1, 1)   </td><td>[«0.000:0.100 4G# tiedPrev», «0.100:0.417 4D», «0.417:1.000 rest»]</td><td>[0, 2, 7] </td><td>gridError=0.0385, rhythmComplexity=0.447 (numNotesAcrossSubdics=3, numTies=1), divPenalty=0.0374 (0.003742, divPenalty=0.02, cardinalityPenalty=0.1, numSubdivsPenalty=0, levelPenalty=0)</td></tr>\n",
       "<tr><td>0.061202</td><td>(5, 5, 1, 1)   </td><td>[«0.000:0.100 4G# tiedPrev», «0.100:0.450 4D», «0.450:1.000 rest»]</td><td>[0, 2, 9] </td><td>gridError=0.0385, rhythmComplexity=0.447 (numNotesAcrossSubdics=3, numTies=1), divPenalty=0.051 (0.005099, divPenalty=0.04, cardinalityPenalty=0.1, numSubdivsPenalty=0, levelPenalty=0) </td></tr>\n",
       "<tr><td>0.061649</td><td>(2, 1, 4, 1, 1)</td><td>[«0.000:0.100 4G# tiedPrev», «0.100:0.450 4D», «0.450:1.000 rest»]</td><td>[0, 1, 4] </td><td>gridError=0.0385, rhythmComplexity=0.447 (numNotesAcrossSubdics=3, numTies=1), divPenalty=0.0561 (0.005612, divPenalty=0.02, cardinalityPenalty=0.1, numSubdivsPenalty=0, levelPenalty=0)</td></tr>\n",
       "<tr><td>0.06293 </td><td>(5, 7, 1, 1)   </td><td>[«0.000:0.100 4G# tiedPrev», «0.100:0.429 4D», «0.429:1.000 rest»]</td><td>[0, 2, 10]</td><td>gridError=0.0141, rhythmComplexity=0.447 (numNotesAcrossSubdics=3, numTies=1), divPenalty=0.133 (0.01327, divPenalty=0.04, cardinalityPenalty=0.4, numSubdivsPenalty=0, levelPenalty=0)  </td></tr>\n",
       "<tr><td>0.062948</td><td>(3, 3, 1)      </td><td>[«0.000:0.111 4G# tiedPrev», «0.111:0.444 4D», «0.444:1.000 rest»]</td><td>[0, 1, 4] </td><td>gridError=0.0427, rhythmComplexity=0.447 (numNotesAcrossSubdics=3, numTies=1), divPenalty=0.0374 (0.003742, divPenalty=0.02, cardinalityPenalty=0.1, numSubdivsPenalty=0, levelPenalty=0)</td></tr>\n",
       "<tr><td>0.063894</td><td>(9, 1)         </td><td>[«0.000:0.111 4G# tiedPrev», «0.111:0.444 4D», «0.444:1.000 rest»]</td><td>[0, 2, 8] </td><td>gridError=0.0427, rhythmComplexity=0.447 (numNotesAcrossSubdics=3, numTies=1), divPenalty=0.051 (0.005099, divPenalty=0.04, cardinalityPenalty=0.1, numSubdivsPenalty=0, levelPenalty=0) </td></tr>\n",
       "<tr><td>0.064107</td><td>(3, 7, 1)      </td><td>[«0.000:0.111 4G# tiedPrev», «0.111:0.429 4D», «0.429:1.000 rest»]</td><td>[0, 1, 5] </td><td>gridError=0.043, rhythmComplexity=0.447 (numNotesAcrossSubdics=3, numTies=1), divPenalty=0.051 (0.005099, divPenalty=0.04, cardinalityPenalty=0.1, numSubdivsPenalty=0, levelPenalty=0)  </td></tr>\n",
       "<tr><td>0.06441 </td><td>(7, 4, 1)      </td><td>[«0.000:0.095 4G# tiedPrev», «0.095:0.417 4D», «0.417:1.000 rest»]</td><td>[0, 2, 8] </td><td>gridError=0.0435, rhythmComplexity=0.447 (numNotesAcrossSubdics=3, numTies=1), divPenalty=0.051 (0.005099, divPenalty=0.04, cardinalityPenalty=0.1, numSubdivsPenalty=0, levelPenalty=0) </td></tr>\n",
       "<tr><td>0.06728 </td><td>(3, 3, 1, 1)   </td><td>[«0.000:0.083 4G# tiedPrev», «0.083:0.417 4D», «0.417:1.000 rest»]</td><td>[0, 1, 5] </td><td>gridError=0.059, rhythmComplexity=0.316 (numNotesAcrossSubdics=3, numTies=0), divPenalty=0.02 (0.002, divPenalty=0.02, cardinalityPenalty=0, numSubdivsPenalty=0, levelPenalty=0)        </td></tr>\n",
       "<tr><td>0.068166</td><td>(6, 1)         </td><td>[«0.000:0.083 4G# tiedPrev», «0.083:0.417 4D», «0.417:1.000 rest»]</td><td>[0, 1, 5] </td><td>gridError=0.059, rhythmComplexity=0.316 (numNotesAcrossSubdics=3, numTies=0), divPenalty=0.04 (0.004, divPenalty=0.04, cardinalityPenalty=0, numSubdivsPenalty=0, levelPenalty=0)        </td></tr>\n",
       "<tr><td>0.069661</td><td>(4, 7, 1)      </td><td>[«0.000:0.083 4G# tiedPrev», «0.083:0.429 4D», «0.429:1.000 rest»]</td><td>[0, 1, 6] </td><td>gridError=0.0509, rhythmComplexity=0.447 (numNotesAcrossSubdics=3, numTies=1), divPenalty=0.051 (0.005099, divPenalty=0.04, cardinalityPenalty=0.1, numSubdivsPenalty=0, levelPenalty=0) </td></tr>\n",
       "<tr><td>0.069661</td><td>(3, 7, 1, 1)   </td><td>[«0.000:0.083 4G# tiedPrev», «0.083:0.429 4D», «0.429:1.000 rest»]</td><td>[0, 1, 8] </td><td>gridError=0.0509, rhythmComplexity=0.447 (numNotesAcrossSubdics=3, numTies=1), divPenalty=0.051 (0.005099, divPenalty=0.04, cardinalityPenalty=0.1, numSubdivsPenalty=0, levelPenalty=0) </td></tr>\n",
       "<tr><td>0.070332</td><td>(4, 4, 1)      </td><td>[«0.000:0.083 4G# tiedPrev», «0.083:0.417 4D», «0.417:1.000 rest»]</td><td>[0, 1, 5] </td><td>gridError=0.059, rhythmComplexity=0.316 (numNotesAcrossSubdics=3, numTies=0), divPenalty=0.0678 (0.006782, divPenalty=0.06, cardinalityPenalty=0.1, numSubdivsPenalty=0, levelPenalty=0) </td></tr>\n",
       "<tr><td>0.072311</td><td>(7, 3, 1, 1)   </td><td>[«0.000:0.107 4G# tiedPrev», «0.107:0.417 4D», «0.417:1.000 rest»]</td><td>[0, 3, 9] </td><td>gridError=0.0545, rhythmComplexity=0.447 (numNotesAcrossSubdics=3, numTies=1), divPenalty=0.051 (0.005099, divPenalty=0.04, cardinalityPenalty=0.1, numSubdivsPenalty=0, levelPenalty=0) </td></tr>\n",
       "<tr><td>0.073259</td><td>(11,)          </td><td>[«0.000:0.091 4G# tiedPrev», «0.091:0.455 4D», «0.455:1.000 rest»]</td><td>[0, 1, 5] </td><td>gridError=0.0661, rhythmComplexity=0 (numNotesAcrossSubdics=0, numTies=0), divPenalty=0.1 (0.01, divPenalty=0.1, cardinalityPenalty=0, numSubdivsPenalty=0, levelPenalty=0)              </td></tr>\n",
       "<tr><td>0.073632</td><td>(5, 4, 1, 1)   </td><td>[«0.000:0.100 4G# tiedPrev», «0.100:0.438 4D», «0.438:1.000 rest»]</td><td>[0, 2, 8] </td><td>gridError=0.0127, rhythmComplexity=0.707 (numNotesAcrossSubdics=3, numTies=2), divPenalty=0.051 (0.005099, divPenalty=0.04, cardinalityPenalty=0.1, numSubdivsPenalty=0, levelPenalty=0) </td></tr>\n",
       "</tbody>\n",
       "</table>"
      ],
      "text/plain": [
       "<IPython.core.display.HTML object>"
      ]
     },
     "metadata": {},
     "output_type": "display_data"
    },
    {
     "data": {
      "text/html": [
       "<b>LilypondRenderer</b> (1 part)<br>\n",
       "        <img style=\"display:inline; padding:10px;\n",
       "margin-top:14px;\n",
       "width:567.0\"\n",
       "             src=\"data:image/png;base64,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\"/>"
      ],
      "text/plain": [
       "<maelzel.scoring.renderlily.LilypondRenderer at 0x7febcbd69700>"
      ]
     },
     "execution_count": 10,
     "metadata": {},
     "output_type": "execute_result"
    }
   ],
   "source": [
    "from maelzel import scoring\n",
    "from maelzel.scorestruct import ScoreStruct\n",
    "from maelzel.scoring import quantutils\n",
    "from maelzel.common import F\n",
    "\n",
    "notes = [\n",
    "    #(60, F(1, 2)),\n",
    "    #(60.5, F(3, 2)),\n",
    "    (61, F(1, 2)),\n",
    "    # (62, F(1, 4)),\n",
    "    (64, F(1, 10)),\n",
    "    (65, F(1, 10)),\n",
    "    (66, F(1, 10)),\n",
    "    (67, F(1, 10)),\n",
    "    (68, F(1, 5)),\n",
    "    (62, F(1, 3)),\n",
    "    \n",
    "    \n",
    "    # (67.5, F(1, 3)*F(8, 7)),   \n",
    "]\n",
    "struct = ScoreStruct(timesig='4/4', quarterTempo=70)\n",
    "\n",
    "\n",
    "notations = [scoring.makeNote(p, d) for p, d in notes]\n",
    "part = scoring.Part(notations)\n",
    "quantprofile = scoring.quant.makeQuantizationProfile('highest', nestedTuplets=True)\n",
    "quantprofile.divisionErrorWeight = 0.1\n",
    "quantprofile.rhythmComplexityWeight = 0.01\n",
    "quantprofile.debug = True\n",
    "qpart = scoring.quant.quantizePart(part, struct=struct, profile=quantprofile)\n",
    "options = scoring.render.RenderOptions()\n",
    "score = scoring.quant.QuantizedScore([qpart])\n",
    "r = scoring.render.renderQuantizedScore(score, options)\n",
    "r"
   ]
  },
  {
   "cell_type": "code",
   "execution_count": 11,
   "id": "c5d90c78-ca2d-49b1-85f6-25896c4e78cc",
   "metadata": {},
   "outputs": [
    {
     "name": "stdout",
     "output_type": "stream",
     "text": [
      "Beat: 0 - 1 (dur: 1)\n",
      "Skipped 21 divisions with a div. penalty > 0.2\n",
      "Best 18 divisions: \n"
     ]
    },
    {
     "data": {
      "text/html": [
       "<table>\n",
       "<thead>\n",
       "<tr><th>error    </th><th>div            </th><th>snapped                                       </th><th>slots  </th><th>info                                                                                                                                                                                       </th></tr>\n",
       "</thead>\n",
       "<tbody>\n",
       "<tr><td>0.0044721</td><td>(3,)           </td><td>[«0.000:0.667 4C#», «0.667:1.000 4E tiedNext»]</td><td>[0, 2] </td><td>gridError=0, rhythmComplexity=0 (numNotesAcrossSubdics=0, numTies=0), divPenalty=0.02 (0.001, divPenalty=0.02, cardinalityPenalty=0, numSubdivsPenalty=0, levelPenalty=0)                  </td></tr>\n",
       "<tr><td>0.01     </td><td>(1, 1, 3, 1)   </td><td>[«0.000:0.667 4C#», «0.667:1.000 4E tiedNext»]</td><td>[0, 4] </td><td>gridError=0, rhythmComplexity=0.316 (numNotesAcrossSubdics=2, numTies=0), divPenalty=0 (0, divPenalty=0, cardinalityPenalty=0, numSubdivsPenalty=0, levelPenalty=0)                        </td></tr>\n",
       "<tr><td>0.010954 </td><td>(1, 3)         </td><td>[«0.000:0.667 4C#», «0.667:1.000 4E tiedNext»]</td><td>[0, 2] </td><td>gridError=0, rhythmComplexity=0.316 (numNotesAcrossSubdics=2, numTies=0), divPenalty=0.02 (0.001, divPenalty=0.02, cardinalityPenalty=0.1, numSubdivsPenalty=0, levelPenalty=0)            </td></tr>\n",
       "<tr><td>0.013038 </td><td>(1, 1, 1)      </td><td>[«0.000:0.667 4C#», «0.667:1.000 4E tiedNext»]</td><td>[0, 2] </td><td>gridError=0, rhythmComplexity=0.158 (numNotesAcrossSubdics=1, numTies=0), divPenalty=0.0539 (0.002693, divPenalty=0.02, cardinalityPenalty=0, numSubdivsPenalty=0, levelPenalty=0.05)      </td></tr>\n",
       "<tr><td>0.019526 </td><td>(1, 1, 1, 3, 1)</td><td>[«0.000:0.667 4C#», «0.667:1.000 4E tiedNext»]</td><td>[0, 4] </td><td>gridError=0, rhythmComplexity=0.316 (numNotesAcrossSubdics=2, numTies=0), divPenalty=0.075 (0.00375, divPenalty=0, cardinalityPenalty=0.1, numSubdivsPenalty=0, levelPenalty=0.05)         </td></tr>\n",
       "<tr><td>0.043687 </td><td>(1, 1, 5, 1)   </td><td>[«0.000:0.650 4C#», «0.650:1.000 4E tiedNext»]</td><td>[0, 5] </td><td>gridError=0.0395, rhythmComplexity=0.57 (numNotesAcrossSubdics=2, numTies=1), divPenalty=0.02 (0.001, divPenalty=0.02, cardinalityPenalty=0.1, numSubdivsPenalty=0, levelPenalty=0)        </td></tr>\n",
       "<tr><td>0.047062 </td><td>(1, 1, 1, 4, 1)</td><td>[«0.000:0.650 4C#», «0.650:1.000 4E tiedNext»]</td><td>[0, 4] </td><td>gridError=0.0395, rhythmComplexity=0.57 (numNotesAcrossSubdics=2, numTies=1), divPenalty=0.0808 (0.004039, divPenalty=0.02, cardinalityPenalty=0.1, numSubdivsPenalty=0, levelPenalty=0.05)</td></tr>\n",
       "<tr><td>0.057488 </td><td>(1, 1, 4, 1)   </td><td>[«0.000:0.688 4C#», «0.688:1.000 4E tiedNext»]</td><td>[0, 5] </td><td>gridError=0.0478, rhythmComplexity=1 (numNotesAcrossSubdics=2, numTies=2), divPenalty=0.02 (0.001, divPenalty=0.02, cardinalityPenalty=0, numSubdivsPenalty=0, levelPenalty=0)             </td></tr>\n",
       "<tr><td>0.058008 </td><td>(1, 8)         </td><td>[«0.000:0.688 4C#», «0.688:1.000 4E tiedNext»]</td><td>[0, 4] </td><td>gridError=0.0478, rhythmComplexity=1 (numNotesAcrossSubdics=2, numTies=2), divPenalty=0.04 (0.002, divPenalty=0.04, cardinalityPenalty=0, numSubdivsPenalty=0, levelPenalty=0)             </td></tr>\n",
       "<tr><td>0.062827 </td><td>(1, 7)         </td><td>[«0.000:0.643 4C#», «0.643:1.000 4E tiedNext»]</td><td>[0, 3] </td><td>gridError=0.0535, rhythmComplexity=1 (numNotesAcrossSubdics=2, numTies=2), divPenalty=0.04 (0.002, divPenalty=0.04, cardinalityPenalty=0, numSubdivsPenalty=0, levelPenalty=0)             </td></tr>\n",
       "<tr><td>0.069428 </td><td>(11,)          </td><td>[«0.000:0.636 4C#», «0.636:1.000 4E tiedNext»]</td><td>[0, 7] </td><td>gridError=0.0657, rhythmComplexity=0 (numNotesAcrossSubdics=0, numTies=0), divPenalty=0.1 (0.005, divPenalty=0.1, cardinalityPenalty=0, numSubdivsPenalty=0, levelPenalty=0)               </td></tr>\n",
       "<tr><td>0.072112 </td><td>(1, 5)         </td><td>[«0.000:0.700 4C#», «0.700:1.000 4E tiedNext»]</td><td>[0, 3] </td><td>gridError=0.0713, rhythmComplexity=0.316 (numNotesAcrossSubdics=2, numTies=0), divPenalty=0.02 (0.001, divPenalty=0.02, cardinalityPenalty=0.1, numSubdivsPenalty=0, levelPenalty=0)       </td></tr>\n",
       "<tr><td>0.073901 </td><td>(1, 1, 1, 2, 1)</td><td>[«0.000:0.700 4C#», «0.700:1.000 4E tiedNext»]</td><td>[0, 4] </td><td>gridError=0.0713, rhythmComplexity=0.316 (numNotesAcrossSubdics=2, numTies=0), divPenalty=0.075 (0.00375, divPenalty=0, cardinalityPenalty=0.1, numSubdivsPenalty=0, levelPenalty=0.05)    </td></tr>\n",
       "<tr><td>0.087571 </td><td>(8,)           </td><td>[«0.000:0.625 4C#», «0.625:1.000 4E tiedNext»]</td><td>[0, 5] </td><td>gridError=0.0862, rhythmComplexity=0.474 (numNotesAcrossSubdics=0, numTies=1), divPenalty=0.02 (0.001, divPenalty=0.02, cardinalityPenalty=0, numSubdivsPenalty=0, levelPenalty=0)         </td></tr>\n",
       "<tr><td>0.088027 </td><td>(1, 1, 2, 1)   </td><td>[«0.000:0.625 4C#», «0.625:1.000 4E tiedNext»]</td><td>[0, 3] </td><td>gridError=0.0862, rhythmComplexity=0.57 (numNotesAcrossSubdics=2, numTies=1), divPenalty=0 (0, divPenalty=0, cardinalityPenalty=0, numSubdivsPenalty=0, levelPenalty=0)                    </td></tr>\n",
       "<tr><td>0.08848  </td><td>(1, 4)         </td><td>[«0.000:0.625 4C#», «0.625:1.000 4E tiedNext»]</td><td>[0, 2] </td><td>gridError=0.0862, rhythmComplexity=0.57 (numNotesAcrossSubdics=2, numTies=1), divPenalty=0.04 (0.002, divPenalty=0.04, cardinalityPenalty=0, numSubdivsPenalty=0, levelPenalty=0)          </td></tr>\n",
       "<tr><td>0.097778 </td><td>(7,)           </td><td>[«0.000:0.714 4C#», «0.714:1.000 4E tiedNext»]</td><td>[0, 5] </td><td>gridError=0.0965, rhythmComplexity=0.474 (numNotesAcrossSubdics=0, numTies=1), divPenalty=0.02 (0.001, divPenalty=0.02, cardinalityPenalty=0, numSubdivsPenalty=0, levelPenalty=0)         </td></tr>\n",
       "<tr><td>0.12855  </td><td>(5,)           </td><td>[«0.000:0.600 4C#», «0.600:1.000 4E tiedNext»]</td><td>[0, 3] </td><td>gridError=0.128, rhythmComplexity=0 (numNotesAcrossSubdics=0, numTies=0), divPenalty=0.02 (0.001, divPenalty=0.02, cardinalityPenalty=0, numSubdivsPenalty=0, levelPenalty=0)              </td></tr>\n",
       "</tbody>\n",
       "</table>"
      ],
      "text/plain": [
       "<IPython.core.display.HTML object>"
      ]
     },
     "metadata": {},
     "output_type": "display_data"
    },
    {
     "name": "stdout",
     "output_type": "stream",
     "text": [
      "Beat: 1 - 2 (dur: 1)\n",
      "Skipped 21 divisions with a div. penalty > 0.2\n",
      "Best 20 divisions: \n"
     ]
    },
    {
     "data": {
      "text/html": [
       "<table>\n",
       "<thead>\n",
       "<tr><th>error    </th><th>div            </th><th>snapped                                                         </th><th>slots    </th><th>info                                                                                                                                                                                        </th></tr>\n",
       "</thead>\n",
       "<tbody>\n",
       "<tr><td>0.0044721</td><td>(3,)           </td><td>[«0.000:0.333 4E tiedPrev», «0.333:0.667 4F», «0.667:1.000 4F+»]</td><td>[0, 1, 2]</td><td>gridError=0, rhythmComplexity=0 (numNotesAcrossSubdics=0, numTies=0), divPenalty=0.02 (0.001, divPenalty=0.02, cardinalityPenalty=0, numSubdivsPenalty=0, levelPenalty=0)                   </td></tr>\n",
       "<tr><td>0.01     </td><td>(1, 3, 3, 1)   </td><td>[«0.000:0.333 4E tiedPrev», «0.333:0.667 4F», «0.667:1.000 4F+»]</td><td>[0, 2, 6]</td><td>gridError=0, rhythmComplexity=0.316 (numNotesAcrossSubdics=3, numTies=0), divPenalty=0 (0, divPenalty=0, cardinalityPenalty=0, numSubdivsPenalty=0, levelPenalty=0)                         </td></tr>\n",
       "<tr><td>0.012494 </td><td>(1, 1, 1)      </td><td>[«0.000:0.333 4E tiedPrev», «0.333:0.667 4F», «0.667:1.000 4F+»]</td><td>[0, 1, 2]</td><td>gridError=0, rhythmComplexity=0.105 (numNotesAcrossSubdics=1, numTies=0), divPenalty=0.0539 (0.002693, divPenalty=0.02, cardinalityPenalty=0, numSubdivsPenalty=0, levelPenalty=0.05)       </td></tr>\n",
       "<tr><td>0.013416 </td><td>(3, 3)         </td><td>[«0.000:0.333 4E tiedPrev», «0.333:0.667 4F», «0.667:1.000 4F+»]</td><td>[0, 2, 4]</td><td>gridError=0, rhythmComplexity=0.316 (numNotesAcrossSubdics=3, numTies=0), divPenalty=0.04 (0.002, divPenalty=0.04, cardinalityPenalty=0, numSubdivsPenalty=0, levelPenalty=0)               </td></tr>\n",
       "<tr><td>0.027071 </td><td>(1, 3, 1, 3, 1)</td><td>[«0.000:0.333 4E tiedPrev», «0.333:0.667 4F», «0.667:1.000 4F+»]</td><td>[0, 3, 6]</td><td>gridError=0, rhythmComplexity=0.316 (numNotesAcrossSubdics=3, numTies=0), divPenalty=0.113 (0.005625, divPenalty=0, cardinalityPenalty=0.1, numSubdivsPenalty=0, levelPenalty=0.05)         </td></tr>\n",
       "<tr><td>0.042233 </td><td>(1, 5, 3, 1)   </td><td>[«0.000:0.350 4E tiedPrev», «0.350:0.667 4F», «0.667:1.000 4F+»]</td><td>[0, 3, 8]</td><td>gridError=0.0395, rhythmComplexity=0.447 (numNotesAcrossSubdics=3, numTies=1), divPenalty=0.02 (0.001, divPenalty=0.02, cardinalityPenalty=0.1, numSubdivsPenalty=0, levelPenalty=0)        </td></tr>\n",
       "<tr><td>0.042233 </td><td>(1, 3, 5, 1)   </td><td>[«0.000:0.333 4E tiedPrev», «0.333:0.650 4F», «0.650:1.000 4F+»]</td><td>[0, 2, 7]</td><td>gridError=0.0395, rhythmComplexity=0.447 (numNotesAcrossSubdics=3, numTies=1), divPenalty=0.02 (0.001, divPenalty=0.02, cardinalityPenalty=0.1, numSubdivsPenalty=0, levelPenalty=0)        </td></tr>\n",
       "<tr><td>0.045715 </td><td>(1, 3, 1, 4, 1)</td><td>[«0.000:0.333 4E tiedPrev», «0.333:0.650 4F», «0.650:1.000 4F+»]</td><td>[0, 3, 6]</td><td>gridError=0.0395, rhythmComplexity=0.447 (numNotesAcrossSubdics=3, numTies=1), divPenalty=0.0808 (0.004039, divPenalty=0.02, cardinalityPenalty=0.1, numSubdivsPenalty=0, levelPenalty=0.05)</td></tr>\n",
       "<tr><td>0.045715 </td><td>(1, 4, 1, 3, 1)</td><td>[«0.000:0.350 4E tiedPrev», «0.350:0.667 4F», «0.667:1.000 4F+»]</td><td>[0, 4, 7]</td><td>gridError=0.0395, rhythmComplexity=0.447 (numNotesAcrossSubdics=3, numTies=1), divPenalty=0.0808 (0.004039, divPenalty=0.02, cardinalityPenalty=0.1, numSubdivsPenalty=0, levelPenalty=0.05)</td></tr>\n",
       "<tr><td>0.052962 </td><td>(1, 4, 3, 1)   </td><td>[«0.000:0.312 4E tiedPrev», «0.312:0.667 4F», «0.667:1.000 4F+»]</td><td>[0, 2, 7]</td><td>gridError=0.0478, rhythmComplexity=0.707 (numNotesAcrossSubdics=3, numTies=2), divPenalty=0.02 (0.001, divPenalty=0.02, cardinalityPenalty=0, numSubdivsPenalty=0, levelPenalty=0)          </td></tr>\n",
       "<tr><td>0.052962 </td><td>(1, 3, 4, 1)   </td><td>[«0.000:0.333 4E tiedPrev», «0.333:0.688 4F», «0.688:1.000 4F+»]</td><td>[0, 2, 7]</td><td>gridError=0.0478, rhythmComplexity=0.707 (numNotesAcrossSubdics=3, numTies=2), divPenalty=0.02 (0.001, divPenalty=0.02, cardinalityPenalty=0, numSubdivsPenalty=0, levelPenalty=0)          </td></tr>\n",
       "<tr><td>0.053525 </td><td>(3, 8)         </td><td>[«0.000:0.333 4E tiedPrev», «0.333:0.688 4F», «0.688:1.000 4F+»]</td><td>[0, 2, 6]</td><td>gridError=0.0478, rhythmComplexity=0.707 (numNotesAcrossSubdics=3, numTies=2), divPenalty=0.04 (0.002, divPenalty=0.04, cardinalityPenalty=0, numSubdivsPenalty=0, levelPenalty=0)          </td></tr>\n",
       "<tr><td>0.053525 </td><td>(8, 3)         </td><td>[«0.000:0.312 4E tiedPrev», «0.312:0.667 4F», «0.667:1.000 4F+»]</td><td>[0, 5, 9]</td><td>gridError=0.0478, rhythmComplexity=0.707 (numNotesAcrossSubdics=3, numTies=2), divPenalty=0.04 (0.002, divPenalty=0.04, cardinalityPenalty=0, numSubdivsPenalty=0, levelPenalty=0)          </td></tr>\n",
       "<tr><td>0.058713 </td><td>(3, 7)         </td><td>[«0.000:0.333 4E tiedPrev», «0.333:0.643 4F», «0.643:1.000 4F+»]</td><td>[0, 2, 5]</td><td>gridError=0.0535, rhythmComplexity=0.707 (numNotesAcrossSubdics=3, numTies=2), divPenalty=0.04 (0.002, divPenalty=0.04, cardinalityPenalty=0.1, numSubdivsPenalty=0, levelPenalty=0)        </td></tr>\n",
       "<tr><td>0.058713 </td><td>(7, 3)         </td><td>[«0.000:0.357 4E tiedPrev», «0.357:0.667 4F», «0.667:1.000 4F+»]</td><td>[0, 5, 8]</td><td>gridError=0.0535, rhythmComplexity=0.707 (numNotesAcrossSubdics=3, numTies=2), divPenalty=0.04 (0.002, divPenalty=0.04, cardinalityPenalty=0.1, numSubdivsPenalty=0, levelPenalty=0)        </td></tr>\n",
       "<tr><td>0.071573 </td><td>(1, 4, 5, 1)   </td><td>[«0.000:0.312 4E tiedPrev», «0.312:0.650 4F», «0.650:1.000 4F+»]</td><td>[0, 2, 8]</td><td>gridError=0.0674, rhythmComplexity=0.707 (numNotesAcrossSubdics=3, numTies=2), divPenalty=0.04 (0.002, divPenalty=0.04, cardinalityPenalty=0.1, numSubdivsPenalty=0, levelPenalty=0)        </td></tr>\n",
       "<tr><td>0.071573 </td><td>(1, 5, 4, 1)   </td><td>[«0.000:0.350 4E tiedPrev», «0.350:0.688 4F», «0.688:1.000 4F+»]</td><td>[0, 3, 9]</td><td>gridError=0.0674, rhythmComplexity=0.707 (numNotesAcrossSubdics=3, numTies=2), divPenalty=0.04 (0.002, divPenalty=0.04, cardinalityPenalty=0.1, numSubdivsPenalty=0, levelPenalty=0)        </td></tr>\n",
       "<tr><td>0.072527 </td><td>(1, 5, 5, 1)   </td><td>[«0.000:0.350 4E tiedPrev», «0.350:0.650 4F», «0.650:1.000 4F+»]</td><td>[0, 3, 9]</td><td>gridError=0.0713, rhythmComplexity=0.316 (numNotesAcrossSubdics=3, numTies=0), divPenalty=0.04 (0.002, divPenalty=0.04, cardinalityPenalty=0.1, numSubdivsPenalty=0, levelPenalty=0)        </td></tr>\n",
       "<tr><td>0.072802 </td><td>(5, 3)         </td><td>[«0.000:0.300 4E tiedPrev», «0.300:0.667 4F», «0.667:1.000 4F+»]</td><td>[0, 3, 6]</td><td>gridError=0.0713, rhythmComplexity=0.447 (numNotesAcrossSubdics=3, numTies=1), divPenalty=0.02 (0.001, divPenalty=0.02, cardinalityPenalty=0.1, numSubdivsPenalty=0, levelPenalty=0)        </td></tr>\n",
       "<tr><td>0.072802 </td><td>(3, 5)         </td><td>[«0.000:0.333 4E tiedPrev», «0.333:0.700 4F», «0.700:1.000 4F+»]</td><td>[0, 2, 5]</td><td>gridError=0.0713, rhythmComplexity=0.447 (numNotesAcrossSubdics=3, numTies=1), divPenalty=0.02 (0.001, divPenalty=0.02, cardinalityPenalty=0.1, numSubdivsPenalty=0, levelPenalty=0)        </td></tr>\n",
       "</tbody>\n",
       "</table>"
      ],
      "text/plain": [
       "<IPython.core.display.HTML object>"
      ]
     },
     "metadata": {},
     "output_type": "display_data"
    },
    {
     "data": {
      "text/html": [
       "<b>LilypondRenderer</b> (1 part)<br>\n",
       "        <img style=\"display:inline; padding:10px;\n",
       "margin-top:14px;\n",
       "width:292.0\"\n",
       "             src=\"data:image/png;base64,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\"/>"
      ],
      "text/plain": [
       "<maelzel.scoring.renderlily.LilypondRenderer at 0x7febcbd79f40>"
      ]
     },
     "execution_count": 11,
     "metadata": {},
     "output_type": "execute_result"
    }
   ],
   "source": [
    "from maelzel import scoring\n",
    "from maelzel.common import F\n",
    "from maelzel.scorestruct import ScoreStruct\n",
    "\n",
    "notes = [\n",
    "    (61, F(2, 3)),\n",
    "    (64, F(2, 3)),\n",
    "    (65, F(1, 3)),\n",
    "    (65.5, F(1, 3)),\n",
    "]\n",
    "\n",
    "notations = [scoring.makeNote(p, d) for p, d in notes]\n",
    "part = scoring.Part(notations)\n",
    "\n",
    "struct = ScoreStruct(timesig='4/4', quarterTempo=60)\n",
    "\n",
    "quantprofile = scoring.quant.makeQuantizationProfile('high', divisionErrorWeight=0.05)\n",
    "quantprofile.debug= True\n",
    "\n",
    "qpart = scoring.quant.quantizePart(part, struct=struct, profile=quantprofile)\n",
    "options = scoring.render.RenderOptions()\n",
    "score = scoring.quant.QuantizedScore([qpart])\n",
    "r = scoring.render.renderQuantizedScore(score, options)\n",
    "r"
   ]
  },
  {
   "cell_type": "code",
   "execution_count": 13,
   "id": "767db0c6-5ecd-4155-8f08-73046eb7ec26",
   "metadata": {},
   "outputs": [
    {
     "data": {
      "text/html": [
       "<code style=\"font-size:0.9em\">Score(1 voices)</code><br>\n",
       "        <img style=\"display:inline; padding:10px;\n",
       "margin-top:14px;\n",
       "width:192px\"\n",
       "             src=\"data:image/png;base64,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\"/>"
      ],
      "text/plain": [
       "Score(1 voices)"
      ]
     },
     "execution_count": 13,
     "metadata": {},
     "output_type": "execute_result"
    }
   ],
   "source": [
    "sco = r.score.toCoreScore()\n",
    "sco"
   ]
  },
  {
   "cell_type": "code",
   "execution_count": 12,
   "id": "bc7cfedd-878d-4048-b138-26a61ca09a43",
   "metadata": {},
   "outputs": [
    {
     "data": {
      "text/html": [
       "<b>LilypondRenderer</b> (1 part)<br>\n",
       "        <img style=\"display:inline; padding:10px;\n",
       "margin-top:14px;\n",
       "width:469.0\"\n",
       "             src=\"data:image/png;base64,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\"/>"
      ],
      "text/plain": [
       "<maelzel.scoring.renderlily.LilypondRenderer at 0x7febcbd69af0>"
      ]
     },
     "execution_count": 12,
     "metadata": {},
     "output_type": "execute_result"
    }
   ],
   "source": [
    "from maelzel import scoring\n",
    "from maelzel.scorestruct import ScoreStruct\n",
    "from maelzel.common import F\n",
    "\n",
    "notes = [\n",
    "    (60, F(2, 3)),\n",
    "    (63, F(2, 3)*F(1, 5)),\n",
    "    (64, F(2, 3)*F(1, 5)),\n",
    "    (65, F(2, 3)*F(3, 10)),\n",
    "    (66, F(2, 3)*F(1, 5)),\n",
    "    # (67, F(2, 3)*F(1, 5)),  \n",
    "    (61, F(2, 3)),\n",
    "    \n",
    "]\n",
    "\n",
    "notations = [scoring.makeNote(p, d) for p, d in notes]\n",
    "struct = ScoreStruct(timesig='4/4', quarterTempo=70)\n",
    "\n",
    "part = scoring.Part(notations)\n",
    "quantprofile = scoring.quant.makeQuantizationProfile('highest', debug=False, debugMaxDivisions=20, maxDivPenalty=0.1)\n",
    "#quantprofile.rhythmComplexityWeight = 0.001\n",
    "#quantprofile.allowedTupletsAcrossBeat = (3, 5)\n",
    "# quantprofile.minBeatFractionAcrossBeats = 1/8\n",
    "#quantprofile.minSymbolicDurationAcrossBeat = F(1, 3)\n",
    "\n",
    "# quantprofile.divisionErrorWeight = 0.01\n",
    "qpart = scoring.quant.quantizePart(part, struct=struct, profile=quantprofile)\n",
    "options = scoring.render.RenderOptions()\n",
    "score = scoring.quant.QuantizedScore([qpart])\n",
    "r = scoring.render.renderQuantizedScore(score, options)\n",
    "# qpart.dump()\n",
    "# r.write('~/tmp/quant.ly')\n",
    "r"
   ]
  },
  {
   "cell_type": "code",
   "execution_count": 11,
   "id": "87799eeb-f18e-42b9-8eba-e577793dbadb",
   "metadata": {},
   "outputs": [
    {
     "name": "stdout",
     "output_type": "stream",
     "text": [
      " "
     ]
    },
    {
     "data": {
      "text/plain": [
       "         140804 function calls (140773 primitive calls) in 0.111 seconds\n",
       "\n",
       "   Ordered by: internal time\n",
       "\n",
       "   ncalls  tottime  percall  cumtime  percall filename:lineno(function)\n",
       "     2058    0.016    0.000    0.045    0.000 quant.py:486(snapEventsToGrid)\n",
       "     2058    0.014    0.000    0.019    0.000 quantutils.py:98(simplifyDivision)\n",
       "        4    0.013    0.003    0.109    0.027 quant.py:946(quantizeBeat)\n",
       "     8232    0.012    0.000    0.018    0.000 misc.py:185(nearest_index)\n",
       "     6524    0.006    0.000    0.011    0.000 quant.py:267(divisionPenalty)\n",
       "     8232    0.005    0.000    0.005    0.000 {built-in method _bisect.bisect_right}\n",
       "     2058    0.004    0.000    0.023    0.000 quant.py:462(<listcomp>)\n",
       "      208    0.004    0.000    0.007    0.000 quant.py:630(_evalGridError)\n",
       "     8232    0.003    0.000    0.003    0.000 <string>:2(__init__)\n",
       "    26195    0.003    0.000    0.003    0.000 {built-in method builtins.len}\n",
       "     6016    0.003    0.000    0.003    0.000 {built-in method builtins.sorted}\n",
       "     6524    0.003    0.000    0.003    0.000 quant.py:263(<lambda>)\n",
       "    12540    0.002    0.000    0.002    0.000 {method 'get' of 'dict' objects}\n",
       "      208    0.002    0.000    0.007    0.000 quant.py:917(_evalRhythmComplexity)\n",
       "    16883    0.002    0.000    0.002    0.000 {method 'append' of 'list' objects}\n",
       "     8513    0.002    0.000    0.002    0.000 {method 'isdisjoint' of 'set' objects}\n",
       "     2058    0.002    0.000    0.024    0.000 quant.py:461(_fitEventsToGridNearest)\n",
       "     1076    0.001    0.000    0.004    0.000 {built-in method builtins.sum}\n",
       "        5    0.001    0.000    0.004    0.001 {method 'sort' of 'list' objects}\n",
       "     4092    0.001    0.000    0.001    0.000 quantutils.py:116(<genexpr>)\n",
       "     2154    0.001    0.000    0.002    0.000 {built-in method builtins.all}\n",
       "      624    0.001    0.000    0.002    0.000 mathlib.py:267(euclidian_distance)\n",
       "      784    0.001    0.000    0.001    0.000 quant.py:1363(isRegularDuration)\n",
       "      165    0.001    0.000    0.001    0.000 quantutils.py:81(resnap)\n",
       "     1664    0.001    0.000    0.001    0.000 {built-in method builtins.abs}\n",
       "      416    0.001    0.000    0.002    0.000 mathlib.py:286(weighted_euclidian_distance)\n",
       "     1664    0.001    0.000    0.001    0.000 {built-in method _abc._abc_instancecheck}\n",
       "      980    0.001    0.000    0.001    0.000 quant.py:936(<genexpr>)\n",
       "     2288    0.001    0.000    0.001    0.000 mathlib.py:281(<genexpr>)\n",
       "     1664    0.001    0.000    0.001    0.000 abc.py:117(__instancecheck__)\n",
       "      888    0.000    0.000    0.001    0.000 iterlib.py:412(flatten)\n",
       "      237    0.000    0.000    0.001    0.000 iterlib.py:160(pairwise)\n",
       "      237    0.000    0.000    0.000    0.000 {built-in method itertools.tee}\n",
       "     1230    0.000    0.000    0.000    0.000 {built-in method builtins.isinstance}\n",
       "       38    0.000    0.000    0.001    0.000 notation.py:454(copy)\n",
       "       39    0.000    0.000    0.000    0.000 notation.py:93(__init__)\n",
       "      697    0.000    0.000    0.000    0.000 iterlib.py:341(partialsum)\n",
       "      200    0.000    0.000    0.000    0.000 notation.py:412(end)\n",
       "     19/8    0.000    0.000    0.001    0.000 quant.py:1389(breakIrregularDuration)\n",
       "      624    0.000    0.000    0.000    0.000 {built-in method math.sqrt}\n",
       "      692    0.000    0.000    0.000    0.000 {built-in method builtins.hasattr}\n",
       "        1    0.000    0.000    0.001    0.001 quant.py:1478(measureSplitNotationsAtBeats)\n",
       "       32    0.000    0.000    0.001    0.000 notation.py:436(clone)\n",
       "       15    0.000    0.000    0.000    0.000 quant.py:1160(splitNotationAtOffsets)\n",
       "        1    0.000    0.000    0.111    0.111 {built-in method builtins.exec}\n",
       "        1    0.000    0.000    0.110    0.110 quant.py:1606(quantizeMeasure)\n",
       "        3    0.000    0.000    0.000    0.000 core.py:57(__iter__)\n",
       "      208    0.000    0.000    0.000    0.000 {method 'add' of 'set' objects}\n",
       "        1    0.000    0.000    0.111    0.111 quant.py:2074(quantizePart)\n",
       "      237    0.000    0.000    0.000    0.000 {built-in method builtins.next}\n",
       "        4    0.000    0.000    0.000    0.000 quant.py:563(_fillDuration)\n",
       "        6    0.000    0.000    0.000    0.000 quant.py:1654(splitNotationByMeasure)\n",
       "       12    0.000    0.000    0.000    0.000 scorestruct.py:998(beatToLocation)\n",
       "     21/7    0.000    0.000    0.000    0.000 misc.py:1338(istype)\n",
       "       15    0.000    0.000    0.000    0.000 mathlib.py:330(split_interval_at_values)\n",
       "     10/4    0.000    0.000    0.000    0.000 quant.py:1561(_applyDurationRatio)\n",
       "        4    0.000    0.000    0.000    0.000 quant.py:1189(<listcomp>)\n",
       "       66    0.000    0.000    0.000    0.000 notation.py:150(<genexpr>)\n",
       "        2    0.000    0.000    0.004    0.002 quant.py:237(possibleBeatDivisionsByTempo)\n",
       "        5    0.000    0.000    0.000    0.000 util.py:52(measureQuarterDuration)\n",
       "       42    0.000    0.000    0.000    0.000 quant.py:1925(iterNotations)\n",
       "        2    0.000    0.000    0.000    0.000 quant.py:1036(<listcomp>)\n",
       "       40    0.000    0.000    0.000    0.000 mathlib.py:134(fraction_range)\n",
       "       21    0.000    0.000    0.000    0.000 misc.py:1362(<genexpr>)\n",
       "       36    0.000    0.000    0.000    0.000 quant.py:1183(<genexpr>)\n",
       "        2    0.000    0.000    0.000    0.000 quant.py:1997(removeUnnecessaryGracenotes)\n",
       "       14    0.000    0.000    0.000    0.000 quant.py:1530(<genexpr>)\n",
       "        2    0.000    0.000    0.000    0.000 quant.py:1115(<listcomp>)\n",
       "       33    0.000    0.000    0.000    0.000 {method 'copy' of 'list' objects}\n",
       "        1    0.000    0.000    0.000    0.000 quant.py:1717(_removeOverlapInplace)\n",
       "       13    0.000    0.000    0.000    0.000 notation.py:291(removeAttachments)\n",
       "        4    0.000    0.000    0.000    0.000 quant.py:521(isBeatFilled)\n",
       "       12    0.000    0.000    0.000    0.000 scorestruct.py:382(__post_init__)\n",
       "       60    0.000    0.000    0.000    0.000 quant.py:928(<genexpr>)\n",
       "        1    0.000    0.000    0.111    0.111 <string>:1(<module>)\n",
       "        1    0.000    0.000    0.000    0.000 core.py:119(hasGaps)\n",
       "       16    0.000    0.000    0.000    0.000 quant.py:591(<genexpr>)\n",
       "        7    0.000    0.000    0.000    0.000 misc.py:1381(assert_type)\n",
       "        4    0.000    0.000    0.000    0.000 <string>:1(<lambda>)\n",
       "       24    0.000    0.000    0.000    0.000 common.py:18(asF)\n",
       "       14    0.000    0.000    0.000    0.000 quant.py:1017(<genexpr>)\n",
       "        1    0.000    0.000    0.000    0.000 quant.py:2105(<listcomp>)\n",
       "        1    0.000    0.000    0.000    0.000 util.py:161(measureOffsets)\n",
       "       11    0.000    0.000    0.000    0.000 quant.py:1264(_tieNotationParts)\n",
       "       11    0.000    0.000    0.000    0.000 quant.py:1339(_breakIrregularDuration)\n",
       "       56    0.000    0.000    0.000    0.000 {built-in method builtins.setattr}\n",
       "        8    0.000    0.000    0.000    0.000 {built-in method builtins.any}\n",
       "       33    0.000    0.000    0.000    0.000 mathlib.py:69(intersection)\n",
       "       16    0.000    0.000    0.000    0.000 quant.py:585(<genexpr>)\n",
       "        2    0.000    0.000    0.000    0.000 {built-in method builtins.min}\n",
       "        2    0.000    0.000    0.000    0.000 quant.py:1467(isMeasureFilled)\n",
       "        1    0.000    0.000    0.000    0.000 quant.py:2043(_fixTies)\n",
       "       12    0.000    0.000    0.000    0.000 quant.py:927(<listcomp>)\n",
       "        6    0.000    0.000    0.000    0.000 quant.py:1600(<listcomp>)\n",
       "       43    0.000    0.000    0.000    0.000 {built-in method __new__ of type object at 0x8db7c0}\n",
       "        6    0.000    0.000    0.000    0.000 core.py:122(<genexpr>)\n",
       "       40    0.000    0.000    0.000    0.000 notation.py:391(isGraceNote)\n",
       "        7    0.000    0.000    0.000    0.000 quant.py:1629(<genexpr>)\n",
       "        1    0.000    0.000    0.000    0.000 notation.py:898(makeRest)\n",
       "       12    0.000    0.000    0.000    0.000 quant.py:589(<genexpr>)\n",
       "       32    0.000    0.000    0.000    0.000 {method 'pop' of 'dict' objects}\n",
       "       11    0.000    0.000    0.000    0.000 common.py:44(asF)\n",
       "       34    0.000    0.000    0.000    0.000 {method 'items' of 'dict' objects}\n",
       "        1    0.000    0.000    0.000    0.000 quant.py:1513(<listcomp>)\n",
       "        7    0.000    0.000    0.000    0.000 quant.py:1156(<genexpr>)\n",
       "        1    0.000    0.000    0.000    0.000 quant.py:831(check)\n",
       "       19    0.000    0.000    0.000    0.000 {method 'extend' of 'list' objects}\n",
       "       13    0.000    0.000    0.000    0.000 quant.py:773(<genexpr>)\n",
       "       24    0.000    0.000    0.000    0.000 mathlib.py:125(asFraction)\n",
       "        7    0.000    0.000    0.000    0.000 core.py:121(<genexpr>)\n",
       "        1    0.000    0.000    0.000    0.000 quant.py:2028(glissMarkTiedNotesAsHidden)\n",
       "        1    0.000    0.000    0.000    0.000 core.py:212(<listcomp>)\n",
       "       13    0.000    0.000    0.000    0.000 quant.py:1101(<lambda>)\n",
       "        1    0.000    0.000    0.000    0.000 quant.py:1140(_fillMeasure)\n",
       "       12    0.000    0.000    0.000    0.000 quant.py:587(<genexpr>)\n",
       "       15    0.000    0.000    0.000    0.000 quant.py:1470(<genexpr>)\n",
       "        1    0.000    0.000    0.000    0.000 {built-in method builtins.max}\n",
       "        1    0.000    0.000    0.000    0.000 util.py:113(measureBeats)\n",
       "        1    0.000    0.000    0.000    0.000 quant.py:763(notations)\n",
       "        4    0.000    0.000    0.000    0.000 quant.py:696(applyDurationRatios)\n",
       "       14    0.000    0.000    0.000    0.000 quant.py:1864(flatNotations)\n",
       "       14    0.000    0.000    0.000    0.000 quant.py:1529(<genexpr>)\n",
       "       14    0.000    0.000    0.000    0.000 quant.py:1008(<genexpr>)\n",
       "       16    0.000    0.000    0.000    0.000 quant.py:584(<genexpr>)\n",
       "       14    0.000    0.000    0.000    0.000 quant.py:537(<genexpr>)\n",
       "       23    0.000    0.000    0.000    0.000 quant.py:1134(<genexpr>)\n",
       "        8    0.000    0.000    0.000    0.000 quant.py:1504(<genexpr>)\n",
       "        1    0.000    0.000    0.000    0.000 core.py:195(stackNotations)\n",
       "        3    0.000    0.000    0.000    0.000 quant.py:731(isEmpty)\n",
       "       19    0.000    0.000    0.000    0.000 quant.py:1460(<genexpr>)\n",
       "       10    0.000    0.000    0.000    0.000 quant.py:1113(<genexpr>)\n",
       "       14    0.000    0.000    0.000    0.000 quant.py:1202(<genexpr>)\n",
       "       17    0.000    0.000    0.000    0.000 quant.py:626(<genexpr>)\n",
       "        7    0.000    0.000    0.000    0.000 quant.py:2106(<genexpr>)\n",
       "        8    0.000    0.000    0.000    0.000 quant.py:1022(<genexpr>)\n",
       "        7    0.000    0.000    0.000    0.000 core.py:176(<genexpr>)\n",
       "       19    0.000    0.000    0.000    0.000 quant.py:1458(<genexpr>)\n",
       "       13    0.000    0.000    0.000    0.000 notation.py:300(<listcomp>)\n",
       "        4    0.000    0.000    0.000    0.000 quant.py:693(__post_init__)\n",
       "        1    0.000    0.000    0.000    0.000 scorestruct.py:666(getMeasureDef)\n",
       "        4    0.000    0.000    0.000    0.000 quant.py:545(<genexpr>)\n",
       "       14    0.000    0.000    0.000    0.000 quant.py:1013(<genexpr>)\n",
       "       19    0.000    0.000    0.000    0.000 quant.py:1461(<genexpr>)\n",
       "       17    0.000    0.000    0.000    0.000 quant.py:842(<genexpr>)\n",
       "       13    0.000    0.000    0.000    0.000 quant.py:1112(<lambda>)\n",
       "        1    0.000    0.000    0.000    0.000 quant.py:1856(__post_init__)\n",
       "        6    0.000    0.000    0.000    0.000 quant.py:2118(<lambda>)\n",
       "        1    0.000    0.000    0.000    0.000 core.py:108(fillGaps)\n",
       "        1    0.000    0.000    0.000    0.000 core.py:163(stackNotationsInPlace)\n",
       "        8    0.000    0.000    0.000    0.000 quant.py:2051(<genexpr>)\n",
       "        4    0.000    0.000    0.000    0.000 quant.py:1130(<genexpr>)\n",
       "        1    0.000    0.000    0.000    0.000 quant.py:721(__post_init__)\n",
       "        6    0.000    0.000    0.000    0.000 quant.py:735(<genexpr>)\n",
       "        1    0.000    0.000    0.000    0.000 quant.py:2107(<listcomp>)\n",
       "        1    0.000    0.000    0.000    0.000 {method 'disable' of '_lsprof.Profiler' objects}"
      ]
     },
     "metadata": {},
     "output_type": "display_data"
    }
   ],
   "source": [
    "quantprofile.debug  = False\n",
    "%prun scoring.quant.quantizePart(part, struct=struct, profile=quantprofile)\n"
   ]
  },
  {
   "cell_type": "code",
   "execution_count": 15,
   "id": "578fc4e1-97ec-4afd-8a04-7770244589f7",
   "metadata": {},
   "outputs": [
    {
     "name": "stdout",
     "output_type": "stream",
     "text": [
      "Beat: 0 - 1 (dur: 1)\n",
      "Skipped 2187 divisions with a div. penalty > 0.1\n",
      "Best 20 divisions: \n"
     ]
    },
    {
     "data": {
      "text/html": [
       "<table>\n",
       "<thead>\n",
       "<tr><th>error   </th><th>div            </th><th>snapped                                                                                                                                                     </th><th>slots                       </th><th>info                                                                                                                                                                                     </th></tr>\n",
       "</thead>\n",
       "<tbody>\n",
       "<tr><td>0.071547</td><td>(1, 1, 1, 3, 6)</td><td>[«0.000:0.667 4C», «0.667:grace 4D#», «0.667:0.733 4E», «0.733:0.833 4F», «0.833:0.867 4F#», «0.867:0.900 4D#», «0.900:0.933 4E», «0.933:1.000 4F tiedNext»]</td><td>[0, 4, 4, 5, 7, 8, 9, 10]   </td><td>gridError=0.0714, rhythmComplexity=0.316 (numNotesAcrossSubdics=8, numTies=0), divPenalty=0.0765 (0.000153, divPenalty=0.04, cardinalityPenalty=0.1, numSubdivsPenalty=0, levelPenalty=0)</td></tr>\n",
       "<tr><td>0.083394</td><td>(1, 1, 1, 4, 6)</td><td>[«0.000:0.650 4C», «0.650:0.700 4D#», «0.700:0.750 4E», «0.750:0.833 4F», «0.833:0.867 4F#», «0.867:0.900 4D#», «0.900:0.933 4E», «0.933:1.000 4F tiedNext»]</td><td>[0, 4, 5, 6, 8, 9, 10, 11]  </td><td>gridError=0.0833, rhythmComplexity=0.338 (numNotesAcrossSubdics=8, numTies=1), divPenalty=0.0765 (0.000153, divPenalty=0.04, cardinalityPenalty=0.1, numSubdivsPenalty=0, levelPenalty=0)</td></tr>\n",
       "<tr><td>0.093731</td><td>(1, 1, 1, 6, 4)</td><td>[«0.000:0.667 4C», «0.667:0.700 4D#», «0.700:0.733 4E», «0.733:0.850 4F», «0.850:grace 4F#», «0.850:0.900 4D#», «0.900:0.950 4E», «0.950:1.000 4F tiedNext»]</td><td>[0, 5, 6, 7, 10, 10, 11, 12]</td><td>gridError=0.0936, rhythmComplexity=0.316 (numNotesAcrossSubdics=8, numTies=0), divPenalty=0.0765 (0.000153, divPenalty=0.04, cardinalityPenalty=0.1, numSubdivsPenalty=0, levelPenalty=0)</td></tr>\n",
       "<tr><td>0.10429 </td><td>(1, 1, 1, 2, 6)</td><td>[«0.000:0.700 4C», «0.700:grace 4D#», «0.700:grace 4E», «0.700:0.833 4F», «0.833:0.867 4F#», «0.867:0.900 4D#», «0.900:0.933 4E», «0.933:1.000 4F tiedNext»]</td><td>[0, 4, 4, 4, 6, 7, 8, 9]    </td><td>gridError=0.104, rhythmComplexity=0.316 (numNotesAcrossSubdics=8, numTies=0), divPenalty=0.0765 (0.000153, divPenalty=0.04, cardinalityPenalty=0.1, numSubdivsPenalty=0, levelPenalty=0) </td></tr>\n",
       "<tr><td>0.11055 </td><td>(1, 1, 6, 7)   </td><td>[«0.000:0.667 4C», «0.667:0.708 4D#», «0.708:0.750 4E», «0.750:0.821 4F», «0.821:0.857 4F#», «0.857:0.893 4D#», «0.893:0.929 4E», «0.929:1.000 4F tiedNext»]</td><td>[0, 6, 7, 8, 10, 11, 12, 13]</td><td>gridError=0.11, rhythmComplexity=0.316 (numNotesAcrossSubdics=8, numTies=0), divPenalty=0.0678 (0.0001356, divPenalty=0.06, cardinalityPenalty=0.1, numSubdivsPenalty=0, levelPenalty=0) </td></tr>\n",
       "<tr><td>0.11364 </td><td>(1, 1, 8)      </td><td>[«0.000:0.667 4C», «0.667:0.708 4D#», «0.708:0.750 4E», «0.750:0.833 4F», «0.833:0.875 4F#», «0.875:0.917 4D#», «0.917:grace 4E», «0.917:1.000 4F tiedNext»]</td><td>[0, 2, 3, 4, 6, 7, 8, 8]    </td><td>gridError=0.114, rhythmComplexity=0.277 (numNotesAcrossSubdics=7, numTies=0), divPenalty=0.051 (0.000102, divPenalty=0.04, cardinalityPenalty=0.1, numSubdivsPenalty=0, levelPenalty=0)  </td></tr>\n",
       "<tr><td>0.11366 </td><td>(1, 1, 6, 6)   </td><td>[«0.000:0.667 4C», «0.667:0.708 4D#», «0.708:0.750 4E», «0.750:0.833 4F», «0.833:0.875 4F#», «0.875:0.917 4D#», «0.917:grace 4E», «0.917:1.000 4F tiedNext»]</td><td>[0, 6, 7, 8, 10, 11, 12, 12]</td><td>gridError=0.114, rhythmComplexity=0.316 (numNotesAcrossSubdics=8, numTies=0), divPenalty=0.06 (0.00012, divPenalty=0.06, cardinalityPenalty=0, numSubdivsPenalty=0, levelPenalty=0)      </td></tr>\n",
       "<tr><td>0.11523 </td><td>(1, 1, 9)      </td><td>[«0.000:0.667 4C», «0.667:0.704 4D#», «0.704:0.741 4E», «0.741:0.815 4F», «0.815:0.852 4F#», «0.852:0.889 4D#», «0.889:0.926 4E», «0.926:1.000 4F tiedNext»]</td><td>[0, 2, 3, 4, 6, 7, 8, 9]    </td><td>gridError=0.115, rhythmComplexity=0.277 (numNotesAcrossSubdics=7, numTies=0), divPenalty=0.051 (0.000102, divPenalty=0.04, cardinalityPenalty=0.1, numSubdivsPenalty=0, levelPenalty=0)  </td></tr>\n",
       "<tr><td>0.11839 </td><td>(1, 1, 6)      </td><td>[«0.000:0.667 4C», «0.667:0.722 4D#», «0.722:grace 4E», «0.722:0.833 4F», «0.833:0.889 4F#», «0.889:grace 4D#», «0.889:0.944 4E», «0.944:1.000 4F tiedNext»]</td><td>[0, 2, 3, 3, 5, 6, 6, 7]    </td><td>gridError=0.118, rhythmComplexity=0.277 (numNotesAcrossSubdics=7, numTies=0), divPenalty=0.04 (8e-05, divPenalty=0.04, cardinalityPenalty=0, numSubdivsPenalty=0, levelPenalty=0)        </td></tr>\n",
       "<tr><td>0.11841 </td><td>(1, 9)         </td><td>[«0.000:0.667 4C», «0.667:0.722 4D#», «0.722:grace 4E», «0.722:0.833 4F», «0.833:0.889 4F#», «0.889:grace 4D#», «0.889:0.944 4E», «0.944:1.000 4F tiedNext»]</td><td>[0, 4, 5, 5, 7, 8, 8, 9]    </td><td>gridError=0.118, rhythmComplexity=0.316 (numNotesAcrossSubdics=8, numTies=0), divPenalty=0.051 (0.000102, divPenalty=0.04, cardinalityPenalty=0.1, numSubdivsPenalty=0, levelPenalty=0)  </td></tr>\n",
       "<tr><td>0.12383 </td><td>(1, 1, 6, 5)   </td><td>[«0.000:0.667 4C», «0.667:0.708 4D#», «0.708:0.750 4E», «0.750:0.850 4F», «0.850:grace 4F#», «0.850:0.900 4D#», «0.900:0.950 4E», «0.950:1.000 4F tiedNext»]</td><td>[0, 6, 7, 8, 10, 10, 11, 12]</td><td>gridError=0.124, rhythmComplexity=0.316 (numNotesAcrossSubdics=8, numTies=0), divPenalty=0.051 (0.000102, divPenalty=0.04, cardinalityPenalty=0.1, numSubdivsPenalty=0, levelPenalty=0)  </td></tr>\n",
       "<tr><td>0.13    </td><td>(1, 1, 5, 7)   </td><td>[«0.000:0.650 4C», «0.650:0.700 4D#», «0.700:0.750 4E», «0.750:0.821 4F», «0.821:0.857 4F#», «0.857:0.893 4D#», «0.893:0.929 4E», «0.929:1.000 4F tiedNext»]</td><td>[0, 5, 6, 7, 9, 10, 11, 12] </td><td>gridError=0.13, rhythmComplexity=0.338 (numNotesAcrossSubdics=8, numTies=1), divPenalty=0.086 (0.000172, divPenalty=0.08, cardinalityPenalty=0.1, numSubdivsPenalty=0, levelPenalty=0)   </td></tr>\n",
       "<tr><td>0.13314 </td><td>(1, 1, 7, 7)   </td><td>[«0.000:0.679 4C», «0.679:0.714 4D#», «0.714:0.750 4E», «0.750:0.821 4F», «0.821:0.857 4F#», «0.857:0.893 4D#», «0.893:0.929 4E», «0.929:1.000 4F tiedNext»]</td><td>[0, 7, 8, 9, 11, 12, 13, 14]</td><td>gridError=0.133, rhythmComplexity=0.338 (numNotesAcrossSubdics=8, numTies=1), divPenalty=0.0678 (0.0001356, divPenalty=0.06, cardinalityPenalty=0.1, numSubdivsPenalty=0, levelPenalty=0)</td></tr>\n",
       "<tr><td>0.1337  </td><td>(1, 1, 5, 6)   </td><td>[«0.000:0.650 4C», «0.650:0.700 4D#», «0.700:0.750 4E», «0.750:0.833 4F», «0.833:0.875 4F#», «0.875:0.917 4D#», «0.917:grace 4E», «0.917:1.000 4F tiedNext»]</td><td>[0, 5, 6, 7, 9, 10, 11, 11] </td><td>gridError=0.134, rhythmComplexity=0.338 (numNotesAcrossSubdics=8, numTies=1), divPenalty=0.051 (0.000102, divPenalty=0.04, cardinalityPenalty=0.1, numSubdivsPenalty=0, levelPenalty=0)  </td></tr>\n",
       "<tr><td>0.13372 </td><td>(1, 1, 1, 6, 3)</td><td>[«0.000:0.667 4C», «0.667:0.700 4D#», «0.700:0.733 4E», «0.733:0.800 4F», «0.800:0.867 4F#», «0.867:grace 4D#», «0.867:0.933 4E», «0.933:1.000 4F tiedNext»]</td><td>[0, 5, 6, 7, 9, 10, 10, 11] </td><td>gridError=0.134, rhythmComplexity=0.316 (numNotesAcrossSubdics=8, numTies=0), divPenalty=0.0765 (0.000153, divPenalty=0.04, cardinalityPenalty=0.1, numSubdivsPenalty=0, levelPenalty=0) </td></tr>\n",
       "<tr><td>0.13551 </td><td>(1, 1, 7, 6)   </td><td>[«0.000:0.679 4C», «0.679:0.714 4D#», «0.714:0.750 4E», «0.750:0.833 4F», «0.833:0.875 4F#», «0.875:0.917 4D#», «0.917:grace 4E», «0.917:1.000 4F tiedNext»]</td><td>[0, 7, 8, 9, 11, 12, 13, 13]</td><td>gridError=0.135, rhythmComplexity=0.338 (numNotesAcrossSubdics=8, numTies=1), divPenalty=0.0678 (0.0001356, divPenalty=0.06, cardinalityPenalty=0.1, numSubdivsPenalty=0, levelPenalty=0)</td></tr>\n",
       "<tr><td>0.13771 </td><td>(1, 1, 4, 7)   </td><td>[«0.000:0.688 4C», «0.688:grace 4D#», «0.688:0.750 4E», «0.750:0.821 4F», «0.821:0.857 4F#», «0.857:0.893 4D#», «0.893:0.929 4E», «0.929:1.000 4F tiedNext»]</td><td>[0, 5, 5, 6, 8, 9, 10, 11]  </td><td>gridError=0.138, rhythmComplexity=0.338 (numNotesAcrossSubdics=8, numTies=1), divPenalty=0.051 (0.000102, divPenalty=0.04, cardinalityPenalty=0.1, numSubdivsPenalty=0, levelPenalty=0)  </td></tr>\n",
       "<tr><td>0.14062 </td><td>(1, 1, 1, 3, 5)</td><td>[«0.000:0.667 4C», «0.667:grace 4D#», «0.667:0.733 4E», «0.733:0.840 4F», «0.840:0.880 4F#», «0.880:grace 4D#», «0.880:0.920 4E», «0.920:1.000 4F tiedNext»]</td><td>[0, 4, 4, 5, 7, 8, 8, 9]    </td><td>gridError=0.141, rhythmComplexity=0.316 (numNotesAcrossSubdics=8, numTies=0), divPenalty=0.0842 (0.0001684, divPenalty=0.02, cardinalityPenalty=0.1, numSubdivsPenalty=0, levelPenalty=0)</td></tr>\n",
       "<tr><td>0.14122 </td><td>(1, 1, 4, 6)   </td><td>[«0.000:0.688 4C», «0.688:grace 4D#», «0.688:0.750 4E», «0.750:0.833 4F», «0.833:0.875 4F#», «0.875:0.917 4D#», «0.917:grace 4E», «0.917:1.000 4F tiedNext»]</td><td>[0, 5, 5, 6, 8, 9, 10, 10]  </td><td>gridError=0.141, rhythmComplexity=0.338 (numNotesAcrossSubdics=8, numTies=1), divPenalty=0.04 (8e-05, divPenalty=0.04, cardinalityPenalty=0, numSubdivsPenalty=0, levelPenalty=0)        </td></tr>\n",
       "<tr><td>0.14288 </td><td>(1, 1, 5, 5)   </td><td>[«0.000:0.650 4C», «0.650:0.700 4D#», «0.700:0.750 4E», «0.750:0.850 4F», «0.850:grace 4F#», «0.850:0.900 4D#», «0.900:0.950 4E», «0.950:1.000 4F tiedNext»]</td><td>[0, 5, 6, 7, 9, 9, 10, 11]  </td><td>gridError=0.143, rhythmComplexity=0.338 (numNotesAcrossSubdics=8, numTies=1), divPenalty=0.051 (0.000102, divPenalty=0.04, cardinalityPenalty=0.1, numSubdivsPenalty=0, levelPenalty=0)  </td></tr>\n",
       "</tbody>\n",
       "</table>"
      ],
      "text/plain": [
       "<IPython.core.display.HTML object>"
      ]
     },
     "metadata": {},
     "output_type": "display_data"
    },
    {
     "name": "stdout",
     "output_type": "stream",
     "text": [
      "Beat: 1 - 2 (dur: 1)\n",
      "Skipped 2187 divisions with a div. penalty > 0.1\n",
      "Best 20 divisions: \n"
     ]
    },
    {
     "data": {
      "text/html": [
       "<table>\n",
       "<thead>\n",
       "<tr><th>error    </th><th>div            </th><th>snapped                                                           </th><th>slots     </th><th>info                                                                                                                                                                                      </th></tr>\n",
       "</thead>\n",
       "<tbody>\n",
       "<tr><td>0.0038987</td><td>(5, 1, 5)      </td><td>[«0.000:0.067 4F tiedPrev», «0.067:0.733 4C#», «0.733:1.000 rest»]</td><td>[0, 1, 7] </td><td>gridError=0, rhythmComplexity=0.316 (numNotesAcrossSubdics=3, numTies=0), divPenalty=0.051 (0.000102, divPenalty=0.04, cardinalityPenalty=0.1, numSubdivsPenalty=0, levelPenalty=0)       </td></tr>\n",
       "<tr><td>0.0049168</td><td>(3, 1, 1, 3, 1)</td><td>[«0.000:0.067 4F tiedPrev», «0.067:0.733 4C#», «0.733:1.000 rest»]</td><td>[0, 1, 7] </td><td>gridError=0, rhythmComplexity=0.316 (numNotesAcrossSubdics=3, numTies=0), divPenalty=0.0842 (0.0001684, divPenalty=0.02, cardinalityPenalty=0.1, numSubdivsPenalty=0, levelPenalty=0)     </td></tr>\n",
       "<tr><td>0.020763 </td><td>(5, 1, 9)      </td><td>[«0.000:0.067 4F tiedPrev», «0.067:0.741 4C#», «0.741:1.000 rest»]</td><td>[0, 1, 8] </td><td>gridError=0.0201, rhythmComplexity=0.447 (numNotesAcrossSubdics=3, numTies=1), divPenalty=0.051 (0.000102, divPenalty=0.04, cardinalityPenalty=0.1, numSubdivsPenalty=0, levelPenalty=0)  </td></tr>\n",
       "<tr><td>0.025493 </td><td>(9, 1, 5)      </td><td>[«0.000:0.074 4F tiedPrev», «0.074:0.733 4C#», «0.733:1.000 rest»]</td><td>[0, 2, 11]</td><td>gridError=0.025, rhythmComplexity=0.447 (numNotesAcrossSubdics=3, numTies=1), divPenalty=0.051 (0.000102, divPenalty=0.04, cardinalityPenalty=0.1, numSubdivsPenalty=0, levelPenalty=0)   </td></tr>\n",
       "<tr><td>0.02884  </td><td>(5, 1, 6)      </td><td>[«0.000:0.067 4F tiedPrev», «0.067:0.722 4C#», «0.722:1.000 rest»]</td><td>[0, 1, 7] </td><td>gridError=0.0279, rhythmComplexity=0.707 (numNotesAcrossSubdics=3, numTies=2), divPenalty=0.051 (0.000102, divPenalty=0.04, cardinalityPenalty=0.1, numSubdivsPenalty=0, levelPenalty=0)  </td></tr>\n",
       "<tr><td>0.031174 </td><td>(9, 1, 9)      </td><td>[«0.000:0.074 4F tiedPrev», «0.074:0.741 4C#», «0.741:1.000 rest»]</td><td>[0, 2, 12]</td><td>gridError=0.0309, rhythmComplexity=0.316 (numNotesAcrossSubdics=3, numTies=0), divPenalty=0.0678 (0.0001356, divPenalty=0.06, cardinalityPenalty=0.1, numSubdivsPenalty=0, levelPenalty=0)</td></tr>\n",
       "<tr><td>0.032768 </td><td>(3, 1, 1, 5, 1)</td><td>[«0.000:0.067 4F tiedPrev», «0.067:0.720 4C#», «0.720:1.000 rest»]</td><td>[0, 1, 8] </td><td>gridError=0.0322, rhythmComplexity=0.447 (numNotesAcrossSubdics=3, numTies=1), divPenalty=0.0842 (0.0001684, divPenalty=0.02, cardinalityPenalty=0.1, numSubdivsPenalty=0, levelPenalty=0)</td></tr>\n",
       "<tr><td>0.033499 </td><td>(8, 9)         </td><td>[«0.000:0.062 4F tiedPrev», «0.062:0.722 4C#», «0.722:1.000 rest»]</td><td>[0, 1, 12]</td><td>gridError=0.0327, rhythmComplexity=0.707 (numNotesAcrossSubdics=3, numTies=2), divPenalty=0.04 (8e-05, divPenalty=0.04, cardinalityPenalty=0, numSubdivsPenalty=0, levelPenalty=0)        </td></tr>\n",
       "<tr><td>0.034934 </td><td>(6, 1, 5)      </td><td>[«0.000:0.056 4F tiedPrev», «0.056:0.733 4C#», «0.733:1.000 rest»]</td><td>[0, 1, 8] </td><td>gridError=0.0346, rhythmComplexity=0.447 (numNotesAcrossSubdics=3, numTies=1), divPenalty=0.051 (0.000102, divPenalty=0.04, cardinalityPenalty=0.1, numSubdivsPenalty=0, levelPenalty=0)  </td></tr>\n",
       "<tr><td>0.038844 </td><td>(5, 2, 4)      </td><td>[«0.000:0.067 4F tiedPrev», «0.067:0.750 4C#», «0.750:1.000 rest»]</td><td>[0, 1, 8] </td><td>gridError=0.0385, rhythmComplexity=0.447 (numNotesAcrossSubdics=3, numTies=1), divPenalty=0.04 (8e-05, divPenalty=0.04, cardinalityPenalty=0, numSubdivsPenalty=0, levelPenalty=0)        </td></tr>\n",
       "<tr><td>0.038869 </td><td>(5, 1, 4)      </td><td>[«0.000:0.067 4F tiedPrev», «0.067:0.750 4C#», «0.750:1.000 rest»]</td><td>[0, 1, 7] </td><td>gridError=0.0385, rhythmComplexity=0.447 (numNotesAcrossSubdics=3, numTies=1), divPenalty=0.051 (0.000102, divPenalty=0.04, cardinalityPenalty=0.1, numSubdivsPenalty=0, levelPenalty=0)  </td></tr>\n",
       "<tr><td>0.038883 </td><td>(3, 1, 1, 4, 1)</td><td>[«0.000:0.067 4F tiedPrev», «0.067:0.750 4C#», «0.750:1.000 rest»]</td><td>[0, 1, 8] </td><td>gridError=0.0385, rhythmComplexity=0.447 (numNotesAcrossSubdics=3, numTies=1), divPenalty=0.0561 (0.0001122, divPenalty=0.02, cardinalityPenalty=0.1, numSubdivsPenalty=0, levelPenalty=0)</td></tr>\n",
       "<tr><td>0.040088 </td><td>(7, 9)         </td><td>[«0.000:0.071 4F tiedPrev», «0.071:0.722 4C#», «0.722:1.000 rest»]</td><td>[0, 1, 11]</td><td>gridError=0.0394, rhythmComplexity=0.707 (numNotesAcrossSubdics=3, numTies=2), divPenalty=0.051 (0.000102, divPenalty=0.04, cardinalityPenalty=0.1, numSubdivsPenalty=0, levelPenalty=0)  </td></tr>\n",
       "<tr><td>0.040425 </td><td>(5, 1, 1, 3, 1)</td><td>[«0.000:0.080 4F tiedPrev», «0.080:0.733 4C#», «0.733:1.000 rest»]</td><td>[0, 2, 9] </td><td>gridError=0.04, rhythmComplexity=0.447 (numNotesAcrossSubdics=3, numTies=1), divPenalty=0.0842 (0.0001684, divPenalty=0.02, cardinalityPenalty=0.1, numSubdivsPenalty=0, levelPenalty=0)  </td></tr>\n",
       "<tr><td>0.042961 </td><td>(9, 9)         </td><td>[«0.000:0.056 4F tiedPrev», «0.056:0.722 4C#», «0.722:1.000 rest»]</td><td>[0, 1, 13]</td><td>gridError=0.0427, rhythmComplexity=0.447 (numNotesAcrossSubdics=3, numTies=1), divPenalty=0.04 (8e-05, divPenalty=0.04, cardinalityPenalty=0, numSubdivsPenalty=0, levelPenalty=0)        </td></tr>\n",
       "<tr><td>0.043007 </td><td>(6, 1, 6)      </td><td>[«0.000:0.056 4F tiedPrev», «0.056:0.722 4C#», «0.722:1.000 rest»]</td><td>[0, 1, 8] </td><td>gridError=0.0427, rhythmComplexity=0.447 (numNotesAcrossSubdics=3, numTies=1), divPenalty=0.06 (0.00012, divPenalty=0.06, cardinalityPenalty=0, numSubdivsPenalty=0, levelPenalty=0)      </td></tr>\n",
       "<tr><td>0.043724 </td><td>(7, 2)         </td><td>[«0.000:0.071 4F tiedPrev», «0.071:0.750 4C#», «0.750:1.000 rest»]</td><td>[0, 1, 8] </td><td>gridError=0.0435, rhythmComplexity=0.447 (numNotesAcrossSubdics=3, numTies=1), divPenalty=0.04 (8e-05, divPenalty=0.04, cardinalityPenalty=0, numSubdivsPenalty=0, levelPenalty=0)        </td></tr>\n",
       "<tr><td>0.043747 </td><td>(7, 1, 1, 1)   </td><td>[«0.000:0.071 4F tiedPrev», «0.071:0.750 4C#», «0.750:1.000 rest»]</td><td>[0, 2, 9] </td><td>gridError=0.0435, rhythmComplexity=0.447 (numNotesAcrossSubdics=3, numTies=1), divPenalty=0.051 (0.000102, divPenalty=0.04, cardinalityPenalty=0.1, numSubdivsPenalty=0, levelPenalty=0)  </td></tr>\n",
       "<tr><td>0.046156 </td><td>(9, 1, 6)      </td><td>[«0.000:0.074 4F tiedPrev», «0.074:0.722 4C#», «0.722:1.000 rest»]</td><td>[0, 2, 11]</td><td>gridError=0.0455, rhythmComplexity=0.707 (numNotesAcrossSubdics=3, numTies=2), divPenalty=0.06 (0.00012, divPenalty=0.06, cardinalityPenalty=0, numSubdivsPenalty=0, levelPenalty=0)      </td></tr>\n",
       "<tr><td>0.046896 </td><td>(9, 2, 4)      </td><td>[«0.000:0.074 4F tiedPrev», «0.074:0.750 4C#», «0.750:1.000 rest»]</td><td>[0, 2, 12]</td><td>gridError=0.0466, rhythmComplexity=0.447 (numNotesAcrossSubdics=3, numTies=1), divPenalty=0.04 (8e-05, divPenalty=0.04, cardinalityPenalty=0, numSubdivsPenalty=0, levelPenalty=0)        </td></tr>\n",
       "</tbody>\n",
       "</table>"
      ],
      "text/plain": [
       "<IPython.core.display.HTML object>"
      ]
     },
     "metadata": {},
     "output_type": "display_data"
    },
    {
     "data": {
      "text/html": [
       "<b>LilypondRenderer</b> (1 part)<br>\n",
       "        <img style=\"display:inline; padding:10px;\n",
       "margin-top:14px;\n",
       "width:617.0\"\n",
       "             src=\"data:image/png;base64,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\"/>"
      ],
      "text/plain": [
       "<maelzel.scoring.renderlily.LilypondRenderer at 0x7febcbd5f3d0>"
      ]
     },
     "execution_count": 15,
     "metadata": {},
     "output_type": "execute_result"
    }
   ],
   "source": [
    "from maelzel import scoring\n",
    "from maelzel.scorestruct import ScoreStruct\n",
    "from maelzel.common import F\n",
    "\n",
    "notes = [\n",
    "    (60, F(2, 3)),\n",
    "    (63, F(2, 3)*F(1, 20)),\n",
    "    (64, F(2, 3)*F(1, 20)),\n",
    "    (65, F(2, 3)*F(3, 20)),\n",
    "    (66, F(2, 3)*F(1, 20)),\n",
    "    (63, F(2, 3)*F(1, 20)),\n",
    "    (64, F(2, 3)*F(1, 20)),\n",
    "    (65, F(2, 3)*F(2, 10)),\n",
    "    (61, F(2, 3)),\n",
    "    \n",
    "]\n",
    "\n",
    "notations = [scoring.makeNote(p, d) for p, d in notes]\n",
    "struct = ScoreStruct(timesig='4/4', quarterTempo=70)\n",
    "\n",
    "part = scoring.Part(notations)\n",
    "quantprofile = scoring.quant.makeQuantizationProfile('highest', debug=True, debugMaxDivisions=20, maxDivPenalty=0.1)\n",
    "quantprofile.maxGridDensity = 32\n",
    "#quantprofile.rhythmComplexityWeight = 0.001\n",
    "#quantprofile.divisionErrorWeight = 0.01\n",
    "quantprofile.minBeatFractionAcrossBeats = F(1, 8)\n",
    "quantprofile.minSymbolicDurationAcrossBeat = F(1, 3)\n",
    "\n",
    "qpart = scoring.quant.quantizePart(part, struct=struct, profile=quantprofile)\n",
    "options = scoring.render.RenderOptions()\n",
    "score = scoring.quant.QuantizedScore([qpart])\n",
    "r = scoring.render.renderQuantizedScore(score, options)\n",
    "# qpart.dump()\n",
    "# r.write('~/tmp/quant.ly')\n",
    "r"
   ]
  },
  {
   "cell_type": "code",
   "execution_count": 14,
   "id": "4bc7ca8f-ea7c-4de6-87e5-a71aed53c355",
   "metadata": {},
   "outputs": [
    {
     "name": "stdout",
     "output_type": "stream",
     "text": [
      "46.3 ms ± 3.01 ms per loop (mean ± std. dev. of 7 runs, 10 loops each)\n"
     ]
    }
   ],
   "source": [
    "quantprofile.debug  = False\n",
    "%timeit scoring.quant.quantizePart(part, struct=struct, profile=quantprofile)\n"
   ]
  },
  {
   "cell_type": "code",
   "execution_count": 16,
   "id": "ef394c1d-6aee-487f-af01-2c82fd69626a",
   "metadata": {},
   "outputs": [
    {
     "name": "stdout",
     "output_type": "stream",
     "text": [
      "Beat: 0 - 1 (dur: 1)\n",
      "Skipped 2187 divisions with a div. penalty > 0.1\n",
      "Best 20 divisions: \n"
     ]
    },
    {
     "data": {
      "text/html": [
       "<table>\n",
       "<thead>\n",
       "<tr><th>error    </th><th>div         </th><th>snapped                                                                                     </th><th>slots             </th><th>info                                                                                                                                                                                      </th></tr>\n",
       "</thead>\n",
       "<tbody>\n",
       "<tr><td>0.0030984</td><td>(1, 4, 2, 4)</td><td>[«0.000:0.250 4C», «0.250:0.438 4D#», «0.438:0.625 4E», «0.625:0.812 4F», «0.812:1.000 4F#»]</td><td>[0, 1, 4, 6, 8]   </td><td>gridError=0, rhythmComplexity=0.253 (numNotesAcrossSubdics=4, numTies=0), divPenalty=0.04 (8e-05, divPenalty=0.04, cardinalityPenalty=0, numSubdivsPenalty=0, levelPenalty=0)             </td></tr>\n",
       "<tr><td>0.0036332</td><td>(8, 8)      </td><td>[«0.000:0.250 4C», «0.250:0.438 4D#», «0.438:0.625 4E», «0.625:0.812 4F», «0.812:1.000 4F#»]</td><td>[0, 4, 7, 10, 13] </td><td>gridError=0, rhythmComplexity=0.316 (numNotesAcrossSubdics=5, numTies=0), divPenalty=0.04 (8e-05, divPenalty=0.04, cardinalityPenalty=0, numSubdivsPenalty=0, levelPenalty=0)             </td></tr>\n",
       "<tr><td>0.029467 </td><td>(1, 7, 2, 4)</td><td>[«0.000:0.250 4C», «0.250:0.429 4D#», «0.429:0.625 4E», «0.625:0.812 4F», «0.812:1.000 4F#»]</td><td>[0, 1, 6, 9, 11]  </td><td>gridError=0.029, rhythmComplexity=0.456 (numNotesAcrossSubdics=4, numTies=2), divPenalty=0.051 (0.000102, divPenalty=0.04, cardinalityPenalty=0.1, numSubdivsPenalty=0, levelPenalty=0)   </td></tr>\n",
       "<tr><td>0.029467 </td><td>(1, 4, 2, 7)</td><td>[«0.000:0.250 4C», «0.250:0.438 4D#», «0.438:0.625 4E», «0.625:0.821 4F», «0.821:1.000 4F#»]</td><td>[0, 1, 4, 6, 9]   </td><td>gridError=0.029, rhythmComplexity=0.456 (numNotesAcrossSubdics=4, numTies=2), divPenalty=0.051 (0.000102, divPenalty=0.04, cardinalityPenalty=0.1, numSubdivsPenalty=0, levelPenalty=0)   </td></tr>\n",
       "<tr><td>0.035839 </td><td>(4, 9, 9)   </td><td>[«0.000:0.250 4C», «0.250:0.444 4D#», «0.444:0.630 4E», «0.630:0.815 4F», «0.815:1.000 4F#»]</td><td>[0, 3, 7, 12, 17] </td><td>gridError=0.0351, rhythmComplexity=0.651 (numNotesAcrossSubdics=5, numTies=3), divPenalty=0.06 (0.00012, divPenalty=0.06, cardinalityPenalty=0, numSubdivsPenalty=0, levelPenalty=0)      </td></tr>\n",
       "<tr><td>0.03814  </td><td>(1, 4, 2, 5)</td><td>[«0.000:0.250 4C», «0.250:0.438 4D#», «0.438:0.625 4E», «0.625:0.800 4F», «0.800:1.000 4F#»]</td><td>[0, 1, 4, 6, 8]   </td><td>gridError=0.038, rhythmComplexity=0.253 (numNotesAcrossSubdics=4, numTies=0), divPenalty=0.051 (0.000102, divPenalty=0.04, cardinalityPenalty=0.1, numSubdivsPenalty=0, levelPenalty=0)   </td></tr>\n",
       "<tr><td>0.03814  </td><td>(1, 5, 2, 4)</td><td>[«0.000:0.250 4C», «0.250:0.450 4D#», «0.450:0.625 4E», «0.625:0.812 4F», «0.812:1.000 4F#»]</td><td>[0, 1, 5, 7, 9]   </td><td>gridError=0.038, rhythmComplexity=0.253 (numNotesAcrossSubdics=4, numTies=0), divPenalty=0.051 (0.000102, divPenalty=0.04, cardinalityPenalty=0.1, numSubdivsPenalty=0, levelPenalty=0)   </td></tr>\n",
       "<tr><td>0.038913 </td><td>(4, 9, 7)   </td><td>[«0.000:0.250 4C», «0.250:0.444 4D#», «0.444:0.630 4E», «0.630:0.810 4F», «0.810:1.000 4F#»]</td><td>[0, 3, 7, 12, 16] </td><td>gridError=0.0385, rhythmComplexity=0.494 (numNotesAcrossSubdics=5, numTies=2), divPenalty=0.0678 (0.0001356, divPenalty=0.06, cardinalityPenalty=0.1, numSubdivsPenalty=0, levelPenalty=0)</td></tr>\n",
       "<tr><td>0.04323  </td><td>(4, 7, 7)   </td><td>[«0.000:0.250 4C», «0.250:0.429 4D#», «0.429:0.619 4E», «0.619:0.810 4F», «0.810:1.000 4F#»]</td><td>[0, 3, 6, 10, 14] </td><td>gridError=0.043, rhythmComplexity=0.369 (numNotesAcrossSubdics=5, numTies=1), divPenalty=0.0678 (0.0001356, divPenalty=0.06, cardinalityPenalty=0.1, numSubdivsPenalty=0, levelPenalty=0) </td></tr>\n",
       "<tr><td>0.044183 </td><td>(4, 7, 9)   </td><td>[«0.000:0.250 4C», «0.250:0.429 4D#», «0.429:0.619 4E», «0.619:0.815 4F», «0.815:1.000 4F#»]</td><td>[0, 3, 6, 10, 15] </td><td>gridError=0.0436, rhythmComplexity=0.651 (numNotesAcrossSubdics=5, numTies=3), divPenalty=0.0678 (0.0001356, divPenalty=0.06, cardinalityPenalty=0.1, numSubdivsPenalty=0, levelPenalty=0)</td></tr>\n",
       "<tr><td>0.050827 </td><td>(1, 4, 7, 4)</td><td>[«0.000:0.250 4C», «0.250:0.438 4D#», «0.438:0.607 4E», «0.607:0.812 4F», «0.812:1.000 4F#»]</td><td>[0, 1, 4, 8, 13]  </td><td>gridError=0.0505, rhythmComplexity=0.456 (numNotesAcrossSubdics=4, numTies=2), divPenalty=0.0678 (0.0001356, divPenalty=0.06, cardinalityPenalty=0.1, numSubdivsPenalty=0, levelPenalty=0)</td></tr>\n",
       "<tr><td>0.05125  </td><td>(1, 7, 2, 7)</td><td>[«0.000:0.250 4C», «0.250:0.429 4D#», «0.429:0.625 4E», «0.625:0.821 4F», «0.821:1.000 4F#»]</td><td>[0, 1, 6, 9, 12]  </td><td>gridError=0.0505, rhythmComplexity=0.8 (numNotesAcrossSubdics=4, numTies=4), divPenalty=0.0678 (0.0001356, divPenalty=0.06, cardinalityPenalty=0.1, numSubdivsPenalty=0, levelPenalty=0)  </td></tr>\n",
       "<tr><td>0.052307 </td><td>(9, 9, 9)   </td><td>[«0.000:0.259 4C», «0.259:0.444 4D#», «0.444:0.630 4E», «0.630:0.815 4F», «0.815:1.000 4F#»]</td><td>[0, 7, 12, 17, 22]</td><td>gridError=0.0516, rhythmComplexity=0.822 (numNotesAcrossSubdics=5, numTies=4), divPenalty=0.06 (0.00012, divPenalty=0.06, cardinalityPenalty=0, numSubdivsPenalty=0, levelPenalty=0)      </td></tr>\n",
       "<tr><td>0.05476  </td><td>(9, 9, 7)   </td><td>[«0.000:0.259 4C», «0.259:0.444 4D#», «0.444:0.630 4E», «0.630:0.810 4F», «0.810:1.000 4F#»]</td><td>[0, 7, 12, 17, 21]</td><td>gridError=0.0543, rhythmComplexity=0.651 (numNotesAcrossSubdics=5, numTies=3), divPenalty=0.0678 (0.0001356, divPenalty=0.06, cardinalityPenalty=0.1, numSubdivsPenalty=0, levelPenalty=0)</td></tr>\n",
       "<tr><td>0.057258 </td><td>(1, 3, 2, 4)</td><td>[«0.000:0.250 4C», «0.250:0.417 4D#», «0.417:0.625 4E», «0.625:0.812 4F», «0.812:1.000 4F#»]</td><td>[0, 1, 3, 5, 7]   </td><td>gridError=0.0572, rhythmComplexity=0.316 (numNotesAcrossSubdics=4, numTies=1), divPenalty=0.02 (4e-05, divPenalty=0.02, cardinalityPenalty=0, numSubdivsPenalty=0, levelPenalty=0)        </td></tr>\n",
       "<tr><td>0.057258 </td><td>(1, 4, 2, 3)</td><td>[«0.000:0.250 4C», «0.250:0.438 4D#», «0.438:0.625 4E», «0.625:0.833 4F», «0.833:1.000 4F#»]</td><td>[0, 1, 4, 6, 8]   </td><td>gridError=0.0572, rhythmComplexity=0.316 (numNotesAcrossSubdics=4, numTies=1), divPenalty=0.02 (4e-05, divPenalty=0.02, cardinalityPenalty=0, numSubdivsPenalty=0, levelPenalty=0)        </td></tr>\n",
       "<tr><td>0.057278 </td><td>(1, 4, 2, 6)</td><td>[«0.000:0.250 4C», «0.250:0.438 4D#», «0.438:0.625 4E», «0.625:0.792 4F», «0.792:1.000 4F#»]</td><td>[0, 1, 4, 6, 8]   </td><td>gridError=0.0572, rhythmComplexity=0.316 (numNotesAcrossSubdics=4, numTies=1), divPenalty=0.04 (8e-05, divPenalty=0.04, cardinalityPenalty=0, numSubdivsPenalty=0, levelPenalty=0)        </td></tr>\n",
       "<tr><td>0.05731  </td><td>(6, 8)      </td><td>[«0.000:0.250 4C», «0.250:0.417 4D#», «0.417:0.625 4E», «0.625:0.812 4F», «0.812:1.000 4F#»]</td><td>[0, 3, 5, 8, 11]  </td><td>gridError=0.0572, rhythmComplexity=0.369 (numNotesAcrossSubdics=5, numTies=1), divPenalty=0.04 (8e-05, divPenalty=0.04, cardinalityPenalty=0, numSubdivsPenalty=0, levelPenalty=0)        </td></tr>\n",
       "<tr><td>0.05877  </td><td>(1, 5, 2, 7)</td><td>[«0.000:0.250 4C», «0.250:0.450 4D#», «0.450:0.625 4E», «0.625:0.821 4F», «0.821:1.000 4F#»]</td><td>[0, 1, 5, 7, 10]  </td><td>gridError=0.0585, rhythmComplexity=0.456 (numNotesAcrossSubdics=4, numTies=2), divPenalty=0.086 (0.000172, divPenalty=0.08, cardinalityPenalty=0.1, numSubdivsPenalty=0, levelPenalty=0)  </td></tr>\n",
       "<tr><td>0.05877  </td><td>(1, 7, 2, 5)</td><td>[«0.000:0.250 4C», «0.250:0.429 4D#», «0.429:0.625 4E», «0.625:0.800 4F», «0.800:1.000 4F#»]</td><td>[0, 1, 6, 9, 11]  </td><td>gridError=0.0585, rhythmComplexity=0.456 (numNotesAcrossSubdics=4, numTies=2), divPenalty=0.086 (0.000172, divPenalty=0.08, cardinalityPenalty=0.1, numSubdivsPenalty=0, levelPenalty=0)  </td></tr>\n",
       "</tbody>\n",
       "</table>"
      ],
      "text/plain": [
       "<IPython.core.display.HTML object>"
      ]
     },
     "metadata": {},
     "output_type": "display_data"
    },
    {
     "name": "stdout",
     "output_type": "stream",
     "text": [
      "Beat: 1 - 2 (dur: 1)\n",
      "Skipped 2187 divisions with a div. penalty > 0.1\n",
      "Best 20 divisions: \n"
     ]
    },
    {
     "data": {
      "text/html": [
       "<table>\n",
       "<thead>\n",
       "<tr><th>error    </th><th>div            </th><th>snapped                                      </th><th>slots  </th><th>info                                                                                                                                                                                     </th></tr>\n",
       "</thead>\n",
       "<tbody>\n",
       "<tr><td>0.0057706</td><td>(4, 1, 1, 1)   </td><td>[«0.000:0.188 4G», «0.188:1.000 4C tiedNext»]</td><td>[0, 3] </td><td>gridError=0, rhythmComplexity=0.57 (numNotesAcrossSubdics=2, numTies=1), divPenalty=0.02 (4e-05, divPenalty=0.02, cardinalityPenalty=0, numSubdivsPenalty=0, levelPenalty=0)             </td></tr>\n",
       "<tr><td>0.0059749</td><td>(8, 1)         </td><td>[«0.000:0.188 4G», «0.188:1.000 4C tiedNext»]</td><td>[0, 3] </td><td>gridError=0, rhythmComplexity=0.57 (numNotesAcrossSubdics=2, numTies=1), divPenalty=0.04 (8e-05, divPenalty=0.04, cardinalityPenalty=0, numSubdivsPenalty=0, levelPenalty=0)             </td></tr>\n",
       "<tr><td>0.013525 </td><td>(7, 1, 1)      </td><td>[«0.000:0.190 4G», «0.190:1.000 4C tiedNext»]</td><td>[0, 4] </td><td>gridError=0.0121, rhythmComplexity=0.57 (numNotesAcrossSubdics=2, numTies=1), divPenalty=0.051 (0.000102, divPenalty=0.04, cardinalityPenalty=0.1, numSubdivsPenalty=0, levelPenalty=0)  </td></tr>\n",
       "<tr><td>0.014225 </td><td>(9, 1, 1)      </td><td>[«0.000:0.185 4G», «0.185:1.000 4C tiedNext»]</td><td>[0, 5] </td><td>gridError=0.00986, rhythmComplexity=1 (numNotesAcrossSubdics=2, numTies=2), divPenalty=0.051 (0.000102, divPenalty=0.04, cardinalityPenalty=0.1, numSubdivsPenalty=0, levelPenalty=0)    </td></tr>\n",
       "<tr><td>0.021241 </td><td>(11,)          </td><td>[«0.000:0.182 4G», «0.182:1.000 4C tiedNext»]</td><td>[0, 2] </td><td>gridError=0.0202, rhythmComplexity=0.474 (numNotesAcrossSubdics=0, numTies=1), divPenalty=0.1 (0.0002, divPenalty=0.1, cardinalityPenalty=0, numSubdivsPenalty=0, levelPenalty=0)        </td></tr>\n",
       "<tr><td>0.030782 </td><td>(7, 1, 1, 1)   </td><td>[«0.000:0.179 4G», «0.179:1.000 4C tiedNext»]</td><td>[0, 5] </td><td>gridError=0.029, rhythmComplexity=1 (numNotesAcrossSubdics=2, numTies=2), divPenalty=0.051 (0.000102, divPenalty=0.04, cardinalityPenalty=0.1, numSubdivsPenalty=0, levelPenalty=0)      </td></tr>\n",
       "<tr><td>0.037998 </td><td>(5,)           </td><td>[«0.000:0.200 4G», «0.200:1.000 4C tiedNext»]</td><td>[0, 1] </td><td>gridError=0.038, rhythmComplexity=0 (numNotesAcrossSubdics=0, numTies=0), divPenalty=0.02 (4e-05, divPenalty=0.02, cardinalityPenalty=0, numSubdivsPenalty=0, levelPenalty=0)            </td></tr>\n",
       "<tr><td>0.038103 </td><td>(1, 1, 1, 1, 1)</td><td>[«0.000:0.200 4G», «0.200:1.000 4C tiedNext»]</td><td>[0, 1] </td><td>gridError=0.038, rhythmComplexity=0.158 (numNotesAcrossSubdics=1, numTies=0), divPenalty=0.0561 (0.0001122, divPenalty=0.02, cardinalityPenalty=0.1, numSubdivsPenalty=0, levelPenalty=0)</td></tr>\n",
       "<tr><td>0.038155 </td><td>(5, 1)         </td><td>[«0.000:0.200 4G», «0.200:1.000 4C tiedNext»]</td><td>[0, 2] </td><td>gridError=0.038, rhythmComplexity=0.316 (numNotesAcrossSubdics=2, numTies=0), divPenalty=0.0374 (7.483e-05, divPenalty=0.02, cardinalityPenalty=0.1, numSubdivsPenalty=0, levelPenalty=0)</td></tr>\n",
       "<tr><td>0.038155 </td><td>(5, 1, 1)      </td><td>[«0.000:0.200 4G», «0.200:1.000 4C tiedNext»]</td><td>[0, 3] </td><td>gridError=0.038, rhythmComplexity=0.316 (numNotesAcrossSubdics=2, numTies=0), divPenalty=0.0374 (7.483e-05, divPenalty=0.02, cardinalityPenalty=0.1, numSubdivsPenalty=0, levelPenalty=0)</td></tr>\n",
       "<tr><td>0.038155 </td><td>(5, 1, 1, 1)   </td><td>[«0.000:0.200 4G», «0.200:1.000 4C tiedNext»]</td><td>[0, 4] </td><td>gridError=0.038, rhythmComplexity=0.316 (numNotesAcrossSubdics=2, numTies=0), divPenalty=0.0374 (7.483e-05, divPenalty=0.02, cardinalityPenalty=0.1, numSubdivsPenalty=0, levelPenalty=0)</td></tr>\n",
       "<tr><td>0.057367 </td><td>(6,)           </td><td>[«0.000:0.167 4G», «0.167:1.000 4C tiedNext»]</td><td>[0, 1] </td><td>gridError=0.0572, rhythmComplexity=0.474 (numNotesAcrossSubdics=0, numTies=1), divPenalty=0.02 (4e-05, divPenalty=0.02, cardinalityPenalty=0, numSubdivsPenalty=0, levelPenalty=0)       </td></tr>\n",
       "<tr><td>0.057454 </td><td>(3, 1, 1, 1)   </td><td>[«0.000:0.167 4G», «0.167:1.000 4C tiedNext»]</td><td>[0, 2] </td><td>gridError=0.0572, rhythmComplexity=0.57 (numNotesAcrossSubdics=2, numTies=1), divPenalty=0.02 (4e-05, divPenalty=0.02, cardinalityPenalty=0, numSubdivsPenalty=0, levelPenalty=0)        </td></tr>\n",
       "<tr><td>0.057471 </td><td>(3, 1)         </td><td>[«0.000:0.167 4G», «0.167:1.000 4C tiedNext»]</td><td>[0, 1] </td><td>gridError=0.0572, rhythmComplexity=0.57 (numNotesAcrossSubdics=2, numTies=1), divPenalty=0.0374 (7.483e-05, divPenalty=0.02, cardinalityPenalty=0.1, numSubdivsPenalty=0, levelPenalty=0)</td></tr>\n",
       "<tr><td>0.057471 </td><td>(2, 1, 1)      </td><td>[«0.000:0.167 4G», «0.167:1.000 4C tiedNext»]</td><td>[0, 1] </td><td>gridError=0.0572, rhythmComplexity=0.57 (numNotesAcrossSubdics=2, numTies=1), divPenalty=0.0374 (7.483e-05, divPenalty=0.02, cardinalityPenalty=0.1, numSubdivsPenalty=0, levelPenalty=0)</td></tr>\n",
       "<tr><td>0.070148 </td><td>(7, 1)         </td><td>[«0.000:0.214 4G», «0.214:1.000 4C tiedNext»]</td><td>[0, 3] </td><td>gridError=0.0699, rhythmComplexity=0.57 (numNotesAcrossSubdics=2, numTies=1), divPenalty=0.04 (8e-05, divPenalty=0.04, cardinalityPenalty=0, numSubdivsPenalty=0, levelPenalty=0)        </td></tr>\n",
       "<tr><td>0.086024 </td><td>(9,)           </td><td>[«0.000:0.222 4G», «0.222:1.000 4C tiedNext»]</td><td>[0, 2] </td><td>gridError=0.086, rhythmComplexity=0 (numNotesAcrossSubdics=0, numTies=0), divPenalty=0.02 (4e-05, divPenalty=0.02, cardinalityPenalty=0, numSubdivsPenalty=0, levelPenalty=0)            </td></tr>\n",
       "<tr><td>0.086093 </td><td>(3, 1, 1)      </td><td>[«0.000:0.222 4G», «0.222:1.000 4C tiedNext»]</td><td>[0, 2] </td><td>gridError=0.086, rhythmComplexity=0.316 (numNotesAcrossSubdics=2, numTies=0), divPenalty=0.0374 (7.483e-05, divPenalty=0.02, cardinalityPenalty=0.1, numSubdivsPenalty=0, levelPenalty=0)</td></tr>\n",
       "<tr><td>0.10518  </td><td>(7,)           </td><td>[«0.000:0.143 4G», «0.143:1.000 4C tiedNext»]</td><td>[0, 1] </td><td>gridError=0.105, rhythmComplexity=0 (numNotesAcrossSubdics=0, numTies=0), divPenalty=0.02 (4e-05, divPenalty=0.02, cardinalityPenalty=0, numSubdivsPenalty=0, levelPenalty=0)            </td></tr>\n",
       "<tr><td>0.13766  </td><td>(8,)           </td><td>[«0.000:0.125 4G», «0.125:1.000 4C tiedNext»]</td><td>[0, 1] </td><td>gridError=0.138, rhythmComplexity=0 (numNotesAcrossSubdics=0, numTies=0), divPenalty=0.02 (4e-05, divPenalty=0.02, cardinalityPenalty=0, numSubdivsPenalty=0, levelPenalty=0)            </td></tr>\n",
       "</tbody>\n",
       "</table>"
      ],
      "text/plain": [
       "<IPython.core.display.HTML object>"
      ]
     },
     "metadata": {},
     "output_type": "display_data"
    },
    {
     "name": "stdout",
     "output_type": "stream",
     "text": [
      "Beat: 2 - 3 (dur: 1)\n",
      "Skipped 2187 divisions with a div. penalty > 0.1\n",
      "Best 20 divisions: \n"
     ]
    },
    {
     "data": {
      "text/html": [
       "<table>\n",
       "<thead>\n",
       "<tr><th>error    </th><th>div            </th><th>snapped                                        </th><th>slots  </th><th>info                                                                                                                                                                                      </th></tr>\n",
       "</thead>\n",
       "<tbody>\n",
       "<tr><td>0.0057706</td><td>(4, 1, 1, 1)   </td><td>[«0.000:0.188 4C tiedPrev», «0.188:1.000 rest»]</td><td>[0, 3] </td><td>gridError=0, rhythmComplexity=0.57 (numNotesAcrossSubdics=2, numTies=1), divPenalty=0.02 (4e-05, divPenalty=0.02, cardinalityPenalty=0, numSubdivsPenalty=0, levelPenalty=0)              </td></tr>\n",
       "<tr><td>0.0059749</td><td>(8, 1)         </td><td>[«0.000:0.188 4C tiedPrev», «0.188:1.000 rest»]</td><td>[0, 3] </td><td>gridError=0, rhythmComplexity=0.57 (numNotesAcrossSubdics=2, numTies=1), divPenalty=0.04 (8e-05, divPenalty=0.04, cardinalityPenalty=0, numSubdivsPenalty=0, levelPenalty=0)              </td></tr>\n",
       "<tr><td>0.011492 </td><td>(7, 1, 1)      </td><td>[«0.000:0.190 4C tiedPrev», «0.190:1.000 rest»]</td><td>[0, 4] </td><td>gridError=0.00971, rhythmComplexity=0.57 (numNotesAcrossSubdics=2, numTies=1), divPenalty=0.051 (0.000102, divPenalty=0.04, cardinalityPenalty=0.1, numSubdivsPenalty=0, levelPenalty=0)  </td></tr>\n",
       "<tr><td>0.012974 </td><td>(9, 1, 1)      </td><td>[«0.000:0.185 4C tiedPrev», «0.185:1.000 rest»]</td><td>[0, 5] </td><td>gridError=0.00794, rhythmComplexity=1 (numNotesAcrossSubdics=2, numTies=2), divPenalty=0.051 (0.000102, divPenalty=0.04, cardinalityPenalty=0.1, numSubdivsPenalty=0, levelPenalty=0)     </td></tr>\n",
       "<tr><td>0.017551 </td><td>(11,)          </td><td>[«0.000:0.182 4C tiedPrev», «0.182:1.000 rest»]</td><td>[0, 2] </td><td>gridError=0.0163, rhythmComplexity=0.474 (numNotesAcrossSubdics=0, numTies=1), divPenalty=0.1 (0.0002, divPenalty=0.1, cardinalityPenalty=0, numSubdivsPenalty=0, levelPenalty=0)         </td></tr>\n",
       "<tr><td>0.025544 </td><td>(7, 1, 1, 1)   </td><td>[«0.000:0.179 4C tiedPrev», «0.179:1.000 rest»]</td><td>[0, 5] </td><td>gridError=0.0234, rhythmComplexity=1 (numNotesAcrossSubdics=2, numTies=2), divPenalty=0.051 (0.000102, divPenalty=0.04, cardinalityPenalty=0.1, numSubdivsPenalty=0, levelPenalty=0)      </td></tr>\n",
       "<tr><td>0.030633 </td><td>(5,)           </td><td>[«0.000:0.200 4C tiedPrev», «0.200:1.000 rest»]</td><td>[0, 1] </td><td>gridError=0.0306, rhythmComplexity=0 (numNotesAcrossSubdics=0, numTies=0), divPenalty=0.02 (4e-05, divPenalty=0.02, cardinalityPenalty=0, numSubdivsPenalty=0, levelPenalty=0)            </td></tr>\n",
       "<tr><td>0.030763 </td><td>(1, 1, 1, 1, 1)</td><td>[«0.000:0.200 4C tiedPrev», «0.200:1.000 rest»]</td><td>[0, 1] </td><td>gridError=0.0306, rhythmComplexity=0.158 (numNotesAcrossSubdics=1, numTies=0), divPenalty=0.0561 (0.0001122, divPenalty=0.02, cardinalityPenalty=0.1, numSubdivsPenalty=0, levelPenalty=0)</td></tr>\n",
       "<tr><td>0.030828 </td><td>(5, 1)         </td><td>[«0.000:0.200 4C tiedPrev», «0.200:1.000 rest»]</td><td>[0, 2] </td><td>gridError=0.0306, rhythmComplexity=0.316 (numNotesAcrossSubdics=2, numTies=0), divPenalty=0.0374 (7.483e-05, divPenalty=0.02, cardinalityPenalty=0.1, numSubdivsPenalty=0, levelPenalty=0)</td></tr>\n",
       "<tr><td>0.030828 </td><td>(5, 1, 1)      </td><td>[«0.000:0.200 4C tiedPrev», «0.200:1.000 rest»]</td><td>[0, 3] </td><td>gridError=0.0306, rhythmComplexity=0.316 (numNotesAcrossSubdics=2, numTies=0), divPenalty=0.0374 (7.483e-05, divPenalty=0.02, cardinalityPenalty=0.1, numSubdivsPenalty=0, levelPenalty=0)</td></tr>\n",
       "<tr><td>0.030828 </td><td>(5, 1, 1, 1)   </td><td>[«0.000:0.200 4C tiedPrev», «0.200:1.000 rest»]</td><td>[0, 4] </td><td>gridError=0.0306, rhythmComplexity=0.316 (numNotesAcrossSubdics=2, numTies=0), divPenalty=0.0374 (7.483e-05, divPenalty=0.02, cardinalityPenalty=0.1, numSubdivsPenalty=0, levelPenalty=0)</td></tr>\n",
       "<tr><td>0.046329 </td><td>(6,)           </td><td>[«0.000:0.167 4C tiedPrev», «0.167:1.000 rest»]</td><td>[0, 1] </td><td>gridError=0.0461, rhythmComplexity=0.474 (numNotesAcrossSubdics=0, numTies=1), divPenalty=0.02 (4e-05, divPenalty=0.02, cardinalityPenalty=0, numSubdivsPenalty=0, levelPenalty=0)        </td></tr>\n",
       "<tr><td>0.046437 </td><td>(3, 1, 1, 1)   </td><td>[«0.000:0.167 4C tiedPrev», «0.167:1.000 rest»]</td><td>[0, 2] </td><td>gridError=0.0461, rhythmComplexity=0.57 (numNotesAcrossSubdics=2, numTies=1), divPenalty=0.02 (4e-05, divPenalty=0.02, cardinalityPenalty=0, numSubdivsPenalty=0, levelPenalty=0)         </td></tr>\n",
       "<tr><td>0.046458 </td><td>(3, 1)         </td><td>[«0.000:0.167 4C tiedPrev», «0.167:1.000 rest»]</td><td>[0, 1] </td><td>gridError=0.0461, rhythmComplexity=0.57 (numNotesAcrossSubdics=2, numTies=1), divPenalty=0.0374 (7.483e-05, divPenalty=0.02, cardinalityPenalty=0.1, numSubdivsPenalty=0, levelPenalty=0) </td></tr>\n",
       "<tr><td>0.046458 </td><td>(2, 1, 1)      </td><td>[«0.000:0.167 4C tiedPrev», «0.167:1.000 rest»]</td><td>[0, 1] </td><td>gridError=0.0461, rhythmComplexity=0.57 (numNotesAcrossSubdics=2, numTies=1), divPenalty=0.0374 (7.483e-05, divPenalty=0.02, cardinalityPenalty=0.1, numSubdivsPenalty=0, levelPenalty=0) </td></tr>\n",
       "<tr><td>0.056654 </td><td>(7, 1)         </td><td>[«0.000:0.214 4C tiedPrev», «0.214:1.000 rest»]</td><td>[0, 3] </td><td>gridError=0.0563, rhythmComplexity=0.57 (numNotesAcrossSubdics=2, numTies=1), divPenalty=0.04 (8e-05, divPenalty=0.04, cardinalityPenalty=0, numSubdivsPenalty=0, levelPenalty=0)         </td></tr>\n",
       "<tr><td>0.069342 </td><td>(9,)           </td><td>[«0.000:0.222 4C tiedPrev», «0.222:1.000 rest»]</td><td>[0, 2] </td><td>gridError=0.0693, rhythmComplexity=0 (numNotesAcrossSubdics=0, numTies=0), divPenalty=0.02 (4e-05, divPenalty=0.02, cardinalityPenalty=0, numSubdivsPenalty=0, levelPenalty=0)            </td></tr>\n",
       "<tr><td>0.069429 </td><td>(3, 1, 1)      </td><td>[«0.000:0.222 4C tiedPrev», «0.222:1.000 rest»]</td><td>[0, 2] </td><td>gridError=0.0693, rhythmComplexity=0.316 (numNotesAcrossSubdics=2, numTies=0), divPenalty=0.0374 (7.483e-05, divPenalty=0.02, cardinalityPenalty=0.1, numSubdivsPenalty=0, levelPenalty=0)</td></tr>\n",
       "<tr><td>0.084782 </td><td>(7,)           </td><td>[«0.000:0.143 4C tiedPrev», «0.143:1.000 rest»]</td><td>[0, 1] </td><td>gridError=0.0848, rhythmComplexity=0 (numNotesAcrossSubdics=0, numTies=0), divPenalty=0.02 (4e-05, divPenalty=0.02, cardinalityPenalty=0, numSubdivsPenalty=0, levelPenalty=0)            </td></tr>\n",
       "<tr><td>0.11097  </td><td>(8,)           </td><td>[«0.000:0.125 4C tiedPrev», «0.125:1.000 rest»]</td><td>[0, 1] </td><td>gridError=0.111, rhythmComplexity=0 (numNotesAcrossSubdics=0, numTies=0), divPenalty=0.02 (4e-05, divPenalty=0.02, cardinalityPenalty=0, numSubdivsPenalty=0, levelPenalty=0)             </td></tr>\n",
       "</tbody>\n",
       "</table>"
      ],
      "text/plain": [
       "<IPython.core.display.HTML object>"
      ]
     },
     "metadata": {},
     "output_type": "display_data"
    },
    {
     "data": {
      "text/html": [
       "<b>LilypondRenderer</b> (1 part)<br>\n",
       "        <img style=\"display:inline; padding:10px;\n",
       "margin-top:14px;\n",
       "width:513.0\"\n",
       "             src=\"data:image/png;base64,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\"/>"
      ],
      "text/plain": [
       "<maelzel.scoring.renderlily.LilypondRenderer at 0x7febd87f0400>"
      ]
     },
     "execution_count": 16,
     "metadata": {},
     "output_type": "execute_result"
    }
   ],
   "source": [
    "from maelzel import scoring\n",
    "from maelzel.scorestruct import ScoreStruct\n",
    "from maelzel.common import F\n",
    "\n",
    "notes = [\n",
    "    (60, F(1, 4)),\n",
    "    (63, F(1, 4)*F(3, 4)),\n",
    "    (64, F(1, 4)*F(3, 4)),\n",
    "    (65, F(1, 4)*F(3, 4)),\n",
    "    (66, F(1, 4)*F(3, 4)),\n",
    "    (67, F(1, 4)*F(3, 4)),\n",
    "    (60, F(1)),\n",
    "    \n",
    "]\n",
    "\n",
    "notations = [scoring.makeNote(p, d) for p, d in notes]\n",
    "struct = ScoreStruct(timesig='4/4', quarterTempo=70)\n",
    "\n",
    "part = scoring.Part(notations)\n",
    "quantprofile = scoring.quant.makeQuantizationProfile('highest', debug=True, debugMaxDivisions=20, maxDivPenalty=0.1)\n",
    "quantprofile.maxGridDensity = 32\n",
    "qpart = scoring.quant.quantizePart(part, struct=struct, profile=quantprofile)\n",
    "options = scoring.render.RenderOptions()\n",
    "score = scoring.quant.QuantizedScore([qpart])\n",
    "r = scoring.render.renderQuantizedScore(score, options)\n",
    "r"
   ]
  },
  {
   "cell_type": "code",
   "execution_count": 17,
   "id": "53f406f0-8d55-4f2e-8663-60c935e3e4ad",
   "metadata": {},
   "outputs": [
    {
     "name": "stdout",
     "output_type": "stream",
     "text": [
      "noteheads ['hidden']\n",
      "Measure #0\n",
      "Timesig: 4/4 (quarter=70)\n",
      "  Ratio (1, 1)\n",
      "    DurationGroup(1/1, \n",
      "  «0.000:0.250 4C tiedNext spanners=[Slur(kind=start, uuid=c1r1k8wp)]»\n",
      "  «0.250:0.750 4C gliss»\n",
      "  «0.750:1.000 4F spanners=[Slur(kind=end, uuid=c1r1k8wp)]»\n",
      "  «1.000:4.000 rest»\n",
      ")\n"
     ]
    },
    {
     "data": {
      "text/html": [
       "<b>LilypondRenderer</b> (1 part)<br>\n",
       "        <img style=\"display:inline; padding:10px;\n",
       "margin-top:14px;\n",
       "width:237.0\"\n",
       "             src=\"data:image/png;base64,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\"/>"
      ],
      "text/plain": [
       "<maelzel.scoring.renderlily.LilypondRenderer at 0x7febcbd79b50>"
      ]
     },
     "execution_count": 17,
     "metadata": {},
     "output_type": "execute_result"
    }
   ],
   "source": [
    "from maelzel import scoring\n",
    "from maelzel.scorestruct import ScoreStruct\n",
    "from maelzel.common import F\n",
    "from maelzel.scoring import makeNote\n",
    "from maelzel.scoring import spanner \n",
    "\n",
    "notes = [\n",
    "    makeNote(60, F(1, 4), tiedNext=True),\n",
    "    makeNote(60, F(1, 4), tiedNext=True, gliss=True),\n",
    "    makeNote(60, F(1, 4), tiedPrev=True),\n",
    "    makeNote(65, F(1, 4))\n",
    "]\n",
    "\n",
    "notes[0].addSpanner(spanner.Slur(), notes[-1])\n",
    "struct = ScoreStruct(timesig='4/4', quarterTempo=70)\n",
    "\n",
    "part = scoring.Part(notes)\n",
    "quantprofile = scoring.quant.makeQuantizationProfile('highest', debug=False, debugMaxDivisions=20, maxDivPenalty=0.1)\n",
    "quantprofile.maxGridDensity = 32\n",
    "qpart = scoring.quant.quantizePart(part, struct=struct, profile=quantprofile)\n",
    "options = scoring.render.RenderOptions()\n",
    "score = scoring.quant.QuantizedScore([qpart])\n",
    "r = scoring.render.renderQuantizedScore(score, options)\n",
    "score.dump()\n",
    "r # .write('~/tmp/quant.ly')"
   ]
  },
  {
   "cell_type": "code",
   "execution_count": 6,
   "id": "a83bb297-6fb9-44fd-b903-495157ac095a",
   "metadata": {},
   "outputs": [
    {
     "data": {
      "text/plain": [
       "Fraction(2, 3)"
      ]
     },
     "execution_count": 6,
     "metadata": {},
     "output_type": "execute_result"
    }
   ],
   "source": [
    "F(2, 3)*F(1,5)*5"
   ]
  },
  {
   "cell_type": "code",
   "execution_count": 18,
   "id": "e3e19155-179f-496b-85f2-4220092cfb68",
   "metadata": {},
   "outputs": [
    {
     "name": "stdout",
     "output_type": "stream",
     "text": [
      "............... 1\n",
      "Beat: 0 - 1 (dur: 1)\n",
      "Skipped 174 divisions with a div. penalty > 0.1\n",
      "Best 20 divisions: \n"
     ]
    },
    {
     "data": {
      "text/html": [
       "<table>\n",
       "<thead>\n",
       "<tr><th>error   </th><th>div               </th><th>snapped                                                        </th><th>slots     </th><th>info                                                                                                                                                                                         </th></tr>\n",
       "</thead>\n",
       "<tbody>\n",
       "<tr><td>0.002   </td><td>(8,)              </td><td>[«0.000:0.375 4D», «0.375:0.750 4C», «0.750:1.000 4D tiedNext»]</td><td>[0, 3, 6] </td><td>gridError=0, rhythmComplexity=0 (numNotesAcrossSubdics=0, numTies=0), divPenalty=0.02 (0.0002, divPenalty=0.02, cardinalityPenalty=0, numSubdivsPenalty=0, levelPenalty=0)                   </td></tr>\n",
       "<tr><td>0.010198</td><td>(1, 2, 1, 1)      </td><td>[«0.000:0.375 4D», «0.375:0.750 4C», «0.750:1.000 4D tiedNext»]</td><td>[0, 2, 4] </td><td>gridError=0, rhythmComplexity=0.316 (numNotesAcrossSubdics=3, numTies=0), divPenalty=0.02 (0.0002, divPenalty=0.02, cardinalityPenalty=0, numSubdivsPenalty=0, levelPenalty=0)               </td></tr>\n",
       "<tr><td>0.01077 </td><td>(4, 2)            </td><td>[«0.000:0.375 4D», «0.375:0.750 4C», «0.750:1.000 4D tiedNext»]</td><td>[0, 3, 5] </td><td>gridError=0, rhythmComplexity=0.316 (numNotesAcrossSubdics=3, numTies=0), divPenalty=0.04 (0.0004, divPenalty=0.04, cardinalityPenalty=0, numSubdivsPenalty=0, levelPenalty=0)               </td></tr>\n",
       "<tr><td>0.011358</td><td>(1, 1, 4, 1, 2, 1)</td><td>[«0.000:0.375 4D», «0.375:0.750 4C», «0.750:1.000 4D tiedNext»]</td><td>[0, 3, 8] </td><td>gridError=0, rhythmComplexity=0.316 (numNotesAcrossSubdics=3, numTies=0), divPenalty=0.0539 (0.0005385, divPenalty=0.02, cardinalityPenalty=0, numSubdivsPenalty=0, levelPenalty=0.05)       </td></tr>\n",
       "<tr><td>0.012689</td><td>(1, 8, 4)         </td><td>[«0.000:0.375 4D», «0.375:0.750 4C», «0.750:1.000 4D tiedNext»]</td><td>[0, 2, 10]</td><td>gridError=0, rhythmComplexity=0.316 (numNotesAcrossSubdics=3, numTies=0), divPenalty=0.0781 (0.000781, divPenalty=0.06, cardinalityPenalty=0.1, numSubdivsPenalty=0, levelPenalty=0.05)      </td></tr>\n",
       "<tr><td>0.022641</td><td>(1, 7, 4)         </td><td>[«0.000:0.381 4D», «0.381:0.750 4C», «0.750:1.000 4D tiedNext»]</td><td>[0, 2, 9] </td><td>gridError=0.0165, rhythmComplexity=0.447 (numNotesAcrossSubdics=3, numTies=1), divPenalty=0.064 (0.0006403, divPenalty=0.04, cardinalityPenalty=0.1, numSubdivsPenalty=0, levelPenalty=0.05) </td></tr>\n",
       "<tr><td>0.036917</td><td>(9, 2)            </td><td>[«0.000:0.389 4D», «0.389:0.750 4C», «0.750:1.000 4D tiedNext»]</td><td>[0, 7, 10]</td><td>gridError=0.0339, rhythmComplexity=0.447 (numNotesAcrossSubdics=3, numTies=1), divPenalty=0.04 (0.0004, divPenalty=0.04, cardinalityPenalty=0, numSubdivsPenalty=0, levelPenalty=0)          </td></tr>\n",
       "<tr><td>0.037039</td><td>(1, 1, 3, 1, 2, 1)</td><td>[«0.000:0.389 4D», «0.389:0.750 4C», «0.750:1.000 4D tiedNext»]</td><td>[0, 3, 7] </td><td>gridError=0.0339, rhythmComplexity=0.447 (numNotesAcrossSubdics=3, numTies=1), divPenalty=0.05 (0.0005, divPenalty=0, cardinalityPenalty=0, numSubdivsPenalty=0, levelPenalty=0.05)          </td></tr>\n",
       "<tr><td>0.037254</td><td>(1, 6, 4)         </td><td>[«0.000:0.389 4D», «0.389:0.750 4C», «0.750:1.000 4D tiedNext»]</td><td>[0, 2, 8] </td><td>gridError=0.0339, rhythmComplexity=0.447 (numNotesAcrossSubdics=3, numTies=1), divPenalty=0.064 (0.0006403, divPenalty=0.04, cardinalityPenalty=0, numSubdivsPenalty=0, levelPenalty=0.05)   </td></tr>\n",
       "<tr><td>0.037993</td><td>(1, 8, 7)         </td><td>[«0.000:0.375 4D», «0.375:0.762 4C», «0.762:1.000 4D tiedNext»]</td><td>[0, 2, 11]</td><td>gridError=0.0297, rhythmComplexity=0.707 (numNotesAcrossSubdics=3, numTies=2), divPenalty=0.0781 (0.000781, divPenalty=0.06, cardinalityPenalty=0.1, numSubdivsPenalty=0, levelPenalty=0.05) </td></tr>\n",
       "<tr><td>0.040529</td><td>(1, 7, 7)         </td><td>[«0.000:0.381 4D», «0.381:0.762 4C», «0.762:1.000 4D tiedNext»]</td><td>[0, 2, 10]</td><td>gridError=0.0372, rhythmComplexity=0.447 (numNotesAcrossSubdics=3, numTies=1), divPenalty=0.0781 (0.000781, divPenalty=0.06, cardinalityPenalty=0.1, numSubdivsPenalty=0, levelPenalty=0.05) </td></tr>\n",
       "<tr><td>0.042481</td><td>(1, 8, 5)         </td><td>[«0.000:0.375 4D», «0.375:0.733 4C», «0.733:1.000 4D tiedNext»]</td><td>[0, 2, 10]</td><td>gridError=0.0395, rhythmComplexity=0.447 (numNotesAcrossSubdics=3, numTies=1), divPenalty=0.064 (0.0006403, divPenalty=0.04, cardinalityPenalty=0.1, numSubdivsPenalty=0, levelPenalty=0.05) </td></tr>\n",
       "<tr><td>0.047688</td><td>(7, 2)            </td><td>[«0.000:0.357 4D», «0.357:0.750 4C», «0.750:1.000 4D tiedNext»]</td><td>[0, 5, 8] </td><td>gridError=0.0419, rhythmComplexity=0.707 (numNotesAcrossSubdics=3, numTies=2), divPenalty=0.04 (0.0004, divPenalty=0.04, cardinalityPenalty=0, numSubdivsPenalty=0, levelPenalty=0)          </td></tr>\n",
       "<tr><td>0.053561</td><td>(1, 7, 5)         </td><td>[«0.000:0.381 4D», «0.381:0.733 4C», «0.733:1.000 4D tiedNext»]</td><td>[0, 2, 9] </td><td>gridError=0.0513, rhythmComplexity=0.447 (numNotesAcrossSubdics=3, numTies=1), divPenalty=0.064 (0.0006403, divPenalty=0.04, cardinalityPenalty=0.4, numSubdivsPenalty=0, levelPenalty=0.05) </td></tr>\n",
       "<tr><td>0.054231</td><td>(1, 6, 7)         </td><td>[«0.000:0.389 4D», «0.389:0.762 4C», «0.762:1.000 4D tiedNext»]</td><td>[0, 2, 9] </td><td>gridError=0.0488, rhythmComplexity=0.707 (numNotesAcrossSubdics=3, numTies=2), divPenalty=0.0781 (0.000781, divPenalty=0.06, cardinalityPenalty=0.1, numSubdivsPenalty=0, levelPenalty=0.05) </td></tr>\n",
       "<tr><td>0.056738</td><td>(1, 5, 1, 1)      </td><td>[«0.000:0.350 4D», «0.350:0.750 4C», «0.750:1.000 4D tiedNext»]</td><td>[0, 3, 7] </td><td>gridError=0.0558, rhythmComplexity=0.316 (numNotesAcrossSubdics=3, numTies=0), divPenalty=0.02 (0.0002, divPenalty=0.02, cardinalityPenalty=0.1, numSubdivsPenalty=0, levelPenalty=0)        </td></tr>\n",
       "<tr><td>0.056788</td><td>(1, 1, 1, 4, 1)   </td><td>[«0.000:0.400 4D», «0.400:0.750 4C», «0.750:1.000 4D tiedNext»]</td><td>[0, 2, 6] </td><td>gridError=0.0558, rhythmComplexity=0.211 (numNotesAcrossSubdics=2, numTies=0), divPenalty=0.0808 (0.0008078, divPenalty=0.02, cardinalityPenalty=0.1, numSubdivsPenalty=0, levelPenalty=0.05)</td></tr>\n",
       "<tr><td>0.056843</td><td>(5, 2)            </td><td>[«0.000:0.400 4D», «0.400:0.750 4C», «0.750:1.000 4D tiedNext»]</td><td>[0, 4, 6] </td><td>gridError=0.0558, rhythmComplexity=0.316 (numNotesAcrossSubdics=3, numTies=0), divPenalty=0.04 (0.0004, divPenalty=0.04, cardinalityPenalty=0, numSubdivsPenalty=0, levelPenalty=0)          </td></tr>\n",
       "<tr><td>0.057063</td><td>(1, 5, 4)         </td><td>[«0.000:0.400 4D», «0.400:0.750 4C», «0.750:1.000 4D tiedNext»]</td><td>[0, 2, 7] </td><td>gridError=0.0558, rhythmComplexity=0.316 (numNotesAcrossSubdics=3, numTies=0), divPenalty=0.064 (0.0006403, divPenalty=0.04, cardinalityPenalty=0.1, numSubdivsPenalty=0, levelPenalty=0.05) </td></tr>\n",
       "<tr><td>0.05751 </td><td>(1, 4, 1, 4, 1)   </td><td>[«0.000:0.350 4D», «0.350:0.750 4C», «0.750:1.000 4D tiedNext»]</td><td>[0, 4, 9] </td><td>gridError=0.0558, rhythmComplexity=0.316 (numNotesAcrossSubdics=3, numTies=0), divPenalty=0.096 (0.0009605, divPenalty=0.04, cardinalityPenalty=0.1, numSubdivsPenalty=0, levelPenalty=0.05) </td></tr>\n",
       "</tbody>\n",
       "</table>"
      ],
      "text/plain": [
       "<IPython.core.display.HTML object>"
      ]
     },
     "metadata": {},
     "output_type": "display_data"
    },
    {
     "name": "stdout",
     "output_type": "stream",
     "text": [
      "Beat: 1 - 3/2 (dur: 1/2)\n",
      "Skipped 0 divisions with a div. penalty > 0.1\n",
      "Best 12 divisions: \n"
     ]
    },
    {
     "data": {
      "text/html": [
       "<table>\n",
       "<thead>\n",
       "<tr><th>error   </th><th>div         </th><th>snapped                                      </th><th>slots  </th><th>info                                                                                                                                                                                  </th></tr>\n",
       "</thead>\n",
       "<tbody>\n",
       "<tr><td>0.002   </td><td>(4,)        </td><td>[«0.000:0.125 4D tiedPrev», «0.125:0.500 4C»]</td><td>[0, 1] </td><td>gridError=0, rhythmComplexity=0 (numNotesAcrossSubdics=0, numTies=0), divPenalty=0.02 (0.0002, divPenalty=0.02, cardinalityPenalty=0, numSubdivsPenalty=0, levelPenalty=0)            </td></tr>\n",
       "<tr><td>0.005   </td><td>(1, 1, 1, 1)</td><td>[«0.000:0.125 4D tiedPrev», «0.125:0.500 4C»]</td><td>[0, 1] </td><td>gridError=0, rhythmComplexity=0.158 (numNotesAcrossSubdics=1, numTies=0), divPenalty=0 (0, divPenalty=0, cardinalityPenalty=0, numSubdivsPenalty=0, levelPenalty=0)                   </td></tr>\n",
       "<tr><td>0.010198</td><td>(2, 1)      </td><td>[«0.000:0.125 4D tiedPrev», «0.125:0.500 4C»]</td><td>[0, 1] </td><td>gridError=0, rhythmComplexity=0.316 (numNotesAcrossSubdics=2, numTies=0), divPenalty=0.02 (0.0002, divPenalty=0.02, cardinalityPenalty=0, numSubdivsPenalty=0, levelPenalty=0)        </td></tr>\n",
       "<tr><td>0.011358</td><td>(4, 1, 1)   </td><td>[«0.000:0.125 4D tiedPrev», «0.125:0.500 4C»]</td><td>[0, 3] </td><td>gridError=0, rhythmComplexity=0.316 (numNotesAcrossSubdics=2, numTies=0), divPenalty=0.0539 (0.0005385, divPenalty=0.02, cardinalityPenalty=0, numSubdivsPenalty=0, levelPenalty=0.05)</td></tr>\n",
       "<tr><td>0.061075</td><td>(9,)        </td><td>[«0.000:0.111 4D tiedPrev», «0.111:0.500 4C»]</td><td>[0, 2] </td><td>gridError=0.061, rhythmComplexity=0 (numNotesAcrossSubdics=0, numTies=0), divPenalty=0.02 (0.0002, divPenalty=0.02, cardinalityPenalty=0, numSubdivsPenalty=0, levelPenalty=0)        </td></tr>\n",
       "<tr><td>0.062058</td><td>(3, 1, 1)   </td><td>[«0.000:0.111 4D tiedPrev», «0.111:0.500 4C»]</td><td>[0, 2] </td><td>gridError=0.061, rhythmComplexity=0.316 (numNotesAcrossSubdics=2, numTies=0), divPenalty=0.05 (0.0005, divPenalty=0, cardinalityPenalty=0, numSubdivsPenalty=0, levelPenalty=0.05)    </td></tr>\n",
       "<tr><td>0.07708 </td><td>(7,)        </td><td>[«0.000:0.143 4D tiedPrev», «0.143:0.500 4C»]</td><td>[0, 2] </td><td>gridError=0.0756, rhythmComplexity=0.474 (numNotesAcrossSubdics=0, numTies=1), divPenalty=0.02 (0.0002, divPenalty=0.02, cardinalityPenalty=0, numSubdivsPenalty=0, levelPenalty=0)   </td></tr>\n",
       "<tr><td>0.10062 </td><td>(5,)        </td><td>[«0.000:0.100 4D tiedPrev», «0.100:0.500 4C»]</td><td>[0, 1] </td><td>gridError=0.101, rhythmComplexity=0 (numNotesAcrossSubdics=0, numTies=0), divPenalty=0.02 (0.0002, divPenalty=0.02, cardinalityPenalty=0, numSubdivsPenalty=0, levelPenalty=0)        </td></tr>\n",
       "<tr><td>0.10112 </td><td>(5, 1)      </td><td>[«0.000:0.100 4D tiedPrev», «0.100:0.500 4C»]</td><td>[0, 2] </td><td>gridError=0.101, rhythmComplexity=0.316 (numNotesAcrossSubdics=2, numTies=0), divPenalty=0.02 (0.0002, divPenalty=0.02, cardinalityPenalty=0.1, numSubdivsPenalty=0, levelPenalty=0)  </td></tr>\n",
       "<tr><td>0.15604 </td><td>(6,)        </td><td>[«0.000:0.083 4D tiedPrev», «0.083:0.500 4C»]</td><td>[0, 1] </td><td>gridError=0.155, rhythmComplexity=0.474 (numNotesAcrossSubdics=0, numTies=1), divPenalty=0.02 (0.0002, divPenalty=0.02, cardinalityPenalty=0, numSubdivsPenalty=0, levelPenalty=0)    </td></tr>\n",
       "<tr><td>0.15636 </td><td>(3, 1)      </td><td>[«0.000:0.083 4D tiedPrev», «0.083:0.500 4C»]</td><td>[0, 1] </td><td>gridError=0.155, rhythmComplexity=0.57 (numNotesAcrossSubdics=2, numTies=1), divPenalty=0.02 (0.0002, divPenalty=0.02, cardinalityPenalty=0, numSubdivsPenalty=0, levelPenalty=0)     </td></tr>\n",
       "<tr><td>0.15643 </td><td>(2, 1, 1)   </td><td>[«0.000:0.083 4D tiedPrev», «0.083:0.500 4C»]</td><td>[0, 1] </td><td>gridError=0.155, rhythmComplexity=0.57 (numNotesAcrossSubdics=2, numTies=1), divPenalty=0.05 (0.0005, divPenalty=0, cardinalityPenalty=0, numSubdivsPenalty=0, levelPenalty=0.05)     </td></tr>\n",
       "</tbody>\n",
       "</table>"
      ],
      "text/plain": [
       "<IPython.core.display.HTML object>"
      ]
     },
     "metadata": {},
     "output_type": "display_data"
    },
    {
     "name": "stdout",
     "output_type": "stream",
     "text": [
      "Beat: 3/2 - 5/2 (dur: 1)\n",
      "Skipped 174 divisions with a div. penalty > 0.1\n",
      "Best 20 divisions: \n"
     ]
    },
    {
     "data": {
      "text/html": [
       "<table>\n",
       "<thead>\n",
       "<tr><th>error   </th><th>div               </th><th>snapped                                                                                                                          </th><th>slots                    </th><th>info                                                                                                                                                                                        </th></tr>\n",
       "</thead>\n",
       "<tbody>\n",
       "<tr><td>0.012689</td><td>(5, 5, 2)         </td><td>[«0.000:0.133 4C#», «0.133:0.267 4D», «0.267:0.400 4D#», «0.400:0.533 4E», «0.533:0.667 4F», «0.667:0.833 4F#», «0.833:1.000 4G»]</td><td>[0, 2, 4, 6, 8, 10, 11]  </td><td>gridError=0, rhythmComplexity=0.316 (numNotesAcrossSubdics=7, numTies=0), divPenalty=0.0781 (0.000781, divPenalty=0.06, cardinalityPenalty=0.1, numSubdivsPenalty=0, levelPenalty=0.05)     </td></tr>\n",
       "<tr><td>0.051078</td><td>(8, 5, 2)         </td><td>[«0.000:0.125 4C#», «0.125:0.250 4D», «0.250:0.400 4D#», «0.400:0.533 4E», «0.533:0.667 4F», «0.667:0.833 4F#», «0.833:1.000 4G»]</td><td>[0, 3, 6, 9, 11, 13, 14] </td><td>gridError=0.0495, rhythmComplexity=0.316 (numNotesAcrossSubdics=7, numTies=0), divPenalty=0.0781 (0.000781, divPenalty=0.06, cardinalityPenalty=0.1, numSubdivsPenalty=0, levelPenalty=0.05)</td></tr>\n",
       "<tr><td>0.051078</td><td>(5, 8, 2)         </td><td>[«0.000:0.133 4C#», «0.133:0.267 4D», «0.267:0.417 4D#», «0.417:0.542 4E», «0.542:0.667 4F», «0.667:0.833 4F#», «0.833:1.000 4G»]</td><td>[0, 2, 4, 7, 10, 13, 14] </td><td>gridError=0.0495, rhythmComplexity=0.316 (numNotesAcrossSubdics=7, numTies=0), divPenalty=0.0781 (0.000781, divPenalty=0.06, cardinalityPenalty=0.1, numSubdivsPenalty=0, levelPenalty=0.05)</td></tr>\n",
       "<tr><td>0.055029</td><td>(5, 5, 7)         </td><td>[«0.000:0.133 4C#», «0.133:0.267 4D», «0.267:0.400 4D#», «0.400:0.533 4E», «0.533:0.667 4F», «0.667:0.810 4F#», «0.810:1.000 4G»]</td><td>[0, 2, 4, 6, 8, 10, 13]  </td><td>gridError=0.0535, rhythmComplexity=0.316 (numNotesAcrossSubdics=7, numTies=0), divPenalty=0.0781 (0.000781, divPenalty=0.06, cardinalityPenalty=0.4, numSubdivsPenalty=0, levelPenalty=0.05)</td></tr>\n",
       "<tr><td>0.056857</td><td>(7, 5, 2)         </td><td>[«0.000:0.143 4C#», «0.143:0.286 4D», «0.286:0.400 4D#», «0.400:0.533 4E», «0.533:0.667 4F», «0.667:0.833 4F#», «0.833:1.000 4G»]</td><td>[0, 3, 6, 8, 10, 12, 13] </td><td>gridError=0.0554, rhythmComplexity=0.316 (numNotesAcrossSubdics=7, numTies=0), divPenalty=0.0781 (0.000781, divPenalty=0.06, cardinalityPenalty=0.4, numSubdivsPenalty=0, levelPenalty=0.05)</td></tr>\n",
       "<tr><td>0.056857</td><td>(5, 7, 2)         </td><td>[«0.000:0.133 4C#», «0.133:0.267 4D», «0.267:0.381 4D#», «0.381:0.524 4E», «0.524:0.667 4F», «0.667:0.833 4F#», «0.833:1.000 4G»]</td><td>[0, 2, 4, 6, 9, 12, 13]  </td><td>gridError=0.0554, rhythmComplexity=0.316 (numNotesAcrossSubdics=7, numTies=0), divPenalty=0.0781 (0.000781, divPenalty=0.06, cardinalityPenalty=0.4, numSubdivsPenalty=0, levelPenalty=0.05)</td></tr>\n",
       "<tr><td>0.066042</td><td>(2, 5, 6, 3)      </td><td>[«0.000:0.125 4C#», «0.125:0.250 4D», «0.250:0.400 4D#», «0.400:0.542 4E», «0.542:0.667 4F», «0.667:0.833 4F#», «0.833:1.000 4G»]</td><td>[0, 1, 2, 5, 8, 11, 14]  </td><td>gridError=0.065, rhythmComplexity=0.344 (numNotesAcrossSubdics=7, numTies=1), divPenalty=0.04 (0.0004, divPenalty=0.04, cardinalityPenalty=0.1, numSubdivsPenalty=0, levelPenalty=0)        </td></tr>\n",
       "<tr><td>0.072396</td><td>(5, 5, 5)         </td><td>[«0.000:0.133 4C#», «0.133:0.267 4D», «0.267:0.400 4D#», «0.400:0.533 4E», «0.533:0.667 4F», «0.667:0.800 4F#», «0.800:1.000 4G»]</td><td>[0, 2, 4, 6, 8, 10, 12]  </td><td>gridError=0.0713, rhythmComplexity=0.316 (numNotesAcrossSubdics=7, numTies=0), divPenalty=0.0781 (0.000781, divPenalty=0.06, cardinalityPenalty=0.1, numSubdivsPenalty=0, levelPenalty=0.05)</td></tr>\n",
       "<tr><td>0.072522</td><td>(5, 6, 2)         </td><td>[«0.000:0.133 4C#», «0.133:0.267 4D», «0.267:0.389 4D#», «0.389:0.556 4E», «0.556:0.667 4F», «0.667:0.833 4F#», «0.833:1.000 4G»]</td><td>[0, 2, 4, 6, 9, 11, 12]  </td><td>gridError=0.0713, rhythmComplexity=0.344 (numNotesAcrossSubdics=7, numTies=1), divPenalty=0.0781 (0.000781, divPenalty=0.06, cardinalityPenalty=0.1, numSubdivsPenalty=0, levelPenalty=0.05)</td></tr>\n",
       "<tr><td>0.072522</td><td>(6, 5, 2)         </td><td>[«0.000:0.111 4C#», «0.111:0.278 4D», «0.278:0.400 4D#», «0.400:0.533 4E», «0.533:0.667 4F», «0.667:0.833 4F#», «0.833:1.000 4G»]</td><td>[0, 2, 5, 7, 9, 11, 12]  </td><td>gridError=0.0713, rhythmComplexity=0.344 (numNotesAcrossSubdics=7, numTies=1), divPenalty=0.0781 (0.000781, divPenalty=0.06, cardinalityPenalty=0.1, numSubdivsPenalty=0, levelPenalty=0.05)</td></tr>\n",
       "<tr><td>0.079231</td><td>(4, 2, 3, 4, 1, 1)</td><td>[«0.000:0.125 4C#», «0.125:0.250 4D», «0.250:0.389 4D#», «0.389:0.542 4E», «0.542:0.667 4F», «0.667:0.833 4F#», «0.833:1.000 4G»]</td><td>[0, 3, 5, 7, 10, 13, 14] </td><td>gridError=0.078, rhythmComplexity=0.383 (numNotesAcrossSubdics=6, numTies=2), divPenalty=0.064 (0.0006403, divPenalty=0.04, cardinalityPenalty=0, numSubdivsPenalty=0, levelPenalty=0.05)   </td></tr>\n",
       "<tr><td>0.079231</td><td>(4, 3, 2, 4, 1, 1)</td><td>[«0.000:0.125 4C#», «0.125:0.278 4D», «0.278:0.417 4D#», «0.417:0.542 4E», «0.542:0.667 4F», «0.667:0.833 4F#», «0.833:1.000 4G»]</td><td>[0, 3, 6, 8, 10, 13, 14] </td><td>gridError=0.078, rhythmComplexity=0.383 (numNotesAcrossSubdics=6, numTies=2), divPenalty=0.064 (0.0006403, divPenalty=0.04, cardinalityPenalty=0, numSubdivsPenalty=0, levelPenalty=0.05)   </td></tr>\n",
       "<tr><td>0.082402</td><td>(4, 3, 3, 4, 1, 1)</td><td>[«0.000:0.125 4C#», «0.125:0.278 4D», «0.278:0.389 4D#», «0.389:0.542 4E», «0.542:0.667 4F», «0.667:0.833 4F#», «0.833:1.000 4G»]</td><td>[0, 3, 6, 8, 11, 14, 15] </td><td>gridError=0.0813, rhythmComplexity=0.383 (numNotesAcrossSubdics=6, numTies=2), divPenalty=0.064 (0.0006403, divPenalty=0.04, cardinalityPenalty=0, numSubdivsPenalty=0, levelPenalty=0.05)  </td></tr>\n",
       "<tr><td>0.087052</td><td>(5, 5, 6, 3)      </td><td>[«0.000:0.150 4C#», «0.150:0.250 4D», «0.250:0.400 4D#», «0.400:0.542 4E», «0.542:0.667 4F», «0.667:0.833 4F#», «0.833:1.000 4G»]</td><td>[0, 3, 5, 8, 11, 14, 17] </td><td>gridError=0.0862, rhythmComplexity=0.344 (numNotesAcrossSubdics=7, numTies=1), divPenalty=0.06 (0.0006, divPenalty=0.06, cardinalityPenalty=0.1, numSubdivsPenalty=0, levelPenalty=0)       </td></tr>\n",
       "<tr><td>0.087601</td><td>(8, 7, 2)         </td><td>[«0.000:0.125 4C#», «0.125:0.250 4D», «0.250:0.381 4D#», «0.381:0.524 4E», «0.524:0.667 4F», «0.667:0.833 4F#», «0.833:1.000 4G»]</td><td>[0, 3, 6, 9, 12, 15, 16] </td><td>gridError=0.0866, rhythmComplexity=0.344 (numNotesAcrossSubdics=7, numTies=1), divPenalty=0.0781 (0.000781, divPenalty=0.06, cardinalityPenalty=0.1, numSubdivsPenalty=0, levelPenalty=0.05)</td></tr>\n",
       "<tr><td>0.087601</td><td>(7, 8, 2)         </td><td>[«0.000:0.143 4C#», «0.143:0.286 4D», «0.286:0.417 4D#», «0.417:0.542 4E», «0.542:0.667 4F», «0.667:0.833 4F#», «0.833:1.000 4G»]</td><td>[0, 3, 6, 9, 12, 15, 16] </td><td>gridError=0.0866, rhythmComplexity=0.344 (numNotesAcrossSubdics=7, numTies=1), divPenalty=0.0781 (0.000781, divPenalty=0.06, cardinalityPenalty=0.1, numSubdivsPenalty=0, levelPenalty=0.05)</td></tr>\n",
       "<tr><td>0.089821</td><td>(4, 2, 2, 4, 1, 1)</td><td>[«0.000:0.125 4C#», «0.125:0.250 4D», «0.250:0.417 4D#», «0.417:0.542 4E», «0.542:0.667 4F», «0.667:0.833 4F#», «0.833:1.000 4G»]</td><td>[0, 3, 5, 7, 9, 12, 13]  </td><td>gridError=0.0892, rhythmComplexity=0.271 (numNotesAcrossSubdics=6, numTies=0), divPenalty=0.064 (0.0006403, divPenalty=0.04, cardinalityPenalty=0, numSubdivsPenalty=0, levelPenalty=0.05)  </td></tr>\n",
       "<tr><td>0.089829</td><td>(2, 3, 6, 3)      </td><td>[«0.000:0.125 4C#», «0.125:0.250 4D», «0.250:0.417 4D#», «0.417:0.542 4E», «0.542:0.667 4F», «0.667:0.833 4F#», «0.833:1.000 4G»]</td><td>[0, 1, 2, 4, 6, 9, 12]   </td><td>gridError=0.0892, rhythmComplexity=0.316 (numNotesAcrossSubdics=7, numTies=0), divPenalty=0.04 (0.0004, divPenalty=0.04, cardinalityPenalty=0, numSubdivsPenalty=0, levelPenalty=0)         </td></tr>\n",
       "<tr><td>0.09008 </td><td>(8, 8, 2)         </td><td>[«0.000:0.125 4C#», «0.125:0.250 4D», «0.250:0.417 4D#», «0.417:0.542 4E», «0.542:0.667 4F», «0.667:0.833 4F#», «0.833:1.000 4G»]</td><td>[0, 3, 6, 10, 13, 16, 17]</td><td>gridError=0.0892, rhythmComplexity=0.316 (numNotesAcrossSubdics=7, numTies=0), divPenalty=0.0781 (0.000781, divPenalty=0.06, cardinalityPenalty=0, numSubdivsPenalty=0, levelPenalty=0.05)  </td></tr>\n",
       "<tr><td>0.093365</td><td>(5, 8, 7)         </td><td>[«0.000:0.133 4C#», «0.133:0.267 4D», «0.267:0.417 4D#», «0.417:0.542 4E», «0.542:0.667 4F», «0.667:0.810 4F#», «0.810:1.000 4G»]</td><td>[0, 2, 4, 7, 10, 13, 16] </td><td>gridError=0.0925, rhythmComplexity=0.316 (numNotesAcrossSubdics=7, numTies=0), divPenalty=0.0781 (0.000781, divPenalty=0.06, cardinalityPenalty=0.4, numSubdivsPenalty=0, levelPenalty=0.05)</td></tr>\n",
       "</tbody>\n",
       "</table>"
      ],
      "text/plain": [
       "<IPython.core.display.HTML object>"
      ]
     },
     "metadata": {},
     "output_type": "display_data"
    },
    {
     "name": "stdout",
     "output_type": "stream",
     "text": [
      "Beat: 1 - 2 (dur: 1)\n",
      "Skipped 174 divisions with a div. penalty > 0.1\n",
      "Best 20 divisions: \n"
     ]
    },
    {
     "data": {
      "text/html": [
       "<table>\n",
       "<thead>\n",
       "<tr><th>error   </th><th>div               </th><th>snapped                                                                                                                         </th><th>slots                 </th><th>info                                                                                                                                                                                        </th></tr>\n",
       "</thead>\n",
       "<tbody>\n",
       "<tr><td>0.040398</td><td>(8, 8, 7)         </td><td>[«0.000:0.125 4D tiedPrev», «0.125:0.500 4C», «0.500:0.625 4C#», «0.625:0.762 4D», «0.762:0.905 4D#», «0.905:1.000 4E tiedNext»]</td><td>[0, 3, 12, 15, 18, 21]</td><td>gridError=0.038, rhythmComplexity=0.354 (numNotesAcrossSubdics=6, numTies=1), divPenalty=0.0781 (0.000781, divPenalty=0.06, cardinalityPenalty=0.1, numSubdivsPenalty=0, levelPenalty=0.05) </td></tr>\n",
       "<tr><td>0.050517</td><td>(2, 1, 2, 5)      </td><td>[«0.000:0.125 4D tiedPrev», «0.125:0.500 4C», «0.500:0.625 4C#», «0.625:0.750 4D», «0.750:0.900 4D#», «0.900:1.000 4E tiedNext»]</td><td>[0, 1, 3, 4, 5, 8]    </td><td>gridError=0.0495, rhythmComplexity=0.316 (numNotesAcrossSubdics=6, numTies=0), divPenalty=0.02 (0.0002, divPenalty=0.02, cardinalityPenalty=0.1, numSubdivsPenalty=0, levelPenalty=0)       </td></tr>\n",
       "<tr><td>0.056626</td><td>(5, 8, 7)         </td><td>[«0.000:0.133 4D tiedPrev», «0.133:0.500 4C», «0.500:0.625 4C#», «0.625:0.762 4D», «0.762:0.905 4D#», «0.905:1.000 4E tiedNext»]</td><td>[0, 2, 9, 12, 15, 18] </td><td>gridError=0.0543, rhythmComplexity=0.447 (numNotesAcrossSubdics=6, numTies=2), divPenalty=0.0781 (0.000781, divPenalty=0.06, cardinalityPenalty=0.4, numSubdivsPenalty=0, levelPenalty=0.05)</td></tr>\n",
       "<tr><td>0.064832</td><td>(4, 1, 1, 4, 2, 3)</td><td>[«0.000:0.125 4D tiedPrev», «0.125:0.500 4C», «0.500:0.625 4C#», «0.625:0.750 4D», «0.750:0.889 4D#», «0.889:1.000 4E tiedNext»]</td><td>[0, 3, 6, 9, 11, 13]  </td><td>gridError=0.0635, rhythmComplexity=0.354 (numNotesAcrossSubdics=6, numTies=1), divPenalty=0.064 (0.0006403, divPenalty=0.04, cardinalityPenalty=0, numSubdivsPenalty=0, levelPenalty=0.05)  </td></tr>\n",
       "<tr><td>0.066082</td><td>(3, 8, 7)         </td><td>[«0.000:0.111 4D tiedPrev», «0.111:0.500 4C», «0.500:0.625 4C#», «0.625:0.762 4D», «0.762:0.905 4D#», «0.905:1.000 4E tiedNext»]</td><td>[0, 1, 7, 10, 13, 16] </td><td>gridError=0.0647, rhythmComplexity=0.354 (numNotesAcrossSubdics=6, numTies=1), divPenalty=0.0781 (0.000781, divPenalty=0.06, cardinalityPenalty=0.1, numSubdivsPenalty=0, levelPenalty=0.05)</td></tr>\n",
       "<tr><td>0.066082</td><td>(8, 6, 7)         </td><td>[«0.000:0.125 4D tiedPrev», «0.125:0.500 4C», «0.500:0.611 4C#», «0.611:0.762 4D», «0.762:0.905 4D#», «0.905:1.000 4E tiedNext»]</td><td>[0, 3, 11, 13, 16, 19]</td><td>gridError=0.0647, rhythmComplexity=0.354 (numNotesAcrossSubdics=6, numTies=1), divPenalty=0.0781 (0.000781, divPenalty=0.06, cardinalityPenalty=0.1, numSubdivsPenalty=0, levelPenalty=0.05)</td></tr>\n",
       "<tr><td>0.067436</td><td>(4, 1, 1, 4, 3, 3)</td><td>[«0.000:0.125 4D tiedPrev», «0.125:0.500 4C», «0.500:0.625 4C#», «0.625:0.778 4D», «0.778:0.889 4D#», «0.889:1.000 4E tiedNext»]</td><td>[0, 3, 6, 9, 12, 14]  </td><td>gridError=0.0662, rhythmComplexity=0.354 (numNotesAcrossSubdics=6, numTies=1), divPenalty=0.064 (0.0006403, divPenalty=0.04, cardinalityPenalty=0, numSubdivsPenalty=0, levelPenalty=0.05)  </td></tr>\n",
       "<tr><td>0.067584</td><td>(8, 8, 3)         </td><td>[«0.000:0.125 4D tiedPrev», «0.125:0.500 4C», «0.500:0.625 4C#», «0.625:0.778 4D», «0.778:0.889 4D#», «0.889:1.000 4E tiedNext»]</td><td>[0, 3, 12, 15, 17, 18]</td><td>gridError=0.0662, rhythmComplexity=0.354 (numNotesAcrossSubdics=6, numTies=1), divPenalty=0.0781 (0.000781, divPenalty=0.06, cardinalityPenalty=0, numSubdivsPenalty=0, levelPenalty=0.05)  </td></tr>\n",
       "<tr><td>0.069963</td><td>(4, 1, 1, 4, 3, 2)</td><td>[«0.000:0.125 4D tiedPrev», «0.125:0.500 4C», «0.500:0.625 4C#», «0.625:0.778 4D», «0.778:0.917 4D#», «0.917:1.000 4E tiedNext»]</td><td>[0, 3, 6, 9, 12, 14]  </td><td>gridError=0.0682, rhythmComplexity=0.447 (numNotesAcrossSubdics=6, numTies=2), divPenalty=0.064 (0.0006403, divPenalty=0.04, cardinalityPenalty=0, numSubdivsPenalty=0, levelPenalty=0.05)  </td></tr>\n",
       "<tr><td>0.072084</td><td>(2, 1, 5, 5)      </td><td>[«0.000:0.125 4D tiedPrev», «0.125:0.500 4C», «0.500:0.650 4C#», «0.650:0.750 4D», «0.750:0.900 4D#», «0.900:1.000 4E tiedNext»]</td><td>[0, 1, 3, 6, 8, 11]   </td><td>gridError=0.0713, rhythmComplexity=0.316 (numNotesAcrossSubdics=6, numTies=0), divPenalty=0.04 (0.0004, divPenalty=0.04, cardinalityPenalty=0.1, numSubdivsPenalty=0, levelPenalty=0)       </td></tr>\n",
       "<tr><td>0.073699</td><td>(7, 8, 7)         </td><td>[«0.000:0.143 4D tiedPrev», «0.143:0.500 4C», «0.500:0.625 4C#», «0.625:0.762 4D», «0.762:0.905 4D#», «0.905:1.000 4E tiedNext»]</td><td>[0, 3, 11, 14, 17, 20]</td><td>gridError=0.0719, rhythmComplexity=0.447 (numNotesAcrossSubdics=6, numTies=2), divPenalty=0.0781 (0.000781, divPenalty=0.06, cardinalityPenalty=0.1, numSubdivsPenalty=0, levelPenalty=0.05)</td></tr>\n",
       "<tr><td>0.080655</td><td>(2, 1, 2, 3)      </td><td>[«0.000:0.125 4D tiedPrev», «0.125:0.500 4C», «0.500:0.625 4C#», «0.625:0.750 4D», «0.750:0.917 4D#», «0.917:1.000 4E tiedNext»]</td><td>[0, 1, 3, 4, 5, 7]    </td><td>gridError=0.08, rhythmComplexity=0.316 (numNotesAcrossSubdics=6, numTies=0), divPenalty=0.02 (0.0002, divPenalty=0.02, cardinalityPenalty=0, numSubdivsPenalty=0, levelPenalty=0)           </td></tr>\n",
       "<tr><td>0.080853</td><td>(8, 8, 4)         </td><td>[«0.000:0.125 4D tiedPrev», «0.125:0.500 4C», «0.500:0.625 4C#», «0.625:0.750 4D», «0.750:0.917 4D#», «0.917:1.000 4E tiedNext»]</td><td>[0, 3, 12, 15, 17, 19]</td><td>gridError=0.08, rhythmComplexity=0.316 (numNotesAcrossSubdics=6, numTies=0), divPenalty=0.06 (0.0006, divPenalty=0.06, cardinalityPenalty=0, numSubdivsPenalty=0, levelPenalty=0)           </td></tr>\n",
       "<tr><td>0.080884</td><td>(4, 1, 1, 4, 2, 2)</td><td>[«0.000:0.125 4D tiedPrev», «0.125:0.500 4C», «0.500:0.625 4C#», «0.625:0.750 4D», «0.750:0.917 4D#», «0.917:1.000 4E tiedNext»]</td><td>[0, 3, 6, 9, 11, 13]  </td><td>gridError=0.08, rhythmComplexity=0.316 (numNotesAcrossSubdics=6, numTies=0), divPenalty=0.064 (0.0006403, divPenalty=0.04, cardinalityPenalty=0, numSubdivsPenalty=0, levelPenalty=0.05)    </td></tr>\n",
       "<tr><td>0.081358</td><td>(5, 6, 7)         </td><td>[«0.000:0.133 4D tiedPrev», «0.133:0.500 4C», «0.500:0.611 4C#», «0.611:0.762 4D», «0.762:0.905 4D#», «0.905:1.000 4E tiedNext»]</td><td>[0, 2, 8, 10, 13, 16] </td><td>gridError=0.0797, rhythmComplexity=0.447 (numNotesAcrossSubdics=6, numTies=2), divPenalty=0.0781 (0.000781, divPenalty=0.06, cardinalityPenalty=0.4, numSubdivsPenalty=0, levelPenalty=0.05)</td></tr>\n",
       "<tr><td>0.082723</td><td>(5, 8, 3)         </td><td>[«0.000:0.133 4D tiedPrev», «0.133:0.500 4C», «0.500:0.625 4C#», «0.625:0.778 4D», «0.778:0.889 4D#», «0.889:1.000 4E tiedNext»]</td><td>[0, 2, 9, 12, 14, 15] </td><td>gridError=0.0813, rhythmComplexity=0.447 (numNotesAcrossSubdics=6, numTies=2), divPenalty=0.064 (0.0006403, divPenalty=0.04, cardinalityPenalty=0.1, numSubdivsPenalty=0, levelPenalty=0.05)</td></tr>\n",
       "<tr><td>0.084703</td><td>(8,)              </td><td>[«0.000:0.125 4D tiedPrev», «0.125:0.500 4C», «0.500:0.625 4C#», «0.625:0.750 4D», «0.750:0.875 4D#», «0.875:1.000 4E tiedNext»]</td><td>[0, 1, 4, 5, 6, 7]    </td><td>gridError=0.0847, rhythmComplexity=0 (numNotesAcrossSubdics=0, numTies=0), divPenalty=0.02 (0.0002, divPenalty=0.02, cardinalityPenalty=0, numSubdivsPenalty=0, levelPenalty=0)             </td></tr>\n",
       "<tr><td>0.084769</td><td>(4, 1, 1, 3, 2, 3)</td><td>[«0.000:0.125 4D tiedPrev», «0.125:0.500 4C», «0.500:0.611 4C#», «0.611:0.750 4D», «0.750:0.889 4D#», «0.889:1.000 4E tiedNext»]</td><td>[0, 3, 6, 8, 10, 12]  </td><td>gridError=0.0834, rhythmComplexity=0.447 (numNotesAcrossSubdics=6, numTies=2), divPenalty=0.0539 (0.0005385, divPenalty=0.02, cardinalityPenalty=0, numSubdivsPenalty=0, levelPenalty=0.05) </td></tr>\n",
       "<tr><td>0.084823</td><td>(8, 7, 7)         </td><td>[«0.000:0.125 4D tiedPrev», «0.125:0.476 4C», «0.476:0.619 4C#», «0.619:0.762 4D», «0.762:0.905 4D#», «0.905:1.000 4E tiedNext»]</td><td>[0, 3, 11, 14, 17, 20]</td><td>gridError=0.0837, rhythmComplexity=0.354 (numNotesAcrossSubdics=6, numTies=1), divPenalty=0.0781 (0.000781, divPenalty=0.06, cardinalityPenalty=0.1, numSubdivsPenalty=0, levelPenalty=0.05)</td></tr>\n",
       "<tr><td>0.085291</td><td>(2, 1, 2, 2)      </td><td>[«0.000:0.125 4D tiedPrev», «0.125:0.500 4C», «0.500:0.625 4C#», «0.625:0.750 4D», «0.750:0.875 4D#», «0.875:1.000 4E tiedNext»]</td><td>[0, 1, 3, 4, 5, 6]    </td><td>gridError=0.0847, rhythmComplexity=0.316 (numNotesAcrossSubdics=6, numTies=0), divPenalty=0.02 (0.0002, divPenalty=0.02, cardinalityPenalty=0, numSubdivsPenalty=0, levelPenalty=0)         </td></tr>\n",
       "</tbody>\n",
       "</table>"
      ],
      "text/plain": [
       "<IPython.core.display.HTML object>"
      ]
     },
     "metadata": {},
     "output_type": "display_data"
    },
    {
     "name": "stdout",
     "output_type": "stream",
     "text": [
      "Beat: 2 - 5/2 (dur: 1/2)\n",
      "Skipped 0 divisions with a div. penalty > 0.1\n",
      "Best 20 divisions: \n"
     ]
    },
    {
     "data": {
      "text/html": [
       "<table>\n",
       "<thead>\n",
       "<tr><th>error   </th><th>div         </th><th>snapped                                                                           </th><th>slots       </th><th>info                                                                                                                                                                                       </th></tr>\n",
       "</thead>\n",
       "<tbody>\n",
       "<tr><td>0.040606</td><td>(4, 1, 1)   </td><td>[«0.000:0.042 4E tiedPrev», «0.042:0.167 4F», «0.167:0.333 4F#», «0.333:0.500 4G»]</td><td>[0, 1, 4, 5]</td><td>gridError=0.0395, rhythmComplexity=0.237 (numNotesAcrossSubdics=3, numTies=0), divPenalty=0.0539 (0.0005385, divPenalty=0.02, cardinalityPenalty=0, numSubdivsPenalty=0, levelPenalty=0.05)</td></tr>\n",
       "<tr><td>0.040787</td><td>(3, 3, 3, 1)</td><td>[«0.000:0.042 4E tiedPrev», «0.042:0.167 4F», «0.167:0.333 4F#», «0.333:0.500 4G»]</td><td>[0, 1, 4, 8]</td><td>gridError=0.0395, rhythmComplexity=0.316 (numNotesAcrossSubdics=4, numTies=0), divPenalty=0 (0, divPenalty=0, cardinalityPenalty=0, numSubdivsPenalty=0, levelPenalty=0)                   </td></tr>\n",
       "<tr><td>0.040983</td><td>(6, 3)      </td><td>[«0.000:0.042 4E tiedPrev», «0.042:0.167 4F», «0.167:0.333 4F#», «0.333:0.500 4G»]</td><td>[0, 1, 4, 7]</td><td>gridError=0.0395, rhythmComplexity=0.316 (numNotesAcrossSubdics=4, numTies=0), divPenalty=0.04 (0.0004, divPenalty=0.04, cardinalityPenalty=0, numSubdivsPenalty=0, levelPenalty=0)        </td></tr>\n",
       "<tr><td>0.091042</td><td>(9,)        </td><td>[«0.000:0.056 4E tiedPrev», «0.056:0.167 4F», «0.167:0.333 4F#», «0.333:0.500 4G»]</td><td>[0, 1, 3, 6]</td><td>gridError=0.091, rhythmComplexity=0 (numNotesAcrossSubdics=0, numTies=0), divPenalty=0.02 (0.0002, divPenalty=0.02, cardinalityPenalty=0, numSubdivsPenalty=0, levelPenalty=0)             </td></tr>\n",
       "<tr><td>0.091465</td><td>(3, 1, 1)   </td><td>[«0.000:0.056 4E tiedPrev», «0.056:0.167 4F», «0.167:0.333 4F#», «0.333:0.500 4G»]</td><td>[0, 1, 3, 4]</td><td>gridError=0.091, rhythmComplexity=0.237 (numNotesAcrossSubdics=3, numTies=0), divPenalty=0.05 (0.0005, divPenalty=0, cardinalityPenalty=0, numSubdivsPenalty=0, levelPenalty=0.05)         </td></tr>\n",
       "<tr><td>0.10146 </td><td>(6, 5)      </td><td>[«0.000:0.042 4E tiedPrev», «0.042:0.167 4F», «0.167:0.350 4F#», «0.350:0.500 4G»]</td><td>[0, 1, 4, 8]</td><td>gridError=0.101, rhythmComplexity=0.395 (numNotesAcrossSubdics=4, numTies=1), divPenalty=0.04 (0.0004, divPenalty=0.04, cardinalityPenalty=0.1, numSubdivsPenalty=0, levelPenalty=0)       </td></tr>\n",
       "<tr><td>0.10381 </td><td>(3, 2, 3, 1)</td><td>[«0.000:0.042 4E tiedPrev», «0.042:0.188 4F», «0.188:0.333 4F#», «0.333:0.500 4G»]</td><td>[0, 1, 4, 7]</td><td>gridError=0.103, rhythmComplexity=0.316 (numNotesAcrossSubdics=4, numTies=0), divPenalty=0 (0, divPenalty=0, cardinalityPenalty=0, numSubdivsPenalty=0, levelPenalty=0)                    </td></tr>\n",
       "<tr><td>0.10926 </td><td>(1, 1, 1)   </td><td>[«0.000:grace 4E tiedPrev», «0.000:0.167 4F», «0.167:0.333 4F#», «0.333:0.500 4G»]</td><td>[0, 0, 1, 2]</td><td>gridError=0.109, rhythmComplexity=0.0791 (numNotesAcrossSubdics=1, numTies=0), divPenalty=0.05 (0.0005, divPenalty=0, cardinalityPenalty=0, numSubdivsPenalty=0, levelPenalty=0.05)        </td></tr>\n",
       "<tr><td>0.10939 </td><td>(3,)        </td><td>[«0.000:grace 4E tiedPrev», «0.000:0.167 4F», «0.167:0.333 4F#», «0.333:0.500 4G»]</td><td>[0, 0, 1, 2]</td><td>gridError=0.109, rhythmComplexity=0.237 (numNotesAcrossSubdics=0, numTies=1), divPenalty=0.02 (0.0002, divPenalty=0.02, cardinalityPenalty=0, numSubdivsPenalty=0, levelPenalty=0)         </td></tr>\n",
       "<tr><td>0.11512 </td><td>(3, 3, 2, 1)</td><td>[«0.000:0.042 4E tiedPrev», «0.042:0.167 4F», «0.167:0.312 4F#», «0.312:0.500 4G»]</td><td>[0, 1, 4, 7]</td><td>gridError=0.115, rhythmComplexity=0.316 (numNotesAcrossSubdics=4, numTies=0), divPenalty=0 (0, divPenalty=0, cardinalityPenalty=0, numSubdivsPenalty=0, levelPenalty=0)                    </td></tr>\n",
       "<tr><td>0.11519 </td><td>(6, 4)      </td><td>[«0.000:0.042 4E tiedPrev», «0.042:0.167 4F», «0.167:0.312 4F#», «0.312:0.500 4G»]</td><td>[0, 1, 4, 7]</td><td>gridError=0.115, rhythmComplexity=0.316 (numNotesAcrossSubdics=4, numTies=0), divPenalty=0.04 (0.0004, divPenalty=0.04, cardinalityPenalty=0, numSubdivsPenalty=0, levelPenalty=0)         </td></tr>\n",
       "<tr><td>0.11537 </td><td>(2, 3, 3, 1)</td><td>[«0.000:0.062 4E tiedPrev», «0.062:0.167 4F», «0.167:0.333 4F#», «0.333:0.500 4G»]</td><td>[0, 1, 3, 7]</td><td>gridError=0.115, rhythmComplexity=0.395 (numNotesAcrossSubdics=4, numTies=1), divPenalty=0 (0, divPenalty=0, cardinalityPenalty=0, numSubdivsPenalty=0, levelPenalty=0)                    </td></tr>\n",
       "<tr><td>0.1291  </td><td>(5, 3)      </td><td>[«0.000:0.050 4E tiedPrev», «0.050:0.150 4F», «0.150:0.333 4F#», «0.333:0.500 4G»]</td><td>[0, 1, 3, 6]</td><td>gridError=0.128, rhythmComplexity=0.395 (numNotesAcrossSubdics=4, numTies=1), divPenalty=0.02 (0.0002, divPenalty=0.02, cardinalityPenalty=0.1, numSubdivsPenalty=0, levelPenalty=0)       </td></tr>\n",
       "<tr><td>0.15679 </td><td>(2, 2, 3, 1)</td><td>[«0.000:0.062 4E tiedPrev», «0.062:0.188 4F», «0.188:0.333 4F#», «0.333:0.500 4G»]</td><td>[0, 1, 3, 6]</td><td>gridError=0.156, rhythmComplexity=0.316 (numNotesAcrossSubdics=4, numTies=0), divPenalty=0 (0, divPenalty=0, cardinalityPenalty=0, numSubdivsPenalty=0, levelPenalty=0)                    </td></tr>\n",
       "<tr><td>0.1568  </td><td>(4, 3)      </td><td>[«0.000:0.062 4E tiedPrev», «0.062:0.188 4F», «0.188:0.333 4F#», «0.333:0.500 4G»]</td><td>[0, 1, 3, 5]</td><td>gridError=0.156, rhythmComplexity=0.316 (numNotesAcrossSubdics=4, numTies=0), divPenalty=0.02 (0.0002, divPenalty=0.02, cardinalityPenalty=0, numSubdivsPenalty=0, levelPenalty=0)         </td></tr>\n",
       "<tr><td>0.16224 </td><td>(3, 5)      </td><td>[«0.000:grace 4E tiedPrev», «0.000:0.167 4F», «0.167:0.350 4F#», «0.350:0.500 4G»]</td><td>[0, 0, 2, 5]</td><td>gridError=0.162, rhythmComplexity=0.335 (numNotesAcrossSubdics=3, numTies=1), divPenalty=0.02 (0.0002, divPenalty=0.02, cardinalityPenalty=0.1, numSubdivsPenalty=0, levelPenalty=0)       </td></tr>\n",
       "<tr><td>0.17073 </td><td>(3, 2, 2, 1)</td><td>[«0.000:0.042 4E tiedPrev», «0.042:0.188 4F», «0.188:0.312 4F#», «0.312:0.500 4G»]</td><td>[0, 1, 4, 6]</td><td>gridError=0.17, rhythmComplexity=0.316 (numNotesAcrossSubdics=4, numTies=0), divPenalty=0 (0, divPenalty=0, cardinalityPenalty=0, numSubdivsPenalty=0, levelPenalty=0)                     </td></tr>\n",
       "<tr><td>0.17406 </td><td>(5, 4)      </td><td>[«0.000:0.050 4E tiedPrev», «0.050:0.150 4F», «0.150:0.312 4F#», «0.312:0.500 4G»]</td><td>[0, 1, 3, 6]</td><td>gridError=0.174, rhythmComplexity=0.395 (numNotesAcrossSubdics=4, numTies=1), divPenalty=0.04 (0.0004, divPenalty=0.04, cardinalityPenalty=0, numSubdivsPenalty=0, levelPenalty=0)         </td></tr>\n",
       "<tr><td>0.17488 </td><td>(3, 4)      </td><td>[«0.000:grace 4E tiedPrev», «0.000:0.167 4F», «0.167:0.312 4F#», «0.312:0.500 4G»]</td><td>[0, 0, 2, 4]</td><td>gridError=0.175, rhythmComplexity=0.237 (numNotesAcrossSubdics=3, numTies=0), divPenalty=0.02 (0.0002, divPenalty=0.02, cardinalityPenalty=0, numSubdivsPenalty=0, levelPenalty=0)         </td></tr>\n",
       "<tr><td>0.18166 </td><td>(5, 5)      </td><td>[«0.000:0.050 4E tiedPrev», «0.050:0.150 4F», «0.150:0.350 4F#», «0.350:0.500 4G»]</td><td>[0, 1, 3, 7]</td><td>gridError=0.181, rhythmComplexity=0.316 (numNotesAcrossSubdics=4, numTies=0), divPenalty=0.04 (0.0004, divPenalty=0.04, cardinalityPenalty=0, numSubdivsPenalty=0, levelPenalty=0)         </td></tr>\n",
       "</tbody>\n",
       "</table>"
      ],
      "text/plain": [
       "<IPython.core.display.HTML object>"
      ]
     },
     "metadata": {},
     "output_type": "display_data"
    },
    {
     "name": "stdout",
     "output_type": "stream",
     "text": [
      "Error: 0.013688577540449522, division: [Fraction(1, 2), Fraction(1, 1)]\n",
      "Error: 0.06070121939444385, division: [Fraction(1, 1), Fraction(1, 2)]\n"
     ]
    },
    {
     "data": {
      "text/html": [
       "<b>LilypondRenderer</b> (1 part)<br>\n",
       "        <img style=\"display:inline; padding:10px;\n",
       "margin-top:14px;\n",
       "width:519.0\"\n",
       "             src=\"data:image/png;base64,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\"/>"
      ],
      "text/plain": [
       "<maelzel.scoring.renderlily.LilypondRenderer at 0x7febd87aa6d0>"
      ]
     },
     "execution_count": 18,
     "metadata": {},
     "output_type": "execute_result"
    }
   ],
   "source": [
    "from maelzel import scoring\n",
    "from maelzel.scorestruct import ScoreStruct\n",
    "from maelzel.common import F\n",
    "from maelzel.scoring import makeNote\n",
    "from maelzel.scoring import spanner \n",
    "\n",
    "notes = [\n",
    "    makeNote(62, F(3, 4)*F(1, 2)),\n",
    "    makeNote(60, F(3, 4)*F(1, 2)),\n",
    "    makeNote(62, F(3, 4)*F(1, 2)),\n",
    "    makeNote(60, F(3, 4)*F(1, 2)),\n",
    "    \n",
    "    makeNote(61, F(2, 3)*F(1, 5)),\n",
    "    makeNote(62, F(2, 3)*F(1, 5)),\n",
    "    makeNote(63, F(2, 3)*F(1, 5)),\n",
    "    makeNote(64, F(2, 3)*F(1, 5)),\n",
    "    makeNote(65, F(2, 3)*F(1, 5)),\n",
    "    makeNote(66, F(2, 3)*F(1, 4)),\n",
    "    makeNote(67, F(2, 3)*F(1, 4)), \n",
    "    \n",
    "]\n",
    "\n",
    "struct = ScoreStruct(timesig='7/8', quarterTempo=52)\n",
    "struct.getMeasureDef(0).subdivisionStructure = (2, 3, 2)\n",
    "\n",
    "part = scoring.Part(notes)\n",
    "quantprofile = scoring.quant.makeQuantizationProfile('high', debug=True, debugMaxDivisions=20, maxDivPenalty=0.1)\n",
    "quantprofile.maxGridDensity = 32\n",
    "quantprofile.mergeTupletsOfDifferentDuration = True\n",
    "qpart = scoring.quant.quantizePart(part, struct=struct, profile=quantprofile)\n",
    "options = scoring.render.RenderOptions()\n",
    "score = scoring.quant.QuantizedScore([qpart])\n",
    "r = scoring.render.renderQuantizedScore(score, options)\n",
    "#score.dump()\n",
    "r# .write('~/tmp/quant.ly')"
   ]
  }
 ],
 "metadata": {
  "kernelspec": {
   "display_name": "Python 3 (ipykernel)",
   "language": "python",
   "name": "python3"
  },
  "language_info": {
   "codemirror_mode": {
    "name": "ipython",
    "version": 3
   },
   "file_extension": ".py",
   "mimetype": "text/x-python",
   "name": "python",
   "nbconvert_exporter": "python",
   "pygments_lexer": "ipython3",
   "version": "3.9.15"
  }
 },
 "nbformat": 4,
 "nbformat_minor": 5
}
