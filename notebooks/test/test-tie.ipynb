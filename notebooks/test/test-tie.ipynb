{
 "cells": [
  {
   "cell_type": "code",
   "execution_count": 1,
   "id": "766d18f6-1c03-438a-a99c-72c0f1566d23",
   "metadata": {},
   "outputs": [],
   "source": [
    "from maelzel.core import *"
   ]
  },
  {
   "cell_type": "code",
   "execution_count": 2,
   "id": "e01121eb-4ee0-4b97-8528-7523a1f32fc7",
   "metadata": {},
   "outputs": [
    {
     "data": {
      "text/plain": [
       "'4C'"
      ]
     },
     "execution_count": 2,
     "metadata": {},
     "output_type": "execute_result"
    }
   ],
   "source": [
    "n = Note(\"4C~\", 1)\n",
    "n.name"
   ]
  },
  {
   "cell_type": "code",
   "execution_count": 3,
   "id": "e1c276d2-79c5-4160-92f6-2a96ea66f5fe",
   "metadata": {},
   "outputs": [
    {
     "data": {
      "text/html": [
       "<code style=\"white-space: pre-line; font-size:0.9em;\">Chain([<span style=\"color:#6666E0\">4C~:1♩</span>, <span style=\"color:#6666E0\">‹4C 4E 0.333♩›</span>, <span style=\"color:#6666E0\">‹4E 4G 1♩›</span>, <span style=\"color:#6666E0\">4F:1♩</span>], dur=3.333)</code><br>\n",
       "        <img style=\"display:inline; padding:10px;\n",
       "margin-top:14px;\n",
       "width:283px\"\n",
       "             src=\"data:image/png;base64,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\"/>"
      ],
      "text/plain": [
       "Chain([4C~:1♩, ‹4C 4E 0.333♩›, ‹4E 4G 1♩›, 4F:1♩])"
      ]
     },
     "execution_count": 3,
     "metadata": {},
     "output_type": "execute_result"
    }
   ],
   "source": [
    "ch = Chain([\n",
    "    Note(\"4C~:1\", label=\"foo\"),\n",
    "    \"4C,4E~:1/3\",\n",
    "    \"4E,4G~\",\n",
    "    \"4F\"\n",
    "])\n",
    "ch"
   ]
  },
  {
   "cell_type": "code",
   "execution_count": 5,
   "id": "04e6f137-830c-4386-8738-25700a694016",
   "metadata": {},
   "outputs": [
    {
     "data": {
      "text/plain": [
       "[«4C~ 0:1 1♩ attachments=[Text(text=foo, fontsize=9.0)]»,\n",
       " «~[4C 4E]~ 1:1.333 1/3♩»,\n",
       " «~[4E 4G]~ 1.333:2.333 1♩»,\n",
       " «~4F 2.333:3.333 1♩»]"
      ]
     },
     "execution_count": 5,
     "metadata": {},
     "output_type": "execute_result"
    }
   ],
   "source": [
    "ch.scoringEvents()"
   ]
  },
  {
   "cell_type": "code",
   "execution_count": 6,
   "id": "2c119a1e-c206-46bd-b677-3ebc99b5655b",
   "metadata": {},
   "outputs": [
    {
     "name": "stdout",
     "output_type": "stream",
     "text": [
      "Part #0:\n",
      "  Measure #0\n",
      "    Timesig: 4/4(quarter=60)\n",
      "    Node ratio: 1/1, offset=0, end=4, dur=4, symbolicdur=4\n",
      "      Node ratio: 1/1, offset=0, end=1, dur=1, symbolicdur=1\n",
      "        «4C~ 0:1 1♩ attachments=[Text(text=foo, fontsize=9.0), Clef(kind=treble)]\n",
      "          properties={'clef': 'treble'}»\n",
      "      Node ratio: 3/2, offset=1, end=2, dur=1, symbolicdur=3/2\n",
      "        «~[4C 4E]~ 1:1.333 1/3♩ 3/2»\n",
      "        «~[4E 4G]~ 1.333:2 2/3♩ 3/2»\n",
      "      Node ratio: 3/2, offset=2, end=3, dur=1, symbolicdur=3/2\n",
      "        «~[4E 4G] 2:2.333 1/3♩ 3/2»\n",
      "        «4F~ 2.333:3 2/3♩ 3/2»\n",
      "      Node ratio: 3/2, offset=3, end=4, dur=1, symbolicdur=3/2\n",
      "        «~4F 3:3.333 1/3♩ 3/2»\n",
      "        «rest 3.333:4 2/3♩ 3/2»\n"
     ]
    }
   ],
   "source": [
    "r = ch.render()\n",
    "r.quantizedScore.dump()"
   ]
  },
  {
   "cell_type": "code",
   "execution_count": 8,
   "id": "e01ef0fa-f74c-4036-b650-0eaf73dbb33f",
   "metadata": {},
   "outputs": [
    {
     "data": {
      "text/html": [
       "<code style=\"white-space: pre-line; font-size:0.9em;\">Chain([<span style=\"color:#6666E0\">‹4C 4E 4A 1♩›</span>, <span style=\"color:#6666E0\">‹4E 4G 4A 0.333♩›</span>], dur=1.333)</code><br>\n",
       "        <img style=\"display:inline; padding:10px;\n",
       "margin-top:14px;\n",
       "width:220px\"\n",
       "             src=\"data:image/png;base64,iVBORw0KGgoAAAANSUhEUgAAASYAAABqCAIAAACeS2suAAAJLmlDQ1BJQ0MgUHJvZmlsZQAAeJyVlWdQk1kXx+/zPOmFQBJCh1BDkSolgJQQWijSq6hA6J1QRWyIuAIriog0RZBFARdclSJrRRQLi4ICFnSDLALKunEVUUFZcN8ZnfcdP7z/mXvPb/5z5t5zz/lwASCIg2XBy3tiUrrA28mOGRgUzATfKIyflsLx9HQD39W7EQCtxHu638/5rggRkWn85bi4vHL5KYJ0AKDsZdbMSk9Z4aPLTA+P/8JnV1iwXOAy31jh6H957EvOvyz6kuPrzV1+FQoAHCn6Gw7/hv9z74pUOIL02KjIbKZPclR6Vpggkpm20gkel8v0FCRHxSZEflPw/5X8HaVHZqevRG5yyiZBbHRMOvN/DjUyMDQEX2fxxutLjyFG/3/PZ0VfveR6ANhzACD7vnrhlQB07gJA+tFXT225r5R8ADru8DMEmf96qJUNDQiAAuhABigCVaAJdIERMAOWwBY4ABfgAXxBENgA+CAGJAIByAK5YAcoAEVgHzgIqkAtaABNoBWcBp3gPLgCroPb4C4YBo+BEEyCl0AE3oEFCIKwEBmiQTKQEqQO6UBGEBuyhhwgN8gbCoJCoWgoCcqAcqGdUBFUClVBdVAT9At0DroC3YQGoYfQODQD/Q19hBGYBNNhBVgD1ofZMAd2hX3h9XA0nArnwPnwXrgCrodPwh3wFfg2PAwL4ZfwHAIQIsJAlBFdhI1wEQ8kGIlCBMhWpBApR+qRVqQb6UPuIUJkFvmAwqBoKCZKF2WJckb5ofioVNRWVDGqCnUC1YHqRd1DjaNEqM9oMloerYO2QPPQgehodBa6AF2ObkS3o6+hh9GT6HcYDIaBYWHMMM6YIEwcZjOmGHMY04a5jBnETGDmsFisDFYHa4X1wIZh07EF2ErsSewl7BB2EvseR8Qp4YxwjrhgXBIuD1eOa8ZdxA3hpnALeHG8Ot4C74GPwG/Cl+Ab8N34O/hJ/AJBgsAiWBF8CXGEHYQKQivhGmGM8IZIJKoQzYlexFjidmIF8RTxBnGc+IFEJWmTuKQQUgZpL+k46TLpIekNmUzWINuSg8np5L3kJvJV8lPyezGamJ4YTyxCbJtYtViH2JDYKwqeok7hUDZQcijllDOUO5RZcby4hjhXPEx8q3i1+DnxUfE5CZqEoYSHRKJEsUSzxE2JaSqWqkF1oEZQ86nHqFepEzSEpkrj0vi0nbQG2jXaJB1DZ9F59Dh6Ef1n+gBdJEmVNJb0l8yWrJa8IClkIAwNBo+RwChhnGaMMD5KKUhxpCKl9ki1Sg1JzUvLSdtKR0oXSrdJD0t/lGHKOMjEy+yX6ZR5IouS1Zb1ks2SPSJ7TXZWji5nKceXK5Q7LfdIHpbXlveW3yx/TL5ffk5BUcFJIUWhUuGqwqwiQ9FWMU6xTPGi4owSTclaKVapTOmS0gumJJPDTGBWMHuZImV5ZWflDOU65QHlBRWWip9KnkqbyhNVgipbNUq1TLVHVaSmpOaulqvWovZIHa/OVo9RP6Tepz6vwdII0Nit0akxzZJm8Vg5rBbWmCZZ00YzVbNe874WRoutFa91WOuuNqxtoh2jXa19RwfWMdWJ1TmsM7gKvcp8VdKq+lWjuiRdjm6mbovuuB5Dz00vT69T75W+mn6w/n79Pv3PBiYGCQYNBo8NqYYuhnmG3YZ/G2kb8Y2qje6vJq92XL1tddfq18Y6xpHGR4wfmNBM3E12m/SYfDI1MxWYtprOmKmZhZrVmI2y6WxPdjH7hjna3M58m/l58w8WphbpFqct/rLUtYy3bLacXsNaE7mmYc2ElYpVmFWdldCaaR1qfdRaaKNsE2ZTb/PMVtU2wrbRdoqjxYnjnOS8sjOwE9i1281zLbhbuJftEXsn+0L7AQeqg59DlcNTRxXHaMcWR5GTidNmp8vOaGdX5/3OozwFHp/XxBO5mLlscel1Jbn6uFa5PnPTdhO4dbvD7i7uB9zH1qqvTVrb6QE8eB4HPJ54sjxTPX/1wnh5elV7Pfc29M717vOh+Wz0afZ552vnW+L72E/TL8Ovx5/iH+Lf5D8fYB9QGiAM1A/cEng7SDYoNqgrGBvsH9wYPLfOYd3BdZMhJiEFISPrWeuz19/cILshYcOFjZSNYRvPhKJDA0KbQxfDPMLqw+bCeeE14SI+l3+I/zLCNqIsYibSKrI0cirKKqo0ajraKvpA9EyMTUx5zGwsN7Yq9nWcc1xt3Hy8R/zx+KWEgIS2RFxiaOK5JGpSfFJvsmJydvJgik5KQYow1SL1YKpI4CpoTIPS1qd1pdOXP8X+DM2MXRnjmdaZ1Znvs/yzzmRLZCdl92/S3rRn01SOY85Pm1Gb+Zt7cpVzd+SOb+FsqdsKbQ3f2rNNdVv+tsntTttP7CDsiN/xW55BXmne250BO7vzFfK350/sctrVUiBWICgY3W25u/YH1A+xPwzsWb2ncs/nwojCW0UGReVFi8X84ls/Gv5Y8ePS3qi9AyWmJUf2YfYl7RvZb7P/RKlEaU7pxAH3Ax1lzLLCsrcHNx68WW5cXnuIcCjjkLDCraKrUq1yX+ViVUzVcLVddVuNfM2emvnDEYeHjtgeaa1VqC2q/Xg09uiDOqe6jnqN+vJjmGOZx543+Df0/cT+qalRtrGo8dPxpOPCE94nepvMmpqa5ZtLWuCWjJaZkyEn7/5s/3NXq25rXRujregUOJVx6sUvob+MnHY93XOGfab1rPrZmnZae2EH1LGpQ9QZ0ynsCuoaPOdyrqfbsrv9V71fj59XPl99QfJCyUXCxfyLS5dyLs1dTrk8eyX6ykTPxp7HVwOv3u/16h245nrtxnXH61f7OH2XbljdOH/T4ua5W+xbnbdNb3f0m/S3/2byW/uA6UDHHbM7XXfN73YPrhm8OGQzdOWe/b3r93n3bw+vHR4c8Rt5MBoyKnwQ8WD6YcLD148yHy083j6GHit8Iv6k/Kn80/rftX5vE5oKL4zbj/c/83n2eII/8fKPtD8WJ/Ofk5+XTylNNU0bTZ+fcZy5+2Ldi8mXKS8XZgv+lPiz5pXmq7N/2f7VLwoUTb4WvF76u/iNzJvjb43f9sx5zj19l/huYb7wvcz7Ex/YH/o+BnycWshaxC5WfNL61P3Z9fPYUuLS0j9CLJC+ERlPpwAAFU9JREFUeJztnV9s29T3wG9/KrSV1s3uUDeYoNjrYENlW+1QTWJok5JM2pDYHpL0AVaYRNyHQcdenEg8jBekpC/AJBBJeNne5lSwCcYDcaHT9jBQ3CIxRKc1zpg0jYKUpNukFgkpv4cDV/7aieMktpN09/OUOI7v8Z/je+85557TVS6XUSeza9eukydPvvPOO60WhECwxP+1WoBmWVxcvHr1aqulIBCs0vEqRyB0FkTlCARXISpHILgKUTkCwVWIyhEIrkJUjkBwFaJyBIKrEJUjEFyFqByB4CpE5QgEVyEqRyC4ClE5AsFViMoRCK5CVI5AcBWicgSCqxCVM0NRFEEQaJru6urq6ury+XyKouj2KRaLkUgE9qFpOhKJtERUQsdQ7nAQQqFQyIkjJxIJhBDHcblcrlwu53I5hBBFUfAVKBQKHMcxDAMb4S/hcNgJeQjrA6JylclmswghhmEKhQJsicVi8JJKJBJ4N1EUEUKZTEa3JRaL2S6SjeRyOVEUvV5vIBDQng7BBYjKVcbr9eq0C3owhFA2m4Ut0O9xHKf9I9ZV20Wyi0wmw3GcJEll0i23AqJyFQC1MY66s9msdlQJHVogEDCKpNXMdsPr9VIUhXtveLngrwSn6UjzidGGYS+SJCGE4FnUwvM8y7I6MbRbAIZh8EHaEJqmS6WSqqrajbqvBOfoJJVLJpM8z3d1dXk8nq6uLpZl0+m0Ew2BLtE0jRCKx+M+n8/n8wmCIMuydrfZ2dmKfwclbNuHOJlMZrNZnucRQsViUVEUhmHgK8EFulstgCUURQkGg/l8Xrsxn8+HQqFqf/H5fNVUAvB6vToVwsAfWZaFBxF8A6lUKpVKJRIJQRCsyFwsFq3s1jxzc3NvvPFGf3//tm3bdD/RNB2NRnXqRNM0bFFVNRgM0jRtfHOpqhqJRLSncPfu3QcPHly9ehX6cELDdIDKKYri8/lKpVJd/6r52q65w/T0dDgcTiaT8DUej0ej0cnJSZZlfT5fXcI4ygcffHD37l2E0OLiovFX/OLQEolEZFlWVZXneVmWoT/XkkgkZmZmjEc7ceLE3NycPXI/qrS7yqmqWlPfdu/ebdwYj8ebbJqiKKxvCKFIJJJIJPL5vCRJbaVye/bsuXLlytDQ0Pj4uPHXaDRq3AgXp1gs8jxf0b9v/Nf09DS0ZY/QjzDtrnKxWMxc3yiKev/9951o2tg5sCybz+fxJI3juPn5eeMfYQfXZke9vb0IoeHhYStvGVVVsb2HpmmWZWdnZ2VZ1r1EaJrWHQ1UDtoiNEO7q1y16RYmGAxW3J5MJsFvVo3t27dXm5V5vV7zeSDA8/z8/LzRTAJzzu3bt9c8gsuAwJlMpq166UcNe1ROVdVEIhGNRo2zgibRmUx0UBRVceCEEJIkqab5pJrK+f3+iv8FcwLuvvx+fyqV0qkcNjlUexe0EF2fDOZKiqKIudJNbFA5bN6QZdl2jxnDMNW0DuZaRrcYEAqFzJ8kk15IEIRYLDY7O6sdhqmqCo/s5OQkbAkGgzC21O4G1j9RFG1/+zQPwzDRaBR3cZFIpFQqJRKJNhR1PdOkKz2bzVIUhY8miqItHnpMNYcywzCOhndAJJQ2siQQCBhPEE4f7wZfOY5zM5gDgmC8Xm/NPbPZLMdxoihCgCXDMBD2ZQWH7u8jSFMqVygUjF4abUiULUiSpG2F4zh3InElSaIoimEYeDopiqoYrJzNZhmGgd0oivJ6vS4HT1lXOSCbzWYymXpfWETl7KKr3ERJx2AwaPTeaH1Z9qIoivuzDmy/4XneZAAGu2Evs5uoqioIAs/zzftFTIhEIoqimIzkCRZpXOVkWfb7/RV/yuVy5MYQCBVpPMYSrx+r6ycC4RGnQZVTFMVoRhdFEVxh6XTatQhDAqGzaFDldB5qiqIymUw8HmdZ1uv1lkolh2L82wFFUbq6ug4fPtxqQfSAYI7O6AjN06DKZTIZ/JmiKG3EENgPtDusM6ADX15ebrUgekCwQqHQakEIZjQ+sMSfYRmbboeKcegEF1hbW2u1CAQzGlQ5HGocCASqRTbVDI8kOMEff/zRahEIZjS7Ktxk5uB0ugRCRW7fvt1qEQhmNKVyXq/XxP9GJhUt4ebNm60WgWBGUypX0RWOI+tJL9cSVlZWyJC+nWlK5SoGNxFNazkkFKGdsVnlFEUxX+FGcAFY6N1qKQiV6UYIqaraWAY4Y4eWSqXw582bN6/LGw+r5u7fv99uZ6ddgSqKIqROILQP/0bGl/9bCUYgEBzl0KFD5XK5GyGUTCbxSmeLiKK4sLAQj8c5jsMbL1y48MUXX+Cv58+ff/LJJ+0SF0ilUsZFq0eOHDl9+rS9DZkwPz8fiUS2b9/++eefu9aoFUAwmqYhDGXDhg3nz5/v7+9vtVzrHPxMYnWAG2Hcc+fOnQgGljRN15t/xu/3LywsUBSF/1gsFrU+cY7jjh8/3uhZVMWobxzHXb582faGarJx48b2TNpz/Pjxr7/+Op/PP3z48Pr16yTk0mlwbCPHceaPBORHa9B84vF4EELaFFq67HcmeZSbQTfn5Diu3SZULae3tzedTkN2jOnpaXJ92o0GVQ60GS8XkGVZO1mnKMpiFvF60RpsKIpKp9M0TbdhLq3WwvM8vjV1OQzS6fQ6XgLSJjSocjRNcxwHeVR1Q0qEEBT7tUO8/0FRFNyRwvIFlmWTySQJoTbi8/kgJ8rs7Kz1vBiSJIVCIeJZdZTG/XK4owsGg9ohJcMwDs0ftGMkWL4AdbqdaGsdEI/HoV6X9Y4umUwyDOPz+dq2bNA6oHGVg9laNBrVLQ93KNcQ0thOEolEMBi0Uq7gEQfuRT6ft3hToApPqVQKBoNkXb9DNK5yPM8bM+qJouiQHU9RFHD1iqIoCAL0chVLAhAwLMuGw2FUz4phnudFUZyfn3doNk5oXOVkWdbFdnEc55xJGle1hiYmJydJ/2YFSCA/MzNjvdeCaPWZmRmidY5Q/i/3KIFAcJSjR4/+G33i8Xjq0rq1tbVz586trKxoN4ZCoWeffdZeETEXLlxYW1sbHx/HxZZ0AYRuvjVu374tSdLg4OBbb73lWqNWAMHGxsYOHjyo3T43N/fTTz8Zt1fjxx9/vHLlCv7q6J1dB8DlRZoLBTfCuOemTZsQqr8mQaFQ0AZ5AY7mzRZFkaIoXd51nQDOtW4E5kWjo6N1/SuXy0mSBBPR0f8YGhrCN2NkZAQ2Hjt2TBTFWCyWyWQaEMx4L6ptr4Zuik5RlMsp3zsL/LrH96vazBluQd2VdyKRiNFo4ZxNGZJygwvOoSacI51OX7t27fvvv79169bff/9tsufKygoeNSwsLGh/euaZZziO27dvXzAYdOEiCIKgm6KXSiUocex0048I9alcPB7XLs9BCIXD4XQ67Zwz2ufzsSwrSVK1EjwA9s4NDAy03FMHr4nz588bk20NDw/39/d3d3dv3LjR+BAXi8Vff/11dXUVaRTvzp07d+7cuXjxYjQa3bdv34kTJ+q1alh8IUJIgzEjcCAQcE7f4vG49YQdfr+/PeNa66IOlZNlWVc/EUyUxWJxZmYGfOJ2i4cEQVAUpWY8BN6htaXSksnkhx9+eOfOHfi6efPml156affu3R6Ph2XZeh9cWMeoKEqhUPjyyy+XlpauX79+/fr1qamp8fHxM2fOWOz0zKvJAsVi0efzGccvgUDAOUcrqlLK3IR1oHJWZ0GFQkFbRw5phvhgvne5DJLuLBytNaej4lwuk8kMDw+DMDt37hRF0XaRcrlcIpF47bXXoJWenp6pqSmjYMYbAeshzWeGxvk5QigcDtt7Ckbqelbbs9RWvXM5q345QRC0fjAIcYQuRRfi7ALGtlobFnjq1Cm/37+0tDQxMZHL5X777bd4PG77YIxlWUEQLl26VCgUoPTp2bNnd+3aVfPcIVDOpEuUZdnYvyUSCUf7t0cWSyony7JutqZ9pFiWxSHO9gtYCehXtcRisVYFKJ05c+bs2bOgbOfOnXPBwkHTtCAI9+7dSyQSf/3114EDB0x2hlhwhmFMBDP+FAgEiB/cISypnM4gEQ6HdfcDOjoXlmYpilJxip/P530+X0v6upGREUmS3FE2HYIg3Lp16+TJkyb7gNnJfArEsqzuLebQckcCAvOJoigm9sCff/5ZO+rYtGlTX1+fTgkXFxcRQp999pmVmXrDXLp06ebNm5s2bRoaGqIoqqenB/+0vLycy+U8Hs/Q0ND4+LiNja6trS0uLi4vL8O4esuWLU888QRC6O7du9qLkM1mbWy0XkASyNM8NzenFQyyRXz33Xfgpd2yZcvevXt103JgbGwMXLoIoWvXrrlzRj09PebuEy26U2sT5ubm4EMqlYJZXLWE2f/mri+TgC8CwRUOHDhQLpdrWCx1vZbOhAWV6U3aCIfD9gYuVHw7OGFYq3lqL7zwgu2NNonWYllTfl00D4BDixKJhOvidyo2Wyx1tkGtFyWZTHo8HvNEsalUimVZG6dYRhsJx3G2G9YURfH5fOan1s7rGKzIX9HCTNO0LMsURUUiEbJeziFqqJy2lwuHw9hCoCiKxTx8pVLJRsOGC+mGwClcU6P++ecfe9u1i7W1NSvya2M+ksmkz+fz+XzBYDCZTMLyqPXgdG5PzDtNWMkPaH27xkGL+TCGYRhbRpjaeT+OdQ4EAs0fGWNxZvv000/b2KgtwHhmbGzMivzaoWO1fVxwha8DbB5Y4t6JYRjsiEun03jQQlGUKIq5XE5VVdCHcrmczWZhMTImn883X5vCnXRDFn36rY0sQwgVi8VkMikIAnRQkUjk3r17yFqxK4qirETnpVIpkgbTfsw1GO+mfeFhdaIoStv1QZeo1XVdp9RkR6dVWkmSypowtGYOq8Pidat38Y6NFAqFJo3MusgpPJahKAoWDcE6I7i2cKkJ1bC5l8PDxe3bt+ONeEKlC2uCz7hj9Pl8MBeHr6VSqcmgMHfSDVX0WWk5cuSIvS3WhaIoPM+blPh4/PHHzY+Ak1lgcJ1AQRAikQhM6uLxuKqqXq+X2FFsxlyD8ftPGxQLWyiK0u0MKqGbAGjDGpqZG2DPLLwqEomEVjcaPqwR3ZBYRzgcbmyJqi1ks9mabwTzOhAVbwEeLNS7KJZQbmyJarFYrGZRxBEe2gCU0dHRhYUFhmF01kJYHpbNZrXbWZbdunUr+N11P9XFRx99hBA6cuSI3++XZVlnL7XRbnn48OG5ublbt27ptm/duvXtt98+cOBAq4pdPXjwYGJi4uHDh+a7bdiwYceOHSbyVxT70KFDkiSRjGkNgGNN8NWrcRnLpNgVgeAKEH3SjRCKx+PVnGz37t2bmJhACL333nuvvvoqbLx8+fLHH3+MKpWzgiJYn3766XPPPYc34to/GzZs+OqrrxqQVRTFhw8fxuNxXLpJV6bcep7G5mlVsavjx4//G6RnyrFjx8wDnatx4cIFRVFIIch6sV7sas+ePQhZmAXBUXRzADCrGB1iMK7V2biwPni93sbGyusg3VDzWHwCmlnH6fV6yXSuXuxfogodoM7YCDFWxuyiAwMDqHpYfQPLWzo63ZC9uGBKTafT5Do7Te3cJ4IgxGKxfD4fiUSwcdnn8yUSicnJyVQqBT5ZcA2Dn0BnVsa2Gd1o0AqdmG7IIYLBoC7Xk5ZwOBwKhb799ttmmqBpuuUu/nWPpXRDyWTS7/cnk8lQKIQdcVDRShCEmZmZUCgE0QzwjtRFQoK2MAzTQD6ilqcbKhaL6XQ6m83CSfE8PzIyYm8TFonH47gwg5be3t4dO3bQNA3RJ4R2p64BqzFUslAo6Eb/6H9ddrh3sjeIQXcWTqQbMg/yaFX0iSRJExMTOOeskfbMybOOcSrdEFhj8vk8z/PaPsdYZ5zjOBwRoigKTPbC4bCNKfdcSDdUM8jD+lpme2FZ9urVq7///nu1Hdp5VREB1VV5R5Zlr9ebz+c9Ho/JeioY2smyLMsyBGTZvqTN6XRDbbtezopgVsKaCS2kDpWD9YvQjU5PT7MsG4lEZFnWPeswnRMEwe/3l0qlcDhsYxfkQrqhtl0vZ1Gwf50/hHalq1wuJ5NJc3ugjvv37y8tLdXsVfr7+4eHh8FtYAu//PLLn3/+2dvb29fX19fX99hjj2lFWl1dXVtbgyLmzbSytLRkMmzD9PT07N+/v5mG6sWiYDt37ty2bZsL8hAAfF9GR0fhaS8UCrrCEsDRo0cvXrxYdxkQhNDGjRs5jltdXV1eXi4UCvCsI4S6u7v7+/vh69DQEM5ebBcvvviivQesyPLyspXdursbuXTNYEWw7u7uwcFBF4QhYIaHh3WP+sDAgHZtN+b1119HyIG4jXpLK7UbFi90e0afdO5lf3RovHDxeqVt18vVFMy4EI7QhhCV02PuzAiHw6dPn3ZNGC01BSMlBDqCOlROVVWIOOnq6uJ53s26H26C48F19Pb2joyMtDDIo5pgDMNIkkT0rVOwagMAjxC2UM/Pz4dCIUmSnKgp11pomlYUJZ1Of/PNN1euXMFGwrW1tRs3bty4caPlgmUyGRx9tj6qHD5SWFW5YDBo9AhFIhGjyq2PVBk1gzxaFX0SDAbX32vukcJqsauKEQ/5fN64qr+1BTFsoa7ok1OnTp06dcrNF42iKC+//HJrS+oRGsZ+8wk8fB6Px/Yju4PFII/nn38ePuzfv//s2bM7duxwYTalquqbb77p8XgKhQJZ2NapWPEkmKQ5MKamBFt2xSoTbUsulzPPNm1CIBDIZDLggB4cHIzFYk6cuyRJuIjX1NSUvcVVCG5iSeW0+eu1GB2vEHDcWMKFFtJkJmk4yNTUFN7y1FNPiaLYZFKDXC4HS3X6+vrgsIODgyRRQqfTVbYW1hAMBrV5yCmKEgRB53gtFos8z+fz+Y6zZBaLRax1VvLtjI2NHTx4ED57PB58sqqqfvLJJ+fOnVtZWcE7b926de/evbt37/Z4PHgFLc/z+LOiKHgqqChKoVD44Ycfbty4sbq6ig/yyiuvvPvuu511VQmVsaia2ChikpEGkq52XBenw0qQR82DSJJUMcquXjZv3jw1NdVZo3SCOXXEWOJ+wFioMZfLQTJMjuM6fZpRM1tzXUfLZrOxWOzYsWMW54o9PT2jo6NTU1OSJBFNW5dYHVgC8XgcqjpC6RYYGqmqCmNOjuPWQYoosFgaU4wwDBOPx5sf2mmHkaqq4svFsmynXzqCFepTOYSQLMuxWEy3SBSmdtFodN3khyJBHgSHqFvlAFVVFUXJZrMDAwM8z5PHkUCwyP8DWJ4mwYS4zwEAAAAASUVORK5CYII=\"/>"
      ],
      "text/plain": [
       "Chain([‹4C 4E 4A 1♩›, ‹4E 4G 4A 0.333♩›])"
      ]
     },
     "execution_count": 8,
     "metadata": {},
     "output_type": "execute_result"
    }
   ],
   "source": [
    "ch = Chain([\n",
    "    \"4C,4E,4A~:1\", \n",
    "    \"4E,4G,4A:1/3\"\n",
    "])\n",
    "ch"
   ]
  },
  {
   "cell_type": "code",
   "execution_count": null,
   "id": "fa13d483-2ea0-4bc2-aafb-a5f62b5374e0",
   "metadata": {},
   "outputs": [],
   "source": []
  }
 ],
 "metadata": {
  "kernelspec": {
   "display_name": "Python 3 (ipykernel)",
   "language": "python",
   "name": "python3"
  },
  "language_info": {
   "codemirror_mode": {
    "name": "ipython",
    "version": 3
   },
   "file_extension": ".py",
   "mimetype": "text/x-python",
   "name": "python",
   "nbconvert_exporter": "python",
   "pygments_lexer": "ipython3",
   "version": "3.11.6"
  }
 },
 "nbformat": 4,
 "nbformat_minor": 5
}
