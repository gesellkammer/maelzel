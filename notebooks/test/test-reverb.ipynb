{
 "cells": [
  {
   "cell_type": "code",
   "execution_count": 1,
   "id": "f45635e1-f983-4ce1-ab78-4fd6dd83447f",
   "metadata": {},
   "outputs": [],
   "source": [
    "from maelzel.core import *"
   ]
  },
  {
   "cell_type": "code",
   "execution_count": 2,
   "id": "0db23665-527d-4390-96b7-e48254b6e665",
   "metadata": {},
   "outputs": [
    {
     "data": {
      "text/html": [
       "Preset: <b>Crotales</b>\n",
       "<br>\n",
       "<code style=\"font-size: 90%\">  <span style=\"color:#A0A0A0;font-size:96%\">(properties={'sfpath': '/home/em/Lib/snd/sf2/MSCrotales2.sf2', 'ampDivisor': 0, 'reverbInstr': '.zitarev'}, numouts=2, numsignals=2)\n",
       "</span></code>\n",
       "<span style=\"font-size:96%\"><strong>init</strong></span><br>\n",
       "<span style=\"font-size:90%\"><div class=\"highlight\" style=\"background: #f8f8f8\"><pre style=\"line-height: 125%;\"><span></span><code><span style=\"color: #BBB\">  </span><span style=\"color: #B00040\">i</span>__SfTable__<span style=\"color: #BBB\"> </span>sfloadonce<span style=\"color: #BBB\"> </span><span style=\"color: #BA2121\">&quot;/home/em/Lib/snd/sf2/MSCrotales2.sf2&quot;</span>\n",
       "</code></pre></div>\n",
       "</span>\n",
       "<span style=\"font-size:96%\"><strong>code</strong></span><br>\n",
       "<span style=\"font-size:90%\"><pre>  |<span style=\"color:#cccc00\">ktransp</span><span style=\"color:#A0A0A0\"><i>@transpose</i></span>=<span style=\"color:#6666E0\">0.0</span>, <span style=\"color:#cccc00\">ipitchlag</span>=<span style=\"color:#6666E0\">0.1</span>, <span style=\"color:#cccc00\">ivel</span>=<span style=\"color:#6666E0\">-1</span>, <span style=\"color:#cccc00\">kwet</span>=<span style=\"color:#6666E0\">0.0</span>|</pre></span>\n",
       "<span style=\"font-size:90%\"><div class=\"highlight\" style=\"background: #f8f8f8\"><pre style=\"line-height: 125%;\"><span></span><code><span style=\"color: #BBB\">  </span><span style=\"color: #B00040\">i</span>presetidx<span style=\"color: #BBB\"> </span>sfpresetindex<span style=\"color: #BBB\"> </span><span style=\"color: #BA2121\">&quot;/home/em/Lib/snd/sf2/MSCrotales2.sf2&quot;</span>,<span style=\"color: #BBB\"> </span><span style=\"color: #666\">0</span>,<span style=\"color: #BBB\"> </span><span style=\"color: #666\">9</span>\n",
       "<span style=\"color: #BBB\">  </span><span style=\"color: #B00040\">i</span>amp0_<span style=\"color: #BBB\"> </span><span style=\"color: #666\">=</span><span style=\"color: #BBB\"> </span><span style=\"color: #008000\">p</span>(<span style=\"color: #B00040\">i</span>dataidx_<span style=\"color: #BBB\"> </span><span style=\"color: #666\">+</span><span style=\"color: #BBB\"> </span><span style=\"color: #666\">2</span>)\n",
       "<span style=\"color: #BBB\">  </span><span style=\"color: #B00040\">i</span>note0_<span style=\"color: #BBB\"> </span><span style=\"color: #666\">=</span><span style=\"color: #BBB\"> </span><span style=\"color: #008000\">round</span>(<span style=\"color: #008000\">p</span>(<span style=\"color: #B00040\">i</span>dataidx_<span style=\"color: #BBB\"> </span><span style=\"color: #666\">+</span><span style=\"color: #BBB\"> </span><span style=\"color: #666\">1</span>))\n",
       "<span style=\"color: #BBB\">  </span><span style=\"color: #B00040\">k</span>pitch2<span style=\"color: #BBB\"> </span><span style=\"color: #666\">=</span><span style=\"color: #BBB\"> </span><span style=\"color: #008000\">lag</span>:<span style=\"color: #B00040\">k</span>(<span style=\"color: #B00040\">k</span>pitch<span style=\"color: #BBB\"> </span><span style=\"color: #666\">+</span><span style=\"color: #BBB\"> </span><span style=\"color: #B00040\">k</span>transp,<span style=\"color: #BBB\"> </span><span style=\"color: #B00040\">i</span>pitchlag)\n",
       "<span style=\"color: #BBB\">  </span><span style=\"color: #B00040\">i</span>ampdiv_<span style=\"color: #BBB\"> </span><span style=\"color: #666\">=</span><span style=\"color: #BBB\"> </span><span style=\"color: #666\">16384</span>\n",
       "<span style=\"color: #BBB\">  </span><span style=\"color: #008000; font-weight: bold\">if</span><span style=\"color: #BBB\"> </span><span style=\"color: #B00040\">i</span>vel<span style=\"color: #BBB\"> </span><span style=\"color: #666\">&lt;</span><span style=\"color: #BBB\"> </span><span style=\"color: #666\">0</span><span style=\"color: #BBB\"> </span><span style=\"color: #008000; font-weight: bold\">then</span>\n",
       "<span style=\"color: #BBB\">      </span><span style=\"color: #B00040\">i</span>vel<span style=\"color: #BBB\"> </span>_linexp<span style=\"color: #BBB\"> </span><span style=\"color: #008000\">dbamp</span>(<span style=\"color: #B00040\">i</span>amp0_),<span style=\"color: #BBB\"> </span><span style=\"color: #666\">2.6</span>,<span style=\"color: #BBB\"> </span><span style=\"color: #666\">-72</span>,<span style=\"color: #BBB\"> </span><span style=\"color: #666\">0</span>,<span style=\"color: #BBB\"> </span><span style=\"color: #666\">1</span>,<span style=\"color: #BBB\"> </span><span style=\"color: #666\">127</span>\n",
       "<span style=\"color: #BBB\">  </span><span style=\"color: #008000; font-weight: bold\">endif</span>\n",
       "<span style=\"color: #BBB\">  </span><span style=\"color: #B00040\">a</span>out1,<span style=\"color: #BBB\"> </span><span style=\"color: #B00040\">a</span>out2<span style=\"color: #BBB\"> </span><span style=\"color: #008000\">sfplay</span><span style=\"color: #BBB\"> </span><span style=\"color: #B00040\">i</span>vel,<span style=\"color: #BBB\"> </span><span style=\"color: #B00040\">i</span>note0_,<span style=\"color: #BBB\"> </span><span style=\"color: #B00040\">k</span>amp<span style=\"color: #666\">/</span><span style=\"color: #B00040\">i</span>ampdiv_,<span style=\"color: #BBB\"> </span><span style=\"color: #008000\">mtof</span>:<span style=\"color: #B00040\">k</span>(<span style=\"color: #B00040\">k</span>pitch2),<span style=\"color: #BBB\"> </span><span style=\"color: #B00040\">i</span>presetidx,<span style=\"color: #BBB\"> </span><span style=\"color: #666\">1</span>\n",
       "<span style=\"color: #BBB\">  </span><span style=\"color: #B00040\">k</span>pos<span style=\"color: #BBB\"> </span><span style=\"color: #666\">=</span><span style=\"color: #BBB\"> </span><span style=\"color: #B00040\">k</span>pos<span style=\"color: #BBB\"> </span><span style=\"color: #666\">==</span><span style=\"color: #BBB\"> </span><span style=\"color: #666\">-1</span><span style=\"color: #BBB\"> </span><span style=\"color: #666\">?</span><span style=\"color: #BBB\"> </span><span style=\"color: #666\">0.5</span><span style=\"color: #BBB\"> </span><span style=\"color: #666\">:</span><span style=\"color: #BBB\"> </span><span style=\"color: #B00040\">k</span>pos\n",
       "<span style=\"color: #BBB\">  </span><span style=\"color: #B00040\">a</span>_outL,<span style=\"color: #BBB\"> </span><span style=\"color: #B00040\">a</span>_outR<span style=\"color: #BBB\"> </span><span style=\"color: #666\">=</span><span style=\"color: #BBB\"> </span>panstereo(<span style=\"color: #B00040\">a</span>out1,<span style=\"color: #BBB\"> </span><span style=\"color: #B00040\">a</span>out2,<span style=\"color: #BBB\"> </span><span style=\"color: #B00040\">k</span>pos)\n",
       "<span style=\"color: #BBB\">  </span><span style=\"color: #008000; font-weight: bold\">if</span><span style=\"color: #BBB\"> </span><span style=\"color: #B00040\">k</span>wet<span style=\"color: #BBB\"> </span><span style=\"color: #666\">&gt;</span><span style=\"color: #BBB\"> </span><span style=\"color: #666\">0</span><span style=\"color: #BBB\"> </span><span style=\"color: #008000; font-weight: bold\">then</span>\n",
       "<span style=\"color: #BBB\">      </span><span style=\"color: #008000\">chnmix</span><span style=\"color: #BBB\"> </span><span style=\"color: #B00040\">a</span>_outL<span style=\"color: #BBB\"> </span><span style=\"color: #666\">*</span><span style=\"color: #BBB\"> </span><span style=\"color: #B00040\">k</span>wet,<span style=\"color: #BBB\"> </span><span style=\"color: #BA2121\">&quot;.zitarev.1&quot;</span>\n",
       "<span style=\"color: #BBB\">      </span><span style=\"color: #008000\">chnmix</span><span style=\"color: #BBB\"> </span><span style=\"color: #B00040\">a</span>_outR<span style=\"color: #BBB\"> </span><span style=\"color: #666\">*</span><span style=\"color: #BBB\"> </span><span style=\"color: #B00040\">k</span>wet,<span style=\"color: #BBB\"> </span><span style=\"color: #BA2121\">&quot;.zitarev.2&quot;</span>\n",
       "<span style=\"color: #BBB\">      </span><span style=\"color: #B00040\">k</span>dry<span style=\"color: #BBB\"> </span><span style=\"color: #666\">=</span><span style=\"color: #BBB\"> </span><span style=\"color: #666\">1</span><span style=\"color: #BBB\"> </span><span style=\"color: #666\">-</span><span style=\"color: #BBB\"> </span><span style=\"color: #B00040\">k</span>wet\n",
       "<span style=\"color: #BBB\">      </span><span style=\"color: #B00040\">a</span>_outL<span style=\"color: #BBB\"> </span><span style=\"color: #666\">*=</span><span style=\"color: #BBB\"> </span><span style=\"color: #B00040\">k</span>dry\n",
       "<span style=\"color: #BBB\">      </span><span style=\"color: #B00040\">a</span>_outR<span style=\"color: #BBB\"> </span><span style=\"color: #666\">*=</span><span style=\"color: #BBB\"> </span><span style=\"color: #B00040\">k</span>dry\n",
       "<span style=\"color: #BBB\">  </span><span style=\"color: #008000; font-weight: bold\">endif</span>\n",
       "<span style=\"color: #BBB\">  </span><span style=\"color: #008000\">outch</span><span style=\"color: #BBB\"> </span><span style=\"color: #B00040\">i</span>chan,<span style=\"color: #BBB\"> </span><span style=\"color: #B00040\">a</span>_outL,<span style=\"color: #BBB\"> </span><span style=\"color: #B00040\">i</span>chan<span style=\"color: #BBB\"> </span><span style=\"color: #666\">+</span><span style=\"color: #BBB\"> </span><span style=\"color: #666\">1</span>,<span style=\"color: #BBB\"> </span><span style=\"color: #B00040\">a</span>_outR\n",
       "</code></pre></div>\n",
       "</span>\n",
       "<span style=\"font-size:96%\"><strong>epilogue</strong></span><br>\n",
       "<span style=\"font-size:90%\"><div class=\"highlight\" style=\"background: #f8f8f8\"><pre style=\"line-height: 125%;\"><span></span><code><span style=\"color: #BBB\">  </span>turnoffWhenSilent<span style=\"color: #BBB\"> </span><span style=\"color: #B00040\">a</span>out1\n",
       "</code></pre></div>\n",
       "</span>"
      ],
      "text/plain": [
       "Preset: Crotales  \n",
       "    routing=False, properties={'sfpath': '/home/em/Lib/snd/sf2/MSCrotales2.sf2', 'ampDivisor': 0, 'reverbInstr': '.zitarev'}\n",
       "  init: i__SfTable__ sfloadonce \"/home/em/Lib/snd/sf2/MSCrotales2.sf2\"\n",
       "  |ktransp=0.0, ipitchlag=0.1, ivel=-1, kwet=0.0|\n",
       "  ipresetidx sfpresetindex \"/home/em/Lib/snd/sf2/MSCrotales2.sf2\", 0, 9\n",
       "  iamp0_ = p(idataidx_ + 2)\n",
       "  inote0_ = round(p(idataidx_ + 1))\n",
       "  kpitch2 = lag:k(kpitch + ktransp, ipitchlag)\n",
       "  iampdiv_ = 16384\n",
       "  if ivel < 0 then\n",
       "      ivel _linexp dbamp(iamp0_), 2.6, -72, 0, 1, 127\n",
       "  endif\n",
       "  aout1, aout2 sfplay ivel, inote0_, kamp/iampdiv_, mtof:k(kpitch2), ipresetidx, 1\n",
       "  kpos = kpos == -1 ? 0.5 : kpos\n",
       "  a_outL, a_outR = panstereo(aout1, aout2, kpos)\n",
       "  if kwet > 0 then\n",
       "      chnmix a_outL * kwet, \".zitarev.1\"\n",
       "      chnmix a_outR * kwet, \".zitarev.2\"\n",
       "      kdry = 1 - kwet\n",
       "      a_outL *= kdry\n",
       "      a_outR *= kdry\n",
       "  endif\n",
       "  outch ichan, a_outL, ichan + 1, a_outR\n",
       "  epilogue:\n",
       "    turnoffWhenSilent aout1"
      ]
     },
     "execution_count": 2,
     "metadata": {},
     "output_type": "execute_result"
    }
   ],
   "source": [
    "instr = defSoundfont(\"/home/em/Lib/snd/sf2/MSCrotales2.sf2\", reverb=True)\n",
    "instr"
   ]
  },
  {
   "cell_type": "code",
   "execution_count": 3,
   "id": "d7038e30-9bd9-451b-97ad-ac5f97a8af37",
   "metadata": {},
   "outputs": [],
   "source": [
    "w = getWorkspace()"
   ]
  },
  {
   "cell_type": "code",
   "execution_count": 13,
   "id": "6cb5c695-a79b-41e2-96d2-6e791608bb33",
   "metadata": {},
   "outputs": [],
   "source": [
    "w.setReverb(decay=3)"
   ]
  },
  {
   "cell_type": "code",
   "execution_count": 12,
   "id": "b4bf32e3-643e-48f1-a62c-81e4737171dc",
   "metadata": {},
   "outputs": [
    {
     "data": {
      "application/vnd.jupyter.widget-view+json": {
       "model_id": "3bf446f7ba1e42e790bdbea1c2a2459a",
       "version_major": 2,
       "version_minor": 0
      },
      "text/plain": [
       "Button(description='Stop', style=ButtonStyle())"
      ]
     },
     "metadata": {},
     "output_type": "display_data"
    },
    {
     "data": {
      "application/vnd.jupyter.widget-view+json": {
       "model_id": "591f7baed45743b5b72423449859cebc",
       "version_major": 2,
       "version_minor": 0
      },
      "text/plain": [
       "Output()"
      ]
     },
     "metadata": {},
     "output_type": "display_data"
    },
    {
     "data": {
      "text/html": [
       "<small><span style=\"\"><b>SynthGroup</b></span>(synths=<code style=\"\">18</code>)</small>\n",
       "<p><small>Instr: <strong style=\"color:MediumSeaGreen\">preset:Crotales</strong> - <b>18</b> synths</small></p>\n",
       "<table style=\"font-size: smaller\"<thead><tr><th style=\"text-align:left\">p1</th><th style=\"text-align:left\">start</th><th style=\"text-align:left\">dur</th><th style=\"text-align:left\">p4</th><th style=\"text-align:left\">kpos</th><th style=\"text-align:left\">kgain</th><th style=\"text-align:left\">idataidx_</th><th style=\"text-align:left\">inumbps</th><th style=\"text-align:left\">ibplen</th><th style=\"text-align:left\">ichan</th><th style=\"text-align:left\">ifadein</th><th style=\"text-align:left\">ifadeout</th><th style=\"text-align:left\">ipchintrp_</th><th style=\"text-align:left\">ifadekind</th><th style=\"text-align:left\">ktransp</th><th style=\"text-align:left\">ipitchlag</th><th style=\"text-align:left\">ivel</th><th style=\"text-align:left\">kwet</th><th style=\"text-align:left\">19</th><th style=\"text-align:left\">20</th><th style=\"text-align:left\">21</th><th style=\"text-align:left\">22</th><th style=\"text-align:left\">23</th><th style=\"text-align:left\">...</th></tr></thead><tbody><tr><td style=\"text-align:left\">401.0056 <b>‖</b></td><td style=\"text-align:left\">0.038</td><td style=\"text-align:left\">21.000</td><td style=\"text-align:left\">0</td><td style=\"text-align:left\">0.5</td><td style=\"text-align:left\">1</td><td style=\"text-align:left\">19</td><td style=\"text-align:left\">3</td><td style=\"text-align:left\">3</td><td style=\"text-align:left\">1</td><td style=\"text-align:left\">0.02</td><td style=\"text-align:left\">0.02</td><td style=\"text-align:left\">0</td><td style=\"text-align:left\">1</td><td style=\"text-align:left\">0</td><td style=\"text-align:left\">0.1</td><td style=\"text-align:left\">-1</td><td style=\"text-align:left\">0.8</td><td style=\"text-align:left\">0</td><td style=\"text-align:left\">90</td><td style=\"text-align:left\">0.51518</td><td style=\"text-align:left\">1</td><td style=\"text-align:left\">...</td></tr><tr><td style=\"text-align:left\">401.0057 <b>‖</b></td><td style=\"text-align:left\">1.038</td><td style=\"text-align:left\">21.000</td><td style=\"text-align:left\">0</td><td style=\"text-align:left\">0.5</td><td style=\"text-align:left\">1</td><td style=\"text-align:left\">19</td><td style=\"text-align:left\">3</td><td style=\"text-align:left\">3</td><td style=\"text-align:left\">1</td><td style=\"text-align:left\">0.02</td><td style=\"text-align:left\">0.02</td><td style=\"text-align:left\">0</td><td style=\"text-align:left\">1</td><td style=\"text-align:left\">0</td><td style=\"text-align:left\">0.1</td><td style=\"text-align:left\">-1</td><td style=\"text-align:left\">0.8</td><td style=\"text-align:left\">0</td><td style=\"text-align:left\">91</td><td style=\"text-align:left\">0.51518</td><td style=\"text-align:left\">1</td><td style=\"text-align:left\">...</td></tr><tr><td style=\"text-align:left\">401.0058 <b>‖</b></td><td style=\"text-align:left\">2.038</td><td style=\"text-align:left\">21.000</td><td style=\"text-align:left\">0</td><td style=\"text-align:left\">0.5</td><td style=\"text-align:left\">1</td><td style=\"text-align:left\">19</td><td style=\"text-align:left\">3</td><td style=\"text-align:left\">3</td><td style=\"text-align:left\">1</td><td style=\"text-align:left\">0.02</td><td style=\"text-align:left\">0.02</td><td style=\"text-align:left\">0</td><td style=\"text-align:left\">1</td><td style=\"text-align:left\">0</td><td style=\"text-align:left\">0.1</td><td style=\"text-align:left\">-1</td><td style=\"text-align:left\">0.8</td><td style=\"text-align:left\">0</td><td style=\"text-align:left\">92</td><td style=\"text-align:left\">0.51518</td><td style=\"text-align:left\">1</td><td style=\"text-align:left\">...</td></tr><tr><td style=\"text-align:left\">401.0059 <b>‖</b></td><td style=\"text-align:left\">3.038</td><td style=\"text-align:left\">21.000</td><td style=\"text-align:left\">0</td><td style=\"text-align:left\">0.5</td><td style=\"text-align:left\">1</td><td style=\"text-align:left\">19</td><td style=\"text-align:left\">3</td><td style=\"text-align:left\">3</td><td style=\"text-align:left\">1</td><td style=\"text-align:left\">0.02</td><td style=\"text-align:left\">0.02</td><td style=\"text-align:left\">0</td><td style=\"text-align:left\">1</td><td style=\"text-align:left\">0</td><td style=\"text-align:left\">0.1</td><td style=\"text-align:left\">-1</td><td style=\"text-align:left\">0.8</td><td style=\"text-align:left\">0</td><td style=\"text-align:left\">93</td><td style=\"text-align:left\">0.51518</td><td style=\"text-align:left\">1</td><td style=\"text-align:left\">...</td></tr><tr><td style=\"text-align:left\">...</td></tr></tbody></table>"
      ],
      "text/plain": [
       "SynthGroup(n=18)\n",
       "    Synth(‖ preset:Crotales=401.0056 start=85.923 dur=21 kpos=0.5 kgain=1 idataidx_=19 inumbps=3 ibplen=3 ichan=1 ifadein=0.02 ifadeout=0.02 ipchintrp_=0 ifadekind=1 ktransp=0 ipitchlag=0.1 ivel=-1 kwet=0.8 p19=0 p20=90 p21=0.515178 p22=1 p23=90 …)\n",
       "    Synth(‖ preset:Crotales=401.0057 start=86.923 dur=21 kpos=0.5 kgain=1 idataidx_=19 inumbps=3 ibplen=3 ichan=1 ifadein=0.02 ifadeout=0.02 ipchintrp_=0 ifadekind=1 ktransp=0 ipitchlag=0.1 ivel=-1 kwet=0.8 p19=0 p20=91 p21=0.515178 p22=1 p23=91 …)\n",
       "    Synth(‖ preset:Crotales=401.0058 start=87.923 dur=21 kpos=0.5 kgain=1 idataidx_=19 inumbps=3 ibplen=3 ichan=1 ifadein=0.02 ifadeout=0.02 ipchintrp_=0 ifadekind=1 ktransp=0 ipitchlag=0.1 ivel=-1 kwet=0.8 p19=0 p20=92 p21=0.515178 p22=1 p23=92 …)\n",
       "    Synth(‖ preset:Crotales=401.0059 start=88.923 dur=21 kpos=0.5 kgain=1 idataidx_=19 inumbps=3 ibplen=3 ichan=1 ifadein=0.02 ifadeout=0.02 ipchintrp_=0 ifadekind=1 ktransp=0 ipitchlag=0.1 ivel=-1 kwet=0.8 p19=0 p20=93 p21=0.515178 p22=1 p23=93 …)\n",
       "    Synth(‖ preset:Crotales=401.006 start=89.923 dur=21 kpos=0.5 kgain=1 idataidx_=19 inumbps=3 ibplen=3 ichan=1 ifadein=0.02 ifadeout=0.02 ipchintrp_=0 ifadekind=1 ktransp=0 ipitchlag=0.1 ivel=-1 kwet=0.8 p19=0 p20=94 p21=0.515178 p22=1 p23=94 …)\n",
       "    Synth(‖ preset:Crotales=401.0061 start=90.923 dur=21 kpos=0.5 kgain=1 idataidx_=19 inumbps=3 ibplen=3 ichan=1 ifadein=0.02 ifadeout=0.02 ipchintrp_=0 ifadekind=1 ktransp=0 ipitchlag=0.1 ivel=-1 kwet=0.8 p19=0 p20=95 p21=0.515178 p22=1 p23=95 …)\n",
       "    Synth(‖ preset:Crotales=401.0062 start=91.923 dur=21 kpos=0.5 kgain=1 idataidx_=19 inumbps=3 ibplen=3 ichan=1 ifadein=0.02 ifadeout=0.02 ipchintrp_=0 ifadekind=1 ktransp=0 ipitchlag=0.1 ivel=-1 kwet=0.8 p19=0 p20=96 p21=0.515178 p22=1 p23=96 …)\n",
       "    Synth(‖ preset:Crotales=401.0063 start=92.923 dur=21 kpos=0.5 kgain=1 idataidx_=19 inumbps=3 ibplen=3 ichan=1 ifadein=0.02 ifadeout=0.02 ipchintrp_=0 ifadekind=1 ktransp=0 ipitchlag=0.1 ivel=-1 kwet=0.8 p19=0 p20=97 p21=0.515178 p22=1 p23=97 …)\n",
       "    Synth(‖ preset:Crotales=401.0064 start=93.923 dur=21 kpos=0.5 kgain=1 idataidx_=19 inumbps=3 ibplen=3 ichan=1 ifadein=0.02 ifadeout=0.02 ipchintrp_=0 ifadekind=1 ktransp=0 ipitchlag=0.1 ivel=-1 kwet=0.8 p19=0 p20=98 p21=0.515178 p22=1 p23=98 …)\n",
       "    Synth(‖ preset:Crotales=401.0065 start=94.923 dur=21 kpos=0.5 kgain=1 idataidx_=19 inumbps=3 ibplen=3 ichan=1 ifadein=0.02 ifadeout=0.02 ipchintrp_=0 ifadekind=1 ktransp=0 ipitchlag=0.1 ivel=-1 kwet=0.8 p19=0 p20=99 p21=0.515178 p22=1 p23=99 …)\n",
       "    Synth(‖ preset:Crotales=401.0066 start=95.923 dur=21 kpos=0.5 kgain=1 idataidx_=19 inumbps=3 ibplen=3 ichan=1 ifadein=0.02 ifadeout=0.02 ipchintrp_=0 ifadekind=1 ktransp=0 ipitchlag=0.1 ivel=-1 kwet=0.8 p19=0 p20=100 p21=0.515178 p22=1 p23=100 …)\n",
       "    Synth(‖ preset:Crotales=401.0067 start=96.923 dur=21 kpos=0.5 kgain=1 idataidx_=19 inumbps=3 ibplen=3 ichan=1 ifadein=0.02 ifadeout=0.02 ipchintrp_=0 ifadekind=1 ktransp=0 ipitchlag=0.1 ivel=-1 kwet=0.8 p19=0 p20=101 p21=0.515178 p22=1 p23=101 …)\n",
       "    Synth(‖ preset:Crotales=401.0068 start=97.923 dur=21 kpos=0.5 kgain=1 idataidx_=19 inumbps=3 ibplen=3 ichan=1 ifadein=0.02 ifadeout=0.02 ipchintrp_=0 ifadekind=1 ktransp=0 ipitchlag=0.1 ivel=-1 kwet=0.8 p19=0 p20=102 p21=0.515178 p22=1 p23=102 …)\n",
       "    Synth(‖ preset:Crotales=401.0069 start=98.923 dur=21 kpos=0.5 kgain=1 idataidx_=19 inumbps=3 ibplen=3 ichan=1 ifadein=0.02 ifadeout=0.02 ipchintrp_=0 ifadekind=1 ktransp=0 ipitchlag=0.1 ivel=-1 kwet=0.8 p19=0 p20=103 p21=0.515178 p22=1 p23=103 …)\n",
       "    Synth(‖ preset:Crotales=401.007 start=99.923 dur=21 kpos=0.5 kgain=1 idataidx_=19 inumbps=3 ibplen=3 ichan=1 ifadein=0.02 ifadeout=0.02 ipchintrp_=0 ifadekind=1 ktransp=0 ipitchlag=0.1 ivel=-1 kwet=0.8 p19=0 p20=104 p21=0.515178 p22=1 p23=104 …)\n",
       "    Synth(‖ preset:Crotales=401.0071 start=100.923 dur=21 kpos=0.5 kgain=1 idataidx_=19 inumbps=3 ibplen=3 ichan=1 ifadein=0.02 ifadeout=0.02 ipchintrp_=0 ifadekind=1 ktransp=0 ipitchlag=0.1 ivel=-1 kwet=0.8 p19=0 p20=105 p21=0.515178 p22=1 p23=105 …)\n",
       "    Synth(‖ preset:Crotales=401.0072 start=101.923 dur=21 kpos=0.5 kgain=1 idataidx_=19 inumbps=3 ibplen=3 ichan=1 ifadein=0.02 ifadeout=0.02 ipchintrp_=0 ifadekind=1 ktransp=0 ipitchlag=0.1 ivel=-1 kwet=0.8 p19=0 p20=106 p21=0.515178 p22=1 p23=106 …)\n",
       "    Synth(‖ preset:Crotales=401.0073 start=102.923 dur=21 kpos=0.5 kgain=1 idataidx_=19 inumbps=3 ibplen=3 ichan=1 ifadein=0.02 ifadeout=0.02 ipchintrp_=0 ifadekind=1 ktransp=0 ipitchlag=0.1 ivel=-1 kwet=0.8 p19=0 p20=107 p21=0.515178 p22=1 p23=107 …)"
      ]
     },
     "execution_count": 12,
     "metadata": {},
     "output_type": "execute_result"
    }
   ],
   "source": [
    "ch = Chain([Note(m, dur=1) for m in range(90, 108)])\n",
    "ch.play(instr=instr.name, kwet=0.8, sustain=20)"
   ]
  },
  {
   "cell_type": "code",
   "execution_count": 10,
   "id": "823c4083-fe6c-4246-b70c-88fd98ef6474",
   "metadata": {},
   "outputs": [
    {
     "data": {
      "application/vnd.jupyter.widget-view+json": {
       "model_id": "ba4ff1629de442e6860f1dab66fe6ea4",
       "version_major": 2,
       "version_minor": 0
      },
      "text/plain": [
       "Button(description='Stop', style=ButtonStyle())"
      ]
     },
     "metadata": {},
     "output_type": "display_data"
    },
    {
     "data": {
      "application/vnd.jupyter.widget-view+json": {
       "model_id": "1e65369761204cc6841aca0d23ac34ba",
       "version_major": 2,
       "version_minor": 0
      },
      "text/plain": [
       "FloatSlider(value=1.0, description='kchan', layout=Layout(width='80%'), max=2.0, readout_format='.3f', step=0.…"
      ]
     },
     "metadata": {},
     "output_type": "display_data"
    },
    {
     "data": {
      "application/vnd.jupyter.widget-view+json": {
       "model_id": "eb6663949ae246cdbeede6d861815539",
       "version_major": 2,
       "version_minor": 0
      },
      "text/plain": [
       "FloatSlider(value=0.2, description='kdamp', layout=Layout(width='80%'), max=1.0, readout_format='.3f', step=0.…"
      ]
     },
     "metadata": {},
     "output_type": "display_data"
    },
    {
     "data": {
      "application/vnd.jupyter.widget-view+json": {
       "model_id": "d88104d107854d5ea58a511a6a9898c9",
       "version_major": 2,
       "version_minor": 0
      },
      "text/plain": [
       "FloatSlider(value=30.0, description='kdecay', layout=Layout(width='80%'), max=500.0, readout_format='d', step=…"
      ]
     },
     "metadata": {},
     "output_type": "display_data"
    },
    {
     "data": {
      "application/vnd.jupyter.widget-view+json": {
       "model_id": "1daab762fa4741c2a87dda1b80a0de1a",
       "version_major": 2,
       "version_minor": 0
      },
      "text/plain": [
       "FloatSlider(value=60.0, description='kdelayms', layout=Layout(width='80%'), max=1000.0, readout_format='d', st…"
      ]
     },
     "metadata": {},
     "output_type": "display_data"
    },
    {
     "data": {
      "application/vnd.jupyter.widget-view+json": {
       "model_id": "1d046722f7814519b48e28b3327c1dde",
       "version_major": 2,
       "version_minor": 0
      },
      "text/plain": [
       "FloatSlider(value=-6.0, description='kgaindb', layout=Layout(width='80%'), max=0.0, min=-100.0, readout_format…"
      ]
     },
     "metadata": {},
     "output_type": "display_data"
    },
    {
     "data": {
      "application/vnd.jupyter.widget-view+json": {
       "model_id": "1b017c0c26d34205bbb8555558813a94",
       "version_major": 2,
       "version_minor": 0
      },
      "text/plain": [
       "FloatSlider(value=6000.0, description='khfdamp', layout=Layout(width='80%'), max=60000.0, readout_format='d', …"
      ]
     },
     "metadata": {},
     "output_type": "display_data"
    },
    {
     "data": {
      "application/vnd.jupyter.widget-view+json": {
       "model_id": "e4fa6cb75171466d9cadf53096c587ba",
       "version_major": 2,
       "version_minor": 0
      },
      "text/plain": [
       "FloatSlider(value=1.0, description='kwet', layout=Layout(width='80%'), max=2.0, readout_format='.3f', step=0.0…"
      ]
     },
     "metadata": {},
     "output_type": "display_data"
    }
   ],
   "source": [
    "r = w.reverbSynth()\n",
    "r.ui()"
   ]
  },
  {
   "cell_type": "code",
   "execution_count": 9,
   "id": "704db9b6-3aaa-4884-83e8-28a6761a1f0f",
   "metadata": {},
   "outputs": [],
   "source": [
    "r.set(khfdamp=6000, kdecaymid=18, kgaindb=-3)"
   ]
  },
  {
   "cell_type": "code",
   "execution_count": 30,
   "id": "0929eb12-2803-4c4b-80c6-689527f779da",
   "metadata": {},
   "outputs": [],
   "source": [
    "rev.set(kgaindb=-3, kdelayms=60, kdecaylow=4, kdecaymid=3, kwet=1)"
   ]
  },
  {
   "cell_type": "code",
   "execution_count": 6,
   "id": "aeaa0713-2cc8-4db5-acd7-44a4a4dd11df",
   "metadata": {},
   "outputs": [
    {
     "data": {
      "application/vnd.jupyter.widget-view+json": {
       "model_id": "0aa047077bb749b28afd8de569a3ab96",
       "version_major": 2,
       "version_minor": 0
      },
      "text/plain": [
       "Button(description='Stop Synths', style=ButtonStyle())"
      ]
     },
     "metadata": {},
     "output_type": "display_data"
    },
    {
     "data": {
      "application/vnd.jupyter.widget-view+json": {
       "model_id": "651a948cace44dec987fcae7eabaeaaa",
       "version_major": 2,
       "version_minor": 0
      },
      "text/plain": [
       "Output()"
      ]
     },
     "metadata": {},
     "output_type": "display_data"
    },
    {
     "data": {
      "text/html": [
       "Session(<strong style=\"color:MediumSeaGreen\">maelzel.core</strong>, backend=jack, outdev=Built-in Audio Analog Stereo, synths=1)"
      ],
      "text/plain": [
       "Session(maelzel.core, backend=jack, outdev=Built-in Audio Analog Stereo, synths=1)"
      ]
     },
     "execution_count": 6,
     "metadata": {},
     "output_type": "execute_result"
    }
   ],
   "source": [
    "s = Workspace.active.playSession()\n",
    "s"
   ]
  },
  {
   "cell_type": "code",
   "execution_count": 7,
   "id": "3380f551-d797-47bb-8af3-b37f834a5dd0",
   "metadata": {},
   "outputs": [
    {
     "data": {
      "text/plain": [
       "{'.mainreverb': Synth(▶ .mainreverb=401.0002 start=.163 dur=-1 kchan=1 kwet=0.5 kgaindb=-20 kdelayms=60 khfdamp=6000 kdecaylow=3 kdecaymid=2)}"
      ]
     },
     "execution_count": 7,
     "metadata": {},
     "output_type": "execute_result"
    }
   ],
   "source": [
    "s.namedEvents"
   ]
  },
  {
   "cell_type": "code",
   "execution_count": 5,
   "id": "e546ba90-ef2e-487a-b19c-f51c86cb3afc",
   "metadata": {},
   "outputs": [
    {
     "data": {
      "text/plain": [
       "{'.testAudio': Instr(.testAudio, imode=0, iperiod=1, igain=0.1, iverbose=1),\n",
       " '.playSample': Instr(.playSample, isndtab=0, istart=0, ifadein=0, ifadeout=0, kchan=1, speed(kspeed)=1, gain(kgain)=1, pan(kpan)=0.5, ixfade=-1),\n",
       " '.diskin': Instr(.diskin, Spath=0, ichan=1, gain(kgain)=1, speed(kspeed)=1, kpan=-1, ifadein=0, ifadeout=0, iloop=0, istart=0, iwsize=4),\n",
       " '.playbuf': Instr(.playbuf, itabnum=0, ioutchan=1, igain=1, iloop=0),\n",
       " '.playPartials': Instr(.playPartials, ifn=0, iskip=-1, inumrows=0, inumcols=0, kspeed=1, kloop=0, kminfreq=0, kmaxfreq=0, iflags=0, istart=0, istop=0, kfreqscale=1, ichan=1, kbwscale=1, kgain=1, iposition=0, kfreqoffset=0, kminbw=0, kmaxbw=1, kminamp=0),\n",
       " '.reverbstereo': Instr(.reverbstereo, kfeedback=0.85, kwet=0.8, ichan=1, kcutoff=12000),\n",
       " '.mainreverb': Instr(.mainreverb, kchan=1, kwet=0.5, kgaindb=-20, kdelayms=60, khfdamp=6000, kdecaylow=3, kdecaymid=2),\n",
       " 'preset:Clarinet1': Instr(preset:Clarinet1, position(kpos)=0, gain(kgain)=0, idataidx_=0, inumbps=0, ibplen=0, ichan=0, ifadein=0, ifadeout=0, ipchintrp_=0, ifadekind=0, transpose(ktransp)=0, ipitchlag=0.1, ivel=-1, kwet=0)}"
      ]
     },
     "execution_count": 5,
     "metadata": {},
     "output_type": "execute_result"
    }
   ],
   "source": [
    "s.instrs"
   ]
  },
  {
   "cell_type": "code",
   "execution_count": 10,
   "id": "8cad41d3-cbe6-4ddf-b111-e2e78a47a6bb",
   "metadata": {},
   "outputs": [],
   "source": [
    "pm = Workspace.active.presetManager()"
   ]
  },
  {
   "cell_type": "code",
   "execution_count": 12,
   "id": "0dd6f739-bbc5-42b2-977d-fbf64016b159",
   "metadata": {},
   "outputs": [
    {
     "data": {
      "text/plain": [
       "dict_keys(['simplesin', 'sin', 'tri', 'saw', 'sqr', 'pulse', '.click', '_clip_diskin', '_playtable', '.bandnoise', '.sing', '.piano', 'violin-non-vib', 'Clarinet1'])"
      ]
     },
     "execution_count": 12,
     "metadata": {},
     "output_type": "execute_result"
    }
   ],
   "source": [
    "pm.presetdefs.keys()"
   ]
  },
  {
   "cell_type": "code",
   "execution_count": null,
   "id": "b10df5fe-17ce-4698-867a-f202ca8025db",
   "metadata": {},
   "outputs": [],
   "source": []
  }
 ],
 "metadata": {
  "kernelspec": {
   "display_name": "Python 3 (ipykernel)",
   "language": "python",
   "name": "python3"
  },
  "language_info": {
   "codemirror_mode": {
    "name": "ipython",
    "version": 3
   },
   "file_extension": ".py",
   "mimetype": "text/x-python",
   "name": "python",
   "nbconvert_exporter": "python",
   "pygments_lexer": "ipython3",
   "version": "3.13.3"
  }
 },
 "nbformat": 4,
 "nbformat_minor": 5
}
