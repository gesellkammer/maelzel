{
 "cells": [
  {
   "cell_type": "code",
   "execution_count": 1,
   "id": "f45635e1-f983-4ce1-ab78-4fd6dd83447f",
   "metadata": {},
   "outputs": [],
   "source": [
    "from maelzel.core import *"
   ]
  },
  {
   "cell_type": "code",
   "execution_count": 2,
   "id": "0db23665-527d-4390-96b7-e48254b6e665",
   "metadata": {},
   "outputs": [
    {
     "data": {
      "text/html": [
       "Preset: <b>Crotales</b>\n",
       "<br>\n",
       "<code style=\"font-size: 90%\">  <span style=\"color:#A0A0A0;font-size:96%\">(properties={'sfpath': '/home/em/Lib/snd/sf2/MSCrotales2.sf2', 'ampDivisor': 0, 'reverbInstr': '.zitarev'}, numouts=2, numsignals=2)\n",
       "</span></code>\n",
       "<span style=\"font-size:96%\"><strong>init</strong></span><br>\n",
       "<span style=\"font-size:90%\"><div class=\"highlight\" style=\"background: #f8f8f8\"><pre style=\"line-height: 125%;\"><span></span><code><span style=\"color: #BBB\">  </span><span style=\"color: #B00040\">i</span>__SfTable__<span style=\"color: #BBB\"> </span>sfloadonce<span style=\"color: #BBB\"> </span><span style=\"color: #BA2121\">&quot;/home/em/Lib/snd/sf2/MSCrotales2.sf2&quot;</span>\n",
       "</code></pre></div>\n",
       "</span>\n",
       "<span style=\"font-size:96%\"><strong>code</strong></span><br>\n",
       "<span style=\"font-size:90%\"><pre>  |<span style=\"color:#cccc00\">ktransp</span><span style=\"color:#A0A0A0\"><i>@transpose</i></span>=<span style=\"color:#6666E0\">0.0</span>, <span style=\"color:#cccc00\">ipitchlag</span>=<span style=\"color:#6666E0\">0.1</span>, <span style=\"color:#cccc00\">ivel</span>=<span style=\"color:#6666E0\">-1</span>, <span style=\"color:#cccc00\">kwet</span>=<span style=\"color:#6666E0\">0.0</span>|</pre></span>\n",
       "<span style=\"font-size:90%\"><div class=\"highlight\" style=\"background: #f8f8f8\"><pre style=\"line-height: 125%;\"><span></span><code><span style=\"color: #BBB\">  </span><span style=\"color: #B00040\">i</span>presetidx<span style=\"color: #BBB\"> </span>sfpresetindex<span style=\"color: #BBB\"> </span><span style=\"color: #BA2121\">&quot;/home/em/Lib/snd/sf2/MSCrotales2.sf2&quot;</span>,<span style=\"color: #BBB\"> </span><span style=\"color: #666\">0</span>,<span style=\"color: #BBB\"> </span><span style=\"color: #666\">9</span>\n",
       "<span style=\"color: #BBB\">  </span><span style=\"color: #B00040\">i</span>amp0_<span style=\"color: #BBB\"> </span><span style=\"color: #666\">=</span><span style=\"color: #BBB\"> </span><span style=\"color: #008000\">p</span>(<span style=\"color: #B00040\">i</span>dataidx_<span style=\"color: #BBB\"> </span><span style=\"color: #666\">+</span><span style=\"color: #BBB\"> </span><span style=\"color: #666\">2</span>)\n",
       "<span style=\"color: #BBB\">  </span><span style=\"color: #B00040\">i</span>note0_<span style=\"color: #BBB\"> </span><span style=\"color: #666\">=</span><span style=\"color: #BBB\"> </span><span style=\"color: #008000\">round</span>(<span style=\"color: #008000\">p</span>(<span style=\"color: #B00040\">i</span>dataidx_<span style=\"color: #BBB\"> </span><span style=\"color: #666\">+</span><span style=\"color: #BBB\"> </span><span style=\"color: #666\">1</span>))\n",
       "<span style=\"color: #BBB\">  </span><span style=\"color: #B00040\">k</span>pitch2<span style=\"color: #BBB\"> </span><span style=\"color: #666\">=</span><span style=\"color: #BBB\"> </span><span style=\"color: #008000\">lag</span>:<span style=\"color: #B00040\">k</span>(<span style=\"color: #B00040\">k</span>pitch<span style=\"color: #BBB\"> </span><span style=\"color: #666\">+</span><span style=\"color: #BBB\"> </span><span style=\"color: #B00040\">k</span>transp,<span style=\"color: #BBB\"> </span><span style=\"color: #B00040\">i</span>pitchlag)\n",
       "<span style=\"color: #BBB\">  </span><span style=\"color: #B00040\">i</span>ampdiv_<span style=\"color: #BBB\"> </span><span style=\"color: #666\">=</span><span style=\"color: #BBB\"> </span><span style=\"color: #666\">16384</span>\n",
       "<span style=\"color: #BBB\">  </span><span style=\"color: #008000; font-weight: bold\">if</span><span style=\"color: #BBB\"> </span><span style=\"color: #B00040\">i</span>vel<span style=\"color: #BBB\"> </span><span style=\"color: #666\">&lt;</span><span style=\"color: #BBB\"> </span><span style=\"color: #666\">0</span><span style=\"color: #BBB\"> </span><span style=\"color: #008000; font-weight: bold\">then</span>\n",
       "<span style=\"color: #BBB\">      </span><span style=\"color: #B00040\">i</span>vel<span style=\"color: #BBB\"> </span>_linexp<span style=\"color: #BBB\"> </span><span style=\"color: #008000\">dbamp</span>(<span style=\"color: #B00040\">i</span>amp0_),<span style=\"color: #BBB\"> </span><span style=\"color: #666\">2.6</span>,<span style=\"color: #BBB\"> </span><span style=\"color: #666\">-72</span>,<span style=\"color: #BBB\"> </span><span style=\"color: #666\">0</span>,<span style=\"color: #BBB\"> </span><span style=\"color: #666\">1</span>,<span style=\"color: #BBB\"> </span><span style=\"color: #666\">127</span>\n",
       "<span style=\"color: #BBB\">  </span><span style=\"color: #008000; font-weight: bold\">endif</span>\n",
       "<span style=\"color: #BBB\">  </span><span style=\"color: #B00040\">a</span>out1,<span style=\"color: #BBB\"> </span><span style=\"color: #B00040\">a</span>out2<span style=\"color: #BBB\"> </span><span style=\"color: #008000\">sfplay</span><span style=\"color: #BBB\"> </span><span style=\"color: #B00040\">i</span>vel,<span style=\"color: #BBB\"> </span><span style=\"color: #B00040\">i</span>note0_,<span style=\"color: #BBB\"> </span><span style=\"color: #B00040\">k</span>amp<span style=\"color: #666\">/</span><span style=\"color: #B00040\">i</span>ampdiv_,<span style=\"color: #BBB\"> </span><span style=\"color: #008000\">mtof</span>:<span style=\"color: #B00040\">k</span>(<span style=\"color: #B00040\">k</span>pitch2),<span style=\"color: #BBB\"> </span><span style=\"color: #B00040\">i</span>presetidx,<span style=\"color: #BBB\"> </span><span style=\"color: #666\">1</span>\n",
       "<span style=\"color: #BBB\">  </span><span style=\"color: #B00040\">k</span>pos<span style=\"color: #BBB\"> </span><span style=\"color: #666\">=</span><span style=\"color: #BBB\"> </span><span style=\"color: #B00040\">k</span>pos<span style=\"color: #BBB\"> </span><span style=\"color: #666\">==</span><span style=\"color: #BBB\"> </span><span style=\"color: #666\">-1</span><span style=\"color: #BBB\"> </span><span style=\"color: #666\">?</span><span style=\"color: #BBB\"> </span><span style=\"color: #666\">0.5</span><span style=\"color: #BBB\"> </span><span style=\"color: #666\">:</span><span style=\"color: #BBB\"> </span><span style=\"color: #B00040\">k</span>pos\n",
       "<span style=\"color: #BBB\">  </span><span style=\"color: #B00040\">a</span>_outL,<span style=\"color: #BBB\"> </span><span style=\"color: #B00040\">a</span>_outR<span style=\"color: #BBB\"> </span><span style=\"color: #666\">=</span><span style=\"color: #BBB\"> </span>panstereo(<span style=\"color: #B00040\">a</span>out1,<span style=\"color: #BBB\"> </span><span style=\"color: #B00040\">a</span>out2,<span style=\"color: #BBB\"> </span><span style=\"color: #B00040\">k</span>pos)\n",
       "<span style=\"color: #BBB\">  </span><span style=\"color: #008000\">chnmix</span><span style=\"color: #BBB\"> </span><span style=\"color: #B00040\">a</span>_outL<span style=\"color: #BBB\"> </span><span style=\"color: #666\">*</span><span style=\"color: #BBB\"> </span><span style=\"color: #B00040\">k</span>wet,<span style=\"color: #BBB\"> </span><span style=\"color: #BA2121\">&quot;.zitarev.1&quot;</span>\n",
       "<span style=\"color: #BBB\">  </span><span style=\"color: #008000\">chnmix</span><span style=\"color: #BBB\"> </span><span style=\"color: #B00040\">a</span>_outR<span style=\"color: #BBB\"> </span><span style=\"color: #666\">*</span><span style=\"color: #BBB\"> </span><span style=\"color: #B00040\">k</span>wet,<span style=\"color: #BBB\"> </span><span style=\"color: #BA2121\">&quot;.zitarev.2&quot;</span>\n",
       "<span style=\"color: #BBB\">  </span><span style=\"color: #B00040\">k</span>dry<span style=\"color: #BBB\"> </span><span style=\"color: #666\">=</span><span style=\"color: #BBB\"> </span><span style=\"color: #666\">1</span><span style=\"color: #BBB\"> </span><span style=\"color: #666\">-</span><span style=\"color: #BBB\"> </span><span style=\"color: #B00040\">k</span>wet\n",
       "<span style=\"color: #BBB\">  </span><span style=\"color: #B00040\">a</span>_outL<span style=\"color: #BBB\"> </span><span style=\"color: #666\">*=</span><span style=\"color: #BBB\"> </span><span style=\"color: #B00040\">k</span>dry\n",
       "<span style=\"color: #BBB\">  </span><span style=\"color: #B00040\">a</span>_outR<span style=\"color: #BBB\"> </span><span style=\"color: #666\">*=</span><span style=\"color: #BBB\"> </span><span style=\"color: #B00040\">k</span>dry\n",
       "<span style=\"color: #BBB\">  </span><span style=\"color: #008000\">outch</span><span style=\"color: #BBB\"> </span><span style=\"color: #B00040\">i</span>chan,<span style=\"color: #BBB\"> </span><span style=\"color: #B00040\">a</span>_outL,<span style=\"color: #BBB\"> </span><span style=\"color: #B00040\">i</span>chan<span style=\"color: #BBB\"> </span><span style=\"color: #666\">+</span><span style=\"color: #BBB\"> </span><span style=\"color: #666\">1</span>,<span style=\"color: #BBB\"> </span><span style=\"color: #B00040\">a</span>_outR\n",
       "</code></pre></div>\n",
       "</span>\n",
       "<span style=\"font-size:96%\"><strong>epilogue</strong></span><br>\n",
       "<span style=\"font-size:90%\"><div class=\"highlight\" style=\"background: #f8f8f8\"><pre style=\"line-height: 125%;\"><span></span><code><span style=\"color: #BBB\">  </span>turnoffWhenSilent<span style=\"color: #BBB\"> </span><span style=\"color: #B00040\">a</span>out1\n",
       "</code></pre></div>\n",
       "</span>"
      ],
      "text/plain": [
       "Preset: Crotales  \n",
       "    routing=False, properties={'sfpath': '/home/em/Lib/snd/sf2/MSCrotales2.sf2', 'ampDivisor': 0, 'reverbInstr': '.zitarev'}\n",
       "  init: i__SfTable__ sfloadonce \"/home/em/Lib/snd/sf2/MSCrotales2.sf2\"\n",
       "  |ktransp=0.0, ipitchlag=0.1, ivel=-1, kwet=0.0|\n",
       "  ipresetidx sfpresetindex \"/home/em/Lib/snd/sf2/MSCrotales2.sf2\", 0, 9\n",
       "  iamp0_ = p(idataidx_ + 2)\n",
       "  inote0_ = round(p(idataidx_ + 1))\n",
       "  kpitch2 = lag:k(kpitch + ktransp, ipitchlag)\n",
       "  iampdiv_ = 16384\n",
       "  if ivel < 0 then\n",
       "      ivel _linexp dbamp(iamp0_), 2.6, -72, 0, 1, 127\n",
       "  endif\n",
       "  aout1, aout2 sfplay ivel, inote0_, kamp/iampdiv_, mtof:k(kpitch2), ipresetidx, 1\n",
       "  kpos = kpos == -1 ? 0.5 : kpos\n",
       "  a_outL, a_outR = panstereo(aout1, aout2, kpos)\n",
       "  chnmix a_outL * kwet, \".zitarev.1\"\n",
       "  chnmix a_outR * kwet, \".zitarev.2\"\n",
       "  kdry = 1 - kwet\n",
       "  a_outL *= kdry\n",
       "  a_outR *= kdry\n",
       "  outch ichan, a_outL, ichan + 1, a_outR\n",
       "  epilogue:\n",
       "    turnoffWhenSilent aout1"
      ]
     },
     "execution_count": 2,
     "metadata": {},
     "output_type": "execute_result"
    }
   ],
   "source": [
    "instr = defSoundfont(\"/home/em/Lib/snd/sf2/MSCrotales2.sf2\", reverb=True)\n",
    "instr"
   ]
  },
  {
   "cell_type": "code",
   "execution_count": 3,
   "id": "d7038e30-9bd9-451b-97ad-ac5f97a8af37",
   "metadata": {},
   "outputs": [],
   "source": [
    "w = getWorkspace()"
   ]
  },
  {
   "cell_type": "code",
   "execution_count": 4,
   "id": "6cb5c695-a79b-41e2-96d2-6e791608bb33",
   "metadata": {},
   "outputs": [
    {
     "name": "stderr",
     "output_type": "stream",
     "text": [
      "using libsndfile-1.2.2\n",
      "\u001b[msr = 48000.0,\u001b[m kr = 750.000,\u001b[m ksmps = 64\n",
      "\u001b[m0dBFS level = 1.0,\u001b[m A4 tuning = 440.0\n",
      "\u001b[maudio buffered in 256 sample-frame blocks\n",
      "\u001b[mreading 2048-byte blks of shorts from adc:Built-in Audio Analog Stereo: (RAW)\n",
      "writing 512 sample blks of 64-bit floats to dac:Built-in Audio Analog Stereo:\n",
      "SECTION 1:\n",
      "\u001b[m"
     ]
    },
    {
     "data": {
      "application/vnd.jupyter.widget-view+json": {
       "model_id": "f9871163a0c44db9bb7e40923be5747a",
       "version_major": 2,
       "version_minor": 0
      },
      "text/plain": [
       "Button(description='Stop', style=ButtonStyle())"
      ]
     },
     "metadata": {},
     "output_type": "display_data"
    },
    {
     "data": {
      "application/vnd.jupyter.widget-view+json": {
       "model_id": "9b2dc54b6d294524b12bb245ab9f9286",
       "version_major": 2,
       "version_minor": 0
      },
      "text/plain": [
       "Output()"
      ]
     },
     "metadata": {},
     "output_type": "display_data"
    },
    {
     "data": {
      "text/html": [
       "<p><span style=\"font-size:12px;\">Synth(‖ <strong style=\"color:MediumSeaGreen\">.zitarev</strong>:2289.0002, <span style=\"font-size:12px;\">5:<b>kchan</b>=<code>1</code> 6:<b>kwet</b>=<code>1</code> 7:<b>kgaindb</b>=<code>-12</code> 8:<b>kdelayms</b>=<code>60</code> 9:<b>khfdamp</b>=<code>6000</code> 10:<b>kdecaylow</b>=<code>30</code> 11:<b>kdecaymid</b>=<code>24</code></span>)</span></p>"
      ],
      "text/plain": [
       "Synth(‖ .zitarev=2289.0002 start=.158 dur=-1 kchan=1 kwet=1 kgaindb=-12 kdelayms=60 khfdamp=6000 kdecaylow=30 kdecaymid=24)"
      ]
     },
     "execution_count": 4,
     "metadata": {},
     "output_type": "execute_result"
    }
   ],
   "source": [
    "w.initReverb(decay=30)"
   ]
  },
  {
   "cell_type": "code",
   "execution_count": null,
   "id": "b4bf32e3-643e-48f1-a62c-81e4737171dc",
   "metadata": {},
   "outputs": [],
   "source": [
    "ch = Chain([Note(m, dur=1) for m in range(90, 108)])\n",
    "ch.play(instr=instr.name, kwet=0.8, sustain=20)"
   ]
  },
  {
   "cell_type": "code",
   "execution_count": 11,
   "id": "823c4083-fe6c-4246-b70c-88fd98ef6474",
   "metadata": {},
   "outputs": [
    {
     "data": {
      "application/vnd.jupyter.widget-view+json": {
       "model_id": "47607e3b68bd4b7f905520a672d97c56",
       "version_major": 2,
       "version_minor": 0
      },
      "text/plain": [
       "Button(description='Stop', style=ButtonStyle())"
      ]
     },
     "metadata": {},
     "output_type": "display_data"
    },
    {
     "data": {
      "application/vnd.jupyter.widget-view+json": {
       "model_id": "71032aca32844c2eac102e4e1e53dc40",
       "version_major": 2,
       "version_minor": 0
      },
      "text/plain": [
       "FloatSlider(value=1.0, description='kchan', layout=Layout(width='80%'), max=2.0, readout_format='.3f', step=0.…"
      ]
     },
     "metadata": {},
     "output_type": "display_data"
    },
    {
     "data": {
      "application/vnd.jupyter.widget-view+json": {
       "model_id": "a0e671b5020f4c459d4f2a81a5183fef",
       "version_major": 2,
       "version_minor": 0
      },
      "text/plain": [
       "FloatSlider(value=30.0, description='kdecaylow', layout=Layout(width='80%'), max=500.0, readout_format='d', st…"
      ]
     },
     "metadata": {},
     "output_type": "display_data"
    },
    {
     "data": {
      "application/vnd.jupyter.widget-view+json": {
       "model_id": "0c8ab65947e348fe985d5e12fcbb2727",
       "version_major": 2,
       "version_minor": 0
      },
      "text/plain": [
       "FloatSlider(value=24.0, description='kdecaymid', layout=Layout(width='80%'), max=500.0, readout_format='d', st…"
      ]
     },
     "metadata": {},
     "output_type": "display_data"
    },
    {
     "data": {
      "application/vnd.jupyter.widget-view+json": {
       "model_id": "234654bef42c4f68a96f87e1cde7346e",
       "version_major": 2,
       "version_minor": 0
      },
      "text/plain": [
       "FloatSlider(value=60.0, description='kdelayms', layout=Layout(width='80%'), max=1000.0, readout_format='d', st…"
      ]
     },
     "metadata": {},
     "output_type": "display_data"
    },
    {
     "data": {
      "application/vnd.jupyter.widget-view+json": {
       "model_id": "5ade491404284acda8fb823fb57bbe8b",
       "version_major": 2,
       "version_minor": 0
      },
      "text/plain": [
       "FloatSlider(value=-12.0, description='kgaindb', layout=Layout(width='80%'), max=0.0, min=-100.0, readout_forma…"
      ]
     },
     "metadata": {},
     "output_type": "display_data"
    },
    {
     "data": {
      "application/vnd.jupyter.widget-view+json": {
       "model_id": "bcf4ec707c6c41bf86d1b240d07c4d8e",
       "version_major": 2,
       "version_minor": 0
      },
      "text/plain": [
       "FloatSlider(value=6000.0, description='khfdamp', layout=Layout(width='80%'), max=60000.0, readout_format='d', …"
      ]
     },
     "metadata": {},
     "output_type": "display_data"
    },
    {
     "data": {
      "application/vnd.jupyter.widget-view+json": {
       "model_id": "9540aa9828b941f3a29056d20c715088",
       "version_major": 2,
       "version_minor": 0
      },
      "text/plain": [
       "FloatSlider(value=1.0, description='kwet', layout=Layout(width='80%'), max=2.0, readout_format='.3f', step=0.0…"
      ]
     },
     "metadata": {},
     "output_type": "display_data"
    }
   ],
   "source": [
    "r = w.reverbSynth()\n",
    "r.ui()"
   ]
  },
  {
   "cell_type": "code",
   "execution_count": 9,
   "id": "704db9b6-3aaa-4884-83e8-28a6761a1f0f",
   "metadata": {},
   "outputs": [],
   "source": [
    "r.set(khfdamp=6000, kdecaymid=18, kgaindb=-3)"
   ]
  },
  {
   "cell_type": "code",
   "execution_count": 30,
   "id": "0929eb12-2803-4c4b-80c6-689527f779da",
   "metadata": {},
   "outputs": [],
   "source": [
    "rev.set(kgaindb=-3, kdelayms=60, kdecaylow=4, kdecaymid=3, kwet=1)"
   ]
  },
  {
   "cell_type": "code",
   "execution_count": 6,
   "id": "aeaa0713-2cc8-4db5-acd7-44a4a4dd11df",
   "metadata": {},
   "outputs": [
    {
     "data": {
      "application/vnd.jupyter.widget-view+json": {
       "model_id": "0aa047077bb749b28afd8de569a3ab96",
       "version_major": 2,
       "version_minor": 0
      },
      "text/plain": [
       "Button(description='Stop Synths', style=ButtonStyle())"
      ]
     },
     "metadata": {},
     "output_type": "display_data"
    },
    {
     "data": {
      "application/vnd.jupyter.widget-view+json": {
       "model_id": "651a948cace44dec987fcae7eabaeaaa",
       "version_major": 2,
       "version_minor": 0
      },
      "text/plain": [
       "Output()"
      ]
     },
     "metadata": {},
     "output_type": "display_data"
    },
    {
     "data": {
      "text/html": [
       "Session(<strong style=\"color:MediumSeaGreen\">maelzel.core</strong>, backend=jack, outdev=Built-in Audio Analog Stereo, synths=1)"
      ],
      "text/plain": [
       "Session(maelzel.core, backend=jack, outdev=Built-in Audio Analog Stereo, synths=1)"
      ]
     },
     "execution_count": 6,
     "metadata": {},
     "output_type": "execute_result"
    }
   ],
   "source": [
    "s = Workspace.active.playSession()\n",
    "s"
   ]
  },
  {
   "cell_type": "code",
   "execution_count": 7,
   "id": "3380f551-d797-47bb-8af3-b37f834a5dd0",
   "metadata": {},
   "outputs": [
    {
     "data": {
      "text/plain": [
       "{'.mainreverb': Synth(▶ .mainreverb=401.0002 start=.163 dur=-1 kchan=1 kwet=0.5 kgaindb=-20 kdelayms=60 khfdamp=6000 kdecaylow=3 kdecaymid=2)}"
      ]
     },
     "execution_count": 7,
     "metadata": {},
     "output_type": "execute_result"
    }
   ],
   "source": [
    "s.namedEvents"
   ]
  },
  {
   "cell_type": "code",
   "execution_count": 5,
   "id": "e546ba90-ef2e-487a-b19c-f51c86cb3afc",
   "metadata": {},
   "outputs": [
    {
     "data": {
      "text/plain": [
       "{'.testAudio': Instr(.testAudio, imode=0, iperiod=1, igain=0.1, iverbose=1),\n",
       " '.playSample': Instr(.playSample, isndtab=0, istart=0, ifadein=0, ifadeout=0, kchan=1, speed(kspeed)=1, gain(kgain)=1, pan(kpan)=0.5, ixfade=-1),\n",
       " '.diskin': Instr(.diskin, Spath=0, ichan=1, gain(kgain)=1, speed(kspeed)=1, kpan=-1, ifadein=0, ifadeout=0, iloop=0, istart=0, iwsize=4),\n",
       " '.playbuf': Instr(.playbuf, itabnum=0, ioutchan=1, igain=1, iloop=0),\n",
       " '.playPartials': Instr(.playPartials, ifn=0, iskip=-1, inumrows=0, inumcols=0, kspeed=1, kloop=0, kminfreq=0, kmaxfreq=0, iflags=0, istart=0, istop=0, kfreqscale=1, ichan=1, kbwscale=1, kgain=1, iposition=0, kfreqoffset=0, kminbw=0, kmaxbw=1, kminamp=0),\n",
       " '.reverbstereo': Instr(.reverbstereo, kfeedback=0.85, kwet=0.8, ichan=1, kcutoff=12000),\n",
       " '.mainreverb': Instr(.mainreverb, kchan=1, kwet=0.5, kgaindb=-20, kdelayms=60, khfdamp=6000, kdecaylow=3, kdecaymid=2),\n",
       " 'preset:Clarinet1': Instr(preset:Clarinet1, position(kpos)=0, gain(kgain)=0, idataidx_=0, inumbps=0, ibplen=0, ichan=0, ifadein=0, ifadeout=0, ipchintrp_=0, ifadekind=0, transpose(ktransp)=0, ipitchlag=0.1, ivel=-1, kwet=0)}"
      ]
     },
     "execution_count": 5,
     "metadata": {},
     "output_type": "execute_result"
    }
   ],
   "source": [
    "s.instrs"
   ]
  },
  {
   "cell_type": "code",
   "execution_count": 10,
   "id": "8cad41d3-cbe6-4ddf-b111-e2e78a47a6bb",
   "metadata": {},
   "outputs": [],
   "source": [
    "pm = Workspace.active.presetManager()"
   ]
  },
  {
   "cell_type": "code",
   "execution_count": 12,
   "id": "0dd6f739-bbc5-42b2-977d-fbf64016b159",
   "metadata": {},
   "outputs": [
    {
     "data": {
      "text/plain": [
       "dict_keys(['simplesin', 'sin', 'tri', 'saw', 'sqr', 'pulse', '.click', '_clip_diskin', '_playtable', '.bandnoise', '.sing', '.piano', 'violin-non-vib', 'Clarinet1'])"
      ]
     },
     "execution_count": 12,
     "metadata": {},
     "output_type": "execute_result"
    }
   ],
   "source": [
    "pm.presetdefs.keys()"
   ]
  },
  {
   "cell_type": "code",
   "execution_count": null,
   "id": "b10df5fe-17ce-4698-867a-f202ca8025db",
   "metadata": {},
   "outputs": [],
   "source": []
  }
 ],
 "metadata": {
  "kernelspec": {
   "display_name": "Python 3 (ipykernel)",
   "language": "python",
   "name": "python3"
  },
  "language_info": {
   "codemirror_mode": {
    "name": "ipython",
    "version": 3
   },
   "file_extension": ".py",
   "mimetype": "text/x-python",
   "name": "python",
   "nbconvert_exporter": "python",
   "pygments_lexer": "ipython3",
   "version": "3.13.3"
  }
 },
 "nbformat": 4,
 "nbformat_minor": 5
}
