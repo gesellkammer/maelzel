{
 "cells": [
  {
   "cell_type": "code",
   "execution_count": 1,
   "id": "ba2933ea-7f17-459d-af97-38efefba2f57",
   "metadata": {
    "tags": []
   },
   "outputs": [],
   "source": [
    "import csoundengine as ce\n",
    "import logging\n",
    "#logging.basicConfig(level=\"DEBUG\")\n",
    "#ce.logger.setLevel(\"DEBUG\")"
   ]
  },
  {
   "cell_type": "code",
   "execution_count": 2,
   "id": "c9011f97-b3be-4bc1-a1d6-9ed1cfeb1b02",
   "metadata": {
    "tags": []
   },
   "outputs": [
    {
     "name": "stderr",
     "output_type": "stream",
     "text": [
      "\n",
      "\n",
      "\n",
      "--Csound version 6.19 (double samples) Jan 13 2024\n",
      "[commit: c53556fbbb69d14554a4a4bd91efa441a1701d70]\n",
      "\u001b[mlibsndfile-1.2.0\n",
      "\u001b[msr = 44100.0,\u001b[m kr = 689.062,\u001b[m ksmps = 64\n",
      "\u001b[m0dBFS level = 1.0,\u001b[m A4 tuning = 440.0\n",
      "\u001b[maudio buffered in 256 sample-frame blocks\n",
      "\u001b[mreading 2048-byte blks of shorts from adc:Built-in Audio Pro: (RAW)\n",
      "writing 512 sample blks of 64-bit floats to dac:Built-in Audio Pro:\n",
      "SECTION 1:\n",
      "\u001b[m"
     ]
    },
    {
     "data": {
      "text/html": [
       "Instr <strong style=\"color:MediumSeaGreen\">foo</strong><br>\n",
       "&nbsp&nbsp&nbsp&nbsp<span style=\"font-size:90%\"><b>kfreq</b>:p5=<code>1000</code></span>, <span style=\"font-size:90%\"><b>kdetune</b>:p6=<code>1</code></span>, <span style=\"font-size:90%\"><b>kgain</b>:p7=<code>0.5</code></span><br>\n",
       "<hr style=\"width:38%;text-align:left;margin-left:0\">\n",
       "<span style=\"font-size:90%\"><div class=\"highlight\" style=\"background: #f8f8f8\"><pre style=\"line-height: 125%;\"><span></span><code><span style=\"color: #B00040\">a</span>0<span style=\"color: #bbbbbb\"> </span><span style=\"color: #666666\">=</span><span style=\"color: #bbbbbb\"> </span><span style=\"color: #008000\">oscili</span>(<span style=\"color: #666666\">0.1</span>,<span style=\"color: #bbbbbb\"> </span><span style=\"color: #B00040\">k</span>freq)\n",
       "<span style=\"color: #B00040\">a</span>0<span style=\"color: #bbbbbb\"> </span><span style=\"color: #666666\">+=</span><span style=\"color: #bbbbbb\"> </span><span style=\"color: #008000\">oscili</span>(<span style=\"color: #666666\">0.1</span>,<span style=\"color: #bbbbbb\"> </span><span style=\"color: #B00040\">k</span>freq<span style=\"color: #666666\">+</span><span style=\"color: #B00040\">k</span>detune)\n",
       "<span style=\"color: #B00040\">a</span>0<span style=\"color: #bbbbbb\"> </span><span style=\"color: #666666\">*=</span><span style=\"color: #bbbbbb\"> </span><span style=\"color: #B00040\">k</span>gain\n",
       "<span style=\"color: #B00040\">a</span>0<span style=\"color: #bbbbbb\"> </span><span style=\"color: #666666\">*=</span><span style=\"color: #bbbbbb\"> </span><span style=\"color: #008000\">cossegr</span>:<span style=\"color: #B00040\">a</span>(<span style=\"color: #666666\">0</span>,<span style=\"color: #bbbbbb\"> </span><span style=\"color: #666666\">0.05</span>,<span style=\"color: #bbbbbb\"> </span><span style=\"color: #666666\">1</span>,<span style=\"color: #bbbbbb\"> </span><span style=\"color: #666666\">0.05</span>,<span style=\"color: #bbbbbb\"> </span><span style=\"color: #666666\">0</span>)\n",
       "<span style=\"color: #008000\">outch</span><span style=\"color: #bbbbbb\"> </span><span style=\"color: #666666\">1</span>,<span style=\"color: #bbbbbb\"> </span><span style=\"color: #B00040\">a</span>0\n",
       "</code></pre></div>\n",
       "</span>"
      ],
      "text/plain": [
       "Instr(foo, kfreq:5=1000, kdetune:6=1, kgain:7=0.5)"
      ]
     },
     "execution_count": 2,
     "metadata": {},
     "output_type": "execute_result"
    }
   ],
   "source": [
    "e = ce.Engine()\n",
    "s = e.session()\n",
    "\n",
    "s.defInstr('foo', r'''\n",
    "|kfreq=1000, kdetune=1, kgain=0.5|\n",
    "a0 = oscili(0.1, kfreq)\n",
    "a0 += oscili(0.1, kfreq+kdetune)\n",
    "a0 *= kgain\n",
    "a0 *= cossegr:a(0, 0.05, 1, 0.05, 0)\n",
    "outch 1, a0\n",
    "''')"
   ]
  },
  {
   "cell_type": "code",
   "execution_count": 4,
   "id": "f41b433f-7edd-4230-ae83-0af5cedf5e46",
   "metadata": {
    "tags": []
   },
   "outputs": [
    {
     "data": {
      "text/plain": [
       "12.0002"
      ]
     },
     "execution_count": 4,
     "metadata": {},
     "output_type": "execute_result"
    }
   ],
   "source": [
    "sy = s.sched('foo', args=dict(kfreq=440, kdetune=1))\n",
    "sy.automate('kdetune', (3, 1, 5, 20), delay=3)"
   ]
  },
  {
   "cell_type": "code",
   "execution_count": 5,
   "id": "4517ace4-f470-4f7f-a136-ae238d9cffb3",
   "metadata": {
    "tags": []
   },
   "outputs": [],
   "source": [
    "sy.stop()"
   ]
  },
  {
   "cell_type": "code",
   "execution_count": 6,
   "id": "2f1cf48a-1ca1-47e7-bc89-1d21b3331666",
   "metadata": {
    "tags": []
   },
   "outputs": [
    {
     "name": "stdout",
     "output_type": "stream",
     "text": [
      "SynthGroup(n=2)\n",
      "    Synth(𝍪 foo=501.0003 start=19.842 dur=3.000 p4=440 kfreq=1 kdetune=0.5)\n",
      "    Synth(𝍪 foo=501.0004 start=22.842 dur=3.000 p4=2000 kfreq=5 kdetune=0.5)\n"
     ]
    }
   ],
   "source": [
    "with e:\n",
    "    gr = ce.synth.SynthGroup([\n",
    "        s.sched('foo', delay=1, dur=3, args=dict(kfreq=440, kdetune=1)),  # 1 - 4\n",
    "        s.sched('foo', delay=4.0001, dur=3, args=dict(kfreq=2000, kdetune=5))  # 4 - 8\n",
    "    ])\n",
    "    print(gr)\n",
    "    gr.automate('kdetune', (0, 1, 2, 100), delay=2)\n",
    "    gr.automate('kdetune', (5, 0, 7, 20), delay=0, overtake=True)"
   ]
  },
  {
   "cell_type": "code",
   "execution_count": 16,
   "id": "96d0d22a-d139-428f-b1dc-c1749fb0c6cf",
   "metadata": {
    "tags": []
   },
   "outputs": [],
   "source": [
    "gr.stop()"
   ]
  },
  {
   "cell_type": "code",
   "execution_count": null,
   "id": "6edab69f-39ce-47ea-b387-282c2df12264",
   "metadata": {},
   "outputs": [],
   "source": []
  }
 ],
 "metadata": {
  "kernelspec": {
   "display_name": "Python 3 (ipykernel)",
   "language": "python",
   "name": "python3"
  },
  "language_info": {
   "codemirror_mode": {
    "name": "ipython",
    "version": 3
   },
   "file_extension": ".py",
   "mimetype": "text/x-python",
   "name": "python",
   "nbconvert_exporter": "python",
   "pygments_lexer": "ipython3",
   "version": "3.11.6"
  }
 },
 "nbformat": 4,
 "nbformat_minor": 5
}
