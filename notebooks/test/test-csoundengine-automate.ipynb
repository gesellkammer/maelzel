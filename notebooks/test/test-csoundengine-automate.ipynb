{
 "cells": [
  {
   "cell_type": "code",
   "execution_count": 1,
   "id": "ba2933ea-7f17-459d-af97-38efefba2f57",
   "metadata": {
    "tags": []
   },
   "outputs": [],
   "source": [
    "import csoundengine as ce\n",
    "import logging\n",
    "#logging.basicConfig(level=\"DEBUG\")\n",
    "#ce.logger.setLevel(\"DEBUG\")"
   ]
  },
  {
   "cell_type": "code",
   "execution_count": 2,
   "id": "c9011f97-b3be-4bc1-a1d6-9ed1cfeb1b02",
   "metadata": {
    "tags": []
   },
   "outputs": [
    {
     "name": "stderr",
     "output_type": "stream",
     "text": [
      "created pipewire module\n",
      "--Csound version 7.0 (double samples) Sep  3 2025\n",
      "[commit: 34766e06e640abd1d7c556f218b17353def26481]\n",
      "\u001b[musing libsndfile-1.2.2\n",
      "\u001b[msr = 48000.0,\u001b[m kr = 750.000,\u001b[m ksmps = 64\n",
      "\u001b[m0dBFS level = 1.0,\u001b[m A4 tuning = 440.0\n",
      "\u001b[maudio buffered in 256 sample-frame blocks\n",
      "\u001b[mreading 2048-byte blks of shorts from adc:Built-in Audio Analog Stereo: (RAW)\n",
      "writing 512 sample blks of 64-bit floats to dac:Built-in Audio Analog Stereo:\n",
      "SECTION 1:\n",
      "\u001b[m"
     ]
    },
    {
     "data": {
      "text/html": [
       "Instr <strong style=\"color:MediumSeaGreen\">foo</strong><br>\n",
       "&nbsp&nbsp&nbsp&nbsp<span style=\"font-size:90%\"><b>kfreq</b>=<code>1000</code></span>, <span style=\"font-size:90%\"><b>kdetune</b>=<code>1</code></span>, <span style=\"font-size:90%\"><b>kgain</b>=<code>0.5</code></span><br>\n",
       "<hr style=\"width:38%;text-align:left;margin-left:0;border: 1px dashed; background: transparent;\">\n",
       "<span style=\"font-size:90%\"><div class=\"highlight\" style=\"background: #f8f8f8\"><pre style=\"line-height: 125%;\"><span></span><code><span style=\"color: #B00040\">a</span>0<span style=\"color: #BBB\"> </span><span style=\"color: #666\">=</span><span style=\"color: #BBB\"> </span><span style=\"color: #008000\">oscili</span>(<span style=\"color: #666\">0.1</span>,<span style=\"color: #BBB\"> </span><span style=\"color: #B00040\">k</span>freq)\n",
       "<span style=\"color: #B00040\">a</span>0<span style=\"color: #BBB\"> </span><span style=\"color: #666\">+=</span><span style=\"color: #BBB\"> </span><span style=\"color: #008000\">oscili</span>(<span style=\"color: #666\">0.1</span>,<span style=\"color: #BBB\"> </span><span style=\"color: #B00040\">k</span>freq<span style=\"color: #666\">+</span><span style=\"color: #B00040\">k</span>detune)\n",
       "<span style=\"color: #B00040\">a</span>0<span style=\"color: #BBB\"> </span><span style=\"color: #666\">*=</span><span style=\"color: #BBB\"> </span><span style=\"color: #B00040\">k</span>gain\n",
       "<span style=\"color: #B00040\">a</span>0<span style=\"color: #BBB\"> </span><span style=\"color: #666\">*=</span><span style=\"color: #BBB\"> </span><span style=\"color: #008000\">cossegr</span>:<span style=\"color: #B00040\">a</span>(<span style=\"color: #666\">0</span>,<span style=\"color: #BBB\"> </span><span style=\"color: #666\">0.05</span>,<span style=\"color: #BBB\"> </span><span style=\"color: #666\">1</span>,<span style=\"color: #BBB\"> </span><span style=\"color: #666\">0.05</span>,<span style=\"color: #BBB\"> </span><span style=\"color: #666\">0</span>)\n",
       "<span style=\"color: #008000\">outch</span><span style=\"color: #BBB\"> </span><span style=\"color: #666\">1</span>,<span style=\"color: #BBB\"> </span><span style=\"color: #B00040\">a</span>0\n",
       "</code></pre></div>\n",
       "</span>"
      ],
      "text/plain": [
       "Instr(foo, kfreq=1000, kdetune=1, kgain=0.5)"
      ]
     },
     "execution_count": 2,
     "metadata": {},
     "output_type": "execute_result"
    }
   ],
   "source": [
    "e = ce.Engine()\n",
    "s = e.session()\n",
    "\n",
    "s.defInstr('foo', r'''\n",
    "|kfreq=1000, kdetune=1, kgain=0.5|\n",
    "a0 = oscili(0.1, kfreq)\n",
    "a0 += oscili(0.1, kfreq+kdetune)\n",
    "a0 *= kgain\n",
    "a0 *= cossegr:a(0, 0.05, 1, 0.05, 0)\n",
    "outch 1, a0\n",
    "''')"
   ]
  },
  {
   "cell_type": "code",
   "execution_count": 3,
   "id": "f41b433f-7edd-4230-ae83-0af5cedf5e46",
   "metadata": {
    "tags": []
   },
   "outputs": [
    {
     "data": {
      "text/plain": [
       "11"
      ]
     },
     "execution_count": 3,
     "metadata": {},
     "output_type": "execute_result"
    }
   ],
   "source": [
    "sy = s.sched('foo', args=dict(kfreq=440, kdetune=1))\n",
    "sy.automate('kdetune', (3, 1, 5, 20), delay=3)"
   ]
  },
  {
   "cell_type": "code",
   "execution_count": 4,
   "id": "4517ace4-f470-4f7f-a136-ae238d9cffb3",
   "metadata": {
    "tags": []
   },
   "outputs": [],
   "source": [
    "sy.stop()"
   ]
  },
  {
   "cell_type": "code",
   "execution_count": 7,
   "id": "2f1cf48a-1ca1-47e7-bc89-1d21b3331666",
   "metadata": {
    "tags": []
   },
   "outputs": [
    {
     "name": "stdout",
     "output_type": "stream",
     "text": [
      "SynthGroup(n=2)\n",
      "    Synth(‖ foo=401.0005 start=14.449 dur=3 kfreq=440 kdetune=1 kgain=0.5)\n",
      "    Synth(‖ foo=401.0006 start=17.449 dur=3 kfreq=2000 kdetune=5 kgain=0.5)\n"
     ]
    },
    {
     "data": {
      "text/plain": [
       "Engine(name=engine0, sr=48000, backend=jack, outdev=dac:Built-in Audio Analog Stereo:, nchnls=2, indev=adc:Built-in Audio Analog Stereo:, nchnls_i=4, bufferSize=256)"
      ]
     },
     "execution_count": 7,
     "metadata": {},
     "output_type": "execute_result"
    }
   ],
   "source": [
    "with e:\n",
    "    gr = ce.synth.SynthGroup([\n",
    "        s.sched('foo', delay=1, dur=3, args=dict(kfreq=440, kdetune=1)),  # 1 - 4\n",
    "        s.sched('foo', delay=4.0001, dur=3, args=dict(kfreq=2000, kdetune=5))  # 4 - 8\n",
    "    ])\n",
    "    print(gr)\n",
    "    gr.automate('kdetune', (0, 1, 2, 100), delay=2)\n",
    "    gr.automate('kdetune', (5, 0, 7, 20), delay=0, overtake=True)\n",
    "e"
   ]
  },
  {
   "cell_type": "code",
   "execution_count": 8,
   "id": "96d0d22a-d139-428f-b1dc-c1749fb0c6cf",
   "metadata": {
    "tags": []
   },
   "outputs": [
    {
     "name": "stdout",
     "output_type": "stream",
     "text": [
      "[Synth(▶ foo=401.0005 start=14.449 dur=3 kfreq=440 kdetune=1 kgain=0.5), Synth(‖ foo=401.0006 start=17.449 dur=3 kfreq=2000 kdetune=5 kgain=0.5)]\n"
     ]
    },
    {
     "name": "stderr",
     "output_type": "stream",
     "text": [
      "turning off future 401.000600\n",
      "\u001b[m"
     ]
    }
   ],
   "source": [
    "print(gr.synths)\n",
    "gr.stop()"
   ]
  },
  {
   "cell_type": "code",
   "execution_count": 18,
   "id": "6edab69f-39ce-47ea-b387-282c2df12264",
   "metadata": {},
   "outputs": [
    {
     "data": {
      "text/plain": [
       "'playing'"
      ]
     },
     "execution_count": 18,
     "metadata": {},
     "output_type": "execute_result"
    }
   ],
   "source": [
    "gr.synths[0].playStatus()"
   ]
  },
  {
   "cell_type": "code",
   "execution_count": null,
   "id": "9ab13603-0218-4da1-9437-8a5bb063a57c",
   "metadata": {},
   "outputs": [],
   "source": []
  }
 ],
 "metadata": {
  "kernelspec": {
   "display_name": "Python 3 (ipykernel)",
   "language": "python",
   "name": "python3"
  },
  "language_info": {
   "codemirror_mode": {
    "name": "ipython",
    "version": 3
   },
   "file_extension": ".py",
   "mimetype": "text/x-python",
   "name": "python",
   "nbconvert_exporter": "python",
   "pygments_lexer": "ipython3",
   "version": "3.12.7"
  }
 },
 "nbformat": 4,
 "nbformat_minor": 5
}
