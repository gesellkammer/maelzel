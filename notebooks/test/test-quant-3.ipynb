{
 "cells": [
  {
   "cell_type": "code",
   "execution_count": 1,
   "id": "02a5c41a-00e3-4491-9c4a-79a5df8739a9",
   "metadata": {},
   "outputs": [],
   "source": [
    "from maelzel.core import *\n",
    "cfg = getConfig()\n",
    "cfg['quant.debug'] = True\n",
    "import logging\n",
    "logger = logging.getLogger('maelzel')\n",
    "logger.setLevel('DEBUG')"
   ]
  },
  {
   "cell_type": "code",
   "execution_count": 2,
   "id": "05ea1a73-3d40-4133-989f-ba14433c3baf",
   "metadata": {},
   "outputs": [
    {
     "name": "stderr",
     "output_type": "stream",
     "text": [
      "[maelzel.scoring:quant.py:1364:quantizeMeasure:DEBUG] Measure 4/4 is not filled (events=[«4C 0:0.111 1/9♩», «4D 0.111:0.222 1/9♩», «4E 0.222:0.333 1/9♩», «4F 0.333:0.444 1/9♩», «4G 0.444:0.556 1/9♩», «4B 0.556:0.667 1/9♩», «4C 0.667:0.778 1/9♩», «4D 0.778:0.889 1/9♩», «4E 0.889:1 1/9♩»]). Filling gaps with silences\n",
      "[maelzel.scoring:quant.py:942:quantizeBeatBinary:DEBUG] Skipping (9, 6), divPenalty=0.0509902 * 0.1 > minError=0.005\n",
      "[maelzel.scoring:quant.py:942:quantizeBeatBinary:DEBUG] Skipping (6, 9), divPenalty=0.0509902 * 0.1 > minError=0.005\n",
      "[maelzel.scoring:quant.py:942:quantizeBeatBinary:DEBUG] Skipping (8, 9), divPenalty=0.0509902 * 0.1 > minError=0.005\n",
      "[maelzel.scoring:quant.py:942:quantizeBeatBinary:DEBUG] Skipping (9, 8), divPenalty=0.0509902 * 0.1 > minError=0.005\n"
     ]
    },
    {
     "name": "stdout",
     "output_type": "stream",
     "text": [
      "Beat: 0 - 1 (dur: 1)\n",
      "Best 6 divisions: (quantized in 71.4ms)\n"
     ]
    },
    {
     "data": {
      "text/html": [
       "<table>\n",
       "<thead>\n",
       "<tr><th style=\"text-align: right;\">  error</th><th>div      </th><th>snapped                                                                                                                                                                                                                                                                                                                                                                                                                                                                    </th><th>slots                      </th><th>info                                                                                                                                                                          </th></tr>\n",
       "</thead>\n",
       "<tbody>\n",
       "<tr><td style=\"text-align: right;\"> 0.0030</td><td>(3, 3, 3)</td><td>[«4C 0:0.111 1/9♩», «4D 0.111:0.222 1/9♩», «4E 0.222:0.333 1/9♩», «4F 0.333:0.444 1/9♩», «4G 0.444:0.556 1/9♩», «4B 0.556:0.667 1/9♩», «4C 0.667:0.778 1/9♩», «4D 0.778:0.889 1/9♩», «4E 0.889:1 1/9♩»]                                                                                                                                                                                                                                                                    </td><td>[0, 1, 2, 3, 4, 5, 6, 7, 8]</td><td>gridError=0, rhythmComplexity=0 (numNotesAcrossSubdivs=0, numTies=0), divPenalty=0.03 (0.0003, divPenalty=0, cardinalityPenalty=0, numSubdivsPenalty=0, levelPenalty=0.03)    </td></tr>\n",
       "<tr><td style=\"text-align: right;\"> 0.0050</td><td>(9,)     </td><td>[«4C 0:0.111 1/9♩», «4D 0.111:0.222 1/9♩», «4E 0.222:0.333 1/9♩», «4F 0.333:0.444 1/9♩», «4G 0.444:0.556 1/9♩», «4B 0.556:0.667 1/9♩», «4C 0.667:0.778 1/9♩», «4D 0.778:0.889 1/9♩», «4E 0.889:1 1/9♩»]                                                                                                                                                                                                                                                                    </td><td>[0, 1, 2, 3, 4, 5, 6, 7, 8]</td><td>gridError=0, rhythmComplexity=0 (numNotesAcrossSubdivs=0, numTies=0), divPenalty=0.05 (0.0005, divPenalty=0.05, cardinalityPenalty=0, numSubdivsPenalty=0, levelPenalty=0)    </td></tr>\n",
       "<tr><td style=\"text-align: right;\"> 0.3685</td><td>(8,)     </td><td>[«4C 0:0.125 1/8♩», «4D 0.125:0.25 1/8♩», «4E 0.25:0.375 1/8♩», «4F 0.375:0.5 1/8♩», «4G 0.5:grace properties={&#x27;.snappedGracenote&#x27;: True, &#x27;.originalDuration&#x27;: Fraction(1, 9)}», «4B 0.5:0.625 1/8♩», «4C 0.625:0.75 1/8♩», «4D 0.75:0.875 1/8♩», «4E 0.875:1 1/8♩»]                                                                                                                                                                                                       </td><td>[0, 1, 2, 3, 4, 4, 5, 6, 7]</td><td>gridError=0.368, rhythmComplexity=0 (numNotesAcrossSubdivs=0, numTies=0), divPenalty=0.01 (0.0001, divPenalty=0.01, cardinalityPenalty=0, numSubdivsPenalty=0, levelPenalty=0)</td></tr>\n",
       "<tr><td style=\"text-align: right;\"> 0.4182</td><td>(7,)     </td><td>[«4C 0:0.143 1/7♩», «4D 0.143:0.286 1/7♩», «4E 0.286:grace properties={&#x27;.snappedGracenote&#x27;: True, &#x27;.originalDuration&#x27;: Fraction(1, 9)}», «4F 0.286:0.429 1/7♩», «4G 0.429:0.571 1/7♩», «4B 0.571:0.714 1/7♩», «4C 0.714:grace properties={&#x27;.snappedGracenote&#x27;: True, &#x27;.originalDuration&#x27;: Fraction(1, 9)}», «4D 0.714:0.857 1/7♩», «4E 0.857:1 1/7♩»]                                                                                                                      </td><td>[0, 1, 2, 2, 3, 4, 5, 5, 6]</td><td>gridError=0.418, rhythmComplexity=0 (numNotesAcrossSubdivs=0, numTies=0), divPenalty=0.02 (0.0002, divPenalty=0.02, cardinalityPenalty=0, numSubdivsPenalty=0, levelPenalty=0)</td></tr>\n",
       "<tr><td style=\"text-align: right;\"> 0.4628</td><td>(6,)     </td><td>[«4C 0:0.167 1/6♩», «4D 0.167:grace properties={&#x27;.snappedGracenote&#x27;: True, &#x27;.originalDuration&#x27;: Fraction(1, 9)}», «4E 0.167:0.333 1/6♩», «4F 0.333:0.5 1/6♩», «4G 0.5:grace properties={&#x27;.snappedGracenote&#x27;: True, &#x27;.originalDuration&#x27;: Fraction(1, 9)}», «4B 0.5:0.667 1/6♩», «4C 0.667:0.833 1/6♩», «4D 0.833:grace properties={&#x27;.snappedGracenote&#x27;: True, &#x27;.originalDuration&#x27;: Fraction(1, 9)}», «4E 0.833:1 1/6♩»]                                                     </td><td>[0, 1, 1, 2, 3, 3, 4, 5, 5]</td><td>gridError=0.463, rhythmComplexity=0 (numNotesAcrossSubdivs=0, numTies=0), divPenalty=0.01 (0.0001, divPenalty=0.01, cardinalityPenalty=0, numSubdivsPenalty=0, levelPenalty=0)</td></tr>\n",
       "<tr><td style=\"text-align: right;\"> 0.5742</td><td>(5,)     </td><td>[«4C 0:0.2 1/5♩», «4D 0.2:grace properties={&#x27;.snappedGracenote&#x27;: True, &#x27;.originalDuration&#x27;: Fraction(1, 9)}», «4E 0.2:0.4 1/5♩», «4F 0.4:grace properties={&#x27;.snappedGracenote&#x27;: True, &#x27;.originalDuration&#x27;: Fraction(1, 9)}», «4G 0.4:0.6 1/5♩», «4B 0.6:grace properties={&#x27;.snappedGracenote&#x27;: True, &#x27;.originalDuration&#x27;: Fraction(1, 9)}», «4C 0.6:0.8 1/5♩», «4D 0.8:grace properties={&#x27;.snappedGracenote&#x27;: True, &#x27;.originalDuration&#x27;: Fraction(1, 9)}», «4E 0.8:1 1/5♩»]</td><td>[0, 1, 1, 2, 2, 3, 3, 4, 4]</td><td>gridError=0.574, rhythmComplexity=0 (numNotesAcrossSubdivs=0, numTies=0), divPenalty=0.02 (0.0002, divPenalty=0.02, cardinalityPenalty=0, numSubdivsPenalty=0, levelPenalty=0)</td></tr>\n",
       "</tbody>\n",
       "</table>"
      ],
      "text/plain": [
       "<IPython.core.display.HTML object>"
      ]
     },
     "metadata": {},
     "output_type": "display_data"
    },
    {
     "name": "stderr",
     "output_type": "stream",
     "text": [
      "[maelzel.scoring:quant.py:1683:_mergeSiblings:DEBUG] Nodes cannot merge: \n",
      "Node(3/2, \n",
      "  «4C 0:0.111 1/9♩ 3/2,3/2»\n",
      "  «4D 0.111:0.222 1/9♩ 3/2,3/2»\n",
      "  «4E 0.222:0.333 1/9♩ 3/2,3/2»\n",
      ")\n",
      "Node(3/2, \n",
      "  «4F 0.333:0.444 1/9♩ 3/2,3/2»\n",
      "  «4G 0.444:0.556 1/9♩ 3/2,3/2»\n",
      "  «4B 0.556:0.667 1/9♩ 3/2,3/2»\n",
      ")\n",
      "----> Merging these tuplets is not needed\n",
      "[maelzel.scoring:quant.py:1683:_mergeSiblings:DEBUG] Nodes cannot merge: \n",
      "Node(3/2, \n",
      "  «4F 0.333:0.444 1/9♩ 3/2,3/2»\n",
      "  «4G 0.444:0.556 1/9♩ 3/2,3/2»\n",
      "  «4B 0.556:0.667 1/9♩ 3/2,3/2»\n",
      ")\n",
      "Node(3/2, \n",
      "  «4C 0.667:0.778 1/9♩ 3/2,3/2»\n",
      "  «4D 0.778:0.889 1/9♩ 3/2,3/2»\n",
      "  «4E 0.889:1 1/9♩ 3/2,3/2»\n",
      ")\n",
      "----> Merging these tuplets is not needed\n",
      "[maelzel.scoring:quant.py:1677:_mergeSiblings:DEBUG] Nodes can merge: \n",
      "    Node(1/1, \n",
      "  «rest 1:2 1♩»\n",
      ")\n",
      "    Node(1/1, \n",
      "  «rest 2:3 1♩»\n",
      ")\n",
      "[maelzel.scoring:quant.py:1680:_mergeSiblings:DEBUG] ---- Merged node:\n",
      "    Node(1/1, \n",
      "  «rest 1:3 2♩»\n",
      ")\n",
      "[maelzel.scoring:quant.py:1677:_mergeSiblings:DEBUG] Nodes can merge: \n",
      "    Node(1/1, \n",
      "  «rest 1:3 2♩»\n",
      ")\n",
      "    Node(1/1, \n",
      "  «rest 3:4 1♩»\n",
      ")\n",
      "[maelzel.scoring:quant.py:1680:_mergeSiblings:DEBUG] ---- Merged node:\n",
      "    Node(1/1, \n",
      "  «rest 1:4 3♩»\n",
      ")\n",
      "[maelzel.scoring:node.py:805:_splitNotationAtBoundary:DEBUG] Found a syncopation but the callback was negative, so «rest 1:4 3♩» will not be split\n",
      "[maelzel:lilytools.py:191:findLilypond:DEBUG] findLilypond: searching via shutil.which\n",
      "[maelzel:lilytools.py:194:findLilypond:DEBUG] ... found! lilypond path: /home/em/.local/bin/lilypond\n",
      "[maelzel.scoring:renderlily.py:1141:write:DEBUG] Rendering lilypond '/home/em/.cache/tmpvlfwp79c/inu9mxth.ly' to '/home/em/.cache/tmpvlfwp79c/inu9mxth.png'\n",
      "[maelzel:lilytools.py:332:renderLily:DEBUG] Rendering lilypond '/home/em/.cache/tmpvlfwp79c/inu9mxth.ly' to '/home/em/.cache/tmpvlfwp79c/inu9mxth.png'\n",
      "[maelzel:lilytools.py:191:findLilypond:DEBUG] findLilypond: searching via shutil.which\n",
      "[maelzel:lilytools.py:194:findLilypond:DEBUG] ... found! lilypond path: /home/em/.local/bin/lilypond\n",
      "[maelzel:lilytools.py:354:renderLily:DEBUG] Calling lilypond subprocess: ['/home/em/.local/bin/lilypond', '--png', '-o', '/home/em/.cache/tmpvlfwp79c/inu9mxth', '-dresolution=200', '/tmp/tmp9b3fb9z7.ly']\n",
      "[maelzel:lilytools.py:377:renderLily:DEBUG] lilypond executed OK\n",
      "[maelzel:lilytools.py:382:renderLily:DEBUG] stderr: \n",
      "[maelzel:lilytools.py:383:renderLily:DEBUG]  Changing working directory to: `/home/em/.cache/tmpvlfwp79c'\n",
      " Processing `/tmp/tmp9b3fb9z7.ly'\n",
      " Parsing...\n",
      " Interpreting music...\n",
      " Preprocessing graphical objects...\n",
      " Finding the ideal number of pages...\n",
      " Fitting music on 1 page...\n",
      " Drawing systems...\n",
      " Converting to PNG...\n",
      " Layout output to `inu9mxth.cropped.eps'...\n",
      " Converting to PNG...\n",
      " Success: compilation successfully completed\n",
      "\n",
      "[maelzel.scoring:renderlily.py:1154:write:DEBUG] Found crop file /home/em/.cache/tmpvlfwp79c/inu9mxth.cropped.png, using that as output\n"
     ]
    },
    {
     "data": {
      "text/html": [
       "<code style=\"white-space: pre-line; font-size:0.9em;\">Chain([<span style=\"color:#6666E0\">4C:0.111♩</span>, <span style=\"color:#6666E0\">4D:0.111♩</span>, <span style=\"color:#6666E0\">4E:0.111♩</span>, <span style=\"color:#6666E0\">4F:0.111♩</span>, <span style=\"color:#6666E0\">4G:0.111♩</span>, <span style=\"color:#6666E0\">4B:0.111♩</span>, <span style=\"color:#6666E0\">4C:0.111♩</span>, <span style=\"color:#6666E0\">4D:0.111♩</span>, <span style=\"color:#6666E0\">4E:0.111♩</span>], dur=1)</code><br>\n",
       "        <img style=\"display:inline; padding:10px;\n",
       "margin-top:14px;\n",
       "width:321px\"\n",
       "             src=\"data:image/png;base64,iVBORw0KGgoAAAANSUhEUgAAAawAAACLCAIAAACydDrBAAAJLmlDQ1BJQ0MgUHJvZmlsZQAAeJyVlWdQk1kXx+/zPOmFQBJCh1BDkSolgJQQWijSq6hA6J1QRWyIuAIriog0RZBFARdclSJrRRQLi4ICFnSDLALKunEVUUFZcN8ZnfcdP7z/mXvPb/5z5t5zz/lwASCIg2XBy3tiUrrA28mOGRgUzATfKIyflsLx9HQD39W7EQCtxHu638/5rggRkWn85bi4vHL5KYJ0AKDsZdbMSk9Z4aPLTA+P/8JnV1iwXOAy31jh6H957EvOvyz6kuPrzV1+FQoAHCn6Gw7/hv9z74pUOIL02KjIbKZPclR6Vpggkpm20gkel8v0FCRHxSZEflPw/5X8HaVHZqevRG5yyiZBbHRMOvN/DjUyMDQEX2fxxutLjyFG/3/PZ0VfveR6ANhzACD7vnrhlQB07gJA+tFXT225r5R8ADru8DMEmf96qJUNDQiAAuhABigCVaAJdIERMAOWwBY4ABfgAXxBENgA+CAGJAIByAK5YAcoAEVgHzgIqkAtaABNoBWcBp3gPLgCroPb4C4YBo+BEEyCl0AE3oEFCIKwEBmiQTKQEqQO6UBGEBuyhhwgN8gbCoJCoWgoCcqAcqGdUBFUClVBdVAT9At0DroC3YQGoYfQODQD/Q19hBGYBNNhBVgD1ofZMAd2hX3h9XA0nArnwPnwXrgCrodPwh3wFfg2PAwL4ZfwHAIQIsJAlBFdhI1wEQ8kGIlCBMhWpBApR+qRVqQb6UPuIUJkFvmAwqBoKCZKF2WJckb5ofioVNRWVDGqCnUC1YHqRd1DjaNEqM9oMloerYO2QPPQgehodBa6AF2ObkS3o6+hh9GT6HcYDIaBYWHMMM6YIEwcZjOmGHMY04a5jBnETGDmsFisDFYHa4X1wIZh07EF2ErsSewl7BB2EvseR8Qp4YxwjrhgXBIuD1eOa8ZdxA3hpnALeHG8Ot4C74GPwG/Cl+Ab8N34O/hJ/AJBgsAiWBF8CXGEHYQKQivhGmGM8IZIJKoQzYlexFjidmIF8RTxBnGc+IFEJWmTuKQQUgZpL+k46TLpIekNmUzWINuSg8np5L3kJvJV8lPyezGamJ4YTyxCbJtYtViH2JDYKwqeok7hUDZQcijllDOUO5RZcby4hjhXPEx8q3i1+DnxUfE5CZqEoYSHRKJEsUSzxE2JaSqWqkF1oEZQ86nHqFepEzSEpkrj0vi0nbQG2jXaJB1DZ9F59Dh6Ef1n+gBdJEmVNJb0l8yWrJa8IClkIAwNBo+RwChhnGaMMD5KKUhxpCKl9ki1Sg1JzUvLSdtKR0oXSrdJD0t/lGHKOMjEy+yX6ZR5IouS1Zb1ks2SPSJ7TXZWji5nKceXK5Q7LfdIHpbXlveW3yx/TL5ffk5BUcFJIUWhUuGqwqwiQ9FWMU6xTPGi4owSTclaKVapTOmS0gumJJPDTGBWMHuZImV5ZWflDOU65QHlBRWWip9KnkqbyhNVgipbNUq1TLVHVaSmpOaulqvWovZIHa/OVo9RP6Tepz6vwdII0Nit0akxzZJm8Vg5rBbWmCZZ00YzVbNe874WRoutFa91WOuuNqxtoh2jXa19RwfWMdWJ1TmsM7gKvcp8VdKq+lWjuiRdjm6mbovuuB5Dz00vT69T75W+mn6w/n79Pv3PBiYGCQYNBo8NqYYuhnmG3YZ/G2kb8Y2qje6vJq92XL1tddfq18Y6xpHGR4wfmNBM3E12m/SYfDI1MxWYtprOmKmZhZrVmI2y6WxPdjH7hjna3M58m/l58w8WphbpFqct/rLUtYy3bLacXsNaE7mmYc2ElYpVmFWdldCaaR1qfdRaaKNsE2ZTb/PMVtU2wrbRdoqjxYnjnOS8sjOwE9i1281zLbhbuJftEXsn+0L7AQeqg59DlcNTRxXHaMcWR5GTidNmp8vOaGdX5/3OozwFHp/XxBO5mLlscel1Jbn6uFa5PnPTdhO4dbvD7i7uB9zH1qqvTVrb6QE8eB4HPJ54sjxTPX/1wnh5elV7Pfc29M717vOh+Wz0afZ552vnW+L72E/TL8Ovx5/iH+Lf5D8fYB9QGiAM1A/cEng7SDYoNqgrGBvsH9wYPLfOYd3BdZMhJiEFISPrWeuz19/cILshYcOFjZSNYRvPhKJDA0KbQxfDPMLqw+bCeeE14SI+l3+I/zLCNqIsYibSKrI0cirKKqo0ajraKvpA9EyMTUx5zGwsN7Yq9nWcc1xt3Hy8R/zx+KWEgIS2RFxiaOK5JGpSfFJvsmJydvJgik5KQYow1SL1YKpI4CpoTIPS1qd1pdOXP8X+DM2MXRnjmdaZ1Znvs/yzzmRLZCdl92/S3rRn01SOY85Pm1Gb+Zt7cpVzd+SOb+FsqdsKbQ3f2rNNdVv+tsntTttP7CDsiN/xW55BXmne250BO7vzFfK350/sctrVUiBWICgY3W25u/YH1A+xPwzsWb2ncs/nwojCW0UGReVFi8X84ls/Gv5Y8ePS3qi9AyWmJUf2YfYl7RvZb7P/RKlEaU7pxAH3Ax1lzLLCsrcHNx68WW5cXnuIcCjjkLDCraKrUq1yX+ViVUzVcLVddVuNfM2emvnDEYeHjtgeaa1VqC2q/Xg09uiDOqe6jnqN+vJjmGOZx543+Df0/cT+qalRtrGo8dPxpOPCE94nepvMmpqa5ZtLWuCWjJaZkyEn7/5s/3NXq25rXRujregUOJVx6sUvob+MnHY93XOGfab1rPrZmnZae2EH1LGpQ9QZ0ynsCuoaPOdyrqfbsrv9V71fj59XPl99QfJCyUXCxfyLS5dyLs1dTrk8eyX6ykTPxp7HVwOv3u/16h245nrtxnXH61f7OH2XbljdOH/T4ua5W+xbnbdNb3f0m/S3/2byW/uA6UDHHbM7XXfN73YPrhm8OGQzdOWe/b3r93n3bw+vHR4c8Rt5MBoyKnwQ8WD6YcLD148yHy083j6GHit8Iv6k/Kn80/rftX5vE5oKL4zbj/c/83n2eII/8fKPtD8WJ/Ofk5+XTylNNU0bTZ+fcZy5+2Ldi8mXKS8XZgv+lPiz5pXmq7N/2f7VLwoUTb4WvF76u/iNzJvjb43f9sx5zj19l/huYb7wvcz7Ex/YH/o+BnycWshaxC5WfNL61P3Z9fPYUuLS0j9CLJC+ERlPpwAAFvxJREFUeJztnc2P21TXwG9eTdUOtFM7iEKF0NSetipfgrGjqVQ2SHE2ZVVpMmXTigVxJFawcfInxNnQTRFxWNCuqDMSaqWuxhEDohsUT5CQKgqNM334KJ1FHKZFHVSkPIsLfvw6iXPj2IkTn98q4zgn9+YmZ+49n7FOp4OmmVgsdvHixStXrkx6IAAATCX/N+kB+MDe3t6khwAAwLQyC0oQAADAM6AEAQCINKAEAQCINKAEAQCINKAEAQCINKAEAQCINKAEAQCINKAEAQCINKAEAQCINKAEAQCINKAEAQCINKAEAQCINKAEAQCINKAEAQCINKAEAQCINKAE3dB1XRRFmqZjsVgsFhMEQdd1xz2maeZyOXwPTdO5XG4iQwUAwBugBPuiKEoikdB1Xdf1TqfTaDSq1aogCIZhWPeYpikIQqVSwffIslwsFkVRnOCwAQAYClCCvdF1PZvNMgyjaRrLsgihSqWCEGq325qmWbcVCoWtrS1FUfA9oihKklQul2VZntTIAQAYClCCvcGn2nw+T9M0vmI94HkePzAMo1gschwnCIL1wrW1NYRQqVQa63ABAPAKKMEe6LperVYRQvaDrSiKtVqt0WhYShBrOrwHtMDPNpvNbushAAAhZCqVYND6RVVVhFAymXRc53nervLwMBxKECHEMIwlBACAkDNNSlBRFJ7nY7FYIpGIxWIsy2I7ne9g7YbPv7IsC4IgCIIoinZrIEII7xa7wWrR7j8BACC0TIcS1HWdZdlsNru1tWVdbDab2ADXE0EQYq7YDXkOsHZjWZbneVVV8Qm3XC6nUilFUQjHbJom6fQAAJgcc5MewGB0XRcEod1uD/Uqy3Ln+YZisZjJZCytJ8tyPp/PZrMsy7ooUAAApouwK0HDMAZqwHfeeaf74uhBKhRF2fd9uVyuVCo1m01VVUEJAsDMEPbjcKFQcNeAFEWdO3cuiLfu3io6jH0cx/V8Ib5h4E4TAIAwEPadoMMX0U06ne55XVGURqPh8sKlpaV+qR3JZLKf08MOz/NbW1vdDpBms4nlD5QAAMDECbsSxAqlHxRF5fP5nk+pququyJLJZD8lmEqler4W+zqsLV4qlSqXyw4laPlD+mlnAABCRdiVIMMw/fQgttl1h+lh1tbW3A+kLjs1URQLhUK1WjUMw5JvGAb2TWezWXwlnU5zHIc3g9ZtOGpHkiQrwwQAgFDTCTf9Qo4ZhqnVasG9L84GWV1dta6srq4ihCRJst9Wq9UoirJuw39yHNdqtYIbGwAAPhJ2JdjpdFRVxTkYGI7jSqXSeN6XoiiGYZLJJMMwFEUVCoXu22q1GsMw+DaKopLJJGjAnjQaDUmSksnk6urqeFYQAEiIdTqd8Ww5R0fX9fG7XC3PDM/zLidcfBtN0+AU7ommablcLp/Pp9NpRVGy2aw9BhMAJsg0KUFgesH1aA3DwP9IBEGoVqutVgssp8DECXucIDAb0DTdbrcdnnRIrwbCAOwEgXFgmqZhGNhWYJomy7I0TYMSBMIA7ASBcWBZS3EeJE3TAVUAAoChmbBjZnr48ssvY7HYpJdrOlBVtfsDlCSJ4zgXB3qj0aAoatJjDzWxWEyW5eC/7NECdoKk3L59uwOmAzJ6nnNlWca+EbwZ7L7BNM1hawVFjU6nQ5LQCQxF2DNGwsPJkyfxg42NjcmOJPw4dJw9o4amaZZlq9WqpmmO23ier9VqUIexH5Ik1ev1N954Y9IDmTVACQ4N1NEaClxmYmNjg+RzgyhLF+Lx+KSHMJvAcRgIFnsxcISQaZq6rlMUBfoOCAmgBIFgYRimVCpZ28BcLtdut2VZhjBpICTAcRgIlkqlIooiru2IHSOqqkKdMSA8gBIEgoXneV3XdV03TXNgfTMAGD+gBIFxALrPL8A94juQNjcEsiyzLAtHOWAi6Lquqmo+nwdzqr+AEgQAINKAdxgAgEgDNsEJYxhGqVTSdZ2m6VQq1a/302wQhclGYY6zxmRTlyPOxsYGx3G43ADuapLJZCY9qKCIwmSjMMfZA5TgJMFtSaySKslkEiE0qy1KojDZKMxx9gCb4CSJVL3lKEw2CnOcPcA7PEkiVW85CpONwhxnD9gJTpJI1VuOwmSjMMcZZNLn8alh9MrSjsbtmEDrLa+srHiYqSzLo0wTk0wmPUy20+lwHOf5TWOxmGEY5DP98MMPR5xmdw1tkjmqqur5HaGytO/ATpCUn3/+uTOa6aBnudCB9ZYRQp7rLf/yyy8eXnXr1i1vb2fH82RHOTx2Op1vvvmG/H5HmS8PdE+TZI6jFI6FytK+A3GCpBw9ehQ/8FxZ2lu9ZZZlG43GsKqhXC6rqvrSSy95GOepU6du3LixvLxcLBY9vBzjSBYmnCy+U9d1D++YSqWQbZlIOH369FdffeV5ptbhF0M+R1EUeZ4fVhVCZemAACU4NL5Ulh6q3jLLstavi5DRewDE43G/amgPNVmapsdcu9uXmQ41R+SpogSUTggIOA5PhkjVW47CZKMwx1nFHyVoGEYul4MWOeREqt5yFCYbhTnOKj4ch3VdFwSh3W5rmubNmhNBIlVvOQqTjcIcZ5VRlaClARFCW1tbuVzOlwCLmSdS9ZajMNkozHFWGUkJmqaZTqftARzFYjGbzQ5rxZ8K8LnGc8heT4L+qXg7iwVkgB+PXvAwZR9PrGOYI7hHfGckJSiKYrPZdFwsFAqKoowiNpzwPF8qlaZFv+fzeYRQNpv18Fpc/Wnq2iurqmqa5lBqKJ/Px+PxaTm0yrKsaRrU5vId77nDmqbhyKxuGo3GtCgLAAAijnfvcKFQ8PAUAABAqPC4E9R1PZFIOC5KkpTNZpeWliiKMgxjVoMDTNMURRHigYBxoigKnK6CwlvKsWOvR1HUxsYGfgoXkiyVSv4kN4eP0ZMxAGBYrN8X4Dsej8N2RUBRlD1BElumQVMAADAVeFSC9qBoRVG6XXLr6+veBxVufvzxx0kPAYgcoxe8AfrhUQlasYGrq6v9Igw0TfMmPOQ8evRo0kMAAMA3Rs0YcckPwckkI8oPISdOnEAIHTly5N133x1d2vb2tqqqi4uL58+fD6e0lZWVt956K2zSLD777LOdnR1JkkYRsrm5+e233/o1tiCkDVUiDBgOb6ZE/Np+1YPxsz0LKc8A2Ny5vLzso7Sen2RIpPm1jv5Ks1heXvb8NbbAX1q/xhaENHCMBMdIVWR6Bktb5T+hmAIAAOFnpONwzxSliOi+3d1dX4ye2ODdarVCK217ezuE0ix2d3fRyAbo7e1t5N/YgpAGBIi3DSR+bXcfmVqtZkn261AWNi5fvjyhtQKiC/RXCo459G8VXA8L0/2qcrlsPX7mmWdm0kFcr9cnPQQgcvz0008z+WuaIP/rWtHpdDKZzKTHAwAAMFYWFxfxTjDW6XQ87ARx4ytZlu1dYq9du/bpp59af169etV3vz5uoua4ePbs2dEbyJLjmCYAjIH33nvPl7CnmQeXdkYIra2tWdu7ni7cM2fO4O6yc8hTf69UKlWv1ymKsl6IC6xaN3Acd+HCBU+zcKNbA3Icd/PmTd/fyAXIGAHGz4kTJ2Yy6jY4jh075v6Jzc/P4wceQ2RwCRncUQFTKBTsJabX1ta8SXbH0X6X47jxG0pOnjyJIE5w0tIsIhInaD9yAf7iUQliFVupVPCfmqbZ21dTFBVQ/Vv7sZ2iqEqlQtP0tFQGBgAghHhUgjRNcxzXbDYNw3AchBFCoigGUUxQ13Vrs4lL17AsqyjKDBdrAAAgaLxnjFibQUevJYZhAmo4Zz/54tI1pmliIygAAIA3vCtBbPXL5/PVatV+PbguS5ZXpFQqpdNpwzCsbp8AAADe8K4EeZ5nGMZxUZKkgHxYuq7jvCtJkkRRxDtBKLIGAMCIeM8d1jTN0W+T47jgOq+XSiWEUCaTwW/hrZkkAACAk46t+BUAAEBEsDJG5hBCiURiKD24t7d35cqVP/74w35xbW3t2LFj/o7S4tq1a3t7e+fPnz9w4AC+Yo/IQQiNU4/j4qBQVHWy0iwiUlQ10N/XLIG/Zggh++fvUBeYhYWFfx4NG7rZarW64zYDrZ8qSRJFUY1Gw37RMYDg3r0bKKoaBmkWEQmWhqKqhFgt3uyff091af1MhnaM5HK5bneEI5HDR3RdVxQFhwQG9BYAAGAMw4hgrZrhHCOyLNuLZSGEMplMpVIJLlxZEASWZVVV7c4atmNFC8bjcYgcBCKLLMutVovw5lQqZY/lUBQF+xsZhtF1PYh8h3AyhBLUNC2fz9uvYHewaZrr6+s4atrv4SFRFHVdH1jkxrohOisXQUzTrFQqtVoNnzx4nocgAQeOX+hA7ErQ2j00m81CoRBcpEfYIFWC3blxOHGNpulUKrW+vl6r1YJQgv1WIhaLOW7rWesfmA1M0ywUCg7zdrVaLRaLL7744qRGBcwGpDZBURTtuRmWBkRdxRTGQPd7RaSxSTTRdZ3n+Z4OPoTQzz//PObxzCrWhoNhmGF3lFMNkRLUNM1h9bPvvFiWtYop+D/AXuDAaTuFQsE0zfG8OzBOcPdqR1g+EASiKDYajY2NDcMwImVWIlKCDldDJpNxVMrCm8Ex+JV0XU+n045sZYRQs9kUBAH2gzOGaZok6eErKytjGc7sw7JsBEu3ziGEdF138b1+99139piYw4cPz8/PO9TiDz/8gBD6+OOP7WVWfef69et37tw5fPjw4uIiRVH79++3nnrw4EGj0UgkEn7FCbuAWyD++uuvvrihsbS7d++GVtrm5uakpG1ubpIUyKAoasQRbm5uIv9mGoS0crlsRcC5sH///r/++otc8uyFUlgdSgfObmdn559HHUibAwAgehw5cuSfUGr38GvHzi6TydifrdVq3YVkHPd39yYehZ762jGqoIGMkbFJI/kq+zI8yBiZGfzPGHH4Ye0+I0VREomEu8W6XC6zLOujqa7b+8FxXHAVDIHJQlGU+w1WVSEA8MwAJWjfCWYyGSt3Tdd1wjjVdrvto8siDI2WgLHhHnmayWTg/x8wOgOUoF3p2LVe97fT5VzcbrfT6bQvISzQaClSOBpbWzAMo6oqaEDAFwZkjFhKh2EYKzCwUqlYp2DcWC6bzbIsS9N0u93udDq6rpdKJXuWsS+JONBoaYroTnF79dVXhxVC07Su65VKBQevYTmOjFcAGJEBStBSOvavnWV6xJrIUo48z1erVU3TBEFQFGVtbc3eg0lRlHw+P0oQJjRamgr6pbh5FphOp2GzDwTHgOOwdchdWlqyLlpnZEfGLn5sbR4FQdA0zbJtt9vtEVProNFS+HFPcUO2f6sAEBIGKEHLE2JXdvi/eneH9UQigf6/L4XnefsRuFareR4oNFoKPyQpbv/5z3/GNh4AIGEOIWSaZj/vrZWVYVc3y8vL9XqdYRiHZ3Zvbw8hVKvV7NdZln3++ed///337qeG4qOPPkIInT17NpVKaZrm8E2P00eMP4rd3V1f3hRLa7VaoZW2vb1NIu3hw4cXL1589OiR+20LCwshdOjjNAPCmU5EGvy/J8T6oAZ+/n///fc/jzqdzurqatAjAwAACBVWxkis0+kYhtGvAMz9+/cvXryIEPrggw/efvttfPHmzZuXLl1CCF29evXo0aP2+yVJqtfrly9fPnnypHVxa2sLuy8OHjz4xRdfeBiuJEmPHj2SZfnQoUP4SiqVst9AklbpF3g6S0tLn3zyiV/SlpeXXexoQUt7+PDh559/3i9/fG1tLZPJDBRy4cIFvN934eDBg1evXrUWMTyUy2VVVQlnOhFp/aKFAAeWtrF//g51gTlz5sytW7cQPg6zLOvSwePSpUtbW1t//vmn5SAWBOH69evNZvPGjRsOX0cqlarX688++2zPIIbTp097CG7I5XLNZlPXdZdBjj9mYmFhwcc3jcfjk5Km67ooii6GPIqiSKQN1IAIoffff//cuXOEAxsn+J/osWPHfFmFIKRxHAeBQUMx8POfn5/HDwaX0sLWN4eyw3Gq6+vrDt9IPB5H/R0gHpolQaOlQCFxZdy5c4dEFKS4AVPK4PL6oigWCoVms5nL5awvsSAIpVIpm82Wy2XTNBVFwQGA2InsSA6xvC49N6XuQKOl4CCs1vf666+TSEun044mXHYgxQ0ILUQ9RhRFSaVSOP7ZipURRZGmaVEU19fXcVw0+nev57AwYv3FMIyHkFdotOTCiFkZhUKBJGrvlVdeIZEmy7IVxmSHYRhZliHamZDuNYXIyqAhUoKCIEiSVCwW0+m0vRdfOp3GxRGsszdWgnadValU8A/D21EIGi31xJesDJLYdYqiCPUXpLiNiO+ZNgAhpN3mZFnWNG1ra4vn+UqlYmkcmqYd33KO46ztADa6I4QymYyPe4GejZaiowRxjwEXQ97jx49J5JA07sD7ffKxQYqbNwau6f3798c5nkhB2m0OIaRpWjKZbDabiUQil8v1qwqDfzOapuEk4na77XvJvyg3WiJxZTx48IBEFLgyQgLJmn799ddjG0/UGEIJ0jStaRquc1ssFlmWzeVymqY5tA8+EYuimEql2u12JpPxsahqxBstEboykskkiTSo1hcGCNf0qaeeGstwokis0+koiuLue3Wwu7t79+7dgTuvQ4cOHT9+HAfN+ML333+/s7Nz4MCB+fn5+fn5ffv22Yf0+PHjvb09mqaDjilttVr1ev3gwYOnT58e9rVPnjzZ2dnBo0UILSwsPP3007dv3yYc9t27d+/duzfwtlOnTr3wwgskg6nX6w8fPnRcP3DgwPHjx5977rmBEmYG/MEuLi4eP3582Nd2r+mTJ09+++03Qmn+rimAf54IIfvn39O0uri4iFMSSW2CdhYWFjiOe/z48YMHD1qtFtY+CKG5ublDhw7hP719n9x57bXX/BU4Tp48eXLv3j3H133YIzzJOXdubu7IkSMk0vbt27eysmItIkJoYWEhHo/7+H9rtgnhmgLxeLz7JNTzbPQ/L0JAjU786jITQjw0WhrYkerMmTMkcki+BDP8yQeHh9ZIA9dUFEUSObCmE8fLThAYCmz2djf6kLsy3OWAK2M8kKwpeaYNrOlkGcIxAniA0OxNGOQMrowwQLimi4uLJNJgTSfOEDtBwzAKhUKlUsFRL/l8PgoRYePJyjh79iyJNMjK8IURszII1/TNN98kkQZrOnkIj821Wq07rExV1e47Z8Ym2Gq1evZ6xxDaBN3NRhiKooZqUa+qaiaTSSaTyWRSkiRoy02O+5oSfmlhTWcMUiXYc+EZhum+E0fbTLsSHGj2fvnll0nkDPy1zMBnNS2AKwPoCZFNUNO0nuHszWazu4D1KI1EQgJJBD/hAQqyMkICFA0D+uG/YwTHSeGmS9MIodnbUVK7H2D2DgPgygDcINkuuhSv7zZ84P+TjUYjgH1rUDQaDRJDT09WV1ddJLdarZ6pIAzD9LSoAn6hqurALVs/SqWSi2RY0xmDyDvcr0CLJEmOEiOKorTb7WQyOV2FoCuVCklJlZ6sr6+7PAsFpiaFqqqeK/GpquoomW4H1nTGiHXIDL3pdNr+a8dNhx2GD9M0eZ5vNpuqqk6Xa980zVwuh7/QJBXc7EmBqVQKalmHEF3XrdpCw65p1MpTRh3CHaPl7kgmk/3897i3UzKZ9G2fOglIzN6THiMwHLCmgAtD5A4XCgXrG+MwBTYaDdy8mOO4ocKjQoh7m0T4tUwjsKaAC6THYYwsy/l8Hv1bdR0bBA3DwCdljuMqlcp0WQO7wZ5EiOCfJWBNAReGU4IIIU3TCoWCw8iCTYT5fH5m+hyB2Xv2gDUFejK0EsQYhqHreq1Wi8fjPM/DlwkAgCnFoxIEAACYDf4L4Z3n5QxQPcMAAAAASUVORK5CYII=\"/>"
      ],
      "text/plain": [
       "Chain([4C:0.111♩, 4D:0.111♩, 4E:0.111♩, 4F:0.111♩, 4G:0.111♩, 4B:0.111♩, 4C:0.111♩, 4D:0.111♩, 4E:0.111♩])"
      ]
     },
     "execution_count": 2,
     "metadata": {},
     "output_type": "execute_result"
    }
   ],
   "source": [
    "ch = Chain(r\"\"\"\n",
    "    4C:1/9\n",
    "    4D:1/9\n",
    "    4E:1/9\n",
    "    4F:1/9\n",
    "    4G:1/9\n",
    "    4B:1/9\n",
    "    4C:1/9\n",
    "    4D:1/9\n",
    "    4E:1/9\n",
    "    \n",
    "\"\"\")\n",
    "ch"
   ]
  },
  {
   "cell_type": "code",
   "execution_count": 3,
   "id": "ff6a44a7-5727-4ea1-931d-2397ff909521",
   "metadata": {},
   "outputs": [
    {
     "name": "stderr",
     "output_type": "stream",
     "text": [
      "[maelzel.scoring:quant.py:1364:quantizeMeasure:DEBUG] Measure 4/4 is not filled (events=[«4C 0:0.111 1/9♩», «4D 0.111:0.222 1/9♩», «4E 0.222:0.333 1/9♩», «4F 0.333:0.444 1/9♩», «4G 0.444:0.556 1/9♩», «4B 0.556:0.667 1/9♩», «4C 0.667:0.778 1/9♩», «4D 0.778:0.889 1/9♩», «4E 0.889:1 1/9♩»]). Filling gaps with silences\n",
      "[maelzel.scoring:quant.py:942:quantizeBeatBinary:DEBUG] Skipping (9, 6), divPenalty=0.0509902 * 0.1 > minError=0.005\n",
      "[maelzel.scoring:quant.py:942:quantizeBeatBinary:DEBUG] Skipping (6, 9), divPenalty=0.0509902 * 0.1 > minError=0.005\n",
      "[maelzel.scoring:quant.py:942:quantizeBeatBinary:DEBUG] Skipping (8, 9), divPenalty=0.0509902 * 0.1 > minError=0.005\n",
      "[maelzel.scoring:quant.py:942:quantizeBeatBinary:DEBUG] Skipping (9, 8), divPenalty=0.0509902 * 0.1 > minError=0.005\n"
     ]
    },
    {
     "name": "stdout",
     "output_type": "stream",
     "text": [
      "Beat: 0 - 1 (dur: 1)\n",
      "Best 6 divisions: (quantized in 44.7ms)\n"
     ]
    },
    {
     "data": {
      "text/html": [
       "<table>\n",
       "<thead>\n",
       "<tr><th style=\"text-align: right;\">  error</th><th>div      </th><th>snapped                                                                                                                                                                                                                                                                                                                                                                                                                                                                    </th><th>slots                      </th><th>info                                                                                                                                                                          </th></tr>\n",
       "</thead>\n",
       "<tbody>\n",
       "<tr><td style=\"text-align: right;\"> 0.0030</td><td>(3, 3, 3)</td><td>[«4C 0:0.111 1/9♩», «4D 0.111:0.222 1/9♩», «4E 0.222:0.333 1/9♩», «4F 0.333:0.444 1/9♩», «4G 0.444:0.556 1/9♩», «4B 0.556:0.667 1/9♩», «4C 0.667:0.778 1/9♩», «4D 0.778:0.889 1/9♩», «4E 0.889:1 1/9♩»]                                                                                                                                                                                                                                                                    </td><td>[0, 1, 2, 3, 4, 5, 6, 7, 8]</td><td>gridError=0, rhythmComplexity=0 (numNotesAcrossSubdivs=0, numTies=0), divPenalty=0.03 (0.0003, divPenalty=0, cardinalityPenalty=0, numSubdivsPenalty=0, levelPenalty=0.03)    </td></tr>\n",
       "<tr><td style=\"text-align: right;\"> 0.0050</td><td>(9,)     </td><td>[«4C 0:0.111 1/9♩», «4D 0.111:0.222 1/9♩», «4E 0.222:0.333 1/9♩», «4F 0.333:0.444 1/9♩», «4G 0.444:0.556 1/9♩», «4B 0.556:0.667 1/9♩», «4C 0.667:0.778 1/9♩», «4D 0.778:0.889 1/9♩», «4E 0.889:1 1/9♩»]                                                                                                                                                                                                                                                                    </td><td>[0, 1, 2, 3, 4, 5, 6, 7, 8]</td><td>gridError=0, rhythmComplexity=0 (numNotesAcrossSubdivs=0, numTies=0), divPenalty=0.05 (0.0005, divPenalty=0.05, cardinalityPenalty=0, numSubdivsPenalty=0, levelPenalty=0)    </td></tr>\n",
       "<tr><td style=\"text-align: right;\"> 0.3685</td><td>(8,)     </td><td>[«4C 0:0.125 1/8♩», «4D 0.125:0.25 1/8♩», «4E 0.25:0.375 1/8♩», «4F 0.375:0.5 1/8♩», «4G 0.5:grace properties={&#x27;.snappedGracenote&#x27;: True, &#x27;.originalDuration&#x27;: Fraction(1, 9)}», «4B 0.5:0.625 1/8♩», «4C 0.625:0.75 1/8♩», «4D 0.75:0.875 1/8♩», «4E 0.875:1 1/8♩»]                                                                                                                                                                                                       </td><td>[0, 1, 2, 3, 4, 4, 5, 6, 7]</td><td>gridError=0.368, rhythmComplexity=0 (numNotesAcrossSubdivs=0, numTies=0), divPenalty=0.01 (0.0001, divPenalty=0.01, cardinalityPenalty=0, numSubdivsPenalty=0, levelPenalty=0)</td></tr>\n",
       "<tr><td style=\"text-align: right;\"> 0.4182</td><td>(7,)     </td><td>[«4C 0:0.143 1/7♩», «4D 0.143:0.286 1/7♩», «4E 0.286:grace properties={&#x27;.snappedGracenote&#x27;: True, &#x27;.originalDuration&#x27;: Fraction(1, 9)}», «4F 0.286:0.429 1/7♩», «4G 0.429:0.571 1/7♩», «4B 0.571:0.714 1/7♩», «4C 0.714:grace properties={&#x27;.snappedGracenote&#x27;: True, &#x27;.originalDuration&#x27;: Fraction(1, 9)}», «4D 0.714:0.857 1/7♩», «4E 0.857:1 1/7♩»]                                                                                                                      </td><td>[0, 1, 2, 2, 3, 4, 5, 5, 6]</td><td>gridError=0.418, rhythmComplexity=0 (numNotesAcrossSubdivs=0, numTies=0), divPenalty=0.02 (0.0002, divPenalty=0.02, cardinalityPenalty=0, numSubdivsPenalty=0, levelPenalty=0)</td></tr>\n",
       "<tr><td style=\"text-align: right;\"> 0.4628</td><td>(6,)     </td><td>[«4C 0:0.167 1/6♩», «4D 0.167:grace properties={&#x27;.snappedGracenote&#x27;: True, &#x27;.originalDuration&#x27;: Fraction(1, 9)}», «4E 0.167:0.333 1/6♩», «4F 0.333:0.5 1/6♩», «4G 0.5:grace properties={&#x27;.snappedGracenote&#x27;: True, &#x27;.originalDuration&#x27;: Fraction(1, 9)}», «4B 0.5:0.667 1/6♩», «4C 0.667:0.833 1/6♩», «4D 0.833:grace properties={&#x27;.snappedGracenote&#x27;: True, &#x27;.originalDuration&#x27;: Fraction(1, 9)}», «4E 0.833:1 1/6♩»]                                                     </td><td>[0, 1, 1, 2, 3, 3, 4, 5, 5]</td><td>gridError=0.463, rhythmComplexity=0 (numNotesAcrossSubdivs=0, numTies=0), divPenalty=0.01 (0.0001, divPenalty=0.01, cardinalityPenalty=0, numSubdivsPenalty=0, levelPenalty=0)</td></tr>\n",
       "<tr><td style=\"text-align: right;\"> 0.5742</td><td>(5,)     </td><td>[«4C 0:0.2 1/5♩», «4D 0.2:grace properties={&#x27;.snappedGracenote&#x27;: True, &#x27;.originalDuration&#x27;: Fraction(1, 9)}», «4E 0.2:0.4 1/5♩», «4F 0.4:grace properties={&#x27;.snappedGracenote&#x27;: True, &#x27;.originalDuration&#x27;: Fraction(1, 9)}», «4G 0.4:0.6 1/5♩», «4B 0.6:grace properties={&#x27;.snappedGracenote&#x27;: True, &#x27;.originalDuration&#x27;: Fraction(1, 9)}», «4C 0.6:0.8 1/5♩», «4D 0.8:grace properties={&#x27;.snappedGracenote&#x27;: True, &#x27;.originalDuration&#x27;: Fraction(1, 9)}», «4E 0.8:1 1/5♩»]</td><td>[0, 1, 1, 2, 2, 3, 3, 4, 4]</td><td>gridError=0.574, rhythmComplexity=0 (numNotesAcrossSubdivs=0, numTies=0), divPenalty=0.02 (0.0002, divPenalty=0.02, cardinalityPenalty=0, numSubdivsPenalty=0, levelPenalty=0)</td></tr>\n",
       "</tbody>\n",
       "</table>"
      ],
      "text/plain": [
       "<IPython.core.display.HTML object>"
      ]
     },
     "metadata": {},
     "output_type": "display_data"
    },
    {
     "name": "stderr",
     "output_type": "stream",
     "text": [
      "[maelzel.scoring:quant.py:1683:_mergeSiblings:DEBUG] Nodes cannot merge: \n",
      "Node(3/2, \n",
      "  «4C 0:0.111 1/9♩ 3/2,3/2»\n",
      "  «4D 0.111:0.222 1/9♩ 3/2,3/2»\n",
      "  «4E 0.222:0.333 1/9♩ 3/2,3/2»\n",
      ")\n",
      "Node(3/2, \n",
      "  «4F 0.333:0.444 1/9♩ 3/2,3/2»\n",
      "  «4G 0.444:0.556 1/9♩ 3/2,3/2»\n",
      "  «4B 0.556:0.667 1/9♩ 3/2,3/2»\n",
      ")\n",
      "----> Merging these tuplets is not needed\n",
      "[maelzel.scoring:quant.py:1683:_mergeSiblings:DEBUG] Nodes cannot merge: \n",
      "Node(3/2, \n",
      "  «4F 0.333:0.444 1/9♩ 3/2,3/2»\n",
      "  «4G 0.444:0.556 1/9♩ 3/2,3/2»\n",
      "  «4B 0.556:0.667 1/9♩ 3/2,3/2»\n",
      ")\n",
      "Node(3/2, \n",
      "  «4C 0.667:0.778 1/9♩ 3/2,3/2»\n",
      "  «4D 0.778:0.889 1/9♩ 3/2,3/2»\n",
      "  «4E 0.889:1 1/9♩ 3/2,3/2»\n",
      ")\n",
      "----> Merging these tuplets is not needed\n",
      "[maelzel.scoring:quant.py:1677:_mergeSiblings:DEBUG] Nodes can merge: \n",
      "    Node(1/1, \n",
      "  «rest 1:2 1♩»\n",
      ")\n",
      "    Node(1/1, \n",
      "  «rest 2:3 1♩»\n",
      ")\n",
      "[maelzel.scoring:quant.py:1680:_mergeSiblings:DEBUG] ---- Merged node:\n",
      "    Node(1/1, \n",
      "  «rest 1:3 2♩»\n",
      ")\n",
      "[maelzel.scoring:quant.py:1677:_mergeSiblings:DEBUG] Nodes can merge: \n",
      "    Node(1/1, \n",
      "  «rest 1:3 2♩»\n",
      ")\n",
      "    Node(1/1, \n",
      "  «rest 3:4 1♩»\n",
      ")\n",
      "[maelzel.scoring:quant.py:1680:_mergeSiblings:DEBUG] ---- Merged node:\n",
      "    Node(1/1, \n",
      "  «rest 1:4 3♩»\n",
      ")\n",
      "[maelzel.scoring:node.py:805:_splitNotationAtBoundary:DEBUG] Found a syncopation but the callback was negative, so «rest 1:4 3♩» will not be split\n"
     ]
    },
    {
     "name": "stdout",
     "output_type": "stream",
     "text": [
      "Part #0:\n",
      "  Measure #0\n",
      "    Timesig: 4/4(quarter=60)\n",
      "    Node ratio: 1/1, offset=0, end=4, dur=4, symbolicdur=4\n",
      "      Node ratio: 3/2, offset=0, end=1, dur=1, symbolicdur=3/2\n",
      "        Node ratio: 3/2, offset=0, end=1/3, dur=1/3, symbolicdur=1/2\n",
      "          «4C 0:0.111 1/9♩ 3/2,3/2»\n",
      "          «4D 0.111:0.222 1/9♩ 3/2,3/2»\n",
      "          «4E 0.222:0.333 1/9♩ 3/2,3/2»\n",
      "        Node ratio: 3/2, offset=1/3, end=2/3, dur=1/3, symbolicdur=1/2\n",
      "          «4F 0.333:0.444 1/9♩ 3/2,3/2»\n",
      "          «4G 0.444:0.556 1/9♩ 3/2,3/2»\n",
      "          «4B 0.556:0.667 1/9♩ 3/2,3/2»\n",
      "        Node ratio: 3/2, offset=2/3, end=1, dur=1/3, symbolicdur=1/2\n",
      "          «4C 0.667:0.778 1/9♩ 3/2,3/2»\n",
      "          «4D 0.778:0.889 1/9♩ 3/2,3/2»\n",
      "          «4E 0.889:1 1/9♩ 3/2,3/2»\n",
      "      Node ratio: 1/1, offset=1, end=4, dur=3, symbolicdur=3\n",
      "        «rest 1:4 3♩»\n"
     ]
    }
   ],
   "source": [
    "sco = ch.quantizedScore()\n",
    "sco.dump()"
   ]
  },
  {
   "cell_type": "code",
   "execution_count": 4,
   "id": "549e3050-1271-4434-bbc0-a65a0903314c",
   "metadata": {},
   "outputs": [
    {
     "name": "stderr",
     "output_type": "stream",
     "text": [
      "[maelzel.scoring:quant.py:1364:quantizeMeasure:DEBUG] Measure 4/4 is not filled (events=[«4C 0:0.222 2/9♩», «4E 0.222:0.333 1/9♩», «4F 0.333:0.556 2/9♩», «4B 0.556:0.667 1/9♩», «4C 0.667:0.778 1/9♩», «4D 0.778:0.889 1/9♩», «4E 0.889:1 1/9♩»]). Filling gaps with silences\n",
      "[maelzel.scoring:quant.py:951:quantizeBeatBinary:DEBUG] Skipping (7,), gridError=0.37875069384792276 * 1.0 > minError=0.3727335282416028\n",
      "[maelzel.scoring:quant.py:942:quantizeBeatBinary:DEBUG] Skipping (9, 6), divPenalty=0.0509902 * 0.1 > minError=0.005\n",
      "[maelzel.scoring:quant.py:942:quantizeBeatBinary:DEBUG] Skipping (6, 9), divPenalty=0.0509902 * 0.1 > minError=0.005\n",
      "[maelzel.scoring:quant.py:942:quantizeBeatBinary:DEBUG] Skipping (8, 9), divPenalty=0.0509902 * 0.1 > minError=0.005\n",
      "[maelzel.scoring:quant.py:942:quantizeBeatBinary:DEBUG] Skipping (9, 8), divPenalty=0.0509902 * 0.1 > minError=0.005\n"
     ]
    },
    {
     "name": "stdout",
     "output_type": "stream",
     "text": [
      "Comment! # 4D:1/9\n",
      "Comment! # 4G:1/9\n",
      "Beat: 0 - 1 (dur: 1)\n",
      "Best 5 divisions: (quantized in 35.0ms)\n"
     ]
    },
    {
     "data": {
      "text/html": [
       "<table>\n",
       "<thead>\n",
       "<tr><th style=\"text-align: right;\">  error</th><th>div      </th><th>snapped                                                                                                                                                                                                                                                                            </th><th>slots                </th><th>info                                                                                                                                                                          </th></tr>\n",
       "</thead>\n",
       "<tbody>\n",
       "<tr><td style=\"text-align: right;\"> 0.0030</td><td>(3, 3, 3)</td><td>[«4C 0:0.222 2/9♩», «4E 0.222:0.333 1/9♩», «4F 0.333:0.556 2/9♩», «4B 0.556:0.667 1/9♩», «4C 0.667:0.778 1/9♩», «4D 0.778:0.889 1/9♩», «4E 0.889:1 1/9♩»]                                                                                                                          </td><td>[0, 2, 3, 5, 6, 7, 8]</td><td>gridError=0, rhythmComplexity=0 (numNotesAcrossSubdivs=0, numTies=0), divPenalty=0.03 (0.0003, divPenalty=0, cardinalityPenalty=0, numSubdivsPenalty=0, levelPenalty=0.03)    </td></tr>\n",
       "<tr><td style=\"text-align: right;\"> 0.0050</td><td>(9,)     </td><td>[«4C 0:0.222 2/9♩», «4E 0.222:0.333 1/9♩», «4F 0.333:0.556 2/9♩», «4B 0.556:0.667 1/9♩», «4C 0.667:0.778 1/9♩», «4D 0.778:0.889 1/9♩», «4E 0.889:1 1/9♩»]                                                                                                                          </td><td>[0, 2, 3, 5, 6, 7, 8]</td><td>gridError=0, rhythmComplexity=0 (numNotesAcrossSubdivs=0, numTies=0), divPenalty=0.05 (0.0005, divPenalty=0.05, cardinalityPenalty=0, numSubdivsPenalty=0, levelPenalty=0)    </td></tr>\n",
       "<tr><td style=\"text-align: right;\"> 0.3275</td><td>(8,)     </td><td>[«4C 0:0.25 1/4♩», «4E 0.25:0.375 1/8♩», «4F 0.375:0.5 1/8♩», «4B 0.5:0.625 1/8♩», «4C 0.625:0.75 1/8♩», «4D 0.75:0.875 1/8♩», «4E 0.875:1 1/8♩»]                                                                                                                                  </td><td>[0, 2, 3, 4, 5, 6, 7]</td><td>gridError=0.328, rhythmComplexity=0 (numNotesAcrossSubdivs=0, numTies=0), divPenalty=0.01 (0.0001, divPenalty=0.01, cardinalityPenalty=0, numSubdivsPenalty=0, levelPenalty=0)</td></tr>\n",
       "<tr><td style=\"text-align: right;\"> 0.3727</td><td>(6,)     </td><td>[«4C 0:0.167 1/6♩», «4E 0.167:0.333 1/6♩», «4F 0.333:0.5 1/6♩», «4B 0.5:0.667 1/6♩», «4C 0.667:0.833 1/6♩», «4D 0.833:grace properties={&#x27;.snappedGracenote&#x27;: True, &#x27;.originalDuration&#x27;: Fraction(1, 9)}», «4E 0.833:1 1/6♩»]                                                       </td><td>[0, 1, 2, 3, 4, 5, 5]</td><td>gridError=0.373, rhythmComplexity=0 (numNotesAcrossSubdivs=0, numTies=0), divPenalty=0.01 (0.0001, divPenalty=0.01, cardinalityPenalty=0, numSubdivsPenalty=0, levelPenalty=0)</td></tr>\n",
       "<tr><td style=\"text-align: right;\"> 0.4536</td><td>(5,)     </td><td>[«4C 0:0.2 1/5♩», «4E 0.2:0.4 1/5♩», «4F 0.4:0.6 1/5♩», «4B 0.6:grace properties={&#x27;.snappedGracenote&#x27;: True, &#x27;.originalDuration&#x27;: Fraction(1, 9)}», «4C 0.6:0.8 1/5♩», «4D 0.8:grace properties={&#x27;.snappedGracenote&#x27;: True, &#x27;.originalDuration&#x27;: Fraction(1, 9)}», «4E 0.8:1 1/5♩»]</td><td>[0, 1, 2, 3, 3, 4, 4]</td><td>gridError=0.454, rhythmComplexity=0 (numNotesAcrossSubdivs=0, numTies=0), divPenalty=0.02 (0.0002, divPenalty=0.02, cardinalityPenalty=0, numSubdivsPenalty=0, levelPenalty=0)</td></tr>\n",
       "</tbody>\n",
       "</table>"
      ],
      "text/plain": [
       "<IPython.core.display.HTML object>"
      ]
     },
     "metadata": {},
     "output_type": "display_data"
    },
    {
     "name": "stderr",
     "output_type": "stream",
     "text": [
      "[maelzel.scoring:quant.py:1683:_mergeSiblings:DEBUG] Nodes cannot merge: \n",
      "Node(3/2, \n",
      "  «4C 0:0.222 2/9♩ 3/2,3/2»\n",
      "  «4E 0.222:0.333 1/9♩ 3/2,3/2»\n",
      ")\n",
      "Node(3/2, \n",
      "  «4F 0.333:0.556 2/9♩ 3/2,3/2»\n",
      "  «4B 0.556:0.667 1/9♩ 3/2,3/2»\n",
      ")\n",
      "----> Merging these tuplets is not needed\n",
      "[maelzel.scoring:quant.py:1683:_mergeSiblings:DEBUG] Nodes cannot merge: \n",
      "Node(3/2, \n",
      "  «4F 0.333:0.556 2/9♩ 3/2,3/2»\n",
      "  «4B 0.556:0.667 1/9♩ 3/2,3/2»\n",
      ")\n",
      "Node(3/2, \n",
      "  «4C 0.667:0.778 1/9♩ 3/2,3/2»\n",
      "  «4D 0.778:0.889 1/9♩ 3/2,3/2»\n",
      "  «4E 0.889:1 1/9♩ 3/2,3/2»\n",
      ")\n",
      "----> Merging these tuplets is not needed\n",
      "[maelzel.scoring:quant.py:1677:_mergeSiblings:DEBUG] Nodes can merge: \n",
      "    Node(1/1, \n",
      "  «rest 1:2 1♩»\n",
      ")\n",
      "    Node(1/1, \n",
      "  «rest 2:3 1♩»\n",
      ")\n",
      "[maelzel.scoring:quant.py:1680:_mergeSiblings:DEBUG] ---- Merged node:\n",
      "    Node(1/1, \n",
      "  «rest 1:3 2♩»\n",
      ")\n",
      "[maelzel.scoring:quant.py:1677:_mergeSiblings:DEBUG] Nodes can merge: \n",
      "    Node(1/1, \n",
      "  «rest 1:3 2♩»\n",
      ")\n",
      "    Node(1/1, \n",
      "  «rest 3:4 1♩»\n",
      ")\n",
      "[maelzel.scoring:quant.py:1680:_mergeSiblings:DEBUG] ---- Merged node:\n",
      "    Node(1/1, \n",
      "  «rest 1:4 3♩»\n",
      ")\n",
      "[maelzel.scoring:node.py:805:_splitNotationAtBoundary:DEBUG] Found a syncopation but the callback was negative, so «rest 1:4 3♩» will not be split\n",
      "[maelzel:lilytools.py:191:findLilypond:DEBUG] findLilypond: searching via shutil.which\n",
      "[maelzel:lilytools.py:194:findLilypond:DEBUG] ... found! lilypond path: /home/em/.local/bin/lilypond\n",
      "[maelzel.scoring:renderlily.py:1141:write:DEBUG] Rendering lilypond '/home/em/.cache/tmpvlfwp79c/2hveisg5.ly' to '/home/em/.cache/tmpvlfwp79c/2hveisg5.png'\n",
      "[maelzel:lilytools.py:332:renderLily:DEBUG] Rendering lilypond '/home/em/.cache/tmpvlfwp79c/2hveisg5.ly' to '/home/em/.cache/tmpvlfwp79c/2hveisg5.png'\n",
      "[maelzel:lilytools.py:191:findLilypond:DEBUG] findLilypond: searching via shutil.which\n",
      "[maelzel:lilytools.py:194:findLilypond:DEBUG] ... found! lilypond path: /home/em/.local/bin/lilypond\n",
      "[maelzel:lilytools.py:354:renderLily:DEBUG] Calling lilypond subprocess: ['/home/em/.local/bin/lilypond', '--png', '-o', '/home/em/.cache/tmpvlfwp79c/2hveisg5', '-dresolution=200', '/tmp/tmp13hnefmv.ly']\n",
      "[maelzel:lilytools.py:377:renderLily:DEBUG] lilypond executed OK\n",
      "[maelzel:lilytools.py:382:renderLily:DEBUG] stderr: \n",
      "[maelzel:lilytools.py:383:renderLily:DEBUG]  Changing working directory to: `/home/em/.cache/tmpvlfwp79c'\n",
      " Processing `/tmp/tmp13hnefmv.ly'\n",
      " Parsing...\n",
      " Interpreting music...\n",
      " Preprocessing graphical objects...\n",
      " Finding the ideal number of pages...\n",
      " Fitting music on 1 page...\n",
      " Drawing systems...\n",
      " Converting to PNG...\n",
      " Layout output to `2hveisg5.cropped.eps'...\n",
      " Converting to PNG...\n",
      " Success: compilation successfully completed\n",
      "\n",
      "[maelzel.scoring:renderlily.py:1154:write:DEBUG] Found crop file /home/em/.cache/tmpvlfwp79c/2hveisg5.cropped.png, using that as output\n"
     ]
    },
    {
     "data": {
      "text/html": [
       "<code style=\"white-space: pre-line; font-size:0.9em;\">Chain([<span style=\"color:#6666E0\">4C:0.222♩</span>, <span style=\"color:#6666E0\">4E:0.111♩</span>, <span style=\"color:#6666E0\">4F:0.222♩</span>, <span style=\"color:#6666E0\">4B:0.111♩</span>, <span style=\"color:#6666E0\">4C:0.111♩</span>, <span style=\"color:#6666E0\">4D:0.111♩</span>, <span style=\"color:#6666E0\">4E:0.111♩</span>], dur=1)</code><br>\n",
       "        <img style=\"display:inline; padding:10px;\n",
       "margin-top:14px;\n",
       "width:302px\"\n",
       "             src=\"data:image/png;base64,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\"/>"
      ],
      "text/plain": [
       "Chain([4C:0.222♩, 4E:0.111♩, 4F:0.222♩, 4B:0.111♩, 4C:0.111♩, 4D:0.111♩, 4E:0.111♩])"
      ]
     },
     "execution_count": 4,
     "metadata": {},
     "output_type": "execute_result"
    }
   ],
   "source": [
    "ch = Chain(r\"\"\"\n",
    "    4C:2/9\n",
    "    # 4D:1/9\n",
    "    4E:1/9\n",
    "    4F:2/9\n",
    "    # 4G:1/9\n",
    "    4B:1/9\n",
    "    4C:1/9\n",
    "    4D:1/9\n",
    "    4E:1/9\n",
    "    \n",
    "\"\"\")\n",
    "ch"
   ]
  },
  {
   "cell_type": "code",
   "execution_count": 6,
   "id": "e368a499-2fde-4514-8f45-cd53e6843d2c",
   "metadata": {},
   "outputs": [
    {
     "name": "stderr",
     "output_type": "stream",
     "text": [
      "[maelzel.scoring:quant.py:1364:quantizeMeasure:DEBUG] Measure 4/4 is not filled (events=[«4C 0:0.222 2/9♩», «4D 0.222:0.444 2/9♩», «4E 0.444:0.667 2/9♩», «4F 0.667:0.778 1/9♩», «4G 0.778:0.889 1/9♩», «4B 0.889:1 1/9♩»]). Filling gaps with silences\n",
      "[maelzel.scoring:quant.py:942:quantizeBeatBinary:DEBUG] Skipping (9, 6), divPenalty=0.0509902 * 0.1 > minError=0.005\n",
      "[maelzel.scoring:quant.py:942:quantizeBeatBinary:DEBUG] Skipping (6, 9), divPenalty=0.0509902 * 0.1 > minError=0.005\n",
      "[maelzel.scoring:quant.py:942:quantizeBeatBinary:DEBUG] Skipping (8, 9), divPenalty=0.0509902 * 0.1 > minError=0.005\n",
      "[maelzel.scoring:quant.py:942:quantizeBeatBinary:DEBUG] Skipping (9, 8), divPenalty=0.0509902 * 0.1 > minError=0.005\n",
      "[maelzel.scoring:quant.py:942:quantizeBeatBinary:DEBUG] Skipping (8, 5, 8), divPenalty=0.0387298 * 0.1 > minError=0.00381517\n",
      "[maelzel.scoring:quant.py:942:quantizeBeatBinary:DEBUG] Skipping (8, 8, 5), divPenalty=0.0387298 * 0.1 > minError=0.00381517\n",
      "[maelzel.scoring:quant.py:942:quantizeBeatBinary:DEBUG] Skipping (5, 8, 8), divPenalty=0.0387298 * 0.1 > minError=0.00381517\n",
      "[maelzel.scoring:quant.py:942:quantizeBeatBinary:DEBUG] Skipping (8, 7, 8), divPenalty=0.0387298 * 0.1 > minError=0.00381517\n",
      "[maelzel.scoring:quant.py:942:quantizeBeatBinary:DEBUG] Skipping (7, 8, 8), divPenalty=0.0387298 * 0.1 > minError=0.00381517\n",
      "[maelzel.scoring:quant.py:942:quantizeBeatBinary:DEBUG] Skipping (8, 8, 7), divPenalty=0.0387298 * 0.1 > minError=0.00381517\n",
      "[maelzel.scoring:quant.py:942:quantizeBeatBinary:DEBUG] Skipping (5, 3, 3, 5), divPenalty=0.0382843 * 0.1 > minError=0.00381517\n",
      "[maelzel.scoring:quant.py:942:quantizeBeatBinary:DEBUG] Skipping (1, 5, 3, 5), divPenalty=0.0382843 * 0.1 > minError=0.00381517\n",
      "[maelzel.scoring:quant.py:942:quantizeBeatBinary:DEBUG] Skipping (5, 5, 3, 3), divPenalty=0.0382843 * 0.1 > minError=0.00381517\n",
      "[maelzel.scoring:quant.py:942:quantizeBeatBinary:DEBUG] Skipping (1, 3, 5, 5), divPenalty=0.0382843 * 0.1 > minError=0.00381517\n",
      "[maelzel.scoring:quant.py:942:quantizeBeatBinary:DEBUG] Skipping (5, 3, 5, 3), divPenalty=0.0382843 * 0.1 > minError=0.00381517\n",
      "[maelzel.scoring:quant.py:942:quantizeBeatBinary:DEBUG] Skipping (1, 5, 5, 3), divPenalty=0.0382843 * 0.1 > minError=0.00381517\n",
      "[maelzel.scoring:quant.py:942:quantizeBeatBinary:DEBUG] Skipping (1, 3, 5, 7), divPenalty=0.0382843 * 0.1 > minError=0.00381517\n",
      "[maelzel.scoring:quant.py:942:quantizeBeatBinary:DEBUG] Skipping (1, 5, 7, 3), divPenalty=0.0382843 * 0.1 > minError=0.00381517\n",
      "[maelzel.scoring:quant.py:942:quantizeBeatBinary:DEBUG] Skipping (7, 3, 5, 3), divPenalty=0.0382843 * 0.1 > minError=0.00381517\n",
      "[maelzel.scoring:quant.py:942:quantizeBeatBinary:DEBUG] Skipping (7, 5, 3, 3), divPenalty=0.0382843 * 0.1 > minError=0.00381517\n",
      "[maelzel.scoring:quant.py:942:quantizeBeatBinary:DEBUG] Skipping (5, 3, 3, 7), divPenalty=0.0382843 * 0.1 > minError=0.00381517\n",
      "[maelzel.scoring:quant.py:942:quantizeBeatBinary:DEBUG] Skipping (7, 3, 3, 5), divPenalty=0.0382843 * 0.1 > minError=0.00381517\n",
      "[maelzel.scoring:quant.py:942:quantizeBeatBinary:DEBUG] Skipping (1, 7, 5, 3), divPenalty=0.0382843 * 0.1 > minError=0.00381517\n",
      "[maelzel.scoring:quant.py:942:quantizeBeatBinary:DEBUG] Skipping (5, 3, 7, 3), divPenalty=0.0382843 * 0.1 > minError=0.00381517\n",
      "[maelzel.scoring:quant.py:942:quantizeBeatBinary:DEBUG] Skipping (1, 5, 3, 7), divPenalty=0.0382843 * 0.1 > minError=0.00381517\n",
      "[maelzel.scoring:quant.py:942:quantizeBeatBinary:DEBUG] Skipping (1, 7, 3, 5), divPenalty=0.0382843 * 0.1 > minError=0.00381517\n",
      "[maelzel.scoring:quant.py:942:quantizeBeatBinary:DEBUG] Skipping (5, 7, 3, 3), divPenalty=0.0382843 * 0.1 > minError=0.00381517\n",
      "[maelzel.scoring:quant.py:942:quantizeBeatBinary:DEBUG] Skipping (1, 3, 7, 5), divPenalty=0.0382843 * 0.1 > minError=0.00381517\n",
      "[maelzel.scoring:quant.py:942:quantizeBeatBinary:DEBUG] Skipping (1, 5, 5, 6), divPenalty=0.04 * 0.1 > minError=0.00381517\n",
      "[maelzel.scoring:quant.py:942:quantizeBeatBinary:DEBUG] Skipping (6, 3, 5, 5), divPenalty=0.04 * 0.1 > minError=0.00381517\n",
      "[maelzel.scoring:quant.py:942:quantizeBeatBinary:DEBUG] Skipping (5, 6, 3, 5), divPenalty=0.04 * 0.1 > minError=0.00381517\n",
      "[maelzel.scoring:quant.py:942:quantizeBeatBinary:DEBUG] Skipping (6, 5, 5, 3), divPenalty=0.04 * 0.1 > minError=0.00381517\n",
      "[maelzel.scoring:quant.py:942:quantizeBeatBinary:DEBUG] Skipping (5, 5, 3, 6), divPenalty=0.04 * 0.1 > minError=0.00381517\n",
      "[maelzel.scoring:quant.py:942:quantizeBeatBinary:DEBUG] Skipping (6, 5, 3, 5), divPenalty=0.04 * 0.1 > minError=0.00381517\n",
      "[maelzel.scoring:quant.py:942:quantizeBeatBinary:DEBUG] Skipping (5, 6, 5, 3), divPenalty=0.04 * 0.1 > minError=0.00381517\n",
      "[maelzel.scoring:quant.py:942:quantizeBeatBinary:DEBUG] Skipping (5, 3, 5, 6), divPenalty=0.04 * 0.1 > minError=0.00381517\n",
      "[maelzel.scoring:quant.py:942:quantizeBeatBinary:DEBUG] Skipping (1, 6, 5, 5), divPenalty=0.04 * 0.1 > minError=0.00381517\n",
      "[maelzel.scoring:quant.py:942:quantizeBeatBinary:DEBUG] Skipping (1, 6, 7, 5), divPenalty=0.04 * 0.1 > minError=0.00381517\n",
      "[maelzel.scoring:quant.py:942:quantizeBeatBinary:DEBUG] Skipping (6, 5, 7, 3), divPenalty=0.04 * 0.1 > minError=0.00381517\n",
      "[maelzel.scoring:quant.py:942:quantizeBeatBinary:DEBUG] Skipping (1, 5, 7, 6), divPenalty=0.04 * 0.1 > minError=0.00381517\n",
      "[maelzel.scoring:quant.py:942:quantizeBeatBinary:DEBUG] Skipping (7, 3, 5, 6), divPenalty=0.04 * 0.1 > minError=0.00381517\n",
      "[maelzel.scoring:quant.py:942:quantizeBeatBinary:DEBUG] Skipping (5, 6, 3, 7), divPenalty=0.04 * 0.1 > minError=0.00381517\n",
      "[maelzel.scoring:quant.py:942:quantizeBeatBinary:DEBUG] Skipping (1, 7, 5, 6), divPenalty=0.04 * 0.1 > minError=0.00381517\n",
      "[maelzel.scoring:quant.py:942:quantizeBeatBinary:DEBUG] Skipping (5, 7, 3, 6), divPenalty=0.04 * 0.1 > minError=0.00381517\n",
      "[maelzel.scoring:quant.py:942:quantizeBeatBinary:DEBUG] Skipping (6, 3, 7, 5), divPenalty=0.04 * 0.1 > minError=0.00381517\n",
      "[maelzel.scoring:quant.py:942:quantizeBeatBinary:DEBUG] Skipping (1, 6, 5, 7), divPenalty=0.04 * 0.1 > minError=0.00381517\n",
      "[maelzel.scoring:quant.py:942:quantizeBeatBinary:DEBUG] Skipping (7, 6, 5, 3), divPenalty=0.04 * 0.1 > minError=0.00381517\n",
      "[maelzel.scoring:quant.py:942:quantizeBeatBinary:DEBUG] Skipping (6, 3, 5, 7), divPenalty=0.04 * 0.1 > minError=0.00381517\n",
      "[maelzel.scoring:quant.py:942:quantizeBeatBinary:DEBUG] Skipping (6, 7, 5, 3), divPenalty=0.04 * 0.1 > minError=0.00381517\n",
      "[maelzel.scoring:quant.py:942:quantizeBeatBinary:DEBUG] Skipping (6, 5, 3, 7), divPenalty=0.04 * 0.1 > minError=0.00381517\n",
      "[maelzel.scoring:quant.py:942:quantizeBeatBinary:DEBUG] Skipping (7, 5, 3, 6), divPenalty=0.04 * 0.1 > minError=0.00381517\n",
      "[maelzel.scoring:quant.py:942:quantizeBeatBinary:DEBUG] Skipping (7, 6, 3, 5), divPenalty=0.04 * 0.1 > minError=0.00381517\n",
      "[maelzel.scoring:quant.py:942:quantizeBeatBinary:DEBUG] Skipping (5, 3, 7, 6), divPenalty=0.04 * 0.1 > minError=0.00381517\n",
      "[maelzel.scoring:quant.py:942:quantizeBeatBinary:DEBUG] Skipping (5, 6, 7, 3), divPenalty=0.04 * 0.1 > minError=0.00381517\n",
      "[maelzel.scoring:quant.py:942:quantizeBeatBinary:DEBUG] Skipping (6, 7, 3, 5), divPenalty=0.04 * 0.1 > minError=0.00381517\n",
      "[maelzel.scoring:quant.py:942:quantizeBeatBinary:DEBUG] Skipping (7, 7, 3, 6), divPenalty=0.04 * 0.1 > minError=0.00381517\n",
      "[maelzel.scoring:quant.py:942:quantizeBeatBinary:DEBUG] Skipping (7, 6, 3, 7), divPenalty=0.04 * 0.1 > minError=0.00381517\n",
      "[maelzel.scoring:quant.py:942:quantizeBeatBinary:DEBUG] Skipping (6, 7, 3, 7), divPenalty=0.04 * 0.1 > minError=0.00381517\n"
     ]
    },
    {
     "name": "stdout",
     "output_type": "stream",
     "text": [
      "Comment! #4C:1/9\n",
      "Comment! #4D:1/9\n",
      "Comment! #4E:1/9\n",
      "Beat: 0 - 1 (dur: 1)\n",
      "Best 6 divisions: (quantized in 82.0ms)\n"
     ]
    },
    {
     "data": {
      "text/html": [
       "<table>\n",
       "<thead>\n",
       "<tr><th style=\"text-align: right;\">  error</th><th>div      </th><th>snapped                                                                                                                                                                                                  </th><th>slots             </th><th>info                                                                                                                                                                           </th></tr>\n",
       "</thead>\n",
       "<tbody>\n",
       "<tr><td style=\"text-align: right;\"> 0.0038</td><td>(3, 3, 3)</td><td>[«4C 0:0.222 2/9♩», «4D 0.222:0.444 2/9♩», «4E 0.444:0.667 2/9♩», «4F 0.667:0.778 1/9♩», «4G 0.778:0.889 1/9♩», «4B 0.889:1 1/9♩»]                                                                       </td><td>[0, 2, 4, 6, 7, 8]</td><td>gridError=0, rhythmComplexity=0.0745 (numNotesAcrossSubdivs=1, numTies=0), divPenalty=0.03 (0.0003, divPenalty=0, cardinalityPenalty=0, numSubdivsPenalty=0, levelPenalty=0.03)</td></tr>\n",
       "<tr><td style=\"text-align: right;\"> 0.0050</td><td>(9,)     </td><td>[«4C 0:0.222 2/9♩», «4D 0.222:0.444 2/9♩», «4E 0.444:0.667 2/9♩», «4F 0.667:0.778 1/9♩», «4G 0.778:0.889 1/9♩», «4B 0.889:1 1/9♩»]                                                                       </td><td>[0, 2, 4, 6, 7, 8]</td><td>gridError=0, rhythmComplexity=0 (numNotesAcrossSubdivs=0, numTies=0), divPenalty=0.05 (0.0005, divPenalty=0.05, cardinalityPenalty=0, numSubdivsPenalty=0, levelPenalty=0)     </td></tr>\n",
       "<tr><td style=\"text-align: right;\"> 0.2855</td><td>(8,)     </td><td>[«4C 0:0.25 1/4♩», «4D 0.25:0.5 1/4♩», «4E 0.5:0.625 1/8♩», «4F 0.625:0.75 1/8♩», «4G 0.75:0.875 1/8♩», «4B 0.875:1 1/8♩»]                                                                               </td><td>[0, 2, 4, 5, 6, 7]</td><td>gridError=0.285, rhythmComplexity=0 (numNotesAcrossSubdivs=0, numTies=0), divPenalty=0.01 (0.0001, divPenalty=0.01, cardinalityPenalty=0, numSubdivsPenalty=0, levelPenalty=0) </td></tr>\n",
       "<tr><td style=\"text-align: right;\"> 0.3564</td><td>(7,)     </td><td>[«4C 0:0.286 2/7♩», «4D 0.286:0.429 1/7♩», «4E 0.429:0.714 2/7♩», «4F 0.714:grace properties={&#x27;.snappedGracenote&#x27;: True, &#x27;.originalDuration&#x27;: Fraction(1, 9)}», «4G 0.714:0.857 1/7♩», «4B 0.857:1 1/7♩»]</td><td>[0, 2, 3, 5, 5, 6]</td><td>gridError=0.356, rhythmComplexity=0 (numNotesAcrossSubdivs=0, numTies=0), divPenalty=0.02 (0.0002, divPenalty=0.02, cardinalityPenalty=0, numSubdivsPenalty=0, levelPenalty=0) </td></tr>\n",
       "<tr><td style=\"text-align: right;\"> 0.3727</td><td>(6,)     </td><td>[«4C 0:0.167 1/6♩», «4D 0.167:0.5 1/3♩», «4E 0.5:0.667 1/6♩», «4F 0.667:0.833 1/6♩», «4G 0.833:grace properties={&#x27;.snappedGracenote&#x27;: True, &#x27;.originalDuration&#x27;: Fraction(1, 9)}», «4B 0.833:1 1/6♩»]    </td><td>[0, 1, 3, 4, 5, 5]</td><td>gridError=0.373, rhythmComplexity=0 (numNotesAcrossSubdivs=0, numTies=0), divPenalty=0.01 (0.0001, divPenalty=0.01, cardinalityPenalty=0, numSubdivsPenalty=0, levelPenalty=0) </td></tr>\n",
       "<tr><td style=\"text-align: right;\"> 0.3795</td><td>(5,)     </td><td>[«4C 0:0.2 1/5♩», «4D 0.2:0.4 1/5♩», «4E 0.4:0.6 1/5♩», «4F 0.6:0.8 1/5♩», «4G 0.8:grace properties={&#x27;.snappedGracenote&#x27;: True, &#x27;.originalDuration&#x27;: Fraction(1, 9)}», «4B 0.8:1 1/5♩»]                  </td><td>[0, 1, 2, 3, 4, 4]</td><td>gridError=0.379, rhythmComplexity=0 (numNotesAcrossSubdivs=0, numTies=0), divPenalty=0.02 (0.0002, divPenalty=0.02, cardinalityPenalty=0, numSubdivsPenalty=0, levelPenalty=0) </td></tr>\n",
       "</tbody>\n",
       "</table>"
      ],
      "text/plain": [
       "<IPython.core.display.HTML object>"
      ]
     },
     "metadata": {},
     "output_type": "display_data"
    },
    {
     "name": "stderr",
     "output_type": "stream",
     "text": [
      "[maelzel.scoring:quant.py:1677:_mergeSiblings:DEBUG] Nodes can merge: \n",
      "    Node(3/2, \n",
      "  «4C 0:0.222 2/9♩ 3/2,3/2»\n",
      "  «4D~ 0.222:0.333 1/9♩ 3/2,3/2»\n",
      ")\n",
      "    Node(3/2, \n",
      "  «~4D 0.333:0.444 1/9♩ 3/2,3/2»\n",
      "  «4E 0.444:0.667 2/9♩ 3/2,3/2»\n",
      ")\n",
      "[maelzel.scoring:quant.py:1680:_mergeSiblings:DEBUG] ---- Merged node:\n",
      "    Node(3/2, \n",
      "  «4C 0:0.222 2/9♩ 3/2,3/2»\n",
      "  «4D 0.222:0.444 2/9♩ 3/2,3/2»\n",
      "  «4E 0.444:0.667 2/9♩ 3/2,3/2»\n",
      ")\n",
      "[maelzel.scoring:quant.py:1683:_mergeSiblings:DEBUG] Nodes cannot merge: \n",
      "Node(3/2, \n",
      "  «4C 0:0.222 2/9♩ 3/2,3/2»\n",
      "  «4D 0.222:0.444 2/9♩ 3/2,3/2»\n",
      "  «4E 0.444:0.667 2/9♩ 3/2,3/2»\n",
      ")\n",
      "Node(3/2, \n",
      "  «4F 0.667:0.778 1/9♩ 3/2,3/2»\n",
      "  «4G 0.778:0.889 1/9♩ 3/2,3/2»\n",
      "  «4B 0.889:1 1/9♩ 3/2,3/2»\n",
      ")\n",
      "----> A parent cannot hold a group of the same size of itself\n",
      "[maelzel.scoring:quant.py:1677:_mergeSiblings:DEBUG] Nodes can merge: \n",
      "    Node(1/1, \n",
      "  «rest 1:2 1♩»\n",
      ")\n",
      "    Node(1/1, \n",
      "  «rest 2:3 1♩»\n",
      ")\n",
      "[maelzel.scoring:quant.py:1680:_mergeSiblings:DEBUG] ---- Merged node:\n",
      "    Node(1/1, \n",
      "  «rest 1:3 2♩»\n",
      ")\n",
      "[maelzel.scoring:quant.py:1677:_mergeSiblings:DEBUG] Nodes can merge: \n",
      "    Node(1/1, \n",
      "  «rest 1:3 2♩»\n",
      ")\n",
      "    Node(1/1, \n",
      "  «rest 3:4 1♩»\n",
      ")\n",
      "[maelzel.scoring:quant.py:1680:_mergeSiblings:DEBUG] ---- Merged node:\n",
      "    Node(1/1, \n",
      "  «rest 1:4 3♩»\n",
      ")\n",
      "[maelzel.scoring:node.py:805:_splitNotationAtBoundary:DEBUG] Found a syncopation but the callback was negative, so «rest 1:4 3♩» will not be split\n",
      "[maelzel:lilytools.py:191:findLilypond:DEBUG] findLilypond: searching via shutil.which\n",
      "[maelzel:lilytools.py:194:findLilypond:DEBUG] ... found! lilypond path: /home/em/.local/bin/lilypond\n"
     ]
    },
    {
     "data": {
      "text/html": [
       "<code style=\"white-space: pre-line; font-size:0.9em;\">Chain([<span style=\"color:#6666E0\">4C:0.222♩</span>, <span style=\"color:#6666E0\">4D:0.222♩</span>, <span style=\"color:#6666E0\">4E:0.222♩</span>, <span style=\"color:#6666E0\">4F:0.111♩</span>, <span style=\"color:#6666E0\">4G:0.111♩</span>, <span style=\"color:#6666E0\">4B:0.111♩</span>], dur=1)</code><br>\n",
       "        <img style=\"display:inline; padding:10px;\n",
       "margin-top:14px;\n",
       "width:291px\"\n",
       "             src=\"data:image/png;base64,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\"/>"
      ],
      "text/plain": [
       "Chain([4C:0.222♩, 4D:0.222♩, 4E:0.222♩, 4F:0.111♩, 4G:0.111♩, 4B:0.111♩])"
      ]
     },
     "execution_count": 6,
     "metadata": {},
     "output_type": "execute_result"
    }
   ],
   "source": [
    "ch = Chain(r\"\"\"\n",
    "    4C:2/9\n",
    "    4D:2/9\n",
    "    4E:2/9\n",
    "    4F:1/9\n",
    "    4G:1/9\n",
    "    4B:1/9\n",
    "    #4C:1/9\n",
    "    #4D:1/9\n",
    "    #4E:1/9\n",
    "    \n",
    "\"\"\")\n",
    "ch.write('~/tmp/quant3.ly')\n",
    "ch"
   ]
  }
 ],
 "metadata": {
  "kernelspec": {
   "display_name": "Python 3 (ipykernel)",
   "language": "python",
   "name": "python3"
  },
  "language_info": {
   "codemirror_mode": {
    "name": "ipython",
    "version": 3
   },
   "file_extension": ".py",
   "mimetype": "text/x-python",
   "name": "python",
   "nbconvert_exporter": "python",
   "pygments_lexer": "ipython3",
   "version": "3.11.6"
  }
 },
 "nbformat": 4,
 "nbformat_minor": 5
}
