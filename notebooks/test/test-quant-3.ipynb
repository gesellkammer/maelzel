{
 "cells": [
  {
   "cell_type": "code",
   "execution_count": 1,
   "id": "02a5c41a-00e3-4491-9c4a-79a5df8739a9",
   "metadata": {},
   "outputs": [],
   "source": [
    "from maelzel.core import *\n",
    "cfg = getConfig()\n",
    "cfg['quant.debug'] = True\n",
    "import logging\n",
    "logger = logging.getLogger('maelzel')\n",
    "logger.setLevel('DEBUG')"
   ]
  },
  {
   "cell_type": "code",
   "execution_count": 2,
   "id": "05ea1a73-3d40-4133-989f-ba14433c3baf",
   "metadata": {},
   "outputs": [
    {
     "name": "stderr",
     "output_type": "stream",
     "text": [
      "[maelzel.scoring:quant.py:1471:quantizeMeasure:DEBUG] Measure 4/4 is not filled (events=[‹4C 0:0.111 1/9♩›, ‹4D 0.111:0.222 1/9♩›, ‹4E 0.222:0.333 1/9♩›, ‹4F 0.333:0.444 1/9♩›, ‹4G 0.444:0.556 1/9♩›, ‹4B 0.556:0.667 1/9♩›, ‹4C 0.667:0.778 1/9♩›, ‹4D 0.778:0.889 1/9♩›, ‹4E 0.889:1 1/9♩›]). Filling gaps with silences\n",
      "[maelzel.scoring:quant.py:1149:quantizeBeatBinary:DEBUG] Skipping (9, 6), divPenalty=0.0509902 * 0.1 > minError=0.005\n",
      "[maelzel.scoring:quant.py:1149:quantizeBeatBinary:DEBUG] Skipping (6, 9), divPenalty=0.0509902 * 0.1 > minError=0.005\n",
      "[maelzel.scoring:quant.py:1149:quantizeBeatBinary:DEBUG] Skipping (8, 9), divPenalty=0.0509902 * 0.1 > minError=0.005\n",
      "[maelzel.scoring:quant.py:1149:quantizeBeatBinary:DEBUG] Skipping (9, 8), divPenalty=0.0509902 * 0.1 > minError=0.005\n"
     ]
    },
    {
     "name": "stdout",
     "output_type": "stream",
     "text": [
      "Beat: 0 - 1 (dur: 1)\n"
     ]
    },
    {
     "data": {
      "text/html": [
       "<table>\n",
       "<thead>\n",
       "<tr><th style=\"text-align: right;\">  error</th><th>div      </th><th>snapped                                                                                                                                                                                                                                                                                                                                                                                                               </th><th>slots                      </th><th>info                                                                                                                                                              </th></tr>\n",
       "</thead>\n",
       "<tbody>\n",
       "<tr><td style=\"text-align: right;\"> 0.0030</td><td>(3, 3, 3)</td><td>[‹4C 0:0.111 1/9♩›, ‹4D 0.111:0.222 1/9♩›, ‹4E 0.222:0.333 1/9♩›, ‹4F 0.333:0.444 1/9♩›, ‹4G 0.444:0.556 1/9♩›, ‹4B 0.556:0.667 1/9♩›, ‹4C 0.667:0.778 1/9♩›, ‹4D 0.778:0.889 1/9♩›, ‹4E 0.889:1 1/9♩›]                                                                                                                                                                                                               </td><td>[0, 1, 2, 3, 4, 5, 6, 7, 8]</td><td>gridError=0, rhythmComplexity=0 (numSyncop=0, numTies=0), divPenalty=0.03 (0.0003, divPenalty=0, cardinalityPenalty=0, numSubdivsPenalty=0, levelPenalty=0.03)    </td></tr>\n",
       "<tr><td style=\"text-align: right;\"> 0.0050</td><td>(9,)     </td><td>[‹4C 0:0.111 1/9♩›, ‹4D 0.111:0.222 1/9♩›, ‹4E 0.222:0.333 1/9♩›, ‹4F 0.333:0.444 1/9♩›, ‹4G 0.444:0.556 1/9♩›, ‹4B 0.556:0.667 1/9♩›, ‹4C 0.667:0.778 1/9♩›, ‹4D 0.778:0.889 1/9♩›, ‹4E 0.889:1 1/9♩›]                                                                                                                                                                                                               </td><td>[0, 1, 2, 3, 4, 5, 6, 7, 8]</td><td>gridError=0, rhythmComplexity=0 (numSyncop=0, numTies=0), divPenalty=0.05 (0.0005, divPenalty=0.05, cardinalityPenalty=0, numSubdivsPenalty=0, levelPenalty=0)    </td></tr>\n",
       "<tr><td style=\"text-align: right;\"> 0.3685</td><td>(8,)     </td><td>[‹4C 0:0.125 1/8♩›, ‹4D 0.125:0.25 1/8♩›, ‹4E 0.25:0.375 1/8♩›, ‹4F 0.375:0.5 1/8♩›, ‹4G 0.5:grace properties={&#x27;.snappedGracenote&#x27;: True, &#x27;.originalDuration&#x27;: Fraction(1, 9)}›, ‹4B 0.5:0.625 1/8♩›, ‹4C 0.625:0.75 1/8♩›, ‹4D 0.75:0.875 1/8♩›, ‹4E 0.875:1 1/8♩›]                                                                                                                                                  </td><td>[0, 1, 2, 3, 4, 4, 5, 6, 7]</td><td>gridError=0.368, rhythmComplexity=0 (numSyncop=0, numTies=0), divPenalty=0.01 (0.0001, divPenalty=0.01, cardinalityPenalty=0, numSubdivsPenalty=0, levelPenalty=0)</td></tr>\n",
       "<tr><td style=\"text-align: right;\"> 0.4182</td><td>(7,)     </td><td>[‹4C 0:0.143 1/7♩›, ‹4D 0.143:0.286 1/7♩›, ‹4E 0.286:grace properties={&#x27;.snappedGracenote&#x27;: True, &#x27;.originalDuration&#x27;: Fraction(1, 9)}›, ‹4F 0.286:0.429 1/7♩›, ‹4G 0.429:0.571 1/7♩›, ‹4B 0.571:0.714 1/7♩›, ‹4C 0.714:grace properties={&#x27;.snappedGracenote&#x27;: True, &#x27;.originalDuration&#x27;: Fraction(1, 9)}›, ‹4D 0.714:0.857 1/7♩›, ‹4E 0.857:1 1/7♩›]                                                                 </td><td>[0, 1, 2, 2, 3, 4, 5, 5, 6]</td><td>gridError=0.418, rhythmComplexity=0 (numSyncop=0, numTies=0), divPenalty=0.02 (0.0002, divPenalty=0.02, cardinalityPenalty=0, numSubdivsPenalty=0, levelPenalty=0)</td></tr>\n",
       "<tr><td style=\"text-align: right;\"> 0.4628</td><td>(6,)     </td><td>[‹4C 0:0.167 1/6♩›, ‹4D 0.167:grace properties={&#x27;.snappedGracenote&#x27;: True, &#x27;.originalDuration&#x27;: Fraction(1, 9)}›, ‹4E 0.167:0.333 1/6♩›, ‹4F 0.333:0.5 1/6♩›, ‹4G 0.5:grace properties={&#x27;.snappedGracenote&#x27;: True, &#x27;.originalDuration&#x27;: Fraction(1, 9)}›, ‹4B 0.5:0.667 1/6♩›, ‹4C 0.667:0.833 1/6♩›, ‹4D 0.833:grace properties={&#x27;.snappedGracenote&#x27;: True, &#x27;.originalDuration&#x27;: Fraction(1, 9)}›, ‹4E 0.833:1 1/6♩›]</td><td>[0, 1, 1, 2, 3, 3, 4, 5, 5]</td><td>gridError=0.463, rhythmComplexity=0 (numSyncop=0, numTies=0), divPenalty=0.01 (0.0001, divPenalty=0.01, cardinalityPenalty=0, numSubdivsPenalty=0, levelPenalty=0)</td></tr>\n",
       "</tbody>\n",
       "</table>"
      ],
      "text/plain": [
       "<IPython.core.display.HTML object>"
      ]
     },
     "metadata": {},
     "output_type": "display_data"
    },
    {
     "name": "stderr",
     "output_type": "stream",
     "text": [
      "[maelzel.scoring:quant.py:1832:_mergeSiblings:DEBUG] Nodes cannot merge (Merging these tuplets is not needed): \n",
      "Node(3/2, dur=1/3 «4C 0:0.111 1/9♩ 3/2,3/2»\n",
      "                  «4D 0.111:0.222 1/9♩ 3/2,3/2»\n",
      "                  «4E 0.222:0.333 1/9♩ 3/2,3/2»)\n",
      "Node(3/2, dur=1/3 «4F 0.333:0.444 1/9♩ 3/2,3/2»\n",
      "                  «4G 0.444:0.556 1/9♩ 3/2,3/2»\n",
      "                  «4B 0.556:0.667 1/9♩ 3/2,3/2»)\n",
      "[maelzel.scoring:quant.py:1832:_mergeSiblings:DEBUG] Nodes cannot merge (Merging these tuplets is not needed): \n",
      "Node(3/2, dur=1/3 «4F 0.333:0.444 1/9♩ 3/2,3/2»\n",
      "                  «4G 0.444:0.556 1/9♩ 3/2,3/2»\n",
      "                  «4B 0.556:0.667 1/9♩ 3/2,3/2»)\n",
      "Node(3/2, dur=1/3 «4C 0.667:0.778 1/9♩ 3/2,3/2»\n",
      "                  «4D 0.778:0.889 1/9♩ 3/2,3/2»\n",
      "                  «4E 0.889:1 1/9♩ 3/2,3/2»)\n",
      "[maelzel.scoring:quant.py:835:breakSyncopations:DEBUG] Evaluating split at beat.offset=Fraction(1, 1), beat.duration=Fraction(1, 1), minWeight=1\n",
      "[maelzel.scoring:quant.py:835:breakSyncopations:DEBUG] Evaluating split at beat.offset=Fraction(2, 1), beat.duration=Fraction(1, 1), minWeight=1\n",
      "[maelzel.scoring:quant.py:839:breakSyncopations:DEBUG] --- Splitting syncopation at beat.offset=Fraction(2, 1), minWeight=1\n",
      "[maelzel.scoring:quant.py:835:breakSyncopations:DEBUG] Evaluating split at beat.offset=Fraction(3, 1), beat.duration=Fraction(1, 1), minWeight=1\n",
      "[maelzel.scoring:node.py:955:_splitNotationAtBeat:DEBUG] Found a syncopation but the callback was negative, so «r 2:4 2♩» will not be split\n",
      "[maelzel.scoring:quant.py:2093:resolveEnharmonics:DEBUG] Resolving enharmonics for measure 0\n",
      "[maelzel.scoring:renderlily.py:1174:write:DEBUG] Rendering lilypond '/home/em/.cache/tmpx57ogxa2/ibphizhn.ly' to '/home/em/.cache/tmpx57ogxa2/ibphizhn.png'\n",
      "[maelzel.scoring:renderlily.py:1190:write:DEBUG] Found crop file '/home/em/.cache/tmpx57ogxa2/ibphizhn.cropped.png', using that as output\n",
      "[maelzel.scoring:renderlily.py:1200:write:DEBUG] Moving /home/em/.cache/tmpx57ogxa2/ibphizhn.cropped.png to /home/em/.cache/tmpx57ogxa2/0en9vusm.png\n"
     ]
    },
    {
     "data": {
      "text/html": [
       "<code style=\"white-space: pre-line; font-size:0.9em;\">Chain([<span style=\"color:#6666E0\">4C:0.111♩</span>, <span style=\"color:#6666E0\">4D:0.111♩</span>, <span style=\"color:#6666E0\">4E:0.111♩</span>, <span style=\"color:#6666E0\">4F:0.111♩</span>, <span style=\"color:#6666E0\">4G:0.111♩</span>, <span style=\"color:#6666E0\">4B:0.111♩</span>, <span style=\"color:#6666E0\">4C:0.111♩</span>, <span style=\"color:#6666E0\">4D:0.111♩</span>, <span style=\"color:#6666E0\">4E:0.111♩</span>], dur=1)</code><br><br><img style=\"display:inline; padding:10px;\n",
       "margin-top:14px;\n",
       "width:358px\" src=\"data:image/png;base64,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\"/>"
      ],
      "text/plain": [
       "Chain([4C:0.111♩, 4D:0.111♩, 4E:0.111♩, 4F:0.111♩, 4G:0.111♩, 4B:0.111♩, 4C:0.111♩, 4D:0.111♩, 4E:0.111♩])"
      ]
     },
     "execution_count": 2,
     "metadata": {},
     "output_type": "execute_result"
    }
   ],
   "source": [
    "ch = Chain(r\"\"\"\n",
    "    4C:1/9\n",
    "    4D:1/9\n",
    "    4E:1/9\n",
    "    4F:1/9\n",
    "    4G:1/9\n",
    "    4B:1/9\n",
    "    4C:1/9\n",
    "    4D:1/9\n",
    "    4E:1/9\n",
    "    \n",
    "\"\"\")\n",
    "ch"
   ]
  },
  {
   "cell_type": "code",
   "execution_count": 3,
   "id": "ff6a44a7-5727-4ea1-931d-2397ff909521",
   "metadata": {},
   "outputs": [
    {
     "name": "stderr",
     "output_type": "stream",
     "text": [
      "[maelzel.scoring:quant.py:1471:quantizeMeasure:DEBUG] Measure 4/4 is not filled (events=[‹4C 0:0.111 1/9♩›, ‹4D 0.111:0.222 1/9♩›, ‹4E 0.222:0.333 1/9♩›, ‹4F 0.333:0.444 1/9♩›, ‹4G 0.444:0.556 1/9♩›, ‹4B 0.556:0.667 1/9♩›, ‹4C 0.667:0.778 1/9♩›, ‹4D 0.778:0.889 1/9♩›, ‹4E 0.889:1 1/9♩›]). Filling gaps with silences\n",
      "[maelzel.scoring:quant.py:1149:quantizeBeatBinary:DEBUG] Skipping (9, 6), divPenalty=0.0509902 * 0.1 > minError=0.005\n",
      "[maelzel.scoring:quant.py:1149:quantizeBeatBinary:DEBUG] Skipping (6, 9), divPenalty=0.0509902 * 0.1 > minError=0.005\n",
      "[maelzel.scoring:quant.py:1149:quantizeBeatBinary:DEBUG] Skipping (8, 9), divPenalty=0.0509902 * 0.1 > minError=0.005\n",
      "[maelzel.scoring:quant.py:1149:quantizeBeatBinary:DEBUG] Skipping (9, 8), divPenalty=0.0509902 * 0.1 > minError=0.005\n"
     ]
    },
    {
     "name": "stdout",
     "output_type": "stream",
     "text": [
      "Beat: 0 - 1 (dur: 1)\n"
     ]
    },
    {
     "data": {
      "text/html": [
       "<table>\n",
       "<thead>\n",
       "<tr><th style=\"text-align: right;\">  error</th><th>div      </th><th>snapped                                                                                                                                                                                                                                                                                                                                                                                                               </th><th>slots                      </th><th>info                                                                                                                                                              </th></tr>\n",
       "</thead>\n",
       "<tbody>\n",
       "<tr><td style=\"text-align: right;\"> 0.0030</td><td>(3, 3, 3)</td><td>[‹4C 0:0.111 1/9♩›, ‹4D 0.111:0.222 1/9♩›, ‹4E 0.222:0.333 1/9♩›, ‹4F 0.333:0.444 1/9♩›, ‹4G 0.444:0.556 1/9♩›, ‹4B 0.556:0.667 1/9♩›, ‹4C 0.667:0.778 1/9♩›, ‹4D 0.778:0.889 1/9♩›, ‹4E 0.889:1 1/9♩›]                                                                                                                                                                                                               </td><td>[0, 1, 2, 3, 4, 5, 6, 7, 8]</td><td>gridError=0, rhythmComplexity=0 (numSyncop=0, numTies=0), divPenalty=0.03 (0.0003, divPenalty=0, cardinalityPenalty=0, numSubdivsPenalty=0, levelPenalty=0.03)    </td></tr>\n",
       "<tr><td style=\"text-align: right;\"> 0.0050</td><td>(9,)     </td><td>[‹4C 0:0.111 1/9♩›, ‹4D 0.111:0.222 1/9♩›, ‹4E 0.222:0.333 1/9♩›, ‹4F 0.333:0.444 1/9♩›, ‹4G 0.444:0.556 1/9♩›, ‹4B 0.556:0.667 1/9♩›, ‹4C 0.667:0.778 1/9♩›, ‹4D 0.778:0.889 1/9♩›, ‹4E 0.889:1 1/9♩›]                                                                                                                                                                                                               </td><td>[0, 1, 2, 3, 4, 5, 6, 7, 8]</td><td>gridError=0, rhythmComplexity=0 (numSyncop=0, numTies=0), divPenalty=0.05 (0.0005, divPenalty=0.05, cardinalityPenalty=0, numSubdivsPenalty=0, levelPenalty=0)    </td></tr>\n",
       "<tr><td style=\"text-align: right;\"> 0.3685</td><td>(8,)     </td><td>[‹4C 0:0.125 1/8♩›, ‹4D 0.125:0.25 1/8♩›, ‹4E 0.25:0.375 1/8♩›, ‹4F 0.375:0.5 1/8♩›, ‹4G 0.5:grace properties={&#x27;.snappedGracenote&#x27;: True, &#x27;.originalDuration&#x27;: Fraction(1, 9)}›, ‹4B 0.5:0.625 1/8♩›, ‹4C 0.625:0.75 1/8♩›, ‹4D 0.75:0.875 1/8♩›, ‹4E 0.875:1 1/8♩›]                                                                                                                                                  </td><td>[0, 1, 2, 3, 4, 4, 5, 6, 7]</td><td>gridError=0.368, rhythmComplexity=0 (numSyncop=0, numTies=0), divPenalty=0.01 (0.0001, divPenalty=0.01, cardinalityPenalty=0, numSubdivsPenalty=0, levelPenalty=0)</td></tr>\n",
       "<tr><td style=\"text-align: right;\"> 0.4182</td><td>(7,)     </td><td>[‹4C 0:0.143 1/7♩›, ‹4D 0.143:0.286 1/7♩›, ‹4E 0.286:grace properties={&#x27;.snappedGracenote&#x27;: True, &#x27;.originalDuration&#x27;: Fraction(1, 9)}›, ‹4F 0.286:0.429 1/7♩›, ‹4G 0.429:0.571 1/7♩›, ‹4B 0.571:0.714 1/7♩›, ‹4C 0.714:grace properties={&#x27;.snappedGracenote&#x27;: True, &#x27;.originalDuration&#x27;: Fraction(1, 9)}›, ‹4D 0.714:0.857 1/7♩›, ‹4E 0.857:1 1/7♩›]                                                                 </td><td>[0, 1, 2, 2, 3, 4, 5, 5, 6]</td><td>gridError=0.418, rhythmComplexity=0 (numSyncop=0, numTies=0), divPenalty=0.02 (0.0002, divPenalty=0.02, cardinalityPenalty=0, numSubdivsPenalty=0, levelPenalty=0)</td></tr>\n",
       "<tr><td style=\"text-align: right;\"> 0.4628</td><td>(6,)     </td><td>[‹4C 0:0.167 1/6♩›, ‹4D 0.167:grace properties={&#x27;.snappedGracenote&#x27;: True, &#x27;.originalDuration&#x27;: Fraction(1, 9)}›, ‹4E 0.167:0.333 1/6♩›, ‹4F 0.333:0.5 1/6♩›, ‹4G 0.5:grace properties={&#x27;.snappedGracenote&#x27;: True, &#x27;.originalDuration&#x27;: Fraction(1, 9)}›, ‹4B 0.5:0.667 1/6♩›, ‹4C 0.667:0.833 1/6♩›, ‹4D 0.833:grace properties={&#x27;.snappedGracenote&#x27;: True, &#x27;.originalDuration&#x27;: Fraction(1, 9)}›, ‹4E 0.833:1 1/6♩›]</td><td>[0, 1, 1, 2, 3, 3, 4, 5, 5]</td><td>gridError=0.463, rhythmComplexity=0 (numSyncop=0, numTies=0), divPenalty=0.01 (0.0001, divPenalty=0.01, cardinalityPenalty=0, numSubdivsPenalty=0, levelPenalty=0)</td></tr>\n",
       "</tbody>\n",
       "</table>"
      ],
      "text/plain": [
       "<IPython.core.display.HTML object>"
      ]
     },
     "metadata": {},
     "output_type": "display_data"
    },
    {
     "name": "stderr",
     "output_type": "stream",
     "text": [
      "[maelzel.scoring:quant.py:1832:_mergeSiblings:DEBUG] Nodes cannot merge (Merging these tuplets is not needed): \n",
      "Node(3/2, dur=1/3 «4C 0:0.111 1/9♩ 3/2,3/2»\n",
      "                  «4D 0.111:0.222 1/9♩ 3/2,3/2»\n",
      "                  «4E 0.222:0.333 1/9♩ 3/2,3/2»)\n",
      "Node(3/2, dur=1/3 «4F 0.333:0.444 1/9♩ 3/2,3/2»\n",
      "                  «4G 0.444:0.556 1/9♩ 3/2,3/2»\n",
      "                  «4B 0.556:0.667 1/9♩ 3/2,3/2»)\n",
      "[maelzel.scoring:quant.py:1832:_mergeSiblings:DEBUG] Nodes cannot merge (Merging these tuplets is not needed): \n",
      "Node(3/2, dur=1/3 «4F 0.333:0.444 1/9♩ 3/2,3/2»\n",
      "                  «4G 0.444:0.556 1/9♩ 3/2,3/2»\n",
      "                  «4B 0.556:0.667 1/9♩ 3/2,3/2»)\n",
      "Node(3/2, dur=1/3 «4C 0.667:0.778 1/9♩ 3/2,3/2»\n",
      "                  «4D 0.778:0.889 1/9♩ 3/2,3/2»\n",
      "                  «4E 0.889:1 1/9♩ 3/2,3/2»)\n",
      "[maelzel.scoring:quant.py:835:breakSyncopations:DEBUG] Evaluating split at beat.offset=Fraction(1, 1), beat.duration=Fraction(1, 1), minWeight=1\n",
      "[maelzel.scoring:quant.py:835:breakSyncopations:DEBUG] Evaluating split at beat.offset=Fraction(2, 1), beat.duration=Fraction(1, 1), minWeight=1\n",
      "[maelzel.scoring:quant.py:839:breakSyncopations:DEBUG] --- Splitting syncopation at beat.offset=Fraction(2, 1), minWeight=1\n",
      "[maelzel.scoring:quant.py:835:breakSyncopations:DEBUG] Evaluating split at beat.offset=Fraction(3, 1), beat.duration=Fraction(1, 1), minWeight=1\n",
      "[maelzel.scoring:node.py:955:_splitNotationAtBeat:DEBUG] Found a syncopation but the callback was negative, so «r 2:4 2♩» will not be split\n",
      "[maelzel.scoring:quant.py:2093:resolveEnharmonics:DEBUG] Resolving enharmonics for measure 0\n"
     ]
    },
    {
     "name": "stdout",
     "output_type": "stream",
     "text": [
      "Part #0:\n",
      "  Measure #0\n",
      "    Timesig: 4/4(quarter=60)\n",
      "    Node ratio: 1/1, offset=0, end=4, dur=4, symbolicdur=4\n",
      "      Node ratio: 3/2, offset=0, end=1, dur=1, symbolicdur=1\n",
      "        Node ratio: 3/2, offset=0, end=1/3, dur=1/3, symbolicdur=1/2\n",
      "          «4C 0:0.111 1/9♩ 3/2,3/2»\n",
      "          «4D 0.111:0.222 1/9♩ 3/2,3/2»\n",
      "          «4E 0.222:0.333 1/9♩ 3/2,3/2»\n",
      "        Node ratio: 3/2, offset=1/3, end=2/3, dur=1/3, symbolicdur=1/2\n",
      "          «4F 0.333:0.444 1/9♩ 3/2,3/2»\n",
      "          «4G 0.444:0.556 1/9♩ 3/2,3/2»\n",
      "          «4B 0.556:0.667 1/9♩ 3/2,3/2»\n",
      "        Node ratio: 3/2, offset=2/3, end=1, dur=1/3, symbolicdur=1/2\n",
      "          «4C 0.667:0.778 1/9♩ 3/2,3/2»\n",
      "          «4D 0.778:0.889 1/9♩ 3/2,3/2»\n",
      "          «4E 0.889:1 1/9♩ 3/2,3/2»\n",
      "      «r 1:2 1♩»\n",
      "      «r 2:4 2♩»\n"
     ]
    }
   ],
   "source": [
    "sco = ch.quantizedScore()\n",
    "sco.dump()"
   ]
  },
  {
   "cell_type": "code",
   "execution_count": 4,
   "id": "549e3050-1271-4434-bbc0-a65a0903314c",
   "metadata": {},
   "outputs": [
    {
     "name": "stderr",
     "output_type": "stream",
     "text": [
      "[maelzel.scoring:quant.py:1471:quantizeMeasure:DEBUG] Measure 4/4 is not filled (events=[‹4C 0:0.222 2/9♩›, ‹4E 0.222:0.333 1/9♩›, ‹4F 0.333:0.556 2/9♩›, ‹4B 0.556:0.667 1/9♩›, ‹4C 0.667:0.778 1/9♩›, ‹4D 0.778:0.889 1/9♩›, ‹4E 0.889:1 1/9♩›]). Filling gaps with silences\n",
      "[maelzel.scoring:quant.py:1158:quantizeBeatBinary:DEBUG] Skipping (7,), gridError=0.37875069384792276 * 1.0 > minError=0.3727335282416028\n"
     ]
    },
    {
     "ename": "AssertionError",
     "evalue": "division=(6, 5), newdiv=(5,)",
     "output_type": "error",
     "traceback": [
      "\u001b[31m---------------------------------------------------------------------------\u001b[39m",
      "\u001b[31mAssertionError\u001b[39m                            Traceback (most recent call last)",
      "\u001b[36mFile \u001b[39m\u001b[32m~/.virtualenvs/maelzel/lib/python3.12/site-packages/IPython/core/formatters.py:406\u001b[39m, in \u001b[36mBaseFormatter.__call__\u001b[39m\u001b[34m(self, obj)\u001b[39m\n\u001b[32m    404\u001b[39m     method = get_real_method(obj, \u001b[38;5;28mself\u001b[39m.print_method)\n\u001b[32m    405\u001b[39m     \u001b[38;5;28;01mif\u001b[39;00m method \u001b[38;5;129;01mis\u001b[39;00m \u001b[38;5;129;01mnot\u001b[39;00m \u001b[38;5;28;01mNone\u001b[39;00m:\n\u001b[32m--> \u001b[39m\u001b[32m406\u001b[39m         \u001b[38;5;28;01mreturn\u001b[39;00m \u001b[43mmethod\u001b[49m\u001b[43m(\u001b[49m\u001b[43m)\u001b[49m\n\u001b[32m    407\u001b[39m     \u001b[38;5;28;01mreturn\u001b[39;00m \u001b[38;5;28;01mNone\u001b[39;00m\n\u001b[32m    408\u001b[39m \u001b[38;5;28;01melse\u001b[39;00m:\n",
      "\u001b[36mFile \u001b[39m\u001b[32m~/dev/python/maelzel/maelzel/core/mobj.py:1227\u001b[39m, in \u001b[36mMObj._repr_html_\u001b[39m\u001b[34m(self)\u001b[39m\n\u001b[32m   1225\u001b[39m html = \u001b[33mrf\u001b[39m\u001b[33m'\u001b[39m\u001b[33m<code style=\u001b[39m\u001b[33m\"\u001b[39m\u001b[33mwhite-space: pre-line; font-size:0.9em;\u001b[39m\u001b[33m\"\u001b[39m\u001b[33m>\u001b[39m\u001b[38;5;132;01m{\u001b[39;00mtxt\u001b[38;5;132;01m}\u001b[39;00m\u001b[33m</code><br>\u001b[39m\u001b[33m'\u001b[39m\n\u001b[32m   1226\u001b[39m \u001b[38;5;28;01mif\u001b[39;00m cfg[\u001b[33m'\u001b[39m\u001b[33mjupyterReprShow\u001b[39m\u001b[33m'\u001b[39m]:\n\u001b[32m-> \u001b[39m\u001b[32m1227\u001b[39m     img64, img = \u001b[38;5;28;43mself\u001b[39;49m\u001b[43m.\u001b[49m\u001b[43m_htmlImage\u001b[49m\u001b[43m(\u001b[49m\u001b[43m)\u001b[49m\n\u001b[32m   1228\u001b[39m     html += \u001b[33m'\u001b[39m\u001b[33m<br>\u001b[39m\u001b[33m'\u001b[39m + img\n\u001b[32m   1229\u001b[39m \u001b[38;5;28;01mreturn\u001b[39;00m html\n",
      "\u001b[36mFile \u001b[39m\u001b[32m~/dev/python/maelzel/maelzel/core/mobj.py:1212\u001b[39m, in \u001b[36mMObj._htmlImage\u001b[39m\u001b[34m(self, scaleFactor)\u001b[39m\n\u001b[32m   1201\u001b[39m \u001b[38;5;28;01mdef\u001b[39;00m\u001b[38;5;250m \u001b[39m\u001b[34m_htmlImage\u001b[39m(\u001b[38;5;28mself\u001b[39m, scaleFactor: \u001b[38;5;28mfloat\u001b[39m = \u001b[32m0.\u001b[39m) -> \u001b[38;5;28mtuple\u001b[39m[\u001b[38;5;28mbytes\u001b[39m, \u001b[38;5;28mstr\u001b[39m]:\n\u001b[32m   1202\u001b[39m \u001b[38;5;250m    \u001b[39m\u001b[33;03m\"\"\"\u001b[39;00m\n\u001b[32m   1203\u001b[39m \u001b[33;03m    Returns a tuple of the image as a base64 string and the width and height of the image.\u001b[39;00m\n\u001b[32m   1204\u001b[39m \n\u001b[32m   (...)\u001b[39m\u001b[32m   1210\u001b[39m \u001b[33;03m        of the image and the html img tag.\u001b[39;00m\n\u001b[32m   1211\u001b[39m \u001b[33;03m    \"\"\"\u001b[39;00m\n\u001b[32m-> \u001b[39m\u001b[32m1212\u001b[39m     imgpath = \u001b[38;5;28;43mself\u001b[39;49m\u001b[43m.\u001b[49m\u001b[43m_renderImage\u001b[49m\u001b[43m(\u001b[49m\u001b[43m)\u001b[49m\n\u001b[32m   1213\u001b[39m     \u001b[38;5;28;01mfrom\u001b[39;00m\u001b[38;5;250m \u001b[39m\u001b[34;01mmaelzel\u001b[39;00m\u001b[38;5;250m \u001b[39m\u001b[38;5;28;01mimport\u001b[39;00m _imgtools\n\u001b[32m   1214\u001b[39m     img64, width, height = _imgtools.readImageAsBase64(imgpath)\n",
      "\u001b[36mFile \u001b[39m\u001b[32m~/dev/python/maelzel/maelzel/core/mobj.py:948\u001b[39m, in \u001b[36mMObj._renderImage\u001b[39m\u001b[34m(self, backend, outfile, fmt, scorestruct, config)\u001b[39m\n\u001b[32m    944\u001b[39m \u001b[38;5;28;01mif\u001b[39;00m scorestruct \u001b[38;5;129;01mis\u001b[39;00m \u001b[38;5;28;01mNone\u001b[39;00m:\n\u001b[32m    945\u001b[39m     scorestruct = \u001b[38;5;28mself\u001b[39m.scorestruct() \u001b[38;5;129;01mor\u001b[39;00m w.scorestruct\n\u001b[32m--> \u001b[39m\u001b[32m948\u001b[39m \u001b[43m_renderImage\u001b[49m\u001b[43m(\u001b[49m\u001b[43mobj\u001b[49m\u001b[43m=\u001b[49m\u001b[38;5;28;43mself\u001b[39;49m\u001b[43m,\u001b[49m\u001b[43m \u001b[49m\u001b[43moutfile\u001b[49m\u001b[43m=\u001b[49m\u001b[43moutfile\u001b[49m\u001b[43m,\u001b[49m\u001b[43m \u001b[49m\u001b[43mbackend\u001b[49m\u001b[43m=\u001b[49m\u001b[43mbackend\u001b[49m\u001b[43m,\u001b[49m\n\u001b[32m    949\u001b[39m \u001b[43m             \u001b[49m\u001b[43mscorestruct\u001b[49m\u001b[43m=\u001b[49m\u001b[43mscorestruct\u001b[49m\u001b[43m,\u001b[49m\u001b[43m \u001b[49m\u001b[43mconfig\u001b[49m\u001b[43m=\u001b[49m\u001b[43mconfig\u001b[49m\u001b[43m)\u001b[49m\n\u001b[32m    951\u001b[39m \u001b[38;5;28;01mif\u001b[39;00m \u001b[38;5;129;01mnot\u001b[39;00m os.path.exists(outfile):\n\u001b[32m    952\u001b[39m     \u001b[38;5;66;03m# cached image does not exist?\u001b[39;00m\n\u001b[32m    953\u001b[39m     logger.debug(\u001b[33mf\u001b[39m\u001b[33m\"\u001b[39m\u001b[33mError rendering \u001b[39m\u001b[38;5;132;01m{\u001b[39;00m\u001b[38;5;28mself\u001b[39m\u001b[38;5;132;01m}\u001b[39;00m\u001b[33m, the rendering process did not generate \u001b[39m\u001b[33m\"\u001b[39m\n\u001b[32m    954\u001b[39m                  \u001b[33mf\u001b[39m\u001b[33m\"\u001b[39m\u001b[33mthe expected output file \u001b[39m\u001b[33m'\u001b[39m\u001b[38;5;132;01m{\u001b[39;00moutfile\u001b[38;5;132;01m}\u001b[39;00m\u001b[33m'\u001b[39m\u001b[33m. This might be a cached \u001b[39m\u001b[33m\"\u001b[39m\n\u001b[32m    955\u001b[39m                  \u001b[33mf\u001b[39m\u001b[33m\"\u001b[39m\u001b[33mpath and the cache might be invalid. Resetting the cache and \u001b[39m\u001b[33m\"\u001b[39m\n\u001b[32m    956\u001b[39m                  \u001b[33mf\u001b[39m\u001b[33m\"\u001b[39m\u001b[33mtrying again...\u001b[39m\u001b[33m\"\u001b[39m)\n",
      "\u001b[36mFile \u001b[39m\u001b[32m~/dev/python/maelzel/maelzel/core/mobj.py:2123\u001b[39m, in \u001b[36m_renderImage\u001b[39m\u001b[34m(obj, outfile, config, backend, scorestruct)\u001b[39m\n\u001b[32m   2121\u001b[39m fmt = ext[\u001b[32m1\u001b[39m:]\n\u001b[32m   2122\u001b[39m renderoptions = config.makeRenderOptions()\n\u001b[32m-> \u001b[39m\u001b[32m2123\u001b[39m tmpfile, renderer = \u001b[43m_renderImageCached\u001b[49m\u001b[43m(\u001b[49m\u001b[43mobj\u001b[49m\u001b[43m=\u001b[49m\u001b[43mobj\u001b[49m\u001b[43m,\u001b[49m\u001b[43m \u001b[49m\u001b[43mfmt\u001b[49m\u001b[43m=\u001b[49m\u001b[43mfmt\u001b[49m\u001b[43m,\u001b[49m\u001b[43m \u001b[49m\u001b[43mconfig\u001b[49m\u001b[43m=\u001b[49m\u001b[43mconfig\u001b[49m\u001b[43m,\u001b[49m\u001b[43m \u001b[49m\u001b[43mbackend\u001b[49m\u001b[43m=\u001b[49m\u001b[43mbackend\u001b[49m\u001b[43m,\u001b[49m\n\u001b[32m   2124\u001b[39m \u001b[43m                                       \u001b[49m\u001b[43mscorestruct\u001b[49m\u001b[43m=\u001b[49m\u001b[43mscorestruct\u001b[49m\u001b[43m,\u001b[49m\u001b[43m \u001b[49m\u001b[43mrenderoptions\u001b[49m\u001b[43m=\u001b[49m\u001b[43mrenderoptions\u001b[49m\u001b[43m)\u001b[49m\n\u001b[32m   2125\u001b[39m \u001b[38;5;28;01mif\u001b[39;00m \u001b[38;5;129;01mnot\u001b[39;00m os.path.exists(tmpfile):\n\u001b[32m   2126\u001b[39m     logger.debug(\u001b[33mf\u001b[39m\u001b[33m\"\u001b[39m\u001b[33mCached file \u001b[39m\u001b[33m'\u001b[39m\u001b[38;5;132;01m{\u001b[39;00mtmpfile\u001b[38;5;132;01m}\u001b[39;00m\u001b[33m'\u001b[39m\u001b[33m not found, resetting cache, trying again\u001b[39m\u001b[33m\"\u001b[39m)\n",
      "\u001b[36mFile \u001b[39m\u001b[32m~/dev/python/maelzel/maelzel/core/mobj.py:2148\u001b[39m, in \u001b[36m_renderImageCached\u001b[39m\u001b[34m(obj, fmt, config, backend, scorestruct, renderoptions)\u001b[39m\n\u001b[32m   2139\u001b[39m \u001b[38;5;129m@functools\u001b[39m.cache\n\u001b[32m   2140\u001b[39m \u001b[38;5;28;01mdef\u001b[39;00m\u001b[38;5;250m \u001b[39m\u001b[34m_renderImageCached\u001b[39m(obj: MObj,\n\u001b[32m   2141\u001b[39m                        fmt: \u001b[38;5;28mstr\u001b[39m,\n\u001b[32m   (...)\u001b[39m\u001b[32m   2145\u001b[39m                        renderoptions: RenderOptions\n\u001b[32m   2146\u001b[39m                        ) -> \u001b[38;5;28mtuple\u001b[39m[\u001b[38;5;28mstr\u001b[39m, Renderer]:\n\u001b[32m   2147\u001b[39m     \u001b[38;5;28;01massert\u001b[39;00m fmt \u001b[38;5;129;01min\u001b[39;00m (\u001b[33m'\u001b[39m\u001b[33mpdf\u001b[39m\u001b[33m'\u001b[39m, \u001b[33m'\u001b[39m\u001b[33mpng\u001b[39m\u001b[33m'\u001b[39m)\n\u001b[32m-> \u001b[39m\u001b[32m2148\u001b[39m     renderer = \u001b[43mobj\u001b[49m\u001b[43m.\u001b[49m\u001b[43mrender\u001b[49m\u001b[43m(\u001b[49m\u001b[43mbackend\u001b[49m\u001b[43m=\u001b[49m\u001b[43mbackend\u001b[49m\u001b[43m,\u001b[49m\u001b[43m \u001b[49m\u001b[43mrenderoptions\u001b[49m\u001b[43m=\u001b[49m\u001b[43mrenderoptions\u001b[49m\u001b[43m,\u001b[49m\u001b[43m \u001b[49m\u001b[43mscorestruct\u001b[49m\u001b[43m=\u001b[49m\u001b[43mscorestruct\u001b[49m\u001b[43m,\u001b[49m\n\u001b[32m   2149\u001b[39m \u001b[43m                          \u001b[49m\u001b[43mconfig\u001b[49m\u001b[43m=\u001b[49m\u001b[43mconfig\u001b[49m\u001b[43m)\u001b[49m\n\u001b[32m   2150\u001b[39m     outfile = _util.mktemp(suffix=\u001b[33m\"\u001b[39m\u001b[33m.\u001b[39m\u001b[33m\"\u001b[39m + fmt)\n\u001b[32m   2151\u001b[39m     renderer.write(outfile)\n",
      "\u001b[36mFile \u001b[39m\u001b[32m~/dev/python/maelzel/maelzel/core/mobj.py:904\u001b[39m, in \u001b[36mMObj.render\u001b[39m\u001b[34m(self, backend, renderoptions, scorestruct, config, quantizationProfile)\u001b[39m\n\u001b[32m    901\u001b[39m \u001b[38;5;28;01melse\u001b[39;00m:\n\u001b[32m    902\u001b[39m     \u001b[38;5;28;01massert\u001b[39;00m \u001b[38;5;28misinstance\u001b[39m(quantizationProfile, quant.QuantizationProfile)\n\u001b[32m--> \u001b[39m\u001b[32m904\u001b[39m \u001b[38;5;28;01mreturn\u001b[39;00m \u001b[43m_renderObject\u001b[49m\u001b[43m(\u001b[49m\u001b[38;5;28;43mself\u001b[39;49m\u001b[43m,\u001b[49m\u001b[43m \u001b[49m\u001b[43mbackend\u001b[49m\u001b[43m=\u001b[49m\u001b[43mbackend\u001b[49m\u001b[43m,\u001b[49m\u001b[43m \u001b[49m\u001b[43mrenderoptions\u001b[49m\u001b[43m=\u001b[49m\u001b[43mrenderoptions\u001b[49m\u001b[43m,\u001b[49m\n\u001b[32m    905\u001b[39m \u001b[43m                     \u001b[49m\u001b[43mscorestruct\u001b[49m\u001b[43m=\u001b[49m\u001b[43mscorestruct\u001b[49m\u001b[43m,\u001b[49m\u001b[43m \u001b[49m\u001b[43mconfig\u001b[49m\u001b[43m=\u001b[49m\u001b[43mconfig\u001b[49m\u001b[43m,\u001b[49m\n\u001b[32m    906\u001b[39m \u001b[43m                     \u001b[49m\u001b[43mquantizationProfile\u001b[49m\u001b[43m=\u001b[49m\u001b[43mquantizationProfile\u001b[49m\u001b[43m)\u001b[49m\n",
      "\u001b[36mFile \u001b[39m\u001b[32m~/dev/python/maelzel/maelzel/core/mobj.py:2209\u001b[39m, in \u001b[36m_renderObject\u001b[39m\u001b[34m(obj, backend, scorestruct, config, renderoptions, quantizationProfile, check)\u001b[39m\n\u001b[32m   2207\u001b[39m     \u001b[38;5;28;01mfor\u001b[39;00m part \u001b[38;5;129;01min\u001b[39;00m parts:\n\u001b[32m   2208\u001b[39m         part.check()\n\u001b[32m-> \u001b[39m\u001b[32m2209\u001b[39m renderer = \u001b[43mnotation\u001b[49m\u001b[43m.\u001b[49m\u001b[43mrenderWithActiveWorkspace\u001b[49m\u001b[43m(\u001b[49m\u001b[43mparts\u001b[49m\u001b[43m,\u001b[49m\n\u001b[32m   2210\u001b[39m \u001b[43m                                              \u001b[49m\u001b[43mbackend\u001b[49m\u001b[43m=\u001b[49m\u001b[43mbackend\u001b[49m\u001b[43m,\u001b[49m\n\u001b[32m   2211\u001b[39m \u001b[43m                                              \u001b[49m\u001b[43mrenderoptions\u001b[49m\u001b[43m=\u001b[49m\u001b[43mrenderoptions\u001b[49m\u001b[43m,\u001b[49m\n\u001b[32m   2212\u001b[39m \u001b[43m                                              \u001b[49m\u001b[43mscorestruct\u001b[49m\u001b[43m=\u001b[49m\u001b[43mscorestruct\u001b[49m\u001b[43m,\u001b[49m\n\u001b[32m   2213\u001b[39m \u001b[43m                                              \u001b[49m\u001b[43mconfig\u001b[49m\u001b[43m=\u001b[49m\u001b[43mconfig\u001b[49m\u001b[43m,\u001b[49m\n\u001b[32m   2214\u001b[39m \u001b[43m                                              \u001b[49m\u001b[43mquantizationProfile\u001b[49m\u001b[43m=\u001b[49m\u001b[43mquantizationProfile\u001b[49m\u001b[43m)\u001b[49m\n\u001b[32m   2215\u001b[39m \u001b[38;5;28;01mreturn\u001b[39;00m renderer\n",
      "\u001b[36mFile \u001b[39m\u001b[32m~/dev/python/maelzel/maelzel/core/notation.py:186\u001b[39m, in \u001b[36mrenderWithActiveWorkspace\u001b[39m\u001b[34m(parts, backend, renderoptions, scorestruct, config, quantizationProfile)\u001b[39m\n\u001b[32m    184\u001b[39m     \u001b[38;5;28;01mfor\u001b[39;00m part \u001b[38;5;129;01min\u001b[39;00m parts:\n\u001b[32m    185\u001b[39m         scoring.core.removeRedundantDynamics(part.notations, resetAfterQuarters=config[\u001b[33m'\u001b[39m\u001b[33m.show.hideRedundantDynamicsResetAfter\u001b[39m\u001b[33m'\u001b[39m])\n\u001b[32m--> \u001b[39m\u001b[32m186\u001b[39m \u001b[38;5;28;01mreturn\u001b[39;00m \u001b[43mrender\u001b[49m\u001b[43m.\u001b[49m\u001b[43mquantizeAndRender\u001b[49m\u001b[43m(\u001b[49m\u001b[43mparts\u001b[49m\u001b[43m,\u001b[49m\n\u001b[32m    187\u001b[39m \u001b[43m                                \u001b[49m\u001b[43mstruct\u001b[49m\u001b[43m=\u001b[49m\u001b[43mscorestruct\u001b[49m\u001b[43m,\u001b[49m\n\u001b[32m    188\u001b[39m \u001b[43m                                \u001b[49m\u001b[43moptions\u001b[49m\u001b[43m=\u001b[49m\u001b[43mrenderoptions\u001b[49m\u001b[43m,\u001b[49m\n\u001b[32m    189\u001b[39m \u001b[43m                                \u001b[49m\u001b[43mquantizationProfile\u001b[49m\u001b[43m=\u001b[49m\u001b[43mquantizationProfile\u001b[49m\u001b[43m)\u001b[49m\n",
      "\u001b[36mFile \u001b[39m\u001b[32m~/dev/python/maelzel/maelzel/scoring/render.py:117\u001b[39m, in \u001b[36mquantizeAndRender\u001b[39m\u001b[34m(parts, struct, options, quantizationProfile)\u001b[39m\n\u001b[32m    102\u001b[39m \u001b[38;5;250m\u001b[39m\u001b[33;03m\"\"\"\u001b[39;00m\n\u001b[32m    103\u001b[39m \u001b[33;03mQuantize and render unquantized events organized into parts\u001b[39;00m\n\u001b[32m    104\u001b[39m \n\u001b[32m   (...)\u001b[39m\u001b[32m    114\u001b[39m \u001b[33;03m    the Renderer object\u001b[39;00m\n\u001b[32m    115\u001b[39m \u001b[33;03m\"\"\"\u001b[39;00m\n\u001b[32m    116\u001b[39m enharmonicOptions = options.makeEnharmonicOptions() \u001b[38;5;28;01mif\u001b[39;00m options.respellPitches \u001b[38;5;28;01melse\u001b[39;00m \u001b[38;5;28;01mNone\u001b[39;00m\n\u001b[32m--> \u001b[39m\u001b[32m117\u001b[39m qscore = \u001b[43mquant\u001b[49m\u001b[43m.\u001b[49m\u001b[43mquantizeParts\u001b[49m\u001b[43m(\u001b[49m\u001b[43mparts\u001b[49m\u001b[43m,\u001b[49m\n\u001b[32m    118\u001b[39m \u001b[43m                             \u001b[49m\u001b[43mquantizationProfile\u001b[49m\u001b[43m=\u001b[49m\u001b[43mquantizationProfile\u001b[49m\u001b[43m,\u001b[49m\n\u001b[32m    119\u001b[39m \u001b[43m                             \u001b[49m\u001b[43mstruct\u001b[49m\u001b[43m=\u001b[49m\u001b[43mstruct\u001b[49m\u001b[43m,\u001b[49m\n\u001b[32m    120\u001b[39m \u001b[43m                             \u001b[49m\u001b[43menharmonicOptions\u001b[49m\u001b[43m=\u001b[49m\u001b[43menharmonicOptions\u001b[49m\u001b[43m)\u001b[49m\n\u001b[32m    121\u001b[39m \u001b[38;5;28;01mreturn\u001b[39;00m renderQuantizedScore(score=qscore, options=options)\n",
      "\u001b[36mFile \u001b[39m\u001b[32m~/dev/python/maelzel/maelzel/scoring/quant.py:2854\u001b[39m, in \u001b[36mquantizeParts\u001b[39m\u001b[34m(parts, quantizationProfile, struct, enharmonicOptions)\u001b[39m\n\u001b[32m   2852\u001b[39m \u001b[38;5;28;01mfor\u001b[39;00m part \u001b[38;5;129;01min\u001b[39;00m parts:\n\u001b[32m   2853\u001b[39m     profile = part.quantProfile \u001b[38;5;129;01mor\u001b[39;00m quantizationProfile\n\u001b[32m-> \u001b[39m\u001b[32m2854\u001b[39m     qpart = \u001b[43mquantizePart\u001b[49m\u001b[43m(\u001b[49m\u001b[43mpart\u001b[49m\u001b[43m,\u001b[49m\u001b[43m \u001b[49m\u001b[43mstruct\u001b[49m\u001b[43m=\u001b[49m\u001b[43mstruct\u001b[49m\u001b[43m,\u001b[49m\u001b[43m \u001b[49m\u001b[43mquantprofile\u001b[49m\u001b[43m=\u001b[49m\u001b[43mprofile\u001b[49m\u001b[43m)\u001b[49m\n\u001b[32m   2855\u001b[39m     qparts.append(qpart)\n\u001b[32m   2856\u001b[39m qscore = QuantizedScore(qparts)\n",
      "\u001b[36mFile \u001b[39m\u001b[32m~/dev/python/maelzel/maelzel/scoring/quant.py:2447\u001b[39m, in \u001b[36mquantizePart\u001b[39m\u001b[34m(part, struct, quantprofile, fillStructure)\u001b[39m\n\u001b[32m   2445\u001b[39m             \u001b[38;5;28;01mraise\u001b[39;00m \u001b[38;5;167;01mValueError\u001b[39;00m(\u001b[33mf\u001b[39m\u001b[33m\"\u001b[39m\u001b[33mNotations are not sorted: \u001b[39m\u001b[38;5;132;01m{\u001b[39;00mnotations\u001b[38;5;132;01m}\u001b[39;00m\u001b[33m\"\u001b[39m)\n\u001b[32m   2446\u001b[39m         core.removeSmallOverlaps(notations)\n\u001b[32m-> \u001b[39m\u001b[32m2447\u001b[39m         qmeasure = \u001b[43mquantizeMeasure\u001b[49m\u001b[43m(\u001b[49m\u001b[43mnotations\u001b[49m\u001b[43m,\u001b[49m\n\u001b[32m   2448\u001b[39m \u001b[43m                                   \u001b[49m\u001b[43mtimesig\u001b[49m\u001b[43m=\u001b[49m\u001b[43mmeasureDef\u001b[49m\u001b[43m.\u001b[49m\u001b[43mtimesig\u001b[49m\u001b[43m,\u001b[49m\n\u001b[32m   2449\u001b[39m \u001b[43m                                   \u001b[49m\u001b[43mquarterTempo\u001b[49m\u001b[43m=\u001b[49m\u001b[43mmeasureDef\u001b[49m\u001b[43m.\u001b[49m\u001b[43mquarterTempo\u001b[49m\u001b[43m,\u001b[49m\n\u001b[32m   2450\u001b[39m \u001b[43m                                   \u001b[49m\u001b[43mprofile\u001b[49m\u001b[43m=\u001b[49m\u001b[43mquantprofile\u001b[49m\u001b[43m,\u001b[49m\n\u001b[32m   2451\u001b[39m \u001b[43m                                   \u001b[49m\u001b[43mbeatWeightTempoThreshold\u001b[49m\u001b[43m=\u001b[49m\u001b[43mmeasureDef\u001b[49m\u001b[43m.\u001b[49m\u001b[43mbeatWeightTempoThreshold\u001b[49m\u001b[43m(\u001b[49m\u001b[43m)\u001b[49m\u001b[43m)\u001b[49m\n\u001b[32m   2452\u001b[39m         qmeasures.append(qmeasure)\n\u001b[32m   2453\u001b[39m \u001b[38;5;28;01mif\u001b[39;00m fillStructure:\n",
      "\u001b[36mFile \u001b[39m\u001b[32m~/dev/python/maelzel/maelzel/scoring/quant.py:1496\u001b[39m, in \u001b[36mquantizeMeasure\u001b[39m\u001b[34m(events, timesig, quarterTempo, profile, beatWeightTempoThreshold, subdivisionTempoThreshold)\u001b[39m\n\u001b[32m   1494\u001b[39m beatdur = spanend - spanstart\n\u001b[32m   1495\u001b[39m \u001b[38;5;28;01mif\u001b[39;00m beatdur.numerator \u001b[38;5;129;01min\u001b[39;00m (\u001b[32m1\u001b[39m, \u001b[32m2\u001b[39m, \u001b[32m4\u001b[39m):\n\u001b[32m-> \u001b[39m\u001b[32m1496\u001b[39m     quantizedBeat = \u001b[43mquantizeBeatBinary\u001b[49m\u001b[43m(\u001b[49m\u001b[43meventsInBeat\u001b[49m\u001b[43m=\u001b[49m\u001b[43meventsInBeat\u001b[49m\u001b[43m,\u001b[49m\n\u001b[32m   1497\u001b[39m \u001b[43m                                       \u001b[49m\u001b[43mquarterTempo\u001b[49m\u001b[43m=\u001b[49m\u001b[43mquarterTempo\u001b[49m\u001b[43m,\u001b[49m\n\u001b[32m   1498\u001b[39m \u001b[43m                                       \u001b[49m\u001b[43mbeatDuration\u001b[49m\u001b[43m=\u001b[49m\u001b[43mspanend\u001b[49m\u001b[43m \u001b[49m\u001b[43m-\u001b[49m\u001b[43m \u001b[49m\u001b[43mspanstart\u001b[49m\u001b[43m,\u001b[49m\n\u001b[32m   1499\u001b[39m \u001b[43m                                       \u001b[49m\u001b[43mbeatOffset\u001b[49m\u001b[43m=\u001b[49m\u001b[43mspanstart\u001b[49m\u001b[43m,\u001b[49m\n\u001b[32m   1500\u001b[39m \u001b[43m                                       \u001b[49m\u001b[43mprofile\u001b[49m\u001b[43m=\u001b[49m\u001b[43mprofile\u001b[49m\u001b[43m)\u001b[49m\n\u001b[32m   1501\u001b[39m     quantizedBeat.weight = beatWeight\n\u001b[32m   1502\u001b[39m     quantizedBeats.append(quantizedBeat)\n",
      "\u001b[36mFile \u001b[39m\u001b[32m~/dev/python/maelzel/maelzel/scoring/quant.py:1125\u001b[39m, in \u001b[36mquantizeBeatBinary\u001b[39m\u001b[34m(eventsInBeat, quarterTempo, profile, beatDuration, beatOffset, divisionHint, minTieDur)\u001b[39m\n\u001b[32m   1123\u001b[39m grid0 = quantutils.divisionGrid0(beatDuration=beatDuration, division=div)\n\u001b[32m   1124\u001b[39m assignedSlots, snappedEvents = snapEventsToGrid(events0, grid=grid0)\n\u001b[32m-> \u001b[39m\u001b[32m1125\u001b[39m simplifiedDiv = \u001b[43mquantutils\u001b[49m\u001b[43m.\u001b[49m\u001b[43msimplifyDivision\u001b[49m\u001b[43m(\u001b[49m\u001b[43mdiv\u001b[49m\u001b[43m,\u001b[49m\u001b[43m \u001b[49m\u001b[43massignedSlots\u001b[49m\u001b[43m,\u001b[49m\u001b[43m \u001b[49m\u001b[43mreduce\u001b[49m\u001b[43m=\u001b[49m\u001b[38;5;28;43;01mFalse\u001b[39;49;00m\u001b[43m)\u001b[49m\n\u001b[32m   1127\u001b[39m \u001b[38;5;28;01mif\u001b[39;00m simplifiedDiv \u001b[38;5;129;01min\u001b[39;00m seen \u001b[38;5;129;01mor\u001b[39;00m simplifiedDiv \u001b[38;5;129;01min\u001b[39;00m profile.blacklist:\n\u001b[32m   1128\u001b[39m     \u001b[38;5;28;01mcontinue\u001b[39;00m\n",
      "\u001b[36mFile \u001b[39m\u001b[32m~/dev/python/maelzel/maelzel/scoring/quantutils.py:161\u001b[39m, in \u001b[36msimplifyDivision\u001b[39m\u001b[34m(division, assignedSlots, reduce)\u001b[39m\n\u001b[32m    158\u001b[39m     cs += subdiv\n\u001b[32m    160\u001b[39m newdiv: division_t = \u001b[38;5;28mtuple\u001b[39m(reduced)\n\u001b[32m--> \u001b[39m\u001b[32m161\u001b[39m \u001b[38;5;28;01massert\u001b[39;00m \u001b[38;5;28mlen\u001b[39m(newdiv) == \u001b[38;5;28mlen\u001b[39m(division), \u001b[33mf\u001b[39m\u001b[33m'\u001b[39m\u001b[38;5;132;01m{\u001b[39;00mdivision\u001b[38;5;132;01m=}\u001b[39;00m\u001b[33m, \u001b[39m\u001b[38;5;132;01m{\u001b[39;00mnewdiv\u001b[38;5;132;01m=}\u001b[39;00m\u001b[33m'\u001b[39m\n\u001b[32m    163\u001b[39m \u001b[38;5;28;01mif\u001b[39;00m \u001b[38;5;28mall\u001b[39m(subdiv == \u001b[32m1\u001b[39m \u001b[38;5;28;01mfor\u001b[39;00m subdiv \u001b[38;5;129;01min\u001b[39;00m newdiv):\n\u001b[32m    164\u001b[39m     newdiv = (\u001b[38;5;28mlen\u001b[39m(newdiv),)\n",
      "\u001b[31mAssertionError\u001b[39m: division=(6, 5), newdiv=(5,)"
     ]
    },
    {
     "data": {
      "text/plain": [
       "Chain([4C:0.222♩, 4E:0.111♩, 4F:0.222♩, 4B:0.111♩, 4C:0.111♩, 4D:0.111♩, 4E:0.111♩])"
      ]
     },
     "execution_count": 4,
     "metadata": {},
     "output_type": "execute_result"
    }
   ],
   "source": [
    "ch = Chain(r\"\"\"\n",
    "    4C:2/9\n",
    "    # 4D:1/9\n",
    "    4E:1/9\n",
    "    4F:2/9\n",
    "    # 4G:1/9\n",
    "    4B:1/9\n",
    "    4C:1/9\n",
    "    4D:1/9\n",
    "    4E:1/9\n",
    "    \n",
    "\"\"\")\n",
    "ch"
   ]
  },
  {
   "cell_type": "code",
   "execution_count": 6,
   "id": "e368a499-2fde-4514-8f45-cd53e6843d2c",
   "metadata": {},
   "outputs": [
    {
     "name": "stderr",
     "output_type": "stream",
     "text": [
      "[maelzel.scoring:quant.py:1364:quantizeMeasure:DEBUG] Measure 4/4 is not filled (events=[«4C 0:0.222 2/9♩», «4D 0.222:0.444 2/9♩», «4E 0.444:0.667 2/9♩», «4F 0.667:0.778 1/9♩», «4G 0.778:0.889 1/9♩», «4B 0.889:1 1/9♩»]). Filling gaps with silences\n",
      "[maelzel.scoring:quant.py:942:quantizeBeatBinary:DEBUG] Skipping (9, 6), divPenalty=0.0509902 * 0.1 > minError=0.005\n",
      "[maelzel.scoring:quant.py:942:quantizeBeatBinary:DEBUG] Skipping (6, 9), divPenalty=0.0509902 * 0.1 > minError=0.005\n",
      "[maelzel.scoring:quant.py:942:quantizeBeatBinary:DEBUG] Skipping (8, 9), divPenalty=0.0509902 * 0.1 > minError=0.005\n",
      "[maelzel.scoring:quant.py:942:quantizeBeatBinary:DEBUG] Skipping (9, 8), divPenalty=0.0509902 * 0.1 > minError=0.005\n",
      "[maelzel.scoring:quant.py:942:quantizeBeatBinary:DEBUG] Skipping (8, 5, 8), divPenalty=0.0387298 * 0.1 > minError=0.00381517\n",
      "[maelzel.scoring:quant.py:942:quantizeBeatBinary:DEBUG] Skipping (8, 8, 5), divPenalty=0.0387298 * 0.1 > minError=0.00381517\n",
      "[maelzel.scoring:quant.py:942:quantizeBeatBinary:DEBUG] Skipping (5, 8, 8), divPenalty=0.0387298 * 0.1 > minError=0.00381517\n",
      "[maelzel.scoring:quant.py:942:quantizeBeatBinary:DEBUG] Skipping (8, 7, 8), divPenalty=0.0387298 * 0.1 > minError=0.00381517\n",
      "[maelzel.scoring:quant.py:942:quantizeBeatBinary:DEBUG] Skipping (7, 8, 8), divPenalty=0.0387298 * 0.1 > minError=0.00381517\n",
      "[maelzel.scoring:quant.py:942:quantizeBeatBinary:DEBUG] Skipping (8, 8, 7), divPenalty=0.0387298 * 0.1 > minError=0.00381517\n",
      "[maelzel.scoring:quant.py:942:quantizeBeatBinary:DEBUG] Skipping (5, 3, 3, 5), divPenalty=0.0382843 * 0.1 > minError=0.00381517\n",
      "[maelzel.scoring:quant.py:942:quantizeBeatBinary:DEBUG] Skipping (1, 5, 3, 5), divPenalty=0.0382843 * 0.1 > minError=0.00381517\n",
      "[maelzel.scoring:quant.py:942:quantizeBeatBinary:DEBUG] Skipping (5, 5, 3, 3), divPenalty=0.0382843 * 0.1 > minError=0.00381517\n",
      "[maelzel.scoring:quant.py:942:quantizeBeatBinary:DEBUG] Skipping (1, 3, 5, 5), divPenalty=0.0382843 * 0.1 > minError=0.00381517\n",
      "[maelzel.scoring:quant.py:942:quantizeBeatBinary:DEBUG] Skipping (5, 3, 5, 3), divPenalty=0.0382843 * 0.1 > minError=0.00381517\n",
      "[maelzel.scoring:quant.py:942:quantizeBeatBinary:DEBUG] Skipping (1, 5, 5, 3), divPenalty=0.0382843 * 0.1 > minError=0.00381517\n",
      "[maelzel.scoring:quant.py:942:quantizeBeatBinary:DEBUG] Skipping (1, 3, 5, 7), divPenalty=0.0382843 * 0.1 > minError=0.00381517\n",
      "[maelzel.scoring:quant.py:942:quantizeBeatBinary:DEBUG] Skipping (1, 5, 7, 3), divPenalty=0.0382843 * 0.1 > minError=0.00381517\n",
      "[maelzel.scoring:quant.py:942:quantizeBeatBinary:DEBUG] Skipping (7, 3, 5, 3), divPenalty=0.0382843 * 0.1 > minError=0.00381517\n",
      "[maelzel.scoring:quant.py:942:quantizeBeatBinary:DEBUG] Skipping (7, 5, 3, 3), divPenalty=0.0382843 * 0.1 > minError=0.00381517\n",
      "[maelzel.scoring:quant.py:942:quantizeBeatBinary:DEBUG] Skipping (5, 3, 3, 7), divPenalty=0.0382843 * 0.1 > minError=0.00381517\n",
      "[maelzel.scoring:quant.py:942:quantizeBeatBinary:DEBUG] Skipping (7, 3, 3, 5), divPenalty=0.0382843 * 0.1 > minError=0.00381517\n",
      "[maelzel.scoring:quant.py:942:quantizeBeatBinary:DEBUG] Skipping (1, 7, 5, 3), divPenalty=0.0382843 * 0.1 > minError=0.00381517\n",
      "[maelzel.scoring:quant.py:942:quantizeBeatBinary:DEBUG] Skipping (5, 3, 7, 3), divPenalty=0.0382843 * 0.1 > minError=0.00381517\n",
      "[maelzel.scoring:quant.py:942:quantizeBeatBinary:DEBUG] Skipping (1, 5, 3, 7), divPenalty=0.0382843 * 0.1 > minError=0.00381517\n",
      "[maelzel.scoring:quant.py:942:quantizeBeatBinary:DEBUG] Skipping (1, 7, 3, 5), divPenalty=0.0382843 * 0.1 > minError=0.00381517\n",
      "[maelzel.scoring:quant.py:942:quantizeBeatBinary:DEBUG] Skipping (5, 7, 3, 3), divPenalty=0.0382843 * 0.1 > minError=0.00381517\n",
      "[maelzel.scoring:quant.py:942:quantizeBeatBinary:DEBUG] Skipping (1, 3, 7, 5), divPenalty=0.0382843 * 0.1 > minError=0.00381517\n",
      "[maelzel.scoring:quant.py:942:quantizeBeatBinary:DEBUG] Skipping (1, 5, 5, 6), divPenalty=0.04 * 0.1 > minError=0.00381517\n",
      "[maelzel.scoring:quant.py:942:quantizeBeatBinary:DEBUG] Skipping (6, 3, 5, 5), divPenalty=0.04 * 0.1 > minError=0.00381517\n",
      "[maelzel.scoring:quant.py:942:quantizeBeatBinary:DEBUG] Skipping (5, 6, 3, 5), divPenalty=0.04 * 0.1 > minError=0.00381517\n",
      "[maelzel.scoring:quant.py:942:quantizeBeatBinary:DEBUG] Skipping (6, 5, 5, 3), divPenalty=0.04 * 0.1 > minError=0.00381517\n",
      "[maelzel.scoring:quant.py:942:quantizeBeatBinary:DEBUG] Skipping (5, 5, 3, 6), divPenalty=0.04 * 0.1 > minError=0.00381517\n",
      "[maelzel.scoring:quant.py:942:quantizeBeatBinary:DEBUG] Skipping (6, 5, 3, 5), divPenalty=0.04 * 0.1 > minError=0.00381517\n",
      "[maelzel.scoring:quant.py:942:quantizeBeatBinary:DEBUG] Skipping (5, 6, 5, 3), divPenalty=0.04 * 0.1 > minError=0.00381517\n",
      "[maelzel.scoring:quant.py:942:quantizeBeatBinary:DEBUG] Skipping (5, 3, 5, 6), divPenalty=0.04 * 0.1 > minError=0.00381517\n",
      "[maelzel.scoring:quant.py:942:quantizeBeatBinary:DEBUG] Skipping (1, 6, 5, 5), divPenalty=0.04 * 0.1 > minError=0.00381517\n",
      "[maelzel.scoring:quant.py:942:quantizeBeatBinary:DEBUG] Skipping (1, 6, 7, 5), divPenalty=0.04 * 0.1 > minError=0.00381517\n",
      "[maelzel.scoring:quant.py:942:quantizeBeatBinary:DEBUG] Skipping (6, 5, 7, 3), divPenalty=0.04 * 0.1 > minError=0.00381517\n",
      "[maelzel.scoring:quant.py:942:quantizeBeatBinary:DEBUG] Skipping (1, 5, 7, 6), divPenalty=0.04 * 0.1 > minError=0.00381517\n",
      "[maelzel.scoring:quant.py:942:quantizeBeatBinary:DEBUG] Skipping (7, 3, 5, 6), divPenalty=0.04 * 0.1 > minError=0.00381517\n",
      "[maelzel.scoring:quant.py:942:quantizeBeatBinary:DEBUG] Skipping (5, 6, 3, 7), divPenalty=0.04 * 0.1 > minError=0.00381517\n",
      "[maelzel.scoring:quant.py:942:quantizeBeatBinary:DEBUG] Skipping (1, 7, 5, 6), divPenalty=0.04 * 0.1 > minError=0.00381517\n",
      "[maelzel.scoring:quant.py:942:quantizeBeatBinary:DEBUG] Skipping (5, 7, 3, 6), divPenalty=0.04 * 0.1 > minError=0.00381517\n",
      "[maelzel.scoring:quant.py:942:quantizeBeatBinary:DEBUG] Skipping (6, 3, 7, 5), divPenalty=0.04 * 0.1 > minError=0.00381517\n",
      "[maelzel.scoring:quant.py:942:quantizeBeatBinary:DEBUG] Skipping (1, 6, 5, 7), divPenalty=0.04 * 0.1 > minError=0.00381517\n",
      "[maelzel.scoring:quant.py:942:quantizeBeatBinary:DEBUG] Skipping (7, 6, 5, 3), divPenalty=0.04 * 0.1 > minError=0.00381517\n",
      "[maelzel.scoring:quant.py:942:quantizeBeatBinary:DEBUG] Skipping (6, 3, 5, 7), divPenalty=0.04 * 0.1 > minError=0.00381517\n",
      "[maelzel.scoring:quant.py:942:quantizeBeatBinary:DEBUG] Skipping (6, 7, 5, 3), divPenalty=0.04 * 0.1 > minError=0.00381517\n",
      "[maelzel.scoring:quant.py:942:quantizeBeatBinary:DEBUG] Skipping (6, 5, 3, 7), divPenalty=0.04 * 0.1 > minError=0.00381517\n",
      "[maelzel.scoring:quant.py:942:quantizeBeatBinary:DEBUG] Skipping (7, 5, 3, 6), divPenalty=0.04 * 0.1 > minError=0.00381517\n",
      "[maelzel.scoring:quant.py:942:quantizeBeatBinary:DEBUG] Skipping (7, 6, 3, 5), divPenalty=0.04 * 0.1 > minError=0.00381517\n",
      "[maelzel.scoring:quant.py:942:quantizeBeatBinary:DEBUG] Skipping (5, 3, 7, 6), divPenalty=0.04 * 0.1 > minError=0.00381517\n",
      "[maelzel.scoring:quant.py:942:quantizeBeatBinary:DEBUG] Skipping (5, 6, 7, 3), divPenalty=0.04 * 0.1 > minError=0.00381517\n",
      "[maelzel.scoring:quant.py:942:quantizeBeatBinary:DEBUG] Skipping (6, 7, 3, 5), divPenalty=0.04 * 0.1 > minError=0.00381517\n",
      "[maelzel.scoring:quant.py:942:quantizeBeatBinary:DEBUG] Skipping (7, 7, 3, 6), divPenalty=0.04 * 0.1 > minError=0.00381517\n",
      "[maelzel.scoring:quant.py:942:quantizeBeatBinary:DEBUG] Skipping (7, 6, 3, 7), divPenalty=0.04 * 0.1 > minError=0.00381517\n",
      "[maelzel.scoring:quant.py:942:quantizeBeatBinary:DEBUG] Skipping (6, 7, 3, 7), divPenalty=0.04 * 0.1 > minError=0.00381517\n"
     ]
    },
    {
     "name": "stdout",
     "output_type": "stream",
     "text": [
      "Comment! #4C:1/9\n",
      "Comment! #4D:1/9\n",
      "Comment! #4E:1/9\n",
      "Beat: 0 - 1 (dur: 1)\n",
      "Best 6 divisions: (quantized in 82.0ms)\n"
     ]
    },
    {
     "data": {
      "text/html": [
       "<table>\n",
       "<thead>\n",
       "<tr><th style=\"text-align: right;\">  error</th><th>div      </th><th>snapped                                                                                                                                                                                                  </th><th>slots             </th><th>info                                                                                                                                                                           </th></tr>\n",
       "</thead>\n",
       "<tbody>\n",
       "<tr><td style=\"text-align: right;\"> 0.0038</td><td>(3, 3, 3)</td><td>[«4C 0:0.222 2/9♩», «4D 0.222:0.444 2/9♩», «4E 0.444:0.667 2/9♩», «4F 0.667:0.778 1/9♩», «4G 0.778:0.889 1/9♩», «4B 0.889:1 1/9♩»]                                                                       </td><td>[0, 2, 4, 6, 7, 8]</td><td>gridError=0, rhythmComplexity=0.0745 (numNotesAcrossSubdivs=1, numTies=0), divPenalty=0.03 (0.0003, divPenalty=0, cardinalityPenalty=0, numSubdivsPenalty=0, levelPenalty=0.03)</td></tr>\n",
       "<tr><td style=\"text-align: right;\"> 0.0050</td><td>(9,)     </td><td>[«4C 0:0.222 2/9♩», «4D 0.222:0.444 2/9♩», «4E 0.444:0.667 2/9♩», «4F 0.667:0.778 1/9♩», «4G 0.778:0.889 1/9♩», «4B 0.889:1 1/9♩»]                                                                       </td><td>[0, 2, 4, 6, 7, 8]</td><td>gridError=0, rhythmComplexity=0 (numNotesAcrossSubdivs=0, numTies=0), divPenalty=0.05 (0.0005, divPenalty=0.05, cardinalityPenalty=0, numSubdivsPenalty=0, levelPenalty=0)     </td></tr>\n",
       "<tr><td style=\"text-align: right;\"> 0.2855</td><td>(8,)     </td><td>[«4C 0:0.25 1/4♩», «4D 0.25:0.5 1/4♩», «4E 0.5:0.625 1/8♩», «4F 0.625:0.75 1/8♩», «4G 0.75:0.875 1/8♩», «4B 0.875:1 1/8♩»]                                                                               </td><td>[0, 2, 4, 5, 6, 7]</td><td>gridError=0.285, rhythmComplexity=0 (numNotesAcrossSubdivs=0, numTies=0), divPenalty=0.01 (0.0001, divPenalty=0.01, cardinalityPenalty=0, numSubdivsPenalty=0, levelPenalty=0) </td></tr>\n",
       "<tr><td style=\"text-align: right;\"> 0.3564</td><td>(7,)     </td><td>[«4C 0:0.286 2/7♩», «4D 0.286:0.429 1/7♩», «4E 0.429:0.714 2/7♩», «4F 0.714:grace properties={&#x27;.snappedGracenote&#x27;: True, &#x27;.originalDuration&#x27;: Fraction(1, 9)}», «4G 0.714:0.857 1/7♩», «4B 0.857:1 1/7♩»]</td><td>[0, 2, 3, 5, 5, 6]</td><td>gridError=0.356, rhythmComplexity=0 (numNotesAcrossSubdivs=0, numTies=0), divPenalty=0.02 (0.0002, divPenalty=0.02, cardinalityPenalty=0, numSubdivsPenalty=0, levelPenalty=0) </td></tr>\n",
       "<tr><td style=\"text-align: right;\"> 0.3727</td><td>(6,)     </td><td>[«4C 0:0.167 1/6♩», «4D 0.167:0.5 1/3♩», «4E 0.5:0.667 1/6♩», «4F 0.667:0.833 1/6♩», «4G 0.833:grace properties={&#x27;.snappedGracenote&#x27;: True, &#x27;.originalDuration&#x27;: Fraction(1, 9)}», «4B 0.833:1 1/6♩»]    </td><td>[0, 1, 3, 4, 5, 5]</td><td>gridError=0.373, rhythmComplexity=0 (numNotesAcrossSubdivs=0, numTies=0), divPenalty=0.01 (0.0001, divPenalty=0.01, cardinalityPenalty=0, numSubdivsPenalty=0, levelPenalty=0) </td></tr>\n",
       "<tr><td style=\"text-align: right;\"> 0.3795</td><td>(5,)     </td><td>[«4C 0:0.2 1/5♩», «4D 0.2:0.4 1/5♩», «4E 0.4:0.6 1/5♩», «4F 0.6:0.8 1/5♩», «4G 0.8:grace properties={&#x27;.snappedGracenote&#x27;: True, &#x27;.originalDuration&#x27;: Fraction(1, 9)}», «4B 0.8:1 1/5♩»]                  </td><td>[0, 1, 2, 3, 4, 4]</td><td>gridError=0.379, rhythmComplexity=0 (numNotesAcrossSubdivs=0, numTies=0), divPenalty=0.02 (0.0002, divPenalty=0.02, cardinalityPenalty=0, numSubdivsPenalty=0, levelPenalty=0) </td></tr>\n",
       "</tbody>\n",
       "</table>"
      ],
      "text/plain": [
       "<IPython.core.display.HTML object>"
      ]
     },
     "metadata": {},
     "output_type": "display_data"
    },
    {
     "name": "stderr",
     "output_type": "stream",
     "text": [
      "[maelzel.scoring:quant.py:1677:_mergeSiblings:DEBUG] Nodes can merge: \n",
      "    Node(3/2, \n",
      "  «4C 0:0.222 2/9♩ 3/2,3/2»\n",
      "  «4D~ 0.222:0.333 1/9♩ 3/2,3/2»\n",
      ")\n",
      "    Node(3/2, \n",
      "  «~4D 0.333:0.444 1/9♩ 3/2,3/2»\n",
      "  «4E 0.444:0.667 2/9♩ 3/2,3/2»\n",
      ")\n",
      "[maelzel.scoring:quant.py:1680:_mergeSiblings:DEBUG] ---- Merged node:\n",
      "    Node(3/2, \n",
      "  «4C 0:0.222 2/9♩ 3/2,3/2»\n",
      "  «4D 0.222:0.444 2/9♩ 3/2,3/2»\n",
      "  «4E 0.444:0.667 2/9♩ 3/2,3/2»\n",
      ")\n",
      "[maelzel.scoring:quant.py:1683:_mergeSiblings:DEBUG] Nodes cannot merge: \n",
      "Node(3/2, \n",
      "  «4C 0:0.222 2/9♩ 3/2,3/2»\n",
      "  «4D 0.222:0.444 2/9♩ 3/2,3/2»\n",
      "  «4E 0.444:0.667 2/9♩ 3/2,3/2»\n",
      ")\n",
      "Node(3/2, \n",
      "  «4F 0.667:0.778 1/9♩ 3/2,3/2»\n",
      "  «4G 0.778:0.889 1/9♩ 3/2,3/2»\n",
      "  «4B 0.889:1 1/9♩ 3/2,3/2»\n",
      ")\n",
      "----> A parent cannot hold a group of the same size of itself\n",
      "[maelzel.scoring:quant.py:1677:_mergeSiblings:DEBUG] Nodes can merge: \n",
      "    Node(1/1, \n",
      "  «rest 1:2 1♩»\n",
      ")\n",
      "    Node(1/1, \n",
      "  «rest 2:3 1♩»\n",
      ")\n",
      "[maelzel.scoring:quant.py:1680:_mergeSiblings:DEBUG] ---- Merged node:\n",
      "    Node(1/1, \n",
      "  «rest 1:3 2♩»\n",
      ")\n",
      "[maelzel.scoring:quant.py:1677:_mergeSiblings:DEBUG] Nodes can merge: \n",
      "    Node(1/1, \n",
      "  «rest 1:3 2♩»\n",
      ")\n",
      "    Node(1/1, \n",
      "  «rest 3:4 1♩»\n",
      ")\n",
      "[maelzel.scoring:quant.py:1680:_mergeSiblings:DEBUG] ---- Merged node:\n",
      "    Node(1/1, \n",
      "  «rest 1:4 3♩»\n",
      ")\n",
      "[maelzel.scoring:node.py:805:_splitNotationAtBoundary:DEBUG] Found a syncopation but the callback was negative, so «rest 1:4 3♩» will not be split\n",
      "[maelzel:lilytools.py:191:findLilypond:DEBUG] findLilypond: searching via shutil.which\n",
      "[maelzel:lilytools.py:194:findLilypond:DEBUG] ... found! lilypond path: /home/em/.local/bin/lilypond\n"
     ]
    },
    {
     "data": {
      "text/html": [
       "<code style=\"white-space: pre-line; font-size:0.9em;\">Chain([<span style=\"color:#6666E0\">4C:0.222♩</span>, <span style=\"color:#6666E0\">4D:0.222♩</span>, <span style=\"color:#6666E0\">4E:0.222♩</span>, <span style=\"color:#6666E0\">4F:0.111♩</span>, <span style=\"color:#6666E0\">4G:0.111♩</span>, <span style=\"color:#6666E0\">4B:0.111♩</span>], dur=1)</code><br>\n",
       "        <img style=\"display:inline; padding:10px;\n",
       "margin-top:14px;\n",
       "width:291px\"\n",
       "             src=\"data:image/png;base64,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\"/>"
      ],
      "text/plain": [
       "Chain([4C:0.222♩, 4D:0.222♩, 4E:0.222♩, 4F:0.111♩, 4G:0.111♩, 4B:0.111♩])"
      ]
     },
     "execution_count": 6,
     "metadata": {},
     "output_type": "execute_result"
    }
   ],
   "source": [
    "ch = Chain(r\"\"\"\n",
    "    4C:2/9\n",
    "    4D:2/9\n",
    "    4E:2/9\n",
    "    4F:1/9\n",
    "    4G:1/9\n",
    "    4B:1/9\n",
    "    #4C:1/9\n",
    "    #4D:1/9\n",
    "    #4E:1/9\n",
    "    \n",
    "\"\"\")\n",
    "ch.write('~/tmp/quant3.ly')\n",
    "ch"
   ]
  }
 ],
 "metadata": {
  "kernelspec": {
   "display_name": "Python 3 (ipykernel)",
   "language": "python",
   "name": "python3"
  },
  "language_info": {
   "codemirror_mode": {
    "name": "ipython",
    "version": 3
   },
   "file_extension": ".py",
   "mimetype": "text/x-python",
   "name": "python",
   "nbconvert_exporter": "python",
   "pygments_lexer": "ipython3",
   "version": "3.12.7"
  }
 },
 "nbformat": 4,
 "nbformat_minor": 5
}
