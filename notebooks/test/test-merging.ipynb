{
 "cells": [
  {
   "cell_type": "code",
   "execution_count": 1,
   "id": "9d0c78ac-02fe-4424-b286-cc40b273c8c0",
   "metadata": {},
   "outputs": [],
   "source": [
    "from maelzel.core import *"
   ]
  },
  {
   "cell_type": "code",
   "execution_count": 2,
   "id": "2654289a-da7a-479b-8659-5f17d67e7653",
   "metadata": {},
   "outputs": [
    {
     "data": {
      "image/png": "[encoded data removed]",
      "text/plain": [
       "<IPython.core.display.Image object>"
      ]
     },
     "metadata": {
      "image/png": {
       "width": 351.75
      }
     },
     "output_type": "display_data"
    }
   ],
   "source": [
    "chain = Chain([\n",
    "    Note(\"4F:1\"),\n",
    "    Note(\"4C:1/6\"),\n",
    "    Note(\"4D:3/2+1/6\"),\n",
    "    Note(\"4E:1/3\")\n",
    "])\n",
    "chain.show()\n",
    "# chain.write('~/tmp/merge.ly')"
   ]
  },
  {
   "cell_type": "code",
   "execution_count": 3,
   "id": "5c8777ac-0fa6-4317-8c7e-f5015a98e07b",
   "metadata": {},
   "outputs": [
    {
     "data": {
      "image/png": "[encoded data removed]",
      "text/plain": [
       "<IPython.core.display.Image object>"
      ]
     },
     "metadata": {
      "image/png": {
       "width": 439.5
      }
     },
     "output_type": "display_data"
    },
    {
     "data": {
      "text/html": [
       "<code><span style=\"font-size: 85%\"><b>Chain</b> - beat: 0, offset: None, dur: 6.375</span></code><br><code><span style=\"color:#BBBBBB;font-size:85%\">  location  beat   offset      dur         name      gliss dyn  playargs            info                </span></code><br><code><span style=\"color:#9090FF;font-size:85%\">  0:0       0      (0)         1.375       4C        F          None                -</span></code><br><code><span style=\"color:#9090FF;font-size:85%\">  0:1.375   1.375  (1.375)     5           4D        F          None                -</span></code>"
      ],
      "text/plain": [
       "<IPython.core.display.HTML object>"
      ]
     },
     "metadata": {},
     "output_type": "display_data"
    },
    {
     "name": "stdout",
     "output_type": "stream",
     "text": [
      "Part #0:\n",
      "  Measure #0\n",
      "    Timesig: 4/4(quarter=60)\n",
      "    QuantizedBeat(divisions=(1,), assignedSlots=[0], beatDuration=1, beatOffset=0, quantizationError=0)\n",
      "      «4C~ 1♩»\n",
      "    QuantizedBeat(divisions=(8,), assignedSlots=[0, 3], beatDuration=1, beatOffset=1, quantizationError=0.0354)\n",
      "      «~4C! 3/8♩ properties={'.backwardTies': {0}}»\n",
      "      «4D!~ 1/8♩ properties={'.forwardTies': {0}}»\n",
      "      «~4D~ 1/2♩»\n",
      "    QuantizedBeat(divisions=(1,), assignedSlots=[0], beatDuration=1, beatOffset=2, quantizationError=0)\n",
      "      «~4D~ 1♩»\n",
      "    QuantizedBeat(divisions=(1,), assignedSlots=[0], beatDuration=1, beatOffset=3, quantizationError=0)\n",
      "      «~4D~ 1♩»\n",
      "  Measure #1\n",
      "    Timesig: 4/4(quarter=60)\n",
      "    QuantizedBeat(divisions=(1,), assignedSlots=[0], beatDuration=1, beatOffset=0, quantizationError=0)\n",
      "      «~4D~ 1♩»\n",
      "    QuantizedBeat(divisions=(1,), assignedSlots=[0], beatDuration=1, beatOffset=1, quantizationError=0)\n",
      "      «~4D~ 1♩»\n",
      "    QuantizedBeat(divisions=(4, 1), assignedSlots=[0, 3], beatDuration=1, beatOffset=2, quantizationError=0.0158)\n",
      "      «~4D! 3/8♩ properties={'.backwardTies': {0}}»\n",
      "      «r 1/8♩»\n",
      "      «r 1/2♩»\n",
      "    QuantizedBeat(divisions=(1,), assignedSlots=[0], beatDuration=1, beatOffset=3, quantizationError=0)\n",
      "      «r 1♩»\n"
     ]
    }
   ],
   "source": [
    "chain = Chain([\n",
    "    Note(\"4C:1+3/8\"),\n",
    "    Note(\"4D\", 5)\n",
    "    \n",
    "])\n",
    "chain.show()\n",
    "chain.dump()\n",
    "q = chain.quantizedScore()\n",
    "q.dump(tree=False)"
   ]
  },
  {
   "cell_type": "code",
   "execution_count": 5,
   "id": "371d3da7-3f2d-42c0-b616-8aa8cc4fefbf",
   "metadata": {},
   "outputs": [
    {
     "data": {
      "image/png": "[encoded data removed]",
      "text/plain": [
       "<IPython.core.display.Image object>"
      ]
     },
     "metadata": {
      "image/png": {
       "width": 375
      }
     },
     "output_type": "display_data"
    },
    {
     "data": {
      "text/html": [
       "<code><span style=\"font-size: 85%\"><b>Chain</b> - beat: 0, offset: None, dur: 8.5</span></code><br><code><span style=\"color:#BBBBBB;font-size:85%\">  location  beat   offset      dur         name      gliss dyn  playargs            info                </span></code><br><code><span style=\"color:#9090FF;font-size:85%\">  0:0       0      (0)         0.5         4C        F          None                -</span></code><br><code>      <span style=\"color:#8080E0;font-size:85%\">[Fermata(kind=normal), Text(text=bar, box=, color=, fontfamily=, placement=above)]</span></code><br><code><span style=\"color:#9090FF;font-size:85%\">  0:0.5     0.5    (1/2)       8           4D        F          None                label: foo</span></code><br><code>      <span style=\"color:#8080E0;font-size:85%\">[Fermata(kind=normal)]</span></code>"
      ],
      "text/plain": [
       "<IPython.core.display.HTML object>"
      ]
     },
     "metadata": {},
     "output_type": "display_data"
    },
    {
     "name": "stdout",
     "output_type": "stream",
     "text": [
      "Part #0:\n",
      "  Measure #0\n",
      "    Timesig: 4/4(quarter=60)\n",
      "    QuantizedBeat(divisions=(2,), assignedSlots=[0, 1], beatDuration=1, beatOffset=0, quantizationError=0)\n",
      "      «4C 0:0.5 1/2♩ attachments=[Fermata(kind=normal), Text(text=bar, placement=above)]»\n",
      "      «4D~ 0.5:1 1/2♩ attachments=[Text(text=foo, fontsize=9.0), Fermata(kind=normal)]»\n",
      "    QuantizedBeat(divisions=(1,), assignedSlots=[0], beatDuration=1, beatOffset=1, quantizationError=0)\n",
      "      «~4D~ 1:2 1♩»\n",
      "    QuantizedBeat(divisions=(1,), assignedSlots=[0], beatDuration=1, beatOffset=2, quantizationError=0)\n",
      "      «~4D~ 2:3 1♩»\n",
      "    QuantizedBeat(divisions=(1,), assignedSlots=[0], beatDuration=1, beatOffset=3, quantizationError=0)\n",
      "      «~4D~ 3:4 1♩»\n",
      "  Measure #1\n",
      "    Timesig: 4/4(quarter=60)\n",
      "    QuantizedBeat(divisions=(1,), assignedSlots=[0], beatDuration=1, beatOffset=0, quantizationError=0)\n",
      "      «~4D~ 0:1 1♩»\n",
      "    QuantizedBeat(divisions=(1,), assignedSlots=[0], beatDuration=1, beatOffset=1, quantizationError=0)\n",
      "      «~4D~ 1:2 1♩»\n",
      "    QuantizedBeat(divisions=(1,), assignedSlots=[0], beatDuration=1, beatOffset=2, quantizationError=0)\n",
      "      «~4D~ 2:3 1♩»\n",
      "    QuantizedBeat(divisions=(1,), assignedSlots=[0], beatDuration=1, beatOffset=3, quantizationError=0)\n",
      "      «~4D~ 3:4 1♩»\n",
      "  Measure #2\n",
      "    Timesig: 4/4(quarter=60)\n",
      "    QuantizedBeat(divisions=(2,), assignedSlots=[0, 1], beatDuration=1, beatOffset=0, quantizationError=0)\n",
      "      «~4D 0:0.5 1/2♩»\n",
      "      «rest 0.5:1 1/2♩»\n",
      "    QuantizedBeat(divisions=(1,), assignedSlots=[0], beatDuration=1, beatOffset=1, quantizationError=0)\n",
      "      «rest 1:2 1♩»\n",
      "    QuantizedBeat(divisions=(1,), assignedSlots=[0], beatDuration=1, beatOffset=2, quantizationError=0)\n",
      "      «rest 2:3 1♩»\n",
      "    QuantizedBeat(divisions=(1,), assignedSlots=[0], beatDuration=1, beatOffset=3, quantizationError=0)\n",
      "      «rest 3:4 1♩»\n"
     ]
    }
   ],
   "source": [
    "from maelzel.core import *\n",
    "\n",
    "chain = Chain([\n",
    "    Note(\"4C\", 0.5).addSymbol('fermata').addText('bar'),\n",
    "    Note(\"4D\", 8, label='foo').addSymbol('fermata'),\n",
    "    # Rest(4)\n",
    "    \n",
    "])\n",
    "chain.show()\n",
    "chain.dump()\n",
    "q = chain.quantizedScore()\n",
    "q.dump(tree=False)"
   ]
  },
  {
   "cell_type": "code",
   "execution_count": 4,
   "id": "6d6ef3f0-1a7c-41d3-bc79-d8224577eab5",
   "metadata": {},
   "outputs": [
    {
     "data": {
      "text/html": [
       "<code style=\"white-space: pre-line; font-size:0.9em;\">4C:4♩:offset=1.6:gliss=4D</code><br><br><img style=\"display:inline; padding:10px;\n",
       "margin-top:14px;\n",
       "width:369px\" src=\"data:image/png;base64,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\"/>"
      ],
      "text/plain": [
       "4C:4♩:offset=1.6:gliss=4D"
      ]
     },
     "execution_count": 4,
     "metadata": {},
     "output_type": "execute_result"
    }
   ],
   "source": [
    "n = Note(60, offset=1.6, dur=4, gliss=62)\n",
    "n"
   ]
  },
  {
   "cell_type": "code",
   "execution_count": 5,
   "id": "5d5234a5-2ce5-4ea6-9294-fef6dc02cb8d",
   "metadata": {},
   "outputs": [
    {
     "data": {
      "text/html": [
       "<code style=\"white-space: pre-line; font-size:0.9em;\">4C:3♩:offset=1.5:gliss=4D</code><br><br><img style=\"display:inline; padding:10px;\n",
       "margin-top:14px;\n",
       "width:324px\" src=\"data:image/png;base64,iVBORw0KGgoAAAANSUhEUgAAAbEAAABZCAIAAAA/0o29AAASqUlEQVR4nO2dXYgbVf/Hz+r6JMG2zmyhaEW3k61iCxU22bS9sN1CEikVfIGdbG8UbzIrFipeOMmFulgoJnsjvSiSiReiN+5MQW/0JrPUYilUMqkoKtpm0iKl7YozoVQ2C5X8L87znP84k81O5iWZzf4+V9kzZ2dOZk6+c15+LyPtdhsBAAAACCGEHhh0AwAAAAKEN5qoqirHcYqieHI2AACAQTHifu6sKEoqlWo2m7FYTJZlmqY9aRkAAED/cTtOJIKIEKrVaoVCwYNGAQAADAhX40Rd16PRKBZEQr1ej0ajbtsFAAAwCFyNE1mWNQkiQojjODfnBAAAGCDOx4myLKfT6Y6HqtVqPB530SoAAIDB4Hyc2GXpsFQqOT4tAADAAHE4TlRVdWJiwlTI8/zc3Bwu1zQNNqABANhwOBwnSpJk/JOiqGq1WiwWo9FoMpm0VgAAANgQONTEarVKPlMUJcsyWUDEHyqVivvGAQAA9BmHmqiqKvksSZJ1R+XcuXPOGwUAADAgHGpirVbDH7LZbCqVMh6amprCH2RZdtMyAACA/uPWjyWfz5tKdF3HH2D6DADAhsOVJs7MzFhdVur1uptzAgAADBBXmkimyUbIUiOEyQEAYMPhShM7OquAFAIAsHHxOKasoiiNRsPbcwIAAPQNh5pIURRCyLTjjBASRZF8BpdnAAA2HKMIIUVRjFpmh0ceeaTZbM7Ozu7atctYfubMGfL5hx9+yOVyXjQSAACgH2QyGdRut2dmZgbdEgAAgMHzyiuvoLYjeJ5HCBUKBVKiaRqeUGNisZizM697URPZbNbzCwHDB7GWrVQqg24LEERw9+B53uF6Io6caDRFzOVyxviyc3Nzzs7cBWINTkgmk4IgeH4hAAA2LQ41Ee+fEO89WZbL5TI5SlEUy7LuG2fC6GSNEIrFYhB9BwAAb3GoiTRNx2KxRqOhqqqu6yYF5DjOj+CJRstHiqIkSaJp2g/xlSQJ1BYIJtA5/ca5fSI2xJEkyZSVhWGYYrHovmUmFEUhV8HRyaLRqCAIfgTgEUUxk8mA8TkQQKBz+o1zTcxkMgihfD6/tLRkLPdpgc8YZUcQhHg8ruu6T7Y+giAwDJNKpUyzdQAYONA5/ca5JsbjcYZhTIU8z1sNuT2BWFCWSiWWZVVVJXmlPYemaTw9YVnWurEDAAMEOqffONdESZJMbnyxWMyPWTNCSJZlHLGR53mO4/A4kcRw9IN4PM5xXK1W82O9EgDcAJ3TVxxqoqIopjzOeI3PiyZ1AA8Ss9ks1ty5uTmfRohGsL3R0tISZKwGggZ0Th9pgx8LAAAAQgih6enpUYRQPp+3hoZdi1artbi4eOfOHWPh/v37jxw54nn7MIuLi61Wa3Z2NhwO45KFhQVjhY7+Le65fPnyhQsXyJ+ZTMbk3A1sIK5fv45nG8PxHKFzeg5WlfHx8Z59+7LZrPV0MzMzPjjbtNvtNs/zFEXV63VjoenqPl3atINEUZSmaT5dC/CbIfPtg87pOfhO9uzbl8vljP4qCKFsNktRlE9Z+hRFEQQBmyL6cf4ucBxn2kFqNpsm6wdVVSEPF9B/oHP6yqj9qrIsmyateKNZ1/Vz585h421vG5dKpaLRqCiK3UOZESvFsbEx9xaL2C3HZHSJEJqZmTFGhBQEAft0MwyjKIoffjsAYCKwnbNYLGqaZrNyOp32yWLPG2wOLE1hbxBCDMPg4XqpVEII8Tzv+WiW5/lkJ0xfgZS7n8JrmhaLxax3aWZmxjQ3Md4NP767G+r1+ueff97nyZSmaUGelno1d67X62fPnjUt5vSHIHfOnjQnaL8XDGmbXU007U1TFFWtVvEhHB2HYRjfWmvGdItJS9zTsc91DEcWZE1MJBK4YQcPHiyVSv0RR7zTFVhZ9EoTyb198skn33///X6KY5A7p209DOLvBUPaZksTrZmaS6WSsQJ+Wv3pH9Z5tKkxjumYkHqtk+PRMTKMl4PD5OQkaf8DDzyAEEomk6Io+nrRTaKJxnv74IMPItcvnnq9/tlnn61bLeCd054Y/pdh0ETTC8r6asK/B6+0qTvWubNXD96ambr7ZLxerwdTAoy/W8Lo6GgoFHr55Zd9EsdNqIkELI6HDh1y8BPAFmahUGh2drbLjCfgndOWFv6PgGvi+vvOgiAYveg6hr3BiZ6r1WpPt6ZXFEXpuMDcaDRSqZT7SCHRaJS8YDE4zkWX+oFeKv439+/fX11d/eqrr44fPx6JRHwy6tyc/PPPPwih77777sSJE+Fw+Pjx4/b/t9VqIYRWV1cXFxcPHDgwNjb21ltvWeM7DHfnDBQj7XZbEIQuG7u1Ws3oaj45OTk2NmascPPmzTt37hjr0DS9bdu2xx9/PBKJeNXQn376aXl5ORwORyKRSCTy0EMPkUN3795dWVlptVo4qqPLC127du3GjRv48+HDh40X2ihcvnz53r173euEQqHnnnvOw4vi+2btHgFB07QrV66gTh24J+zcW4SQdTazFtZ3PCYUCu3du9fU1MB2zgsXLty/f99m5fHx8d27d/vaHgfgB/HSSy+Non+nEDCxsrJiFLudO3caH5Kmab/++it+0RnRdV3X9Rs3buzcuXP37t2ePLl9+/bduXNneXk5EongNqysrKysrNy9e3fPnj0eiu/u3btXVlaWl5cRQvfv3w9Ot+uVRCJx48aNP//8EyHU7nF2A3Tn6aefvnfv3vLysn0h6M7o6KjpVKurq5qmmTQxsJ1zenp60E3wju5z7EKhYKxs3EUxjeTXwrhD7ZK+5agiRg/9WSH1HLzmRf4URfHll18OhUKjo/9vjjo+Pu7tRTfVeiI5SbVa5TguFArhvSybPysjpD55TORUHdfdNnrnDCzknq+znmgcQmazWeJPoiiKzSxUzWbTk8U+1MccVThEHUVRuVxuCELUsSz75Zdftlqts2fPHjp0CP1vMxpwTzweL5VKrVbriy++sL54egI/plu3bn388ccHDx5cq9qQdc4Ass7zM671GkXQ6rLCMAz2N6IoyhTIq9lssizr3p7e7xxVZF2VpumpqSlBEDKZjFeCHgQ4juM4Ttd1SZLwnBrwCpZl8Y9CkqSLFy86Pg9N0+QxGcuHvnMGiO7jSWL8aTTJNm7IUBTF8zyeU+PK7Xa7Wq1aQ0W434A3WqKSwBAehp9Y6xZtuBTSprlzf9icc2f32PkZtoeocwYWIlPrzKHIiM+4r0+6F44jWywW8ZyaJDiNx+OCIFQqFaOKCYLgZqjfzxxVJsrlsk/xwwHAJdA5PWcdTSQhiSYmJkghmcMWi0Wj5zn+TAbzqVRKlmUii81m081Utw85qoj9BEVRhUKhUqmIooiDleXzeUggCQwQ6Jx9Yx1NJJsqRu3DhjwURZninmPLbeO2DE4cQf50Y9TdhxxVOJ47QojjuFwul0qlWJYtFouqqsZiMVjPBgYIdM6+YVcTjeBXllElMbjEtBNSLBbJUNFx9sX+5Kgi8k36H4amaWv+GQDoJ9A5+8YoQkhV1bXUiiw9GgUoFAohhH7++Wdr0MotW7YsLS2Zyp9//nk8yrMesslHH32EEDp27Fg6nZZl2WQG5GHszEwmI4qirxkB+8Ddu3eRp7fFDtevX0f/7ieBgjTMZQvxvfX8a9p5WMPROQNOq9WCHFUAAAD/Zf/+/SPtdlvX9S5WTm+++ebVq1ePHTv29ttvk8JXX3319u3bhw8ffu+994yVy+WyKIrvvvuu0denVqvhzZDJyUlTpG478Dx/7969YrG4detWXGKaPnQMo+SYxcVFRVEctDM4vPHGGzgsSj8vih99sVh073LuB6QTumwhvrcefk3cmW0+rCHonIEFP4iTJ0+ubxiFffgoijIWkkdoMo/CvoAmU8S1KtthIDmqkslkYO3s7AD2iVY2un0iYaN3zsCCH4StWGEcxzEM02w2jYYvqVQKa2W5XGZZlmx74W0W0y4Y6Y6m8d26DCpHlSRJkF8FCCbQOf3Glm+mIAjpdBq7E5HtZo7jsB/SuXPnMpkMdmzC4mXascHrxwzD9JrEaiA5qhBCNE1bd9UBIAhA5/QbW5qYSqWy2SweEhrdllmWxR6XxMsFa6JxdZKY0Tiwtuc4TlGUdT06SQV4fwIA4BK7MTwEQVAUpVarxeNxSZLIm4qmaVM431gsRswFdF3HllPZbNZBptO1ZHRkZMRUDd6cAAB4Qg8xo2RZTiaTjUZjamqqS5wiPFiTZRmvAzYajVgs5mFEL6sbE4QGAQDAK3rQRJqmZVnG24sLCwvRaDSXy8mybBJHPH3mOC6dTjebzWw2661mWWPZFgoF8G0CAMATeo4tWiwWK5VKMplsNpsLCwvpdHpsbGzEQLlcRgg1Gg2GYSqViocjRL9zVAEAAKD2GjH9AQAANhvT09Mj7XZbkiQP05Bev35dFMX9+/cfOXLEq3MCPfHpp58uLy/3+VX37bfffv/995lMZteuXf28bp/B99b917x9+3Y4HKYoCjulwLgkIGQyGe+9HbCFdjDTWm8SwI/FP1z6sdTrdWMIehKf1NtGAm5wmE8HAIBekSSJ4zhj0E+cwggIFD3ssaiqin1XRkZGsJWif80CgA2NLMsmby4c5bBjFOT//Oc/fWoWYAO740TsrEKeaK1Ww9HcHFhiAx6i67ogCPV6Hf8C4/G4zRyzgAlFUUwWXbquW9fZr169ihDieZ5ko1dVda3hXqVSIR4NhUJhrbDwr7/+uvN2A15jVxNZlrU+0VwuB5o4KHA6Gmz5RFhaWlpYWHjiiScG1ap+0jEWsjXolqqqVrFzGZn1ypUrdqoZ3V67JFODKNmBwpYmyrLc8U3YaDQURTH51fU5bN/mxDRsN/HHH3/0tzl26RipU1EUTdNM1axiZ7VLDQ4Mw1hDN6XTaTtix/M8eKYGCrd7LFYHElyC81UBftBdED3HGhZfVVVjJjLMN998s3Xr1vn5eRxDE/07/WzQoChqrYRCRsbGxkyFJF6vyc1/XXAUFWshZCINGm410dqN8N4LvPp8Qtf1jusYJoxxzhFCsizbmVR2WRqzyaVLl9z8e3dIPk9CNBq1BkOyhumMRqNeheD88MMPq9Wqg+6NtY/IIsMw+XweZs0BZKRtCVttRdd1sqJshOd501tOEIS5ublkMtnnBElDj+M8hRRFnT59+sSJE543yQ7WSSVN01Z5mpqaMknbEEcJlGU5Ho9DXLvAYmucSNP0zMyMaZHYKoi6ruN5E2x9eo7jPYFms3nz5k379W1OKicmJqzS1ut0cnMCdyng2BonIoQURcFLhMlkMp/Pd3zRcRxXLpdhkOgHZPJrJz/R9PT0gQMH8Gcce1yWZetuGEIIBiwAYMa+ywtxycxms5qmGQ9pmoYTolIUZToEeAtFUd0fqINEYAAAEOyOEzG5XA6PUyiKYlkWDzF0Xccrxzh27LAuAwUEPBhf62g2m/UwOBsAbEJ600SEkCzLhULBZCxGURTHcfl8HiZifqPreiqVsi4vMgxTLBbBhB4AXNKzJmJUVVUUpVqtYgMuWDbuM5IkVSoV4s83NTUFaggAnuBQEwEAAIaSnnMPAMFEVdX5+fk+5KWZn58ndgWyLM/Pz/t9xYEgSdLp06cH3QpgAIAmDg/FYnHv3r3+xXCTZTkWi506dYoor67rp06dGh8fFwRhaNKESZL0wgsvZDKZ5eXlQbcFGASD3fYGPKRSqezYsQMhlEgkSqWSh2cWRfHo0aMIoXA4LIqi6aI7d+7EfWl2dtZ0dANRrVZPnjy5fft2hFAkEoFA8ZsW0MShQtO0F198EStUOBx2KVKiKL722muRSASfMJFI1Ov1tWomEgnyok0kEjzPi6K4Vv0goGlapVLhef7o0aPkO27fvr1QKICN7WYG9liGEFmWP/nkk8XFRVKyY8eOffv24R1qbC9lDItgDOFVqVR+/PHH3377zRgMIpFIvPPOO+tubauq+sEHH3z99dd//fUXKXz44YcPHTr07LPPptNpD2MxOAB/TUVR6vX6+fPnr127ZjyaTCbn5uZg+x4ATRxaVFU9c+ZMuVxeWVlxdoZwOJzJZObn53sVMlVVZVkWRfHixYurq6vWCpOTk1u3bj148CAyxOPyxKILh8sm0cxwcMbff//977//tlZ+5plnDh8+zLIsGJMBBNDE4UdRFFmWr1y5cv78+XX3DbZv355IJI4cOeKV2Sm+eqVSuXTpkgN1fvTRRx977LGOh2wGuzYxOTmZTqfT6TToINAR0MRNhzFkf6VSIdEG+zOxxeM4RVF++eWXRqOh6/rVq1c7jiVdMjExsW3btqeeemrXrl34O4IIAnYATQQCgSlFlCkCbqvVunbt2q1bt7Zs2bJnzx5TIAxT+EXQPsAN/wc4HnIu5MUauAAAAABJRU5ErkJggg==\"/>"
      ],
      "text/plain": [
       "4C:3♩:offset=1.5:gliss=4D"
      ]
     },
     "execution_count": 5,
     "metadata": {},
     "output_type": "execute_result"
    }
   ],
   "source": [
    "n = Note(60, offset=1.5, dur=3, gliss=62)\n",
    "n"
   ]
  },
  {
   "cell_type": "code",
   "execution_count": null,
   "id": "0a421537-02df-46c9-bbb8-f8fb54e89792",
   "metadata": {},
   "outputs": [],
   "source": []
  }
 ],
 "metadata": {
  "kernelspec": {
   "display_name": "Python 3 (ipykernel)",
   "language": "python",
   "name": "python3"
  },
  "language_info": {
   "codemirror_mode": {
    "name": "ipython",
    "version": 3
   },
   "file_extension": ".py",
   "mimetype": "text/x-python",
   "name": "python",
   "nbconvert_exporter": "python",
   "pygments_lexer": "ipython3",
   "version": "3.13.3"
  }
 },
 "nbformat": 4,
 "nbformat_minor": 5
}
