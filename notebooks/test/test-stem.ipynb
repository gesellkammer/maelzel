{
 "cells": [
  {
   "cell_type": "code",
   "execution_count": 1,
   "id": "97aaee93-3e8a-4e11-a834-9f133f888ffe",
   "metadata": {
    "tags": []
   },
   "outputs": [],
   "source": [
    "from maelzel.core import *\n"
   ]
  },
  {
   "cell_type": "code",
   "execution_count": 2,
   "id": "6f558ba2-4313-414d-bfdb-635db9294601",
   "metadata": {
    "tags": []
   },
   "outputs": [
    {
     "data": {
      "text/html": [
       "<code style=\"white-space: pre-line; font-size:0.9em;\">Voice([<span style=\"color:#6666E0\">4C:1♩:gliss=True</span>, <span style=\"color:#6666E0\">4D+:symbols=[Stem(hidden=True)]</span>, <span style=\"color:#6666E0\">4D♯:1♩</span>], dur=2)</code><br><br><img style=\"display:inline; padding:10px;\n",
       "margin-top:14px;\n",
       "width:231px\" src=\"data:image/png;base64,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\"/>"
      ],
      "text/plain": [
       "Voice([4C:1♩:gliss=True, 4D+:symbols=[Stem(hidden=True)], 4D♯:1♩])"
      ]
     },
     "execution_count": 2,
     "metadata": {},
     "output_type": "execute_result"
    }
   ],
   "source": [
    "v = Voice(r\"\"\"\n",
    "    4C:1:gliss\n",
    "    4D+:0:stemless\n",
    "    4Eb:1\n",
    "\"\"\")\n",
    "v"
   ]
  },
  {
   "cell_type": "code",
   "execution_count": 3,
   "id": "9f2494d0-695b-4925-9a5b-01e0689aefbc",
   "metadata": {
    "tags": []
   },
   "outputs": [
    {
     "data": {
      "text/html": [
       "<code style=\"white-space: pre-line; font-size:0.9em;\">Voice([<span style=\"color:#6666E0\">4C:4♩:gliss=True</span>, <span style=\"color:#6666E0\">4E</span>, <span style=\"color:#6666E0\">4F:1♩</span>], dur=5)</code><br><br><img style=\"display:inline; padding:10px;\n",
       "margin-top:14px;\n",
       "width:267px\" src=\"data:image/png;base64,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\"/>"
      ],
      "text/plain": [
       "Voice([4C:4♩:gliss=True, 4E, 4F:1♩])"
      ]
     },
     "execution_count": 3,
     "metadata": {},
     "output_type": "execute_result"
    }
   ],
   "source": [
    "v = Voice(\"\"\"\n",
    "    4C:4:gliss\n",
    "    4E:0\n",
    "    4F:1\n",
    "    \"\"\")\n",
    "v"
   ]
  },
  {
   "cell_type": "code",
   "execution_count": 4,
   "id": "7f848eeb-9e89-4500-9abd-7f202052cf1f",
   "metadata": {},
   "outputs": [
    {
     "data": {
      "image/png": "[encoded data removed]",
      "text/plain": [
       "<IPython.core.display.Image object>"
      ]
     },
     "metadata": {
      "image/png": {
       "width": 231
      }
     },
     "output_type": "display_data"
    }
   ],
   "source": [
    "v = Voice(r\"\"\"\n",
    "    4C:1:gliss\n",
    "    4D+:0:stemless\n",
    "    4Eb:1\n",
    "\"\"\")\n",
    "v\n",
    "v[-1].addSymbol(symbols.Stem(color=\"#ff0000\"))\n",
    "v.show()"
   ]
  },
  {
   "cell_type": "code",
   "execution_count": 5,
   "id": "cd627ea7-8103-47f5-a2ca-fc43c22cf34f",
   "metadata": {},
   "outputs": [
    {
     "data": {
      "text/html": [
       "<code style=\"white-space: pre-line; font-size:0.9em;\">Voice([<span style=\"color:#6666E0\">4C:1/4♩:symbols=[BeamBreak()]</span>, <span style=\"color:#6666E0\">4D:1/4♩:symbols=[BeamBreak()]</span>, <span style=\"color:#6666E0\">4E:1/4♩:symbols=[BeamBreak()]</span>, <span style=\"color:#6666E0\">4F:1/4♩:symbols=[BeamBreak()]</span>], dur=1)</code><br><br><img style=\"display:inline; padding:10px;\n",
       "margin-top:14px;\n",
       "width:241px\" src=\"data:image/png;base64,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\"/>"
      ],
      "text/plain": [
       "Voice([4C:1/4♩:symbols=[BeamBreak()], 4D:1/4♩:symbols=[BeamBreak()], 4E:1/4♩:symbols=[BeamBreak()], 4F:1/4♩:symbols=[BeamBreak()]])"
      ]
     },
     "execution_count": 5,
     "metadata": {},
     "output_type": "execute_result"
    }
   ],
   "source": [
    "from maelzel.core import *\n",
    "v = Voice(\"4C:1/4; 4D:1/4; 4E:1/4; 4F:1/4\")\n",
    "for n in v.items:\n",
    "    n.addSymbol('break')\n",
    "v"
   ]
  },
  {
   "cell_type": "code",
   "execution_count": 6,
   "id": "96cf3186-8d42-442e-850d-6a9e7d4989e9",
   "metadata": {},
   "outputs": [],
   "source": [
    "cfg = getConfig()"
   ]
  },
  {
   "cell_type": "code",
   "execution_count": 7,
   "id": "53621666-4bcc-41a5-a328-85dd346e2067",
   "metadata": {},
   "outputs": [],
   "source": [
    "cfg['show.flagStyle'] = 'flat'"
   ]
  },
  {
   "cell_type": "code",
   "execution_count": 8,
   "id": "198d4392-433d-406c-8579-c200b72fa0d7",
   "metadata": {},
   "outputs": [
    {
     "data": {
      "text/html": [
       "<code style=\"white-space: pre-line; font-size:0.9em;\">Voice([<span style=\"color:#6666E0\">4C:1/4♩:symbols=[BeamBreak()]</span>, <span style=\"color:#6666E0\">4D:1/4♩:symbols=[BeamBreak()]</span>, <span style=\"color:#6666E0\">4E:1/4♩:symbols=[BeamBreak()]</span>, <span style=\"color:#6666E0\">4F:1/4♩:symbols=[BeamBreak()]</span>], dur=1)</code><br><br><img style=\"display:inline; padding:10px;\n",
       "margin-top:14px;\n",
       "width:241px\" src=\"data:image/png;base64,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\"/>"
      ],
      "text/plain": [
       "Voice([4C:1/4♩:symbols=[BeamBreak()], 4D:1/4♩:symbols=[BeamBreak()], 4E:1/4♩:symbols=[BeamBreak()], 4F:1/4♩:symbols=[BeamBreak()]])"
      ]
     },
     "execution_count": 8,
     "metadata": {},
     "output_type": "execute_result"
    }
   ],
   "source": [
    "v"
   ]
  },
  {
   "cell_type": "code",
   "execution_count": null,
   "id": "52d071c9-2b68-4175-bfc5-8bbf71ecf0bf",
   "metadata": {},
   "outputs": [],
   "source": []
  }
 ],
 "metadata": {
  "kernelspec": {
   "display_name": "Python 3 (ipykernel)",
   "language": "python",
   "name": "python3"
  },
  "language_info": {
   "codemirror_mode": {
    "name": "ipython",
    "version": 3
   },
   "file_extension": ".py",
   "mimetype": "text/x-python",
   "name": "python",
   "nbconvert_exporter": "python",
   "pygments_lexer": "ipython3",
   "version": "3.13.3"
  }
 },
 "nbformat": 4,
 "nbformat_minor": 5
}
