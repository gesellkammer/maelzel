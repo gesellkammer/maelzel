{
 "cells": [
  {
   "cell_type": "code",
   "execution_count": 1,
   "id": "d187944c-8a98-40b9-a130-63d1f5b82c8f",
   "metadata": {},
   "outputs": [],
   "source": [
    "from maelzel.core import *\n",
    "from maelzel.core import symbols"
   ]
  },
  {
   "cell_type": "code",
   "execution_count": 2,
   "id": "62f3a119-e4e6-4ad3-9563-f489c0603337",
   "metadata": {},
   "outputs": [
    {
     "data": {
      "text/html": [
       "<code style=\"white-space: pre-line; font-size:0.9em;\">Chain([<span style=\"color:#6666E0\">4C:1♩</span>, <span style=\"color:#6666E0\">4D:0.5♩</span>, <span style=\"color:#6666E0\">4E:1♩:offset=3</span>], dur=4)</code><br><img style=\"display:inline; padding:10px;\n",
       "margin-top:14px;\n",
       "width:248px\" src=\"data:image/png;base64,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\"/>"
      ],
      "text/plain": [
       "Chain([4C:1♩, 4D:0.5♩, 4E:1♩:offset=3])"
      ]
     },
     "execution_count": 2,
     "metadata": {},
     "output_type": "execute_result"
    }
   ],
   "source": [
    "ch = Chain([\n",
    "    \"4C:1\",\n",
    "    \"4D:0.5\",\n",
    "    \"4E:1:offset=3\"\n",
    "])\n",
    "ch"
   ]
  },
  {
   "cell_type": "code",
   "execution_count": 3,
   "id": "880f1b94-9bca-47c4-b0b4-d4ef24355a0d",
   "metadata": {},
   "outputs": [
    {
     "data": {
      "text/html": [
       "<code><span style=\"font-size: 85%\"><b>Chain</b> - beat: 0, offset: None, dur: 4</span></code><br><code><span style=\"color:#BBBBBB;font-size:85%\">  location  beat   offset      dur         name      gliss dyn  playargs            info                </span></code><br><code><span style=\"color:#9090FF;font-size:85%\">  0:0       0      (0)         0.5         4C~       F          None                -</span></code><br><code><span style=\"color:#9090FF;font-size:85%\">  0:0.5     0.5    (0.5)       0.5         4C        F          None                -</span></code><br><code><span style=\"color:#9090FF;font-size:85%\">  0:1       1      (1)         0.5         4D        F          None                -</span></code><br><code><span style=\"color:#9090FF;font-size:85%\">  0:3       3      3           1           4E        F          None                -</span></code>"
      ],
      "text/plain": [
       "<IPython.core.display.HTML object>"
      ]
     },
     "metadata": {},
     "output_type": "display_data"
    }
   ],
   "source": [
    "ch.splitEventsAtOffsets([0.5])\n",
    "ch.dump()"
   ]
  },
  {
   "cell_type": "code",
   "execution_count": 4,
   "id": "efa07f2b-73ac-4459-ae14-5ba46920cbae",
   "metadata": {},
   "outputs": [
    {
     "data": {
      "text/html": [
       "<code style=\"white-space: pre-line; font-size:0.9em;\">Chain([<span style=\"color:#6666E0\">4C~:0.5♩</span>, <span style=\"color:#6666E0\">4C:0.5♩:symbols=[NoMerge(prev=True)]</span>, <span style=\"color:#6666E0\">4D:0.5♩</span>, <span style=\"color:#6666E0\">4E:1♩:offset=3</span>], dur=4)</code><br><img style=\"display:inline; padding:10px;\n",
       "margin-top:14px;\n",
       "width:267px\" src=\"data:image/png;base64,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\"/>"
      ],
      "text/plain": [
       "Chain([4C~:0.5♩, 4C:0.5♩:symbols=[NoMerge(prev=True)], 4D:0.5♩, 4E:1♩:offset=3])"
      ]
     },
     "execution_count": 4,
     "metadata": {},
     "output_type": "execute_result"
    }
   ],
   "source": [
    "ch.items[1].addSymbol(symbols.NoMerge())\n",
    "ch"
   ]
  },
  {
   "cell_type": "code",
   "execution_count": 5,
   "id": "9e62ef19-bf4f-486a-b1f0-a94a9203b569",
   "metadata": {},
   "outputs": [
    {
     "data": {
      "text/html": [
       "<code><span style=\"font-size: 85%\"><b>Chain</b> - beat: 0, offset: None, dur: 4</span></code><br><code><span style=\"color:#BBBBBB;font-size:85%\">  location  beat   offset      dur         name      gliss dyn  playargs            info                </span></code><br><code><span style=\"color:#9090FF;font-size:85%\">  0:0       0      (0)         1           4C        F          None                -</span></code><br><code><span style=\"color:#9090FF;font-size:85%\">  0:1       1      (1)         0.5         4D        F          None                -</span></code><br><code><span style=\"color:#9090FF;font-size:85%\">  0:3       3      3           1           4E        F          None                -</span></code>"
      ],
      "text/plain": [
       "<IPython.core.display.HTML object>"
      ]
     },
     "metadata": {},
     "output_type": "display_data"
    },
    {
     "data": {
      "text/html": [
       "<code><span style=\"font-size: 85%\"><b>Chain</b> - beat: 0, offset: None, dur: 4</span></code><br><code><span style=\"color:#BBBBBB;font-size:85%\">  location  beat   offset      dur         name      gliss dyn  playargs            info                </span></code><br><code><span style=\"color:#9090FF;font-size:85%\">  0:0       0      (0)         0.5         4C~       F          None                -</span></code><br><code><span style=\"color:#9090FF;font-size:85%\">  0:0.5     0.5    (0.5)       0.5         4C        F          None                -</span></code><br><code>      <span style=\"color:#8080E0;font-size:85%\">[NoMerge(prev=True)]</span></code><br><code><span style=\"color:#9090FF;font-size:85%\">  0:1       1      (1)         0.5         4D        F          None                -</span></code><br><code><span style=\"color:#9090FF;font-size:85%\">  0:3       3      3           1           4E        F          None                -</span></code>"
      ],
      "text/plain": [
       "<IPython.core.display.HTML object>"
      ]
     },
     "metadata": {},
     "output_type": "display_data"
    },
    {
     "data": {
      "image/png": "[encoded data removed]",
      "text/plain": [
       "<IPython.core.display.Image object>"
      ]
     },
     "metadata": {
      "image/png": {
       "width": 219
      }
     },
     "output_type": "display_data"
    },
    {
     "data": {
      "text/html": [
       "<code style=\"white-space: pre-line; font-size:0.9em;\">Chain([<span style=\"color:#6666E0\">4C~:0.5♩</span>, <span style=\"color:#6666E0\">4C:0.5♩:symbols=[NoMerge(prev=True)]</span>, <span style=\"color:#6666E0\">4D:0.5♩</span>, <span style=\"color:#6666E0\">4E:1♩:offset=3</span>], dur=4)</code><br><img style=\"display:inline; padding:10px;\n",
       "margin-top:14px;\n",
       "width:267px\" src=\"data:image/png;base64,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\"/>"
      ],
      "text/plain": [
       "Chain([4C~:0.5♩, 4C:0.5♩:symbols=[NoMerge(prev=True)], 4D:0.5♩, 4E:1♩:offset=3])"
      ]
     },
     "execution_count": 5,
     "metadata": {},
     "output_type": "execute_result"
    }
   ],
   "source": [
    "ch = Chain([\n",
    "    \"4C:1\",\n",
    "    \"4D:0.5\",\n",
    "    \"4E:1:offset=3\"\n",
    "])\n",
    "ch.dump()\n",
    "\n",
    "ev = ch.eventAt(0.5, split=True).addSymbol('nomerge')\n",
    "ch.dump()\n",
    "ev.show()\n",
    "ch"
   ]
  },
  {
   "cell_type": "code",
   "execution_count": 6,
   "id": "999102eb-e14c-44a6-9681-0880f8fc16f7",
   "metadata": {},
   "outputs": [],
   "source": [
    "assert all(item.parent is ch for item in ch.items)"
   ]
  },
  {
   "cell_type": "code",
   "execution_count": 7,
   "id": "03eaf2ed-a7a0-4600-b603-c372e3b9d2ab",
   "metadata": {},
   "outputs": [
    {
     "data": {
      "text/html": [
       "<code style=\"white-space: pre-line; font-size:0.9em;\">4E:0.95♩</code><br><img style=\"display:inline; padding:10px;\n",
       "margin-top:14px;\n",
       "width:323px\" src=\"data:image/png;base64,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\"/>"
      ],
      "text/plain": [
       "4E:0.95♩"
      ]
     },
     "execution_count": 7,
     "metadata": {},
     "output_type": "execute_result"
    }
   ],
   "source": [
    "ch = Chain([\n",
    "    \"4C:1\",\n",
    "    \"4D:0.5\",\n",
    "    \"4E:1:offset=3\"\n",
    "])\n",
    "\n",
    "ev = ch.eventAt(3.05, split=True)\n",
    "ev"
   ]
  },
  {
   "cell_type": "code",
   "execution_count": 8,
   "id": "22e502ee-faf9-47f1-a1af-c41d3305245f",
   "metadata": {},
   "outputs": [
    {
     "data": {
      "text/html": [
       "<code style=\"white-space: pre-line; font-size:0.9em;\">Chain([<span style=\"color:#6666E0\">4C:1♩</span>, <span style=\"color:#6666E0\">4D:0.5♩</span>, <span style=\"color:#6666E0\">4E:1♩:offset=3</span>, <span style=\"color:#6666E0\">Chain([4C:1♩, 4D:0.5♩])</span>], dur=5.5)</code><br><img style=\"display:inline; padding:10px;\n",
       "margin-top:14px;\n",
       "width:398px\" src=\"data:image/png;base64,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\"/>"
      ],
      "text/plain": [
       "Chain([4C:1♩, 4D:0.5♩, 4E:1♩:offset=3, Chain([4C:1♩, 4D:0.5♩])])"
      ]
     },
     "execution_count": 8,
     "metadata": {},
     "output_type": "execute_result"
    }
   ],
   "source": [
    "ch = Chain([\n",
    "    \"4C:1\",\n",
    "    \"4D:0.5\",\n",
    "    \"4E:1:offset=3\",\n",
    "    Chain([\n",
    "        \"4C:1\",\n",
    "        \"4D:0.5\",\n",
    "    ])\n",
    "])\n",
    "ch"
   ]
  },
  {
   "cell_type": "code",
   "execution_count": 9,
   "id": "06627041-0ece-4e34-8100-67b021e9016e",
   "metadata": {},
   "outputs": [
    {
     "data": {
      "text/html": [
       "<code><span style=\"font-size: 85%\"><b>Chain</b> - beat: 0, offset: None, dur: 5.5</span></code><br><code><span style=\"color:#BBBBBB;font-size:85%\">  location  beat   offset      dur         name      gliss dyn  playargs            info                </span></code><br><code><span style=\"color:#9090FF;font-size:85%\">  0:0       0      0           1           4C        F          None                -</span></code><br><code><span style=\"color:#9090FF;font-size:85%\">  0:1       1      1           0.5         4D        F          None                -</span></code><br><code><span style=\"color:#9090FF;font-size:85%\">  0:3       3      3           1           4E        F          None                -</span></code><br><code><span style=\"font-size: 85%\">  <b>Chain</b> - beat: 4, offset: 4, dur: 1.5</span></code><br><code><span style=\"color:#BBBBBB;font-size:85%\">    location  beat   offset      dur         name      gliss dyn  playargs            info                </span></code><br><code><span style=\"color:#9090FF;font-size:85%\">    1:0       4      0           1           4C        F          None                -</span></code><br><code><span style=\"color:#9090FF;font-size:85%\">    1:1       5      1           0.5         4D        F          None                -</span></code>"
      ],
      "text/plain": [
       "<IPython.core.display.HTML object>"
      ]
     },
     "metadata": {},
     "output_type": "display_data"
    },
    {
     "data": {
      "text/html": [
       "<code style=\"white-space: pre-line; font-size:0.9em;\">Chain([<span style=\"color:#6666E0\">4C:1♩:offset=0</span>, <span style=\"color:#6666E0\">4D:0.5♩:offset=1</span>, <span style=\"color:#6666E0\">4E:1♩:offset=3</span>, <span style=\"color:#6666E0\">Chain([4C:1♩:offset=0, 4D:0.5♩:offset=1], offset=4)</span>], dur=5.5)</code><br><img style=\"display:inline; padding:10px;\n",
       "margin-top:14px;\n",
       "width:398px\" src=\"data:image/png;base64,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\"/>"
      ],
      "text/plain": [
       "Chain([4C:1♩:offset=0, 4D:0.5♩:offset=1, 4E:1♩:offset=3, Chain([4C:1♩:offset=0, 4D:0.5♩:offset=1], offset=4)])"
      ]
     },
     "execution_count": 9,
     "metadata": {},
     "output_type": "execute_result"
    }
   ],
   "source": [
    "ch2 = ch.copy()\n",
    "ch2.stack()\n",
    "ch2.dump()\n",
    "ch2\n"
   ]
  },
  {
   "cell_type": "code",
   "execution_count": 1,
   "id": "58b9e950-9357-4bf8-b5dd-5783d39b7e3a",
   "metadata": {},
   "outputs": [
    {
     "data": {
      "image/png": "[encoded data removed]",
      "text/plain": [
       "<IPython.core.display.Image object>"
      ]
     },
     "metadata": {
      "image/png": {
       "width": 398.25
      }
     },
     "output_type": "display_data"
    },
    {
     "data": {
      "image/png": "[encoded data removed]",
      "text/plain": [
       "<IPython.core.display.Image object>"
      ]
     },
     "metadata": {
      "image/png": {
       "width": 414.75
      }
     },
     "output_type": "display_data"
    },
    {
     "data": {
      "image/png": "[encoded data removed]",
      "text/plain": [
       "<IPython.core.display.Image object>"
      ]
     },
     "metadata": {
      "image/png": {
       "width": 474.75
      }
     },
     "output_type": "display_data"
    }
   ],
   "source": [
    "from maelzel.core import *\n",
    "\n",
    "ch = Chain([\n",
    "    \"4C:1\",\n",
    "    \"4D:0.5\",\n",
    "    \"4E:1:offset=3\",\n",
    "    Chain([\n",
    "        \"4C:1\",\n",
    "        \"4D:0.5\",\n",
    "    ])\n",
    "])\n",
    "ch.show()\n",
    "\n",
    "ch2 = ch.copy()\n",
    "ev = ch2.eventAt((1, 0.32), split=True)\n",
    "ev.addSymbol('accent')\n",
    "ev.show()\n",
    "ch2.show()\n",
    "\n",
    "#ch2.dump()\n",
    "#ev.show()\n",
    "#ch2.show()"
   ]
  },
  {
   "cell_type": "code",
   "execution_count": 2,
   "id": "3b89e2ae-995f-4c74-a520-bc34ddb2f438",
   "metadata": {},
   "outputs": [
    {
     "data": {
      "image/png": "[encoded data removed]",
      "text/plain": [
       "<IPython.core.display.Image object>"
      ]
     },
     "metadata": {
      "image/png": {
       "width": 398.25
      }
     },
     "output_type": "display_data"
    },
    {
     "data": {
      "image/png": "[encoded data removed]",
      "text/plain": [
       "<IPython.core.display.Image object>"
      ]
     },
     "metadata": {
      "image/png": {
       "width": 398.25
      }
     },
     "output_type": "display_data"
    },
    {
     "data": {
      "text/html": [
       "<code><span style=\"font-size: 85%\"><b>Chain</b> - beat: 0, offset: None, dur: 5.5</span></code><br><code><span style=\"color:#BBBBBB;font-size:85%\">  location  beat   offset      dur         name      gliss dyn  playargs            info                </span></code><br><code><span style=\"color:#9090FF;font-size:85%\">  0:0       0      (0)         1           4C        F          None                -</span></code><br><code><span style=\"color:#9090FF;font-size:85%\">  0:1       1      (1)         0.5         4D        F          None                -</span></code><br><code><span style=\"color:#9090FF;font-size:85%\">  0:3       3      3           0.5         4E~       F          None                -</span></code><br><code><span style=\"color:#9090FF;font-size:85%\">  0:3.5     3.5    (3.5)       0.5         4E        F          None                -</span></code><br><code><span style=\"font-size: 85%\">  <b>Chain</b> - beat: 4, offset: None, dur: 1.5</span></code><br><code><span style=\"color:#BBBBBB;font-size:85%\">    location  beat   offset      dur         name      gliss dyn  playargs            info                </span></code><br><code><span style=\"color:#9090FF;font-size:85%\">    1:0       4      (0)         1           4C        F          None                -</span></code><br><code><span style=\"color:#9090FF;font-size:85%\">    1:1       5      (1)         0.5         4D        F          None                -</span></code>"
      ],
      "text/plain": [
       "<IPython.core.display.HTML object>"
      ]
     },
     "metadata": {},
     "output_type": "display_data"
    }
   ],
   "source": [
    "from maelzel.core import *\n",
    "\n",
    "ch = Chain([\n",
    "    \"4C:1\",\n",
    "    \"4D:0.5\",\n",
    "    \"4E:1:offset=3\",\n",
    "    Chain([\n",
    "        \"4C:1\",\n",
    "        \"4D:0.5\",\n",
    "    ])\n",
    "])\n",
    "ch.show()\n",
    "\n",
    "ch2 = ch.copy()\n",
    "ch2.splitAt(3.5)\n",
    "ch2.show()\n",
    "ch2.dump()\n"
   ]
  },
  {
   "cell_type": "code",
   "execution_count": 11,
   "id": "a8cedd7c-e4c7-44da-b966-13f6a48a88b6",
   "metadata": {},
   "outputs": [
    {
     "data": {
      "image/png": "[encoded data removed]",
      "text/plain": [
       "<IPython.core.display.Image object>"
      ]
     },
     "metadata": {
      "image/png": {
       "width": 404.25
      }
     },
     "output_type": "display_data"
    }
   ],
   "source": [
    "from maelzel.core import *\n",
    "\n",
    "ch = Chain([\n",
    "    \"4C:1\",\n",
    "    \"4G:0\", \n",
    "    \"4D:0.5\",\n",
    "    \"4E:1:offset=3\",\n",
    "    Chain([\n",
    "        \"4C:1\",\n",
    "        \"4D:0.5\",\n",
    "    ])\n",
    "])\n",
    "ch.show()\n"
   ]
  },
  {
   "cell_type": "code",
   "execution_count": 14,
   "id": "e159fe92-63af-42b1-96e5-280f22facf1e",
   "metadata": {},
   "outputs": [
    {
     "data": {
      "text/plain": [
       "[4E:1♩:offset=3, 4C:1♩]"
      ]
     },
     "execution_count": 14,
     "metadata": {},
     "output_type": "execute_result"
    }
   ],
   "source": [
    "ch.eventsBetween(3, 5)"
   ]
  },
  {
   "cell_type": "code",
   "execution_count": 15,
   "id": "10185b22-0376-48fa-854e-f3817d262cbe",
   "metadata": {},
   "outputs": [
    {
     "data": {
      "text/plain": [
       "[4E:1♩:offset=3, Chain([4C:1♩, 4D:0.5♩])]"
      ]
     },
     "execution_count": 15,
     "metadata": {},
     "output_type": "execute_result"
    }
   ],
   "source": [
    "ch.itemsBetween(3, 5)"
   ]
  },
  {
   "cell_type": "code",
   "execution_count": 16,
   "id": "f5497fb5-2561-435f-9173-274f068b7d8a",
   "metadata": {},
   "outputs": [
    {
     "data": {
      "text/html": [
       "<code><span style=\"font-size: 85%\"><b>Chain</b> - beat: 3, offset: 3, dur: 2</span></code><br><code><span style=\"color:#BBBBBB;font-size:85%\">  location  beat   offset      dur         name      gliss dyn  playargs            info                </span></code><br><code><span style=\"color:#9090FF;font-size:85%\">  0:3       3      (0)         1           4E        F          None                -</span></code><br><code><span style=\"font-size: 85%\">  <b>Chain</b> - beat: 4, offset: None, dur: 1</span></code><br><code><span style=\"color:#BBBBBB;font-size:85%\">    location  beat   offset      dur         name      gliss dyn  playargs            info                </span></code><br><code><span style=\"color:#9090FF;font-size:85%\">    1:0       4      (0)         1           4C        F          None                -</span></code>"
      ],
      "text/plain": [
       "<IPython.core.display.HTML object>"
      ]
     },
     "metadata": {},
     "output_type": "display_data"
    },
    {
     "data": {
      "text/html": [
       "<code style=\"white-space: pre-line; font-size:0.9em;\">Chain([<span style=\"color:#6666E0\">4E:1♩</span>, <span style=\"color:#6666E0\">Chain([4C:1♩])</span>], dur=2, offset=3)</code><br>\n",
       "        <img style=\"display:inline; padding:10px;\n",
       "margin-top:14px;\n",
       "width:275px\"\n",
       "             src=\"data:image/png;base64,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\"/>"
      ],
      "text/plain": [
       "Chain([4E:1♩, Chain([4C:1♩])], offset=3)"
      ]
     },
     "execution_count": 16,
     "metadata": {},
     "output_type": "execute_result"
    }
   ],
   "source": [
    "ch2 = ch.cropped(3, 5)\n",
    "ch2.dump()\n",
    "ch2"
   ]
  },
  {
   "cell_type": "code",
   "execution_count": 17,
   "id": "62795d4c-40f1-4cef-86fd-cf6d75f26932",
   "metadata": {},
   "outputs": [
    {
     "data": {
      "text/html": [
       "<code><span style=\"font-size: 85%\"><b>Chain</b> - beat: 3, offset: 3, dur: 2</span></code><br><code><span style=\"color:#BBBBBB;font-size:85%\">  location  beat   offset      dur         name      gliss dyn  playargs            info                </span></code><br><code><span style=\"color:#9090FF;font-size:85%\">  0:3       3      (0)         1           4E        F          None                -</span></code><br><code><span style=\"font-size: 85%\">  <b>Chain</b> - beat: 4, offset: None, dur: 1</span></code><br><code><span style=\"color:#BBBBBB;font-size:85%\">    location  beat   offset      dur         name      gliss dyn  playargs            info                </span></code><br><code><span style=\"color:#9090FF;font-size:85%\">    1:0       4      (0)         1           4C        F          None                -</span></code>"
      ],
      "text/plain": [
       "<IPython.core.display.HTML object>"
      ]
     },
     "metadata": {},
     "output_type": "display_data"
    },
    {
     "data": {
      "text/html": [
       "<code style=\"white-space: pre-line; font-size:0.9em;\">Chain([<span style=\"color:#6666E0\">4E:1♩</span>, <span style=\"color:#6666E0\">Chain([4C:1♩])</span>], dur=2, offset=3)</code><br>\n",
       "        <img style=\"display:inline; padding:10px;\n",
       "margin-top:14px;\n",
       "width:275px\"\n",
       "             src=\"data:image/png;base64,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\"/>"
      ],
      "text/plain": [
       "Chain([4E:1♩, Chain([4C:1♩])], offset=3)"
      ]
     },
     "execution_count": 17,
     "metadata": {},
     "output_type": "execute_result"
    }
   ],
   "source": [
    "ch3 = ch2.copy()\n",
    "ch3.absorbInitialOffset()\n",
    "ch3.dump()\n",
    "ch3"
   ]
  },
  {
   "cell_type": "code",
   "execution_count": 18,
   "id": "54e5e659-446d-4f04-bbd7-c65279301bd3",
   "metadata": {},
   "outputs": [
    {
     "data": {
      "text/html": [
       "<code style=\"white-space: pre-line; font-size:0.9em;\">Chain([<span style=\"color:#6666E0\">4E:1♩:offset=3</span>, <span style=\"color:#6666E0\">Chain([4C:1♩])</span>], dur=5)</code><br>\n",
       "        <img style=\"display:inline; padding:10px;\n",
       "margin-top:14px;\n",
       "width:275px\"\n",
       "             src=\"data:image/png;base64,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\"/>"
      ],
      "text/plain": [
       "Chain([4E:1♩:offset=3, Chain([4C:1♩])])"
      ]
     },
     "execution_count": 18,
     "metadata": {},
     "output_type": "execute_result"
    }
   ],
   "source": [
    "ch3.cropped(0, 10)"
   ]
  },
  {
   "cell_type": "markdown",
   "id": "2074bc85-fe0a-4910-8e18-af038eeb922f",
   "metadata": {},
   "source": [
    "The events returned by eventsBetween are the actual events of the chain. Their offset is due to their position within the chain. Outside of it they lose this absolute position.\n",
    "\n",
    "Also notice that within a chain items are unique. The same item cannot be shared between chains. When events wich already have a parent are used within another chain, a copy is made."
   ]
  },
  {
   "cell_type": "code",
   "execution_count": 2,
   "id": "0a8e9c22-4f10-47f1-9279-ad14025d2d6d",
   "metadata": {},
   "outputs": [
    {
     "data": {
      "image/png": "[encoded data removed]",
      "text/plain": [
       "<IPython.core.display.Image object>"
      ]
     },
     "metadata": {
      "image/png": {
       "width": 383.25
      }
     },
     "output_type": "display_data"
    },
    {
     "name": "stdout",
     "output_type": "stream",
     "text": [
      "4C:1♩ 4 Chain([4C:1♩, 4D:0.5♩])\n",
      "4D:0.5♩ 5 Chain([4C:1♩, 4D:0.5♩])\n"
     ]
    },
    {
     "data": {
      "image/png": "[encoded data removed]",
      "text/plain": [
       "<IPython.core.display.Image object>"
      ]
     },
     "metadata": {
      "image/png": {
       "width": 383.25
      }
     },
     "output_type": "display_data"
    },
    {
     "data": {
      "image/png": "[encoded data removed]",
      "text/plain": [
       "<IPython.core.display.Image object>"
      ]
     },
     "metadata": {
      "image/png": {
       "width": 222.75
      }
     },
     "output_type": "display_data"
    }
   ],
   "source": [
    "ch = Chain([\n",
    "    \"4C:1\",\n",
    "    \"4G:0\", \n",
    "    \"4D:0.5\",\n",
    "    \"4E:1:offset=3\",\n",
    "    Chain([\n",
    "        \"4C:1\",\n",
    "        \"4D:0.5\",\n",
    "    ])\n",
    "])\n",
    "ch.show()\n",
    "events = ch.eventsBetween(4, 6)\n",
    "for ev in events:\n",
    "    print(ev, ev.absOffset(), ev.parent)\n",
    "ch2 = Chain(events)\n",
    "events[0].addSymbol('accent')\n",
    "ch.show()\n",
    "ch2.show()"
   ]
  },
  {
   "cell_type": "markdown",
   "id": "480563b9-6497-4658-8106-a6fe6479e46a",
   "metadata": {},
   "source": [
    "To prevent the change in offset it is necessary to set the explicit offsets, either by flattening the chain or by calling eventsWithOffset"
   ]
  },
  {
   "cell_type": "code",
   "execution_count": 3,
   "id": "27416c34-ed4f-4604-bccc-62418c946b55",
   "metadata": {},
   "outputs": [
    {
     "data": {
      "text/html": [
       "<code style=\"white-space: pre-line; font-size:0.9em;\">Chain([<span style=\"color:#6666E0\">4C:1♩:offset=0</span>, <span style=\"color:#6666E0\">4G:offset=1</span>, <span style=\"color:#6666E0\">4D:0.5♩:offset=1</span>, <span style=\"color:#6666E0\">4E:1♩:offset=3</span>, <span style=\"color:#6666E0\">4C:1♩:offset=4</span>, <span style=\"color:#6666E0\">4D:0.5♩:offset=5</span>], dur=5.5)</code><br><img style=\"display:inline; padding:10px;\n",
       "margin-top:14px;\n",
       "width:404px\" src=\"data:image/png;base64,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\"/>"
      ],
      "text/plain": [
       "Chain([4C:1♩:offset=0, 4G:offset=1, 4D:0.5♩:offset=1, 4E:1♩:offset=3, 4C:1♩:offset=4, 4D:0.5♩:offset=5])"
      ]
     },
     "execution_count": 3,
     "metadata": {},
     "output_type": "execute_result"
    }
   ],
   "source": [
    "from maelzel.core import *\n",
    "\n",
    "ch = Chain([\n",
    "    \"4C:1\",\n",
    "    \"4G:0\", \n",
    "    \"4D:0.5\",\n",
    "    \"4E:1:offset=3\",\n",
    "    Chain([\n",
    "        \"4C:1\",\n",
    "        \"4D:0.5\",\n",
    "    ])\n",
    "])\n",
    "ch2 = ch.flat()\n",
    "ch2\n",
    "# Chain(ch2.eventsBetween(4, 6))"
   ]
  },
  {
   "cell_type": "code",
   "execution_count": 4,
   "id": "7d972482-35dd-4a5d-a446-0ea770079714",
   "metadata": {},
   "outputs": [
    {
     "data": {
      "text/html": [
       "<code style=\"white-space: pre-line; font-size:0.9em;\">Chain([<span style=\"color:#6666E0\">4C:1♩:offset=4</span>, <span style=\"color:#6666E0\">4D:0.5♩:offset=5</span>], dur=5.5)</code><br>\n",
       "        <img style=\"display:inline; padding:10px;\n",
       "margin-top:14px;\n",
       "width:343px\"\n",
       "             src=\"data:image/png;base64,iVBORw0KGgoAAAANSUhEUgAAAcoAAABkCAIAAACJn+ehAAAJLmlDQ1BJQ0MgUHJvZmlsZQAAeJyVlWdQk1kXx+/zPOmFQBJCh1BDkSolgJQQWijSq6hA6J1QRWyIuAIriog0RZBFARdclSJrRRQLi4ICFnSDLALKunEVUUFZcN8ZnfcdP7z/mXvPb/5z5t5zz/lwASCIg2XBy3tiUrrA28mOGRgUzATfKIyflsLx9HQD39W7EQCtxHu638/5rggRkWn85bi4vHL5KYJ0AKDsZdbMSk9Z4aPLTA+P/8JnV1iwXOAy31jh6H957EvOvyz6kuPrzV1+FQoAHCn6Gw7/hv9z74pUOIL02KjIbKZPclR6Vpggkpm20gkel8v0FCRHxSZEflPw/5X8HaVHZqevRG5yyiZBbHRMOvN/DjUyMDQEX2fxxutLjyFG/3/PZ0VfveR6ANhzACD7vnrhlQB07gJA+tFXT225r5R8ADru8DMEmf96qJUNDQiAAuhABigCVaAJdIERMAOWwBY4ABfgAXxBENgA+CAGJAIByAK5YAcoAEVgHzgIqkAtaABNoBWcBp3gPLgCroPb4C4YBo+BEEyCl0AE3oEFCIKwEBmiQTKQEqQO6UBGEBuyhhwgN8gbCoJCoWgoCcqAcqGdUBFUClVBdVAT9At0DroC3YQGoYfQODQD/Q19hBGYBNNhBVgD1ofZMAd2hX3h9XA0nArnwPnwXrgCrodPwh3wFfg2PAwL4ZfwHAIQIsJAlBFdhI1wEQ8kGIlCBMhWpBApR+qRVqQb6UPuIUJkFvmAwqBoKCZKF2WJckb5ofioVNRWVDGqCnUC1YHqRd1DjaNEqM9oMloerYO2QPPQgehodBa6AF2ObkS3o6+hh9GT6HcYDIaBYWHMMM6YIEwcZjOmGHMY04a5jBnETGDmsFisDFYHa4X1wIZh07EF2ErsSewl7BB2EvseR8Qp4YxwjrhgXBIuD1eOa8ZdxA3hpnALeHG8Ot4C74GPwG/Cl+Ab8N34O/hJ/AJBgsAiWBF8CXGEHYQKQivhGmGM8IZIJKoQzYlexFjidmIF8RTxBnGc+IFEJWmTuKQQUgZpL+k46TLpIekNmUzWINuSg8np5L3kJvJV8lPyezGamJ4YTyxCbJtYtViH2JDYKwqeok7hUDZQcijllDOUO5RZcby4hjhXPEx8q3i1+DnxUfE5CZqEoYSHRKJEsUSzxE2JaSqWqkF1oEZQ86nHqFepEzSEpkrj0vi0nbQG2jXaJB1DZ9F59Dh6Ef1n+gBdJEmVNJb0l8yWrJa8IClkIAwNBo+RwChhnGaMMD5KKUhxpCKl9ki1Sg1JzUvLSdtKR0oXSrdJD0t/lGHKOMjEy+yX6ZR5IouS1Zb1ks2SPSJ7TXZWji5nKceXK5Q7LfdIHpbXlveW3yx/TL5ffk5BUcFJIUWhUuGqwqwiQ9FWMU6xTPGi4owSTclaKVapTOmS0gumJJPDTGBWMHuZImV5ZWflDOU65QHlBRWWip9KnkqbyhNVgipbNUq1TLVHVaSmpOaulqvWovZIHa/OVo9RP6Tepz6vwdII0Nit0akxzZJm8Vg5rBbWmCZZ00YzVbNe874WRoutFa91WOuuNqxtoh2jXa19RwfWMdWJ1TmsM7gKvcp8VdKq+lWjuiRdjm6mbovuuB5Dz00vT69T75W+mn6w/n79Pv3PBiYGCQYNBo8NqYYuhnmG3YZ/G2kb8Y2qje6vJq92XL1tddfq18Y6xpHGR4wfmNBM3E12m/SYfDI1MxWYtprOmKmZhZrVmI2y6WxPdjH7hjna3M58m/l58w8WphbpFqct/rLUtYy3bLacXsNaE7mmYc2ElYpVmFWdldCaaR1qfdRaaKNsE2ZTb/PMVtU2wrbRdoqjxYnjnOS8sjOwE9i1281zLbhbuJftEXsn+0L7AQeqg59DlcNTRxXHaMcWR5GTidNmp8vOaGdX5/3OozwFHp/XxBO5mLlscel1Jbn6uFa5PnPTdhO4dbvD7i7uB9zH1qqvTVrb6QE8eB4HPJ54sjxTPX/1wnh5elV7Pfc29M717vOh+Wz0afZ552vnW+L72E/TL8Ovx5/iH+Lf5D8fYB9QGiAM1A/cEng7SDYoNqgrGBvsH9wYPLfOYd3BdZMhJiEFISPrWeuz19/cILshYcOFjZSNYRvPhKJDA0KbQxfDPMLqw+bCeeE14SI+l3+I/zLCNqIsYibSKrI0cirKKqo0ajraKvpA9EyMTUx5zGwsN7Yq9nWcc1xt3Hy8R/zx+KWEgIS2RFxiaOK5JGpSfFJvsmJydvJgik5KQYow1SL1YKpI4CpoTIPS1qd1pdOXP8X+DM2MXRnjmdaZ1Znvs/yzzmRLZCdl92/S3rRn01SOY85Pm1Gb+Zt7cpVzd+SOb+FsqdsKbQ3f2rNNdVv+tsntTttP7CDsiN/xW55BXmne250BO7vzFfK350/sctrVUiBWICgY3W25u/YH1A+xPwzsWb2ncs/nwojCW0UGReVFi8X84ls/Gv5Y8ePS3qi9AyWmJUf2YfYl7RvZb7P/RKlEaU7pxAH3Ax1lzLLCsrcHNx68WW5cXnuIcCjjkLDCraKrUq1yX+ViVUzVcLVddVuNfM2emvnDEYeHjtgeaa1VqC2q/Xg09uiDOqe6jnqN+vJjmGOZx543+Df0/cT+qalRtrGo8dPxpOPCE94nepvMmpqa5ZtLWuCWjJaZkyEn7/5s/3NXq25rXRujregUOJVx6sUvob+MnHY93XOGfab1rPrZmnZae2EH1LGpQ9QZ0ynsCuoaPOdyrqfbsrv9V71fj59XPl99QfJCyUXCxfyLS5dyLs1dTrk8eyX6ykTPxp7HVwOv3u/16h245nrtxnXH61f7OH2XbljdOH/T4ua5W+xbnbdNb3f0m/S3/2byW/uA6UDHHbM7XXfN73YPrhm8OGQzdOWe/b3r93n3bw+vHR4c8Rt5MBoyKnwQ8WD6YcLD148yHy083j6GHit8Iv6k/Kn80/rftX5vE5oKL4zbj/c/83n2eII/8fKPtD8WJ/Ofk5+XTylNNU0bTZ+fcZy5+2Ldi8mXKS8XZgv+lPiz5pXmq7N/2f7VLwoUTb4WvF76u/iNzJvjb43f9sx5zj19l/huYb7wvcz7Ex/YH/o+BnycWshaxC5WfNL61P3Z9fPYUuLS0j9CLJC+ERlPpwAAESNJREFUeJzt3TGI29YfB/Dnf1PIQRKertAhhVylCykdSol0baFDKEhekqlwNp26WTe2WWxPhW6Wl9Lx5A6l29k3dSung1AotMFyC5ma1nKu0CGhtUwukEAT/B9+qf76S7ZPtiSfFH8/k6OT5eec7+en33u/9wrj8ZjlWaFQKJfLe3t7p90QAID/85/TbgAAwIsJ4RUAIBUIrwAAqUB4BQBIBcIrAEAqEF4BAFKB8AoAkAqEVwCAVCC8AgCkAuEVACAVCK8AAKlAeAUASAXCKwBAKhBeAQBSgfAKAJAKhFcAgFQgvM5i27au64IgFAqFQqGgaZpt24FzXNet1Wp0jiAItVrtVJoKAFmD8DqVaZpbW1u2bdu2PR6P+/3+4eGhpmmO43jnuK6raVqn06FzDMNoNpu6rp9iswEgIxBeJ7Nte2dnRxRFy7IkSWKMdTodxthoNLIsyzut0Wj0ej3TNOkcXder1Wqr1TIM47RaDgAZgfA6Gd3j1+t1QRDoiPdAURR64DhOs9mUZVnTNO+J5XKZMba7u7vU5gJA9iC8TmDb9uHhIWPMf5uv63q32+33+154pRhK/VYP/XQwGISztACwUnIZXtOOXO12mzGmqmrguKIo/mBKzQiEV8aYKIreRQBgZSUTXh3HqdVqrusmcrVpTNNUFKVQKGxtbRUKBUmSKB+aOIqblA0wDEPTNE3TdF33Z10ZY9TDDaOA6x8BA4AVlEB4tW1bUZRms+lPQSbLtm1JknZ2dnq9nndwMBhQonMiTdMKM81oLcVNSZIURWm323S/32q1isWiaZoR25z2lw0AZNyZmM+3bVvTtNFoxBjr9Xq1Wi3xQXP/S0TnZUgXPqHZbFYqFS+eGoZRr9d3dnYkSUrviwQAXhzjGIbDIeUZ/fr9fpxrBvT7fc757LfQ6/USfMXxeEyX5ZwHjtObrVQq/tOq1WrgNEraqqqabKsAIF9iJQd0XR8MBoGDjUYjzjXDV5vdb+WcX716NcFX9IS7t4GkqizLE59IJ5zYOwaAF9viyQHLsvb398PHW61WvV4Pj6cv/CqzTyiVShOPm6bZ7/dnPHFzc3NaeZWqqtOGrfwURen1euEhLPrK2dzcPPEKAPAiW7jfG5635PFun+Ob3XjO+bRcxIzmkRk379QBD59A3VUvG0BTr2RZ9p8zHA7p+sPhMN5bB4B8K4xPCmET2ba9tbUVOFitVnd2djY3NznnjuN4ZU5xSJIUzj8Qzrlpmmn0Xl3XlSRpNBr1+32vG+44DnVI/QepA+s/Yprmzs5OtVpFXSzAqlssKgcSrJzzg4MD+hF1G3d3dxMJ/9Mm54ui2O12E3mJiagia3t72zuyvb3NQgNZ3W6Xc+6dRv+UZRldVwBYMLz6b7055/5IV61WA4Eppna77Z+fIMtyUrH7xNflnIuiqKqqKIqc80ajET6t2+2Kokincc5VVUVsBYDxwskBQRC8Af12u+2/Q6/Vas1mk/rFC1x5BqpfSPaaJ/LG1hRFmZHuoNMEQcCEAQAgC84c8GLr9vb2tOynZVnJTr8/lcgV8S2g0AAAAuIWxc4YwMGSUQCwymKFV1VVZ8xv9aYoAQCsoFjhtVgshg960+zRewWAVRYrvE5MhiKqAgCwxMOrbdvTqgAAAFZKrPAanqjkrwLAFCUAWGVnGGOdTqfb7c71tI2NjaOjo08++eTs2bP+419++aX3+JdffqENAQEAVsfW1tbz6arjf+usAAAgvo2NDaraWrAoliKyvzh1OBz6170OrCOVlInfBAku0AW5Rp+H8ALnAPEdHBzQB8xbX2U8pTDVW2xvwdwrLZflX5IqsO71jF2w4ghvYCXLcvT9rwAAlmbB8Eo1oN5GrZZl0ToDhHM+ba2/mAJrV8uyfOJ62wAAp2LB8CoIgizLg8HAcRzXdQPLDui6nshir2H+SbWc806nIwjCtEUPAOBEnU4npQ3tE5SLRoYtPjHL68CWSiV/WkAUxZRWkrZt23shzrllWZIkmaY5cU8aAIii3W6Xy+WMVwPlopFhi4dXyq7W6/XAtlTpZUL9eQDTNBVFcV0Xc78A4jBNUxRFTdPCu8ZlRy4aGbZ4eFUUJbwLd7VaTW9pPq9mYXd3t1QqOY6jadrsfWQBYDZBEDqdzmg0KpVK4aHjjMhFI8MWD6+WZQXqX2VZTm+DKdu2e70eY6xareq6Tr1XOgIAcSiKUq1We71eSiPSichFIwPOMMZc1503qXH37t3AXfm5c+c+/fTT9Mbxv/jiC8bY9evXi8WiZVk7Ozv+n2L+AHju3buHz8O8XnnlFcbY/v7+jRs3bt68edrNmex0G+l15k7s1T19+vT5o/G/m/QBAEB8r776KpUVFMbjseM40RPGx8fHtVrtt99+8x8sl8uVSiWFdj5XrVYfPXpkGMb58+fpSGCpWa+gYnV8+OGHjx49inhy2r+gjKBPxYv6Zlutljf8cO7cuWvXrt24cePKlSuJXHxvb++rr77y/mkYhizLiVw5QafbyF6vR7fs/teduOb1+++//8MPPzA2/0bcEz+4Ce4LG1atVjnn/X7ffzDQgPRePbPm+mSsSJ3oi/1mwxXhL730kiAIuq7H35Q+MEzNOc/ghsen28jUi2INw2i1Wv4jlUqFc57ezFPbtk3TpCmuKb0EQE49e/bMdV3TNN977721tbWPPvposbn3uq4HhqlHo1H4jtZxnFNMakdsZKbMsVOsZVn1et1/hKYKuK67v79P9QVJN49pmiZJUrvd9q8kG+aNs62vr2MmLKyaZ8+ePXv2bG9vb29vb1qXaiIquQxMXWeMbW9vB9ZrNk2TxpNFUbRtO6WyzJiNzJqovddw5SvVTQmCQNmHeVeMjYjqa+2QwGne8ZSaAauDalVyNLlyYa7rapo2MWyFi4O8XstgMGg0GstoH2NszkZmTdTeq67r/gn8XmxlvurYNCa9TrtmoVAInJbx7zHIi0ajQesTpTeJO47r16//9NNPf//9d/xLaZoWnmNUqVQyFbZy0chpIoVXy7IC2VV/OJMkSZblXq/nOM5yMqThBJNt26sWXhuNRvStzieOb0Ie3bx5U9M027a//fbbr7/++o8//ljsOpZlhcPW7u7utEn7hmF4yYFAkjA98zYyc6IMmQVmP4SXrw6vrp0qVVUD70IUxQwOdMKS0Ych5swB+jBncPoBNcw/bD0ej/v9/meffXbp0qW5/qLpiYE/ohPn//T7/cCrp22BRqYnlZkDpmn6v0AmLohFq2svIe9p2/bEJPdgMKCv9LQbAJApkiR9/vnnR0dHFGffeeed6E/c3d31HzlxCXxJktJbUWTaK87byEwpjMfjWq02IzD1ej1/mv/q1avr6+v+E/7888/79+/7zxEE4cKFC6+99tra2lqCbb1z586DBw/Onj27tra2trb28ssvez96+PDh48ePnzx5QgvRJviikCP0vbuxsXH58uWFL/L7778fHR3FvEgaqGHhP8D416TH165d8/9NZUdGGjkcDn/++Wf2/zEw3NVjjG1sbNy7d49R7nVzc3NaeH38+LE/bl68eNH/q3348OGdO3eePHkSeJbruq7rHh0dXbx48fLly0n9d7z11lv3799/8ODB+fPnL1y4wBj7559/jo+PHz58+OabbyYbygFWweXLlx8/fvzgwQPG2NOnT7MZXnPRSL//xaLZ6YbADAx/6VSg0z4N5zx+SYkHWxnCDPR5WKnca3zD4ZBu+JY2drKALDQy+dyrP7VcqVS8iQG2bQfWrJpmNBolmBXFVoYAyRIEwbIsznmWZ/vmopFhJ4RXf82ZP56GC7TCS2t7ElwEF1sZAiTCNE1N0zRNK5VKpmnSePWSR65OlItGzjK7P8w5p9NEUfQO+utTOefVapWSBnTyeDzudrvhlV8Sudvy2kMvTa97inM1IFMS+aStSHJgWkDIVKotU41MPjngVWr5vzG8l6HaLcMwKGlAE/sty1IUxTTNg4MDfzQ0TTNmBxZbGQKkrdVqZbNczS8XjWQnJge8W/7NzU3voHeHHihFpcdemlXTNEqX0D9Ho1HMrXSxlSFAUrzaHM55o9E4ODhot9u0+Ge9Xs/Irte5aOQMJ4RXbyzLH0ZpqhfnPFCaRsUF/tEwRVH8XzIx6w6wlSFAUrw6aV3Xa7Ua5TcNw3AcR1XVjAwf5aKRM0QNr370lRKu8acjgdEnXde9LnCcxRmxlSFAgnRdpzvLwHoUNEafkaL+XDRyhjOMMdu2p62mevfuXXrQarW8lOtff/3FGOt2uxNvzA8PDwPHL126ROvghn8U3XfffccYe/vttxljtVqN1jTyIEUAnlu3bsX5PNy6dSv+RdJADfP/JcZ05cqV27dvJ3jBNGSnkVSIxSL8Co6Pj58/GmMrQwCA5HhbGZ68vg4VSwRmQtD9fnhGFM0dabfbEyc0ePMV5qWqqizL/jWxAu9nscvCC4Y+DJiYFV2j0Vj4r3JpMtLIVFbMomqCwCAdFUrt7+8H0h+0IsG0IazFVoOlFWc6nc4y958AWAWUAMl4bU4uGjnRyeGVxqZGo5E/FaVpGq050Gq1/BVZNLoVGNHzpmotsKgztjIESFWn08n+H1cuGhkWabcC0zSLxaJpmuVy2ZswQLtg6bq+v79fLpepTJb+CwIzBGjcTBTFBfY6xFaGAKkSBCH794W5aGRYpPCqaVq1Wm02m6VSyb9JZKlUouVavJouCq/+BVw6nQ5Nn1qsykLX9Yl7FwZ4J+TxdwAAL6SoWxkahkH73iiK0ul0vD6sIAiBFRZo3y16bNs2JWcrlcpi23RjK0MAyKmoG3EzxizLUlV1MBhsbW3NWBaM+o+WZVmWRVVVia8ZOHErwwSvDwAQ3xzhlSolaHZIs9mUJKlWq1mWFYizlB/Qdb1YLI5Go0qlknjsC6/k3Wg0sl8hBwArZY7wSgzD6Ha7qqqORqNms1ksFtfX1ws+rVaLMTYYDGRZPjg4SLbfiq0MASA3xqjaAgBIzhtvvEFlBWcYY/V6PcE5Zffu3Wu32+++++4HH3yQ1DUBlubWrVu3b98+xQ/wkydPfvzxx9u3b0/8ablcfv3115fbIpjP/3YLT6l0LIM1hQBRnG5RbLfbnbGvEmPsm2++OZWGwQLmzr0CQEpoCjktLzfN999/v7T2QExzhFfHcahSq1Ao0OzX9JoFsGpc142yPDwt6wG5ELWsgL5Xvd99r9crl8vtdnuxYgGAjHBdt9PpdLtdquRWFOW09r9oNBpRXtq/LRNkXNTwWiqVwr/7Wq0WDq+Yfwq54Lpuo9EIrMsenvO3NFFuBznn6NDkSKTkgGVZE/NBg8EgvEpYzA21AJbAtm1FUQKx1W/5fdjZKVdC2bklNAYSEbX3Gh31XmlbQ4AMCmS6Jvr111+X1ZznOOezm1SpVHKx+zR44obX8EIqdI+DBVYgU7zbrOPj448//vjRo0ezz6cScMZYYMWi9JRKJap4nKhSqSRbAAnLEGX21nA4nPjc8NxAWg0gCzs3AHhoKutiwjsepWQ4HNLGSwGiKAZ2V4K8iNR7FQRhe3t7f3/fO8I513U9cKtCYwXs3/1jADIiF8OtgiDQpkcHBwfeNIZisbi07jMkrjCeshtXgG3blE5VVbVer0/8leu63mq1VFXN46448GLzPpNRdiQql8uVSoUeK4qC0SRYUPSOLvVMGWOVSsW/aet4PO73+7QuTGA/V4Cs4ZzP/osIbIoMsLCovVdiGEa9Xmf/zr+jb3XHcShvIMtyTnccg9VB91jTfooRJEjQfOGVMWZZVqPRCMy+plRsvV7HbRRkHNWeevsVeURRNAwDk/YhQXOHV+I4jm3b3W53fX1dURRk3yFfMIIES/Bfi8K40FLU6oYAAAAASUVORK5CYII=\"/>"
      ],
      "text/plain": [
       "Chain([4C:1♩:offset=4, 4D:0.5♩:offset=5])"
      ]
     },
     "execution_count": 4,
     "metadata": {},
     "output_type": "execute_result"
    }
   ],
   "source": [
    "events = [ev.clone(offset=offset) for ev, offset in ch.eventsWithOffset(4, 6)]\n",
    "Chain(events)\n"
   ]
  },
  {
   "cell_type": "code",
   "execution_count": 1,
   "id": "464259a4-d3fd-4582-a743-cfb8dfcf14ea",
   "metadata": {},
   "outputs": [
    {
     "data": {
      "text/html": [
       "<code><span style=\"font-size: 85%\"><b>Chain</b> - beat: 0, offset: None, dur: 4.5</span></code><br><code><span style=\"color:#BBBBBB;font-size:85%\">  location  beat   offset      dur         name      gliss dyn  playargs            info                </span></code><br><code><span style=\"color:#9090FF;font-size:85%\">  0:2       2      2           1           4C        F          None                -</span></code><br><code><span style=\"color:#9090FF;font-size:85%\">  0:3       3      (3)         1.5         4D        F          None                -</span></code>"
      ],
      "text/plain": [
       "<IPython.core.display.HTML object>"
      ]
     },
     "metadata": {},
     "output_type": "display_data"
    },
    {
     "data": {
      "image/png": "[encoded data removed]",
      "text/plain": [
       "<IPython.core.display.Image object>"
      ]
     },
     "metadata": {
      "image/png": {
       "width": 333
      }
     },
     "output_type": "display_data"
    },
    {
     "name": "stdout",
     "output_type": "stream",
     "text": [
      "start=2, end=4\n"
     ]
    },
    {
     "data": {
      "text/html": [
       "<code><span style=\"font-size: 85%\"><b>Chain</b> - beat: 2, offset: 2, dur: 2</span></code><br><code><span style=\"color:#BBBBBB;font-size:85%\">  location  beat   offset      dur         name      gliss dyn  playargs            info                </span></code><br><code><span style=\"color:#9090FF;font-size:85%\">  0:2       2      (0)         1           4C        F          None                -</span></code><br><code><span style=\"color:#9090FF;font-size:85%\">  0:3       3      (1)         1           4D        F          None                -</span></code>"
      ],
      "text/plain": [
       "<IPython.core.display.HTML object>"
      ]
     },
     "metadata": {},
     "output_type": "display_data"
    },
    {
     "data": {
      "image/png": "[encoded data removed]",
      "text/plain": [
       "<IPython.core.display.Image object>"
      ]
     },
     "metadata": {
      "image/png": {
       "width": 206.25
      }
     },
     "output_type": "display_data"
    },
    {
     "name": "stdout",
     "output_type": "stream",
     "text": [
      "start=3, end=4\n"
     ]
    },
    {
     "data": {
      "text/html": [
       "<code><span style=\"font-size: 85%\"><b>Chain</b> - beat: 3, offset: 3, dur: 1</span></code><br><code><span style=\"color:#BBBBBB;font-size:85%\">  location  beat   offset      dur         name      gliss dyn  playargs            info                </span></code><br><code><span style=\"color:#9090FF;font-size:85%\">  0:3       3      (0)         1           4D        F          None                -</span></code>"
      ],
      "text/plain": [
       "<IPython.core.display.HTML object>"
      ]
     },
     "metadata": {},
     "output_type": "display_data"
    },
    {
     "data": {
      "image/png": "[encoded data removed]",
      "text/plain": [
       "<IPython.core.display.Image object>"
      ]
     },
     "metadata": {
      "image/png": {
       "width": 201.75
      }
     },
     "output_type": "display_data"
    },
    {
     "name": "stdout",
     "output_type": "stream",
     "text": [
      "start=3.5, end=8\n"
     ]
    },
    {
     "data": {
      "text/html": [
       "<code><span style=\"font-size: 85%\"><b>Chain</b> - beat: 3.5, offset: 3.5, dur: 1</span></code><br><code><span style=\"color:#BBBBBB;font-size:85%\">  location  beat   offset      dur         name      gliss dyn  playargs            info                </span></code><br><code><span style=\"color:#9090FF;font-size:85%\">  0:3.5     3.5    (0)         1           4D        F          None                -</span></code>"
      ],
      "text/plain": [
       "<IPython.core.display.HTML object>"
      ]
     },
     "metadata": {},
     "output_type": "display_data"
    },
    {
     "data": {
      "image/png": "[encoded data removed]",
      "text/plain": [
       "<IPython.core.display.Image object>"
      ]
     },
     "metadata": {
      "image/png": {
       "width": 324.75
      }
     },
     "output_type": "display_data"
    },
    {
     "name": "stdout",
     "output_type": "stream",
     "text": [
      "start=6, end=8\n"
     ]
    }
   ],
   "source": [
    "from maelzel.core import *\n",
    "\n",
    "ch = Chain([\n",
    "    \"4C:1:offset=2\",\n",
    "    \"4D:1.5\",\n",
    "])\n",
    "ch.dump()\n",
    "ch.show()\n",
    "for start, end in [(2, 4), (3, 4), (3.5, 8), (6, 8)]:\n",
    "    print(f\"{start=}, {end=}\")    \n",
    "    ch2 = ch.cropped(start, end)\n",
    "    if ch2 is not None:\n",
    "        ch2.dump()\n",
    "        ch2.show()\n"
   ]
  },
  {
   "cell_type": "code",
   "execution_count": 2,
   "id": "280005da-d08d-44e4-95ae-70e5303fb397",
   "metadata": {},
   "outputs": [
    {
     "data": {
      "text/html": [
       "<code><span style=\"font-size: 85%\"><b>Chain</b> - beat: 0, offset: None, dur: 7.5</span></code><br><code><span style=\"color:#BBBBBB;font-size:85%\">  location  beat   offset      dur         name      gliss dyn  playargs            info                </span></code><br><code><span style=\"color:#9090FF;font-size:85%\">  0:2       2      2           1           4C        F          None                -</span></code><br><code><span style=\"color:#9090FF;font-size:85%\">  0:3       3      (3)         2           4D        F          None                -</span></code><br><code><span style=\"font-size: 85%\">  <b>Chain</b> - beat: 5, offset: None, dur: 2.5</span></code><br><code><span style=\"color:#BBBBBB;font-size:85%\">    location  beat   offset      dur         name      gliss dyn  playargs            info                </span></code><br><code><span style=\"color:#9090FF;font-size:85%\">    1:1       5      (0)         1           4E        F          None                -</span></code><br><code><span style=\"color:#9090FF;font-size:85%\">    1:2       6      (1)         1.5         4F        F          None                -</span></code>"
      ],
      "text/plain": [
       "<IPython.core.display.HTML object>"
      ]
     },
     "metadata": {},
     "output_type": "display_data"
    },
    {
     "data": {
      "image/png": "[encoded data removed]",
      "text/plain": [
       "<IPython.core.display.Image object>"
      ]
     },
     "metadata": {
      "image/png": {
       "width": 360.75
      }
     },
     "output_type": "display_data"
    },
    {
     "name": "stdout",
     "output_type": "stream",
     "text": [
      "start=1, end=4\n"
     ]
    },
    {
     "data": {
      "text/html": [
       "<code><span style=\"font-size: 85%\"><b>Chain</b> - beat: 1, offset: 1, dur: 3</span></code><br><code><span style=\"color:#BBBBBB;font-size:85%\">  location  beat   offset      dur         name      gliss dyn  playargs            info                </span></code><br><code><span style=\"color:#9090FF;font-size:85%\">  0:2       2      1           1           4C        F          None                -</span></code><br><code><span style=\"color:#9090FF;font-size:85%\">  0:3       3      (2)         1           4D        F          None                -</span></code>"
      ],
      "text/plain": [
       "<IPython.core.display.HTML object>"
      ]
     },
     "metadata": {},
     "output_type": "display_data"
    },
    {
     "data": {
      "image/png": "[encoded data removed]",
      "text/plain": [
       "<IPython.core.display.Image object>"
      ]
     },
     "metadata": {
      "image/png": {
       "width": 206.25
      }
     },
     "output_type": "display_data"
    },
    {
     "name": "stdout",
     "output_type": "stream",
     "text": [
      "start=3, end=4\n"
     ]
    },
    {
     "data": {
      "text/html": [
       "<code><span style=\"font-size: 85%\"><b>Chain</b> - beat: 3, offset: 3, dur: 1</span></code><br><code><span style=\"color:#BBBBBB;font-size:85%\">  location  beat   offset      dur         name      gliss dyn  playargs            info                </span></code><br><code><span style=\"color:#9090FF;font-size:85%\">  0:3       3      (0)         1           4D        F          None                -</span></code>"
      ],
      "text/plain": [
       "<IPython.core.display.HTML object>"
      ]
     },
     "metadata": {},
     "output_type": "display_data"
    },
    {
     "data": {
      "image/png": "[encoded data removed]",
      "text/plain": [
       "<IPython.core.display.Image object>"
      ]
     },
     "metadata": {
      "image/png": {
       "width": 201.75
      }
     },
     "output_type": "display_data"
    },
    {
     "name": "stdout",
     "output_type": "stream",
     "text": [
      "start=3.5, end=8\n"
     ]
    },
    {
     "data": {
      "text/html": [
       "<code><span style=\"font-size: 85%\"><b>Chain</b> - beat: 3.5, offset: 3.5, dur: 4</span></code><br><code><span style=\"color:#BBBBBB;font-size:85%\">  location  beat   offset      dur         name      gliss dyn  playargs            info                </span></code><br><code><span style=\"color:#9090FF;font-size:85%\">  0:3.5     3.5    (0)         1.5         4D        F          None                -</span></code><br><code><span style=\"font-size: 85%\">  <b>Chain</b> - beat: 5, offset: None, dur: 2.5</span></code><br><code><span style=\"color:#BBBBBB;font-size:85%\">    location  beat   offset      dur         name      gliss dyn  playargs            info                </span></code><br><code><span style=\"color:#9090FF;font-size:85%\">    1:1       5      (0)         1           4E        F          None                -</span></code><br><code><span style=\"color:#9090FF;font-size:85%\">    1:2       6      (1)         1.5         4F        F          None                -</span></code>"
      ],
      "text/plain": [
       "<IPython.core.display.HTML object>"
      ]
     },
     "metadata": {},
     "output_type": "display_data"
    },
    {
     "data": {
      "image/png": "[encoded data removed]",
      "text/plain": [
       "<IPython.core.display.Image object>"
      ]
     },
     "metadata": {
      "image/png": {
       "width": 351.75
      }
     },
     "output_type": "display_data"
    },
    {
     "name": "stdout",
     "output_type": "stream",
     "text": [
      "start=4.25, end=7\n"
     ]
    },
    {
     "data": {
      "text/html": [
       "<code><span style=\"font-size: 85%\"><b>Chain</b> - beat: 4.25, offset: 4.25, dur: 2.75</span></code><br><code><span style=\"color:#BBBBBB;font-size:85%\">  location  beat   offset      dur         name      gliss dyn  playargs            info                </span></code><br><code><span style=\"color:#9090FF;font-size:85%\">  1:0.25    4.25   (0)         0.75        4D        F          None                -</span></code><br><code><span style=\"font-size: 85%\">  <b>Chain</b> - beat: 5, offset: None, dur: 2</span></code><br><code><span style=\"color:#BBBBBB;font-size:85%\">    location  beat   offset      dur         name      gliss dyn  playargs            info                </span></code><br><code><span style=\"color:#9090FF;font-size:85%\">    1:1       5      (0)         1           4E        F          None                -</span></code><br><code><span style=\"color:#9090FF;font-size:85%\">    1:2       6      (1)         1           4F        F          None                -</span></code>"
      ],
      "text/plain": [
       "<IPython.core.display.HTML object>"
      ]
     },
     "metadata": {},
     "output_type": "display_data"
    },
    {
     "data": {
      "image/png": "[encoded data removed]",
      "text/plain": [
       "<IPython.core.display.Image object>"
      ]
     },
     "metadata": {
      "image/png": {
       "width": 362.25
      }
     },
     "output_type": "display_data"
    }
   ],
   "source": [
    "from maelzel.core import *\n",
    "\n",
    "ch = Chain([\n",
    "    \"4C:1:offset=2\",\n",
    "    \"4D:2\",\n",
    "    Chain([\n",
    "        \"4E:1\",\n",
    "        \"4F:1.5\"\n",
    "    ])\n",
    "])\n",
    "ch.dump()\n",
    "ch.show()\n",
    "for start, end in [(1, 4), (3, 4), (3.5, 8), (4.25, 7)]:\n",
    "    print(f\"{start=}, {end=}\")    \n",
    "    ch2 = ch.cropped(start, end)\n",
    "    if ch2 is not None:\n",
    "        ch2.dump()\n",
    "        ch2.show()\n"
   ]
  },
  {
   "cell_type": "code",
   "execution_count": 3,
   "id": "4d12943b-e0ba-41cf-99e1-712599cb3f1e",
   "metadata": {},
   "outputs": [
    {
     "data": {
      "text/html": [
       "<code><span style=\"font-size: 85%\"><b>Voice</b> - beat: 0, offset: None, dur: 7.5</span></code><br><code><span style=\"color:#BBBBBB;font-size:85%\">  location  beat   offset      dur         name      gliss dyn  playargs            info                </span></code><br><code><span style=\"color:#9090FF;font-size:85%\">  1:0.25    4.25   4.25        0.75        4D        F          None                -</span></code><br><code><span style=\"color:#9090FF;font-size:85%\">  1:1       5      (5)         1           4E        F          None                -</span></code><br><code><span style=\"color:#9090FF;font-size:85%\">  1:2       6      (6)         1.5         4F        F          None                -</span></code>"
      ],
      "text/plain": [
       "<IPython.core.display.HTML object>"
      ]
     },
     "metadata": {},
     "output_type": "display_data"
    },
    {
     "data": {
      "image/png": "[encoded data removed]",
      "text/plain": [
       "<IPython.core.display.Image object>"
      ]
     },
     "metadata": {
      "image/png": {
       "width": 360.75
      }
     },
     "output_type": "display_data"
    }
   ],
   "source": [
    "from maelzel.core import *\n",
    "ch = Chain([\n",
    "    \"4C:1:offset=2\",\n",
    "    \"4D:2\",\n",
    "    Chain([\n",
    "        \"4E\",\n",
    "        \"4F:1.5\"\n",
    "    ])\n",
    "])\n",
    "ch2 = ch.cropped(4.25, 8)\n",
    "v = ch2.flat().asVoice()\n",
    "v.dump()\n",
    "v.show()"
   ]
  },
  {
   "cell_type": "code",
   "execution_count": 4,
   "id": "aee750ef-79a4-4bab-91ef-a16c96b7a7fe",
   "metadata": {},
   "outputs": [
    {
     "name": "stdout",
     "output_type": "stream",
     "text": [
      "93 μs ± 700 ns per loop (mean ± std. dev. of 7 runs, 10,000 loops each)\n"
     ]
    }
   ],
   "source": [
    "%timeit ch2.flat().asVoice()"
   ]
  },
  {
   "cell_type": "code",
   "execution_count": 5,
   "id": "0b4f05ca-d2a0-4044-bcf8-032e132bdcf2",
   "metadata": {},
   "outputs": [
    {
     "name": "stdout",
     "output_type": "stream",
     "text": [
      " "
     ]
    },
    {
     "data": {
      "text/plain": [
       "         285037 function calls (284003 primitive calls) in 0.333 seconds\n",
       "\n",
       "   Ordered by: internal time\n",
       "\n",
       "   ncalls  tottime  percall  cumtime  percall filename:lineno(function)\n",
       "59182/59153    0.030    0.000    0.061    0.000 {built-in method builtins.isinstance}\n",
       "        2    0.022    0.011    0.037    0.018 zmqstream.py:546(_run_callback)\n",
       "     6000    0.021    0.000    0.053    0.000 event.py:119(__init__)\n",
       "     3000    0.020    0.000    0.039    0.000 chain.py:40(_stackEvents)\n",
       "     2000    0.018    0.000    0.042    0.000 chain.py:135(__init__)\n",
       "     1000    0.016    0.000    0.225    0.000 chain.py:961(asVoice)\n",
       "     3000    0.016    0.000    0.037    0.000 chain.py:2419(_resolveGlissandi)\n",
       "    30000    0.015    0.000    0.030    0.000 <frozen abc>:117(__instancecheck__)\n",
       "     8000    0.015    0.000    0.015    0.000 mobj.py:127(__init__)\n",
       "    30000    0.015    0.000    0.015    0.000 {built-in method _abc._abc_instancecheck}\n",
       "     3000    0.015    0.000    0.049    0.000 event.py:366(clone)\n",
       "     1000    0.015    0.000    0.119    0.000 chain.py:441(flat)\n",
       "     1000    0.012    0.000    0.019    0.000 chain.py:75(_removeRedundantOffsets)\n",
       "     6000    0.012    0.000    0.024    0.000 eventbase.py:37(__init__)\n",
       "     3000    0.011    0.000    0.040    0.000 event.py:356(copy)\n",
       "     7000    0.007    0.000    0.007    0.000 mobj.py:205(_copyAttributesTo)\n",
       "    29000    0.006    0.000    0.006    0.000 mobj.py:177(dur)\n",
       "     4000    0.005    0.000    0.064    0.000 chain.py:746(_update)\n",
       "     9000    0.005    0.000    0.007    0.000 common.py:46(asF)\n",
       "     8000    0.004    0.000    0.014    0.000 chain.py:1273(recurse)\n",
       "     1000    0.004    0.000    0.031    0.000 chain.py:2101(__init__)\n",
       "    12000    0.004    0.000    0.004    0.000 event.py:429(isRest)\n",
       "     1000    0.004    0.000    0.056    0.000 chain.py:943(removeRedundantOffsets)\n",
       "     1000    0.003    0.000    0.013    0.000 chain.py:1029(_flatPostSymbols)\n",
       "     1000    0.003    0.000    0.024    0.000 chain.py:222(clone)\n",
       "     2000    0.003    0.000    0.007    0.000 mobj.py:1875(__init__)\n",
       "2000/1000    0.003    0.000    0.009    0.000 chain.py:1022(_collectSubLabels)\n",
       "    12000    0.003    0.000    0.003    0.000 event.py:330(gliss)\n",
       "     2000    0.003    0.000    0.033    0.000 chain.py:557(_resolveGlissandi)\n",
       "        1    0.002    0.002    0.311    0.311 <string>:1(<module>)\n",
       "     3000    0.002    0.000    0.005    0.000 chain.py:466(<genexpr>)\n",
       "     6000    0.002    0.000    0.002    0.000 mobj.py:187(parent)\n",
       "     6000    0.002    0.000    0.002    0.000 mobj.py:197(parent)\n",
       "     1000    0.001    0.000    0.003    0.000 mobj.py:1944(_copyAttributesTo)\n",
       "     3001    0.001    0.000    0.001    0.000 {method 'append' of 'list' objects}\n",
       "     1000    0.001    0.000    0.002    0.000 mobj.py:1992(getConfig)\n",
       "     6014    0.001    0.000    0.001    0.000 typing.py:2182(cast)\n",
       "     1000    0.001    0.000    0.002    0.000 mobj.py:401(absOffset)\n",
       "     1000    0.001    0.000    0.006    0.000 {built-in method builtins.all}\n",
       "     1000    0.001    0.000    0.001    0.000 chain.py:1306(eventsWithOffset)\n",
       "     1000    0.001    0.000    0.001    0.000 chain.py:755(_changed)\n",
       "     3000    0.001    0.000    0.001    0.000 mobj.py:337(_detachedOffset)\n",
       "     1000    0.001    0.000    0.001    0.000 {method 'sort' of 'list' objects}\n",
       "       50    0.001    0.000    0.001    0.000 ipkernel.py:775(_clean_thread_parent_frames)\n",
       "     2000    0.000    0.000    0.000    0.000 workspace.py:124(config)\n",
       "     1000    0.000    0.000    0.000    0.000 mobj.py:374(relOffset)\n",
       "       14    0.000    0.000    0.000    0.000 socket.py:635(send)\n",
       "      4/2    0.000    0.000    0.005    0.003 events.py:86(_run)\n",
       "        1    0.000    0.000    0.311    0.311 {built-in method builtins.exec}\n",
       "       25    0.000    0.000    0.000    0.000 threading.py:1535(enumerate)\n",
       "        3    0.000    0.000    0.043    0.014 base_events.py:1909(_run_once)\n",
       "      200    0.000    0.000    0.000    0.000 threading.py:1198(ident)\n",
       "        2    0.000    0.000    0.015    0.008 iostream.py:157(_handle_event)\n",
       "       60    0.000    0.000    0.000    0.000 enum.py:1544(_get_value)\n",
       "       14    0.000    0.000    0.000    0.000 enum.py:1551(__or__)\n",
       "        1    0.000    0.000    0.000    0.000 {method 'disable' of '_lsprof.Profiler' objects}\n",
       "        4    0.000    0.000    0.000    0.000 attrsettr.py:66(_get_attr_opt)\n",
       "        2    0.000    0.000    0.000    0.000 socket.py:783(recv_multipart)\n",
       "       26    0.000    0.000    0.000    0.000 enum.py:726(__call__)\n",
       "        6    0.000    0.000    0.000    0.000 enum.py:1562(__and__)\n",
       "      100    0.000    0.000    0.000    0.000 {method 'keys' of 'dict' objects}\n",
       "        4    0.000    0.000    0.000    0.000 attrsettr.py:43(__getattr__)\n",
       "        1    0.000    0.000    0.005    0.005 futures.py:398(_call_set_state)\n",
       "       26    0.000    0.000    0.000    0.000 enum.py:1129(__new__)\n",
       "        1    0.000    0.000    0.000    0.000 {method 'send' of '_socket.socket' objects}\n",
       "       50    0.000    0.000    0.000    0.000 {method 'values' of 'dict' objects}\n",
       "        6    0.000    0.000    0.000    0.000 typing.py:392(inner)\n",
       "        2    0.000    0.000    0.037    0.019 zmqstream.py:614(_handle_recv)\n",
       "        1    0.000    0.000    0.000    0.000 {method 'recv' of '_socket.socket' objects}\n",
       "        2    0.000    0.000    0.037    0.019 zmqstream.py:573(_handle_events)\n",
       "        1    0.000    0.000    0.000    0.000 threading.py:302(__exit__)\n",
       "       26    0.000    0.000    0.000    0.000 {method '__exit__' of '_thread.RLock' objects}\n",
       "        2    0.000    0.000    0.000    0.000 iostream.py:276(<lambda>)\n",
       "        2    0.000    0.000    0.000    0.000 {method '__exit__' of 'sqlite3.Connection' objects}\n",
       "        1    0.000    0.000    0.005    0.005 _base.py:537(set_result)\n",
       "        1    0.000    0.000    0.000    0.000 traitlets.py:1527(_notify_observers)\n",
       "      3/2    0.000    0.000    0.037    0.019 {method 'run' of '_contextvars.Context' objects}\n",
       "        1    0.000    0.000    0.000    0.000 base_events.py:1894(_add_callback)\n",
       "        1    0.000    0.000    0.000    0.000 queues.py:225(get)\n",
       "      2/1    0.000    0.000    0.000    0.000 selectors.py:451(select)\n",
       "      2/1    0.000    0.000    0.000    0.000 {method 'poll' of 'select.epoll' objects}\n",
       "        2    0.000    0.000    0.000    0.000 traitlets.py:718(_validate)\n",
       "        1    0.000    0.000    0.005    0.005 _base.py:337(_invoke_callbacks)\n",
       "        1    0.000    0.000    0.005    0.005 kernelbase.py:302(poll_control_queue)\n",
       "        2    0.000    0.000    0.000    0.000 iostream.py:213(_is_master_process)\n",
       "        4    0.000    0.000    0.000    0.000 typing.py:1285(__hash__)\n",
       "        1    0.000    0.000    0.000    0.000 base_events.py:838(call_soon_threadsafe)\n",
       "        4    0.000    0.000    0.000    0.000 <frozen importlib._bootstrap>:1390(_handle_fromlist)\n",
       "        2    0.000    0.000    0.000    0.000 iostream.py:278(_really_send)\n",
       "        2    0.000    0.000    0.000    0.000 traitlets.py:3474(validate)\n",
       "        4    0.000    0.000    0.000    0.000 base_events.py:734(time)\n",
       "        2    0.000    0.000    0.000    0.000 traitlets.py:3631(set)\n",
       "        2    0.000    0.000    0.000    0.000 zmqstream.py:653(_rebuild_io_state)\n",
       "        2    0.000    0.000    0.000    0.000 traitlets.py:689(set)\n",
       "        2    0.000    0.000    0.000    0.000 traitlets.py:3624(validate_elements)\n",
       "        9    0.000    0.000    0.000    0.000 {built-in method builtins.hasattr}\n",
       "        2    0.000    0.000    0.000    0.000 base_events.py:814(_call_soon)\n",
       "       19    0.000    0.000    0.000    0.000 {built-in method builtins.len}\n",
       "        2    0.000    0.000    0.000    0.000 threading.py:299(__enter__)\n",
       "        1    0.000    0.000    0.000    0.000 asyncio.py:225(add_callback)\n",
       "        2    0.000    0.000    0.000    0.000 traitlets.py:708(__set__)\n",
       "        3    0.000    0.000    0.000    0.000 selector_events.py:750(_process_events)\n",
       "        2    0.000    0.000    0.000    0.000 zmqstream.py:676(_update_handler)\n",
       "        2    0.000    0.000    0.000    0.000 traitlets.py:727(_cross_validate)\n",
       "        2    0.000    0.000    0.000    0.000 typing.py:1492(__subclasscheck__)\n",
       "        5    0.000    0.000    0.000    0.000 {built-in method builtins.max}\n",
       "        2    0.000    0.000    0.000    0.000 events.py:36(__init__)\n",
       "        2    0.000    0.000    0.000    0.000 {built-in method posix.getpid}\n",
       "        5    0.000    0.000    0.000    0.000 {method 'popleft' of 'collections.deque' objects}\n",
       "        2    0.000    0.000    0.000    0.000 queue.py:97(empty)\n",
       "        2    0.000    0.000    0.000    0.000 iostream.py:216(_check_mp_mode)\n",
       "        1    0.000    0.000    0.000    0.000 queues.py:256(get_nowait)\n",
       "        1    0.000    0.000    0.000    0.000 traitlets.py:1512(_notify_trait)\n",
       "        2    0.000    0.000    0.000    0.000 traitlets.py:2304(validate)\n",
       "        4    0.000    0.000    0.000    0.000 {built-in method builtins.getattr}\n",
       "        1    0.000    0.000    0.000    0.000 contextlib.py:141(__exit__)\n",
       "        2    0.000    0.000    0.000    0.000 typing.py:1221(__instancecheck__)\n",
       "        1    0.000    0.000    0.000    0.000 selector_events.py:141(_write_to_self)\n",
       "        1    0.000    0.000    0.000    0.000 traitlets.py:1523(notify_change)\n",
       "        1    0.000    0.000    0.000    0.000 threading.py:424(notify_all)\n",
       "        2    0.000    0.000    0.000    0.000 socket.py:712(send_multipart)\n",
       "        5    0.000    0.000    0.000    0.000 {method 'append' of 'collections.deque' objects}\n",
       "        4    0.000    0.000    0.000    0.000 {built-in method time.monotonic}\n",
       "        1    0.000    0.000    0.000    0.000 traitlets.py:676(__get__)\n",
       "        1    0.000    0.000    0.037    0.037 asyncio.py:200(_handle_events)\n",
       "        1    0.000    0.000    0.000    0.000 history.py:1016(_writeout_output_cache)\n",
       "        4    0.000    0.000    0.000    0.000 {method 'upper' of 'str' objects}\n",
       "        1    0.000    0.000    0.000    0.000 threading.py:394(notify)\n",
       "        4    0.000    0.000    0.000    0.000 {built-in method builtins.hash}\n",
       "        2    0.000    0.000    0.000    0.000 {built-in method builtins.issubclass}\n",
       "        4    0.000    0.000    0.000    0.000 {method '__exit__' of '_thread.lock' objects}\n",
       "        1    0.000    0.000    0.000    0.000 {built-in method builtins.next}\n",
       "        2    0.000    0.000    0.000    0.000 <frozen abc>:121(__subclasscheck__)\n",
       "        1    0.000    0.000    0.000    0.000 {built-in method math.ceil}\n",
       "        4    0.000    0.000    0.000    0.000 {method 'get' of 'dict' objects}\n",
       "        1    0.000    0.000    0.000    0.000 threading.py:314(_is_owned)\n",
       "        2    0.000    0.000    0.000    0.000 zmqstream.py:532(sending)\n",
       "        2    0.000    0.000    0.000    0.000 traitlets.py:3486(validate_elements)\n",
       "        4    0.000    0.000    0.000    0.000 zmqstream.py:528(receiving)\n",
       "        2    0.000    0.000    0.000    0.000 {built-in method _abc._abc_subclasscheck}\n",
       "        2    0.000    0.000    0.000    0.000 {method 'acquire' of '_thread.lock' objects}\n",
       "        1    0.000    0.000    0.000    0.000 threading.py:308(_release_save)\n",
       "        1    0.000    0.000    0.000    0.000 ioloop.py:742(_run_callback)\n",
       "        1    0.000    0.000    0.000    0.000 base_events.py:785(call_soon)\n",
       "        2    0.000    0.000    0.000    0.000 queue.py:209(_qsize)\n",
       "        1    0.000    0.000    0.000    0.000 selectors.py:275(_key_from_fd)\n",
       "        1    0.000    0.000    0.000    0.000 queues.py:173(qsize)\n",
       "        2    0.000    0.000    0.000    0.000 {built-in method _contextvars.copy_context}\n",
       "        1    0.000    0.000    0.000    0.000 {method '__enter__' of '_thread.RLock' objects}\n",
       "        2    0.000    0.000    0.000    0.000 iostream.py:255(closed)\n",
       "        1    0.000    0.000    0.000    0.000 unix_events.py:81(_process_self_data)\n",
       "        1    0.000    0.000    0.000    0.000 traitlets.py:629(get)\n",
       "        1    0.000    0.000    0.000    0.000 queues.py:322(_consume_expired)\n",
       "        1    0.000    0.000    0.000    0.000 {built-in method _thread.allocate_lock}\n",
       "        2    0.000    0.000    0.000    0.000 {method 'extend' of 'list' objects}\n",
       "        1    0.000    0.000    0.000    0.000 zmqstream.py:684(<lambda>)\n",
       "        1    0.000    0.000    0.000    0.000 {built-in method _asyncio.get_running_loop}\n",
       "        1    0.000    0.000    0.000    0.000 {method '__enter__' of '_thread.lock' objects}\n",
       "        3    0.000    0.000    0.000    0.000 base_events.py:2004(get_debug)\n",
       "        1    0.000    0.000    0.000    0.000 {built-in method builtins.min}\n",
       "        2    0.000    0.000    0.000    0.000 base_events.py:539(_check_closed)\n",
       "        1    0.000    0.000    0.000    0.000 {method 'cancelled' of '_asyncio.Future' objects}\n",
       "        1    0.000    0.000    0.000    0.000 {method '_is_owned' of '_thread.RLock' objects}\n",
       "        1    0.000    0.000    0.000    0.000 {method 'release' of '_thread.lock' objects}\n",
       "        1    0.000    0.000    0.000    0.000 base_events.py:720(is_closed)\n",
       "        1    0.000    0.000    0.000    0.000 history.py:1065(hold)\n",
       "        1    0.000    0.000    0.000    0.000 queues.py:59(_set_timeout)"
      ]
     },
     "metadata": {},
     "output_type": "display_data"
    }
   ],
   "source": [
    "%prun a = [ch2.flat().asVoice() for _ in range(1000)]"
   ]
  },
  {
   "cell_type": "code",
   "execution_count": null,
   "id": "3aa8308c-3ff5-4b43-811e-ed79b45d1159",
   "metadata": {},
   "outputs": [],
   "source": []
  }
 ],
 "metadata": {
  "kernelspec": {
   "display_name": "Python 3 (ipykernel)",
   "language": "python",
   "name": "python3"
  },
  "language_info": {
   "codemirror_mode": {
    "name": "ipython",
    "version": 3
   },
   "file_extension": ".py",
   "mimetype": "text/x-python",
   "name": "python",
   "nbconvert_exporter": "python",
   "pygments_lexer": "ipython3",
   "version": "3.12.7"
  }
 },
 "nbformat": 4,
 "nbformat_minor": 5
}
