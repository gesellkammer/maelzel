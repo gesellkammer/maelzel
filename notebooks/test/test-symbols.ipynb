{
 "cells": [
  {
   "cell_type": "code",
   "execution_count": 1,
   "id": "cc3a7524-7a0b-46af-b6b5-93581e01f8a5",
   "metadata": {},
   "outputs": [],
   "source": [
    "from maelzel.core import *"
   ]
  },
  {
   "cell_type": "code",
   "execution_count": 2,
   "id": "6734860f-4b74-4e1f-b699-24f0a75527ad",
   "metadata": {},
   "outputs": [
    {
     "data": {
      "text/html": [
       "<code style=\"font-size:0.9em\">Chain([<span style=\"color:#6666E0\">4C:gliss=True</span>, <span style=\"color:#6666E0\">4A+</span>, <span style=\"color:#6666E0\">Rest:1♩</span>])</code><br>\n",
       "        <img style=\"display:inline; padding:10px;\n",
       "margin-top:14px;\n",
       "width:130px\"\n",
       "             src=\"data:image/png;base64,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\"/>"
      ],
      "text/plain": [
       "Chain([4C:gliss=True, 4A+, Rest:1♩])"
      ]
     },
     "execution_count": 2,
     "metadata": {},
     "output_type": "execute_result"
    }
   ],
   "source": [
    "n = Note(60, dynamic='ff', gliss=True)\n",
    "m = Note(\"4A+!\", dur=0)\n",
    "o = Rest(1, dynamic='mf')\n",
    "ch = Chain([n, m, o])\n",
    "ch.addSpanner('>')\n",
    "ch"
   ]
  },
  {
   "cell_type": "code",
   "execution_count": 3,
   "id": "955b65f7-a347-460e-9ce5-34794ab96655",
   "metadata": {},
   "outputs": [
    {
     "data": {
      "text/html": [
       "<code style=\"font-size:0.9em\">Chain([<span style=\"color:#6666E0\">4C:1♩</span>, <span style=\"color:#6666E0\">4D:0.5♩</span>, <span style=\"color:#6666E0\">4E</span>])</code><br>\n",
       "        <img style=\"display:inline; padding:10px;\n",
       "margin-top:14px;\n",
       "width:152px\"\n",
       "             src=\"data:image/png;base64,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\"/>"
      ],
      "text/plain": [
       "Chain([4C:1♩, 4D:0.5♩, 4E])"
      ]
     },
     "execution_count": 3,
     "metadata": {},
     "output_type": "execute_result"
    }
   ],
   "source": [
    "chain = Chain([\n",
    "    Note(\"4C\", 1, dynamic='p').addSpanner(\"<\"),\n",
    "    Note(\"4D\", 0.5),\n",
    "    Note(\"4E\", dynamic='f')   # This ends the hairpin spanner\n",
    "])\n",
    "chain"
   ]
  },
  {
   "cell_type": "code",
   "execution_count": 2,
   "id": "c66f31c7-6b86-4697-8022-aaaca029fdd3",
   "metadata": {},
   "outputs": [
    {
     "data": {
      "text/html": [
       "<code style=\"font-size:0.9em\">Chain([<span style=\"color:#6666E0\">4C:1.33♩</span>, <span style=\"color:#6666E0\">4D:0.5♩</span>, <span style=\"color:#6666E0\">4E</span>, <span style=\"color:#6666E0\">4F:0.5♩</span>])</code><br>\n",
       "        <img style=\"display:inline; padding:10px;\n",
       "margin-top:14px;\n",
       "width:279px\"\n",
       "             src=\"data:image/png;base64,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\"/>"
      ],
      "text/plain": [
       "Chain([4C:1.33♩, 4D:0.5♩, 4E, 4F:0.5♩])"
      ]
     },
     "execution_count": 2,
     "metadata": {},
     "output_type": "execute_result"
    }
   ],
   "source": [
    "chain = Chain([\n",
    "    Note(\"4C\", 1+F(1, 3), dynamic='p').addSpanner(\"<\"),\n",
    "    Note(\"4D\", 0.5).addSpanner(\"slur\"),\n",
    "    Note(\"4E\", dynamic='f').addSpanner('~slur'),   # This ends the hairpin spanner\n",
    "    Note(\"4F\", 0.5),\n",
    "])\n",
    "chain"
   ]
  },
  {
   "cell_type": "code",
   "execution_count": 5,
   "id": "1a3bdc8a-885f-4ef5-a337-47864f94e66e",
   "metadata": {},
   "outputs": [],
   "source": [
    "a = makeNote(60, 1, dynamic='f')\n",
    "r = makeRest(1, dynamic='p')"
   ]
  },
  {
   "cell_type": "code",
   "execution_count": 6,
   "id": "1b94a2c4-7f69-4ab0-b519-ae7f80881d94",
   "metadata": {},
   "outputs": [],
   "source": [
    "p = Part([a,r])"
   ]
  },
  {
   "cell_type": "code",
   "execution_count": 7,
   "id": "980fed3f-6fc9-49ca-9411-d47cf1fe92f7",
   "metadata": {},
   "outputs": [
    {
     "data": {
      "text/plain": [
       "QuantizedPart(struct=ScoreStruct(tempo=60, timesig=(4, 4)), measures=[QuantizedMeasure(timesig=(4, 4), quarterTempo=60, beats=[QuantizedBeat(divisions=(1,), assignedSlots=[0], notations=[«0.000:1.000 4C f»], beatDuration=Fraction(1, 1), beatOffset=Fraction(0, 1), quantizationError=0.002, quantizationInfo=''), QuantizedBeat(divisions=(1,), assignedSlots=[0], notations=[«1.000:2.000 rest p»], beatDuration=Fraction(1, 1), beatOffset=Fraction(1, 1), quantizationError=0, quantizationInfo=''), QuantizedBeat(divisions=(1,), assignedSlots=[0], notations=[«2.000:3.000 rest»], beatDuration=Fraction(1, 1), beatOffset=Fraction(2, 1), quantizationError=0, quantizationInfo=''), QuantizedBeat(divisions=(1,), assignedSlots=[0], notations=[«3.000:4.000 rest»], beatDuration=Fraction(1, 1), beatOffset=Fraction(3, 1), quantizationError=0, quantizationInfo='')], profile=high)], name='', shortname='')"
      ]
     },
     "execution_count": 7,
     "metadata": {},
     "output_type": "execute_result"
    }
   ],
   "source": [
    "qp = quant.quantizePart(p, struct=ScoreStruct(timesig='4/4'), profile=quant.makeQuantizationProfile('high'))\n",
    "qp"
   ]
  },
  {
   "cell_type": "code",
   "execution_count": 8,
   "id": "a395e654-409c-4384-a050-6dee0616c17c",
   "metadata": {},
   "outputs": [
    {
     "data": {
      "text/html": [
       "<b>LilypondRenderer</b> (1 part)<br>\n",
       "        <img style=\"display:inline; padding:10px;\n",
       "margin-top:14px;\n",
       "width:171.0\"\n",
       "             src=\"data:image/png;base64,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\"/>"
      ],
      "text/plain": [
       "<maelzel.scoring.renderlily.LilypondRenderer at 0x7f277023e820>"
      ]
     },
     "execution_count": 8,
     "metadata": {},
     "output_type": "execute_result"
    }
   ],
   "source": [
    "options = render.RenderOptions()\n",
    "score = quant.QuantizedScore([qp])\n",
    "r = render.renderQuantizedScore(score, options)\n",
    "r.write('~/tmp/quant.ly')\n",
    "r"
   ]
  },
  {
   "cell_type": "code",
   "execution_count": null,
   "id": "1bc20ab8-e049-4330-82e7-ba2c4f5d065b",
   "metadata": {},
   "outputs": [],
   "source": []
  }
 ],
 "metadata": {
  "kernelspec": {
   "display_name": "Python 3 (ipykernel)",
   "language": "python",
   "name": "python3"
  },
  "language_info": {
   "codemirror_mode": {
    "name": "ipython",
    "version": 3
   },
   "file_extension": ".py",
   "mimetype": "text/x-python",
   "name": "python",
   "nbconvert_exporter": "python",
   "pygments_lexer": "ipython3",
   "version": "3.9.15"
  }
 },
 "nbformat": 4,
 "nbformat_minor": 5
}
