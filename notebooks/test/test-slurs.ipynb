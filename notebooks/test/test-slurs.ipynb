{
 "cells": [
  {
   "cell_type": "code",
   "execution_count": 1,
   "id": "2cd07a6f-bea2-42cb-837b-4303d49efd77",
   "metadata": {},
   "outputs": [],
   "source": [
    "from maelzel.core import *"
   ]
  },
  {
   "cell_type": "code",
   "execution_count": null,
   "id": "cf0954fa-052e-46b0-b8db-1a04b23a042e",
   "metadata": {},
   "outputs": [
    {
     "data": {
      "application/vnd.jupyter.widget-view+json": {
       "model_id": "",
       "version_major": 2,
       "version_minor": 0
      },
      "text/plain": [
       "Button(description='Stop', style=ButtonStyle())"
      ]
     },
     "metadata": {},
     "output_type": "display_data"
    },
    {
     "data": {
      "application/vnd.jupyter.widget-view+json": {
       "model_id": "",
       "version_major": 2,
       "version_minor": 0
      },
      "text/plain": [
       "Output()"
      ]
     },
     "metadata": {},
     "output_type": "display_data"
    },
    {
     "data": {
      "text/html": [
       "<small>SynthGroup - start: 0.611, dur: 2.929, synths: 6</small>\n",
       "<p>instr: <strong style=\"color:MediumSeaGreen\">preset._piano</strong> - <b>6</b> synths</p>\n",
       "<table><thead><tr><th style=\"text-align:left\">p1</th><th style=\"text-align:left\">start</th><th style=\"text-align:left\">dur</th><th style=\"text-align:left\">4</th><th style=\"text-align:left\">5:idataidx_</th><th style=\"text-align:left\">6:inumbps</th><th style=\"text-align:left\">7:ibplen</th><th style=\"text-align:left\">8:igain_</th><th style=\"text-align:left\">9:ichan_</th><th style=\"text-align:left\">10:ipos</th><th style=\"text-align:left\">11:ifade0</th><th style=\"text-align:left\">12:ifade1</th><th style=\"text-align:left\">13:ipchintrp_</th><th style=\"text-align:left\">14:ifadekind_</th><th style=\"text-align:left\">15</th><th style=\"text-align:left\">16</th><th style=\"text-align:left\">...</th></tr></thead><tbody><tr><td style=\"text-align:left\">1001.0003 <b>𝍪</b></td><td style=\"text-align:left\">0.611</td><td style=\"text-align:left\">0.500</td><td style=\"text-align:left\">0</td><td style=\"text-align:left\">15</td><td style=\"text-align:left\">2</td><td style=\"text-align:left\">3</td><td style=\"text-align:left\">1</td><td style=\"text-align:left\">1</td><td style=\"text-align:left\">-1</td><td style=\"text-align:left\">0.02</td><td style=\"text-align:left\">0.02</td><td style=\"text-align:left\">0</td><td style=\"text-align:left\">1</td><td style=\"text-align:left\">0</td><td style=\"text-align:left\">...</td></tr><tr><td style=\"text-align:left\">1001.0004 <b>𝍪</b></td><td style=\"text-align:left\">1.111</td><td style=\"text-align:left\">1.000</td><td style=\"text-align:left\">0</td><td style=\"text-align:left\">15</td><td style=\"text-align:left\">2</td><td style=\"text-align:left\">3</td><td style=\"text-align:left\">0.70711</td><td style=\"text-align:left\">1</td><td style=\"text-align:left\">-1</td><td style=\"text-align:left\">0.02</td><td style=\"text-align:left\">0.02</td><td style=\"text-align:left\">0</td><td style=\"text-align:left\">1</td><td style=\"text-align:left\">0</td><td style=\"text-align:left\">...</td></tr><tr><td style=\"text-align:left\">1001.0005 <b>𝍪</b></td><td style=\"text-align:left\">1.111</td><td style=\"text-align:left\">1.000</td><td style=\"text-align:left\">0</td><td style=\"text-align:left\">15</td><td style=\"text-align:left\">2</td><td style=\"text-align:left\">3</td><td style=\"text-align:left\">0.70711</td><td style=\"text-align:left\">1</td><td style=\"text-align:left\">-1</td><td style=\"text-align:left\">0.02</td><td style=\"text-align:left\">0.02</td><td style=\"text-align:left\">0</td><td style=\"text-align:left\">1</td><td style=\"text-align:left\">0</td><td style=\"text-align:left\">...</td></tr><tr><td style=\"text-align:left\">1001.0006 <b>𝍪</b></td><td style=\"text-align:left\">2.111</td><td style=\"text-align:left\">0.500</td><td style=\"text-align:left\">0</td><td style=\"text-align:left\">15</td><td style=\"text-align:left\">2</td><td style=\"text-align:left\">3</td><td style=\"text-align:left\">1</td><td style=\"text-align:left\">1</td><td style=\"text-align:left\">-1</td><td style=\"text-align:left\">0.02</td><td style=\"text-align:left\">0.02</td><td style=\"text-align:left\">0</td><td style=\"text-align:left\">1</td><td style=\"text-align:left\">0</td><td style=\"text-align:left\">...</td></tr><tr><td style=\"text-align:left\">...</td></tr></tbody></table>"
      ],
      "text/plain": [
       "SynthGroup(n=6)\n",
       "    Synth(𝍪 preset._piano:1001.0003, p4=0 idataidx_:5=15 inumbps:6=2 ibplen:7=3 igain_:8=1 ichan_:9=1 ipos:10=-1 ifade0:11=0.02 ifade1:12=0.02 ipchintrp_:13=0 ifadekind_:14=1 p15=0 p16=60 ...)\n",
       "    Synth(𝍪 preset._piano:1001.0004, p4=0 idataidx_:5=15 inumbps:6=2 ibplen:7=3 igain_:8=0.707107 ichan_:9=1 ipos:10=-1 ifade0:11=0.02 ifade1:12=0.02 ipchintrp_:13=0 ifadekind_:14=1 p15=0 p16=64 ...)\n",
       "    Synth(𝍪 preset._piano:1001.0005, p4=0 idataidx_:5=15 inumbps:6=2 ibplen:7=3 igain_:8=0.707107 ichan_:9=1 ipos:10=-1 ifade0:11=0.02 ifade1:12=0.02 ipchintrp_:13=0 ifadekind_:14=1 p15=0 p16=65 ...)\n",
       "    Synth(𝍪 preset._piano:1001.0006, p4=0 idataidx_:5=15 inumbps:6=2 ibplen:7=3 igain_:8=1 ichan_:9=1 ipos:10=-1 ifade0:11=0.02 ifade1:12=0.02 ipchintrp_:13=0 ifadekind_:14=1 p15=0 p16=61 ...)\n",
       "    Synth(𝍪 preset._piano:1001.0007, p4=0 idataidx_:5=15 inumbps:6=2 ibplen:7=3 igain_:8=1 ichan_:9=1 ipos:10=-1 ifade0:11=0.02 ifade1:12=0.02 ipchintrp_:13=0 ifadekind_:14=1 p15=0 p16=62 ...)\n",
       "    Synth(𝍪 preset._piano:1001.0008, p4=0 idataidx_:5=15 inumbps:6=2 ibplen:7=3 igain_:8=1 ichan_:9=1 ipos:10=-1 ifade0:11=0.02 ifade1:12=0.02 ipchintrp_:13=0 ifadekind_:14=1 p15=0 p16=67.5 ...)"
      ]
     },
     "execution_count": 3,
     "metadata": {},
     "output_type": "execute_result"
    }
   ],
   "source": [
    "ch = Chain([\n",
    "    Chain([\n",
    "        \"4C:0.5:p\",\n",
    "        \"4E,4F:1\"\n",
    "    ]),\n",
    "    Chain([\"4C#:0.5:f\", \"4D:0.5\"]),\n",
    "    \"4G+:3/7\"\n",
    "], start=0.5)\n",
    "ch.play()\n"
   ]
  },
  {
   "cell_type": "code",
   "execution_count": 3,
   "id": "f6ad8bf3-0c25-44b4-93cd-f3013c91fef7",
   "metadata": {},
   "outputs": [
    {
     "data": {
      "text/html": [
       "<code style=\"font-size:0.9em\">Chain([<span style=\"color:#6666E0\">Chain([4C:0.5♩, ‹4E 4F 1♩›])</span>, <span style=\"color:#6666E0\">Chain([4C#:0.5♩, 4D:0.5♩])</span>, <span style=\"color:#6666E0\">4G+:0.429♩</span>], start=0.5)</code><br>\n",
       "        <img style=\"display:inline; padding:10px;\n",
       "margin-top:14px;\n",
       "width:194px\"\n",
       "             src=\"data:image/png;base64,iVBORw0KGgoAAAANSUhEUgAAAMIAAABWCAIAAAASdN4zAAAJLmlDQ1BJQ0MgUHJvZmlsZQAAeJyVlWdQk1kXx+/zPOmFQBJCh1BDkSolgJQQWijSq6hA6J1QRWyIuAIriog0RZBFARdclSJrRRQLi4ICFnSDLALKunEVUUFZcN8ZnfcdP7z/mXvPb/5z5t5zz/lwASCIg2XBy3tiUrrA28mOGRgUzATfKIyflsLx9HQD39W7EQCtxHu638/5rggRkWn85bi4vHL5KYJ0AKDsZdbMSk9Z4aPLTA+P/8JnV1iwXOAy31jh6H957EvOvyz6kuPrzV1+FQoAHCn6Gw7/hv9z74pUOIL02KjIbKZPclR6Vpggkpm20gkel8v0FCRHxSZEflPw/5X8HaVHZqevRG5yyiZBbHRMOvN/DjUyMDQEX2fxxutLjyFG/3/PZ0VfveR6ANhzACD7vnrhlQB07gJA+tFXT225r5R8ADru8DMEmf96qJUNDQiAAuhABigCVaAJdIERMAOWwBY4ABfgAXxBENgA+CAGJAIByAK5YAcoAEVgHzgIqkAtaABNoBWcBp3gPLgCroPb4C4YBo+BEEyCl0AE3oEFCIKwEBmiQTKQEqQO6UBGEBuyhhwgN8gbCoJCoWgoCcqAcqGdUBFUClVBdVAT9At0DroC3YQGoYfQODQD/Q19hBGYBNNhBVgD1ofZMAd2hX3h9XA0nArnwPnwXrgCrodPwh3wFfg2PAwL4ZfwHAIQIsJAlBFdhI1wEQ8kGIlCBMhWpBApR+qRVqQb6UPuIUJkFvmAwqBoKCZKF2WJckb5ofioVNRWVDGqCnUC1YHqRd1DjaNEqM9oMloerYO2QPPQgehodBa6AF2ObkS3o6+hh9GT6HcYDIaBYWHMMM6YIEwcZjOmGHMY04a5jBnETGDmsFisDFYHa4X1wIZh07EF2ErsSewl7BB2EvseR8Qp4YxwjrhgXBIuD1eOa8ZdxA3hpnALeHG8Ot4C74GPwG/Cl+Ab8N34O/hJ/AJBgsAiWBF8CXGEHYQKQivhGmGM8IZIJKoQzYlexFjidmIF8RTxBnGc+IFEJWmTuKQQUgZpL+k46TLpIekNmUzWINuSg8np5L3kJvJV8lPyezGamJ4YTyxCbJtYtViH2JDYKwqeok7hUDZQcijllDOUO5RZcby4hjhXPEx8q3i1+DnxUfE5CZqEoYSHRKJEsUSzxE2JaSqWqkF1oEZQ86nHqFepEzSEpkrj0vi0nbQG2jXaJB1DZ9F59Dh6Ef1n+gBdJEmVNJb0l8yWrJa8IClkIAwNBo+RwChhnGaMMD5KKUhxpCKl9ki1Sg1JzUvLSdtKR0oXSrdJD0t/lGHKOMjEy+yX6ZR5IouS1Zb1ks2SPSJ7TXZWji5nKceXK5Q7LfdIHpbXlveW3yx/TL5ffk5BUcFJIUWhUuGqwqwiQ9FWMU6xTPGi4owSTclaKVapTOmS0gumJJPDTGBWMHuZImV5ZWflDOU65QHlBRWWip9KnkqbyhNVgipbNUq1TLVHVaSmpOaulqvWovZIHa/OVo9RP6Tepz6vwdII0Nit0akxzZJm8Vg5rBbWmCZZ00YzVbNe874WRoutFa91WOuuNqxtoh2jXa19RwfWMdWJ1TmsM7gKvcp8VdKq+lWjuiRdjm6mbovuuB5Dz00vT69T75W+mn6w/n79Pv3PBiYGCQYNBo8NqYYuhnmG3YZ/G2kb8Y2qje6vJq92XL1tddfq18Y6xpHGR4wfmNBM3E12m/SYfDI1MxWYtprOmKmZhZrVmI2y6WxPdjH7hjna3M58m/l58w8WphbpFqct/rLUtYy3bLacXsNaE7mmYc2ElYpVmFWdldCaaR1qfdRaaKNsE2ZTb/PMVtU2wrbRdoqjxYnjnOS8sjOwE9i1281zLbhbuJftEXsn+0L7AQeqg59DlcNTRxXHaMcWR5GTidNmp8vOaGdX5/3OozwFHp/XxBO5mLlscel1Jbn6uFa5PnPTdhO4dbvD7i7uB9zH1qqvTVrb6QE8eB4HPJ54sjxTPX/1wnh5elV7Pfc29M717vOh+Wz0afZ552vnW+L72E/TL8Ovx5/iH+Lf5D8fYB9QGiAM1A/cEng7SDYoNqgrGBvsH9wYPLfOYd3BdZMhJiEFISPrWeuz19/cILshYcOFjZSNYRvPhKJDA0KbQxfDPMLqw+bCeeE14SI+l3+I/zLCNqIsYibSKrI0cirKKqo0ajraKvpA9EyMTUx5zGwsN7Yq9nWcc1xt3Hy8R/zx+KWEgIS2RFxiaOK5JGpSfFJvsmJydvJgik5KQYow1SL1YKpI4CpoTIPS1qd1pdOXP8X+DM2MXRnjmdaZ1Znvs/yzzmRLZCdl92/S3rRn01SOY85Pm1Gb+Zt7cpVzd+SOb+FsqdsKbQ3f2rNNdVv+tsntTttP7CDsiN/xW55BXmne250BO7vzFfK350/sctrVUiBWICgY3W25u/YH1A+xPwzsWb2ncs/nwojCW0UGReVFi8X84ls/Gv5Y8ePS3qi9AyWmJUf2YfYl7RvZb7P/RKlEaU7pxAH3Ax1lzLLCsrcHNx68WW5cXnuIcCjjkLDCraKrUq1yX+ViVUzVcLVddVuNfM2emvnDEYeHjtgeaa1VqC2q/Xg09uiDOqe6jnqN+vJjmGOZx543+Df0/cT+qalRtrGo8dPxpOPCE94nepvMmpqa5ZtLWuCWjJaZkyEn7/5s/3NXq25rXRujregUOJVx6sUvob+MnHY93XOGfab1rPrZmnZae2EH1LGpQ9QZ0ynsCuoaPOdyrqfbsrv9V71fj59XPl99QfJCyUXCxfyLS5dyLs1dTrk8eyX6ykTPxp7HVwOv3u/16h245nrtxnXH61f7OH2XbljdOH/T4ua5W+xbnbdNb3f0m/S3/2byW/uA6UDHHbM7XXfN73YPrhm8OGQzdOWe/b3r93n3bw+vHR4c8Rt5MBoyKnwQ8WD6YcLD148yHy083j6GHit8Iv6k/Kn80/rftX5vE5oKL4zbj/c/83n2eII/8fKPtD8WJ/Ofk5+XTylNNU0bTZ+fcZy5+2Ldi8mXKS8XZgv+lPiz5pXmq7N/2f7VLwoUTb4WvF76u/iNzJvjb43f9sx5zj19l/huYb7wvcz7Ex/YH/o+BnycWshaxC5WfNL61P3Z9fPYUuLS0j9CLJC+ERlPpwAAEWZJREFUeJztnU9M2+Ybx18KjJQpxWklVlFN4KRiZWrX1mZh6iaBlMAYl7Ityf4ctksdpk2atIuT06SqPSQcWCdNk5JUO2yHdQmaxmFS1wSNbipqWUxXFakUiIHDGNnBTqEa2djgd3h+fX/+xYnjOH8I1J9T4th+X9tfP+/zvs/zvqnZ3t5GlcXj8SCE/H5/hcvVKR/7droCOnsBXUY6JUCXkU4J0GWkUwJ0GemUAF1GOiVAl5FOCdBlpFMCdBnplIDdJCNRFP1+v91u93g8oiji7bFYzO12ezwenud3sHqPM7tGRjzP0zRtMplisRjHcW63G7ZHIhGPx+P3+10uF03TUnnpVIxdIyOfz2e320E9oiiaTCbY7vF4vF6vyWSiadput/t8vh2t5mNK3U5XQBWiKIZCoXA4DF85jsMfFhcXzWYzfDWbzZFIRA/6KhCLxXw+H03TCCGe5/1+P757xVAhGXk8nkgksri4iBCyWq09PT34J57nA4FAxv69vb12ux1/Bd3wPO90OmOxmNPp9Pv9JpMJtsNNAaAInVwEAgGXy2U2m6H1L4mGkHoZiaJot9uHhoawU1LQgdPT03jL1NTUsWPHpDtg64KxWCzSr9FoFCGUSCSCwSBCiKZp0FMikSioMo85PM+7XC6n04keOQOlOrMqGWEpDA0N2e32giTs8XikGgIOHjyIP9M0HYvFlE8CqnK5XOASOZ3O4eFhhFBnZydCiOf5Ur1Ve4lXXnmlvb3dYDAghKD/YTab4UYFg8HOzk7sXyKEOI4Lh8Orq6uHDh0aGRkptCxVMpJKwefzgUlQSSQSydhCEMQnn3yCv3IcB4lsUlwul9TsSZstKbiNxzJyOBzq67a3uXr1ajKZhDe2s7MT30Oe56PRaMZz4Xme47iFhQWEUFlkxHFcKBTCX0OhkNfr1fz2EwSRYXugk5WxW8b5aZqmKCoajYLDJIoiyMVsNjscDrxd968zGB4elrqYgNvtdrlcGRudTqfT6fR4PHIHQxXb+WAYBvYkCCIajTIMw7Js3qMw4XCYJEk4A8MwiURC/bFS4vG4zWZjWZZlWZvNJggCbBcEAbY7HI6CKrbnQQhFo9GMjYFAgCCIXIfAvdVSVt49QAQEQYACfD4fSZIaSioJ8Xg8Ho9n3a5ZoHuVrDJiGMbhcOQ6RLOM8jdq0IWORCLQ0NA0vbi4yHFcLn+lrCg7STp5KVOjr8rFttlsGU3sTslIRz3xeFz+jKS9Mzler1dbNEmVjKQeGR7C0VCYTiXR8J6bTCZlneVClYyk/SY9ir4r4Hl+bGzs5s2bCKFvvvmm3MXVwbiT8k6hUAiMUDqdHh0dRQjdunVLPtijzOzsbDqdJgginU6vrq5K4yFVy9LSUltb207XQhWpVGp1dfX+/fvJZPLhw4cIoX/++QchdODAgUKflEIRqVSqra0NniBsNBqNly9fzm+NGhoa8GdQN0KotbW10ErcuXNneXkZPvf19RV6eOVZWloKh8Msy+50RbKTTqeXlpZAN2tra3V1dX///bd8t7W1tVKV+Ouvv05NTbEsu7q6KjU9ly9fzt/ht9lsgUBge3s7kUgQBIEQ0tbht9lsUCrLsruicw4GeKdr8T8EQYhGo++88w5FUUaj0Wg0KjzyJ598srGxsbm5uYSXAG/U9qM7g9lW0+GnaToej0N6YSqVQghpC+mNj48jhBiGgUFwPb9MDbFYbGxsbHJyMpFIbG1tra+v59qzvr6+tra2qampq6vLarX29/dDsLK3t1fh/B6Px2KxFBpul5NfRr29vW632+/3g1dEUZSGUiGCY7PZgsGg2+0GOerIicVi165dm56enpmZ+fPPPxV088QTTzQ0NDQ2Nh4/fpyiqL6+PnncIy9er9dut9M0XeTwTX4Z2e12URSxBSooLouJRqMURQWDQZqm5QH/xxmO465evfrjjz/OzMw8ePDg33//3dzczLWz0Wjct2/fiRMnTp06dfbsWQ26ycBkMoGSOI4rJkuiLmu6j5S5uTnw+RFC586dE0Uxb16H/Axff/31559/Pjo6ijVU6EkqD1S15PVcX1+/du3avXv37t27B7rBt1fO/v379+3b19LSMj8/f+7cuYGBAalLlLduai7BZDKlUqn+/n6/36/sby0tLcHZ5IagJhwOy5MPMZubm5OTk3CdLS0tHR0dyvXOyvT09NGjRw8cOCAIwu3bt2Ej9rhVsrGxsX//fg2lawZqW2g9VZ4216+1tbVbW1sGg8FoNB45csRoNNbX1yOExsfHT58+Lc3TUl+W8iUkk8mZmRmEUHNz84kTJxT2XFhYWF5ehri49BK2lUOzgiBQFIX3zhoTVePeh8Nh+Cz18As6CWQZEAQBgf14PI4j/OWjTD21jKiWwWBobGy0WCwulyscDufqw6Jscda85L2ERCKB8y9Adgo7a+yp4Ww1kiTNZnMsFtPgiHEcx3EcGDxp7wzadZVNBiQ8pVKpSCTidDrtdvtuH0xvbW3t6urq7+/v7u7eqdRNjuPsdjvu7gQCAW2REIRySxXP1CEIIh6P+3w+hQQDlWi2RtgokiRJEARFUYUWrSEFokzWSNtpUamtkSAIMAoIjxiGBpUp2BrxPI9lFIlEwAgVnwEuLT4Wi6nvaMC0GFEULRaLIAgaip6YmFD2H3cdoiiKolgSS+b1eosdOsqqO+mIM94I2Y+FvhBAIpGgKIokSdsjCILQZt4oitLgpVmtVqvVWtAhVW6NotFoXvuqXBZ+q1U6mgrWCCl003R01LCdtaeGg5Egf0EQ5OFJgiB8Pp8aCWOk3U41LXGuF4JhGA0HWq1Wg8FQ0CG7whoFAgGFAKWastQn1ytYoyxz+GE0Emc8ejwemBQmJZVKeb1ebRkILMtqHn6NRCLKQSIF0um0tiH46oTn+fHx8aGhIfXtCcy2hv6y3++vqampqakRRTEYDBZ7Z7IKHz0yGFh3DocDcgPAHuDD1XtLsD/DMNBHUHmUFKiAthEjq9WKCsxNqGZrJJ2OJzftgiBAiguMUeHtMEQELiluYWw2G3SE83qcSr5R1hrjpwVHYqOHk0ai0Sh0F1W6yaAAcAlBhWqOyoBhGG3zFra3t91uN/TU1E9CqmYZwTMiCAIP7QJZPRD8q1RGUA18N6LRaN47U5iMoDD4DA6N9ES4MGxL1dwFhmEoioL+mvqjMtDgkGFYlu3u7qYoCs+Uyks1y4gkSYfDkfFSZUQdMPh6E4mEz+fD5pwkyQwVKqMgoywxtbt37/7xxx8gIBxGgZ9+++23ZDKJ63rjxo10Op031rO2tnb79m2r1bqxsaE5pra5ubm8vNza2goxpkJZWFhYW1vr6OiYmpo6ePCgcvAIkAakNjc3BUFYX18/ePBgoYEthdOqRx5TEwRhaWlJqht4WPJjz5w5kzUcKQiCIAhHjx5VWQeFmFqd3W7PGAL//vvvL126BION09PTHo/ntddea29vh68XLlzA45AXLlz46aef3nzzzawvAYZl2U8//bS9vX16ehoXX8LlLNQQCoXm5+fPnz9//fr1ixcv9vX1KdcZIQS1/eCDD65cuYJzRpeXlwcGBj766CPNNYHTFnr54+PjGfd5enr6ypUr0vO8+uqr8gNPnz59/vz5XKcNhUJST1eZUCi0vLzs9Xqlz/G/yG0XuMDYcXM4HBRFYUuIJE4uOHp5LWHxodnikQZDbDabmlEDqK1yM6GBEnb4SZKUNkzyepIkWcJ85cI6/CaTye12Q/ABIRQMBvGCJlAz6WJnebUMcVm73Q5Lf+LtsEX52DIxNDQkX+cEI4oirCcJYemCkuw4jqtMzBjWFltcXFxcXIzH47Axw7lmGKbIZLQCyCU9m83mcDiw4cGixp01n8+n3l0FqsQabW9vo2wWJWs3R468t5hIJHDHNm9/pyTWCEdVSZKUdtTj8TjLsspjkprRkigSiUTAYMAawljUNE0nEgm/3+/1egOBQEFi1xyaLQcZi2vJV4XLCkmS8pE66KNUck0cyO6gKCojc7X4rGpt1MTjcYXpjhMTE3fu3DEYDM888wxsWV5eTiaTTz311Msvv3z48GGVxaRSqbGxMZjuCFtWV1fb2trOnj1bXP3VMjExkUwm33jjDfg6PDzsdrtxZWCHqakp5ZOcPHmyu7sb1i/LODlCqKenB39QOIn66W8wEw1uVDgcdrlceO7lrVu3Ghoa7t+/j6+oAsAtYlkWLgFvV7JGQE9PzwsvvDA7O4uTmwiCMBgMhdaeIIh33323wGqXC7gWqYYQQnfu3JHv2dra2t3dPTs7SxBEW1tbxiFZSSaTExMTRc4JTqfTN2/exLKW67urqwsyoyvJqVOnQMeHDx/Gyzr8N/2m0AZSTX5CFSL1jQKBgDzxTX7X1HdzYJEuhmGwzhR2zusb5RpF/PLLLzPOUz0PIqc1goidIAgZawvvImASSzwez4jm4kX+pLAsK41AMwwDaybnLUW6VjOQVQS4MocOHVI+oc/ny+qiHT9+XPqVpukqijTn0pf0XkiHzKvqJciFvM/13HPP4Wo7HI6sZkZbNwcXQRAESZLyESnlOJecrE1nld/z7NeT4XRLryEQCFT5JeVqFM6cOVOO4giCIAgCMhfkHf68cS458p0LGkUUBCFjFKACFPyfIVnX8KoSYNiwv78/a6NQW1urfaXV3Iii6Ha75QtMwULNuSrj9/tzDYEWM4r41VdfdXR0vPXWW5V+RlnFlbGYGh74gjhJhZWunrxhMlRIooh6sBGSWqO8XXqF+S0amteRkRGLxWKxWDTnyxeD0ig2JGZIr8ThcBQ/zajcyB9YaUNLckA9giBAZ02aHFeByoyMjDQ1NTU1NV28eLGEpy2InDKCRp0kyUAgEI1Gw+EwpMlVYLpqkcgbhXLXmWEY6dxT9P8ZWmWqTDgcHhgYaGho2FkBAXkGMFiWhZaCoih44SpWs2Ioa2gpg4yOFbx45atMOBweHBxsaGior69/6aWXvv322+LPWTw129kMr456ampqEEIEQcA/A5lMpnIE1yKRSCAQ+Pnnn7e2tp599tm33367VCs6loTd8bd81QzLsrBKuN/vL+GjhbUPxsfHr1+/nkwmEULHjx//+OOP33//fe0z7cvGHpfRZ599NjAwUNacm1KpBxaaikQik5OT8/Pzf/31F3q0YsTg4ODg4GAVqgezx2WEEOrs7Hz++effe++9rDmmO0gsFhNFcXR0dGVl5e7duw8ePEAIGQyG1tbW119/3eFwVFuFFdj7vpEoipcuXQqHw7OzsxaL5cUXX/zwww9LOzoH1sjv9/M8Lx+H5B9x48aNxcXFlZUV6bBcfX19S0vLyZMne3t7y204y8felxFGFMXvvvvuiy+++OWXX3CTAbNEDh8+bLFYzGZz1j93UwD0MTc3ZzQaZ2ZmYAHyhw8f8jy/sbGRTqfBrQHq6uqOHDnS1NR07NgxiqLgr7pLf507wWMkowxisdjc3NwPP/ywurqaTCZh/lDxpzUajXgaUFdXF0Kov7//6aef3jOKycrjK6OsgHXBX+fm5uCPExBCv//++8rKCv6pubkZp25KpzyoKcLn80Hz5/V6qzZAWRg7Omr12AF/rgh/eOpwOHbwDw5Li26NKgdeMx/ycFwuF0EQe+PfCgpOFNHRDCyMB+PdZrOZIIgKTx0uH3t/3KhKCAaDkGgLzhBN03vDDgG6NSo7sCDV0NAQfB0fH6+pqamiNOpSoPtGFQIiuAihRCKxS8cYFdCtUSXAq8jDQvU7W5lyoMuoEuBZ55BMsvfQZVQJ8DwCzeufVjm6b1QJcGrbXuqdSdGtUdnBjlHx/8VZtegyKhexWAzCc+AY7aXBRjm6jMpCMBiE/+hFjxwjr9dbzemLRaLLqCxAYtrQ0BCspc8wTFVl4JccXUZlAXpksHQJLE6y0zUqL3pPrVzwPA8LH+6RjCJFdBnplID/AGHAQtCukjauAAAAAElFTkSuQmCC\"/>"
      ],
      "text/plain": [
       "Chain([Chain([4C:0.5♩, ‹4E 4F 1♩›]), Chain([4C#:0.5♩, 4D:0.5♩]), 4G+:0.429♩], start=0.5)"
      ]
     },
     "execution_count": 3,
     "metadata": {},
     "output_type": "execute_result"
    }
   ],
   "source": [
    "ch.addSpanner('slur')\n",
    "ch"
   ]
  },
  {
   "cell_type": "code",
   "execution_count": 5,
   "id": "9131f707-8c7a-4cc1-bbea-fd8e88a0af4b",
   "metadata": {},
   "outputs": [
    {
     "data": {
      "application/vnd.jupyter.widget-view+json": {
       "model_id": "20dc8f654ce34988b55812f9c9163405",
       "version_major": 2,
       "version_minor": 0
      },
      "text/plain": [
       "Button(description='Stop', style=ButtonStyle())"
      ]
     },
     "metadata": {},
     "output_type": "display_data"
    },
    {
     "data": {
      "application/vnd.jupyter.widget-view+json": {
       "model_id": "05348161a21f4ff5a3ffe3e7eb18ced1",
       "version_major": 2,
       "version_minor": 0
      },
      "text/plain": [
       "Output()"
      ]
     },
     "metadata": {},
     "output_type": "display_data"
    },
    {
     "data": {
      "text/html": [
       "<small>SynthGroup - start: 0.671, dur: 2.929, synths: 6</small>\n",
       "<p>instr: <strong style=\"color:MediumSeaGreen\">preset._piano</strong> - <b>6</b> synths</p>\n",
       "<table><thead><tr><th style=\"text-align:left\">p1</th><th style=\"text-align:left\">start</th><th style=\"text-align:left\">dur</th><th style=\"text-align:left\">4</th><th style=\"text-align:left\">5:idataidx_</th><th style=\"text-align:left\">6:inumbps</th><th style=\"text-align:left\">7:ibplen</th><th style=\"text-align:left\">8:igain_</th><th style=\"text-align:left\">9:ichan_</th><th style=\"text-align:left\">10:ipos</th><th style=\"text-align:left\">11:ifade0</th><th style=\"text-align:left\">12:ifade1</th><th style=\"text-align:left\">13:ipchintrp_</th><th style=\"text-align:left\">14:ifadekind_</th><th style=\"text-align:left\">15</th><th style=\"text-align:left\">16</th><th style=\"text-align:left\">...</th></tr></thead><tbody><tr><td style=\"text-align:left\">1001.0008 <b>𝍪</b></td><td style=\"text-align:left\">0.671</td><td style=\"text-align:left\">0.500</td><td style=\"text-align:left\">0</td><td style=\"text-align:left\">15</td><td style=\"text-align:left\">2</td><td style=\"text-align:left\">3</td><td style=\"text-align:left\">1</td><td style=\"text-align:left\">1</td><td style=\"text-align:left\">-1</td><td style=\"text-align:left\">0.02</td><td style=\"text-align:left\">0.02</td><td style=\"text-align:left\">0</td><td style=\"text-align:left\">1</td><td style=\"text-align:left\">0</td><td style=\"text-align:left\">...</td></tr><tr><td style=\"text-align:left\">1001.0009 <b>𝍪</b></td><td style=\"text-align:left\">1.171</td><td style=\"text-align:left\">1.000</td><td style=\"text-align:left\">0</td><td style=\"text-align:left\">15</td><td style=\"text-align:left\">2</td><td style=\"text-align:left\">3</td><td style=\"text-align:left\">0.70711</td><td style=\"text-align:left\">1</td><td style=\"text-align:left\">-1</td><td style=\"text-align:left\">0.02</td><td style=\"text-align:left\">0.02</td><td style=\"text-align:left\">0</td><td style=\"text-align:left\">1</td><td style=\"text-align:left\">0</td><td style=\"text-align:left\">...</td></tr><tr><td style=\"text-align:left\">1001.001 <b>𝍪</b></td><td style=\"text-align:left\">1.171</td><td style=\"text-align:left\">1.000</td><td style=\"text-align:left\">0</td><td style=\"text-align:left\">15</td><td style=\"text-align:left\">2</td><td style=\"text-align:left\">3</td><td style=\"text-align:left\">0.70711</td><td style=\"text-align:left\">1</td><td style=\"text-align:left\">-1</td><td style=\"text-align:left\">0.02</td><td style=\"text-align:left\">0.02</td><td style=\"text-align:left\">0</td><td style=\"text-align:left\">1</td><td style=\"text-align:left\">0</td><td style=\"text-align:left\">...</td></tr><tr><td style=\"text-align:left\">1001.0011 <b>𝍪</b></td><td style=\"text-align:left\">2.171</td><td style=\"text-align:left\">0.500</td><td style=\"text-align:left\">0</td><td style=\"text-align:left\">15</td><td style=\"text-align:left\">2</td><td style=\"text-align:left\">3</td><td style=\"text-align:left\">1</td><td style=\"text-align:left\">1</td><td style=\"text-align:left\">-1</td><td style=\"text-align:left\">0.02</td><td style=\"text-align:left\">0.02</td><td style=\"text-align:left\">0</td><td style=\"text-align:left\">1</td><td style=\"text-align:left\">0</td><td style=\"text-align:left\">...</td></tr><tr><td style=\"text-align:left\">...</td></tr></tbody></table>"
      ],
      "text/plain": [
       "SynthGroup(n=6)\n",
       "    Synth(𝍪 preset._piano:1001.0008, p4=0 idataidx_:5=15 inumbps:6=2 ibplen:7=3 igain_:8=1 ichan_:9=1 ipos:10=-1 ifade0:11=0.02 ifade1:12=0.02 ipchintrp_:13=0 ifadekind_:14=1 p15=0 p16=60 ...)\n",
       "    Synth(𝍪 preset._piano:1001.0009, p4=0 idataidx_:5=15 inumbps:6=2 ibplen:7=3 igain_:8=0.707107 ichan_:9=1 ipos:10=-1 ifade0:11=0.02 ifade1:12=0.02 ipchintrp_:13=0 ifadekind_:14=1 p15=0 p16=64 ...)\n",
       "    Synth(𝍪 preset._piano:1001.001, p4=0 idataidx_:5=15 inumbps:6=2 ibplen:7=3 igain_:8=0.707107 ichan_:9=1 ipos:10=-1 ifade0:11=0.02 ifade1:12=0.02 ipchintrp_:13=0 ifadekind_:14=1 p15=0 p16=65 ...)\n",
       "    Synth(𝍪 preset._piano:1001.0011, p4=0 idataidx_:5=15 inumbps:6=2 ibplen:7=3 igain_:8=1 ichan_:9=1 ipos:10=-1 ifade0:11=0.02 ifade1:12=0.02 ipchintrp_:13=0 ifadekind_:14=1 p15=0 p16=61 ...)\n",
       "    Synth(𝍪 preset._piano:1001.0012, p4=0 idataidx_:5=15 inumbps:6=2 ibplen:7=3 igain_:8=1 ichan_:9=1 ipos:10=-1 ifade0:11=0.02 ifade1:12=0.02 ipchintrp_:13=0 ifadekind_:14=1 p15=0 p16=62 ...)\n",
       "    Synth(𝍪 preset._piano:1001.0013, p4=0 idataidx_:5=15 inumbps:6=2 ibplen:7=3 igain_:8=1 ichan_:9=1 ipos:10=-1 ifade0:11=0.02 ifade1:12=0.02 ipchintrp_:13=0 ifadekind_:14=1 p15=0 p16=67.5 ...)"
      ]
     },
     "execution_count": 5,
     "metadata": {},
     "output_type": "execute_result"
    },
    {
     "name": "stderr",
     "output_type": "stream",
     "text": [
      " *** rtjack: connection to JACK server was lost, reconnecting...\u001b[mServer is not running\n",
      "Server is not running\n",
      "Jack server was closed but clients are still allocated, cleanup...\n",
      "Cleanup client ref = 7\n",
      "Server is not running\n",
      "Cleanup client ref = 8\n",
      "Server is not running\n",
      "Cannot connect to server socket err = No such file or directory\n",
      "Cannot connect to server request channel\n",
      "jack server is not running or cannot be started\n",
      "JackShmReadWritePtr::~JackShmReadWritePtr - Init not done for -1, skipping unlock\n",
      "JackShmReadWritePtr::~JackShmReadWritePtr - Init not done for -1, skipping unlock\n",
      " *** rtjack: could not connect to JACK server\u001b[mend of score.\t\t   overall amps:\u001b[m  0.07840  0.05977\n",
      "\t   overall samples out of range:\u001b[m        0\u001b[m        0\u001b[m\n",
      "0 errors in performance\n",
      "\u001b[m1158406 512 sample blks of 64-bit floats written to dac:system:playback\n"
     ]
    }
   ],
   "source": [
    "ch.play()"
   ]
  },
  {
   "cell_type": "code",
   "execution_count": 19,
   "id": "5ec31db3-42c6-427b-9ab1-3a2365dd8b10",
   "metadata": {},
   "outputs": [
    {
     "data": {
      "text/html": [
       "<code style=\"font-size:0.9em\">Chain([<span style=\"color:#6666E0\">Chain([4C:262Hz:0.5♩, ‹4E 4F 1♩›])</span>, <span style=\"color:#6666E0\">Chain([4C#:278Hz:0.5♩, 4D:294Hz:0.5♩])</span>, <span style=\"color:#6666E0\">4G+:405Hz:0.429♩</span>], start=0.5)</code><br>\n",
       "        <img style=\"display:inline; padding:10px;\n",
       "margin-top:14px;\n",
       "width:282px\"\n",
       "             src=\"data:image/png;base64,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\"/>"
      ],
      "text/plain": [
       "Chain([Chain([4C:262Hz:0.5♩, ‹4E 4F 1♩›]), Chain([4C#:278Hz:0.5♩, 4D:294Hz:0.5♩]), 4G+:405Hz:0.429♩], start=0.5)"
      ]
     },
     "execution_count": 19,
     "metadata": {},
     "output_type": "execute_result"
    }
   ],
   "source": [
    "items = list(ch.recurse())\n",
    "items[0].dynamic = 'pp'\n",
    "items[0].addSpanner('cresc', ch[2])\n",
    "ch"
   ]
  }
 ],
 "metadata": {
  "kernelspec": {
   "display_name": "Python 3 (ipykernel)",
   "language": "python",
   "name": "python3"
  },
  "language_info": {
   "codemirror_mode": {
    "name": "ipython",
    "version": 3
   },
   "file_extension": ".py",
   "mimetype": "text/x-python",
   "name": "python",
   "nbconvert_exporter": "python",
   "pygments_lexer": "ipython3",
   "version": "3.9.13"
  }
 },
 "nbformat": 4,
 "nbformat_minor": 5
}
