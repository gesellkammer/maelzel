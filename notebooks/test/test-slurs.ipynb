{
 "cells": [
  {
   "cell_type": "code",
   "execution_count": 2,
   "id": "2cd07a6f-bea2-42cb-837b-4303d49efd77",
   "metadata": {},
   "outputs": [],
   "source": [
    "from maelzel.core import *"
   ]
  },
  {
   "cell_type": "code",
   "execution_count": 3,
   "id": "cf0954fa-052e-46b0-b8db-1a04b23a042e",
   "metadata": {},
   "outputs": [
    {
     "name": "stderr",
     "output_type": "stream",
     "text": [
      "\n",
      "\n",
      "--Csound version 6.19 (double samples) May 26 2023\n",
      "[commit: 593ac80dd986b58f24e3d59242243ba6266edda7]\n",
      "\u001b[mlibsndfile-1.2.0\n",
      "\u001b[msr = 48000.0,\u001b[m kr = 750.000,\u001b[m ksmps = 64\n",
      "\u001b[m0dBFS level = 1.0,\u001b[m A4 tuning = 442.0\n",
      "\u001b[maudio buffered in 1024 sample-frame blocks\n",
      "\u001b[mreading 8192-byte blks of shorts from adc:Built-in Audio Analogue Stereo: (RAW)\n",
      "writing 2048 sample blks of 64-bit floats to dac:Built-in Audio Analogue Stereo:\n",
      "SECTION 1:\n"
     ]
    },
    {
     "data": {
      "application/vnd.jupyter.widget-view+json": {
       "model_id": "33ef628a98264bcdabe6ab02fffd33fe",
       "version_major": 2,
       "version_minor": 0
      },
      "text/plain": [
       "Button(description='Stop', style=ButtonStyle())"
      ]
     },
     "metadata": {},
     "output_type": "display_data"
    },
    {
     "data": {
      "application/vnd.jupyter.widget-view+json": {
       "model_id": "56d51c19dcf8422a8fb2990d02a66c98",
       "version_major": 2,
       "version_minor": 0
      },
      "text/plain": [
       "Output()"
      ]
     },
     "metadata": {},
     "output_type": "display_data"
    },
    {
     "data": {
      "text/html": [
       "<small>SynthGroup - start: 1.530, dur: 2.929, synths: 6</small>\n",
       "<p>instr: <strong style=\"color:MediumSeaGreen\">preset:sin</strong> - <b>6</b> synths</p>\n",
       "<table><thead><tr><th style=\"text-align:left\">p1</th><th style=\"text-align:left\">start</th><th style=\"text-align:left\">dur</th><th style=\"text-align:left\">4</th><th style=\"text-align:left\">5:idataidx_</th><th style=\"text-align:left\">6:inumbps</th><th style=\"text-align:left\">7:ibplen</th><th style=\"text-align:left\">8:igain</th><th style=\"text-align:left\">9:ichan</th><th style=\"text-align:left\">10:ipos</th><th style=\"text-align:left\">11:ifadein</th><th style=\"text-align:left\">12:ifadeout</th><th style=\"text-align:left\">13:ipchintrp_</th><th style=\"text-align:left\">14:ifadekind</th><th style=\"text-align:left\">15:ktransp</th><th style=\"text-align:left\">16:klag</th><th style=\"text-align:left\">17</th><th style=\"text-align:left\">18</th><th style=\"text-align:left\">19</th><th style=\"text-align:left\">20</th><th style=\"text-align:left\">...</th></tr></thead><tbody><tr><td style=\"text-align:left\">501.0002 <b>𝍪</b></td><td style=\"text-align:left\">1.530</td><td style=\"text-align:left\">0.500</td><td style=\"text-align:left\">0</td><td style=\"text-align:left\">17</td><td style=\"text-align:left\">2</td><td style=\"text-align:left\">3</td><td style=\"text-align:left\">1</td><td style=\"text-align:left\">1</td><td style=\"text-align:left\">-1</td><td style=\"text-align:left\">0.02</td><td style=\"text-align:left\">0.02</td><td style=\"text-align:left\">0</td><td style=\"text-align:left\">1</td><td style=\"text-align:left\">0</td><td style=\"text-align:left\">0.1</td><td style=\"text-align:left\">0</td><td style=\"text-align:left\">60</td><td style=\"text-align:left\">0.11486</td><td style=\"text-align:left\">...</td></tr><tr><td style=\"text-align:left\">501.0003 <b>𝍪</b></td><td style=\"text-align:left\">2.030</td><td style=\"text-align:left\">1.000</td><td style=\"text-align:left\">0</td><td style=\"text-align:left\">17</td><td style=\"text-align:left\">2</td><td style=\"text-align:left\">3</td><td style=\"text-align:left\">0.70711</td><td style=\"text-align:left\">1</td><td style=\"text-align:left\">-1</td><td style=\"text-align:left\">0.02</td><td style=\"text-align:left\">0.02</td><td style=\"text-align:left\">0</td><td style=\"text-align:left\">1</td><td style=\"text-align:left\">0</td><td style=\"text-align:left\">0.1</td><td style=\"text-align:left\">0</td><td style=\"text-align:left\">64</td><td style=\"text-align:left\">0.11486</td><td style=\"text-align:left\">...</td></tr><tr><td style=\"text-align:left\">501.0004 <b>𝍪</b></td><td style=\"text-align:left\">2.030</td><td style=\"text-align:left\">1.000</td><td style=\"text-align:left\">0</td><td style=\"text-align:left\">17</td><td style=\"text-align:left\">2</td><td style=\"text-align:left\">3</td><td style=\"text-align:left\">0.70711</td><td style=\"text-align:left\">1</td><td style=\"text-align:left\">-1</td><td style=\"text-align:left\">0.02</td><td style=\"text-align:left\">0.02</td><td style=\"text-align:left\">0</td><td style=\"text-align:left\">1</td><td style=\"text-align:left\">0</td><td style=\"text-align:left\">0.1</td><td style=\"text-align:left\">0</td><td style=\"text-align:left\">65</td><td style=\"text-align:left\">0.11486</td><td style=\"text-align:left\">...</td></tr><tr><td style=\"text-align:left\">501.0005 <b>𝍪</b></td><td style=\"text-align:left\">3.030</td><td style=\"text-align:left\">0.500</td><td style=\"text-align:left\">0</td><td style=\"text-align:left\">17</td><td style=\"text-align:left\">2</td><td style=\"text-align:left\">3</td><td style=\"text-align:left\">1</td><td style=\"text-align:left\">1</td><td style=\"text-align:left\">-1</td><td style=\"text-align:left\">0.02</td><td style=\"text-align:left\">0.02</td><td style=\"text-align:left\">0</td><td style=\"text-align:left\">1</td><td style=\"text-align:left\">0</td><td style=\"text-align:left\">0.1</td><td style=\"text-align:left\">0</td><td style=\"text-align:left\">61</td><td style=\"text-align:left\">0.51518</td><td style=\"text-align:left\">...</td></tr><tr><td style=\"text-align:left\">...</td></tr></tbody></table>"
      ],
      "text/plain": [
       "SynthGroup(n=6)\n",
       "    Synth(𝍪 preset:sin:501.0002, p4=0 idataidx_:5=17 inumbps:6=2 ibplen:7=3 igain:8=1 ichan:9=1 ipos:10=-1 ifadein:11=0.02 ifadeout:12=0.02 ipchintrp_:13=0 ifadekind:14=1 ktransp:15=0 klag:16=0.1 p17=0 p18=60 p19=0.114858 p20=0.5 ...)\n",
       "    Synth(𝍪 preset:sin:501.0003, p4=0 idataidx_:5=17 inumbps:6=2 ibplen:7=3 igain:8=0.707107 ichan:9=1 ipos:10=-1 ifadein:11=0.02 ifadeout:12=0.02 ipchintrp_:13=0 ifadekind:14=1 ktransp:15=0 klag:16=0.1 p17=0 p18=64 p19=0.114858 p20=1 ...)\n",
       "    Synth(𝍪 preset:sin:501.0004, p4=0 idataidx_:5=17 inumbps:6=2 ibplen:7=3 igain:8=0.707107 ichan:9=1 ipos:10=-1 ifadein:11=0.02 ifadeout:12=0.02 ipchintrp_:13=0 ifadekind:14=1 ktransp:15=0 klag:16=0.1 p17=0 p18=65 p19=0.114858 p20=1 ...)\n",
       "    Synth(𝍪 preset:sin:501.0005, p4=0 idataidx_:5=17 inumbps:6=2 ibplen:7=3 igain:8=1 ichan:9=1 ipos:10=-1 ifadein:11=0.02 ifadeout:12=0.02 ipchintrp_:13=0 ifadekind:14=1 ktransp:15=0 klag:16=0.1 p17=0 p18=61 p19=0.515178 p20=0.5 ...)\n",
       "    Synth(𝍪 preset:sin:501.0006, p4=0 idataidx_:5=17 inumbps:6=2 ibplen:7=3 igain:8=1 ichan:9=1 ipos:10=-1 ifadein:11=0.02 ifadeout:12=0.02 ipchintrp_:13=0 ifadekind:14=1 ktransp:15=0 klag:16=0.1 p17=0 p18=62 p19=0.515178 p20=0.5 ...)\n",
       "    Synth(𝍪 preset:sin:501.0007, p4=0 idataidx_:5=17 inumbps:6=2 ibplen:7=3 igain:8=1 ichan:9=1 ipos:10=-1 ifadein:11=0.02 ifadeout:12=0.02 ipchintrp_:13=0 ifadekind:14=1 ktransp:15=0 klag:16=0.1 p17=0 p18=67.5 p19=0.515178 p20=0.428571 ...)"
      ]
     },
     "execution_count": 3,
     "metadata": {},
     "output_type": "execute_result"
    }
   ],
   "source": [
    "ch = Chain([\n",
    "    Chain([\n",
    "        \"4C:0.5:p\",\n",
    "        \"4E,4F:1\"\n",
    "    ]),\n",
    "    Chain([\"4C#:0.5:f\", \"4D:0.5\"]),\n",
    "    \"4G+:3/7\"\n",
    "], offset=0.5)\n",
    "ch.play()\n"
   ]
  },
  {
   "cell_type": "code",
   "execution_count": 4,
   "id": "f6ad8bf3-0c25-44b4-93cd-f3013c91fef7",
   "metadata": {},
   "outputs": [
    {
     "data": {
      "text/html": [
       "<code style=\"white-space: pre-line; font-size:0.9em;\">Chain([<span style=\"color:#6666E0\">Chain([4C:0.5♩:symbols=[Slur(kind=start, uuid=42b731hc, linetype=solid)], ‹4E 4F 1♩›])</span>, <span style=\"color:#6666E0\">Chain([4C#:0.5♩, 4D:0.5♩])</span>, <span style=\"color:#6666E0\">4G+:0.429♩:symbols=[Slur(kind=end, uuid=42b731hc, linetype=solid)]</span>], dur=2.929, offset=1/2)</code><br>\n",
       "        <img style=\"display:inline; padding:10px;\n",
       "margin-top:14px;\n",
       "width:387px\"\n",
       "             src=\"data:image/png;base64,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\"/>"
      ],
      "text/plain": [
       "Chain([Chain([4C:0.5♩:symbols=[Slur(kind=start, uuid=42b731hc, linetype=solid)], ‹4E 4F 1♩›]), Chain([4C#:0.5♩, 4D:0.5♩]), 4G+:0.429♩:symbols=[Slur(kind=end, uuid=42b731hc, linetype=solid)]], offset=1/2)"
      ]
     },
     "execution_count": 4,
     "metadata": {},
     "output_type": "execute_result"
    }
   ],
   "source": [
    "ch.addSpanner('slur')\n",
    "ch"
   ]
  },
  {
   "cell_type": "code",
   "execution_count": 5,
   "id": "9131f707-8c7a-4cc1-bbea-fd8e88a0af4b",
   "metadata": {},
   "outputs": [
    {
     "data": {
      "application/vnd.jupyter.widget-view+json": {
       "model_id": "e66720da74bb4798aa8594fbc667e4a2",
       "version_major": 2,
       "version_minor": 0
      },
      "text/plain": [
       "Button(description='Stop', style=ButtonStyle())"
      ]
     },
     "metadata": {},
     "output_type": "display_data"
    },
    {
     "data": {
      "application/vnd.jupyter.widget-view+json": {
       "model_id": "f043aa897f794a198791175e84744323",
       "version_major": 2,
       "version_minor": 0
      },
      "text/plain": [
       "Output()"
      ]
     },
     "metadata": {},
     "output_type": "display_data"
    },
    {
     "data": {
      "text/html": [
       "<small>SynthGroup - start: 1.529, dur: 2.929, synths: 6</small>\n",
       "<p>instr: <strong style=\"color:MediumSeaGreen\">preset:sin</strong> - <b>6</b> synths</p>\n",
       "<table><thead><tr><th style=\"text-align:left\">p1</th><th style=\"text-align:left\">start</th><th style=\"text-align:left\">dur</th><th style=\"text-align:left\">4</th><th style=\"text-align:left\">5:idataidx_</th><th style=\"text-align:left\">6:inumbps</th><th style=\"text-align:left\">7:ibplen</th><th style=\"text-align:left\">8:igain</th><th style=\"text-align:left\">9:ichan</th><th style=\"text-align:left\">10:ipos</th><th style=\"text-align:left\">11:ifadein</th><th style=\"text-align:left\">12:ifadeout</th><th style=\"text-align:left\">13:ipchintrp_</th><th style=\"text-align:left\">14:ifadekind</th><th style=\"text-align:left\">15:ktransp</th><th style=\"text-align:left\">16:klag</th><th style=\"text-align:left\">17</th><th style=\"text-align:left\">18</th><th style=\"text-align:left\">19</th><th style=\"text-align:left\">20</th><th style=\"text-align:left\">...</th></tr></thead><tbody><tr><td style=\"text-align:left\">501.0008 <b>𝍪</b></td><td style=\"text-align:left\">1.529</td><td style=\"text-align:left\">0.500</td><td style=\"text-align:left\">0</td><td style=\"text-align:left\">17</td><td style=\"text-align:left\">2</td><td style=\"text-align:left\">3</td><td style=\"text-align:left\">1</td><td style=\"text-align:left\">1</td><td style=\"text-align:left\">-1</td><td style=\"text-align:left\">0.02</td><td style=\"text-align:left\">0.02</td><td style=\"text-align:left\">0</td><td style=\"text-align:left\">1</td><td style=\"text-align:left\">0</td><td style=\"text-align:left\">0.1</td><td style=\"text-align:left\">0</td><td style=\"text-align:left\">60</td><td style=\"text-align:left\">0.11486</td><td style=\"text-align:left\">...</td></tr><tr><td style=\"text-align:left\">501.0009 <b>𝍪</b></td><td style=\"text-align:left\">2.029</td><td style=\"text-align:left\">1.000</td><td style=\"text-align:left\">0</td><td style=\"text-align:left\">17</td><td style=\"text-align:left\">2</td><td style=\"text-align:left\">3</td><td style=\"text-align:left\">0.70711</td><td style=\"text-align:left\">1</td><td style=\"text-align:left\">-1</td><td style=\"text-align:left\">0.02</td><td style=\"text-align:left\">0.02</td><td style=\"text-align:left\">0</td><td style=\"text-align:left\">1</td><td style=\"text-align:left\">0</td><td style=\"text-align:left\">0.1</td><td style=\"text-align:left\">0</td><td style=\"text-align:left\">64</td><td style=\"text-align:left\">0.11486</td><td style=\"text-align:left\">...</td></tr><tr><td style=\"text-align:left\">501.001 <b>𝍪</b></td><td style=\"text-align:left\">2.029</td><td style=\"text-align:left\">1.000</td><td style=\"text-align:left\">0</td><td style=\"text-align:left\">17</td><td style=\"text-align:left\">2</td><td style=\"text-align:left\">3</td><td style=\"text-align:left\">0.70711</td><td style=\"text-align:left\">1</td><td style=\"text-align:left\">-1</td><td style=\"text-align:left\">0.02</td><td style=\"text-align:left\">0.02</td><td style=\"text-align:left\">0</td><td style=\"text-align:left\">1</td><td style=\"text-align:left\">0</td><td style=\"text-align:left\">0.1</td><td style=\"text-align:left\">0</td><td style=\"text-align:left\">65</td><td style=\"text-align:left\">0.11486</td><td style=\"text-align:left\">...</td></tr><tr><td style=\"text-align:left\">501.0011 <b>𝍪</b></td><td style=\"text-align:left\">3.029</td><td style=\"text-align:left\">0.500</td><td style=\"text-align:left\">0</td><td style=\"text-align:left\">17</td><td style=\"text-align:left\">2</td><td style=\"text-align:left\">3</td><td style=\"text-align:left\">1</td><td style=\"text-align:left\">1</td><td style=\"text-align:left\">-1</td><td style=\"text-align:left\">0.02</td><td style=\"text-align:left\">0.02</td><td style=\"text-align:left\">0</td><td style=\"text-align:left\">1</td><td style=\"text-align:left\">0</td><td style=\"text-align:left\">0.1</td><td style=\"text-align:left\">0</td><td style=\"text-align:left\">61</td><td style=\"text-align:left\">0.51518</td><td style=\"text-align:left\">...</td></tr><tr><td style=\"text-align:left\">...</td></tr></tbody></table>"
      ],
      "text/plain": [
       "SynthGroup(n=6)\n",
       "    Synth(𝍪 preset:sin:501.0008, p4=0 idataidx_:5=17 inumbps:6=2 ibplen:7=3 igain:8=1 ichan:9=1 ipos:10=-1 ifadein:11=0.02 ifadeout:12=0.02 ipchintrp_:13=0 ifadekind:14=1 ktransp:15=0 klag:16=0.1 p17=0 p18=60 p19=0.114858 p20=0.5 ...)\n",
       "    Synth(𝍪 preset:sin:501.0009, p4=0 idataidx_:5=17 inumbps:6=2 ibplen:7=3 igain:8=0.707107 ichan:9=1 ipos:10=-1 ifadein:11=0.02 ifadeout:12=0.02 ipchintrp_:13=0 ifadekind:14=1 ktransp:15=0 klag:16=0.1 p17=0 p18=64 p19=0.114858 p20=1 ...)\n",
       "    Synth(𝍪 preset:sin:501.001, p4=0 idataidx_:5=17 inumbps:6=2 ibplen:7=3 igain:8=0.707107 ichan:9=1 ipos:10=-1 ifadein:11=0.02 ifadeout:12=0.02 ipchintrp_:13=0 ifadekind:14=1 ktransp:15=0 klag:16=0.1 p17=0 p18=65 p19=0.114858 p20=1 ...)\n",
       "    Synth(𝍪 preset:sin:501.0011, p4=0 idataidx_:5=17 inumbps:6=2 ibplen:7=3 igain:8=1 ichan:9=1 ipos:10=-1 ifadein:11=0.02 ifadeout:12=0.02 ipchintrp_:13=0 ifadekind:14=1 ktransp:15=0 klag:16=0.1 p17=0 p18=61 p19=0.515178 p20=0.5 ...)\n",
       "    Synth(𝍪 preset:sin:501.0012, p4=0 idataidx_:5=17 inumbps:6=2 ibplen:7=3 igain:8=1 ichan:9=1 ipos:10=-1 ifadein:11=0.02 ifadeout:12=0.02 ipchintrp_:13=0 ifadekind:14=1 ktransp:15=0 klag:16=0.1 p17=0 p18=62 p19=0.515178 p20=0.5 ...)\n",
       "    Synth(𝍪 preset:sin:501.0013, p4=0 idataidx_:5=17 inumbps:6=2 ibplen:7=3 igain:8=1 ichan:9=1 ipos:10=-1 ifadein:11=0.02 ifadeout:12=0.02 ipchintrp_:13=0 ifadekind:14=1 ktransp:15=0 klag:16=0.1 p17=0 p18=67.5 p19=0.515178 p20=0.428571 ...)"
      ]
     },
     "execution_count": 5,
     "metadata": {},
     "output_type": "execute_result"
    }
   ],
   "source": [
    "ch.play()"
   ]
  },
  {
   "cell_type": "code",
   "execution_count": 5,
   "id": "5ec31db3-42c6-427b-9ab1-3a2365dd8b10",
   "metadata": {},
   "outputs": [
    {
     "data": {
      "text/html": [
       "<code style=\"white-space: pre-line; font-size:0.9em;\">Chain([<span style=\"color:#6666E0\">Chain([4C:0.5♩:symbols=[Slur(kind=start, uuid=42b731hc, linetype=solid), Hairpin(direction=<, kind=start, uuid=vojuuttw)], ‹4E 4F 1♩›])</span>, <span style=\"color:#6666E0\">Chain([4C#:0.5♩, 4D:0.5♩])</span>, <span style=\"color:#6666E0\">4G+:0.429♩:symbols=[Slur(kind=end, uuid=42b731hc, linetype=solid), Hairpin(direction=<, kind=end, uuid=vojuuttw)]</span>], dur=2.929, offset=1/2)</code><br>\n",
       "        <img style=\"display:inline; padding:10px;\n",
       "margin-top:14px;\n",
       "width:387px\"\n",
       "             src=\"data:image/png;base64,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\"/>"
      ],
      "text/plain": [
       "Chain([Chain([4C:0.5♩:symbols=[Slur(kind=start, uuid=42b731hc, linetype=solid), Hairpin(direction=<, kind=start, uuid=vojuuttw)], ‹4E 4F 1♩›]), Chain([4C#:0.5♩, 4D:0.5♩]), 4G+:0.429♩:symbols=[Slur(kind=end, uuid=42b731hc, linetype=solid), Hairpin(direction=<, kind=end, uuid=vojuuttw)]], offset=1/2)"
      ]
     },
     "execution_count": 5,
     "metadata": {},
     "output_type": "execute_result"
    }
   ],
   "source": [
    "items = list(ch.recurse())\n",
    "items[0].dynamic = 'pp'\n",
    "items[0].addSpanner('<', ch[2])\n",
    "ch"
   ]
  },
  {
   "cell_type": "code",
   "execution_count": null,
   "id": "a91c9045-b1e4-4798-b0b0-af668e476416",
   "metadata": {},
   "outputs": [],
   "source": []
  }
 ],
 "metadata": {
  "kernelspec": {
   "display_name": "Python 3 (ipykernel)",
   "language": "python",
   "name": "python3"
  },
  "language_info": {
   "codemirror_mode": {
    "name": "ipython",
    "version": 3
   },
   "file_extension": ".py",
   "mimetype": "text/x-python",
   "name": "python",
   "nbconvert_exporter": "python",
   "pygments_lexer": "ipython3",
   "version": "3.9.15"
  }
 },
 "nbformat": 4,
 "nbformat_minor": 5
}
