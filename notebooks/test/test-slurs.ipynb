{
 "cells": [
  {
   "cell_type": "code",
   "execution_count": 1,
   "id": "2cd07a6f-bea2-42cb-837b-4303d49efd77",
   "metadata": {},
   "outputs": [],
   "source": [
    "from maelzel.core import *\n",
    "logger.parent.setLevel(\"DEBUG\")"
   ]
  },
  {
   "cell_type": "code",
   "execution_count": 2,
   "id": "cf0954fa-052e-46b0-b8db-1a04b23a042e",
   "metadata": {},
   "outputs": [
    {
     "name": "stderr",
     "output_type": "stream",
     "text": [
      "[maelzel.scoring:quant.py:1448:quantizeMeasure:DEBUG] Measure 4/4 is not filled (events=[‹r 0:0.5 1/2♩›, ‹4C 0.5:1 1/2♩ p spanners=[Slur(kind=start, linetype=solid, nestingLevel=1, uuid=50klajnx)]›, ‹[4E 4F] 1:2 1♩›, ‹4C# 2:2.5 1/2♩ f›, ‹4D 2.5:3 1/2♩›, ‹4G+ 3:3.429 3/7♩ spanners=[Slur(kind=end, linetype=solid, nestingLevel=1, uuid=50klajnx)]›]). Filling gaps with silences\n",
      "[maelzel.scoring:renderlily.py:1176:write:DEBUG] Rendering lilypond '/home/em/.cache/tmpfbgtglfj/cb_7aekx.ly' to '/home/em/.cache/tmpfbgtglfj/cb_7aekx.png'\n",
      "[maelzel.scoring:renderlily.py:1192:write:DEBUG] Found crop file '/home/em/.cache/tmpfbgtglfj/cb_7aekx.cropped.png', using that as output\n",
      "[maelzel.scoring:renderlily.py:1202:write:DEBUG] Moving /home/em/.cache/tmpfbgtglfj/cb_7aekx.cropped.png to /home/em/.cache/tmpfbgtglfj/erf3wlki.png\n"
     ]
    },
    {
     "data": {
      "image/png": "[encoded data removed]",
      "text/plain": [
       "<IPython.core.display.Image object>"
      ]
     },
     "metadata": {
      "image/png": {
       "width": 285.75
      }
     },
     "output_type": "display_data"
    },
    {
     "name": "stderr",
     "output_type": "stream",
     "text": [
      "[maelzel.scoring:quant.py:1448:quantizeMeasure:DEBUG] Measure 4/4 is not filled (events=[‹r 0:0.5 1/2♩›, ‹4C 0.5:1 1/2♩ p spanners=[Slur(kind=start, linetype=solid, nestingLevel=1, uuid=50klajnx)]›, ‹[4E 4F] 1:2 1♩›, ‹4C# 2:2.5 1/2♩ f›, ‹4D 2.5:3 1/2♩›, ‹4G+ 3:3.429 3/7♩ spanners=[Slur(kind=end, linetype=solid, nestingLevel=1, uuid=50klajnx)]›]). Filling gaps with silences\n"
     ]
    }
   ],
   "source": [
    "ch = Chain([\n",
    "    Chain([\n",
    "        \"4C:0.5:p\",\n",
    "        \"4E,4F:1\"\n",
    "    ]),\n",
    "    Chain([\"4C#:0.5:f\", \"4D:0.5\"]),\n",
    "    \"4G+:3/7\"\n",
    "], offset=0.5)\n",
    "ch.addSpanner('slur')\n",
    "ch.show()\n",
    "ch.write(\"~/tmp/slurs.ly\")"
   ]
  },
  {
   "cell_type": "code",
   "execution_count": 4,
   "id": "e47ed265-623b-4bd1-9075-03972b2f763c",
   "metadata": {},
   "outputs": [
    {
     "data": {
      "text/plain": [
       "'f'"
      ]
     },
     "execution_count": 4,
     "metadata": {},
     "output_type": "execute_result"
    }
   ],
   "source": [
    "ch.dynamicAt(4)"
   ]
  },
  {
   "cell_type": "code",
   "execution_count": 7,
   "id": "121fc33d-4cc3-48b9-87fc-3b1baceca96f",
   "metadata": {},
   "outputs": [
    {
     "data": {
      "text/plain": [
       "'f'"
      ]
     },
     "execution_count": 7,
     "metadata": {},
     "output_type": "execute_result"
    }
   ],
   "source": [
    "ch2 = ch.flat()\n",
    "ch2[4].resolveDynamic()"
   ]
  },
  {
   "cell_type": "code",
   "execution_count": 8,
   "id": "a91c9045-b1e4-4798-b0b0-af668e476416",
   "metadata": {},
   "outputs": [
    {
     "name": "stderr",
     "output_type": "stream",
     "text": [
      "[maelzel.scoring:quant.py:1448:quantizeMeasure:DEBUG] Measure 4/4 is not filled (events=[‹r 0:0.5 1/2♩›, ‹4C 0.5:1 1/2♩ p spanners=[Slur(kind=start, linetype=solid, nestingLevel=1, uuid=fmspjmko)]›, ‹[4E 4F]gliss 1:2 1♩ spanners=[Hairpin(direction=<, kind=start, nestingLevel=1, uuid=do9kbczi)]›, ‹4G 2:grace spanners=[Slur(kind=start, linetype=solid, nestingLevel=1, uuid=tr1xs4co)]›, ‹4C# 2:3 1♩ f spanners=[Slur(kind=end, linetype=solid, nestingLevel=1, uuid=tr1xs4co), Slur(kind=start, linetype=solid, nestingLevel=1, uuid=eo62v9g5)]›, ‹4D 3:3.5 1/2♩ spanners=[Slur(kind=end, linetype=solid, nestingLevel=1, uuid=fmspjmko)]›, ‹4G+ 3.5:3.929 3/7♩ spanners=[Slur(kind=end, linetype=solid, nestingLevel=1, uuid=eo62v9g5)]›]). Filling gaps with silences\n",
      "[maelzel.scoring:quant.py:1448:quantizeMeasure:DEBUG] Measure 4/4 is not filled (events=[‹r 0:0.5 1/2♩›, ‹4C 0.5:1 1/2♩ p spanners=[Slur(kind=start, linetype=solid, nestingLevel=1, uuid=fmspjmko)]›, ‹[4E 4F]gliss 1:2 1♩ spanners=[Hairpin(direction=<, kind=start, nestingLevel=1, uuid=do9kbczi)]›, ‹4G 2:grace spanners=[Slur(kind=start, linetype=solid, nestingLevel=1, uuid=tr1xs4co)]›, ‹4C# 2:3 1♩ f spanners=[Slur(kind=end, linetype=solid, nestingLevel=1, uuid=tr1xs4co), Slur(kind=start, linetype=solid, nestingLevel=1, uuid=eo62v9g5)]›, ‹4D 3:3.5 1/2♩ spanners=[Slur(kind=end, linetype=solid, nestingLevel=1, uuid=fmspjmko)]›, ‹4G+ 3.5:3.929 3/7♩ spanners=[Slur(kind=end, linetype=solid, nestingLevel=1, uuid=eo62v9g5)]›]). Filling gaps with silences\n",
      "[maelzel.scoring:renderlily.py:1176:write:DEBUG] Rendering lilypond '/home/em/.cache/tmpfbgtglfj/iiy32kwq.ly' to '/home/em/.cache/tmpfbgtglfj/iiy32kwq.png'\n",
      "[maelzel.scoring:renderlily.py:1192:write:DEBUG] Found crop file '/home/em/.cache/tmpfbgtglfj/iiy32kwq.cropped.png', using that as output\n",
      "[maelzel.scoring:renderlily.py:1202:write:DEBUG] Moving /home/em/.cache/tmpfbgtglfj/iiy32kwq.cropped.png to /home/em/.cache/tmpfbgtglfj/umn0gevy.png\n"
     ]
    },
    {
     "data": {
      "text/html": [
       "<code style=\"white-space: pre-line; font-size:0.9em;\">Chain([<span style=\"color:#6666E0\">4C:1/2♩:symbols=[Slur(anchor=4C, kind=start, uuid=fmspjmko)]</span>, <span style=\"color:#6666E0\">‹4E 4F 1♩ gliss›</span>, <span style=\"color:#6666E0\">4G:symbols=[Slur(anchor=4G, kind=start, uuid=tr1xs4co)]</span>, <span style=\"color:#6666E0\">4C♯:1♩:symbols=[Slur(anchor=4C#, kind=start, uuid=eo62v9g5), Slur(anchor=4C#, kind=end, uuid=tr1xs4co)]</span>, <span style=\"color:#6666E0\">4D:1/2♩:symbols=[Slur(anchor=4D, kind=end, uuid=fmspjmko)]</span>, <span style=\"color:#6666E0\">4G+:3/7♩:symbols=[Slur(anchor=4G+, kind=end, uuid=eo62v9g5)]</span>], dur=3.429, offset=0.5)</code><br><br><img style=\"display:inline; padding:10px;\n",
       "margin-top:14px;\n",
       "width:398px\" src=\"data:image/png;base64,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\"/>"
      ],
      "text/plain": [
       "Chain([4C:1/2♩:symbols=[Slur(anchor=4C, kind=start, uuid=fmspjmko)], ‹4E 4F 1♩ gliss›, 4G:symbols=[Slur(anchor=4G, kind=start, uuid=tr1xs4co)], 4C♯:1♩:symbols=[Slur(anchor=4C#, kind=start, uuid=eo62v9g5), Slur(anchor=4C#, kind=end, uuid=tr1xs4co)], 4D:1/2♩:symbols=[Slur(anchor=4D, kind=end, uuid=fmspjmko)], 4G+:3/7♩:symbols=[Slur(anchor=4G+, kind=end, uuid=eo62v9g5)]], offset=1/2)"
      ]
     },
     "execution_count": 8,
     "metadata": {},
     "output_type": "execute_result"
    }
   ],
   "source": [
    "ch = Chain([\n",
    "    \"4C:0.5:p\",\n",
    "    \"4E,4F:1:gliss\",\n",
    "    \"4G:0\",\n",
    "    \"4C#:1:f\", \n",
    "    \"4D:0.5\",\n",
    "    \"4G+:3/7\"\n",
    "], offset=0.5)\n",
    "ch[0].addSpanner('slur', ch[-2])\n",
    "ch[1].addSpanner('<')\n",
    "ch[3].addSpanner('slur', ch[-1])\n",
    "ch[2].addSpanner('slur', ch[3])\n",
    "ch.write(\"~/tmp/nestestslur.ly\")\n",
    "ch\n"
   ]
  },
  {
   "cell_type": "code",
   "execution_count": 9,
   "id": "fce029ef-08ea-4847-8715-38a1eb7d0812",
   "metadata": {},
   "outputs": [
    {
     "name": "stderr",
     "output_type": "stream",
     "text": [
      "[maelzel.scoring:renderlily.py:1176:write:DEBUG] Rendering lilypond '/home/em/.cache/tmpfbgtglfj/l3monyl6.ly' to '/home/em/.cache/tmpfbgtglfj/l3monyl6.png'\n",
      "[maelzel.scoring:renderlily.py:1192:write:DEBUG] Found crop file '/home/em/.cache/tmpfbgtglfj/l3monyl6.cropped.png', using that as output\n",
      "[maelzel.scoring:renderlily.py:1202:write:DEBUG] Moving /home/em/.cache/tmpfbgtglfj/l3monyl6.cropped.png to /home/em/.cache/tmpfbgtglfj/x3o894cx.png\n"
     ]
    },
    {
     "data": {
      "text/html": [
       "<code style=\"white-space: pre-line; font-size:0.9em;\">Chain([<span style=\"color:#6666E0\">4C:1♩:symbols=[Slur(anchor=4C, kind=start, uuid=xh6z1mlr)]</span>, <span style=\"color:#6666E0\">4D:1♩:symbols=[Slur(anchor=4D, kind=start, uuid=o31ev55i)]</span>, <span style=\"color:#6666E0\">4E:1♩:symbols=[Slur(anchor=4E, kind=end, uuid=xh6z1mlr)]</span>, <span style=\"color:#6666E0\">4F:1♩:symbols=[Slur(anchor=4F, kind=end, uuid=o31ev55i)]</span>], dur=4)</code><br><br><img style=\"display:inline; padding:10px;\n",
       "margin-top:14px;\n",
       "width:233px\" src=\"data:image/png;base64,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\"/>"
      ],
      "text/plain": [
       "Chain([4C:1♩:symbols=[Slur(anchor=4C, kind=start, uuid=xh6z1mlr)], 4D:1♩:symbols=[Slur(anchor=4D, kind=start, uuid=o31ev55i)], 4E:1♩:symbols=[Slur(anchor=4E, kind=end, uuid=xh6z1mlr)], 4F:1♩:symbols=[Slur(anchor=4F, kind=end, uuid=o31ev55i)]])"
      ]
     },
     "execution_count": 9,
     "metadata": {},
     "output_type": "execute_result"
    }
   ],
   "source": [
    "from maelzel.core import *\n",
    "\n",
    "ch = Chain(\"\"\"\n",
    "4c:1\n",
    "4d:1\n",
    "4e:1\n",
    "4f:1\n",
    "\"\"\")\n",
    "ch[0].addSpanner('slur', ch[2])\n",
    "ch[1].addSpanner('slur', ch[3])\n",
    "ch"
   ]
  },
  {
   "cell_type": "code",
   "execution_count": 10,
   "id": "05c2286d-11ce-42a2-9178-fbbea20c3a95",
   "metadata": {},
   "outputs": [
    {
     "name": "stderr",
     "output_type": "stream",
     "text": [
      "[maelzel.scoring:renderlily.py:1176:write:DEBUG] Rendering lilypond '/home/em/.cache/tmpfbgtglfj/jknfe32u.ly' to '/home/em/.cache/tmpfbgtglfj/jknfe32u.png'\n",
      "[maelzel.scoring:renderlily.py:1192:write:DEBUG] Found crop file '/home/em/.cache/tmpfbgtglfj/jknfe32u.cropped.png', using that as output\n",
      "[maelzel.scoring:renderlily.py:1202:write:DEBUG] Moving /home/em/.cache/tmpfbgtglfj/jknfe32u.cropped.png to /home/em/.cache/tmpfbgtglfj/65t34tao.png\n"
     ]
    },
    {
     "data": {
      "text/html": [
       "<code style=\"white-space: pre-line; font-size:0.9em;\">Chain([<span style=\"color:#6666E0\">4C:1♩:symbols=[Slur(anchor=4C, kind=start, uuid=xh6z1mlr)]</span>, <span style=\"color:#6666E0\">4D:1♩:symbols=[Slur(anchor=4D, kind=start, uuid=o31ev55i)]</span>, <span style=\"color:#6666E0\">4E:1♩:symbols=[Slur(anchor=4E, kind=end, uuid=xh6z1mlr)]</span>, <span style=\"color:#6666E0\">4F:1♩:symbols=[Slur(anchor=4F, kind=end, uuid=o31ev55i)]</span>], dur=4)</code><br><br><img style=\"display:inline; padding:10px;\n",
       "margin-top:14px;\n",
       "width:252px\" src=\"data:image/png;base64,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\"/>"
      ],
      "text/plain": [
       "Chain([4C:1♩:symbols=[Slur(anchor=4C, kind=start, uuid=xh6z1mlr)], 4D:1♩:symbols=[Slur(anchor=4D, kind=start, uuid=o31ev55i)], 4E:1♩:symbols=[Slur(anchor=4E, kind=end, uuid=xh6z1mlr)], 4F:1♩:symbols=[Slur(anchor=4F, kind=end, uuid=o31ev55i)]])"
      ]
     },
     "execution_count": 10,
     "metadata": {},
     "output_type": "execute_result"
    }
   ],
   "source": [
    "ch.addSpanner(\"slur\", 0.5, 3)\n",
    "ch"
   ]
  },
  {
   "cell_type": "code",
   "execution_count": null,
   "id": "3540f9f0-c88b-47ca-90b8-91841fd45f30",
   "metadata": {},
   "outputs": [],
   "source": []
  }
 ],
 "metadata": {
  "kernelspec": {
   "display_name": "Python 3 (ipykernel)",
   "language": "python",
   "name": "python3"
  },
  "language_info": {
   "codemirror_mode": {
    "name": "ipython",
    "version": 3
   },
   "file_extension": ".py",
   "mimetype": "text/x-python",
   "name": "python",
   "nbconvert_exporter": "python",
   "pygments_lexer": "ipython3",
   "version": "3.12.7"
  }
 },
 "nbformat": 4,
 "nbformat_minor": 5
}
