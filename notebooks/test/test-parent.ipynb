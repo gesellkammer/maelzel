{
 "cells": [
  {
   "cell_type": "code",
   "execution_count": 1,
   "id": "06b682f5-210c-41cb-8c24-3811925bc410",
   "metadata": {},
   "outputs": [],
   "source": [
    "from maelzel.core import *"
   ]
  },
  {
   "cell_type": "code",
   "execution_count": 2,
   "id": "96c7a940-0ef9-4194-8b98-ded40788bae6",
   "metadata": {},
   "outputs": [],
   "source": [
    "struct = ScoreStruct(r'''\n",
    "2/4, 60\n",
    "2/4, 120\n",
    "''')"
   ]
  },
  {
   "cell_type": "code",
   "execution_count": 15,
   "id": "189c99a0-0ea2-413e-bd8a-e38ffc36a2eb",
   "metadata": {},
   "outputs": [],
   "source": [
    "sco = Score(scorestruct=struct)\n",
    "\n",
    "notes = [Note(m, 0.25) for m in range(60, 84)]\n",
    "scale = Chain(notes)\n",
    "sco.append(scale.asVoice())"
   ]
  },
  {
   "cell_type": "code",
   "execution_count": 29,
   "id": "59353acc-feca-4375-8c2e-19ba59b03b13",
   "metadata": {},
   "outputs": [
    {
     "data": {
      "text/html": [
       "<code style=\"font-size:0.9em\">Score(1 voices)</code><br>\n",
       "        <img style=\"display:inline; padding:10px;\n",
       "margin-top:14px;\n",
       "width:519px\"\n",
       "             src=\"data:image/png;base64,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\"/>"
      ],
      "text/plain": [
       "Score(1 voices)"
      ]
     },
     "execution_count": 29,
     "metadata": {},
     "output_type": "execute_result"
    }
   ],
   "source": [
    "sco[0][0].setPlay(instr='saw', gain=0.1)\n",
    "sco[0][3].setPlay(instr='saw', gain=0.1, position=1)\n",
    "sco.setPlay(position=0)"
   ]
  },
  {
   "cell_type": "code",
   "execution_count": 31,
   "id": "1978f15e-e86a-4f3d-b53c-2cf1a560a73a",
   "metadata": {},
   "outputs": [
    {
     "data": {
      "application/vnd.jupyter.widget-view+json": {
       "model_id": "f5469cc566744bc9aae895d04b4c6a2a",
       "version_major": 2,
       "version_minor": 0
      },
      "text/plain": [
       "Button(description='Stop', style=ButtonStyle())"
      ]
     },
     "metadata": {},
     "output_type": "display_data"
    },
    {
     "data": {
      "application/vnd.jupyter.widget-view+json": {
       "model_id": "974c039ef5cb420faef5a3d79820b7d7",
       "version_major": 2,
       "version_minor": 0
      },
      "text/plain": [
       "Output()"
      ]
     },
     "metadata": {},
     "output_type": "display_data"
    },
    {
     "data": {
      "text/html": [
       "<small>SynthGroup - start: 0.057, dur: 4.000, synths: 24</small>\n",
       "<p>instr: <strong style=\"color:MediumSeaGreen\">preset.saw</strong> - <b>2</b> synths</p>\n",
       "<table><thead><tr><th style=\"text-align:left\">p1</th><th style=\"text-align:left\">start</th><th style=\"text-align:left\">dur</th><th style=\"text-align:left\">4</th><th style=\"text-align:left\">5:idataidx_</th><th style=\"text-align:left\">6:inumbps</th><th style=\"text-align:left\">7:ibplen</th><th style=\"text-align:left\">8:igain</th><th style=\"text-align:left\">9:ichan</th><th style=\"text-align:left\">10:ipos</th><th style=\"text-align:left\">11:ifadein</th><th style=\"text-align:left\">12:ifadeout</th><th style=\"text-align:left\">13:ipchintrp_</th><th style=\"text-align:left\">14:ifadekind</th><th style=\"text-align:left\">15:ktransp</th><th style=\"text-align:left\">16:klag</th><th style=\"text-align:left\">17:kfreqratio</th><th style=\"text-align:left\">18:kQ</th><th style=\"text-align:left\">19</th><th style=\"text-align:left\">20</th><th style=\"text-align:left\">21</th><th style=\"text-align:left\">22</th><th style=\"text-align:left\">...</th></tr></thead><tbody><tr><td style=\"text-align:left\">501.0112 <b>𝍪</b></td><td style=\"text-align:left\">0.057</td><td style=\"text-align:left\">0.250</td><td style=\"text-align:left\">0</td><td style=\"text-align:left\">19</td><td style=\"text-align:left\">2</td><td style=\"text-align:left\">3</td><td style=\"text-align:left\">0.1</td><td style=\"text-align:left\">1</td><td style=\"text-align:left\">0</td><td style=\"text-align:left\">0.02</td><td style=\"text-align:left\">0.02</td><td style=\"text-align:left\">0</td><td style=\"text-align:left\">1</td><td style=\"text-align:left\">0</td><td style=\"text-align:left\">0.1</td><td style=\"text-align:left\">0</td><td style=\"text-align:left\">3</td><td style=\"text-align:left\">0</td><td style=\"text-align:left\">60</td><td style=\"text-align:left\">0.51518</td><td style=\"text-align:left\">...</td></tr><tr><td style=\"text-align:left\">501.0113 <b>𝍪</b></td><td style=\"text-align:left\">0.807</td><td style=\"text-align:left\">0.250</td><td style=\"text-align:left\">0</td><td style=\"text-align:left\">19</td><td style=\"text-align:left\">2</td><td style=\"text-align:left\">3</td><td style=\"text-align:left\">0.1</td><td style=\"text-align:left\">1</td><td style=\"text-align:left\">1</td><td style=\"text-align:left\">0.02</td><td style=\"text-align:left\">0.02</td><td style=\"text-align:left\">0</td><td style=\"text-align:left\">1</td><td style=\"text-align:left\">0</td><td style=\"text-align:left\">0.1</td><td style=\"text-align:left\">0</td><td style=\"text-align:left\">3</td><td style=\"text-align:left\">0</td><td style=\"text-align:left\">63</td><td style=\"text-align:left\">0.51518</td><td style=\"text-align:left\">...</td></tr></tbody></table>\n",
       "<p>instr: <strong style=\"color:MediumSeaGreen\">preset._piano</strong> - <b>22</b> synths</p>\n",
       "<table><thead><tr><th style=\"text-align:left\">p1</th><th style=\"text-align:left\">start</th><th style=\"text-align:left\">dur</th><th style=\"text-align:left\">4</th><th style=\"text-align:left\">5:idataidx_</th><th style=\"text-align:left\">6:inumbps</th><th style=\"text-align:left\">7:ibplen</th><th style=\"text-align:left\">8:igain</th><th style=\"text-align:left\">9:ichan</th><th style=\"text-align:left\">10:ipos</th><th style=\"text-align:left\">11:ifadein</th><th style=\"text-align:left\">12:ifadeout</th><th style=\"text-align:left\">13:ipchintrp_</th><th style=\"text-align:left\">14:ifadekind</th><th style=\"text-align:left\">15</th><th style=\"text-align:left\">16</th><th style=\"text-align:left\">...</th></tr></thead><tbody><tr><td style=\"text-align:left\">502.0252 <b>𝍪</b></td><td style=\"text-align:left\">0.307</td><td style=\"text-align:left\">0.250</td><td style=\"text-align:left\">0</td><td style=\"text-align:left\">15</td><td style=\"text-align:left\">2</td><td style=\"text-align:left\">3</td><td style=\"text-align:left\">1</td><td style=\"text-align:left\">1</td><td style=\"text-align:left\">0</td><td style=\"text-align:left\">0.02</td><td style=\"text-align:left\">0.02</td><td style=\"text-align:left\">0</td><td style=\"text-align:left\">1</td><td style=\"text-align:left\">0</td><td style=\"text-align:left\">...</td></tr><tr><td style=\"text-align:left\">502.0253 <b>𝍪</b></td><td style=\"text-align:left\">0.557</td><td style=\"text-align:left\">0.250</td><td style=\"text-align:left\">0</td><td style=\"text-align:left\">15</td><td style=\"text-align:left\">2</td><td style=\"text-align:left\">3</td><td style=\"text-align:left\">1</td><td style=\"text-align:left\">1</td><td style=\"text-align:left\">0</td><td style=\"text-align:left\">0.02</td><td style=\"text-align:left\">0.02</td><td style=\"text-align:left\">0</td><td style=\"text-align:left\">1</td><td style=\"text-align:left\">0</td><td style=\"text-align:left\">...</td></tr><tr><td style=\"text-align:left\">502.0254 <b>𝍪</b></td><td style=\"text-align:left\">1.057</td><td style=\"text-align:left\">0.250</td><td style=\"text-align:left\">0</td><td style=\"text-align:left\">15</td><td style=\"text-align:left\">2</td><td style=\"text-align:left\">3</td><td style=\"text-align:left\">1</td><td style=\"text-align:left\">1</td><td style=\"text-align:left\">0</td><td style=\"text-align:left\">0.02</td><td style=\"text-align:left\">0.02</td><td style=\"text-align:left\">0</td><td style=\"text-align:left\">1</td><td style=\"text-align:left\">0</td><td style=\"text-align:left\">...</td></tr><tr><td style=\"text-align:left\">502.0255 <b>𝍪</b></td><td style=\"text-align:left\">1.307</td><td style=\"text-align:left\">0.250</td><td style=\"text-align:left\">0</td><td style=\"text-align:left\">15</td><td style=\"text-align:left\">2</td><td style=\"text-align:left\">3</td><td style=\"text-align:left\">1</td><td style=\"text-align:left\">1</td><td style=\"text-align:left\">0</td><td style=\"text-align:left\">0.02</td><td style=\"text-align:left\">0.02</td><td style=\"text-align:left\">0</td><td style=\"text-align:left\">1</td><td style=\"text-align:left\">0</td><td style=\"text-align:left\">...</td></tr><tr><td style=\"text-align:left\">...</td></tr></tbody></table>"
      ],
      "text/plain": [
       "SynthGroup(n=24)\n",
       "    Synth(𝍪 preset.saw:501.0112, p4=0 idataidx_:5=19 inumbps:6=2 ibplen:7=3 igain:8=0.1 ichan:9=1 ipos:10=0 ifadein:11=0.02 ifadeout:12=0.02 ipchintrp_:13=0 ifadekind:14=1 ktransp:15=0 klag:16=0.1 kfreqratio:17=0 kQ:18=3 p19=0 p20=60 p21=0.515178 p22=0.25 ...)\n",
       "    Synth(𝍪 preset._piano:502.0252, p4=0 idataidx_:5=15 inumbps:6=2 ibplen:7=3 igain:8=1 ichan:9=1 ipos:10=0 ifadein:11=0.02 ifadeout:12=0.02 ipchintrp_:13=0 ifadekind:14=1 p15=0 p16=61 ...)\n",
       "    Synth(𝍪 preset._piano:502.0253, p4=0 idataidx_:5=15 inumbps:6=2 ibplen:7=3 igain:8=1 ichan:9=1 ipos:10=0 ifadein:11=0.02 ifadeout:12=0.02 ipchintrp_:13=0 ifadekind:14=1 p15=0 p16=62 ...)\n",
       "    Synth(𝍪 preset.saw:501.0113, p4=0 idataidx_:5=19 inumbps:6=2 ibplen:7=3 igain:8=0.1 ichan:9=1 ipos:10=1 ifadein:11=0.02 ifadeout:12=0.02 ipchintrp_:13=0 ifadekind:14=1 ktransp:15=0 klag:16=0.1 kfreqratio:17=0 kQ:18=3 p19=0 p20=63 p21=0.515178 p22=0.25 ...)\n",
       "    Synth(𝍪 preset._piano:502.0254, p4=0 idataidx_:5=15 inumbps:6=2 ibplen:7=3 igain:8=1 ichan:9=1 ipos:10=0 ifadein:11=0.02 ifadeout:12=0.02 ipchintrp_:13=0 ifadekind:14=1 p15=0 p16=64 ...)\n",
       "    Synth(𝍪 preset._piano:502.0255, p4=0 idataidx_:5=15 inumbps:6=2 ibplen:7=3 igain:8=1 ichan:9=1 ipos:10=0 ifadein:11=0.02 ifadeout:12=0.02 ipchintrp_:13=0 ifadekind:14=1 p15=0 p16=65 ...)\n",
       "    Synth(𝍪 preset._piano:502.0256, p4=0 idataidx_:5=15 inumbps:6=2 ibplen:7=3 igain:8=1 ichan:9=1 ipos:10=0 ifadein:11=0.02 ifadeout:12=0.02 ipchintrp_:13=0 ifadekind:14=1 p15=0 p16=66 ...)\n",
       "    Synth(𝍪 preset._piano:502.0257, p4=0 idataidx_:5=15 inumbps:6=2 ibplen:7=3 igain:8=1 ichan:9=1 ipos:10=0 ifadein:11=0.02 ifadeout:12=0.02 ipchintrp_:13=0 ifadekind:14=1 p15=0 p16=67 ...)\n",
       "    Synth(𝍪 preset._piano:502.0258, p4=0 idataidx_:5=15 inumbps:6=2 ibplen:7=3 igain:8=1 ichan:9=1 ipos:10=0 ifadein:11=0.02 ifadeout:12=0.02 ipchintrp_:13=0 ifadekind:14=1 p15=0 p16=68 ...)\n",
       "    Synth(𝍪 preset._piano:502.0259, p4=0 idataidx_:5=15 inumbps:6=2 ibplen:7=3 igain:8=1 ichan:9=1 ipos:10=0 ifadein:11=0.02 ifadeout:12=0.02 ipchintrp_:13=0 ifadekind:14=1 p15=0 p16=69 ...)\n",
       "    Synth(𝍪 preset._piano:502.026, p4=0 idataidx_:5=15 inumbps:6=2 ibplen:7=3 igain:8=1 ichan:9=1 ipos:10=0 ifadein:11=0.02 ifadeout:12=0.02 ipchintrp_:13=0 ifadekind:14=1 p15=0 p16=70 ...)\n",
       "    Synth(𝍪 preset._piano:502.0261, p4=0 idataidx_:5=15 inumbps:6=2 ibplen:7=3 igain:8=1 ichan:9=1 ipos:10=0 ifadein:11=0.02 ifadeout:12=0.02 ipchintrp_:13=0 ifadekind:14=1 p15=0 p16=71 ...)\n",
       "    Synth(𝍪 preset._piano:502.0262, p4=0 idataidx_:5=15 inumbps:6=2 ibplen:7=3 igain:8=1 ichan:9=1 ipos:10=0 ifadein:11=0.02 ifadeout:12=0.02 ipchintrp_:13=0 ifadekind:14=1 p15=0 p16=72 ...)\n",
       "    Synth(𝍪 preset._piano:502.0263, p4=0 idataidx_:5=15 inumbps:6=2 ibplen:7=3 igain:8=1 ichan:9=1 ipos:10=0 ifadein:11=0.02 ifadeout:12=0.02 ipchintrp_:13=0 ifadekind:14=1 p15=0 p16=73 ...)\n",
       "    Synth(𝍪 preset._piano:502.0264, p4=0 idataidx_:5=15 inumbps:6=2 ibplen:7=3 igain:8=1 ichan:9=1 ipos:10=0 ifadein:11=0.02 ifadeout:12=0.02 ipchintrp_:13=0 ifadekind:14=1 p15=0 p16=74 ...)\n",
       "    Synth(𝍪 preset._piano:502.0265, p4=0 idataidx_:5=15 inumbps:6=2 ibplen:7=3 igain:8=1 ichan:9=1 ipos:10=0 ifadein:11=0.02 ifadeout:12=0.02 ipchintrp_:13=0 ifadekind:14=1 p15=0 p16=75 ...)\n",
       "    Synth(𝍪 preset._piano:502.0266, p4=0 idataidx_:5=15 inumbps:6=2 ibplen:7=3 igain:8=1 ichan:9=1 ipos:10=0 ifadein:11=0.02 ifadeout:12=0.02 ipchintrp_:13=0 ifadekind:14=1 p15=0 p16=76 ...)\n",
       "    Synth(𝍪 preset._piano:502.0267, p4=0 idataidx_:5=15 inumbps:6=2 ibplen:7=3 igain:8=1 ichan:9=1 ipos:10=0 ifadein:11=0.02 ifadeout:12=0.02 ipchintrp_:13=0 ifadekind:14=1 p15=0 p16=77 ...)\n",
       "    Synth(𝍪 preset._piano:502.0268, p4=0 idataidx_:5=15 inumbps:6=2 ibplen:7=3 igain:8=1 ichan:9=1 ipos:10=0 ifadein:11=0.02 ifadeout:12=0.02 ipchintrp_:13=0 ifadekind:14=1 p15=0 p16=78 ...)\n",
       "    Synth(𝍪 preset._piano:502.0269, p4=0 idataidx_:5=15 inumbps:6=2 ibplen:7=3 igain:8=1 ichan:9=1 ipos:10=0 ifadein:11=0.02 ifadeout:12=0.02 ipchintrp_:13=0 ifadekind:14=1 p15=0 p16=79 ...)\n",
       "    Synth(𝍪 preset._piano:502.027, p4=0 idataidx_:5=15 inumbps:6=2 ibplen:7=3 igain:8=1 ichan:9=1 ipos:10=0 ifadein:11=0.02 ifadeout:12=0.02 ipchintrp_:13=0 ifadekind:14=1 p15=0 p16=80 ...)\n",
       "    Synth(𝍪 preset._piano:502.0271, p4=0 idataidx_:5=15 inumbps:6=2 ibplen:7=3 igain:8=1 ichan:9=1 ipos:10=0 ifadein:11=0.02 ifadeout:12=0.02 ipchintrp_:13=0 ifadekind:14=1 p15=0 p16=81 ...)\n",
       "    Synth(𝍪 preset._piano:502.0272, p4=0 idataidx_:5=15 inumbps:6=2 ibplen:7=3 igain:8=1 ichan:9=1 ipos:10=0 ifadein:11=0.02 ifadeout:12=0.02 ipchintrp_:13=0 ifadekind:14=1 p15=0 p16=82 ...)\n",
       "    Synth(𝍪 preset._piano:502.0273, p4=0 idataidx_:5=15 inumbps:6=2 ibplen:7=3 igain:8=1 ichan:9=1 ipos:10=0 ifadein:11=0.02 ifadeout:12=0.02 ipchintrp_:13=0 ifadekind:14=1 p15=0 p16=83 ...)"
      ]
     },
     "execution_count": 31,
     "metadata": {},
     "output_type": "execute_result"
    }
   ],
   "source": [
    "sco.play()"
   ]
  },
  {
   "cell_type": "code",
   "execution_count": null,
   "id": "c34f8a37-e279-43b3-b561-38d593675bca",
   "metadata": {},
   "outputs": [],
   "source": []
  }
 ],
 "metadata": {
  "kernelspec": {
   "display_name": "Python 3 (ipykernel)",
   "language": "python",
   "name": "python3"
  },
  "language_info": {
   "codemirror_mode": {
    "name": "ipython",
    "version": 3
   },
   "file_extension": ".py",
   "mimetype": "text/x-python",
   "name": "python",
   "nbconvert_exporter": "python",
   "pygments_lexer": "ipython3",
   "version": "3.9.15"
  }
 },
 "nbformat": 4,
 "nbformat_minor": 5
}
