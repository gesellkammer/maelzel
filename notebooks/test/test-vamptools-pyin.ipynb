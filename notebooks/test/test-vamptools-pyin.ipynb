{
 "cells": [
  {
   "cell_type": "code",
   "execution_count": 1,
   "id": "3d2406e2-24db-4456-930d-8c9db8735880",
   "metadata": {},
   "outputs": [
    {
     "name": "stderr",
     "output_type": "stream",
     "text": [
      "WARNING: Csound 7 support is experimental. Proceed at yout own risk\n"
     ]
    }
   ],
   "source": [
    "from maelzel.snd import vamptools\n",
    "from maelzel.snd import audiosample\n",
    "from maelzel.snd import deverb\n",
    "import pitchtools as pt\n",
    "import matplotlib.pyplot as plt\n",
    "import sndfileio\n",
    "from math import nan"
   ]
  },
  {
   "cell_type": "code",
   "execution_count": 2,
   "id": "5119d97c-4541-44b2-ab3e-d5d6da3f8d8a",
   "metadata": {},
   "outputs": [],
   "source": [
    "samples, sr = sndfileio.sndread(\"../snd/piano-pitchtest-Cmaj.flac\")\n",
    "samples2 = deverb.removeSustain(samples, sr)"
   ]
  },
  {
   "cell_type": "code",
   "execution_count": 7,
   "id": "ac2997b7-7b13-4602-bbc1-cd0056d12b16",
   "metadata": {},
   "outputs": [
    {
     "name": "stderr",
     "output_type": "stream",
     "text": [
      "mnOut size: 1789\n",
      "m_pitchTrack size: 1789\n"
     ]
    }
   ],
   "source": [
    "r = vamptools.pyin(samples2, sr, overlap=8, voicedThresholdPercentile=0.05, onsetSensitivity=0.1, threshDistr='beta15', lowAmpSuppressionDb=-70, preciseTime=True, maxRelativeSkew=0.1, rmsPeriod=0.020, minRmsPercentile=0.01)"
   ]
  },
  {
   "cell_type": "code",
   "execution_count": 8,
   "id": "cf54baa8-9aa6-4167-99d3-541f3afe79da",
   "metadata": {},
   "outputs": [
    {
     "data": {
      "text/plain": [
       "<Axes: >"
      ]
     },
     "execution_count": 8,
     "metadata": {},
     "output_type": "execute_result"
    }
   ],
   "source": [
    "%matplotlib qt \n",
    "import matplotlib.pyplot as plt\n",
    "axes = audiosample.Sample(samples, sr).plotSpectrogram(maxfreq=6000)\n",
    "#(r.voicedProbabilityCurve * 6000).plot(axes=axes)\n",
    "# r.f0curve.plot(axes=axes, linewidth=2, color='#ffff00', show=False)\n",
    "c = r.smoothPitchCurveNan * (r.numCandidates > 0).nanmask()\n",
    "c.plot(axes=axes, show=False, n=10000)\n",
    "# r.smoothPitchCurveNan.plot(axes=axes, linewidth=2, color='#00ffff', show=False, n=10000)\n",
    "# (r.smoothPitchCurve*2).plot(axes=axes, linewidth=2, color='#ffff00', show=False, n=1000)\n",
    "# r.f0curve.plot(axes=axes, show=False)\n",
    "# (r.voicedProbabilityCurve*10000).plot(axes=axes, show=False, n=10000)\n",
    "# (r.numCandidates * 1000).plot(axes=axes, show=False, n=1000)"
   ]
  },
  {
   "cell_type": "code",
   "execution_count": 9,
   "id": "09dac2d2-f11e-491e-8bf9-95e4f83b80c2",
   "metadata": {},
   "outputs": [
    {
     "name": "stdout",
     "output_type": "stream",
     "text": [
      "Linear[0.02322:1.26322] 6\n",
      "Linear[1.29322:2.42322] 6\n",
      "Linear[2.49322:4.87322] 24\n",
      "Linear[5.26322:6.58322] 4\n",
      "Linear[6.61322:7.12322] 2\n",
      "Linear[7.51322:8.06322] 9\n",
      "Linear[8.31322:8.71322] 6\n",
      "Linear[8.78322:9.03322] 5\n",
      "Linear[9.09322:9.33322] 4\n",
      "Linear[9.36322:9.57322] 6\n",
      "Linear[9.63322:9.85322] 4\n",
      "Linear[9.88322:10.3832] 11\n"
     ]
    }
   ],
   "source": [
    "parts = [b.aslinear().simplify(threshold=0.1) for b in c[::0.01].split()]\n",
    "axes = plt.subplot()\n",
    "for part in parts:\n",
    "    print(part, len(part.points()[0]))\n",
    "    part.plot(axes=axes, show=False)\n",
    "plt.show()\n"
   ]
  },
  {
   "cell_type": "code",
   "execution_count": 10,
   "id": "a528cc8b-3fe4-42ac-bd8a-7f61e8c3536f",
   "metadata": {},
   "outputs": [
    {
     "name": "stderr",
     "output_type": "stream",
     "text": [
      "--Csound version 7.0 (double samples) Feb 25 2025\n",
      "[commit: 2d7b783a0ed4e67b6764d69cfb29edefdaea8826]\n",
      "\u001b[mlibsndfile-1.2.2\n",
      "\u001b[msr = 48000.0,\u001b[m kr = 750.000,\u001b[m ksmps = 64\n",
      "\u001b[m0dBFS level = 1.0,\u001b[m A4 tuning = 440.0\n",
      "\u001b[maudio buffered in 256 sample-frame blocks\n",
      "\u001b[mreading 2048-byte blks of shorts from adc:Built-in Audio Analog Stereo: (RAW)\n",
      "writing 512 sample blks of 64-bit floats to dac:Built-in Audio Analog Stereo:\n",
      "SECTION 1:\n",
      "\u001b[m"
     ]
    }
   ],
   "source": [
    "import csoundengine as ce\n",
    "session = ce.Session()"
   ]
  },
  {
   "cell_type": "code",
   "execution_count": 11,
   "id": "d697c3af-a425-4354-9a09-b091fa7a24b0",
   "metadata": {},
   "outputs": [],
   "source": [
    "session.defInstr('vco', r'''\n",
    "|kamp=0.1, kfreq=1000, iatt=0.005, irel=0.1, isust=0.7|\n",
    "kgain = kfreq > 100 ? 1 : 0\n",
    "kgain = lagud:k(kgain, 0.050, 0.100)\n",
    "aenv = linsegr:a(0, iatt, 1, 0.010, isust, irel, 0)\n",
    "outch 1, vco2:a(kamp, kfreq) * interp(kgain) * aenv\n",
    "''')\n",
    "\n",
    "def schedbpf(bpf, session):\n",
    "    freqpairs = bpf.flatpairs()\n",
    "    freqpairs[::2] -= bpf.x0\n",
    "    synth = session.sched('vco', delay=bpf.x0, dur=bpf.x1 - bpf.x0, kfreq=freqpairs[1]) \n",
    "    synth.automate('kfreq', freqpairs, delay=bpf.x0)\n",
    "    return synth"
   ]
  },
  {
   "cell_type": "code",
   "execution_count": 19,
   "id": "ea9f4b78-5943-4568-9957-2db1faeef41c",
   "metadata": {},
   "outputs": [
    {
     "data": {
      "text/plain": [
       "<Axes: >"
      ]
     },
     "execution_count": 19,
     "metadata": {},
     "output_type": "execute_result"
    }
   ],
   "source": [
    "c = r.smoothPitchCurveNan * (r.voicedProbabilityCurve > 0.01)\n",
    "c.plot(n=1000)"
   ]
  },
  {
   "cell_type": "code",
   "execution_count": 16,
   "id": "76107af5-ebd6-43c0-853c-17e1265e11fe",
   "metadata": {},
   "outputs": [],
   "source": [
    "import bpf4\n",
    "parts = bpf4.util.split_fragments(r.f0curve)\n",
    "# parts = split_fragments(r.smoothPitchCurveNan)\n",
    "\n",
    "with session:\n",
    "    for part in parts:\n",
    "        s = schedbpf(part, session=session)"
   ]
  },
  {
   "cell_type": "code",
   "execution_count": null,
   "id": "e20d8b44-eb2b-4a25-9c91-1590d0443012",
   "metadata": {},
   "outputs": [],
   "source": []
  }
 ],
 "metadata": {
  "kernelspec": {
   "display_name": "Python 3 (ipykernel)",
   "language": "python",
   "name": "python3"
  },
  "language_info": {
   "codemirror_mode": {
    "name": "ipython",
    "version": 3
   },
   "file_extension": ".py",
   "mimetype": "text/x-python",
   "name": "python",
   "nbconvert_exporter": "python",
   "pygments_lexer": "ipython3",
   "version": "3.12.3"
  }
 },
 "nbformat": 4,
 "nbformat_minor": 5
}
