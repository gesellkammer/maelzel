{
 "cells": [
  {
   "cell_type": "code",
   "execution_count": 1,
   "id": "427954c5-fec0-42b4-8298-6717c99e4115",
   "metadata": {},
   "outputs": [],
   "source": [
    "from maelzel import *"
   ]
  },
  {
   "cell_type": "code",
   "execution_count": null,
   "id": "bd5a86a4-4249-46c1-85a9-10ea168e99c7",
   "metadata": {},
   "outputs": [],
   "source": []
  }
 ],
 "metadata": {
  "kernelspec": {
   "display_name": "Python 3 (ipykernel)",
   "language": "python",
   "name": "python3"
  },
  "language_info": {
   "codemirror_mode": {
    "name": "ipython",
    "version": 3
   },
   "file_extension": ".py",
   "mimetype": "text/x-python",
   "name": "python",
   "nbconvert_exporter": "python",
   "pygments_lexer": "ipython3",
   "version": "3.12.3"
  }
 },
 "nbformat": 4,
 "nbformat_minor": 5
}
