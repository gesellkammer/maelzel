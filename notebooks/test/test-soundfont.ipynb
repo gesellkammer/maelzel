{
 "cells": [
  {
   "cell_type": "code",
   "execution_count": 1,
   "id": "427954c5-fec0-42b4-8298-6717c99e4115",
   "metadata": {},
   "outputs": [],
   "source": [
    "from maelzel.core import *"
   ]
  },
  {
   "cell_type": "code",
   "execution_count": 2,
   "id": "bd5a86a4-4249-46c1-85a9-10ea168e99c7",
   "metadata": {},
   "outputs": [
    {
     "data": {
      "text/html": [
       "Preset: <b>flute-non-vib</b>\n",
       "<br>\n",
       "<code style=\"font-size: 90%\">  <span style=\"color:#A0A0A0;font-size:96%\">(routing=True, properties={'sfpath': '/home/em/Lib/snd/sf2/Flute--non-vib.sf2', 'ampDivisor': 0}, numouts=2, numsignals=2)\n",
       "</span></code>\n",
       "<span style=\"font-size:96%\"><strong>init</strong></span><br>\n",
       "<span style=\"font-size:90%\"><div class=\"highlight\" style=\"background: #f8f8f8\"><pre style=\"line-height: 125%;\"><span></span><code><span style=\"color: #BBB\">  </span><span style=\"color: #B00040\">i</span>__SfTable__<span style=\"color: #BBB\"> </span>sfloadonce<span style=\"color: #BBB\"> </span><span style=\"color: #BA2121\">&quot;/home/em/Lib/snd/sf2/Flute--non-vib.sf2&quot;</span>\n",
       "</code></pre></div>\n",
       "</span>\n",
       "<span style=\"font-size:96%\"><strong>code</strong></span><br>\n",
       "<span style=\"font-size:90%\"><pre>  |<span style=\"color:#cccc00\">ktransp</span><span style=\"color:#A0A0A0\"><i>@transpose</i></span>=<span style=\"color:#6666E0\">0.0</span>, <span style=\"color:#cccc00\">ipitchlag</span>=<span style=\"color:#6666E0\">0.1</span>, <span style=\"color:#cccc00\">ivel</span>=<span style=\"color:#6666E0\">-1</span>, <span style=\"color:#cccc00\">kwet</span>=<span style=\"color:#6666E0\">0.0</span>|</pre></span>\n",
       "<span style=\"font-size:90%\"><div class=\"highlight\" style=\"background: #f8f8f8\"><pre style=\"line-height: 125%;\"><span></span><code><span style=\"color: #BBB\">  </span><span style=\"color: #B00040\">i</span>presetidx<span style=\"color: #BBB\"> </span>sfpresetindex<span style=\"color: #BBB\"> </span><span style=\"color: #BA2121\">&quot;/home/em/Lib/snd/sf2/Flute--non-vib.sf2&quot;</span>,<span style=\"color: #BBB\"> </span><span style=\"color: #666\">0</span>,<span style=\"color: #BBB\"> </span><span style=\"color: #666\">0</span>\n",
       "<span style=\"color: #BBB\">  </span><span style=\"color: #B00040\">i</span>amp0_<span style=\"color: #BBB\"> </span><span style=\"color: #666\">=</span><span style=\"color: #BBB\"> </span><span style=\"color: #008000\">p</span>(<span style=\"color: #B00040\">i</span>dataidx_<span style=\"color: #BBB\"> </span><span style=\"color: #666\">+</span><span style=\"color: #BBB\"> </span><span style=\"color: #666\">2</span>)\n",
       "<span style=\"color: #BBB\">  </span><span style=\"color: #B00040\">i</span>note0_<span style=\"color: #BBB\"> </span><span style=\"color: #666\">=</span><span style=\"color: #BBB\"> </span><span style=\"color: #008000\">round</span>(<span style=\"color: #008000\">p</span>(<span style=\"color: #B00040\">i</span>dataidx_<span style=\"color: #BBB\"> </span><span style=\"color: #666\">+</span><span style=\"color: #BBB\"> </span><span style=\"color: #666\">1</span>))\n",
       "<span style=\"color: #BBB\">  </span><span style=\"color: #B00040\">k</span>pitch2<span style=\"color: #BBB\"> </span><span style=\"color: #666\">=</span><span style=\"color: #BBB\"> </span><span style=\"color: #008000\">lag</span>:<span style=\"color: #B00040\">k</span>(<span style=\"color: #B00040\">k</span>pitch<span style=\"color: #BBB\"> </span><span style=\"color: #666\">+</span><span style=\"color: #BBB\"> </span><span style=\"color: #B00040\">k</span>transp,<span style=\"color: #BBB\"> </span><span style=\"color: #B00040\">i</span>pitchlag)\n",
       "<span style=\"color: #BBB\">  </span><span style=\"color: #B00040\">i</span>ampdiv_<span style=\"color: #BBB\"> </span><span style=\"color: #666\">=</span><span style=\"color: #BBB\"> </span><span style=\"color: #666\">16384</span>\n",
       "<span style=\"color: #BBB\">  </span><span style=\"color: #008000; font-weight: bold\">if</span><span style=\"color: #BBB\"> </span><span style=\"color: #B00040\">i</span>vel<span style=\"color: #BBB\"> </span><span style=\"color: #666\">&lt;</span><span style=\"color: #BBB\"> </span><span style=\"color: #666\">0</span><span style=\"color: #BBB\"> </span><span style=\"color: #008000; font-weight: bold\">then</span>\n",
       "<span style=\"color: #BBB\">      </span><span style=\"color: #B00040\">i</span>vel<span style=\"color: #BBB\"> </span>_linexp<span style=\"color: #BBB\"> </span><span style=\"color: #008000\">dbamp</span>(<span style=\"color: #B00040\">i</span>amp0_),<span style=\"color: #BBB\"> </span><span style=\"color: #666\">2.6</span>,<span style=\"color: #BBB\"> </span><span style=\"color: #666\">-72</span>,<span style=\"color: #BBB\"> </span><span style=\"color: #666\">0</span>,<span style=\"color: #BBB\"> </span><span style=\"color: #666\">1</span>,<span style=\"color: #BBB\"> </span><span style=\"color: #666\">127</span>\n",
       "<span style=\"color: #BBB\">  </span><span style=\"color: #008000; font-weight: bold\">endif</span>\n",
       "<span style=\"color: #BBB\">  </span><span style=\"color: #B00040\">a</span>out1,<span style=\"color: #BBB\"> </span><span style=\"color: #B00040\">a</span>out2<span style=\"color: #BBB\"> </span><span style=\"color: #008000\">sfplay</span><span style=\"color: #BBB\"> </span><span style=\"color: #B00040\">i</span>vel,<span style=\"color: #BBB\"> </span><span style=\"color: #B00040\">i</span>note0_,<span style=\"color: #BBB\"> </span><span style=\"color: #B00040\">k</span>amp<span style=\"color: #666\">/</span><span style=\"color: #B00040\">i</span>ampdiv_,<span style=\"color: #BBB\"> </span><span style=\"color: #008000\">mtof</span>:<span style=\"color: #B00040\">k</span>(<span style=\"color: #B00040\">k</span>pitch2),<span style=\"color: #BBB\"> </span><span style=\"color: #B00040\">i</span>presetidx,<span style=\"color: #BBB\"> </span><span style=\"color: #666\">1</span>\n",
       "</code></pre></div>\n",
       "</span>\n",
       "<span style=\"font-size:96%\"><strong>epilogue</strong></span><br>\n",
       "<span style=\"font-size:90%\"><div class=\"highlight\" style=\"background: #f8f8f8\"><pre style=\"line-height: 125%;\"><span></span><code><span style=\"color: #BBB\">  </span>turnoffWhenSilent<span style=\"color: #BBB\"> </span><span style=\"color: #B00040\">a</span>out1\n",
       "</code></pre></div>\n",
       "</span>"
      ],
      "text/plain": [
       "Preset: flute-non-vib  \n",
       "    routing=True, properties={'sfpath': '/home/em/Lib/snd/sf2/Flute--non-vib.sf2', 'ampDivisor': 0}\n",
       "  init: i__SfTable__ sfloadonce \"/home/em/Lib/snd/sf2/Flute--non-vib.sf2\"\n",
       "  |ktransp=0.0, ipitchlag=0.1, ivel=-1, kwet=0.0|\n",
       "  ipresetidx sfpresetindex \"/home/em/Lib/snd/sf2/Flute--non-vib.sf2\", 0, 0\n",
       "  iamp0_ = p(idataidx_ + 2)\n",
       "  inote0_ = round(p(idataidx_ + 1))\n",
       "  kpitch2 = lag:k(kpitch + ktransp, ipitchlag)\n",
       "  iampdiv_ = 16384\n",
       "  if ivel < 0 then\n",
       "      ivel _linexp dbamp(iamp0_), 2.6, -72, 0, 1, 127\n",
       "  endif\n",
       "  aout1, aout2 sfplay ivel, inote0_, kamp/iampdiv_, mtof:k(kpitch2), ipresetidx, 1\n",
       "  epilogue:\n",
       "    turnoffWhenSilent aout1"
      ]
     },
     "execution_count": 2,
     "metadata": {},
     "output_type": "execute_result"
    }
   ],
   "source": [
    "presetManager.defPresetSoundfont(sf2path='?')"
   ]
  },
  {
   "cell_type": "code",
   "execution_count": 2,
   "id": "28bdbc46-3bed-4c15-86d2-af46e6d5df2d",
   "metadata": {},
   "outputs": [
    {
     "data": {
      "text/html": [
       "Preset: <b>violin-non-vib</b>\n",
       "<br>\n",
       "<code style=\"font-size: 90%\">  <span style=\"color:#A0A0A0;font-size:96%\">(routing=True, properties={'sfpath': '/home/em/Lib/snd/sf2/Violin--violin-non-vib.sf2', 'ampDivisor': 0}, numouts=2, numsignals=2)\n",
       "</span></code>\n",
       "<span style=\"font-size:96%\"><strong>init</strong></span><br>\n",
       "<span style=\"font-size:90%\"><div class=\"highlight\" style=\"background: #f8f8f8\"><pre style=\"line-height: 125%;\"><span></span><code><span style=\"color: #BBB\">  </span><span style=\"color: #B00040\">i</span>__SfTable__<span style=\"color: #BBB\"> </span>sfloadonce<span style=\"color: #BBB\"> </span><span style=\"color: #BA2121\">&quot;/home/em/Lib/snd/sf2/Violin--violin-non-vib.sf2&quot;</span>\n",
       "</code></pre></div>\n",
       "</span>\n",
       "<span style=\"font-size:96%\"><strong>code</strong></span><br>\n",
       "<span style=\"font-size:90%\"><pre>  |<span style=\"color:#cccc00\">ktransp</span><span style=\"color:#A0A0A0\"><i>@transpose</i></span>=<span style=\"color:#6666E0\">0.0</span>, <span style=\"color:#cccc00\">ipitchlag</span>=<span style=\"color:#6666E0\">0.1</span>, <span style=\"color:#cccc00\">ivel</span>=<span style=\"color:#6666E0\">-1</span>, <span style=\"color:#cccc00\">kwet</span>=<span style=\"color:#6666E0\">0.0</span>|</pre></span>\n",
       "<span style=\"font-size:90%\"><div class=\"highlight\" style=\"background: #f8f8f8\"><pre style=\"line-height: 125%;\"><span></span><code><span style=\"color: #BBB\">  </span><span style=\"color: #B00040\">i</span>presetidx<span style=\"color: #BBB\"> </span>sfpresetindex<span style=\"color: #BBB\"> </span><span style=\"color: #BA2121\">&quot;/home/em/Lib/snd/sf2/Violin--violin-non-vib.sf2&quot;</span>,<span style=\"color: #BBB\"> </span><span style=\"color: #666\">0</span>,<span style=\"color: #BBB\"> </span><span style=\"color: #666\">1</span>\n",
       "<span style=\"color: #BBB\">  </span><span style=\"color: #B00040\">i</span>amp0_<span style=\"color: #BBB\"> </span><span style=\"color: #666\">=</span><span style=\"color: #BBB\"> </span><span style=\"color: #008000\">p</span>(<span style=\"color: #B00040\">i</span>dataidx_<span style=\"color: #BBB\"> </span><span style=\"color: #666\">+</span><span style=\"color: #BBB\"> </span><span style=\"color: #666\">2</span>)\n",
       "<span style=\"color: #BBB\">  </span><span style=\"color: #B00040\">i</span>note0_<span style=\"color: #BBB\"> </span><span style=\"color: #666\">=</span><span style=\"color: #BBB\"> </span><span style=\"color: #008000\">round</span>(<span style=\"color: #008000\">p</span>(<span style=\"color: #B00040\">i</span>dataidx_<span style=\"color: #BBB\"> </span><span style=\"color: #666\">+</span><span style=\"color: #BBB\"> </span><span style=\"color: #666\">1</span>))\n",
       "<span style=\"color: #BBB\">  </span><span style=\"color: #B00040\">k</span>pitch2<span style=\"color: #BBB\"> </span><span style=\"color: #666\">=</span><span style=\"color: #BBB\"> </span><span style=\"color: #008000\">lag</span>:<span style=\"color: #B00040\">k</span>(<span style=\"color: #B00040\">k</span>pitch<span style=\"color: #BBB\"> </span><span style=\"color: #666\">+</span><span style=\"color: #BBB\"> </span><span style=\"color: #B00040\">k</span>transp,<span style=\"color: #BBB\"> </span><span style=\"color: #B00040\">i</span>pitchlag)\n",
       "<span style=\"color: #BBB\">  </span><span style=\"color: #B00040\">i</span>ampdiv_<span style=\"color: #BBB\"> </span><span style=\"color: #666\">=</span><span style=\"color: #BBB\"> </span><span style=\"color: #666\">16384</span>\n",
       "<span style=\"color: #BBB\">  </span><span style=\"color: #008000; font-weight: bold\">if</span><span style=\"color: #BBB\"> </span><span style=\"color: #B00040\">i</span>vel<span style=\"color: #BBB\"> </span><span style=\"color: #666\">&lt;</span><span style=\"color: #BBB\"> </span><span style=\"color: #666\">0</span><span style=\"color: #BBB\"> </span><span style=\"color: #008000; font-weight: bold\">then</span>\n",
       "<span style=\"color: #BBB\">      </span><span style=\"color: #B00040\">i</span>vel<span style=\"color: #BBB\"> </span>_linexp<span style=\"color: #BBB\"> </span><span style=\"color: #008000\">dbamp</span>(<span style=\"color: #B00040\">i</span>amp0_),<span style=\"color: #BBB\"> </span><span style=\"color: #666\">2.6</span>,<span style=\"color: #BBB\"> </span><span style=\"color: #666\">-72</span>,<span style=\"color: #BBB\"> </span><span style=\"color: #666\">0</span>,<span style=\"color: #BBB\"> </span><span style=\"color: #666\">1</span>,<span style=\"color: #BBB\"> </span><span style=\"color: #666\">127</span>\n",
       "<span style=\"color: #BBB\">  </span><span style=\"color: #008000; font-weight: bold\">endif</span>\n",
       "<span style=\"color: #BBB\">  </span><span style=\"color: #B00040\">a</span>out1,<span style=\"color: #BBB\"> </span><span style=\"color: #B00040\">a</span>out2<span style=\"color: #BBB\"> </span><span style=\"color: #008000\">sfplay</span><span style=\"color: #BBB\"> </span><span style=\"color: #B00040\">i</span>vel,<span style=\"color: #BBB\"> </span><span style=\"color: #B00040\">i</span>note0_,<span style=\"color: #BBB\"> </span><span style=\"color: #B00040\">k</span>amp<span style=\"color: #666\">/</span><span style=\"color: #B00040\">i</span>ampdiv_,<span style=\"color: #BBB\"> </span><span style=\"color: #008000\">mtof</span>:<span style=\"color: #B00040\">k</span>(<span style=\"color: #B00040\">k</span>pitch2),<span style=\"color: #BBB\"> </span><span style=\"color: #B00040\">i</span>presetidx,<span style=\"color: #BBB\"> </span><span style=\"color: #666\">1</span>\n",
       "</code></pre></div>\n",
       "</span>\n",
       "<span style=\"font-size:96%\"><strong>epilogue</strong></span><br>\n",
       "<span style=\"font-size:90%\"><div class=\"highlight\" style=\"background: #f8f8f8\"><pre style=\"line-height: 125%;\"><span></span><code><span style=\"color: #BBB\">  </span>turnoffWhenSilent<span style=\"color: #BBB\"> </span><span style=\"color: #B00040\">a</span>out1\n",
       "</code></pre></div>\n",
       "</span>"
      ],
      "text/plain": [
       "Preset: violin-non-vib  \n",
       "    routing=True, properties={'sfpath': '/home/em/Lib/snd/sf2/Violin--violin-non-vib.sf2', 'ampDivisor': 0}\n",
       "  init: i__SfTable__ sfloadonce \"/home/em/Lib/snd/sf2/Violin--violin-non-vib.sf2\"\n",
       "  |ktransp=0.0, ipitchlag=0.1, ivel=-1, kwet=0.0|\n",
       "  ipresetidx sfpresetindex \"/home/em/Lib/snd/sf2/Violin--violin-non-vib.sf2\", 0, 1\n",
       "  iamp0_ = p(idataidx_ + 2)\n",
       "  inote0_ = round(p(idataidx_ + 1))\n",
       "  kpitch2 = lag:k(kpitch + ktransp, ipitchlag)\n",
       "  iampdiv_ = 16384\n",
       "  if ivel < 0 then\n",
       "      ivel _linexp dbamp(iamp0_), 2.6, -72, 0, 1, 127\n",
       "  endif\n",
       "  aout1, aout2 sfplay ivel, inote0_, kamp/iampdiv_, mtof:k(kpitch2), ipresetidx, 1\n",
       "  epilogue:\n",
       "    turnoffWhenSilent aout1"
      ]
     },
     "execution_count": 2,
     "metadata": {},
     "output_type": "execute_result"
    }
   ],
   "source": [
    "presetManager.defPresetSoundfont(sf2path='?')"
   ]
  },
  {
   "cell_type": "code",
   "execution_count": 5,
   "id": "4a825689-75bd-4a72-b479-f3902af336ed",
   "metadata": {},
   "outputs": [
    {
     "data": {
      "application/vnd.jupyter.widget-view+json": {
       "model_id": "653eed45949143b398049a9ce1b78aae",
       "version_major": 2,
       "version_minor": 0
      },
      "text/plain": [
       "Button(description='Stop', style=ButtonStyle())"
      ]
     },
     "metadata": {},
     "output_type": "display_data"
    },
    {
     "data": {
      "application/vnd.jupyter.widget-view+json": {
       "model_id": "396d2e4324a44638b9e835b5965256e3",
       "version_major": 2,
       "version_minor": 0
      },
      "text/plain": [
       "Output()"
      ]
     },
     "metadata": {},
     "output_type": "display_data"
    },
    {
     "data": {
      "text/html": [
       "<small><span style=\"\"><b>SynthGroup</b></span>(synths=<code style=\"\">1</code>)</small>\n",
       "<p><small>Instr: <strong style=\"color:MediumSeaGreen\">preset:violin-non-vib</strong> - <b>1</b> synths</small></p>\n",
       "<table style=\"font-size: smaller\"<thead><tr><th style=\"text-align:left\">p1</th><th style=\"text-align:left\">start</th><th style=\"text-align:left\">dur</th><th style=\"text-align:left\">p4</th><th style=\"text-align:left\">kpos</th><th style=\"text-align:left\">kgain</th><th style=\"text-align:left\">idataidx_</th><th style=\"text-align:left\">inumbps</th><th style=\"text-align:left\">ibplen</th><th style=\"text-align:left\">ichan</th><th style=\"text-align:left\">ifadein</th><th style=\"text-align:left\">ifadeout</th><th style=\"text-align:left\">ipchintrp_</th><th style=\"text-align:left\">ifadekind</th><th style=\"text-align:left\">ktransp</th><th style=\"text-align:left\">ipitchlag</th><th style=\"text-align:left\">ivel</th><th style=\"text-align:left\">kwet</th><th style=\"text-align:left\">19</th><th style=\"text-align:left\">20</th><th style=\"text-align:left\">21</th><th style=\"text-align:left\">22</th><th style=\"text-align:left\">23</th><th style=\"text-align:left\">...</th></tr></thead><tbody><tr><td style=\"text-align:left\">401.0004 <b>‖</b></td><td style=\"text-align:left\">0.036</td><td style=\"text-align:left\">2.000</td><td style=\"text-align:left\">0</td><td style=\"text-align:left\">0.5</td><td style=\"text-align:left\">1</td><td style=\"text-align:left\">19</td><td style=\"text-align:left\">3</td><td style=\"text-align:left\">3</td><td style=\"text-align:left\">1</td><td style=\"text-align:left\">0</td><td style=\"text-align:left\">0.2</td><td style=\"text-align:left\">0</td><td style=\"text-align:left\">1</td><td style=\"text-align:left\">0</td><td style=\"text-align:left\">0.1</td><td style=\"text-align:left\">-1</td><td style=\"text-align:left\">0</td><td style=\"text-align:left\">0</td><td style=\"text-align:left\">70</td><td style=\"text-align:left\">0.51518</td><td style=\"text-align:left\">1.8</td><td style=\"text-align:left\">...</td></tr></tbody></table>"
      ],
      "text/plain": [
       "SynthGroup(n=1)\n",
       "    Synth(‖ preset:violin-non-vib=401.0004 start=8.942 dur=2 kpos=0.5 kgain=1 idataidx_=19 inumbps=3 ibplen=3 ichan=1 ifadein=0 ifadeout=0.2 ipchintrp_=0 ifadekind=1 ktransp=0 ipitchlag=0.1 ivel=-1 kwet=0 p19=0 p20=70 p21=0.515178 p22=1.8 p23=70 …)"
      ]
     },
     "execution_count": 5,
     "metadata": {},
     "output_type": "execute_result"
    }
   ],
   "source": [
    "Note(70, 2, gliss=69.5).play(instr='violin-non-vib', fade=(0, 0.2), glisstime=0.2)"
   ]
  },
  {
   "cell_type": "code",
   "execution_count": null,
   "id": "c253c29d-d97f-45c4-b409-1f5ad199f866",
   "metadata": {},
   "outputs": [],
   "source": []
  }
 ],
 "metadata": {
  "kernelspec": {
   "display_name": "Python 3 (ipykernel)",
   "language": "python",
   "name": "python3"
  },
  "language_info": {
   "codemirror_mode": {
    "name": "ipython",
    "version": 3
   },
   "file_extension": ".py",
   "mimetype": "text/x-python",
   "name": "python",
   "nbconvert_exporter": "python",
   "pygments_lexer": "ipython3",
   "version": "3.13.3"
  }
 },
 "nbformat": 4,
 "nbformat_minor": 5
}
