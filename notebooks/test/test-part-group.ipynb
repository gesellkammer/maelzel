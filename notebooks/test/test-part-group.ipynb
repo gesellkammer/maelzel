{
 "cells": [
  {
   "cell_type": "code",
   "execution_count": 1,
   "id": "b8189eaf-008e-4864-8356-59fbfcdf1930",
   "metadata": {},
   "outputs": [],
   "source": [
    "from maelzel.core import *\n",
    "from maelzel import scoring\n",
    "import logging\n",
    "logger = logging.getLogger(\"maelzel\")\n",
    "logger.setLevel(\"DEBUG\")\n",
    "cfg = getConfig()\n"
   ]
  },
  {
   "cell_type": "code",
   "execution_count": 2,
   "id": "d62c0b2b-0e9b-4849-ba03-810e8b8caae0",
   "metadata": {},
   "outputs": [
    {
     "data": {
      "text/plain": [
       "50"
      ]
     },
     "execution_count": 2,
     "metadata": {},
     "output_type": "execute_result"
    }
   ],
   "source": [
    "cfg['.quant.debug'] = True\n",
    "cfg['.quant.debugShowNumRows']"
   ]
  },
  {
   "cell_type": "code",
   "execution_count": 3,
   "id": "a21bf7f7-404e-48b8-b1f1-af0535d85876",
   "metadata": {},
   "outputs": [
    {
     "name": "stderr",
     "output_type": "stream",
     "text": [
      "[maelzel.scoring:quant.py:1364:quantizeMeasure:DEBUG] Measure 4/4 is not filled (events=[«4C 0:0.5 1/2♩», «5E-33 0.5:0.75 1/4♩», «4G+13 0.75:1.042 7/24♩»]). Filling gaps with silences\n"
     ]
    },
    {
     "name": "stdout",
     "output_type": "stream",
     "text": [
      "Beat: 0 - 1 (dur: 1)\n",
      "Best 4 divisions: (quantized in 1.8ms)\n"
     ]
    },
    {
     "data": {
      "text/html": [
       "<table>\n",
       "<thead>\n",
       "<tr><th style=\"text-align: right;\">  error</th><th>div   </th><th>snapped                                                         </th><th>slots    </th><th>info                                                                                                                                                                          </th></tr>\n",
       "</thead>\n",
       "<tbody>\n",
       "<tr><td style=\"text-align: right;\"> 0.0000</td><td>(1, 2)</td><td>[«4C 0:0.5 1/2♩», «5E-33 0.5:0.75 1/4♩», «4G+13~ 0.75:1 1/4♩»]  </td><td>[0, 1, 2]</td><td>gridError=0, rhythmComplexity=0 (numNotesAcrossSubdivs=0, numTies=0), divPenalty=0 (0, divPenalty=0, cardinalityPenalty=0, numSubdivsPenalty=0, levelPenalty=0)               </td></tr>\n",
       "<tr><td style=\"text-align: right;\"> 0.0010</td><td>(4,)  </td><td>[«4C 0:0.5 1/2♩», «5E-33 0.5:0.75 1/4♩», «4G+13~ 0.75:1 1/4♩»]  </td><td>[0, 2, 3]</td><td>gridError=0, rhythmComplexity=0 (numNotesAcrossSubdivs=0, numTies=0), divPenalty=0.01 (0.0001, divPenalty=0.01, cardinalityPenalty=0, numSubdivsPenalty=0, levelPenalty=0)    </td></tr>\n",
       "<tr><td style=\"text-align: right;\"> 0.1933</td><td>(6,)  </td><td>[«4C 0:0.5 1/2♩», «5E-33 0.5:0.667 1/6♩», «4G+13~ 0.667:1 1/3♩»]</td><td>[0, 3, 4]</td><td>gridError=0.193, rhythmComplexity=0 (numNotesAcrossSubdivs=0, numTies=0), divPenalty=0.01 (0.0001, divPenalty=0.01, cardinalityPenalty=0, numSubdivsPenalty=0, levelPenalty=0)</td></tr>\n",
       "<tr><td style=\"text-align: right;\"> 0.3005</td><td>(5,)  </td><td>[«4C 0:0.4 2/5♩», «5E-33 0.4:0.8 2/5♩», «4G+13~ 0.8:1 1/5♩»]    </td><td>[0, 2, 4]</td><td>gridError=0.3, rhythmComplexity=0 (numNotesAcrossSubdivs=0, numTies=0), divPenalty=0.02 (0.0002, divPenalty=0.02, cardinalityPenalty=0, numSubdivsPenalty=0, levelPenalty=0)  </td></tr>\n",
       "</tbody>\n",
       "</table>"
      ],
      "text/plain": [
       "<IPython.core.display.HTML object>"
      ]
     },
     "metadata": {},
     "output_type": "display_data"
    },
    {
     "name": "stderr",
     "output_type": "stream",
     "text": [
      "[maelzel.scoring:quant.py:968:quantizeBeatBinary:DEBUG] Skipping (7,), totalError=0.07435234850372853 > minError=0.07432544468767006\n",
      "[maelzel.scoring:quant.py:968:quantizeBeatBinary:DEBUG] Skipping (11,), totalError=0.07631691639485902 > minError=0.07432544468767006\n",
      "[maelzel.scoring:quant.py:968:quantizeBeatBinary:DEBUG] Skipping (6, 1, 1, 1), totalError=0.007348469228349534 > minError=0.00714142842854285\n"
     ]
    },
    {
     "name": "stdout",
     "output_type": "stream",
     "text": [
      "Beat: 1 - 2 (dur: 1)\n",
      "Best 8 divisions: (quantized in 6.6ms)\n"
     ]
    },
    {
     "data": {
      "text/html": [
       "<table>\n",
       "<thead>\n",
       "<tr><th style=\"text-align: right;\">  error</th><th>div      </th><th>snapped                                                                                                       </th><th>slots  </th><th>info                                                                                                                                                                               </th></tr>\n",
       "</thead>\n",
       "<tbody>\n",
       "<tr><td style=\"text-align: right;\"> 0.0071</td><td>(8, 1, 1)</td><td>[«~4G+13 0:0.042 1/24♩», «rest 0.042:1 23/24♩»]                                                               </td><td>[0, 1] </td><td>gridError=0, rhythmComplexity=0.224 (numNotesAcrossSubdivs=1, numTies=0), divPenalty=0.01 (0.0001, divPenalty=0.01, cardinalityPenalty=0, numSubdivsPenalty=0, levelPenalty=0)     </td></tr>\n",
       "<tr><td style=\"text-align: right;\"> 0.0198</td><td>(11, 1)  </td><td>[«~4G+13 0:0.045 1/22♩», «rest 0.045:1 21/22♩»]                                                               </td><td>[0, 1] </td><td>gridError=0.0156, rhythmComplexity=0.224 (numNotesAcrossSubdivs=1, numTies=0), divPenalty=0.1 (0.001, divPenalty=0.1, cardinalityPenalty=0, numSubdivsPenalty=0, levelPenalty=0)   </td></tr>\n",
       "<tr><td style=\"text-align: right;\"> 0.0421</td><td>(9, 1)   </td><td>[«~4G+13 0:0.056 1/18♩», «rest 0.056:1 17/18♩»]                                                               </td><td>[0, 1] </td><td>gridError=0.0412, rhythmComplexity=0.224 (numNotesAcrossSubdivs=1, numTies=0), divPenalty=0.05 (0.0005, divPenalty=0.05, cardinalityPenalty=0, numSubdivsPenalty=0, levelPenalty=0)</td></tr>\n",
       "<tr><td style=\"text-align: right;\"> 0.0563</td><td>(8, 1)   </td><td>[«~4G+13 0:0.062 1/16♩», «rest 0.062:1 15/16♩»]                                                               </td><td>[0, 1] </td><td>gridError=0.0558, rhythmComplexity=0.224 (numNotesAcrossSubdivs=1, numTies=0), divPenalty=0.01 (0.0001, divPenalty=0.01, cardinalityPenalty=0, numSubdivsPenalty=0, levelPenalty=0)</td></tr>\n",
       "<tr><td style=\"text-align: right;\"> 0.0733</td><td>(7, 1)   </td><td>[«~4G+13 0:0.071 1/14♩», «rest 0.071:1 13/14♩»]                                                               </td><td>[0, 1] </td><td>gridError=0.073, rhythmComplexity=0.224 (numNotesAcrossSubdivs=1, numTies=0), divPenalty=0.02 (0.0002, divPenalty=0.02, cardinalityPenalty=0, numSubdivsPenalty=0, levelPenalty=0) </td></tr>\n",
       "<tr><td style=\"text-align: right;\"> 0.0743</td><td>(1,)     </td><td>[«~4G+13 0:grace properties={&#x27;.snappedGracenote&#x27;: True, &#x27;.originalDuration&#x27;: Fraction(1, 24)}», «rest 0:1 1♩»]</td><td>[0, 0] </td><td>gridError=0.0743, rhythmComplexity=0 (numNotesAcrossSubdivs=0, numTies=0), divPenalty=0 (0, divPenalty=0, cardinalityPenalty=0, numSubdivsPenalty=0, levelPenalty=0)               </td></tr>\n",
       "<tr><td style=\"text-align: right;\"> 0.0743</td><td>(2,)     </td><td>[«~4G+13 0:grace properties={&#x27;.snappedGracenote&#x27;: True, &#x27;.originalDuration&#x27;: Fraction(1, 24)}», «rest 0:1 1♩»]</td><td>[0, 0] </td><td>gridError=0.0743, rhythmComplexity=0 (numNotesAcrossSubdivs=0, numTies=0), divPenalty=0 (0, divPenalty=0, cardinalityPenalty=0, numSubdivsPenalty=0, levelPenalty=0)               </td></tr>\n",
       "<tr><td style=\"text-align: right;\"> 0.0757</td><td>(5,)     </td><td>[«~4G+13 0:grace properties={&#x27;.snappedGracenote&#x27;: True, &#x27;.originalDuration&#x27;: Fraction(1, 24)}», «rest 0:1 1♩»]</td><td>[0, 0] </td><td>gridError=0.0743, rhythmComplexity=0.447 (numNotesAcrossSubdivs=0, numTies=1), divPenalty=0.02 (0.0002, divPenalty=0.02, cardinalityPenalty=0, numSubdivsPenalty=0, levelPenalty=0)</td></tr>\n",
       "</tbody>\n",
       "</table>"
      ],
      "text/plain": [
       "<IPython.core.display.HTML object>"
      ]
     },
     "metadata": {},
     "output_type": "display_data"
    },
    {
     "name": "stderr",
     "output_type": "stream",
     "text": [
      "[maelzel.scoring:quant.py:1677:_mergeSiblings:DEBUG] Nodes can merge: \n",
      "    Node(1/1, \n",
      "  «rest 2:3 1♩»\n",
      ")\n",
      "    Node(1/1, \n",
      "  «rest 3:4 1♩»\n",
      ")\n",
      "[maelzel.scoring:quant.py:1680:_mergeSiblings:DEBUG] ---- Merged node:\n",
      "    Node(1/1, \n",
      "  «rest 2:4 2♩»\n",
      ")\n",
      "[maelzel.scoring:node.py:707:_splitUnnecessaryNodes:DEBUG] Did not split node Node(1/1, \n",
      "  Node(1/1, \n",
      "    «4C 0:0.5 1/2♩»\n",
      "    «5E-33 0.5:0.75 1/4♩»\n",
      "    «4G+13~ 0.75:1 1/4♩»\n",
      "  )\n",
      "  Node(3/2, \n",
      "    Node(1/1, \n",
      "      «~4G+13 1:1.042 1/24♩ 3/2»\n",
      "      «rest 1.042:1.333 7/24♩ 3/2»\n",
      "    )\n",
      "    «rest 1.333:2 2/3♩ 3/2»\n",
      "  )\n",
      "  Node(1/1, \n",
      "    «rest 2:4 2♩»\n",
      "  )\n",
      ") at 3\n",
      "[maelzel:lilytools.py:191:findLilypond:DEBUG] findLilypond: searching via shutil.which\n",
      "[maelzel:lilytools.py:194:findLilypond:DEBUG] ... found! lilypond path: /home/em/.local/bin/lilypond\n",
      "[maelzel.scoring:renderlily.py:1141:write:DEBUG] Rendering lilypond '/tmp/tmp9sxzth50.ly' to '/tmp/tmp9sxzth50.png'\n",
      "[maelzel:lilytools.py:332:renderLily:DEBUG] Rendering lilypond '/tmp/tmp9sxzth50.ly' to '/tmp/tmp9sxzth50.png'\n",
      "[maelzel:lilytools.py:191:findLilypond:DEBUG] findLilypond: searching via shutil.which\n",
      "[maelzel:lilytools.py:194:findLilypond:DEBUG] ... found! lilypond path: /home/em/.local/bin/lilypond\n",
      "[maelzel:lilytools.py:354:renderLily:DEBUG] Calling lilypond subprocess: ['/home/em/.local/bin/lilypond', '--png', '-o', '/tmp/tmp9sxzth50', '-dresolution=200', '/tmp/tmp6j58bqkx.ly']\n",
      "[maelzel:lilytools.py:377:renderLily:DEBUG] lilypond executed OK\n",
      "[maelzel:lilytools.py:382:renderLily:DEBUG] stderr: \n",
      "[maelzel:lilytools.py:383:renderLily:DEBUG]  Changing working directory to: `/tmp'\n",
      " Processing `/tmp/tmp6j58bqkx.ly'\n",
      " Parsing...\n",
      " Interpreting music...\n",
      " Preprocessing graphical objects...\n",
      " Finding the ideal number of pages...\n",
      " Fitting music on 1 page...\n",
      " Drawing systems...\n",
      " Converting to PNG...\n",
      " Layout output to `tmp9sxzth50.cropped.eps'...\n",
      " Converting to PNG...\n",
      " Success: compilation successfully completed\n",
      "\n",
      "[maelzel.scoring:renderlily.py:1154:write:DEBUG] Found crop file /tmp/tmp9sxzth50.cropped.png, using that as output\n"
     ]
    },
    {
     "data": {
      "text/html": [
       "<code style=\"white-space: pre-line; font-size:0.9em;\">Voice([<span style=\"color:#6666E0\">4C:0.5♩</span>, <span style=\"color:#6666E0\">5E-33:0.25♩</span>, <span style=\"color:#6666E0\">4G+13:0.292♩</span>], dur=1.042, offset=0)</code><br>\n",
       "        <img style=\"display:inline; padding:10px;\n",
       "margin-top:14px;\n",
       "width:412px\"\n",
       "             src=\"data:image/png;base64,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\"/>"
      ],
      "text/plain": [
       "Voice([4C:0.5♩, 5E-33:0.25♩, 4G+13:0.292♩], offset=0)"
      ]
     },
     "execution_count": 3,
     "metadata": {},
     "output_type": "execute_result"
    }
   ],
   "source": [
    "left = Voice([\n",
    "    \"4C:1/2\",\n",
    "    \"5E-33:1/4\",\n",
    "    \"4G+13:1/4+1/24\"\n",
    "])\n",
    "left"
   ]
  },
  {
   "cell_type": "code",
   "execution_count": 4,
   "id": "2ddb64e0-2010-4967-a35b-96ea4d9650ee",
   "metadata": {},
   "outputs": [
    {
     "name": "stderr",
     "output_type": "stream",
     "text": [
      "[maelzel.scoring:quant.py:1364:quantizeMeasure:DEBUG] Measure 4/4 is not filled (events=[«4C 0:0.333 1/3♩», «5E-33 0.333:0.667 1/3♩», «4G+13 0.667:1.042 3/8♩»]). Filling gaps with silences\n"
     ]
    },
    {
     "name": "stdout",
     "output_type": "stream",
     "text": [
      "Beat: 0 - 1 (dur: 1)\n",
      "Best 2 divisions: (quantized in 578.2µs)\n"
     ]
    },
    {
     "data": {
      "text/html": [
       "<table>\n",
       "<thead>\n",
       "<tr><th style=\"text-align: right;\">  error</th><th>div  </th><th>snapped                                                             </th><th>slots    </th><th>info                                                                                                                                                                          </th></tr>\n",
       "</thead>\n",
       "<tbody>\n",
       "<tr><td style=\"text-align: right;\"> 0.0000</td><td>(3,) </td><td>[«4C 0:0.333 1/3♩», «5E-33 0.333:0.667 1/3♩», «4G+13~ 0.667:1 1/3♩»]</td><td>[0, 1, 2]</td><td>gridError=0, rhythmComplexity=0 (numNotesAcrossSubdivs=0, numTies=0), divPenalty=0 (0, divPenalty=0, cardinalityPenalty=0, numSubdivsPenalty=0, levelPenalty=0)               </td></tr>\n",
       "<tr><td style=\"text-align: right;\"> 0.2751</td><td>(5,) </td><td>[«4C 0:0.4 2/5♩», «5E-33 0.4:0.6 1/5♩», «4G+13~ 0.6:1 2/5♩»]        </td><td>[0, 2, 3]</td><td>gridError=0.275, rhythmComplexity=0 (numNotesAcrossSubdivs=0, numTies=0), divPenalty=0.02 (0.0002, divPenalty=0.02, cardinalityPenalty=0, numSubdivsPenalty=0, levelPenalty=0)</td></tr>\n",
       "</tbody>\n",
       "</table>"
      ],
      "text/plain": [
       "<IPython.core.display.HTML object>"
      ]
     },
     "metadata": {},
     "output_type": "display_data"
    },
    {
     "name": "stderr",
     "output_type": "stream",
     "text": [
      "[maelzel.scoring:quant.py:968:quantizeBeatBinary:DEBUG] Skipping (7,), totalError=0.07435234850372853 > minError=0.07432544468767006\n",
      "[maelzel.scoring:quant.py:968:quantizeBeatBinary:DEBUG] Skipping (11,), totalError=0.07631691639485902 > minError=0.07432544468767006\n",
      "[maelzel.scoring:quant.py:968:quantizeBeatBinary:DEBUG] Skipping (6, 1, 1, 1), totalError=0.007348469228349534 > minError=0.00714142842854285\n"
     ]
    },
    {
     "name": "stdout",
     "output_type": "stream",
     "text": [
      "Beat: 1 - 2 (dur: 1)\n",
      "Best 8 divisions: (quantized in 6.5ms)\n"
     ]
    },
    {
     "data": {
      "text/html": [
       "<table>\n",
       "<thead>\n",
       "<tr><th style=\"text-align: right;\">  error</th><th>div      </th><th>snapped                                                                                                       </th><th>slots  </th><th>info                                                                                                                                                                               </th></tr>\n",
       "</thead>\n",
       "<tbody>\n",
       "<tr><td style=\"text-align: right;\"> 0.0071</td><td>(8, 1, 1)</td><td>[«~4G+13 0:0.042 1/24♩», «rest 0.042:1 23/24♩»]                                                               </td><td>[0, 1] </td><td>gridError=0, rhythmComplexity=0.224 (numNotesAcrossSubdivs=1, numTies=0), divPenalty=0.01 (0.0001, divPenalty=0.01, cardinalityPenalty=0, numSubdivsPenalty=0, levelPenalty=0)     </td></tr>\n",
       "<tr><td style=\"text-align: right;\"> 0.0198</td><td>(11, 1)  </td><td>[«~4G+13 0:0.045 1/22♩», «rest 0.045:1 21/22♩»]                                                               </td><td>[0, 1] </td><td>gridError=0.0156, rhythmComplexity=0.224 (numNotesAcrossSubdivs=1, numTies=0), divPenalty=0.1 (0.001, divPenalty=0.1, cardinalityPenalty=0, numSubdivsPenalty=0, levelPenalty=0)   </td></tr>\n",
       "<tr><td style=\"text-align: right;\"> 0.0421</td><td>(9, 1)   </td><td>[«~4G+13 0:0.056 1/18♩», «rest 0.056:1 17/18♩»]                                                               </td><td>[0, 1] </td><td>gridError=0.0412, rhythmComplexity=0.224 (numNotesAcrossSubdivs=1, numTies=0), divPenalty=0.05 (0.0005, divPenalty=0.05, cardinalityPenalty=0, numSubdivsPenalty=0, levelPenalty=0)</td></tr>\n",
       "<tr><td style=\"text-align: right;\"> 0.0563</td><td>(8, 1)   </td><td>[«~4G+13 0:0.062 1/16♩», «rest 0.062:1 15/16♩»]                                                               </td><td>[0, 1] </td><td>gridError=0.0558, rhythmComplexity=0.224 (numNotesAcrossSubdivs=1, numTies=0), divPenalty=0.01 (0.0001, divPenalty=0.01, cardinalityPenalty=0, numSubdivsPenalty=0, levelPenalty=0)</td></tr>\n",
       "<tr><td style=\"text-align: right;\"> 0.0733</td><td>(7, 1)   </td><td>[«~4G+13 0:0.071 1/14♩», «rest 0.071:1 13/14♩»]                                                               </td><td>[0, 1] </td><td>gridError=0.073, rhythmComplexity=0.224 (numNotesAcrossSubdivs=1, numTies=0), divPenalty=0.02 (0.0002, divPenalty=0.02, cardinalityPenalty=0, numSubdivsPenalty=0, levelPenalty=0) </td></tr>\n",
       "<tr><td style=\"text-align: right;\"> 0.0743</td><td>(1,)     </td><td>[«~4G+13 0:grace properties={&#x27;.snappedGracenote&#x27;: True, &#x27;.originalDuration&#x27;: Fraction(1, 24)}», «rest 0:1 1♩»]</td><td>[0, 0] </td><td>gridError=0.0743, rhythmComplexity=0 (numNotesAcrossSubdivs=0, numTies=0), divPenalty=0 (0, divPenalty=0, cardinalityPenalty=0, numSubdivsPenalty=0, levelPenalty=0)               </td></tr>\n",
       "<tr><td style=\"text-align: right;\"> 0.0743</td><td>(2,)     </td><td>[«~4G+13 0:grace properties={&#x27;.snappedGracenote&#x27;: True, &#x27;.originalDuration&#x27;: Fraction(1, 24)}», «rest 0:1 1♩»]</td><td>[0, 0] </td><td>gridError=0.0743, rhythmComplexity=0 (numNotesAcrossSubdivs=0, numTies=0), divPenalty=0 (0, divPenalty=0, cardinalityPenalty=0, numSubdivsPenalty=0, levelPenalty=0)               </td></tr>\n",
       "<tr><td style=\"text-align: right;\"> 0.0757</td><td>(5,)     </td><td>[«~4G+13 0:grace properties={&#x27;.snappedGracenote&#x27;: True, &#x27;.originalDuration&#x27;: Fraction(1, 24)}», «rest 0:1 1♩»]</td><td>[0, 0] </td><td>gridError=0.0743, rhythmComplexity=0.447 (numNotesAcrossSubdivs=0, numTies=1), divPenalty=0.02 (0.0002, divPenalty=0.02, cardinalityPenalty=0, numSubdivsPenalty=0, levelPenalty=0)</td></tr>\n",
       "</tbody>\n",
       "</table>"
      ],
      "text/plain": [
       "<IPython.core.display.HTML object>"
      ]
     },
     "metadata": {},
     "output_type": "display_data"
    },
    {
     "name": "stderr",
     "output_type": "stream",
     "text": [
      "[maelzel.scoring:quant.py:1683:_mergeSiblings:DEBUG] Nodes cannot merge: \n",
      "Node(3/2, \n",
      "  «4C 0:0.333 1/3♩ 3/2»\n",
      "  «5E-33 0.333:0.667 1/3♩ 3/2»\n",
      "  «4G+13~ 0.667:1 1/3♩ 3/2»\n",
      ")\n",
      "Node(3/2, \n",
      "  Node(1/1, \n",
      "    «~4G+13 1:1.042 1/24♩ 3/2»\n",
      "    «rest 1.042:1.333 7/24♩ 3/2»\n",
      "  )\n",
      "  «rest 1.333:2 2/3♩ 3/2»\n",
      ")\n",
      "----> A Node cannot merge with a single item\n",
      "[maelzel.scoring:quant.py:1677:_mergeSiblings:DEBUG] Nodes can merge: \n",
      "    Node(1/1, \n",
      "  «rest 2:3 1♩»\n",
      ")\n",
      "    Node(1/1, \n",
      "  «rest 3:4 1♩»\n",
      ")\n",
      "[maelzel.scoring:quant.py:1680:_mergeSiblings:DEBUG] ---- Merged node:\n",
      "    Node(1/1, \n",
      "  «rest 2:4 2♩»\n",
      ")\n",
      "[maelzel.scoring:node.py:707:_splitUnnecessaryNodes:DEBUG] Did not split node Node(1/1, \n",
      "  Node(3/2, \n",
      "    «4C 0:0.333 1/3♩ 3/2»\n",
      "    «5E-33 0.333:0.667 1/3♩ 3/2»\n",
      "    «4G+13~ 0.667:1 1/3♩ 3/2»\n",
      "  )\n",
      "  Node(3/2, \n",
      "    Node(1/1, \n",
      "      «~4G+13 1:1.042 1/24♩ 3/2»\n",
      "      «rest 1.042:1.333 7/24♩ 3/2»\n",
      "    )\n",
      "    «rest 1.333:2 2/3♩ 3/2»\n",
      "  )\n",
      "  Node(1/1, \n",
      "    «rest 2:4 2♩»\n",
      "  )\n",
      ") at 3\n",
      "[maelzel:lilytools.py:191:findLilypond:DEBUG] findLilypond: searching via shutil.which\n",
      "[maelzel:lilytools.py:194:findLilypond:DEBUG] ... found! lilypond path: /home/em/.local/bin/lilypond\n",
      "[maelzel.scoring:renderlily.py:1141:write:DEBUG] Rendering lilypond '/tmp/tmpsvk6_301.ly' to '/tmp/tmpsvk6_301.png'\n",
      "[maelzel:lilytools.py:332:renderLily:DEBUG] Rendering lilypond '/tmp/tmpsvk6_301.ly' to '/tmp/tmpsvk6_301.png'\n",
      "[maelzel:lilytools.py:191:findLilypond:DEBUG] findLilypond: searching via shutil.which\n",
      "[maelzel:lilytools.py:194:findLilypond:DEBUG] ... found! lilypond path: /home/em/.local/bin/lilypond\n",
      "[maelzel:lilytools.py:354:renderLily:DEBUG] Calling lilypond subprocess: ['/home/em/.local/bin/lilypond', '--png', '-o', '/tmp/tmpsvk6_301', '-dresolution=200', '/tmp/tmp5c6fcmgw.ly']\n",
      "[maelzel:lilytools.py:377:renderLily:DEBUG] lilypond executed OK\n",
      "[maelzel:lilytools.py:382:renderLily:DEBUG] stderr: \n",
      "[maelzel:lilytools.py:383:renderLily:DEBUG]  Changing working directory to: `/tmp'\n",
      " Processing `/tmp/tmp5c6fcmgw.ly'\n",
      " Parsing...\n",
      " Interpreting music...\n",
      " Preprocessing graphical objects...\n",
      " Finding the ideal number of pages...\n",
      " Fitting music on 1 page...\n",
      " Drawing systems...\n",
      " Converting to PNG...\n",
      " Layout output to `tmpsvk6_301.cropped.eps'...\n",
      " Converting to PNG...\n",
      " Success: compilation successfully completed\n",
      "\n",
      "[maelzel.scoring:renderlily.py:1154:write:DEBUG] Found crop file /tmp/tmpsvk6_301.cropped.png, using that as output\n"
     ]
    },
    {
     "data": {
      "text/html": [
       "<code style=\"white-space: pre-line; font-size:0.9em;\">Voice([<span style=\"color:#6666E0\">4C:0.333♩</span>, <span style=\"color:#6666E0\">5E-33:0.333♩</span>, <span style=\"color:#6666E0\">4G+13:0.375♩</span>], dur=1.042, offset=0)</code><br>\n",
       "        <img style=\"display:inline; padding:10px;\n",
       "margin-top:14px;\n",
       "width:414px\"\n",
       "             src=\"data:image/png;base64,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\"/>"
      ],
      "text/plain": [
       "Voice([4C:0.333♩, 5E-33:0.333♩, 4G+13:0.375♩], offset=0)"
      ]
     },
     "execution_count": 4,
     "metadata": {},
     "output_type": "execute_result"
    }
   ],
   "source": [
    "left = Voice([\n",
    "    \"4C:1/3\",\n",
    "    \"5E-33:1/3\",\n",
    "    \"4G+13:1/3+1/24\"\n",
    "])\n",
    "left"
   ]
  },
  {
   "cell_type": "code",
   "execution_count": 5,
   "id": "924edb7d-81c3-4198-b4d6-5e99734642eb",
   "metadata": {},
   "outputs": [
    {
     "name": "stderr",
     "output_type": "stream",
     "text": [
      "[maelzel.core:mobj.py:1830:resetImageCache:INFO] Resetting image cache\n",
      "[maelzel.scoring:quant.py:1683:_mergeSiblings:DEBUG] Nodes cannot merge: \n",
      "Node(1/1, \n",
      "  Node(3/2, \n",
      "    «~4G+10 1:1.083 1/12♩ 3/2»\n",
      "    «4C-07 1.083:1.417 1/3♩ 3/2»\n",
      "    «5E-46~ 1.417:1.5 1/12♩ 3/2»\n",
      "  )\n",
      "  «~5E-46 1.5:1.75 1/4♩»\n",
      "  «4G-07~ 1.75:2 1/4♩»\n",
      ")\n",
      "Node(1/1, \n",
      "  Node(3/2, \n",
      "    «~4G-07 2:2.167 1/6♩ 3/2»\n",
      "    «4C-29 2.167:2.5 1/3♩ 3/2»\n",
      "  )\n",
      "  «5D#+28 2.5:2.875 3/8♩»\n",
      "  «4G-37~ 2.875:3 1/8♩»\n",
      ")\n",
      "----> A Node cannot merge with a single item\n",
      "[maelzel.scoring:quant.py:1677:_mergeSiblings:DEBUG] Nodes can merge: \n",
      "    Node(5/4, \n",
      "  «~5Eb-10 0:0.1 1/10♩ 5/4»\n",
      "  «4F#+22 0.1:0.5 2/5♩ 5/4»\n",
      ")\n",
      "    Node(5/4, \n",
      "  «3B-08 0.5:0.9 2/5♩ 5/4»\n",
      "  «5D+44~ 0.9:1 1/10♩ 5/4»\n",
      ")\n",
      "[maelzel.scoring:quant.py:1680:_mergeSiblings:DEBUG] ---- Merged node:\n",
      "    Node(5/4, \n",
      "  «~5Eb-10 0:0.1 1/10♩ 5/4»\n",
      "  «4F#+22 0.1:0.5 2/5♩ 5/4»\n",
      "  «3B-08 0.5:0.9 2/5♩ 5/4»\n",
      "  «5D+44~ 0.9:1 1/10♩ 5/4»\n",
      ")\n",
      "[maelzel.scoring:quant.py:1683:_mergeSiblings:DEBUG] Nodes cannot merge: \n",
      "Node(1/1, \n",
      "  Node(5/4, \n",
      "    «~5Eb-10 0:0.1 1/10♩ 5/4»\n",
      "    «4F#+22 0.1:0.5 2/5♩ 5/4»\n",
      "    «3B-08 0.5:0.9 2/5♩ 5/4»\n",
      "    «5D+44~ 0.9:1 1/10♩ 5/4»\n",
      "  )\n",
      ")\n",
      "Node(1/1, \n",
      "  «~5D+44 1:1.25 1/4♩»\n",
      "  «4Gb-27 1.25:1.75 1/2♩»\n",
      "  «3A#+41~ 1.75:2 1/4♩»\n",
      ")\n",
      "----> A Node cannot merge with a single item\n",
      "[maelzel.scoring:quant.py:1683:_mergeSiblings:DEBUG] Nodes cannot merge: \n",
      "Node(1/1, \n",
      "  «~5D+44 1:1.25 1/4♩»\n",
      "  «4Gb-27 1.25:1.75 1/2♩»\n",
      "  «3A#+41~ 1.75:2 1/4♩»\n",
      ")\n",
      "Node(1/1, \n",
      "  «~3A#+41 2:2.125 1/8♩»\n",
      "  «5D-09 2.125:2.5 3/8♩»\n",
      "  «4F+20~ 2.5:3 1/2♩»\n",
      ")\n",
      "----> Rel. duration of «~3A#+41 2:2.125 1/8♩» too short to merge with «3A#+41~ 1.75:2 1/4♩». Min side duration: 0.166667\n",
      "[maelzel.scoring:quant.py:1677:_mergeSiblings:DEBUG] Nodes can merge: \n",
      "    Node(3/2, \n",
      "  «~3Bb-13 3.333:3.444 1/9♩ 3/2,3/2»\n",
      "  «5C#+37~ 3.444:3.667 2/9♩ 3/2,3/2»\n",
      ")\n",
      "    Node(3/2, \n",
      "  «~5C#+37 3.667:3.889 2/9♩ 3/2,3/2»\n",
      "  «4F-35~ 3.889:4 1/9♩ 3/2,3/2»\n",
      ")\n",
      "[maelzel.scoring:quant.py:1680:_mergeSiblings:DEBUG] ---- Merged node:\n",
      "    Node(3/2, \n",
      "  «~3Bb-13 3.333:3.444 1/9♩ 3/2,3/2»\n",
      "  «5C#+37 3.444:3.889 4/9♩ 3/2,3/2»\n",
      "  «4F-35~ 3.889:4 1/9♩ 3/2,3/2»\n",
      ")\n",
      "[maelzel.scoring:node.py:569:removeUnnecessaryGracenotes:DEBUG] Removing gracenote «~4F+20 3:grace 3/2 properties={'.snappedGracenote': True, '.originalDuration': Fraction(332296847505631, 18014398509481984)}» from node Node(3/2, \n",
      "  «~4F+20 3:grace 3/2 properties={'.snappedGracenote': True, '.originalDuration': Fraction(332296847505631, 18014398509481984)}»\n",
      "  «3Bb-13~ 3:3.333 1/3♩ 3/2»\n",
      "  Node(3/2, \n",
      "    «~3Bb-13 3.333:3.444 1/9♩ 3/2,3/2»\n",
      "    «5C#+37 3.444:3.889 4/9♩ 3/2,3/2»\n",
      "    «4F-35~ 3.889:4 1/9♩ 3/2,3/2»\n",
      "  )\n",
      ")\n",
      "[maelzel.scoring:quant.py:1364:quantizeMeasure:DEBUG] Measure 4/4 is not filled (events=[«~5C+02 0:0.07 0.07♩», «4D#+39 0.07:0.602 0.532♩», «3G#+17 0.602:1.08 0.478♩», «5C-22 1.08:1.562 0.483♩», «4D#+19 1.562:2.11 0.548♩», «3G#+02 2.11:2.603 0.492♩», «5C-33 2.603:3.1 0.497♩»]). Filling gaps with silences\n",
      "[maelzel.scoring:quant.py:1677:_mergeSiblings:DEBUG] Nodes can merge: \n",
      "    Node(5/4, \n",
      "  «~5C+02 0:0.1 1/10♩ 5/4»\n",
      "  «4D#+39~ 0.1:0.5 2/5♩ 5/4»\n",
      ")\n",
      "    Node(5/4, \n",
      "  «~4D#+39 0.5:0.6 1/10♩ 5/4»\n",
      "  «3G#+17~ 0.6:1 2/5♩ 5/4»\n",
      ")\n",
      "[maelzel.scoring:quant.py:1680:_mergeSiblings:DEBUG] ---- Merged node:\n",
      "    Node(5/4, \n",
      "  «~5C+02 0:0.1 1/10♩ 5/4»\n",
      "  «4D#+39~ 0.1:0.5 2/5♩ 5/4»\n",
      "  «~4D#+39 0.5:0.6 1/10♩ 5/4»\n",
      "  «3G#+17~ 0.6:1 2/5♩ 5/4»\n",
      ")\n",
      "[maelzel.scoring:quant.py:1677:_mergeSiblings:DEBUG] Nodes can merge: \n",
      "    Node(5/4, \n",
      "  «~3G#+17 1:1.1 1/10♩ 5/4»\n",
      "  «5C-22~ 1.1:1.5 2/5♩ 5/4»\n",
      ")\n",
      "    Node(5/4, \n",
      "  «~5C-22 1.5:1.6 1/10♩ 5/4»\n",
      "  «4D#+19~ 1.6:2 2/5♩ 5/4»\n",
      ")\n",
      "[maelzel.scoring:quant.py:1680:_mergeSiblings:DEBUG] ---- Merged node:\n",
      "    Node(5/4, \n",
      "  «~3G#+17 1:1.1 1/10♩ 5/4»\n",
      "  «5C-22~ 1.1:1.5 2/5♩ 5/4»\n",
      "  «~5C-22 1.5:1.6 1/10♩ 5/4»\n",
      "  «4D#+19~ 1.6:2 2/5♩ 5/4»\n",
      ")\n",
      "[maelzel.scoring:quant.py:1677:_mergeSiblings:DEBUG] Nodes can merge: \n",
      "    Node(1/1, \n",
      "  Node(5/4, \n",
      "    «~5C+02 0:0.1 1/10♩ 5/4»\n",
      "    «4D#+39~ 0.1:0.5 2/5♩ 5/4»\n",
      "    «~4D#+39 0.5:0.6 1/10♩ 5/4»\n",
      "    «3G#+17~ 0.6:1 2/5♩ 5/4»\n",
      "  )\n",
      ")\n",
      "    Node(1/1, \n",
      "  Node(5/4, \n",
      "    «~3G#+17 1:1.1 1/10♩ 5/4»\n",
      "    «5C-22~ 1.1:1.5 2/5♩ 5/4»\n",
      "    «~5C-22 1.5:1.6 1/10♩ 5/4»\n",
      "    «4D#+19~ 1.6:2 2/5♩ 5/4»\n",
      "  )\n",
      ")\n",
      "[maelzel.scoring:quant.py:1683:_mergeSiblings:DEBUG] Nodes cannot merge: \n",
      "Node(5/4, \n",
      "  «~5C+02 0:0.1 1/10♩ 5/4»\n",
      "  «4D#+39~ 0.1:0.5 2/5♩ 5/4»\n",
      "  «~4D#+39 0.5:0.6 1/10♩ 5/4»\n",
      "  «3G#+17~ 0.6:1 2/5♩ 5/4»\n",
      ")\n",
      "Node(5/4, \n",
      "  «~3G#+17 1:1.1 1/10♩ 5/4»\n",
      "  «5C-22~ 1.1:1.5 2/5♩ 5/4»\n",
      "  «~5C-22 1.5:1.6 1/10♩ 5/4»\n",
      "  «4D#+19~ 1.6:2 2/5♩ 5/4»\n",
      ")\n",
      "----> The syncopation asymmetry is too big: item1=«3G#+17~ 0.6:1 2/5♩ 5/4», item2=«~3G#+17 1:1.1 1/10♩ 5/4», syncopationAsymetry=Fraction(4, 1)\n",
      "[maelzel.scoring:quant.py:1680:_mergeSiblings:DEBUG] ---- Merged node:\n",
      "    Node(1/1, \n",
      "  Node(5/4, \n",
      "    «~5C+02 0:0.1 1/10♩ 5/4»\n",
      "    «4D#+39~ 0.1:0.5 2/5♩ 5/4»\n",
      "    «~4D#+39 0.5:0.6 1/10♩ 5/4»\n",
      "    «3G#+17~ 0.6:1 2/5♩ 5/4»\n",
      "  )\n",
      "  Node(5/4, \n",
      "    «~3G#+17 1:1.1 1/10♩ 5/4»\n",
      "    «5C-22~ 1.1:1.5 2/5♩ 5/4»\n",
      "    «~5C-22 1.5:1.6 1/10♩ 5/4»\n",
      "    «4D#+19~ 1.6:2 2/5♩ 5/4»\n",
      "  )\n",
      ")\n",
      "[maelzel.scoring:quant.py:1683:_mergeSiblings:DEBUG] Nodes cannot merge: \n",
      "Node(1/1, \n",
      "  Node(5/4, \n",
      "    «~5C+02 0:0.1 1/10♩ 5/4»\n",
      "    «4D#+39~ 0.1:0.5 2/5♩ 5/4»\n",
      "    «~4D#+39 0.5:0.6 1/10♩ 5/4»\n",
      "    «3G#+17~ 0.6:1 2/5♩ 5/4»\n",
      "  )\n",
      "  Node(5/4, \n",
      "    «~3G#+17 1:1.1 1/10♩ 5/4»\n",
      "    «5C-22~ 1.1:1.5 2/5♩ 5/4»\n",
      "    «~5C-22 1.5:1.6 1/10♩ 5/4»\n",
      "    «4D#+19~ 1.6:2 2/5♩ 5/4»\n",
      "  )\n",
      ")\n",
      "Node(1/1, \n",
      "  «~4D#+19 2:2.125 1/8♩»\n",
      "  «3G#+02 2.125:2.625 1/2♩»\n",
      "  «5C-33~ 2.625:3 3/8♩»\n",
      ")\n",
      "----> A Node cannot merge with a single item\n",
      "[maelzel.scoring:quant.py:1683:_mergeSiblings:DEBUG] Nodes cannot merge: \n",
      "Node(1/1, \n",
      "  «~4D#+19 2:2.125 1/8♩»\n",
      "  «3G#+02 2.125:2.625 1/2♩»\n",
      "  «5C-33~ 2.625:3 3/8♩»\n",
      ")\n",
      "Node(1/1, \n",
      "  «~5C-33 3:3.125 1/8♩»\n",
      "  «rest 3.125:4 7/8♩»\n",
      ")\n",
      "----> The syncopation asymmetry is too big: item1=«5C-33~ 2.625:3 3/8♩», item2=«~5C-33 3:3.125 1/8♩», syncopationAsymetry=Fraction(3, 1)\n",
      "[maelzel.scoring:node.py:701:_splitUnnecessaryNodes:DEBUG] Splitting node Node(1/1, \n",
      "  Node(1/1, \n",
      "    Node(5/4, \n",
      "      «~5C+02 0:0.1 1/10♩ 5/4»\n",
      "      «4D#+39~ 0.1:0.5 2/5♩ 5/4»\n",
      "      «~4D#+39 0.5:0.6 1/10♩ 5/4»\n",
      "      «3G#+17~ 0.6:1 2/5♩ 5/4»\n",
      "    )\n",
      "    Node(5/4, \n",
      "      «~3G#+17 1:1.1 1/10♩ 5/4»\n",
      "      «5C-22~ 1.1:1.5 2/5♩ 5/4»\n",
      "      «~5C-22 1.5:1.6 1/10♩ 5/4»\n",
      "      «4D#+19~ 1.6:2 2/5♩ 5/4»\n",
      "    )\n",
      "  )\n",
      "  Node(1/1, \n",
      "    «~4D#+19 2:2.125 1/8♩»\n",
      "    «3G#+02 2.125:2.625 1/2♩»\n",
      "    «5C-33~ 2.625:3 3/8♩»\n",
      "  )\n",
      "  Node(1/1, \n",
      "    «~5C-33 3:3.125 1/8♩»\n",
      "    «rest 3.125:4 7/8♩»\n",
      "  )\n",
      ") at 1\n",
      "[maelzel:lilytools.py:191:findLilypond:DEBUG] findLilypond: searching via shutil.which\n",
      "[maelzel:lilytools.py:194:findLilypond:DEBUG] ... found! lilypond path: /home/em/.local/bin/lilypond\n",
      "[maelzel.scoring:renderlily.py:1141:write:DEBUG] Rendering lilypond '/tmp/tmpv2i92u27.ly' to '/tmp/tmpv2i92u27.png'\n",
      "[maelzel:lilytools.py:332:renderLily:DEBUG] Rendering lilypond '/tmp/tmpv2i92u27.ly' to '/tmp/tmpv2i92u27.png'\n",
      "[maelzel:lilytools.py:191:findLilypond:DEBUG] findLilypond: searching via shutil.which\n",
      "[maelzel:lilytools.py:194:findLilypond:DEBUG] ... found! lilypond path: /home/em/.local/bin/lilypond\n",
      "[maelzel:lilytools.py:354:renderLily:DEBUG] Calling lilypond subprocess: ['/home/em/.local/bin/lilypond', '--png', '-o', '/tmp/tmpv2i92u27', '-dresolution=200', '/tmp/tmpa4by8e9o.ly']\n",
      "[maelzel:lilytools.py:377:renderLily:DEBUG] lilypond executed OK\n",
      "[maelzel:lilytools.py:382:renderLily:DEBUG] stderr: \n",
      "[maelzel:lilytools.py:383:renderLily:DEBUG]  Changing working directory to: `/tmp'\n",
      " Processing `/tmp/tmpa4by8e9o.ly'\n",
      " Parsing...\n",
      " Interpreting music...\n",
      " Preprocessing graphical objects...\n",
      " Finding the ideal number of pages...\n",
      " Fitting music on 1 page...\n",
      " Drawing systems...\n",
      " Converting to PNG...\n",
      " Layout output to `tmpv2i92u27.cropped.eps'...\n",
      " Converting to PNG...\n",
      " Success: compilation successfully completed\n",
      "\n",
      "[maelzel.scoring:renderlily.py:1154:write:DEBUG] Found crop file /tmp/tmpv2i92u27.cropped.png, using that as output\n"
     ]
    },
    {
     "data": {
      "image/png": "[encoded data removed]",
      "text/plain": [
       "<IPython.core.display.Image object>"
      ]
     },
     "metadata": {
      "image/png": {
       "width": 1012.5
      }
     },
     "output_type": "display_data"
    },
    {
     "name": "stderr",
     "output_type": "stream",
     "text": [
      "[maelzel.core:mobj.py:1830:resetImageCache:INFO] Resetting image cache\n"
     ]
    }
   ],
   "source": [
    "import bpf4 as bpf\n",
    "dur = 12\n",
    "left2 = left.cycle(totaldur=dur)\n",
    "\n",
    "timecurve = bpf.linear(0, 1, dur, 1.5)\n",
    "transposition = bpf.halfcos(0, 0, dur, -4)\n",
    "\n",
    "items2 = [item.clone(dur=item.dur * timecurve(item.absOffset()), pitch=item.pitch+transposition(item.absOffset()))\n",
    "          for item in left2.items]\n",
    "left3 = Chain(items2)\n",
    "\n",
    "with CoreConfig(quant_complexity='low'):\n",
    "    left3.show()"
   ]
  },
  {
   "cell_type": "code",
   "execution_count": 6,
   "id": "ff19edc3-1724-4892-8ceb-d0781c202b3c",
   "metadata": {},
   "outputs": [
    {
     "name": "stderr",
     "output_type": "stream",
     "text": [
      "[maelzel.core:playback.py:366:_playEngine:DEBUG] Starting engine maelzel.core (nchnls=2)\n",
      "\n",
      "\n",
      "\n",
      "--Csound version 6.19 (double samples) Jan 13 2024\n",
      "[commit: c53556fbbb69d14554a4a4bd91efa441a1701d70]\n",
      "\u001b[mlibsndfile-1.2.0\n",
      "\u001b[msr = 44100.0,\u001b[m kr = 689.062,\u001b[m ksmps = 64\n",
      "\u001b[m0dBFS level = 1.0,\u001b[m A4 tuning = 442.0\n",
      "\u001b[maudio buffered in 256 sample-frame blocks\n",
      "\u001b[mreading 2048-byte blks of shorts from adc:Built-in Audio Pro: (RAW)\n",
      "writing 512 sample blks of 64-bit floats to dac:Built-in Audio Pro:\n",
      "SECTION 1:\n",
      "\u001b[m[maelzel.core:playback.py:86:registerPreset:DEBUG] *********** Session registered new instr: 'preset:sin'\n"
     ]
    },
    {
     "data": {
      "application/vnd.jupyter.widget-view+json": {
       "model_id": "d51280365cc24aecb279c6e3619e3b70",
       "version_major": 2,
       "version_minor": 0
      },
      "text/plain": [
       "Button(description='Stop', style=ButtonStyle())"
      ]
     },
     "metadata": {},
     "output_type": "display_data"
    },
    {
     "data": {
      "application/vnd.jupyter.widget-view+json": {
       "model_id": "8b26ec17266244abab8b2230b7577267",
       "version_major": 2,
       "version_minor": 0
      },
      "text/plain": [
       "Output()"
      ]
     },
     "metadata": {},
     "output_type": "display_data"
    },
    {
     "data": {
      "text/html": [
       "<small><span style=\"\"><b>SynthGroup</b></span>(synths=<code style=\"\">35</code>)</small>\n",
       "<p><small>Instr: <strong style=\"color:MediumSeaGreen\">preset:sin</strong> - <b>35</b> synths</small></p>\n",
       "<table style=\"font-size: smaller\"<thead><tr><th style=\"text-align:left\">p1</th><th style=\"text-align:left\">start</th><th style=\"text-align:left\">dur</th><th style=\"text-align:left\">p4</th><th style=\"text-align:left\">kpos</th><th style=\"text-align:left\">kgain</th><th style=\"text-align:left\">idataidx_</th><th style=\"text-align:left\">inumbps</th><th style=\"text-align:left\">ibplen</th><th style=\"text-align:left\">ichan</th><th style=\"text-align:left\">ifadein</th><th style=\"text-align:left\">ifadeout</th><th style=\"text-align:left\">ipchintrp_</th><th style=\"text-align:left\">ifadekind</th><th style=\"text-align:left\">ktransp</th><th style=\"text-align:left\">klag</th><th style=\"text-align:left\">17</th><th style=\"text-align:left\">18</th><th style=\"text-align:left\">19</th><th style=\"text-align:left\">20</th><th style=\"text-align:left\">21</th><th style=\"text-align:left\">...</th></tr></thead><tbody><tr><td style=\"text-align:left\">501.0002 <b>𝍪</b></td><td style=\"text-align:left\">0.026</td><td style=\"text-align:left\">0.833</td><td style=\"text-align:left\">0</td><td style=\"text-align:left\">0.5</td><td style=\"text-align:left\">1</td><td style=\"text-align:left\">17</td><td style=\"text-align:left\">3</td><td style=\"text-align:left\">3</td><td style=\"text-align:left\">1</td><td style=\"text-align:left\">0.02</td><td style=\"text-align:left\">0.02</td><td style=\"text-align:left\">0</td><td style=\"text-align:left\">1</td><td style=\"text-align:left\">0</td><td style=\"text-align:left\">0.1</td><td style=\"text-align:left\">0</td><td style=\"text-align:left\">60</td><td style=\"text-align:left\">0.51518</td><td style=\"text-align:left\">0.33333</td><td style=\"text-align:left\">...</td></tr><tr><td style=\"text-align:left\">501.0003 <b>𝍪</b></td><td style=\"text-align:left\">0.360</td><td style=\"text-align:left\">0.838</td><td style=\"text-align:left\">0</td><td style=\"text-align:left\">0.5</td><td style=\"text-align:left\">1</td><td style=\"text-align:left\">17</td><td style=\"text-align:left\">3</td><td style=\"text-align:left\">3</td><td style=\"text-align:left\">1</td><td style=\"text-align:left\">0.02</td><td style=\"text-align:left\">0.02</td><td style=\"text-align:left\">0</td><td style=\"text-align:left\">1</td><td style=\"text-align:left\">0</td><td style=\"text-align:left\">0.1</td><td style=\"text-align:left\">0</td><td style=\"text-align:left\">75.662</td><td style=\"text-align:left\">0.51518</td><td style=\"text-align:left\">0.33796</td><td style=\"text-align:left\">...</td></tr><tr><td style=\"text-align:left\">501.0004 <b>𝍪</b></td><td style=\"text-align:left\">0.698</td><td style=\"text-align:left\">0.885</td><td style=\"text-align:left\">0</td><td style=\"text-align:left\">0.5</td><td style=\"text-align:left\">1</td><td style=\"text-align:left\">17</td><td style=\"text-align:left\">3</td><td style=\"text-align:left\">3</td><td style=\"text-align:left\">1</td><td style=\"text-align:left\">0.02</td><td style=\"text-align:left\">0.02</td><td style=\"text-align:left\">0</td><td style=\"text-align:left\">1</td><td style=\"text-align:left\">0</td><td style=\"text-align:left\">0.1</td><td style=\"text-align:left\">0</td><td style=\"text-align:left\">67.1</td><td style=\"text-align:left\">0.51518</td><td style=\"text-align:left\">0.38542</td><td style=\"text-align:left\">...</td></tr><tr><td style=\"text-align:left\">501.0005 <b>𝍪</b></td><td style=\"text-align:left\">1.083</td><td style=\"text-align:left\">0.848</td><td style=\"text-align:left\">0</td><td style=\"text-align:left\">0.5</td><td style=\"text-align:left\">1</td><td style=\"text-align:left\">17</td><td style=\"text-align:left\">3</td><td style=\"text-align:left\">3</td><td style=\"text-align:left\">1</td><td style=\"text-align:left\">0.02</td><td style=\"text-align:left\">0.02</td><td style=\"text-align:left\">0</td><td style=\"text-align:left\">1</td><td style=\"text-align:left\">0</td><td style=\"text-align:left\">0.1</td><td style=\"text-align:left\">0</td><td style=\"text-align:left\">59.926</td><td style=\"text-align:left\">0.51518</td><td style=\"text-align:left\">0.3478</td><td style=\"text-align:left\">...</td></tr><tr><td style=\"text-align:left\">...</td></tr></tbody></table>"
      ],
      "text/plain": [
       "SynthGroup(n=35)\n",
       "    Synth(𝍪 preset:sin=501.0002 start=0.899 dur=0.833 p4=0.5 kpos=1 kgain=17 idataidx_=3 inumbps=3 ibplen=1 ichan=0.02 ifadein=0.02 ifadeout=0 ipchintrp_=1 ifadekind=0 ktransp=0.1 klag=0 p17=60 p18=0.515178 p19=0.333333 p20=60 …)\n",
       "    Synth(𝍪 preset:sin=501.0003 start=1.232 dur=0.838 p4=0.5 kpos=1 kgain=17 idataidx_=3 inumbps=3 ibplen=1 ichan=0.02 ifadein=0.02 ifadeout=0 ipchintrp_=1 ifadekind=0 ktransp=0.1 klag=0 p17=75.6624 p18=0.515178 p19=0.337963 p20=75.6624 …)\n",
       "    Synth(𝍪 preset:sin=501.0004 start=1.570 dur=0.885 p4=0.5 kpos=1 kgain=17 idataidx_=3 inumbps=3 ibplen=1 ichan=0.02 ifadein=0.02 ifadeout=0 ipchintrp_=1 ifadekind=0 ktransp=0.1 klag=0 p17=67.0996 p18=0.515178 p19=0.385417 p20=67.0996 …)\n",
       "    Synth(𝍪 preset:sin=501.0005 start=1.956 dur=0.848 p4=0.5 kpos=1 kgain=17 idataidx_=3 inumbps=3 ibplen=1 ichan=0.02 ifadein=0.02 ifadeout=0 ipchintrp_=1 ifadekind=0 ktransp=0.1 klag=0 p17=59.9261 p18=0.515178 p19=0.347801 p20=59.9261 …)\n",
       "    Synth(𝍪 preset:sin=501.0006 start=2.303 dur=0.852 p4=0.5 kpos=1 kgain=17 idataidx_=3 inumbps=3 ibplen=1 ichan=0.02 ifadein=0.02 ifadeout=0 ipchintrp_=1 ifadekind=0 ktransp=0.1 klag=0 p17=75.5418 p18=0.515178 p19=0.352431 p20=75.5418 …)\n",
       "    Synth(𝍪 preset:sin=501.0007 start=2.656 dur=0.902 p4=0.5 kpos=1 kgain=17 idataidx_=3 inumbps=3 ibplen=1 ichan=0.02 ifadein=0.02 ifadeout=0 ipchintrp_=1 ifadekind=0 ktransp=0.1 klag=0 p17=66.9333 p18=0.515178 p19=0.401693 p20=66.9333 …)\n",
       "    Synth(𝍪 preset:sin=501.0008 start=3.058 dur=0.862 p4=0.5 kpos=1 kgain=17 idataidx_=3 inumbps=3 ibplen=1 ichan=0.02 ifadein=0.02 ifadeout=0 ipchintrp_=1 ifadekind=0 ktransp=0.1 klag=0 p17=59.7098 p18=0.515178 p19=0.362269 p20=59.7098 …)\n",
       "    Synth(𝍪 preset:sin=501.0009 start=3.420 dur=0.867 p4=0.5 kpos=1 kgain=17 idataidx_=3 inumbps=3 ibplen=1 ichan=0.02 ifadein=0.02 ifadeout=0 ipchintrp_=1 ifadekind=0 ktransp=0.1 klag=0 p17=75.2829 p18=0.515178 p19=0.366898 p20=75.2829 …)\n",
       "    Synth(𝍪 preset:sin=501.001 start=3.787 dur=0.918 p4=0.5 kpos=1 kgain=17 idataidx_=3 inumbps=3 ibplen=1 ichan=0.02 ifadein=0.02 ifadeout=0 ipchintrp_=1 ifadekind=0 ktransp=0.1 klag=0 p17=66.6337 p18=0.515178 p19=0.417969 p20=66.6337 …)\n",
       "    Synth(𝍪 preset:sin=501.0011 start=4.205 dur=0.877 p4=0.5 kpos=1 kgain=17 idataidx_=3 inumbps=3 ibplen=1 ichan=0.02 ifadein=0.02 ifadeout=0 ipchintrp_=1 ifadekind=0 ktransp=0.1 klag=0 p17=59.3672 p18=0.515178 p19=0.376736 p20=59.3672 …)\n",
       "    Synth(𝍪 preset:sin=501.0012 start=4.581 dur=0.881 p4=0.5 kpos=1 kgain=17 idataidx_=3 inumbps=3 ibplen=1 ichan=0.02 ifadein=0.02 ifadeout=0 ipchintrp_=1 ifadekind=0 ktransp=0.1 klag=0 p17=74.9048 p18=0.515178 p19=0.381366 p20=74.9048 …)\n",
       "    Synth(𝍪 preset:sin=501.0013 start=4.963 dur=0.934 p4=0.5 kpos=1 kgain=17 idataidx_=3 inumbps=3 ibplen=1 ichan=0.02 ifadein=0.02 ifadeout=0 ipchintrp_=1 ifadekind=0 ktransp=0.1 klag=0 p17=66.2229 p18=0.515178 p19=0.434245 p20=66.2229 …)\n",
       "    Synth(𝍪 preset:sin=501.0014 start=5.397 dur=0.891 p4=0.5 kpos=1 kgain=17 idataidx_=3 inumbps=3 ibplen=1 ichan=0.02 ifadein=0.02 ifadeout=0 ipchintrp_=1 ifadekind=0 ktransp=0.1 klag=0 p17=58.9235 p18=0.515178 p19=0.391204 p20=58.9235 …)\n",
       "    Synth(𝍪 preset:sin=501.0015 start=5.788 dur=0.896 p4=0.5 kpos=1 kgain=17 idataidx_=3 inumbps=3 ibplen=1 ichan=0.02 ifadein=0.02 ifadeout=0 ipchintrp_=1 ifadekind=0 ktransp=0.1 klag=0 p17=74.4354 p18=0.515178 p19=0.395833 p20=74.4354 …)\n",
       "    Synth(𝍪 preset:sin=501.0016 start=6.184 dur=0.951 p4=0.5 kpos=1 kgain=17 idataidx_=3 inumbps=3 ibplen=1 ichan=0.02 ifadein=0.02 ifadeout=0 ipchintrp_=1 ifadekind=0 ktransp=0.1 klag=0 p17=65.7314 p18=0.515178 p19=0.450521 p20=65.7314 …)\n",
       "    Synth(𝍪 preset:sin=501.0017 start=6.635 dur=0.906 p4=0.5 kpos=1 kgain=17 idataidx_=3 inumbps=3 ibplen=1 ichan=0.02 ifadein=0.02 ifadeout=0 ipchintrp_=1 ifadekind=0 ktransp=0.1 klag=0 p17=58.4116 p18=0.515178 p19=0.405671 p20=58.4116 …)\n",
       "    Synth(𝍪 preset:sin=501.0018 start=7.040 dur=0.910 p4=0.5 kpos=1 kgain=17 idataidx_=3 inumbps=3 ibplen=1 ichan=0.02 ifadein=0.02 ifadeout=0 ipchintrp_=1 ifadekind=0 ktransp=0.1 klag=0 p17=73.9094 p18=0.515178 p19=0.410301 p20=73.9094 …)\n",
       "    Synth(𝍪 preset:sin=501.0019 start=7.451 dur=0.967 p4=0.5 kpos=1 kgain=17 idataidx_=3 inumbps=3 ibplen=1 ichan=0.02 ifadein=0.02 ifadeout=0 ipchintrp_=1 ifadekind=0 ktransp=0.1 klag=0 p17=65.1954 p18=0.515178 p19=0.466797 p20=65.1954 …)\n",
       "    Synth(𝍪 preset:sin=501.002 start=7.917 dur=0.920 p4=0.5 kpos=1 kgain=17 idataidx_=3 inumbps=3 ibplen=1 ichan=0.02 ifadein=0.02 ifadeout=0 ipchintrp_=1 ifadekind=0 ktransp=0.1 klag=0 p17=57.8692 p18=0.515178 p19=0.420139 p20=57.8692 …)\n",
       "    Synth(𝍪 preset:sin=501.0021 start=8.338 dur=0.925 p4=0.5 kpos=1 kgain=17 idataidx_=3 inumbps=3 ibplen=1 ichan=0.02 ifadein=0.02 ifadeout=0 ipchintrp_=1 ifadekind=0 ktransp=0.1 klag=0 p17=73.3658 p18=0.515178 p19=0.424769 p20=73.3658 …)\n",
       "    Synth(𝍪 preset:sin=501.0022 start=8.762 dur=0.983 p4=0.5 kpos=1 kgain=17 idataidx_=3 inumbps=3 ibplen=1 ichan=0.02 ifadein=0.02 ifadeout=0 ipchintrp_=1 ifadekind=0 ktransp=0.1 klag=0 p17=64.6546 p18=0.515178 p19=0.483073 p20=64.6546 …)\n",
       "    Synth(𝍪 preset:sin=501.0023 start=9.245 dur=0.935 p4=0.5 kpos=1 kgain=17 idataidx_=3 inumbps=3 ibplen=1 ichan=0.02 ifadein=0.02 ifadeout=0 ipchintrp_=1 ifadekind=0 ktransp=0.1 klag=0 p17=57.3365 p18=0.515178 p19=0.434606 p20=57.3365 …)\n",
       "    Synth(𝍪 preset:sin=501.0024 start=9.680 dur=0.939 p4=0.5 kpos=1 kgain=17 idataidx_=3 inumbps=3 ibplen=1 ichan=0.02 ifadein=0.02 ifadeout=0 ipchintrp_=1 ifadekind=0 ktransp=0.1 klag=0 p17=72.8446 p18=0.515178 p19=0.439236 p20=72.8446 …)\n",
       "    Synth(𝍪 preset:sin=501.0025 start=10.119 dur=0.999 p4=0.5 kpos=1 kgain=17 idataidx_=3 inumbps=3 ibplen=1 ichan=0.02 ifadein=0.02 ifadeout=0 ipchintrp_=1 ifadekind=0 ktransp=0.1 klag=0 p17=64.149 p18=0.515178 p19=0.499349 p20=64.149 …)\n",
       "    Synth(𝍪 preset:sin=501.0026 start=10.619 dur=0.949 p4=0.5 kpos=1 kgain=17 idataidx_=3 inumbps=3 ibplen=1 ichan=0.02 ifadein=0.02 ifadeout=0 ipchintrp_=1 ifadekind=0 ktransp=0.1 klag=0 p17=56.8528 p18=0.515178 p19=0.449074 p20=56.8528 …)\n",
       "    Synth(𝍪 preset:sin=501.0027 start=11.068 dur=0.954 p4=0.5 kpos=1 kgain=17 idataidx_=3 inumbps=3 ibplen=1 ichan=0.02 ifadein=0.02 ifadeout=0 ipchintrp_=1 ifadekind=0 ktransp=0.1 klag=0 p17=72.3844 p18=0.515178 p19=0.453704 p20=72.3844 …)\n",
       "    Synth(𝍪 preset:sin=501.0028 start=11.521 dur=1.016 p4=0.5 kpos=1 kgain=17 idataidx_=3 inumbps=3 ibplen=1 ichan=0.02 ifadein=0.02 ifadeout=0 ipchintrp_=1 ifadekind=0 ktransp=0.1 klag=0 p17=63.7158 p18=0.515178 p19=0.515625 p20=63.7158 …)\n",
       "    Synth(𝍪 preset:sin=501.0029 start=12.037 dur=0.964 p4=0.5 kpos=1 kgain=17 idataidx_=3 inumbps=3 ibplen=1 ichan=0.02 ifadein=0.02 ifadeout=0 ipchintrp_=1 ifadekind=0 ktransp=0.1 klag=0 p17=56.454 p18=0.515178 p19=0.463542 p20=56.454 …)\n",
       "    Synth(𝍪 preset:sin=501.003 start=12.501 dur=0.968 p4=0.5 kpos=1 kgain=17 idataidx_=3 inumbps=3 ibplen=1 ichan=0.02 ifadein=0.02 ifadeout=0 ipchintrp_=1 ifadekind=0 ktransp=0.1 klag=0 p17=72.0193 p18=0.515178 p19=0.468171 p20=72.0193 …)\n",
       "    Synth(𝍪 preset:sin=501.0031 start=12.969 dur=1.032 p4=0.5 kpos=1 kgain=17 idataidx_=3 inumbps=3 ibplen=1 ichan=0.02 ifadein=0.02 ifadeout=0 ipchintrp_=1 ifadekind=0 ktransp=0.1 klag=0 p17=63.3871 p18=0.515178 p19=0.531901 p20=63.3871 …)\n",
       "    Synth(𝍪 preset:sin=501.0032 start=13.501 dur=0.978 p4=0.5 kpos=1 kgain=17 idataidx_=3 inumbps=3 ibplen=1 ichan=0.02 ifadein=0.02 ifadeout=0 ipchintrp_=1 ifadekind=0 ktransp=0.1 klag=0 p17=56.1694 p18=0.515178 p19=0.478009 p20=56.1694 …)\n",
       "    Synth(𝍪 preset:sin=501.0033 start=13.979 dur=0.983 p4=0.5 kpos=1 kgain=17 idataidx_=3 inumbps=3 ibplen=1 ichan=0.02 ifadein=0.02 ifadeout=0 ipchintrp_=1 ifadekind=0 ktransp=0.1 klag=0 p17=71.7761 p18=0.515178 p19=0.482639 p20=71.7761 …)\n",
       "    Synth(𝍪 preset:sin=501.0034 start=14.461 dur=1.048 p4=0.5 kpos=1 kgain=17 idataidx_=3 inumbps=3 ibplen=1 ichan=0.02 ifadein=0.02 ifadeout=0 ipchintrp_=1 ifadekind=0 ktransp=0.1 klag=0 p17=63.1873 p18=0.515178 p19=0.548177 p20=63.1873 …)\n",
       "    Synth(𝍪 preset:sin=501.0035 start=15.009 dur=0.992 p4=0.5 kpos=1 kgain=17 idataidx_=3 inumbps=3 ibplen=1 ichan=0.02 ifadein=0.02 ifadeout=0 ipchintrp_=1 ifadekind=0 ktransp=0.1 klag=0 p17=56.0201 p18=0.515178 p19=0.492477 p20=56.0201 …)\n",
       "    Synth(𝍪 preset:sin=501.0036 start=15.502 dur=0.997 p4=0.5 kpos=1 kgain=17 idataidx_=3 inumbps=3 ibplen=1 ichan=0.02 ifadein=0.02 ifadeout=0 ipchintrp_=1 ifadekind=0 ktransp=0.1 klag=0 p17=71.673 p18=0.515178 p19=0.497106 p20=71.673 …)"
      ]
     },
     "execution_count": 6,
     "metadata": {},
     "output_type": "execute_result"
    }
   ],
   "source": [
    "left3.play(sustain=0.5)"
   ]
  },
  {
   "cell_type": "code",
   "execution_count": null,
   "id": "e144c52f-e0a9-4368-a5d8-b762602df34c",
   "metadata": {},
   "outputs": [],
   "source": []
  }
 ],
 "metadata": {
  "kernelspec": {
   "display_name": "Python 3 (ipykernel)",
   "language": "python",
   "name": "python3"
  },
  "language_info": {
   "codemirror_mode": {
    "name": "ipython",
    "version": 3
   },
   "file_extension": ".py",
   "mimetype": "text/x-python",
   "name": "python",
   "nbconvert_exporter": "python",
   "pygments_lexer": "ipython3",
   "version": "3.11.6"
  }
 },
 "nbformat": 4,
 "nbformat_minor": 5
}
