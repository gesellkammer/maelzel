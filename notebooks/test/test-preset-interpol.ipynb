{
 "cells": [
  {
   "cell_type": "code",
   "execution_count": 1,
   "id": "36f6e871-7e04-4f5e-8ab6-8b75b4dddc71",
   "metadata": {},
   "outputs": [],
   "source": [
    "from math import *\n",
    "from dataclasses import dataclass\n",
    "from emlib import mathlib\n",
    "from math import pi\n",
    "import matplotlib.pyplot as plt\n",
    "from matplotlib.patches import Circle, Wedge, Polygon\n",
    "from matplotlib.collections import PatchCollection"
   ]
  },
  {
   "cell_type": "code",
   "execution_count": 2,
   "id": "dd307fef-ab14-4e3f-ba0e-0f1e06c796c1",
   "metadata": {},
   "outputs": [],
   "source": [
    "@dataclass\n",
    "class Point:\n",
    "    name: str\n",
    "    x: float\n",
    "    y: float\n",
    "   "
   ]
  },
  {
   "cell_type": "code",
   "execution_count": 3,
   "id": "ebbbd37e-4d8b-4235-9593-577a2597d137",
   "metadata": {},
   "outputs": [],
   "source": [
    "A = Point('A', 0, 0)\n",
    "E = Point('E', 1, 0)\n",
    "I = Point('I', 0.5, 0.5)\n",
    "O = Point('O', 0, 1)\n",
    "U = Point('U', 1, 1)\n"
   ]
  },
  {
   "cell_type": "code",
   "execution_count": 4,
   "id": "659e56c3-2685-44c7-8504-506a14766edd",
   "metadata": {},
   "outputs": [],
   "source": [
    "points = [A, E, I, O, U]"
   ]
  },
  {
   "cell_type": "code",
   "execution_count": 14,
   "id": "ec499be6-703a-42ab-9fc6-c878743ee5a3",
   "metadata": {},
   "outputs": [
    {
     "name": "stdout",
     "output_type": "stream",
     "text": [
      "[0.7071067811865476, 0.7071067811865476, 0.7071067811865476, 0.7071067811865476, 0.7071067811865476]\n"
     ]
    },
    {
     "data": {
      "image/png": "[encoded data removed]",
      "text/plain": [
       "<Figure size 720x720 with 1 Axes>"
      ]
     },
     "metadata": {
      "needs_background": "light"
     },
     "output_type": "display_data"
    }
   ],
   "source": [
    "def distance(p0, p1):\n",
    "    return sqrt((p1.x - p0.x)**2 + (p1.y-p0.y)**2)\n",
    "\n",
    "def nearestDistance(p1, candidates):\n",
    "    return min(distance(p, p1) for p in candidates if p != p1)\n",
    "\n",
    "def calculateRadius(point, others):\n",
    "    return nearestDistance(point, others)\n",
    "\n",
    "def calculateWeight(point, cursor):\n",
    "    if (point.x, point.y) == (cursor.x, cursor.y):\n",
    "        return 1\n",
    "    pointRadius = calculateRadius(point, points)\n",
    "    cursorRadius = calculateRadius(cursor, points)\n",
    "    dist = distance(point, cursor)\n",
    "    intersection = pointRadius + cursorRadius - dist\n",
    "    return intersection / pointRadius\n",
    "    \n",
    "    \n",
    "def calculateWeights(cursor, clamp=0.):\n",
    "    radii = [calculateRadius(p, points) for p in points]\n",
    "    # print(\"radii\", radii)\n",
    "    weights = [max(0, calculateWeight(p, cursor)) for p in points]\n",
    "    sumweights = sum(weights)\n",
    "    if sumweights == 0:\n",
    "        return weights\n",
    "    relweights = [w/sumweights for w in weights]\n",
    "    if not clamp:\n",
    "        return relweights\n",
    "    avg = 1/len(relweights)\n",
    "    validweights = [w if w >= (avg*clamp) else 0 for w in relweights]\n",
    "    sumvalid = sum(validweights)\n",
    "    return [w/sumvalid for w in validweights]\n",
    "    \n",
    "    \n",
    "def draw(points):\n",
    "    fig, ax = plt.subplots(figsize=(10, 10))\n",
    "    radii = [calculateRadius(p, points) for p in points]\n",
    "    print(radii)\n",
    "    circles = [Circle((p.x, p.y), r) for p, r in zip(points, radii)]\n",
    "    coll = PatchCollection(circles, alpha=0.1)\n",
    "    ax.add_collection(coll)\n",
    "    plt.show()\n",
    "    \n",
    "draw(points)"
   ]
  },
  {
   "cell_type": "code",
   "execution_count": 13,
   "id": "864999ac-8f77-4731-a2c4-de0b8801ce5f",
   "metadata": {},
   "outputs": [
    {
     "data": {
      "text/plain": [
       "[0.0, 0.0, 1.0, 0.0, 0.0]"
      ]
     },
     "execution_count": 13,
     "metadata": {},
     "output_type": "execute_result"
    }
   ],
   "source": [
    "ws = calculateWeights(Point('x', 0.5, 0.5), clamp=0)\n",
    "ws"
   ]
  },
  {
   "cell_type": "code",
   "execution_count": null,
   "id": "3980b134-5385-4fd7-8592-90c27eba7765",
   "metadata": {},
   "outputs": [],
   "source": []
  }
 ],
 "metadata": {
  "kernelspec": {
   "display_name": "Python 3 (ipykernel)",
   "language": "python",
   "name": "python3"
  },
  "language_info": {
   "codemirror_mode": {
    "name": "ipython",
    "version": 3
   },
   "file_extension": ".py",
   "mimetype": "text/x-python",
   "name": "python",
   "nbconvert_exporter": "python",
   "pygments_lexer": "ipython3",
   "version": "3.9.7"
  }
 },
 "nbformat": 4,
 "nbformat_minor": 5
}
