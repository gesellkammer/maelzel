{
 "cells": [
  {
   "cell_type": "code",
   "execution_count": 1,
   "id": "1b5028ca-b904-445b-8b58-3b40c3f2e9c2",
   "metadata": {},
   "outputs": [],
   "source": [
    "from maelzel.core import *\n",
    "from maelzel.music import lilytools\n",
    "import logging\n",
    "logging.getLogger(\"maelzel\").setLevel(\"DEBUG\")"
   ]
  },
  {
   "cell_type": "code",
   "execution_count": 2,
   "id": "15e183e7-eba4-4bba-b98b-e024472ccd99",
   "metadata": {},
   "outputs": [],
   "source": [
    "cfg = getConfig()\n",
    "cfg['.quant.debug'] = True\n",
    "# cfg['quant.nestedTuplets'] = True\n"
   ]
  },
  {
   "cell_type": "code",
   "execution_count": 3,
   "id": "46be2d56-5b17-48c5-a51c-c0eb31591c46",
   "metadata": {},
   "outputs": [
    {
     "name": "stdout",
     "output_type": "stream",
     "text": [
      "Beat: 0 - 1/2 (dur: 1/2)\n"
     ]
    },
    {
     "data": {
      "text/html": [
       "<table>\n",
       "<thead>\n",
       "<tr><th style=\"text-align: right;\">  error</th><th>div  </th><th>snapped                                   </th><th>slots  </th><th>info                                                                                                                                                                  </th></tr>\n",
       "</thead>\n",
       "<tbody>\n",
       "<tr><td style=\"text-align: right;\"> 0.0000</td><td>(3,) </td><td>[‹4C# 0:0.333 1/3♩›, ‹4D~ 0.333:0.5 1/6♩›]</td><td>[0, 2] </td><td>gridError=0, rhythmComplexity=0 (numSyncop=0, numTies=0), divPenalty=0 (0, divPenalty=0, cardinalityPenalty=0, numSubdivsPenalty=0, levelPenalty=0)                   </td></tr>\n",
       "<tr><td style=\"text-align: right;\"> 0.1637</td><td>(5,) </td><td>[‹4C# 0:0.3 3/10♩›, ‹4D~ 0.3:0.5 1/5♩›]   </td><td>[0, 3] </td><td>gridError=0.164, rhythmComplexity=0.224 (numSyncop=1, numTies=0), divPenalty=0.02 (0.0002, divPenalty=0.02, cardinalityPenalty=0, numSubdivsPenalty=0, levelPenalty=0)</td></tr>\n",
       "</tbody>\n",
       "</table>"
      ],
      "text/plain": [
       "<IPython.core.display.HTML object>"
      ]
     },
     "metadata": {},
     "output_type": "display_data"
    },
    {
     "name": "stdout",
     "output_type": "stream",
     "text": [
      "Beat: 1/2 - 1 (dur: 1/2)\n"
     ]
    },
    {
     "data": {
      "text/html": [
       "<table>\n",
       "<thead>\n",
       "<tr><th style=\"text-align: right;\">  error</th><th>div  </th><th>snapped                                  </th><th>slots  </th><th>info                                                                                                                                                                  </th></tr>\n",
       "</thead>\n",
       "<tbody>\n",
       "<tr><td style=\"text-align: right;\"> 0.0000</td><td>(3,) </td><td>[‹~4D 0:0.167 1/6♩›, ‹4E 0.167:0.5 1/3♩›]</td><td>[0, 1] </td><td>gridError=0, rhythmComplexity=0 (numSyncop=0, numTies=0), divPenalty=0 (0, divPenalty=0, cardinalityPenalty=0, numSubdivsPenalty=0, levelPenalty=0)                   </td></tr>\n",
       "<tr><td style=\"text-align: right;\"> 0.1637</td><td>(5,) </td><td>[‹~4D 0:0.2 1/5♩›, ‹4E 0.2:0.5 3/10♩›]   </td><td>[0, 2] </td><td>gridError=0.164, rhythmComplexity=0.224 (numSyncop=1, numTies=0), divPenalty=0.02 (0.0002, divPenalty=0.02, cardinalityPenalty=0, numSubdivsPenalty=0, levelPenalty=0)</td></tr>\n",
       "</tbody>\n",
       "</table>"
      ],
      "text/plain": [
       "<IPython.core.display.HTML object>"
      ]
     },
     "metadata": {},
     "output_type": "display_data"
    },
    {
     "name": "stderr",
     "output_type": "stream",
     "text": [
      "[maelzel.scoring:quant.py:1695:_nodesCanMerge:DEBUG] acrossBeat=1, syncopated=True, beatWeight=0, profile.breakSyncopationsMinWeight()=1\n",
      "[maelzel.scoring:quant.py:1829:_mergeSiblings:DEBUG] Nodes can merge:\n",
      "Node(3/2, dur=1/2 «4C# 0:0.333 1/3♩ 3/2»\n",
      "                  «4D~ 0.333:0.5 1/6♩ 3/2»)\n",
      "Node(3/2, dur=1/2 «~4D 0.5:0.667 1/6♩ 3/2»\n",
      "                  «4E 0.667:1 1/3♩ 3/2»)\n",
      "---- Merged node:\n",
      "Node(3/2, dur=1 «4C# 0:0.333 1/3♩ 3/2»\n",
      "                «4D 0.333:0.667 1/3♩ 3/2»\n",
      "                «4E 0.667:1 1/3♩ 3/2»)\n",
      "[maelzel.scoring:quant.py:835:breakSyncopations:DEBUG] Evaluating split at beat.offset=Fraction(1, 2), beat.duration=Fraction(1, 2), minWeight=1\n",
      "[maelzel.scoring:node.py:955:_splitNotationAtBeat:DEBUG] Found a syncopation but the callback was negative, so «4D 0.333:0.667 1/3♩ 3/2» will not be split\n",
      "[maelzel.scoring:quant.py:2093:resolveEnharmonics:DEBUG] Resolving enharmonics for measure 0\n",
      "[maelzel.scoring:renderlily.py:1174:write:DEBUG] Rendering lilypond '/home/em/.cache/tmpd94xcefd/ro9p4hg4.ly' to '/home/em/.cache/tmpd94xcefd/ro9p4hg4.png'\n",
      "[maelzel.scoring:renderlily.py:1190:write:DEBUG] Found crop file '/home/em/.cache/tmpd94xcefd/ro9p4hg4.cropped.png', using that as output\n",
      "[maelzel.scoring:renderlily.py:1200:write:DEBUG] Moving /home/em/.cache/tmpd94xcefd/ro9p4hg4.cropped.png to /home/em/.cache/tmpd94xcefd/c5x6qjwn.png\n"
     ]
    },
    {
     "data": {
      "image/png": "[encoded data removed]",
      "text/plain": [
       "<IPython.core.display.Image object>"
      ]
     },
     "metadata": {
      "image/png": {
       "width": 164.25
      }
     },
     "output_type": "display_data"
    }
   ],
   "source": [
    "v1 = Voice([\n",
    "    Note(\"4C#\", F(1, 3)),\n",
    "    Note(\"4D\", F(1, 3)),\n",
    "    Note(\"4E\", F(1, 3)),\n",
    "])\n",
    "\n",
    "with ScoreStruct((4, 16)):\n",
    "    v1.show()"
   ]
  },
  {
   "cell_type": "code",
   "execution_count": 4,
   "id": "30a2567c-b519-4e26-87b6-70018bee5188",
   "metadata": {},
   "outputs": [
    {
     "name": "stderr",
     "output_type": "stream",
     "text": [
      "[maelzel.scoring:quant.py:1471:quantizeMeasure:DEBUG] Measure 4/4 is not filled (events=[‹4C 0:0.111 1/9♩›, ‹4C# 0.111:0.222 1/9♩›, ‹4D 0.222:0.333 1/9♩›, ‹4D# 0.333:0.444 1/9♩›, ‹4E 0.444:0.556 1/9♩›, ‹4F 0.556:0.667 1/9♩›, ‹4F# 0.667:0.778 1/9♩›, ‹4G 0.778:0.889 1/9♩›, ‹4G# 0.889:1 1/9♩›, ‹4A 1:1.111 1/9♩›, ‹4A# 1.111:1.222 1/9♩›, ‹4B 1.222:1.333 1/9♩›]). Filling gaps with silences\n",
      "[maelzel.scoring:quant.py:1149:quantizeBeatBinary:DEBUG] Skipping (9, 6), divPenalty=0.0509902 * 0.1 > minError=0.005\n",
      "[maelzel.scoring:quant.py:1149:quantizeBeatBinary:DEBUG] Skipping (6, 9), divPenalty=0.0509902 * 0.1 > minError=0.005\n",
      "[maelzel.scoring:quant.py:1149:quantizeBeatBinary:DEBUG] Skipping (8, 9), divPenalty=0.0509902 * 0.1 > minError=0.005\n",
      "[maelzel.scoring:quant.py:1149:quantizeBeatBinary:DEBUG] Skipping (9, 8), divPenalty=0.0509902 * 0.1 > minError=0.005\n"
     ]
    },
    {
     "name": "stdout",
     "output_type": "stream",
     "text": [
      "Beat: 0 - 1 (dur: 1)\n"
     ]
    },
    {
     "data": {
      "text/html": [
       "<table>\n",
       "<thead>\n",
       "<tr><th style=\"text-align: right;\">  error</th><th>div      </th><th>snapped                                                                                                                                                                                                                                                                                                                                                                                                                   </th><th>slots                      </th><th>info                                                                                                                                                              </th></tr>\n",
       "</thead>\n",
       "<tbody>\n",
       "<tr><td style=\"text-align: right;\"> 0.0030</td><td>(3, 3, 3)</td><td>[‹4C 0:0.111 1/9♩›, ‹4C# 0.111:0.222 1/9♩›, ‹4D 0.222:0.333 1/9♩›, ‹4D# 0.333:0.444 1/9♩›, ‹4E 0.444:0.556 1/9♩›, ‹4F 0.556:0.667 1/9♩›, ‹4F# 0.667:0.778 1/9♩›, ‹4G 0.778:0.889 1/9♩›, ‹4G# 0.889:1 1/9♩›]                                                                                                                                                                                                               </td><td>[0, 1, 2, 3, 4, 5, 6, 7, 8]</td><td>gridError=0, rhythmComplexity=0 (numSyncop=0, numTies=0), divPenalty=0.03 (0.0003, divPenalty=0, cardinalityPenalty=0, numSubdivsPenalty=0, levelPenalty=0.03)    </td></tr>\n",
       "<tr><td style=\"text-align: right;\"> 0.0050</td><td>(9,)     </td><td>[‹4C 0:0.111 1/9♩›, ‹4C# 0.111:0.222 1/9♩›, ‹4D 0.222:0.333 1/9♩›, ‹4D# 0.333:0.444 1/9♩›, ‹4E 0.444:0.556 1/9♩›, ‹4F 0.556:0.667 1/9♩›, ‹4F# 0.667:0.778 1/9♩›, ‹4G 0.778:0.889 1/9♩›, ‹4G# 0.889:1 1/9♩›]                                                                                                                                                                                                               </td><td>[0, 1, 2, 3, 4, 5, 6, 7, 8]</td><td>gridError=0, rhythmComplexity=0 (numSyncop=0, numTies=0), divPenalty=0.05 (0.0005, divPenalty=0.05, cardinalityPenalty=0, numSubdivsPenalty=0, levelPenalty=0)    </td></tr>\n",
       "<tr><td style=\"text-align: right;\"> 0.3685</td><td>(8,)     </td><td>[‹4C 0:0.125 1/8♩›, ‹4C# 0.125:0.25 1/8♩›, ‹4D 0.25:0.375 1/8♩›, ‹4D# 0.375:0.5 1/8♩›, ‹4E 0.5:grace properties={&#x27;.snappedGracenote&#x27;: True, &#x27;.originalDuration&#x27;: Fraction(1, 9)}›, ‹4F 0.5:0.625 1/8♩›, ‹4F# 0.625:0.75 1/8♩›, ‹4G 0.75:0.875 1/8♩›, ‹4G# 0.875:1 1/8♩›]                                                                                                                                                  </td><td>[0, 1, 2, 3, 4, 4, 5, 6, 7]</td><td>gridError=0.368, rhythmComplexity=0 (numSyncop=0, numTies=0), divPenalty=0.01 (0.0001, divPenalty=0.01, cardinalityPenalty=0, numSubdivsPenalty=0, levelPenalty=0)</td></tr>\n",
       "<tr><td style=\"text-align: right;\"> 0.4182</td><td>(7,)     </td><td>[‹4C 0:0.143 1/7♩›, ‹4C# 0.143:0.286 1/7♩›, ‹4D 0.286:grace properties={&#x27;.snappedGracenote&#x27;: True, &#x27;.originalDuration&#x27;: Fraction(1, 9)}›, ‹4D# 0.286:0.429 1/7♩›, ‹4E 0.429:0.571 1/7♩›, ‹4F 0.571:0.714 1/7♩›, ‹4F# 0.714:grace properties={&#x27;.snappedGracenote&#x27;: True, &#x27;.originalDuration&#x27;: Fraction(1, 9)}›, ‹4G 0.714:0.857 1/7♩›, ‹4G# 0.857:1 1/7♩›]                                                                 </td><td>[0, 1, 2, 2, 3, 4, 5, 5, 6]</td><td>gridError=0.418, rhythmComplexity=0 (numSyncop=0, numTies=0), divPenalty=0.02 (0.0002, divPenalty=0.02, cardinalityPenalty=0, numSubdivsPenalty=0, levelPenalty=0)</td></tr>\n",
       "<tr><td style=\"text-align: right;\"> 0.4628</td><td>(6,)     </td><td>[‹4C 0:0.167 1/6♩›, ‹4C# 0.167:grace properties={&#x27;.snappedGracenote&#x27;: True, &#x27;.originalDuration&#x27;: Fraction(1, 9)}›, ‹4D 0.167:0.333 1/6♩›, ‹4D# 0.333:0.5 1/6♩›, ‹4E 0.5:grace properties={&#x27;.snappedGracenote&#x27;: True, &#x27;.originalDuration&#x27;: Fraction(1, 9)}›, ‹4F 0.5:0.667 1/6♩›, ‹4F# 0.667:0.833 1/6♩›, ‹4G 0.833:grace properties={&#x27;.snappedGracenote&#x27;: True, &#x27;.originalDuration&#x27;: Fraction(1, 9)}›, ‹4G# 0.833:1 1/6♩›]</td><td>[0, 1, 1, 2, 3, 3, 4, 5, 5]</td><td>gridError=0.463, rhythmComplexity=0 (numSyncop=0, numTies=0), divPenalty=0.01 (0.0001, divPenalty=0.01, cardinalityPenalty=0, numSubdivsPenalty=0, levelPenalty=0)</td></tr>\n",
       "</tbody>\n",
       "</table>"
      ],
      "text/plain": [
       "<IPython.core.display.HTML object>"
      ]
     },
     "metadata": {},
     "output_type": "display_data"
    },
    {
     "name": "stderr",
     "output_type": "stream",
     "text": [
      "[maelzel.scoring:quant.py:1158:quantizeBeatBinary:DEBUG] Skipping (7,), gridError=0.20659307755092535 * 1.0 > minError=0.2030273816864749\n",
      "[maelzel.scoring:quant.py:1149:quantizeBeatBinary:DEBUG] Skipping (9, 1), divPenalty=0.05 * 0.1 > minError=0.005\n"
     ]
    },
    {
     "name": "stdout",
     "output_type": "stream",
     "text": [
      "Beat: 1 - 2 (dur: 1)\n"
     ]
    },
    {
     "data": {
      "text/html": [
       "<table>\n",
       "<thead>\n",
       "<tr><th style=\"text-align: right;\">  error</th><th>div      </th><th>snapped                                                                                                                                                    </th><th>slots       </th><th>info                                                                                                                                                                </th></tr>\n",
       "</thead>\n",
       "<tbody>\n",
       "<tr><td style=\"text-align: right;\"> 0.0030</td><td>(3, 1, 1)</td><td>[‹4A 0:0.111 1/9♩›, ‹4A# 0.111:0.222 1/9♩›, ‹4B 0.222:0.333 1/9♩›, ‹r 0.333:1 2/3♩›]                                                                       </td><td>[0, 1, 2, 3]</td><td>gridError=0, rhythmComplexity=0 (numSyncop=0, numTies=0), divPenalty=0.03 (0.0003, divPenalty=0, cardinalityPenalty=0, numSubdivsPenalty=0, levelPenalty=0.03)      </td></tr>\n",
       "<tr><td style=\"text-align: right;\"> 0.0050</td><td>(9,)     </td><td>[‹4A 0:0.111 1/9♩›, ‹4A# 0.111:0.222 1/9♩›, ‹4B 0.222:0.333 1/9♩›, ‹r 0.333:1 2/3♩›]                                                                       </td><td>[0, 1, 2, 3]</td><td>gridError=0, rhythmComplexity=0 (numSyncop=0, numTies=0), divPenalty=0.05 (0.0005, divPenalty=0.05, cardinalityPenalty=0, numSubdivsPenalty=0, levelPenalty=0)      </td></tr>\n",
       "<tr><td style=\"text-align: right;\"> 0.1403</td><td>(8,)     </td><td>[‹4A 0:0.125 1/8♩›, ‹4A# 0.125:0.25 1/8♩›, ‹4B 0.25:0.375 1/8♩›, ‹r 0.375:1 5/8♩›]                                                                         </td><td>[0, 1, 2, 3]</td><td>gridError=0.14, rhythmComplexity=0.25 (numSyncop=1, numTies=1), divPenalty=0.01 (0.0001, divPenalty=0.01, cardinalityPenalty=0, numSubdivsPenalty=0, levelPenalty=0)</td></tr>\n",
       "<tr><td style=\"text-align: right;\"> 0.2030</td><td>(6,)     </td><td>[‹4A 0:0.167 1/6♩›, ‹4A# 0.167:grace properties={&#x27;.snappedGracenote&#x27;: True, &#x27;.originalDuration&#x27;: Fraction(1, 9)}›, ‹4B 0.167:0.333 1/6♩›, ‹r 0.333:1 2/3♩›]</td><td>[0, 1, 1, 2]</td><td>gridError=0.203, rhythmComplexity=0 (numSyncop=0, numTies=0), divPenalty=0.01 (0.0001, divPenalty=0.01, cardinalityPenalty=0, numSubdivsPenalty=0, levelPenalty=0)  </td></tr>\n",
       "</tbody>\n",
       "</table>"
      ],
      "text/plain": [
       "<IPython.core.display.HTML object>"
      ]
     },
     "metadata": {},
     "output_type": "display_data"
    },
    {
     "name": "stderr",
     "output_type": "stream",
     "text": [
      "[maelzel.scoring:quant.py:1832:_mergeSiblings:DEBUG] Nodes cannot merge (Merging these tuplets is not needed): \n",
      "Node(3/2, dur=1/3 «4C 0:0.111 1/9♩ 3/2,3/2»\n",
      "                  «4C# 0.111:0.222 1/9♩ 3/2,3/2»\n",
      "                  «4D 0.222:0.333 1/9♩ 3/2,3/2»)\n",
      "Node(3/2, dur=1/3 «4D# 0.333:0.444 1/9♩ 3/2,3/2»\n",
      "                  «4E 0.444:0.556 1/9♩ 3/2,3/2»\n",
      "                  «4F 0.556:0.667 1/9♩ 3/2,3/2»)\n",
      "[maelzel.scoring:quant.py:1832:_mergeSiblings:DEBUG] Nodes cannot merge (Merging these tuplets is not needed): \n",
      "Node(3/2, dur=1/3 «4D# 0.333:0.444 1/9♩ 3/2,3/2»\n",
      "                  «4E 0.444:0.556 1/9♩ 3/2,3/2»\n",
      "                  «4F 0.556:0.667 1/9♩ 3/2,3/2»)\n",
      "Node(3/2, dur=1/3 «4F# 0.667:0.778 1/9♩ 3/2,3/2»\n",
      "                  «4G 0.778:0.889 1/9♩ 3/2,3/2»\n",
      "                  «4G# 0.889:1 1/9♩ 3/2,3/2»)\n",
      "[maelzel.scoring:quant.py:1832:_mergeSiblings:DEBUG] Nodes cannot merge (no need to extend node over beat): \n",
      "Node(3/2, dur=1 \n",
      "    Node(3/2, dur=1/3 «4C 0:0.111 1/9♩ 3/2,3/2»\n",
      "                      «4C# 0.111:0.222 1/9♩ 3/2,3/2»\n",
      "                      «4D 0.222:0.333 1/9♩ 3/2,3/2»)\n",
      "    Node(3/2, dur=1/3 «4D# 0.333:0.444 1/9♩ 3/2,3/2»\n",
      "                      «4E 0.444:0.556 1/9♩ 3/2,3/2»\n",
      "                      «4F 0.556:0.667 1/9♩ 3/2,3/2»)\n",
      "    Node(3/2, dur=1/3 «4F# 0.667:0.778 1/9♩ 3/2,3/2»\n",
      "                      «4G 0.778:0.889 1/9♩ 3/2,3/2»\n",
      "                      «4G# 0.889:1 1/9♩ 3/2,3/2»))\n",
      "Node(3/2, dur=1 \n",
      "    Node(3/2, dur=1/3 «4A 1:1.111 1/9♩ 3/2,3/2»\n",
      "                      «4A# 1.111:1.222 1/9♩ 3/2,3/2»\n",
      "                      «4B 1.222:1.333 1/9♩ 3/2,3/2»)\n",
      "    «r 1.333:2 2/3♩ 3/2»)\n",
      "[maelzel.scoring:quant.py:835:breakSyncopations:DEBUG] Evaluating split at beat.offset=Fraction(1, 1), beat.duration=Fraction(1, 1), minWeight=1\n",
      "[maelzel.scoring:quant.py:835:breakSyncopations:DEBUG] Evaluating split at beat.offset=Fraction(2, 1), beat.duration=Fraction(1, 1), minWeight=1\n",
      "[maelzel.scoring:quant.py:835:breakSyncopations:DEBUG] Evaluating split at beat.offset=Fraction(3, 1), beat.duration=Fraction(1, 1), minWeight=1\n",
      "[maelzel.scoring:node.py:955:_splitNotationAtBeat:DEBUG] Found a syncopation but the callback was negative, so «r 2:4 2♩» will not be split\n",
      "[maelzel.scoring:quant.py:2093:resolveEnharmonics:DEBUG] Resolving enharmonics for measure 0\n",
      "[maelzel.scoring:renderlily.py:1174:write:DEBUG] Rendering lilypond '/home/em/.cache/tmpd94xcefd/oy622xdm.ly' to '/home/em/.cache/tmpd94xcefd/oy622xdm.png'\n",
      "[maelzel.scoring:renderlily.py:1190:write:DEBUG] Found crop file '/home/em/.cache/tmpd94xcefd/oy622xdm.cropped.png', using that as output\n",
      "[maelzel.scoring:renderlily.py:1200:write:DEBUG] Moving /home/em/.cache/tmpd94xcefd/oy622xdm.cropped.png to /home/em/.cache/tmpd94xcefd/4rgunl7l.png\n"
     ]
    },
    {
     "data": {
      "image/png": "[encoded data removed]",
      "text/plain": [
       "<IPython.core.display.Image object>"
      ]
     },
     "metadata": {
      "image/png": {
       "width": 452.25
      }
     },
     "output_type": "display_data"
    }
   ],
   "source": [
    "v1 = Voice([Note(m, F(1, 9)) for m in range(60, 72)])\n",
    "v1.show()"
   ]
  },
  {
   "cell_type": "markdown",
   "id": "6bde69ec-3628-4988-b7bc-944020ef3e93",
   "metadata": {},
   "source": [
    "El resultado deberia ser el siguiente"
   ]
  },
  {
   "cell_type": "code",
   "execution_count": 5,
   "id": "eef9687a-f0d4-421a-ba77-eea650ab5bf5",
   "metadata": {},
   "outputs": [
    {
     "data": {
      "image/png": "[encoded data removed]",
      "text/plain": [
       "<IPython.core.display.Image object>"
      ]
     },
     "metadata": {
      "image/png": {
       "width": 227
      }
     },
     "output_type": "display_data"
    }
   ],
   "source": [
    "from maelzel.music import lilytools\n",
    "lilytools.show(r\"\\tuplet 3/2 { cis'4 d'4 \\tuplet 3/2 { e'8 f'8 g'8} } r2\")\n"
   ]
  },
  {
   "cell_type": "code",
   "execution_count": 6,
   "id": "32529e68-7f19-4f77-8d75-59acbb064f6c",
   "metadata": {
    "tags": []
   },
   "outputs": [
    {
     "name": "stderr",
     "output_type": "stream",
     "text": [
      "[maelzel.scoring:quant.py:1471:quantizeMeasure:DEBUG] Measure 4/4 is not filled (events=[‹4C# 0:0.667 2/3♩›, ‹4D 0.667:1.333 2/3♩›, ‹4E 1.333:1.556 2/9♩›, ‹4F 1.556:1.778 2/9♩›, ‹4G 1.778:2 2/9♩›]). Filling gaps with silences\n"
     ]
    },
    {
     "name": "stdout",
     "output_type": "stream",
     "text": [
      "Beat: 0 - 1 (dur: 1)\n"
     ]
    },
    {
     "data": {
      "text/html": [
       "<table>\n",
       "<thead>\n",
       "<tr><th style=\"text-align: right;\">  error</th><th>div  </th><th>snapped                                 </th><th>slots  </th><th>info                                                                                                                                               </th></tr>\n",
       "</thead>\n",
       "<tbody>\n",
       "<tr><td style=\"text-align: right;\">      0</td><td>(3,) </td><td>[‹4C# 0:0.667 2/3♩›, ‹4D~ 0.667:1 1/3♩›]</td><td>[0, 2] </td><td>gridError=0, rhythmComplexity=0 (numSyncop=0, numTies=0), divPenalty=0 (0, divPenalty=0, cardinalityPenalty=0, numSubdivsPenalty=0, levelPenalty=0)</td></tr>\n",
       "</tbody>\n",
       "</table>"
      ],
      "text/plain": [
       "<IPython.core.display.HTML object>"
      ]
     },
     "metadata": {},
     "output_type": "display_data"
    },
    {
     "name": "stderr",
     "output_type": "stream",
     "text": [
      "[maelzel.scoring:quant.py:1158:quantizeBeatBinary:DEBUG] Skipping (8,), gridError=0.24376132565106126 * 1.0 > minError=0.23993645288846105\n",
      "[maelzel.scoring:quant.py:1149:quantizeBeatBinary:DEBUG] Skipping (7, 10), divPenalty=0.0632456 * 0.1 > minError=0.00612372\n",
      "[maelzel.scoring:quant.py:1149:quantizeBeatBinary:DEBUG] Skipping (10, 7), divPenalty=0.0632456 * 0.1 > minError=0.00612372\n"
     ]
    },
    {
     "name": "stdout",
     "output_type": "stream",
     "text": [
      "Beat: 1 - 2 (dur: 1)\n"
     ]
    },
    {
     "data": {
      "text/html": [
       "<table>\n",
       "<thead>\n",
       "<tr><th style=\"text-align: right;\">  error</th><th>div      </th><th>snapped                                                                              </th><th>slots       </th><th>info                                                                                                                                                                 </th></tr>\n",
       "</thead>\n",
       "<tbody>\n",
       "<tr><td style=\"text-align: right;\"> 0.0046</td><td>(1, 3, 3)</td><td>[‹~4D 0:0.333 1/3♩›, ‹4E 0.333:0.556 2/9♩›, ‹4F 0.556:0.778 2/9♩›, ‹4G 0.778:1 2/9♩›]</td><td>[0, 1, 3, 5]</td><td>gridError=0, rhythmComplexity=0.112 (numSyncop=1, numTies=0), divPenalty=0.03 (0.0003, divPenalty=0, cardinalityPenalty=0, numSubdivsPenalty=0, levelPenalty=0.03)   </td></tr>\n",
       "<tr><td style=\"text-align: right;\"> 0.0061</td><td>(3, 9)   </td><td>[‹~4D 0:0.333 1/3♩›, ‹4E 0.333:0.556 2/9♩›, ‹4F 0.556:0.778 2/9♩›, ‹4G 0.778:1 2/9♩›]</td><td>[0, 2, 4, 8]</td><td>gridError=0, rhythmComplexity=0.112 (numSyncop=1, numTies=0), divPenalty=0.05 (0.0005, divPenalty=0.05, cardinalityPenalty=0, numSubdivsPenalty=0, levelPenalty=0)   </td></tr>\n",
       "<tr><td style=\"text-align: right;\"> 0.0087</td><td>(9,)     </td><td>[‹~4D 0:0.333 1/3♩›, ‹4E 0.333:0.556 2/9♩›, ‹4F 0.556:0.778 2/9♩›, ‹4G 0.778:1 2/9♩›]</td><td>[0, 3, 5, 7]</td><td>gridError=0, rhythmComplexity=0.224 (numSyncop=2, numTies=0), divPenalty=0.05 (0.0005, divPenalty=0.05, cardinalityPenalty=0, numSubdivsPenalty=0, levelPenalty=0)   </td></tr>\n",
       "<tr><td style=\"text-align: right;\"> 0.2399</td><td>(6,)     </td><td>[‹~4D 0:0.333 1/3♩›, ‹4E 0.333:0.5 1/6♩›, ‹4F 0.5:0.833 1/3♩›, ‹4G 0.833:1 1/6♩›]    </td><td>[0, 2, 3, 5]</td><td>gridError=0.24, rhythmComplexity=0.112 (numSyncop=1, numTies=0), divPenalty=0.01 (0.0001, divPenalty=0.01, cardinalityPenalty=0, numSubdivsPenalty=0, levelPenalty=0)</td></tr>\n",
       "</tbody>\n",
       "</table>"
      ],
      "text/plain": [
       "<IPython.core.display.HTML object>"
      ]
     },
     "metadata": {},
     "output_type": "display_data"
    },
    {
     "name": "stderr",
     "output_type": "stream",
     "text": [
      "[maelzel.scoring:quant.py:1829:_mergeSiblings:DEBUG] Nodes can merge:\n",
      "Node(3/2, dur=1/3 «4E 1.333:1.556 2/9♩ 3/2,3/2»\n",
      "                  «4F~ 1.556:1.667 1/9♩ 3/2,3/2»)\n",
      "Node(3/2, dur=1/3 «~4F 1.667:1.778 1/9♩ 3/2,3/2»\n",
      "                  «4G 1.778:2 2/9♩ 3/2,3/2»)\n",
      "---- Merged node:\n",
      "Node(3/2, dur=2/3 «4E 1.333:1.556 2/9♩ 3/2,3/2»\n",
      "                  «4F 1.556:1.778 2/9♩ 3/2,3/2»\n",
      "                  «4G 1.778:2 2/9♩ 3/2,3/2»)\n",
      "[maelzel.scoring:quant.py:1695:_nodesCanMerge:DEBUG] acrossBeat=1, syncopated=True, beatWeight=0, profile.breakSyncopationsMinWeight()=1\n",
      "[maelzel.scoring:quant.py:1829:_mergeSiblings:DEBUG] Nodes can merge:\n",
      "Node(3/2, dur=1 «4C# 0:0.667 2/3♩ 3/2»\n",
      "                «4D~ 0.667:1 1/3♩ 3/2»)\n",
      "Node(3/2, dur=1 «~4D 1:1.333 1/3♩ 3/2»\n",
      "                Node(3/2, dur=2/3 «4E 1.333:1.556 2/9♩ 3/2,3/2»\n",
      "                                  «4F 1.556:1.778 2/9♩ 3/2,3/2»\n",
      "                                  «4G 1.778:2 2/9♩ 3/2,3/2»))\n",
      "---- Merged node:\n",
      "Node(3/2, dur=2 «4C# 0:0.667 2/3♩ 3/2»\n",
      "                «4D 0.667:1.333 2/3♩ 3/2»\n",
      "                Node(3/2, dur=2/3 «4E 1.333:1.556 2/9♩ 3/2,3/2»\n",
      "                                  «4F 1.556:1.778 2/9♩ 3/2,3/2»\n",
      "                                  «4G 1.778:2 2/9♩ 3/2,3/2»))\n",
      "[maelzel.scoring:quant.py:835:breakSyncopations:DEBUG] Evaluating split at beat.offset=Fraction(1, 1), beat.duration=Fraction(1, 1), minWeight=1\n",
      "[maelzel.scoring:node.py:955:_splitNotationAtBeat:DEBUG] Found a syncopation but the callback was negative, so «4D 0.667:1.333 2/3♩ 3/2» will not be split\n",
      "[maelzel.scoring:quant.py:835:breakSyncopations:DEBUG] Evaluating split at beat.offset=Fraction(2, 1), beat.duration=Fraction(1, 1), minWeight=1\n",
      "[maelzel.scoring:quant.py:835:breakSyncopations:DEBUG] Evaluating split at beat.offset=Fraction(3, 1), beat.duration=Fraction(1, 1), minWeight=1\n",
      "[maelzel.scoring:node.py:955:_splitNotationAtBeat:DEBUG] Found a syncopation but the callback was negative, so «r 2:4 2♩» will not be split\n",
      "[maelzel.scoring:quant.py:2093:resolveEnharmonics:DEBUG] Resolving enharmonics for measure 0\n",
      "[maelzel.scoring:renderlily.py:1174:write:DEBUG] Rendering lilypond '/home/em/.cache/tmpd94xcefd/32bvi7_1.ly' to '/home/em/.cache/tmpd94xcefd/32bvi7_1.png'\n",
      "[maelzel.scoring:renderlily.py:1190:write:DEBUG] Found crop file '/home/em/.cache/tmpd94xcefd/32bvi7_1.cropped.png', using that as output\n",
      "[maelzel.scoring:renderlily.py:1200:write:DEBUG] Moving /home/em/.cache/tmpd94xcefd/32bvi7_1.cropped.png to /home/em/.cache/tmpd94xcefd/g9_bjilm.png\n"
     ]
    },
    {
     "data": {
      "text/html": [
       "<code style=\"white-space: pre-line; font-size:0.9em;\">Voice([<span style=\"color:#6666E0\">4C♯:0.667♩</span>, <span style=\"color:#6666E0\">4D:0.667♩</span>, <span style=\"color:#6666E0\">4E:0.222♩</span>, <span style=\"color:#6666E0\">4F:0.222♩</span>, <span style=\"color:#6666E0\">4G:0.222♩</span>], dur=2)</code><br><br><img style=\"display:inline; padding:10px;\n",
       "margin-top:14px;\n",
       "width:262px\" src=\"data:image/png;base64,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\"/>"
      ],
      "text/plain": [
       "Voice([4C♯:0.667♩, 4D:0.667♩, 4E:0.222♩, 4F:0.222♩, 4G:0.222♩])"
      ]
     },
     "execution_count": 6,
     "metadata": {},
     "output_type": "execute_result"
    }
   ],
   "source": [
    "from maelzel.core import *\n",
    "\n",
    "v1 = Voice([\n",
    "    Note(\"4C#\", F(2, 3)),\n",
    "    Note(\"4D\", F(2, 3)),\n",
    "    Note(\"4E\", F(2, 3)*F(1, 3)),\n",
    "    Note(\"4F\", F(2, 3)*F(1, 3)),\n",
    "    Note(\"4G\", F(2, 3)*F(1, 3)),\n",
    "])\n",
    "v1"
   ]
  },
  {
   "cell_type": "code",
   "execution_count": 7,
   "id": "5f2b05eb-b11d-41e7-87e4-6a653fd3937b",
   "metadata": {},
   "outputs": [
    {
     "data": {
      "image/png": "[encoded data removed]",
      "text/plain": [
       "<IPython.core.display.Image object>"
      ]
     },
     "metadata": {
      "image/png": {
       "width": 227
      }
     },
     "output_type": "display_data"
    }
   ],
   "source": [
    "from maelzel.music import lilytools\n",
    "lilytools.show(r\"\\tuplet 3/2 { cis'4 \\tuplet 3/2 { e'8 f'8 g'8} d'4  } r2\")\n"
   ]
  },
  {
   "cell_type": "code",
   "execution_count": 8,
   "id": "17adb5f4-de3d-4bcd-a827-8d27767ef060",
   "metadata": {},
   "outputs": [
    {
     "name": "stderr",
     "output_type": "stream",
     "text": [
      "[maelzel.core:mobj.py:2222:clearImageCache:INFO] Resetting image cache\n",
      "[maelzel.core:mobj.py:2222:clearImageCache:INFO] Resetting image cache\n",
      "[maelzel.scoring:quant.py:1471:quantizeMeasure:DEBUG] Measure 4/4 is not filled (events=[‹4C# 0:0.667 2/3♩›, ‹4E 0.667:0.889 2/9♩›, ‹4F 0.889:1.111 2/9♩›, ‹4G 1.111:1.333 2/9♩›, ‹4D 1.333:2 2/3♩›]). Filling gaps with silences\n",
      "[maelzel.scoring:quant.py:1149:quantizeBeatBinary:DEBUG] Skipping (1, 9), divPenalty=0.05 * 0.1 > minError=0.005\n"
     ]
    },
    {
     "name": "stdout",
     "output_type": "stream",
     "text": [
      "Beat: 0 - 1 (dur: 1)\n"
     ]
    },
    {
     "data": {
      "text/html": [
       "<table>\n",
       "<thead>\n",
       "<tr><th style=\"text-align: right;\">  error</th><th>div      </th><th>snapped                                                        </th><th>slots    </th><th>info                                                                                                                                                                  </th></tr>\n",
       "</thead>\n",
       "<tbody>\n",
       "<tr><td style=\"text-align: right;\"> 0.0030</td><td>(1, 1, 3)</td><td>[‹4C# 0:0.667 2/3♩›, ‹4E 0.667:0.889 2/9♩›, ‹4F~ 0.889:1 1/9♩›]</td><td>[0, 2, 4]</td><td>gridError=0, rhythmComplexity=0 (numSyncop=0, numTies=0), divPenalty=0.03 (0.0003, divPenalty=0, cardinalityPenalty=0, numSubdivsPenalty=0, levelPenalty=0.03)        </td></tr>\n",
       "<tr><td style=\"text-align: right;\"> 0.0050</td><td>(9,)     </td><td>[‹4C# 0:0.667 2/3♩›, ‹4E 0.667:0.889 2/9♩›, ‹4F~ 0.889:1 1/9♩›]</td><td>[0, 6, 8]</td><td>gridError=0, rhythmComplexity=0 (numSyncop=0, numTies=0), divPenalty=0.05 (0.0005, divPenalty=0.05, cardinalityPenalty=0, numSubdivsPenalty=0, levelPenalty=0)        </td></tr>\n",
       "<tr><td style=\"text-align: right;\"> 0.1320</td><td>(8,)     </td><td>[‹4C# 0:0.625 5/8♩›, ‹4E 0.625:0.875 1/4♩›, ‹4F~ 0.875:1 1/8♩›]</td><td>[0, 5, 7]</td><td>gridError=0.132, rhythmComplexity=0.333 (numSyncop=1, numTies=1), divPenalty=0.01 (0.0001, divPenalty=0.01, cardinalityPenalty=0, numSubdivsPenalty=0, levelPenalty=0)</td></tr>\n",
       "<tr><td style=\"text-align: right;\"> 0.1426</td><td>(6,)     </td><td>[‹4C# 0:0.667 2/3♩›, ‹4E 0.667:0.833 1/6♩›, ‹4F~ 0.833:1 1/6♩›]</td><td>[0, 4, 5]</td><td>gridError=0.143, rhythmComplexity=0 (numSyncop=0, numTies=0), divPenalty=0.01 (0.0001, divPenalty=0.01, cardinalityPenalty=0, numSubdivsPenalty=0, levelPenalty=0)    </td></tr>\n",
       "</tbody>\n",
       "</table>"
      ],
      "text/plain": [
       "<IPython.core.display.HTML object>"
      ]
     },
     "metadata": {},
     "output_type": "display_data"
    },
    {
     "name": "stdout",
     "output_type": "stream",
     "text": [
      "Beat: 1 - 2 (dur: 1)\n"
     ]
    },
    {
     "data": {
      "text/html": [
       "<table>\n",
       "<thead>\n",
       "<tr><th style=\"text-align: right;\">  error</th><th>div      </th><th>snapped                                                       </th><th>slots    </th><th>info                                                                                                                                                                  </th></tr>\n",
       "</thead>\n",
       "<tbody>\n",
       "<tr><td style=\"text-align: right;\"> 0.0030</td><td>(3, 1, 1)</td><td>[‹~4F 0:0.111 1/9♩›, ‹4G 0.111:0.333 2/9♩›, ‹4D 0.333:1 2/3♩›]</td><td>[0, 1, 3]</td><td>gridError=0, rhythmComplexity=0 (numSyncop=0, numTies=0), divPenalty=0.03 (0.0003, divPenalty=0, cardinalityPenalty=0, numSubdivsPenalty=0, levelPenalty=0.03)        </td></tr>\n",
       "<tr><td style=\"text-align: right;\"> 0.0069</td><td>(9,)     </td><td>[‹~4F 0:0.111 1/9♩›, ‹4G 0.111:0.333 2/9♩›, ‹4D 0.333:1 2/3♩›]</td><td>[0, 1, 3]</td><td>gridError=0, rhythmComplexity=0.149 (numSyncop=1, numTies=0), divPenalty=0.05 (0.0005, divPenalty=0.05, cardinalityPenalty=0, numSubdivsPenalty=0, levelPenalty=0)    </td></tr>\n",
       "<tr><td style=\"text-align: right;\"> 0.0069</td><td>(9, 1)   </td><td>[‹~4F 0:0.111 1/9♩›, ‹4G 0.111:0.333 2/9♩›, ‹4D 0.333:1 2/3♩›]</td><td>[0, 2, 6]</td><td>gridError=0, rhythmComplexity=0.149 (numSyncop=1, numTies=0), divPenalty=0.05 (0.0005, divPenalty=0.05, cardinalityPenalty=0, numSubdivsPenalty=0, levelPenalty=0)    </td></tr>\n",
       "<tr><td style=\"text-align: right;\"> 0.1322</td><td>(8,)     </td><td>[‹~4F 0:0.125 1/8♩›, ‹4G 0.125:0.375 1/4♩›, ‹4D 0.375:1 5/8♩›]</td><td>[0, 1, 3]</td><td>gridError=0.132, rhythmComplexity=0.422 (numSyncop=2, numTies=1), divPenalty=0.01 (0.0001, divPenalty=0.01, cardinalityPenalty=0, numSubdivsPenalty=0, levelPenalty=0)</td></tr>\n",
       "<tr><td style=\"text-align: right;\"> 0.1426</td><td>(6,)     </td><td>[‹~4F 0:0.167 1/6♩›, ‹4G 0.167:0.333 1/6♩›, ‹4D 0.333:1 2/3♩›]</td><td>[0, 1, 2]</td><td>gridError=0.143, rhythmComplexity=0 (numSyncop=0, numTies=0), divPenalty=0.01 (0.0001, divPenalty=0.01, cardinalityPenalty=0, numSubdivsPenalty=0, levelPenalty=0)    </td></tr>\n",
       "</tbody>\n",
       "</table>"
      ],
      "text/plain": [
       "<IPython.core.display.HTML object>"
      ]
     },
     "metadata": {},
     "output_type": "display_data"
    },
    {
     "name": "stderr",
     "output_type": "stream",
     "text": [
      "[maelzel.scoring:quant.py:1695:_nodesCanMerge:DEBUG] acrossBeat=1, syncopated=True, beatWeight=0, profile.breakSyncopationsMinWeight()=1\n",
      "[maelzel.scoring:quant.py:1695:_nodesCanMerge:DEBUG] acrossBeat=1, syncopated=True, beatWeight=0, profile.breakSyncopationsMinWeight()=1\n",
      "[maelzel.scoring:quant.py:1695:_nodesCanMerge:DEBUG] acrossBeat=1, syncopated=True, beatWeight=0, profile.breakSyncopationsMinWeight()=1\n",
      "[maelzel.scoring:quant.py:1829:_mergeSiblings:DEBUG] Nodes can merge:\n",
      "Node(3/2, dur=1/3 «4E 0.667:0.889 2/9♩ 3/2,3/2»\n",
      "                  «4F~ 0.889:1 1/9♩ 3/2,3/2»)\n",
      "Node(3/2, dur=1/3 «~4F 1:1.111 1/9♩ 3/2,3/2»\n",
      "                  «4G 1.111:1.333 2/9♩ 3/2,3/2»)\n",
      "---- Merged node:\n",
      "Node(3/2, dur=2/3 «4E 0.667:0.889 2/9♩ 3/2,3/2»\n",
      "                  «4F 0.889:1.111 2/9♩ 3/2,3/2»\n",
      "                  «4G 1.111:1.333 2/9♩ 3/2,3/2»)\n",
      "[maelzel.scoring:quant.py:1829:_mergeSiblings:DEBUG] Nodes can merge:\n",
      "Node(3/2, dur=1 «4C# 0:0.667 2/3♩ 3/2»\n",
      "                Node(3/2, dur=1/3 «4E 0.667:0.889 2/9♩ 3/2,3/2»\n",
      "                                  «4F~ 0.889:1 1/9♩ 3/2,3/2»))\n",
      "Node(3/2, dur=1 \n",
      "    Node(3/2, dur=1/3 «~4F 1:1.111 1/9♩ 3/2,3/2»\n",
      "                      «4G 1.111:1.333 2/9♩ 3/2,3/2»)\n",
      "    «4D 1.333:2 2/3♩ 3/2»)\n",
      "---- Merged node:\n",
      "Node(3/2, dur=2 «4C# 0:0.667 2/3♩ 3/2»\n",
      "                Node(3/2, dur=2/3 «4E 0.667:0.889 2/9♩ 3/2,3/2»\n",
      "                                  «4F 0.889:1.111 2/9♩ 3/2,3/2»\n",
      "                                  «4G 1.111:1.333 2/9♩ 3/2,3/2»)\n",
      "                «4D 1.333:2 2/3♩ 3/2»)\n",
      "[maelzel.scoring:quant.py:835:breakSyncopations:DEBUG] Evaluating split at beat.offset=Fraction(1, 1), beat.duration=Fraction(1, 1), minWeight=1\n",
      "[maelzel.scoring:node.py:955:_splitNotationAtBeat:DEBUG] Found a syncopation but the callback was negative, so «4F 0.889:1.111 2/9♩ 3/2,3/2» will not be split\n",
      "[maelzel.scoring:quant.py:835:breakSyncopations:DEBUG] Evaluating split at beat.offset=Fraction(2, 1), beat.duration=Fraction(1, 1), minWeight=1\n",
      "[maelzel.scoring:quant.py:835:breakSyncopations:DEBUG] Evaluating split at beat.offset=Fraction(3, 1), beat.duration=Fraction(1, 1), minWeight=1\n",
      "[maelzel.scoring:node.py:955:_splitNotationAtBeat:DEBUG] Found a syncopation but the callback was negative, so «r 2:4 2♩» will not be split\n",
      "[maelzel.scoring:quant.py:2093:resolveEnharmonics:DEBUG] Resolving enharmonics for measure 0\n",
      "[maelzel.scoring:renderlily.py:1174:write:DEBUG] Rendering lilypond '/home/em/.cache/tmpd94xcefd/f_cgx5gu.ly' to '/home/em/.cache/tmpd94xcefd/f_cgx5gu.png'\n",
      "[maelzel.scoring:renderlily.py:1190:write:DEBUG] Found crop file '/home/em/.cache/tmpd94xcefd/f_cgx5gu.cropped.png', using that as output\n",
      "[maelzel.scoring:renderlily.py:1200:write:DEBUG] Moving /home/em/.cache/tmpd94xcefd/f_cgx5gu.cropped.png to /home/em/.cache/tmpd94xcefd/pjnjbs6j.png\n"
     ]
    },
    {
     "data": {
      "text/html": [
       "<code style=\"white-space: pre-line; font-size:0.9em;\">Voice([<span style=\"color:#6666E0\">4C♯:0.667♩</span>, <span style=\"color:#6666E0\">4E:0.222♩</span>, <span style=\"color:#6666E0\">4F:0.222♩</span>, <span style=\"color:#6666E0\">4G:0.222♩</span>, <span style=\"color:#6666E0\">4D:0.667♩</span>], dur=2)</code><br><br><img style=\"display:inline; padding:10px;\n",
       "margin-top:14px;\n",
       "width:262px\" src=\"data:image/png;base64,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\"/>"
      ],
      "text/plain": [
       "Voice([4C♯:0.667♩, 4E:0.222♩, 4F:0.222♩, 4G:0.222♩, 4D:0.667♩])"
      ]
     },
     "execution_count": 8,
     "metadata": {},
     "output_type": "execute_result"
    }
   ],
   "source": [
    "from maelzel.core import *\n",
    "cfg = getConfig()\n",
    "\n",
    "Workspace.clearCache()\n",
    "\n",
    "# The value of the min beat syncopation determines which tuplets can be merged across the beat. Set it\n",
    "# low to allow more syncopations, set it high to only allow long duration syncopations\n",
    "cfg['quant.syncopMinFraction'] = 0.167\n",
    "# cfg['quant.syncopPartMinFraction'] = F(1, 20)\n",
    "\n",
    "v1 = Voice([\n",
    "    Note(\"4C#\", F(2, 3)),\n",
    "    Note(\"4E\", F(2, 3)*F(1, 3)),\n",
    "    Note(\"4F\", F(2, 3)*F(1, 3)),\n",
    "    Note(\"4G\", F(2, 3)*F(1, 3)),\n",
    "    Note(\"4D\", F(2, 3)),\n",
    "])\n",
    "v1"
   ]
  },
  {
   "cell_type": "code",
   "execution_count": 9,
   "id": "fb773570-2474-4a39-be6d-f0a507673f0b",
   "metadata": {},
   "outputs": [
    {
     "name": "stderr",
     "output_type": "stream",
     "text": [
      "[maelzel.scoring:quant.py:1471:quantizeMeasure:DEBUG] Measure 4/4 is not filled (events=[‹r 0:0.333 1/3♩›, ‹4C 0.333:1 2/3♩›]). Filling gaps with silences\n"
     ]
    },
    {
     "name": "stdout",
     "output_type": "stream",
     "text": [
      "Beat: 0 - 1 (dur: 1)\n"
     ]
    },
    {
     "data": {
      "text/html": [
       "<table>\n",
       "<thead>\n",
       "<tr><th style=\"text-align: right;\">  error</th><th>div  </th><th>snapped                              </th><th>slots  </th><th>info                                                                                                                                               </th></tr>\n",
       "</thead>\n",
       "<tbody>\n",
       "<tr><td style=\"text-align: right;\">      0</td><td>(3,) </td><td>[‹r 0:0.333 1/3♩›, ‹4C 0.333:1 2/3♩›]</td><td>[0, 1] </td><td>gridError=0, rhythmComplexity=0 (numSyncop=0, numTies=0), divPenalty=0 (0, divPenalty=0, cardinalityPenalty=0, numSubdivsPenalty=0, levelPenalty=0)</td></tr>\n",
       "</tbody>\n",
       "</table>"
      ],
      "text/plain": [
       "<IPython.core.display.HTML object>"
      ]
     },
     "metadata": {},
     "output_type": "display_data"
    },
    {
     "name": "stderr",
     "output_type": "stream",
     "text": [
      "[maelzel.scoring:quant.py:835:breakSyncopations:DEBUG] Evaluating split at beat.offset=Fraction(1, 1), beat.duration=Fraction(1, 1), minWeight=1\n",
      "[maelzel.scoring:quant.py:835:breakSyncopations:DEBUG] Evaluating split at beat.offset=Fraction(2, 1), beat.duration=Fraction(1, 1), minWeight=1\n",
      "[maelzel.scoring:quant.py:839:breakSyncopations:DEBUG] --- Splitting syncopation at beat.offset=Fraction(2, 1), minWeight=1\n",
      "[maelzel.scoring:quant.py:835:breakSyncopations:DEBUG] Evaluating split at beat.offset=Fraction(3, 1), beat.duration=Fraction(1, 1), minWeight=1\n",
      "[maelzel.scoring:node.py:955:_splitNotationAtBeat:DEBUG] Found a syncopation but the callback was negative, so «r 2:4 2♩» will not be split\n",
      "[maelzel.scoring:quant.py:2093:resolveEnharmonics:DEBUG] Resolving enharmonics for measure 0\n",
      "[maelzel.scoring:renderlily.py:1174:write:DEBUG] Rendering lilypond '/home/em/.cache/tmpd94xcefd/y5umrguj.ly' to '/home/em/.cache/tmpd94xcefd/y5umrguj.png'\n",
      "[maelzel.scoring:renderlily.py:1190:write:DEBUG] Found crop file '/home/em/.cache/tmpd94xcefd/y5umrguj.cropped.png', using that as output\n",
      "[maelzel.scoring:renderlily.py:1200:write:DEBUG] Moving /home/em/.cache/tmpd94xcefd/y5umrguj.cropped.png to /home/em/.cache/tmpd94xcefd/h0wh446_.png\n"
     ]
    },
    {
     "data": {
      "text/html": [
       "<code style=\"white-space: pre-line; font-size:0.9em;\">Voice([<span style=\"color:#6666E0\">Rest:0.333♩</span>, <span style=\"color:#6666E0\">4C:0.667♩</span>], dur=1)</code><br><br><img style=\"display:inline; padding:10px;\n",
       "margin-top:14px;\n",
       "width:214px\" src=\"data:image/png;base64,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\"/>"
      ],
      "text/plain": [
       "Voice([Rest:0.333♩, 4C:0.667♩])"
      ]
     },
     "execution_count": 9,
     "metadata": {},
     "output_type": "execute_result"
    }
   ],
   "source": [
    "v1 = Voice(r\"\"\"\n",
    "r:1/3\n",
    "c4:2/3\n",
    "\"\"\")\n",
    "v1"
   ]
  },
  {
   "cell_type": "code",
   "execution_count": 10,
   "id": "e51277d3-f798-40d7-80a2-eb5180d5e84c",
   "metadata": {},
   "outputs": [
    {
     "name": "stderr",
     "output_type": "stream",
     "text": [
      "[maelzel.scoring:quant.py:1471:quantizeMeasure:DEBUG] Measure 4/4 is not filled (events=[‹4C# 0:0.667 2/3♩›, ‹4D 0.667:1.333 2/3♩›, ‹4E 1.333:2 2/3♩›, ‹4D# 2:2.222 2/9♩›, ‹4F 2.222:2.444 2/9♩›, ‹4G 2.444:2.667 2/9♩›, ‹4A 2.667:3 1/3♩›]). Filling gaps with silences\n"
     ]
    },
    {
     "name": "stdout",
     "output_type": "stream",
     "text": [
      "Beat: 0 - 1 (dur: 1)\n"
     ]
    },
    {
     "data": {
      "text/html": [
       "<table>\n",
       "<thead>\n",
       "<tr><th style=\"text-align: right;\">  error</th><th>div  </th><th>snapped                                 </th><th>slots  </th><th>info                                                                                                                                               </th></tr>\n",
       "</thead>\n",
       "<tbody>\n",
       "<tr><td style=\"text-align: right;\">      0</td><td>(3,) </td><td>[‹4C# 0:0.667 2/3♩›, ‹4D~ 0.667:1 1/3♩›]</td><td>[0, 2] </td><td>gridError=0, rhythmComplexity=0 (numSyncop=0, numTies=0), divPenalty=0 (0, divPenalty=0, cardinalityPenalty=0, numSubdivsPenalty=0, levelPenalty=0)</td></tr>\n",
       "</tbody>\n",
       "</table>"
      ],
      "text/plain": [
       "<IPython.core.display.HTML object>"
      ]
     },
     "metadata": {},
     "output_type": "display_data"
    },
    {
     "name": "stdout",
     "output_type": "stream",
     "text": [
      "Beat: 1 - 2 (dur: 1)\n"
     ]
    },
    {
     "data": {
      "text/html": [
       "<table>\n",
       "<thead>\n",
       "<tr><th style=\"text-align: right;\">  error</th><th>div  </th><th>snapped                                </th><th>slots  </th><th>info                                                                                                                                               </th></tr>\n",
       "</thead>\n",
       "<tbody>\n",
       "<tr><td style=\"text-align: right;\">      0</td><td>(3,) </td><td>[‹~4D 0:0.333 1/3♩›, ‹4E 0.333:1 2/3♩›]</td><td>[0, 1] </td><td>gridError=0, rhythmComplexity=0 (numSyncop=0, numTies=0), divPenalty=0 (0, divPenalty=0, cardinalityPenalty=0, numSubdivsPenalty=0, levelPenalty=0)</td></tr>\n",
       "</tbody>\n",
       "</table>"
      ],
      "text/plain": [
       "<IPython.core.display.HTML object>"
      ]
     },
     "metadata": {},
     "output_type": "display_data"
    },
    {
     "name": "stderr",
     "output_type": "stream",
     "text": [
      "[maelzel.scoring:quant.py:1158:quantizeBeatBinary:DEBUG] Skipping (8,), gridError=0.24376132565106126 * 1.0 > minError=0.23993645288846105\n",
      "[maelzel.scoring:quant.py:1149:quantizeBeatBinary:DEBUG] Skipping (7, 10), divPenalty=0.0632456 * 0.1 > minError=0.00612372\n",
      "[maelzel.scoring:quant.py:1149:quantizeBeatBinary:DEBUG] Skipping (10, 7), divPenalty=0.0632456 * 0.1 > minError=0.00612372\n"
     ]
    },
    {
     "name": "stdout",
     "output_type": "stream",
     "text": [
      "Beat: 2 - 3 (dur: 1)\n"
     ]
    },
    {
     "data": {
      "text/html": [
       "<table>\n",
       "<thead>\n",
       "<tr><th style=\"text-align: right;\">  error</th><th>div      </th><th>snapped                                                                              </th><th>slots        </th><th>info                                                                                                                                                                 </th></tr>\n",
       "</thead>\n",
       "<tbody>\n",
       "<tr><td style=\"text-align: right;\"> 0.0046</td><td>(3, 3, 1)</td><td>[‹4D# 0:0.222 2/9♩›, ‹4F 0.222:0.444 2/9♩›, ‹4G 0.444:0.667 2/9♩›, ‹4A 0.667:1 1/3♩›]</td><td>[0, 2, 4, 6] </td><td>gridError=0, rhythmComplexity=0.112 (numSyncop=1, numTies=0), divPenalty=0.03 (0.0003, divPenalty=0, cardinalityPenalty=0, numSubdivsPenalty=0, levelPenalty=0.03)   </td></tr>\n",
       "<tr><td style=\"text-align: right;\"> 0.0061</td><td>(9, 3)   </td><td>[‹4D# 0:0.222 2/9♩›, ‹4F 0.222:0.444 2/9♩›, ‹4G 0.444:0.667 2/9♩›, ‹4A 0.667:1 1/3♩›]</td><td>[0, 4, 8, 10]</td><td>gridError=0, rhythmComplexity=0.112 (numSyncop=1, numTies=0), divPenalty=0.05 (0.0005, divPenalty=0.05, cardinalityPenalty=0, numSubdivsPenalty=0, levelPenalty=0)   </td></tr>\n",
       "<tr><td style=\"text-align: right;\"> 0.0087</td><td>(9,)     </td><td>[‹4D# 0:0.222 2/9♩›, ‹4F 0.222:0.444 2/9♩›, ‹4G 0.444:0.667 2/9♩›, ‹4A 0.667:1 1/3♩›]</td><td>[0, 2, 4, 6] </td><td>gridError=0, rhythmComplexity=0.224 (numSyncop=2, numTies=0), divPenalty=0.05 (0.0005, divPenalty=0.05, cardinalityPenalty=0, numSubdivsPenalty=0, levelPenalty=0)   </td></tr>\n",
       "<tr><td style=\"text-align: right;\"> 0.2399</td><td>(6,)     </td><td>[‹4D# 0:0.167 1/6♩›, ‹4F 0.167:0.5 1/3♩›, ‹4G 0.5:0.667 1/6♩›, ‹4A 0.667:1 1/3♩›]    </td><td>[0, 1, 3, 4] </td><td>gridError=0.24, rhythmComplexity=0.112 (numSyncop=1, numTies=0), divPenalty=0.01 (0.0001, divPenalty=0.01, cardinalityPenalty=0, numSubdivsPenalty=0, levelPenalty=0)</td></tr>\n",
       "</tbody>\n",
       "</table>"
      ],
      "text/plain": [
       "<IPython.core.display.HTML object>"
      ]
     },
     "metadata": {},
     "output_type": "display_data"
    },
    {
     "name": "stderr",
     "output_type": "stream",
     "text": [
      "[maelzel.scoring:quant.py:1695:_nodesCanMerge:DEBUG] acrossBeat=1, syncopated=True, beatWeight=0, profile.breakSyncopationsMinWeight()=1\n",
      "[maelzel.scoring:quant.py:1829:_mergeSiblings:DEBUG] Nodes can merge:\n",
      "Node(3/2, dur=1 «4C# 0:0.667 2/3♩ 3/2»\n",
      "                «4D~ 0.667:1 1/3♩ 3/2»)\n",
      "Node(3/2, dur=1 «~4D 1:1.333 1/3♩ 3/2»\n",
      "                «4E 1.333:2 2/3♩ 3/2»)\n",
      "---- Merged node:\n",
      "Node(3/2, dur=2 «4C# 0:0.667 2/3♩ 3/2»\n",
      "                «4D 0.667:1.333 2/3♩ 3/2»\n",
      "                «4E 1.333:2 2/3♩ 3/2»)\n",
      "[maelzel.scoring:quant.py:1829:_mergeSiblings:DEBUG] Nodes can merge:\n",
      "Node(3/2, dur=1/3 «4D# 2:2.222 2/9♩ 3/2,3/2»\n",
      "                  «4F~ 2.222:2.333 1/9♩ 3/2,3/2»)\n",
      "Node(3/2, dur=1/3 «~4F 2.333:2.444 1/9♩ 3/2,3/2»\n",
      "                  «4G 2.444:2.667 2/9♩ 3/2,3/2»)\n",
      "---- Merged node:\n",
      "Node(3/2, dur=2/3 «4D# 2:2.222 2/9♩ 3/2,3/2»\n",
      "                  «4F 2.222:2.444 2/9♩ 3/2,3/2»\n",
      "                  «4G 2.444:2.667 2/9♩ 3/2,3/2»)\n",
      "[maelzel.scoring:quant.py:1832:_mergeSiblings:DEBUG] Nodes cannot merge (Don't merge 3/2 when the merged Notation results in dotted quarter): \n",
      "Node(3/2, dur=2 «4C# 0:0.667 2/3♩ 3/2»\n",
      "                «4D 0.667:1.333 2/3♩ 3/2»\n",
      "                «4E 1.333:2 2/3♩ 3/2»)\n",
      "Node(3/2, dur=1 \n",
      "    Node(3/2, dur=2/3 «4D# 2:2.222 2/9♩ 3/2,3/2»\n",
      "                      «4F 2.222:2.444 2/9♩ 3/2,3/2»\n",
      "                      «4G 2.444:2.667 2/9♩ 3/2,3/2»)\n",
      "    «4A 2.667:3 1/3♩ 3/2»)\n",
      "[maelzel.scoring:quant.py:835:breakSyncopations:DEBUG] Evaluating split at beat.offset=Fraction(1, 1), beat.duration=Fraction(1, 1), minWeight=1\n",
      "[maelzel.scoring:node.py:955:_splitNotationAtBeat:DEBUG] Found a syncopation but the callback was negative, so «4D 0.667:1.333 2/3♩ 3/2» will not be split\n",
      "[maelzel.scoring:quant.py:835:breakSyncopations:DEBUG] Evaluating split at beat.offset=Fraction(2, 1), beat.duration=Fraction(1, 1), minWeight=1\n",
      "[maelzel.scoring:quant.py:835:breakSyncopations:DEBUG] Evaluating split at beat.offset=Fraction(3, 1), beat.duration=Fraction(1, 1), minWeight=1\n",
      "[maelzel.scoring:quant.py:2093:resolveEnharmonics:DEBUG] Resolving enharmonics for measure 0\n",
      "[maelzel.scoring:renderlily.py:1174:write:DEBUG] Rendering lilypond '/home/em/.cache/tmpd94xcefd/9gmjva4i.ly' to '/home/em/.cache/tmpd94xcefd/9gmjva4i.png'\n",
      "[maelzel.scoring:renderlily.py:1190:write:DEBUG] Found crop file '/home/em/.cache/tmpd94xcefd/9gmjva4i.cropped.png', using that as output\n",
      "[maelzel.scoring:renderlily.py:1200:write:DEBUG] Moving /home/em/.cache/tmpd94xcefd/9gmjva4i.cropped.png to /home/em/.cache/tmpd94xcefd/5rw_7vg7.png\n"
     ]
    },
    {
     "data": {
      "text/html": [
       "<code style=\"white-space: pre-line; font-size:0.9em;\">Voice([<span style=\"color:#6666E0\">4C♯:0.667♩</span>, <span style=\"color:#6666E0\">4D:0.667♩</span>, <span style=\"color:#6666E0\">4E:0.667♩</span>, <span style=\"color:#6666E0\">4D♯:0.222♩</span>, <span style=\"color:#6666E0\">4F:0.222♩</span>, <span style=\"color:#6666E0\">4G:0.222♩</span>, <span style=\"color:#6666E0\">4A:0.333♩</span>], dur=3)</code><br><br><img style=\"display:inline; padding:10px;\n",
       "margin-top:14px;\n",
       "width:308px\" src=\"data:image/png;base64,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\"/>"
      ],
      "text/plain": [
       "Voice([4C♯:0.667♩, 4D:0.667♩, 4E:0.667♩, 4D♯:0.222♩, 4F:0.222♩, 4G:0.222♩, 4A:0.333♩])"
      ]
     },
     "execution_count": 10,
     "metadata": {},
     "output_type": "execute_result"
    }
   ],
   "source": [
    "v1 = Voice([\n",
    "    Note(\"4C#\", F(2, 3)),\n",
    "    Note(\"4D\",  F(2, 3)),\n",
    "    Note(\"4E\",  F(2, 3)),\n",
    "    Note(\"4D#\", F(2,3)*F(1,3)),\n",
    "    Note(\"4F\",  F(2,3)*F(1,3)),\n",
    "    Note(\"4G\",  F(2,3)*F(1,3)),\n",
    "    Note(\"4A\", F(1, 3))\n",
    "])\n",
    "v1"
   ]
  },
  {
   "cell_type": "code",
   "execution_count": 11,
   "id": "60db9fe2-aba0-4bdf-b823-5613ea030516",
   "metadata": {},
   "outputs": [
    {
     "name": "stderr",
     "output_type": "stream",
     "text": [
      "[maelzel.scoring:quant.py:1471:quantizeMeasure:DEBUG] Measure 4/4 is not filled (events=[‹4C 0:1 1♩›, ‹4D 1:2.016 65/64♩›, ‹4E 2.016:3.031 65/64♩›]). Filling gaps with silences\n",
      "[maelzel.scoring:quant.py:1177:quantizeBeatBinary:DEBUG] Skipping (11,), totalError=0.05775101525194592 > minError=0.05512875622241527\n",
      "[maelzel.scoring:quant.py:1177:quantizeBeatBinary:DEBUG] Skipping (13,), totalError=0.060292451954042224 > minError=0.05512875622241527\n",
      "[maelzel.scoring:quant.py:1177:quantizeBeatBinary:DEBUG] Skipping (4,), totalError=0.055101540474205346 > minError=0.05509246557044339\n",
      "[maelzel.scoring:quant.py:1177:quantizeBeatBinary:DEBUG] Skipping (5,), totalError=0.0569137923761059 > minError=0.05509246557044339\n",
      "[maelzel.scoring:quant.py:1177:quantizeBeatBinary:DEBUG] Skipping (6,), totalError=0.055101540474205346 > minError=0.05509246557044339\n"
     ]
    },
    {
     "name": "stdout",
     "output_type": "stream",
     "text": [
      "Beat: 2 - 3 (dur: 1)\n"
     ]
    },
    {
     "data": {
      "text/html": [
       "<table>\n",
       "<thead>\n",
       "<tr><th style=\"text-align: right;\">  error</th><th>div  </th><th>snapped                                                                                                   </th><th>slots  </th><th>info                                                                                                                                                               </th></tr>\n",
       "</thead>\n",
       "<tbody>\n",
       "<tr><td style=\"text-align: right;\"> 0.0551</td><td>(2,) </td><td>[‹~4D 0:grace properties={&#x27;.snappedGracenote&#x27;: True, &#x27;.originalDuration&#x27;: Fraction(1, 64)}›, ‹4E~ 0:1 1♩›]</td><td>[0, 0] </td><td>gridError=0.0551, rhythmComplexity=0 (numSyncop=0, numTies=0), divPenalty=0 (0, divPenalty=0, cardinalityPenalty=0, numSubdivsPenalty=0, levelPenalty=0)           </td></tr>\n",
       "<tr><td style=\"text-align: right;\"> 0.0551</td><td>(3,) </td><td>[‹~4D 0:grace properties={&#x27;.snappedGracenote&#x27;: True, &#x27;.originalDuration&#x27;: Fraction(1, 64)}›, ‹4E~ 0:1 1♩›]</td><td>[0, 0] </td><td>gridError=0.0551, rhythmComplexity=0 (numSyncop=0, numTies=0), divPenalty=0 (0, divPenalty=0, cardinalityPenalty=0, numSubdivsPenalty=0, levelPenalty=0)           </td></tr>\n",
       "<tr><td style=\"text-align: right;\"> 0.0551</td><td>(7,) </td><td>[‹~4D 0:grace properties={&#x27;.snappedGracenote&#x27;: True, &#x27;.originalDuration&#x27;: Fraction(1, 64)}›, ‹4E~ 0:1 1♩›]</td><td>[0, 0] </td><td>gridError=0.0551, rhythmComplexity=0 (numSyncop=0, numTies=0), divPenalty=0.02 (0.0002, divPenalty=0.02, cardinalityPenalty=0, numSubdivsPenalty=0, levelPenalty=0)</td></tr>\n",
       "<tr><td style=\"text-align: right;\"> 0.0555</td><td>(1,) </td><td>[‹~4D 0:grace properties={&#x27;.snappedGracenote&#x27;: True, &#x27;.originalDuration&#x27;: Fraction(1, 64)}›, ‹4E~ 0:1 1♩›]</td><td>[0, 0] </td><td>gridError=0.0551, rhythmComplexity=0.224 (numSyncop=1, numTies=0), divPenalty=0 (0, divPenalty=0, cardinalityPenalty=0, numSubdivsPenalty=0, levelPenalty=0)       </td></tr>\n",
       "</tbody>\n",
       "</table>"
      ],
      "text/plain": [
       "<IPython.core.display.HTML object>"
      ]
     },
     "metadata": {},
     "output_type": "display_data"
    },
    {
     "name": "stderr",
     "output_type": "stream",
     "text": [
      "[maelzel.scoring:quant.py:1177:quantizeBeatBinary:DEBUG] Skipping (11,), totalError=0.05775101525194592 > minError=0.05512875622241527\n",
      "[maelzel.scoring:quant.py:1177:quantizeBeatBinary:DEBUG] Skipping (13,), totalError=0.060292451954042224 > minError=0.05512875622241527\n",
      "[maelzel.scoring:quant.py:1158:quantizeBeatBinary:DEBUG] Skipping (8, 1, 1), gridError=0.03320798791873451 * 1.0 > minError=0.03294289276043672\n"
     ]
    },
    {
     "name": "stdout",
     "output_type": "stream",
     "text": [
      "Beat: 3 - 4 (dur: 1)\n"
     ]
    },
    {
     "data": {
      "text/html": [
       "<table>\n",
       "<thead>\n",
       "<tr><th style=\"text-align: right;\">  error</th><th>div         </th><th>snapped                                                                                                 </th><th>slots  </th><th>info                                                                                                                                                                           </th></tr>\n",
       "</thead>\n",
       "<tbody>\n",
       "<tr><td style=\"text-align: right;\"> 0.0192</td><td>(7, 1, 1, 1)</td><td>[‹~4E 0:0.036 1/28♩›, ‹r 0.036:1 27/28♩›]                                                               </td><td>[0, 1] </td><td>gridError=0.0176, rhythmComplexity=0.224 (numSyncop=1, numTies=0), divPenalty=0.03 (0.0003, divPenalty=0.03, cardinalityPenalty=0, numSubdivsPenalty=0, levelPenalty=0)        </td></tr>\n",
       "<tr><td style=\"text-align: right;\"> 0.0233</td><td>(9, 1, 1)   </td><td>[‹~4E 0:0.037 1/27♩›, ‹r 0.037:1 26/27♩›]                                                               </td><td>[0, 1] </td><td>gridError=0.0214, rhythmComplexity=0.224 (numSyncop=1, numTies=0), divPenalty=0.0583 (0.0005831, divPenalty=0.05, cardinalityPenalty=0, numSubdivsPenalty=0, levelPenalty=0.03)</td></tr>\n",
       "<tr><td style=\"text-align: right;\"> 0.0329</td><td>(13, 1)     </td><td>[‹~4E 0:0.038 1/26♩›, ‹r 0.038:1 25/26♩›]                                                               </td><td>[0, 1] </td><td>gridError=0.0252, rhythmComplexity=0.224 (numSyncop=1, numTies=0), divPenalty=0.2 (0.002, divPenalty=0.2, cardinalityPenalty=0, numSubdivsPenalty=0, levelPenalty=0)           </td></tr>\n",
       "<tr><td style=\"text-align: right;\"> 0.0437</td><td>(11, 1)     </td><td>[‹~4E 0:0.045 1/22♩›, ‹r 0.045:1 21/22♩›]                                                               </td><td>[0, 1] </td><td>gridError=0.0419, rhythmComplexity=0.224 (numSyncop=1, numTies=0), divPenalty=0.1 (0.001, divPenalty=0.1, cardinalityPenalty=0, numSubdivsPenalty=0, levelPenalty=0)           </td></tr>\n",
       "<tr><td style=\"text-align: right;\"> 0.0524</td><td>(10, 1)     </td><td>[‹~4E 0:0.05 1/20♩›, ‹r 0.05:1 19/20♩›]                                                                 </td><td>[0, 1] </td><td>gridError=0.0516, rhythmComplexity=0.224 (numSyncop=1, numTies=0), divPenalty=0.06 (0.0006, divPenalty=0.06, cardinalityPenalty=0, numSubdivsPenalty=0, levelPenalty=0)        </td></tr>\n",
       "<tr><td style=\"text-align: right;\"> 0.0551</td><td>(2,)        </td><td>[‹~4E 0:grace properties={&#x27;.snappedGracenote&#x27;: True, &#x27;.originalDuration&#x27;: Fraction(1, 32)}›, ‹r 0:1 1♩›]</td><td>[0, 0] </td><td>gridError=0.0551, rhythmComplexity=0 (numSyncop=0, numTies=0), divPenalty=0 (0, divPenalty=0, cardinalityPenalty=0, numSubdivsPenalty=0, levelPenalty=0)                       </td></tr>\n",
       "<tr><td style=\"text-align: right;\"> 0.0551</td><td>(7,)        </td><td>[‹~4E 0:grace properties={&#x27;.snappedGracenote&#x27;: True, &#x27;.originalDuration&#x27;: Fraction(1, 32)}›, ‹r 0:1 1♩›]</td><td>[0, 0] </td><td>gridError=0.0551, rhythmComplexity=0 (numSyncop=0, numTies=0), divPenalty=0.02 (0.0002, divPenalty=0.02, cardinalityPenalty=0, numSubdivsPenalty=0, levelPenalty=0)            </td></tr>\n",
       "<tr><td style=\"text-align: right;\"> 0.0555</td><td>(1,)        </td><td>[‹~4E 0:grace properties={&#x27;.snappedGracenote&#x27;: True, &#x27;.originalDuration&#x27;: Fraction(1, 32)}›, ‹r 0:1 1♩›]</td><td>[0, 0] </td><td>gridError=0.0551, rhythmComplexity=0.224 (numSyncop=1, numTies=0), divPenalty=0 (0, divPenalty=0, cardinalityPenalty=0, numSubdivsPenalty=0, levelPenalty=0)                   </td></tr>\n",
       "</tbody>\n",
       "</table>"
      ],
      "text/plain": [
       "<IPython.core.display.HTML object>"
      ]
     },
     "metadata": {},
     "output_type": "display_data"
    },
    {
     "name": "stderr",
     "output_type": "stream",
     "text": [
      "[maelzel.scoring:node.py:667:removeUnnecessaryGracenotes:DEBUG] Removing gracenote «~4D 2:grace properties={'.snappedGracenote': True, '.originalDuration': Fraction(1, 64)}» from node Node(1/1, dur=4 «4C 0:1 1♩»\n",
      "                «4D 1:2 1♩»\n",
      "                «~4D 2:grace properties={'.snappedGracenote': True, '.originalDuration': Fraction(1, 64)}»\n",
      "                «4E~ 2:3 1♩»\n",
      "                Node(7/4, dur=1/4 «~4E 3:3.036 1/28♩ 1/1,7/4»\n",
      "                                  «r 3.036:3.25 3/14♩ 1/1,7/4»)\n",
      "                «r 3.25:4 3/4♩»)\n",
      "[maelzel.scoring:quant.py:835:breakSyncopations:DEBUG] Evaluating split at beat.offset=Fraction(1, 1), beat.duration=Fraction(1, 1), minWeight=1\n",
      "[maelzel.scoring:quant.py:835:breakSyncopations:DEBUG] Evaluating split at beat.offset=Fraction(2, 1), beat.duration=Fraction(1, 1), minWeight=1\n",
      "[maelzel.scoring:quant.py:835:breakSyncopations:DEBUG] Evaluating split at beat.offset=Fraction(3, 1), beat.duration=Fraction(1, 1), minWeight=1\n",
      "[maelzel.scoring:quant.py:2093:resolveEnharmonics:DEBUG] Resolving enharmonics for measure 0\n",
      "[maelzel.scoring:renderlily.py:1174:write:DEBUG] Rendering lilypond '/home/em/.cache/tmpd94xcefd/w75qxx5j.ly' to '/home/em/.cache/tmpd94xcefd/w75qxx5j.png'\n",
      "[maelzel.scoring:renderlily.py:1190:write:DEBUG] Found crop file '/home/em/.cache/tmpd94xcefd/w75qxx5j.cropped.png', using that as output\n",
      "[maelzel.scoring:renderlily.py:1200:write:DEBUG] Moving /home/em/.cache/tmpd94xcefd/w75qxx5j.cropped.png to /home/em/.cache/tmpd94xcefd/bnyyxei2.png\n"
     ]
    },
    {
     "data": {
      "text/html": [
       "<code style=\"white-space: pre-line; font-size:0.9em;\">Voice([<span style=\"color:#6666E0\">4C:1♩</span>, <span style=\"color:#6666E0\">4D:1.016♩</span>, <span style=\"color:#6666E0\">4E:1.016♩</span>], dur=3.031)</code><br><br><img style=\"display:inline; padding:10px;\n",
       "margin-top:14px;\n",
       "width:393px\" src=\"data:image/png;base64,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\"/>"
      ],
      "text/plain": [
       "Voice([4C:1♩, 4D:1.016♩, 4E:1.016♩])"
      ]
     },
     "execution_count": 11,
     "metadata": {},
     "output_type": "execute_result"
    }
   ],
   "source": [
    "v1 = Voice([\n",
    "    \"4C:1\",\n",
    "    \"4D:1+1/64\",\n",
    "    \"4E:1+1/64\"\n",
    "])\n",
    "v1"
   ]
  },
  {
   "cell_type": "code",
   "execution_count": 10,
   "id": "3f847ff6-bcc0-4d5d-8671-1af78aff4072",
   "metadata": {},
   "outputs": [
    {
     "name": "stderr",
     "output_type": "stream",
     "text": [
      "[maelzel.scoring:quant.py:1464:quantizeMeasure:DEBUG] Measure 4/4 is not filled (events=[‹4C 0:1 1♩›, ‹4D 1:2.016 65/64♩›, ‹4E 2.016:3.031 65/64♩›]). Filling gaps with silences\n",
      "[maelzel.scoring:quant.py:1170:quantizeBeatBinary:DEBUG] Skipping (11,), totalError=0.05775101525194592 > minError=0.05512875622241527\n",
      "[maelzel.scoring:quant.py:1170:quantizeBeatBinary:DEBUG] Skipping (13,), totalError=0.060292451954042224 > minError=0.05512875622241527\n",
      "[maelzel.scoring:quant.py:1170:quantizeBeatBinary:DEBUG] Skipping (4,), totalError=0.055101540474205346 > minError=0.05509246557044339\n",
      "[maelzel.scoring:quant.py:1170:quantizeBeatBinary:DEBUG] Skipping (5,), totalError=0.0569137923761059 > minError=0.05509246557044339\n",
      "[maelzel.scoring:quant.py:1170:quantizeBeatBinary:DEBUG] Skipping (6,), totalError=0.055101540474205346 > minError=0.05509246557044339\n"
     ]
    },
    {
     "name": "stdout",
     "output_type": "stream",
     "text": [
      "Beat: 2 - 3 (dur: 1)\n"
     ]
    },
    {
     "data": {
      "text/html": [
       "<table>\n",
       "<thead>\n",
       "<tr><th style=\"text-align: right;\">  error</th><th>div  </th><th>snapped                                                                                                   </th><th>slots  </th><th>info                                                                                                                                                               </th></tr>\n",
       "</thead>\n",
       "<tbody>\n",
       "<tr><td style=\"text-align: right;\"> 0.0551</td><td>(2,) </td><td>[‹~4D 0:grace properties={&#x27;.snappedGracenote&#x27;: True, &#x27;.originalDuration&#x27;: Fraction(1, 64)}›, ‹4E~ 0:1 1♩›]</td><td>[0, 0] </td><td>gridError=0.0551, rhythmComplexity=0 (numSyncop=0, numTies=0), divPenalty=0 (0, divPenalty=0, cardinalityPenalty=0, numSubdivsPenalty=0, levelPenalty=0)           </td></tr>\n",
       "<tr><td style=\"text-align: right;\"> 0.0551</td><td>(3,) </td><td>[‹~4D 0:grace properties={&#x27;.snappedGracenote&#x27;: True, &#x27;.originalDuration&#x27;: Fraction(1, 64)}›, ‹4E~ 0:1 1♩›]</td><td>[0, 0] </td><td>gridError=0.0551, rhythmComplexity=0 (numSyncop=0, numTies=0), divPenalty=0 (0, divPenalty=0, cardinalityPenalty=0, numSubdivsPenalty=0, levelPenalty=0)           </td></tr>\n",
       "<tr><td style=\"text-align: right;\"> 0.0551</td><td>(7,) </td><td>[‹~4D 0:grace properties={&#x27;.snappedGracenote&#x27;: True, &#x27;.originalDuration&#x27;: Fraction(1, 64)}›, ‹4E~ 0:1 1♩›]</td><td>[0, 0] </td><td>gridError=0.0551, rhythmComplexity=0 (numSyncop=0, numTies=0), divPenalty=0.02 (0.0002, divPenalty=0.02, cardinalityPenalty=0, numSubdivsPenalty=0, levelPenalty=0)</td></tr>\n",
       "<tr><td style=\"text-align: right;\"> 0.0569</td><td>(1,) </td><td>[‹~4D 0:grace properties={&#x27;.snappedGracenote&#x27;: True, &#x27;.originalDuration&#x27;: Fraction(1, 64)}›, ‹4E~ 0:1 1♩›]</td><td>[0, 0] </td><td>gridError=0.0551, rhythmComplexity=0.447 (numSyncop=2, numTies=0), divPenalty=0 (0, divPenalty=0, cardinalityPenalty=0, numSubdivsPenalty=0, levelPenalty=0)       </td></tr>\n",
       "</tbody>\n",
       "</table>"
      ],
      "text/plain": [
       "<IPython.core.display.HTML object>"
      ]
     },
     "metadata": {},
     "output_type": "display_data"
    },
    {
     "name": "stderr",
     "output_type": "stream",
     "text": [
      "[maelzel.scoring:quant.py:1170:quantizeBeatBinary:DEBUG] Skipping (11,), totalError=0.05775101525194592 > minError=0.05512875622241527\n",
      "[maelzel.scoring:quant.py:1170:quantizeBeatBinary:DEBUG] Skipping (13,), totalError=0.060292451954042224 > minError=0.05512875622241527\n",
      "[maelzel.scoring:quant.py:1151:quantizeBeatBinary:DEBUG] Skipping (8, 1, 1), gridError=0.03320798791873451 * 1.0 > minError=0.03294289276043672\n"
     ]
    },
    {
     "name": "stdout",
     "output_type": "stream",
     "text": [
      "Beat: 3 - 4 (dur: 1)\n"
     ]
    },
    {
     "data": {
      "text/html": [
       "<table>\n",
       "<thead>\n",
       "<tr><th style=\"text-align: right;\">  error</th><th>div         </th><th>snapped                                                                                                 </th><th>slots  </th><th>info                                                                                                                                                                           </th></tr>\n",
       "</thead>\n",
       "<tbody>\n",
       "<tr><td style=\"text-align: right;\"> 0.0192</td><td>(7, 1, 1, 1)</td><td>[‹~4E 0:0.036 1/28♩›, ‹r 0.036:1 27/28♩›]                                                               </td><td>[0, 1] </td><td>gridError=0.0176, rhythmComplexity=0.224 (numSyncop=1, numTies=0), divPenalty=0.03 (0.0003, divPenalty=0.03, cardinalityPenalty=0, numSubdivsPenalty=0, levelPenalty=0)        </td></tr>\n",
       "<tr><td style=\"text-align: right;\"> 0.0233</td><td>(9, 1, 1)   </td><td>[‹~4E 0:0.037 1/27♩›, ‹r 0.037:1 26/27♩›]                                                               </td><td>[0, 1] </td><td>gridError=0.0214, rhythmComplexity=0.224 (numSyncop=1, numTies=0), divPenalty=0.0583 (0.0005831, divPenalty=0.05, cardinalityPenalty=0, numSubdivsPenalty=0, levelPenalty=0.03)</td></tr>\n",
       "<tr><td style=\"text-align: right;\"> 0.0329</td><td>(13, 1)     </td><td>[‹~4E 0:0.038 1/26♩›, ‹r 0.038:1 25/26♩›]                                                               </td><td>[0, 1] </td><td>gridError=0.0252, rhythmComplexity=0.224 (numSyncop=1, numTies=0), divPenalty=0.2 (0.002, divPenalty=0.2, cardinalityPenalty=0, numSubdivsPenalty=0, levelPenalty=0)           </td></tr>\n",
       "<tr><td style=\"text-align: right;\"> 0.0437</td><td>(11, 1)     </td><td>[‹~4E 0:0.045 1/22♩›, ‹r 0.045:1 21/22♩›]                                                               </td><td>[0, 1] </td><td>gridError=0.0419, rhythmComplexity=0.224 (numSyncop=1, numTies=0), divPenalty=0.1 (0.001, divPenalty=0.1, cardinalityPenalty=0, numSubdivsPenalty=0, levelPenalty=0)           </td></tr>\n",
       "<tr><td style=\"text-align: right;\"> 0.0524</td><td>(10, 1)     </td><td>[‹~4E 0:0.05 1/20♩›, ‹r 0.05:1 19/20♩›]                                                                 </td><td>[0, 1] </td><td>gridError=0.0516, rhythmComplexity=0.224 (numSyncop=1, numTies=0), divPenalty=0.06 (0.0006, divPenalty=0.06, cardinalityPenalty=0, numSubdivsPenalty=0, levelPenalty=0)        </td></tr>\n",
       "<tr><td style=\"text-align: right;\"> 0.0551</td><td>(2,)        </td><td>[‹~4E 0:grace properties={&#x27;.snappedGracenote&#x27;: True, &#x27;.originalDuration&#x27;: Fraction(1, 32)}›, ‹r 0:1 1♩›]</td><td>[0, 0] </td><td>gridError=0.0551, rhythmComplexity=0 (numSyncop=0, numTies=0), divPenalty=0 (0, divPenalty=0, cardinalityPenalty=0, numSubdivsPenalty=0, levelPenalty=0)                       </td></tr>\n",
       "<tr><td style=\"text-align: right;\"> 0.0551</td><td>(7,)        </td><td>[‹~4E 0:grace properties={&#x27;.snappedGracenote&#x27;: True, &#x27;.originalDuration&#x27;: Fraction(1, 32)}›, ‹r 0:1 1♩›]</td><td>[0, 0] </td><td>gridError=0.0551, rhythmComplexity=0 (numSyncop=0, numTies=0), divPenalty=0.02 (0.0002, divPenalty=0.02, cardinalityPenalty=0, numSubdivsPenalty=0, levelPenalty=0)            </td></tr>\n",
       "<tr><td style=\"text-align: right;\"> 0.0569</td><td>(1,)        </td><td>[‹~4E 0:grace properties={&#x27;.snappedGracenote&#x27;: True, &#x27;.originalDuration&#x27;: Fraction(1, 32)}›, ‹r 0:1 1♩›]</td><td>[0, 0] </td><td>gridError=0.0551, rhythmComplexity=0.447 (numSyncop=2, numTies=0), divPenalty=0 (0, divPenalty=0, cardinalityPenalty=0, numSubdivsPenalty=0, levelPenalty=0)                   </td></tr>\n",
       "</tbody>\n",
       "</table>"
      ],
      "text/plain": [
       "<IPython.core.display.HTML object>"
      ]
     },
     "metadata": {},
     "output_type": "display_data"
    },
    {
     "name": "stderr",
     "output_type": "stream",
     "text": [
      "[maelzel.scoring:node.py:667:removeUnnecessaryGracenotes:DEBUG] Removing gracenote «~4D 2:grace properties={'.snappedGracenote': True, '.originalDuration': Fraction(1, 64)}» from node Node(1/1, dur=4 «4C 0:1 1♩»\n",
      "                «4D 1:2 1♩»\n",
      "                «~4D 2:grace properties={'.snappedGracenote': True, '.originalDuration': Fraction(1, 64)}»\n",
      "                «4E~ 2:3 1♩»\n",
      "                Node(7/4, dur=1/4 «~4E 3:3.036 1/28♩ 1/1,7/4»\n",
      "                                  «r 3.036:3.25 3/14♩ 1/1,7/4»)\n",
      "                «r 3.25:4 3/4♩»)\n",
      "[maelzel.scoring:quant.py:835:breakSyncopations:DEBUG] Evaluating split at beat.offset=Fraction(1, 1), beat.duration=Fraction(1, 1), minWeight=1\n",
      "[maelzel.scoring:quant.py:835:breakSyncopations:DEBUG] Evaluating split at beat.offset=Fraction(2, 1), beat.duration=Fraction(1, 1), minWeight=1\n",
      "[maelzel.scoring:quant.py:835:breakSyncopations:DEBUG] Evaluating split at beat.offset=Fraction(3, 1), beat.duration=Fraction(1, 1), minWeight=1\n",
      "[maelzel.scoring:quant.py:835:breakSyncopations:DEBUG] Evaluating split at beat.offset=Fraction(1, 1), beat.duration=Fraction(1, 1), minWeight=1\n",
      "[maelzel.scoring:quant.py:835:breakSyncopations:DEBUG] Evaluating split at beat.offset=Fraction(2, 1), beat.duration=Fraction(1, 1), minWeight=1\n",
      "[maelzel.scoring:quant.py:835:breakSyncopations:DEBUG] Evaluating split at beat.offset=Fraction(3, 1), beat.duration=Fraction(1, 1), minWeight=1\n",
      "[maelzel.scoring:quant.py:2086:resolveEnharmonics:DEBUG] Resolving enharmonics for measure 0\n",
      "[maelzel.scoring:quant.py:2086:resolveEnharmonics:DEBUG] Resolving enharmonics for measure 0\n",
      "[maelzel.scoring:renderlily.py:1174:write:DEBUG] Rendering lilypond '/home/em/.cache/tmpfpb5x0z9/4vilyfpy.ly' to '/home/em/.cache/tmpfpb5x0z9/4vilyfpy.png'\n",
      "[maelzel.scoring:renderlily.py:1190:write:DEBUG] Found crop file '/home/em/.cache/tmpfpb5x0z9/4vilyfpy.cropped.png', using that as output\n",
      "[maelzel.scoring:renderlily.py:1200:write:DEBUG] Moving /home/em/.cache/tmpfpb5x0z9/4vilyfpy.cropped.png to /home/em/.cache/tmpfpb5x0z9/7wxi_827.png\n"
     ]
    },
    {
     "data": {
      "text/html": [
       "<code style=\"white-space: pre-line; font-size:0.9em;\">Score(2 voices)</code><br><br><img style=\"display:inline; padding:10px;\n",
       "margin-top:14px;\n",
       "width:393px\" src=\"data:image/png;base64,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\"/>"
      ],
      "text/plain": [
       "Score(2 voices)"
      ]
     },
     "execution_count": 10,
     "metadata": {},
     "output_type": "execute_result"
    }
   ],
   "source": [
    "v1 = Voice([\n",
    "    \"4C:1\",\n",
    "    \"4D:1+1/64\",\n",
    "    \"4E:1+1/64\"\n",
    "])\n",
    "v2 = Voice([\n",
    "    \"4C:1\",\n",
    "    \"4D:1\",\n",
    "    \"4E:1\",\n",
    "    \"4F:1\"\n",
    "])\n",
    "sc = Score([v1, v2])\n",
    "sc"
   ]
  },
  {
   "cell_type": "code",
   "execution_count": 14,
   "id": "0a0c0a3a-de7d-4bc7-a0f6-5a58f311f7b7",
   "metadata": {},
   "outputs": [
    {
     "name": "stderr",
     "output_type": "stream",
     "text": [
      "[maelzel.scoring:quant.py:835:breakSyncopations:DEBUG] Evaluating split at beat.offset=Fraction(1, 1), beat.duration=Fraction(1, 1), minWeight=1\n",
      "[maelzel.scoring:node.py:955:_splitNotationAtBeat:DEBUG] Found a syncopation but the callback was negative, so «r 0:1.5 3/2♩» will not be split\n",
      "[maelzel.scoring:quant.py:835:breakSyncopations:DEBUG] Evaluating split at beat.offset=Fraction(2, 1), beat.duration=Fraction(1, 1), minWeight=1\n",
      "[maelzel.scoring:node.py:883:_remerge:DEBUG] Remerged [«r 0:1.5 3/2♩», «[4G 4B]~ 1.5:2 1/2♩ properties={'.forwardTies': {0, 1}}», «|~[4G 4B]~ 2:3 1♩», «~[4G 4B] 3:4 1♩ properties={'.backwardTies': {0, 1}}»] to [«r 0:1.5 3/2♩», «[4G 4B]~ 1.5:2 1/2♩ properties={'.forwardTies': {0, 1}}», «|~[4G 4B] 2:4 2♩»]\n",
      "[maelzel.scoring:quant.py:839:breakSyncopations:DEBUG] --- Splitting syncopation at beat.offset=Fraction(2, 1), minWeight=1\n",
      "[maelzel.scoring:quant.py:835:breakSyncopations:DEBUG] Evaluating split at beat.offset=Fraction(3, 1), beat.duration=Fraction(1, 1), minWeight=1\n",
      "[maelzel.scoring:node.py:955:_splitNotationAtBeat:DEBUG] Found a syncopation but the callback was negative, so «|~[4G 4B] 2:4 2♩» will not be split\n",
      "[maelzel.scoring:quant.py:2093:resolveEnharmonics:DEBUG] Resolving enharmonics for measure 0\n",
      "[maelzel.scoring:renderlily.py:1174:write:DEBUG] Rendering lilypond '/home/em/.cache/tmpd94xcefd/18awbvas.ly' to '/home/em/.cache/tmpd94xcefd/18awbvas.png'\n",
      "[maelzel.scoring:renderlily.py:1190:write:DEBUG] Found crop file '/home/em/.cache/tmpd94xcefd/18awbvas.cropped.png', using that as output\n",
      "[maelzel.scoring:renderlily.py:1200:write:DEBUG] Moving /home/em/.cache/tmpd94xcefd/18awbvas.cropped.png to /home/em/.cache/tmpd94xcefd/gne1pccb.png\n"
     ]
    },
    {
     "data": {
      "image/png": "[encoded data removed]",
      "text/plain": [
       "<IPython.core.display.Image object>"
      ]
     },
     "metadata": {
      "image/png": {
       "width": 264
      }
     },
     "output_type": "display_data"
    }
   ],
   "source": [
    "from maelzel.core import *\n",
    "from maelzel.scoring import logger as sclogger\n",
    "sclogger.setLevel(\"DEBUG\")\n",
    "cfg = getConfig()\n",
    "cfg['.quant.debug'] = False\n",
    "\n",
    "v = Voice(r\"\"\"\n",
    "r:1.5\n",
    "4g,4b~:0.5\n",
    "4g,4b~:1\n",
    "4g,4b:1\n",
    "\"\"\")\n",
    "q = v.quantizedScore()\n",
    "q.show()\n",
    "#q.dump()\n",
    "#v"
   ]
  },
  {
   "cell_type": "code",
   "execution_count": 15,
   "id": "27860115-7fc7-4855-95e8-208e512514e2",
   "metadata": {},
   "outputs": [
    {
     "name": "stderr",
     "output_type": "stream",
     "text": [
      "[maelzel.scoring:quant.py:835:breakSyncopations:DEBUG] Evaluating split at beat.offset=Fraction(1, 1), beat.duration=Fraction(1, 1), minWeight=1\n",
      "[maelzel.scoring:node.py:955:_splitNotationAtBeat:DEBUG] Found a syncopation but the callback was negative, so «r 0:1.5 3/2♩» will not be split\n",
      "[maelzel.scoring:quant.py:835:breakSyncopations:DEBUG] Evaluating split at beat.offset=Fraction(2, 1), beat.duration=Fraction(1, 1), minWeight=1\n",
      "[maelzel.scoring:quant.py:839:breakSyncopations:DEBUG] --- Splitting syncopation at beat.offset=Fraction(2, 1), minWeight=1\n",
      "[maelzel.scoring:quant.py:835:breakSyncopations:DEBUG] Evaluating split at beat.offset=Fraction(3, 1), beat.duration=Fraction(1, 1), minWeight=1\n",
      "[maelzel.scoring:quant.py:2093:resolveEnharmonics:DEBUG] Resolving enharmonics for measure 0\n",
      "[maelzel.scoring:renderlily.py:1174:write:DEBUG] Rendering lilypond '/home/em/.cache/tmpd94xcefd/rgtcz1ij.ly' to '/home/em/.cache/tmpd94xcefd/rgtcz1ij.png'\n",
      "[maelzel.scoring:renderlily.py:1190:write:DEBUG] Found crop file '/home/em/.cache/tmpd94xcefd/rgtcz1ij.cropped.png', using that as output\n",
      "[maelzel.scoring:renderlily.py:1200:write:DEBUG] Moving /home/em/.cache/tmpd94xcefd/rgtcz1ij.cropped.png to /home/em/.cache/tmpd94xcefd/e1yr2bfc.png\n"
     ]
    },
    {
     "data": {
      "text/html": [
       "<code style=\"white-space: pre-line; font-size:0.9em;\">Voice([<span style=\"color:#6666E0\">Rest:1.5♩</span>, <span style=\"color:#6666E0\">‹4G 4B 0.5♩›</span>, <span style=\"color:#6666E0\">‹4G 4B 1♩›</span>, <span style=\"color:#6666E0\">‹4G 4B 1♩›</span>], dur=4)</code><br><br><img style=\"display:inline; padding:10px;\n",
       "margin-top:14px;\n",
       "width:227px\" src=\"data:image/png;base64,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\"/>"
      ],
      "text/plain": [
       "Voice([Rest:1.5♩, ‹4G 4B 0.5♩›, ‹4G 4B 1♩›, ‹4G 4B 1♩›])"
      ]
     },
     "execution_count": 15,
     "metadata": {},
     "output_type": "execute_result"
    }
   ],
   "source": [
    "v = Voice(r\"\"\"\n",
    "r:1.5\n",
    "4g,4b~:0.5\n",
    "4g,4b~:1\n",
    "4g,4b:1:accent\n",
    "\"\"\")\n",
    "v"
   ]
  },
  {
   "cell_type": "code",
   "execution_count": null,
   "id": "be33ad6d-504e-45d0-9b83-c8f875fbf5f1",
   "metadata": {},
   "outputs": [],
   "source": []
  }
 ],
 "metadata": {
  "kernelspec": {
   "display_name": "Python 3 (ipykernel)",
   "language": "python",
   "name": "python3"
  },
  "language_info": {
   "codemirror_mode": {
    "name": "ipython",
    "version": 3
   },
   "file_extension": ".py",
   "mimetype": "text/x-python",
   "name": "python",
   "nbconvert_exporter": "python",
   "pygments_lexer": "ipython3",
   "version": "3.12.7"
  }
 },
 "nbformat": 4,
 "nbformat_minor": 5
}
