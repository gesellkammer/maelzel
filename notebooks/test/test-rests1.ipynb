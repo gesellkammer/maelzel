{
 "cells": [
  {
   "cell_type": "code",
   "execution_count": 5,
   "id": "1866ca39-6bf2-4e90-b4ba-ea33d227b8bd",
   "metadata": {},
   "outputs": [],
   "source": [
    "from maelzel.core import *"
   ]
  },
  {
   "cell_type": "code",
   "execution_count": 6,
   "id": "1232cb49-7305-4bdc-9e40-9ae3b337b5cb",
   "metadata": {},
   "outputs": [
    {
     "data": {
      "text/html": [
       "<code style=\"white-space: pre-line; font-size:0.9em;\">Rest:0.375♩</code><br><img style=\"display:inline; padding:10px;\n",
       "margin-top:14px;\n",
       "width:239px\" src=\"data:image/png;base64,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\"/>"
      ],
      "text/plain": [
       "Rest:0.375♩"
      ]
     },
     "execution_count": 6,
     "metadata": {},
     "output_type": "execute_result"
    }
   ],
   "source": [
    "ch = Chain(r'''\n",
    "r:3/8\n",
    "'''\n",
    "          )\n",
    "ch[0]"
   ]
  },
  {
   "cell_type": "code",
   "execution_count": 7,
   "id": "4b540c50-ffa7-452a-a3c6-5c26d9eaf880",
   "metadata": {},
   "outputs": [
    {
     "data": {
      "text/html": [
       "<code style=\"white-space: pre-line; font-size:0.9em;\">Chain([<span style=\"color:#6666E0\">Rest:0.125♩</span>, <span style=\"color:#6666E0\">Rest:0.25♩</span>, <span style=\"color:#6666E0\">4C:0.25♩</span>, <span style=\"color:#6666E0\">4D:0.125♩</span>, <span style=\"color:#6666E0\">Rest:0.375♩</span>, <span style=\"color:#6666E0\">4E:0.125♩</span>, <span style=\"color:#6666E0\">4F:0.125♩</span>, <span style=\"color:#6666E0\">Rest:0.5♩</span>], dur=1.875)</code><br><img style=\"display:inline; padding:10px;\n",
       "margin-top:14px;\n",
       "width:345px\" src=\"data:image/png;base64,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\"/>"
      ],
      "text/plain": [
       "Chain([Rest:0.125♩, Rest:0.25♩, 4C:0.25♩, 4D:0.125♩, Rest:0.375♩, 4E:0.125♩, 4F:0.125♩, Rest:0.5♩])"
      ]
     },
     "execution_count": 7,
     "metadata": {},
     "output_type": "execute_result"
    }
   ],
   "source": [
    "ch = Chain(r'''\n",
    "r:1/8\n",
    "r:2/8\n",
    "c4:2/8\n",
    "d4:1/8\n",
    "r:3/8\n",
    "e4:1/8\n",
    "f4:1/8\n",
    "r:1/2\n",
    "''')\n",
    "# ch[0].addSpanner('beam', ch.eventAt(7/8))\n",
    "ch.write(\"~/tmp/slur.ly\")\n",
    "# ch[0].addSymbol(\"fermata\")\n",
    "ch"
   ]
  },
  {
   "cell_type": "code",
   "execution_count": 10,
   "id": "893efa2c-ea58-4a91-8e00-653ca4933e80",
   "metadata": {},
   "outputs": [
    {
     "data": {
      "text/plain": [
       "[‹r 0:0.125 1/8♩›,\n",
       " ‹r 0.125:0.375 1/4♩›,\n",
       " ‹4C 0.375:0.625 1/4♩›,\n",
       " ‹4D 0.625:0.75 1/8♩›,\n",
       " ‹r 0.75:1.125 3/8♩›,\n",
       " ‹4E 1.125:1.25 1/8♩›,\n",
       " ‹4F 1.25:1.375 1/8♩›,\n",
       " ‹r 1.375:1.875 1/2♩›]"
      ]
     },
     "execution_count": 10,
     "metadata": {},
     "output_type": "execute_result"
    }
   ],
   "source": [
    "ch.scoringEvents()"
   ]
  },
  {
   "cell_type": "code",
   "execution_count": 11,
   "id": "dcaabe4f-44a3-4ace-8daf-924e0e05aa16",
   "metadata": {},
   "outputs": [
    {
     "name": "stdout",
     "output_type": "stream",
     "text": [
      "Part #0:\n",
      "  Measure #0\n",
      "    Timesig: 4/4(quarter=60)\n",
      "    Node ratio: 1/1, offset=0, end=4, dur=4, symbolicdur=4\n",
      "      «r 0:0.375 3/8♩»\n",
      "      «4C 0.375:0.625 1/4♩»\n",
      "      «4D 0.625:0.75 1/8♩»\n",
      "      «r 0.75:1.125 3/8♩»\n",
      "      «4E 1.125:1.25 1/8♩»\n",
      "      «4F 1.25:1.375 1/8♩»\n",
      "      «r 1.375:1.5 1/8♩»\n",
      "      «r 1.5:2 1/2♩»\n",
      "      «r 2:4 2♩ properties={'.mergeablePrev': False}»\n"
     ]
    }
   ],
   "source": [
    "qs = ch.quantizedScore()\n",
    "qs.dump()"
   ]
  },
  {
   "cell_type": "code",
   "execution_count": null,
   "id": "0f84f9f0-4ac6-4115-8b87-32f10a16ffc0",
   "metadata": {},
   "outputs": [],
   "source": []
  }
 ],
 "metadata": {
  "kernelspec": {
   "display_name": "Python 3 (ipykernel)",
   "language": "python",
   "name": "python3"
  },
  "language_info": {
   "codemirror_mode": {
    "name": "ipython",
    "version": 3
   },
   "file_extension": ".py",
   "mimetype": "text/x-python",
   "name": "python",
   "nbconvert_exporter": "python",
   "pygments_lexer": "ipython3",
   "version": "3.12.7"
  }
 },
 "nbformat": 4,
 "nbformat_minor": 5
}
