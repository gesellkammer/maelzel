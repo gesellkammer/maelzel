{
 "cells": [
  {
   "cell_type": "code",
   "execution_count": 1,
   "id": "500e9948-e810-46fc-8d64-5bab72e3a330",
   "metadata": {},
   "outputs": [
    {
     "name": "stdout",
     "output_type": "stream",
     "text": [
      "csoundengine.magic extension loaded\n",
      "Magics available: %csound, %%csound, %%definstr\n"
     ]
    }
   ],
   "source": [
    "from maelzel.core import *"
   ]
  },
  {
   "cell_type": "code",
   "execution_count": 2,
   "id": "614fe763-ce87-43b2-b429-32ea3931f615",
   "metadata": {},
   "outputs": [
    {
     "data": {
      "text/plain": [
       "[SynthEvent(delay=0, dur=1.5, gain=1, chan=1, fade=(0.02, 0.02), instr=_piano)\n",
       " bps 0.000s: 60 0.1     \n",
       "     0.500s: 62 1\n",
       "     1.500s: 64 0.2     ]"
      ]
     },
     "execution_count": 2,
     "metadata": {},
     "output_type": "execute_result"
    }
   ],
   "source": [
    "ch2 = Chain([\n",
    "    Note(60, 0.5, amp=0.1, gliss=True),\n",
    "    Note(62, 1, amp=1, gliss=True),\n",
    "    Note(64, amp=0.2)\n",
    "])\n",
    "ch2.events()"
   ]
  },
  {
   "cell_type": "code",
   "execution_count": 3,
   "id": "3e59df82-a6a7-46ae-9e67-c1c0c7385443",
   "metadata": {},
   "outputs": [
    {
     "data": {
      "text/html": [
       "<code style=\"font-size:0.9em\">Line(start=2, bps=[[0, 60, 0.1], [2, 61, 1], [2.5, 59.5, 0.1]])</code><br>\n",
       "        <img style=\"display:inline; padding:10px;\n",
       "margin-top:14px;\n",
       "width:295px\"\n",
       "             src=\"data:image/png;base64,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\"/>"
      ],
      "text/plain": [
       "Line(start=2, bps=[[0, 60, 0.1], [2, 61, 1], [2.5, 59.5, 0.1]])"
      ]
     },
     "execution_count": 3,
     "metadata": {},
     "output_type": "execute_result"
    }
   ],
   "source": [
    "l = Line((0, 60, 0.1),\n",
    "         (2, 61, 1),\n",
    "         (2.5, 59.5, 0.1), \n",
    "         dynamic='f',\n",
    "         start=2)\n",
    "l"
   ]
  },
  {
   "cell_type": "code",
   "execution_count": 12,
   "id": "d30ddbf9-e7a6-4aef-a4a8-cfbb8ae7db23",
   "metadata": {},
   "outputs": [
    {
     "data": {
      "application/vnd.jupyter.widget-view+json": {
       "model_id": "6292385d855b459281f7b157602026f6",
       "version_major": 2,
       "version_minor": 0
      },
      "text/plain": [
       "Button(description='Stop', style=ButtonStyle())"
      ]
     },
     "metadata": {},
     "output_type": "display_data"
    },
    {
     "data": {
      "application/vnd.jupyter.widget-view+json": {
       "model_id": "e81479031324475087429f65fbefb799",
       "version_major": 2,
       "version_minor": 0
      },
      "text/plain": [
       "Output()"
      ]
     },
     "metadata": {},
     "output_type": "display_data"
    },
    {
     "data": {
      "text/html": [
       "<small>SynthGroup - start: 2.183, dur: 2.500, synths: 1</small>\n",
       "<p>instr: <strong style=\"color:MediumSeaGreen\">preset.tri</strong> - <b>1</b> synths</p>\n",
       "<table><thead><tr><th style=\"text-align:left\">p1</th><th style=\"text-align:left\">start</th><th style=\"text-align:left\">dur</th><th style=\"text-align:left\">4</th><th style=\"text-align:left\">5:idataidx_</th><th style=\"text-align:left\">6:inumbps</th><th style=\"text-align:left\">7:ibplen</th><th style=\"text-align:left\">8:igain_</th><th style=\"text-align:left\">9:ichan_</th><th style=\"text-align:left\">10:ipos</th><th style=\"text-align:left\">11:ifade0</th><th style=\"text-align:left\">12:ifade1</th><th style=\"text-align:left\">13:ipchintrp_</th><th style=\"text-align:left\">14:ifadekind_</th><th style=\"text-align:left\">15:ktransp</th><th style=\"text-align:left\">16:klag</th><th style=\"text-align:left\">17:kfreqratio</th><th style=\"text-align:left\">18:kQ</th><th style=\"text-align:left\">19</th><th style=\"text-align:left\">20</th><th style=\"text-align:left\">21</th><th style=\"text-align:left\">22</th><th style=\"text-align:left\">...</th><th style=\"text-align:left\">23</th><th style=\"text-align:left\">...</th><th style=\"text-align:left\">24</th><th style=\"text-align:left\">...</th><th style=\"text-align:left\">25</th><th style=\"text-align:left\">...</th><th style=\"text-align:left\">26</th><th style=\"text-align:left\">...</th><th style=\"text-align:left\">27</th></tr></thead><tbody><tr><td style=\"text-align:left\">1005.0004 <b>𝍪</b></td><td style=\"text-align:left\">2.183</td><td style=\"text-align:left\">2.500</td><td style=\"text-align:left\">0</td><td style=\"text-align:left\">19</td><td style=\"text-align:left\">3</td><td style=\"text-align:left\">3</td><td style=\"text-align:left\">1</td><td style=\"text-align:left\">1</td><td style=\"text-align:left\">-1</td><td style=\"text-align:left\">0.02</td><td style=\"text-align:left\">0.02</td><td style=\"text-align:left\">0</td><td style=\"text-align:left\">1</td><td style=\"text-align:left\">0</td><td style=\"text-align:left\">0.1</td><td style=\"text-align:left\">3</td><td style=\"text-align:left\">3</td><td style=\"text-align:left\">0</td><td style=\"text-align:left\">60</td><td style=\"text-align:left\">0.1</td><td style=\"text-align:left\">...</td></tr></tbody></table>"
      ],
      "text/plain": [
       "SynthGroup(n=1)\n",
       "    Synth(𝍪 preset.tri:1005.0004, p4=0 idataidx_:5=19 inumbps:6=3 ibplen:7=3 igain_:8=1 ichan_:9=1 ipos:10=-1 ifade0:11=0.02 ifade1:12=0.02 ipchintrp_:13=0 ifadekind_:14=1 ktransp:15=0 klag:16=0.1 kfreqratio:17=3 kQ:18=3 p19=0 p20=60 p21=0.1 p22=2 ...)"
      ]
     },
     "execution_count": 12,
     "metadata": {},
     "output_type": "execute_result"
    }
   ],
   "source": [
    "l.play(instr='tri', params=dict(kfreqratio=3))"
   ]
  },
  {
   "cell_type": "code",
   "execution_count": 15,
   "id": "d1e29b1c-bc98-4f16-b381-1bd593519409",
   "metadata": {},
   "outputs": [
    {
     "data": {
      "text/html": [
       "<code style=\"font-size:0.9em\">Chain([<span style=\"color:#6666E0\">4C:262Hz:0.5♩</span>, <span style=\"color:#6666E0\">‹4E 4G 1♩›</span>, <span style=\"color:#6666E0\">Line(start=None, bps=[[0, 70.0, 1.0], [2, 69.0, 1.0]])</span>, <span style=\"color:#6666E0\">4A:442Hz:0.5♩</span>])</code><br>\n",
       "        <img style=\"display:inline; padding:10px;\n",
       "margin-top:14px;\n",
       "width:210px\"\n",
       "             src=\"data:image/png;base64,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\"/>"
      ],
      "text/plain": [
       "Chain([4C:262Hz:0.5♩, ‹4E 4G 1♩›, Line(start=None, bps=[[0, 70.0, 1.0], [2, 69.0, 1.0]]), 4A:442Hz:0.5♩])"
      ]
     },
     "execution_count": 15,
     "metadata": {},
     "output_type": "execute_result"
    }
   ],
   "source": [
    "ch = Chain([\n",
    "    Note(60, 0.5),\n",
    "    Chord(\"4E 4G\", 1),\n",
    "    Line([0, \"4Bb\"], [2, \"4A\"], dynamic='mf'),\n",
    "    Note(\"4A\", 0.5)\n",
    "])\n",
    "ch"
   ]
  },
  {
   "cell_type": "code",
   "execution_count": 18,
   "id": "18e2dcee-a7da-4fa8-a376-e08f3e8711fe",
   "metadata": {},
   "outputs": [
    {
     "data": {
      "application/vnd.jupyter.widget-view+json": {
       "model_id": "f6e31447f9de49dbbce6b0d8f5c98df2",
       "version_major": 2,
       "version_minor": 0
      },
      "text/plain": [
       "Button(description='Stop', style=ButtonStyle())"
      ]
     },
     "metadata": {},
     "output_type": "display_data"
    },
    {
     "data": {
      "application/vnd.jupyter.widget-view+json": {
       "model_id": "f5bfb7a7c06a4641bf8ccb5c5d177cf8",
       "version_major": 2,
       "version_minor": 0
      },
      "text/plain": [
       "Output()"
      ]
     },
     "metadata": {},
     "output_type": "display_data"
    },
    {
     "data": {
      "text/html": [
       "<small>SynthGroup - start: 0.177, dur: 4.000, synths: 5</small>\n",
       "<p>instr: <strong style=\"color:MediumSeaGreen\">preset._piano</strong> - <b>5</b> synths</p>\n",
       "<table><thead><tr><th style=\"text-align:left\">p1</th><th style=\"text-align:left\">start</th><th style=\"text-align:left\">dur</th><th style=\"text-align:left\">4</th><th style=\"text-align:left\">5:idataidx_</th><th style=\"text-align:left\">6:inumbps</th><th style=\"text-align:left\">7:ibplen</th><th style=\"text-align:left\">8:igain_</th><th style=\"text-align:left\">9:ichan_</th><th style=\"text-align:left\">10:ipos</th><th style=\"text-align:left\">11:ifade0</th><th style=\"text-align:left\">12:ifade1</th><th style=\"text-align:left\">13:ipchintrp_</th><th style=\"text-align:left\">14:ifadekind_</th><th style=\"text-align:left\">15</th><th style=\"text-align:left\">16</th><th style=\"text-align:left\">...</th><th style=\"text-align:left\">17</th><th style=\"text-align:left\">...</th><th style=\"text-align:left\">18</th><th style=\"text-align:left\">...</th><th style=\"text-align:left\">19</th><th style=\"text-align:left\">...</th><th style=\"text-align:left\">20</th></tr></thead><tbody><tr><td style=\"text-align:left\">1001.0013 <b>𝍪</b></td><td style=\"text-align:left\">0.177</td><td style=\"text-align:left\">0.500</td><td style=\"text-align:left\">0</td><td style=\"text-align:left\">15</td><td style=\"text-align:left\">2</td><td style=\"text-align:left\">3</td><td style=\"text-align:left\">1</td><td style=\"text-align:left\">1</td><td style=\"text-align:left\">-1</td><td style=\"text-align:left\">0.02</td><td style=\"text-align:left\">0.02</td><td style=\"text-align:left\">0</td><td style=\"text-align:left\">1</td><td style=\"text-align:left\">0</td><td style=\"text-align:left\">...</td></tr><tr><td style=\"text-align:left\">1001.0014 <b>𝍪</b></td><td style=\"text-align:left\">0.677</td><td style=\"text-align:left\">1.000</td><td style=\"text-align:left\">0</td><td style=\"text-align:left\">15</td><td style=\"text-align:left\">2</td><td style=\"text-align:left\">3</td><td style=\"text-align:left\">0.70711</td><td style=\"text-align:left\">1</td><td style=\"text-align:left\">-1</td><td style=\"text-align:left\">0.02</td><td style=\"text-align:left\">0.02</td><td style=\"text-align:left\">0</td><td style=\"text-align:left\">1</td><td style=\"text-align:left\">0</td><td style=\"text-align:left\">...</td></tr><tr><td style=\"text-align:left\">1001.0015 <b>𝍪</b></td><td style=\"text-align:left\">0.677</td><td style=\"text-align:left\">1.000</td><td style=\"text-align:left\">0</td><td style=\"text-align:left\">15</td><td style=\"text-align:left\">2</td><td style=\"text-align:left\">3</td><td style=\"text-align:left\">0.70711</td><td style=\"text-align:left\">1</td><td style=\"text-align:left\">-1</td><td style=\"text-align:left\">0.02</td><td style=\"text-align:left\">0.02</td><td style=\"text-align:left\">0</td><td style=\"text-align:left\">1</td><td style=\"text-align:left\">0</td><td style=\"text-align:left\">...</td></tr><tr><td style=\"text-align:left\">1001.0016 <b>𝍪</b></td><td style=\"text-align:left\">1.677</td><td style=\"text-align:left\">2.000</td><td style=\"text-align:left\">0</td><td style=\"text-align:left\">15</td><td style=\"text-align:left\">2</td><td style=\"text-align:left\">3</td><td style=\"text-align:left\">1</td><td style=\"text-align:left\">1</td><td style=\"text-align:left\">-1</td><td style=\"text-align:left\">0.02</td><td style=\"text-align:left\">0.02</td><td style=\"text-align:left\">0</td><td style=\"text-align:left\">1</td><td style=\"text-align:left\">0</td><td style=\"text-align:left\">...</td></tr><tr><td style=\"text-align:left\">...</td></tr></tbody></table>"
      ],
      "text/plain": [
       "SynthGroup(n=5)\n",
       "    Synth(𝍪 preset._piano:1001.0013, p4=0 idataidx_:5=15 inumbps:6=2 ibplen:7=3 igain_:8=1 ichan_:9=1 ipos:10=-1 ifade0:11=0.02 ifade1:12=0.02 ipchintrp_:13=0 ifadekind_:14=1 p15=0 p16=60 ...)\n",
       "    Synth(𝍪 preset._piano:1001.0014, p4=0 idataidx_:5=15 inumbps:6=2 ibplen:7=3 igain_:8=0.707107 ichan_:9=1 ipos:10=-1 ifade0:11=0.02 ifade1:12=0.02 ipchintrp_:13=0 ifadekind_:14=1 p15=0 p16=64 ...)\n",
       "    Synth(𝍪 preset._piano:1001.0015, p4=0 idataidx_:5=15 inumbps:6=2 ibplen:7=3 igain_:8=0.707107 ichan_:9=1 ipos:10=-1 ifade0:11=0.02 ifade1:12=0.02 ipchintrp_:13=0 ifadekind_:14=1 p15=0 p16=67 ...)\n",
       "    Synth(𝍪 preset._piano:1001.0016, p4=0 idataidx_:5=15 inumbps:6=2 ibplen:7=3 igain_:8=1 ichan_:9=1 ipos:10=-1 ifade0:11=0.02 ifade1:12=0.02 ipchintrp_:13=0 ifadekind_:14=1 p15=0 p16=70 ...)\n",
       "    Synth(𝍪 preset._piano:1001.0017, p4=0 idataidx_:5=15 inumbps:6=2 ibplen:7=3 igain_:8=1 ichan_:9=1 ipos:10=-1 ifade0:11=0.02 ifade1:12=0.02 ipchintrp_:13=0 ifadekind_:14=1 p15=0 p16=69 ...)"
      ]
     },
     "execution_count": 18,
     "metadata": {},
     "output_type": "execute_result"
    }
   ],
   "source": [
    "ch.play()"
   ]
  },
  {
   "cell_type": "code",
   "execution_count": 29,
   "id": "5bf7e8ee-a8a6-4b89-bbd5-cbaf7d21221f",
   "metadata": {},
   "outputs": [
    {
     "data": {
      "text/html": [
       "<code style=\"font-size:0.9em\">Chain([<span style=\"color:#6666E0\">4C:262Hz:-20dB:0.5♩:gliss=True</span>, <span style=\"color:#6666E0\">4D:294Hz:1♩:gliss=True</span>, <span style=\"color:#6666E0\">‹4E 4G 0.1♩›</span>])</code><br>\n",
       "        <img style=\"display:inline; padding:10px;\n",
       "margin-top:14px;\n",
       "width:223px\"\n",
       "             src=\"data:image/png;base64,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\"/>"
      ],
      "text/plain": [
       "Chain([4C:262Hz:-20dB:0.5♩:gliss=True, 4D:294Hz:1♩:gliss=True, ‹4E 4G 0.1♩›])"
      ]
     },
     "execution_count": 29,
     "metadata": {},
     "output_type": "execute_result"
    }
   ],
   "source": [
    "ch2 = Chain([\n",
    "    Note(60, 0.5, amp=0.1, gliss=True),\n",
    "    Note(62, 1, amp=1, gliss=True),\n",
    "    Chord(\"4E 4G\", 0.1, amp=0.2)\n",
    "])\n",
    "ch2"
   ]
  },
  {
   "cell_type": "code",
   "execution_count": 32,
   "id": "287c5ced-9651-45be-acff-52d06a72d6c4",
   "metadata": {},
   "outputs": [
    {
     "data": {
      "text/plain": [
       "[SynthEvent(delay=0, dur=1.5, gain=1, chan=1, fade=(0.02, 0.02), instr=_piano)\n",
       " bps 0.000s: 60 0.1     \n",
       "     0.500s: 62 1\n",
       "     1.500s: True 1,\n",
       " SynthEvent(delay=1.5, dur=0.1, gain=0.7071, chan=1, fade=(0.02, 0.02), instr=_piano)\n",
       " bps 0.000s: 64       0.2     \n",
       "     0.100s: 64       0.2     ,\n",
       " SynthEvent(delay=1.5, dur=0.1, gain=0.7071, chan=1, fade=(0.02, 0.02), instr=_piano)\n",
       " bps 0.000s: 67       0.2     \n",
       "     0.100s: 67       0.2     ]"
      ]
     },
     "execution_count": 32,
     "metadata": {},
     "output_type": "execute_result"
    }
   ],
   "source": [
    "ch2.events()"
   ]
  },
  {
   "cell_type": "code",
   "execution_count": 33,
   "id": "4042b6d5-b9c8-47d5-8a4a-05d9c3f7ba39",
   "metadata": {},
   "outputs": [
    {
     "data": {
      "text/plain": [
       "[SynthEvent(delay=0, dur=1, gain=1, chan=1, fade=(0.02, 0.02), instr=_piano)\n",
       " bps 0.000s: 60 0.515178\n",
       "     1.000s: 60 0.515178]"
      ]
     },
     "execution_count": 33,
     "metadata": {},
     "output_type": "execute_result"
    }
   ],
   "source": [
    "Note(60, gliss=True).events()"
   ]
  },
  {
   "cell_type": "code",
   "execution_count": null,
   "id": "e50dafaf-8f9b-4d37-970d-99969cb58cdb",
   "metadata": {},
   "outputs": [],
   "source": []
  }
 ],
 "metadata": {
  "kernelspec": {
   "display_name": "Python 3 (ipykernel)",
   "language": "python",
   "name": "python3"
  },
  "language_info": {
   "codemirror_mode": {
    "name": "ipython",
    "version": 3
   },
   "file_extension": ".py",
   "mimetype": "text/x-python",
   "name": "python",
   "nbconvert_exporter": "python",
   "pygments_lexer": "ipython3",
   "version": "3.9.7"
  }
 },
 "nbformat": 4,
 "nbformat_minor": 5
}
