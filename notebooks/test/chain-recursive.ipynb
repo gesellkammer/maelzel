{
 "cells": [
  {
   "cell_type": "code",
   "execution_count": 1,
   "id": "4d140b62-3e91-4655-87fe-14cb975236a8",
   "metadata": {},
   "outputs": [
    {
     "name": "stdout",
     "output_type": "stream",
     "text": [
      "csoundengine.magic extension loaded\n",
      "Magics available: %csound, %%csound, %%definstr\n"
     ]
    }
   ],
   "source": [
    "from maelzel.core import *\n",
    "from maelzel.core import _musicobjtools"
   ]
  },
  {
   "cell_type": "code",
   "execution_count": 4,
   "id": "ffb81742-38ea-415a-883e-86b0fb9be6da",
   "metadata": {},
   "outputs": [
    {
     "data": {
      "text/html": [
       "<code style=\"font-size:0.9em\">Chain([<span style=\"color:#6666E0\">4F:350Hz:1♩~</span>, <span style=\"color:#6666E0\">‹4E 4F 0.333♩›</span>, <span style=\"color:#6666E0\">Chain([4C:262Hz:0.5♩~, Chain([4C+:270Hz:0.25♩, 4D:294Hz:0.25♩]), ‹4C 4G 2♩›], start=2.0)</span>], start=0.5)</code><br>\n",
       "        <img style=\"display:inline; padding:10px;\n",
       "margin-top:14px;\n",
       "width:463px\"\n",
       "             src=\"data:image/png;base64,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\"/>"
      ],
      "text/plain": [
       "Chain([4F:350Hz:1♩~, ‹4E 4F 0.333♩›, Chain([4C:262Hz:0.5♩~, Chain([4C+:270Hz:0.25♩, 4D:294Hz:0.25♩]), ‹4C 4G 2♩›], start=2.0)], start=0.5)"
      ]
     },
     "execution_count": 4,
     "metadata": {},
     "output_type": "execute_result"
    }
   ],
   "source": [
    "ch2 = Chain([\n",
    "    Note(\"4F\", 1, tied=True),\n",
    "    Chord(\"4E 4F\", 1/3),\n",
    "    Chain([Note(\"4C\", 0.5, tied=True),\n",
    "           Chain([\n",
    "               Note(\"4C+\", 0.25),\n",
    "               Note(\"4D\", 0.25)\n",
    "           ]),\n",
    "           Chord(\"4C 4G\", 2)], start=2)\n",
    "],start=0.5)\n",
    "ch2"
   ]
  },
  {
   "cell_type": "code",
   "execution_count": 5,
   "id": "4f43233e-6bd7-4de1-9b55-e9716a77d310",
   "metadata": {},
   "outputs": [
    {
     "data": {
      "application/vnd.jupyter.widget-view+json": {
       "model_id": "78ef89e0c52e4e60911233d4e5cb4d9d",
       "version_major": 2,
       "version_minor": 0
      },
      "text/plain": [
       "Button(description='Stop', style=ButtonStyle())"
      ]
     },
     "metadata": {},
     "output_type": "display_data"
    },
    {
     "data": {
      "application/vnd.jupyter.widget-view+json": {
       "model_id": "ace41246701440569033f8a7ab45a62b",
       "version_major": 2,
       "version_minor": 0
      },
      "text/plain": [
       "Output()"
      ]
     },
     "metadata": {},
     "output_type": "display_data"
    },
    {
     "data": {
      "text/html": [
       "<small>SynthGroup - start: 0.677, dur: 5.000, synths: 7</small>\n",
       "<p>instr: <strong style=\"color:MediumSeaGreen\">preset._piano</strong> - <b>7</b> synths</p>\n",
       "<table><thead><tr><th style=\"text-align:left\">p1</th><th style=\"text-align:left\">start</th><th style=\"text-align:left\">dur</th><th style=\"text-align:left\">4</th><th style=\"text-align:left\">5:idataidx_</th><th style=\"text-align:left\">6:inumbps</th><th style=\"text-align:left\">7:ibplen</th><th style=\"text-align:left\">8:igain_</th><th style=\"text-align:left\">9:ichan_</th><th style=\"text-align:left\">10:ipos</th><th style=\"text-align:left\">11:ifade0</th><th style=\"text-align:left\">12:ifade1</th><th style=\"text-align:left\">13:ipchintrp_</th><th style=\"text-align:left\">14:ifadekind_</th><th style=\"text-align:left\">15</th><th style=\"text-align:left\">16</th><th style=\"text-align:left\">...</th></tr></thead><tbody><tr><td style=\"text-align:left\">1001.0005 <b>𝍪</b></td><td style=\"text-align:left\">0.677</td><td style=\"text-align:left\">1.333</td><td style=\"text-align:left\">0</td><td style=\"text-align:left\">15</td><td style=\"text-align:left\">3</td><td style=\"text-align:left\">3</td><td style=\"text-align:left\">1</td><td style=\"text-align:left\">1</td><td style=\"text-align:left\">-1</td><td style=\"text-align:left\">0.02</td><td style=\"text-align:left\">0.02</td><td style=\"text-align:left\">0</td><td style=\"text-align:left\">1</td><td style=\"text-align:left\">0</td><td style=\"text-align:left\">...</td></tr><tr><td style=\"text-align:left\">1001.0006 <b>𝍪</b></td><td style=\"text-align:left\">1.677</td><td style=\"text-align:left\">0.333</td><td style=\"text-align:left\">0</td><td style=\"text-align:left\">15</td><td style=\"text-align:left\">2</td><td style=\"text-align:left\">3</td><td style=\"text-align:left\">1</td><td style=\"text-align:left\">1</td><td style=\"text-align:left\">-1</td><td style=\"text-align:left\">0.02</td><td style=\"text-align:left\">0.02</td><td style=\"text-align:left\">0</td><td style=\"text-align:left\">1</td><td style=\"text-align:left\">0</td><td style=\"text-align:left\">...</td></tr><tr><td style=\"text-align:left\">1001.0007 <b>𝍪</b></td><td style=\"text-align:left\">2.677</td><td style=\"text-align:left\">0.500</td><td style=\"text-align:left\">0</td><td style=\"text-align:left\">15</td><td style=\"text-align:left\">2</td><td style=\"text-align:left\">3</td><td style=\"text-align:left\">1</td><td style=\"text-align:left\">1</td><td style=\"text-align:left\">-1</td><td style=\"text-align:left\">0.02</td><td style=\"text-align:left\">0.02</td><td style=\"text-align:left\">0</td><td style=\"text-align:left\">1</td><td style=\"text-align:left\">0</td><td style=\"text-align:left\">...</td></tr><tr><td style=\"text-align:left\">1001.0008 <b>𝍪</b></td><td style=\"text-align:left\">3.177</td><td style=\"text-align:left\">0.250</td><td style=\"text-align:left\">0</td><td style=\"text-align:left\">15</td><td style=\"text-align:left\">2</td><td style=\"text-align:left\">3</td><td style=\"text-align:left\">1</td><td style=\"text-align:left\">1</td><td style=\"text-align:left\">-1</td><td style=\"text-align:left\">0.02</td><td style=\"text-align:left\">0.02</td><td style=\"text-align:left\">0</td><td style=\"text-align:left\">1</td><td style=\"text-align:left\">0</td><td style=\"text-align:left\">...</td></tr><tr><td style=\"text-align:left\">...</td></tr></tbody></table>"
      ],
      "text/plain": [
       "SynthGroup(n=7)\n",
       "    Synth(𝍪 preset._piano:1001.0005, p4=0 idataidx_:5=15 inumbps:6=3 ibplen:7=3 igain_:8=1 ichan_:9=1 ipos:10=-1 ifade0:11=0.02 ifade1:12=0.02 ipchintrp_:13=0 ifadekind_:14=1 p15=0 p16=65 ...)\n",
       "    Synth(𝍪 preset._piano:1001.0006, p4=0 idataidx_:5=15 inumbps:6=2 ibplen:7=3 igain_:8=1 ichan_:9=1 ipos:10=-1 ifade0:11=0.02 ifade1:12=0.02 ipchintrp_:13=0 ifadekind_:14=1 p15=0 p16=64 ...)\n",
       "    Synth(𝍪 preset._piano:1001.0007, p4=0 idataidx_:5=15 inumbps:6=2 ibplen:7=3 igain_:8=1 ichan_:9=1 ipos:10=-1 ifade0:11=0.02 ifade1:12=0.02 ipchintrp_:13=0 ifadekind_:14=1 p15=0 p16=60 ...)\n",
       "    Synth(𝍪 preset._piano:1001.0008, p4=0 idataidx_:5=15 inumbps:6=2 ibplen:7=3 igain_:8=1 ichan_:9=1 ipos:10=-1 ifade0:11=0.02 ifade1:12=0.02 ipchintrp_:13=0 ifadekind_:14=1 p15=0 p16=60.5 ...)\n",
       "    Synth(𝍪 preset._piano:1001.0009, p4=0 idataidx_:5=15 inumbps:6=2 ibplen:7=3 igain_:8=1 ichan_:9=1 ipos:10=-1 ifade0:11=0.02 ifade1:12=0.02 ipchintrp_:13=0 ifadekind_:14=1 p15=0 p16=62 ...)\n",
       "    Synth(𝍪 preset._piano:1001.001, p4=0 idataidx_:5=15 inumbps:6=2 ibplen:7=3 igain_:8=0.707107 ichan_:9=1 ipos:10=-1 ifade0:11=0.02 ifade1:12=0.02 ipchintrp_:13=0 ifadekind_:14=1 p15=0 p16=60 ...)\n",
       "    Synth(𝍪 preset._piano:1001.0011, p4=0 idataidx_:5=15 inumbps:6=2 ibplen:7=3 igain_:8=0.707107 ichan_:9=1 ipos:10=-1 ifade0:11=0.02 ifade1:12=0.02 ipchintrp_:13=0 ifadekind_:14=1 p15=0 p16=67 ...)"
      ]
     },
     "execution_count": 5,
     "metadata": {},
     "output_type": "execute_result"
    }
   ],
   "source": [
    "ch2.play()"
   ]
  },
  {
   "cell_type": "code",
   "execution_count": 2,
   "id": "1a7f28a2-cf7f-44fc-a6d0-84208f9a5bb9",
   "metadata": {},
   "outputs": [
    {
     "data": {
      "text/html": [
       "<code style=\"font-size:0.9em\">Chain([<span style=\"color:#6666E0\">‹4D 4F 4A 2♩ gliss›</span>, <span style=\"color:#6666E0\">‹4F# 4G 4G# 1♩›</span>])</code><br>\n",
       "        <img style=\"display:inline; padding:10px;\n",
       "margin-top:14px;\n",
       "width:215px\"\n",
       "             src=\"data:image/png;base64,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\"/>"
      ],
      "text/plain": [
       "Chain([‹4D 4F 4A 2♩ gliss›, ‹4F# 4G 4G# 1♩›])"
      ]
     },
     "execution_count": 2,
     "metadata": {},
     "output_type": "execute_result"
    }
   ],
   "source": [
    "ch = Chain([\n",
    "    \"4D,4F,4A:2:gliss\",\n",
    "    \"4F#,4G,4Ab:1\"\n",
    "])\n",
    "ch"
   ]
  },
  {
   "cell_type": "code",
   "execution_count": 3,
   "id": "5c556fe7-6307-4c49-9b7e-495386ed73f7",
   "metadata": {},
   "outputs": [
    {
     "name": "stderr",
     "output_type": "stream",
     "text": [
      "\n",
      "\n",
      "--Csound version 6.18 (double samples) Jul 30 2022\n",
      "[commit: 699aa77b3ac9e5000cac4024447651a43b95e09d]\n",
      "\u001b[mlibsndfile-1.0.31\n",
      "\u001b[msr = 44100.0,\u001b[m kr = 689.062,\u001b[m ksmps = 64\n",
      "\u001b[m0dBFS level = 1.0,\u001b[m A4 tuning = 442.0\n",
      "\u001b[maudio buffered in 256 sample-frame blocks\n",
      "\u001b[mreading 1024-byte blks of shorts from adc:system:capture (RAW)\n",
      "Cannot use real-time scheduling (RR/5) (1: Operation not permitted)\n",
      "JackClient::AcquireSelfRealTime error\n",
      "writing 512 sample blks of 64-bit floats to dac:system:playback\n",
      "SECTION 1:\n",
      "\u001b[m"
     ]
    },
    {
     "data": {
      "application/vnd.jupyter.widget-view+json": {
       "model_id": "c4e83ca8a73a49c99304cfe885618a27",
       "version_major": 2,
       "version_minor": 0
      },
      "text/plain": [
       "Button(description='Stop', style=ButtonStyle())"
      ]
     },
     "metadata": {},
     "output_type": "display_data"
    },
    {
     "data": {
      "application/vnd.jupyter.widget-view+json": {
       "model_id": "be1702c04bee4688af047939386b31b8",
       "version_major": 2,
       "version_minor": 0
      },
      "text/plain": [
       "Output()"
      ]
     },
     "metadata": {},
     "output_type": "display_data"
    },
    {
     "data": {
      "text/html": [
       "<small>SynthGroup - start: 0.183, dur: 3.000, synths: 3</small>\n",
       "<p>instr: <strong style=\"color:MediumSeaGreen\">preset._piano</strong> - <b>3</b> synths</p>\n",
       "<table><thead><tr><th style=\"text-align:left\">p1</th><th style=\"text-align:left\">start</th><th style=\"text-align:left\">dur</th><th style=\"text-align:left\">4</th><th style=\"text-align:left\">5:idataidx_</th><th style=\"text-align:left\">6:inumbps</th><th style=\"text-align:left\">7:ibplen</th><th style=\"text-align:left\">8:igain_</th><th style=\"text-align:left\">9:ichan_</th><th style=\"text-align:left\">10:ipos</th><th style=\"text-align:left\">11:ifade0</th><th style=\"text-align:left\">12:ifade1</th><th style=\"text-align:left\">13:ipchintrp_</th><th style=\"text-align:left\">14:ifadekind_</th><th style=\"text-align:left\">15</th><th style=\"text-align:left\">16</th><th style=\"text-align:left\">...</th></tr></thead><tbody><tr><td style=\"text-align:left\">1001.0002 <b>𝍪</b></td><td style=\"text-align:left\">0.183</td><td style=\"text-align:left\">3.000</td><td style=\"text-align:left\">0</td><td style=\"text-align:left\">15</td><td style=\"text-align:left\">3</td><td style=\"text-align:left\">3</td><td style=\"text-align:left\">1</td><td style=\"text-align:left\">1</td><td style=\"text-align:left\">-1</td><td style=\"text-align:left\">0.02</td><td style=\"text-align:left\">0.02</td><td style=\"text-align:left\">0</td><td style=\"text-align:left\">1</td><td style=\"text-align:left\">0</td><td style=\"text-align:left\">...</td></tr><tr><td style=\"text-align:left\">1001.0003 <b>𝍪</b></td><td style=\"text-align:left\">0.183</td><td style=\"text-align:left\">3.000</td><td style=\"text-align:left\">0</td><td style=\"text-align:left\">15</td><td style=\"text-align:left\">3</td><td style=\"text-align:left\">3</td><td style=\"text-align:left\">1</td><td style=\"text-align:left\">1</td><td style=\"text-align:left\">-1</td><td style=\"text-align:left\">0.02</td><td style=\"text-align:left\">0.02</td><td style=\"text-align:left\">0</td><td style=\"text-align:left\">1</td><td style=\"text-align:left\">0</td><td style=\"text-align:left\">...</td></tr><tr><td style=\"text-align:left\">1001.0004 <b>𝍪</b></td><td style=\"text-align:left\">0.183</td><td style=\"text-align:left\">3.000</td><td style=\"text-align:left\">0</td><td style=\"text-align:left\">15</td><td style=\"text-align:left\">3</td><td style=\"text-align:left\">3</td><td style=\"text-align:left\">1</td><td style=\"text-align:left\">1</td><td style=\"text-align:left\">-1</td><td style=\"text-align:left\">0.02</td><td style=\"text-align:left\">0.02</td><td style=\"text-align:left\">0</td><td style=\"text-align:left\">1</td><td style=\"text-align:left\">0</td><td style=\"text-align:left\">...</td></tr></tbody></table>"
      ],
      "text/plain": [
       "SynthGroup(n=3)\n",
       "    Synth(𝍪 preset._piano:1001.0002, p4=0 idataidx_:5=15 inumbps:6=3 ibplen:7=3 igain_:8=1 ichan_:9=1 ipos:10=-1 ifade0:11=0.02 ifade1:12=0.02 ipchintrp_:13=0 ifadekind_:14=1 p15=0 p16=62 ...)\n",
       "    Synth(𝍪 preset._piano:1001.0003, p4=0 idataidx_:5=15 inumbps:6=3 ibplen:7=3 igain_:8=1 ichan_:9=1 ipos:10=-1 ifade0:11=0.02 ifade1:12=0.02 ipchintrp_:13=0 ifadekind_:14=1 p15=0 p16=65 ...)\n",
       "    Synth(𝍪 preset._piano:1001.0004, p4=0 idataidx_:5=15 inumbps:6=3 ibplen:7=3 igain_:8=1 ichan_:9=1 ipos:10=-1 ifade0:11=0.02 ifade1:12=0.02 ipchintrp_:13=0 ifadekind_:14=1 p15=0 p16=69 ...)"
      ]
     },
     "execution_count": 3,
     "metadata": {},
     "output_type": "execute_result"
    }
   ],
   "source": [
    "ch.play()"
   ]
  },
  {
   "cell_type": "code",
   "execution_count": 7,
   "id": "9969f3dc-fc7e-4935-9aff-a46b8ccd0930",
   "metadata": {},
   "outputs": [
    {
     "data": {
      "text/html": [
       "<code style=\"font-size:0.9em\">Chain([<span style=\"color:#6666E0\">4F:350Hz:1♩</span>, <span style=\"color:#6666E0\">4C:262Hz:0.5♩~</span>, <span style=\"color:#6666E0\">‹4C 4G 2♩›</span>], start=1.0)</code><br>\n",
       "        <img style=\"display:inline; padding:10px;\n",
       "margin-top:14px;\n",
       "width:337px\"\n",
       "             src=\"data:image/png;base64,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\"/>"
      ],
      "text/plain": [
       "Chain([4F:350Hz:1♩, 4C:262Hz:0.5♩~, ‹4C 4G 2♩›], start=1.0)"
      ]
     },
     "execution_count": 7,
     "metadata": {},
     "output_type": "execute_result"
    }
   ],
   "source": [
    "f"
   ]
  },
  {
   "cell_type": "code",
   "execution_count": 8,
   "id": "a919b873-5419-43e8-b98c-f5f7054522c1",
   "metadata": {},
   "outputs": [
    {
     "data": {
      "text/html": [
       "<code></code><strong>Chain</strong> &nbsp;start: <code><span style=\"color:#9090FF\">1.0</span></code><br><code>  <span style=\"color:#BBBBBB\">start dur   name      gliss dyn  playargs</span></code><br><code>  <span style=\"color:#9090FF\">0     0.5   4C~       False f    None</code></span></code><br><code>  <span style=\"color:#9090FF\">0.5   1     4C,4G     False      None</code></span></code>"
      ],
      "text/plain": [
       "<IPython.core.display.HTML object>"
      ]
     },
     "metadata": {},
     "output_type": "display_data"
    }
   ],
   "source": [
    "ch2[1].resolved().dump()"
   ]
  },
  {
   "cell_type": "code",
   "execution_count": 21,
   "id": "3ec594f5-6c75-4b23-84fb-4133933bf0cf",
   "metadata": {},
   "outputs": [],
   "source": [
    "ch3b = ch3[1]"
   ]
  },
  {
   "cell_type": "code",
   "execution_count": 24,
   "id": "5efac4e1-23a1-4120-9805-840c17a99a5b",
   "metadata": {},
   "outputs": [
    {
     "data": {
      "text/html": [
       "<p><strong>Chain</strong>(<small>start=1.0</small>)</p><table><thead><tr><th style=\"text-align:left\">time</th><th style=\"text-align:left\">pitch</th><th style=\"text-align:left\">dur</th><th style=\"text-align:left\">gliss</th><th style=\"text-align:left\">dynamic</th><th style=\"text-align:left\">playargs</th></tr></thead><tbody><tr><td style=\"text-align:left\">1.0</td><td style=\"text-align:left\">4C</td><td style=\"text-align:left\">0.5</td><td style=\"text-align:left\">False</td><td style=\"text-align:left\">None</td><td style=\"text-align:left\">None</td></tr><tr><td style=\"text-align:left\">1.5</td><td style=\"text-align:left\">4E, 4G</td><td style=\"text-align:left\">1.0</td><td style=\"text-align:left\">False</td><td style=\"text-align:left\"></td><td style=\"text-align:left\">None</td></tr></tbody></table>"
      ],
      "text/plain": [
       "<IPython.core.display.HTML object>"
      ]
     },
     "metadata": {},
     "output_type": "display_data"
    }
   ],
   "source": [
    "ch3b.resolved().dump()"
   ]
  },
  {
   "cell_type": "code",
   "execution_count": null,
   "id": "3acbd142-81eb-4d98-9027-d0e479351506",
   "metadata": {},
   "outputs": [],
   "source": []
  }
 ],
 "metadata": {
  "kernelspec": {
   "display_name": "Python 3 (ipykernel)",
   "language": "python",
   "name": "python3"
  },
  "language_info": {
   "codemirror_mode": {
    "name": "ipython",
    "version": 3
   },
   "file_extension": ".py",
   "mimetype": "text/x-python",
   "name": "python",
   "nbconvert_exporter": "python",
   "pygments_lexer": "ipython3",
   "version": "3.9.13"
  }
 },
 "nbformat": 4,
 "nbformat_minor": 5
}
