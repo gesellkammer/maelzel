{
 "cells": [
  {
   "cell_type": "code",
   "execution_count": 1,
   "id": "acdaced9-a06d-456f-afe8-5bb09aea3cc8",
   "metadata": {},
   "outputs": [
    {
     "name": "stdout",
     "output_type": "stream",
     "text": [
      "csoundengine.magic extension loaded\n",
      "Magics available: %csound, %%csound, %%definstr\n"
     ]
    }
   ],
   "source": [
    "from maelzel.core import *\n",
    "c = newConfig()\n"
   ]
  },
  {
   "cell_type": "code",
   "execution_count": 3,
   "id": "cd9fe91c-9f90-44f9-8fa7-a5a31815d26c",
   "metadata": {},
   "outputs": [],
   "source": [
    "test = presetManager.defPreset(\"test\", temporary=True, audiogen=r'''\n",
    "|kgain=0.5|\n",
    "; aout1 oscili kgain, kfreq\n",
    "aout1 vco2 kgain, kfreq\n",
    "''')"
   ]
  },
  {
   "cell_type": "code",
   "execution_count": 4,
   "id": "9b40cebe-c352-487d-8478-1ff6896752ba",
   "metadata": {},
   "outputs": [
    {
     "data": {
      "text/html": [
       "Preset: <b>test</b> <br>\n",
       "<div class=\"highlight\" style=\"background: #f8f8f8\"><pre style=\"line-height: 125%;\"><span></span><code>    <span style=\"color: #666666\">|</span><span style=\"color: #B00040\">k</span>gain<span style=\"color: #666666\">=0.5|</span>\n",
       "</code></pre></div>\n",
       "\n",
       "<div class=\"highlight\" style=\"background: #f8f8f8\"><pre style=\"line-height: 125%;\"><span></span><code>    <span style=\"color: #408080; font-style: italic\">; aout1 oscili kgain, kfreq</span>\n",
       "    <span style=\"color: #B00040\">a</span>out1 <span style=\"color: #008000\">vco2</span> <span style=\"color: #B00040\">k</span>gain, <span style=\"color: #B00040\">k</span>freq\n",
       "</code></pre></div>\n"
      ],
      "text/plain": [
       "Preset: test  \n",
       "  {kgain=0.5}\n",
       "  audiogen:\n",
       "    ; aout1 oscili kgain, kfreq\n",
       "    aout1 vco2 kgain, kfreq"
      ]
     },
     "execution_count": 4,
     "metadata": {},
     "output_type": "execute_result"
    }
   ],
   "source": [
    "test"
   ]
  },
  {
   "cell_type": "code",
   "execution_count": 6,
   "id": "92d1896f-3b73-41ed-a344-797b04d1f0a0",
   "metadata": {},
   "outputs": [
    {
     "data": {
      "text/plain": [
       "[CsoundEvent(delay=0, dur=1, gain=1, chan=1, fade=(0.02, 0.02), instr=test, namedArgs={'kgain': 0.1})\n",
       " bps 0.000s: 60 1       \n",
       "     1.000s: 60 1       ]"
      ]
     },
     "execution_count": 6,
     "metadata": {},
     "output_type": "execute_result"
    }
   ],
   "source": [
    "ev = Note(60).events(instr='test', params=dict(kgain=0.1))\n",
    "ev"
   ]
  },
  {
   "cell_type": "code",
   "execution_count": 7,
   "id": "61791cce-a6c9-4638-850c-4039b38c15f4",
   "metadata": {},
   "outputs": [
    {
     "name": "stderr",
     "output_type": "stream",
     "text": [
      "\n",
      "\n",
      "--Csound version 6.18 (double samples) Mar  4 2022\n",
      "[commit: da7bc6fed291c7a0608bfab9ea7d2d1a11067761]\n",
      "\u001b[mlibsndfile-1.0.31\n",
      "\u001b[msr = 44100.0,\u001b[m kr = 689.062,\u001b[m ksmps = 64\n",
      "\u001b[m0dBFS level = 1.0,\u001b[m A4 tuning = 442.0\n",
      "\u001b[maudio buffered in 256 sample-frame blocks\n",
      "\u001b[mreading 1024-byte blks of shorts from adc:system:capture (RAW)\n",
      "writing 512 sample blks of 64-bit floats to dac:system:playback\n",
      "SECTION 1:\n",
      "\u001b[m"
     ]
    }
   ],
   "source": [
    "s = Note(60, dur=100).play(instr='test', params={'kgain': 0.31415})"
   ]
  },
  {
   "cell_type": "code",
   "execution_count": 8,
   "id": "ae706070-de82-4d52-8d15-158bc8346748",
   "metadata": {},
   "outputs": [],
   "source": [
    "s[0].set(kgain=0.1)"
   ]
  },
  {
   "cell_type": "code",
   "execution_count": 9,
   "id": "abd0c6bd-bfac-4ad0-b57d-8129729f89f6",
   "metadata": {},
   "outputs": [],
   "source": [
    "s.stop()"
   ]
  },
  {
   "cell_type": "code",
   "execution_count": 10,
   "id": "0ccb2fc9-eeeb-4b9d-afdc-207579907f6f",
   "metadata": {},
   "outputs": [
    {
     "data": {
      "text/html": [
       "Instr <strong style=\"color:MediumSeaGreen\">preset.test</strong><br>\n",
       "&nbsp&nbsp&nbsp&nbsp<b>idataidx_</b>:<small>p5</small>=<code>0.0</code>, <b>inumbps</b>:<small>p6</small>=<code>0.0</code>, <b>ibplen</b>:<small>p7</small>=<code>0.0</code>, <b>igain_</b>:<small>p8</small>=<code>0.0</code>, <b>ichan_</b>:<small>p9</small>=<code>0.0</code><br>\n",
       "&nbsp&nbsp&nbsp&nbsp<b>ipos</b>:<small>p10</small>=<code>0.0</code>, <b>ifade0</b>:<small>p11</small>=<code>0.0</code>, <b>ifade1</b>:<small>p12</small>=<code>0.0</code>, <b>ipchintrp_</b>:<small>p13</small>=<code>0.0</code>, <b>ifadekind_</b>:<small>p14</small>=<code>0.0</code><br>\n",
       "<div class=\"highlight\" style=\"background: #f8f8f8\"><pre style=\"line-height: 125%;\"><span></span><code><span style=\"color: #B00040\">i</span>dataidx_ <span style=\"color: #666666\">=</span> <span style=\"color: #19177C\">p5</span>\n",
       "<span style=\"color: #B00040\">i</span>numbps <span style=\"color: #666666\">=</span> <span style=\"color: #19177C\">p6</span>\n",
       "<span style=\"color: #B00040\">i</span>bplen <span style=\"color: #666666\">=</span> <span style=\"color: #19177C\">p7</span>\n",
       "<span style=\"color: #B00040\">i</span>gain_ <span style=\"color: #666666\">=</span> <span style=\"color: #19177C\">p8</span>\n",
       "<span style=\"color: #B00040\">i</span>chan_ <span style=\"color: #666666\">=</span> <span style=\"color: #19177C\">p9</span>\n",
       "<span style=\"color: #B00040\">i</span>pos <span style=\"color: #666666\">=</span> <span style=\"color: #19177C\">p10</span>\n",
       "<span style=\"color: #B00040\">i</span>fade0 <span style=\"color: #666666\">=</span> <span style=\"color: #19177C\">p11</span>\n",
       "<span style=\"color: #B00040\">i</span>fade1 <span style=\"color: #666666\">=</span> <span style=\"color: #19177C\">p12</span>\n",
       "<span style=\"color: #B00040\">i</span>pchintrp_ <span style=\"color: #666666\">=</span> <span style=\"color: #19177C\">p13</span>\n",
       "<span style=\"color: #B00040\">i</span>fadekind_ <span style=\"color: #666666\">=</span> <span style=\"color: #19177C\">p14</span>\n",
       "<span style=\"color: #B00040\">k</span>gain <span style=\"color: #666666\">=</span> <span style=\"color: #19177C\">p15</span>\n",
       "\n",
       "<span style=\"color: #408080; font-style: italic\">;5          6       7      8     9     0    1      2      3          4        </span>\n",
       "<span style=\"color: #B00040\">i</span>datalen_ <span style=\"color: #666666\">=</span> <span style=\"color: #B00040\">i</span>numbps <span style=\"color: #666666\">*</span> <span style=\"color: #B00040\">i</span>bplen\n",
       "<span style=\"color: #B00040\">i</span>Args[] <span style=\"color: #008000\">passign</span> <span style=\"color: #B00040\">i</span>dataidx_, <span style=\"color: #B00040\">i</span>dataidx_ <span style=\"color: #666666\">+</span> <span style=\"color: #B00040\">i</span>datalen_\n",
       "<span style=\"color: #B00040\">i</span>lastidx <span style=\"color: #666666\">=</span> <span style=\"color: #B00040\">i</span>datalen_ <span style=\"color: #666666\">-</span> <span style=\"color: #666666\">1</span>\n",
       "<span style=\"color: #B00040\">i</span>Times[]     <span style=\"color: #008000\">slicearray</span> <span style=\"color: #B00040\">i</span>Args, <span style=\"color: #666666\">0</span>, <span style=\"color: #B00040\">i</span>lastidx, <span style=\"color: #B00040\">i</span>bplen\n",
       "<span style=\"color: #B00040\">i</span>Pitches[]   <span style=\"color: #008000\">slicearray</span> <span style=\"color: #B00040\">i</span>Args, <span style=\"color: #666666\">1</span>, <span style=\"color: #B00040\">i</span>lastidx, <span style=\"color: #B00040\">i</span>bplen\n",
       "<span style=\"color: #B00040\">i</span>Amps[]      <span style=\"color: #008000\">slicearray</span> <span style=\"color: #B00040\">i</span>Args, <span style=\"color: #666666\">2</span>, <span style=\"color: #B00040\">i</span>lastidx, <span style=\"color: #B00040\">i</span>bplen\n",
       "\n",
       "<span style=\"color: #B00040\">k</span>_time <span style=\"color: #008000\">timeinsts</span>\n",
       "\n",
       "<span style=\"color: #008000; font-weight: bold\">if</span> <span style=\"color: #B00040\">i</span>pchintrp_ <span style=\"color: #666666\">==</span> <span style=\"color: #666666\">0</span> <span style=\"color: #008000; font-weight: bold\">then</span>      \n",
       "    <span style=\"color: #408080; font-style: italic\">; linear midi interpolation    </span>\n",
       "    <span style=\"color: #B00040\">k</span>pitch, <span style=\"color: #B00040\">k</span>amp <span style=\"color: #008000\">bpf</span> <span style=\"color: #B00040\">k</span>_time, <span style=\"color: #B00040\">i</span>Times, <span style=\"color: #B00040\">i</span>Pitches, <span style=\"color: #B00040\">i</span>Amps\n",
       "    <span style=\"color: #B00040\">k</span>freq <span style=\"color: #008000\">mtof</span> <span style=\"color: #B00040\">k</span>pitch\n",
       "<span style=\"color: #008000; font-weight: bold\">elseif</span> (<span style=\"color: #B00040\">i</span>pchintrp_ <span style=\"color: #666666\">==</span> <span style=\"color: #666666\">1</span>) <span style=\"color: #008000; font-weight: bold\">then</span>  <span style=\"color: #408080; font-style: italic\">; cos midi interpolation</span>\n",
       "    <span style=\"color: #B00040\">k</span>idx bisect <span style=\"color: #B00040\">k</span>_time, <span style=\"color: #B00040\">i</span>Times\n",
       "    <span style=\"color: #B00040\">k</span>pitch <span style=\"color: #B00040\">i</span>nterp1d <span style=\"color: #B00040\">k</span>idx, <span style=\"color: #B00040\">i</span>Pitches, <span style=\"color: #BA2121\">&quot;cos&quot;</span>\n",
       "    <span style=\"color: #B00040\">k</span>amp <span style=\"color: #B00040\">i</span>nterp1d <span style=\"color: #B00040\">k</span>idx, <span style=\"color: #B00040\">i</span>Amps, <span style=\"color: #BA2121\">&quot;cos&quot;</span>\n",
       "    <span style=\"color: #B00040\">k</span>freq <span style=\"color: #008000\">mtof</span> <span style=\"color: #B00040\">k</span>pitch\n",
       "<span style=\"color: #008000; font-weight: bold\">elseif</span> (<span style=\"color: #B00040\">i</span>pchintrp_ <span style=\"color: #666666\">==</span> <span style=\"color: #666666\">2</span>) <span style=\"color: #008000; font-weight: bold\">then</span>  <span style=\"color: #408080; font-style: italic\">; linear freq interpolation</span>\n",
       "    <span style=\"color: #B00040\">i</span>Freqs[] <span style=\"color: #008000\">mtof</span> <span style=\"color: #B00040\">i</span>Pitches\n",
       "    <span style=\"color: #B00040\">k</span>freq, <span style=\"color: #B00040\">k</span>amp <span style=\"color: #008000\">bpf</span> <span style=\"color: #B00040\">k</span>_time, <span style=\"color: #B00040\">i</span>Times, <span style=\"color: #B00040\">i</span>Freqs, <span style=\"color: #B00040\">i</span>Amps\n",
       "    <span style=\"color: #B00040\">k</span>pitch <span style=\"color: #008000\">ftom</span> <span style=\"color: #B00040\">k</span>freq\n",
       "<span style=\"color: #008000; font-weight: bold\">elseif</span> (<span style=\"color: #B00040\">i</span>pchintrp_ <span style=\"color: #666666\">==</span> <span style=\"color: #666666\">3</span>) <span style=\"color: #008000; font-weight: bold\">then</span>  <span style=\"color: #408080; font-style: italic\">; cos freq interpolation</span>\n",
       "    <span style=\"color: #B00040\">k</span>idx bisect <span style=\"color: #B00040\">k</span>_time, <span style=\"color: #B00040\">i</span>Times\n",
       "    <span style=\"color: #B00040\">k</span>freq <span style=\"color: #B00040\">i</span>nterp1d <span style=\"color: #B00040\">k</span>idx, <span style=\"color: #B00040\">i</span>Freqs, <span style=\"color: #BA2121\">&quot;cos&quot;</span>\n",
       "    <span style=\"color: #B00040\">k</span>amp <span style=\"color: #B00040\">i</span>nterp1d <span style=\"color: #B00040\">k</span>idx, <span style=\"color: #B00040\">i</span>Amps, <span style=\"color: #BA2121\">&quot;cos&quot;</span>\n",
       "    <span style=\"color: #B00040\">k</span>pitch <span style=\"color: #008000\">ftom</span> <span style=\"color: #B00040\">k</span>freq\n",
       "<span style=\"color: #008000; font-weight: bold\">endif</span>\n",
       "\n",
       "<span style=\"color: #B00040\">i</span>fade0 <span style=\"color: #666666\">=</span> <span style=\"color: #008000\">max</span>:<span style=\"color: #B00040\">i</span>(<span style=\"color: #B00040\">i</span>fade0, <span style=\"color: #666666\">1/</span><span style=\"color: #19177C\">kr</span>)\n",
       "<span style=\"color: #B00040\">i</span>fade1 <span style=\"color: #666666\">=</span> <span style=\"color: #008000\">max</span>:<span style=\"color: #B00040\">i</span>(<span style=\"color: #B00040\">i</span>fade1, <span style=\"color: #666666\">1/</span><span style=\"color: #19177C\">kr</span>)\n",
       "\n",
       "<span style=\"color: #008000; font-weight: bold\">if</span> (<span style=\"color: #B00040\">i</span>fadekind_ <span style=\"color: #666666\">==</span> <span style=\"color: #666666\">0</span>) <span style=\"color: #008000; font-weight: bold\">then</span>\n",
       "    <span style=\"color: #408080; font-style: italic\">; aenv_ linseg 0, ifade0, igain_, p3-ifade0-ifade1, igain_, ifade1, 0</span>\n",
       "    <span style=\"color: #B00040\">a</span>env_ <span style=\"color: #008000\">linsegr</span> <span style=\"color: #666666\">0</span>, <span style=\"color: #B00040\">i</span>fade0, <span style=\"color: #B00040\">i</span>gain_, <span style=\"color: #B00040\">i</span>fade1, <span style=\"color: #666666\">0</span>\n",
       "<span style=\"color: #008000; font-weight: bold\">elseif</span> (<span style=\"color: #B00040\">i</span>fadekind_ <span style=\"color: #666666\">==</span> <span style=\"color: #666666\">1</span>) <span style=\"color: #008000; font-weight: bold\">then</span>\n",
       "    <span style=\"color: #B00040\">a</span>env_ <span style=\"color: #008000\">cosseg</span> <span style=\"color: #666666\">0</span>, <span style=\"color: #B00040\">i</span>fade0, <span style=\"color: #B00040\">i</span>gain_, <span style=\"color: #19177C\">p3</span><span style=\"color: #666666\">-</span><span style=\"color: #B00040\">i</span>fade0<span style=\"color: #666666\">-</span><span style=\"color: #B00040\">i</span>fade1, <span style=\"color: #B00040\">i</span>gain_, <span style=\"color: #B00040\">i</span>fade1, <span style=\"color: #666666\">0</span>\n",
       "<span style=\"color: #008000; font-weight: bold\">endif</span>\n",
       "\n",
       "<span style=\"color: #B00040\">a</span>env_ <span style=\"color: #666666\">*=</span> <span style=\"color: #008000\">linenr</span>:<span style=\"color: #B00040\">a</span>(<span style=\"color: #666666\">1</span>, <span style=\"color: #666666\">0</span>, <span style=\"color: #B00040\">i</span>fade1, <span style=\"color: #666666\">0.01</span>)\n",
       "\n",
       "<span style=\"color: #408080; font-style: italic\">; aout1 oscili kgain, kfreq</span>\n",
       "<span style=\"color: #B00040\">a</span>out1 <span style=\"color: #008000\">vco2</span> <span style=\"color: #B00040\">k</span>gain, <span style=\"color: #B00040\">k</span>freq\n",
       "\n",
       "<span style=\"color: #B00040\">a</span>out1 <span style=\"color: #666666\">*=</span> <span style=\"color: #B00040\">a</span>env_\n",
       "\n",
       "<span style=\"color: #008000; font-weight: bold\">if</span> (<span style=\"color: #B00040\">i</span>pos <span style=\"color: #666666\">&lt;=</span> <span style=\"color: #666666\">0</span>) <span style=\"color: #008000; font-weight: bold\">then</span>\n",
       "    <span style=\"color: #008000\">outch</span> <span style=\"color: #B00040\">i</span>chan_, <span style=\"color: #B00040\">a</span>out1\n",
       "<span style=\"color: #008000; font-weight: bold\">else</span>\n",
       "    <span style=\"color: #B00040\">a</span>L_, <span style=\"color: #B00040\">a</span>R_ <span style=\"color: #008000\">pan2</span> <span style=\"color: #B00040\">a</span>out1, <span style=\"color: #B00040\">i</span>pos\n",
       "    <span style=\"color: #008000\">outch</span> <span style=\"color: #B00040\">i</span>chan_, <span style=\"color: #B00040\">a</span>L_, <span style=\"color: #B00040\">i</span>chan_<span style=\"color: #666666\">+1</span>, <span style=\"color: #B00040\">a</span>R_\n",
       "<span style=\"color: #008000; font-weight: bold\">endif</span>\n",
       "</code></pre></div>\n"
      ],
      "text/plain": [
       "Instr(preset.test, idataidx_:5=0.0, inumbps:6=0.0, ibplen:7=0.0, igain_:8=0.0, ichan_:9=0.0, ipos:10=0.0, ifade0:11=0.0, ifade1:12=0.0, ipchintrp_:13=0.0, ifadekind_:14=0.0, kgain:15=0.5)"
      ]
     },
     "execution_count": 10,
     "metadata": {},
     "output_type": "execute_result"
    },
    {
     "name": "stderr",
     "output_type": "stream",
     "text": [
      "end of score.\t\t   overall amps:\u001b[m  0.36634  0.00000\n",
      "\t   overall samples out of range:\u001b[m        0\u001b[m        0\u001b[m\n",
      "0 errors in performance\n",
      "\u001b[m"
     ]
    },
    {
     "name": "stdout",
     "output_type": "stream",
     "text": [
      "Exiting python, closing all active engines\n",
      "... stopping maelzel.core\n"
     ]
    },
    {
     "name": "stderr",
     "output_type": "stream",
     "text": [
      "3096 512 sample blks of 64-bit floats written to dac:system:playback\n"
     ]
    }
   ],
   "source": [
    "test.getInstr()"
   ]
  },
  {
   "cell_type": "code",
   "execution_count": null,
   "id": "9215e18d-1838-4fb2-9821-9dc9e4cc4044",
   "metadata": {},
   "outputs": [],
   "source": []
  }
 ],
 "metadata": {
  "kernelspec": {
   "display_name": "Python 3 (ipykernel)",
   "language": "python",
   "name": "python3"
  },
  "language_info": {
   "codemirror_mode": {
    "name": "ipython",
    "version": 3
   },
   "file_extension": ".py",
   "mimetype": "text/x-python",
   "name": "python",
   "nbconvert_exporter": "python",
   "pygments_lexer": "ipython3",
   "version": "3.9.7"
  }
 },
 "nbformat": 4,
 "nbformat_minor": 5
}
