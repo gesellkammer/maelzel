{
 "cells": [
  {
   "cell_type": "code",
   "execution_count": 1,
   "id": "357cb498-efa8-4676-8d2b-5c2997208e19",
   "metadata": {},
   "outputs": [],
   "source": [
    "import logging\n",
    "logging.basicConfig(level=\"DEBUG\")\n"
   ]
  },
  {
   "cell_type": "code",
   "execution_count": 1,
   "id": "3e9bedb5-c578-494b-b998-0c8eb1ee415c",
   "metadata": {},
   "outputs": [
    {
     "name": "stderr",
     "output_type": "stream",
     "text": [
      "end of score.\t\t   overall amps:\u001b[m      0.0\n",
      "\t   overall samples out of range:\u001b[m        0\u001b[m\n",
      "0 errors in performance\n",
      "\u001b[m"
     ]
    }
   ],
   "source": [
    "import csoundengine as ce\n",
    "ce.logger.setLevel(\"DEBUG\")"
   ]
  },
  {
   "cell_type": "code",
   "execution_count": 2,
   "id": "d550fb74-c679-4345-b950-fe0797e4da0e",
   "metadata": {},
   "outputs": [
    {
     "data": {
      "text/html": [
       "<table>\n",
       "<thead>\n",
       "<tr><th>name  </th><th>longname          </th><th>sr   </th></tr>\n",
       "</thead>\n",
       "<tbody>\n",
       "<tr><td>alsa  </td><td>alsa              </td><td>-    </td></tr>\n",
       "<tr><td>jack  </td><td>jack              </td><td>48000</td></tr>\n",
       "<tr><td>pa_bl </td><td>portaudio-blocking</td><td>48000</td></tr>\n",
       "<tr><td>pa_cb </td><td>portaudio-callback</td><td>48000</td></tr>\n",
       "<tr><td>pulse </td><td>pulse             </td><td>48000</td></tr>\n",
       "</tbody>\n",
       "</table>"
      ],
      "text/plain": [
       "<IPython.core.display.HTML object>"
      ]
     },
     "metadata": {},
     "output_type": "display_data"
    },
    {
     "name": "stdout",
     "output_type": "stream",
     "text": [
      "\n",
      "Backend: jack\n",
      "\n",
      "Input Devices:\n"
     ]
    },
    {
     "data": {
      "text/html": [
       "<table>\n",
       "<thead>\n",
       "<tr><th>id                               </th><th>name                        </th><th>kind  </th><th>index  </th><th>numchannels  </th></tr>\n",
       "</thead>\n",
       "<tbody>\n",
       "<tr><td>adc:Built-in Audio Analog Stereo:</td><td>Built-in Audio Analog Stereo</td><td>input </td><td>-1     </td><td>4            </td></tr>\n",
       "</tbody>\n",
       "</table>"
      ],
      "text/plain": [
       "<IPython.core.display.HTML object>"
      ]
     },
     "metadata": {},
     "output_type": "display_data"
    },
    {
     "name": "stdout",
     "output_type": "stream",
     "text": [
      "\n",
      "Output Devices:\n"
     ]
    },
    {
     "data": {
      "text/html": [
       "<table>\n",
       "<thead>\n",
       "<tr><th>id                               </th><th>name                        </th><th>kind  </th><th>index  </th><th>numchannels  </th></tr>\n",
       "</thead>\n",
       "<tbody>\n",
       "<tr><td>dac:Built-in Audio Analog Stereo:</td><td>Built-in Audio Analog Stereo</td><td>output</td><td>-1     </td><td>2            </td></tr>\n",
       "</tbody>\n",
       "</table>"
      ],
      "text/plain": [
       "<IPython.core.display.HTML object>"
      ]
     },
     "metadata": {},
     "output_type": "display_data"
    }
   ],
   "source": [
    "ce.dumpAudioInfo()"
   ]
  },
  {
   "cell_type": "code",
   "execution_count": 3,
   "id": "492ae989-c65a-470e-a7a7-3998766e3036",
   "metadata": {},
   "outputs": [
    {
     "name": "stderr",
     "output_type": "stream",
     "text": [
      "\n",
      "\n",
      "\n",
      "--Csound version 6.19 (double samples) May  8 2024\n",
      "[commit: 937aa495e250d758efaa28e9697a8b75237c80cd]\n",
      "\u001b[mlibsndfile-1.2.0\n",
      "\u001b[msr = 48000.0,\u001b[m kr = 750.000,\u001b[m ksmps = 64\n",
      "\u001b[m0dBFS level = 1.0,\u001b[m A4 tuning = 440.0\n",
      "\u001b[maudio buffered in 256 sample-frame blocks\n",
      "\u001b[mreading 2048-byte blks of shorts from adc:Built-in Audio Analog Stereo: (RAW)\n",
      "writing 512 sample blks of 64-bit floats to dac:Built-in Audio Analog Stereo:\n",
      "SECTION 1:\n",
      "\u001b[m"
     ]
    }
   ],
   "source": [
    "e = ce.Engine(outdev=\"?\", nchnls=2)"
   ]
  },
  {
   "cell_type": "code",
   "execution_count": 1,
   "id": "163ddb99-2fa4-496e-8cfe-bd229e820b93",
   "metadata": {},
   "outputs": [
    {
     "name": "stderr",
     "output_type": "stream",
     "text": [
      "end of score.\t\t   overall amps:\u001b[m      0.0\n",
      "\t   overall samples out of range:\u001b[m        0\u001b[m\n",
      "0 errors in performance\n",
      "\u001b[m"
     ]
    }
   ],
   "source": [
    "import maelzel.core as mc"
   ]
  },
  {
   "cell_type": "code",
   "execution_count": 3,
   "id": "586305a2-4b2b-40c4-819a-0c480083c4cf",
   "metadata": {},
   "outputs": [
    {
     "name": "stderr",
     "output_type": "stream",
     "text": [
      "\n",
      "\n",
      "\n",
      "--Csound version 6.19 (double samples) May  8 2024\n",
      "[commit: 937aa495e250d758efaa28e9697a8b75237c80cd]\n",
      "\u001b[mlibsndfile-1.2.0\n",
      "\u001b[msr = 48000.0,\u001b[m kr = 750.000,\u001b[m ksmps = 64\n",
      "\u001b[m0dBFS level = 1.0,\u001b[m A4 tuning = 442.0\n",
      "\u001b[maudio buffered in 256 sample-frame blocks\n",
      "\u001b[mreading 2048-byte blks of shorts from adc:Built-in Audio Analog Stereo: (RAW)\n",
      "writing 512 sample blks of 64-bit floats to dac:Built-in Audio Analog Stereo:\n",
      "SECTION 1:\n",
      "\u001b[m"
     ]
    },
    {
     "data": {
      "text/html": [
       "Session(<strong style=\"color:MediumSeaGreen\">maelzel.core</strong>, synths=0)"
      ],
      "text/plain": [
       "Session(maelzel.core, synths=0)"
      ]
     },
     "execution_count": 3,
     "metadata": {},
     "output_type": "execute_result"
    }
   ],
   "source": [
    "mc.getSession(outdev='?')"
   ]
  },
  {
   "cell_type": "code",
   "execution_count": null,
   "id": "3d04bd1c-aa6e-4a0d-abd7-44f6a0df315e",
   "metadata": {},
   "outputs": [],
   "source": []
  }
 ],
 "metadata": {
  "kernelspec": {
   "display_name": "Python 3 (ipykernel)",
   "language": "python",
   "name": "python3"
  },
  "language_info": {
   "codemirror_mode": {
    "name": "ipython",
    "version": 3
   },
   "file_extension": ".py",
   "mimetype": "text/x-python",
   "name": "python",
   "nbconvert_exporter": "python",
   "pygments_lexer": "ipython3",
   "version": "3.12.3"
  }
 },
 "nbformat": 4,
 "nbformat_minor": 5
}
