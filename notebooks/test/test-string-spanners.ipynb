{
 "cells": [
  {
   "cell_type": "code",
   "execution_count": 1,
   "id": "912be586-b88c-43eb-8c4b-55ef696440a4",
   "metadata": {
    "tags": []
   },
   "outputs": [],
   "source": [
    "from maelzel.core import *"
   ]
  },
  {
   "cell_type": "code",
   "execution_count": 2,
   "id": "66513126-eba9-4146-87f1-15dfe76464d3",
   "metadata": {
    "tags": []
   },
   "outputs": [
    {
     "data": {
      "text/html": [
       "<code><span style=\"font-size: 85%\"><b>Chain</b> - beat: 0, offset: None, dur: 3.5</span></code><br><code><span style=\"color:#BBBBBB;font-size:85%\">  location  beat   offset      dur         name      gliss dyn  playargs            info                </span></code><br><code><span style=\"color:#9090FF;font-size:85%\">  0:0       0      (0)         1           4C        F          None                -</span></code><br><code><span style=\"color:#9090FF;font-size:85%\">  0:1       1      (1)         0.5         4D        F          None                -</span></code><br><code>      <span style=\"color:#8080E0;font-size:85%\">[Slur(anchor=4D, kind=start, uuid=n4axbuh5)]</span></code><br><code><span style=\"color:#9090FF;font-size:85%\">  0:1.5     1.5    (1.5)       0.5         4E        F          None                -</span></code><br><code><span style=\"color:#9090FF;font-size:85%\">  0:2       2      (2)         1           4F        F          None                -</span></code><br><code>      <span style=\"color:#8080E0;font-size:85%\">[Slur(anchor=4F, kind=end, uuid=7fn6peuk)]</span></code><br><code><span style=\"color:#9090FF;font-size:85%\">  0:3       3      (3)         0.5         4G        F          None                -</span></code>"
      ],
      "text/plain": [
       "<IPython.core.display.HTML object>"
      ]
     },
     "metadata": {},
     "output_type": "display_data"
    },
    {
     "data": {
      "text/html": [
       "<code style=\"white-space: pre-line; font-size:0.9em;\">Chain([<span style=\"color:#6666E0\">4C:1♩</span>, <span style=\"color:#6666E0\">4D:1/2♩:symbols=[Slur(anchor=4D, kind=start, uuid=n4axbuh5)]</span>, <span style=\"color:#6666E0\">4E:1/2♩</span>, <span style=\"color:#6666E0\">4F:1♩:symbols=[Slur(anchor=4F, kind=end, uuid=7fn6peuk)]</span>, <span style=\"color:#6666E0\">4G:1/2♩</span>], dur=3.5)</code><br><br><img style=\"display:inline; padding:10px;\n",
       "margin-top:14px;\n",
       "width:268px\" src=\"data:image/png;base64,iVBORw0KGgoAAAANSUhEUgAAAWYAAABsCAIAAADWqI+TAAAUqklEQVR4nO2dXWzb1PvHT/50rBu0tXsxinjp7A422BBr0m6IDW1SHMbGDZOabuJiV9jZ1XiRcCqBxJCQSHrBxK6IwwWbuGlSJHYBYoorVgRC2+JuIDE21Dgd7KUbkp0VtnZaIf+Ls52fsdPUSey89flcTMmp43OS2V8/53me8xxPPp9HjYksy4FAIJVKcRxX67EAwFLh/2o9AAAAGgmQDAAASgAkAwCAEgDJAACgBEAyAAAoAZAMAABKACQDAIASAMkAAKAEQDIAACgBkAwAAEoAJAMAgBIAyQAAoARAMgAAKAGQDAAASgAkAwCAEgDJAACgBEAyFkRRlGAw6PF4aJr2eDwcxymKYjpG1/VwOEzfIxwO12SoAFA1QDIKI0lSX1+fruuZTAb/OzY2xnGcqqrkGF3XOY6TZVlRFF3Xo9Ho8PBwMBis4bABwHXyDUsqlUIIpVIpl87s9Xo1TcMtkUgE/1yxWIwcxvO8aQCiKCKERFF0fEgAUCeAlVEALBBDQ0M0TeMW8oLUGVVVNR6Pe71eY+XRUCiEEEomk1UdLgBUkcaTDFmWdV139fxjY2MIIeMUQxCEdDqdyWRYlsUtsVgMIUTeYvDbbDYry7J7IwSAGtIwkhGNRn0+n8fjCQQCnZ2dLMuOj4+70RGelfj9flO7z+czCgR2hZokAyHEMAw5CQA0H85IhqqqgiBYAwqOoCgKy7JDQ0MTExOkMZvNfvDBB250hw0EmqaxR5PjOI7jBEEwGQ7YErGCRcToJQWAZsIByVAUxefzxeNxQRAcnzIoisJxXDabLelTHMd5ilJk6xMsTCzLchyXSCR8Ph9N0/F4PBAISJJkcwCuTp0AoIa0VPh5fEvncjmE0MTERCQSiUajDowLIXQviolPXhI+n6/CA4aHh0VRJN8lGo0ODQ2FQiEsJaWOBwCah0rCLZqmURRlOmEmk3EqnINjlkWgKMqpvggLnRk7KXieNx5mjadiJ4jf73d8YABQD1Q0MQkGg1YTQBCESs5pZNFopXt5U1YzxOSk8Hq9BT+ID1jUigGABqX8iQkJRpoYGxvD3o0KRnWX4i4MiqIWmgRJkpTJZIp8tqenZyFp8/v9C7k2jfh8vomJCaubE4+5p6dn0TMAQENStn1iDUMSiPVeIXguUBCKotLpdBljwxSZOOA8LusB2KwgM5FEIoEQ8nq9xmOITpG0UQBoMjz5snZ+V1XV+iAVRTEUCuF2TdNIxmTZJJPJwcFBazvDMMlksoghU4mVoes6y7K5XM6YuEW+r7ERGxrGFkmSQqGQ0W8KAM1GeUpD1lxgjM98/IQ3rsWohEQiYbQ1vF5vJBJx5MxFwJmdAwMDpGVgYABZnJ3pdJqiKGKP4LfGlSkA0HyUKRn4FrLqRf5emMN4v1WOpmluLD8rQiKRoCiKYRi/388wDEVRBaUqnU4zDIMPw/IBegE0N2VOTLBNjl+nUiljqkI4HB4eHsb2SxlnritIxidO6Cp+GE3TECgBmp4yJcPj8eAXPM+bciKJA8IkJQAANAGVJowPDQ2ZWkiuNCzNAoDmoyLJGBgYsC7lLB6qAICmJJlM7ty5cymUSqlIMvr6+qyNJLvJpYWtAFCHfPjhh998882rr77a2tq6e/fuJtaOiiSjoLcPlAJYsszPz9++ffvLL7/cu3fvihUrQqFQ890ODpfYURSl1IXqANB8/Pvvv3Nzc5Ikbd68ubOzs5m0o0zJwAtYrQERnEaNgYgjAPzzzz+6ruOC9S+//HKth+MEeRtrzAEAWOKsWbPmf6lcyWQynU6X9Pnjx4//9NNPg4ODq1evJo0nTpw4deoUeSsIgrWaRiWcP3/+woULHR0duNNcLpfL5a5du7Zjxw5nOwLqlqNHj05PT5suvHrgs88+u379uiiKZ8+ePXfu3KVLlzwec9JTe3v7/v37azXChcCJl93d3Xv27MEtIyMjFy9etB559+uUlzSKDRNjDrWp3I5piacjFLSGnFo1CzQEvb29yJ3NayoED4y81TQtFos999xzCKH77rsPX6vd3d21G+CC4LEZl24vtBAc/7VMX0YgEED/TcEIh8PGcjt4Rw9nsRbU9Pv99utxAkDVoGlaEIQff/wxk8m88847jz/+eK1H5BhlSgZ2bZIlGLIsx+Nx8leKotyol2WqZ+P1eps4+g00ByzLvv/++xcvXsxkMl988UWth+MAZUoGTdNerzebzaqqquu6SSAEQai8WIYVY5iKoqhkMknTNOyBCjQELMs2Rwyx/LwMHGFNJpOmCqAMw7hRYEZRFNILRVGyLLMsK0nS6Oio430BdlBVVZZl2LFlqVF+7c/BwcHh4WHrsjSXnAvGnYckSfL5fLquh8NhN/oCMPg313UdB9TOnz//xx9/IITOnDlDjunv7zeGyYCmp3zJ8Pl8DMOYcj1FUXRpwTtJEovFYsFgUFXVgvXNAfuoqoptBEVRNE1DCH3//fezs7NXr16dnp62eZL5+XkXhwjUH+VLRjKZNOmF1+t1qealLMu4oo8oioIgSJJkCtAABTGZCaqq4iCX0UyoEGx3AEuHFoRQGalc09PTIyMjxpbly5dv3brVpZnC8ePHEULPPvssMlT9IsD0BCE0PT19/vz5S5cuzc/P37x58+bNm9Xpt8rTw8uXLyOE4vF4vVVjwQNr3EtxcnKSDH5ycrLYoXlIGAcAwAZ3U79KzRXTNM26UZh1n0EH8fv9prLdBb/JEsc93V+5cmVvb29/fz/P86IoiqKYSqVSqRSe4/T29lbzazZK9mcDgf+X7Wd/luzLCIfDpFAwwb1IWzgcVhRFURQ3Ej2aiZMnT5b92TVr1rS1tbW1teEE556eHlxsrXiRZMBtVFWNxWKdnZ0uJTqVR2mSEQ6HjVmeCCGe55PJpEvJEYqiSJKEUzDcOH8zMTs7u9CfVq5cuXbt2paWlo0bN+IrD+f7Q0n0egZvo4VfRyIRVVWJaiiKwrJsrUSkBMmQZdnkd8QhEl3XR0dHcU6Xs4PjOI5l2UQiYSzDYYW4bTo7OxvX/1QhDz/8MEJo06ZN27dvBzOhCTBeyblcDkcJEUKyLAcCgUQiUau8Z7uSYc0KZxhGlmWapgOBwOjoaDqddvw7CIKAZyXFDyMHVOH2UFV17969b7/9dr0lqq9duxYhtH37dtjbsTkw5RBgz5GiKPjCq+F2H3YlQxAE43cgSzyQIXPc8Yt1oROSXVTIYVUzsFVVPX36tBv6CABGKIoy3nHxeJymaUmScrmc3++vofFoa42JLMsmb4XxLmVZlixRc36AFqyrV5umqiIAEKzPS+IWwK6oWmFLMkwOAp7nTdumY0PDuAzEPfAey0YikYi1lAYANDSCIKTTaZ7n/X7/wMAAjm3j+662mxC2IIR0XS/yoP7qq6+MUdWurq6dO3ea1OH+++9HCB07dszV0MZvv/02MjLy3Xffmdqz2ezmzZvfeOONJ5980r3eMfinmJqaqo4+2mdqagrVYmAzMzPV7HFmZgbd+1+oK/DAHP8p8F6lhKNHj3Z1dem67nhHmqaRc+IFRwuS/+827gAAAAXBqVyefD5PVjRauXr16r59+8jbXbt2vfnmm+TtxMTEoUOHiqx63LVr12uvvdbW1ubIiOPxuDXaahqS20xMTITD4cHBQZ7nq9apHfCPU+WBBQKBnp6eTz75pGo97t+/P5PJRKNRawpybcEDc3Xly6FDh77++ut3331327ZtDp4We0Z6e3uJr0QUxYILF/N2ygVHIhHjZzKZDPmT1adQEIqi0um0I5mt1pvBmOVaHfA14WqCfHnghPEqDwxBwvg9qpAwjstxO35a661UUblgY0FgnueJq0JRFJsFgXO5HMdxjgQ1oPYnsGTB4dV68CEsIhnGu9SoEdasBIZh8AvrliK5XC4YDFYe1IDan8CSBZu3BTdOrzKLSAa5SxmGIYkYxuI6FEWJopjJZFRVxWKBC7qYJhHZbNY0xykVqP0J1Am6rkejUUEQOI7jOC4cDrudkYTXZKBCj+rqs0j2J7lLjaFg4uPBty6REp/PNzY2Jssyx3GSJA0ODhpr7UmSNDQ0VHbWGtT+BGoOvuRMKzPHxsaGh4cfe+wx9/rF9XQZhqmH9ZmLWBlkutHT00MaiaaaMrXxa2KYcBwnyzKZp+RyuUpcD9banxzHQS0/oGrg9aMmvSC4WtAQX/z1YGKgRSWDqJpRGsbGxhBCFEWZckDxRMvoMfX5fMZjSi0XSLDW/vT5fHWYzwM0K4qi1OoRpaoqvtTrwZGB7EuGERyDsa4Ewy2meV00GiWGRtlTPqyyPM/jxPtQKAT2BVA18DLuRS85YwaTg5BshjqxMjz5fF6SpIUKUkxNTZF6bZ2dnbjx119/vXLlSmtr65YtW0zHj4+Pz8/Pm+K6k5OTZCPphUK+RdA07cyZM21tbZs2bcIt2MwhlHHOssGD6e7uXrNmTdU6tQP+kas8sLGxsQcffHDz5s0unf/OnTuXL1+enZ3FBYTa29v//PPPW7duGa/GKkDuguKsW7fukUcecbz3H374YW5ubtWqVc8884zjJ0f37ia8/yFumZiYKBjfxEkci7g/H3roIfxjGYs+tbe3X7lyZW5ubnZ2dsWKFcbj29radF2fmZlpb283NuIXLS3l7IEwNTXV1taGU2WAJcKdO3cmJyevXLlibKzV4sPr168vekxLS8uqVasc7/rOnTvLli1DCLlx8jJZNDkMaw/P88ZG7BYdGBgwHYxzEBOJhLGRRFjKSNYURZGiKGPWab6m5YIh+9MIcif7M51OW7N7jBw9etTxTotg5z6KRCLVHJKDWO/NirI/0b0MLlOwA0d9RkdHTR5QbC4u5OYsNUQEtT+XIHYcjdbVzK5SXL8QQjzPL514/+IzBUEQIpFINpsNh8Ok7AfHcbFYLBQKxeNxXdclScIJF9gDajIgiZVRamkQqP251LDpaFy5cmVVhnOXYDC4UGwVIcTzvEv7ENcntpwLkiQFAgGcnUUCJbhQuiAIo6OjOGsL3bMjTJERnIXFMEypLt86rP25ZMEPBpzmixDy+Xw2FxmVhCRJpl07C7J+/XrHuy5CNBpVFMUa1GcYJhqN1kkgo3rYnPDgBHCGYYxbEOXzeU3TTMsKEUIURZG3xMQwOTgqwfQVnFopa4cl6MvQNK3IgnpnfRl2lrRTFGW6CKtDIpHANbL8fr8oig5ez7UF/6rOb30kSRIWWp/Pl0wmia1B07SprJjX6yV6rOs6dnbwPO+UGBes/Qn7cbjEop6F27dvO9idnfS8SpYdVEIwGFxyBkUhbNX+xMiy7Pf7s9lsX19fOBxeKOKF/ztlWcZuy2w26/V6HZzsQe3PqmHHE+lsTh04GuufEiSDpmlZlrEBPDw8zLJsOByWZdl0u2J3hiAIgUAgl8vxPO9UBXC8iYMpjwshlM1mnSrJARBseiLxlktOUfwxvtQcjfWJJ5/PK4pSPCRhYmpq6uTJkyShcyE6Ojp27NixevXqigZ4j2PHjl24cKGjo4OiKIqili9fTv507dq1XC5348aN7u7uPXv2ONLdQkxNTSUSCbwpmasdlcqJEydOnTrl4MBOnjw5Pj6+6GEvvvjixo0bHekRITQ3NzcyMnLt2jVTe0dHx7Zt29atW+dURwAB1+8z3jsjIyMF7+48KeRXD6V+AACoZ5YvX37XXeq4A7ZuYwqOUPNvVzx+4eDA7FxGjZvyCJRNOYs+gFqxqD/SQWekaYM/K+CJXJqU4P4Eaoud+MXff//tVHfgiQQKUoJkqKqKMz49Hg/OznBvWIAJm/GLRx991KkeF9orhGGYRCIBerFksTsxMT3iJiYmBgcHE4lEcye3WLOkN2zYUJOR2MykNtZbrBCaphVFSSaTqVSKfP2+vr4q/4/jOvK13YUU+A82fR6kCKgRhmGsR9bcQegIVfMy2qSeM6nd46OPPkIIxWKxWg8E+B+2JiayLBd8xGWzWWsClat7zFWH4oVhkdMpj3ao50xqN9B1PRQKvfXWW/v27TMVWABqS6XuT2umNm6pk9KmZWDHy/j7779Xazh3WVKZ1LIsP/3005IkiaJ45MiRWg8H+A+VBlmt68GwW7SB1onpuk62ZZqbmzty5MiNGzeKf0TTNHx/GqsBuMoSKdmg6/rBgwcPHz7c2tqaSqXAhVGP2Jm9aJpW8LPWKT1eM1b93ZUrAa+aKQ/jMn9X0TStSPyiOmNwm1gshitc9vf3N5lTppmw6/60JpVb9ULTNOwlbayLOJFILGr2L0SV/aBNWbJB0zRRFLu6uvBPeuDAgVqPCCiGXckg5Tz9fn8qlSr4EMAhhsYyMUzYkQnIknaKTCYjiuIDDzyAf9hXXnnFVBcaqENKWGNCDHie5621ubAZ0uhxPjtexlqPsRnIZDLGjYJ27doFYtEolLYsjagGRVE8z4uiKIoiyV/wer3VrKnnBkVyMUAvKkfTtFgs9vzzz5Of1O/3g1g0FiWvZE2lUtbSgBRFiaLY0PYFprG8jI1ys6XT6UgkYqrxC9OQBsWTtzeBN6GqqqIo6XS6s7PT5/M1WTCs5lnSdohGo0NDQwcOHDh48GB9ZnAlk8l0Ov35558bNz1rbW0dHBx87733YG+aBqVMyQDqgddff/3w4cMIoZdeemn37t3BYLDm2iHLsqIoJ06cGB8fN27K2dHRsWfPHkEQGihhBygISEZjo6rqxx9/HIvFcKVvrB14y6jq9K6qKrbIzp49Ozk5aTqApulgMAhK0UyAZDQJkiR9+umnp0+fJi39/f0bN26kaToQCLAsW6GIYHXALzKZzLfffvvLL7/cunWr4MEMw4RCoWAwCLOP5gMko6lQVTWZTI6MjJw7d866w0hvb29LSwvWkUVPpSiKpml//fWX1Xawsm7duk2bNm3ZsoVl2SZzbAEmQDKaFuyiHh0d/fnnn7PZrIN7FLW2tj711FMvvPDC1q1bWZaFSceSAiRjqUCCXAihXC6Xy+WuXr2KC//NzMzMz88jhKanp2/fvr1hw4Zly5YhhJ544gmEUFdX1/r16/EUo/IJDtDogGQAAFACUC4YAIAS+H90BApWxXDaTwAAAABJRU5ErkJggg==\"/>"
      ],
      "text/plain": [
       "Chain([4C:1♩, 4D:1/2♩:symbols=[Slur(anchor=4D, kind=start, uuid=n4axbuh5)], 4E:1/2♩, 4F:1♩:symbols=[Slur(anchor=4F, kind=end, uuid=7fn6peuk)], 4G:1/2♩])"
      ]
     },
     "execution_count": 2,
     "metadata": {},
     "output_type": "execute_result"
    }
   ],
   "source": [
    "ch = Chain([\n",
    "    \"4C:1\",\n",
    "    \"4D:0.5:slur\",\n",
    "    \"4E:0.5\",\n",
    "    \"4F:1:~slur\",\n",
    "    \"4G:0.5\"\n",
    "])\n",
    "ch.dump()\n",
    "ch"
   ]
  },
  {
   "cell_type": "code",
   "execution_count": 3,
   "id": "6cf04e7e-125e-47cc-8f56-dc8ed6ae6c70",
   "metadata": {
    "tags": []
   },
   "outputs": [
    {
     "data": {
      "image/png": "[encoded data removed]",
      "text/plain": [
       "<IPython.core.display.Image object>"
      ]
     },
     "metadata": {
      "image/png": {
       "width": 552
      }
     },
     "output_type": "display_data"
    }
   ],
   "source": [
    "v = Voice(r\"\"\"\n",
    "    3F:0.5\n",
    "    4D:3/4\n",
    "    4F#:3/4:ff:decresc\n",
    "    4A:1/2\n",
    "    5C:1/2\n",
    "    5E:1/2:p  # this ends the decr.\n",
    "    5G#:1:>:slur\n",
    "    5B:1:~slur\n",
    "    6C#:1/3:staccato\n",
    "    \"\"\", minStaves=2)\n",
    "v.show()"
   ]
  },
  {
   "cell_type": "code",
   "execution_count": 4,
   "id": "84a5f3e2-17c1-4fc7-93f4-1d7ae993ff37",
   "metadata": {},
   "outputs": [
    {
     "data": {
      "text/html": [
       "<code><span style=\"font-size: 85%\"><b>Voice</b> - beat: 0, offset: 0, dur: 5.833</span></code><br><code><span style=\"color:#BBBBBB;font-size:85%\">  location  beat   offset      dur         name      gliss dyn  playargs            info                </span></code><br><code><span style=\"color:#9090FF;font-size:85%\">  0:0       0      (0)         0.5         3F        F          None                -</span></code><br><code><span style=\"color:#9090FF;font-size:85%\">  0:0.5     0.5    (0.5)       0.75        4D        F          None                -</span></code><br><code><span style=\"color:#9090FF;font-size:85%\">  0:1.25    1.25   (1.25)      0.75        4F#       F     ff   None                -</span></code><br><code>      <span style=\"color:#8080E0;font-size:85%\">[Hairpin(anchor=4F#, direction=>, kind=start, uuid=i2yk7kqp)]</span></code><br><code><span style=\"color:#9090FF;font-size:85%\">  0:2       2      (2)         0.5         4A        F          None                -</span></code><br><code><span style=\"color:#9090FF;font-size:85%\">  0:2.5     2.5    (2.5)       0.5         5C        F          None                -</span></code><br><code><span style=\"color:#9090FF;font-size:85%\">  0:3       3      (3)         0.5         5E        F     p    None                -</span></code><br><code><span style=\"color:#9090FF;font-size:85%\">  0:3.5     3.5    (3.5)       1           5G#       F          None                -</span></code><br><code>      <span style=\"color:#8080E0;font-size:85%\">[Articulation(accent), Slur(anchor=5G#, kind=start, uuid=fc0orela)]</span></code><br><code><span style=\"color:#9090FF;font-size:85%\">  1:0.5     4.5    (4.5)       1           5B        F          None                -</span></code><br><code>      <span style=\"color:#8080E0;font-size:85%\">[Slur(anchor=5B, kind=end, uuid=qwjgib7f)]</span></code><br><code><span style=\"color:#9090FF;font-size:85%\">  1:1.5     5.5    (5.5)       0.333       6C#       F          None                -</span></code><br><code>      <span style=\"color:#8080E0;font-size:85%\">[Articulation(staccato)]</span></code>"
      ],
      "text/plain": [
       "<IPython.core.display.HTML object>"
      ]
     },
     "metadata": {},
     "output_type": "display_data"
    }
   ],
   "source": [
    "v.dump()"
   ]
  },
  {
   "cell_type": "code",
   "execution_count": 5,
   "id": "e6d5ad2c-0ba5-4e90-aad9-822820543a7a",
   "metadata": {},
   "outputs": [
    {
     "name": "stdout",
     "output_type": "stream",
     "text": [
      "Part #0\n",
      "  firstClef: treble, groupid: /71486c4c-a145-11f0-9594-cd847d57e22d\n",
      "   ‹r 0:0.5 1/2♩›\n",
      "   ‹4D 0.5:1.25 3/4♩›\n",
      "   ‹4F# 1.25:2 3/4♩ ff properties={'_spanner_i2yk7kqp': True} spanners=[Hairpin(direction=>, kind=start, parent=4F#, uuid=i2yk7kqp)]›\n",
      "   ‹4A 2:2.5 1/2♩ properties={'_spanner_i2yk7kqp': True}›\n",
      "   ‹5C 2.5:3 1/2♩ properties={'_spanner_i2yk7kqp': True}›\n",
      "   ‹5E 3:3.5 1/2♩ p properties={'_spanner_i2yk7kqp': True}›\n",
      "   ‹5G# 3.5:4.5 1♩ attachments=[Articulation(kind=accent)] properties={'_spanner_i2yk7kqp': True, '_spanner_fc0orela': True} spanners=[Slur(kind=start, linetype=solid, parent=5G#, uuid=fc0orela)]›\n",
      "   ‹5B 4.5:5.5 1♩ properties={'_spanner_i2yk7kqp': True, '_spanner_fc0orela': True} spanners=[Slur(kind=end, linetype=solid, parent=5G#, uuid=fc0orela)]›\n",
      "   ‹6C# 5.5:5.833 1/3♩ attachments=[Articulation(kind=staccato)] properties={'_spanner_i2yk7kqp': True} spanners=[Hairpin(direction=>, kind=end, parent=4F#, uuid=i2yk7kqp)]›\n",
      "Part #1\n",
      "  firstClef: bass, groupid: /71486c4c-a145-11f0-9594-cd847d57e22d\n",
      "   ‹3F 0:0.5 1/2♩›\n",
      "   ‹r 0.5:1.25 3/4♩›\n",
      "   ‹r 1.25:2 3/4♩›\n",
      "   ‹r 2:2.5 1/2♩›\n",
      "   ‹r 2.5:3 1/2♩›\n",
      "   ‹r 3:3.5 1/2♩›\n",
      "   ‹r 3.5:4.5 1♩›\n",
      "   ‹r 4.5:5.5 1♩›\n",
      "   ‹r 5.5:5.833 1/3♩›\n"
     ]
    }
   ],
   "source": [
    "v.unquantizedScore().dump()"
   ]
  }
 ],
 "metadata": {
  "kernelspec": {
   "display_name": "Python 3 (ipykernel)",
   "language": "python",
   "name": "python3"
  },
  "language_info": {
   "codemirror_mode": {
    "name": "ipython",
    "version": 3
   },
   "file_extension": ".py",
   "mimetype": "text/x-python",
   "name": "python",
   "nbconvert_exporter": "python",
   "pygments_lexer": "ipython3",
   "version": "3.13.3"
  }
 },
 "nbformat": 4,
 "nbformat_minor": 5
}
