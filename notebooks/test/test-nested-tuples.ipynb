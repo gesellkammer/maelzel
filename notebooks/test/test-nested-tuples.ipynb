{
 "cells": [
  {
   "cell_type": "code",
   "execution_count": 1,
   "id": "f38a2d43-8d64-4418-ab74-0a30d852d159",
   "metadata": {},
   "outputs": [
    {
     "name": "stderr",
     "output_type": "stream",
     "text": [
      "WARNING: Csound 7 support is experimental. Proceed at yout own risk\n"
     ]
    }
   ],
   "source": [
    "from maelzel.core import *\n",
    "from maelzel import scoring"
   ]
  },
  {
   "cell_type": "code",
   "execution_count": 2,
   "id": "0d21c832-f0b9-43da-9b2a-e85da081e61f",
   "metadata": {},
   "outputs": [],
   "source": [
    "cfg = getConfig()\n",
    "cfg['.quant.debug'] = True\n",
    "cfg['quant.complexity'] = 'highest'\n",
    "scoring.logger.setLevel(\"DEBUG\")"
   ]
  },
  {
   "cell_type": "code",
   "execution_count": 3,
   "id": "6801b1f7-b59e-4f82-b746-c8429ee306d8",
   "metadata": {
    "tags": []
   },
   "outputs": [
    {
     "name": "stderr",
     "output_type": "stream",
     "text": [
      "[maelzel.scoring:quant.py:1359:quantizeMeasure:DEBUG] Measure 4/4 is not filled (events=[«4C# 0:0.667 2/3♩», «4D 0.667:1.333 2/3♩», «4E 1.333:2 2/3♩»]). Filling gaps with silences\n",
      "[maelzel.scoring:quant.py:1488:_mergeNodes:DEBUG] ---- Merged: Node(3/2, «4C# 0:0.667 2/3♩ 3/2»\n",
      "          «4D 0.667:1.333 2/3♩ 3/2»\n",
      "          «4E 1.333:2 2/3♩ 3/2»)\n",
      "[maelzel.scoring:quant.py:1690:_mergeSiblings:DEBUG] Nodes can merge:\n",
      "Node(3/2, «4C# 0:0.667 2/3♩ 3/2»\n",
      "          «4D~ 0.667:1 1/3♩ 3/2»)\n",
      "Node(3/2, «~4D 1:1.333 1/3♩ 3/2»\n",
      "          «4E 1.333:2 2/3♩ 3/2»)\n",
      "---- Merged node:\n",
      "Node(3/2, «4C# 0:0.667 2/3♩ 3/2»\n",
      "          «4D 0.667:1.333 2/3♩ 3/2»\n",
      "          «4E 1.333:2 2/3♩ 3/2»)\n",
      "[maelzel.scoring:quant.py:1936:resolveEnharmonics:DEBUG] Resolving enharmonics for measure 0\n",
      "[maelzel.scoring:renderlily.py:1178:write:DEBUG] Rendering lilypond '/home/em/.cache/tmpu7bzd1ck/x1o25k26.ly' to '/home/em/.cache/tmpu7bzd1ck/x1o25k26.png'\n",
      "[maelzel.scoring:renderlily.py:1191:write:DEBUG] Found crop file '/home/em/.cache/tmpu7bzd1ck/x1o25k26.cropped.png', using that as output\n",
      "[maelzel.scoring:renderlily.py:1201:write:DEBUG] Moving /home/em/.cache/tmpu7bzd1ck/x1o25k26.cropped.png to /home/em/.cache/tmpu7bzd1ck/_g2m3cfy.png\n"
     ]
    },
    {
     "data": {
      "text/html": [
       "<code style=\"white-space: pre-line; font-size:0.9em;\">Voice([<span style=\"color:#6666E0\">4C♯:0.667♩</span>, <span style=\"color:#6666E0\">4D:0.667♩</span>, <span style=\"color:#6666E0\">4E:0.667♩</span>], dur=2)</code><br>\n",
       "        <img style=\"display:inline; padding:10px;\n",
       "margin-top:14px;\n",
       "width:233px\"\n",
       "             src=\"data:image/png;base64,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\"/>"
      ],
      "text/plain": [
       "Voice([4C♯:0.667♩, 4D:0.667♩, 4E:0.667♩])"
      ]
     },
     "execution_count": 3,
     "metadata": {},
     "output_type": "execute_result"
    }
   ],
   "source": [
    "v1 = Voice([\n",
    "    Note(\"4C#\", F(2, 3)),\n",
    "    Note(\"4D\", F(2, 3)),\n",
    "    Note(\"4E\", F(2, 3)),\n",
    "])\n",
    "v1"
   ]
  },
  {
   "cell_type": "code",
   "execution_count": 4,
   "id": "b101979d-06bb-4f05-a4ea-7dbd0b24ff6f",
   "metadata": {},
   "outputs": [
    {
     "name": "stderr",
     "output_type": "stream",
     "text": [
      "[maelzel.scoring:quant.py:1359:quantizeMeasure:DEBUG] Measure 4/4 is not filled (events=[«4C# 0:0.667 2/3♩», «4D 0.667:1.333 2/3♩», «4E 1.333:1.556 2/9♩», «4F 1.556:1.778 2/9♩», «4G 1.778:2 2/9♩»]). Filling gaps with silences\n",
      "[maelzel.scoring:quant.py:1488:_mergeNodes:DEBUG] ---- Merged: Node(3/2, «4E 1.333:1.556 2/9♩ 3/2,3/2»\n",
      "          «4F 1.556:1.778 2/9♩ 3/2,3/2»\n",
      "          «4G 1.778:2 2/9♩ 3/2,3/2»)\n",
      "[maelzel.scoring:quant.py:1690:_mergeSiblings:DEBUG] Nodes can merge:\n",
      "Node(3/2, «4E 1.333:1.556 2/9♩ 3/2,3/2»\n",
      "          «4F~ 1.556:1.667 1/9♩ 3/2,3/2»)\n",
      "Node(3/2, «~4F 1.667:1.778 1/9♩ 3/2,3/2»\n",
      "          «4G 1.778:2 2/9♩ 3/2,3/2»)\n",
      "---- Merged node:\n",
      "Node(3/2, «4E 1.333:1.556 2/9♩ 3/2,3/2»\n",
      "          «4F 1.556:1.778 2/9♩ 3/2,3/2»\n",
      "          «4G 1.778:2 2/9♩ 3/2,3/2»)\n",
      "[maelzel.scoring:quant.py:1488:_mergeNodes:DEBUG] ---- Merged: Node(3/2, «4C# 0:0.667 2/3♩ 3/2»\n",
      "          «4D 0.667:1.333 2/3♩ 3/2»\n",
      "          Node(3/2, «4E 1.333:1.556 2/9♩ 3/2,3/2»\n",
      "                    «4F 1.556:1.778 2/9♩ 3/2,3/2»\n",
      "                    «4G 1.778:2 2/9♩ 3/2,3/2»))\n",
      "[maelzel.scoring:quant.py:1690:_mergeSiblings:DEBUG] Nodes can merge:\n",
      "Node(3/2, «4C# 0:0.667 2/3♩ 3/2»\n",
      "          «4D~ 0.667:1 1/3♩ 3/2»)\n",
      "Node(3/2, «~4D 1:1.333 1/3♩ 3/2»\n",
      "          Node(3/2, «4E 1.333:1.556 2/9♩ 3/2,3/2»\n",
      "                    «4F 1.556:1.778 2/9♩ 3/2,3/2»\n",
      "                    «4G 1.778:2 2/9♩ 3/2,3/2»))\n",
      "---- Merged node:\n",
      "Node(3/2, «4C# 0:0.667 2/3♩ 3/2»\n",
      "          «4D 0.667:1.333 2/3♩ 3/2»\n",
      "          Node(3/2, «4E 1.333:1.556 2/9♩ 3/2,3/2»\n",
      "                    «4F 1.556:1.778 2/9♩ 3/2,3/2»\n",
      "                    «4G 1.778:2 2/9♩ 3/2,3/2»))\n",
      "[maelzel.scoring:quant.py:1936:resolveEnharmonics:DEBUG] Resolving enharmonics for measure 0\n",
      "[maelzel.scoring:renderlily.py:1178:write:DEBUG] Rendering lilypond '/home/em/.cache/tmpu7bzd1ck/6kdvenww.ly' to '/home/em/.cache/tmpu7bzd1ck/6kdvenww.png'\n",
      "[maelzel.scoring:renderlily.py:1191:write:DEBUG] Found crop file '/home/em/.cache/tmpu7bzd1ck/6kdvenww.cropped.png', using that as output\n",
      "[maelzel.scoring:renderlily.py:1201:write:DEBUG] Moving /home/em/.cache/tmpu7bzd1ck/6kdvenww.cropped.png to /home/em/.cache/tmpu7bzd1ck/btkdnvm5.png\n"
     ]
    },
    {
     "data": {
      "image/png": "[encoded data removed]",
      "text/plain": [
       "<IPython.core.display.Image object>"
      ]
     },
     "metadata": {
      "image/png": {
       "width": 262.5
      }
     },
     "output_type": "display_data"
    },
    {
     "name": "stderr",
     "output_type": "stream",
     "text": [
      "[maelzel.scoring:quant.py:1359:quantizeMeasure:DEBUG] Measure 4/4 is not filled (events=[«4C# 0:0.667 2/3♩», «4D 0.667:1.333 2/3♩», «4E 1.333:1.556 2/9♩», «4F 1.556:1.778 2/9♩», «4G 1.778:2 2/9♩»]). Filling gaps with silences\n",
      "[maelzel.scoring:quant.py:1488:_mergeNodes:DEBUG] ---- Merged: Node(3/2, «4E 1.333:1.556 2/9♩ 3/2,3/2»\n",
      "          «4F 1.556:1.778 2/9♩ 3/2,3/2»\n",
      "          «4G 1.778:2 2/9♩ 3/2,3/2»)\n",
      "[maelzel.scoring:quant.py:1690:_mergeSiblings:DEBUG] Nodes can merge:\n",
      "Node(3/2, «4E 1.333:1.556 2/9♩ 3/2,3/2»\n",
      "          «4F~ 1.556:1.667 1/9♩ 3/2,3/2»)\n",
      "Node(3/2, «~4F 1.667:1.778 1/9♩ 3/2,3/2»\n",
      "          «4G 1.778:2 2/9♩ 3/2,3/2»)\n",
      "---- Merged node:\n",
      "Node(3/2, «4E 1.333:1.556 2/9♩ 3/2,3/2»\n",
      "          «4F 1.556:1.778 2/9♩ 3/2,3/2»\n",
      "          «4G 1.778:2 2/9♩ 3/2,3/2»)\n",
      "[maelzel.scoring:quant.py:1488:_mergeNodes:DEBUG] ---- Merged: Node(3/2, «4C# 0:0.667 2/3♩ 3/2»\n",
      "          «4D 0.667:1.333 2/3♩ 3/2»\n",
      "          Node(3/2, «4E 1.333:1.556 2/9♩ 3/2,3/2»\n",
      "                    «4F 1.556:1.778 2/9♩ 3/2,3/2»\n",
      "                    «4G 1.778:2 2/9♩ 3/2,3/2»))\n",
      "[maelzel.scoring:quant.py:1690:_mergeSiblings:DEBUG] Nodes can merge:\n",
      "Node(3/2, «4C# 0:0.667 2/3♩ 3/2»\n",
      "          «4D~ 0.667:1 1/3♩ 3/2»)\n",
      "Node(3/2, «~4D 1:1.333 1/3♩ 3/2»\n",
      "          Node(3/2, «4E 1.333:1.556 2/9♩ 3/2,3/2»\n",
      "                    «4F 1.556:1.778 2/9♩ 3/2,3/2»\n",
      "                    «4G 1.778:2 2/9♩ 3/2,3/2»))\n",
      "---- Merged node:\n",
      "Node(3/2, «4C# 0:0.667 2/3♩ 3/2»\n",
      "          «4D 0.667:1.333 2/3♩ 3/2»\n",
      "          Node(3/2, «4E 1.333:1.556 2/9♩ 3/2,3/2»\n",
      "                    «4F 1.556:1.778 2/9♩ 3/2,3/2»\n",
      "                    «4G 1.778:2 2/9♩ 3/2,3/2»))\n",
      "[maelzel.scoring:quant.py:1936:resolveEnharmonics:DEBUG] Resolving enharmonics for measure 0\n"
     ]
    },
    {
     "name": "stdout",
     "output_type": "stream",
     "text": [
      "Part #0:\n",
      "  Measure #0\n",
      "    Timesig: 4/4(quarter=60)\n",
      "    Node ratio: 1/1, offset=0, end=4, dur=4, symbolicdur=4\n",
      "      Node ratio: 3/2, offset=0, end=2, dur=2, symbolicdur=2\n",
      "        «4C# 0:0.667 2/3♩ 3/2»\n",
      "        «4D 0.667:1.333 2/3♩ 3/2»\n",
      "        Node ratio: 3/2, offset=4/3, end=2, dur=2/3, symbolicdur=1\n",
      "          «4E 1.333:1.556 2/9♩ 3/2,3/2»\n",
      "          «4F 1.556:1.778 2/9♩ 3/2,3/2»\n",
      "          «4G 1.778:2 2/9♩ 3/2,3/2»\n",
      "      «rest 2:4 2♩»\n"
     ]
    }
   ],
   "source": [
    "v1 = Voice([\n",
    "    Note(\"4C#\", F(2, 3)),\n",
    "    Note(\"4D\", F(2, 3)),\n",
    "    Note(\"4E\", F(2, 3)*F(1, 3)),\n",
    "    Note(\"4F\", F(2, 3)*F(1, 3)),\n",
    "    Note(\"4G\", F(2, 3)*F(1, 3)),\n",
    "])\n",
    "\n",
    "v1.show()\n",
    "v1.quantizedScore().dump()"
   ]
  },
  {
   "cell_type": "code",
   "execution_count": 5,
   "id": "240874c5-68b9-4621-bde0-106dea007139",
   "metadata": {},
   "outputs": [
    {
     "name": "stderr",
     "output_type": "stream",
     "text": [
      "[maelzel.scoring:quant.py:1359:quantizeMeasure:DEBUG] Measure 4/4 is not filled (events=[«4C# 0:0.667 2/3♩», «4D 0.667:1 1/3♩», «4D# 1:1.333 1/3♩», «4E 1.333:1.556 2/9♩», «4F 1.556:1.778 2/9♩», «4G 1.778:2 2/9♩»]). Filling gaps with silences\n",
      "[maelzel.scoring:quant.py:1488:_mergeNodes:DEBUG] ---- Merged: Node(3/2, «4E 1.333:1.556 2/9♩ 3/2,3/2»\n",
      "          «4F 1.556:1.778 2/9♩ 3/2,3/2»\n",
      "          «4G 1.778:2 2/9♩ 3/2,3/2»)\n",
      "[maelzel.scoring:quant.py:1690:_mergeSiblings:DEBUG] Nodes can merge:\n",
      "Node(3/2, «4E 1.333:1.556 2/9♩ 3/2,3/2»\n",
      "          «4F~ 1.556:1.667 1/9♩ 3/2,3/2»)\n",
      "Node(3/2, «~4F 1.667:1.778 1/9♩ 3/2,3/2»\n",
      "          «4G 1.778:2 2/9♩ 3/2,3/2»)\n",
      "---- Merged node:\n",
      "Node(3/2, «4E 1.333:1.556 2/9♩ 3/2,3/2»\n",
      "          «4F 1.556:1.778 2/9♩ 3/2,3/2»\n",
      "          «4G 1.778:2 2/9♩ 3/2,3/2»)\n",
      "[maelzel.scoring:quant.py:1693:_mergeSiblings:DEBUG] Nodes cannot merge (no need to extend node over beat): \n",
      "Node(3/2, «4C# 0:0.667 2/3♩ 3/2»\n",
      "          «4D 0.667:1 1/3♩ 3/2»)\n",
      "Node(3/2, «4D# 1:1.333 1/3♩ 3/2»\n",
      "          Node(3/2, «4E 1.333:1.556 2/9♩ 3/2,3/2»\n",
      "                    «4F 1.556:1.778 2/9♩ 3/2,3/2»\n",
      "                    «4G 1.778:2 2/9♩ 3/2,3/2»))\n",
      "[maelzel.scoring:quant.py:1936:resolveEnharmonics:DEBUG] Resolving enharmonics for measure 0\n",
      "[maelzel.scoring:renderlily.py:1178:write:DEBUG] Rendering lilypond '/home/em/.cache/tmpu7bzd1ck/q4x3baei.ly' to '/home/em/.cache/tmpu7bzd1ck/q4x3baei.png'\n",
      "[maelzel.scoring:renderlily.py:1191:write:DEBUG] Found crop file '/home/em/.cache/tmpu7bzd1ck/q4x3baei.cropped.png', using that as output\n",
      "[maelzel.scoring:renderlily.py:1201:write:DEBUG] Moving /home/em/.cache/tmpu7bzd1ck/q4x3baei.cropped.png to /home/em/.cache/tmpu7bzd1ck/17woesyj.png\n"
     ]
    },
    {
     "data": {
      "image/png": "[encoded data removed]",
      "text/plain": [
       "<IPython.core.display.Image object>"
      ]
     },
     "metadata": {
      "image/png": {
       "width": 279
      }
     },
     "output_type": "display_data"
    },
    {
     "name": "stderr",
     "output_type": "stream",
     "text": [
      "[maelzel.scoring:quant.py:1359:quantizeMeasure:DEBUG] Measure 4/4 is not filled (events=[«4C# 0:0.667 2/3♩», «4D 0.667:1 1/3♩», «4D# 1:1.333 1/3♩», «4E 1.333:1.556 2/9♩», «4F 1.556:1.778 2/9♩», «4G 1.778:2 2/9♩»]). Filling gaps with silences\n",
      "[maelzel.scoring:quant.py:1488:_mergeNodes:DEBUG] ---- Merged: Node(3/2, «4E 1.333:1.556 2/9♩ 3/2,3/2»\n",
      "          «4F 1.556:1.778 2/9♩ 3/2,3/2»\n",
      "          «4G 1.778:2 2/9♩ 3/2,3/2»)\n",
      "[maelzel.scoring:quant.py:1690:_mergeSiblings:DEBUG] Nodes can merge:\n",
      "Node(3/2, «4E 1.333:1.556 2/9♩ 3/2,3/2»\n",
      "          «4F~ 1.556:1.667 1/9♩ 3/2,3/2»)\n",
      "Node(3/2, «~4F 1.667:1.778 1/9♩ 3/2,3/2»\n",
      "          «4G 1.778:2 2/9♩ 3/2,3/2»)\n",
      "---- Merged node:\n",
      "Node(3/2, «4E 1.333:1.556 2/9♩ 3/2,3/2»\n",
      "          «4F 1.556:1.778 2/9♩ 3/2,3/2»\n",
      "          «4G 1.778:2 2/9♩ 3/2,3/2»)\n",
      "[maelzel.scoring:quant.py:1693:_mergeSiblings:DEBUG] Nodes cannot merge (no need to extend node over beat): \n",
      "Node(3/2, «4C# 0:0.667 2/3♩ 3/2»\n",
      "          «4D 0.667:1 1/3♩ 3/2»)\n",
      "Node(3/2, «4D# 1:1.333 1/3♩ 3/2»\n",
      "          Node(3/2, «4E 1.333:1.556 2/9♩ 3/2,3/2»\n",
      "                    «4F 1.556:1.778 2/9♩ 3/2,3/2»\n",
      "                    «4G 1.778:2 2/9♩ 3/2,3/2»))\n",
      "[maelzel.scoring:quant.py:1936:resolveEnharmonics:DEBUG] Resolving enharmonics for measure 0\n"
     ]
    },
    {
     "name": "stdout",
     "output_type": "stream",
     "text": [
      "Part #0:\n",
      "  Measure #0\n",
      "    Timesig: 4/4(quarter=60)\n",
      "    Node ratio: 1/1, offset=0, end=4, dur=4, symbolicdur=4\n",
      "      Node ratio: 3/2, offset=0, end=1, dur=1, symbolicdur=1\n",
      "        «4C# 0:0.667 2/3♩ 3/2»\n",
      "        «4D 0.667:1 1/3♩ 3/2»\n",
      "      Node ratio: 3/2, offset=1, end=2, dur=1, symbolicdur=1\n",
      "        «4D# 1:1.333 1/3♩ 3/2»\n",
      "        Node ratio: 3/2, offset=4/3, end=2, dur=2/3, symbolicdur=1\n",
      "          «4E 1.333:1.556 2/9♩ 3/2,3/2»\n",
      "          «4F 1.556:1.778 2/9♩ 3/2,3/2»\n",
      "          «4G 1.778:2 2/9♩ 3/2,3/2»\n",
      "      «rest 2:4 2♩»\n"
     ]
    }
   ],
   "source": [
    "v1 = Voice([\n",
    "    Note(\"4C#\", F(2, 3)),\n",
    "    Note(\"4D\", F(1, 3)),\n",
    "    Note(\"4D#\", F(1, 3)),\n",
    "    \n",
    "    Note(\"4E\", F(2, 3)*F(1, 3)),\n",
    "    Note(\"4F\", F(2, 3)*F(1, 3)),\n",
    "    Note(\"4G\", F(2, 3)*F(1, 3)),\n",
    "])\n",
    "v1.show()\n",
    "v1.quantizedScore().dump()"
   ]
  },
  {
   "cell_type": "code",
   "execution_count": 6,
   "id": "c68e65f2-7566-4f14-88f4-6fe36f97c6d3",
   "metadata": {},
   "outputs": [
    {
     "name": "stderr",
     "output_type": "stream",
     "text": [
      "[maelzel.scoring:quant.py:1359:quantizeMeasure:DEBUG] Measure 4/4 is not filled (events=[«4C+20 0:0.333 1/3♩», «4Eb< 0.333:0.4 1/15♩», «4D 0.4:0.467 1/15♩», «4F+ 0.467:0.667 1/5♩», «4G 0.667:1 1/3♩»]). Filling gaps with silences\n",
      "[maelzel.scoring:node.py:821:_splitNotationAtBoundary:DEBUG] Found a syncopation but the callback was negative, so «rest 1:4 3♩» will not be split\n",
      "[maelzel.scoring:quant.py:1936:resolveEnharmonics:DEBUG] Resolving enharmonics for measure 0\n",
      "[maelzel.scoring:renderlily.py:1178:write:DEBUG] Rendering lilypond '/home/em/.cache/tmpu7bzd1ck/d2ggo2td.ly' to '/home/em/.cache/tmpu7bzd1ck/d2ggo2td.png'\n",
      "[maelzel.scoring:renderlily.py:1191:write:DEBUG] Found crop file '/home/em/.cache/tmpu7bzd1ck/d2ggo2td.cropped.png', using that as output\n",
      "[maelzel.scoring:renderlily.py:1201:write:DEBUG] Moving /home/em/.cache/tmpu7bzd1ck/d2ggo2td.cropped.png to /home/em/.cache/tmpu7bzd1ck/r25luwgn.png\n"
     ]
    },
    {
     "data": {
      "image/png": "[encoded data removed]",
      "text/plain": [
       "<IPython.core.display.Image object>"
      ]
     },
     "metadata": {
      "image/png": {
       "width": 410.25
      }
     },
     "output_type": "display_data"
    },
    {
     "name": "stderr",
     "output_type": "stream",
     "text": [
      "[maelzel.scoring:quant.py:1359:quantizeMeasure:DEBUG] Measure 4/4 is not filled (events=[«4C+20 0:0.333 1/3♩», «4Eb< 0.333:0.4 1/15♩», «4D 0.4:0.467 1/15♩», «4F+ 0.467:0.667 1/5♩», «4G 0.667:1 1/3♩»]). Filling gaps with silences\n",
      "[maelzel.scoring:node.py:821:_splitNotationAtBoundary:DEBUG] Found a syncopation but the callback was negative, so «rest 1:4 3♩» will not be split\n",
      "[maelzel.scoring:quant.py:1936:resolveEnharmonics:DEBUG] Resolving enharmonics for measure 0\n",
      "[maelzel.scoring:renderlily.py:1178:write:DEBUG] Rendering lilypond '/home/em/.cache/tmpu7bzd1ck/7jzd1rw1.ly' to '/home/em/.cache/tmpu7bzd1ck/7jzd1rw1.png'\n",
      "[maelzel.scoring:renderlily.py:1191:write:DEBUG] Found crop file '/home/em/.cache/tmpu7bzd1ck/7jzd1rw1.cropped.png', using that as output\n",
      "[maelzel.scoring:renderlily.py:1201:write:DEBUG] Moving /home/em/.cache/tmpu7bzd1ck/7jzd1rw1.cropped.png to /home/em/.cache/tmpu7bzd1ck/h36h88nw.png\n"
     ]
    },
    {
     "data": {
      "image/png": "[encoded data removed]",
      "text/plain": [
       "<IPython.core.display.Image object>"
      ]
     },
     "metadata": {
      "image/png": {
       "width": 314.25
      }
     },
     "output_type": "display_data"
    }
   ],
   "source": [
    "v = Voice([\n",
    "    \"4C+20:1/3\",\n",
    "    \"4Eb-25:1/15\",\n",
    "    \"4D:1/15\",\n",
    "    \"4F+:3/15\",\n",
    "    \"4G:1/3\",\n",
    "])\n",
    "\n",
    "with cfg.clone(quantNestedTuplets=False):\n",
    "    v.show()\n",
    "v.show()"
   ]
  },
  {
   "cell_type": "code",
   "execution_count": 7,
   "id": "b2e387ba-bbc2-4efa-8257-b28cb2efc39e",
   "metadata": {
    "tags": []
   },
   "outputs": [
    {
     "name": "stderr",
     "output_type": "stream",
     "text": [
      "--Csound version 7.0 (double samples) Feb 25 2025\n",
      "[commit: 2d7b783a0ed4e67b6764d69cfb29edefdaea8826]\n",
      "\u001b[mlibsndfile-1.2.2\n",
      "\u001b[msr = 48000.0,\u001b[m kr = 750.000,\u001b[m ksmps = 64\n",
      "\u001b[m0dBFS level = 1.0,\u001b[m A4 tuning = 440.0\n",
      "\u001b[maudio buffered in 256 sample-frame blocks\n",
      "\u001b[mreading 2048-byte blks of shorts from adc:Built-in Audio Analog Stereo: (RAW)\n",
      "writing 512 sample blks of 64-bit floats to dac:Built-in Audio Analog Stereo:\n",
      "SECTION 1:\n",
      "\u001b[m"
     ]
    },
    {
     "data": {
      "application/vnd.jupyter.widget-view+json": {
       "model_id": "5a5337d06d294ee487e97f2cbb1159c5",
       "version_major": 2,
       "version_minor": 0
      },
      "text/plain": [
       "Button(description='Stop', style=ButtonStyle())"
      ]
     },
     "metadata": {},
     "output_type": "display_data"
    },
    {
     "data": {
      "application/vnd.jupyter.widget-view+json": {
       "model_id": "a2c15ab50c8f40108ce5fcc2b231ba37",
       "version_major": 2,
       "version_minor": 0
      },
      "text/plain": [
       "Output()"
      ]
     },
     "metadata": {},
     "output_type": "display_data"
    },
    {
     "data": {
      "text/html": [
       "<small><span style=\"\"><b>SynthGroup</b></span>(synths=<code style=\"\">5</code>)</small>\n",
       "<p><small>Instr: <strong style=\"color:MediumSeaGreen\">preset:saw</strong> - <b>5</b> synths</small></p>\n",
       "<table style=\"font-size: smaller\"<thead><tr><th style=\"text-align:left\">p1</th><th style=\"text-align:left\">start</th><th style=\"text-align:left\">dur</th><th style=\"text-align:left\">p4</th><th style=\"text-align:left\">kpos</th><th style=\"text-align:left\">kgain</th><th style=\"text-align:left\">idataidx_</th><th style=\"text-align:left\">inumbps</th><th style=\"text-align:left\">ibplen</th><th style=\"text-align:left\">ichan</th><th style=\"text-align:left\">ifadein</th><th style=\"text-align:left\">ifadeout</th><th style=\"text-align:left\">ipchintrp_</th><th style=\"text-align:left\">ifadekind</th><th style=\"text-align:left\">ktransp</th><th style=\"text-align:left\">klag</th><th style=\"text-align:left\">kcutoffratio</th><th style=\"text-align:left\">kfilterq</th><th style=\"text-align:left\">19</th><th style=\"text-align:left\">20</th><th style=\"text-align:left\">21</th><th style=\"text-align:left\">22</th><th style=\"text-align:left\">23</th><th style=\"text-align:left\">...</th></tr></thead><tbody><tr><td style=\"text-align:left\">501.0002 <b>𝍪</b></td><td style=\"text-align:left\">0.039</td><td style=\"text-align:left\">0.333</td><td style=\"text-align:left\">0</td><td style=\"text-align:left\">0.5</td><td style=\"text-align:left\">1</td><td style=\"text-align:left\">19</td><td style=\"text-align:left\">2</td><td style=\"text-align:left\">3</td><td style=\"text-align:left\">1</td><td style=\"text-align:left\">0.02</td><td style=\"text-align:left\">0.02</td><td style=\"text-align:left\">0</td><td style=\"text-align:left\">1</td><td style=\"text-align:left\">0</td><td style=\"text-align:left\">0.1</td><td style=\"text-align:left\">0</td><td style=\"text-align:left\">3</td><td style=\"text-align:left\">0</td><td style=\"text-align:left\">60.2</td><td style=\"text-align:left\">0.51518</td><td style=\"text-align:left\">0.33333</td><td style=\"text-align:left\">...</td></tr><tr><td style=\"text-align:left\">501.0003 <b>𝍪</b></td><td style=\"text-align:left\">0.372</td><td style=\"text-align:left\">0.067</td><td style=\"text-align:left\">0</td><td style=\"text-align:left\">0.5</td><td style=\"text-align:left\">1</td><td style=\"text-align:left\">19</td><td style=\"text-align:left\">2</td><td style=\"text-align:left\">3</td><td style=\"text-align:left\">1</td><td style=\"text-align:left\">0.02</td><td style=\"text-align:left\">0.02</td><td style=\"text-align:left\">0</td><td style=\"text-align:left\">1</td><td style=\"text-align:left\">0</td><td style=\"text-align:left\">0.1</td><td style=\"text-align:left\">0</td><td style=\"text-align:left\">3</td><td style=\"text-align:left\">0</td><td style=\"text-align:left\">62.75</td><td style=\"text-align:left\">0.51518</td><td style=\"text-align:left\">0.066667</td><td style=\"text-align:left\">...</td></tr><tr><td style=\"text-align:left\">501.0004 <b>𝍪</b></td><td style=\"text-align:left\">0.439</td><td style=\"text-align:left\">0.067</td><td style=\"text-align:left\">0</td><td style=\"text-align:left\">0.5</td><td style=\"text-align:left\">1</td><td style=\"text-align:left\">19</td><td style=\"text-align:left\">2</td><td style=\"text-align:left\">3</td><td style=\"text-align:left\">1</td><td style=\"text-align:left\">0.02</td><td style=\"text-align:left\">0.02</td><td style=\"text-align:left\">0</td><td style=\"text-align:left\">1</td><td style=\"text-align:left\">0</td><td style=\"text-align:left\">0.1</td><td style=\"text-align:left\">0</td><td style=\"text-align:left\">3</td><td style=\"text-align:left\">0</td><td style=\"text-align:left\">62</td><td style=\"text-align:left\">0.51518</td><td style=\"text-align:left\">0.066667</td><td style=\"text-align:left\">...</td></tr><tr><td style=\"text-align:left\">501.0005 <b>𝍪</b></td><td style=\"text-align:left\">0.505</td><td style=\"text-align:left\">0.200</td><td style=\"text-align:left\">0</td><td style=\"text-align:left\">0.5</td><td style=\"text-align:left\">1</td><td style=\"text-align:left\">19</td><td style=\"text-align:left\">2</td><td style=\"text-align:left\">3</td><td style=\"text-align:left\">1</td><td style=\"text-align:left\">0.02</td><td style=\"text-align:left\">0.02</td><td style=\"text-align:left\">0</td><td style=\"text-align:left\">1</td><td style=\"text-align:left\">0</td><td style=\"text-align:left\">0.1</td><td style=\"text-align:left\">0</td><td style=\"text-align:left\">3</td><td style=\"text-align:left\">0</td><td style=\"text-align:left\">65.5</td><td style=\"text-align:left\">0.51518</td><td style=\"text-align:left\">0.2</td><td style=\"text-align:left\">...</td></tr><tr><td style=\"text-align:left\">...</td></tr></tbody></table>"
      ],
      "text/plain": [
       "SynthGroup(n=5)\n",
       "    Synth(𝍪 preset:saw=501.0002 start=0.637 dur=0.333 p5=0.5 kpos=1 kgain=19 idataidx_=2 inumbps=3 ibplen=1 ichan=0.02 ifadein=0.02 ifadeout=0 ipchintrp_=1 ifadekind=0 ktransp=0.1 klag=0 kcutoffratio=3 kfilterq=0 p20=60.2 p21=0.515178 p22=0.333333 p23=60.2 …)\n",
       "    Synth(𝍪 preset:saw=501.0003 start=0.970 dur=0.067 p5=0.5 kpos=1 kgain=19 idataidx_=2 inumbps=3 ibplen=1 ichan=0.02 ifadein=0.02 ifadeout=0 ipchintrp_=1 ifadekind=0 ktransp=0.1 klag=0 kcutoffratio=3 kfilterq=0 p20=62.75 p21=0.515178 p22=0.0666667 p23=62.75 …)\n",
       "    Synth(𝍪 preset:saw=501.0004 start=1.037 dur=0.067 p5=0.5 kpos=1 kgain=19 idataidx_=2 inumbps=3 ibplen=1 ichan=0.02 ifadein=0.02 ifadeout=0 ipchintrp_=1 ifadekind=0 ktransp=0.1 klag=0 kcutoffratio=3 kfilterq=0 p20=62 p21=0.515178 p22=0.0666667 p23=62 …)\n",
       "    Synth(𝍪 preset:saw=501.0005 start=1.103 dur=0.200 p5=0.5 kpos=1 kgain=19 idataidx_=2 inumbps=3 ibplen=1 ichan=0.02 ifadein=0.02 ifadeout=0 ipchintrp_=1 ifadekind=0 ktransp=0.1 klag=0 kcutoffratio=3 kfilterq=0 p20=65.5 p21=0.515178 p22=0.2 p23=65.5 …)\n",
       "    Synth(𝍪 preset:saw=501.0006 start=1.303 dur=0.333 p5=0.5 kpos=1 kgain=19 idataidx_=2 inumbps=3 ibplen=1 ichan=0.02 ifadein=0.02 ifadeout=0 ipchintrp_=1 ifadekind=0 ktransp=0.1 klag=0 kcutoffratio=3 kfilterq=0 p20=67 p21=0.515178 p22=0.333333 p23=67 …)"
      ]
     },
     "execution_count": 7,
     "metadata": {},
     "output_type": "execute_result"
    }
   ],
   "source": [
    "v.play(instr='saw')"
   ]
  },
  {
   "cell_type": "code",
   "execution_count": 8,
   "id": "b3f79161-3487-466e-9a44-8ded57704ee9",
   "metadata": {},
   "outputs": [
    {
     "name": "stderr",
     "output_type": "stream",
     "text": [
      "[maelzel.scoring:quant.py:1359:quantizeMeasure:DEBUG] Measure 4/4 is not filled (events=[«4C+20 0:0.333 1/3♩», «4Eb< 0.333:0.4 1/15♩», «4D 0.4:0.467 1/15♩», «4F+ 0.467:0.667 1/5♩», «4G 0.667:1 1/3♩»]). Filling gaps with silences\n",
      "[maelzel.scoring:node.py:821:_splitNotationAtBoundary:DEBUG] Found a syncopation but the callback was negative, so «rest 1:4 3♩» will not be split\n",
      "[maelzel.scoring:quant.py:1936:resolveEnharmonics:DEBUG] Resolving enharmonics for measure 0\n",
      "[maelzel.scoring:rendermusicxml.py:761:_renderNode:DEBUG] Starting tuplet (15, 8) at «4C+20~ 0:0.267 4/15♩ 15/8 attachments=[Clef(kind=treble)] properties={'.forwardTies': {0}, 'clef': 'treble'}»\n",
      "[maelzel.scoring:rendermusicxml.py:761:_renderNode:DEBUG] Starting tuplet (3, 2) at «~4F+ 0.5:0.667 1/6♩ 3/2 properties={'.backwardTies': {0}}»\n",
      "[maelzel.scoring:rendermusicxml.py:1145:callMuseScore:DEBUG] Rendering musicxml via MuseScore. Args: ['/home/em/.local/bin/musescore', '-o', '/home/em/.cache/tmpu7bzd1ck/b6ha2ey8.png', '--force', '--image-resolution', '200', '--trim-image', '20', '/home/em/.cache/tmpu7bzd1ck/u78879s6.musicxml']\n"
     ]
    },
    {
     "data": {
      "image/png": "[encoded data removed]",
      "text/plain": [
       "<IPython.core.display.Image object>"
      ]
     },
     "metadata": {
      "image/png": {
       "width": 172.8
      }
     },
     "output_type": "display_data"
    },
    {
     "name": "stderr",
     "output_type": "stream",
     "text": [
      "[maelzel.scoring:quant.py:1359:quantizeMeasure:DEBUG] Measure 4/4 is not filled (events=[«4C+20 0:0.333 1/3♩», «4Eb< 0.333:0.4 1/15♩», «4D 0.4:0.467 1/15♩», «4F+ 0.467:0.667 1/5♩», «4G 0.667:1 1/3♩»]). Filling gaps with silences\n",
      "[maelzel.scoring:node.py:821:_splitNotationAtBoundary:DEBUG] Found a syncopation but the callback was negative, so «rest 1:4 3♩» will not be split\n",
      "[maelzel.scoring:quant.py:1936:resolveEnharmonics:DEBUG] Resolving enharmonics for measure 0\n"
     ]
    },
    {
     "name": "stdout",
     "output_type": "stream",
     "text": [
      "Part #0:\n",
      "  Measure #0\n",
      "    Timesig: 4/4(quarter=60)\n",
      "    Node ratio: 1/1, offset=0, end=4, dur=4, symbolicdur=4\n",
      "      Node ratio: 15/8, offset=0, end=1/2, dur=1/2, symbolicdur=1/2\n",
      "        «4C+20~ 0:0.267 4/15♩ 15/8 properties={'.forwardTies': {0}}»\n",
      "        «~4C+20 0.267:0.333 1/15♩ 15/8 properties={'.backwardTies': {0}}»\n",
      "        «4Eb< 0.333:0.4 1/15♩ 15/8»\n",
      "        «4D 0.4:0.467 1/15♩ 15/8»\n",
      "        «4F+~ 0.467:0.5 1/30♩ 15/8 properties={'.forwardTies': {0}}»\n",
      "      Node ratio: 3/2, offset=1/2, end=1, dur=1/2, symbolicdur=1/2\n",
      "        «~4F+ 0.5:0.667 1/6♩ 3/2 properties={'.backwardTies': {0}}»\n",
      "        «4G 0.667:1 1/3♩ 3/2»\n",
      "      «rest 1:4 3♩»\n"
     ]
    }
   ],
   "source": [
    "# v.show(backend='musicxml')\n",
    "\n",
    "with getConfig().clone(quantNestedTuplets=False):\n",
    "    v.show(backend='musicxml')\n",
    "    v.quantizedScore().dump()"
   ]
  },
  {
   "cell_type": "code",
   "execution_count": 12,
   "id": "0f045590-7fad-4efe-b37b-425f90181a37",
   "metadata": {},
   "outputs": [
    {
     "name": "stderr",
     "output_type": "stream",
     "text": [
      "[maelzel.scoring:quant.py:1359:quantizeMeasure:DEBUG] Measure 4/4 is not filled (events=[«4C+20 0:0.333 1/3♩», «4Eb< 0.333:0.4 1/15♩», «4D 0.4:0.467 1/15♩», «4F+ 0.467:0.667 1/5♩», «4G 0.667:1 1/3♩»]). Filling gaps with silences\n",
      "[maelzel.scoring:node.py:818:_splitNotationAtBoundary:DEBUG] Found a syncopation but the callback was negative, so «rest 1:4 3♩» will not be split\n",
      "[maelzel.scoring:quant.py:1936:resolveEnharmonics:DEBUG] Resolving enharmonics for measure 0\n",
      "[maelzel.scoring:rendermusicxml.py:761:_renderNode:DEBUG] Starting tuplet (7, 4) at «~4C+20 0.25:0.321 1/14♩ 7/4 properties={'.backwardTies': {0}}»\n",
      "[maelzel.scoring:rendermusicxml.py:761:_renderNode:DEBUG] Starting tuplet (3, 2) at «~4F+ 0.5:0.667 1/6♩ 3/2 properties={'.backwardTies': {0}}»\n"
     ]
    }
   ],
   "source": [
    "with CoreConfig(quantNestedTuplets=False):\n",
    "    v.write(\"~/tmp/nested-test.musicxml\")"
   ]
  },
  {
   "cell_type": "code",
   "execution_count": 15,
   "id": "5ddeff21-b92d-4129-b452-b75598560f6c",
   "metadata": {},
   "outputs": [
    {
     "name": "stderr",
     "output_type": "stream",
     "text": [
      "[maelzel.scoring:quant.py:1359:quantizeMeasure:DEBUG] Measure 4/4 is not filled (events=[«4C# 0:0.667 2/3♩», «4D 0.667:1.333 2/3♩», «4E 1.333:1.556 2/9♩», «4F 1.556:1.778 2/9♩», «4G 1.778:2 2/9♩»]). Filling gaps with silences\n",
      "[maelzel.scoring:quant.py:1936:resolveEnharmonics:DEBUG] Resolving enharmonics for measure 0\n",
      "[maelzel.scoring:renderlily.py:1178:write:DEBUG] Rendering lilypond '/home/em/.cache/tmpn4w0084p/s8r0izn6.ly' to '/home/em/.cache/tmpn4w0084p/s8r0izn6.png'\n",
      "[maelzel.scoring:renderlily.py:1191:write:DEBUG] Found crop file '/home/em/.cache/tmpn4w0084p/s8r0izn6.cropped.png', using that as output\n",
      "[maelzel.scoring:renderlily.py:1201:write:DEBUG] Moving /home/em/.cache/tmpn4w0084p/s8r0izn6.cropped.png to /home/em/.cache/tmpn4w0084p/u8se7qi7.png\n"
     ]
    },
    {
     "data": {
      "image/png": "[encoded data removed]",
      "text/plain": [
       "<IPython.core.display.Image object>"
      ]
     },
     "metadata": {
      "image/png": {
       "width": 279
      }
     },
     "output_type": "display_data"
    },
    {
     "name": "stderr",
     "output_type": "stream",
     "text": [
      "[maelzel.scoring:quant.py:1359:quantizeMeasure:DEBUG] Measure 4/4 is not filled (events=[«4C# 0:0.667 2/3♩», «4D 0.667:1.333 2/3♩», «4E 1.333:1.556 2/9♩», «4F 1.556:1.778 2/9♩», «4G 1.778:2 2/9♩»]). Filling gaps with silences\n",
      "[maelzel.scoring:quant.py:1936:resolveEnharmonics:DEBUG] Resolving enharmonics for measure 0\n",
      "[maelzel.scoring:rendermusicxml.py:761:_renderNode:DEBUG] Starting tuplet (3, 2) at «4C# 0:0.667 2/3♩ 3/2 attachments=[Clef(kind=treble)] properties={'clef': 'treble'}»\n",
      "[maelzel.scoring:rendermusicxml.py:761:_renderNode:DEBUG] Starting tuplet (9, 8) at «~4D 1:1.333 1/3♩ 9/8 properties={'.backwardTies': {0}}»\n",
      "[maelzel.scoring:rendermusicxml.py:1145:callMuseScore:DEBUG] Rendering musicxml via MuseScore. Args: ['/home/em/.local/bin/musescore', '-o', '/home/em/.cache/tmpn4w0084p/3g_u0vhi.png', '--force', '--image-resolution', '200', '--trim-image', '20', '/home/em/.cache/tmpn4w0084p/98onwjnh.musicxml']\n"
     ]
    },
    {
     "data": {
      "image/png": "[encoded data removed]",
      "text/plain": [
       "<IPython.core.display.Image object>"
      ]
     },
     "metadata": {
      "image/png": {
       "width": 157.8
      }
     },
     "output_type": "display_data"
    },
    {
     "name": "stderr",
     "output_type": "stream",
     "text": [
      "[maelzel.scoring:quant.py:1359:quantizeMeasure:DEBUG] Measure 4/4 is not filled (events=[«4C# 0:0.667 2/3♩», «4D 0.667:1.333 2/3♩», «4E 1.333:1.556 2/9♩», «4F 1.556:1.778 2/9♩», «4G 1.778:2 2/9♩»]). Filling gaps with silences\n",
      "[maelzel.scoring:quant.py:1936:resolveEnharmonics:DEBUG] Resolving enharmonics for measure 0\n",
      "[maelzel.scoring:rendermusicxml.py:761:_renderNode:DEBUG] Starting tuplet (3, 2) at «4C# 0:0.667 2/3♩ 3/2 attachments=[Clef(kind=treble)] properties={'clef': 'treble'}»\n",
      "[maelzel.scoring:rendermusicxml.py:761:_renderNode:DEBUG] Starting tuplet (9, 8) at «~4D 1:1.333 1/3♩ 9/8 properties={'.backwardTies': {0}}»\n"
     ]
    }
   ],
   "source": [
    "v1 = Voice([\n",
    "    Note(\"4C#\", F(2, 3)),\n",
    "    Note(\"4D\", F(2, 3)),\n",
    "    Note(\"4E\", F(2, 3)*F(1, 3)),\n",
    "    Note(\"4F\", F(2, 3)*F(1, 3)),\n",
    "    Note(\"4G\", F(2, 3)*F(1, 3)),\n",
    "])\n",
    "\n",
    "with getConfig().clone(quantNestedTuplets=False):\n",
    "    v1.show()\n",
    "    v1.show(backend='musicxml')\n",
    "    v1.write(\"~/tmp/nested2.musicxml\")"
   ]
  },
  {
   "cell_type": "code",
   "execution_count": null,
   "id": "98f1a17e-3ebd-4642-9340-6726e6bdf042",
   "metadata": {},
   "outputs": [],
   "source": []
  }
 ],
 "metadata": {
  "kernelspec": {
   "display_name": "Python 3 (ipykernel)",
   "language": "python",
   "name": "python3"
  },
  "language_info": {
   "codemirror_mode": {
    "name": "ipython",
    "version": 3
   },
   "file_extension": ".py",
   "mimetype": "text/x-python",
   "name": "python",
   "nbconvert_exporter": "python",
   "pygments_lexer": "ipython3",
   "version": "3.12.7"
  }
 },
 "nbformat": 4,
 "nbformat_minor": 5
}
