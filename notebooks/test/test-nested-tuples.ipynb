{
 "cells": [
  {
   "cell_type": "code",
   "execution_count": 1,
   "id": "f38a2d43-8d64-4418-ab74-0a30d852d159",
   "metadata": {},
   "outputs": [],
   "source": [
    "from maelzel.core import *\n",
    "from maelzel import scoring"
   ]
  },
  {
   "cell_type": "code",
   "execution_count": 2,
   "id": "0d21c832-f0b9-43da-9b2a-e85da081e61f",
   "metadata": {},
   "outputs": [],
   "source": [
    "cfg = getConfig()\n",
    "cfg['.quant.debug'] = True\n",
    "cfg['quant.complexity'] = 'highest'\n",
    "scoring.logger.setLevel(\"DEBUG\")"
   ]
  },
  {
   "cell_type": "code",
   "execution_count": 3,
   "id": "6801b1f7-b59e-4f82-b746-c8429ee306d8",
   "metadata": {
    "tags": []
   },
   "outputs": [
    {
     "name": "stderr",
     "output_type": "stream",
     "text": [
      "[maelzel.scoring:quant.py:1364:quantizeMeasure:DEBUG] Measure 4/4 is not filled (events=[«4C# 0:0.667 2/3♩», «4D 0.667:1.333 2/3♩», «4E 1.333:2 2/3♩»]). Filling gaps with silences\n"
     ]
    },
    {
     "name": "stdout",
     "output_type": "stream",
     "text": [
      "Beat: 0 - 1 (dur: 1)\n",
      "Best 1 divisions: (quantized in 1.0ms)\n"
     ]
    },
    {
     "data": {
      "text/html": [
       "<table>\n",
       "<thead>\n",
       "<tr><th style=\"text-align: right;\">  error</th><th>div  </th><th>snapped                                 </th><th>slots  </th><th>info                                                                                                                                                           </th></tr>\n",
       "</thead>\n",
       "<tbody>\n",
       "<tr><td style=\"text-align: right;\">      0</td><td>(3,) </td><td>[«4C# 0:0.667 2/3♩», «4D~ 0.667:1 1/3♩»]</td><td>[0, 2] </td><td>gridError=0, rhythmComplexity=0 (numNotesAcrossSubdivs=0, numTies=0), divPenalty=0 (0, divPenalty=0, cardinalityPenalty=0, numSubdivsPenalty=0, levelPenalty=0)</td></tr>\n",
       "</tbody>\n",
       "</table>"
      ],
      "text/plain": [
       "<IPython.core.display.HTML object>"
      ]
     },
     "metadata": {},
     "output_type": "display_data"
    },
    {
     "name": "stdout",
     "output_type": "stream",
     "text": [
      "Beat: 1 - 2 (dur: 1)\n",
      "Best 1 divisions: (quantized in 393.6µs)\n"
     ]
    },
    {
     "data": {
      "text/html": [
       "<table>\n",
       "<thead>\n",
       "<tr><th style=\"text-align: right;\">  error</th><th>div  </th><th>snapped                                </th><th>slots  </th><th>info                                                                                                                                                           </th></tr>\n",
       "</thead>\n",
       "<tbody>\n",
       "<tr><td style=\"text-align: right;\">      0</td><td>(3,) </td><td>[«~4D 0:0.333 1/3♩», «4E 0.333:1 2/3♩»]</td><td>[0, 1] </td><td>gridError=0, rhythmComplexity=0 (numNotesAcrossSubdivs=0, numTies=0), divPenalty=0 (0, divPenalty=0, cardinalityPenalty=0, numSubdivsPenalty=0, levelPenalty=0)</td></tr>\n",
       "</tbody>\n",
       "</table>"
      ],
      "text/plain": [
       "<IPython.core.display.HTML object>"
      ]
     },
     "metadata": {},
     "output_type": "display_data"
    },
    {
     "name": "stderr",
     "output_type": "stream",
     "text": [
      "[maelzel.scoring:quant.py:1677:_mergeSiblings:DEBUG] Nodes can merge: \n",
      "    Node(3/2, \n",
      "  «4C# 0:0.667 2/3♩ 3/2»\n",
      "  «4D~ 0.667:1 1/3♩ 3/2»\n",
      ")\n",
      "    Node(3/2, \n",
      "  «~4D 1:1.333 1/3♩ 3/2»\n",
      "  «4E 1.333:2 2/3♩ 3/2»\n",
      ")\n",
      "[maelzel.scoring:quant.py:1680:_mergeSiblings:DEBUG] ---- Merged node:\n",
      "    Node(3/2, \n",
      "  «4C# 0:0.667 2/3♩ 3/2»\n",
      "  «4D 0.667:1.333 2/3♩ 3/2»\n",
      "  «4E 1.333:2 2/3♩ 3/2»\n",
      ")\n",
      "[maelzel.scoring:quant.py:1677:_mergeSiblings:DEBUG] Nodes can merge: \n",
      "    Node(1/1, \n",
      "  «rest 2:3 1♩»\n",
      ")\n",
      "    Node(1/1, \n",
      "  «rest 3:4 1♩»\n",
      ")\n",
      "[maelzel.scoring:quant.py:1680:_mergeSiblings:DEBUG] ---- Merged node:\n",
      "    Node(1/1, \n",
      "  «rest 2:4 2♩»\n",
      ")\n",
      "[maelzel.scoring:node.py:707:_splitUnnecessaryNodes:DEBUG] Did not split node Node(1/1, \n",
      "  Node(3/2, \n",
      "    «4C# 0:0.667 2/3♩ 3/2»\n",
      "    «4D 0.667:1.333 2/3♩ 3/2»\n",
      "    «4E 1.333:2 2/3♩ 3/2»\n",
      "  )\n",
      "  Node(1/1, \n",
      "    «rest 2:4 2♩»\n",
      "  )\n",
      ") at 1\n",
      "[maelzel.scoring:node.py:707:_splitUnnecessaryNodes:DEBUG] Did not split node Node(1/1, \n",
      "  Node(3/2, \n",
      "    «4C# 0:0.667 2/3♩ 3/2»\n",
      "    «4D 0.667:1.333 2/3♩ 3/2»\n",
      "    «4E 1.333:2 2/3♩ 3/2»\n",
      "  )\n",
      "  Node(1/1, \n",
      "    «rest 2:4 2♩»\n",
      "  )\n",
      ") at 3\n",
      "[maelzel.scoring:renderlily.py:1141:write:DEBUG] Rendering lilypond '/home/em/.cache/tmp45dg4xdg/5xhwsnt7.ly' to '/home/em/.cache/tmp45dg4xdg/5xhwsnt7.png'\n",
      "[maelzel.scoring:renderlily.py:1154:write:DEBUG] Found crop file /home/em/.cache/tmp45dg4xdg/5xhwsnt7.cropped.png, using that as output\n"
     ]
    },
    {
     "data": {
      "text/html": [
       "<code style=\"white-space: pre-line; font-size:0.9em;\">Voice([<span style=\"color:#6666E0\">4C#:0.667♩</span>, <span style=\"color:#6666E0\">4D:0.667♩</span>, <span style=\"color:#6666E0\">4E:0.667♩</span>], dur=2)</code><br>\n",
       "        <img style=\"display:inline; padding:10px;\n",
       "margin-top:14px;\n",
       "width:233px\"\n",
       "             src=\"data:image/png;base64,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\"/>"
      ],
      "text/plain": [
       "Voice([4C#:0.667♩, 4D:0.667♩, 4E:0.667♩])"
      ]
     },
     "execution_count": 3,
     "metadata": {},
     "output_type": "execute_result"
    }
   ],
   "source": [
    "v1 = Voice([\n",
    "    Note(\"4C#\", F(2, 3)),\n",
    "    Note(\"4D\", F(2, 3)),\n",
    "    Note(\"4E\", F(2, 3)),\n",
    "])\n",
    "v1"
   ]
  },
  {
   "cell_type": "code",
   "execution_count": 4,
   "id": "b101979d-06bb-4f05-a4ea-7dbd0b24ff6f",
   "metadata": {},
   "outputs": [
    {
     "name": "stderr",
     "output_type": "stream",
     "text": [
      "[maelzel.scoring:quant.py:1364:quantizeMeasure:DEBUG] Measure 4/4 is not filled (events=[«4C# 0:0.667 2/3♩», «4D 0.667:1.333 2/3♩», «4E 1.333:1.556 2/9♩», «4F 1.556:1.778 2/9♩», «4G 1.778:2 2/9♩»]). Filling gaps with silences\n"
     ]
    },
    {
     "name": "stdout",
     "output_type": "stream",
     "text": [
      "Beat: 0 - 1 (dur: 1)\n",
      "Best 1 divisions: (quantized in 1.6ms)\n"
     ]
    },
    {
     "data": {
      "text/html": [
       "<table>\n",
       "<thead>\n",
       "<tr><th style=\"text-align: right;\">  error</th><th>div  </th><th>snapped                                 </th><th>slots  </th><th>info                                                                                                                                                           </th></tr>\n",
       "</thead>\n",
       "<tbody>\n",
       "<tr><td style=\"text-align: right;\">      0</td><td>(3,) </td><td>[«4C# 0:0.667 2/3♩», «4D~ 0.667:1 1/3♩»]</td><td>[0, 2] </td><td>gridError=0, rhythmComplexity=0 (numNotesAcrossSubdivs=0, numTies=0), divPenalty=0 (0, divPenalty=0, cardinalityPenalty=0, numSubdivsPenalty=0, levelPenalty=0)</td></tr>\n",
       "</tbody>\n",
       "</table>"
      ],
      "text/plain": [
       "<IPython.core.display.HTML object>"
      ]
     },
     "metadata": {},
     "output_type": "display_data"
    },
    {
     "name": "stderr",
     "output_type": "stream",
     "text": [
      "[maelzel.scoring:quant.py:951:quantizeBeatBinary:DEBUG] Skipping (8,), gridError=0.2678143330795103 * 1.0 > minError=0.2638627687823378\n",
      "[maelzel.scoring:quant.py:968:quantizeBeatBinary:DEBUG] Skipping (3, 9), totalError=0.0021095023109728986 > minError=0.0017888543819998318\n",
      "[maelzel.scoring:quant.py:942:quantizeBeatBinary:DEBUG] Skipping (8, 9), divPenalty=0.0412311 * 0.0447214 > minError=0.00178885\n"
     ]
    },
    {
     "name": "stdout",
     "output_type": "stream",
     "text": [
      "Beat: 1 - 2 (dur: 1)\n",
      "Best 3 divisions: (quantized in 115.3ms)\n"
     ]
    },
    {
     "data": {
      "text/html": [
       "<table>\n",
       "<thead>\n",
       "<tr><th style=\"text-align: right;\">  error</th><th>div      </th><th>snapped                                                                              </th><th>slots       </th><th>info                                                                                                                                                                         </th></tr>\n",
       "</thead>\n",
       "<tbody>\n",
       "<tr><td style=\"text-align: right;\"> 0.0011</td><td>(1, 3, 3)</td><td>[«~4D 0:0.333 1/3♩», «4E 0.333:0.556 2/9♩», «4F 0.556:0.778 2/9♩», «4G 0.778:1 2/9♩»]</td><td>[0, 1, 3, 5]</td><td>gridError=0, rhythmComplexity=0.112 (numNotesAcrossSubdivs=1, numTies=0), divPenalty=0 (0, divPenalty=0, cardinalityPenalty=0, numSubdivsPenalty=0, levelPenalty=0)          </td></tr>\n",
       "<tr><td style=\"text-align: right;\"> 0.0018</td><td>(9,)     </td><td>[«~4D 0:0.333 1/3♩», «4E 0.333:0.556 2/9♩», «4F 0.556:0.778 2/9♩», «4G 0.778:1 2/9♩»]</td><td>[0, 3, 5, 7]</td><td>gridError=0, rhythmComplexity=0 (numNotesAcrossSubdivs=0, numTies=0), divPenalty=0.04 (8e-05, divPenalty=0.04, cardinalityPenalty=0, numSubdivsPenalty=0, levelPenalty=0)    </td></tr>\n",
       "<tr><td style=\"text-align: right;\"> 0.2639</td><td>(6,)     </td><td>[«~4D 0:0.333 1/3♩», «4E 0.333:0.5 1/6♩», «4F 0.5:0.833 1/3♩», «4G 0.833:1 1/6♩»]    </td><td>[0, 2, 3, 5]</td><td>gridError=0.264, rhythmComplexity=0 (numNotesAcrossSubdivs=0, numTies=0), divPenalty=0.02 (4e-05, divPenalty=0.02, cardinalityPenalty=0, numSubdivsPenalty=0, levelPenalty=0)</td></tr>\n",
       "</tbody>\n",
       "</table>"
      ],
      "text/plain": [
       "<IPython.core.display.HTML object>"
      ]
     },
     "metadata": {},
     "output_type": "display_data"
    },
    {
     "name": "stderr",
     "output_type": "stream",
     "text": [
      "[maelzel.scoring:quant.py:1677:_mergeSiblings:DEBUG] Nodes can merge: \n",
      "    Node(3/2, \n",
      "  «4E 1.333:1.556 2/9♩ 3/2,3/2»\n",
      "  «4F~ 1.556:1.667 1/9♩ 3/2,3/2»\n",
      ")\n",
      "    Node(3/2, \n",
      "  «~4F 1.667:1.778 1/9♩ 3/2,3/2»\n",
      "  «4G 1.778:2 2/9♩ 3/2,3/2»\n",
      ")\n",
      "[maelzel.scoring:quant.py:1680:_mergeSiblings:DEBUG] ---- Merged node:\n",
      "    Node(3/2, \n",
      "  «4E 1.333:1.556 2/9♩ 3/2,3/2»\n",
      "  «4F 1.556:1.778 2/9♩ 3/2,3/2»\n",
      "  «4G 1.778:2 2/9♩ 3/2,3/2»\n",
      ")\n",
      "[maelzel.scoring:quant.py:1677:_mergeSiblings:DEBUG] Nodes can merge: \n",
      "    Node(3/2, \n",
      "  «4C# 0:0.667 2/3♩ 3/2»\n",
      "  «4D~ 0.667:1 1/3♩ 3/2»\n",
      ")\n",
      "    Node(3/2, \n",
      "  «~4D 1:1.333 1/3♩ 3/2»\n",
      "  Node(3/2, \n",
      "    «4E 1.333:1.556 2/9♩ 3/2,3/2»\n",
      "    «4F 1.556:1.778 2/9♩ 3/2,3/2»\n",
      "    «4G 1.778:2 2/9♩ 3/2,3/2»\n",
      "  )\n",
      ")\n",
      "[maelzel.scoring:quant.py:1680:_mergeSiblings:DEBUG] ---- Merged node:\n",
      "    Node(3/2, \n",
      "  «4C# 0:0.667 2/3♩ 3/2»\n",
      "  «4D 0.667:1.333 2/3♩ 3/2»\n",
      "  Node(3/2, \n",
      "    «4E 1.333:1.556 2/9♩ 3/2,3/2»\n",
      "    «4F 1.556:1.778 2/9♩ 3/2,3/2»\n",
      "    «4G 1.778:2 2/9♩ 3/2,3/2»\n",
      "  )\n",
      ")\n",
      "[maelzel.scoring:quant.py:1677:_mergeSiblings:DEBUG] Nodes can merge: \n",
      "    Node(1/1, \n",
      "  «rest 2:3 1♩»\n",
      ")\n",
      "    Node(1/1, \n",
      "  «rest 3:4 1♩»\n",
      ")\n",
      "[maelzel.scoring:quant.py:1680:_mergeSiblings:DEBUG] ---- Merged node:\n",
      "    Node(1/1, \n",
      "  «rest 2:4 2♩»\n",
      ")\n",
      "[maelzel.scoring:node.py:707:_splitUnnecessaryNodes:DEBUG] Did not split node Node(1/1, \n",
      "  Node(3/2, \n",
      "    «4C# 0:0.667 2/3♩ 3/2»\n",
      "    «4D 0.667:1.333 2/3♩ 3/2»\n",
      "    Node(3/2, \n",
      "      «4E 1.333:1.556 2/9♩ 3/2,3/2»\n",
      "      «4F 1.556:1.778 2/9♩ 3/2,3/2»\n",
      "      «4G 1.778:2 2/9♩ 3/2,3/2»\n",
      "    )\n",
      "  )\n",
      "  Node(1/1, \n",
      "    «rest 2:4 2♩»\n",
      "  )\n",
      ") at 1\n",
      "[maelzel.scoring:node.py:707:_splitUnnecessaryNodes:DEBUG] Did not split node Node(1/1, \n",
      "  Node(3/2, \n",
      "    «4C# 0:0.667 2/3♩ 3/2»\n",
      "    «4D 0.667:1.333 2/3♩ 3/2»\n",
      "    Node(3/2, \n",
      "      «4E 1.333:1.556 2/9♩ 3/2,3/2»\n",
      "      «4F 1.556:1.778 2/9♩ 3/2,3/2»\n",
      "      «4G 1.778:2 2/9♩ 3/2,3/2»\n",
      "    )\n",
      "  )\n",
      "  Node(1/1, \n",
      "    «rest 2:4 2♩»\n",
      "  )\n",
      ") at 3\n",
      "[maelzel.scoring:renderlily.py:1141:write:DEBUG] Rendering lilypond '/home/em/.cache/tmp45dg4xdg/o0jm3o_f.ly' to '/home/em/.cache/tmp45dg4xdg/o0jm3o_f.png'\n",
      "[maelzel.scoring:renderlily.py:1154:write:DEBUG] Found crop file /home/em/.cache/tmp45dg4xdg/o0jm3o_f.cropped.png, using that as output\n"
     ]
    },
    {
     "data": {
      "text/html": [
       "<code style=\"white-space: pre-line; font-size:0.9em;\">Voice([<span style=\"color:#6666E0\">4C#:0.667♩</span>, <span style=\"color:#6666E0\">4D:0.667♩</span>, <span style=\"color:#6666E0\">4E:0.222♩</span>, <span style=\"color:#6666E0\">4F:0.222♩</span>, <span style=\"color:#6666E0\">4G:0.222♩</span>], dur=2)</code><br>\n",
       "        <img style=\"display:inline; padding:10px;\n",
       "margin-top:14px;\n",
       "width:262px\"\n",
       "             src=\"data:image/png;base64,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\"/>"
      ],
      "text/plain": [
       "Voice([4C#:0.667♩, 4D:0.667♩, 4E:0.222♩, 4F:0.222♩, 4G:0.222♩])"
      ]
     },
     "execution_count": 4,
     "metadata": {},
     "output_type": "execute_result"
    }
   ],
   "source": [
    "v1 = Voice([\n",
    "    Note(\"4C#\", F(2, 3)),\n",
    "    Note(\"4D\", F(2, 3)),\n",
    "    Note(\"4E\", F(2, 3)*F(1, 3)),\n",
    "    Note(\"4F\", F(2, 3)*F(1, 3)),\n",
    "    Note(\"4G\", F(2, 3)*F(1, 3)),\n",
    "])\n",
    "\n",
    "v1"
   ]
  },
  {
   "cell_type": "code",
   "execution_count": 5,
   "id": "240874c5-68b9-4621-bde0-106dea007139",
   "metadata": {},
   "outputs": [
    {
     "name": "stderr",
     "output_type": "stream",
     "text": [
      "[maelzel.scoring:quant.py:1364:quantizeMeasure:DEBUG] Measure 4/4 is not filled (events=[«4C# 0:0.667 2/3♩», «4D 0.667:1 1/3♩», «4D# 1:1.333 1/3♩», «4E 1.333:1.556 2/9♩», «4F 1.556:1.778 2/9♩», «4G 1.778:2 2/9♩»]). Filling gaps with silences\n"
     ]
    },
    {
     "name": "stdout",
     "output_type": "stream",
     "text": [
      "Beat: 0 - 1 (dur: 1)\n",
      "Best 1 divisions: (quantized in 2.2ms)\n"
     ]
    },
    {
     "data": {
      "text/html": [
       "<table>\n",
       "<thead>\n",
       "<tr><th style=\"text-align: right;\">  error</th><th>div  </th><th>snapped                                </th><th>slots  </th><th>info                                                                                                                                                           </th></tr>\n",
       "</thead>\n",
       "<tbody>\n",
       "<tr><td style=\"text-align: right;\">      0</td><td>(3,) </td><td>[«4C# 0:0.667 2/3♩», «4D 0.667:1 1/3♩»]</td><td>[0, 2] </td><td>gridError=0, rhythmComplexity=0 (numNotesAcrossSubdivs=0, numTies=0), divPenalty=0 (0, divPenalty=0, cardinalityPenalty=0, numSubdivsPenalty=0, levelPenalty=0)</td></tr>\n",
       "</tbody>\n",
       "</table>"
      ],
      "text/plain": [
       "<IPython.core.display.HTML object>"
      ]
     },
     "metadata": {},
     "output_type": "display_data"
    },
    {
     "name": "stderr",
     "output_type": "stream",
     "text": [
      "[maelzel.scoring:quant.py:951:quantizeBeatBinary:DEBUG] Skipping (8,), gridError=0.2678143330795103 * 1.0 > minError=0.2638627687823378\n",
      "[maelzel.scoring:quant.py:968:quantizeBeatBinary:DEBUG] Skipping (3, 9), totalError=0.0021095023109728986 > minError=0.0017888543819998318\n",
      "[maelzel.scoring:quant.py:942:quantizeBeatBinary:DEBUG] Skipping (8, 9), divPenalty=0.0412311 * 0.0447214 > minError=0.00178885\n"
     ]
    },
    {
     "name": "stdout",
     "output_type": "stream",
     "text": [
      "Beat: 1 - 2 (dur: 1)\n",
      "Best 3 divisions: (quantized in 104.7ms)\n"
     ]
    },
    {
     "data": {
      "text/html": [
       "<table>\n",
       "<thead>\n",
       "<tr><th style=\"text-align: right;\">  error</th><th>div      </th><th>snapped                                                                              </th><th>slots       </th><th>info                                                                                                                                                                         </th></tr>\n",
       "</thead>\n",
       "<tbody>\n",
       "<tr><td style=\"text-align: right;\"> 0.0011</td><td>(1, 3, 3)</td><td>[«4D# 0:0.333 1/3♩», «4E 0.333:0.556 2/9♩», «4F 0.556:0.778 2/9♩», «4G 0.778:1 2/9♩»]</td><td>[0, 1, 3, 5]</td><td>gridError=0, rhythmComplexity=0.112 (numNotesAcrossSubdivs=1, numTies=0), divPenalty=0 (0, divPenalty=0, cardinalityPenalty=0, numSubdivsPenalty=0, levelPenalty=0)          </td></tr>\n",
       "<tr><td style=\"text-align: right;\"> 0.0018</td><td>(9,)     </td><td>[«4D# 0:0.333 1/3♩», «4E 0.333:0.556 2/9♩», «4F 0.556:0.778 2/9♩», «4G 0.778:1 2/9♩»]</td><td>[0, 3, 5, 7]</td><td>gridError=0, rhythmComplexity=0 (numNotesAcrossSubdivs=0, numTies=0), divPenalty=0.04 (8e-05, divPenalty=0.04, cardinalityPenalty=0, numSubdivsPenalty=0, levelPenalty=0)    </td></tr>\n",
       "<tr><td style=\"text-align: right;\"> 0.2639</td><td>(6,)     </td><td>[«4D# 0:0.333 1/3♩», «4E 0.333:0.5 1/6♩», «4F 0.5:0.833 1/3♩», «4G 0.833:1 1/6♩»]    </td><td>[0, 2, 3, 5]</td><td>gridError=0.264, rhythmComplexity=0 (numNotesAcrossSubdivs=0, numTies=0), divPenalty=0.02 (4e-05, divPenalty=0.02, cardinalityPenalty=0, numSubdivsPenalty=0, levelPenalty=0)</td></tr>\n",
       "</tbody>\n",
       "</table>"
      ],
      "text/plain": [
       "<IPython.core.display.HTML object>"
      ]
     },
     "metadata": {},
     "output_type": "display_data"
    },
    {
     "name": "stderr",
     "output_type": "stream",
     "text": [
      "[maelzel.scoring:quant.py:1677:_mergeSiblings:DEBUG] Nodes can merge: \n",
      "    Node(3/2, \n",
      "  «4E 1.333:1.556 2/9♩ 3/2,3/2»\n",
      "  «4F~ 1.556:1.667 1/9♩ 3/2,3/2»\n",
      ")\n",
      "    Node(3/2, \n",
      "  «~4F 1.667:1.778 1/9♩ 3/2,3/2»\n",
      "  «4G 1.778:2 2/9♩ 3/2,3/2»\n",
      ")\n",
      "[maelzel.scoring:quant.py:1680:_mergeSiblings:DEBUG] ---- Merged node:\n",
      "    Node(3/2, \n",
      "  «4E 1.333:1.556 2/9♩ 3/2,3/2»\n",
      "  «4F 1.556:1.778 2/9♩ 3/2,3/2»\n",
      "  «4G 1.778:2 2/9♩ 3/2,3/2»\n",
      ")\n",
      "[maelzel.scoring:quant.py:1683:_mergeSiblings:DEBUG] Nodes cannot merge: \n",
      "Node(3/2, \n",
      "  «4C# 0:0.667 2/3♩ 3/2»\n",
      "  «4D 0.667:1 1/3♩ 3/2»\n",
      ")\n",
      "Node(3/2, \n",
      "  «4D# 1:1.333 1/3♩ 3/2»\n",
      "  Node(3/2, \n",
      "    «4E 1.333:1.556 2/9♩ 3/2,3/2»\n",
      "    «4F 1.556:1.778 2/9♩ 3/2,3/2»\n",
      "    «4G 1.778:2 2/9♩ 3/2,3/2»\n",
      "  )\n",
      ")\n",
      "----> no need to extend node over beat\n",
      "[maelzel.scoring:quant.py:1677:_mergeSiblings:DEBUG] Nodes can merge: \n",
      "    Node(1/1, \n",
      "  «rest 2:3 1♩»\n",
      ")\n",
      "    Node(1/1, \n",
      "  «rest 3:4 1♩»\n",
      ")\n",
      "[maelzel.scoring:quant.py:1680:_mergeSiblings:DEBUG] ---- Merged node:\n",
      "    Node(1/1, \n",
      "  «rest 2:4 2♩»\n",
      ")\n",
      "[maelzel.scoring:node.py:707:_splitUnnecessaryNodes:DEBUG] Did not split node Node(1/1, \n",
      "  Node(3/2, \n",
      "    «4C# 0:0.667 2/3♩ 3/2»\n",
      "    «4D 0.667:1 1/3♩ 3/2»\n",
      "  )\n",
      "  Node(3/2, \n",
      "    «4D# 1:1.333 1/3♩ 3/2»\n",
      "    Node(3/2, \n",
      "      «4E 1.333:1.556 2/9♩ 3/2,3/2»\n",
      "      «4F 1.556:1.778 2/9♩ 3/2,3/2»\n",
      "      «4G 1.778:2 2/9♩ 3/2,3/2»\n",
      "    )\n",
      "  )\n",
      "  Node(1/1, \n",
      "    «rest 2:4 2♩»\n",
      "  )\n",
      ") at 3\n",
      "[maelzel.scoring:renderlily.py:1141:write:DEBUG] Rendering lilypond '/home/em/.cache/tmp45dg4xdg/m0wn1fyd.ly' to '/home/em/.cache/tmp45dg4xdg/m0wn1fyd.png'\n",
      "[maelzel.scoring:renderlily.py:1154:write:DEBUG] Found crop file /home/em/.cache/tmp45dg4xdg/m0wn1fyd.cropped.png, using that as output\n"
     ]
    },
    {
     "data": {
      "image/png": "[encoded data removed]",
      "text/plain": [
       "<IPython.core.display.Image object>"
      ]
     },
     "metadata": {
      "image/png": {
       "width": 285.75
      }
     },
     "output_type": "display_data"
    }
   ],
   "source": [
    "v1 = Voice([\n",
    "    Note(\"4C#\", F(2, 3)),\n",
    "    Note(\"4D\", F(1, 3)),\n",
    "    Note(\"4D#\", F(1, 3)),\n",
    "    \n",
    "    Note(\"4E\", F(2, 3)*F(1, 3)),\n",
    "    Note(\"4F\", F(2, 3)*F(1, 3)),\n",
    "    Note(\"4G\", F(2, 3)*F(1, 3)),\n",
    "])\n",
    "v1.show()"
   ]
  },
  {
   "cell_type": "code",
   "execution_count": 6,
   "id": "c68e65f2-7566-4f14-88f4-6fe36f97c6d3",
   "metadata": {},
   "outputs": [
    {
     "name": "stderr",
     "output_type": "stream",
     "text": [
      "[maelzel.scoring:quant.py:1364:quantizeMeasure:DEBUG] Measure 4/4 is not filled (events=[«4C+20 0:0.333 1/3♩», «4Eb< 0.333:0.4 1/15♩», «4D 0.4:0.467 1/15♩», «4F+ 0.467:0.667 1/5♩», «4G 0.667:1 1/3♩»]). Filling gaps with silences\n",
      "[maelzel.scoring:quant.py:942:quantizeBeatBinary:DEBUG] Skipping (9, 15), divPenalty=0.206398 * 0.0447214 > minError=0.00909945\n"
     ]
    },
    {
     "name": "stdout",
     "output_type": "stream",
     "text": [
      "Beat: 0 - 1 (dur: 1)\n",
      "Best 4 divisions: (quantized in 92.1ms)\n"
     ]
    },
    {
     "data": {
      "text/html": [
       "<table>\n",
       "<thead>\n",
       "<tr><th style=\"text-align: right;\">  error</th><th>div    </th><th>snapped                                                                                                                                                                                  </th><th>slots              </th><th>info                                                                                                                                                                               </th></tr>\n",
       "</thead>\n",
       "<tbody>\n",
       "<tr><td style=\"text-align: right;\"> 0.0091</td><td>(15, 3)</td><td>[«4C+20 0:0.333 1/3♩», «4Eb&lt; 0.333:0.4 1/15♩», «4D 0.4:0.467 1/15♩», «4F+ 0.467:0.667 1/5♩», «4G 0.667:1 1/3♩»]                                                                          </td><td>[0, 10, 12, 14, 16]</td><td>gridError=0, rhythmComplexity=0.0894 (numNotesAcrossSubdivs=1, numTies=0), divPenalty=0.202 (0.000405, divPenalty=0.2, cardinalityPenalty=0.1, numSubdivsPenalty=0, levelPenalty=0)</td></tr>\n",
       "<tr><td style=\"text-align: right;\"> 0.0097</td><td>(15,)  </td><td>[«4C+20 0:0.333 1/3♩», «4Eb&lt; 0.333:0.4 1/15♩», «4D 0.4:0.467 1/15♩», «4F+ 0.467:0.667 1/5♩», «4G 0.667:1 1/3♩»]                                                                          </td><td>[0, 5, 6, 7, 10]   </td><td>gridError=0, rhythmComplexity=0.358 (numNotesAcrossSubdivs=0, numTies=2), divPenalty=0.202 (0.000405, divPenalty=0.2, cardinalityPenalty=0.1, numSubdivsPenalty=0, levelPenalty=0) </td></tr>\n",
       "<tr><td style=\"text-align: right;\"> 0.1456</td><td>(9,)   </td><td>[«4C+20 0:0.333 1/3♩», «4Eb&lt; 0.333:0.444 1/9♩», «4D 0.444:grace properties={&#x27;.snappedGracenote&#x27;: True, &#x27;.originalDuration&#x27;: Fraction(1, 15)}», «4F+ 0.444:0.667 2/9♩», «4G 0.667:1 1/3♩»]</td><td>[0, 3, 4, 4, 6]    </td><td>gridError=0.146, rhythmComplexity=0 (numNotesAcrossSubdivs=0, numTies=0), divPenalty=0.04 (8e-05, divPenalty=0.04, cardinalityPenalty=0, numSubdivsPenalty=0, levelPenalty=0)      </td></tr>\n",
       "<tr><td style=\"text-align: right;\"> 0.2336</td><td>(6,)   </td><td>[«4C+20 0:0.333 1/3♩», «4Eb&lt; 0.333:grace properties={&#x27;.snappedGracenote&#x27;: True, &#x27;.originalDuration&#x27;: Fraction(1, 15)}», «4D 0.333:0.5 1/6♩», «4F+ 0.5:0.667 1/6♩», «4G 0.667:1 1/3♩»]    </td><td>[0, 2, 2, 3, 4]    </td><td>gridError=0.234, rhythmComplexity=0 (numNotesAcrossSubdivs=0, numTies=0), divPenalty=0.02 (4e-05, divPenalty=0.02, cardinalityPenalty=0, numSubdivsPenalty=0, levelPenalty=0)      </td></tr>\n",
       "</tbody>\n",
       "</table>"
      ],
      "text/plain": [
       "<IPython.core.display.HTML object>"
      ]
     },
     "metadata": {},
     "output_type": "display_data"
    },
    {
     "name": "stderr",
     "output_type": "stream",
     "text": [
      "[maelzel.scoring:quant.py:1683:_mergeSiblings:DEBUG] Nodes cannot merge: \n",
      "Node(1/1, \n",
      "  Node(15/8, \n",
      "    «4C+20~ 0:0.267 4/15♩ 15/8»\n",
      "    «~4C+20 0.267:0.333 1/15♩ 15/8»\n",
      "    «4Eb< 0.333:0.4 1/15♩ 15/8»\n",
      "    «4D 0.4:0.467 1/15♩ 15/8»\n",
      "    «4F+~ 0.467:0.5 1/30♩ 15/8»\n",
      "  )\n",
      "  Node(3/2, \n",
      "    «~4F+ 0.5:0.667 1/6♩ 3/2»\n",
      "    «4G 0.667:1 1/3♩ 3/2»\n",
      "  )\n",
      ")\n",
      "Node(1/1, \n",
      "  «rest 1:2 1♩»\n",
      ")\n",
      "----> no need to extend node over beat\n",
      "[maelzel.scoring:quant.py:1677:_mergeSiblings:DEBUG] Nodes can merge: \n",
      "    Node(1/1, \n",
      "  «rest 1:2 1♩»\n",
      ")\n",
      "    Node(1/1, \n",
      "  «rest 2:3 1♩»\n",
      ")\n",
      "[maelzel.scoring:quant.py:1680:_mergeSiblings:DEBUG] ---- Merged node:\n",
      "    Node(1/1, \n",
      "  «rest 1:3 2♩»\n",
      ")\n",
      "[maelzel.scoring:quant.py:1677:_mergeSiblings:DEBUG] Nodes can merge: \n",
      "    Node(1/1, \n",
      "  «rest 1:3 2♩»\n",
      ")\n",
      "    Node(1/1, \n",
      "  «rest 3:4 1♩»\n",
      ")\n",
      "[maelzel.scoring:quant.py:1680:_mergeSiblings:DEBUG] ---- Merged node:\n",
      "    Node(1/1, \n",
      "  «rest 1:4 3♩»\n",
      ")\n",
      "[maelzel.scoring:node.py:805:_splitNotationAtBoundary:DEBUG] Found a syncopation but the callback was negative, so «rest 1:4 3♩» will not be split\n",
      "[maelzel.scoring:rendermusicxml.py:759:_renderNode:DEBUG] Starting tuplet (15, 8) at «4C+20~ 0:0.267 4/15♩ 15/8 attachments=[Clef(kind=treble)] properties={'clef': 'treble'}»\n",
      "[maelzel.scoring:rendermusicxml.py:759:_renderNode:DEBUG] Starting tuplet (3, 2) at «~4F+ 0.5:0.667 1/6♩ 3/2»\n",
      "[maelzel.scoring:rendermusicxml.py:1143:callMuseScore:DEBUG] Rendering musicxml via MuseScore. Args: ['/home/em/.local/bin/musescore', '-o', '/home/em/.cache/tmp45dg4xdg/3vxyyphx.png', '--force', '--image-resolution', '200', '--trim-image', '20', '/home/em/.cache/tmp45dg4xdg/ouaw18hr.musicxml']\n"
     ]
    },
    {
     "data": {
      "image/png": "[encoded data removed]",
      "text/plain": [
       "<IPython.core.display.Image object>"
      ]
     },
     "metadata": {
      "image/png": {
       "width": 283.20000000000005
      }
     },
     "output_type": "display_data"
    }
   ],
   "source": [
    "v = Voice([\n",
    "    \"4C+20:1/3\",\n",
    "    \"4Eb-25:1/15\",\n",
    "    \"4D:1/15\",\n",
    "    \"4F+:3/15\",\n",
    "    \"4G:1/3\",\n",
    "])\n",
    "v.show(backend='musicxml')"
   ]
  },
  {
   "cell_type": "code",
   "execution_count": 7,
   "id": "b2e387ba-bbc2-4efa-8257-b28cb2efc39e",
   "metadata": {
    "tags": []
   },
   "outputs": [
    {
     "name": "stderr",
     "output_type": "stream",
     "text": [
      "\n",
      "\n",
      "\n",
      "--Csound version 6.19 (double samples) Jan 13 2024\n",
      "[commit: c53556fbbb69d14554a4a4bd91efa441a1701d70]\n",
      "\u001b[mlibsndfile-1.2.0\n",
      "\u001b[msr = 44100.0,\u001b[m kr = 689.062,\u001b[m ksmps = 64\n",
      "\u001b[m0dBFS level = 1.0,\u001b[m A4 tuning = 442.0\n",
      "\u001b[maudio buffered in 256 sample-frame blocks\n",
      "\u001b[mreading 2048-byte blks of shorts from adc:Built-in Audio Pro: (RAW)\n",
      "writing 512 sample blks of 64-bit floats to dac:Built-in Audio Pro:\n",
      "SECTION 1:\n",
      "\u001b[m"
     ]
    },
    {
     "data": {
      "application/vnd.jupyter.widget-view+json": {
       "model_id": "37a67495052c45de98d43858e735c32b",
       "version_major": 2,
       "version_minor": 0
      },
      "text/plain": [
       "Button(description='Stop', style=ButtonStyle())"
      ]
     },
     "metadata": {},
     "output_type": "display_data"
    },
    {
     "data": {
      "application/vnd.jupyter.widget-view+json": {
       "model_id": "b5f664ad69bd4623905466cb4b392b9a",
       "version_major": 2,
       "version_minor": 0
      },
      "text/plain": [
       "Output()"
      ]
     },
     "metadata": {},
     "output_type": "display_data"
    },
    {
     "data": {
      "text/html": [
       "<small><span style=\"\"><b>SynthGroup</b></span>(synths=<code style=\"\">5</code>)</small>\n",
       "<p><small>Instr: <strong style=\"color:MediumSeaGreen\">preset:saw</strong> - <b>5</b> synths</small></p>\n",
       "<table style=\"font-size: smaller\"<thead><tr><th style=\"text-align:left\">p1</th><th style=\"text-align:left\">start</th><th style=\"text-align:left\">dur</th><th style=\"text-align:left\">p4</th><th style=\"text-align:left\">kpos</th><th style=\"text-align:left\">kgain</th><th style=\"text-align:left\">idataidx_</th><th style=\"text-align:left\">inumbps</th><th style=\"text-align:left\">ibplen</th><th style=\"text-align:left\">ichan</th><th style=\"text-align:left\">ifadein</th><th style=\"text-align:left\">ifadeout</th><th style=\"text-align:left\">ipchintrp_</th><th style=\"text-align:left\">ifadekind</th><th style=\"text-align:left\">ktransp</th><th style=\"text-align:left\">klag</th><th style=\"text-align:left\">kcutoffratio</th><th style=\"text-align:left\">kfilterq</th><th style=\"text-align:left\">19</th><th style=\"text-align:left\">20</th><th style=\"text-align:left\">21</th><th style=\"text-align:left\">22</th><th style=\"text-align:left\">23</th><th style=\"text-align:left\">...</th></tr></thead><tbody><tr><td style=\"text-align:left\">501.0002 <b>𝍪</b></td><td style=\"text-align:left\">0.029</td><td style=\"text-align:left\">0.333</td><td style=\"text-align:left\">0</td><td style=\"text-align:left\">0.5</td><td style=\"text-align:left\">1</td><td style=\"text-align:left\">19</td><td style=\"text-align:left\">2</td><td style=\"text-align:left\">3</td><td style=\"text-align:left\">1</td><td style=\"text-align:left\">0.02</td><td style=\"text-align:left\">0.02</td><td style=\"text-align:left\">0</td><td style=\"text-align:left\">1</td><td style=\"text-align:left\">0</td><td style=\"text-align:left\">0.1</td><td style=\"text-align:left\">0</td><td style=\"text-align:left\">3</td><td style=\"text-align:left\">0</td><td style=\"text-align:left\">60.2</td><td style=\"text-align:left\">0.51518</td><td style=\"text-align:left\">0.33333</td><td style=\"text-align:left\">...</td></tr><tr><td style=\"text-align:left\">501.0003 <b>𝍪</b></td><td style=\"text-align:left\">0.362</td><td style=\"text-align:left\">0.067</td><td style=\"text-align:left\">0</td><td style=\"text-align:left\">0.5</td><td style=\"text-align:left\">1</td><td style=\"text-align:left\">19</td><td style=\"text-align:left\">2</td><td style=\"text-align:left\">3</td><td style=\"text-align:left\">1</td><td style=\"text-align:left\">0.02</td><td style=\"text-align:left\">0.02</td><td style=\"text-align:left\">0</td><td style=\"text-align:left\">1</td><td style=\"text-align:left\">0</td><td style=\"text-align:left\">0.1</td><td style=\"text-align:left\">0</td><td style=\"text-align:left\">3</td><td style=\"text-align:left\">0</td><td style=\"text-align:left\">62.75</td><td style=\"text-align:left\">0.51518</td><td style=\"text-align:left\">0.066667</td><td style=\"text-align:left\">...</td></tr><tr><td style=\"text-align:left\">501.0004 <b>𝍪</b></td><td style=\"text-align:left\">0.429</td><td style=\"text-align:left\">0.067</td><td style=\"text-align:left\">0</td><td style=\"text-align:left\">0.5</td><td style=\"text-align:left\">1</td><td style=\"text-align:left\">19</td><td style=\"text-align:left\">2</td><td style=\"text-align:left\">3</td><td style=\"text-align:left\">1</td><td style=\"text-align:left\">0.02</td><td style=\"text-align:left\">0.02</td><td style=\"text-align:left\">0</td><td style=\"text-align:left\">1</td><td style=\"text-align:left\">0</td><td style=\"text-align:left\">0.1</td><td style=\"text-align:left\">0</td><td style=\"text-align:left\">3</td><td style=\"text-align:left\">0</td><td style=\"text-align:left\">62</td><td style=\"text-align:left\">0.51518</td><td style=\"text-align:left\">0.066667</td><td style=\"text-align:left\">...</td></tr><tr><td style=\"text-align:left\">501.0005 <b>𝍪</b></td><td style=\"text-align:left\">0.496</td><td style=\"text-align:left\">0.200</td><td style=\"text-align:left\">0</td><td style=\"text-align:left\">0.5</td><td style=\"text-align:left\">1</td><td style=\"text-align:left\">19</td><td style=\"text-align:left\">2</td><td style=\"text-align:left\">3</td><td style=\"text-align:left\">1</td><td style=\"text-align:left\">0.02</td><td style=\"text-align:left\">0.02</td><td style=\"text-align:left\">0</td><td style=\"text-align:left\">1</td><td style=\"text-align:left\">0</td><td style=\"text-align:left\">0.1</td><td style=\"text-align:left\">0</td><td style=\"text-align:left\">3</td><td style=\"text-align:left\">0</td><td style=\"text-align:left\">65.5</td><td style=\"text-align:left\">0.51518</td><td style=\"text-align:left\">0.2</td><td style=\"text-align:left\">...</td></tr><tr><td style=\"text-align:left\">...</td></tr></tbody></table>"
      ],
      "text/plain": [
       "SynthGroup(n=5)\n",
       "    Synth(𝍪 preset:saw=501.0002 start=1.034 dur=0.333 p4=0.5 kpos=1 kgain=19 idataidx_=2 inumbps=3 ibplen=1 ichan=0.02 ifadein=0.02 ifadeout=0 ipchintrp_=1 ifadekind=0 ktransp=0.1 klag=0 kcutoffratio=3 kfilterq=0 p19=60.2 p20=0.515178 p21=0.333333 p22=60.2 …)\n",
       "    Synth(𝍪 preset:saw=501.0003 start=1.367 dur=0.067 p4=0.5 kpos=1 kgain=19 idataidx_=2 inumbps=3 ibplen=1 ichan=0.02 ifadein=0.02 ifadeout=0 ipchintrp_=1 ifadekind=0 ktransp=0.1 klag=0 kcutoffratio=3 kfilterq=0 p19=62.75 p20=0.515178 p21=0.0666667 p22=62.75 …)\n",
       "    Synth(𝍪 preset:saw=501.0004 start=1.434 dur=0.067 p4=0.5 kpos=1 kgain=19 idataidx_=2 inumbps=3 ibplen=1 ichan=0.02 ifadein=0.02 ifadeout=0 ipchintrp_=1 ifadekind=0 ktransp=0.1 klag=0 kcutoffratio=3 kfilterq=0 p19=62 p20=0.515178 p21=0.0666667 p22=62 …)\n",
       "    Synth(𝍪 preset:saw=501.0005 start=1.501 dur=0.200 p4=0.5 kpos=1 kgain=19 idataidx_=2 inumbps=3 ibplen=1 ichan=0.02 ifadein=0.02 ifadeout=0 ipchintrp_=1 ifadekind=0 ktransp=0.1 klag=0 kcutoffratio=3 kfilterq=0 p19=65.5 p20=0.515178 p21=0.2 p22=65.5 …)\n",
       "    Synth(𝍪 preset:saw=501.0006 start=1.701 dur=0.333 p4=0.5 kpos=1 kgain=19 idataidx_=2 inumbps=3 ibplen=1 ichan=0.02 ifadein=0.02 ifadeout=0 ipchintrp_=1 ifadekind=0 ktransp=0.1 klag=0 kcutoffratio=3 kfilterq=0 p19=67 p20=0.515178 p21=0.333333 p22=67 …)"
      ]
     },
     "execution_count": 7,
     "metadata": {},
     "output_type": "execute_result"
    }
   ],
   "source": [
    "v.play(instr='saw')"
   ]
  }
 ],
 "metadata": {
  "kernelspec": {
   "display_name": "Python 3 (ipykernel)",
   "language": "python",
   "name": "python3"
  },
  "language_info": {
   "codemirror_mode": {
    "name": "ipython",
    "version": 3
   },
   "file_extension": ".py",
   "mimetype": "text/x-python",
   "name": "python",
   "nbconvert_exporter": "python",
   "pygments_lexer": "ipython3",
   "version": "3.11.6"
  }
 },
 "nbformat": 4,
 "nbformat_minor": 5
}
