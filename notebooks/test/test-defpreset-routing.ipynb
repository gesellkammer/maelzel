{
 "cells": [
  {
   "cell_type": "code",
   "execution_count": 1,
   "id": "de7196eb-d3c3-4f28-bba4-038d3ae76ef0",
   "metadata": {},
   "outputs": [
    {
     "name": "stderr",
     "output_type": "stream",
     "text": [
      "end of score.\t\t   overall amps:\u001b[m      0.0\n",
      "\t   overall samples out of range:\u001b[m        0\u001b[m\n",
      "0 errors in performance\n",
      "\u001b[m"
     ]
    }
   ],
   "source": [
    "from maelzel.core import *"
   ]
  },
  {
   "cell_type": "code",
   "execution_count": 2,
   "id": "e11accb8-5515-4c26-b88e-8e12924ea13a",
   "metadata": {},
   "outputs": [
    {
     "data": {
      "text/html": [
       "Preset: <b>pulse</b> - <span style=\"color:#A0A0A0\"><i>transposable pulse with pwm</i></span>\n",
       "<br>\n",
       "<code style=\"font-size: 90%\">  <span style=\"color:#A0A0A0;font-size:96%\">(routing=True, numouts=2, numsignals=1)\n",
       "</span></code>\n",
       "<ul style=\"line-height: 120%\">\n",
       "<li><span style=\"font-size:90%\"><strong>ktransp</strong></span>: <span style=\"font-size:90%\"><i>transposition</i></span></li>\n",
       "<li><span style=\"font-size:90%\"><strong>klag</strong></span>: <span style=\"font-size:90%\"><i>lag time for pitch</i></span></li>\n",
       "<li><span style=\"font-size:90%\"><strong>kpwm</strong></span>: <span style=\"font-size:90%\"><i>pwm between 0-1</i></span></li>\n",
       "</ul>\n",
       "<span style=\"font-size:96%\"><strong>code</strong></span><br>\n",
       "<span style=\"font-size:90%\"><pre>  |ktransp=<span style=\"color:#6666E0\">0.0</span>, klag=<span style=\"color:#6666E0\">0.1</span>, kpwm=<span style=\"color:#6666E0\">0.5</span>|</pre></span>\n",
       "<span style=\"font-size:90%\"><div class=\"highlight\" style=\"background: #f8f8f8\"><pre style=\"line-height: 125%;\"><span></span><code><span style=\"color: #bbbbbb\">  </span><span style=\"color: #3D7B7B; font-style: italic\">; transposable pulse with pwm</span>\n",
       "<span style=\"color: #bbbbbb\">  </span><span style=\"color: #3D7B7B; font-style: italic\">; Args:</span>\n",
       "<span style=\"color: #bbbbbb\">  </span><span style=\"color: #3D7B7B; font-style: italic\">;   ktransp: transposition</span>\n",
       "<span style=\"color: #bbbbbb\">  </span><span style=\"color: #3D7B7B; font-style: italic\">;   klag: lag time for pitch</span>\n",
       "<span style=\"color: #bbbbbb\">  </span><span style=\"color: #3D7B7B; font-style: italic\">;   kpwm: pwm between 0-1</span>\n",
       "<span style=\"color: #bbbbbb\">  </span><span style=\"color: #B00040\">a</span>out1<span style=\"color: #bbbbbb\"> </span><span style=\"color: #008000\">vco2</span><span style=\"color: #bbbbbb\"> </span><span style=\"color: #B00040\">k</span>amp,<span style=\"color: #bbbbbb\"> </span><span style=\"color: #008000\">mtof</span>:<span style=\"color: #B00040\">k</span>(<span style=\"color: #008000\">lag</span>:<span style=\"color: #B00040\">k</span>(<span style=\"color: #B00040\">k</span>pitch<span style=\"color: #666666\">+</span><span style=\"color: #B00040\">k</span>transp,<span style=\"color: #bbbbbb\"> </span><span style=\"color: #B00040\">k</span>lag),<span style=\"color: #bbbbbb\"> </span><span style=\"color: #666666\">2</span>,<span style=\"color: #bbbbbb\"> </span><span style=\"color: #B00040\">k</span>pwm\n",
       "</code></pre></div>\n",
       "</span>"
      ],
      "text/plain": [
       "Preset: pulse  \n",
       "    routing=True\n",
       "  |ktransp=0.0, klag=0.1, kpwm=0.5|\n",
       "  ; transposable pulse with pwm\n",
       "  ; Args:\n",
       "  ;   ktransp: transposition\n",
       "  ;   klag: lag time for pitch\n",
       "  ;   kpwm: pwm between 0-1\n",
       "  aout1 vco2 kamp, mtof:k(lag:k(kpitch+ktransp, klag), 2, kpwm"
      ]
     },
     "execution_count": 2,
     "metadata": {},
     "output_type": "execute_result"
    }
   ],
   "source": [
    "getPreset('?')"
   ]
  },
  {
   "cell_type": "code",
   "execution_count": 3,
   "id": "7630f0f6-38ac-4b83-82c4-d45490246db7",
   "metadata": {},
   "outputs": [
    {
     "data": {
      "text/html": [
       "Preset: <b>.bandnoise</b>\n",
       "<br>\n",
       "<code style=\"font-size: 90%\">  <span style=\"color:#A0A0A0;font-size:96%\">(routing=True, numouts=2, numsignals=1)\n",
       "</span></code>\n",
       "<span style=\"font-size:96%\"><strong>code</strong></span><br>\n",
       "<span style=\"font-size:90%\"><pre>  |kbw=<span style=\"color:#6666E0\">0.9</span>|</pre></span>\n",
       "<span style=\"font-size:90%\"><div class=\"highlight\" style=\"background: #f8f8f8\"><pre style=\"line-height: 125%;\"><span></span><code><span style=\"color: #bbbbbb\">  </span><span style=\"color: #B00040\">a</span>out1<span style=\"color: #bbbbbb\"> </span><span style=\"color: #666666\">=</span><span style=\"color: #bbbbbb\"> </span><span style=\"color: #008000\">beosc</span>(<span style=\"color: #B00040\">k</span>freq,<span style=\"color: #bbbbbb\"> </span><span style=\"color: #B00040\">k</span>bw)<span style=\"color: #bbbbbb\"> </span><span style=\"color: #666666\">*</span><span style=\"color: #bbbbbb\"> </span><span style=\"color: #008000\">a</span>(<span style=\"color: #B00040\">k</span>amp)\n",
       "</code></pre></div>\n",
       "</span>\n",
       "<hr>\n",
       "Preset: <b>_clip_diskin</b> - <span style=\"color:#A0A0A0\"><i>Builtin-in preset to play a clip using diskin</i></span>\n",
       "<br>\n",
       "<code style=\"font-size: 90%\">  <span style=\"color:#A0A0A0;font-size:96%\">(numouts=2, numsignals=2)\n",
       "</span></code>\n",
       "<ul style=\"line-height: 120%\">\n",
       "<li><span style=\"font-size:90%\"><strong>ipath</strong></span>: <span style=\"font-size:90%\"><i>the path to the soundfile, as set via strSet</i></span></li>\n",
       "<li><span style=\"font-size:90%\"><strong>isndfilechan</strong></span>: <span style=\"font-size:90%\"><i>if given, play only this channel from the soundfile</i></span></li>\n",
       "<li><span style=\"font-size:90%\"><strong>kspeed</strong></span>: <span style=\"font-size:90%\"><i>the speed of the playback</i></span></li>\n",
       "<li><span style=\"font-size:90%\"><strong>iskip</strong></span>: <span style=\"font-size:90%\"><i>number of seconds to skip from beginning (assuming kspeed=1)</i></span></li>\n",
       "<li><span style=\"font-size:90%\"><strong>iwrap</strong></span>: <span style=\"font-size:90%\"><i>if non-zero, locations wrap (results in looping)</i></span></li>\n",
       "<li><span style=\"font-size:90%\"><strong>iwinsize</strong></span>: <span style=\"font-size:90%\"><i>interpolation size (1=no interpol, 2=linear, 4=cubic, 8=sinc)</i></span></li>\n",
       "</ul>\n",
       "<span style=\"font-size:96%\"><strong>code</strong></span><br>\n",
       "<span style=\"font-size:90%\"><pre>  |<span style=\"color:#cccc00\">ipath</span>=<span style=\"color:#6666E0\">0</span>, <span style=\"color:#cccc00\">isndfilechan</span>=<span style=\"color:#6666E0\">-1.0</span>, <span style=\"color:#cccc00\">kspeed</span><span style=\"color:#A0A0A0\"><i>@speed</i></span>=<span style=\"color:#6666E0\">1.0</span>, <span style=\"color:#cccc00\">iskip</span>=<span style=\"color:#6666E0\">0.0</span>, <span style=\"color:#cccc00\">iwrap</span>=<span style=\"color:#6666E0\">0.0</span>, <span style=\"color:#cccc00\">iwinsize</span>=<span style=\"color:#6666E0\">4.0</span>|</pre></span>\n",
       "<span style=\"font-size:90%\"><div class=\"highlight\" style=\"background: #f8f8f8\"><pre style=\"line-height: 125%;\"><span></span><code><span style=\"color: #bbbbbb\">  </span><span style=\"color: #3D7B7B; font-style: italic\">; Builtin-in preset to play a clip using diskin</span>\n",
       "<span style=\"color: #bbbbbb\">  </span><span style=\"color: #3D7B7B; font-style: italic\">; Args:</span>\n",
       "<span style=\"color: #bbbbbb\">  </span><span style=\"color: #3D7B7B; font-style: italic\">;   ipath: the path to the soundfile, as set via strSet</span>\n",
       "<span style=\"color: #bbbbbb\">  </span><span style=\"color: #3D7B7B; font-style: italic\">;   isndfilechan: if given, play only this channel from the soundfile</span>\n",
       "<span style=\"color: #bbbbbb\">  </span><span style=\"color: #3D7B7B; font-style: italic\">;   kspeed: the speed of the playback</span>\n",
       "<span style=\"color: #bbbbbb\">  </span><span style=\"color: #3D7B7B; font-style: italic\">;   iskip: number of seconds to skip from beginning (assuming kspeed=1)</span>\n",
       "<span style=\"color: #bbbbbb\">  </span><span style=\"color: #3D7B7B; font-style: italic\">;   iwrap: if non-zero, locations wrap (results in looping)</span>\n",
       "<span style=\"color: #bbbbbb\">  </span><span style=\"color: #3D7B7B; font-style: italic\">;   iwinsize: interpolation size (1=no interpol, 2=linear, 4=cubic, 8=sinc)</span>\n",
       "<span style=\"color: #bbbbbb\">  </span><span style=\"color: #B00040\">S</span>path<span style=\"color: #bbbbbb\"> </span><span style=\"color: #666666\">=</span><span style=\"color: #bbbbbb\"> </span><span style=\"color: #008000\">strget</span>(<span style=\"color: #B00040\">i</span>path)\n",
       "<span style=\"color: #bbbbbb\">  </span><span style=\"color: #008000; font-weight: bold\">if</span><span style=\"color: #bbbbbb\"> </span><span style=\"color: #008000\">strlen</span>(<span style=\"color: #B00040\">S</span>path)<span style=\"color: #bbbbbb\"> </span><span style=\"color: #666666\">==</span><span style=\"color: #bbbbbb\"> </span><span style=\"color: #666666\">0</span><span style=\"color: #bbbbbb\"> </span><span style=\"color: #008000; font-weight: bold\">then</span>\n",
       "<span style=\"color: #bbbbbb\">      </span><span style=\"color: #B00040\">i</span>niterror<span style=\"color: #bbbbbb\"> </span><span style=\"color: #008000\">sprintf</span>(<span style=\"color: #BA2121\">&quot;Soundfile &#39;</span><span style=\"color: #A45A77; font-weight: bold\">%s</span><span style=\"color: #BA2121\">&#39; not found&quot;</span>,<span style=\"color: #bbbbbb\"> </span><span style=\"color: #B00040\">S</span>path)\n",
       "<span style=\"color: #bbbbbb\">  </span><span style=\"color: #008000; font-weight: bold\">endif</span>\n",
       "\n",
       "<span style=\"color: #bbbbbb\">  </span><span style=\"color: #B00040\">i</span>format<span style=\"color: #bbbbbb\"> </span><span style=\"color: #666666\">=</span><span style=\"color: #bbbbbb\"> </span><span style=\"color: #666666\">0</span>\n",
       "<span style=\"color: #bbbbbb\">  </span><span style=\"color: #B00040\">i</span>bufsize<span style=\"color: #bbbbbb\"> </span><span style=\"color: #666666\">=</span><span style=\"color: #bbbbbb\"> </span><span style=\"color: #666666\">0</span><span style=\"color: #bbbbbb\">   </span><span style=\"color: #3D7B7B; font-style: italic\">; 0 sets the buffer to the default of 4096</span>\n",
       "<span style=\"color: #bbbbbb\">  </span><span style=\"color: #B00040\">i</span>numchannels<span style=\"color: #bbbbbb\"> </span><span style=\"color: #666666\">=</span><span style=\"color: #bbbbbb\"> </span><span style=\"color: #008000\">filenchnls</span>(<span style=\"color: #B00040\">S</span>path)\n",
       "<span style=\"color: #bbbbbb\">  </span><span style=\"color: #008000; font-weight: bold\">if</span><span style=\"color: #bbbbbb\"> </span><span style=\"color: #B00040\">i</span>numchannels<span style=\"color: #bbbbbb\"> </span><span style=\"color: #666666\">==</span><span style=\"color: #bbbbbb\"> </span><span style=\"color: #666666\">0</span><span style=\"color: #bbbbbb\"> </span><span style=\"color: #666666\">||</span><span style=\"color: #bbbbbb\"> </span><span style=\"color: #B00040\">i</span>numchannels<span style=\"color: #bbbbbb\"> </span><span style=\"color: #666666\">&gt;</span><span style=\"color: #bbbbbb\"> </span><span style=\"color: #666666\">2</span><span style=\"color: #bbbbbb\"> </span><span style=\"color: #008000; font-weight: bold\">then</span>\n",
       "<span style=\"color: #bbbbbb\">      </span><span style=\"color: #B00040\">i</span>niterror<span style=\"color: #bbbbbb\"> </span><span style=\"color: #008000\">sprintf</span>(<span style=\"color: #BA2121\">&quot;Multichannel samples (&gt; 2, got </span><span style=\"color: #A45A77; font-weight: bold\">%d</span><span style=\"color: #BA2121\">) not supported yet&quot;</span>,<span style=\"color: #bbbbbb\"> </span><span style=\"color: #B00040\">i</span>numchannels)\n",
       "<span style=\"color: #bbbbbb\">  </span><span style=\"color: #008000; font-weight: bold\">endif</span>\n",
       "\n",
       "<span style=\"color: #bbbbbb\">  </span><span style=\"color: #B00040\">a</span>env<span style=\"color: #bbbbbb\"> </span><span style=\"color: #666666\">=</span><span style=\"color: #bbbbbb\"> </span>makePresetEnvelope(<span style=\"color: #B00040\">i</span>fadein,<span style=\"color: #bbbbbb\"> </span><span style=\"color: #B00040\">i</span>fadeout,<span style=\"color: #bbbbbb\"> </span><span style=\"color: #B00040\">i</span>fadekind)\n",
       "<span style=\"color: #bbbbbb\">  </span><span style=\"color: #B00040\">a</span>env<span style=\"color: #bbbbbb\"> </span><span style=\"color: #666666\">*=</span><span style=\"color: #bbbbbb\"> </span><span style=\"color: #B00040\">k</span>gain\n",
       "<span style=\"color: #bbbbbb\">  </span><span style=\"color: #B00040\">a</span>sig[]<span style=\"color: #bbbbbb\"> </span><span style=\"color: #008000\">diskin2</span><span style=\"color: #bbbbbb\"> </span><span style=\"color: #B00040\">S</span>path,<span style=\"color: #bbbbbb\"> </span><span style=\"color: #B00040\">k</span>speed,<span style=\"color: #bbbbbb\"> </span><span style=\"color: #B00040\">i</span>skip,<span style=\"color: #bbbbbb\"> </span><span style=\"color: #B00040\">i</span>wrap,<span style=\"color: #bbbbbb\"> </span><span style=\"color: #B00040\">i</span>format,<span style=\"color: #bbbbbb\"> </span><span style=\"color: #B00040\">i</span>winsize,<span style=\"color: #bbbbbb\"> </span><span style=\"color: #B00040\">i</span>bufsize\n",
       "<span style=\"color: #bbbbbb\">  </span><span style=\"color: #008000; font-weight: bold\">if</span><span style=\"color: #bbbbbb\"> </span><span style=\"color: #B00040\">i</span>sndfilechan<span style=\"color: #bbbbbb\"> </span><span style=\"color: #666666\">&gt;=</span><span style=\"color: #bbbbbb\"> </span><span style=\"color: #666666\">0</span><span style=\"color: #bbbbbb\"> </span><span style=\"color: #008000; font-weight: bold\">then</span>\n",
       "<span style=\"color: #bbbbbb\">      </span><span style=\"color: #B00040\">a</span>1<span style=\"color: #bbbbbb\"> </span><span style=\"color: #666666\">=</span><span style=\"color: #bbbbbb\"> </span><span style=\"color: #B00040\">a</span>sig[<span style=\"color: #B00040\">i</span>sndfilechan]\n",
       "<span style=\"color: #bbbbbb\">      </span><span style=\"color: #B00040\">k</span>pos<span style=\"color: #bbbbbb\"> </span><span style=\"color: #666666\">=</span><span style=\"color: #bbbbbb\"> </span><span style=\"color: #B00040\">k</span>pos<span style=\"color: #bbbbbb\"> </span><span style=\"color: #666666\">==</span><span style=\"color: #bbbbbb\"> </span><span style=\"color: #666666\">-1</span><span style=\"color: #bbbbbb\"> </span><span style=\"color: #666666\">?</span><span style=\"color: #bbbbbb\"> </span><span style=\"color: #666666\">0</span><span style=\"color: #bbbbbb\"> </span><span style=\"color: #666666\">:</span><span style=\"color: #bbbbbb\"> </span><span style=\"color: #B00040\">k</span>pos\n",
       "<span style=\"color: #bbbbbb\">      </span><span style=\"color: #B00040\">a</span>1<span style=\"color: #bbbbbb\"> </span><span style=\"color: #666666\">*=</span><span style=\"color: #bbbbbb\"> </span><span style=\"color: #B00040\">a</span>env\n",
       "<span style=\"color: #bbbbbb\">      </span><span style=\"color: #B00040\">a</span>out1,<span style=\"color: #bbbbbb\"> </span><span style=\"color: #B00040\">a</span>out2<span style=\"color: #bbbbbb\"> </span><span style=\"color: #008000\">pan2</span><span style=\"color: #bbbbbb\"> </span><span style=\"color: #B00040\">a</span>1,<span style=\"color: #bbbbbb\"> </span><span style=\"color: #B00040\">k</span>pos\n",
       "<span style=\"color: #bbbbbb\">  </span><span style=\"color: #008000; font-weight: bold\">elseif</span><span style=\"color: #bbbbbb\"> </span><span style=\"color: #B00040\">i</span>numchannels<span style=\"color: #bbbbbb\"> </span><span style=\"color: #666666\">==</span><span style=\"color: #bbbbbb\"> </span><span style=\"color: #666666\">1</span><span style=\"color: #bbbbbb\"> </span><span style=\"color: #008000; font-weight: bold\">then</span>\n",
       "<span style=\"color: #bbbbbb\">      </span><span style=\"color: #B00040\">a</span>1<span style=\"color: #bbbbbb\"> </span><span style=\"color: #666666\">=</span><span style=\"color: #bbbbbb\"> </span><span style=\"color: #B00040\">a</span>sig[<span style=\"color: #666666\">0</span>]\n",
       "<span style=\"color: #bbbbbb\">      </span><span style=\"color: #B00040\">a</span>1<span style=\"color: #bbbbbb\"> </span><span style=\"color: #666666\">*=</span><span style=\"color: #bbbbbb\"> </span><span style=\"color: #B00040\">a</span>env\n",
       "<span style=\"color: #bbbbbb\">      </span><span style=\"color: #B00040\">k</span>pos<span style=\"color: #bbbbbb\"> </span><span style=\"color: #666666\">=</span><span style=\"color: #bbbbbb\"> </span><span style=\"color: #B00040\">k</span>pos<span style=\"color: #bbbbbb\"> </span><span style=\"color: #666666\">==</span><span style=\"color: #bbbbbb\"> </span><span style=\"color: #666666\">-1</span><span style=\"color: #bbbbbb\"> </span><span style=\"color: #666666\">?</span><span style=\"color: #bbbbbb\"> </span><span style=\"color: #666666\">0</span><span style=\"color: #bbbbbb\"> </span><span style=\"color: #666666\">:</span><span style=\"color: #bbbbbb\"> </span><span style=\"color: #B00040\">k</span>pos\n",
       "<span style=\"color: #bbbbbb\">      </span><span style=\"color: #B00040\">a</span>out1,<span style=\"color: #bbbbbb\"> </span><span style=\"color: #B00040\">a</span>out2<span style=\"color: #bbbbbb\"> </span><span style=\"color: #008000\">pan2</span><span style=\"color: #bbbbbb\"> </span><span style=\"color: #B00040\">a</span>1,<span style=\"color: #bbbbbb\"> </span><span style=\"color: #B00040\">k</span>pos\n",
       "<span style=\"color: #bbbbbb\">  </span><span style=\"color: #008000; font-weight: bold\">elseif</span><span style=\"color: #bbbbbb\"> </span><span style=\"color: #B00040\">i</span>numchannels<span style=\"color: #bbbbbb\"> </span><span style=\"color: #666666\">==</span><span style=\"color: #bbbbbb\"> </span><span style=\"color: #666666\">2</span><span style=\"color: #bbbbbb\"> </span><span style=\"color: #008000; font-weight: bold\">then</span>\n",
       "<span style=\"color: #bbbbbb\">      </span><span style=\"color: #B00040\">a</span>sig<span style=\"color: #bbbbbb\"> </span><span style=\"color: #666666\">*=</span><span style=\"color: #bbbbbb\"> </span><span style=\"color: #B00040\">a</span>env\n",
       "<span style=\"color: #bbbbbb\">      </span><span style=\"color: #B00040\">a</span>out1,<span style=\"color: #bbbbbb\"> </span><span style=\"color: #B00040\">a</span>out2<span style=\"color: #bbbbbb\"> </span>panstereo<span style=\"color: #bbbbbb\"> </span><span style=\"color: #B00040\">a</span>sig[<span style=\"color: #666666\">0</span>],<span style=\"color: #bbbbbb\"> </span><span style=\"color: #B00040\">a</span>sig[<span style=\"color: #666666\">1</span>],<span style=\"color: #bbbbbb\"> </span><span style=\"color: #B00040\">k</span>pos\n",
       "<span style=\"color: #bbbbbb\">  </span><span style=\"color: #008000; font-weight: bold\">endif</span>\n",
       "<span style=\"color: #bbbbbb\">  </span><span style=\"color: #008000\">outch</span><span style=\"color: #bbbbbb\"> </span><span style=\"color: #B00040\">i</span>chan,<span style=\"color: #bbbbbb\"> </span><span style=\"color: #B00040\">a</span>out1,<span style=\"color: #bbbbbb\"> </span><span style=\"color: #B00040\">i</span>chan<span style=\"color: #666666\">+1</span>,<span style=\"color: #bbbbbb\"> </span><span style=\"color: #B00040\">a</span>out2\n",
       "</code></pre></div>\n",
       "</span>\n",
       "<hr>\n",
       "Preset: <b>.piano</b> - <span style=\"color:#A0A0A0\"><i>Default piano sound</i></span>\n",
       "<br>\n",
       "<code style=\"font-size: 90%\">  <span style=\"color:#A0A0A0;font-size:96%\">(routing=True, properties={'sfpath': '/home/em/dev/python/maelzel/maelzel/data/sf2/SalC5Light2.sf2', 'ampDivisor': 16000}, numouts=2, numsignals=2)\n",
       "</span></code>\n",
       "<span style=\"font-size:96%\"><strong>init</strong></span><br>\n",
       "<span style=\"font-size:90%\"><div class=\"highlight\" style=\"background: #f8f8f8\"><pre style=\"line-height: 125%;\"><span></span><code><span style=\"color: #bbbbbb\">  </span><span style=\"color: #B00040\">i</span>__SfTable__<span style=\"color: #bbbbbb\"> </span>sfloadonce<span style=\"color: #bbbbbb\"> </span><span style=\"color: #BA2121\">&quot;/home/em/dev/python/maelzel/maelzel/data/sf2/SalC5Light2.sf2&quot;</span>\n",
       "</code></pre></div>\n",
       "</span>\n",
       "<span style=\"font-size:96%\"><strong>code</strong></span><br>\n",
       "<span style=\"font-size:90%\"><pre>  |<span style=\"color:#cccc00\">ktransp</span><span style=\"color:#A0A0A0\"><i>@transpose</i></span>=<span style=\"color:#6666E0\">0.0</span>, <span style=\"color:#cccc00\">ipitchlag</span>=<span style=\"color:#6666E0\">0.1</span>, <span style=\"color:#cccc00\">ivel</span>=<span style=\"color:#6666E0\">-1</span>|</pre></span>\n",
       "<span style=\"font-size:90%\"><div class=\"highlight\" style=\"background: #f8f8f8\"><pre style=\"line-height: 125%;\"><span></span><code><span style=\"color: #bbbbbb\">  </span><span style=\"color: #B00040\">i</span>presetidx<span style=\"color: #bbbbbb\"> </span>sfPresetIndex<span style=\"color: #bbbbbb\"> </span><span style=\"color: #BA2121\">&quot;/home/em/dev/python/maelzel/maelzel/data/sf2/SalC5Light2.sf2&quot;</span>,<span style=\"color: #bbbbbb\"> </span><span style=\"color: #666666\">0</span>,<span style=\"color: #bbbbbb\"> </span><span style=\"color: #666666\">0</span>\n",
       "<span style=\"color: #bbbbbb\">  </span><span style=\"color: #B00040\">i</span>amp0_<span style=\"color: #bbbbbb\"> </span><span style=\"color: #666666\">=</span><span style=\"color: #bbbbbb\"> </span><span style=\"color: #008000\">p</span>(<span style=\"color: #B00040\">i</span>dataidx_<span style=\"color: #bbbbbb\"> </span><span style=\"color: #666666\">+</span><span style=\"color: #bbbbbb\"> </span><span style=\"color: #666666\">2</span>)\n",
       "<span style=\"color: #bbbbbb\">  </span><span style=\"color: #B00040\">i</span>note0_<span style=\"color: #bbbbbb\"> </span><span style=\"color: #666666\">=</span><span style=\"color: #bbbbbb\"> </span><span style=\"color: #008000\">round</span>(<span style=\"color: #008000\">p</span>(<span style=\"color: #B00040\">i</span>dataidx_<span style=\"color: #bbbbbb\"> </span><span style=\"color: #666666\">+</span><span style=\"color: #bbbbbb\"> </span><span style=\"color: #666666\">1</span>))\n",
       "<span style=\"color: #bbbbbb\">  </span><span style=\"color: #B00040\">k</span>pitch2<span style=\"color: #bbbbbb\"> </span><span style=\"color: #666666\">=</span><span style=\"color: #bbbbbb\"> </span><span style=\"color: #008000\">lag</span>:<span style=\"color: #B00040\">k</span>(<span style=\"color: #B00040\">k</span>pitch<span style=\"color: #bbbbbb\"> </span><span style=\"color: #666666\">+</span><span style=\"color: #bbbbbb\"> </span><span style=\"color: #B00040\">k</span>transp,<span style=\"color: #bbbbbb\"> </span><span style=\"color: #B00040\">i</span>pitchlag)\n",
       "<span style=\"color: #bbbbbb\">  </span><span style=\"color: #B00040\">i</span>ampdiv_<span style=\"color: #bbbbbb\"> </span><span style=\"color: #666666\">=</span><span style=\"color: #bbbbbb\"> </span><span style=\"color: #666666\">16000</span>\n",
       "<span style=\"color: #bbbbbb\">  </span><span style=\"color: #008000; font-weight: bold\">if</span><span style=\"color: #bbbbbb\"> </span><span style=\"color: #B00040\">i</span>vel<span style=\"color: #bbbbbb\"> </span><span style=\"color: #666666\">&lt;</span><span style=\"color: #bbbbbb\"> </span><span style=\"color: #666666\">0</span><span style=\"color: #bbbbbb\"> </span><span style=\"color: #008000; font-weight: bold\">then</span>\n",
       "<span style=\"color: #bbbbbb\">      </span><span style=\"color: #B00040\">i</span>vel<span style=\"color: #bbbbbb\"> </span>_linexp<span style=\"color: #bbbbbb\"> </span><span style=\"color: #008000\">dbamp</span>(<span style=\"color: #B00040\">i</span>amp0_),<span style=\"color: #bbbbbb\"> </span><span style=\"color: #666666\">2.6</span>,<span style=\"color: #bbbbbb\"> </span><span style=\"color: #666666\">-72</span>,<span style=\"color: #bbbbbb\"> </span><span style=\"color: #666666\">0.0</span>,<span style=\"color: #bbbbbb\"> </span><span style=\"color: #666666\">1</span>,<span style=\"color: #bbbbbb\"> </span><span style=\"color: #666666\">127</span>\n",
       "<span style=\"color: #bbbbbb\">  </span><span style=\"color: #008000; font-weight: bold\">endif</span>\n",
       "<span style=\"color: #bbbbbb\">  </span><span style=\"color: #B00040\">a</span>out1,<span style=\"color: #bbbbbb\"> </span><span style=\"color: #B00040\">a</span>out2<span style=\"color: #bbbbbb\"> </span><span style=\"color: #008000\">sfplay</span><span style=\"color: #bbbbbb\"> </span><span style=\"color: #B00040\">i</span>vel,<span style=\"color: #bbbbbb\"> </span><span style=\"color: #B00040\">i</span>note0_,<span style=\"color: #bbbbbb\"> </span><span style=\"color: #B00040\">k</span>amp<span style=\"color: #666666\">/</span><span style=\"color: #B00040\">i</span>ampdiv_,<span style=\"color: #bbbbbb\"> </span><span style=\"color: #008000\">mtof</span>:<span style=\"color: #B00040\">k</span>(<span style=\"color: #B00040\">k</span>pitch2),<span style=\"color: #bbbbbb\"> </span><span style=\"color: #B00040\">i</span>presetidx,<span style=\"color: #bbbbbb\"> </span><span style=\"color: #666666\">1</span><span style=\"color: #bbbbbb\">        </span>\n",
       "</code></pre></div>\n",
       "</span>\n",
       "<span style=\"font-size:96%\"><strong>epilogue</strong></span><br>\n",
       "<span style=\"font-size:90%\"><div class=\"highlight\" style=\"background: #f8f8f8\"><pre style=\"line-height: 125%;\"><span></span><code><span style=\"color: #bbbbbb\">  </span>turnoffWhenSilent<span style=\"color: #bbbbbb\"> </span><span style=\"color: #B00040\">a</span>out1\n",
       "</code></pre></div>\n",
       "</span>\n",
       "<hr>\n",
       "Preset: <b>gm-clarinet</b> - <span style=\"color:#A0A0A0\"><i>General MIDI clarinet</i></span>\n",
       "<br>\n",
       "<code style=\"font-size: 90%\">  <span style=\"color:#A0A0A0;font-size:96%\">(routing=True, properties={'sfpath': '/usr/share/sounds/sf2/FluidR3_GM.sf2', 'ampDivisor': None}, numouts=2, numsignals=2)\n",
       "</span></code>\n",
       "<span style=\"font-size:96%\"><strong>init</strong></span><br>\n",
       "<span style=\"font-size:90%\"><div class=\"highlight\" style=\"background: #f8f8f8\"><pre style=\"line-height: 125%;\"><span></span><code><span style=\"color: #bbbbbb\">  </span><span style=\"color: #B00040\">i</span>__SfTable__<span style=\"color: #bbbbbb\"> </span>sfloadonce<span style=\"color: #bbbbbb\"> </span><span style=\"color: #BA2121\">&quot;/usr/share/sounds/sf2/FluidR3_GM.sf2&quot;</span>\n",
       "</code></pre></div>\n",
       "</span>\n",
       "<span style=\"font-size:96%\"><strong>code</strong></span><br>\n",
       "<span style=\"font-size:90%\"><pre>  |<span style=\"color:#cccc00\">ktransp</span><span style=\"color:#A0A0A0\"><i>@transpose</i></span>=<span style=\"color:#6666E0\">0.0</span>, <span style=\"color:#cccc00\">ipitchlag</span>=<span style=\"color:#6666E0\">0.1</span>, <span style=\"color:#cccc00\">ivel</span>=<span style=\"color:#6666E0\">-1</span>|</pre></span>\n",
       "<span style=\"font-size:90%\"><div class=\"highlight\" style=\"background: #f8f8f8\"><pre style=\"line-height: 125%;\"><span></span><code><span style=\"color: #bbbbbb\">  </span><span style=\"color: #B00040\">i</span>presetidx<span style=\"color: #bbbbbb\"> </span>sfPresetIndex<span style=\"color: #bbbbbb\"> </span><span style=\"color: #BA2121\">&quot;/usr/share/sounds/sf2/FluidR3_GM.sf2&quot;</span>,<span style=\"color: #bbbbbb\"> </span><span style=\"color: #666666\">0</span>,<span style=\"color: #bbbbbb\"> </span><span style=\"color: #666666\">71</span>\n",
       "<span style=\"color: #bbbbbb\">  </span><span style=\"color: #B00040\">i</span>amp0_<span style=\"color: #bbbbbb\"> </span><span style=\"color: #666666\">=</span><span style=\"color: #bbbbbb\"> </span><span style=\"color: #008000\">p</span>(<span style=\"color: #B00040\">i</span>dataidx_<span style=\"color: #bbbbbb\"> </span><span style=\"color: #666666\">+</span><span style=\"color: #bbbbbb\"> </span><span style=\"color: #666666\">2</span>)\n",
       "<span style=\"color: #bbbbbb\">  </span><span style=\"color: #B00040\">i</span>note0_<span style=\"color: #bbbbbb\"> </span><span style=\"color: #666666\">=</span><span style=\"color: #bbbbbb\"> </span><span style=\"color: #008000\">round</span>(<span style=\"color: #008000\">p</span>(<span style=\"color: #B00040\">i</span>dataidx_<span style=\"color: #bbbbbb\"> </span><span style=\"color: #666666\">+</span><span style=\"color: #bbbbbb\"> </span><span style=\"color: #666666\">1</span>))\n",
       "<span style=\"color: #bbbbbb\">  </span><span style=\"color: #B00040\">k</span>pitch2<span style=\"color: #bbbbbb\"> </span><span style=\"color: #666666\">=</span><span style=\"color: #bbbbbb\"> </span><span style=\"color: #008000\">lag</span>:<span style=\"color: #B00040\">k</span>(<span style=\"color: #B00040\">k</span>pitch<span style=\"color: #bbbbbb\"> </span><span style=\"color: #666666\">+</span><span style=\"color: #bbbbbb\"> </span><span style=\"color: #B00040\">k</span>transp,<span style=\"color: #bbbbbb\"> </span><span style=\"color: #B00040\">i</span>pitchlag)\n",
       "<span style=\"color: #bbbbbb\">  </span><span style=\"color: #B00040\">i</span>ampdiv_<span style=\"color: #bbbbbb\"> </span><span style=\"color: #666666\">=</span><span style=\"color: #bbbbbb\"> </span><span style=\"color: #666666\">16384</span>\n",
       "<span style=\"color: #bbbbbb\">  </span><span style=\"color: #008000; font-weight: bold\">if</span><span style=\"color: #bbbbbb\"> </span><span style=\"color: #B00040\">i</span>vel<span style=\"color: #bbbbbb\"> </span><span style=\"color: #666666\">&lt;</span><span style=\"color: #bbbbbb\"> </span><span style=\"color: #666666\">0</span><span style=\"color: #bbbbbb\"> </span><span style=\"color: #008000; font-weight: bold\">then</span>\n",
       "<span style=\"color: #bbbbbb\">      </span><span style=\"color: #B00040\">i</span>vel<span style=\"color: #bbbbbb\"> </span>_linexp<span style=\"color: #bbbbbb\"> </span><span style=\"color: #008000\">dbamp</span>(<span style=\"color: #B00040\">i</span>amp0_),<span style=\"color: #bbbbbb\"> </span><span style=\"color: #666666\">2.6</span>,<span style=\"color: #bbbbbb\"> </span><span style=\"color: #666666\">-72</span>,<span style=\"color: #bbbbbb\"> </span><span style=\"color: #666666\">0.0</span>,<span style=\"color: #bbbbbb\"> </span><span style=\"color: #666666\">1</span>,<span style=\"color: #bbbbbb\"> </span><span style=\"color: #666666\">127</span>\n",
       "<span style=\"color: #bbbbbb\">  </span><span style=\"color: #008000; font-weight: bold\">endif</span>\n",
       "<span style=\"color: #bbbbbb\">  </span><span style=\"color: #B00040\">a</span>out1,<span style=\"color: #bbbbbb\"> </span><span style=\"color: #B00040\">a</span>out2<span style=\"color: #bbbbbb\"> </span><span style=\"color: #008000\">sfplay</span><span style=\"color: #bbbbbb\"> </span><span style=\"color: #B00040\">i</span>vel,<span style=\"color: #bbbbbb\"> </span><span style=\"color: #B00040\">i</span>note0_,<span style=\"color: #bbbbbb\"> </span><span style=\"color: #B00040\">k</span>amp<span style=\"color: #666666\">/</span><span style=\"color: #B00040\">i</span>ampdiv_,<span style=\"color: #bbbbbb\"> </span><span style=\"color: #008000\">mtof</span>:<span style=\"color: #B00040\">k</span>(<span style=\"color: #B00040\">k</span>pitch2),<span style=\"color: #bbbbbb\"> </span><span style=\"color: #B00040\">i</span>presetidx,<span style=\"color: #bbbbbb\"> </span><span style=\"color: #666666\">1</span><span style=\"color: #bbbbbb\">        </span>\n",
       "</code></pre></div>\n",
       "</span>\n",
       "<span style=\"font-size:96%\"><strong>epilogue</strong></span><br>\n",
       "<span style=\"font-size:90%\"><div class=\"highlight\" style=\"background: #f8f8f8\"><pre style=\"line-height: 125%;\"><span></span><code><span style=\"color: #bbbbbb\">  </span>turnoffWhenSilent<span style=\"color: #bbbbbb\"> </span><span style=\"color: #B00040\">a</span>out1\n",
       "</code></pre></div>\n",
       "</span>\n",
       "<hr>\n",
       "Preset: <b>gm-flute</b> - <span style=\"color:#A0A0A0\"><i>General MIDI flute</i></span>\n",
       "<br>\n",
       "<code style=\"font-size: 90%\">  <span style=\"color:#A0A0A0;font-size:96%\">(routing=True, properties={'sfpath': '/usr/share/sounds/sf2/FluidR3_GM.sf2', 'ampDivisor': None}, numouts=2, numsignals=2)\n",
       "</span></code>\n",
       "<span style=\"font-size:96%\"><strong>init</strong></span><br>\n",
       "<span style=\"font-size:90%\"><div class=\"highlight\" style=\"background: #f8f8f8\"><pre style=\"line-height: 125%;\"><span></span><code><span style=\"color: #bbbbbb\">  </span><span style=\"color: #B00040\">i</span>__SfTable__<span style=\"color: #bbbbbb\"> </span>sfloadonce<span style=\"color: #bbbbbb\"> </span><span style=\"color: #BA2121\">&quot;/usr/share/sounds/sf2/FluidR3_GM.sf2&quot;</span>\n",
       "</code></pre></div>\n",
       "</span>\n",
       "<span style=\"font-size:96%\"><strong>code</strong></span><br>\n",
       "<span style=\"font-size:90%\"><pre>  |<span style=\"color:#cccc00\">ktransp</span><span style=\"color:#A0A0A0\"><i>@transpose</i></span>=<span style=\"color:#6666E0\">0.0</span>, <span style=\"color:#cccc00\">ipitchlag</span>=<span style=\"color:#6666E0\">0.1</span>, <span style=\"color:#cccc00\">ivel</span>=<span style=\"color:#6666E0\">-1</span>|</pre></span>\n",
       "<span style=\"font-size:90%\"><div class=\"highlight\" style=\"background: #f8f8f8\"><pre style=\"line-height: 125%;\"><span></span><code><span style=\"color: #bbbbbb\">  </span><span style=\"color: #B00040\">i</span>presetidx<span style=\"color: #bbbbbb\"> </span>sfPresetIndex<span style=\"color: #bbbbbb\"> </span><span style=\"color: #BA2121\">&quot;/usr/share/sounds/sf2/FluidR3_GM.sf2&quot;</span>,<span style=\"color: #bbbbbb\"> </span><span style=\"color: #666666\">0</span>,<span style=\"color: #bbbbbb\"> </span><span style=\"color: #666666\">73</span>\n",
       "<span style=\"color: #bbbbbb\">  </span><span style=\"color: #B00040\">i</span>amp0_<span style=\"color: #bbbbbb\"> </span><span style=\"color: #666666\">=</span><span style=\"color: #bbbbbb\"> </span><span style=\"color: #008000\">p</span>(<span style=\"color: #B00040\">i</span>dataidx_<span style=\"color: #bbbbbb\"> </span><span style=\"color: #666666\">+</span><span style=\"color: #bbbbbb\"> </span><span style=\"color: #666666\">2</span>)\n",
       "<span style=\"color: #bbbbbb\">  </span><span style=\"color: #B00040\">i</span>note0_<span style=\"color: #bbbbbb\"> </span><span style=\"color: #666666\">=</span><span style=\"color: #bbbbbb\"> </span><span style=\"color: #008000\">round</span>(<span style=\"color: #008000\">p</span>(<span style=\"color: #B00040\">i</span>dataidx_<span style=\"color: #bbbbbb\"> </span><span style=\"color: #666666\">+</span><span style=\"color: #bbbbbb\"> </span><span style=\"color: #666666\">1</span>))\n",
       "<span style=\"color: #bbbbbb\">  </span><span style=\"color: #B00040\">k</span>pitch2<span style=\"color: #bbbbbb\"> </span><span style=\"color: #666666\">=</span><span style=\"color: #bbbbbb\"> </span><span style=\"color: #008000\">lag</span>:<span style=\"color: #B00040\">k</span>(<span style=\"color: #B00040\">k</span>pitch<span style=\"color: #bbbbbb\"> </span><span style=\"color: #666666\">+</span><span style=\"color: #bbbbbb\"> </span><span style=\"color: #B00040\">k</span>transp,<span style=\"color: #bbbbbb\"> </span><span style=\"color: #B00040\">i</span>pitchlag)\n",
       "<span style=\"color: #bbbbbb\">  </span><span style=\"color: #B00040\">i</span>ampdiv_<span style=\"color: #bbbbbb\"> </span><span style=\"color: #666666\">=</span><span style=\"color: #bbbbbb\"> </span><span style=\"color: #666666\">16384</span>\n",
       "<span style=\"color: #bbbbbb\">  </span><span style=\"color: #008000; font-weight: bold\">if</span><span style=\"color: #bbbbbb\"> </span><span style=\"color: #B00040\">i</span>vel<span style=\"color: #bbbbbb\"> </span><span style=\"color: #666666\">&lt;</span><span style=\"color: #bbbbbb\"> </span><span style=\"color: #666666\">0</span><span style=\"color: #bbbbbb\"> </span><span style=\"color: #008000; font-weight: bold\">then</span>\n",
       "<span style=\"color: #bbbbbb\">      </span><span style=\"color: #B00040\">i</span>vel<span style=\"color: #bbbbbb\"> </span>_linexp<span style=\"color: #bbbbbb\"> </span><span style=\"color: #008000\">dbamp</span>(<span style=\"color: #B00040\">i</span>amp0_),<span style=\"color: #bbbbbb\"> </span><span style=\"color: #666666\">2.6</span>,<span style=\"color: #bbbbbb\"> </span><span style=\"color: #666666\">-72</span>,<span style=\"color: #bbbbbb\"> </span><span style=\"color: #666666\">0.0</span>,<span style=\"color: #bbbbbb\"> </span><span style=\"color: #666666\">1</span>,<span style=\"color: #bbbbbb\"> </span><span style=\"color: #666666\">127</span>\n",
       "<span style=\"color: #bbbbbb\">  </span><span style=\"color: #008000; font-weight: bold\">endif</span>\n",
       "<span style=\"color: #bbbbbb\">  </span><span style=\"color: #B00040\">a</span>out1,<span style=\"color: #bbbbbb\"> </span><span style=\"color: #B00040\">a</span>out2<span style=\"color: #bbbbbb\"> </span><span style=\"color: #008000\">sfplay</span><span style=\"color: #bbbbbb\"> </span><span style=\"color: #B00040\">i</span>vel,<span style=\"color: #bbbbbb\"> </span><span style=\"color: #B00040\">i</span>note0_,<span style=\"color: #bbbbbb\"> </span><span style=\"color: #B00040\">k</span>amp<span style=\"color: #666666\">/</span><span style=\"color: #B00040\">i</span>ampdiv_,<span style=\"color: #bbbbbb\"> </span><span style=\"color: #008000\">mtof</span>:<span style=\"color: #B00040\">k</span>(<span style=\"color: #B00040\">k</span>pitch2),<span style=\"color: #bbbbbb\"> </span><span style=\"color: #B00040\">i</span>presetidx,<span style=\"color: #bbbbbb\"> </span><span style=\"color: #666666\">1</span><span style=\"color: #bbbbbb\">        </span>\n",
       "</code></pre></div>\n",
       "</span>\n",
       "<span style=\"font-size:96%\"><strong>epilogue</strong></span><br>\n",
       "<span style=\"font-size:90%\"><div class=\"highlight\" style=\"background: #f8f8f8\"><pre style=\"line-height: 125%;\"><span></span><code><span style=\"color: #bbbbbb\">  </span>turnoffWhenSilent<span style=\"color: #bbbbbb\"> </span><span style=\"color: #B00040\">a</span>out1\n",
       "</code></pre></div>\n",
       "</span>\n",
       "<hr>\n",
       "Preset: <b>gm-oboe</b> - <span style=\"color:#A0A0A0\"><i>General MIDI oboe</i></span>\n",
       "<br>\n",
       "<code style=\"font-size: 90%\">  <span style=\"color:#A0A0A0;font-size:96%\">(routing=True, properties={'sfpath': '/usr/share/sounds/sf2/FluidR3_GM.sf2', 'ampDivisor': None}, numouts=2, numsignals=2)\n",
       "</span></code>\n",
       "<span style=\"font-size:96%\"><strong>init</strong></span><br>\n",
       "<span style=\"font-size:90%\"><div class=\"highlight\" style=\"background: #f8f8f8\"><pre style=\"line-height: 125%;\"><span></span><code><span style=\"color: #bbbbbb\">  </span><span style=\"color: #B00040\">i</span>__SfTable__<span style=\"color: #bbbbbb\"> </span>sfloadonce<span style=\"color: #bbbbbb\"> </span><span style=\"color: #BA2121\">&quot;/usr/share/sounds/sf2/FluidR3_GM.sf2&quot;</span>\n",
       "</code></pre></div>\n",
       "</span>\n",
       "<span style=\"font-size:96%\"><strong>code</strong></span><br>\n",
       "<span style=\"font-size:90%\"><pre>  |<span style=\"color:#cccc00\">ktransp</span><span style=\"color:#A0A0A0\"><i>@transpose</i></span>=<span style=\"color:#6666E0\">0.0</span>, <span style=\"color:#cccc00\">ipitchlag</span>=<span style=\"color:#6666E0\">0.1</span>, <span style=\"color:#cccc00\">ivel</span>=<span style=\"color:#6666E0\">-1</span>|</pre></span>\n",
       "<span style=\"font-size:90%\"><div class=\"highlight\" style=\"background: #f8f8f8\"><pre style=\"line-height: 125%;\"><span></span><code><span style=\"color: #bbbbbb\">  </span><span style=\"color: #B00040\">i</span>presetidx<span style=\"color: #bbbbbb\"> </span>sfPresetIndex<span style=\"color: #bbbbbb\"> </span><span style=\"color: #BA2121\">&quot;/usr/share/sounds/sf2/FluidR3_GM.sf2&quot;</span>,<span style=\"color: #bbbbbb\"> </span><span style=\"color: #666666\">0</span>,<span style=\"color: #bbbbbb\"> </span><span style=\"color: #666666\">68</span>\n",
       "<span style=\"color: #bbbbbb\">  </span><span style=\"color: #B00040\">i</span>amp0_<span style=\"color: #bbbbbb\"> </span><span style=\"color: #666666\">=</span><span style=\"color: #bbbbbb\"> </span><span style=\"color: #008000\">p</span>(<span style=\"color: #B00040\">i</span>dataidx_<span style=\"color: #bbbbbb\"> </span><span style=\"color: #666666\">+</span><span style=\"color: #bbbbbb\"> </span><span style=\"color: #666666\">2</span>)\n",
       "<span style=\"color: #bbbbbb\">  </span><span style=\"color: #B00040\">i</span>note0_<span style=\"color: #bbbbbb\"> </span><span style=\"color: #666666\">=</span><span style=\"color: #bbbbbb\"> </span><span style=\"color: #008000\">round</span>(<span style=\"color: #008000\">p</span>(<span style=\"color: #B00040\">i</span>dataidx_<span style=\"color: #bbbbbb\"> </span><span style=\"color: #666666\">+</span><span style=\"color: #bbbbbb\"> </span><span style=\"color: #666666\">1</span>))\n",
       "<span style=\"color: #bbbbbb\">  </span><span style=\"color: #B00040\">k</span>pitch2<span style=\"color: #bbbbbb\"> </span><span style=\"color: #666666\">=</span><span style=\"color: #bbbbbb\"> </span><span style=\"color: #008000\">lag</span>:<span style=\"color: #B00040\">k</span>(<span style=\"color: #B00040\">k</span>pitch<span style=\"color: #bbbbbb\"> </span><span style=\"color: #666666\">+</span><span style=\"color: #bbbbbb\"> </span><span style=\"color: #B00040\">k</span>transp,<span style=\"color: #bbbbbb\"> </span><span style=\"color: #B00040\">i</span>pitchlag)\n",
       "<span style=\"color: #bbbbbb\">  </span><span style=\"color: #B00040\">i</span>ampdiv_<span style=\"color: #bbbbbb\"> </span><span style=\"color: #666666\">=</span><span style=\"color: #bbbbbb\"> </span><span style=\"color: #666666\">16384</span>\n",
       "<span style=\"color: #bbbbbb\">  </span><span style=\"color: #008000; font-weight: bold\">if</span><span style=\"color: #bbbbbb\"> </span><span style=\"color: #B00040\">i</span>vel<span style=\"color: #bbbbbb\"> </span><span style=\"color: #666666\">&lt;</span><span style=\"color: #bbbbbb\"> </span><span style=\"color: #666666\">0</span><span style=\"color: #bbbbbb\"> </span><span style=\"color: #008000; font-weight: bold\">then</span>\n",
       "<span style=\"color: #bbbbbb\">      </span><span style=\"color: #B00040\">i</span>vel<span style=\"color: #bbbbbb\"> </span>_linexp<span style=\"color: #bbbbbb\"> </span><span style=\"color: #008000\">dbamp</span>(<span style=\"color: #B00040\">i</span>amp0_),<span style=\"color: #bbbbbb\"> </span><span style=\"color: #666666\">2.6</span>,<span style=\"color: #bbbbbb\"> </span><span style=\"color: #666666\">-72</span>,<span style=\"color: #bbbbbb\"> </span><span style=\"color: #666666\">0.0</span>,<span style=\"color: #bbbbbb\"> </span><span style=\"color: #666666\">1</span>,<span style=\"color: #bbbbbb\"> </span><span style=\"color: #666666\">127</span>\n",
       "<span style=\"color: #bbbbbb\">  </span><span style=\"color: #008000; font-weight: bold\">endif</span>\n",
       "<span style=\"color: #bbbbbb\">  </span><span style=\"color: #B00040\">a</span>out1,<span style=\"color: #bbbbbb\"> </span><span style=\"color: #B00040\">a</span>out2<span style=\"color: #bbbbbb\"> </span><span style=\"color: #008000\">sfplay</span><span style=\"color: #bbbbbb\"> </span><span style=\"color: #B00040\">i</span>vel,<span style=\"color: #bbbbbb\"> </span><span style=\"color: #B00040\">i</span>note0_,<span style=\"color: #bbbbbb\"> </span><span style=\"color: #B00040\">k</span>amp<span style=\"color: #666666\">/</span><span style=\"color: #B00040\">i</span>ampdiv_,<span style=\"color: #bbbbbb\"> </span><span style=\"color: #008000\">mtof</span>:<span style=\"color: #B00040\">k</span>(<span style=\"color: #B00040\">k</span>pitch2),<span style=\"color: #bbbbbb\"> </span><span style=\"color: #B00040\">i</span>presetidx,<span style=\"color: #bbbbbb\"> </span><span style=\"color: #666666\">1</span><span style=\"color: #bbbbbb\">        </span>\n",
       "</code></pre></div>\n",
       "</span>\n",
       "<span style=\"font-size:96%\"><strong>epilogue</strong></span><br>\n",
       "<span style=\"font-size:90%\"><div class=\"highlight\" style=\"background: #f8f8f8\"><pre style=\"line-height: 125%;\"><span></span><code><span style=\"color: #bbbbbb\">  </span>turnoffWhenSilent<span style=\"color: #bbbbbb\"> </span><span style=\"color: #B00040\">a</span>out1\n",
       "</code></pre></div>\n",
       "</span>\n",
       "<hr>\n",
       "Preset: <b>gm-piano</b> - <span style=\"color:#A0A0A0\"><i>General MIDI piano</i></span>\n",
       "<br>\n",
       "<code style=\"font-size: 90%\">  <span style=\"color:#A0A0A0;font-size:96%\">(routing=True, properties={'sfpath': '/usr/share/sounds/sf2/FluidR3_GM.sf2', 'ampDivisor': None}, numouts=2, numsignals=2)\n",
       "</span></code>\n",
       "<span style=\"font-size:96%\"><strong>init</strong></span><br>\n",
       "<span style=\"font-size:90%\"><div class=\"highlight\" style=\"background: #f8f8f8\"><pre style=\"line-height: 125%;\"><span></span><code><span style=\"color: #bbbbbb\">  </span><span style=\"color: #B00040\">i</span>__SfTable__<span style=\"color: #bbbbbb\"> </span>sfloadonce<span style=\"color: #bbbbbb\"> </span><span style=\"color: #BA2121\">&quot;/usr/share/sounds/sf2/FluidR3_GM.sf2&quot;</span>\n",
       "</code></pre></div>\n",
       "</span>\n",
       "<span style=\"font-size:96%\"><strong>code</strong></span><br>\n",
       "<span style=\"font-size:90%\"><pre>  |<span style=\"color:#cccc00\">ktransp</span><span style=\"color:#A0A0A0\"><i>@transpose</i></span>=<span style=\"color:#6666E0\">0.0</span>, <span style=\"color:#cccc00\">ipitchlag</span>=<span style=\"color:#6666E0\">0.1</span>, <span style=\"color:#cccc00\">ivel</span>=<span style=\"color:#6666E0\">-1</span>|</pre></span>\n",
       "<span style=\"font-size:90%\"><div class=\"highlight\" style=\"background: #f8f8f8\"><pre style=\"line-height: 125%;\"><span></span><code><span style=\"color: #bbbbbb\">  </span><span style=\"color: #B00040\">i</span>presetidx<span style=\"color: #bbbbbb\"> </span>sfPresetIndex<span style=\"color: #bbbbbb\"> </span><span style=\"color: #BA2121\">&quot;/usr/share/sounds/sf2/FluidR3_GM.sf2&quot;</span>,<span style=\"color: #bbbbbb\"> </span><span style=\"color: #666666\">0</span>,<span style=\"color: #bbbbbb\"> </span><span style=\"color: #666666\">0</span>\n",
       "<span style=\"color: #bbbbbb\">  </span><span style=\"color: #B00040\">i</span>amp0_<span style=\"color: #bbbbbb\"> </span><span style=\"color: #666666\">=</span><span style=\"color: #bbbbbb\"> </span><span style=\"color: #008000\">p</span>(<span style=\"color: #B00040\">i</span>dataidx_<span style=\"color: #bbbbbb\"> </span><span style=\"color: #666666\">+</span><span style=\"color: #bbbbbb\"> </span><span style=\"color: #666666\">2</span>)\n",
       "<span style=\"color: #bbbbbb\">  </span><span style=\"color: #B00040\">i</span>note0_<span style=\"color: #bbbbbb\"> </span><span style=\"color: #666666\">=</span><span style=\"color: #bbbbbb\"> </span><span style=\"color: #008000\">round</span>(<span style=\"color: #008000\">p</span>(<span style=\"color: #B00040\">i</span>dataidx_<span style=\"color: #bbbbbb\"> </span><span style=\"color: #666666\">+</span><span style=\"color: #bbbbbb\"> </span><span style=\"color: #666666\">1</span>))\n",
       "<span style=\"color: #bbbbbb\">  </span><span style=\"color: #B00040\">k</span>pitch2<span style=\"color: #bbbbbb\"> </span><span style=\"color: #666666\">=</span><span style=\"color: #bbbbbb\"> </span><span style=\"color: #008000\">lag</span>:<span style=\"color: #B00040\">k</span>(<span style=\"color: #B00040\">k</span>pitch<span style=\"color: #bbbbbb\"> </span><span style=\"color: #666666\">+</span><span style=\"color: #bbbbbb\"> </span><span style=\"color: #B00040\">k</span>transp,<span style=\"color: #bbbbbb\"> </span><span style=\"color: #B00040\">i</span>pitchlag)\n",
       "<span style=\"color: #bbbbbb\">  </span><span style=\"color: #B00040\">i</span>ampdiv_<span style=\"color: #bbbbbb\"> </span><span style=\"color: #666666\">=</span><span style=\"color: #bbbbbb\"> </span><span style=\"color: #666666\">16384</span>\n",
       "<span style=\"color: #bbbbbb\">  </span><span style=\"color: #008000; font-weight: bold\">if</span><span style=\"color: #bbbbbb\"> </span><span style=\"color: #B00040\">i</span>vel<span style=\"color: #bbbbbb\"> </span><span style=\"color: #666666\">&lt;</span><span style=\"color: #bbbbbb\"> </span><span style=\"color: #666666\">0</span><span style=\"color: #bbbbbb\"> </span><span style=\"color: #008000; font-weight: bold\">then</span>\n",
       "<span style=\"color: #bbbbbb\">      </span><span style=\"color: #B00040\">i</span>vel<span style=\"color: #bbbbbb\"> </span>_linexp<span style=\"color: #bbbbbb\"> </span><span style=\"color: #008000\">dbamp</span>(<span style=\"color: #B00040\">i</span>amp0_),<span style=\"color: #bbbbbb\"> </span><span style=\"color: #666666\">2.6</span>,<span style=\"color: #bbbbbb\"> </span><span style=\"color: #666666\">-72</span>,<span style=\"color: #bbbbbb\"> </span><span style=\"color: #666666\">0.0</span>,<span style=\"color: #bbbbbb\"> </span><span style=\"color: #666666\">1</span>,<span style=\"color: #bbbbbb\"> </span><span style=\"color: #666666\">127</span>\n",
       "<span style=\"color: #bbbbbb\">  </span><span style=\"color: #008000; font-weight: bold\">endif</span>\n",
       "<span style=\"color: #bbbbbb\">  </span><span style=\"color: #B00040\">a</span>out1,<span style=\"color: #bbbbbb\"> </span><span style=\"color: #B00040\">a</span>out2<span style=\"color: #bbbbbb\"> </span><span style=\"color: #008000\">sfplay</span><span style=\"color: #bbbbbb\"> </span><span style=\"color: #B00040\">i</span>vel,<span style=\"color: #bbbbbb\"> </span><span style=\"color: #B00040\">i</span>note0_,<span style=\"color: #bbbbbb\"> </span><span style=\"color: #B00040\">k</span>amp<span style=\"color: #666666\">/</span><span style=\"color: #B00040\">i</span>ampdiv_,<span style=\"color: #bbbbbb\"> </span><span style=\"color: #008000\">mtof</span>:<span style=\"color: #B00040\">k</span>(<span style=\"color: #B00040\">k</span>pitch2),<span style=\"color: #bbbbbb\"> </span><span style=\"color: #B00040\">i</span>presetidx,<span style=\"color: #bbbbbb\"> </span><span style=\"color: #666666\">1</span><span style=\"color: #bbbbbb\">        </span>\n",
       "</code></pre></div>\n",
       "</span>\n",
       "<span style=\"font-size:96%\"><strong>epilogue</strong></span><br>\n",
       "<span style=\"font-size:90%\"><div class=\"highlight\" style=\"background: #f8f8f8\"><pre style=\"line-height: 125%;\"><span></span><code><span style=\"color: #bbbbbb\">  </span>turnoffWhenSilent<span style=\"color: #bbbbbb\"> </span><span style=\"color: #B00040\">a</span>out1\n",
       "</code></pre></div>\n",
       "</span>\n",
       "<hr>\n",
       "Preset: <b>gm-reedorgan</b> - <span style=\"color:#A0A0A0\"><i>General MIDI reedorgan</i></span>\n",
       "<br>\n",
       "<code style=\"font-size: 90%\">  <span style=\"color:#A0A0A0;font-size:96%\">(routing=True, properties={'sfpath': '/usr/share/sounds/sf2/FluidR3_GM.sf2', 'ampDivisor': None}, numouts=2, numsignals=2)\n",
       "</span></code>\n",
       "<span style=\"font-size:96%\"><strong>init</strong></span><br>\n",
       "<span style=\"font-size:90%\"><div class=\"highlight\" style=\"background: #f8f8f8\"><pre style=\"line-height: 125%;\"><span></span><code><span style=\"color: #bbbbbb\">  </span><span style=\"color: #B00040\">i</span>__SfTable__<span style=\"color: #bbbbbb\"> </span>sfloadonce<span style=\"color: #bbbbbb\"> </span><span style=\"color: #BA2121\">&quot;/usr/share/sounds/sf2/FluidR3_GM.sf2&quot;</span>\n",
       "</code></pre></div>\n",
       "</span>\n",
       "<span style=\"font-size:96%\"><strong>code</strong></span><br>\n",
       "<span style=\"font-size:90%\"><pre>  |<span style=\"color:#cccc00\">ktransp</span><span style=\"color:#A0A0A0\"><i>@transpose</i></span>=<span style=\"color:#6666E0\">0.0</span>, <span style=\"color:#cccc00\">ipitchlag</span>=<span style=\"color:#6666E0\">0.1</span>, <span style=\"color:#cccc00\">ivel</span>=<span style=\"color:#6666E0\">-1</span>|</pre></span>\n",
       "<span style=\"font-size:90%\"><div class=\"highlight\" style=\"background: #f8f8f8\"><pre style=\"line-height: 125%;\"><span></span><code><span style=\"color: #bbbbbb\">  </span><span style=\"color: #B00040\">i</span>presetidx<span style=\"color: #bbbbbb\"> </span>sfPresetIndex<span style=\"color: #bbbbbb\"> </span><span style=\"color: #BA2121\">&quot;/usr/share/sounds/sf2/FluidR3_GM.sf2&quot;</span>,<span style=\"color: #bbbbbb\"> </span><span style=\"color: #666666\">0</span>,<span style=\"color: #bbbbbb\"> </span><span style=\"color: #666666\">20</span>\n",
       "<span style=\"color: #bbbbbb\">  </span><span style=\"color: #B00040\">i</span>amp0_<span style=\"color: #bbbbbb\"> </span><span style=\"color: #666666\">=</span><span style=\"color: #bbbbbb\"> </span><span style=\"color: #008000\">p</span>(<span style=\"color: #B00040\">i</span>dataidx_<span style=\"color: #bbbbbb\"> </span><span style=\"color: #666666\">+</span><span style=\"color: #bbbbbb\"> </span><span style=\"color: #666666\">2</span>)\n",
       "<span style=\"color: #bbbbbb\">  </span><span style=\"color: #B00040\">i</span>note0_<span style=\"color: #bbbbbb\"> </span><span style=\"color: #666666\">=</span><span style=\"color: #bbbbbb\"> </span><span style=\"color: #008000\">round</span>(<span style=\"color: #008000\">p</span>(<span style=\"color: #B00040\">i</span>dataidx_<span style=\"color: #bbbbbb\"> </span><span style=\"color: #666666\">+</span><span style=\"color: #bbbbbb\"> </span><span style=\"color: #666666\">1</span>))\n",
       "<span style=\"color: #bbbbbb\">  </span><span style=\"color: #B00040\">k</span>pitch2<span style=\"color: #bbbbbb\"> </span><span style=\"color: #666666\">=</span><span style=\"color: #bbbbbb\"> </span><span style=\"color: #008000\">lag</span>:<span style=\"color: #B00040\">k</span>(<span style=\"color: #B00040\">k</span>pitch<span style=\"color: #bbbbbb\"> </span><span style=\"color: #666666\">+</span><span style=\"color: #bbbbbb\"> </span><span style=\"color: #B00040\">k</span>transp,<span style=\"color: #bbbbbb\"> </span><span style=\"color: #B00040\">i</span>pitchlag)\n",
       "<span style=\"color: #bbbbbb\">  </span><span style=\"color: #B00040\">i</span>ampdiv_<span style=\"color: #bbbbbb\"> </span><span style=\"color: #666666\">=</span><span style=\"color: #bbbbbb\"> </span><span style=\"color: #666666\">16384</span>\n",
       "<span style=\"color: #bbbbbb\">  </span><span style=\"color: #008000; font-weight: bold\">if</span><span style=\"color: #bbbbbb\"> </span><span style=\"color: #B00040\">i</span>vel<span style=\"color: #bbbbbb\"> </span><span style=\"color: #666666\">&lt;</span><span style=\"color: #bbbbbb\"> </span><span style=\"color: #666666\">0</span><span style=\"color: #bbbbbb\"> </span><span style=\"color: #008000; font-weight: bold\">then</span>\n",
       "<span style=\"color: #bbbbbb\">      </span><span style=\"color: #B00040\">i</span>vel<span style=\"color: #bbbbbb\"> </span>_linexp<span style=\"color: #bbbbbb\"> </span><span style=\"color: #008000\">dbamp</span>(<span style=\"color: #B00040\">i</span>amp0_),<span style=\"color: #bbbbbb\"> </span><span style=\"color: #666666\">2.6</span>,<span style=\"color: #bbbbbb\"> </span><span style=\"color: #666666\">-72</span>,<span style=\"color: #bbbbbb\"> </span><span style=\"color: #666666\">0.0</span>,<span style=\"color: #bbbbbb\"> </span><span style=\"color: #666666\">1</span>,<span style=\"color: #bbbbbb\"> </span><span style=\"color: #666666\">127</span>\n",
       "<span style=\"color: #bbbbbb\">  </span><span style=\"color: #008000; font-weight: bold\">endif</span>\n",
       "<span style=\"color: #bbbbbb\">  </span><span style=\"color: #B00040\">a</span>out1,<span style=\"color: #bbbbbb\"> </span><span style=\"color: #B00040\">a</span>out2<span style=\"color: #bbbbbb\"> </span><span style=\"color: #008000\">sfplay</span><span style=\"color: #bbbbbb\"> </span><span style=\"color: #B00040\">i</span>vel,<span style=\"color: #bbbbbb\"> </span><span style=\"color: #B00040\">i</span>note0_,<span style=\"color: #bbbbbb\"> </span><span style=\"color: #B00040\">k</span>amp<span style=\"color: #666666\">/</span><span style=\"color: #B00040\">i</span>ampdiv_,<span style=\"color: #bbbbbb\"> </span><span style=\"color: #008000\">mtof</span>:<span style=\"color: #B00040\">k</span>(<span style=\"color: #B00040\">k</span>pitch2),<span style=\"color: #bbbbbb\"> </span><span style=\"color: #B00040\">i</span>presetidx,<span style=\"color: #bbbbbb\"> </span><span style=\"color: #666666\">1</span><span style=\"color: #bbbbbb\">        </span>\n",
       "</code></pre></div>\n",
       "</span>\n",
       "<span style=\"font-size:96%\"><strong>epilogue</strong></span><br>\n",
       "<span style=\"font-size:90%\"><div class=\"highlight\" style=\"background: #f8f8f8\"><pre style=\"line-height: 125%;\"><span></span><code><span style=\"color: #bbbbbb\">  </span>turnoffWhenSilent<span style=\"color: #bbbbbb\"> </span><span style=\"color: #B00040\">a</span>out1\n",
       "</code></pre></div>\n",
       "</span>\n",
       "<hr>\n",
       "Preset: <b>gm-violin</b> - <span style=\"color:#A0A0A0\"><i>General MIDI violin</i></span>\n",
       "<br>\n",
       "<code style=\"font-size: 90%\">  <span style=\"color:#A0A0A0;font-size:96%\">(routing=True, properties={'sfpath': '/usr/share/sounds/sf2/FluidR3_GM.sf2', 'ampDivisor': None}, numouts=2, numsignals=2)\n",
       "</span></code>\n",
       "<span style=\"font-size:96%\"><strong>init</strong></span><br>\n",
       "<span style=\"font-size:90%\"><div class=\"highlight\" style=\"background: #f8f8f8\"><pre style=\"line-height: 125%;\"><span></span><code><span style=\"color: #bbbbbb\">  </span><span style=\"color: #B00040\">i</span>__SfTable__<span style=\"color: #bbbbbb\"> </span>sfloadonce<span style=\"color: #bbbbbb\"> </span><span style=\"color: #BA2121\">&quot;/usr/share/sounds/sf2/FluidR3_GM.sf2&quot;</span>\n",
       "</code></pre></div>\n",
       "</span>\n",
       "<span style=\"font-size:96%\"><strong>code</strong></span><br>\n",
       "<span style=\"font-size:90%\"><pre>  |<span style=\"color:#cccc00\">ktransp</span><span style=\"color:#A0A0A0\"><i>@transpose</i></span>=<span style=\"color:#6666E0\">0.0</span>, <span style=\"color:#cccc00\">ipitchlag</span>=<span style=\"color:#6666E0\">0.1</span>, <span style=\"color:#cccc00\">ivel</span>=<span style=\"color:#6666E0\">-1</span>|</pre></span>\n",
       "<span style=\"font-size:90%\"><div class=\"highlight\" style=\"background: #f8f8f8\"><pre style=\"line-height: 125%;\"><span></span><code><span style=\"color: #bbbbbb\">  </span><span style=\"color: #B00040\">i</span>presetidx<span style=\"color: #bbbbbb\"> </span>sfPresetIndex<span style=\"color: #bbbbbb\"> </span><span style=\"color: #BA2121\">&quot;/usr/share/sounds/sf2/FluidR3_GM.sf2&quot;</span>,<span style=\"color: #bbbbbb\"> </span><span style=\"color: #666666\">0</span>,<span style=\"color: #bbbbbb\"> </span><span style=\"color: #666666\">40</span>\n",
       "<span style=\"color: #bbbbbb\">  </span><span style=\"color: #B00040\">i</span>amp0_<span style=\"color: #bbbbbb\"> </span><span style=\"color: #666666\">=</span><span style=\"color: #bbbbbb\"> </span><span style=\"color: #008000\">p</span>(<span style=\"color: #B00040\">i</span>dataidx_<span style=\"color: #bbbbbb\"> </span><span style=\"color: #666666\">+</span><span style=\"color: #bbbbbb\"> </span><span style=\"color: #666666\">2</span>)\n",
       "<span style=\"color: #bbbbbb\">  </span><span style=\"color: #B00040\">i</span>note0_<span style=\"color: #bbbbbb\"> </span><span style=\"color: #666666\">=</span><span style=\"color: #bbbbbb\"> </span><span style=\"color: #008000\">round</span>(<span style=\"color: #008000\">p</span>(<span style=\"color: #B00040\">i</span>dataidx_<span style=\"color: #bbbbbb\"> </span><span style=\"color: #666666\">+</span><span style=\"color: #bbbbbb\"> </span><span style=\"color: #666666\">1</span>))\n",
       "<span style=\"color: #bbbbbb\">  </span><span style=\"color: #B00040\">k</span>pitch2<span style=\"color: #bbbbbb\"> </span><span style=\"color: #666666\">=</span><span style=\"color: #bbbbbb\"> </span><span style=\"color: #008000\">lag</span>:<span style=\"color: #B00040\">k</span>(<span style=\"color: #B00040\">k</span>pitch<span style=\"color: #bbbbbb\"> </span><span style=\"color: #666666\">+</span><span style=\"color: #bbbbbb\"> </span><span style=\"color: #B00040\">k</span>transp,<span style=\"color: #bbbbbb\"> </span><span style=\"color: #B00040\">i</span>pitchlag)\n",
       "<span style=\"color: #bbbbbb\">  </span><span style=\"color: #B00040\">i</span>ampdiv_<span style=\"color: #bbbbbb\"> </span><span style=\"color: #666666\">=</span><span style=\"color: #bbbbbb\"> </span><span style=\"color: #666666\">16384</span>\n",
       "<span style=\"color: #bbbbbb\">  </span><span style=\"color: #008000; font-weight: bold\">if</span><span style=\"color: #bbbbbb\"> </span><span style=\"color: #B00040\">i</span>vel<span style=\"color: #bbbbbb\"> </span><span style=\"color: #666666\">&lt;</span><span style=\"color: #bbbbbb\"> </span><span style=\"color: #666666\">0</span><span style=\"color: #bbbbbb\"> </span><span style=\"color: #008000; font-weight: bold\">then</span>\n",
       "<span style=\"color: #bbbbbb\">      </span><span style=\"color: #B00040\">i</span>vel<span style=\"color: #bbbbbb\"> </span>_linexp<span style=\"color: #bbbbbb\"> </span><span style=\"color: #008000\">dbamp</span>(<span style=\"color: #B00040\">i</span>amp0_),<span style=\"color: #bbbbbb\"> </span><span style=\"color: #666666\">2.6</span>,<span style=\"color: #bbbbbb\"> </span><span style=\"color: #666666\">-72</span>,<span style=\"color: #bbbbbb\"> </span><span style=\"color: #666666\">0.0</span>,<span style=\"color: #bbbbbb\"> </span><span style=\"color: #666666\">1</span>,<span style=\"color: #bbbbbb\"> </span><span style=\"color: #666666\">127</span>\n",
       "<span style=\"color: #bbbbbb\">  </span><span style=\"color: #008000; font-weight: bold\">endif</span>\n",
       "<span style=\"color: #bbbbbb\">  </span><span style=\"color: #B00040\">a</span>out1,<span style=\"color: #bbbbbb\"> </span><span style=\"color: #B00040\">a</span>out2<span style=\"color: #bbbbbb\"> </span><span style=\"color: #008000\">sfplay</span><span style=\"color: #bbbbbb\"> </span><span style=\"color: #B00040\">i</span>vel,<span style=\"color: #bbbbbb\"> </span><span style=\"color: #B00040\">i</span>note0_,<span style=\"color: #bbbbbb\"> </span><span style=\"color: #B00040\">k</span>amp<span style=\"color: #666666\">/</span><span style=\"color: #B00040\">i</span>ampdiv_,<span style=\"color: #bbbbbb\"> </span><span style=\"color: #008000\">mtof</span>:<span style=\"color: #B00040\">k</span>(<span style=\"color: #B00040\">k</span>pitch2),<span style=\"color: #bbbbbb\"> </span><span style=\"color: #B00040\">i</span>presetidx,<span style=\"color: #bbbbbb\"> </span><span style=\"color: #666666\">1</span><span style=\"color: #bbbbbb\">        </span>\n",
       "</code></pre></div>\n",
       "</span>\n",
       "<span style=\"font-size:96%\"><strong>epilogue</strong></span><br>\n",
       "<span style=\"font-size:90%\"><div class=\"highlight\" style=\"background: #f8f8f8\"><pre style=\"line-height: 125%;\"><span></span><code><span style=\"color: #bbbbbb\">  </span>turnoffWhenSilent<span style=\"color: #bbbbbb\"> </span><span style=\"color: #B00040\">a</span>out1\n",
       "</code></pre></div>\n",
       "</span>\n",
       "<hr>\n",
       "Preset: <b>.click</b> - <span style=\"color:#A0A0A0\"><i>Default preset used when rendering a click-track</i></span>\n",
       "<br>\n",
       "<code style=\"font-size: 90%\">  <span style=\"color:#A0A0A0;font-size:96%\">(routing=True, numouts=2, numsignals=1)\n",
       "</span></code>\n",
       "<ul style=\"line-height: 120%\">\n",
       "<li><span style=\"font-size:90%\"><strong>itransp</strong></span>: <span style=\"font-size:90%\"><i>transposition interval</i></span></li>\n",
       "</ul>\n",
       "<span style=\"font-size:96%\"><strong>code</strong></span><br>\n",
       "<span style=\"font-size:90%\"><pre>  |itransp=<span style=\"color:#6666E0\">24.0</span>, idecay=<span style=\"color:#6666E0\">0.1</span>|</pre></span>\n",
       "<span style=\"font-size:90%\"><div class=\"highlight\" style=\"background: #f8f8f8\"><pre style=\"line-height: 125%;\"><span></span><code><span style=\"color: #bbbbbb\">  </span><span style=\"color: #3D7B7B; font-style: italic\">; Default preset used when rendering a click-track</span>\n",
       "<span style=\"color: #bbbbbb\">  </span><span style=\"color: #3D7B7B; font-style: italic\">; Args:</span>\n",
       "<span style=\"color: #bbbbbb\">  </span><span style=\"color: #3D7B7B; font-style: italic\">;   itransp: transposition interval</span>\n",
       "<span style=\"color: #bbbbbb\">  </span><span style=\"color: #B00040\">a</span>clickenv<span style=\"color: #bbbbbb\"> </span><span style=\"color: #008000\">expseg</span><span style=\"color: #bbbbbb\"> </span><span style=\"color: #008000\">db</span>(<span style=\"color: #666666\">-120</span>),<span style=\"color: #bbbbbb\"> </span><span style=\"color: #666666\">0.01</span>,<span style=\"color: #bbbbbb\"> </span><span style=\"color: #666666\">1</span>,<span style=\"color: #bbbbbb\"> </span><span style=\"color: #B00040\">i</span>decay,<span style=\"color: #bbbbbb\"> </span><span style=\"color: #008000\">db</span>(<span style=\"color: #666666\">-120</span>)\n",
       "<span style=\"color: #bbbbbb\">  </span><span style=\"color: #B00040\">a</span>out1<span style=\"color: #bbbbbb\"> </span><span style=\"color: #666666\">=</span><span style=\"color: #bbbbbb\"> </span><span style=\"color: #008000\">oscili</span>:<span style=\"color: #B00040\">a</span>(<span style=\"color: #B00040\">a</span>clickenv,<span style=\"color: #bbbbbb\"> </span><span style=\"color: #008000\">mtof</span>:<span style=\"color: #B00040\">k</span>(<span style=\"color: #B00040\">k</span>pitch<span style=\"color: #666666\">+</span><span style=\"color: #B00040\">i</span>transp))\n",
       "</code></pre></div>\n",
       "</span>\n",
       "<hr>\n",
       "Preset: <b>.sing</b> - <span style=\"color:#A0A0A0\"><i>Simple vowel singing simulation</i></span>\n",
       "<br>\n",
       "<code style=\"font-size: 90%\">  <span style=\"color:#A0A0A0;font-size:96%\">(routing=True, numouts=2, numsignals=1)\n",
       "</span></code>\n",
       "<ul style=\"line-height: 120%\">\n",
       "<li><span style=\"font-size:90%\"><strong>kx</strong></span>: <span style=\"font-size:90%\"><i>x coordinate, from 0 to 1, A=(0;0), E=(0.5;0.5), I=(1;0), O=(0;1), U=(1;1)</i></span></li>\n",
       "<li><span style=\"font-size:90%\"><strong>ky</strong></span>: <span style=\"font-size:90%\"><i>y coordinate, from 0 to 1, A=(0;0), E=(0.5;0.5), I=(1;0), O=(0;1), U=(1;1)</i></span></li>\n",
       "<li><span style=\"font-size:90%\"><strong>kvibrange</strong></span>: <span style=\"font-size:90%\"><i>vibrato range in semitones</i></span></li>\n",
       "<li><span style=\"font-size:90%\"><strong>ivibstart</strong></span>: <span style=\"font-size:90%\"><i>start time of vibrato</i></span></li>\n",
       "<li><span style=\"font-size:90%\"><strong>ivibfreq</strong></span>: <span style=\"font-size:90%\"><i>vibrato frequency</i></span></li>\n",
       "<li><span style=\"font-size:90%\"><strong>ipitchlag</strong></span>: <span style=\"font-size:90%\"><i>time lag for pitch modifications</i></span></li>\n",
       "</ul>\n",
       "<span style=\"font-size:96%\"><strong>init</strong></span><br>\n",
       "<span style=\"font-size:90%\"><div class=\"highlight\" style=\"background: #f8f8f8\"><pre style=\"line-height: 125%;\"><span></span><code><span style=\"color: #bbbbbb\">  </span><span style=\"color: #B00040\">gi</span>__formantFreqs__[]<span style=\"color: #bbbbbb\"> </span><span style=\"color: #008000\">fillarray</span><span style=\"color: #bbbbbb\"> </span>\\\n",
       "<span style=\"color: #bbbbbb\">      </span><span style=\"color: #666666\">668</span>,<span style=\"color: #bbbbbb\"> </span><span style=\"color: #666666\">1191</span>,<span style=\"color: #bbbbbb\"> </span><span style=\"color: #666666\">2428</span>,<span style=\"color: #bbbbbb\"> </span><span style=\"color: #666666\">3321</span>,<span style=\"color: #bbbbbb\"> </span><span style=\"color: #666666\">4600</span>,<span style=\"color: #bbbbbb\"> </span><span style=\"border: 1px solid #FF0000\">\\</span><span style=\"color: #bbbbbb\">  </span><span style=\"color: #3D7B7B; font-style: italic\">; A</span>\n",
       "<span style=\"color: #bbbbbb\">      </span><span style=\"color: #666666\">327</span>,<span style=\"color: #bbbbbb\"> </span><span style=\"color: #666666\">2157</span>,<span style=\"color: #bbbbbb\"> </span><span style=\"color: #666666\">2754</span>,<span style=\"color: #bbbbbb\"> </span><span style=\"color: #666666\">3630</span>,<span style=\"color: #bbbbbb\"> </span><span style=\"color: #666666\">4600</span>,<span style=\"color: #bbbbbb\"> </span><span style=\"border: 1px solid #FF0000\">\\</span><span style=\"color: #bbbbbb\">  </span><span style=\"color: #3D7B7B; font-style: italic\">; E </span>\n",
       "<span style=\"color: #bbbbbb\">      </span><span style=\"color: #666666\">208</span>,<span style=\"color: #bbbbbb\"> </span><span style=\"color: #666666\">2152</span>,<span style=\"color: #bbbbbb\"> </span><span style=\"color: #666666\">3128</span>,<span style=\"color: #bbbbbb\"> </span><span style=\"color: #666666\">3425</span>,<span style=\"color: #bbbbbb\"> </span><span style=\"color: #666666\">4200</span>,<span style=\"color: #bbbbbb\"> </span><span style=\"border: 1px solid #FF0000\">\\</span><span style=\"color: #bbbbbb\">  </span><span style=\"color: #3D7B7B; font-style: italic\">; I</span>\n",
       "<span style=\"color: #bbbbbb\">      </span><span style=\"color: #666666\">335</span>,<span style=\"color: #bbbbbb\"> </span><span style=\"color: #666666\">628</span>,<span style=\"color: #bbbbbb\"> </span><span style=\"color: #666666\">2689</span>,<span style=\"color: #bbbbbb\"> </span><span style=\"color: #666666\">3515</span>,<span style=\"color: #bbbbbb\"> </span><span style=\"color: #666666\">4200</span>,<span style=\"color: #bbbbbb\"> </span><span style=\"border: 1px solid #FF0000\">\\</span><span style=\"color: #bbbbbb\">   </span><span style=\"color: #3D7B7B; font-style: italic\">; O</span>\n",
       "<span style=\"color: #bbbbbb\">      </span><span style=\"color: #666666\">254</span>,<span style=\"color: #bbbbbb\"> </span><span style=\"color: #666666\">796</span>,<span style=\"color: #bbbbbb\"> </span><span style=\"color: #666666\">2515</span>,<span style=\"color: #bbbbbb\"> </span><span style=\"color: #666666\">3274</span>,<span style=\"color: #bbbbbb\"> </span><span style=\"color: #666666\">4160</span><span style=\"color: #bbbbbb\">      </span><span style=\"color: #3D7B7B; font-style: italic\">; U</span>\n",
       "\n",
       "<span style=\"color: #bbbbbb\">  </span><span style=\"color: #B00040\">gi</span>__formantDbs__[]<span style=\"color: #bbbbbb\"> </span><span style=\"color: #008000\">fillarray</span><span style=\"color: #bbbbbb\">   </span>\\\n",
       "<span style=\"color: #bbbbbb\">      </span><span style=\"color: #666666\">28</span>,<span style=\"color: #bbbbbb\"> </span><span style=\"color: #666666\">28</span>,<span style=\"color: #bbbbbb\"> </span><span style=\"color: #666666\">22</span>,<span style=\"color: #bbbbbb\"> </span><span style=\"color: #666666\">20</span>,<span style=\"color: #bbbbbb\"> </span><span style=\"color: #666666\">20</span>,<span style=\"color: #bbbbbb\"> </span>\\\n",
       "<span style=\"color: #bbbbbb\">      </span><span style=\"color: #666666\">15</span>,<span style=\"color: #bbbbbb\"> </span><span style=\"color: #666666\">25</span>,<span style=\"color: #bbbbbb\"> </span><span style=\"color: #666666\">24</span>,<span style=\"color: #bbbbbb\"> </span><span style=\"color: #666666\">20</span>,<span style=\"color: #bbbbbb\"> </span><span style=\"color: #666666\">23</span>,<span style=\"color: #bbbbbb\"> </span>\\\n",
       "<span style=\"color: #bbbbbb\">      </span><span style=\"color: #666666\">10</span>,<span style=\"color: #bbbbbb\"> </span><span style=\"color: #666666\">20</span>,<span style=\"color: #bbbbbb\"> </span><span style=\"color: #666666\">27</span>,<span style=\"color: #bbbbbb\"> </span><span style=\"color: #666666\">26</span>,<span style=\"color: #bbbbbb\"> </span><span style=\"color: #666666\">20</span>,<span style=\"color: #bbbbbb\"> </span>\\\n",
       "<span style=\"color: #bbbbbb\">      </span><span style=\"color: #666666\">15</span>,<span style=\"color: #bbbbbb\"> </span><span style=\"color: #666666\">18</span>,<span style=\"color: #bbbbbb\"> </span><span style=\"color: #666666\">5</span>,<span style=\"color: #bbbbbb\">  </span><span style=\"color: #666666\">7</span>,<span style=\"color: #bbbbbb\">  </span><span style=\"color: #666666\">12</span>,<span style=\"color: #bbbbbb\"> </span>\\\n",
       "<span style=\"color: #bbbbbb\">      </span><span style=\"color: #666666\">12</span>,<span style=\"color: #bbbbbb\"> </span><span style=\"color: #666666\">10</span>,<span style=\"color: #bbbbbb\"> </span><span style=\"color: #666666\">6</span>,<span style=\"color: #bbbbbb\">  </span><span style=\"color: #666666\">5</span>,<span style=\"color: #bbbbbb\">  </span><span style=\"color: #666666\">12</span>\n",
       "\n",
       "<span style=\"color: #bbbbbb\">  </span><span style=\"color: #B00040\">gi</span>__formantBws__[]<span style=\"color: #bbbbbb\"> </span><span style=\"color: #008000\">fillarray</span><span style=\"color: #bbbbbb\">   </span>\\\n",
       "<span style=\"color: #bbbbbb\">      </span><span style=\"color: #666666\">80</span>,<span style=\"color: #bbbbbb\"> </span><span style=\"color: #666666\">90</span>,<span style=\"color: #bbbbbb\"> </span><span style=\"color: #666666\">120</span>,<span style=\"color: #bbbbbb\"> </span><span style=\"color: #666666\">130</span>,<span style=\"color: #bbbbbb\"> </span><span style=\"color: #666666\">140</span>,<span style=\"color: #bbbbbb\"> </span>\\\n",
       "<span style=\"color: #bbbbbb\">      </span><span style=\"color: #666666\">60</span>,<span style=\"color: #bbbbbb\"> </span><span style=\"color: #666666\">100</span>,<span style=\"color: #bbbbbb\"> </span><span style=\"color: #666666\">120</span>,<span style=\"color: #bbbbbb\"> </span><span style=\"color: #666666\">150</span>,<span style=\"color: #bbbbbb\"> </span><span style=\"color: #666666\">200</span>,<span style=\"color: #bbbbbb\"> </span>\\\n",
       "<span style=\"color: #bbbbbb\">      </span><span style=\"color: #666666\">60</span>,<span style=\"color: #bbbbbb\"> </span><span style=\"color: #666666\">90</span>,<span style=\"color: #bbbbbb\"> </span><span style=\"color: #666666\">100</span>,<span style=\"color: #bbbbbb\"> </span><span style=\"color: #666666\">120</span>,<span style=\"color: #bbbbbb\"> </span><span style=\"color: #666666\">120</span>,<span style=\"color: #bbbbbb\"> </span>\\\n",
       "<span style=\"color: #bbbbbb\">      </span><span style=\"color: #666666\">40</span>,<span style=\"color: #bbbbbb\"> </span><span style=\"color: #666666\">80</span>,<span style=\"color: #bbbbbb\"> </span><span style=\"color: #666666\">100</span>,<span style=\"color: #bbbbbb\"> </span><span style=\"color: #666666\">120</span>,<span style=\"color: #bbbbbb\"> </span><span style=\"color: #666666\">120</span>,<span style=\"color: #bbbbbb\"> </span>\\\n",
       "<span style=\"color: #bbbbbb\">      </span><span style=\"color: #666666\">50</span>,<span style=\"color: #bbbbbb\"> </span><span style=\"color: #666666\">60</span>,<span style=\"color: #bbbbbb\"> </span><span style=\"color: #666666\">170</span>,<span style=\"color: #bbbbbb\"> </span><span style=\"color: #666666\">180</span>,<span style=\"color: #bbbbbb\"> </span><span style=\"color: #666666\">200</span>\n",
       "\n",
       "<span style=\"color: #bbbbbb\">  </span><span style=\"color: #B00040\">gi</span>__formantAmps__[]<span style=\"color: #bbbbbb\"> </span><span style=\"color: #008000\">maparray</span><span style=\"color: #bbbbbb\"> </span><span style=\"color: #B00040\">gi</span>__formantDbs__,<span style=\"color: #bbbbbb\"> </span><span style=\"color: #BA2121\">&quot;ampdb&quot;</span>\n",
       "<span style=\"color: #bbbbbb\">  </span><span style=\"color: #008000\">reshapearray</span><span style=\"color: #bbbbbb\"> </span><span style=\"color: #B00040\">gi</span>__formantFreqs__,<span style=\"color: #bbbbbb\"> </span><span style=\"color: #666666\">5</span>,<span style=\"color: #bbbbbb\"> </span><span style=\"color: #666666\">5</span>\n",
       "<span style=\"color: #bbbbbb\">  </span><span style=\"color: #008000\">reshapearray</span><span style=\"color: #bbbbbb\"> </span><span style=\"color: #B00040\">gi</span>__formantAmps__,<span style=\"color: #bbbbbb\"> </span><span style=\"color: #666666\">5</span>,<span style=\"color: #bbbbbb\"> </span><span style=\"color: #666666\">5</span>\n",
       "<span style=\"color: #bbbbbb\">  </span><span style=\"color: #008000\">reshapearray</span><span style=\"color: #bbbbbb\"> </span><span style=\"color: #B00040\">gi</span>__formantBws__,<span style=\"color: #bbbbbb\"> </span><span style=\"color: #666666\">5</span>,<span style=\"color: #bbbbbb\"> </span><span style=\"color: #666666\">5</span>\n",
       "</code></pre></div>\n",
       "</span>\n",
       "<span style=\"font-size:96%\"><strong>code</strong></span><br>\n",
       "<span style=\"font-size:90%\"><pre>  |kx=<span style=\"color:#6666E0\">0.0</span>, ky=<span style=\"color:#6666E0\">0.0</span>, kvibrange=<span style=\"color:#6666E0\">0.25</span>, kvibfreq=<span style=\"color:#6666E0\">4.5</span>, ivibstart=<span style=\"color:#6666E0\">0.5</span>, ipitchlag=<span style=\"color:#6666E0\">0.2</span>|</pre></span>\n",
       "<span style=\"font-size:90%\"><div class=\"highlight\" style=\"background: #f8f8f8\"><pre style=\"line-height: 125%;\"><span></span><code><span style=\"color: #bbbbbb\">  </span><span style=\"color: #3D7B7B; font-style: italic\">; Simple vowel singing simulation</span>\n",
       "<span style=\"color: #bbbbbb\">  </span><span style=\"color: #3D7B7B; font-style: italic\">; Args:</span>\n",
       "<span style=\"color: #bbbbbb\">  </span><span style=\"color: #3D7B7B; font-style: italic\">;   kx: x coordinate, from 0 to 1, A=(0;0), E=(0.5;0.5), I=(1;0), O=(0;1), U=(1;1)</span>\n",
       "<span style=\"color: #bbbbbb\">  </span><span style=\"color: #3D7B7B; font-style: italic\">;   ky: y coordinate, from 0 to 1, A=(0;0), E=(0.5;0.5), I=(1;0), O=(0;1), U=(1;1)</span>\n",
       "<span style=\"color: #bbbbbb\">  </span><span style=\"color: #3D7B7B; font-style: italic\">;   kvibrange: vibrato range in semitones</span>\n",
       "<span style=\"color: #bbbbbb\">  </span><span style=\"color: #3D7B7B; font-style: italic\">;   ivibstart: start time of vibrato</span>\n",
       "<span style=\"color: #bbbbbb\">  </span><span style=\"color: #3D7B7B; font-style: italic\">;   ivibfreq: vibrato frequency</span>\n",
       "<span style=\"color: #bbbbbb\">  </span><span style=\"color: #3D7B7B; font-style: italic\">;   ipitchlag: time lag for pitch modifications</span>\n",
       "\n",
       "<span style=\"color: #bbbbbb\">  </span><span style=\"color: #B00040\">k</span>noVib<span style=\"color: #bbbbbb\"> </span><span style=\"color: #666666\">=</span><span style=\"color: #bbbbbb\"> </span><span style=\"color: #008000\">lag</span>:<span style=\"color: #B00040\">k</span>(<span style=\"color: #008000\">trighold</span>(<span style=\"color: #008000\">changed2</span>(<span style=\"color: #B00040\">k</span>pitch),<span style=\"color: #bbbbbb\"> </span><span style=\"color: #B00040\">i</span>vibstart<span style=\"color: #666666\">*0.8</span>),<span style=\"color: #bbbbbb\"> </span><span style=\"color: #B00040\">i</span>vibstart<span style=\"color: #666666\">*0.2</span>)\n",
       "<span style=\"color: #bbbbbb\">  </span><span style=\"color: #B00040\">k</span>vibfreq2<span style=\"color: #bbbbbb\"> </span><span style=\"color: #666666\">=</span><span style=\"color: #bbbbbb\"> </span><span style=\"color: #008000\">linseg</span>:<span style=\"color: #B00040\">k</span>(<span style=\"color: #666666\">0</span>,<span style=\"color: #bbbbbb\"> </span><span style=\"color: #B00040\">i</span>vibstart<span style=\"color: #666666\">*0.25</span>,<span style=\"color: #bbbbbb\"> </span><span style=\"color: #666666\">0</span>,<span style=\"color: #bbbbbb\"> </span><span style=\"color: #B00040\">i</span>vibstart<span style=\"color: #666666\">*0.75</span>,<span style=\"color: #bbbbbb\"> </span><span style=\"color: #666666\">1</span>)<span style=\"color: #bbbbbb\"> </span><span style=\"color: #666666\">*</span><span style=\"color: #bbbbbb\"> </span><span style=\"color: #008000\">randomi</span>:<span style=\"color: #B00040\">k</span>(<span style=\"color: #666666\">0.9</span>,<span style=\"color: #bbbbbb\"> </span><span style=\"color: #666666\">1.1</span>,<span style=\"color: #bbbbbb\"> </span><span style=\"color: #666666\">2</span>)<span style=\"color: #bbbbbb\"> </span><span style=\"color: #666666\">*</span><span style=\"color: #bbbbbb\"> </span>(<span style=\"color: #666666\">1</span><span style=\"color: #bbbbbb\"> </span><span style=\"color: #666666\">-</span><span style=\"color: #bbbbbb\"> </span><span style=\"color: #B00040\">k</span>noVib)<span style=\"color: #bbbbbb\"> </span><span style=\"color: #666666\">*</span><span style=\"color: #bbbbbb\"> </span><span style=\"color: #B00040\">k</span>vibfreq<span style=\"color: #bbbbbb\"> </span>\n",
       "<span style=\"color: #bbbbbb\">  </span><span style=\"color: #B00040\">k</span>vibamount<span style=\"color: #bbbbbb\"> </span><span style=\"color: #666666\">=</span><span style=\"color: #bbbbbb\"> </span><span style=\"color: #008000\">linseg</span>:<span style=\"color: #B00040\">k</span>(<span style=\"color: #666666\">0</span>,<span style=\"color: #bbbbbb\"> </span><span style=\"color: #B00040\">i</span>vibstart<span style=\"color: #666666\">*0.2</span>,<span style=\"color: #bbbbbb\"> </span><span style=\"color: #666666\">0</span>,<span style=\"color: #bbbbbb\"> </span><span style=\"color: #B00040\">i</span>vibstart<span style=\"color: #666666\">*0.8</span>,<span style=\"color: #bbbbbb\"> </span><span style=\"color: #666666\">1</span>)<span style=\"color: #bbbbbb\"> </span><span style=\"color: #666666\">*</span><span style=\"color: #bbbbbb\"> </span><span style=\"color: #008000\">randomi</span>:<span style=\"color: #B00040\">k</span>(<span style=\"color: #666666\">0.9</span>,<span style=\"color: #bbbbbb\"> </span><span style=\"color: #666666\">1.1</span>,<span style=\"color: #bbbbbb\"> </span><span style=\"color: #666666\">10</span>)\n",
       "<span style=\"color: #bbbbbb\">  </span><span style=\"color: #B00040\">k</span>vibsemi<span style=\"color: #bbbbbb\"> </span><span style=\"color: #666666\">=</span><span style=\"color: #bbbbbb\"> </span><span style=\"color: #B00040\">k</span>vibamount<span style=\"color: #bbbbbb\"> </span><span style=\"color: #666666\">*</span><span style=\"color: #bbbbbb\"> </span><span style=\"color: #B00040\">k</span>vibrange\n",
       "<span style=\"color: #bbbbbb\">  </span><span style=\"color: #B00040\">k</span>vib<span style=\"color: #bbbbbb\"> </span><span style=\"color: #666666\">=</span><span style=\"color: #bbbbbb\"> </span><span style=\"color: #008000\">oscil</span>:<span style=\"color: #B00040\">k</span>(<span style=\"color: #B00040\">k</span>vibsemi<span style=\"color: #666666\">/2</span>,<span style=\"color: #bbbbbb\"> </span><span style=\"color: #B00040\">k</span>vibfreq2)<span style=\"color: #bbbbbb\"> </span><span style=\"color: #666666\">-</span><span style=\"color: #bbbbbb\"> </span><span style=\"color: #B00040\">k</span>vibsemi<span style=\"color: #666666\">/2</span>\n",
       "<span style=\"color: #bbbbbb\">  </span><span style=\"color: #B00040\">k</span>pitch2<span style=\"color: #bbbbbb\"> </span><span style=\"color: #666666\">=</span><span style=\"color: #bbbbbb\"> </span><span style=\"color: #008000\">lag</span>:<span style=\"color: #B00040\">k</span>(<span style=\"color: #B00040\">k</span>pitch,<span style=\"color: #bbbbbb\"> </span><span style=\"color: #B00040\">i</span>pitchlag)<span style=\"color: #bbbbbb\"> </span><span style=\"color: #666666\">+</span><span style=\"color: #bbbbbb\"> </span><span style=\"color: #B00040\">k</span>vib\n",
       "<span style=\"color: #bbbbbb\">  </span><span style=\"color: #B00040\">a</span>source<span style=\"color: #bbbbbb\"> </span><span style=\"color: #666666\">=</span><span style=\"color: #bbbbbb\"> </span><span style=\"color: #008000\">butterlp</span>:<span style=\"color: #B00040\">a</span>(<span style=\"color: #008000\">vco2</span>:<span style=\"color: #B00040\">a</span>(<span style=\"color: #B00040\">k</span>amp,<span style=\"color: #bbbbbb\"> </span><span style=\"color: #008000\">mtof</span>(<span style=\"color: #B00040\">k</span>pitch2)),<span style=\"color: #bbbbbb\"> </span><span style=\"color: #666666\">5000</span>)\n",
       "<span style=\"color: #bbbbbb\">  </span><span style=\"color: #B00040\">k</span>coords[]<span style=\"color: #bbbbbb\"> </span><span style=\"color: #008000\">fillarray</span><span style=\"color: #bbbbbb\"> </span><span style=\"color: #666666\">0</span>,<span style=\"color: #bbbbbb\"> </span><span style=\"color: #666666\">0</span>,<span style=\"color: #bbbbbb\"> </span><span style=\"color: #666666\">1</span>,<span style=\"color: #bbbbbb\">       </span><span style=\"border: 1px solid #FF0000\">\\</span><span style=\"color: #bbbbbb\">  </span><span style=\"color: #3D7B7B; font-style: italic\">; A</span>\n",
       "<span style=\"color: #bbbbbb\">                      </span><span style=\"color: #666666\">0.5</span>,<span style=\"color: #bbbbbb\"> </span><span style=\"color: #666666\">0.5</span>,<span style=\"color: #bbbbbb\"> </span><span style=\"color: #666666\">0.3</span>,<span style=\"color: #bbbbbb\"> </span><span style=\"border: 1px solid #FF0000\">\\</span><span style=\"color: #bbbbbb\">  </span><span style=\"color: #3D7B7B; font-style: italic\">; E</span>\n",
       "<span style=\"color: #bbbbbb\">                      </span><span style=\"color: #666666\">1</span>,<span style=\"color: #bbbbbb\"> </span><span style=\"color: #666666\">0</span>,<span style=\"color: #bbbbbb\"> </span><span style=\"color: #666666\">1</span>,<span style=\"color: #bbbbbb\">       </span><span style=\"border: 1px solid #FF0000\">\\</span><span style=\"color: #bbbbbb\">  </span><span style=\"color: #3D7B7B; font-style: italic\">; I</span>\n",
       "<span style=\"color: #bbbbbb\">                      </span><span style=\"color: #666666\">0</span>,<span style=\"color: #bbbbbb\"> </span><span style=\"color: #666666\">1</span>,<span style=\"color: #bbbbbb\"> </span><span style=\"color: #666666\">1</span>,<span style=\"color: #bbbbbb\">       </span><span style=\"border: 1px solid #FF0000\">\\</span><span style=\"color: #bbbbbb\">  </span><span style=\"color: #3D7B7B; font-style: italic\">; O</span>\n",
       "<span style=\"color: #bbbbbb\">                      </span><span style=\"color: #666666\">1</span>,<span style=\"color: #bbbbbb\"> </span><span style=\"color: #666666\">1</span>,<span style=\"color: #bbbbbb\"> </span><span style=\"color: #666666\">1</span><span style=\"color: #bbbbbb\">           </span><span style=\"color: #3D7B7B; font-style: italic\">; U</span>\n",
       "\n",
       "<span style=\"color: #bbbbbb\">  </span><span style=\"color: #B00040\">k</span>weights[]<span style=\"color: #bbbbbb\"> </span>presetinterp<span style=\"color: #bbbbbb\"> </span><span style=\"color: #B00040\">k</span>x,<span style=\"color: #bbbbbb\"> </span><span style=\"color: #B00040\">k</span>y,<span style=\"color: #bbbbbb\"> </span><span style=\"color: #B00040\">k</span>coords,<span style=\"color: #bbbbbb\"> </span><span style=\"color: #666666\">0.2</span>\n",
       "<span style=\"color: #bbbbbb\">  </span><span style=\"color: #B00040\">k</span>formantFreqs[]<span style=\"color: #bbbbbb\"> </span><span style=\"color: #B00040\">w</span>eightedsum<span style=\"color: #bbbbbb\"> </span><span style=\"color: #B00040\">gi</span>__formantFreqs__,<span style=\"color: #bbbbbb\"> </span><span style=\"color: #B00040\">k</span>weights\n",
       "<span style=\"color: #bbbbbb\">  </span><span style=\"color: #B00040\">k</span>formantBws[]<span style=\"color: #bbbbbb\">   </span><span style=\"color: #B00040\">w</span>eightedsum<span style=\"color: #bbbbbb\"> </span><span style=\"color: #B00040\">gi</span>__formantBws__,<span style=\"color: #bbbbbb\"> </span><span style=\"color: #B00040\">k</span>weights\n",
       "<span style=\"color: #bbbbbb\">  </span><span style=\"color: #B00040\">k</span>formantAmps[]<span style=\"color: #bbbbbb\">  </span><span style=\"color: #B00040\">w</span>eightedsum<span style=\"color: #bbbbbb\"> </span><span style=\"color: #B00040\">gi</span>__formantAmps__,<span style=\"color: #bbbbbb\"> </span><span style=\"color: #B00040\">k</span>weights\n",
       "<span style=\"color: #bbbbbb\">  </span><span style=\"color: #B00040\">k</span>formantFreqs<span style=\"color: #bbbbbb\"> </span>poly<span style=\"color: #bbbbbb\"> </span><span style=\"color: #666666\">5</span>,<span style=\"color: #bbbbbb\"> </span><span style=\"color: #BA2121\">&quot;lag&quot;</span>,<span style=\"color: #bbbbbb\"> </span><span style=\"color: #B00040\">k</span>formantFreqs,<span style=\"color: #bbbbbb\"> </span><span style=\"color: #B00040\">i</span>pitchlag\n",
       "<span style=\"color: #bbbbbb\">  </span><span style=\"color: #B00040\">k</span>formantAmps<span style=\"color: #bbbbbb\">  </span>poly<span style=\"color: #bbbbbb\"> </span><span style=\"color: #666666\">5</span>,<span style=\"color: #bbbbbb\"> </span><span style=\"color: #BA2121\">&quot;lag&quot;</span>,<span style=\"color: #bbbbbb\"> </span><span style=\"color: #B00040\">k</span>formantAmps,<span style=\"color: #bbbbbb\"> </span><span style=\"color: #B00040\">i</span>pitchlag\n",
       "<span style=\"color: #bbbbbb\">  </span><span style=\"color: #B00040\">a</span>formants[]<span style=\"color: #bbbbbb\"> </span>poly<span style=\"color: #bbbbbb\"> </span><span style=\"color: #666666\">5</span>,<span style=\"color: #bbbbbb\"> </span><span style=\"color: #BA2121\">&quot;resonx&quot;</span>,<span style=\"color: #bbbbbb\"> </span><span style=\"color: #B00040\">a</span>source,<span style=\"color: #bbbbbb\"> </span><span style=\"color: #B00040\">k</span>formantFreqs,<span style=\"color: #bbbbbb\"> </span><span style=\"color: #B00040\">k</span>formantBws,<span style=\"color: #bbbbbb\"> </span><span style=\"color: #666666\">2</span>,<span style=\"color: #bbbbbb\"> </span><span style=\"color: #666666\">1</span>\n",
       "<span style=\"color: #bbbbbb\">  </span><span style=\"color: #B00040\">a</span>formants<span style=\"color: #bbbbbb\"> </span><span style=\"color: #666666\">*=</span><span style=\"color: #bbbbbb\"> </span><span style=\"color: #B00040\">k</span>formantAmps\n",
       "<span style=\"color: #bbbbbb\">  </span><span style=\"color: #B00040\">a</span>out1<span style=\"color: #bbbbbb\"> </span><span style=\"color: #666666\">=</span><span style=\"color: #bbbbbb\"> </span><span style=\"color: #008000\">sumarray</span>(<span style=\"color: #B00040\">a</span>formants)<span style=\"color: #bbbbbb\"> </span><span style=\"color: #666666\">*</span><span style=\"color: #bbbbbb\"> </span><span style=\"color: #666666\">0.1</span>\n",
       "</code></pre></div>\n",
       "</span>\n",
       "<hr>\n",
       "Preset: <b>_playtable</b> - <span style=\"color:#A0A0A0\"><i>Built-in presetdef to playback a table</i></span>\n",
       "<br>\n",
       "<code style=\"font-size: 90%\">  <span style=\"color:#A0A0A0;font-size:96%\">(numouts=2, numsignals=2)\n",
       "</span></code>\n",
       "<ul style=\"line-height: 120%\">\n",
       "<li><span style=\"font-size:90%\"><strong>isndtab</strong></span>: <span style=\"font-size:90%\"><i>table number to play</i></span></li>\n",
       "<li><span style=\"font-size:90%\"><strong>istart</strong></span>: <span style=\"font-size:90%\"><i>skip time</i></span></li>\n",
       "<li><span style=\"font-size:90%\"><strong>kspeed</strong></span>: <span style=\"font-size:90%\"><i>playback speed</i></span></li>\n",
       "<li><span style=\"font-size:90%\"><strong>ixfade</strong></span>: <span style=\"font-size:90%\"><i>crossfade time, if negative no looping</i></span></li>\n",
       "</ul>\n",
       "<span style=\"font-size:96%\"><strong>code</strong></span><br>\n",
       "<span style=\"font-size:90%\"><pre>  |isndtab=<span style=\"color:#6666E0\">0.0</span>, istart=<span style=\"color:#6666E0\">0.0</span>, kspeed=<span style=\"color:#6666E0\">1.0</span>, ixfade=<span style=\"color:#6666E0\">-1.0</span>|</pre></span>\n",
       "<span style=\"font-size:90%\"><div class=\"highlight\" style=\"background: #f8f8f8\"><pre style=\"line-height: 125%;\"><span></span><code><span style=\"color: #bbbbbb\">  </span><span style=\"color: #3D7B7B; font-style: italic\">; Built-in presetdef to playback a table</span>\n",
       "<span style=\"color: #bbbbbb\">  </span><span style=\"color: #3D7B7B; font-style: italic\">; Args:</span>\n",
       "<span style=\"color: #bbbbbb\">  </span><span style=\"color: #3D7B7B; font-style: italic\">;   isndtab: table number to play</span>\n",
       "<span style=\"color: #bbbbbb\">  </span><span style=\"color: #3D7B7B; font-style: italic\">;   istart: skip time</span>\n",
       "<span style=\"color: #bbbbbb\">  </span><span style=\"color: #3D7B7B; font-style: italic\">;   kspeed: playback speed</span>\n",
       "<span style=\"color: #bbbbbb\">  </span><span style=\"color: #3D7B7B; font-style: italic\">;   ixfade: crossfade time, if negative no looping</span>\n",
       "<span style=\"color: #bbbbbb\">  </span><span style=\"color: #B00040\">i</span>loop<span style=\"color: #bbbbbb\"> </span><span style=\"color: #666666\">=</span><span style=\"color: #bbbbbb\"> </span><span style=\"color: #B00040\">i</span>xfade<span style=\"color: #bbbbbb\"> </span><span style=\"color: #666666\">&gt;=</span><span style=\"color: #bbbbbb\"> </span><span style=\"color: #666666\">0</span><span style=\"color: #bbbbbb\"> </span><span style=\"color: #666666\">?</span><span style=\"color: #bbbbbb\"> </span><span style=\"color: #666666\">1</span><span style=\"color: #bbbbbb\"> </span><span style=\"color: #666666\">:</span><span style=\"color: #bbbbbb\"> </span><span style=\"color: #666666\">0</span>\n",
       "<span style=\"color: #bbbbbb\">  </span><span style=\"color: #B00040\">i</span>numouts<span style=\"color: #bbbbbb\"> </span><span style=\"color: #666666\">=</span><span style=\"color: #bbbbbb\"> </span><span style=\"color: #008000\">ftchnls</span>(<span style=\"color: #B00040\">i</span>sndtab)\n",
       "<span style=\"color: #bbbbbb\">  </span><span style=\"color: #B00040\">i</span>numsamples<span style=\"color: #bbbbbb\"> </span><span style=\"color: #666666\">=</span><span style=\"color: #bbbbbb\"> </span><span style=\"color: #008000\">nsamp</span>(<span style=\"color: #B00040\">i</span>sndtab)\n",
       "<span style=\"color: #bbbbbb\">  </span><span style=\"color: #B00040\">i</span>sr<span style=\"color: #bbbbbb\"> </span><span style=\"color: #666666\">=</span><span style=\"color: #bbbbbb\"> </span><span style=\"color: #008000\">ftsr</span>(<span style=\"color: #B00040\">i</span>sndtab)\n",
       "<span style=\"color: #bbbbbb\">  </span><span style=\"color: #B00040\">i</span>onecycle<span style=\"color: #bbbbbb\"> </span><span style=\"color: #666666\">=</span><span style=\"color: #bbbbbb\"> </span><span style=\"color: #19177C\">ksmps</span><span style=\"color: #666666\">/</span><span style=\"color: #19177C\">sr</span>\n",
       "\n",
       "<span style=\"color: #bbbbbb\">  </span><span style=\"color: #008000; font-weight: bold\">if</span><span style=\"color: #bbbbbb\"> </span><span style=\"color: #B00040\">i</span>sr<span style=\"color: #bbbbbb\"> </span><span style=\"color: #666666\">&lt;=</span><span style=\"color: #bbbbbb\"> </span><span style=\"color: #666666\">0</span><span style=\"color: #bbbbbb\"> </span><span style=\"color: #008000; font-weight: bold\">then</span>\n",
       "<span style=\"color: #bbbbbb\">      </span><span style=\"color: #B00040\">i</span>niterror<span style=\"color: #bbbbbb\"> </span><span style=\"color: #008000\">sprintf</span>(<span style=\"color: #BA2121\">&quot;Could not determine sr of table </span><span style=\"color: #A45A77; font-weight: bold\">%d</span><span style=\"color: #BA2121\">&quot;</span>,<span style=\"color: #bbbbbb\"> </span><span style=\"color: #B00040\">i</span>sndtab)\n",
       "<span style=\"color: #bbbbbb\">  </span><span style=\"color: #008000; font-weight: bold\">endif</span>\n",
       "<span style=\"color: #bbbbbb\">  </span><span style=\"color: #B00040\">i</span>dur<span style=\"color: #bbbbbb\"> </span><span style=\"color: #666666\">=</span><span style=\"color: #bbbbbb\"> </span><span style=\"color: #B00040\">i</span>numsamples<span style=\"color: #bbbbbb\"> </span><span style=\"color: #666666\">/</span><span style=\"color: #bbbbbb\"> </span><span style=\"color: #B00040\">i</span>sr\n",
       "\n",
       "<span style=\"color: #bbbbbb\">  </span><span style=\"color: #B00040\">k</span>now<span style=\"color: #bbbbbb\"> </span><span style=\"color: #008000\">init</span><span style=\"color: #bbbbbb\"> </span><span style=\"color: #B00040\">i</span>start\n",
       "<span style=\"color: #bbbbbb\">  </span><span style=\"color: #008000; font-weight: bold\">if</span><span style=\"color: #bbbbbb\"> </span><span style=\"color: #B00040\">i</span>numouts<span style=\"color: #bbbbbb\"> </span><span style=\"color: #666666\">==</span><span style=\"color: #bbbbbb\"> </span><span style=\"color: #666666\">0</span><span style=\"color: #bbbbbb\"> </span><span style=\"color: #008000; font-weight: bold\">then</span>\n",
       "<span style=\"color: #bbbbbb\">      </span><span style=\"color: #3D7B7B; font-style: italic\">; not a gen1 table, fail</span>\n",
       "<span style=\"color: #bbbbbb\">      </span><span style=\"color: #B00040\">i</span>niterror<span style=\"color: #bbbbbb\"> </span><span style=\"color: #008000\">sprintf</span>(<span style=\"color: #BA2121\">&quot;Table </span><span style=\"color: #A45A77; font-weight: bold\">%d</span><span style=\"color: #BA2121\"> was not generated via gen1&quot;</span>,<span style=\"color: #bbbbbb\"> </span><span style=\"color: #B00040\">i</span>sndtab)\n",
       "<span style=\"color: #bbbbbb\">  </span><span style=\"color: #008000; font-weight: bold\">endif</span>\n",
       "\n",
       "<span style=\"color: #bbbbbb\">  </span><span style=\"color: #B00040\">k</span>idx<span style=\"color: #bbbbbb\"> </span><span style=\"color: #008000\">init</span><span style=\"color: #bbbbbb\"> </span><span style=\"color: #666666\">0</span>\n",
       "<span style=\"color: #bbbbbb\">  </span><span style=\"color: #B00040\">a</span>env<span style=\"color: #bbbbbb\"> </span><span style=\"color: #666666\">=</span><span style=\"color: #bbbbbb\"> </span>makePresetEnvelope(<span style=\"color: #B00040\">i</span>fadein,<span style=\"color: #bbbbbb\"> </span><span style=\"color: #B00040\">i</span>fadeout,<span style=\"color: #bbbbbb\"> </span><span style=\"color: #B00040\">i</span>fadekind)\n",
       "<span style=\"color: #bbbbbb\">  </span><span style=\"color: #B00040\">a</span>env<span style=\"color: #bbbbbb\"> </span><span style=\"color: #666666\">*=</span><span style=\"color: #bbbbbb\"> </span><span style=\"color: #B00040\">k</span>gain\n",
       "\n",
       "<span style=\"color: #bbbbbb\">  </span><span style=\"color: #008000; font-weight: bold\">if</span><span style=\"color: #bbbbbb\"> </span><span style=\"color: #B00040\">i</span>numouts<span style=\"color: #bbbbbb\"> </span><span style=\"color: #666666\">==</span><span style=\"color: #bbbbbb\"> </span><span style=\"color: #666666\">1</span><span style=\"color: #bbbbbb\"> </span><span style=\"color: #008000; font-weight: bold\">then</span>\n",
       "<span style=\"color: #bbbbbb\">      </span><span style=\"color: #B00040\">a</span>1<span style=\"color: #bbbbbb\"> </span><span style=\"color: #008000\">flooper2</span><span style=\"color: #bbbbbb\"> </span><span style=\"color: #666666\">1</span>,<span style=\"color: #bbbbbb\"> </span><span style=\"color: #B00040\">k</span>speed,<span style=\"color: #bbbbbb\"> </span><span style=\"color: #B00040\">i</span>start,<span style=\"color: #bbbbbb\"> </span><span style=\"color: #B00040\">i</span>dur,<span style=\"color: #bbbbbb\"> </span><span style=\"color: #B00040\">i</span>xfade,<span style=\"color: #bbbbbb\"> </span><span style=\"color: #B00040\">i</span>sndtab,<span style=\"color: #bbbbbb\"> </span><span style=\"color: #B00040\">i</span>start\n",
       "<span style=\"color: #bbbbbb\">      </span><span style=\"color: #B00040\">a</span>1<span style=\"color: #bbbbbb\"> </span><span style=\"color: #666666\">*=</span><span style=\"color: #bbbbbb\"> </span><span style=\"color: #B00040\">a</span>env\n",
       "<span style=\"color: #bbbbbb\">      </span><span style=\"color: #B00040\">k</span>pos<span style=\"color: #bbbbbb\"> </span><span style=\"color: #666666\">=</span><span style=\"color: #bbbbbb\"> </span><span style=\"color: #B00040\">k</span>pos<span style=\"color: #bbbbbb\"> </span><span style=\"color: #666666\">==</span><span style=\"color: #bbbbbb\"> </span><span style=\"color: #666666\">-1</span><span style=\"color: #bbbbbb\"> </span><span style=\"color: #666666\">?</span><span style=\"color: #bbbbbb\"> </span><span style=\"color: #666666\">0</span><span style=\"color: #bbbbbb\"> </span><span style=\"color: #666666\">:</span><span style=\"color: #bbbbbb\"> </span><span style=\"color: #B00040\">k</span>pos\n",
       "<span style=\"color: #bbbbbb\">      </span><span style=\"color: #B00040\">a</span>out1,<span style=\"color: #bbbbbb\"> </span><span style=\"color: #B00040\">a</span>out2<span style=\"color: #bbbbbb\"> </span><span style=\"color: #008000\">pan2</span><span style=\"color: #bbbbbb\"> </span><span style=\"color: #B00040\">a</span>1,<span style=\"color: #bbbbbb\"> </span><span style=\"color: #B00040\">k</span>pos\n",
       "<span style=\"color: #bbbbbb\">  </span><span style=\"color: #008000; font-weight: bold\">elseif</span><span style=\"color: #bbbbbb\"> </span><span style=\"color: #B00040\">i</span>numouts<span style=\"color: #bbbbbb\"> </span><span style=\"color: #666666\">==</span><span style=\"color: #bbbbbb\"> </span><span style=\"color: #666666\">2</span><span style=\"color: #bbbbbb\"> </span><span style=\"color: #008000; font-weight: bold\">then</span>\n",
       "<span style=\"color: #bbbbbb\">      </span><span style=\"color: #B00040\">a</span>1,<span style=\"color: #bbbbbb\"> </span><span style=\"color: #B00040\">a</span>2<span style=\"color: #bbbbbb\"> </span><span style=\"color: #008000\">flooper2</span><span style=\"color: #bbbbbb\"> </span><span style=\"color: #666666\">1</span>,<span style=\"color: #bbbbbb\"> </span><span style=\"color: #B00040\">k</span>speed,<span style=\"color: #bbbbbb\"> </span><span style=\"color: #B00040\">i</span>start,<span style=\"color: #bbbbbb\"> </span><span style=\"color: #B00040\">i</span>dur,<span style=\"color: #bbbbbb\"> </span><span style=\"color: #B00040\">i</span>xfade,<span style=\"color: #bbbbbb\"> </span><span style=\"color: #B00040\">i</span>sndtab,<span style=\"color: #bbbbbb\"> </span><span style=\"color: #B00040\">i</span>start\n",
       "<span style=\"color: #bbbbbb\">      </span><span style=\"color: #B00040\">k</span>pos<span style=\"color: #bbbbbb\"> </span><span style=\"color: #666666\">=</span><span style=\"color: #bbbbbb\"> </span><span style=\"color: #B00040\">k</span>pos<span style=\"color: #bbbbbb\"> </span><span style=\"color: #666666\">&lt;</span><span style=\"color: #bbbbbb\"> </span><span style=\"color: #666666\">0</span><span style=\"color: #bbbbbb\"> </span><span style=\"color: #666666\">?</span><span style=\"color: #bbbbbb\"> </span><span style=\"color: #666666\">0.5</span><span style=\"color: #bbbbbb\"> </span><span style=\"color: #666666\">:</span><span style=\"color: #bbbbbb\"> </span><span style=\"color: #B00040\">k</span>pos\n",
       "<span style=\"color: #bbbbbb\">      </span><span style=\"color: #B00040\">a</span>out1,<span style=\"color: #bbbbbb\"> </span><span style=\"color: #B00040\">a</span>out2<span style=\"color: #bbbbbb\"> </span>panstereo<span style=\"color: #bbbbbb\"> </span><span style=\"color: #B00040\">a</span>1,<span style=\"color: #bbbbbb\"> </span><span style=\"color: #B00040\">a</span>2,<span style=\"color: #bbbbbb\"> </span><span style=\"color: #B00040\">k</span>pos\n",
       "<span style=\"color: #bbbbbb\">      </span><span style=\"color: #B00040\">a</span>out1<span style=\"color: #bbbbbb\"> </span><span style=\"color: #666666\">*=</span><span style=\"color: #bbbbbb\"> </span><span style=\"color: #B00040\">a</span>env\n",
       "<span style=\"color: #bbbbbb\">      </span><span style=\"color: #B00040\">a</span>out2<span style=\"color: #bbbbbb\"> </span><span style=\"color: #666666\">*=</span><span style=\"color: #bbbbbb\"> </span><span style=\"color: #B00040\">a</span>env\n",
       "<span style=\"color: #bbbbbb\">  </span><span style=\"color: #008000; font-weight: bold\">else</span>\n",
       "<span style=\"color: #bbbbbb\">      </span><span style=\"color: #B00040\">i</span>niterror<span style=\"color: #bbbbbb\"> </span><span style=\"color: #008000\">sprintf</span>(<span style=\"color: #BA2121\">&quot;Multichannel samples (&gt; 2, got </span><span style=\"color: #A45A77; font-weight: bold\">%d</span><span style=\"color: #BA2121\">) not supported yet&quot;</span>,<span style=\"color: #bbbbbb\"> </span><span style=\"color: #B00040\">i</span>numouts)\n",
       "<span style=\"color: #bbbbbb\">  </span><span style=\"color: #008000; font-weight: bold\">endif</span>\n",
       "<span style=\"color: #bbbbbb\">  </span><span style=\"color: #008000\">outch</span><span style=\"color: #bbbbbb\"> </span><span style=\"color: #B00040\">i</span>chan,<span style=\"color: #bbbbbb\"> </span><span style=\"color: #B00040\">a</span>out1,<span style=\"color: #bbbbbb\"> </span><span style=\"color: #B00040\">i</span>chan<span style=\"color: #666666\">+1</span>,<span style=\"color: #bbbbbb\"> </span><span style=\"color: #B00040\">a</span>out2\n",
       "\n",
       "<span style=\"color: #bbbbbb\">  </span><span style=\"color: #B00040\">k</span>now<span style=\"color: #bbbbbb\"> </span><span style=\"color: #666666\">+=</span><span style=\"color: #bbbbbb\"> </span><span style=\"color: #B00040\">i</span>onecycle<span style=\"color: #bbbbbb\"> </span><span style=\"color: #666666\">*</span><span style=\"color: #bbbbbb\"> </span><span style=\"color: #B00040\">k</span>speed\n",
       "<span style=\"color: #bbbbbb\">  </span><span style=\"color: #B00040\">i</span>maxtime<span style=\"color: #bbbbbb\"> </span><span style=\"color: #666666\">=</span><span style=\"color: #bbbbbb\"> </span><span style=\"color: #B00040\">i</span>dur<span style=\"color: #bbbbbb\"> </span><span style=\"color: #666666\">-</span><span style=\"color: #bbbbbb\"> </span><span style=\"color: #B00040\">i</span>fadeout<span style=\"color: #bbbbbb\"> </span><span style=\"color: #666666\">-</span><span style=\"color: #bbbbbb\"> </span><span style=\"color: #B00040\">i</span>onecycle\n",
       "<span style=\"color: #bbbbbb\">  </span><span style=\"color: #008000; font-weight: bold\">if</span><span style=\"color: #bbbbbb\"> </span><span style=\"color: #B00040\">i</span>loop<span style=\"color: #bbbbbb\"> </span><span style=\"color: #666666\">==</span><span style=\"color: #bbbbbb\"> </span><span style=\"color: #666666\">0</span><span style=\"color: #bbbbbb\"> </span><span style=\"color: #666666\">&amp;&amp;</span><span style=\"color: #bbbbbb\"> </span><span style=\"color: #B00040\">k</span>now<span style=\"color: #bbbbbb\"> </span><span style=\"color: #666666\">&gt;=</span><span style=\"color: #bbbbbb\"> </span><span style=\"color: #B00040\">i</span>maxtime<span style=\"color: #bbbbbb\"> </span><span style=\"color: #008000; font-weight: bold\">then</span>\n",
       "<span style=\"color: #bbbbbb\">      </span><span style=\"color: #008000\">turnoff</span>\n",
       "<span style=\"color: #bbbbbb\">  </span><span style=\"color: #008000; font-weight: bold\">endif</span><span style=\"color: #bbbbbb\">   </span>\n",
       "</code></pre></div>\n",
       "</span>\n",
       "<hr>\n",
       "Preset: <b>pulse</b> - <span style=\"color:#A0A0A0\"><i>transposable pulse with pwm</i></span>\n",
       "<br>\n",
       "<code style=\"font-size: 90%\">  <span style=\"color:#A0A0A0;font-size:96%\">(routing=True, numouts=2, numsignals=1)\n",
       "</span></code>\n",
       "<ul style=\"line-height: 120%\">\n",
       "<li><span style=\"font-size:90%\"><strong>ktransp</strong></span>: <span style=\"font-size:90%\"><i>transposition</i></span></li>\n",
       "<li><span style=\"font-size:90%\"><strong>klag</strong></span>: <span style=\"font-size:90%\"><i>lag time for pitch</i></span></li>\n",
       "<li><span style=\"font-size:90%\"><strong>kpwm</strong></span>: <span style=\"font-size:90%\"><i>pwm between 0-1</i></span></li>\n",
       "</ul>\n",
       "<span style=\"font-size:96%\"><strong>code</strong></span><br>\n",
       "<span style=\"font-size:90%\"><pre>  |ktransp=<span style=\"color:#6666E0\">0.0</span>, klag=<span style=\"color:#6666E0\">0.1</span>, kpwm=<span style=\"color:#6666E0\">0.5</span>|</pre></span>\n",
       "<span style=\"font-size:90%\"><div class=\"highlight\" style=\"background: #f8f8f8\"><pre style=\"line-height: 125%;\"><span></span><code><span style=\"color: #bbbbbb\">  </span><span style=\"color: #3D7B7B; font-style: italic\">; transposable pulse with pwm</span>\n",
       "<span style=\"color: #bbbbbb\">  </span><span style=\"color: #3D7B7B; font-style: italic\">; Args:</span>\n",
       "<span style=\"color: #bbbbbb\">  </span><span style=\"color: #3D7B7B; font-style: italic\">;   ktransp: transposition</span>\n",
       "<span style=\"color: #bbbbbb\">  </span><span style=\"color: #3D7B7B; font-style: italic\">;   klag: lag time for pitch</span>\n",
       "<span style=\"color: #bbbbbb\">  </span><span style=\"color: #3D7B7B; font-style: italic\">;   kpwm: pwm between 0-1</span>\n",
       "<span style=\"color: #bbbbbb\">  </span><span style=\"color: #B00040\">a</span>out1<span style=\"color: #bbbbbb\"> </span><span style=\"color: #008000\">vco2</span><span style=\"color: #bbbbbb\"> </span><span style=\"color: #B00040\">k</span>amp,<span style=\"color: #bbbbbb\"> </span><span style=\"color: #008000\">mtof</span>:<span style=\"color: #B00040\">k</span>(<span style=\"color: #008000\">lag</span>:<span style=\"color: #B00040\">k</span>(<span style=\"color: #B00040\">k</span>pitch<span style=\"color: #666666\">+</span><span style=\"color: #B00040\">k</span>transp,<span style=\"color: #bbbbbb\"> </span><span style=\"color: #B00040\">k</span>lag),<span style=\"color: #bbbbbb\"> </span><span style=\"color: #666666\">2</span>,<span style=\"color: #bbbbbb\"> </span><span style=\"color: #B00040\">k</span>pwm\n",
       "</code></pre></div>\n",
       "</span>\n",
       "<hr>\n",
       "Preset: <b>saw</b> - <span style=\"color:#A0A0A0\"><i>Transposable saw with optional low-pass filtering</i></span>\n",
       "<br>\n",
       "<code style=\"font-size: 90%\">  <span style=\"color:#A0A0A0;font-size:96%\">(routing=True, numouts=2, numsignals=1)\n",
       "</span></code>\n",
       "<ul style=\"line-height: 120%\">\n",
       "<li><span style=\"font-size:90%\"><strong>ktransp</strong></span>: <span style=\"font-size:90%\"><i>transposition interval</i></span></li>\n",
       "<li><span style=\"font-size:90%\"><strong>klag</strong></span>: <span style=\"font-size:90%\"><i>lag time when modifying pitch</i></span></li>\n",
       "<li><span style=\"font-size:90%\"><strong>kcutoffratio</strong></span>: <span style=\"font-size:90%\"><i>filter cutoff frequency as factor of the osc frequency</i></span></li>\n",
       "<li><span style=\"font-size:90%\"><strong>kfilterq</strong></span>: <span style=\"font-size:90%\"><i>filter resonance</i></span></li>\n",
       "</ul>\n",
       "<span style=\"font-size:96%\"><strong>code</strong></span><br>\n",
       "<span style=\"font-size:90%\"><pre>  |ktransp=<span style=\"color:#6666E0\">0.0</span>, klag=<span style=\"color:#6666E0\">0.1</span>, kcutoffratio=<span style=\"color:#6666E0\">0.0</span>, kfilterq=<span style=\"color:#6666E0\">3.0</span>|</pre></span>\n",
       "<span style=\"font-size:90%\"><div class=\"highlight\" style=\"background: #f8f8f8\"><pre style=\"line-height: 125%;\"><span></span><code><span style=\"color: #bbbbbb\">  </span><span style=\"color: #3D7B7B; font-style: italic\">; Transposable saw with optional low-pass filtering</span>\n",
       "<span style=\"color: #bbbbbb\">  </span><span style=\"color: #3D7B7B; font-style: italic\">;  Args:</span>\n",
       "<span style=\"color: #bbbbbb\">  </span><span style=\"color: #3D7B7B; font-style: italic\">;    ktransp: transposition interval</span>\n",
       "<span style=\"color: #bbbbbb\">  </span><span style=\"color: #3D7B7B; font-style: italic\">;    klag: lag time when modifying pitch</span>\n",
       "<span style=\"color: #bbbbbb\">  </span><span style=\"color: #3D7B7B; font-style: italic\">;    kcutoffratio: filter cutoff frequency as factor of the osc frequency</span>\n",
       "<span style=\"color: #bbbbbb\">  </span><span style=\"color: #3D7B7B; font-style: italic\">;    kfilterq: filter resonance</span>\n",
       "<span style=\"color: #bbbbbb\">  </span><span style=\"color: #B00040\">k</span>freq<span style=\"color: #bbbbbb\"> </span><span style=\"color: #666666\">=</span><span style=\"color: #bbbbbb\"> </span><span style=\"color: #008000\">mtof</span>:<span style=\"color: #B00040\">k</span>(<span style=\"color: #008000\">lag</span>(<span style=\"color: #B00040\">k</span>pitch<span style=\"color: #bbbbbb\"> </span><span style=\"color: #666666\">+</span><span style=\"color: #bbbbbb\"> </span><span style=\"color: #B00040\">k</span>transp,<span style=\"color: #bbbbbb\"> </span><span style=\"color: #B00040\">k</span>lag))\n",
       "<span style=\"color: #bbbbbb\">  </span><span style=\"color: #B00040\">a</span>sig<span style=\"color: #bbbbbb\"> </span><span style=\"color: #666666\">=</span><span style=\"color: #bbbbbb\"> </span><span style=\"color: #008000\">vco2</span>(<span style=\"color: #666666\">1</span>,<span style=\"color: #bbbbbb\"> </span><span style=\"color: #B00040\">k</span>freq,<span style=\"color: #bbbbbb\"> </span><span style=\"color: #666666\">0</span>)<span style=\"color: #bbbbbb\"> </span><span style=\"color: #666666\">*</span><span style=\"color: #bbbbbb\"> </span><span style=\"color: #008000\">a</span>(<span style=\"color: #B00040\">k</span>amp)\n",
       "<span style=\"color: #bbbbbb\">  </span><span style=\"color: #B00040\">a</span>out1<span style=\"color: #bbbbbb\"> </span><span style=\"color: #666666\">=</span><span style=\"color: #bbbbbb\"> </span><span style=\"color: #B00040\">k</span>cutoffratio<span style=\"color: #bbbbbb\"> </span><span style=\"color: #666666\">==</span><span style=\"color: #bbbbbb\"> </span><span style=\"color: #666666\">0</span><span style=\"color: #bbbbbb\"> </span><span style=\"color: #666666\">?</span><span style=\"color: #bbbbbb\"> </span><span style=\"color: #B00040\">a</span>sig<span style=\"color: #bbbbbb\"> </span><span style=\"color: #666666\">:</span><span style=\"color: #bbbbbb\"> </span><span style=\"color: #008000\">K35_lpf</span>(<span style=\"color: #B00040\">a</span>sig,<span style=\"color: #bbbbbb\"> </span><span style=\"color: #B00040\">k</span>freq<span style=\"color: #666666\">*</span><span style=\"color: #B00040\">k</span>cutoffratio,<span style=\"color: #bbbbbb\"> </span><span style=\"color: #B00040\">k</span>filterq)\n",
       "</code></pre></div>\n",
       "</span>\n",
       "<hr>\n",
       "Preset: <b>simplesin</b> - <span style=\"color:#A0A0A0\"><i>simplest sine wave</i></span>\n",
       "<br>\n",
       "<code style=\"font-size: 90%\">  <span style=\"color:#A0A0A0;font-size:96%\">(routing=True, numouts=2, numsignals=1)\n",
       "</span></code>\n",
       "<span style=\"font-size:96%\"><strong>code</strong></span><br>\n",
       "<span style=\"font-size:90%\"><div class=\"highlight\" style=\"background: #f8f8f8\"><pre style=\"line-height: 125%;\"><span></span><code><span style=\"color: #bbbbbb\">  </span><span style=\"color: #B00040\">a</span>out1<span style=\"color: #bbbbbb\"> </span><span style=\"color: #008000\">oscili</span><span style=\"color: #bbbbbb\"> </span><span style=\"color: #008000\">a</span>(<span style=\"color: #B00040\">k</span>amp),<span style=\"color: #bbbbbb\"> </span><span style=\"color: #008000\">mtof</span>(<span style=\"color: #008000\">lag</span>(<span style=\"color: #B00040\">k</span>pitch,<span style=\"color: #bbbbbb\"> </span><span style=\"color: #666666\">0.01</span>))\n",
       "</code></pre></div>\n",
       "</span>\n",
       "<hr>\n",
       "Preset: <b>sin</b> - <span style=\"color:#A0A0A0\"><i>transposable sine wave</i></span>\n",
       "<br>\n",
       "<code style=\"font-size: 90%\">  <span style=\"color:#A0A0A0;font-size:96%\">(routing=True, numouts=2, numsignals=1)\n",
       "</span></code>\n",
       "<span style=\"font-size:96%\"><strong>code</strong></span><br>\n",
       "<span style=\"font-size:90%\"><pre>  |ktransp=<span style=\"color:#6666E0\">0</span>, klag=<span style=\"color:#6666E0\">0.1</span>|</pre></span>\n",
       "<span style=\"font-size:90%\"><div class=\"highlight\" style=\"background: #f8f8f8\"><pre style=\"line-height: 125%;\"><span></span><code><span style=\"color: #bbbbbb\">  </span><span style=\"color: #B00040\">a</span>out1<span style=\"color: #bbbbbb\"> </span><span style=\"color: #008000\">oscili</span><span style=\"color: #bbbbbb\"> </span><span style=\"color: #008000\">a</span>(<span style=\"color: #B00040\">k</span>amp),<span style=\"color: #bbbbbb\"> </span><span style=\"color: #008000\">mtof</span>(<span style=\"color: #008000\">lag</span>(<span style=\"color: #B00040\">k</span>pitch<span style=\"color: #666666\">+</span><span style=\"color: #B00040\">k</span>transp,<span style=\"color: #bbbbbb\"> </span><span style=\"color: #B00040\">k</span>lag))\n",
       "</code></pre></div>\n",
       "</span>\n",
       "<hr>\n",
       "Preset: <b>sqr</b> - <span style=\"color:#A0A0A0\"><i>square wave with optional filtering</i></span>\n",
       "<br>\n",
       "<code style=\"font-size: 90%\">  <span style=\"color:#A0A0A0;font-size:96%\">(routing=True, numouts=2, numsignals=1)\n",
       "</span></code>\n",
       "<ul style=\"line-height: 120%\">\n",
       "<li><span style=\"font-size:90%\"><strong>kcutoff</strong></span>: <span style=\"font-size:90%\"><i>filter cutoff frequency</i></span></li>\n",
       "<li><span style=\"font-size:90%\"><strong>kresonance</strong></span>: <span style=\"font-size:90%\"><i>resonance of the filter</i></span></li>\n",
       "</ul>\n",
       "<span style=\"font-size:96%\"><strong>code</strong></span><br>\n",
       "<span style=\"font-size:90%\"><pre>  |ktransp=<span style=\"color:#6666E0\">0.0</span>, klag=<span style=\"color:#6666E0\">0.1</span>, kcutoff=<span style=\"color:#6666E0\">0.0</span>, kresonance=<span style=\"color:#6666E0\">0.2</span>|</pre></span>\n",
       "<span style=\"font-size:90%\"><div class=\"highlight\" style=\"background: #f8f8f8\"><pre style=\"line-height: 125%;\"><span></span><code><span style=\"color: #bbbbbb\">  </span><span style=\"color: #3D7B7B; font-style: italic\">; square wave with optional filtering</span>\n",
       "<span style=\"color: #bbbbbb\">  </span><span style=\"color: #3D7B7B; font-style: italic\">; Args:</span>\n",
       "<span style=\"color: #bbbbbb\">  </span><span style=\"color: #3D7B7B; font-style: italic\">;    kcutoff: filter cutoff frequency</span>\n",
       "<span style=\"color: #bbbbbb\">  </span><span style=\"color: #3D7B7B; font-style: italic\">;    kresonance: resonance of the filter</span>\n",
       "<span style=\"color: #bbbbbb\">  </span><span style=\"color: #B00040\">a</span>out1<span style=\"color: #bbbbbb\"> </span><span style=\"color: #666666\">=</span><span style=\"color: #bbbbbb\"> </span><span style=\"color: #008000\">vco2</span>(<span style=\"color: #666666\">1</span>,<span style=\"color: #bbbbbb\"> </span><span style=\"color: #008000\">mtof</span>(<span style=\"color: #008000\">lag</span>(<span style=\"color: #B00040\">k</span>pitch<span style=\"color: #666666\">+</span><span style=\"color: #B00040\">k</span>transp,<span style=\"color: #bbbbbb\"> </span><span style=\"color: #B00040\">k</span>lag),<span style=\"color: #bbbbbb\"> </span><span style=\"color: #666666\">10</span>)<span style=\"color: #bbbbbb\"> </span><span style=\"color: #666666\">*</span><span style=\"color: #bbbbbb\"> </span><span style=\"color: #008000\">a</span>(<span style=\"color: #B00040\">k</span>amp)\n",
       "<span style=\"color: #bbbbbb\">  </span><span style=\"color: #B00040\">a</span>out1<span style=\"color: #bbbbbb\"> </span><span style=\"color: #666666\">=</span><span style=\"color: #bbbbbb\"> </span><span style=\"color: #B00040\">k</span>cutoff<span style=\"color: #bbbbbb\"> </span><span style=\"color: #666666\">==</span><span style=\"color: #bbbbbb\"> </span><span style=\"color: #666666\">0</span><span style=\"color: #bbbbbb\"> </span><span style=\"color: #666666\">?</span><span style=\"color: #bbbbbb\"> </span><span style=\"color: #B00040\">a</span>out1<span style=\"color: #bbbbbb\"> </span><span style=\"color: #666666\">:</span><span style=\"color: #bbbbbb\"> </span><span style=\"color: #008000\">moogladder</span><span style=\"color: #bbbbbb\"> </span><span style=\"color: #B00040\">a</span>out1,<span style=\"color: #bbbbbb\"> </span><span style=\"color: #008000\">lag</span>(<span style=\"color: #B00040\">k</span>cutoff,<span style=\"color: #bbbbbb\"> </span><span style=\"color: #666666\">0.1</span>),<span style=\"color: #bbbbbb\"> </span><span style=\"color: #B00040\">k</span>resonance\n",
       "</code></pre></div>\n",
       "</span>\n",
       "<hr>\n",
       "Preset: <b>tri</b> - <span style=\"color:#A0A0A0\"><i>transposable triangle wave with optional lowpass-filter</i></span>\n",
       "<br>\n",
       "<code style=\"font-size: 90%\">  <span style=\"color:#A0A0A0;font-size:96%\">(routing=True, numouts=2, numsignals=1)\n",
       "</span></code>\n",
       "<ul style=\"line-height: 120%\">\n",
       "<li><span style=\"font-size:90%\"><strong>ktransp</strong></span>: <span style=\"font-size:90%\"><i>transposition interval</i></span></li>\n",
       "<li><span style=\"font-size:90%\"><strong>klag</strong></span>: <span style=\"font-size:90%\"><i>lag time when modifying pitch</i></span></li>\n",
       "<li><span style=\"font-size:90%\"><strong>kcutoffratio</strong></span>: <span style=\"font-size:90%\"><i>cutoff frequency of the filter as a factor of the osc frequency</i></span></li>\n",
       "<li><span style=\"font-size:90%\"><strong>kfilterq</strong></span>: <span style=\"font-size:90%\"><i>filter resonance</i></span></li>\n",
       "</ul>\n",
       "<span style=\"font-size:96%\"><strong>code</strong></span><br>\n",
       "<span style=\"font-size:90%\"><pre>  |ktransp=<span style=\"color:#6666E0\">0.0</span>, klag=<span style=\"color:#6666E0\">0.1</span>, kcutoffratio=<span style=\"color:#6666E0\">0.0</span>, kfilterq=<span style=\"color:#6666E0\">3.0</span>|</pre></span>\n",
       "<span style=\"font-size:90%\"><div class=\"highlight\" style=\"background: #f8f8f8\"><pre style=\"line-height: 125%;\"><span></span><code><span style=\"color: #bbbbbb\">  </span><span style=\"color: #3D7B7B; font-style: italic\">; transposable triangle wave with optional lowpass-filter</span>\n",
       "<span style=\"color: #bbbbbb\">  </span><span style=\"color: #3D7B7B; font-style: italic\">; Args:</span>\n",
       "<span style=\"color: #bbbbbb\">  </span><span style=\"color: #3D7B7B; font-style: italic\">;   ktransp: transposition interval</span>\n",
       "<span style=\"color: #bbbbbb\">  </span><span style=\"color: #3D7B7B; font-style: italic\">;   klag: lag time when modifying pitch</span>\n",
       "<span style=\"color: #bbbbbb\">  </span><span style=\"color: #3D7B7B; font-style: italic\">;   kcutoffratio: cutoff frequency of the filter as a factor of the osc frequency</span>\n",
       "<span style=\"color: #bbbbbb\">  </span><span style=\"color: #3D7B7B; font-style: italic\">;   kfilterq: filter resonance</span>\n",
       "<span style=\"color: #bbbbbb\">  </span><span style=\"color: #B00040\">k</span>freq<span style=\"color: #bbbbbb\"> </span><span style=\"color: #666666\">=</span><span style=\"color: #bbbbbb\"> </span><span style=\"color: #008000\">mtof</span>:<span style=\"color: #B00040\">k</span>(<span style=\"color: #008000\">lag</span>(<span style=\"color: #B00040\">k</span>pitch<span style=\"color: #bbbbbb\"> </span><span style=\"color: #666666\">+</span><span style=\"color: #bbbbbb\"> </span><span style=\"color: #B00040\">k</span>transp,<span style=\"color: #bbbbbb\"> </span><span style=\"color: #B00040\">k</span>lag))\n",
       "<span style=\"color: #bbbbbb\">  </span><span style=\"color: #B00040\">a</span>out1<span style=\"color: #bbbbbb\"> </span><span style=\"color: #666666\">=</span><span style=\"color: #bbbbbb\"> </span><span style=\"color: #008000\">vco2</span>(<span style=\"color: #666666\">1</span>,<span style=\"color: #bbbbbb\"> </span><span style=\"color: #B00040\">k</span>freq,<span style=\"color: #bbbbbb\">  </span><span style=\"color: #666666\">12</span>)<span style=\"color: #bbbbbb\"> </span><span style=\"color: #666666\">*</span><span style=\"color: #bbbbbb\"> </span><span style=\"color: #008000\">a</span>(<span style=\"color: #B00040\">k</span>amp)\n",
       "<span style=\"color: #bbbbbb\">  </span><span style=\"color: #008000; font-weight: bold\">if</span><span style=\"color: #bbbbbb\"> </span><span style=\"color: #B00040\">k</span>cutoffratio<span style=\"color: #bbbbbb\"> </span><span style=\"color: #666666\">&gt;</span><span style=\"color: #bbbbbb\"> </span><span style=\"color: #666666\">0</span><span style=\"color: #bbbbbb\"> </span><span style=\"color: #008000; font-weight: bold\">then</span>\n",
       "<span style=\"color: #bbbbbb\">     </span><span style=\"color: #B00040\">a</span>out1<span style=\"color: #bbbbbb\"> </span><span style=\"color: #666666\">=</span><span style=\"color: #bbbbbb\"> </span><span style=\"color: #008000\">K35_lpf</span>(<span style=\"color: #B00040\">a</span>out1,<span style=\"color: #bbbbbb\"> </span><span style=\"color: #B00040\">k</span>freq<span style=\"color: #666666\">*</span><span style=\"color: #B00040\">k</span>cutoffratio,<span style=\"color: #bbbbbb\"> </span><span style=\"color: #B00040\">k</span>filterq)\n",
       "<span style=\"color: #bbbbbb\">  </span><span style=\"color: #008000; font-weight: bold\">endif</span>\n",
       "</code></pre></div>\n",
       "</span>\n",
       "<hr>"
      ],
      "text/plain": [
       "<IPython.core.display.HTML object>"
      ]
     },
     "metadata": {},
     "output_type": "display_data"
    }
   ],
   "source": [
    "presetManager.showPresets('*', full=True)\n"
   ]
  },
  {
   "cell_type": "code",
   "execution_count": 4,
   "id": "6d991f35-b48b-40d8-a49a-2a18b44619a1",
   "metadata": {},
   "outputs": [
    {
     "name": "stderr",
     "output_type": "stream",
     "text": [
      "\n",
      "\n",
      "\n",
      "--Csound version 6.19 (double samples) May  8 2024\n",
      "[commit: 937aa495e250d758efaa28e9697a8b75237c80cd]\n",
      "\u001b[mlibsndfile-1.2.0\n",
      "\u001b[msr = 48000.0,\u001b[m kr = 750.000,\u001b[m ksmps = 64\n",
      "\u001b[m0dBFS level = 1.0,\u001b[m A4 tuning = 442.0\n",
      "\u001b[maudio buffered in 256 sample-frame blocks\n",
      "\u001b[mreading 2048-byte blks of shorts from adc:Built-in Audio Analog Stereo: (RAW)\n",
      "writing 512 sample blks of 64-bit floats to dac:Built-in Audio Analog Stereo:\n",
      "SECTION 1:\n",
      "\u001b[m"
     ]
    }
   ],
   "source": [
    "s = playSession(latency=0)"
   ]
  },
  {
   "cell_type": "code",
   "execution_count": 5,
   "id": "9b400b32-0495-490b-8586-d3c54bd6b282",
   "metadata": {},
   "outputs": [
    {
     "data": {
      "text/html": [
       "Instr <strong style=\"color:MediumSeaGreen\">master</strong><br>\n",
       "&nbsp&nbsp&nbsp&nbsp<span style=\"font-size:90%\"><b>ibusL</b>=<code>0</code></span>, <span style=\"font-size:90%\"><b>ibusR</b>=<code>0</code></span>, <span style=\"font-size:90%\"><b>kgain</b>=<code>1</code></span><br>\n",
       "<hr style=\"width:38%;text-align:left;margin-left:0\">\n",
       "<span style=\"font-size:90%\"><div class=\"highlight\" style=\"background: #f8f8f8\"><pre style=\"line-height: 125%;\"><span></span><code><span style=\"color: #B00040\">a</span>L<span style=\"color: #bbbbbb\"> </span>busin<span style=\"color: #bbbbbb\"> </span><span style=\"color: #B00040\">i</span>busL\n",
       "<span style=\"color: #B00040\">a</span>R<span style=\"color: #bbbbbb\"> </span>busin<span style=\"color: #bbbbbb\"> </span><span style=\"color: #B00040\">i</span>busR\n",
       "<span style=\"color: #008000\">outch</span><span style=\"color: #bbbbbb\"> </span><span style=\"color: #666666\">1</span>,<span style=\"color: #bbbbbb\"> </span><span style=\"color: #B00040\">a</span>L<span style=\"color: #bbbbbb\"> </span><span style=\"color: #666666\">*</span><span style=\"color: #bbbbbb\"> </span><span style=\"color: #B00040\">k</span>gain,<span style=\"color: #bbbbbb\"> </span><span style=\"color: #666666\">2</span>,<span style=\"color: #bbbbbb\"> </span><span style=\"color: #B00040\">a</span>R<span style=\"color: #bbbbbb\"> </span><span style=\"color: #666666\">*</span><span style=\"color: #bbbbbb\"> </span><span style=\"color: #B00040\">k</span>gain\n",
       "</code></pre></div>\n",
       "</span>"
      ],
      "text/plain": [
       "Instr(master, ibusL=0, ibusR=0, kgain=1)"
      ]
     },
     "execution_count": 5,
     "metadata": {},
     "output_type": "execute_result"
    }
   ],
   "source": [
    "foo = defPreset('foo', r'''\n",
    "|ibusL, ibusR|\n",
    "prints \"ibusL: %d, ibusR: %d\\n\", ibusL, ibusR\n",
    "aout1 vco2 kamp, kfreq\n",
    "aout2 vco2 kamp, kfreq+4\n",
    "\n",
    "busmix ibusL, aout1\n",
    "busmix ibusR, aout2\n",
    "''', output=False)\n",
    "\n",
    "s.defInstr('master', r'''\n",
    "    |ibusL, ibusR, kgain=1|\n",
    "    aL busin ibusL\n",
    "    aR busin ibusR\n",
    "    outch 1, aL * kgain, 2, aR * kgain\n",
    "    ''')"
   ]
  },
  {
   "cell_type": "code",
   "execution_count": 6,
   "id": "a9287dc4-7602-47d0-ae07-7860e7950b45",
   "metadata": {},
   "outputs": [],
   "source": [
    "busL = s.assignBus()\n",
    "busR = s.assignBus()\n"
   ]
  },
  {
   "cell_type": "code",
   "execution_count": 7,
   "id": "a790ff94-593c-47c3-b904-87f27ee13200",
   "metadata": {},
   "outputs": [],
   "source": [
    "master = s.sched('master', args=dict(ibusL=busL, ibusR=busR), priority=2)"
   ]
  },
  {
   "cell_type": "code",
   "execution_count": 8,
   "id": "07923c11-5263-4a83-9cfc-baf6765cee26",
   "metadata": {},
   "outputs": [
    {
     "name": "stderr",
     "output_type": "stream",
     "text": [
      "ibusL: 0, ibusR: 1\n",
      "\u001b[m"
     ]
    },
    {
     "data": {
      "application/vnd.jupyter.widget-view+json": {
       "model_id": "259322e11f3b44b18c8d2a1b0fc12e5d",
       "version_major": 2,
       "version_minor": 0
      },
      "text/plain": [
       "Button(description='Stop', style=ButtonStyle())"
      ]
     },
     "metadata": {},
     "output_type": "display_data"
    },
    {
     "data": {
      "application/vnd.jupyter.widget-view+json": {
       "model_id": "5b7aed7931ce453bbc77beed527129ab",
       "version_major": 2,
       "version_minor": 0
      },
      "text/plain": [
       "Output()"
      ]
     },
     "metadata": {},
     "output_type": "display_data"
    },
    {
     "data": {
      "text/html": [
       "<small><span style=\"\"><b>SynthGroup</b></span>(synths=<code style=\"\">1</code>)</small>\n",
       "<p><small>Instr: <strong style=\"color:MediumSeaGreen\">preset:foo</strong> - <b>1</b> synths</small></p>\n",
       "<table style=\"font-size: smaller\"<thead><tr><th style=\"text-align:left\">p1</th><th style=\"text-align:left\">start</th><th style=\"text-align:left\">dur</th><th style=\"text-align:left\">p4</th><th style=\"text-align:left\">kpos</th><th style=\"text-align:left\">kgain</th><th style=\"text-align:left\">idataidx_</th><th style=\"text-align:left\">inumbps</th><th style=\"text-align:left\">ibplen</th><th style=\"text-align:left\">ichan</th><th style=\"text-align:left\">ifadein</th><th style=\"text-align:left\">...</th></tr></thead><tbody><tr><td style=\"text-align:left\">501.0002 <b>▶</b></td><td style=\"text-align:left\">-0.011</td><td style=\"text-align:left\">30.000</td><td style=\"text-align:left\">0</td><td style=\"text-align:left\">0.5</td><td style=\"text-align:left\">0.01</td><td style=\"text-align:left\">17</td><td style=\"text-align:left\">2</td><td style=\"text-align:left\">3</td><td style=\"text-align:left\">1</td><td style=\"text-align:left\">...</td></tr></tbody></table>"
      ],
      "text/plain": [
       "SynthGroup(n=1)\n",
       "    Synth(▶ preset:foo=501.0002 start=7.416 dur=30.000 p4=0.5 kpos=0.01 kgain=17 idataidx_=2 inumbps=3 ibplen=1 ichan=0.02 …)"
      ]
     },
     "execution_count": 8,
     "metadata": {},
     "output_type": "execute_result"
    }
   ],
   "source": [
    "Note(60.5, 30).play(instr='foo', gain=0.01, ibusL=busL, ibusR=busR)"
   ]
  },
  {
   "cell_type": "code",
   "execution_count": 9,
   "id": "56fe6cdd-fe37-47b4-b9c2-3c1eb21e29c6",
   "metadata": {},
   "outputs": [],
   "source": [
    "master.set('kgain', 0.5)"
   ]
  },
  {
   "cell_type": "code",
   "execution_count": 10,
   "id": "9247b031-e1fd-4377-aa52-366fad3a18b7",
   "metadata": {},
   "outputs": [],
   "source": [
    "master.stop()"
   ]
  },
  {
   "cell_type": "code",
   "execution_count": 11,
   "id": "68ebdac5-107d-4ad4-90a5-05e9106e6ec3",
   "metadata": {},
   "outputs": [],
   "source": [
    "foo = s.defInstr('foo', r'''\n",
    "    |itime, Sfoo|\n",
    "    ielapsed times\n",
    "    prints \"Sfoo: %s, itime: %f, ielapsed: %f, diff: %f\\n\", Sfoo, itime, ielapsed, ielapsed - itime \n",
    "    turnoff\n",
    "''', priority=1)"
   ]
  },
  {
   "cell_type": "code",
   "execution_count": 12,
   "id": "a8aeb2e8-bf51-4766-9f5d-ef989c1a4c9b",
   "metadata": {},
   "outputs": [
    {
     "data": {
      "application/vnd.jupyter.widget-view+json": {
       "model_id": "9f0f687cc594426e8985c4c6c3603d27",
       "version_major": 2,
       "version_minor": 0
      },
      "text/plain": [
       "Button(description='Stop', style=ButtonStyle())"
      ]
     },
     "metadata": {},
     "output_type": "display_data"
    },
    {
     "name": "stderr",
     "output_type": "stream",
     "text": [
      "Sfoo: bar, itime: 20.582667, ielapsed: 20.588000, diff: 0.005333\n",
      "\u001b[m"
     ]
    },
    {
     "data": {
      "application/vnd.jupyter.widget-view+json": {
       "model_id": "f74a96cfe42647848d04e27c65641224",
       "version_major": 2,
       "version_minor": 0
      },
      "text/plain": [
       "Output()"
      ]
     },
     "metadata": {},
     "output_type": "display_data"
    },
    {
     "data": {
      "text/html": [
       "<p><span style=\"font-size:12px;\">Synth(▶ <strong style=\"color:MediumSeaGreen\">foo</strong>:502.0002, <span style=\"font-size:12px;\">5:<b>itime</b>=<code>20.5827</code> 6:<b>Sfoo</b>=<code>bar</code></span>)</span></p>"
      ],
      "text/plain": [
       "Synth(▶ foo=502.0002 start=20.583 dur=1.000 p4=20.5827 itime=bar)"
      ]
     },
     "execution_count": 12,
     "metadata": {},
     "output_type": "execute_result"
    }
   ],
   "source": [
    "s.sched(\"foo\", 0, 1, args={'Sfoo': 'bar', 'itime': s.engine.realElapsedTime()})"
   ]
  },
  {
   "cell_type": "code",
   "execution_count": 13,
   "id": "9300a34a-1632-472c-8a26-1599074e6729",
   "metadata": {},
   "outputs": [
    {
     "data": {
      "text/plain": [
       "{'cos': 20, 'linear': 21, 'smooth': 22, 'smoother': 23, 'bar': 24}"
      ]
     },
     "execution_count": 13,
     "metadata": {},
     "output_type": "execute_result"
    }
   ],
   "source": [
    "s.engine._strToIndex"
   ]
  },
  {
   "cell_type": "code",
   "execution_count": 14,
   "id": "a2298f94-93a8-4146-99c0-27b5cdaf39f3",
   "metadata": {},
   "outputs": [],
   "source": [
    "test = s.defInstr('test', r'''\n",
    "    |istrid|\n",
    "    S0 = strget(istrid)\n",
    "    prints \"S0: %s\\n\", S0\n",
    "    turnoff\n",
    "''')"
   ]
  },
  {
   "cell_type": "code",
   "execution_count": 15,
   "id": "dd5303ca-8e21-4c89-873a-4857a6658e02",
   "metadata": {},
   "outputs": [],
   "source": [
    "jiji = s.engine.strSet('jiji')"
   ]
  },
  {
   "cell_type": "code",
   "execution_count": 16,
   "id": "01916b33-6cb5-47c7-9c14-7f161429856e",
   "metadata": {},
   "outputs": [
    {
     "name": "stderr",
     "output_type": "stream",
     "text": [
      "S0: jiji\n",
      "\u001b[m"
     ]
    },
    {
     "data": {
      "application/vnd.jupyter.widget-view+json": {
       "model_id": "571f6014dc7c480c909fbb50751636f0",
       "version_major": 2,
       "version_minor": 0
      },
      "text/plain": [
       "Button(description='Stop', style=ButtonStyle())"
      ]
     },
     "metadata": {},
     "output_type": "display_data"
    },
    {
     "data": {
      "application/vnd.jupyter.widget-view+json": {
       "model_id": "4b24ca839c9e4b5995774d10ff28cb6d",
       "version_major": 2,
       "version_minor": 0
      },
      "text/plain": [
       "Output()"
      ]
     },
     "metadata": {},
     "output_type": "display_data"
    },
    {
     "data": {
      "text/html": [
       "<p><span style=\"font-size:12px;\">Synth(▶ <strong style=\"color:MediumSeaGreen\">test</strong>:503.0002)</span></p>"
      ],
      "text/plain": [
       "Synth(▶ test=503.0002 start=34.359 dur=1.000 p4=25)"
      ]
     },
     "execution_count": 16,
     "metadata": {},
     "output_type": "execute_result"
    }
   ],
   "source": [
    "s.sched('test', 0, 1, args={'istrid': jiji})"
   ]
  },
  {
   "cell_type": "code",
   "execution_count": 17,
   "id": "1f3c0bf9-0b3e-41b6-a64e-60d90b2b9674",
   "metadata": {},
   "outputs": [],
   "source": [
    "test = s.defInstr('test', r'''\n",
    "    |ichan=0|\n",
    "    prints \"ichan: %d\\n\", ichan\n",
    "    Schan = \"bar\"\n",
    "    ; Schan strget ichan\n",
    "    prints \"Schan: %s\\n\", Schan\n",
    "    a0 oscili 0.1, 1000\n",
    "    ; chnset a0, Schan\n",
    "''')\n"
   ]
  },
  {
   "cell_type": "code",
   "execution_count": 18,
   "id": "7de85b31-1a61-499b-af93-9b322c562168",
   "metadata": {},
   "outputs": [
    {
     "name": "stdout",
     "output_type": "stream",
     "text": [
      "ichan = p5\n",
      "prints \"ichan: %d\\n\", ichan\n",
      "Schan = \"bar\"\n",
      "; Schan strget ichan\n",
      "prints \"Schan: %s\\n\", Schan\n",
      "a0 oscili 0.1, 1000\n",
      "; chnset a0, Schan\n",
      "atstop 1, 0.01, 0, p1\n"
     ]
    }
   ],
   "source": [
    "print(s.generateInstrBody(test))"
   ]
  },
  {
   "cell_type": "code",
   "execution_count": 19,
   "id": "b403462b-8394-4c56-96a4-954082efacd8",
   "metadata": {},
   "outputs": [
    {
     "data": {
      "text/plain": [
       "26"
      ]
     },
     "execution_count": 19,
     "metadata": {},
     "output_type": "execute_result"
    }
   ],
   "source": [
    "ichan = s.engine.strSet('foo')\n",
    "ichan"
   ]
  },
  {
   "cell_type": "code",
   "execution_count": 20,
   "id": "21a97a16-0c0b-458c-9fea-0c8736e9803f",
   "metadata": {},
   "outputs": [
    {
     "name": "stderr",
     "output_type": "stream",
     "text": [
      "ichan: 0\n",
      "\u001b[mSchan: bar\n",
      "\u001b[m"
     ]
    },
    {
     "data": {
      "application/vnd.jupyter.widget-view+json": {
       "model_id": "928eac60a60245e59813a9c5c12aac60",
       "version_major": 2,
       "version_minor": 0
      },
      "text/plain": [
       "Button(description='Stop', style=ButtonStyle())"
      ]
     },
     "metadata": {},
     "output_type": "display_data"
    },
    {
     "data": {
      "application/vnd.jupyter.widget-view+json": {
       "model_id": "c991573e12ae408b91876dc1f9d526e9",
       "version_major": 2,
       "version_minor": 0
      },
      "text/plain": [
       "Output()"
      ]
     },
     "metadata": {},
     "output_type": "display_data"
    },
    {
     "data": {
      "text/html": [
       "<p><span style=\"font-size:12px;\">Synth(▶ <strong style=\"color:MediumSeaGreen\">test</strong>:503.0003)</span></p>"
      ],
      "text/plain": [
       "Synth(▶ test=503.0003 start=41.815 dur=-1.000 p4=0)"
      ]
     },
     "execution_count": 20,
     "metadata": {},
     "output_type": "execute_result"
    }
   ],
   "source": [
    "s.sched('test', args={'ichan': 0})"
   ]
  },
  {
   "cell_type": "code",
   "execution_count": 1,
   "id": "fb655e84-a7d2-4aa8-8cc7-3318b742dcde",
   "metadata": {},
   "outputs": [
    {
     "name": "stderr",
     "output_type": "stream",
     "text": [
      "end of score.\t\t   overall amps:\u001b[m      0.0\n",
      "\t   overall samples out of range:\u001b[m        0\u001b[m\n",
      "0 errors in performance\n",
      "\u001b[m"
     ]
    },
    {
     "data": {
      "text/html": [
       "Preset: <b>mysynth</b>\n",
       "<br>\n",
       "<code style=\"font-size: 90%\">  <span style=\"color:#A0A0A0;font-size:96%\">(numouts=0, numsignals=0)\n",
       "</span></code>\n",
       "<span style=\"font-size:96%\"><strong>code</strong></span><br>\n",
       "<span style=\"font-size:90%\"><pre>  |idecratio=<span style=\"color:#6666E0\">2.0</span>, isust=<span style=\"color:#6666E0\">0.1</span>|</pre></span>\n",
       "<span style=\"font-size:90%\"><div class=\"highlight\" style=\"background: #f8f8f8\"><pre style=\"line-height: 125%;\"><span></span><code><span style=\"color: #bbbbbb\">  </span><span style=\"color: #B00040\">a</span>sig<span style=\"color: #bbbbbb\"> </span><span style=\"color: #008000\">vco2</span><span style=\"color: #bbbbbb\"> </span><span style=\"color: #B00040\">k</span>amp,<span style=\"color: #bbbbbb\"> </span><span style=\"color: #B00040\">k</span>freq,<span style=\"color: #bbbbbb\"> </span><span style=\"color: #666666\">12</span>\n",
       "<span style=\"color: #bbbbbb\">  </span><span style=\"color: #B00040\">a</span>sig<span style=\"color: #bbbbbb\"> </span><span style=\"color: #666666\">*=</span><span style=\"color: #bbbbbb\"> </span><span style=\"color: #008000\">adsr</span>(<span style=\"color: #B00040\">i</span>fadein,<span style=\"color: #bbbbbb\"> </span><span style=\"color: #B00040\">i</span>fadein<span style=\"color: #666666\">*</span><span style=\"color: #B00040\">i</span>decratio,<span style=\"color: #bbbbbb\"> </span><span style=\"color: #B00040\">i</span>sust,<span style=\"color: #bbbbbb\"> </span><span style=\"color: #B00040\">i</span>fadeout)<span style=\"color: #bbbbbb\"> </span>\n",
       "<span style=\"color: #bbbbbb\">  </span><span style=\"color: #B00040\">a</span>sigL,<span style=\"color: #bbbbbb\"> </span><span style=\"color: #B00040\">a</span>sigR<span style=\"color: #bbbbbb\"> </span><span style=\"color: #008000\">pan2</span><span style=\"color: #bbbbbb\"> </span><span style=\"color: #B00040\">a</span>sig,<span style=\"color: #bbbbbb\"> </span><span style=\"color: #B00040\">k</span>pos\n",
       "<span style=\"color: #bbbbbb\">  </span><span style=\"color: #008000\">chnmix</span><span style=\"color: #bbbbbb\"> </span><span style=\"color: #B00040\">a</span>sigL,<span style=\"color: #bbbbbb\"> </span><span style=\"color: #BA2121\">&quot;left&quot;</span>\n",
       "<span style=\"color: #bbbbbb\">  </span><span style=\"color: #008000\">chnmix</span><span style=\"color: #bbbbbb\"> </span><span style=\"color: #B00040\">a</span>sigR,<span style=\"color: #bbbbbb\"> </span><span style=\"color: #BA2121\">&quot;right&quot;</span>\n",
       "</code></pre></div>\n",
       "</span>"
      ],
      "text/plain": [
       "Preset: mysynth  \n",
       "    routing=False\n",
       "  |idecratio=2.0, isust=0.1|\n",
       "  asig vco2 kamp, kfreq, 12\n",
       "  asig *= adsr(ifadein, ifadein*idecratio, isust, ifadeout) \n",
       "  asigL, asigR pan2 asig, kpos\n",
       "  chnmix asigL, \"left\"\n",
       "  chnmix asigR, \"right\""
      ]
     },
     "execution_count": 1,
     "metadata": {},
     "output_type": "execute_result"
    }
   ],
   "source": [
    "from maelzel.core import *\n",
    "\n",
    "preset = defPreset('mysynth', r'''\n",
    "|idecratio=2, isust=0.1|\n",
    "asig vco2 kamp, kfreq, 12\n",
    "asig *= adsr(ifadein, ifadein*idecratio, isust, ifadeout) \n",
    "asigL, asigR pan2 asig, kpos\n",
    "chnmix asigL, \"left\"\n",
    "chnmix asigR, \"right\"\n",
    "''')\n",
    "preset"
   ]
  },
  {
   "cell_type": "code",
   "execution_count": 2,
   "id": "d1c9cc28-e054-4c72-8dff-78a3a0a5b83d",
   "metadata": {},
   "outputs": [
    {
     "name": "stderr",
     "output_type": "stream",
     "text": [
      "\n",
      "\n",
      "\n",
      "--Csound version 6.19 (double samples) Oct 13 2024\n",
      "[commit: 937aa495e250d758efaa28e9697a8b75237c80cd]\n",
      "\u001b[mlibsndfile-1.2.0\n",
      "\u001b[msr = 48000.0,\u001b[m kr = 750.000,\u001b[m ksmps = 64\n",
      "\u001b[m0dBFS level = 1.0,\u001b[m A4 tuning = 442.0\n",
      "\u001b[maudio buffered in 256 sample-frame blocks\n",
      "\u001b[mreading 2048-byte blks of shorts from adc:Built-in Audio Analog Stereo: (RAW)\n",
      "writing 512 sample blks of 64-bit floats to dac:Built-in Audio Analog Stereo:\n",
      "SECTION 1:\n",
      "\u001b[m"
     ]
    },
    {
     "data": {
      "text/html": [
       "Instr <strong style=\"color:MediumSeaGreen\">reverb</strong><br>\n",
       "&nbsp&nbsp&nbsp&nbsp<span style=\"font-size:90%\"><b>kwet</b>=<code>0.8</code></span>, <span style=\"font-size:90%\"><b>kfeedback</b>=<code>0.85</code></span>, <span style=\"font-size:90%\"><b>kcutoff</b>=<code>12000</code></span>, <span style=\"font-size:90%\"><b>ipitchmod</b>=<code>0.3</code></span><br>\n",
       "<hr style=\"width:38%;text-align:left;margin-left:0\">\n",
       "<span style=\"font-size:90%\"><div class=\"highlight\" style=\"background: #f8f8f8\"><pre style=\"line-height: 125%;\"><span></span><code><span style=\"color: #B00040\">a</span>left<span style=\"color: #bbbbbb\"> </span><span style=\"color: #666666\">=</span><span style=\"color: #bbbbbb\"> </span><span style=\"color: #008000\">chnget</span>:<span style=\"color: #B00040\">a</span>(<span style=\"color: #BA2121\">&quot;left&quot;</span>)\n",
       "<span style=\"color: #B00040\">a</span>right<span style=\"color: #bbbbbb\"> </span><span style=\"color: #666666\">=</span><span style=\"color: #bbbbbb\"> </span><span style=\"color: #008000\">chnget</span>:<span style=\"color: #B00040\">a</span>(<span style=\"color: #BA2121\">&quot;right&quot;</span>)\n",
       "<span style=\"color: #B00040\">a</span>wetL,<span style=\"color: #bbbbbb\"> </span><span style=\"color: #B00040\">a</span>wetR<span style=\"color: #bbbbbb\"> </span><span style=\"color: #008000\">reverbsc</span><span style=\"color: #bbbbbb\"> </span><span style=\"color: #B00040\">a</span>left,<span style=\"color: #bbbbbb\"> </span><span style=\"color: #B00040\">a</span>right,<span style=\"color: #bbbbbb\"> </span><span style=\"color: #B00040\">k</span>feedback,<span style=\"color: #bbbbbb\"> </span><span style=\"color: #B00040\">k</span>cutoff,<span style=\"color: #bbbbbb\"> </span><span style=\"color: #19177C\">sr</span>,<span style=\"color: #bbbbbb\"> </span><span style=\"color: #B00040\">i</span>pitchmod\n",
       "<span style=\"color: #008000\">outch</span><span style=\"color: #bbbbbb\"> </span><span style=\"color: #666666\">1</span>,<span style=\"color: #bbbbbb\"> </span><span style=\"color: #B00040\">a</span>wetL<span style=\"color: #bbbbbb\"> </span><span style=\"color: #666666\">*</span><span style=\"color: #bbbbbb\"> </span><span style=\"color: #B00040\">k</span>wet<span style=\"color: #bbbbbb\"> </span><span style=\"color: #666666\">+</span><span style=\"color: #bbbbbb\"> </span><span style=\"color: #B00040\">a</span>left<span style=\"color: #bbbbbb\"> </span><span style=\"color: #666666\">*</span><span style=\"color: #bbbbbb\"> </span>(<span style=\"color: #666666\">1</span><span style=\"color: #bbbbbb\"> </span><span style=\"color: #666666\">-</span><span style=\"color: #bbbbbb\"> </span><span style=\"color: #B00040\">k</span>wet),<span style=\"color: #bbbbbb\"> </span><span style=\"color: #666666\">2</span>,<span style=\"color: #bbbbbb\"> </span><span style=\"color: #B00040\">a</span>wetR<span style=\"color: #bbbbbb\"> </span><span style=\"color: #666666\">*</span><span style=\"color: #bbbbbb\"> </span><span style=\"color: #B00040\">k</span>wet<span style=\"color: #bbbbbb\"> </span><span style=\"color: #666666\">+</span><span style=\"color: #bbbbbb\"> </span><span style=\"color: #B00040\">a</span>right<span style=\"color: #bbbbbb\"> </span><span style=\"color: #666666\">*</span><span style=\"color: #bbbbbb\"> </span>(<span style=\"color: #666666\">1</span><span style=\"color: #bbbbbb\"> </span><span style=\"color: #666666\">-</span><span style=\"color: #bbbbbb\"> </span><span style=\"color: #B00040\">k</span>wet)\n",
       "<span style=\"color: #008000\">chnclear</span><span style=\"color: #bbbbbb\"> </span><span style=\"color: #BA2121\">&quot;left&quot;</span>,<span style=\"color: #bbbbbb\"> </span><span style=\"color: #BA2121\">&quot;right&quot;</span>\n",
       "</code></pre></div>\n",
       "</span>"
      ],
      "text/plain": [
       "Instr(reverb, kwet=0.8, kfeedback=0.85, kcutoff=12000, ipitchmod=0.3)"
      ]
     },
     "execution_count": 2,
     "metadata": {},
     "output_type": "execute_result"
    }
   ],
   "source": [
    "session = getSession()\n",
    "session.defInstr('reverb', r'''\n",
    "|kwet=0.8, kfeedback=0.85, kcutoff=12000, ipitchmod=0.3|\n",
    "aleft = chnget:a(\"left\")\n",
    "aright = chnget:a(\"right\")\n",
    "awetL, awetR reverbsc aleft, aright, kfeedback, kcutoff, sr, ipitchmod\n",
    "outch 1, awetL * kwet + aleft * (1 - kwet), 2, awetR * kwet + aright * (1 - kwet)\n",
    "chnclear \"left\", \"right\"\n",
    "''')\n"
   ]
  },
  {
   "cell_type": "code",
   "execution_count": 30,
   "id": "60fe4964-c746-4b5e-9fe3-47c53bbf3108",
   "metadata": {},
   "outputs": [],
   "source": [
    "reverb = session.sched('reverb', priority=2, kwet=0.85, kfeedback=0.74)\n"
   ]
  },
  {
   "cell_type": "code",
   "execution_count": 27,
   "id": "6aff1a1f-ac8f-40ba-b211-f516a73a079f",
   "metadata": {},
   "outputs": [],
   "source": [
    "chain = Chain([Note(p, 1).setPlay(instr='mysynth', fade=(0.01, 0.1), idecratio=1, isust=0.2, sustain=-0.25, gain=0.1)\n",
    "               for p in range(48, 100)])\n",
    "# chain"
   ]
  },
  {
   "cell_type": "code",
   "execution_count": 31,
   "id": "1c2f7c75-eb51-4c05-8371-1027bda4ee12",
   "metadata": {},
   "outputs": [
    {
     "data": {
      "application/vnd.jupyter.widget-view+json": {
       "model_id": "9dd717bd28814c079258e8daf266f06c",
       "version_major": 2,
       "version_minor": 0
      },
      "text/plain": [
       "Button(description='Stop', style=ButtonStyle())"
      ]
     },
     "metadata": {},
     "output_type": "display_data"
    },
    {
     "data": {
      "application/vnd.jupyter.widget-view+json": {
       "model_id": "b27d7cee7b7e42d9a37825858cc512de",
       "version_major": 2,
       "version_minor": 0
      },
      "text/plain": [
       "Output()"
      ]
     },
     "metadata": {},
     "output_type": "display_data"
    },
    {
     "data": {
      "text/html": [
       "<small><span style=\"\"><b>SynthGroup</b></span>(synths=<code style=\"\">52</code>)</small>\n",
       "<p><small>Instr: <strong style=\"color:MediumSeaGreen\">preset:mysynth</strong> - <b>52</b> synths</small></p>\n",
       "<table style=\"font-size: smaller\"<thead><tr><th style=\"text-align:left\">p1</th><th style=\"text-align:left\">start</th><th style=\"text-align:left\">dur</th><th style=\"text-align:left\">p4</th><th style=\"text-align:left\">kpos</th><th style=\"text-align:left\">kgain</th><th style=\"text-align:left\">idataidx_</th><th style=\"text-align:left\">inumbps</th><th style=\"text-align:left\">ibplen</th><th style=\"text-align:left\">ichan</th><th style=\"text-align:left\">ifadein</th><th style=\"text-align:left\">...</th></tr></thead><tbody><tr><td style=\"text-align:left\">501.0782 <b>▶</b></td><td style=\"text-align:left\">-0.011</td><td style=\"text-align:left\">1.000</td><td style=\"text-align:left\">0</td><td style=\"text-align:left\">0.5</td><td style=\"text-align:left\">0.1</td><td style=\"text-align:left\">17</td><td style=\"text-align:left\">2</td><td style=\"text-align:left\">3</td><td style=\"text-align:left\">1</td><td style=\"text-align:left\">...</td></tr><tr><td style=\"text-align:left\">501.0783 <b>𝍪</b></td><td style=\"text-align:left\">0.989</td><td style=\"text-align:left\">1.000</td><td style=\"text-align:left\">0</td><td style=\"text-align:left\">0.5</td><td style=\"text-align:left\">0.1</td><td style=\"text-align:left\">17</td><td style=\"text-align:left\">2</td><td style=\"text-align:left\">3</td><td style=\"text-align:left\">1</td><td style=\"text-align:left\">...</td></tr><tr><td style=\"text-align:left\">501.0784 <b>𝍪</b></td><td style=\"text-align:left\">1.989</td><td style=\"text-align:left\">1.000</td><td style=\"text-align:left\">0</td><td style=\"text-align:left\">0.5</td><td style=\"text-align:left\">0.1</td><td style=\"text-align:left\">17</td><td style=\"text-align:left\">2</td><td style=\"text-align:left\">3</td><td style=\"text-align:left\">1</td><td style=\"text-align:left\">...</td></tr><tr><td style=\"text-align:left\">501.0785 <b>𝍪</b></td><td style=\"text-align:left\">2.989</td><td style=\"text-align:left\">1.000</td><td style=\"text-align:left\">0</td><td style=\"text-align:left\">0.5</td><td style=\"text-align:left\">0.1</td><td style=\"text-align:left\">17</td><td style=\"text-align:left\">2</td><td style=\"text-align:left\">3</td><td style=\"text-align:left\">1</td><td style=\"text-align:left\">...</td></tr><tr><td style=\"text-align:left\">...</td></tr></tbody></table>"
      ],
      "text/plain": [
       "SynthGroup(n=52)\n",
       "    Synth(𝍪 preset:mysynth=501.0782 start=316.114 dur=1.000 p4=0.5 kpos=0.1 kgain=17 idataidx_=2 inumbps=3 ibplen=1 ichan=0.01 …)\n",
       "    Synth(𝍪 preset:mysynth=501.0783 start=317.114 dur=1.000 p4=0.5 kpos=0.1 kgain=17 idataidx_=2 inumbps=3 ibplen=1 ichan=0.01 …)\n",
       "    Synth(𝍪 preset:mysynth=501.0784 start=318.114 dur=1.000 p4=0.5 kpos=0.1 kgain=17 idataidx_=2 inumbps=3 ibplen=1 ichan=0.01 …)\n",
       "    Synth(𝍪 preset:mysynth=501.0785 start=319.114 dur=1.000 p4=0.5 kpos=0.1 kgain=17 idataidx_=2 inumbps=3 ibplen=1 ichan=0.01 …)\n",
       "    Synth(𝍪 preset:mysynth=501.0786 start=320.114 dur=1.000 p4=0.5 kpos=0.1 kgain=17 idataidx_=2 inumbps=3 ibplen=1 ichan=0.01 …)\n",
       "    Synth(𝍪 preset:mysynth=501.0787 start=321.114 dur=1.000 p4=0.5 kpos=0.1 kgain=17 idataidx_=2 inumbps=3 ibplen=1 ichan=0.01 …)\n",
       "    Synth(𝍪 preset:mysynth=501.0788 start=322.114 dur=1.000 p4=0.5 kpos=0.1 kgain=17 idataidx_=2 inumbps=3 ibplen=1 ichan=0.01 …)\n",
       "    Synth(𝍪 preset:mysynth=501.0789 start=323.114 dur=1.000 p4=0.5 kpos=0.1 kgain=17 idataidx_=2 inumbps=3 ibplen=1 ichan=0.01 …)\n",
       "    Synth(𝍪 preset:mysynth=501.079 start=324.114 dur=1.000 p4=0.5 kpos=0.1 kgain=17 idataidx_=2 inumbps=3 ibplen=1 ichan=0.01 …)\n",
       "    Synth(𝍪 preset:mysynth=501.0791 start=325.114 dur=1.000 p4=0.5 kpos=0.1 kgain=17 idataidx_=2 inumbps=3 ibplen=1 ichan=0.01 …)\n",
       "    Synth(𝍪 preset:mysynth=501.0792 start=326.114 dur=1.000 p4=0.5 kpos=0.1 kgain=17 idataidx_=2 inumbps=3 ibplen=1 ichan=0.01 …)\n",
       "    Synth(𝍪 preset:mysynth=501.0793 start=327.114 dur=1.000 p4=0.5 kpos=0.1 kgain=17 idataidx_=2 inumbps=3 ibplen=1 ichan=0.01 …)\n",
       "    Synth(𝍪 preset:mysynth=501.0794 start=328.114 dur=1.000 p4=0.5 kpos=0.1 kgain=17 idataidx_=2 inumbps=3 ibplen=1 ichan=0.01 …)\n",
       "    Synth(𝍪 preset:mysynth=501.0795 start=329.114 dur=1.000 p4=0.5 kpos=0.1 kgain=17 idataidx_=2 inumbps=3 ibplen=1 ichan=0.01 …)\n",
       "    Synth(𝍪 preset:mysynth=501.0796 start=330.114 dur=1.000 p4=0.5 kpos=0.1 kgain=17 idataidx_=2 inumbps=3 ibplen=1 ichan=0.01 …)\n",
       "    Synth(𝍪 preset:mysynth=501.0797 start=331.114 dur=1.000 p4=0.5 kpos=0.1 kgain=17 idataidx_=2 inumbps=3 ibplen=1 ichan=0.01 …)\n",
       "    Synth(𝍪 preset:mysynth=501.0798 start=332.114 dur=1.000 p4=0.5 kpos=0.1 kgain=17 idataidx_=2 inumbps=3 ibplen=1 ichan=0.01 …)\n",
       "    Synth(𝍪 preset:mysynth=501.0799 start=333.114 dur=1.000 p4=0.5 kpos=0.1 kgain=17 idataidx_=2 inumbps=3 ibplen=1 ichan=0.01 …)\n",
       "    Synth(𝍪 preset:mysynth=501.08 start=334.114 dur=1.000 p4=0.5 kpos=0.1 kgain=17 idataidx_=2 inumbps=3 ibplen=1 ichan=0.01 …)\n",
       "    Synth(𝍪 preset:mysynth=501.0801 start=335.114 dur=1.000 p4=0.5 kpos=0.1 kgain=17 idataidx_=2 inumbps=3 ibplen=1 ichan=0.01 …)\n",
       "    Synth(𝍪 preset:mysynth=501.0802 start=336.114 dur=1.000 p4=0.5 kpos=0.1 kgain=17 idataidx_=2 inumbps=3 ibplen=1 ichan=0.01 …)\n",
       "    Synth(𝍪 preset:mysynth=501.0803 start=337.114 dur=1.000 p4=0.5 kpos=0.1 kgain=17 idataidx_=2 inumbps=3 ibplen=1 ichan=0.01 …)\n",
       "    Synth(𝍪 preset:mysynth=501.0804 start=338.114 dur=1.000 p4=0.5 kpos=0.1 kgain=17 idataidx_=2 inumbps=3 ibplen=1 ichan=0.01 …)\n",
       "    Synth(𝍪 preset:mysynth=501.0805 start=339.114 dur=1.000 p4=0.5 kpos=0.1 kgain=17 idataidx_=2 inumbps=3 ibplen=1 ichan=0.01 …)\n",
       "    Synth(𝍪 preset:mysynth=501.0806 start=340.114 dur=1.000 p4=0.5 kpos=0.1 kgain=17 idataidx_=2 inumbps=3 ibplen=1 ichan=0.01 …)\n",
       "    Synth(𝍪 preset:mysynth=501.0807 start=341.114 dur=1.000 p4=0.5 kpos=0.1 kgain=17 idataidx_=2 inumbps=3 ibplen=1 ichan=0.01 …)\n",
       "    Synth(𝍪 preset:mysynth=501.0808 start=342.114 dur=1.000 p4=0.5 kpos=0.1 kgain=17 idataidx_=2 inumbps=3 ibplen=1 ichan=0.01 …)\n",
       "    Synth(𝍪 preset:mysynth=501.0809 start=343.114 dur=1.000 p4=0.5 kpos=0.1 kgain=17 idataidx_=2 inumbps=3 ibplen=1 ichan=0.01 …)\n",
       "    Synth(𝍪 preset:mysynth=501.081 start=344.114 dur=1.000 p4=0.5 kpos=0.1 kgain=17 idataidx_=2 inumbps=3 ibplen=1 ichan=0.01 …)\n",
       "    Synth(𝍪 preset:mysynth=501.0811 start=345.114 dur=1.000 p4=0.5 kpos=0.1 kgain=17 idataidx_=2 inumbps=3 ibplen=1 ichan=0.01 …)\n",
       "    Synth(𝍪 preset:mysynth=501.0812 start=346.114 dur=1.000 p4=0.5 kpos=0.1 kgain=17 idataidx_=2 inumbps=3 ibplen=1 ichan=0.01 …)\n",
       "    Synth(𝍪 preset:mysynth=501.0813 start=347.114 dur=1.000 p4=0.5 kpos=0.1 kgain=17 idataidx_=2 inumbps=3 ibplen=1 ichan=0.01 …)\n",
       "    Synth(𝍪 preset:mysynth=501.0814 start=348.114 dur=1.000 p4=0.5 kpos=0.1 kgain=17 idataidx_=2 inumbps=3 ibplen=1 ichan=0.01 …)\n",
       "    Synth(𝍪 preset:mysynth=501.0815 start=349.114 dur=1.000 p4=0.5 kpos=0.1 kgain=17 idataidx_=2 inumbps=3 ibplen=1 ichan=0.01 …)\n",
       "    Synth(𝍪 preset:mysynth=501.0816 start=350.114 dur=1.000 p4=0.5 kpos=0.1 kgain=17 idataidx_=2 inumbps=3 ibplen=1 ichan=0.01 …)\n",
       "    Synth(𝍪 preset:mysynth=501.0817 start=351.114 dur=1.000 p4=0.5 kpos=0.1 kgain=17 idataidx_=2 inumbps=3 ibplen=1 ichan=0.01 …)\n",
       "    Synth(𝍪 preset:mysynth=501.0818 start=352.114 dur=1.000 p4=0.5 kpos=0.1 kgain=17 idataidx_=2 inumbps=3 ibplen=1 ichan=0.01 …)\n",
       "    Synth(𝍪 preset:mysynth=501.0819 start=353.114 dur=1.000 p4=0.5 kpos=0.1 kgain=17 idataidx_=2 inumbps=3 ibplen=1 ichan=0.01 …)\n",
       "    Synth(𝍪 preset:mysynth=501.082 start=354.114 dur=1.000 p4=0.5 kpos=0.1 kgain=17 idataidx_=2 inumbps=3 ibplen=1 ichan=0.01 …)\n",
       "    Synth(𝍪 preset:mysynth=501.0821 start=355.114 dur=1.000 p4=0.5 kpos=0.1 kgain=17 idataidx_=2 inumbps=3 ibplen=1 ichan=0.01 …)\n",
       "    Synth(𝍪 preset:mysynth=501.0822 start=356.114 dur=1.000 p4=0.5 kpos=0.1 kgain=17 idataidx_=2 inumbps=3 ibplen=1 ichan=0.01 …)\n",
       "    Synth(𝍪 preset:mysynth=501.0823 start=357.114 dur=1.000 p4=0.5 kpos=0.1 kgain=17 idataidx_=2 inumbps=3 ibplen=1 ichan=0.01 …)\n",
       "    Synth(𝍪 preset:mysynth=501.0824 start=358.114 dur=1.000 p4=0.5 kpos=0.1 kgain=17 idataidx_=2 inumbps=3 ibplen=1 ichan=0.01 …)\n",
       "    Synth(𝍪 preset:mysynth=501.0825 start=359.114 dur=1.000 p4=0.5 kpos=0.1 kgain=17 idataidx_=2 inumbps=3 ibplen=1 ichan=0.01 …)\n",
       "    Synth(𝍪 preset:mysynth=501.0826 start=360.114 dur=1.000 p4=0.5 kpos=0.1 kgain=17 idataidx_=2 inumbps=3 ibplen=1 ichan=0.01 …)\n",
       "    Synth(𝍪 preset:mysynth=501.0827 start=361.114 dur=1.000 p4=0.5 kpos=0.1 kgain=17 idataidx_=2 inumbps=3 ibplen=1 ichan=0.01 …)\n",
       "    Synth(𝍪 preset:mysynth=501.0828 start=362.114 dur=1.000 p4=0.5 kpos=0.1 kgain=17 idataidx_=2 inumbps=3 ibplen=1 ichan=0.01 …)\n",
       "    Synth(𝍪 preset:mysynth=501.0829 start=363.114 dur=1.000 p4=0.5 kpos=0.1 kgain=17 idataidx_=2 inumbps=3 ibplen=1 ichan=0.01 …)\n",
       "    Synth(𝍪 preset:mysynth=501.083 start=364.114 dur=1.000 p4=0.5 kpos=0.1 kgain=17 idataidx_=2 inumbps=3 ibplen=1 ichan=0.01 …)\n",
       "    Synth(𝍪 preset:mysynth=501.0831 start=365.114 dur=1.000 p4=0.5 kpos=0.1 kgain=17 idataidx_=2 inumbps=3 ibplen=1 ichan=0.01 …)\n",
       "    Synth(𝍪 preset:mysynth=501.0832 start=366.114 dur=1.000 p4=0.5 kpos=0.1 kgain=17 idataidx_=2 inumbps=3 ibplen=1 ichan=0.01 …)\n",
       "    Synth(𝍪 preset:mysynth=501.0833 start=367.114 dur=1.000 p4=0.5 kpos=0.1 kgain=17 idataidx_=2 inumbps=3 ibplen=1 ichan=0.01 …)"
      ]
     },
     "execution_count": 31,
     "metadata": {},
     "output_type": "execute_result"
    }
   ],
   "source": [
    "chain.play()"
   ]
  },
  {
   "cell_type": "code",
   "execution_count": 6,
   "id": "3a783131-d7b5-45ca-8fcf-2af0b518842c",
   "metadata": {},
   "outputs": [
    {
     "data": {
      "application/vnd.jupyter.widget-view+json": {
       "model_id": "807b88ab1b2949da87117277ad790ffd",
       "version_major": 2,
       "version_minor": 0
      },
      "text/plain": [
       "Button(description='Stop', style=ButtonStyle())"
      ]
     },
     "metadata": {},
     "output_type": "display_data"
    },
    {
     "data": {
      "application/vnd.jupyter.widget-view+json": {
       "model_id": "a9cbc42e80b0496983e1364d70765e77",
       "version_major": 2,
       "version_minor": 0
      },
      "text/plain": [
       "FloatSlider(value=12000.0, description='kcutoff', layout=Layout(width='80%'), max=120000.0, readout_format='d'…"
      ]
     },
     "metadata": {},
     "output_type": "display_data"
    },
    {
     "data": {
      "application/vnd.jupyter.widget-view+json": {
       "model_id": "9d2fc833fdee458aa189df8d8ef6e005",
       "version_major": 2,
       "version_minor": 0
      },
      "text/plain": [
       "FloatSlider(value=0.7, description='kfeedback', layout=Layout(width='80%'), max=2.0, readout_format='.3f', ste…"
      ]
     },
     "metadata": {},
     "output_type": "display_data"
    },
    {
     "data": {
      "application/vnd.jupyter.widget-view+json": {
       "model_id": "49c79ed6b6024919b53f2969dc9da14b",
       "version_major": 2,
       "version_minor": 0
      },
      "text/plain": [
       "FloatSlider(value=0.5, description='kwet', layout=Layout(width='80%'), max=2.0, readout_format='.3f', step=0.0…"
      ]
     },
     "metadata": {},
     "output_type": "display_data"
    }
   ],
   "source": [
    "reverb.ui()"
   ]
  },
  {
   "cell_type": "code",
   "execution_count": 35,
   "id": "077290c2-473c-43eb-9d21-dc6e283597d8",
   "metadata": {},
   "outputs": [
    {
     "data": {
      "text/plain": [
       "[SynthEvent(delay=0, dur=0.25, instr=mysynth, gain=1, chan=1, fade=(0.01, 0.1), linkednext=True, args={'idecratio': 1, 'isust': 0.6}, sustain=5, position=0.5, bps=‹0.0s 48 0.515178; 0.25s 48 0.515178›),\n",
       " SynthEvent(delay=0.25, dur=0.25, instr=mysynth, gain=1, chan=1, fade=(0.01, 0.1), linkednext=True, args={'idecratio': 1, 'isust': 0.6}, sustain=5, position=0.5, bps=‹0.0s 49 0.515178; 0.25s 49 0.515178›),\n",
       " SynthEvent(delay=0.5, dur=0.25, instr=mysynth, gain=1, chan=1, fade=(0.01, 0.1), linkednext=True, args={'idecratio': 1, 'isust': 0.6}, sustain=5, position=0.5, bps=‹0.0s 50 0.515178; 0.25s 50 0.515178›),\n",
       " SynthEvent(delay=0.75, dur=0.25, instr=mysynth, gain=1, chan=1, fade=(0.01, 0.1), linkednext=True, args={'idecratio': 1, 'isust': 0.6}, sustain=5, position=0.5, bps=‹0.0s 51 0.515178; 0.25s 51 0.515178›),\n",
       " SynthEvent(delay=1, dur=0.25, instr=mysynth, gain=1, chan=1, fade=(0.01, 0.1), linkednext=True, args={'idecratio': 1, 'isust': 0.6}, sustain=5, position=0.5, bps=‹0.0s 52 0.515178; 0.25s 52 0.515178›)]"
      ]
     },
     "execution_count": 35,
     "metadata": {},
     "output_type": "execute_result"
    }
   ],
   "source": [
    "chain.synthEvents()[:5]"
   ]
  },
  {
   "cell_type": "code",
   "execution_count": 32,
   "id": "cc508bc6-d509-4426-be03-352c2db3be04",
   "metadata": {},
   "outputs": [
    {
     "data": {
      "text/html": [
       "<code style=\"white-space: pre-line; font-size:0.9em;\">4C♯+15:1♩</code><br>\n",
       "        <img style=\"display:inline; padding:10px;\n",
       "margin-top:14px;\n",
       "width:179px\"\n",
       "             src=\"data:image/png;base64,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\"/>"
      ],
      "text/plain": [
       "4C♯+15:1♩"
      ]
     },
     "execution_count": 32,
     "metadata": {},
     "output_type": "execute_result"
    }
   ],
   "source": [
    "Note(\"4C#+15\")"
   ]
  },
  {
   "cell_type": "code",
   "execution_count": null,
   "id": "25e8906b-e7c8-470d-ac6e-94cccf3d0758",
   "metadata": {},
   "outputs": [],
   "source": []
  }
 ],
 "metadata": {
  "kernelspec": {
   "display_name": "Python 3 (ipykernel)",
   "language": "python",
   "name": "python3"
  },
  "language_info": {
   "codemirror_mode": {
    "name": "ipython",
    "version": 3
   },
   "file_extension": ".py",
   "mimetype": "text/x-python",
   "name": "python",
   "nbconvert_exporter": "python",
   "pygments_lexer": "ipython3",
   "version": "3.12.3"
  }
 },
 "nbformat": 4,
 "nbformat_minor": 5
}
