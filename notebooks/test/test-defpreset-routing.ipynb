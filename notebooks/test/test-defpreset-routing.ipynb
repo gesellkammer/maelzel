{
 "cells": [
  {
   "cell_type": "code",
   "execution_count": 1,
   "id": "12d990f3-5581-461f-ae27-26e4322fbc7b",
   "metadata": {},
   "outputs": [],
   "source": [
    "import csoundengine as ce"
   ]
  },
  {
   "cell_type": "code",
   "execution_count": 2,
   "id": "72d8b432-3722-43b1-8116-119e6f2a891f",
   "metadata": {},
   "outputs": [
    {
     "name": "stderr",
     "output_type": "stream",
     "text": [
      "\n",
      "\n",
      "--Csound version 6.18 (double samples) Sep 23 2022\n",
      "[commit: 87da757b874a18322634eb875c5a356f5c94fc23]\n",
      "\u001b[mlibsndfile-1.0.31\n",
      "\u001b[msr = 44100.0,\u001b[m kr = 689.062,\u001b[m ksmps = 64\n",
      "\u001b[m0dBFS level = 1.0,\u001b[m A4 tuning = 442.0\n",
      "\u001b[maudio buffered in 256 sample-frame blocks\n",
      "\u001b[mreading 1024-byte blks of shorts from adc:system:capture (RAW)\n",
      "writing 1024 sample blks of 64-bit floats to dac:system:playback\n",
      "SECTION 1:\n",
      "\u001b[m"
     ]
    }
   ],
   "source": [
    "e = Engine()\n",
    "# s = e.session()"
   ]
  },
  {
   "cell_type": "code",
   "execution_count": 3,
   "id": "7f3ea475-744f-457f-b89c-e84659c99c39",
   "metadata": {},
   "outputs": [],
   "source": [
    "bus = e.assignBus(\"audio\")"
   ]
  },
  {
   "cell_type": "code",
   "execution_count": 4,
   "id": "a8a84b4c-566d-4fd0-9980-4b9e1ab06aed",
   "metadata": {},
   "outputs": [],
   "source": [
    "e.compile(r'''\n",
    "instr 100\n",
    "  ibus = p4\n",
    "  a0 oscili 0.01, 1000\n",
    "  busout ibus, a0\n",
    "endin\n",
    "\n",
    "instr 200\n",
    "  ibus = p4\n",
    "  a0 busin ibus\n",
    "  outch 1, a0\n",
    "endin\n",
    "''')\n",
    "\n"
   ]
  },
  {
   "cell_type": "code",
   "execution_count": 5,
   "id": "bfda2917-965f-41d1-ae1f-a51bc3d07dc0",
   "metadata": {},
   "outputs": [
    {
     "name": "stderr",
     "output_type": "stream",
     "text": [
      "bususe: bus 0 (token 0), numrefs: 1\n",
      "\u001b[m"
     ]
    },
    {
     "data": {
      "text/plain": [
       "100.0002"
      ]
     },
     "execution_count": 5,
     "metadata": {},
     "output_type": "execute_result"
    }
   ],
   "source": [
    "e.sched(100, 0, 100, [bus])"
   ]
  },
  {
   "cell_type": "code",
   "execution_count": 6,
   "id": "0e652637-c177-4d62-b157-642e503bb48e",
   "metadata": {},
   "outputs": [
    {
     "data": {
      "text/plain": [
       "200.0002"
      ]
     },
     "execution_count": 6,
     "metadata": {},
     "output_type": "execute_result"
    },
    {
     "name": "stderr",
     "output_type": "stream",
     "text": [
      "bususe: bus 0 (token 0), numrefs: 2\n",
      "\u001b[m"
     ]
    }
   ],
   "source": [
    "e.sched(200, 0, 100, [bus])"
   ]
  },
  {
   "cell_type": "code",
   "execution_count": 7,
   "id": "c5b3cfae-736b-42f1-b396-1a66e3755db4",
   "metadata": {},
   "outputs": [
    {
     "name": "stderr",
     "output_type": "stream",
     "text": [
      "release. bus 0 (token 0), numrefs before release 2, pull full? 0\n",
      "\u001b[m"
     ]
    }
   ],
   "source": [
    "e.unsched(200)"
   ]
  },
  {
   "cell_type": "code",
   "execution_count": 8,
   "id": "f662505b-b3b5-429e-80fa-f972451a1fde",
   "metadata": {},
   "outputs": [
    {
     "name": "stderr",
     "output_type": "stream",
     "text": [
      "release. bus 0 (token 0), numrefs before release 1, pull full? 0\n",
      "\u001b[mbus 0 returned to pool\n",
      "\u001b[m"
     ]
    }
   ],
   "source": [
    "e.unsched(100)"
   ]
  },
  {
   "cell_type": "code",
   "execution_count": 2,
   "id": "57fd91c3-3d3c-4c0f-9402-77b7691f5a1c",
   "metadata": {},
   "outputs": [
    {
     "name": "stderr",
     "output_type": "stream",
     "text": [
      "\n",
      "\n",
      "--Csound version 6.18 (double samples) Sep 23 2022\n",
      "[commit: 87da757b874a18322634eb875c5a356f5c94fc23]\n",
      "\u001b[mlibsndfile-1.0.31\n",
      "\u001b[msr = 44100.0,\u001b[m kr = 689.062,\u001b[m ksmps = 64\n",
      "\u001b[m0dBFS level = 1.0,\u001b[m A4 tuning = 442.0\n",
      "\u001b[maudio buffered in 256 sample-frame blocks\n",
      "\u001b[mreading 1024-byte blks of shorts from adc:system:capture (RAW)\n",
      "writing 1024 sample blks of 64-bit floats to dac:system:playback\n",
      "SECTION 1:\n",
      "\u001b[m"
     ]
    }
   ],
   "source": [
    "import time\n",
    "import csoundengine as ce\n",
    "e = ce.Engine()"
   ]
  },
  {
   "cell_type": "code",
   "execution_count": 3,
   "id": "fb90e99c-171f-4edc-bb37-58aa3f583bb8",
   "metadata": {},
   "outputs": [],
   "source": [
    "e.compile(r'''\n",
    "instr 110\n",
    "  ibus = p4\n",
    "  kfreq line 440, p3, 880\n",
    "  busout ibus, kfreq\n",
    "endin\n",
    "\n",
    "instr 210\n",
    "  ibus = p4\n",
    "  kfreq busin ibus\n",
    "  a0 oscili 0.05, kfreq\n",
    "  a0 *= linsegr:a(0, 0.1, 1, 0.1, 0)\n",
    "  outch 1, a0\n",
    "endin\n",
    "''')\n",
    "\n"
   ]
  },
  {
   "cell_type": "code",
   "execution_count": 4,
   "id": "c613ba4a-35ba-4802-bbd9-4ee6f09841b7",
   "metadata": {},
   "outputs": [
    {
     "name": "stdout",
     "output_type": "stream",
     "text": [
      "0\n",
      "1\n",
      "2\n",
      "3\n",
      "4\n",
      "5\n",
      "6\n",
      "7\n",
      "8\n",
      "9\n",
      "10\n",
      "11\n",
      "12\n",
      "13\n",
      "14\n",
      "15\n",
      "16\n",
      "17\n",
      "18\n",
      "19\n"
     ]
    }
   ],
   "source": [
    "for x in range(20):\n",
    "    kbus = e.assignBus(\"control\")\n",
    "    e.sched(210, 0, 10, args=(kbus,))\n",
    "    e.sched(110, 0, 10, args=(kbus,))\n",
    "    print(kbus)\n",
    "    time.sleep(0.1)"
   ]
  },
  {
   "cell_type": "code",
   "execution_count": null,
   "id": "ff4532b1-3342-4e5b-bd39-62d644d3b7b5",
   "metadata": {},
   "outputs": [],
   "source": [
    "e.unsched(110"
   ]
  },
  {
   "cell_type": "code",
   "execution_count": 1,
   "id": "de7196eb-d3c3-4f28-bba4-038d3ae76ef0",
   "metadata": {},
   "outputs": [],
   "source": [
    "from maelzel.core import *"
   ]
  },
  {
   "cell_type": "code",
   "execution_count": 2,
   "id": "6d991f35-b48b-40d8-a49a-2a18b44619a1",
   "metadata": {},
   "outputs": [
    {
     "name": "stderr",
     "output_type": "stream",
     "text": [
      "\n",
      "\n",
      "--Csound version 6.18 (double samples) Sep 23 2022\n",
      "[commit: 87da757b874a18322634eb875c5a356f5c94fc23]\n",
      "\u001b[mlibsndfile-1.0.31\n",
      "\u001b[msr = 44100.0,\u001b[m kr = 689.062,\u001b[m ksmps = 64\n",
      "\u001b[m0dBFS level = 1.0,\u001b[m A4 tuning = 442.0\n",
      "\u001b[maudio buffered in 256 sample-frame blocks\n",
      "\u001b[mreading 1024-byte blks of shorts from adc:system:capture (RAW)\n",
      "writing 512 sample blks of 64-bit floats to dac:system:playback\n",
      "SECTION 1:\n",
      "\u001b[m"
     ]
    }
   ],
   "source": [
    "s = playSession()"
   ]
  },
  {
   "cell_type": "code",
   "execution_count": 3,
   "id": "9b400b32-0495-490b-8586-d3c54bd6b282",
   "metadata": {},
   "outputs": [],
   "source": [
    "foo = defPreset('foo', r'''\n",
    "|ibusL, ibusR|\n",
    "prints \"ibusL: %d, ibusR: %d\\n\", ibusL, ibusR\n",
    "aout1 vco2 kamp, kfreq\n",
    "aout2 vco2 kamp, kfreq+4\n",
    "\n",
    "busout ibusL, aout1\n",
    "busout ibusR, aout2\n",
    "''', routing=False)"
   ]
  },
  {
   "cell_type": "code",
   "execution_count": 4,
   "id": "a9287dc4-7602-47d0-ae07-7860e7950b45",
   "metadata": {},
   "outputs": [
    {
     "name": "stderr",
     "output_type": "stream",
     "text": [
      "busindex\n",
      "\u001b[mbusassign itoken: 0, ikind: 1\n",
      "\u001b[mbusindex\n",
      "\u001b[mbusassign itoken: 1, ikind: 1\n",
      "\u001b[m"
     ]
    },
    {
     "data": {
      "text/html": [
       "Instr <strong style=\"color:MediumSeaGreen\">master</strong><br>\n",
       "<hr style=\"width:38%;text-align:left;margin-left:0\">\n",
       "<span style=\"font-size:90%\"><div class=\"highlight\" style=\"background: #f8f8f8\"><pre style=\"line-height: 125%;\"><span></span><code><span style=\"color: #B00040\">i</span>busL<span style=\"color: #bbbbbb\"> </span><span style=\"color: #666666\">=</span><span style=\"color: #bbbbbb\"> </span><span style=\"color: #19177C\">p5</span><span style=\"color: #bbbbbb\"></span>\n",
       "<span style=\"color: #B00040\">i</span>busR<span style=\"color: #bbbbbb\"> </span><span style=\"color: #666666\">=</span><span style=\"color: #bbbbbb\"> </span><span style=\"color: #19177C\">p6</span><span style=\"color: #bbbbbb\"></span>\n",
       "<span style=\"color: #B00040\">a</span>L<span style=\"color: #bbbbbb\"> </span>busin<span style=\"color: #bbbbbb\"> </span><span style=\"color: #B00040\">i</span>busL<span style=\"color: #bbbbbb\"></span>\n",
       "<span style=\"color: #B00040\">a</span>R<span style=\"color: #bbbbbb\"> </span>busin<span style=\"color: #bbbbbb\"> </span><span style=\"color: #B00040\">i</span>busR<span style=\"color: #bbbbbb\"></span>\n",
       "<span style=\"color: #008000\">outch</span><span style=\"color: #bbbbbb\"> </span><span style=\"color: #666666\">1</span>,<span style=\"color: #bbbbbb\"> </span><span style=\"color: #B00040\">a</span>L,<span style=\"color: #bbbbbb\"> </span><span style=\"color: #666666\">2</span>,<span style=\"color: #bbbbbb\"> </span><span style=\"color: #B00040\">a</span>R<span style=\"color: #bbbbbb\"></span>\n",
       "</code></pre></div>\n",
       "</span>"
      ],
      "text/plain": [
       "Instr(master, ibusL:5=0, ibusR:6=0)"
      ]
     },
     "execution_count": 4,
     "metadata": {},
     "output_type": "execute_result"
    }
   ],
   "source": [
    "busL = s.assignBus()\n",
    "busR = s.assignBus()\n",
    "\n",
    "s.defInstr('master', r'''\n",
    "    |ibusL, ibusR|\n",
    "    aL busin ibusL\n",
    "    aR busin ibusR\n",
    "    outch 1, aL, 2, aR\n",
    "    ''')"
   ]
  },
  {
   "cell_type": "code",
   "execution_count": 5,
   "id": "a790ff94-593c-47c3-b904-87f27ee13200",
   "metadata": {},
   "outputs": [
    {
     "name": "stderr",
     "output_type": "stream",
     "text": [
      "bus 0 (token 0), numrefs: 1\n",
      "\u001b[mbus 1 (token 1), numrefs: 1\n",
      "\u001b[m"
     ]
    }
   ],
   "source": [
    "master = s.sched('master', args=dict(ibusL=busL, ibusR=busR), priority=2)"
   ]
  },
  {
   "cell_type": "code",
   "execution_count": 6,
   "id": "07923c11-5263-4a83-9cfc-baf6765cee26",
   "metadata": {},
   "outputs": [
    {
     "data": {
      "application/vnd.jupyter.widget-view+json": {
       "model_id": "61fe70e6e1544a4c976df393a75e5887",
       "version_major": 2,
       "version_minor": 0
      },
      "text/plain": [
       "Button(description='Stop', style=ButtonStyle())"
      ]
     },
     "metadata": {},
     "output_type": "display_data"
    },
    {
     "data": {
      "application/vnd.jupyter.widget-view+json": {
       "model_id": "d3838ce2bb244bd6bedf37d32f336ec7",
       "version_major": 2,
       "version_minor": 0
      },
      "text/plain": [
       "Output()"
      ]
     },
     "metadata": {},
     "output_type": "display_data"
    },
    {
     "data": {
      "text/html": [
       "<small>SynthGroup - start: 0.033, dur: 10.000, synths: 1</small>\n",
       "<p>instr: <strong style=\"color:MediumSeaGreen\">preset.foo</strong> - <b>1</b> synths</p>\n",
       "<table><thead><tr><th style=\"text-align:left\">p1</th><th style=\"text-align:left\">start</th><th style=\"text-align:left\">dur</th><th style=\"text-align:left\">4</th><th style=\"text-align:left\">5:idataidx_</th><th style=\"text-align:left\">6:inumbps</th><th style=\"text-align:left\">7:ibplen</th><th style=\"text-align:left\">8:igain_</th><th style=\"text-align:left\">9:ichan</th><th style=\"text-align:left\">10:ipos</th><th style=\"text-align:left\">11:ifadein</th><th style=\"text-align:left\">12:ifadeout</th><th style=\"text-align:left\">13:ipchintrp_</th><th style=\"text-align:left\">14:ifadekind_</th><th style=\"text-align:left\">15:ibusL</th><th style=\"text-align:left\">16:ibusR</th><th style=\"text-align:left\">...</th></tr></thead><tbody><tr><td style=\"text-align:left\">501.0002 <b>𝍪</b></td><td style=\"text-align:left\">0.033</td><td style=\"text-align:left\">10.000</td><td style=\"text-align:left\">0</td><td style=\"text-align:left\">17</td><td style=\"text-align:left\">2</td><td style=\"text-align:left\">3</td><td style=\"text-align:left\">0.1</td><td style=\"text-align:left\">1</td><td style=\"text-align:left\">-1</td><td style=\"text-align:left\">0.02</td><td style=\"text-align:left\">0.02</td><td style=\"text-align:left\">0</td><td style=\"text-align:left\">1</td><td style=\"text-align:left\">0</td><td style=\"text-align:left\">...</td></tr></tbody></table>"
      ],
      "text/plain": [
       "SynthGroup(n=1)\n",
       "    Synth(𝍪 preset.foo:501.0002, p4=0 idataidx_:5=17 inumbps:6=2 ibplen:7=3 igain_:8=0.1 ichan:9=1 ipos:10=-1 ifadein:11=0.02 ifadeout:12=0.02 ipchintrp_:13=0 ifadekind_:14=1 ibusL:15=0 ibusR:16=1 ...)"
      ]
     },
     "execution_count": 6,
     "metadata": {},
     "output_type": "execute_result"
    },
    {
     "name": "stderr",
     "output_type": "stream",
     "text": [
      "ibusL: 0, ibusR: 1\n",
      "\u001b[mbus 0 (token 0), numrefs: 2\n",
      "\u001b[mbus 1 (token 1), numrefs: 2\n",
      "\u001b[m"
     ]
    }
   ],
   "source": [
    "Note(60.5, 10).play(instr='foo', gain=0.1, ibusL=busL, ibusR=busR)"
   ]
  },
  {
   "cell_type": "code",
   "execution_count": 8,
   "id": "9247b031-e1fd-4377-aa52-366fad3a18b7",
   "metadata": {},
   "outputs": [
    {
     "name": "stderr",
     "output_type": "stream",
     "text": [
      "release. bus 1 (token 1), numrefs before release 1\n",
      "\u001b[mINIT ERROR in instr 28 (opcode initerror.s) line 544: \u001b[m\n",
      "   Bus pool is full!\n",
      "\u001b[m\n",
      "\u001b[m\tiniterror.s\t\"Bus pool is full!\"\t\n",
      "\t\t   T 27.773 - note deleted.  i28 had 1 init errors\u001b[m\n",
      "\u001b[mrelease. bus 0 (token 0), numrefs before release 1\n",
      "\u001b[mINIT ERROR in instr 28 (opcode initerror.s) line 544: \u001b[m\n",
      "   Bus pool is full!\n",
      "\u001b[m\n",
      "\u001b[m\tiniterror.s\t\"Bus pool is full!\"\t\n",
      "\t\t   T 27.773 - note deleted.  i28 had 1 init errors\u001b[m\n",
      "\u001b[m"
     ]
    }
   ],
   "source": [
    "master.stop()"
   ]
  },
  {
   "cell_type": "code",
   "execution_count": null,
   "id": "56fdfcbb-f9d0-4579-8ef1-114990794943",
   "metadata": {},
   "outputs": [],
   "source": []
  },
  {
   "cell_type": "code",
   "execution_count": 3,
   "id": "68ebdac5-107d-4ad4-90a5-05e9106e6ec3",
   "metadata": {},
   "outputs": [],
   "source": [
    "foo = s.defInstr('foo', r'''\n",
    "    |itime, Sfoo|\n",
    "    ielapsed elapsedtime\n",
    "    prints \"Sfoo: %s, itime: %f, ielapsed: %f, diff: %f\\n\", Sfoo, itime, ielapsed, ielapsed - itime \n",
    "    turnoff\n",
    "''', priority=1)"
   ]
  },
  {
   "cell_type": "code",
   "execution_count": 4,
   "id": "a8aeb2e8-bf51-4766-9f5d-ef989c1a4c9b",
   "metadata": {},
   "outputs": [
    {
     "name": "stderr",
     "output_type": "stream",
     "text": [
      "Sfoo: bar, itime: 3.826939, ielapsed: 3.831293, diff: 0.004354\n",
      "\u001b[m"
     ]
    },
    {
     "data": {
      "application/vnd.jupyter.widget-view+json": {
       "model_id": "d2743c2cca77423fbb0abe249dcb1354",
       "version_major": 2,
       "version_minor": 0
      },
      "text/plain": [
       "Button(description='Stop', style=ButtonStyle())"
      ]
     },
     "metadata": {},
     "output_type": "display_data"
    },
    {
     "data": {
      "application/vnd.jupyter.widget-view+json": {
       "model_id": "e7b25397840847ceb58965073ab69242",
       "version_major": 2,
       "version_minor": 0
      },
      "text/plain": [
       "Output()"
      ]
     },
     "metadata": {},
     "output_type": "display_data"
    },
    {
     "data": {
      "text/html": [
       "<p><span style=\"font-size:12px;\">Synth(■ <strong style=\"color:MediumSeaGreen\">foo</strong>:501.0002, <span style=\"font-size:12px;\"><b>4</b>=<code>0</code> <b>itime</b>:5=<code>3.82694</code> <b>Sfoo</b>:6=<code>bar</code></span>)</span></p>"
      ],
      "text/plain": [
       "Synth(▶ foo:501.0002, p4=0 itime:5=3.82694 Sfoo:6=bar)"
      ]
     },
     "execution_count": 4,
     "metadata": {},
     "output_type": "execute_result"
    },
    {
     "name": "stdout",
     "output_type": "stream",
     "text": [
      "Exiting python, closing all active engines\n",
      "... stopping engine0\n"
     ]
    },
    {
     "name": "stderr",
     "output_type": "stream",
     "text": [
      "end of score.\t\t   overall amps:\u001b[m  0.00000  0.00000  0.00000  0.00000\n",
      "\t   overall samples out of range:\u001b[m        0\u001b[m        0\u001b[m        0\u001b[m        0\u001b[m\n",
      "0 errors in performance\n",
      "\u001b[m327646 1024 sample blks of 64-bit floats written to dac:system:playback\n"
     ]
    }
   ],
   "source": [
    "s.sched(\"foo\", 0, 1, pargs={'Sfoo': 'bar', 'itime': e.elapsedTime()})"
   ]
  },
  {
   "cell_type": "code",
   "execution_count": 7,
   "id": "443b8a6b-44e7-4143-8cdc-016d4d28b3a0",
   "metadata": {},
   "outputs": [
    {
     "data": {
      "text/plain": [
       "0.005804988662131519"
      ]
     },
     "execution_count": 7,
     "metadata": {},
     "output_type": "execute_result"
    }
   ],
   "source": [
    "e.controlLatency()*2"
   ]
  },
  {
   "cell_type": "code",
   "execution_count": 5,
   "id": "9300a34a-1632-472c-8a26-1599074e6729",
   "metadata": {},
   "outputs": [
    {
     "data": {
      "text/plain": [
       "{'cos': 20, 'linear': 21, 'smooth': 22, 'smoother': 23, 'hola': 24}"
      ]
     },
     "execution_count": 5,
     "metadata": {},
     "output_type": "execute_result"
    }
   ],
   "source": [
    "s.engine._strToIndex"
   ]
  },
  {
   "cell_type": "code",
   "execution_count": 2,
   "id": "a2298f94-93a8-4146-99c0-27b5cdaf39f3",
   "metadata": {},
   "outputs": [],
   "source": [
    "test = s.defInstr('test', r'''\n",
    "    |istrid|\n",
    "    S0 = strget(istrid)\n",
    "    prints \"S0: %s\\n\", S0\n",
    "    turnoff\n",
    "''')"
   ]
  },
  {
   "cell_type": "code",
   "execution_count": 3,
   "id": "dd5303ca-8e21-4c89-873a-4857a6658e02",
   "metadata": {},
   "outputs": [],
   "source": [
    "jiji = s.engine.strSet('jiji')"
   ]
  },
  {
   "cell_type": "code",
   "execution_count": 4,
   "id": "01916b33-6cb5-47c7-9c14-7f161429856e",
   "metadata": {},
   "outputs": [
    {
     "name": "stderr",
     "output_type": "stream",
     "text": [
      "S0: jiji\n",
      "\u001b[m--- dealloc 501.000200\n",
      "\u001b[m"
     ]
    },
    {
     "data": {
      "text/html": [
       "<p><span style=\"font-size:12px;\">Synth(■ <strong style=\"color:MediumSeaGreen\">test</strong>:501.0002, <span style=\"font-size:12px;\"><b>4</b>=<code>0</code> <b>istrid</b>:5=<code>24</code></span>)</span></p>"
      ],
      "text/plain": [
       "Synth(■ test:501.0002, p4=0 istrid:5=24)"
      ]
     },
     "execution_count": 4,
     "metadata": {},
     "output_type": "execute_result"
    }
   ],
   "source": [
    "s.sched('test', 0, 1, pargs={'istrid': jiji})"
   ]
  },
  {
   "cell_type": "code",
   "execution_count": 2,
   "id": "22439003-6926-4ad5-bb1c-154c4b142655",
   "metadata": {},
   "outputs": [
    {
     "name": "stderr",
     "output_type": "stream",
     "text": [
      "\n",
      "\n",
      "--Csound version 6.18 (double samples) Aug 23 2022\n",
      "[commit: a691b9fb3a19ff27df8df4cb44b9c6be0d558fbc]\n",
      "\u001b[mlibsndfile-1.0.31\n",
      "\u001b[msr = 44100.0,\u001b[m kr = 689.062,\u001b[m ksmps = 64\n",
      "\u001b[m0dBFS level = 1.0,\u001b[m A4 tuning = 442.0\n",
      "\u001b[maudio buffered in 256 sample-frame blocks\n",
      "\u001b[mreading 1024-byte blks of shorts from adc:system:capture (RAW)\n",
      "writing 512 sample blks of 64-bit floats to dac:system:playback\n",
      "SECTION 1:\n",
      "\u001b[m"
     ]
    }
   ],
   "source": [
    "e = playEngine()\n",
    "s = e.session()"
   ]
  },
  {
   "cell_type": "code",
   "execution_count": 3,
   "id": "1f3c0bf9-0b3e-41b6-a64e-60d90b2b9674",
   "metadata": {},
   "outputs": [],
   "source": [
    "test = s.defInstr('test', r'''\n",
    "    |ichan=0|\n",
    "    prints \"ichan: %d\\n\", ichan\n",
    "    Schan = \"bar\"\n",
    "    ; Schan strget ichan\n",
    "    prints \"Schan: %s\\n\", Schan\n",
    "    a0 oscili 0.1, 1000\n",
    "    ; chnset a0, Schan\n",
    "''')\n"
   ]
  },
  {
   "cell_type": "code",
   "execution_count": 4,
   "id": "7de85b31-1a61-499b-af93-9b322c562168",
   "metadata": {},
   "outputs": [
    {
     "name": "stdout",
     "output_type": "stream",
     "text": [
      "ichan = p5\n",
      "prints \"ichan: %d\\n\", ichan\n",
      "Schan = \"bar\"\n",
      "; Schan strget ichan\n",
      "prints \"Schan: %s\\n\", Schan\n",
      "a0 oscili 0.1, 1000\n",
      "; chnset a0, Schan\n"
     ]
    }
   ],
   "source": [
    "print(test.body)"
   ]
  },
  {
   "cell_type": "code",
   "execution_count": 16,
   "id": "b403462b-8394-4c56-96a4-954082efacd8",
   "metadata": {},
   "outputs": [
    {
     "data": {
      "text/plain": [
       "24"
      ]
     },
     "execution_count": 16,
     "metadata": {},
     "output_type": "execute_result"
    }
   ],
   "source": [
    "ichan = s.engine.strSet('foo')\n",
    "ichan"
   ]
  },
  {
   "cell_type": "code",
   "execution_count": null,
   "id": "21a97a16-0c0b-458c-9fea-0c8736e9803f",
   "metadata": {},
   "outputs": [],
   "source": [
    "s.sched('test', pargs={'ichan': 0})"
   ]
  },
  {
   "cell_type": "code",
   "execution_count": 3,
   "id": "a2257f41-1a33-4d63-9f69-3565765980d7",
   "metadata": {},
   "outputs": [
    {
     "data": {
      "text/plain": [
       "24.0002"
      ]
     },
     "execution_count": 3,
     "metadata": {},
     "output_type": "execute_result"
    },
    {
     "name": "stderr",
     "output_type": "stream",
     "text": [
      "\n",
      "Testaudio: pink noise mode\n",
      "\u001b[mChannel: 1 / 2\n",
      "\u001b[mChannel: 2 / 2\n",
      "\u001b[mChannel: 1 / 2\n",
      "\u001b[mChannel: 2 / 2\n",
      "\u001b[m"
     ]
    }
   ],
   "source": [
    "e.testAudio()"
   ]
  },
  {
   "cell_type": "code",
   "execution_count": 6,
   "id": "c99ea0c3-23bc-4d3f-b451-0129aa747301",
   "metadata": {},
   "outputs": [],
   "source": [
    "bus = e.assignBus()"
   ]
  },
  {
   "cell_type": "code",
   "execution_count": 7,
   "id": "030dee72-5247-4635-a1e7-2aa32742fc80",
   "metadata": {},
   "outputs": [
    {
     "data": {
      "text/plain": [
       "1"
      ]
     },
     "execution_count": 7,
     "metadata": {},
     "output_type": "execute_result"
    }
   ],
   "source": [
    "bus"
   ]
  },
  {
   "cell_type": "code",
   "execution_count": 2,
   "id": "204da9fe-c2e3-4a25-b34e-292edb157f68",
   "metadata": {},
   "outputs": [
    {
     "name": "stderr",
     "output_type": "stream",
     "text": [
      "\n",
      "\n",
      "--Csound version 6.18 (double samples) Aug 23 2022\n",
      "[commit: a691b9fb3a19ff27df8df4cb44b9c6be0d558fbc]\n",
      "\u001b[mlibsndfile-1.0.31\n",
      "\u001b[msr = 44100.0,\u001b[m kr = 689.062,\u001b[m ksmps = 64\n",
      "\u001b[m0dBFS level = 1.0,\u001b[m A4 tuning = 442.0\n",
      "\u001b[maudio buffered in 256 sample-frame blocks\n",
      "\u001b[mreading 1024-byte blks of shorts from adc:system:capture (RAW)\n",
      "writing 512 sample blks of 64-bit floats to dac:system:playback\n",
      "SECTION 1:\n",
      "\u001b[m"
     ]
    },
    {
     "data": {
      "text/plain": [
       "0"
      ]
     },
     "execution_count": 2,
     "metadata": {},
     "output_type": "execute_result"
    }
   ],
   "source": [
    "e = playEngine()\n",
    "bus = e.assignBus()\n",
    "bus"
   ]
  },
  {
   "cell_type": "code",
   "execution_count": 3,
   "id": "23b54b1d-53d8-410f-b2a7-74db48053a06",
   "metadata": {},
   "outputs": [
    {
     "data": {
      "text/html": [
       "Preset: <b>foo</b> <br>\n",
       "<code>  <span style=\"color:#BBBBBB;font-size:92%\">(hasRouting=False)</span></code>\n",
       "<span style=\"font-size:92%\"><div class=\"highlight\" style=\"background: #f8f8f8\"><pre style=\"line-height: 125%;\"><span></span><code><span style=\"color: #bbbbbb\">  </span><span style=\"color: #666666\">|</span><span style=\"color: #B00040\">i</span>bus<span style=\"color: #666666\">=0.0|</span><span style=\"color: #bbbbbb\"></span>\n",
       "</code></pre></div>\n",
       "</span>\n",
       "<span style=\"font-size:92%\"><div class=\"highlight\" style=\"background: #f8f8f8\"><pre style=\"line-height: 125%;\"><span></span><code><span style=\"color: #bbbbbb\">  </span><span style=\"color: #B00040\">a</span>1<span style=\"color: #bbbbbb\"> </span><span style=\"color: #666666\">=</span><span style=\"color: #bbbbbb\"> </span><span style=\"color: #008000\">oscili</span>(<span style=\"color: #B00040\">k</span>amp<span style=\"color: #666666\">*0.5</span>,<span style=\"color: #bbbbbb\"> </span><span style=\"color: #B00040\">k</span>freq)<span style=\"color: #bbbbbb\"></span>\n",
       "<span style=\"color: #bbbbbb\">  </span><span style=\"color: #B00040\">a</span>2<span style=\"color: #bbbbbb\"> </span><span style=\"color: #666666\">=</span><span style=\"color: #bbbbbb\"> </span><span style=\"color: #008000\">oscili</span>(<span style=\"color: #B00040\">k</span>amp<span style=\"color: #666666\">*0.5</span>,<span style=\"color: #bbbbbb\"> </span><span style=\"color: #B00040\">k</span>freq<span style=\"color: #666666\">+12</span>)<span style=\"color: #bbbbbb\"></span>\n",
       "<span style=\"color: #bbbbbb\">  </span><span style=\"color: #B00040\">a</span>out<span style=\"color: #bbbbbb\"> </span><span style=\"color: #666666\">=</span><span style=\"color: #bbbbbb\"> </span><span style=\"color: #B00040\">a</span>1<span style=\"color: #666666\">+</span><span style=\"color: #B00040\">a</span>2<span style=\"color: #bbbbbb\"></span>\n",
       "<span style=\"color: #bbbbbb\">  </span><span style=\"color: #008000; font-weight: bold\">if</span><span style=\"color: #bbbbbb\"> </span><span style=\"color: #B00040\">i</span>bus<span style=\"color: #bbbbbb\"> </span><span style=\"color: #666666\">&gt;=</span><span style=\"color: #bbbbbb\"> </span><span style=\"color: #666666\">0</span><span style=\"color: #bbbbbb\"> </span><span style=\"color: #008000; font-weight: bold\">then</span><span style=\"color: #bbbbbb\"></span>\n",
       "<span style=\"color: #bbbbbb\">      </span>busout<span style=\"color: #bbbbbb\"> </span><span style=\"color: #B00040\">i</span>bus,<span style=\"color: #bbbbbb\"> </span><span style=\"color: #B00040\">a</span>out<span style=\"color: #bbbbbb\"></span>\n",
       "<span style=\"color: #bbbbbb\">  </span><span style=\"color: #008000; font-weight: bold\">else</span><span style=\"color: #bbbbbb\"></span>\n",
       "<span style=\"color: #bbbbbb\">      </span><span style=\"color: #008000\">outch</span><span style=\"color: #bbbbbb\"> </span><span style=\"color: #666666\">1</span>,<span style=\"color: #bbbbbb\"> </span><span style=\"color: #B00040\">a</span>out<span style=\"color: #bbbbbb\"></span>\n",
       "<span style=\"color: #bbbbbb\">  </span><span style=\"color: #008000; font-weight: bold\">endif</span><span style=\"color: #bbbbbb\"></span>\n",
       "</code></pre></div>\n",
       "</span>"
      ],
      "text/plain": [
       "Preset: foo  \n",
       "    hasRouting=False\n",
       "  |ibus=0.0|\n",
       "  a1 = oscili(kamp*0.5, kfreq)\n",
       "  a2 = oscili(kamp*0.5, kfreq+12)\n",
       "  aout = a1+a2\n",
       "  if ibus >= 0 then\n",
       "      busout ibus, aout\n",
       "  else\n",
       "      outch 1, aout\n",
       "  endif"
      ]
     },
     "execution_count": 3,
     "metadata": {},
     "output_type": "execute_result"
    }
   ],
   "source": [
    "foo = defPreset('foo', audiogen=r'''\n",
    "    |ibus=0|\n",
    "    a1 = oscili(kamp*0.5, kfreq)\n",
    "    a2 = oscili(kamp*0.5, kfreq+12)\n",
    "    aout1 = a1+a2\n",
    "''', out=r'''\n",
    "    replaceout ichan, aout1\n",
    "    busout ibus, aout1\n",
    "    busout \n",
    "''')\n",
    "foo"
   ]
  },
  {
   "cell_type": "code",
   "execution_count": 13,
   "id": "ec0e77e2-123c-4c54-a969-c8d7e849f389",
   "metadata": {},
   "outputs": [
    {
     "name": "stdout",
     "output_type": "stream",
     "text": [
      "\n",
      ";5          6       7      8     9     0    1      2      3          4        \n",
      "idataidx_,inumbps,ibplen,igain_,ichan_,ipos,ifade0,ifade1,ipchintrp_,ifadekind_ passign 5\n",
      "idatalen_ = inumbps * ibplen\n",
      "iArgs[] passign idataidx_, idataidx_ + idatalen_\n",
      "ilastidx = idatalen_ - 1\n",
      "iTimes[]     slicearray iArgs, 0, ilastidx, ibplen\n",
      "iPitches[]   slicearray iArgs, 1, ilastidx, ibplen\n",
      "iAmps[]      slicearray iArgs, 2, ilastidx, ibplen\n",
      "\n",
      "k_time timeinsts\n",
      "\n",
      "if ipchintrp_ == 0 then      \n",
      "    ; linear midi interpolation    \n",
      "    kpitch, kamp bpf k_time, iTimes, iPitches, iAmps\n",
      "    kfreq mtof kpitch\n",
      "elseif (ipchintrp_ == 1) then  ; cos midi interpolation\n",
      "    kidx bisect k_time, iTimes\n",
      "    kpitch interp1d kidx, iPitches, \"cos\"\n",
      "    kamp interp1d kidx, iAmps, \"cos\"\n",
      "    kfreq mtof kpitch\n",
      "elseif (ipchintrp_ == 2) then  ; linear freq interpolation\n",
      "    iFreqs[] mtof iPitches\n",
      "    kfreq, kamp bpf k_time, iTimes, iFreqs, iAmps\n",
      "    kpitch ftom kfreq\n",
      "elseif (ipchintrp_ == 3) then  ; cos freq interpolation\n",
      "    kidx bisect k_time, iTimes\n",
      "    kfreq interp1d kidx, iFreqs, \"cos\"\n",
      "    kamp interp1d kidx, iAmps, \"cos\"\n",
      "    kpitch ftom kfreq\n",
      "endif\n",
      "\n",
      "ifade0 = max:i(ifade0, 1/kr)\n",
      "ifade1 = max:i(ifade1, 1/kr)\n",
      "\n",
      "if (ifadekind_ == 0) then\n",
      "    aenv_ linsegr 0, ifade0, igain_, ifade1, 0\n",
      "elseif (ifadekind_ == 1) then\n",
      "    aenv_ cosseg 0, ifade0, igain_, p3-ifade0-ifade1, igain_, ifade1, 0\n",
      "    aenv_ *= linenr:a(1, 0, ifade1, 0.01)\n",
      "elseif (ifadekind_ == 2) then\n",
      "    aenv_ transeg 0, ifade0*.5, 2, igain_*0.5, ifade0*.5, -2, igain_, p3-ifade0-ifade1, igain_, 1, ifade1*.5, 2, igain_*0.5, ifade1*.5, -2, 0 \t\n",
      "    aenv_ *= linenr:a(1, 0, ifade1, 0.01)\n",
      "endif\n",
      "\n",
      "a1 = oscili(kamp*0.5, kfreq)\n",
      "a2 = oscili(kamp*0.5, kfreq+12)\n",
      "aout = a1+a2\n",
      "if ibus >= 0 then\n",
      "    busout ibus, aout\n",
      "else\n",
      "    outch 1, aout\n",
      "endif\n",
      "\n",
      "\n",
      "\n",
      "\n",
      "\n",
      "\n",
      "    \n"
     ]
    }
   ],
   "source": [
    "print(foo.body)"
   ]
  },
  {
   "cell_type": "code",
   "execution_count": 10,
   "id": "4f01ccbb-2791-472c-9eb1-4fd5afec3b4c",
   "metadata": {},
   "outputs": [
    {
     "data": {
      "application/vnd.jupyter.widget-view+json": {
       "model_id": "303ad631c55c4ff7aded58f7a063065a",
       "version_major": 2,
       "version_minor": 0
      },
      "text/plain": [
       "Button(description='Stop', style=ButtonStyle())"
      ]
     },
     "metadata": {},
     "output_type": "display_data"
    },
    {
     "data": {
      "application/vnd.jupyter.widget-view+json": {
       "model_id": "bf0dd49760614406804fa99a3f05f6ea",
       "version_major": 2,
       "version_minor": 0
      },
      "text/plain": [
       "Output()"
      ]
     },
     "metadata": {},
     "output_type": "display_data"
    },
    {
     "data": {
      "text/html": [
       "<small>SynthGroup - start: 0.148, dur: 1000.000, synths: 1</small>\n",
       "<p>instr: <strong style=\"color:MediumSeaGreen\">preset.foo</strong> - <b>1</b> synths</p>\n",
       "<table><thead><tr><th style=\"text-align:left\">p1</th><th style=\"text-align:left\">start</th><th style=\"text-align:left\">dur</th><th style=\"text-align:left\">4</th><th style=\"text-align:left\">5:idataidx_</th><th style=\"text-align:left\">6:inumbps</th><th style=\"text-align:left\">7:ibplen</th><th style=\"text-align:left\">8:igain_</th><th style=\"text-align:left\">9:ichan_</th><th style=\"text-align:left\">10:ipos</th><th style=\"text-align:left\">11:ifade0</th><th style=\"text-align:left\">12:ifade1</th><th style=\"text-align:left\">13:ipchintrp_</th><th style=\"text-align:left\">14:ifadekind_</th><th style=\"text-align:left\">15:ibus</th><th style=\"text-align:left\">16</th><th style=\"text-align:left\">...</th></tr></thead><tbody><tr><td style=\"text-align:left\">501.0006 <b>𝍪</b></td><td style=\"text-align:left\">0.148</td><td style=\"text-align:left\">1000.000</td><td style=\"text-align:left\">0</td><td style=\"text-align:left\">16</td><td style=\"text-align:left\">2</td><td style=\"text-align:left\">3</td><td style=\"text-align:left\">1</td><td style=\"text-align:left\">1</td><td style=\"text-align:left\">-1</td><td style=\"text-align:left\">0.05</td><td style=\"text-align:left\">0.05</td><td style=\"text-align:left\">0</td><td style=\"text-align:left\">1</td><td style=\"text-align:left\">0</td><td style=\"text-align:left\">...</td></tr></tbody></table>"
      ],
      "text/plain": [
       "SynthGroup(n=1)\n",
       "    Synth(𝍪 preset.foo:501.0006, p4=0 idataidx_:5=16 inumbps:6=2 ibplen:7=3 igain_:8=1 ichan_:9=1 ipos:10=-1 ifade0:11=0.05 ifade1:12=0.05 ipchintrp_:13=0 ifadekind_:14=1 ibus:15=0 p16=0 ...)"
      ]
     },
     "execution_count": 10,
     "metadata": {},
     "output_type": "execute_result"
    }
   ],
   "source": [
    "Note(60, 1000).play(instr='foo', fade=0.05, params={'ibus': bus})"
   ]
  },
  {
   "cell_type": "code",
   "execution_count": 7,
   "id": "bd12e2d0-4792-40cf-8d1f-aaf315674707",
   "metadata": {},
   "outputs": [
    {
     "data": {
      "text/html": [
       "Instr <strong style=\"color:MediumSeaGreen\">master</strong><br>\n",
       "<div class=\"highlight\" style=\"background: #f8f8f8\"><pre style=\"line-height: 125%;\"><span></span><code><span style=\"color: #B00040\">i</span>bus<span style=\"color: #bbbbbb\"> </span><span style=\"color: #666666\">=</span><span style=\"color: #bbbbbb\"> </span><span style=\"color: #19177C\">p5</span><span style=\"color: #bbbbbb\"></span>\n",
       "<span style=\"color: #B00040\">a</span>0<span style=\"color: #bbbbbb\"> </span><span style=\"color: #666666\">=</span><span style=\"color: #bbbbbb\"> </span>busin(<span style=\"color: #B00040\">i</span>bus)<span style=\"color: #bbbbbb\"></span>\n",
       "<span style=\"color: #008000\">outch</span><span style=\"color: #bbbbbb\"> </span><span style=\"color: #666666\">1</span>,<span style=\"color: #bbbbbb\"> </span><span style=\"color: #B00040\">a</span>0<span style=\"color: #bbbbbb\"></span>\n",
       "</code></pre></div>\n"
      ],
      "text/plain": [
       "Instr(master, ibus:5=0)"
      ]
     },
     "execution_count": 7,
     "metadata": {},
     "output_type": "execute_result"
    }
   ],
   "source": [
    "s = e.session()\n",
    "s.defInstr('master', r'''\n",
    "    |ibus|\n",
    "    a0 = busin(ibus)\n",
    "    outch 1, a0\n",
    "''')"
   ]
  },
  {
   "cell_type": "code",
   "execution_count": 8,
   "id": "9c7bee2c-38d5-45c7-aac9-f07e9be84199",
   "metadata": {},
   "outputs": [
    {
     "data": {
      "text/html": [
       "<p><span style=\"font-size:12px;\">Synth(𝍪 <strong style=\"color:MediumSeaGreen\">master</strong>:1001.0002, <span style=\"font-size:12px;\"><b>4</b>=<code>0</code> <b>ibus</b>:5=<code>0</code></span>)</span></p>"
      ],
      "text/plain": [
       "Synth(𝍪 master:1001.0002, p4=0 ibus:5=0)"
      ]
     },
     "execution_count": 8,
     "metadata": {},
     "output_type": "execute_result"
    }
   ],
   "source": [
    "s.sched('master', priority=2)"
   ]
  },
  {
   "cell_type": "code",
   "execution_count": 12,
   "id": "47532ed0-507a-4696-b88f-24a8553ee357",
   "metadata": {},
   "outputs": [
    {
     "data": {
      "application/vnd.jupyter.widget-view+json": {
       "model_id": "82627839e55743479f5e912e5bb9c914",
       "version_major": 2,
       "version_minor": 0
      },
      "text/plain": [
       "Button(description='Stop', style=ButtonStyle())"
      ]
     },
     "metadata": {},
     "output_type": "display_data"
    },
    {
     "data": {
      "application/vnd.jupyter.widget-view+json": {
       "model_id": "4cb64899eb7440988144f4456a5a0930",
       "version_major": 2,
       "version_minor": 0
      },
      "text/plain": [
       "Output()"
      ]
     },
     "metadata": {},
     "output_type": "display_data"
    },
    {
     "data": {
      "text/html": [
       "<p><span style=\"font-size:12px;\">Synth(▶ <strong style=\"color:MediumSeaGreen\">post</strong>:2001.0002, <span style=\"font-size:12px;\"><b>4</b>=<code>0</code> <b>ibus</b>:5=<code>0</code></span>)</span></p>"
      ],
      "text/plain": [
       "Synth(▶ post:2001.0002, p4=0 ibus:5=0)"
      ]
     },
     "execution_count": 12,
     "metadata": {},
     "output_type": "execute_result"
    }
   ],
   "source": [
    "post"
   ]
  },
  {
   "cell_type": "code",
   "execution_count": 15,
   "id": "03c6560c-6bdd-4400-8ce9-174b618362f3",
   "metadata": {},
   "outputs": [
    {
     "data": {
      "application/vnd.jupyter.widget-view+json": {
       "model_id": "865510b79db14cc7b56c151c739d0060",
       "version_major": 2,
       "version_minor": 0
      },
      "text/plain": [
       "Button(description='Stop', style=ButtonStyle())"
      ]
     },
     "metadata": {},
     "output_type": "display_data"
    },
    {
     "data": {
      "application/vnd.jupyter.widget-view+json": {
       "model_id": "299f1da1eaec4981808af0f3d0ab9a43",
       "version_major": 2,
       "version_minor": 0
      },
      "text/plain": [
       "Output()"
      ]
     },
     "metadata": {},
     "output_type": "display_data"
    },
    {
     "data": {
      "text/html": [
       "<small>SynthGroup - start: 0.154, dur: 10.000, synths: 1</small>\n",
       "<p>instr: <strong style=\"color:MediumSeaGreen\">preset.foo</strong> - <b>1</b> synths</p>\n",
       "<table><thead><tr><th style=\"text-align:left\">p1</th><th style=\"text-align:left\">start</th><th style=\"text-align:left\">dur</th><th style=\"text-align:left\">4</th><th style=\"text-align:left\">5:idataidx_</th><th style=\"text-align:left\">6:inumbps</th><th style=\"text-align:left\">7:ibplen</th><th style=\"text-align:left\">8:igain_</th><th style=\"text-align:left\">9:ichan_</th><th style=\"text-align:left\">10:ipos</th><th style=\"text-align:left\">11:ifade0</th><th style=\"text-align:left\">12:ifade1</th><th style=\"text-align:left\">13:ipchintrp_</th><th style=\"text-align:left\">14:ifadekind_</th><th style=\"text-align:left\">15:ibus</th><th style=\"text-align:left\">16</th><th style=\"text-align:left\">...</th></tr></thead><tbody><tr><td style=\"text-align:left\">1001.0002 <b>𝍪</b></td><td style=\"text-align:left\">0.154</td><td style=\"text-align:left\">10.000</td><td style=\"text-align:left\">0</td><td style=\"text-align:left\">16</td><td style=\"text-align:left\">2</td><td style=\"text-align:left\">3</td><td style=\"text-align:left\">1</td><td style=\"text-align:left\">1</td><td style=\"text-align:left\">-1</td><td style=\"text-align:left\">0.02</td><td style=\"text-align:left\">0.02</td><td style=\"text-align:left\">0</td><td style=\"text-align:left\">1</td><td style=\"text-align:left\">0</td><td style=\"text-align:left\">...</td></tr></tbody></table>"
      ],
      "text/plain": [
       "SynthGroup(n=1)\n",
       "    Synth(𝍪 preset.foo:1001.0002, p4=0 idataidx_:5=16 inumbps:6=2 ibplen:7=3 igain_:8=1 ichan_:9=1 ipos:10=-1 ifade0:11=0.02 ifade1:12=0.02 ipchintrp_:13=0 ifadekind_:14=1 ibus:15=0 p16=0 ...)"
      ]
     },
     "execution_count": 15,
     "metadata": {},
     "output_type": "execute_result"
    },
    {
     "name": "stderr",
     "output_type": "stream",
     "text": [
      "Csound tidy up: Segmentation fault\n"
     ]
    }
   ],
   "source": [
    "Note(72, dur=10).play(instr='foo', params=dict(ibus=busnum))\n"
   ]
  },
  {
   "cell_type": "code",
   "execution_count": null,
   "id": "8484f098-00ee-45ad-89bd-3376a427837a",
   "metadata": {},
   "outputs": [],
   "source": []
  }
 ],
 "metadata": {
  "kernelspec": {
   "display_name": "Python 3 (ipykernel)",
   "language": "python",
   "name": "python3"
  },
  "language_info": {
   "codemirror_mode": {
    "name": "ipython",
    "version": 3
   },
   "file_extension": ".py",
   "mimetype": "text/x-python",
   "name": "python",
   "nbconvert_exporter": "python",
   "pygments_lexer": "ipython3",
   "version": "3.9.14"
  }
 },
 "nbformat": 4,
 "nbformat_minor": 5
}
