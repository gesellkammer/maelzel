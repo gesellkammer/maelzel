{
 "cells": [
  {
   "cell_type": "code",
   "execution_count": 1,
   "id": "de7196eb-d3c3-4f28-bba4-038d3ae76ef0",
   "metadata": {},
   "outputs": [],
   "source": [
    "from maelzel.core import *"
   ]
  },
  {
   "cell_type": "code",
   "execution_count": 2,
   "id": "7630f0f6-38ac-4b83-82c4-d45490246db7",
   "metadata": {},
   "outputs": [
    {
     "data": {
      "text/html": [
       "Preset: <b>accordion</b>\n",
       "<br>\n",
       "<code>  <span style=\"color:#BBBBBB;font-size:92%\">(hasRouting=True, properties={'sfpath': '/home/em/Lib/snd/sf2/Accordion.sf2'})\n",
       "</span></code>\n",
       "init: <div class=\"highlight\" style=\"background: #f8f8f8\"><pre style=\"line-height: 125%;\"><span></span><code><span style=\"color: #bbbbbb\">  </span><span style=\"color: #B00040\">i</span>SfTable_<span style=\"color: #bbbbbb\"> </span>sfloadonce<span style=\"color: #bbbbbb\"> </span><span style=\"color: #BA2121\">&quot;/home/em/Lib/snd/sf2/Accordion.sf2&quot;</span><span style=\"color: #bbbbbb\"></span>\n",
       "</code></pre></div>\n",
       "\n",
       "audiogen:\n",
       "<span style=\"font-size:92%\"><div class=\"highlight\" style=\"background: #f8f8f8\"><pre style=\"line-height: 125%;\"><span></span><code><span style=\"color: #bbbbbb\">  </span><span style=\"color: #B00040\">i</span>presetidx<span style=\"color: #bbbbbb\"> </span>sfPresetIndex<span style=\"color: #bbbbbb\"> </span><span style=\"color: #BA2121\">&quot;/home/em/Lib/snd/sf2/Accordion.sf2&quot;</span>,<span style=\"color: #bbbbbb\"> </span><span style=\"color: #666666\">0</span>,<span style=\"color: #bbbbbb\"> </span><span style=\"color: #666666\">0</span><span style=\"color: #bbbbbb\"></span>\n",
       "<span style=\"color: #bbbbbb\">  </span><span style=\"color: #B00040\">i</span>note0_<span style=\"color: #bbbbbb\"> </span><span style=\"color: #666666\">=</span><span style=\"color: #bbbbbb\"> </span><span style=\"color: #008000\">round</span>(<span style=\"color: #008000\">p</span>(<span style=\"color: #B00040\">i</span>dataidx_<span style=\"color: #bbbbbb\"> </span><span style=\"color: #666666\">+</span><span style=\"color: #bbbbbb\"> </span><span style=\"color: #666666\">1</span>))<span style=\"color: #bbbbbb\"></span>\n",
       "<span style=\"color: #bbbbbb\">  </span><span style=\"color: #B00040\">i</span>vel_<span style=\"color: #bbbbbb\"> </span><span style=\"color: #666666\">=</span><span style=\"color: #bbbbbb\"> </span><span style=\"color: #008000\">p</span>(<span style=\"color: #B00040\">i</span>dataidx_<span style=\"color: #bbbbbb\"> </span><span style=\"color: #666666\">+</span><span style=\"color: #bbbbbb\"> </span><span style=\"color: #666666\">2</span>)<span style=\"color: #bbbbbb\"> </span><span style=\"color: #666666\">*</span><span style=\"color: #bbbbbb\"> </span><span style=\"color: #666666\">127</span><span style=\"color: #bbbbbb\"></span>\n",
       "<span style=\"color: #bbbbbb\">  </span><span style=\"color: #B00040\">a</span>out1,<span style=\"color: #bbbbbb\"> </span><span style=\"color: #B00040\">a</span>out2<span style=\"color: #bbbbbb\"> </span><span style=\"color: #008000\">sfplay</span><span style=\"color: #bbbbbb\"> </span><span style=\"color: #B00040\">i</span>vel_,<span style=\"color: #bbbbbb\"> </span><span style=\"color: #B00040\">i</span>note0_,<span style=\"color: #bbbbbb\"> </span><span style=\"color: #B00040\">k</span>amp<span style=\"color: #666666\">/16384</span>,<span style=\"color: #bbbbbb\"> </span><span style=\"color: #008000\">mtof</span>:<span style=\"color: #B00040\">k</span>(<span style=\"color: #B00040\">k</span>pitch),<span style=\"color: #bbbbbb\"> </span><span style=\"color: #B00040\">i</span>presetidx,<span style=\"color: #bbbbbb\"> </span><span style=\"color: #666666\">1</span><span style=\"color: #bbbbbb\"></span>\n",
       "</code></pre></div>\n",
       "</span>\n",
       "epilogue:\n",
       "<div class=\"highlight\" style=\"background: #f8f8f8\"><pre style=\"line-height: 125%;\"><span></span><code><span style=\"color: #bbbbbb\">  </span>turnoffWhenSilent<span style=\"color: #bbbbbb\"> </span><span style=\"color: #B00040\">a</span>out1<span style=\"color: #bbbbbb\"></span>\n",
       "</code></pre></div>\n",
       "\n",
       "<hr>\n",
       "Preset: <b>piano</b>\n",
       "<br>\n",
       "<code>  <span style=\"color:#BBBBBB;font-size:92%\">(hasRouting=True)\n",
       "</span></code>\n",
       "init: <div class=\"highlight\" style=\"background: #f8f8f8\"><pre style=\"line-height: 125%;\"><span></span><code><span style=\"color: #bbbbbb\">  </span><span style=\"color: #B00040\">i</span>SfTable_<span style=\"color: #bbbbbb\"> </span>sfloadonce<span style=\"color: #bbbbbb\"> </span><span style=\"color: #BA2121\">&quot;/home/em/Lib/snd/sf2/Piano--grand-piano-YDP.sf2&quot;</span><span style=\"color: #bbbbbb\"></span>\n",
       "</code></pre></div>\n",
       "\n",
       "audiogen:\n",
       "<span style=\"font-size:92%\"><div class=\"highlight\" style=\"background: #f8f8f8\"><pre style=\"line-height: 125%;\"><span></span><code><span style=\"color: #bbbbbb\">  </span><span style=\"color: #B00040\">i</span>presetidx<span style=\"color: #bbbbbb\"> </span>sfPresetIndex<span style=\"color: #bbbbbb\"> </span><span style=\"color: #BA2121\">&quot;/home/em/Lib/snd/sf2/Piano--grand-piano-YDP.sf2&quot;</span>,<span style=\"color: #bbbbbb\"> </span><span style=\"color: #666666\">0</span>,<span style=\"color: #bbbbbb\"> </span><span style=\"color: #666666\">0</span><span style=\"color: #bbbbbb\"></span>\n",
       "<span style=\"color: #bbbbbb\">  </span><span style=\"color: #B00040\">i</span>note0_<span style=\"color: #bbbbbb\"> </span><span style=\"color: #666666\">=</span><span style=\"color: #bbbbbb\"> </span><span style=\"color: #008000\">round</span>(<span style=\"color: #008000\">p</span>(<span style=\"color: #B00040\">i</span>dataidx_<span style=\"color: #bbbbbb\"> </span><span style=\"color: #666666\">+</span><span style=\"color: #bbbbbb\"> </span><span style=\"color: #666666\">1</span>))<span style=\"color: #bbbbbb\"></span>\n",
       "<span style=\"color: #bbbbbb\">  </span><span style=\"color: #B00040\">i</span>vel_<span style=\"color: #bbbbbb\"> </span><span style=\"color: #666666\">=</span><span style=\"color: #bbbbbb\"> </span><span style=\"color: #008000\">p</span>(<span style=\"color: #B00040\">i</span>dataidx_<span style=\"color: #bbbbbb\"> </span><span style=\"color: #666666\">+</span><span style=\"color: #bbbbbb\"> </span><span style=\"color: #666666\">2</span>)<span style=\"color: #bbbbbb\"> </span><span style=\"color: #666666\">*</span><span style=\"color: #bbbbbb\"> </span><span style=\"color: #666666\">127</span><span style=\"color: #bbbbbb\"></span>\n",
       "<span style=\"color: #bbbbbb\">  </span><span style=\"color: #B00040\">a</span>out1,<span style=\"color: #bbbbbb\"> </span><span style=\"color: #B00040\">a</span>out2<span style=\"color: #bbbbbb\"> </span><span style=\"color: #008000\">sfplay</span><span style=\"color: #bbbbbb\"> </span><span style=\"color: #B00040\">i</span>vel_,<span style=\"color: #bbbbbb\"> </span><span style=\"color: #B00040\">i</span>note0_,<span style=\"color: #bbbbbb\"> </span><span style=\"color: #B00040\">k</span>amp<span style=\"color: #666666\">/16384</span>,<span style=\"color: #bbbbbb\"> </span><span style=\"color: #008000\">mtof</span>:<span style=\"color: #B00040\">k</span>(<span style=\"color: #B00040\">k</span>pitch),<span style=\"color: #bbbbbb\"> </span><span style=\"color: #B00040\">i</span>presetidx,<span style=\"color: #bbbbbb\"> </span><span style=\"color: #666666\">1</span><span style=\"color: #bbbbbb\"></span>\n",
       "</code></pre></div>\n",
       "</span>\n",
       "epilogue:\n",
       "<div class=\"highlight\" style=\"background: #f8f8f8\"><pre style=\"line-height: 125%;\"><span></span><code><span style=\"color: #bbbbbb\">  </span>turnoffWhenSilent<span style=\"color: #bbbbbb\"> </span><span style=\"color: #B00040\">a</span>out1<span style=\"color: #bbbbbb\"></span>\n",
       "</code></pre></div>\n",
       "\n",
       "<hr>\n",
       "Preset: <b>sing</b>\n",
       "<br>\n",
       "<code>  <span style=\"color:#BBBBBB;font-size:92%\">(hasRouting=True)\n",
       "</span></code>\n",
       "init: <div class=\"highlight\" style=\"background: #f8f8f8\"><pre style=\"line-height: 125%;\"><span></span><code><span style=\"color: #bbbbbb\">  </span><span style=\"color: #B00040\">gi</span>__formantFreqs__[]<span style=\"color: #bbbbbb\"> </span><span style=\"color: #008000\">fillarray</span><span style=\"color: #bbbbbb\">   </span>\\<span style=\"color: #bbbbbb\"></span>\n",
       "<span style=\"color: #bbbbbb\">      </span><span style=\"color: #666666\">668</span>,<span style=\"color: #bbbbbb\"> </span><span style=\"color: #666666\">1191</span>,<span style=\"color: #bbbbbb\"> </span><span style=\"color: #666666\">2428</span>,<span style=\"color: #bbbbbb\"> </span><span style=\"color: #666666\">3321</span>,<span style=\"color: #bbbbbb\"> </span><span style=\"color: #666666\">4600</span>,<span style=\"color: #bbbbbb\"> </span><span style=\"border: 1px solid #FF0000\">\\</span><span style=\"color: #bbbbbb\">  </span><span style=\"color: #3D7B7B; font-style: italic\">; A</span><span style=\"color: #bbbbbb\"></span>\n",
       "<span style=\"color: #bbbbbb\">      </span><span style=\"color: #666666\">327</span>,<span style=\"color: #bbbbbb\"> </span><span style=\"color: #666666\">2157</span>,<span style=\"color: #bbbbbb\"> </span><span style=\"color: #666666\">2754</span>,<span style=\"color: #bbbbbb\"> </span><span style=\"color: #666666\">3630</span>,<span style=\"color: #bbbbbb\"> </span><span style=\"color: #666666\">4600</span>,<span style=\"color: #bbbbbb\"> </span><span style=\"border: 1px solid #FF0000\">\\</span><span style=\"color: #bbbbbb\">  </span><span style=\"color: #3D7B7B; font-style: italic\">; E </span><span style=\"color: #bbbbbb\"></span>\n",
       "<span style=\"color: #bbbbbb\">      </span><span style=\"color: #666666\">208</span>,<span style=\"color: #bbbbbb\"> </span><span style=\"color: #666666\">2152</span>,<span style=\"color: #bbbbbb\"> </span><span style=\"color: #666666\">3128</span>,<span style=\"color: #bbbbbb\"> </span><span style=\"color: #666666\">3425</span>,<span style=\"color: #bbbbbb\"> </span><span style=\"color: #666666\">4200</span>,<span style=\"color: #bbbbbb\"> </span><span style=\"border: 1px solid #FF0000\">\\</span><span style=\"color: #bbbbbb\">  </span><span style=\"color: #3D7B7B; font-style: italic\">; I</span><span style=\"color: #bbbbbb\"></span>\n",
       "<span style=\"color: #bbbbbb\">      </span><span style=\"color: #666666\">335</span>,<span style=\"color: #bbbbbb\"> </span><span style=\"color: #666666\">628</span>,<span style=\"color: #bbbbbb\"> </span><span style=\"color: #666666\">2689</span>,<span style=\"color: #bbbbbb\"> </span><span style=\"color: #666666\">3515</span>,<span style=\"color: #bbbbbb\"> </span><span style=\"color: #666666\">4200</span>,<span style=\"color: #bbbbbb\">  </span><span style=\"border: 1px solid #FF0000\">\\</span><span style=\"color: #bbbbbb\">  </span><span style=\"color: #3D7B7B; font-style: italic\">; O</span><span style=\"color: #bbbbbb\"></span>\n",
       "<span style=\"color: #bbbbbb\">      </span><span style=\"color: #666666\">254</span>,<span style=\"color: #bbbbbb\"> </span><span style=\"color: #666666\">796</span>,<span style=\"color: #bbbbbb\"> </span><span style=\"color: #666666\">2515</span>,<span style=\"color: #bbbbbb\"> </span><span style=\"color: #666666\">3274</span>,<span style=\"color: #bbbbbb\"> </span><span style=\"color: #666666\">4160</span><span style=\"color: #bbbbbb\">      </span><span style=\"color: #3D7B7B; font-style: italic\">; U</span><span style=\"color: #bbbbbb\"></span>\n",
       "\n",
       "<span style=\"color: #bbbbbb\">  </span><span style=\"color: #B00040\">gi</span>__formantDbs__[]<span style=\"color: #bbbbbb\"> </span><span style=\"color: #008000\">fillarray</span><span style=\"color: #bbbbbb\">   </span>\\<span style=\"color: #bbbbbb\"></span>\n",
       "<span style=\"color: #bbbbbb\">      </span><span style=\"color: #666666\">28</span>,<span style=\"color: #bbbbbb\"> </span><span style=\"color: #666666\">28</span>,<span style=\"color: #bbbbbb\"> </span><span style=\"color: #666666\">22</span>,<span style=\"color: #bbbbbb\"> </span><span style=\"color: #666666\">20</span>,<span style=\"color: #bbbbbb\"> </span><span style=\"color: #666666\">20</span>,<span style=\"color: #bbbbbb\">        </span>\\<span style=\"color: #bbbbbb\"></span>\n",
       "<span style=\"color: #bbbbbb\">      </span><span style=\"color: #666666\">15</span>,<span style=\"color: #bbbbbb\"> </span><span style=\"color: #666666\">25</span>,<span style=\"color: #bbbbbb\"> </span><span style=\"color: #666666\">24</span>,<span style=\"color: #bbbbbb\"> </span><span style=\"color: #666666\">20</span>,<span style=\"color: #bbbbbb\"> </span><span style=\"color: #666666\">23</span>,<span style=\"color: #bbbbbb\">        </span>\\<span style=\"color: #bbbbbb\"></span>\n",
       "<span style=\"color: #bbbbbb\">      </span><span style=\"color: #666666\">10</span>,<span style=\"color: #bbbbbb\"> </span><span style=\"color: #666666\">20</span>,<span style=\"color: #bbbbbb\"> </span><span style=\"color: #666666\">27</span>,<span style=\"color: #bbbbbb\"> </span><span style=\"color: #666666\">26</span>,<span style=\"color: #bbbbbb\"> </span><span style=\"color: #666666\">20</span>,<span style=\"color: #bbbbbb\">        </span>\\<span style=\"color: #bbbbbb\"></span>\n",
       "<span style=\"color: #bbbbbb\">      </span><span style=\"color: #666666\">15</span>,<span style=\"color: #bbbbbb\"> </span><span style=\"color: #666666\">18</span>,<span style=\"color: #bbbbbb\"> </span><span style=\"color: #666666\">5</span>,<span style=\"color: #bbbbbb\">  </span><span style=\"color: #666666\">7</span>,<span style=\"color: #bbbbbb\">  </span><span style=\"color: #666666\">12</span>,<span style=\"color: #bbbbbb\">        </span>\\<span style=\"color: #bbbbbb\"></span>\n",
       "<span style=\"color: #bbbbbb\">      </span><span style=\"color: #666666\">12</span>,<span style=\"color: #bbbbbb\"> </span><span style=\"color: #666666\">10</span>,<span style=\"color: #bbbbbb\"> </span><span style=\"color: #666666\">6</span>,<span style=\"color: #bbbbbb\">  </span><span style=\"color: #666666\">5</span>,<span style=\"color: #bbbbbb\">  </span><span style=\"color: #666666\">12</span><span style=\"color: #bbbbbb\"></span>\n",
       "\n",
       "<span style=\"color: #bbbbbb\">  </span><span style=\"color: #B00040\">gi</span>__formantBws__[]<span style=\"color: #bbbbbb\"> </span><span style=\"color: #008000\">fillarray</span><span style=\"color: #bbbbbb\">   </span>\\<span style=\"color: #bbbbbb\"></span>\n",
       "<span style=\"color: #bbbbbb\">      </span><span style=\"color: #666666\">80</span>,<span style=\"color: #bbbbbb\"> </span><span style=\"color: #666666\">90</span>,<span style=\"color: #bbbbbb\"> </span><span style=\"color: #666666\">120</span>,<span style=\"color: #bbbbbb\"> </span><span style=\"color: #666666\">130</span>,<span style=\"color: #bbbbbb\"> </span><span style=\"color: #666666\">140</span>,<span style=\"color: #bbbbbb\">     </span>\\<span style=\"color: #bbbbbb\"></span>\n",
       "<span style=\"color: #bbbbbb\">      </span><span style=\"color: #666666\">60</span>,<span style=\"color: #bbbbbb\"> </span><span style=\"color: #666666\">100</span>,<span style=\"color: #bbbbbb\"> </span><span style=\"color: #666666\">120</span>,<span style=\"color: #bbbbbb\"> </span><span style=\"color: #666666\">150</span>,<span style=\"color: #bbbbbb\"> </span><span style=\"color: #666666\">200</span>,<span style=\"color: #bbbbbb\">    </span>\\<span style=\"color: #bbbbbb\"></span>\n",
       "<span style=\"color: #bbbbbb\">      </span><span style=\"color: #666666\">60</span>,<span style=\"color: #bbbbbb\"> </span><span style=\"color: #666666\">90</span>,<span style=\"color: #bbbbbb\"> </span><span style=\"color: #666666\">100</span>,<span style=\"color: #bbbbbb\"> </span><span style=\"color: #666666\">120</span>,<span style=\"color: #bbbbbb\"> </span><span style=\"color: #666666\">120</span>,<span style=\"color: #bbbbbb\">     </span>\\<span style=\"color: #bbbbbb\"></span>\n",
       "<span style=\"color: #bbbbbb\">      </span><span style=\"color: #666666\">40</span>,<span style=\"color: #bbbbbb\"> </span><span style=\"color: #666666\">80</span>,<span style=\"color: #bbbbbb\"> </span><span style=\"color: #666666\">100</span>,<span style=\"color: #bbbbbb\"> </span><span style=\"color: #666666\">120</span>,<span style=\"color: #bbbbbb\"> </span><span style=\"color: #666666\">120</span>,<span style=\"color: #bbbbbb\">     </span>\\<span style=\"color: #bbbbbb\"></span>\n",
       "<span style=\"color: #bbbbbb\">      </span><span style=\"color: #666666\">50</span>,<span style=\"color: #bbbbbb\"> </span><span style=\"color: #666666\">60</span>,<span style=\"color: #bbbbbb\"> </span><span style=\"color: #666666\">170</span>,<span style=\"color: #bbbbbb\"> </span><span style=\"color: #666666\">180</span>,<span style=\"color: #bbbbbb\"> </span><span style=\"color: #666666\">200</span><span style=\"color: #bbbbbb\"></span>\n",
       "\n",
       "<span style=\"color: #bbbbbb\">  </span><span style=\"color: #B00040\">gi</span>__formantAmps__[]<span style=\"color: #bbbbbb\"> </span><span style=\"color: #008000\">maparray</span><span style=\"color: #bbbbbb\"> </span><span style=\"color: #B00040\">gi</span>__formantDbs__,<span style=\"color: #bbbbbb\"> </span><span style=\"color: #BA2121\">&quot;ampdb&quot;</span><span style=\"color: #bbbbbb\"></span>\n",
       "<span style=\"color: #bbbbbb\">  </span><span style=\"color: #008000\">reshapearray</span><span style=\"color: #bbbbbb\"> </span><span style=\"color: #B00040\">gi</span>__formantFreqs__,<span style=\"color: #bbbbbb\"> </span><span style=\"color: #666666\">5</span>,<span style=\"color: #bbbbbb\"> </span><span style=\"color: #666666\">5</span><span style=\"color: #bbbbbb\"></span>\n",
       "<span style=\"color: #bbbbbb\">  </span><span style=\"color: #008000\">reshapearray</span><span style=\"color: #bbbbbb\"> </span><span style=\"color: #B00040\">gi</span>__formantAmps__,<span style=\"color: #bbbbbb\"> </span><span style=\"color: #666666\">5</span>,<span style=\"color: #bbbbbb\"> </span><span style=\"color: #666666\">5</span><span style=\"color: #bbbbbb\"></span>\n",
       "<span style=\"color: #bbbbbb\">  </span><span style=\"color: #008000\">reshapearray</span><span style=\"color: #bbbbbb\"> </span><span style=\"color: #B00040\">gi</span>__formantBws__,<span style=\"color: #bbbbbb\"> </span><span style=\"color: #666666\">5</span>,<span style=\"color: #bbbbbb\"> </span><span style=\"color: #666666\">5</span><span style=\"color: #bbbbbb\"></span>\n",
       "</code></pre></div>\n",
       "\n",
       "audiogen:\n",
       "<span style=\"font-size:92%\"><div class=\"highlight\" style=\"background: #f8f8f8\"><pre style=\"line-height: 125%;\"><span></span><code><span style=\"color: #bbbbbb\">  </span><span style=\"color: #B00040\">k</span>x<span style=\"color: #bbbbbb\"> </span><span style=\"color: #666666\">*=</span><span style=\"color: #bbbbbb\"> </span><span style=\"color: #008000\">random</span>:<span style=\"color: #B00040\">i</span>(<span style=\"color: #666666\">0.95</span>,<span style=\"color: #bbbbbb\"> </span><span style=\"color: #666666\">1.05</span>)<span style=\"color: #bbbbbb\"></span>\n",
       "<span style=\"color: #bbbbbb\">  </span><span style=\"color: #B00040\">k</span>y<span style=\"color: #bbbbbb\"> </span><span style=\"color: #666666\">*=</span><span style=\"color: #bbbbbb\"> </span><span style=\"color: #008000\">randomi</span>:<span style=\"color: #B00040\">k</span>(<span style=\"color: #666666\">0.96</span>,<span style=\"color: #bbbbbb\"> </span><span style=\"color: #666666\">1.04</span>,<span style=\"color: #bbbbbb\"> </span><span style=\"color: #666666\">1</span>)<span style=\"color: #bbbbbb\"></span>\n",
       "<span style=\"color: #bbbbbb\">  </span><span style=\"color: #B00040\">k</span>vibfreq<span style=\"color: #bbbbbb\"> </span><span style=\"color: #666666\">=</span><span style=\"color: #bbbbbb\"> </span><span style=\"color: #008000\">linsegr</span>:<span style=\"color: #B00040\">k</span>(<span style=\"color: #666666\">0</span>,<span style=\"color: #bbbbbb\"> </span><span style=\"color: #666666\">0.1</span>,<span style=\"color: #bbbbbb\"> </span><span style=\"color: #666666\">0</span>,<span style=\"color: #bbbbbb\"> </span><span style=\"color: #666666\">0.4</span>,<span style=\"color: #bbbbbb\"> </span><span style=\"color: #666666\">4.7</span>,<span style=\"color: #bbbbbb\"> </span><span style=\"color: #666666\">0.2</span>,<span style=\"color: #bbbbbb\"> </span><span style=\"color: #666666\">1</span>)<span style=\"color: #bbbbbb\"> </span><span style=\"color: #666666\">*</span><span style=\"color: #bbbbbb\"> </span><span style=\"color: #008000\">randomi</span>:<span style=\"color: #B00040\">k</span>(<span style=\"color: #666666\">0.9</span>,<span style=\"color: #bbbbbb\"> </span><span style=\"color: #666666\">1.1</span>,<span style=\"color: #bbbbbb\"> </span><span style=\"color: #666666\">3</span>)<span style=\"color: #bbbbbb\"></span>\n",
       "<span style=\"color: #bbbbbb\">  </span><span style=\"color: #B00040\">k</span>vibsemi<span style=\"color: #bbbbbb\"> </span><span style=\"color: #666666\">=</span><span style=\"color: #bbbbbb\"> </span><span style=\"color: #008000\">linsegr</span>:<span style=\"color: #B00040\">k</span>(<span style=\"color: #666666\">0</span>,<span style=\"color: #bbbbbb\"> </span><span style=\"color: #666666\">0.2</span>,<span style=\"color: #bbbbbb\"> </span><span style=\"color: #666666\">0</span>,<span style=\"color: #bbbbbb\"> </span><span style=\"color: #666666\">1.2</span>,<span style=\"color: #bbbbbb\"> </span><span style=\"color: #666666\">0.4</span>,<span style=\"color: #bbbbbb\"> </span><span style=\"color: #666666\">0.2</span>,<span style=\"color: #bbbbbb\"> </span><span style=\"color: #666666\">0</span>)<span style=\"color: #bbbbbb\"> </span><span style=\"color: #666666\">*</span><span style=\"color: #bbbbbb\"> </span><span style=\"color: #008000\">randomi</span>:<span style=\"color: #B00040\">k</span>(<span style=\"color: #666666\">0.85</span>,<span style=\"color: #bbbbbb\"> </span><span style=\"color: #666666\">1.15</span>,<span style=\"color: #bbbbbb\"> </span><span style=\"color: #666666\">8</span>)<span style=\"color: #bbbbbb\"></span>\n",
       "<span style=\"color: #bbbbbb\">  </span><span style=\"color: #B00040\">k</span>vib<span style=\"color: #bbbbbb\"> </span><span style=\"color: #666666\">=</span><span style=\"color: #bbbbbb\"> </span><span style=\"color: #008000\">oscil</span>:<span style=\"color: #B00040\">k</span>(<span style=\"color: #B00040\">k</span>vibsemi<span style=\"color: #666666\">/2</span>,<span style=\"color: #bbbbbb\"> </span><span style=\"color: #B00040\">k</span>vibfreq)<span style=\"color: #bbbbbb\"> </span><span style=\"color: #666666\">-</span><span style=\"color: #bbbbbb\"> </span><span style=\"color: #B00040\">k</span>vibsemi<span style=\"color: #666666\">/2</span><span style=\"color: #bbbbbb\"></span>\n",
       "<span style=\"color: #bbbbbb\">  </span><span style=\"color: #B00040\">k</span>pitch<span style=\"color: #bbbbbb\"> </span><span style=\"color: #666666\">=</span><span style=\"color: #bbbbbb\"> </span><span style=\"color: #008000\">lag</span>:<span style=\"color: #B00040\">k</span>(<span style=\"color: #B00040\">k</span>pitch,<span style=\"color: #bbbbbb\"> </span><span style=\"color: #666666\">0.2</span>)<span style=\"color: #bbbbbb\"> </span><span style=\"color: #666666\">+</span><span style=\"color: #bbbbbb\"> </span><span style=\"color: #B00040\">k</span>vib<span style=\"color: #666666\">*</span><span style=\"color: #B00040\">k</span>vibamount<span style=\"color: #bbbbbb\"></span>\n",
       "<span style=\"color: #bbbbbb\">  </span><span style=\"color: #B00040\">a</span>source<span style=\"color: #bbbbbb\"> </span><span style=\"color: #666666\">=</span><span style=\"color: #bbbbbb\"> </span><span style=\"color: #008000\">butterlp</span>:<span style=\"color: #B00040\">a</span>(<span style=\"color: #008000\">vco2</span>:<span style=\"color: #B00040\">a</span>(<span style=\"color: #B00040\">k</span>amp,<span style=\"color: #bbbbbb\"> </span><span style=\"color: #008000\">mtof</span>(<span style=\"color: #B00040\">k</span>pitch)),<span style=\"color: #bbbbbb\"> </span><span style=\"color: #666666\">4000</span>)<span style=\"color: #bbbbbb\"></span>\n",
       "<span style=\"color: #bbbbbb\">  </span><span style=\"color: #3D7B7B; font-style: italic\">;                   x    y    weight</span><span style=\"color: #bbbbbb\"></span>\n",
       "<span style=\"color: #bbbbbb\">  </span><span style=\"color: #B00040\">k</span>coords[]<span style=\"color: #bbbbbb\"> </span><span style=\"color: #008000\">fillarray</span><span style=\"color: #bbbbbb\"> </span><span style=\"color: #666666\">0</span>,<span style=\"color: #bbbbbb\">   </span><span style=\"color: #666666\">0</span>,<span style=\"color: #bbbbbb\">   </span><span style=\"color: #666666\">1</span>,<span style=\"color: #bbbbbb\">      </span><span style=\"border: 1px solid #FF0000\">\\</span><span style=\"color: #bbbbbb\">  </span><span style=\"color: #3D7B7B; font-style: italic\">; A</span><span style=\"color: #bbbbbb\"></span>\n",
       "<span style=\"color: #bbbbbb\">                      </span><span style=\"color: #666666\">0.5</span>,<span style=\"color: #bbbbbb\"> </span><span style=\"color: #666666\">0.5</span>,<span style=\"color: #bbbbbb\"> </span><span style=\"color: #666666\">0.3</span>,<span style=\"color: #bbbbbb\">    </span><span style=\"border: 1px solid #FF0000\">\\</span><span style=\"color: #bbbbbb\">  </span><span style=\"color: #3D7B7B; font-style: italic\">; E</span><span style=\"color: #bbbbbb\"></span>\n",
       "<span style=\"color: #bbbbbb\">                      </span><span style=\"color: #666666\">1</span>,<span style=\"color: #bbbbbb\">   </span><span style=\"color: #666666\">0</span>,<span style=\"color: #bbbbbb\">   </span><span style=\"color: #666666\">1</span>,<span style=\"color: #bbbbbb\">      </span><span style=\"border: 1px solid #FF0000\">\\</span><span style=\"color: #bbbbbb\">  </span><span style=\"color: #3D7B7B; font-style: italic\">; I</span><span style=\"color: #bbbbbb\"></span>\n",
       "<span style=\"color: #bbbbbb\">                      </span><span style=\"color: #666666\">0</span>,<span style=\"color: #bbbbbb\">   </span><span style=\"color: #666666\">1</span>,<span style=\"color: #bbbbbb\">   </span><span style=\"color: #666666\">1</span>,<span style=\"color: #bbbbbb\">      </span><span style=\"border: 1px solid #FF0000\">\\</span><span style=\"color: #bbbbbb\">  </span><span style=\"color: #3D7B7B; font-style: italic\">; O</span><span style=\"color: #bbbbbb\"></span>\n",
       "<span style=\"color: #bbbbbb\">                      </span><span style=\"color: #666666\">1</span>,<span style=\"color: #bbbbbb\">   </span><span style=\"color: #666666\">1</span>,<span style=\"color: #bbbbbb\">   </span><span style=\"color: #666666\">1</span><span style=\"color: #bbbbbb\">          </span><span style=\"color: #3D7B7B; font-style: italic\">; U</span><span style=\"color: #bbbbbb\"></span>\n",
       "\n",
       "<span style=\"color: #bbbbbb\">  </span><span style=\"color: #B00040\">k</span>weights[]<span style=\"color: #bbbbbb\"> </span>presetinterp<span style=\"color: #bbbbbb\"> </span><span style=\"color: #B00040\">k</span>x,<span style=\"color: #bbbbbb\"> </span><span style=\"color: #B00040\">k</span>y,<span style=\"color: #bbbbbb\"> </span><span style=\"color: #B00040\">k</span>coords,<span style=\"color: #bbbbbb\"> </span><span style=\"color: #666666\">0.2</span><span style=\"color: #bbbbbb\"></span>\n",
       "<span style=\"color: #bbbbbb\">  </span><span style=\"color: #B00040\">k</span>formantFreqs[]<span style=\"color: #bbbbbb\"> </span><span style=\"color: #B00040\">w</span>eightedsum<span style=\"color: #bbbbbb\"> </span><span style=\"color: #B00040\">gi</span>__formantFreqs__,<span style=\"color: #bbbbbb\"> </span><span style=\"color: #B00040\">k</span>weights<span style=\"color: #bbbbbb\"></span>\n",
       "<span style=\"color: #bbbbbb\">  </span><span style=\"color: #B00040\">k</span>formantBws[]<span style=\"color: #bbbbbb\">   </span><span style=\"color: #B00040\">w</span>eightedsum<span style=\"color: #bbbbbb\"> </span><span style=\"color: #B00040\">gi</span>__formantBws__,<span style=\"color: #bbbbbb\"> </span><span style=\"color: #B00040\">k</span>weights<span style=\"color: #bbbbbb\"></span>\n",
       "<span style=\"color: #bbbbbb\">  </span><span style=\"color: #B00040\">k</span>formantAmps[]<span style=\"color: #bbbbbb\">  </span><span style=\"color: #B00040\">w</span>eightedsum<span style=\"color: #bbbbbb\"> </span><span style=\"color: #B00040\">gi</span>__formantAmps__,<span style=\"color: #bbbbbb\"> </span><span style=\"color: #B00040\">k</span>weights<span style=\"color: #bbbbbb\"></span>\n",
       "<span style=\"color: #bbbbbb\">  </span><span style=\"color: #B00040\">k</span>formantFreqs<span style=\"color: #bbbbbb\"> </span>poly<span style=\"color: #bbbbbb\"> </span><span style=\"color: #666666\">5</span>,<span style=\"color: #bbbbbb\"> </span><span style=\"color: #BA2121\">&quot;lag&quot;</span>,<span style=\"color: #bbbbbb\"> </span><span style=\"color: #B00040\">k</span>formantFreqs,<span style=\"color: #bbbbbb\"> </span><span style=\"color: #666666\">0.2</span><span style=\"color: #bbbbbb\"></span>\n",
       "<span style=\"color: #bbbbbb\">  </span><span style=\"color: #B00040\">k</span>formantAmps<span style=\"color: #bbbbbb\">  </span>poly<span style=\"color: #bbbbbb\"> </span><span style=\"color: #666666\">5</span>,<span style=\"color: #bbbbbb\"> </span><span style=\"color: #BA2121\">&quot;lag&quot;</span>,<span style=\"color: #bbbbbb\"> </span><span style=\"color: #B00040\">k</span>formantAmps,<span style=\"color: #bbbbbb\"> </span><span style=\"color: #666666\">0.2</span><span style=\"color: #bbbbbb\"></span>\n",
       "<span style=\"color: #bbbbbb\">  </span><span style=\"color: #B00040\">a</span>formants[]<span style=\"color: #bbbbbb\"> </span>poly<span style=\"color: #bbbbbb\"> </span><span style=\"color: #666666\">5</span>,<span style=\"color: #bbbbbb\"> </span><span style=\"color: #BA2121\">&quot;resonx&quot;</span>,<span style=\"color: #bbbbbb\"> </span><span style=\"color: #B00040\">a</span>source,<span style=\"color: #bbbbbb\"> </span><span style=\"color: #B00040\">k</span>formantFreqs,<span style=\"color: #bbbbbb\"> </span><span style=\"color: #B00040\">k</span>formantBws,<span style=\"color: #bbbbbb\"> </span><span style=\"color: #666666\">2</span>,<span style=\"color: #bbbbbb\"> </span><span style=\"color: #666666\">1</span><span style=\"color: #bbbbbb\"></span>\n",
       "<span style=\"color: #bbbbbb\">  </span><span style=\"color: #B00040\">a</span>formants<span style=\"color: #bbbbbb\"> </span><span style=\"color: #666666\">*=</span><span style=\"color: #bbbbbb\"> </span><span style=\"color: #B00040\">k</span>formantAmps<span style=\"color: #bbbbbb\"></span>\n",
       "<span style=\"color: #bbbbbb\">  </span><span style=\"color: #B00040\">a</span>out1<span style=\"color: #bbbbbb\"> </span><span style=\"color: #666666\">=</span><span style=\"color: #bbbbbb\"> </span><span style=\"color: #008000\">sumarray</span>(<span style=\"color: #B00040\">a</span>formants)<span style=\"color: #bbbbbb\"> </span><span style=\"color: #666666\">*</span><span style=\"color: #bbbbbb\"> </span><span style=\"color: #666666\">0.1</span><span style=\"color: #bbbbbb\"></span>\n",
       "</code></pre></div>\n",
       "</span>\n",
       "<hr>\n",
       "Preset: <b>_piano</b> - <span style=\"color:#909090\"><i>Default piano sound</i></span>\n",
       "<br>\n",
       "<code>  <span style=\"color:#BBBBBB;font-size:92%\">(hasRouting=True, properties={'sfpath': PosixPath('/home/em/dev/python/maelzel/data/sf2/SalC5Light2.sf2')})\n",
       "</span></code>\n",
       "init: <div class=\"highlight\" style=\"background: #f8f8f8\"><pre style=\"line-height: 125%;\"><span></span><code><span style=\"color: #bbbbbb\">  </span><span style=\"color: #B00040\">i</span>SfTable_<span style=\"color: #bbbbbb\"> </span>sfloadonce<span style=\"color: #bbbbbb\"> </span><span style=\"color: #BA2121\">&quot;/home/em/dev/python/maelzel/data/sf2/SalC5Light2.sf2&quot;</span><span style=\"color: #bbbbbb\"></span>\n",
       "</code></pre></div>\n",
       "\n",
       "audiogen:\n",
       "<span style=\"font-size:92%\"><div class=\"highlight\" style=\"background: #f8f8f8\"><pre style=\"line-height: 125%;\"><span></span><code><span style=\"color: #bbbbbb\">  </span><span style=\"color: #B00040\">i</span>presetidx<span style=\"color: #bbbbbb\"> </span>sfPresetIndex<span style=\"color: #bbbbbb\"> </span><span style=\"color: #BA2121\">&quot;/home/em/dev/python/maelzel/data/sf2/SalC5Light2.sf2&quot;</span>,<span style=\"color: #bbbbbb\"> </span><span style=\"color: #666666\">0</span>,<span style=\"color: #bbbbbb\"> </span><span style=\"color: #666666\">0</span><span style=\"color: #bbbbbb\"></span>\n",
       "<span style=\"color: #bbbbbb\">  </span><span style=\"color: #B00040\">i</span>note0_<span style=\"color: #bbbbbb\"> </span><span style=\"color: #666666\">=</span><span style=\"color: #bbbbbb\"> </span><span style=\"color: #008000\">round</span>(<span style=\"color: #008000\">p</span>(<span style=\"color: #B00040\">i</span>dataidx_<span style=\"color: #bbbbbb\"> </span><span style=\"color: #666666\">+</span><span style=\"color: #bbbbbb\"> </span><span style=\"color: #666666\">1</span>))<span style=\"color: #bbbbbb\"></span>\n",
       "<span style=\"color: #bbbbbb\">  </span><span style=\"color: #B00040\">i</span>vel_<span style=\"color: #bbbbbb\"> </span><span style=\"color: #666666\">=</span><span style=\"color: #bbbbbb\"> </span><span style=\"color: #008000\">p</span>(<span style=\"color: #B00040\">i</span>dataidx_<span style=\"color: #bbbbbb\"> </span><span style=\"color: #666666\">+</span><span style=\"color: #bbbbbb\"> </span><span style=\"color: #666666\">2</span>)<span style=\"color: #bbbbbb\"> </span><span style=\"color: #666666\">*</span><span style=\"color: #bbbbbb\"> </span><span style=\"color: #666666\">127</span><span style=\"color: #bbbbbb\"></span>\n",
       "<span style=\"color: #bbbbbb\">  </span><span style=\"color: #B00040\">a</span>out1,<span style=\"color: #bbbbbb\"> </span><span style=\"color: #B00040\">a</span>out2<span style=\"color: #bbbbbb\"> </span><span style=\"color: #008000\">sfplay</span><span style=\"color: #bbbbbb\"> </span><span style=\"color: #B00040\">i</span>vel_,<span style=\"color: #bbbbbb\"> </span><span style=\"color: #B00040\">i</span>note0_,<span style=\"color: #bbbbbb\"> </span><span style=\"color: #B00040\">k</span>amp<span style=\"color: #666666\">/16384</span>,<span style=\"color: #bbbbbb\"> </span><span style=\"color: #008000\">mtof</span>:<span style=\"color: #B00040\">k</span>(<span style=\"color: #B00040\">k</span>pitch),<span style=\"color: #bbbbbb\"> </span><span style=\"color: #B00040\">i</span>presetidx,<span style=\"color: #bbbbbb\"> </span><span style=\"color: #666666\">1</span><span style=\"color: #bbbbbb\"></span>\n",
       "</code></pre></div>\n",
       "</span>\n",
       "epilogue:\n",
       "<div class=\"highlight\" style=\"background: #f8f8f8\"><pre style=\"line-height: 125%;\"><span></span><code><span style=\"color: #bbbbbb\">  </span>turnoffWhenSilent<span style=\"color: #bbbbbb\"> </span><span style=\"color: #B00040\">a</span>out1<span style=\"color: #bbbbbb\"></span>\n",
       "</code></pre></div>\n",
       "\n",
       "<hr>\n",
       "Preset: <b>gm-clarinet</b> - <span style=\"color:#909090\"><i>General MIDI clarinet</i></span>\n",
       "<br>\n",
       "<code>  <span style=\"color:#BBBBBB;font-size:92%\">(hasRouting=True, properties={'sfpath': '/usr/share/sounds/sf2/FluidR3_GM.sf2'})\n",
       "</span></code>\n",
       "init: <div class=\"highlight\" style=\"background: #f8f8f8\"><pre style=\"line-height: 125%;\"><span></span><code><span style=\"color: #bbbbbb\">  </span><span style=\"color: #B00040\">i</span>SfTable_<span style=\"color: #bbbbbb\"> </span>sfloadonce<span style=\"color: #bbbbbb\"> </span><span style=\"color: #BA2121\">&quot;/usr/share/sounds/sf2/FluidR3_GM.sf2&quot;</span><span style=\"color: #bbbbbb\"></span>\n",
       "</code></pre></div>\n",
       "\n",
       "audiogen:\n",
       "<span style=\"font-size:92%\"><div class=\"highlight\" style=\"background: #f8f8f8\"><pre style=\"line-height: 125%;\"><span></span><code><span style=\"color: #bbbbbb\">  </span><span style=\"color: #B00040\">i</span>presetidx<span style=\"color: #bbbbbb\"> </span>sfPresetIndex<span style=\"color: #bbbbbb\"> </span><span style=\"color: #BA2121\">&quot;/usr/share/sounds/sf2/FluidR3_GM.sf2&quot;</span>,<span style=\"color: #bbbbbb\"> </span><span style=\"color: #666666\">0</span>,<span style=\"color: #bbbbbb\"> </span><span style=\"color: #666666\">71</span><span style=\"color: #bbbbbb\"></span>\n",
       "<span style=\"color: #bbbbbb\">  </span><span style=\"color: #B00040\">i</span>note0_<span style=\"color: #bbbbbb\"> </span><span style=\"color: #666666\">=</span><span style=\"color: #bbbbbb\"> </span><span style=\"color: #008000\">round</span>(<span style=\"color: #008000\">p</span>(<span style=\"color: #B00040\">i</span>dataidx_<span style=\"color: #bbbbbb\"> </span><span style=\"color: #666666\">+</span><span style=\"color: #bbbbbb\"> </span><span style=\"color: #666666\">1</span>))<span style=\"color: #bbbbbb\"></span>\n",
       "<span style=\"color: #bbbbbb\">  </span><span style=\"color: #B00040\">i</span>vel_<span style=\"color: #bbbbbb\"> </span><span style=\"color: #666666\">=</span><span style=\"color: #bbbbbb\"> </span><span style=\"color: #008000\">p</span>(<span style=\"color: #B00040\">i</span>dataidx_<span style=\"color: #bbbbbb\"> </span><span style=\"color: #666666\">+</span><span style=\"color: #bbbbbb\"> </span><span style=\"color: #666666\">2</span>)<span style=\"color: #bbbbbb\"> </span><span style=\"color: #666666\">*</span><span style=\"color: #bbbbbb\"> </span><span style=\"color: #666666\">127</span><span style=\"color: #bbbbbb\"></span>\n",
       "<span style=\"color: #bbbbbb\">  </span><span style=\"color: #B00040\">a</span>out1,<span style=\"color: #bbbbbb\"> </span><span style=\"color: #B00040\">a</span>out2<span style=\"color: #bbbbbb\"> </span><span style=\"color: #008000\">sfplay</span><span style=\"color: #bbbbbb\"> </span><span style=\"color: #B00040\">i</span>vel_,<span style=\"color: #bbbbbb\"> </span><span style=\"color: #B00040\">i</span>note0_,<span style=\"color: #bbbbbb\"> </span><span style=\"color: #B00040\">k</span>amp<span style=\"color: #666666\">/16384</span>,<span style=\"color: #bbbbbb\"> </span><span style=\"color: #008000\">mtof</span>:<span style=\"color: #B00040\">k</span>(<span style=\"color: #B00040\">k</span>pitch),<span style=\"color: #bbbbbb\"> </span><span style=\"color: #B00040\">i</span>presetidx,<span style=\"color: #bbbbbb\"> </span><span style=\"color: #666666\">1</span><span style=\"color: #bbbbbb\"></span>\n",
       "</code></pre></div>\n",
       "</span>\n",
       "epilogue:\n",
       "<div class=\"highlight\" style=\"background: #f8f8f8\"><pre style=\"line-height: 125%;\"><span></span><code><span style=\"color: #bbbbbb\">  </span>turnoffWhenSilent<span style=\"color: #bbbbbb\"> </span><span style=\"color: #B00040\">a</span>out1<span style=\"color: #bbbbbb\"></span>\n",
       "</code></pre></div>\n",
       "\n",
       "<hr>\n",
       "Preset: <b>gm-flute</b> - <span style=\"color:#909090\"><i>General MIDI flute</i></span>\n",
       "<br>\n",
       "<code>  <span style=\"color:#BBBBBB;font-size:92%\">(hasRouting=True, properties={'sfpath': '/usr/share/sounds/sf2/FluidR3_GM.sf2'})\n",
       "</span></code>\n",
       "init: <div class=\"highlight\" style=\"background: #f8f8f8\"><pre style=\"line-height: 125%;\"><span></span><code><span style=\"color: #bbbbbb\">  </span><span style=\"color: #B00040\">i</span>SfTable_<span style=\"color: #bbbbbb\"> </span>sfloadonce<span style=\"color: #bbbbbb\"> </span><span style=\"color: #BA2121\">&quot;/usr/share/sounds/sf2/FluidR3_GM.sf2&quot;</span><span style=\"color: #bbbbbb\"></span>\n",
       "</code></pre></div>\n",
       "\n",
       "audiogen:\n",
       "<span style=\"font-size:92%\"><div class=\"highlight\" style=\"background: #f8f8f8\"><pre style=\"line-height: 125%;\"><span></span><code><span style=\"color: #bbbbbb\">  </span><span style=\"color: #B00040\">i</span>presetidx<span style=\"color: #bbbbbb\"> </span>sfPresetIndex<span style=\"color: #bbbbbb\"> </span><span style=\"color: #BA2121\">&quot;/usr/share/sounds/sf2/FluidR3_GM.sf2&quot;</span>,<span style=\"color: #bbbbbb\"> </span><span style=\"color: #666666\">0</span>,<span style=\"color: #bbbbbb\"> </span><span style=\"color: #666666\">73</span><span style=\"color: #bbbbbb\"></span>\n",
       "<span style=\"color: #bbbbbb\">  </span><span style=\"color: #B00040\">i</span>note0_<span style=\"color: #bbbbbb\"> </span><span style=\"color: #666666\">=</span><span style=\"color: #bbbbbb\"> </span><span style=\"color: #008000\">round</span>(<span style=\"color: #008000\">p</span>(<span style=\"color: #B00040\">i</span>dataidx_<span style=\"color: #bbbbbb\"> </span><span style=\"color: #666666\">+</span><span style=\"color: #bbbbbb\"> </span><span style=\"color: #666666\">1</span>))<span style=\"color: #bbbbbb\"></span>\n",
       "<span style=\"color: #bbbbbb\">  </span><span style=\"color: #B00040\">i</span>vel_<span style=\"color: #bbbbbb\"> </span><span style=\"color: #666666\">=</span><span style=\"color: #bbbbbb\"> </span><span style=\"color: #008000\">p</span>(<span style=\"color: #B00040\">i</span>dataidx_<span style=\"color: #bbbbbb\"> </span><span style=\"color: #666666\">+</span><span style=\"color: #bbbbbb\"> </span><span style=\"color: #666666\">2</span>)<span style=\"color: #bbbbbb\"> </span><span style=\"color: #666666\">*</span><span style=\"color: #bbbbbb\"> </span><span style=\"color: #666666\">127</span><span style=\"color: #bbbbbb\"></span>\n",
       "<span style=\"color: #bbbbbb\">  </span><span style=\"color: #B00040\">a</span>out1,<span style=\"color: #bbbbbb\"> </span><span style=\"color: #B00040\">a</span>out2<span style=\"color: #bbbbbb\"> </span><span style=\"color: #008000\">sfplay</span><span style=\"color: #bbbbbb\"> </span><span style=\"color: #B00040\">i</span>vel_,<span style=\"color: #bbbbbb\"> </span><span style=\"color: #B00040\">i</span>note0_,<span style=\"color: #bbbbbb\"> </span><span style=\"color: #B00040\">k</span>amp<span style=\"color: #666666\">/16384</span>,<span style=\"color: #bbbbbb\"> </span><span style=\"color: #008000\">mtof</span>:<span style=\"color: #B00040\">k</span>(<span style=\"color: #B00040\">k</span>pitch),<span style=\"color: #bbbbbb\"> </span><span style=\"color: #B00040\">i</span>presetidx,<span style=\"color: #bbbbbb\"> </span><span style=\"color: #666666\">1</span><span style=\"color: #bbbbbb\"></span>\n",
       "</code></pre></div>\n",
       "</span>\n",
       "epilogue:\n",
       "<div class=\"highlight\" style=\"background: #f8f8f8\"><pre style=\"line-height: 125%;\"><span></span><code><span style=\"color: #bbbbbb\">  </span>turnoffWhenSilent<span style=\"color: #bbbbbb\"> </span><span style=\"color: #B00040\">a</span>out1<span style=\"color: #bbbbbb\"></span>\n",
       "</code></pre></div>\n",
       "\n",
       "<hr>\n",
       "Preset: <b>gm-oboe</b> - <span style=\"color:#909090\"><i>General MIDI oboe</i></span>\n",
       "<br>\n",
       "<code>  <span style=\"color:#BBBBBB;font-size:92%\">(hasRouting=True, properties={'sfpath': '/usr/share/sounds/sf2/FluidR3_GM.sf2'})\n",
       "</span></code>\n",
       "init: <div class=\"highlight\" style=\"background: #f8f8f8\"><pre style=\"line-height: 125%;\"><span></span><code><span style=\"color: #bbbbbb\">  </span><span style=\"color: #B00040\">i</span>SfTable_<span style=\"color: #bbbbbb\"> </span>sfloadonce<span style=\"color: #bbbbbb\"> </span><span style=\"color: #BA2121\">&quot;/usr/share/sounds/sf2/FluidR3_GM.sf2&quot;</span><span style=\"color: #bbbbbb\"></span>\n",
       "</code></pre></div>\n",
       "\n",
       "audiogen:\n",
       "<span style=\"font-size:92%\"><div class=\"highlight\" style=\"background: #f8f8f8\"><pre style=\"line-height: 125%;\"><span></span><code><span style=\"color: #bbbbbb\">  </span><span style=\"color: #B00040\">i</span>presetidx<span style=\"color: #bbbbbb\"> </span>sfPresetIndex<span style=\"color: #bbbbbb\"> </span><span style=\"color: #BA2121\">&quot;/usr/share/sounds/sf2/FluidR3_GM.sf2&quot;</span>,<span style=\"color: #bbbbbb\"> </span><span style=\"color: #666666\">0</span>,<span style=\"color: #bbbbbb\"> </span><span style=\"color: #666666\">68</span><span style=\"color: #bbbbbb\"></span>\n",
       "<span style=\"color: #bbbbbb\">  </span><span style=\"color: #B00040\">i</span>note0_<span style=\"color: #bbbbbb\"> </span><span style=\"color: #666666\">=</span><span style=\"color: #bbbbbb\"> </span><span style=\"color: #008000\">round</span>(<span style=\"color: #008000\">p</span>(<span style=\"color: #B00040\">i</span>dataidx_<span style=\"color: #bbbbbb\"> </span><span style=\"color: #666666\">+</span><span style=\"color: #bbbbbb\"> </span><span style=\"color: #666666\">1</span>))<span style=\"color: #bbbbbb\"></span>\n",
       "<span style=\"color: #bbbbbb\">  </span><span style=\"color: #B00040\">i</span>vel_<span style=\"color: #bbbbbb\"> </span><span style=\"color: #666666\">=</span><span style=\"color: #bbbbbb\"> </span><span style=\"color: #008000\">p</span>(<span style=\"color: #B00040\">i</span>dataidx_<span style=\"color: #bbbbbb\"> </span><span style=\"color: #666666\">+</span><span style=\"color: #bbbbbb\"> </span><span style=\"color: #666666\">2</span>)<span style=\"color: #bbbbbb\"> </span><span style=\"color: #666666\">*</span><span style=\"color: #bbbbbb\"> </span><span style=\"color: #666666\">127</span><span style=\"color: #bbbbbb\"></span>\n",
       "<span style=\"color: #bbbbbb\">  </span><span style=\"color: #B00040\">a</span>out1,<span style=\"color: #bbbbbb\"> </span><span style=\"color: #B00040\">a</span>out2<span style=\"color: #bbbbbb\"> </span><span style=\"color: #008000\">sfplay</span><span style=\"color: #bbbbbb\"> </span><span style=\"color: #B00040\">i</span>vel_,<span style=\"color: #bbbbbb\"> </span><span style=\"color: #B00040\">i</span>note0_,<span style=\"color: #bbbbbb\"> </span><span style=\"color: #B00040\">k</span>amp<span style=\"color: #666666\">/16384</span>,<span style=\"color: #bbbbbb\"> </span><span style=\"color: #008000\">mtof</span>:<span style=\"color: #B00040\">k</span>(<span style=\"color: #B00040\">k</span>pitch),<span style=\"color: #bbbbbb\"> </span><span style=\"color: #B00040\">i</span>presetidx,<span style=\"color: #bbbbbb\"> </span><span style=\"color: #666666\">1</span><span style=\"color: #bbbbbb\"></span>\n",
       "</code></pre></div>\n",
       "</span>\n",
       "epilogue:\n",
       "<div class=\"highlight\" style=\"background: #f8f8f8\"><pre style=\"line-height: 125%;\"><span></span><code><span style=\"color: #bbbbbb\">  </span>turnoffWhenSilent<span style=\"color: #bbbbbb\"> </span><span style=\"color: #B00040\">a</span>out1<span style=\"color: #bbbbbb\"></span>\n",
       "</code></pre></div>\n",
       "\n",
       "<hr>\n",
       "Preset: <b>gm-piano</b> - <span style=\"color:#909090\"><i>General MIDI piano</i></span>\n",
       "<br>\n",
       "<code>  <span style=\"color:#BBBBBB;font-size:92%\">(hasRouting=True, properties={'sfpath': '/usr/share/sounds/sf2/FluidR3_GM.sf2'})\n",
       "</span></code>\n",
       "init: <div class=\"highlight\" style=\"background: #f8f8f8\"><pre style=\"line-height: 125%;\"><span></span><code><span style=\"color: #bbbbbb\">  </span><span style=\"color: #B00040\">i</span>SfTable_<span style=\"color: #bbbbbb\"> </span>sfloadonce<span style=\"color: #bbbbbb\"> </span><span style=\"color: #BA2121\">&quot;/usr/share/sounds/sf2/FluidR3_GM.sf2&quot;</span><span style=\"color: #bbbbbb\"></span>\n",
       "</code></pre></div>\n",
       "\n",
       "audiogen:\n",
       "<span style=\"font-size:92%\"><div class=\"highlight\" style=\"background: #f8f8f8\"><pre style=\"line-height: 125%;\"><span></span><code><span style=\"color: #bbbbbb\">  </span><span style=\"color: #B00040\">i</span>presetidx<span style=\"color: #bbbbbb\"> </span>sfPresetIndex<span style=\"color: #bbbbbb\"> </span><span style=\"color: #BA2121\">&quot;/usr/share/sounds/sf2/FluidR3_GM.sf2&quot;</span>,<span style=\"color: #bbbbbb\"> </span><span style=\"color: #666666\">0</span>,<span style=\"color: #bbbbbb\"> </span><span style=\"color: #666666\">0</span><span style=\"color: #bbbbbb\"></span>\n",
       "<span style=\"color: #bbbbbb\">  </span><span style=\"color: #B00040\">i</span>note0_<span style=\"color: #bbbbbb\"> </span><span style=\"color: #666666\">=</span><span style=\"color: #bbbbbb\"> </span><span style=\"color: #008000\">round</span>(<span style=\"color: #008000\">p</span>(<span style=\"color: #B00040\">i</span>dataidx_<span style=\"color: #bbbbbb\"> </span><span style=\"color: #666666\">+</span><span style=\"color: #bbbbbb\"> </span><span style=\"color: #666666\">1</span>))<span style=\"color: #bbbbbb\"></span>\n",
       "<span style=\"color: #bbbbbb\">  </span><span style=\"color: #B00040\">i</span>vel_<span style=\"color: #bbbbbb\"> </span><span style=\"color: #666666\">=</span><span style=\"color: #bbbbbb\"> </span><span style=\"color: #008000\">p</span>(<span style=\"color: #B00040\">i</span>dataidx_<span style=\"color: #bbbbbb\"> </span><span style=\"color: #666666\">+</span><span style=\"color: #bbbbbb\"> </span><span style=\"color: #666666\">2</span>)<span style=\"color: #bbbbbb\"> </span><span style=\"color: #666666\">*</span><span style=\"color: #bbbbbb\"> </span><span style=\"color: #666666\">127</span><span style=\"color: #bbbbbb\"></span>\n",
       "<span style=\"color: #bbbbbb\">  </span><span style=\"color: #B00040\">a</span>out1,<span style=\"color: #bbbbbb\"> </span><span style=\"color: #B00040\">a</span>out2<span style=\"color: #bbbbbb\"> </span><span style=\"color: #008000\">sfplay</span><span style=\"color: #bbbbbb\"> </span><span style=\"color: #B00040\">i</span>vel_,<span style=\"color: #bbbbbb\"> </span><span style=\"color: #B00040\">i</span>note0_,<span style=\"color: #bbbbbb\"> </span><span style=\"color: #B00040\">k</span>amp<span style=\"color: #666666\">/16384</span>,<span style=\"color: #bbbbbb\"> </span><span style=\"color: #008000\">mtof</span>:<span style=\"color: #B00040\">k</span>(<span style=\"color: #B00040\">k</span>pitch),<span style=\"color: #bbbbbb\"> </span><span style=\"color: #B00040\">i</span>presetidx,<span style=\"color: #bbbbbb\"> </span><span style=\"color: #666666\">1</span><span style=\"color: #bbbbbb\"></span>\n",
       "</code></pre></div>\n",
       "</span>\n",
       "epilogue:\n",
       "<div class=\"highlight\" style=\"background: #f8f8f8\"><pre style=\"line-height: 125%;\"><span></span><code><span style=\"color: #bbbbbb\">  </span>turnoffWhenSilent<span style=\"color: #bbbbbb\"> </span><span style=\"color: #B00040\">a</span>out1<span style=\"color: #bbbbbb\"></span>\n",
       "</code></pre></div>\n",
       "\n",
       "<hr>\n",
       "Preset: <b>gm-reedorgan</b> - <span style=\"color:#909090\"><i>General MIDI reedorgan</i></span>\n",
       "<br>\n",
       "<code>  <span style=\"color:#BBBBBB;font-size:92%\">(hasRouting=True, properties={'sfpath': '/usr/share/sounds/sf2/FluidR3_GM.sf2'})\n",
       "</span></code>\n",
       "init: <div class=\"highlight\" style=\"background: #f8f8f8\"><pre style=\"line-height: 125%;\"><span></span><code><span style=\"color: #bbbbbb\">  </span><span style=\"color: #B00040\">i</span>SfTable_<span style=\"color: #bbbbbb\"> </span>sfloadonce<span style=\"color: #bbbbbb\"> </span><span style=\"color: #BA2121\">&quot;/usr/share/sounds/sf2/FluidR3_GM.sf2&quot;</span><span style=\"color: #bbbbbb\"></span>\n",
       "</code></pre></div>\n",
       "\n",
       "audiogen:\n",
       "<span style=\"font-size:92%\"><div class=\"highlight\" style=\"background: #f8f8f8\"><pre style=\"line-height: 125%;\"><span></span><code><span style=\"color: #bbbbbb\">  </span><span style=\"color: #B00040\">i</span>presetidx<span style=\"color: #bbbbbb\"> </span>sfPresetIndex<span style=\"color: #bbbbbb\"> </span><span style=\"color: #BA2121\">&quot;/usr/share/sounds/sf2/FluidR3_GM.sf2&quot;</span>,<span style=\"color: #bbbbbb\"> </span><span style=\"color: #666666\">0</span>,<span style=\"color: #bbbbbb\"> </span><span style=\"color: #666666\">20</span><span style=\"color: #bbbbbb\"></span>\n",
       "<span style=\"color: #bbbbbb\">  </span><span style=\"color: #B00040\">i</span>note0_<span style=\"color: #bbbbbb\"> </span><span style=\"color: #666666\">=</span><span style=\"color: #bbbbbb\"> </span><span style=\"color: #008000\">round</span>(<span style=\"color: #008000\">p</span>(<span style=\"color: #B00040\">i</span>dataidx_<span style=\"color: #bbbbbb\"> </span><span style=\"color: #666666\">+</span><span style=\"color: #bbbbbb\"> </span><span style=\"color: #666666\">1</span>))<span style=\"color: #bbbbbb\"></span>\n",
       "<span style=\"color: #bbbbbb\">  </span><span style=\"color: #B00040\">i</span>vel_<span style=\"color: #bbbbbb\"> </span><span style=\"color: #666666\">=</span><span style=\"color: #bbbbbb\"> </span><span style=\"color: #008000\">p</span>(<span style=\"color: #B00040\">i</span>dataidx_<span style=\"color: #bbbbbb\"> </span><span style=\"color: #666666\">+</span><span style=\"color: #bbbbbb\"> </span><span style=\"color: #666666\">2</span>)<span style=\"color: #bbbbbb\"> </span><span style=\"color: #666666\">*</span><span style=\"color: #bbbbbb\"> </span><span style=\"color: #666666\">127</span><span style=\"color: #bbbbbb\"></span>\n",
       "<span style=\"color: #bbbbbb\">  </span><span style=\"color: #B00040\">a</span>out1,<span style=\"color: #bbbbbb\"> </span><span style=\"color: #B00040\">a</span>out2<span style=\"color: #bbbbbb\"> </span><span style=\"color: #008000\">sfplay</span><span style=\"color: #bbbbbb\"> </span><span style=\"color: #B00040\">i</span>vel_,<span style=\"color: #bbbbbb\"> </span><span style=\"color: #B00040\">i</span>note0_,<span style=\"color: #bbbbbb\"> </span><span style=\"color: #B00040\">k</span>amp<span style=\"color: #666666\">/16384</span>,<span style=\"color: #bbbbbb\"> </span><span style=\"color: #008000\">mtof</span>:<span style=\"color: #B00040\">k</span>(<span style=\"color: #B00040\">k</span>pitch),<span style=\"color: #bbbbbb\"> </span><span style=\"color: #B00040\">i</span>presetidx,<span style=\"color: #bbbbbb\"> </span><span style=\"color: #666666\">1</span><span style=\"color: #bbbbbb\"></span>\n",
       "</code></pre></div>\n",
       "</span>\n",
       "epilogue:\n",
       "<div class=\"highlight\" style=\"background: #f8f8f8\"><pre style=\"line-height: 125%;\"><span></span><code><span style=\"color: #bbbbbb\">  </span>turnoffWhenSilent<span style=\"color: #bbbbbb\"> </span><span style=\"color: #B00040\">a</span>out1<span style=\"color: #bbbbbb\"></span>\n",
       "</code></pre></div>\n",
       "\n",
       "<hr>\n",
       "Preset: <b>gm-violin</b> - <span style=\"color:#909090\"><i>General MIDI violin</i></span>\n",
       "<br>\n",
       "<code>  <span style=\"color:#BBBBBB;font-size:92%\">(hasRouting=True, properties={'sfpath': '/usr/share/sounds/sf2/FluidR3_GM.sf2'})\n",
       "</span></code>\n",
       "init: <div class=\"highlight\" style=\"background: #f8f8f8\"><pre style=\"line-height: 125%;\"><span></span><code><span style=\"color: #bbbbbb\">  </span><span style=\"color: #B00040\">i</span>SfTable_<span style=\"color: #bbbbbb\"> </span>sfloadonce<span style=\"color: #bbbbbb\"> </span><span style=\"color: #BA2121\">&quot;/usr/share/sounds/sf2/FluidR3_GM.sf2&quot;</span><span style=\"color: #bbbbbb\"></span>\n",
       "</code></pre></div>\n",
       "\n",
       "audiogen:\n",
       "<span style=\"font-size:92%\"><div class=\"highlight\" style=\"background: #f8f8f8\"><pre style=\"line-height: 125%;\"><span></span><code><span style=\"color: #bbbbbb\">  </span><span style=\"color: #B00040\">i</span>presetidx<span style=\"color: #bbbbbb\"> </span>sfPresetIndex<span style=\"color: #bbbbbb\"> </span><span style=\"color: #BA2121\">&quot;/usr/share/sounds/sf2/FluidR3_GM.sf2&quot;</span>,<span style=\"color: #bbbbbb\"> </span><span style=\"color: #666666\">0</span>,<span style=\"color: #bbbbbb\"> </span><span style=\"color: #666666\">40</span><span style=\"color: #bbbbbb\"></span>\n",
       "<span style=\"color: #bbbbbb\">  </span><span style=\"color: #B00040\">i</span>note0_<span style=\"color: #bbbbbb\"> </span><span style=\"color: #666666\">=</span><span style=\"color: #bbbbbb\"> </span><span style=\"color: #008000\">round</span>(<span style=\"color: #008000\">p</span>(<span style=\"color: #B00040\">i</span>dataidx_<span style=\"color: #bbbbbb\"> </span><span style=\"color: #666666\">+</span><span style=\"color: #bbbbbb\"> </span><span style=\"color: #666666\">1</span>))<span style=\"color: #bbbbbb\"></span>\n",
       "<span style=\"color: #bbbbbb\">  </span><span style=\"color: #B00040\">i</span>vel_<span style=\"color: #bbbbbb\"> </span><span style=\"color: #666666\">=</span><span style=\"color: #bbbbbb\"> </span><span style=\"color: #008000\">p</span>(<span style=\"color: #B00040\">i</span>dataidx_<span style=\"color: #bbbbbb\"> </span><span style=\"color: #666666\">+</span><span style=\"color: #bbbbbb\"> </span><span style=\"color: #666666\">2</span>)<span style=\"color: #bbbbbb\"> </span><span style=\"color: #666666\">*</span><span style=\"color: #bbbbbb\"> </span><span style=\"color: #666666\">127</span><span style=\"color: #bbbbbb\"></span>\n",
       "<span style=\"color: #bbbbbb\">  </span><span style=\"color: #B00040\">a</span>out1,<span style=\"color: #bbbbbb\"> </span><span style=\"color: #B00040\">a</span>out2<span style=\"color: #bbbbbb\"> </span><span style=\"color: #008000\">sfplay</span><span style=\"color: #bbbbbb\"> </span><span style=\"color: #B00040\">i</span>vel_,<span style=\"color: #bbbbbb\"> </span><span style=\"color: #B00040\">i</span>note0_,<span style=\"color: #bbbbbb\"> </span><span style=\"color: #B00040\">k</span>amp<span style=\"color: #666666\">/16384</span>,<span style=\"color: #bbbbbb\"> </span><span style=\"color: #008000\">mtof</span>:<span style=\"color: #B00040\">k</span>(<span style=\"color: #B00040\">k</span>pitch),<span style=\"color: #bbbbbb\"> </span><span style=\"color: #B00040\">i</span>presetidx,<span style=\"color: #bbbbbb\"> </span><span style=\"color: #666666\">1</span><span style=\"color: #bbbbbb\"></span>\n",
       "</code></pre></div>\n",
       "</span>\n",
       "epilogue:\n",
       "<div class=\"highlight\" style=\"background: #f8f8f8\"><pre style=\"line-height: 125%;\"><span></span><code><span style=\"color: #bbbbbb\">  </span>turnoffWhenSilent<span style=\"color: #bbbbbb\"> </span><span style=\"color: #B00040\">a</span>out1<span style=\"color: #bbbbbb\"></span>\n",
       "</code></pre></div>\n",
       "\n",
       "<hr>\n",
       "Preset: <b>_click</b> - <span style=\"color:#909090\"><i>Default preset used when rendering a click-track</i></span>\n",
       "<br>\n",
       "<code>  <span style=\"color:#BBBBBB;font-size:92%\">(hasRouting=True)\n",
       "</span></code>\n",
       "<ul>\n",
       "<li>ktransp: transposible interval</li>\n",
       "</ul>\n",
       "<span style=\"font-size:92%\"><div class=\"highlight\" style=\"background: #f8f8f8\"><pre style=\"line-height: 125%;\"><span></span><code><span style=\"color: #bbbbbb\">  </span><span style=\"color: #666666\">|</span><span style=\"color: #B00040\">k</span>transp<span style=\"color: #666666\">=24.0|</span><span style=\"color: #bbbbbb\"></span>\n",
       "</code></pre></div>\n",
       "</span>\n",
       "<span style=\"font-size:92%\"><div class=\"highlight\" style=\"background: #f8f8f8\"><pre style=\"line-height: 125%;\"><span></span><code><span style=\"color: #bbbbbb\">  </span><span style=\"color: #3D7B7B; font-style: italic\">; Default preset used when rendering a click-track</span><span style=\"color: #bbbbbb\"></span>\n",
       "<span style=\"color: #bbbbbb\">  </span><span style=\"color: #3D7B7B; font-style: italic\">; Args:</span><span style=\"color: #bbbbbb\"></span>\n",
       "<span style=\"color: #bbbbbb\">  </span><span style=\"color: #3D7B7B; font-style: italic\">;   ktransp: transposible interval</span><span style=\"color: #bbbbbb\"></span>\n",
       "<span style=\"color: #bbbbbb\">  </span><span style=\"color: #B00040\">a</span>clickenv<span style=\"color: #bbbbbb\"> </span><span style=\"color: #008000\">expseg</span><span style=\"color: #bbbbbb\"> </span><span style=\"color: #008000\">db</span>(<span style=\"color: #666666\">-120</span>),<span style=\"color: #bbbbbb\"> </span><span style=\"color: #666666\">0.01</span>,<span style=\"color: #bbbbbb\"> </span><span style=\"color: #666666\">1</span>,<span style=\"color: #bbbbbb\"> </span><span style=\"color: #666666\">0.1</span>,<span style=\"color: #bbbbbb\"> </span><span style=\"color: #008000\">db</span>(<span style=\"color: #666666\">-120</span>)<span style=\"color: #bbbbbb\"></span>\n",
       "<span style=\"color: #bbbbbb\">  </span><span style=\"color: #B00040\">a</span>out1<span style=\"color: #bbbbbb\"> </span><span style=\"color: #666666\">=</span><span style=\"color: #bbbbbb\"> </span><span style=\"color: #008000\">oscili</span>:<span style=\"color: #B00040\">a</span>(<span style=\"color: #B00040\">a</span>clickenv,<span style=\"color: #bbbbbb\"> </span><span style=\"color: #008000\">mtof</span>:<span style=\"color: #B00040\">k</span>(<span style=\"color: #B00040\">k</span>pitch<span style=\"color: #666666\">+</span><span style=\"color: #B00040\">k</span>transp))<span style=\"color: #bbbbbb\"></span>\n",
       "</code></pre></div>\n",
       "</span>\n",
       "<hr>\n",
       "Preset: <b>_playtable</b> - <span style=\"color:#909090\"><i>Built-in presetdef to playback a table</i></span>\n",
       "<br>\n",
       "<ul>\n",
       "<li>isndtab: table number to play</li>\n",
       "<li>istart: skip time</li>\n",
       "<li>icompensatesr: if 1, compensate for diff in sr between soundfile and system</li>\n",
       "<li>kspeed: playback speed</li>\n",
       "<li>ixfade: crossfade time, if negative no looping</li>\n",
       "</ul>\n",
       "<span style=\"font-size:92%\"><div class=\"highlight\" style=\"background: #f8f8f8\"><pre style=\"line-height: 125%;\"><span></span><code><span style=\"color: #bbbbbb\">  </span><span style=\"color: #666666\">|</span><span style=\"color: #B00040\">i</span>sndtab<span style=\"color: #666666\">=0.0</span>,<span style=\"color: #bbbbbb\"> </span><span style=\"color: #B00040\">i</span>start<span style=\"color: #666666\">=0.0</span>,<span style=\"color: #bbbbbb\"> </span><span style=\"color: #B00040\">i</span>compensatesr<span style=\"color: #666666\">=1.0</span>,<span style=\"color: #bbbbbb\"> </span><span style=\"color: #B00040\">k</span>speed<span style=\"color: #666666\">=1.0</span>,<span style=\"color: #bbbbbb\"> </span><span style=\"color: #B00040\">i</span>xfade<span style=\"color: #666666\">=-1.0|</span><span style=\"color: #bbbbbb\"></span>\n",
       "</code></pre></div>\n",
       "</span>\n",
       "<span style=\"font-size:92%\"><div class=\"highlight\" style=\"background: #f8f8f8\"><pre style=\"line-height: 125%;\"><span></span><code><span style=\"color: #bbbbbb\">  </span><span style=\"color: #3D7B7B; font-style: italic\">; Built-in presetdef to playback a table</span><span style=\"color: #bbbbbb\"></span>\n",
       "<span style=\"color: #bbbbbb\">  </span><span style=\"color: #3D7B7B; font-style: italic\">; Args:</span><span style=\"color: #bbbbbb\"></span>\n",
       "<span style=\"color: #bbbbbb\">  </span><span style=\"color: #3D7B7B; font-style: italic\">;   isndtab: table number to play</span><span style=\"color: #bbbbbb\"></span>\n",
       "<span style=\"color: #bbbbbb\">  </span><span style=\"color: #3D7B7B; font-style: italic\">;   istart: skip time</span><span style=\"color: #bbbbbb\"></span>\n",
       "<span style=\"color: #bbbbbb\">  </span><span style=\"color: #3D7B7B; font-style: italic\">;   icompensatesr: if 1, compensate for diff in sr between soundfile and system</span><span style=\"color: #bbbbbb\"></span>\n",
       "<span style=\"color: #bbbbbb\">  </span><span style=\"color: #3D7B7B; font-style: italic\">;   kspeed: playback speed</span><span style=\"color: #bbbbbb\"></span>\n",
       "<span style=\"color: #bbbbbb\">  </span><span style=\"color: #3D7B7B; font-style: italic\">;   ixfade: crossfade time, if negative no looping</span><span style=\"color: #bbbbbb\"></span>\n",
       "<span style=\"color: #bbbbbb\">  </span><span style=\"color: #B00040\">i</span>loop<span style=\"color: #bbbbbb\"> </span><span style=\"color: #666666\">=</span><span style=\"color: #bbbbbb\"> </span><span style=\"color: #B00040\">i</span>xfade<span style=\"color: #bbbbbb\"> </span><span style=\"color: #666666\">&gt;=</span><span style=\"color: #bbbbbb\"> </span><span style=\"color: #666666\">0</span><span style=\"color: #bbbbbb\"> </span><span style=\"color: #666666\">?</span><span style=\"color: #bbbbbb\"> </span><span style=\"color: #666666\">1</span><span style=\"color: #bbbbbb\"> </span><span style=\"color: #666666\">:</span><span style=\"color: #bbbbbb\"> </span><span style=\"color: #666666\">0</span><span style=\"color: #bbbbbb\"></span>\n",
       "<span style=\"color: #bbbbbb\">  </span><span style=\"color: #B00040\">i</span>numouts<span style=\"color: #bbbbbb\"> </span><span style=\"color: #666666\">=</span><span style=\"color: #bbbbbb\"> </span><span style=\"color: #008000\">ftchnls</span>(<span style=\"color: #B00040\">i</span>sndtab)<span style=\"color: #bbbbbb\"></span>\n",
       "<span style=\"color: #bbbbbb\">  </span><span style=\"color: #B00040\">i</span>numsamples<span style=\"color: #bbbbbb\"> </span><span style=\"color: #666666\">=</span><span style=\"color: #bbbbbb\"> </span><span style=\"color: #008000\">nsamp</span>(<span style=\"color: #B00040\">i</span>sndtab)<span style=\"color: #bbbbbb\"></span>\n",
       "<span style=\"color: #bbbbbb\">  </span><span style=\"color: #B00040\">i</span>sr<span style=\"color: #bbbbbb\"> </span><span style=\"color: #666666\">=</span><span style=\"color: #bbbbbb\"> </span><span style=\"color: #008000\">ftsr</span>(<span style=\"color: #B00040\">i</span>sndtab)<span style=\"color: #bbbbbb\"></span>\n",
       "\n",
       "<span style=\"color: #bbbbbb\">  </span><span style=\"color: #008000; font-weight: bold\">if</span><span style=\"color: #bbbbbb\"> </span><span style=\"color: #B00040\">i</span>sr<span style=\"color: #bbbbbb\"> </span><span style=\"color: #666666\">&lt;=</span><span style=\"color: #bbbbbb\"> </span><span style=\"color: #666666\">0</span><span style=\"color: #bbbbbb\"> </span><span style=\"color: #008000; font-weight: bold\">then</span><span style=\"color: #bbbbbb\"></span>\n",
       "<span style=\"color: #bbbbbb\">      </span><span style=\"color: #B00040\">i</span>niterror<span style=\"color: #bbbbbb\"> </span><span style=\"color: #008000\">sprintf</span>(<span style=\"color: #BA2121\">&quot;Could not determine sr of table </span><span style=\"color: #A45A77; font-weight: bold\">%d</span><span style=\"color: #BA2121\">&quot;</span>,<span style=\"color: #bbbbbb\"> </span><span style=\"color: #B00040\">i</span>sndtab)<span style=\"color: #bbbbbb\"></span>\n",
       "<span style=\"color: #bbbbbb\">  </span><span style=\"color: #008000; font-weight: bold\">endif</span><span style=\"color: #bbbbbb\"></span>\n",
       "<span style=\"color: #bbbbbb\">  </span><span style=\"color: #B00040\">i</span>dur<span style=\"color: #bbbbbb\"> </span><span style=\"color: #666666\">=</span><span style=\"color: #bbbbbb\"> </span><span style=\"color: #B00040\">i</span>numsamples<span style=\"color: #bbbbbb\"> </span><span style=\"color: #666666\">/</span><span style=\"color: #bbbbbb\"> </span><span style=\"color: #B00040\">i</span>sr<span style=\"color: #bbbbbb\"></span>\n",
       "\n",
       "<span style=\"color: #bbbbbb\">  </span><span style=\"color: #B00040\">i</span>speed<span style=\"color: #bbbbbb\"> </span><span style=\"color: #666666\">=</span><span style=\"color: #bbbbbb\"> </span><span style=\"color: #B00040\">i</span>compensatesr<span style=\"color: #666666\">==1</span><span style=\"color: #bbbbbb\"> </span><span style=\"color: #666666\">?</span><span style=\"color: #bbbbbb\"> </span><span style=\"color: #B00040\">i</span>sr<span style=\"color: #666666\">/</span><span style=\"color: #19177C\">sr</span><span style=\"color: #bbbbbb\"> </span><span style=\"color: #666666\">:</span><span style=\"color: #bbbbbb\"> </span><span style=\"color: #666666\">1</span><span style=\"color: #bbbbbb\"></span>\n",
       "<span style=\"color: #bbbbbb\">  </span><span style=\"color: #B00040\">k</span>now<span style=\"color: #bbbbbb\"> </span><span style=\"color: #008000\">init</span><span style=\"color: #bbbbbb\"> </span><span style=\"color: #B00040\">i</span>start<span style=\"color: #bbbbbb\"></span>\n",
       "<span style=\"color: #bbbbbb\">  </span><span style=\"color: #008000; font-weight: bold\">if</span><span style=\"color: #bbbbbb\"> </span><span style=\"color: #B00040\">i</span>numouts<span style=\"color: #bbbbbb\"> </span><span style=\"color: #666666\">==</span><span style=\"color: #bbbbbb\"> </span><span style=\"color: #666666\">0</span><span style=\"color: #bbbbbb\"> </span><span style=\"color: #008000; font-weight: bold\">then</span><span style=\"color: #bbbbbb\"></span>\n",
       "<span style=\"color: #bbbbbb\">      </span><span style=\"color: #3D7B7B; font-style: italic\">; not a gen1 table, fail</span><span style=\"color: #bbbbbb\"></span>\n",
       "<span style=\"color: #bbbbbb\">      </span><span style=\"color: #B00040\">i</span>niterror<span style=\"color: #bbbbbb\"> </span><span style=\"color: #008000\">sprintf</span>(<span style=\"color: #BA2121\">&quot;Table </span><span style=\"color: #A45A77; font-weight: bold\">%d</span><span style=\"color: #BA2121\"> was not generated via gen1&quot;</span>,<span style=\"color: #bbbbbb\"> </span><span style=\"color: #B00040\">i</span>sndtab)<span style=\"color: #bbbbbb\"></span>\n",
       "<span style=\"color: #bbbbbb\">  </span><span style=\"color: #008000; font-weight: bold\">endif</span><span style=\"color: #bbbbbb\"></span>\n",
       "\n",
       "<span style=\"color: #bbbbbb\">  </span><span style=\"color: #B00040\">k</span>idx<span style=\"color: #bbbbbb\"> </span><span style=\"color: #008000\">init</span><span style=\"color: #bbbbbb\"> </span><span style=\"color: #666666\">0</span><span style=\"color: #bbbbbb\"></span>\n",
       "<span style=\"color: #bbbbbb\">  </span><span style=\"color: #B00040\">a</span>env<span style=\"color: #bbbbbb\"> </span><span style=\"color: #666666\">=</span><span style=\"color: #bbbbbb\"> </span>makePresetEnvelope(<span style=\"color: #B00040\">i</span>fadein,<span style=\"color: #bbbbbb\"> </span><span style=\"color: #B00040\">i</span>fadeout,<span style=\"color: #bbbbbb\"> </span><span style=\"color: #B00040\">i</span>fadeshape,<span style=\"color: #bbbbbb\"> </span><span style=\"color: #B00040\">i</span>gain)<span style=\"color: #bbbbbb\"></span>\n",
       "\n",
       "<span style=\"color: #bbbbbb\">  </span><span style=\"color: #008000; font-weight: bold\">if</span><span style=\"color: #bbbbbb\"> </span><span style=\"color: #B00040\">i</span>numouts<span style=\"color: #bbbbbb\"> </span><span style=\"color: #666666\">==</span><span style=\"color: #bbbbbb\"> </span><span style=\"color: #666666\">1</span><span style=\"color: #bbbbbb\"> </span><span style=\"color: #008000; font-weight: bold\">then</span><span style=\"color: #bbbbbb\"></span>\n",
       "<span style=\"color: #bbbbbb\">      </span><span style=\"color: #B00040\">a</span>1<span style=\"color: #bbbbbb\"> </span><span style=\"color: #008000\">flooper2</span><span style=\"color: #bbbbbb\"> </span><span style=\"color: #666666\">1</span>,<span style=\"color: #bbbbbb\"> </span><span style=\"color: #B00040\">i</span>speed<span style=\"color: #666666\">*</span><span style=\"color: #B00040\">k</span>speed,<span style=\"color: #bbbbbb\"> </span><span style=\"color: #B00040\">i</span>start,<span style=\"color: #bbbbbb\"> </span><span style=\"color: #B00040\">i</span>dur,<span style=\"color: #bbbbbb\"> </span><span style=\"color: #B00040\">i</span>xfade,<span style=\"color: #bbbbbb\"> </span><span style=\"color: #B00040\">i</span>sndtab,<span style=\"color: #bbbbbb\"> </span><span style=\"color: #B00040\">i</span>start<span style=\"color: #bbbbbb\"></span>\n",
       "<span style=\"color: #bbbbbb\">      </span><span style=\"color: #B00040\">a</span>1<span style=\"color: #bbbbbb\"> </span><span style=\"color: #666666\">*=</span><span style=\"color: #bbbbbb\"> </span><span style=\"color: #B00040\">a</span>env<span style=\"color: #bbbbbb\"></span>\n",
       "<span style=\"color: #bbbbbb\">      </span><span style=\"color: #B00040\">i</span>pos<span style=\"color: #bbbbbb\"> </span><span style=\"color: #666666\">=</span><span style=\"color: #bbbbbb\"> </span><span style=\"color: #B00040\">i</span>pos<span style=\"color: #bbbbbb\"> </span><span style=\"color: #666666\">==</span><span style=\"color: #bbbbbb\"> </span><span style=\"color: #666666\">-1</span><span style=\"color: #bbbbbb\"> </span><span style=\"color: #666666\">?</span><span style=\"color: #bbbbbb\"> </span><span style=\"color: #666666\">0</span><span style=\"color: #bbbbbb\"> </span><span style=\"color: #666666\">:</span><span style=\"color: #bbbbbb\"> </span><span style=\"color: #B00040\">i</span>pos<span style=\"color: #bbbbbb\"></span>\n",
       "<span style=\"color: #bbbbbb\">      </span><span style=\"color: #B00040\">a</span>out1,<span style=\"color: #bbbbbb\"> </span><span style=\"color: #B00040\">a</span>out2<span style=\"color: #bbbbbb\"> </span><span style=\"color: #008000\">pan2</span><span style=\"color: #bbbbbb\"> </span><span style=\"color: #B00040\">a</span>1,<span style=\"color: #bbbbbb\"> </span><span style=\"color: #B00040\">i</span>pos<span style=\"color: #bbbbbb\"></span>\n",
       "<span style=\"color: #bbbbbb\">  </span><span style=\"color: #008000; font-weight: bold\">elseif</span><span style=\"color: #bbbbbb\"> </span><span style=\"color: #B00040\">i</span>numouts<span style=\"color: #bbbbbb\"> </span><span style=\"color: #666666\">==</span><span style=\"color: #bbbbbb\"> </span><span style=\"color: #666666\">2</span><span style=\"color: #bbbbbb\"> </span><span style=\"color: #008000; font-weight: bold\">then</span><span style=\"color: #bbbbbb\"></span>\n",
       "<span style=\"color: #bbbbbb\">      </span><span style=\"color: #B00040\">a</span>1,<span style=\"color: #bbbbbb\"> </span><span style=\"color: #B00040\">a</span>2<span style=\"color: #bbbbbb\"> </span><span style=\"color: #008000\">flooper2</span><span style=\"color: #bbbbbb\"> </span><span style=\"color: #666666\">1</span>,<span style=\"color: #bbbbbb\"> </span><span style=\"color: #B00040\">i</span>speed<span style=\"color: #666666\">*</span><span style=\"color: #B00040\">k</span>speed,<span style=\"color: #bbbbbb\"> </span><span style=\"color: #B00040\">i</span>start,<span style=\"color: #bbbbbb\"> </span><span style=\"color: #B00040\">i</span>dur,<span style=\"color: #bbbbbb\"> </span><span style=\"color: #B00040\">i</span>xfade,<span style=\"color: #bbbbbb\"> </span><span style=\"color: #B00040\">i</span>sndtab,<span style=\"color: #bbbbbb\"> </span><span style=\"color: #B00040\">i</span>start<span style=\"color: #bbbbbb\"></span>\n",
       "<span style=\"color: #bbbbbb\">      </span><span style=\"color: #B00040\">i</span>pos<span style=\"color: #bbbbbb\"> </span><span style=\"color: #666666\">=</span><span style=\"color: #bbbbbb\"> </span><span style=\"color: #B00040\">i</span>pos<span style=\"color: #bbbbbb\"> </span><span style=\"color: #666666\">&lt;</span><span style=\"color: #bbbbbb\"> </span><span style=\"color: #666666\">0</span><span style=\"color: #bbbbbb\"> </span><span style=\"color: #666666\">?</span><span style=\"color: #bbbbbb\"> </span><span style=\"color: #666666\">0.5</span><span style=\"color: #bbbbbb\"> </span><span style=\"color: #666666\">:</span><span style=\"color: #bbbbbb\"> </span><span style=\"color: #B00040\">i</span>pos<span style=\"color: #bbbbbb\"></span>\n",
       "<span style=\"color: #bbbbbb\">      </span><span style=\"color: #B00040\">a</span>out1,<span style=\"color: #bbbbbb\"> </span><span style=\"color: #B00040\">a</span>out2<span style=\"color: #bbbbbb\"> </span>panstereo<span style=\"color: #bbbbbb\"> </span><span style=\"color: #B00040\">a</span>1,<span style=\"color: #bbbbbb\"> </span><span style=\"color: #B00040\">a</span>2,<span style=\"color: #bbbbbb\"> </span><span style=\"color: #B00040\">i</span>pos<span style=\"color: #bbbbbb\"></span>\n",
       "<span style=\"color: #bbbbbb\">      </span><span style=\"color: #B00040\">a</span>out1<span style=\"color: #bbbbbb\"> </span><span style=\"color: #666666\">*=</span><span style=\"color: #bbbbbb\"> </span><span style=\"color: #B00040\">a</span>env<span style=\"color: #bbbbbb\"></span>\n",
       "<span style=\"color: #bbbbbb\">      </span><span style=\"color: #B00040\">a</span>out2<span style=\"color: #bbbbbb\"> </span><span style=\"color: #666666\">*=</span><span style=\"color: #bbbbbb\"> </span><span style=\"color: #B00040\">a</span>env<span style=\"color: #bbbbbb\"></span>\n",
       "<span style=\"color: #bbbbbb\">  </span><span style=\"color: #008000; font-weight: bold\">else</span><span style=\"color: #bbbbbb\"></span>\n",
       "<span style=\"color: #bbbbbb\">      </span><span style=\"color: #B00040\">i</span>niterror<span style=\"color: #bbbbbb\"> </span><span style=\"color: #008000\">sprintf</span>(<span style=\"color: #BA2121\">&quot;Multichannel samples (&gt; 2, got </span><span style=\"color: #A45A77; font-weight: bold\">%d</span><span style=\"color: #BA2121\">) not supported yet&quot;</span>,<span style=\"color: #bbbbbb\"> </span><span style=\"color: #B00040\">i</span>numouts)<span style=\"color: #bbbbbb\"></span>\n",
       "<span style=\"color: #bbbbbb\">  </span><span style=\"color: #008000; font-weight: bold\">endif</span><span style=\"color: #bbbbbb\"></span>\n",
       "<span style=\"color: #bbbbbb\">  </span><span style=\"color: #008000\">outch</span><span style=\"color: #bbbbbb\"> </span><span style=\"color: #B00040\">i</span>chan,<span style=\"color: #bbbbbb\"> </span><span style=\"color: #B00040\">a</span>out1,<span style=\"color: #bbbbbb\"> </span><span style=\"color: #B00040\">i</span>chan<span style=\"color: #666666\">+1</span>,<span style=\"color: #bbbbbb\"> </span><span style=\"color: #B00040\">a</span>out2<span style=\"color: #bbbbbb\"></span>\n",
       "\n",
       "<span style=\"color: #bbbbbb\">  </span><span style=\"color: #B00040\">k</span>now<span style=\"color: #bbbbbb\"> </span><span style=\"color: #666666\">+=</span><span style=\"color: #bbbbbb\"> </span><span style=\"color: #B00040\">i</span>onecycle<span style=\"color: #bbbbbb\"> </span><span style=\"color: #666666\">*</span><span style=\"color: #bbbbbb\"> </span><span style=\"color: #B00040\">k</span>speed<span style=\"color: #bbbbbb\"></span>\n",
       "<span style=\"color: #bbbbbb\">  </span><span style=\"color: #B00040\">i</span>maxtime<span style=\"color: #bbbbbb\"> </span><span style=\"color: #666666\">=</span><span style=\"color: #bbbbbb\"> </span><span style=\"color: #B00040\">i</span>dur<span style=\"color: #bbbbbb\"> </span><span style=\"color: #666666\">-</span><span style=\"color: #bbbbbb\"> </span><span style=\"color: #B00040\">i</span>fade<span style=\"color: #bbbbbb\"> </span><span style=\"color: #666666\">-</span><span style=\"color: #bbbbbb\"> </span><span style=\"color: #B00040\">i</span>onecycle<span style=\"color: #bbbbbb\"></span>\n",
       "<span style=\"color: #bbbbbb\">  </span><span style=\"color: #008000; font-weight: bold\">if</span><span style=\"color: #bbbbbb\"> </span><span style=\"color: #B00040\">i</span>loop<span style=\"color: #bbbbbb\"> </span><span style=\"color: #666666\">==</span><span style=\"color: #bbbbbb\"> </span><span style=\"color: #666666\">0</span><span style=\"color: #bbbbbb\"> </span><span style=\"color: #666666\">&amp;&amp;</span><span style=\"color: #bbbbbb\"> </span><span style=\"color: #B00040\">k</span>now<span style=\"color: #bbbbbb\"> </span><span style=\"color: #666666\">&gt;=</span><span style=\"color: #bbbbbb\"> </span><span style=\"color: #B00040\">i</span>maxtime<span style=\"color: #bbbbbb\"> </span><span style=\"color: #008000; font-weight: bold\">then</span><span style=\"color: #bbbbbb\"></span>\n",
       "<span style=\"color: #bbbbbb\">      </span><span style=\"color: #008000\">turnoff</span><span style=\"color: #bbbbbb\"></span>\n",
       "<span style=\"color: #bbbbbb\">  </span><span style=\"color: #008000; font-weight: bold\">endif</span><span style=\"color: #bbbbbb\">   </span>\n",
       "</code></pre></div>\n",
       "</span>\n",
       "<hr>\n",
       "Preset: <b>_sing</b> - <span style=\"color:#909090\"><i>Simple vowel singing simulation</i></span>\n",
       "<br>\n",
       "<code>  <span style=\"color:#BBBBBB;font-size:92%\">(hasRouting=True)\n",
       "</span></code>\n",
       "<ul>\n",
       "<li>kx: x coordinate, from 0 to 1</li>\n",
       "<li>ky: y coordinate, from 0 to 1</li>\n",
       "<li>kvibamount: vibrato amount, 0 to 1</li>\n",
       "</ul>\n",
       "init: <div class=\"highlight\" style=\"background: #f8f8f8\"><pre style=\"line-height: 125%;\"><span></span><code><span style=\"color: #bbbbbb\">          </span><span style=\"color: #B00040\">gi</span>__formantFreqs__[]<span style=\"color: #bbbbbb\"> </span><span style=\"color: #008000\">fillarray</span><span style=\"color: #bbbbbb\"> </span>\\<span style=\"color: #bbbbbb\"></span>\n",
       "<span style=\"color: #bbbbbb\">              </span><span style=\"color: #666666\">668</span>,<span style=\"color: #bbbbbb\"> </span><span style=\"color: #666666\">1191</span>,<span style=\"color: #bbbbbb\"> </span><span style=\"color: #666666\">2428</span>,<span style=\"color: #bbbbbb\"> </span><span style=\"color: #666666\">3321</span>,<span style=\"color: #bbbbbb\"> </span><span style=\"color: #666666\">4600</span>,<span style=\"color: #bbbbbb\"> </span><span style=\"border: 1px solid #FF0000\">\\</span><span style=\"color: #bbbbbb\">  </span><span style=\"color: #3D7B7B; font-style: italic\">; A</span><span style=\"color: #bbbbbb\"></span>\n",
       "<span style=\"color: #bbbbbb\">              </span><span style=\"color: #666666\">327</span>,<span style=\"color: #bbbbbb\"> </span><span style=\"color: #666666\">2157</span>,<span style=\"color: #bbbbbb\"> </span><span style=\"color: #666666\">2754</span>,<span style=\"color: #bbbbbb\"> </span><span style=\"color: #666666\">3630</span>,<span style=\"color: #bbbbbb\"> </span><span style=\"color: #666666\">4600</span>,<span style=\"color: #bbbbbb\"> </span><span style=\"border: 1px solid #FF0000\">\\</span><span style=\"color: #bbbbbb\">  </span><span style=\"color: #3D7B7B; font-style: italic\">; E </span><span style=\"color: #bbbbbb\"></span>\n",
       "<span style=\"color: #bbbbbb\">              </span><span style=\"color: #666666\">208</span>,<span style=\"color: #bbbbbb\"> </span><span style=\"color: #666666\">2152</span>,<span style=\"color: #bbbbbb\"> </span><span style=\"color: #666666\">3128</span>,<span style=\"color: #bbbbbb\"> </span><span style=\"color: #666666\">3425</span>,<span style=\"color: #bbbbbb\"> </span><span style=\"color: #666666\">4200</span>,<span style=\"color: #bbbbbb\"> </span><span style=\"border: 1px solid #FF0000\">\\</span><span style=\"color: #bbbbbb\">  </span><span style=\"color: #3D7B7B; font-style: italic\">; I</span><span style=\"color: #bbbbbb\"></span>\n",
       "<span style=\"color: #bbbbbb\">              </span><span style=\"color: #666666\">335</span>,<span style=\"color: #bbbbbb\"> </span><span style=\"color: #666666\">628</span>,<span style=\"color: #bbbbbb\"> </span><span style=\"color: #666666\">2689</span>,<span style=\"color: #bbbbbb\"> </span><span style=\"color: #666666\">3515</span>,<span style=\"color: #bbbbbb\"> </span><span style=\"color: #666666\">4200</span>,<span style=\"color: #bbbbbb\"> </span><span style=\"border: 1px solid #FF0000\">\\</span><span style=\"color: #bbbbbb\">   </span><span style=\"color: #3D7B7B; font-style: italic\">; O</span><span style=\"color: #bbbbbb\"></span>\n",
       "<span style=\"color: #bbbbbb\">              </span><span style=\"color: #666666\">254</span>,<span style=\"color: #bbbbbb\"> </span><span style=\"color: #666666\">796</span>,<span style=\"color: #bbbbbb\"> </span><span style=\"color: #666666\">2515</span>,<span style=\"color: #bbbbbb\"> </span><span style=\"color: #666666\">3274</span>,<span style=\"color: #bbbbbb\"> </span><span style=\"color: #666666\">4160</span><span style=\"color: #bbbbbb\">      </span><span style=\"color: #3D7B7B; font-style: italic\">; U</span><span style=\"color: #bbbbbb\"></span>\n",
       "<span style=\"color: #bbbbbb\">                       </span>\n",
       "<span style=\"color: #bbbbbb\">          </span><span style=\"color: #B00040\">gi</span>__formantDbs__[]<span style=\"color: #bbbbbb\"> </span><span style=\"color: #008000\">fillarray</span><span style=\"color: #bbbbbb\">   </span>\\<span style=\"color: #bbbbbb\"></span>\n",
       "<span style=\"color: #bbbbbb\">              </span><span style=\"color: #666666\">28</span>,<span style=\"color: #bbbbbb\"> </span><span style=\"color: #666666\">28</span>,<span style=\"color: #bbbbbb\"> </span><span style=\"color: #666666\">22</span>,<span style=\"color: #bbbbbb\"> </span><span style=\"color: #666666\">20</span>,<span style=\"color: #bbbbbb\"> </span><span style=\"color: #666666\">20</span>,<span style=\"color: #bbbbbb\"> </span>\\<span style=\"color: #bbbbbb\"></span>\n",
       "<span style=\"color: #bbbbbb\">              </span><span style=\"color: #666666\">15</span>,<span style=\"color: #bbbbbb\"> </span><span style=\"color: #666666\">25</span>,<span style=\"color: #bbbbbb\"> </span><span style=\"color: #666666\">24</span>,<span style=\"color: #bbbbbb\"> </span><span style=\"color: #666666\">20</span>,<span style=\"color: #bbbbbb\"> </span><span style=\"color: #666666\">23</span>,<span style=\"color: #bbbbbb\"> </span>\\<span style=\"color: #bbbbbb\"></span>\n",
       "<span style=\"color: #bbbbbb\">              </span><span style=\"color: #666666\">10</span>,<span style=\"color: #bbbbbb\"> </span><span style=\"color: #666666\">20</span>,<span style=\"color: #bbbbbb\"> </span><span style=\"color: #666666\">27</span>,<span style=\"color: #bbbbbb\"> </span><span style=\"color: #666666\">26</span>,<span style=\"color: #bbbbbb\"> </span><span style=\"color: #666666\">20</span>,<span style=\"color: #bbbbbb\"> </span>\\<span style=\"color: #bbbbbb\"></span>\n",
       "<span style=\"color: #bbbbbb\">              </span><span style=\"color: #666666\">15</span>,<span style=\"color: #bbbbbb\"> </span><span style=\"color: #666666\">18</span>,<span style=\"color: #bbbbbb\"> </span><span style=\"color: #666666\">5</span>,<span style=\"color: #bbbbbb\">  </span><span style=\"color: #666666\">7</span>,<span style=\"color: #bbbbbb\">  </span><span style=\"color: #666666\">12</span>,<span style=\"color: #bbbbbb\"> </span>\\<span style=\"color: #bbbbbb\"></span>\n",
       "<span style=\"color: #bbbbbb\">              </span><span style=\"color: #666666\">12</span>,<span style=\"color: #bbbbbb\"> </span><span style=\"color: #666666\">10</span>,<span style=\"color: #bbbbbb\"> </span><span style=\"color: #666666\">6</span>,<span style=\"color: #bbbbbb\">  </span><span style=\"color: #666666\">5</span>,<span style=\"color: #bbbbbb\">  </span><span style=\"color: #666666\">12</span><span style=\"color: #bbbbbb\"></span>\n",
       "<span style=\"color: #bbbbbb\">                                   </span>\n",
       "<span style=\"color: #bbbbbb\">          </span><span style=\"color: #B00040\">gi</span>__formantBws__[]<span style=\"color: #bbbbbb\"> </span><span style=\"color: #008000\">fillarray</span><span style=\"color: #bbbbbb\">   </span>\\<span style=\"color: #bbbbbb\"></span>\n",
       "<span style=\"color: #bbbbbb\">              </span><span style=\"color: #666666\">80</span>,<span style=\"color: #bbbbbb\"> </span><span style=\"color: #666666\">90</span>,<span style=\"color: #bbbbbb\"> </span><span style=\"color: #666666\">120</span>,<span style=\"color: #bbbbbb\"> </span><span style=\"color: #666666\">130</span>,<span style=\"color: #bbbbbb\"> </span><span style=\"color: #666666\">140</span>,<span style=\"color: #bbbbbb\"> </span>\\<span style=\"color: #bbbbbb\"></span>\n",
       "<span style=\"color: #bbbbbb\">              </span><span style=\"color: #666666\">60</span>,<span style=\"color: #bbbbbb\"> </span><span style=\"color: #666666\">100</span>,<span style=\"color: #bbbbbb\"> </span><span style=\"color: #666666\">120</span>,<span style=\"color: #bbbbbb\"> </span><span style=\"color: #666666\">150</span>,<span style=\"color: #bbbbbb\"> </span><span style=\"color: #666666\">200</span>,<span style=\"color: #bbbbbb\"> </span>\\<span style=\"color: #bbbbbb\"></span>\n",
       "<span style=\"color: #bbbbbb\">              </span><span style=\"color: #666666\">60</span>,<span style=\"color: #bbbbbb\"> </span><span style=\"color: #666666\">90</span>,<span style=\"color: #bbbbbb\"> </span><span style=\"color: #666666\">100</span>,<span style=\"color: #bbbbbb\"> </span><span style=\"color: #666666\">120</span>,<span style=\"color: #bbbbbb\"> </span><span style=\"color: #666666\">120</span>,<span style=\"color: #bbbbbb\"> </span>\\<span style=\"color: #bbbbbb\"></span>\n",
       "<span style=\"color: #bbbbbb\">              </span><span style=\"color: #666666\">40</span>,<span style=\"color: #bbbbbb\"> </span><span style=\"color: #666666\">80</span>,<span style=\"color: #bbbbbb\"> </span><span style=\"color: #666666\">100</span>,<span style=\"color: #bbbbbb\"> </span><span style=\"color: #666666\">120</span>,<span style=\"color: #bbbbbb\"> </span><span style=\"color: #666666\">120</span>,<span style=\"color: #bbbbbb\"> </span>\\<span style=\"color: #bbbbbb\"></span>\n",
       "<span style=\"color: #bbbbbb\">              </span><span style=\"color: #666666\">50</span>,<span style=\"color: #bbbbbb\"> </span><span style=\"color: #666666\">60</span>,<span style=\"color: #bbbbbb\"> </span><span style=\"color: #666666\">170</span>,<span style=\"color: #bbbbbb\"> </span><span style=\"color: #666666\">180</span>,<span style=\"color: #bbbbbb\"> </span><span style=\"color: #666666\">200</span><span style=\"color: #bbbbbb\"></span>\n",
       "<span style=\"color: #bbbbbb\">            </span>\n",
       "<span style=\"color: #bbbbbb\">          </span><span style=\"color: #B00040\">gi</span>__formantAmps__[]<span style=\"color: #bbbbbb\"> </span><span style=\"color: #008000\">maparray</span><span style=\"color: #bbbbbb\"> </span><span style=\"color: #B00040\">gi</span>__formantDbs__,<span style=\"color: #bbbbbb\"> </span><span style=\"color: #BA2121\">&quot;ampdb&quot;</span><span style=\"color: #bbbbbb\"></span>\n",
       "<span style=\"color: #bbbbbb\">          </span><span style=\"color: #008000\">reshapearray</span><span style=\"color: #bbbbbb\"> </span><span style=\"color: #B00040\">gi</span>__formantFreqs__,<span style=\"color: #bbbbbb\"> </span><span style=\"color: #666666\">5</span>,<span style=\"color: #bbbbbb\"> </span><span style=\"color: #666666\">5</span><span style=\"color: #bbbbbb\"></span>\n",
       "<span style=\"color: #bbbbbb\">          </span><span style=\"color: #008000\">reshapearray</span><span style=\"color: #bbbbbb\"> </span><span style=\"color: #B00040\">gi</span>__formantAmps__,<span style=\"color: #bbbbbb\"> </span><span style=\"color: #666666\">5</span>,<span style=\"color: #bbbbbb\"> </span><span style=\"color: #666666\">5</span><span style=\"color: #bbbbbb\"></span>\n",
       "<span style=\"color: #bbbbbb\">          </span><span style=\"color: #008000\">reshapearray</span><span style=\"color: #bbbbbb\"> </span><span style=\"color: #B00040\">gi</span>__formantBws__,<span style=\"color: #bbbbbb\"> </span><span style=\"color: #666666\">5</span>,<span style=\"color: #bbbbbb\"> </span><span style=\"color: #666666\">5</span><span style=\"color: #bbbbbb\"></span>\n",
       "<span style=\"color: #bbbbbb\">        </span>\n",
       "</code></pre></div>\n",
       "\n",
       "audiogen:\n",
       "<span style=\"font-size:92%\"><div class=\"highlight\" style=\"background: #f8f8f8\"><pre style=\"line-height: 125%;\"><span></span><code><span style=\"color: #bbbbbb\">  </span><span style=\"color: #666666\">|</span><span style=\"color: #B00040\">k</span>x<span style=\"color: #666666\">=0.0</span>,<span style=\"color: #bbbbbb\"> </span><span style=\"color: #B00040\">k</span>y<span style=\"color: #666666\">=0.0</span>,<span style=\"color: #bbbbbb\"> </span><span style=\"color: #B00040\">k</span>vibamount<span style=\"color: #666666\">=1.0|</span><span style=\"color: #bbbbbb\"></span>\n",
       "</code></pre></div>\n",
       "</span>\n",
       "<span style=\"font-size:92%\"><div class=\"highlight\" style=\"background: #f8f8f8\"><pre style=\"line-height: 125%;\"><span></span><code><span style=\"color: #bbbbbb\">  </span><span style=\"color: #3D7B7B; font-style: italic\">; Simple vowel singing simulation</span><span style=\"color: #bbbbbb\"></span>\n",
       "<span style=\"color: #bbbbbb\">  </span><span style=\"color: #3D7B7B; font-style: italic\">; Args:</span><span style=\"color: #bbbbbb\"></span>\n",
       "<span style=\"color: #bbbbbb\">  </span><span style=\"color: #3D7B7B; font-style: italic\">;   kx: x coordinate, from 0 to 1</span><span style=\"color: #bbbbbb\"></span>\n",
       "<span style=\"color: #bbbbbb\">  </span><span style=\"color: #3D7B7B; font-style: italic\">;   ky: y coordinate, from 0 to 1</span><span style=\"color: #bbbbbb\"></span>\n",
       "<span style=\"color: #bbbbbb\">  </span><span style=\"color: #3D7B7B; font-style: italic\">;   kvibamount: vibrato amount, 0 to 1</span><span style=\"color: #bbbbbb\"></span>\n",
       "\n",
       "<span style=\"color: #bbbbbb\">  </span><span style=\"color: #B00040\">k</span>vibfreq<span style=\"color: #bbbbbb\"> </span><span style=\"color: #666666\">=</span><span style=\"color: #bbbbbb\"> </span><span style=\"color: #008000\">linseg</span>:<span style=\"color: #B00040\">k</span>(<span style=\"color: #666666\">0</span>,<span style=\"color: #bbbbbb\"> </span><span style=\"color: #666666\">0.1</span>,<span style=\"color: #bbbbbb\"> </span><span style=\"color: #666666\">0</span>,<span style=\"color: #bbbbbb\"> </span><span style=\"color: #666666\">0.5</span>,<span style=\"color: #bbbbbb\"> </span><span style=\"color: #666666\">4.5</span>)<span style=\"color: #bbbbbb\"> </span><span style=\"color: #666666\">*</span><span style=\"color: #bbbbbb\"> </span><span style=\"color: #008000\">randomi</span>:<span style=\"color: #B00040\">k</span>(<span style=\"color: #666666\">0.9</span>,<span style=\"color: #bbbbbb\"> </span><span style=\"color: #666666\">1.1</span>,<span style=\"color: #bbbbbb\"> </span><span style=\"color: #666666\">2</span>)<span style=\"color: #bbbbbb\"></span>\n",
       "<span style=\"color: #bbbbbb\">  </span><span style=\"color: #B00040\">k</span>vibsemi<span style=\"color: #bbbbbb\"> </span><span style=\"color: #666666\">=</span><span style=\"color: #bbbbbb\"> </span><span style=\"color: #008000\">linseg</span>:<span style=\"color: #B00040\">k</span>(<span style=\"color: #666666\">0</span>,<span style=\"color: #bbbbbb\"> </span><span style=\"color: #666666\">0.4</span>,<span style=\"color: #bbbbbb\"> </span><span style=\"color: #666666\">0</span>,<span style=\"color: #bbbbbb\"> </span><span style=\"color: #666666\">2.1</span>,<span style=\"color: #bbbbbb\"> </span><span style=\"color: #666666\">0.25</span>)<span style=\"color: #bbbbbb\"> </span><span style=\"color: #666666\">*</span><span style=\"color: #bbbbbb\"> </span><span style=\"color: #008000\">randomi</span>:<span style=\"color: #B00040\">k</span>(<span style=\"color: #666666\">0.9</span>,<span style=\"color: #bbbbbb\"> </span><span style=\"color: #666666\">1.1</span>,<span style=\"color: #bbbbbb\"> </span><span style=\"color: #666666\">10</span>)<span style=\"color: #bbbbbb\"></span>\n",
       "<span style=\"color: #bbbbbb\">  </span><span style=\"color: #B00040\">k</span>vib<span style=\"color: #bbbbbb\"> </span><span style=\"color: #666666\">=</span><span style=\"color: #bbbbbb\"> </span><span style=\"color: #008000\">oscil</span>:<span style=\"color: #B00040\">k</span>(<span style=\"color: #B00040\">k</span>vibsemi<span style=\"color: #666666\">/2</span>,<span style=\"color: #bbbbbb\"> </span><span style=\"color: #B00040\">k</span>vibfreq)<span style=\"color: #bbbbbb\"> </span><span style=\"color: #666666\">-</span><span style=\"color: #bbbbbb\"> </span><span style=\"color: #B00040\">k</span>vibsemi<span style=\"color: #666666\">/2</span><span style=\"color: #bbbbbb\"></span>\n",
       "<span style=\"color: #bbbbbb\">  </span><span style=\"color: #B00040\">k</span>pitch<span style=\"color: #bbbbbb\"> </span><span style=\"color: #666666\">=</span><span style=\"color: #bbbbbb\"> </span><span style=\"color: #008000\">lag</span>:<span style=\"color: #B00040\">k</span>(<span style=\"color: #B00040\">k</span>pitch,<span style=\"color: #bbbbbb\"> </span><span style=\"color: #666666\">0.2</span>)<span style=\"color: #bbbbbb\"> </span><span style=\"color: #666666\">+</span><span style=\"color: #bbbbbb\"> </span><span style=\"color: #B00040\">k</span>vib<span style=\"color: #666666\">*</span><span style=\"color: #B00040\">k</span>vibamount<span style=\"color: #bbbbbb\"></span>\n",
       "<span style=\"color: #bbbbbb\">  </span><span style=\"color: #B00040\">a</span>source<span style=\"color: #bbbbbb\"> </span><span style=\"color: #666666\">=</span><span style=\"color: #bbbbbb\"> </span><span style=\"color: #008000\">butterlp</span>:<span style=\"color: #B00040\">a</span>(<span style=\"color: #008000\">vco2</span>:<span style=\"color: #B00040\">a</span>(<span style=\"color: #B00040\">k</span>amp,<span style=\"color: #bbbbbb\"> </span><span style=\"color: #008000\">mtof</span>(<span style=\"color: #B00040\">k</span>pitch)),<span style=\"color: #bbbbbb\"> </span><span style=\"color: #666666\">4000</span>)<span style=\"color: #bbbbbb\"></span>\n",
       "<span style=\"color: #bbbbbb\">  </span><span style=\"color: #B00040\">k</span>coords[]<span style=\"color: #bbbbbb\"> </span><span style=\"color: #008000\">fillarray</span><span style=\"color: #bbbbbb\"> </span><span style=\"color: #666666\">0</span>,<span style=\"color: #bbbbbb\"> </span><span style=\"color: #666666\">0</span>,<span style=\"color: #bbbbbb\"> </span><span style=\"color: #666666\">1</span>,<span style=\"color: #bbbbbb\">       </span><span style=\"border: 1px solid #FF0000\">\\</span><span style=\"color: #bbbbbb\">  </span><span style=\"color: #3D7B7B; font-style: italic\">; A</span><span style=\"color: #bbbbbb\"></span>\n",
       "<span style=\"color: #bbbbbb\">                      </span><span style=\"color: #666666\">0.5</span>,<span style=\"color: #bbbbbb\"> </span><span style=\"color: #666666\">0.5</span>,<span style=\"color: #bbbbbb\"> </span><span style=\"color: #666666\">0.3</span>,<span style=\"color: #bbbbbb\"> </span><span style=\"border: 1px solid #FF0000\">\\</span><span style=\"color: #bbbbbb\">  </span><span style=\"color: #3D7B7B; font-style: italic\">; E</span><span style=\"color: #bbbbbb\"></span>\n",
       "<span style=\"color: #bbbbbb\">                      </span><span style=\"color: #666666\">1</span>,<span style=\"color: #bbbbbb\"> </span><span style=\"color: #666666\">0</span>,<span style=\"color: #bbbbbb\"> </span><span style=\"color: #666666\">1</span>,<span style=\"color: #bbbbbb\">       </span><span style=\"border: 1px solid #FF0000\">\\</span><span style=\"color: #bbbbbb\">  </span><span style=\"color: #3D7B7B; font-style: italic\">; I</span><span style=\"color: #bbbbbb\"></span>\n",
       "<span style=\"color: #bbbbbb\">                      </span><span style=\"color: #666666\">0</span>,<span style=\"color: #bbbbbb\"> </span><span style=\"color: #666666\">1</span>,<span style=\"color: #bbbbbb\"> </span><span style=\"color: #666666\">1</span>,<span style=\"color: #bbbbbb\">       </span><span style=\"border: 1px solid #FF0000\">\\</span><span style=\"color: #bbbbbb\">  </span><span style=\"color: #3D7B7B; font-style: italic\">; O</span><span style=\"color: #bbbbbb\"></span>\n",
       "<span style=\"color: #bbbbbb\">                      </span><span style=\"color: #666666\">1</span>,<span style=\"color: #bbbbbb\"> </span><span style=\"color: #666666\">1</span>,<span style=\"color: #bbbbbb\"> </span><span style=\"color: #666666\">1</span><span style=\"color: #bbbbbb\">           </span><span style=\"color: #3D7B7B; font-style: italic\">; U</span><span style=\"color: #bbbbbb\"></span>\n",
       "\n",
       "<span style=\"color: #bbbbbb\">  </span><span style=\"color: #B00040\">k</span>weights[]<span style=\"color: #bbbbbb\"> </span>presetinterp<span style=\"color: #bbbbbb\"> </span><span style=\"color: #B00040\">k</span>x,<span style=\"color: #bbbbbb\"> </span><span style=\"color: #B00040\">k</span>y,<span style=\"color: #bbbbbb\"> </span><span style=\"color: #B00040\">k</span>coords,<span style=\"color: #bbbbbb\"> </span><span style=\"color: #666666\">0.2</span><span style=\"color: #bbbbbb\"></span>\n",
       "<span style=\"color: #bbbbbb\">  </span><span style=\"color: #B00040\">k</span>formantFreqs[]<span style=\"color: #bbbbbb\"> </span><span style=\"color: #B00040\">w</span>eightedsum<span style=\"color: #bbbbbb\"> </span><span style=\"color: #B00040\">gi</span>__formantFreqs__,<span style=\"color: #bbbbbb\"> </span><span style=\"color: #B00040\">k</span>weights<span style=\"color: #bbbbbb\"></span>\n",
       "<span style=\"color: #bbbbbb\">  </span><span style=\"color: #B00040\">k</span>formantBws[]<span style=\"color: #bbbbbb\">   </span><span style=\"color: #B00040\">w</span>eightedsum<span style=\"color: #bbbbbb\"> </span><span style=\"color: #B00040\">gi</span>__formantBws__,<span style=\"color: #bbbbbb\"> </span><span style=\"color: #B00040\">k</span>weights<span style=\"color: #bbbbbb\"></span>\n",
       "<span style=\"color: #bbbbbb\">  </span><span style=\"color: #B00040\">k</span>formantAmps[]<span style=\"color: #bbbbbb\">  </span><span style=\"color: #B00040\">w</span>eightedsum<span style=\"color: #bbbbbb\"> </span><span style=\"color: #B00040\">gi</span>__formantAmps__,<span style=\"color: #bbbbbb\"> </span><span style=\"color: #B00040\">k</span>weights<span style=\"color: #bbbbbb\"></span>\n",
       "<span style=\"color: #bbbbbb\">  </span><span style=\"color: #B00040\">k</span>formantFreqs<span style=\"color: #bbbbbb\"> </span>poly<span style=\"color: #bbbbbb\"> </span><span style=\"color: #666666\">5</span>,<span style=\"color: #bbbbbb\"> </span><span style=\"color: #BA2121\">&quot;lag&quot;</span>,<span style=\"color: #bbbbbb\"> </span><span style=\"color: #B00040\">k</span>formantFreqs,<span style=\"color: #bbbbbb\"> </span><span style=\"color: #666666\">0.2</span><span style=\"color: #bbbbbb\"></span>\n",
       "<span style=\"color: #bbbbbb\">  </span><span style=\"color: #B00040\">k</span>formantAmps<span style=\"color: #bbbbbb\">  </span>poly<span style=\"color: #bbbbbb\"> </span><span style=\"color: #666666\">5</span>,<span style=\"color: #bbbbbb\"> </span><span style=\"color: #BA2121\">&quot;lag&quot;</span>,<span style=\"color: #bbbbbb\"> </span><span style=\"color: #B00040\">k</span>formantAmps,<span style=\"color: #bbbbbb\"> </span><span style=\"color: #666666\">0.2</span><span style=\"color: #bbbbbb\"></span>\n",
       "<span style=\"color: #bbbbbb\">  </span><span style=\"color: #B00040\">a</span>formants[]<span style=\"color: #bbbbbb\"> </span>poly<span style=\"color: #bbbbbb\"> </span><span style=\"color: #666666\">5</span>,<span style=\"color: #bbbbbb\"> </span><span style=\"color: #BA2121\">&quot;resonx&quot;</span>,<span style=\"color: #bbbbbb\"> </span><span style=\"color: #B00040\">a</span>source,<span style=\"color: #bbbbbb\"> </span><span style=\"color: #B00040\">k</span>formantFreqs,<span style=\"color: #bbbbbb\"> </span><span style=\"color: #B00040\">k</span>formantBws,<span style=\"color: #bbbbbb\"> </span><span style=\"color: #666666\">2</span>,<span style=\"color: #bbbbbb\"> </span><span style=\"color: #666666\">1</span><span style=\"color: #bbbbbb\"></span>\n",
       "<span style=\"color: #bbbbbb\">  </span><span style=\"color: #B00040\">a</span>formants<span style=\"color: #bbbbbb\"> </span><span style=\"color: #666666\">*=</span><span style=\"color: #bbbbbb\"> </span><span style=\"color: #B00040\">k</span>formantAmps<span style=\"color: #bbbbbb\"></span>\n",
       "<span style=\"color: #bbbbbb\">  </span><span style=\"color: #B00040\">a</span>out1<span style=\"color: #bbbbbb\"> </span><span style=\"color: #666666\">=</span><span style=\"color: #bbbbbb\"> </span><span style=\"color: #008000\">sumarray</span>(<span style=\"color: #B00040\">a</span>formants)<span style=\"color: #bbbbbb\"> </span><span style=\"color: #666666\">*</span><span style=\"color: #bbbbbb\"> </span><span style=\"color: #666666\">0.1</span><span style=\"color: #bbbbbb\"></span>\n",
       "</code></pre></div>\n",
       "</span>\n",
       "<hr>\n",
       "Preset: <b>pulse</b> - <span style=\"color:#909090\"><i>transposable pulse with modulatable pwm</i></span>\n",
       "<br>\n",
       "<code>  <span style=\"color:#BBBBBB;font-size:92%\">(hasRouting=True)\n",
       "</span></code>\n",
       "<span style=\"font-size:92%\"><div class=\"highlight\" style=\"background: #f8f8f8\"><pre style=\"line-height: 125%;\"><span></span><code><span style=\"color: #bbbbbb\">  </span><span style=\"color: #666666\">|</span><span style=\"color: #B00040\">k</span>transp<span style=\"color: #666666\">=0</span>,<span style=\"color: #bbbbbb\"> </span><span style=\"color: #B00040\">k</span>lag<span style=\"color: #666666\">=0.1</span>,<span style=\"color: #bbbbbb\"> </span><span style=\"color: #B00040\">k</span>pwm<span style=\"color: #666666\">=0.5|</span><span style=\"color: #bbbbbb\"></span>\n",
       "</code></pre></div>\n",
       "</span>\n",
       "<span style=\"font-size:92%\"><div class=\"highlight\" style=\"background: #f8f8f8\"><pre style=\"line-height: 125%;\"><span></span><code><span style=\"color: #bbbbbb\">  </span><span style=\"color: #B00040\">a</span>out1<span style=\"color: #bbbbbb\"> </span><span style=\"color: #008000\">vco2</span><span style=\"color: #bbbbbb\"> </span><span style=\"color: #B00040\">k</span>amp,<span style=\"color: #bbbbbb\"> </span><span style=\"color: #008000\">mtof</span>:<span style=\"color: #B00040\">k</span>(<span style=\"color: #008000\">lag</span>:<span style=\"color: #B00040\">k</span>(<span style=\"color: #B00040\">k</span>pitch<span style=\"color: #666666\">+</span><span style=\"color: #B00040\">k</span>transp,<span style=\"color: #bbbbbb\"> </span><span style=\"color: #B00040\">k</span>lag),<span style=\"color: #bbbbbb\"> </span><span style=\"color: #666666\">2</span>,<span style=\"color: #bbbbbb\"> </span><span style=\"color: #B00040\">k</span>pwm<span style=\"color: #bbbbbb\"></span>\n",
       "</code></pre></div>\n",
       "</span>\n",
       "<hr>\n",
       "Preset: <b>saw</b> - <span style=\"color:#909090\"><i>Transposable saw with optional low-pass filtering</i></span>\n",
       "<br>\n",
       "<code>  <span style=\"color:#BBBBBB;font-size:92%\">(hasRouting=True)\n",
       "</span></code>\n",
       "<ul>\n",
       "<li>ktransp: transposition interval\n",
       "klag: lag time when modifying pitch\n",
       "kcutoffratio: cutoff frequency of the filter as a factor of the osc frequency\n",
       "kfilterq: filter resonance</li>\n",
       "</ul>\n",
       "<span style=\"font-size:92%\"><div class=\"highlight\" style=\"background: #f8f8f8\"><pre style=\"line-height: 125%;\"><span></span><code><span style=\"color: #bbbbbb\">  </span><span style=\"color: #666666\">|</span><span style=\"color: #B00040\">k</span>transp<span style=\"color: #666666\">=0.0</span>,<span style=\"color: #bbbbbb\"> </span><span style=\"color: #B00040\">k</span>lag<span style=\"color: #666666\">=0.1</span>,<span style=\"color: #bbbbbb\"> </span><span style=\"color: #B00040\">k</span>cutoffratio<span style=\"color: #666666\">=0.0</span>,<span style=\"color: #bbbbbb\"> </span><span style=\"color: #B00040\">k</span>filterq<span style=\"color: #666666\">=3.0|</span><span style=\"color: #bbbbbb\"></span>\n",
       "</code></pre></div>\n",
       "</span>\n",
       "<span style=\"font-size:92%\"><div class=\"highlight\" style=\"background: #f8f8f8\"><pre style=\"line-height: 125%;\"><span></span><code><span style=\"color: #bbbbbb\">  </span><span style=\"color: #3D7B7B; font-style: italic\">; Transposable saw with optional low-pass filtering</span><span style=\"color: #bbbbbb\"></span>\n",
       "<span style=\"color: #bbbbbb\">  </span><span style=\"color: #3D7B7B; font-style: italic\">;  Args:</span><span style=\"color: #bbbbbb\"></span>\n",
       "<span style=\"color: #bbbbbb\">  </span><span style=\"color: #3D7B7B; font-style: italic\">;    ktransp: transposition interval</span><span style=\"color: #bbbbbb\"></span>\n",
       "<span style=\"color: #bbbbbb\">  </span><span style=\"color: #3D7B7B; font-style: italic\">;   klag: lag time when modifying pitch</span><span style=\"color: #bbbbbb\"></span>\n",
       "<span style=\"color: #bbbbbb\">  </span><span style=\"color: #3D7B7B; font-style: italic\">;   kcutoffratio: cutoff frequency of the filter as a factor of the osc frequency</span><span style=\"color: #bbbbbb\"></span>\n",
       "<span style=\"color: #bbbbbb\">  </span><span style=\"color: #3D7B7B; font-style: italic\">;   kfilterq: filter resonance</span><span style=\"color: #bbbbbb\"></span>\n",
       "<span style=\"color: #bbbbbb\">  </span><span style=\"color: #B00040\">k</span>freq<span style=\"color: #bbbbbb\"> </span><span style=\"color: #666666\">=</span><span style=\"color: #bbbbbb\"> </span><span style=\"color: #008000\">mtof</span>:<span style=\"color: #B00040\">k</span>(<span style=\"color: #008000\">lag</span>(<span style=\"color: #B00040\">k</span>pitch<span style=\"color: #bbbbbb\"> </span><span style=\"color: #666666\">+</span><span style=\"color: #bbbbbb\"> </span><span style=\"color: #B00040\">k</span>transp,<span style=\"color: #bbbbbb\"> </span><span style=\"color: #B00040\">k</span>lag))<span style=\"color: #bbbbbb\"></span>\n",
       "<span style=\"color: #bbbbbb\">  </span><span style=\"color: #B00040\">a</span>sig<span style=\"color: #bbbbbb\"> </span><span style=\"color: #666666\">=</span><span style=\"color: #bbbbbb\"> </span><span style=\"color: #008000\">vco2</span>(<span style=\"color: #666666\">1</span>,<span style=\"color: #bbbbbb\"> </span><span style=\"color: #B00040\">k</span>freq,<span style=\"color: #bbbbbb\"> </span><span style=\"color: #666666\">0</span>)<span style=\"color: #bbbbbb\"> </span><span style=\"color: #666666\">*</span><span style=\"color: #bbbbbb\"> </span><span style=\"color: #008000\">a</span>(<span style=\"color: #B00040\">k</span>amp)<span style=\"color: #bbbbbb\"></span>\n",
       "<span style=\"color: #bbbbbb\">  </span><span style=\"color: #B00040\">a</span>out1<span style=\"color: #bbbbbb\"> </span><span style=\"color: #666666\">=</span><span style=\"color: #bbbbbb\"> </span><span style=\"color: #B00040\">k</span>cutoffratio<span style=\"color: #bbbbbb\"> </span><span style=\"color: #666666\">==</span><span style=\"color: #bbbbbb\"> </span><span style=\"color: #666666\">0</span><span style=\"color: #bbbbbb\"> </span><span style=\"color: #666666\">?</span><span style=\"color: #bbbbbb\"> </span><span style=\"color: #B00040\">a</span>sig<span style=\"color: #bbbbbb\"> </span><span style=\"color: #666666\">:</span><span style=\"color: #bbbbbb\"> </span><span style=\"color: #008000\">K35_lpf</span>(<span style=\"color: #B00040\">a</span>sig,<span style=\"color: #bbbbbb\"> </span><span style=\"color: #B00040\">k</span>freq<span style=\"color: #666666\">*</span><span style=\"color: #B00040\">k</span>cutoffratio,<span style=\"color: #bbbbbb\"> </span><span style=\"color: #B00040\">k</span>filterq)<span style=\"color: #bbbbbb\"></span>\n",
       "</code></pre></div>\n",
       "</span>\n",
       "<hr>\n",
       "Preset: <b>simplesin</b> - <span style=\"color:#909090\"><i>simplest sine wave</i></span>\n",
       "<br>\n",
       "<code>  <span style=\"color:#BBBBBB;font-size:92%\">(hasRouting=True)\n",
       "</span></code>\n",
       "<span style=\"font-size:92%\"><div class=\"highlight\" style=\"background: #f8f8f8\"><pre style=\"line-height: 125%;\"><span></span><code><span style=\"color: #bbbbbb\">  </span><span style=\"color: #B00040\">a</span>out1<span style=\"color: #bbbbbb\"> </span><span style=\"color: #008000\">oscili</span><span style=\"color: #bbbbbb\"> </span><span style=\"color: #008000\">a</span>(<span style=\"color: #B00040\">k</span>amp),<span style=\"color: #bbbbbb\"> </span><span style=\"color: #008000\">mtof</span>(<span style=\"color: #008000\">lag</span>(<span style=\"color: #B00040\">k</span>pitch,<span style=\"color: #bbbbbb\"> </span><span style=\"color: #666666\">0.01</span>))<span style=\"color: #bbbbbb\"></span>\n",
       "</code></pre></div>\n",
       "</span>\n",
       "<hr>\n",
       "Preset: <b>sin</b> - <span style=\"color:#909090\"><i>transposable sine wave</i></span>\n",
       "<br>\n",
       "<code>  <span style=\"color:#BBBBBB;font-size:92%\">(hasRouting=True)\n",
       "</span></code>\n",
       "<span style=\"font-size:92%\"><div class=\"highlight\" style=\"background: #f8f8f8\"><pre style=\"line-height: 125%;\"><span></span><code><span style=\"color: #bbbbbb\">  </span><span style=\"color: #666666\">|</span><span style=\"color: #B00040\">k</span>transp<span style=\"color: #666666\">=0</span>,<span style=\"color: #bbbbbb\"> </span><span style=\"color: #B00040\">k</span>lag<span style=\"color: #666666\">=0.1|</span><span style=\"color: #bbbbbb\"></span>\n",
       "</code></pre></div>\n",
       "</span>\n",
       "<span style=\"font-size:92%\"><div class=\"highlight\" style=\"background: #f8f8f8\"><pre style=\"line-height: 125%;\"><span></span><code><span style=\"color: #bbbbbb\">  </span><span style=\"color: #B00040\">a</span>out1<span style=\"color: #bbbbbb\"> </span><span style=\"color: #008000\">oscili</span><span style=\"color: #bbbbbb\"> </span><span style=\"color: #008000\">a</span>(<span style=\"color: #B00040\">k</span>amp),<span style=\"color: #bbbbbb\"> </span><span style=\"color: #008000\">mtof</span>(<span style=\"color: #008000\">lag</span>(<span style=\"color: #B00040\">k</span>pitch<span style=\"color: #666666\">+</span><span style=\"color: #B00040\">k</span>transp,<span style=\"color: #bbbbbb\"> </span><span style=\"color: #B00040\">k</span>lag))<span style=\"color: #bbbbbb\"></span>\n",
       "</code></pre></div>\n",
       "</span>\n",
       "<hr>\n",
       "Preset: <b>sqr</b> - <span style=\"color:#909090\"><i>square wave with optional filtering</i></span>\n",
       "<br>\n",
       "<code>  <span style=\"color:#BBBBBB;font-size:92%\">(hasRouting=True)\n",
       "</span></code>\n",
       "<ul>\n",
       "<li>kcutoff: filter cutoff frequency</li>\n",
       "<li>kresonance: resonance of the filter</li>\n",
       "</ul>\n",
       "<span style=\"font-size:92%\"><div class=\"highlight\" style=\"background: #f8f8f8\"><pre style=\"line-height: 125%;\"><span></span><code><span style=\"color: #bbbbbb\">  </span><span style=\"color: #666666\">|</span><span style=\"color: #B00040\">k</span>transp<span style=\"color: #666666\">=0.0</span>,<span style=\"color: #bbbbbb\"> </span><span style=\"color: #B00040\">k</span>lag<span style=\"color: #666666\">=0.1</span>,<span style=\"color: #bbbbbb\"> </span><span style=\"color: #B00040\">k</span>cutoff<span style=\"color: #666666\">=0.0</span>,<span style=\"color: #bbbbbb\"> </span><span style=\"color: #B00040\">k</span>resonance<span style=\"color: #666666\">=0.2|</span><span style=\"color: #bbbbbb\"></span>\n",
       "</code></pre></div>\n",
       "</span>\n",
       "<span style=\"font-size:92%\"><div class=\"highlight\" style=\"background: #f8f8f8\"><pre style=\"line-height: 125%;\"><span></span><code><span style=\"color: #bbbbbb\">  </span><span style=\"color: #3D7B7B; font-style: italic\">; square wave with optional filtering</span><span style=\"color: #bbbbbb\"></span>\n",
       "<span style=\"color: #bbbbbb\">  </span><span style=\"color: #3D7B7B; font-style: italic\">; Args:</span><span style=\"color: #bbbbbb\"></span>\n",
       "<span style=\"color: #bbbbbb\">  </span><span style=\"color: #3D7B7B; font-style: italic\">;    kcutoff: filter cutoff frequency</span><span style=\"color: #bbbbbb\"></span>\n",
       "<span style=\"color: #bbbbbb\">  </span><span style=\"color: #3D7B7B; font-style: italic\">;    kresonance: resonance of the filter</span><span style=\"color: #bbbbbb\"></span>\n",
       "<span style=\"color: #bbbbbb\">  </span><span style=\"color: #B00040\">a</span>out1<span style=\"color: #bbbbbb\"> </span><span style=\"color: #666666\">=</span><span style=\"color: #bbbbbb\"> </span><span style=\"color: #008000\">vco2</span>(<span style=\"color: #666666\">1</span>,<span style=\"color: #bbbbbb\"> </span><span style=\"color: #008000\">mtof</span>(<span style=\"color: #008000\">lag</span>(<span style=\"color: #B00040\">k</span>pitch<span style=\"color: #666666\">+</span><span style=\"color: #B00040\">k</span>transp,<span style=\"color: #bbbbbb\"> </span><span style=\"color: #B00040\">k</span>lag),<span style=\"color: #bbbbbb\"> </span><span style=\"color: #666666\">10</span>)<span style=\"color: #bbbbbb\"> </span><span style=\"color: #666666\">*</span><span style=\"color: #bbbbbb\"> </span><span style=\"color: #008000\">a</span>(<span style=\"color: #B00040\">k</span>amp)<span style=\"color: #bbbbbb\"></span>\n",
       "<span style=\"color: #bbbbbb\">  </span><span style=\"color: #B00040\">a</span>out1<span style=\"color: #bbbbbb\"> </span><span style=\"color: #666666\">=</span><span style=\"color: #bbbbbb\"> </span><span style=\"color: #B00040\">k</span>cutoff<span style=\"color: #bbbbbb\"> </span><span style=\"color: #666666\">==</span><span style=\"color: #bbbbbb\"> </span><span style=\"color: #666666\">0</span><span style=\"color: #bbbbbb\"> </span><span style=\"color: #666666\">?</span><span style=\"color: #bbbbbb\"> </span><span style=\"color: #B00040\">a</span>out1<span style=\"color: #bbbbbb\"> </span><span style=\"color: #666666\">:</span><span style=\"color: #bbbbbb\"> </span><span style=\"color: #008000\">moogladder</span><span style=\"color: #bbbbbb\"> </span><span style=\"color: #B00040\">a</span>out1,<span style=\"color: #bbbbbb\"> </span><span style=\"color: #008000\">lag</span>(<span style=\"color: #B00040\">k</span>cutoff,<span style=\"color: #bbbbbb\"> </span><span style=\"color: #666666\">0.1</span>),<span style=\"color: #bbbbbb\"> </span><span style=\"color: #B00040\">k</span>resonance<span style=\"color: #bbbbbb\"></span>\n",
       "</code></pre></div>\n",
       "</span>\n",
       "<hr>\n",
       "Preset: <b>tri</b> - <span style=\"color:#909090\"><i>transposable triangle wave with optional lowpass-filter</i></span>\n",
       "<br>\n",
       "<code>  <span style=\"color:#BBBBBB;font-size:92%\">(hasRouting=True)\n",
       "</span></code>\n",
       "<ul>\n",
       "<li>ktransp: transposition interval</li>\n",
       "<li>klag: lag time when modifying pitch</li>\n",
       "<li>kcutoffratio: cutoff frequency of the filter as a factor of the osc frequency</li>\n",
       "<li>kfilterq: filter resonance</li>\n",
       "</ul>\n",
       "<span style=\"font-size:92%\"><div class=\"highlight\" style=\"background: #f8f8f8\"><pre style=\"line-height: 125%;\"><span></span><code><span style=\"color: #bbbbbb\">  </span><span style=\"color: #666666\">|</span><span style=\"color: #B00040\">k</span>transp<span style=\"color: #666666\">=0.0</span>,<span style=\"color: #bbbbbb\"> </span><span style=\"color: #B00040\">k</span>lag<span style=\"color: #666666\">=0.1</span>,<span style=\"color: #bbbbbb\"> </span><span style=\"color: #B00040\">k</span>cutoffratio<span style=\"color: #666666\">=0.0</span>,<span style=\"color: #bbbbbb\"> </span><span style=\"color: #B00040\">k</span>filterq<span style=\"color: #666666\">=3.0|</span><span style=\"color: #bbbbbb\"></span>\n",
       "</code></pre></div>\n",
       "</span>\n",
       "<span style=\"font-size:92%\"><div class=\"highlight\" style=\"background: #f8f8f8\"><pre style=\"line-height: 125%;\"><span></span><code><span style=\"color: #bbbbbb\">  </span><span style=\"color: #3D7B7B; font-style: italic\">; transposable triangle wave with optional lowpass-filter</span><span style=\"color: #bbbbbb\"></span>\n",
       "<span style=\"color: #bbbbbb\">  </span><span style=\"color: #3D7B7B; font-style: italic\">; Args:</span><span style=\"color: #bbbbbb\"></span>\n",
       "<span style=\"color: #bbbbbb\">  </span><span style=\"color: #3D7B7B; font-style: italic\">;   ktransp: transposition interval</span><span style=\"color: #bbbbbb\"></span>\n",
       "<span style=\"color: #bbbbbb\">  </span><span style=\"color: #3D7B7B; font-style: italic\">;   klag: lag time when modifying pitch</span><span style=\"color: #bbbbbb\"></span>\n",
       "<span style=\"color: #bbbbbb\">  </span><span style=\"color: #3D7B7B; font-style: italic\">;   kcutoffratio: cutoff frequency of the filter as a factor of the osc frequency</span><span style=\"color: #bbbbbb\"></span>\n",
       "<span style=\"color: #bbbbbb\">  </span><span style=\"color: #3D7B7B; font-style: italic\">;   kfilterq: filter resonance</span><span style=\"color: #bbbbbb\"></span>\n",
       "<span style=\"color: #bbbbbb\">  </span><span style=\"color: #B00040\">k</span>freq<span style=\"color: #bbbbbb\"> </span><span style=\"color: #666666\">=</span><span style=\"color: #bbbbbb\"> </span><span style=\"color: #008000\">mtof</span>:<span style=\"color: #B00040\">k</span>(<span style=\"color: #008000\">lag</span>(<span style=\"color: #B00040\">k</span>pitch<span style=\"color: #bbbbbb\"> </span><span style=\"color: #666666\">+</span><span style=\"color: #bbbbbb\"> </span><span style=\"color: #B00040\">k</span>transp,<span style=\"color: #bbbbbb\"> </span><span style=\"color: #B00040\">k</span>lag))<span style=\"color: #bbbbbb\"></span>\n",
       "<span style=\"color: #bbbbbb\">  </span><span style=\"color: #B00040\">a</span>out1<span style=\"color: #bbbbbb\"> </span><span style=\"color: #666666\">=</span><span style=\"color: #bbbbbb\"> </span><span style=\"color: #008000\">vco2</span>(<span style=\"color: #666666\">1</span>,<span style=\"color: #bbbbbb\"> </span><span style=\"color: #B00040\">k</span>freq,<span style=\"color: #bbbbbb\">  </span><span style=\"color: #666666\">12</span>)<span style=\"color: #bbbbbb\"> </span><span style=\"color: #666666\">*</span><span style=\"color: #bbbbbb\"> </span><span style=\"color: #008000\">a</span>(<span style=\"color: #B00040\">k</span>amp)<span style=\"color: #bbbbbb\"></span>\n",
       "<span style=\"color: #bbbbbb\">  </span><span style=\"color: #008000; font-weight: bold\">if</span><span style=\"color: #bbbbbb\"> </span><span style=\"color: #B00040\">k</span>cutoffratio<span style=\"color: #bbbbbb\"> </span><span style=\"color: #666666\">&gt;</span><span style=\"color: #bbbbbb\"> </span><span style=\"color: #666666\">0</span><span style=\"color: #bbbbbb\"> </span><span style=\"color: #008000; font-weight: bold\">then</span><span style=\"color: #bbbbbb\"></span>\n",
       "<span style=\"color: #bbbbbb\">     </span><span style=\"color: #B00040\">a</span>out1<span style=\"color: #bbbbbb\"> </span><span style=\"color: #666666\">=</span><span style=\"color: #bbbbbb\"> </span><span style=\"color: #008000\">K35_lpf</span>(<span style=\"color: #B00040\">a</span>out1,<span style=\"color: #bbbbbb\"> </span><span style=\"color: #B00040\">k</span>freq<span style=\"color: #666666\">*</span><span style=\"color: #B00040\">k</span>cutoffratio,<span style=\"color: #bbbbbb\"> </span><span style=\"color: #B00040\">k</span>filterq)<span style=\"color: #bbbbbb\"></span>\n",
       "<span style=\"color: #bbbbbb\">  </span><span style=\"color: #008000; font-weight: bold\">endif</span><span style=\"color: #bbbbbb\"></span>\n",
       "</code></pre></div>\n",
       "</span>\n",
       "<hr>"
      ],
      "text/plain": [
       "<IPython.core.display.HTML object>"
      ]
     },
     "metadata": {},
     "output_type": "display_data"
    }
   ],
   "source": [
    "presetManager.showPresets('*', full=True)\n"
   ]
  },
  {
   "cell_type": "code",
   "execution_count": 3,
   "id": "7c60100b-f6de-438c-ad2a-c4102ba3751b",
   "metadata": {},
   "outputs": [
    {
     "data": {
      "text/html": [
       "Preset: <b>sqr</b> - <span style=\"color:#909090\"><i>square wave with optional filtering</i></span><br>\n",
       "<ul>\n",
       "<li>kcutoff: filter cutoff frequency</li>\n",
       "<li>kresonance: resonance of the filter</li>\n",
       "</ul>\n",
       "<code>  <span style=\"color:#BBBBBB;font-size:92%\">(hasRouting=True)\n",
       "</span></code>\n",
       "<span style=\"font-size:92%\"><div class=\"highlight\" style=\"background: #f8f8f8\"><pre style=\"line-height: 125%;\"><span></span><code><span style=\"color: #bbbbbb\">  </span><span style=\"color: #666666\">|</span><span style=\"color: #B00040\">k</span>transp<span style=\"color: #666666\">=0.0</span>,<span style=\"color: #bbbbbb\"> </span><span style=\"color: #B00040\">k</span>lag<span style=\"color: #666666\">=0.1</span>,<span style=\"color: #bbbbbb\"> </span><span style=\"color: #B00040\">k</span>cutoff<span style=\"color: #666666\">=0.0</span>,<span style=\"color: #bbbbbb\"> </span><span style=\"color: #B00040\">k</span>resonance<span style=\"color: #666666\">=0.2|</span><span style=\"color: #bbbbbb\"></span>\n",
       "</code></pre></div>\n",
       "</span>\n",
       "<span style=\"font-size:92%\"><div class=\"highlight\" style=\"background: #f8f8f8\"><pre style=\"line-height: 125%;\"><span></span><code><span style=\"color: #bbbbbb\">  </span><span style=\"color: #3D7B7B; font-style: italic\">; Square wave with optional filtering</span><span style=\"color: #bbbbbb\"></span>\n",
       "<span style=\"color: #bbbbbb\">  </span><span style=\"color: #3D7B7B; font-style: italic\">; Args:</span><span style=\"color: #bbbbbb\"></span>\n",
       "<span style=\"color: #bbbbbb\">  </span><span style=\"color: #3D7B7B; font-style: italic\">;    kcutoff: filter cutoff frequency</span><span style=\"color: #bbbbbb\"></span>\n",
       "<span style=\"color: #bbbbbb\">  </span><span style=\"color: #3D7B7B; font-style: italic\">;    kresonance: resonance of the filter</span><span style=\"color: #bbbbbb\"></span>\n",
       "<span style=\"color: #bbbbbb\">  </span><span style=\"color: #B00040\">a</span>out1<span style=\"color: #bbbbbb\"> </span><span style=\"color: #666666\">=</span><span style=\"color: #bbbbbb\"> </span><span style=\"color: #008000\">vco2</span>(<span style=\"color: #666666\">1</span>,<span style=\"color: #bbbbbb\"> </span><span style=\"color: #008000\">mtof</span>(<span style=\"color: #008000\">lag</span>(<span style=\"color: #B00040\">k</span>pitch<span style=\"color: #666666\">+</span><span style=\"color: #B00040\">k</span>transp,<span style=\"color: #bbbbbb\"> </span><span style=\"color: #B00040\">k</span>lag),<span style=\"color: #bbbbbb\"> </span><span style=\"color: #666666\">10</span>)<span style=\"color: #bbbbbb\"> </span><span style=\"color: #666666\">*</span><span style=\"color: #bbbbbb\"> </span><span style=\"color: #008000\">a</span>(<span style=\"color: #B00040\">k</span>amp)<span style=\"color: #bbbbbb\"></span>\n",
       "<span style=\"color: #bbbbbb\">  </span><span style=\"color: #B00040\">a</span>out1<span style=\"color: #bbbbbb\"> </span><span style=\"color: #666666\">=</span><span style=\"color: #bbbbbb\"> </span><span style=\"color: #B00040\">k</span>cutoff<span style=\"color: #bbbbbb\"> </span><span style=\"color: #666666\">==</span><span style=\"color: #bbbbbb\"> </span><span style=\"color: #666666\">0</span><span style=\"color: #bbbbbb\"> </span><span style=\"color: #666666\">?</span><span style=\"color: #bbbbbb\"> </span><span style=\"color: #B00040\">a</span>out1<span style=\"color: #bbbbbb\"> </span><span style=\"color: #666666\">:</span><span style=\"color: #bbbbbb\"> </span><span style=\"color: #008000\">moogladder</span><span style=\"color: #bbbbbb\"> </span><span style=\"color: #B00040\">a</span>out1,<span style=\"color: #bbbbbb\"> </span><span style=\"color: #008000\">lag</span>(<span style=\"color: #B00040\">k</span>cutoff,<span style=\"color: #bbbbbb\"> </span><span style=\"color: #666666\">0.1</span>),<span style=\"color: #bbbbbb\"> </span><span style=\"color: #B00040\">k</span>resonance<span style=\"color: #bbbbbb\"></span>\n",
       "</code></pre></div>\n",
       "</span>"
      ],
      "text/plain": [
       "Preset: sqr  (square wave with optional filtering)\n",
       "    hasRouting=True\n",
       "  |ktransp=0.0, klag=0.1, kcutoff=0.0, kresonance=0.2|\n",
       "  ; Square wave with optional filtering\n",
       "  ; Args:\n",
       "  ;    kcutoff: filter cutoff frequency\n",
       "  ;    kresonance: resonance of the filter\n",
       "  aout1 = vco2(1, mtof(lag(kpitch+ktransp, klag), 10) * a(kamp)\n",
       "  aout1 = kcutoff == 0 ? aout1 : moogladder aout1, lag(kcutoff, 0.1), kresonance"
      ]
     },
     "execution_count": 3,
     "metadata": {},
     "output_type": "execute_result"
    }
   ],
   "source": [
    "presetManager"
   ]
  },
  {
   "cell_type": "code",
   "execution_count": 2,
   "id": "6d991f35-b48b-40d8-a49a-2a18b44619a1",
   "metadata": {},
   "outputs": [
    {
     "name": "stderr",
     "output_type": "stream",
     "text": [
      "\n",
      "\n",
      "--Csound version 6.18 (double samples) Oct  1 2022\n",
      "[commit: ac38f27d1c5d6ee0cacc1bc719e96be3a2d93a15]\n",
      "\u001b[mlibsndfile-1.0.31\n",
      "\u001b[msr = 44100.0,\u001b[m kr = 689.062,\u001b[m ksmps = 64\n",
      "\u001b[m0dBFS level = 1.0,\u001b[m A4 tuning = 442.0\n",
      "\u001b[maudio buffered in 256 sample-frame blocks\n",
      "\u001b[mreading 1024-byte blks of shorts from adc:system:capture (RAW)\n",
      "writing 512 sample blks of 64-bit floats to dac:system:playback\n",
      "SECTION 1:\n",
      "\u001b[m"
     ]
    }
   ],
   "source": [
    "e = playEngine(latency=0)\n",
    "s = e.session()"
   ]
  },
  {
   "cell_type": "code",
   "execution_count": 9,
   "id": "9b400b32-0495-490b-8586-d3c54bd6b282",
   "metadata": {},
   "outputs": [],
   "source": [
    "foo = defPreset('foo', r'''\n",
    "|ibusL, ibusR|\n",
    "prints \"ibusL: %d, ibusR: %d\\n\", ibusL, ibusR\n",
    "aout1 vco2 kamp, kfreq\n",
    "aout2 vco2 kamp, kfreq+4\n",
    "\n",
    "busout ibusL, aout1\n",
    "busout ibusR, aout2\n",
    "''', routing=False)"
   ]
  },
  {
   "cell_type": "code",
   "execution_count": 10,
   "id": "a9287dc4-7602-47d0-ae07-7860e7950b45",
   "metadata": {},
   "outputs": [
    {
     "data": {
      "text/html": [
       "Instr <strong style=\"color:MediumSeaGreen\">master</strong><br>\n",
       "<hr style=\"width:38%;text-align:left;margin-left:0\">\n",
       "<span style=\"font-size:90%\"><div class=\"highlight\" style=\"background: #f8f8f8\"><pre style=\"line-height: 125%;\"><span></span><code><span style=\"color: #B00040\">i</span>busL<span style=\"color: #bbbbbb\"> </span><span style=\"color: #666666\">=</span><span style=\"color: #bbbbbb\"> </span><span style=\"color: #19177C\">p5</span><span style=\"color: #bbbbbb\"></span>\n",
       "<span style=\"color: #B00040\">i</span>busR<span style=\"color: #bbbbbb\"> </span><span style=\"color: #666666\">=</span><span style=\"color: #bbbbbb\"> </span><span style=\"color: #19177C\">p6</span><span style=\"color: #bbbbbb\"></span>\n",
       "<span style=\"color: #B00040\">a</span>L<span style=\"color: #bbbbbb\"> </span>busin<span style=\"color: #bbbbbb\"> </span><span style=\"color: #B00040\">i</span>busL<span style=\"color: #bbbbbb\"></span>\n",
       "<span style=\"color: #B00040\">a</span>R<span style=\"color: #bbbbbb\"> </span>busin<span style=\"color: #bbbbbb\"> </span><span style=\"color: #B00040\">i</span>busR<span style=\"color: #bbbbbb\"></span>\n",
       "<span style=\"color: #008000\">outch</span><span style=\"color: #bbbbbb\"> </span><span style=\"color: #666666\">1</span>,<span style=\"color: #bbbbbb\"> </span><span style=\"color: #B00040\">a</span>L,<span style=\"color: #bbbbbb\"> </span><span style=\"color: #666666\">2</span>,<span style=\"color: #bbbbbb\"> </span><span style=\"color: #B00040\">a</span>R<span style=\"color: #bbbbbb\"></span>\n",
       "</code></pre></div>\n",
       "</span>"
      ],
      "text/plain": [
       "Instr(master, ibusL:5=0, ibusR:6=0)"
      ]
     },
     "execution_count": 10,
     "metadata": {},
     "output_type": "execute_result"
    }
   ],
   "source": [
    "busL = s.assignBus()\n",
    "busR = s.assignBus()\n",
    "\n",
    "s.defInstr('master', r'''\n",
    "    |ibusL, ibusR|\n",
    "    aL busin ibusL\n",
    "    aR busin ibusR\n",
    "    outch 1, aL, 2, aR\n",
    "    ''')"
   ]
  },
  {
   "cell_type": "code",
   "execution_count": 11,
   "id": "a790ff94-593c-47c3-b904-87f27ee13200",
   "metadata": {},
   "outputs": [],
   "source": [
    "master = s.sched('master', args=dict(ibusL=busL, ibusR=busR), priority=2)"
   ]
  },
  {
   "cell_type": "code",
   "execution_count": 15,
   "id": "07923c11-5263-4a83-9cfc-baf6765cee26",
   "metadata": {},
   "outputs": [
    {
     "name": "stderr",
     "output_type": "stream",
     "text": [
      "ibusL: 0, ibusR: 1\n",
      "\u001b[m"
     ]
    },
    {
     "data": {
      "application/vnd.jupyter.widget-view+json": {
       "model_id": "e819d9fb1c4548d18e7058638284b497",
       "version_major": 2,
       "version_minor": 0
      },
      "text/plain": [
       "Button(description='Stop', style=ButtonStyle())"
      ]
     },
     "metadata": {},
     "output_type": "display_data"
    },
    {
     "data": {
      "application/vnd.jupyter.widget-view+json": {
       "model_id": "3511e13203cc4578bd6b4848019649c7",
       "version_major": 2,
       "version_minor": 0
      },
      "text/plain": [
       "Output()"
      ]
     },
     "metadata": {},
     "output_type": "display_data"
    },
    {
     "data": {
      "text/html": [
       "<small>SynthGroup - start: 0.000, dur: 9.948, synths: 1</small>\n",
       "<p>instr: <strong style=\"color:MediumSeaGreen\">preset.foo</strong> - <b>1</b> synths</p>\n",
       "<table><thead><tr><th style=\"text-align:left\">p1</th><th style=\"text-align:left\">start</th><th style=\"text-align:left\">dur</th><th style=\"text-align:left\">4</th><th style=\"text-align:left\">5:idataidx_</th><th style=\"text-align:left\">6:inumbps</th><th style=\"text-align:left\">7:ibplen</th><th style=\"text-align:left\">8:igain_</th><th style=\"text-align:left\">9:ichan</th><th style=\"text-align:left\">10:ipos</th><th style=\"text-align:left\">11:ifadein</th><th style=\"text-align:left\">12:ifadeout</th><th style=\"text-align:left\">13:ipchintrp_</th><th style=\"text-align:left\">14:ifadekind_</th><th style=\"text-align:left\">15:ibusL</th><th style=\"text-align:left\">16:ibusR</th><th style=\"text-align:left\">...</th></tr></thead><tbody><tr><td style=\"text-align:left\">502.0005 <b>▶</b></td><td style=\"text-align:left\">-0.052</td><td style=\"text-align:left\">10.000</td><td style=\"text-align:left\">0</td><td style=\"text-align:left\">17</td><td style=\"text-align:left\">2</td><td style=\"text-align:left\">3</td><td style=\"text-align:left\">0.1</td><td style=\"text-align:left\">1</td><td style=\"text-align:left\">-1</td><td style=\"text-align:left\">0.02</td><td style=\"text-align:left\">0.02</td><td style=\"text-align:left\">0</td><td style=\"text-align:left\">1</td><td style=\"text-align:left\">0</td><td style=\"text-align:left\">...</td></tr></tbody></table>"
      ],
      "text/plain": [
       "SynthGroup(n=1)\n",
       "    Synth(▶ preset.foo:502.0005, p4=0 idataidx_:5=17 inumbps:6=2 ibplen:7=3 igain_:8=0.1 ichan:9=1 ipos:10=-1 ifadein:11=0.02 ifadeout:12=0.02 ipchintrp_:13=0 ifadekind_:14=1 ibusL:15=0 ibusR:16=1 ...)"
      ]
     },
     "execution_count": 15,
     "metadata": {},
     "output_type": "execute_result"
    }
   ],
   "source": [
    "Note(60.5, 10).play(instr='foo', gain=0.1, ibusL=busL, ibusR=busR)"
   ]
  },
  {
   "cell_type": "code",
   "execution_count": 7,
   "id": "9247b031-e1fd-4377-aa52-366fad3a18b7",
   "metadata": {},
   "outputs": [],
   "source": [
    "master.stop()"
   ]
  },
  {
   "cell_type": "code",
   "execution_count": 3,
   "id": "68ebdac5-107d-4ad4-90a5-05e9106e6ec3",
   "metadata": {},
   "outputs": [],
   "source": [
    "foo = s.defInstr('foo', r'''\n",
    "    |itime, Sfoo|\n",
    "    ielapsed elapsedtime\n",
    "    prints \"Sfoo: %s, itime: %f, ielapsed: %f, diff: %f\\n\", Sfoo, itime, ielapsed, ielapsed - itime \n",
    "    turnoff\n",
    "''', priority=1)"
   ]
  },
  {
   "cell_type": "code",
   "execution_count": 8,
   "id": "a8aeb2e8-bf51-4766-9f5d-ef989c1a4c9b",
   "metadata": {},
   "outputs": [
    {
     "name": "stderr",
     "output_type": "stream",
     "text": [
      "Sfoo: bar, itime: 18.031746, ielapsed: 18.030295, diff: -0.001451\n",
      "\u001b[m"
     ]
    },
    {
     "data": {
      "application/vnd.jupyter.widget-view+json": {
       "model_id": "801261dedfcc414fb33291a199ad0626",
       "version_major": 2,
       "version_minor": 0
      },
      "text/plain": [
       "Button(description='Stop', style=ButtonStyle())"
      ]
     },
     "metadata": {},
     "output_type": "display_data"
    },
    {
     "data": {
      "application/vnd.jupyter.widget-view+json": {
       "model_id": "56b14850215f421a8a205976a37ab79d",
       "version_major": 2,
       "version_minor": 0
      },
      "text/plain": [
       "Output()"
      ]
     },
     "metadata": {},
     "output_type": "display_data"
    },
    {
     "data": {
      "text/html": [
       "<p><span style=\"font-size:12px;\">Synth(■ <strong style=\"color:MediumSeaGreen\">foo</strong>:501.0006, <span style=\"font-size:12px;\"><b>4</b>=<code>0</code> <b>itime</b>:5=<code>18.0317</code> <b>Sfoo</b>:6=<code>bar</code></span>)</span></p>"
      ],
      "text/plain": [
       "Synth(▶ foo:501.0006, p4=0 itime:5=18.0317 Sfoo:6=bar)"
      ]
     },
     "execution_count": 8,
     "metadata": {},
     "output_type": "execute_result"
    }
   ],
   "source": [
    "s.sched(\"foo\", 0, 1, args={'Sfoo': 'bar', 'itime': e.elapsedTime()})"
   ]
  },
  {
   "cell_type": "code",
   "execution_count": 19,
   "id": "443b8a6b-44e7-4143-8cdc-016d4d28b3a0",
   "metadata": {},
   "outputs": [
    {
     "data": {
      "text/plain": [
       "0.2"
      ]
     },
     "execution_count": 19,
     "metadata": {},
     "output_type": "execute_result"
    }
   ],
   "source": [
    "e.extraLatency"
   ]
  },
  {
   "cell_type": "code",
   "execution_count": 5,
   "id": "9300a34a-1632-472c-8a26-1599074e6729",
   "metadata": {},
   "outputs": [
    {
     "data": {
      "text/plain": [
       "{'cos': 20, 'linear': 21, 'smooth': 22, 'smoother': 23, 'hola': 24}"
      ]
     },
     "execution_count": 5,
     "metadata": {},
     "output_type": "execute_result"
    }
   ],
   "source": [
    "s.engine._strToIndex"
   ]
  },
  {
   "cell_type": "code",
   "execution_count": 2,
   "id": "a2298f94-93a8-4146-99c0-27b5cdaf39f3",
   "metadata": {},
   "outputs": [],
   "source": [
    "test = s.defInstr('test', r'''\n",
    "    |istrid|\n",
    "    S0 = strget(istrid)\n",
    "    prints \"S0: %s\\n\", S0\n",
    "    turnoff\n",
    "''')"
   ]
  },
  {
   "cell_type": "code",
   "execution_count": 3,
   "id": "dd5303ca-8e21-4c89-873a-4857a6658e02",
   "metadata": {},
   "outputs": [],
   "source": [
    "jiji = s.engine.strSet('jiji')"
   ]
  },
  {
   "cell_type": "code",
   "execution_count": 4,
   "id": "01916b33-6cb5-47c7-9c14-7f161429856e",
   "metadata": {},
   "outputs": [
    {
     "name": "stderr",
     "output_type": "stream",
     "text": [
      "S0: jiji\n",
      "\u001b[m--- dealloc 501.000200\n",
      "\u001b[m"
     ]
    },
    {
     "data": {
      "text/html": [
       "<p><span style=\"font-size:12px;\">Synth(■ <strong style=\"color:MediumSeaGreen\">test</strong>:501.0002, <span style=\"font-size:12px;\"><b>4</b>=<code>0</code> <b>istrid</b>:5=<code>24</code></span>)</span></p>"
      ],
      "text/plain": [
       "Synth(■ test:501.0002, p4=0 istrid:5=24)"
      ]
     },
     "execution_count": 4,
     "metadata": {},
     "output_type": "execute_result"
    }
   ],
   "source": [
    "s.sched('test', 0, 1, pargs={'istrid': jiji})"
   ]
  },
  {
   "cell_type": "code",
   "execution_count": 2,
   "id": "22439003-6926-4ad5-bb1c-154c4b142655",
   "metadata": {},
   "outputs": [
    {
     "name": "stderr",
     "output_type": "stream",
     "text": [
      "\n",
      "\n",
      "--Csound version 6.18 (double samples) Aug 23 2022\n",
      "[commit: a691b9fb3a19ff27df8df4cb44b9c6be0d558fbc]\n",
      "\u001b[mlibsndfile-1.0.31\n",
      "\u001b[msr = 44100.0,\u001b[m kr = 689.062,\u001b[m ksmps = 64\n",
      "\u001b[m0dBFS level = 1.0,\u001b[m A4 tuning = 442.0\n",
      "\u001b[maudio buffered in 256 sample-frame blocks\n",
      "\u001b[mreading 1024-byte blks of shorts from adc:system:capture (RAW)\n",
      "writing 512 sample blks of 64-bit floats to dac:system:playback\n",
      "SECTION 1:\n",
      "\u001b[m"
     ]
    }
   ],
   "source": [
    "e = playEngine()\n",
    "s = e.session()"
   ]
  },
  {
   "cell_type": "code",
   "execution_count": 3,
   "id": "1f3c0bf9-0b3e-41b6-a64e-60d90b2b9674",
   "metadata": {},
   "outputs": [],
   "source": [
    "test = s.defInstr('test', r'''\n",
    "    |ichan=0|\n",
    "    prints \"ichan: %d\\n\", ichan\n",
    "    Schan = \"bar\"\n",
    "    ; Schan strget ichan\n",
    "    prints \"Schan: %s\\n\", Schan\n",
    "    a0 oscili 0.1, 1000\n",
    "    ; chnset a0, Schan\n",
    "''')\n"
   ]
  },
  {
   "cell_type": "code",
   "execution_count": 4,
   "id": "7de85b31-1a61-499b-af93-9b322c562168",
   "metadata": {},
   "outputs": [
    {
     "name": "stdout",
     "output_type": "stream",
     "text": [
      "ichan = p5\n",
      "prints \"ichan: %d\\n\", ichan\n",
      "Schan = \"bar\"\n",
      "; Schan strget ichan\n",
      "prints \"Schan: %s\\n\", Schan\n",
      "a0 oscili 0.1, 1000\n",
      "; chnset a0, Schan\n"
     ]
    }
   ],
   "source": [
    "print(test.body)"
   ]
  },
  {
   "cell_type": "code",
   "execution_count": 16,
   "id": "b403462b-8394-4c56-96a4-954082efacd8",
   "metadata": {},
   "outputs": [
    {
     "data": {
      "text/plain": [
       "24"
      ]
     },
     "execution_count": 16,
     "metadata": {},
     "output_type": "execute_result"
    }
   ],
   "source": [
    "ichan = s.engine.strSet('foo')\n",
    "ichan"
   ]
  },
  {
   "cell_type": "code",
   "execution_count": null,
   "id": "21a97a16-0c0b-458c-9fea-0c8736e9803f",
   "metadata": {},
   "outputs": [],
   "source": [
    "s.sched('test', pargs={'ichan': 0})"
   ]
  },
  {
   "cell_type": "code",
   "execution_count": 3,
   "id": "a2257f41-1a33-4d63-9f69-3565765980d7",
   "metadata": {},
   "outputs": [
    {
     "data": {
      "text/plain": [
       "24.0002"
      ]
     },
     "execution_count": 3,
     "metadata": {},
     "output_type": "execute_result"
    },
    {
     "name": "stderr",
     "output_type": "stream",
     "text": [
      "\n",
      "Testaudio: pink noise mode\n",
      "\u001b[mChannel: 1 / 2\n",
      "\u001b[mChannel: 2 / 2\n",
      "\u001b[mChannel: 1 / 2\n",
      "\u001b[mChannel: 2 / 2\n",
      "\u001b[m"
     ]
    }
   ],
   "source": [
    "e.testAudio()"
   ]
  },
  {
   "cell_type": "code",
   "execution_count": 6,
   "id": "c99ea0c3-23bc-4d3f-b451-0129aa747301",
   "metadata": {},
   "outputs": [],
   "source": [
    "bus = e.assignBus()"
   ]
  },
  {
   "cell_type": "code",
   "execution_count": 7,
   "id": "030dee72-5247-4635-a1e7-2aa32742fc80",
   "metadata": {},
   "outputs": [
    {
     "data": {
      "text/plain": [
       "1"
      ]
     },
     "execution_count": 7,
     "metadata": {},
     "output_type": "execute_result"
    }
   ],
   "source": [
    "bus"
   ]
  },
  {
   "cell_type": "code",
   "execution_count": 2,
   "id": "204da9fe-c2e3-4a25-b34e-292edb157f68",
   "metadata": {},
   "outputs": [
    {
     "name": "stderr",
     "output_type": "stream",
     "text": [
      "\n",
      "\n",
      "--Csound version 6.18 (double samples) Aug 23 2022\n",
      "[commit: a691b9fb3a19ff27df8df4cb44b9c6be0d558fbc]\n",
      "\u001b[mlibsndfile-1.0.31\n",
      "\u001b[msr = 44100.0,\u001b[m kr = 689.062,\u001b[m ksmps = 64\n",
      "\u001b[m0dBFS level = 1.0,\u001b[m A4 tuning = 442.0\n",
      "\u001b[maudio buffered in 256 sample-frame blocks\n",
      "\u001b[mreading 1024-byte blks of shorts from adc:system:capture (RAW)\n",
      "writing 512 sample blks of 64-bit floats to dac:system:playback\n",
      "SECTION 1:\n",
      "\u001b[m"
     ]
    },
    {
     "data": {
      "text/plain": [
       "0"
      ]
     },
     "execution_count": 2,
     "metadata": {},
     "output_type": "execute_result"
    }
   ],
   "source": [
    "e = playEngine()\n",
    "bus = e.assignBus()\n",
    "bus"
   ]
  },
  {
   "cell_type": "code",
   "execution_count": 3,
   "id": "23b54b1d-53d8-410f-b2a7-74db48053a06",
   "metadata": {},
   "outputs": [
    {
     "data": {
      "text/html": [
       "Preset: <b>foo</b> <br>\n",
       "<code>  <span style=\"color:#BBBBBB;font-size:92%\">(hasRouting=False)</span></code>\n",
       "<span style=\"font-size:92%\"><div class=\"highlight\" style=\"background: #f8f8f8\"><pre style=\"line-height: 125%;\"><span></span><code><span style=\"color: #bbbbbb\">  </span><span style=\"color: #666666\">|</span><span style=\"color: #B00040\">i</span>bus<span style=\"color: #666666\">=0.0|</span><span style=\"color: #bbbbbb\"></span>\n",
       "</code></pre></div>\n",
       "</span>\n",
       "<span style=\"font-size:92%\"><div class=\"highlight\" style=\"background: #f8f8f8\"><pre style=\"line-height: 125%;\"><span></span><code><span style=\"color: #bbbbbb\">  </span><span style=\"color: #B00040\">a</span>1<span style=\"color: #bbbbbb\"> </span><span style=\"color: #666666\">=</span><span style=\"color: #bbbbbb\"> </span><span style=\"color: #008000\">oscili</span>(<span style=\"color: #B00040\">k</span>amp<span style=\"color: #666666\">*0.5</span>,<span style=\"color: #bbbbbb\"> </span><span style=\"color: #B00040\">k</span>freq)<span style=\"color: #bbbbbb\"></span>\n",
       "<span style=\"color: #bbbbbb\">  </span><span style=\"color: #B00040\">a</span>2<span style=\"color: #bbbbbb\"> </span><span style=\"color: #666666\">=</span><span style=\"color: #bbbbbb\"> </span><span style=\"color: #008000\">oscili</span>(<span style=\"color: #B00040\">k</span>amp<span style=\"color: #666666\">*0.5</span>,<span style=\"color: #bbbbbb\"> </span><span style=\"color: #B00040\">k</span>freq<span style=\"color: #666666\">+12</span>)<span style=\"color: #bbbbbb\"></span>\n",
       "<span style=\"color: #bbbbbb\">  </span><span style=\"color: #B00040\">a</span>out<span style=\"color: #bbbbbb\"> </span><span style=\"color: #666666\">=</span><span style=\"color: #bbbbbb\"> </span><span style=\"color: #B00040\">a</span>1<span style=\"color: #666666\">+</span><span style=\"color: #B00040\">a</span>2<span style=\"color: #bbbbbb\"></span>\n",
       "<span style=\"color: #bbbbbb\">  </span><span style=\"color: #008000; font-weight: bold\">if</span><span style=\"color: #bbbbbb\"> </span><span style=\"color: #B00040\">i</span>bus<span style=\"color: #bbbbbb\"> </span><span style=\"color: #666666\">&gt;=</span><span style=\"color: #bbbbbb\"> </span><span style=\"color: #666666\">0</span><span style=\"color: #bbbbbb\"> </span><span style=\"color: #008000; font-weight: bold\">then</span><span style=\"color: #bbbbbb\"></span>\n",
       "<span style=\"color: #bbbbbb\">      </span>busout<span style=\"color: #bbbbbb\"> </span><span style=\"color: #B00040\">i</span>bus,<span style=\"color: #bbbbbb\"> </span><span style=\"color: #B00040\">a</span>out<span style=\"color: #bbbbbb\"></span>\n",
       "<span style=\"color: #bbbbbb\">  </span><span style=\"color: #008000; font-weight: bold\">else</span><span style=\"color: #bbbbbb\"></span>\n",
       "<span style=\"color: #bbbbbb\">      </span><span style=\"color: #008000\">outch</span><span style=\"color: #bbbbbb\"> </span><span style=\"color: #666666\">1</span>,<span style=\"color: #bbbbbb\"> </span><span style=\"color: #B00040\">a</span>out<span style=\"color: #bbbbbb\"></span>\n",
       "<span style=\"color: #bbbbbb\">  </span><span style=\"color: #008000; font-weight: bold\">endif</span><span style=\"color: #bbbbbb\"></span>\n",
       "</code></pre></div>\n",
       "</span>"
      ],
      "text/plain": [
       "Preset: foo  \n",
       "    hasRouting=False\n",
       "  |ibus=0.0|\n",
       "  a1 = oscili(kamp*0.5, kfreq)\n",
       "  a2 = oscili(kamp*0.5, kfreq+12)\n",
       "  aout = a1+a2\n",
       "  if ibus >= 0 then\n",
       "      busout ibus, aout\n",
       "  else\n",
       "      outch 1, aout\n",
       "  endif"
      ]
     },
     "execution_count": 3,
     "metadata": {},
     "output_type": "execute_result"
    }
   ],
   "source": [
    "foo = defPreset('foo', audiogen=r'''\n",
    "    |ibus=0|\n",
    "    a1 = oscili(kamp*0.5, kfreq)\n",
    "    a2 = oscili(kamp*0.5, kfreq+12)\n",
    "    aout1 = a1+a2\n",
    "''', out=r'''\n",
    "    replaceout ichan, aout1\n",
    "    busout ibus, aout1\n",
    "    busout \n",
    "''')\n",
    "foo"
   ]
  },
  {
   "cell_type": "code",
   "execution_count": 13,
   "id": "ec0e77e2-123c-4c54-a969-c8d7e849f389",
   "metadata": {},
   "outputs": [
    {
     "name": "stdout",
     "output_type": "stream",
     "text": [
      "\n",
      ";5          6       7      8     9     0    1      2      3          4        \n",
      "idataidx_,inumbps,ibplen,igain_,ichan_,ipos,ifade0,ifade1,ipchintrp_,ifadekind_ passign 5\n",
      "idatalen_ = inumbps * ibplen\n",
      "iArgs[] passign idataidx_, idataidx_ + idatalen_\n",
      "ilastidx = idatalen_ - 1\n",
      "iTimes[]     slicearray iArgs, 0, ilastidx, ibplen\n",
      "iPitches[]   slicearray iArgs, 1, ilastidx, ibplen\n",
      "iAmps[]      slicearray iArgs, 2, ilastidx, ibplen\n",
      "\n",
      "k_time timeinsts\n",
      "\n",
      "if ipchintrp_ == 0 then      \n",
      "    ; linear midi interpolation    \n",
      "    kpitch, kamp bpf k_time, iTimes, iPitches, iAmps\n",
      "    kfreq mtof kpitch\n",
      "elseif (ipchintrp_ == 1) then  ; cos midi interpolation\n",
      "    kidx bisect k_time, iTimes\n",
      "    kpitch interp1d kidx, iPitches, \"cos\"\n",
      "    kamp interp1d kidx, iAmps, \"cos\"\n",
      "    kfreq mtof kpitch\n",
      "elseif (ipchintrp_ == 2) then  ; linear freq interpolation\n",
      "    iFreqs[] mtof iPitches\n",
      "    kfreq, kamp bpf k_time, iTimes, iFreqs, iAmps\n",
      "    kpitch ftom kfreq\n",
      "elseif (ipchintrp_ == 3) then  ; cos freq interpolation\n",
      "    kidx bisect k_time, iTimes\n",
      "    kfreq interp1d kidx, iFreqs, \"cos\"\n",
      "    kamp interp1d kidx, iAmps, \"cos\"\n",
      "    kpitch ftom kfreq\n",
      "endif\n",
      "\n",
      "ifade0 = max:i(ifade0, 1/kr)\n",
      "ifade1 = max:i(ifade1, 1/kr)\n",
      "\n",
      "if (ifadekind_ == 0) then\n",
      "    aenv_ linsegr 0, ifade0, igain_, ifade1, 0\n",
      "elseif (ifadekind_ == 1) then\n",
      "    aenv_ cosseg 0, ifade0, igain_, p3-ifade0-ifade1, igain_, ifade1, 0\n",
      "    aenv_ *= linenr:a(1, 0, ifade1, 0.01)\n",
      "elseif (ifadekind_ == 2) then\n",
      "    aenv_ transeg 0, ifade0*.5, 2, igain_*0.5, ifade0*.5, -2, igain_, p3-ifade0-ifade1, igain_, 1, ifade1*.5, 2, igain_*0.5, ifade1*.5, -2, 0 \t\n",
      "    aenv_ *= linenr:a(1, 0, ifade1, 0.01)\n",
      "endif\n",
      "\n",
      "a1 = oscili(kamp*0.5, kfreq)\n",
      "a2 = oscili(kamp*0.5, kfreq+12)\n",
      "aout = a1+a2\n",
      "if ibus >= 0 then\n",
      "    busout ibus, aout\n",
      "else\n",
      "    outch 1, aout\n",
      "endif\n",
      "\n",
      "\n",
      "\n",
      "\n",
      "\n",
      "\n",
      "    \n"
     ]
    }
   ],
   "source": [
    "print(foo.body)"
   ]
  },
  {
   "cell_type": "code",
   "execution_count": 10,
   "id": "4f01ccbb-2791-472c-9eb1-4fd5afec3b4c",
   "metadata": {},
   "outputs": [
    {
     "data": {
      "application/vnd.jupyter.widget-view+json": {
       "model_id": "303ad631c55c4ff7aded58f7a063065a",
       "version_major": 2,
       "version_minor": 0
      },
      "text/plain": [
       "Button(description='Stop', style=ButtonStyle())"
      ]
     },
     "metadata": {},
     "output_type": "display_data"
    },
    {
     "data": {
      "application/vnd.jupyter.widget-view+json": {
       "model_id": "bf0dd49760614406804fa99a3f05f6ea",
       "version_major": 2,
       "version_minor": 0
      },
      "text/plain": [
       "Output()"
      ]
     },
     "metadata": {},
     "output_type": "display_data"
    },
    {
     "data": {
      "text/html": [
       "<small>SynthGroup - start: 0.148, dur: 1000.000, synths: 1</small>\n",
       "<p>instr: <strong style=\"color:MediumSeaGreen\">preset.foo</strong> - <b>1</b> synths</p>\n",
       "<table><thead><tr><th style=\"text-align:left\">p1</th><th style=\"text-align:left\">start</th><th style=\"text-align:left\">dur</th><th style=\"text-align:left\">4</th><th style=\"text-align:left\">5:idataidx_</th><th style=\"text-align:left\">6:inumbps</th><th style=\"text-align:left\">7:ibplen</th><th style=\"text-align:left\">8:igain_</th><th style=\"text-align:left\">9:ichan_</th><th style=\"text-align:left\">10:ipos</th><th style=\"text-align:left\">11:ifade0</th><th style=\"text-align:left\">12:ifade1</th><th style=\"text-align:left\">13:ipchintrp_</th><th style=\"text-align:left\">14:ifadekind_</th><th style=\"text-align:left\">15:ibus</th><th style=\"text-align:left\">16</th><th style=\"text-align:left\">...</th></tr></thead><tbody><tr><td style=\"text-align:left\">501.0006 <b>𝍪</b></td><td style=\"text-align:left\">0.148</td><td style=\"text-align:left\">1000.000</td><td style=\"text-align:left\">0</td><td style=\"text-align:left\">16</td><td style=\"text-align:left\">2</td><td style=\"text-align:left\">3</td><td style=\"text-align:left\">1</td><td style=\"text-align:left\">1</td><td style=\"text-align:left\">-1</td><td style=\"text-align:left\">0.05</td><td style=\"text-align:left\">0.05</td><td style=\"text-align:left\">0</td><td style=\"text-align:left\">1</td><td style=\"text-align:left\">0</td><td style=\"text-align:left\">...</td></tr></tbody></table>"
      ],
      "text/plain": [
       "SynthGroup(n=1)\n",
       "    Synth(𝍪 preset.foo:501.0006, p4=0 idataidx_:5=16 inumbps:6=2 ibplen:7=3 igain_:8=1 ichan_:9=1 ipos:10=-1 ifade0:11=0.05 ifade1:12=0.05 ipchintrp_:13=0 ifadekind_:14=1 ibus:15=0 p16=0 ...)"
      ]
     },
     "execution_count": 10,
     "metadata": {},
     "output_type": "execute_result"
    }
   ],
   "source": [
    "Note(60, 1000).play(instr='foo', fade=0.05, params={'ibus': bus})"
   ]
  },
  {
   "cell_type": "code",
   "execution_count": 7,
   "id": "bd12e2d0-4792-40cf-8d1f-aaf315674707",
   "metadata": {},
   "outputs": [
    {
     "data": {
      "text/html": [
       "Instr <strong style=\"color:MediumSeaGreen\">master</strong><br>\n",
       "<div class=\"highlight\" style=\"background: #f8f8f8\"><pre style=\"line-height: 125%;\"><span></span><code><span style=\"color: #B00040\">i</span>bus<span style=\"color: #bbbbbb\"> </span><span style=\"color: #666666\">=</span><span style=\"color: #bbbbbb\"> </span><span style=\"color: #19177C\">p5</span><span style=\"color: #bbbbbb\"></span>\n",
       "<span style=\"color: #B00040\">a</span>0<span style=\"color: #bbbbbb\"> </span><span style=\"color: #666666\">=</span><span style=\"color: #bbbbbb\"> </span>busin(<span style=\"color: #B00040\">i</span>bus)<span style=\"color: #bbbbbb\"></span>\n",
       "<span style=\"color: #008000\">outch</span><span style=\"color: #bbbbbb\"> </span><span style=\"color: #666666\">1</span>,<span style=\"color: #bbbbbb\"> </span><span style=\"color: #B00040\">a</span>0<span style=\"color: #bbbbbb\"></span>\n",
       "</code></pre></div>\n"
      ],
      "text/plain": [
       "Instr(master, ibus:5=0)"
      ]
     },
     "execution_count": 7,
     "metadata": {},
     "output_type": "execute_result"
    }
   ],
   "source": [
    "s = e.session()\n",
    "s.defInstr('master', r'''\n",
    "    |ibus|\n",
    "    a0 = busin(ibus)\n",
    "    outch 1, a0\n",
    "''')"
   ]
  },
  {
   "cell_type": "code",
   "execution_count": 8,
   "id": "9c7bee2c-38d5-45c7-aac9-f07e9be84199",
   "metadata": {},
   "outputs": [
    {
     "data": {
      "text/html": [
       "<p><span style=\"font-size:12px;\">Synth(𝍪 <strong style=\"color:MediumSeaGreen\">master</strong>:1001.0002, <span style=\"font-size:12px;\"><b>4</b>=<code>0</code> <b>ibus</b>:5=<code>0</code></span>)</span></p>"
      ],
      "text/plain": [
       "Synth(𝍪 master:1001.0002, p4=0 ibus:5=0)"
      ]
     },
     "execution_count": 8,
     "metadata": {},
     "output_type": "execute_result"
    }
   ],
   "source": [
    "s.sched('master', priority=2)"
   ]
  },
  {
   "cell_type": "code",
   "execution_count": 12,
   "id": "47532ed0-507a-4696-b88f-24a8553ee357",
   "metadata": {},
   "outputs": [
    {
     "data": {
      "application/vnd.jupyter.widget-view+json": {
       "model_id": "82627839e55743479f5e912e5bb9c914",
       "version_major": 2,
       "version_minor": 0
      },
      "text/plain": [
       "Button(description='Stop', style=ButtonStyle())"
      ]
     },
     "metadata": {},
     "output_type": "display_data"
    },
    {
     "data": {
      "application/vnd.jupyter.widget-view+json": {
       "model_id": "4cb64899eb7440988144f4456a5a0930",
       "version_major": 2,
       "version_minor": 0
      },
      "text/plain": [
       "Output()"
      ]
     },
     "metadata": {},
     "output_type": "display_data"
    },
    {
     "data": {
      "text/html": [
       "<p><span style=\"font-size:12px;\">Synth(▶ <strong style=\"color:MediumSeaGreen\">post</strong>:2001.0002, <span style=\"font-size:12px;\"><b>4</b>=<code>0</code> <b>ibus</b>:5=<code>0</code></span>)</span></p>"
      ],
      "text/plain": [
       "Synth(▶ post:2001.0002, p4=0 ibus:5=0)"
      ]
     },
     "execution_count": 12,
     "metadata": {},
     "output_type": "execute_result"
    }
   ],
   "source": [
    "post"
   ]
  },
  {
   "cell_type": "code",
   "execution_count": 15,
   "id": "03c6560c-6bdd-4400-8ce9-174b618362f3",
   "metadata": {},
   "outputs": [
    {
     "data": {
      "application/vnd.jupyter.widget-view+json": {
       "model_id": "865510b79db14cc7b56c151c739d0060",
       "version_major": 2,
       "version_minor": 0
      },
      "text/plain": [
       "Button(description='Stop', style=ButtonStyle())"
      ]
     },
     "metadata": {},
     "output_type": "display_data"
    },
    {
     "data": {
      "application/vnd.jupyter.widget-view+json": {
       "model_id": "299f1da1eaec4981808af0f3d0ab9a43",
       "version_major": 2,
       "version_minor": 0
      },
      "text/plain": [
       "Output()"
      ]
     },
     "metadata": {},
     "output_type": "display_data"
    },
    {
     "data": {
      "text/html": [
       "<small>SynthGroup - start: 0.154, dur: 10.000, synths: 1</small>\n",
       "<p>instr: <strong style=\"color:MediumSeaGreen\">preset.foo</strong> - <b>1</b> synths</p>\n",
       "<table><thead><tr><th style=\"text-align:left\">p1</th><th style=\"text-align:left\">start</th><th style=\"text-align:left\">dur</th><th style=\"text-align:left\">4</th><th style=\"text-align:left\">5:idataidx_</th><th style=\"text-align:left\">6:inumbps</th><th style=\"text-align:left\">7:ibplen</th><th style=\"text-align:left\">8:igain_</th><th style=\"text-align:left\">9:ichan_</th><th style=\"text-align:left\">10:ipos</th><th style=\"text-align:left\">11:ifade0</th><th style=\"text-align:left\">12:ifade1</th><th style=\"text-align:left\">13:ipchintrp_</th><th style=\"text-align:left\">14:ifadekind_</th><th style=\"text-align:left\">15:ibus</th><th style=\"text-align:left\">16</th><th style=\"text-align:left\">...</th></tr></thead><tbody><tr><td style=\"text-align:left\">1001.0002 <b>𝍪</b></td><td style=\"text-align:left\">0.154</td><td style=\"text-align:left\">10.000</td><td style=\"text-align:left\">0</td><td style=\"text-align:left\">16</td><td style=\"text-align:left\">2</td><td style=\"text-align:left\">3</td><td style=\"text-align:left\">1</td><td style=\"text-align:left\">1</td><td style=\"text-align:left\">-1</td><td style=\"text-align:left\">0.02</td><td style=\"text-align:left\">0.02</td><td style=\"text-align:left\">0</td><td style=\"text-align:left\">1</td><td style=\"text-align:left\">0</td><td style=\"text-align:left\">...</td></tr></tbody></table>"
      ],
      "text/plain": [
       "SynthGroup(n=1)\n",
       "    Synth(𝍪 preset.foo:1001.0002, p4=0 idataidx_:5=16 inumbps:6=2 ibplen:7=3 igain_:8=1 ichan_:9=1 ipos:10=-1 ifade0:11=0.02 ifade1:12=0.02 ipchintrp_:13=0 ifadekind_:14=1 ibus:15=0 p16=0 ...)"
      ]
     },
     "execution_count": 15,
     "metadata": {},
     "output_type": "execute_result"
    },
    {
     "name": "stderr",
     "output_type": "stream",
     "text": [
      "Csound tidy up: Segmentation fault\n"
     ]
    }
   ],
   "source": [
    "Note(72, dur=10).play(instr='foo', params=dict(ibus=busnum))\n"
   ]
  },
  {
   "cell_type": "code",
   "execution_count": null,
   "id": "8484f098-00ee-45ad-89bd-3376a427837a",
   "metadata": {},
   "outputs": [],
   "source": []
  }
 ],
 "metadata": {
  "kernelspec": {
   "display_name": "Python 3 (ipykernel)",
   "language": "python",
   "name": "python3"
  },
  "language_info": {
   "codemirror_mode": {
    "name": "ipython",
    "version": 3
   },
   "file_extension": ".py",
   "mimetype": "text/x-python",
   "name": "python",
   "nbconvert_exporter": "python",
   "pygments_lexer": "ipython3",
   "version": "3.10.7"
  }
 },
 "nbformat": 4,
 "nbformat_minor": 5
}
