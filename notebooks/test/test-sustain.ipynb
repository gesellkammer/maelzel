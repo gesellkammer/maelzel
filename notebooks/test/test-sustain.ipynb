{
 "cells": [
  {
   "cell_type": "code",
   "execution_count": 1,
   "id": "2c602f19-bfba-4d73-8780-2e68f2f0fc93",
   "metadata": {},
   "outputs": [],
   "source": [
    "from maelzel.core import *"
   ]
  },
  {
   "cell_type": "code",
   "execution_count": 2,
   "id": "8a7601d6-4cc9-4b63-b684-bbcd55bf7264",
   "metadata": {},
   "outputs": [
    {
     "name": "stderr",
     "output_type": "stream",
     "text": [
      "\n",
      "\n",
      "\n",
      "--Csound version 6.19 (double samples) Jan 13 2024\n",
      "[commit: c53556fbbb69d14554a4a4bd91efa441a1701d70]\n",
      "\u001b[mlibsndfile-1.2.0\n",
      "\u001b[msr = 44100.0,\u001b[m kr = 689.062,\u001b[m ksmps = 64\n",
      "\u001b[m0dBFS level = 1.0,\u001b[m A4 tuning = 442.0\n",
      "\u001b[maudio buffered in 256 sample-frame blocks\n",
      "\u001b[mreading 2048-byte blks of shorts from adc:Built-in Audio Pro: (RAW)\n",
      "writing 512 sample blks of 64-bit floats to dac:Built-in Audio Pro:\n",
      "SECTION 1:\n",
      "\u001b[m"
     ]
    },
    {
     "data": {
      "application/vnd.jupyter.widget-view+json": {
       "model_id": "253d3e03e5cb4d0082fa319f63357d22",
       "version_major": 2,
       "version_minor": 0
      },
      "text/plain": [
       "Button(description='Stop', style=ButtonStyle())"
      ]
     },
     "metadata": {},
     "output_type": "display_data"
    },
    {
     "data": {
      "application/vnd.jupyter.widget-view+json": {
       "model_id": "e5c31af89b9d4af3a5e191b8082063d3",
       "version_major": 2,
       "version_minor": 0
      },
      "text/plain": [
       "Output()"
      ]
     },
     "metadata": {},
     "output_type": "display_data"
    },
    {
     "data": {
      "text/html": [
       "<small><span style=\"\"><b>SynthGroup</b></span>(synths=<code style=\"\">1</code>)</small>\n",
       "<p><small>Instr: <strong style=\"color:MediumSeaGreen\">preset:sin</strong> - <b>1</b> synths</small></p>\n",
       "<table style=\"font-size: smaller\"<thead><tr><th style=\"text-align:left\">p1</th><th style=\"text-align:left\">start</th><th style=\"text-align:left\">dur</th><th style=\"text-align:left\">p4</th><th style=\"text-align:left\">kpos</th><th style=\"text-align:left\">kgain</th><th style=\"text-align:left\">idataidx_</th><th style=\"text-align:left\">inumbps</th><th style=\"text-align:left\">ibplen</th><th style=\"text-align:left\">ichan</th><th style=\"text-align:left\">ifadein</th><th style=\"text-align:left\">ifadeout</th><th style=\"text-align:left\">ipchintrp_</th><th style=\"text-align:left\">ifadekind</th><th style=\"text-align:left\">ktransp</th><th style=\"text-align:left\">klag</th><th style=\"text-align:left\">17</th><th style=\"text-align:left\">18</th><th style=\"text-align:left\">19</th><th style=\"text-align:left\">20</th><th style=\"text-align:left\">21</th><th style=\"text-align:left\">...</th></tr></thead><tbody><tr><td style=\"text-align:left\">501.0002 <b>𝍪</b></td><td style=\"text-align:left\">0.039</td><td style=\"text-align:left\">2.000</td><td style=\"text-align:left\">0</td><td style=\"text-align:left\">0.5</td><td style=\"text-align:left\">1</td><td style=\"text-align:left\">17</td><td style=\"text-align:left\">3</td><td style=\"text-align:left\">3</td><td style=\"text-align:left\">1</td><td style=\"text-align:left\">0.02</td><td style=\"text-align:left\">0.02</td><td style=\"text-align:left\">0</td><td style=\"text-align:left\">1</td><td style=\"text-align:left\">0</td><td style=\"text-align:left\">0.1</td><td style=\"text-align:left\">0</td><td style=\"text-align:left\">60</td><td style=\"text-align:left\">0.51518</td><td style=\"text-align:left\">1</td><td style=\"text-align:left\">...</td></tr></tbody></table>"
      ],
      "text/plain": [
       "SynthGroup(n=1)\n",
       "    Synth(𝍪 preset:sin=501.0002 start=0.796 dur=2.000 p4=0.5 kpos=1 kgain=17 idataidx_=3 inumbps=3 ibplen=1 ichan=0.02 ifadein=0.02 ifadeout=0 ipchintrp_=1 ifadekind=0 ktransp=0.1 klag=0 p17=60 p18=0.515178 p19=1 p20=60 …)"
      ]
     },
     "execution_count": 2,
     "metadata": {},
     "output_type": "execute_result"
    }
   ],
   "source": [
    "n = Note(60, 1)\n",
    "n.play(sustain=1)"
   ]
  },
  {
   "cell_type": "code",
   "execution_count": 3,
   "id": "54105991-9ea2-44a5-b2e7-73c633183b9a",
   "metadata": {},
   "outputs": [
    {
     "data": {
      "text/plain": [
       "[SynthEvent(delay=0, dur=0.5, instr=sin, gain=1, chan=1, fade=(0.02, 0.02), sustain=2, position=0.5, bps=‹0.0s 60 0.515178; 0.5s 60 0.515178›),\n",
       " SynthEvent(delay=0.5, dur=0.5, instr=sin, gain=1, chan=1, fade=(0.02, 0.02), sustain=2, position=0.5, bps=‹0.0s 62 0.515178; 0.5s 62 0.515178›)]"
      ]
     },
     "execution_count": 3,
     "metadata": {},
     "output_type": "execute_result"
    }
   ],
   "source": [
    "ch = Chain([\n",
    "    \"4C:1/2\",\n",
    "    \"4D:1/2\"\n",
    "])\n",
    "ch.synthEvents(sustain=2)"
   ]
  },
  {
   "cell_type": "code",
   "execution_count": 4,
   "id": "4970428a-aeef-4971-83c2-fbec3952379b",
   "metadata": {},
   "outputs": [
    {
     "data": {
      "application/vnd.jupyter.widget-view+json": {
       "model_id": "4a83b723e17840bab287414dab76bb7e",
       "version_major": 2,
       "version_minor": 0
      },
      "text/plain": [
       "Button(description='Stop', style=ButtonStyle())"
      ]
     },
     "metadata": {},
     "output_type": "display_data"
    },
    {
     "data": {
      "application/vnd.jupyter.widget-view+json": {
       "model_id": "9d3765cb05b24172a01bc3aea0b3d161",
       "version_major": 2,
       "version_minor": 0
      },
      "text/plain": [
       "Output()"
      ]
     },
     "metadata": {},
     "output_type": "display_data"
    },
    {
     "data": {
      "text/html": [
       "<small><span style=\"\"><b>SynthGroup</b></span>(synths=<code style=\"\">2</code>)</small>\n",
       "<p><small>Instr: <strong style=\"color:MediumSeaGreen\">preset:sin</strong> - <b>2</b> synths</small></p>\n",
       "<table style=\"font-size: smaller\"<thead><tr><th style=\"text-align:left\">p1</th><th style=\"text-align:left\">start</th><th style=\"text-align:left\">dur</th><th style=\"text-align:left\">p4</th><th style=\"text-align:left\">kpos</th><th style=\"text-align:left\">kgain</th><th style=\"text-align:left\">idataidx_</th><th style=\"text-align:left\">inumbps</th><th style=\"text-align:left\">ibplen</th><th style=\"text-align:left\">ichan</th><th style=\"text-align:left\">ifadein</th><th style=\"text-align:left\">ifadeout</th><th style=\"text-align:left\">ipchintrp_</th><th style=\"text-align:left\">ifadekind</th><th style=\"text-align:left\">ktransp</th><th style=\"text-align:left\">klag</th><th style=\"text-align:left\">17</th><th style=\"text-align:left\">18</th><th style=\"text-align:left\">19</th><th style=\"text-align:left\">20</th><th style=\"text-align:left\">21</th><th style=\"text-align:left\">...</th></tr></thead><tbody><tr><td style=\"text-align:left\">501.0003 <b>𝍪</b></td><td style=\"text-align:left\">0.039</td><td style=\"text-align:left\">2.500</td><td style=\"text-align:left\">0</td><td style=\"text-align:left\">0.5</td><td style=\"text-align:left\">1</td><td style=\"text-align:left\">17</td><td style=\"text-align:left\">3</td><td style=\"text-align:left\">3</td><td style=\"text-align:left\">1</td><td style=\"text-align:left\">0.02</td><td style=\"text-align:left\">0.02</td><td style=\"text-align:left\">0</td><td style=\"text-align:left\">1</td><td style=\"text-align:left\">0</td><td style=\"text-align:left\">0.1</td><td style=\"text-align:left\">0</td><td style=\"text-align:left\">60</td><td style=\"text-align:left\">0.51518</td><td style=\"text-align:left\">0.5</td><td style=\"text-align:left\">...</td></tr><tr><td style=\"text-align:left\">501.0004 <b>𝍪</b></td><td style=\"text-align:left\">0.539</td><td style=\"text-align:left\">2.500</td><td style=\"text-align:left\">0</td><td style=\"text-align:left\">0.5</td><td style=\"text-align:left\">1</td><td style=\"text-align:left\">17</td><td style=\"text-align:left\">3</td><td style=\"text-align:left\">3</td><td style=\"text-align:left\">1</td><td style=\"text-align:left\">0.02</td><td style=\"text-align:left\">0.02</td><td style=\"text-align:left\">0</td><td style=\"text-align:left\">1</td><td style=\"text-align:left\">0</td><td style=\"text-align:left\">0.1</td><td style=\"text-align:left\">0</td><td style=\"text-align:left\">62</td><td style=\"text-align:left\">0.51518</td><td style=\"text-align:left\">0.5</td><td style=\"text-align:left\">...</td></tr></tbody></table>"
      ],
      "text/plain": [
       "SynthGroup(n=2)\n",
       "    Synth(𝍪 preset:sin=501.0003 start=9.630 dur=2.500 p4=0.5 kpos=1 kgain=17 idataidx_=3 inumbps=3 ibplen=1 ichan=0.02 ifadein=0.02 ifadeout=0 ipchintrp_=1 ifadekind=0 ktransp=0.1 klag=0 p17=60 p18=0.515178 p19=0.5 p20=60 …)\n",
       "    Synth(𝍪 preset:sin=501.0004 start=10.130 dur=2.500 p4=0.5 kpos=1 kgain=17 idataidx_=3 inumbps=3 ibplen=1 ichan=0.02 ifadein=0.02 ifadeout=0 ipchintrp_=1 ifadekind=0 ktransp=0.1 klag=0 p17=62 p18=0.515178 p19=0.5 p20=62 …)"
      ]
     },
     "execution_count": 4,
     "metadata": {},
     "output_type": "execute_result"
    }
   ],
   "source": [
    "ch.play(sustain=2)"
   ]
  },
  {
   "cell_type": "code",
   "execution_count": 5,
   "id": "57e55d25-ed96-4ceb-860e-13661b4df5f3",
   "metadata": {},
   "outputs": [
    {
     "data": {
      "application/vnd.jupyter.widget-view+json": {
       "model_id": "920de09ddae44c67bf9740f1243c279c",
       "version_major": 2,
       "version_minor": 0
      },
      "text/plain": [
       "Button(description='Stop', style=ButtonStyle())"
      ]
     },
     "metadata": {},
     "output_type": "display_data"
    },
    {
     "data": {
      "application/vnd.jupyter.widget-view+json": {
       "model_id": "b4124e07a6e145b5bbe6aaf20e210628",
       "version_major": 2,
       "version_minor": 0
      },
      "text/plain": [
       "Output()"
      ]
     },
     "metadata": {},
     "output_type": "display_data"
    },
    {
     "data": {
      "text/html": [
       "<small><span style=\"\"><b>SynthGroup</b></span>(synths=<code style=\"\">1</code>)</small>\n",
       "<p><small>Instr: <strong style=\"color:MediumSeaGreen\">preset:sin</strong> - <b>1</b> synths</small></p>\n",
       "<table style=\"font-size: smaller\"<thead><tr><th style=\"text-align:left\">p1</th><th style=\"text-align:left\">start</th><th style=\"text-align:left\">dur</th><th style=\"text-align:left\">p4</th><th style=\"text-align:left\">kpos</th><th style=\"text-align:left\">kgain</th><th style=\"text-align:left\">idataidx_</th><th style=\"text-align:left\">inumbps</th><th style=\"text-align:left\">ibplen</th><th style=\"text-align:left\">ichan</th><th style=\"text-align:left\">ifadein</th><th style=\"text-align:left\">ifadeout</th><th style=\"text-align:left\">ipchintrp_</th><th style=\"text-align:left\">ifadekind</th><th style=\"text-align:left\">ktransp</th><th style=\"text-align:left\">klag</th><th style=\"text-align:left\">17</th><th style=\"text-align:left\">18</th><th style=\"text-align:left\">19</th><th style=\"text-align:left\">20</th><th style=\"text-align:left\">21</th><th style=\"text-align:left\">...</th></tr></thead><tbody><tr><td style=\"text-align:left\">501.0005 <b>𝍪</b></td><td style=\"text-align:left\">0.042</td><td style=\"text-align:left\">3.000</td><td style=\"text-align:left\">0</td><td style=\"text-align:left\">0.5</td><td style=\"text-align:left\">1</td><td style=\"text-align:left\">17</td><td style=\"text-align:left\">4</td><td style=\"text-align:left\">3</td><td style=\"text-align:left\">1</td><td style=\"text-align:left\">0.02</td><td style=\"text-align:left\">0.02</td><td style=\"text-align:left\">0</td><td style=\"text-align:left\">1</td><td style=\"text-align:left\">0</td><td style=\"text-align:left\">0.1</td><td style=\"text-align:left\">0</td><td style=\"text-align:left\">60</td><td style=\"text-align:left\">0.51518</td><td style=\"text-align:left\">0.5</td><td style=\"text-align:left\">...</td></tr></tbody></table>"
      ],
      "text/plain": [
       "SynthGroup(n=1)\n",
       "    Synth(𝍪 preset:sin=501.0005 start=18.221 dur=3.000 p4=0.5 kpos=1 kgain=17 idataidx_=4 inumbps=3 ibplen=1 ichan=0.02 ifadein=0.02 ifadeout=0 ipchintrp_=1 ifadekind=0 ktransp=0.1 klag=0 p17=60 p18=0.515178 p19=0.5 p20=62 …)"
      ]
     },
     "execution_count": 5,
     "metadata": {},
     "output_type": "execute_result"
    }
   ],
   "source": [
    "ch = Chain([\n",
    "    \"4C:1/2:gliss\",\n",
    "    \"4D:1/2\"\n",
    "])\n",
    "ch.play(sustain=2)"
   ]
  },
  {
   "cell_type": "code",
   "execution_count": 6,
   "id": "f8170c91-1238-49be-9220-5ed858445f41",
   "metadata": {},
   "outputs": [
    {
     "name": "stdout",
     "output_type": "stream",
     "text": [
      "[SynthEvent(delay=0, dur=1, instr=sin, gain=0.7071, chan=1, fade=(0.02, 0.02), sustain=0.68, position=0.5, bps=‹0.0s 60 0.515178; 1.0s 60 0.515178›), SynthEvent(delay=0, dur=1, instr=sin, gain=0.7071, chan=1, fade=(0.02, 0.02), sustain=0.68, position=0.5, bps=‹0.0s 67 0.515178; 1.0s 67 0.515178›)]\n"
     ]
    },
    {
     "data": {
      "application/vnd.jupyter.widget-view+json": {
       "model_id": "0460c52653b34173b79aca1d49b61493",
       "version_major": 2,
       "version_minor": 0
      },
      "text/plain": [
       "Button(description='Stop', style=ButtonStyle())"
      ]
     },
     "metadata": {},
     "output_type": "display_data"
    },
    {
     "data": {
      "application/vnd.jupyter.widget-view+json": {
       "model_id": "b4084c08e3e34605b1df34de0cc3a51e",
       "version_major": 2,
       "version_minor": 0
      },
      "text/plain": [
       "Output()"
      ]
     },
     "metadata": {},
     "output_type": "display_data"
    },
    {
     "data": {
      "text/html": [
       "<small><span style=\"\"><b>SynthGroup</b></span>(synths=<code style=\"\">2</code>)</small>\n",
       "<p><small>Instr: <strong style=\"color:MediumSeaGreen\">preset:sin</strong> - <b>2</b> synths</small></p>\n",
       "<table style=\"font-size: smaller\"<thead><tr><th style=\"text-align:left\">p1</th><th style=\"text-align:left\">start</th><th style=\"text-align:left\">dur</th><th style=\"text-align:left\">p4</th><th style=\"text-align:left\">kpos</th><th style=\"text-align:left\">kgain</th><th style=\"text-align:left\">idataidx_</th><th style=\"text-align:left\">inumbps</th><th style=\"text-align:left\">ibplen</th><th style=\"text-align:left\">ichan</th><th style=\"text-align:left\">ifadein</th><th style=\"text-align:left\">ifadeout</th><th style=\"text-align:left\">ipchintrp_</th><th style=\"text-align:left\">ifadekind</th><th style=\"text-align:left\">ktransp</th><th style=\"text-align:left\">klag</th><th style=\"text-align:left\">17</th><th style=\"text-align:left\">18</th><th style=\"text-align:left\">19</th><th style=\"text-align:left\">20</th><th style=\"text-align:left\">21</th><th style=\"text-align:left\">...</th></tr></thead><tbody><tr><td style=\"text-align:left\">501.0006 <b>𝍪</b></td><td style=\"text-align:left\">0.035</td><td style=\"text-align:left\">1.680</td><td style=\"text-align:left\">0</td><td style=\"text-align:left\">0.5</td><td style=\"text-align:left\">0.70711</td><td style=\"text-align:left\">17</td><td style=\"text-align:left\">3</td><td style=\"text-align:left\">3</td><td style=\"text-align:left\">1</td><td style=\"text-align:left\">0.02</td><td style=\"text-align:left\">0.02</td><td style=\"text-align:left\">0</td><td style=\"text-align:left\">1</td><td style=\"text-align:left\">0</td><td style=\"text-align:left\">0.1</td><td style=\"text-align:left\">0</td><td style=\"text-align:left\">60</td><td style=\"text-align:left\">0.51518</td><td style=\"text-align:left\">1</td><td style=\"text-align:left\">...</td></tr><tr><td style=\"text-align:left\">501.0007 <b>𝍪</b></td><td style=\"text-align:left\">0.035</td><td style=\"text-align:left\">1.680</td><td style=\"text-align:left\">0</td><td style=\"text-align:left\">0.5</td><td style=\"text-align:left\">0.70711</td><td style=\"text-align:left\">17</td><td style=\"text-align:left\">3</td><td style=\"text-align:left\">3</td><td style=\"text-align:left\">1</td><td style=\"text-align:left\">0.02</td><td style=\"text-align:left\">0.02</td><td style=\"text-align:left\">0</td><td style=\"text-align:left\">1</td><td style=\"text-align:left\">0</td><td style=\"text-align:left\">0.1</td><td style=\"text-align:left\">0</td><td style=\"text-align:left\">67</td><td style=\"text-align:left\">0.51518</td><td style=\"text-align:left\">1</td><td style=\"text-align:left\">...</td></tr></tbody></table>"
      ],
      "text/plain": [
       "SynthGroup(n=2)\n",
       "    Synth(𝍪 preset:sin=501.0006 start=25.965 dur=1.680 p4=0.5 kpos=0.707107 kgain=17 idataidx_=3 inumbps=3 ibplen=1 ichan=0.02 ifadein=0.02 ifadeout=0 ipchintrp_=1 ifadekind=0 ktransp=0.1 klag=0 p17=60 p18=0.515178 p19=1 p20=60 …)\n",
       "    Synth(𝍪 preset:sin=501.0007 start=25.965 dur=1.680 p4=0.5 kpos=0.707107 kgain=17 idataidx_=3 inumbps=3 ibplen=1 ichan=0.02 ifadein=0.02 ifadeout=0 ipchintrp_=1 ifadekind=0 ktransp=0.1 klag=0 p17=67 p18=0.515178 p19=1 p20=67 …)"
      ]
     },
     "execution_count": 6,
     "metadata": {},
     "output_type": "execute_result"
    }
   ],
   "source": [
    "from maelzel.core import *\n",
    "\n",
    "ch = Chord(\"4C,4G:1\")\n",
    "print(ch.synthEvents(sustain=0.68))\n",
    "gr = ch.play(sustain=0.68)\n",
    "gr"
   ]
  },
  {
   "cell_type": "code",
   "execution_count": 7,
   "id": "afd39b24-ec19-41cb-a2e3-099e42115772",
   "metadata": {},
   "outputs": [
    {
     "data": {
      "application/vnd.jupyter.widget-view+json": {
       "model_id": "241e0381f53c47b1b16338feaf41f87a",
       "version_major": 2,
       "version_minor": 0
      },
      "text/plain": [
       "Button(description='Stop', style=ButtonStyle())"
      ]
     },
     "metadata": {},
     "output_type": "display_data"
    },
    {
     "data": {
      "application/vnd.jupyter.widget-view+json": {
       "model_id": "7b0171d45d7d423aa74765702738439a",
       "version_major": 2,
       "version_minor": 0
      },
      "text/plain": [
       "Output()"
      ]
     },
     "metadata": {},
     "output_type": "display_data"
    },
    {
     "data": {
      "text/html": [
       "<p><span style=\"font-size:12px;\">Synth(𝍪 <strong style=\"color:MediumSeaGreen\">preset:sin</strong>:501.0008, <span style=\"font-size:12px;\">5:<b>kpos</b>=<code>0.5</code> 6:<b>kgain</b>=<code>1</code> 7:<b>idataidx_</b>=<code>17</code> 8:<b>inumbps</b>=<code>3</code> 9:<b>ibplen</b>=<code>3</code> 10:<b>ichan</b>=<code>1</code> 11:<b>ifadein</b>=<code>0.02</code> 12:<b>ifadeout</b>=<code>0.02</code> 13:<b>ipchintrp_</b>=<code>0</code> 14:<b>ifadekind</b>=<code>1</code> 15:<b>ktransp</b>=<code>0</code> 16:<b>klag</b>=<code>0.1</code> <b>17</b>=<code>0</code> <b>18</b>=<code>60</code> <b>19</b>=<code>0.515178</code> <b>20</b>=<code>1</code> …</span>)</span></p>"
      ],
      "text/plain": [
       "Synth(𝍪 preset:sin=501.0008 start=31.857 dur=1.500 p4=0.5 kpos=1 kgain=17 idataidx_=3 inumbps=3 ibplen=1 ichan=0.02 ifadein=0.02 ifadeout=0 ipchintrp_=1 ifadekind=0 ktransp=0.1 klag=0 p17=60 p18=0.515178 p19=1 p20=60 …)"
      ]
     },
     "execution_count": 7,
     "metadata": {},
     "output_type": "execute_result"
    }
   ],
   "source": [
    "Note(\"4C:1\").play(sustain=0.5)[0]"
   ]
  },
  {
   "cell_type": "code",
   "execution_count": 8,
   "id": "af502981-03ad-4e03-90dd-48730823ed26",
   "metadata": {},
   "outputs": [
    {
     "data": {
      "application/vnd.jupyter.widget-view+json": {
       "model_id": "89271db465f844b1981dac4e1db8d206",
       "version_major": 2,
       "version_minor": 0
      },
      "text/plain": [
       "Button(description='Stop', style=ButtonStyle())"
      ]
     },
     "metadata": {},
     "output_type": "display_data"
    },
    {
     "data": {
      "application/vnd.jupyter.widget-view+json": {
       "model_id": "d08275cdae8d42ffa1e3ddf20536db0b",
       "version_major": 2,
       "version_minor": 0
      },
      "text/plain": [
       "Output()"
      ]
     },
     "metadata": {},
     "output_type": "display_data"
    },
    {
     "data": {
      "text/html": [
       "<small><span style=\"\"><b>SynthGroup</b></span>(synths=<code style=\"\">2</code>)</small>\n",
       "<p><small>Instr: <strong style=\"color:MediumSeaGreen\">preset:sin</strong> - <b>2</b> synths</small></p>\n",
       "<table style=\"font-size: smaller\"<thead><tr><th style=\"text-align:left\">p1</th><th style=\"text-align:left\">start</th><th style=\"text-align:left\">dur</th><th style=\"text-align:left\">p4</th><th style=\"text-align:left\">kpos</th><th style=\"text-align:left\">kgain</th><th style=\"text-align:left\">idataidx_</th><th style=\"text-align:left\">inumbps</th><th style=\"text-align:left\">ibplen</th><th style=\"text-align:left\">ichan</th><th style=\"text-align:left\">ifadein</th><th style=\"text-align:left\">ifadeout</th><th style=\"text-align:left\">ipchintrp_</th><th style=\"text-align:left\">ifadekind</th><th style=\"text-align:left\">ktransp</th><th style=\"text-align:left\">klag</th><th style=\"text-align:left\">17</th><th style=\"text-align:left\">18</th><th style=\"text-align:left\">19</th><th style=\"text-align:left\">20</th><th style=\"text-align:left\">21</th><th style=\"text-align:left\">...</th></tr></thead><tbody><tr><td style=\"text-align:left\">501.0009 <b>𝍪</b></td><td style=\"text-align:left\">0.041</td><td style=\"text-align:left\">1.000</td><td style=\"text-align:left\">0</td><td style=\"text-align:left\">0.5</td><td style=\"text-align:left\">0.57983</td><td style=\"text-align:left\">17</td><td style=\"text-align:left\">2</td><td style=\"text-align:left\">3</td><td style=\"text-align:left\">1</td><td style=\"text-align:left\">0.3</td><td style=\"text-align:left\">0.4</td><td style=\"text-align:left\">0</td><td style=\"text-align:left\">1</td><td style=\"text-align:left\">0</td><td style=\"text-align:left\">0.1</td><td style=\"text-align:left\">0</td><td style=\"text-align:left\">60</td><td style=\"text-align:left\">0.51518</td><td style=\"text-align:left\">1</td><td style=\"text-align:left\">...</td></tr><tr><td style=\"text-align:left\">501.001 <b>𝍪</b></td><td style=\"text-align:left\">0.041</td><td style=\"text-align:left\">1.000</td><td style=\"text-align:left\">0</td><td style=\"text-align:left\">0.5</td><td style=\"text-align:left\">0.57983</td><td style=\"text-align:left\">17</td><td style=\"text-align:left\">2</td><td style=\"text-align:left\">3</td><td style=\"text-align:left\">1</td><td style=\"text-align:left\">0.3</td><td style=\"text-align:left\">0.4</td><td style=\"text-align:left\">0</td><td style=\"text-align:left\">1</td><td style=\"text-align:left\">0</td><td style=\"text-align:left\">0.1</td><td style=\"text-align:left\">0</td><td style=\"text-align:left\">67</td><td style=\"text-align:left\">0.51518</td><td style=\"text-align:left\">1</td><td style=\"text-align:left\">...</td></tr></tbody></table>"
      ],
      "text/plain": [
       "SynthGroup(n=2)\n",
       "    Synth(𝍪 preset:sin=501.0009 start=37.923 dur=1.000 p4=0.5 kpos=0.579828 kgain=17 idataidx_=2 inumbps=3 ibplen=1 ichan=0.3 ifadein=0.4 ifadeout=0 ipchintrp_=1 ifadekind=0 ktransp=0.1 klag=0 p17=60 p18=0.515178 p19=1 p20=60 …)\n",
       "    Synth(𝍪 preset:sin=501.001 start=37.923 dur=1.000 p4=0.5 kpos=0.579828 kgain=17 idataidx_=2 inumbps=3 ibplen=1 ichan=0.3 ifadein=0.4 ifadeout=0 ipchintrp_=1 ifadekind=0 ktransp=0.1 klag=0 p17=67 p18=0.515178 p19=1 p20=67 …)"
      ]
     },
     "execution_count": 8,
     "metadata": {},
     "output_type": "execute_result"
    }
   ],
   "source": [
    "gr = Chord(\"4C,4G\", 1).play(gain=0.82, fade=(0.3, 0.4))\n",
    "gr"
   ]
  }
 ],
 "metadata": {
  "kernelspec": {
   "display_name": "Python 3 (ipykernel)",
   "language": "python",
   "name": "python3"
  },
  "language_info": {
   "codemirror_mode": {
    "name": "ipython",
    "version": 3
   },
   "file_extension": ".py",
   "mimetype": "text/x-python",
   "name": "python",
   "nbconvert_exporter": "python",
   "pygments_lexer": "ipython3",
   "version": "3.11.6"
  }
 },
 "nbformat": 4,
 "nbformat_minor": 5
}
