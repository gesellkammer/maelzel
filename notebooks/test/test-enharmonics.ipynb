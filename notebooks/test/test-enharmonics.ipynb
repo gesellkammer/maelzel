{
 "cells": [
  {
   "cell_type": "code",
   "execution_count": 1,
   "id": "56a6c48c-b363-4e03-94bd-2f03dcc9cb31",
   "metadata": {},
   "outputs": [],
   "source": [
    "from maelzel.core import *"
   ]
  },
  {
   "cell_type": "code",
   "execution_count": 2,
   "id": "c46f5ef7-1efb-4234-a1bd-282edee5f15d",
   "metadata": {},
   "outputs": [
    {
     "data": {
      "text/html": [
       "<code style=\"font-size:0.9em\">4Eb</code><br>\n",
       "        <img style=\"display:inline; padding:10px;\n",
       "margin-top:14px;\n",
       "width:118px\"\n",
       "             src=\"data:image/png;base64,iVBORw0KGgoAAAANSUhEUgAAAHYAAAA+CAIAAABxznhHAAAJLmlDQ1BJQ0MgUHJvZmlsZQAAeJyVlWdQk1kXx+/zPOmFQBJCh1BDkSolgJQQWijSq6hA6J1QRWyIuAIriog0RZBFARdclSJrRRQLi4ICFnSDLALKunEVUUFZcN8ZnfcdP7z/mXvPb/5z5t5zz/lwASCIg2XBy3tiUrrA28mOGRgUzATfKIyflsLx9HQD39W7EQCtxHu638/5rggRkWn85bi4vHL5KYJ0AKDsZdbMSk9Z4aPLTA+P/8JnV1iwXOAy31jh6H957EvOvyz6kuPrzV1+FQoAHCn6Gw7/hv9z74pUOIL02KjIbKZPclR6Vpggkpm20gkel8v0FCRHxSZEflPw/5X8HaVHZqevRG5yyiZBbHRMOvN/DjUyMDQEX2fxxutLjyFG/3/PZ0VfveR6ANhzACD7vnrhlQB07gJA+tFXT225r5R8ADru8DMEmf96qJUNDQiAAuhABigCVaAJdIERMAOWwBY4ABfgAXxBENgA+CAGJAIByAK5YAcoAEVgHzgIqkAtaABNoBWcBp3gPLgCroPb4C4YBo+BEEyCl0AE3oEFCIKwEBmiQTKQEqQO6UBGEBuyhhwgN8gbCoJCoWgoCcqAcqGdUBFUClVBdVAT9At0DroC3YQGoYfQODQD/Q19hBGYBNNhBVgD1ofZMAd2hX3h9XA0nArnwPnwXrgCrodPwh3wFfg2PAwL4ZfwHAIQIsJAlBFdhI1wEQ8kGIlCBMhWpBApR+qRVqQb6UPuIUJkFvmAwqBoKCZKF2WJckb5ofioVNRWVDGqCnUC1YHqRd1DjaNEqM9oMloerYO2QPPQgehodBa6AF2ObkS3o6+hh9GT6HcYDIaBYWHMMM6YIEwcZjOmGHMY04a5jBnETGDmsFisDFYHa4X1wIZh07EF2ErsSewl7BB2EvseR8Qp4YxwjrhgXBIuD1eOa8ZdxA3hpnALeHG8Ot4C74GPwG/Cl+Ab8N34O/hJ/AJBgsAiWBF8CXGEHYQKQivhGmGM8IZIJKoQzYlexFjidmIF8RTxBnGc+IFEJWmTuKQQUgZpL+k46TLpIekNmUzWINuSg8np5L3kJvJV8lPyezGamJ4YTyxCbJtYtViH2JDYKwqeok7hUDZQcijllDOUO5RZcby4hjhXPEx8q3i1+DnxUfE5CZqEoYSHRKJEsUSzxE2JaSqWqkF1oEZQ86nHqFepEzSEpkrj0vi0nbQG2jXaJB1DZ9F59Dh6Ef1n+gBdJEmVNJb0l8yWrJa8IClkIAwNBo+RwChhnGaMMD5KKUhxpCKl9ki1Sg1JzUvLSdtKR0oXSrdJD0t/lGHKOMjEy+yX6ZR5IouS1Zb1ks2SPSJ7TXZWji5nKceXK5Q7LfdIHpbXlveW3yx/TL5ffk5BUcFJIUWhUuGqwqwiQ9FWMU6xTPGi4owSTclaKVapTOmS0gumJJPDTGBWMHuZImV5ZWflDOU65QHlBRWWip9KnkqbyhNVgipbNUq1TLVHVaSmpOaulqvWovZIHa/OVo9RP6Tepz6vwdII0Nit0akxzZJm8Vg5rBbWmCZZ00YzVbNe874WRoutFa91WOuuNqxtoh2jXa19RwfWMdWJ1TmsM7gKvcp8VdKq+lWjuiRdjm6mbovuuB5Dz00vT69T75W+mn6w/n79Pv3PBiYGCQYNBo8NqYYuhnmG3YZ/G2kb8Y2qje6vJq92XL1tddfq18Y6xpHGR4wfmNBM3E12m/SYfDI1MxWYtprOmKmZhZrVmI2y6WxPdjH7hjna3M58m/l58w8WphbpFqct/rLUtYy3bLacXsNaE7mmYc2ElYpVmFWdldCaaR1qfdRaaKNsE2ZTb/PMVtU2wrbRdoqjxYnjnOS8sjOwE9i1281zLbhbuJftEXsn+0L7AQeqg59DlcNTRxXHaMcWR5GTidNmp8vOaGdX5/3OozwFHp/XxBO5mLlscel1Jbn6uFa5PnPTdhO4dbvD7i7uB9zH1qqvTVrb6QE8eB4HPJ54sjxTPX/1wnh5elV7Pfc29M717vOh+Wz0afZ552vnW+L72E/TL8Ovx5/iH+Lf5D8fYB9QGiAM1A/cEng7SDYoNqgrGBvsH9wYPLfOYd3BdZMhJiEFISPrWeuz19/cILshYcOFjZSNYRvPhKJDA0KbQxfDPMLqw+bCeeE14SI+l3+I/zLCNqIsYibSKrI0cirKKqo0ajraKvpA9EyMTUx5zGwsN7Yq9nWcc1xt3Hy8R/zx+KWEgIS2RFxiaOK5JGpSfFJvsmJydvJgik5KQYow1SL1YKpI4CpoTIPS1qd1pdOXP8X+DM2MXRnjmdaZ1Znvs/yzzmRLZCdl92/S3rRn01SOY85Pm1Gb+Zt7cpVzd+SOb+FsqdsKbQ3f2rNNdVv+tsntTttP7CDsiN/xW55BXmne250BO7vzFfK350/sctrVUiBWICgY3W25u/YH1A+xPwzsWb2ncs/nwojCW0UGReVFi8X84ls/Gv5Y8ePS3qi9AyWmJUf2YfYl7RvZb7P/RKlEaU7pxAH3Ax1lzLLCsrcHNx68WW5cXnuIcCjjkLDCraKrUq1yX+ViVUzVcLVddVuNfM2emvnDEYeHjtgeaa1VqC2q/Xg09uiDOqe6jnqN+vJjmGOZx543+Df0/cT+qalRtrGo8dPxpOPCE94nepvMmpqa5ZtLWuCWjJaZkyEn7/5s/3NXq25rXRujregUOJVx6sUvob+MnHY93XOGfab1rPrZmnZae2EH1LGpQ9QZ0ynsCuoaPOdyrqfbsrv9V71fj59XPl99QfJCyUXCxfyLS5dyLs1dTrk8eyX6ykTPxp7HVwOv3u/16h245nrtxnXH61f7OH2XbljdOH/T4ua5W+xbnbdNb3f0m/S3/2byW/uA6UDHHbM7XXfN73YPrhm8OGQzdOWe/b3r93n3bw+vHR4c8Rt5MBoyKnwQ8WD6YcLD148yHy083j6GHit8Iv6k/Kn80/rftX5vE5oKL4zbj/c/83n2eII/8fKPtD8WJ/Ofk5+XTylNNU0bTZ+fcZy5+2Ldi8mXKS8XZgv+lPiz5pXmq7N/2f7VLwoUTb4WvF76u/iNzJvjb43f9sx5zj19l/huYb7wvcz7Ex/YH/o+BnycWshaxC5WfNL61P3Z9fPYUuLS0j9CLJC+ERlPpwAACPdJREFUeJztnD9M224Tx6+vqApSi2yG0g3iVJSlQthSxIhkow4dqlZ26MbkMLbqYKdDpyx2pnaMM3XEZmHoFCNRhkpFdihSpVYqCTCgksWOQBVUVMo7XPvICvnjBBICv3wm+3Dsx+fHz3P3vcfcqFQq0F1UVQUAXde7fN3L4n+X3YDrT9/FHafv4o7Td3HH6bu44/Rd3HH6Lu44fRd3nL6LO85VcrHv+7quC4Kgqqrv+8Ru27YkSYlEolgsXmLz6nFlXFwsFhmG4TjOtu1isShJEtoty1JV1TCMxcVFjuN60MtXxsWapkmSJAgC7jIMgxuqqiaTSZqmOY6TJEnTtMtrY22uhot9389ms3Nzc7hrWZZhGADguu7Ozg5N02inadqyrEtrZR0GunMZVVUty9rZ2QGAWCw2OztL/lQsFjOZTNXx0Wg0kUiQXdd18UhJkpaXl0VRNAyDpmm0k64NAOVyuYO30RZhXez7viRJ8Xg8eOchfygIQj6fJ5aNjY3JycngAeipBuRyOQAoFAqGYRiGIQiCJEm2bRcKhZYaczlUQuB5HsuyAEBRVKFQCPMTgizLZy+q63pLJ8FunsvlcFdRFADwPA9d7zhO0N7SmbtAqF6saRp2w3K5rGkajoMhOTs4RiIR9AXiui6K9EE4jgtq9hzHnT0zTdM46QUDOOwKPUXz6c513XQ6TXaz2ex5AiOKoqqcjsFAFdFoNHgMx3Esy2KfBQDf93meBwCGYWRZJnbbthcXF9tuW6do2s/Jm05RVC6Xk2VZUZTwr4lpmpFIBH8uy3Kr4wyhUCiwLKsoiqIoPM97nod2z/N4nlcURRTFlhrWNZq7mDgIhzxN0yKRSOcbVhvHccjIW2Vv++F1muYuxi5MphoyuXe4YdeHUKkHz/PB2BMAbNu+wMHqehPKxfF4nGyTXtypFl07QrmYCAIA0IM6S49zwzTNs/lrkNXV1enp6ZGREQA4PT1dX18HgGg0Oj4+3tKVSqXSnz9/hoaGTk9Pj46O7t+/f45m9xyHh4cAMDw8fHx8fHx8jMaHDx++f/9+QBAEIqPU5PPnz8+fP8eQPpvNovHVq1cTExMtNUJRlK9fv+L2y5cvHz9+3Opt9DKYTCWTyWw2a5omGm/evAkQIi7meT6TyVQqFc/zKIoCgPaCNkwWsDXXLyDheZ7n+cq/JB5BS/OxmOM4x3EAIJFIoI6VTCbbeM6rq6sAIMtyMpmsmRC3jW3bLeX0Xaa5i+fm5mzb1nV9eXkZACKRSKtiG/xTKnieNwxDVdWLlRxzuRx5N3uQ5jKQIAi+75Oe257mncvlWJY1DIPjuKCw+V9gwHXdxl3g4OCATJGxWMw0zVa7zMHBwdLS0sLCwuvXr4l/z6prbbO2tlYqlS7whG2wvb0NAKqqrq2tEeP+/j40HShOTk5WVlZ+//4NAFNTU8FqRXg+fvw4Pz+PU+V/kQazJFHikZr6S1MURTFNE7eJ6tj4um1cAufu81MoFDRNIzJeeBpEFI3GYlVV8b2ORCIMw9i23UYk4Lqu67qY3QS1cxQ9uqZ10DRdb47VNI0MMoIg7OzsOI5zgWXWui7WdR0TDRTRbdvG0K1Vgk60bZtUkbssJDWIYTzP6+ila4/FxWKRLEjAMEAQBAzazkNwoOhNrc627VYrZ00ZqFkATqVS+Njj8ThN0+iO27dvp9Pp9opjP3/+TKVSR0dH09PTaHn69CnLsm/evDlX8wEAYHd31/O8tp9Z1W85jmtaEa95EgCwbXt3d5cYj46OoKYMdHx8/OnTJwC4c+dOLBYjxnw+PzQ0NDw8PDQ0dPfu3b8JeGg6JwNtb28fHh5ebmEUJy2WZbe3t/f29tA4Nja2u7tbY2YncyJWOjzPC86SCEVRKFy0NOeSnzf9bSaTCX/+C4wo2qY1jQJfE1LpUFU1WIFGyuXy4uJie9G+oihVNZSztJHg9Cw1XIx6DVY6bNvGuEIURbxnRVFITTqdTocfATsnA/U4dbM7XF2KMYCiKJZlSZLE83w0GjUMI5fLYbbWWM4ndFQG6nFquBir+qjT46BBFuZwHIdVO0EQ0BgykgvKQETXbwDDMMFq1pVmwLKsqp7469cv+Jd9obpBhs79/f1SqURimsHBwZOTE5ZlsexUj8PDw83NzVgsJori5uYmGhsPx1XXbQxGFCEP7hAYUQiCgC1HcLtGYenDhw9v375F9TKfz6uq+uzZMywj5fP5VCpFhM1UKrW+vk7KTvVQFOXdu3cTExP5fJ64uLGujz295pLDmgf/+PGjvULBRREsLJGgbXR0FKCWHIMFJBIziaLIsixRRgCAbIuiWPMMQdqTgXBhVciAqceDthoaBU3TiUQCF/7TNG0YRiKRYBgGRZxIJOK6Lr6Vrus27WjnkYFwXmUYBj81CP7J932UTYjo0bs0eCyiKJIOSwqaPM9rmlapVDRNa3W5cUu9mKIoURTxRZFlmfzpbCo0NTXVy724btBmWVaxWBQEATsamd85jvM8T9f1ZDKp63pL835LMhDDMJZlYbRHghBcc1+VCm1tbZG6TA9yw3GcBnnU2tra1tbW4ODggwcP0LK3t1cqlUZHRx89enTv3r2QlymXyysrKycnJ6T2cXBwMD4+/uTJk3rXLZVK8/PzAJBOp2/duvXixQu0b2xsnD0+kUhcblVlaWkJAObn54MtnJyc/PbtW5Py6Ozs7MzMzPfv30myQFHU4OAg3nx4KIpaWFhoueEAX758AYCZmRnc3draOnvM2NjYpVetiENmZ2dJ+e3vQvRWB51cLteFgQ+DBMdxKIoKhhZn7y0SifT4wpe6YzF+DYsfc134Mw8DfgJmWVbwo4+qiU6WZdd1ezwPrDtQBL/kMk2TfBDbHUZGRjAsqxKMdF2Px+OmaUajUUEQety5f6nZt6smwODIkMlkuhMh9fjrH55Q64uDYb/jON2RIq9GDw1DTccHF8Hjh0pox9ya7PYJQ6PsjqIo0zSDL6woipeeR105blTq/ENHzKNwwSAKFJlMBqegxku++1RR18UA4Ps+CjGrq6s8z1d9NNsnJI1c3OdC+D/OP8wIPJ60kQAAAABJRU5ErkJggg==\"/>"
      ],
      "text/plain": [
       "4Eb"
      ]
     },
     "execution_count": 2,
     "metadata": {},
     "output_type": "execute_result"
    }
   ],
   "source": [
    "n = Note(\"4Eb!\")\n",
    "n"
   ]
  },
  {
   "cell_type": "code",
   "execution_count": 3,
   "id": "389c4f61-0c9f-4376-b271-f86a18a82a03",
   "metadata": {},
   "outputs": [
    {
     "data": {
      "text/html": [
       "<code style=\"font-size:0.9em\">‹4F 4G#›</code><br>\n",
       "        <img style=\"display:inline; padding:10px;\n",
       "margin-top:14px;\n",
       "width:118px\"\n",
       "             src=\"data:image/png;base64,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\"/>"
      ],
      "text/plain": [
       "‹4F 4G#›"
      ]
     },
     "execution_count": 3,
     "metadata": {},
     "output_type": "execute_result"
    }
   ],
   "source": [
    "ch = Chord(\"4f 4g#!\")\n",
    "ch"
   ]
  },
  {
   "cell_type": "code",
   "execution_count": 4,
   "id": "46aa2d14-57fc-4d02-b97c-d36401ee240a",
   "metadata": {},
   "outputs": [],
   "source": [
    "ch = Chain([\n",
    "    \"4c\",\n",
    "    \"4c+\",\n",
    "    \"4e\",\n",
    "    \"4eb\",\n",
    "    \"4d+\"\n",
    "])\n"
   ]
  },
  {
   "cell_type": "code",
   "execution_count": 2,
   "id": "ea6a5aaa-05a1-45fb-891a-b7ce293471ea",
   "metadata": {},
   "outputs": [
    {
     "data": {
      "text/html": [
       "<code style=\"font-size:0.9em\">Chain([<span style=\"color:#6666E0\">4C:0.25♩</span>, <span style=\"color:#6666E0\">4C+:0.25♩</span>, <span style=\"color:#6666E0\">4E:0.25♩</span>, <span style=\"color:#6666E0\">4Eb:0.25♩</span>, <span style=\"color:#6666E0\">4D+:0.25♩</span>], dur=1.25)</code><br>\n",
       "        <img style=\"display:inline; padding:10px;\n",
       "margin-top:14px;\n",
       "width:216px\"\n",
       "             src=\"data:image/png;base64,iVBORw0KGgoAAAANSUhEUgAAANgAAABCCAIAAAC6v4+fAAAJLmlDQ1BJQ0MgUHJvZmlsZQAAeJyVlWdQk1kXx+/zPOmFQBJCh1BDkSolgJQQWijSq6hA6J1QRWyIuAIriog0RZBFARdclSJrRRQLi4ICFnSDLALKunEVUUFZcN8ZnfcdP7z/mXvPb/5z5t5zz/lwASCIg2XBy3tiUrrA28mOGRgUzATfKIyflsLx9HQD39W7EQCtxHu638/5rggRkWn85bi4vHL5KYJ0AKDsZdbMSk9Z4aPLTA+P/8JnV1iwXOAy31jh6H957EvOvyz6kuPrzV1+FQoAHCn6Gw7/hv9z74pUOIL02KjIbKZPclR6Vpggkpm20gkel8v0FCRHxSZEflPw/5X8HaVHZqevRG5yyiZBbHRMOvN/DjUyMDQEX2fxxutLjyFG/3/PZ0VfveR6ANhzACD7vnrhlQB07gJA+tFXT225r5R8ADru8DMEmf96qJUNDQiAAuhABigCVaAJdIERMAOWwBY4ABfgAXxBENgA+CAGJAIByAK5YAcoAEVgHzgIqkAtaABNoBWcBp3gPLgCroPb4C4YBo+BEEyCl0AE3oEFCIKwEBmiQTKQEqQO6UBGEBuyhhwgN8gbCoJCoWgoCcqAcqGdUBFUClVBdVAT9At0DroC3YQGoYfQODQD/Q19hBGYBNNhBVgD1ofZMAd2hX3h9XA0nArnwPnwXrgCrodPwh3wFfg2PAwL4ZfwHAIQIsJAlBFdhI1wEQ8kGIlCBMhWpBApR+qRVqQb6UPuIUJkFvmAwqBoKCZKF2WJckb5ofioVNRWVDGqCnUC1YHqRd1DjaNEqM9oMloerYO2QPPQgehodBa6AF2ObkS3o6+hh9GT6HcYDIaBYWHMMM6YIEwcZjOmGHMY04a5jBnETGDmsFisDFYHa4X1wIZh07EF2ErsSewl7BB2EvseR8Qp4YxwjrhgXBIuD1eOa8ZdxA3hpnALeHG8Ot4C74GPwG/Cl+Ab8N34O/hJ/AJBgsAiWBF8CXGEHYQKQivhGmGM8IZIJKoQzYlexFjidmIF8RTxBnGc+IFEJWmTuKQQUgZpL+k46TLpIekNmUzWINuSg8np5L3kJvJV8lPyezGamJ4YTyxCbJtYtViH2JDYKwqeok7hUDZQcijllDOUO5RZcby4hjhXPEx8q3i1+DnxUfE5CZqEoYSHRKJEsUSzxE2JaSqWqkF1oEZQ86nHqFepEzSEpkrj0vi0nbQG2jXaJB1DZ9F59Dh6Ef1n+gBdJEmVNJb0l8yWrJa8IClkIAwNBo+RwChhnGaMMD5KKUhxpCKl9ki1Sg1JzUvLSdtKR0oXSrdJD0t/lGHKOMjEy+yX6ZR5IouS1Zb1ks2SPSJ7TXZWji5nKceXK5Q7LfdIHpbXlveW3yx/TL5ffk5BUcFJIUWhUuGqwqwiQ9FWMU6xTPGi4owSTclaKVapTOmS0gumJJPDTGBWMHuZImV5ZWflDOU65QHlBRWWip9KnkqbyhNVgipbNUq1TLVHVaSmpOaulqvWovZIHa/OVo9RP6Tepz6vwdII0Nit0akxzZJm8Vg5rBbWmCZZ00YzVbNe874WRoutFa91WOuuNqxtoh2jXa19RwfWMdWJ1TmsM7gKvcp8VdKq+lWjuiRdjm6mbovuuB5Dz00vT69T75W+mn6w/n79Pv3PBiYGCQYNBo8NqYYuhnmG3YZ/G2kb8Y2qje6vJq92XL1tddfq18Y6xpHGR4wfmNBM3E12m/SYfDI1MxWYtprOmKmZhZrVmI2y6WxPdjH7hjna3M58m/l58w8WphbpFqct/rLUtYy3bLacXsNaE7mmYc2ElYpVmFWdldCaaR1qfdRaaKNsE2ZTb/PMVtU2wrbRdoqjxYnjnOS8sjOwE9i1281zLbhbuJftEXsn+0L7AQeqg59DlcNTRxXHaMcWR5GTidNmp8vOaGdX5/3OozwFHp/XxBO5mLlscel1Jbn6uFa5PnPTdhO4dbvD7i7uB9zH1qqvTVrb6QE8eB4HPJ54sjxTPX/1wnh5elV7Pfc29M717vOh+Wz0afZ552vnW+L72E/TL8Ovx5/iH+Lf5D8fYB9QGiAM1A/cEng7SDYoNqgrGBvsH9wYPLfOYd3BdZMhJiEFISPrWeuz19/cILshYcOFjZSNYRvPhKJDA0KbQxfDPMLqw+bCeeE14SI+l3+I/zLCNqIsYibSKrI0cirKKqo0ajraKvpA9EyMTUx5zGwsN7Yq9nWcc1xt3Hy8R/zx+KWEgIS2RFxiaOK5JGpSfFJvsmJydvJgik5KQYow1SL1YKpI4CpoTIPS1qd1pdOXP8X+DM2MXRnjmdaZ1Znvs/yzzmRLZCdl92/S3rRn01SOY85Pm1Gb+Zt7cpVzd+SOb+FsqdsKbQ3f2rNNdVv+tsntTttP7CDsiN/xW55BXmne250BO7vzFfK350/sctrVUiBWICgY3W25u/YH1A+xPwzsWb2ncs/nwojCW0UGReVFi8X84ls/Gv5Y8ePS3qi9AyWmJUf2YfYl7RvZb7P/RKlEaU7pxAH3Ax1lzLLCsrcHNx68WW5cXnuIcCjjkLDCraKrUq1yX+ViVUzVcLVddVuNfM2emvnDEYeHjtgeaa1VqC2q/Xg09uiDOqe6jnqN+vJjmGOZx543+Df0/cT+qalRtrGo8dPxpOPCE94nepvMmpqa5ZtLWuCWjJaZkyEn7/5s/3NXq25rXRujregUOJVx6sUvob+MnHY93XOGfab1rPrZmnZae2EH1LGpQ9QZ0ynsCuoaPOdyrqfbsrv9V71fj59XPl99QfJCyUXCxfyLS5dyLs1dTrk8eyX6ykTPxp7HVwOv3u/16h245nrtxnXH61f7OH2XbljdOH/T4ua5W+xbnbdNb3f0m/S3/2byW/uA6UDHHbM7XXfN73YPrhm8OGQzdOWe/b3r93n3bw+vHR4c8Rt5MBoyKnwQ8WD6YcLD148yHy083j6GHit8Iv6k/Kn80/rftX5vE5oKL4zbj/c/83n2eII/8fKPtD8WJ/Ofk5+XTylNNU0bTZ+fcZy5+2Ldi8mXKS8XZgv+lPiz5pXmq7N/2f7VLwoUTb4WvF76u/iNzJvjb43f9sx5zj19l/huYb7wvcz7Ex/YH/o+BnycWshaxC5WfNL61P3Z9fPYUuLS0j9CLJC+ERlPpwAADhZJREFUeJztnU9s40QXwF+WLNtCu41bidJyiJxsq+1hkWqjgvawrGQHJC5oRRyQkBCXpBy5YBchDoiL0xvHJDe4rJI9wskOUg9ISxW3hxVSJTZpg1RVXYFdNoVs17T9Du/b+fzF+eM4/4t/p2TimXl2XubNe/Nm4js/P4f+IkkSACSTyT736zHMXBq0AB4eAJ4iegwJniJ6DAWeInoMBZ4iegwFniJ6DAWeInoMBZ4iegwFniJ6DAWjpIiGYSSTSZ7nJUkyDIOUq6oqCEIikSiVSgMUz6MTRkYRS6VSKBRiWVZV1VKpJAgCludyOUmS0un06uoqy7KeLo4oI6OIsiwLgsDzPL4NhUL4QpKktbU1iqJYlhUEQZblwcno4Z7RUETDMDKZTCQSwbe5XC6dTgOApmm7u7sURWE5RVG5XG5gUnp0gN/hdYZhCIIQi8USiYSLbiRJyuVyu7u7ALCysnL79m3yUalUSqVSNdeHw2FrR5qm4ZWCINy7dy8ajabTaYqisJwMkwBwdHTkQjyPgeNIEQ3D4Hl+a2tL0zSe54lZbKsuKdnc3Lx+/br1AtSnJiiKAgDFYjGdTqfTaZ7nBUFQVbVYLDqXxGOoOXeAKIrk+ng87qQKIR6P2ztVFKWtRnDIJLVQHl3XUUELhYK1vK2WPYaE1iOipmnr6+vkbSaTWVtbcz4o2idtNE1bjammaZgqa4VlWWvmLMuy9pYpikIxrKEchmEcCuYxVLR2VsgELhAIKIoSj8ftUzrnBAKBGtVEh7eGcDhsvYZlWYZhcPwDAMMwOI4DgFAoFI/HSbmqqqurq65l8xgkLcdMmqYBIBAIoAWUZZmmaedDbjabJS3E4/Fisehu6C4WiwzDiKIoiiLHcbquY7mu6xzHiaIYjUZFUXTXuMfA8Z232rPi8/kAQFEUtKeqqkYikWKx2JbL0i3QrbFbak3TiKX2GEUcxRE5jrPO6gBAVdXeyNMCNNx1yz0tHGkcKWIsFiOvSSSlVxJ5/CtxpIjWwcZbzPXoBe0t8RmGce/ePQCYnp7ujTwe/1Y6icV4eHSL1l4zz/O4xGwYRigUOjo6omnahYHmeT6fz+PrVCrlbs16UJB1yFKphHfx22+/HRwcAEC5XMasi+PjY9M07XXHxsaq1Wp/5R1eJElaX19HrcOADNJ6ZYVl2UKhkEgkEokEphSsra11IoooijU++MDpRM/g/5d27Dx58qT7El84WitiJBJJJBLJZBJnhzRNuxvM8AuOx+O4Qtj8y+suPdUzArZjGEYwGASAmZmZa9euHR4ebmxsdOk+/ockSTUJSj2ibx21VkSe5w3DIKOgu4Q/rMVxXDqdJiNrt+innh0fH8/Pz8MzPQOAN95448aNGwDAsizJjCSoqtoLRVxbW+N5vlFUdRQ7cpT0QF6LouhOIEVRGIZJp9Msy1pTwjphaWlpZ2enD3pmmqYkScVi0a5nNWCc3zCM77///smTJ8fHx4VCoZ17cgpFUagimqb1NJLft4582Wy2ieNsmubm5ibOcubn55eWllz08fjx4+3t7ZWVlWq1ur29jYWYtdAJP/74Y0tPi+D3+wHg9PT00qVLZ2dnExMT4+PjADA1NTUxMQEAk5OTly9frltX1/Xt7W1c4AYA0zR///33s7Oz09PT4+NjAHj69OmlS5d8Pt/Z2dnZ2Zm9BRc3u7+/Pz4+3jxMls/nJycnl5eXG0neLbrY0cOHD8vlMj4Q4rwCgJ/n+UY/9EqlIkkSmWt/8cUXi4uLLvoWRfGbb75ZXFzc2toiitihxwP/fxuTk5MA8Pfff8/MzADA1NQUDmxLS0uYcrGwsIDXZDKZX3/91ZrYRsChulKp3L9/3zTNarW6t7cHAH/88QcAbG5unpycPH36tK4wp6enTUR1cbMffvjh7du362ZzIhsbG/l8vlKpuGvfOd3tKJPJlMtlbMf6DTbLviFPgaZpjuNkWXaRVSGKYjabxdckX6t5vw4BgE8++URRFEVRSDJOEwqFgqIo77777ssvvxyLxd55551gMBgMBq9cuTI5OUlR1NjYWIdPmbQzOzsbDAbD4fCbb77p7maDweBHH33U6FPMRSL9ktsvFouyLFufhr2kLRp15Bpr8rL10TWcIyaTyUwmA88yCFVVdTfd0TRN0zS0/tbpGsnlcdEm4b333iORIE3TsP3vvvsOR/Gff/4ZAI6Ojs7Ozvx+f7VaJaN7Npu1tnNycuKku8nJSWxnampqbGzM7/fjjDkYDL711lsAEAqFaiZSnTgrOzs7dctxwwZx+FKpFLFpPM/v7u4WCgXiU9pLnNOko+7T6HcQCATwAhzPUAs7/DV0fUR86aWXpqamejeexWKxWCyGe6gVRXGRTIm37OLucKi2j0C6rpOvJhAIpFIp66c4D4lGo01KHNK8I9c0GhHrP6NoNIqfWlNNMUO7cyGQDps6b//ob9Sz55577vnnn7fq2WeffYb2vZGeuVamTupiMNKe6mvVD/tkqYumuXlHrmlomu2b6A4ODjB2vbCwEIlE0HoeHByMjY2JoriwsDA/P3/r1i2c+zvk4ODg66+/rlQqy8vLWHLnzh2GYb788st29akR4+Pjfr//5OTk8uXLL774ot/vX1hYAIDZ2Vk0oHNzc3Nzc02clVKpVHfpEp0Yd7MI13Wr1SpFUevr6zMzMzUbcT7//HPc5bO4uGhvmWXZmi/UXuKQ5h25A/0/e2t1wjfoYAPA8vLy9PS0aZrlchlLCH6//9q1a6+88opzCQ4PD//555/x8XHTNCuVCkbpOiGfzwcCgRdeeGF2dhZFunr1astaDx8+fPz4cVt7rEj4xoWQruv+9NNPgUDgr7/+Mk1zZWWlJm6yv7+/s7Nz69atXgduut5Ro/BNHauBF3Ech2+bRBDa2iNi/TK6MuEAV/Ydt7y0VaXGvKZSKefyd2Ka3377bbSPdZ9zPB7vzx6d7nbUyDTXyUdEPcWsbFVV0XeORqPoaYqiSFRzfX3dxYg9hEkPbZHNZmuc7h5x//59PERlfX2dzBmSyaTP5/P5fIZh4HEDPeq9bx0hDRNjiasIAKIo5nI5QRA4jguHw+l0WlEUnMk6T2e0Jj30euHyYvDnn3/iMXzxeJwcLoWrOwCAWXmrq6vu5n8t6VtHSB1FRIcfI0bYN9nrzrIs7lbheR4L0a1piTXpQZIk74QaJ1y5ckWW5VKpFIlESBQQT6ISRVFVVU3TFEXp0fDct46QOopoHa5qhq5wOEx+FolEAlXWiXW2Jj2grR9d7FHrHvH+++8DgCAIgiCQny7P8zRNv/baa+Rtj/5Mrm8d/Rdvq4DHUGD3a9BTI45hNBplGIZERMGy4Ihx75aOEsdxeEpE11dWBuI142kT7uoiuq63XKTB4yvOnx1AVbM00rczLbreURteM0VRiURClmVcuk2n01ZjRNM0sc6apjUJ7iCSJOGhwq5+JhcTTdOc5zwnEgmO42oWefv2365966h+0kMymcSHhedh5nI5Ej4IhUK4Fp5MJq2Z243oadJDTzEMA1M9MLWsBgwdhEIhPDi5rbrtsra2JghCrwMoA6bREKrrOsMweAZXzdAqiiJGE9qNS/faNDsxeU5Ms67r1mXxGoFFUQwEAtFoFGcmNQdGNq+LKIrCcVwqlWoiLTHN5GbJMZAjTdtpYHgwsCRJgiBQFEVO8VdVdWtri2GYQqHQrsG1KqKqql0Pa2uaJstyh6Os/YhbBP/WAF+HQiGMp/h8vkwmQ8YqJ3Xh2d6afD4viqJz29fP7Wb9p8VWAQAwTfPRo0dkZ261WjVNs93zMKvV6oMHD0zTxAR9AKhUKtPT07jtyB35fB5Xw0mJrut7e3vNZWu51kyW2mu4efMmCm9tIZ/P+/1+zH51UhcAHjx48OjRI3x9/fp163q9aZq6ruOT2dvbu3r1KlmRz+fzfVhZ7gP7+/uHh4f49Ky/2GZbBeqytbV19+7dnuamOySfz3/wwQdWlULZbty4wTDM3Nxc3VqYfdNE/jt37tgLl5eXv/rqq5oWfvjhh3w+//HHH2PAz0ldeBYonpiY+PTTT4kGVyqVu3fvkohxuVyemZl5/fXX0Rfc2Nj45ZdfupipNIw0suW6rsuybE30R3B+09t5hDPANkckQ3uToEPLOaL9EdE0bZ3MYQuFQsGejtCy7vn5OU3T0WjUKgNOx+11E4kEXhCPx9s9unzkaKiI1kdj1cXBKqKu69lsVhRFnG5aFZEk84LNi7LWaqmINa5GPB6vySoVRZGmaZqm7VHMlnWRmmdod24QosGdpyQPP/UVsWZV0frUUqnUQBSxrjdq/XqwJBAIWH829lqvvvpqS/kLhYIoio28WlmWyUHO7dZFahSRJEI3eub/BhwpojWs37c0OCuNjNe3335LrnFu8m7evNmhPK5PAkcURcExFX8zdgntBv3C03DzFHkoVruAq399MxOFQoHjOI7jcANHXZWKRqPE/FlHGlEUm9TCMF5/7qKGYrFYsyXIoUG/2NSPI4ZCIY7jNE3DfBkSA0skEizL9j+tdX9/315IURSJiXSxVq9hWRZTaWiaxuzjZDIZi8Wy2Ww4HG73j70uDo00FO0aTdOpVApz0TiOs2Y/9BO72HWN10iYPJSEYZjBijFsNFtqwwgO2cIywH8xcWK8RsXkybI8KIdvmGl9YuyQoGlac+NFURQxeblcDpcfW9YaCKqqdr4UecFw+je5A6flEX2ohQzDWLdW9OFgP4+uMDIjYkuSySRFUdlsdvhHGsMwcEfSoAUZIkbjH+ydIEnSqHy13r+12bk4iugx0lwc0wyeyRtl/gMMVp0c2GGbWwAAAABJRU5ErkJggg==\"/>"
      ],
      "text/plain": [
       "Chain([4C:0.25♩, 4C+:0.25♩, 4E:0.25♩, 4Eb:0.25♩, 4D+:0.25♩])"
      ]
     },
     "execution_count": 2,
     "metadata": {},
     "output_type": "execute_result"
    }
   ],
   "source": [
    "ch = Chain([\n",
    "    \"4c/16\",\n",
    "    \"4c+/16\",\n",
    "    \"4e/16\",\n",
    "    \"4eb!/16:id=foo\",\n",
    "    \"4d+/16\"\n",
    "])\n",
    "ch"
   ]
  },
  {
   "cell_type": "code",
   "execution_count": 3,
   "id": "8e6a793b-1e62-4180-9cd1-f516ac1c8e9e",
   "metadata": {},
   "outputs": [
    {
     "data": {
      "text/html": [
       "<code style=\"font-size:0.9em\">Chain([<span style=\"color:#6666E0\">4C#:0.25♩</span>, <span style=\"color:#6666E0\">4Db<:0.25♩</span>, <span style=\"color:#6666E0\">4E:0.25♩</span>, <span style=\"color:#6666E0\">4D#>:0.25♩</span>, <span style=\"color:#6666E0\">4D+:0.25♩</span>], dur=1.25)</code><br>\n",
       "        <img style=\"display:inline; padding:10px;\n",
       "margin-top:14px;\n",
       "width:226px\"\n",
       "             src=\"data:image/png;base64,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\"/>"
      ],
      "text/plain": [
       "Chain([4C#:0.25♩, 4Db<:0.25♩, 4E:0.25♩, 4D#>:0.25♩, 4D+:0.25♩])"
      ]
     },
     "execution_count": 3,
     "metadata": {},
     "output_type": "execute_result"
    }
   ],
   "source": [
    "ch = Chain([\n",
    "    \"4c#!/16\",\n",
    "    \"4c+75/16\",\n",
    "    \"4e/16\",\n",
    "    \"4eb+25/16\",\n",
    "    \"4d+/16\"\n",
    "])\n",
    "ch"
   ]
  },
  {
   "cell_type": "code",
   "execution_count": 1,
   "id": "dfb63d94-1487-44cf-bd57-3cf5087ff0c6",
   "metadata": {},
   "outputs": [
    {
     "name": "stdout",
     "output_type": "stream",
     "text": [
      "Spelling: 4G# 4F# 4E+ 4D# 4D+, penalty= 0.08301, intervalPenalty=0.006891, groupPenalty=0, chordPenalty=0\n",
      "Spelling: 4Ab 4Gb 4F- 4Eb 4D+, penalty= 0.2717, intervalPenalty=0, groupPenalty=0, chordPenalty=0.07383\n",
      "Spelling: 4Ab 4Gb 4F- 4Eb 4Eb-, penalty= 0.4429, intervalPenalty=0.006891, groupPenalty=0.1154, chordPenalty=0.07383\n",
      "Spelling: 4Ab 4F# 4E+ 4D# 4D+, penalty= 0.5854, intervalPenalty=0.3297, groupPenalty=0.001152, chordPenalty=0.01193\n",
      "Spelling: 4Ab 4Gb 4F- 4D# 4D+, penalty= 0.8217, intervalPenalty=0.6003, groupPenalty=0.001152, chordPenalty=0.07383\n",
      "Spelling: 4Ab 4Gb 4E+ 4D# 4D+, penalty= 0.8217, intervalPenalty=0.6003, groupPenalty=0.001152, chordPenalty=0.07383\n",
      "Spelling: 4G# 4F# 4E+ 4Eb 4D+, penalty= 1.453, intervalPenalty=2.11, groupPenalty=0.001152, chordPenalty=0\n",
      "Spelling: 4G# 4F# 4F- 4Eb 4D+, penalty= 1.453, intervalPenalty=2.11, groupPenalty=0.001152, chordPenalty=0\n",
      "Spelling: 4G# 4F# 4F- 4Eb 4Eb-, penalty= 1.581, intervalPenalty=2.358, groupPenalty=0.1396, chordPenalty=0\n",
      "Spelling: 4G# 4Gb 4F- 4Eb 4D+, penalty= 1.607, intervalPenalty=2.553, groupPenalty=0.001152, chordPenalty=0.0264\n",
      "Spelling: 4G# 4Gb 4F- 4Eb 4Eb-, penalty= 1.73, intervalPenalty=2.826, groupPenalty=0.1396, chordPenalty=0.0264\n",
      "Spelling: 4Ab 4F# 4E+ 4Eb 4D+, penalty= 1.947, intervalPenalty=3.779, groupPenalty=0.001152, chordPenalty=0.01193\n",
      "Spelling: 4Ab 4F# 4F- 4Eb 4D+, penalty= 1.947, intervalPenalty=3.779, groupPenalty=0.001152, chordPenalty=0.01193\n",
      "Spelling: 4Ab 4F# 4F- 4Eb 4Eb-, penalty= 2.064, intervalPenalty=4.108, groupPenalty=0.1396, chordPenalty=0.01193\n",
      "Spelling: 4Ab 4Gb 4E+ 4Eb 4D+, penalty= 2.162, intervalPenalty=4.599, groupPenalty=0, chordPenalty=0.07383\n",
      "Spelling: 4G# 4F# 4F- 4D# 4D+, penalty= 2.227, intervalPenalty=4.962, groupPenalty=0, chordPenalty=0\n",
      "Spelling: 4G# 4Gb 4E+ 4D# 4D+, penalty= 2.379, intervalPenalty=5.63, groupPenalty=0.001152, chordPenalty=0.0264\n",
      "Spelling: 4G# 4Gb 4F- 4D# 4D+, penalty= 2.379, intervalPenalty=5.63, groupPenalty=0.001152, chordPenalty=0.0264\n",
      "Spelling: 4Ab 4F# 4F- 4D# 4D+, penalty= 2.721, intervalPenalty=7.391, groupPenalty=0.001152, chordPenalty=0.01193\n",
      "Spelling: 4G# 4Gb 4E+ 4Eb 4D+, penalty= 3.746, intervalPenalty=14.01, groupPenalty=0.001152, chordPenalty=0.0264\n",
      "Spelling: 4G# 4F# 4E+ 4Eb 4Eb-, penalty= 4.1, intervalPenalty=2.358, groupPenalty=14.45, chordPenalty=0\n",
      "Spelling: 4Ab 4F# 4E+ 4Eb 4Eb-, penalty= 4.31, intervalPenalty=4.108, groupPenalty=14.45, chordPenalty=0.01193\n",
      "Spelling: 4Ab 4Gb 4E+ 4Eb 4Eb-, penalty= 4.385, intervalPenalty=4.962, groupPenalty=14.2, chordPenalty=0.07383\n",
      "Spelling: 4G# 4Gb 4E+ 4Eb 4Eb-, penalty= 5.396, intervalPenalty=14.63, groupPenalty=14.45, chordPenalty=0.0264\n",
      "DEBUG: Enharmonic spelling - orig. ['4G#', '4F#', '4E+', '4D#', '4D+'], horizontal solution=['4G#', '4F#', '4E+', '4D#', '4D+']\n",
      "DEBUG: Enharmonic spelling - chord «0.000:0.250 [3B 4D# 4G#] properties={'resetEnharmonicSlots': True}» - previous slots state:\n",
      "       \n",
      "       chords fixed slots: \n",
      "DEBUG: Enharmonic spelling - chord «0.000:0.250 [3B 4D# 4G#] properties={'resetEnharmonicSlots': True}» - solution: ('3B', '4D#', '4G#')\n",
      "       fixed slots: G#\n",
      "       variants: [('3B', '4D#', '4G#'), ('3B', '4Eb', '4G#')]\n",
      "DEBUG: Enharmonic spelling - chord «0.250:0.500 [4C# 4E 4F#]» - previous slots state:\n",
      "       D#, G#\n",
      "       chords fixed slots: D#, G#\n",
      "DEBUG: Enharmonic spelling - chord «0.250:0.500 [4C# 4E 4F#]» - solution: ('4C#', '4E', '4F#')\n",
      "       fixed slots: D#, F#, G#\n",
      "       variants: [('4C#', '4E', '4F#'), ('4Db', '4E', '4F#')]\n"
     ]
    },
    {
     "data": {
      "text/html": [
       "<code style=\"font-size:0.9em\">Chain([<span style=\"color:#6666E0\">‹3B 4D# 4G# 0.25♩›</span>, <span style=\"color:#6666E0\">‹4C# 4E 4F# 0.25♩›</span>, <span style=\"color:#6666E0\">4E+:0.25♩</span>, <span style=\"color:#6666E0\">4D#</span>, <span style=\"color:#6666E0\">4D+:0.25♩</span>], dur=2)</code><br>\n",
       "        <img style=\"display:inline; padding:10px;\n",
       "margin-top:14px;\n",
       "width:234px\"\n",
       "             src=\"data:image/png;base64,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\"/>"
      ],
      "text/plain": [
       "Chain([‹3B 4D# 4G# 0.25♩›, ‹4C# 4E 4F# 0.25♩›, 4E+:0.25♩, 4D#, 4D+:0.25♩])"
      ]
     },
     "execution_count": 1,
     "metadata": {},
     "output_type": "execute_result"
    }
   ],
   "source": [
    "from maelzel.core import *\n",
    "c = getConfig()\n",
    "c['enharmonicSpellingDebug'] = True\n",
    "\n",
    "ch = Chain([\n",
    "    \"3b,4eb,4g#/16\",\n",
    "    \"4c#,4e,4f#/16\",\n",
    "    \"4e+/16\",\n",
    "    \"4eb16\",\n",
    "    \"4d+/16\"\n",
    "])\n",
    "ch"
   ]
  },
  {
   "cell_type": "code",
   "execution_count": 2,
   "id": "7f4869dd-06c9-4bda-969d-d44bc4d54775",
   "metadata": {},
   "outputs": [
    {
     "name": "stdout",
     "output_type": "stream",
     "text": [
      "Spelling: 4Ab 4Gb, penalty= 0.2365, intervalPenalty=0, groupPenalty=0, chordPenalty=0.05592\n",
      "Spelling: 4Ab 4F#, penalty= 2.451, intervalPenalty=2, groupPenalty=4, chordPenalty=0.009035\n",
      "DEBUG: Enharmonic spelling - orig. ['4Ab', '4F#'], horizontal solution=['4Ab', '4Gb']\n",
      "DEBUG: Enharmonic spelling - chord «0.000:2.000 [3B 4D# 4Ab] gliss mf properties={'resetEnharmonicSlots': True}» - previous slots state:\n",
      "       \n",
      "       chords fixed slots: \n",
      "DEBUG: Enharmonic spelling - chord «0.000:2.000 [3B 4D# 4Ab] gliss mf properties={'resetEnharmonicSlots': True}» - solution: ('3B', '4Eb', '4Ab')\n",
      "       fixed slots: Ab\n",
      "       variants: [('3B', '4Eb', '4Ab'), ('3B', '4D#', '4Ab')]\n",
      "DEBUG: Enharmonic spelling - chord «2.000:grace [4C# 4E 4Gb] properties={'.clefHint': {0: 'g', 1: 'g', 2: 'g'}}» - previous slots state:\n",
      "       Eb, Ab\n",
      "       chords fixed slots: Eb, Ab\n",
      "DEBUG: Enharmonic spelling - chord «2.000:grace [4C# 4E 4Gb] properties={'.clefHint': {0: 'g', 1: 'g', 2: 'g'}}» - solution: ('4Db', '4E', '4Gb')\n",
      "       fixed slots: Eb, Gb, Ab\n",
      "       variants: [('4Db', '4E', '4Gb'), ('4C#', '4E', '4Gb')]\n",
      "Spelling: 3F 4C, penalty= 0, intervalPenalty=0, groupPenalty=0, chordPenalty=0\n",
      "DEBUG: Enharmonic spelling - orig. ['3F', '4C'], horizontal solution=['3F', '4C']\n"
     ]
    },
    {
     "data": {
      "text/html": [
       "<code style=\"font-size:0.9em\">‹3F 3B 4Eb 4Ab 2♩ gliss=4C,4C#,4E,4F#›</code><br>\n",
       "        <img style=\"display:inline; padding:10px;\n",
       "margin-top:14px;\n",
       "width:133px\"\n",
       "             src=\"data:image/png;base64,iVBORw0KGgoAAAANSUhEUgAAAIUAAACHCAIAAAC3cA1gAAAJLmlDQ1BJQ0MgUHJvZmlsZQAAeJyVlWdQk1kXx+/zPOmFQBJCh1BDkSolgJQQWijSq6hA6J1QRWyIuAIriog0RZBFARdclSJrRRQLi4ICFnSDLALKunEVUUFZcN8ZnfcdP7z/mXvPb/5z5t5zz/lwASCIg2XBy3tiUrrA28mOGRgUzATfKIyflsLx9HQD39W7EQCtxHu638/5rggRkWn85bi4vHL5KYJ0AKDsZdbMSk9Z4aPLTA+P/8JnV1iwXOAy31jh6H957EvOvyz6kuPrzV1+FQoAHCn6Gw7/hv9z74pUOIL02KjIbKZPclR6Vpggkpm20gkel8v0FCRHxSZEflPw/5X8HaVHZqevRG5yyiZBbHRMOvN/DjUyMDQEX2fxxutLjyFG/3/PZ0VfveR6ANhzACD7vnrhlQB07gJA+tFXT225r5R8ADru8DMEmf96qJUNDQiAAuhABigCVaAJdIERMAOWwBY4ABfgAXxBENgA+CAGJAIByAK5YAcoAEVgHzgIqkAtaABNoBWcBp3gPLgCroPb4C4YBo+BEEyCl0AE3oEFCIKwEBmiQTKQEqQO6UBGEBuyhhwgN8gbCoJCoWgoCcqAcqGdUBFUClVBdVAT9At0DroC3YQGoYfQODQD/Q19hBGYBNNhBVgD1ofZMAd2hX3h9XA0nArnwPnwXrgCrodPwh3wFfg2PAwL4ZfwHAIQIsJAlBFdhI1wEQ8kGIlCBMhWpBApR+qRVqQb6UPuIUJkFvmAwqBoKCZKF2WJckb5ofioVNRWVDGqCnUC1YHqRd1DjaNEqM9oMloerYO2QPPQgehodBa6AF2ObkS3o6+hh9GT6HcYDIaBYWHMMM6YIEwcZjOmGHMY04a5jBnETGDmsFisDFYHa4X1wIZh07EF2ErsSewl7BB2EvseR8Qp4YxwjrhgXBIuD1eOa8ZdxA3hpnALeHG8Ot4C74GPwG/Cl+Ab8N34O/hJ/AJBgsAiWBF8CXGEHYQKQivhGmGM8IZIJKoQzYlexFjidmIF8RTxBnGc+IFEJWmTuKQQUgZpL+k46TLpIekNmUzWINuSg8np5L3kJvJV8lPyezGamJ4YTyxCbJtYtViH2JDYKwqeok7hUDZQcijllDOUO5RZcby4hjhXPEx8q3i1+DnxUfE5CZqEoYSHRKJEsUSzxE2JaSqWqkF1oEZQ86nHqFepEzSEpkrj0vi0nbQG2jXaJB1DZ9F59Dh6Ef1n+gBdJEmVNJb0l8yWrJa8IClkIAwNBo+RwChhnGaMMD5KKUhxpCKl9ki1Sg1JzUvLSdtKR0oXSrdJD0t/lGHKOMjEy+yX6ZR5IouS1Zb1ks2SPSJ7TXZWji5nKceXK5Q7LfdIHpbXlveW3yx/TL5ffk5BUcFJIUWhUuGqwqwiQ9FWMU6xTPGi4owSTclaKVapTOmS0gumJJPDTGBWMHuZImV5ZWflDOU65QHlBRWWip9KnkqbyhNVgipbNUq1TLVHVaSmpOaulqvWovZIHa/OVo9RP6Tepz6vwdII0Nit0akxzZJm8Vg5rBbWmCZZ00YzVbNe874WRoutFa91WOuuNqxtoh2jXa19RwfWMdWJ1TmsM7gKvcp8VdKq+lWjuiRdjm6mbovuuB5Dz00vT69T75W+mn6w/n79Pv3PBiYGCQYNBo8NqYYuhnmG3YZ/G2kb8Y2qje6vJq92XL1tddfq18Y6xpHGR4wfmNBM3E12m/SYfDI1MxWYtprOmKmZhZrVmI2y6WxPdjH7hjna3M58m/l58w8WphbpFqct/rLUtYy3bLacXsNaE7mmYc2ElYpVmFWdldCaaR1qfdRaaKNsE2ZTb/PMVtU2wrbRdoqjxYnjnOS8sjOwE9i1281zLbhbuJftEXsn+0L7AQeqg59DlcNTRxXHaMcWR5GTidNmp8vOaGdX5/3OozwFHp/XxBO5mLlscel1Jbn6uFa5PnPTdhO4dbvD7i7uB9zH1qqvTVrb6QE8eB4HPJ54sjxTPX/1wnh5elV7Pfc29M717vOh+Wz0afZ552vnW+L72E/TL8Ovx5/iH+Lf5D8fYB9QGiAM1A/cEng7SDYoNqgrGBvsH9wYPLfOYd3BdZMhJiEFISPrWeuz19/cILshYcOFjZSNYRvPhKJDA0KbQxfDPMLqw+bCeeE14SI+l3+I/zLCNqIsYibSKrI0cirKKqo0ajraKvpA9EyMTUx5zGwsN7Yq9nWcc1xt3Hy8R/zx+KWEgIS2RFxiaOK5JGpSfFJvsmJydvJgik5KQYow1SL1YKpI4CpoTIPS1qd1pdOXP8X+DM2MXRnjmdaZ1Znvs/yzzmRLZCdl92/S3rRn01SOY85Pm1Gb+Zt7cpVzd+SOb+FsqdsKbQ3f2rNNdVv+tsntTttP7CDsiN/xW55BXmne250BO7vzFfK350/sctrVUiBWICgY3W25u/YH1A+xPwzsWb2ncs/nwojCW0UGReVFi8X84ls/Gv5Y8ePS3qi9AyWmJUf2YfYl7RvZb7P/RKlEaU7pxAH3Ax1lzLLCsrcHNx68WW5cXnuIcCjjkLDCraKrUq1yX+ViVUzVcLVddVuNfM2emvnDEYeHjtgeaa1VqC2q/Xg09uiDOqe6jnqN+vJjmGOZx543+Df0/cT+qalRtrGo8dPxpOPCE94nepvMmpqa5ZtLWuCWjJaZkyEn7/5s/3NXq25rXRujregUOJVx6sUvob+MnHY93XOGfab1rPrZmnZae2EH1LGpQ9QZ0ynsCuoaPOdyrqfbsrv9V71fj59XPl99QfJCyUXCxfyLS5dyLs1dTrk8eyX6ykTPxp7HVwOv3u/16h245nrtxnXH61f7OH2XbljdOH/T4ua5W+xbnbdNb3f0m/S3/2byW/uA6UDHHbM7XXfN73YPrhm8OGQzdOWe/b3r93n3bw+vHR4c8Rt5MBoyKnwQ8WD6YcLD148yHy083j6GHit8Iv6k/Kn80/rftX5vE5oKL4zbj/c/83n2eII/8fKPtD8WJ/Ofk5+XTylNNU0bTZ+fcZy5+2Ldi8mXKS8XZgv+lPiz5pXmq7N/2f7VLwoUTb4WvF76u/iNzJvjb43f9sx5zj19l/huYb7wvcz7Ex/YH/o+BnycWshaxC5WfNL61P3Z9fPYUuLS0j9CLJC+ERlPpwAAEglJREFUeJztnT1s28YXwM+Bi9hAYVAa4tYZbNJJag9pG9Fwgw5NAMrwkCFAIcndMlEaMvzbDqT2AIXope1SVFS3Do1FLx3aoiANJAY61BDlBs3guBZtDy6sFBCFuKhcWIX+w0MOZ1kfJPVB0tFvMCRaIk98vLv3de+GarUa6i+iKCKEJEnq83V9wQW3GzDgFAN5eIuBPLzFQB7eYiAPbzGQh7cYyMNbDOThLQby8BZ+kodpmpIkhcNhURRN08THNU2LRqPxeNwwDBeb1xV8Iw/DMBiGYVlW0zTDMKLRKBxXFEUURVmWE4kEy7J+F4lv5JFKpaLRaDgchrcMw8ALURSTyWQgEGBZNhqNplIp99rYBfwhD9M0M5nMwsICvFUURZZlhJCu67u7u4FAAI4HAgFFUVxrZTcY7s9lRFFUFGV3dxchND8/f/v2bfwvwzDS6XTd56enp+PxOH6r6zp8MhqNrq6uRiIRWZYDgQAcx50GIVQul3v4M3pPz+VhmmY4HM7n8/jIxsbGzMwM+QG4rS1QVRUhVCgUZFmWZTkcDkejUU3TCoVCj5rtGrUew/P82YtKkmTrJNCBVFWFt4IgIIRKpRLIKZfLkce7/AP6S8/7x9kBnaZpuHGArusQoSJhWZYMWLEse/bMgUAAZnVS9w2FQp232UWsysM0zWg0GovFyGHdARRF1UkIVKO6j01PT5NvWZYNhUKqqsJUYZomx3EIIYZheJ7HxzVNSyQSnTTPfax0olKpBM8dRVGFQsFWB8xmszRNw3d5nrf7dUyhUAiFQoIgCILAcVypVMJt4zhOEIRIJCIIgrOTewdL8iCHF57ne92mFuRyOTxb1B13LGlPMVRrl8+g6/rc3Bx5pFAoYHNsQHdpbw9i44CiKFVVeZ4/ay54B13XSXPEd7SXh6ZpCCGKojRNC4fD09PTXraBTdNcW1tzuxXOaS8PMKoVRQEtiGXZ3d1dv7vtPIsl/xXHcXWDAHSaAV3HkjxisRh+jV0XvWrRq40leZDa1GCk6ilDd+/effbs2eXLl5t9Ym1t7caNG8FgECF0cnKyvr6OEJqenp6amrJ1pWKxWK1WR0dHT05Ojo6Orly50lnLG1MqlTY3N8F69zKVSqVSqcBdLZVK+PhwuVx+++23G3r9gF9//fWjjz4C+zyTycDBTz/99Nq1a7ZaIAjC06dP4fXHH398584du7/BCvl8fnNzM5lM9uLkXSSTyWSzWRj8cVwHIYTA2dDCYuQ4Lp1O12q1UqlEURRCiKZpB5YnfmYFQeidLQ2/0PHXBUGYnJzsXnNaXQi3k5RT+/mDZdlcLocQisfjEO1x9vSBWcDzfDKZbOiv9Q4uao/t5bGwsKBpmiRJq6urCCGaph24eMGE5DhOlmVRFD0exctms25dur08wuGwaZq4TzgzzlVVDYVCsiyzLIsnIYtATNDBRR2TyWTcUiOHq9Xq3t5eix66vb1drVbhdSwWM03Tbnfe3t7+7rvvvvrqq9XVVRy4tX6Sr7/+Gp3WuVsA53c84Ozt7b322mtXr16NRCLLy8vOTmLxQqhRO4euX7/+4sWLZtrnycnJxsbG8fExQmhiYmJ2dtbBtfP5/JUrV8bGxkAZhYPWVVK4xRYDfx3quzs7O3A3Njc3Z2ZmxsfHnZ3HyoX29/ehnaccbi30KxyGAhoGHqwoEtlsFl6D8gNYPwPHcRzHWfxw5/oVXAvCaI7PY+VCyK5+JYoiPJs0TXMc52wQ0HU9nU6Hw2HI88TH4YiVMzAM0/9wSzQaZRgGT5aBQGCoCd1dmNo0fi5JEky8EPHWNA20XruQUtQ0Dds+1qWL0936TCwWy+VykJjaQiEkrevOadw/DMPAiZegFIXDYdB3O4Ecr7zvIWYYpm1iWNdp3D+wiSAIAjwgLMvikJSDy0BqIc4LQQhBMq7HQ1tW7FbwQXUNMlVwgOtcuHz5cp1+hbNJIB+wVCqR+SUARVHg1LIOqYO2/W46ncafEQSBoqhIJBKJRNDpBJdSqcTzPPaqCYLwwQcfoJb6FWQMtfgv1uUcJDdZx4Z+BYMmjgmKonjWMiqXy4lE4mxeoRUEQWg76GWzWdJpAaoODG7YvIfMYHibSqUMw5AkqYtuY13X+6/XNZAHmCcQE9Q0DX5wJBKBGyQIAnbOLy8vW5+WO/EnkioW9AaEUCqVyufzHMfhjFPTNL/55htbZ26BKzlNTe0PmMZBIxIEQVGUaDTKcdz09LQsy6qqwn2xmPvTFX8ieLFIT5ogCJqmwY1TFIVhmD/++MNie+p0J1hn9dtvvzloWDc5a59Deie8hkGfHPXwh7EkrAyXPM+HQiHI+bTyLZ7n8TwBY3oul6MoimxqKBSCF6VSCaYW9LJbtzgzzEYw6+Cvk24Id+MfDfxXv//++/Pnz0ESpJsFIXRwcFAsFnHrf/nll+PjYxzNbcaLFy82Nzfn5+crlYpF/9XOzg5CCFq1s7NTLBYRQrOzs+SF8vn82NgYtKparY6MjExNTY2Ojrb2Xx0cHFQqlcnJyfX19ffff390dBR+L/7A8PDwrVu3WrStKzTzXw0Hg8HZ2VkyXvvDDz988cUXMCzk83lRFD/88EOIzubz+QcPHuAR48GDB+vr6zia2wxBEL788str165BMBUOtg5qwaQFrVpZWXn48KEkSXUR4qOjo/X19T///HNiYuLq1au4hRCvzefzDx8+PKuJ5PN5XdfHxsZef/31Tz75BNWFSxG6dOlSH8K9mUxmf38fLtTGnwhxWaxuRiKRUCiE88kRQvg1jBJtO6YDf2KdVmpd7yT9iQ29kBCJIZVmsjO988471n2XndBsvGpgnwcCgXg8DutZA4GALMvxeJxhGFj2QtM0zpHVdb1FIgSg6zq4FNHphTN4xUaL74LiwDBM2wdW0zRd10ul0uTkZMMP4KJ0sNyEDHDB6tBSqRSLxbLZbP99JKdo5m/nOC4SieCugJ9QjuNSqVStVkulUnYtJlv9o5kNSNLaHqQoiqbpSCRSa2cGktfF/nZBEOzavNax7W9XFMUwjHA4DI8wVsZZli2VSpIkJZNJSZJsKem2/IkNbUASK/ZgIpEgO6UVTk5OWJaNxWLLy8uObV7HDM3PzyOEyAXIJI8ePXry5MnIyMhbb70FR/b394vF4vj4+OLi4htvvGHxMuVy+fvvvz8+PsbW3OHh4dTU1N27d5tdt1gsLi0tIYSWl5cvXrz4v//97+xnNjY2JicnFxcX4bTHx8fffvutaZrw9K2srCwtLcHfR48etfiZ5DmfPn36zz//4COTk5PQjO4CjYd2kkpHm/WDt2/fvnnz5tbWFrbgKIoaGRmx20SKou7du2evyQghhMBAu3nz5tl/PXv2jFzKvrW19fPPP//7778tzra1tUVRVMPHaGtr6/Dw8Pnz56QwEEJ20zAt8u677+Izk+nR7fPh6lBVtQ8aSDMbkKStPQgzCrT2rBmIqbMHL168iF/3f3Fe0/5hmiZoHXNzc7h4Sz+BkImiKM2cj4FAAAZ3WZbL5TJN08lkkmEY7Ijc3d3FyhIUfEgmk5DLQ0578XicLFdw6dKl+/fvg7rV/7y9pvIgiypks9k+iyQYDEJiUYs7ArN9oVCQJIllWfgkqSbUajXDMCB7j2EYKO/A83ydDlIX97x//36f5/BTNByv6hL0yAEqnU73x2JyFnuoyy/Bo+tZMxBD2oPurh6uWazPQLq7c7lcf3pxC01akqS6LIK9vb1isVipVMCjtbi4eOHChZ9++gl/4KwZiCHtQfcTixv2D3L5EyyrhePgSsFvXaFQKGCluQXDw8MuNtIxje1BhmE4jqMoCvwHeEaNx+OQa9KNJ8Eh4Lmpna4aAS6DWq0G2VCFQoF02fqJZvou/FqaptPptKqq2WyW4zjSseg6YExxHIdnGmizr6tmtMkXTaVSMN3ZNVP6AJgX+G02m4VxzNeFM7x4oy3S0B706W/B9KleXy9oaA92WA7KdfxRz7IhiqJAmSxJknK5HDb9SAzDEEUR6vu5HNiwiH/Hq7ak02mKoqCQWSQSsbJ+QFXV3sU8rODj/tEaqBVXLpeTyaRpmqurq1YCIaqqfvbZZ31oXjPOrTxg7KIoClZyUBRlPUvB0+trPQXMB7qu4xdQ1L0uT16WZShLhGsSmaZp3Uvo4vpaP80fOAMvFArhmDn2ncByuob1wq1PCVAPALlnxPimf0CSCtxu0zShQ+zu7sqyDF4TmB5EUawRGQJwW20pwcFgMBQKuaU3+0YeUHEcXicSCXA5RyKRaDQKcRrsD8ajP03TDnKig8GgLMu6rruyVsg38mBZFsf+otEovJibm4O7T956nMXiOIYGnnlXolK+kYckSYZh5PP5UCjEMAyIIRqNwt2HIhJQVAHbfXWJoLaoW1/bN3wjD/Ry0UIsFgPBQJ+Auw/ls2EKgXRYiqI6jAvA+tpuNNwGfpIHLDrBno+64QgqbuLJo/MJ2UPra70JvtcMw2AlSlEUGKlM0wwEAjB82bL+mmFxfW138VP/aEggEIAyA9Ah4ImGHYw6PHMul+vyWmYL+Kl/NAOi/YlEwjCMtbU1nucdqEaKouRyOXK9Gmi9XWynJXxknzcDxiie52ma5nnebkS52Xo1V0x0349XCKFwOFwoFKCQOewrZfGLsPXRzMwMmZ/4119/garmyvra8zBeIYQYhnFsvtVlorz55pvdaJFDzkP/cAD0DFjdUpefuLOzoyiKW0WFzkn/sAVUnKAoCm66D/ITzyuwvg0hBIvh3W5OA16h/oF3QsTbSbrdoga0ry96Ptje3hZF8e+//47FYjzPezbXpFV90UqlAkXw4W0wGOzEXu1PPf2GHBwc7OzsVKvVmZmZFjsH9BPb9UUFQYDk3UKhkMvlIFmWzFy2i636V10Et9xZfdQe0Wy9c2N5wGq7OkMXh6/xopVCoWD9zvannj6Jl2dvG/IA90PDG43vKfwXcgks9hgsS1hE0vEvOoWqqqlUShAE3AmwF4SsauAdbMgDcpOhuAEuPQLgRBjIZYYfXPeZhsAXYekYPLNd+VVn6zNEIhF4VuAHe1aVtyGPutVHZE8nV4nBQ2dxHLBb/8oKDdfjQGooNMxTE0YdTeUxqC/qKRrUF60r5lXXA5odbwGs7K85rd/eDF+vx7FRT0aSJCjZhxBKp9PNNleD4233yRBFMZFI9MIvtLu7CxkkeC/wcrksCIK/99ZtZn/kcrmzaglWeWGMtjKfcwRk2MfWrgUNQQjFYjFQzRFCYC11csIWtFjR68wgs1GPDGj4ROMBBx5M6Bytu0jn9fRbMDExgRAi6zP0iL7V07fhT9Q0DUpL4PRWXdc1TbOeWVNX/6rzddN37tzx9W7OZ2mzPw7m5ORkc3Pz6OhoeHj4xo0bUAbBOpVKJZ/PQxXQWq1WrVb/+++/YDB4/fp1x00nN6rsNS32jHawNSZq7r8aunXr1vj4eNsyiJ9//vmPP/6IOtjKURAEXFy0K/tBLiwsSJJkcR8jr+F8P8jaS4vaQQ19kq77r9DLiv9+xPZ8DsCyokwmQ9M03gLdGWT9dlytdEAdrfIZoHJJJpMRBEHX9U6E4a/9IF2k1f5RqVSKZVlVVTvXYcj9IMlkpwF1NKgvenh4+PjxY4TQe++915VqjoeHhysrK/fu3SuXy9hDfHaPF7ssLy/HYrEe1ZvsNVbri5bL5SdPnnRLEsDjx4+XlpYoihoMU+3pdb5P5/tBNgO9gvpV53RSv/0VpOfy6Kn/6vzR1/xdf+0H6Qp9yk/0436Q7jCI13qKobr53UcMDQ11xVb1FK/o+g/P4mN5cBznzRz1TvDxeGUFwzDS6bSu64FAwMG+oP3Hx/2jLeC+1DQNagO4smuGXc5t/8C2J3gwY7EYRVE+CLq46MPpKZBCBonbsM+O45US/cRn8igUCpDEjl9AUfO6HDCcJ9afrUq6iJ/k0Yf6ia7jG3nkcrlQKAS3m6Zp7ArLZrOQYkL63rEkfJHLS+Ib/apv9RPdxTfy6Gf9RDdxu4PaAOoqkUuzYFZHL5fBweiEXch+jB76pn+gvtdPdAU/1WdoWz8RasXBW79uBOJ2B+0UGKZUVYXBCq829+CaWiv4abxqSO/qJ7qC7+WBulQ/0SOcB3mA3xBihTzPwxaEPuWc+HcNw4CdoL0f4WjN/wGepQ5ia1UqPwAAAABJRU5ErkJggg==\"/>"
      ],
      "text/plain": [
       "‹3F 3B 4Eb 4Ab 2♩ gliss=4C,4C#,4E,4F#›"
      ]
     },
     "execution_count": 2,
     "metadata": {},
     "output_type": "execute_result"
    }
   ],
   "source": [
    "ch = Chord(\"3f 3b 4D# 4Ab!\", dur=2, dynamic='mf', gliss='4c 4c# 4E 4Gb')\n",
    "ch"
   ]
  },
  {
   "cell_type": "code",
   "execution_count": 3,
   "id": "41fba01a-a72f-4ed3-bf18-6388f6d22dcb",
   "metadata": {},
   "outputs": [
    {
     "name": "stdout",
     "output_type": "stream",
     "text": [
      "Spelling: 4Ab 4Gb, penalty= 0.5889, intervalPenalty=0, groupPenalty=0, chordPenalty=0.3468\n",
      "Spelling: 4Ab 4F#, penalty= 2.49, intervalPenalty=2, groupPenalty=4, chordPenalty=0.2002\n",
      "DEBUG: Enharmonic spelling - orig. ['4Ab', '4F#'], horizontal solution=['4Ab', '4Gb']\n",
      "DEBUG: Enharmonic spelling - chord «0.000:2.000 [3F 3B 4D# 4Ab] properties={'resetEnharmonicSlots': True}» - previous slots state:\n",
      "       \n",
      "       chords fixed slots: \n",
      "DEBUG: Enharmonic spelling - chord «0.000:2.000 [3F 3B 4D# 4Ab] properties={'resetEnharmonicSlots': True}» - solution: ('3F', '3B', '4Eb', '4Ab')\n",
      "       fixed slots: Ab\n",
      "       variants: [('3F', '3B', '4Eb', '4Ab'), ('3F', '3B', '4D#', '4Ab')]\n",
      "DEBUG: Enharmonic spelling - chord «2.000:3.000 [4C 4C# 4E 4Gb]» - previous slots state:\n",
      "       Eb, Ab\n",
      "       chords fixed slots: Eb, Ab\n",
      "DEBUG: Enharmonic spelling - chord «2.000:3.000 [4C 4C# 4E 4Gb]» - solution: ('4C', '4Db', '4E', '4Gb')\n",
      "       fixed slots: Eb, Gb, Ab\n",
      "       variants: [('4C', '4Db', '4E', '4Gb'), ('4C', '4C#', '4E', '4Gb')]\n"
     ]
    },
    {
     "data": {
      "text/html": [
       "<code style=\"font-size:0.9em\">Chain([<span style=\"color:#6666E0\">‹3F 3B 4Eb 4Ab 2♩›</span>, <span style=\"color:#6666E0\">‹4C 4Db 4E 4Gb 1♩›</span>], dur=3)</code><br>\n",
       "        <img style=\"display:inline; padding:10px;\n",
       "margin-top:14px;\n",
       "width:135px\"\n",
       "             src=\"data:image/png;base64,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\"/>"
      ],
      "text/plain": [
       "Chain([‹3F 3B 4Eb 4Ab 2♩›, ‹4C 4Db 4E 4Gb 1♩›])"
      ]
     },
     "execution_count": 3,
     "metadata": {},
     "output_type": "execute_result"
    }
   ],
   "source": [
    "ch = Chain([\n",
    "    \"3f,3b,4D#,4Ab!:2\",\n",
    "    \"4c,4c#,4E,4Gb/4\"\n",
    "])\n",
    "ch"
   ]
  },
  {
   "cell_type": "code",
   "execution_count": 4,
   "id": "9b68df54-b9e8-46f9-bc13-d14c95324f05",
   "metadata": {},
   "outputs": [
    {
     "name": "stdout",
     "output_type": "stream",
     "text": [
      "Spelling: 4C 4D 4E 4E-, penalty= 1.414, intervalPenalty=2, groupPenalty=0, chordPenalty=0\n",
      "Spelling: 4C 4D 4E 4D#+, penalty= 2.005, intervalPenalty=0, groupPenalty=4, chordPenalty=0.02\n",
      "DEBUG: Enharmonic spelling - orig. ['4C', '4D', '4E', '4E-'], horizontal solution=['4C', '4D', '4E', '4E-']\n",
      "DEBUG: Enharmonic spelling - chord «2.000:3.000 [4D# 4E-]» - previous slots state:\n",
      "       \n",
      "       chords fixed slots: \n",
      "DEBUG: Enharmonic spelling - chord «2.000:3.000 [4D# 4E-]» - solution: ('4D#', '4E-')\n",
      "       fixed slots: E-\n",
      "       variants: [('4D#', '4E-'), ('4Eb', '4E-')]\n"
     ]
    },
    {
     "data": {
      "text/html": [
       "<code style=\"font-size:0.9em\">Chain([<span style=\"color:#6666E0\">4C:0.5♩</span>, <span style=\"color:#6666E0\">4D:1♩</span>, <span style=\"color:#6666E0\">4E:0.5♩</span>, <span style=\"color:#6666E0\">‹4D# 4E-›</span>], dur=3)</code><br>\n",
       "        <img style=\"display:inline; padding:10px;\n",
       "margin-top:14px;\n",
       "width:180px\"\n",
       "             src=\"data:image/png;base64,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\"/>"
      ],
      "text/plain": [
       "Chain([4C:0.5♩, 4D:1♩, 4E:0.5♩, ‹4D# 4E-›])"
      ]
     },
     "execution_count": 4,
     "metadata": {},
     "output_type": "execute_result"
    }
   ],
   "source": [
    "ch = Chain([\n",
    "    \"4C:0.5\",\n",
    "    \"4D:1\",\n",
    "    \"4E:0.5\",\n",
    "    \"4D#,4E-\"\n",
    "    \n",
    "])\n",
    "ch"
   ]
  },
  {
   "cell_type": "code",
   "execution_count": 5,
   "id": "b65bcdd0-b97e-427d-9c33-2a586342ccc6",
   "metadata": {},
   "outputs": [
    {
     "name": "stderr",
     "output_type": "stream",
     "text": [
      "\n",
      "\n",
      "--Csound version 6.18 (double samples) Dec  2 2022\n",
      "[commit: ac38f27d1c5d6ee0cacc1bc719e96be3a2d93a15]\n",
      "\u001b[mlibsndfile-1.0.31\n",
      "\u001b[msr = 44100.0,\u001b[m kr = 689.062,\u001b[m ksmps = 64\n",
      "\u001b[m0dBFS level = 1.0,\u001b[m A4 tuning = 442.0\n",
      "\u001b[maudio buffered in 256 sample-frame blocks\n",
      "\u001b[mreading 1024-byte blks of shorts from adc:system:capture (RAW)\n",
      "writing 512 sample blks of 64-bit floats to dac:system:playback\n",
      "SECTION 1:\n",
      "\u001b[m"
     ]
    },
    {
     "data": {
      "application/vnd.jupyter.widget-view+json": {
       "model_id": "53d8f5368e3e44c197ca71d08c312834",
       "version_major": 2,
       "version_minor": 0
      },
      "text/plain": [
       "Button(description='Stop', style=ButtonStyle())"
      ]
     },
     "metadata": {},
     "output_type": "display_data"
    },
    {
     "data": {
      "application/vnd.jupyter.widget-view+json": {
       "model_id": "2061a9ef47944a0b9c8743107e74bec7",
       "version_major": 2,
       "version_minor": 0
      },
      "text/plain": [
       "Output()"
      ]
     },
     "metadata": {},
     "output_type": "display_data"
    },
    {
     "data": {
      "text/html": [
       "<small>SynthGroup - start: 0.047, dur: 3.000, synths: 5</small>\n",
       "<p>instr: <strong style=\"color:MediumSeaGreen\">preset.sin</strong> - <b>5</b> synths</p>\n",
       "<table><thead><tr><th style=\"text-align:left\">p1</th><th style=\"text-align:left\">start</th><th style=\"text-align:left\">dur</th><th style=\"text-align:left\">4</th><th style=\"text-align:left\">5:idataidx_</th><th style=\"text-align:left\">6:inumbps</th><th style=\"text-align:left\">7:ibplen</th><th style=\"text-align:left\">8:igain</th><th style=\"text-align:left\">9:ichan</th><th style=\"text-align:left\">10:ipos</th><th style=\"text-align:left\">11:ifadein</th><th style=\"text-align:left\">12:ifadeout</th><th style=\"text-align:left\">13:ipchintrp_</th><th style=\"text-align:left\">14:ifadekind</th><th style=\"text-align:left\">15:ktransp</th><th style=\"text-align:left\">16:klag</th><th style=\"text-align:left\">17</th><th style=\"text-align:left\">18</th><th style=\"text-align:left\">19</th><th style=\"text-align:left\">20</th><th style=\"text-align:left\">...</th></tr></thead><tbody><tr><td style=\"text-align:left\">501.0002 <b>𝍪</b></td><td style=\"text-align:left\">0.047</td><td style=\"text-align:left\">0.500</td><td style=\"text-align:left\">0</td><td style=\"text-align:left\">17</td><td style=\"text-align:left\">2</td><td style=\"text-align:left\">3</td><td style=\"text-align:left\">1</td><td style=\"text-align:left\">1</td><td style=\"text-align:left\">-1</td><td style=\"text-align:left\">0.02</td><td style=\"text-align:left\">0.02</td><td style=\"text-align:left\">0</td><td style=\"text-align:left\">1</td><td style=\"text-align:left\">0</td><td style=\"text-align:left\">0.1</td><td style=\"text-align:left\">0</td><td style=\"text-align:left\">60</td><td style=\"text-align:left\">0.51518</td><td style=\"text-align:left\">...</td></tr><tr><td style=\"text-align:left\">501.0003 <b>𝍪</b></td><td style=\"text-align:left\">0.547</td><td style=\"text-align:left\">1.000</td><td style=\"text-align:left\">0</td><td style=\"text-align:left\">17</td><td style=\"text-align:left\">2</td><td style=\"text-align:left\">3</td><td style=\"text-align:left\">1</td><td style=\"text-align:left\">1</td><td style=\"text-align:left\">-1</td><td style=\"text-align:left\">0.02</td><td style=\"text-align:left\">0.02</td><td style=\"text-align:left\">0</td><td style=\"text-align:left\">1</td><td style=\"text-align:left\">0</td><td style=\"text-align:left\">0.1</td><td style=\"text-align:left\">0</td><td style=\"text-align:left\">62</td><td style=\"text-align:left\">0.51518</td><td style=\"text-align:left\">...</td></tr><tr><td style=\"text-align:left\">501.0004 <b>𝍪</b></td><td style=\"text-align:left\">1.547</td><td style=\"text-align:left\">0.500</td><td style=\"text-align:left\">0</td><td style=\"text-align:left\">17</td><td style=\"text-align:left\">2</td><td style=\"text-align:left\">3</td><td style=\"text-align:left\">1</td><td style=\"text-align:left\">1</td><td style=\"text-align:left\">-1</td><td style=\"text-align:left\">0.02</td><td style=\"text-align:left\">0.02</td><td style=\"text-align:left\">0</td><td style=\"text-align:left\">1</td><td style=\"text-align:left\">0</td><td style=\"text-align:left\">0.1</td><td style=\"text-align:left\">0</td><td style=\"text-align:left\">64</td><td style=\"text-align:left\">0.51518</td><td style=\"text-align:left\">...</td></tr><tr><td style=\"text-align:left\">501.0005 <b>𝍪</b></td><td style=\"text-align:left\">2.047</td><td style=\"text-align:left\">1.000</td><td style=\"text-align:left\">0</td><td style=\"text-align:left\">17</td><td style=\"text-align:left\">2</td><td style=\"text-align:left\">3</td><td style=\"text-align:left\">0.70711</td><td style=\"text-align:left\">1</td><td style=\"text-align:left\">-1</td><td style=\"text-align:left\">0.02</td><td style=\"text-align:left\">0.02</td><td style=\"text-align:left\">0</td><td style=\"text-align:left\">1</td><td style=\"text-align:left\">0</td><td style=\"text-align:left\">0.1</td><td style=\"text-align:left\">0</td><td style=\"text-align:left\">63</td><td style=\"text-align:left\">0.51518</td><td style=\"text-align:left\">...</td></tr><tr><td style=\"text-align:left\">...</td></tr></tbody></table>"
      ],
      "text/plain": [
       "SynthGroup(n=5)\n",
       "    Synth(𝍪 preset.sin:501.0002, p4=0 idataidx_:5=17 inumbps:6=2 ibplen:7=3 igain:8=1 ichan:9=1 ipos:10=-1 ifadein:11=0.02 ifadeout:12=0.02 ipchintrp_:13=0 ifadekind:14=1 ktransp:15=0 klag:16=0.1 p17=0 p18=60 p19=0.515178 p20=0.5 ...)\n",
       "    Synth(𝍪 preset.sin:501.0003, p4=0 idataidx_:5=17 inumbps:6=2 ibplen:7=3 igain:8=1 ichan:9=1 ipos:10=-1 ifadein:11=0.02 ifadeout:12=0.02 ipchintrp_:13=0 ifadekind:14=1 ktransp:15=0 klag:16=0.1 p17=0 p18=62 p19=0.515178 p20=1 ...)\n",
       "    Synth(𝍪 preset.sin:501.0004, p4=0 idataidx_:5=17 inumbps:6=2 ibplen:7=3 igain:8=1 ichan:9=1 ipos:10=-1 ifadein:11=0.02 ifadeout:12=0.02 ipchintrp_:13=0 ifadekind:14=1 ktransp:15=0 klag:16=0.1 p17=0 p18=64 p19=0.515178 p20=0.5 ...)\n",
       "    Synth(𝍪 preset.sin:501.0005, p4=0 idataidx_:5=17 inumbps:6=2 ibplen:7=3 igain:8=0.707107 ichan:9=1 ipos:10=-1 ifadein:11=0.02 ifadeout:12=0.02 ipchintrp_:13=0 ifadekind:14=1 ktransp:15=0 klag:16=0.1 p17=0 p18=63 p19=0.515178 p20=1 ...)\n",
       "    Synth(𝍪 preset.sin:501.0006, p4=0 idataidx_:5=17 inumbps:6=2 ibplen:7=3 igain:8=0.707107 ichan:9=1 ipos:10=-1 ifadein:11=0.02 ifadeout:12=0.02 ipchintrp_:13=0 ifadekind:14=1 ktransp:15=0 klag:16=0.1 p17=0 p18=63.5 p19=0.515178 p20=1 ...)"
      ]
     },
     "execution_count": 5,
     "metadata": {},
     "output_type": "execute_result"
    }
   ],
   "source": [
    "ch.play(instr='sin')"
   ]
  },
  {
   "cell_type": "code",
   "execution_count": null,
   "id": "eee9a3e5-86c7-4750-9d2b-9687794f0d83",
   "metadata": {},
   "outputs": [],
   "source": []
  }
 ],
 "metadata": {
  "kernelspec": {
   "display_name": "Python 3 (ipykernel)",
   "language": "python",
   "name": "python3"
  },
  "language_info": {
   "codemirror_mode": {
    "name": "ipython",
    "version": 3
   },
   "file_extension": ".py",
   "mimetype": "text/x-python",
   "name": "python",
   "nbconvert_exporter": "python",
   "pygments_lexer": "ipython3",
   "version": "3.9.15"
  }
 },
 "nbformat": 4,
 "nbformat_minor": 5
}
