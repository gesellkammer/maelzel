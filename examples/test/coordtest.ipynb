{
 "cells": [
  {
   "cell_type": "code",
   "execution_count": 1,
   "id": "d2239d96-54ca-402e-87bb-f51230d0ecfc",
   "metadata": {},
   "outputs": [
    {
     "name": "stdout",
     "output_type": "stream",
     "text": [
      "csoundengine.magic extension loaded\n",
      "Magics available: %csound, %%csound, %%definstr\n"
     ]
    }
   ],
   "source": [
    "import csoundengine as ce\n",
    "from emlib.mathlib import frange\n",
    "import time"
   ]
  },
  {
   "cell_type": "code",
   "execution_count": 2,
   "id": "57622753-14b4-4fd5-a235-b529c2740394",
   "metadata": {},
   "outputs": [
    {
     "name": "stderr",
     "output_type": "stream",
     "text": [
      "\n",
      "\n"
     ]
    }
   ],
   "source": [
    "\n",
    "e = ce.Engine(latency=0.01)"
   ]
  },
  {
   "cell_type": "code",
   "execution_count": 3,
   "id": "306a7722-0b1a-4fa5-acb1-c25399a77dc9",
   "metadata": {},
   "outputs": [],
   "source": [
    "s = e.session()"
   ]
  },
  {
   "cell_type": "code",
   "execution_count": 4,
   "id": "62d60406-8605-4416-9cf3-cd9d16de958e",
   "metadata": {},
   "outputs": [
    {
     "data": {
      "text/html": [
       "Instr <strong style=\"color:MediumSeaGreen\">click</strong><br>\n",
       "<div class=\"highlight\" style=\"background: #111111\"><pre style=\"line-height: 125%;\"><span></span><code><span style=\"color: #cdcaa9; font-weight: bold\">i</span><span style=\"color: #ffffff\">freq</span> <span style=\"color: #ffffff\">=</span> <span style=\"color: #fb660a\">p5</span>\n",
       "<span style=\"color: #cdcaa9; font-weight: bold\">a</span><span style=\"color: #ffffff\">env</span> <span style=\"color: #ffffff\">linseg</span> <span style=\"color: #0086f7; font-weight: bold\">0</span><span style=\"color: #ffffff\">,</span> <span style=\"color: #0086f7; font-weight: bold\">0.01</span><span style=\"color: #ffffff\">,</span> <span style=\"color: #0086f7; font-weight: bold\">1</span><span style=\"color: #ffffff\">,</span> <span style=\"color: #0086f7; font-weight: bold\">0.05</span><span style=\"color: #ffffff\">,</span> <span style=\"color: #0086f7; font-weight: bold\">0</span>\n",
       "<span style=\"color: #cdcaa9; font-weight: bold\">a</span><span style=\"color: #ffffff\">sig</span> <span style=\"color: #ffffff\">oscili</span> <span style=\"color: #0086f7; font-weight: bold\">0.1</span><span style=\"color: #ffffff\">,</span> <span style=\"color: #cdcaa9; font-weight: bold\">i</span><span style=\"color: #ffffff\">freq</span>\n",
       "<span style=\"color: #cdcaa9; font-weight: bold\">a</span><span style=\"color: #ffffff\">sig</span> <span style=\"color: #ffffff\">*=</span> <span style=\"color: #cdcaa9; font-weight: bold\">a</span><span style=\"color: #ffffff\">env</span>\n",
       "<span style=\"color: #ffffff\">outch</span> <span style=\"color: #0086f7; font-weight: bold\">1</span><span style=\"color: #ffffff\">,</span> <span style=\"color: #cdcaa9; font-weight: bold\">a</span><span style=\"color: #ffffff\">sig</span>\n",
       "</code></pre></div>\n"
      ],
      "text/plain": [
       "Instr(click, ifreq:5)"
      ]
     },
     "execution_count": 4,
     "metadata": {},
     "output_type": "execute_result"
    }
   ],
   "source": [
    "s.defInstr('click', r'''\n",
    "ifreq = p5\n",
    "aenv linseg 0, 0.01, 1, 0.05, 0\n",
    "asig oscili 0.1, ifreq\n",
    "asig *= aenv\n",
    "outch 1, asig\n",
    "''')"
   ]
  },
  {
   "cell_type": "code",
   "execution_count": 5,
   "id": "e81a337b-3dcc-4137-be41-3ab3bd541064",
   "metadata": {},
   "outputs": [
    {
     "data": {
      "text/html": [
       "Instr <strong style=\"color:MediumSeaGreen\">click2</strong><br>\n",
       "&nbsp&nbsp&nbsp&nbsptabargs = <code>{'ifreq': 1000.0}</code>\n",
       "<div class=\"highlight\" style=\"background: #111111\"><pre style=\"line-height: 125%;\"><span></span><code>    <span style=\"color: #008800; font-style: italic; background-color: #0f140f\">; --- start generated table code</span>\n",
       "    <span style=\"color: #cdcaa9; font-weight: bold\">i</span><span style=\"color: #ffffff\">params_</span> <span style=\"color: #ffffff\">=</span> <span style=\"color: #fb660a\">p4</span>\n",
       "    <span style=\"color: #fb660a; font-weight: bold\">if</span> <span style=\"color: #ffffff\">ftexists(</span><span style=\"color: #cdcaa9; font-weight: bold\">i</span><span style=\"color: #ffffff\">params_)</span> <span style=\"color: #ffffff\">==</span> <span style=\"color: #0086f7; font-weight: bold\">0</span> <span style=\"color: #fb660a; font-weight: bold\">then</span>\n",
       "        <span style=\"color: #cdcaa9; font-weight: bold\">i</span><span style=\"color: #ffffff\">niterror</span> <span style=\"color: #ffffff\">sprintf(</span><span style=\"color: #0086d2\">&quot;params table (%d) does not exist&quot;</span><span style=\"color: #ffffff\">,</span> <span style=\"color: #cdcaa9; font-weight: bold\">i</span><span style=\"color: #ffffff\">params_)</span>\n",
       "    <span style=\"color: #fb660a; font-weight: bold\">endif</span>\n",
       "    <span style=\"color: #cdcaa9; font-weight: bold\">i</span><span style=\"color: #ffffff\">paramslen_</span> <span style=\"color: #ffffff\">=</span> <span style=\"color: #ffffff\">ftlen(</span><span style=\"color: #cdcaa9; font-weight: bold\">i</span><span style=\"color: #ffffff\">params_)</span>\n",
       "    <span style=\"color: #fb660a; font-weight: bold\">if</span> <span style=\"color: #cdcaa9; font-weight: bold\">i</span><span style=\"color: #ffffff\">paramslen_</span> <span style=\"color: #ffffff\">&lt;</span> <span style=\"color: #0086f7; font-weight: bold\">1</span> <span style=\"color: #fb660a; font-weight: bold\">then</span>\n",
       "        <span style=\"color: #cdcaa9; font-weight: bold\">i</span><span style=\"color: #ffffff\">niterror</span> <span style=\"color: #ffffff\">sprintf(</span><span style=\"color: #0086d2\">&quot;params table too small (size: %d, needed: 1)&quot;</span><span style=\"color: #ffffff\">,</span> <span style=\"color: #cdcaa9; font-weight: bold\">i</span><span style=\"color: #ffffff\">paramslen_)</span>\n",
       "    <span style=\"color: #fb660a; font-weight: bold\">endif</span>\n",
       "    <span style=\"color: #cdcaa9; font-weight: bold\">i</span><span style=\"color: #ffffff\">freq</span> <span style=\"color: #ffffff\">tab_i</span> <span style=\"color: #0086f7; font-weight: bold\">0</span><span style=\"color: #ffffff\">,</span> <span style=\"color: #cdcaa9; font-weight: bold\">i</span><span style=\"color: #ffffff\">params_</span>\n",
       "    <span style=\"color: #ffffff\">ftfree</span> <span style=\"color: #cdcaa9; font-weight: bold\">i</span><span style=\"color: #ffffff\">params_,</span> <span style=\"color: #0086f7; font-weight: bold\">1</span>\n",
       "    <span style=\"color: #008800; font-style: italic; background-color: #0f140f\">; --- end generated table code</span>\n",
       "    <span style=\"color: #008800; font-style: italic; background-color: #0f140f\">; ifreq = p5</span>\n",
       "    <span style=\"color: #cdcaa9; font-weight: bold\">a</span><span style=\"color: #ffffff\">env</span> <span style=\"color: #ffffff\">linseg</span> <span style=\"color: #0086f7; font-weight: bold\">0</span><span style=\"color: #ffffff\">,</span> <span style=\"color: #0086f7; font-weight: bold\">0.01</span><span style=\"color: #ffffff\">,</span> <span style=\"color: #0086f7; font-weight: bold\">1</span><span style=\"color: #ffffff\">,</span> <span style=\"color: #0086f7; font-weight: bold\">0.05</span><span style=\"color: #ffffff\">,</span> <span style=\"color: #0086f7; font-weight: bold\">0</span>\n",
       "    <span style=\"color: #cdcaa9; font-weight: bold\">a</span><span style=\"color: #ffffff\">sig</span> <span style=\"color: #ffffff\">oscili</span> <span style=\"color: #0086f7; font-weight: bold\">0.1</span><span style=\"color: #ffffff\">,</span> <span style=\"color: #cdcaa9; font-weight: bold\">i</span><span style=\"color: #ffffff\">freq</span>\n",
       "    <span style=\"color: #cdcaa9; font-weight: bold\">a</span><span style=\"color: #ffffff\">sig</span> <span style=\"color: #ffffff\">*=</span> <span style=\"color: #cdcaa9; font-weight: bold\">a</span><span style=\"color: #ffffff\">env</span>\n",
       "    <span style=\"color: #ffffff\">outch</span> <span style=\"color: #0086f7; font-weight: bold\">1</span><span style=\"color: #ffffff\">,</span> <span style=\"color: #cdcaa9; font-weight: bold\">a</span><span style=\"color: #ffffff\">sig</span>\n",
       "</code></pre></div>\n"
      ],
      "text/plain": [
       "Instr(click2, tabargs={'ifreq': 1000.0})"
      ]
     },
     "execution_count": 5,
     "metadata": {},
     "output_type": "execute_result"
    }
   ],
   "source": [
    "s.defInstr('click2', r'''\n",
    "{ifreq=1000}\n",
    "; ifreq = p5\n",
    "aenv linseg 0, 0.01, 1, 0.05, 0\n",
    "asig oscili 0.1, ifreq\n",
    "asig *= aenv\n",
    "outch 1, asig\n",
    "''')"
   ]
  },
  {
   "cell_type": "code",
   "execution_count": 10,
   "id": "7fb6f7b5-01b0-4e98-b5ef-d3d14f140815",
   "metadata": {},
   "outputs": [
    {
     "name": "stdout",
     "output_type": "stream",
     "text": [
      "Exiting python, closing all active engines\n",
      "... stopping engine0\n"
     ]
    }
   ],
   "source": [
    "for i, t in enumerate(frange(0, 10, 0.15)):\n",
    "    s.sched('click', t, 0.2, ifreq=1000)\n",
    "    s.sched('click', t, 0.2, ifreq=400)\n",
    "    s.sched('click', t, 0.2, ifreq=1100)\n",
    "    s.sched('click', t, 0.2, ifreq=2200)\n",
    "    "
   ]
  },
  {
   "cell_type": "code",
   "execution_count": 7,
   "id": "4fd390c6-c979-466f-bf74-c2daf8b49403",
   "metadata": {},
   "outputs": [],
   "source": [
    "s.engine.lockElapsedTime()\n",
    "for i, t in enumerate(frange(0, 10, 0.15)):\n",
    "    s.sched('click2', t, 0.2, tabargs={'ifreq': 1000})\n",
    "    s.sched('click2', t, 0.2, tabargs={'ifreq': 400})\n",
    "    s.sched('click2', t, 0.2, tabargs={'ifreq': 1100})\n",
    "    s.sched('click2', t, 0.2, tabargs={'ifreq': 2200})\n",
    "s.engine.lockElapsedTime(False)"
   ]
  },
  {
   "cell_type": "code",
   "execution_count": 8,
   "id": "86426fd4-582c-4816-a454-5b1c538815b8",
   "metadata": {},
   "outputs": [],
   "source": [
    "with s.engine.lockedElapsedTime():\n",
    "    for i, t in enumerate(frange(0, 10, 0.15)):\n",
    "        s.sched('click2', t, 0.2, tabargs={'ifreq': 1000})\n",
    "        s.sched('click2', t, 0.2, tabargs={'ifreq': 400})\n",
    "        s.sched('click2', t, 0.2, tabargs={'ifreq': 1100})\n",
    "        s.sched('click2', t, 0.2, tabargs={'ifreq': 2200})\n"
   ]
  },
  {
   "cell_type": "code",
   "execution_count": 9,
   "id": "e749c986-b298-439c-a66b-585602f57d53",
   "metadata": {},
   "outputs": [],
   "source": [
    "t0 = s.engine.elapsedTime()\n",
    "for i, t in enumerate(frange(0, 10, 0.15)):\n",
    "    s.sched('click2', t0+t, 0.2, tabargs={'ifreq': 1000}, relative=False)\n",
    "    s.sched('click2', t0+t, 0.2, tabargs={'ifreq': 400}, relative=False)\n",
    "    s.sched('click2', t0+t, 0.2, tabargs={'ifreq': 1100}, relative=False)\n",
    "    s.sched('click2', t0+t, 0.2, tabargs={'ifreq': 2200}, relative=False)\n",
    "    "
   ]
  },
  {
   "cell_type": "code",
   "execution_count": 25,
   "id": "5117d90f-dacf-413e-a6b8-2157d0142cd1",
   "metadata": {},
   "outputs": [
    {
     "name": "stdout",
     "output_type": "stream",
     "text": [
      "806 ns ± 3.29 ns per loop (mean ± std. dev. of 7 runs, 1000000 loops each)\n"
     ]
    }
   ],
   "source": [
    "%timeit s.engine.csound.currentTimeSamples() # /s.engine.sr, s.engine.elapsedTime()"
   ]
  },
  {
   "cell_type": "code",
   "execution_count": 12,
   "id": "5073ec92-6e06-4b35-a7a0-d71147c89459",
   "metadata": {},
   "outputs": [
    {
     "data": {
      "text/plain": [
       "48000"
      ]
     },
     "execution_count": 12,
     "metadata": {},
     "output_type": "execute_result"
    }
   ],
   "source": [
    "s.engine.sr"
   ]
  },
  {
   "cell_type": "code",
   "execution_count": null,
   "id": "5a696a02-9ca4-462c-9c0a-1f550bd86ffb",
   "metadata": {},
   "outputs": [],
   "source": []
  }
 ],
 "metadata": {
  "kernelspec": {
   "display_name": "Python 3",
   "language": "python",
   "name": "python3"
  },
  "language_info": {
   "codemirror_mode": {
    "name": "ipython",
    "version": 3
   },
   "file_extension": ".py",
   "mimetype": "text/x-python",
   "name": "python",
   "nbconvert_exporter": "python",
   "pygments_lexer": "ipython3",
   "version": "3.9.5"
  }
 },
 "nbformat": 4,
 "nbformat_minor": 5
}
